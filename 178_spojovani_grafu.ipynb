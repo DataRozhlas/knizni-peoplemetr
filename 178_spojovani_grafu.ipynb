{
 "cells": [
  {
   "cell_type": "code",
   "execution_count": 1,
   "id": "6d9ef09e-f609-48cb-93dd-a9c473663c41",
   "metadata": {},
   "outputs": [],
   "source": [
    "import os\n",
    "import datetime\n",
    "import warnings\n",
    "import polars as pl\n",
    "import pandas as pd\n",
    "import altair as alt\n",
    "\n",
    "from src.najdi_rok import najdi_rok\n",
    "from src.pocet_stran import pocet_stran\n",
    "from src.bez_bordelu import bez_bordelu\n",
    "from src.alt_friendly import alt_friendly\n",
    "from src.hezke_jmeno import hezke_jmeno\n",
    "from src.kristi_promin import kristi_promin\n",
    "\n",
    "pl.Config(tbl_rows=100)\n",
    "alt.data_transformers.disable_max_rows()\n",
    "alt.themes.register('irozhlas', kristi_promin)\n",
    "alt.themes.enable('irozhlas')\n",
    "warnings.filterwarnings('ignore')"
   ]
  },
  {
   "cell_type": "code",
   "execution_count": 3,
   "id": "a2358bc6-e7db-4744-abe8-414fe72f24cf",
   "metadata": {},
   "outputs": [
    {
     "name": "stdout",
     "output_type": "stream",
     "text": [
      "716789\n",
      "705921\n"
     ]
    }
   ],
   "source": [
    "df = pl.read_parquet(os.path.join(\"data/cnb_sloupce\",\"100.parquet\"))\n",
    "df = df.join(pl.read_parquet(os.path.join(\"data/cnb_sloupce\",\"leader.parquet\")), left_on=\"001\", right_on=\"001\", how=\"left\")\n",
    "df = df.join(pl.read_parquet(os.path.join(\"data/cnb_sloupce\",\"008.parquet\")), left_on=\"001\", right_on=\"001\", how=\"left\")\n",
    "df = df.to_pandas()\n",
    "df = df[df[\"leader\"].str[6].isin([\"a\", \"t\"])]\n",
    "df = df[~df[\"leader\"].str[7].isin([\"b\", \"i\", \"s\", \" \"])]\n",
    "df = df[(df[\"008\"].str[15:17] == \"xr\") & (df[\"008\"].str[35:38] == \"cze\")]\n",
    "df = pl.from_pandas(df)\n",
    "df = df.join(pl.read_parquet(os.path.join(\"data/cnb_sloupce\",\"020.parquet\")), left_on=\"001\", right_on=\"001\", how=\"left\")\n",
    "df = df.join(pl.read_parquet(os.path.join(\"data/cnb_sloupce\",\"022.parquet\")), left_on=\"001\", right_on=\"001\", how=\"left\")\n",
    "df = df.join(pl.read_parquet(os.path.join(\"data/cnb_sloupce\",\"245.parquet\")), left_on=\"001\", right_on=\"001\", how=\"left\")\n",
    "df = df.join(pl.read_parquet(os.path.join(\"data/cnb_sloupce\",\"300.parquet\")), left_on=\"001\", right_on=\"001\", how=\"left\")\n",
    "df = df.join(pl.read_parquet(os.path.join(\"data/cnb_sloupce\",\"655.parquet\")), left_on=\"001\", right_on=\"001\", how=\"left\")\n",
    "df = df.join(pl.read_parquet(os.path.join(\"data/cnb_sloupce\",\"700.parquet\")), left_on=\"001\", right_on=\"001\", how=\"left\")\n",
    "df = df.explode(\"022_a\").filter(pl.col(\"022_a\").is_null())\n",
    "df = df.with_columns(pl.col('008').map_elements(najdi_rok, return_dtype=int).alias('rok'))\n",
    "df = df.with_columns(pl.col('300_a').map_elements(pocet_stran, return_dtype=int).alias('stran'))\n",
    "df = df.with_columns(pl.col('245_a').map_elements(bez_bordelu, return_dtype=str))\n",
    "df = df.explode('245_p').with_columns(pl.col('245_p').map_elements(bez_bordelu, return_dtype=str))\n",
    "print(len(df))\n",
    "df = df.filter(pl.col(\"rok\") >= 1800)\n",
    "\n",
    "df = df.filter((~pl.col(\"245_h\").str.contains(\"grafika\")) | pl.col(\"245_h\").is_null()).unique(subset=[\"008\",\"100_a\",\"245_a\",\"245_p\"], keep=\"first\")\n",
    "print(len(df))"
   ]
  },
  {
   "cell_type": "code",
   "execution_count": 4,
   "id": "79751b38-58cf-4037-b536-1df677f80463",
   "metadata": {},
   "outputs": [],
   "source": [
    "df = df.filter(pl.col(\"stran\") >= 30)"
   ]
  },
  {
   "cell_type": "code",
   "execution_count": 5,
   "id": "d05bd9b7-4008-4bf0-8880-85e1e7f461e1",
   "metadata": {},
   "outputs": [
    {
     "data": {
      "text/plain": [
       "364420"
      ]
     },
     "execution_count": 5,
     "metadata": {},
     "output_type": "execute_result"
    }
   ],
   "source": [
    "aut = pl.read_parquet(os.path.join(\"data\",\"aut_vyber.parquet\"))\n",
    "cesi = aut.explode(\"370_c\").filter(pl.col(\"370_c\").str.contains(\"Česk\")).explode(\"100_7\").select(pl.col(\"100_7\")).to_series().to_list()\n",
    "len(cesi)"
   ]
  },
  {
   "cell_type": "code",
   "execution_count": 6,
   "id": "9f89a6be-7d2c-4540-a620-2e7bdf0126af",
   "metadata": {},
   "outputs": [],
   "source": [
    "vek = pl.read_parquet(os.path.join(\"data\",\"narozeni-umrti-gender.parquet\"))\n",
    "df = df.join(vek, on=\"100_7\", how=\"left\").with_columns((pl.col(\"rok\") - pl.col(\"narozeni\")).alias(\"vek\"))"
   ]
  },
  {
   "cell_type": "code",
   "execution_count": 9,
   "id": "edbc2b0b-c622-47bf-84a9-d0ecaf84f914",
   "metadata": {},
   "outputs": [],
   "source": [
    "df_100 = pl.read_parquet(os.path.join(\"data\",\"podil_autorstva_s_pauzou.parquet\")).with_columns(pl.col(\"rok\").map_elements(lambda x: x.year)).filter(pl.col(\"rok\").is_between(1910,1990)).with_columns(pl.col(\"podil_cechu_15\").map_elements(lambda x: round(x, 3)))\n",
    "df_koncici = pl.read_parquet(os.path.join('data','podily_konciciho_autorstva_cs.parquet'))"
   ]
  },
  {
   "cell_type": "code",
   "execution_count": 11,
   "id": "09f5e96f-340d-4180-bd62-9f5846932261",
   "metadata": {},
   "outputs": [
    {
     "data": {
      "text/html": [
       "\n",
       "<style>\n",
       "  #altair-viz-56784c0fed0b4df4baad1cdaa30e113f.vega-embed {\n",
       "    width: 100%;\n",
       "    display: flex;\n",
       "  }\n",
       "\n",
       "  #altair-viz-56784c0fed0b4df4baad1cdaa30e113f.vega-embed details,\n",
       "  #altair-viz-56784c0fed0b4df4baad1cdaa30e113f.vega-embed details summary {\n",
       "    position: relative;\n",
       "  }\n",
       "</style>\n",
       "<div id=\"altair-viz-56784c0fed0b4df4baad1cdaa30e113f\"></div>\n",
       "<script type=\"text/javascript\">\n",
       "  var VEGA_DEBUG = (typeof VEGA_DEBUG == \"undefined\") ? {} : VEGA_DEBUG;\n",
       "  (function(spec, embedOpt){\n",
       "    let outputDiv = document.currentScript.previousElementSibling;\n",
       "    if (outputDiv.id !== \"altair-viz-56784c0fed0b4df4baad1cdaa30e113f\") {\n",
       "      outputDiv = document.getElementById(\"altair-viz-56784c0fed0b4df4baad1cdaa30e113f\");\n",
       "    }\n",
       "    const paths = {\n",
       "      \"vega\": \"https://cdn.jsdelivr.net/npm/vega@5?noext\",\n",
       "      \"vega-lib\": \"https://cdn.jsdelivr.net/npm/vega-lib?noext\",\n",
       "      \"vega-lite\": \"https://cdn.jsdelivr.net/npm/vega-lite@5.8.0?noext\",\n",
       "      \"vega-embed\": \"https://cdn.jsdelivr.net/npm/vega-embed@6?noext\",\n",
       "    };\n",
       "\n",
       "    function maybeLoadScript(lib, version) {\n",
       "      var key = `${lib.replace(\"-\", \"\")}_version`;\n",
       "      return (VEGA_DEBUG[key] == version) ?\n",
       "        Promise.resolve(paths[lib]) :\n",
       "        new Promise(function(resolve, reject) {\n",
       "          var s = document.createElement('script');\n",
       "          document.getElementsByTagName(\"head\")[0].appendChild(s);\n",
       "          s.async = true;\n",
       "          s.onload = () => {\n",
       "            VEGA_DEBUG[key] = version;\n",
       "            return resolve(paths[lib]);\n",
       "          };\n",
       "          s.onerror = () => reject(`Error loading script: ${paths[lib]}`);\n",
       "          s.src = paths[lib];\n",
       "        });\n",
       "    }\n",
       "\n",
       "    function showError(err) {\n",
       "      outputDiv.innerHTML = `<div class=\"error\" style=\"color:red;\">${err}</div>`;\n",
       "      throw err;\n",
       "    }\n",
       "\n",
       "    function displayChart(vegaEmbed) {\n",
       "      vegaEmbed(outputDiv, spec, embedOpt)\n",
       "        .catch(err => showError(`Javascript Error: ${err.message}<br>This usually means there's a typo in your chart specification. See the javascript console for the full traceback.`));\n",
       "    }\n",
       "\n",
       "    if(typeof define === \"function\" && define.amd) {\n",
       "      requirejs.config({paths});\n",
       "      require([\"vega-embed\"], displayChart, err => showError(`Error loading script: ${err.message}`));\n",
       "    } else {\n",
       "      maybeLoadScript(\"vega\", \"5\")\n",
       "        .then(() => maybeLoadScript(\"vega-lite\", \"5.8.0\"))\n",
       "        .then(() => maybeLoadScript(\"vega-embed\", \"6\"))\n",
       "        .catch(showError)\n",
       "        .then(() => displayChart(vegaEmbed));\n",
       "    }\n",
       "  })({\"config\": {\"title\": {\"font\": \"Noticia Text\", \"fontSize\": 14, \"anchor\": \"start\", \"lineHeight\": 21, \"fontWeight\": \"bolder\", \"subtitleFont\": \"Noticia Text\", \"subtitleFontSize\": 12, \"subtitlePadding\": 12, \"dy\": -12}, \"axis\": {\"labelFont\": \"Asap\", \"titleFont\": \"Asap\", \"fontWeight\": \"lighter\", \"titleFontWeight\": \"lighter\", \"labelFontSize\": 10, \"titleFontSize\": 10, \"labelPadding\": 2, \"titlePadding\": 10, \"domainOpacity\": 0, \"tickColor\": \"#DCDDD6\"}, \"legend\": {\"labelFont\": \"Asap\", \"labelFontWeight\": \"normal\", \"titleFont\": \"Asap\", \"titleFontWeight\": \"normal\", \"labelFontSize\": 10, \"titleFontSize\": 10}}, \"layer\": [{\"data\": {\"name\": \"data-345391a89889cdf0ede56ff5455bfd16\"}, \"mark\": {\"type\": \"area\", \"color\": \"#E09DA3\"}, \"encoding\": {\"x\": {\"axis\": {\"domainOpacity\": 0, \"tickColor\": \"#DCDDD6\"}, \"field\": \"rok\", \"title\": null, \"type\": \"temporal\"}, \"y\": {\"axis\": {\"domainOpacity\": 0, \"labelExpr\": \"datum.label * 100 + ' %'\", \"orient\": \"right\", \"tickColor\": \"#DCDDD6\", \"tickCount\": 3}, \"field\": \"podil_cechu_10\", \"scale\": {\"domain\": [0, 0.25]}, \"title\": null, \"type\": \"quantitative\"}}, \"title\": {\"text\": \"\\u2026a jak velk\\u00e1 se odml\\u010dela na 10 a v\\u00edce let\"}}, {\"data\": {\"values\": [{\"rok\": \"1948-02-25\"}]}, \"mark\": {\"type\": \"rule\", \"color\": \"#81A9D5\", \"strokeDash\": [4, 4]}, \"encoding\": {\"x\": {\"field\": \"rok\", \"type\": \"temporal\"}}}, {\"data\": {\"values\": [{\"rok\": \"1948-02-25\", \"y\": 0.2}]}, \"mark\": {\"type\": \"text\", \"align\": \"right\", \"baseline\": \"middle\", \"dx\": -8, \"dy\": 15, \"font\": \"Asap\", \"text\": [\"komunistick\\u00fd\", \"p\\u0159evrat\"]}, \"encoding\": {\"x\": {\"field\": \"rok\", \"type\": \"temporal\"}, \"y\": {\"value\": 0}}}, {\"data\": {\"values\": [{\"rok\": \"1968-08-21\"}]}, \"mark\": {\"type\": \"rule\", \"color\": \"#81A9D5\", \"strokeDash\": [4, 4]}, \"encoding\": {\"x\": {\"field\": \"rok\", \"type\": \"temporal\"}}}, {\"data\": {\"values\": [{\"rok\": \"1968-08-21\", \"y\": 0.2}]}, \"mark\": {\"type\": \"text\", \"align\": \"left\", \"baseline\": \"middle\", \"dx\": 8, \"dy\": 15, \"font\": \"Asap\", \"text\": [\"srpnov\\u00e1\", \"okupace\"]}, \"encoding\": {\"x\": {\"field\": \"rok\", \"type\": \"temporal\"}, \"y\": {\"value\": 0}}}], \"width\": 300, \"$schema\": \"https://vega.github.io/schema/vega-lite/v5.8.0.json\", \"datasets\": {\"data-345391a89889cdf0ede56ff5455bfd16\": [{\"rok\": \"1910-01-01T00:00:00\", \"podil_vsech_5\": 0.15759312320916904, \"podil_cechu_5\": 0.1565975353171025, \"podil_vsech_10\": 0.08856473039854129, \"podil_cechu_10\": 0.08746618575293057, \"podil_vsech_15\": 0.038812190674654856, \"podil_cechu_15\": 0.036, \"podil_vsech_20\": 0.016931492576191715, \"podil_cechu_20\": 0.015930267508265705}, {\"rok\": \"1911-01-01T00:00:00\", \"podil_vsech_5\": 0.17355371900826447, \"podil_cechu_5\": 0.1717171717171717, \"podil_vsech_10\": 0.08740295517155021, \"podil_cechu_10\": 0.086002886002886, \"podil_vsech_15\": 0.03481091910843977, \"podil_cechu_15\": 0.032, \"podil_vsech_20\": 0.016028049085900324, \"podil_cechu_20\": 0.015007215007215007}, {\"rok\": \"1912-01-01T00:00:00\", \"podil_vsech_5\": 0.1872577519379845, \"podil_cechu_5\": 0.18674867207156837, \"podil_vsech_10\": 0.08139534883720931, \"podil_cechu_10\": 0.07995526977914454, \"podil_vsech_15\": 0.03391472868217054, \"podil_cechu_15\": 0.033, \"podil_vsech_20\": 0.01744186046511628, \"podil_cechu_20\": 0.016773832820799552}, {\"rok\": \"1913-01-01T00:00:00\", \"podil_vsech_5\": 0.20667912190565157, \"podil_cechu_5\": 0.20559741657696448, \"podil_vsech_10\": 0.0824381130312938, \"podil_cechu_10\": 0.08019375672766416, \"podil_vsech_15\": 0.032227930873423634, \"podil_cechu_15\": 0.031, \"podil_vsech_20\": 0.018449322746380198, \"podil_cechu_20\": 0.018030139935414424}, {\"rok\": \"1914-01-01T00:00:00\", \"podil_vsech_5\": 0.20822970834275378, \"podil_cechu_5\": 0.20910273081924577, \"podil_vsech_10\": 0.07709699299118246, \"podil_cechu_10\": 0.07386215864759428, \"podil_vsech_15\": 0.030974451729595297, \"podil_cechu_15\": 0.03, \"podil_vsech_20\": 0.018313361971512548, \"podil_cechu_20\": 0.017685305591677504}, {\"rok\": \"1915-01-01T00:00:00\", \"podil_vsech_5\": 0.1931843328169949, \"podil_cechu_5\": 0.19649211997966445, \"podil_vsech_10\": 0.06970568709891568, \"podil_cechu_10\": 0.06710726995424504, \"podil_vsech_15\": 0.02943129010843107, \"podil_cechu_15\": 0.029, \"podil_vsech_20\": 0.01681788006196061, \"podil_cechu_20\": 0.01626842907981698}, {\"rok\": \"1916-01-01T00:00:00\", \"podil_vsech_5\": 0.16964675098124726, \"podil_cechu_5\": 0.17167167167167166, \"podil_vsech_10\": 0.06105538595726123, \"podil_cechu_10\": 0.05905905905905906, \"podil_vsech_15\": 0.029001308329699084, \"podil_cechu_15\": 0.03, \"podil_vsech_20\": 0.015045791539467945, \"podil_cechu_20\": 0.014514514514514515}, {\"rok\": \"1917-01-01T00:00:00\", \"podil_vsech_5\": 0.14484381685922124, \"podil_cechu_5\": 0.14604810996563575, \"podil_vsech_10\": 0.05626872058194266, \"podil_cechu_10\": 0.05547373588610702, \"podil_vsech_15\": 0.028027385537013266, \"podil_cechu_15\": 0.028, \"podil_vsech_20\": 0.013478818998716302, \"podil_cechu_20\": 0.013009327442317134}, {\"rok\": \"1918-01-01T00:00:00\", \"podil_vsech_5\": 0.1285444234404537, \"podil_cechu_5\": 0.1280693307655272, \"podil_vsech_10\": 0.04914933837429111, \"podil_cechu_10\": 0.05007221954742417, \"podil_vsech_15\": 0.024154589371980676, \"podil_cechu_15\": 0.024, \"podil_vsech_20\": 0.011342155009451797, \"podil_cechu_20\": 0.01059220028887819}, {\"rok\": \"1919-01-01T00:00:00\", \"podil_vsech_5\": 0.11386138613861387, \"podil_cechu_5\": 0.11176748582230624, \"podil_vsech_10\": 0.04393564356435643, \"podil_cechu_10\": 0.04465973534971645, \"podil_vsech_15\": 0.022896039603960396, \"podil_cechu_15\": 0.023, \"podil_vsech_20\": 0.010726072607260726, \"podil_cechu_20\": 0.00992438563327032}, {\"rok\": \"1920-01-01T00:00:00\", \"podil_vsech_5\": 0.1066402378592666, \"podil_cechu_5\": 0.10591970968473577, \"podil_vsech_10\": 0.04321110009910803, \"podil_cechu_10\": 0.04422771603538217, \"podil_vsech_15\": 0.02319127849355798, \"podil_cechu_15\": 0.023, \"podil_vsech_20\": 0.01110009910802775, \"podil_cechu_20\": 0.010433204808346563}, {\"rok\": \"1921-01-01T00:00:00\", \"podil_vsech_5\": 0.10464454976303318, \"podil_cechu_5\": 0.10374702187567685, \"podil_vsech_10\": 0.043601895734597156, \"podil_cechu_10\": 0.04461771713233702, \"podil_vsech_15\": 0.0214218009478673, \"podil_cechu_15\": 0.021, \"podil_vsech_20\": 0.010236966824644549, \"podil_cechu_20\": 0.010179770413688543}, {\"rok\": \"1922-01-01T00:00:00\", \"podil_vsech_5\": 0.10308901480533723, \"podil_cechu_5\": 0.1031679866611088, \"podil_vsech_10\": 0.042953756168890515, \"podil_cechu_10\": 0.04335139641517299, \"podil_vsech_15\": 0.020106013525863643, \"podil_cechu_15\": 0.02, \"podil_vsech_20\": 0.010601352586364467, \"podil_cechu_20\": 0.010837849103793247}, {\"rok\": \"1923-01-01T00:00:00\", \"podil_vsech_5\": 0.10035149384885765, \"podil_cechu_5\": 0.1032, \"podil_vsech_10\": 0.04305799648506151, \"podil_cechu_10\": 0.044, \"podil_vsech_15\": 0.01845342706502636, \"podil_cechu_15\": 0.018, \"podil_vsech_20\": 0.01124780316344464, \"podil_cechu_20\": 0.0116}, {\"rok\": \"1924-01-01T00:00:00\", \"podil_vsech_5\": 0.09942606347062795, \"podil_cechu_5\": 0.10268714011516315, \"podil_vsech_10\": 0.045408507765023635, \"podil_cechu_10\": 0.04625719769673704, \"podil_vsech_15\": 0.018399729912221472, \"podil_cechu_15\": 0.019, \"podil_vsech_20\": 0.011816340310600946, \"podil_cechu_20\": 0.012092130518234165}, {\"rok\": \"1925-01-01T00:00:00\", \"podil_vsech_5\": 0.10093820769977353, \"podil_cechu_5\": 0.10402499540525639, \"podil_vsech_10\": 0.04723390488515044, \"podil_cechu_10\": 0.04796912332291858, \"podil_vsech_15\": 0.019411193788417987, \"podil_cechu_15\": 0.019, \"podil_vsech_20\": 0.012293756065998059, \"podil_cechu_20\": 0.012313912883661092}, {\"rok\": \"1926-01-01T00:00:00\", \"podil_vsech_5\": 0.1047973917093619, \"podil_cechu_5\": 0.10975393875022128, \"podil_vsech_10\": 0.0464213631423692, \"podil_cechu_10\": 0.04797309258275801, \"podil_vsech_15\": 0.019562179785747556, \"podil_cechu_15\": 0.02, \"podil_vsech_20\": 0.012575687005123428, \"podil_cechu_20\": 0.012391573729863693}, {\"rok\": \"1927-01-01T00:00:00\", \"podil_vsech_5\": 0.10999550427094261, \"podil_cechu_5\": 0.11352739726027397, \"podil_vsech_10\": 0.044208002397722164, \"podil_cechu_10\": 0.04503424657534247, \"podil_vsech_15\": 0.021879214745991308, \"podil_cechu_15\": 0.022, \"podil_vsech_20\": 0.010939607372995654, \"podil_cechu_20\": 0.010273972602739725}, {\"rok\": \"1928-01-01T00:00:00\", \"podil_vsech_5\": 0.1105476673427992, \"podil_cechu_5\": 0.11384002655160969, \"podil_vsech_10\": 0.04172703564184294, \"podil_cechu_10\": 0.04181878526385662, \"podil_vsech_15\": 0.02434077079107505, \"podil_cechu_15\": 0.024, \"podil_vsech_20\": 0.011301072152999131, \"podil_cechu_20\": 0.010288748755393295}, {\"rok\": \"1929-01-01T00:00:00\", \"podil_vsech_5\": 0.1109704641350211, \"podil_cechu_5\": 0.11290322580645161, \"podil_vsech_10\": 0.04064697609001407, \"podil_cechu_10\": 0.04064516129032258, \"podil_vsech_15\": 0.02630098452883263, \"podil_cechu_15\": 0.026, \"podil_vsech_20\": 0.011533052039381153, \"podil_cechu_20\": 0.01032258064516129}, {\"rok\": \"1930-01-01T00:00:00\", \"podil_vsech_5\": 0.10900925421883506, \"podil_cechu_5\": 0.11005158668125684, \"podil_vsech_10\": 0.0409635274904736, \"podil_cechu_10\": 0.04033140534625606, \"podil_vsech_15\": 0.027218290691344585, \"podil_cechu_15\": 0.026, \"podil_vsech_20\": 0.012248230811105062, \"podil_cechu_20\": 0.011255275910583085}, {\"rok\": \"1931-01-01T00:00:00\", \"podil_vsech_5\": 0.10432033719704953, \"podil_cechu_5\": 0.10531898772541294, \"podil_vsech_10\": 0.04386195995785037, \"podil_cechu_10\": 0.04288528564934081, \"podil_vsech_15\": 0.02713382507903056, \"podil_cechu_15\": 0.025, \"podil_vsech_20\": 0.014093782929399367, \"podil_cechu_20\": 0.01272920139415063}, {\"rok\": \"1932-01-01T00:00:00\", \"podil_vsech_5\": 0.09845090257329407, \"podil_cechu_5\": 0.09870359457866824, \"podil_vsech_10\": 0.0483932915119703, \"podil_cechu_10\": 0.047436652916912195, \"podil_vsech_15\": 0.023812572013826656, \"podil_cechu_15\": 0.022, \"podil_vsech_20\": 0.013954679298425298, \"podil_cechu_20\": 0.01296405421331762}, {\"rok\": \"1933-01-01T00:00:00\", \"podil_vsech_5\": 0.09480616302186878, \"podil_cechu_5\": 0.0953129465561589, \"podil_vsech_10\": 0.05206262425447316, \"podil_cechu_10\": 0.05115747356387539, \"podil_vsech_15\": 0.02286282306163022, \"podil_cechu_15\": 0.021, \"podil_vsech_20\": 0.013170974155069582, \"podil_cechu_20\": 0.012146327522149185}, {\"rok\": \"1934-01-01T00:00:00\", \"podil_vsech_5\": 0.09505381545531504, \"podil_cechu_5\": 0.09663515016685206, \"podil_vsech_10\": 0.056475994678921275, \"podil_cechu_10\": 0.05603448275862069, \"podil_vsech_15\": 0.023944854275003022, \"podil_cechu_15\": 0.022, \"podil_vsech_20\": 0.013786431249244165, \"podil_cechu_20\": 0.012791991101223582}, {\"rok\": \"1935-01-01T00:00:00\", \"podil_vsech_5\": 0.09154099905749292, \"podil_cechu_5\": 0.09274576271186441, \"podil_vsech_10\": 0.05678605089538172, \"podil_cechu_10\": 0.055728813559322035, \"podil_vsech_15\": 0.024151743638077285, \"podil_cechu_15\": 0.023, \"podil_vsech_20\": 0.014255419415645617, \"podil_cechu_20\": 0.012745762711864407}, {\"rok\": \"1936-01-01T00:00:00\", \"podil_vsech_5\": 0.09157677300895112, \"podil_cechu_5\": 0.09090909090909091, \"podil_vsech_10\": 0.05485425751663989, \"podil_cechu_10\": 0.05279872965462485, \"podil_vsech_15\": 0.024787697957310076, \"podil_cechu_15\": 0.023, \"podil_vsech_20\": 0.01514803764057838, \"podil_cechu_20\": 0.013232764324467381}, {\"rok\": \"1937-01-01T00:00:00\", \"podil_vsech_5\": 0.10418293363078639, \"podil_cechu_5\": 0.10259054001804356, \"podil_vsech_10\": 0.047406581148912434, \"podil_cechu_10\": 0.0447222580229411, \"podil_vsech_15\": 0.024762967094255437, \"podil_cechu_15\": 0.023, \"podil_vsech_20\": 0.0158393753485778, \"podil_cechu_20\": 0.01391931949993556}, {\"rok\": \"1938-01-01T00:00:00\", \"podil_vsech_5\": 0.12369109947643979, \"podil_cechu_5\": 0.11962145110410094, \"podil_vsech_10\": 0.044829842931937175, \"podil_cechu_10\": 0.041261829652996844, \"podil_vsech_15\": 0.024978184991273997, \"podil_cechu_15\": 0.023, \"podil_vsech_20\": 0.01614310645724258, \"podil_cechu_20\": 0.0138801261829653}, {\"rok\": \"1939-01-01T00:00:00\", \"podil_vsech_5\": 0.14528907922912204, \"podil_cechu_5\": 0.13999008919722497, \"podil_vsech_10\": 0.04614561027837259, \"podil_cechu_10\": 0.04236868186323092, \"podil_vsech_15\": 0.02676659528907923, \"podil_cechu_15\": 0.024, \"podil_vsech_20\": 0.01670235546038544, \"podil_cechu_20\": 0.014494549058473737}, {\"rok\": \"1940-01-01T00:00:00\", \"podil_vsech_5\": 0.14618711106423374, \"podil_cechu_5\": 0.14067651727927707, \"podil_vsech_10\": 0.04598671026263052, \"podil_cechu_10\": 0.043595066552692636, \"podil_vsech_15\": 0.02721231937559329, \"podil_cechu_15\": 0.024, \"podil_vsech_20\": 0.01687585697711212, \"podil_cechu_20\": 0.01465380388325803}, {\"rok\": \"1941-01-01T00:00:00\", \"podil_vsech_5\": 0.12596242685555897, \"podil_cechu_5\": 0.1225944404846757, \"podil_vsech_10\": 0.04629914793142388, \"podil_cechu_10\": 0.04442860536944643, \"podil_vsech_15\": 0.027204599117133764, \"podil_cechu_15\": 0.024, \"podil_vsech_20\": 0.017452006980802792, \"podil_cechu_20\": 0.015205511998099311}, {\"rok\": \"1942-01-01T00:00:00\", \"podil_vsech_5\": 0.09727117108045515, \"podil_cechu_5\": 0.09413274233057273, \"podil_vsech_10\": 0.047527942805356965, \"podil_cechu_10\": 0.045841595707453636, \"podil_vsech_15\": 0.02869801631255664, \"podil_cechu_15\": 0.026, \"podil_vsech_20\": 0.018527842110562884, \"podil_cechu_20\": 0.015980403592674677}, {\"rok\": \"1943-01-01T00:00:00\", \"podil_vsech_5\": 0.07742834394904459, \"podil_cechu_5\": 0.07506053268765134, \"podil_vsech_10\": 0.04468550955414013, \"podil_cechu_10\": 0.04254583189207887, \"podil_vsech_15\": 0.026472929936305734, \"podil_cechu_15\": 0.024, \"podil_vsech_20\": 0.01771496815286624, \"podil_cechu_20\": 0.015219647180906262}, {\"rok\": \"1944-01-01T00:00:00\", \"podil_vsech_5\": 0.07121017851859157, \"podil_cechu_5\": 0.06898914905768133, \"podil_vsech_10\": 0.042213236019331295, \"podil_cechu_10\": 0.03963449457452884, \"podil_vsech_15\": 0.024460005917743367, \"podil_cechu_15\": 0.022, \"podil_vsech_20\": 0.0167669395403886, \"podil_cechu_20\": 0.014277555682467162}, {\"rok\": \"1945-01-01T00:00:00\", \"podil_vsech_5\": 0.07016687811066653, \"podil_cechu_5\": 0.0690978886756238, \"podil_vsech_10\": 0.04196350151263784, \"podil_cechu_10\": 0.03895224116518008, \"podil_vsech_15\": 0.024494974138772323, \"podil_cechu_15\": 0.022, \"podil_vsech_20\": 0.016492631989850688, \"podil_cechu_20\": 0.0142260359038049}, {\"rok\": \"1946-01-01T00:00:00\", \"podil_vsech_5\": 0.07212231945379363, \"podil_cechu_5\": 0.07200089027375918, \"podil_vsech_10\": 0.0423117607462256, \"podil_cechu_10\": 0.03961718228355219, \"podil_vsech_15\": 0.02538705644773536, \"podil_cechu_15\": 0.023, \"podil_vsech_20\": 0.017309356668910474, \"podil_cechu_20\": 0.015134653906076118}, {\"rok\": \"1947-01-01T00:00:00\", \"podil_vsech_5\": 0.08406747891283974, \"podil_cechu_5\": 0.08379463801150548, \"podil_vsech_10\": 0.04892221180880975, \"podil_cechu_10\": 0.045913383262780855, \"podil_vsech_15\": 0.029896907216494847, \"podil_cechu_15\": 0.027, \"podil_vsech_20\": 0.020243673851921273, \"podil_cechu_20\": 0.017800933463584065}, {\"rok\": \"1948-01-01T00:00:00\", \"podil_vsech_5\": 0.09724264705882353, \"podil_cechu_5\": 0.09776119402985074, \"podil_vsech_10\": 0.05386029411764706, \"podil_cechu_10\": 0.0511727078891258, \"podil_vsech_15\": 0.03419117647058824, \"podil_cechu_15\": 0.031, \"podil_vsech_20\": 0.022794117647058822, \"podil_cechu_20\": 0.02046908315565032}, {\"rok\": \"1949-01-01T00:00:00\", \"podil_vsech_5\": 0.11524631427544049, \"podil_cechu_5\": 0.11460509820309235, \"podil_vsech_10\": 0.06211794318590435, \"podil_cechu_10\": 0.058712912661930634, \"podil_vsech_15\": 0.040722761596548, \"podil_cechu_15\": 0.038, \"podil_vsech_20\": 0.02571017619561309, \"podil_cechu_20\": 0.023610530714584205}, {\"rok\": \"1950-01-01T00:00:00\", \"podil_vsech_5\": 0.11713455953533398, \"podil_cechu_5\": 0.11501334976381188, \"podil_vsech_10\": 0.060723400510428585, \"podil_cechu_10\": 0.056993222427603206, \"podil_vsech_15\": 0.040834286720056324, \"podil_cechu_15\": 0.038, \"podil_vsech_20\": 0.0234093109214116, \"podil_cechu_20\": 0.021873074553296366}, {\"rok\": \"1951-01-01T00:00:00\", \"podil_vsech_5\": 0.11202749140893471, \"podil_cechu_5\": 0.10981025433992733, \"podil_vsech_10\": 0.058762886597938144, \"podil_cechu_10\": 0.05621719822365765, \"podil_vsech_15\": 0.0390893470790378, \"podil_cechu_15\": 0.037, \"podil_vsech_20\": 0.021563573883161512, \"podil_cechu_20\": 0.02069035123132822}, {\"rok\": \"1952-01-01T00:00:00\", \"podil_vsech_5\": 0.10545271798308066, \"podil_cechu_5\": 0.10261987147800297, \"podil_vsech_10\": 0.05804506240053606, \"podil_cechu_10\": 0.0555610479485912, \"podil_vsech_15\": 0.03727280341737164, \"podil_cechu_15\": 0.035, \"podil_vsech_20\": 0.021191054527179832, \"podil_cechu_20\": 0.020266930301532378}, {\"rok\": \"1953-01-01T00:00:00\", \"podil_vsech_5\": 0.09629872256796594, \"podil_cechu_5\": 0.09322608779920535, \"podil_vsech_10\": 0.05535538814281035, \"podil_cechu_10\": 0.05252446942533191, \"podil_vsech_15\": 0.03455617425483131, \"podil_cechu_15\": 0.032, \"podil_vsech_20\": 0.02022600720602686, \"podil_cechu_20\": 0.019381723035177826}, {\"rok\": \"1954-01-01T00:00:00\", \"podil_vsech_5\": 0.09319338422391857, \"podil_cechu_5\": 0.09026798307475317, \"podil_vsech_10\": 0.05375318066157761, \"podil_cechu_10\": 0.05124588622472966, \"podil_vsech_15\": 0.03307888040712468, \"podil_cechu_15\": 0.031, \"podil_vsech_20\": 0.02075381679389313, \"podil_cechu_20\": 0.019746121297602257}, {\"rok\": \"1955-01-01T00:00:00\", \"podil_vsech_5\": 0.09571033210332103, \"podil_cechu_5\": 0.09293039295761867, \"podil_vsech_10\": 0.05588868388683887, \"podil_cechu_10\": 0.05381613576549596, \"podil_vsech_15\": 0.03267220172201722, \"podil_cechu_15\": 0.031, \"podil_vsech_20\": 0.021140836408364085, \"podil_cechu_20\": 0.020419275796351756}, {\"rok\": \"1956-01-01T00:00:00\", \"podil_vsech_5\": 0.09594564324647203, \"podil_cechu_5\": 0.09401108081962888, \"podil_vsech_10\": 0.05465541700888524, \"podil_cechu_10\": 0.052326092691935625, \"podil_vsech_15\": 0.032255655939669975, \"podil_cechu_15\": 0.031, \"podil_vsech_20\": 0.021055775405062347, \"podil_cechu_20\": 0.02057866502506376}, {\"rok\": \"1957-01-01T00:00:00\", \"podil_vsech_5\": 0.09863330681900355, \"podil_cechu_5\": 0.09846362787539258, \"podil_vsech_10\": 0.05502928628244992, \"podil_cechu_10\": 0.05339105339105339, \"podil_vsech_15\": 0.03239569021621231, \"podil_cechu_15\": 0.031, \"podil_vsech_20\": 0.020608865427724346, \"podil_cechu_20\": 0.020626432391138275}, {\"rok\": \"1958-01-01T00:00:00\", \"podil_vsech_5\": 0.09955705547352879, \"podil_cechu_5\": 0.09962096242584048, \"podil_vsech_10\": 0.05561414610138508, \"podil_cechu_10\": 0.054383651944627555, \"podil_vsech_15\": 0.03192012936792519, \"podil_cechu_15\": 0.031, \"podil_vsech_20\": 0.020811361878647263, \"podil_cechu_20\": 0.020847066578773894}, {\"rok\": \"1959-01-01T00:00:00\", \"podil_vsech_5\": 0.10162991371045062, \"podil_cechu_5\": 0.10165011214354373, \"podil_vsech_10\": 0.054513080399945214, \"podil_cechu_10\": 0.05326818327459148, \"podil_vsech_15\": 0.03177646897685248, \"podil_cechu_15\": 0.031, \"podil_vsech_20\": 0.020682098342692783, \"podil_cechu_20\": 0.021066965716116628}, {\"rok\": \"1960-01-01T00:00:00\", \"podil_vsech_5\": 0.10354675876726886, \"podil_cechu_5\": 0.10517334987977972, \"podil_vsech_10\": 0.0537327311370882, \"podil_cechu_10\": 0.05289692080974172, \"podil_vsech_15\": 0.032146652497343255, \"podil_cechu_15\": 0.032, \"podil_vsech_20\": 0.02085547290116897, \"podil_cechu_20\": 0.02148452648724114}, {\"rok\": \"1961-01-01T00:00:00\", \"podil_vsech_5\": 0.1053411506990529, \"podil_cechu_5\": 0.10617673579801623, \"podil_vsech_10\": 0.05392693769731332, \"podil_cechu_10\": 0.0528253681995792, \"podil_vsech_15\": 0.031827846143934024, \"podil_cechu_15\": 0.032, \"podil_vsech_20\": 0.02177694736163907, \"podil_cechu_20\": 0.022467688608355876}, {\"rok\": \"1962-01-01T00:00:00\", \"podil_vsech_5\": 0.10667001317688397, \"podil_cechu_5\": 0.1074561403508772, \"podil_vsech_10\": 0.05653510698374851, \"podil_cechu_10\": 0.05577485380116959, \"podil_vsech_15\": 0.032816715818535486, \"podil_cechu_15\": 0.034, \"podil_vsech_20\": 0.02252619690029491, \"podil_cechu_20\": 0.023391812865497075}, {\"rok\": \"1963-01-01T00:00:00\", \"podil_vsech_5\": 0.10857736748792565, \"podil_cechu_5\": 0.10929156283374866, \"podil_vsech_10\": 0.057100935379348294, \"podil_cechu_10\": 0.05617657529369883, \"podil_vsech_15\": 0.033991563245093843, \"podil_cechu_15\": 0.035, \"podil_vsech_20\": 0.022864828513786146, \"podil_cechu_20\": 0.02378070487718049}, {\"rok\": \"1964-01-01T00:00:00\", \"podil_vsech_5\": 0.11359437391978068, \"podil_cechu_5\": 0.11393107274114139, \"podil_vsech_10\": 0.05965790571547768, \"podil_cechu_10\": 0.058941820955550936, \"podil_vsech_15\": 0.03534179629298528, \"podil_cechu_15\": 0.036, \"podil_vsech_20\": 0.023898921270635913, \"podil_cechu_20\": 0.025032938076416336}, {\"rok\": \"1965-01-01T00:00:00\", \"podil_vsech_5\": 0.11761284318287575, \"podil_cechu_5\": 0.11721710882512182, \"podil_vsech_10\": 0.06188925081433225, \"podil_cechu_10\": 0.06192474282620466, \"podil_vsech_15\": 0.03670311772917636, \"podil_cechu_15\": 0.038, \"podil_vsech_20\": 0.0248371335504886, \"podil_cechu_20\": 0.02592041147807255}, {\"rok\": \"1966-01-01T00:00:00\", \"podil_vsech_5\": 0.11757685969199295, \"podil_cechu_5\": 0.11683076719751537, \"podil_vsech_10\": 0.06370404046144229, \"podil_cechu_10\": 0.06409832815700786, \"podil_vsech_15\": 0.03858612263453998, \"podil_cechu_15\": 0.04, \"podil_vsech_20\": 0.02568619651076888, \"podil_cechu_20\": 0.02689486552567237}, {\"rok\": \"1967-01-01T00:00:00\", \"podil_vsech_5\": 0.12109613357741165, \"podil_cechu_5\": 0.12095630880268075, \"podil_vsech_10\": 0.06590114827758363, \"podil_cechu_10\": 0.06656785668256218, \"podil_vsech_15\": 0.04099406445886725, \"podil_cechu_15\": 0.042, \"podil_vsech_20\": 0.027736173517501527, \"podil_cechu_20\": 0.02893414099755123}, {\"rok\": \"1968-01-01T00:00:00\", \"podil_vsech_5\": 0.12434754240974337, \"podil_cechu_5\": 0.12452663468821004, \"podil_vsech_10\": 0.06916050456720313, \"podil_cechu_10\": 0.0704998737692502, \"podil_vsech_15\": 0.043225315354501956, \"podil_cechu_15\": 0.045, \"podil_vsech_20\": 0.03001304915180513, \"podil_cechu_20\": 0.031178995203231506}, {\"rok\": \"1969-01-01T00:00:00\", \"podil_vsech_5\": 0.1266025641025641, \"podil_cechu_5\": 0.1276173956139264, \"podil_vsech_10\": 0.07061965811965812, \"podil_cechu_10\": 0.07254367488539215, \"podil_vsech_15\": 0.04551282051282051, \"podil_cechu_15\": 0.047, \"podil_vsech_20\": 0.032371794871794875, \"podil_cechu_20\": 0.03370090447280386}, {\"rok\": \"1970-01-01T00:00:00\", \"podil_vsech_5\": 0.130172549430954, \"podil_cechu_5\": 0.13293638738684002, \"podil_vsech_10\": 0.0725336969633398, \"podil_cechu_10\": 0.0749134212285072, \"podil_vsech_15\": 0.04882781769549483, \"podil_cechu_15\": 0.051, \"podil_vsech_20\": 0.031153301515707766, \"podil_cechu_20\": 0.032079713226806}, {\"rok\": \"1971-01-01T00:00:00\", \"podil_vsech_5\": 0.13458867109121778, \"podil_cechu_5\": 0.13805836807623587, \"podil_vsech_10\": 0.07732674795493132, \"podil_cechu_10\": 0.07951161405598571, \"podil_vsech_15\": 0.05175695837835057, \"podil_cechu_15\": 0.054, \"podil_vsech_20\": 0.02927406492771518, \"podil_cechu_20\": 0.029779630732578916}, {\"rok\": \"1972-01-01T00:00:00\", \"podil_vsech_5\": 0.13569261880687564, \"podil_cechu_5\": 0.13884017303869986, \"podil_vsech_10\": 0.0788169868554095, \"podil_cechu_10\": 0.08084882497369345, \"podil_vsech_15\": 0.05187057633973711, \"podil_cechu_15\": 0.054, \"podil_vsech_20\": 0.02633973710819009, \"podil_cechu_20\": 0.026774231263884018}, {\"rok\": \"1973-01-01T00:00:00\", \"podil_vsech_5\": 0.1314875458965962, \"podil_cechu_5\": 0.1355116079105761, \"podil_vsech_10\": 0.07695742780589461, \"podil_cechu_10\": 0.07893379191745485, \"podil_vsech_15\": 0.049816413615163244, \"podil_cechu_15\": 0.052, \"podil_vsech_20\": 0.023766994145082862, \"podil_cechu_20\": 0.02419031241043279}, {\"rok\": \"1974-01-01T00:00:00\", \"podil_vsech_5\": 0.129535700351151, \"podil_cechu_5\": 0.13399447793993352, \"podil_vsech_10\": 0.07364416699180648, \"podil_cechu_10\": 0.07612554234518511, \"podil_vsech_15\": 0.047551697229808815, \"podil_cechu_15\": 0.049, \"podil_vsech_20\": 0.021605540382364417, \"podil_cechu_20\": 0.02225728292105708}, {\"rok\": \"1975-01-01T00:00:00\", \"podil_vsech_5\": 0.12582686223756112, \"podil_cechu_5\": 0.12971267231356917, \"podil_vsech_10\": 0.07137378966542038, \"podil_cechu_10\": 0.07379726512760892, \"podil_vsech_15\": 0.04237369379733487, \"podil_cechu_15\": 0.044, \"podil_vsech_20\": 0.020036429872495445, \"podil_cechu_20\": 0.02076067098488623}, {\"rok\": \"1976-01-01T00:00:00\", \"podil_vsech_5\": 0.12361562750365239, \"podil_cechu_5\": 0.1281674823273518, \"podil_vsech_10\": 0.06857062067015411, \"podil_cechu_10\": 0.07123436650353453, \"podil_vsech_15\": 0.03713652858287384, \"podil_cechu_15\": 0.038, \"podil_vsech_20\": 0.017719967953249448, \"podil_cechu_20\": 0.018488308863512777}, {\"rok\": \"1977-01-01T00:00:00\", \"podil_vsech_5\": 0.11973659803375997, \"podil_cechu_5\": 0.12384977530494329, \"podil_vsech_10\": 0.06640697458727508, \"podil_cechu_10\": 0.06895998288037664, \"podil_vsech_15\": 0.032693377851975514, \"podil_cechu_15\": 0.034, \"podil_vsech_20\": 0.016138007790762382, \"podil_cechu_20\": 0.01685212925315643}, {\"rok\": \"1978-01-01T00:00:00\", \"podil_vsech_5\": 0.11727351637808946, \"podil_cechu_5\": 0.12109395584128155, \"podil_vsech_10\": 0.06459865685960985, \"podil_cechu_10\": 0.06723928966643831, \"podil_vsech_15\": 0.030106446160171777, \"podil_cechu_15\": 0.031, \"podil_vsech_20\": 0.015350175887432043, \"podil_cechu_20\": 0.016072087263529537}, {\"rok\": \"1979-01-01T00:00:00\", \"podil_vsech_5\": 0.11274642182014583, \"podil_cechu_5\": 0.11681370005189413, \"podil_vsech_10\": 0.06184174993248717, \"podil_cechu_10\": 0.06429683445770627, \"podil_vsech_15\": 0.02799531911063102, \"podil_cechu_15\": 0.029, \"podil_vsech_20\": 0.014582770726438023, \"podil_cechu_20\": 0.015204981837052413}, {\"rok\": \"1980-01-01T00:00:00\", \"podil_vsech_5\": 0.11113080467919177, \"podil_cechu_5\": 0.11553581457088885, \"podil_vsech_10\": 0.05685040765685927, \"podil_cechu_10\": 0.05912084545872262, \"podil_vsech_15\": 0.026674937965260544, \"podil_cechu_15\": 0.028, \"podil_vsech_20\": 0.013736263736263736, \"podil_cechu_20\": 0.014397304334507581}, {\"rok\": \"1981-01-01T00:00:00\", \"podil_vsech_5\": 0.11014138593122709, \"podil_cechu_5\": 0.11447236180904523, \"podil_vsech_10\": 0.05232152208064235, \"podil_cechu_10\": 0.054321608040201, \"podil_vsech_15\": 0.02500436376330948, \"podil_cechu_15\": 0.026, \"podil_vsech_20\": 0.012742188863676035, \"podil_cechu_20\": 0.013417085427135678}, {\"rok\": \"1982-01-01T00:00:00\", \"podil_vsech_5\": 0.10748106060606061, \"podil_cechu_5\": 0.11149083704804359, \"podil_vsech_10\": 0.04786501377410468, \"podil_cechu_10\": 0.0495789995047053, \"podil_vsech_15\": 0.023459022038567492, \"podil_cechu_15\": 0.025, \"podil_vsech_20\": 0.01231060606060606, \"podil_cechu_20\": 0.012729073798910352}, {\"rok\": \"1983-01-01T00:00:00\", \"podil_vsech_5\": 0.10337955306788789, \"podil_cechu_5\": 0.10796313453942556, \"podil_vsech_10\": 0.04571089344018997, \"podil_cechu_10\": 0.04769103233042376, \"podil_vsech_15\": 0.022813043293898147, \"podil_cechu_15\": 0.024, \"podil_vsech_20\": 0.011788152482720604, \"podil_cechu_20\": 0.01219095918466865}, {\"rok\": \"1984-01-01T00:00:00\", \"podil_vsech_5\": 0.09971140574678991, \"podil_cechu_5\": 0.10422873618452667, \"podil_vsech_10\": 0.04475302187460789, \"podil_cechu_10\": 0.04694858241230178, \"podil_vsech_15\": 0.022041908904596594, \"podil_cechu_15\": 0.023, \"podil_vsech_20\": 0.011585595382491948, \"podil_cechu_20\": 0.011917347429120616}, {\"rok\": \"1985-01-01T00:00:00\", \"podil_vsech_5\": 0.09210688845884629, \"podil_cechu_5\": 0.09615202798525102, \"podil_vsech_10\": 0.04315065672993783, \"podil_cechu_10\": 0.04542876051810532, \"podil_vsech_15\": 0.02087536542183061, \"podil_cechu_15\": 0.022, \"podil_vsech_20\": 0.011199407090212872, \"podil_cechu_20\": 0.011439916800605087}, {\"rok\": \"1986-01-01T00:00:00\", \"podil_vsech_5\": 0.08716657870163615, \"podil_cechu_5\": 0.09067200670609603, \"podil_vsech_10\": 0.04234501238276968, \"podil_cechu_10\": 0.04461416662785824, \"podil_vsech_15\": 0.02017782469246072, \"podil_cechu_15\": 0.021, \"podil_vsech_20\": 0.010596402906905932, \"podil_cechu_20\": 0.011037116378708144}, {\"rok\": \"1987-01-01T00:00:00\", \"podil_vsech_5\": 0.08664795509222133, \"podil_cechu_5\": 0.09055823569951757, \"podil_vsech_10\": 0.04210104250200481, \"podil_cechu_10\": 0.04424534803583735, \"podil_vsech_15\": 0.02044907778668805, \"podil_cechu_15\": 0.021, \"podil_vsech_20\": 0.010585404971932638, \"podil_cechu_20\": 0.010934987365035608}, {\"rok\": \"1988-01-01T00:00:00\", \"podil_vsech_5\": 0.08682907506436918, \"podil_cechu_5\": 0.09118127381600435, \"podil_vsech_10\": 0.04179045355515944, \"podil_cechu_10\": 0.043685356559608056, \"podil_vsech_15\": 0.01988512576747871, \"podil_cechu_15\": 0.02, \"podil_vsech_20\": 0.010101010101010102, \"podil_cechu_20\": 0.010161495191435312}, {\"rok\": \"1989-01-01T00:00:00\", \"podil_vsech_5\": 0.08893929912390489, \"podil_cechu_5\": 0.09350940017905103, \"podil_vsech_10\": 0.04235763454317897, \"podil_cechu_10\": 0.04409131602506714, \"podil_vsech_15\": 0.020689924906132667, \"podil_cechu_15\": 0.021, \"podil_vsech_20\": 0.01005162703379224, \"podil_cechu_20\": 0.010250671441360788}, {\"rok\": \"1990-01-01T00:00:00\", \"podil_vsech_5\": 0.09171048561707393, \"podil_cechu_5\": 0.09701096568800849, \"podil_vsech_10\": 0.0433807609031859, \"podil_cechu_10\": 0.04510081358330385, \"podil_vsech_15\": 0.02099443241571296, \"podil_cechu_15\": 0.022, \"podil_vsech_20\": 0.009549953603464275, \"podil_cechu_20\": 0.009683409975238769}]}}, {\"mode\": \"vega-lite\"});\n",
       "</script>"
      ],
      "text/plain": [
       "alt.LayerChart(...)"
      ]
     },
     "execution_count": 11,
     "metadata": {},
     "output_type": "execute_result"
    }
   ],
   "source": [
    "graf_pauzy = alt.Chart(\n",
    "    alt_friendly(df_100), width=300,\n",
    "    title=alt.Title(\"…a jak velká se odmlčela na 10 a více let\")\n",
    ").mark_area(color='#E09DA3'\n",
    ").encode(alt.X(\n",
    "    \"rok:T\", title=None, axis=alt.Axis(domainOpacity=0, tickColor='#DCDDD6')\n",
    "), alt.Y(\n",
    "    \"podil_cechu_10:Q\", title=None, \n",
    "    axis=alt.Axis(domainOpacity=0, tickColor='#DCDDD6', labelExpr=\"datum.label * 100 + ' %'\", orient='right', tickCount=3),\n",
    "    scale=alt.Scale(domain=[0,0.25])\n",
    "))\n",
    "                    \n",
    "rule1 = alt.Chart(alt.Data(values=[{'rok': '1948-02-25'}])).mark_rule(\n",
    "    color='#81A9D5',\n",
    "    strokeDash=[4, 4]  # Optional: makes the line dashed\n",
    ").encode(\n",
    "    x='rok:T'\n",
    ")\n",
    "\n",
    "rule2 = alt.Chart(alt.Data(values=[{'rok': '1968-08-21'}])).mark_rule(\n",
    "    color='#81A9D5',\n",
    "    strokeDash=[4, 4]  # Optional: makes the line dashed\n",
    ").encode(\n",
    "    x='rok:T'\n",
    ")\n",
    "\n",
    "# Add text annotation\n",
    "text1 = alt.Chart(alt.Data(values=[{'rok': '1948-02-25', 'y': 0.2}])).mark_text(\n",
    "    # angle=270,  # Rotates text vertically\n",
    "    align='right',\n",
    "    baseline='middle',\n",
    "    dy=15,# Slight horizontal offset from the line\n",
    "    dx=-8,\n",
    "    text=['komunistický','převrat'],\n",
    "    font='Asap'\n",
    ").encode(\n",
    "    x='rok:T',\n",
    "    y=alt.value(0)  # Places text at bottom of chart\n",
    ")\n",
    "\n",
    "\n",
    "# Add text annotation\n",
    "text2 = alt.Chart(alt.Data(values=[{'rok': '1968-08-21', 'y': 0.2}])).mark_text(\n",
    "    # angle=270,  # Rotates text vertically\n",
    "    align='left',\n",
    "    baseline='middle',\n",
    "    dy=15,# Slight horizontal offset from the line\n",
    "    dx=8,\n",
    "    text=['srpnová','okupace'],\n",
    "    font='Asap'\n",
    ").encode(\n",
    "    x='rok:T',\n",
    "    y=alt.value(0)  # Places text at bottom of chart\n",
    ")\n",
    "\n",
    "graf_pauzy_graf_komb = graf_pauzy + rule1 + text1 + rule2 + text2\n",
    "graf_pauzy_graf_komb"
   ]
  },
  {
   "cell_type": "code",
   "execution_count": 17,
   "id": "cf1706a7-ef4e-44ac-9726-f93461126f90",
   "metadata": {},
   "outputs": [
    {
     "data": {
      "text/plain": [
       "altair.vegalite.v5.api.LayerChart"
      ]
     },
     "execution_count": 17,
     "metadata": {},
     "output_type": "execute_result"
    }
   ],
   "source": [
    "type(graf_pauzy_graf_komb)"
   ]
  },
  {
   "cell_type": "code",
   "execution_count": 35,
   "id": "80367ed5-283d-47cf-a76e-5881cf04b7a2",
   "metadata": {},
   "outputs": [
    {
     "data": {
      "text/html": [
       "\n",
       "<style>\n",
       "  #altair-viz-2c01c4c63ad74809b3836d58e659cb17.vega-embed {\n",
       "    width: 100%;\n",
       "    display: flex;\n",
       "  }\n",
       "\n",
       "  #altair-viz-2c01c4c63ad74809b3836d58e659cb17.vega-embed details,\n",
       "  #altair-viz-2c01c4c63ad74809b3836d58e659cb17.vega-embed details summary {\n",
       "    position: relative;\n",
       "  }\n",
       "</style>\n",
       "<div id=\"altair-viz-2c01c4c63ad74809b3836d58e659cb17\"></div>\n",
       "<script type=\"text/javascript\">\n",
       "  var VEGA_DEBUG = (typeof VEGA_DEBUG == \"undefined\") ? {} : VEGA_DEBUG;\n",
       "  (function(spec, embedOpt){\n",
       "    let outputDiv = document.currentScript.previousElementSibling;\n",
       "    if (outputDiv.id !== \"altair-viz-2c01c4c63ad74809b3836d58e659cb17\") {\n",
       "      outputDiv = document.getElementById(\"altair-viz-2c01c4c63ad74809b3836d58e659cb17\");\n",
       "    }\n",
       "    const paths = {\n",
       "      \"vega\": \"https://cdn.jsdelivr.net/npm/vega@5?noext\",\n",
       "      \"vega-lib\": \"https://cdn.jsdelivr.net/npm/vega-lib?noext\",\n",
       "      \"vega-lite\": \"https://cdn.jsdelivr.net/npm/vega-lite@5.8.0?noext\",\n",
       "      \"vega-embed\": \"https://cdn.jsdelivr.net/npm/vega-embed@6?noext\",\n",
       "    };\n",
       "\n",
       "    function maybeLoadScript(lib, version) {\n",
       "      var key = `${lib.replace(\"-\", \"\")}_version`;\n",
       "      return (VEGA_DEBUG[key] == version) ?\n",
       "        Promise.resolve(paths[lib]) :\n",
       "        new Promise(function(resolve, reject) {\n",
       "          var s = document.createElement('script');\n",
       "          document.getElementsByTagName(\"head\")[0].appendChild(s);\n",
       "          s.async = true;\n",
       "          s.onload = () => {\n",
       "            VEGA_DEBUG[key] = version;\n",
       "            return resolve(paths[lib]);\n",
       "          };\n",
       "          s.onerror = () => reject(`Error loading script: ${paths[lib]}`);\n",
       "          s.src = paths[lib];\n",
       "        });\n",
       "    }\n",
       "\n",
       "    function showError(err) {\n",
       "      outputDiv.innerHTML = `<div class=\"error\" style=\"color:red;\">${err}</div>`;\n",
       "      throw err;\n",
       "    }\n",
       "\n",
       "    function displayChart(vegaEmbed) {\n",
       "      vegaEmbed(outputDiv, spec, embedOpt)\n",
       "        .catch(err => showError(`Javascript Error: ${err.message}<br>This usually means there's a typo in your chart specification. See the javascript console for the full traceback.`));\n",
       "    }\n",
       "\n",
       "    if(typeof define === \"function\" && define.amd) {\n",
       "      requirejs.config({paths});\n",
       "      require([\"vega-embed\"], displayChart, err => showError(`Error loading script: ${err.message}`));\n",
       "    } else {\n",
       "      maybeLoadScript(\"vega\", \"5\")\n",
       "        .then(() => maybeLoadScript(\"vega-lite\", \"5.8.0\"))\n",
       "        .then(() => maybeLoadScript(\"vega-embed\", \"6\"))\n",
       "        .catch(showError)\n",
       "        .then(() => displayChart(vegaEmbed));\n",
       "    }\n",
       "  })({\"config\": {\"title\": {\"font\": \"Noticia Text\", \"fontSize\": 14, \"anchor\": \"start\", \"lineHeight\": 21, \"fontWeight\": \"bolder\", \"subtitleFont\": \"Noticia Text\", \"subtitleFontSize\": 12, \"subtitlePadding\": 12, \"dy\": -12}, \"axis\": {\"labelFont\": \"Asap\", \"titleFont\": \"Asap\", \"fontWeight\": \"lighter\", \"titleFontWeight\": \"lighter\", \"labelFontSize\": 10, \"titleFontSize\": 10, \"labelPadding\": 2, \"titlePadding\": 10, \"domainOpacity\": 0, \"tickColor\": \"#DCDDD6\"}, \"legend\": {\"labelFont\": \"Asap\", \"labelFontWeight\": \"normal\", \"titleFont\": \"Asap\", \"titleFontWeight\": \"normal\", \"labelFontSize\": 10, \"titleFontSize\": 10}}, \"data\": {\"name\": \"data-a3f8095f7e7dc7f5f7fef984c8960ef9\"}, \"mark\": {\"type\": \"text\", \"baseline\": \"line-bottom\", \"font\": \"Asap\", \"fontSize\": 10}, \"encoding\": {\"text\": {\"field\": \"text\", \"type\": \"nominal\"}}, \"height\": 30, \"width\": 300, \"$schema\": \"https://vega.github.io/schema/vega-lite/v5.8.0.json\", \"datasets\": {\"data-a3f8095f7e7dc7f5f7fef984c8960ef9\": [{\"text\": \"zdroj dat: \\u010cesk\\u00e1 n\\u00e1rodn\\u00ed bibliografie \\u00b7 vizualizace: iROZHLAS.cz \\u00b7 2025\"}]}}, {\"mode\": \"vega-lite\"});\n",
       "</script>"
      ],
      "text/plain": [
       "alt.Chart(...)"
      ]
     },
     "execution_count": 35,
     "metadata": {},
     "output_type": "execute_result"
    }
   ],
   "source": [
    "credits = pl.DataFrame({'text': ['zdroj dat: Česká národní bibliografie · vizualizace: iROZHLAS.cz · 2025']})\n",
    "credits = alt.Chart(credits.to_pandas(), width=300, height=30).encode(text=alt.Text('text:N')).mark_text(fontSize=10, font=\"Asap\", baseline='line-bottom')\n",
    "credits"
   ]
  },
  {
   "cell_type": "code",
   "execution_count": 127,
   "id": "dd986f88-901e-42a9-9f4e-e30c780a8c89",
   "metadata": {},
   "outputs": [],
   "source": [
    "def me_to_neurazi(graf: alt.vegalite.v5.api.LayerChart, kredity: str, soubor:str, slozka='grafy'): \n",
    "\n",
    "    from lxml import etree\n",
    "    import polars as pl\n",
    "    import os\n",
    "    \n",
    "    def concatenate_svg_vertically(image1_path, image2_path, output_path):\n",
    "        with open(image1_path, 'r', encoding='utf-8') as f:\n",
    "            svg1 = etree.parse(f)\n",
    "        with open(image2_path, 'r', encoding='utf-8') as f:\n",
    "            svg2 = etree.parse(f)\n",
    "        root1 = svg1.getroot()\n",
    "        root2 = svg2.getroot()\n",
    "        width1 = int(root1.get(\"width\", \"0\").replace(\"px\", \"\"))\n",
    "        height1 = int(root1.get(\"height\", \"0\").replace(\"px\", \"\"))\n",
    "        width2 = int(root2.get(\"width\", \"0\").replace(\"px\", \"\"))\n",
    "        height2 = int(root2.get(\"height\", \"0\").replace(\"px\", \"\"))\n",
    "        new_width = max(width1, width2)\n",
    "        new_height = height1 + height2\n",
    "        new_svg = etree.Element(\"svg\", xmlns=\"http://www.w3.org/2000/svg\", width=f\"{new_width}px\", height=f\"{new_height}px\")\n",
    "        background = etree.Element(\"rect\", width=str(new_width), height=str(new_height), fill=\"white\")\n",
    "        new_svg.append(background)\n",
    "        group1 = etree.Element(\"g\", transform=\"translate(0,0)\")\n",
    "        for child in root1:\n",
    "            group1.append(child)\n",
    "        x_offset = new_width - width2\n",
    "        group2 = etree.Element(\"g\", transform=f\"translate({x_offset},{height1})\")\n",
    "        for child in root2:\n",
    "            group2.append(child)\n",
    "        new_svg.append(group1)\n",
    "        new_svg.append(group2)\n",
    "        with open(output_path, 'wb') as f:\n",
    "            f.write(etree.tostring(new_svg, pretty_print=True, encoding='utf-8', xml_declaration=True))\n",
    "\n",
    "    os.makedirs(slozka, exist_ok=True)\n",
    "    graf.save(\"grafy/temp1.svg\")\n",
    "    spodni = pl.DataFrame({'text': [kredity]})\n",
    "    spodni = alt.Chart(spodni.to_pandas(), width=300, height=30).encode(\n",
    "        x=alt.value(300),\n",
    "        text=alt.Text('text:N')\n",
    "    ).mark_text(\n",
    "        fontSize=10, \n",
    "        font=\"Asap\", \n",
    "        baseline='line-bottom', \n",
    "        align=\"right\",\n",
    "        dx=-5\n",
    "    ).configure_view(stroke='transparent')\n",
    "    spodni.save(\"grafy/temp2.svg\")\n",
    "    \n",
    "    concatenate_svg_vertically(f'{slozka}/temp1.svg', f'{slozka}/temp2.svg', f'{slozka}/{soubor}.svg')\n",
    "    \n",
    "    print(\"ahoj\")\n",
    "\n",
    "    return spodni"
   ]
  },
  {
   "cell_type": "code",
   "execution_count": 125,
   "id": "f8967e24-2580-4646-8bfc-09ffd0e4828e",
   "metadata": {},
   "outputs": [
    {
     "name": "stdout",
     "output_type": "stream",
     "text": [
      "ahoj\n"
     ]
    },
    {
     "data": {
      "text/html": [
       "\n",
       "<style>\n",
       "  #altair-viz-753da191d6804b2ab0aa5642d121378a.vega-embed {\n",
       "    width: 100%;\n",
       "    display: flex;\n",
       "  }\n",
       "\n",
       "  #altair-viz-753da191d6804b2ab0aa5642d121378a.vega-embed details,\n",
       "  #altair-viz-753da191d6804b2ab0aa5642d121378a.vega-embed details summary {\n",
       "    position: relative;\n",
       "  }\n",
       "</style>\n",
       "<div id=\"altair-viz-753da191d6804b2ab0aa5642d121378a\"></div>\n",
       "<script type=\"text/javascript\">\n",
       "  var VEGA_DEBUG = (typeof VEGA_DEBUG == \"undefined\") ? {} : VEGA_DEBUG;\n",
       "  (function(spec, embedOpt){\n",
       "    let outputDiv = document.currentScript.previousElementSibling;\n",
       "    if (outputDiv.id !== \"altair-viz-753da191d6804b2ab0aa5642d121378a\") {\n",
       "      outputDiv = document.getElementById(\"altair-viz-753da191d6804b2ab0aa5642d121378a\");\n",
       "    }\n",
       "    const paths = {\n",
       "      \"vega\": \"https://cdn.jsdelivr.net/npm/vega@5?noext\",\n",
       "      \"vega-lib\": \"https://cdn.jsdelivr.net/npm/vega-lib?noext\",\n",
       "      \"vega-lite\": \"https://cdn.jsdelivr.net/npm/vega-lite@5.8.0?noext\",\n",
       "      \"vega-embed\": \"https://cdn.jsdelivr.net/npm/vega-embed@6?noext\",\n",
       "    };\n",
       "\n",
       "    function maybeLoadScript(lib, version) {\n",
       "      var key = `${lib.replace(\"-\", \"\")}_version`;\n",
       "      return (VEGA_DEBUG[key] == version) ?\n",
       "        Promise.resolve(paths[lib]) :\n",
       "        new Promise(function(resolve, reject) {\n",
       "          var s = document.createElement('script');\n",
       "          document.getElementsByTagName(\"head\")[0].appendChild(s);\n",
       "          s.async = true;\n",
       "          s.onload = () => {\n",
       "            VEGA_DEBUG[key] = version;\n",
       "            return resolve(paths[lib]);\n",
       "          };\n",
       "          s.onerror = () => reject(`Error loading script: ${paths[lib]}`);\n",
       "          s.src = paths[lib];\n",
       "        });\n",
       "    }\n",
       "\n",
       "    function showError(err) {\n",
       "      outputDiv.innerHTML = `<div class=\"error\" style=\"color:red;\">${err}</div>`;\n",
       "      throw err;\n",
       "    }\n",
       "\n",
       "    function displayChart(vegaEmbed) {\n",
       "      vegaEmbed(outputDiv, spec, embedOpt)\n",
       "        .catch(err => showError(`Javascript Error: ${err.message}<br>This usually means there's a typo in your chart specification. See the javascript console for the full traceback.`));\n",
       "    }\n",
       "\n",
       "    if(typeof define === \"function\" && define.amd) {\n",
       "      requirejs.config({paths});\n",
       "      require([\"vega-embed\"], displayChart, err => showError(`Error loading script: ${err.message}`));\n",
       "    } else {\n",
       "      maybeLoadScript(\"vega\", \"5\")\n",
       "        .then(() => maybeLoadScript(\"vega-lite\", \"5.8.0\"))\n",
       "        .then(() => maybeLoadScript(\"vega-embed\", \"6\"))\n",
       "        .catch(showError)\n",
       "        .then(() => displayChart(vegaEmbed));\n",
       "    }\n",
       "  })({\"config\": {\"title\": {\"font\": \"Noticia Text\", \"fontSize\": 14, \"anchor\": \"start\", \"lineHeight\": 21, \"fontWeight\": \"bolder\", \"subtitleFont\": \"Noticia Text\", \"subtitleFontSize\": 12, \"subtitlePadding\": 12, \"dy\": -12}, \"axis\": {\"labelFont\": \"Asap\", \"titleFont\": \"Asap\", \"fontWeight\": \"lighter\", \"titleFontWeight\": \"lighter\", \"labelFontSize\": 10, \"titleFontSize\": 10, \"labelPadding\": 2, \"titlePadding\": 10, \"domainOpacity\": 0, \"tickColor\": \"#DCDDD6\"}, \"legend\": {\"labelFont\": \"Asap\", \"labelFontWeight\": \"normal\", \"titleFont\": \"Asap\", \"titleFontWeight\": \"normal\", \"labelFontSize\": 10, \"titleFontSize\": 10}, \"view\": {\"stroke\": \"transparent\"}}, \"data\": {\"name\": \"data-ccfed7142efcd3963aefe3f94ce03c92\"}, \"mark\": {\"type\": \"text\", \"align\": \"right\", \"baseline\": \"line-bottom\", \"dx\": -5, \"font\": \"Asap\", \"fontSize\": 10}, \"encoding\": {\"text\": {\"field\": \"text\", \"type\": \"nominal\"}, \"x\": {\"value\": 300}}, \"height\": 30, \"width\": 300, \"$schema\": \"https://vega.github.io/schema/vega-lite/v5.8.0.json\", \"datasets\": {\"data-ccfed7142efcd3963aefe3f94ce03c92\": [{\"text\": [\"data: N\\u00e1rodn\\u00ed knihovna, Wikidata \\u25cf vizualizace: iROZHLAS.cz \\u25cf 2025\"]}]}}, {\"mode\": \"vega-lite\"});\n",
       "</script>"
      ],
      "text/plain": [
       "alt.Chart(...)"
      ]
     },
     "execution_count": 125,
     "metadata": {},
     "output_type": "execute_result"
    }
   ],
   "source": [
    "me_to_neurazi(graf_pauzy_graf_komb, [\"data: Národní knihovna, Wikidata ● vizualizace: iROZHLAS.cz ● 2025\"], \"pokusny_pokus\")"
   ]
  }
 ],
 "metadata": {
  "kernelspec": {
   "display_name": "Python 3 (ipykernel)",
   "language": "python",
   "name": "python3"
  },
  "language_info": {
   "codemirror_mode": {
    "name": "ipython",
    "version": 3
   },
   "file_extension": ".py",
   "mimetype": "text/x-python",
   "name": "python",
   "nbconvert_exporter": "python",
   "pygments_lexer": "ipython3",
   "version": "3.12.3"
  }
 },
 "nbformat": 4,
 "nbformat_minor": 5
}
