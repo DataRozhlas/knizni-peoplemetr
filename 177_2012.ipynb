{
 "cells": [
  {
   "cell_type": "code",
   "execution_count": 1,
   "id": "719de940-7a67-4d88-a9a0-d49890cde3e1",
   "metadata": {},
   "outputs": [],
   "source": [
    "import os\n",
    "import datetime\n",
    "import warnings\n",
    "import polars as pl\n",
    "import pandas as pd\n",
    "import altair as alt\n",
    "\n",
    "from src.najdi_rok import najdi_rok\n",
    "from src.pocet_stran import pocet_stran\n",
    "from src.bez_bordelu import bez_bordelu\n",
    "from src.alt_friendly import alt_friendly\n",
    "from src.hezke_jmeno import hezke_jmeno\n",
    "from src.kristi_promin import kristi_promin\n",
    "\n",
    "pl.Config(tbl_rows=100)\n",
    "alt.data_transformers.disable_max_rows()\n",
    "alt.themes.register('irozhlas', kristi_promin)\n",
    "alt.themes.enable('irozhlas')\n",
    "warnings.filterwarnings('ignore')"
   ]
  },
  {
   "cell_type": "code",
   "execution_count": 5,
   "id": "0cfe2787-e717-4094-b5de-4827a3ab5c54",
   "metadata": {},
   "outputs": [
    {
     "name": "stdout",
     "output_type": "stream",
     "text": [
      "shape: (20, 2)\n",
      "┌───────┬────────┐\n",
      "│ 260_c ┆ len    │\n",
      "│ ---   ┆ ---    │\n",
      "│ str   ┆ u32    │\n",
      "╞═══════╪════════╡\n",
      "│ null  ┆ 158811 │\n",
      "│ 2008  ┆ 11390  │\n",
      "│ 2011  ┆ 11066  │\n",
      "│ 2010  ┆ 11030  │\n",
      "│ 2012  ┆ 10993  │\n",
      "│ 2007  ┆ 10814  │\n",
      "│ 2009  ┆ 10704  │\n",
      "│ 2013  ┆ 10667  │\n",
      "│ 2006  ┆ 10263  │\n",
      "│ 2005  ┆ 9905   │\n",
      "│ 2014  ┆ 9835   │\n",
      "│ 2004  ┆ 9791   │\n",
      "│ 2003  ┆ 9641   │\n",
      "│ 2002  ┆ 9265   │\n",
      "│ 2000  ┆ 9089   │\n",
      "│ 2001  ┆ 8907   │\n",
      "│ 1999  ┆ 8634   │\n",
      "│ 1998  ┆ 8181   │\n",
      "│ 1997  ┆ 8047   │\n",
      "│ 1996  ┆ 7581   │\n",
      "└───────┴────────┘\n",
      "10993\n",
      "12713\n",
      "716789\n",
      "12718\n",
      "11282\n",
      "11246\n",
      "449120\n"
     ]
    }
   ],
   "source": [
    "df = pl.read_parquet(os.path.join(\"data/cnb_sloupce\",\"100.parquet\"))\n",
    "df = df.join(pl.read_parquet(os.path.join(\"data/cnb_sloupce\",\"leader.parquet\")), left_on=\"001\", right_on=\"001\", how=\"left\")\n",
    "df = df.join(pl.read_parquet(os.path.join(\"data/cnb_sloupce\",\"008.parquet\")), left_on=\"001\", right_on=\"001\", how=\"left\")\n",
    "df = df.to_pandas()\n",
    "df = df[df[\"leader\"].str[6].isin([\"a\", \"t\"])]\n",
    "df = df[~df[\"leader\"].str[7].isin([\"b\", \"i\", \"s\", \" \"])]\n",
    "df = df[(df[\"008\"].str[15:17] == \"xr\") & (df[\"008\"].str[35:38] == \"cze\")]\n",
    "df = pl.from_pandas(df)\n",
    "df = df.join(pl.read_parquet(os.path.join(\"data/cnb_sloupce\",\"020.parquet\")), left_on=\"001\", right_on=\"001\", how=\"left\")\n",
    "df = df.join(pl.read_parquet(os.path.join(\"data/cnb_sloupce\",\"022.parquet\")), left_on=\"001\", right_on=\"001\", how=\"left\")\n",
    "df = df.join(pl.read_parquet(os.path.join(\"data/cnb_sloupce\",\"245.parquet\")), left_on=\"001\", right_on=\"001\", how=\"left\")\n",
    "df = df.join(pl.read_parquet(os.path.join(\"data/cnb_sloupce\",\"260.parquet\")), left_on=\"001\", right_on=\"001\", how=\"left\")\n",
    "print(df.explode(\"260_c\").group_by(\"260_c\").len().sort(by=\"len\",descending=True).head(20))\n",
    "print(len(df.explode(\"260_c\").filter(pl.col(\"260_c\") == \"2012\")))\n",
    "df = df.join(pl.read_parquet(os.path.join(\"data/cnb_sloupce\",\"300.parquet\")), left_on=\"001\", right_on=\"001\", how=\"left\")\n",
    "df = df.join(pl.read_parquet(os.path.join(\"data/cnb_sloupce\",\"655.parquet\")), left_on=\"001\", right_on=\"001\", how=\"left\")\n",
    "df = df.join(pl.read_parquet(os.path.join(\"data/cnb_sloupce\",\"700.parquet\")), left_on=\"001\", right_on=\"001\", how=\"left\")\n",
    "df = df.explode(\"022_a\").filter(pl.col(\"022_a\").is_null())\n",
    "df = df.with_columns(pl.col('008').map_elements(najdi_rok, return_dtype=int).alias('rok'))\n",
    "print(len(df.filter(pl.col(\"rok\") == 2012)))\n",
    "df = df.with_columns(pl.col('300_a').map_elements(pocet_stran, return_dtype=int).alias('stran'))\n",
    "df = df.with_columns(pl.col('245_a').map_elements(bez_bordelu, return_dtype=str))\n",
    "df = df.explode('245_p').with_columns(pl.col('245_p').map_elements(bez_bordelu, return_dtype=str))\n",
    "print(len(df))\n",
    "df = df.filter(pl.col(\"rok\").is_between(1800,2024))\n",
    "print(len(df.filter(pl.col(\"rok\") == 2012)))\n",
    "df = df.filter(pl.col(\"stran\") > 30)\n",
    "print(len(df.filter(pl.col(\"rok\") == 2012)))\n",
    "df = df.drop_nulls(subset=['100_7'])\n",
    "print(len(df.filter(pl.col(\"rok\") == 2012)))\n",
    "df = df.filter((~pl.col(\"245_h\").str.contains(\"grafika\")) | pl.col(\"245_h\").is_null()).unique(subset=[\"100_a\",\"245_a\"], keep=\"first\")\n",
    "print(len(df))"
   ]
  },
  {
   "cell_type": "code",
   "execution_count": null,
   "id": "2aa88d13-b5a7-466f-9659-06ab3fd91221",
   "metadata": {},
   "outputs": [],
   "source": [
    "df.group_by(\"rok\").len().sort(by=\"rok\")"
   ]
  }
 ],
 "metadata": {
  "kernelspec": {
   "display_name": "Python 3 (ipykernel)",
   "language": "python",
   "name": "python3"
  },
  "language_info": {
   "codemirror_mode": {
    "name": "ipython",
    "version": 3
   },
   "file_extension": ".py",
   "mimetype": "text/x-python",
   "name": "python",
   "nbconvert_exporter": "python",
   "pygments_lexer": "ipython3",
   "version": "3.12.3"
  }
 },
 "nbformat": 4,
 "nbformat_minor": 5
}
