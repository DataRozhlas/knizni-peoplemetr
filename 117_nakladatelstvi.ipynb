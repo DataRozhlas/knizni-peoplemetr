{
 "cells": [
  {
   "cell_type": "markdown",
   "id": "1325b39a-03bf-4100-a00c-b80bb7ec4831",
   "metadata": {},
   "source": [
    "Todo: pořešit jednotu zápisů."
   ]
  },
  {
   "cell_type": "code",
   "execution_count": 3,
   "id": "67d0190a-2368-464f-8a0c-390d3a2c07ce",
   "metadata": {},
   "outputs": [],
   "source": [
    "import os\n",
    "import re\n",
    "import statistics\n",
    "from src.najdi_rok import najdi_rok\n",
    "import pandas as pd\n",
    "pd.set_option('display.max_columns', 100)\n",
    "pd.set_option('display.max_rows', 500)"
   ]
  },
  {
   "cell_type": "code",
   "execution_count": 5,
   "id": "cf4000df-a3fb-4cb1-946c-10e17c1bc74d",
   "metadata": {},
   "outputs": [],
   "source": [
    "df = pd.read_parquet(os.path.join(\"data\",\"cnb_vyber.parquet\"))\n",
    "df = df.explode('008')\n",
    "df['rok'] = df['008'].apply(lambda x: najdi_rok(x))"
   ]
  },
  {
   "cell_type": "code",
   "execution_count": 6,
   "id": "5154996b-3b93-4807-b0c4-a3fa1572e5a0",
   "metadata": {},
   "outputs": [],
   "source": [
    "df = df.dropna(subset=['245_a','100_a','rok'])"
   ]
  },
  {
   "cell_type": "code",
   "execution_count": 76,
   "id": "e18aa3ed-186d-4a92-bf64-1718740b1563",
   "metadata": {},
   "outputs": [],
   "source": [
    "df = df.explode('260_b').explode('264_b')"
   ]
  },
  {
   "cell_type": "code",
   "execution_count": 78,
   "id": "394b7ee9-8360-488b-b5a8-c58850f50b2d",
   "metadata": {},
   "outputs": [],
   "source": [
    "def dvoje_nakladatelstvi(sedesat, sedesatctyri):\n",
    "    if sedesat != None:\n",
    "        return sedesat.replace(',','').replace(\":\",'').strip()\n",
    "    elif sedesatctyri != None:\n",
    "        return sedesatctyri.replace(',','').replace(\":\",'').strip()\n",
    "    else:\n",
    "        return None"
   ]
  },
  {
   "cell_type": "code",
   "execution_count": 82,
   "id": "bbe27f17-d075-4119-b136-194f1d47f7f4",
   "metadata": {},
   "outputs": [],
   "source": [
    "df['nakladatel'] = df.apply(lambda row: dvoje_nakladatelstvi(row['260_b'], row['264_b']), axis=1)"
   ]
  },
  {
   "cell_type": "code",
   "execution_count": 58,
   "id": "67db0384-651b-49c5-8d1e-1869afff9b5e",
   "metadata": {},
   "outputs": [
    {
     "data": {
      "text/plain": [
       "001\n",
       "cpk20031199626                             F. Šimáček\n",
       "cpk20193123369                                   None\n",
       "nkc20193112389                                   None\n",
       "nkc20172883527                                   None\n",
       "bk195401587                                     Orbis\n",
       "nkc20203166293                                   None\n",
       "ck9205881                  Evangelické nakladatelství\n",
       "bk193203845       Ústřední rada církve československé\n",
       "bk196803389                              Mladá fronta\n",
       "bk193102480                Městská plynárna a vodárna\n",
       "bk196101490                                       SPN\n",
       "nkc20142568829                                 Dialog\n",
       "bk192901431                                Melantrich\n",
       "bk196200993                                       SPN\n",
       "nkc20122427337           Literární klub Petra Bezruče\n",
       "nkc20122359534                                   None\n",
       "bk193002248                                    Pokrok\n",
       "bk192701824                                      None\n",
       "cpk19980528030                                 Granit\n",
       "bknban00114                 Moravské kolo spisovatelů\n",
       "nkc20162844409                                   None\n",
       "nkc20162826735                                   None\n",
       "nos190247814                               [nákl.vl.]\n",
       "cpk20020888435                                Eminent\n",
       "ck8505418                         Vysoká škola báňská\n",
       "nkc20223416492                                   None\n",
       "cpk20041446187                        Eurolex Bohemia\n",
       "cpk20011003812                                  Brána\n",
       "cpk19970273204                                     IŽ\n",
       "nkc20182993465                                   None\n",
       "nkc20203245698                                   None\n",
       "bk193003337                                    Rodina\n",
       "bk196603976                                     Práce\n",
       "nkc20132485660                                  Motto\n",
       "ck8302627                                         SPN\n",
       "nos190151036                                     None\n",
       "nkc20112161392                            Zoner Press\n",
       "cpk20031191663                     Vydavatelství ČVUT\n",
       "nkc20061695684                  Masarykova univerzita\n",
       "ck9203775                       Masarykova univerzita\n",
       "bk192801107                                  F. Topič\n",
       "nkc20172957208                                   None\n",
       "np9427112                                      Portál\n",
       "bknann01308                                    [s.n.]\n",
       "nkc20172894074                                   None\n",
       "nkc20122396366                            Knižní klub\n",
       "bknmik00433                                    [s.n.]\n",
       "bk192602785                  Komunist. knihk. a nakl.\n",
       "bk195903078                                    SNKLHU\n",
       "nkc20142539926                            Knižní klub\n",
       "Name: nakladatel, dtype: object"
      ]
     },
     "execution_count": 58,
     "metadata": {},
     "output_type": "execute_result"
    }
   ],
   "source": [
    "df['nakladatel'].sample(50)"
   ]
  },
  {
   "cell_type": "markdown",
   "id": "d99804af-a3ce-4b07-8aec-8c7cdb1c92ef",
   "metadata": {},
   "source": [
    "## Nejproduktivnější nakladatelství"
   ]
  },
  {
   "cell_type": "code",
   "execution_count": 84,
   "id": "c044a314-37b3-4c24-944b-12e0d0740288",
   "metadata": {},
   "outputs": [
    {
     "data": {
      "text/plain": [
       "nakladatel\n",
       "SPN                          22748\n",
       "SNTL                         13404\n",
       "MOBA                          9224\n",
       "Mladá fronta                  8012\n",
       "Albatros                      7876\n",
       "Československý spisovatel     6187\n",
       "Grada                         5998\n",
       "Orbis                         5694\n",
       "Práce                         5611\n",
       "Naše vojsko                   5322\n",
       "ČVUT                          5123\n",
       "Knižní klub                   5034\n",
       "Dilia                         4639\n",
       "Ikar                          4548\n",
       "Ivo Železný                   4452\n",
       "Fragment                      4241\n",
       "nákladem vlastním             4200\n",
       "Odeon                         4134\n",
       "Academia                      3976\n",
       "Svoboda                       3975\n",
       "dtype: int64"
      ]
     },
     "execution_count": 84,
     "metadata": {},
     "output_type": "execute_result"
    }
   ],
   "source": [
    "df.groupby('nakladatel').size().nlargest(20)"
   ]
  },
  {
   "cell_type": "code",
   "execution_count": 86,
   "id": "610cadd7-0714-4092-8bf4-16509c8cb3fd",
   "metadata": {},
   "outputs": [
    {
     "data": {
      "text/plain": [
       "nakladatel\n",
       "MOBA                                           3705\n",
       "Euromedia Group                                2541\n",
       "Dobrovský s.r.o.                               2427\n",
       "Fragment                                       2002\n",
       "Argo                                           1896\n",
       "Albatros                                       1880\n",
       "CPress                                         1880\n",
       "Ikar                                           1645\n",
       "Mladá fronta                                   1323\n",
       "Host                                           1298\n",
       "Grada                                          1225\n",
       "Svojtka & Co.                                  1207\n",
       "Portál                                         1183\n",
       "Knižní klub                                    1156\n",
       "Grada Publishing                               1004\n",
       "Nová Forma                                      976\n",
       "Univerzita Palackého v Olomouci                 913\n",
       "Wolters Kluwer                                  887\n",
       "Academia                                        858\n",
       "Baronet                                         845\n",
       "Masarykova univerzita                           798\n",
       "XYZ                                             790\n",
       "CooBoo                                          776\n",
       "Motto                                           770\n",
       "Sun                                             754\n",
       "Alpress                                         745\n",
       "Euromedia                                       740\n",
       "Univerzita Karlova nakladatelství Karolinum     738\n",
       "Jota                                            699\n",
       "Edika                                           696\n",
       "Slovart                                         672\n",
       "Stanislav Juhaňák - Triton                      646\n",
       "BB/art                                          605\n",
       "Bambook                                         592\n",
       "Powerprint                                      591\n",
       "Vyšehrad                                        588\n",
       "Nová škola s.r.o.                               565\n",
       "Egmont                                          534\n",
       "Crew                                            474\n",
       "Pointa                                          474\n",
       "Taktik                                          472\n",
       "Kniha Zlin                                      470\n",
       "Karmelitánské nakladatelství                    467\n",
       "Naše vojsko                                     451\n",
       "Metafora                                        449\n",
       "Paseka                                          445\n",
       "Crew s.r.o.                                     441\n",
       "Fontána                                         438\n",
       "C.H. Beck                                       422\n",
       "Malvern                                         421\n",
       "Epocha                                          412\n",
       "INFOA                                           406\n",
       "[nakladatel není známý]                         400\n",
       "Cosmopolis                                      390\n",
       "Leges                                           381\n",
       "Pavel Mervart                                   373\n",
       "Galén                                           370\n",
       "Brána                                           368\n",
       "Maxdorf                                         366\n",
       "Leda                                            359\n",
       "dtype: int64"
      ]
     },
     "execution_count": 86,
     "metadata": {},
     "output_type": "execute_result"
    }
   ],
   "source": [
    "df[df['rok'] > 2013].groupby('nakladatel').size().nlargest(60)"
   ]
  },
  {
   "cell_type": "markdown",
   "id": "43986a67-2821-4bce-b46c-14d948c9f7a7",
   "metadata": {},
   "source": [
    "## Počet jednotlivých nakladatelství"
   ]
  },
  {
   "cell_type": "code",
   "execution_count": 90,
   "id": "f07948d9-82b9-4ce0-a19b-7c6851970f95",
   "metadata": {},
   "outputs": [
    {
     "data": {
      "text/plain": [
       "<Axes: xlabel='rok'>"
      ]
     },
     "execution_count": 90,
     "metadata": {},
     "output_type": "execute_result"
    },
    {
     "data": {
      "image/png": "[encoded data removed]",
      "text/plain": [
       "<Figure size 2500x500 with 1 Axes>"
      ]
     },
     "metadata": {},
     "output_type": "display_data"
    }
   ],
   "source": [
    "df.groupby('rok')['nakladatel'].nunique().plot.bar(figsize=(25,5))"
   ]
  },
  {
   "cell_type": "code",
   "execution_count": 110,
   "id": "2a3647b8-f5c6-4426-9cc1-b1d1cb0511d0",
   "metadata": {},
   "outputs": [
    {
     "data": {
      "text/plain": [
       "nakladatel\n",
       "SPN                                           608\n",
       "SNTL                                          335\n",
       "Orbis                                         315\n",
       "Práce                                         199\n",
       "Československý spisovatel                     173\n",
       "Naše vojsko                                   149\n",
       "SZN                                           140\n",
       "Nakladatelství Československé akademie věd    127\n",
       "SNDK                                          126\n",
       "Státní pedagogické nakladatelství             126\n",
       "SNKLHU                                        123\n",
       "ČDLJ                                          120\n",
       "SZdN                                           97\n",
       "Mladá fronta                                   87\n",
       "SNPL                                           82\n",
       "dtype: int64"
      ]
     },
     "execution_count": 110,
     "metadata": {},
     "output_type": "execute_result"
    }
   ],
   "source": [
    "df[df['rok'] == 1953].groupby('nakladatel').size().nlargest(15)"
   ]
  },
  {
   "cell_type": "markdown",
   "id": "b19b9ad3-ca86-4b25-babf-7148d7d25fed",
   "metadata": {},
   "source": [
    "## Počet nových nakladatelství"
   ]
  },
  {
   "cell_type": "code",
   "execution_count": 102,
   "id": "5a26bde6-d6ee-4938-acea-14e119838753",
   "metadata": {},
   "outputs": [
    {
     "data": {
      "text/plain": [
       "<Axes: xlabel='rok'>"
      ]
     },
     "execution_count": 102,
     "metadata": {},
     "output_type": "execute_result"
    },
    {
     "data": {
      "image/png": "[encoded data removed]",
      "text/plain": [
       "<Figure size 2500x500 with 1 Axes>"
      ]
     },
     "metadata": {},
     "output_type": "display_data"
    }
   ],
   "source": [
    "pd.DataFrame(df.groupby('nakladatel')['rok'].min()).groupby('rok').size().plot.bar(figsize=(25,5))"
   ]
  },
  {
   "cell_type": "markdown",
   "id": "434d4b16-fb42-493d-8657-dd6507d909e7",
   "metadata": {},
   "source": [
    "## Počet končících nakladatelství"
   ]
  },
  {
   "cell_type": "code",
   "execution_count": 100,
   "id": "bbbe2762-6d16-40f0-9aa9-97e7f5ccc691",
   "metadata": {},
   "outputs": [
    {
     "data": {
      "text/plain": [
       "<Axes: xlabel='rok'>"
      ]
     },
     "execution_count": 100,
     "metadata": {},
     "output_type": "execute_result"
    },
    {
     "data": {
      "image/png": "[encoded data removed]",
      "text/plain": [
       "<Figure size 2500x500 with 1 Axes>"
      ]
     },
     "metadata": {},
     "output_type": "display_data"
    }
   ],
   "source": [
    "pd.DataFrame(df.groupby('nakladatel')['rok'].max()).groupby('rok').size().plot.bar(figsize=(25,5))"
   ]
  },
  {
   "cell_type": "code",
   "execution_count": 113,
   "id": "8751a91b-5e6c-4bb5-8946-eafd42e17e99",
   "metadata": {},
   "outputs": [
    {
     "data": {
      "text/plain": [
       "rok\n",
       "1900.0     338\n",
       "1901.0     255\n",
       "1902.0     306\n",
       "1903.0     290\n",
       "1904.0     269\n",
       "1905.0     273\n",
       "1906.0     335\n",
       "1907.0     343\n",
       "1908.0     377\n",
       "1909.0     398\n",
       "1910.0     440\n",
       "1911.0     402\n",
       "1912.0     438\n",
       "1913.0     449\n",
       "1914.0     373\n",
       "1915.0     225\n",
       "1916.0     218\n",
       "1917.0     246\n",
       "1918.0     278\n",
       "1919.0     584\n",
       "1920.0     643\n",
       "1921.0     641\n",
       "1922.0     676\n",
       "1923.0     731\n",
       "1924.0     787\n",
       "1925.0     910\n",
       "1926.0     645\n",
       "1927.0     685\n",
       "1928.0     627\n",
       "1929.0     650\n",
       "1930.0     802\n",
       "1931.0     711\n",
       "1932.0     693\n",
       "1933.0     669\n",
       "1934.0     709\n",
       "1935.0     785\n",
       "1936.0     960\n",
       "1937.0    1058\n",
       "1938.0     941\n",
       "1939.0     622\n",
       "1940.0     825\n",
       "1941.0     681\n",
       "1942.0     280\n",
       "1943.0     198\n",
       "1944.0     255\n",
       "1945.0     440\n",
       "1946.0     786\n",
       "1947.0     866\n",
       "1948.0    1003\n",
       "1949.0     550\n",
       "1950.0     236\n",
       "1951.0     194\n",
       "1952.0     161\n",
       "1953.0     103\n",
       "1954.0     125\n",
       "1955.0     124\n",
       "1956.0     145\n",
       "1957.0     154\n",
       "1958.0     157\n",
       "1959.0     157\n",
       "1960.0     208\n",
       "1961.0     143\n",
       "1962.0     177\n",
       "1963.0     162\n",
       "1964.0     114\n",
       "1965.0     143\n",
       "1966.0     163\n",
       "1967.0     178\n",
       "1968.0     217\n",
       "1969.0     214\n",
       "1970.0     215\n",
       "1971.0     187\n",
       "1972.0     166\n",
       "1973.0     170\n",
       "1974.0     135\n",
       "1975.0     117\n",
       "1976.0     117\n",
       "1977.0     115\n",
       "1978.0     129\n",
       "1979.0     157\n",
       "1980.0     196\n",
       "1981.0     224\n",
       "1982.0     214\n",
       "1983.0     215\n",
       "1984.0     215\n",
       "1985.0     236\n",
       "1986.0     213\n",
       "1987.0     236\n",
       "1988.0     298\n",
       "1989.0     391\n",
       "1990.0     505\n",
       "1991.0     584\n",
       "1992.0     630\n",
       "1993.0     551\n",
       "1994.0     494\n",
       "1995.0     500\n",
       "1996.0     502\n",
       "1997.0     543\n",
       "1998.0     567\n",
       "1999.0     614\n",
       "2000.0     687\n",
       "2001.0     810\n",
       "2002.0     810\n",
       "2003.0     769\n",
       "2004.0     824\n",
       "2005.0     830\n",
       "2006.0     965\n",
       "2007.0     939\n",
       "2008.0    1074\n",
       "2009.0    1001\n",
       "2010.0    1233\n",
       "2011.0    1112\n",
       "2012.0    1145\n",
       "2013.0    1204\n",
       "2014.0    1390\n",
       "2015.0    1527\n",
       "2016.0    1274\n",
       "2017.0    1275\n",
       "2018.0    1451\n",
       "2019.0    1321\n",
       "2020.0    1352\n",
       "2021.0    1493\n",
       "2022.0    1568\n",
       "2023.0    1763\n",
       "2024.0    1278\n",
       "2025.0       1\n",
       "dtype: int64"
      ]
     },
     "execution_count": 113,
     "metadata": {},
     "output_type": "execute_result"
    }
   ],
   "source": [
    "pd.DataFrame(df.groupby('nakladatel')['rok'].max()).groupby('rok').size()"
   ]
  }
 ],
 "metadata": {
  "kernelspec": {
   "display_name": "Python 3 (ipykernel)",
   "language": "python",
   "name": "python3"
  },
  "language_info": {
   "codemirror_mode": {
    "name": "ipython",
    "version": 3
   },
   "file_extension": ".py",
   "mimetype": "text/x-python",
   "name": "python",
   "nbconvert_exporter": "python",
   "pygments_lexer": "ipython3",
   "version": "3.12.3"
  }
 },
 "nbformat": 4,
 "nbformat_minor": 5
}
