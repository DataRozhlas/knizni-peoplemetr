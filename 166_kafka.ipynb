{
 "cells": [
  {
   "cell_type": "code",
   "execution_count": 1,
   "id": "d3354e4d-a87e-4137-87a7-c6e25589b44d",
   "metadata": {},
   "outputs": [
    {
     "data": {
      "text/plain": [
       "DataTransformerRegistry.enable('default')"
      ]
     },
     "execution_count": 1,
     "metadata": {},
     "output_type": "execute_result"
    }
   ],
   "source": [
    "import re\n",
    "import os\n",
    "import json\n",
    "import statistics\n",
    "import datetime\n",
    "import warnings\n",
    "from src.najdi_rok import najdi_rok\n",
    "from src.pocet_stran import pocet_stran\n",
    "import polars as pl\n",
    "import altair as alt\n",
    "alt.data_transformers.disable_max_rows()"
   ]
  },
  {
   "cell_type": "code",
   "execution_count": 3,
   "id": "95b01a59-a330-4fd4-9b23-560c21131d83",
   "metadata": {},
   "outputs": [],
   "source": [
    "df = pl.read_parquet(os.path.join(\"data\",\"cnb_vyber.parquet\"))\n",
    "df = df.with_columns(pl.col('008').map_elements(najdi_rok, return_dtype=int).alias('rok'))\n",
    "df = df.with_columns(pl.col('300_a').map_elements(pocet_stran, return_dtype=int).alias('pocet_stran'))"
   ]
  },
  {
   "cell_type": "code",
   "execution_count": 15,
   "id": "22ae066b-5420-4031-9fbf-79b35afe0bb8",
   "metadata": {},
   "outputs": [
    {
     "data": {
      "text/html": [
       "<div><style>\n",
       ".dataframe > thead > tr,\n",
       ".dataframe > tbody > tr {\n",
       "  text-align: right;\n",
       "  white-space: pre-wrap;\n",
       "}\n",
       "</style>\n",
       "<small>shape: (43, 2)</small><table border=\"1\" class=\"dataframe\"><thead><tr><th>rok</th><th>len</th></tr><tr><td>datetime[μs]</td><td>u32</td></tr></thead><tbody><tr><td>1928-01-01 00:00:00</td><td>1</td></tr><tr><td>1929-01-01 00:00:00</td><td>2</td></tr><tr><td>1931-01-01 00:00:00</td><td>1</td></tr><tr><td>1935-01-01 00:00:00</td><td>1</td></tr><tr><td>1946-01-01 00:00:00</td><td>1</td></tr><tr><td>&hellip;</td><td>&hellip;</td></tr><tr><td>2020-01-01 00:00:00</td><td>2</td></tr><tr><td>2021-01-01 00:00:00</td><td>1</td></tr><tr><td>2022-01-01 00:00:00</td><td>4</td></tr><tr><td>2023-01-01 00:00:00</td><td>2</td></tr><tr><td>2024-01-01 00:00:00</td><td>6</td></tr></tbody></table></div>"
      ],
      "text/plain": [
       "shape: (43, 2)\n",
       "┌─────────────────────┬─────┐\n",
       "│ rok                 ┆ len │\n",
       "│ ---                 ┆ --- │\n",
       "│ datetime[μs]        ┆ u32 │\n",
       "╞═════════════════════╪═════╡\n",
       "│ 1928-01-01 00:00:00 ┆ 1   │\n",
       "│ 1929-01-01 00:00:00 ┆ 2   │\n",
       "│ 1931-01-01 00:00:00 ┆ 1   │\n",
       "│ 1935-01-01 00:00:00 ┆ 1   │\n",
       "│ 1946-01-01 00:00:00 ┆ 1   │\n",
       "│ …                   ┆ …   │\n",
       "│ 2020-01-01 00:00:00 ┆ 2   │\n",
       "│ 2021-01-01 00:00:00 ┆ 1   │\n",
       "│ 2022-01-01 00:00:00 ┆ 4   │\n",
       "│ 2023-01-01 00:00:00 ┆ 2   │\n",
       "│ 2024-01-01 00:00:00 ┆ 6   │\n",
       "└─────────────────────┴─────┘"
      ]
     },
     "execution_count": 15,
     "metadata": {},
     "output_type": "execute_result"
    }
   ],
   "source": [
    "kafka = df.filter(pl.col(\"100_7\") == \"jn19990218037\").with_columns(pl.col(\"rok\").map_elements(lambda x: datetime.date(year=int(x), month=1, day=1), return_dtype=pl.Date).cast(pl.Datetime))\n",
    "kafka.group_by(\"rok\").len().sort(\"rok\")"
   ]
  },
  {
   "cell_type": "code",
   "execution_count": 47,
   "id": "423c7dda-df4e-44c6-906a-b8670512c509",
   "metadata": {},
   "outputs": [
    {
     "data": {
      "text/html": [
       "\n",
       "<style>\n",
       "  #altair-viz-a270c1a49ab04e678137256437aa8daa.vega-embed {\n",
       "    width: 100%;\n",
       "    display: flex;\n",
       "  }\n",
       "\n",
       "  #altair-viz-a270c1a49ab04e678137256437aa8daa.vega-embed details,\n",
       "  #altair-viz-a270c1a49ab04e678137256437aa8daa.vega-embed details summary {\n",
       "    position: relative;\n",
       "  }\n",
       "</style>\n",
       "<div id=\"altair-viz-a270c1a49ab04e678137256437aa8daa\"></div>\n",
       "<script type=\"text/javascript\">\n",
       "  var VEGA_DEBUG = (typeof VEGA_DEBUG == \"undefined\") ? {} : VEGA_DEBUG;\n",
       "  (function(spec, embedOpt){\n",
       "    let outputDiv = document.currentScript.previousElementSibling;\n",
       "    if (outputDiv.id !== \"altair-viz-a270c1a49ab04e678137256437aa8daa\") {\n",
       "      outputDiv = document.getElementById(\"altair-viz-a270c1a49ab04e678137256437aa8daa\");\n",
       "    }\n",
       "    const paths = {\n",
       "      \"vega\": \"https://cdn.jsdelivr.net/npm/vega@5?noext\",\n",
       "      \"vega-lib\": \"https://cdn.jsdelivr.net/npm/vega-lib?noext\",\n",
       "      \"vega-lite\": \"https://cdn.jsdelivr.net/npm/vega-lite@5.8.0?noext\",\n",
       "      \"vega-embed\": \"https://cdn.jsdelivr.net/npm/vega-embed@6?noext\",\n",
       "    };\n",
       "\n",
       "    function maybeLoadScript(lib, version) {\n",
       "      var key = `${lib.replace(\"-\", \"\")}_version`;\n",
       "      return (VEGA_DEBUG[key] == version) ?\n",
       "        Promise.resolve(paths[lib]) :\n",
       "        new Promise(function(resolve, reject) {\n",
       "          var s = document.createElement('script');\n",
       "          document.getElementsByTagName(\"head\")[0].appendChild(s);\n",
       "          s.async = true;\n",
       "          s.onload = () => {\n",
       "            VEGA_DEBUG[key] = version;\n",
       "            return resolve(paths[lib]);\n",
       "          };\n",
       "          s.onerror = () => reject(`Error loading script: ${paths[lib]}`);\n",
       "          s.src = paths[lib];\n",
       "        });\n",
       "    }\n",
       "\n",
       "    function showError(err) {\n",
       "      outputDiv.innerHTML = `<div class=\"error\" style=\"color:red;\">${err}</div>`;\n",
       "      throw err;\n",
       "    }\n",
       "\n",
       "    function displayChart(vegaEmbed) {\n",
       "      vegaEmbed(outputDiv, spec, embedOpt)\n",
       "        .catch(err => showError(`Javascript Error: ${err.message}<br>This usually means there's a typo in your chart specification. See the javascript console for the full traceback.`));\n",
       "    }\n",
       "\n",
       "    if(typeof define === \"function\" && define.amd) {\n",
       "      requirejs.config({paths});\n",
       "      require([\"vega-embed\"], displayChart, err => showError(`Error loading script: ${err.message}`));\n",
       "    } else {\n",
       "      maybeLoadScript(\"vega\", \"5\")\n",
       "        .then(() => maybeLoadScript(\"vega-lite\", \"5.8.0\"))\n",
       "        .then(() => maybeLoadScript(\"vega-embed\", \"6\"))\n",
       "        .catch(showError)\n",
       "        .then(() => displayChart(vegaEmbed));\n",
       "    }\n",
       "  })({\"config\": {\"view\": {\"continuousWidth\": 300, \"continuousHeight\": 300}}, \"data\": {\"name\": \"data-e1a0b6da0d63c54bb0bd7825187d1377\"}, \"mark\": {\"type\": \"bar\"}, \"encoding\": {\"x\": {\"field\": \"rok\", \"type\": \"temporal\"}, \"y\": {\"field\": \"len\", \"type\": \"quantitative\"}}, \"$schema\": \"https://vega.github.io/schema/vega-lite/v5.8.0.json\", \"datasets\": {\"data-e1a0b6da0d63c54bb0bd7825187d1377\": [{\"rok\": \"1928-01-01T00:00:00\", \"len\": 1}, {\"rok\": \"1929-01-01T00:00:00\", \"len\": 2}, {\"rok\": \"1931-01-01T00:00:00\", \"len\": 1}, {\"rok\": \"1935-01-01T00:00:00\", \"len\": 1}, {\"rok\": \"1946-01-01T00:00:00\", \"len\": 1}, {\"rok\": \"1958-01-01T00:00:00\", \"len\": 1}, {\"rok\": \"1962-01-01T00:00:00\", \"len\": 1}, {\"rok\": \"1963-01-01T00:00:00\", \"len\": 1}, {\"rok\": \"1964-01-01T00:00:00\", \"len\": 2}, {\"rok\": \"1965-01-01T00:00:00\", \"len\": 1}, {\"rok\": \"1968-01-01T00:00:00\", \"len\": 3}, {\"rok\": \"1969-01-01T00:00:00\", \"len\": 1}, {\"rok\": \"1983-01-01T00:00:00\", \"len\": 1}, {\"rok\": \"1989-01-01T00:00:00\", \"len\": 1}, {\"rok\": \"1990-01-01T00:00:00\", \"len\": 4}, {\"rok\": \"1991-01-01T00:00:00\", \"len\": 4}, {\"rok\": \"1992-01-01T00:00:00\", \"len\": 1}, {\"rok\": \"1993-01-01T00:00:00\", \"len\": 1}, {\"rok\": \"1995-01-01T00:00:00\", \"len\": 3}, {\"rok\": \"1996-01-01T00:00:00\", \"len\": 3}, {\"rok\": \"1997-01-01T00:00:00\", \"len\": 5}, {\"rok\": \"1998-01-01T00:00:00\", \"len\": 4}, {\"rok\": \"1999-01-01T00:00:00\", \"len\": 4}, {\"rok\": \"2000-01-01T00:00:00\", \"len\": 1}, {\"rok\": \"2001-01-01T00:00:00\", \"len\": 2}, {\"rok\": \"2002-01-01T00:00:00\", \"len\": 3}, {\"rok\": \"2003-01-01T00:00:00\", \"len\": 3}, {\"rok\": \"2004-01-01T00:00:00\", \"len\": 2}, {\"rok\": \"2005-01-01T00:00:00\", \"len\": 3}, {\"rok\": \"2006-01-01T00:00:00\", \"len\": 2}, {\"rok\": \"2007-01-01T00:00:00\", \"len\": 4}, {\"rok\": \"2008-01-01T00:00:00\", \"len\": 1}, {\"rok\": \"2009-01-01T00:00:00\", \"len\": 4}, {\"rok\": \"2012-01-01T00:00:00\", \"len\": 1}, {\"rok\": \"2013-01-01T00:00:00\", \"len\": 3}, {\"rok\": \"2014-01-01T00:00:00\", \"len\": 6}, {\"rok\": \"2015-01-01T00:00:00\", \"len\": 2}, {\"rok\": \"2016-01-01T00:00:00\", \"len\": 1}, {\"rok\": \"2020-01-01T00:00:00\", \"len\": 2}, {\"rok\": \"2021-01-01T00:00:00\", \"len\": 1}, {\"rok\": \"2022-01-01T00:00:00\", \"len\": 4}, {\"rok\": \"2023-01-01T00:00:00\", \"len\": 2}, {\"rok\": \"2024-01-01T00:00:00\", \"len\": 6}]}}, {\"mode\": \"vega-lite\"});\n",
       "</script>"
      ],
      "text/plain": [
       "alt.Chart(...)"
      ]
     },
     "execution_count": 47,
     "metadata": {},
     "output_type": "execute_result"
    }
   ],
   "source": [
    "alt.Chart(kafka.group_by(\"rok\").len().sort(\"rok\").to_pandas()).mark_bar().encode(alt.X(\"rok:T\"),alt.Y('len:Q'))"
   ]
  },
  {
   "cell_type": "code",
   "execution_count": 49,
   "id": "888b8a5d-c56a-4ae7-90fd-f1fbfc82fcc3",
   "metadata": {},
   "outputs": [
    {
     "data": {
      "text/html": [
       "\n",
       "<style>\n",
       "  #altair-viz-8d3df319d14f48e881d2315dced1dde1.vega-embed {\n",
       "    width: 100%;\n",
       "    display: flex;\n",
       "  }\n",
       "\n",
       "  #altair-viz-8d3df319d14f48e881d2315dced1dde1.vega-embed details,\n",
       "  #altair-viz-8d3df319d14f48e881d2315dced1dde1.vega-embed details summary {\n",
       "    position: relative;\n",
       "  }\n",
       "</style>\n",
       "<div id=\"altair-viz-8d3df319d14f48e881d2315dced1dde1\"></div>\n",
       "<script type=\"text/javascript\">\n",
       "  var VEGA_DEBUG = (typeof VEGA_DEBUG == \"undefined\") ? {} : VEGA_DEBUG;\n",
       "  (function(spec, embedOpt){\n",
       "    let outputDiv = document.currentScript.previousElementSibling;\n",
       "    if (outputDiv.id !== \"altair-viz-8d3df319d14f48e881d2315dced1dde1\") {\n",
       "      outputDiv = document.getElementById(\"altair-viz-8d3df319d14f48e881d2315dced1dde1\");\n",
       "    }\n",
       "    const paths = {\n",
       "      \"vega\": \"https://cdn.jsdelivr.net/npm/vega@5?noext\",\n",
       "      \"vega-lib\": \"https://cdn.jsdelivr.net/npm/vega-lib?noext\",\n",
       "      \"vega-lite\": \"https://cdn.jsdelivr.net/npm/vega-lite@5.8.0?noext\",\n",
       "      \"vega-embed\": \"https://cdn.jsdelivr.net/npm/vega-embed@6?noext\",\n",
       "    };\n",
       "\n",
       "    function maybeLoadScript(lib, version) {\n",
       "      var key = `${lib.replace(\"-\", \"\")}_version`;\n",
       "      return (VEGA_DEBUG[key] == version) ?\n",
       "        Promise.resolve(paths[lib]) :\n",
       "        new Promise(function(resolve, reject) {\n",
       "          var s = document.createElement('script');\n",
       "          document.getElementsByTagName(\"head\")[0].appendChild(s);\n",
       "          s.async = true;\n",
       "          s.onload = () => {\n",
       "            VEGA_DEBUG[key] = version;\n",
       "            return resolve(paths[lib]);\n",
       "          };\n",
       "          s.onerror = () => reject(`Error loading script: ${paths[lib]}`);\n",
       "          s.src = paths[lib];\n",
       "        });\n",
       "    }\n",
       "\n",
       "    function showError(err) {\n",
       "      outputDiv.innerHTML = `<div class=\"error\" style=\"color:red;\">${err}</div>`;\n",
       "      throw err;\n",
       "    }\n",
       "\n",
       "    function displayChart(vegaEmbed) {\n",
       "      vegaEmbed(outputDiv, spec, embedOpt)\n",
       "        .catch(err => showError(`Javascript Error: ${err.message}<br>This usually means there's a typo in your chart specification. See the javascript console for the full traceback.`));\n",
       "    }\n",
       "\n",
       "    if(typeof define === \"function\" && define.amd) {\n",
       "      requirejs.config({paths});\n",
       "      require([\"vega-embed\"], displayChart, err => showError(`Error loading script: ${err.message}`));\n",
       "    } else {\n",
       "      maybeLoadScript(\"vega\", \"5\")\n",
       "        .then(() => maybeLoadScript(\"vega-lite\", \"5.8.0\"))\n",
       "        .then(() => maybeLoadScript(\"vega-embed\", \"6\"))\n",
       "        .catch(showError)\n",
       "        .then(() => displayChart(vegaEmbed));\n",
       "    }\n",
       "  })({\"config\": {\"view\": {\"continuousWidth\": 300, \"continuousHeight\": 300}}, \"data\": {\"name\": \"data-ec8de650da75fec921dd924eee20731f\"}, \"mark\": {\"type\": \"bar\"}, \"encoding\": {\"x\": {\"field\": \"rok\", \"type\": \"temporal\"}, \"y\": {\"field\": \"len\", \"type\": \"quantitative\"}}, \"$schema\": \"https://vega.github.io/schema/vega-lite/v5.8.0.json\", \"datasets\": {\"data-ec8de650da75fec921dd924eee20731f\": [{\"rok\": \"1963-01-01T00:00:00\", \"len\": 1}, {\"rok\": \"1964-01-01T00:00:00\", \"len\": 2}, {\"rok\": \"1965-01-01T00:00:00\", \"len\": 1}, {\"rok\": \"1966-01-01T00:00:00\", \"len\": 1}, {\"rok\": \"1968-01-01T00:00:00\", \"len\": 1}, {\"rok\": \"1969-01-01T00:00:00\", \"len\": 1}, {\"rok\": \"1989-01-01T00:00:00\", \"len\": 2}, {\"rok\": \"1990-01-01T00:00:00\", \"len\": 14}, {\"rok\": \"1991-01-01T00:00:00\", \"len\": 2}, {\"rok\": \"1992-01-01T00:00:00\", \"len\": 3}, {\"rok\": \"1993-01-01T00:00:00\", \"len\": 3}, {\"rok\": \"1994-01-01T00:00:00\", \"len\": 1}, {\"rok\": \"1995-01-01T00:00:00\", \"len\": 1}, {\"rok\": \"1996-01-01T00:00:00\", \"len\": 4}, {\"rok\": \"1997-01-01T00:00:00\", \"len\": 2}, {\"rok\": \"1998-01-01T00:00:00\", \"len\": 1}, {\"rok\": \"1999-01-01T00:00:00\", \"len\": 8}, {\"rok\": \"2000-01-01T00:00:00\", \"len\": 2}, {\"rok\": \"2001-01-01T00:00:00\", \"len\": 1}, {\"rok\": \"2002-01-01T00:00:00\", \"len\": 1}, {\"rok\": \"2003-01-01T00:00:00\", \"len\": 2}, {\"rok\": \"2005-01-01T00:00:00\", \"len\": 1}, {\"rok\": \"2006-01-01T00:00:00\", \"len\": 2}, {\"rok\": \"2007-01-01T00:00:00\", \"len\": 3}, {\"rok\": \"2010-01-01T00:00:00\", \"len\": 3}, {\"rok\": \"2011-01-01T00:00:00\", \"len\": 5}, {\"rok\": \"2012-01-01T00:00:00\", \"len\": 4}, {\"rok\": \"2013-01-01T00:00:00\", \"len\": 3}, {\"rok\": \"2014-01-01T00:00:00\", \"len\": 2}, {\"rok\": \"2015-01-01T00:00:00\", \"len\": 4}, {\"rok\": \"2017-01-01T00:00:00\", \"len\": 1}, {\"rok\": \"2018-01-01T00:00:00\", \"len\": 2}, {\"rok\": \"2019-01-01T00:00:00\", \"len\": 4}, {\"rok\": \"2021-01-01T00:00:00\", \"len\": 2}, {\"rok\": \"2022-01-01T00:00:00\", \"len\": 1}, {\"rok\": \"2023-01-01T00:00:00\", \"len\": 1}, {\"rok\": \"2024-01-01T00:00:00\", \"len\": 2}]}}, {\"mode\": \"vega-lite\"});\n",
       "</script>"
      ],
      "text/plain": [
       "alt.Chart(...)"
      ]
     },
     "execution_count": 49,
     "metadata": {},
     "output_type": "execute_result"
    }
   ],
   "source": [
    "alt.Chart(df.filter(pl.col(\"100_7\") == 'jk01040240').group_by('rok').len().sort('rok').with_columns(pl.col(\"rok\").map_elements(lambda x: datetime.date(year=int(x), month=1, day=1), return_dtype=pl.Date).cast(pl.Datetime)).to_pandas()).mark_bar().encode(alt.X(\"rok:T\"),alt.Y('len:Q'))"
   ]
  },
  {
   "cell_type": "code",
   "execution_count": 55,
   "id": "7e8b5ec7-1b97-4baf-ad8d-63c61da3bd7f",
   "metadata": {},
   "outputs": [
    {
     "data": {
      "text/html": [
       "<div><style>\n",
       ".dataframe > thead > tr,\n",
       ".dataframe > tbody > tr {\n",
       "  text-align: right;\n",
       "  white-space: pre-wrap;\n",
       "}\n",
       "</style>\n",
       "<small>shape: (127, 64)</small><table border=\"1\" class=\"dataframe\"><thead><tr><th>008</th><th>020_a</th><th>020_c</th><th>020_q</th><th>041_a</th><th>041_h</th><th>041_ind1</th><th>044_a</th><th>072_a</th><th>072_x</th><th>080_a</th><th>100_4</th><th>100_7</th><th>100_a</th><th>100_d</th><th>240_l</th><th>245_a</th><th>245_c</th><th>245_n</th><th>245_p</th><th>246_a</th><th>250_a</th><th>250_b</th><th>260_a</th><th>260_b</th><th>260_c</th><th>260_e</th><th>260_f</th><th>260_ind1</th><th>264_a</th><th>264_b</th><th>264_c</th><th>264_ind2</th><th>300_a</th><th>300_b</th><th>300_c</th><th>490_a</th><th>490_v</th><th>500_a</th><th>521_a</th><th>546_a</th><th>648_a</th><th>650_a</th><th>650_x</th><th>650_y</th><th>650_z</th><th>651_a</th><th>653_a</th><th>655_a</th><th>700_4</th><th>700_7</th><th>700_a</th><th>700_d</th><th>710_4</th><th>710_7</th><th>710_a</th><th>710_b</th><th>830_a</th><th>928_a</th><th>964_a</th><th>leader</th><th>001</th><th>rok</th><th>pocet_stran</th></tr><tr><td>str</td><td>list[str]</td><td>list[str]</td><td>list[str]</td><td>list[str]</td><td>list[str]</td><td>str</td><td>list[str]</td><td>list[str]</td><td>list[str]</td><td>list[str]</td><td>list[str]</td><td>str</td><td>str</td><td>str</td><td>str</td><td>str</td><td>str</td><td>list[str]</td><td>list[str]</td><td>list[str]</td><td>list[str]</td><td>list[str]</td><td>list[str]</td><td>list[str]</td><td>list[str]</td><td>list[str]</td><td>list[str]</td><td>list[str]</td><td>list[str]</td><td>list[str]</td><td>list[str]</td><td>list[str]</td><td>list[str]</td><td>list[str]</td><td>list[str]</td><td>list[str]</td><td>list[str]</td><td>list[str]</td><td>list[str]</td><td>list[str]</td><td>list[str]</td><td>list[str]</td><td>list[str]</td><td>list[str]</td><td>list[str]</td><td>list[str]</td><td>list[str]</td><td>list[str]</td><td>list[str]</td><td>list[str]</td><td>list[str]</td><td>list[str]</td><td>list[str]</td><td>list[str]</td><td>list[str]</td><td>list[str]</td><td>list[str]</td><td>list[str]</td><td>list[str]</td><td>str</td><td>str</td><td>i64</td><td>i64</td></tr></thead><tbody><tr><td>&quot;980119s1963    xr     g      0…</td><td>null</td><td>[&quot;Kčs 6,00&quot;]</td><td>[&quot;(Vázáno) :&quot;]</td><td>null</td><td>null</td><td>null</td><td>null</td><td>[&quot;821.162.3-3&quot;]</td><td>[&quot;Česká próza&quot;]</td><td>[&quot;821.162.3-32&quot;, &quot;(0:82-32)&quot;]</td><td>[&quot;aut&quot;]</td><td>&quot;jk01130413&quot;</td><td>&quot;Škvorecký, Josef,&quot;</td><td>&quot;1924-2012&quot;</td><td>null</td><td>&quot;Legenda Emöke /&quot;</td><td>&quot;Josef Škvorecký&quot;</td><td>null</td><td>null</td><td>null</td><td>[&quot;Vydání 1.&quot;]</td><td>null</td><td>null</td><td>null</td><td>null</td><td>null</td><td>null</td><td>null</td><td>[&quot;Praha :&quot;]</td><td>[&quot;Československý spisovatel,&quot;]</td><td>[&quot;1963&quot;]</td><td>[&quot;1&quot;]</td><td>[&quot;78 stran ;&quot;]</td><td>null</td><td>[&quot;18 cm&quot;]</td><td>null</td><td>null</td><td>[&quot;V roce 1963 dotisk&quot;, &quot;10000 výtisků&quot;]</td><td>null</td><td>null</td><td>null</td><td>null</td><td>null</td><td>null</td><td>null</td><td>null</td><td>null</td><td>[&quot;české novely&quot;, &quot;Czech novellas&quot;]</td><td>null</td><td>null</td><td>null</td><td>null</td><td>null</td><td>null</td><td>null</td><td>null</td><td>null</td><td>null</td><td>null</td><td>&quot;     nam a22      i 4500&quot;</td><td>&quot;bk196303619&quot;</td><td>1963</td><td>78</td></tr><tr><td>&quot;970915s1964    xr            0…</td><td>null</td><td>null</td><td>[&quot;(Váz.)&quot;]</td><td>null</td><td>null</td><td>null</td><td>null</td><td>null</td><td>null</td><td>[&quot;885-321.2-32:940.5(=924:437)&quot;]</td><td>[&quot;aut&quot;]</td><td>&quot;jk01130413&quot;</td><td>&quot;Škvorecký, Josef,&quot;</td><td>&quot;1924-2012&quot;</td><td>null</td><td>&quot;Sedmiramenný svícen /&quot;</td><td>&quot;Josef Škvorecký ; il. Františe…</td><td>null</td><td>null</td><td>null</td><td>[&quot;1. vyd.&quot;]</td><td>null</td><td>[&quot;Praha :&quot;]</td><td>[&quot;Naše vojsko,&quot;]</td><td>[&quot;1964&quot;]</td><td>null</td><td>null</td><td>null</td><td>null</td><td>null</td><td>null</td><td>null</td><td>[&quot;129, [2] s. :&quot;]</td><td>[&quot;il. ;&quot;]</td><td>[&quot;21 cm&quot;]</td><td>[&quot;Živé knihy ;&quot;]</td><td>[&quot;sv. 53&quot;]</td><td>[&quot;Obálka, vazba a tit. dvoulist: ilustrátor&quot;, &quot;20000 výt.&quot;]</td><td>null</td><td>null</td><td>null</td><td>null</td><td>null</td><td>null</td><td>null</td><td>null</td><td>null</td><td>null</td><td>null</td><td>null</td><td>null</td><td>null</td><td>null</td><td>[&quot;kn20020322091&quot;]</td><td>[&quot;Svaz protifašistických bojovníků&quot;]</td><td>null</td><td>[&quot;Živé knihy (Naše vojsko)&quot;]</td><td>null</td><td>[&quot;Židé - válka světová 1939-1945 - povídky&quot;, &quot;Válka světová 1939-1945 - židé - povídky&quot;]</td><td>&quot;     nam a22     1  4500&quot;</td><td>&quot;bk196400765&quot;</td><td>1964</td><td>129</td></tr><tr><td>&quot;970903s1965    xr a          0…</td><td>null</td><td>null</td><td>[&quot;(Váz.)&quot;]</td><td>null</td><td>null</td><td>null</td><td>null</td><td>null</td><td>null</td><td>[&quot;885-321.2-32:940.5(=924:437)&quot;]</td><td>[&quot;aut&quot;]</td><td>&quot;jk01130413&quot;</td><td>&quot;Škvorecký, Josef,&quot;</td><td>&quot;1924-2012&quot;</td><td>null</td><td>&quot;Sedmiramenný svícen /&quot;</td><td>&quot;Josef Škvorecký ; [ilustrace F…</td><td>null</td><td>null</td><td>null</td><td>[&quot;2. vyd.&quot;]</td><td>null</td><td>[&quot;Praha :&quot;]</td><td>[&quot;Naše vojsko,&quot;]</td><td>[&quot;1965&quot;]</td><td>null</td><td>null</td><td>null</td><td>null</td><td>null</td><td>null</td><td>null</td><td>[&quot;129, [2] s. :&quot;]</td><td>[&quot;il. ;&quot;]</td><td>[&quot;8°&quot;]</td><td>[&quot;Živé knihy : edice Svazu protifašistických bojovníků ;&quot;]</td><td>[&quot;sv. 53&quot;]</td><td>[&quot;35000 výt.&quot;]</td><td>null</td><td>null</td><td>null</td><td>null</td><td>null</td><td>null</td><td>null</td><td>null</td><td>null</td><td>null</td><td>[&quot;ill&quot;]</td><td>[&quot;jk01043203&quot;]</td><td>[&quot;Hudeček, František,&quot;]</td><td>[&quot;1909-1990&quot;]</td><td>null</td><td>null</td><td>null</td><td>null</td><td>[&quot;Živé knihy (Naše vojsko)&quot;]</td><td>null</td><td>[&quot;Válka světová 1939-1945 - židé - povídky&quot;, &quot;Židé - válka světová 1939-1945 - povídky&quot;]</td><td>&quot;     nam a22     1a 4500&quot;</td><td>&quot;bk196502081&quot;</td><td>1965</td><td>129</td></tr><tr><td>&quot;971021s1965    xr             …</td><td>null</td><td>null</td><td>null</td><td>null</td><td>null</td><td>null</td><td>null</td><td>null</td><td>null</td><td>[&quot;885-321.1&quot;]</td><td>[&quot;aut&quot;]</td><td>&quot;jk01130413&quot;</td><td>&quot;Škvorecký, Josef,&quot;</td><td>&quot;1924-2012&quot;</td><td>null</td><td>&quot;Legenda Emöke /&quot;</td><td>&quot;Josef Škvorecký&quot;</td><td>null</td><td>null</td><td>null</td><td>[&quot;2. vyd.&quot;]</td><td>null</td><td>[&quot;Praha :&quot;]</td><td>[&quot;Československý spisovatel,&quot;]</td><td>[&quot;1965&quot;]</td><td>[&quot;(Přerov :&quot;]</td><td>[&quot;Tisk 04)&quot;]</td><td>null</td><td>null</td><td>null</td><td>null</td><td>null</td><td>[&quot;71, [2] s. ;&quot;]</td><td>null</td><td>[&quot;8°&quot;]</td><td>[&quot;Život kolem nás. Malá řada ;&quot;]</td><td>[&quot;Sv. 15&quot;]</td><td>[&quot;Obálku s použitím kresby Marca Chagalla a vazbu navrhl Zdenek Seydl&quot;, &quot;10000 výt.&quot;]</td><td>null</td><td>null</td><td>null</td><td>null</td><td>null</td><td>null</td><td>null</td><td>null</td><td>null</td><td>null</td><td>null</td><td>null</td><td>null</td><td>null</td><td>null</td><td>null</td><td>null</td><td>null</td><td>[&quot;Život kolem nás.&quot;]</td><td>null</td><td>null</td><td>&quot;     nam a22     1  4500&quot;</td><td>&quot;bk196503454&quot;</td><td>1965</td><td>71</td></tr><tr><td>&quot;971009s1966    xr            0…</td><td>null</td><td>[&quot;Kčs 18,00&quot;]</td><td>[&quot;(Váz.) :&quot;]</td><td>null</td><td>null</td><td>null</td><td>null</td><td>null</td><td>null</td><td>[&quot;885-31-311.6(437)&quot;1945.05&quot;+ 92 Škvorecký, J.&quot;]</td><td>[&quot;aut&quot;]</td><td>&quot;jk01130413&quot;</td><td>&quot;Škvorecký, Josef,&quot;</td><td>&quot;1924-2012&quot;</td><td>null</td><td>&quot;Zbabělci /&quot;</td><td>&quot;Josef Škvorecký ; [doslov Mila…</td><td>null</td><td>null</td><td>null</td><td>[&quot;Vyd. 3.&quot;]</td><td>null</td><td>[&quot;Praha :&quot;]</td><td>[&quot;Československý spisovatel,&quot;]</td><td>[&quot;1966&quot;]</td><td>null</td><td>null</td><td>null</td><td>null</td><td>null</td><td>null</td><td>null</td><td>[&quot;375 s. ;&quot;]</td><td>null</td><td>[&quot;19 cm&quot;]</td><td>[&quot;Klíč : knihovna lidové četby ;&quot;]</td><td>[&quot;sv. 62&quot;]</td><td>[&quot;60000 výt.&quot;]</td><td>null</td><td>null</td><td>null</td><td>null</td><td>null</td><td>null</td><td>null</td><td>null</td><td>null</td><td>null</td><td>[&quot;aft&quot;]</td><td>[&quot;jk01052189&quot;]</td><td>[&quot;Jungmann, Milan,&quot;]</td><td>[&quot;1922-2012&quot;]</td><td>null</td><td>null</td><td>null</td><td>null</td><td>[&quot;Klíč (Československý spisovatel)&quot;]</td><td>null</td><td>[&quot;Květen 1945 - maloměsto české - romány&quot;]</td><td>&quot;     nam a22        4500&quot;</td><td>&quot;bk196602037&quot;</td><td>1966</td><td>375</td></tr><tr><td>&hellip;</td><td>&hellip;</td><td>&hellip;</td><td>&hellip;</td><td>&hellip;</td><td>&hellip;</td><td>&hellip;</td><td>&hellip;</td><td>&hellip;</td><td>&hellip;</td><td>&hellip;</td><td>&hellip;</td><td>&hellip;</td><td>&hellip;</td><td>&hellip;</td><td>&hellip;</td><td>&hellip;</td><td>&hellip;</td><td>&hellip;</td><td>&hellip;</td><td>&hellip;</td><td>&hellip;</td><td>&hellip;</td><td>&hellip;</td><td>&hellip;</td><td>&hellip;</td><td>&hellip;</td><td>&hellip;</td><td>&hellip;</td><td>&hellip;</td><td>&hellip;</td><td>&hellip;</td><td>&hellip;</td><td>&hellip;</td><td>&hellip;</td><td>&hellip;</td><td>&hellip;</td><td>&hellip;</td><td>&hellip;</td><td>&hellip;</td><td>&hellip;</td><td>&hellip;</td><td>&hellip;</td><td>&hellip;</td><td>&hellip;</td><td>&hellip;</td><td>&hellip;</td><td>&hellip;</td><td>&hellip;</td><td>&hellip;</td><td>&hellip;</td><td>&hellip;</td><td>&hellip;</td><td>&hellip;</td><td>&hellip;</td><td>&hellip;</td><td>&hellip;</td><td>&hellip;</td><td>&hellip;</td><td>&hellip;</td><td>&hellip;</td><td>&hellip;</td><td>&hellip;</td><td>&hellip;</td></tr><tr><td>&quot;941209s1996    xr     g      0…</td><td>[&quot;80-237-1890-8&quot;]</td><td>[&quot;Kč 164,00&quot;]</td><td>[&quot;(váz.) :&quot;]</td><td>null</td><td>null</td><td>null</td><td>null</td><td>[&quot;821.162.3-3&quot;]</td><td>[&quot;Česká próza&quot;]</td><td>[&quot;821.162.3-3&quot;, &quot;821.162.3-32&quot;, … &quot;(081.1)&quot;]</td><td>[&quot;aut&quot;]</td><td>&quot;jk01130413&quot;</td><td>&quot;Škvorecký, Josef,&quot;</td><td>&quot;1924-2012&quot;</td><td>null</td><td>&quot;Nové canterburské povídky a ji…</td><td>&quot;Josef Škvorecký ; [s autorem v…</td><td>null</td><td>null</td><td>null</td><td>[&quot;Vyd. v tomto celku 1.&quot;]</td><td>null</td><td>[&quot;Praha :&quot;]</td><td>[&quot;Ivo Železný,&quot;]</td><td>[&quot;1996&quot;]</td><td>null</td><td>null</td><td>null</td><td>null</td><td>null</td><td>null</td><td>null</td><td>[&quot;301 s. ;&quot;]</td><td>null</td><td>[&quot;21 cm&quot;]</td><td>[&quot;Spisy Josefa Škvoreckého ;&quot;]</td><td>[&quot;sv. 3&quot;]</td><td>[&quot;Autorská, ediční a textologická pozn.&quot;]</td><td>null</td><td>null</td><td>[&quot;1947&quot;]</td><td>[&quot;česká próza&quot;, &quot;Czech short stories&quot;]</td><td>null</td><td>[&quot;1945-1948&quot;, &quot;1945-1948&quot;]</td><td>null</td><td>null</td><td>null</td><td>[&quot;české povídky&quot;, &quot;sebrané spisy&quot;, … &quot;collected works&quot;]</td><td>[&quot;edt&quot;]</td><td>[&quot;jk01052278&quot;]</td><td>[&quot;Justl, Vladimír,&quot;]</td><td>[&quot;1928-2010&quot;]</td><td>null</td><td>null</td><td>null</td><td>null</td><td>[&quot;Spisy (Josef Škvorecký) (Ivo Železný)&quot;]</td><td>null</td><td>null</td><td>&quot;     nam a22        4500&quot;</td><td>&quot;np9435156&quot;</td><td>1996</td><td>301</td></tr><tr><td>&quot;950524s1994    xr a         u0…</td><td>[&quot;80-901731-0-1&quot;]</td><td>[&quot;Kč 55,00&quot;]</td><td>[&quot;(brož.) :&quot;]</td><td>null</td><td>null</td><td>null</td><td>null</td><td>null</td><td>null</td><td>[&quot;885.0-94&quot;, &quot;929&quot;]</td><td>[&quot;aut&quot;]</td><td>&quot;jk01130413&quot;</td><td>&quot;Škvorecký, Josef,&quot;</td><td>&quot;1924-2012&quot;</td><td>null</td><td>&quot;Příběh neúspěšného tenorsaxofo…</td><td>&quot;Josef Škvorecký ; graf. úprava…</td><td>null</td><td>null</td><td>null</td><td>[&quot;1. vyd.&quot;]</td><td>null</td><td>[&quot;Praha :&quot;]</td><td>[&quot;Blízká setkání,&quot;]</td><td>[&quot;1994&quot;]</td><td>null</td><td>null</td><td>null</td><td>null</td><td>null</td><td>null</td><td>null</td><td>[&quot;87 s. :&quot;]</td><td>[&quot;fotogr. ;&quot;]</td><td>[&quot;20 cm&quot;]</td><td>null</td><td>null</td><td>[&quot;Frontispis&quot;]</td><td>null</td><td>null</td><td>null</td><td>null</td><td>null</td><td>null</td><td>null</td><td>null</td><td>null</td><td>[&quot;autobiografické vzpomínky&quot;, &quot;paměti&quot;]</td><td>[&quot;art&quot;]</td><td>[&quot;jn99240001125&quot;]</td><td>[&quot;Stejskal, Martin,&quot;]</td><td>[&quot;1944-&quot;]</td><td>null</td><td>null</td><td>null</td><td>null</td><td>null</td><td>null</td><td>[&quot;Škvorecký, Josef (spisovatel čes., *1924) - život a dílo - vzpomínky autobiografické&quot;]</td><td>&quot;     nam a22      a 4500&quot;</td><td>&quot;np9526382&quot;</td><td>1994</td><td>87</td></tr><tr><td>&quot;950724s1994    xr           u0…</td><td>[&quot;80-85274-30-2&quot;]</td><td>null</td><td>[&quot;(váz.)&quot;]</td><td>null</td><td>null</td><td>null</td><td>null</td><td>null</td><td>null</td><td>[&quot;908.437.1&quot;]</td><td>[&quot;aut&quot;]</td><td>&quot;jk01130413&quot;</td><td>&quot;Škvorecký, Josef,&quot;</td><td>&quot;1924-2012&quot;</td><td>null</td><td>&quot;Náchod :&quot;</td><td>&quot;napsal Josef Škvorecký ; fotog…</td><td>null</td><td>null</td><td>null</td><td>null</td><td>null</td><td>[&quot;Náchod :&quot;, &quot;[Praha] :&quot;, &quot;Nové Město nad Metují :&quot;]</td><td>[&quot;Městský úřad ;&quot;, &quot;Společnost Josefa Škvoreckého ;&quot;, &quot;IMP,&quot;]</td><td>[&quot;1994&quot;]</td><td>[&quot;(Velké Poříčí :&quot;]</td><td>[&quot;Tiskárny BNB)&quot;]</td><td>null</td><td>null</td><td>null</td><td>null</td><td>null</td><td>[&quot;119 s., [7] s. fot. :&quot;]</td><td>[&quot;fot. (některé barev.) ;&quot;]</td><td>[&quot;29 cm&quot;]</td><td>null</td><td>null</td><td>[&quot;Frontispis&quot;, &quot;Typ. Zbyněk Kočvar&quot;, &quot;Angl. a něm. res.&quot;]</td><td>null</td><td>null</td><td>null</td><td>null</td><td>null</td><td>null</td><td>null</td><td>[&quot;Náchod (Česko)&quot;]</td><td>null</td><td>[&quot;fotografické publikace&quot;]</td><td>[&quot;art&quot;, &quot;com&quot;, &quot;pht&quot;]</td><td>[&quot;jo20000082927&quot;, &quot;jk01121731&quot;, &quot;jn20000728189&quot;]</td><td>[&quot;Kočvar, Zbyněk,&quot;, &quot;Suchý, Jaroslav,&quot;, &quot;Hofman, Bronislav,&quot;]</td><td>[&quot;1950-&quot;, &quot;1921-2002&quot;, &quot;1933-&quot;]</td><td>null</td><td>null</td><td>null</td><td>null</td><td>null</td><td>null</td><td>[&quot;Náchod - publikace fotografické&quot;]</td><td>&quot;     nam a22        4500&quot;</td><td>&quot;np9536355&quot;</td><td>1994</td><td>119</td></tr><tr><td>&quot;950609s1995    xr     e      0…</td><td>[&quot;80-237-2402-9&quot;]</td><td>[&quot;Kč 54,00&quot;]</td><td>[&quot;(brož.) :&quot;]</td><td>null</td><td>null</td><td>null</td><td>null</td><td>[&quot;821.162.3-3&quot;]</td><td>[&quot;Česká próza&quot;]</td><td>[&quot;885.0-32&quot;]</td><td>[&quot;aut&quot;]</td><td>&quot;jk01130413&quot;</td><td>&quot;Škvorecký, Josef,&quot;</td><td>&quot;1924-2012&quot;</td><td>null</td><td>&quot;Povídky z Rajského údolí :&quot;</td><td>&quot;Josef Škvorecký&quot;</td><td>null</td><td>null</td><td>null</td><td>[&quot;Vyd. 1.&quot;]</td><td>null</td><td>[&quot;V Praze :&quot;]</td><td>[&quot;Ivo Železný,&quot;]</td><td>[&quot;1995&quot;]</td><td>[&quot;(Berlín :&quot;]</td><td>[&quot;Elsnerdruck)&quot;]</td><td>null</td><td>null</td><td>null</td><td>null</td><td>null</td><td>[&quot;116 s. ;&quot;]</td><td>null</td><td>[&quot;19 cm&quot;]</td><td>[&quot;Česká knihovna&quot;, &quot;Knížky dostupné každému ;&quot;]</td><td>[null, &quot;32&quot;]</td><td>[&quot;Obálka Karel Kárász&quot;]</td><td>null</td><td>null</td><td>null</td><td>null</td><td>null</td><td>null</td><td>null</td><td>null</td><td>null</td><td>[&quot;povídky&quot;]</td><td>[&quot;bjd&quot;]</td><td>[&quot;jx20040906007&quot;]</td><td>[&quot;Kárász, Karel,&quot;]</td><td>[&quot;1957-&quot;]</td><td>null</td><td>null</td><td>null</td><td>null</td><td>[&quot;Česká knihovna (Ivo Železný)&quot;, &quot;Knížky dostupné každému&quot;]</td><td>null</td><td>null</td><td>&quot;     nam a22        4500&quot;</td><td>&quot;np9542862&quot;</td><td>1995</td><td>116</td></tr><tr><td>&quot;950620s1991    xr a          0…</td><td>[&quot;80-7012-055-X&quot;]</td><td>null</td><td>[&quot;(brož.)&quot;]</td><td>null</td><td>null</td><td>null</td><td>null</td><td>null</td><td>null</td><td>[&quot;929&quot;, &quot;791&quot;]</td><td>[&quot;aut&quot;]</td><td>&quot;jk01130413&quot;</td><td>&quot;Škvorecký, Josef,&quot;</td><td>&quot;1924-2012&quot;</td><td>null</td><td>&quot;Všichni ti bystří mladí muži a…</td><td>&quot;Josef Škvorecký&quot;</td><td>null</td><td>null</td><td>null</td><td>[&quot;Vyd. 1.&quot;]</td><td>null</td><td>[&quot;Praha :&quot;]</td><td>[&quot;Horizont,&quot;]</td><td>[&quot;1991&quot;]</td><td>[&quot;(České Budějovice :&quot;]</td><td>[&quot;Jihočeské tiskárny)&quot;]</td><td>null</td><td>null</td><td>null</td><td>null</td><td>null</td><td>[&quot;247 s. :&quot;]</td><td>[&quot;fotogr. ;&quot;]</td><td>[&quot;23 cm&quot;]</td><td>null</td><td>null</td><td>[&quot;Odkazy na lit.&quot;, &quot;Pozn&quot;, &quot;Obálka a graf. úprava Miloslav Fulín&quot;]</td><td>null</td><td>null</td><td>null</td><td>null</td><td>null</td><td>null</td><td>null</td><td>null</td><td>null</td><td>null</td><td>[&quot;art&quot;]</td><td>[&quot;jk01032170&quot;]</td><td>[&quot;Fulín, Miloslav,&quot;]</td><td>[&quot;1928-2019&quot;]</td><td>null</td><td>null</td><td>null</td><td>null</td><td>null</td><td>null</td><td>[&quot;film český - dějiny - osobnosti významné&quot;]</td><td>&quot;     nam a22      a 4500&quot;</td><td>&quot;np9543457&quot;</td><td>1991</td><td>247</td></tr></tbody></table></div>"
      ],
      "text/plain": [
       "shape: (127, 64)\n",
       "┌───────────────┬───────────────┬───────────────┬───────────────┬───┬───────────────┬─────────────┬──────┬─────────────┐\n",
       "│ 008           ┆ 020_a         ┆ 020_c         ┆ 020_q         ┆ … ┆ leader        ┆ 001         ┆ rok  ┆ pocet_stran │\n",
       "│ ---           ┆ ---           ┆ ---           ┆ ---           ┆   ┆ ---           ┆ ---         ┆ ---  ┆ ---         │\n",
       "│ str           ┆ list[str]     ┆ list[str]     ┆ list[str]     ┆   ┆ str           ┆ str         ┆ i64  ┆ i64         │\n",
       "╞═══════════════╪═══════════════╪═══════════════╪═══════════════╪═══╪═══════════════╪═════════════╪══════╪═════════════╡\n",
       "│ 980119s1963   ┆ null          ┆ [\"Kčs 6,00\"]  ┆ [\"(Vázáno)    ┆ … ┆ nam a22       ┆ bk196303619 ┆ 1963 ┆ 78          │\n",
       "│ xr     g      ┆               ┆               ┆ :\"]           ┆   ┆ i 4500        ┆             ┆      ┆             │\n",
       "│ 0…            ┆               ┆               ┆               ┆   ┆               ┆             ┆      ┆             │\n",
       "│ 970915s1964   ┆ null          ┆ null          ┆ [\"(Váz.)\"]    ┆ … ┆ nam a22     1 ┆ bk196400765 ┆ 1964 ┆ 129         │\n",
       "│ xr            ┆               ┆               ┆               ┆   ┆ 4500          ┆             ┆      ┆             │\n",
       "│ 0…            ┆               ┆               ┆               ┆   ┆               ┆             ┆      ┆             │\n",
       "│ 970903s1965   ┆ null          ┆ null          ┆ [\"(Váz.)\"]    ┆ … ┆ nam a22       ┆ bk196502081 ┆ 1965 ┆ 129         │\n",
       "│ xr a          ┆               ┆               ┆               ┆   ┆ 1a 4500       ┆             ┆      ┆             │\n",
       "│ 0…            ┆               ┆               ┆               ┆   ┆               ┆             ┆      ┆             │\n",
       "│ 971021s1965   ┆ null          ┆ null          ┆ null          ┆ … ┆ nam a22     1 ┆ bk196503454 ┆ 1965 ┆ 71          │\n",
       "│ xr            ┆               ┆               ┆               ┆   ┆ 4500          ┆             ┆      ┆             │\n",
       "│ …             ┆               ┆               ┆               ┆   ┆               ┆             ┆      ┆             │\n",
       "│ 971009s1966   ┆ null          ┆ [\"Kčs 18,00\"] ┆ [\"(Váz.) :\"]  ┆ … ┆ nam a22       ┆ bk196602037 ┆ 1966 ┆ 375         │\n",
       "│ xr            ┆               ┆               ┆               ┆   ┆ 4500          ┆             ┆      ┆             │\n",
       "│ 0…            ┆               ┆               ┆               ┆   ┆               ┆             ┆      ┆             │\n",
       "│ …             ┆ …             ┆ …             ┆ …             ┆ … ┆ …             ┆ …           ┆ …    ┆ …           │\n",
       "│ 941209s1996   ┆ [\"80-237-1890 ┆ [\"Kč 164,00\"] ┆ [\"(váz.) :\"]  ┆ … ┆ nam a22       ┆ np9435156   ┆ 1996 ┆ 301         │\n",
       "│ xr     g      ┆ -8\"]          ┆               ┆               ┆   ┆ 4500          ┆             ┆      ┆             │\n",
       "│ 0…            ┆               ┆               ┆               ┆   ┆               ┆             ┆      ┆             │\n",
       "│ 950524s1994   ┆ [\"80-901731-0 ┆ [\"Kč 55,00\"]  ┆ [\"(brož.) :\"] ┆ … ┆ nam a22       ┆ np9526382   ┆ 1994 ┆ 87          │\n",
       "│ xr a          ┆ -1\"]          ┆               ┆               ┆   ┆ a 4500        ┆             ┆      ┆             │\n",
       "│ u0…           ┆               ┆               ┆               ┆   ┆               ┆             ┆      ┆             │\n",
       "│ 950724s1994   ┆ [\"80-85274-30 ┆ null          ┆ [\"(váz.)\"]    ┆ … ┆ nam a22       ┆ np9536355   ┆ 1994 ┆ 119         │\n",
       "│ xr            ┆ -2\"]          ┆               ┆               ┆   ┆ 4500          ┆             ┆      ┆             │\n",
       "│ u0…           ┆               ┆               ┆               ┆   ┆               ┆             ┆      ┆             │\n",
       "│ 950609s1995   ┆ [\"80-237-2402 ┆ [\"Kč 54,00\"]  ┆ [\"(brož.) :\"] ┆ … ┆ nam a22       ┆ np9542862   ┆ 1995 ┆ 116         │\n",
       "│ xr     e      ┆ -9\"]          ┆               ┆               ┆   ┆ 4500          ┆             ┆      ┆             │\n",
       "│ 0…            ┆               ┆               ┆               ┆   ┆               ┆             ┆      ┆             │\n",
       "│ 950620s1991   ┆ [\"80-7012-055 ┆ null          ┆ [\"(brož.)\"]   ┆ … ┆ nam a22       ┆ np9543457   ┆ 1991 ┆ 247         │\n",
       "│ xr a          ┆ -X\"]          ┆               ┆               ┆   ┆ a 4500        ┆             ┆      ┆             │\n",
       "│ 0…            ┆               ┆               ┆               ┆   ┆               ┆             ┆      ┆             │\n",
       "└───────────────┴───────────────┴───────────────┴───────────────┴───┴───────────────┴─────────────┴──────┴─────────────┘"
      ]
     },
     "execution_count": 55,
     "metadata": {},
     "output_type": "execute_result"
    }
   ],
   "source": [
    "df.filter(pl.col(\"100_a\").str.contains('Škvore'))"
   ]
  },
  {
   "cell_type": "code",
   "execution_count": 53,
   "id": "857c5771-6f80-445d-8266-591b64adab91",
   "metadata": {},
   "outputs": [
    {
     "data": {
      "text/html": [
       "\n",
       "<style>\n",
       "  #altair-viz-c7590d9c73984272a7f412513a904bfc.vega-embed {\n",
       "    width: 100%;\n",
       "    display: flex;\n",
       "  }\n",
       "\n",
       "  #altair-viz-c7590d9c73984272a7f412513a904bfc.vega-embed details,\n",
       "  #altair-viz-c7590d9c73984272a7f412513a904bfc.vega-embed details summary {\n",
       "    position: relative;\n",
       "  }\n",
       "</style>\n",
       "<div id=\"altair-viz-c7590d9c73984272a7f412513a904bfc\"></div>\n",
       "<script type=\"text/javascript\">\n",
       "  var VEGA_DEBUG = (typeof VEGA_DEBUG == \"undefined\") ? {} : VEGA_DEBUG;\n",
       "  (function(spec, embedOpt){\n",
       "    let outputDiv = document.currentScript.previousElementSibling;\n",
       "    if (outputDiv.id !== \"altair-viz-c7590d9c73984272a7f412513a904bfc\") {\n",
       "      outputDiv = document.getElementById(\"altair-viz-c7590d9c73984272a7f412513a904bfc\");\n",
       "    }\n",
       "    const paths = {\n",
       "      \"vega\": \"https://cdn.jsdelivr.net/npm/vega@5?noext\",\n",
       "      \"vega-lib\": \"https://cdn.jsdelivr.net/npm/vega-lib?noext\",\n",
       "      \"vega-lite\": \"https://cdn.jsdelivr.net/npm/vega-lite@5.8.0?noext\",\n",
       "      \"vega-embed\": \"https://cdn.jsdelivr.net/npm/vega-embed@6?noext\",\n",
       "    };\n",
       "\n",
       "    function maybeLoadScript(lib, version) {\n",
       "      var key = `${lib.replace(\"-\", \"\")}_version`;\n",
       "      return (VEGA_DEBUG[key] == version) ?\n",
       "        Promise.resolve(paths[lib]) :\n",
       "        new Promise(function(resolve, reject) {\n",
       "          var s = document.createElement('script');\n",
       "          document.getElementsByTagName(\"head\")[0].appendChild(s);\n",
       "          s.async = true;\n",
       "          s.onload = () => {\n",
       "            VEGA_DEBUG[key] = version;\n",
       "            return resolve(paths[lib]);\n",
       "          };\n",
       "          s.onerror = () => reject(`Error loading script: ${paths[lib]}`);\n",
       "          s.src = paths[lib];\n",
       "        });\n",
       "    }\n",
       "\n",
       "    function showError(err) {\n",
       "      outputDiv.innerHTML = `<div class=\"error\" style=\"color:red;\">${err}</div>`;\n",
       "      throw err;\n",
       "    }\n",
       "\n",
       "    function displayChart(vegaEmbed) {\n",
       "      vegaEmbed(outputDiv, spec, embedOpt)\n",
       "        .catch(err => showError(`Javascript Error: ${err.message}<br>This usually means there's a typo in your chart specification. See the javascript console for the full traceback.`));\n",
       "    }\n",
       "\n",
       "    if(typeof define === \"function\" && define.amd) {\n",
       "      requirejs.config({paths});\n",
       "      require([\"vega-embed\"], displayChart, err => showError(`Error loading script: ${err.message}`));\n",
       "    } else {\n",
       "      maybeLoadScript(\"vega\", \"5\")\n",
       "        .then(() => maybeLoadScript(\"vega-lite\", \"5.8.0\"))\n",
       "        .then(() => maybeLoadScript(\"vega-embed\", \"6\"))\n",
       "        .catch(showError)\n",
       "        .then(() => displayChart(vegaEmbed));\n",
       "    }\n",
       "  })({\"config\": {\"view\": {\"continuousWidth\": 300, \"continuousHeight\": 300}}, \"data\": {\"name\": \"data-1faa0470e8b0fee80647a1168cf2a3ff\"}, \"mark\": {\"type\": \"bar\"}, \"encoding\": {\"x\": {\"field\": \"rok\", \"type\": \"temporal\"}, \"y\": {\"field\": \"len\", \"type\": \"quantitative\"}}, \"$schema\": \"https://vega.github.io/schema/vega-lite/v5.8.0.json\", \"datasets\": {\"data-1faa0470e8b0fee80647a1168cf2a3ff\": [{\"rok\": \"1953-01-01T00:00:00\", \"len\": 1}, {\"rok\": \"1955-01-01T00:00:00\", \"len\": 2}, {\"rok\": \"1957-01-01T00:00:00\", \"len\": 1}, {\"rok\": \"1960-01-01T00:00:00\", \"len\": 1}, {\"rok\": \"1961-01-01T00:00:00\", \"len\": 2}, {\"rok\": \"1962-01-01T00:00:00\", \"len\": 2}, {\"rok\": \"1963-01-01T00:00:00\", \"len\": 2}, {\"rok\": \"1964-01-01T00:00:00\", \"len\": 2}, {\"rok\": \"1965-01-01T00:00:00\", \"len\": 3}, {\"rok\": \"1966-01-01T00:00:00\", \"len\": 1}, {\"rok\": \"1967-01-01T00:00:00\", \"len\": 1}, {\"rok\": \"1968-01-01T00:00:00\", \"len\": 3}, {\"rok\": \"1969-01-01T00:00:00\", \"len\": 2}, {\"rok\": \"1970-01-01T00:00:00\", \"len\": 1}, {\"rok\": \"1991-01-01T00:00:00\", \"len\": 2}, {\"rok\": \"1992-01-01T00:00:00\", \"len\": 1}, {\"rok\": \"1993-01-01T00:00:00\", \"len\": 2}, {\"rok\": \"1996-01-01T00:00:00\", \"len\": 1}, {\"rok\": \"1997-01-01T00:00:00\", \"len\": 1}, {\"rok\": \"2000-01-01T00:00:00\", \"len\": 2}, {\"rok\": \"2004-01-01T00:00:00\", \"len\": 1}, {\"rok\": \"2005-01-01T00:00:00\", \"len\": 1}, {\"rok\": \"2006-01-01T00:00:00\", \"len\": 4}, {\"rok\": \"2007-01-01T00:00:00\", \"len\": 3}, {\"rok\": \"2008-01-01T00:00:00\", \"len\": 1}, {\"rok\": \"2014-01-01T00:00:00\", \"len\": 4}, {\"rok\": \"2015-01-01T00:00:00\", \"len\": 3}, {\"rok\": \"2016-01-01T00:00:00\", \"len\": 3}, {\"rok\": \"2017-01-01T00:00:00\", \"len\": 2}, {\"rok\": \"2019-01-01T00:00:00\", \"len\": 1}, {\"rok\": \"2020-01-01T00:00:00\", \"len\": 2}, {\"rok\": \"2021-01-01T00:00:00\", \"len\": 1}, {\"rok\": \"2023-01-01T00:00:00\", \"len\": 1}, {\"rok\": \"2024-01-01T00:00:00\", \"len\": 1}]}}, {\"mode\": \"vega-lite\"});\n",
       "</script>"
      ],
      "text/plain": [
       "alt.Chart(...)"
      ]
     },
     "execution_count": 53,
     "metadata": {},
     "output_type": "execute_result"
    }
   ],
   "source": [
    "alt.Chart(df.filter(pl.col(\"100_7\") == 'jk01070894').group_by('rok').len().sort('rok').with_columns(pl.col(\"rok\").map_elements(lambda x: datetime.date(year=int(x), month=1, day=1), return_dtype=pl.Date).cast(pl.Datetime)).to_pandas()).mark_bar().encode(alt.X(\"rok:T\"),alt.Y('len:Q'))"
   ]
  },
  {
   "cell_type": "code",
   "execution_count": 57,
   "id": "4c6b9a65-f078-4e1c-965a-d6ef2a717c35",
   "metadata": {},
   "outputs": [
    {
     "data": {
      "text/html": [
       "\n",
       "<style>\n",
       "  #altair-viz-d3407d9e9d1b413fa5329e44161b9bd3.vega-embed {\n",
       "    width: 100%;\n",
       "    display: flex;\n",
       "  }\n",
       "\n",
       "  #altair-viz-d3407d9e9d1b413fa5329e44161b9bd3.vega-embed details,\n",
       "  #altair-viz-d3407d9e9d1b413fa5329e44161b9bd3.vega-embed details summary {\n",
       "    position: relative;\n",
       "  }\n",
       "</style>\n",
       "<div id=\"altair-viz-d3407d9e9d1b413fa5329e44161b9bd3\"></div>\n",
       "<script type=\"text/javascript\">\n",
       "  var VEGA_DEBUG = (typeof VEGA_DEBUG == \"undefined\") ? {} : VEGA_DEBUG;\n",
       "  (function(spec, embedOpt){\n",
       "    let outputDiv = document.currentScript.previousElementSibling;\n",
       "    if (outputDiv.id !== \"altair-viz-d3407d9e9d1b413fa5329e44161b9bd3\") {\n",
       "      outputDiv = document.getElementById(\"altair-viz-d3407d9e9d1b413fa5329e44161b9bd3\");\n",
       "    }\n",
       "    const paths = {\n",
       "      \"vega\": \"https://cdn.jsdelivr.net/npm/vega@5?noext\",\n",
       "      \"vega-lib\": \"https://cdn.jsdelivr.net/npm/vega-lib?noext\",\n",
       "      \"vega-lite\": \"https://cdn.jsdelivr.net/npm/vega-lite@5.8.0?noext\",\n",
       "      \"vega-embed\": \"https://cdn.jsdelivr.net/npm/vega-embed@6?noext\",\n",
       "    };\n",
       "\n",
       "    function maybeLoadScript(lib, version) {\n",
       "      var key = `${lib.replace(\"-\", \"\")}_version`;\n",
       "      return (VEGA_DEBUG[key] == version) ?\n",
       "        Promise.resolve(paths[lib]) :\n",
       "        new Promise(function(resolve, reject) {\n",
       "          var s = document.createElement('script');\n",
       "          document.getElementsByTagName(\"head\")[0].appendChild(s);\n",
       "          s.async = true;\n",
       "          s.onload = () => {\n",
       "            VEGA_DEBUG[key] = version;\n",
       "            return resolve(paths[lib]);\n",
       "          };\n",
       "          s.onerror = () => reject(`Error loading script: ${paths[lib]}`);\n",
       "          s.src = paths[lib];\n",
       "        });\n",
       "    }\n",
       "\n",
       "    function showError(err) {\n",
       "      outputDiv.innerHTML = `<div class=\"error\" style=\"color:red;\">${err}</div>`;\n",
       "      throw err;\n",
       "    }\n",
       "\n",
       "    function displayChart(vegaEmbed) {\n",
       "      vegaEmbed(outputDiv, spec, embedOpt)\n",
       "        .catch(err => showError(`Javascript Error: ${err.message}<br>This usually means there's a typo in your chart specification. See the javascript console for the full traceback.`));\n",
       "    }\n",
       "\n",
       "    if(typeof define === \"function\" && define.amd) {\n",
       "      requirejs.config({paths});\n",
       "      require([\"vega-embed\"], displayChart, err => showError(`Error loading script: ${err.message}`));\n",
       "    } else {\n",
       "      maybeLoadScript(\"vega\", \"5\")\n",
       "        .then(() => maybeLoadScript(\"vega-lite\", \"5.8.0\"))\n",
       "        .then(() => maybeLoadScript(\"vega-embed\", \"6\"))\n",
       "        .catch(showError)\n",
       "        .then(() => displayChart(vegaEmbed));\n",
       "    }\n",
       "  })({\"config\": {\"view\": {\"continuousWidth\": 300, \"continuousHeight\": 300}}, \"data\": {\"name\": \"data-dffa835c74f34588b7e60b5982b820da\"}, \"mark\": {\"type\": \"bar\"}, \"encoding\": {\"x\": {\"field\": \"rok\", \"type\": \"temporal\"}, \"y\": {\"field\": \"len\", \"type\": \"quantitative\"}}, \"$schema\": \"https://vega.github.io/schema/vega-lite/v5.8.0.json\", \"datasets\": {\"data-dffa835c74f34588b7e60b5982b820da\": [{\"rok\": \"1958-01-01T00:00:00\", \"len\": 1}, {\"rok\": \"1963-01-01T00:00:00\", \"len\": 2}, {\"rok\": \"1964-01-01T00:00:00\", \"len\": 2}, {\"rok\": \"1965-01-01T00:00:00\", \"len\": 4}, {\"rok\": \"1966-01-01T00:00:00\", \"len\": 2}, {\"rok\": \"1967-01-01T00:00:00\", \"len\": 4}, {\"rok\": \"1968-01-01T00:00:00\", \"len\": 4}, {\"rok\": \"1969-01-01T00:00:00\", \"len\": 3}, {\"rok\": \"1970-01-01T00:00:00\", \"len\": 1}, {\"rok\": \"1990-01-01T00:00:00\", \"len\": 9}, {\"rok\": \"1991-01-01T00:00:00\", \"len\": 13}, {\"rok\": \"1992-01-01T00:00:00\", \"len\": 10}, {\"rok\": \"1993-01-01T00:00:00\", \"len\": 2}, {\"rok\": \"1994-01-01T00:00:00\", \"len\": 4}, {\"rok\": \"1995-01-01T00:00:00\", \"len\": 1}, {\"rok\": \"1996-01-01T00:00:00\", \"len\": 4}, {\"rok\": \"1997-01-01T00:00:00\", \"len\": 2}, {\"rok\": \"1998-01-01T00:00:00\", \"len\": 5}, {\"rok\": \"1999-01-01T00:00:00\", \"len\": 2}, {\"rok\": \"2000-01-01T00:00:00\", \"len\": 1}, {\"rok\": \"2001-01-01T00:00:00\", \"len\": 1}, {\"rok\": \"2003-01-01T00:00:00\", \"len\": 2}, {\"rok\": \"2004-01-01T00:00:00\", \"len\": 4}, {\"rok\": \"2005-01-01T00:00:00\", \"len\": 4}, {\"rok\": \"2006-01-01T00:00:00\", \"len\": 1}, {\"rok\": \"2007-01-01T00:00:00\", \"len\": 5}, {\"rok\": \"2008-01-01T00:00:00\", \"len\": 4}, {\"rok\": \"2009-01-01T00:00:00\", \"len\": 2}, {\"rok\": \"2010-01-01T00:00:00\", \"len\": 8}, {\"rok\": \"2011-01-01T00:00:00\", \"len\": 2}, {\"rok\": \"2012-01-01T00:00:00\", \"len\": 1}, {\"rok\": \"2013-01-01T00:00:00\", \"len\": 1}, {\"rok\": \"2014-01-01T00:00:00\", \"len\": 1}, {\"rok\": \"2015-01-01T00:00:00\", \"len\": 1}, {\"rok\": \"2016-01-01T00:00:00\", \"len\": 1}, {\"rok\": \"2018-01-01T00:00:00\", \"len\": 2}, {\"rok\": \"2019-01-01T00:00:00\", \"len\": 3}, {\"rok\": \"2020-01-01T00:00:00\", \"len\": 1}, {\"rok\": \"2021-01-01T00:00:00\", \"len\": 3}, {\"rok\": \"2023-01-01T00:00:00\", \"len\": 1}, {\"rok\": \"2024-01-01T00:00:00\", \"len\": 2}]}}, {\"mode\": \"vega-lite\"});\n",
       "</script>"
      ],
      "text/plain": [
       "alt.Chart(...)"
      ]
     },
     "execution_count": 57,
     "metadata": {},
     "output_type": "execute_result"
    }
   ],
   "source": [
    "alt.Chart(df.filter(pl.col(\"100_7\") == 'jk01130413').group_by('rok').len().sort('rok').with_columns(pl.col(\"rok\").map_elements(lambda x: datetime.date(year=int(x), month=1, day=1), return_dtype=pl.Date).cast(pl.Datetime)).to_pandas()).mark_bar().encode(alt.X(\"rok:T\"),alt.Y('len:Q'))"
   ]
  }
 ],
 "metadata": {
  "kernelspec": {
   "display_name": "Python 3 (ipykernel)",
   "language": "python",
   "name": "python3"
  },
  "language_info": {
   "codemirror_mode": {
    "name": "ipython",
    "version": 3
   },
   "file_extension": ".py",
   "mimetype": "text/x-python",
   "name": "python",
   "nbconvert_exporter": "python",
   "pygments_lexer": "ipython3",
   "version": "3.12.3"
  }
 },
 "nbformat": 4,
 "nbformat_minor": 5
}
