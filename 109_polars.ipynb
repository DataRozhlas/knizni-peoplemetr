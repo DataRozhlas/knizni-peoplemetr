{
 "cells": [
  {
   "cell_type": "code",
   "execution_count": 3,
   "id": "3f53d836-3ff7-4e0c-9cee-f47caac10828",
   "metadata": {},
   "outputs": [],
   "source": [
    "import os\n",
    "import polars as pl"
   ]
  },
  {
   "cell_type": "code",
   "execution_count": 95,
   "id": "12e2f767-c896-4cdd-90b8-24e9e665d6ac",
   "metadata": {},
   "outputs": [
    {
     "name": "stdout",
     "output_type": "stream",
     "text": [
      "890 ms ± 65.6 ms per loop (mean ± std. dev. of 7 runs, 1 loop each)\n"
     ]
    }
   ],
   "source": [
    "%%timeit\n",
    "df = pl.read_parquet(os.path.join(\"data\",\"cnb_vyber.parquet\"))"
   ]
  },
  {
   "cell_type": "code",
   "execution_count": 33,
   "id": "d6df1802-7a79-4bd4-8f84-d90ccc1fda07",
   "metadata": {},
   "outputs": [],
   "source": [
    "def najdi_rok(nn8):\n",
    "    if nn8[6] in ['s', 't', 'd', 'm', 'e', 'q', 'c','u', 'r']:\n",
    "        if ('x' not in nn8[7:11]) and ('u' not in nn8[7:11]):\n",
    "            return int(nn8[7:11])\n",
    "        else:\n",
    "            return None\n",
    "    else:\n",
    "        return None"
   ]
  },
  {
   "cell_type": "code",
   "execution_count": 105,
   "id": "148a9712-b99f-4e9e-81fa-8811d01f8ed9",
   "metadata": {},
   "outputs": [
    {
     "ename": "InvalidOperationError",
     "evalue": "`explode` operation not supported for dtype `str`",
     "output_type": "error",
     "traceback": [
      "\u001b[1;31m---------------------------------------------------------------------------\u001b[0m",
      "\u001b[1;31mInvalidOperationError\u001b[0m                     Traceback (most recent call last)",
      "Cell \u001b[1;32mIn[105], line 1\u001b[0m\n\u001b[1;32m----> 1\u001b[0m df \u001b[38;5;241m=\u001b[39m df\u001b[38;5;241m.\u001b[39mexplode(\u001b[38;5;124m'\u001b[39m\u001b[38;5;124m008\u001b[39m\u001b[38;5;124m'\u001b[39m)\n",
      "File \u001b[1;32m~\\anaconda3\\Lib\\site-packages\\polars\\dataframe\\frame.py:8059\u001b[0m, in \u001b[0;36mDataFrame.explode\u001b[1;34m(self, columns, *more_columns)\u001b[0m\n\u001b[0;32m   8002\u001b[0m \u001b[38;5;28;01mdef\u001b[39;00m \u001b[38;5;21mexplode\u001b[39m(\n\u001b[0;32m   8003\u001b[0m     \u001b[38;5;28mself\u001b[39m,\n\u001b[0;32m   8004\u001b[0m     columns: \u001b[38;5;28mstr\u001b[39m \u001b[38;5;241m|\u001b[39m Expr \u001b[38;5;241m|\u001b[39m Sequence[\u001b[38;5;28mstr\u001b[39m \u001b[38;5;241m|\u001b[39m Expr],\n\u001b[0;32m   8005\u001b[0m     \u001b[38;5;241m*\u001b[39mmore_columns: \u001b[38;5;28mstr\u001b[39m \u001b[38;5;241m|\u001b[39m Expr,\n\u001b[0;32m   8006\u001b[0m ) \u001b[38;5;241m-\u001b[39m\u001b[38;5;241m>\u001b[39m DataFrame:\n\u001b[0;32m   8007\u001b[0m \u001b[38;5;250m    \u001b[39m\u001b[38;5;124;03m\"\"\"\u001b[39;00m\n\u001b[0;32m   8008\u001b[0m \u001b[38;5;124;03m    Explode the dataframe to long format by exploding the given columns.\u001b[39;00m\n\u001b[0;32m   8009\u001b[0m \n\u001b[1;32m   (...)\u001b[0m\n\u001b[0;32m   8057\u001b[0m \u001b[38;5;124;03m    └─────────┴─────────┘\u001b[39;00m\n\u001b[0;32m   8058\u001b[0m \u001b[38;5;124;03m    \"\"\"\u001b[39;00m\n\u001b[1;32m-> 8059\u001b[0m     \u001b[38;5;28;01mreturn\u001b[39;00m \u001b[38;5;28mself\u001b[39m\u001b[38;5;241m.\u001b[39mlazy()\u001b[38;5;241m.\u001b[39mexplode(columns, \u001b[38;5;241m*\u001b[39mmore_columns)\u001b[38;5;241m.\u001b[39mcollect(_eager\u001b[38;5;241m=\u001b[39m\u001b[38;5;28;01mTrue\u001b[39;00m)\n",
      "File \u001b[1;32m~\\anaconda3\\Lib\\site-packages\\polars\\lazyframe\\frame.py:2032\u001b[0m, in \u001b[0;36mLazyFrame.collect\u001b[1;34m(self, type_coercion, predicate_pushdown, projection_pushdown, simplify_expression, slice_pushdown, comm_subplan_elim, comm_subexpr_elim, cluster_with_columns, no_optimization, streaming, engine, background, _eager, **_kwargs)\u001b[0m\n\u001b[0;32m   2030\u001b[0m \u001b[38;5;66;03m# Only for testing purposes\u001b[39;00m\n\u001b[0;32m   2031\u001b[0m callback \u001b[38;5;241m=\u001b[39m _kwargs\u001b[38;5;241m.\u001b[39mget(\u001b[38;5;124m\"\u001b[39m\u001b[38;5;124mpost_opt_callback\u001b[39m\u001b[38;5;124m\"\u001b[39m, callback)\n\u001b[1;32m-> 2032\u001b[0m \u001b[38;5;28;01mreturn\u001b[39;00m wrap_df(ldf\u001b[38;5;241m.\u001b[39mcollect(callback))\n",
      "\u001b[1;31mInvalidOperationError\u001b[0m: `explode` operation not supported for dtype `str`"
     ]
    }
   ],
   "source": [
    "df = df.explode('008')"
   ]
  },
  {
   "cell_type": "code",
   "execution_count": 103,
   "id": "f32b7b41-93d3-4e12-9482-2789550b1e40",
   "metadata": {},
   "outputs": [
    {
     "data": {
      "text/html": [
       "<div><style>\n",
       ".dataframe > thead > tr,\n",
       ".dataframe > tbody > tr {\n",
       "  text-align: right;\n",
       "  white-space: pre-wrap;\n",
       "}\n",
       "</style>\n",
       "<small>shape: (957_280, 1)</small><table border=\"1\" class=\"dataframe\"><thead><tr><th>008</th></tr><tr><td>str</td></tr></thead><tbody><tr><td>&quot;010202s2000    xr a          0…</td></tr><tr><td>&quot;930610s1948    xr     e d    0…</td></tr><tr><td>&quot;930610s1948    xr     e d    0…</td></tr><tr><td>&quot;931001s1991    xr            0…</td></tr><tr><td>&quot;931001s1991    xr            0…</td></tr><tr><td>&hellip;</td></tr><tr><td>&quot;920329s1992    xr a         u0…</td></tr><tr><td>&quot;930618s1991    xr       d    0…</td></tr><tr><td>&quot;930618s1991    xr       d    0…</td></tr><tr><td>&quot;950921s1995    xr a   e      0…</td></tr><tr><td>&quot;950921s1995    xr a   e      0…</td></tr></tbody></table></div>"
      ],
      "text/plain": [
       "shape: (957_280, 1)\n",
       "┌─────────────────────────────────┐\n",
       "│ 008                             │\n",
       "│ ---                             │\n",
       "│ str                             │\n",
       "╞═════════════════════════════════╡\n",
       "│ 010202s2000    xr a          0… │\n",
       "│ 930610s1948    xr     e d    0… │\n",
       "│ 930610s1948    xr     e d    0… │\n",
       "│ 931001s1991    xr            0… │\n",
       "│ 931001s1991    xr            0… │\n",
       "│ …                               │\n",
       "│ 920329s1992    xr a         u0… │\n",
       "│ 930618s1991    xr       d    0… │\n",
       "│ 930618s1991    xr       d    0… │\n",
       "│ 950921s1995    xr a   e      0… │\n",
       "│ 950921s1995    xr a   e      0… │\n",
       "└─────────────────────────────────┘"
      ]
     },
     "execution_count": 103,
     "metadata": {},
     "output_type": "execute_result"
    }
   ],
   "source": [
    "df.select('008')"
   ]
  },
  {
   "cell_type": "code",
   "execution_count": 109,
   "id": "11bc9bc0-c502-445b-b492-ac2644d742c1",
   "metadata": {},
   "outputs": [
    {
     "name": "stderr",
     "output_type": "stream",
     "text": [
      "C:\\Users\\micha\\AppData\\Local\\Temp\\ipykernel_23896\\3959673879.py:1: MapWithoutReturnDtypeWarning: Calling `map_elements` without specifying `return_dtype` can lead to unpredictable results. Specify `return_dtype` to silence this warning.\n",
      "  df = df.with_columns(pl.col('008').map_elements(najdi_rok).alias('rok'))\n"
     ]
    }
   ],
   "source": [
    "df = df.with_columns(pl.col('008').map_elements(najdi_rok).alias('rok'))"
   ]
  },
  {
   "cell_type": "code",
   "execution_count": 115,
   "id": "af369b80-8f64-444a-8a4b-fc9acd6f0072",
   "metadata": {},
   "outputs": [
    {
     "name": "stdout",
     "output_type": "stream",
     "text": [
      "shape: (957_280, 2)\n",
      "┌─────────────────────────────────┬──────┐\n",
      "│ 245_a                           ┆ rok  │\n",
      "│ ---                             ┆ ---  │\n",
      "│ list[str]                       ┆ i64  │\n",
      "╞═════════════════════════════════╪══════╡\n",
      "│ [\"Tita Livia dějiny od založen… ┆ null │\n",
      "│ [\"Tita Livia dějiny od založen… ┆ null │\n",
      "│ [\"Pověsti z Telče a okolí /\"]   ┆ null │\n",
      "│ [\"Testy studijních předpokladů… ┆ null │\n",
      "│ [\"Paličák :\"]                   ┆ null │\n",
      "│ …                               ┆ …    │\n",
      "│ [\"Kytice :\"]                    ┆ 2024 │\n",
      "│ [\"Pět říší.\"]                   ┆ 2024 │\n",
      "│ [\"Vánoce :\"]                    ┆ 2024 │\n",
      "│ [\"To si zkus /\"]                ┆ 2024 │\n",
      "│ [\"Fotografova hřbitovní překva… ┆ 2025 │\n",
      "└─────────────────────────────────┴──────┘\n",
      "shape: (957_280, 2)\n",
      "┌─────────────────────────────────┬──────┐\n",
      "│ 245_a                           ┆ rok  │\n",
      "│ ---                             ┆ ---  │\n",
      "│ list[str]                       ┆ i64  │\n",
      "╞═════════════════════════════════╪══════╡\n",
      "│ [\"Tita Livia dějiny od založen… ┆ null │\n",
      "│ [\"Tita Livia dějiny od založen… ┆ null │\n",
      "│ [\"Pověsti z Telče a okolí /\"]   ┆ null │\n",
      "│ [\"Testy studijních předpokladů… ┆ null │\n",
      "│ [\"Paličák :\"]                   ┆ null │\n",
      "│ …                               ┆ …    │\n",
      "│ [\"Kytice :\"]                    ┆ 2024 │\n",
      "│ [\"Pět říší.\"]                   ┆ 2024 │\n",
      "│ [\"Vánoce :\"]                    ┆ 2024 │\n",
      "│ [\"To si zkus /\"]                ┆ 2024 │\n",
      "│ [\"Fotografova hřbitovní překva… ┆ 2025 │\n",
      "└─────────────────────────────────┴──────┘\n",
      "shape: (957_280, 2)\n",
      "┌─────────────────────────────────┬──────┐\n",
      "│ 245_a                           ┆ rok  │\n",
      "│ ---                             ┆ ---  │\n",
      "│ list[str]                       ┆ i64  │\n",
      "╞═════════════════════════════════╪══════╡\n",
      "│ [\"Tita Livia dějiny od založen… ┆ null │\n",
      "│ [\"Tita Livia dějiny od založen… ┆ null │\n",
      "│ [\"Pověsti z Telče a okolí /\"]   ┆ null │\n",
      "│ [\"Testy studijních předpokladů… ┆ null │\n",
      "│ [\"Paličák :\"]                   ┆ null │\n",
      "│ …                               ┆ …    │\n",
      "│ [\"Kytice :\"]                    ┆ 2024 │\n",
      "│ [\"Pět říší.\"]                   ┆ 2024 │\n",
      "│ [\"Vánoce :\"]                    ┆ 2024 │\n",
      "│ [\"To si zkus /\"]                ┆ 2024 │\n",
      "│ [\"Fotografova hřbitovní překva… ┆ 2025 │\n",
      "└─────────────────────────────────┴──────┘\n",
      "shape: (957_280, 2)\n",
      "┌─────────────────────────────────┬──────┐\n",
      "│ 245_a                           ┆ rok  │\n",
      "│ ---                             ┆ ---  │\n",
      "│ list[str]                       ┆ i64  │\n",
      "╞═════════════════════════════════╪══════╡\n",
      "│ [\"Tita Livia dějiny od založen… ┆ null │\n",
      "│ [\"Tita Livia dějiny od založen… ┆ null │\n",
      "│ [\"Pověsti z Telče a okolí /\"]   ┆ null │\n",
      "│ [\"Testy studijních předpokladů… ┆ null │\n",
      "│ [\"Paličák :\"]                   ┆ null │\n",
      "│ …                               ┆ …    │\n",
      "│ [\"Kytice :\"]                    ┆ 2024 │\n",
      "│ [\"Pět říší.\"]                   ┆ 2024 │\n",
      "│ [\"Vánoce :\"]                    ┆ 2024 │\n",
      "│ [\"To si zkus /\"]                ┆ 2024 │\n",
      "│ [\"Fotografova hřbitovní překva… ┆ 2025 │\n",
      "└─────────────────────────────────┴──────┘\n",
      "shape: (957_280, 2)\n",
      "┌─────────────────────────────────┬──────┐\n",
      "│ 245_a                           ┆ rok  │\n",
      "│ ---                             ┆ ---  │\n",
      "│ list[str]                       ┆ i64  │\n",
      "╞═════════════════════════════════╪══════╡\n",
      "│ [\"Tita Livia dějiny od založen… ┆ null │\n",
      "│ [\"Tita Livia dějiny od založen… ┆ null │\n",
      "│ [\"Pověsti z Telče a okolí /\"]   ┆ null │\n",
      "│ [\"Testy studijních předpokladů… ┆ null │\n",
      "│ [\"Paličák :\"]                   ┆ null │\n",
      "│ …                               ┆ …    │\n",
      "│ [\"Kytice :\"]                    ┆ 2024 │\n",
      "│ [\"Pět říší.\"]                   ┆ 2024 │\n",
      "│ [\"Vánoce :\"]                    ┆ 2024 │\n",
      "│ [\"To si zkus /\"]                ┆ 2024 │\n",
      "│ [\"Fotografova hřbitovní překva… ┆ 2025 │\n",
      "└─────────────────────────────────┴──────┘\n",
      "shape: (957_280, 2)\n",
      "┌─────────────────────────────────┬──────┐\n",
      "│ 245_a                           ┆ rok  │\n",
      "│ ---                             ┆ ---  │\n",
      "│ list[str]                       ┆ i64  │\n",
      "╞═════════════════════════════════╪══════╡\n",
      "│ [\"Tita Livia dějiny od založen… ┆ null │\n",
      "│ [\"Tita Livia dějiny od založen… ┆ null │\n",
      "│ [\"Pověsti z Telče a okolí /\"]   ┆ null │\n",
      "│ [\"Testy studijních předpokladů… ┆ null │\n",
      "│ [\"Paličák :\"]                   ┆ null │\n",
      "│ …                               ┆ …    │\n",
      "│ [\"Kytice :\"]                    ┆ 2024 │\n",
      "│ [\"Pět říší.\"]                   ┆ 2024 │\n",
      "│ [\"Vánoce :\"]                    ┆ 2024 │\n",
      "│ [\"To si zkus /\"]                ┆ 2024 │\n",
      "│ [\"Fotografova hřbitovní překva… ┆ 2025 │\n",
      "└─────────────────────────────────┴──────┘\n",
      "shape: (957_280, 2)\n",
      "┌─────────────────────────────────┬──────┐\n",
      "│ 245_a                           ┆ rok  │\n",
      "│ ---                             ┆ ---  │\n",
      "│ list[str]                       ┆ i64  │\n",
      "╞═════════════════════════════════╪══════╡\n",
      "│ [\"Tita Livia dějiny od založen… ┆ null │\n",
      "│ [\"Tita Livia dějiny od založen… ┆ null │\n",
      "│ [\"Pověsti z Telče a okolí /\"]   ┆ null │\n",
      "│ [\"Testy studijních předpokladů… ┆ null │\n",
      "│ [\"Paličák :\"]                   ┆ null │\n",
      "│ …                               ┆ …    │\n",
      "│ [\"Kytice :\"]                    ┆ 2024 │\n",
      "│ [\"Pět říší.\"]                   ┆ 2024 │\n",
      "│ [\"Vánoce :\"]                    ┆ 2024 │\n",
      "│ [\"To si zkus /\"]                ┆ 2024 │\n",
      "│ [\"Fotografova hřbitovní překva… ┆ 2025 │\n",
      "└─────────────────────────────────┴──────┘\n",
      "shape: (957_280, 2)\n",
      "┌─────────────────────────────────┬──────┐\n",
      "│ 245_a                           ┆ rok  │\n",
      "│ ---                             ┆ ---  │\n",
      "│ list[str]                       ┆ i64  │\n",
      "╞═════════════════════════════════╪══════╡\n",
      "│ [\"Tita Livia dějiny od založen… ┆ null │\n",
      "│ [\"Tita Livia dějiny od založen… ┆ null │\n",
      "│ [\"Pověsti z Telče a okolí /\"]   ┆ null │\n",
      "│ [\"Testy studijních předpokladů… ┆ null │\n",
      "│ [\"Paličák :\"]                   ┆ null │\n",
      "│ …                               ┆ …    │\n",
      "│ [\"Kytice :\"]                    ┆ 2024 │\n",
      "│ [\"Pět říší.\"]                   ┆ 2024 │\n",
      "│ [\"Vánoce :\"]                    ┆ 2024 │\n",
      "│ [\"To si zkus /\"]                ┆ 2024 │\n",
      "│ [\"Fotografova hřbitovní překva… ┆ 2025 │\n",
      "└─────────────────────────────────┴──────┘\n",
      "473 ms ± 18.2 ms per loop (mean ± std. dev. of 7 runs, 1 loop each)\n"
     ]
    }
   ],
   "source": [
    "%%timeit\n",
    "print(df.select(['245_a','rok']).sort('rok'))"
   ]
  },
  {
   "cell_type": "code",
   "execution_count": 117,
   "id": "3ef6444a-66bb-4db4-8489-90011989c1a7",
   "metadata": {},
   "outputs": [
    {
     "name": "stdout",
     "output_type": "stream",
     "text": [
      "shape: (957_260, 2)\n",
      "┌─────────────────────────────────┬──────┐\n",
      "│ 245_a                           ┆ rok  │\n",
      "│ ---                             ┆ ---  │\n",
      "│ list[str]                       ┆ i64  │\n",
      "╞═════════════════════════════════╪══════╡\n",
      "│ [\"Příručka bohoslužebná pro če… ┆ 1900 │\n",
      "│ [\"Srovnávací přehled některých… ┆ 1900 │\n",
      "│ [\"Na okraj dnů :\"]              ┆ 1900 │\n",
      "│ [\"Farma \"Boží oko\" :\"]          ┆ 1900 │\n",
      "│ [\"Hloupý Jack a moudrý James :… ┆ 1900 │\n",
      "│ …                               ┆ …    │\n",
      "│ [\"Kytice :\"]                    ┆ 2024 │\n",
      "│ [\"Pět říší.\"]                   ┆ 2024 │\n",
      "│ [\"Vánoce :\"]                    ┆ 2024 │\n",
      "│ [\"To si zkus /\"]                ┆ 2024 │\n",
      "│ [\"Fotografova hřbitovní překva… ┆ 2025 │\n",
      "└─────────────────────────────────┴──────┘\n"
     ]
    }
   ],
   "source": [
    "print(df.select(['245_a','rok']).sort('rok').drop_nulls())"
   ]
  },
  {
   "cell_type": "code",
   "execution_count": 31,
   "id": "8bf79258-b5ae-49e3-9ca8-a634431a70db",
   "metadata": {},
   "outputs": [
    {
     "name": "stdout",
     "output_type": "stream",
     "text": [
      "shape: (1_517, 2)\n",
      "┌─────────────────────────────┬──────────────────────────┐\n",
      "│ 245_a                       ┆ 100_a                    │\n",
      "│ ---                         ┆ ---                      │\n",
      "│ str                         ┆ list[str]                │\n",
      "╞═════════════════════════════╪══════════════════════════╡\n",
      "│ Když přišla na svět láska / ┆ [\"Pfannmüller, Donatus\"] │\n",
      "│ Prodaná láska /             ┆ [\"Neruda, Jan,\"]         │\n",
      "│ Krása a láska /             ┆ [\"Lalo, Charles,\"]       │\n",
      "│ Tylova láska :              ┆ [\"Strejček, Ferdinand,\"] │\n",
      "│ Zločinná láska :            ┆ [\"Braddon, M. E.\"]       │\n",
      "│ …                           ┆ …                        │\n",
      "│ Tvá láska je můj lék /      ┆ [\"Carol, Ly\"]            │\n",
      "│ Divná láska /               ┆ [\"Cooper, M. E.\"]        │\n",
      "│ Divná láska /               ┆ [\"Cooper, M. E.\"]        │\n",
      "│ Nespoutaná láska /          ┆ [\"Rainville, Rita\"]      │\n",
      "│ Nespoutaná láska /          ┆ [\"Rainville, Rita\"]      │\n",
      "└─────────────────────────────┴──────────────────────────┘\n"
     ]
    }
   ],
   "source": [
    "filtered_df = df.explode(\"245_a\").filter(pl.col(\"245_a\").str.contains(\"láska\"))\n",
    "print(filtered_df.select(\"245_a\",\"100_a\"))"
   ]
  }
 ],
 "metadata": {
  "kernelspec": {
   "display_name": "Python 3 (ipykernel)",
   "language": "python",
   "name": "python3"
  },
  "language_info": {
   "codemirror_mode": {
    "name": "ipython",
    "version": 3
   },
   "file_extension": ".py",
   "mimetype": "text/x-python",
   "name": "python",
   "nbconvert_exporter": "python",
   "pygments_lexer": "ipython3",
   "version": "3.12.3"
  }
 },
 "nbformat": 4,
 "nbformat_minor": 5
}
