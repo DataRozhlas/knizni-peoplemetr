{
 "cells": [
  {
   "cell_type": "code",
   "execution_count": 7,
   "id": "e3fa4416",
   "metadata": {},
   "outputs": [],
   "source": [
    "import os\n",
    "\n",
    "import requests\n",
    "from bs4 import BeautifulSoup"
   ]
  },
  {
   "cell_type": "code",
   "execution_count": 8,
   "id": "5a7d5e74",
   "metadata": {},
   "outputs": [],
   "source": [
    "if not os.path.exists('data_raw/martinus_linky'):\n",
    "    os.makedirs('data_raw/martinus_linky')"
   ]
  },
  {
   "cell_type": "code",
   "execution_count": 9,
   "id": "ff0a0c04",
   "metadata": {},
   "outputs": [],
   "source": [
    "seznamy = {\n",
    "    'martinus-beletrie.txt': 'https://www.martinus.cz/l?categories%5B0%5D=6100&origins%5B0%5D=265851&specials%5B0%5D=available&sort=release_date+desc&page=',\n",
    "    'martinus-nonfiction.txt': 'https://www.martinus.cz/l?categories%5B0%5D=6204&origins%5B0%5D=265851&specials%5B0%5D=available&sort=release_date+desc&page=',\n",
    "    'martinus-ya.txt': 'https://www.martinus.cz/l?ages%5B0%5D=14..&categories%5B0%5D=6002&origins%5B0%5D=265851&sort=release_date+desc&specials%5B0%5D=available&page=',    \n",
    "}"
   ]
  },
  {
   "cell_type": "code",
   "execution_count": 10,
   "id": "3b9afd03",
   "metadata": {},
   "outputs": [],
   "source": [
    "def dopln_novinky(slovnik):\n",
    "    \n",
    "    def knihy_do_souboru(s, sez):\n",
    "        sez = list(set(sez))\n",
    "        with open(os.path.join(\"data_raw/martinus_linky\",s), \"w+\", encoding=\"utf-8\") as f1:\n",
    "            f1.write(\"\\n\".join(sez))\n",
    "        print(f\"Soubor {s} uložen.\")\n",
    "    \n",
    "    def knihy_ze_stranky(s):\n",
    "        r = requests.get(s)\n",
    "        soup = BeautifulSoup(r.text, \"html.parser\")\n",
    "        nabidka = soup.find(class_='listing')\n",
    "        knihy = nabidka.find_all('a')\n",
    "        knihy_na_strance = []\n",
    "        for k in knihy:\n",
    "            if '/kniha' in k['href']:\n",
    "                knihy_na_strance.append(f\"https://www.martinus.cz{k['href']}\")\n",
    "        return list(set(knihy_na_strance))\n",
    "    \n",
    "    def pavouk(s, u):\n",
    "        \n",
    "        nove = 0\n",
    "        \n",
    "        print(f\"Přidávám knihy z kategorie {s.split('.')[0].split('-')[1].upper()}\")\n",
    "        \n",
    "        try:\n",
    "            with open(os.path.join(\"data_raw/martinus_linky\",s), \"r\", encoding=\"utf-8\") as f2:\n",
    "                seznam_knih = f2.read().splitlines()\n",
    "        except FileNotFoundError:\n",
    "            seznam_knih = []\n",
    "                \n",
    "        print(f\"Knih v seznamu: {len(seznam_knih)}\")\n",
    "        \n",
    "        x, kontrola = 0, 0\n",
    "        \n",
    "        while (kontrola < 50) and (x <= 500):\n",
    "            \n",
    "            try:\n",
    "                x += 1\n",
    "                print(f\"{u}{x}\")\n",
    "                dalsi_knihy = knihy_ze_stranky(f\"{u}{x}\")\n",
    "                for d in dalsi_knihy:\n",
    "                    if d not in seznam_knih:\n",
    "                        seznam_knih.append(d)\n",
    "                        nove += 1\n",
    "                    else:\n",
    "                        kontrola += 1 # ať to neskončí příliš brzy, kdyby se pozpřehazovalo pořadí ve výpisu\n",
    "                if x % 10 == 0:\n",
    "                    knihy_do_souboru(s, seznam_knih)\n",
    "            except:\n",
    "                break\n",
    "        \n",
    "        knihy_do_souboru(s, seznam_knih)\n",
    "        print(f\"Končím na straně {x}, {nove} nových knih, {kontrola} knih se opakovalo.\")\n",
    "\n",
    "    for soubor, url in slovnik.items():\n",
    "        pavouk(soubor, url)\n",
    "        \n",
    "    print(\"Nové knihy doplněny.\")"
   ]
  },
  {
   "cell_type": "code",
   "execution_count": 11,
   "id": "bd324dec",
   "metadata": {},
   "outputs": [
    {
     "name": "stdout",
     "output_type": "stream",
     "text": [
      "Přidávám knihy z kategorie BELETRIE\n",
      "Knih v seznamu: 6472\n",
      "https://www.martinus.cz/l?categories%5B0%5D=6100&origins%5B0%5D=265851&specials%5B0%5D=available&sort=release_date+desc&page=1\n",
      "https://www.martinus.cz/l?categories%5B0%5D=6100&origins%5B0%5D=265851&specials%5B0%5D=available&sort=release_date+desc&page=2\n",
      "https://www.martinus.cz/l?categories%5B0%5D=6100&origins%5B0%5D=265851&specials%5B0%5D=available&sort=release_date+desc&page=3\n",
      "Soubor martinus-beletrie.txt uložen.\n",
      "Končím na straně 3, 1 nových knih, 58 knih se opakovalo.\n",
      "Přidávám knihy z kategorie NONFICTION\n",
      "Knih v seznamu: 4982\n",
      "https://www.martinus.cz/l?categories%5B0%5D=6204&origins%5B0%5D=265851&specials%5B0%5D=available&sort=release_date+desc&page=1\n",
      "https://www.martinus.cz/l?categories%5B0%5D=6204&origins%5B0%5D=265851&specials%5B0%5D=available&sort=release_date+desc&page=2\n",
      "https://www.martinus.cz/l?categories%5B0%5D=6204&origins%5B0%5D=265851&specials%5B0%5D=available&sort=release_date+desc&page=3\n",
      "Soubor martinus-nonfiction.txt uložen.\n",
      "Končím na straně 3, 0 nových knih, 59 knih se opakovalo.\n",
      "Přidávám knihy z kategorie YA\n",
      "Knih v seznamu: 191\n",
      "https://www.martinus.cz/l?ages%5B0%5D=14..&categories%5B0%5D=6002&origins%5B0%5D=265851&sort=release_date+desc&specials%5B0%5D=available&page=1\n",
      "https://www.martinus.cz/l?ages%5B0%5D=14..&categories%5B0%5D=6002&origins%5B0%5D=265851&sort=release_date+desc&specials%5B0%5D=available&page=2\n",
      "https://www.martinus.cz/l?ages%5B0%5D=14..&categories%5B0%5D=6002&origins%5B0%5D=265851&sort=release_date+desc&specials%5B0%5D=available&page=3\n",
      "Soubor martinus-ya.txt uložen.\n",
      "Končím na straně 3, 0 nových knih, 60 knih se opakovalo.\n",
      "Nové knihy doplněny.\n"
     ]
    }
   ],
   "source": [
    "dopln_novinky(seznamy)"
   ]
  }
 ],
 "metadata": {
  "kernelspec": {
   "display_name": "Python 3 (ipykernel)",
   "language": "python",
   "name": "python3"
  },
  "language_info": {
   "codemirror_mode": {
    "name": "ipython",
    "version": 3
   },
   "file_extension": ".py",
   "mimetype": "text/x-python",
   "name": "python",
   "nbconvert_exporter": "python",
   "pygments_lexer": "ipython3",
   "version": "3.11.5"
  }
 },
 "nbformat": 4,
 "nbformat_minor": 5
}
