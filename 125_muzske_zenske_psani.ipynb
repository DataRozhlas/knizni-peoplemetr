{
 "cells": [
  {
   "cell_type": "code",
   "execution_count": 784,
   "id": "312b0438-f5a7-4539-8669-f30b1f40f07e",
   "metadata": {},
   "outputs": [],
   "source": [
    "import os\n",
    "import re\n",
    "import pandas as pd"
   ]
  },
  {
   "cell_type": "code",
   "execution_count": 785,
   "id": "3b3eb6e2-f7d2-42b8-bbe0-ba309c5bb027",
   "metadata": {},
   "outputs": [],
   "source": [
    "pd.set_option('display.max_columns', 100)\n",
    "pd.set_option('display.max_rows', 500)"
   ]
  },
  {
   "cell_type": "code",
   "execution_count": 786,
   "id": "a17c8ea4-f9d4-4a24-ba0a-ff680a93dc24",
   "metadata": {},
   "outputs": [
    {
     "data": {
      "text/plain": [
       "47419"
      ]
     },
     "execution_count": 786,
     "metadata": {},
     "output_type": "execute_result"
    }
   ],
   "source": [
    "df = pd.read_parquet(os.path.join(\"data\",\"cnb_ceska_proza.parquet\"))\n",
    "len(df)"
   ]
  },
  {
   "cell_type": "code",
   "execution_count": null,
   "id": "24cd3498-13ae-4f9c-be57-8e9262a98b98",
   "metadata": {},
   "outputs": [],
   "source": [
    "df = df.merge(pd.read_parquet(os.path.join(\"data\",\"cnb_vyber.parquet\")), left_index=True, right_index=True, how='inner')"
   ]
  },
  {
   "cell_type": "code",
   "execution_count": null,
   "id": "ac1e38ca-8bc0-4c05-8a64-4badd85874ce",
   "metadata": {},
   "outputs": [],
   "source": [
    "df = df[df['rok'] >= 2020]"
   ]
  },
  {
   "cell_type": "code",
   "execution_count": null,
   "id": "d93275fc-be79-4ff1-b464-63386fa7fe6c",
   "metadata": {},
   "outputs": [],
   "source": [
    "len(df)"
   ]
  },
  {
   "cell_type": "code",
   "execution_count": null,
   "id": "eb984e3c-2640-417c-8738-02c80940edfd",
   "metadata": {},
   "outputs": [],
   "source": [
    "df = df.explode('020_a')"
   ]
  },
  {
   "cell_type": "code",
   "execution_count": null,
   "id": "0e9a02f4-b9e1-429b-acd6-d665dfc49bf1",
   "metadata": {},
   "outputs": [],
   "source": [
    "def isbn(x):\n",
    "    try:\n",
    "        if len(x.replace('-','')) == 13:\n",
    "            return str(x.replace('-',''))\n",
    "    except:\n",
    "        pass"
   ]
  },
  {
   "cell_type": "code",
   "execution_count": null,
   "id": "c287cdaf-9181-40fc-8896-c254e461b01d",
   "metadata": {},
   "outputs": [],
   "source": [
    "df['isbn'] = df['020_a'].apply(lambda x: isbn(x))"
   ]
  },
  {
   "cell_type": "code",
   "execution_count": null,
   "id": "a3106d61-67fd-4fac-9801-df84e295da62",
   "metadata": {},
   "outputs": [],
   "source": [
    "df[['020_a','isbn']].sample(20)"
   ]
  },
  {
   "cell_type": "code",
   "execution_count": null,
   "id": "5c565a4f-e7cb-4575-afa5-ed4387ba2cf2",
   "metadata": {},
   "outputs": [],
   "source": [
    "odkud = \"data_raw/ebooky\""
   ]
  },
  {
   "cell_type": "code",
   "execution_count": null,
   "id": "c14e40fe-820c-49df-8f20-9d0805cef90c",
   "metadata": {},
   "outputs": [],
   "source": [
    "stazene = set([x.split(\".\")[0] for x in os.listdir(odkud)])\n",
    "len(stazene)"
   ]
  },
  {
   "cell_type": "code",
   "execution_count": null,
   "id": "c6d1a223-8229-4c24-b2f9-ad00bac44525",
   "metadata": {},
   "outputs": [],
   "source": [
    "df = df[df['isbn'].isin(stazene)]"
   ]
  },
  {
   "cell_type": "code",
   "execution_count": null,
   "id": "15cbe187-c83b-4597-9393-4c239f03c21a",
   "metadata": {},
   "outputs": [],
   "source": [
    "df"
   ]
  },
  {
   "cell_type": "code",
   "execution_count": null,
   "id": "e665b5cc-8b03-4285-ad8e-60fce1a3f933",
   "metadata": {},
   "outputs": [],
   "source": [
    "autority = pd.read_parquet(os.path.join(\"data\",\"aut_vyber.parquet\"))"
   ]
  },
  {
   "cell_type": "code",
   "execution_count": null,
   "id": "d4f36f4e-0596-45a9-b24b-003a6254372e",
   "metadata": {},
   "outputs": [],
   "source": [
    "autority = autority.merge(pd.read_parquet(os.path.join('data','wikidata.parquet')), left_index=True, right_index=True, how=\"outer\")"
   ]
  },
  {
   "cell_type": "code",
   "execution_count": null,
   "id": "091c5099-0cd1-43e4-bb5c-0b1c62f41825",
   "metadata": {},
   "outputs": [],
   "source": [
    "autority.sample(5)"
   ]
  },
  {
   "cell_type": "code",
   "execution_count": null,
   "id": "b310540d-40a5-4fec-a3dd-e187903d0ad1",
   "metadata": {},
   "outputs": [],
   "source": [
    "df = df.merge(autority[['w_gender']], left_on=\"autorstvo_kod\", right_index=True, how=\"left\")"
   ]
  },
  {
   "cell_type": "code",
   "execution_count": null,
   "id": "459d6e27-4892-44bb-8678-bfb9816c5cea",
   "metadata": {},
   "outputs": [],
   "source": [
    "df.sample(5)"
   ]
  },
  {
   "cell_type": "code",
   "execution_count": null,
   "id": "cab299f5-5ead-4298-b0a5-1a8ff390b551",
   "metadata": {},
   "outputs": [],
   "source": [
    "len(df)"
   ]
  },
  {
   "cell_type": "code",
   "execution_count": null,
   "id": "ce30fee6-14b8-4ab6-8c7c-5e1f7248b74c",
   "metadata": {},
   "outputs": [],
   "source": [
    "len(df[df['w_gender'].notnull()])"
   ]
  },
  {
   "cell_type": "code",
   "execution_count": null,
   "id": "b2eb4e45-f2d5-42b1-aa4d-569d808a2646",
   "metadata": {},
   "outputs": [],
   "source": [
    "import simplemma"
   ]
  },
  {
   "cell_type": "code",
   "execution_count": null,
   "id": "20523a67-6c74-4cd9-b0de-5c9b24f2f86a",
   "metadata": {},
   "outputs": [],
   "source": [
    "def remove_non_letters(input_string):\n",
    "        # Define an empty string to store our result\n",
    "        result_string = ''\n",
    "\n",
    "        # Loop through each character in the given string\n",
    "        for character in input_string:\n",
    "            # If the character is a letter or whitespace\n",
    "            if character.isalpha() or character.isspace():\n",
    "                # Include it in our result string\n",
    "                result_string += character\n",
    "\n",
    "        # Return the cleaned string\n",
    "        return result_string"
   ]
  },
  {
   "cell_type": "code",
   "execution_count": null,
   "id": "58a6bc19-d0f1-4d73-9286-d746b4a6d87e",
   "metadata": {},
   "outputs": [],
   "source": [
    "ukazky = []\n",
    "for i in df[df['w_gender'].notnull()]['isbn'].to_list():\n",
    "    ukazka = {}\n",
    "    ukazka['isbn'] = i\n",
    "    with open(os.path.join(odkud, f\"{i}.txt\"), 'r', encoding='utf-8') as u:\n",
    "        text = remove_non_letters(u.read().lower().strip().replace('\\n',' ').replace('\\t','').replace('\\xa0',' '))\n",
    "        slova = []\n",
    "        for t in [t for t in text.split(' ') if len(t) > 2]:\n",
    "            slova.append(simplemma.lemmatize(t, lang='cs'))\n",
    "        ukazka['slova'] = set(slova)\n",
    "        if len(set(slova)) > 50:\n",
    "            ukazky.append(ukazka)"
   ]
  },
  {
   "cell_type": "code",
   "execution_count": null,
   "id": "f7fe2ac1-2e30-4d20-9769-03013301e7f4",
   "metadata": {},
   "outputs": [],
   "source": [
    "mz = pd.DataFrame(ukazky)\n",
    "mz.sample(5)"
   ]
  },
  {
   "cell_type": "code",
   "execution_count": null,
   "id": "4c2d980c-8f59-433b-995a-6151e6f3e0de",
   "metadata": {},
   "outputs": [],
   "source": [
    "mz = mz.merge(df[['isbn','w_gender','autorstvo_kod']], left_on='isbn', right_on='isbn', how='left')"
   ]
  },
  {
   "cell_type": "code",
   "execution_count": null,
   "id": "0c82f636-4b6e-464f-a5f4-7a8450605018",
   "metadata": {},
   "outputs": [],
   "source": [
    "mz"
   ]
  },
  {
   "cell_type": "code",
   "execution_count": null,
   "id": "19ffbc30-92ef-48e9-8dee-d64acf45ff64",
   "metadata": {},
   "outputs": [],
   "source": [
    "len(mz[mz['w_gender'] == 'muž'])"
   ]
  },
  {
   "cell_type": "code",
   "execution_count": null,
   "id": "35261856-d813-4734-86c1-af01751fd4a8",
   "metadata": {},
   "outputs": [],
   "source": [
    "mz[mz['w_gender'] == 'muž']['autorstvo_kod'].nunique()"
   ]
  },
  {
   "cell_type": "code",
   "execution_count": null,
   "id": "54ef2229-1b77-41df-8854-a6aa42c20dcc",
   "metadata": {},
   "outputs": [],
   "source": [
    "len(mz[mz['w_gender'] == 'žena'])"
   ]
  },
  {
   "cell_type": "code",
   "execution_count": null,
   "id": "6ee6367f-01cd-4709-8a99-2ec2d3e09f2a",
   "metadata": {},
   "outputs": [],
   "source": [
    "mz[mz['w_gender'] == 'žena']['autorstvo_kod'].nunique()"
   ]
  },
  {
   "cell_type": "code",
   "execution_count": null,
   "id": "daea6080-e885-4a18-8485-093df78ddd75",
   "metadata": {},
   "outputs": [],
   "source": [
    "mz_slova = mz.explode('slova')\n",
    "mz1000 = mz_slova.groupby('slova').size().nlargest(2953).index.to_list()\n",
    "mz_slova[mz_slova['slova'] == mz1000[-1]]['isbn'].nunique() / mz_slova['isbn'].nunique()"
   ]
  },
  {
   "cell_type": "code",
   "execution_count": null,
   "id": "0859015b-9f18-4ab9-9d88-76e75d8f7bc4",
   "metadata": {},
   "outputs": [],
   "source": [
    "mz_filtr = mz.explode('slova')\n",
    "mz_filtr = mz_filtr[mz_filtr['slova'].isin(mz1000)]\n",
    "mz_filtr.sample(10)"
   ]
  },
  {
   "cell_type": "code",
   "execution_count": null,
   "id": "1841410b-ae9e-41b5-9d01-ca73b431b666",
   "metadata": {},
   "outputs": [],
   "source": [
    "z = mz_filtr[mz_filtr['w_gender'] == 'žena'].groupby('slova').size() / mz_filtr[mz_filtr['w_gender'] == 'žena']['isbn'].nunique()"
   ]
  },
  {
   "cell_type": "code",
   "execution_count": null,
   "id": "d9126aea-83b9-4335-be1d-3d7264b46170",
   "metadata": {},
   "outputs": [],
   "source": [
    "z.sort_values()"
   ]
  },
  {
   "cell_type": "code",
   "execution_count": null,
   "id": "02b2b57d-9be8-4b29-aea9-9e305f0fde4d",
   "metadata": {},
   "outputs": [],
   "source": [
    "m = mz_filtr[mz_filtr['w_gender'] == 'muž'].groupby('slova').size() / mz_filtr[mz_filtr['w_gender'] == 'muž']['isbn'].nunique()"
   ]
  },
  {
   "cell_type": "code",
   "execution_count": null,
   "id": "55e72b18-7591-4045-9c0f-c19a9671e020",
   "metadata": {},
   "outputs": [],
   "source": [
    "m.sort_values()"
   ]
  },
  {
   "cell_type": "code",
   "execution_count": null,
   "id": "d610189d-0e1d-4004-90ff-e19c28ed8c0d",
   "metadata": {},
   "outputs": [],
   "source": [
    "pomer = m / z"
   ]
  },
  {
   "cell_type": "markdown",
   "id": "012c7c0e-08ee-4de2-9e1e-3e8af516af8e",
   "metadata": {},
   "source": [
    "## Celkový pohled"
   ]
  },
  {
   "cell_type": "code",
   "execution_count": null,
   "id": "2511ae61-6958-4b0f-a279-4e9276c534c7",
   "metadata": {},
   "outputs": [],
   "source": [
    "pomer.plot.hist(bins=20)"
   ]
  },
  {
   "cell_type": "code",
   "execution_count": null,
   "id": "634a8ae2-8f9e-4a06-90a6-f3f333b2629c",
   "metadata": {},
   "outputs": [],
   "source": [
    "neutralita = pd.DataFrame(pomer).rename(columns={0:'cetnost'})\n",
    "neutralita['odchylka'] = neutralita['cetnost'].apply(lambda x: x-1 if x>1 else 1-x)\n",
    "neutralita.sort_values(by='odchylka').head(20)"
   ]
  },
  {
   "cell_type": "markdown",
   "id": "56c777c1-a5d0-4f62-86fe-76103355ccd9",
   "metadata": {},
   "source": [
    "## Čím knihy častěji začínají muži-spisovatelé"
   ]
  },
  {
   "cell_type": "code",
   "execution_count": null,
   "id": "fea95f4f-a5cf-4e25-91e3-5d2db77266ed",
   "metadata": {},
   "outputs": [],
   "source": [
    "pomer.nlargest(25)"
   ]
  },
  {
   "cell_type": "markdown",
   "id": "a8659002-a9cf-4014-b158-8e923be1f622",
   "metadata": {},
   "source": [
    "## Čím knihy častěji začínají ženy-spisovatelky"
   ]
  },
  {
   "cell_type": "code",
   "execution_count": null,
   "id": "65c81f67-1889-45e4-b576-67f9582ae140",
   "metadata": {},
   "outputs": [],
   "source": [
    "(1/pomer).nlargest(25)"
   ]
  }
 ],
 "metadata": {
  "kernelspec": {
   "display_name": "Python 3 (ipykernel)",
   "language": "python",
   "name": "python3"
  },
  "language_info": {
   "codemirror_mode": {
    "name": "ipython",
    "version": 3
   },
   "file_extension": ".py",
   "mimetype": "text/x-python",
   "name": "python",
   "nbconvert_exporter": "python",
   "pygments_lexer": "ipython3",
   "version": "3.12.3"
  }
 },
 "nbformat": 4,
 "nbformat_minor": 5
}
