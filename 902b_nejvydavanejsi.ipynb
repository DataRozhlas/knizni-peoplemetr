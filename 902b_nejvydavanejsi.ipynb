{
 "cells": [
  {
   "cell_type": "code",
   "execution_count": 2,
   "id": "55820478-4890-4a64-8441-3e09ba34c92b",
   "metadata": {},
   "outputs": [],
   "source": [
    "import os\n",
    "import json\n",
    "import datetime\n",
    "import warnings\n",
    "import polars as pl\n",
    "import pandas as pd\n",
    "import altair as alt\n",
    "\n",
    "from src.najdi_rok import najdi_rok\n",
    "from src.pocet_stran import pocet_stran\n",
    "from src.bez_bordelu import bez_bordelu\n",
    "from src.alt_friendly import alt_friendly\n",
    "from src.hezke_jmeno import hezke_jmeno\n",
    "from src.kristi_promin import kristi_promin\n",
    "from src.zjisti_vazbu import zjisti_vazbu\n",
    "from src.me_to_neurazi import me_to_neurazi\n",
    "\n",
    "with open(os.path.join('src','kredity.json'), 'r', encoding='utf-8') as kredity:\n",
    "    kredity = json.loads(kredity.read())\n",
    "\n",
    "pl.Config(tbl_rows=100)\n",
    "alt.data_transformers.disable_max_rows()\n",
    "alt.themes.register('irozhlas', kristi_promin)\n",
    "alt.themes.enable('irozhlas')\n",
    "warnings.filterwarnings('ignore')"
   ]
  },
  {
   "cell_type": "code",
   "execution_count": 3,
   "id": "48145741-3e20-466a-bd6d-3db6353312ef",
   "metadata": {},
   "outputs": [
    {
     "name": "stdout",
     "output_type": "stream",
     "text": [
      "1001279\n",
      "991612\n"
     ]
    }
   ],
   "source": [
    "df = pl.read_parquet(os.path.join(\"data/cnb_sloupce\",\"leader.parquet\"))\n",
    "df = df.join(pl.read_parquet(os.path.join(\"data/cnb_sloupce\",\"100.parquet\")), left_on=\"001\", right_on=\"001\", how=\"left\")\n",
    "df = df.join(pl.read_parquet(os.path.join(\"data/cnb_sloupce\",\"008.parquet\")), left_on=\"001\", right_on=\"001\", how=\"left\")\n",
    "df = df.to_pandas()\n",
    "df = df[df[\"leader\"].str[6].isin([\"a\", \"t\"])]\n",
    "df = df[~df[\"leader\"].str[7].isin([\"b\", \"i\", \"s\", \" \"])]\n",
    "df = df[(df[\"008\"].str[15:17] == \"xr\") & (df[\"008\"].str[35:38] == \"cze\")]\n",
    "df = pl.from_pandas(df)\n",
    "df = df.join(pl.read_parquet(os.path.join(\"data/cnb_sloupce\",\"020.parquet\")), left_on=\"001\", right_on=\"001\", how=\"left\")\n",
    "df = df.join(pl.read_parquet(os.path.join(\"data/cnb_sloupce\",\"022.parquet\")), left_on=\"001\", right_on=\"001\", how=\"left\")\n",
    "df = df.join(pl.read_parquet(os.path.join(\"data/cnb_sloupce\",\"245.parquet\")), left_on=\"001\", right_on=\"001\", how=\"left\")\n",
    "df = df.join(pl.read_parquet(os.path.join(\"data/cnb_sloupce\",\"300.parquet\")), left_on=\"001\", right_on=\"001\", how=\"left\")\n",
    "df = df.join(pl.read_parquet(os.path.join(\"data/cnb_sloupce\",\"655.parquet\")), left_on=\"001\", right_on=\"001\", how=\"left\")\n",
    "df = df.join(pl.read_parquet(os.path.join(\"data/cnb_sloupce\",\"700.parquet\")), left_on=\"001\", right_on=\"001\", how=\"left\")\n",
    "df = df.explode(\"022_a\").filter(pl.col(\"022_a\").is_null())\n",
    "df = df.with_columns(pl.col('008').map_elements(najdi_rok, return_dtype=int).alias('rok'))\n",
    "df = df.with_columns(pl.col('300_a').map_elements(pocet_stran, return_dtype=int).alias('stran'))\n",
    "df = df.with_columns(pl.col('245_a').map_elements(bez_bordelu, return_dtype=str))\n",
    "df = df.explode(\"020_q\").with_columns(pl.col(\"020_q\").map_elements(zjisti_vazbu, return_dtype=str).alias('vazba'))\n",
    "df = df.explode('245_p').with_columns(pl.col('245_p').map_elements(bez_bordelu, return_dtype=str))\n",
    "print(len(df))\n",
    "df = df.filter(~pl.col('rok').is_null()).sort(by='rok')\n",
    "df = df.filter((~pl.col(\"245_h\").str.contains(\"grafika\")) | pl.col(\"245_h\").is_null())\n",
    "print(len(df))"
   ]
  },
  {
   "cell_type": "code",
   "execution_count": 4,
   "id": "3a700ac8-2c08-4283-b86c-8c8b6046c771",
   "metadata": {},
   "outputs": [],
   "source": [
    "df = df.with_columns(pl.col('100_a').map_elements(hezke_jmeno, return_dtype=str).alias('jmeno'))"
   ]
  },
  {
   "cell_type": "code",
   "execution_count": 5,
   "id": "a34c5624-ba50-4bd9-b226-acf2f3508c74",
   "metadata": {},
   "outputs": [],
   "source": [
    "bio = pl.read_parquet(os.path.join('data','narozeni-umrti-gender.parquet'))"
   ]
  },
  {
   "cell_type": "code",
   "execution_count": 6,
   "id": "b354e697-7f36-47b9-a7e2-ddbdbc972463",
   "metadata": {},
   "outputs": [],
   "source": [
    "df = df.join(bio, on='100_7', how='left')"
   ]
  },
  {
   "cell_type": "code",
   "execution_count": 7,
   "id": "86a4e6aa-150c-46b0-b8f3-15131d98ea19",
   "metadata": {},
   "outputs": [
    {
     "data": {
      "text/html": [
       "<div><style>\n",
       ".dataframe > thead > tr,\n",
       ".dataframe > tbody > tr {\n",
       "  text-align: right;\n",
       "  white-space: pre-wrap;\n",
       "}\n",
       "</style>\n",
       "<small>shape: (30, 5)</small><table border=\"1\" class=\"dataframe\"><thead><tr><th>jmeno</th><th>245_a</th><th>245_p</th><th>len</th><th>rok</th></tr><tr><td>str</td><td>str</td><td>str</td><td>u32</td><td>i64</td></tr></thead><tbody><tr><td>null</td><td>&quot;Bible&quot;</td><td>null</td><td>255</td><td>null</td></tr><tr><td>&quot;Božena Němcová&quot;</td><td>&quot;Babička&quot;</td><td>null</td><td>223</td><td>1855</td></tr><tr><td>null</td><td>&quot;Divadelní ochotník&quot;</td><td>null</td><td>216</td><td>null</td></tr><tr><td>&quot;Karel Hynek Mácha&quot;</td><td>&quot;Máj&quot;</td><td>null</td><td>162</td><td>1872</td></tr><tr><td>&quot;Karel Jaromír Erben&quot;</td><td>&quot;Kytice&quot;</td><td>null</td><td>154</td><td>1853</td></tr><tr><td>null</td><td>&quot;Čítanka pro školy obecné&quot;</td><td>null</td><td>110</td><td>null</td></tr><tr><td>&quot;Alois Jirásek&quot;</td><td>&quot;Staré pověsti české&quot;</td><td>null</td><td>99</td><td>1894</td></tr><tr><td>&quot;Jan Karafiát&quot;</td><td>&quot;Broučci&quot;</td><td>null</td><td>96</td><td>1876</td></tr><tr><td>null</td><td>&quot;Russkij jazyk&quot;</td><td>null</td><td>96</td><td>null</td></tr><tr><td>&quot;Jan Neruda&quot;</td><td>&quot;Povídky malostranské&quot;</td><td>null</td><td>84</td><td>1878</td></tr><tr><td>null</td><td>&quot;Český jazyk&quot;</td><td>null</td><td>73</td><td>null</td></tr><tr><td>null</td><td>&quot;Nový zákon&quot;</td><td>null</td><td>72</td><td>null</td></tr><tr><td>&quot;Božena Němcová&quot;</td><td>&quot;Pohorská vesnice&quot;</td><td>null</td><td>69</td><td>1856</td></tr><tr><td>null</td><td>&quot;Pravidla českého pravopisu&quot;</td><td>null</td><td>68</td><td>null</td></tr><tr><td>&quot;Alois Jirásek&quot;</td><td>&quot;Psohlavci&quot;</td><td>null</td><td>66</td><td>1886</td></tr><tr><td>null</td><td>&quot;Almanach&quot;</td><td>null</td><td>64</td><td>null</td></tr><tr><td>&quot;Antoine de Saint-Exupéry&quot;</td><td>&quot;Malý princ&quot;</td><td>null</td><td>56</td><td>1959</td></tr><tr><td>null</td><td>&quot;Matematika&quot;</td><td>null</td><td>51</td><td>null</td></tr><tr><td>&quot;Karel Tůma&quot;</td><td>&quot;Z českých mlýnů&quot;</td><td>null</td><td>50</td><td>1886</td></tr><tr><td>&quot;Karel Čapek&quot;</td><td>&quot;Válka s Mloky&quot;</td><td>null</td><td>49</td><td>1936</td></tr><tr><td>&quot;Alexandre Dumas&quot;</td><td>&quot;Tři mušketýři&quot;</td><td>null</td><td>49</td><td>1851</td></tr><tr><td>&quot;Petr Bezruč&quot;</td><td>&quot;Slezské písně&quot;</td><td>null</td><td>48</td><td>1909</td></tr><tr><td>&quot;Karel Poláček&quot;</td><td>&quot;Bylo nás pět&quot;</td><td>null</td><td>48</td><td>1946</td></tr><tr><td>null</td><td>&quot;Obchodní zákoník&quot;</td><td>null</td><td>48</td><td>null</td></tr><tr><td>&quot;Jan Burian&quot;</td><td>&quot;Civilizace starověkého Středom…</td><td>null</td><td>46</td><td>1984</td></tr><tr><td>&quot;Jaroslav Hašek&quot;</td><td>&quot;Osudy dobrého vojáka Švejka za…</td><td>null</td><td>45</td><td>1921</td></tr><tr><td>&quot;Alois Jirásek&quot;</td><td>&quot;Filosofská historie&quot;</td><td>null</td><td>45</td><td>1898</td></tr><tr><td>&quot;Pavel Kosatík&quot;</td><td>&quot;Češi&quot;</td><td>null</td><td>45</td><td>2013</td></tr><tr><td>&quot;Alois Mrštík&quot;</td><td>&quot;Maryša&quot;</td><td>null</td><td>44</td><td>1894</td></tr><tr><td>null</td><td>&quot;Slovo na cestu&quot;</td><td>null</td><td>43</td><td>null</td></tr></tbody></table></div>"
      ],
      "text/plain": [
       "shape: (30, 5)\n",
       "┌──────────────────────────┬─────────────────────────────────┬───────┬─────┬──────┐\n",
       "│ jmeno                    ┆ 245_a                           ┆ 245_p ┆ len ┆ rok  │\n",
       "│ ---                      ┆ ---                             ┆ ---   ┆ --- ┆ ---  │\n",
       "│ str                      ┆ str                             ┆ str   ┆ u32 ┆ i64  │\n",
       "╞══════════════════════════╪═════════════════════════════════╪═══════╪═════╪══════╡\n",
       "│ null                     ┆ Bible                           ┆ null  ┆ 255 ┆ null │\n",
       "│ Božena Němcová           ┆ Babička                         ┆ null  ┆ 223 ┆ 1855 │\n",
       "│ null                     ┆ Divadelní ochotník              ┆ null  ┆ 216 ┆ null │\n",
       "│ Karel Hynek Mácha        ┆ Máj                             ┆ null  ┆ 162 ┆ 1872 │\n",
       "│ Karel Jaromír Erben      ┆ Kytice                          ┆ null  ┆ 154 ┆ 1853 │\n",
       "│ null                     ┆ Čítanka pro školy obecné        ┆ null  ┆ 110 ┆ null │\n",
       "│ Alois Jirásek            ┆ Staré pověsti české             ┆ null  ┆ 99  ┆ 1894 │\n",
       "│ Jan Karafiát             ┆ Broučci                         ┆ null  ┆ 96  ┆ 1876 │\n",
       "│ null                     ┆ Russkij jazyk                   ┆ null  ┆ 96  ┆ null │\n",
       "│ Jan Neruda               ┆ Povídky malostranské            ┆ null  ┆ 84  ┆ 1878 │\n",
       "│ null                     ┆ Český jazyk                     ┆ null  ┆ 73  ┆ null │\n",
       "│ null                     ┆ Nový zákon                      ┆ null  ┆ 72  ┆ null │\n",
       "│ Božena Němcová           ┆ Pohorská vesnice                ┆ null  ┆ 69  ┆ 1856 │\n",
       "│ null                     ┆ Pravidla českého pravopisu      ┆ null  ┆ 68  ┆ null │\n",
       "│ Alois Jirásek            ┆ Psohlavci                       ┆ null  ┆ 66  ┆ 1886 │\n",
       "│ null                     ┆ Almanach                        ┆ null  ┆ 64  ┆ null │\n",
       "│ Antoine de Saint-Exupéry ┆ Malý princ                      ┆ null  ┆ 56  ┆ 1959 │\n",
       "│ null                     ┆ Matematika                      ┆ null  ┆ 51  ┆ null │\n",
       "│ Karel Tůma               ┆ Z českých mlýnů                 ┆ null  ┆ 50  ┆ 1886 │\n",
       "│ Karel Čapek              ┆ Válka s Mloky                   ┆ null  ┆ 49  ┆ 1936 │\n",
       "│ Alexandre Dumas          ┆ Tři mušketýři                   ┆ null  ┆ 49  ┆ 1851 │\n",
       "│ Petr Bezruč              ┆ Slezské písně                   ┆ null  ┆ 48  ┆ 1909 │\n",
       "│ Karel Poláček            ┆ Bylo nás pět                    ┆ null  ┆ 48  ┆ 1946 │\n",
       "│ null                     ┆ Obchodní zákoník                ┆ null  ┆ 48  ┆ null │\n",
       "│ Jan Burian               ┆ Civilizace starověkého Středom… ┆ null  ┆ 46  ┆ 1984 │\n",
       "│ Jaroslav Hašek           ┆ Osudy dobrého vojáka Švejka za… ┆ null  ┆ 45  ┆ 1921 │\n",
       "│ Alois Jirásek            ┆ Filosofská historie             ┆ null  ┆ 45  ┆ 1898 │\n",
       "│ Pavel Kosatík            ┆ Češi                            ┆ null  ┆ 45  ┆ 2013 │\n",
       "│ Alois Mrštík             ┆ Maryša                          ┆ null  ┆ 44  ┆ 1894 │\n",
       "│ null                     ┆ Slovo na cestu                  ┆ null  ┆ 43  ┆ null │\n",
       "└──────────────────────────┴─────────────────────────────────┴───────┴─────┴──────┘"
      ]
     },
     "execution_count": 7,
     "metadata": {},
     "output_type": "execute_result"
    }
   ],
   "source": [
    "df.filter(pl.col('stran') >= 50).with_columns(pl.col(pl.String).str.replace(\"Kytice z pověstí národních\",\"Kytice\")).group_by(\n",
    "    ['jmeno','245_a','245_p']\n",
    ").len().sort(by='len',descending=True).head(30).join(\n",
    "    df.with_columns(pl.col(pl.String).str.replace(\"Kytice z pověstí národních\",\"Kytice\")).group_by(['jmeno','245_a']).agg(pl.col('rok').min()\n",
    "), on=['245_a','jmeno'], how='left')"
   ]
  },
  {
   "cell_type": "code",
   "execution_count": 8,
   "id": "dde35543-a6b9-48a2-bc67-9b76205fedd0",
   "metadata": {},
   "outputs": [],
   "source": [
    "topka = [\n",
    "    [\"Božena Němcová\",\"Babi\"],\n",
    "    [\"Karel Hynek Mácha\",\"Má[jg]\"],\n",
    "    [\"Karel Jaromír Erben\",\"(?i)Kyti\"],\n",
    "    [\"Alois Jirásek\",\"(?i)pověst\"],\n",
    "    [\"Jan Neruda\",\"(?i)malostrans\"],\n",
    "    [\"Alois Jirásek\",\"Psohlavci\"],\n",
    "    [\"Božena Němcová\",\"(?i)pohorsk\"],\n",
    "    [\"Antoine de Saint-Exupéry\",\"Malý princ\"],\n",
    "    [\"Karel Tůma\",\"Z českých mlýnů\"],\n",
    "    [\"Karel Čapek\",\"(?i)válka s mloky\"],\n",
    "    [\"Alexandre Dumas\",\"Tři mušketýři\"],\n",
    "    [\"Karel Poláček\",\"Bylo nás pět\"],\n",
    "    [\"Petr Bezruč\",\"Slezské písně\"],\n",
    "    [\"Jaroslav Hašek\", \"Švejk\"]\n",
    "]"
   ]
  },
  {
   "cell_type": "code",
   "execution_count": 9,
   "id": "a6a7c975-284d-4696-9ac1-8520104fbc58",
   "metadata": {},
   "outputs": [
    {
     "data": {
      "text/plain": [
       "14"
      ]
     },
     "execution_count": 9,
     "metadata": {},
     "output_type": "execute_result"
    }
   ],
   "source": [
    "len(topka)"
   ]
  },
  {
   "cell_type": "code",
   "execution_count": 10,
   "id": "f7c9c46c-75ea-4aeb-80cd-8cb3367a2972",
   "metadata": {},
   "outputs": [
    {
     "name": "stdout",
     "output_type": "stream",
     "text": [
      "['242× Němcová: Babička', '242× Mácha: Mág', '198× Erben: Kytice z pověstí národních', '120× Neruda: Povídky malostranské', '116× Hašek: Dobrý voják Švejk', '100× Jirásek: Staré pověsti české', '97× Dumas: Tři mušketýři', '71× Němcová: Pohorská vesnice', '66× Jirásek: Psohlavci', '56× Saint-Exupéry: Malý princ', '54× Bezruč: Slezské písně', '52× Tůma: Z českých mlýnů', '51× Čapek: Válka s Mloky', '48× Poláček: Bylo nás pět']\n"
     ]
    }
   ],
   "source": [
    "top_vyber = pl.DataFrame()\n",
    "for autor_titul in topka:\n",
    "    vyber = df.filter(~pl.col(\"100_7\").is_null()).filter((pl.col(\"jmeno\").str.contains(autor_titul[0])) & (pl.col('245_a').str.contains(autor_titul[1])))\n",
    "    pravy_titul = vyber.sort(by='rok').select(pl.col('245_a')).to_series().to_list()[0].split(' - ')[0].replace('a jiné podivné historky','').strip()\n",
    "    pocet = len(vyber)\n",
    "    hezky_nazev = f\"{pocet}× {autor_titul[0].split(' ')[-1]}: {pravy_titul}\"\n",
    "    top_vyber = pl.concat(\n",
    "        [top_vyber, vyber.with_columns(\n",
    "            pl.lit(hezky_nazev).alias('kniha')).with_columns(\n",
    "            pl.lit(pocet).alias('kolik')\n",
    "        ).select(pl.col(['rok','kniha','kolik','umrti','jmeno']))\n",
    "        ])\n",
    "\n",
    "top_vyber = top_vyber.with_columns(pl.col('umrti').map_elements(\n",
    "            lambda x: datetime.date(year=int(x), month=1, day=1), return_dtype=pl.Date\n",
    "        )\n",
    "        .cast(pl.Datetime)).select(pl.col(\"kniha\").replace({\"Mág\":\"Máj\"}))\n",
    "poradi_vyber = top_vyber.group_by('kniha').len().sort(by='len',descending=True).select(pl.col('kniha')).to_series().to_list()\n",
    "poradi_pocet = top_vyber.group_by('kniha').len().sort(by='len',descending=True).select(pl.col('len')).to_series().to_list()\n",
    "print(poradi_vyber)"
   ]
  },
  {
   "cell_type": "code",
   "execution_count": 11,
   "id": "0d5a98dd-2cd5-4f5f-a534-d2f76125b565",
   "metadata": {},
   "outputs": [
    {
     "data": {
      "text/html": [
       "<div><style>\n",
       ".dataframe > thead > tr,\n",
       ".dataframe > tbody > tr {\n",
       "  text-align: right;\n",
       "  white-space: pre-wrap;\n",
       "}\n",
       "</style>\n",
       "<small>shape: (10, 1)</small><table border=\"1\" class=\"dataframe\"><thead><tr><th>kniha</th></tr><tr><td>str</td></tr></thead><tbody><tr><td>&quot;198× Erben: Kytice z pověstí n…</td></tr><tr><td>&quot;120× Neruda: Povídky malostran…</td></tr><tr><td>&quot;242× Němcová: Babička&quot;</td></tr><tr><td>&quot;52× Tůma: Z českých mlýnů&quot;</td></tr><tr><td>&quot;52× Tůma: Z českých mlýnů&quot;</td></tr><tr><td>&quot;242× Mácha: Mág&quot;</td></tr><tr><td>&quot;66× Jirásek: Psohlavci&quot;</td></tr><tr><td>&quot;198× Erben: Kytice z pověstí n…</td></tr><tr><td>&quot;120× Neruda: Povídky malostran…</td></tr><tr><td>&quot;242× Mácha: Mág&quot;</td></tr></tbody></table></div>"
      ],
      "text/plain": [
       "shape: (10, 1)\n",
       "┌─────────────────────────────────┐\n",
       "│ kniha                           │\n",
       "│ ---                             │\n",
       "│ str                             │\n",
       "╞═════════════════════════════════╡\n",
       "│ 198× Erben: Kytice z pověstí n… │\n",
       "│ 120× Neruda: Povídky malostran… │\n",
       "│ 242× Němcová: Babička           │\n",
       "│ 52× Tůma: Z českých mlýnů       │\n",
       "│ 52× Tůma: Z českých mlýnů       │\n",
       "│ 242× Mácha: Mág                 │\n",
       "│ 66× Jirásek: Psohlavci          │\n",
       "│ 198× Erben: Kytice z pověstí n… │\n",
       "│ 120× Neruda: Povídky malostran… │\n",
       "│ 242× Mácha: Mág                 │\n",
       "└─────────────────────────────────┘"
      ]
     },
     "execution_count": 11,
     "metadata": {},
     "output_type": "execute_result"
    }
   ],
   "source": [
    "top_vyber.sample(10)"
   ]
  },
  {
   "cell_type": "code",
   "execution_count": 1,
   "id": "5caa5c23-536d-41f6-a3df-57005ec5b1dc",
   "metadata": {},
   "outputs": [
    {
     "ename": "NameError",
     "evalue": "name 'alt' is not defined",
     "output_type": "error",
     "traceback": [
      "\u001b[1;31m---------------------------------------------------------------------------\u001b[0m",
      "\u001b[1;31mNameError\u001b[0m                                 Traceback (most recent call last)",
      "Cell \u001b[1;32mIn[1], line 1\u001b[0m\n\u001b[1;32m----> 1\u001b[0m base \u001b[38;5;241m=\u001b[39m alt\u001b[38;5;241m.\u001b[39mChart(\n\u001b[0;32m      2\u001b[0m     alt_friendly(top_vyber),\n\u001b[0;32m      3\u001b[0m     title\u001b[38;5;241m=\u001b[39malt\u001b[38;5;241m.\u001b[39mTitle(\n\u001b[0;32m      4\u001b[0m         [\u001b[38;5;124m'\u001b[39m\u001b[38;5;124mKdy vycházely nejvydávanější knihy\u001b[39m\u001b[38;5;124m'\u001b[39m],\n\u001b[0;32m      5\u001b[0m         subtitle \u001b[38;5;241m=\u001b[39m [\u001b[38;5;124m'\u001b[39m\u001b[38;5;124mRůžové tečky jsou knihy původní české, modré překladové.\u001b[39m\u001b[38;5;124m'\u001b[39m,\u001b[38;5;124m'\u001b[39m\u001b[38;5;124mČerná čárka označuje rok úmrtí autora nebo autorky.\u001b[39m\u001b[38;5;124m'\u001b[39m]\n\u001b[0;32m      6\u001b[0m     )\n\u001b[0;32m      7\u001b[0m )\n\u001b[0;32m      9\u001b[0m kdy_umreli \u001b[38;5;241m=\u001b[39m alt\u001b[38;5;241m.\u001b[39mChart(alt_friendly(top_vyber))\u001b[38;5;241m.\u001b[39mmark_tick(\n\u001b[0;32m     10\u001b[0m     color\u001b[38;5;241m=\u001b[39m\u001b[38;5;124m'\u001b[39m\u001b[38;5;124m#292829\u001b[39m\u001b[38;5;124m'\u001b[39m,  \u001b[38;5;66;03m# optional: you can specify color\u001b[39;00m\n\u001b[0;32m     11\u001b[0m     thickness\u001b[38;5;241m=\u001b[39m\u001b[38;5;241m1.5\u001b[39m,\n\u001b[1;32m   (...)\u001b[0m\n\u001b[0;32m     14\u001b[0m     x\u001b[38;5;241m=\u001b[39malt\u001b[38;5;241m.\u001b[39mX(\u001b[38;5;124m'\u001b[39m\u001b[38;5;124mumrti:T\u001b[39m\u001b[38;5;124m'\u001b[39m, title\u001b[38;5;241m=\u001b[39m\u001b[38;5;28;01mNone\u001b[39;00m),\n\u001b[0;32m     15\u001b[0m     y\u001b[38;5;241m=\u001b[39malt\u001b[38;5;241m.\u001b[39mY(\u001b[38;5;124m\"\u001b[39m\u001b[38;5;124mkniha:N\u001b[39m\u001b[38;5;124m\"\u001b[39m, sort\u001b[38;5;241m=\u001b[39mporadi_vyber, title\u001b[38;5;241m=\u001b[39m\u001b[38;5;28;01mNone\u001b[39;00m, axis\u001b[38;5;241m=\u001b[39malt\u001b[38;5;241m.\u001b[39mAxis(orient\u001b[38;5;241m=\u001b[39m\u001b[38;5;124m'\u001b[39m\u001b[38;5;124mleft\u001b[39m\u001b[38;5;124m'\u001b[39m, domainOpacity\u001b[38;5;241m=\u001b[39m\u001b[38;5;241m0\u001b[39m, tickColor\u001b[38;5;241m=\u001b[39m\u001b[38;5;124m'\u001b[39m\u001b[38;5;124mwhite\u001b[39m\u001b[38;5;124m'\u001b[39m, labelExpr\u001b[38;5;241m=\u001b[39m\u001b[38;5;124m'\u001b[39m\u001b[38;5;124msplit(datum.label, \u001b[39m\u001b[38;5;124m\"\u001b[39m\u001b[38;5;124m× \u001b[39m\u001b[38;5;124m\"\u001b[39m\u001b[38;5;124m)[1]\u001b[39m\u001b[38;5;124m'\u001b[39m)))\n\u001b[0;32m     17\u001b[0m domaci \u001b[38;5;241m=\u001b[39m base\u001b[38;5;241m.\u001b[39mmark_circle(size\u001b[38;5;241m=\u001b[39m\u001b[38;5;241m8\u001b[39m)\u001b[38;5;241m.\u001b[39mencode(\n\u001b[0;32m     18\u001b[0m     x\u001b[38;5;241m=\u001b[39malt\u001b[38;5;241m.\u001b[39mX(\u001b[38;5;124m'\u001b[39m\u001b[38;5;124mrok:T\u001b[39m\u001b[38;5;124m'\u001b[39m, title\u001b[38;5;241m=\u001b[39m\u001b[38;5;28;01mNone\u001b[39;00m), \n\u001b[0;32m     19\u001b[0m     y\u001b[38;5;241m=\u001b[39malt\u001b[38;5;241m.\u001b[39mY(\u001b[38;5;124m'\u001b[39m\u001b[38;5;124mkniha:N\u001b[39m\u001b[38;5;124m'\u001b[39m, sort\u001b[38;5;241m=\u001b[39mporadi_vyber, title\u001b[38;5;241m=\u001b[39m\u001b[38;5;28;01mNone\u001b[39;00m, axis\u001b[38;5;241m=\u001b[39malt\u001b[38;5;241m.\u001b[39mAxis(orient\u001b[38;5;241m=\u001b[39m\u001b[38;5;124m'\u001b[39m\u001b[38;5;124mleft\u001b[39m\u001b[38;5;124m'\u001b[39m, labels\u001b[38;5;241m=\u001b[39m\u001b[38;5;28;01mFalse\u001b[39;00m)),\n\u001b[1;32m   (...)\u001b[0m\n\u001b[0;32m     23\u001b[0m     (alt\u001b[38;5;241m.\u001b[39mdatum\u001b[38;5;241m.\u001b[39mkniha \u001b[38;5;241m!=\u001b[39m \u001b[38;5;124m'\u001b[39m\u001b[38;5;124m97× Dumas: Tři mušketýři\u001b[39m\u001b[38;5;124m'\u001b[39m) \u001b[38;5;241m&\u001b[39m (alt\u001b[38;5;241m.\u001b[39mdatum\u001b[38;5;241m.\u001b[39mkniha \u001b[38;5;241m!=\u001b[39m \u001b[38;5;124m'\u001b[39m\u001b[38;5;124m56× Saint-Exupéry: Malý princ\u001b[39m\u001b[38;5;124m'\u001b[39m)\n\u001b[0;32m     24\u001b[0m )\u001b[38;5;241m.\u001b[39mtransform_calculate(jitter\u001b[38;5;241m=\u001b[39m\u001b[38;5;124m\"\u001b[39m\u001b[38;5;124msqrt(-2*log(random()))*cos(2*PI*random())\u001b[39m\u001b[38;5;124m\"\u001b[39m)\n",
      "\u001b[1;31mNameError\u001b[0m: name 'alt' is not defined"
     ]
    }
   ],
   "source": [
    "base = alt.Chart(\n",
    "    alt_friendly(top_vyber),\n",
    "    title=alt.Title(\n",
    "        ['Kdy vycházely nejvydávanější knihy'],\n",
    "        subtitle = ['Růžové tečky jsou knihy původní české, modré překladové.','Černá čárka označuje rok úmrtí autora nebo autorky.']\n",
    "    )\n",
    ")\n",
    "\n",
    "kdy_umreli = alt.Chart(alt_friendly(top_vyber)).mark_tick(\n",
    "    color='#292829',  # optional: you can specify color\n",
    "    thickness=1.5,\n",
    "    height=9\n",
    ").encode(\n",
    "    x=alt.X('umrti:T', title=None),\n",
    "    y=alt.Y(\"kniha:N\", sort=poradi_vyber, title=None, axis=alt.Axis(orient='left', domainOpacity=0, tickColor='white', labelExpr='split(datum.label, \"× \")[1]')))\n",
    "\n",
    "domaci = base.mark_circle(size=8).encode(\n",
    "    x=alt.X('rok:T', title=None), \n",
    "    y=alt.Y('kniha:N', sort=poradi_vyber, title=None, axis=alt.Axis(orient='left', labels=False)),\n",
    "    yOffset=alt.YOffset(\"jitter:Q\", scale=alt.Scale(range=[3, 15])),\n",
    "    color=alt.Color('kniha:N', scale=alt.Scale(range=['#E09DA3']), legend=None)\n",
    ").transform_filter(\n",
    "    (alt.datum.kniha != '97× Dumas: Tři mušketýři') & (alt.datum.kniha != '56× Saint-Exupéry: Malý princ')\n",
    ").transform_calculate(jitter=\"sqrt(-2*log(random()))*cos(2*PI*random())\")\n",
    "\n",
    "zahranicni = base.mark_circle(size=8, color='#81A9D5').encode(\n",
    "    x=alt.X('rok:T', title=None), \n",
    "    y=alt.Y('kniha:N', sort=poradi_vyber, title=None, axis=alt.Axis(orient='left', labels=False)),\n",
    "    yOffset=alt.YOffset(\"jitter:Q\", scale=alt.Scale(range=[3, 15])),\n",
    "    color=alt.Color('kniha:N', scale=alt.Scale(range=['#81A9D5']), legend=None)\n",
    ").transform_filter(\n",
    "    (alt.datum.kniha == '97× Dumas: Tři mušketýři') | (alt.datum.kniha == '56× Saint-Exupéry: Malý princ')\n",
    ").transform_calculate(jitter=\"sqrt(-2*log(random()))*cos(2*PI*random())\")\n",
    "\n",
    "pocty = base.mark_circle(size=0).encode(x=alt.X('rok:T', title=None), \n",
    "    y=alt.Y('kniha:N', sort=poradi_pocet, title=None, axis=alt.Axis(orient=\"right\", tickColor='white', labelExpr='split(datum.label, \" \")[0]')))\n",
    "\n",
    "nejvydavanejsi = alt.layer(domaci, zahranicni, kdy_umreli, pocty).properties(\n",
    "    width=kredity['sirka'], autosize={'type': 'fit', 'contains': 'padding'}\n",
    ").configure_view(stroke='transparent').resolve_scale(color='independent',x=\"shared\").resolve_axis(y='independent')\n",
    "\n",
    "nejvydavanejsi"
   ]
  },
  {
   "cell_type": "code",
   "execution_count": null,
   "id": "bffb9415-29f0-4053-a407-bdb1654058bc",
   "metadata": {},
   "outputs": [],
   "source": [
    "me_to_neurazi(nejvydavanejsi, soubor=\"01_nejvydavanejsi_knihy\", kredity=kredity['default'])"
   ]
  },
  {
   "cell_type": "code",
   "execution_count": null,
   "id": "6170c76f-48e1-465a-8b6b-bcd30a80fc07",
   "metadata": {},
   "outputs": [],
   "source": [
    "df = df.with_columns(pl.col('245_p').map_elements(bez_bordelu, return_dtype=str))"
   ]
  },
  {
   "cell_type": "code",
   "execution_count": null,
   "id": "a29b09ff-2f46-404b-93b6-68e95cb6fef4",
   "metadata": {},
   "outputs": [],
   "source": [
    "df.group_by(\"245_p\").len().sort(by=\"len\",descending=True)"
   ]
  },
  {
   "cell_type": "code",
   "execution_count": null,
   "id": "e69d8faf-a959-41ee-b469-02e0a8b920d3",
   "metadata": {},
   "outputs": [],
   "source": [
    "df.group_by(\"245_a\").agg(pl.col(\"245_p\").unique().len()).sort(by=\"245_p\",descending=True).head(100)"
   ]
  }
 ],
 "metadata": {
  "kernelspec": {
   "display_name": "Python 3 (ipykernel)",
   "language": "python",
   "name": "python3"
  },
  "language_info": {
   "codemirror_mode": {
    "name": "ipython",
    "version": 3
   },
   "file_extension": ".py",
   "mimetype": "text/x-python",
   "name": "python",
   "nbconvert_exporter": "python",
   "pygments_lexer": "ipython3",
   "version": "3.12.3"
  }
 },
 "nbformat": 4,
 "nbformat_minor": 5
}
