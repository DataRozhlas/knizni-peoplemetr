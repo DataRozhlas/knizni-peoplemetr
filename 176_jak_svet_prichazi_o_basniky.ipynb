{
 "cells": [
  {
   "cell_type": "code",
   "execution_count": 1,
   "id": "40a1ef09-0eb3-4b6c-8ef9-298dc8682563",
   "metadata": {},
   "outputs": [],
   "source": [
    "import os\n",
    "import datetime\n",
    "import warnings\n",
    "import polars as pl\n",
    "import pandas as pd\n",
    "import altair as alt\n",
    "\n",
    "from src.najdi_rok import najdi_rok\n",
    "from src.pocet_stran import pocet_stran\n",
    "from src.bez_bordelu import bez_bordelu\n",
    "from src.alt_friendly import alt_friendly\n",
    "from src.hezke_jmeno import hezke_jmeno\n",
    "from src.kristi_promin import kristi_promin\n",
    "from src.zjisti_vazbu import zjisti_vazbu\n",
    "\n",
    "pl.Config(tbl_rows=100)\n",
    "alt.data_transformers.disable_max_rows()\n",
    "alt.themes.register('irozhlas', kristi_promin)\n",
    "alt.themes.enable('irozhlas')\n",
    "warnings.filterwarnings('ignore')"
   ]
  },
  {
   "cell_type": "code",
   "execution_count": 51,
   "id": "67590514-8d80-408b-b633-28f3f0a97f32",
   "metadata": {},
   "outputs": [],
   "source": [
    "aut = pl.read_parquet(os.path.join(\"data\",\"aut_vyber.parquet\"))"
   ]
  },
  {
   "cell_type": "code",
   "execution_count": 53,
   "id": "89be4830-0ae2-444e-b233-a2847e81f8ba",
   "metadata": {},
   "outputs": [],
   "source": [
    "aut = aut.explode(\"100_7\")\n",
    "cesi = aut.explode(\"370_c\").filter(pl.col(\"370_c\").str.contains(\"Česk\")).select(pl.col(\"100_7\")).to_series().to_list()\n",
    "basnictvo = aut.explode(\"678_a\").filter(pl.col(\"678_a\").str.contains(\"(?i)básn\")).select(pl.col(\"100_7\")).to_series().to_list()"
   ]
  },
  {
   "cell_type": "code",
   "execution_count": 54,
   "id": "5441cc1b-4462-4850-9749-c542ca60fc74",
   "metadata": {},
   "outputs": [],
   "source": [
    "aut = aut.filter(pl.col(\"100_7\").is_in(basnictvo) \n",
    "                # & pl.col(\"100_7\").is_in(cesi)\n",
    "                )"
   ]
  },
  {
   "cell_type": "code",
   "execution_count": 57,
   "id": "d5dee10e-6926-4484-be83-130263b2c2cf",
   "metadata": {},
   "outputs": [],
   "source": [
    "wikid = pl.read_parquet(os.path.join(\"data\",\"wikidata.parquet\"))"
   ]
  },
  {
   "cell_type": "code",
   "execution_count": 71,
   "id": "f4295804-336b-47d4-827f-bc901ba6bb16",
   "metadata": {},
   "outputs": [
    {
     "data": {
      "text/plain": [
       "['024_a',\n",
       " 'ceny',\n",
       " 'druh_umrti',\n",
       " 'facebook',\n",
       " 'instagram',\n",
       " 'jazykove_verze',\n",
       " 'label_cs',\n",
       " 'label_en',\n",
       " 'manzelstvo',\n",
       " 'obcanstvi',\n",
       " 'partnerstvo',\n",
       " 'popis_cs',\n",
       " 'popis_en',\n",
       " 'potomstvo',\n",
       " 'pricina_umrti',\n",
       " 'profese',\n",
       " 'role',\n",
       " 'skoly',\n",
       " 'sourozenectvo',\n",
       " 'strany',\n",
       " 'twitter',\n",
       " 'udalosti',\n",
       " 'vezeni',\n",
       " 'w_gender',\n",
       " 'w_misto_narozeni',\n",
       " 'w_misto_umrti',\n",
       " 'w_narozeni',\n",
       " 'w_narozeni_presne',\n",
       " 'w_umrti',\n",
       " 'w_umrti_presne',\n",
       " 'web',\n",
       " 'wiki_cs',\n",
       " 'wiki_en',\n",
       " '__index_level_0__']"
      ]
     },
     "execution_count": 71,
     "metadata": {},
     "output_type": "execute_result"
    }
   ],
   "source": [
    "wikid.columns"
   ]
  },
  {
   "cell_type": "code",
   "execution_count": 77,
   "id": "3b31953f-091a-4efc-b41f-f3a094c52b1d",
   "metadata": {},
   "outputs": [
    {
     "data": {
      "text/html": [
       "<div><style>\n",
       ".dataframe > thead > tr,\n",
       ".dataframe > tbody > tr {\n",
       "  text-align: right;\n",
       "  white-space: pre-wrap;\n",
       "}\n",
       "</style>\n",
       "<small>shape: (10, 34)</small><table border=\"1\" class=\"dataframe\"><thead><tr><th>024_a</th><th>ceny</th><th>druh_umrti</th><th>facebook</th><th>instagram</th><th>jazykove_verze</th><th>label_cs</th><th>label_en</th><th>manzelstvo</th><th>obcanstvi</th><th>partnerstvo</th><th>popis_cs</th><th>popis_en</th><th>potomstvo</th><th>pricina_umrti</th><th>profese</th><th>role</th><th>skoly</th><th>sourozenectvo</th><th>strany</th><th>twitter</th><th>udalosti</th><th>vezeni</th><th>w_gender</th><th>w_misto_narozeni</th><th>w_misto_umrti</th><th>w_narozeni</th><th>w_narozeni_presne</th><th>w_umrti</th><th>w_umrti_presne</th><th>web</th><th>wiki_cs</th><th>wiki_en</th><th>__index_level_0__</th></tr><tr><td>str</td><td>list[str]</td><td>str</td><td>str</td><td>str</td><td>list[str]</td><td>str</td><td>str</td><td>list[str]</td><td>list[str]</td><td>list[str]</td><td>str</td><td>str</td><td>list[str]</td><td>str</td><td>list[str]</td><td>list[str]</td><td>list[str]</td><td>list[str]</td><td>list[str]</td><td>str</td><td>list[str]</td><td>list[str]</td><td>str</td><td>list[str]</td><td>list[str]</td><td>f64</td><td>str</td><td>f64</td><td>str</td><td>str</td><td>str</td><td>str</td><td>str</td></tr></thead><tbody><tr><td>&quot;Q194808&quot;</td><td>null</td><td>null</td><td>null</td><td>null</td><td>[&quot;de&quot;, &quot;ig&quot;, … &quot;th&quot;]</td><td>&quot;Sára&quot;</td><td>&quot;Sarah&quot;</td><td>[&quot;Abrahám&quot;]</td><td>null</td><td>null</td><td>&quot;biblická postava&quot;</td><td>&quot;human female biblical (Old Tes…</td><td>[&quot;Izák&quot;]</td><td>null</td><td>null</td><td>null</td><td>null</td><td>null</td><td>null</td><td>null</td><td>[&quot;vision&quot;]</td><td>null</td><td>&quot;žena&quot;</td><td>[&quot;Ur Kaśdim&quot;]</td><td>[&quot;Hebron&quot;]</td><td>1936.0</td><td>&quot;-1936-00-00T00:00:00Z&quot;</td><td>1809.0</td><td>&quot;-1809-00-00T00:00:00Z&quot;</td><td>null</td><td>&quot;https://cs.wikipedia.org/wiki/…</td><td>&quot;https://en.wikipedia.org/wiki/…</td><td>&quot;jo20231179068&quot;</td></tr><tr><td>&quot;Q9181&quot;</td><td>null</td><td>&quot;přirozená smrt&quot;</td><td>null</td><td>null</td><td>[&quot;ce&quot;, &quot;iba&quot;, … &quot;lad&quot;]</td><td>&quot;Abrahám&quot;</td><td>&quot;Abraham&quot;</td><td>[&quot;Sára&quot;, &quot;Hagar&quot;, &quot;Ketura&quot;]</td><td>null</td><td>null</td><td>&quot;biblický patriarcha&quot;</td><td>&quot;Hebrew patriarch according to …</td><td>[&quot;Izmael&quot;, &quot;Izák&quot;, … &quot;Bakol&quot;]</td><td>null</td><td>[&quot;pastevec&quot;, &quot;zakladatel náboženství&quot;, &quot;prorok&quot;]</td><td>null</td><td>null</td><td>[&quot;Náchor&quot;, &quot;Háran&quot;, &quot;Sára&quot;]</td><td>null</td><td>null</td><td>[&quot;obřízka&quot;, &quot;Abraham and Lot&#x27;s conflict&quot;, … &quot;vision&quot;]</td><td>null</td><td>&quot;muž&quot;</td><td>[&quot;Ur Kaśdim&quot;]</td><td>[&quot;Hebron&quot;, &quot;Kanaán&quot;]</td><td>1813.0</td><td>&quot;-1813-00-00T00:00:00Z&quot;</td><td>1638.0</td><td>&quot;-1638-00-00T00:00:00Z&quot;</td><td>null</td><td>&quot;https://cs.wikipedia.org/wiki/…</td><td>&quot;https://en.wikipedia.org/wiki/…</td><td>&quot;jn20010525296&quot;</td></tr><tr><td>&quot;Q574641&quot;</td><td>null</td><td>&quot;smrt v bitvě&quot;</td><td>null</td><td>null</td><td>[&quot;ko&quot;, &quot;fa&quot;, … &quot;ar&quot;]</td><td>&quot;Bileám&quot;</td><td>&quot;Balaam&quot;</td><td>null</td><td>[&quot;Moáb&quot;]</td><td>null</td><td>null</td><td>&quot;Biblical prophet&quot;</td><td>null</td><td>null</td><td>[&quot;věštec&quot;]</td><td>null</td><td>null</td><td>null</td><td>null</td><td>null</td><td>[&quot;vision&quot;]</td><td>null</td><td>&quot;muž&quot;</td><td>null</td><td>null</td><td>1300.0</td><td>&quot;-1300-00-00T00:00:00Z&quot;</td><td>1300.0</td><td>&quot;-1300-00-00T00:00:00Z&quot;</td><td>null</td><td>&quot;https://cs.wikipedia.org/wiki/…</td><td>&quot;https://en.wikipedia.org/wiki/…</td><td>&quot;uk20231187928&quot;</td></tr><tr><td>&quot;Q1133523&quot;</td><td>null</td><td>null</td><td>null</td><td>null</td><td>[&quot;en&quot;, &quot;he&quot;, … &quot;el&quot;]</td><td>&quot;Jiftách&quot;</td><td>&quot;Jephthah&quot;</td><td>null</td><td>null</td><td>null</td><td>&quot;biblická postava&quot;</td><td>&quot;biblical character (Judges)&quot;</td><td>[&quot;Dcera Jiftáchova&quot;]</td><td>null</td><td>[&quot;soudce&quot;]</td><td>null</td><td>null</td><td>null</td><td>null</td><td>null</td><td>[&quot;lidská oběť&quot;]</td><td>null</td><td>&quot;muž&quot;</td><td>[&quot;Gileád&quot;]</td><td>null</td><td>1160.0</td><td>&quot;-1160-00-00T00:00:00Z&quot;</td><td>1080.0</td><td>&quot;-1080-00-00T00:00:00Z&quot;</td><td>null</td><td>&quot;https://cs.wikipedia.org/wiki/…</td><td>&quot;https://en.wikipedia.org/wiki/…</td><td>&quot;mzk20231204020&quot;</td></tr><tr><td>&quot;Q159888&quot;</td><td>null</td><td>null</td><td>null</td><td>null</td><td>[&quot;ru&quot;, &quot;uk&quot;, … &quot;lv&quot;]</td><td>&quot;Královna ze Sáby&quot;</td><td>&quot;Queen of Sheba&quot;</td><td>null</td><td>null</td><td>[&quot;Šalomoun&quot;]</td><td>null</td><td>&quot;biblical figure&quot;</td><td>[&quot;Menelik I.&quot;]</td><td>null</td><td>[&quot;náboženský vůdce&quot;, &quot;panovník&quot;]</td><td>null</td><td>null</td><td>null</td><td>null</td><td>null</td><td>null</td><td>null</td><td>&quot;žena&quot;</td><td>null</td><td>null</td><td>1000.0</td><td>&quot;-1000-00-00T00:00:00Z&quot;</td><td>1000.0</td><td>&quot;-1000-00-00T00:00:00Z&quot;</td><td>null</td><td>&quot;https://cs.wikipedia.org/wiki/…</td><td>&quot;https://en.wikipedia.org/wiki/…</td><td>&quot;jn19981002132&quot;</td></tr><tr><td>&quot;Q6691&quot;</td><td>null</td><td>null</td><td>null</td><td>null</td><td>[&quot;az&quot;, &quot;gv&quot;, … &quot;tt&quot;]</td><td>&quot;Homér&quot;</td><td>&quot;Homer&quot;</td><td>null</td><td>[&quot;Ionian League&quot;]</td><td>null</td><td>&quot;starořecký epický básnik&quot;</td><td>&quot;reputed author of the Iliad an…</td><td>null</td><td>null</td><td>[&quot;básník&quot;, &quot;autor&quot;, &quot;spisovatel&quot;]</td><td>null</td><td>null</td><td>null</td><td>null</td><td>null</td><td>null</td><td>null</td><td>&quot;muž&quot;</td><td>null</td><td>[&quot;Ios&quot;]</td><td>900.0</td><td>&quot;-0900-00-00T00:00:00Z&quot;</td><td>800.0</td><td>&quot;-0800-00-00T00:00:00Z&quot;</td><td>null</td><td>&quot;https://cs.wikipedia.org/wiki/…</td><td>&quot;https://en.wikipedia.org/wiki/…</td><td>&quot;jn19981001474&quot;</td></tr><tr><td>&quot;Q332802&quot;</td><td>null</td><td>null</td><td>null</td><td>null</td><td>[&quot;da&quot;, &quot;es&quot;, … &quot;sr&quot;]</td><td>&quot;Ibykos&quot;</td><td>&quot;Ibycus&quot;</td><td>null</td><td>null</td><td>null</td><td>null</td><td>&quot;6th century BC Greek lyric poe…</td><td>null</td><td>null</td><td>[&quot;spisovatel&quot;, &quot;básník&quot;]</td><td>null</td><td>null</td><td>null</td><td>null</td><td>null</td><td>null</td><td>null</td><td>&quot;muž&quot;</td><td>[&quot;Reggio di Calabria&quot;]</td><td>[&quot;Korint&quot;]</td><td>600.0</td><td>&quot;-0600-01-01T00:00:00Z&quot;</td><td>600.0</td><td>&quot;-0600-01-01T00:00:00Z&quot;</td><td>null</td><td>&quot;https://cs.wikipedia.org/wiki/…</td><td>&quot;https://en.wikipedia.org/wiki/…</td><td>&quot;xx0321287&quot;</td></tr><tr><td>&quot;Q9333&quot;</td><td>null</td><td>null</td><td>null</td><td>null</td><td>[&quot;pnb&quot;, &quot;be-tarask&quot;, … &quot;ilo&quot;]</td><td>&quot;Lao-c’&quot;</td><td>&quot;Laozi&quot;</td><td>null</td><td>[&quot;Čou&quot;]</td><td>null</td><td>&quot;pololegendární čínský filozof&quot;</td><td>&quot;6th-century BC semi-legendary …</td><td>[&quot;Li Zong&quot;]</td><td>null</td><td>[&quot;filozof&quot;, &quot;archivář&quot;, … &quot;Taoist&quot;]</td><td>null</td><td>null</td><td>null</td><td>null</td><td>null</td><td>null</td><td>null</td><td>&quot;muž&quot;</td><td>[&quot;Království Čchu&quot;]</td><td>[&quot;Čína&quot;]</td><td>604.0</td><td>&quot;-0604-01-01T00:00:00Z&quot;</td><td>600.0</td><td>&quot;-0600-01-01T00:00:00Z&quot;</td><td>null</td><td>&quot;https://cs.wikipedia.org/wiki/…</td><td>&quot;https://en.wikipedia.org/wiki/…</td><td>&quot;jn20030819017&quot;</td></tr><tr><td>&quot;Q316129&quot;</td><td>null</td><td>null</td><td>null</td><td>null</td><td>[&quot;gl&quot;, &quot;zh&quot;, … &quot;is&quot;]</td><td>&quot;Mimnermos&quot;</td><td>&quot;Mimnermus&quot;</td><td>null</td><td>null</td><td>[&quot;Nanno&quot;]</td><td>null</td><td>&quot;ancient Greek poet&quot;</td><td>null</td><td>null</td><td>[&quot;elegist&quot;, &quot;epigramatik&quot;, … &quot;básník&quot;]</td><td>null</td><td>null</td><td>null</td><td>null</td><td>null</td><td>null</td><td>null</td><td>&quot;muž&quot;</td><td>[&quot;Kolofón&quot;]</td><td>null</td><td>670.0</td><td>&quot;-0670-00-00T00:00:00Z&quot;</td><td>600.0</td><td>&quot;-0600-00-00T00:00:00Z&quot;</td><td>null</td><td>&quot;https://cs.wikipedia.org/wiki/…</td><td>&quot;https://en.wikipedia.org/wiki/…</td><td>&quot;xx0321288&quot;</td></tr><tr><td>&quot;Q43423&quot;</td><td>null</td><td>null</td><td>null</td><td>null</td><td>[&quot;ka&quot;, &quot;it&quot;, … &quot;id&quot;]</td><td>&quot;Ezop&quot;</td><td>&quot;Aesop&quot;</td><td>null</td><td>null</td><td>null</td><td>&quot;starořecký autor&quot;</td><td>&quot;ancient Greek storyteller&quot;</td><td>null</td><td>null</td><td>[&quot;bajkář&quot;, &quot;mytograf&quot;, … &quot;spisovatel&quot;]</td><td>null</td><td>null</td><td>null</td><td>null</td><td>null</td><td>null</td><td>null</td><td>&quot;muž&quot;</td><td>[&quot;Mesembria (Pontus)&quot;]</td><td>[&quot;Delfy&quot;]</td><td>620.0</td><td>&quot;-0620-00-00T00:00:00Z&quot;</td><td>564.0</td><td>&quot;-0564-00-00T00:00:00Z&quot;</td><td>null</td><td>&quot;https://cs.wikipedia.org/wiki/…</td><td>&quot;https://en.wikipedia.org/wiki/…</td><td>&quot;jn19981001006&quot;</td></tr></tbody></table></div>"
      ],
      "text/plain": [
       "shape: (10, 34)\n",
       "┌──────────┬───────────┬────────────────┬──────────┬───┬──────┬──────────────────┬──────────────────┬──────────────────┐\n",
       "│ 024_a    ┆ ceny      ┆ druh_umrti     ┆ facebook ┆ … ┆ web  ┆ wiki_cs          ┆ wiki_en          ┆ __index_level_0_ │\n",
       "│ ---      ┆ ---       ┆ ---            ┆ ---      ┆   ┆ ---  ┆ ---              ┆ ---              ┆ _                │\n",
       "│ str      ┆ list[str] ┆ str            ┆ str      ┆   ┆ str  ┆ str              ┆ str              ┆ ---              │\n",
       "│          ┆           ┆                ┆          ┆   ┆      ┆                  ┆                  ┆ str              │\n",
       "╞══════════╪═══════════╪════════════════╪══════════╪═══╪══════╪══════════════════╪══════════════════╪══════════════════╡\n",
       "│ Q194808  ┆ null      ┆ null           ┆ null     ┆ … ┆ null ┆ https://cs.wikip ┆ https://en.wikip ┆ jo20231179068    │\n",
       "│          ┆           ┆                ┆          ┆   ┆      ┆ edia.org/wiki/…  ┆ edia.org/wiki/…  ┆                  │\n",
       "│ Q9181    ┆ null      ┆ přirozená smrt ┆ null     ┆ … ┆ null ┆ https://cs.wikip ┆ https://en.wikip ┆ jn20010525296    │\n",
       "│          ┆           ┆                ┆          ┆   ┆      ┆ edia.org/wiki/…  ┆ edia.org/wiki/…  ┆                  │\n",
       "│ Q574641  ┆ null      ┆ smrt v bitvě   ┆ null     ┆ … ┆ null ┆ https://cs.wikip ┆ https://en.wikip ┆ uk20231187928    │\n",
       "│          ┆           ┆                ┆          ┆   ┆      ┆ edia.org/wiki/…  ┆ edia.org/wiki/…  ┆                  │\n",
       "│ Q1133523 ┆ null      ┆ null           ┆ null     ┆ … ┆ null ┆ https://cs.wikip ┆ https://en.wikip ┆ mzk20231204020   │\n",
       "│          ┆           ┆                ┆          ┆   ┆      ┆ edia.org/wiki/…  ┆ edia.org/wiki/…  ┆                  │\n",
       "│ Q159888  ┆ null      ┆ null           ┆ null     ┆ … ┆ null ┆ https://cs.wikip ┆ https://en.wikip ┆ jn19981002132    │\n",
       "│          ┆           ┆                ┆          ┆   ┆      ┆ edia.org/wiki/…  ┆ edia.org/wiki/…  ┆                  │\n",
       "│ Q6691    ┆ null      ┆ null           ┆ null     ┆ … ┆ null ┆ https://cs.wikip ┆ https://en.wikip ┆ jn19981001474    │\n",
       "│          ┆           ┆                ┆          ┆   ┆      ┆ edia.org/wiki/…  ┆ edia.org/wiki/…  ┆                  │\n",
       "│ Q332802  ┆ null      ┆ null           ┆ null     ┆ … ┆ null ┆ https://cs.wikip ┆ https://en.wikip ┆ xx0321287        │\n",
       "│          ┆           ┆                ┆          ┆   ┆      ┆ edia.org/wiki/…  ┆ edia.org/wiki/…  ┆                  │\n",
       "│ Q9333    ┆ null      ┆ null           ┆ null     ┆ … ┆ null ┆ https://cs.wikip ┆ https://en.wikip ┆ jn20030819017    │\n",
       "│          ┆           ┆                ┆          ┆   ┆      ┆ edia.org/wiki/…  ┆ edia.org/wiki/…  ┆                  │\n",
       "│ Q316129  ┆ null      ┆ null           ┆ null     ┆ … ┆ null ┆ https://cs.wikip ┆ https://en.wikip ┆ xx0321288        │\n",
       "│          ┆           ┆                ┆          ┆   ┆      ┆ edia.org/wiki/…  ┆ edia.org/wiki/…  ┆                  │\n",
       "│ Q43423   ┆ null      ┆ null           ┆ null     ┆ … ┆ null ┆ https://cs.wikip ┆ https://en.wikip ┆ jn19981001006    │\n",
       "│          ┆           ┆                ┆          ┆   ┆      ┆ edia.org/wiki/…  ┆ edia.org/wiki/…  ┆                  │\n",
       "└──────────┴───────────┴────────────────┴──────────┴───┴──────┴──────────────────┴──────────────────┴──────────────────┘"
      ]
     },
     "execution_count": 77,
     "metadata": {},
     "output_type": "execute_result"
    }
   ],
   "source": [
    "wikid.drop_nulls(subset=[\"w_umrti_presne\"]).sort(by=\"w_umrti_presne\",descending=True).head(10)"
   ]
  },
  {
   "cell_type": "code",
   "execution_count": 83,
   "id": "a605b74e-9d3a-4008-ab8d-e3fd4b318bb9",
   "metadata": {},
   "outputs": [
    {
     "data": {
      "text/html": [
       "<div><style>\n",
       ".dataframe > thead > tr,\n",
       ".dataframe > tbody > tr {\n",
       "  text-align: right;\n",
       "  white-space: pre-wrap;\n",
       "}\n",
       "</style>\n",
       "<small>shape: (10, 34)</small><table border=\"1\" class=\"dataframe\"><thead><tr><th>024_a</th><th>ceny</th><th>druh_umrti</th><th>facebook</th><th>instagram</th><th>jazykove_verze</th><th>label_cs</th><th>label_en</th><th>manzelstvo</th><th>obcanstvi</th><th>partnerstvo</th><th>popis_cs</th><th>popis_en</th><th>potomstvo</th><th>pricina_umrti</th><th>profese</th><th>role</th><th>skoly</th><th>sourozenectvo</th><th>strany</th><th>twitter</th><th>udalosti</th><th>vezeni</th><th>w_gender</th><th>w_misto_narozeni</th><th>w_misto_umrti</th><th>w_narozeni</th><th>w_narozeni_presne</th><th>w_umrti</th><th>w_umrti_presne</th><th>web</th><th>wiki_cs</th><th>wiki_en</th><th>__index_level_0__</th></tr><tr><td>str</td><td>list[str]</td><td>str</td><td>str</td><td>str</td><td>list[str]</td><td>str</td><td>str</td><td>list[str]</td><td>list[str]</td><td>list[str]</td><td>str</td><td>str</td><td>list[str]</td><td>str</td><td>list[str]</td><td>list[str]</td><td>list[str]</td><td>list[str]</td><td>list[str]</td><td>str</td><td>list[str]</td><td>list[str]</td><td>str</td><td>list[str]</td><td>list[str]</td><td>f64</td><td>str</td><td>f64</td><td>str</td><td>str</td><td>str</td><td>str</td><td>str</td></tr></thead><tbody><tr><td>&quot;Q452404&quot;</td><td>null</td><td>null</td><td>null</td><td>null</td><td>[&quot;eo&quot;, &quot;pt&quot;, … &quot;en&quot;]</td><td>&quot;Tom Robbins&quot;</td><td>&quot;Tom Robbins&quot;</td><td>null</td><td>[&quot;Spojené státy americké&quot;]</td><td>null</td><td>&quot;americký spisovatel&quot;</td><td>&quot;American writer (1932–2025)&quot;</td><td>null</td><td>null</td><td>[&quot;spisovatel&quot;, &quot;romanopisec&quot;, … &quot;autor autobiografie&quot;]</td><td>null</td><td>[&quot;Virginia Commonwealth University&quot;, &quot;Washingtonská univerzita&quot;]</td><td>null</td><td>null</td><td>null</td><td>null</td><td>null</td><td>&quot;muž&quot;</td><td>[&quot;Blowing Rock&quot;]</td><td>[&quot;La Conner&quot;]</td><td>1932.0</td><td>&quot;+1932-07-22T00:00:00Z&quot;</td><td>2025.0</td><td>&quot;+2025-02-09T00:00:00Z&quot;</td><td>null</td><td>&quot;https://cs.wikipedia.org/wiki/…</td><td>&quot;https://en.wikipedia.org/wiki/…</td><td>&quot;jn19990007071&quot;</td></tr><tr><td>&quot;Q1715403&quot;</td><td>null</td><td>null</td><td>null</td><td>null</td><td>[&quot;de&quot;]</td><td>&quot;Jörg Knoblauch&quot;</td><td>&quot;Jörg Knoblauch&quot;</td><td>null</td><td>[&quot;Německo&quot;]</td><td>null</td><td>null</td><td>&quot;German entrepreneur and author&quot;</td><td>null</td><td>null</td><td>[&quot;podnikatel&quot;, &quot;vysokoškolský učitel&quot;, &quot;spisovatel&quot;]</td><td>null</td><td>null</td><td>null</td><td>null</td><td>null</td><td>null</td><td>null</td><td>&quot;muž&quot;</td><td>[&quot;Giengen an der Brenz&quot;]</td><td>null</td><td>1949.0</td><td>&quot;+1949-08-31T00:00:00Z&quot;</td><td>2025.0</td><td>&quot;+2025-02-07T00:00:00Z&quot;</td><td>null</td><td>null</td><td>null</td><td>&quot;mzk2005312772&quot;</td></tr><tr><td>&quot;Q5295146&quot;</td><td>[&quot;Chester Rapkin Award&quot;, &quot;Chester Rapkin Award&quot;]</td><td>null</td><td>null</td><td>null</td><td>[&quot;cs&quot;, &quot;en&quot;, … &quot;fa&quot;]</td><td>&quot;Donald C. Shoup&quot;</td><td>null</td><td>null</td><td>[&quot;Spojené státy americké&quot;]</td><td>null</td><td>&quot;Americký ekonom známý svojí pr…</td><td>&quot;American economist known for h…</td><td>null</td><td>null</td><td>[&quot;spisovatel&quot;, &quot;vysokoškolský učitel&quot;, … &quot;urbanista&quot;]</td><td>null</td><td>[&quot;Yaleova univerzita&quot;, &quot;Yaleova kolej&quot;]</td><td>null</td><td>null</td><td>null</td><td>null</td><td>null</td><td>&quot;muž&quot;</td><td>[&quot;Long Beach&quot;]</td><td>null</td><td>1938.0</td><td>&quot;+1938-08-24T00:00:00Z&quot;</td><td>2025.0</td><td>&quot;+2025-02-06T00:00:00Z&quot;</td><td>&quot;https://shoupdogg.com/&quot;</td><td>&quot;https://cs.wikipedia.org/wiki/…</td><td>&quot;https://en.wikipedia.org/wiki/…</td><td>&quot;ntk20191029357&quot;</td></tr><tr><td>&quot;Q7032541&quot;</td><td>null</td><td>null</td><td>null</td><td>null</td><td>[&quot;en&quot;, &quot;arz&quot;, … &quot;bg&quot;]</td><td>&quot;Nigel McCrery&quot;</td><td>&quot;Nigel McCrery&quot;</td><td>null</td><td>[&quot;Spojené království&quot;]</td><td>null</td><td>null</td><td>&quot;English screenwriter and ex-po…</td><td>null</td><td>null</td><td>[&quot;scenárista&quot;, &quot;policista&quot;, &quot;televizní scenárista&quot;]</td><td>null</td><td>[&quot;George Spencer Academy and Technology College&quot;, &quot;Trinity College&quot;]</td><td>null</td><td>null</td><td>null</td><td>null</td><td>null</td><td>&quot;muž&quot;</td><td>[&quot;Londýn&quot;]</td><td>null</td><td>1953.0</td><td>&quot;+1953-10-30T00:00:00Z&quot;</td><td>2025.0</td><td>&quot;+2025-02-06T00:00:00Z&quot;</td><td>null</td><td>null</td><td>&quot;https://en.wikipedia.org/wiki/…</td><td>&quot;jo20000070926&quot;</td></tr><tr><td>&quot;Q1982105&quot;</td><td>null</td><td>&quot;přirozená smrt&quot;</td><td>null</td><td>null</td><td>[&quot;uk&quot;, &quot;nl&quot;, … &quot;bg&quot;]</td><td>&quot;Paul Sulitzer&quot;</td><td>&quot;Paul-Loup Sulitzer&quot;</td><td>[&quot;Lyne Catherine Jeanne Chardonnet&quot;, &quot;Magali Colcanap&quot;, &quot;Delphine Jacobson&quot;]</td><td>[&quot;Francie&quot;]</td><td>null</td><td>&quot;francouzský spisovatel&quot;</td><td>&quot;French writer&quot;</td><td>[&quot;Olivia Sulitzer&quot;, &quot;Joy Sulitzer&quot;, … &quot;James Sulitzer&quot;]</td><td>&quot;cévní mozková příhoda&quot;</td><td>[&quot;podnikatel&quot;, &quot;spisovatel&quot;]</td><td>null</td><td>[&quot;Lycée Claude-Bernard&quot;]</td><td>[&quot;Q132155907&quot;]</td><td>null</td><td>null</td><td>null</td><td>null</td><td>&quot;muž&quot;</td><td>[&quot;Boulogne-Billancourt&quot;]</td><td>[&quot;Mauricius&quot;]</td><td>1946.0</td><td>&quot;+1946-07-22T00:00:00Z&quot;</td><td>2025.0</td><td>&quot;+2025-02-06T00:00:00Z&quot;</td><td>&quot;http://paulloupsulitzer.unblog…</td><td>null</td><td>&quot;https://en.wikipedia.org/wiki/…</td><td>&quot;xx0008424&quot;</td></tr><tr><td>&quot;Q1578070&quot;</td><td>null</td><td>null</td><td>null</td><td>null</td><td>[&quot;vo&quot;, &quot;de&quot;, … &quot;ar&quot;]</td><td>&quot;Hans Lehmann&quot;</td><td>&quot;Hans-Peter Lehmann&quot;</td><td>null</td><td>[&quot;Německo&quot;]</td><td>null</td><td>&quot;operní režisér, ředitel a peda…</td><td>&quot;German opera and artistic dire…</td><td>null</td><td>null</td><td>[&quot;intendant&quot;, &quot;šéfdirigent&quot;, … &quot;režisér&quot;]</td><td>null</td><td>null</td><td>null</td><td>null</td><td>null</td><td>null</td><td>null</td><td>&quot;muž&quot;</td><td>[&quot;Kassel&quot;]</td><td>[&quot;Mnichov&quot;]</td><td>1934.0</td><td>&quot;+1934-02-15T00:00:00Z&quot;</td><td>2025.0</td><td>&quot;+2025-02-05T00:00:00Z&quot;</td><td>null</td><td>null</td><td>&quot;https://en.wikipedia.org/wiki/…</td><td>&quot;xx0260166&quot;</td></tr><tr><td>&quot;Q311793&quot;</td><td>[&quot;komandér Řádu čestné legie&quot;, &quot;Rytíř Řádu za zásluhy pro práci&quot;, … &quot;Řád přátelství&quot;]</td><td>null</td><td>null</td><td>null</td><td>[&quot;sd&quot;, &quot;th&quot;, … &quot;tr&quot;]</td><td>&quot;Aga Khan IV.&quot;</td><td>&quot;Aga Khan IV&quot;</td><td>[&quot;Princess Salimah Aga Khan&quot;, &quot;Gabriele Renate Homey&quot;]</td><td>[&quot;Spojené království&quot;, &quot;Portugalsko&quot;, &quot;Švýcarsko&quot;]</td><td>null</td><td>&quot;britský obchodník, filantrop, …</td><td>&quot;49th Imam of Nizari Isma&#x27;ilism…</td><td>[&quot;Princess Zahra Aga Khan&quot;, &quot;Rahim Aga Khan&quot;, … &quot;Prince Ali Muhammad Aga Khan&quot;]</td><td>null</td><td>[&quot;podnikatel&quot;, &quot;sjezdový lyžař&quot;, … &quot;racehorse owner and breeder&quot;]</td><td>null</td><td>[&quot;Harvardova univerzita&quot;, &quot;Hattemer&quot;, &quot;Institut Le Rosey&quot;]</td><td>[&quot;Yasmin Aga Khan&quot;, &quot;Amyn Aga Khan&quot;]</td><td>null</td><td>null</td><td>null</td><td>null</td><td>&quot;muž&quot;</td><td>[&quot;Ženeva&quot;, &quot;Genthod&quot;]</td><td>[&quot;Lisabon&quot;]</td><td>1936.0</td><td>&quot;+1936-12-13T00:00:00Z&quot;</td><td>2025.0</td><td>&quot;+2025-02-04T00:00:00Z&quot;</td><td>null</td><td>&quot;https://cs.wikipedia.org/wiki/…</td><td>&quot;https://en.wikipedia.org/wiki/…</td><td>&quot;jo20221161516&quot;</td></tr><tr><td>&quot;Q123701255&quot;</td><td>[&quot;Řád rudého praporu práce&quot;, &quot;Řád rudého praporu práce&quot;, … &quot;medaile Válečnikovi-internacionalistovi od vděčného afghánského národa&quot;]</td><td>null</td><td>null</td><td>null</td><td>[&quot;be&quot;]</td><td>&quot;Iosif Adamovič Naumčik&quot;</td><td>null</td><td>null</td><td>null</td><td>null</td><td>&quot;Běloruský politik a stranický …</td><td>null</td><td>[&quot;Sjarhej Ìosìfavìč Navumčyk&quot;]</td><td>null</td><td>[&quot;politik&quot;, &quot;učitel&quot;, &quot;veřejná postava&quot;]</td><td>null</td><td>[&quot;Лепельское педагогическое училище&quot;, &quot;Fakulta historie Běloruské státní univerzity&quot;, &quot;Minská vyšší stranická škola&quot;]</td><td>null</td><td>[&quot;Komunistická strana Sovětského svazu&quot;]</td><td>null</td><td>null</td><td>null</td><td>&quot;muž&quot;</td><td>[&quot;Jacavičy&quot;]</td><td>null</td><td>1938.0</td><td>&quot;+1938-10-21T00:00:00Z&quot;</td><td>2025.0</td><td>&quot;+2025-02-04T00:00:00Z&quot;</td><td>null</td><td>null</td><td>null</td><td>&quot;mzk20231208659&quot;</td></tr><tr><td>&quot;Q6548764&quot;</td><td>null</td><td>null</td><td>null</td><td>null</td><td>[&quot;sw&quot;, &quot;arz&quot;, &quot;en&quot;]</td><td>&quot;Ziping Lin&quot;</td><td>&quot;Lim Tze Peng&quot;</td><td>null</td><td>[&quot;Singapur&quot;]</td><td>null</td><td>&quot;Singapurský malíř, kaligraf, u…</td><td>&quot;Singaporean artist&quot;</td><td>null</td><td>null</td><td>[&quot;malíř&quot;, &quot;kaligraf&quot;, … &quot;ředitel školy&quot;]</td><td>null</td><td>[&quot;Chung Cheng High School (Main)&quot;]</td><td>null</td><td>null</td><td>null</td><td>null</td><td>null</td><td>&quot;muž&quot;</td><td>[&quot;Singapur&quot;]</td><td>null</td><td>1921.0</td><td>&quot;+1921-09-28T00:00:00Z&quot;</td><td>2025.0</td><td>&quot;+2025-02-03T00:00:00Z&quot;</td><td>null</td><td>null</td><td>&quot;https://en.wikipedia.org/wiki/…</td><td>&quot;ola20221162622&quot;</td></tr><tr><td>&quot;Q66310325&quot;</td><td>null</td><td>null</td><td>&quot;albrecht.smuten&quot;</td><td>null</td><td>[&quot;cs&quot;]</td><td>&quot;Albrecht Smuten&quot;</td><td>&quot;Albrecht Smuten&quot;</td><td>null</td><td>[&quot;Česko&quot;]</td><td>null</td><td>&quot;český spisovatel&quot;</td><td>&quot;Czech writer&quot;</td><td>null</td><td>null</td><td>[&quot;copywriter&quot;, &quot;umělec&quot;, … &quot;zpěvák&quot;]</td><td>null</td><td>[&quot;Univerzita Karlova&quot;]</td><td>null</td><td>null</td><td>null</td><td>null</td><td>null</td><td>&quot;muž&quot;</td><td>null</td><td>null</td><td>1984.0</td><td>&quot;+1984-00-00T00:00:00Z&quot;</td><td>2025.0</td><td>&quot;+2025-02-01T00:00:00Z&quot;</td><td>null</td><td>&quot;https://cs.wikipedia.org/wiki/…</td><td>null</td><td>&quot;xx0235803&quot;</td></tr></tbody></table></div>"
      ],
      "text/plain": [
       "shape: (10, 34)\n",
       "┌────────────┬──────────────┬──────────────┬──────────────┬───┬──────────────┬─────────────┬─────────────┬─────────────┐\n",
       "│ 024_a      ┆ ceny         ┆ druh_umrti   ┆ facebook     ┆ … ┆ web          ┆ wiki_cs     ┆ wiki_en     ┆ __index_lev │\n",
       "│ ---        ┆ ---          ┆ ---          ┆ ---          ┆   ┆ ---          ┆ ---         ┆ ---         ┆ el_0__      │\n",
       "│ str        ┆ list[str]    ┆ str          ┆ str          ┆   ┆ str          ┆ str         ┆ str         ┆ ---         │\n",
       "│            ┆              ┆              ┆              ┆   ┆              ┆             ┆             ┆ str         │\n",
       "╞════════════╪══════════════╪══════════════╪══════════════╪═══╪══════════════╪═════════════╪═════════════╪═════════════╡\n",
       "│ Q452404    ┆ null         ┆ null         ┆ null         ┆ … ┆ null         ┆ https://cs. ┆ https://en. ┆ jn199900070 │\n",
       "│            ┆              ┆              ┆              ┆   ┆              ┆ wikipedia.o ┆ wikipedia.o ┆ 71          │\n",
       "│            ┆              ┆              ┆              ┆   ┆              ┆ rg/wiki/…   ┆ rg/wiki/…   ┆             │\n",
       "│ Q1715403   ┆ null         ┆ null         ┆ null         ┆ … ┆ null         ┆ null        ┆ null        ┆ mzk20053127 │\n",
       "│            ┆              ┆              ┆              ┆   ┆              ┆             ┆             ┆ 72          │\n",
       "│ Q5295146   ┆ [\"Chester    ┆ null         ┆ null         ┆ … ┆ https://shou ┆ https://cs. ┆ https://en. ┆ ntk20191029 │\n",
       "│            ┆ Rapkin       ┆              ┆              ┆   ┆ pdogg.com/   ┆ wikipedia.o ┆ wikipedia.o ┆ 357         │\n",
       "│            ┆ Award\",      ┆              ┆              ┆   ┆              ┆ rg/wiki/…   ┆ rg/wiki/…   ┆             │\n",
       "│            ┆ \"Ches…       ┆              ┆              ┆   ┆              ┆             ┆             ┆             │\n",
       "│ Q7032541   ┆ null         ┆ null         ┆ null         ┆ … ┆ null         ┆ null        ┆ https://en. ┆ jo200000709 │\n",
       "│            ┆              ┆              ┆              ┆   ┆              ┆             ┆ wikipedia.o ┆ 26          │\n",
       "│            ┆              ┆              ┆              ┆   ┆              ┆             ┆ rg/wiki/…   ┆             │\n",
       "│ Q1982105   ┆ null         ┆ přirozená    ┆ null         ┆ … ┆ http://paull ┆ null        ┆ https://en. ┆ xx0008424   │\n",
       "│            ┆              ┆ smrt         ┆              ┆   ┆ oupsulitzer. ┆             ┆ wikipedia.o ┆             │\n",
       "│            ┆              ┆              ┆              ┆   ┆ unblog…      ┆             ┆ rg/wiki/…   ┆             │\n",
       "│ Q1578070   ┆ null         ┆ null         ┆ null         ┆ … ┆ null         ┆ null        ┆ https://en. ┆ xx0260166   │\n",
       "│            ┆              ┆              ┆              ┆   ┆              ┆             ┆ wikipedia.o ┆             │\n",
       "│            ┆              ┆              ┆              ┆   ┆              ┆             ┆ rg/wiki/…   ┆             │\n",
       "│ Q311793    ┆ [\"komandér   ┆ null         ┆ null         ┆ … ┆ null         ┆ https://cs. ┆ https://en. ┆ jo202211615 │\n",
       "│            ┆ Řádu čestné  ┆              ┆              ┆   ┆              ┆ wikipedia.o ┆ wikipedia.o ┆ 16          │\n",
       "│            ┆ legie\",…     ┆              ┆              ┆   ┆              ┆ rg/wiki/…   ┆ rg/wiki/…   ┆             │\n",
       "│ Q123701255 ┆ [\"Řád rudého ┆ null         ┆ null         ┆ … ┆ null         ┆ null        ┆ null        ┆ mzk20231208 │\n",
       "│            ┆ praporu      ┆              ┆              ┆   ┆              ┆             ┆             ┆ 659         │\n",
       "│            ┆ práce\", \"…   ┆              ┆              ┆   ┆              ┆             ┆             ┆             │\n",
       "│ Q6548764   ┆ null         ┆ null         ┆ null         ┆ … ┆ null         ┆ null        ┆ https://en. ┆ ola20221162 │\n",
       "│            ┆              ┆              ┆              ┆   ┆              ┆             ┆ wikipedia.o ┆ 622         │\n",
       "│            ┆              ┆              ┆              ┆   ┆              ┆             ┆ rg/wiki/…   ┆             │\n",
       "│ Q66310325  ┆ null         ┆ null         ┆ albrecht.smu ┆ … ┆ null         ┆ https://cs. ┆ null        ┆ xx0235803   │\n",
       "│            ┆              ┆              ┆ ten          ┆   ┆              ┆ wikipedia.o ┆             ┆             │\n",
       "│            ┆              ┆              ┆              ┆   ┆              ┆ rg/wiki/…   ┆             ┆             │\n",
       "└────────────┴──────────────┴──────────────┴──────────────┴───┴──────────────┴─────────────┴─────────────┴─────────────┘"
      ]
     },
     "execution_count": 83,
     "metadata": {},
     "output_type": "execute_result"
    }
   ],
   "source": [
    "wikid.drop_nulls(subset=[\"w_umrti_presne\"]).filter(pl.col('w_umrti') >= 2024).sort(by=\"w_umrti_presne\",descending=True).head(10)"
   ]
  },
  {
   "cell_type": "code",
   "execution_count": 59,
   "id": "ffb51785-62a8-4389-bd2c-45b2ae0c58ff",
   "metadata": {},
   "outputs": [],
   "source": [
    "aut = aut.join(wikid.rename({'__index_level_0__':'100_7'}), on='100_7', how='left')"
   ]
  },
  {
   "cell_type": "code",
   "execution_count": 61,
   "id": "bb5db690-ac07-4ada-8328-0b49ca7ea76c",
   "metadata": {},
   "outputs": [
    {
     "data": {
      "text/html": [
       "<div><style>\n",
       ".dataframe > thead > tr,\n",
       ".dataframe > tbody > tr {\n",
       "  text-align: right;\n",
       "  white-space: pre-wrap;\n",
       "}\n",
       "</style>\n",
       "<small>shape: (15, 2)</small><table border=\"1\" class=\"dataframe\"><thead><tr><th>druh_umrti</th><th>len</th></tr><tr><td>str</td><td>u32</td></tr></thead><tbody><tr><td>null</td><td>26709</td></tr><tr><td>&quot;přirozená smrt&quot;</td><td>301</td></tr><tr><td>&quot;sebevražda&quot;</td><td>47</td></tr><tr><td>&quot;zabití člověka člověkem&quot;</td><td>16</td></tr><tr><td>&quot;smrtelná nehoda&quot;</td><td>15</td></tr><tr><td>&quot;nepřirozená smrt&quot;</td><td>7</td></tr><tr><td>&quot;trest smrti&quot;</td><td>5</td></tr><tr><td>&quot;smrt v bitvě&quot;</td><td>3</td></tr><tr><td>&quot;Vynucená sebevražda&quot;</td><td>2</td></tr><tr><td>&quot;střelba na Filozofické fakultě…</td><td>1</td></tr><tr><td>&quot;Walk&quot;</td><td>1</td></tr><tr><td>&quot;damnatio ad bestias&quot;</td><td>1</td></tr><tr><td>&quot;ztroskotání&quot;</td><td>1</td></tr><tr><td>&quot;tuberkulóza&quot;</td><td>1</td></tr><tr><td>&quot;seppuku&quot;</td><td>1</td></tr></tbody></table></div>"
      ],
      "text/plain": [
       "shape: (15, 2)\n",
       "┌─────────────────────────────────┬───────┐\n",
       "│ druh_umrti                      ┆ len   │\n",
       "│ ---                             ┆ ---   │\n",
       "│ str                             ┆ u32   │\n",
       "╞═════════════════════════════════╪═══════╡\n",
       "│ null                            ┆ 26709 │\n",
       "│ přirozená smrt                  ┆ 301   │\n",
       "│ sebevražda                      ┆ 47    │\n",
       "│ zabití člověka člověkem         ┆ 16    │\n",
       "│ smrtelná nehoda                 ┆ 15    │\n",
       "│ nepřirozená smrt                ┆ 7     │\n",
       "│ trest smrti                     ┆ 5     │\n",
       "│ smrt v bitvě                    ┆ 3     │\n",
       "│ Vynucená sebevražda             ┆ 2     │\n",
       "│ střelba na Filozofické fakultě… ┆ 1     │\n",
       "│ Walk                            ┆ 1     │\n",
       "│ damnatio ad bestias             ┆ 1     │\n",
       "│ ztroskotání                     ┆ 1     │\n",
       "│ tuberkulóza                     ┆ 1     │\n",
       "│ seppuku                         ┆ 1     │\n",
       "└─────────────────────────────────┴───────┘"
      ]
     },
     "execution_count": 61,
     "metadata": {},
     "output_type": "execute_result"
    }
   ],
   "source": [
    "aut.group_by('druh_umrti').len().sort(by='len',descending=True)"
   ]
  },
  {
   "cell_type": "code",
   "execution_count": 63,
   "id": "222f9150-74d8-4466-b79e-046b114d83da",
   "metadata": {},
   "outputs": [
    {
     "data": {
      "text/html": [
       "<div><style>\n",
       ".dataframe > thead > tr,\n",
       ".dataframe > tbody > tr {\n",
       "  text-align: right;\n",
       "  white-space: pre-wrap;\n",
       "}\n",
       "</style>\n",
       "<small>shape: (121, 2)</small><table border=\"1\" class=\"dataframe\"><thead><tr><th>pricina_umrti</th><th>len</th></tr><tr><td>str</td><td>u32</td></tr></thead><tbody><tr><td>null</td><td>26618</td></tr><tr><td>&quot;tuberkulóza&quot;</td><td>55</td></tr><tr><td>&quot;infarkt myokardu&quot;</td><td>54</td></tr><tr><td>&quot;zápal plic&quot;</td><td>29</td></tr><tr><td>&quot;rakovina&quot;</td><td>23</td></tr><tr><td>&quot;rakovina plic&quot;</td><td>16</td></tr><tr><td>&quot;srdeční selhání&quot;</td><td>14</td></tr><tr><td>&quot;cévní mozková příhoda&quot;</td><td>14</td></tr><tr><td>&quot;střelná rána&quot;</td><td>13</td></tr><tr><td>&quot;kardiovaskulární onemocnění&quot;</td><td>12</td></tr><tr><td>&quot;nemoc&quot;</td><td>11</td></tr><tr><td>&quot;předávkování&quot;</td><td>10</td></tr><tr><td>&quot;utonutí&quot;</td><td>7</td></tr><tr><td>&quot;zabitý v boji&quot;</td><td>6</td></tr><tr><td>&quot;krvácení do mozku&quot;</td><td>6</td></tr><tr><td>&quot;břišní tyfus&quot;</td><td>6</td></tr><tr><td>&quot;rakovina žaludku&quot;</td><td>6</td></tr><tr><td>&quot;rakovina slinivky&quot;</td><td>5</td></tr><tr><td>&quot;leukemie&quot;</td><td>5</td></tr><tr><td>&quot;sražení vozidlem&quot;</td><td>5</td></tr><tr><td>&quot;silniční dopravní nehoda&quot;</td><td>5</td></tr><tr><td>&quot;sepse&quot;</td><td>5</td></tr><tr><td>&quot;kolorektální karcinom&quot;</td><td>5</td></tr><tr><td>&quot;vykrvácení&quot;</td><td>5</td></tr><tr><td>&quot;rakovina prostaty&quot;</td><td>5</td></tr><tr><td>&quot;oběšení&quot;</td><td>5</td></tr><tr><td>&quot;rakovina jater&quot;</td><td>5</td></tr><tr><td>&quot;jaterní cirhóza&quot;</td><td>5</td></tr><tr><td>&quot;selhání ledvin&quot;</td><td>5</td></tr><tr><td>&quot;španělská chřipka&quot;</td><td>5</td></tr><tr><td>&quot;cholera&quot;</td><td>4</td></tr><tr><td>&quot;srdeční zástava&quot;</td><td>4</td></tr><tr><td>&quot;peritonitida&quot;</td><td>4</td></tr><tr><td>&quot;rakovina hrtanu&quot;</td><td>4</td></tr><tr><td>&quot;rakovina jícnu&quot;</td><td>4</td></tr><tr><td>&quot;syfilis&quot;</td><td>4</td></tr><tr><td>&quot;smrt pádem&quot;</td><td>4</td></tr><tr><td>&quot;pád&quot;</td><td>4</td></tr><tr><td>&quot;cerebrovaskulární choroba&quot;</td><td>4</td></tr><tr><td>&quot;tyfus&quot;</td><td>4</td></tr><tr><td>&quot;malárie&quot;</td><td>3</td></tr><tr><td>&quot;meningitida&quot;</td><td>3</td></tr><tr><td>&quot;dušení&quot;</td><td>3</td></tr><tr><td>&quot;bronchopneumonie&quot;</td><td>3</td></tr><tr><td>&quot;covid-19&quot;</td><td>3</td></tr><tr><td>&quot;onemocnění trávicího traktu&quot;</td><td>2</td></tr><tr><td>&quot;otrava kyanidy&quot;</td><td>2</td></tr><tr><td>&quot;nefritida&quot;</td><td>2</td></tr><tr><td>&quot;edém&quot;</td><td>2</td></tr><tr><td>&quot;stětí gilotinou&quot;</td><td>2</td></tr><tr><td>&hellip;</td><td>&hellip;</td></tr><tr><td>&quot;interstitial lung disease&quot;</td><td>1</td></tr><tr><td>&quot;tromboembolie&quot;</td><td>1</td></tr><tr><td>&quot;astma&quot;</td><td>1</td></tr><tr><td>&quot;srdeční choroby&quot;</td><td>1</td></tr><tr><td>&quot;Nádory míchy&quot;</td><td>1</td></tr><tr><td>&quot;Alzheimerova choroba&quot;</td><td>1</td></tr><tr><td>&quot;genocida&quot;</td><td>1</td></tr><tr><td>&quot;nadměrné těhotenské zvracení&quot;</td><td>1</td></tr><tr><td>&quot;infekce&quot;</td><td>1</td></tr><tr><td>&quot;rakovina kostí&quot;</td><td>1</td></tr><tr><td>&quot;komplikace&quot;</td><td>1</td></tr><tr><td>&quot;lymfom&quot;</td><td>1</td></tr><tr><td>&quot;předávkování barbituráty&quot;</td><td>1</td></tr><tr><td>&quot;novotvar&quot;</td><td>1</td></tr><tr><td>&quot;Černá smrt&quot;</td><td>1</td></tr><tr><td>&quot;smrt ze smíchu&quot;</td><td>1</td></tr><tr><td>&quot;autonehoda&quot;</td><td>1</td></tr><tr><td>&quot;infarkt&quot;</td><td>1</td></tr><tr><td>&quot;oběť vraždy&quot;</td><td>1</td></tr><tr><td>&quot;Pottova nemoc&quot;</td><td>1</td></tr><tr><td>&quot;rakovina tenkého střeva&quot;</td><td>1</td></tr><tr><td>&quot;upálení na hranici&quot;</td><td>1</td></tr><tr><td>&quot;horečka omladnic&quot;</td><td>1</td></tr><tr><td>&quot;chronická obstrukční plicní ne…</td><td>1</td></tr><tr><td>&quot;amyotrofická laterální skleróz…</td><td>1</td></tr><tr><td>&quot;koronární trombóza&quot;</td><td>1</td></tr><tr><td>&quot;Erysipel&quot;</td><td>1</td></tr><tr><td>&quot;frontotemporální demence&quot;</td><td>1</td></tr><tr><td>&quot;vřed&quot;</td><td>1</td></tr><tr><td>&quot;vrozená srdeční vada&quot;</td><td>1</td></tr><tr><td>&quot;nádor mozku&quot;</td><td>1</td></tr><tr><td>&quot;mozkové aneurysma&quot;</td><td>1</td></tr><tr><td>&quot;zásah elektrickým proudem&quot;</td><td>1</td></tr><tr><td>&quot;demonic possession&quot;</td><td>1</td></tr><tr><td>&quot;Brightova nemoc&quot;</td><td>1</td></tr><tr><td>&quot;pleuritida&quot;</td><td>1</td></tr><tr><td>&quot;bitva u Jutska&quot;</td><td>1</td></tr><tr><td>&quot;sebeupálení&quot;</td><td>1</td></tr><tr><td>&quot;jaterní selhání&quot;</td><td>1</td></tr><tr><td>&quot;Ascites&quot;</td><td>1</td></tr><tr><td>&quot;rakovina močového měchýře&quot;</td><td>1</td></tr><tr><td>&quot;Raketový útok na Kramatorsk 27…</td><td>1</td></tr><tr><td>&quot;streptokoková infekce&quot;</td><td>1</td></tr><tr><td>&quot;chřipka&quot;</td><td>1</td></tr><tr><td>&quot;teroristický útok nožem&quot;</td><td>1</td></tr><tr><td>&quot;mučení&quot;</td><td>1</td></tr><tr><td>&quot;krvácení&quot;</td><td>1</td></tr><tr><td>&quot;aneurysma&quot;</td><td>1</td></tr><tr><td>&quot;lip and oral cavity carcinoma&quot;</td><td>1</td></tr><tr><td>&quot;diabetes mellitus 2. typu&quot;</td><td>1</td></tr></tbody></table></div>"
      ],
      "text/plain": [
       "shape: (121, 2)\n",
       "┌─────────────────────────────────┬───────┐\n",
       "│ pricina_umrti                   ┆ len   │\n",
       "│ ---                             ┆ ---   │\n",
       "│ str                             ┆ u32   │\n",
       "╞═════════════════════════════════╪═══════╡\n",
       "│ null                            ┆ 26618 │\n",
       "│ tuberkulóza                     ┆ 55    │\n",
       "│ infarkt myokardu                ┆ 54    │\n",
       "│ zápal plic                      ┆ 29    │\n",
       "│ rakovina                        ┆ 23    │\n",
       "│ rakovina plic                   ┆ 16    │\n",
       "│ srdeční selhání                 ┆ 14    │\n",
       "│ cévní mozková příhoda           ┆ 14    │\n",
       "│ střelná rána                    ┆ 13    │\n",
       "│ kardiovaskulární onemocnění     ┆ 12    │\n",
       "│ nemoc                           ┆ 11    │\n",
       "│ předávkování                    ┆ 10    │\n",
       "│ utonutí                         ┆ 7     │\n",
       "│ zabitý v boji                   ┆ 6     │\n",
       "│ krvácení do mozku               ┆ 6     │\n",
       "│ břišní tyfus                    ┆ 6     │\n",
       "│ rakovina žaludku                ┆ 6     │\n",
       "│ rakovina slinivky               ┆ 5     │\n",
       "│ leukemie                        ┆ 5     │\n",
       "│ sražení vozidlem                ┆ 5     │\n",
       "│ silniční dopravní nehoda        ┆ 5     │\n",
       "│ sepse                           ┆ 5     │\n",
       "│ kolorektální karcinom           ┆ 5     │\n",
       "│ vykrvácení                      ┆ 5     │\n",
       "│ rakovina prostaty               ┆ 5     │\n",
       "│ oběšení                         ┆ 5     │\n",
       "│ rakovina jater                  ┆ 5     │\n",
       "│ jaterní cirhóza                 ┆ 5     │\n",
       "│ selhání ledvin                  ┆ 5     │\n",
       "│ španělská chřipka               ┆ 5     │\n",
       "│ cholera                         ┆ 4     │\n",
       "│ srdeční zástava                 ┆ 4     │\n",
       "│ peritonitida                    ┆ 4     │\n",
       "│ rakovina hrtanu                 ┆ 4     │\n",
       "│ rakovina jícnu                  ┆ 4     │\n",
       "│ syfilis                         ┆ 4     │\n",
       "│ smrt pádem                      ┆ 4     │\n",
       "│ pád                             ┆ 4     │\n",
       "│ cerebrovaskulární choroba       ┆ 4     │\n",
       "│ tyfus                           ┆ 4     │\n",
       "│ malárie                         ┆ 3     │\n",
       "│ meningitida                     ┆ 3     │\n",
       "│ dušení                          ┆ 3     │\n",
       "│ bronchopneumonie                ┆ 3     │\n",
       "│ covid-19                        ┆ 3     │\n",
       "│ onemocnění trávicího traktu     ┆ 2     │\n",
       "│ otrava kyanidy                  ┆ 2     │\n",
       "│ nefritida                       ┆ 2     │\n",
       "│ edém                            ┆ 2     │\n",
       "│ stětí gilotinou                 ┆ 2     │\n",
       "│ …                               ┆ …     │\n",
       "│ interstitial lung disease       ┆ 1     │\n",
       "│ tromboembolie                   ┆ 1     │\n",
       "│ astma                           ┆ 1     │\n",
       "│ srdeční choroby                 ┆ 1     │\n",
       "│ Nádory míchy                    ┆ 1     │\n",
       "│ Alzheimerova choroba            ┆ 1     │\n",
       "│ genocida                        ┆ 1     │\n",
       "│ nadměrné těhotenské zvracení    ┆ 1     │\n",
       "│ infekce                         ┆ 1     │\n",
       "│ rakovina kostí                  ┆ 1     │\n",
       "│ komplikace                      ┆ 1     │\n",
       "│ lymfom                          ┆ 1     │\n",
       "│ předávkování barbituráty        ┆ 1     │\n",
       "│ novotvar                        ┆ 1     │\n",
       "│ Černá smrt                      ┆ 1     │\n",
       "│ smrt ze smíchu                  ┆ 1     │\n",
       "│ autonehoda                      ┆ 1     │\n",
       "│ infarkt                         ┆ 1     │\n",
       "│ oběť vraždy                     ┆ 1     │\n",
       "│ Pottova nemoc                   ┆ 1     │\n",
       "│ rakovina tenkého střeva         ┆ 1     │\n",
       "│ upálení na hranici              ┆ 1     │\n",
       "│ horečka omladnic                ┆ 1     │\n",
       "│ chronická obstrukční plicní ne… ┆ 1     │\n",
       "│ amyotrofická laterální skleróz… ┆ 1     │\n",
       "│ koronární trombóza              ┆ 1     │\n",
       "│ Erysipel                        ┆ 1     │\n",
       "│ frontotemporální demence        ┆ 1     │\n",
       "│ vřed                            ┆ 1     │\n",
       "│ vrozená srdeční vada            ┆ 1     │\n",
       "│ nádor mozku                     ┆ 1     │\n",
       "│ mozkové aneurysma               ┆ 1     │\n",
       "│ zásah elektrickým proudem       ┆ 1     │\n",
       "│ demonic possession              ┆ 1     │\n",
       "│ Brightova nemoc                 ┆ 1     │\n",
       "│ pleuritida                      ┆ 1     │\n",
       "│ bitva u Jutska                  ┆ 1     │\n",
       "│ sebeupálení                     ┆ 1     │\n",
       "│ jaterní selhání                 ┆ 1     │\n",
       "│ Ascites                         ┆ 1     │\n",
       "│ rakovina močového měchýře       ┆ 1     │\n",
       "│ Raketový útok na Kramatorsk 27… ┆ 1     │\n",
       "│ streptokoková infekce           ┆ 1     │\n",
       "│ chřipka                         ┆ 1     │\n",
       "│ teroristický útok nožem         ┆ 1     │\n",
       "│ mučení                          ┆ 1     │\n",
       "│ krvácení                        ┆ 1     │\n",
       "│ aneurysma                       ┆ 1     │\n",
       "│ lip and oral cavity carcinoma   ┆ 1     │\n",
       "│ diabetes mellitus 2. typu       ┆ 1     │\n",
       "└─────────────────────────────────┴───────┘"
      ]
     },
     "execution_count": 63,
     "metadata": {},
     "output_type": "execute_result"
    }
   ],
   "source": [
    "aut.group_by('pricina_umrti').len().sort(by='len',descending=True)"
   ]
  },
  {
   "cell_type": "code",
   "execution_count": 65,
   "id": "526d1491-4409-4d1e-b3d9-c87340115203",
   "metadata": {},
   "outputs": [
    {
     "data": {
      "text/html": [
       "<div><style>\n",
       ".dataframe > thead > tr,\n",
       ".dataframe > tbody > tr {\n",
       "  text-align: right;\n",
       "  white-space: pre-wrap;\n",
       "}\n",
       "</style>\n",
       "<small>shape: (34, 2)</small><table border=\"1\" class=\"dataframe\"><thead><tr><th>pricina_umrti</th><th>len</th></tr><tr><td>str</td><td>u32</td></tr></thead><tbody><tr><td>null</td><td>8167</td></tr><tr><td>&quot;tuberkulóza&quot;</td><td>14</td></tr><tr><td>&quot;infarkt myokardu&quot;</td><td>9</td></tr><tr><td>&quot;kardiovaskulární onemocnění&quot;</td><td>8</td></tr><tr><td>&quot;zápal plic&quot;</td><td>5</td></tr><tr><td>&quot;rakovina&quot;</td><td>4</td></tr><tr><td>&quot;smrt pádem&quot;</td><td>3</td></tr><tr><td>&quot;sražení vozidlem&quot;</td><td>3</td></tr><tr><td>&quot;cholera&quot;</td><td>2</td></tr><tr><td>&quot;cévní mozková příhoda&quot;</td><td>2</td></tr><tr><td>&quot;srdeční selhání&quot;</td><td>2</td></tr><tr><td>&quot;stětí gilotinou&quot;</td><td>2</td></tr><tr><td>&quot;covid-19&quot;</td><td>1</td></tr><tr><td>&quot;nemoc&quot;</td><td>1</td></tr><tr><td>&quot;selhání ledvin&quot;</td><td>1</td></tr><tr><td>&quot;onemocnění trávicího traktu&quot;</td><td>1</td></tr><tr><td>&quot;poprava zastřelením&quot;</td><td>1</td></tr><tr><td>&quot;vykrvácení&quot;</td><td>1</td></tr><tr><td>&quot;mučení&quot;</td><td>1</td></tr><tr><td>&quot;břišní tyfus&quot;</td><td>1</td></tr><tr><td>&quot;autonehoda&quot;</td><td>1</td></tr><tr><td>&quot;cerebrovaskulární choroba&quot;</td><td>1</td></tr><tr><td>&quot;rakovina žaludku&quot;</td><td>1</td></tr><tr><td>&quot;genocida&quot;</td><td>1</td></tr><tr><td>&quot;srdeční choroby&quot;</td><td>1</td></tr><tr><td>&quot;rakovina plic&quot;</td><td>1</td></tr><tr><td>&quot;syfilis&quot;</td><td>1</td></tr><tr><td>&quot;mor&quot;</td><td>1</td></tr><tr><td>&quot;Ascites&quot;</td><td>1</td></tr><tr><td>&quot;leukemie&quot;</td><td>1</td></tr><tr><td>&quot;silniční dopravní nehoda&quot;</td><td>1</td></tr><tr><td>&quot;mozkové aneurysma&quot;</td><td>1</td></tr><tr><td>&quot;pád&quot;</td><td>1</td></tr><tr><td>&quot;jaterní selhání&quot;</td><td>1</td></tr></tbody></table></div>"
      ],
      "text/plain": [
       "shape: (34, 2)\n",
       "┌─────────────────────────────┬──────┐\n",
       "│ pricina_umrti               ┆ len  │\n",
       "│ ---                         ┆ ---  │\n",
       "│ str                         ┆ u32  │\n",
       "╞═════════════════════════════╪══════╡\n",
       "│ null                        ┆ 8167 │\n",
       "│ tuberkulóza                 ┆ 14   │\n",
       "│ infarkt myokardu            ┆ 9    │\n",
       "│ kardiovaskulární onemocnění ┆ 8    │\n",
       "│ zápal plic                  ┆ 5    │\n",
       "│ rakovina                    ┆ 4    │\n",
       "│ smrt pádem                  ┆ 3    │\n",
       "│ sražení vozidlem            ┆ 3    │\n",
       "│ cholera                     ┆ 2    │\n",
       "│ cévní mozková příhoda       ┆ 2    │\n",
       "│ srdeční selhání             ┆ 2    │\n",
       "│ stětí gilotinou             ┆ 2    │\n",
       "│ covid-19                    ┆ 1    │\n",
       "│ nemoc                       ┆ 1    │\n",
       "│ selhání ledvin              ┆ 1    │\n",
       "│ onemocnění trávicího traktu ┆ 1    │\n",
       "│ poprava zastřelením         ┆ 1    │\n",
       "│ vykrvácení                  ┆ 1    │\n",
       "│ mučení                      ┆ 1    │\n",
       "│ břišní tyfus                ┆ 1    │\n",
       "│ autonehoda                  ┆ 1    │\n",
       "│ cerebrovaskulární choroba   ┆ 1    │\n",
       "│ rakovina žaludku            ┆ 1    │\n",
       "│ genocida                    ┆ 1    │\n",
       "│ srdeční choroby             ┆ 1    │\n",
       "│ rakovina plic               ┆ 1    │\n",
       "│ syfilis                     ┆ 1    │\n",
       "│ mor                         ┆ 1    │\n",
       "│ Ascites                     ┆ 1    │\n",
       "│ leukemie                    ┆ 1    │\n",
       "│ silniční dopravní nehoda    ┆ 1    │\n",
       "│ mozkové aneurysma           ┆ 1    │\n",
       "│ pád                         ┆ 1    │\n",
       "│ jaterní selhání             ┆ 1    │\n",
       "└─────────────────────────────┴──────┘"
      ]
     },
     "execution_count": 65,
     "metadata": {},
     "output_type": "execute_result"
    }
   ],
   "source": [
    "aut.filter(pl.col(\"100_7\").is_in(cesi)).group_by('pricina_umrti').len().sort(by='len',descending=True)"
   ]
  },
  {
   "cell_type": "code",
   "execution_count": 67,
   "id": "0776420c-9e61-4b7d-b765-f467312c72dd",
   "metadata": {},
   "outputs": [
    {
     "data": {
      "text/html": [
       "<div><style>\n",
       ".dataframe > thead > tr,\n",
       ".dataframe > tbody > tr {\n",
       "  text-align: right;\n",
       "  white-space: pre-wrap;\n",
       "}\n",
       "</style>\n",
       "<small>shape: (2, 67)</small><table border=\"1\" class=\"dataframe\"><thead><tr><th>024_2</th><th>024_a</th><th>046_f</th><th>046_g</th><th>100_7</th><th>100_a</th><th>100_d</th><th>100_ind1</th><th>110_a</th><th>370_a</th><th>370_b</th><th>370_c</th><th>370_f</th><th>372_a</th><th>373_a</th><th>374_a</th><th>375_a</th><th>377_a</th><th>400_a</th><th>400_d</th><th>400_i</th><th>400_ind1</th><th>410_a</th><th>411_a</th><th>430_a</th><th>450_a</th><th>500_a</th><th>500_i</th><th>500_ind1</th><th>550_7</th><th>678_a</th><th>856_u</th><th>leader</th><th>001</th><th>024_a_right</th><th>ceny</th><th>druh_umrti</th><th>facebook</th><th>instagram</th><th>jazykove_verze</th><th>label_cs</th><th>label_en</th><th>manzelstvo</th><th>obcanstvi</th><th>partnerstvo</th><th>popis_cs</th><th>popis_en</th><th>potomstvo</th><th>pricina_umrti</th><th>profese</th><th>role</th><th>skoly</th><th>sourozenectvo</th><th>strany</th><th>twitter</th><th>udalosti</th><th>vezeni</th><th>w_gender</th><th>w_misto_narozeni</th><th>w_misto_umrti</th><th>w_narozeni</th><th>w_narozeni_presne</th><th>w_umrti</th><th>w_umrti_presne</th><th>web</th><th>wiki_cs</th><th>wiki_en</th></tr><tr><td>list[str]</td><td>list[str]</td><td>list[str]</td><td>list[str]</td><td>str</td><td>list[str]</td><td>list[str]</td><td>list[str]</td><td>list[str]</td><td>list[str]</td><td>list[str]</td><td>list[str]</td><td>list[str]</td><td>list[str]</td><td>list[str]</td><td>list[str]</td><td>list[str]</td><td>list[str]</td><td>list[str]</td><td>list[str]</td><td>list[str]</td><td>list[str]</td><td>list[str]</td><td>list[str]</td><td>list[str]</td><td>list[str]</td><td>list[str]</td><td>list[str]</td><td>list[str]</td><td>list[str]</td><td>list[str]</td><td>list[str]</td><td>str</td><td>str</td><td>str</td><td>list[str]</td><td>str</td><td>str</td><td>str</td><td>list[str]</td><td>str</td><td>str</td><td>list[str]</td><td>list[str]</td><td>list[str]</td><td>str</td><td>str</td><td>list[str]</td><td>str</td><td>list[str]</td><td>list[str]</td><td>list[str]</td><td>list[str]</td><td>list[str]</td><td>str</td><td>list[str]</td><td>list[str]</td><td>str</td><td>list[str]</td><td>list[str]</td><td>f64</td><td>str</td><td>f64</td><td>str</td><td>str</td><td>str</td><td>str</td></tr></thead><tbody><tr><td>null</td><td>null</td><td>[&quot;1896&quot;]</td><td>[&quot;1942&quot;]</td><td>&quot;jk01111029&quot;</td><td>[&quot;Schmoranz, Zdeněk,&quot;]</td><td>[&quot;1896-1942&quot;]</td><td>[&quot;1&quot;]</td><td>null</td><td>null</td><td>null</td><td>[&quot;Česko&quot;]</td><td>null</td><td>null</td><td>null</td><td>null</td><td>null</td><td>null</td><td>null</td><td>null</td><td>null</td><td>null</td><td>null</td><td>null</td><td>null</td><td>null</td><td>null</td><td>null</td><td>null</td><td>null</td><td>[&quot;Narozen 27.7.1896 v Chrudimi, popraven 19.8.1942 v Berlíně-Plötzensee. Novinář, prozaik, básník, překladatel z francouzštiny.&quot;]</td><td>null</td><td>&quot;     nz  a22     n  4500&quot;</td><td>&quot;jk01111029&quot;</td><td>&quot;Q10857686&quot;</td><td>null</td><td>&quot;trest smrti&quot;</td><td>null</td><td>null</td><td>[&quot;cs&quot;]</td><td>&quot;Zdeněk Schmoranz&quot;</td><td>&quot;Zdeněk Schmoranz&quot;</td><td>null</td><td>null</td><td>null</td><td>&quot;český archivář, dramatik a nov…</td><td>&quot;Czech archivist, playwright an…</td><td>null</td><td>&quot;stětí gilotinou&quot;</td><td>[&quot;archivář&quot;, &quot;spisovatel&quot;, … &quot;překladatel&quot;]</td><td>[&quot;oběť nacistického režimu&quot;]</td><td>null</td><td>null</td><td>null</td><td>null</td><td>null</td><td>null</td><td>&quot;muž&quot;</td><td>[&quot;Praha&quot;, &quot;Chrudim&quot;]</td><td>[&quot;Berlín&quot;, &quot;Věznice Plötzensee&quot;]</td><td>1896.0</td><td>&quot;+1896-07-27T00:00:00Z&quot;</td><td>1942.0</td><td>&quot;+1942-08-19T00:00:00Z&quot;</td><td>null</td><td>&quot;https://cs.wikipedia.org/wiki/…</td><td>null</td></tr><tr><td>null</td><td>null</td><td>[&quot;1895&quot;]</td><td>[&quot;1942&quot;]</td><td>&quot;xx0151756&quot;</td><td>[&quot;Hlaváč, Oldřich,&quot;]</td><td>[&quot;1895-1942&quot;]</td><td>[&quot;1&quot;]</td><td>null</td><td>null</td><td>[&quot;Berlín, Německo&quot;]</td><td>[&quot;Česko&quot;]</td><td>null</td><td>[&quot;stomatologie&quot;, &quot;literatura&quot;]</td><td>null</td><td>[&quot;stomatologové&quot;, &quot;spisovatelé&quot;]</td><td>[&quot;muž&quot;]</td><td>[&quot;cze&quot;]</td><td>[&quot;Hlaváč, Oldřich J.,&quot;]</td><td>[&quot;1895-1942&quot;]</td><td>null</td><td>[&quot;1&quot;]</td><td>null</td><td>null</td><td>null</td><td>null</td><td>[&quot;Alarich,&quot;]</td><td>[&quot;Pseudonym:&quot;]</td><td>[&quot;0&quot;]</td><td>null</td><td>[&quot;Narozen 9. 1. 1895 ve Stříbrných Horách, popraven 18. 12. 1942 v Berlíně. MUDr., zubní lékař v Praze, prozaik-humorista a básník.&quot;]</td><td>[&quot;http://cs.wikipedia.org/wiki/Old%C5%99ich_Hlav%C3%A1%C4%8D&quot;]</td><td>&quot;     cz  a22     n  4500&quot;</td><td>&quot;xx0151756&quot;</td><td>&quot;Q12042384&quot;</td><td>null</td><td>&quot;trest smrti&quot;</td><td>null</td><td>null</td><td>[&quot;cs&quot;]</td><td>&quot;Oldřich Hlaváč&quot;</td><td>&quot;Oldřich Hlaváč&quot;</td><td>null</td><td>null</td><td>null</td><td>&quot;český humorista, novinář a spi…</td><td>&quot;Czech humorist, publicist and …</td><td>null</td><td>&quot;stětí gilotinou&quot;</td><td>[&quot;spisovatel&quot;, &quot;novinář&quot;, … &quot;lékař&quot;]</td><td>[&quot;oběť nacistického režimu&quot;]</td><td>[&quot;1. lékařská fakulta Univerzity Karlovy&quot;]</td><td>null</td><td>null</td><td>null</td><td>null</td><td>null</td><td>&quot;muž&quot;</td><td>[&quot;Stříbrné Hory&quot;, &quot;Stříbrné Hory&quot;, &quot;Stříbrné Hutě&quot;]</td><td>[&quot;Věznice Plötzensee&quot;, &quot;Berlín&quot;]</td><td>1895.0</td><td>&quot;+1895-01-09T00:00:00Z&quot;</td><td>1942.0</td><td>&quot;+1942-12-18T00:00:00Z&quot;</td><td>null</td><td>&quot;https://cs.wikipedia.org/wiki/…</td><td>null</td></tr></tbody></table></div>"
      ],
      "text/plain": [
       "shape: (2, 67)\n",
       "┌───────────┬───────────┬───────────┬───────────┬───┬───────────────────────┬──────┬─────────────────────────┬─────────┐\n",
       "│ 024_2     ┆ 024_a     ┆ 046_f     ┆ 046_g     ┆ … ┆ w_umrti_presne        ┆ web  ┆ wiki_cs                 ┆ wiki_en │\n",
       "│ ---       ┆ ---       ┆ ---       ┆ ---       ┆   ┆ ---                   ┆ ---  ┆ ---                     ┆ ---     │\n",
       "│ list[str] ┆ list[str] ┆ list[str] ┆ list[str] ┆   ┆ str                   ┆ str  ┆ str                     ┆ str     │\n",
       "╞═══════════╪═══════════╪═══════════╪═══════════╪═══╪═══════════════════════╪══════╪═════════════════════════╪═════════╡\n",
       "│ null      ┆ null      ┆ [\"1896\"]  ┆ [\"1942\"]  ┆ … ┆ +1942-08-19T00:00:00Z ┆ null ┆ https://cs.wikipedia.or ┆ null    │\n",
       "│           ┆           ┆           ┆           ┆   ┆                       ┆      ┆ g/wiki/…                ┆         │\n",
       "│ null      ┆ null      ┆ [\"1895\"]  ┆ [\"1942\"]  ┆ … ┆ +1942-12-18T00:00:00Z ┆ null ┆ https://cs.wikipedia.or ┆ null    │\n",
       "│           ┆           ┆           ┆           ┆   ┆                       ┆      ┆ g/wiki/…                ┆         │\n",
       "└───────────┴───────────┴───────────┴───────────┴───┴───────────────────────┴──────┴─────────────────────────┴─────────┘"
      ]
     },
     "execution_count": 67,
     "metadata": {},
     "output_type": "execute_result"
    }
   ],
   "source": [
    "aut.filter(pl.col('pricina_umrti') == \"stětí gilotinou\")"
   ]
  },
  {
   "cell_type": "code",
   "execution_count": 69,
   "id": "80182c0d-2e15-4344-8641-bb7f1039317c",
   "metadata": {},
   "outputs": [
    {
     "data": {
      "text/html": [
       "<div><style>\n",
       ".dataframe > thead > tr,\n",
       ".dataframe > tbody > tr {\n",
       "  text-align: right;\n",
       "  white-space: pre-wrap;\n",
       "}\n",
       "</style>\n",
       "<small>shape: (1, 67)</small><table border=\"1\" class=\"dataframe\"><thead><tr><th>024_2</th><th>024_a</th><th>046_f</th><th>046_g</th><th>100_7</th><th>100_a</th><th>100_d</th><th>100_ind1</th><th>110_a</th><th>370_a</th><th>370_b</th><th>370_c</th><th>370_f</th><th>372_a</th><th>373_a</th><th>374_a</th><th>375_a</th><th>377_a</th><th>400_a</th><th>400_d</th><th>400_i</th><th>400_ind1</th><th>410_a</th><th>411_a</th><th>430_a</th><th>450_a</th><th>500_a</th><th>500_i</th><th>500_ind1</th><th>550_7</th><th>678_a</th><th>856_u</th><th>leader</th><th>001</th><th>024_a_right</th><th>ceny</th><th>druh_umrti</th><th>facebook</th><th>instagram</th><th>jazykove_verze</th><th>label_cs</th><th>label_en</th><th>manzelstvo</th><th>obcanstvi</th><th>partnerstvo</th><th>popis_cs</th><th>popis_en</th><th>potomstvo</th><th>pricina_umrti</th><th>profese</th><th>role</th><th>skoly</th><th>sourozenectvo</th><th>strany</th><th>twitter</th><th>udalosti</th><th>vezeni</th><th>w_gender</th><th>w_misto_narozeni</th><th>w_misto_umrti</th><th>w_narozeni</th><th>w_narozeni_presne</th><th>w_umrti</th><th>w_umrti_presne</th><th>web</th><th>wiki_cs</th><th>wiki_en</th></tr><tr><td>list[str]</td><td>list[str]</td><td>list[str]</td><td>list[str]</td><td>str</td><td>list[str]</td><td>list[str]</td><td>list[str]</td><td>list[str]</td><td>list[str]</td><td>list[str]</td><td>list[str]</td><td>list[str]</td><td>list[str]</td><td>list[str]</td><td>list[str]</td><td>list[str]</td><td>list[str]</td><td>list[str]</td><td>list[str]</td><td>list[str]</td><td>list[str]</td><td>list[str]</td><td>list[str]</td><td>list[str]</td><td>list[str]</td><td>list[str]</td><td>list[str]</td><td>list[str]</td><td>list[str]</td><td>list[str]</td><td>list[str]</td><td>str</td><td>str</td><td>str</td><td>list[str]</td><td>str</td><td>str</td><td>str</td><td>list[str]</td><td>str</td><td>str</td><td>list[str]</td><td>list[str]</td><td>list[str]</td><td>str</td><td>str</td><td>list[str]</td><td>str</td><td>list[str]</td><td>list[str]</td><td>list[str]</td><td>list[str]</td><td>list[str]</td><td>str</td><td>list[str]</td><td>list[str]</td><td>str</td><td>list[str]</td><td>list[str]</td><td>f64</td><td>str</td><td>f64</td><td>str</td><td>str</td><td>str</td><td>str</td></tr></thead><tbody><tr><td>null</td><td>null</td><td>[&quot;1492&quot;]</td><td>[&quot;1556&quot;]</td><td>&quot;jn20000600368&quot;</td><td>[&quot;Aretino, Pietro,&quot;]</td><td>[&quot;1492-1556&quot;]</td><td>[&quot;1&quot;]</td><td>null</td><td>null</td><td>null</td><td>[&quot;Itálie&quot;]</td><td>null</td><td>[&quot;satirická literatura&quot;, &quot;drama&quot;, &quot;lyrika&quot;]</td><td>null</td><td>[&quot;spisovatelé&quot;, &quot;básníci&quot;, &quot;dramatici&quot;]</td><td>[&quot;muž&quot;]</td><td>[&quot;ita&quot;]</td><td>[&quot;Etiro, Partenio,&quot;, &quot;Aretino, Bacci Pietro,&quot;, … &quot;Bacci, Pietro,&quot;]</td><td>[&quot;1492-1556&quot;, &quot;1492-1556&quot;, … &quot;1492-1556&quot;]</td><td>null</td><td>[&quot;1&quot;, &quot;1&quot;, … &quot;1&quot;]</td><td>null</td><td>null</td><td>null</td><td>null</td><td>null</td><td>null</td><td>null</td><td>null</td><td>[&quot;Italský spisovatel, básník, dramatik a satirik.&quot;]</td><td>[&quot;https://www.britannica.com/biography/Pietro-Aretino&quot;, &quot;https://cs.wikipedia.org/wiki/Pietro_Aretino&quot;]</td><td>&quot;     cz  a22     n  4500&quot;</td><td>&quot;jn20000600368&quot;</td><td>&quot;Q296272&quot;</td><td>null</td><td>null</td><td>null</td><td>null</td><td>[&quot;en&quot;, &quot;de&quot;, … &quot;it&quot;]</td><td>&quot;Pietro Aretino&quot;</td><td>&quot;Pietro Aretino&quot;</td><td>null</td><td>[&quot;Benátská republika&quot;]</td><td>null</td><td>&quot;italský spisovatel&quot;</td><td>&quot;Italian author, playwright, po…</td><td>null</td><td>&quot;smrt ze smíchu&quot;</td><td>[&quot;básník&quot;, &quot;dramatik&quot;, … &quot;historik umění&quot;]</td><td>null</td><td>null</td><td>null</td><td>null</td><td>null</td><td>null</td><td>null</td><td>&quot;muž&quot;</td><td>[&quot;Arezzo&quot;]</td><td>[&quot;Benátky&quot;]</td><td>1492.0</td><td>&quot;+1492-04-00T00:00:00Z&quot;</td><td>1556.0</td><td>&quot;+1556-10-21T00:00:00Z&quot;</td><td>null</td><td>&quot;https://cs.wikipedia.org/wiki/…</td><td>&quot;https://en.wikipedia.org/wiki/…</td></tr></tbody></table></div>"
      ],
      "text/plain": [
       "shape: (1, 67)\n",
       "┌───────────┬───────────┬───────────┬───────────┬───┬───────────────────┬──────┬───────────────────┬───────────────────┐\n",
       "│ 024_2     ┆ 024_a     ┆ 046_f     ┆ 046_g     ┆ … ┆ w_umrti_presne    ┆ web  ┆ wiki_cs           ┆ wiki_en           │\n",
       "│ ---       ┆ ---       ┆ ---       ┆ ---       ┆   ┆ ---               ┆ ---  ┆ ---               ┆ ---               │\n",
       "│ list[str] ┆ list[str] ┆ list[str] ┆ list[str] ┆   ┆ str               ┆ str  ┆ str               ┆ str               │\n",
       "╞═══════════╪═══════════╪═══════════╪═══════════╪═══╪═══════════════════╪══════╪═══════════════════╪═══════════════════╡\n",
       "│ null      ┆ null      ┆ [\"1492\"]  ┆ [\"1556\"]  ┆ … ┆ +1556-10-21T00:00 ┆ null ┆ https://cs.wikipe ┆ https://en.wikipe │\n",
       "│           ┆           ┆           ┆           ┆   ┆ :00Z              ┆      ┆ dia.org/wiki/…    ┆ dia.org/wiki/…    │\n",
       "└───────────┴───────────┴───────────┴───────────┴───┴───────────────────┴──────┴───────────────────┴───────────────────┘"
      ]
     },
     "execution_count": 69,
     "metadata": {},
     "output_type": "execute_result"
    }
   ],
   "source": [
    "aut.filter(pl.col('pricina_umrti') == \"smrt ze smíchu\")"
   ]
  }
 ],
 "metadata": {
  "kernelspec": {
   "display_name": "Python 3 (ipykernel)",
   "language": "python",
   "name": "python3"
  },
  "language_info": {
   "codemirror_mode": {
    "name": "ipython",
    "version": 3
   },
   "file_extension": ".py",
   "mimetype": "text/x-python",
   "name": "python",
   "nbconvert_exporter": "python",
   "pygments_lexer": "ipython3",
   "version": "3.12.3"
  }
 },
 "nbformat": 4,
 "nbformat_minor": 5
}
