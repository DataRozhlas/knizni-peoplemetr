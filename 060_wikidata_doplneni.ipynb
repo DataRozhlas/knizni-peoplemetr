{
 "cells": [
  {
   "cell_type": "markdown",
   "id": "46399a8d-d43b-4c31-854c-d2648efa033f",
   "metadata": {},
   "source": [
    "Zde hledáme Wikidata IDs toho autorstva, které je nemá vyplněné v databázi autorit."
   ]
  },
  {
   "cell_type": "code",
   "execution_count": 2,
   "id": "a6b082be-2fdb-4199-a8b6-8aed860b6d1e",
   "metadata": {},
   "outputs": [],
   "source": [
    "import gc\n",
    "import os\n",
    "import re\n",
    "import json\n",
    "import requests\n",
    "import pandas as pd"
   ]
  },
  {
   "cell_type": "code",
   "execution_count": 3,
   "id": "91a734c8-a7a7-4ed7-8fbb-2d37af00ebf5",
   "metadata": {},
   "outputs": [],
   "source": [
    "kam = 'data_raw/wikidata_doplneni'\n",
    "if not os.path.exists(kam):\n",
    "    os.makedirs(kam)"
   ]
  },
  {
   "cell_type": "code",
   "execution_count": 4,
   "id": "04cdde39-f2a8-4431-af96-deca86e7ca83",
   "metadata": {},
   "outputs": [],
   "source": [
    "vsechny_jsony = [f for f in os.listdir(kam)]"
   ]
  },
  {
   "cell_type": "code",
   "execution_count": 5,
   "id": "e4a8835b-4818-40ed-8c89-4d3b3eb271b6",
   "metadata": {},
   "outputs": [],
   "source": [
    "vyhledane = set([x.split(\"_\")[0] for x in vsechny_jsony])"
   ]
  },
  {
   "cell_type": "code",
   "execution_count": 6,
   "id": "cacd6bf0-85dd-467e-b248-513da8a62296",
   "metadata": {},
   "outputs": [],
   "source": [
    "df = pd.read_parquet(os.path.join(\"data/cnb_sloupce\",\"100.parquet\"))"
   ]
  },
  {
   "cell_type": "code",
   "execution_count": 7,
   "id": "b6cc0cc6-527d-403f-8e8b-93b792afd3f9",
   "metadata": {},
   "outputs": [],
   "source": [
    "df = df.explode('100_7')"
   ]
  },
  {
   "cell_type": "code",
   "execution_count": 8,
   "id": "f3ec2d8d-f2fa-4b49-91c1-737158da0585",
   "metadata": {},
   "outputs": [
    {
     "data": {
      "text/plain": [
       "171303"
      ]
     },
     "execution_count": 8,
     "metadata": {},
     "output_type": "execute_result"
    }
   ],
   "source": [
    "df['100_7'].nunique()"
   ]
  },
  {
   "cell_type": "code",
   "execution_count": 9,
   "id": "295b9e62-19d6-4760-bb3e-772e743434a5",
   "metadata": {},
   "outputs": [
    {
     "data": {
      "text/plain": [
       "100_7\n",
       "jx20060515016    2960\n",
       "jx20050830020    2373\n",
       "jn20001103529    1652\n",
       "jn19981000826    1468\n",
       "jk01120043       1385\n",
       "                 ... \n",
       "jn19990209875      65\n",
       "jn19990210374      65\n",
       "jn20000710062      65\n",
       "jn20000810185      65\n",
       "jn99240001194      65\n",
       "Length: 1000, dtype: int64"
      ]
     },
     "execution_count": 9,
     "metadata": {},
     "output_type": "execute_result"
    }
   ],
   "source": [
    "df.groupby('100_7').size().nlargest(1000)"
   ]
  },
  {
   "cell_type": "code",
   "execution_count": 10,
   "id": "3510271e-745d-4d07-aba0-72be7cb24929",
   "metadata": {},
   "outputs": [
    {
     "data": {
      "text/plain": [
       "90630"
      ]
     },
     "execution_count": 10,
     "metadata": {},
     "output_type": "execute_result"
    }
   ],
   "source": [
    "opakovane = df.groupby('100_7').size()\n",
    "opakovane = opakovane.sort_values(ascending=False)\n",
    "opakovane = opakovane[opakovane > 1].index.to_list()\n",
    "len(opakovane)"
   ]
  },
  {
   "cell_type": "code",
   "execution_count": 11,
   "id": "29095e81-2d19-4c4d-8f81-3a84c6089683",
   "metadata": {},
   "outputs": [],
   "source": [
    "autority = pd.read_parquet(os.path.join(\"data\",\"aut_vyber.parquet\"))"
   ]
  },
  {
   "cell_type": "code",
   "execution_count": 12,
   "id": "ce6332ad-dcdc-4668-8660-190977e67941",
   "metadata": {},
   "outputs": [
    {
     "data": {
      "text/html": [
       "<div>\n",
       "<style scoped>\n",
       "    .dataframe tbody tr th:only-of-type {\n",
       "        vertical-align: middle;\n",
       "    }\n",
       "\n",
       "    .dataframe tbody tr th {\n",
       "        vertical-align: top;\n",
       "    }\n",
       "\n",
       "    .dataframe thead th {\n",
       "        text-align: right;\n",
       "    }\n",
       "</style>\n",
       "<table border=\"1\" class=\"dataframe\">\n",
       "  <thead>\n",
       "    <tr style=\"text-align: right;\">\n",
       "      <th></th>\n",
       "      <th>024_2</th>\n",
       "      <th>024_a</th>\n",
       "      <th>046_f</th>\n",
       "      <th>046_g</th>\n",
       "      <th>100_7</th>\n",
       "      <th>100_a</th>\n",
       "      <th>100_d</th>\n",
       "      <th>100_ind1</th>\n",
       "      <th>110_a</th>\n",
       "      <th>370_a</th>\n",
       "      <th>...</th>\n",
       "      <th>411_a</th>\n",
       "      <th>430_a</th>\n",
       "      <th>450_a</th>\n",
       "      <th>500_a</th>\n",
       "      <th>500_i</th>\n",
       "      <th>500_ind1</th>\n",
       "      <th>550_7</th>\n",
       "      <th>678_a</th>\n",
       "      <th>856_u</th>\n",
       "      <th>leader</th>\n",
       "    </tr>\n",
       "    <tr>\n",
       "      <th>001</th>\n",
       "      <th></th>\n",
       "      <th></th>\n",
       "      <th></th>\n",
       "      <th></th>\n",
       "      <th></th>\n",
       "      <th></th>\n",
       "      <th></th>\n",
       "      <th></th>\n",
       "      <th></th>\n",
       "      <th></th>\n",
       "      <th></th>\n",
       "      <th></th>\n",
       "      <th></th>\n",
       "      <th></th>\n",
       "      <th></th>\n",
       "      <th></th>\n",
       "      <th></th>\n",
       "      <th></th>\n",
       "      <th></th>\n",
       "      <th></th>\n",
       "      <th></th>\n",
       "    </tr>\n",
       "  </thead>\n",
       "  <tbody>\n",
       "    <tr>\n",
       "      <th>jk01010001</th>\n",
       "      <td>None</td>\n",
       "      <td>None</td>\n",
       "      <td>[1931]</td>\n",
       "      <td>None</td>\n",
       "      <td>[jk01010001]</td>\n",
       "      <td>[Abraham, Jiří,]</td>\n",
       "      <td>[1931-]</td>\n",
       "      <td>[1]</td>\n",
       "      <td>None</td>\n",
       "      <td>None</td>\n",
       "      <td>...</td>\n",
       "      <td>None</td>\n",
       "      <td>None</td>\n",
       "      <td>None</td>\n",
       "      <td>None</td>\n",
       "      <td>None</td>\n",
       "      <td>None</td>\n",
       "      <td>None</td>\n",
       "      <td>[Narozen 14.12.1931 v Osvračíně. MUDr., odborn...</td>\n",
       "      <td>None</td>\n",
       "      <td>nz  a22     n  4500</td>\n",
       "    </tr>\n",
       "    <tr>\n",
       "      <th>jk01010002</th>\n",
       "      <td>None</td>\n",
       "      <td>None</td>\n",
       "      <td>[1890]</td>\n",
       "      <td>[1933]</td>\n",
       "      <td>[jk01010002]</td>\n",
       "      <td>[Abraham, Josef,]</td>\n",
       "      <td>[1890-1933]</td>\n",
       "      <td>[1]</td>\n",
       "      <td>None</td>\n",
       "      <td>None</td>\n",
       "      <td>...</td>\n",
       "      <td>None</td>\n",
       "      <td>None</td>\n",
       "      <td>None</td>\n",
       "      <td>None</td>\n",
       "      <td>None</td>\n",
       "      <td>None</td>\n",
       "      <td>None</td>\n",
       "      <td>[Narozen 19.11.1890 v Osvračíně u Horšova Týna...</td>\n",
       "      <td>None</td>\n",
       "      <td>nz  a22     n  4500</td>\n",
       "    </tr>\n",
       "    <tr>\n",
       "      <th>jk01010003</th>\n",
       "      <td>None</td>\n",
       "      <td>None</td>\n",
       "      <td>[1957]</td>\n",
       "      <td>None</td>\n",
       "      <td>[jk01010003]</td>\n",
       "      <td>[Abraham, Pavel,]</td>\n",
       "      <td>[1957-]</td>\n",
       "      <td>[1]</td>\n",
       "      <td>None</td>\n",
       "      <td>None</td>\n",
       "      <td>...</td>\n",
       "      <td>None</td>\n",
       "      <td>None</td>\n",
       "      <td>None</td>\n",
       "      <td>None</td>\n",
       "      <td>None</td>\n",
       "      <td>None</td>\n",
       "      <td>None</td>\n",
       "      <td>[Narozen roku 1957. Student filosofické fakult...</td>\n",
       "      <td>None</td>\n",
       "      <td>nz  a22     n  4500</td>\n",
       "    </tr>\n",
       "    <tr>\n",
       "      <th>jk01010004</th>\n",
       "      <td>None</td>\n",
       "      <td>None</td>\n",
       "      <td>[1889]</td>\n",
       "      <td>[1963]</td>\n",
       "      <td>[jk01010004]</td>\n",
       "      <td>[Absolon, Josef,]</td>\n",
       "      <td>[1889-1963]</td>\n",
       "      <td>[1]</td>\n",
       "      <td>None</td>\n",
       "      <td>[Odrlice, Senice na Hané, Česko]</td>\n",
       "      <td>...</td>\n",
       "      <td>None</td>\n",
       "      <td>None</td>\n",
       "      <td>None</td>\n",
       "      <td>None</td>\n",
       "      <td>None</td>\n",
       "      <td>None</td>\n",
       "      <td>None</td>\n",
       "      <td>[Narozen 27. 1. 1889 v Odrlicích na Moravě, ze...</td>\n",
       "      <td>None</td>\n",
       "      <td>cz  a22     n  4500</td>\n",
       "    </tr>\n",
       "    <tr>\n",
       "      <th>jk01010005</th>\n",
       "      <td>[isni, wikidata]</td>\n",
       "      <td>[0000000109542912, Q1063371]</td>\n",
       "      <td>[1877]</td>\n",
       "      <td>[1960]</td>\n",
       "      <td>[jk01010005]</td>\n",
       "      <td>[Absolon, Karel,]</td>\n",
       "      <td>[1877-1960]</td>\n",
       "      <td>[1]</td>\n",
       "      <td>None</td>\n",
       "      <td>None</td>\n",
       "      <td>...</td>\n",
       "      <td>None</td>\n",
       "      <td>None</td>\n",
       "      <td>None</td>\n",
       "      <td>None</td>\n",
       "      <td>None</td>\n",
       "      <td>None</td>\n",
       "      <td>None</td>\n",
       "      <td>[Narozen 16.6.1877 v Boskovicích, zemřel 6.10....</td>\n",
       "      <td>None</td>\n",
       "      <td>cz  a22     n  4500</td>\n",
       "    </tr>\n",
       "    <tr>\n",
       "      <th>...</th>\n",
       "      <td>...</td>\n",
       "      <td>...</td>\n",
       "      <td>...</td>\n",
       "      <td>...</td>\n",
       "      <td>...</td>\n",
       "      <td>...</td>\n",
       "      <td>...</td>\n",
       "      <td>...</td>\n",
       "      <td>...</td>\n",
       "      <td>...</td>\n",
       "      <td>...</td>\n",
       "      <td>...</td>\n",
       "      <td>...</td>\n",
       "      <td>...</td>\n",
       "      <td>...</td>\n",
       "      <td>...</td>\n",
       "      <td>...</td>\n",
       "      <td>...</td>\n",
       "      <td>...</td>\n",
       "      <td>...</td>\n",
       "      <td>...</td>\n",
       "    </tr>\n",
       "    <tr>\n",
       "      <th>xx0323367</th>\n",
       "      <td>None</td>\n",
       "      <td>None</td>\n",
       "      <td>None</td>\n",
       "      <td>None</td>\n",
       "      <td>[xx0323367]</td>\n",
       "      <td>[Birhanu, Abigail]</td>\n",
       "      <td>None</td>\n",
       "      <td>[1]</td>\n",
       "      <td>None</td>\n",
       "      <td>None</td>\n",
       "      <td>...</td>\n",
       "      <td>None</td>\n",
       "      <td>None</td>\n",
       "      <td>None</td>\n",
       "      <td>None</td>\n",
       "      <td>None</td>\n",
       "      <td>None</td>\n",
       "      <td>None</td>\n",
       "      <td>[Americká výtvarnice a učitelka výtvarné výcho...</td>\n",
       "      <td>None</td>\n",
       "      <td>nz  a22     n  4500</td>\n",
       "    </tr>\n",
       "    <tr>\n",
       "      <th>xx0323368</th>\n",
       "      <td>None</td>\n",
       "      <td>None</td>\n",
       "      <td>None</td>\n",
       "      <td>None</td>\n",
       "      <td>[xx0323368]</td>\n",
       "      <td>[Latimer, Khadesia]</td>\n",
       "      <td>None</td>\n",
       "      <td>[1]</td>\n",
       "      <td>None</td>\n",
       "      <td>None</td>\n",
       "      <td>...</td>\n",
       "      <td>None</td>\n",
       "      <td>None</td>\n",
       "      <td>None</td>\n",
       "      <td>None</td>\n",
       "      <td>None</td>\n",
       "      <td>None</td>\n",
       "      <td>None</td>\n",
       "      <td>[Americká výtvarnice a výtvarná pedagožka zamě...</td>\n",
       "      <td>None</td>\n",
       "      <td>nz  a22     n  4500</td>\n",
       "    </tr>\n",
       "    <tr>\n",
       "      <th>xx0323369</th>\n",
       "      <td>None</td>\n",
       "      <td>None</td>\n",
       "      <td>None</td>\n",
       "      <td>None</td>\n",
       "      <td>[xx0323369]</td>\n",
       "      <td>[Liz, Paula]</td>\n",
       "      <td>None</td>\n",
       "      <td>[1]</td>\n",
       "      <td>None</td>\n",
       "      <td>None</td>\n",
       "      <td>...</td>\n",
       "      <td>None</td>\n",
       "      <td>None</td>\n",
       "      <td>None</td>\n",
       "      <td>None</td>\n",
       "      <td>None</td>\n",
       "      <td>None</td>\n",
       "      <td>None</td>\n",
       "      <td>[Americká výtvarnice a výtvarná pedagožka.]</td>\n",
       "      <td>None</td>\n",
       "      <td>nz  a22     n  4500</td>\n",
       "    </tr>\n",
       "    <tr>\n",
       "      <th>xx0323370</th>\n",
       "      <td>None</td>\n",
       "      <td>None</td>\n",
       "      <td>None</td>\n",
       "      <td>None</td>\n",
       "      <td>[xx0323370]</td>\n",
       "      <td>[Santos, Lori]</td>\n",
       "      <td>None</td>\n",
       "      <td>[1]</td>\n",
       "      <td>None</td>\n",
       "      <td>None</td>\n",
       "      <td>...</td>\n",
       "      <td>None</td>\n",
       "      <td>None</td>\n",
       "      <td>None</td>\n",
       "      <td>None</td>\n",
       "      <td>None</td>\n",
       "      <td>None</td>\n",
       "      <td>None</td>\n",
       "      <td>[Americká výtvarná a vysokoškolská pedagožka z...</td>\n",
       "      <td>None</td>\n",
       "      <td>nz  a22     n  4500</td>\n",
       "    </tr>\n",
       "    <tr>\n",
       "      <th>js20241239278</th>\n",
       "      <td>[wikidata]</td>\n",
       "      <td>[Q3740449]</td>\n",
       "      <td>[1947]</td>\n",
       "      <td>None</td>\n",
       "      <td>[js20241239278]</td>\n",
       "      <td>[Černigovskaja, Tat‘jana Vladimirovna,]</td>\n",
       "      <td>[1947-]</td>\n",
       "      <td>[1]</td>\n",
       "      <td>None</td>\n",
       "      <td>None</td>\n",
       "      <td>...</td>\n",
       "      <td>None</td>\n",
       "      <td>None</td>\n",
       "      <td>None</td>\n",
       "      <td>None</td>\n",
       "      <td>None</td>\n",
       "      <td>None</td>\n",
       "      <td>None</td>\n",
       "      <td>[Ruská vědkyně, specialistka v oblasti kogniti...</td>\n",
       "      <td>None</td>\n",
       "      <td>nz  a22     n  4500</td>\n",
       "    </tr>\n",
       "  </tbody>\n",
       "</table>\n",
       "<p>1210199 rows × 33 columns</p>\n",
       "</div>"
      ],
      "text/plain": [
       "                          024_2                         024_a   046_f   046_g  \\\n",
       "001                                                                             \n",
       "jk01010001                 None                          None  [1931]    None   \n",
       "jk01010002                 None                          None  [1890]  [1933]   \n",
       "jk01010003                 None                          None  [1957]    None   \n",
       "jk01010004                 None                          None  [1889]  [1963]   \n",
       "jk01010005     [isni, wikidata]  [0000000109542912, Q1063371]  [1877]  [1960]   \n",
       "...                         ...                           ...     ...     ...   \n",
       "xx0323367                  None                          None    None    None   \n",
       "xx0323368                  None                          None    None    None   \n",
       "xx0323369                  None                          None    None    None   \n",
       "xx0323370                  None                          None    None    None   \n",
       "js20241239278        [wikidata]                    [Q3740449]  [1947]    None   \n",
       "\n",
       "                         100_7                                    100_a  \\\n",
       "001                                                                       \n",
       "jk01010001        [jk01010001]                         [Abraham, Jiří,]   \n",
       "jk01010002        [jk01010002]                        [Abraham, Josef,]   \n",
       "jk01010003        [jk01010003]                        [Abraham, Pavel,]   \n",
       "jk01010004        [jk01010004]                        [Absolon, Josef,]   \n",
       "jk01010005        [jk01010005]                        [Absolon, Karel,]   \n",
       "...                        ...                                      ...   \n",
       "xx0323367          [xx0323367]                       [Birhanu, Abigail]   \n",
       "xx0323368          [xx0323368]                      [Latimer, Khadesia]   \n",
       "xx0323369          [xx0323369]                             [Liz, Paula]   \n",
       "xx0323370          [xx0323370]                           [Santos, Lori]   \n",
       "js20241239278  [js20241239278]  [Černigovskaja, Tat‘jana Vladimirovna,]   \n",
       "\n",
       "                     100_d 100_ind1 110_a                             370_a  \\\n",
       "001                                                                           \n",
       "jk01010001         [1931-]      [1]  None                              None   \n",
       "jk01010002     [1890-1933]      [1]  None                              None   \n",
       "jk01010003         [1957-]      [1]  None                              None   \n",
       "jk01010004     [1889-1963]      [1]  None  [Odrlice, Senice na Hané, Česko]   \n",
       "jk01010005     [1877-1960]      [1]  None                              None   \n",
       "...                    ...      ...   ...                               ...   \n",
       "xx0323367             None      [1]  None                              None   \n",
       "xx0323368             None      [1]  None                              None   \n",
       "xx0323369             None      [1]  None                              None   \n",
       "xx0323370             None      [1]  None                              None   \n",
       "js20241239278      [1947-]      [1]  None                              None   \n",
       "\n",
       "               ... 411_a 430_a 450_a 500_a 500_i 500_ind1 550_7  \\\n",
       "001            ...                                                \n",
       "jk01010001     ...  None  None  None  None  None     None  None   \n",
       "jk01010002     ...  None  None  None  None  None     None  None   \n",
       "jk01010003     ...  None  None  None  None  None     None  None   \n",
       "jk01010004     ...  None  None  None  None  None     None  None   \n",
       "jk01010005     ...  None  None  None  None  None     None  None   \n",
       "...            ...   ...   ...   ...   ...   ...      ...   ...   \n",
       "xx0323367      ...  None  None  None  None  None     None  None   \n",
       "xx0323368      ...  None  None  None  None  None     None  None   \n",
       "xx0323369      ...  None  None  None  None  None     None  None   \n",
       "xx0323370      ...  None  None  None  None  None     None  None   \n",
       "js20241239278  ...  None  None  None  None  None     None  None   \n",
       "\n",
       "                                                           678_a 856_u  \\\n",
       "001                                                                      \n",
       "jk01010001     [Narozen 14.12.1931 v Osvračíně. MUDr., odborn...  None   \n",
       "jk01010002     [Narozen 19.11.1890 v Osvračíně u Horšova Týna...  None   \n",
       "jk01010003     [Narozen roku 1957. Student filosofické fakult...  None   \n",
       "jk01010004     [Narozen 27. 1. 1889 v Odrlicích na Moravě, ze...  None   \n",
       "jk01010005     [Narozen 16.6.1877 v Boskovicích, zemřel 6.10....  None   \n",
       "...                                                          ...   ...   \n",
       "xx0323367      [Americká výtvarnice a učitelka výtvarné výcho...  None   \n",
       "xx0323368      [Americká výtvarnice a výtvarná pedagožka zamě...  None   \n",
       "xx0323369            [Americká výtvarnice a výtvarná pedagožka.]  None   \n",
       "xx0323370      [Americká výtvarná a vysokoškolská pedagožka z...  None   \n",
       "js20241239278  [Ruská vědkyně, specialistka v oblasti kogniti...  None   \n",
       "\n",
       "                                 leader  \n",
       "001                                      \n",
       "jk01010001          nz  a22     n  4500  \n",
       "jk01010002          nz  a22     n  4500  \n",
       "jk01010003          nz  a22     n  4500  \n",
       "jk01010004          cz  a22     n  4500  \n",
       "jk01010005          cz  a22     n  4500  \n",
       "...                                 ...  \n",
       "xx0323367           nz  a22     n  4500  \n",
       "xx0323368           nz  a22     n  4500  \n",
       "xx0323369           nz  a22     n  4500  \n",
       "xx0323370           nz  a22     n  4500  \n",
       "js20241239278       nz  a22     n  4500  \n",
       "\n",
       "[1210199 rows x 33 columns]"
      ]
     },
     "execution_count": 12,
     "metadata": {},
     "output_type": "execute_result"
    }
   ],
   "source": [
    "autority"
   ]
  },
  {
   "cell_type": "code",
   "execution_count": 13,
   "id": "b8c642d9-d42b-49de-aa15-1eed5b951088",
   "metadata": {},
   "outputs": [],
   "source": [
    "autority = autority[autority['024_2'].notnull()]\n",
    "autority = autority[autority['024_a'].notnull()]"
   ]
  },
  {
   "cell_type": "code",
   "execution_count": 14,
   "id": "a96ee4f2-fac9-4147-a406-b8a5bbf43d01",
   "metadata": {},
   "outputs": [],
   "source": [
    "autority = autority.explode(['024_a','024_2'])"
   ]
  },
  {
   "cell_type": "code",
   "execution_count": 15,
   "id": "24fd3236-a94d-49b7-a3b7-92c84aef481b",
   "metadata": {},
   "outputs": [],
   "source": [
    "autority_s_wikidaty = set(autority[autority['024_2'] == 'wikidata']['024_a'].index.to_list())"
   ]
  },
  {
   "cell_type": "code",
   "execution_count": 16,
   "id": "dc584dc5-3a08-4a05-bc86-8c1d2b3af7df",
   "metadata": {},
   "outputs": [],
   "source": [
    "chybi = [x for x in opakovane if x not in autority_s_wikidaty]"
   ]
  },
  {
   "cell_type": "code",
   "execution_count": 17,
   "id": "788150fe-e5b9-4fa5-b752-9640616732dd",
   "metadata": {},
   "outputs": [
    {
     "data": {
      "text/plain": [
       "0"
      ]
     },
     "execution_count": 17,
     "metadata": {},
     "output_type": "execute_result"
    }
   ],
   "source": [
    "del df\n",
    "del autority\n",
    "gc.collect()"
   ]
  },
  {
   "cell_type": "code",
   "execution_count": 18,
   "id": "f0c18a50-a0f5-477d-9f98-ee633b00df4c",
   "metadata": {},
   "outputs": [
    {
     "data": {
      "text/plain": [
       "82368"
      ]
     },
     "execution_count": 18,
     "metadata": {},
     "output_type": "execute_result"
    }
   ],
   "source": [
    "len(chybi)"
   ]
  },
  {
   "cell_type": "code",
   "execution_count": 19,
   "id": "76d89a8d-7b64-4fef-866d-ef2bbfd4219c",
   "metadata": {},
   "outputs": [],
   "source": [
    "# Wikidata SPARQL endpoint\n",
    "sparql_endpoint = \"https://query.wikidata.org/sparql\"\n",
    "\n",
    "# Function to get Wikidata ID from NL CR AUT ID\n",
    "def get_wikidata_id(nl_cr_aut_id):\n",
    "    query = f\"\"\"\n",
    "    SELECT ?item WHERE {{\n",
    "      ?item wdt:P691 \"{nl_cr_aut_id}\".\n",
    "    }}\n",
    "    \"\"\"\n",
    "    headers = {\n",
    "        \"Accept\": \"application/sparql-results+json\",\n",
    "        \"User-Agent\": \"Mozilla/5.0 (Windows NT 10.0; Win64; x64) AppleWebKit/537.36 (KHTML, like Gecko) Chrome/58.0.3029.110 Safari/537.3\"\n",
    "    }\n",
    "    response = requests.get(sparql_endpoint, params={\"query\": query}, headers=headers)\n",
    "    data = response.json()\n",
    "\n",
    "    if \"results\" in data and \"bindings\" in data[\"results\"]:\n",
    "        bindings = data[\"results\"][\"bindings\"]\n",
    "        if bindings:\n",
    "            return bindings[0][\"item\"][\"value\"].split(\"/\")[-1]\n",
    "    return None"
   ]
  },
  {
   "cell_type": "code",
   "execution_count": 20,
   "id": "7da148fb-b58f-492c-aab6-3f4b63e0e877",
   "metadata": {},
   "outputs": [],
   "source": [
    "vyhledane = set(vyhledane)"
   ]
  },
  {
   "cell_type": "code",
   "execution_count": 21,
   "id": "5f853232-9c27-418b-9d6a-88c73e8da423",
   "metadata": {},
   "outputs": [],
   "source": [
    "co_stahovat = [x for x in chybi if x not in vyhledane]"
   ]
  },
  {
   "cell_type": "code",
   "execution_count": 22,
   "id": "ab5e3895-8762-471e-b079-6085dba8d61a",
   "metadata": {},
   "outputs": [
    {
     "data": {
      "text/plain": [
       "0"
      ]
     },
     "execution_count": 22,
     "metadata": {},
     "output_type": "execute_result"
    }
   ],
   "source": [
    "len(co_stahovat)"
   ]
  },
  {
   "cell_type": "code",
   "execution_count": 23,
   "id": "69f9c5d1-8a42-4e4c-aaaf-74b17e61bed8",
   "metadata": {},
   "outputs": [],
   "source": [
    "pocitadlo = 0\n",
    "for nl_cr_aut_id in co_stahovat:\n",
    "    pocitadlo += 1\n",
    "    print(f\"{pocitadlo:005}: {nl_cr_aut_id}\")\n",
    "    slovnik = {}\n",
    "    slovnik['100_7'] = nl_cr_aut_id\n",
    "    wikidata_id = get_wikidata_id(nl_cr_aut_id)\n",
    "    if wikidata_id:\n",
    "        slovnik['024_a'] = wikidata_id\n",
    "    else:\n",
    "        slovnik['024_a'] = \"\"\n",
    "    with open(os.path.join(kam, f\"{nl_cr_aut_id}_{slovnik['024_a']}.json\"), \"w+\", encoding=\"utf-8\") as file:\n",
    "        file.write(json.dumps(slovnik))"
   ]
  }
 ],
 "metadata": {
  "kernelspec": {
   "display_name": "Python 3 (ipykernel)",
   "language": "python",
   "name": "python3"
  },
  "language_info": {
   "codemirror_mode": {
    "name": "ipython",
    "version": 3
   },
   "file_extension": ".py",
   "mimetype": "text/x-python",
   "name": "python",
   "nbconvert_exporter": "python",
   "pygments_lexer": "ipython3",
   "version": "3.12.3"
  }
 },
 "nbformat": 4,
 "nbformat_minor": 5
}
