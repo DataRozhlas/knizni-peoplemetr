{
 "cells": [
  {
   "cell_type": "code",
   "execution_count": 12,
   "id": "2ab05efc-e18a-4aec-a22d-62dc8a85ce50",
   "metadata": {},
   "outputs": [],
   "source": [
    "import os\n",
    "import re\n",
    "import statistics\n",
    "from src.najdi_rok import najdi_rok\n",
    "import polars as pl"
   ]
  },
  {
   "cell_type": "code",
   "execution_count": 94,
   "id": "8fcf78a2-3047-4c19-8350-20fa665a290b",
   "metadata": {},
   "outputs": [],
   "source": [
    "def najdi_rok(nn8):\n",
    "    try:\n",
    "        if nn8[6] in ['s', 't', 'd', 'm', 'e', 'c','u', 'r']:\n",
    "            try:\n",
    "                return int(nn8[7:11])\n",
    "            except Exception as e:\n",
    "                return None\n",
    "            else:\n",
    "                return None\n",
    "        elif nn8[6] == 'q':\n",
    "            try:\n",
    "                rok1 = int(nn8[7:11])\n",
    "                rok2 = int(nn8[11:15])\n",
    "                if (len(str(rok2)) == 4) & (rok2 - rok1 <= 5):\n",
    "                    return int(statistics.median([rok1, rok2]))\n",
    "                else:\n",
    "                    return None\n",
    "            except:\n",
    "                return None\n",
    "        else:\n",
    "            return None\n",
    "    except:\n",
    "        pass"
   ]
  },
  {
   "cell_type": "code",
   "execution_count": 24,
   "id": "a81ca905-039f-4b03-990d-6c0373459c76",
   "metadata": {},
   "outputs": [],
   "source": [
    "df = pl.read_parquet(\"data/cnb_vyber.parquet\")"
   ]
  },
  {
   "cell_type": "code",
   "execution_count": 100,
   "id": "58509d89-0a05-446e-84a8-71eb9b426ca2",
   "metadata": {
    "scrolled": true
   },
   "outputs": [
    {
     "name": "stderr",
     "output_type": "stream",
     "text": [
      "C:\\Users\\micha\\AppData\\Local\\Temp\\ipykernel_18716\\2086843463.py:1: MapWithoutReturnDtypeWarning: Calling `map_elements` without specifying `return_dtype` can lead to unpredictable results. Specify `return_dtype` to silence this warning.\n",
      "  df = df.with_columns(pl.col(\"008\").map_elements(najdi_rok).alias(\"rok\"))\n"
     ]
    }
   ],
   "source": [
    "df = df.with_columns(pl.col(\"008\").map_elements(najdi_rok).alias(\"rok\"))"
   ]
  },
  {
   "cell_type": "code",
   "execution_count": 110,
   "id": "3e0b9169-8ff3-4664-85bd-c84a7110bea3",
   "metadata": {},
   "outputs": [
    {
     "ename": "ComputeError",
     "evalue": "The predicate passed to 'LazyFrame.filter' expanded to multiple expressions: \n\n\tcol(\"008\").str.contains([String(AIDS)]).any(),\n\tcol(\"020_a\").str.contains([String(AIDS)]).any(),\n\tcol(\"020_c\").str.contains([String(AIDS)]).any(),\n\tcol(\"020_q\").str.contains([String(AIDS)]).any(),\n\tcol(\"041_a\").str.contains([String(AIDS)]).any(),\t...\n\nThis is ambiguous. Try to combine the predicates with the 'all' or `any' expression.",
     "output_type": "error",
     "traceback": [
      "\u001b[1;31m---------------------------------------------------------------------------\u001b[0m",
      "\u001b[1;31mComputeError\u001b[0m                              Traceback (most recent call last)",
      "Cell \u001b[1;32mIn[110], line 1\u001b[0m\n\u001b[1;32m----> 1\u001b[0m filtered_df \u001b[38;5;241m=\u001b[39m df\u001b[38;5;241m.\u001b[39mfilter(pl\u001b[38;5;241m.\u001b[39mcol(\u001b[38;5;124m\"\u001b[39m\u001b[38;5;124m*\u001b[39m\u001b[38;5;124m\"\u001b[39m)\u001b[38;5;241m.\u001b[39mstr\u001b[38;5;241m.\u001b[39mcontains(\u001b[38;5;124m\"\u001b[39m\u001b[38;5;124mAIDS\u001b[39m\u001b[38;5;124m\"\u001b[39m)\u001b[38;5;241m.\u001b[39many())\n",
      "File \u001b[1;32m~\\anaconda3\\Lib\\site-packages\\polars\\dataframe\\frame.py:4713\u001b[0m, in \u001b[0;36mDataFrame.filter\u001b[1;34m(self, *predicates, **constraints)\u001b[0m\n\u001b[0;32m   4559\u001b[0m \u001b[38;5;28;01mdef\u001b[39;00m \u001b[38;5;21mfilter\u001b[39m(\n\u001b[0;32m   4560\u001b[0m     \u001b[38;5;28mself\u001b[39m,\n\u001b[0;32m   4561\u001b[0m     \u001b[38;5;241m*\u001b[39mpredicates: (\n\u001b[1;32m   (...)\u001b[0m\n\u001b[0;32m   4568\u001b[0m     \u001b[38;5;241m*\u001b[39m\u001b[38;5;241m*\u001b[39mconstraints: Any,\n\u001b[0;32m   4569\u001b[0m ) \u001b[38;5;241m-\u001b[39m\u001b[38;5;241m>\u001b[39m DataFrame:\n\u001b[0;32m   4570\u001b[0m \u001b[38;5;250m    \u001b[39m\u001b[38;5;124;03m\"\"\"\u001b[39;00m\n\u001b[0;32m   4571\u001b[0m \u001b[38;5;124;03m    Filter the rows in the DataFrame based on one or more predicate expressions.\u001b[39;00m\n\u001b[0;32m   4572\u001b[0m \n\u001b[1;32m   (...)\u001b[0m\n\u001b[0;32m   4711\u001b[0m \n\u001b[0;32m   4712\u001b[0m \u001b[38;5;124;03m    \"\"\"\u001b[39;00m\n\u001b[1;32m-> 4713\u001b[0m     \u001b[38;5;28;01mreturn\u001b[39;00m \u001b[38;5;28mself\u001b[39m\u001b[38;5;241m.\u001b[39mlazy()\u001b[38;5;241m.\u001b[39mfilter(\u001b[38;5;241m*\u001b[39mpredicates, \u001b[38;5;241m*\u001b[39m\u001b[38;5;241m*\u001b[39mconstraints)\u001b[38;5;241m.\u001b[39mcollect(_eager\u001b[38;5;241m=\u001b[39m\u001b[38;5;28;01mTrue\u001b[39;00m)\n",
      "File \u001b[1;32m~\\anaconda3\\Lib\\site-packages\\polars\\lazyframe\\frame.py:2032\u001b[0m, in \u001b[0;36mLazyFrame.collect\u001b[1;34m(self, type_coercion, predicate_pushdown, projection_pushdown, simplify_expression, slice_pushdown, comm_subplan_elim, comm_subexpr_elim, cluster_with_columns, no_optimization, streaming, engine, background, _eager, **_kwargs)\u001b[0m\n\u001b[0;32m   2030\u001b[0m \u001b[38;5;66;03m# Only for testing purposes\u001b[39;00m\n\u001b[0;32m   2031\u001b[0m callback \u001b[38;5;241m=\u001b[39m _kwargs\u001b[38;5;241m.\u001b[39mget(\u001b[38;5;124m\"\u001b[39m\u001b[38;5;124mpost_opt_callback\u001b[39m\u001b[38;5;124m\"\u001b[39m, callback)\n\u001b[1;32m-> 2032\u001b[0m \u001b[38;5;28;01mreturn\u001b[39;00m wrap_df(ldf\u001b[38;5;241m.\u001b[39mcollect(callback))\n",
      "\u001b[1;31mComputeError\u001b[0m: The predicate passed to 'LazyFrame.filter' expanded to multiple expressions: \n\n\tcol(\"008\").str.contains([String(AIDS)]).any(),\n\tcol(\"020_a\").str.contains([String(AIDS)]).any(),\n\tcol(\"020_c\").str.contains([String(AIDS)]).any(),\n\tcol(\"020_q\").str.contains([String(AIDS)]).any(),\n\tcol(\"041_a\").str.contains([String(AIDS)]).any(),\t...\n\nThis is ambiguous. Try to combine the predicates with the 'all' or `any' expression."
     ]
    }
   ],
   "source": [
    "filtered_df = df.filter(pl.col(\"*\").str.contains(\"AIDS\").any())"
   ]
  }
 ],
 "metadata": {
  "kernelspec": {
   "display_name": "Python 3 (ipykernel)",
   "language": "python",
   "name": "python3"
  },
  "language_info": {
   "codemirror_mode": {
    "name": "ipython",
    "version": 3
   },
   "file_extension": ".py",
   "mimetype": "text/x-python",
   "name": "python",
   "nbconvert_exporter": "python",
   "pygments_lexer": "ipython3",
   "version": "3.12.3"
  }
 },
 "nbformat": 4,
 "nbformat_minor": 5
}
