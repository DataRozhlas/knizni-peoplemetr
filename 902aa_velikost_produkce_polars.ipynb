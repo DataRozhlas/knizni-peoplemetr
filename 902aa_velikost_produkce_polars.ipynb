{
 "cells": [
  {
   "cell_type": "code",
   "execution_count": 149,
   "id": "f2e779a1-31ae-4ace-aaf1-110d8fd32679",
   "metadata": {},
   "outputs": [
    {
     "data": {
      "text/plain": [
       "DataTransformerRegistry.enable('default')"
      ]
     },
     "execution_count": 149,
     "metadata": {},
     "output_type": "execute_result"
    }
   ],
   "source": [
    "import re\n",
    "import os\n",
    "import json\n",
    "import statistics\n",
    "import datetime\n",
    "import warnings\n",
    "from src.najdi_rok import najdi_rok\n",
    "from src.pocet_stran import pocet_stran\n",
    "import polars as pl\n",
    "import altair as alt\n",
    "alt.data_transformers.disable_max_rows()"
   ]
  },
  {
   "cell_type": "code",
   "execution_count": 151,
   "id": "43054e96-2d00-4162-aa5f-24aee07fee04",
   "metadata": {},
   "outputs": [],
   "source": [
    "df = pl.read_parquet(os.path.join(\"data\",\"cnb_vyber.parquet\"))\n",
    "df = df.with_columns(pl.col('008').map_elements(najdi_rok, return_dtype=int).alias('rok'))\n",
    "df = df.with_columns(pl.col('300_a').map_elements(pocet_stran, return_dtype=int).alias('pocet_stran'))"
   ]
  },
  {
   "cell_type": "code",
   "execution_count": 155,
   "id": "fcbe3f44-602d-4479-907a-16ee5177dcb7",
   "metadata": {},
   "outputs": [
    {
     "data": {
      "text/html": [
       "<div><style>\n",
       ".dataframe > thead > tr,\n",
       ".dataframe > tbody > tr {\n",
       "  text-align: right;\n",
       "  white-space: pre-wrap;\n",
       "}\n",
       "</style>\n",
       "<small>shape: (123, 2)</small><table border=\"1\" class=\"dataframe\"><thead><tr><th>rok</th><th>knih</th></tr><tr><td>datetime[μs]</td><td>u32</td></tr></thead><tbody><tr><td>1901-01-01 00:00:00</td><td>1807</td></tr><tr><td>1902-01-01 00:00:00</td><td>2038</td></tr><tr><td>1903-01-01 00:00:00</td><td>1973</td></tr><tr><td>1904-01-01 00:00:00</td><td>1896</td></tr><tr><td>1905-01-01 00:00:00</td><td>1811</td></tr><tr><td>&hellip;</td><td>&hellip;</td></tr><tr><td>2019-01-01 00:00:00</td><td>13726</td></tr><tr><td>2020-01-01 00:00:00</td><td>12474</td></tr><tr><td>2021-01-01 00:00:00</td><td>12935</td></tr><tr><td>2022-01-01 00:00:00</td><td>13273</td></tr><tr><td>2023-01-01 00:00:00</td><td>11749</td></tr></tbody></table></div>"
      ],
      "text/plain": [
       "shape: (123, 2)\n",
       "┌─────────────────────┬───────┐\n",
       "│ rok                 ┆ knih  │\n",
       "│ ---                 ┆ ---   │\n",
       "│ datetime[μs]        ┆ u32   │\n",
       "╞═════════════════════╪═══════╡\n",
       "│ 1901-01-01 00:00:00 ┆ 1807  │\n",
       "│ 1902-01-01 00:00:00 ┆ 2038  │\n",
       "│ 1903-01-01 00:00:00 ┆ 1973  │\n",
       "│ 1904-01-01 00:00:00 ┆ 1896  │\n",
       "│ 1905-01-01 00:00:00 ┆ 1811  │\n",
       "│ …                   ┆ …     │\n",
       "│ 2019-01-01 00:00:00 ┆ 13726 │\n",
       "│ 2020-01-01 00:00:00 ┆ 12474 │\n",
       "│ 2021-01-01 00:00:00 ┆ 12935 │\n",
       "│ 2022-01-01 00:00:00 ┆ 13273 │\n",
       "│ 2023-01-01 00:00:00 ┆ 11749 │\n",
       "└─────────────────────┴───────┘"
      ]
     },
     "execution_count": 155,
     "metadata": {},
     "output_type": "execute_result"
    }
   ],
   "source": [
    "rocni_pocty = df.filter(pl.col('rok').is_between(1901, 2023)).group_by('rok').len().sort('rok').rename({'len':'knih'}).with_columns(pl.col(\"rok\").map_elements(lambda x: datetime.date(year=int(x), month=1, day=1), return_dtype=pl.Date).cast(pl.Datetime))\n",
    "rocni_pocty"
   ]
  },
  {
   "cell_type": "code",
   "execution_count": 165,
   "id": "595832aa-6725-4f08-9d7c-f5364bddea58",
   "metadata": {},
   "outputs": [
    {
     "data": {
      "text/html": [
       "<div><style>\n",
       ".dataframe > thead > tr,\n",
       ".dataframe > tbody > tr {\n",
       "  text-align: right;\n",
       "  white-space: pre-wrap;\n",
       "}\n",
       "</style>\n",
       "<small>shape: (123, 2)</small><table border=\"1\" class=\"dataframe\"><thead><tr><th>rok</th><th>stran</th></tr><tr><td>datetime[μs]</td><td>i64</td></tr></thead><tbody><tr><td>1901-01-01 00:00:00</td><td>223084</td></tr><tr><td>1902-01-01 00:00:00</td><td>274893</td></tr><tr><td>1903-01-01 00:00:00</td><td>235235</td></tr><tr><td>1904-01-01 00:00:00</td><td>218549</td></tr><tr><td>1905-01-01 00:00:00</td><td>223786</td></tr><tr><td>&hellip;</td><td>&hellip;</td></tr><tr><td>2019-01-01 00:00:00</td><td>2631646</td></tr><tr><td>2020-01-01 00:00:00</td><td>2399513</td></tr><tr><td>2021-01-01 00:00:00</td><td>2504423</td></tr><tr><td>2022-01-01 00:00:00</td><td>2619319</td></tr><tr><td>2023-01-01 00:00:00</td><td>2347541</td></tr></tbody></table></div>"
      ],
      "text/plain": [
       "shape: (123, 2)\n",
       "┌─────────────────────┬─────────┐\n",
       "│ rok                 ┆ stran   │\n",
       "│ ---                 ┆ ---     │\n",
       "│ datetime[μs]        ┆ i64     │\n",
       "╞═════════════════════╪═════════╡\n",
       "│ 1901-01-01 00:00:00 ┆ 223084  │\n",
       "│ 1902-01-01 00:00:00 ┆ 274893  │\n",
       "│ 1903-01-01 00:00:00 ┆ 235235  │\n",
       "│ 1904-01-01 00:00:00 ┆ 218549  │\n",
       "│ 1905-01-01 00:00:00 ┆ 223786  │\n",
       "│ …                   ┆ …       │\n",
       "│ 2019-01-01 00:00:00 ┆ 2631646 │\n",
       "│ 2020-01-01 00:00:00 ┆ 2399513 │\n",
       "│ 2021-01-01 00:00:00 ┆ 2504423 │\n",
       "│ 2022-01-01 00:00:00 ┆ 2619319 │\n",
       "│ 2023-01-01 00:00:00 ┆ 2347541 │\n",
       "└─────────────────────┴─────────┘"
      ]
     },
     "execution_count": 165,
     "metadata": {},
     "output_type": "execute_result"
    }
   ],
   "source": [
    "rocni_strany = df.filter(pl.col('rok').is_between(1901, 2023)).group_by('rok').agg(pl.col(\"pocet_stran\").sum()).sort('rok').rename({'pocet_stran':'stran'}).with_columns(pl.col(\"rok\").map_elements(lambda x: datetime.date(year=int(x), month=1, day=1), return_dtype=pl.Date).cast(pl.Datetime))\n",
    "rocni_strany"
   ]
  },
  {
   "cell_type": "code",
   "execution_count": 285,
   "id": "a36f9f78-0c99-442c-9dea-4c5570d9ac50",
   "metadata": {},
   "outputs": [],
   "source": [
    "novinky = df.filter(pl.col('rok').is_between(1901, 2023)).filter(pl.col('pocet_stran') >= 50).sort('rok').unique(subset=[\"245_a\",\"100_a\"])\n",
    "novinky = novinky.group_by('rok').len().with_columns(pl.col(\"rok\").map_elements(lambda x: datetime.date(year=int(x), month=1, day=1), return_dtype=pl.Date).cast(pl.Datetime))\n",
    "novinky = novinky.sort('rok').rename({'len':'novinky'})"
   ]
  },
  {
   "cell_type": "code",
   "execution_count": 707,
   "id": "0fcb9042-921d-425e-9192-f595ccb907ec",
   "metadata": {},
   "outputs": [
    {
     "data": {
      "text/html": [
       "<div><style>\n",
       ".dataframe > thead > tr,\n",
       ".dataframe > tbody > tr {\n",
       "  text-align: right;\n",
       "  white-space: pre-wrap;\n",
       "}\n",
       "</style>\n",
       "<small>shape: (123, 2)</small><table border=\"1\" class=\"dataframe\"><thead><tr><th>rok</th><th>originaly</th></tr><tr><td>i64</td><td>u32</td></tr></thead><tbody><tr><td>1901</td><td>275</td></tr><tr><td>1902</td><td>314</td></tr><tr><td>1903</td><td>305</td></tr><tr><td>1904</td><td>301</td></tr><tr><td>1905</td><td>308</td></tr><tr><td>&hellip;</td><td>&hellip;</td></tr><tr><td>2019</td><td>5112</td></tr><tr><td>2020</td><td>4525</td></tr><tr><td>2021</td><td>4465</td></tr><tr><td>2022</td><td>4672</td></tr><tr><td>2023</td><td>4111</td></tr></tbody></table></div>"
      ],
      "text/plain": [
       "shape: (123, 2)\n",
       "┌──────┬───────────┐\n",
       "│ rok  ┆ originaly │\n",
       "│ ---  ┆ ---       │\n",
       "│ i64  ┆ u32       │\n",
       "╞══════╪═══════════╡\n",
       "│ 1901 ┆ 275       │\n",
       "│ 1902 ┆ 314       │\n",
       "│ 1903 ┆ 305       │\n",
       "│ 1904 ┆ 301       │\n",
       "│ 1905 ┆ 308       │\n",
       "│ …    ┆ …         │\n",
       "│ 2019 ┆ 5112      │\n",
       "│ 2020 ┆ 4525      │\n",
       "│ 2021 ┆ 4465      │\n",
       "│ 2022 ┆ 4672      │\n",
       "│ 2023 ┆ 4111      │\n",
       "└──────┴───────────┘"
      ]
     },
     "execution_count": 707,
     "metadata": {},
     "output_type": "execute_result"
    }
   ],
   "source": [
    "puvodni = df.filter(pl.col('rok').is_between(1901, 2023)).explode('041_a').filter(pl.col('041_a') == 'cze').group_by('rok').agg(pl.col('008').unique().len()).rename({'008':'originaly'}).sort('rok')\n",
    "puvodni"
   ]
  },
  {
   "cell_type": "code",
   "execution_count": 709,
   "id": "9cd3762c-e138-47ab-b5b9-77900e0854bc",
   "metadata": {},
   "outputs": [
    {
     "data": {
      "text/html": [
       "<div><style>\n",
       ".dataframe > thead > tr,\n",
       ".dataframe > tbody > tr {\n",
       "  text-align: right;\n",
       "  white-space: pre-wrap;\n",
       "}\n",
       "</style>\n",
       "<small>shape: (123, 2)</small><table border=\"1\" class=\"dataframe\"><thead><tr><th>rok</th><th>preklady</th></tr><tr><td>i64</td><td>u32</td></tr></thead><tbody><tr><td>1901</td><td>34</td></tr><tr><td>1902</td><td>54</td></tr><tr><td>1903</td><td>55</td></tr><tr><td>1904</td><td>48</td></tr><tr><td>1905</td><td>42</td></tr><tr><td>&hellip;</td><td>&hellip;</td></tr><tr><td>2019</td><td>739</td></tr><tr><td>2020</td><td>614</td></tr><tr><td>2021</td><td>678</td></tr><tr><td>2022</td><td>671</td></tr><tr><td>2023</td><td>579</td></tr></tbody></table></div>"
      ],
      "text/plain": [
       "shape: (123, 2)\n",
       "┌──────┬──────────┐\n",
       "│ rok  ┆ preklady │\n",
       "│ ---  ┆ ---      │\n",
       "│ i64  ┆ u32      │\n",
       "╞══════╪══════════╡\n",
       "│ 1901 ┆ 34       │\n",
       "│ 1902 ┆ 54       │\n",
       "│ 1903 ┆ 55       │\n",
       "│ 1904 ┆ 48       │\n",
       "│ 1905 ┆ 42       │\n",
       "│ …    ┆ …        │\n",
       "│ 2019 ┆ 739      │\n",
       "│ 2020 ┆ 614      │\n",
       "│ 2021 ┆ 678      │\n",
       "│ 2022 ┆ 671      │\n",
       "│ 2023 ┆ 579      │\n",
       "└──────┴──────────┘"
      ]
     },
     "execution_count": 709,
     "metadata": {},
     "output_type": "execute_result"
    }
   ],
   "source": [
    "nepuvodni = df.filter(pl.col('rok').is_between(1901, 2023)).explode('041_a').filter(pl.col('041_a') != 'cze').group_by('rok').agg(pl.col('008').unique().len()).rename({'008':'preklady'}).sort('rok')\n",
    "nepuvodni"
   ]
  },
  {
   "cell_type": "code",
   "execution_count": 721,
   "id": "d4ad01df-b7e2-4c84-a2c4-938970425382",
   "metadata": {},
   "outputs": [
    {
     "data": {
      "text/html": [
       "<div><style>\n",
       ".dataframe > thead > tr,\n",
       ".dataframe > tbody > tr {\n",
       "  text-align: right;\n",
       "  white-space: pre-wrap;\n",
       "}\n",
       "</style>\n",
       "<small>shape: (123, 2)</small><table border=\"1\" class=\"dataframe\"><thead><tr><th>rok</th><th>podíl překladů</th></tr><tr><td>datetime[μs]</td><td>f64</td></tr></thead><tbody><tr><td>1901-01-01 00:00:00</td><td>0.110032</td></tr><tr><td>1902-01-01 00:00:00</td><td>0.146739</td></tr><tr><td>1903-01-01 00:00:00</td><td>0.152778</td></tr><tr><td>1904-01-01 00:00:00</td><td>0.137536</td></tr><tr><td>1905-01-01 00:00:00</td><td>0.12</td></tr><tr><td>&hellip;</td><td>&hellip;</td></tr><tr><td>2019-01-01 00:00:00</td><td>0.126303</td></tr><tr><td>2020-01-01 00:00:00</td><td>0.119478</td></tr><tr><td>2021-01-01 00:00:00</td><td>0.13183</td></tr><tr><td>2022-01-01 00:00:00</td><td>0.125585</td></tr><tr><td>2023-01-01 00:00:00</td><td>0.123454</td></tr></tbody></table></div>"
      ],
      "text/plain": [
       "shape: (123, 2)\n",
       "┌─────────────────────┬────────────────┐\n",
       "│ rok                 ┆ podíl překladů │\n",
       "│ ---                 ┆ ---            │\n",
       "│ datetime[μs]        ┆ f64            │\n",
       "╞═════════════════════╪════════════════╡\n",
       "│ 1901-01-01 00:00:00 ┆ 0.110032       │\n",
       "│ 1902-01-01 00:00:00 ┆ 0.146739       │\n",
       "│ 1903-01-01 00:00:00 ┆ 0.152778       │\n",
       "│ 1904-01-01 00:00:00 ┆ 0.137536       │\n",
       "│ 1905-01-01 00:00:00 ┆ 0.12           │\n",
       "│ …                   ┆ …              │\n",
       "│ 2019-01-01 00:00:00 ┆ 0.126303       │\n",
       "│ 2020-01-01 00:00:00 ┆ 0.119478       │\n",
       "│ 2021-01-01 00:00:00 ┆ 0.13183        │\n",
       "│ 2022-01-01 00:00:00 ┆ 0.125585       │\n",
       "│ 2023-01-01 00:00:00 ┆ 0.123454       │\n",
       "└─────────────────────┴────────────────┘"
      ]
     },
     "execution_count": 721,
     "metadata": {},
     "output_type": "execute_result"
    }
   ],
   "source": [
    "preklady = puvodni.join(nepuvodni, on='rok', how='left')\n",
    "preklady = preklady.with_columns((pl.col('originaly') + pl.col('preklady')).alias('celkem'))\n",
    "preklady = preklady.with_columns((pl.col('preklady') / pl.col('celkem')).alias('podíl překladů'))\n",
    "preklady = preklady.select(pl.col(['rok','podíl překladů']))\n",
    "preklady = preklady.with_columns(pl.col(\"rok\").map_elements(lambda x: datetime.date(year=int(x), month=1, day=1), return_dtype=pl.Date).cast(pl.Datetime))\n",
    "preklady"
   ]
  },
  {
   "cell_type": "code",
   "execution_count": 727,
   "id": "fcfe3b93-e4e6-4d65-946a-9d5c8100eb2f",
   "metadata": {},
   "outputs": [
    {
     "name": "stderr",
     "output_type": "stream",
     "text": [
      "C:\\Users\\micha\\AppData\\Local\\Temp\\ipykernel_18080\\4164877985.py:5: DeprecationWarning: `DataFrame.melt` is deprecated. Use `unpivot` instead, with `index` instead of `id_vars` and `on` instead of `value_vars`\n",
      "  do_grafu = do_grafu.melt(id_vars=\"rok\", value_vars=['knih','stran','let čtení','novinky','podíl překladů'])\n"
     ]
    },
    {
     "data": {
      "text/html": [
       "<div><style>\n",
       ".dataframe > thead > tr,\n",
       ".dataframe > tbody > tr {\n",
       "  text-align: right;\n",
       "  white-space: pre-wrap;\n",
       "}\n",
       "</style>\n",
       "<small>shape: (369, 3)</small><table border=\"1\" class=\"dataframe\"><thead><tr><th>rok</th><th>variable</th><th>value</th></tr><tr><td>datetime[μs]</td><td>str</td><td>f64</td></tr></thead><tbody><tr><td>1901-01-01 00:00:00</td><td>&quot;všechny publikace&quot;</td><td>1807.0</td></tr><tr><td>1902-01-01 00:00:00</td><td>&quot;všechny publikace&quot;</td><td>2038.0</td></tr><tr><td>1903-01-01 00:00:00</td><td>&quot;všechny publikace&quot;</td><td>1973.0</td></tr><tr><td>1904-01-01 00:00:00</td><td>&quot;všechny publikace&quot;</td><td>1896.0</td></tr><tr><td>1905-01-01 00:00:00</td><td>&quot;všechny publikace&quot;</td><td>1811.0</td></tr><tr><td>&hellip;</td><td>&hellip;</td><td>&hellip;</td></tr><tr><td>2019-01-01 00:00:00</td><td>&quot;podíl překladů&quot;</td><td>0.126303</td></tr><tr><td>2020-01-01 00:00:00</td><td>&quot;podíl překladů&quot;</td><td>0.119478</td></tr><tr><td>2021-01-01 00:00:00</td><td>&quot;podíl překladů&quot;</td><td>0.13183</td></tr><tr><td>2022-01-01 00:00:00</td><td>&quot;podíl překladů&quot;</td><td>0.125585</td></tr><tr><td>2023-01-01 00:00:00</td><td>&quot;podíl překladů&quot;</td><td>0.123454</td></tr></tbody></table></div>"
      ],
      "text/plain": [
       "shape: (369, 3)\n",
       "┌─────────────────────┬───────────────────┬──────────┐\n",
       "│ rok                 ┆ variable          ┆ value    │\n",
       "│ ---                 ┆ ---               ┆ ---      │\n",
       "│ datetime[μs]        ┆ str               ┆ f64      │\n",
       "╞═════════════════════╪═══════════════════╪══════════╡\n",
       "│ 1901-01-01 00:00:00 ┆ všechny publikace ┆ 1807.0   │\n",
       "│ 1902-01-01 00:00:00 ┆ všechny publikace ┆ 2038.0   │\n",
       "│ 1903-01-01 00:00:00 ┆ všechny publikace ┆ 1973.0   │\n",
       "│ 1904-01-01 00:00:00 ┆ všechny publikace ┆ 1896.0   │\n",
       "│ 1905-01-01 00:00:00 ┆ všechny publikace ┆ 1811.0   │\n",
       "│ …                   ┆ …                 ┆ …        │\n",
       "│ 2019-01-01 00:00:00 ┆ podíl překladů    ┆ 0.126303 │\n",
       "│ 2020-01-01 00:00:00 ┆ podíl překladů    ┆ 0.119478 │\n",
       "│ 2021-01-01 00:00:00 ┆ podíl překladů    ┆ 0.13183  │\n",
       "│ 2022-01-01 00:00:00 ┆ podíl překladů    ┆ 0.125585 │\n",
       "│ 2023-01-01 00:00:00 ┆ podíl překladů    ┆ 0.123454 │\n",
       "└─────────────────────┴───────────────────┴──────────┘"
      ]
     },
     "execution_count": 727,
     "metadata": {},
     "output_type": "execute_result"
    }
   ],
   "source": [
    "do_grafu = rocni_pocty.join(rocni_strany, on=\"rok\", how=\"left\")\n",
    "do_grafu = do_grafu.join(novinky, on=\"rok\", how=\"left\")\n",
    "do_grafu = do_grafu.with_columns((pl.col(\"stran\") / (60 * 8 * 365.25)).alias(\"let čtení\"))\n",
    "do_grafu = do_grafu.join(preklady, on='rok', how='left')\n",
    "do_grafu = do_grafu.melt(id_vars=\"rok\", value_vars=['knih','stran','let čtení','novinky','podíl překladů'])\n",
    "do_grafu = do_grafu.filter(pl.col('variable').is_in(['knih','novinky','podíl překladů']))\n",
    "do_grafu = do_grafu.with_columns(pl.col('variable').replace_strict({'knih': 'všechny publikace', 'novinky': 'novinky nad 50 stran', 'podíl překladů':'podíl překladů'}))\n",
    "do_grafu"
   ]
  },
  {
   "cell_type": "code",
   "execution_count": 729,
   "id": "6e4d13f3-49e5-4539-bf79-be72e570c778",
   "metadata": {},
   "outputs": [
    {
     "data": {
      "text/html": [
       "<div><style>\n",
       ".dataframe > thead > tr,\n",
       ".dataframe > tbody > tr {\n",
       "  text-align: right;\n",
       "  white-space: pre-wrap;\n",
       "}\n",
       "</style>\n",
       "<small>shape: (369, 3)</small><table border=\"1\" class=\"dataframe\"><thead><tr><th>rok</th><th>variable</th><th>value</th></tr><tr><td>datetime[μs]</td><td>str</td><td>f64</td></tr></thead><tbody><tr><td>1901-01-01 00:00:00</td><td>&quot;všechny publikace&quot;</td><td>1807.0</td></tr><tr><td>1902-01-01 00:00:00</td><td>&quot;všechny publikace&quot;</td><td>2038.0</td></tr><tr><td>1903-01-01 00:00:00</td><td>&quot;všechny publikace&quot;</td><td>1973.0</td></tr><tr><td>1904-01-01 00:00:00</td><td>&quot;všechny publikace&quot;</td><td>1896.0</td></tr><tr><td>1905-01-01 00:00:00</td><td>&quot;všechny publikace&quot;</td><td>1811.0</td></tr><tr><td>&hellip;</td><td>&hellip;</td><td>&hellip;</td></tr><tr><td>2019-01-01 00:00:00</td><td>&quot;podíl překladů&quot;</td><td>0.126303</td></tr><tr><td>2020-01-01 00:00:00</td><td>&quot;podíl překladů&quot;</td><td>0.119478</td></tr><tr><td>2021-01-01 00:00:00</td><td>&quot;podíl překladů&quot;</td><td>0.13183</td></tr><tr><td>2022-01-01 00:00:00</td><td>&quot;podíl překladů&quot;</td><td>0.125585</td></tr><tr><td>2023-01-01 00:00:00</td><td>&quot;podíl překladů&quot;</td><td>0.123454</td></tr></tbody></table></div>"
      ],
      "text/plain": [
       "shape: (369, 3)\n",
       "┌─────────────────────┬───────────────────┬──────────┐\n",
       "│ rok                 ┆ variable          ┆ value    │\n",
       "│ ---                 ┆ ---               ┆ ---      │\n",
       "│ datetime[μs]        ┆ str               ┆ f64      │\n",
       "╞═════════════════════╪═══════════════════╪══════════╡\n",
       "│ 1901-01-01 00:00:00 ┆ všechny publikace ┆ 1807.0   │\n",
       "│ 1902-01-01 00:00:00 ┆ všechny publikace ┆ 2038.0   │\n",
       "│ 1903-01-01 00:00:00 ┆ všechny publikace ┆ 1973.0   │\n",
       "│ 1904-01-01 00:00:00 ┆ všechny publikace ┆ 1896.0   │\n",
       "│ 1905-01-01 00:00:00 ┆ všechny publikace ┆ 1811.0   │\n",
       "│ …                   ┆ …                 ┆ …        │\n",
       "│ 2019-01-01 00:00:00 ┆ podíl překladů    ┆ 0.126303 │\n",
       "│ 2020-01-01 00:00:00 ┆ podíl překladů    ┆ 0.119478 │\n",
       "│ 2021-01-01 00:00:00 ┆ podíl překladů    ┆ 0.13183  │\n",
       "│ 2022-01-01 00:00:00 ┆ podíl překladů    ┆ 0.125585 │\n",
       "│ 2023-01-01 00:00:00 ┆ podíl překladů    ┆ 0.123454 │\n",
       "└─────────────────────┴───────────────────┴──────────┘"
      ]
     },
     "execution_count": 729,
     "metadata": {},
     "output_type": "execute_result"
    }
   ],
   "source": [
    "do_grafu"
   ]
  },
  {
   "cell_type": "code",
   "execution_count": 739,
   "id": "970bb20b-628b-4018-9cc5-7a1e6cbf608c",
   "metadata": {},
   "outputs": [
    {
     "data": {
      "text/plain": [
       "ThemeRegistry.enable('irozhlas')"
      ]
     },
     "execution_count": 739,
     "metadata": {},
     "output_type": "execute_result"
    }
   ],
   "source": [
    "def irozhlas_conf():\n",
    "\n",
    "    return {\n",
    "        \"config\" : {\n",
    "             \"title\": {'font': \"Noticia Text\",\n",
    "                      'fontSize': 14,\n",
    "                      'anchor': 'start',\n",
    "                       'fontWeight': 'bolder',\n",
    "                    'subtitleFont': 'Noticia Text',\n",
    "                       'subtitleLineHeight': 18,\n",
    "                      'subtitleFontSize': 12,\n",
    "                       'subtitleFontWeight': 'normal',\n",
    "                      'subtitlePadding': 10,\n",
    "                       'dy': -12,\n",
    "                      },\n",
    "             \"axis\": {\n",
    "                \"labelFont\": \"Asap\",\n",
    "                \"titleFont\": \"Asap\",\n",
    "                 \"fontWeight\": \"lighter\",\n",
    "                \"titleFontWeight\": \"lighter\",\n",
    "                \"labelFontSize\": 10,\n",
    "                \"titleFontSize\": 10,\n",
    "                'labelPadding': 2,\n",
    "                 'titlePadding': 10\n",
    "            },\n",
    "            \"legend\": {\n",
    "                \"labelFont\": \"Asap\",\n",
    "                \"labelFontWeight\": \"normal\",\n",
    "                \"titleFont\": \"Asap\",\n",
    "                \"titleFontWeight\": \"normal\",\n",
    "                \"labelFontSize\": 10,\n",
    "                \"titleFontSize\": 10\n",
    "            }\n",
    "        }\n",
    "    }\n",
    "\n",
    "alt.themes.register('irozhlas', irozhlas_conf)\n",
    "alt.themes.enable('irozhlas')"
   ]
  },
  {
   "cell_type": "code",
   "execution_count": 351,
   "id": "8c2c8b7f-1f2e-4f39-8962-fe235c86d439",
   "metadata": {},
   "outputs": [],
   "source": [
    "titulek = \"Vývoj knižní produkce na českém území\"\n",
    "podtitulek = [\"Celkové počty záznamů v České národní bibliografii.\",\"Vedle klasických knih může jít i o katalogy výstav apod.\"] #,\"Angličtina a francouzština (téměř) zmizely jen během 2. světové války,\",\"kdy dominovaly překlady z němčiny. Po osvobození raketově narostl podíl ruštiny.\"]\n",
    "kredit = \"zdroj dat: Česká národní bibliografie · vizualizace: iROZHLAS.cz · 2025\""
   ]
  },
  {
   "cell_type": "code",
   "execution_count": 741,
   "id": "87a01513-420e-4f7f-a412-5064fe6be717",
   "metadata": {},
   "outputs": [
    {
     "data": {
      "text/html": [
       "\n",
       "<style>\n",
       "  #altair-viz-4b136829691d486cb2d4b8ef21c7eb85.vega-embed {\n",
       "    width: 100%;\n",
       "    display: flex;\n",
       "  }\n",
       "\n",
       "  #altair-viz-4b136829691d486cb2d4b8ef21c7eb85.vega-embed details,\n",
       "  #altair-viz-4b136829691d486cb2d4b8ef21c7eb85.vega-embed details summary {\n",
       "    position: relative;\n",
       "  }\n",
       "</style>\n",
       "<div id=\"altair-viz-4b136829691d486cb2d4b8ef21c7eb85\"></div>\n",
       "<script type=\"text/javascript\">\n",
       "  var VEGA_DEBUG = (typeof VEGA_DEBUG == \"undefined\") ? {} : VEGA_DEBUG;\n",
       "  (function(spec, embedOpt){\n",
       "    let outputDiv = document.currentScript.previousElementSibling;\n",
       "    if (outputDiv.id !== \"altair-viz-4b136829691d486cb2d4b8ef21c7eb85\") {\n",
       "      outputDiv = document.getElementById(\"altair-viz-4b136829691d486cb2d4b8ef21c7eb85\");\n",
       "    }\n",
       "    const paths = {\n",
       "      \"vega\": \"https://cdn.jsdelivr.net/npm/vega@5?noext\",\n",
       "      \"vega-lib\": \"https://cdn.jsdelivr.net/npm/vega-lib?noext\",\n",
       "      \"vega-lite\": \"https://cdn.jsdelivr.net/npm/vega-lite@5.8.0?noext\",\n",
       "      \"vega-embed\": \"https://cdn.jsdelivr.net/npm/vega-embed@6?noext\",\n",
       "    };\n",
       "\n",
       "    function maybeLoadScript(lib, version) {\n",
       "      var key = `${lib.replace(\"-\", \"\")}_version`;\n",
       "      return (VEGA_DEBUG[key] == version) ?\n",
       "        Promise.resolve(paths[lib]) :\n",
       "        new Promise(function(resolve, reject) {\n",
       "          var s = document.createElement('script');\n",
       "          document.getElementsByTagName(\"head\")[0].appendChild(s);\n",
       "          s.async = true;\n",
       "          s.onload = () => {\n",
       "            VEGA_DEBUG[key] = version;\n",
       "            return resolve(paths[lib]);\n",
       "          };\n",
       "          s.onerror = () => reject(`Error loading script: ${paths[lib]}`);\n",
       "          s.src = paths[lib];\n",
       "        });\n",
       "    }\n",
       "\n",
       "    function showError(err) {\n",
       "      outputDiv.innerHTML = `<div class=\"error\" style=\"color:red;\">${err}</div>`;\n",
       "      throw err;\n",
       "    }\n",
       "\n",
       "    function displayChart(vegaEmbed) {\n",
       "      vegaEmbed(outputDiv, spec, embedOpt)\n",
       "        .catch(err => showError(`Javascript Error: ${err.message}<br>This usually means there's a typo in your chart specification. See the javascript console for the full traceback.`));\n",
       "    }\n",
       "\n",
       "    if(typeof define === \"function\" && define.amd) {\n",
       "      requirejs.config({paths});\n",
       "      require([\"vega-embed\"], displayChart, err => showError(`Error loading script: ${err.message}`));\n",
       "    } else {\n",
       "      maybeLoadScript(\"vega\", \"5\")\n",
       "        .then(() => maybeLoadScript(\"vega-lite\", \"5.8.0\"))\n",
       "        .then(() => maybeLoadScript(\"vega-embed\", \"6\"))\n",
       "        .catch(showError)\n",
       "        .then(() => displayChart(vegaEmbed));\n",
       "    }\n",
       "  })({\"config\": {\"title\": {\"font\": \"Noticia Text\", \"fontSize\": 14, \"anchor\": \"start\", \"fontWeight\": \"bolder\", \"subtitleFont\": \"Noticia Text\", \"subtitleLineHeight\": 18, \"subtitleFontSize\": 12, \"subtitleFontWeight\": \"normal\", \"subtitlePadding\": 10, \"dy\": -12}, \"axis\": {\"labelFont\": \"Asap\", \"titleFont\": \"Asap\", \"fontWeight\": \"lighter\", \"titleFontWeight\": \"lighter\", \"labelFontSize\": 10, \"titleFontSize\": 10, \"labelPadding\": 2, \"titlePadding\": 10}, \"legend\": {\"labelFont\": \"Asap\", \"labelFontWeight\": \"normal\", \"titleFont\": \"Asap\", \"titleFontWeight\": \"normal\", \"labelFontSize\": 10, \"titleFontSize\": 10}}, \"data\": {\"name\": \"data-39f582e78b98d8f9fe28fefeda4048f3\"}, \"mark\": {\"type\": \"bar\", \"color\": \"#7CA6E1\"}, \"encoding\": {\"color\": {\"condition\": {\"test\": \"datum.knih > 15000\", \"value\": \"#84c0e4\"}, \"value\": \"#687fa9\"}, \"x\": {\"axis\": {\"domainOpacity\": 0, \"tickColor\": \"#DCDDD6\"}, \"field\": \"rok\", \"title\": null, \"type\": \"temporal\"}, \"y\": {\"axis\": {\"domainOpacity\": 0, \"tickColor\": \"#DCDDD6\"}, \"field\": \"knih\", \"title\": null, \"type\": \"quantitative\"}}, \"height\": 200, \"title\": {\"text\": \"V\\u00fdvoj kni\\u017en\\u00ed produkce na \\u010desk\\u00e9m \\u00fazem\\u00ed\", \"subtitle\": [\"Celkov\\u00e9 po\\u010dty z\\u00e1znam\\u016f v \\u010cesk\\u00e9 n\\u00e1rodn\\u00ed bibliografii.\", \"Vedle klasick\\u00fdch knih m\\u016f\\u017ee j\\u00edt i o katalogy v\\u00fdstav apod.\"]}, \"width\": 400, \"$schema\": \"https://vega.github.io/schema/vega-lite/v5.8.0.json\", \"datasets\": {\"data-39f582e78b98d8f9fe28fefeda4048f3\": [{\"rok\": \"1901-01-01T00:00:00\", \"knih\": 1807}, {\"rok\": \"1902-01-01T00:00:00\", \"knih\": 2038}, {\"rok\": \"1903-01-01T00:00:00\", \"knih\": 1973}, {\"rok\": \"1904-01-01T00:00:00\", \"knih\": 1896}, {\"rok\": \"1905-01-01T00:00:00\", \"knih\": 1811}, {\"rok\": \"1906-01-01T00:00:00\", \"knih\": 2239}, {\"rok\": \"1907-01-01T00:00:00\", \"knih\": 2076}, {\"rok\": \"1908-01-01T00:00:00\", \"knih\": 2342}, {\"rok\": \"1909-01-01T00:00:00\", \"knih\": 2247}, {\"rok\": \"1910-01-01T00:00:00\", \"knih\": 2546}, {\"rok\": \"1911-01-01T00:00:00\", \"knih\": 2474}, {\"rok\": \"1912-01-01T00:00:00\", \"knih\": 2593}, {\"rok\": \"1913-01-01T00:00:00\", \"knih\": 2688}, {\"rok\": \"1914-01-01T00:00:00\", \"knih\": 2034}, {\"rok\": \"1915-01-01T00:00:00\", \"knih\": 1394}, {\"rok\": \"1916-01-01T00:00:00\", \"knih\": 1509}, {\"rok\": \"1917-01-01T00:00:00\", \"knih\": 1573}, {\"rok\": \"1918-01-01T00:00:00\", \"knih\": 1906}, {\"rok\": \"1919-01-01T00:00:00\", \"knih\": 3423}, {\"rok\": \"1920-01-01T00:00:00\", \"knih\": 4301}, {\"rok\": \"1921-01-01T00:00:00\", \"knih\": 3797}, {\"rok\": \"1922-01-01T00:00:00\", \"knih\": 4231}, {\"rok\": \"1923-01-01T00:00:00\", \"knih\": 4229}, {\"rok\": \"1924-01-01T00:00:00\", \"knih\": 4689}, {\"rok\": \"1925-01-01T00:00:00\", \"knih\": 5261}, {\"rok\": \"1926-01-01T00:00:00\", \"knih\": 4852}, {\"rok\": \"1927-01-01T00:00:00\", \"knih\": 4680}, {\"rok\": \"1928-01-01T00:00:00\", \"knih\": 4945}, {\"rok\": \"1929-01-01T00:00:00\", \"knih\": 4864}, {\"rok\": \"1930-01-01T00:00:00\", \"knih\": 5527}, {\"rok\": \"1931-01-01T00:00:00\", \"knih\": 4978}, {\"rok\": \"1932-01-01T00:00:00\", \"knih\": 4630}, {\"rok\": \"1933-01-01T00:00:00\", \"knih\": 4628}, {\"rok\": \"1934-01-01T00:00:00\", \"knih\": 4870}, {\"rok\": \"1935-01-01T00:00:00\", \"knih\": 5469}, {\"rok\": \"1936-01-01T00:00:00\", \"knih\": 6438}, {\"rok\": \"1937-01-01T00:00:00\", \"knih\": 6467}, {\"rok\": \"1938-01-01T00:00:00\", \"knih\": 5611}, {\"rok\": \"1939-01-01T00:00:00\", \"knih\": 4207}, {\"rok\": \"1940-01-01T00:00:00\", \"knih\": 5558}, {\"rok\": \"1941-01-01T00:00:00\", \"knih\": 5265}, {\"rok\": \"1942-01-01T00:00:00\", \"knih\": 2705}, {\"rok\": \"1943-01-01T00:00:00\", \"knih\": 2079}, {\"rok\": \"1944-01-01T00:00:00\", \"knih\": 2462}, {\"rok\": \"1945-01-01T00:00:00\", \"knih\": 3084}, {\"rok\": \"1946-01-01T00:00:00\", \"knih\": 6052}, {\"rok\": \"1947-01-01T00:00:00\", \"knih\": 6490}, {\"rok\": \"1948-01-01T00:00:00\", \"knih\": 5381}, {\"rok\": \"1949-01-01T00:00:00\", \"knih\": 3973}, {\"rok\": \"1950-01-01T00:00:00\", \"knih\": 4030}, {\"rok\": \"1951-01-01T00:00:00\", \"knih\": 4555}, {\"rok\": \"1952-01-01T00:00:00\", \"knih\": 4399}, {\"rok\": \"1953-01-01T00:00:00\", \"knih\": 5005}, {\"rok\": \"1954-01-01T00:00:00\", \"knih\": 5357}, {\"rok\": \"1955-01-01T00:00:00\", \"knih\": 4948}, {\"rok\": \"1956-01-01T00:00:00\", \"knih\": 4909}, {\"rok\": \"1957-01-01T00:00:00\", \"knih\": 4927}, {\"rok\": \"1958-01-01T00:00:00\", \"knih\": 5513}, {\"rok\": \"1959-01-01T00:00:00\", \"knih\": 6125}, {\"rok\": \"1960-01-01T00:00:00\", \"knih\": 5895}, {\"rok\": \"1961-01-01T00:00:00\", \"knih\": 6037}, {\"rok\": \"1962-01-01T00:00:00\", \"knih\": 5562}, {\"rok\": \"1963-01-01T00:00:00\", \"knih\": 5845}, {\"rok\": \"1964-01-01T00:00:00\", \"knih\": 5533}, {\"rok\": \"1965-01-01T00:00:00\", \"knih\": 5192}, {\"rok\": \"1966-01-01T00:00:00\", \"knih\": 5145}, {\"rok\": \"1967-01-01T00:00:00\", \"knih\": 5122}, {\"rok\": \"1968-01-01T00:00:00\", \"knih\": 4960}, {\"rok\": \"1969-01-01T00:00:00\", \"knih\": 4904}, {\"rok\": \"1970-01-01T00:00:00\", \"knih\": 5245}, {\"rok\": \"1971-01-01T00:00:00\", \"knih\": 5356}, {\"rok\": \"1972-01-01T00:00:00\", \"knih\": 5273}, {\"rok\": \"1973-01-01T00:00:00\", \"knih\": 5468}, {\"rok\": \"1974-01-01T00:00:00\", \"knih\": 5603}, {\"rok\": \"1975-01-01T00:00:00\", \"knih\": 5568}, {\"rok\": \"1976-01-01T00:00:00\", \"knih\": 5787}, {\"rok\": \"1977-01-01T00:00:00\", \"knih\": 5567}, {\"rok\": \"1978-01-01T00:00:00\", \"knih\": 5647}, {\"rok\": \"1979-01-01T00:00:00\", \"knih\": 5918}, {\"rok\": \"1980-01-01T00:00:00\", \"knih\": 6107}, {\"rok\": \"1981-01-01T00:00:00\", \"knih\": 6046}, {\"rok\": \"1982-01-01T00:00:00\", \"knih\": 6137}, {\"rok\": \"1983-01-01T00:00:00\", \"knih\": 6191}, {\"rok\": \"1984-01-01T00:00:00\", \"knih\": 6353}, {\"rok\": \"1985-01-01T00:00:00\", \"knih\": 6417}, {\"rok\": \"1986-01-01T00:00:00\", \"knih\": 6604}, {\"rok\": \"1987-01-01T00:00:00\", \"knih\": 6900}, {\"rok\": \"1988-01-01T00:00:00\", \"knih\": 6808}, {\"rok\": \"1989-01-01T00:00:00\", \"knih\": 7073}, {\"rok\": \"1990-01-01T00:00:00\", \"knih\": 6926}, {\"rok\": \"1991-01-01T00:00:00\", \"knih\": 7201}, {\"rok\": \"1992-01-01T00:00:00\", \"knih\": 8638}, {\"rok\": \"1993-01-01T00:00:00\", \"knih\": 8488}, {\"rok\": \"1994-01-01T00:00:00\", \"knih\": 8938}, {\"rok\": \"1995-01-01T00:00:00\", \"knih\": 9788}, {\"rok\": \"1996-01-01T00:00:00\", \"knih\": 10455}, {\"rok\": \"1997-01-01T00:00:00\", \"knih\": 10944}, {\"rok\": \"1998-01-01T00:00:00\", \"knih\": 11230}, {\"rok\": \"1999-01-01T00:00:00\", \"knih\": 11641}, {\"rok\": \"2000-01-01T00:00:00\", \"knih\": 12519}, {\"rok\": \"2001-01-01T00:00:00\", \"knih\": 12548}, {\"rok\": \"2002-01-01T00:00:00\", \"knih\": 12717}, {\"rok\": \"2003-01-01T00:00:00\", \"knih\": 13813}, {\"rok\": \"2004-01-01T00:00:00\", \"knih\": 13772}, {\"rok\": \"2005-01-01T00:00:00\", \"knih\": 14177}, {\"rok\": \"2006-01-01T00:00:00\", \"knih\": 15155}, {\"rok\": \"2007-01-01T00:00:00\", \"knih\": 16014}, {\"rok\": \"2008-01-01T00:00:00\", \"knih\": 16728}, {\"rok\": \"2009-01-01T00:00:00\", \"knih\": 15551}, {\"rok\": \"2010-01-01T00:00:00\", \"knih\": 15911}, {\"rok\": \"2011-01-01T00:00:00\", \"knih\": 15394}, {\"rok\": \"2012-01-01T00:00:00\", \"knih\": 15535}, {\"rok\": \"2013-01-01T00:00:00\", \"knih\": 15229}, {\"rok\": \"2014-01-01T00:00:00\", \"knih\": 15243}, {\"rok\": \"2015-01-01T00:00:00\", \"knih\": 14749}, {\"rok\": \"2016-01-01T00:00:00\", \"knih\": 13999}, {\"rok\": \"2017-01-01T00:00:00\", \"knih\": 13782}, {\"rok\": \"2018-01-01T00:00:00\", \"knih\": 14162}, {\"rok\": \"2019-01-01T00:00:00\", \"knih\": 13726}, {\"rok\": \"2020-01-01T00:00:00\", \"knih\": 12474}, {\"rok\": \"2021-01-01T00:00:00\", \"knih\": 12935}, {\"rok\": \"2022-01-01T00:00:00\", \"knih\": 13273}, {\"rok\": \"2023-01-01T00:00:00\", \"knih\": 11749}]}}, {\"mode\": \"vega-lite\"});\n",
       "</script>"
      ],
      "text/plain": [
       "alt.Chart(...)"
      ]
     },
     "execution_count": 741,
     "metadata": {},
     "output_type": "execute_result"
    }
   ],
   "source": [
    "alt.Chart(rocni_pocty.to_pandas(), title={'text': titulek, 'subtitle': podtitulek}).mark_bar(color=\"#7CA6E1\").encode(\n",
    "    alt.X('rok:T', title=None, axis=alt.Axis(domainOpacity=0, tickColor='#DCDDD6')),\n",
    "    alt.Y('knih:Q', title=None, axis=alt.Axis(domainOpacity=0, tickColor='#DCDDD6')),\n",
    "    color=alt.condition(\n",
    "        'datum.knih > 15000',  # Using datum to reference the field value\n",
    "        alt.value('#84c0e4'),\n",
    "        alt.value('#687fa9')\n",
    "    )).properties(width=400, height=200)"
   ]
  },
  {
   "cell_type": "code",
   "execution_count": 191,
   "id": "df196a4b-4e0f-4cea-bb27-c9cf8e61c7dc",
   "metadata": {},
   "outputs": [
    {
     "data": {
      "text/html": [
       "<div><style>\n",
       ".dataframe > thead > tr,\n",
       ".dataframe > tbody > tr {\n",
       "  text-align: right;\n",
       "  white-space: pre-wrap;\n",
       "}\n",
       "</style>\n",
       "<small>shape: (246, 3)</small><table border=\"1\" class=\"dataframe\"><thead><tr><th>rok</th><th>variable</th><th>value</th></tr><tr><td>datetime[μs]</td><td>str</td><td>i64</td></tr></thead><tbody><tr><td>1901-01-01 00:00:00</td><td>&quot;knih&quot;</td><td>1807</td></tr><tr><td>1902-01-01 00:00:00</td><td>&quot;knih&quot;</td><td>2038</td></tr><tr><td>1903-01-01 00:00:00</td><td>&quot;knih&quot;</td><td>1973</td></tr><tr><td>1904-01-01 00:00:00</td><td>&quot;knih&quot;</td><td>1896</td></tr><tr><td>1905-01-01 00:00:00</td><td>&quot;knih&quot;</td><td>1811</td></tr><tr><td>&hellip;</td><td>&hellip;</td><td>&hellip;</td></tr><tr><td>2019-01-01 00:00:00</td><td>&quot;stran&quot;</td><td>2631646</td></tr><tr><td>2020-01-01 00:00:00</td><td>&quot;stran&quot;</td><td>2399513</td></tr><tr><td>2021-01-01 00:00:00</td><td>&quot;stran&quot;</td><td>2504423</td></tr><tr><td>2022-01-01 00:00:00</td><td>&quot;stran&quot;</td><td>2619319</td></tr><tr><td>2023-01-01 00:00:00</td><td>&quot;stran&quot;</td><td>2347541</td></tr></tbody></table></div>"
      ],
      "text/plain": [
       "shape: (246, 3)\n",
       "┌─────────────────────┬──────────┬─────────┐\n",
       "│ rok                 ┆ variable ┆ value   │\n",
       "│ ---                 ┆ ---      ┆ ---     │\n",
       "│ datetime[μs]        ┆ str      ┆ i64     │\n",
       "╞═════════════════════╪══════════╪═════════╡\n",
       "│ 1901-01-01 00:00:00 ┆ knih     ┆ 1807    │\n",
       "│ 1902-01-01 00:00:00 ┆ knih     ┆ 2038    │\n",
       "│ 1903-01-01 00:00:00 ┆ knih     ┆ 1973    │\n",
       "│ 1904-01-01 00:00:00 ┆ knih     ┆ 1896    │\n",
       "│ 1905-01-01 00:00:00 ┆ knih     ┆ 1811    │\n",
       "│ …                   ┆ …        ┆ …       │\n",
       "│ 2019-01-01 00:00:00 ┆ stran    ┆ 2631646 │\n",
       "│ 2020-01-01 00:00:00 ┆ stran    ┆ 2399513 │\n",
       "│ 2021-01-01 00:00:00 ┆ stran    ┆ 2504423 │\n",
       "│ 2022-01-01 00:00:00 ┆ stran    ┆ 2619319 │\n",
       "│ 2023-01-01 00:00:00 ┆ stran    ┆ 2347541 │\n",
       "└─────────────────────┴──────────┴─────────┘"
      ]
     },
     "execution_count": 191,
     "metadata": {},
     "output_type": "execute_result"
    }
   ],
   "source": [
    "do_grafu"
   ]
  },
  {
   "cell_type": "code",
   "execution_count": 227,
   "id": "f74f68af-768d-4578-b478-69d1c3b74d4b",
   "metadata": {},
   "outputs": [],
   "source": [
    "def ceska_cisla(value):\n",
    "    if abs(value) >= 1_000_000:\n",
    "        return f\"{value/1_000_000:.0f} mil.\"\n",
    "    elif abs(value) >= 1_000:\n",
    "        return f\"{value/1_000:.0f} tis.\"\n",
    "    else:\n",
    "        return str(int(value))"
   ]
  },
  {
   "cell_type": "code",
   "execution_count": 235,
   "id": "49624c52-d7fd-4f9f-87ea-2a3558526b22",
   "metadata": {},
   "outputs": [
    {
     "data": {
      "text/plain": [
       "'1 tis.'"
      ]
     },
     "execution_count": 235,
     "metadata": {},
     "output_type": "execute_result"
    }
   ],
   "source": [
    "ceska_cisla(1000)"
   ]
  },
  {
   "cell_type": "code",
   "execution_count": 743,
   "id": "12ad315c-a4a2-45e4-9000-4825c0563d52",
   "metadata": {},
   "outputs": [
    {
     "name": "stderr",
     "output_type": "stream",
     "text": [
      "C:\\Users\\micha\\anaconda3\\Lib\\site-packages\\altair\\utils\\core.py:395: FutureWarning: the convert_dtype parameter is deprecated and will be removed in a future version.  Do ``ser.astype(object).apply()`` instead if you want ``convert_dtype=False``.\n",
      "  col = df[col_name].apply(to_list_if_array, convert_dtype=False)\n"
     ]
    },
    {
     "data": {
      "text/html": [
       "\n",
       "<style>\n",
       "  #altair-viz-1efd9274608b413a9160d6d4787a464f.vega-embed {\n",
       "    width: 100%;\n",
       "    display: flex;\n",
       "  }\n",
       "\n",
       "  #altair-viz-1efd9274608b413a9160d6d4787a464f.vega-embed details,\n",
       "  #altair-viz-1efd9274608b413a9160d6d4787a464f.vega-embed details summary {\n",
       "    position: relative;\n",
       "  }\n",
       "</style>\n",
       "<div id=\"altair-viz-1efd9274608b413a9160d6d4787a464f\"></div>\n",
       "<script type=\"text/javascript\">\n",
       "  var VEGA_DEBUG = (typeof VEGA_DEBUG == \"undefined\") ? {} : VEGA_DEBUG;\n",
       "  (function(spec, embedOpt){\n",
       "    let outputDiv = document.currentScript.previousElementSibling;\n",
       "    if (outputDiv.id !== \"altair-viz-1efd9274608b413a9160d6d4787a464f\") {\n",
       "      outputDiv = document.getElementById(\"altair-viz-1efd9274608b413a9160d6d4787a464f\");\n",
       "    }\n",
       "    const paths = {\n",
       "      \"vega\": \"https://cdn.jsdelivr.net/npm/vega@5?noext\",\n",
       "      \"vega-lib\": \"https://cdn.jsdelivr.net/npm/vega-lib?noext\",\n",
       "      \"vega-lite\": \"https://cdn.jsdelivr.net/npm/vega-lite@5.8.0?noext\",\n",
       "      \"vega-embed\": \"https://cdn.jsdelivr.net/npm/vega-embed@6?noext\",\n",
       "    };\n",
       "\n",
       "    function maybeLoadScript(lib, version) {\n",
       "      var key = `${lib.replace(\"-\", \"\")}_version`;\n",
       "      return (VEGA_DEBUG[key] == version) ?\n",
       "        Promise.resolve(paths[lib]) :\n",
       "        new Promise(function(resolve, reject) {\n",
       "          var s = document.createElement('script');\n",
       "          document.getElementsByTagName(\"head\")[0].appendChild(s);\n",
       "          s.async = true;\n",
       "          s.onload = () => {\n",
       "            VEGA_DEBUG[key] = version;\n",
       "            return resolve(paths[lib]);\n",
       "          };\n",
       "          s.onerror = () => reject(`Error loading script: ${paths[lib]}`);\n",
       "          s.src = paths[lib];\n",
       "        });\n",
       "    }\n",
       "\n",
       "    function showError(err) {\n",
       "      outputDiv.innerHTML = `<div class=\"error\" style=\"color:red;\">${err}</div>`;\n",
       "      throw err;\n",
       "    }\n",
       "\n",
       "    function displayChart(vegaEmbed) {\n",
       "      vegaEmbed(outputDiv, spec, embedOpt)\n",
       "        .catch(err => showError(`Javascript Error: ${err.message}<br>This usually means there's a typo in your chart specification. See the javascript console for the full traceback.`));\n",
       "    }\n",
       "\n",
       "    if(typeof define === \"function\" && define.amd) {\n",
       "      requirejs.config({paths});\n",
       "      require([\"vega-embed\"], displayChart, err => showError(`Error loading script: ${err.message}`));\n",
       "    } else {\n",
       "      maybeLoadScript(\"vega\", \"5\")\n",
       "        .then(() => maybeLoadScript(\"vega-lite\", \"5.8.0\"))\n",
       "        .then(() => maybeLoadScript(\"vega-embed\", \"6\"))\n",
       "        .catch(showError)\n",
       "        .then(() => displayChart(vegaEmbed));\n",
       "    }\n",
       "  })({\"config\": {\"title\": {\"font\": \"Noticia Text\", \"fontSize\": 14, \"anchor\": \"start\", \"fontWeight\": \"bolder\", \"subtitleFont\": \"Noticia Text\", \"subtitleLineHeight\": 18, \"subtitleFontSize\": 12, \"subtitleFontWeight\": \"normal\", \"subtitlePadding\": 10, \"dy\": -12}, \"axis\": {\"labelFont\": \"Asap\", \"titleFont\": \"Asap\", \"fontWeight\": \"lighter\", \"titleFontWeight\": \"lighter\", \"labelFontSize\": 10, \"titleFontSize\": 10, \"labelPadding\": 2, \"titlePadding\": 10}, \"legend\": {\"labelFont\": \"Asap\", \"labelFontWeight\": \"normal\", \"titleFont\": \"Asap\", \"titleFontWeight\": \"normal\", \"labelFontSize\": 10, \"titleFontSize\": 10}}, \"data\": {\"name\": \"data-1d9704926bed8fd1f7abae7ffde9a0b3\"}, \"mark\": {\"type\": \"area\"}, \"encoding\": {\"color\": {\"field\": \"variable\", \"legend\": null, \"scale\": {\"range\": [\"#8eba21\", \"#f77961\"]}, \"title\": null, \"type\": \"nominal\"}, \"row\": {\"field\": \"variable\", \"header\": {\"labelAlign\": \"left\", \"labelAnchor\": \"middle\", \"labelAngle\": 0, \"labelFont\": \"Asap\"}, \"sort\": [\"v\\u0161echny publikace\", \"novinky nad 50 stran\"], \"spacing\": 15, \"title\": null, \"type\": \"nominal\"}, \"x\": {\"axis\": {\"domainOpacity\": 0, \"tickColor\": \"#DCDDD6\"}, \"field\": \"rok\", \"title\": null, \"type\": \"temporal\"}, \"y\": {\"axis\": {\"domainOpacity\": 0, \"format\": \"~s\", \"orient\": \"left\", \"tickColor\": \"#DCDDD6\"}, \"field\": \"value\", \"title\": null, \"type\": \"quantitative\"}}, \"height\": 90, \"resolve\": {\"scale\": {\"y\": \"independent\"}}, \"title\": {\"text\": \"V\\u00fdvoj kni\\u017en\\u00ed produkce na \\u010desk\\u00e9m \\u00fazem\\u00ed\", \"subtitle\": [\"Celkov\\u00e9 po\\u010dty z\\u00e1znam\\u016f v \\u010cesk\\u00e9 n\\u00e1rodn\\u00ed bibliografii.\", \"Vedle klasick\\u00fdch knih m\\u016f\\u017ee j\\u00edt i o katalogy v\\u00fdstav apod.\"]}, \"width\": 300, \"$schema\": \"https://vega.github.io/schema/vega-lite/v5.8.0.json\", \"datasets\": {\"data-1d9704926bed8fd1f7abae7ffde9a0b3\": [{\"rok\": \"1901-01-01T00:00:00\", \"variable\": \"v\\u0161echny publikace\", \"value\": 1807.0}, {\"rok\": \"1902-01-01T00:00:00\", \"variable\": \"v\\u0161echny publikace\", \"value\": 2038.0}, {\"rok\": \"1903-01-01T00:00:00\", \"variable\": \"v\\u0161echny publikace\", \"value\": 1973.0}, {\"rok\": \"1904-01-01T00:00:00\", \"variable\": \"v\\u0161echny publikace\", \"value\": 1896.0}, {\"rok\": \"1905-01-01T00:00:00\", \"variable\": \"v\\u0161echny publikace\", \"value\": 1811.0}, {\"rok\": \"1906-01-01T00:00:00\", \"variable\": \"v\\u0161echny publikace\", \"value\": 2239.0}, {\"rok\": \"1907-01-01T00:00:00\", \"variable\": \"v\\u0161echny publikace\", \"value\": 2076.0}, {\"rok\": \"1908-01-01T00:00:00\", \"variable\": \"v\\u0161echny publikace\", \"value\": 2342.0}, {\"rok\": \"1909-01-01T00:00:00\", \"variable\": \"v\\u0161echny publikace\", \"value\": 2247.0}, {\"rok\": \"1910-01-01T00:00:00\", \"variable\": \"v\\u0161echny publikace\", \"value\": 2546.0}, {\"rok\": \"1911-01-01T00:00:00\", \"variable\": \"v\\u0161echny publikace\", \"value\": 2474.0}, {\"rok\": \"1912-01-01T00:00:00\", \"variable\": \"v\\u0161echny publikace\", \"value\": 2593.0}, {\"rok\": \"1913-01-01T00:00:00\", \"variable\": \"v\\u0161echny publikace\", \"value\": 2688.0}, {\"rok\": \"1914-01-01T00:00:00\", \"variable\": \"v\\u0161echny publikace\", \"value\": 2034.0}, {\"rok\": \"1915-01-01T00:00:00\", \"variable\": \"v\\u0161echny publikace\", \"value\": 1394.0}, {\"rok\": \"1916-01-01T00:00:00\", \"variable\": \"v\\u0161echny publikace\", \"value\": 1509.0}, {\"rok\": \"1917-01-01T00:00:00\", \"variable\": \"v\\u0161echny publikace\", \"value\": 1573.0}, {\"rok\": \"1918-01-01T00:00:00\", \"variable\": \"v\\u0161echny publikace\", \"value\": 1906.0}, {\"rok\": \"1919-01-01T00:00:00\", \"variable\": \"v\\u0161echny publikace\", \"value\": 3423.0}, {\"rok\": \"1920-01-01T00:00:00\", \"variable\": \"v\\u0161echny publikace\", \"value\": 4301.0}, {\"rok\": \"1921-01-01T00:00:00\", \"variable\": \"v\\u0161echny publikace\", \"value\": 3797.0}, {\"rok\": \"1922-01-01T00:00:00\", \"variable\": \"v\\u0161echny publikace\", \"value\": 4231.0}, {\"rok\": \"1923-01-01T00:00:00\", \"variable\": \"v\\u0161echny publikace\", \"value\": 4229.0}, {\"rok\": \"1924-01-01T00:00:00\", \"variable\": \"v\\u0161echny publikace\", \"value\": 4689.0}, {\"rok\": \"1925-01-01T00:00:00\", \"variable\": \"v\\u0161echny publikace\", \"value\": 5261.0}, {\"rok\": \"1926-01-01T00:00:00\", \"variable\": \"v\\u0161echny publikace\", \"value\": 4852.0}, {\"rok\": \"1927-01-01T00:00:00\", \"variable\": \"v\\u0161echny publikace\", \"value\": 4680.0}, {\"rok\": \"1928-01-01T00:00:00\", \"variable\": \"v\\u0161echny publikace\", \"value\": 4945.0}, {\"rok\": \"1929-01-01T00:00:00\", \"variable\": \"v\\u0161echny publikace\", \"value\": 4864.0}, {\"rok\": \"1930-01-01T00:00:00\", \"variable\": \"v\\u0161echny publikace\", \"value\": 5527.0}, {\"rok\": \"1931-01-01T00:00:00\", \"variable\": \"v\\u0161echny publikace\", \"value\": 4978.0}, {\"rok\": \"1932-01-01T00:00:00\", \"variable\": \"v\\u0161echny publikace\", \"value\": 4630.0}, {\"rok\": \"1933-01-01T00:00:00\", \"variable\": \"v\\u0161echny publikace\", \"value\": 4628.0}, {\"rok\": \"1934-01-01T00:00:00\", \"variable\": \"v\\u0161echny publikace\", \"value\": 4870.0}, {\"rok\": \"1935-01-01T00:00:00\", \"variable\": \"v\\u0161echny publikace\", \"value\": 5469.0}, {\"rok\": \"1936-01-01T00:00:00\", \"variable\": \"v\\u0161echny publikace\", \"value\": 6438.0}, {\"rok\": \"1937-01-01T00:00:00\", \"variable\": \"v\\u0161echny publikace\", \"value\": 6467.0}, {\"rok\": \"1938-01-01T00:00:00\", \"variable\": \"v\\u0161echny publikace\", \"value\": 5611.0}, {\"rok\": \"1939-01-01T00:00:00\", \"variable\": \"v\\u0161echny publikace\", \"value\": 4207.0}, {\"rok\": \"1940-01-01T00:00:00\", \"variable\": \"v\\u0161echny publikace\", \"value\": 5558.0}, {\"rok\": \"1941-01-01T00:00:00\", \"variable\": \"v\\u0161echny publikace\", \"value\": 5265.0}, {\"rok\": \"1942-01-01T00:00:00\", \"variable\": \"v\\u0161echny publikace\", \"value\": 2705.0}, {\"rok\": \"1943-01-01T00:00:00\", \"variable\": \"v\\u0161echny publikace\", \"value\": 2079.0}, {\"rok\": \"1944-01-01T00:00:00\", \"variable\": \"v\\u0161echny publikace\", \"value\": 2462.0}, {\"rok\": \"1945-01-01T00:00:00\", \"variable\": \"v\\u0161echny publikace\", \"value\": 3084.0}, {\"rok\": \"1946-01-01T00:00:00\", \"variable\": \"v\\u0161echny publikace\", \"value\": 6052.0}, {\"rok\": \"1947-01-01T00:00:00\", \"variable\": \"v\\u0161echny publikace\", \"value\": 6490.0}, {\"rok\": \"1948-01-01T00:00:00\", \"variable\": \"v\\u0161echny publikace\", \"value\": 5381.0}, {\"rok\": \"1949-01-01T00:00:00\", \"variable\": \"v\\u0161echny publikace\", \"value\": 3973.0}, {\"rok\": \"1950-01-01T00:00:00\", \"variable\": \"v\\u0161echny publikace\", \"value\": 4030.0}, {\"rok\": \"1951-01-01T00:00:00\", \"variable\": \"v\\u0161echny publikace\", \"value\": 4555.0}, {\"rok\": \"1952-01-01T00:00:00\", \"variable\": \"v\\u0161echny publikace\", \"value\": 4399.0}, {\"rok\": \"1953-01-01T00:00:00\", \"variable\": \"v\\u0161echny publikace\", \"value\": 5005.0}, {\"rok\": \"1954-01-01T00:00:00\", \"variable\": \"v\\u0161echny publikace\", \"value\": 5357.0}, {\"rok\": \"1955-01-01T00:00:00\", \"variable\": \"v\\u0161echny publikace\", \"value\": 4948.0}, {\"rok\": \"1956-01-01T00:00:00\", \"variable\": \"v\\u0161echny publikace\", \"value\": 4909.0}, {\"rok\": \"1957-01-01T00:00:00\", \"variable\": \"v\\u0161echny publikace\", \"value\": 4927.0}, {\"rok\": \"1958-01-01T00:00:00\", \"variable\": \"v\\u0161echny publikace\", \"value\": 5513.0}, {\"rok\": \"1959-01-01T00:00:00\", \"variable\": \"v\\u0161echny publikace\", \"value\": 6125.0}, {\"rok\": \"1960-01-01T00:00:00\", \"variable\": \"v\\u0161echny publikace\", \"value\": 5895.0}, {\"rok\": \"1961-01-01T00:00:00\", \"variable\": \"v\\u0161echny publikace\", \"value\": 6037.0}, {\"rok\": \"1962-01-01T00:00:00\", \"variable\": \"v\\u0161echny publikace\", \"value\": 5562.0}, {\"rok\": \"1963-01-01T00:00:00\", \"variable\": \"v\\u0161echny publikace\", \"value\": 5845.0}, {\"rok\": \"1964-01-01T00:00:00\", \"variable\": \"v\\u0161echny publikace\", \"value\": 5533.0}, {\"rok\": \"1965-01-01T00:00:00\", \"variable\": \"v\\u0161echny publikace\", \"value\": 5192.0}, {\"rok\": \"1966-01-01T00:00:00\", \"variable\": \"v\\u0161echny publikace\", \"value\": 5145.0}, {\"rok\": \"1967-01-01T00:00:00\", \"variable\": \"v\\u0161echny publikace\", \"value\": 5122.0}, {\"rok\": \"1968-01-01T00:00:00\", \"variable\": \"v\\u0161echny publikace\", \"value\": 4960.0}, {\"rok\": \"1969-01-01T00:00:00\", \"variable\": \"v\\u0161echny publikace\", \"value\": 4904.0}, {\"rok\": \"1970-01-01T00:00:00\", \"variable\": \"v\\u0161echny publikace\", \"value\": 5245.0}, {\"rok\": \"1971-01-01T00:00:00\", \"variable\": \"v\\u0161echny publikace\", \"value\": 5356.0}, {\"rok\": \"1972-01-01T00:00:00\", \"variable\": \"v\\u0161echny publikace\", \"value\": 5273.0}, {\"rok\": \"1973-01-01T00:00:00\", \"variable\": \"v\\u0161echny publikace\", \"value\": 5468.0}, {\"rok\": \"1974-01-01T00:00:00\", \"variable\": \"v\\u0161echny publikace\", \"value\": 5603.0}, {\"rok\": \"1975-01-01T00:00:00\", \"variable\": \"v\\u0161echny publikace\", \"value\": 5568.0}, {\"rok\": \"1976-01-01T00:00:00\", \"variable\": \"v\\u0161echny publikace\", \"value\": 5787.0}, {\"rok\": \"1977-01-01T00:00:00\", \"variable\": \"v\\u0161echny publikace\", \"value\": 5567.0}, {\"rok\": \"1978-01-01T00:00:00\", \"variable\": \"v\\u0161echny publikace\", \"value\": 5647.0}, {\"rok\": \"1979-01-01T00:00:00\", \"variable\": \"v\\u0161echny publikace\", \"value\": 5918.0}, {\"rok\": \"1980-01-01T00:00:00\", \"variable\": \"v\\u0161echny publikace\", \"value\": 6107.0}, {\"rok\": \"1981-01-01T00:00:00\", \"variable\": \"v\\u0161echny publikace\", \"value\": 6046.0}, {\"rok\": \"1982-01-01T00:00:00\", \"variable\": \"v\\u0161echny publikace\", \"value\": 6137.0}, {\"rok\": \"1983-01-01T00:00:00\", \"variable\": \"v\\u0161echny publikace\", \"value\": 6191.0}, {\"rok\": \"1984-01-01T00:00:00\", \"variable\": \"v\\u0161echny publikace\", \"value\": 6353.0}, {\"rok\": \"1985-01-01T00:00:00\", \"variable\": \"v\\u0161echny publikace\", \"value\": 6417.0}, {\"rok\": \"1986-01-01T00:00:00\", \"variable\": \"v\\u0161echny publikace\", \"value\": 6604.0}, {\"rok\": \"1987-01-01T00:00:00\", \"variable\": \"v\\u0161echny publikace\", \"value\": 6900.0}, {\"rok\": \"1988-01-01T00:00:00\", \"variable\": \"v\\u0161echny publikace\", \"value\": 6808.0}, {\"rok\": \"1989-01-01T00:00:00\", \"variable\": \"v\\u0161echny publikace\", \"value\": 7073.0}, {\"rok\": \"1990-01-01T00:00:00\", \"variable\": \"v\\u0161echny publikace\", \"value\": 6926.0}, {\"rok\": \"1991-01-01T00:00:00\", \"variable\": \"v\\u0161echny publikace\", \"value\": 7201.0}, {\"rok\": \"1992-01-01T00:00:00\", \"variable\": \"v\\u0161echny publikace\", \"value\": 8638.0}, {\"rok\": \"1993-01-01T00:00:00\", \"variable\": \"v\\u0161echny publikace\", \"value\": 8488.0}, {\"rok\": \"1994-01-01T00:00:00\", \"variable\": \"v\\u0161echny publikace\", \"value\": 8938.0}, {\"rok\": \"1995-01-01T00:00:00\", \"variable\": \"v\\u0161echny publikace\", \"value\": 9788.0}, {\"rok\": \"1996-01-01T00:00:00\", \"variable\": \"v\\u0161echny publikace\", \"value\": 10455.0}, {\"rok\": \"1997-01-01T00:00:00\", \"variable\": \"v\\u0161echny publikace\", \"value\": 10944.0}, {\"rok\": \"1998-01-01T00:00:00\", \"variable\": \"v\\u0161echny publikace\", \"value\": 11230.0}, {\"rok\": \"1999-01-01T00:00:00\", \"variable\": \"v\\u0161echny publikace\", \"value\": 11641.0}, {\"rok\": \"2000-01-01T00:00:00\", \"variable\": \"v\\u0161echny publikace\", \"value\": 12519.0}, {\"rok\": \"2001-01-01T00:00:00\", \"variable\": \"v\\u0161echny publikace\", \"value\": 12548.0}, {\"rok\": \"2002-01-01T00:00:00\", \"variable\": \"v\\u0161echny publikace\", \"value\": 12717.0}, {\"rok\": \"2003-01-01T00:00:00\", \"variable\": \"v\\u0161echny publikace\", \"value\": 13813.0}, {\"rok\": \"2004-01-01T00:00:00\", \"variable\": \"v\\u0161echny publikace\", \"value\": 13772.0}, {\"rok\": \"2005-01-01T00:00:00\", \"variable\": \"v\\u0161echny publikace\", \"value\": 14177.0}, {\"rok\": \"2006-01-01T00:00:00\", \"variable\": \"v\\u0161echny publikace\", \"value\": 15155.0}, {\"rok\": \"2007-01-01T00:00:00\", \"variable\": \"v\\u0161echny publikace\", \"value\": 16014.0}, {\"rok\": \"2008-01-01T00:00:00\", \"variable\": \"v\\u0161echny publikace\", \"value\": 16728.0}, {\"rok\": \"2009-01-01T00:00:00\", \"variable\": \"v\\u0161echny publikace\", \"value\": 15551.0}, {\"rok\": \"2010-01-01T00:00:00\", \"variable\": \"v\\u0161echny publikace\", \"value\": 15911.0}, {\"rok\": \"2011-01-01T00:00:00\", \"variable\": \"v\\u0161echny publikace\", \"value\": 15394.0}, {\"rok\": \"2012-01-01T00:00:00\", \"variable\": \"v\\u0161echny publikace\", \"value\": 15535.0}, {\"rok\": \"2013-01-01T00:00:00\", \"variable\": \"v\\u0161echny publikace\", \"value\": 15229.0}, {\"rok\": \"2014-01-01T00:00:00\", \"variable\": \"v\\u0161echny publikace\", \"value\": 15243.0}, {\"rok\": \"2015-01-01T00:00:00\", \"variable\": \"v\\u0161echny publikace\", \"value\": 14749.0}, {\"rok\": \"2016-01-01T00:00:00\", \"variable\": \"v\\u0161echny publikace\", \"value\": 13999.0}, {\"rok\": \"2017-01-01T00:00:00\", \"variable\": \"v\\u0161echny publikace\", \"value\": 13782.0}, {\"rok\": \"2018-01-01T00:00:00\", \"variable\": \"v\\u0161echny publikace\", \"value\": 14162.0}, {\"rok\": \"2019-01-01T00:00:00\", \"variable\": \"v\\u0161echny publikace\", \"value\": 13726.0}, {\"rok\": \"2020-01-01T00:00:00\", \"variable\": \"v\\u0161echny publikace\", \"value\": 12474.0}, {\"rok\": \"2021-01-01T00:00:00\", \"variable\": \"v\\u0161echny publikace\", \"value\": 12935.0}, {\"rok\": \"2022-01-01T00:00:00\", \"variable\": \"v\\u0161echny publikace\", \"value\": 13273.0}, {\"rok\": \"2023-01-01T00:00:00\", \"variable\": \"v\\u0161echny publikace\", \"value\": 11749.0}, {\"rok\": \"1901-01-01T00:00:00\", \"variable\": \"novinky nad 50 stran\", \"value\": 992.0}, {\"rok\": \"1902-01-01T00:00:00\", \"variable\": \"novinky nad 50 stran\", \"value\": 1129.0}, {\"rok\": \"1903-01-01T00:00:00\", \"variable\": \"novinky nad 50 stran\", \"value\": 1038.0}, {\"rok\": \"1904-01-01T00:00:00\", \"variable\": \"novinky nad 50 stran\", \"value\": 991.0}, {\"rok\": \"1905-01-01T00:00:00\", \"variable\": \"novinky nad 50 stran\", \"value\": 976.0}, {\"rok\": \"1906-01-01T00:00:00\", \"variable\": \"novinky nad 50 stran\", \"value\": 979.0}, {\"rok\": \"1907-01-01T00:00:00\", \"variable\": \"novinky nad 50 stran\", \"value\": 985.0}, {\"rok\": \"1908-01-01T00:00:00\", \"variable\": \"novinky nad 50 stran\", \"value\": 1176.0}, {\"rok\": \"1909-01-01T00:00:00\", \"variable\": \"novinky nad 50 stran\", \"value\": 1120.0}, {\"rok\": \"1910-01-01T00:00:00\", \"variable\": \"novinky nad 50 stran\", \"value\": 1358.0}, {\"rok\": \"1911-01-01T00:00:00\", \"variable\": \"novinky nad 50 stran\", \"value\": 1305.0}, {\"rok\": \"1912-01-01T00:00:00\", \"variable\": \"novinky nad 50 stran\", \"value\": 1325.0}, {\"rok\": \"1913-01-01T00:00:00\", \"variable\": \"novinky nad 50 stran\", \"value\": 1374.0}, {\"rok\": \"1914-01-01T00:00:00\", \"variable\": \"novinky nad 50 stran\", \"value\": 952.0}, {\"rok\": \"1915-01-01T00:00:00\", \"variable\": \"novinky nad 50 stran\", \"value\": 667.0}, {\"rok\": \"1916-01-01T00:00:00\", \"variable\": \"novinky nad 50 stran\", \"value\": 668.0}, {\"rok\": \"1917-01-01T00:00:00\", \"variable\": \"novinky nad 50 stran\", \"value\": 704.0}, {\"rok\": \"1918-01-01T00:00:00\", \"variable\": \"novinky nad 50 stran\", \"value\": 850.0}, {\"rok\": \"1919-01-01T00:00:00\", \"variable\": \"novinky nad 50 stran\", \"value\": 1339.0}, {\"rok\": \"1920-01-01T00:00:00\", \"variable\": \"novinky nad 50 stran\", \"value\": 1802.0}, {\"rok\": \"1921-01-01T00:00:00\", \"variable\": \"novinky nad 50 stran\", \"value\": 1578.0}, {\"rok\": \"1922-01-01T00:00:00\", \"variable\": \"novinky nad 50 stran\", \"value\": 1774.0}, {\"rok\": \"1923-01-01T00:00:00\", \"variable\": \"novinky nad 50 stran\", \"value\": 1844.0}, {\"rok\": \"1924-01-01T00:00:00\", \"variable\": \"novinky nad 50 stran\", \"value\": 2111.0}, {\"rok\": \"1925-01-01T00:00:00\", \"variable\": \"novinky nad 50 stran\", \"value\": 2475.0}, {\"rok\": \"1926-01-01T00:00:00\", \"variable\": \"novinky nad 50 stran\", \"value\": 2355.0}, {\"rok\": \"1927-01-01T00:00:00\", \"variable\": \"novinky nad 50 stran\", \"value\": 2349.0}, {\"rok\": \"1928-01-01T00:00:00\", \"variable\": \"novinky nad 50 stran\", \"value\": 2453.0}, {\"rok\": \"1929-01-01T00:00:00\", \"variable\": \"novinky nad 50 stran\", \"value\": 2350.0}, {\"rok\": \"1930-01-01T00:00:00\", \"variable\": \"novinky nad 50 stran\", \"value\": 2642.0}, {\"rok\": \"1931-01-01T00:00:00\", \"variable\": \"novinky nad 50 stran\", \"value\": 2367.0}, {\"rok\": \"1932-01-01T00:00:00\", \"variable\": \"novinky nad 50 stran\", \"value\": 2132.0}, {\"rok\": \"1933-01-01T00:00:00\", \"variable\": \"novinky nad 50 stran\", \"value\": 2086.0}, {\"rok\": \"1934-01-01T00:00:00\", \"variable\": \"novinky nad 50 stran\", \"value\": 2126.0}, {\"rok\": \"1935-01-01T00:00:00\", \"variable\": \"novinky nad 50 stran\", \"value\": 2310.0}, {\"rok\": \"1936-01-01T00:00:00\", \"variable\": \"novinky nad 50 stran\", \"value\": 2671.0}, {\"rok\": \"1937-01-01T00:00:00\", \"variable\": \"novinky nad 50 stran\", \"value\": 2664.0}, {\"rok\": \"1938-01-01T00:00:00\", \"variable\": \"novinky nad 50 stran\", \"value\": 2315.0}, {\"rok\": \"1939-01-01T00:00:00\", \"variable\": \"novinky nad 50 stran\", \"value\": 1776.0}, {\"rok\": \"1940-01-01T00:00:00\", \"variable\": \"novinky nad 50 stran\", \"value\": 2195.0}, {\"rok\": \"1941-01-01T00:00:00\", \"variable\": \"novinky nad 50 stran\", \"value\": 2089.0}, {\"rok\": \"1942-01-01T00:00:00\", \"variable\": \"novinky nad 50 stran\", \"value\": 1104.0}, {\"rok\": \"1943-01-01T00:00:00\", \"variable\": \"novinky nad 50 stran\", \"value\": 917.0}, {\"rok\": \"1944-01-01T00:00:00\", \"variable\": \"novinky nad 50 stran\", \"value\": 1070.0}, {\"rok\": \"1945-01-01T00:00:00\", \"variable\": \"novinky nad 50 stran\", \"value\": 1052.0}, {\"rok\": \"1946-01-01T00:00:00\", \"variable\": \"novinky nad 50 stran\", \"value\": 2690.0}, {\"rok\": \"1947-01-01T00:00:00\", \"variable\": \"novinky nad 50 stran\", \"value\": 3033.0}, {\"rok\": \"1948-01-01T00:00:00\", \"variable\": \"novinky nad 50 stran\", \"value\": 2633.0}, {\"rok\": \"1949-01-01T00:00:00\", \"variable\": \"novinky nad 50 stran\", \"value\": 1559.0}, {\"rok\": \"1950-01-01T00:00:00\", \"variable\": \"novinky nad 50 stran\", \"value\": 1847.0}, {\"rok\": \"1951-01-01T00:00:00\", \"variable\": \"novinky nad 50 stran\", \"value\": 2408.0}, {\"rok\": \"1952-01-01T00:00:00\", \"variable\": \"novinky nad 50 stran\", \"value\": 2304.0}, {\"rok\": \"1953-01-01T00:00:00\", \"variable\": \"novinky nad 50 stran\", \"value\": 2785.0}, {\"rok\": \"1954-01-01T00:00:00\", \"variable\": \"novinky nad 50 stran\", \"value\": 3059.0}, {\"rok\": \"1955-01-01T00:00:00\", \"variable\": \"novinky nad 50 stran\", \"value\": 2764.0}, {\"rok\": \"1956-01-01T00:00:00\", \"variable\": \"novinky nad 50 stran\", \"value\": 2797.0}, {\"rok\": \"1957-01-01T00:00:00\", \"variable\": \"novinky nad 50 stran\", \"value\": 2804.0}, {\"rok\": \"1958-01-01T00:00:00\", \"variable\": \"novinky nad 50 stran\", \"value\": 3107.0}, {\"rok\": \"1959-01-01T00:00:00\", \"variable\": \"novinky nad 50 stran\", \"value\": 3241.0}, {\"rok\": \"1960-01-01T00:00:00\", \"variable\": \"novinky nad 50 stran\", \"value\": 3166.0}, {\"rok\": \"1961-01-01T00:00:00\", \"variable\": \"novinky nad 50 stran\", \"value\": 3301.0}, {\"rok\": \"1962-01-01T00:00:00\", \"variable\": \"novinky nad 50 stran\", \"value\": 3202.0}, {\"rok\": \"1963-01-01T00:00:00\", \"variable\": \"novinky nad 50 stran\", \"value\": 3400.0}, {\"rok\": \"1964-01-01T00:00:00\", \"variable\": \"novinky nad 50 stran\", \"value\": 3342.0}, {\"rok\": \"1965-01-01T00:00:00\", \"variable\": \"novinky nad 50 stran\", \"value\": 3164.0}, {\"rok\": \"1966-01-01T00:00:00\", \"variable\": \"novinky nad 50 stran\", \"value\": 3250.0}, {\"rok\": \"1967-01-01T00:00:00\", \"variable\": \"novinky nad 50 stran\", \"value\": 3070.0}, {\"rok\": \"1968-01-01T00:00:00\", \"variable\": \"novinky nad 50 stran\", \"value\": 3063.0}, {\"rok\": \"1969-01-01T00:00:00\", \"variable\": \"novinky nad 50 stran\", \"value\": 2896.0}, {\"rok\": \"1970-01-01T00:00:00\", \"variable\": \"novinky nad 50 stran\", \"value\": 3058.0}, {\"rok\": \"1971-01-01T00:00:00\", \"variable\": \"novinky nad 50 stran\", \"value\": 3179.0}, {\"rok\": \"1972-01-01T00:00:00\", \"variable\": \"novinky nad 50 stran\", \"value\": 3195.0}, {\"rok\": \"1973-01-01T00:00:00\", \"variable\": \"novinky nad 50 stran\", \"value\": 3340.0}, {\"rok\": \"1974-01-01T00:00:00\", \"variable\": \"novinky nad 50 stran\", \"value\": 3451.0}, {\"rok\": \"1975-01-01T00:00:00\", \"variable\": \"novinky nad 50 stran\", \"value\": 3480.0}, {\"rok\": \"1976-01-01T00:00:00\", \"variable\": \"novinky nad 50 stran\", \"value\": 3491.0}, {\"rok\": \"1977-01-01T00:00:00\", \"variable\": \"novinky nad 50 stran\", \"value\": 3409.0}, {\"rok\": \"1978-01-01T00:00:00\", \"variable\": \"novinky nad 50 stran\", \"value\": 3540.0}, {\"rok\": \"1979-01-01T00:00:00\", \"variable\": \"novinky nad 50 stran\", \"value\": 3816.0}, {\"rok\": \"1980-01-01T00:00:00\", \"variable\": \"novinky nad 50 stran\", \"value\": 3995.0}, {\"rok\": \"1981-01-01T00:00:00\", \"variable\": \"novinky nad 50 stran\", \"value\": 3900.0}, {\"rok\": \"1982-01-01T00:00:00\", \"variable\": \"novinky nad 50 stran\", \"value\": 4159.0}, {\"rok\": \"1983-01-01T00:00:00\", \"variable\": \"novinky nad 50 stran\", \"value\": 4156.0}, {\"rok\": \"1984-01-01T00:00:00\", \"variable\": \"novinky nad 50 stran\", \"value\": 4253.0}, {\"rok\": \"1985-01-01T00:00:00\", \"variable\": \"novinky nad 50 stran\", \"value\": 4140.0}, {\"rok\": \"1986-01-01T00:00:00\", \"variable\": \"novinky nad 50 stran\", \"value\": 4328.0}, {\"rok\": \"1987-01-01T00:00:00\", \"variable\": \"novinky nad 50 stran\", \"value\": 4456.0}, {\"rok\": \"1988-01-01T00:00:00\", \"variable\": \"novinky nad 50 stran\", \"value\": 4370.0}, {\"rok\": \"1989-01-01T00:00:00\", \"variable\": \"novinky nad 50 stran\", \"value\": 4543.0}, {\"rok\": \"1990-01-01T00:00:00\", \"variable\": \"novinky nad 50 stran\", \"value\": 4307.0}, {\"rok\": \"1991-01-01T00:00:00\", \"variable\": \"novinky nad 50 stran\", \"value\": 4312.0}, {\"rok\": \"1992-01-01T00:00:00\", \"variable\": \"novinky nad 50 stran\", \"value\": 5864.0}, {\"rok\": \"1993-01-01T00:00:00\", \"variable\": \"novinky nad 50 stran\", \"value\": 6056.0}, {\"rok\": \"1994-01-01T00:00:00\", \"variable\": \"novinky nad 50 stran\", \"value\": 6538.0}, {\"rok\": \"1995-01-01T00:00:00\", \"variable\": \"novinky nad 50 stran\", \"value\": 7185.0}, {\"rok\": \"1996-01-01T00:00:00\", \"variable\": \"novinky nad 50 stran\", \"value\": 7609.0}, {\"rok\": \"1997-01-01T00:00:00\", \"variable\": \"novinky nad 50 stran\", \"value\": 7969.0}, {\"rok\": \"1998-01-01T00:00:00\", \"variable\": \"novinky nad 50 stran\", \"value\": 7910.0}, {\"rok\": \"1999-01-01T00:00:00\", \"variable\": \"novinky nad 50 stran\", \"value\": 7937.0}, {\"rok\": \"2000-01-01T00:00:00\", \"variable\": \"novinky nad 50 stran\", \"value\": 8454.0}, {\"rok\": \"2001-01-01T00:00:00\", \"variable\": \"novinky nad 50 stran\", \"value\": 8551.0}, {\"rok\": \"2002-01-01T00:00:00\", \"variable\": \"novinky nad 50 stran\", \"value\": 8565.0}, {\"rok\": \"2003-01-01T00:00:00\", \"variable\": \"novinky nad 50 stran\", \"value\": 9052.0}, {\"rok\": \"2004-01-01T00:00:00\", \"variable\": \"novinky nad 50 stran\", \"value\": 9602.0}, {\"rok\": \"2005-01-01T00:00:00\", \"variable\": \"novinky nad 50 stran\", \"value\": 9883.0}, {\"rok\": \"2006-01-01T00:00:00\", \"variable\": \"novinky nad 50 stran\", \"value\": 10384.0}, {\"rok\": \"2007-01-01T00:00:00\", \"variable\": \"novinky nad 50 stran\", \"value\": 10631.0}, {\"rok\": \"2008-01-01T00:00:00\", \"variable\": \"novinky nad 50 stran\", \"value\": 10855.0}, {\"rok\": \"2009-01-01T00:00:00\", \"variable\": \"novinky nad 50 stran\", \"value\": 10303.0}, {\"rok\": \"2010-01-01T00:00:00\", \"variable\": \"novinky nad 50 stran\", \"value\": 10527.0}, {\"rok\": \"2011-01-01T00:00:00\", \"variable\": \"novinky nad 50 stran\", \"value\": 10537.0}, {\"rok\": \"2012-01-01T00:00:00\", \"variable\": \"novinky nad 50 stran\", \"value\": 10120.0}, {\"rok\": \"2013-01-01T00:00:00\", \"variable\": \"novinky nad 50 stran\", \"value\": 10276.0}, {\"rok\": \"2014-01-01T00:00:00\", \"variable\": \"novinky nad 50 stran\", \"value\": 10326.0}, {\"rok\": \"2015-01-01T00:00:00\", \"variable\": \"novinky nad 50 stran\", \"value\": 10140.0}, {\"rok\": \"2016-01-01T00:00:00\", \"variable\": \"novinky nad 50 stran\", \"value\": 9481.0}, {\"rok\": \"2017-01-01T00:00:00\", \"variable\": \"novinky nad 50 stran\", \"value\": 9505.0}, {\"rok\": \"2018-01-01T00:00:00\", \"variable\": \"novinky nad 50 stran\", \"value\": 9803.0}, {\"rok\": \"2019-01-01T00:00:00\", \"variable\": \"novinky nad 50 stran\", \"value\": 9356.0}, {\"rok\": \"2020-01-01T00:00:00\", \"variable\": \"novinky nad 50 stran\", \"value\": 8689.0}, {\"rok\": \"2021-01-01T00:00:00\", \"variable\": \"novinky nad 50 stran\", \"value\": 8637.0}, {\"rok\": \"2022-01-01T00:00:00\", \"variable\": \"novinky nad 50 stran\", \"value\": 8528.0}, {\"rok\": \"2023-01-01T00:00:00\", \"variable\": \"novinky nad 50 stran\", \"value\": 7792.0}, {\"rok\": \"1901-01-01T00:00:00\", \"variable\": \"pod\\u00edl p\\u0159eklad\\u016f\", \"value\": 0.11003236245954692}, {\"rok\": \"1902-01-01T00:00:00\", \"variable\": \"pod\\u00edl p\\u0159eklad\\u016f\", \"value\": 0.14673913043478262}, {\"rok\": \"1903-01-01T00:00:00\", \"variable\": \"pod\\u00edl p\\u0159eklad\\u016f\", \"value\": 0.1527777777777778}, {\"rok\": \"1904-01-01T00:00:00\", \"variable\": \"pod\\u00edl p\\u0159eklad\\u016f\", \"value\": 0.13753581661891118}, {\"rok\": \"1905-01-01T00:00:00\", \"variable\": \"pod\\u00edl p\\u0159eklad\\u016f\", \"value\": 0.12}, {\"rok\": \"1906-01-01T00:00:00\", \"variable\": \"pod\\u00edl p\\u0159eklad\\u016f\", \"value\": 0.10985915492957747}, {\"rok\": \"1907-01-01T00:00:00\", \"variable\": \"pod\\u00edl p\\u0159eklad\\u016f\", \"value\": 0.12121212121212122}, {\"rok\": \"1908-01-01T00:00:00\", \"variable\": \"pod\\u00edl p\\u0159eklad\\u016f\", \"value\": 0.12098765432098765}, {\"rok\": \"1909-01-01T00:00:00\", \"variable\": \"pod\\u00edl p\\u0159eklad\\u016f\", \"value\": 0.12709832134292565}, {\"rok\": \"1910-01-01T00:00:00\", \"variable\": \"pod\\u00edl p\\u0159eklad\\u016f\", \"value\": 0.12030075187969924}, {\"rok\": \"1911-01-01T00:00:00\", \"variable\": \"pod\\u00edl p\\u0159eklad\\u016f\", \"value\": 0.13818181818181818}, {\"rok\": \"1912-01-01T00:00:00\", \"variable\": \"pod\\u00edl p\\u0159eklad\\u016f\", \"value\": 0.1544256120527307}, {\"rok\": \"1913-01-01T00:00:00\", \"variable\": \"pod\\u00edl p\\u0159eklad\\u016f\", \"value\": 0.14712153518123666}, {\"rok\": \"1914-01-01T00:00:00\", \"variable\": \"pod\\u00edl p\\u0159eklad\\u016f\", \"value\": 0.1307901907356948}, {\"rok\": \"1915-01-01T00:00:00\", \"variable\": \"pod\\u00edl p\\u0159eklad\\u016f\", \"value\": 0.14695340501792115}, {\"rok\": \"1916-01-01T00:00:00\", \"variable\": \"pod\\u00edl p\\u0159eklad\\u016f\", \"value\": 0.15824915824915825}, {\"rok\": \"1917-01-01T00:00:00\", \"variable\": \"pod\\u00edl p\\u0159eklad\\u016f\", \"value\": 0.15857605177993528}, {\"rok\": \"1918-01-01T00:00:00\", \"variable\": \"pod\\u00edl p\\u0159eklad\\u016f\", \"value\": 0.12852664576802508}, {\"rok\": \"1919-01-01T00:00:00\", \"variable\": \"pod\\u00edl p\\u0159eklad\\u016f\", \"value\": 0.1352253756260434}, {\"rok\": \"1920-01-01T00:00:00\", \"variable\": \"pod\\u00edl p\\u0159eklad\\u016f\", \"value\": 0.1278538812785388}, {\"rok\": \"1921-01-01T00:00:00\", \"variable\": \"pod\\u00edl p\\u0159eklad\\u016f\", \"value\": 0.14592933947772657}, {\"rok\": \"1922-01-01T00:00:00\", \"variable\": \"pod\\u00edl p\\u0159eklad\\u016f\", \"value\": 0.11388455538221529}, {\"rok\": \"1923-01-01T00:00:00\", \"variable\": \"pod\\u00edl p\\u0159eklad\\u016f\", \"value\": 0.1463768115942029}, {\"rok\": \"1924-01-01T00:00:00\", \"variable\": \"pod\\u00edl p\\u0159eklad\\u016f\", \"value\": 0.11440677966101695}, {\"rok\": \"1925-01-01T00:00:00\", \"variable\": \"pod\\u00edl p\\u0159eklad\\u016f\", \"value\": 0.11617806731813246}, {\"rok\": \"1926-01-01T00:00:00\", \"variable\": \"pod\\u00edl p\\u0159eklad\\u016f\", \"value\": 0.09068923821039904}, {\"rok\": \"1927-01-01T00:00:00\", \"variable\": \"pod\\u00edl p\\u0159eklad\\u016f\", \"value\": 0.0991636798088411}, {\"rok\": \"1928-01-01T00:00:00\", \"variable\": \"pod\\u00edl p\\u0159eklad\\u016f\", \"value\": 0.11657142857142858}, {\"rok\": \"1929-01-01T00:00:00\", \"variable\": \"pod\\u00edl p\\u0159eklad\\u016f\", \"value\": 0.12871287128712872}, {\"rok\": \"1930-01-01T00:00:00\", \"variable\": \"pod\\u00edl p\\u0159eklad\\u016f\", \"value\": 0.11491442542787286}, {\"rok\": \"1931-01-01T00:00:00\", \"variable\": \"pod\\u00edl p\\u0159eklad\\u016f\", \"value\": 0.12916111850865514}, {\"rok\": \"1932-01-01T00:00:00\", \"variable\": \"pod\\u00edl p\\u0159eklad\\u016f\", \"value\": 0.1271186440677966}, {\"rok\": \"1933-01-01T00:00:00\", \"variable\": \"pod\\u00edl p\\u0159eklad\\u016f\", \"value\": 0.14160839160839161}, {\"rok\": \"1934-01-01T00:00:00\", \"variable\": \"pod\\u00edl p\\u0159eklad\\u016f\", \"value\": 0.1609403254972875}, {\"rok\": \"1935-01-01T00:00:00\", \"variable\": \"pod\\u00edl p\\u0159eklad\\u016f\", \"value\": 0.1650485436893204}, {\"rok\": \"1936-01-01T00:00:00\", \"variable\": \"pod\\u00edl p\\u0159eklad\\u016f\", \"value\": 0.17952314165497896}, {\"rok\": \"1937-01-01T00:00:00\", \"variable\": \"pod\\u00edl p\\u0159eklad\\u016f\", \"value\": 0.17647058823529413}, {\"rok\": \"1938-01-01T00:00:00\", \"variable\": \"pod\\u00edl p\\u0159eklad\\u016f\", \"value\": 0.19927536231884058}, {\"rok\": \"1939-01-01T00:00:00\", \"variable\": \"pod\\u00edl p\\u0159eklad\\u016f\", \"value\": 0.23954372623574144}, {\"rok\": \"1940-01-01T00:00:00\", \"variable\": \"pod\\u00edl p\\u0159eklad\\u016f\", \"value\": 0.2075187969924812}, {\"rok\": \"1941-01-01T00:00:00\", \"variable\": \"pod\\u00edl p\\u0159eklad\\u016f\", \"value\": 0.23747680890538034}, {\"rok\": \"1942-01-01T00:00:00\", \"variable\": \"pod\\u00edl p\\u0159eklad\\u016f\", \"value\": 0.2494279176201373}, {\"rok\": \"1943-01-01T00:00:00\", \"variable\": \"pod\\u00edl p\\u0159eklad\\u016f\", \"value\": 0.2317596566523605}, {\"rok\": \"1944-01-01T00:00:00\", \"variable\": \"pod\\u00edl p\\u0159eklad\\u016f\", \"value\": 0.24662162162162163}, {\"rok\": \"1945-01-01T00:00:00\", \"variable\": \"pod\\u00edl p\\u0159eklad\\u016f\", \"value\": 0.24031007751937986}, {\"rok\": \"1946-01-01T00:00:00\", \"variable\": \"pod\\u00edl p\\u0159eklad\\u016f\", \"value\": 0.1718213058419244}, {\"rok\": \"1947-01-01T00:00:00\", \"variable\": \"pod\\u00edl p\\u0159eklad\\u016f\", \"value\": 0.16407355021216408}, {\"rok\": \"1948-01-01T00:00:00\", \"variable\": \"pod\\u00edl p\\u0159eklad\\u016f\", \"value\": 0.14207650273224043}, {\"rok\": \"1949-01-01T00:00:00\", \"variable\": \"pod\\u00edl p\\u0159eklad\\u016f\", \"value\": 0.12212389380530973}, {\"rok\": \"1950-01-01T00:00:00\", \"variable\": \"pod\\u00edl p\\u0159eklad\\u016f\", \"value\": 0.0887218045112782}, {\"rok\": \"1951-01-01T00:00:00\", \"variable\": \"pod\\u00edl p\\u0159eklad\\u016f\", \"value\": 0.058695652173913045}, {\"rok\": \"1952-01-01T00:00:00\", \"variable\": \"pod\\u00edl p\\u0159eklad\\u016f\", \"value\": 0.06768558951965066}, {\"rok\": \"1953-01-01T00:00:00\", \"variable\": \"pod\\u00edl p\\u0159eklad\\u016f\", \"value\": 0.08985200845665962}, {\"rok\": \"1954-01-01T00:00:00\", \"variable\": \"pod\\u00edl p\\u0159eklad\\u016f\", \"value\": 0.10215053763440861}, {\"rok\": \"1955-01-01T00:00:00\", \"variable\": \"pod\\u00edl p\\u0159eklad\\u016f\", \"value\": 0.14549653579676675}, {\"rok\": \"1956-01-01T00:00:00\", \"variable\": \"pod\\u00edl p\\u0159eklad\\u016f\", \"value\": 0.14767932489451477}, {\"rok\": \"1957-01-01T00:00:00\", \"variable\": \"pod\\u00edl p\\u0159eklad\\u016f\", \"value\": 0.16704545454545455}, {\"rok\": \"1958-01-01T00:00:00\", \"variable\": \"pod\\u00edl p\\u0159eklad\\u016f\", \"value\": 0.17735042735042736}, {\"rok\": \"1959-01-01T00:00:00\", \"variable\": \"pod\\u00edl p\\u0159eklad\\u016f\", \"value\": 0.18024439918533605}, {\"rok\": \"1960-01-01T00:00:00\", \"variable\": \"pod\\u00edl p\\u0159eklad\\u016f\", \"value\": 0.18407445708376421}, {\"rok\": \"1961-01-01T00:00:00\", \"variable\": \"pod\\u00edl p\\u0159eklad\\u016f\", \"value\": 0.20685959271168275}, {\"rok\": \"1962-01-01T00:00:00\", \"variable\": \"pod\\u00edl p\\u0159eklad\\u016f\", \"value\": 0.20515574650912996}, {\"rok\": \"1963-01-01T00:00:00\", \"variable\": \"pod\\u00edl p\\u0159eklad\\u016f\", \"value\": 0.2139689578713969}, {\"rok\": \"1964-01-01T00:00:00\", \"variable\": \"pod\\u00edl p\\u0159eklad\\u016f\", \"value\": 0.19063545150501673}, {\"rok\": \"1965-01-01T00:00:00\", \"variable\": \"pod\\u00edl p\\u0159eklad\\u016f\", \"value\": 0.20682523267838676}, {\"rok\": \"1966-01-01T00:00:00\", \"variable\": \"pod\\u00edl p\\u0159eklad\\u016f\", \"value\": 0.21871820956256358}, {\"rok\": \"1967-01-01T00:00:00\", \"variable\": \"pod\\u00edl p\\u0159eklad\\u016f\", \"value\": 0.22114451988360814}, {\"rok\": \"1968-01-01T00:00:00\", \"variable\": \"pod\\u00edl p\\u0159eklad\\u016f\", \"value\": 0.22156862745098038}, {\"rok\": \"1969-01-01T00:00:00\", \"variable\": \"pod\\u00edl p\\u0159eklad\\u016f\", \"value\": 0.19189765458422176}, {\"rok\": \"1970-01-01T00:00:00\", \"variable\": \"pod\\u00edl p\\u0159eklad\\u016f\", \"value\": 0.20271580989330748}, {\"rok\": \"1971-01-01T00:00:00\", \"variable\": \"pod\\u00edl p\\u0159eklad\\u016f\", \"value\": 0.20958083832335328}, {\"rok\": \"1972-01-01T00:00:00\", \"variable\": \"pod\\u00edl p\\u0159eklad\\u016f\", \"value\": 0.21694214876033058}, {\"rok\": \"1973-01-01T00:00:00\", \"variable\": \"pod\\u00edl p\\u0159eklad\\u016f\", \"value\": 0.2323135755258126}, {\"rok\": \"1974-01-01T00:00:00\", \"variable\": \"pod\\u00edl p\\u0159eklad\\u016f\", \"value\": 0.21651376146788992}, {\"rok\": \"1975-01-01T00:00:00\", \"variable\": \"pod\\u00edl p\\u0159eklad\\u016f\", \"value\": 0.21816562778272486}, {\"rok\": \"1976-01-01T00:00:00\", \"variable\": \"pod\\u00edl p\\u0159eklad\\u016f\", \"value\": 0.22774133083411435}, {\"rok\": \"1977-01-01T00:00:00\", \"variable\": \"pod\\u00edl p\\u0159eklad\\u016f\", \"value\": 0.22940655447298494}, {\"rok\": \"1978-01-01T00:00:00\", \"variable\": \"pod\\u00edl p\\u0159eklad\\u016f\", \"value\": 0.24550898203592814}, {\"rok\": \"1979-01-01T00:00:00\", \"variable\": \"pod\\u00edl p\\u0159eklad\\u016f\", \"value\": 0.2681268882175227}, {\"rok\": \"1980-01-01T00:00:00\", \"variable\": \"pod\\u00edl p\\u0159eklad\\u016f\", \"value\": 0.26723470178156467}, {\"rok\": \"1981-01-01T00:00:00\", \"variable\": \"pod\\u00edl p\\u0159eklad\\u016f\", \"value\": 0.2721417069243156}, {\"rok\": \"1982-01-01T00:00:00\", \"variable\": \"pod\\u00edl p\\u0159eklad\\u016f\", \"value\": 0.2452504317789292}, {\"rok\": \"1983-01-01T00:00:00\", \"variable\": \"pod\\u00edl p\\u0159eklad\\u016f\", \"value\": 0.19518716577540107}, {\"rok\": \"1984-01-01T00:00:00\", \"variable\": \"pod\\u00edl p\\u0159eklad\\u016f\", \"value\": 0.16447368421052633}, {\"rok\": \"1985-01-01T00:00:00\", \"variable\": \"pod\\u00edl p\\u0159eklad\\u016f\", \"value\": 0.1994750656167979}, {\"rok\": \"1986-01-01T00:00:00\", \"variable\": \"pod\\u00edl p\\u0159eklad\\u016f\", \"value\": 0.1939799331103679}, {\"rok\": \"1987-01-01T00:00:00\", \"variable\": \"pod\\u00edl p\\u0159eklad\\u016f\", \"value\": 0.20113544201135442}, {\"rok\": \"1988-01-01T00:00:00\", \"variable\": \"pod\\u00edl p\\u0159eklad\\u016f\", \"value\": 0.1795316565481353}, {\"rok\": \"1989-01-01T00:00:00\", \"variable\": \"pod\\u00edl p\\u0159eklad\\u016f\", \"value\": 0.21375739644970415}, {\"rok\": \"1990-01-01T00:00:00\", \"variable\": \"pod\\u00edl p\\u0159eklad\\u016f\", \"value\": 0.1933028919330289}, {\"rok\": \"1991-01-01T00:00:00\", \"variable\": \"pod\\u00edl p\\u0159eklad\\u016f\", \"value\": 0.19251992642550583}, {\"rok\": \"1992-01-01T00:00:00\", \"variable\": \"pod\\u00edl p\\u0159eklad\\u016f\", \"value\": 0.1936056838365897}, {\"rok\": \"1993-01-01T00:00:00\", \"variable\": \"pod\\u00edl p\\u0159eklad\\u016f\", \"value\": 0.1891891891891892}, {\"rok\": \"1994-01-01T00:00:00\", \"variable\": \"pod\\u00edl p\\u0159eklad\\u016f\", \"value\": 0.1594896331738437}, {\"rok\": \"1995-01-01T00:00:00\", \"variable\": \"pod\\u00edl p\\u0159eklad\\u016f\", \"value\": 0.14989293361884368}, {\"rok\": \"1996-01-01T00:00:00\", \"variable\": \"pod\\u00edl p\\u0159eklad\\u016f\", \"value\": 0.14810627473148671}, {\"rok\": \"1997-01-01T00:00:00\", \"variable\": \"pod\\u00edl p\\u0159eklad\\u016f\", \"value\": 0.16378622706726934}, {\"rok\": \"1998-01-01T00:00:00\", \"variable\": \"pod\\u00edl p\\u0159eklad\\u016f\", \"value\": 0.1643835616438356}, {\"rok\": \"1999-01-01T00:00:00\", \"variable\": \"pod\\u00edl p\\u0159eklad\\u016f\", \"value\": 0.16820040899795502}, {\"rok\": \"2000-01-01T00:00:00\", \"variable\": \"pod\\u00edl p\\u0159eklad\\u016f\", \"value\": 0.17684594348222424}, {\"rok\": \"2001-01-01T00:00:00\", \"variable\": \"pod\\u00edl p\\u0159eklad\\u016f\", \"value\": 0.1882940108892922}, {\"rok\": \"2002-01-01T00:00:00\", \"variable\": \"pod\\u00edl p\\u0159eklad\\u016f\", \"value\": 0.18306072148778849}, {\"rok\": \"2003-01-01T00:00:00\", \"variable\": \"pod\\u00edl p\\u0159eklad\\u016f\", \"value\": 0.20234906243560685}, {\"rok\": \"2004-01-01T00:00:00\", \"variable\": \"pod\\u00edl p\\u0159eklad\\u016f\", \"value\": 0.19300675090877617}, {\"rok\": \"2005-01-01T00:00:00\", \"variable\": \"pod\\u00edl p\\u0159eklad\\u016f\", \"value\": 0.20704375667022412}, {\"rok\": \"2006-01-01T00:00:00\", \"variable\": \"pod\\u00edl p\\u0159eklad\\u016f\", \"value\": 0.20621931260229132}, {\"rok\": \"2007-01-01T00:00:00\", \"variable\": \"pod\\u00edl p\\u0159eklad\\u016f\", \"value\": 0.2052310654685494}, {\"rok\": \"2008-01-01T00:00:00\", \"variable\": \"pod\\u00edl p\\u0159eklad\\u016f\", \"value\": 0.20227504739682076}, {\"rok\": \"2009-01-01T00:00:00\", \"variable\": \"pod\\u00edl p\\u0159eklad\\u016f\", \"value\": 0.20312730491222894}, {\"rok\": \"2010-01-01T00:00:00\", \"variable\": \"pod\\u00edl p\\u0159eklad\\u016f\", \"value\": 0.19326347305389222}, {\"rok\": \"2011-01-01T00:00:00\", \"variable\": \"pod\\u00edl p\\u0159eklad\\u016f\", \"value\": 0.1737010513484687}, {\"rok\": \"2012-01-01T00:00:00\", \"variable\": \"pod\\u00edl p\\u0159eklad\\u016f\", \"value\": 0.16553323029366307}, {\"rok\": \"2013-01-01T00:00:00\", \"variable\": \"pod\\u00edl p\\u0159eklad\\u016f\", \"value\": 0.16294227188081936}, {\"rok\": \"2014-01-01T00:00:00\", \"variable\": \"pod\\u00edl p\\u0159eklad\\u016f\", \"value\": 0.16612124045504129}, {\"rok\": \"2015-01-01T00:00:00\", \"variable\": \"pod\\u00edl p\\u0159eklad\\u016f\", \"value\": 0.14711005542359462}, {\"rok\": \"2016-01-01T00:00:00\", \"variable\": \"pod\\u00edl p\\u0159eklad\\u016f\", \"value\": 0.14043463944682252}, {\"rok\": \"2017-01-01T00:00:00\", \"variable\": \"pod\\u00edl p\\u0159eklad\\u016f\", \"value\": 0.1380634390651085}, {\"rok\": \"2018-01-01T00:00:00\", \"variable\": \"pod\\u00edl p\\u0159eklad\\u016f\", \"value\": 0.13980075126571942}, {\"rok\": \"2019-01-01T00:00:00\", \"variable\": \"pod\\u00edl p\\u0159eklad\\u016f\", \"value\": 0.12630319603486584}, {\"rok\": \"2020-01-01T00:00:00\", \"variable\": \"pod\\u00edl p\\u0159eklad\\u016f\", \"value\": 0.11947849776221055}, {\"rok\": \"2021-01-01T00:00:00\", \"variable\": \"pod\\u00edl p\\u0159eklad\\u016f\", \"value\": 0.1318296713980167}, {\"rok\": \"2022-01-01T00:00:00\", \"variable\": \"pod\\u00edl p\\u0159eklad\\u016f\", \"value\": 0.12558487740969493}, {\"rok\": \"2023-01-01T00:00:00\", \"variable\": \"pod\\u00edl p\\u0159eklad\\u016f\", \"value\": 0.12345415778251599}]}}, {\"mode\": \"vega-lite\"});\n",
       "</script>"
      ],
      "text/plain": [
       "alt.Chart(...)"
      ]
     },
     "execution_count": 743,
     "metadata": {},
     "output_type": "execute_result"
    }
   ],
   "source": [
    "produkce_faceted = alt.Chart(do_grafu.to_pandas(), title={'text': titulek, 'subtitle': podtitulek}, width=300).mark_area().encode(\n",
    "    alt.X(\"rok:T\", \n",
    "          title=None,\n",
    "          axis=alt.Axis(domainOpacity=0, tickColor='#DCDDD6')\n",
    "    ),\n",
    "    alt.Y('value:Q', \n",
    "          axis=alt.Axis(orient='left', domainOpacity=0, tickColor='#DCDDD6', format='~s'), \n",
    "          title=None\n",
    "    ),\n",
    "    alt.Color(\"variable:N\", \n",
    "              scale=alt.Scale(range=['#8eba21', '#f77961']),\n",
    "              title=None, \n",
    "              legend=None\n",
    "    ),\n",
    "    row=alt.Row(\n",
    "        \"variable:N\", \n",
    "        sort=['všechny publikace', 'novinky nad 50 stran'],\n",
    "        title=None, \n",
    "        spacing=15,\n",
    "        header=alt.Header(labelAngle=0, labelAlign='left', labelAnchor='middle', labelFont='Asap')\n",
    "    )\n",
    ").resolve_scale(y='independent').properties(height=90, width=300)\n",
    "\n",
    "produkce_faceted"
   ]
  },
  {
   "cell_type": "code",
   "execution_count": 745,
   "id": "b2d5942d-4d6c-440f-83d8-af0d4c182b7f",
   "metadata": {},
   "outputs": [],
   "source": [
    "def me_to_neurazi(zaklad_grafu, soubor, kredity):\n",
    "\n",
    "    os.makedirs(\"grafy\", exist_ok=True)\n",
    "    \n",
    "    credits = pl.DataFrame({'text': [kredity]})\n",
    "    credits = alt.Chart(credits.to_pandas(), width=300).encode(text=alt.Text('text:N')).mark_text(fontSize=10,font=\"Asap\", baseline='line-bottom')\n",
    "    combined_chart = alt.vconcat(zaklad_grafu, credits)\n",
    "\n",
    "    combined_chart.save(os.path.join(\"grafy\",f\"{soubor}.svg\"))\n",
    "    combined_chart.save(os.path.join(\"grafy\",f\"{soubor}.png\"), ppi=400)\n",
    "    \n",
    "    return combined_chart"
   ]
  },
  {
   "cell_type": "code",
   "execution_count": 747,
   "id": "07317a11-fb81-4696-9746-5fb288c75a3b",
   "metadata": {},
   "outputs": [
    {
     "name": "stderr",
     "output_type": "stream",
     "text": [
      "C:\\Users\\micha\\anaconda3\\Lib\\site-packages\\altair\\utils\\core.py:395: FutureWarning: the convert_dtype parameter is deprecated and will be removed in a future version.  Do ``ser.astype(object).apply()`` instead if you want ``convert_dtype=False``.\n",
      "  col = df[col_name].apply(to_list_if_array, convert_dtype=False)\n",
      "C:\\Users\\micha\\anaconda3\\Lib\\site-packages\\altair\\utils\\core.py:395: FutureWarning: the convert_dtype parameter is deprecated and will be removed in a future version.  Do ``ser.astype(object).apply()`` instead if you want ``convert_dtype=False``.\n",
      "  col = df[col_name].apply(to_list_if_array, convert_dtype=False)\n",
      "C:\\Users\\micha\\anaconda3\\Lib\\site-packages\\altair\\utils\\core.py:395: FutureWarning: the convert_dtype parameter is deprecated and will be removed in a future version.  Do ``ser.astype(object).apply()`` instead if you want ``convert_dtype=False``.\n",
      "  col = df[col_name].apply(to_list_if_array, convert_dtype=False)\n",
      "C:\\Users\\micha\\anaconda3\\Lib\\site-packages\\altair\\utils\\core.py:395: FutureWarning: the convert_dtype parameter is deprecated and will be removed in a future version.  Do ``ser.astype(object).apply()`` instead if you want ``convert_dtype=False``.\n",
      "  col = df[col_name].apply(to_list_if_array, convert_dtype=False)\n",
      "C:\\Users\\micha\\anaconda3\\Lib\\site-packages\\altair\\utils\\core.py:395: FutureWarning: the convert_dtype parameter is deprecated and will be removed in a future version.  Do ``ser.astype(object).apply()`` instead if you want ``convert_dtype=False``.\n",
      "  col = df[col_name].apply(to_list_if_array, convert_dtype=False)\n",
      "C:\\Users\\micha\\anaconda3\\Lib\\site-packages\\altair\\utils\\core.py:395: FutureWarning: the convert_dtype parameter is deprecated and will be removed in a future version.  Do ``ser.astype(object).apply()`` instead if you want ``convert_dtype=False``.\n",
      "  col = df[col_name].apply(to_list_if_array, convert_dtype=False)\n"
     ]
    },
    {
     "data": {
      "text/html": [
       "\n",
       "<style>\n",
       "  #altair-viz-4ddc98fa0a084a39a5d00041359fe58c.vega-embed {\n",
       "    width: 100%;\n",
       "    display: flex;\n",
       "  }\n",
       "\n",
       "  #altair-viz-4ddc98fa0a084a39a5d00041359fe58c.vega-embed details,\n",
       "  #altair-viz-4ddc98fa0a084a39a5d00041359fe58c.vega-embed details summary {\n",
       "    position: relative;\n",
       "  }\n",
       "</style>\n",
       "<div id=\"altair-viz-4ddc98fa0a084a39a5d00041359fe58c\"></div>\n",
       "<script type=\"text/javascript\">\n",
       "  var VEGA_DEBUG = (typeof VEGA_DEBUG == \"undefined\") ? {} : VEGA_DEBUG;\n",
       "  (function(spec, embedOpt){\n",
       "    let outputDiv = document.currentScript.previousElementSibling;\n",
       "    if (outputDiv.id !== \"altair-viz-4ddc98fa0a084a39a5d00041359fe58c\") {\n",
       "      outputDiv = document.getElementById(\"altair-viz-4ddc98fa0a084a39a5d00041359fe58c\");\n",
       "    }\n",
       "    const paths = {\n",
       "      \"vega\": \"https://cdn.jsdelivr.net/npm/vega@5?noext\",\n",
       "      \"vega-lib\": \"https://cdn.jsdelivr.net/npm/vega-lib?noext\",\n",
       "      \"vega-lite\": \"https://cdn.jsdelivr.net/npm/vega-lite@5.8.0?noext\",\n",
       "      \"vega-embed\": \"https://cdn.jsdelivr.net/npm/vega-embed@6?noext\",\n",
       "    };\n",
       "\n",
       "    function maybeLoadScript(lib, version) {\n",
       "      var key = `${lib.replace(\"-\", \"\")}_version`;\n",
       "      return (VEGA_DEBUG[key] == version) ?\n",
       "        Promise.resolve(paths[lib]) :\n",
       "        new Promise(function(resolve, reject) {\n",
       "          var s = document.createElement('script');\n",
       "          document.getElementsByTagName(\"head\")[0].appendChild(s);\n",
       "          s.async = true;\n",
       "          s.onload = () => {\n",
       "            VEGA_DEBUG[key] = version;\n",
       "            return resolve(paths[lib]);\n",
       "          };\n",
       "          s.onerror = () => reject(`Error loading script: ${paths[lib]}`);\n",
       "          s.src = paths[lib];\n",
       "        });\n",
       "    }\n",
       "\n",
       "    function showError(err) {\n",
       "      outputDiv.innerHTML = `<div class=\"error\" style=\"color:red;\">${err}</div>`;\n",
       "      throw err;\n",
       "    }\n",
       "\n",
       "    function displayChart(vegaEmbed) {\n",
       "      vegaEmbed(outputDiv, spec, embedOpt)\n",
       "        .catch(err => showError(`Javascript Error: ${err.message}<br>This usually means there's a typo in your chart specification. See the javascript console for the full traceback.`));\n",
       "    }\n",
       "\n",
       "    if(typeof define === \"function\" && define.amd) {\n",
       "      requirejs.config({paths});\n",
       "      require([\"vega-embed\"], displayChart, err => showError(`Error loading script: ${err.message}`));\n",
       "    } else {\n",
       "      maybeLoadScript(\"vega\", \"5\")\n",
       "        .then(() => maybeLoadScript(\"vega-lite\", \"5.8.0\"))\n",
       "        .then(() => maybeLoadScript(\"vega-embed\", \"6\"))\n",
       "        .catch(showError)\n",
       "        .then(() => displayChart(vegaEmbed));\n",
       "    }\n",
       "  })({\"config\": {\"title\": {\"font\": \"Noticia Text\", \"fontSize\": 14, \"anchor\": \"start\", \"fontWeight\": \"bolder\", \"subtitleFont\": \"Noticia Text\", \"subtitleLineHeight\": 18, \"subtitleFontSize\": 12, \"subtitleFontWeight\": \"normal\", \"subtitlePadding\": 10, \"dy\": -12}, \"axis\": {\"labelFont\": \"Asap\", \"titleFont\": \"Asap\", \"fontWeight\": \"lighter\", \"titleFontWeight\": \"lighter\", \"labelFontSize\": 10, \"titleFontSize\": 10, \"labelPadding\": 2, \"titlePadding\": 10}, \"legend\": {\"labelFont\": \"Asap\", \"labelFontWeight\": \"normal\", \"titleFont\": \"Asap\", \"titleFontWeight\": \"normal\", \"labelFontSize\": 10, \"titleFontSize\": 10}}, \"vconcat\": [{\"data\": {\"name\": \"data-1d9704926bed8fd1f7abae7ffde9a0b3\"}, \"mark\": {\"type\": \"area\"}, \"encoding\": {\"color\": {\"field\": \"variable\", \"legend\": null, \"scale\": {\"range\": [\"#8eba21\", \"#f77961\"]}, \"title\": null, \"type\": \"nominal\"}, \"row\": {\"field\": \"variable\", \"header\": {\"labelAlign\": \"left\", \"labelAnchor\": \"middle\", \"labelAngle\": 0, \"labelFont\": \"Asap\"}, \"sort\": [\"v\\u0161echny publikace\", \"novinky nad 50 stran\"], \"spacing\": 15, \"title\": null, \"type\": \"nominal\"}, \"x\": {\"axis\": {\"domainOpacity\": 0, \"tickColor\": \"#DCDDD6\"}, \"field\": \"rok\", \"title\": null, \"type\": \"temporal\"}, \"y\": {\"axis\": {\"domainOpacity\": 0, \"format\": \"~s\", \"orient\": \"left\", \"tickColor\": \"#DCDDD6\"}, \"field\": \"value\", \"title\": null, \"type\": \"quantitative\"}}, \"height\": 90, \"resolve\": {\"scale\": {\"y\": \"independent\"}}, \"title\": {\"text\": \"V\\u00fdvoj kni\\u017en\\u00ed produkce na \\u010desk\\u00e9m \\u00fazem\\u00ed\", \"subtitle\": [\"Celkov\\u00e9 po\\u010dty z\\u00e1znam\\u016f v \\u010cesk\\u00e9 n\\u00e1rodn\\u00ed bibliografii.\", \"Vedle klasick\\u00fdch knih m\\u016f\\u017ee j\\u00edt i o katalogy v\\u00fdstav apod.\"]}, \"width\": 300}, {\"data\": {\"name\": \"data-a3f8095f7e7dc7f5f7fef984c8960ef9\"}, \"mark\": {\"type\": \"text\", \"baseline\": \"line-bottom\", \"font\": \"Asap\", \"fontSize\": 10}, \"encoding\": {\"text\": {\"field\": \"text\", \"type\": \"nominal\"}}, \"width\": 300}], \"$schema\": \"https://vega.github.io/schema/vega-lite/v5.8.0.json\", \"datasets\": {\"data-1d9704926bed8fd1f7abae7ffde9a0b3\": [{\"rok\": \"1901-01-01T00:00:00\", \"variable\": \"v\\u0161echny publikace\", \"value\": 1807.0}, {\"rok\": \"1902-01-01T00:00:00\", \"variable\": \"v\\u0161echny publikace\", \"value\": 2038.0}, {\"rok\": \"1903-01-01T00:00:00\", \"variable\": \"v\\u0161echny publikace\", \"value\": 1973.0}, {\"rok\": \"1904-01-01T00:00:00\", \"variable\": \"v\\u0161echny publikace\", \"value\": 1896.0}, {\"rok\": \"1905-01-01T00:00:00\", \"variable\": \"v\\u0161echny publikace\", \"value\": 1811.0}, {\"rok\": \"1906-01-01T00:00:00\", \"variable\": \"v\\u0161echny publikace\", \"value\": 2239.0}, {\"rok\": \"1907-01-01T00:00:00\", \"variable\": \"v\\u0161echny publikace\", \"value\": 2076.0}, {\"rok\": \"1908-01-01T00:00:00\", \"variable\": \"v\\u0161echny publikace\", \"value\": 2342.0}, {\"rok\": \"1909-01-01T00:00:00\", \"variable\": \"v\\u0161echny publikace\", \"value\": 2247.0}, {\"rok\": \"1910-01-01T00:00:00\", \"variable\": \"v\\u0161echny publikace\", \"value\": 2546.0}, {\"rok\": \"1911-01-01T00:00:00\", \"variable\": \"v\\u0161echny publikace\", \"value\": 2474.0}, {\"rok\": \"1912-01-01T00:00:00\", \"variable\": \"v\\u0161echny publikace\", \"value\": 2593.0}, {\"rok\": \"1913-01-01T00:00:00\", \"variable\": \"v\\u0161echny publikace\", \"value\": 2688.0}, {\"rok\": \"1914-01-01T00:00:00\", \"variable\": \"v\\u0161echny publikace\", \"value\": 2034.0}, {\"rok\": \"1915-01-01T00:00:00\", \"variable\": \"v\\u0161echny publikace\", \"value\": 1394.0}, {\"rok\": \"1916-01-01T00:00:00\", \"variable\": \"v\\u0161echny publikace\", \"value\": 1509.0}, {\"rok\": \"1917-01-01T00:00:00\", \"variable\": \"v\\u0161echny publikace\", \"value\": 1573.0}, {\"rok\": \"1918-01-01T00:00:00\", \"variable\": \"v\\u0161echny publikace\", \"value\": 1906.0}, {\"rok\": \"1919-01-01T00:00:00\", \"variable\": \"v\\u0161echny publikace\", \"value\": 3423.0}, {\"rok\": \"1920-01-01T00:00:00\", \"variable\": \"v\\u0161echny publikace\", \"value\": 4301.0}, {\"rok\": \"1921-01-01T00:00:00\", \"variable\": \"v\\u0161echny publikace\", \"value\": 3797.0}, {\"rok\": \"1922-01-01T00:00:00\", \"variable\": \"v\\u0161echny publikace\", \"value\": 4231.0}, {\"rok\": \"1923-01-01T00:00:00\", \"variable\": \"v\\u0161echny publikace\", \"value\": 4229.0}, {\"rok\": \"1924-01-01T00:00:00\", \"variable\": \"v\\u0161echny publikace\", \"value\": 4689.0}, {\"rok\": \"1925-01-01T00:00:00\", \"variable\": \"v\\u0161echny publikace\", \"value\": 5261.0}, {\"rok\": \"1926-01-01T00:00:00\", \"variable\": \"v\\u0161echny publikace\", \"value\": 4852.0}, {\"rok\": \"1927-01-01T00:00:00\", \"variable\": \"v\\u0161echny publikace\", \"value\": 4680.0}, {\"rok\": \"1928-01-01T00:00:00\", \"variable\": \"v\\u0161echny publikace\", \"value\": 4945.0}, {\"rok\": \"1929-01-01T00:00:00\", \"variable\": \"v\\u0161echny publikace\", \"value\": 4864.0}, {\"rok\": \"1930-01-01T00:00:00\", \"variable\": \"v\\u0161echny publikace\", \"value\": 5527.0}, {\"rok\": \"1931-01-01T00:00:00\", \"variable\": \"v\\u0161echny publikace\", \"value\": 4978.0}, {\"rok\": \"1932-01-01T00:00:00\", \"variable\": \"v\\u0161echny publikace\", \"value\": 4630.0}, {\"rok\": \"1933-01-01T00:00:00\", \"variable\": \"v\\u0161echny publikace\", \"value\": 4628.0}, {\"rok\": \"1934-01-01T00:00:00\", \"variable\": \"v\\u0161echny publikace\", \"value\": 4870.0}, {\"rok\": \"1935-01-01T00:00:00\", \"variable\": \"v\\u0161echny publikace\", \"value\": 5469.0}, {\"rok\": \"1936-01-01T00:00:00\", \"variable\": \"v\\u0161echny publikace\", \"value\": 6438.0}, {\"rok\": \"1937-01-01T00:00:00\", \"variable\": \"v\\u0161echny publikace\", \"value\": 6467.0}, {\"rok\": \"1938-01-01T00:00:00\", \"variable\": \"v\\u0161echny publikace\", \"value\": 5611.0}, {\"rok\": \"1939-01-01T00:00:00\", \"variable\": \"v\\u0161echny publikace\", \"value\": 4207.0}, {\"rok\": \"1940-01-01T00:00:00\", \"variable\": \"v\\u0161echny publikace\", \"value\": 5558.0}, {\"rok\": \"1941-01-01T00:00:00\", \"variable\": \"v\\u0161echny publikace\", \"value\": 5265.0}, {\"rok\": \"1942-01-01T00:00:00\", \"variable\": \"v\\u0161echny publikace\", \"value\": 2705.0}, {\"rok\": \"1943-01-01T00:00:00\", \"variable\": \"v\\u0161echny publikace\", \"value\": 2079.0}, {\"rok\": \"1944-01-01T00:00:00\", \"variable\": \"v\\u0161echny publikace\", \"value\": 2462.0}, {\"rok\": \"1945-01-01T00:00:00\", \"variable\": \"v\\u0161echny publikace\", \"value\": 3084.0}, {\"rok\": \"1946-01-01T00:00:00\", \"variable\": \"v\\u0161echny publikace\", \"value\": 6052.0}, {\"rok\": \"1947-01-01T00:00:00\", \"variable\": \"v\\u0161echny publikace\", \"value\": 6490.0}, {\"rok\": \"1948-01-01T00:00:00\", \"variable\": \"v\\u0161echny publikace\", \"value\": 5381.0}, {\"rok\": \"1949-01-01T00:00:00\", \"variable\": \"v\\u0161echny publikace\", \"value\": 3973.0}, {\"rok\": \"1950-01-01T00:00:00\", \"variable\": \"v\\u0161echny publikace\", \"value\": 4030.0}, {\"rok\": \"1951-01-01T00:00:00\", \"variable\": \"v\\u0161echny publikace\", \"value\": 4555.0}, {\"rok\": \"1952-01-01T00:00:00\", \"variable\": \"v\\u0161echny publikace\", \"value\": 4399.0}, {\"rok\": \"1953-01-01T00:00:00\", \"variable\": \"v\\u0161echny publikace\", \"value\": 5005.0}, {\"rok\": \"1954-01-01T00:00:00\", \"variable\": \"v\\u0161echny publikace\", \"value\": 5357.0}, {\"rok\": \"1955-01-01T00:00:00\", \"variable\": \"v\\u0161echny publikace\", \"value\": 4948.0}, {\"rok\": \"1956-01-01T00:00:00\", \"variable\": \"v\\u0161echny publikace\", \"value\": 4909.0}, {\"rok\": \"1957-01-01T00:00:00\", \"variable\": \"v\\u0161echny publikace\", \"value\": 4927.0}, {\"rok\": \"1958-01-01T00:00:00\", \"variable\": \"v\\u0161echny publikace\", \"value\": 5513.0}, {\"rok\": \"1959-01-01T00:00:00\", \"variable\": \"v\\u0161echny publikace\", \"value\": 6125.0}, {\"rok\": \"1960-01-01T00:00:00\", \"variable\": \"v\\u0161echny publikace\", \"value\": 5895.0}, {\"rok\": \"1961-01-01T00:00:00\", \"variable\": \"v\\u0161echny publikace\", \"value\": 6037.0}, {\"rok\": \"1962-01-01T00:00:00\", \"variable\": \"v\\u0161echny publikace\", \"value\": 5562.0}, {\"rok\": \"1963-01-01T00:00:00\", \"variable\": \"v\\u0161echny publikace\", \"value\": 5845.0}, {\"rok\": \"1964-01-01T00:00:00\", \"variable\": \"v\\u0161echny publikace\", \"value\": 5533.0}, {\"rok\": \"1965-01-01T00:00:00\", \"variable\": \"v\\u0161echny publikace\", \"value\": 5192.0}, {\"rok\": \"1966-01-01T00:00:00\", \"variable\": \"v\\u0161echny publikace\", \"value\": 5145.0}, {\"rok\": \"1967-01-01T00:00:00\", \"variable\": \"v\\u0161echny publikace\", \"value\": 5122.0}, {\"rok\": \"1968-01-01T00:00:00\", \"variable\": \"v\\u0161echny publikace\", \"value\": 4960.0}, {\"rok\": \"1969-01-01T00:00:00\", \"variable\": \"v\\u0161echny publikace\", \"value\": 4904.0}, {\"rok\": \"1970-01-01T00:00:00\", \"variable\": \"v\\u0161echny publikace\", \"value\": 5245.0}, {\"rok\": \"1971-01-01T00:00:00\", \"variable\": \"v\\u0161echny publikace\", \"value\": 5356.0}, {\"rok\": \"1972-01-01T00:00:00\", \"variable\": \"v\\u0161echny publikace\", \"value\": 5273.0}, {\"rok\": \"1973-01-01T00:00:00\", \"variable\": \"v\\u0161echny publikace\", \"value\": 5468.0}, {\"rok\": \"1974-01-01T00:00:00\", \"variable\": \"v\\u0161echny publikace\", \"value\": 5603.0}, {\"rok\": \"1975-01-01T00:00:00\", \"variable\": \"v\\u0161echny publikace\", \"value\": 5568.0}, {\"rok\": \"1976-01-01T00:00:00\", \"variable\": \"v\\u0161echny publikace\", \"value\": 5787.0}, {\"rok\": \"1977-01-01T00:00:00\", \"variable\": \"v\\u0161echny publikace\", \"value\": 5567.0}, {\"rok\": \"1978-01-01T00:00:00\", \"variable\": \"v\\u0161echny publikace\", \"value\": 5647.0}, {\"rok\": \"1979-01-01T00:00:00\", \"variable\": \"v\\u0161echny publikace\", \"value\": 5918.0}, {\"rok\": \"1980-01-01T00:00:00\", \"variable\": \"v\\u0161echny publikace\", \"value\": 6107.0}, {\"rok\": \"1981-01-01T00:00:00\", \"variable\": \"v\\u0161echny publikace\", \"value\": 6046.0}, {\"rok\": \"1982-01-01T00:00:00\", \"variable\": \"v\\u0161echny publikace\", \"value\": 6137.0}, {\"rok\": \"1983-01-01T00:00:00\", \"variable\": \"v\\u0161echny publikace\", \"value\": 6191.0}, {\"rok\": \"1984-01-01T00:00:00\", \"variable\": \"v\\u0161echny publikace\", \"value\": 6353.0}, {\"rok\": \"1985-01-01T00:00:00\", \"variable\": \"v\\u0161echny publikace\", \"value\": 6417.0}, {\"rok\": \"1986-01-01T00:00:00\", \"variable\": \"v\\u0161echny publikace\", \"value\": 6604.0}, {\"rok\": \"1987-01-01T00:00:00\", \"variable\": \"v\\u0161echny publikace\", \"value\": 6900.0}, {\"rok\": \"1988-01-01T00:00:00\", \"variable\": \"v\\u0161echny publikace\", \"value\": 6808.0}, {\"rok\": \"1989-01-01T00:00:00\", \"variable\": \"v\\u0161echny publikace\", \"value\": 7073.0}, {\"rok\": \"1990-01-01T00:00:00\", \"variable\": \"v\\u0161echny publikace\", \"value\": 6926.0}, {\"rok\": \"1991-01-01T00:00:00\", \"variable\": \"v\\u0161echny publikace\", \"value\": 7201.0}, {\"rok\": \"1992-01-01T00:00:00\", \"variable\": \"v\\u0161echny publikace\", \"value\": 8638.0}, {\"rok\": \"1993-01-01T00:00:00\", \"variable\": \"v\\u0161echny publikace\", \"value\": 8488.0}, {\"rok\": \"1994-01-01T00:00:00\", \"variable\": \"v\\u0161echny publikace\", \"value\": 8938.0}, {\"rok\": \"1995-01-01T00:00:00\", \"variable\": \"v\\u0161echny publikace\", \"value\": 9788.0}, {\"rok\": \"1996-01-01T00:00:00\", \"variable\": \"v\\u0161echny publikace\", \"value\": 10455.0}, {\"rok\": \"1997-01-01T00:00:00\", \"variable\": \"v\\u0161echny publikace\", \"value\": 10944.0}, {\"rok\": \"1998-01-01T00:00:00\", \"variable\": \"v\\u0161echny publikace\", \"value\": 11230.0}, {\"rok\": \"1999-01-01T00:00:00\", \"variable\": \"v\\u0161echny publikace\", \"value\": 11641.0}, {\"rok\": \"2000-01-01T00:00:00\", \"variable\": \"v\\u0161echny publikace\", \"value\": 12519.0}, {\"rok\": \"2001-01-01T00:00:00\", \"variable\": \"v\\u0161echny publikace\", \"value\": 12548.0}, {\"rok\": \"2002-01-01T00:00:00\", \"variable\": \"v\\u0161echny publikace\", \"value\": 12717.0}, {\"rok\": \"2003-01-01T00:00:00\", \"variable\": \"v\\u0161echny publikace\", \"value\": 13813.0}, {\"rok\": \"2004-01-01T00:00:00\", \"variable\": \"v\\u0161echny publikace\", \"value\": 13772.0}, {\"rok\": \"2005-01-01T00:00:00\", \"variable\": \"v\\u0161echny publikace\", \"value\": 14177.0}, {\"rok\": \"2006-01-01T00:00:00\", \"variable\": \"v\\u0161echny publikace\", \"value\": 15155.0}, {\"rok\": \"2007-01-01T00:00:00\", \"variable\": \"v\\u0161echny publikace\", \"value\": 16014.0}, {\"rok\": \"2008-01-01T00:00:00\", \"variable\": \"v\\u0161echny publikace\", \"value\": 16728.0}, {\"rok\": \"2009-01-01T00:00:00\", \"variable\": \"v\\u0161echny publikace\", \"value\": 15551.0}, {\"rok\": \"2010-01-01T00:00:00\", \"variable\": \"v\\u0161echny publikace\", \"value\": 15911.0}, {\"rok\": \"2011-01-01T00:00:00\", \"variable\": \"v\\u0161echny publikace\", \"value\": 15394.0}, {\"rok\": \"2012-01-01T00:00:00\", \"variable\": \"v\\u0161echny publikace\", \"value\": 15535.0}, {\"rok\": \"2013-01-01T00:00:00\", \"variable\": \"v\\u0161echny publikace\", \"value\": 15229.0}, {\"rok\": \"2014-01-01T00:00:00\", \"variable\": \"v\\u0161echny publikace\", \"value\": 15243.0}, {\"rok\": \"2015-01-01T00:00:00\", \"variable\": \"v\\u0161echny publikace\", \"value\": 14749.0}, {\"rok\": \"2016-01-01T00:00:00\", \"variable\": \"v\\u0161echny publikace\", \"value\": 13999.0}, {\"rok\": \"2017-01-01T00:00:00\", \"variable\": \"v\\u0161echny publikace\", \"value\": 13782.0}, {\"rok\": \"2018-01-01T00:00:00\", \"variable\": \"v\\u0161echny publikace\", \"value\": 14162.0}, {\"rok\": \"2019-01-01T00:00:00\", \"variable\": \"v\\u0161echny publikace\", \"value\": 13726.0}, {\"rok\": \"2020-01-01T00:00:00\", \"variable\": \"v\\u0161echny publikace\", \"value\": 12474.0}, {\"rok\": \"2021-01-01T00:00:00\", \"variable\": \"v\\u0161echny publikace\", \"value\": 12935.0}, {\"rok\": \"2022-01-01T00:00:00\", \"variable\": \"v\\u0161echny publikace\", \"value\": 13273.0}, {\"rok\": \"2023-01-01T00:00:00\", \"variable\": \"v\\u0161echny publikace\", \"value\": 11749.0}, {\"rok\": \"1901-01-01T00:00:00\", \"variable\": \"novinky nad 50 stran\", \"value\": 992.0}, {\"rok\": \"1902-01-01T00:00:00\", \"variable\": \"novinky nad 50 stran\", \"value\": 1129.0}, {\"rok\": \"1903-01-01T00:00:00\", \"variable\": \"novinky nad 50 stran\", \"value\": 1038.0}, {\"rok\": \"1904-01-01T00:00:00\", \"variable\": \"novinky nad 50 stran\", \"value\": 991.0}, {\"rok\": \"1905-01-01T00:00:00\", \"variable\": \"novinky nad 50 stran\", \"value\": 976.0}, {\"rok\": \"1906-01-01T00:00:00\", \"variable\": \"novinky nad 50 stran\", \"value\": 979.0}, {\"rok\": \"1907-01-01T00:00:00\", \"variable\": \"novinky nad 50 stran\", \"value\": 985.0}, {\"rok\": \"1908-01-01T00:00:00\", \"variable\": \"novinky nad 50 stran\", \"value\": 1176.0}, {\"rok\": \"1909-01-01T00:00:00\", \"variable\": \"novinky nad 50 stran\", \"value\": 1120.0}, {\"rok\": \"1910-01-01T00:00:00\", \"variable\": \"novinky nad 50 stran\", \"value\": 1358.0}, {\"rok\": \"1911-01-01T00:00:00\", \"variable\": \"novinky nad 50 stran\", \"value\": 1305.0}, {\"rok\": \"1912-01-01T00:00:00\", \"variable\": \"novinky nad 50 stran\", \"value\": 1325.0}, {\"rok\": \"1913-01-01T00:00:00\", \"variable\": \"novinky nad 50 stran\", \"value\": 1374.0}, {\"rok\": \"1914-01-01T00:00:00\", \"variable\": \"novinky nad 50 stran\", \"value\": 952.0}, {\"rok\": \"1915-01-01T00:00:00\", \"variable\": \"novinky nad 50 stran\", \"value\": 667.0}, {\"rok\": \"1916-01-01T00:00:00\", \"variable\": \"novinky nad 50 stran\", \"value\": 668.0}, {\"rok\": \"1917-01-01T00:00:00\", \"variable\": \"novinky nad 50 stran\", \"value\": 704.0}, {\"rok\": \"1918-01-01T00:00:00\", \"variable\": \"novinky nad 50 stran\", \"value\": 850.0}, {\"rok\": \"1919-01-01T00:00:00\", \"variable\": \"novinky nad 50 stran\", \"value\": 1339.0}, {\"rok\": \"1920-01-01T00:00:00\", \"variable\": \"novinky nad 50 stran\", \"value\": 1802.0}, {\"rok\": \"1921-01-01T00:00:00\", \"variable\": \"novinky nad 50 stran\", \"value\": 1578.0}, {\"rok\": \"1922-01-01T00:00:00\", \"variable\": \"novinky nad 50 stran\", \"value\": 1774.0}, {\"rok\": \"1923-01-01T00:00:00\", \"variable\": \"novinky nad 50 stran\", \"value\": 1844.0}, {\"rok\": \"1924-01-01T00:00:00\", \"variable\": \"novinky nad 50 stran\", \"value\": 2111.0}, {\"rok\": \"1925-01-01T00:00:00\", \"variable\": \"novinky nad 50 stran\", \"value\": 2475.0}, {\"rok\": \"1926-01-01T00:00:00\", \"variable\": \"novinky nad 50 stran\", \"value\": 2355.0}, {\"rok\": \"1927-01-01T00:00:00\", \"variable\": \"novinky nad 50 stran\", \"value\": 2349.0}, {\"rok\": \"1928-01-01T00:00:00\", \"variable\": \"novinky nad 50 stran\", \"value\": 2453.0}, {\"rok\": \"1929-01-01T00:00:00\", \"variable\": \"novinky nad 50 stran\", \"value\": 2350.0}, {\"rok\": \"1930-01-01T00:00:00\", \"variable\": \"novinky nad 50 stran\", \"value\": 2642.0}, {\"rok\": \"1931-01-01T00:00:00\", \"variable\": \"novinky nad 50 stran\", \"value\": 2367.0}, {\"rok\": \"1932-01-01T00:00:00\", \"variable\": \"novinky nad 50 stran\", \"value\": 2132.0}, {\"rok\": \"1933-01-01T00:00:00\", \"variable\": \"novinky nad 50 stran\", \"value\": 2086.0}, {\"rok\": \"1934-01-01T00:00:00\", \"variable\": \"novinky nad 50 stran\", \"value\": 2126.0}, {\"rok\": \"1935-01-01T00:00:00\", \"variable\": \"novinky nad 50 stran\", \"value\": 2310.0}, {\"rok\": \"1936-01-01T00:00:00\", \"variable\": \"novinky nad 50 stran\", \"value\": 2671.0}, {\"rok\": \"1937-01-01T00:00:00\", \"variable\": \"novinky nad 50 stran\", \"value\": 2664.0}, {\"rok\": \"1938-01-01T00:00:00\", \"variable\": \"novinky nad 50 stran\", \"value\": 2315.0}, {\"rok\": \"1939-01-01T00:00:00\", \"variable\": \"novinky nad 50 stran\", \"value\": 1776.0}, {\"rok\": \"1940-01-01T00:00:00\", \"variable\": \"novinky nad 50 stran\", \"value\": 2195.0}, {\"rok\": \"1941-01-01T00:00:00\", \"variable\": \"novinky nad 50 stran\", \"value\": 2089.0}, {\"rok\": \"1942-01-01T00:00:00\", \"variable\": \"novinky nad 50 stran\", \"value\": 1104.0}, {\"rok\": \"1943-01-01T00:00:00\", \"variable\": \"novinky nad 50 stran\", \"value\": 917.0}, {\"rok\": \"1944-01-01T00:00:00\", \"variable\": \"novinky nad 50 stran\", \"value\": 1070.0}, {\"rok\": \"1945-01-01T00:00:00\", \"variable\": \"novinky nad 50 stran\", \"value\": 1052.0}, {\"rok\": \"1946-01-01T00:00:00\", \"variable\": \"novinky nad 50 stran\", \"value\": 2690.0}, {\"rok\": \"1947-01-01T00:00:00\", \"variable\": \"novinky nad 50 stran\", \"value\": 3033.0}, {\"rok\": \"1948-01-01T00:00:00\", \"variable\": \"novinky nad 50 stran\", \"value\": 2633.0}, {\"rok\": \"1949-01-01T00:00:00\", \"variable\": \"novinky nad 50 stran\", \"value\": 1559.0}, {\"rok\": \"1950-01-01T00:00:00\", \"variable\": \"novinky nad 50 stran\", \"value\": 1847.0}, {\"rok\": \"1951-01-01T00:00:00\", \"variable\": \"novinky nad 50 stran\", \"value\": 2408.0}, {\"rok\": \"1952-01-01T00:00:00\", \"variable\": \"novinky nad 50 stran\", \"value\": 2304.0}, {\"rok\": \"1953-01-01T00:00:00\", \"variable\": \"novinky nad 50 stran\", \"value\": 2785.0}, {\"rok\": \"1954-01-01T00:00:00\", \"variable\": \"novinky nad 50 stran\", \"value\": 3059.0}, {\"rok\": \"1955-01-01T00:00:00\", \"variable\": \"novinky nad 50 stran\", \"value\": 2764.0}, {\"rok\": \"1956-01-01T00:00:00\", \"variable\": \"novinky nad 50 stran\", \"value\": 2797.0}, {\"rok\": \"1957-01-01T00:00:00\", \"variable\": \"novinky nad 50 stran\", \"value\": 2804.0}, {\"rok\": \"1958-01-01T00:00:00\", \"variable\": \"novinky nad 50 stran\", \"value\": 3107.0}, {\"rok\": \"1959-01-01T00:00:00\", \"variable\": \"novinky nad 50 stran\", \"value\": 3241.0}, {\"rok\": \"1960-01-01T00:00:00\", \"variable\": \"novinky nad 50 stran\", \"value\": 3166.0}, {\"rok\": \"1961-01-01T00:00:00\", \"variable\": \"novinky nad 50 stran\", \"value\": 3301.0}, {\"rok\": \"1962-01-01T00:00:00\", \"variable\": \"novinky nad 50 stran\", \"value\": 3202.0}, {\"rok\": \"1963-01-01T00:00:00\", \"variable\": \"novinky nad 50 stran\", \"value\": 3400.0}, {\"rok\": \"1964-01-01T00:00:00\", \"variable\": \"novinky nad 50 stran\", \"value\": 3342.0}, {\"rok\": \"1965-01-01T00:00:00\", \"variable\": \"novinky nad 50 stran\", \"value\": 3164.0}, {\"rok\": \"1966-01-01T00:00:00\", \"variable\": \"novinky nad 50 stran\", \"value\": 3250.0}, {\"rok\": \"1967-01-01T00:00:00\", \"variable\": \"novinky nad 50 stran\", \"value\": 3070.0}, {\"rok\": \"1968-01-01T00:00:00\", \"variable\": \"novinky nad 50 stran\", \"value\": 3063.0}, {\"rok\": \"1969-01-01T00:00:00\", \"variable\": \"novinky nad 50 stran\", \"value\": 2896.0}, {\"rok\": \"1970-01-01T00:00:00\", \"variable\": \"novinky nad 50 stran\", \"value\": 3058.0}, {\"rok\": \"1971-01-01T00:00:00\", \"variable\": \"novinky nad 50 stran\", \"value\": 3179.0}, {\"rok\": \"1972-01-01T00:00:00\", \"variable\": \"novinky nad 50 stran\", \"value\": 3195.0}, {\"rok\": \"1973-01-01T00:00:00\", \"variable\": \"novinky nad 50 stran\", \"value\": 3340.0}, {\"rok\": \"1974-01-01T00:00:00\", \"variable\": \"novinky nad 50 stran\", \"value\": 3451.0}, {\"rok\": \"1975-01-01T00:00:00\", \"variable\": \"novinky nad 50 stran\", \"value\": 3480.0}, {\"rok\": \"1976-01-01T00:00:00\", \"variable\": \"novinky nad 50 stran\", \"value\": 3491.0}, {\"rok\": \"1977-01-01T00:00:00\", \"variable\": \"novinky nad 50 stran\", \"value\": 3409.0}, {\"rok\": \"1978-01-01T00:00:00\", \"variable\": \"novinky nad 50 stran\", \"value\": 3540.0}, {\"rok\": \"1979-01-01T00:00:00\", \"variable\": \"novinky nad 50 stran\", \"value\": 3816.0}, {\"rok\": \"1980-01-01T00:00:00\", \"variable\": \"novinky nad 50 stran\", \"value\": 3995.0}, {\"rok\": \"1981-01-01T00:00:00\", \"variable\": \"novinky nad 50 stran\", \"value\": 3900.0}, {\"rok\": \"1982-01-01T00:00:00\", \"variable\": \"novinky nad 50 stran\", \"value\": 4159.0}, {\"rok\": \"1983-01-01T00:00:00\", \"variable\": \"novinky nad 50 stran\", \"value\": 4156.0}, {\"rok\": \"1984-01-01T00:00:00\", \"variable\": \"novinky nad 50 stran\", \"value\": 4253.0}, {\"rok\": \"1985-01-01T00:00:00\", \"variable\": \"novinky nad 50 stran\", \"value\": 4140.0}, {\"rok\": \"1986-01-01T00:00:00\", \"variable\": \"novinky nad 50 stran\", \"value\": 4328.0}, {\"rok\": \"1987-01-01T00:00:00\", \"variable\": \"novinky nad 50 stran\", \"value\": 4456.0}, {\"rok\": \"1988-01-01T00:00:00\", \"variable\": \"novinky nad 50 stran\", \"value\": 4370.0}, {\"rok\": \"1989-01-01T00:00:00\", \"variable\": \"novinky nad 50 stran\", \"value\": 4543.0}, {\"rok\": \"1990-01-01T00:00:00\", \"variable\": \"novinky nad 50 stran\", \"value\": 4307.0}, {\"rok\": \"1991-01-01T00:00:00\", \"variable\": \"novinky nad 50 stran\", \"value\": 4312.0}, {\"rok\": \"1992-01-01T00:00:00\", \"variable\": \"novinky nad 50 stran\", \"value\": 5864.0}, {\"rok\": \"1993-01-01T00:00:00\", \"variable\": \"novinky nad 50 stran\", \"value\": 6056.0}, {\"rok\": \"1994-01-01T00:00:00\", \"variable\": \"novinky nad 50 stran\", \"value\": 6538.0}, {\"rok\": \"1995-01-01T00:00:00\", \"variable\": \"novinky nad 50 stran\", \"value\": 7185.0}, {\"rok\": \"1996-01-01T00:00:00\", \"variable\": \"novinky nad 50 stran\", \"value\": 7609.0}, {\"rok\": \"1997-01-01T00:00:00\", \"variable\": \"novinky nad 50 stran\", \"value\": 7969.0}, {\"rok\": \"1998-01-01T00:00:00\", \"variable\": \"novinky nad 50 stran\", \"value\": 7910.0}, {\"rok\": \"1999-01-01T00:00:00\", \"variable\": \"novinky nad 50 stran\", \"value\": 7937.0}, {\"rok\": \"2000-01-01T00:00:00\", \"variable\": \"novinky nad 50 stran\", \"value\": 8454.0}, {\"rok\": \"2001-01-01T00:00:00\", \"variable\": \"novinky nad 50 stran\", \"value\": 8551.0}, {\"rok\": \"2002-01-01T00:00:00\", \"variable\": \"novinky nad 50 stran\", \"value\": 8565.0}, {\"rok\": \"2003-01-01T00:00:00\", \"variable\": \"novinky nad 50 stran\", \"value\": 9052.0}, {\"rok\": \"2004-01-01T00:00:00\", \"variable\": \"novinky nad 50 stran\", \"value\": 9602.0}, {\"rok\": \"2005-01-01T00:00:00\", \"variable\": \"novinky nad 50 stran\", \"value\": 9883.0}, {\"rok\": \"2006-01-01T00:00:00\", \"variable\": \"novinky nad 50 stran\", \"value\": 10384.0}, {\"rok\": \"2007-01-01T00:00:00\", \"variable\": \"novinky nad 50 stran\", \"value\": 10631.0}, {\"rok\": \"2008-01-01T00:00:00\", \"variable\": \"novinky nad 50 stran\", \"value\": 10855.0}, {\"rok\": \"2009-01-01T00:00:00\", \"variable\": \"novinky nad 50 stran\", \"value\": 10303.0}, {\"rok\": \"2010-01-01T00:00:00\", \"variable\": \"novinky nad 50 stran\", \"value\": 10527.0}, {\"rok\": \"2011-01-01T00:00:00\", \"variable\": \"novinky nad 50 stran\", \"value\": 10537.0}, {\"rok\": \"2012-01-01T00:00:00\", \"variable\": \"novinky nad 50 stran\", \"value\": 10120.0}, {\"rok\": \"2013-01-01T00:00:00\", \"variable\": \"novinky nad 50 stran\", \"value\": 10276.0}, {\"rok\": \"2014-01-01T00:00:00\", \"variable\": \"novinky nad 50 stran\", \"value\": 10326.0}, {\"rok\": \"2015-01-01T00:00:00\", \"variable\": \"novinky nad 50 stran\", \"value\": 10140.0}, {\"rok\": \"2016-01-01T00:00:00\", \"variable\": \"novinky nad 50 stran\", \"value\": 9481.0}, {\"rok\": \"2017-01-01T00:00:00\", \"variable\": \"novinky nad 50 stran\", \"value\": 9505.0}, {\"rok\": \"2018-01-01T00:00:00\", \"variable\": \"novinky nad 50 stran\", \"value\": 9803.0}, {\"rok\": \"2019-01-01T00:00:00\", \"variable\": \"novinky nad 50 stran\", \"value\": 9356.0}, {\"rok\": \"2020-01-01T00:00:00\", \"variable\": \"novinky nad 50 stran\", \"value\": 8689.0}, {\"rok\": \"2021-01-01T00:00:00\", \"variable\": \"novinky nad 50 stran\", \"value\": 8637.0}, {\"rok\": \"2022-01-01T00:00:00\", \"variable\": \"novinky nad 50 stran\", \"value\": 8528.0}, {\"rok\": \"2023-01-01T00:00:00\", \"variable\": \"novinky nad 50 stran\", \"value\": 7792.0}, {\"rok\": \"1901-01-01T00:00:00\", \"variable\": \"pod\\u00edl p\\u0159eklad\\u016f\", \"value\": 0.11003236245954692}, {\"rok\": \"1902-01-01T00:00:00\", \"variable\": \"pod\\u00edl p\\u0159eklad\\u016f\", \"value\": 0.14673913043478262}, {\"rok\": \"1903-01-01T00:00:00\", \"variable\": \"pod\\u00edl p\\u0159eklad\\u016f\", \"value\": 0.1527777777777778}, {\"rok\": \"1904-01-01T00:00:00\", \"variable\": \"pod\\u00edl p\\u0159eklad\\u016f\", \"value\": 0.13753581661891118}, {\"rok\": \"1905-01-01T00:00:00\", \"variable\": \"pod\\u00edl p\\u0159eklad\\u016f\", \"value\": 0.12}, {\"rok\": \"1906-01-01T00:00:00\", \"variable\": \"pod\\u00edl p\\u0159eklad\\u016f\", \"value\": 0.10985915492957747}, {\"rok\": \"1907-01-01T00:00:00\", \"variable\": \"pod\\u00edl p\\u0159eklad\\u016f\", \"value\": 0.12121212121212122}, {\"rok\": \"1908-01-01T00:00:00\", \"variable\": \"pod\\u00edl p\\u0159eklad\\u016f\", \"value\": 0.12098765432098765}, {\"rok\": \"1909-01-01T00:00:00\", \"variable\": \"pod\\u00edl p\\u0159eklad\\u016f\", \"value\": 0.12709832134292565}, {\"rok\": \"1910-01-01T00:00:00\", \"variable\": \"pod\\u00edl p\\u0159eklad\\u016f\", \"value\": 0.12030075187969924}, {\"rok\": \"1911-01-01T00:00:00\", \"variable\": \"pod\\u00edl p\\u0159eklad\\u016f\", \"value\": 0.13818181818181818}, {\"rok\": \"1912-01-01T00:00:00\", \"variable\": \"pod\\u00edl p\\u0159eklad\\u016f\", \"value\": 0.1544256120527307}, {\"rok\": \"1913-01-01T00:00:00\", \"variable\": \"pod\\u00edl p\\u0159eklad\\u016f\", \"value\": 0.14712153518123666}, {\"rok\": \"1914-01-01T00:00:00\", \"variable\": \"pod\\u00edl p\\u0159eklad\\u016f\", \"value\": 0.1307901907356948}, {\"rok\": \"1915-01-01T00:00:00\", \"variable\": \"pod\\u00edl p\\u0159eklad\\u016f\", \"value\": 0.14695340501792115}, {\"rok\": \"1916-01-01T00:00:00\", \"variable\": \"pod\\u00edl p\\u0159eklad\\u016f\", \"value\": 0.15824915824915825}, {\"rok\": \"1917-01-01T00:00:00\", \"variable\": \"pod\\u00edl p\\u0159eklad\\u016f\", \"value\": 0.15857605177993528}, {\"rok\": \"1918-01-01T00:00:00\", \"variable\": \"pod\\u00edl p\\u0159eklad\\u016f\", \"value\": 0.12852664576802508}, {\"rok\": \"1919-01-01T00:00:00\", \"variable\": \"pod\\u00edl p\\u0159eklad\\u016f\", \"value\": 0.1352253756260434}, {\"rok\": \"1920-01-01T00:00:00\", \"variable\": \"pod\\u00edl p\\u0159eklad\\u016f\", \"value\": 0.1278538812785388}, {\"rok\": \"1921-01-01T00:00:00\", \"variable\": \"pod\\u00edl p\\u0159eklad\\u016f\", \"value\": 0.14592933947772657}, {\"rok\": \"1922-01-01T00:00:00\", \"variable\": \"pod\\u00edl p\\u0159eklad\\u016f\", \"value\": 0.11388455538221529}, {\"rok\": \"1923-01-01T00:00:00\", \"variable\": \"pod\\u00edl p\\u0159eklad\\u016f\", \"value\": 0.1463768115942029}, {\"rok\": \"1924-01-01T00:00:00\", \"variable\": \"pod\\u00edl p\\u0159eklad\\u016f\", \"value\": 0.11440677966101695}, {\"rok\": \"1925-01-01T00:00:00\", \"variable\": \"pod\\u00edl p\\u0159eklad\\u016f\", \"value\": 0.11617806731813246}, {\"rok\": \"1926-01-01T00:00:00\", \"variable\": \"pod\\u00edl p\\u0159eklad\\u016f\", \"value\": 0.09068923821039904}, {\"rok\": \"1927-01-01T00:00:00\", \"variable\": \"pod\\u00edl p\\u0159eklad\\u016f\", \"value\": 0.0991636798088411}, {\"rok\": \"1928-01-01T00:00:00\", \"variable\": \"pod\\u00edl p\\u0159eklad\\u016f\", \"value\": 0.11657142857142858}, {\"rok\": \"1929-01-01T00:00:00\", \"variable\": \"pod\\u00edl p\\u0159eklad\\u016f\", \"value\": 0.12871287128712872}, {\"rok\": \"1930-01-01T00:00:00\", \"variable\": \"pod\\u00edl p\\u0159eklad\\u016f\", \"value\": 0.11491442542787286}, {\"rok\": \"1931-01-01T00:00:00\", \"variable\": \"pod\\u00edl p\\u0159eklad\\u016f\", \"value\": 0.12916111850865514}, {\"rok\": \"1932-01-01T00:00:00\", \"variable\": \"pod\\u00edl p\\u0159eklad\\u016f\", \"value\": 0.1271186440677966}, {\"rok\": \"1933-01-01T00:00:00\", \"variable\": \"pod\\u00edl p\\u0159eklad\\u016f\", \"value\": 0.14160839160839161}, {\"rok\": \"1934-01-01T00:00:00\", \"variable\": \"pod\\u00edl p\\u0159eklad\\u016f\", \"value\": 0.1609403254972875}, {\"rok\": \"1935-01-01T00:00:00\", \"variable\": \"pod\\u00edl p\\u0159eklad\\u016f\", \"value\": 0.1650485436893204}, {\"rok\": \"1936-01-01T00:00:00\", \"variable\": \"pod\\u00edl p\\u0159eklad\\u016f\", \"value\": 0.17952314165497896}, {\"rok\": \"1937-01-01T00:00:00\", \"variable\": \"pod\\u00edl p\\u0159eklad\\u016f\", \"value\": 0.17647058823529413}, {\"rok\": \"1938-01-01T00:00:00\", \"variable\": \"pod\\u00edl p\\u0159eklad\\u016f\", \"value\": 0.19927536231884058}, {\"rok\": \"1939-01-01T00:00:00\", \"variable\": \"pod\\u00edl p\\u0159eklad\\u016f\", \"value\": 0.23954372623574144}, {\"rok\": \"1940-01-01T00:00:00\", \"variable\": \"pod\\u00edl p\\u0159eklad\\u016f\", \"value\": 0.2075187969924812}, {\"rok\": \"1941-01-01T00:00:00\", \"variable\": \"pod\\u00edl p\\u0159eklad\\u016f\", \"value\": 0.23747680890538034}, {\"rok\": \"1942-01-01T00:00:00\", \"variable\": \"pod\\u00edl p\\u0159eklad\\u016f\", \"value\": 0.2494279176201373}, {\"rok\": \"1943-01-01T00:00:00\", \"variable\": \"pod\\u00edl p\\u0159eklad\\u016f\", \"value\": 0.2317596566523605}, {\"rok\": \"1944-01-01T00:00:00\", \"variable\": \"pod\\u00edl p\\u0159eklad\\u016f\", \"value\": 0.24662162162162163}, {\"rok\": \"1945-01-01T00:00:00\", \"variable\": \"pod\\u00edl p\\u0159eklad\\u016f\", \"value\": 0.24031007751937986}, {\"rok\": \"1946-01-01T00:00:00\", \"variable\": \"pod\\u00edl p\\u0159eklad\\u016f\", \"value\": 0.1718213058419244}, {\"rok\": \"1947-01-01T00:00:00\", \"variable\": \"pod\\u00edl p\\u0159eklad\\u016f\", \"value\": 0.16407355021216408}, {\"rok\": \"1948-01-01T00:00:00\", \"variable\": \"pod\\u00edl p\\u0159eklad\\u016f\", \"value\": 0.14207650273224043}, {\"rok\": \"1949-01-01T00:00:00\", \"variable\": \"pod\\u00edl p\\u0159eklad\\u016f\", \"value\": 0.12212389380530973}, {\"rok\": \"1950-01-01T00:00:00\", \"variable\": \"pod\\u00edl p\\u0159eklad\\u016f\", \"value\": 0.0887218045112782}, {\"rok\": \"1951-01-01T00:00:00\", \"variable\": \"pod\\u00edl p\\u0159eklad\\u016f\", \"value\": 0.058695652173913045}, {\"rok\": \"1952-01-01T00:00:00\", \"variable\": \"pod\\u00edl p\\u0159eklad\\u016f\", \"value\": 0.06768558951965066}, {\"rok\": \"1953-01-01T00:00:00\", \"variable\": \"pod\\u00edl p\\u0159eklad\\u016f\", \"value\": 0.08985200845665962}, {\"rok\": \"1954-01-01T00:00:00\", \"variable\": \"pod\\u00edl p\\u0159eklad\\u016f\", \"value\": 0.10215053763440861}, {\"rok\": \"1955-01-01T00:00:00\", \"variable\": \"pod\\u00edl p\\u0159eklad\\u016f\", \"value\": 0.14549653579676675}, {\"rok\": \"1956-01-01T00:00:00\", \"variable\": \"pod\\u00edl p\\u0159eklad\\u016f\", \"value\": 0.14767932489451477}, {\"rok\": \"1957-01-01T00:00:00\", \"variable\": \"pod\\u00edl p\\u0159eklad\\u016f\", \"value\": 0.16704545454545455}, {\"rok\": \"1958-01-01T00:00:00\", \"variable\": \"pod\\u00edl p\\u0159eklad\\u016f\", \"value\": 0.17735042735042736}, {\"rok\": \"1959-01-01T00:00:00\", \"variable\": \"pod\\u00edl p\\u0159eklad\\u016f\", \"value\": 0.18024439918533605}, {\"rok\": \"1960-01-01T00:00:00\", \"variable\": \"pod\\u00edl p\\u0159eklad\\u016f\", \"value\": 0.18407445708376421}, {\"rok\": \"1961-01-01T00:00:00\", \"variable\": \"pod\\u00edl p\\u0159eklad\\u016f\", \"value\": 0.20685959271168275}, {\"rok\": \"1962-01-01T00:00:00\", \"variable\": \"pod\\u00edl p\\u0159eklad\\u016f\", \"value\": 0.20515574650912996}, {\"rok\": \"1963-01-01T00:00:00\", \"variable\": \"pod\\u00edl p\\u0159eklad\\u016f\", \"value\": 0.2139689578713969}, {\"rok\": \"1964-01-01T00:00:00\", \"variable\": \"pod\\u00edl p\\u0159eklad\\u016f\", \"value\": 0.19063545150501673}, {\"rok\": \"1965-01-01T00:00:00\", \"variable\": \"pod\\u00edl p\\u0159eklad\\u016f\", \"value\": 0.20682523267838676}, {\"rok\": \"1966-01-01T00:00:00\", \"variable\": \"pod\\u00edl p\\u0159eklad\\u016f\", \"value\": 0.21871820956256358}, {\"rok\": \"1967-01-01T00:00:00\", \"variable\": \"pod\\u00edl p\\u0159eklad\\u016f\", \"value\": 0.22114451988360814}, {\"rok\": \"1968-01-01T00:00:00\", \"variable\": \"pod\\u00edl p\\u0159eklad\\u016f\", \"value\": 0.22156862745098038}, {\"rok\": \"1969-01-01T00:00:00\", \"variable\": \"pod\\u00edl p\\u0159eklad\\u016f\", \"value\": 0.19189765458422176}, {\"rok\": \"1970-01-01T00:00:00\", \"variable\": \"pod\\u00edl p\\u0159eklad\\u016f\", \"value\": 0.20271580989330748}, {\"rok\": \"1971-01-01T00:00:00\", \"variable\": \"pod\\u00edl p\\u0159eklad\\u016f\", \"value\": 0.20958083832335328}, {\"rok\": \"1972-01-01T00:00:00\", \"variable\": \"pod\\u00edl p\\u0159eklad\\u016f\", \"value\": 0.21694214876033058}, {\"rok\": \"1973-01-01T00:00:00\", \"variable\": \"pod\\u00edl p\\u0159eklad\\u016f\", \"value\": 0.2323135755258126}, {\"rok\": \"1974-01-01T00:00:00\", \"variable\": \"pod\\u00edl p\\u0159eklad\\u016f\", \"value\": 0.21651376146788992}, {\"rok\": \"1975-01-01T00:00:00\", \"variable\": \"pod\\u00edl p\\u0159eklad\\u016f\", \"value\": 0.21816562778272486}, {\"rok\": \"1976-01-01T00:00:00\", \"variable\": \"pod\\u00edl p\\u0159eklad\\u016f\", \"value\": 0.22774133083411435}, {\"rok\": \"1977-01-01T00:00:00\", \"variable\": \"pod\\u00edl p\\u0159eklad\\u016f\", \"value\": 0.22940655447298494}, {\"rok\": \"1978-01-01T00:00:00\", \"variable\": \"pod\\u00edl p\\u0159eklad\\u016f\", \"value\": 0.24550898203592814}, {\"rok\": \"1979-01-01T00:00:00\", \"variable\": \"pod\\u00edl p\\u0159eklad\\u016f\", \"value\": 0.2681268882175227}, {\"rok\": \"1980-01-01T00:00:00\", \"variable\": \"pod\\u00edl p\\u0159eklad\\u016f\", \"value\": 0.26723470178156467}, {\"rok\": \"1981-01-01T00:00:00\", \"variable\": \"pod\\u00edl p\\u0159eklad\\u016f\", \"value\": 0.2721417069243156}, {\"rok\": \"1982-01-01T00:00:00\", \"variable\": \"pod\\u00edl p\\u0159eklad\\u016f\", \"value\": 0.2452504317789292}, {\"rok\": \"1983-01-01T00:00:00\", \"variable\": \"pod\\u00edl p\\u0159eklad\\u016f\", \"value\": 0.19518716577540107}, {\"rok\": \"1984-01-01T00:00:00\", \"variable\": \"pod\\u00edl p\\u0159eklad\\u016f\", \"value\": 0.16447368421052633}, {\"rok\": \"1985-01-01T00:00:00\", \"variable\": \"pod\\u00edl p\\u0159eklad\\u016f\", \"value\": 0.1994750656167979}, {\"rok\": \"1986-01-01T00:00:00\", \"variable\": \"pod\\u00edl p\\u0159eklad\\u016f\", \"value\": 0.1939799331103679}, {\"rok\": \"1987-01-01T00:00:00\", \"variable\": \"pod\\u00edl p\\u0159eklad\\u016f\", \"value\": 0.20113544201135442}, {\"rok\": \"1988-01-01T00:00:00\", \"variable\": \"pod\\u00edl p\\u0159eklad\\u016f\", \"value\": 0.1795316565481353}, {\"rok\": \"1989-01-01T00:00:00\", \"variable\": \"pod\\u00edl p\\u0159eklad\\u016f\", \"value\": 0.21375739644970415}, {\"rok\": \"1990-01-01T00:00:00\", \"variable\": \"pod\\u00edl p\\u0159eklad\\u016f\", \"value\": 0.1933028919330289}, {\"rok\": \"1991-01-01T00:00:00\", \"variable\": \"pod\\u00edl p\\u0159eklad\\u016f\", \"value\": 0.19251992642550583}, {\"rok\": \"1992-01-01T00:00:00\", \"variable\": \"pod\\u00edl p\\u0159eklad\\u016f\", \"value\": 0.1936056838365897}, {\"rok\": \"1993-01-01T00:00:00\", \"variable\": \"pod\\u00edl p\\u0159eklad\\u016f\", \"value\": 0.1891891891891892}, {\"rok\": \"1994-01-01T00:00:00\", \"variable\": \"pod\\u00edl p\\u0159eklad\\u016f\", \"value\": 0.1594896331738437}, {\"rok\": \"1995-01-01T00:00:00\", \"variable\": \"pod\\u00edl p\\u0159eklad\\u016f\", \"value\": 0.14989293361884368}, {\"rok\": \"1996-01-01T00:00:00\", \"variable\": \"pod\\u00edl p\\u0159eklad\\u016f\", \"value\": 0.14810627473148671}, {\"rok\": \"1997-01-01T00:00:00\", \"variable\": \"pod\\u00edl p\\u0159eklad\\u016f\", \"value\": 0.16378622706726934}, {\"rok\": \"1998-01-01T00:00:00\", \"variable\": \"pod\\u00edl p\\u0159eklad\\u016f\", \"value\": 0.1643835616438356}, {\"rok\": \"1999-01-01T00:00:00\", \"variable\": \"pod\\u00edl p\\u0159eklad\\u016f\", \"value\": 0.16820040899795502}, {\"rok\": \"2000-01-01T00:00:00\", \"variable\": \"pod\\u00edl p\\u0159eklad\\u016f\", \"value\": 0.17684594348222424}, {\"rok\": \"2001-01-01T00:00:00\", \"variable\": \"pod\\u00edl p\\u0159eklad\\u016f\", \"value\": 0.1882940108892922}, {\"rok\": \"2002-01-01T00:00:00\", \"variable\": \"pod\\u00edl p\\u0159eklad\\u016f\", \"value\": 0.18306072148778849}, {\"rok\": \"2003-01-01T00:00:00\", \"variable\": \"pod\\u00edl p\\u0159eklad\\u016f\", \"value\": 0.20234906243560685}, {\"rok\": \"2004-01-01T00:00:00\", \"variable\": \"pod\\u00edl p\\u0159eklad\\u016f\", \"value\": 0.19300675090877617}, {\"rok\": \"2005-01-01T00:00:00\", \"variable\": \"pod\\u00edl p\\u0159eklad\\u016f\", \"value\": 0.20704375667022412}, {\"rok\": \"2006-01-01T00:00:00\", \"variable\": \"pod\\u00edl p\\u0159eklad\\u016f\", \"value\": 0.20621931260229132}, {\"rok\": \"2007-01-01T00:00:00\", \"variable\": \"pod\\u00edl p\\u0159eklad\\u016f\", \"value\": 0.2052310654685494}, {\"rok\": \"2008-01-01T00:00:00\", \"variable\": \"pod\\u00edl p\\u0159eklad\\u016f\", \"value\": 0.20227504739682076}, {\"rok\": \"2009-01-01T00:00:00\", \"variable\": \"pod\\u00edl p\\u0159eklad\\u016f\", \"value\": 0.20312730491222894}, {\"rok\": \"2010-01-01T00:00:00\", \"variable\": \"pod\\u00edl p\\u0159eklad\\u016f\", \"value\": 0.19326347305389222}, {\"rok\": \"2011-01-01T00:00:00\", \"variable\": \"pod\\u00edl p\\u0159eklad\\u016f\", \"value\": 0.1737010513484687}, {\"rok\": \"2012-01-01T00:00:00\", \"variable\": \"pod\\u00edl p\\u0159eklad\\u016f\", \"value\": 0.16553323029366307}, {\"rok\": \"2013-01-01T00:00:00\", \"variable\": \"pod\\u00edl p\\u0159eklad\\u016f\", \"value\": 0.16294227188081936}, {\"rok\": \"2014-01-01T00:00:00\", \"variable\": \"pod\\u00edl p\\u0159eklad\\u016f\", \"value\": 0.16612124045504129}, {\"rok\": \"2015-01-01T00:00:00\", \"variable\": \"pod\\u00edl p\\u0159eklad\\u016f\", \"value\": 0.14711005542359462}, {\"rok\": \"2016-01-01T00:00:00\", \"variable\": \"pod\\u00edl p\\u0159eklad\\u016f\", \"value\": 0.14043463944682252}, {\"rok\": \"2017-01-01T00:00:00\", \"variable\": \"pod\\u00edl p\\u0159eklad\\u016f\", \"value\": 0.1380634390651085}, {\"rok\": \"2018-01-01T00:00:00\", \"variable\": \"pod\\u00edl p\\u0159eklad\\u016f\", \"value\": 0.13980075126571942}, {\"rok\": \"2019-01-01T00:00:00\", \"variable\": \"pod\\u00edl p\\u0159eklad\\u016f\", \"value\": 0.12630319603486584}, {\"rok\": \"2020-01-01T00:00:00\", \"variable\": \"pod\\u00edl p\\u0159eklad\\u016f\", \"value\": 0.11947849776221055}, {\"rok\": \"2021-01-01T00:00:00\", \"variable\": \"pod\\u00edl p\\u0159eklad\\u016f\", \"value\": 0.1318296713980167}, {\"rok\": \"2022-01-01T00:00:00\", \"variable\": \"pod\\u00edl p\\u0159eklad\\u016f\", \"value\": 0.12558487740969493}, {\"rok\": \"2023-01-01T00:00:00\", \"variable\": \"pod\\u00edl p\\u0159eklad\\u016f\", \"value\": 0.12345415778251599}], \"data-a3f8095f7e7dc7f5f7fef984c8960ef9\": [{\"text\": \"zdroj dat: \\u010cesk\\u00e1 n\\u00e1rodn\\u00ed bibliografie \\u00b7 vizualizace: iROZHLAS.cz \\u00b7 2025\"}]}}, {\"mode\": \"vega-lite\"});\n",
       "</script>"
      ],
      "text/plain": [
       "alt.VConcatChart(...)"
      ]
     },
     "execution_count": 747,
     "metadata": {},
     "output_type": "execute_result"
    }
   ],
   "source": [
    "me_to_neurazi(produkce_faceted, 'produkce', \"zdroj dat: Česká národní bibliografie · vizualizace: iROZHLAS.cz · 2025\")"
   ]
  }
 ],
 "metadata": {
  "kernelspec": {
   "display_name": "Python 3 (ipykernel)",
   "language": "python",
   "name": "python3"
  },
  "language_info": {
   "codemirror_mode": {
    "name": "ipython",
    "version": 3
   },
   "file_extension": ".py",
   "mimetype": "text/x-python",
   "name": "python",
   "nbconvert_exporter": "python",
   "pygments_lexer": "ipython3",
   "version": "3.12.3"
  }
 },
 "nbformat": 4,
 "nbformat_minor": 5
}
