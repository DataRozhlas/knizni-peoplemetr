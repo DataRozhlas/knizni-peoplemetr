{
 "cells": [
  {
   "cell_type": "code",
   "execution_count": 3,
   "id": "f2e779a1-31ae-4ace-aaf1-110d8fd32679",
   "metadata": {},
   "outputs": [
    {
     "data": {
      "text/plain": [
       "DataTransformerRegistry.enable('default')"
      ]
     },
     "execution_count": 3,
     "metadata": {},
     "output_type": "execute_result"
    }
   ],
   "source": [
    "import re\n",
    "import os\n",
    "import json\n",
    "import statistics\n",
    "import datetime\n",
    "import warnings\n",
    "from src.najdi_rok import najdi_rok\n",
    "from src.pocet_stran import pocet_stran\n",
    "import polars as pl\n",
    "import altair as alt\n",
    "alt.data_transformers.disable_max_rows()"
   ]
  },
  {
   "cell_type": "code",
   "execution_count": 4,
   "id": "43054e96-2d00-4162-aa5f-24aee07fee04",
   "metadata": {},
   "outputs": [],
   "source": [
    "df = pl.read_parquet(os.path.join(\"data\",\"cnb_vyber.parquet\"))\n",
    "df = df.with_columns(pl.col('008').map_elements(najdi_rok, return_dtype=int).alias('rok'))\n",
    "df = df.with_columns(pl.col('300_a').map_elements(pocet_stran, return_dtype=int).alias('pocet_stran'))"
   ]
  },
  {
   "cell_type": "code",
   "execution_count": 5,
   "id": "fcbe3f44-602d-4479-907a-16ee5177dcb7",
   "metadata": {},
   "outputs": [
    {
     "data": {
      "text/html": [
       "<div><style>\n",
       ".dataframe > thead > tr,\n",
       ".dataframe > tbody > tr {\n",
       "  text-align: right;\n",
       "  white-space: pre-wrap;\n",
       "}\n",
       "</style>\n",
       "<small>shape: (123, 2)</small><table border=\"1\" class=\"dataframe\"><thead><tr><th>rok</th><th>knih</th></tr><tr><td>datetime[μs]</td><td>u32</td></tr></thead><tbody><tr><td>1901-01-01 00:00:00</td><td>1810</td></tr><tr><td>1902-01-01 00:00:00</td><td>2037</td></tr><tr><td>1903-01-01 00:00:00</td><td>1973</td></tr><tr><td>1904-01-01 00:00:00</td><td>1897</td></tr><tr><td>1905-01-01 00:00:00</td><td>1811</td></tr><tr><td>&hellip;</td><td>&hellip;</td></tr><tr><td>2019-01-01 00:00:00</td><td>13728</td></tr><tr><td>2020-01-01 00:00:00</td><td>12478</td></tr><tr><td>2021-01-01 00:00:00</td><td>12938</td></tr><tr><td>2022-01-01 00:00:00</td><td>13276</td></tr><tr><td>2023-01-01 00:00:00</td><td>11758</td></tr></tbody></table></div>"
      ],
      "text/plain": [
       "shape: (123, 2)\n",
       "┌─────────────────────┬───────┐\n",
       "│ rok                 ┆ knih  │\n",
       "│ ---                 ┆ ---   │\n",
       "│ datetime[μs]        ┆ u32   │\n",
       "╞═════════════════════╪═══════╡\n",
       "│ 1901-01-01 00:00:00 ┆ 1810  │\n",
       "│ 1902-01-01 00:00:00 ┆ 2037  │\n",
       "│ 1903-01-01 00:00:00 ┆ 1973  │\n",
       "│ 1904-01-01 00:00:00 ┆ 1897  │\n",
       "│ 1905-01-01 00:00:00 ┆ 1811  │\n",
       "│ …                   ┆ …     │\n",
       "│ 2019-01-01 00:00:00 ┆ 13728 │\n",
       "│ 2020-01-01 00:00:00 ┆ 12478 │\n",
       "│ 2021-01-01 00:00:00 ┆ 12938 │\n",
       "│ 2022-01-01 00:00:00 ┆ 13276 │\n",
       "│ 2023-01-01 00:00:00 ┆ 11758 │\n",
       "└─────────────────────┴───────┘"
      ]
     },
     "execution_count": 5,
     "metadata": {},
     "output_type": "execute_result"
    }
   ],
   "source": [
    "rocni_pocty = df.filter(pl.col('rok').is_between(1901, 2023)).group_by('rok').len().sort('rok').rename({'len':'knih'}).with_columns(pl.col(\"rok\").map_elements(lambda x: datetime.date(year=int(x), month=1, day=1), return_dtype=pl.Date).cast(pl.Datetime))\n",
    "rocni_pocty"
   ]
  },
  {
   "cell_type": "code",
   "execution_count": 6,
   "id": "595832aa-6725-4f08-9d7c-f5364bddea58",
   "metadata": {},
   "outputs": [
    {
     "data": {
      "text/html": [
       "<div><style>\n",
       ".dataframe > thead > tr,\n",
       ".dataframe > tbody > tr {\n",
       "  text-align: right;\n",
       "  white-space: pre-wrap;\n",
       "}\n",
       "</style>\n",
       "<small>shape: (123, 2)</small><table border=\"1\" class=\"dataframe\"><thead><tr><th>rok</th><th>stran</th></tr><tr><td>datetime[μs]</td><td>i64</td></tr></thead><tbody><tr><td>1901-01-01 00:00:00</td><td>223127</td></tr><tr><td>1902-01-01 00:00:00</td><td>274416</td></tr><tr><td>1903-01-01 00:00:00</td><td>235235</td></tr><tr><td>1904-01-01 00:00:00</td><td>219011</td></tr><tr><td>1905-01-01 00:00:00</td><td>223786</td></tr><tr><td>&hellip;</td><td>&hellip;</td></tr><tr><td>2019-01-01 00:00:00</td><td>2631970</td></tr><tr><td>2020-01-01 00:00:00</td><td>2400610</td></tr><tr><td>2021-01-01 00:00:00</td><td>2504890</td></tr><tr><td>2022-01-01 00:00:00</td><td>2619685</td></tr><tr><td>2023-01-01 00:00:00</td><td>2348692</td></tr></tbody></table></div>"
      ],
      "text/plain": [
       "shape: (123, 2)\n",
       "┌─────────────────────┬─────────┐\n",
       "│ rok                 ┆ stran   │\n",
       "│ ---                 ┆ ---     │\n",
       "│ datetime[μs]        ┆ i64     │\n",
       "╞═════════════════════╪═════════╡\n",
       "│ 1901-01-01 00:00:00 ┆ 223127  │\n",
       "│ 1902-01-01 00:00:00 ┆ 274416  │\n",
       "│ 1903-01-01 00:00:00 ┆ 235235  │\n",
       "│ 1904-01-01 00:00:00 ┆ 219011  │\n",
       "│ 1905-01-01 00:00:00 ┆ 223786  │\n",
       "│ …                   ┆ …       │\n",
       "│ 2019-01-01 00:00:00 ┆ 2631970 │\n",
       "│ 2020-01-01 00:00:00 ┆ 2400610 │\n",
       "│ 2021-01-01 00:00:00 ┆ 2504890 │\n",
       "│ 2022-01-01 00:00:00 ┆ 2619685 │\n",
       "│ 2023-01-01 00:00:00 ┆ 2348692 │\n",
       "└─────────────────────┴─────────┘"
      ]
     },
     "execution_count": 6,
     "metadata": {},
     "output_type": "execute_result"
    }
   ],
   "source": [
    "rocni_strany = df.filter(pl.col('rok').is_between(1901, 2023)).group_by('rok').agg(pl.col(\"pocet_stran\").sum()).sort('rok').rename({'pocet_stran':'stran'}).with_columns(pl.col(\"rok\").map_elements(lambda x: datetime.date(year=int(x), month=1, day=1), return_dtype=pl.Date).cast(pl.Datetime))\n",
    "rocni_strany"
   ]
  },
  {
   "cell_type": "code",
   "execution_count": 7,
   "id": "a36f9f78-0c99-442c-9dea-4c5570d9ac50",
   "metadata": {},
   "outputs": [],
   "source": [
    "novinky = df.filter(pl.col('rok').is_between(1901, 2023)).filter(pl.col('pocet_stran') >= 50).sort('rok').unique(subset=[\"245_a\",\"100_a\"])\n",
    "novinky = novinky.group_by('rok').len().with_columns(pl.col(\"rok\").map_elements(lambda x: datetime.date(year=int(x), month=1, day=1), return_dtype=pl.Date).cast(pl.Datetime))\n",
    "novinky = novinky.sort('rok').rename({'len':'novinky'})"
   ]
  },
  {
   "cell_type": "code",
   "execution_count": 8,
   "id": "0fcb9042-921d-425e-9192-f595ccb907ec",
   "metadata": {},
   "outputs": [
    {
     "data": {
      "text/html": [
       "<div><style>\n",
       ".dataframe > thead > tr,\n",
       ".dataframe > tbody > tr {\n",
       "  text-align: right;\n",
       "  white-space: pre-wrap;\n",
       "}\n",
       "</style>\n",
       "<small>shape: (123, 2)</small><table border=\"1\" class=\"dataframe\"><thead><tr><th>rok</th><th>originaly</th></tr><tr><td>i64</td><td>u32</td></tr></thead><tbody><tr><td>1901</td><td>275</td></tr><tr><td>1902</td><td>313</td></tr><tr><td>1903</td><td>305</td></tr><tr><td>1904</td><td>302</td></tr><tr><td>1905</td><td>308</td></tr><tr><td>&hellip;</td><td>&hellip;</td></tr><tr><td>2019</td><td>5113</td></tr><tr><td>2020</td><td>4527</td></tr><tr><td>2021</td><td>4465</td></tr><tr><td>2022</td><td>4673</td></tr><tr><td>2023</td><td>4113</td></tr></tbody></table></div>"
      ],
      "text/plain": [
       "shape: (123, 2)\n",
       "┌──────┬───────────┐\n",
       "│ rok  ┆ originaly │\n",
       "│ ---  ┆ ---       │\n",
       "│ i64  ┆ u32       │\n",
       "╞══════╪═══════════╡\n",
       "│ 1901 ┆ 275       │\n",
       "│ 1902 ┆ 313       │\n",
       "│ 1903 ┆ 305       │\n",
       "│ 1904 ┆ 302       │\n",
       "│ 1905 ┆ 308       │\n",
       "│ …    ┆ …         │\n",
       "│ 2019 ┆ 5113      │\n",
       "│ 2020 ┆ 4527      │\n",
       "│ 2021 ┆ 4465      │\n",
       "│ 2022 ┆ 4673      │\n",
       "│ 2023 ┆ 4113      │\n",
       "└──────┴───────────┘"
      ]
     },
     "execution_count": 8,
     "metadata": {},
     "output_type": "execute_result"
    }
   ],
   "source": [
    "puvodni = df.filter(pl.col('rok').is_between(1901, 2023)).explode('041_a').filter(pl.col('041_a') == 'cze').group_by('rok').agg(pl.col('008').unique().len()).rename({'008':'originaly'}).sort('rok')\n",
    "puvodni"
   ]
  },
  {
   "cell_type": "code",
   "execution_count": 9,
   "id": "9cd3762c-e138-47ab-b5b9-77900e0854bc",
   "metadata": {},
   "outputs": [
    {
     "data": {
      "text/html": [
       "<div><style>\n",
       ".dataframe > thead > tr,\n",
       ".dataframe > tbody > tr {\n",
       "  text-align: right;\n",
       "  white-space: pre-wrap;\n",
       "}\n",
       "</style>\n",
       "<small>shape: (123, 2)</small><table border=\"1\" class=\"dataframe\"><thead><tr><th>rok</th><th>preklady</th></tr><tr><td>i64</td><td>u32</td></tr></thead><tbody><tr><td>1901</td><td>34</td></tr><tr><td>1902</td><td>53</td></tr><tr><td>1903</td><td>55</td></tr><tr><td>1904</td><td>49</td></tr><tr><td>1905</td><td>42</td></tr><tr><td>&hellip;</td><td>&hellip;</td></tr><tr><td>2019</td><td>739</td></tr><tr><td>2020</td><td>615</td></tr><tr><td>2021</td><td>677</td></tr><tr><td>2022</td><td>672</td></tr><tr><td>2023</td><td>581</td></tr></tbody></table></div>"
      ],
      "text/plain": [
       "shape: (123, 2)\n",
       "┌──────┬──────────┐\n",
       "│ rok  ┆ preklady │\n",
       "│ ---  ┆ ---      │\n",
       "│ i64  ┆ u32      │\n",
       "╞══════╪══════════╡\n",
       "│ 1901 ┆ 34       │\n",
       "│ 1902 ┆ 53       │\n",
       "│ 1903 ┆ 55       │\n",
       "│ 1904 ┆ 49       │\n",
       "│ 1905 ┆ 42       │\n",
       "│ …    ┆ …        │\n",
       "│ 2019 ┆ 739      │\n",
       "│ 2020 ┆ 615      │\n",
       "│ 2021 ┆ 677      │\n",
       "│ 2022 ┆ 672      │\n",
       "│ 2023 ┆ 581      │\n",
       "└──────┴──────────┘"
      ]
     },
     "execution_count": 9,
     "metadata": {},
     "output_type": "execute_result"
    }
   ],
   "source": [
    "nepuvodni = df.filter(pl.col('rok').is_between(1901, 2023)).explode('041_a').filter(pl.col('041_a') != 'cze').group_by('rok').agg(pl.col('008').unique().len()).rename({'008':'preklady'}).sort('rok')\n",
    "nepuvodni"
   ]
  },
  {
   "cell_type": "code",
   "execution_count": 10,
   "id": "d4ad01df-b7e2-4c84-a2c4-938970425382",
   "metadata": {},
   "outputs": [
    {
     "data": {
      "text/html": [
       "<div><style>\n",
       ".dataframe > thead > tr,\n",
       ".dataframe > tbody > tr {\n",
       "  text-align: right;\n",
       "  white-space: pre-wrap;\n",
       "}\n",
       "</style>\n",
       "<small>shape: (123, 2)</small><table border=\"1\" class=\"dataframe\"><thead><tr><th>rok</th><th>podíl překladů</th></tr><tr><td>datetime[μs]</td><td>f64</td></tr></thead><tbody><tr><td>1901-01-01 00:00:00</td><td>0.110032</td></tr><tr><td>1902-01-01 00:00:00</td><td>0.144809</td></tr><tr><td>1903-01-01 00:00:00</td><td>0.152778</td></tr><tr><td>1904-01-01 00:00:00</td><td>0.139601</td></tr><tr><td>1905-01-01 00:00:00</td><td>0.12</td></tr><tr><td>&hellip;</td><td>&hellip;</td></tr><tr><td>2019-01-01 00:00:00</td><td>0.126282</td></tr><tr><td>2020-01-01 00:00:00</td><td>0.119603</td></tr><tr><td>2021-01-01 00:00:00</td><td>0.131661</td></tr><tr><td>2022-01-01 00:00:00</td><td>0.125725</td></tr><tr><td>2023-01-01 00:00:00</td><td>0.123775</td></tr></tbody></table></div>"
      ],
      "text/plain": [
       "shape: (123, 2)\n",
       "┌─────────────────────┬────────────────┐\n",
       "│ rok                 ┆ podíl překladů │\n",
       "│ ---                 ┆ ---            │\n",
       "│ datetime[μs]        ┆ f64            │\n",
       "╞═════════════════════╪════════════════╡\n",
       "│ 1901-01-01 00:00:00 ┆ 0.110032       │\n",
       "│ 1902-01-01 00:00:00 ┆ 0.144809       │\n",
       "│ 1903-01-01 00:00:00 ┆ 0.152778       │\n",
       "│ 1904-01-01 00:00:00 ┆ 0.139601       │\n",
       "│ 1905-01-01 00:00:00 ┆ 0.12           │\n",
       "│ …                   ┆ …              │\n",
       "│ 2019-01-01 00:00:00 ┆ 0.126282       │\n",
       "│ 2020-01-01 00:00:00 ┆ 0.119603       │\n",
       "│ 2021-01-01 00:00:00 ┆ 0.131661       │\n",
       "│ 2022-01-01 00:00:00 ┆ 0.125725       │\n",
       "│ 2023-01-01 00:00:00 ┆ 0.123775       │\n",
       "└─────────────────────┴────────────────┘"
      ]
     },
     "execution_count": 10,
     "metadata": {},
     "output_type": "execute_result"
    }
   ],
   "source": [
    "preklady = puvodni.join(nepuvodni, on='rok', how='left')\n",
    "preklady = preklady.with_columns((pl.col('originaly') + pl.col('preklady')).alias('celkem'))\n",
    "preklady = preklady.with_columns((pl.col('preklady') / pl.col('celkem')).alias('podíl překladů'))\n",
    "preklady = preklady.select(pl.col(['rok','podíl překladů']))\n",
    "preklady = preklady.with_columns(pl.col(\"rok\").map_elements(lambda x: datetime.date(year=int(x), month=1, day=1), return_dtype=pl.Date).cast(pl.Datetime))\n",
    "preklady"
   ]
  },
  {
   "cell_type": "code",
   "execution_count": 11,
   "id": "fcfe3b93-e4e6-4d65-946a-9d5c8100eb2f",
   "metadata": {},
   "outputs": [
    {
     "name": "stderr",
     "output_type": "stream",
     "text": [
      "C:\\Users\\micha\\AppData\\Local\\Temp\\ipykernel_13092\\4164877985.py:5: DeprecationWarning: `DataFrame.melt` is deprecated. Use `unpivot` instead, with `index` instead of `id_vars` and `on` instead of `value_vars`\n",
      "  do_grafu = do_grafu.melt(id_vars=\"rok\", value_vars=['knih','stran','let čtení','novinky','podíl překladů'])\n"
     ]
    },
    {
     "data": {
      "text/html": [
       "<div><style>\n",
       ".dataframe > thead > tr,\n",
       ".dataframe > tbody > tr {\n",
       "  text-align: right;\n",
       "  white-space: pre-wrap;\n",
       "}\n",
       "</style>\n",
       "<small>shape: (369, 3)</small><table border=\"1\" class=\"dataframe\"><thead><tr><th>rok</th><th>variable</th><th>value</th></tr><tr><td>datetime[μs]</td><td>str</td><td>f64</td></tr></thead><tbody><tr><td>1901-01-01 00:00:00</td><td>&quot;všechny publikace&quot;</td><td>1810.0</td></tr><tr><td>1902-01-01 00:00:00</td><td>&quot;všechny publikace&quot;</td><td>2037.0</td></tr><tr><td>1903-01-01 00:00:00</td><td>&quot;všechny publikace&quot;</td><td>1973.0</td></tr><tr><td>1904-01-01 00:00:00</td><td>&quot;všechny publikace&quot;</td><td>1897.0</td></tr><tr><td>1905-01-01 00:00:00</td><td>&quot;všechny publikace&quot;</td><td>1811.0</td></tr><tr><td>&hellip;</td><td>&hellip;</td><td>&hellip;</td></tr><tr><td>2019-01-01 00:00:00</td><td>&quot;podíl překladů&quot;</td><td>0.126282</td></tr><tr><td>2020-01-01 00:00:00</td><td>&quot;podíl překladů&quot;</td><td>0.119603</td></tr><tr><td>2021-01-01 00:00:00</td><td>&quot;podíl překladů&quot;</td><td>0.131661</td></tr><tr><td>2022-01-01 00:00:00</td><td>&quot;podíl překladů&quot;</td><td>0.125725</td></tr><tr><td>2023-01-01 00:00:00</td><td>&quot;podíl překladů&quot;</td><td>0.123775</td></tr></tbody></table></div>"
      ],
      "text/plain": [
       "shape: (369, 3)\n",
       "┌─────────────────────┬───────────────────┬──────────┐\n",
       "│ rok                 ┆ variable          ┆ value    │\n",
       "│ ---                 ┆ ---               ┆ ---      │\n",
       "│ datetime[μs]        ┆ str               ┆ f64      │\n",
       "╞═════════════════════╪═══════════════════╪══════════╡\n",
       "│ 1901-01-01 00:00:00 ┆ všechny publikace ┆ 1810.0   │\n",
       "│ 1902-01-01 00:00:00 ┆ všechny publikace ┆ 2037.0   │\n",
       "│ 1903-01-01 00:00:00 ┆ všechny publikace ┆ 1973.0   │\n",
       "│ 1904-01-01 00:00:00 ┆ všechny publikace ┆ 1897.0   │\n",
       "│ 1905-01-01 00:00:00 ┆ všechny publikace ┆ 1811.0   │\n",
       "│ …                   ┆ …                 ┆ …        │\n",
       "│ 2019-01-01 00:00:00 ┆ podíl překladů    ┆ 0.126282 │\n",
       "│ 2020-01-01 00:00:00 ┆ podíl překladů    ┆ 0.119603 │\n",
       "│ 2021-01-01 00:00:00 ┆ podíl překladů    ┆ 0.131661 │\n",
       "│ 2022-01-01 00:00:00 ┆ podíl překladů    ┆ 0.125725 │\n",
       "│ 2023-01-01 00:00:00 ┆ podíl překladů    ┆ 0.123775 │\n",
       "└─────────────────────┴───────────────────┴──────────┘"
      ]
     },
     "execution_count": 11,
     "metadata": {},
     "output_type": "execute_result"
    }
   ],
   "source": [
    "do_grafu = rocni_pocty.join(rocni_strany, on=\"rok\", how=\"left\")\n",
    "do_grafu = do_grafu.join(novinky, on=\"rok\", how=\"left\")\n",
    "do_grafu = do_grafu.with_columns((pl.col(\"stran\") / (60 * 8 * 365.25)).alias(\"let čtení\"))\n",
    "do_grafu = do_grafu.join(preklady, on='rok', how='left')\n",
    "do_grafu = do_grafu.melt(id_vars=\"rok\", value_vars=['knih','stran','let čtení','novinky','podíl překladů'])\n",
    "do_grafu = do_grafu.filter(pl.col('variable').is_in(['knih','novinky','podíl překladů']))\n",
    "do_grafu = do_grafu.with_columns(pl.col('variable').replace_strict({'knih': 'všechny publikace', 'novinky': 'novinky nad 50 stran', 'podíl překladů':'podíl překladů'}))\n",
    "do_grafu"
   ]
  },
  {
   "cell_type": "code",
   "execution_count": 12,
   "id": "6e4d13f3-49e5-4539-bf79-be72e570c778",
   "metadata": {},
   "outputs": [
    {
     "data": {
      "text/html": [
       "<div><style>\n",
       ".dataframe > thead > tr,\n",
       ".dataframe > tbody > tr {\n",
       "  text-align: right;\n",
       "  white-space: pre-wrap;\n",
       "}\n",
       "</style>\n",
       "<small>shape: (369, 3)</small><table border=\"1\" class=\"dataframe\"><thead><tr><th>rok</th><th>variable</th><th>value</th></tr><tr><td>datetime[μs]</td><td>str</td><td>f64</td></tr></thead><tbody><tr><td>1901-01-01 00:00:00</td><td>&quot;všechny publikace&quot;</td><td>1810.0</td></tr><tr><td>1902-01-01 00:00:00</td><td>&quot;všechny publikace&quot;</td><td>2037.0</td></tr><tr><td>1903-01-01 00:00:00</td><td>&quot;všechny publikace&quot;</td><td>1973.0</td></tr><tr><td>1904-01-01 00:00:00</td><td>&quot;všechny publikace&quot;</td><td>1897.0</td></tr><tr><td>1905-01-01 00:00:00</td><td>&quot;všechny publikace&quot;</td><td>1811.0</td></tr><tr><td>&hellip;</td><td>&hellip;</td><td>&hellip;</td></tr><tr><td>2019-01-01 00:00:00</td><td>&quot;podíl překladů&quot;</td><td>0.126282</td></tr><tr><td>2020-01-01 00:00:00</td><td>&quot;podíl překladů&quot;</td><td>0.119603</td></tr><tr><td>2021-01-01 00:00:00</td><td>&quot;podíl překladů&quot;</td><td>0.131661</td></tr><tr><td>2022-01-01 00:00:00</td><td>&quot;podíl překladů&quot;</td><td>0.125725</td></tr><tr><td>2023-01-01 00:00:00</td><td>&quot;podíl překladů&quot;</td><td>0.123775</td></tr></tbody></table></div>"
      ],
      "text/plain": [
       "shape: (369, 3)\n",
       "┌─────────────────────┬───────────────────┬──────────┐\n",
       "│ rok                 ┆ variable          ┆ value    │\n",
       "│ ---                 ┆ ---               ┆ ---      │\n",
       "│ datetime[μs]        ┆ str               ┆ f64      │\n",
       "╞═════════════════════╪═══════════════════╪══════════╡\n",
       "│ 1901-01-01 00:00:00 ┆ všechny publikace ┆ 1810.0   │\n",
       "│ 1902-01-01 00:00:00 ┆ všechny publikace ┆ 2037.0   │\n",
       "│ 1903-01-01 00:00:00 ┆ všechny publikace ┆ 1973.0   │\n",
       "│ 1904-01-01 00:00:00 ┆ všechny publikace ┆ 1897.0   │\n",
       "│ 1905-01-01 00:00:00 ┆ všechny publikace ┆ 1811.0   │\n",
       "│ …                   ┆ …                 ┆ …        │\n",
       "│ 2019-01-01 00:00:00 ┆ podíl překladů    ┆ 0.126282 │\n",
       "│ 2020-01-01 00:00:00 ┆ podíl překladů    ┆ 0.119603 │\n",
       "│ 2021-01-01 00:00:00 ┆ podíl překladů    ┆ 0.131661 │\n",
       "│ 2022-01-01 00:00:00 ┆ podíl překladů    ┆ 0.125725 │\n",
       "│ 2023-01-01 00:00:00 ┆ podíl překladů    ┆ 0.123775 │\n",
       "└─────────────────────┴───────────────────┴──────────┘"
      ]
     },
     "execution_count": 12,
     "metadata": {},
     "output_type": "execute_result"
    }
   ],
   "source": [
    "do_grafu"
   ]
  },
  {
   "cell_type": "code",
   "execution_count": 13,
   "id": "970bb20b-628b-4018-9cc5-7a1e6cbf608c",
   "metadata": {},
   "outputs": [
    {
     "data": {
      "text/plain": [
       "ThemeRegistry.enable('irozhlas')"
      ]
     },
     "execution_count": 13,
     "metadata": {},
     "output_type": "execute_result"
    }
   ],
   "source": [
    "def irozhlas_conf():\n",
    "\n",
    "    return {\n",
    "        \"config\" : {\n",
    "             \"title\": {'font': \"Noticia Text\",\n",
    "                      'fontSize': 14,\n",
    "                      'anchor': 'start',\n",
    "                       'fontWeight': 'bolder',\n",
    "                    'subtitleFont': 'Noticia Text',\n",
    "                       'subtitleLineHeight': 18,\n",
    "                      'subtitleFontSize': 12,\n",
    "                       'subtitleFontWeight': 'normal',\n",
    "                      'subtitlePadding': 10,\n",
    "                       'dy': -12,\n",
    "                      },\n",
    "             \"axis\": {\n",
    "                \"labelFont\": \"Asap\",\n",
    "                \"titleFont\": \"Asap\",\n",
    "                 \"fontWeight\": \"lighter\",\n",
    "                \"titleFontWeight\": \"lighter\",\n",
    "                \"labelFontSize\": 10,\n",
    "                \"titleFontSize\": 10,\n",
    "                'labelPadding': 2,\n",
    "                 'titlePadding': 10\n",
    "            },\n",
    "            \"legend\": {\n",
    "                \"labelFont\": \"Asap\",\n",
    "                \"labelFontWeight\": \"normal\",\n",
    "                \"titleFont\": \"Asap\",\n",
    "                \"titleFontWeight\": \"normal\",\n",
    "                \"labelFontSize\": 10,\n",
    "                \"titleFontSize\": 10\n",
    "            }\n",
    "        }\n",
    "    }\n",
    "\n",
    "alt.themes.register('irozhlas', irozhlas_conf)\n",
    "alt.themes.enable('irozhlas')"
   ]
  },
  {
   "cell_type": "code",
   "execution_count": 14,
   "id": "8c2c8b7f-1f2e-4f39-8962-fe235c86d439",
   "metadata": {},
   "outputs": [],
   "source": [
    "titulek = \"Vývoj knižní produkce na českém území\"\n",
    "podtitulek = [\"Celkové počty záznamů v České národní bibliografii.\",\"Vedle klasických knih může jít i o katalogy výstav apod.\"] #,\"Angličtina a francouzština (téměř) zmizely jen během 2. světové války,\",\"kdy dominovaly překlady z němčiny. Po osvobození raketově narostl podíl ruštiny.\"]\n",
    "kredit = \"zdroj dat: Česká národní bibliografie · vizualizace: iROZHLAS.cz · 2025\""
   ]
  },
  {
   "cell_type": "code",
   "execution_count": 15,
   "id": "87a01513-420e-4f7f-a412-5064fe6be717",
   "metadata": {},
   "outputs": [
    {
     "data": {
      "text/html": [
       "\n",
       "<style>\n",
       "  #altair-viz-ec578648e81f44639e0694820c88ce6b.vega-embed {\n",
       "    width: 100%;\n",
       "    display: flex;\n",
       "  }\n",
       "\n",
       "  #altair-viz-ec578648e81f44639e0694820c88ce6b.vega-embed details,\n",
       "  #altair-viz-ec578648e81f44639e0694820c88ce6b.vega-embed details summary {\n",
       "    position: relative;\n",
       "  }\n",
       "</style>\n",
       "<div id=\"altair-viz-ec578648e81f44639e0694820c88ce6b\"></div>\n",
       "<script type=\"text/javascript\">\n",
       "  var VEGA_DEBUG = (typeof VEGA_DEBUG == \"undefined\") ? {} : VEGA_DEBUG;\n",
       "  (function(spec, embedOpt){\n",
       "    let outputDiv = document.currentScript.previousElementSibling;\n",
       "    if (outputDiv.id !== \"altair-viz-ec578648e81f44639e0694820c88ce6b\") {\n",
       "      outputDiv = document.getElementById(\"altair-viz-ec578648e81f44639e0694820c88ce6b\");\n",
       "    }\n",
       "    const paths = {\n",
       "      \"vega\": \"https://cdn.jsdelivr.net/npm/vega@5?noext\",\n",
       "      \"vega-lib\": \"https://cdn.jsdelivr.net/npm/vega-lib?noext\",\n",
       "      \"vega-lite\": \"https://cdn.jsdelivr.net/npm/vega-lite@5.8.0?noext\",\n",
       "      \"vega-embed\": \"https://cdn.jsdelivr.net/npm/vega-embed@6?noext\",\n",
       "    };\n",
       "\n",
       "    function maybeLoadScript(lib, version) {\n",
       "      var key = `${lib.replace(\"-\", \"\")}_version`;\n",
       "      return (VEGA_DEBUG[key] == version) ?\n",
       "        Promise.resolve(paths[lib]) :\n",
       "        new Promise(function(resolve, reject) {\n",
       "          var s = document.createElement('script');\n",
       "          document.getElementsByTagName(\"head\")[0].appendChild(s);\n",
       "          s.async = true;\n",
       "          s.onload = () => {\n",
       "            VEGA_DEBUG[key] = version;\n",
       "            return resolve(paths[lib]);\n",
       "          };\n",
       "          s.onerror = () => reject(`Error loading script: ${paths[lib]}`);\n",
       "          s.src = paths[lib];\n",
       "        });\n",
       "    }\n",
       "\n",
       "    function showError(err) {\n",
       "      outputDiv.innerHTML = `<div class=\"error\" style=\"color:red;\">${err}</div>`;\n",
       "      throw err;\n",
       "    }\n",
       "\n",
       "    function displayChart(vegaEmbed) {\n",
       "      vegaEmbed(outputDiv, spec, embedOpt)\n",
       "        .catch(err => showError(`Javascript Error: ${err.message}<br>This usually means there's a typo in your chart specification. See the javascript console for the full traceback.`));\n",
       "    }\n",
       "\n",
       "    if(typeof define === \"function\" && define.amd) {\n",
       "      requirejs.config({paths});\n",
       "      require([\"vega-embed\"], displayChart, err => showError(`Error loading script: ${err.message}`));\n",
       "    } else {\n",
       "      maybeLoadScript(\"vega\", \"5\")\n",
       "        .then(() => maybeLoadScript(\"vega-lite\", \"5.8.0\"))\n",
       "        .then(() => maybeLoadScript(\"vega-embed\", \"6\"))\n",
       "        .catch(showError)\n",
       "        .then(() => displayChart(vegaEmbed));\n",
       "    }\n",
       "  })({\"config\": {\"title\": {\"font\": \"Noticia Text\", \"fontSize\": 14, \"anchor\": \"start\", \"fontWeight\": \"bolder\", \"subtitleFont\": \"Noticia Text\", \"subtitleLineHeight\": 18, \"subtitleFontSize\": 12, \"subtitleFontWeight\": \"normal\", \"subtitlePadding\": 10, \"dy\": -12}, \"axis\": {\"labelFont\": \"Asap\", \"titleFont\": \"Asap\", \"fontWeight\": \"lighter\", \"titleFontWeight\": \"lighter\", \"labelFontSize\": 10, \"titleFontSize\": 10, \"labelPadding\": 2, \"titlePadding\": 10}, \"legend\": {\"labelFont\": \"Asap\", \"labelFontWeight\": \"normal\", \"titleFont\": \"Asap\", \"titleFontWeight\": \"normal\", \"labelFontSize\": 10, \"titleFontSize\": 10}}, \"data\": {\"name\": \"data-63f279cc7de3d204011331535bc61fff\"}, \"mark\": {\"type\": \"bar\", \"color\": \"#7CA6E1\"}, \"encoding\": {\"color\": {\"condition\": {\"test\": \"datum.knih > 15000\", \"value\": \"#84c0e4\"}, \"value\": \"#687fa9\"}, \"x\": {\"axis\": {\"domainOpacity\": 0, \"tickColor\": \"#DCDDD6\"}, \"field\": \"rok\", \"title\": null, \"type\": \"temporal\"}, \"y\": {\"axis\": {\"domainOpacity\": 0, \"tickColor\": \"#DCDDD6\"}, \"field\": \"knih\", \"title\": null, \"type\": \"quantitative\"}}, \"height\": 200, \"title\": {\"text\": \"V\\u00fdvoj kni\\u017en\\u00ed produkce na \\u010desk\\u00e9m \\u00fazem\\u00ed\", \"subtitle\": [\"Celkov\\u00e9 po\\u010dty z\\u00e1znam\\u016f v \\u010cesk\\u00e9 n\\u00e1rodn\\u00ed bibliografii.\", \"Vedle klasick\\u00fdch knih m\\u016f\\u017ee j\\u00edt i o katalogy v\\u00fdstav apod.\"]}, \"width\": 400, \"$schema\": \"https://vega.github.io/schema/vega-lite/v5.8.0.json\", \"datasets\": {\"data-63f279cc7de3d204011331535bc61fff\": [{\"rok\": \"1901-01-01T00:00:00\", \"knih\": 1810}, {\"rok\": \"1902-01-01T00:00:00\", \"knih\": 2037}, {\"rok\": \"1903-01-01T00:00:00\", \"knih\": 1973}, {\"rok\": \"1904-01-01T00:00:00\", \"knih\": 1897}, {\"rok\": \"1905-01-01T00:00:00\", \"knih\": 1811}, {\"rok\": \"1906-01-01T00:00:00\", \"knih\": 2239}, {\"rok\": \"1907-01-01T00:00:00\", \"knih\": 2075}, {\"rok\": \"1908-01-01T00:00:00\", \"knih\": 2342}, {\"rok\": \"1909-01-01T00:00:00\", \"knih\": 2246}, {\"rok\": \"1910-01-01T00:00:00\", \"knih\": 2546}, {\"rok\": \"1911-01-01T00:00:00\", \"knih\": 2475}, {\"rok\": \"1912-01-01T00:00:00\", \"knih\": 2593}, {\"rok\": \"1913-01-01T00:00:00\", \"knih\": 2689}, {\"rok\": \"1914-01-01T00:00:00\", \"knih\": 2034}, {\"rok\": \"1915-01-01T00:00:00\", \"knih\": 1395}, {\"rok\": \"1916-01-01T00:00:00\", \"knih\": 1509}, {\"rok\": \"1917-01-01T00:00:00\", \"knih\": 1573}, {\"rok\": \"1918-01-01T00:00:00\", \"knih\": 1906}, {\"rok\": \"1919-01-01T00:00:00\", \"knih\": 3421}, {\"rok\": \"1920-01-01T00:00:00\", \"knih\": 4303}, {\"rok\": \"1921-01-01T00:00:00\", \"knih\": 3800}, {\"rok\": \"1922-01-01T00:00:00\", \"knih\": 4233}, {\"rok\": \"1923-01-01T00:00:00\", \"knih\": 4229}, {\"rok\": \"1924-01-01T00:00:00\", \"knih\": 4691}, {\"rok\": \"1925-01-01T00:00:00\", \"knih\": 5261}, {\"rok\": \"1926-01-01T00:00:00\", \"knih\": 4855}, {\"rok\": \"1927-01-01T00:00:00\", \"knih\": 4682}, {\"rok\": \"1928-01-01T00:00:00\", \"knih\": 4945}, {\"rok\": \"1929-01-01T00:00:00\", \"knih\": 4861}, {\"rok\": \"1930-01-01T00:00:00\", \"knih\": 5528}, {\"rok\": \"1931-01-01T00:00:00\", \"knih\": 4981}, {\"rok\": \"1932-01-01T00:00:00\", \"knih\": 4635}, {\"rok\": \"1933-01-01T00:00:00\", \"knih\": 4628}, {\"rok\": \"1934-01-01T00:00:00\", \"knih\": 4870}, {\"rok\": \"1935-01-01T00:00:00\", \"knih\": 5467}, {\"rok\": \"1936-01-01T00:00:00\", \"knih\": 6439}, {\"rok\": \"1937-01-01T00:00:00\", \"knih\": 6469}, {\"rok\": \"1938-01-01T00:00:00\", \"knih\": 5613}, {\"rok\": \"1939-01-01T00:00:00\", \"knih\": 4207}, {\"rok\": \"1940-01-01T00:00:00\", \"knih\": 5558}, {\"rok\": \"1941-01-01T00:00:00\", \"knih\": 5266}, {\"rok\": \"1942-01-01T00:00:00\", \"knih\": 2705}, {\"rok\": \"1943-01-01T00:00:00\", \"knih\": 2079}, {\"rok\": \"1944-01-01T00:00:00\", \"knih\": 2461}, {\"rok\": \"1945-01-01T00:00:00\", \"knih\": 3084}, {\"rok\": \"1946-01-01T00:00:00\", \"knih\": 6052}, {\"rok\": \"1947-01-01T00:00:00\", \"knih\": 6490}, {\"rok\": \"1948-01-01T00:00:00\", \"knih\": 5381}, {\"rok\": \"1949-01-01T00:00:00\", \"knih\": 3973}, {\"rok\": \"1950-01-01T00:00:00\", \"knih\": 4030}, {\"rok\": \"1951-01-01T00:00:00\", \"knih\": 4555}, {\"rok\": \"1952-01-01T00:00:00\", \"knih\": 4400}, {\"rok\": \"1953-01-01T00:00:00\", \"knih\": 5005}, {\"rok\": \"1954-01-01T00:00:00\", \"knih\": 5357}, {\"rok\": \"1955-01-01T00:00:00\", \"knih\": 4948}, {\"rok\": \"1956-01-01T00:00:00\", \"knih\": 4908}, {\"rok\": \"1957-01-01T00:00:00\", \"knih\": 4927}, {\"rok\": \"1958-01-01T00:00:00\", \"knih\": 5513}, {\"rok\": \"1959-01-01T00:00:00\", \"knih\": 6125}, {\"rok\": \"1960-01-01T00:00:00\", \"knih\": 5891}, {\"rok\": \"1961-01-01T00:00:00\", \"knih\": 6082}, {\"rok\": \"1962-01-01T00:00:00\", \"knih\": 5564}, {\"rok\": \"1963-01-01T00:00:00\", \"knih\": 5844}, {\"rok\": \"1964-01-01T00:00:00\", \"knih\": 5556}, {\"rok\": \"1965-01-01T00:00:00\", \"knih\": 5192}, {\"rok\": \"1966-01-01T00:00:00\", \"knih\": 5144}, {\"rok\": \"1967-01-01T00:00:00\", \"knih\": 5122}, {\"rok\": \"1968-01-01T00:00:00\", \"knih\": 4960}, {\"rok\": \"1969-01-01T00:00:00\", \"knih\": 4906}, {\"rok\": \"1970-01-01T00:00:00\", \"knih\": 5243}, {\"rok\": \"1971-01-01T00:00:00\", \"knih\": 5355}, {\"rok\": \"1972-01-01T00:00:00\", \"knih\": 5273}, {\"rok\": \"1973-01-01T00:00:00\", \"knih\": 5468}, {\"rok\": \"1974-01-01T00:00:00\", \"knih\": 5604}, {\"rok\": \"1975-01-01T00:00:00\", \"knih\": 5568}, {\"rok\": \"1976-01-01T00:00:00\", \"knih\": 5792}, {\"rok\": \"1977-01-01T00:00:00\", \"knih\": 5567}, {\"rok\": \"1978-01-01T00:00:00\", \"knih\": 5643}, {\"rok\": \"1979-01-01T00:00:00\", \"knih\": 5915}, {\"rok\": \"1980-01-01T00:00:00\", \"knih\": 6048}, {\"rok\": \"1981-01-01T00:00:00\", \"knih\": 6023}, {\"rok\": \"1982-01-01T00:00:00\", \"knih\": 6138}, {\"rok\": \"1983-01-01T00:00:00\", \"knih\": 6191}, {\"rok\": \"1984-01-01T00:00:00\", \"knih\": 6353}, {\"rok\": \"1985-01-01T00:00:00\", \"knih\": 6418}, {\"rok\": \"1986-01-01T00:00:00\", \"knih\": 6603}, {\"rok\": \"1987-01-01T00:00:00\", \"knih\": 6898}, {\"rok\": \"1988-01-01T00:00:00\", \"knih\": 6804}, {\"rok\": \"1989-01-01T00:00:00\", \"knih\": 7070}, {\"rok\": \"1990-01-01T00:00:00\", \"knih\": 6926}, {\"rok\": \"1991-01-01T00:00:00\", \"knih\": 7202}, {\"rok\": \"1992-01-01T00:00:00\", \"knih\": 8637}, {\"rok\": \"1993-01-01T00:00:00\", \"knih\": 8488}, {\"rok\": \"1994-01-01T00:00:00\", \"knih\": 8939}, {\"rok\": \"1995-01-01T00:00:00\", \"knih\": 9788}, {\"rok\": \"1996-01-01T00:00:00\", \"knih\": 10456}, {\"rok\": \"1997-01-01T00:00:00\", \"knih\": 10944}, {\"rok\": \"1998-01-01T00:00:00\", \"knih\": 11230}, {\"rok\": \"1999-01-01T00:00:00\", \"knih\": 11641}, {\"rok\": \"2000-01-01T00:00:00\", \"knih\": 12519}, {\"rok\": \"2001-01-01T00:00:00\", \"knih\": 12548}, {\"rok\": \"2002-01-01T00:00:00\", \"knih\": 12717}, {\"rok\": \"2003-01-01T00:00:00\", \"knih\": 13813}, {\"rok\": \"2004-01-01T00:00:00\", \"knih\": 13772}, {\"rok\": \"2005-01-01T00:00:00\", \"knih\": 14177}, {\"rok\": \"2006-01-01T00:00:00\", \"knih\": 15155}, {\"rok\": \"2007-01-01T00:00:00\", \"knih\": 16014}, {\"rok\": \"2008-01-01T00:00:00\", \"knih\": 16727}, {\"rok\": \"2009-01-01T00:00:00\", \"knih\": 15552}, {\"rok\": \"2010-01-01T00:00:00\", \"knih\": 15912}, {\"rok\": \"2011-01-01T00:00:00\", \"knih\": 15394}, {\"rok\": \"2012-01-01T00:00:00\", \"knih\": 15536}, {\"rok\": \"2013-01-01T00:00:00\", \"knih\": 15229}, {\"rok\": \"2014-01-01T00:00:00\", \"knih\": 15245}, {\"rok\": \"2015-01-01T00:00:00\", \"knih\": 14750}, {\"rok\": \"2016-01-01T00:00:00\", \"knih\": 13999}, {\"rok\": \"2017-01-01T00:00:00\", \"knih\": 13783}, {\"rok\": \"2018-01-01T00:00:00\", \"knih\": 14163}, {\"rok\": \"2019-01-01T00:00:00\", \"knih\": 13728}, {\"rok\": \"2020-01-01T00:00:00\", \"knih\": 12478}, {\"rok\": \"2021-01-01T00:00:00\", \"knih\": 12938}, {\"rok\": \"2022-01-01T00:00:00\", \"knih\": 13276}, {\"rok\": \"2023-01-01T00:00:00\", \"knih\": 11758}]}}, {\"mode\": \"vega-lite\"});\n",
       "</script>"
      ],
      "text/plain": [
       "alt.Chart(...)"
      ]
     },
     "execution_count": 15,
     "metadata": {},
     "output_type": "execute_result"
    }
   ],
   "source": [
    "alt.Chart(rocni_pocty.to_pandas(), title={'text': titulek, 'subtitle': podtitulek}).mark_bar(color=\"#7CA6E1\").encode(\n",
    "    alt.X('rok:T', title=None, axis=alt.Axis(domainOpacity=0, tickColor='#DCDDD6')),\n",
    "    alt.Y('knih:Q', title=None, axis=alt.Axis(domainOpacity=0, tickColor='#DCDDD6')),\n",
    "    color=alt.condition(\n",
    "        'datum.knih > 15000',  # Using datum to reference the field value\n",
    "        alt.value('#84c0e4'),\n",
    "        alt.value('#687fa9')\n",
    "    )).properties(width=400, height=200)"
   ]
  },
  {
   "cell_type": "code",
   "execution_count": 16,
   "id": "df196a4b-4e0f-4cea-bb27-c9cf8e61c7dc",
   "metadata": {},
   "outputs": [
    {
     "data": {
      "text/html": [
       "<div><style>\n",
       ".dataframe > thead > tr,\n",
       ".dataframe > tbody > tr {\n",
       "  text-align: right;\n",
       "  white-space: pre-wrap;\n",
       "}\n",
       "</style>\n",
       "<small>shape: (369, 3)</small><table border=\"1\" class=\"dataframe\"><thead><tr><th>rok</th><th>variable</th><th>value</th></tr><tr><td>datetime[μs]</td><td>str</td><td>f64</td></tr></thead><tbody><tr><td>1901-01-01 00:00:00</td><td>&quot;všechny publikace&quot;</td><td>1810.0</td></tr><tr><td>1902-01-01 00:00:00</td><td>&quot;všechny publikace&quot;</td><td>2037.0</td></tr><tr><td>1903-01-01 00:00:00</td><td>&quot;všechny publikace&quot;</td><td>1973.0</td></tr><tr><td>1904-01-01 00:00:00</td><td>&quot;všechny publikace&quot;</td><td>1897.0</td></tr><tr><td>1905-01-01 00:00:00</td><td>&quot;všechny publikace&quot;</td><td>1811.0</td></tr><tr><td>&hellip;</td><td>&hellip;</td><td>&hellip;</td></tr><tr><td>2019-01-01 00:00:00</td><td>&quot;podíl překladů&quot;</td><td>0.126282</td></tr><tr><td>2020-01-01 00:00:00</td><td>&quot;podíl překladů&quot;</td><td>0.119603</td></tr><tr><td>2021-01-01 00:00:00</td><td>&quot;podíl překladů&quot;</td><td>0.131661</td></tr><tr><td>2022-01-01 00:00:00</td><td>&quot;podíl překladů&quot;</td><td>0.125725</td></tr><tr><td>2023-01-01 00:00:00</td><td>&quot;podíl překladů&quot;</td><td>0.123775</td></tr></tbody></table></div>"
      ],
      "text/plain": [
       "shape: (369, 3)\n",
       "┌─────────────────────┬───────────────────┬──────────┐\n",
       "│ rok                 ┆ variable          ┆ value    │\n",
       "│ ---                 ┆ ---               ┆ ---      │\n",
       "│ datetime[μs]        ┆ str               ┆ f64      │\n",
       "╞═════════════════════╪═══════════════════╪══════════╡\n",
       "│ 1901-01-01 00:00:00 ┆ všechny publikace ┆ 1810.0   │\n",
       "│ 1902-01-01 00:00:00 ┆ všechny publikace ┆ 2037.0   │\n",
       "│ 1903-01-01 00:00:00 ┆ všechny publikace ┆ 1973.0   │\n",
       "│ 1904-01-01 00:00:00 ┆ všechny publikace ┆ 1897.0   │\n",
       "│ 1905-01-01 00:00:00 ┆ všechny publikace ┆ 1811.0   │\n",
       "│ …                   ┆ …                 ┆ …        │\n",
       "│ 2019-01-01 00:00:00 ┆ podíl překladů    ┆ 0.126282 │\n",
       "│ 2020-01-01 00:00:00 ┆ podíl překladů    ┆ 0.119603 │\n",
       "│ 2021-01-01 00:00:00 ┆ podíl překladů    ┆ 0.131661 │\n",
       "│ 2022-01-01 00:00:00 ┆ podíl překladů    ┆ 0.125725 │\n",
       "│ 2023-01-01 00:00:00 ┆ podíl překladů    ┆ 0.123775 │\n",
       "└─────────────────────┴───────────────────┴──────────┘"
      ]
     },
     "execution_count": 16,
     "metadata": {},
     "output_type": "execute_result"
    }
   ],
   "source": [
    "do_grafu"
   ]
  },
  {
   "cell_type": "code",
   "execution_count": 17,
   "id": "f74f68af-768d-4578-b478-69d1c3b74d4b",
   "metadata": {},
   "outputs": [],
   "source": [
    "def ceska_cisla(value):\n",
    "    if abs(value) >= 1_000_000:\n",
    "        return f\"{value/1_000_000:.0f} mil.\"\n",
    "    elif abs(value) >= 1_000:\n",
    "        return f\"{value/1_000:.0f} tis.\"\n",
    "    else:\n",
    "        return str(int(value))"
   ]
  },
  {
   "cell_type": "code",
   "execution_count": 18,
   "id": "49624c52-d7fd-4f9f-87ea-2a3558526b22",
   "metadata": {},
   "outputs": [
    {
     "data": {
      "text/plain": [
       "'1 tis.'"
      ]
     },
     "execution_count": 18,
     "metadata": {},
     "output_type": "execute_result"
    }
   ],
   "source": [
    "ceska_cisla(1000)"
   ]
  },
  {
   "cell_type": "code",
   "execution_count": 55,
   "id": "12ad315c-a4a2-45e4-9000-4825c0563d52",
   "metadata": {},
   "outputs": [
    {
     "name": "stderr",
     "output_type": "stream",
     "text": [
      "C:\\Users\\micha\\anaconda3\\Lib\\site-packages\\altair\\utils\\core.py:395: FutureWarning: the convert_dtype parameter is deprecated and will be removed in a future version.  Do ``ser.astype(object).apply()`` instead if you want ``convert_dtype=False``.\n",
      "  col = df[col_name].apply(to_list_if_array, convert_dtype=False)\n"
     ]
    },
    {
     "data": {
      "text/html": [
       "\n",
       "<style>\n",
       "  #altair-viz-07c71e4446eb4993a1d979f9a38d2464.vega-embed {\n",
       "    width: 100%;\n",
       "    display: flex;\n",
       "  }\n",
       "\n",
       "  #altair-viz-07c71e4446eb4993a1d979f9a38d2464.vega-embed details,\n",
       "  #altair-viz-07c71e4446eb4993a1d979f9a38d2464.vega-embed details summary {\n",
       "    position: relative;\n",
       "  }\n",
       "</style>\n",
       "<div id=\"altair-viz-07c71e4446eb4993a1d979f9a38d2464\"></div>\n",
       "<script type=\"text/javascript\">\n",
       "  var VEGA_DEBUG = (typeof VEGA_DEBUG == \"undefined\") ? {} : VEGA_DEBUG;\n",
       "  (function(spec, embedOpt){\n",
       "    let outputDiv = document.currentScript.previousElementSibling;\n",
       "    if (outputDiv.id !== \"altair-viz-07c71e4446eb4993a1d979f9a38d2464\") {\n",
       "      outputDiv = document.getElementById(\"altair-viz-07c71e4446eb4993a1d979f9a38d2464\");\n",
       "    }\n",
       "    const paths = {\n",
       "      \"vega\": \"https://cdn.jsdelivr.net/npm/vega@5?noext\",\n",
       "      \"vega-lib\": \"https://cdn.jsdelivr.net/npm/vega-lib?noext\",\n",
       "      \"vega-lite\": \"https://cdn.jsdelivr.net/npm/vega-lite@5.8.0?noext\",\n",
       "      \"vega-embed\": \"https://cdn.jsdelivr.net/npm/vega-embed@6?noext\",\n",
       "    };\n",
       "\n",
       "    function maybeLoadScript(lib, version) {\n",
       "      var key = `${lib.replace(\"-\", \"\")}_version`;\n",
       "      return (VEGA_DEBUG[key] == version) ?\n",
       "        Promise.resolve(paths[lib]) :\n",
       "        new Promise(function(resolve, reject) {\n",
       "          var s = document.createElement('script');\n",
       "          document.getElementsByTagName(\"head\")[0].appendChild(s);\n",
       "          s.async = true;\n",
       "          s.onload = () => {\n",
       "            VEGA_DEBUG[key] = version;\n",
       "            return resolve(paths[lib]);\n",
       "          };\n",
       "          s.onerror = () => reject(`Error loading script: ${paths[lib]}`);\n",
       "          s.src = paths[lib];\n",
       "        });\n",
       "    }\n",
       "\n",
       "    function showError(err) {\n",
       "      outputDiv.innerHTML = `<div class=\"error\" style=\"color:red;\">${err}</div>`;\n",
       "      throw err;\n",
       "    }\n",
       "\n",
       "    function displayChart(vegaEmbed) {\n",
       "      vegaEmbed(outputDiv, spec, embedOpt)\n",
       "        .catch(err => showError(`Javascript Error: ${err.message}<br>This usually means there's a typo in your chart specification. See the javascript console for the full traceback.`));\n",
       "    }\n",
       "\n",
       "    if(typeof define === \"function\" && define.amd) {\n",
       "      requirejs.config({paths});\n",
       "      require([\"vega-embed\"], displayChart, err => showError(`Error loading script: ${err.message}`));\n",
       "    } else {\n",
       "      maybeLoadScript(\"vega\", \"5\")\n",
       "        .then(() => maybeLoadScript(\"vega-lite\", \"5.8.0\"))\n",
       "        .then(() => maybeLoadScript(\"vega-embed\", \"6\"))\n",
       "        .catch(showError)\n",
       "        .then(() => displayChart(vegaEmbed));\n",
       "    }\n",
       "  })({\"config\": {\"title\": {\"font\": \"Noticia Text\", \"fontSize\": 14, \"anchor\": \"start\", \"fontWeight\": \"bolder\", \"subtitleFont\": \"Noticia Text\", \"subtitleLineHeight\": 18, \"subtitleFontSize\": 12, \"subtitleFontWeight\": \"normal\", \"subtitlePadding\": 10, \"dy\": -12}, \"axis\": {\"labelFont\": \"Asap\", \"titleFont\": \"Asap\", \"fontWeight\": \"lighter\", \"titleFontWeight\": \"lighter\", \"labelFontSize\": 10, \"titleFontSize\": 10, \"labelPadding\": 2, \"titlePadding\": 10}, \"legend\": {\"labelFont\": \"Asap\", \"labelFontWeight\": \"normal\", \"titleFont\": \"Asap\", \"titleFontWeight\": \"normal\", \"labelFontSize\": 10, \"titleFontSize\": 10}}, \"data\": {\"name\": \"data-cabf976f18bafa0209faa41073c5739d\"}, \"mark\": {\"type\": \"bar\", \"size\": 2}, \"encoding\": {\"color\": {\"field\": \"variable\", \"legend\": null, \"scale\": {\"range\": [\"#8eba21\", \"#f77961\"]}, \"title\": null, \"type\": \"nominal\"}, \"row\": {\"field\": \"variable\", \"header\": {\"labelAlign\": \"left\", \"labelAnchor\": \"middle\", \"labelAngle\": 0, \"labelFont\": \"Asap\"}, \"sort\": [\"v\\u0161echny publikace\", \"novinky nad 50 stran\"], \"spacing\": 15, \"title\": null, \"type\": \"nominal\"}, \"x\": {\"axis\": {\"domainOpacity\": 0, \"tickColor\": \"#DCDDD6\"}, \"field\": \"rok\", \"title\": null, \"type\": \"temporal\"}, \"y\": {\"axis\": {\"domainOpacity\": 0, \"format\": \"s\", \"orient\": \"right\", \"tickColor\": \"#DCDDD6\"}, \"field\": \"value\", \"title\": null, \"type\": \"quantitative\"}}, \"height\": 90, \"resolve\": {\"axis\": {\"x\": \"independent\"}, \"scale\": {\"y\": \"independent\"}}, \"title\": {\"text\": \"V\\u00fdvoj kni\\u017en\\u00ed produkce na \\u010desk\\u00e9m \\u00fazem\\u00ed\", \"subtitle\": [\"Celkov\\u00e9 po\\u010dty z\\u00e1znam\\u016f v \\u010cesk\\u00e9 n\\u00e1rodn\\u00ed bibliografii.\", \"Vedle klasick\\u00fdch knih m\\u016f\\u017ee j\\u00edt i o katalogy v\\u00fdstav apod.\"]}, \"width\": 300, \"$schema\": \"https://vega.github.io/schema/vega-lite/v5.8.0.json\", \"datasets\": {\"data-cabf976f18bafa0209faa41073c5739d\": [{\"rok\": \"1901-01-01T00:00:00\", \"variable\": \"v\\u0161echny publikace\", \"value\": 1810.0}, {\"rok\": \"1902-01-01T00:00:00\", \"variable\": \"v\\u0161echny publikace\", \"value\": 2037.0}, {\"rok\": \"1903-01-01T00:00:00\", \"variable\": \"v\\u0161echny publikace\", \"value\": 1973.0}, {\"rok\": \"1904-01-01T00:00:00\", \"variable\": \"v\\u0161echny publikace\", \"value\": 1897.0}, {\"rok\": \"1905-01-01T00:00:00\", \"variable\": \"v\\u0161echny publikace\", \"value\": 1811.0}, {\"rok\": \"1906-01-01T00:00:00\", \"variable\": \"v\\u0161echny publikace\", \"value\": 2239.0}, {\"rok\": \"1907-01-01T00:00:00\", \"variable\": \"v\\u0161echny publikace\", \"value\": 2075.0}, {\"rok\": \"1908-01-01T00:00:00\", \"variable\": \"v\\u0161echny publikace\", \"value\": 2342.0}, {\"rok\": \"1909-01-01T00:00:00\", \"variable\": \"v\\u0161echny publikace\", \"value\": 2246.0}, {\"rok\": \"1910-01-01T00:00:00\", \"variable\": \"v\\u0161echny publikace\", \"value\": 2546.0}, {\"rok\": \"1911-01-01T00:00:00\", \"variable\": \"v\\u0161echny publikace\", \"value\": 2475.0}, {\"rok\": \"1912-01-01T00:00:00\", \"variable\": \"v\\u0161echny publikace\", \"value\": 2593.0}, {\"rok\": \"1913-01-01T00:00:00\", \"variable\": \"v\\u0161echny publikace\", \"value\": 2689.0}, {\"rok\": \"1914-01-01T00:00:00\", \"variable\": \"v\\u0161echny publikace\", \"value\": 2034.0}, {\"rok\": \"1915-01-01T00:00:00\", \"variable\": \"v\\u0161echny publikace\", \"value\": 1395.0}, {\"rok\": \"1916-01-01T00:00:00\", \"variable\": \"v\\u0161echny publikace\", \"value\": 1509.0}, {\"rok\": \"1917-01-01T00:00:00\", \"variable\": \"v\\u0161echny publikace\", \"value\": 1573.0}, {\"rok\": \"1918-01-01T00:00:00\", \"variable\": \"v\\u0161echny publikace\", \"value\": 1906.0}, {\"rok\": \"1919-01-01T00:00:00\", \"variable\": \"v\\u0161echny publikace\", \"value\": 3421.0}, {\"rok\": \"1920-01-01T00:00:00\", \"variable\": \"v\\u0161echny publikace\", \"value\": 4303.0}, {\"rok\": \"1921-01-01T00:00:00\", \"variable\": \"v\\u0161echny publikace\", \"value\": 3800.0}, {\"rok\": \"1922-01-01T00:00:00\", \"variable\": \"v\\u0161echny publikace\", \"value\": 4233.0}, {\"rok\": \"1923-01-01T00:00:00\", \"variable\": \"v\\u0161echny publikace\", \"value\": 4229.0}, {\"rok\": \"1924-01-01T00:00:00\", \"variable\": \"v\\u0161echny publikace\", \"value\": 4691.0}, {\"rok\": \"1925-01-01T00:00:00\", \"variable\": \"v\\u0161echny publikace\", \"value\": 5261.0}, {\"rok\": \"1926-01-01T00:00:00\", \"variable\": \"v\\u0161echny publikace\", \"value\": 4855.0}, {\"rok\": \"1927-01-01T00:00:00\", \"variable\": \"v\\u0161echny publikace\", \"value\": 4682.0}, {\"rok\": \"1928-01-01T00:00:00\", \"variable\": \"v\\u0161echny publikace\", \"value\": 4945.0}, {\"rok\": \"1929-01-01T00:00:00\", \"variable\": \"v\\u0161echny publikace\", \"value\": 4861.0}, {\"rok\": \"1930-01-01T00:00:00\", \"variable\": \"v\\u0161echny publikace\", \"value\": 5528.0}, {\"rok\": \"1931-01-01T00:00:00\", \"variable\": \"v\\u0161echny publikace\", \"value\": 4981.0}, {\"rok\": \"1932-01-01T00:00:00\", \"variable\": \"v\\u0161echny publikace\", \"value\": 4635.0}, {\"rok\": \"1933-01-01T00:00:00\", \"variable\": \"v\\u0161echny publikace\", \"value\": 4628.0}, {\"rok\": \"1934-01-01T00:00:00\", \"variable\": \"v\\u0161echny publikace\", \"value\": 4870.0}, {\"rok\": \"1935-01-01T00:00:00\", \"variable\": \"v\\u0161echny publikace\", \"value\": 5467.0}, {\"rok\": \"1936-01-01T00:00:00\", \"variable\": \"v\\u0161echny publikace\", \"value\": 6439.0}, {\"rok\": \"1937-01-01T00:00:00\", \"variable\": \"v\\u0161echny publikace\", \"value\": 6469.0}, {\"rok\": \"1938-01-01T00:00:00\", \"variable\": \"v\\u0161echny publikace\", \"value\": 5613.0}, {\"rok\": \"1939-01-01T00:00:00\", \"variable\": \"v\\u0161echny publikace\", \"value\": 4207.0}, {\"rok\": \"1940-01-01T00:00:00\", \"variable\": \"v\\u0161echny publikace\", \"value\": 5558.0}, {\"rok\": \"1941-01-01T00:00:00\", \"variable\": \"v\\u0161echny publikace\", \"value\": 5266.0}, {\"rok\": \"1942-01-01T00:00:00\", \"variable\": \"v\\u0161echny publikace\", \"value\": 2705.0}, {\"rok\": \"1943-01-01T00:00:00\", \"variable\": \"v\\u0161echny publikace\", \"value\": 2079.0}, {\"rok\": \"1944-01-01T00:00:00\", \"variable\": \"v\\u0161echny publikace\", \"value\": 2461.0}, {\"rok\": \"1945-01-01T00:00:00\", \"variable\": \"v\\u0161echny publikace\", \"value\": 3084.0}, {\"rok\": \"1946-01-01T00:00:00\", \"variable\": \"v\\u0161echny publikace\", \"value\": 6052.0}, {\"rok\": \"1947-01-01T00:00:00\", \"variable\": \"v\\u0161echny publikace\", \"value\": 6490.0}, {\"rok\": \"1948-01-01T00:00:00\", \"variable\": \"v\\u0161echny publikace\", \"value\": 5381.0}, {\"rok\": \"1949-01-01T00:00:00\", \"variable\": \"v\\u0161echny publikace\", \"value\": 3973.0}, {\"rok\": \"1950-01-01T00:00:00\", \"variable\": \"v\\u0161echny publikace\", \"value\": 4030.0}, {\"rok\": \"1951-01-01T00:00:00\", \"variable\": \"v\\u0161echny publikace\", \"value\": 4555.0}, {\"rok\": \"1952-01-01T00:00:00\", \"variable\": \"v\\u0161echny publikace\", \"value\": 4400.0}, {\"rok\": \"1953-01-01T00:00:00\", \"variable\": \"v\\u0161echny publikace\", \"value\": 5005.0}, {\"rok\": \"1954-01-01T00:00:00\", \"variable\": \"v\\u0161echny publikace\", \"value\": 5357.0}, {\"rok\": \"1955-01-01T00:00:00\", \"variable\": \"v\\u0161echny publikace\", \"value\": 4948.0}, {\"rok\": \"1956-01-01T00:00:00\", \"variable\": \"v\\u0161echny publikace\", \"value\": 4908.0}, {\"rok\": \"1957-01-01T00:00:00\", \"variable\": \"v\\u0161echny publikace\", \"value\": 4927.0}, {\"rok\": \"1958-01-01T00:00:00\", \"variable\": \"v\\u0161echny publikace\", \"value\": 5513.0}, {\"rok\": \"1959-01-01T00:00:00\", \"variable\": \"v\\u0161echny publikace\", \"value\": 6125.0}, {\"rok\": \"1960-01-01T00:00:00\", \"variable\": \"v\\u0161echny publikace\", \"value\": 5891.0}, {\"rok\": \"1961-01-01T00:00:00\", \"variable\": \"v\\u0161echny publikace\", \"value\": 6082.0}, {\"rok\": \"1962-01-01T00:00:00\", \"variable\": \"v\\u0161echny publikace\", \"value\": 5564.0}, {\"rok\": \"1963-01-01T00:00:00\", \"variable\": \"v\\u0161echny publikace\", \"value\": 5844.0}, {\"rok\": \"1964-01-01T00:00:00\", \"variable\": \"v\\u0161echny publikace\", \"value\": 5556.0}, {\"rok\": \"1965-01-01T00:00:00\", \"variable\": \"v\\u0161echny publikace\", \"value\": 5192.0}, {\"rok\": \"1966-01-01T00:00:00\", \"variable\": \"v\\u0161echny publikace\", \"value\": 5144.0}, {\"rok\": \"1967-01-01T00:00:00\", \"variable\": \"v\\u0161echny publikace\", \"value\": 5122.0}, {\"rok\": \"1968-01-01T00:00:00\", \"variable\": \"v\\u0161echny publikace\", \"value\": 4960.0}, {\"rok\": \"1969-01-01T00:00:00\", \"variable\": \"v\\u0161echny publikace\", \"value\": 4906.0}, {\"rok\": \"1970-01-01T00:00:00\", \"variable\": \"v\\u0161echny publikace\", \"value\": 5243.0}, {\"rok\": \"1971-01-01T00:00:00\", \"variable\": \"v\\u0161echny publikace\", \"value\": 5355.0}, {\"rok\": \"1972-01-01T00:00:00\", \"variable\": \"v\\u0161echny publikace\", \"value\": 5273.0}, {\"rok\": \"1973-01-01T00:00:00\", \"variable\": \"v\\u0161echny publikace\", \"value\": 5468.0}, {\"rok\": \"1974-01-01T00:00:00\", \"variable\": \"v\\u0161echny publikace\", \"value\": 5604.0}, {\"rok\": \"1975-01-01T00:00:00\", \"variable\": \"v\\u0161echny publikace\", \"value\": 5568.0}, {\"rok\": \"1976-01-01T00:00:00\", \"variable\": \"v\\u0161echny publikace\", \"value\": 5792.0}, {\"rok\": \"1977-01-01T00:00:00\", \"variable\": \"v\\u0161echny publikace\", \"value\": 5567.0}, {\"rok\": \"1978-01-01T00:00:00\", \"variable\": \"v\\u0161echny publikace\", \"value\": 5643.0}, {\"rok\": \"1979-01-01T00:00:00\", \"variable\": \"v\\u0161echny publikace\", \"value\": 5915.0}, {\"rok\": \"1980-01-01T00:00:00\", \"variable\": \"v\\u0161echny publikace\", \"value\": 6048.0}, {\"rok\": \"1981-01-01T00:00:00\", \"variable\": \"v\\u0161echny publikace\", \"value\": 6023.0}, {\"rok\": \"1982-01-01T00:00:00\", \"variable\": \"v\\u0161echny publikace\", \"value\": 6138.0}, {\"rok\": \"1983-01-01T00:00:00\", \"variable\": \"v\\u0161echny publikace\", \"value\": 6191.0}, {\"rok\": \"1984-01-01T00:00:00\", \"variable\": \"v\\u0161echny publikace\", \"value\": 6353.0}, {\"rok\": \"1985-01-01T00:00:00\", \"variable\": \"v\\u0161echny publikace\", \"value\": 6418.0}, {\"rok\": \"1986-01-01T00:00:00\", \"variable\": \"v\\u0161echny publikace\", \"value\": 6603.0}, {\"rok\": \"1987-01-01T00:00:00\", \"variable\": \"v\\u0161echny publikace\", \"value\": 6898.0}, {\"rok\": \"1988-01-01T00:00:00\", \"variable\": \"v\\u0161echny publikace\", \"value\": 6804.0}, {\"rok\": \"1989-01-01T00:00:00\", \"variable\": \"v\\u0161echny publikace\", \"value\": 7070.0}, {\"rok\": \"1990-01-01T00:00:00\", \"variable\": \"v\\u0161echny publikace\", \"value\": 6926.0}, {\"rok\": \"1991-01-01T00:00:00\", \"variable\": \"v\\u0161echny publikace\", \"value\": 7202.0}, {\"rok\": \"1992-01-01T00:00:00\", \"variable\": \"v\\u0161echny publikace\", \"value\": 8637.0}, {\"rok\": \"1993-01-01T00:00:00\", \"variable\": \"v\\u0161echny publikace\", \"value\": 8488.0}, {\"rok\": \"1994-01-01T00:00:00\", \"variable\": \"v\\u0161echny publikace\", \"value\": 8939.0}, {\"rok\": \"1995-01-01T00:00:00\", \"variable\": \"v\\u0161echny publikace\", \"value\": 9788.0}, {\"rok\": \"1996-01-01T00:00:00\", \"variable\": \"v\\u0161echny publikace\", \"value\": 10456.0}, {\"rok\": \"1997-01-01T00:00:00\", \"variable\": \"v\\u0161echny publikace\", \"value\": 10944.0}, {\"rok\": \"1998-01-01T00:00:00\", \"variable\": \"v\\u0161echny publikace\", \"value\": 11230.0}, {\"rok\": \"1999-01-01T00:00:00\", \"variable\": \"v\\u0161echny publikace\", \"value\": 11641.0}, {\"rok\": \"2000-01-01T00:00:00\", \"variable\": \"v\\u0161echny publikace\", \"value\": 12519.0}, {\"rok\": \"2001-01-01T00:00:00\", \"variable\": \"v\\u0161echny publikace\", \"value\": 12548.0}, {\"rok\": \"2002-01-01T00:00:00\", \"variable\": \"v\\u0161echny publikace\", \"value\": 12717.0}, {\"rok\": \"2003-01-01T00:00:00\", \"variable\": \"v\\u0161echny publikace\", \"value\": 13813.0}, {\"rok\": \"2004-01-01T00:00:00\", \"variable\": \"v\\u0161echny publikace\", \"value\": 13772.0}, {\"rok\": \"2005-01-01T00:00:00\", \"variable\": \"v\\u0161echny publikace\", \"value\": 14177.0}, {\"rok\": \"2006-01-01T00:00:00\", \"variable\": \"v\\u0161echny publikace\", \"value\": 15155.0}, {\"rok\": \"2007-01-01T00:00:00\", \"variable\": \"v\\u0161echny publikace\", \"value\": 16014.0}, {\"rok\": \"2008-01-01T00:00:00\", \"variable\": \"v\\u0161echny publikace\", \"value\": 16727.0}, {\"rok\": \"2009-01-01T00:00:00\", \"variable\": \"v\\u0161echny publikace\", \"value\": 15552.0}, {\"rok\": \"2010-01-01T00:00:00\", \"variable\": \"v\\u0161echny publikace\", \"value\": 15912.0}, {\"rok\": \"2011-01-01T00:00:00\", \"variable\": \"v\\u0161echny publikace\", \"value\": 15394.0}, {\"rok\": \"2012-01-01T00:00:00\", \"variable\": \"v\\u0161echny publikace\", \"value\": 15536.0}, {\"rok\": \"2013-01-01T00:00:00\", \"variable\": \"v\\u0161echny publikace\", \"value\": 15229.0}, {\"rok\": \"2014-01-01T00:00:00\", \"variable\": \"v\\u0161echny publikace\", \"value\": 15245.0}, {\"rok\": \"2015-01-01T00:00:00\", \"variable\": \"v\\u0161echny publikace\", \"value\": 14750.0}, {\"rok\": \"2016-01-01T00:00:00\", \"variable\": \"v\\u0161echny publikace\", \"value\": 13999.0}, {\"rok\": \"2017-01-01T00:00:00\", \"variable\": \"v\\u0161echny publikace\", \"value\": 13783.0}, {\"rok\": \"2018-01-01T00:00:00\", \"variable\": \"v\\u0161echny publikace\", \"value\": 14163.0}, {\"rok\": \"2019-01-01T00:00:00\", \"variable\": \"v\\u0161echny publikace\", \"value\": 13728.0}, {\"rok\": \"2020-01-01T00:00:00\", \"variable\": \"v\\u0161echny publikace\", \"value\": 12478.0}, {\"rok\": \"2021-01-01T00:00:00\", \"variable\": \"v\\u0161echny publikace\", \"value\": 12938.0}, {\"rok\": \"2022-01-01T00:00:00\", \"variable\": \"v\\u0161echny publikace\", \"value\": 13276.0}, {\"rok\": \"2023-01-01T00:00:00\", \"variable\": \"v\\u0161echny publikace\", \"value\": 11758.0}, {\"rok\": \"1901-01-01T00:00:00\", \"variable\": \"novinky nad 50 stran\", \"value\": 992.0}, {\"rok\": \"1902-01-01T00:00:00\", \"variable\": \"novinky nad 50 stran\", \"value\": 1129.0}, {\"rok\": \"1903-01-01T00:00:00\", \"variable\": \"novinky nad 50 stran\", \"value\": 1038.0}, {\"rok\": \"1904-01-01T00:00:00\", \"variable\": \"novinky nad 50 stran\", \"value\": 990.0}, {\"rok\": \"1905-01-01T00:00:00\", \"variable\": \"novinky nad 50 stran\", \"value\": 976.0}, {\"rok\": \"1906-01-01T00:00:00\", \"variable\": \"novinky nad 50 stran\", \"value\": 979.0}, {\"rok\": \"1907-01-01T00:00:00\", \"variable\": \"novinky nad 50 stran\", \"value\": 984.0}, {\"rok\": \"1908-01-01T00:00:00\", \"variable\": \"novinky nad 50 stran\", \"value\": 1176.0}, {\"rok\": \"1909-01-01T00:00:00\", \"variable\": \"novinky nad 50 stran\", \"value\": 1119.0}, {\"rok\": \"1910-01-01T00:00:00\", \"variable\": \"novinky nad 50 stran\", \"value\": 1358.0}, {\"rok\": \"1911-01-01T00:00:00\", \"variable\": \"novinky nad 50 stran\", \"value\": 1305.0}, {\"rok\": \"1912-01-01T00:00:00\", \"variable\": \"novinky nad 50 stran\", \"value\": 1325.0}, {\"rok\": \"1913-01-01T00:00:00\", \"variable\": \"novinky nad 50 stran\", \"value\": 1375.0}, {\"rok\": \"1914-01-01T00:00:00\", \"variable\": \"novinky nad 50 stran\", \"value\": 952.0}, {\"rok\": \"1915-01-01T00:00:00\", \"variable\": \"novinky nad 50 stran\", \"value\": 667.0}, {\"rok\": \"1916-01-01T00:00:00\", \"variable\": \"novinky nad 50 stran\", \"value\": 668.0}, {\"rok\": \"1917-01-01T00:00:00\", \"variable\": \"novinky nad 50 stran\", \"value\": 704.0}, {\"rok\": \"1918-01-01T00:00:00\", \"variable\": \"novinky nad 50 stran\", \"value\": 850.0}, {\"rok\": \"1919-01-01T00:00:00\", \"variable\": \"novinky nad 50 stran\", \"value\": 1340.0}, {\"rok\": \"1920-01-01T00:00:00\", \"variable\": \"novinky nad 50 stran\", \"value\": 1802.0}, {\"rok\": \"1921-01-01T00:00:00\", \"variable\": \"novinky nad 50 stran\", \"value\": 1577.0}, {\"rok\": \"1922-01-01T00:00:00\", \"variable\": \"novinky nad 50 stran\", \"value\": 1775.0}, {\"rok\": \"1923-01-01T00:00:00\", \"variable\": \"novinky nad 50 stran\", \"value\": 1845.0}, {\"rok\": \"1924-01-01T00:00:00\", \"variable\": \"novinky nad 50 stran\", \"value\": 2112.0}, {\"rok\": \"1925-01-01T00:00:00\", \"variable\": \"novinky nad 50 stran\", \"value\": 2475.0}, {\"rok\": \"1926-01-01T00:00:00\", \"variable\": \"novinky nad 50 stran\", \"value\": 2355.0}, {\"rok\": \"1927-01-01T00:00:00\", \"variable\": \"novinky nad 50 stran\", \"value\": 2348.0}, {\"rok\": \"1928-01-01T00:00:00\", \"variable\": \"novinky nad 50 stran\", \"value\": 2454.0}, {\"rok\": \"1929-01-01T00:00:00\", \"variable\": \"novinky nad 50 stran\", \"value\": 2350.0}, {\"rok\": \"1930-01-01T00:00:00\", \"variable\": \"novinky nad 50 stran\", \"value\": 2642.0}, {\"rok\": \"1931-01-01T00:00:00\", \"variable\": \"novinky nad 50 stran\", \"value\": 2368.0}, {\"rok\": \"1932-01-01T00:00:00\", \"variable\": \"novinky nad 50 stran\", \"value\": 2131.0}, {\"rok\": \"1933-01-01T00:00:00\", \"variable\": \"novinky nad 50 stran\", \"value\": 2086.0}, {\"rok\": \"1934-01-01T00:00:00\", \"variable\": \"novinky nad 50 stran\", \"value\": 2126.0}, {\"rok\": \"1935-01-01T00:00:00\", \"variable\": \"novinky nad 50 stran\", \"value\": 2309.0}, {\"rok\": \"1936-01-01T00:00:00\", \"variable\": \"novinky nad 50 stran\", \"value\": 2671.0}, {\"rok\": \"1937-01-01T00:00:00\", \"variable\": \"novinky nad 50 stran\", \"value\": 2665.0}, {\"rok\": \"1938-01-01T00:00:00\", \"variable\": \"novinky nad 50 stran\", \"value\": 2316.0}, {\"rok\": \"1939-01-01T00:00:00\", \"variable\": \"novinky nad 50 stran\", \"value\": 1777.0}, {\"rok\": \"1940-01-01T00:00:00\", \"variable\": \"novinky nad 50 stran\", \"value\": 2196.0}, {\"rok\": \"1941-01-01T00:00:00\", \"variable\": \"novinky nad 50 stran\", \"value\": 2089.0}, {\"rok\": \"1942-01-01T00:00:00\", \"variable\": \"novinky nad 50 stran\", \"value\": 1104.0}, {\"rok\": \"1943-01-01T00:00:00\", \"variable\": \"novinky nad 50 stran\", \"value\": 917.0}, {\"rok\": \"1944-01-01T00:00:00\", \"variable\": \"novinky nad 50 stran\", \"value\": 1069.0}, {\"rok\": \"1945-01-01T00:00:00\", \"variable\": \"novinky nad 50 stran\", \"value\": 1052.0}, {\"rok\": \"1946-01-01T00:00:00\", \"variable\": \"novinky nad 50 stran\", \"value\": 2690.0}, {\"rok\": \"1947-01-01T00:00:00\", \"variable\": \"novinky nad 50 stran\", \"value\": 3034.0}, {\"rok\": \"1948-01-01T00:00:00\", \"variable\": \"novinky nad 50 stran\", \"value\": 2632.0}, {\"rok\": \"1949-01-01T00:00:00\", \"variable\": \"novinky nad 50 stran\", \"value\": 1558.0}, {\"rok\": \"1950-01-01T00:00:00\", \"variable\": \"novinky nad 50 stran\", \"value\": 1847.0}, {\"rok\": \"1951-01-01T00:00:00\", \"variable\": \"novinky nad 50 stran\", \"value\": 2407.0}, {\"rok\": \"1952-01-01T00:00:00\", \"variable\": \"novinky nad 50 stran\", \"value\": 2305.0}, {\"rok\": \"1953-01-01T00:00:00\", \"variable\": \"novinky nad 50 stran\", \"value\": 2785.0}, {\"rok\": \"1954-01-01T00:00:00\", \"variable\": \"novinky nad 50 stran\", \"value\": 3059.0}, {\"rok\": \"1955-01-01T00:00:00\", \"variable\": \"novinky nad 50 stran\", \"value\": 2764.0}, {\"rok\": \"1956-01-01T00:00:00\", \"variable\": \"novinky nad 50 stran\", \"value\": 2796.0}, {\"rok\": \"1957-01-01T00:00:00\", \"variable\": \"novinky nad 50 stran\", \"value\": 2805.0}, {\"rok\": \"1958-01-01T00:00:00\", \"variable\": \"novinky nad 50 stran\", \"value\": 3105.0}, {\"rok\": \"1959-01-01T00:00:00\", \"variable\": \"novinky nad 50 stran\", \"value\": 3241.0}, {\"rok\": \"1960-01-01T00:00:00\", \"variable\": \"novinky nad 50 stran\", \"value\": 3164.0}, {\"rok\": \"1961-01-01T00:00:00\", \"variable\": \"novinky nad 50 stran\", \"value\": 3303.0}, {\"rok\": \"1962-01-01T00:00:00\", \"variable\": \"novinky nad 50 stran\", \"value\": 3202.0}, {\"rok\": \"1963-01-01T00:00:00\", \"variable\": \"novinky nad 50 stran\", \"value\": 3400.0}, {\"rok\": \"1964-01-01T00:00:00\", \"variable\": \"novinky nad 50 stran\", \"value\": 3344.0}, {\"rok\": \"1965-01-01T00:00:00\", \"variable\": \"novinky nad 50 stran\", \"value\": 3163.0}, {\"rok\": \"1966-01-01T00:00:00\", \"variable\": \"novinky nad 50 stran\", \"value\": 3249.0}, {\"rok\": \"1967-01-01T00:00:00\", \"variable\": \"novinky nad 50 stran\", \"value\": 3070.0}, {\"rok\": \"1968-01-01T00:00:00\", \"variable\": \"novinky nad 50 stran\", \"value\": 3064.0}, {\"rok\": \"1969-01-01T00:00:00\", \"variable\": \"novinky nad 50 stran\", \"value\": 2896.0}, {\"rok\": \"1970-01-01T00:00:00\", \"variable\": \"novinky nad 50 stran\", \"value\": 3059.0}, {\"rok\": \"1971-01-01T00:00:00\", \"variable\": \"novinky nad 50 stran\", \"value\": 3179.0}, {\"rok\": \"1972-01-01T00:00:00\", \"variable\": \"novinky nad 50 stran\", \"value\": 3195.0}, {\"rok\": \"1973-01-01T00:00:00\", \"variable\": \"novinky nad 50 stran\", \"value\": 3340.0}, {\"rok\": \"1974-01-01T00:00:00\", \"variable\": \"novinky nad 50 stran\", \"value\": 3452.0}, {\"rok\": \"1975-01-01T00:00:00\", \"variable\": \"novinky nad 50 stran\", \"value\": 3482.0}, {\"rok\": \"1976-01-01T00:00:00\", \"variable\": \"novinky nad 50 stran\", \"value\": 3493.0}, {\"rok\": \"1977-01-01T00:00:00\", \"variable\": \"novinky nad 50 stran\", \"value\": 3416.0}, {\"rok\": \"1978-01-01T00:00:00\", \"variable\": \"novinky nad 50 stran\", \"value\": 3545.0}, {\"rok\": \"1979-01-01T00:00:00\", \"variable\": \"novinky nad 50 stran\", \"value\": 3816.0}, {\"rok\": \"1980-01-01T00:00:00\", \"variable\": \"novinky nad 50 stran\", \"value\": 3964.0}, {\"rok\": \"1981-01-01T00:00:00\", \"variable\": \"novinky nad 50 stran\", \"value\": 3892.0}, {\"rok\": \"1982-01-01T00:00:00\", \"variable\": \"novinky nad 50 stran\", \"value\": 4159.0}, {\"rok\": \"1983-01-01T00:00:00\", \"variable\": \"novinky nad 50 stran\", \"value\": 4156.0}, {\"rok\": \"1984-01-01T00:00:00\", \"variable\": \"novinky nad 50 stran\", \"value\": 4253.0}, {\"rok\": \"1985-01-01T00:00:00\", \"variable\": \"novinky nad 50 stran\", \"value\": 4143.0}, {\"rok\": \"1986-01-01T00:00:00\", \"variable\": \"novinky nad 50 stran\", \"value\": 4328.0}, {\"rok\": \"1987-01-01T00:00:00\", \"variable\": \"novinky nad 50 stran\", \"value\": 4457.0}, {\"rok\": \"1988-01-01T00:00:00\", \"variable\": \"novinky nad 50 stran\", \"value\": 4370.0}, {\"rok\": \"1989-01-01T00:00:00\", \"variable\": \"novinky nad 50 stran\", \"value\": 4541.0}, {\"rok\": \"1990-01-01T00:00:00\", \"variable\": \"novinky nad 50 stran\", \"value\": 4307.0}, {\"rok\": \"1991-01-01T00:00:00\", \"variable\": \"novinky nad 50 stran\", \"value\": 4312.0}, {\"rok\": \"1992-01-01T00:00:00\", \"variable\": \"novinky nad 50 stran\", \"value\": 5863.0}, {\"rok\": \"1993-01-01T00:00:00\", \"variable\": \"novinky nad 50 stran\", \"value\": 6056.0}, {\"rok\": \"1994-01-01T00:00:00\", \"variable\": \"novinky nad 50 stran\", \"value\": 6538.0}, {\"rok\": \"1995-01-01T00:00:00\", \"variable\": \"novinky nad 50 stran\", \"value\": 7184.0}, {\"rok\": \"1996-01-01T00:00:00\", \"variable\": \"novinky nad 50 stran\", \"value\": 7609.0}, {\"rok\": \"1997-01-01T00:00:00\", \"variable\": \"novinky nad 50 stran\", \"value\": 7969.0}, {\"rok\": \"1998-01-01T00:00:00\", \"variable\": \"novinky nad 50 stran\", \"value\": 7910.0}, {\"rok\": \"1999-01-01T00:00:00\", \"variable\": \"novinky nad 50 stran\", \"value\": 7937.0}, {\"rok\": \"2000-01-01T00:00:00\", \"variable\": \"novinky nad 50 stran\", \"value\": 8454.0}, {\"rok\": \"2001-01-01T00:00:00\", \"variable\": \"novinky nad 50 stran\", \"value\": 8550.0}, {\"rok\": \"2002-01-01T00:00:00\", \"variable\": \"novinky nad 50 stran\", \"value\": 8565.0}, {\"rok\": \"2003-01-01T00:00:00\", \"variable\": \"novinky nad 50 stran\", \"value\": 9051.0}, {\"rok\": \"2004-01-01T00:00:00\", \"variable\": \"novinky nad 50 stran\", \"value\": 9602.0}, {\"rok\": \"2005-01-01T00:00:00\", \"variable\": \"novinky nad 50 stran\", \"value\": 9884.0}, {\"rok\": \"2006-01-01T00:00:00\", \"variable\": \"novinky nad 50 stran\", \"value\": 10384.0}, {\"rok\": \"2007-01-01T00:00:00\", \"variable\": \"novinky nad 50 stran\", \"value\": 10631.0}, {\"rok\": \"2008-01-01T00:00:00\", \"variable\": \"novinky nad 50 stran\", \"value\": 10855.0}, {\"rok\": \"2009-01-01T00:00:00\", \"variable\": \"novinky nad 50 stran\", \"value\": 10303.0}, {\"rok\": \"2010-01-01T00:00:00\", \"variable\": \"novinky nad 50 stran\", \"value\": 10529.0}, {\"rok\": \"2011-01-01T00:00:00\", \"variable\": \"novinky nad 50 stran\", \"value\": 10537.0}, {\"rok\": \"2012-01-01T00:00:00\", \"variable\": \"novinky nad 50 stran\", \"value\": 10121.0}, {\"rok\": \"2013-01-01T00:00:00\", \"variable\": \"novinky nad 50 stran\", \"value\": 10276.0}, {\"rok\": \"2014-01-01T00:00:00\", \"variable\": \"novinky nad 50 stran\", \"value\": 10327.0}, {\"rok\": \"2015-01-01T00:00:00\", \"variable\": \"novinky nad 50 stran\", \"value\": 10140.0}, {\"rok\": \"2016-01-01T00:00:00\", \"variable\": \"novinky nad 50 stran\", \"value\": 9481.0}, {\"rok\": \"2017-01-01T00:00:00\", \"variable\": \"novinky nad 50 stran\", \"value\": 9506.0}, {\"rok\": \"2018-01-01T00:00:00\", \"variable\": \"novinky nad 50 stran\", \"value\": 9804.0}, {\"rok\": \"2019-01-01T00:00:00\", \"variable\": \"novinky nad 50 stran\", \"value\": 9356.0}, {\"rok\": \"2020-01-01T00:00:00\", \"variable\": \"novinky nad 50 stran\", \"value\": 8691.0}, {\"rok\": \"2021-01-01T00:00:00\", \"variable\": \"novinky nad 50 stran\", \"value\": 8638.0}, {\"rok\": \"2022-01-01T00:00:00\", \"variable\": \"novinky nad 50 stran\", \"value\": 8530.0}, {\"rok\": \"2023-01-01T00:00:00\", \"variable\": \"novinky nad 50 stran\", \"value\": 7800.0}, {\"rok\": \"1901-01-01T00:00:00\", \"variable\": \"pod\\u00edl p\\u0159eklad\\u016f\", \"value\": 0.11003236245954692}, {\"rok\": \"1902-01-01T00:00:00\", \"variable\": \"pod\\u00edl p\\u0159eklad\\u016f\", \"value\": 0.1448087431693989}, {\"rok\": \"1903-01-01T00:00:00\", \"variable\": \"pod\\u00edl p\\u0159eklad\\u016f\", \"value\": 0.1527777777777778}, {\"rok\": \"1904-01-01T00:00:00\", \"variable\": \"pod\\u00edl p\\u0159eklad\\u016f\", \"value\": 0.1396011396011396}, {\"rok\": \"1905-01-01T00:00:00\", \"variable\": \"pod\\u00edl p\\u0159eklad\\u016f\", \"value\": 0.12}, {\"rok\": \"1906-01-01T00:00:00\", \"variable\": \"pod\\u00edl p\\u0159eklad\\u016f\", \"value\": 0.10985915492957747}, {\"rok\": \"1907-01-01T00:00:00\", \"variable\": \"pod\\u00edl p\\u0159eklad\\u016f\", \"value\": 0.12154696132596685}, {\"rok\": \"1908-01-01T00:00:00\", \"variable\": \"pod\\u00edl p\\u0159eklad\\u016f\", \"value\": 0.12098765432098765}, {\"rok\": \"1909-01-01T00:00:00\", \"variable\": \"pod\\u00edl p\\u0159eklad\\u016f\", \"value\": 0.12709832134292565}, {\"rok\": \"1910-01-01T00:00:00\", \"variable\": \"pod\\u00edl p\\u0159eklad\\u016f\", \"value\": 0.12030075187969924}, {\"rok\": \"1911-01-01T00:00:00\", \"variable\": \"pod\\u00edl p\\u0159eklad\\u016f\", \"value\": 0.13818181818181818}, {\"rok\": \"1912-01-01T00:00:00\", \"variable\": \"pod\\u00edl p\\u0159eklad\\u016f\", \"value\": 0.15572232645403378}, {\"rok\": \"1913-01-01T00:00:00\", \"variable\": \"pod\\u00edl p\\u0159eklad\\u016f\", \"value\": 0.14712153518123666}, {\"rok\": \"1914-01-01T00:00:00\", \"variable\": \"pod\\u00edl p\\u0159eklad\\u016f\", \"value\": 0.13043478260869565}, {\"rok\": \"1915-01-01T00:00:00\", \"variable\": \"pod\\u00edl p\\u0159eklad\\u016f\", \"value\": 0.14695340501792115}, {\"rok\": \"1916-01-01T00:00:00\", \"variable\": \"pod\\u00edl p\\u0159eklad\\u016f\", \"value\": 0.15824915824915825}, {\"rok\": \"1917-01-01T00:00:00\", \"variable\": \"pod\\u00edl p\\u0159eklad\\u016f\", \"value\": 0.15857605177993528}, {\"rok\": \"1918-01-01T00:00:00\", \"variable\": \"pod\\u00edl p\\u0159eklad\\u016f\", \"value\": 0.12852664576802508}, {\"rok\": \"1919-01-01T00:00:00\", \"variable\": \"pod\\u00edl p\\u0159eklad\\u016f\", \"value\": 0.1352253756260434}, {\"rok\": \"1920-01-01T00:00:00\", \"variable\": \"pod\\u00edl p\\u0159eklad\\u016f\", \"value\": 0.1278538812785388}, {\"rok\": \"1921-01-01T00:00:00\", \"variable\": \"pod\\u00edl p\\u0159eklad\\u016f\", \"value\": 0.14592933947772657}, {\"rok\": \"1922-01-01T00:00:00\", \"variable\": \"pod\\u00edl p\\u0159eklad\\u016f\", \"value\": 0.1150855365474339}, {\"rok\": \"1923-01-01T00:00:00\", \"variable\": \"pod\\u00edl p\\u0159eklad\\u016f\", \"value\": 0.1463768115942029}, {\"rok\": \"1924-01-01T00:00:00\", \"variable\": \"pod\\u00edl p\\u0159eklad\\u016f\", \"value\": 0.11424541607898449}, {\"rok\": \"1925-01-01T00:00:00\", \"variable\": \"pod\\u00edl p\\u0159eklad\\u016f\", \"value\": 0.11580086580086581}, {\"rok\": \"1926-01-01T00:00:00\", \"variable\": \"pod\\u00edl p\\u0159eklad\\u016f\", \"value\": 0.09068923821039904}, {\"rok\": \"1927-01-01T00:00:00\", \"variable\": \"pod\\u00edl p\\u0159eklad\\u016f\", \"value\": 0.09904534606205251}, {\"rok\": \"1928-01-01T00:00:00\", \"variable\": \"pod\\u00edl p\\u0159eklad\\u016f\", \"value\": 0.11630558722919042}, {\"rok\": \"1929-01-01T00:00:00\", \"variable\": \"pod\\u00edl p\\u0159eklad\\u016f\", \"value\": 0.12871287128712872}, {\"rok\": \"1930-01-01T00:00:00\", \"variable\": \"pod\\u00edl p\\u0159eklad\\u016f\", \"value\": 0.11491442542787286}, {\"rok\": \"1931-01-01T00:00:00\", \"variable\": \"pod\\u00edl p\\u0159eklad\\u016f\", \"value\": 0.1301460823373174}, {\"rok\": \"1932-01-01T00:00:00\", \"variable\": \"pod\\u00edl p\\u0159eklad\\u016f\", \"value\": 0.12837837837837837}, {\"rok\": \"1933-01-01T00:00:00\", \"variable\": \"pod\\u00edl p\\u0159eklad\\u016f\", \"value\": 0.14160839160839161}, {\"rok\": \"1934-01-01T00:00:00\", \"variable\": \"pod\\u00edl p\\u0159eklad\\u016f\", \"value\": 0.16036036036036036}, {\"rok\": \"1935-01-01T00:00:00\", \"variable\": \"pod\\u00edl p\\u0159eklad\\u016f\", \"value\": 0.16536964980544747}, {\"rok\": \"1936-01-01T00:00:00\", \"variable\": \"pod\\u00edl p\\u0159eklad\\u016f\", \"value\": 0.17952314165497896}, {\"rok\": \"1937-01-01T00:00:00\", \"variable\": \"pod\\u00edl p\\u0159eklad\\u016f\", \"value\": 0.17647058823529413}, {\"rok\": \"1938-01-01T00:00:00\", \"variable\": \"pod\\u00edl p\\u0159eklad\\u016f\", \"value\": 0.19891500904159132}, {\"rok\": \"1939-01-01T00:00:00\", \"variable\": \"pod\\u00edl p\\u0159eklad\\u016f\", \"value\": 0.23954372623574144}, {\"rok\": \"1940-01-01T00:00:00\", \"variable\": \"pod\\u00edl p\\u0159eklad\\u016f\", \"value\": 0.20839580209895053}, {\"rok\": \"1941-01-01T00:00:00\", \"variable\": \"pod\\u00edl p\\u0159eklad\\u016f\", \"value\": 0.23747680890538034}, {\"rok\": \"1942-01-01T00:00:00\", \"variable\": \"pod\\u00edl p\\u0159eklad\\u016f\", \"value\": 0.24885844748858446}, {\"rok\": \"1943-01-01T00:00:00\", \"variable\": \"pod\\u00edl p\\u0159eklad\\u016f\", \"value\": 0.23504273504273504}, {\"rok\": \"1944-01-01T00:00:00\", \"variable\": \"pod\\u00edl p\\u0159eklad\\u016f\", \"value\": 0.24745762711864408}, {\"rok\": \"1945-01-01T00:00:00\", \"variable\": \"pod\\u00edl p\\u0159eklad\\u016f\", \"value\": 0.2390745501285347}, {\"rok\": \"1946-01-01T00:00:00\", \"variable\": \"pod\\u00edl p\\u0159eklad\\u016f\", \"value\": 0.17152658662092624}, {\"rok\": \"1947-01-01T00:00:00\", \"variable\": \"pod\\u00edl p\\u0159eklad\\u016f\", \"value\": 0.16407355021216408}, {\"rok\": \"1948-01-01T00:00:00\", \"variable\": \"pod\\u00edl p\\u0159eklad\\u016f\", \"value\": 0.14207650273224043}, {\"rok\": \"1949-01-01T00:00:00\", \"variable\": \"pod\\u00edl p\\u0159eklad\\u016f\", \"value\": 0.12212389380530973}, {\"rok\": \"1950-01-01T00:00:00\", \"variable\": \"pod\\u00edl p\\u0159eklad\\u016f\", \"value\": 0.0887218045112782}, {\"rok\": \"1951-01-01T00:00:00\", \"variable\": \"pod\\u00edl p\\u0159eklad\\u016f\", \"value\": 0.058695652173913045}, {\"rok\": \"1952-01-01T00:00:00\", \"variable\": \"pod\\u00edl p\\u0159eklad\\u016f\", \"value\": 0.06753812636165578}, {\"rok\": \"1953-01-01T00:00:00\", \"variable\": \"pod\\u00edl p\\u0159eklad\\u016f\", \"value\": 0.0897571277719113}, {\"rok\": \"1954-01-01T00:00:00\", \"variable\": \"pod\\u00edl p\\u0159eklad\\u016f\", \"value\": 0.10363247863247864}, {\"rok\": \"1955-01-01T00:00:00\", \"variable\": \"pod\\u00edl p\\u0159eklad\\u016f\", \"value\": 0.1453287197231834}, {\"rok\": \"1956-01-01T00:00:00\", \"variable\": \"pod\\u00edl p\\u0159eklad\\u016f\", \"value\": 0.14767932489451477}, {\"rok\": \"1957-01-01T00:00:00\", \"variable\": \"pod\\u00edl p\\u0159eklad\\u016f\", \"value\": 0.16704545454545455}, {\"rok\": \"1958-01-01T00:00:00\", \"variable\": \"pod\\u00edl p\\u0159eklad\\u016f\", \"value\": 0.17547568710359407}, {\"rok\": \"1959-01-01T00:00:00\", \"variable\": \"pod\\u00edl p\\u0159eklad\\u016f\", \"value\": 0.18006103763987794}, {\"rok\": \"1960-01-01T00:00:00\", \"variable\": \"pod\\u00edl p\\u0159eklad\\u016f\", \"value\": 0.18388429752066116}, {\"rok\": \"1961-01-01T00:00:00\", \"variable\": \"pod\\u00edl p\\u0159eklad\\u016f\", \"value\": 0.20685959271168275}, {\"rok\": \"1962-01-01T00:00:00\", \"variable\": \"pod\\u00edl p\\u0159eklad\\u016f\", \"value\": 0.20515574650912996}, {\"rok\": \"1963-01-01T00:00:00\", \"variable\": \"pod\\u00edl p\\u0159eklad\\u016f\", \"value\": 0.21460176991150443}, {\"rok\": \"1964-01-01T00:00:00\", \"variable\": \"pod\\u00edl p\\u0159eklad\\u016f\", \"value\": 0.19021134593993325}, {\"rok\": \"1965-01-01T00:00:00\", \"variable\": \"pod\\u00edl p\\u0159eklad\\u016f\", \"value\": 0.2066115702479339}, {\"rok\": \"1966-01-01T00:00:00\", \"variable\": \"pod\\u00edl p\\u0159eklad\\u016f\", \"value\": 0.21871820956256358}, {\"rok\": \"1967-01-01T00:00:00\", \"variable\": \"pod\\u00edl p\\u0159eklad\\u016f\", \"value\": 0.22114451988360814}, {\"rok\": \"1968-01-01T00:00:00\", \"variable\": \"pod\\u00edl p\\u0159eklad\\u016f\", \"value\": 0.22156862745098038}, {\"rok\": \"1969-01-01T00:00:00\", \"variable\": \"pod\\u00edl p\\u0159eklad\\u016f\", \"value\": 0.1910352187833511}, {\"rok\": \"1970-01-01T00:00:00\", \"variable\": \"pod\\u00edl p\\u0159eklad\\u016f\", \"value\": 0.20155793573515093}, {\"rok\": \"1971-01-01T00:00:00\", \"variable\": \"pod\\u00edl p\\u0159eklad\\u016f\", \"value\": 0.20958083832335328}, {\"rok\": \"1972-01-01T00:00:00\", \"variable\": \"pod\\u00edl p\\u0159eklad\\u016f\", \"value\": 0.21671826625386997}, {\"rok\": \"1973-01-01T00:00:00\", \"variable\": \"pod\\u00edl p\\u0159eklad\\u016f\", \"value\": 0.23260247855100094}, {\"rok\": \"1974-01-01T00:00:00\", \"variable\": \"pod\\u00edl p\\u0159eklad\\u016f\", \"value\": 0.21631530705774518}, {\"rok\": \"1975-01-01T00:00:00\", \"variable\": \"pod\\u00edl p\\u0159eklad\\u016f\", \"value\": 0.21816562778272486}, {\"rok\": \"1976-01-01T00:00:00\", \"variable\": \"pod\\u00edl p\\u0159eklad\\u016f\", \"value\": 0.22774133083411435}, {\"rok\": \"1977-01-01T00:00:00\", \"variable\": \"pod\\u00edl p\\u0159eklad\\u016f\", \"value\": 0.22940655447298494}, {\"rok\": \"1978-01-01T00:00:00\", \"variable\": \"pod\\u00edl p\\u0159eklad\\u016f\", \"value\": 0.24550898203592814}, {\"rok\": \"1979-01-01T00:00:00\", \"variable\": \"pod\\u00edl p\\u0159eklad\\u016f\", \"value\": 0.2686230248306998}, {\"rok\": \"1980-01-01T00:00:00\", \"variable\": \"pod\\u00edl p\\u0159eklad\\u016f\", \"value\": 0.2668213457076566}, {\"rok\": \"1981-01-01T00:00:00\", \"variable\": \"pod\\u00edl p\\u0159eklad\\u016f\", \"value\": 0.2723609991941982}, {\"rok\": \"1982-01-01T00:00:00\", \"variable\": \"pod\\u00edl p\\u0159eklad\\u016f\", \"value\": 0.2454780361757106}, {\"rok\": \"1983-01-01T00:00:00\", \"variable\": \"pod\\u00edl p\\u0159eklad\\u016f\", \"value\": 0.19572953736654805}, {\"rok\": \"1984-01-01T00:00:00\", \"variable\": \"pod\\u00edl p\\u0159eklad\\u016f\", \"value\": 0.16447368421052633}, {\"rok\": \"1985-01-01T00:00:00\", \"variable\": \"pod\\u00edl p\\u0159eklad\\u016f\", \"value\": 0.2}, {\"rok\": \"1986-01-01T00:00:00\", \"variable\": \"pod\\u00edl p\\u0159eklad\\u016f\", \"value\": 0.19381787802840433}, {\"rok\": \"1987-01-01T00:00:00\", \"variable\": \"pod\\u00edl p\\u0159eklad\\u016f\", \"value\": 0.20097244732576985}, {\"rok\": \"1988-01-01T00:00:00\", \"variable\": \"pod\\u00edl p\\u0159eklad\\u016f\", \"value\": 0.1795316565481353}, {\"rok\": \"1989-01-01T00:00:00\", \"variable\": \"pod\\u00edl p\\u0159eklad\\u016f\", \"value\": 0.21375739644970415}, {\"rok\": \"1990-01-01T00:00:00\", \"variable\": \"pod\\u00edl p\\u0159eklad\\u016f\", \"value\": 0.1933028919330289}, {\"rok\": \"1991-01-01T00:00:00\", \"variable\": \"pod\\u00edl p\\u0159eklad\\u016f\", \"value\": 0.19251992642550583}, {\"rok\": \"1992-01-01T00:00:00\", \"variable\": \"pod\\u00edl p\\u0159eklad\\u016f\", \"value\": 0.19372037914691942}, {\"rok\": \"1993-01-01T00:00:00\", \"variable\": \"pod\\u00edl p\\u0159eklad\\u016f\", \"value\": 0.1891891891891892}, {\"rok\": \"1994-01-01T00:00:00\", \"variable\": \"pod\\u00edl p\\u0159eklad\\u016f\", \"value\": 0.1594896331738437}, {\"rok\": \"1995-01-01T00:00:00\", \"variable\": \"pod\\u00edl p\\u0159eklad\\u016f\", \"value\": 0.14989293361884368}, {\"rok\": \"1996-01-01T00:00:00\", \"variable\": \"pod\\u00edl p\\u0159eklad\\u016f\", \"value\": 0.14810627473148671}, {\"rok\": \"1997-01-01T00:00:00\", \"variable\": \"pod\\u00edl p\\u0159eklad\\u016f\", \"value\": 0.16374269005847952}, {\"rok\": \"1998-01-01T00:00:00\", \"variable\": \"pod\\u00edl p\\u0159eklad\\u016f\", \"value\": 0.16429170159262363}, {\"rok\": \"1999-01-01T00:00:00\", \"variable\": \"pod\\u00edl p\\u0159eklad\\u016f\", \"value\": 0.16820040899795502}, {\"rok\": \"2000-01-01T00:00:00\", \"variable\": \"pod\\u00edl p\\u0159eklad\\u016f\", \"value\": 0.17684594348222424}, {\"rok\": \"2001-01-01T00:00:00\", \"variable\": \"pod\\u00edl p\\u0159eklad\\u016f\", \"value\": 0.1882940108892922}, {\"rok\": \"2002-01-01T00:00:00\", \"variable\": \"pod\\u00edl p\\u0159eklad\\u016f\", \"value\": 0.18301971326164876}, {\"rok\": \"2003-01-01T00:00:00\", \"variable\": \"pod\\u00edl p\\u0159eklad\\u016f\", \"value\": 0.20234906243560685}, {\"rok\": \"2004-01-01T00:00:00\", \"variable\": \"pod\\u00edl p\\u0159eklad\\u016f\", \"value\": 0.1931129953279114}, {\"rok\": \"2005-01-01T00:00:00\", \"variable\": \"pod\\u00edl p\\u0159eklad\\u016f\", \"value\": 0.20708059064223447}, {\"rok\": \"2006-01-01T00:00:00\", \"variable\": \"pod\\u00edl p\\u0159eklad\\u016f\", \"value\": 0.20621931260229132}, {\"rok\": \"2007-01-01T00:00:00\", \"variable\": \"pod\\u00edl p\\u0159eklad\\u016f\", \"value\": 0.2052310654685494}, {\"rok\": \"2008-01-01T00:00:00\", \"variable\": \"pod\\u00edl p\\u0159eklad\\u016f\", \"value\": 0.20215869311551926}, {\"rok\": \"2009-01-01T00:00:00\", \"variable\": \"pod\\u00edl p\\u0159eklad\\u016f\", \"value\": 0.20309734513274336}, {\"rok\": \"2010-01-01T00:00:00\", \"variable\": \"pod\\u00edl p\\u0159eklad\\u016f\", \"value\": 0.19323454572668763}, {\"rok\": \"2011-01-01T00:00:00\", \"variable\": \"pod\\u00edl p\\u0159eklad\\u016f\", \"value\": 0.1737010513484687}, {\"rok\": \"2012-01-01T00:00:00\", \"variable\": \"pod\\u00edl p\\u0159eklad\\u016f\", \"value\": 0.16553323029366307}, {\"rok\": \"2013-01-01T00:00:00\", \"variable\": \"pod\\u00edl p\\u0159eklad\\u016f\", \"value\": 0.16294227188081936}, {\"rok\": \"2014-01-01T00:00:00\", \"variable\": \"pod\\u00edl p\\u0159eklad\\u016f\", \"value\": 0.16606948122760554}, {\"rok\": \"2015-01-01T00:00:00\", \"variable\": \"pod\\u00edl p\\u0159eklad\\u016f\", \"value\": 0.14711005542359462}, {\"rok\": \"2016-01-01T00:00:00\", \"variable\": \"pod\\u00edl p\\u0159eklad\\u016f\", \"value\": 0.14043463944682252}, {\"rok\": \"2017-01-01T00:00:00\", \"variable\": \"pod\\u00edl p\\u0159eklad\\u016f\", \"value\": 0.13804039392421966}, {\"rok\": \"2018-01-01T00:00:00\", \"variable\": \"pod\\u00edl p\\u0159eklad\\u016f\", \"value\": 0.13980075126571942}, {\"rok\": \"2019-01-01T00:00:00\", \"variable\": \"pod\\u00edl p\\u0159eklad\\u016f\", \"value\": 0.12628161312371838}, {\"rok\": \"2020-01-01T00:00:00\", \"variable\": \"pod\\u00edl p\\u0159eklad\\u016f\", \"value\": 0.11960326721120186}, {\"rok\": \"2021-01-01T00:00:00\", \"variable\": \"pod\\u00edl p\\u0159eklad\\u016f\", \"value\": 0.13166083236094905}, {\"rok\": \"2022-01-01T00:00:00\", \"variable\": \"pod\\u00edl p\\u0159eklad\\u016f\", \"value\": 0.1257249766136576}, {\"rok\": \"2023-01-01T00:00:00\", \"variable\": \"pod\\u00edl p\\u0159eklad\\u016f\", \"value\": 0.1237750319556881}]}}, {\"mode\": \"vega-lite\"});\n",
       "</script>"
      ],
      "text/plain": [
       "alt.Chart(...)"
      ]
     },
     "execution_count": 55,
     "metadata": {},
     "output_type": "execute_result"
    }
   ],
   "source": [
    "produkce_faceted = alt.Chart(do_grafu.to_pandas(), title={'text': titulek, 'subtitle': podtitulek}, width=300).mark_bar(size=2).encode(\n",
    "    alt.X(\"rok:T\", \n",
    "          title=None,\n",
    "          axis=alt.Axis(domainOpacity=0, tickColor='#DCDDD6')\n",
    "    ),\n",
    "    alt.Y('value:Q', \n",
    "          axis=alt.Axis(orient='right', domainOpacity=0, tickColor='#DCDDD6', format='s'), \n",
    "          title=None\n",
    "    ),\n",
    "    alt.Color(\"variable:N\", \n",
    "              scale=alt.Scale(range=['#8eba21', '#f77961']),\n",
    "              title=None, \n",
    "              legend=None\n",
    "    ),\n",
    "    row=alt.Row(\n",
    "        \"variable:N\", \n",
    "        sort=['všechny publikace', 'novinky nad 50 stran'],\n",
    "        title=None, \n",
    "        spacing=15,\n",
    "        header=alt.Header(labelAngle=0, labelAlign='left', labelAnchor='middle', labelFont='Asap')\n",
    "    )\n",
    ").resolve_axis(x=\"independent\").resolve_scale(y='independent').properties(height=90, width=300)\n",
    "\n",
    "produkce_faceted"
   ]
  },
  {
   "cell_type": "code",
   "execution_count": 20,
   "id": "b2d5942d-4d6c-440f-83d8-af0d4c182b7f",
   "metadata": {},
   "outputs": [],
   "source": [
    "def me_to_neurazi(zaklad_grafu, soubor, kredity):\n",
    "\n",
    "    os.makedirs(\"grafy\", exist_ok=True)\n",
    "    \n",
    "    credits = pl.DataFrame({'text': [kredity]})\n",
    "    credits = alt.Chart(credits.to_pandas(), width=300).encode(text=alt.Text('text:N')).mark_text(fontSize=10,font=\"Asap\", baseline='line-bottom')\n",
    "    combined_chart = alt.vconcat(zaklad_grafu, credits)\n",
    "\n",
    "    combined_chart.save(os.path.join(\"grafy\",f\"{soubor}.svg\"))\n",
    "    combined_chart.save(os.path.join(\"grafy\",f\"{soubor}.png\"), ppi=400)\n",
    "    \n",
    "    return combined_chart"
   ]
  },
  {
   "cell_type": "code",
   "execution_count": 21,
   "id": "07317a11-fb81-4696-9746-5fb288c75a3b",
   "metadata": {},
   "outputs": [
    {
     "name": "stderr",
     "output_type": "stream",
     "text": [
      "C:\\Users\\micha\\anaconda3\\Lib\\site-packages\\altair\\utils\\core.py:395: FutureWarning: the convert_dtype parameter is deprecated and will be removed in a future version.  Do ``ser.astype(object).apply()`` instead if you want ``convert_dtype=False``.\n",
      "  col = df[col_name].apply(to_list_if_array, convert_dtype=False)\n",
      "C:\\Users\\micha\\anaconda3\\Lib\\site-packages\\altair\\utils\\core.py:395: FutureWarning: the convert_dtype parameter is deprecated and will be removed in a future version.  Do ``ser.astype(object).apply()`` instead if you want ``convert_dtype=False``.\n",
      "  col = df[col_name].apply(to_list_if_array, convert_dtype=False)\n",
      "C:\\Users\\micha\\anaconda3\\Lib\\site-packages\\altair\\utils\\core.py:395: FutureWarning: the convert_dtype parameter is deprecated and will be removed in a future version.  Do ``ser.astype(object).apply()`` instead if you want ``convert_dtype=False``.\n",
      "  col = df[col_name].apply(to_list_if_array, convert_dtype=False)\n",
      "C:\\Users\\micha\\anaconda3\\Lib\\site-packages\\altair\\utils\\core.py:395: FutureWarning: the convert_dtype parameter is deprecated and will be removed in a future version.  Do ``ser.astype(object).apply()`` instead if you want ``convert_dtype=False``.\n",
      "  col = df[col_name].apply(to_list_if_array, convert_dtype=False)\n",
      "C:\\Users\\micha\\anaconda3\\Lib\\site-packages\\altair\\utils\\core.py:395: FutureWarning: the convert_dtype parameter is deprecated and will be removed in a future version.  Do ``ser.astype(object).apply()`` instead if you want ``convert_dtype=False``.\n",
      "  col = df[col_name].apply(to_list_if_array, convert_dtype=False)\n",
      "C:\\Users\\micha\\anaconda3\\Lib\\site-packages\\altair\\utils\\core.py:395: FutureWarning: the convert_dtype parameter is deprecated and will be removed in a future version.  Do ``ser.astype(object).apply()`` instead if you want ``convert_dtype=False``.\n",
      "  col = df[col_name].apply(to_list_if_array, convert_dtype=False)\n"
     ]
    },
    {
     "data": {
      "text/html": [
       "\n",
       "<style>\n",
       "  #altair-viz-a06564f44b1342979f936b322e6b3cbc.vega-embed {\n",
       "    width: 100%;\n",
       "    display: flex;\n",
       "  }\n",
       "\n",
       "  #altair-viz-a06564f44b1342979f936b322e6b3cbc.vega-embed details,\n",
       "  #altair-viz-a06564f44b1342979f936b322e6b3cbc.vega-embed details summary {\n",
       "    position: relative;\n",
       "  }\n",
       "</style>\n",
       "<div id=\"altair-viz-a06564f44b1342979f936b322e6b3cbc\"></div>\n",
       "<script type=\"text/javascript\">\n",
       "  var VEGA_DEBUG = (typeof VEGA_DEBUG == \"undefined\") ? {} : VEGA_DEBUG;\n",
       "  (function(spec, embedOpt){\n",
       "    let outputDiv = document.currentScript.previousElementSibling;\n",
       "    if (outputDiv.id !== \"altair-viz-a06564f44b1342979f936b322e6b3cbc\") {\n",
       "      outputDiv = document.getElementById(\"altair-viz-a06564f44b1342979f936b322e6b3cbc\");\n",
       "    }\n",
       "    const paths = {\n",
       "      \"vega\": \"https://cdn.jsdelivr.net/npm/vega@5?noext\",\n",
       "      \"vega-lib\": \"https://cdn.jsdelivr.net/npm/vega-lib?noext\",\n",
       "      \"vega-lite\": \"https://cdn.jsdelivr.net/npm/vega-lite@5.8.0?noext\",\n",
       "      \"vega-embed\": \"https://cdn.jsdelivr.net/npm/vega-embed@6?noext\",\n",
       "    };\n",
       "\n",
       "    function maybeLoadScript(lib, version) {\n",
       "      var key = `${lib.replace(\"-\", \"\")}_version`;\n",
       "      return (VEGA_DEBUG[key] == version) ?\n",
       "        Promise.resolve(paths[lib]) :\n",
       "        new Promise(function(resolve, reject) {\n",
       "          var s = document.createElement('script');\n",
       "          document.getElementsByTagName(\"head\")[0].appendChild(s);\n",
       "          s.async = true;\n",
       "          s.onload = () => {\n",
       "            VEGA_DEBUG[key] = version;\n",
       "            return resolve(paths[lib]);\n",
       "          };\n",
       "          s.onerror = () => reject(`Error loading script: ${paths[lib]}`);\n",
       "          s.src = paths[lib];\n",
       "        });\n",
       "    }\n",
       "\n",
       "    function showError(err) {\n",
       "      outputDiv.innerHTML = `<div class=\"error\" style=\"color:red;\">${err}</div>`;\n",
       "      throw err;\n",
       "    }\n",
       "\n",
       "    function displayChart(vegaEmbed) {\n",
       "      vegaEmbed(outputDiv, spec, embedOpt)\n",
       "        .catch(err => showError(`Javascript Error: ${err.message}<br>This usually means there's a typo in your chart specification. See the javascript console for the full traceback.`));\n",
       "    }\n",
       "\n",
       "    if(typeof define === \"function\" && define.amd) {\n",
       "      requirejs.config({paths});\n",
       "      require([\"vega-embed\"], displayChart, err => showError(`Error loading script: ${err.message}`));\n",
       "    } else {\n",
       "      maybeLoadScript(\"vega\", \"5\")\n",
       "        .then(() => maybeLoadScript(\"vega-lite\", \"5.8.0\"))\n",
       "        .then(() => maybeLoadScript(\"vega-embed\", \"6\"))\n",
       "        .catch(showError)\n",
       "        .then(() => displayChart(vegaEmbed));\n",
       "    }\n",
       "  })({\"config\": {\"title\": {\"font\": \"Noticia Text\", \"fontSize\": 14, \"anchor\": \"start\", \"fontWeight\": \"bolder\", \"subtitleFont\": \"Noticia Text\", \"subtitleLineHeight\": 18, \"subtitleFontSize\": 12, \"subtitleFontWeight\": \"normal\", \"subtitlePadding\": 10, \"dy\": -12}, \"axis\": {\"labelFont\": \"Asap\", \"titleFont\": \"Asap\", \"fontWeight\": \"lighter\", \"titleFontWeight\": \"lighter\", \"labelFontSize\": 10, \"titleFontSize\": 10, \"labelPadding\": 2, \"titlePadding\": 10}, \"legend\": {\"labelFont\": \"Asap\", \"labelFontWeight\": \"normal\", \"titleFont\": \"Asap\", \"titleFontWeight\": \"normal\", \"labelFontSize\": 10, \"titleFontSize\": 10}}, \"vconcat\": [{\"data\": {\"name\": \"data-cabf976f18bafa0209faa41073c5739d\"}, \"mark\": {\"type\": \"bar\"}, \"encoding\": {\"color\": {\"field\": \"variable\", \"legend\": null, \"scale\": {\"range\": [\"#8eba21\", \"#f77961\"]}, \"title\": null, \"type\": \"nominal\"}, \"row\": {\"field\": \"variable\", \"header\": {\"labelAlign\": \"left\", \"labelAnchor\": \"middle\", \"labelAngle\": 0, \"labelFont\": \"Asap\"}, \"sort\": [\"v\\u0161echny publikace\", \"novinky nad 50 stran\"], \"spacing\": 15, \"title\": null, \"type\": \"nominal\"}, \"x\": {\"axis\": {\"domainOpacity\": 0, \"tickColor\": \"#DCDDD6\"}, \"field\": \"rok\", \"title\": null, \"type\": \"temporal\"}, \"y\": {\"axis\": {\"domainOpacity\": 0, \"format\": \"~s\", \"orient\": \"left\", \"tickColor\": \"#DCDDD6\"}, \"field\": \"value\", \"title\": null, \"type\": \"quantitative\"}}, \"height\": 90, \"resolve\": {\"scale\": {\"y\": \"independent\"}}, \"title\": {\"text\": \"V\\u00fdvoj kni\\u017en\\u00ed produkce na \\u010desk\\u00e9m \\u00fazem\\u00ed\", \"subtitle\": [\"Celkov\\u00e9 po\\u010dty z\\u00e1znam\\u016f v \\u010cesk\\u00e9 n\\u00e1rodn\\u00ed bibliografii.\", \"Vedle klasick\\u00fdch knih m\\u016f\\u017ee j\\u00edt i o katalogy v\\u00fdstav apod.\"]}, \"width\": 300}, {\"data\": {\"name\": \"data-a3f8095f7e7dc7f5f7fef984c8960ef9\"}, \"mark\": {\"type\": \"text\", \"baseline\": \"line-bottom\", \"font\": \"Asap\", \"fontSize\": 10}, \"encoding\": {\"text\": {\"field\": \"text\", \"type\": \"nominal\"}}, \"width\": 300}], \"$schema\": \"https://vega.github.io/schema/vega-lite/v5.8.0.json\", \"datasets\": {\"data-cabf976f18bafa0209faa41073c5739d\": [{\"rok\": \"1901-01-01T00:00:00\", \"variable\": \"v\\u0161echny publikace\", \"value\": 1810.0}, {\"rok\": \"1902-01-01T00:00:00\", \"variable\": \"v\\u0161echny publikace\", \"value\": 2037.0}, {\"rok\": \"1903-01-01T00:00:00\", \"variable\": \"v\\u0161echny publikace\", \"value\": 1973.0}, {\"rok\": \"1904-01-01T00:00:00\", \"variable\": \"v\\u0161echny publikace\", \"value\": 1897.0}, {\"rok\": \"1905-01-01T00:00:00\", \"variable\": \"v\\u0161echny publikace\", \"value\": 1811.0}, {\"rok\": \"1906-01-01T00:00:00\", \"variable\": \"v\\u0161echny publikace\", \"value\": 2239.0}, {\"rok\": \"1907-01-01T00:00:00\", \"variable\": \"v\\u0161echny publikace\", \"value\": 2075.0}, {\"rok\": \"1908-01-01T00:00:00\", \"variable\": \"v\\u0161echny publikace\", \"value\": 2342.0}, {\"rok\": \"1909-01-01T00:00:00\", \"variable\": \"v\\u0161echny publikace\", \"value\": 2246.0}, {\"rok\": \"1910-01-01T00:00:00\", \"variable\": \"v\\u0161echny publikace\", \"value\": 2546.0}, {\"rok\": \"1911-01-01T00:00:00\", \"variable\": \"v\\u0161echny publikace\", \"value\": 2475.0}, {\"rok\": \"1912-01-01T00:00:00\", \"variable\": \"v\\u0161echny publikace\", \"value\": 2593.0}, {\"rok\": \"1913-01-01T00:00:00\", \"variable\": \"v\\u0161echny publikace\", \"value\": 2689.0}, {\"rok\": \"1914-01-01T00:00:00\", \"variable\": \"v\\u0161echny publikace\", \"value\": 2034.0}, {\"rok\": \"1915-01-01T00:00:00\", \"variable\": \"v\\u0161echny publikace\", \"value\": 1395.0}, {\"rok\": \"1916-01-01T00:00:00\", \"variable\": \"v\\u0161echny publikace\", \"value\": 1509.0}, {\"rok\": \"1917-01-01T00:00:00\", \"variable\": \"v\\u0161echny publikace\", \"value\": 1573.0}, {\"rok\": \"1918-01-01T00:00:00\", \"variable\": \"v\\u0161echny publikace\", \"value\": 1906.0}, {\"rok\": \"1919-01-01T00:00:00\", \"variable\": \"v\\u0161echny publikace\", \"value\": 3421.0}, {\"rok\": \"1920-01-01T00:00:00\", \"variable\": \"v\\u0161echny publikace\", \"value\": 4303.0}, {\"rok\": \"1921-01-01T00:00:00\", \"variable\": \"v\\u0161echny publikace\", \"value\": 3800.0}, {\"rok\": \"1922-01-01T00:00:00\", \"variable\": \"v\\u0161echny publikace\", \"value\": 4233.0}, {\"rok\": \"1923-01-01T00:00:00\", \"variable\": \"v\\u0161echny publikace\", \"value\": 4229.0}, {\"rok\": \"1924-01-01T00:00:00\", \"variable\": \"v\\u0161echny publikace\", \"value\": 4691.0}, {\"rok\": \"1925-01-01T00:00:00\", \"variable\": \"v\\u0161echny publikace\", \"value\": 5261.0}, {\"rok\": \"1926-01-01T00:00:00\", \"variable\": \"v\\u0161echny publikace\", \"value\": 4855.0}, {\"rok\": \"1927-01-01T00:00:00\", \"variable\": \"v\\u0161echny publikace\", \"value\": 4682.0}, {\"rok\": \"1928-01-01T00:00:00\", \"variable\": \"v\\u0161echny publikace\", \"value\": 4945.0}, {\"rok\": \"1929-01-01T00:00:00\", \"variable\": \"v\\u0161echny publikace\", \"value\": 4861.0}, {\"rok\": \"1930-01-01T00:00:00\", \"variable\": \"v\\u0161echny publikace\", \"value\": 5528.0}, {\"rok\": \"1931-01-01T00:00:00\", \"variable\": \"v\\u0161echny publikace\", \"value\": 4981.0}, {\"rok\": \"1932-01-01T00:00:00\", \"variable\": \"v\\u0161echny publikace\", \"value\": 4635.0}, {\"rok\": \"1933-01-01T00:00:00\", \"variable\": \"v\\u0161echny publikace\", \"value\": 4628.0}, {\"rok\": \"1934-01-01T00:00:00\", \"variable\": \"v\\u0161echny publikace\", \"value\": 4870.0}, {\"rok\": \"1935-01-01T00:00:00\", \"variable\": \"v\\u0161echny publikace\", \"value\": 5467.0}, {\"rok\": \"1936-01-01T00:00:00\", \"variable\": \"v\\u0161echny publikace\", \"value\": 6439.0}, {\"rok\": \"1937-01-01T00:00:00\", \"variable\": \"v\\u0161echny publikace\", \"value\": 6469.0}, {\"rok\": \"1938-01-01T00:00:00\", \"variable\": \"v\\u0161echny publikace\", \"value\": 5613.0}, {\"rok\": \"1939-01-01T00:00:00\", \"variable\": \"v\\u0161echny publikace\", \"value\": 4207.0}, {\"rok\": \"1940-01-01T00:00:00\", \"variable\": \"v\\u0161echny publikace\", \"value\": 5558.0}, {\"rok\": \"1941-01-01T00:00:00\", \"variable\": \"v\\u0161echny publikace\", \"value\": 5266.0}, {\"rok\": \"1942-01-01T00:00:00\", \"variable\": \"v\\u0161echny publikace\", \"value\": 2705.0}, {\"rok\": \"1943-01-01T00:00:00\", \"variable\": \"v\\u0161echny publikace\", \"value\": 2079.0}, {\"rok\": \"1944-01-01T00:00:00\", \"variable\": \"v\\u0161echny publikace\", \"value\": 2461.0}, {\"rok\": \"1945-01-01T00:00:00\", \"variable\": \"v\\u0161echny publikace\", \"value\": 3084.0}, {\"rok\": \"1946-01-01T00:00:00\", \"variable\": \"v\\u0161echny publikace\", \"value\": 6052.0}, {\"rok\": \"1947-01-01T00:00:00\", \"variable\": \"v\\u0161echny publikace\", \"value\": 6490.0}, {\"rok\": \"1948-01-01T00:00:00\", \"variable\": \"v\\u0161echny publikace\", \"value\": 5381.0}, {\"rok\": \"1949-01-01T00:00:00\", \"variable\": \"v\\u0161echny publikace\", \"value\": 3973.0}, {\"rok\": \"1950-01-01T00:00:00\", \"variable\": \"v\\u0161echny publikace\", \"value\": 4030.0}, {\"rok\": \"1951-01-01T00:00:00\", \"variable\": \"v\\u0161echny publikace\", \"value\": 4555.0}, {\"rok\": \"1952-01-01T00:00:00\", \"variable\": \"v\\u0161echny publikace\", \"value\": 4400.0}, {\"rok\": \"1953-01-01T00:00:00\", \"variable\": \"v\\u0161echny publikace\", \"value\": 5005.0}, {\"rok\": \"1954-01-01T00:00:00\", \"variable\": \"v\\u0161echny publikace\", \"value\": 5357.0}, {\"rok\": \"1955-01-01T00:00:00\", \"variable\": \"v\\u0161echny publikace\", \"value\": 4948.0}, {\"rok\": \"1956-01-01T00:00:00\", \"variable\": \"v\\u0161echny publikace\", \"value\": 4908.0}, {\"rok\": \"1957-01-01T00:00:00\", \"variable\": \"v\\u0161echny publikace\", \"value\": 4927.0}, {\"rok\": \"1958-01-01T00:00:00\", \"variable\": \"v\\u0161echny publikace\", \"value\": 5513.0}, {\"rok\": \"1959-01-01T00:00:00\", \"variable\": \"v\\u0161echny publikace\", \"value\": 6125.0}, {\"rok\": \"1960-01-01T00:00:00\", \"variable\": \"v\\u0161echny publikace\", \"value\": 5891.0}, {\"rok\": \"1961-01-01T00:00:00\", \"variable\": \"v\\u0161echny publikace\", \"value\": 6082.0}, {\"rok\": \"1962-01-01T00:00:00\", \"variable\": \"v\\u0161echny publikace\", \"value\": 5564.0}, {\"rok\": \"1963-01-01T00:00:00\", \"variable\": \"v\\u0161echny publikace\", \"value\": 5844.0}, {\"rok\": \"1964-01-01T00:00:00\", \"variable\": \"v\\u0161echny publikace\", \"value\": 5556.0}, {\"rok\": \"1965-01-01T00:00:00\", \"variable\": \"v\\u0161echny publikace\", \"value\": 5192.0}, {\"rok\": \"1966-01-01T00:00:00\", \"variable\": \"v\\u0161echny publikace\", \"value\": 5144.0}, {\"rok\": \"1967-01-01T00:00:00\", \"variable\": \"v\\u0161echny publikace\", \"value\": 5122.0}, {\"rok\": \"1968-01-01T00:00:00\", \"variable\": \"v\\u0161echny publikace\", \"value\": 4960.0}, {\"rok\": \"1969-01-01T00:00:00\", \"variable\": \"v\\u0161echny publikace\", \"value\": 4906.0}, {\"rok\": \"1970-01-01T00:00:00\", \"variable\": \"v\\u0161echny publikace\", \"value\": 5243.0}, {\"rok\": \"1971-01-01T00:00:00\", \"variable\": \"v\\u0161echny publikace\", \"value\": 5355.0}, {\"rok\": \"1972-01-01T00:00:00\", \"variable\": \"v\\u0161echny publikace\", \"value\": 5273.0}, {\"rok\": \"1973-01-01T00:00:00\", \"variable\": \"v\\u0161echny publikace\", \"value\": 5468.0}, {\"rok\": \"1974-01-01T00:00:00\", \"variable\": \"v\\u0161echny publikace\", \"value\": 5604.0}, {\"rok\": \"1975-01-01T00:00:00\", \"variable\": \"v\\u0161echny publikace\", \"value\": 5568.0}, {\"rok\": \"1976-01-01T00:00:00\", \"variable\": \"v\\u0161echny publikace\", \"value\": 5792.0}, {\"rok\": \"1977-01-01T00:00:00\", \"variable\": \"v\\u0161echny publikace\", \"value\": 5567.0}, {\"rok\": \"1978-01-01T00:00:00\", \"variable\": \"v\\u0161echny publikace\", \"value\": 5643.0}, {\"rok\": \"1979-01-01T00:00:00\", \"variable\": \"v\\u0161echny publikace\", \"value\": 5915.0}, {\"rok\": \"1980-01-01T00:00:00\", \"variable\": \"v\\u0161echny publikace\", \"value\": 6048.0}, {\"rok\": \"1981-01-01T00:00:00\", \"variable\": \"v\\u0161echny publikace\", \"value\": 6023.0}, {\"rok\": \"1982-01-01T00:00:00\", \"variable\": \"v\\u0161echny publikace\", \"value\": 6138.0}, {\"rok\": \"1983-01-01T00:00:00\", \"variable\": \"v\\u0161echny publikace\", \"value\": 6191.0}, {\"rok\": \"1984-01-01T00:00:00\", \"variable\": \"v\\u0161echny publikace\", \"value\": 6353.0}, {\"rok\": \"1985-01-01T00:00:00\", \"variable\": \"v\\u0161echny publikace\", \"value\": 6418.0}, {\"rok\": \"1986-01-01T00:00:00\", \"variable\": \"v\\u0161echny publikace\", \"value\": 6603.0}, {\"rok\": \"1987-01-01T00:00:00\", \"variable\": \"v\\u0161echny publikace\", \"value\": 6898.0}, {\"rok\": \"1988-01-01T00:00:00\", \"variable\": \"v\\u0161echny publikace\", \"value\": 6804.0}, {\"rok\": \"1989-01-01T00:00:00\", \"variable\": \"v\\u0161echny publikace\", \"value\": 7070.0}, {\"rok\": \"1990-01-01T00:00:00\", \"variable\": \"v\\u0161echny publikace\", \"value\": 6926.0}, {\"rok\": \"1991-01-01T00:00:00\", \"variable\": \"v\\u0161echny publikace\", \"value\": 7202.0}, {\"rok\": \"1992-01-01T00:00:00\", \"variable\": \"v\\u0161echny publikace\", \"value\": 8637.0}, {\"rok\": \"1993-01-01T00:00:00\", \"variable\": \"v\\u0161echny publikace\", \"value\": 8488.0}, {\"rok\": \"1994-01-01T00:00:00\", \"variable\": \"v\\u0161echny publikace\", \"value\": 8939.0}, {\"rok\": \"1995-01-01T00:00:00\", \"variable\": \"v\\u0161echny publikace\", \"value\": 9788.0}, {\"rok\": \"1996-01-01T00:00:00\", \"variable\": \"v\\u0161echny publikace\", \"value\": 10456.0}, {\"rok\": \"1997-01-01T00:00:00\", \"variable\": \"v\\u0161echny publikace\", \"value\": 10944.0}, {\"rok\": \"1998-01-01T00:00:00\", \"variable\": \"v\\u0161echny publikace\", \"value\": 11230.0}, {\"rok\": \"1999-01-01T00:00:00\", \"variable\": \"v\\u0161echny publikace\", \"value\": 11641.0}, {\"rok\": \"2000-01-01T00:00:00\", \"variable\": \"v\\u0161echny publikace\", \"value\": 12519.0}, {\"rok\": \"2001-01-01T00:00:00\", \"variable\": \"v\\u0161echny publikace\", \"value\": 12548.0}, {\"rok\": \"2002-01-01T00:00:00\", \"variable\": \"v\\u0161echny publikace\", \"value\": 12717.0}, {\"rok\": \"2003-01-01T00:00:00\", \"variable\": \"v\\u0161echny publikace\", \"value\": 13813.0}, {\"rok\": \"2004-01-01T00:00:00\", \"variable\": \"v\\u0161echny publikace\", \"value\": 13772.0}, {\"rok\": \"2005-01-01T00:00:00\", \"variable\": \"v\\u0161echny publikace\", \"value\": 14177.0}, {\"rok\": \"2006-01-01T00:00:00\", \"variable\": \"v\\u0161echny publikace\", \"value\": 15155.0}, {\"rok\": \"2007-01-01T00:00:00\", \"variable\": \"v\\u0161echny publikace\", \"value\": 16014.0}, {\"rok\": \"2008-01-01T00:00:00\", \"variable\": \"v\\u0161echny publikace\", \"value\": 16727.0}, {\"rok\": \"2009-01-01T00:00:00\", \"variable\": \"v\\u0161echny publikace\", \"value\": 15552.0}, {\"rok\": \"2010-01-01T00:00:00\", \"variable\": \"v\\u0161echny publikace\", \"value\": 15912.0}, {\"rok\": \"2011-01-01T00:00:00\", \"variable\": \"v\\u0161echny publikace\", \"value\": 15394.0}, {\"rok\": \"2012-01-01T00:00:00\", \"variable\": \"v\\u0161echny publikace\", \"value\": 15536.0}, {\"rok\": \"2013-01-01T00:00:00\", \"variable\": \"v\\u0161echny publikace\", \"value\": 15229.0}, {\"rok\": \"2014-01-01T00:00:00\", \"variable\": \"v\\u0161echny publikace\", \"value\": 15245.0}, {\"rok\": \"2015-01-01T00:00:00\", \"variable\": \"v\\u0161echny publikace\", \"value\": 14750.0}, {\"rok\": \"2016-01-01T00:00:00\", \"variable\": \"v\\u0161echny publikace\", \"value\": 13999.0}, {\"rok\": \"2017-01-01T00:00:00\", \"variable\": \"v\\u0161echny publikace\", \"value\": 13783.0}, {\"rok\": \"2018-01-01T00:00:00\", \"variable\": \"v\\u0161echny publikace\", \"value\": 14163.0}, {\"rok\": \"2019-01-01T00:00:00\", \"variable\": \"v\\u0161echny publikace\", \"value\": 13728.0}, {\"rok\": \"2020-01-01T00:00:00\", \"variable\": \"v\\u0161echny publikace\", \"value\": 12478.0}, {\"rok\": \"2021-01-01T00:00:00\", \"variable\": \"v\\u0161echny publikace\", \"value\": 12938.0}, {\"rok\": \"2022-01-01T00:00:00\", \"variable\": \"v\\u0161echny publikace\", \"value\": 13276.0}, {\"rok\": \"2023-01-01T00:00:00\", \"variable\": \"v\\u0161echny publikace\", \"value\": 11758.0}, {\"rok\": \"1901-01-01T00:00:00\", \"variable\": \"novinky nad 50 stran\", \"value\": 992.0}, {\"rok\": \"1902-01-01T00:00:00\", \"variable\": \"novinky nad 50 stran\", \"value\": 1129.0}, {\"rok\": \"1903-01-01T00:00:00\", \"variable\": \"novinky nad 50 stran\", \"value\": 1038.0}, {\"rok\": \"1904-01-01T00:00:00\", \"variable\": \"novinky nad 50 stran\", \"value\": 990.0}, {\"rok\": \"1905-01-01T00:00:00\", \"variable\": \"novinky nad 50 stran\", \"value\": 976.0}, {\"rok\": \"1906-01-01T00:00:00\", \"variable\": \"novinky nad 50 stran\", \"value\": 979.0}, {\"rok\": \"1907-01-01T00:00:00\", \"variable\": \"novinky nad 50 stran\", \"value\": 984.0}, {\"rok\": \"1908-01-01T00:00:00\", \"variable\": \"novinky nad 50 stran\", \"value\": 1176.0}, {\"rok\": \"1909-01-01T00:00:00\", \"variable\": \"novinky nad 50 stran\", \"value\": 1119.0}, {\"rok\": \"1910-01-01T00:00:00\", \"variable\": \"novinky nad 50 stran\", \"value\": 1358.0}, {\"rok\": \"1911-01-01T00:00:00\", \"variable\": \"novinky nad 50 stran\", \"value\": 1305.0}, {\"rok\": \"1912-01-01T00:00:00\", \"variable\": \"novinky nad 50 stran\", \"value\": 1325.0}, {\"rok\": \"1913-01-01T00:00:00\", \"variable\": \"novinky nad 50 stran\", \"value\": 1375.0}, {\"rok\": \"1914-01-01T00:00:00\", \"variable\": \"novinky nad 50 stran\", \"value\": 952.0}, {\"rok\": \"1915-01-01T00:00:00\", \"variable\": \"novinky nad 50 stran\", \"value\": 667.0}, {\"rok\": \"1916-01-01T00:00:00\", \"variable\": \"novinky nad 50 stran\", \"value\": 668.0}, {\"rok\": \"1917-01-01T00:00:00\", \"variable\": \"novinky nad 50 stran\", \"value\": 704.0}, {\"rok\": \"1918-01-01T00:00:00\", \"variable\": \"novinky nad 50 stran\", \"value\": 850.0}, {\"rok\": \"1919-01-01T00:00:00\", \"variable\": \"novinky nad 50 stran\", \"value\": 1340.0}, {\"rok\": \"1920-01-01T00:00:00\", \"variable\": \"novinky nad 50 stran\", \"value\": 1802.0}, {\"rok\": \"1921-01-01T00:00:00\", \"variable\": \"novinky nad 50 stran\", \"value\": 1577.0}, {\"rok\": \"1922-01-01T00:00:00\", \"variable\": \"novinky nad 50 stran\", \"value\": 1775.0}, {\"rok\": \"1923-01-01T00:00:00\", \"variable\": \"novinky nad 50 stran\", \"value\": 1845.0}, {\"rok\": \"1924-01-01T00:00:00\", \"variable\": \"novinky nad 50 stran\", \"value\": 2112.0}, {\"rok\": \"1925-01-01T00:00:00\", \"variable\": \"novinky nad 50 stran\", \"value\": 2475.0}, {\"rok\": \"1926-01-01T00:00:00\", \"variable\": \"novinky nad 50 stran\", \"value\": 2355.0}, {\"rok\": \"1927-01-01T00:00:00\", \"variable\": \"novinky nad 50 stran\", \"value\": 2348.0}, {\"rok\": \"1928-01-01T00:00:00\", \"variable\": \"novinky nad 50 stran\", \"value\": 2454.0}, {\"rok\": \"1929-01-01T00:00:00\", \"variable\": \"novinky nad 50 stran\", \"value\": 2350.0}, {\"rok\": \"1930-01-01T00:00:00\", \"variable\": \"novinky nad 50 stran\", \"value\": 2642.0}, {\"rok\": \"1931-01-01T00:00:00\", \"variable\": \"novinky nad 50 stran\", \"value\": 2368.0}, {\"rok\": \"1932-01-01T00:00:00\", \"variable\": \"novinky nad 50 stran\", \"value\": 2131.0}, {\"rok\": \"1933-01-01T00:00:00\", \"variable\": \"novinky nad 50 stran\", \"value\": 2086.0}, {\"rok\": \"1934-01-01T00:00:00\", \"variable\": \"novinky nad 50 stran\", \"value\": 2126.0}, {\"rok\": \"1935-01-01T00:00:00\", \"variable\": \"novinky nad 50 stran\", \"value\": 2309.0}, {\"rok\": \"1936-01-01T00:00:00\", \"variable\": \"novinky nad 50 stran\", \"value\": 2671.0}, {\"rok\": \"1937-01-01T00:00:00\", \"variable\": \"novinky nad 50 stran\", \"value\": 2665.0}, {\"rok\": \"1938-01-01T00:00:00\", \"variable\": \"novinky nad 50 stran\", \"value\": 2316.0}, {\"rok\": \"1939-01-01T00:00:00\", \"variable\": \"novinky nad 50 stran\", \"value\": 1777.0}, {\"rok\": \"1940-01-01T00:00:00\", \"variable\": \"novinky nad 50 stran\", \"value\": 2196.0}, {\"rok\": \"1941-01-01T00:00:00\", \"variable\": \"novinky nad 50 stran\", \"value\": 2089.0}, {\"rok\": \"1942-01-01T00:00:00\", \"variable\": \"novinky nad 50 stran\", \"value\": 1104.0}, {\"rok\": \"1943-01-01T00:00:00\", \"variable\": \"novinky nad 50 stran\", \"value\": 917.0}, {\"rok\": \"1944-01-01T00:00:00\", \"variable\": \"novinky nad 50 stran\", \"value\": 1069.0}, {\"rok\": \"1945-01-01T00:00:00\", \"variable\": \"novinky nad 50 stran\", \"value\": 1052.0}, {\"rok\": \"1946-01-01T00:00:00\", \"variable\": \"novinky nad 50 stran\", \"value\": 2690.0}, {\"rok\": \"1947-01-01T00:00:00\", \"variable\": \"novinky nad 50 stran\", \"value\": 3034.0}, {\"rok\": \"1948-01-01T00:00:00\", \"variable\": \"novinky nad 50 stran\", \"value\": 2632.0}, {\"rok\": \"1949-01-01T00:00:00\", \"variable\": \"novinky nad 50 stran\", \"value\": 1558.0}, {\"rok\": \"1950-01-01T00:00:00\", \"variable\": \"novinky nad 50 stran\", \"value\": 1847.0}, {\"rok\": \"1951-01-01T00:00:00\", \"variable\": \"novinky nad 50 stran\", \"value\": 2407.0}, {\"rok\": \"1952-01-01T00:00:00\", \"variable\": \"novinky nad 50 stran\", \"value\": 2305.0}, {\"rok\": \"1953-01-01T00:00:00\", \"variable\": \"novinky nad 50 stran\", \"value\": 2785.0}, {\"rok\": \"1954-01-01T00:00:00\", \"variable\": \"novinky nad 50 stran\", \"value\": 3059.0}, {\"rok\": \"1955-01-01T00:00:00\", \"variable\": \"novinky nad 50 stran\", \"value\": 2764.0}, {\"rok\": \"1956-01-01T00:00:00\", \"variable\": \"novinky nad 50 stran\", \"value\": 2796.0}, {\"rok\": \"1957-01-01T00:00:00\", \"variable\": \"novinky nad 50 stran\", \"value\": 2805.0}, {\"rok\": \"1958-01-01T00:00:00\", \"variable\": \"novinky nad 50 stran\", \"value\": 3105.0}, {\"rok\": \"1959-01-01T00:00:00\", \"variable\": \"novinky nad 50 stran\", \"value\": 3241.0}, {\"rok\": \"1960-01-01T00:00:00\", \"variable\": \"novinky nad 50 stran\", \"value\": 3164.0}, {\"rok\": \"1961-01-01T00:00:00\", \"variable\": \"novinky nad 50 stran\", \"value\": 3303.0}, {\"rok\": \"1962-01-01T00:00:00\", \"variable\": \"novinky nad 50 stran\", \"value\": 3202.0}, {\"rok\": \"1963-01-01T00:00:00\", \"variable\": \"novinky nad 50 stran\", \"value\": 3400.0}, {\"rok\": \"1964-01-01T00:00:00\", \"variable\": \"novinky nad 50 stran\", \"value\": 3344.0}, {\"rok\": \"1965-01-01T00:00:00\", \"variable\": \"novinky nad 50 stran\", \"value\": 3163.0}, {\"rok\": \"1966-01-01T00:00:00\", \"variable\": \"novinky nad 50 stran\", \"value\": 3249.0}, {\"rok\": \"1967-01-01T00:00:00\", \"variable\": \"novinky nad 50 stran\", \"value\": 3070.0}, {\"rok\": \"1968-01-01T00:00:00\", \"variable\": \"novinky nad 50 stran\", \"value\": 3064.0}, {\"rok\": \"1969-01-01T00:00:00\", \"variable\": \"novinky nad 50 stran\", \"value\": 2896.0}, {\"rok\": \"1970-01-01T00:00:00\", \"variable\": \"novinky nad 50 stran\", \"value\": 3059.0}, {\"rok\": \"1971-01-01T00:00:00\", \"variable\": \"novinky nad 50 stran\", \"value\": 3179.0}, {\"rok\": \"1972-01-01T00:00:00\", \"variable\": \"novinky nad 50 stran\", \"value\": 3195.0}, {\"rok\": \"1973-01-01T00:00:00\", \"variable\": \"novinky nad 50 stran\", \"value\": 3340.0}, {\"rok\": \"1974-01-01T00:00:00\", \"variable\": \"novinky nad 50 stran\", \"value\": 3452.0}, {\"rok\": \"1975-01-01T00:00:00\", \"variable\": \"novinky nad 50 stran\", \"value\": 3482.0}, {\"rok\": \"1976-01-01T00:00:00\", \"variable\": \"novinky nad 50 stran\", \"value\": 3493.0}, {\"rok\": \"1977-01-01T00:00:00\", \"variable\": \"novinky nad 50 stran\", \"value\": 3416.0}, {\"rok\": \"1978-01-01T00:00:00\", \"variable\": \"novinky nad 50 stran\", \"value\": 3545.0}, {\"rok\": \"1979-01-01T00:00:00\", \"variable\": \"novinky nad 50 stran\", \"value\": 3816.0}, {\"rok\": \"1980-01-01T00:00:00\", \"variable\": \"novinky nad 50 stran\", \"value\": 3964.0}, {\"rok\": \"1981-01-01T00:00:00\", \"variable\": \"novinky nad 50 stran\", \"value\": 3892.0}, {\"rok\": \"1982-01-01T00:00:00\", \"variable\": \"novinky nad 50 stran\", \"value\": 4159.0}, {\"rok\": \"1983-01-01T00:00:00\", \"variable\": \"novinky nad 50 stran\", \"value\": 4156.0}, {\"rok\": \"1984-01-01T00:00:00\", \"variable\": \"novinky nad 50 stran\", \"value\": 4253.0}, {\"rok\": \"1985-01-01T00:00:00\", \"variable\": \"novinky nad 50 stran\", \"value\": 4143.0}, {\"rok\": \"1986-01-01T00:00:00\", \"variable\": \"novinky nad 50 stran\", \"value\": 4328.0}, {\"rok\": \"1987-01-01T00:00:00\", \"variable\": \"novinky nad 50 stran\", \"value\": 4457.0}, {\"rok\": \"1988-01-01T00:00:00\", \"variable\": \"novinky nad 50 stran\", \"value\": 4370.0}, {\"rok\": \"1989-01-01T00:00:00\", \"variable\": \"novinky nad 50 stran\", \"value\": 4541.0}, {\"rok\": \"1990-01-01T00:00:00\", \"variable\": \"novinky nad 50 stran\", \"value\": 4307.0}, {\"rok\": \"1991-01-01T00:00:00\", \"variable\": \"novinky nad 50 stran\", \"value\": 4312.0}, {\"rok\": \"1992-01-01T00:00:00\", \"variable\": \"novinky nad 50 stran\", \"value\": 5863.0}, {\"rok\": \"1993-01-01T00:00:00\", \"variable\": \"novinky nad 50 stran\", \"value\": 6056.0}, {\"rok\": \"1994-01-01T00:00:00\", \"variable\": \"novinky nad 50 stran\", \"value\": 6538.0}, {\"rok\": \"1995-01-01T00:00:00\", \"variable\": \"novinky nad 50 stran\", \"value\": 7184.0}, {\"rok\": \"1996-01-01T00:00:00\", \"variable\": \"novinky nad 50 stran\", \"value\": 7609.0}, {\"rok\": \"1997-01-01T00:00:00\", \"variable\": \"novinky nad 50 stran\", \"value\": 7969.0}, {\"rok\": \"1998-01-01T00:00:00\", \"variable\": \"novinky nad 50 stran\", \"value\": 7910.0}, {\"rok\": \"1999-01-01T00:00:00\", \"variable\": \"novinky nad 50 stran\", \"value\": 7937.0}, {\"rok\": \"2000-01-01T00:00:00\", \"variable\": \"novinky nad 50 stran\", \"value\": 8454.0}, {\"rok\": \"2001-01-01T00:00:00\", \"variable\": \"novinky nad 50 stran\", \"value\": 8550.0}, {\"rok\": \"2002-01-01T00:00:00\", \"variable\": \"novinky nad 50 stran\", \"value\": 8565.0}, {\"rok\": \"2003-01-01T00:00:00\", \"variable\": \"novinky nad 50 stran\", \"value\": 9051.0}, {\"rok\": \"2004-01-01T00:00:00\", \"variable\": \"novinky nad 50 stran\", \"value\": 9602.0}, {\"rok\": \"2005-01-01T00:00:00\", \"variable\": \"novinky nad 50 stran\", \"value\": 9884.0}, {\"rok\": \"2006-01-01T00:00:00\", \"variable\": \"novinky nad 50 stran\", \"value\": 10384.0}, {\"rok\": \"2007-01-01T00:00:00\", \"variable\": \"novinky nad 50 stran\", \"value\": 10631.0}, {\"rok\": \"2008-01-01T00:00:00\", \"variable\": \"novinky nad 50 stran\", \"value\": 10855.0}, {\"rok\": \"2009-01-01T00:00:00\", \"variable\": \"novinky nad 50 stran\", \"value\": 10303.0}, {\"rok\": \"2010-01-01T00:00:00\", \"variable\": \"novinky nad 50 stran\", \"value\": 10529.0}, {\"rok\": \"2011-01-01T00:00:00\", \"variable\": \"novinky nad 50 stran\", \"value\": 10537.0}, {\"rok\": \"2012-01-01T00:00:00\", \"variable\": \"novinky nad 50 stran\", \"value\": 10121.0}, {\"rok\": \"2013-01-01T00:00:00\", \"variable\": \"novinky nad 50 stran\", \"value\": 10276.0}, {\"rok\": \"2014-01-01T00:00:00\", \"variable\": \"novinky nad 50 stran\", \"value\": 10327.0}, {\"rok\": \"2015-01-01T00:00:00\", \"variable\": \"novinky nad 50 stran\", \"value\": 10140.0}, {\"rok\": \"2016-01-01T00:00:00\", \"variable\": \"novinky nad 50 stran\", \"value\": 9481.0}, {\"rok\": \"2017-01-01T00:00:00\", \"variable\": \"novinky nad 50 stran\", \"value\": 9506.0}, {\"rok\": \"2018-01-01T00:00:00\", \"variable\": \"novinky nad 50 stran\", \"value\": 9804.0}, {\"rok\": \"2019-01-01T00:00:00\", \"variable\": \"novinky nad 50 stran\", \"value\": 9356.0}, {\"rok\": \"2020-01-01T00:00:00\", \"variable\": \"novinky nad 50 stran\", \"value\": 8691.0}, {\"rok\": \"2021-01-01T00:00:00\", \"variable\": \"novinky nad 50 stran\", \"value\": 8638.0}, {\"rok\": \"2022-01-01T00:00:00\", \"variable\": \"novinky nad 50 stran\", \"value\": 8530.0}, {\"rok\": \"2023-01-01T00:00:00\", \"variable\": \"novinky nad 50 stran\", \"value\": 7800.0}, {\"rok\": \"1901-01-01T00:00:00\", \"variable\": \"pod\\u00edl p\\u0159eklad\\u016f\", \"value\": 0.11003236245954692}, {\"rok\": \"1902-01-01T00:00:00\", \"variable\": \"pod\\u00edl p\\u0159eklad\\u016f\", \"value\": 0.1448087431693989}, {\"rok\": \"1903-01-01T00:00:00\", \"variable\": \"pod\\u00edl p\\u0159eklad\\u016f\", \"value\": 0.1527777777777778}, {\"rok\": \"1904-01-01T00:00:00\", \"variable\": \"pod\\u00edl p\\u0159eklad\\u016f\", \"value\": 0.1396011396011396}, {\"rok\": \"1905-01-01T00:00:00\", \"variable\": \"pod\\u00edl p\\u0159eklad\\u016f\", \"value\": 0.12}, {\"rok\": \"1906-01-01T00:00:00\", \"variable\": \"pod\\u00edl p\\u0159eklad\\u016f\", \"value\": 0.10985915492957747}, {\"rok\": \"1907-01-01T00:00:00\", \"variable\": \"pod\\u00edl p\\u0159eklad\\u016f\", \"value\": 0.12154696132596685}, {\"rok\": \"1908-01-01T00:00:00\", \"variable\": \"pod\\u00edl p\\u0159eklad\\u016f\", \"value\": 0.12098765432098765}, {\"rok\": \"1909-01-01T00:00:00\", \"variable\": \"pod\\u00edl p\\u0159eklad\\u016f\", \"value\": 0.12709832134292565}, {\"rok\": \"1910-01-01T00:00:00\", \"variable\": \"pod\\u00edl p\\u0159eklad\\u016f\", \"value\": 0.12030075187969924}, {\"rok\": \"1911-01-01T00:00:00\", \"variable\": \"pod\\u00edl p\\u0159eklad\\u016f\", \"value\": 0.13818181818181818}, {\"rok\": \"1912-01-01T00:00:00\", \"variable\": \"pod\\u00edl p\\u0159eklad\\u016f\", \"value\": 0.15572232645403378}, {\"rok\": \"1913-01-01T00:00:00\", \"variable\": \"pod\\u00edl p\\u0159eklad\\u016f\", \"value\": 0.14712153518123666}, {\"rok\": \"1914-01-01T00:00:00\", \"variable\": \"pod\\u00edl p\\u0159eklad\\u016f\", \"value\": 0.13043478260869565}, {\"rok\": \"1915-01-01T00:00:00\", \"variable\": \"pod\\u00edl p\\u0159eklad\\u016f\", \"value\": 0.14695340501792115}, {\"rok\": \"1916-01-01T00:00:00\", \"variable\": \"pod\\u00edl p\\u0159eklad\\u016f\", \"value\": 0.15824915824915825}, {\"rok\": \"1917-01-01T00:00:00\", \"variable\": \"pod\\u00edl p\\u0159eklad\\u016f\", \"value\": 0.15857605177993528}, {\"rok\": \"1918-01-01T00:00:00\", \"variable\": \"pod\\u00edl p\\u0159eklad\\u016f\", \"value\": 0.12852664576802508}, {\"rok\": \"1919-01-01T00:00:00\", \"variable\": \"pod\\u00edl p\\u0159eklad\\u016f\", \"value\": 0.1352253756260434}, {\"rok\": \"1920-01-01T00:00:00\", \"variable\": \"pod\\u00edl p\\u0159eklad\\u016f\", \"value\": 0.1278538812785388}, {\"rok\": \"1921-01-01T00:00:00\", \"variable\": \"pod\\u00edl p\\u0159eklad\\u016f\", \"value\": 0.14592933947772657}, {\"rok\": \"1922-01-01T00:00:00\", \"variable\": \"pod\\u00edl p\\u0159eklad\\u016f\", \"value\": 0.1150855365474339}, {\"rok\": \"1923-01-01T00:00:00\", \"variable\": \"pod\\u00edl p\\u0159eklad\\u016f\", \"value\": 0.1463768115942029}, {\"rok\": \"1924-01-01T00:00:00\", \"variable\": \"pod\\u00edl p\\u0159eklad\\u016f\", \"value\": 0.11424541607898449}, {\"rok\": \"1925-01-01T00:00:00\", \"variable\": \"pod\\u00edl p\\u0159eklad\\u016f\", \"value\": 0.11580086580086581}, {\"rok\": \"1926-01-01T00:00:00\", \"variable\": \"pod\\u00edl p\\u0159eklad\\u016f\", \"value\": 0.09068923821039904}, {\"rok\": \"1927-01-01T00:00:00\", \"variable\": \"pod\\u00edl p\\u0159eklad\\u016f\", \"value\": 0.09904534606205251}, {\"rok\": \"1928-01-01T00:00:00\", \"variable\": \"pod\\u00edl p\\u0159eklad\\u016f\", \"value\": 0.11630558722919042}, {\"rok\": \"1929-01-01T00:00:00\", \"variable\": \"pod\\u00edl p\\u0159eklad\\u016f\", \"value\": 0.12871287128712872}, {\"rok\": \"1930-01-01T00:00:00\", \"variable\": \"pod\\u00edl p\\u0159eklad\\u016f\", \"value\": 0.11491442542787286}, {\"rok\": \"1931-01-01T00:00:00\", \"variable\": \"pod\\u00edl p\\u0159eklad\\u016f\", \"value\": 0.1301460823373174}, {\"rok\": \"1932-01-01T00:00:00\", \"variable\": \"pod\\u00edl p\\u0159eklad\\u016f\", \"value\": 0.12837837837837837}, {\"rok\": \"1933-01-01T00:00:00\", \"variable\": \"pod\\u00edl p\\u0159eklad\\u016f\", \"value\": 0.14160839160839161}, {\"rok\": \"1934-01-01T00:00:00\", \"variable\": \"pod\\u00edl p\\u0159eklad\\u016f\", \"value\": 0.16036036036036036}, {\"rok\": \"1935-01-01T00:00:00\", \"variable\": \"pod\\u00edl p\\u0159eklad\\u016f\", \"value\": 0.16536964980544747}, {\"rok\": \"1936-01-01T00:00:00\", \"variable\": \"pod\\u00edl p\\u0159eklad\\u016f\", \"value\": 0.17952314165497896}, {\"rok\": \"1937-01-01T00:00:00\", \"variable\": \"pod\\u00edl p\\u0159eklad\\u016f\", \"value\": 0.17647058823529413}, {\"rok\": \"1938-01-01T00:00:00\", \"variable\": \"pod\\u00edl p\\u0159eklad\\u016f\", \"value\": 0.19891500904159132}, {\"rok\": \"1939-01-01T00:00:00\", \"variable\": \"pod\\u00edl p\\u0159eklad\\u016f\", \"value\": 0.23954372623574144}, {\"rok\": \"1940-01-01T00:00:00\", \"variable\": \"pod\\u00edl p\\u0159eklad\\u016f\", \"value\": 0.20839580209895053}, {\"rok\": \"1941-01-01T00:00:00\", \"variable\": \"pod\\u00edl p\\u0159eklad\\u016f\", \"value\": 0.23747680890538034}, {\"rok\": \"1942-01-01T00:00:00\", \"variable\": \"pod\\u00edl p\\u0159eklad\\u016f\", \"value\": 0.24885844748858446}, {\"rok\": \"1943-01-01T00:00:00\", \"variable\": \"pod\\u00edl p\\u0159eklad\\u016f\", \"value\": 0.23504273504273504}, {\"rok\": \"1944-01-01T00:00:00\", \"variable\": \"pod\\u00edl p\\u0159eklad\\u016f\", \"value\": 0.24745762711864408}, {\"rok\": \"1945-01-01T00:00:00\", \"variable\": \"pod\\u00edl p\\u0159eklad\\u016f\", \"value\": 0.2390745501285347}, {\"rok\": \"1946-01-01T00:00:00\", \"variable\": \"pod\\u00edl p\\u0159eklad\\u016f\", \"value\": 0.17152658662092624}, {\"rok\": \"1947-01-01T00:00:00\", \"variable\": \"pod\\u00edl p\\u0159eklad\\u016f\", \"value\": 0.16407355021216408}, {\"rok\": \"1948-01-01T00:00:00\", \"variable\": \"pod\\u00edl p\\u0159eklad\\u016f\", \"value\": 0.14207650273224043}, {\"rok\": \"1949-01-01T00:00:00\", \"variable\": \"pod\\u00edl p\\u0159eklad\\u016f\", \"value\": 0.12212389380530973}, {\"rok\": \"1950-01-01T00:00:00\", \"variable\": \"pod\\u00edl p\\u0159eklad\\u016f\", \"value\": 0.0887218045112782}, {\"rok\": \"1951-01-01T00:00:00\", \"variable\": \"pod\\u00edl p\\u0159eklad\\u016f\", \"value\": 0.058695652173913045}, {\"rok\": \"1952-01-01T00:00:00\", \"variable\": \"pod\\u00edl p\\u0159eklad\\u016f\", \"value\": 0.06753812636165578}, {\"rok\": \"1953-01-01T00:00:00\", \"variable\": \"pod\\u00edl p\\u0159eklad\\u016f\", \"value\": 0.0897571277719113}, {\"rok\": \"1954-01-01T00:00:00\", \"variable\": \"pod\\u00edl p\\u0159eklad\\u016f\", \"value\": 0.10363247863247864}, {\"rok\": \"1955-01-01T00:00:00\", \"variable\": \"pod\\u00edl p\\u0159eklad\\u016f\", \"value\": 0.1453287197231834}, {\"rok\": \"1956-01-01T00:00:00\", \"variable\": \"pod\\u00edl p\\u0159eklad\\u016f\", \"value\": 0.14767932489451477}, {\"rok\": \"1957-01-01T00:00:00\", \"variable\": \"pod\\u00edl p\\u0159eklad\\u016f\", \"value\": 0.16704545454545455}, {\"rok\": \"1958-01-01T00:00:00\", \"variable\": \"pod\\u00edl p\\u0159eklad\\u016f\", \"value\": 0.17547568710359407}, {\"rok\": \"1959-01-01T00:00:00\", \"variable\": \"pod\\u00edl p\\u0159eklad\\u016f\", \"value\": 0.18006103763987794}, {\"rok\": \"1960-01-01T00:00:00\", \"variable\": \"pod\\u00edl p\\u0159eklad\\u016f\", \"value\": 0.18388429752066116}, {\"rok\": \"1961-01-01T00:00:00\", \"variable\": \"pod\\u00edl p\\u0159eklad\\u016f\", \"value\": 0.20685959271168275}, {\"rok\": \"1962-01-01T00:00:00\", \"variable\": \"pod\\u00edl p\\u0159eklad\\u016f\", \"value\": 0.20515574650912996}, {\"rok\": \"1963-01-01T00:00:00\", \"variable\": \"pod\\u00edl p\\u0159eklad\\u016f\", \"value\": 0.21460176991150443}, {\"rok\": \"1964-01-01T00:00:00\", \"variable\": \"pod\\u00edl p\\u0159eklad\\u016f\", \"value\": 0.19021134593993325}, {\"rok\": \"1965-01-01T00:00:00\", \"variable\": \"pod\\u00edl p\\u0159eklad\\u016f\", \"value\": 0.2066115702479339}, {\"rok\": \"1966-01-01T00:00:00\", \"variable\": \"pod\\u00edl p\\u0159eklad\\u016f\", \"value\": 0.21871820956256358}, {\"rok\": \"1967-01-01T00:00:00\", \"variable\": \"pod\\u00edl p\\u0159eklad\\u016f\", \"value\": 0.22114451988360814}, {\"rok\": \"1968-01-01T00:00:00\", \"variable\": \"pod\\u00edl p\\u0159eklad\\u016f\", \"value\": 0.22156862745098038}, {\"rok\": \"1969-01-01T00:00:00\", \"variable\": \"pod\\u00edl p\\u0159eklad\\u016f\", \"value\": 0.1910352187833511}, {\"rok\": \"1970-01-01T00:00:00\", \"variable\": \"pod\\u00edl p\\u0159eklad\\u016f\", \"value\": 0.20155793573515093}, {\"rok\": \"1971-01-01T00:00:00\", \"variable\": \"pod\\u00edl p\\u0159eklad\\u016f\", \"value\": 0.20958083832335328}, {\"rok\": \"1972-01-01T00:00:00\", \"variable\": \"pod\\u00edl p\\u0159eklad\\u016f\", \"value\": 0.21671826625386997}, {\"rok\": \"1973-01-01T00:00:00\", \"variable\": \"pod\\u00edl p\\u0159eklad\\u016f\", \"value\": 0.23260247855100094}, {\"rok\": \"1974-01-01T00:00:00\", \"variable\": \"pod\\u00edl p\\u0159eklad\\u016f\", \"value\": 0.21631530705774518}, {\"rok\": \"1975-01-01T00:00:00\", \"variable\": \"pod\\u00edl p\\u0159eklad\\u016f\", \"value\": 0.21816562778272486}, {\"rok\": \"1976-01-01T00:00:00\", \"variable\": \"pod\\u00edl p\\u0159eklad\\u016f\", \"value\": 0.22774133083411435}, {\"rok\": \"1977-01-01T00:00:00\", \"variable\": \"pod\\u00edl p\\u0159eklad\\u016f\", \"value\": 0.22940655447298494}, {\"rok\": \"1978-01-01T00:00:00\", \"variable\": \"pod\\u00edl p\\u0159eklad\\u016f\", \"value\": 0.24550898203592814}, {\"rok\": \"1979-01-01T00:00:00\", \"variable\": \"pod\\u00edl p\\u0159eklad\\u016f\", \"value\": 0.2686230248306998}, {\"rok\": \"1980-01-01T00:00:00\", \"variable\": \"pod\\u00edl p\\u0159eklad\\u016f\", \"value\": 0.2668213457076566}, {\"rok\": \"1981-01-01T00:00:00\", \"variable\": \"pod\\u00edl p\\u0159eklad\\u016f\", \"value\": 0.2723609991941982}, {\"rok\": \"1982-01-01T00:00:00\", \"variable\": \"pod\\u00edl p\\u0159eklad\\u016f\", \"value\": 0.2454780361757106}, {\"rok\": \"1983-01-01T00:00:00\", \"variable\": \"pod\\u00edl p\\u0159eklad\\u016f\", \"value\": 0.19572953736654805}, {\"rok\": \"1984-01-01T00:00:00\", \"variable\": \"pod\\u00edl p\\u0159eklad\\u016f\", \"value\": 0.16447368421052633}, {\"rok\": \"1985-01-01T00:00:00\", \"variable\": \"pod\\u00edl p\\u0159eklad\\u016f\", \"value\": 0.2}, {\"rok\": \"1986-01-01T00:00:00\", \"variable\": \"pod\\u00edl p\\u0159eklad\\u016f\", \"value\": 0.19381787802840433}, {\"rok\": \"1987-01-01T00:00:00\", \"variable\": \"pod\\u00edl p\\u0159eklad\\u016f\", \"value\": 0.20097244732576985}, {\"rok\": \"1988-01-01T00:00:00\", \"variable\": \"pod\\u00edl p\\u0159eklad\\u016f\", \"value\": 0.1795316565481353}, {\"rok\": \"1989-01-01T00:00:00\", \"variable\": \"pod\\u00edl p\\u0159eklad\\u016f\", \"value\": 0.21375739644970415}, {\"rok\": \"1990-01-01T00:00:00\", \"variable\": \"pod\\u00edl p\\u0159eklad\\u016f\", \"value\": 0.1933028919330289}, {\"rok\": \"1991-01-01T00:00:00\", \"variable\": \"pod\\u00edl p\\u0159eklad\\u016f\", \"value\": 0.19251992642550583}, {\"rok\": \"1992-01-01T00:00:00\", \"variable\": \"pod\\u00edl p\\u0159eklad\\u016f\", \"value\": 0.19372037914691942}, {\"rok\": \"1993-01-01T00:00:00\", \"variable\": \"pod\\u00edl p\\u0159eklad\\u016f\", \"value\": 0.1891891891891892}, {\"rok\": \"1994-01-01T00:00:00\", \"variable\": \"pod\\u00edl p\\u0159eklad\\u016f\", \"value\": 0.1594896331738437}, {\"rok\": \"1995-01-01T00:00:00\", \"variable\": \"pod\\u00edl p\\u0159eklad\\u016f\", \"value\": 0.14989293361884368}, {\"rok\": \"1996-01-01T00:00:00\", \"variable\": \"pod\\u00edl p\\u0159eklad\\u016f\", \"value\": 0.14810627473148671}, {\"rok\": \"1997-01-01T00:00:00\", \"variable\": \"pod\\u00edl p\\u0159eklad\\u016f\", \"value\": 0.16374269005847952}, {\"rok\": \"1998-01-01T00:00:00\", \"variable\": \"pod\\u00edl p\\u0159eklad\\u016f\", \"value\": 0.16429170159262363}, {\"rok\": \"1999-01-01T00:00:00\", \"variable\": \"pod\\u00edl p\\u0159eklad\\u016f\", \"value\": 0.16820040899795502}, {\"rok\": \"2000-01-01T00:00:00\", \"variable\": \"pod\\u00edl p\\u0159eklad\\u016f\", \"value\": 0.17684594348222424}, {\"rok\": \"2001-01-01T00:00:00\", \"variable\": \"pod\\u00edl p\\u0159eklad\\u016f\", \"value\": 0.1882940108892922}, {\"rok\": \"2002-01-01T00:00:00\", \"variable\": \"pod\\u00edl p\\u0159eklad\\u016f\", \"value\": 0.18301971326164876}, {\"rok\": \"2003-01-01T00:00:00\", \"variable\": \"pod\\u00edl p\\u0159eklad\\u016f\", \"value\": 0.20234906243560685}, {\"rok\": \"2004-01-01T00:00:00\", \"variable\": \"pod\\u00edl p\\u0159eklad\\u016f\", \"value\": 0.1931129953279114}, {\"rok\": \"2005-01-01T00:00:00\", \"variable\": \"pod\\u00edl p\\u0159eklad\\u016f\", \"value\": 0.20708059064223447}, {\"rok\": \"2006-01-01T00:00:00\", \"variable\": \"pod\\u00edl p\\u0159eklad\\u016f\", \"value\": 0.20621931260229132}, {\"rok\": \"2007-01-01T00:00:00\", \"variable\": \"pod\\u00edl p\\u0159eklad\\u016f\", \"value\": 0.2052310654685494}, {\"rok\": \"2008-01-01T00:00:00\", \"variable\": \"pod\\u00edl p\\u0159eklad\\u016f\", \"value\": 0.20215869311551926}, {\"rok\": \"2009-01-01T00:00:00\", \"variable\": \"pod\\u00edl p\\u0159eklad\\u016f\", \"value\": 0.20309734513274336}, {\"rok\": \"2010-01-01T00:00:00\", \"variable\": \"pod\\u00edl p\\u0159eklad\\u016f\", \"value\": 0.19323454572668763}, {\"rok\": \"2011-01-01T00:00:00\", \"variable\": \"pod\\u00edl p\\u0159eklad\\u016f\", \"value\": 0.1737010513484687}, {\"rok\": \"2012-01-01T00:00:00\", \"variable\": \"pod\\u00edl p\\u0159eklad\\u016f\", \"value\": 0.16553323029366307}, {\"rok\": \"2013-01-01T00:00:00\", \"variable\": \"pod\\u00edl p\\u0159eklad\\u016f\", \"value\": 0.16294227188081936}, {\"rok\": \"2014-01-01T00:00:00\", \"variable\": \"pod\\u00edl p\\u0159eklad\\u016f\", \"value\": 0.16606948122760554}, {\"rok\": \"2015-01-01T00:00:00\", \"variable\": \"pod\\u00edl p\\u0159eklad\\u016f\", \"value\": 0.14711005542359462}, {\"rok\": \"2016-01-01T00:00:00\", \"variable\": \"pod\\u00edl p\\u0159eklad\\u016f\", \"value\": 0.14043463944682252}, {\"rok\": \"2017-01-01T00:00:00\", \"variable\": \"pod\\u00edl p\\u0159eklad\\u016f\", \"value\": 0.13804039392421966}, {\"rok\": \"2018-01-01T00:00:00\", \"variable\": \"pod\\u00edl p\\u0159eklad\\u016f\", \"value\": 0.13980075126571942}, {\"rok\": \"2019-01-01T00:00:00\", \"variable\": \"pod\\u00edl p\\u0159eklad\\u016f\", \"value\": 0.12628161312371838}, {\"rok\": \"2020-01-01T00:00:00\", \"variable\": \"pod\\u00edl p\\u0159eklad\\u016f\", \"value\": 0.11960326721120186}, {\"rok\": \"2021-01-01T00:00:00\", \"variable\": \"pod\\u00edl p\\u0159eklad\\u016f\", \"value\": 0.13166083236094905}, {\"rok\": \"2022-01-01T00:00:00\", \"variable\": \"pod\\u00edl p\\u0159eklad\\u016f\", \"value\": 0.1257249766136576}, {\"rok\": \"2023-01-01T00:00:00\", \"variable\": \"pod\\u00edl p\\u0159eklad\\u016f\", \"value\": 0.1237750319556881}], \"data-a3f8095f7e7dc7f5f7fef984c8960ef9\": [{\"text\": \"zdroj dat: \\u010cesk\\u00e1 n\\u00e1rodn\\u00ed bibliografie \\u00b7 vizualizace: iROZHLAS.cz \\u00b7 2025\"}]}}, {\"mode\": \"vega-lite\"});\n",
       "</script>"
      ],
      "text/plain": [
       "alt.VConcatChart(...)"
      ]
     },
     "execution_count": 21,
     "metadata": {},
     "output_type": "execute_result"
    }
   ],
   "source": [
    "me_to_neurazi(produkce_faceted, 'produkce', \"zdroj dat: Česká národní bibliografie · vizualizace: iROZHLAS.cz · 2025\")"
   ]
  }
 ],
 "metadata": {
  "kernelspec": {
   "display_name": "Python 3 (ipykernel)",
   "language": "python",
   "name": "python3"
  },
  "language_info": {
   "codemirror_mode": {
    "name": "ipython",
    "version": 3
   },
   "file_extension": ".py",
   "mimetype": "text/x-python",
   "name": "python",
   "nbconvert_exporter": "python",
   "pygments_lexer": "ipython3",
   "version": "3.12.3"
  }
 },
 "nbformat": 4,
 "nbformat_minor": 5
}
