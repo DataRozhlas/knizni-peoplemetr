{
 "cells": [
  {
   "cell_type": "code",
   "execution_count": 1,
   "id": "f2e779a1-31ae-4ace-aaf1-110d8fd32679",
   "metadata": {},
   "outputs": [
    {
     "data": {
      "text/plain": [
       "DataTransformerRegistry.enable('default')"
      ]
     },
     "execution_count": 1,
     "metadata": {},
     "output_type": "execute_result"
    }
   ],
   "source": [
    "import re\n",
    "import os\n",
    "import json\n",
    "import statistics\n",
    "import datetime\n",
    "import warnings\n",
    "from src.najdi_rok import najdi_rok\n",
    "import polars as pl\n",
    "import altair as alt\n",
    "alt.data_transformers.disable_max_rows()"
   ]
  },
  {
   "cell_type": "code",
   "execution_count": 3,
   "id": "43054e96-2d00-4162-aa5f-24aee07fee04",
   "metadata": {},
   "outputs": [],
   "source": [
    "df = pl.read_parquet(os.path.join(\"data\",\"cnb_vyber.parquet\"))\n",
    "df = df.with_columns(pl.col('008').map_elements(najdi_rok, return_dtype=int).alias('rok'))"
   ]
  },
  {
   "cell_type": "code",
   "execution_count": 55,
   "id": "fcbe3f44-602d-4479-907a-16ee5177dcb7",
   "metadata": {},
   "outputs": [],
   "source": [
    "rocni_pocty = df.filter(pl.col('rok').is_between(1901, 2023)).group_by('rok').len().sort('rok').rename({'len':'knih'}).with_columns(pl.col(\"rok\").map_elements(lambda x: datetime.date(year=int(x), month=1, day=1), return_dtype=pl.Date).cast(pl.Datetime))"
   ]
  },
  {
   "cell_type": "code",
   "execution_count": 35,
   "id": "6e4d13f3-49e5-4539-bf79-be72e570c778",
   "metadata": {},
   "outputs": [
    {
     "data": {
      "text/html": [
       "<div><style>\n",
       ".dataframe > thead > tr,\n",
       ".dataframe > tbody > tr {\n",
       "  text-align: right;\n",
       "  white-space: pre-wrap;\n",
       "}\n",
       "</style>\n",
       "<small>shape: (126, 2)</small><table border=\"1\" class=\"dataframe\"><thead><tr><th>rok</th><th>knih</th></tr><tr><td>datetime[μs]</td><td>u32</td></tr></thead><tbody><tr><td>1900-01-01 00:00:00</td><td>1355</td></tr><tr><td>1901-01-01 00:00:00</td><td>1807</td></tr><tr><td>1902-01-01 00:00:00</td><td>2038</td></tr><tr><td>1903-01-01 00:00:00</td><td>1973</td></tr><tr><td>1904-01-01 00:00:00</td><td>1896</td></tr><tr><td>&hellip;</td><td>&hellip;</td></tr><tr><td>2021-01-01 00:00:00</td><td>12935</td></tr><tr><td>2022-01-01 00:00:00</td><td>13273</td></tr><tr><td>2023-01-01 00:00:00</td><td>11749</td></tr><tr><td>2024-01-01 00:00:00</td><td>9244</td></tr><tr><td>2025-01-01 00:00:00</td><td>9</td></tr></tbody></table></div>"
      ],
      "text/plain": [
       "shape: (126, 2)\n",
       "┌─────────────────────┬───────┐\n",
       "│ rok                 ┆ knih  │\n",
       "│ ---                 ┆ ---   │\n",
       "│ datetime[μs]        ┆ u32   │\n",
       "╞═════════════════════╪═══════╡\n",
       "│ 1900-01-01 00:00:00 ┆ 1355  │\n",
       "│ 1901-01-01 00:00:00 ┆ 1807  │\n",
       "│ 1902-01-01 00:00:00 ┆ 2038  │\n",
       "│ 1903-01-01 00:00:00 ┆ 1973  │\n",
       "│ 1904-01-01 00:00:00 ┆ 1896  │\n",
       "│ …                   ┆ …     │\n",
       "│ 2021-01-01 00:00:00 ┆ 12935 │\n",
       "│ 2022-01-01 00:00:00 ┆ 13273 │\n",
       "│ 2023-01-01 00:00:00 ┆ 11749 │\n",
       "│ 2024-01-01 00:00:00 ┆ 9244  │\n",
       "│ 2025-01-01 00:00:00 ┆ 9     │\n",
       "└─────────────────────┴───────┘"
      ]
     },
     "execution_count": 35,
     "metadata": {},
     "output_type": "execute_result"
    }
   ],
   "source": [
    "rocni_pocty"
   ]
  },
  {
   "cell_type": "code",
   "execution_count": 21,
   "id": "970bb20b-628b-4018-9cc5-7a1e6cbf608c",
   "metadata": {},
   "outputs": [
    {
     "data": {
      "text/plain": [
       "ThemeRegistry.enable('irozhlas')"
      ]
     },
     "execution_count": 21,
     "metadata": {},
     "output_type": "execute_result"
    }
   ],
   "source": [
    "def irozhlas_conf():\n",
    "\n",
    "    return {\n",
    "        \"config\" : {\n",
    "             \"title\": {'font': \"Noticia Text\",\n",
    "                      'fontSize': 14,\n",
    "                      'anchor': 'start',\n",
    "                       'fontWeight': 'bolder',\n",
    "                    'subtitleFont': 'Noticia Text',\n",
    "                      'subtitleFontSize': 12,\n",
    "                       'subtitleFontWeight': 'lighter',\n",
    "                      'subtitlePadding': 12,\n",
    "                       'dy': -12,\n",
    "                      },\n",
    "             \"axis\": {\n",
    "                \"labelFont\": \"Asap\",\n",
    "                \"titleFont\": \"Asap\",\n",
    "                 \"fontWeight\": \"lighter\",\n",
    "                \"titleFontWeight\": \"lighter\",\n",
    "                \"labelFontSize\": 10,\n",
    "                \"titleFontSize\": 10,\n",
    "                'labelPadding': 2,\n",
    "                 'titlePadding': 10\n",
    "            },\n",
    "            \"legend\": {\n",
    "                \"labelFont\": \"Asap\",\n",
    "                \"labelFontWeight\": \"normal\",\n",
    "                \"titleFont\": \"Asap\",\n",
    "                \"titleFontWeight\": \"normal\",\n",
    "                \"labelFontSize\": 10,\n",
    "                \"titleFontSize\": 10\n",
    "            }\n",
    "        }\n",
    "    }\n",
    "\n",
    "alt.themes.register('irozhlas', irozhlas_conf)\n",
    "alt.themes.enable('irozhlas')"
   ]
  },
  {
   "cell_type": "code",
   "execution_count": 81,
   "id": "8c2c8b7f-1f2e-4f39-8962-fe235c86d439",
   "metadata": {},
   "outputs": [],
   "source": [
    "titulek = \"Knižní produkce po letech\"\n",
    "podtitulek = [\"Podíl jazyků na překladové literatuře – krásné, naučné i odborné.\"] #,\"Angličtina a francouzština (téměř) zmizely jen během 2. světové války,\",\"kdy dominovaly překlady z němčiny. Po osvobození raketově narostl podíl ruštiny.\"]\n",
    "kredit = \"zdroj dat: Česká národní bibliografie · vizualizace: iROZHLAS.cz · 2025\""
   ]
  },
  {
   "cell_type": "code",
   "execution_count": 113,
   "id": "3743cd79-1e3b-4710-9674-758cfd553647",
   "metadata": {},
   "outputs": [
    {
     "ename": "TypeError",
     "evalue": "'>' not supported between instances of 'str' and 'int'",
     "output_type": "error",
     "traceback": [
      "\u001b[1;31m---------------------------------------------------------------------------\u001b[0m",
      "\u001b[1;31mTypeError\u001b[0m                                 Traceback (most recent call last)",
      "Cell \u001b[1;32mIn[113], line 4\u001b[0m\n\u001b[0;32m      1\u001b[0m alt\u001b[38;5;241m.\u001b[39mChart(rocni_pocty\u001b[38;5;241m.\u001b[39mto_pandas(), title\u001b[38;5;241m=\u001b[39m{\u001b[38;5;124m'\u001b[39m\u001b[38;5;124mtext\u001b[39m\u001b[38;5;124m'\u001b[39m: titulek, \u001b[38;5;124m'\u001b[39m\u001b[38;5;124msubtitle\u001b[39m\u001b[38;5;124m'\u001b[39m: podtitulek})\u001b[38;5;241m.\u001b[39mmark_bar(color\u001b[38;5;241m=\u001b[39m\u001b[38;5;124m\"\u001b[39m\u001b[38;5;124m#7CA6E1\u001b[39m\u001b[38;5;124m\"\u001b[39m)\u001b[38;5;241m.\u001b[39mencode(\n\u001b[0;32m      2\u001b[0m     alt\u001b[38;5;241m.\u001b[39mX(\u001b[38;5;124m'\u001b[39m\u001b[38;5;124mrok:T\u001b[39m\u001b[38;5;124m'\u001b[39m, title\u001b[38;5;241m=\u001b[39m\u001b[38;5;28;01mNone\u001b[39;00m, axis\u001b[38;5;241m=\u001b[39malt\u001b[38;5;241m.\u001b[39mAxis(domainOpacity\u001b[38;5;241m=\u001b[39m\u001b[38;5;241m0\u001b[39m, tickColor\u001b[38;5;241m=\u001b[39m\u001b[38;5;124m'\u001b[39m\u001b[38;5;124m#DCDDD6\u001b[39m\u001b[38;5;124m'\u001b[39m)),\n\u001b[0;32m      3\u001b[0m     alt\u001b[38;5;241m.\u001b[39mY(\u001b[38;5;124m'\u001b[39m\u001b[38;5;124mknih:Q\u001b[39m\u001b[38;5;124m'\u001b[39m, title\u001b[38;5;241m=\u001b[39m\u001b[38;5;28;01mNone\u001b[39;00m, axis\u001b[38;5;241m=\u001b[39malt\u001b[38;5;241m.\u001b[39mAxis(domainOpacity\u001b[38;5;241m=\u001b[39m\u001b[38;5;241m0\u001b[39m, tickColor\u001b[38;5;241m=\u001b[39m\u001b[38;5;124m'\u001b[39m\u001b[38;5;124m#DCDDD6\u001b[39m\u001b[38;5;124m'\u001b[39m)),\n\u001b[1;32m----> 4\u001b[0m     alt\u001b[38;5;241m.\u001b[39mColor(\u001b[38;5;124m'\u001b[39m\u001b[38;5;124mknih:Q\u001b[39m\u001b[38;5;124m'\u001b[39m, alt\u001b[38;5;241m.\u001b[39mcondition((\u001b[38;5;124m'\u001b[39m\u001b[38;5;124mknih\u001b[39m\u001b[38;5;124m'\u001b[39m \u001b[38;5;241m>\u001b[39m \u001b[38;5;241m2000\u001b[39m), \n\u001b[0;32m      5\u001b[0m                                 alt\u001b[38;5;241m.\u001b[39mColorValue(\u001b[38;5;124m'\u001b[39m\u001b[38;5;124mred\u001b[39m\u001b[38;5;124m'\u001b[39m), \n\u001b[0;32m      6\u001b[0m                                 alt\u001b[38;5;241m.\u001b[39mColorValue(\u001b[38;5;124m'\u001b[39m\u001b[38;5;124mblack\u001b[39m\u001b[38;5;124m'\u001b[39m))))\u001b[38;5;241m.\u001b[39mproperties(width\u001b[38;5;241m=\u001b[39m\u001b[38;5;241m400\u001b[39m, height\u001b[38;5;241m=\u001b[39m\u001b[38;5;241m200\u001b[39m)\n",
      "\u001b[1;31mTypeError\u001b[0m: '>' not supported between instances of 'str' and 'int'"
     ]
    }
   ],
   "source": [
    "alt.Chart(rocni_pocty.to_pandas(), title={'text': titulek, 'subtitle': podtitulek}).mark_bar(color=\"#7CA6E1\").encode(\n",
    "    alt.X('rok:T', title=None, axis=alt.Axis(domainOpacity=0, tickColor='#DCDDD6')),\n",
    "    alt.Y('knih:Q', title=None, axis=alt.Axis(domainOpacity=0, tickColor='#DCDDD6')),\n",
    "    alt.Color('knih:Q', alt.condition(('knih' > 2000), \n",
    "                                alt.ColorValue('red'), \n",
    "                                alt.ColorValue('black')))).properties(width=400, height=200)"
   ]
  },
  {
   "cell_type": "code",
   "execution_count": 129,
   "id": "87a01513-420e-4f7f-a412-5064fe6be717",
   "metadata": {},
   "outputs": [
    {
     "data": {
      "text/html": [
       "\n",
       "<style>\n",
       "  #altair-viz-9b55fbe86eaf4cb6bce6b31e203f9a05.vega-embed {\n",
       "    width: 100%;\n",
       "    display: flex;\n",
       "  }\n",
       "\n",
       "  #altair-viz-9b55fbe86eaf4cb6bce6b31e203f9a05.vega-embed details,\n",
       "  #altair-viz-9b55fbe86eaf4cb6bce6b31e203f9a05.vega-embed details summary {\n",
       "    position: relative;\n",
       "  }\n",
       "</style>\n",
       "<div id=\"altair-viz-9b55fbe86eaf4cb6bce6b31e203f9a05\"></div>\n",
       "<script type=\"text/javascript\">\n",
       "  var VEGA_DEBUG = (typeof VEGA_DEBUG == \"undefined\") ? {} : VEGA_DEBUG;\n",
       "  (function(spec, embedOpt){\n",
       "    let outputDiv = document.currentScript.previousElementSibling;\n",
       "    if (outputDiv.id !== \"altair-viz-9b55fbe86eaf4cb6bce6b31e203f9a05\") {\n",
       "      outputDiv = document.getElementById(\"altair-viz-9b55fbe86eaf4cb6bce6b31e203f9a05\");\n",
       "    }\n",
       "    const paths = {\n",
       "      \"vega\": \"https://cdn.jsdelivr.net/npm/vega@5?noext\",\n",
       "      \"vega-lib\": \"https://cdn.jsdelivr.net/npm/vega-lib?noext\",\n",
       "      \"vega-lite\": \"https://cdn.jsdelivr.net/npm/vega-lite@5.8.0?noext\",\n",
       "      \"vega-embed\": \"https://cdn.jsdelivr.net/npm/vega-embed@6?noext\",\n",
       "    };\n",
       "\n",
       "    function maybeLoadScript(lib, version) {\n",
       "      var key = `${lib.replace(\"-\", \"\")}_version`;\n",
       "      return (VEGA_DEBUG[key] == version) ?\n",
       "        Promise.resolve(paths[lib]) :\n",
       "        new Promise(function(resolve, reject) {\n",
       "          var s = document.createElement('script');\n",
       "          document.getElementsByTagName(\"head\")[0].appendChild(s);\n",
       "          s.async = true;\n",
       "          s.onload = () => {\n",
       "            VEGA_DEBUG[key] = version;\n",
       "            return resolve(paths[lib]);\n",
       "          };\n",
       "          s.onerror = () => reject(`Error loading script: ${paths[lib]}`);\n",
       "          s.src = paths[lib];\n",
       "        });\n",
       "    }\n",
       "\n",
       "    function showError(err) {\n",
       "      outputDiv.innerHTML = `<div class=\"error\" style=\"color:red;\">${err}</div>`;\n",
       "      throw err;\n",
       "    }\n",
       "\n",
       "    function displayChart(vegaEmbed) {\n",
       "      vegaEmbed(outputDiv, spec, embedOpt)\n",
       "        .catch(err => showError(`Javascript Error: ${err.message}<br>This usually means there's a typo in your chart specification. See the javascript console for the full traceback.`));\n",
       "    }\n",
       "\n",
       "    if(typeof define === \"function\" && define.amd) {\n",
       "      requirejs.config({paths});\n",
       "      require([\"vega-embed\"], displayChart, err => showError(`Error loading script: ${err.message}`));\n",
       "    } else {\n",
       "      maybeLoadScript(\"vega\", \"5\")\n",
       "        .then(() => maybeLoadScript(\"vega-lite\", \"5.8.0\"))\n",
       "        .then(() => maybeLoadScript(\"vega-embed\", \"6\"))\n",
       "        .catch(showError)\n",
       "        .then(() => displayChart(vegaEmbed));\n",
       "    }\n",
       "  })({\"config\": {\"title\": {\"font\": \"Noticia Text\", \"fontSize\": 14, \"anchor\": \"start\", \"fontWeight\": \"bolder\", \"subtitleFont\": \"Noticia Text\", \"subtitleFontSize\": 12, \"subtitleFontWeight\": \"lighter\", \"subtitlePadding\": 12, \"dy\": -12}, \"axis\": {\"labelFont\": \"Asap\", \"titleFont\": \"Asap\", \"fontWeight\": \"lighter\", \"titleFontWeight\": \"lighter\", \"labelFontSize\": 10, \"titleFontSize\": 10, \"labelPadding\": 2, \"titlePadding\": 10}, \"legend\": {\"labelFont\": \"Asap\", \"labelFontWeight\": \"normal\", \"titleFont\": \"Asap\", \"titleFontWeight\": \"normal\", \"labelFontSize\": 10, \"titleFontSize\": 10}}, \"data\": {\"name\": \"data-39f582e78b98d8f9fe28fefeda4048f3\"}, \"mark\": {\"type\": \"bar\", \"color\": \"#7CA6E1\"}, \"encoding\": {\"color\": {\"condition\": {\"test\": \"datum.knih > 15000\", \"value\": \"#84c0e4\"}, \"value\": \"#687fa9\"}, \"x\": {\"axis\": {\"domainOpacity\": 0, \"tickColor\": \"#DCDDD6\"}, \"field\": \"rok\", \"title\": null, \"type\": \"temporal\"}, \"y\": {\"axis\": {\"domainOpacity\": 0, \"tickColor\": \"#DCDDD6\"}, \"field\": \"knih\", \"title\": null, \"type\": \"quantitative\"}}, \"height\": 200, \"title\": {\"text\": \"Kni\\u017en\\u00ed produkce po letech\", \"subtitle\": [\"Pod\\u00edl jazyk\\u016f na p\\u0159ekladov\\u00e9 literatu\\u0159e \\u2013 kr\\u00e1sn\\u00e9, nau\\u010dn\\u00e9 i odborn\\u00e9.\"]}, \"width\": 400, \"$schema\": \"https://vega.github.io/schema/vega-lite/v5.8.0.json\", \"datasets\": {\"data-39f582e78b98d8f9fe28fefeda4048f3\": [{\"rok\": \"1901-01-01T00:00:00\", \"knih\": 1807}, {\"rok\": \"1902-01-01T00:00:00\", \"knih\": 2038}, {\"rok\": \"1903-01-01T00:00:00\", \"knih\": 1973}, {\"rok\": \"1904-01-01T00:00:00\", \"knih\": 1896}, {\"rok\": \"1905-01-01T00:00:00\", \"knih\": 1811}, {\"rok\": \"1906-01-01T00:00:00\", \"knih\": 2239}, {\"rok\": \"1907-01-01T00:00:00\", \"knih\": 2076}, {\"rok\": \"1908-01-01T00:00:00\", \"knih\": 2342}, {\"rok\": \"1909-01-01T00:00:00\", \"knih\": 2247}, {\"rok\": \"1910-01-01T00:00:00\", \"knih\": 2546}, {\"rok\": \"1911-01-01T00:00:00\", \"knih\": 2474}, {\"rok\": \"1912-01-01T00:00:00\", \"knih\": 2593}, {\"rok\": \"1913-01-01T00:00:00\", \"knih\": 2688}, {\"rok\": \"1914-01-01T00:00:00\", \"knih\": 2034}, {\"rok\": \"1915-01-01T00:00:00\", \"knih\": 1394}, {\"rok\": \"1916-01-01T00:00:00\", \"knih\": 1509}, {\"rok\": \"1917-01-01T00:00:00\", \"knih\": 1573}, {\"rok\": \"1918-01-01T00:00:00\", \"knih\": 1906}, {\"rok\": \"1919-01-01T00:00:00\", \"knih\": 3423}, {\"rok\": \"1920-01-01T00:00:00\", \"knih\": 4301}, {\"rok\": \"1921-01-01T00:00:00\", \"knih\": 3797}, {\"rok\": \"1922-01-01T00:00:00\", \"knih\": 4231}, {\"rok\": \"1923-01-01T00:00:00\", \"knih\": 4229}, {\"rok\": \"1924-01-01T00:00:00\", \"knih\": 4689}, {\"rok\": \"1925-01-01T00:00:00\", \"knih\": 5261}, {\"rok\": \"1926-01-01T00:00:00\", \"knih\": 4852}, {\"rok\": \"1927-01-01T00:00:00\", \"knih\": 4680}, {\"rok\": \"1928-01-01T00:00:00\", \"knih\": 4945}, {\"rok\": \"1929-01-01T00:00:00\", \"knih\": 4864}, {\"rok\": \"1930-01-01T00:00:00\", \"knih\": 5527}, {\"rok\": \"1931-01-01T00:00:00\", \"knih\": 4978}, {\"rok\": \"1932-01-01T00:00:00\", \"knih\": 4630}, {\"rok\": \"1933-01-01T00:00:00\", \"knih\": 4628}, {\"rok\": \"1934-01-01T00:00:00\", \"knih\": 4870}, {\"rok\": \"1935-01-01T00:00:00\", \"knih\": 5469}, {\"rok\": \"1936-01-01T00:00:00\", \"knih\": 6438}, {\"rok\": \"1937-01-01T00:00:00\", \"knih\": 6467}, {\"rok\": \"1938-01-01T00:00:00\", \"knih\": 5611}, {\"rok\": \"1939-01-01T00:00:00\", \"knih\": 4207}, {\"rok\": \"1940-01-01T00:00:00\", \"knih\": 5558}, {\"rok\": \"1941-01-01T00:00:00\", \"knih\": 5265}, {\"rok\": \"1942-01-01T00:00:00\", \"knih\": 2705}, {\"rok\": \"1943-01-01T00:00:00\", \"knih\": 2079}, {\"rok\": \"1944-01-01T00:00:00\", \"knih\": 2462}, {\"rok\": \"1945-01-01T00:00:00\", \"knih\": 3084}, {\"rok\": \"1946-01-01T00:00:00\", \"knih\": 6052}, {\"rok\": \"1947-01-01T00:00:00\", \"knih\": 6490}, {\"rok\": \"1948-01-01T00:00:00\", \"knih\": 5381}, {\"rok\": \"1949-01-01T00:00:00\", \"knih\": 3973}, {\"rok\": \"1950-01-01T00:00:00\", \"knih\": 4030}, {\"rok\": \"1951-01-01T00:00:00\", \"knih\": 4555}, {\"rok\": \"1952-01-01T00:00:00\", \"knih\": 4399}, {\"rok\": \"1953-01-01T00:00:00\", \"knih\": 5005}, {\"rok\": \"1954-01-01T00:00:00\", \"knih\": 5357}, {\"rok\": \"1955-01-01T00:00:00\", \"knih\": 4948}, {\"rok\": \"1956-01-01T00:00:00\", \"knih\": 4909}, {\"rok\": \"1957-01-01T00:00:00\", \"knih\": 4927}, {\"rok\": \"1958-01-01T00:00:00\", \"knih\": 5513}, {\"rok\": \"1959-01-01T00:00:00\", \"knih\": 6125}, {\"rok\": \"1960-01-01T00:00:00\", \"knih\": 5895}, {\"rok\": \"1961-01-01T00:00:00\", \"knih\": 6037}, {\"rok\": \"1962-01-01T00:00:00\", \"knih\": 5562}, {\"rok\": \"1963-01-01T00:00:00\", \"knih\": 5845}, {\"rok\": \"1964-01-01T00:00:00\", \"knih\": 5533}, {\"rok\": \"1965-01-01T00:00:00\", \"knih\": 5192}, {\"rok\": \"1966-01-01T00:00:00\", \"knih\": 5145}, {\"rok\": \"1967-01-01T00:00:00\", \"knih\": 5122}, {\"rok\": \"1968-01-01T00:00:00\", \"knih\": 4960}, {\"rok\": \"1969-01-01T00:00:00\", \"knih\": 4904}, {\"rok\": \"1970-01-01T00:00:00\", \"knih\": 5245}, {\"rok\": \"1971-01-01T00:00:00\", \"knih\": 5356}, {\"rok\": \"1972-01-01T00:00:00\", \"knih\": 5273}, {\"rok\": \"1973-01-01T00:00:00\", \"knih\": 5468}, {\"rok\": \"1974-01-01T00:00:00\", \"knih\": 5603}, {\"rok\": \"1975-01-01T00:00:00\", \"knih\": 5568}, {\"rok\": \"1976-01-01T00:00:00\", \"knih\": 5787}, {\"rok\": \"1977-01-01T00:00:00\", \"knih\": 5567}, {\"rok\": \"1978-01-01T00:00:00\", \"knih\": 5647}, {\"rok\": \"1979-01-01T00:00:00\", \"knih\": 5918}, {\"rok\": \"1980-01-01T00:00:00\", \"knih\": 6107}, {\"rok\": \"1981-01-01T00:00:00\", \"knih\": 6046}, {\"rok\": \"1982-01-01T00:00:00\", \"knih\": 6137}, {\"rok\": \"1983-01-01T00:00:00\", \"knih\": 6191}, {\"rok\": \"1984-01-01T00:00:00\", \"knih\": 6353}, {\"rok\": \"1985-01-01T00:00:00\", \"knih\": 6417}, {\"rok\": \"1986-01-01T00:00:00\", \"knih\": 6604}, {\"rok\": \"1987-01-01T00:00:00\", \"knih\": 6900}, {\"rok\": \"1988-01-01T00:00:00\", \"knih\": 6808}, {\"rok\": \"1989-01-01T00:00:00\", \"knih\": 7073}, {\"rok\": \"1990-01-01T00:00:00\", \"knih\": 6926}, {\"rok\": \"1991-01-01T00:00:00\", \"knih\": 7201}, {\"rok\": \"1992-01-01T00:00:00\", \"knih\": 8638}, {\"rok\": \"1993-01-01T00:00:00\", \"knih\": 8488}, {\"rok\": \"1994-01-01T00:00:00\", \"knih\": 8938}, {\"rok\": \"1995-01-01T00:00:00\", \"knih\": 9788}, {\"rok\": \"1996-01-01T00:00:00\", \"knih\": 10455}, {\"rok\": \"1997-01-01T00:00:00\", \"knih\": 10944}, {\"rok\": \"1998-01-01T00:00:00\", \"knih\": 11230}, {\"rok\": \"1999-01-01T00:00:00\", \"knih\": 11641}, {\"rok\": \"2000-01-01T00:00:00\", \"knih\": 12519}, {\"rok\": \"2001-01-01T00:00:00\", \"knih\": 12548}, {\"rok\": \"2002-01-01T00:00:00\", \"knih\": 12717}, {\"rok\": \"2003-01-01T00:00:00\", \"knih\": 13813}, {\"rok\": \"2004-01-01T00:00:00\", \"knih\": 13772}, {\"rok\": \"2005-01-01T00:00:00\", \"knih\": 14177}, {\"rok\": \"2006-01-01T00:00:00\", \"knih\": 15155}, {\"rok\": \"2007-01-01T00:00:00\", \"knih\": 16014}, {\"rok\": \"2008-01-01T00:00:00\", \"knih\": 16728}, {\"rok\": \"2009-01-01T00:00:00\", \"knih\": 15551}, {\"rok\": \"2010-01-01T00:00:00\", \"knih\": 15911}, {\"rok\": \"2011-01-01T00:00:00\", \"knih\": 15394}, {\"rok\": \"2012-01-01T00:00:00\", \"knih\": 15535}, {\"rok\": \"2013-01-01T00:00:00\", \"knih\": 15229}, {\"rok\": \"2014-01-01T00:00:00\", \"knih\": 15243}, {\"rok\": \"2015-01-01T00:00:00\", \"knih\": 14749}, {\"rok\": \"2016-01-01T00:00:00\", \"knih\": 13999}, {\"rok\": \"2017-01-01T00:00:00\", \"knih\": 13782}, {\"rok\": \"2018-01-01T00:00:00\", \"knih\": 14162}, {\"rok\": \"2019-01-01T00:00:00\", \"knih\": 13726}, {\"rok\": \"2020-01-01T00:00:00\", \"knih\": 12474}, {\"rok\": \"2021-01-01T00:00:00\", \"knih\": 12935}, {\"rok\": \"2022-01-01T00:00:00\", \"knih\": 13273}, {\"rok\": \"2023-01-01T00:00:00\", \"knih\": 11749}]}}, {\"mode\": \"vega-lite\"});\n",
       "</script>"
      ],
      "text/plain": [
       "alt.Chart(...)"
      ]
     },
     "execution_count": 129,
     "metadata": {},
     "output_type": "execute_result"
    }
   ],
   "source": [
    "alt.Chart(rocni_pocty.to_pandas(), title={'text': titulek, 'subtitle': podtitulek}).mark_bar(color=\"#7CA6E1\").encode(\n",
    "    alt.X('rok:T', title=None, axis=alt.Axis(domainOpacity=0, tickColor='#DCDDD6')),\n",
    "    alt.Y('knih:Q', title=None, axis=alt.Axis(domainOpacity=0, tickColor='#DCDDD6')),\n",
    "    color=alt.condition(\n",
    "        'datum.knih > 15000',  # Using datum to reference the field value\n",
    "        alt.value('#84c0e4'),\n",
    "        alt.value('#687fa9')\n",
    "    )).properties(width=400, height=200)"
   ]
  }
 ],
 "metadata": {
  "kernelspec": {
   "display_name": "Python 3 (ipykernel)",
   "language": "python",
   "name": "python3"
  },
  "language_info": {
   "codemirror_mode": {
    "name": "ipython",
    "version": 3
   },
   "file_extension": ".py",
   "mimetype": "text/x-python",
   "name": "python",
   "nbconvert_exporter": "python",
   "pygments_lexer": "ipython3",
   "version": "3.12.3"
  }
 },
 "nbformat": 4,
 "nbformat_minor": 5
}
