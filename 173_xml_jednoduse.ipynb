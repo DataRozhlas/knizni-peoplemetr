{
 "cells": [
  {
   "cell_type": "code",
   "execution_count": 17,
   "id": "94918a66-2b5b-40b1-968c-67d1a3488e9e",
   "metadata": {},
   "outputs": [],
   "source": [
    "import duckdb\n",
    "import xml.etree.ElementTree as ET\n",
    "from pathlib import Path\n",
    "import pyarrow as pa\n",
    "\n",
    "# Define the namespace\n",
    "NS = {'marc': 'http://www.loc.gov/MARC21/slim'}\n",
    "\n",
    "def stream_marc_records(file_path):\n",
    "    \"\"\"Stream MARC records to avoid loading entire file into memory\"\"\"\n",
    "    context = ET.iterparse(file_path, events=('end',))\n",
    "    for event, elem in context:\n",
    "        if elem.tag.endswith('record'):\n",
    "            # Extract relevant fields using proper namespace\n",
    "            record_data = {\n",
    "                'id': next((field.text for field in elem.findall('.//marc:controlfield[@tag=\"001\"]', NS)), None),\n",
    "                'title': next((subfield.text \n",
    "                             for field in elem.findall('.//marc:datafield[@tag=\"245\"]', NS)\n",
    "                             for subfield in field.findall('.//marc:subfield[@code=\"a\"]', NS)), None),\n",
    "                # Add more fields as needed\n",
    "            }\n",
    "            yield record_data\n",
    "            elem.clear()\n",
    "\n",
    "# Create DuckDB connection\n",
    "con = duckdb.connect('data/skc.db')\n",
    "\n",
    "# Create table\n",
    "con.execute(\"\"\"\n",
    "    CREATE TABLE IF NOT EXISTS marc_records (\n",
    "        id VARCHAR,\n",
    "        title VARCHAR\n",
    "        -- Add more columns as needed\n",
    "    )\n",
    "\"\"\")\n",
    "\n",
    "# Process in batches\n",
    "batch_size = 10000\n",
    "current_batch = []\n",
    "\n",
    "for record in stream_marc_records('downloads/skc.xml'):\n",
    "    current_batch.append(record)\n",
    "    if len(current_batch) >= batch_size:\n",
    "        # Convert batch to Arrow table and insert\n",
    "        arrow_table = pa.Table.from_pylist(current_batch)\n",
    "        con.execute(\"INSERT INTO marc_records SELECT * FROM arrow_table\")\n",
    "        current_batch = []\n",
    "\n",
    "# Insert remaining records\n",
    "if current_batch:\n",
    "    arrow_table = pa.Table.from_pylist(current_batch)\n",
    "    con.execute(\"INSERT INTO marc_records SELECT * FROM arrow_table\")\n"
   ]
  },
  {
   "cell_type": "code",
   "execution_count": null,
   "id": "faf1f169-2772-40a0-8904-09036edf7adb",
   "metadata": {},
   "outputs": [],
   "source": []
  }
 ],
 "metadata": {
  "kernelspec": {
   "display_name": "Python 3 (ipykernel)",
   "language": "python",
   "name": "python3"
  },
  "language_info": {
   "codemirror_mode": {
    "name": "ipython",
    "version": 3
   },
   "file_extension": ".py",
   "mimetype": "text/x-python",
   "name": "python",
   "nbconvert_exporter": "python",
   "pygments_lexer": "ipython3",
   "version": "3.12.3"
  }
 },
 "nbformat": 4,
 "nbformat_minor": 5
}
