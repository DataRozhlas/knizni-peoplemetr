{
 "cells": [
  {
   "cell_type": "code",
   "execution_count": 1,
   "id": "cc996f0b-b4dc-4108-942f-2fd9781d10f4",
   "metadata": {},
   "outputs": [],
   "source": [
    "import os\n",
    "import json\n",
    "import datetime\n",
    "import warnings\n",
    "import polars as pl\n",
    "import pandas as pd\n",
    "import altair as alt\n",
    "\n",
    "from src.najdi_rok import najdi_rok\n",
    "from src.pocet_stran import pocet_stran\n",
    "from src.bez_bordelu import bez_bordelu\n",
    "from src.alt_friendly import alt_friendly\n",
    "from src.hezke_jmeno import hezke_jmeno\n",
    "from src.kristi_promin import kristi_promin\n",
    "from src.zjisti_vazbu import zjisti_vazbu\n",
    "from src.me_to_neurazi import me_to_neurazi\n",
    "\n",
    "pl.Config(tbl_rows=100)\n",
    "alt.data_transformers.disable_max_rows()\n",
    "alt.themes.register('irozhlas', kristi_promin)\n",
    "alt.themes.enable('irozhlas')\n",
    "warnings.filterwarnings('ignore')\n",
    "\n",
    "with open(os.path.join('src','kredity.json'), 'r', encoding='utf-8') as kredity:\n",
    "    kredity = json.loads(kredity.read())"
   ]
  },
  {
   "cell_type": "code",
   "execution_count": 3,
   "id": "49a33e1e-b712-4d2b-89c7-eca934321ef4",
   "metadata": {},
   "outputs": [
    {
     "name": "stdout",
     "output_type": "stream",
     "text": [
      "1001279\n",
      "991612\n"
     ]
    }
   ],
   "source": [
    "df = pl.read_parquet(os.path.join(\"data/cnb_sloupce\",\"leader.parquet\"))\n",
    "df = df.join(pl.read_parquet(os.path.join(\"data/cnb_sloupce\",\"100.parquet\")), left_on=\"001\", right_on=\"001\", how=\"left\")\n",
    "df = df.join(pl.read_parquet(os.path.join(\"data/cnb_sloupce\",\"008.parquet\")), left_on=\"001\", right_on=\"001\", how=\"left\")\n",
    "df = df.to_pandas()\n",
    "df = df[df[\"leader\"].str[6].isin([\"a\", \"t\"])]\n",
    "df = df[~df[\"leader\"].str[7].isin([\"b\", \"i\", \"s\", \" \"])]\n",
    "df = df[(df[\"008\"].str[15:17] == \"xr\") & (df[\"008\"].str[35:38] == \"cze\")]\n",
    "df = pl.from_pandas(df)\n",
    "df = df.join(pl.read_parquet(os.path.join(\"data/cnb_sloupce\",\"020.parquet\")), left_on=\"001\", right_on=\"001\", how=\"left\")\n",
    "df = df.join(pl.read_parquet(os.path.join(\"data/cnb_sloupce\",\"022.parquet\")), left_on=\"001\", right_on=\"001\", how=\"left\")\n",
    "df = df.join(pl.read_parquet(os.path.join(\"data/cnb_sloupce\",\"245.parquet\")), left_on=\"001\", right_on=\"001\", how=\"left\")\n",
    "df = df.join(pl.read_parquet(os.path.join(\"data/cnb_sloupce\",\"300.parquet\")), left_on=\"001\", right_on=\"001\", how=\"left\")\n",
    "df = df.join(pl.read_parquet(os.path.join(\"data/cnb_sloupce\",\"655.parquet\")), left_on=\"001\", right_on=\"001\", how=\"left\")\n",
    "df = df.join(pl.read_parquet(os.path.join(\"data/cnb_sloupce\",\"700.parquet\")), left_on=\"001\", right_on=\"001\", how=\"left\")\n",
    "df = df.explode(\"022_a\").filter(pl.col(\"022_a\").is_null())\n",
    "df = df.with_columns(pl.col('008').map_elements(najdi_rok, return_dtype=int).alias('rok'))\n",
    "df = df.with_columns(pl.col('300_a').map_elements(pocet_stran, return_dtype=int).alias('stran'))\n",
    "df = df.with_columns(pl.col('245_a').map_elements(bez_bordelu, return_dtype=str))\n",
    "df = df.explode(\"020_q\").with_columns(pl.col(\"020_q\").map_elements(zjisti_vazbu, return_dtype=str).alias('vazba'))\n",
    "df = df.explode('245_p').with_columns(pl.col('245_p').map_elements(bez_bordelu, return_dtype=str))\n",
    "print(len(df))\n",
    "df = df.filter(~pl.col('rok').is_null()).sort(by='rok')\n",
    "df = df.filter((~pl.col(\"245_h\").str.contains(\"grafika\")) | pl.col(\"245_h\").is_null())\n",
    "print(len(df))"
   ]
  },
  {
   "cell_type": "code",
   "execution_count": 4,
   "id": "991ba373-93ce-4dac-9fd5-b90342c9b243",
   "metadata": {},
   "outputs": [],
   "source": [
    "df = df.filter(pl.col(\"rok\") >= 1800)"
   ]
  },
  {
   "cell_type": "code",
   "execution_count": 5,
   "id": "57272e1b-9b4a-41fb-a012-4f31e9956a21",
   "metadata": {},
   "outputs": [],
   "source": [
    "df = df.join(pl.read_parquet(os.path.join(\"data/cnb_sloupce\",\"041.parquet\")), left_on=\"001\", right_on=\"001\", how=\"left\")"
   ]
  },
  {
   "cell_type": "code",
   "execution_count": 6,
   "id": "7543dbff-921a-4a93-8bdc-047d6df511e2",
   "metadata": {},
   "outputs": [],
   "source": [
    "predfiltr = df.filter(pl.col('stran') >= 30).unique(subset=['rok','245_a','100_a'])"
   ]
  },
  {
   "cell_type": "code",
   "execution_count": 7,
   "id": "cc609fc7-b26d-4211-98ea-ff0d5e2495af",
   "metadata": {},
   "outputs": [],
   "source": [
    "preklady = predfiltr.drop_nulls(subset=[\"041_h\",\"rok\"]).explode(\"041_h\").filter(pl.col(\"041_h\").is_not_null()).filter(pl.col(\"041_h\") != \"cze\").unique(subset=['rok','245_a','100_a'])"
   ]
  },
  {
   "cell_type": "code",
   "execution_count": 15,
   "id": "f6e5da2f-704d-40cb-992f-7bd72c687f69",
   "metadata": {},
   "outputs": [],
   "source": [
    "do_grafu = preklady.group_by(\"rok\").agg(pl.col(\"041_h\").unique().len())"
   ]
  },
  {
   "cell_type": "code",
   "execution_count": 57,
   "id": "fd07bb9d-eebf-4cba-98e7-a4ba5bae535b",
   "metadata": {},
   "outputs": [
    {
     "data": {
      "text/html": [
       "\n",
       "<style>\n",
       "  #altair-viz-c76014ec8dc749b6b9223673dd778305.vega-embed {\n",
       "    width: 100%;\n",
       "    display: flex;\n",
       "  }\n",
       "\n",
       "  #altair-viz-c76014ec8dc749b6b9223673dd778305.vega-embed details,\n",
       "  #altair-viz-c76014ec8dc749b6b9223673dd778305.vega-embed details summary {\n",
       "    position: relative;\n",
       "  }\n",
       "</style>\n",
       "<div id=\"altair-viz-c76014ec8dc749b6b9223673dd778305\"></div>\n",
       "<script type=\"text/javascript\">\n",
       "  var VEGA_DEBUG = (typeof VEGA_DEBUG == \"undefined\") ? {} : VEGA_DEBUG;\n",
       "  (function(spec, embedOpt){\n",
       "    let outputDiv = document.currentScript.previousElementSibling;\n",
       "    if (outputDiv.id !== \"altair-viz-c76014ec8dc749b6b9223673dd778305\") {\n",
       "      outputDiv = document.getElementById(\"altair-viz-c76014ec8dc749b6b9223673dd778305\");\n",
       "    }\n",
       "    const paths = {\n",
       "      \"vega\": \"https://cdn.jsdelivr.net/npm/vega@5?noext\",\n",
       "      \"vega-lib\": \"https://cdn.jsdelivr.net/npm/vega-lib?noext\",\n",
       "      \"vega-lite\": \"https://cdn.jsdelivr.net/npm/vega-lite@5.8.0?noext\",\n",
       "      \"vega-embed\": \"https://cdn.jsdelivr.net/npm/vega-embed@6?noext\",\n",
       "    };\n",
       "\n",
       "    function maybeLoadScript(lib, version) {\n",
       "      var key = `${lib.replace(\"-\", \"\")}_version`;\n",
       "      return (VEGA_DEBUG[key] == version) ?\n",
       "        Promise.resolve(paths[lib]) :\n",
       "        new Promise(function(resolve, reject) {\n",
       "          var s = document.createElement('script');\n",
       "          document.getElementsByTagName(\"head\")[0].appendChild(s);\n",
       "          s.async = true;\n",
       "          s.onload = () => {\n",
       "            VEGA_DEBUG[key] = version;\n",
       "            return resolve(paths[lib]);\n",
       "          };\n",
       "          s.onerror = () => reject(`Error loading script: ${paths[lib]}`);\n",
       "          s.src = paths[lib];\n",
       "        });\n",
       "    }\n",
       "\n",
       "    function showError(err) {\n",
       "      outputDiv.innerHTML = `<div class=\"error\" style=\"color:red;\">${err}</div>`;\n",
       "      throw err;\n",
       "    }\n",
       "\n",
       "    function displayChart(vegaEmbed) {\n",
       "      vegaEmbed(outputDiv, spec, embedOpt)\n",
       "        .catch(err => showError(`Javascript Error: ${err.message}<br>This usually means there's a typo in your chart specification. See the javascript console for the full traceback.`));\n",
       "    }\n",
       "\n",
       "    if(typeof define === \"function\" && define.amd) {\n",
       "      requirejs.config({paths});\n",
       "      require([\"vega-embed\"], displayChart, err => showError(`Error loading script: ${err.message}`));\n",
       "    } else {\n",
       "      maybeLoadScript(\"vega\", \"5\")\n",
       "        .then(() => maybeLoadScript(\"vega-lite\", \"5.8.0\"))\n",
       "        .then(() => maybeLoadScript(\"vega-embed\", \"6\"))\n",
       "        .catch(showError)\n",
       "        .then(() => displayChart(vegaEmbed));\n",
       "    }\n",
       "  })({\"config\": {\"title\": {\"font\": \"Noticia Text\", \"fontSize\": 12, \"anchor\": \"start\", \"lineHeight\": 19, \"fontWeight\": \"bolder\", \"subtitleFont\": \"Noticia Text\", \"subtitleFontSize\": 10, \"subtitleLineHeight\": 15, \"subtitlePadding\": 10, \"dy\": -10}, \"axis\": {\"labelFont\": \"Asap\", \"titleFont\": \"Asap\", \"fontWeight\": \"lighter\", \"titleFontWeight\": \"lighter\", \"labelFontSize\": 9, \"titleFontSize\": 9, \"labelPadding\": 2, \"titlePadding\": 9, \"domainOpacity\": 0, \"tickColor\": \"#DCDDD6\"}, \"legend\": {\"labelFont\": \"Asap\", \"labelFontWeight\": \"normal\", \"titleFont\": \"Asap\", \"titleFontWeight\": \"normal\", \"labelFontSize\": 9, \"titleFontSize\": 9}, \"axisX\": {\"domain\": false, \"grid\": false}, \"view\": {\"stroke\": \"transparent\"}}, \"data\": {\"name\": \"data-5c2816f07abf7b8ec53ae665c429eb0f\"}, \"mark\": {\"type\": \"bar\", \"color\": \"#70871E\", \"width\": 1.5}, \"encoding\": {\"x\": {\"axis\": {\"domainOpacity\": 0, \"tickColor\": \"#DCDDD6\"}, \"field\": \"rok\", \"title\": null, \"type\": \"temporal\"}, \"y\": {\"axis\": {\"domainOpacity\": 0, \"orient\": \"right\", \"tickColor\": \"#DCDDD6\"}, \"field\": \"041_h\", \"title\": null, \"type\": \"quantitative\"}}, \"height\": 60, \"title\": [\"Z kolika r\\u016fzn\\u00fdch ciz\\u00edch jazyk\\u016f vy\\u0161ly kni\\u017en\\u00ed p\\u0159eklady\"], \"width\": 360, \"$schema\": \"https://vega.github.io/schema/vega-lite/v5.8.0.json\", \"datasets\": {\"data-5c2816f07abf7b8ec53ae665c429eb0f\": [{\"rok\": \"1971-01-01T00:00:00\", \"041_h\": 33}, {\"rok\": \"1986-01-01T00:00:00\", \"041_h\": 36}, {\"rok\": \"1989-01-01T00:00:00\", \"041_h\": 36}, {\"rok\": \"1968-01-01T00:00:00\", \"041_h\": 34}, {\"rok\": \"1977-01-01T00:00:00\", \"041_h\": 38}, {\"rok\": \"1980-01-01T00:00:00\", \"041_h\": 33}, {\"rok\": \"1974-01-01T00:00:00\", \"041_h\": 35}, {\"rok\": \"1983-01-01T00:00:00\", \"041_h\": 39}, {\"rok\": \"1852-01-01T00:00:00\", \"041_h\": 7}, {\"rok\": \"1855-01-01T00:00:00\", \"041_h\": 7}, {\"rok\": \"1858-01-01T00:00:00\", \"041_h\": 9}, {\"rok\": \"2010-01-01T00:00:00\", \"041_h\": 45}, {\"rok\": \"1873-01-01T00:00:00\", \"041_h\": 12}, {\"rok\": \"1998-01-01T00:00:00\", \"041_h\": 34}, {\"rok\": \"1864-01-01T00:00:00\", \"041_h\": 10}, {\"rok\": \"2007-01-01T00:00:00\", \"041_h\": 49}, {\"rok\": \"1870-01-01T00:00:00\", \"041_h\": 11}, {\"rok\": \"1879-01-01T00:00:00\", \"041_h\": 12}, {\"rok\": \"2013-01-01T00:00:00\", \"041_h\": 54}, {\"rok\": \"1995-01-01T00:00:00\", \"041_h\": 38}, {\"rok\": \"1992-01-01T00:00:00\", \"041_h\": 30}, {\"rok\": \"2001-01-01T00:00:00\", \"041_h\": 38}, {\"rok\": \"1861-01-01T00:00:00\", \"041_h\": 9}, {\"rok\": \"1867-01-01T00:00:00\", \"041_h\": 9}, {\"rok\": \"1882-01-01T00:00:00\", \"041_h\": 16}, {\"rok\": \"1876-01-01T00:00:00\", \"041_h\": 11}, {\"rok\": \"2004-01-01T00:00:00\", \"041_h\": 45}, {\"rok\": \"2022-01-01T00:00:00\", \"041_h\": 54}, {\"rok\": \"1891-01-01T00:00:00\", \"041_h\": 20}, {\"rok\": \"1894-01-01T00:00:00\", \"041_h\": 22}, {\"rok\": \"1906-01-01T00:00:00\", \"041_h\": 22}, {\"rok\": \"2019-01-01T00:00:00\", \"041_h\": 53}, {\"rok\": \"1897-01-01T00:00:00\", \"041_h\": 21}, {\"rok\": \"1888-01-01T00:00:00\", \"041_h\": 16}, {\"rok\": \"2016-01-01T00:00:00\", \"041_h\": 52}, {\"rok\": \"1900-01-01T00:00:00\", \"041_h\": 23}, {\"rok\": \"1885-01-01T00:00:00\", \"041_h\": 17}, {\"rok\": \"1903-01-01T00:00:00\", \"041_h\": 20}, {\"rok\": \"1930-01-01T00:00:00\", \"041_h\": 26}, {\"rok\": \"1924-01-01T00:00:00\", \"041_h\": 27}, {\"rok\": \"1921-01-01T00:00:00\", \"041_h\": 30}, {\"rok\": \"1909-01-01T00:00:00\", \"041_h\": 23}, {\"rok\": \"1927-01-01T00:00:00\", \"041_h\": 29}, {\"rok\": \"1912-01-01T00:00:00\", \"041_h\": 21}, {\"rok\": \"1933-01-01T00:00:00\", \"041_h\": 25}, {\"rok\": \"1918-01-01T00:00:00\", \"041_h\": 20}, {\"rok\": \"1915-01-01T00:00:00\", \"041_h\": 18}, {\"rok\": \"1945-01-01T00:00:00\", \"041_h\": 23}, {\"rok\": \"1939-01-01T00:00:00\", \"041_h\": 27}, {\"rok\": \"1954-01-01T00:00:00\", \"041_h\": 35}, {\"rok\": \"1951-01-01T00:00:00\", \"041_h\": 30}, {\"rok\": \"1948-01-01T00:00:00\", \"041_h\": 30}, {\"rok\": \"1936-01-01T00:00:00\", \"041_h\": 27}, {\"rok\": \"1942-01-01T00:00:00\", \"041_h\": 28}, {\"rok\": \"1957-01-01T00:00:00\", \"041_h\": 39}, {\"rok\": \"1963-01-01T00:00:00\", \"041_h\": 33}, {\"rok\": \"1975-01-01T00:00:00\", \"041_h\": 36}, {\"rok\": \"1978-01-01T00:00:00\", \"041_h\": 37}, {\"rok\": \"1850-01-01T00:00:00\", \"041_h\": 6}, {\"rok\": \"1972-01-01T00:00:00\", \"041_h\": 34}, {\"rok\": \"1981-01-01T00:00:00\", \"041_h\": 36}, {\"rok\": \"1960-01-01T00:00:00\", \"041_h\": 36}, {\"rok\": \"1966-01-01T00:00:00\", \"041_h\": 34}, {\"rok\": \"1969-01-01T00:00:00\", \"041_h\": 31}, {\"rok\": \"1874-01-01T00:00:00\", \"041_h\": 14}, {\"rok\": \"1987-01-01T00:00:00\", \"041_h\": 40}, {\"rok\": \"1999-01-01T00:00:00\", \"041_h\": 35}, {\"rok\": \"1993-01-01T00:00:00\", \"041_h\": 30}, {\"rok\": \"1856-01-01T00:00:00\", \"041_h\": 6}, {\"rok\": \"1865-01-01T00:00:00\", \"041_h\": 8}, {\"rok\": \"2005-01-01T00:00:00\", \"041_h\": 53}, {\"rok\": \"1853-01-01T00:00:00\", \"041_h\": 10}, {\"rok\": \"2002-01-01T00:00:00\", \"041_h\": 36}, {\"rok\": \"1859-01-01T00:00:00\", \"041_h\": 8}, {\"rok\": \"1996-01-01T00:00:00\", \"041_h\": 35}, {\"rok\": \"1868-01-01T00:00:00\", \"041_h\": 12}, {\"rok\": \"1990-01-01T00:00:00\", \"041_h\": 35}, {\"rok\": \"1984-01-01T00:00:00\", \"041_h\": 32}, {\"rok\": \"1862-01-01T00:00:00\", \"041_h\": 9}, {\"rok\": \"1871-01-01T00:00:00\", \"041_h\": 13}, {\"rok\": \"2008-01-01T00:00:00\", \"041_h\": 51}, {\"rok\": \"1889-01-01T00:00:00\", \"041_h\": 19}, {\"rok\": \"1895-01-01T00:00:00\", \"041_h\": 23}, {\"rok\": \"2011-01-01T00:00:00\", \"041_h\": 51}, {\"rok\": \"1898-01-01T00:00:00\", \"041_h\": 20}, {\"rok\": \"1877-01-01T00:00:00\", \"041_h\": 13}, {\"rok\": \"1883-01-01T00:00:00\", \"041_h\": 16}, {\"rok\": \"2020-01-01T00:00:00\", \"041_h\": 55}, {\"rok\": \"2014-01-01T00:00:00\", \"041_h\": 49}, {\"rok\": \"1880-01-01T00:00:00\", \"041_h\": 13}, {\"rok\": \"1886-01-01T00:00:00\", \"041_h\": 15}, {\"rok\": \"2023-01-01T00:00:00\", \"041_h\": 51}, {\"rok\": \"2017-01-01T00:00:00\", \"041_h\": 52}, {\"rok\": \"1892-01-01T00:00:00\", \"041_h\": 19}, {\"rok\": \"1904-01-01T00:00:00\", \"041_h\": 19}, {\"rok\": \"1901-01-01T00:00:00\", \"041_h\": 21}, {\"rok\": \"1919-01-01T00:00:00\", \"041_h\": 26}, {\"rok\": \"1907-01-01T00:00:00\", \"041_h\": 21}, {\"rok\": \"1916-01-01T00:00:00\", \"041_h\": 18}, {\"rok\": \"1922-01-01T00:00:00\", \"041_h\": 27}, {\"rok\": \"1910-01-01T00:00:00\", \"041_h\": 22}, {\"rok\": \"1913-01-01T00:00:00\", \"041_h\": 22}, {\"rok\": \"1925-01-01T00:00:00\", \"041_h\": 25}, {\"rok\": \"1937-01-01T00:00:00\", \"041_h\": 29}, {\"rok\": \"1946-01-01T00:00:00\", \"041_h\": 26}, {\"rok\": \"1934-01-01T00:00:00\", \"041_h\": 27}, {\"rok\": \"1943-01-01T00:00:00\", \"041_h\": 16}, {\"rok\": \"1949-01-01T00:00:00\", \"041_h\": 27}, {\"rok\": \"1928-01-01T00:00:00\", \"041_h\": 26}, {\"rok\": \"1940-01-01T00:00:00\", \"041_h\": 28}, {\"rok\": \"1931-01-01T00:00:00\", \"041_h\": 24}, {\"rok\": \"1967-01-01T00:00:00\", \"041_h\": 35}, {\"rok\": \"1958-01-01T00:00:00\", \"041_h\": 43}, {\"rok\": \"1964-01-01T00:00:00\", \"041_h\": 39}, {\"rok\": \"1973-01-01T00:00:00\", \"041_h\": 40}, {\"rok\": \"1952-01-01T00:00:00\", \"041_h\": 28}, {\"rok\": \"1970-01-01T00:00:00\", \"041_h\": 32}, {\"rok\": \"1955-01-01T00:00:00\", \"041_h\": 27}, {\"rok\": \"1961-01-01T00:00:00\", \"041_h\": 38}, {\"rok\": \"1857-01-01T00:00:00\", \"041_h\": 8}, {\"rok\": \"1982-01-01T00:00:00\", \"041_h\": 42}, {\"rok\": \"1854-01-01T00:00:00\", \"041_h\": 8}, {\"rok\": \"1979-01-01T00:00:00\", \"041_h\": 38}, {\"rok\": \"1985-01-01T00:00:00\", \"041_h\": 34}, {\"rok\": \"1851-01-01T00:00:00\", \"041_h\": 9}, {\"rok\": \"1866-01-01T00:00:00\", \"041_h\": 6}, {\"rok\": \"1860-01-01T00:00:00\", \"041_h\": 8}, {\"rok\": \"1991-01-01T00:00:00\", \"041_h\": 33}, {\"rok\": \"1997-01-01T00:00:00\", \"041_h\": 34}, {\"rok\": \"1976-01-01T00:00:00\", \"041_h\": 44}, {\"rok\": \"1994-01-01T00:00:00\", \"041_h\": 39}, {\"rok\": \"1988-01-01T00:00:00\", \"041_h\": 38}, {\"rok\": \"1863-01-01T00:00:00\", \"041_h\": 9}, {\"rok\": \"1887-01-01T00:00:00\", \"041_h\": 20}, {\"rok\": \"1875-01-01T00:00:00\", \"041_h\": 14}, {\"rok\": \"2015-01-01T00:00:00\", \"041_h\": 50}, {\"rok\": \"1884-01-01T00:00:00\", \"041_h\": 16}, {\"rok\": \"2003-01-01T00:00:00\", \"041_h\": 46}, {\"rok\": \"2006-01-01T00:00:00\", \"041_h\": 50}, {\"rok\": \"1878-01-01T00:00:00\", \"041_h\": 12}, {\"rok\": \"1881-01-01T00:00:00\", \"041_h\": 16}, {\"rok\": \"2009-01-01T00:00:00\", \"041_h\": 50}, {\"rok\": \"2021-01-01T00:00:00\", \"041_h\": 56}, {\"rok\": \"1890-01-01T00:00:00\", \"041_h\": 16}, {\"rok\": \"1872-01-01T00:00:00\", \"041_h\": 12}, {\"rok\": \"2000-01-01T00:00:00\", \"041_h\": 44}, {\"rok\": \"2012-01-01T00:00:00\", \"041_h\": 45}, {\"rok\": \"1869-01-01T00:00:00\", \"041_h\": 10}, {\"rok\": \"2018-01-01T00:00:00\", \"041_h\": 56}, {\"rok\": \"1905-01-01T00:00:00\", \"041_h\": 17}, {\"rok\": \"1917-01-01T00:00:00\", \"041_h\": 19}, {\"rok\": \"1896-01-01T00:00:00\", \"041_h\": 20}, {\"rok\": \"1908-01-01T00:00:00\", \"041_h\": 17}, {\"rok\": \"1911-01-01T00:00:00\", \"041_h\": 28}, {\"rok\": \"1914-01-01T00:00:00\", \"041_h\": 23}, {\"rok\": \"2024-01-01T00:00:00\", \"041_h\": 54}, {\"rok\": \"1899-01-01T00:00:00\", \"041_h\": 22}, {\"rok\": \"1902-01-01T00:00:00\", \"041_h\": 23}, {\"rok\": \"1893-01-01T00:00:00\", \"041_h\": 17}, {\"rok\": \"1920-01-01T00:00:00\", \"041_h\": 26}, {\"rok\": \"1923-01-01T00:00:00\", \"041_h\": 24}, {\"rok\": \"1941-01-01T00:00:00\", \"041_h\": 25}, {\"rok\": \"1929-01-01T00:00:00\", \"041_h\": 27}, {\"rok\": \"1935-01-01T00:00:00\", \"041_h\": 30}, {\"rok\": \"1938-01-01T00:00:00\", \"041_h\": 32}, {\"rok\": \"1932-01-01T00:00:00\", \"041_h\": 27}, {\"rok\": \"1926-01-01T00:00:00\", \"041_h\": 28}, {\"rok\": \"1962-01-01T00:00:00\", \"041_h\": 38}, {\"rok\": \"1953-01-01T00:00:00\", \"041_h\": 32}, {\"rok\": \"1944-01-01T00:00:00\", \"041_h\": 16}, {\"rok\": \"1956-01-01T00:00:00\", \"041_h\": 31}, {\"rok\": \"1950-01-01T00:00:00\", \"041_h\": 26}, {\"rok\": \"1959-01-01T00:00:00\", \"041_h\": 43}, {\"rok\": \"1947-01-01T00:00:00\", \"041_h\": 34}, {\"rok\": \"1965-01-01T00:00:00\", \"041_h\": 35}]}}, {\"mode\": \"vega-lite\"});\n",
       "</script>"
      ],
      "text/plain": [
       "alt.Chart(...)"
      ]
     },
     "execution_count": 57,
     "metadata": {},
     "output_type": "execute_result"
    }
   ],
   "source": [
    "pocty_jazyku = alt.Chart(\n",
    "    alt_friendly(do_grafu.filter(pl.col('rok').is_between(1850,2024))),\n",
    "    title=[\"Z kolika různých cizích jazyků vyšly knižní překlady\"],\n",
    "    width=kredity['sirka'],\n",
    "    height=kredity['vyska_nizkych']\n",
    ").mark_bar(width=1.5, color='#70871E').encode(\n",
    "    alt.X(\"rok:T\", title=None, axis=alt.Axis(domainOpacity=0, tickColor='#DCDDD6')),\n",
    "    alt.Y(\"041_h:Q\", title=None, axis=alt.Axis(domainOpacity=0, tickColor='#DCDDD6', orient='right'))\n",
    ").configure_view(\n",
    "    stroke='transparent'\n",
    ").configure_axisX(\n",
    "    grid=False, domain=False\n",
    ")\n",
    "\n",
    "pocty_jazyku"
   ]
  },
  {
   "cell_type": "code",
   "execution_count": 59,
   "id": "5aaa5565-90d9-4d6e-8c2b-3e4a85b229fb",
   "metadata": {},
   "outputs": [
    {
     "name": "stdout",
     "output_type": "stream",
     "text": [
      "<figure>\n",
      "    <a href=\"https://data.irozhlas.cz/knihy-grafy/04_pocty_jazyku.svg\" target=\"_blank\">\n",
      "    <img src=\"https://data.irozhlas.cz/knihy-grafy/04_pocty_jazyku.svg\" width=\"100%\" alt=\"Omlouváme se, ale alternativní text se nepodařilo vygenerovat. Texty v grafu by měly být čitelné ze zdrojového souboru SVG.\" />\n",
      "    </a>\n",
      "    </figure>\n"
     ]
    }
   ],
   "source": [
    "me_to_neurazi(pocty_jazyku, soubor='04_pocty_jazyku', kredity=kredity['default'])"
   ]
  }
 ],
 "metadata": {
  "kernelspec": {
   "display_name": "Python 3 (ipykernel)",
   "language": "python",
   "name": "python3"
  },
  "language_info": {
   "codemirror_mode": {
    "name": "ipython",
    "version": 3
   },
   "file_extension": ".py",
   "mimetype": "text/x-python",
   "name": "python",
   "nbconvert_exporter": "python",
   "pygments_lexer": "ipython3",
   "version": "3.12.3"
  }
 },
 "nbformat": 4,
 "nbformat_minor": 5
}
