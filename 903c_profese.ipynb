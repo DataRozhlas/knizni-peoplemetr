{
 "cells": [
  {
   "cell_type": "code",
   "execution_count": 3,
   "id": "b8e31b03-69fa-487c-94a5-ce38949db0b8",
   "metadata": {},
   "outputs": [
    {
     "data": {
      "text/plain": [
       "<polars.config.Config at 0x1d19e6b2030>"
      ]
     },
     "execution_count": 3,
     "metadata": {},
     "output_type": "execute_result"
    }
   ],
   "source": [
    "import os\n",
    "import polars as pl\n",
    "pl.Config(tbl_rows=100)"
   ]
  },
  {
   "cell_type": "code",
   "execution_count": 7,
   "id": "4863bb1a-d7a8-4dc0-94fc-f444e76facb4",
   "metadata": {},
   "outputs": [],
   "source": [
    "df = pl.read_parquet(os.path.join(\"data\",\"cnb_ceska_proza.parquet\")).rename({'autorstvo_kod':'100_7'})\n",
    "df = pl.concat([df, pl.read_parquet(os.path.join(\"data\",\"cnb_ceska_poezie.parquet\"))])\n",
    "spisovatelstvo = list(set(df.select(pl.col('100_7')).drop_nulls().to_series().to_list()))\n",
    "df = pl.read_parquet(os.path.join(\"data/cnb_sloupce\",\"100.parquet\"))\n",
    "df = df.filter(pl.col(\"100_7\").is_in(spisovatelstvo))\n",
    "aut = pl.read_parquet(os.path.join(\"data\",\"aut_vyber.parquet\"))"
   ]
  },
  {
   "cell_type": "code",
   "execution_count": 9,
   "id": "d3929f66-8364-4f65-8cd4-f1ca3e27694a",
   "metadata": {},
   "outputs": [
    {
     "name": "stdout",
     "output_type": "stream",
     "text": [
      "1221565\n"
     ]
    }
   ],
   "source": [
    "print(len(aut))"
   ]
  },
  {
   "cell_type": "code",
   "execution_count": 11,
   "id": "5e645620-dc39-4a5a-923d-02d815a1b015",
   "metadata": {},
   "outputs": [],
   "source": [
    "aut = aut.explode(\"370_c\").filter(pl.col(\"370_c\").str.contains(\"Česk\")).explode(\"100_7\").select([\"100_7\",\"374_a\",\"375_a\",\"678_a\"])\n",
    "df = df.join(aut, left_on=\"100_7\", right_on=\"100_7\", how=\"left\")\n",
    "df = df.join(pl.read_parquet(os.path.join(\"data/cnb_sloupce\",\"008.parquet\")), left_on=\"001\", right_on=\"001\", how=\"left\")\n",
    "df = df.join(pl.read_parquet(os.path.join(\"data/cnb_sloupce\",\"245.parquet\")), left_on=\"001\", right_on=\"001\", how=\"left\")\n",
    "df = df.join(pl.read_parquet(os.path.join(\"data/cnb_sloupce\",\"655.parquet\")), left_on=\"001\", right_on=\"001\", how=\"left\")"
   ]
  },
  {
   "cell_type": "code",
   "execution_count": 13,
   "id": "3a4f8ad2-4d1e-41be-b359-96243f589e9c",
   "metadata": {},
   "outputs": [
    {
     "name": "stdout",
     "output_type": "stream",
     "text": [
      "363824\n"
     ]
    }
   ],
   "source": [
    "print(len(aut))"
   ]
  }
 ],
 "metadata": {
  "kernelspec": {
   "display_name": "Python 3 (ipykernel)",
   "language": "python",
   "name": "python3"
  },
  "language_info": {
   "codemirror_mode": {
    "name": "ipython",
    "version": 3
   },
   "file_extension": ".py",
   "mimetype": "text/x-python",
   "name": "python",
   "nbconvert_exporter": "python",
   "pygments_lexer": "ipython3",
   "version": "3.12.3"
  }
 },
 "nbformat": 4,
 "nbformat_minor": 5
}
