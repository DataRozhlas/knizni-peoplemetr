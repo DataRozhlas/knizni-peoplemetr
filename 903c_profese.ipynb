{
 "cells": [
  {
   "cell_type": "code",
   "execution_count": 45,
   "id": "b8e31b03-69fa-487c-94a5-ce38949db0b8",
   "metadata": {},
   "outputs": [
    {
     "data": {
      "text/plain": [
       "<polars.config.Config at 0x189b76fdc70>"
      ]
     },
     "execution_count": 45,
     "metadata": {},
     "output_type": "execute_result"
    }
   ],
   "source": [
    "import os\n",
    "import polars as pl\n",
    "pl.Config(tbl_rows=100)"
   ]
  },
  {
   "cell_type": "code",
   "execution_count": 46,
   "id": "4863bb1a-d7a8-4dc0-94fc-f444e76facb4",
   "metadata": {},
   "outputs": [],
   "source": [
    "df = pl.read_parquet(os.path.join(\"data\",\"cnb_ceska_proza.parquet\")).rename({'autorstvo_kod':'100_7'})\n",
    "df = pl.concat([df, pl.read_parquet(os.path.join(\"data\",\"cnb_ceska_poezie.parquet\"))])\n",
    "spisovatelstvo = list(set(df.select(pl.col('100_7')).drop_nulls().to_series().to_list()))\n",
    "df = pl.read_parquet(os.path.join(\"data/cnb_sloupce\",\"100.parquet\"))\n",
    "df = df.filter(pl.col(\"100_7\").is_in(spisovatelstvo))\n",
    "aut = pl.read_parquet(os.path.join(\"data\",\"aut_vyber.parquet\"))"
   ]
  },
  {
   "cell_type": "code",
   "execution_count": 47,
   "id": "d3929f66-8364-4f65-8cd4-f1ca3e27694a",
   "metadata": {},
   "outputs": [
    {
     "name": "stdout",
     "output_type": "stream",
     "text": [
      "1222398\n"
     ]
    }
   ],
   "source": [
    "print(len(aut))"
   ]
  },
  {
   "cell_type": "code",
   "execution_count": 48,
   "id": "5e645620-dc39-4a5a-923d-02d815a1b015",
   "metadata": {},
   "outputs": [],
   "source": [
    "aut = aut.explode(\"370_c\").filter(pl.col(\"370_c\").str.contains(\"Česk\")).explode(\"100_7\").select([\"100_7\",\"374_a\",\"375_a\",\"678_a\"])\n",
    "df = df.join(aut, left_on=\"100_7\", right_on=\"100_7\", how=\"left\")\n",
    "df = df.join(pl.read_parquet(os.path.join(\"data/cnb_sloupce\",\"008.parquet\")), left_on=\"001\", right_on=\"001\", how=\"left\")\n",
    "df = df.join(pl.read_parquet(os.path.join(\"data/cnb_sloupce\",\"245.parquet\")), left_on=\"001\", right_on=\"001\", how=\"left\")\n",
    "df = df.join(pl.read_parquet(os.path.join(\"data/cnb_sloupce\",\"655.parquet\")), left_on=\"001\", right_on=\"001\", how=\"left\")"
   ]
  },
  {
   "cell_type": "code",
   "execution_count": 49,
   "id": "3a4f8ad2-4d1e-41be-b359-96243f589e9c",
   "metadata": {},
   "outputs": [
    {
     "name": "stdout",
     "output_type": "stream",
     "text": [
      "363993\n"
     ]
    }
   ],
   "source": [
    "print(len(aut))"
   ]
  },
  {
   "cell_type": "code",
   "execution_count": 50,
   "id": "c0aa3e21-8638-4572-999a-78c43d40ce13",
   "metadata": {},
   "outputs": [
    {
     "name": "stdout",
     "output_type": "stream",
     "text": [
      "794838\n",
      "711787\n"
     ]
    }
   ],
   "source": [
    "import os\n",
    "import datetime\n",
    "import warnings\n",
    "import polars as pl\n",
    "import pandas as pd\n",
    "import altair as alt\n",
    "\n",
    "from src.najdi_rok import najdi_rok\n",
    "from src.pocet_stran import pocet_stran\n",
    "from src.bez_bordelu import bez_bordelu\n",
    "from src.alt_friendly import alt_friendly\n",
    "from src.hezke_jmeno import hezke_jmeno\n",
    "from src.kristi_promin import kristi_promin\n",
    "from src.zjisti_vazbu import zjisti_vazbu\n",
    "\n",
    "df = pl.read_parquet(os.path.join(\"data/cnb_sloupce\",\"100.parquet\"))\n",
    "df = df.join(pl.read_parquet(os.path.join(\"data/cnb_sloupce\",\"leader.parquet\")), left_on=\"001\", right_on=\"001\", how=\"left\")\n",
    "df = df.join(pl.read_parquet(os.path.join(\"data/cnb_sloupce\",\"008.parquet\")), left_on=\"001\", right_on=\"001\", how=\"left\")\n",
    "df = df.to_pandas()\n",
    "df = df[df[\"leader\"].str[6].isin([\"a\", \"t\"])]\n",
    "df = df[~df[\"leader\"].str[7].isin([\"b\", \"i\", \"s\", \" \"])]\n",
    "df = df[(df[\"008\"].str[15:17] == \"xr\") & (df[\"008\"].str[35:38] == \"cze\")]\n",
    "df = pl.from_pandas(df)\n",
    "df = df.join(pl.read_parquet(os.path.join(\"data/cnb_sloupce\",\"020.parquet\")), left_on=\"001\", right_on=\"001\", how=\"left\")\n",
    "df = df.join(pl.read_parquet(os.path.join(\"data/cnb_sloupce\",\"022.parquet\")), left_on=\"001\", right_on=\"001\", how=\"left\")\n",
    "df = df.join(pl.read_parquet(os.path.join(\"data/cnb_sloupce\",\"245.parquet\")), left_on=\"001\", right_on=\"001\", how=\"left\")\n",
    "df = df.join(pl.read_parquet(os.path.join(\"data/cnb_sloupce\",\"300.parquet\")), left_on=\"001\", right_on=\"001\", how=\"left\")\n",
    "df = df.join(pl.read_parquet(os.path.join(\"data/cnb_sloupce\",\"655.parquet\")), left_on=\"001\", right_on=\"001\", how=\"left\")\n",
    "df = df.join(pl.read_parquet(os.path.join(\"data/cnb_sloupce\",\"700.parquet\")), left_on=\"001\", right_on=\"001\", how=\"left\")\n",
    "df = df.explode(\"022_a\").filter(pl.col(\"022_a\").is_null())\n",
    "df = df.with_columns(pl.col('008').map_elements(najdi_rok, return_dtype=int).alias('rok'))\n",
    "df = df.with_columns(pl.col('300_a').map_elements(pocet_stran, return_dtype=int).alias('stran'))\n",
    "df = df.with_columns(pl.col('245_a').map_elements(bez_bordelu, return_dtype=str))\n",
    "df = df.explode(\"020_q\").with_columns(pl.col(\"020_q\").map_elements(zjisti_vazbu, return_dtype=str).alias('vazba'))\n",
    "df = df.explode('245_p').with_columns(pl.col('245_p').map_elements(bez_bordelu, return_dtype=str))\n",
    "print(len(df))\n",
    "\n",
    "df = df.filter((~pl.col(\"245_h\").str.contains(\"grafika\")) | pl.col(\"245_h\").is_null()).unique(subset=[\"008\",\"100_a\",\"245_a\",\"245_p\"], keep=\"first\")\n",
    "print(len(df))"
   ]
  },
  {
   "cell_type": "code",
   "execution_count": 51,
   "id": "5ff35785-0772-46bd-b1f7-600e434d5dea",
   "metadata": {},
   "outputs": [],
   "source": [
    "df = df.drop_nulls(subset=[\"700_7\", \"700_4\", \"700_a\"]).explode([\"700_7\", \"700_4\", \"700_a\"])"
   ]
  },
  {
   "cell_type": "code",
   "execution_count": 67,
   "id": "92d97e58-29f8-4fe8-b125-16e7d66bc9dc",
   "metadata": {},
   "outputs": [],
   "source": [
    "import json"
   ]
  },
  {
   "cell_type": "code",
   "execution_count": 71,
   "id": "6be3894c-adeb-4f64-8fbb-00450d159b36",
   "metadata": {},
   "outputs": [],
   "source": [
    "with open(os.path.join(\"data\",\"marc_zkratky.json\"),\"r\",encoding=\"utf-8\") as f:\n",
    "    zkratky = json.loads(f.read())"
   ]
  },
  {
   "cell_type": "code",
   "execution_count": 75,
   "id": "68cc9d64-dcde-4c35-8e33-842830c57abd",
   "metadata": {},
   "outputs": [],
   "source": [
    "df = df.with_columns(pl.col(\"700_4\").replace(zkratky))"
   ]
  },
  {
   "cell_type": "code",
   "execution_count": 77,
   "id": "bdc81830-06e3-4e6d-87ad-65d01c48facb",
   "metadata": {},
   "outputs": [
    {
     "data": {
      "text/html": [
       "<div><style>\n",
       ".dataframe > thead > tr,\n",
       ".dataframe > tbody > tr {\n",
       "  text-align: right;\n",
       "  white-space: pre-wrap;\n",
       "}\n",
       "</style>\n",
       "<small>shape: (125_238, 3)</small><table border=\"1\" class=\"dataframe\"><thead><tr><th>700_a</th><th>700_7</th><th>700_4</th></tr><tr><td>str</td><td>str</td><td>u32</td></tr></thead><tbody><tr><td>&quot;Werich, Jan,&quot;</td><td>&quot;jk01151601&quot;</td><td>14</td></tr><tr><td>&quot;Svolinský, Karel,&quot;</td><td>&quot;jk01122138&quot;</td><td>14</td></tr><tr><td>&quot;Martinková, Věra,&quot;</td><td>&quot;jn20000401743&quot;</td><td>13</td></tr><tr><td>&quot;Bouda, Cyril,&quot;</td><td>&quot;jk01012795&quot;</td><td>13</td></tr><tr><td>&quot;Dyrynk, Martin,&quot;</td><td>&quot;jk01030272&quot;</td><td>12</td></tr><tr><td>&quot;Brunner, Vratislav Hugo,&quot;</td><td>&quot;jk01013327&quot;</td><td>11</td></tr><tr><td>&quot;Teige, Karel,&quot;</td><td>&quot;jk01132144&quot;</td><td>11</td></tr><tr><td>&quot;Hrubín, František,&quot;</td><td>&quot;jk01042920&quot;</td><td>10</td></tr><tr><td>&quot;Seifert, Jaroslav,&quot;</td><td>&quot;jk01110657&quot;</td><td>10</td></tr><tr><td>&quot;Cílek, Václav,&quot;</td><td>&quot;jo20000080776&quot;</td><td>10</td></tr><tr><td>&quot;Muzika, František,&quot;</td><td>&quot;jk01082556&quot;</td><td>10</td></tr><tr><td>&quot;Dvořák, František,&quot;</td><td>&quot;jk01030088&quot;</td><td>10</td></tr><tr><td>&quot;Novotný, Miloslav,&quot;</td><td>&quot;jk01090746&quot;</td><td>10</td></tr><tr><td>&quot;Fischer, Otokar,&quot;</td><td>&quot;jk01031286&quot;</td><td>10</td></tr><tr><td>&quot;Chvála, Alois,&quot;</td><td>&quot;jk01050407&quot;</td><td>10</td></tr><tr><td>&quot;Wenig, Adolf,&quot;</td><td>&quot;jk01151571&quot;</td><td>10</td></tr><tr><td>&quot;Čapek, Josef,&quot;</td><td>&quot;jk01021020&quot;</td><td>10</td></tr><tr><td>&quot;Váchal, Josef,&quot;</td><td>&quot;jk01141125&quot;</td><td>10</td></tr><tr><td>&quot;Růt, Pavel,&quot;</td><td>&quot;mzk2003175610&quot;</td><td>10</td></tr><tr><td>&quot;Zábrana, Jan,&quot;</td><td>&quot;jz8001457&quot;</td><td>10</td></tr><tr><td>&quot;Viener, Vladimír,&quot;</td><td>&quot;jn20010309235&quot;</td><td>9</td></tr><tr><td>&quot;Hartmanová, Alena,&quot;</td><td>&quot;jk01040068&quot;</td><td>9</td></tr><tr><td>&quot;Vrchlický, Jaroslav,&quot;</td><td>&quot;jk01151037&quot;</td><td>9</td></tr><tr><td>&quot;Kolář, Jiří,&quot;</td><td>&quot;jk01061244&quot;</td><td>9</td></tr><tr><td>&quot;Burian, Emil František,&quot;</td><td>&quot;jk01020348&quot;</td><td>9</td></tr><tr><td>&quot;Očadlík, Mirko,&quot;</td><td>&quot;jk01090940&quot;</td><td>9</td></tr><tr><td>&quot;Sutnar, Ladislav,&quot;</td><td>&quot;jk01121812&quot;</td><td>9</td></tr><tr><td>&quot;Vrbová, Hana,&quot;</td><td>&quot;jk01151014&quot;</td><td>9</td></tr><tr><td>&quot;Kopecký, Jan,&quot;</td><td>&quot;jk01061662&quot;</td><td>9</td></tr><tr><td>&quot;Drtina, Luboš,&quot;</td><td>&quot;jo2003193234&quot;</td><td>9</td></tr><tr><td>&quot;Komárek, Vladimír,&quot;</td><td>&quot;jk01061431&quot;</td><td>9</td></tr><tr><td>&quot;Doležal, Miloš,&quot;</td><td>&quot;jn19990218015&quot;</td><td>8</td></tr><tr><td>&quot;Konůpek, Jan,&quot;</td><td>&quot;jk01061578&quot;</td><td>8</td></tr><tr><td>&quot;Dvořák, Karel,&quot;</td><td>&quot;jk01030156&quot;</td><td>8</td></tr><tr><td>&quot;Picka, Jaroslav,&quot;</td><td>&quot;jk01092980&quot;</td><td>8</td></tr><tr><td>&quot;Fárová, Anna,&quot;</td><td>&quot;jk01030769&quot;</td><td>8</td></tr><tr><td>&quot;Sekanina, František,&quot;</td><td>&quot;jk01110682&quot;</td><td>8</td></tr><tr><td>&quot;Mohyla, Otakar,&quot;</td><td>&quot;jk01081956&quot;</td><td>8</td></tr><tr><td>&quot;Žáček, Jiří,&quot;</td><td>&quot;jk01152946&quot;</td><td>8</td></tr><tr><td>&quot;Formáčková, Marie,&quot;</td><td>&quot;jn20000400712&quot;</td><td>8</td></tr><tr><td>&quot;Kotalík, Jiří,&quot;</td><td>&quot;jk01062111&quot;</td><td>8</td></tr><tr><td>&quot;Brabec, Jiří,&quot;</td><td>&quot;jk01012890&quot;</td><td>8</td></tr><tr><td>&quot;Dorůžka, Lubomír,&quot;</td><td>&quot;jk01022747&quot;</td><td>8</td></tr><tr><td>&quot;Masaryk, Tomáš Garrigue,&quot;</td><td>&quot;jk01080472&quot;</td><td>8</td></tr><tr><td>&quot;Kopáč, Radim,&quot;</td><td>&quot;jo20000080604&quot;</td><td>8</td></tr><tr><td>&quot;Hiršal, Josef,&quot;</td><td>&quot;jk01041094&quot;</td><td>8</td></tr><tr><td>&quot;Král, Petr,&quot;</td><td>&quot;jk01062798&quot;</td><td>8</td></tr><tr><td>&quot;Kvapil, Jaroslav,&quot;</td><td>&quot;jk01071151&quot;</td><td>8</td></tr><tr><td>&quot;Štorm, František,&quot;</td><td>&quot;xx0013739&quot;</td><td>8</td></tr><tr><td>&quot;Hájek, Jiří,&quot;</td><td>&quot;jk01033050&quot;</td><td>8</td></tr><tr><td>&hellip;</td><td>&hellip;</td><td>&hellip;</td></tr><tr><td>&quot;Sláma, Ivo,&quot;</td><td>&quot;xx0038357&quot;</td><td>1</td></tr><tr><td>&quot;Trávníček, Zdeněk,&quot;</td><td>&quot;ola2004209199&quot;</td><td>1</td></tr><tr><td>&quot;Sebők, Imre&quot;</td><td>null</td><td>1</td></tr><tr><td>&quot;Vaňák, František,&quot;</td><td>&quot;jn99240001249&quot;</td><td>1</td></tr><tr><td>&quot;Vaněk, Jan,&quot;</td><td>&quot;jo2012682565&quot;</td><td>1</td></tr><tr><td>&quot;Sang, An&quot;</td><td>&quot;xx0236616&quot;</td><td>1</td></tr><tr><td>&quot;Dočekal, Petr,&quot;</td><td>&quot;jn20001103563&quot;</td><td>1</td></tr><tr><td>&quot;Chudáček, Zdeněk,&quot;</td><td>&quot;jn20000710020&quot;</td><td>1</td></tr><tr><td>&quot;Všetičková, Gabriela,&quot;</td><td>&quot;xx0237237&quot;</td><td>1</td></tr><tr><td>&quot;Dolenská, Kateřina,&quot;</td><td>&quot;xx0155650&quot;</td><td>1</td></tr><tr><td>&quot;Čermáková, Růžena&quot;</td><td>&quot;jk01021375&quot;</td><td>1</td></tr><tr><td>&quot;Václavek, Ludvík,&quot;</td><td>&quot;jk01141031&quot;</td><td>1</td></tr><tr><td>&quot;Bergmannová, Anna,&quot;</td><td>&quot;hka20191033880&quot;</td><td>1</td></tr><tr><td>&quot;Lávička, Tomáš&quot;</td><td>&quot;ola20191026091&quot;</td><td>1</td></tr><tr><td>&quot;Prusák, Jozef,&quot;</td><td>&quot;mzk2003196543&quot;</td><td>1</td></tr><tr><td>&quot;Rhoden, Emmy von,&quot;</td><td>&quot;jx20070718015&quot;</td><td>1</td></tr><tr><td>&quot;Poláková, Zuzana,&quot;</td><td>&quot;xx0306118&quot;</td><td>1</td></tr><tr><td>&quot;Langová, Marta,&quot;</td><td>&quot;nlk19990073486&quot;</td><td>1</td></tr><tr><td>&quot;Janoška, Miloš,&quot;</td><td>&quot;ola2003193714&quot;</td><td>1</td></tr><tr><td>&quot;Kovářová, Jana&quot;</td><td>&quot;mzk2012727913&quot;</td><td>1</td></tr><tr><td>&quot;Kreuzer, Johann,&quot;</td><td>&quot;jn20000603557&quot;</td><td>1</td></tr><tr><td>&quot;Dostál, Pavel,&quot;</td><td>&quot;jk01022815&quot;</td><td>1</td></tr><tr><td>&quot;Žákovič, Robert,&quot;</td><td>&quot;jo2002105720&quot;</td><td>1</td></tr><tr><td>&quot;Abano d&#x27;,&quot;</td><td>&quot;nlk19990074819&quot;</td><td>1</td></tr><tr><td>&quot;Altmann, Joachim&quot;</td><td>&quot;xx0256492&quot;</td><td>1</td></tr><tr><td>&quot;Ráž, Zdeněk,&quot;</td><td>&quot;mzk2013794802&quot;</td><td>1</td></tr><tr><td>&quot;Hýnar, Stanislav&quot;</td><td>null</td><td>1</td></tr><tr><td>&quot;Wall, Mick&quot;</td><td>&quot;xx0037123&quot;</td><td>1</td></tr><tr><td>&quot;Neuhauser, Walter&quot;</td><td>&quot;jx20040722038&quot;</td><td>1</td></tr><tr><td>&quot;Dittmann, Johann,&quot;</td><td>&quot;xx0020037&quot;</td><td>1</td></tr><tr><td>&quot;Vejnar, Lubomír,&quot;</td><td>&quot;jk01141922&quot;</td><td>1</td></tr><tr><td>&quot;Scarfoglio, Carlo,&quot;</td><td>&quot;vse20191044556&quot;</td><td>1</td></tr><tr><td>&quot;Osvald, Josef&quot;</td><td>&quot;jx20100203023&quot;</td><td>1</td></tr><tr><td>&quot;Tippner, Jan,&quot;</td><td>&quot;jo2016921928&quot;</td><td>1</td></tr><tr><td>&quot;Perlaki, Ivan,&quot;</td><td>&quot;jx20041208051&quot;</td><td>1</td></tr><tr><td>&quot;Voráčová, Marta&quot;</td><td>&quot;ola2005262719&quot;</td><td>1</td></tr><tr><td>&quot;Hvízdal, Josef,&quot;</td><td>&quot;xx0239625&quot;</td><td>1</td></tr><tr><td>&quot;Richterová, Daniela&quot;</td><td>&quot;ola2006345322&quot;</td><td>1</td></tr><tr><td>&quot;Christian, František,&quot;</td><td>&quot;xx0198561&quot;</td><td>1</td></tr><tr><td>&quot;Lančová, Renata,&quot;</td><td>&quot;ola20050524001&quot;</td><td>1</td></tr><tr><td>&quot;Mokrý, Jan&quot;</td><td>&quot;xx0052291&quot;</td><td>1</td></tr><tr><td>&quot;Kasicki, Stefan&quot;</td><td>null</td><td>1</td></tr><tr><td>&quot;Hlinková, Edita,&quot;</td><td>&quot;xx0132297&quot;</td><td>1</td></tr><tr><td>&quot;Pospíšková, Hana&quot;</td><td>null</td><td>1</td></tr><tr><td>&quot;Balej, Martin,&quot;</td><td>&quot;ola2004217074&quot;</td><td>1</td></tr><tr><td>&quot;Nováková, Zuzana,&quot;</td><td>&quot;mzk2007390440&quot;</td><td>1</td></tr><tr><td>&quot;Dvořák, Viktor,&quot;</td><td>&quot;ola2015885776&quot;</td><td>1</td></tr><tr><td>&quot;Klimt, Alena&quot;</td><td>&quot;mzk20241228288&quot;</td><td>1</td></tr><tr><td>&quot;Huelle, Paweł,&quot;</td><td>&quot;jn20030526004&quot;</td><td>1</td></tr><tr><td>&quot;Bělka, Ivo&quot;</td><td>null</td><td>1</td></tr></tbody></table></div>"
      ],
      "text/plain": [
       "shape: (125_238, 3)\n",
       "┌──────────────────────────┬────────────────┬───────┐\n",
       "│ 700_a                    ┆ 700_7          ┆ 700_4 │\n",
       "│ ---                      ┆ ---            ┆ ---   │\n",
       "│ str                      ┆ str            ┆ u32   │\n",
       "╞══════════════════════════╪════════════════╪═══════╡\n",
       "│ Werich, Jan,             ┆ jk01151601     ┆ 14    │\n",
       "│ Svolinský, Karel,        ┆ jk01122138     ┆ 14    │\n",
       "│ Martinková, Věra,        ┆ jn20000401743  ┆ 13    │\n",
       "│ Bouda, Cyril,            ┆ jk01012795     ┆ 13    │\n",
       "│ Dyrynk, Martin,          ┆ jk01030272     ┆ 12    │\n",
       "│ Brunner, Vratislav Hugo, ┆ jk01013327     ┆ 11    │\n",
       "│ Teige, Karel,            ┆ jk01132144     ┆ 11    │\n",
       "│ Hrubín, František,       ┆ jk01042920     ┆ 10    │\n",
       "│ Seifert, Jaroslav,       ┆ jk01110657     ┆ 10    │\n",
       "│ Cílek, Václav,           ┆ jo20000080776  ┆ 10    │\n",
       "│ Muzika, František,       ┆ jk01082556     ┆ 10    │\n",
       "│ Dvořák, František,       ┆ jk01030088     ┆ 10    │\n",
       "│ Novotný, Miloslav,       ┆ jk01090746     ┆ 10    │\n",
       "│ Fischer, Otokar,         ┆ jk01031286     ┆ 10    │\n",
       "│ Chvála, Alois,           ┆ jk01050407     ┆ 10    │\n",
       "│ Wenig, Adolf,            ┆ jk01151571     ┆ 10    │\n",
       "│ Čapek, Josef,            ┆ jk01021020     ┆ 10    │\n",
       "│ Váchal, Josef,           ┆ jk01141125     ┆ 10    │\n",
       "│ Růt, Pavel,              ┆ mzk2003175610  ┆ 10    │\n",
       "│ Zábrana, Jan,            ┆ jz8001457      ┆ 10    │\n",
       "│ Viener, Vladimír,        ┆ jn20010309235  ┆ 9     │\n",
       "│ Hartmanová, Alena,       ┆ jk01040068     ┆ 9     │\n",
       "│ Vrchlický, Jaroslav,     ┆ jk01151037     ┆ 9     │\n",
       "│ Kolář, Jiří,             ┆ jk01061244     ┆ 9     │\n",
       "│ Burian, Emil František,  ┆ jk01020348     ┆ 9     │\n",
       "│ Očadlík, Mirko,          ┆ jk01090940     ┆ 9     │\n",
       "│ Sutnar, Ladislav,        ┆ jk01121812     ┆ 9     │\n",
       "│ Vrbová, Hana,            ┆ jk01151014     ┆ 9     │\n",
       "│ Kopecký, Jan,            ┆ jk01061662     ┆ 9     │\n",
       "│ Drtina, Luboš,           ┆ jo2003193234   ┆ 9     │\n",
       "│ Komárek, Vladimír,       ┆ jk01061431     ┆ 9     │\n",
       "│ Doležal, Miloš,          ┆ jn19990218015  ┆ 8     │\n",
       "│ Konůpek, Jan,            ┆ jk01061578     ┆ 8     │\n",
       "│ Dvořák, Karel,           ┆ jk01030156     ┆ 8     │\n",
       "│ Picka, Jaroslav,         ┆ jk01092980     ┆ 8     │\n",
       "│ Fárová, Anna,            ┆ jk01030769     ┆ 8     │\n",
       "│ Sekanina, František,     ┆ jk01110682     ┆ 8     │\n",
       "│ Mohyla, Otakar,          ┆ jk01081956     ┆ 8     │\n",
       "│ Žáček, Jiří,             ┆ jk01152946     ┆ 8     │\n",
       "│ Formáčková, Marie,       ┆ jn20000400712  ┆ 8     │\n",
       "│ Kotalík, Jiří,           ┆ jk01062111     ┆ 8     │\n",
       "│ Brabec, Jiří,            ┆ jk01012890     ┆ 8     │\n",
       "│ Dorůžka, Lubomír,        ┆ jk01022747     ┆ 8     │\n",
       "│ Masaryk, Tomáš Garrigue, ┆ jk01080472     ┆ 8     │\n",
       "│ Kopáč, Radim,            ┆ jo20000080604  ┆ 8     │\n",
       "│ Hiršal, Josef,           ┆ jk01041094     ┆ 8     │\n",
       "│ Král, Petr,              ┆ jk01062798     ┆ 8     │\n",
       "│ Kvapil, Jaroslav,        ┆ jk01071151     ┆ 8     │\n",
       "│ Štorm, František,        ┆ xx0013739      ┆ 8     │\n",
       "│ Hájek, Jiří,             ┆ jk01033050     ┆ 8     │\n",
       "│ …                        ┆ …              ┆ …     │\n",
       "│ Sláma, Ivo,              ┆ xx0038357      ┆ 1     │\n",
       "│ Trávníček, Zdeněk,       ┆ ola2004209199  ┆ 1     │\n",
       "│ Sebők, Imre              ┆ null           ┆ 1     │\n",
       "│ Vaňák, František,        ┆ jn99240001249  ┆ 1     │\n",
       "│ Vaněk, Jan,              ┆ jo2012682565   ┆ 1     │\n",
       "│ Sang, An                 ┆ xx0236616      ┆ 1     │\n",
       "│ Dočekal, Petr,           ┆ jn20001103563  ┆ 1     │\n",
       "│ Chudáček, Zdeněk,        ┆ jn20000710020  ┆ 1     │\n",
       "│ Všetičková, Gabriela,    ┆ xx0237237      ┆ 1     │\n",
       "│ Dolenská, Kateřina,      ┆ xx0155650      ┆ 1     │\n",
       "│ Čermáková, Růžena        ┆ jk01021375     ┆ 1     │\n",
       "│ Václavek, Ludvík,        ┆ jk01141031     ┆ 1     │\n",
       "│ Bergmannová, Anna,       ┆ hka20191033880 ┆ 1     │\n",
       "│ Lávička, Tomáš           ┆ ola20191026091 ┆ 1     │\n",
       "│ Prusák, Jozef,           ┆ mzk2003196543  ┆ 1     │\n",
       "│ Rhoden, Emmy von,        ┆ jx20070718015  ┆ 1     │\n",
       "│ Poláková, Zuzana,        ┆ xx0306118      ┆ 1     │\n",
       "│ Langová, Marta,          ┆ nlk19990073486 ┆ 1     │\n",
       "│ Janoška, Miloš,          ┆ ola2003193714  ┆ 1     │\n",
       "│ Kovářová, Jana           ┆ mzk2012727913  ┆ 1     │\n",
       "│ Kreuzer, Johann,         ┆ jn20000603557  ┆ 1     │\n",
       "│ Dostál, Pavel,           ┆ jk01022815     ┆ 1     │\n",
       "│ Žákovič, Robert,         ┆ jo2002105720   ┆ 1     │\n",
       "│ Abano d',                ┆ nlk19990074819 ┆ 1     │\n",
       "│ Altmann, Joachim         ┆ xx0256492      ┆ 1     │\n",
       "│ Ráž, Zdeněk,             ┆ mzk2013794802  ┆ 1     │\n",
       "│ Hýnar, Stanislav         ┆ null           ┆ 1     │\n",
       "│ Wall, Mick               ┆ xx0037123      ┆ 1     │\n",
       "│ Neuhauser, Walter        ┆ jx20040722038  ┆ 1     │\n",
       "│ Dittmann, Johann,        ┆ xx0020037      ┆ 1     │\n",
       "│ Vejnar, Lubomír,         ┆ jk01141922     ┆ 1     │\n",
       "│ Scarfoglio, Carlo,       ┆ vse20191044556 ┆ 1     │\n",
       "│ Osvald, Josef            ┆ jx20100203023  ┆ 1     │\n",
       "│ Tippner, Jan,            ┆ jo2016921928   ┆ 1     │\n",
       "│ Perlaki, Ivan,           ┆ jx20041208051  ┆ 1     │\n",
       "│ Voráčová, Marta          ┆ ola2005262719  ┆ 1     │\n",
       "│ Hvízdal, Josef,          ┆ xx0239625      ┆ 1     │\n",
       "│ Richterová, Daniela      ┆ ola2006345322  ┆ 1     │\n",
       "│ Christian, František,    ┆ xx0198561      ┆ 1     │\n",
       "│ Lančová, Renata,         ┆ ola20050524001 ┆ 1     │\n",
       "│ Mokrý, Jan               ┆ xx0052291      ┆ 1     │\n",
       "│ Kasicki, Stefan          ┆ null           ┆ 1     │\n",
       "│ Hlinková, Edita,         ┆ xx0132297      ┆ 1     │\n",
       "│ Pospíšková, Hana         ┆ null           ┆ 1     │\n",
       "│ Balej, Martin,           ┆ ola2004217074  ┆ 1     │\n",
       "│ Nováková, Zuzana,        ┆ mzk2007390440  ┆ 1     │\n",
       "│ Dvořák, Viktor,          ┆ ola2015885776  ┆ 1     │\n",
       "│ Klimt, Alena             ┆ mzk20241228288 ┆ 1     │\n",
       "│ Huelle, Paweł,           ┆ jn20030526004  ┆ 1     │\n",
       "│ Bělka, Ivo               ┆ null           ┆ 1     │\n",
       "└──────────────────────────┴────────────────┴───────┘"
      ]
     },
     "execution_count": 77,
     "metadata": {},
     "output_type": "execute_result"
    }
   ],
   "source": [
    "df.group_by(['700_a','700_7']).agg(pl.col('700_4').unique().len()).sort(by='700_4',descending=True)"
   ]
  },
  {
   "cell_type": "code",
   "execution_count": 79,
   "id": "f8afd04c-34bc-45a5-be9f-7246928f3a34",
   "metadata": {},
   "outputs": [
    {
     "data": {
      "text/html": [
       "<div><style>\n",
       ".dataframe > thead > tr,\n",
       ".dataframe > tbody > tr {\n",
       "  text-align: right;\n",
       "  white-space: pre-wrap;\n",
       "}\n",
       "</style>\n",
       "<small>shape: (14, 2)</small><table border=\"1\" class=\"dataframe\"><thead><tr><th>700_4</th><th>len</th></tr><tr><td>str</td><td>u32</td></tr></thead><tbody><tr><td>&quot;illustrator&quot;</td><td>180</td></tr><tr><td>&quot;artist&quot;</td><td>7</td></tr><tr><td>&quot;typographer&quot;</td><td>5</td></tr><tr><td>&quot;book designer&quot;</td><td>4</td></tr><tr><td>&quot;lithographer&quot;</td><td>2</td></tr><tr><td>&quot;author of introduction, etc.&quot;</td><td>1</td></tr><tr><td>&quot;engraver&quot;</td><td>1</td></tr><tr><td>&quot;wood engraver&quot;</td><td>1</td></tr><tr><td>&quot;bookjacket designer&quot;</td><td>1</td></tr><tr><td>&quot;author&quot;</td><td>1</td></tr><tr><td>&quot;photographer&quot;</td><td>1</td></tr><tr><td>&quot;bibliographic antecedent&quot;</td><td>1</td></tr><tr><td>&quot;adapter&quot;</td><td>1</td></tr><tr><td>&quot;other&quot;</td><td>1</td></tr></tbody></table></div>"
      ],
      "text/plain": [
       "shape: (14, 2)\n",
       "┌──────────────────────────────┬─────┐\n",
       "│ 700_4                        ┆ len │\n",
       "│ ---                          ┆ --- │\n",
       "│ str                          ┆ u32 │\n",
       "╞══════════════════════════════╪═════╡\n",
       "│ illustrator                  ┆ 180 │\n",
       "│ artist                       ┆ 7   │\n",
       "│ typographer                  ┆ 5   │\n",
       "│ book designer                ┆ 4   │\n",
       "│ lithographer                 ┆ 2   │\n",
       "│ author of introduction, etc. ┆ 1   │\n",
       "│ engraver                     ┆ 1   │\n",
       "│ wood engraver                ┆ 1   │\n",
       "│ bookjacket designer          ┆ 1   │\n",
       "│ author                       ┆ 1   │\n",
       "│ photographer                 ┆ 1   │\n",
       "│ bibliographic antecedent     ┆ 1   │\n",
       "│ adapter                      ┆ 1   │\n",
       "│ other                        ┆ 1   │\n",
       "└──────────────────────────────┴─────┘"
      ]
     },
     "execution_count": 79,
     "metadata": {},
     "output_type": "execute_result"
    }
   ],
   "source": [
    "df.filter(pl.col('700_7') == \"jk01122138\").group_by('700_4').len().sort(by='len',descending=True)"
   ]
  },
  {
   "cell_type": "code",
   "execution_count": 81,
   "id": "0cdf7ad1-7e3f-453f-a863-bd63288b3f3b",
   "metadata": {},
   "outputs": [
    {
     "data": {
      "text/html": [
       "<div><style>\n",
       ".dataframe > thead > tr,\n",
       ".dataframe > tbody > tr {\n",
       "  text-align: right;\n",
       "  white-space: pre-wrap;\n",
       "}\n",
       "</style>\n",
       "<small>shape: (14, 2)</small><table border=\"1\" class=\"dataframe\"><thead><tr><th>700_4</th><th>len</th></tr><tr><td>str</td><td>u32</td></tr></thead><tbody><tr><td>&quot;author&quot;</td><td>63</td></tr><tr><td>&quot;author of introduction, etc.&quot;</td><td>4</td></tr><tr><td>&quot;adapter&quot;</td><td>2</td></tr><tr><td>&quot;correspondent&quot;</td><td>2</td></tr><tr><td>&quot;bibliographic antecedent&quot;</td><td>2</td></tr><tr><td>&quot;author of afterword, colophon,…</td><td>2</td></tr><tr><td>&quot;editor&quot;</td><td>1</td></tr><tr><td>&quot;lyricist&quot;</td><td>1</td></tr><tr><td>&quot;contributor&quot;</td><td>1</td></tr><tr><td>&quot;addressee&quot;</td><td>1</td></tr><tr><td>&quot;other&quot;</td><td>1</td></tr><tr><td>&quot;translator&quot;</td><td>1</td></tr><tr><td>&quot;interviewee&quot;</td><td>1</td></tr><tr><td>&quot;compiler&quot;</td><td>1</td></tr></tbody></table></div>"
      ],
      "text/plain": [
       "shape: (14, 2)\n",
       "┌─────────────────────────────────┬─────┐\n",
       "│ 700_4                           ┆ len │\n",
       "│ ---                             ┆ --- │\n",
       "│ str                             ┆ u32 │\n",
       "╞═════════════════════════════════╪═════╡\n",
       "│ author                          ┆ 63  │\n",
       "│ author of introduction, etc.    ┆ 4   │\n",
       "│ adapter                         ┆ 2   │\n",
       "│ correspondent                   ┆ 2   │\n",
       "│ bibliographic antecedent        ┆ 2   │\n",
       "│ author of afterword, colophon,… ┆ 2   │\n",
       "│ editor                          ┆ 1   │\n",
       "│ lyricist                        ┆ 1   │\n",
       "│ contributor                     ┆ 1   │\n",
       "│ addressee                       ┆ 1   │\n",
       "│ other                           ┆ 1   │\n",
       "│ translator                      ┆ 1   │\n",
       "│ interviewee                     ┆ 1   │\n",
       "│ compiler                        ┆ 1   │\n",
       "└─────────────────────────────────┴─────┘"
      ]
     },
     "execution_count": 81,
     "metadata": {},
     "output_type": "execute_result"
    }
   ],
   "source": [
    "df.filter(pl.col('700_7') == \"jk01151601\").group_by('700_4').len().sort(by='len',descending=True)"
   ]
  },
  {
   "cell_type": "code",
   "execution_count": 83,
   "id": "86322540-d0ea-45b6-a9b0-9e6c1bdfd6a9",
   "metadata": {},
   "outputs": [
    {
     "data": {
      "text/html": [
       "<div><style>\n",
       ".dataframe > thead > tr,\n",
       ".dataframe > tbody > tr {\n",
       "  text-align: right;\n",
       "  white-space: pre-wrap;\n",
       "}\n",
       "</style>\n",
       "<small>shape: (13, 2)</small><table border=\"1\" class=\"dataframe\"><thead><tr><th>700_4</th><th>len</th></tr><tr><td>str</td><td>u32</td></tr></thead><tbody><tr><td>&quot;redaktor&quot;</td><td>35</td></tr><tr><td>&quot;illustrator&quot;</td><td>34</td></tr><tr><td>&quot;editor&quot;</td><td>32</td></tr><tr><td>&quot;book designer&quot;</td><td>14</td></tr><tr><td>&quot;artist&quot;</td><td>6</td></tr><tr><td>&quot;bookjacket designer&quot;</td><td>5</td></tr><tr><td>&quot;author&quot;</td><td>4</td></tr><tr><td>&quot;designer&quot;</td><td>2</td></tr><tr><td>&quot;photographer&quot;</td><td>2</td></tr><tr><td>&quot;cover designer&quot;</td><td>2</td></tr><tr><td>&quot;typographer&quot;</td><td>1</td></tr><tr><td>&quot;author of afterword, colophon,…</td><td>1</td></tr><tr><td>&quot;other&quot;</td><td>1</td></tr></tbody></table></div>"
      ],
      "text/plain": [
       "shape: (13, 2)\n",
       "┌─────────────────────────────────┬─────┐\n",
       "│ 700_4                           ┆ len │\n",
       "│ ---                             ┆ --- │\n",
       "│ str                             ┆ u32 │\n",
       "╞═════════════════════════════════╪═════╡\n",
       "│ redaktor                        ┆ 35  │\n",
       "│ illustrator                     ┆ 34  │\n",
       "│ editor                          ┆ 32  │\n",
       "│ book designer                   ┆ 14  │\n",
       "│ artist                          ┆ 6   │\n",
       "│ bookjacket designer             ┆ 5   │\n",
       "│ author                          ┆ 4   │\n",
       "│ designer                        ┆ 2   │\n",
       "│ photographer                    ┆ 2   │\n",
       "│ cover designer                  ┆ 2   │\n",
       "│ typographer                     ┆ 1   │\n",
       "│ author of afterword, colophon,… ┆ 1   │\n",
       "│ other                           ┆ 1   │\n",
       "└─────────────────────────────────┴─────┘"
      ]
     },
     "execution_count": 83,
     "metadata": {},
     "output_type": "execute_result"
    }
   ],
   "source": [
    "df.filter(pl.col('700_7') == \"jn20000401743\").group_by('700_4').len().sort(by='len',descending=True)"
   ]
  },
  {
   "cell_type": "code",
   "execution_count": 85,
   "id": "c37055ec-dc77-4bcf-aba9-ad7bd1651933",
   "metadata": {},
   "outputs": [
    {
     "data": {
      "text/html": [
       "<div><style>\n",
       ".dataframe > thead > tr,\n",
       ".dataframe > tbody > tr {\n",
       "  text-align: right;\n",
       "  white-space: pre-wrap;\n",
       "}\n",
       "</style>\n",
       "<small>shape: (13, 2)</small><table border=\"1\" class=\"dataframe\"><thead><tr><th>700_4</th><th>len</th></tr><tr><td>str</td><td>u32</td></tr></thead><tbody><tr><td>&quot;illustrator&quot;</td><td>213</td></tr><tr><td>&quot;book designer&quot;</td><td>8</td></tr><tr><td>&quot;wood engraver&quot;</td><td>7</td></tr><tr><td>&quot;artist&quot;</td><td>4</td></tr><tr><td>&quot;lithographer&quot;</td><td>4</td></tr><tr><td>&quot;bookjacket designer&quot;</td><td>3</td></tr><tr><td>&quot;binding designer&quot;</td><td>2</td></tr><tr><td>&quot;typographer&quot;</td><td>2</td></tr><tr><td>&quot;other&quot;</td><td>2</td></tr><tr><td>&quot;designer&quot;</td><td>2</td></tr><tr><td>&quot;editor&quot;</td><td>1</td></tr><tr><td>&quot;engraver&quot;</td><td>1</td></tr><tr><td>&quot;author&quot;</td><td>1</td></tr></tbody></table></div>"
      ],
      "text/plain": [
       "shape: (13, 2)\n",
       "┌─────────────────────┬─────┐\n",
       "│ 700_4               ┆ len │\n",
       "│ ---                 ┆ --- │\n",
       "│ str                 ┆ u32 │\n",
       "╞═════════════════════╪═════╡\n",
       "│ illustrator         ┆ 213 │\n",
       "│ book designer       ┆ 8   │\n",
       "│ wood engraver       ┆ 7   │\n",
       "│ artist              ┆ 4   │\n",
       "│ lithographer        ┆ 4   │\n",
       "│ bookjacket designer ┆ 3   │\n",
       "│ binding designer    ┆ 2   │\n",
       "│ typographer         ┆ 2   │\n",
       "│ other               ┆ 2   │\n",
       "│ designer            ┆ 2   │\n",
       "│ editor              ┆ 1   │\n",
       "│ engraver            ┆ 1   │\n",
       "│ author              ┆ 1   │\n",
       "└─────────────────────┴─────┘"
      ]
     },
     "execution_count": 85,
     "metadata": {},
     "output_type": "execute_result"
    }
   ],
   "source": [
    "df.filter(pl.col('700_7') == \"jk01012795\").group_by('700_4').len().sort(by='len',descending=True)"
   ]
  },
  {
   "cell_type": "code",
   "execution_count": 87,
   "id": "a61301f6-e7a8-4a8f-834d-09ffcb3a1599",
   "metadata": {},
   "outputs": [
    {
     "data": {
      "text/html": [
       "<div><style>\n",
       ".dataframe > thead > tr,\n",
       ".dataframe > tbody > tr {\n",
       "  text-align: right;\n",
       "  white-space: pre-wrap;\n",
       "}\n",
       "</style>\n",
       "<small>shape: (1, 2)</small><table border=\"1\" class=\"dataframe\"><thead><tr><th>700_4</th><th>len</th></tr><tr><td>str</td><td>u32</td></tr></thead><tbody><tr><td>&quot;translator&quot;</td><td>3</td></tr></tbody></table></div>"
      ],
      "text/plain": [
       "shape: (1, 2)\n",
       "┌────────────┬─────┐\n",
       "│ 700_4      ┆ len │\n",
       "│ ---        ┆ --- │\n",
       "│ str        ┆ u32 │\n",
       "╞════════════╪═════╡\n",
       "│ translator ┆ 3   │\n",
       "└────────────┴─────┘"
      ]
     },
     "execution_count": 87,
     "metadata": {},
     "output_type": "execute_result"
    }
   ],
   "source": [
    "df.filter(pl.col('700_7') == \"jx20100301005\").group_by('700_4').len().sort(by='len',descending=True)"
   ]
  }
 ],
 "metadata": {
  "kernelspec": {
   "display_name": "Python 3 (ipykernel)",
   "language": "python",
   "name": "python3"
  },
  "language_info": {
   "codemirror_mode": {
    "name": "ipython",
    "version": 3
   },
   "file_extension": ".py",
   "mimetype": "text/x-python",
   "name": "python",
   "nbconvert_exporter": "python",
   "pygments_lexer": "ipython3",
   "version": "3.12.3"
  }
 },
 "nbformat": 4,
 "nbformat_minor": 5
}
