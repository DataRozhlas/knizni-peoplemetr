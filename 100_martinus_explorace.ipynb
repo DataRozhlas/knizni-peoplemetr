{
 "cells": [
  {
   "cell_type": "code",
   "execution_count": 27,
   "id": "4f6d5aa8",
   "metadata": {},
   "outputs": [],
   "source": [
    "import os\n",
    "import pandas as pd"
   ]
  },
  {
   "cell_type": "code",
   "execution_count": 28,
   "id": "6b0a49a2",
   "metadata": {},
   "outputs": [],
   "source": [
    "df = pd.read_csv(os.path.join('data','martinus_vyslo.csv'))"
   ]
  },
  {
   "cell_type": "code",
   "execution_count": 14,
   "id": "12e0b36f",
   "metadata": {},
   "outputs": [
    {
     "data": {
      "text/plain": [
       "Index(['M_titul', 'M_autorstvo', 'M_anotace', 'M_počet_stran', 'M_vazba',\n",
       "       'M_rozměr', 'M_hmotnost', 'M_isbn', 'M_rok_vydání', 'M_styl', 'M_jazyk',\n",
       "       'M_původ', 'M_nakladatel', 'M_kategorizace', 'M_cena', 'M_datum',\n",
       "       'Přečtená', 'M_pro_koho', 'M_série', 'M_díl', 'E-kniha', 'M_edice',\n",
       "       'Audiokniha', 'M_věkové_doporučení', 'M_ilustrace', 'M_překlad',\n",
       "       'M_vydání', 'M_originální_název', 'M_účel_knihy', 'M_ostatní',\n",
       "       'M_filmové_zpracování', 'M_příloha', 'M_jazyková_úroveň',\n",
       "       'M_předběžné_datum_vydání', 'M_knižní_předloha'],\n",
       "      dtype='object')"
      ]
     },
     "execution_count": 14,
     "metadata": {},
     "output_type": "execute_result"
    }
   ],
   "source": [
    "df.columns"
   ]
  },
  {
   "cell_type": "code",
   "execution_count": 31,
   "id": "72cd9265",
   "metadata": {},
   "outputs": [],
   "source": [
    "df['M_hmotnost'] = pd.to_numeric(df['M_hmotnost'].apply(lambda x: str(x).replace(\" g\",\"\")), errors=\"coerce\")"
   ]
  },
  {
   "cell_type": "code",
   "execution_count": 33,
   "id": "45b38ae8",
   "metadata": {},
   "outputs": [],
   "source": [
    "def na_seznam(x):\n",
    "    x = str(x)[1:-1].replace(\"'\",\"\")\n",
    "    x = x.split(\", \")\n",
    "    return [y.strip() for y in x]"
   ]
  },
  {
   "cell_type": "code",
   "execution_count": 34,
   "id": "057a269d",
   "metadata": {},
   "outputs": [],
   "source": [
    "df['M_kategorizace'] = df['M_kategorizace'].apply(lambda x: na_seznam(x))"
   ]
  },
  {
   "cell_type": "code",
   "execution_count": 39,
   "id": "3234d42b",
   "metadata": {},
   "outputs": [
    {
     "data": {
      "text/plain": [
       "M_autorstvo\n",
       "Adéla Ebersonová Lucie Doležalová Michal Dragoun                                                       5110.0\n",
       "Lubomír Sršeň                                                                                          4642.0\n",
       "Karel Müller Michal Šimůnek Karel Podolský                                                             4459.0\n",
       "Tomáš Míček                                                                                            4366.0\n",
       "Slavena Rohlíková                                                                                      4338.0\n",
       "Miroslav Zavoral                                                                                       4288.0\n",
       "Miloslav Jenšík                                                                                        4200.0\n",
       "Helena Březinová Jana Bureš Víchová Milena Bravermanová                                                4154.0\n",
       "Marcela Titzlová                                                                                       4069.0\n",
       "Jiří Roháček Radek Lunga                                                                               3975.0\n",
       "Adéla Balcárková Jiří Macháček Michaela... Petr Dresler Renáta Přichystalová                           3934.0\n",
       "Michal Caban Šimon Caban                                                                               3692.0\n",
       "Martin Rajniš                                                                                          3441.0\n",
       "Roman Karpaš                                                                                           3430.0\n",
       "Jiří Kuthan                                                                                            3300.0\n",
       "J. Keith Nisbett Richard G. Budynas                                                                    3292.0\n",
       "Richard Biegel                                                                                         3268.0\n",
       "Jan Dungel                                                                                             3226.0\n",
       "Pavel Jirásek                                                                                          3209.0\n",
       "Vladislav Razím                                                                                        3169.0\n",
       "Eduard Burda Ivan Šimovček Jozef Čentéš Lucia Kurilovská                                               3150.0\n",
       "Bohumil Samek Kateřina Dolejší                                                                         3000.0\n",
       "Josef Baxa                                                                                             3000.0\n",
       "Karel Engliš                                                                                           2971.5\n",
       "Jiří Veselský                                                                                          2968.0\n",
       "Jana Tischerová                                                                                        2953.0\n",
       "Jan Bartoníček Michal Tuček Ondřej Naňka                                                               2940.0\n",
       "Ivan Mikuláš Karel Šťastný Tomáš Telecký Vladimír Bejček                                               2830.0\n",
       "Viktor Porada                                                                                          2808.0\n",
       "Marian Plavec                                                                                          2803.0\n",
       "Leo Bureš                                                                                              2723.0\n",
       "Karel Antonín Kavička                                                                                  2714.0\n",
       "Petr Kaňovský                                                                                          2711.0\n",
       "Tomáš Ruller                                                                                           2700.0\n",
       "Daniela Mrázková Dušan Veselý Jaroslav Kučera                                                          2658.0\n",
       "Jiří Pruša                                                                                             2620.0\n",
       "Aleš Žák Karel Lukáš kolektiv                                                                          2553.0\n",
       "Jan Županič                                                                                            2544.0\n",
       "Pavel Vlček Pavel Zahradník                                                                            2506.0\n",
       "Václav Mencl                                                                                           2504.0\n",
       "Radomil Holštejn                                                                                       2480.0\n",
       "Jana Horváthová                                                                                        2478.0\n",
       "Máša Černá Pivovarová                                                                                  2478.0\n",
       "Milan Hlavačka Miloš Hořejš                                                                            2400.0\n",
       "Edgar Dutka Eva Neumannová Hana Nováková Milica Pechánková Pavel Kořínek Pavel Ryška Tomáš Prokůpek    2376.0\n",
       "Alois Pavlůsek                                                                                         2353.0\n",
       "Hana Larvová                                                                                           2313.5\n",
       "Ján Stempel                                                                                            2280.0\n",
       "Petr Krejčí                                                                                            2270.0\n",
       "Veleslav Wahl                                                                                          2244.0\n",
       "Rudolf Ďuďa                                                                                            2227.0\n",
       "Stanislav Houzarová                                                                                    2224.0\n",
       "Jan Martínek Pavel Bolina Pavel Šlézar Václav Cílek                                                    2212.0\n",
       "Zdeněk Chromý Libor Urbančík                                                                           2210.0\n",
       "Stanislava Kučová                                                                                      2190.0\n",
       "Vojtěch Holubec                                                                                        2183.0\n",
       "Petr Klučina                                                                                           2174.0\n",
       "Josef Bosáček Petr Lapáček Petr Ovsenák                                                                2170.0\n",
       "Petr Heller                                                                                            2135.0\n",
       "Lidia Głuchowska Vojtěch Lahoda                                                                        2107.0\n",
       "Name: M_hmotnost, dtype: float64"
      ]
     },
     "execution_count": 39,
     "metadata": {},
     "output_type": "execute_result"
    }
   ],
   "source": [
    "df.groupby(\"M_autorstvo\")['M_hmotnost'].median().nlargest(60)"
   ]
  },
  {
   "cell_type": "code",
   "execution_count": 36,
   "id": "9fe008a8",
   "metadata": {},
   "outputs": [
    {
     "data": {
      "text/plain": [
       "M_kategorizace\n",
       "Urologie                           1448.5\n",
       "Praktické lékařství pro dospělé    1380.0\n",
       "Veterinární lékařství              1375.0\n",
       "Úrazová chirurgie a ortopedie      1222.0\n",
       "Oftalmologie a otolaryngologie     1186.0\n",
       "Name: M_hmotnost, dtype: float64"
      ]
     },
     "execution_count": 36,
     "metadata": {},
     "output_type": "execute_result"
    }
   ],
   "source": [
    "kategorizace = df.explode(\"M_kategorizace\")\n",
    "kategorizace.groupby(\"M_kategorizace\")['M_hmotnost'].median().nlargest()"
   ]
  },
  {
   "cell_type": "code",
   "execution_count": 25,
   "id": "24547aad",
   "metadata": {},
   "outputs": [
    {
     "data": {
      "text/plain": [
       "M_kategorizace\n",
       "['Knihy', 'Beletrie']                                                        1249\n",
       "['Knihy', 'Beletrie', 'Poezie']                                              1169\n",
       "['Knihy', 'Beletrie', 'Společenská beletrie', 'Knihy', 'Beletrie']            658\n",
       "['Knihy', 'Beletrie', 'Společenská beletrie']                                 620\n",
       "['Knihy', 'Odborné a naučné', 'Humanitní a společenské vědy', 'Historie']     364\n",
       "dtype: int64"
      ]
     },
     "execution_count": 25,
     "metadata": {},
     "output_type": "execute_result"
    }
   ],
   "source": [
    "df.groupby('M_kategorizace').size().nlargest()"
   ]
  },
  {
   "cell_type": "code",
   "execution_count": 19,
   "id": "4060d0d3",
   "metadata": {},
   "outputs": [
    {
     "data": {
      "text/plain": [
       "M_ilustrace\n",
       "Iva Hüttnerová        13\n",
       "Adolf Born            12\n",
       "Helena Zmatlíková     12\n",
       "Erika Bornová         10\n",
       "Eva Bartošová          8\n",
       "Jiří Slíva             8\n",
       "Miroslav Růžek         8\n",
       "Adéla Stopka           7\n",
       "Petr Urban             6\n",
       "Tereza Budilová        6\n",
       "Daggy                  5\n",
       "Filip Štorch           5\n",
       "Kateřina Coufalová     5\n",
       "Libor Drobný           5\n",
       "Lubomír Kupčík         5\n",
       "Richard Šmarda         5\n",
       "Tereza Basařová        5\n",
       "Andrea Tachezy         4\n",
       "Atila Vörös            4\n",
       "Barbora Kyšková        4\n",
       "dtype: int64"
      ]
     },
     "execution_count": 19,
     "metadata": {},
     "output_type": "execute_result"
    }
   ],
   "source": [
    "df.groupby('M_ilustrace').size().nlargest(20)"
   ]
  },
  {
   "cell_type": "code",
   "execution_count": 6,
   "id": "4f06f267",
   "metadata": {},
   "outputs": [
    {
     "data": {
      "text/plain": [
       "M_rok_vydání\n",
       "1989.0       1\n",
       "1997.0       1\n",
       "1998.0       1\n",
       "1999.0       1\n",
       "2000.0       1\n",
       "2001.0       2\n",
       "2002.0       6\n",
       "2003.0       2\n",
       "2004.0       1\n",
       "2005.0       9\n",
       "2006.0       4\n",
       "2007.0      10\n",
       "2008.0      12\n",
       "2009.0      15\n",
       "2010.0      18\n",
       "2011.0      23\n",
       "2012.0      28\n",
       "2013.0      32\n",
       "2014.0      33\n",
       "2015.0      47\n",
       "2016.0      68\n",
       "2017.0     501\n",
       "2018.0     671\n",
       "2019.0     816\n",
       "2020.0     741\n",
       "2021.0    2192\n",
       "2022.0    3027\n",
       "2023.0    2702\n",
       "2024.0     609\n",
       "2032.0       1\n",
       "dtype: int64"
      ]
     },
     "execution_count": 6,
     "metadata": {},
     "output_type": "execute_result"
    }
   ],
   "source": [
    "df.groupby('M_rok_vydání').size()"
   ]
  },
  {
   "cell_type": "code",
   "execution_count": 11,
   "id": "108638eb",
   "metadata": {},
   "outputs": [
    {
     "data": {
      "text/plain": [
       "<Axes: ylabel='Frequency'>"
      ]
     },
     "execution_count": 11,
     "metadata": {},
     "output_type": "execute_result"
    },
    {
     "data": {
      "image/png": "[encoded data removed]",
      "text/plain": [
       "<Figure size 640x480 with 1 Axes>"
      ]
     },
     "metadata": {},
     "output_type": "display_data"
    }
   ],
   "source": [
    "df['M_hmotnost'].plot.hist(bins=100)"
   ]
  },
  {
   "cell_type": "code",
   "execution_count": 12,
   "id": "711e47c2",
   "metadata": {},
   "outputs": [
    {
     "data": {
      "text/plain": [
       "352.0"
      ]
     },
     "execution_count": 12,
     "metadata": {},
     "output_type": "execute_result"
    }
   ],
   "source": [
    "df['M_hmotnost'].median()"
   ]
  },
  {
   "cell_type": "code",
   "execution_count": 13,
   "id": "69da3bb9",
   "metadata": {},
   "outputs": [
    {
     "data": {
      "text/plain": [
       "208.0"
      ]
     },
     "execution_count": 13,
     "metadata": {},
     "output_type": "execute_result"
    }
   ],
   "source": [
    "df['M_počet_stran'].median()"
   ]
  }
 ],
 "metadata": {
  "kernelspec": {
   "display_name": "Python 3 (ipykernel)",
   "language": "python",
   "name": "python3"
  },
  "language_info": {
   "codemirror_mode": {
    "name": "ipython",
    "version": 3
   },
   "file_extension": ".py",
   "mimetype": "text/x-python",
   "name": "python",
   "nbconvert_exporter": "python",
   "pygments_lexer": "ipython3",
   "version": "3.11.5"
  }
 },
 "nbformat": 4,
 "nbformat_minor": 5
}
