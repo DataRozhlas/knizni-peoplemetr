{
 "cells": [
  {
   "cell_type": "code",
   "execution_count": 7,
   "id": "ba726f53-0f8c-402e-ba71-39b262f45385",
   "metadata": {},
   "outputs": [
    {
     "data": {
      "application/vnd.jupyter.widget-view+json": {
       "model_id": "88d22b2c11144250ade86f197b8810aa",
       "version_major": 2,
       "version_minor": 0
      },
      "text/plain": [
       "FloatProgress(value=0.0, layout=Layout(width='auto'), style=ProgressStyle(bar_color='black'))"
      ]
     },
     "metadata": {},
     "output_type": "display_data"
    }
   ],
   "source": [
    "import duckdb\n",
    "import polars as pl\n",
    "\n",
    "def load_database_to_polars(db_path, table_name=None):\n",
    "    \"\"\"\n",
    "    Load DuckDB database table(s) into Polars DataFrame(s)\n",
    "    \n",
    "    Parameters:\n",
    "    db_path (str): Path to the DuckDB database file\n",
    "    table_name (str, optional): Specific table to load. If None, loads all tables\n",
    "    \n",
    "    Returns:\n",
    "    dict: Dictionary of table_name: polars.DataFrame pairs (if table_name is None)\n",
    "    polars.DataFrame: Single DataFrame (if table_name is specified)\n",
    "    \"\"\"\n",
    "    with duckdb.connect(db_path) as conn:\n",
    "        if table_name is None:\n",
    "            # Get all table names\n",
    "            tables_query = \"\"\"\n",
    "                SELECT table_name \n",
    "                FROM information_schema.tables \n",
    "                WHERE table_schema = 'main'\n",
    "            \"\"\"\n",
    "            tables = [row[0] for row in conn.execute(tables_query).fetchall()]\n",
    "            \n",
    "            # Load each table into a Polars DataFrame\n",
    "            dataframes = {}\n",
    "            for table in tables:\n",
    "                # Convert DuckDB table to Pandas first (direct Polars conversion not available)\n",
    "                pandas_df = conn.execute(f\"SELECT * FROM {table}\").df()\n",
    "                # Convert Pandas DataFrame to Polars\n",
    "                dataframes[table] = pl.from_pandas(pandas_df)\n",
    "            return dataframes\n",
    "        else:\n",
    "            # Load single specified table\n",
    "            pandas_df = conn.execute(f\"SELECT * FROM {table_name}\").df()\n",
    "            return pl.from_pandas(pandas_df)\n",
    "\n",
    "# Usage examples:\n",
    "# Load all tables\n",
    "# dfs = load_database_to_polars('data/skc.db')\n",
    "\n",
    "# Load specific table\n",
    "df = load_database_to_polars('data/skc.db', 'marc_records')"
   ]
  },
  {
   "cell_type": "code",
   "execution_count": 8,
   "id": "35c493c3-636f-44b5-9379-1c5cad32a8e1",
   "metadata": {},
   "outputs": [
    {
     "data": {
      "text/html": [
       "<div><style>\n",
       ".dataframe > thead > tr,\n",
       ".dataframe > tbody > tr {\n",
       "  text-align: right;\n",
       "  white-space: pre-wrap;\n",
       "}\n",
       "</style>\n",
       "<small>shape: (8_576_484, 4)</small><table border=\"1\" class=\"dataframe\"><thead><tr><th>id</th><th>titul</th><th>autorstvo</th><th>autorstvo_kod</th></tr><tr><td>str</td><td>str</td><td>str</td><td>str</td></tr></thead><tbody><tr><td>&quot;960915d19922005be zu p  ||||u|…</td><td>&quot;&#x27;30-&#x27;50&quot;</td><td>null</td><td>null</td></tr><tr><td>&quot;960915u19uu1981fr qu p  ||||u|…</td><td>&quot;R. Rhumatologie&quot;</td><td>null</td><td>null</td></tr><tr><td>&quot;960915c19869999fr uu p  ||||u|…</td><td>&quot;01 INFORMATIQUE&quot;</td><td>null</td><td>null</td></tr><tr><td>&quot;960915d19922001gw uu p  ||||u|…</td><td>&quot;112&quot;</td><td>null</td><td>null</td></tr><tr><td>&quot;960915d19742001gw zu p  ||||u|…</td><td>&quot;3 R. Rohre, Rohrleitungsbau, R…</td><td>null</td><td>null</td></tr><tr><td>&hellip;</td><td>&hellip;</td><td>&hellip;</td><td>&hellip;</td></tr><tr><td>&quot;250117s1986    xr            |…</td><td>&quot;jz8000066&quot;</td><td>&quot;Bezděk, František,&quot;</td><td>&quot;František Bezděk :&quot;</td></tr><tr><td>&quot;241204s2024    xo ||||| |||| 0…</td><td>&quot;xx0107910&quot;</td><td>&quot;Ondriska, František,&quot;</td><td>&quot;Parazitológia :&quot;</td></tr><tr><td>&quot;250121s2023    xr a   c 6    0…</td><td>&quot;osa20191025252&quot;</td><td>&quot;Shuky,&quot;</td><td>&quot;Rytíři.&quot;</td></tr><tr><td>&quot;250121s2024    xr abc e      0…</td><td>&quot;jo2017937477&quot;</td><td>&quot;Černá, Jana,&quot;</td><td>&quot;Zmizelé Nové Město na Moravě :&quot;</td></tr><tr><td>&quot;250108t20202020xr nnnnb       …</td><td>&quot;mzk2014841547&quot;</td><td>&quot;Adamec, Radek,&quot;</td><td>&quot;O nezbedných mašinkách /&quot;</td></tr></tbody></table></div>"
      ],
      "text/plain": [
       "shape: (8_576_484, 4)\n",
       "┌───────────────────────────────┬───────────────────────────────┬──────────────────────┬───────────────────────────────┐\n",
       "│ id                            ┆ titul                         ┆ autorstvo            ┆ autorstvo_kod                 │\n",
       "│ ---                           ┆ ---                           ┆ ---                  ┆ ---                           │\n",
       "│ str                           ┆ str                           ┆ str                  ┆ str                           │\n",
       "╞═══════════════════════════════╪═══════════════════════════════╪══════════════════════╪═══════════════════════════════╡\n",
       "│ 960915d19922005be zu p        ┆ '30-'50                       ┆ null                 ┆ null                          │\n",
       "│ ||||u|…                       ┆                               ┆                      ┆                               │\n",
       "│ 960915u19uu1981fr qu p        ┆ R. Rhumatologie               ┆ null                 ┆ null                          │\n",
       "│ ||||u|…                       ┆                               ┆                      ┆                               │\n",
       "│ 960915c19869999fr uu p        ┆ 01 INFORMATIQUE               ┆ null                 ┆ null                          │\n",
       "│ ||||u|…                       ┆                               ┆                      ┆                               │\n",
       "│ 960915d19922001gw uu p        ┆ 112                           ┆ null                 ┆ null                          │\n",
       "│ ||||u|…                       ┆                               ┆                      ┆                               │\n",
       "│ 960915d19742001gw zu p        ┆ 3 R. Rohre, Rohrleitungsbau,  ┆ null                 ┆ null                          │\n",
       "│ ||||u|…                       ┆ R…                            ┆                      ┆                               │\n",
       "│ …                             ┆ …                             ┆ …                    ┆ …                             │\n",
       "│ 250117s1986    xr             ┆ jz8000066                     ┆ Bezděk, František,   ┆ František Bezděk :            │\n",
       "│ |…                            ┆                               ┆                      ┆                               │\n",
       "│ 241204s2024    xo ||||| ||||  ┆ xx0107910                     ┆ Ondriska, František, ┆ Parazitológia :               │\n",
       "│ 0…                            ┆                               ┆                      ┆                               │\n",
       "│ 250121s2023    xr a   c 6     ┆ osa20191025252                ┆ Shuky,               ┆ Rytíři.                       │\n",
       "│ 0…                            ┆                               ┆                      ┆                               │\n",
       "│ 250121s2024    xr abc e       ┆ jo2017937477                  ┆ Černá, Jana,         ┆ Zmizelé Nové Město na Moravě  │\n",
       "│ 0…                            ┆                               ┆                      ┆ :                             │\n",
       "│ 250108t20202020xr nnnnb       ┆ mzk2014841547                 ┆ Adamec, Radek,       ┆ O nezbedných mašinkách /      │\n",
       "│ …                             ┆                               ┆                      ┆                               │\n",
       "└───────────────────────────────┴───────────────────────────────┴──────────────────────┴───────────────────────────────┘"
      ]
     },
     "execution_count": 8,
     "metadata": {},
     "output_type": "execute_result"
    }
   ],
   "source": [
    "df"
   ]
  },
  {
   "cell_type": "code",
   "execution_count": 11,
   "id": "a086ec29-8896-489a-ab6b-35bf87a9579a",
   "metadata": {},
   "outputs": [
    {
     "data": {
      "text/html": [
       "<div><style>\n",
       ".dataframe > thead > tr,\n",
       ".dataframe > tbody > tr {\n",
       "  text-align: right;\n",
       "  white-space: pre-wrap;\n",
       "}\n",
       "</style>\n",
       "<small>shape: (5, 4)</small><table border=\"1\" class=\"dataframe\"><thead><tr><th>id</th><th>titul</th><th>autorstvo</th><th>autorstvo_kod</th></tr><tr><td>str</td><td>str</td><td>str</td><td>str</td></tr></thead><tbody><tr><td>&quot;060624s2006    xr ||||| ||||||…</td><td>&quot;Použitelnost a přístupnost web…</td><td>&quot;Kašpárek, Michal&quot;</td><td>null</td></tr><tr><td>&quot;180516s2018    xr     g      0…</td><td>&quot;Hry bez hranic /&quot;</td><td>&quot;Kašpárek, Michal,&quot;</td><td>&quot;jx20100301005&quot;</td></tr><tr><td>&quot;200115s2019    xr nnnng       …</td><td>&quot;Hry bez hranic /&quot;</td><td>&quot;Kašpárek, Michal,&quot;</td><td>&quot;jx20100301005&quot;</td></tr><tr><td>&quot;220209s2020    xr     g       …</td><td>&quot;Hry bez hranic /&quot;</td><td>&quot;Kašpárek, Michal,&quot;</td><td>&quot;jx20100301005&quot;</td></tr><tr><td>&quot;230925s2023    xr     g      0…</td><td>&quot;Fosilie /&quot;</td><td>&quot;Kašpárek, Michal,&quot;</td><td>&quot;jx20100301005&quot;</td></tr></tbody></table></div>"
      ],
      "text/plain": [
       "shape: (5, 4)\n",
       "┌─────────────────────────────────┬─────────────────────────────────┬───────────────────┬───────────────┐\n",
       "│ id                              ┆ titul                           ┆ autorstvo         ┆ autorstvo_kod │\n",
       "│ ---                             ┆ ---                             ┆ ---               ┆ ---           │\n",
       "│ str                             ┆ str                             ┆ str               ┆ str           │\n",
       "╞═════════════════════════════════╪═════════════════════════════════╪═══════════════════╪═══════════════╡\n",
       "│ 060624s2006    xr ||||| ||||||… ┆ Použitelnost a přístupnost web… ┆ Kašpárek, Michal  ┆ null          │\n",
       "│ 180516s2018    xr     g      0… ┆ Hry bez hranic /                ┆ Kašpárek, Michal, ┆ jx20100301005 │\n",
       "│ 200115s2019    xr nnnng       … ┆ Hry bez hranic /                ┆ Kašpárek, Michal, ┆ jx20100301005 │\n",
       "│ 220209s2020    xr     g       … ┆ Hry bez hranic /                ┆ Kašpárek, Michal, ┆ jx20100301005 │\n",
       "│ 230925s2023    xr     g      0… ┆ Fosilie /                       ┆ Kašpárek, Michal, ┆ jx20100301005 │\n",
       "└─────────────────────────────────┴─────────────────────────────────┴───────────────────┴───────────────┘"
      ]
     },
     "execution_count": 11,
     "metadata": {},
     "output_type": "execute_result"
    }
   ],
   "source": [
    "df.filter(pl.col(\"autorstvo\").str.contains(\"Kašpárek, Michal\"))"
   ]
  },
  {
   "cell_type": "code",
   "execution_count": 27,
   "id": "696ab902-ee30-442a-bc71-e21646251239",
   "metadata": {},
   "outputs": [],
   "source": [
    "df_s = df.sample(1000)"
   ]
  },
  {
   "cell_type": "code",
   "execution_count": 37,
   "id": "b97e8131-88f2-43d9-8a93-e2f93af93d73",
   "metadata": {},
   "outputs": [],
   "source": [
    "from src.najdi_rok import najdi_rok\n",
    "from src.pocet_stran import pocet_stran\n",
    "from src.bez_bordelu import bez_bordelu\n",
    "from src.alt_friendly import alt_friendly\n",
    "from src.hezke_jmeno import hezke_jmeno"
   ]
  },
  {
   "cell_type": "code",
   "execution_count": 63,
   "id": "d8ff5f9d-20f7-4083-b89a-b3ba81431321",
   "metadata": {},
   "outputs": [
    {
     "name": "stderr",
     "output_type": "stream",
     "text": [
      "C:\\Users\\micha\\AppData\\Local\\Temp\\ipykernel_12044\\1620344683.py:1: MapWithoutReturnDtypeWarning: Calling `map_elements` without specifying `return_dtype` can lead to unpredictable results. Specify `return_dtype` to silence this warning.\n",
      "  zahranici = df.filter(pl.col('id').str.slice(15,2) != 'xr').with_columns(pl.col('id').map_elements(najdi_rok, return_dtype=int).alias('rok')).drop_nulls(subset=['autorstvo']).with_columns(pl.col(\"autorstvo\").map_elements(hezke_jmeno).alias(\"jmeno\"))\n"
     ]
    }
   ],
   "source": [
    "zahranici = df.filter(pl.col('id').str.slice(15,2) != 'xr').with_columns(pl.col('id').map_elements(najdi_rok, return_dtype=int).alias('rok')).drop_nulls(subset=['autorstvo']).with_columns(pl.col(\"autorstvo\").map_elements(hezke_jmeno).alias(\"jmeno\"))"
   ]
  },
  {
   "cell_type": "code",
   "execution_count": 64,
   "id": "dd3b7160-7eb9-4fcf-b8b2-7b721def3c68",
   "metadata": {},
   "outputs": [
    {
     "data": {
      "text/html": [
       "<div><style>\n",
       ".dataframe > thead > tr,\n",
       ".dataframe > tbody > tr {\n",
       "  text-align: right;\n",
       "  white-space: pre-wrap;\n",
       "}\n",
       "</style>\n",
       "<small>shape: (6, 6)</small><table border=\"1\" class=\"dataframe\"><thead><tr><th>id</th><th>titul</th><th>autorstvo</th><th>autorstvo_kod</th><th>rok</th><th>jmeno</th></tr><tr><td>str</td><td>str</td><td>str</td><td>str</td><td>i64</td><td>str</td></tr></thead><tbody><tr><td>&quot;980115s1985    xxu    f      |…</td><td>&quot;The bass saxophone :&quot;</td><td>&quot;Škvorecký, Josef,&quot;</td><td>&quot;jk01130413&quot;</td><td>1985</td><td>&quot;Josef Škvorecký&quot;</td></tr><tr><td>&quot;911103t19851984xxu    g      0…</td><td>&quot;The engineer of human souls /&quot;</td><td>&quot;Škvorecký, Josef,&quot;</td><td>&quot;jk01130413&quot;</td><td>1985</td><td>&quot;Josef Škvorecký&quot;</td></tr><tr><td>&quot;210824s1985    xxca   g      0…</td><td>&quot;Ze života české společnosti /&quot;</td><td>&quot;Škvorecký, Josef,&quot;</td><td>&quot;jk01130413&quot;</td><td>1985</td><td>&quot;Josef Škvorecký&quot;</td></tr><tr><td>&quot;960412s1985    xxc||||| ||||||…</td><td>&quot;The swell season :&quot;</td><td>&quot;Škvorecký, Josef,&quot;</td><td>&quot;jk01130413&quot;</td><td>1985</td><td>&quot;Josef Škvorecký&quot;</td></tr><tr><td>&quot;081014s1985    xxu           |…</td><td>&quot;Miss Silver&#x27;s past /&quot;</td><td>&quot;Škvorecký, Josef,&quot;</td><td>&quot;jk01130413&quot;</td><td>1985</td><td>&quot;Josef Škvorecký&quot;</td></tr><tr><td>&quot;960116s1985    xxk           0…</td><td>&quot;The engineer of human souls :&quot;</td><td>&quot;Škvorecký, Josef,&quot;</td><td>&quot;jk01130413&quot;</td><td>1985</td><td>&quot;Josef Škvorecký&quot;</td></tr></tbody></table></div>"
      ],
      "text/plain": [
       "shape: (6, 6)\n",
       "┌─────────────────────────────────┬───────────────────────┬───────────────────┬───────────────┬──────┬─────────────────┐\n",
       "│ id                              ┆ titul                 ┆ autorstvo         ┆ autorstvo_kod ┆ rok  ┆ jmeno           │\n",
       "│ ---                             ┆ ---                   ┆ ---               ┆ ---           ┆ ---  ┆ ---             │\n",
       "│ str                             ┆ str                   ┆ str               ┆ str           ┆ i64  ┆ str             │\n",
       "╞═════════════════════════════════╪═══════════════════════╪═══════════════════╪═══════════════╪══════╪═════════════════╡\n",
       "│ 980115s1985    xxu    f      |… ┆ The bass saxophone :  ┆ Škvorecký, Josef, ┆ jk01130413    ┆ 1985 ┆ Josef Škvorecký │\n",
       "│ 911103t19851984xxu    g      0… ┆ The engineer of human ┆ Škvorecký, Josef, ┆ jk01130413    ┆ 1985 ┆ Josef Škvorecký │\n",
       "│                                 ┆ souls /               ┆                   ┆               ┆      ┆                 │\n",
       "│ 210824s1985    xxca   g      0… ┆ Ze života české       ┆ Škvorecký, Josef, ┆ jk01130413    ┆ 1985 ┆ Josef Škvorecký │\n",
       "│                                 ┆ společnosti /         ┆                   ┆               ┆      ┆                 │\n",
       "│ 960412s1985    xxc||||| ||||||… ┆ The swell season :    ┆ Škvorecký, Josef, ┆ jk01130413    ┆ 1985 ┆ Josef Škvorecký │\n",
       "│ 081014s1985    xxu           |… ┆ Miss Silver's past /  ┆ Škvorecký, Josef, ┆ jk01130413    ┆ 1985 ┆ Josef Škvorecký │\n",
       "│ 960116s1985    xxk           0… ┆ The engineer of human ┆ Škvorecký, Josef, ┆ jk01130413    ┆ 1985 ┆ Josef Škvorecký │\n",
       "│                                 ┆ souls :               ┆                   ┆               ┆      ┆                 │\n",
       "└─────────────────────────────────┴───────────────────────┴───────────────────┴───────────────┴──────┴─────────────────┘"
      ]
     },
     "execution_count": 64,
     "metadata": {},
     "output_type": "execute_result"
    }
   ],
   "source": [
    "zahranici.filter(pl.col('jmeno').str.contains('Škvorecký')).filter(pl.col('rok').is_in(1985))"
   ]
  },
  {
   "cell_type": "code",
   "execution_count": 67,
   "id": "5ba8f0fc-a5ed-49cc-ba56-5169d719fb1b",
   "metadata": {},
   "outputs": [],
   "source": [
    "znormalizovani_top_domaci_razeni = ['Josef Škvorecký',\n",
    " 'Ivan Klíma',\n",
    " 'Václav Havel',\n",
    " 'Felix Háj',\n",
    " 'Tomáš Garrigue Masaryk',\n",
    " 'Karel Kaplan',\n",
    " 'Jakub Deml',\n",
    " 'Vladimír Škutina',\n",
    " 'Anna Sedlmayerová',\n",
    " 'Václav Černý',\n",
    " 'Karel Šiktanc']"
   ]
  },
  {
   "cell_type": "code",
   "execution_count": 73,
   "id": "be6a7b93-c441-4145-ada3-58178d7a3381",
   "metadata": {},
   "outputs": [],
   "source": [
    "import os"
   ]
  },
  {
   "cell_type": "code",
   "execution_count": 75,
   "id": "cad4fa89-f92d-4a09-8daa-1aadeab92fba",
   "metadata": {},
   "outputs": [],
   "source": [
    "zahranici.filter(pl.col('jmeno').is_in(znormalizovani_top_domaci_razeni)).write_parquet(os.path.join('data','zahranicni_knihy_10_zakazanych_autoru.parquet'))"
   ]
  }
 ],
 "metadata": {
  "kernelspec": {
   "display_name": "Python 3 (ipykernel)",
   "language": "python",
   "name": "python3"
  },
  "language_info": {
   "codemirror_mode": {
    "name": "ipython",
    "version": 3
   },
   "file_extension": ".py",
   "mimetype": "text/x-python",
   "name": "python",
   "nbconvert_exporter": "python",
   "pygments_lexer": "ipython3",
   "version": "3.12.3"
  }
 },
 "nbformat": 4,
 "nbformat_minor": 5
}
