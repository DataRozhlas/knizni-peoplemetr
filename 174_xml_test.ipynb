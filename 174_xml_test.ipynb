{
 "cells": [
  {
   "cell_type": "code",
   "execution_count": 5,
   "id": "ba726f53-0f8c-402e-ba71-39b262f45385",
   "metadata": {},
   "outputs": [
    {
     "name": "stdout",
     "output_type": "stream",
     "text": [
      "\n",
      "Table: marc_records\n",
      "-------------------\n",
      "  - id (VARCHAR)\n",
      "  - title (VARCHAR)\n"
     ]
    }
   ],
   "source": [
    "import duckdb\n",
    "\n",
    "with duckdb.connect('data/skc.db') as conn:\n",
    "    # Query to get all tables and their columns\n",
    "    columns_query = \"\"\"\n",
    "        SELECT \n",
    "            table_name,\n",
    "            column_name,\n",
    "            data_type\n",
    "        FROM information_schema.columns\n",
    "        WHERE table_schema = 'main'\n",
    "        ORDER BY table_name, ordinal_position\n",
    "    \"\"\"\n",
    "    \n",
    "    columns = conn.execute(columns_query).fetchall()\n",
    "    \n",
    "    # Print the results in an organized way\n",
    "    current_table = None\n",
    "    for table_name, column_name, data_type in columns:\n",
    "        if current_table != table_name:\n",
    "            current_table = table_name\n",
    "            print(f\"\\nTable: {table_name}\")\n",
    "            print(\"-\" * (len(table_name) + 7))\n",
    "        print(f\"  - {column_name} ({data_type})\")"
   ]
  }
 ],
 "metadata": {
  "kernelspec": {
   "display_name": "Python 3 (ipykernel)",
   "language": "python",
   "name": "python3"
  },
  "language_info": {
   "codemirror_mode": {
    "name": "ipython",
    "version": 3
   },
   "file_extension": ".py",
   "mimetype": "text/x-python",
   "name": "python",
   "nbconvert_exporter": "python",
   "pygments_lexer": "ipython3",
   "version": "3.12.3"
  }
 },
 "nbformat": 4,
 "nbformat_minor": 5
}
