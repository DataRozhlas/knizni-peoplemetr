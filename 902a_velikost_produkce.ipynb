{
 "cells": [
  {
   "cell_type": "code",
   "execution_count": 98,
   "id": "ac907167-e7b1-44ff-a7d5-390c12630ede",
   "metadata": {},
   "outputs": [],
   "source": [
    "import os\n",
    "import re\n",
    "import statistics\n",
    "from src.najdi_rok import najdi_rok\n",
    "from src.zjisti_cenu import zjisti_cenu\n",
    "import pandas as pd"
   ]
  },
  {
   "cell_type": "code",
   "execution_count": 99,
   "id": "66a38e47-dca4-442c-9960-38d7b0bbb0b6",
   "metadata": {},
   "outputs": [],
   "source": [
    "pd.set_option('display.max_columns', 100)\n",
    "pd.set_option('display.max_rows', 500)"
   ]
  },
  {
   "cell_type": "code",
   "execution_count": 100,
   "id": "37a6002e-99de-44fe-b9a7-66c000a09890",
   "metadata": {},
   "outputs": [],
   "source": [
    "df = pd.read_parquet(os.path.join(\"data\",\"cnb_vyber.parquet\"))"
   ]
  },
  {
   "cell_type": "code",
   "execution_count": 101,
   "id": "2a08b452-f92c-49e5-a148-aaa045c6a156",
   "metadata": {},
   "outputs": [],
   "source": [
    "df = df.explode('008')"
   ]
  },
  {
   "cell_type": "code",
   "execution_count": 102,
   "id": "a20dd698-2f7f-4116-9638-c0f72681658a",
   "metadata": {},
   "outputs": [],
   "source": [
    "df['rok'] = df['008'].apply(lambda x: najdi_rok(x))"
   ]
  },
  {
   "cell_type": "code",
   "execution_count": 103,
   "id": "968a37ba-1839-46f1-b1e4-68ab7734c961",
   "metadata": {},
   "outputs": [
    {
     "data": {
      "text/plain": [
       "855454"
      ]
     },
     "execution_count": 103,
     "metadata": {},
     "output_type": "execute_result"
    }
   ],
   "source": [
    "len(df)"
   ]
  },
  {
   "cell_type": "code",
   "execution_count": 104,
   "id": "9631fd74-b8b6-45fc-84ee-278dca5fbf44",
   "metadata": {},
   "outputs": [
    {
     "data": {
      "text/plain": [
       "rok\n",
       "2008.0    16719\n",
       "2007.0    16013\n",
       "2010.0    15910\n",
       "2009.0    15542\n",
       "2012.0    15539\n",
       "dtype: int64"
      ]
     },
     "execution_count": 104,
     "metadata": {},
     "output_type": "execute_result"
    }
   ],
   "source": [
    "df.groupby(\"rok\").size().nlargest()"
   ]
  },
  {
   "cell_type": "code",
   "execution_count": 105,
   "id": "6469f0f8-5d5d-4367-83d7-4fcf8509a601",
   "metadata": {},
   "outputs": [],
   "source": [
    "df = df.dropna(subset=['245_a','100_a','rok'])"
   ]
  },
  {
   "cell_type": "code",
   "execution_count": 106,
   "id": "5eb7625a-cfdb-483d-9c80-75d53208d85e",
   "metadata": {},
   "outputs": [],
   "source": [
    "df['cena'] = df['020_c'].apply(lambda x: zjisti_cenu(x))"
   ]
  },
  {
   "cell_type": "code",
   "execution_count": 107,
   "id": "077cc42e-78a4-47ac-aec2-459bd313071c",
   "metadata": {},
   "outputs": [
    {
     "data": {
      "text/plain": [
       "679329"
      ]
     },
     "execution_count": 107,
     "metadata": {},
     "output_type": "execute_result"
    }
   ],
   "source": [
    "len(df)"
   ]
  },
  {
   "cell_type": "code",
   "execution_count": 108,
   "id": "663df9c6-9ca1-4df3-b34d-277f75e779f7",
   "metadata": {},
   "outputs": [],
   "source": [
    "df['titul'] = df['245_a'].apply(lambda x: x[0][:-1].strip() if x[0][-1] in [':','/',';','='] else x[0].strip())\n",
    "df['autorstvo'] = df['100_a'].apply(lambda x: \", \".join([y.replace(',','') for y in x]) if x != None else None)\n",
    "df['autorstvo_kod'] = df['100_7'].apply(lambda x: x[0] if x != None else None)\n",
    "df = df.sort_values(by='rok').drop_duplicates(subset=['titul','autorstvo'], keep='first')"
   ]
  },
  {
   "cell_type": "code",
   "execution_count": 109,
   "id": "c0134bea-88a8-407c-88f8-19d170291639",
   "metadata": {},
   "outputs": [
    {
     "data": {
      "text/plain": [
       "382200"
      ]
     },
     "execution_count": 109,
     "metadata": {},
     "output_type": "execute_result"
    }
   ],
   "source": [
    "len(df)"
   ]
  },
  {
   "cell_type": "code",
   "execution_count": 110,
   "id": "6f33bae1-fcce-4647-913b-35c1aa57eddf",
   "metadata": {},
   "outputs": [],
   "source": [
    "from src.pocet_stran import pocet_stran"
   ]
  },
  {
   "cell_type": "code",
   "execution_count": 111,
   "id": "30c5efea-ab9a-42b1-9bd3-260d3d274eb1",
   "metadata": {},
   "outputs": [],
   "source": [
    "df['stran'] = df['300_a'].apply(lambda x: pocet_stran(x))"
   ]
  },
  {
   "cell_type": "code",
   "execution_count": 112,
   "id": "4074543a-5465-4a94-8bb0-e4c67d1093f5",
   "metadata": {},
   "outputs": [
    {
     "data": {
      "text/html": [
       "<div>\n",
       "<style scoped>\n",
       "    .dataframe tbody tr th:only-of-type {\n",
       "        vertical-align: middle;\n",
       "    }\n",
       "\n",
       "    .dataframe tbody tr th {\n",
       "        vertical-align: top;\n",
       "    }\n",
       "\n",
       "    .dataframe thead th {\n",
       "        text-align: right;\n",
       "    }\n",
       "</style>\n",
       "<table border=\"1\" class=\"dataframe\">\n",
       "  <thead>\n",
       "    <tr style=\"text-align: right;\">\n",
       "      <th></th>\n",
       "      <th>300_a</th>\n",
       "      <th>stran</th>\n",
       "    </tr>\n",
       "    <tr>\n",
       "      <th>001</th>\n",
       "      <th></th>\n",
       "      <th></th>\n",
       "    </tr>\n",
       "  </thead>\n",
       "  <tbody>\n",
       "    <tr>\n",
       "      <th>nkc20091990674</th>\n",
       "      <td>[280 s. ;]</td>\n",
       "      <td>280.0</td>\n",
       "    </tr>\n",
       "    <tr>\n",
       "      <th>cpk19960118266</th>\n",
       "      <td>[382 s. ;]</td>\n",
       "      <td>382.0</td>\n",
       "    </tr>\n",
       "    <tr>\n",
       "      <th>bk196200459</th>\n",
       "      <td>[294 s. ;]</td>\n",
       "      <td>294.0</td>\n",
       "    </tr>\n",
       "    <tr>\n",
       "      <th>cpk20031189969</th>\n",
       "      <td>[127 s. :]</td>\n",
       "      <td>127.0</td>\n",
       "    </tr>\n",
       "    <tr>\n",
       "      <th>cpk19970209875</th>\n",
       "      <td>[265 s., [40] s. obr. příl. :]</td>\n",
       "      <td>265.0</td>\n",
       "    </tr>\n",
       "    <tr>\n",
       "      <th>cpk19980363399</th>\n",
       "      <td>[100 s. :]</td>\n",
       "      <td>100.0</td>\n",
       "    </tr>\n",
       "    <tr>\n",
       "      <th>cpk20010988280</th>\n",
       "      <td>[206 s. ;]</td>\n",
       "      <td>206.0</td>\n",
       "    </tr>\n",
       "    <tr>\n",
       "      <th>cpk20010888761</th>\n",
       "      <td>[136 s. :]</td>\n",
       "      <td>136.0</td>\n",
       "    </tr>\n",
       "    <tr>\n",
       "      <th>bk193902550</th>\n",
       "      <td>[181 - [V] s. ;]</td>\n",
       "      <td>181.0</td>\n",
       "    </tr>\n",
       "    <tr>\n",
       "      <th>np9426861</th>\n",
       "      <td>[59 s. :]</td>\n",
       "      <td>59.0</td>\n",
       "    </tr>\n",
       "    <tr>\n",
       "      <th>cpk19980536649</th>\n",
       "      <td>[186 s. :]</td>\n",
       "      <td>186.0</td>\n",
       "    </tr>\n",
       "    <tr>\n",
       "      <th>ck8905227</th>\n",
       "      <td>[100 s. ;]</td>\n",
       "      <td>100.0</td>\n",
       "    </tr>\n",
       "    <tr>\n",
       "      <th>cpk20243631786</th>\n",
       "      <td>[47 stran :]</td>\n",
       "      <td>47.0</td>\n",
       "    </tr>\n",
       "    <tr>\n",
       "      <th>bk193900697</th>\n",
       "      <td>[xv, 373 stran :]</td>\n",
       "      <td>373.0</td>\n",
       "    </tr>\n",
       "    <tr>\n",
       "      <th>nkc20132535045</th>\n",
       "      <td>[21 s. ;]</td>\n",
       "      <td>21.0</td>\n",
       "    </tr>\n",
       "    <tr>\n",
       "      <th>nkc20091865845</th>\n",
       "      <td>[312 s. :]</td>\n",
       "      <td>312.0</td>\n",
       "    </tr>\n",
       "    <tr>\n",
       "      <th>nkc20233503458</th>\n",
       "      <td>[63 stran ;]</td>\n",
       "      <td>63.0</td>\n",
       "    </tr>\n",
       "    <tr>\n",
       "      <th>np9535100</th>\n",
       "      <td>[28 s. :]</td>\n",
       "      <td>28.0</td>\n",
       "    </tr>\n",
       "    <tr>\n",
       "      <th>bknzdr16312</th>\n",
       "      <td>[181 s. ;]</td>\n",
       "      <td>181.0</td>\n",
       "    </tr>\n",
       "    <tr>\n",
       "      <th>nkc20091961477</th>\n",
       "      <td>[[32] s. :]</td>\n",
       "      <td>32.0</td>\n",
       "    </tr>\n",
       "    <tr>\n",
       "      <th>np9317300</th>\n",
       "      <td>[41 s. ;]</td>\n",
       "      <td>41.0</td>\n",
       "    </tr>\n",
       "    <tr>\n",
       "      <th>bk195203723</th>\n",
       "      <td>[243 s. :]</td>\n",
       "      <td>243.0</td>\n",
       "    </tr>\n",
       "    <tr>\n",
       "      <th>ck9003186</th>\n",
       "      <td>[266 listů ;]</td>\n",
       "      <td>266.0</td>\n",
       "    </tr>\n",
       "    <tr>\n",
       "      <th>nkc20193080164</th>\n",
       "      <td>[417 stran ;]</td>\n",
       "      <td>417.0</td>\n",
       "    </tr>\n",
       "    <tr>\n",
       "      <th>bk194401222</th>\n",
       "      <td>[116, [IV] s. ;]</td>\n",
       "      <td>116.0</td>\n",
       "    </tr>\n",
       "    <tr>\n",
       "      <th>cpk19980368700</th>\n",
       "      <td>[79 s. :]</td>\n",
       "      <td>79.0</td>\n",
       "    </tr>\n",
       "    <tr>\n",
       "      <th>ck9202132</th>\n",
       "      <td>[283 s. :]</td>\n",
       "      <td>283.0</td>\n",
       "    </tr>\n",
       "    <tr>\n",
       "      <th>bk192702152</th>\n",
       "      <td>[230 s. ;]</td>\n",
       "      <td>230.0</td>\n",
       "    </tr>\n",
       "    <tr>\n",
       "      <th>nkc20243585995</th>\n",
       "      <td>[170 stran :]</td>\n",
       "      <td>170.0</td>\n",
       "    </tr>\n",
       "    <tr>\n",
       "      <th>nkc20102114523</th>\n",
       "      <td>[126 stran :]</td>\n",
       "      <td>126.0</td>\n",
       "    </tr>\n",
       "  </tbody>\n",
       "</table>\n",
       "</div>"
      ],
      "text/plain": [
       "                                         300_a  stran\n",
       "001                                                  \n",
       "nkc20091990674                      [280 s. ;]  280.0\n",
       "cpk19960118266                      [382 s. ;]  382.0\n",
       "bk196200459                         [294 s. ;]  294.0\n",
       "cpk20031189969                      [127 s. :]  127.0\n",
       "cpk19970209875  [265 s., [40] s. obr. příl. :]  265.0\n",
       "cpk19980363399                      [100 s. :]  100.0\n",
       "cpk20010988280                      [206 s. ;]  206.0\n",
       "cpk20010888761                      [136 s. :]  136.0\n",
       "bk193902550                   [181 - [V] s. ;]  181.0\n",
       "np9426861                            [59 s. :]   59.0\n",
       "cpk19980536649                      [186 s. :]  186.0\n",
       "ck8905227                           [100 s. ;]  100.0\n",
       "cpk20243631786                    [47 stran :]   47.0\n",
       "bk193900697                  [xv, 373 stran :]  373.0\n",
       "nkc20132535045                       [21 s. ;]   21.0\n",
       "nkc20091865845                      [312 s. :]  312.0\n",
       "nkc20233503458                    [63 stran ;]   63.0\n",
       "np9535100                            [28 s. :]   28.0\n",
       "bknzdr16312                         [181 s. ;]  181.0\n",
       "nkc20091961477                     [[32] s. :]   32.0\n",
       "np9317300                            [41 s. ;]   41.0\n",
       "bk195203723                         [243 s. :]  243.0\n",
       "ck9003186                        [266 listů ;]  266.0\n",
       "nkc20193080164                   [417 stran ;]  417.0\n",
       "bk194401222                   [116, [IV] s. ;]  116.0\n",
       "cpk19980368700                       [79 s. :]   79.0\n",
       "ck9202132                           [283 s. :]  283.0\n",
       "bk192702152                         [230 s. ;]  230.0\n",
       "nkc20243585995                   [170 stran :]  170.0\n",
       "nkc20102114523                   [126 stran :]  126.0"
      ]
     },
     "execution_count": 112,
     "metadata": {},
     "output_type": "execute_result"
    }
   ],
   "source": [
    "df[['300_a','stran']].sample(30)"
   ]
  },
  {
   "cell_type": "code",
   "execution_count": 113,
   "id": "963886f8-f31a-402b-b7d0-2b6f1098ee5e",
   "metadata": {},
   "outputs": [
    {
     "data": {
      "text/plain": [
       "262800"
      ]
     },
     "execution_count": 113,
     "metadata": {},
     "output_type": "execute_result"
    }
   ],
   "source": [
    "za_rok = 365 * 12 * 60\n",
    "za_rok"
   ]
  },
  {
   "cell_type": "code",
   "execution_count": 114,
   "id": "21f72aa7-e7ed-4ddb-9a20-b0a9ef1822fb",
   "metadata": {},
   "outputs": [
    {
     "data": {
      "text/plain": [
       "rok\n",
       "2020.0    1278459.0\n",
       "2021.0    1325382.0\n",
       "2022.0    1303679.0\n",
       "2023.0    1194588.0\n",
       "2024.0     634997.0\n",
       "Name: stran, dtype: float64"
      ]
     },
     "execution_count": 114,
     "metadata": {},
     "output_type": "execute_result"
    }
   ],
   "source": [
    "df.groupby('rok')['stran'].sum().tail()"
   ]
  },
  {
   "cell_type": "code",
   "execution_count": 115,
   "id": "4f822a99-c6c1-486d-be51-3508dcb3b1a8",
   "metadata": {},
   "outputs": [
    {
     "data": {
      "text/plain": [
       "<Axes: xlabel='rok'>"
      ]
     },
     "execution_count": 115,
     "metadata": {},
     "output_type": "execute_result"
    },
    {
     "data": {
      "image/png": "[encoded data removed]",
      "text/plain": [
       "<Figure size 2500x500 with 1 Axes>"
      ]
     },
     "metadata": {},
     "output_type": "display_data"
    }
   ],
   "source": [
    "df.groupby('rok')['stran'].sum().plot.bar(figsize=(25,5))"
   ]
  },
  {
   "cell_type": "code",
   "execution_count": 116,
   "id": "4ee02e17-b085-48fc-a9f4-a01261322fb3",
   "metadata": {},
   "outputs": [
    {
     "data": {
      "text/plain": [
       "rok\n",
       "1900.0    0.996293\n",
       "1901.0    0.994220\n",
       "1902.0    0.999237\n",
       "1903.0    0.995819\n",
       "1904.0    0.995701\n",
       "1905.0    0.996310\n",
       "1906.0    0.995833\n",
       "1907.0    0.994783\n",
       "1908.0    0.993740\n",
       "1909.0    0.995802\n",
       "1910.0    0.996995\n",
       "1911.0    0.994318\n",
       "1912.0    0.996006\n",
       "1913.0    0.994665\n",
       "1914.0    0.998965\n",
       "1915.0    0.993949\n",
       "1916.0    0.997211\n",
       "1917.0    0.997214\n",
       "1918.0    0.992823\n",
       "1919.0    0.992486\n",
       "1920.0    0.997144\n",
       "1921.0    0.996631\n",
       "1922.0    0.996497\n",
       "1923.0    0.993963\n",
       "1924.0    0.995076\n",
       "1925.0    0.993513\n",
       "1926.0    0.994914\n",
       "1927.0    0.991837\n",
       "1928.0    0.985986\n",
       "1929.0    0.976578\n",
       "1930.0    0.969296\n",
       "1931.0    0.968970\n",
       "1932.0    0.962575\n",
       "1933.0    0.969620\n",
       "1934.0    0.960236\n",
       "1935.0    0.961557\n",
       "1936.0    0.953282\n",
       "1937.0    0.950190\n",
       "1938.0    0.954943\n",
       "1939.0    0.948224\n",
       "1940.0    0.955916\n",
       "1941.0    0.946204\n",
       "1942.0    0.957597\n",
       "1943.0    0.978972\n",
       "1944.0    0.992118\n",
       "1945.0    0.975319\n",
       "1946.0    0.991739\n",
       "1947.0    0.994827\n",
       "1948.0    0.998058\n",
       "1949.0    0.999278\n",
       "1950.0    1.000000\n",
       "1951.0    0.999015\n",
       "1952.0    0.999524\n",
       "1953.0    1.000000\n",
       "1954.0    1.000000\n",
       "1955.0    0.999540\n",
       "1956.0    0.999551\n",
       "1957.0    1.000000\n",
       "1958.0    1.000000\n",
       "1959.0    0.999568\n",
       "1960.0    1.000000\n",
       "1961.0    1.000000\n",
       "1962.0    0.999576\n",
       "1963.0    1.000000\n",
       "1964.0    0.999190\n",
       "1965.0    0.999550\n",
       "1966.0    0.999563\n",
       "1967.0    0.999108\n",
       "1968.0    0.999532\n",
       "1969.0    0.999513\n",
       "1970.0    0.999079\n",
       "1971.0    0.999541\n",
       "1972.0    1.000000\n",
       "1973.0    0.999530\n",
       "1974.0    1.000000\n",
       "1975.0    1.000000\n",
       "1976.0    0.999124\n",
       "1977.0    1.000000\n",
       "1978.0    1.000000\n",
       "1979.0    0.999574\n",
       "1980.0    0.999587\n",
       "1981.0    0.998724\n",
       "1982.0    1.000000\n",
       "1983.0    1.000000\n",
       "1984.0    1.000000\n",
       "1985.0    0.999201\n",
       "1986.0    1.000000\n",
       "1987.0    1.000000\n",
       "1988.0    0.999623\n",
       "1989.0    1.000000\n",
       "1990.0    0.999662\n",
       "1991.0    0.999127\n",
       "1992.0    0.997995\n",
       "1993.0    0.997976\n",
       "1994.0    0.997382\n",
       "1995.0    0.998979\n",
       "1996.0    0.998012\n",
       "1997.0    0.998844\n",
       "1998.0    0.998827\n",
       "1999.0    0.999060\n",
       "2000.0    0.998206\n",
       "2001.0    0.998590\n",
       "2002.0    0.998315\n",
       "2003.0    0.998859\n",
       "2004.0    0.998427\n",
       "2005.0    0.998353\n",
       "2006.0    0.998716\n",
       "2007.0    0.998222\n",
       "2008.0    0.998950\n",
       "2009.0    0.998183\n",
       "2010.0    0.999041\n",
       "2011.0    0.998337\n",
       "2012.0    0.997377\n",
       "2013.0    0.997479\n",
       "2014.0    0.995647\n",
       "2015.0    0.994638\n",
       "2016.0    0.993669\n",
       "2017.0    0.993892\n",
       "2018.0    0.994260\n",
       "2019.0    0.993271\n",
       "2020.0    0.992699\n",
       "2021.0    0.993732\n",
       "2022.0    0.992479\n",
       "2023.0    0.988325\n",
       "2024.0    0.987838\n",
       "dtype: float64"
      ]
     },
     "execution_count": 116,
     "metadata": {},
     "output_type": "execute_result"
    }
   ],
   "source": [
    "df[df['stran'].notnull()].groupby('rok').size() / df.groupby('rok').size()"
   ]
  },
  {
   "cell_type": "markdown",
   "id": "9a0051a5-f8e7-40af-a1f3-2edd951a7609",
   "metadata": {},
   "source": [
    "Vyplněnost solidní!"
   ]
  },
  {
   "cell_type": "code",
   "execution_count": 118,
   "id": "91fbb7c0-4176-491d-8d35-a42bd72e264b",
   "metadata": {},
   "outputs": [
    {
     "data": {
      "text/html": [
       "<div>\n",
       "<style scoped>\n",
       "    .dataframe tbody tr th:only-of-type {\n",
       "        vertical-align: middle;\n",
       "    }\n",
       "\n",
       "    .dataframe tbody tr th {\n",
       "        vertical-align: top;\n",
       "    }\n",
       "\n",
       "    .dataframe thead th {\n",
       "        text-align: right;\n",
       "    }\n",
       "</style>\n",
       "<table border=\"1\" class=\"dataframe\">\n",
       "  <thead>\n",
       "    <tr style=\"text-align: right;\">\n",
       "      <th></th>\n",
       "      <th>300_a</th>\n",
       "      <th>stran</th>\n",
       "      <th>245_a</th>\n",
       "      <th>rok</th>\n",
       "    </tr>\n",
       "    <tr>\n",
       "      <th>001</th>\n",
       "      <th></th>\n",
       "      <th></th>\n",
       "      <th></th>\n",
       "      <th></th>\n",
       "    </tr>\n",
       "  </thead>\n",
       "  <tbody>\n",
       "    <tr>\n",
       "      <th>nkc20183048417</th>\n",
       "      <td>[3 svazky (3496 stran) ;]</td>\n",
       "      <td>3496.0</td>\n",
       "      <td>Španělsko-český slovník amerikanismů =</td>\n",
       "      <td>2018.0</td>\n",
       "    </tr>\n",
       "    <tr>\n",
       "      <th>nkc20091995200</th>\n",
       "      <td>[2 sv. (xx, 1579, xvii, s.1581-3343) ;]</td>\n",
       "      <td>3343.0</td>\n",
       "      <td>Občanský soudní řád :</td>\n",
       "      <td>2009.0</td>\n",
       "    </tr>\n",
       "    <tr>\n",
       "      <th>nkc20203263529</th>\n",
       "      <td>[2 svazky (xxx, 1-1642; ix, 1643-3331 stran) ;]</td>\n",
       "      <td>3331.0</td>\n",
       "      <td>Trestní zákoník :</td>\n",
       "      <td>2020.0</td>\n",
       "    </tr>\n",
       "    <tr>\n",
       "      <th>nos190227417</th>\n",
       "      <td>[2855 s. ;]</td>\n",
       "      <td>2855.0</td>\n",
       "      <td>Buffalo Bill, národní hrdina americký /</td>\n",
       "      <td>1908.0</td>\n",
       "    </tr>\n",
       "    <tr>\n",
       "      <th>nkc20132502112</th>\n",
       "      <td>[3 sv. (2733 s.) ;]</td>\n",
       "      <td>2733.0</td>\n",
       "      <td>Komentář k zákonu o obchodních korporacích /</td>\n",
       "      <td>2013.0</td>\n",
       "    </tr>\n",
       "    <tr>\n",
       "      <th>nos190240810</th>\n",
       "      <td>[2710 s. ;]</td>\n",
       "      <td>2710.0</td>\n",
       "      <td>Pražský kat :</td>\n",
       "      <td>1910.0</td>\n",
       "    </tr>\n",
       "    <tr>\n",
       "      <th>nkc20092012372</th>\n",
       "      <td>[2 sv. (clxviii, 1316 s., s. 1317-2684) ;]</td>\n",
       "      <td>2684.0</td>\n",
       "      <td>Římská úmluva a Nařízení Řím I :</td>\n",
       "      <td>2009.0</td>\n",
       "    </tr>\n",
       "    <tr>\n",
       "      <th>nos190237542</th>\n",
       "      <td>[2636 s. ;]</td>\n",
       "      <td>2636.0</td>\n",
       "      <td>Královna Draga, záhuba Srbska čili kralovražda...</td>\n",
       "      <td>1903.0</td>\n",
       "    </tr>\n",
       "    <tr>\n",
       "      <th>nos190110115</th>\n",
       "      <td>[3 sv. (1032 s., s. 1035-1736, 1737-2400+ ) :]</td>\n",
       "      <td>2400.0</td>\n",
       "      <td>Lips Tulian, nejobávanější náčelník lupičů :</td>\n",
       "      <td>1906.0</td>\n",
       "    </tr>\n",
       "    <tr>\n",
       "      <th>nkc20081835533</th>\n",
       "      <td>[2 sv. (cx, 1276 s., cviii, s. 1277-2190) ;]</td>\n",
       "      <td>2190.0</td>\n",
       "      <td>Rozhodčí řízení, ordre public a trestní právo :</td>\n",
       "      <td>2008.0</td>\n",
       "    </tr>\n",
       "    <tr>\n",
       "      <th>nos190248033</th>\n",
       "      <td>[2 sv. (1514, 2139 s.) ;]</td>\n",
       "      <td>2139.0</td>\n",
       "      <td>Ruskočeský slovník =</td>\n",
       "      <td>1920.0</td>\n",
       "    </tr>\n",
       "    <tr>\n",
       "      <th>nos190109944</th>\n",
       "      <td>[2133 s. ;]</td>\n",
       "      <td>2133.0</td>\n",
       "      <td>Guiseppe Musolino, neohrožený vůdce banditů /</td>\n",
       "      <td>1903.0</td>\n",
       "    </tr>\n",
       "    <tr>\n",
       "      <th>nos190232485</th>\n",
       "      <td>[^^^svazků (2127 stran) ;]</td>\n",
       "      <td>2127.0</td>\n",
       "      <td>Křesťanská cvičení, nebo, Výklad velkého katec...</td>\n",
       "      <td>1905.0</td>\n",
       "    </tr>\n",
       "    <tr>\n",
       "      <th>bk193104401</th>\n",
       "      <td>[29 svazků (2123 s.) ;]</td>\n",
       "      <td>2123.0</td>\n",
       "      <td>Kníže bídy :</td>\n",
       "      <td>1930.0</td>\n",
       "    </tr>\n",
       "    <tr>\n",
       "      <th>nkc20223423789</th>\n",
       "      <td>[3 svazky (2063 stran) :]</td>\n",
       "      <td>2063.0</td>\n",
       "      <td>Umlčené hlasy :</td>\n",
       "      <td>2021.0</td>\n",
       "    </tr>\n",
       "    <tr>\n",
       "      <th>cpk20051410529</th>\n",
       "      <td>[vi, 2048 s. ;]</td>\n",
       "      <td>2048.0</td>\n",
       "      <td>Kompendium lékových interakcí Infopharm 2005 /</td>\n",
       "      <td>2004.0</td>\n",
       "    </tr>\n",
       "    <tr>\n",
       "      <th>nkc20102104642</th>\n",
       "      <td>[2015 s. :]</td>\n",
       "      <td>2015.0</td>\n",
       "      <td>Dimenzování a jištění napájecích vedení a účin...</td>\n",
       "      <td>2010.0</td>\n",
       "    </tr>\n",
       "    <tr>\n",
       "      <th>nkc20112195361</th>\n",
       "      <td>[2 sv. (xxxiv, 1069 s. ; xxiv s., s. 1073-1965...</td>\n",
       "      <td>1965.0</td>\n",
       "      <td>Dětská neurologie /</td>\n",
       "      <td>2011.0</td>\n",
       "    </tr>\n",
       "    <tr>\n",
       "      <th>cpk20142574963</th>\n",
       "      <td>[1957 s. ;]</td>\n",
       "      <td>1957.0</td>\n",
       "      <td>Der Deutsche Turnverein in Prag :</td>\n",
       "      <td>1912.0</td>\n",
       "    </tr>\n",
       "    <tr>\n",
       "      <th>nos190124989</th>\n",
       "      <td>[1950 s. ;]</td>\n",
       "      <td>1950.0</td>\n",
       "      <td>Maria Antoinetta, odpravená královna francouzs...</td>\n",
       "      <td>1902.0</td>\n",
       "    </tr>\n",
       "  </tbody>\n",
       "</table>\n",
       "</div>"
      ],
      "text/plain": [
       "                                                            300_a   stran  \\\n",
       "001                                                                         \n",
       "nkc20183048417                          [3 svazky (3496 stran) ;]  3496.0   \n",
       "nkc20091995200            [2 sv. (xx, 1579, xvii, s.1581-3343) ;]  3343.0   \n",
       "nkc20203263529    [2 svazky (xxx, 1-1642; ix, 1643-3331 stran) ;]  3331.0   \n",
       "nos190227417                                          [2855 s. ;]  2855.0   \n",
       "nkc20132502112                                [3 sv. (2733 s.) ;]  2733.0   \n",
       "nos190240810                                          [2710 s. ;]  2710.0   \n",
       "nkc20092012372         [2 sv. (clxviii, 1316 s., s. 1317-2684) ;]  2684.0   \n",
       "nos190237542                                          [2636 s. ;]  2636.0   \n",
       "nos190110115       [3 sv. (1032 s., s. 1035-1736, 1737-2400+ ) :]  2400.0   \n",
       "nkc20081835533       [2 sv. (cx, 1276 s., cviii, s. 1277-2190) ;]  2190.0   \n",
       "nos190248033                            [2 sv. (1514, 2139 s.) ;]  2139.0   \n",
       "nos190109944                                          [2133 s. ;]  2133.0   \n",
       "nos190232485                           [^^^svazků (2127 stran) ;]  2127.0   \n",
       "bk193104401                               [29 svazků (2123 s.) ;]  2123.0   \n",
       "nkc20223423789                          [3 svazky (2063 stran) :]  2063.0   \n",
       "cpk20051410529                                    [vi, 2048 s. ;]  2048.0   \n",
       "nkc20102104642                                        [2015 s. :]  2015.0   \n",
       "nkc20112195361  [2 sv. (xxxiv, 1069 s. ; xxiv s., s. 1073-1965...  1965.0   \n",
       "cpk20142574963                                        [1957 s. ;]  1957.0   \n",
       "nos190124989                                          [1950 s. ;]  1950.0   \n",
       "\n",
       "                                                            245_a     rok  \n",
       "001                                                                        \n",
       "nkc20183048417             Španělsko-český slovník amerikanismů =  2018.0  \n",
       "nkc20091995200                              Občanský soudní řád :  2009.0  \n",
       "nkc20203263529                                  Trestní zákoník :  2020.0  \n",
       "nos190227417              Buffalo Bill, národní hrdina americký /  1908.0  \n",
       "nkc20132502112       Komentář k zákonu o obchodních korporacích /  2013.0  \n",
       "nos190240810                                        Pražský kat :  1910.0  \n",
       "nkc20092012372                   Římská úmluva a Nařízení Řím I :  2009.0  \n",
       "nos190237542    Královna Draga, záhuba Srbska čili kralovražda...  1903.0  \n",
       "nos190110115         Lips Tulian, nejobávanější náčelník lupičů :  1906.0  \n",
       "nkc20081835533    Rozhodčí řízení, ordre public a trestní právo :  2008.0  \n",
       "nos190248033                                 Ruskočeský slovník =  1920.0  \n",
       "nos190109944        Guiseppe Musolino, neohrožený vůdce banditů /  1903.0  \n",
       "nos190232485    Křesťanská cvičení, nebo, Výklad velkého katec...  1905.0  \n",
       "bk193104401                                          Kníže bídy :  1930.0  \n",
       "nkc20223423789                                    Umlčené hlasy :  2021.0  \n",
       "cpk20051410529     Kompendium lékových interakcí Infopharm 2005 /  2004.0  \n",
       "nkc20102104642  Dimenzování a jištění napájecích vedení a účin...  2010.0  \n",
       "nkc20112195361                                Dětská neurologie /  2011.0  \n",
       "cpk20142574963                  Der Deutsche Turnverein in Prag :  1912.0  \n",
       "nos190124989    Maria Antoinetta, odpravená královna francouzs...  1902.0  "
      ]
     },
     "execution_count": 118,
     "metadata": {},
     "output_type": "execute_result"
    }
   ],
   "source": [
    "df[['300_a','stran','245_a','rok']].sort_values(by=\"stran\",ascending=False).head(20)"
   ]
  },
  {
   "cell_type": "code",
   "execution_count": 119,
   "id": "1f772037-4296-4a0e-b854-0469ff23e8ea",
   "metadata": {},
   "outputs": [
    {
     "data": {
      "text/plain": [
       "rok\n",
       "1900.0    0.495152\n",
       "1901.0    0.543893\n",
       "1902.0    0.644882\n",
       "1903.0    0.537017\n",
       "1904.0    0.499623\n",
       "1905.0    0.498166\n",
       "1906.0    0.507679\n",
       "1907.0    0.452009\n",
       "1908.0    0.520057\n",
       "1909.0    0.492850\n",
       "1910.0    0.564083\n",
       "1911.0    0.492995\n",
       "1912.0    0.530567\n",
       "1913.0    0.548318\n",
       "1914.0    0.378352\n",
       "1915.0    0.264973\n",
       "1916.0    0.265818\n",
       "1917.0    0.268771\n",
       "1918.0    0.314947\n",
       "1919.0    0.508535\n",
       "1920.0    0.621130\n",
       "1921.0    0.516328\n",
       "1922.0    0.588992\n",
       "1923.0    0.680746\n",
       "1924.0    0.760103\n",
       "1925.0    0.886145\n",
       "1926.0    0.895361\n",
       "1927.0    0.916229\n",
       "1928.0    0.934844\n",
       "1929.0    0.939844\n",
       "1930.0    1.146050\n",
       "1931.0    0.946686\n",
       "1932.0    0.861100\n",
       "1933.0    0.822123\n",
       "1934.0    0.802812\n",
       "1935.0    0.861743\n",
       "1936.0    1.039890\n",
       "1937.0    1.068082\n",
       "1938.0    0.896012\n",
       "1939.0    0.688120\n",
       "1940.0    0.788992\n",
       "1941.0    0.847275\n",
       "1942.0    0.492664\n",
       "1943.0    0.372873\n",
       "1944.0    0.439833\n",
       "1945.0    0.376872\n",
       "1946.0    0.965746\n",
       "1947.0    1.176815\n",
       "1948.0    1.063505\n",
       "1949.0    0.606792\n",
       "1950.0    0.679901\n",
       "1951.0    0.947732\n",
       "1952.0    1.045731\n",
       "1953.0    1.265761\n",
       "1954.0    1.302470\n",
       "1955.0    1.232264\n",
       "1956.0    1.216884\n",
       "1957.0    1.085141\n",
       "1958.0    1.224132\n",
       "1959.0    1.304296\n",
       "1960.0    1.288318\n",
       "1961.0    1.271001\n",
       "1962.0    1.301952\n",
       "1963.0    1.392846\n",
       "1964.0    1.373790\n",
       "1965.0    1.207333\n",
       "1966.0    1.318531\n",
       "1967.0    1.262519\n",
       "1968.0    1.161332\n",
       "1969.0    1.135027\n",
       "1970.0    1.149589\n",
       "1971.0    1.220030\n",
       "1972.0    1.224521\n",
       "1973.0    1.212336\n",
       "1974.0    1.250731\n",
       "1975.0    1.340388\n",
       "1976.0    1.328699\n",
       "1977.0    1.312492\n",
       "1978.0    1.329437\n",
       "1979.0    1.344243\n",
       "1980.0    1.398474\n",
       "1981.0    1.359110\n",
       "1982.0    1.340365\n",
       "1983.0    1.337359\n",
       "1984.0    1.442412\n",
       "1985.0    1.359833\n",
       "1986.0    1.374041\n",
       "1987.0    1.380217\n",
       "1988.0    1.421834\n",
       "1989.0    1.495072\n",
       "1990.0    1.411750\n",
       "1991.0    1.483113\n",
       "1992.0    1.894399\n",
       "1993.0    2.192835\n",
       "1994.0    2.467302\n",
       "1995.0    2.741248\n",
       "1996.0    2.881933\n",
       "1997.0    3.148642\n",
       "1998.0    3.126435\n",
       "1999.0    3.473938\n",
       "2000.0    3.575483\n",
       "2001.0    3.628493\n",
       "2002.0    3.869608\n",
       "2003.0    4.047827\n",
       "2004.0    4.201039\n",
       "2005.0    4.329494\n",
       "2006.0    4.514536\n",
       "2007.0    4.626317\n",
       "2008.0    4.820989\n",
       "2009.0    4.747477\n",
       "2010.0    4.806572\n",
       "2011.0    4.878919\n",
       "2012.0    4.704673\n",
       "2013.0    4.837161\n",
       "2014.0    4.817393\n",
       "2015.0    5.147477\n",
       "2016.0    4.960392\n",
       "2017.0    5.130171\n",
       "2018.0    5.351758\n",
       "2019.0    5.156762\n",
       "2020.0    4.864760\n",
       "2021.0    5.043311\n",
       "2022.0    4.960727\n",
       "2023.0    4.545616\n",
       "2024.0    2.416275\n",
       "Name: stran, dtype: float64"
      ]
     },
     "execution_count": 119,
     "metadata": {},
     "output_type": "execute_result"
    }
   ],
   "source": [
    "stihando = df.groupby('rok')['stran'].sum() / za_rok\n",
    "stihando"
   ]
  },
  {
   "cell_type": "code",
   "execution_count": 120,
   "id": "7c5fd403-5b76-43b8-93e4-98c0db4a9570",
   "metadata": {},
   "outputs": [
    {
     "data": {
      "text/plain": [
       "rok\n",
       "1930.0    1.146050\n",
       "1936.0    1.039890\n",
       "1937.0    1.068082\n",
       "1947.0    1.176815\n",
       "1948.0    1.063505\n",
       "1952.0    1.045731\n",
       "1953.0    1.265761\n",
       "1954.0    1.302470\n",
       "1955.0    1.232264\n",
       "1956.0    1.216884\n",
       "1957.0    1.085141\n",
       "1958.0    1.224132\n",
       "1959.0    1.304296\n",
       "1960.0    1.288318\n",
       "1961.0    1.271001\n",
       "1962.0    1.301952\n",
       "1963.0    1.392846\n",
       "1964.0    1.373790\n",
       "1965.0    1.207333\n",
       "1966.0    1.318531\n",
       "1967.0    1.262519\n",
       "1968.0    1.161332\n",
       "1969.0    1.135027\n",
       "1970.0    1.149589\n",
       "1971.0    1.220030\n",
       "1972.0    1.224521\n",
       "1973.0    1.212336\n",
       "1974.0    1.250731\n",
       "1975.0    1.340388\n",
       "1976.0    1.328699\n",
       "1977.0    1.312492\n",
       "1978.0    1.329437\n",
       "1979.0    1.344243\n",
       "1980.0    1.398474\n",
       "1981.0    1.359110\n",
       "1982.0    1.340365\n",
       "1983.0    1.337359\n",
       "1984.0    1.442412\n",
       "1985.0    1.359833\n",
       "1986.0    1.374041\n",
       "1987.0    1.380217\n",
       "1988.0    1.421834\n",
       "1989.0    1.495072\n",
       "1990.0    1.411750\n",
       "1991.0    1.483113\n",
       "1992.0    1.894399\n",
       "1993.0    2.192835\n",
       "1994.0    2.467302\n",
       "1995.0    2.741248\n",
       "1996.0    2.881933\n",
       "1997.0    3.148642\n",
       "1998.0    3.126435\n",
       "1999.0    3.473938\n",
       "2000.0    3.575483\n",
       "2001.0    3.628493\n",
       "2002.0    3.869608\n",
       "2003.0    4.047827\n",
       "2004.0    4.201039\n",
       "2005.0    4.329494\n",
       "2006.0    4.514536\n",
       "2007.0    4.626317\n",
       "2008.0    4.820989\n",
       "2009.0    4.747477\n",
       "2010.0    4.806572\n",
       "2011.0    4.878919\n",
       "2012.0    4.704673\n",
       "2013.0    4.837161\n",
       "2014.0    4.817393\n",
       "2015.0    5.147477\n",
       "2016.0    4.960392\n",
       "2017.0    5.130171\n",
       "2018.0    5.351758\n",
       "2019.0    5.156762\n",
       "2020.0    4.864760\n",
       "2021.0    5.043311\n",
       "2022.0    4.960727\n",
       "2023.0    4.545616\n",
       "2024.0    2.416275\n",
       "Name: stran, dtype: float64"
      ]
     },
     "execution_count": 120,
     "metadata": {},
     "output_type": "execute_result"
    }
   ],
   "source": [
    "stihando[stihando >= 1]"
   ]
  },
  {
   "cell_type": "code",
   "execution_count": 121,
   "id": "252279b3-75d8-4aef-b413-da392e8dd2ae",
   "metadata": {},
   "outputs": [
    {
     "data": {
      "text/plain": [
       "rok\n",
       "2008.0    7616\n",
       "2015.0    7460\n",
       "2014.0    7352\n",
       "2018.0    7317\n",
       "2007.0    7310\n",
       "dtype: int64"
      ]
     },
     "execution_count": 121,
     "metadata": {},
     "output_type": "execute_result"
    }
   ],
   "source": [
    "df.groupby(\"rok\").size().nlargest()"
   ]
  },
  {
   "cell_type": "code",
   "execution_count": 161,
   "id": "013ef98b-b30c-4fa2-81d8-fc736ee55706",
   "metadata": {},
   "outputs": [
    {
     "data": {
      "text/plain": [
       "0.45552963694000836"
      ]
     },
     "execution_count": 161,
     "metadata": {},
     "output_type": "execute_result"
    }
   ],
   "source": [
    "7616 / 16719"
   ]
  },
  {
   "cell_type": "code",
   "execution_count": 122,
   "id": "1176798b-714a-48af-b84b-66cdd2a4e956",
   "metadata": {},
   "outputs": [
    {
     "data": {
      "text/plain": [
       "rok\n",
       "2018.0    1406442.0\n",
       "2019.0    1355197.0\n",
       "2015.0    1352757.0\n",
       "2017.0    1348209.0\n",
       "2021.0    1325382.0\n",
       "Name: stran, dtype: float64"
      ]
     },
     "execution_count": 122,
     "metadata": {},
     "output_type": "execute_result"
    }
   ],
   "source": [
    "df.groupby(\"rok\")[\"stran\"].sum().nlargest()"
   ]
  },
  {
   "cell_type": "code",
   "execution_count": 123,
   "id": "e49fbf72-18ca-4c7e-a7cc-84b2416d883c",
   "metadata": {},
   "outputs": [
    {
     "data": {
      "text/plain": [
       "rok\n",
       "1900.0    0.495152\n",
       "1901.0    0.543893\n",
       "1902.0    0.644882\n",
       "1903.0    0.537017\n",
       "1904.0    0.499623\n",
       "1905.0    0.498166\n",
       "1906.0    0.507679\n",
       "1907.0    0.452009\n",
       "1908.0    0.520057\n",
       "1909.0    0.492850\n",
       "1910.0    0.564083\n",
       "1911.0    0.492995\n",
       "1912.0    0.530567\n",
       "1913.0    0.548318\n",
       "1914.0    0.378352\n",
       "1915.0    0.264973\n",
       "1916.0    0.265818\n",
       "1917.0    0.268771\n",
       "1918.0    0.314947\n",
       "1919.0    0.508535\n",
       "1920.0    0.621130\n",
       "1921.0    0.516328\n",
       "1922.0    0.588992\n",
       "1923.0    0.680746\n",
       "1924.0    0.760103\n",
       "1925.0    0.886145\n",
       "1926.0    0.895361\n",
       "1927.0    0.916229\n",
       "1928.0    0.934844\n",
       "1929.0    0.939844\n",
       "1931.0    0.946686\n",
       "1932.0    0.861100\n",
       "1933.0    0.822123\n",
       "1934.0    0.802812\n",
       "1935.0    0.861743\n",
       "1938.0    0.896012\n",
       "1939.0    0.688120\n",
       "1940.0    0.788992\n",
       "1941.0    0.847275\n",
       "1942.0    0.492664\n",
       "1943.0    0.372873\n",
       "1944.0    0.439833\n",
       "1945.0    0.376872\n",
       "1946.0    0.965746\n",
       "1949.0    0.606792\n",
       "1950.0    0.679901\n",
       "1951.0    0.947732\n",
       "Name: stran, dtype: float64"
      ]
     },
     "execution_count": 123,
     "metadata": {},
     "output_type": "execute_result"
    }
   ],
   "source": [
    "stihando[stihando < 1]"
   ]
  },
  {
   "cell_type": "code",
   "execution_count": 124,
   "id": "6cfc4c85-8648-4ead-baff-82127f946ff8",
   "metadata": {},
   "outputs": [
    {
     "data": {
      "text/plain": [
       "rok\n",
       "2018.0    5.351758\n",
       "2019.0    5.156762\n",
       "2015.0    5.147477\n",
       "2017.0    5.130171\n",
       "2021.0    5.043311\n",
       "Name: stran, dtype: float64"
      ]
     },
     "execution_count": 124,
     "metadata": {},
     "output_type": "execute_result"
    }
   ],
   "source": [
    "stihando.nlargest(5)"
   ]
  },
  {
   "cell_type": "code",
   "execution_count": 125,
   "id": "3ec2aeab-29ab-4fda-97be-d7bdcf370c34",
   "metadata": {},
   "outputs": [
    {
     "data": {
      "text/plain": [
       "345.9222222222222"
      ]
     },
     "execution_count": 125,
     "metadata": {},
     "output_type": "execute_result"
    }
   ],
   "source": [
    "365 * stihando[stihando.index == 1951].iloc[0]"
   ]
  },
  {
   "cell_type": "code",
   "execution_count": 126,
   "id": "5a0e8eaa-a804-4fc1-979d-e7ee62140136",
   "metadata": {},
   "outputs": [
    {
     "data": {
      "text/plain": [
       "rok\n",
       "2020.0    402111.0\n",
       "2021.0    465689.0\n",
       "2022.0    458510.0\n",
       "2023.0    439451.0\n",
       "2024.0    280028.0\n",
       "Name: stran, dtype: float64"
      ]
     },
     "execution_count": 126,
     "metadata": {},
     "output_type": "execute_result"
    }
   ],
   "source": [
    "df[df['072_x'].astype(str).str.contains('próza',na=False)].groupby(\"rok\")['stran'].sum().tail()"
   ]
  },
  {
   "cell_type": "code",
   "execution_count": 127,
   "id": "8e586090-ce55-45f3-9fce-f0f918b06196",
   "metadata": {},
   "outputs": [
    {
     "data": {
      "text/plain": [
       "rok\n",
       "2020.0    1.530103\n",
       "2021.0    1.772028\n",
       "2022.0    1.744711\n",
       "2023.0    1.672188\n",
       "2024.0    1.065556\n",
       "Name: stran, dtype: float64"
      ]
     },
     "execution_count": 127,
     "metadata": {},
     "output_type": "execute_result"
    }
   ],
   "source": [
    "df[df['072_x'].astype(str).str.contains('próza',na=False)].groupby(\"rok\")['stran'].sum().tail() / za_rok"
   ]
  },
  {
   "cell_type": "code",
   "execution_count": 128,
   "id": "74180714-8483-447b-9b04-5808b19649f3",
   "metadata": {},
   "outputs": [
    {
     "data": {
      "text/plain": [
       "rok\n",
       "2020.0    1.530103\n",
       "2021.0    1.772028\n",
       "2022.0    1.744711\n",
       "2023.0    1.672188\n",
       "2024.0    1.065556\n",
       "Name: stran, dtype: float64"
      ]
     },
     "execution_count": 128,
     "metadata": {},
     "output_type": "execute_result"
    }
   ],
   "source": [
    "df[df['072_x'].astype(str).str.contains('próza',na=False)].groupby(\"rok\")['stran'].sum().tail() / za_rok"
   ]
  },
  {
   "cell_type": "code",
   "execution_count": 129,
   "id": "f71747e1-0a15-46b6-a27c-f024fdfb8a40",
   "metadata": {},
   "outputs": [
    {
     "data": {
      "text/plain": [
       "rok\n",
       "2020.0    0.313001\n",
       "2021.0    0.311208\n",
       "2022.0    0.272678\n",
       "2023.0    0.231087\n",
       "2024.0    0.295977\n",
       "dtype: float64"
      ]
     },
     "execution_count": 129,
     "metadata": {},
     "output_type": "execute_result"
    }
   ],
   "source": [
    "(df[df['072_x'].astype(str).str.contains('próza',na=False) & (df['cena'].notnull())].groupby(\"rok\").size() / df[df['072_x'].astype(str).str.contains('próza',na=False)].groupby(\"rok\").size()).tail(5)"
   ]
  },
  {
   "cell_type": "code",
   "execution_count": 130,
   "id": "de0f4866-e49d-4e55-9ee1-f73c6fca7601",
   "metadata": {},
   "outputs": [
    {
     "data": {
      "text/plain": [
       "rok\n",
       "2020.0    299.0\n",
       "2021.0    299.0\n",
       "2022.0    349.0\n",
       "2023.0    349.0\n",
       "2024.0    369.0\n",
       "Name: cena, dtype: float64"
      ]
     },
     "execution_count": 130,
     "metadata": {},
     "output_type": "execute_result"
    }
   ],
   "source": [
    "df[df['072_x'].astype(str).str.contains('próza',na=False)].groupby(\"rok\")['cena'].median().tail()"
   ]
  }
 ],
 "metadata": {
  "kernelspec": {
   "display_name": "Python 3 (ipykernel)",
   "language": "python",
   "name": "python3"
  },
  "language_info": {
   "codemirror_mode": {
    "name": "ipython",
    "version": 3
   },
   "file_extension": ".py",
   "mimetype": "text/x-python",
   "name": "python",
   "nbconvert_exporter": "python",
   "pygments_lexer": "ipython3",
   "version": "3.12.3"
  }
 },
 "nbformat": 4,
 "nbformat_minor": 5
}
