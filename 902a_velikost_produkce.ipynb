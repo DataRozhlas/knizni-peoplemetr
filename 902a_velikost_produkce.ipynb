{
 "cells": [
  {
   "cell_type": "code",
   "execution_count": 1,
   "id": "f2e779a1-31ae-4ace-aaf1-110d8fd32679",
   "metadata": {},
   "outputs": [],
   "source": [
    "import os\n",
    "import datetime\n",
    "import warnings\n",
    "import polars as pl\n",
    "import pandas as pd\n",
    "import altair as alt\n",
    "\n",
    "from src.najdi_rok import najdi_rok\n",
    "from src.pocet_stran import pocet_stran\n",
    "from src.bez_bordelu import bez_bordelu\n",
    "from src.alt_friendly import alt_friendly\n",
    "from src.hezke_jmeno import hezke_jmeno\n",
    "from src.kristi_promin import kristi_promin\n",
    "from src.zjisti_vazbu import zjisti_vazbu\n",
    "\n",
    "pl.Config(tbl_rows=100)\n",
    "alt.data_transformers.disable_max_rows()\n",
    "alt.themes.register('irozhlas', kristi_promin)\n",
    "alt.themes.enable('irozhlas')\n",
    "warnings.filterwarnings('ignore')"
   ]
  },
  {
   "cell_type": "code",
   "execution_count": 3,
   "id": "171cd216-f3ae-4323-acef-522a4a17252a",
   "metadata": {},
   "outputs": [],
   "source": [
    "uplne_vsechno = pl.read_parquet(os.path.join(\"data/cnb_sloupce\",\"008.parquet\"))"
   ]
  },
  {
   "cell_type": "code",
   "execution_count": null,
   "id": "c7aed2b6-846d-40f9-b961-12508c61a770",
   "metadata": {},
   "outputs": [],
   "source": []
  },
  {
   "cell_type": "code",
   "execution_count": 5,
   "id": "dd1aaf92-1e6d-4fe8-9200-5480e93dc255",
   "metadata": {},
   "outputs": [
    {
     "data": {
      "text/plain": [
       "1250624"
      ]
     },
     "execution_count": 5,
     "metadata": {},
     "output_type": "execute_result"
    }
   ],
   "source": [
    "len(uplne_vsechno)"
   ]
  },
  {
   "cell_type": "code",
   "execution_count": 7,
   "id": "43054e96-2d00-4162-aa5f-24aee07fee04",
   "metadata": {},
   "outputs": [],
   "source": [
    "df = pl.read_parquet(os.path.join(\"data\",\"cnb_vyber.parquet\"))\n",
    "df = df.with_columns(pl.col('008').map_elements(najdi_rok, return_dtype=int).alias('rok'))\n",
    "df = df.with_columns(pl.col('300_a').map_elements(pocet_stran, return_dtype=int).alias('pocet_stran'))"
   ]
  },
  {
   "cell_type": "code",
   "execution_count": 8,
   "id": "fcbe3f44-602d-4479-907a-16ee5177dcb7",
   "metadata": {},
   "outputs": [
    {
     "data": {
      "text/html": [
       "<div><style>\n",
       ".dataframe > thead > tr,\n",
       ".dataframe > tbody > tr {\n",
       "  text-align: right;\n",
       "  white-space: pre-wrap;\n",
       "}\n",
       "</style>\n",
       "<small>shape: (124, 2)</small><table border=\"1\" class=\"dataframe\"><thead><tr><th>rok</th><th>knih</th></tr><tr><td>datetime[μs]</td><td>u32</td></tr></thead><tbody><tr><td>1900-01-01 00:00:00</td><td>1357</td></tr><tr><td>1901-01-01 00:00:00</td><td>1808</td></tr><tr><td>1902-01-01 00:00:00</td><td>2036</td></tr><tr><td>1903-01-01 00:00:00</td><td>1971</td></tr><tr><td>1904-01-01 00:00:00</td><td>1898</td></tr><tr><td>1905-01-01 00:00:00</td><td>1810</td></tr><tr><td>1906-01-01 00:00:00</td><td>2240</td></tr><tr><td>1907-01-01 00:00:00</td><td>2075</td></tr><tr><td>1908-01-01 00:00:00</td><td>2338</td></tr><tr><td>1909-01-01 00:00:00</td><td>2245</td></tr><tr><td>1910-01-01 00:00:00</td><td>2543</td></tr><tr><td>1911-01-01 00:00:00</td><td>2473</td></tr><tr><td>1912-01-01 00:00:00</td><td>2594</td></tr><tr><td>1913-01-01 00:00:00</td><td>2690</td></tr><tr><td>1914-01-01 00:00:00</td><td>2038</td></tr><tr><td>1915-01-01 00:00:00</td><td>1392</td></tr><tr><td>1916-01-01 00:00:00</td><td>1509</td></tr><tr><td>1917-01-01 00:00:00</td><td>1577</td></tr><tr><td>1918-01-01 00:00:00</td><td>1904</td></tr><tr><td>1919-01-01 00:00:00</td><td>3419</td></tr><tr><td>1920-01-01 00:00:00</td><td>4289</td></tr><tr><td>1921-01-01 00:00:00</td><td>3803</td></tr><tr><td>1922-01-01 00:00:00</td><td>4238</td></tr><tr><td>1923-01-01 00:00:00</td><td>4232</td></tr><tr><td>1924-01-01 00:00:00</td><td>4688</td></tr><tr><td>1925-01-01 00:00:00</td><td>5256</td></tr><tr><td>1926-01-01 00:00:00</td><td>4855</td></tr><tr><td>1927-01-01 00:00:00</td><td>4679</td></tr><tr><td>1928-01-01 00:00:00</td><td>4938</td></tr><tr><td>1929-01-01 00:00:00</td><td>4858</td></tr><tr><td>1930-01-01 00:00:00</td><td>5531</td></tr><tr><td>1931-01-01 00:00:00</td><td>4982</td></tr><tr><td>1932-01-01 00:00:00</td><td>4637</td></tr><tr><td>1933-01-01 00:00:00</td><td>4627</td></tr><tr><td>1934-01-01 00:00:00</td><td>4867</td></tr><tr><td>1935-01-01 00:00:00</td><td>5472</td></tr><tr><td>1936-01-01 00:00:00</td><td>6435</td></tr><tr><td>1937-01-01 00:00:00</td><td>6488</td></tr><tr><td>1938-01-01 00:00:00</td><td>5611</td></tr><tr><td>1939-01-01 00:00:00</td><td>4215</td></tr><tr><td>1940-01-01 00:00:00</td><td>5558</td></tr><tr><td>1941-01-01 00:00:00</td><td>5267</td></tr><tr><td>1942-01-01 00:00:00</td><td>2705</td></tr><tr><td>1943-01-01 00:00:00</td><td>2080</td></tr><tr><td>1944-01-01 00:00:00</td><td>2460</td></tr><tr><td>1945-01-01 00:00:00</td><td>3082</td></tr><tr><td>1946-01-01 00:00:00</td><td>6049</td></tr><tr><td>1947-01-01 00:00:00</td><td>6492</td></tr><tr><td>1948-01-01 00:00:00</td><td>5387</td></tr><tr><td>1949-01-01 00:00:00</td><td>3972</td></tr><tr><td>&hellip;</td><td>&hellip;</td></tr><tr><td>1974-01-01 00:00:00</td><td>5600</td></tr><tr><td>1975-01-01 00:00:00</td><td>5569</td></tr><tr><td>1976-01-01 00:00:00</td><td>5790</td></tr><tr><td>1977-01-01 00:00:00</td><td>5567</td></tr><tr><td>1978-01-01 00:00:00</td><td>5639</td></tr><tr><td>1979-01-01 00:00:00</td><td>5906</td></tr><tr><td>1980-01-01 00:00:00</td><td>6017</td></tr><tr><td>1981-01-01 00:00:00</td><td>5998</td></tr><tr><td>1982-01-01 00:00:00</td><td>6100</td></tr><tr><td>1983-01-01 00:00:00</td><td>6191</td></tr><tr><td>1984-01-01 00:00:00</td><td>6344</td></tr><tr><td>1985-01-01 00:00:00</td><td>6419</td></tr><tr><td>1986-01-01 00:00:00</td><td>6604</td></tr><tr><td>1987-01-01 00:00:00</td><td>6899</td></tr><tr><td>1988-01-01 00:00:00</td><td>6803</td></tr><tr><td>1989-01-01 00:00:00</td><td>7063</td></tr><tr><td>1990-01-01 00:00:00</td><td>6927</td></tr><tr><td>1991-01-01 00:00:00</td><td>7200</td></tr><tr><td>1992-01-01 00:00:00</td><td>8639</td></tr><tr><td>1993-01-01 00:00:00</td><td>8492</td></tr><tr><td>1994-01-01 00:00:00</td><td>8940</td></tr><tr><td>1995-01-01 00:00:00</td><td>9791</td></tr><tr><td>1996-01-01 00:00:00</td><td>10461</td></tr><tr><td>1997-01-01 00:00:00</td><td>10948</td></tr><tr><td>1998-01-01 00:00:00</td><td>11240</td></tr><tr><td>1999-01-01 00:00:00</td><td>11649</td></tr><tr><td>2000-01-01 00:00:00</td><td>12527</td></tr><tr><td>2001-01-01 00:00:00</td><td>12554</td></tr><tr><td>2002-01-01 00:00:00</td><td>12727</td></tr><tr><td>2003-01-01 00:00:00</td><td>13820</td></tr><tr><td>2004-01-01 00:00:00</td><td>13783</td></tr><tr><td>2005-01-01 00:00:00</td><td>14184</td></tr><tr><td>2006-01-01 00:00:00</td><td>15159</td></tr><tr><td>2007-01-01 00:00:00</td><td>16024</td></tr><tr><td>2008-01-01 00:00:00</td><td>16736</td></tr><tr><td>2009-01-01 00:00:00</td><td>15556</td></tr><tr><td>2010-01-01 00:00:00</td><td>15916</td></tr><tr><td>2011-01-01 00:00:00</td><td>15400</td></tr><tr><td>2012-01-01 00:00:00</td><td>15544</td></tr><tr><td>2013-01-01 00:00:00</td><td>15232</td></tr><tr><td>2014-01-01 00:00:00</td><td>15248</td></tr><tr><td>2015-01-01 00:00:00</td><td>14754</td></tr><tr><td>2016-01-01 00:00:00</td><td>14009</td></tr><tr><td>2017-01-01 00:00:00</td><td>13784</td></tr><tr><td>2018-01-01 00:00:00</td><td>14171</td></tr><tr><td>2019-01-01 00:00:00</td><td>13730</td></tr><tr><td>2020-01-01 00:00:00</td><td>12488</td></tr><tr><td>2021-01-01 00:00:00</td><td>12942</td></tr><tr><td>2022-01-01 00:00:00</td><td>13296</td></tr><tr><td>2023-01-01 00:00:00</td><td>11791</td></tr></tbody></table></div>"
      ],
      "text/plain": [
       "shape: (124, 2)\n",
       "┌─────────────────────┬───────┐\n",
       "│ rok                 ┆ knih  │\n",
       "│ ---                 ┆ ---   │\n",
       "│ datetime[μs]        ┆ u32   │\n",
       "╞═════════════════════╪═══════╡\n",
       "│ 1900-01-01 00:00:00 ┆ 1357  │\n",
       "│ 1901-01-01 00:00:00 ┆ 1808  │\n",
       "│ 1902-01-01 00:00:00 ┆ 2036  │\n",
       "│ 1903-01-01 00:00:00 ┆ 1971  │\n",
       "│ 1904-01-01 00:00:00 ┆ 1898  │\n",
       "│ 1905-01-01 00:00:00 ┆ 1810  │\n",
       "│ 1906-01-01 00:00:00 ┆ 2240  │\n",
       "│ 1907-01-01 00:00:00 ┆ 2075  │\n",
       "│ 1908-01-01 00:00:00 ┆ 2338  │\n",
       "│ 1909-01-01 00:00:00 ┆ 2245  │\n",
       "│ 1910-01-01 00:00:00 ┆ 2543  │\n",
       "│ 1911-01-01 00:00:00 ┆ 2473  │\n",
       "│ 1912-01-01 00:00:00 ┆ 2594  │\n",
       "│ 1913-01-01 00:00:00 ┆ 2690  │\n",
       "│ 1914-01-01 00:00:00 ┆ 2038  │\n",
       "│ 1915-01-01 00:00:00 ┆ 1392  │\n",
       "│ 1916-01-01 00:00:00 ┆ 1509  │\n",
       "│ 1917-01-01 00:00:00 ┆ 1577  │\n",
       "│ 1918-01-01 00:00:00 ┆ 1904  │\n",
       "│ 1919-01-01 00:00:00 ┆ 3419  │\n",
       "│ 1920-01-01 00:00:00 ┆ 4289  │\n",
       "│ 1921-01-01 00:00:00 ┆ 3803  │\n",
       "│ 1922-01-01 00:00:00 ┆ 4238  │\n",
       "│ 1923-01-01 00:00:00 ┆ 4232  │\n",
       "│ 1924-01-01 00:00:00 ┆ 4688  │\n",
       "│ 1925-01-01 00:00:00 ┆ 5256  │\n",
       "│ 1926-01-01 00:00:00 ┆ 4855  │\n",
       "│ 1927-01-01 00:00:00 ┆ 4679  │\n",
       "│ 1928-01-01 00:00:00 ┆ 4938  │\n",
       "│ 1929-01-01 00:00:00 ┆ 4858  │\n",
       "│ 1930-01-01 00:00:00 ┆ 5531  │\n",
       "│ 1931-01-01 00:00:00 ┆ 4982  │\n",
       "│ 1932-01-01 00:00:00 ┆ 4637  │\n",
       "│ 1933-01-01 00:00:00 ┆ 4627  │\n",
       "│ 1934-01-01 00:00:00 ┆ 4867  │\n",
       "│ 1935-01-01 00:00:00 ┆ 5472  │\n",
       "│ 1936-01-01 00:00:00 ┆ 6435  │\n",
       "│ 1937-01-01 00:00:00 ┆ 6488  │\n",
       "│ 1938-01-01 00:00:00 ┆ 5611  │\n",
       "│ 1939-01-01 00:00:00 ┆ 4215  │\n",
       "│ 1940-01-01 00:00:00 ┆ 5558  │\n",
       "│ 1941-01-01 00:00:00 ┆ 5267  │\n",
       "│ 1942-01-01 00:00:00 ┆ 2705  │\n",
       "│ 1943-01-01 00:00:00 ┆ 2080  │\n",
       "│ 1944-01-01 00:00:00 ┆ 2460  │\n",
       "│ 1945-01-01 00:00:00 ┆ 3082  │\n",
       "│ 1946-01-01 00:00:00 ┆ 6049  │\n",
       "│ 1947-01-01 00:00:00 ┆ 6492  │\n",
       "│ 1948-01-01 00:00:00 ┆ 5387  │\n",
       "│ 1949-01-01 00:00:00 ┆ 3972  │\n",
       "│ …                   ┆ …     │\n",
       "│ 1974-01-01 00:00:00 ┆ 5600  │\n",
       "│ 1975-01-01 00:00:00 ┆ 5569  │\n",
       "│ 1976-01-01 00:00:00 ┆ 5790  │\n",
       "│ 1977-01-01 00:00:00 ┆ 5567  │\n",
       "│ 1978-01-01 00:00:00 ┆ 5639  │\n",
       "│ 1979-01-01 00:00:00 ┆ 5906  │\n",
       "│ 1980-01-01 00:00:00 ┆ 6017  │\n",
       "│ 1981-01-01 00:00:00 ┆ 5998  │\n",
       "│ 1982-01-01 00:00:00 ┆ 6100  │\n",
       "│ 1983-01-01 00:00:00 ┆ 6191  │\n",
       "│ 1984-01-01 00:00:00 ┆ 6344  │\n",
       "│ 1985-01-01 00:00:00 ┆ 6419  │\n",
       "│ 1986-01-01 00:00:00 ┆ 6604  │\n",
       "│ 1987-01-01 00:00:00 ┆ 6899  │\n",
       "│ 1988-01-01 00:00:00 ┆ 6803  │\n",
       "│ 1989-01-01 00:00:00 ┆ 7063  │\n",
       "│ 1990-01-01 00:00:00 ┆ 6927  │\n",
       "│ 1991-01-01 00:00:00 ┆ 7200  │\n",
       "│ 1992-01-01 00:00:00 ┆ 8639  │\n",
       "│ 1993-01-01 00:00:00 ┆ 8492  │\n",
       "│ 1994-01-01 00:00:00 ┆ 8940  │\n",
       "│ 1995-01-01 00:00:00 ┆ 9791  │\n",
       "│ 1996-01-01 00:00:00 ┆ 10461 │\n",
       "│ 1997-01-01 00:00:00 ┆ 10948 │\n",
       "│ 1998-01-01 00:00:00 ┆ 11240 │\n",
       "│ 1999-01-01 00:00:00 ┆ 11649 │\n",
       "│ 2000-01-01 00:00:00 ┆ 12527 │\n",
       "│ 2001-01-01 00:00:00 ┆ 12554 │\n",
       "│ 2002-01-01 00:00:00 ┆ 12727 │\n",
       "│ 2003-01-01 00:00:00 ┆ 13820 │\n",
       "│ 2004-01-01 00:00:00 ┆ 13783 │\n",
       "│ 2005-01-01 00:00:00 ┆ 14184 │\n",
       "│ 2006-01-01 00:00:00 ┆ 15159 │\n",
       "│ 2007-01-01 00:00:00 ┆ 16024 │\n",
       "│ 2008-01-01 00:00:00 ┆ 16736 │\n",
       "│ 2009-01-01 00:00:00 ┆ 15556 │\n",
       "│ 2010-01-01 00:00:00 ┆ 15916 │\n",
       "│ 2011-01-01 00:00:00 ┆ 15400 │\n",
       "│ 2012-01-01 00:00:00 ┆ 15544 │\n",
       "│ 2013-01-01 00:00:00 ┆ 15232 │\n",
       "│ 2014-01-01 00:00:00 ┆ 15248 │\n",
       "│ 2015-01-01 00:00:00 ┆ 14754 │\n",
       "│ 2016-01-01 00:00:00 ┆ 14009 │\n",
       "│ 2017-01-01 00:00:00 ┆ 13784 │\n",
       "│ 2018-01-01 00:00:00 ┆ 14171 │\n",
       "│ 2019-01-01 00:00:00 ┆ 13730 │\n",
       "│ 2020-01-01 00:00:00 ┆ 12488 │\n",
       "│ 2021-01-01 00:00:00 ┆ 12942 │\n",
       "│ 2022-01-01 00:00:00 ┆ 13296 │\n",
       "│ 2023-01-01 00:00:00 ┆ 11791 │\n",
       "└─────────────────────┴───────┘"
      ]
     },
     "execution_count": 8,
     "metadata": {},
     "output_type": "execute_result"
    }
   ],
   "source": [
    "rocni_pocty = df.filter(pl.col('rok').is_between(1900, 2023)).group_by('rok').len().sort('rok').rename({'len':'knih'}).with_columns(pl.col(\"rok\").map_elements(lambda x: datetime.date(year=int(x), month=1, day=1), return_dtype=pl.Date).cast(pl.Datetime))\n",
    "rocni_pocty"
   ]
  },
  {
   "cell_type": "code",
   "execution_count": 386,
   "id": "595832aa-6725-4f08-9d7c-f5364bddea58",
   "metadata": {},
   "outputs": [
    {
     "data": {
      "text/html": [
       "<div><style>\n",
       ".dataframe > thead > tr,\n",
       ".dataframe > tbody > tr {\n",
       "  text-align: right;\n",
       "  white-space: pre-wrap;\n",
       "}\n",
       "</style>\n",
       "<small>shape: (124, 2)</small><table border=\"1\" class=\"dataframe\"><thead><tr><th>rok</th><th>stran</th></tr><tr><td>datetime[μs]</td><td>i64</td></tr></thead><tbody><tr><td>1900-01-01 00:00:00</td><td>168497</td></tr><tr><td>1901-01-01 00:00:00</td><td>223129</td></tr><tr><td>1902-01-01 00:00:00</td><td>273839</td></tr><tr><td>1903-01-01 00:00:00</td><td>235230</td></tr><tr><td>1904-01-01 00:00:00</td><td>219023</td></tr><tr><td>&hellip;</td><td>&hellip;</td></tr><tr><td>2019-01-01 00:00:00</td><td>2631970</td></tr><tr><td>2020-01-01 00:00:00</td><td>2400757</td></tr><tr><td>2021-01-01 00:00:00</td><td>2504773</td></tr><tr><td>2022-01-01 00:00:00</td><td>2619766</td></tr><tr><td>2023-01-01 00:00:00</td><td>2348952</td></tr></tbody></table></div>"
      ],
      "text/plain": [
       "shape: (124, 2)\n",
       "┌─────────────────────┬─────────┐\n",
       "│ rok                 ┆ stran   │\n",
       "│ ---                 ┆ ---     │\n",
       "│ datetime[μs]        ┆ i64     │\n",
       "╞═════════════════════╪═════════╡\n",
       "│ 1900-01-01 00:00:00 ┆ 168497  │\n",
       "│ 1901-01-01 00:00:00 ┆ 223129  │\n",
       "│ 1902-01-01 00:00:00 ┆ 273839  │\n",
       "│ 1903-01-01 00:00:00 ┆ 235230  │\n",
       "│ 1904-01-01 00:00:00 ┆ 219023  │\n",
       "│ …                   ┆ …       │\n",
       "│ 2019-01-01 00:00:00 ┆ 2631970 │\n",
       "│ 2020-01-01 00:00:00 ┆ 2400757 │\n",
       "│ 2021-01-01 00:00:00 ┆ 2504773 │\n",
       "│ 2022-01-01 00:00:00 ┆ 2619766 │\n",
       "│ 2023-01-01 00:00:00 ┆ 2348952 │\n",
       "└─────────────────────┴─────────┘"
      ]
     },
     "execution_count": 386,
     "metadata": {},
     "output_type": "execute_result"
    }
   ],
   "source": [
    "rocni_strany = df.filter(pl.col('rok').is_between(1900, 2023)).group_by('rok').agg(pl.col(\"pocet_stran\").sum()).sort('rok').rename({'pocet_stran':'stran'}).with_columns(pl.col(\"rok\").map_elements(lambda x: datetime.date(year=int(x), month=1, day=1), return_dtype=pl.Date).cast(pl.Datetime))\n",
    "rocni_strany"
   ]
  },
  {
   "cell_type": "code",
   "execution_count": 387,
   "id": "a36f9f78-0c99-442c-9dea-4c5570d9ac50",
   "metadata": {},
   "outputs": [],
   "source": [
    "novinky = df.filter(pl.col('rok').is_between(1900, 2023)).filter(pl.col('pocet_stran') >= 50).sort('rok').unique(subset=[\"245_a\",\"100_a\"])\n",
    "novinky = novinky.group_by('rok').len().with_columns(pl.col(\"rok\").map_elements(lambda x: datetime.date(year=int(x), month=1, day=1), return_dtype=pl.Date).cast(pl.Datetime))\n",
    "novinky = novinky.sort('rok').rename({'len':'novinky'})"
   ]
  },
  {
   "cell_type": "code",
   "execution_count": 388,
   "id": "d2205058-2f11-44dc-9f20-0bb758498d69",
   "metadata": {},
   "outputs": [],
   "source": [
    "celkem_vyslo = df.filter(pl.col('rok').is_between(1900, 2023)).filter(pl.col('pocet_stran') >= 50).group_by('rok').agg(pl.col('008').unique().len()).rename({'008':'celkem_vyslo'}).sort('rok')"
   ]
  },
  {
   "cell_type": "code",
   "execution_count": 389,
   "id": "9cd3762c-e138-47ab-b5b9-77900e0854bc",
   "metadata": {},
   "outputs": [
    {
     "data": {
      "text/html": [
       "<div><style>\n",
       ".dataframe > thead > tr,\n",
       ".dataframe > tbody > tr {\n",
       "  text-align: right;\n",
       "  white-space: pre-wrap;\n",
       "}\n",
       "</style>\n",
       "<small>shape: (124, 2)</small><table border=\"1\" class=\"dataframe\"><thead><tr><th>rok</th><th>preklady</th></tr><tr><td>i64</td><td>u32</td></tr></thead><tbody><tr><td>1900</td><td>174</td></tr><tr><td>1901</td><td>218</td></tr><tr><td>1902</td><td>232</td></tr><tr><td>1903</td><td>225</td></tr><tr><td>1904</td><td>216</td></tr><tr><td>&hellip;</td><td>&hellip;</td></tr><tr><td>2019</td><td>3210</td></tr><tr><td>2020</td><td>2692</td></tr><tr><td>2021</td><td>2740</td></tr><tr><td>2022</td><td>2906</td></tr><tr><td>2023</td><td>2598</td></tr></tbody></table></div>"
      ],
      "text/plain": [
       "shape: (124, 2)\n",
       "┌──────┬──────────┐\n",
       "│ rok  ┆ preklady │\n",
       "│ ---  ┆ ---      │\n",
       "│ i64  ┆ u32      │\n",
       "╞══════╪══════════╡\n",
       "│ 1900 ┆ 174      │\n",
       "│ 1901 ┆ 218      │\n",
       "│ 1902 ┆ 232      │\n",
       "│ 1903 ┆ 225      │\n",
       "│ 1904 ┆ 216      │\n",
       "│ …    ┆ …        │\n",
       "│ 2019 ┆ 3210     │\n",
       "│ 2020 ┆ 2692     │\n",
       "│ 2021 ┆ 2740     │\n",
       "│ 2022 ┆ 2906     │\n",
       "│ 2023 ┆ 2598     │\n",
       "└──────┴──────────┘"
      ]
     },
     "execution_count": 389,
     "metadata": {},
     "output_type": "execute_result"
    }
   ],
   "source": [
    "nepuvodni = df.filter(pl.col('rok').is_between(1900, 2023)).filter(pl.col('pocet_stran') >= 50).explode('041_h').filter(pl.col('041_h') != 'cze').group_by('rok').agg(pl.col('008').unique().len()).rename({'008':'preklady'}).sort('rok')\n",
    "nepuvodni"
   ]
  },
  {
   "cell_type": "code",
   "execution_count": 390,
   "id": "d4ad01df-b7e2-4c84-a2c4-938970425382",
   "metadata": {},
   "outputs": [
    {
     "data": {
      "text/html": [
       "<div><style>\n",
       ".dataframe > thead > tr,\n",
       ".dataframe > tbody > tr {\n",
       "  text-align: right;\n",
       "  white-space: pre-wrap;\n",
       "}\n",
       "</style>\n",
       "<small>shape: (124, 2)</small><table border=\"1\" class=\"dataframe\"><thead><tr><th>rok</th><th>podíl překladů</th></tr><tr><td>datetime[μs]</td><td>f64</td></tr></thead><tbody><tr><td>1900-01-01 00:00:00</td><td>0.2265625</td></tr><tr><td>1901-01-01 00:00:00</td><td>0.280206</td></tr><tr><td>1902-01-01 00:00:00</td><td>0.265143</td></tr><tr><td>1903-01-01 00:00:00</td><td>0.260116</td></tr><tr><td>1904-01-01 00:00:00</td><td>0.265356</td></tr><tr><td>&hellip;</td><td>&hellip;</td></tr><tr><td>2019-01-01 00:00:00</td><td>0.365022</td></tr><tr><td>2020-01-01 00:00:00</td><td>0.333333</td></tr><tr><td>2021-01-01 00:00:00</td><td>0.341093</td></tr><tr><td>2022-01-01 00:00:00</td><td>0.35504</td></tr><tr><td>2023-01-01 00:00:00</td><td>0.36199</td></tr></tbody></table></div>"
      ],
      "text/plain": [
       "shape: (124, 2)\n",
       "┌─────────────────────┬────────────────┐\n",
       "│ rok                 ┆ podíl překladů │\n",
       "│ ---                 ┆ ---            │\n",
       "│ datetime[μs]        ┆ f64            │\n",
       "╞═════════════════════╪════════════════╡\n",
       "│ 1900-01-01 00:00:00 ┆ 0.2265625      │\n",
       "│ 1901-01-01 00:00:00 ┆ 0.280206       │\n",
       "│ 1902-01-01 00:00:00 ┆ 0.265143       │\n",
       "│ 1903-01-01 00:00:00 ┆ 0.260116       │\n",
       "│ 1904-01-01 00:00:00 ┆ 0.265356       │\n",
       "│ …                   ┆ …              │\n",
       "│ 2019-01-01 00:00:00 ┆ 0.365022       │\n",
       "│ 2020-01-01 00:00:00 ┆ 0.333333       │\n",
       "│ 2021-01-01 00:00:00 ┆ 0.341093       │\n",
       "│ 2022-01-01 00:00:00 ┆ 0.35504        │\n",
       "│ 2023-01-01 00:00:00 ┆ 0.36199        │\n",
       "└─────────────────────┴────────────────┘"
      ]
     },
     "execution_count": 390,
     "metadata": {},
     "output_type": "execute_result"
    }
   ],
   "source": [
    "preklady = celkem_vyslo.join(nepuvodni, on='rok', how='left')\n",
    "preklady = preklady.with_columns((pl.col('preklady') / pl.col('celkem_vyslo')).alias('podíl překladů'))\n",
    "preklady = preklady.select(pl.col(['rok','podíl překladů']))\n",
    "preklady = preklady.with_columns(pl.col(\"rok\").map_elements(lambda x: datetime.date(year=int(x), month=1, day=1), return_dtype=pl.Date).cast(pl.Datetime))\n",
    "preklady"
   ]
  },
  {
   "cell_type": "code",
   "execution_count": 391,
   "id": "fcfe3b93-e4e6-4d65-946a-9d5c8100eb2f",
   "metadata": {},
   "outputs": [
    {
     "name": "stderr",
     "output_type": "stream",
     "text": [
      "C:\\Users\\micha\\AppData\\Local\\Temp\\ipykernel_20624\\4164877985.py:5: DeprecationWarning: `DataFrame.melt` is deprecated. Use `unpivot` instead, with `index` instead of `id_vars` and `on` instead of `value_vars`\n",
      "  do_grafu = do_grafu.melt(id_vars=\"rok\", value_vars=['knih','stran','let čtení','novinky','podíl překladů'])\n"
     ]
    },
    {
     "data": {
      "text/html": [
       "<div><style>\n",
       ".dataframe > thead > tr,\n",
       ".dataframe > tbody > tr {\n",
       "  text-align: right;\n",
       "  white-space: pre-wrap;\n",
       "}\n",
       "</style>\n",
       "<small>shape: (372, 3)</small><table border=\"1\" class=\"dataframe\"><thead><tr><th>rok</th><th>variable</th><th>value</th></tr><tr><td>datetime[μs]</td><td>str</td><td>f64</td></tr></thead><tbody><tr><td>1900-01-01 00:00:00</td><td>&quot;všechny publikace&quot;</td><td>1355.0</td></tr><tr><td>1901-01-01 00:00:00</td><td>&quot;všechny publikace&quot;</td><td>1810.0</td></tr><tr><td>1902-01-01 00:00:00</td><td>&quot;všechny publikace&quot;</td><td>2034.0</td></tr><tr><td>1903-01-01 00:00:00</td><td>&quot;všechny publikace&quot;</td><td>1972.0</td></tr><tr><td>1904-01-01 00:00:00</td><td>&quot;všechny publikace&quot;</td><td>1896.0</td></tr><tr><td>&hellip;</td><td>&hellip;</td><td>&hellip;</td></tr><tr><td>2019-01-01 00:00:00</td><td>&quot;podíl překladů&quot;</td><td>0.365022</td></tr><tr><td>2020-01-01 00:00:00</td><td>&quot;podíl překladů&quot;</td><td>0.333333</td></tr><tr><td>2021-01-01 00:00:00</td><td>&quot;podíl překladů&quot;</td><td>0.341093</td></tr><tr><td>2022-01-01 00:00:00</td><td>&quot;podíl překladů&quot;</td><td>0.35504</td></tr><tr><td>2023-01-01 00:00:00</td><td>&quot;podíl překladů&quot;</td><td>0.36199</td></tr></tbody></table></div>"
      ],
      "text/plain": [
       "shape: (372, 3)\n",
       "┌─────────────────────┬───────────────────┬──────────┐\n",
       "│ rok                 ┆ variable          ┆ value    │\n",
       "│ ---                 ┆ ---               ┆ ---      │\n",
       "│ datetime[μs]        ┆ str               ┆ f64      │\n",
       "╞═════════════════════╪═══════════════════╪══════════╡\n",
       "│ 1900-01-01 00:00:00 ┆ všechny publikace ┆ 1355.0   │\n",
       "│ 1901-01-01 00:00:00 ┆ všechny publikace ┆ 1810.0   │\n",
       "│ 1902-01-01 00:00:00 ┆ všechny publikace ┆ 2034.0   │\n",
       "│ 1903-01-01 00:00:00 ┆ všechny publikace ┆ 1972.0   │\n",
       "│ 1904-01-01 00:00:00 ┆ všechny publikace ┆ 1896.0   │\n",
       "│ …                   ┆ …                 ┆ …        │\n",
       "│ 2019-01-01 00:00:00 ┆ podíl překladů    ┆ 0.365022 │\n",
       "│ 2020-01-01 00:00:00 ┆ podíl překladů    ┆ 0.333333 │\n",
       "│ 2021-01-01 00:00:00 ┆ podíl překladů    ┆ 0.341093 │\n",
       "│ 2022-01-01 00:00:00 ┆ podíl překladů    ┆ 0.35504  │\n",
       "│ 2023-01-01 00:00:00 ┆ podíl překladů    ┆ 0.36199  │\n",
       "└─────────────────────┴───────────────────┴──────────┘"
      ]
     },
     "execution_count": 391,
     "metadata": {},
     "output_type": "execute_result"
    }
   ],
   "source": [
    "do_grafu = rocni_pocty.join(rocni_strany, on=\"rok\", how=\"left\")\n",
    "do_grafu = do_grafu.join(novinky, on=\"rok\", how=\"left\")\n",
    "do_grafu = do_grafu.with_columns((pl.col(\"stran\") / (60 * 8 * 365.25)).alias(\"let čtení\"))\n",
    "do_grafu = do_grafu.join(preklady, on='rok', how='left')\n",
    "do_grafu = do_grafu.melt(id_vars=\"rok\", value_vars=['knih','stran','let čtení','novinky','podíl překladů'])\n",
    "do_grafu = do_grafu.filter(pl.col('variable').is_in(['knih','novinky','podíl překladů']))\n",
    "do_grafu = do_grafu.with_columns(pl.col('variable').replace_strict({'knih': 'všechny publikace', 'novinky': 'novinky nad 50 stran', 'podíl překladů':'podíl překladů'}))\n",
    "do_grafu"
   ]
  },
  {
   "cell_type": "code",
   "execution_count": 392,
   "id": "6e4d13f3-49e5-4539-bf79-be72e570c778",
   "metadata": {},
   "outputs": [
    {
     "data": {
      "text/html": [
       "<div><style>\n",
       ".dataframe > thead > tr,\n",
       ".dataframe > tbody > tr {\n",
       "  text-align: right;\n",
       "  white-space: pre-wrap;\n",
       "}\n",
       "</style>\n",
       "<small>shape: (372, 3)</small><table border=\"1\" class=\"dataframe\"><thead><tr><th>rok</th><th>variable</th><th>value</th></tr><tr><td>datetime[μs]</td><td>str</td><td>f64</td></tr></thead><tbody><tr><td>1900-01-01 00:00:00</td><td>&quot;všechny publikace&quot;</td><td>1355.0</td></tr><tr><td>1901-01-01 00:00:00</td><td>&quot;všechny publikace&quot;</td><td>1810.0</td></tr><tr><td>1902-01-01 00:00:00</td><td>&quot;všechny publikace&quot;</td><td>2034.0</td></tr><tr><td>1903-01-01 00:00:00</td><td>&quot;všechny publikace&quot;</td><td>1972.0</td></tr><tr><td>1904-01-01 00:00:00</td><td>&quot;všechny publikace&quot;</td><td>1896.0</td></tr><tr><td>&hellip;</td><td>&hellip;</td><td>&hellip;</td></tr><tr><td>2019-01-01 00:00:00</td><td>&quot;podíl překladů&quot;</td><td>0.365022</td></tr><tr><td>2020-01-01 00:00:00</td><td>&quot;podíl překladů&quot;</td><td>0.333333</td></tr><tr><td>2021-01-01 00:00:00</td><td>&quot;podíl překladů&quot;</td><td>0.341093</td></tr><tr><td>2022-01-01 00:00:00</td><td>&quot;podíl překladů&quot;</td><td>0.35504</td></tr><tr><td>2023-01-01 00:00:00</td><td>&quot;podíl překladů&quot;</td><td>0.36199</td></tr></tbody></table></div>"
      ],
      "text/plain": [
       "shape: (372, 3)\n",
       "┌─────────────────────┬───────────────────┬──────────┐\n",
       "│ rok                 ┆ variable          ┆ value    │\n",
       "│ ---                 ┆ ---               ┆ ---      │\n",
       "│ datetime[μs]        ┆ str               ┆ f64      │\n",
       "╞═════════════════════╪═══════════════════╪══════════╡\n",
       "│ 1900-01-01 00:00:00 ┆ všechny publikace ┆ 1355.0   │\n",
       "│ 1901-01-01 00:00:00 ┆ všechny publikace ┆ 1810.0   │\n",
       "│ 1902-01-01 00:00:00 ┆ všechny publikace ┆ 2034.0   │\n",
       "│ 1903-01-01 00:00:00 ┆ všechny publikace ┆ 1972.0   │\n",
       "│ 1904-01-01 00:00:00 ┆ všechny publikace ┆ 1896.0   │\n",
       "│ …                   ┆ …                 ┆ …        │\n",
       "│ 2019-01-01 00:00:00 ┆ podíl překladů    ┆ 0.365022 │\n",
       "│ 2020-01-01 00:00:00 ┆ podíl překladů    ┆ 0.333333 │\n",
       "│ 2021-01-01 00:00:00 ┆ podíl překladů    ┆ 0.341093 │\n",
       "│ 2022-01-01 00:00:00 ┆ podíl překladů    ┆ 0.35504  │\n",
       "│ 2023-01-01 00:00:00 ┆ podíl překladů    ┆ 0.36199  │\n",
       "└─────────────────────┴───────────────────┴──────────┘"
      ]
     },
     "execution_count": 392,
     "metadata": {},
     "output_type": "execute_result"
    }
   ],
   "source": [
    "do_grafu"
   ]
  },
  {
   "cell_type": "code",
   "execution_count": 393,
   "id": "970bb20b-628b-4018-9cc5-7a1e6cbf608c",
   "metadata": {},
   "outputs": [
    {
     "data": {
      "text/plain": [
       "ThemeRegistry.enable('irozhlas')"
      ]
     },
     "execution_count": 393,
     "metadata": {},
     "output_type": "execute_result"
    }
   ],
   "source": [
    "def irozhlas_conf():\n",
    "\n",
    "    return {\n",
    "        \"config\" : {\n",
    "             \"title\": {'font': \"Noticia Text\",\n",
    "                      'fontSize': 14,\n",
    "                      'anchor': 'start',\n",
    "                       'fontWeight': 'bolder',\n",
    "                    'subtitleFont': 'Noticia Text',\n",
    "                       'subtitleLineHeight': 18,\n",
    "                      'subtitleFontSize': 12,\n",
    "                       'subtitleFontWeight': 'normal',\n",
    "                      'subtitlePadding': 10,\n",
    "                       'dy': -12,\n",
    "                      },\n",
    "             \"axis\": {\n",
    "                \"labelFont\": \"Asap\",\n",
    "                \"titleFont\": \"Asap\",\n",
    "                 \"fontWeight\": \"lighter\",\n",
    "                \"titleFontWeight\": \"lighter\",\n",
    "                \"labelFontSize\": 10,\n",
    "                \"titleFontSize\": 10,\n",
    "                'labelPadding': 2,\n",
    "                 'titlePadding': 10\n",
    "            },\n",
    "            \"legend\": {\n",
    "                \"labelFont\": \"Asap\",\n",
    "                \"labelFontWeight\": \"normal\",\n",
    "                \"titleFont\": \"Asap\",\n",
    "                \"titleFontWeight\": \"normal\",\n",
    "                \"labelFontSize\": 10,\n",
    "                \"titleFontSize\": 10\n",
    "            }\n",
    "        }\n",
    "    }\n",
    "\n",
    "alt.themes.register('irozhlas', irozhlas_conf)\n",
    "alt.themes.enable('irozhlas')"
   ]
  },
  {
   "cell_type": "code",
   "execution_count": 394,
   "id": "8c2c8b7f-1f2e-4f39-8962-fe235c86d439",
   "metadata": {},
   "outputs": [],
   "source": [
    "titulek = \"Vývoj knižní produkce na českém území\"\n",
    "podtitulek = [\"Celkové počty záznamů v České národní bibliografii.\",\"Vedle klasických knih může jít i o katalogy výstav apod.\"] #,\"Angličtina a francouzština (téměř) zmizely jen během 2. světové války,\",\"kdy dominovaly překlady z němčiny. Po osvobození raketově narostl podíl ruštiny.\"]\n",
    "kredit = \"zdroj dat: Česká národní bibliografie · vizualizace: iROZHLAS.cz · 2025\""
   ]
  },
  {
   "cell_type": "code",
   "execution_count": 395,
   "id": "f74f68af-768d-4578-b478-69d1c3b74d4b",
   "metadata": {},
   "outputs": [],
   "source": [
    "def ceska_cisla(value):\n",
    "    if abs(value) >= 1_000_000:\n",
    "        return f\"{value/1_000_000:.0f} mil.\"\n",
    "    elif abs(value) >= 1_000:\n",
    "        return f\"{value/1_000:.0f} tis.\"\n",
    "    else:\n",
    "        return str(int(value))"
   ]
  },
  {
   "cell_type": "code",
   "execution_count": 396,
   "id": "49624c52-d7fd-4f9f-87ea-2a3558526b22",
   "metadata": {},
   "outputs": [
    {
     "data": {
      "text/plain": [
       "'1 tis.'"
      ]
     },
     "execution_count": 396,
     "metadata": {},
     "output_type": "execute_result"
    }
   ],
   "source": [
    "ceska_cisla(1000)"
   ]
  },
  {
   "cell_type": "code",
   "execution_count": 419,
   "id": "1b6903e3-2bcc-4d48-8294-0195a9335f21",
   "metadata": {},
   "outputs": [
    {
     "name": "stderr",
     "output_type": "stream",
     "text": [
      "C:\\Users\\micha\\anaconda3\\Lib\\site-packages\\altair\\utils\\core.py:395: FutureWarning: the convert_dtype parameter is deprecated and will be removed in a future version.  Do ``ser.astype(object).apply()`` instead if you want ``convert_dtype=False``.\n",
      "  col = df[col_name].apply(to_list_if_array, convert_dtype=False)\n",
      "C:\\Users\\micha\\anaconda3\\Lib\\site-packages\\altair\\utils\\core.py:395: FutureWarning: the convert_dtype parameter is deprecated and will be removed in a future version.  Do ``ser.astype(object).apply()`` instead if you want ``convert_dtype=False``.\n",
      "  col = df[col_name].apply(to_list_if_array, convert_dtype=False)\n",
      "C:\\Users\\micha\\anaconda3\\Lib\\site-packages\\altair\\utils\\core.py:395: FutureWarning: the convert_dtype parameter is deprecated and will be removed in a future version.  Do ``ser.astype(object).apply()`` instead if you want ``convert_dtype=False``.\n",
      "  col = df[col_name].apply(to_list_if_array, convert_dtype=False)\n"
     ]
    },
    {
     "data": {
      "text/html": [
       "\n",
       "<style>\n",
       "  #altair-viz-2553dd5b989a438cb98621b5e625ac8d.vega-embed {\n",
       "    width: 100%;\n",
       "    display: flex;\n",
       "  }\n",
       "\n",
       "  #altair-viz-2553dd5b989a438cb98621b5e625ac8d.vega-embed details,\n",
       "  #altair-viz-2553dd5b989a438cb98621b5e625ac8d.vega-embed details summary {\n",
       "    position: relative;\n",
       "  }\n",
       "</style>\n",
       "<div id=\"altair-viz-2553dd5b989a438cb98621b5e625ac8d\"></div>\n",
       "<script type=\"text/javascript\">\n",
       "  var VEGA_DEBUG = (typeof VEGA_DEBUG == \"undefined\") ? {} : VEGA_DEBUG;\n",
       "  (function(spec, embedOpt){\n",
       "    let outputDiv = document.currentScript.previousElementSibling;\n",
       "    if (outputDiv.id !== \"altair-viz-2553dd5b989a438cb98621b5e625ac8d\") {\n",
       "      outputDiv = document.getElementById(\"altair-viz-2553dd5b989a438cb98621b5e625ac8d\");\n",
       "    }\n",
       "    const paths = {\n",
       "      \"vega\": \"https://cdn.jsdelivr.net/npm/vega@5?noext\",\n",
       "      \"vega-lib\": \"https://cdn.jsdelivr.net/npm/vega-lib?noext\",\n",
       "      \"vega-lite\": \"https://cdn.jsdelivr.net/npm/vega-lite@5.8.0?noext\",\n",
       "      \"vega-embed\": \"https://cdn.jsdelivr.net/npm/vega-embed@6?noext\",\n",
       "    };\n",
       "\n",
       "    function maybeLoadScript(lib, version) {\n",
       "      var key = `${lib.replace(\"-\", \"\")}_version`;\n",
       "      return (VEGA_DEBUG[key] == version) ?\n",
       "        Promise.resolve(paths[lib]) :\n",
       "        new Promise(function(resolve, reject) {\n",
       "          var s = document.createElement('script');\n",
       "          document.getElementsByTagName(\"head\")[0].appendChild(s);\n",
       "          s.async = true;\n",
       "          s.onload = () => {\n",
       "            VEGA_DEBUG[key] = version;\n",
       "            return resolve(paths[lib]);\n",
       "          };\n",
       "          s.onerror = () => reject(`Error loading script: ${paths[lib]}`);\n",
       "          s.src = paths[lib];\n",
       "        });\n",
       "    }\n",
       "\n",
       "    function showError(err) {\n",
       "      outputDiv.innerHTML = `<div class=\"error\" style=\"color:red;\">${err}</div>`;\n",
       "      throw err;\n",
       "    }\n",
       "\n",
       "    function displayChart(vegaEmbed) {\n",
       "      vegaEmbed(outputDiv, spec, embedOpt)\n",
       "        .catch(err => showError(`Javascript Error: ${err.message}<br>This usually means there's a typo in your chart specification. See the javascript console for the full traceback.`));\n",
       "    }\n",
       "\n",
       "    if(typeof define === \"function\" && define.amd) {\n",
       "      requirejs.config({paths});\n",
       "      require([\"vega-embed\"], displayChart, err => showError(`Error loading script: ${err.message}`));\n",
       "    } else {\n",
       "      maybeLoadScript(\"vega\", \"5\")\n",
       "        .then(() => maybeLoadScript(\"vega-lite\", \"5.8.0\"))\n",
       "        .then(() => maybeLoadScript(\"vega-embed\", \"6\"))\n",
       "        .catch(showError)\n",
       "        .then(() => displayChart(vegaEmbed));\n",
       "    }\n",
       "  })({\"config\": {\"title\": {\"font\": \"Noticia Text\", \"fontSize\": 14, \"anchor\": \"start\", \"fontWeight\": \"bolder\", \"subtitleFont\": \"Noticia Text\", \"subtitleLineHeight\": 18, \"subtitleFontSize\": 12, \"subtitleFontWeight\": \"normal\", \"subtitlePadding\": 10, \"dy\": -12}, \"axis\": {\"labelFont\": \"Asap\", \"titleFont\": \"Asap\", \"fontWeight\": \"lighter\", \"titleFontWeight\": \"lighter\", \"labelFontSize\": 10, \"titleFontSize\": 10, \"labelPadding\": 2, \"titlePadding\": 10}, \"legend\": {\"labelFont\": \"Asap\", \"labelFontWeight\": \"normal\", \"titleFont\": \"Asap\", \"titleFontWeight\": \"normal\", \"labelFontSize\": 10, \"titleFontSize\": 10}, \"view\": {\"stroke\": \"transparent\"}}, \"vconcat\": [{\"data\": {\"name\": \"data-ab4150d58a9aa15071583431431c1790\"}, \"mark\": {\"type\": \"area\", \"size\": 2}, \"encoding\": {\"color\": {\"field\": \"variable\", \"legend\": null, \"scale\": {\"range\": [\"#81A9D5\"]}, \"title\": null, \"type\": \"nominal\"}, \"x\": {\"axis\": {\"domainOpacity\": 0, \"tickColor\": \"#DCDDD6\"}, \"field\": \"rok\", \"title\": null, \"type\": \"temporal\"}, \"y\": {\"axis\": {\"domainOpacity\": 0, \"format\": \"s\", \"orient\": \"right\", \"tickColor\": \"#DCDDD6\"}, \"field\": \"value\", \"scale\": {\"zero\": true}, \"title\": null, \"type\": \"quantitative\"}}, \"height\": 100, \"title\": {\"text\": \"V\\u00fdvoj kni\\u017en\\u00ed produkce na \\u010desk\\u00e9m \\u00fazem\\u00ed\"}, \"width\": 300}, {\"data\": {\"name\": \"data-090e34dddacba219eb4b6f78527346c4\"}, \"mark\": {\"type\": \"area\", \"size\": 2}, \"encoding\": {\"color\": {\"field\": \"variable\", \"legend\": null, \"scale\": {\"range\": [\"#70871E\"]}, \"title\": null, \"type\": \"nominal\"}, \"x\": {\"axis\": {\"domainOpacity\": 0, \"tickColor\": \"#DCDDD6\"}, \"field\": \"rok\", \"title\": null, \"type\": \"temporal\"}, \"y\": {\"axis\": {\"domainOpacity\": 0, \"format\": \"s\", \"orient\": \"right\", \"tickColor\": \"#DCDDD6\"}, \"field\": \"value\", \"scale\": {\"zero\": true}, \"title\": null, \"type\": \"quantitative\"}}, \"height\": 100, \"title\": {\"text\": \"Novinky nad 50 stran\"}, \"width\": 300}, {\"data\": {\"name\": \"data-7d440f797cbe94b11764d9146443cbb3\"}, \"mark\": {\"type\": \"area\", \"size\": 2}, \"encoding\": {\"color\": {\"field\": \"variable\", \"legend\": null, \"scale\": {\"range\": [\"#DB842F\"]}, \"title\": null, \"type\": \"nominal\"}, \"x\": {\"axis\": {\"domainOpacity\": 0, \"tickColor\": \"#DCDDD6\"}, \"field\": \"rok\", \"title\": null, \"type\": \"temporal\"}, \"y\": {\"axis\": {\"domainOpacity\": 0, \"format\": \" .0%\", \"labelExpr\": \"replace(datum.label, '%', ' %')\", \"orient\": \"right\", \"tickColor\": \"#DCDDD6\"}, \"field\": \"value\", \"scale\": {\"zero\": true}, \"title\": null, \"type\": \"quantitative\"}}, \"height\": 100, \"title\": {\"text\": \"Pod\\u00edl p\\u0159eklad\\u016f z ciz\\u00edch jazyk\\u016f\"}, \"width\": 300}], \"resolve\": {\"scale\": {\"color\": \"independent\", \"y\": \"independent\"}}, \"$schema\": \"https://vega.github.io/schema/vega-lite/v5.8.0.json\", \"datasets\": {\"data-ab4150d58a9aa15071583431431c1790\": [{\"rok\": \"1900-01-01T00:00:00\", \"variable\": \"v\\u0161echny publikace\", \"value\": 1355.0}, {\"rok\": \"1901-01-01T00:00:00\", \"variable\": \"v\\u0161echny publikace\", \"value\": 1810.0}, {\"rok\": \"1902-01-01T00:00:00\", \"variable\": \"v\\u0161echny publikace\", \"value\": 2034.0}, {\"rok\": \"1903-01-01T00:00:00\", \"variable\": \"v\\u0161echny publikace\", \"value\": 1972.0}, {\"rok\": \"1904-01-01T00:00:00\", \"variable\": \"v\\u0161echny publikace\", \"value\": 1896.0}, {\"rok\": \"1905-01-01T00:00:00\", \"variable\": \"v\\u0161echny publikace\", \"value\": 1811.0}, {\"rok\": \"1906-01-01T00:00:00\", \"variable\": \"v\\u0161echny publikace\", \"value\": 2239.0}, {\"rok\": \"1907-01-01T00:00:00\", \"variable\": \"v\\u0161echny publikace\", \"value\": 2075.0}, {\"rok\": \"1908-01-01T00:00:00\", \"variable\": \"v\\u0161echny publikace\", \"value\": 2342.0}, {\"rok\": \"1909-01-01T00:00:00\", \"variable\": \"v\\u0161echny publikace\", \"value\": 2245.0}, {\"rok\": \"1910-01-01T00:00:00\", \"variable\": \"v\\u0161echny publikace\", \"value\": 2545.0}, {\"rok\": \"1911-01-01T00:00:00\", \"variable\": \"v\\u0161echny publikace\", \"value\": 2475.0}, {\"rok\": \"1912-01-01T00:00:00\", \"variable\": \"v\\u0161echny publikace\", \"value\": 2594.0}, {\"rok\": \"1913-01-01T00:00:00\", \"variable\": \"v\\u0161echny publikace\", \"value\": 2689.0}, {\"rok\": \"1914-01-01T00:00:00\", \"variable\": \"v\\u0161echny publikace\", \"value\": 2035.0}, {\"rok\": \"1915-01-01T00:00:00\", \"variable\": \"v\\u0161echny publikace\", \"value\": 1394.0}, {\"rok\": \"1916-01-01T00:00:00\", \"variable\": \"v\\u0161echny publikace\", \"value\": 1508.0}, {\"rok\": \"1917-01-01T00:00:00\", \"variable\": \"v\\u0161echny publikace\", \"value\": 1573.0}, {\"rok\": \"1918-01-01T00:00:00\", \"variable\": \"v\\u0161echny publikace\", \"value\": 1907.0}, {\"rok\": \"1919-01-01T00:00:00\", \"variable\": \"v\\u0161echny publikace\", \"value\": 3422.0}, {\"rok\": \"1920-01-01T00:00:00\", \"variable\": \"v\\u0161echny publikace\", \"value\": 4301.0}, {\"rok\": \"1921-01-01T00:00:00\", \"variable\": \"v\\u0161echny publikace\", \"value\": 3800.0}, {\"rok\": \"1922-01-01T00:00:00\", \"variable\": \"v\\u0161echny publikace\", \"value\": 4233.0}, {\"rok\": \"1923-01-01T00:00:00\", \"variable\": \"v\\u0161echny publikace\", \"value\": 4227.0}, {\"rok\": \"1924-01-01T00:00:00\", \"variable\": \"v\\u0161echny publikace\", \"value\": 4691.0}, {\"rok\": \"1925-01-01T00:00:00\", \"variable\": \"v\\u0161echny publikace\", \"value\": 5256.0}, {\"rok\": \"1926-01-01T00:00:00\", \"variable\": \"v\\u0161echny publikace\", \"value\": 4855.0}, {\"rok\": \"1927-01-01T00:00:00\", \"variable\": \"v\\u0161echny publikace\", \"value\": 4680.0}, {\"rok\": \"1928-01-01T00:00:00\", \"variable\": \"v\\u0161echny publikace\", \"value\": 4946.0}, {\"rok\": \"1929-01-01T00:00:00\", \"variable\": \"v\\u0161echny publikace\", \"value\": 4856.0}, {\"rok\": \"1930-01-01T00:00:00\", \"variable\": \"v\\u0161echny publikace\", \"value\": 5530.0}, {\"rok\": \"1931-01-01T00:00:00\", \"variable\": \"v\\u0161echny publikace\", \"value\": 4980.0}, {\"rok\": \"1932-01-01T00:00:00\", \"variable\": \"v\\u0161echny publikace\", \"value\": 4635.0}, {\"rok\": \"1933-01-01T00:00:00\", \"variable\": \"v\\u0161echny publikace\", \"value\": 4627.0}, {\"rok\": \"1934-01-01T00:00:00\", \"variable\": \"v\\u0161echny publikace\", \"value\": 4871.0}, {\"rok\": \"1935-01-01T00:00:00\", \"variable\": \"v\\u0161echny publikace\", \"value\": 5465.0}, {\"rok\": \"1936-01-01T00:00:00\", \"variable\": \"v\\u0161echny publikace\", \"value\": 6439.0}, {\"rok\": \"1937-01-01T00:00:00\", \"variable\": \"v\\u0161echny publikace\", \"value\": 6469.0}, {\"rok\": \"1938-01-01T00:00:00\", \"variable\": \"v\\u0161echny publikace\", \"value\": 5612.0}, {\"rok\": \"1939-01-01T00:00:00\", \"variable\": \"v\\u0161echny publikace\", \"value\": 4208.0}, {\"rok\": \"1940-01-01T00:00:00\", \"variable\": \"v\\u0161echny publikace\", \"value\": 5558.0}, {\"rok\": \"1941-01-01T00:00:00\", \"variable\": \"v\\u0161echny publikace\", \"value\": 5266.0}, {\"rok\": \"1942-01-01T00:00:00\", \"variable\": \"v\\u0161echny publikace\", \"value\": 2705.0}, {\"rok\": \"1943-01-01T00:00:00\", \"variable\": \"v\\u0161echny publikace\", \"value\": 2079.0}, {\"rok\": \"1944-01-01T00:00:00\", \"variable\": \"v\\u0161echny publikace\", \"value\": 2461.0}, {\"rok\": \"1945-01-01T00:00:00\", \"variable\": \"v\\u0161echny publikace\", \"value\": 3084.0}, {\"rok\": \"1946-01-01T00:00:00\", \"variable\": \"v\\u0161echny publikace\", \"value\": 6052.0}, {\"rok\": \"1947-01-01T00:00:00\", \"variable\": \"v\\u0161echny publikace\", \"value\": 6490.0}, {\"rok\": \"1948-01-01T00:00:00\", \"variable\": \"v\\u0161echny publikace\", \"value\": 5384.0}, {\"rok\": \"1949-01-01T00:00:00\", \"variable\": \"v\\u0161echny publikace\", \"value\": 3972.0}, {\"rok\": \"1950-01-01T00:00:00\", \"variable\": \"v\\u0161echny publikace\", \"value\": 4030.0}, {\"rok\": \"1951-01-01T00:00:00\", \"variable\": \"v\\u0161echny publikace\", \"value\": 4555.0}, {\"rok\": \"1952-01-01T00:00:00\", \"variable\": \"v\\u0161echny publikace\", \"value\": 4400.0}, {\"rok\": \"1953-01-01T00:00:00\", \"variable\": \"v\\u0161echny publikace\", \"value\": 5005.0}, {\"rok\": \"1954-01-01T00:00:00\", \"variable\": \"v\\u0161echny publikace\", \"value\": 5356.0}, {\"rok\": \"1955-01-01T00:00:00\", \"variable\": \"v\\u0161echny publikace\", \"value\": 4948.0}, {\"rok\": \"1956-01-01T00:00:00\", \"variable\": \"v\\u0161echny publikace\", \"value\": 4906.0}, {\"rok\": \"1957-01-01T00:00:00\", \"variable\": \"v\\u0161echny publikace\", \"value\": 4927.0}, {\"rok\": \"1958-01-01T00:00:00\", \"variable\": \"v\\u0161echny publikace\", \"value\": 5513.0}, {\"rok\": \"1959-01-01T00:00:00\", \"variable\": \"v\\u0161echny publikace\", \"value\": 6124.0}, {\"rok\": \"1960-01-01T00:00:00\", \"variable\": \"v\\u0161echny publikace\", \"value\": 5890.0}, {\"rok\": \"1961-01-01T00:00:00\", \"variable\": \"v\\u0161echny publikace\", \"value\": 6083.0}, {\"rok\": \"1962-01-01T00:00:00\", \"variable\": \"v\\u0161echny publikace\", \"value\": 5564.0}, {\"rok\": \"1963-01-01T00:00:00\", \"variable\": \"v\\u0161echny publikace\", \"value\": 5844.0}, {\"rok\": \"1964-01-01T00:00:00\", \"variable\": \"v\\u0161echny publikace\", \"value\": 5555.0}, {\"rok\": \"1965-01-01T00:00:00\", \"variable\": \"v\\u0161echny publikace\", \"value\": 5192.0}, {\"rok\": \"1966-01-01T00:00:00\", \"variable\": \"v\\u0161echny publikace\", \"value\": 5144.0}, {\"rok\": \"1967-01-01T00:00:00\", \"variable\": \"v\\u0161echny publikace\", \"value\": 5122.0}, {\"rok\": \"1968-01-01T00:00:00\", \"variable\": \"v\\u0161echny publikace\", \"value\": 4960.0}, {\"rok\": \"1969-01-01T00:00:00\", \"variable\": \"v\\u0161echny publikace\", \"value\": 4906.0}, {\"rok\": \"1970-01-01T00:00:00\", \"variable\": \"v\\u0161echny publikace\", \"value\": 5243.0}, {\"rok\": \"1971-01-01T00:00:00\", \"variable\": \"v\\u0161echny publikace\", \"value\": 5355.0}, {\"rok\": \"1972-01-01T00:00:00\", \"variable\": \"v\\u0161echny publikace\", \"value\": 5273.0}, {\"rok\": \"1973-01-01T00:00:00\", \"variable\": \"v\\u0161echny publikace\", \"value\": 5468.0}, {\"rok\": \"1974-01-01T00:00:00\", \"variable\": \"v\\u0161echny publikace\", \"value\": 5604.0}, {\"rok\": \"1975-01-01T00:00:00\", \"variable\": \"v\\u0161echny publikace\", \"value\": 5568.0}, {\"rok\": \"1976-01-01T00:00:00\", \"variable\": \"v\\u0161echny publikace\", \"value\": 5792.0}, {\"rok\": \"1977-01-01T00:00:00\", \"variable\": \"v\\u0161echny publikace\", \"value\": 5565.0}, {\"rok\": \"1978-01-01T00:00:00\", \"variable\": \"v\\u0161echny publikace\", \"value\": 5641.0}, {\"rok\": \"1979-01-01T00:00:00\", \"variable\": \"v\\u0161echny publikace\", \"value\": 5915.0}, {\"rok\": \"1980-01-01T00:00:00\", \"variable\": \"v\\u0161echny publikace\", \"value\": 6047.0}, {\"rok\": \"1981-01-01T00:00:00\", \"variable\": \"v\\u0161echny publikace\", \"value\": 6016.0}, {\"rok\": \"1982-01-01T00:00:00\", \"variable\": \"v\\u0161echny publikace\", \"value\": 6131.0}, {\"rok\": \"1983-01-01T00:00:00\", \"variable\": \"v\\u0161echny publikace\", \"value\": 6191.0}, {\"rok\": \"1984-01-01T00:00:00\", \"variable\": \"v\\u0161echny publikace\", \"value\": 6344.0}, {\"rok\": \"1985-01-01T00:00:00\", \"variable\": \"v\\u0161echny publikace\", \"value\": 6421.0}, {\"rok\": \"1986-01-01T00:00:00\", \"variable\": \"v\\u0161echny publikace\", \"value\": 6603.0}, {\"rok\": \"1987-01-01T00:00:00\", \"variable\": \"v\\u0161echny publikace\", \"value\": 6897.0}, {\"rok\": \"1988-01-01T00:00:00\", \"variable\": \"v\\u0161echny publikace\", \"value\": 6804.0}, {\"rok\": \"1989-01-01T00:00:00\", \"variable\": \"v\\u0161echny publikace\", \"value\": 7064.0}, {\"rok\": \"1990-01-01T00:00:00\", \"variable\": \"v\\u0161echny publikace\", \"value\": 6925.0}, {\"rok\": \"1991-01-01T00:00:00\", \"variable\": \"v\\u0161echny publikace\", \"value\": 7202.0}, {\"rok\": \"1992-01-01T00:00:00\", \"variable\": \"v\\u0161echny publikace\", \"value\": 8637.0}, {\"rok\": \"1993-01-01T00:00:00\", \"variable\": \"v\\u0161echny publikace\", \"value\": 8490.0}, {\"rok\": \"1994-01-01T00:00:00\", \"variable\": \"v\\u0161echny publikace\", \"value\": 8941.0}, {\"rok\": \"1995-01-01T00:00:00\", \"variable\": \"v\\u0161echny publikace\", \"value\": 9789.0}, {\"rok\": \"1996-01-01T00:00:00\", \"variable\": \"v\\u0161echny publikace\", \"value\": 10456.0}, {\"rok\": \"1997-01-01T00:00:00\", \"variable\": \"v\\u0161echny publikace\", \"value\": 10946.0}, {\"rok\": \"1998-01-01T00:00:00\", \"variable\": \"v\\u0161echny publikace\", \"value\": 11230.0}, {\"rok\": \"1999-01-01T00:00:00\", \"variable\": \"v\\u0161echny publikace\", \"value\": 11644.0}, {\"rok\": \"2000-01-01T00:00:00\", \"variable\": \"v\\u0161echny publikace\", \"value\": 12520.0}, {\"rok\": \"2001-01-01T00:00:00\", \"variable\": \"v\\u0161echny publikace\", \"value\": 12549.0}, {\"rok\": \"2002-01-01T00:00:00\", \"variable\": \"v\\u0161echny publikace\", \"value\": 12721.0}, {\"rok\": \"2003-01-01T00:00:00\", \"variable\": \"v\\u0161echny publikace\", \"value\": 13814.0}, {\"rok\": \"2004-01-01T00:00:00\", \"variable\": \"v\\u0161echny publikace\", \"value\": 13774.0}, {\"rok\": \"2005-01-01T00:00:00\", \"variable\": \"v\\u0161echny publikace\", \"value\": 14177.0}, {\"rok\": \"2006-01-01T00:00:00\", \"variable\": \"v\\u0161echny publikace\", \"value\": 15155.0}, {\"rok\": \"2007-01-01T00:00:00\", \"variable\": \"v\\u0161echny publikace\", \"value\": 16016.0}, {\"rok\": \"2008-01-01T00:00:00\", \"variable\": \"v\\u0161echny publikace\", \"value\": 16727.0}, {\"rok\": \"2009-01-01T00:00:00\", \"variable\": \"v\\u0161echny publikace\", \"value\": 15552.0}, {\"rok\": \"2010-01-01T00:00:00\", \"variable\": \"v\\u0161echny publikace\", \"value\": 15912.0}, {\"rok\": \"2011-01-01T00:00:00\", \"variable\": \"v\\u0161echny publikace\", \"value\": 15394.0}, {\"rok\": \"2012-01-01T00:00:00\", \"variable\": \"v\\u0161echny publikace\", \"value\": 15537.0}, {\"rok\": \"2013-01-01T00:00:00\", \"variable\": \"v\\u0161echny publikace\", \"value\": 15230.0}, {\"rok\": \"2014-01-01T00:00:00\", \"variable\": \"v\\u0161echny publikace\", \"value\": 15246.0}, {\"rok\": \"2015-01-01T00:00:00\", \"variable\": \"v\\u0161echny publikace\", \"value\": 14750.0}, {\"rok\": \"2016-01-01T00:00:00\", \"variable\": \"v\\u0161echny publikace\", \"value\": 13999.0}, {\"rok\": \"2017-01-01T00:00:00\", \"variable\": \"v\\u0161echny publikace\", \"value\": 13783.0}, {\"rok\": \"2018-01-01T00:00:00\", \"variable\": \"v\\u0161echny publikace\", \"value\": 14163.0}, {\"rok\": \"2019-01-01T00:00:00\", \"variable\": \"v\\u0161echny publikace\", \"value\": 13728.0}, {\"rok\": \"2020-01-01T00:00:00\", \"variable\": \"v\\u0161echny publikace\", \"value\": 12479.0}, {\"rok\": \"2021-01-01T00:00:00\", \"variable\": \"v\\u0161echny publikace\", \"value\": 12939.0}, {\"rok\": \"2022-01-01T00:00:00\", \"variable\": \"v\\u0161echny publikace\", \"value\": 13276.0}, {\"rok\": \"2023-01-01T00:00:00\", \"variable\": \"v\\u0161echny publikace\", \"value\": 11762.0}], \"data-090e34dddacba219eb4b6f78527346c4\": [{\"rok\": \"1900-01-01T00:00:00\", \"variable\": \"novinky nad 50 stran\", \"value\": 793.0}, {\"rok\": \"1901-01-01T00:00:00\", \"variable\": \"novinky nad 50 stran\", \"value\": 966.0}, {\"rok\": \"1902-01-01T00:00:00\", \"variable\": \"novinky nad 50 stran\", \"value\": 1114.0}, {\"rok\": \"1903-01-01T00:00:00\", \"variable\": \"novinky nad 50 stran\", \"value\": 1030.0}, {\"rok\": \"1904-01-01T00:00:00\", \"variable\": \"novinky nad 50 stran\", \"value\": 984.0}, {\"rok\": \"1905-01-01T00:00:00\", \"variable\": \"novinky nad 50 stran\", \"value\": 964.0}, {\"rok\": \"1906-01-01T00:00:00\", \"variable\": \"novinky nad 50 stran\", \"value\": 968.0}, {\"rok\": \"1907-01-01T00:00:00\", \"variable\": \"novinky nad 50 stran\", \"value\": 974.0}, {\"rok\": \"1908-01-01T00:00:00\", \"variable\": \"novinky nad 50 stran\", \"value\": 1170.0}, {\"rok\": \"1909-01-01T00:00:00\", \"variable\": \"novinky nad 50 stran\", \"value\": 1112.0}, {\"rok\": \"1910-01-01T00:00:00\", \"variable\": \"novinky nad 50 stran\", \"value\": 1347.0}, {\"rok\": \"1911-01-01T00:00:00\", \"variable\": \"novinky nad 50 stran\", \"value\": 1302.0}, {\"rok\": \"1912-01-01T00:00:00\", \"variable\": \"novinky nad 50 stran\", \"value\": 1320.0}, {\"rok\": \"1913-01-01T00:00:00\", \"variable\": \"novinky nad 50 stran\", \"value\": 1370.0}, {\"rok\": \"1914-01-01T00:00:00\", \"variable\": \"novinky nad 50 stran\", \"value\": 948.0}, {\"rok\": \"1915-01-01T00:00:00\", \"variable\": \"novinky nad 50 stran\", \"value\": 666.0}, {\"rok\": \"1916-01-01T00:00:00\", \"variable\": \"novinky nad 50 stran\", \"value\": 665.0}, {\"rok\": \"1917-01-01T00:00:00\", \"variable\": \"novinky nad 50 stran\", \"value\": 699.0}, {\"rok\": \"1918-01-01T00:00:00\", \"variable\": \"novinky nad 50 stran\", \"value\": 848.0}, {\"rok\": \"1919-01-01T00:00:00\", \"variable\": \"novinky nad 50 stran\", \"value\": 1335.0}, {\"rok\": \"1920-01-01T00:00:00\", \"variable\": \"novinky nad 50 stran\", \"value\": 1795.0}, {\"rok\": \"1921-01-01T00:00:00\", \"variable\": \"novinky nad 50 stran\", \"value\": 1569.0}, {\"rok\": \"1922-01-01T00:00:00\", \"variable\": \"novinky nad 50 stran\", \"value\": 1769.0}, {\"rok\": \"1923-01-01T00:00:00\", \"variable\": \"novinky nad 50 stran\", \"value\": 1837.0}, {\"rok\": \"1924-01-01T00:00:00\", \"variable\": \"novinky nad 50 stran\", \"value\": 2107.0}, {\"rok\": \"1925-01-01T00:00:00\", \"variable\": \"novinky nad 50 stran\", \"value\": 2471.0}, {\"rok\": \"1926-01-01T00:00:00\", \"variable\": \"novinky nad 50 stran\", \"value\": 2348.0}, {\"rok\": \"1927-01-01T00:00:00\", \"variable\": \"novinky nad 50 stran\", \"value\": 2347.0}, {\"rok\": \"1928-01-01T00:00:00\", \"variable\": \"novinky nad 50 stran\", \"value\": 2452.0}, {\"rok\": \"1929-01-01T00:00:00\", \"variable\": \"novinky nad 50 stran\", \"value\": 2348.0}, {\"rok\": \"1930-01-01T00:00:00\", \"variable\": \"novinky nad 50 stran\", \"value\": 2638.0}, {\"rok\": \"1931-01-01T00:00:00\", \"variable\": \"novinky nad 50 stran\", \"value\": 2367.0}, {\"rok\": \"1932-01-01T00:00:00\", \"variable\": \"novinky nad 50 stran\", \"value\": 2131.0}, {\"rok\": \"1933-01-01T00:00:00\", \"variable\": \"novinky nad 50 stran\", \"value\": 2086.0}, {\"rok\": \"1934-01-01T00:00:00\", \"variable\": \"novinky nad 50 stran\", \"value\": 2125.0}, {\"rok\": \"1935-01-01T00:00:00\", \"variable\": \"novinky nad 50 stran\", \"value\": 2308.0}, {\"rok\": \"1936-01-01T00:00:00\", \"variable\": \"novinky nad 50 stran\", \"value\": 2671.0}, {\"rok\": \"1937-01-01T00:00:00\", \"variable\": \"novinky nad 50 stran\", \"value\": 2667.0}, {\"rok\": \"1938-01-01T00:00:00\", \"variable\": \"novinky nad 50 stran\", \"value\": 2314.0}, {\"rok\": \"1939-01-01T00:00:00\", \"variable\": \"novinky nad 50 stran\", \"value\": 1776.0}, {\"rok\": \"1940-01-01T00:00:00\", \"variable\": \"novinky nad 50 stran\", \"value\": 2195.0}, {\"rok\": \"1941-01-01T00:00:00\", \"variable\": \"novinky nad 50 stran\", \"value\": 2089.0}, {\"rok\": \"1942-01-01T00:00:00\", \"variable\": \"novinky nad 50 stran\", \"value\": 1104.0}, {\"rok\": \"1943-01-01T00:00:00\", \"variable\": \"novinky nad 50 stran\", \"value\": 916.0}, {\"rok\": \"1944-01-01T00:00:00\", \"variable\": \"novinky nad 50 stran\", \"value\": 1069.0}, {\"rok\": \"1945-01-01T00:00:00\", \"variable\": \"novinky nad 50 stran\", \"value\": 1052.0}, {\"rok\": \"1946-01-01T00:00:00\", \"variable\": \"novinky nad 50 stran\", \"value\": 2690.0}, {\"rok\": \"1947-01-01T00:00:00\", \"variable\": \"novinky nad 50 stran\", \"value\": 3034.0}, {\"rok\": \"1948-01-01T00:00:00\", \"variable\": \"novinky nad 50 stran\", \"value\": 2633.0}, {\"rok\": \"1949-01-01T00:00:00\", \"variable\": \"novinky nad 50 stran\", \"value\": 1558.0}, {\"rok\": \"1950-01-01T00:00:00\", \"variable\": \"novinky nad 50 stran\", \"value\": 1846.0}, {\"rok\": \"1951-01-01T00:00:00\", \"variable\": \"novinky nad 50 stran\", \"value\": 2407.0}, {\"rok\": \"1952-01-01T00:00:00\", \"variable\": \"novinky nad 50 stran\", \"value\": 2305.0}, {\"rok\": \"1953-01-01T00:00:00\", \"variable\": \"novinky nad 50 stran\", \"value\": 2785.0}, {\"rok\": \"1954-01-01T00:00:00\", \"variable\": \"novinky nad 50 stran\", \"value\": 3059.0}, {\"rok\": \"1955-01-01T00:00:00\", \"variable\": \"novinky nad 50 stran\", \"value\": 2764.0}, {\"rok\": \"1956-01-01T00:00:00\", \"variable\": \"novinky nad 50 stran\", \"value\": 2795.0}, {\"rok\": \"1957-01-01T00:00:00\", \"variable\": \"novinky nad 50 stran\", \"value\": 2805.0}, {\"rok\": \"1958-01-01T00:00:00\", \"variable\": \"novinky nad 50 stran\", \"value\": 3105.0}, {\"rok\": \"1959-01-01T00:00:00\", \"variable\": \"novinky nad 50 stran\", \"value\": 3241.0}, {\"rok\": \"1960-01-01T00:00:00\", \"variable\": \"novinky nad 50 stran\", \"value\": 3163.0}, {\"rok\": \"1961-01-01T00:00:00\", \"variable\": \"novinky nad 50 stran\", \"value\": 3302.0}, {\"rok\": \"1962-01-01T00:00:00\", \"variable\": \"novinky nad 50 stran\", \"value\": 3201.0}, {\"rok\": \"1963-01-01T00:00:00\", \"variable\": \"novinky nad 50 stran\", \"value\": 3400.0}, {\"rok\": \"1964-01-01T00:00:00\", \"variable\": \"novinky nad 50 stran\", \"value\": 3344.0}, {\"rok\": \"1965-01-01T00:00:00\", \"variable\": \"novinky nad 50 stran\", \"value\": 3163.0}, {\"rok\": \"1966-01-01T00:00:00\", \"variable\": \"novinky nad 50 stran\", \"value\": 3249.0}, {\"rok\": \"1967-01-01T00:00:00\", \"variable\": \"novinky nad 50 stran\", \"value\": 3070.0}, {\"rok\": \"1968-01-01T00:00:00\", \"variable\": \"novinky nad 50 stran\", \"value\": 3064.0}, {\"rok\": \"1969-01-01T00:00:00\", \"variable\": \"novinky nad 50 stran\", \"value\": 2896.0}, {\"rok\": \"1970-01-01T00:00:00\", \"variable\": \"novinky nad 50 stran\", \"value\": 3058.0}, {\"rok\": \"1971-01-01T00:00:00\", \"variable\": \"novinky nad 50 stran\", \"value\": 3179.0}, {\"rok\": \"1972-01-01T00:00:00\", \"variable\": \"novinky nad 50 stran\", \"value\": 3195.0}, {\"rok\": \"1973-01-01T00:00:00\", \"variable\": \"novinky nad 50 stran\", \"value\": 3340.0}, {\"rok\": \"1974-01-01T00:00:00\", \"variable\": \"novinky nad 50 stran\", \"value\": 3452.0}, {\"rok\": \"1975-01-01T00:00:00\", \"variable\": \"novinky nad 50 stran\", \"value\": 3483.0}, {\"rok\": \"1976-01-01T00:00:00\", \"variable\": \"novinky nad 50 stran\", \"value\": 3494.0}, {\"rok\": \"1977-01-01T00:00:00\", \"variable\": \"novinky nad 50 stran\", \"value\": 3416.0}, {\"rok\": \"1978-01-01T00:00:00\", \"variable\": \"novinky nad 50 stran\", \"value\": 3545.0}, {\"rok\": \"1979-01-01T00:00:00\", \"variable\": \"novinky nad 50 stran\", \"value\": 3817.0}, {\"rok\": \"1980-01-01T00:00:00\", \"variable\": \"novinky nad 50 stran\", \"value\": 3961.0}, {\"rok\": \"1981-01-01T00:00:00\", \"variable\": \"novinky nad 50 stran\", \"value\": 3888.0}, {\"rok\": \"1982-01-01T00:00:00\", \"variable\": \"novinky nad 50 stran\", \"value\": 4155.0}, {\"rok\": \"1983-01-01T00:00:00\", \"variable\": \"novinky nad 50 stran\", \"value\": 4157.0}, {\"rok\": \"1984-01-01T00:00:00\", \"variable\": \"novinky nad 50 stran\", \"value\": 4247.0}, {\"rok\": \"1985-01-01T00:00:00\", \"variable\": \"novinky nad 50 stran\", \"value\": 4149.0}, {\"rok\": \"1986-01-01T00:00:00\", \"variable\": \"novinky nad 50 stran\", \"value\": 4329.0}, {\"rok\": \"1987-01-01T00:00:00\", \"variable\": \"novinky nad 50 stran\", \"value\": 4458.0}, {\"rok\": \"1988-01-01T00:00:00\", \"variable\": \"novinky nad 50 stran\", \"value\": 4372.0}, {\"rok\": \"1989-01-01T00:00:00\", \"variable\": \"novinky nad 50 stran\", \"value\": 4543.0}, {\"rok\": \"1990-01-01T00:00:00\", \"variable\": \"novinky nad 50 stran\", \"value\": 4308.0}, {\"rok\": \"1991-01-01T00:00:00\", \"variable\": \"novinky nad 50 stran\", \"value\": 4313.0}, {\"rok\": \"1992-01-01T00:00:00\", \"variable\": \"novinky nad 50 stran\", \"value\": 5863.0}, {\"rok\": \"1993-01-01T00:00:00\", \"variable\": \"novinky nad 50 stran\", \"value\": 6056.0}, {\"rok\": \"1994-01-01T00:00:00\", \"variable\": \"novinky nad 50 stran\", \"value\": 6538.0}, {\"rok\": \"1995-01-01T00:00:00\", \"variable\": \"novinky nad 50 stran\", \"value\": 7183.0}, {\"rok\": \"1996-01-01T00:00:00\", \"variable\": \"novinky nad 50 stran\", \"value\": 7609.0}, {\"rok\": \"1997-01-01T00:00:00\", \"variable\": \"novinky nad 50 stran\", \"value\": 7970.0}, {\"rok\": \"1998-01-01T00:00:00\", \"variable\": \"novinky nad 50 stran\", \"value\": 7910.0}, {\"rok\": \"1999-01-01T00:00:00\", \"variable\": \"novinky nad 50 stran\", \"value\": 7937.0}, {\"rok\": \"2000-01-01T00:00:00\", \"variable\": \"novinky nad 50 stran\", \"value\": 8455.0}, {\"rok\": \"2001-01-01T00:00:00\", \"variable\": \"novinky nad 50 stran\", \"value\": 8550.0}, {\"rok\": \"2002-01-01T00:00:00\", \"variable\": \"novinky nad 50 stran\", \"value\": 8568.0}, {\"rok\": \"2003-01-01T00:00:00\", \"variable\": \"novinky nad 50 stran\", \"value\": 9050.0}, {\"rok\": \"2004-01-01T00:00:00\", \"variable\": \"novinky nad 50 stran\", \"value\": 9601.0}, {\"rok\": \"2005-01-01T00:00:00\", \"variable\": \"novinky nad 50 stran\", \"value\": 9884.0}, {\"rok\": \"2006-01-01T00:00:00\", \"variable\": \"novinky nad 50 stran\", \"value\": 10384.0}, {\"rok\": \"2007-01-01T00:00:00\", \"variable\": \"novinky nad 50 stran\", \"value\": 10629.0}, {\"rok\": \"2008-01-01T00:00:00\", \"variable\": \"novinky nad 50 stran\", \"value\": 10854.0}, {\"rok\": \"2009-01-01T00:00:00\", \"variable\": \"novinky nad 50 stran\", \"value\": 10303.0}, {\"rok\": \"2010-01-01T00:00:00\", \"variable\": \"novinky nad 50 stran\", \"value\": 10529.0}, {\"rok\": \"2011-01-01T00:00:00\", \"variable\": \"novinky nad 50 stran\", \"value\": 10537.0}, {\"rok\": \"2012-01-01T00:00:00\", \"variable\": \"novinky nad 50 stran\", \"value\": 10121.0}, {\"rok\": \"2013-01-01T00:00:00\", \"variable\": \"novinky nad 50 stran\", \"value\": 10275.0}, {\"rok\": \"2014-01-01T00:00:00\", \"variable\": \"novinky nad 50 stran\", \"value\": 10327.0}, {\"rok\": \"2015-01-01T00:00:00\", \"variable\": \"novinky nad 50 stran\", \"value\": 10140.0}, {\"rok\": \"2016-01-01T00:00:00\", \"variable\": \"novinky nad 50 stran\", \"value\": 9481.0}, {\"rok\": \"2017-01-01T00:00:00\", \"variable\": \"novinky nad 50 stran\", \"value\": 9506.0}, {\"rok\": \"2018-01-01T00:00:00\", \"variable\": \"novinky nad 50 stran\", \"value\": 9804.0}, {\"rok\": \"2019-01-01T00:00:00\", \"variable\": \"novinky nad 50 stran\", \"value\": 9356.0}, {\"rok\": \"2020-01-01T00:00:00\", \"variable\": \"novinky nad 50 stran\", \"value\": 8692.0}, {\"rok\": \"2021-01-01T00:00:00\", \"variable\": \"novinky nad 50 stran\", \"value\": 8636.0}, {\"rok\": \"2022-01-01T00:00:00\", \"variable\": \"novinky nad 50 stran\", \"value\": 8529.0}, {\"rok\": \"2023-01-01T00:00:00\", \"variable\": \"novinky nad 50 stran\", \"value\": 7800.0}], \"data-7d440f797cbe94b11764d9146443cbb3\": [{\"rok\": \"1900-01-01T00:00:00\", \"variable\": \"pod\\u00edl p\\u0159eklad\\u016f\", \"value\": 0.2265625}, {\"rok\": \"1901-01-01T00:00:00\", \"variable\": \"pod\\u00edl p\\u0159eklad\\u016f\", \"value\": 0.2802056555269923}, {\"rok\": \"1902-01-01T00:00:00\", \"variable\": \"pod\\u00edl p\\u0159eklad\\u016f\", \"value\": 0.2651428571428571}, {\"rok\": \"1903-01-01T00:00:00\", \"variable\": \"pod\\u00edl p\\u0159eklad\\u016f\", \"value\": 0.26011560693641617}, {\"rok\": \"1904-01-01T00:00:00\", \"variable\": \"pod\\u00edl p\\u0159eklad\\u016f\", \"value\": 0.26535626535626533}, {\"rok\": \"1905-01-01T00:00:00\", \"variable\": \"pod\\u00edl p\\u0159eklad\\u016f\", \"value\": 0.29020100502512564}, {\"rok\": \"1906-01-01T00:00:00\", \"variable\": \"pod\\u00edl p\\u0159eklad\\u016f\", \"value\": 0.25908558030480655}, {\"rok\": \"1907-01-01T00:00:00\", \"variable\": \"pod\\u00edl p\\u0159eklad\\u016f\", \"value\": 0.2584541062801932}, {\"rok\": \"1908-01-01T00:00:00\", \"variable\": \"pod\\u00edl p\\u0159eklad\\u016f\", \"value\": 0.2708113804004215}, {\"rok\": \"1909-01-01T00:00:00\", \"variable\": \"pod\\u00edl p\\u0159eklad\\u016f\", \"value\": 0.2861602497398543}, {\"rok\": \"1910-01-01T00:00:00\", \"variable\": \"pod\\u00edl p\\u0159eklad\\u016f\", \"value\": 0.3280373831775701}, {\"rok\": \"1911-01-01T00:00:00\", \"variable\": \"pod\\u00edl p\\u0159eklad\\u016f\", \"value\": 0.3311985361390668}, {\"rok\": \"1912-01-01T00:00:00\", \"variable\": \"pod\\u00edl p\\u0159eklad\\u016f\", \"value\": 0.2781168265039233}, {\"rok\": \"1913-01-01T00:00:00\", \"variable\": \"pod\\u00edl p\\u0159eklad\\u016f\", \"value\": 0.26840215439856374}, {\"rok\": \"1914-01-01T00:00:00\", \"variable\": \"pod\\u00edl p\\u0159eklad\\u016f\", \"value\": 0.2718006795016987}, {\"rok\": \"1915-01-01T00:00:00\", \"variable\": \"pod\\u00edl p\\u0159eklad\\u016f\", \"value\": 0.23736600306278713}, {\"rok\": \"1916-01-01T00:00:00\", \"variable\": \"pod\\u00edl p\\u0159eklad\\u016f\", \"value\": 0.2577777777777778}, {\"rok\": \"1917-01-01T00:00:00\", \"variable\": \"pod\\u00edl p\\u0159eklad\\u016f\", \"value\": 0.24331926863572434}, {\"rok\": \"1918-01-01T00:00:00\", \"variable\": \"pod\\u00edl p\\u0159eklad\\u016f\", \"value\": 0.25842696629213485}, {\"rok\": \"1919-01-01T00:00:00\", \"variable\": \"pod\\u00edl p\\u0159eklad\\u016f\", \"value\": 0.30008244023083264}, {\"rok\": \"1920-01-01T00:00:00\", \"variable\": \"pod\\u00edl p\\u0159eklad\\u016f\", \"value\": 0.27781479013990673}, {\"rok\": \"1921-01-01T00:00:00\", \"variable\": \"pod\\u00edl p\\u0159eklad\\u016f\", \"value\": 0.26417611741160774}, {\"rok\": \"1922-01-01T00:00:00\", \"variable\": \"pod\\u00edl p\\u0159eklad\\u016f\", \"value\": 0.25564880568108456}, {\"rok\": \"1923-01-01T00:00:00\", \"variable\": \"pod\\u00edl p\\u0159eklad\\u016f\", \"value\": 0.26346153846153847}, {\"rok\": \"1924-01-01T00:00:00\", \"variable\": \"pod\\u00edl p\\u0159eklad\\u016f\", \"value\": 0.2681660899653979}, {\"rok\": \"1925-01-01T00:00:00\", \"variable\": \"pod\\u00edl p\\u0159eklad\\u016f\", \"value\": 0.33024214322514167}, {\"rok\": \"1926-01-01T00:00:00\", \"variable\": \"pod\\u00edl p\\u0159eklad\\u016f\", \"value\": 0.35748502994011977}, {\"rok\": \"1927-01-01T00:00:00\", \"variable\": \"pod\\u00edl p\\u0159eklad\\u016f\", \"value\": 0.3460166468489893}, {\"rok\": \"1928-01-01T00:00:00\", \"variable\": \"pod\\u00edl p\\u0159eklad\\u016f\", \"value\": 0.31382978723404253}, {\"rok\": \"1929-01-01T00:00:00\", \"variable\": \"pod\\u00edl p\\u0159eklad\\u016f\", \"value\": 0.35263500325309044}, {\"rok\": \"1930-01-01T00:00:00\", \"variable\": \"pod\\u00edl p\\u0159eklad\\u016f\", \"value\": 0.3223915592028136}, {\"rok\": \"1931-01-01T00:00:00\", \"variable\": \"pod\\u00edl p\\u0159eklad\\u016f\", \"value\": 0.34965034965034963}, {\"rok\": \"1932-01-01T00:00:00\", \"variable\": \"pod\\u00edl p\\u0159eklad\\u016f\", \"value\": 0.2807807807807808}, {\"rok\": \"1933-01-01T00:00:00\", \"variable\": \"pod\\u00edl p\\u0159eklad\\u016f\", \"value\": 0.2846832397754611}, {\"rok\": \"1934-01-01T00:00:00\", \"variable\": \"pod\\u00edl p\\u0159eklad\\u016f\", \"value\": 0.26468222043443285}, {\"rok\": \"1935-01-01T00:00:00\", \"variable\": \"pod\\u00edl p\\u0159eklad\\u016f\", \"value\": 0.26855713094245204}, {\"rok\": \"1936-01-01T00:00:00\", \"variable\": \"pod\\u00edl p\\u0159eklad\\u016f\", \"value\": 0.3177710843373494}, {\"rok\": \"1937-01-01T00:00:00\", \"variable\": \"pod\\u00edl p\\u0159eklad\\u016f\", \"value\": 0.31138211382113823}, {\"rok\": \"1938-01-01T00:00:00\", \"variable\": \"pod\\u00edl p\\u0159eklad\\u016f\", \"value\": 0.25144747725392885}, {\"rok\": \"1939-01-01T00:00:00\", \"variable\": \"pod\\u00edl p\\u0159eklad\\u016f\", \"value\": 0.24878048780487805}, {\"rok\": \"1940-01-01T00:00:00\", \"variable\": \"pod\\u00edl p\\u0159eklad\\u016f\", \"value\": 0.22454484153742413}, {\"rok\": \"1941-01-01T00:00:00\", \"variable\": \"pod\\u00edl p\\u0159eklad\\u016f\", \"value\": 0.2905405405405405}, {\"rok\": \"1942-01-01T00:00:00\", \"variable\": \"pod\\u00edl p\\u0159eklad\\u016f\", \"value\": 0.36187399030694667}, {\"rok\": \"1943-01-01T00:00:00\", \"variable\": \"pod\\u00edl p\\u0159eklad\\u016f\", \"value\": 0.31542056074766356}, {\"rok\": \"1944-01-01T00:00:00\", \"variable\": \"pod\\u00edl p\\u0159eklad\\u016f\", \"value\": 0.24829931972789115}, {\"rok\": \"1945-01-01T00:00:00\", \"variable\": \"pod\\u00edl p\\u0159eklad\\u016f\", \"value\": 0.21170610211706103}, {\"rok\": \"1946-01-01T00:00:00\", \"variable\": \"pod\\u00edl p\\u0159eklad\\u016f\", \"value\": 0.2505307855626327}, {\"rok\": \"1947-01-01T00:00:00\", \"variable\": \"pod\\u00edl p\\u0159eklad\\u016f\", \"value\": 0.2927653820148749}, {\"rok\": \"1948-01-01T00:00:00\", \"variable\": \"pod\\u00edl p\\u0159eklad\\u016f\", \"value\": 0.34016973125884015}, {\"rok\": \"1949-01-01T00:00:00\", \"variable\": \"pod\\u00edl p\\u0159eklad\\u016f\", \"value\": 0.41612200435729846}, {\"rok\": \"1950-01-01T00:00:00\", \"variable\": \"pod\\u00edl p\\u0159eklad\\u016f\", \"value\": 0.5141414141414141}, {\"rok\": \"1951-01-01T00:00:00\", \"variable\": \"pod\\u00edl p\\u0159eklad\\u016f\", \"value\": 0.5391104294478528}, {\"rok\": \"1952-01-01T00:00:00\", \"variable\": \"pod\\u00edl p\\u0159eklad\\u016f\", \"value\": 0.5340030911901081}, {\"rok\": \"1953-01-01T00:00:00\", \"variable\": \"pod\\u00edl p\\u0159eklad\\u016f\", \"value\": 0.4447334200260078}, {\"rok\": \"1954-01-01T00:00:00\", \"variable\": \"pod\\u00edl p\\u0159eklad\\u016f\", \"value\": 0.3821618428824572}, {\"rok\": \"1955-01-01T00:00:00\", \"variable\": \"pod\\u00edl p\\u0159eklad\\u016f\", \"value\": 0.3191616766467066}, {\"rok\": \"1956-01-01T00:00:00\", \"variable\": \"pod\\u00edl p\\u0159eklad\\u016f\", \"value\": 0.30523560209424083}, {\"rok\": \"1957-01-01T00:00:00\", \"variable\": \"pod\\u00edl p\\u0159eklad\\u016f\", \"value\": 0.2792311799252536}, {\"rok\": \"1958-01-01T00:00:00\", \"variable\": \"pod\\u00edl p\\u0159eklad\\u016f\", \"value\": 0.30245535714285715}, {\"rok\": \"1959-01-01T00:00:00\", \"variable\": \"pod\\u00edl p\\u0159eklad\\u016f\", \"value\": 0.32318104906937395}, {\"rok\": \"1960-01-01T00:00:00\", \"variable\": \"pod\\u00edl p\\u0159eklad\\u016f\", \"value\": 0.2864610559330894}, {\"rok\": \"1961-01-01T00:00:00\", \"variable\": \"pod\\u00edl p\\u0159eklad\\u016f\", \"value\": 0.2894590072504183}, {\"rok\": \"1962-01-01T00:00:00\", \"variable\": \"pod\\u00edl p\\u0159eklad\\u016f\", \"value\": 0.2830820770519263}, {\"rok\": \"1963-01-01T00:00:00\", \"variable\": \"pod\\u00edl p\\u0159eklad\\u016f\", \"value\": 0.28478002378121287}, {\"rok\": \"1964-01-01T00:00:00\", \"variable\": \"pod\\u00edl p\\u0159eklad\\u016f\", \"value\": 0.291101944608132}, {\"rok\": \"1965-01-01T00:00:00\", \"variable\": \"pod\\u00edl p\\u0159eklad\\u016f\", \"value\": 0.30642309958750735}, {\"rok\": \"1966-01-01T00:00:00\", \"variable\": \"pod\\u00edl p\\u0159eklad\\u016f\", \"value\": 0.2797814207650273}, {\"rok\": \"1967-01-01T00:00:00\", \"variable\": \"pod\\u00edl p\\u0159eklad\\u016f\", \"value\": 0.28004410143329656}, {\"rok\": \"1968-01-01T00:00:00\", \"variable\": \"pod\\u00edl p\\u0159eklad\\u016f\", \"value\": 0.2517694641051567}, {\"rok\": \"1969-01-01T00:00:00\", \"variable\": \"pod\\u00edl p\\u0159eklad\\u016f\", \"value\": 0.2522982635342186}, {\"rok\": \"1970-01-01T00:00:00\", \"variable\": \"pod\\u00edl p\\u0159eklad\\u016f\", \"value\": 0.25951219512195123}, {\"rok\": \"1971-01-01T00:00:00\", \"variable\": \"pod\\u00edl p\\u0159eklad\\u016f\", \"value\": 0.25303643724696356}, {\"rok\": \"1972-01-01T00:00:00\", \"variable\": \"pod\\u00edl p\\u0159eklad\\u016f\", \"value\": 0.2712041884816754}, {\"rok\": \"1973-01-01T00:00:00\", \"variable\": \"pod\\u00edl p\\u0159eklad\\u016f\", \"value\": 0.25848303393213573}, {\"rok\": \"1974-01-01T00:00:00\", \"variable\": \"pod\\u00edl p\\u0159eklad\\u016f\", \"value\": 0.2726387536514119}, {\"rok\": \"1975-01-01T00:00:00\", \"variable\": \"pod\\u00edl p\\u0159eklad\\u016f\", \"value\": 0.27627772420443586}, {\"rok\": \"1976-01-01T00:00:00\", \"variable\": \"pod\\u00edl p\\u0159eklad\\u016f\", \"value\": 0.2772727272727273}, {\"rok\": \"1977-01-01T00:00:00\", \"variable\": \"pod\\u00edl p\\u0159eklad\\u016f\", \"value\": 0.2523364485981308}, {\"rok\": \"1978-01-01T00:00:00\", \"variable\": \"pod\\u00edl p\\u0159eklad\\u016f\", \"value\": 0.22442813983599483}, {\"rok\": \"1979-01-01T00:00:00\", \"variable\": \"pod\\u00edl p\\u0159eklad\\u016f\", \"value\": 0.19433198380566802}, {\"rok\": \"1980-01-01T00:00:00\", \"variable\": \"pod\\u00edl p\\u0159eklad\\u016f\", \"value\": 0.18104667609618105}, {\"rok\": \"1981-01-01T00:00:00\", \"variable\": \"pod\\u00edl p\\u0159eklad\\u016f\", \"value\": 0.1723009814612868}, {\"rok\": \"1982-01-01T00:00:00\", \"variable\": \"pod\\u00edl p\\u0159eklad\\u016f\", \"value\": 0.17229496898690558}, {\"rok\": \"1983-01-01T00:00:00\", \"variable\": \"pod\\u00edl p\\u0159eklad\\u016f\", \"value\": 0.16163097682604868}, {\"rok\": \"1984-01-01T00:00:00\", \"variable\": \"pod\\u00edl p\\u0159eklad\\u016f\", \"value\": 0.1545532892846883}, {\"rok\": \"1985-01-01T00:00:00\", \"variable\": \"pod\\u00edl p\\u0159eklad\\u016f\", \"value\": 0.14723236864287723}, {\"rok\": \"1986-01-01T00:00:00\", \"variable\": \"pod\\u00edl p\\u0159eklad\\u016f\", \"value\": 0.15691634773100055}, {\"rok\": \"1987-01-01T00:00:00\", \"variable\": \"pod\\u00edl p\\u0159eklad\\u016f\", \"value\": 0.1459911203969705}, {\"rok\": \"1988-01-01T00:00:00\", \"variable\": \"pod\\u00edl p\\u0159eklad\\u016f\", \"value\": 0.14988623435722412}, {\"rok\": \"1989-01-01T00:00:00\", \"variable\": \"pod\\u00edl p\\u0159eklad\\u016f\", \"value\": 0.13825232938806345}, {\"rok\": \"1990-01-01T00:00:00\", \"variable\": \"pod\\u00edl p\\u0159eklad\\u016f\", \"value\": 0.14662231320368474}, {\"rok\": \"1991-01-01T00:00:00\", \"variable\": \"pod\\u00edl p\\u0159eklad\\u016f\", \"value\": 0.1986910994764398}, {\"rok\": \"1992-01-01T00:00:00\", \"variable\": \"pod\\u00edl p\\u0159eklad\\u016f\", \"value\": 0.2702114427860697}, {\"rok\": \"1993-01-01T00:00:00\", \"variable\": \"pod\\u00edl p\\u0159eklad\\u016f\", \"value\": 0.34371055952881785}, {\"rok\": \"1994-01-01T00:00:00\", \"variable\": \"pod\\u00edl p\\u0159eklad\\u016f\", \"value\": 0.3603385731559855}, {\"rok\": \"1995-01-01T00:00:00\", \"variable\": \"pod\\u00edl p\\u0159eklad\\u016f\", \"value\": 0.3600929733595566}, {\"rok\": \"1996-01-01T00:00:00\", \"variable\": \"pod\\u00edl p\\u0159eklad\\u016f\", \"value\": 0.3824852890273451}, {\"rok\": \"1997-01-01T00:00:00\", \"variable\": \"pod\\u00edl p\\u0159eklad\\u016f\", \"value\": 0.37710381603066156}, {\"rok\": \"1998-01-01T00:00:00\", \"variable\": \"pod\\u00edl p\\u0159eklad\\u016f\", \"value\": 0.3478544623919073}, {\"rok\": \"1999-01-01T00:00:00\", \"variable\": \"pod\\u00edl p\\u0159eklad\\u016f\", \"value\": 0.3492339282893698}, {\"rok\": \"2000-01-01T00:00:00\", \"variable\": \"pod\\u00edl p\\u0159eklad\\u016f\", \"value\": 0.34911831626848694}, {\"rok\": \"2001-01-01T00:00:00\", \"variable\": \"pod\\u00edl p\\u0159eklad\\u016f\", \"value\": 0.33314277547520366}, {\"rok\": \"2002-01-01T00:00:00\", \"variable\": \"pod\\u00edl p\\u0159eklad\\u016f\", \"value\": 0.33192804946599214}, {\"rok\": \"2003-01-01T00:00:00\", \"variable\": \"pod\\u00edl p\\u0159eklad\\u016f\", \"value\": 0.3370330265295073}, {\"rok\": \"2004-01-01T00:00:00\", \"variable\": \"pod\\u00edl p\\u0159eklad\\u016f\", \"value\": 0.3432783840260042}, {\"rok\": \"2005-01-01T00:00:00\", \"variable\": \"pod\\u00edl p\\u0159eklad\\u016f\", \"value\": 0.31950646298472385}, {\"rok\": \"2006-01-01T00:00:00\", \"variable\": \"pod\\u00edl p\\u0159eklad\\u016f\", \"value\": 0.32563817980022197}, {\"rok\": \"2007-01-01T00:00:00\", \"variable\": \"pod\\u00edl p\\u0159eklad\\u016f\", \"value\": 0.32718139128535545}, {\"rok\": \"2008-01-01T00:00:00\", \"variable\": \"pod\\u00edl p\\u0159eklad\\u016f\", \"value\": 0.33528746271726834}, {\"rok\": \"2009-01-01T00:00:00\", \"variable\": \"pod\\u00edl p\\u0159eklad\\u016f\", \"value\": 0.34049409237379163}, {\"rok\": \"2010-01-01T00:00:00\", \"variable\": \"pod\\u00edl p\\u0159eklad\\u016f\", \"value\": 0.3179009112810307}, {\"rok\": \"2011-01-01T00:00:00\", \"variable\": \"pod\\u00edl p\\u0159eklad\\u016f\", \"value\": 0.32861702127659576}, {\"rok\": \"2012-01-01T00:00:00\", \"variable\": \"pod\\u00edl p\\u0159eklad\\u016f\", \"value\": 0.3237810094097519}, {\"rok\": \"2013-01-01T00:00:00\", \"variable\": \"pod\\u00edl p\\u0159eklad\\u016f\", \"value\": 0.3201206376561827}, {\"rok\": \"2014-01-01T00:00:00\", \"variable\": \"pod\\u00edl p\\u0159eklad\\u016f\", \"value\": 0.3152719888853265}, {\"rok\": \"2015-01-01T00:00:00\", \"variable\": \"pod\\u00edl p\\u0159eklad\\u016f\", \"value\": 0.31947187857365633}, {\"rok\": \"2016-01-01T00:00:00\", \"variable\": \"pod\\u00edl p\\u0159eklad\\u016f\", \"value\": 0.34082644628099174}, {\"rok\": \"2017-01-01T00:00:00\", \"variable\": \"pod\\u00edl p\\u0159eklad\\u016f\", \"value\": 0.34185658699277377}, {\"rok\": \"2018-01-01T00:00:00\", \"variable\": \"pod\\u00edl p\\u0159eklad\\u016f\", \"value\": 0.34999459050091963}, {\"rok\": \"2019-01-01T00:00:00\", \"variable\": \"pod\\u00edl p\\u0159eklad\\u016f\", \"value\": 0.36502160564020925}, {\"rok\": \"2020-01-01T00:00:00\", \"variable\": \"pod\\u00edl p\\u0159eklad\\u016f\", \"value\": 0.3333333333333333}, {\"rok\": \"2021-01-01T00:00:00\", \"variable\": \"pod\\u00edl p\\u0159eklad\\u016f\", \"value\": 0.341092991410432}, {\"rok\": \"2022-01-01T00:00:00\", \"variable\": \"pod\\u00edl p\\u0159eklad\\u016f\", \"value\": 0.3550397067806964}, {\"rok\": \"2023-01-01T00:00:00\", \"variable\": \"pod\\u00edl p\\u0159eklad\\u016f\", \"value\": 0.3619896892852167}]}}, {\"mode\": \"vega-lite\"});\n",
       "</script>"
      ],
      "text/plain": [
       "alt.VConcatChart(...)"
      ]
     },
     "execution_count": 419,
     "metadata": {},
     "output_type": "execute_result"
    }
   ],
   "source": [
    "graf_i = alt.Chart(do_grafu.filter(pl.col(\"variable\") == \"všechny publikace\").to_pandas(), title={'text': titulek}, width=300, height=100).mark_area(size=2).encode(\n",
    "    alt.X(\"rok:T\", \n",
    "          title=None,\n",
    "          axis=alt.Axis(domainOpacity=0, tickColor='#DCDDD6')\n",
    "    ),\n",
    "    alt.Y('value:Q', \n",
    "          axis=alt.Axis(\n",
    "              orient='right', \n",
    "              domainOpacity=0, \n",
    "              tickColor='#DCDDD6',\n",
    "              format='s', \n",
    "          ), \n",
    "          title=None,\n",
    "          scale=alt.Scale(zero=True)\n",
    "    ),\n",
    "    alt.Color(\"variable:N\", \n",
    "              scale=alt.Scale(range=['#81A9D5']),\n",
    "              title=None, \n",
    "              legend=None\n",
    "    ))\n",
    "\n",
    "graf_ii = alt.Chart(do_grafu.filter(pl.col(\"variable\") == \"novinky nad 50 stran\").to_pandas(), title={'text': \"Novinky nad 50 stran\"}, width=300, height=100).mark_area(size=2).encode(\n",
    "    alt.X(\"rok:T\", \n",
    "          title=None,\n",
    "          axis=alt.Axis(domainOpacity=0, tickColor='#DCDDD6')\n",
    "    ),\n",
    "    alt.Y('value:Q', \n",
    "          axis=alt.Axis(\n",
    "              orient='right', \n",
    "              domainOpacity=0, \n",
    "              tickColor='#DCDDD6',\n",
    "              format='s',  # Default format for first two facets,\n",
    "          ), \n",
    "          title=None,\n",
    "          scale=alt.Scale(zero=True)\n",
    "    ),\n",
    "    alt.Color(\"variable:N\", \n",
    "              scale=alt.Scale(range=['#70871E']),\n",
    "              title=None, \n",
    "              legend=None\n",
    "    ))\n",
    "\n",
    "graf_iii = alt.Chart(do_grafu.filter(pl.col(\"variable\") == \"podíl překladů\").to_pandas(), title={'text': \"Podíl překladů z cizích jazyků\"}, width=300, height=100).mark_area(size=2).encode(\n",
    "    alt.X(\"rok:T\", \n",
    "          title=None,\n",
    "          axis=alt.Axis(domainOpacity=0, tickColor='#DCDDD6')\n",
    "    ),\n",
    "    alt.Y('value:Q', \n",
    "          axis=alt.Axis(\n",
    "              orient='right', \n",
    "              domainOpacity=0, \n",
    "              tickColor='#DCDDD6',\n",
    "              format=' .0%',\n",
    "                            labelExpr=\"replace(datum.label, '%', ' %')\"  # Adds space before %\n",
    "\n",
    "          ), \n",
    "          title=None,\n",
    "          scale=alt.Scale(zero=True)\n",
    "),\n",
    "    alt.Color(\"variable:N\", \n",
    "              scale=alt.Scale(range=['#DB842F']),\n",
    "              title=None, \n",
    "              legend=None\n",
    "    ))\n",
    "\n",
    "graf_produkce = alt.vconcat(graf_i, graf_ii, graf_iii).resolve_scale(color='independent',y=\"independent\").configure_view(stroke='transparent')\n",
    "graf_produkce"
   ]
  },
  {
   "cell_type": "code",
   "execution_count": 398,
   "id": "b2d5942d-4d6c-440f-83d8-af0d4c182b7f",
   "metadata": {},
   "outputs": [],
   "source": [
    "def me_to_neurazi(zaklad_grafu, soubor, kredity):\n",
    "\n",
    "    os.makedirs(\"grafy\", exist_ok=True)\n",
    "    \n",
    "    credits = pl.DataFrame({'text': [kredity]})\n",
    "    credits = alt.Chart(credits.to_pandas(), width=300).encode(text=alt.Text('text:N')).mark_text(fontSize=10,font=\"Asap\", baseline='line-bottom')\n",
    "    combined_chart = alt.vconcat(zaklad_grafu, credits)\n",
    "\n",
    "    combined_chart.save(os.path.join(\"grafy\",f\"{soubor}.svg\"))\n",
    "    combined_chart.save(os.path.join(\"grafy\",f\"{soubor}.png\"), ppi=400)\n",
    "    \n",
    "    return combined_chart"
   ]
  },
  {
   "cell_type": "code",
   "execution_count": 399,
   "id": "07317a11-fb81-4696-9746-5fb288c75a3b",
   "metadata": {},
   "outputs": [
    {
     "name": "stderr",
     "output_type": "stream",
     "text": [
      "C:\\Users\\micha\\anaconda3\\Lib\\site-packages\\altair\\utils\\core.py:395: FutureWarning: the convert_dtype parameter is deprecated and will be removed in a future version.  Do ``ser.astype(object).apply()`` instead if you want ``convert_dtype=False``.\n",
      "  col = df[col_name].apply(to_list_if_array, convert_dtype=False)\n",
      "C:\\Users\\micha\\anaconda3\\Lib\\site-packages\\altair\\utils\\core.py:395: FutureWarning: the convert_dtype parameter is deprecated and will be removed in a future version.  Do ``ser.astype(object).apply()`` instead if you want ``convert_dtype=False``.\n",
      "  col = df[col_name].apply(to_list_if_array, convert_dtype=False)\n",
      "C:\\Users\\micha\\anaconda3\\Lib\\site-packages\\altair\\utils\\core.py:395: FutureWarning: the convert_dtype parameter is deprecated and will be removed in a future version.  Do ``ser.astype(object).apply()`` instead if you want ``convert_dtype=False``.\n",
      "  col = df[col_name].apply(to_list_if_array, convert_dtype=False)\n",
      "C:\\Users\\micha\\anaconda3\\Lib\\site-packages\\altair\\utils\\core.py:395: FutureWarning: the convert_dtype parameter is deprecated and will be removed in a future version.  Do ``ser.astype(object).apply()`` instead if you want ``convert_dtype=False``.\n",
      "  col = df[col_name].apply(to_list_if_array, convert_dtype=False)\n",
      "C:\\Users\\micha\\anaconda3\\Lib\\site-packages\\altair\\utils\\core.py:395: FutureWarning: the convert_dtype parameter is deprecated and will be removed in a future version.  Do ``ser.astype(object).apply()`` instead if you want ``convert_dtype=False``.\n",
      "  col = df[col_name].apply(to_list_if_array, convert_dtype=False)\n",
      "C:\\Users\\micha\\anaconda3\\Lib\\site-packages\\altair\\utils\\core.py:395: FutureWarning: the convert_dtype parameter is deprecated and will be removed in a future version.  Do ``ser.astype(object).apply()`` instead if you want ``convert_dtype=False``.\n",
      "  col = df[col_name].apply(to_list_if_array, convert_dtype=False)\n",
      "C:\\Users\\micha\\anaconda3\\Lib\\site-packages\\altair\\utils\\core.py:395: FutureWarning: the convert_dtype parameter is deprecated and will be removed in a future version.  Do ``ser.astype(object).apply()`` instead if you want ``convert_dtype=False``.\n",
      "  col = df[col_name].apply(to_list_if_array, convert_dtype=False)\n",
      "C:\\Users\\micha\\anaconda3\\Lib\\site-packages\\altair\\utils\\core.py:395: FutureWarning: the convert_dtype parameter is deprecated and will be removed in a future version.  Do ``ser.astype(object).apply()`` instead if you want ``convert_dtype=False``.\n",
      "  col = df[col_name].apply(to_list_if_array, convert_dtype=False)\n",
      "C:\\Users\\micha\\anaconda3\\Lib\\site-packages\\altair\\utils\\core.py:395: FutureWarning: the convert_dtype parameter is deprecated and will be removed in a future version.  Do ``ser.astype(object).apply()`` instead if you want ``convert_dtype=False``.\n",
      "  col = df[col_name].apply(to_list_if_array, convert_dtype=False)\n",
      "C:\\Users\\micha\\anaconda3\\Lib\\site-packages\\altair\\utils\\core.py:395: FutureWarning: the convert_dtype parameter is deprecated and will be removed in a future version.  Do ``ser.astype(object).apply()`` instead if you want ``convert_dtype=False``.\n",
      "  col = df[col_name].apply(to_list_if_array, convert_dtype=False)\n",
      "C:\\Users\\micha\\anaconda3\\Lib\\site-packages\\altair\\utils\\core.py:395: FutureWarning: the convert_dtype parameter is deprecated and will be removed in a future version.  Do ``ser.astype(object).apply()`` instead if you want ``convert_dtype=False``.\n",
      "  col = df[col_name].apply(to_list_if_array, convert_dtype=False)\n",
      "C:\\Users\\micha\\anaconda3\\Lib\\site-packages\\altair\\utils\\core.py:395: FutureWarning: the convert_dtype parameter is deprecated and will be removed in a future version.  Do ``ser.astype(object).apply()`` instead if you want ``convert_dtype=False``.\n",
      "  col = df[col_name].apply(to_list_if_array, convert_dtype=False)\n"
     ]
    },
    {
     "data": {
      "text/html": [
       "\n",
       "<style>\n",
       "  #altair-viz-3aba17fb44d34a469b954c0e00450e6d.vega-embed {\n",
       "    width: 100%;\n",
       "    display: flex;\n",
       "  }\n",
       "\n",
       "  #altair-viz-3aba17fb44d34a469b954c0e00450e6d.vega-embed details,\n",
       "  #altair-viz-3aba17fb44d34a469b954c0e00450e6d.vega-embed details summary {\n",
       "    position: relative;\n",
       "  }\n",
       "</style>\n",
       "<div id=\"altair-viz-3aba17fb44d34a469b954c0e00450e6d\"></div>\n",
       "<script type=\"text/javascript\">\n",
       "  var VEGA_DEBUG = (typeof VEGA_DEBUG == \"undefined\") ? {} : VEGA_DEBUG;\n",
       "  (function(spec, embedOpt){\n",
       "    let outputDiv = document.currentScript.previousElementSibling;\n",
       "    if (outputDiv.id !== \"altair-viz-3aba17fb44d34a469b954c0e00450e6d\") {\n",
       "      outputDiv = document.getElementById(\"altair-viz-3aba17fb44d34a469b954c0e00450e6d\");\n",
       "    }\n",
       "    const paths = {\n",
       "      \"vega\": \"https://cdn.jsdelivr.net/npm/vega@5?noext\",\n",
       "      \"vega-lib\": \"https://cdn.jsdelivr.net/npm/vega-lib?noext\",\n",
       "      \"vega-lite\": \"https://cdn.jsdelivr.net/npm/vega-lite@5.8.0?noext\",\n",
       "      \"vega-embed\": \"https://cdn.jsdelivr.net/npm/vega-embed@6?noext\",\n",
       "    };\n",
       "\n",
       "    function maybeLoadScript(lib, version) {\n",
       "      var key = `${lib.replace(\"-\", \"\")}_version`;\n",
       "      return (VEGA_DEBUG[key] == version) ?\n",
       "        Promise.resolve(paths[lib]) :\n",
       "        new Promise(function(resolve, reject) {\n",
       "          var s = document.createElement('script');\n",
       "          document.getElementsByTagName(\"head\")[0].appendChild(s);\n",
       "          s.async = true;\n",
       "          s.onload = () => {\n",
       "            VEGA_DEBUG[key] = version;\n",
       "            return resolve(paths[lib]);\n",
       "          };\n",
       "          s.onerror = () => reject(`Error loading script: ${paths[lib]}`);\n",
       "          s.src = paths[lib];\n",
       "        });\n",
       "    }\n",
       "\n",
       "    function showError(err) {\n",
       "      outputDiv.innerHTML = `<div class=\"error\" style=\"color:red;\">${err}</div>`;\n",
       "      throw err;\n",
       "    }\n",
       "\n",
       "    function displayChart(vegaEmbed) {\n",
       "      vegaEmbed(outputDiv, spec, embedOpt)\n",
       "        .catch(err => showError(`Javascript Error: ${err.message}<br>This usually means there's a typo in your chart specification. See the javascript console for the full traceback.`));\n",
       "    }\n",
       "\n",
       "    if(typeof define === \"function\" && define.amd) {\n",
       "      requirejs.config({paths});\n",
       "      require([\"vega-embed\"], displayChart, err => showError(`Error loading script: ${err.message}`));\n",
       "    } else {\n",
       "      maybeLoadScript(\"vega\", \"5\")\n",
       "        .then(() => maybeLoadScript(\"vega-lite\", \"5.8.0\"))\n",
       "        .then(() => maybeLoadScript(\"vega-embed\", \"6\"))\n",
       "        .catch(showError)\n",
       "        .then(() => displayChart(vegaEmbed));\n",
       "    }\n",
       "  })({\"config\": {\"title\": {\"font\": \"Noticia Text\", \"fontSize\": 14, \"anchor\": \"start\", \"fontWeight\": \"bolder\", \"subtitleFont\": \"Noticia Text\", \"subtitleLineHeight\": 18, \"subtitleFontSize\": 12, \"subtitleFontWeight\": \"normal\", \"subtitlePadding\": 10, \"dy\": -12}, \"axis\": {\"labelFont\": \"Asap\", \"titleFont\": \"Asap\", \"fontWeight\": \"lighter\", \"titleFontWeight\": \"lighter\", \"labelFontSize\": 10, \"titleFontSize\": 10, \"labelPadding\": 2, \"titlePadding\": 10}, \"legend\": {\"labelFont\": \"Asap\", \"labelFontWeight\": \"normal\", \"titleFont\": \"Asap\", \"titleFontWeight\": \"normal\", \"labelFontSize\": 10, \"titleFontSize\": 10}}, \"vconcat\": [{\"vconcat\": [{\"data\": {\"name\": \"data-ab4150d58a9aa15071583431431c1790\"}, \"mark\": {\"type\": \"area\", \"size\": 2}, \"encoding\": {\"color\": {\"field\": \"variable\", \"legend\": null, \"scale\": {\"range\": [\"#81A9D5\"]}, \"title\": null, \"type\": \"nominal\"}, \"x\": {\"axis\": {\"domainOpacity\": 0, \"tickColor\": \"#DCDDD6\"}, \"field\": \"rok\", \"title\": null, \"type\": \"temporal\"}, \"y\": {\"axis\": {\"domainOpacity\": 0, \"format\": \"s\", \"orient\": \"right\", \"tickColor\": \"#DCDDD6\"}, \"field\": \"value\", \"scale\": {\"zero\": true}, \"title\": null, \"type\": \"quantitative\"}}, \"height\": 100, \"title\": {\"text\": \"V\\u00fdvoj kni\\u017en\\u00ed produkce na \\u010desk\\u00e9m \\u00fazem\\u00ed\"}, \"width\": 300}, {\"data\": {\"name\": \"data-090e34dddacba219eb4b6f78527346c4\"}, \"mark\": {\"type\": \"area\", \"size\": 2}, \"encoding\": {\"color\": {\"field\": \"variable\", \"legend\": null, \"scale\": {\"range\": [\"#70871E\"]}, \"title\": null, \"type\": \"nominal\"}, \"x\": {\"axis\": {\"domainOpacity\": 0, \"tickColor\": \"#DCDDD6\"}, \"field\": \"rok\", \"title\": null, \"type\": \"temporal\"}, \"y\": {\"axis\": {\"domainOpacity\": 0, \"format\": \"s\", \"orient\": \"right\", \"tickColor\": \"#DCDDD6\"}, \"field\": \"value\", \"scale\": {\"zero\": true}, \"title\": null, \"type\": \"quantitative\"}}, \"height\": 100, \"title\": {\"text\": \"Novinky nad 50 stran\"}, \"width\": 300}, {\"data\": {\"name\": \"data-7d440f797cbe94b11764d9146443cbb3\"}, \"mark\": {\"type\": \"area\", \"size\": 2}, \"encoding\": {\"color\": {\"field\": \"variable\", \"legend\": null, \"scale\": {\"range\": [\"#DB842F\"]}, \"title\": null, \"type\": \"nominal\"}, \"x\": {\"axis\": {\"domainOpacity\": 0, \"tickColor\": \"#DCDDD6\"}, \"field\": \"rok\", \"title\": null, \"type\": \"temporal\"}, \"y\": {\"axis\": {\"domainOpacity\": 0, \"format\": \" .0%\", \"labelExpr\": \"replace(datum.label, '%', ' %')\", \"orient\": \"right\", \"tickColor\": \"#DCDDD6\"}, \"field\": \"value\", \"scale\": {\"zero\": true}, \"title\": null, \"type\": \"quantitative\"}}, \"height\": 100, \"title\": {\"text\": \"Pod\\u00edl p\\u0159eklad\\u016f z ciz\\u00edch jazyk\\u016f\"}, \"width\": 300}], \"resolve\": {\"scale\": {\"color\": \"independent\", \"y\": \"independent\"}}}, {\"data\": {\"name\": \"data-a3f8095f7e7dc7f5f7fef984c8960ef9\"}, \"mark\": {\"type\": \"text\", \"baseline\": \"line-bottom\", \"font\": \"Asap\", \"fontSize\": 10}, \"encoding\": {\"text\": {\"field\": \"text\", \"type\": \"nominal\"}}, \"width\": 300}], \"$schema\": \"https://vega.github.io/schema/vega-lite/v5.8.0.json\", \"datasets\": {\"data-ab4150d58a9aa15071583431431c1790\": [{\"rok\": \"1900-01-01T00:00:00\", \"variable\": \"v\\u0161echny publikace\", \"value\": 1355.0}, {\"rok\": \"1901-01-01T00:00:00\", \"variable\": \"v\\u0161echny publikace\", \"value\": 1810.0}, {\"rok\": \"1902-01-01T00:00:00\", \"variable\": \"v\\u0161echny publikace\", \"value\": 2034.0}, {\"rok\": \"1903-01-01T00:00:00\", \"variable\": \"v\\u0161echny publikace\", \"value\": 1972.0}, {\"rok\": \"1904-01-01T00:00:00\", \"variable\": \"v\\u0161echny publikace\", \"value\": 1896.0}, {\"rok\": \"1905-01-01T00:00:00\", \"variable\": \"v\\u0161echny publikace\", \"value\": 1811.0}, {\"rok\": \"1906-01-01T00:00:00\", \"variable\": \"v\\u0161echny publikace\", \"value\": 2239.0}, {\"rok\": \"1907-01-01T00:00:00\", \"variable\": \"v\\u0161echny publikace\", \"value\": 2075.0}, {\"rok\": \"1908-01-01T00:00:00\", \"variable\": \"v\\u0161echny publikace\", \"value\": 2342.0}, {\"rok\": \"1909-01-01T00:00:00\", \"variable\": \"v\\u0161echny publikace\", \"value\": 2245.0}, {\"rok\": \"1910-01-01T00:00:00\", \"variable\": \"v\\u0161echny publikace\", \"value\": 2545.0}, {\"rok\": \"1911-01-01T00:00:00\", \"variable\": \"v\\u0161echny publikace\", \"value\": 2475.0}, {\"rok\": \"1912-01-01T00:00:00\", \"variable\": \"v\\u0161echny publikace\", \"value\": 2594.0}, {\"rok\": \"1913-01-01T00:00:00\", \"variable\": \"v\\u0161echny publikace\", \"value\": 2689.0}, {\"rok\": \"1914-01-01T00:00:00\", \"variable\": \"v\\u0161echny publikace\", \"value\": 2035.0}, {\"rok\": \"1915-01-01T00:00:00\", \"variable\": \"v\\u0161echny publikace\", \"value\": 1394.0}, {\"rok\": \"1916-01-01T00:00:00\", \"variable\": \"v\\u0161echny publikace\", \"value\": 1508.0}, {\"rok\": \"1917-01-01T00:00:00\", \"variable\": \"v\\u0161echny publikace\", \"value\": 1573.0}, {\"rok\": \"1918-01-01T00:00:00\", \"variable\": \"v\\u0161echny publikace\", \"value\": 1907.0}, {\"rok\": \"1919-01-01T00:00:00\", \"variable\": \"v\\u0161echny publikace\", \"value\": 3422.0}, {\"rok\": \"1920-01-01T00:00:00\", \"variable\": \"v\\u0161echny publikace\", \"value\": 4301.0}, {\"rok\": \"1921-01-01T00:00:00\", \"variable\": \"v\\u0161echny publikace\", \"value\": 3800.0}, {\"rok\": \"1922-01-01T00:00:00\", \"variable\": \"v\\u0161echny publikace\", \"value\": 4233.0}, {\"rok\": \"1923-01-01T00:00:00\", \"variable\": \"v\\u0161echny publikace\", \"value\": 4227.0}, {\"rok\": \"1924-01-01T00:00:00\", \"variable\": \"v\\u0161echny publikace\", \"value\": 4691.0}, {\"rok\": \"1925-01-01T00:00:00\", \"variable\": \"v\\u0161echny publikace\", \"value\": 5256.0}, {\"rok\": \"1926-01-01T00:00:00\", \"variable\": \"v\\u0161echny publikace\", \"value\": 4855.0}, {\"rok\": \"1927-01-01T00:00:00\", \"variable\": \"v\\u0161echny publikace\", \"value\": 4680.0}, {\"rok\": \"1928-01-01T00:00:00\", \"variable\": \"v\\u0161echny publikace\", \"value\": 4946.0}, {\"rok\": \"1929-01-01T00:00:00\", \"variable\": \"v\\u0161echny publikace\", \"value\": 4856.0}, {\"rok\": \"1930-01-01T00:00:00\", \"variable\": \"v\\u0161echny publikace\", \"value\": 5530.0}, {\"rok\": \"1931-01-01T00:00:00\", \"variable\": \"v\\u0161echny publikace\", \"value\": 4980.0}, {\"rok\": \"1932-01-01T00:00:00\", \"variable\": \"v\\u0161echny publikace\", \"value\": 4635.0}, {\"rok\": \"1933-01-01T00:00:00\", \"variable\": \"v\\u0161echny publikace\", \"value\": 4627.0}, {\"rok\": \"1934-01-01T00:00:00\", \"variable\": \"v\\u0161echny publikace\", \"value\": 4871.0}, {\"rok\": \"1935-01-01T00:00:00\", \"variable\": \"v\\u0161echny publikace\", \"value\": 5465.0}, {\"rok\": \"1936-01-01T00:00:00\", \"variable\": \"v\\u0161echny publikace\", \"value\": 6439.0}, {\"rok\": \"1937-01-01T00:00:00\", \"variable\": \"v\\u0161echny publikace\", \"value\": 6469.0}, {\"rok\": \"1938-01-01T00:00:00\", \"variable\": \"v\\u0161echny publikace\", \"value\": 5612.0}, {\"rok\": \"1939-01-01T00:00:00\", \"variable\": \"v\\u0161echny publikace\", \"value\": 4208.0}, {\"rok\": \"1940-01-01T00:00:00\", \"variable\": \"v\\u0161echny publikace\", \"value\": 5558.0}, {\"rok\": \"1941-01-01T00:00:00\", \"variable\": \"v\\u0161echny publikace\", \"value\": 5266.0}, {\"rok\": \"1942-01-01T00:00:00\", \"variable\": \"v\\u0161echny publikace\", \"value\": 2705.0}, {\"rok\": \"1943-01-01T00:00:00\", \"variable\": \"v\\u0161echny publikace\", \"value\": 2079.0}, {\"rok\": \"1944-01-01T00:00:00\", \"variable\": \"v\\u0161echny publikace\", \"value\": 2461.0}, {\"rok\": \"1945-01-01T00:00:00\", \"variable\": \"v\\u0161echny publikace\", \"value\": 3084.0}, {\"rok\": \"1946-01-01T00:00:00\", \"variable\": \"v\\u0161echny publikace\", \"value\": 6052.0}, {\"rok\": \"1947-01-01T00:00:00\", \"variable\": \"v\\u0161echny publikace\", \"value\": 6490.0}, {\"rok\": \"1948-01-01T00:00:00\", \"variable\": \"v\\u0161echny publikace\", \"value\": 5384.0}, {\"rok\": \"1949-01-01T00:00:00\", \"variable\": \"v\\u0161echny publikace\", \"value\": 3972.0}, {\"rok\": \"1950-01-01T00:00:00\", \"variable\": \"v\\u0161echny publikace\", \"value\": 4030.0}, {\"rok\": \"1951-01-01T00:00:00\", \"variable\": \"v\\u0161echny publikace\", \"value\": 4555.0}, {\"rok\": \"1952-01-01T00:00:00\", \"variable\": \"v\\u0161echny publikace\", \"value\": 4400.0}, {\"rok\": \"1953-01-01T00:00:00\", \"variable\": \"v\\u0161echny publikace\", \"value\": 5005.0}, {\"rok\": \"1954-01-01T00:00:00\", \"variable\": \"v\\u0161echny publikace\", \"value\": 5356.0}, {\"rok\": \"1955-01-01T00:00:00\", \"variable\": \"v\\u0161echny publikace\", \"value\": 4948.0}, {\"rok\": \"1956-01-01T00:00:00\", \"variable\": \"v\\u0161echny publikace\", \"value\": 4906.0}, {\"rok\": \"1957-01-01T00:00:00\", \"variable\": \"v\\u0161echny publikace\", \"value\": 4927.0}, {\"rok\": \"1958-01-01T00:00:00\", \"variable\": \"v\\u0161echny publikace\", \"value\": 5513.0}, {\"rok\": \"1959-01-01T00:00:00\", \"variable\": \"v\\u0161echny publikace\", \"value\": 6124.0}, {\"rok\": \"1960-01-01T00:00:00\", \"variable\": \"v\\u0161echny publikace\", \"value\": 5890.0}, {\"rok\": \"1961-01-01T00:00:00\", \"variable\": \"v\\u0161echny publikace\", \"value\": 6083.0}, {\"rok\": \"1962-01-01T00:00:00\", \"variable\": \"v\\u0161echny publikace\", \"value\": 5564.0}, {\"rok\": \"1963-01-01T00:00:00\", \"variable\": \"v\\u0161echny publikace\", \"value\": 5844.0}, {\"rok\": \"1964-01-01T00:00:00\", \"variable\": \"v\\u0161echny publikace\", \"value\": 5555.0}, {\"rok\": \"1965-01-01T00:00:00\", \"variable\": \"v\\u0161echny publikace\", \"value\": 5192.0}, {\"rok\": \"1966-01-01T00:00:00\", \"variable\": \"v\\u0161echny publikace\", \"value\": 5144.0}, {\"rok\": \"1967-01-01T00:00:00\", \"variable\": \"v\\u0161echny publikace\", \"value\": 5122.0}, {\"rok\": \"1968-01-01T00:00:00\", \"variable\": \"v\\u0161echny publikace\", \"value\": 4960.0}, {\"rok\": \"1969-01-01T00:00:00\", \"variable\": \"v\\u0161echny publikace\", \"value\": 4906.0}, {\"rok\": \"1970-01-01T00:00:00\", \"variable\": \"v\\u0161echny publikace\", \"value\": 5243.0}, {\"rok\": \"1971-01-01T00:00:00\", \"variable\": \"v\\u0161echny publikace\", \"value\": 5355.0}, {\"rok\": \"1972-01-01T00:00:00\", \"variable\": \"v\\u0161echny publikace\", \"value\": 5273.0}, {\"rok\": \"1973-01-01T00:00:00\", \"variable\": \"v\\u0161echny publikace\", \"value\": 5468.0}, {\"rok\": \"1974-01-01T00:00:00\", \"variable\": \"v\\u0161echny publikace\", \"value\": 5604.0}, {\"rok\": \"1975-01-01T00:00:00\", \"variable\": \"v\\u0161echny publikace\", \"value\": 5568.0}, {\"rok\": \"1976-01-01T00:00:00\", \"variable\": \"v\\u0161echny publikace\", \"value\": 5792.0}, {\"rok\": \"1977-01-01T00:00:00\", \"variable\": \"v\\u0161echny publikace\", \"value\": 5565.0}, {\"rok\": \"1978-01-01T00:00:00\", \"variable\": \"v\\u0161echny publikace\", \"value\": 5641.0}, {\"rok\": \"1979-01-01T00:00:00\", \"variable\": \"v\\u0161echny publikace\", \"value\": 5915.0}, {\"rok\": \"1980-01-01T00:00:00\", \"variable\": \"v\\u0161echny publikace\", \"value\": 6047.0}, {\"rok\": \"1981-01-01T00:00:00\", \"variable\": \"v\\u0161echny publikace\", \"value\": 6016.0}, {\"rok\": \"1982-01-01T00:00:00\", \"variable\": \"v\\u0161echny publikace\", \"value\": 6131.0}, {\"rok\": \"1983-01-01T00:00:00\", \"variable\": \"v\\u0161echny publikace\", \"value\": 6191.0}, {\"rok\": \"1984-01-01T00:00:00\", \"variable\": \"v\\u0161echny publikace\", \"value\": 6344.0}, {\"rok\": \"1985-01-01T00:00:00\", \"variable\": \"v\\u0161echny publikace\", \"value\": 6421.0}, {\"rok\": \"1986-01-01T00:00:00\", \"variable\": \"v\\u0161echny publikace\", \"value\": 6603.0}, {\"rok\": \"1987-01-01T00:00:00\", \"variable\": \"v\\u0161echny publikace\", \"value\": 6897.0}, {\"rok\": \"1988-01-01T00:00:00\", \"variable\": \"v\\u0161echny publikace\", \"value\": 6804.0}, {\"rok\": \"1989-01-01T00:00:00\", \"variable\": \"v\\u0161echny publikace\", \"value\": 7064.0}, {\"rok\": \"1990-01-01T00:00:00\", \"variable\": \"v\\u0161echny publikace\", \"value\": 6925.0}, {\"rok\": \"1991-01-01T00:00:00\", \"variable\": \"v\\u0161echny publikace\", \"value\": 7202.0}, {\"rok\": \"1992-01-01T00:00:00\", \"variable\": \"v\\u0161echny publikace\", \"value\": 8637.0}, {\"rok\": \"1993-01-01T00:00:00\", \"variable\": \"v\\u0161echny publikace\", \"value\": 8490.0}, {\"rok\": \"1994-01-01T00:00:00\", \"variable\": \"v\\u0161echny publikace\", \"value\": 8941.0}, {\"rok\": \"1995-01-01T00:00:00\", \"variable\": \"v\\u0161echny publikace\", \"value\": 9789.0}, {\"rok\": \"1996-01-01T00:00:00\", \"variable\": \"v\\u0161echny publikace\", \"value\": 10456.0}, {\"rok\": \"1997-01-01T00:00:00\", \"variable\": \"v\\u0161echny publikace\", \"value\": 10946.0}, {\"rok\": \"1998-01-01T00:00:00\", \"variable\": \"v\\u0161echny publikace\", \"value\": 11230.0}, {\"rok\": \"1999-01-01T00:00:00\", \"variable\": \"v\\u0161echny publikace\", \"value\": 11644.0}, {\"rok\": \"2000-01-01T00:00:00\", \"variable\": \"v\\u0161echny publikace\", \"value\": 12520.0}, {\"rok\": \"2001-01-01T00:00:00\", \"variable\": \"v\\u0161echny publikace\", \"value\": 12549.0}, {\"rok\": \"2002-01-01T00:00:00\", \"variable\": \"v\\u0161echny publikace\", \"value\": 12721.0}, {\"rok\": \"2003-01-01T00:00:00\", \"variable\": \"v\\u0161echny publikace\", \"value\": 13814.0}, {\"rok\": \"2004-01-01T00:00:00\", \"variable\": \"v\\u0161echny publikace\", \"value\": 13774.0}, {\"rok\": \"2005-01-01T00:00:00\", \"variable\": \"v\\u0161echny publikace\", \"value\": 14177.0}, {\"rok\": \"2006-01-01T00:00:00\", \"variable\": \"v\\u0161echny publikace\", \"value\": 15155.0}, {\"rok\": \"2007-01-01T00:00:00\", \"variable\": \"v\\u0161echny publikace\", \"value\": 16016.0}, {\"rok\": \"2008-01-01T00:00:00\", \"variable\": \"v\\u0161echny publikace\", \"value\": 16727.0}, {\"rok\": \"2009-01-01T00:00:00\", \"variable\": \"v\\u0161echny publikace\", \"value\": 15552.0}, {\"rok\": \"2010-01-01T00:00:00\", \"variable\": \"v\\u0161echny publikace\", \"value\": 15912.0}, {\"rok\": \"2011-01-01T00:00:00\", \"variable\": \"v\\u0161echny publikace\", \"value\": 15394.0}, {\"rok\": \"2012-01-01T00:00:00\", \"variable\": \"v\\u0161echny publikace\", \"value\": 15537.0}, {\"rok\": \"2013-01-01T00:00:00\", \"variable\": \"v\\u0161echny publikace\", \"value\": 15230.0}, {\"rok\": \"2014-01-01T00:00:00\", \"variable\": \"v\\u0161echny publikace\", \"value\": 15246.0}, {\"rok\": \"2015-01-01T00:00:00\", \"variable\": \"v\\u0161echny publikace\", \"value\": 14750.0}, {\"rok\": \"2016-01-01T00:00:00\", \"variable\": \"v\\u0161echny publikace\", \"value\": 13999.0}, {\"rok\": \"2017-01-01T00:00:00\", \"variable\": \"v\\u0161echny publikace\", \"value\": 13783.0}, {\"rok\": \"2018-01-01T00:00:00\", \"variable\": \"v\\u0161echny publikace\", \"value\": 14163.0}, {\"rok\": \"2019-01-01T00:00:00\", \"variable\": \"v\\u0161echny publikace\", \"value\": 13728.0}, {\"rok\": \"2020-01-01T00:00:00\", \"variable\": \"v\\u0161echny publikace\", \"value\": 12479.0}, {\"rok\": \"2021-01-01T00:00:00\", \"variable\": \"v\\u0161echny publikace\", \"value\": 12939.0}, {\"rok\": \"2022-01-01T00:00:00\", \"variable\": \"v\\u0161echny publikace\", \"value\": 13276.0}, {\"rok\": \"2023-01-01T00:00:00\", \"variable\": \"v\\u0161echny publikace\", \"value\": 11762.0}], \"data-090e34dddacba219eb4b6f78527346c4\": [{\"rok\": \"1900-01-01T00:00:00\", \"variable\": \"novinky nad 50 stran\", \"value\": 793.0}, {\"rok\": \"1901-01-01T00:00:00\", \"variable\": \"novinky nad 50 stran\", \"value\": 966.0}, {\"rok\": \"1902-01-01T00:00:00\", \"variable\": \"novinky nad 50 stran\", \"value\": 1114.0}, {\"rok\": \"1903-01-01T00:00:00\", \"variable\": \"novinky nad 50 stran\", \"value\": 1030.0}, {\"rok\": \"1904-01-01T00:00:00\", \"variable\": \"novinky nad 50 stran\", \"value\": 984.0}, {\"rok\": \"1905-01-01T00:00:00\", \"variable\": \"novinky nad 50 stran\", \"value\": 964.0}, {\"rok\": \"1906-01-01T00:00:00\", \"variable\": \"novinky nad 50 stran\", \"value\": 968.0}, {\"rok\": \"1907-01-01T00:00:00\", \"variable\": \"novinky nad 50 stran\", \"value\": 974.0}, {\"rok\": \"1908-01-01T00:00:00\", \"variable\": \"novinky nad 50 stran\", \"value\": 1170.0}, {\"rok\": \"1909-01-01T00:00:00\", \"variable\": \"novinky nad 50 stran\", \"value\": 1112.0}, {\"rok\": \"1910-01-01T00:00:00\", \"variable\": \"novinky nad 50 stran\", \"value\": 1347.0}, {\"rok\": \"1911-01-01T00:00:00\", \"variable\": \"novinky nad 50 stran\", \"value\": 1302.0}, {\"rok\": \"1912-01-01T00:00:00\", \"variable\": \"novinky nad 50 stran\", \"value\": 1320.0}, {\"rok\": \"1913-01-01T00:00:00\", \"variable\": \"novinky nad 50 stran\", \"value\": 1370.0}, {\"rok\": \"1914-01-01T00:00:00\", \"variable\": \"novinky nad 50 stran\", \"value\": 948.0}, {\"rok\": \"1915-01-01T00:00:00\", \"variable\": \"novinky nad 50 stran\", \"value\": 666.0}, {\"rok\": \"1916-01-01T00:00:00\", \"variable\": \"novinky nad 50 stran\", \"value\": 665.0}, {\"rok\": \"1917-01-01T00:00:00\", \"variable\": \"novinky nad 50 stran\", \"value\": 699.0}, {\"rok\": \"1918-01-01T00:00:00\", \"variable\": \"novinky nad 50 stran\", \"value\": 848.0}, {\"rok\": \"1919-01-01T00:00:00\", \"variable\": \"novinky nad 50 stran\", \"value\": 1335.0}, {\"rok\": \"1920-01-01T00:00:00\", \"variable\": \"novinky nad 50 stran\", \"value\": 1795.0}, {\"rok\": \"1921-01-01T00:00:00\", \"variable\": \"novinky nad 50 stran\", \"value\": 1569.0}, {\"rok\": \"1922-01-01T00:00:00\", \"variable\": \"novinky nad 50 stran\", \"value\": 1769.0}, {\"rok\": \"1923-01-01T00:00:00\", \"variable\": \"novinky nad 50 stran\", \"value\": 1837.0}, {\"rok\": \"1924-01-01T00:00:00\", \"variable\": \"novinky nad 50 stran\", \"value\": 2107.0}, {\"rok\": \"1925-01-01T00:00:00\", \"variable\": \"novinky nad 50 stran\", \"value\": 2471.0}, {\"rok\": \"1926-01-01T00:00:00\", \"variable\": \"novinky nad 50 stran\", \"value\": 2348.0}, {\"rok\": \"1927-01-01T00:00:00\", \"variable\": \"novinky nad 50 stran\", \"value\": 2347.0}, {\"rok\": \"1928-01-01T00:00:00\", \"variable\": \"novinky nad 50 stran\", \"value\": 2452.0}, {\"rok\": \"1929-01-01T00:00:00\", \"variable\": \"novinky nad 50 stran\", \"value\": 2348.0}, {\"rok\": \"1930-01-01T00:00:00\", \"variable\": \"novinky nad 50 stran\", \"value\": 2638.0}, {\"rok\": \"1931-01-01T00:00:00\", \"variable\": \"novinky nad 50 stran\", \"value\": 2367.0}, {\"rok\": \"1932-01-01T00:00:00\", \"variable\": \"novinky nad 50 stran\", \"value\": 2131.0}, {\"rok\": \"1933-01-01T00:00:00\", \"variable\": \"novinky nad 50 stran\", \"value\": 2086.0}, {\"rok\": \"1934-01-01T00:00:00\", \"variable\": \"novinky nad 50 stran\", \"value\": 2125.0}, {\"rok\": \"1935-01-01T00:00:00\", \"variable\": \"novinky nad 50 stran\", \"value\": 2308.0}, {\"rok\": \"1936-01-01T00:00:00\", \"variable\": \"novinky nad 50 stran\", \"value\": 2671.0}, {\"rok\": \"1937-01-01T00:00:00\", \"variable\": \"novinky nad 50 stran\", \"value\": 2667.0}, {\"rok\": \"1938-01-01T00:00:00\", \"variable\": \"novinky nad 50 stran\", \"value\": 2314.0}, {\"rok\": \"1939-01-01T00:00:00\", \"variable\": \"novinky nad 50 stran\", \"value\": 1776.0}, {\"rok\": \"1940-01-01T00:00:00\", \"variable\": \"novinky nad 50 stran\", \"value\": 2195.0}, {\"rok\": \"1941-01-01T00:00:00\", \"variable\": \"novinky nad 50 stran\", \"value\": 2089.0}, {\"rok\": \"1942-01-01T00:00:00\", \"variable\": \"novinky nad 50 stran\", \"value\": 1104.0}, {\"rok\": \"1943-01-01T00:00:00\", \"variable\": \"novinky nad 50 stran\", \"value\": 916.0}, {\"rok\": \"1944-01-01T00:00:00\", \"variable\": \"novinky nad 50 stran\", \"value\": 1069.0}, {\"rok\": \"1945-01-01T00:00:00\", \"variable\": \"novinky nad 50 stran\", \"value\": 1052.0}, {\"rok\": \"1946-01-01T00:00:00\", \"variable\": \"novinky nad 50 stran\", \"value\": 2690.0}, {\"rok\": \"1947-01-01T00:00:00\", \"variable\": \"novinky nad 50 stran\", \"value\": 3034.0}, {\"rok\": \"1948-01-01T00:00:00\", \"variable\": \"novinky nad 50 stran\", \"value\": 2633.0}, {\"rok\": \"1949-01-01T00:00:00\", \"variable\": \"novinky nad 50 stran\", \"value\": 1558.0}, {\"rok\": \"1950-01-01T00:00:00\", \"variable\": \"novinky nad 50 stran\", \"value\": 1846.0}, {\"rok\": \"1951-01-01T00:00:00\", \"variable\": \"novinky nad 50 stran\", \"value\": 2407.0}, {\"rok\": \"1952-01-01T00:00:00\", \"variable\": \"novinky nad 50 stran\", \"value\": 2305.0}, {\"rok\": \"1953-01-01T00:00:00\", \"variable\": \"novinky nad 50 stran\", \"value\": 2785.0}, {\"rok\": \"1954-01-01T00:00:00\", \"variable\": \"novinky nad 50 stran\", \"value\": 3059.0}, {\"rok\": \"1955-01-01T00:00:00\", \"variable\": \"novinky nad 50 stran\", \"value\": 2764.0}, {\"rok\": \"1956-01-01T00:00:00\", \"variable\": \"novinky nad 50 stran\", \"value\": 2795.0}, {\"rok\": \"1957-01-01T00:00:00\", \"variable\": \"novinky nad 50 stran\", \"value\": 2805.0}, {\"rok\": \"1958-01-01T00:00:00\", \"variable\": \"novinky nad 50 stran\", \"value\": 3105.0}, {\"rok\": \"1959-01-01T00:00:00\", \"variable\": \"novinky nad 50 stran\", \"value\": 3241.0}, {\"rok\": \"1960-01-01T00:00:00\", \"variable\": \"novinky nad 50 stran\", \"value\": 3163.0}, {\"rok\": \"1961-01-01T00:00:00\", \"variable\": \"novinky nad 50 stran\", \"value\": 3302.0}, {\"rok\": \"1962-01-01T00:00:00\", \"variable\": \"novinky nad 50 stran\", \"value\": 3201.0}, {\"rok\": \"1963-01-01T00:00:00\", \"variable\": \"novinky nad 50 stran\", \"value\": 3400.0}, {\"rok\": \"1964-01-01T00:00:00\", \"variable\": \"novinky nad 50 stran\", \"value\": 3344.0}, {\"rok\": \"1965-01-01T00:00:00\", \"variable\": \"novinky nad 50 stran\", \"value\": 3163.0}, {\"rok\": \"1966-01-01T00:00:00\", \"variable\": \"novinky nad 50 stran\", \"value\": 3249.0}, {\"rok\": \"1967-01-01T00:00:00\", \"variable\": \"novinky nad 50 stran\", \"value\": 3070.0}, {\"rok\": \"1968-01-01T00:00:00\", \"variable\": \"novinky nad 50 stran\", \"value\": 3064.0}, {\"rok\": \"1969-01-01T00:00:00\", \"variable\": \"novinky nad 50 stran\", \"value\": 2896.0}, {\"rok\": \"1970-01-01T00:00:00\", \"variable\": \"novinky nad 50 stran\", \"value\": 3058.0}, {\"rok\": \"1971-01-01T00:00:00\", \"variable\": \"novinky nad 50 stran\", \"value\": 3179.0}, {\"rok\": \"1972-01-01T00:00:00\", \"variable\": \"novinky nad 50 stran\", \"value\": 3195.0}, {\"rok\": \"1973-01-01T00:00:00\", \"variable\": \"novinky nad 50 stran\", \"value\": 3340.0}, {\"rok\": \"1974-01-01T00:00:00\", \"variable\": \"novinky nad 50 stran\", \"value\": 3452.0}, {\"rok\": \"1975-01-01T00:00:00\", \"variable\": \"novinky nad 50 stran\", \"value\": 3483.0}, {\"rok\": \"1976-01-01T00:00:00\", \"variable\": \"novinky nad 50 stran\", \"value\": 3494.0}, {\"rok\": \"1977-01-01T00:00:00\", \"variable\": \"novinky nad 50 stran\", \"value\": 3416.0}, {\"rok\": \"1978-01-01T00:00:00\", \"variable\": \"novinky nad 50 stran\", \"value\": 3545.0}, {\"rok\": \"1979-01-01T00:00:00\", \"variable\": \"novinky nad 50 stran\", \"value\": 3817.0}, {\"rok\": \"1980-01-01T00:00:00\", \"variable\": \"novinky nad 50 stran\", \"value\": 3961.0}, {\"rok\": \"1981-01-01T00:00:00\", \"variable\": \"novinky nad 50 stran\", \"value\": 3888.0}, {\"rok\": \"1982-01-01T00:00:00\", \"variable\": \"novinky nad 50 stran\", \"value\": 4155.0}, {\"rok\": \"1983-01-01T00:00:00\", \"variable\": \"novinky nad 50 stran\", \"value\": 4157.0}, {\"rok\": \"1984-01-01T00:00:00\", \"variable\": \"novinky nad 50 stran\", \"value\": 4247.0}, {\"rok\": \"1985-01-01T00:00:00\", \"variable\": \"novinky nad 50 stran\", \"value\": 4149.0}, {\"rok\": \"1986-01-01T00:00:00\", \"variable\": \"novinky nad 50 stran\", \"value\": 4329.0}, {\"rok\": \"1987-01-01T00:00:00\", \"variable\": \"novinky nad 50 stran\", \"value\": 4458.0}, {\"rok\": \"1988-01-01T00:00:00\", \"variable\": \"novinky nad 50 stran\", \"value\": 4372.0}, {\"rok\": \"1989-01-01T00:00:00\", \"variable\": \"novinky nad 50 stran\", \"value\": 4543.0}, {\"rok\": \"1990-01-01T00:00:00\", \"variable\": \"novinky nad 50 stran\", \"value\": 4308.0}, {\"rok\": \"1991-01-01T00:00:00\", \"variable\": \"novinky nad 50 stran\", \"value\": 4313.0}, {\"rok\": \"1992-01-01T00:00:00\", \"variable\": \"novinky nad 50 stran\", \"value\": 5863.0}, {\"rok\": \"1993-01-01T00:00:00\", \"variable\": \"novinky nad 50 stran\", \"value\": 6056.0}, {\"rok\": \"1994-01-01T00:00:00\", \"variable\": \"novinky nad 50 stran\", \"value\": 6538.0}, {\"rok\": \"1995-01-01T00:00:00\", \"variable\": \"novinky nad 50 stran\", \"value\": 7183.0}, {\"rok\": \"1996-01-01T00:00:00\", \"variable\": \"novinky nad 50 stran\", \"value\": 7609.0}, {\"rok\": \"1997-01-01T00:00:00\", \"variable\": \"novinky nad 50 stran\", \"value\": 7970.0}, {\"rok\": \"1998-01-01T00:00:00\", \"variable\": \"novinky nad 50 stran\", \"value\": 7910.0}, {\"rok\": \"1999-01-01T00:00:00\", \"variable\": \"novinky nad 50 stran\", \"value\": 7937.0}, {\"rok\": \"2000-01-01T00:00:00\", \"variable\": \"novinky nad 50 stran\", \"value\": 8455.0}, {\"rok\": \"2001-01-01T00:00:00\", \"variable\": \"novinky nad 50 stran\", \"value\": 8550.0}, {\"rok\": \"2002-01-01T00:00:00\", \"variable\": \"novinky nad 50 stran\", \"value\": 8568.0}, {\"rok\": \"2003-01-01T00:00:00\", \"variable\": \"novinky nad 50 stran\", \"value\": 9050.0}, {\"rok\": \"2004-01-01T00:00:00\", \"variable\": \"novinky nad 50 stran\", \"value\": 9601.0}, {\"rok\": \"2005-01-01T00:00:00\", \"variable\": \"novinky nad 50 stran\", \"value\": 9884.0}, {\"rok\": \"2006-01-01T00:00:00\", \"variable\": \"novinky nad 50 stran\", \"value\": 10384.0}, {\"rok\": \"2007-01-01T00:00:00\", \"variable\": \"novinky nad 50 stran\", \"value\": 10629.0}, {\"rok\": \"2008-01-01T00:00:00\", \"variable\": \"novinky nad 50 stran\", \"value\": 10854.0}, {\"rok\": \"2009-01-01T00:00:00\", \"variable\": \"novinky nad 50 stran\", \"value\": 10303.0}, {\"rok\": \"2010-01-01T00:00:00\", \"variable\": \"novinky nad 50 stran\", \"value\": 10529.0}, {\"rok\": \"2011-01-01T00:00:00\", \"variable\": \"novinky nad 50 stran\", \"value\": 10537.0}, {\"rok\": \"2012-01-01T00:00:00\", \"variable\": \"novinky nad 50 stran\", \"value\": 10121.0}, {\"rok\": \"2013-01-01T00:00:00\", \"variable\": \"novinky nad 50 stran\", \"value\": 10275.0}, {\"rok\": \"2014-01-01T00:00:00\", \"variable\": \"novinky nad 50 stran\", \"value\": 10327.0}, {\"rok\": \"2015-01-01T00:00:00\", \"variable\": \"novinky nad 50 stran\", \"value\": 10140.0}, {\"rok\": \"2016-01-01T00:00:00\", \"variable\": \"novinky nad 50 stran\", \"value\": 9481.0}, {\"rok\": \"2017-01-01T00:00:00\", \"variable\": \"novinky nad 50 stran\", \"value\": 9506.0}, {\"rok\": \"2018-01-01T00:00:00\", \"variable\": \"novinky nad 50 stran\", \"value\": 9804.0}, {\"rok\": \"2019-01-01T00:00:00\", \"variable\": \"novinky nad 50 stran\", \"value\": 9356.0}, {\"rok\": \"2020-01-01T00:00:00\", \"variable\": \"novinky nad 50 stran\", \"value\": 8692.0}, {\"rok\": \"2021-01-01T00:00:00\", \"variable\": \"novinky nad 50 stran\", \"value\": 8636.0}, {\"rok\": \"2022-01-01T00:00:00\", \"variable\": \"novinky nad 50 stran\", \"value\": 8529.0}, {\"rok\": \"2023-01-01T00:00:00\", \"variable\": \"novinky nad 50 stran\", \"value\": 7800.0}], \"data-7d440f797cbe94b11764d9146443cbb3\": [{\"rok\": \"1900-01-01T00:00:00\", \"variable\": \"pod\\u00edl p\\u0159eklad\\u016f\", \"value\": 0.2265625}, {\"rok\": \"1901-01-01T00:00:00\", \"variable\": \"pod\\u00edl p\\u0159eklad\\u016f\", \"value\": 0.2802056555269923}, {\"rok\": \"1902-01-01T00:00:00\", \"variable\": \"pod\\u00edl p\\u0159eklad\\u016f\", \"value\": 0.2651428571428571}, {\"rok\": \"1903-01-01T00:00:00\", \"variable\": \"pod\\u00edl p\\u0159eklad\\u016f\", \"value\": 0.26011560693641617}, {\"rok\": \"1904-01-01T00:00:00\", \"variable\": \"pod\\u00edl p\\u0159eklad\\u016f\", \"value\": 0.26535626535626533}, {\"rok\": \"1905-01-01T00:00:00\", \"variable\": \"pod\\u00edl p\\u0159eklad\\u016f\", \"value\": 0.29020100502512564}, {\"rok\": \"1906-01-01T00:00:00\", \"variable\": \"pod\\u00edl p\\u0159eklad\\u016f\", \"value\": 0.25908558030480655}, {\"rok\": \"1907-01-01T00:00:00\", \"variable\": \"pod\\u00edl p\\u0159eklad\\u016f\", \"value\": 0.2584541062801932}, {\"rok\": \"1908-01-01T00:00:00\", \"variable\": \"pod\\u00edl p\\u0159eklad\\u016f\", \"value\": 0.2708113804004215}, {\"rok\": \"1909-01-01T00:00:00\", \"variable\": \"pod\\u00edl p\\u0159eklad\\u016f\", \"value\": 0.2861602497398543}, {\"rok\": \"1910-01-01T00:00:00\", \"variable\": \"pod\\u00edl p\\u0159eklad\\u016f\", \"value\": 0.3280373831775701}, {\"rok\": \"1911-01-01T00:00:00\", \"variable\": \"pod\\u00edl p\\u0159eklad\\u016f\", \"value\": 0.3311985361390668}, {\"rok\": \"1912-01-01T00:00:00\", \"variable\": \"pod\\u00edl p\\u0159eklad\\u016f\", \"value\": 0.2781168265039233}, {\"rok\": \"1913-01-01T00:00:00\", \"variable\": \"pod\\u00edl p\\u0159eklad\\u016f\", \"value\": 0.26840215439856374}, {\"rok\": \"1914-01-01T00:00:00\", \"variable\": \"pod\\u00edl p\\u0159eklad\\u016f\", \"value\": 0.2718006795016987}, {\"rok\": \"1915-01-01T00:00:00\", \"variable\": \"pod\\u00edl p\\u0159eklad\\u016f\", \"value\": 0.23736600306278713}, {\"rok\": \"1916-01-01T00:00:00\", \"variable\": \"pod\\u00edl p\\u0159eklad\\u016f\", \"value\": 0.2577777777777778}, {\"rok\": \"1917-01-01T00:00:00\", \"variable\": \"pod\\u00edl p\\u0159eklad\\u016f\", \"value\": 0.24331926863572434}, {\"rok\": \"1918-01-01T00:00:00\", \"variable\": \"pod\\u00edl p\\u0159eklad\\u016f\", \"value\": 0.25842696629213485}, {\"rok\": \"1919-01-01T00:00:00\", \"variable\": \"pod\\u00edl p\\u0159eklad\\u016f\", \"value\": 0.30008244023083264}, {\"rok\": \"1920-01-01T00:00:00\", \"variable\": \"pod\\u00edl p\\u0159eklad\\u016f\", \"value\": 0.27781479013990673}, {\"rok\": \"1921-01-01T00:00:00\", \"variable\": \"pod\\u00edl p\\u0159eklad\\u016f\", \"value\": 0.26417611741160774}, {\"rok\": \"1922-01-01T00:00:00\", \"variable\": \"pod\\u00edl p\\u0159eklad\\u016f\", \"value\": 0.25564880568108456}, {\"rok\": \"1923-01-01T00:00:00\", \"variable\": \"pod\\u00edl p\\u0159eklad\\u016f\", \"value\": 0.26346153846153847}, {\"rok\": \"1924-01-01T00:00:00\", \"variable\": \"pod\\u00edl p\\u0159eklad\\u016f\", \"value\": 0.2681660899653979}, {\"rok\": \"1925-01-01T00:00:00\", \"variable\": \"pod\\u00edl p\\u0159eklad\\u016f\", \"value\": 0.33024214322514167}, {\"rok\": \"1926-01-01T00:00:00\", \"variable\": \"pod\\u00edl p\\u0159eklad\\u016f\", \"value\": 0.35748502994011977}, {\"rok\": \"1927-01-01T00:00:00\", \"variable\": \"pod\\u00edl p\\u0159eklad\\u016f\", \"value\": 0.3460166468489893}, {\"rok\": \"1928-01-01T00:00:00\", \"variable\": \"pod\\u00edl p\\u0159eklad\\u016f\", \"value\": 0.31382978723404253}, {\"rok\": \"1929-01-01T00:00:00\", \"variable\": \"pod\\u00edl p\\u0159eklad\\u016f\", \"value\": 0.35263500325309044}, {\"rok\": \"1930-01-01T00:00:00\", \"variable\": \"pod\\u00edl p\\u0159eklad\\u016f\", \"value\": 0.3223915592028136}, {\"rok\": \"1931-01-01T00:00:00\", \"variable\": \"pod\\u00edl p\\u0159eklad\\u016f\", \"value\": 0.34965034965034963}, {\"rok\": \"1932-01-01T00:00:00\", \"variable\": \"pod\\u00edl p\\u0159eklad\\u016f\", \"value\": 0.2807807807807808}, {\"rok\": \"1933-01-01T00:00:00\", \"variable\": \"pod\\u00edl p\\u0159eklad\\u016f\", \"value\": 0.2846832397754611}, {\"rok\": \"1934-01-01T00:00:00\", \"variable\": \"pod\\u00edl p\\u0159eklad\\u016f\", \"value\": 0.26468222043443285}, {\"rok\": \"1935-01-01T00:00:00\", \"variable\": \"pod\\u00edl p\\u0159eklad\\u016f\", \"value\": 0.26855713094245204}, {\"rok\": \"1936-01-01T00:00:00\", \"variable\": \"pod\\u00edl p\\u0159eklad\\u016f\", \"value\": 0.3177710843373494}, {\"rok\": \"1937-01-01T00:00:00\", \"variable\": \"pod\\u00edl p\\u0159eklad\\u016f\", \"value\": 0.31138211382113823}, {\"rok\": \"1938-01-01T00:00:00\", \"variable\": \"pod\\u00edl p\\u0159eklad\\u016f\", \"value\": 0.25144747725392885}, {\"rok\": \"1939-01-01T00:00:00\", \"variable\": \"pod\\u00edl p\\u0159eklad\\u016f\", \"value\": 0.24878048780487805}, {\"rok\": \"1940-01-01T00:00:00\", \"variable\": \"pod\\u00edl p\\u0159eklad\\u016f\", \"value\": 0.22454484153742413}, {\"rok\": \"1941-01-01T00:00:00\", \"variable\": \"pod\\u00edl p\\u0159eklad\\u016f\", \"value\": 0.2905405405405405}, {\"rok\": \"1942-01-01T00:00:00\", \"variable\": \"pod\\u00edl p\\u0159eklad\\u016f\", \"value\": 0.36187399030694667}, {\"rok\": \"1943-01-01T00:00:00\", \"variable\": \"pod\\u00edl p\\u0159eklad\\u016f\", \"value\": 0.31542056074766356}, {\"rok\": \"1944-01-01T00:00:00\", \"variable\": \"pod\\u00edl p\\u0159eklad\\u016f\", \"value\": 0.24829931972789115}, {\"rok\": \"1945-01-01T00:00:00\", \"variable\": \"pod\\u00edl p\\u0159eklad\\u016f\", \"value\": 0.21170610211706103}, {\"rok\": \"1946-01-01T00:00:00\", \"variable\": \"pod\\u00edl p\\u0159eklad\\u016f\", \"value\": 0.2505307855626327}, {\"rok\": \"1947-01-01T00:00:00\", \"variable\": \"pod\\u00edl p\\u0159eklad\\u016f\", \"value\": 0.2927653820148749}, {\"rok\": \"1948-01-01T00:00:00\", \"variable\": \"pod\\u00edl p\\u0159eklad\\u016f\", \"value\": 0.34016973125884015}, {\"rok\": \"1949-01-01T00:00:00\", \"variable\": \"pod\\u00edl p\\u0159eklad\\u016f\", \"value\": 0.41612200435729846}, {\"rok\": \"1950-01-01T00:00:00\", \"variable\": \"pod\\u00edl p\\u0159eklad\\u016f\", \"value\": 0.5141414141414141}, {\"rok\": \"1951-01-01T00:00:00\", \"variable\": \"pod\\u00edl p\\u0159eklad\\u016f\", \"value\": 0.5391104294478528}, {\"rok\": \"1952-01-01T00:00:00\", \"variable\": \"pod\\u00edl p\\u0159eklad\\u016f\", \"value\": 0.5340030911901081}, {\"rok\": \"1953-01-01T00:00:00\", \"variable\": \"pod\\u00edl p\\u0159eklad\\u016f\", \"value\": 0.4447334200260078}, {\"rok\": \"1954-01-01T00:00:00\", \"variable\": \"pod\\u00edl p\\u0159eklad\\u016f\", \"value\": 0.3821618428824572}, {\"rok\": \"1955-01-01T00:00:00\", \"variable\": \"pod\\u00edl p\\u0159eklad\\u016f\", \"value\": 0.3191616766467066}, {\"rok\": \"1956-01-01T00:00:00\", \"variable\": \"pod\\u00edl p\\u0159eklad\\u016f\", \"value\": 0.30523560209424083}, {\"rok\": \"1957-01-01T00:00:00\", \"variable\": \"pod\\u00edl p\\u0159eklad\\u016f\", \"value\": 0.2792311799252536}, {\"rok\": \"1958-01-01T00:00:00\", \"variable\": \"pod\\u00edl p\\u0159eklad\\u016f\", \"value\": 0.30245535714285715}, {\"rok\": \"1959-01-01T00:00:00\", \"variable\": \"pod\\u00edl p\\u0159eklad\\u016f\", \"value\": 0.32318104906937395}, {\"rok\": \"1960-01-01T00:00:00\", \"variable\": \"pod\\u00edl p\\u0159eklad\\u016f\", \"value\": 0.2864610559330894}, {\"rok\": \"1961-01-01T00:00:00\", \"variable\": \"pod\\u00edl p\\u0159eklad\\u016f\", \"value\": 0.2894590072504183}, {\"rok\": \"1962-01-01T00:00:00\", \"variable\": \"pod\\u00edl p\\u0159eklad\\u016f\", \"value\": 0.2830820770519263}, {\"rok\": \"1963-01-01T00:00:00\", \"variable\": \"pod\\u00edl p\\u0159eklad\\u016f\", \"value\": 0.28478002378121287}, {\"rok\": \"1964-01-01T00:00:00\", \"variable\": \"pod\\u00edl p\\u0159eklad\\u016f\", \"value\": 0.291101944608132}, {\"rok\": \"1965-01-01T00:00:00\", \"variable\": \"pod\\u00edl p\\u0159eklad\\u016f\", \"value\": 0.30642309958750735}, {\"rok\": \"1966-01-01T00:00:00\", \"variable\": \"pod\\u00edl p\\u0159eklad\\u016f\", \"value\": 0.2797814207650273}, {\"rok\": \"1967-01-01T00:00:00\", \"variable\": \"pod\\u00edl p\\u0159eklad\\u016f\", \"value\": 0.28004410143329656}, {\"rok\": \"1968-01-01T00:00:00\", \"variable\": \"pod\\u00edl p\\u0159eklad\\u016f\", \"value\": 0.2517694641051567}, {\"rok\": \"1969-01-01T00:00:00\", \"variable\": \"pod\\u00edl p\\u0159eklad\\u016f\", \"value\": 0.2522982635342186}, {\"rok\": \"1970-01-01T00:00:00\", \"variable\": \"pod\\u00edl p\\u0159eklad\\u016f\", \"value\": 0.25951219512195123}, {\"rok\": \"1971-01-01T00:00:00\", \"variable\": \"pod\\u00edl p\\u0159eklad\\u016f\", \"value\": 0.25303643724696356}, {\"rok\": \"1972-01-01T00:00:00\", \"variable\": \"pod\\u00edl p\\u0159eklad\\u016f\", \"value\": 0.2712041884816754}, {\"rok\": \"1973-01-01T00:00:00\", \"variable\": \"pod\\u00edl p\\u0159eklad\\u016f\", \"value\": 0.25848303393213573}, {\"rok\": \"1974-01-01T00:00:00\", \"variable\": \"pod\\u00edl p\\u0159eklad\\u016f\", \"value\": 0.2726387536514119}, {\"rok\": \"1975-01-01T00:00:00\", \"variable\": \"pod\\u00edl p\\u0159eklad\\u016f\", \"value\": 0.27627772420443586}, {\"rok\": \"1976-01-01T00:00:00\", \"variable\": \"pod\\u00edl p\\u0159eklad\\u016f\", \"value\": 0.2772727272727273}, {\"rok\": \"1977-01-01T00:00:00\", \"variable\": \"pod\\u00edl p\\u0159eklad\\u016f\", \"value\": 0.2523364485981308}, {\"rok\": \"1978-01-01T00:00:00\", \"variable\": \"pod\\u00edl p\\u0159eklad\\u016f\", \"value\": 0.22442813983599483}, {\"rok\": \"1979-01-01T00:00:00\", \"variable\": \"pod\\u00edl p\\u0159eklad\\u016f\", \"value\": 0.19433198380566802}, {\"rok\": \"1980-01-01T00:00:00\", \"variable\": \"pod\\u00edl p\\u0159eklad\\u016f\", \"value\": 0.18104667609618105}, {\"rok\": \"1981-01-01T00:00:00\", \"variable\": \"pod\\u00edl p\\u0159eklad\\u016f\", \"value\": 0.1723009814612868}, {\"rok\": \"1982-01-01T00:00:00\", \"variable\": \"pod\\u00edl p\\u0159eklad\\u016f\", \"value\": 0.17229496898690558}, {\"rok\": \"1983-01-01T00:00:00\", \"variable\": \"pod\\u00edl p\\u0159eklad\\u016f\", \"value\": 0.16163097682604868}, {\"rok\": \"1984-01-01T00:00:00\", \"variable\": \"pod\\u00edl p\\u0159eklad\\u016f\", \"value\": 0.1545532892846883}, {\"rok\": \"1985-01-01T00:00:00\", \"variable\": \"pod\\u00edl p\\u0159eklad\\u016f\", \"value\": 0.14723236864287723}, {\"rok\": \"1986-01-01T00:00:00\", \"variable\": \"pod\\u00edl p\\u0159eklad\\u016f\", \"value\": 0.15691634773100055}, {\"rok\": \"1987-01-01T00:00:00\", \"variable\": \"pod\\u00edl p\\u0159eklad\\u016f\", \"value\": 0.1459911203969705}, {\"rok\": \"1988-01-01T00:00:00\", \"variable\": \"pod\\u00edl p\\u0159eklad\\u016f\", \"value\": 0.14988623435722412}, {\"rok\": \"1989-01-01T00:00:00\", \"variable\": \"pod\\u00edl p\\u0159eklad\\u016f\", \"value\": 0.13825232938806345}, {\"rok\": \"1990-01-01T00:00:00\", \"variable\": \"pod\\u00edl p\\u0159eklad\\u016f\", \"value\": 0.14662231320368474}, {\"rok\": \"1991-01-01T00:00:00\", \"variable\": \"pod\\u00edl p\\u0159eklad\\u016f\", \"value\": 0.1986910994764398}, {\"rok\": \"1992-01-01T00:00:00\", \"variable\": \"pod\\u00edl p\\u0159eklad\\u016f\", \"value\": 0.2702114427860697}, {\"rok\": \"1993-01-01T00:00:00\", \"variable\": \"pod\\u00edl p\\u0159eklad\\u016f\", \"value\": 0.34371055952881785}, {\"rok\": \"1994-01-01T00:00:00\", \"variable\": \"pod\\u00edl p\\u0159eklad\\u016f\", \"value\": 0.3603385731559855}, {\"rok\": \"1995-01-01T00:00:00\", \"variable\": \"pod\\u00edl p\\u0159eklad\\u016f\", \"value\": 0.3600929733595566}, {\"rok\": \"1996-01-01T00:00:00\", \"variable\": \"pod\\u00edl p\\u0159eklad\\u016f\", \"value\": 0.3824852890273451}, {\"rok\": \"1997-01-01T00:00:00\", \"variable\": \"pod\\u00edl p\\u0159eklad\\u016f\", \"value\": 0.37710381603066156}, {\"rok\": \"1998-01-01T00:00:00\", \"variable\": \"pod\\u00edl p\\u0159eklad\\u016f\", \"value\": 0.3478544623919073}, {\"rok\": \"1999-01-01T00:00:00\", \"variable\": \"pod\\u00edl p\\u0159eklad\\u016f\", \"value\": 0.3492339282893698}, {\"rok\": \"2000-01-01T00:00:00\", \"variable\": \"pod\\u00edl p\\u0159eklad\\u016f\", \"value\": 0.34911831626848694}, {\"rok\": \"2001-01-01T00:00:00\", \"variable\": \"pod\\u00edl p\\u0159eklad\\u016f\", \"value\": 0.33314277547520366}, {\"rok\": \"2002-01-01T00:00:00\", \"variable\": \"pod\\u00edl p\\u0159eklad\\u016f\", \"value\": 0.33192804946599214}, {\"rok\": \"2003-01-01T00:00:00\", \"variable\": \"pod\\u00edl p\\u0159eklad\\u016f\", \"value\": 0.3370330265295073}, {\"rok\": \"2004-01-01T00:00:00\", \"variable\": \"pod\\u00edl p\\u0159eklad\\u016f\", \"value\": 0.3432783840260042}, {\"rok\": \"2005-01-01T00:00:00\", \"variable\": \"pod\\u00edl p\\u0159eklad\\u016f\", \"value\": 0.31950646298472385}, {\"rok\": \"2006-01-01T00:00:00\", \"variable\": \"pod\\u00edl p\\u0159eklad\\u016f\", \"value\": 0.32563817980022197}, {\"rok\": \"2007-01-01T00:00:00\", \"variable\": \"pod\\u00edl p\\u0159eklad\\u016f\", \"value\": 0.32718139128535545}, {\"rok\": \"2008-01-01T00:00:00\", \"variable\": \"pod\\u00edl p\\u0159eklad\\u016f\", \"value\": 0.33528746271726834}, {\"rok\": \"2009-01-01T00:00:00\", \"variable\": \"pod\\u00edl p\\u0159eklad\\u016f\", \"value\": 0.34049409237379163}, {\"rok\": \"2010-01-01T00:00:00\", \"variable\": \"pod\\u00edl p\\u0159eklad\\u016f\", \"value\": 0.3179009112810307}, {\"rok\": \"2011-01-01T00:00:00\", \"variable\": \"pod\\u00edl p\\u0159eklad\\u016f\", \"value\": 0.32861702127659576}, {\"rok\": \"2012-01-01T00:00:00\", \"variable\": \"pod\\u00edl p\\u0159eklad\\u016f\", \"value\": 0.3237810094097519}, {\"rok\": \"2013-01-01T00:00:00\", \"variable\": \"pod\\u00edl p\\u0159eklad\\u016f\", \"value\": 0.3201206376561827}, {\"rok\": \"2014-01-01T00:00:00\", \"variable\": \"pod\\u00edl p\\u0159eklad\\u016f\", \"value\": 0.3152719888853265}, {\"rok\": \"2015-01-01T00:00:00\", \"variable\": \"pod\\u00edl p\\u0159eklad\\u016f\", \"value\": 0.31947187857365633}, {\"rok\": \"2016-01-01T00:00:00\", \"variable\": \"pod\\u00edl p\\u0159eklad\\u016f\", \"value\": 0.34082644628099174}, {\"rok\": \"2017-01-01T00:00:00\", \"variable\": \"pod\\u00edl p\\u0159eklad\\u016f\", \"value\": 0.34185658699277377}, {\"rok\": \"2018-01-01T00:00:00\", \"variable\": \"pod\\u00edl p\\u0159eklad\\u016f\", \"value\": 0.34999459050091963}, {\"rok\": \"2019-01-01T00:00:00\", \"variable\": \"pod\\u00edl p\\u0159eklad\\u016f\", \"value\": 0.36502160564020925}, {\"rok\": \"2020-01-01T00:00:00\", \"variable\": \"pod\\u00edl p\\u0159eklad\\u016f\", \"value\": 0.3333333333333333}, {\"rok\": \"2021-01-01T00:00:00\", \"variable\": \"pod\\u00edl p\\u0159eklad\\u016f\", \"value\": 0.341092991410432}, {\"rok\": \"2022-01-01T00:00:00\", \"variable\": \"pod\\u00edl p\\u0159eklad\\u016f\", \"value\": 0.3550397067806964}, {\"rok\": \"2023-01-01T00:00:00\", \"variable\": \"pod\\u00edl p\\u0159eklad\\u016f\", \"value\": 0.3619896892852167}], \"data-a3f8095f7e7dc7f5f7fef984c8960ef9\": [{\"text\": \"zdroj dat: \\u010cesk\\u00e1 n\\u00e1rodn\\u00ed bibliografie \\u00b7 vizualizace: iROZHLAS.cz \\u00b7 2025\"}]}}, {\"mode\": \"vega-lite\"});\n",
       "</script>"
      ],
      "text/plain": [
       "alt.VConcatChart(...)"
      ]
     },
     "execution_count": 399,
     "metadata": {},
     "output_type": "execute_result"
    }
   ],
   "source": [
    "me_to_neurazi(graf_produkce, 'produkce', \"zdroj dat: Česká národní bibliografie · vizualizace: iROZHLAS.cz · 2025\")"
   ]
  }
 ],
 "metadata": {
  "kernelspec": {
   "display_name": "Python 3 (ipykernel)",
   "language": "python",
   "name": "python3"
  },
  "language_info": {
   "codemirror_mode": {
    "name": "ipython",
    "version": 3
   },
   "file_extension": ".py",
   "mimetype": "text/x-python",
   "name": "python",
   "nbconvert_exporter": "python",
   "pygments_lexer": "ipython3",
   "version": "3.12.3"
  }
 },
 "nbformat": 4,
 "nbformat_minor": 5
}
