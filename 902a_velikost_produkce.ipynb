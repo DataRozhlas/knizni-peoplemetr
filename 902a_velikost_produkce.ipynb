{
 "cells": [
  {
   "cell_type": "code",
   "execution_count": 27,
   "id": "ac907167-e7b1-44ff-a7d5-390c12630ede",
   "metadata": {},
   "outputs": [],
   "source": [
    "import os\n",
    "import re\n",
    "import statistics\n",
    "from src.najdi_rok import najdi_rok\n",
    "from src.zjisti_cenu import zjisti_cenu\n",
    "import pandas as pd"
   ]
  },
  {
   "cell_type": "code",
   "execution_count": 28,
   "id": "66a38e47-dca4-442c-9960-38d7b0bbb0b6",
   "metadata": {},
   "outputs": [],
   "source": [
    "pd.set_option('display.max_columns', 100)\n",
    "pd.set_option('display.max_rows', 500)"
   ]
  },
  {
   "cell_type": "code",
   "execution_count": 29,
   "id": "37a6002e-99de-44fe-b9a7-66c000a09890",
   "metadata": {},
   "outputs": [],
   "source": [
    "df = pd.read_parquet(os.path.join(\"data\",\"cnb_vyber.parquet\"))"
   ]
  },
  {
   "cell_type": "code",
   "execution_count": 30,
   "id": "2a08b452-f92c-49e5-a148-aaa045c6a156",
   "metadata": {},
   "outputs": [],
   "source": [
    "# df = df.explode('008')"
   ]
  },
  {
   "cell_type": "code",
   "execution_count": 31,
   "id": "a20dd698-2f7f-4116-9638-c0f72681658a",
   "metadata": {},
   "outputs": [],
   "source": [
    "df['rok'] = df['008'].apply(lambda x: najdi_rok(x))"
   ]
  },
  {
   "cell_type": "code",
   "execution_count": 32,
   "id": "968a37ba-1839-46f1-b1e4-68ab7734c961",
   "metadata": {},
   "outputs": [
    {
     "data": {
      "text/plain": [
       "855454"
      ]
     },
     "execution_count": 32,
     "metadata": {},
     "output_type": "execute_result"
    }
   ],
   "source": [
    "len(df)"
   ]
  },
  {
   "cell_type": "code",
   "execution_count": 33,
   "id": "9631fd74-b8b6-45fc-84ee-278dca5fbf44",
   "metadata": {},
   "outputs": [
    {
     "data": {
      "text/plain": [
       "rok\n",
       "2008.0    16719\n",
       "2007.0    16013\n",
       "2010.0    15910\n",
       "2009.0    15542\n",
       "2012.0    15539\n",
       "dtype: int64"
      ]
     },
     "execution_count": 33,
     "metadata": {},
     "output_type": "execute_result"
    }
   ],
   "source": [
    "df.groupby(\"rok\").size().nlargest()"
   ]
  },
  {
   "cell_type": "code",
   "execution_count": 34,
   "id": "6469f0f8-5d5d-4367-83d7-4fcf8509a601",
   "metadata": {},
   "outputs": [],
   "source": [
    "# df = df.dropna(subset=['245_a','100_a','rok'])"
   ]
  },
  {
   "cell_type": "code",
   "execution_count": 35,
   "id": "6d721b2d-2c7d-4241-8cde-14937df4f86d",
   "metadata": {},
   "outputs": [],
   "source": [
    "df = df.dropna(subset=['245_a','rok'])"
   ]
  },
  {
   "cell_type": "code",
   "execution_count": 36,
   "id": "5eb7625a-cfdb-483d-9c80-75d53208d85e",
   "metadata": {},
   "outputs": [],
   "source": [
    "df['cena'] = df['020_c'].apply(lambda x: zjisti_cenu(x))"
   ]
  },
  {
   "cell_type": "code",
   "execution_count": 37,
   "id": "077cc42e-78a4-47ac-aec2-459bd313071c",
   "metadata": {},
   "outputs": [
    {
     "data": {
      "text/plain": [
       "849110"
      ]
     },
     "execution_count": 37,
     "metadata": {},
     "output_type": "execute_result"
    }
   ],
   "source": [
    "len(df)"
   ]
  },
  {
   "cell_type": "code",
   "execution_count": 38,
   "id": "663df9c6-9ca1-4df3-b34d-277f75e779f7",
   "metadata": {},
   "outputs": [],
   "source": [
    "df['titul'] = df['245_a'].apply(lambda x: x[0][:-1].strip() if x[0][-1] in [':','/',';','='] else x[0].strip())\n",
    "df['autorstvo'] = df['100_a'].apply(lambda x: \", \".join([y.replace(',','') for y in x]) if x != None else None)\n",
    "df['autorstvo_kod'] = df['100_7'].apply(lambda x: x[0] if x != None else None)\n",
    "df = df.sort_values(by='rok').drop_duplicates(subset=['titul','autorstvo'], keep='first')"
   ]
  },
  {
   "cell_type": "code",
   "execution_count": 39,
   "id": "c0134bea-88a8-407c-88f8-19d170291639",
   "metadata": {},
   "outputs": [
    {
     "data": {
      "text/plain": [
       "382271"
      ]
     },
     "execution_count": 39,
     "metadata": {},
     "output_type": "execute_result"
    }
   ],
   "source": [
    "len(df)"
   ]
  },
  {
   "cell_type": "code",
   "execution_count": 40,
   "id": "6f33bae1-fcce-4647-913b-35c1aa57eddf",
   "metadata": {},
   "outputs": [],
   "source": [
    "from src.pocet_stran import pocet_stran"
   ]
  },
  {
   "cell_type": "code",
   "execution_count": 41,
   "id": "30c5efea-ab9a-42b1-9bd3-260d3d274eb1",
   "metadata": {},
   "outputs": [],
   "source": [
    "df['stran'] = df['300_a'].apply(lambda x: pocet_stran(x))"
   ]
  },
  {
   "cell_type": "code",
   "execution_count": 42,
   "id": "4074543a-5465-4a94-8bb0-e4c67d1093f5",
   "metadata": {},
   "outputs": [
    {
     "data": {
      "text/html": [
       "<div>\n",
       "<style scoped>\n",
       "    .dataframe tbody tr th:only-of-type {\n",
       "        vertical-align: middle;\n",
       "    }\n",
       "\n",
       "    .dataframe tbody tr th {\n",
       "        vertical-align: top;\n",
       "    }\n",
       "\n",
       "    .dataframe thead th {\n",
       "        text-align: right;\n",
       "    }\n",
       "</style>\n",
       "<table border=\"1\" class=\"dataframe\">\n",
       "  <thead>\n",
       "    <tr style=\"text-align: right;\">\n",
       "      <th></th>\n",
       "      <th>300_a</th>\n",
       "      <th>stran</th>\n",
       "    </tr>\n",
       "    <tr>\n",
       "      <th>001</th>\n",
       "      <th></th>\n",
       "      <th></th>\n",
       "    </tr>\n",
       "  </thead>\n",
       "  <tbody>\n",
       "    <tr>\n",
       "      <th>nkc20122410252</th>\n",
       "      <td>[59 s. :]</td>\n",
       "      <td>59.0</td>\n",
       "    </tr>\n",
       "    <tr>\n",
       "      <th>nkc20193122863</th>\n",
       "      <td>[224 stran :]</td>\n",
       "      <td>224.0</td>\n",
       "    </tr>\n",
       "    <tr>\n",
       "      <th>nkc20051632258</th>\n",
       "      <td>[143 s. ;]</td>\n",
       "      <td>143.0</td>\n",
       "    </tr>\n",
       "    <tr>\n",
       "      <th>ck8406527</th>\n",
       "      <td>[41 s. ;]</td>\n",
       "      <td>41.0</td>\n",
       "    </tr>\n",
       "    <tr>\n",
       "      <th>np9314122</th>\n",
       "      <td>[49 s. ;]</td>\n",
       "      <td>49.0</td>\n",
       "    </tr>\n",
       "    <tr>\n",
       "      <th>nkc20051628425</th>\n",
       "      <td>[46 s. :]</td>\n",
       "      <td>46.0</td>\n",
       "    </tr>\n",
       "    <tr>\n",
       "      <th>nkc20112237791</th>\n",
       "      <td>[222 s. ;]</td>\n",
       "      <td>222.0</td>\n",
       "    </tr>\n",
       "    <tr>\n",
       "      <th>nos190122696</th>\n",
       "      <td>[44 s., 2 l. ;]</td>\n",
       "      <td>44.0</td>\n",
       "    </tr>\n",
       "    <tr>\n",
       "      <th>bk196800711</th>\n",
       "      <td>[114, [1] s. ;]</td>\n",
       "      <td>114.0</td>\n",
       "    </tr>\n",
       "    <tr>\n",
       "      <th>cpk19980363756</th>\n",
       "      <td>[62 s.]</td>\n",
       "      <td>62.0</td>\n",
       "    </tr>\n",
       "    <tr>\n",
       "      <th>np9312117</th>\n",
       "      <td>[62 s. ;]</td>\n",
       "      <td>62.0</td>\n",
       "    </tr>\n",
       "    <tr>\n",
       "      <th>cpk19980371079</th>\n",
       "      <td>[58 s. :]</td>\n",
       "      <td>58.0</td>\n",
       "    </tr>\n",
       "    <tr>\n",
       "      <th>nkc20193094615</th>\n",
       "      <td>[566 stran ;]</td>\n",
       "      <td>566.0</td>\n",
       "    </tr>\n",
       "    <tr>\n",
       "      <th>nkc20112237584</th>\n",
       "      <td>[226 s. ;]</td>\n",
       "      <td>226.0</td>\n",
       "    </tr>\n",
       "    <tr>\n",
       "      <th>nkc20193120495</th>\n",
       "      <td>[90 stran, 6 nečíslovaných stran obrazových př...</td>\n",
       "      <td>90.0</td>\n",
       "    </tr>\n",
       "    <tr>\n",
       "      <th>nkc20071730081</th>\n",
       "      <td>[64 s. ;]</td>\n",
       "      <td>64.0</td>\n",
       "    </tr>\n",
       "    <tr>\n",
       "      <th>nkc20233564607</th>\n",
       "      <td>[44 stran ;]</td>\n",
       "      <td>44.0</td>\n",
       "    </tr>\n",
       "    <tr>\n",
       "      <th>nkc20193136992</th>\n",
       "      <td>[312 stran :]</td>\n",
       "      <td>312.0</td>\n",
       "    </tr>\n",
       "    <tr>\n",
       "      <th>np9542762</th>\n",
       "      <td>[120 s. ;]</td>\n",
       "      <td>120.0</td>\n",
       "    </tr>\n",
       "    <tr>\n",
       "      <th>bk196404902</th>\n",
       "      <td>[87, [4] s. ;]</td>\n",
       "      <td>87.0</td>\n",
       "    </tr>\n",
       "    <tr>\n",
       "      <th>bk196100786</th>\n",
       "      <td>[63 s. :]</td>\n",
       "      <td>63.0</td>\n",
       "    </tr>\n",
       "    <tr>\n",
       "      <th>nkc20071784391</th>\n",
       "      <td>[165 s. :]</td>\n",
       "      <td>165.0</td>\n",
       "    </tr>\n",
       "    <tr>\n",
       "      <th>nkc20233519622</th>\n",
       "      <td>[130 stran :]</td>\n",
       "      <td>130.0</td>\n",
       "    </tr>\n",
       "    <tr>\n",
       "      <th>nos190235577</th>\n",
       "      <td>[2 l., 442 s. :]</td>\n",
       "      <td>442.0</td>\n",
       "    </tr>\n",
       "    <tr>\n",
       "      <th>nkc20071753321</th>\n",
       "      <td>[182 s. :]</td>\n",
       "      <td>182.0</td>\n",
       "    </tr>\n",
       "    <tr>\n",
       "      <th>cpk20010995969</th>\n",
       "      <td>[160 s. :]</td>\n",
       "      <td>160.0</td>\n",
       "    </tr>\n",
       "    <tr>\n",
       "      <th>nkc20203274802</th>\n",
       "      <td>[35 stran :]</td>\n",
       "      <td>35.0</td>\n",
       "    </tr>\n",
       "    <tr>\n",
       "      <th>bk193001326</th>\n",
       "      <td>[205 s. :]</td>\n",
       "      <td>205.0</td>\n",
       "    </tr>\n",
       "    <tr>\n",
       "      <th>bk195701529</th>\n",
       "      <td>[372, [2] s. ;]</td>\n",
       "      <td>372.0</td>\n",
       "    </tr>\n",
       "    <tr>\n",
       "      <th>bk198103857</th>\n",
       "      <td>[176, [4] s. :]</td>\n",
       "      <td>176.0</td>\n",
       "    </tr>\n",
       "  </tbody>\n",
       "</table>\n",
       "</div>"
      ],
      "text/plain": [
       "                                                            300_a  stran\n",
       "001                                                                     \n",
       "nkc20122410252                                          [59 s. :]   59.0\n",
       "nkc20193122863                                      [224 stran :]  224.0\n",
       "nkc20051632258                                         [143 s. ;]  143.0\n",
       "ck8406527                                               [41 s. ;]   41.0\n",
       "np9314122                                               [49 s. ;]   49.0\n",
       "nkc20051628425                                          [46 s. :]   46.0\n",
       "nkc20112237791                                         [222 s. ;]  222.0\n",
       "nos190122696                                      [44 s., 2 l. ;]   44.0\n",
       "bk196800711                                       [114, [1] s. ;]  114.0\n",
       "cpk19980363756                                            [62 s.]   62.0\n",
       "np9312117                                               [62 s. ;]   62.0\n",
       "cpk19980371079                                          [58 s. :]   58.0\n",
       "nkc20193094615                                      [566 stran ;]  566.0\n",
       "nkc20112237584                                         [226 s. ;]  226.0\n",
       "nkc20193120495  [90 stran, 6 nečíslovaných stran obrazových př...   90.0\n",
       "nkc20071730081                                          [64 s. ;]   64.0\n",
       "nkc20233564607                                       [44 stran ;]   44.0\n",
       "nkc20193136992                                      [312 stran :]  312.0\n",
       "np9542762                                              [120 s. ;]  120.0\n",
       "bk196404902                                        [87, [4] s. ;]   87.0\n",
       "bk196100786                                             [63 s. :]   63.0\n",
       "nkc20071784391                                         [165 s. :]  165.0\n",
       "nkc20233519622                                      [130 stran :]  130.0\n",
       "nos190235577                                     [2 l., 442 s. :]  442.0\n",
       "nkc20071753321                                         [182 s. :]  182.0\n",
       "cpk20010995969                                         [160 s. :]  160.0\n",
       "nkc20203274802                                       [35 stran :]   35.0\n",
       "bk193001326                                            [205 s. :]  205.0\n",
       "bk195701529                                       [372, [2] s. ;]  372.0\n",
       "bk198103857                                       [176, [4] s. :]  176.0"
      ]
     },
     "execution_count": 42,
     "metadata": {},
     "output_type": "execute_result"
    }
   ],
   "source": [
    "df[['300_a','stran']].sample(30)"
   ]
  },
  {
   "cell_type": "code",
   "execution_count": 43,
   "id": "963886f8-f31a-402b-b7d0-2b6f1098ee5e",
   "metadata": {},
   "outputs": [
    {
     "data": {
      "text/plain": [
       "262800"
      ]
     },
     "execution_count": 43,
     "metadata": {},
     "output_type": "execute_result"
    }
   ],
   "source": [
    "za_rok = 365 * 12 * 60\n",
    "za_rok"
   ]
  },
  {
   "cell_type": "code",
   "execution_count": 44,
   "id": "21f72aa7-e7ed-4ddb-9a20-b0a9ef1822fb",
   "metadata": {},
   "outputs": [
    {
     "data": {
      "text/plain": [
       "rok\n",
       "2020.0    1279217.0\n",
       "2021.0    1325543.0\n",
       "2022.0    1302861.0\n",
       "2023.0    1194321.0\n",
       "2024.0     635097.0\n",
       "Name: stran, dtype: float64"
      ]
     },
     "execution_count": 44,
     "metadata": {},
     "output_type": "execute_result"
    }
   ],
   "source": [
    "df.groupby('rok')['stran'].sum().tail()"
   ]
  },
  {
   "cell_type": "code",
   "execution_count": 45,
   "id": "4f822a99-c6c1-486d-be51-3508dcb3b1a8",
   "metadata": {},
   "outputs": [
    {
     "data": {
      "text/plain": [
       "<Axes: xlabel='rok'>"
      ]
     },
     "execution_count": 45,
     "metadata": {},
     "output_type": "execute_result"
    },
    {
     "data": {
      "image/png": "[encoded data removed]",
      "text/plain": [
       "<Figure size 2500x500 with 1 Axes>"
      ]
     },
     "metadata": {},
     "output_type": "display_data"
    }
   ],
   "source": [
    "df.groupby('rok')['stran'].sum().plot.bar(figsize=(25,5))"
   ]
  },
  {
   "cell_type": "code",
   "execution_count": 46,
   "id": "4ee02e17-b085-48fc-a9f4-a01261322fb3",
   "metadata": {},
   "outputs": [
    {
     "data": {
      "text/plain": [
       "rok\n",
       "1900.0    0.995483\n",
       "1901.0    0.994234\n",
       "1902.0    0.999237\n",
       "1903.0    0.995826\n",
       "1904.0    0.995701\n",
       "1905.0    0.996310\n",
       "1906.0    0.995000\n",
       "1907.0    0.994783\n",
       "1908.0    0.992963\n",
       "1909.0    0.995802\n",
       "1910.0    0.996243\n",
       "1911.0    0.995134\n",
       "1912.0    0.996010\n",
       "1913.0    0.994669\n",
       "1914.0    0.998965\n",
       "1915.0    0.993949\n",
       "1916.0    0.997214\n",
       "1917.0    0.997214\n",
       "1918.0    0.992823\n",
       "1919.0    0.992491\n",
       "1920.0    0.996573\n",
       "1921.0    0.996633\n",
       "1922.0    0.996497\n",
       "1923.0    0.993966\n",
       "1924.0    0.995571\n",
       "1925.0    0.992593\n",
       "1926.0    0.994408\n",
       "1927.0    0.991841\n",
       "1928.0    0.985986\n",
       "1929.0    0.975064\n",
       "1930.0    0.968017\n",
       "1931.0    0.968500\n",
       "1932.0    0.962575\n",
       "1933.0    0.971139\n",
       "1934.0    0.959254\n",
       "1935.0    0.961557\n",
       "1936.0    0.953300\n",
       "1937.0    0.950589\n",
       "1938.0    0.955402\n",
       "1939.0    0.949428\n",
       "1940.0    0.955473\n",
       "1941.0    0.944193\n",
       "1942.0    0.957597\n",
       "1943.0    0.978972\n",
       "1944.0    0.993103\n",
       "1945.0    0.976190\n",
       "1946.0    0.992174\n",
       "1947.0    0.994827\n",
       "1948.0    0.996602\n",
       "1949.0    0.999278\n",
       "1950.0    1.000000\n",
       "1951.0    0.999015\n",
       "1952.0    0.999524\n",
       "1953.0    1.000000\n",
       "1954.0    1.000000\n",
       "1955.0    0.999540\n",
       "1956.0    1.000000\n",
       "1957.0    1.000000\n",
       "1958.0    1.000000\n",
       "1959.0    0.999568\n",
       "1960.0    1.000000\n",
       "1961.0    1.000000\n",
       "1962.0    0.999576\n",
       "1963.0    1.000000\n",
       "1964.0    0.999190\n",
       "1965.0    0.999550\n",
       "1966.0    0.999563\n",
       "1967.0    0.999108\n",
       "1968.0    0.999532\n",
       "1969.0    0.999513\n",
       "1970.0    0.999079\n",
       "1971.0    0.999541\n",
       "1972.0    1.000000\n",
       "1973.0    0.999530\n",
       "1974.0    1.000000\n",
       "1975.0    1.000000\n",
       "1976.0    0.999124\n",
       "1977.0    1.000000\n",
       "1978.0    1.000000\n",
       "1979.0    0.999574\n",
       "1980.0    0.999587\n",
       "1981.0    0.998724\n",
       "1982.0    1.000000\n",
       "1983.0    1.000000\n",
       "1984.0    1.000000\n",
       "1985.0    0.999201\n",
       "1986.0    1.000000\n",
       "1987.0    1.000000\n",
       "1988.0    1.000000\n",
       "1989.0    1.000000\n",
       "1990.0    0.999662\n",
       "1991.0    0.999127\n",
       "1992.0    0.998246\n",
       "1993.0    0.997977\n",
       "1994.0    0.997382\n",
       "1995.0    0.998979\n",
       "1996.0    0.998012\n",
       "1997.0    0.998844\n",
       "1998.0    0.998827\n",
       "1999.0    0.999060\n",
       "2000.0    0.998207\n",
       "2001.0    0.998590\n",
       "2002.0    0.998315\n",
       "2003.0    0.998859\n",
       "2004.0    0.998427\n",
       "2005.0    0.998353\n",
       "2006.0    0.998573\n",
       "2007.0    0.998359\n",
       "2008.0    0.998950\n",
       "2009.0    0.998183\n",
       "2010.0    0.999041\n",
       "2011.0    0.998337\n",
       "2012.0    0.997378\n",
       "2013.0    0.997479\n",
       "2014.0    0.995648\n",
       "2015.0    0.994640\n",
       "2016.0    0.993670\n",
       "2017.0    0.993750\n",
       "2018.0    0.994260\n",
       "2019.0    0.993271\n",
       "2020.0    0.992851\n",
       "2021.0    0.993732\n",
       "2022.0    0.992479\n",
       "2023.0    0.987986\n",
       "2024.0    0.987838\n",
       "dtype: float64"
      ]
     },
     "execution_count": 46,
     "metadata": {},
     "output_type": "execute_result"
    }
   ],
   "source": [
    "df[df['stran'].notnull()].groupby('rok').size() / df.groupby('rok').size()"
   ]
  },
  {
   "cell_type": "markdown",
   "id": "9a0051a5-f8e7-40af-a1f3-2edd951a7609",
   "metadata": {},
   "source": [
    "Vyplněnost solidní!"
   ]
  },
  {
   "cell_type": "code",
   "execution_count": 48,
   "id": "91fbb7c0-4176-491d-8d35-a42bd72e264b",
   "metadata": {},
   "outputs": [
    {
     "data": {
      "text/html": [
       "<div>\n",
       "<style scoped>\n",
       "    .dataframe tbody tr th:only-of-type {\n",
       "        vertical-align: middle;\n",
       "    }\n",
       "\n",
       "    .dataframe tbody tr th {\n",
       "        vertical-align: top;\n",
       "    }\n",
       "\n",
       "    .dataframe thead th {\n",
       "        text-align: right;\n",
       "    }\n",
       "</style>\n",
       "<table border=\"1\" class=\"dataframe\">\n",
       "  <thead>\n",
       "    <tr style=\"text-align: right;\">\n",
       "      <th></th>\n",
       "      <th>300_a</th>\n",
       "      <th>stran</th>\n",
       "      <th>245_a</th>\n",
       "      <th>rok</th>\n",
       "    </tr>\n",
       "    <tr>\n",
       "      <th>001</th>\n",
       "      <th></th>\n",
       "      <th></th>\n",
       "      <th></th>\n",
       "      <th></th>\n",
       "    </tr>\n",
       "  </thead>\n",
       "  <tbody>\n",
       "    <tr>\n",
       "      <th>nkc20183048417</th>\n",
       "      <td>[3 svazky (3496 stran) ;]</td>\n",
       "      <td>3496.0</td>\n",
       "      <td>Španělsko-český slovník amerikanismů =</td>\n",
       "      <td>2018.0</td>\n",
       "    </tr>\n",
       "    <tr>\n",
       "      <th>nkc20091995200</th>\n",
       "      <td>[2 sv. (xx, 1579, xvii, s.1581-3343) ;]</td>\n",
       "      <td>3343.0</td>\n",
       "      <td>Občanský soudní řád :</td>\n",
       "      <td>2009.0</td>\n",
       "    </tr>\n",
       "    <tr>\n",
       "      <th>nkc20203263529</th>\n",
       "      <td>[2 svazky (xxx, 1-1642; ix, 1643-3331 stran) ;]</td>\n",
       "      <td>3331.0</td>\n",
       "      <td>Trestní zákoník :</td>\n",
       "      <td>2020.0</td>\n",
       "    </tr>\n",
       "    <tr>\n",
       "      <th>nos190227417</th>\n",
       "      <td>[2855 s. ;]</td>\n",
       "      <td>2855.0</td>\n",
       "      <td>Buffalo Bill, národní hrdina americký /</td>\n",
       "      <td>1908.0</td>\n",
       "    </tr>\n",
       "    <tr>\n",
       "      <th>nkc20132502112</th>\n",
       "      <td>[3 sv. (2733 s.) ;]</td>\n",
       "      <td>2733.0</td>\n",
       "      <td>Komentář k zákonu o obchodních korporacích /</td>\n",
       "      <td>2013.0</td>\n",
       "    </tr>\n",
       "    <tr>\n",
       "      <th>nos190240810</th>\n",
       "      <td>[2710 s. ;]</td>\n",
       "      <td>2710.0</td>\n",
       "      <td>Pražský kat :</td>\n",
       "      <td>1910.0</td>\n",
       "    </tr>\n",
       "    <tr>\n",
       "      <th>nkc20092012372</th>\n",
       "      <td>[2 sv. (clxviii, 1316 s., s. 1317-2684) ;]</td>\n",
       "      <td>2684.0</td>\n",
       "      <td>Římská úmluva a Nařízení Řím I :</td>\n",
       "      <td>2009.0</td>\n",
       "    </tr>\n",
       "    <tr>\n",
       "      <th>nos190237542</th>\n",
       "      <td>[2636 s. ;]</td>\n",
       "      <td>2636.0</td>\n",
       "      <td>Královna Draga, záhuba Srbska čili kralovražda...</td>\n",
       "      <td>1903.0</td>\n",
       "    </tr>\n",
       "    <tr>\n",
       "      <th>nos190110115</th>\n",
       "      <td>[3 sv. (1032 s., s. 1035-1736, 1737-2400+ ) :]</td>\n",
       "      <td>2400.0</td>\n",
       "      <td>Lips Tulian, nejobávanější náčelník lupičů :</td>\n",
       "      <td>1906.0</td>\n",
       "    </tr>\n",
       "    <tr>\n",
       "      <th>nkc20081835533</th>\n",
       "      <td>[2 sv. (cx, 1276 s., cviii, s. 1277-2190) ;]</td>\n",
       "      <td>2190.0</td>\n",
       "      <td>Rozhodčí řízení, ordre public a trestní právo :</td>\n",
       "      <td>2008.0</td>\n",
       "    </tr>\n",
       "    <tr>\n",
       "      <th>nos190248033</th>\n",
       "      <td>[2 sv. (1514, 2139 s.) ;]</td>\n",
       "      <td>2139.0</td>\n",
       "      <td>Ruskočeský slovník =</td>\n",
       "      <td>1920.0</td>\n",
       "    </tr>\n",
       "    <tr>\n",
       "      <th>nos190109944</th>\n",
       "      <td>[2133 s. ;]</td>\n",
       "      <td>2133.0</td>\n",
       "      <td>Guiseppe Musolino, neohrožený vůdce banditů /</td>\n",
       "      <td>1903.0</td>\n",
       "    </tr>\n",
       "    <tr>\n",
       "      <th>nos190232485</th>\n",
       "      <td>[^^^svazků (2127 stran) ;]</td>\n",
       "      <td>2127.0</td>\n",
       "      <td>Křesťanská cvičení, nebo, Výklad velkého katec...</td>\n",
       "      <td>1905.0</td>\n",
       "    </tr>\n",
       "    <tr>\n",
       "      <th>bk193104401</th>\n",
       "      <td>[29 svazků (2123 s.) ;]</td>\n",
       "      <td>2123.0</td>\n",
       "      <td>Kníže bídy :</td>\n",
       "      <td>1930.0</td>\n",
       "    </tr>\n",
       "    <tr>\n",
       "      <th>nkc20223423789</th>\n",
       "      <td>[3 svazky (2063 stran) :]</td>\n",
       "      <td>2063.0</td>\n",
       "      <td>Umlčené hlasy :</td>\n",
       "      <td>2021.0</td>\n",
       "    </tr>\n",
       "    <tr>\n",
       "      <th>cpk20051410529</th>\n",
       "      <td>[vi, 2048 s. ;]</td>\n",
       "      <td>2048.0</td>\n",
       "      <td>Kompendium lékových interakcí Infopharm 2005 /</td>\n",
       "      <td>2004.0</td>\n",
       "    </tr>\n",
       "    <tr>\n",
       "      <th>nkc20102104642</th>\n",
       "      <td>[2015 s. :]</td>\n",
       "      <td>2015.0</td>\n",
       "      <td>Dimenzování a jištění napájecích vedení a účin...</td>\n",
       "      <td>2010.0</td>\n",
       "    </tr>\n",
       "    <tr>\n",
       "      <th>bk197200285</th>\n",
       "      <td>[S. 1023-1990, [1] s. ;]</td>\n",
       "      <td>1990.0</td>\n",
       "      <td>Německo-český a česko-německý slovník.</td>\n",
       "      <td>1971.0</td>\n",
       "    </tr>\n",
       "    <tr>\n",
       "      <th>nkc20112195361</th>\n",
       "      <td>[2 sv. (xxxiv, 1069 s. ; xxiv s., s. 1073-1965...</td>\n",
       "      <td>1965.0</td>\n",
       "      <td>Dětská neurologie /</td>\n",
       "      <td>2011.0</td>\n",
       "    </tr>\n",
       "    <tr>\n",
       "      <th>cpk20142574963</th>\n",
       "      <td>[1957 s. ;]</td>\n",
       "      <td>1957.0</td>\n",
       "      <td>Der Deutsche Turnverein in Prag :</td>\n",
       "      <td>1912.0</td>\n",
       "    </tr>\n",
       "  </tbody>\n",
       "</table>\n",
       "</div>"
      ],
      "text/plain": [
       "                                                            300_a   stran  \\\n",
       "001                                                                         \n",
       "nkc20183048417                          [3 svazky (3496 stran) ;]  3496.0   \n",
       "nkc20091995200            [2 sv. (xx, 1579, xvii, s.1581-3343) ;]  3343.0   \n",
       "nkc20203263529    [2 svazky (xxx, 1-1642; ix, 1643-3331 stran) ;]  3331.0   \n",
       "nos190227417                                          [2855 s. ;]  2855.0   \n",
       "nkc20132502112                                [3 sv. (2733 s.) ;]  2733.0   \n",
       "nos190240810                                          [2710 s. ;]  2710.0   \n",
       "nkc20092012372         [2 sv. (clxviii, 1316 s., s. 1317-2684) ;]  2684.0   \n",
       "nos190237542                                          [2636 s. ;]  2636.0   \n",
       "nos190110115       [3 sv. (1032 s., s. 1035-1736, 1737-2400+ ) :]  2400.0   \n",
       "nkc20081835533       [2 sv. (cx, 1276 s., cviii, s. 1277-2190) ;]  2190.0   \n",
       "nos190248033                            [2 sv. (1514, 2139 s.) ;]  2139.0   \n",
       "nos190109944                                          [2133 s. ;]  2133.0   \n",
       "nos190232485                           [^^^svazků (2127 stran) ;]  2127.0   \n",
       "bk193104401                               [29 svazků (2123 s.) ;]  2123.0   \n",
       "nkc20223423789                          [3 svazky (2063 stran) :]  2063.0   \n",
       "cpk20051410529                                    [vi, 2048 s. ;]  2048.0   \n",
       "nkc20102104642                                        [2015 s. :]  2015.0   \n",
       "bk197200285                              [S. 1023-1990, [1] s. ;]  1990.0   \n",
       "nkc20112195361  [2 sv. (xxxiv, 1069 s. ; xxiv s., s. 1073-1965...  1965.0   \n",
       "cpk20142574963                                        [1957 s. ;]  1957.0   \n",
       "\n",
       "                                                            245_a     rok  \n",
       "001                                                                        \n",
       "nkc20183048417             Španělsko-český slovník amerikanismů =  2018.0  \n",
       "nkc20091995200                              Občanský soudní řád :  2009.0  \n",
       "nkc20203263529                                  Trestní zákoník :  2020.0  \n",
       "nos190227417              Buffalo Bill, národní hrdina americký /  1908.0  \n",
       "nkc20132502112       Komentář k zákonu o obchodních korporacích /  2013.0  \n",
       "nos190240810                                        Pražský kat :  1910.0  \n",
       "nkc20092012372                   Římská úmluva a Nařízení Řím I :  2009.0  \n",
       "nos190237542    Královna Draga, záhuba Srbska čili kralovražda...  1903.0  \n",
       "nos190110115         Lips Tulian, nejobávanější náčelník lupičů :  1906.0  \n",
       "nkc20081835533    Rozhodčí řízení, ordre public a trestní právo :  2008.0  \n",
       "nos190248033                                 Ruskočeský slovník =  1920.0  \n",
       "nos190109944        Guiseppe Musolino, neohrožený vůdce banditů /  1903.0  \n",
       "nos190232485    Křesťanská cvičení, nebo, Výklad velkého katec...  1905.0  \n",
       "bk193104401                                          Kníže bídy :  1930.0  \n",
       "nkc20223423789                                    Umlčené hlasy :  2021.0  \n",
       "cpk20051410529     Kompendium lékových interakcí Infopharm 2005 /  2004.0  \n",
       "nkc20102104642  Dimenzování a jištění napájecích vedení a účin...  2010.0  \n",
       "bk197200285                Německo-český a česko-německý slovník.  1971.0  \n",
       "nkc20112195361                                Dětská neurologie /  2011.0  \n",
       "cpk20142574963                  Der Deutsche Turnverein in Prag :  1912.0  "
      ]
     },
     "execution_count": 48,
     "metadata": {},
     "output_type": "execute_result"
    }
   ],
   "source": [
    "df[['300_a','stran','245_a','rok']].sort_values(by=\"stran\",ascending=False).head(20)"
   ]
  },
  {
   "cell_type": "code",
   "execution_count": 49,
   "id": "1f772037-4296-4a0e-b854-0469ff23e8ea",
   "metadata": {},
   "outputs": [
    {
     "data": {
      "text/plain": [
       "rok\n",
       "1900.0    0.506819\n",
       "1901.0    0.548969\n",
       "1902.0    0.645369\n",
       "1903.0    0.542051\n",
       "1904.0    0.498037\n",
       "1905.0    0.498976\n",
       "1906.0    0.510164\n",
       "1907.0    0.448219\n",
       "1908.0    0.519760\n",
       "1909.0    0.493680\n",
       "1910.0    0.559262\n",
       "1911.0    0.495137\n",
       "1912.0    0.532226\n",
       "1913.0    0.549878\n",
       "1914.0    0.380118\n",
       "1915.0    0.264304\n",
       "1916.0    0.264943\n",
       "1917.0    0.268508\n",
       "1918.0    0.315518\n",
       "1919.0    0.508143\n",
       "1920.0    0.629528\n",
       "1921.0    0.517139\n",
       "1922.0    0.588828\n",
       "1923.0    0.678607\n",
       "1924.0    0.758470\n",
       "1925.0    0.883843\n",
       "1926.0    0.898349\n",
       "1927.0    0.909174\n",
       "1928.0    0.936788\n",
       "1929.0    0.940259\n",
       "1930.0    1.149365\n",
       "1931.0    0.945088\n",
       "1932.0    0.858147\n",
       "1933.0    0.825765\n",
       "1934.0    0.800533\n",
       "1935.0    0.862473\n",
       "1936.0    1.033105\n",
       "1937.0    1.075529\n",
       "1938.0    0.896313\n",
       "1939.0    0.686625\n",
       "1940.0    0.791134\n",
       "1941.0    0.848181\n",
       "1942.0    0.493584\n",
       "1943.0    0.372698\n",
       "1944.0    0.441773\n",
       "1945.0    0.378885\n",
       "1946.0    0.970811\n",
       "1947.0    1.177367\n",
       "1948.0    1.071358\n",
       "1949.0    0.606020\n",
       "1950.0    0.686754\n",
       "1951.0    0.948318\n",
       "1952.0    1.048482\n",
       "1953.0    1.258664\n",
       "1954.0    1.305179\n",
       "1955.0    1.236895\n",
       "1956.0    1.217100\n",
       "1957.0    1.084471\n",
       "1958.0    1.224467\n",
       "1959.0    1.303303\n",
       "1960.0    1.285666\n",
       "1961.0    1.272842\n",
       "1962.0    1.299536\n",
       "1963.0    1.396480\n",
       "1964.0    1.373862\n",
       "1965.0    1.210594\n",
       "1966.0    1.316199\n",
       "1967.0    1.262675\n",
       "1968.0    1.163992\n",
       "1969.0    1.132287\n",
       "1970.0    1.149734\n",
       "1971.0    1.221693\n",
       "1972.0    1.226834\n",
       "1973.0    1.212104\n",
       "1974.0    1.251712\n",
       "1975.0    1.343174\n",
       "1976.0    1.327329\n",
       "1977.0    1.315597\n",
       "1978.0    1.327390\n",
       "1979.0    1.343881\n",
       "1980.0    1.400913\n",
       "1981.0    1.357869\n",
       "1982.0    1.341435\n",
       "1983.0    1.334414\n",
       "1984.0    1.449646\n",
       "1985.0    1.360225\n",
       "1986.0    1.377846\n",
       "1987.0    1.376260\n",
       "1988.0    1.425205\n",
       "1989.0    1.493330\n",
       "1990.0    1.412321\n",
       "1991.0    1.482260\n",
       "1992.0    1.897401\n",
       "1993.0    2.194414\n",
       "1994.0    2.464418\n",
       "1995.0    2.739361\n",
       "1996.0    2.884654\n",
       "1997.0    3.152835\n",
       "1998.0    3.125369\n",
       "1999.0    3.473265\n",
       "2000.0    3.572588\n",
       "2001.0    3.628280\n",
       "2002.0    3.868185\n",
       "2003.0    4.048999\n",
       "2004.0    4.204422\n",
       "2005.0    4.328721\n",
       "2006.0    4.512964\n",
       "2007.0    4.628356\n",
       "2008.0    4.822169\n",
       "2009.0    4.748919\n",
       "2010.0    4.806880\n",
       "2011.0    4.880205\n",
       "2012.0    4.705019\n",
       "2013.0    4.837215\n",
       "2014.0    4.819463\n",
       "2015.0    5.143177\n",
       "2016.0    4.960769\n",
       "2017.0    5.128565\n",
       "2018.0    5.357264\n",
       "2019.0    5.156438\n",
       "2020.0    4.867645\n",
       "2021.0    5.043923\n",
       "2022.0    4.957614\n",
       "2023.0    4.544600\n",
       "2024.0    2.416655\n",
       "Name: stran, dtype: float64"
      ]
     },
     "execution_count": 49,
     "metadata": {},
     "output_type": "execute_result"
    }
   ],
   "source": [
    "stihando = df.groupby('rok')['stran'].sum() / za_rok\n",
    "stihando"
   ]
  },
  {
   "cell_type": "code",
   "execution_count": 93,
   "id": "a880e4cc-e598-4180-970b-f477b2ebff1c",
   "metadata": {},
   "outputs": [
    {
     "data": {
      "text/plain": [
       "rok\n",
       "1900.0    0.506819\n",
       "1901.0    0.548969\n",
       "1902.0    0.645369\n",
       "1903.0    0.542051\n",
       "1904.0    0.498037\n",
       "1905.0    0.498976\n",
       "1906.0    0.510164\n",
       "1907.0    0.448219\n",
       "1908.0    0.519760\n",
       "1909.0    0.493680\n",
       "1910.0    0.559262\n",
       "1911.0    0.495137\n",
       "1912.0    0.532226\n",
       "1913.0    0.549878\n",
       "1914.0    0.380118\n",
       "1915.0    0.264304\n",
       "1916.0    0.264943\n",
       "1917.0    0.268508\n",
       "1918.0    0.315518\n",
       "1919.0    0.508143\n",
       "1920.0    0.629528\n",
       "1921.0    0.517139\n",
       "1922.0    0.588828\n",
       "1923.0    0.678607\n",
       "1924.0    0.758470\n",
       "1925.0    0.883843\n",
       "1926.0    0.898349\n",
       "1927.0    0.909174\n",
       "1928.0    0.936788\n",
       "1929.0    0.940259\n",
       "1931.0    0.945088\n",
       "1932.0    0.858147\n",
       "1933.0    0.825765\n",
       "1934.0    0.800533\n",
       "1935.0    0.862473\n",
       "1938.0    0.896313\n",
       "1939.0    0.686625\n",
       "1940.0    0.791134\n",
       "1941.0    0.848181\n",
       "1942.0    0.493584\n",
       "1943.0    0.372698\n",
       "1944.0    0.441773\n",
       "1945.0    0.378885\n",
       "1946.0    0.970811\n",
       "1949.0    0.606020\n",
       "1950.0    0.686754\n",
       "1951.0    0.948318\n",
       "Name: stran, dtype: float64"
      ]
     },
     "execution_count": 93,
     "metadata": {},
     "output_type": "execute_result"
    }
   ],
   "source": [
    "stihando[stihando < 1]"
   ]
  },
  {
   "cell_type": "code",
   "execution_count": 50,
   "id": "7c5fd403-5b76-43b8-93e4-98c0db4a9570",
   "metadata": {},
   "outputs": [
    {
     "data": {
      "text/plain": [
       "rok\n",
       "1930.0    1.149365\n",
       "1936.0    1.033105\n",
       "1937.0    1.075529\n",
       "1947.0    1.177367\n",
       "1948.0    1.071358\n",
       "1952.0    1.048482\n",
       "1953.0    1.258664\n",
       "1954.0    1.305179\n",
       "1955.0    1.236895\n",
       "1956.0    1.217100\n",
       "1957.0    1.084471\n",
       "1958.0    1.224467\n",
       "1959.0    1.303303\n",
       "1960.0    1.285666\n",
       "1961.0    1.272842\n",
       "1962.0    1.299536\n",
       "1963.0    1.396480\n",
       "1964.0    1.373862\n",
       "1965.0    1.210594\n",
       "1966.0    1.316199\n",
       "1967.0    1.262675\n",
       "1968.0    1.163992\n",
       "1969.0    1.132287\n",
       "1970.0    1.149734\n",
       "1971.0    1.221693\n",
       "1972.0    1.226834\n",
       "1973.0    1.212104\n",
       "1974.0    1.251712\n",
       "1975.0    1.343174\n",
       "1976.0    1.327329\n",
       "1977.0    1.315597\n",
       "1978.0    1.327390\n",
       "1979.0    1.343881\n",
       "1980.0    1.400913\n",
       "1981.0    1.357869\n",
       "1982.0    1.341435\n",
       "1983.0    1.334414\n",
       "1984.0    1.449646\n",
       "1985.0    1.360225\n",
       "1986.0    1.377846\n",
       "1987.0    1.376260\n",
       "1988.0    1.425205\n",
       "1989.0    1.493330\n",
       "1990.0    1.412321\n",
       "1991.0    1.482260\n",
       "1992.0    1.897401\n",
       "1993.0    2.194414\n",
       "1994.0    2.464418\n",
       "1995.0    2.739361\n",
       "1996.0    2.884654\n",
       "1997.0    3.152835\n",
       "1998.0    3.125369\n",
       "1999.0    3.473265\n",
       "2000.0    3.572588\n",
       "2001.0    3.628280\n",
       "2002.0    3.868185\n",
       "2003.0    4.048999\n",
       "2004.0    4.204422\n",
       "2005.0    4.328721\n",
       "2006.0    4.512964\n",
       "2007.0    4.628356\n",
       "2008.0    4.822169\n",
       "2009.0    4.748919\n",
       "2010.0    4.806880\n",
       "2011.0    4.880205\n",
       "2012.0    4.705019\n",
       "2013.0    4.837215\n",
       "2014.0    4.819463\n",
       "2015.0    5.143177\n",
       "2016.0    4.960769\n",
       "2017.0    5.128565\n",
       "2018.0    5.357264\n",
       "2019.0    5.156438\n",
       "2020.0    4.867645\n",
       "2021.0    5.043923\n",
       "2022.0    4.957614\n",
       "2023.0    4.544600\n",
       "2024.0    2.416655\n",
       "Name: stran, dtype: float64"
      ]
     },
     "execution_count": 50,
     "metadata": {},
     "output_type": "execute_result"
    }
   ],
   "source": [
    "stihando[stihando >= 1]"
   ]
  },
  {
   "cell_type": "code",
   "execution_count": 51,
   "id": "252279b3-75d8-4aef-b413-da392e8dd2ae",
   "metadata": {},
   "outputs": [
    {
     "data": {
      "text/plain": [
       "rok\n",
       "2008.0    7617\n",
       "2015.0    7462\n",
       "2014.0    7353\n",
       "2018.0    7317\n",
       "2007.0    7311\n",
       "dtype: int64"
      ]
     },
     "execution_count": 51,
     "metadata": {},
     "output_type": "execute_result"
    }
   ],
   "source": [
    "df.groupby(\"rok\").size().nlargest()"
   ]
  },
  {
   "cell_type": "code",
   "execution_count": 52,
   "id": "013ef98b-b30c-4fa2-81d8-fc736ee55706",
   "metadata": {},
   "outputs": [
    {
     "data": {
      "text/plain": [
       "0.45552963694000836"
      ]
     },
     "execution_count": 52,
     "metadata": {},
     "output_type": "execute_result"
    }
   ],
   "source": [
    "7616 / 16719"
   ]
  },
  {
   "cell_type": "code",
   "execution_count": 53,
   "id": "1176798b-714a-48af-b84b-66cdd2a4e956",
   "metadata": {},
   "outputs": [
    {
     "data": {
      "text/plain": [
       "rok\n",
       "2018.0    1407889.0\n",
       "2019.0    1355112.0\n",
       "2015.0    1351627.0\n",
       "2017.0    1347787.0\n",
       "2021.0    1325543.0\n",
       "Name: stran, dtype: float64"
      ]
     },
     "execution_count": 53,
     "metadata": {},
     "output_type": "execute_result"
    }
   ],
   "source": [
    "df.groupby(\"rok\")[\"stran\"].sum().nlargest()"
   ]
  },
  {
   "cell_type": "code",
   "execution_count": 54,
   "id": "e49fbf72-18ca-4c7e-a7cc-84b2416d883c",
   "metadata": {},
   "outputs": [
    {
     "data": {
      "text/plain": [
       "rok\n",
       "1900.0    0.506819\n",
       "1901.0    0.548969\n",
       "1902.0    0.645369\n",
       "1903.0    0.542051\n",
       "1904.0    0.498037\n",
       "1905.0    0.498976\n",
       "1906.0    0.510164\n",
       "1907.0    0.448219\n",
       "1908.0    0.519760\n",
       "1909.0    0.493680\n",
       "1910.0    0.559262\n",
       "1911.0    0.495137\n",
       "1912.0    0.532226\n",
       "1913.0    0.549878\n",
       "1914.0    0.380118\n",
       "1915.0    0.264304\n",
       "1916.0    0.264943\n",
       "1917.0    0.268508\n",
       "1918.0    0.315518\n",
       "1919.0    0.508143\n",
       "1920.0    0.629528\n",
       "1921.0    0.517139\n",
       "1922.0    0.588828\n",
       "1923.0    0.678607\n",
       "1924.0    0.758470\n",
       "1925.0    0.883843\n",
       "1926.0    0.898349\n",
       "1927.0    0.909174\n",
       "1928.0    0.936788\n",
       "1929.0    0.940259\n",
       "1931.0    0.945088\n",
       "1932.0    0.858147\n",
       "1933.0    0.825765\n",
       "1934.0    0.800533\n",
       "1935.0    0.862473\n",
       "1938.0    0.896313\n",
       "1939.0    0.686625\n",
       "1940.0    0.791134\n",
       "1941.0    0.848181\n",
       "1942.0    0.493584\n",
       "1943.0    0.372698\n",
       "1944.0    0.441773\n",
       "1945.0    0.378885\n",
       "1946.0    0.970811\n",
       "1949.0    0.606020\n",
       "1950.0    0.686754\n",
       "1951.0    0.948318\n",
       "Name: stran, dtype: float64"
      ]
     },
     "execution_count": 54,
     "metadata": {},
     "output_type": "execute_result"
    }
   ],
   "source": [
    "stihando[stihando < 1]"
   ]
  },
  {
   "cell_type": "code",
   "execution_count": 55,
   "id": "6cfc4c85-8648-4ead-baff-82127f946ff8",
   "metadata": {},
   "outputs": [
    {
     "data": {
      "text/plain": [
       "rok\n",
       "2018.0    5.357264\n",
       "2019.0    5.156438\n",
       "2015.0    5.143177\n",
       "2017.0    5.128565\n",
       "2021.0    5.043923\n",
       "Name: stran, dtype: float64"
      ]
     },
     "execution_count": 55,
     "metadata": {},
     "output_type": "execute_result"
    }
   ],
   "source": [
    "stihando.nlargest(5)"
   ]
  },
  {
   "cell_type": "code",
   "execution_count": 56,
   "id": "3ec2aeab-29ab-4fda-97be-d7bdcf370c34",
   "metadata": {},
   "outputs": [
    {
     "data": {
      "text/plain": [
       "346.1361111111111"
      ]
     },
     "execution_count": 56,
     "metadata": {},
     "output_type": "execute_result"
    }
   ],
   "source": [
    "365 * stihando[stihando.index == 1951].iloc[0]"
   ]
  },
  {
   "cell_type": "code",
   "execution_count": 57,
   "id": "5a0e8eaa-a804-4fc1-979d-e7ee62140136",
   "metadata": {},
   "outputs": [
    {
     "data": {
      "text/plain": [
       "rok\n",
       "2020.0    402067.0\n",
       "2021.0    465789.0\n",
       "2022.0    458593.0\n",
       "2023.0    438924.0\n",
       "2024.0    279973.0\n",
       "Name: stran, dtype: float64"
      ]
     },
     "execution_count": 57,
     "metadata": {},
     "output_type": "execute_result"
    }
   ],
   "source": [
    "df[df['072_x'].astype(str).str.contains('próza',na=False)].groupby(\"rok\")['stran'].sum().tail()"
   ]
  },
  {
   "cell_type": "code",
   "execution_count": 58,
   "id": "8e586090-ce55-45f3-9fce-f0f918b06196",
   "metadata": {},
   "outputs": [
    {
     "data": {
      "text/plain": [
       "rok\n",
       "2020.0    1.529935\n",
       "2021.0    1.772409\n",
       "2022.0    1.745027\n",
       "2023.0    1.670183\n",
       "2024.0    1.065346\n",
       "Name: stran, dtype: float64"
      ]
     },
     "execution_count": 58,
     "metadata": {},
     "output_type": "execute_result"
    }
   ],
   "source": [
    "df[df['072_x'].astype(str).str.contains('próza',na=False)].groupby(\"rok\")['stran'].sum().tail() / za_rok"
   ]
  },
  {
   "cell_type": "code",
   "execution_count": 59,
   "id": "74180714-8483-447b-9b04-5808b19649f3",
   "metadata": {},
   "outputs": [
    {
     "data": {
      "text/plain": [
       "rok\n",
       "2020.0    1.529935\n",
       "2021.0    1.772409\n",
       "2022.0    1.745027\n",
       "2023.0    1.670183\n",
       "2024.0    1.065346\n",
       "Name: stran, dtype: float64"
      ]
     },
     "execution_count": 59,
     "metadata": {},
     "output_type": "execute_result"
    }
   ],
   "source": [
    "df[df['072_x'].astype(str).str.contains('próza',na=False)].groupby(\"rok\")['stran'].sum().tail() / za_rok"
   ]
  },
  {
   "cell_type": "code",
   "execution_count": 60,
   "id": "f71747e1-0a15-46b6-a27c-f024fdfb8a40",
   "metadata": {},
   "outputs": [
    {
     "data": {
      "text/plain": [
       "rok\n",
       "2020.0    0.313617\n",
       "2021.0    0.311039\n",
       "2022.0    0.272131\n",
       "2023.0    0.231087\n",
       "2024.0    0.296261\n",
       "dtype: float64"
      ]
     },
     "execution_count": 60,
     "metadata": {},
     "output_type": "execute_result"
    }
   ],
   "source": [
    "(df[df['072_x'].astype(str).str.contains('próza',na=False) & (df['cena'].notnull())].groupby(\"rok\").size() / df[df['072_x'].astype(str).str.contains('próza',na=False)].groupby(\"rok\").size()).tail(5)"
   ]
  },
  {
   "cell_type": "code",
   "execution_count": 61,
   "id": "de0f4866-e49d-4e55-9ee1-f73c6fca7601",
   "metadata": {},
   "outputs": [
    {
     "data": {
      "text/plain": [
       "rok\n",
       "2020.0    299.0\n",
       "2021.0    299.0\n",
       "2022.0    349.0\n",
       "2023.0    349.0\n",
       "2024.0    369.0\n",
       "Name: cena, dtype: float64"
      ]
     },
     "execution_count": 61,
     "metadata": {},
     "output_type": "execute_result"
    }
   ],
   "source": [
    "df[df['072_x'].astype(str).str.contains('próza',na=False)].groupby(\"rok\")['cena'].median().tail()"
   ]
  }
 ],
 "metadata": {
  "kernelspec": {
   "display_name": "Python 3 (ipykernel)",
   "language": "python",
   "name": "python3"
  },
  "language_info": {
   "codemirror_mode": {
    "name": "ipython",
    "version": 3
   },
   "file_extension": ".py",
   "mimetype": "text/x-python",
   "name": "python",
   "nbconvert_exporter": "python",
   "pygments_lexer": "ipython3",
   "version": "3.12.3"
  }
 },
 "nbformat": 4,
 "nbformat_minor": 5
}
