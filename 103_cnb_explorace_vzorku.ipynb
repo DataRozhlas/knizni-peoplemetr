{
 "cells": [
  {
   "cell_type": "markdown",
   "id": "d5495d7a-343d-4706-b227-94cdf6411f9e",
   "metadata": {},
   "source": [
    "Tento sešit pomůže s rozsekáním a zkompaktněním kompletní České národní bibliografie."
   ]
  },
  {
   "cell_type": "code",
   "execution_count": 1,
   "id": "2ed79c58-f531-499b-9d1a-dfedae2867f3",
   "metadata": {},
   "outputs": [],
   "source": [
    "import os\n",
    "import re\n",
    "import pandas as pd"
   ]
  },
  {
   "cell_type": "code",
   "execution_count": 3,
   "id": "ae14d365-f16a-4539-b7a4-f7266194f307",
   "metadata": {},
   "outputs": [],
   "source": [
    "pd.set_option('display.max_columns', 1000)"
   ]
  },
  {
   "cell_type": "code",
   "execution_count": 5,
   "id": "a6c83de4-7746-4759-a7cf-5075115dfdd5",
   "metadata": {},
   "outputs": [
    {
     "name": "stderr",
     "output_type": "stream",
     "text": [
      "C:\\Users\\micha\\AppData\\Local\\Temp\\ipykernel_16952\\2051427318.py:1: FutureWarning: The behavior of 'to_datetime' with 'unit' when parsing strings is deprecated. In a future version, strings will be parsed as datetime strings, matching the behavior without a 'unit'. To retain the old behavior, explicitly cast ints or floats to numeric type before calling to_datetime.\n",
      "  sample = pd.read_json(\"data_raw/cnb_sample.json\")\n",
      "C:\\Users\\micha\\AppData\\Local\\Temp\\ipykernel_16952\\2051427318.py:1: FutureWarning: The behavior of 'to_datetime' with 'unit' when parsing strings is deprecated. In a future version, strings will be parsed as datetime strings, matching the behavior without a 'unit'. To retain the old behavior, explicitly cast ints or floats to numeric type before calling to_datetime.\n",
      "  sample = pd.read_json(\"data_raw/cnb_sample.json\")\n",
      "C:\\Users\\micha\\AppData\\Local\\Temp\\ipykernel_16952\\2051427318.py:1: FutureWarning: The behavior of 'to_datetime' with 'unit' when parsing strings is deprecated. In a future version, strings will be parsed as datetime strings, matching the behavior without a 'unit'. To retain the old behavior, explicitly cast ints or floats to numeric type before calling to_datetime.\n",
      "  sample = pd.read_json(\"data_raw/cnb_sample.json\")\n"
     ]
    }
   ],
   "source": [
    "sample = pd.read_json(\"data_raw/cnb_sample.json\")"
   ]
  },
  {
   "cell_type": "code",
   "execution_count": 17,
   "id": "a6616ad4-97df-4a42-a7e9-687d25b15910",
   "metadata": {},
   "outputs": [
    {
     "data": {
      "text/plain": [
       "124000"
      ]
     },
     "execution_count": 17,
     "metadata": {},
     "output_type": "execute_result"
    }
   ],
   "source": [
    "len(sample)"
   ]
  },
  {
   "cell_type": "code",
   "execution_count": 24,
   "id": "c8c3bc73-f8a5-4754-9e60-541454548b04",
   "metadata": {},
   "outputs": [
    {
     "data": {
      "text/plain": [
       "554"
      ]
     },
     "execution_count": 24,
     "metadata": {},
     "output_type": "execute_result"
    }
   ],
   "source": [
    "len(sample.columns.to_list())"
   ]
  },
  {
   "cell_type": "code",
   "execution_count": 6,
   "id": "2fe725e0-036b-409c-b189-8e30d9c1f7db",
   "metadata": {},
   "outputs": [],
   "source": [
    "samp_columns = sorted(sample.columns.to_list())"
   ]
  },
  {
   "cell_type": "code",
   "execution_count": 9,
   "id": "42295692-9dc1-4d4f-920c-977b9212ac50",
   "metadata": {},
   "outputs": [
    {
     "name": "stdout",
     "output_type": "stream",
     "text": [
      "001\n",
      "003\n",
      "005\n",
      "006\n",
      "007\n",
      "008\n",
      "010_a\n",
      "015_a\n",
      "015_z\n",
      "020_a\n",
      "020_c\n",
      "020_q\n",
      "020_z\n",
      "022_a\n",
      "022_ind1\n",
      "022_y\n",
      "022_z\n",
      "024_2\n",
      "024_a\n",
      "024_c\n",
      "024_ind1\n",
      "024_ind2\n",
      "024_q\n",
      "024_z\n",
      "028_a\n",
      "028_b\n",
      "028_ind1\n",
      "028_ind2\n",
      "028_q\n",
      "034_a\n",
      "034_b\n",
      "034_d\n",
      "034_e\n",
      "034_f\n",
      "034_g\n",
      "034_ind1\n",
      "035_a\n",
      "040_9\n",
      "040_a\n",
      "040_b\n",
      "040_c\n",
      "040_d\n",
      "040_e\n",
      "041_a\n",
      "041_b\n",
      "041_d\n",
      "041_e\n",
      "041_f\n",
      "041_g\n",
      "041_h\n",
      "041_ind1\n",
      "041_k\n",
      "043_2\n",
      "043_a\n",
      "043_b\n",
      "044_a\n",
      "045_a\n",
      "047_a\n",
      "048_a\n",
      "048_b\n",
      "072_2\n",
      "072_9\n",
      "072_a\n",
      "072_ind2\n",
      "072_x\n",
      "080_2\n",
      "080_a\n",
      "080_ind1\n",
      "080_x\n",
      "100_4\n",
      "100_7\n",
      "100_a\n",
      "100_b\n",
      "100_c\n",
      "100_d\n",
      "100_ind1\n",
      "100_q\n",
      "110_4\n",
      "110_7\n",
      "110_a\n",
      "110_b\n",
      "110_c\n",
      "110_d\n",
      "110_ind1\n",
      "110_n\n",
      "111_4\n",
      "111_7\n",
      "111_a\n",
      "111_c\n",
      "111_d\n",
      "111_e\n",
      "111_ind1\n",
      "111_n\n",
      "130_7\n",
      "130_a\n",
      "130_d\n",
      "130_ind1\n",
      "130_k\n",
      "130_l\n",
      "130_n\n",
      "130_p\n",
      "130_s\n",
      "210_a\n",
      "210_b\n",
      "210_ind1\n",
      "222_a\n",
      "222_b\n",
      "222_ind2\n",
      "240_7\n",
      "240_a\n",
      "240_f\n",
      "240_g\n",
      "240_ind1\n",
      "240_ind2\n",
      "240_k\n",
      "240_l\n",
      "240_m\n",
      "240_n\n",
      "240_o\n",
      "240_p\n",
      "240_r\n",
      "240_s\n",
      "242_a\n",
      "242_b\n",
      "242_ind1\n",
      "242_ind2\n",
      "242_y\n",
      "245_a\n",
      "245_b\n",
      "245_c\n",
      "245_f\n",
      "245_h\n",
      "245_ind1\n",
      "245_ind2\n",
      "245_n\n",
      "245_p\n",
      "246_a\n",
      "246_b\n",
      "246_f\n",
      "246_i\n",
      "246_ind1\n",
      "246_ind2\n",
      "246_n\n",
      "246_p\n",
      "247_a\n",
      "247_b\n",
      "247_f\n",
      "247_ind1\n",
      "247_ind2\n",
      "247_x\n",
      "250_a\n",
      "250_b\n",
      "254_a\n",
      "255_a\n"
     ]
    },
    {
     "name": "stderr",
     "output_type": "stream",
     "text": [
      "\n",
      "KeyboardInterrupt\n",
      "\n"
     ]
    }
   ],
   "source": [
    "kolik = {}\n",
    "for s in samp_columns:\n",
    "    kolik[s] = sample[s].astype(str).nunique()"
   ]
  },
  {
   "cell_type": "code",
   "execution_count": 11,
   "id": "d3c3bdff-ee20-4d1d-8ba8-df688d827ef0",
   "metadata": {},
   "outputs": [],
   "source": [
    "kolik_s = pd.Series(kolik)"
   ]
  },
  {
   "cell_type": "code",
   "execution_count": 13,
   "id": "89a8aab7-9c1a-4124-9f0b-38a3239fe6f6",
   "metadata": {},
   "outputs": [
    {
     "data": {
      "text/plain": [
       "001      124000\n",
       "015_a    124000\n",
       "245_a    112808\n",
       "005      108496\n",
       "008      104686\n",
       "035_a     87213\n",
       "245_c     85871\n",
       "080_a     67461\n",
       "245_b     52957\n",
       "100_a     49441\n",
       "020_a     47879\n",
       "100_7     45143\n",
       "246_a     22930\n",
       "100_d      7030\n",
       "240_a      6431\n",
       "028_a      5655\n",
       "245_p      5472\n",
       "250_a      4725\n",
       "015_z      4110\n",
       "245_n      3365\n",
       "020_q      2928\n",
       "020_z      2408\n",
       "072_x      2388\n",
       "072_a      2387\n",
       "111_a      2330\n",
       "111_7      2042\n",
       "240_7      1946\n",
       "020_c      1887\n",
       "024_a      1622\n",
       "045_a      1596\n",
       "110_a      1322\n",
       "110_7      1250\n",
       "043_a      1201\n",
       "022_a      1110\n",
       "222_a      1029\n",
       "210_a       889\n",
       "028_b       694\n",
       "041_a       629\n",
       "048_a       580\n",
       "246_i       505\n",
       "dtype: int64"
      ]
     },
     "execution_count": 13,
     "metadata": {},
     "output_type": "execute_result"
    }
   ],
   "source": [
    "kolik_s.nlargest(40)"
   ]
  },
  {
   "cell_type": "code",
   "execution_count": 15,
   "id": "37718493-abbc-40f4-9207-cd563c64cfde",
   "metadata": {},
   "outputs": [
    {
     "data": {
      "text/plain": [
       "003         1\n",
       "010_a       2\n",
       "022_ind1    2\n",
       "024_2       2\n",
       "024_ind2    2\n",
       "040_9       2\n",
       "040_b       2\n",
       "043_2       2\n",
       "080_ind1    2\n",
       "080_x       2\n",
       "130_k       2\n",
       "130_n       2\n",
       "240_f       2\n",
       "240_g       2\n",
       "242_ind2    2\n",
       "242_y       2\n",
       "245_f       2\n",
       "247_x       2\n",
       "034_a       3\n",
       "040_e       3\n",
       "041_f       3\n",
       "041_ind1    3\n",
       "110_ind1    3\n",
       "111_ind1    3\n",
       "130_ind1    3\n",
       "240_ind1    3\n",
       "242_ind1    3\n",
       "245_ind1    3\n",
       "100_ind1    4\n",
       "130_d       4\n",
       "210_ind1    4\n",
       "222_ind2    4\n",
       "240_ind2    4\n",
       "240_o       4\n",
       "242_b       4\n",
       "034_ind1    5\n",
       "111_4       5\n",
       "130_s       5\n",
       "240_s       5\n",
       "247_ind1    6\n",
       "dtype: int64"
      ]
     },
     "execution_count": 15,
     "metadata": {},
     "output_type": "execute_result"
    }
   ],
   "source": [
    "kolik_s.nsmallest(40)"
   ]
  },
  {
   "cell_type": "code",
   "execution_count": 19,
   "id": "09e0e995-577b-4f74-bbeb-ebda08173194",
   "metadata": {},
   "outputs": [],
   "source": [
    "kolik_zere = sample.memory_usage(index=True, deep=True)"
   ]
  },
  {
   "cell_type": "code",
   "execution_count": 20,
   "id": "858847e9-b2e2-4850-9ccf-98d0560de355",
   "metadata": {},
   "outputs": [
    {
     "data": {
      "text/plain": [
       "245_c       18917817\n",
       "245_a       18002454\n",
       "998_a       14756000\n",
       "245_b       14126144\n",
       "072_x       11704101\n",
       "520_a       10822880\n",
       "080_a       10819243\n",
       "008         10794879\n",
       "080_2       10596460\n",
       "500_a        9993700\n",
       "100_a        9531634\n",
       "655_a        9512214\n",
       "260_b        9013196\n",
       "650_a        8615666\n",
       "655_2        8475691\n",
       "655_ind2     8314154\n",
       "650_2        8295066\n",
       "650_ind2     8240846\n",
       "650_ind1     8240536\n",
       "020_q        8239356\n",
       "005          8044521\n",
       "300_a        8003734\n",
       "001          7649002\n",
       "015_a        7564000\n",
       "655_7        7395398\n",
       "650_7        7289374\n",
       "300_c        7203435\n",
       "490_a        7178754\n",
       "830_a        7010225\n",
       "003          6944000\n",
       "260_a        6890512\n",
       "035_a        6859534\n",
       "040_a        6820110\n",
       "700_a        6727787\n",
       "300_b        6584227\n",
       "072_2        6513369\n",
       "856_u        6512177\n",
       "040_b        6447980\n",
       "072_a        6371488\n",
       "246_a        6330305\n",
       "100_7        6316038\n",
       "250_a        6314357\n",
       "964_a        6147654\n",
       "072_9        6121938\n",
       "072_ind2     6082834\n",
       "260_c        6074532\n",
       "100_4        5936276\n",
       "650_z        5836726\n",
       "520_b        5824494\n",
       "007          5768252\n",
       "dtype: int64"
      ]
     },
     "execution_count": 20,
     "metadata": {},
     "output_type": "execute_result"
    }
   ],
   "source": [
    "kolik_zere.nlargest(50)"
   ]
  },
  {
   "cell_type": "code",
   "execution_count": 26,
   "id": "329481bb-3025-46e5-bc78-55877cb2e425",
   "metadata": {},
   "outputs": [
    {
     "name": "stdout",
     "output_type": "stream",
     "text": [
      "<class 'pandas.core.frame.DataFrame'>\n",
      "RangeIndex: 124000 entries, 0 to 123999\n",
      "Columns: 554 entries, 001 to 080_ind1\n",
      "dtypes: float64(28), object(526)\n",
      "memory usage: 2.2 GB\n"
     ]
    }
   ],
   "source": [
    "sample.info(memory_usage='deep')"
   ]
  },
  {
   "cell_type": "code",
   "execution_count": 27,
   "id": "9d1033e0-de50-406a-96a5-4ec018bead3c",
   "metadata": {},
   "outputs": [],
   "source": [
    "unikatni = {}\n",
    "for c in sample.columns:\n",
    "    unikatni[c] = sample[[c]].explode(c)[c].nunique()\n",
    "unikatni = pd.Series(unikatni)"
   ]
  },
  {
   "cell_type": "code",
   "execution_count": 28,
   "id": "d58f561e-a01b-42a5-b16f-ba161071bdc4",
   "metadata": {},
   "outputs": [],
   "source": [
    "vyplnene = {}\n",
    "for c in sample.columns.to_list():\n",
    "    vyplnene[c] = len(sample[~sample[c].isnull()])\n",
    "vyplnene = pd.Series(vyplnene)"
   ]
  },
  {
   "cell_type": "code",
   "execution_count": 29,
   "id": "e850536c-40d5-4e43-882b-c3fc1ec24cd1",
   "metadata": {},
   "outputs": [
    {
     "data": {
      "text/plain": [
       "001         1.000000\n",
       "003         1.000000\n",
       "008         1.000000\n",
       "015_a       1.000000\n",
       "040_a       1.000000\n",
       "245_a       1.000000\n",
       "998_a       1.000000\n",
       "040_b       0.999992\n",
       "245_ind1    0.999968\n",
       "245_ind2    0.999968\n",
       "005         0.996210\n",
       "300_a       0.989492\n",
       "300_c       0.956306\n",
       "245_c       0.824847\n",
       "080_a       0.820903\n",
       "080_2       0.820903\n",
       "260_a       0.782968\n",
       "260_b       0.782927\n",
       "260_c       0.782161\n",
       "007         0.731774\n",
       "100_ind1    0.723202\n",
       "100_a       0.723202\n",
       "100_4       0.723056\n",
       "655_ind2    0.713927\n",
       "655_a       0.713927\n",
       "655_2       0.713460\n",
       "655_7       0.713395\n",
       "035_a       0.704944\n",
       "100_7       0.668218\n",
       "500_a       0.635508\n",
       "072_ind2    0.622992\n",
       "072_a       0.622992\n",
       "072_x       0.622992\n",
       "072_2       0.622992\n",
       "072_9       0.622992\n",
       "020_q       0.577556\n",
       "100_d       0.549734\n",
       "040_d       0.533516\n",
       "300_b       0.497532\n",
       "650_ind2    0.485427\n",
       "650_a       0.485427\n",
       "650_ind1    0.485371\n",
       "650_2       0.485032\n",
       "650_7       0.484669\n",
       "245_b       0.484016\n",
       "250_a       0.461556\n",
       "020_a       0.386121\n",
       "700_ind1    0.379935\n",
       "700_a       0.379935\n",
       "700_4       0.375839\n",
       "490_ind1    0.351194\n",
       "490_a       0.351194\n",
       "700_7       0.346460\n",
       "830_ind2    0.330573\n",
       "830_a       0.330573\n",
       "040_c       0.311847\n",
       "041_ind1    0.308339\n",
       "041_a       0.296274\n",
       "700_d       0.275815\n",
       "043_a       0.268016\n",
       "dtype: float64"
      ]
     },
     "execution_count": 29,
     "metadata": {},
     "output_type": "execute_result"
    }
   ],
   "source": [
    "(vyplnene / len(sample)).nlargest(60)"
   ]
  },
  {
   "cell_type": "code",
   "execution_count": 30,
   "id": "a9aa694c-e016-4e15-90b4-3d3d63cc11ba",
   "metadata": {},
   "outputs": [
    {
     "data": {
      "text/plain": [
       "001         124000\n",
       "003         124000\n",
       "008         124000\n",
       "015_a       124000\n",
       "040_a       124000\n",
       "245_a       124000\n",
       "998_a       124000\n",
       "040_b       123999\n",
       "245_ind1    123996\n",
       "245_ind2    123996\n",
       "005         123530\n",
       "300_a       122697\n",
       "300_c       118582\n",
       "245_c       102281\n",
       "080_a       101792\n",
       "080_2       101792\n",
       "260_a        97088\n",
       "260_b        97083\n",
       "260_c        96988\n",
       "007          90740\n",
       "100_ind1     89677\n",
       "100_a        89677\n",
       "100_4        89659\n",
       "655_ind2     88527\n",
       "655_a        88527\n",
       "655_2        88469\n",
       "655_7        88461\n",
       "035_a        87413\n",
       "100_7        82859\n",
       "500_a        78803\n",
       "072_ind2     77251\n",
       "072_a        77251\n",
       "072_x        77251\n",
       "072_2        77251\n",
       "072_9        77251\n",
       "020_q        71617\n",
       "100_d        68167\n",
       "040_d        66156\n",
       "300_b        61694\n",
       "650_ind2     60193\n",
       "650_a        60193\n",
       "650_ind1     60186\n",
       "650_2        60144\n",
       "650_7        60099\n",
       "245_b        60018\n",
       "250_a        57233\n",
       "020_a        47879\n",
       "700_ind1     47112\n",
       "700_a        47112\n",
       "700_4        46604\n",
       "490_ind1     43548\n",
       "490_a        43548\n",
       "700_7        42961\n",
       "830_ind2     40991\n",
       "830_a        40991\n",
       "040_c        38669\n",
       "041_ind1     38234\n",
       "041_a        36738\n",
       "700_d        34201\n",
       "043_a        33234\n",
       "dtype: int64"
      ]
     },
     "execution_count": 30,
     "metadata": {},
     "output_type": "execute_result"
    }
   ],
   "source": [
    "vyplnene.nlargest(60)"
   ]
  },
  {
   "cell_type": "code",
   "execution_count": 31,
   "id": "aa8dd70b-3b3a-42c1-ab2f-c627e4dca32d",
   "metadata": {},
   "outputs": [
    {
     "data": {
      "text/plain": [
       "600_x       1\n",
       "770_z       1\n",
       "785_b       1\n",
       "245_f       1\n",
       "776_n       1\n",
       "856_x       1\n",
       "600_l       1\n",
       "787_r       1\n",
       "787_o       1\n",
       "080_x       1\n",
       "830_x       1\n",
       "700_6       1\n",
       "830_d       1\n",
       "787_n       1\n",
       "655_ind1    1\n",
       "610_z       1\n",
       "611_e       1\n",
       "506_a       1\n",
       "700_s       1\n",
       "780_i       1\n",
       "dtype: int64"
      ]
     },
     "execution_count": 31,
     "metadata": {},
     "output_type": "execute_result"
    }
   ],
   "source": [
    "vyplnene.nsmallest(20)"
   ]
  },
  {
   "cell_type": "code",
   "execution_count": 33,
   "id": "be0c446d-e579-45f2-963f-c7e2e834ced7",
   "metadata": {},
   "outputs": [
    {
     "data": {
      "text/plain": [
       "001      1.000000\n",
       "015_a    1.000000\n",
       "998_a    1.000000\n",
       "245_a    0.909742\n",
       "005      0.874968\n",
       "008      0.844242\n",
       "035_a    0.723758\n",
       "245_c    0.692500\n",
       "245_b    0.427065\n",
       "500_a    0.412234\n",
       "dtype: float64"
      ]
     },
     "execution_count": 33,
     "metadata": {},
     "output_type": "execute_result"
    }
   ],
   "source": [
    "(unikatni / len(sample)).nlargest(10)"
   ]
  },
  {
   "cell_type": "code",
   "execution_count": 34,
   "id": "07c18c2f-8d79-46e3-af3e-b0c7ef7edf23",
   "metadata": {},
   "outputs": [
    {
     "data": {
      "text/plain": [
       "003         1\n",
       "040_b       1\n",
       "080_2       3\n",
       "100_ind1    3\n",
       "245_ind1    2\n",
       "           ..\n",
       "562_b       4\n",
       "546_b       3\n",
       "730_i       1\n",
       "507_a       1\n",
       "080_ind1    1\n",
       "Length: 211, dtype: int64"
      ]
     },
     "execution_count": 34,
     "metadata": {},
     "output_type": "execute_result"
    }
   ],
   "source": [
    "unikatni[unikatni < 5]"
   ]
  },
  {
   "cell_type": "code",
   "execution_count": 35,
   "id": "3c9e180b-a271-4755-8d5b-76f0f14a695a",
   "metadata": {},
   "outputs": [
    {
     "data": {
      "text/plain": [
       "003         0.000008\n",
       "040_b       0.000008\n",
       "856_ind1    0.000008\n",
       "650_ind1    0.000008\n",
       "040_e       0.000008\n",
       "336_2       0.000008\n",
       "337_2       0.000008\n",
       "338_2       0.000008\n",
       "740_ind2    0.000008\n",
       "856_4       0.000008\n",
       "dtype: float64"
      ]
     },
     "execution_count": 35,
     "metadata": {},
     "output_type": "execute_result"
    }
   ],
   "source": [
    "(unikatni / len(sample)).nsmallest(10)"
   ]
  }
 ],
 "metadata": {
  "kernelspec": {
   "display_name": "Python 3 (ipykernel)",
   "language": "python",
   "name": "python3"
  },
  "language_info": {
   "codemirror_mode": {
    "name": "ipython",
    "version": 3
   },
   "file_extension": ".py",
   "mimetype": "text/x-python",
   "name": "python",
   "nbconvert_exporter": "python",
   "pygments_lexer": "ipython3",
   "version": "3.12.4"
  }
 },
 "nbformat": 4,
 "nbformat_minor": 5
}
