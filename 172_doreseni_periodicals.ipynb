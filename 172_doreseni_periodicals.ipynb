{
 "cells": [
  {
   "cell_type": "code",
   "execution_count": 1,
   "id": "3ad16630-4c8f-4ff7-a73d-3493df76e40f",
   "metadata": {},
   "outputs": [],
   "source": [
    "import os\n",
    "import polars as pl\n",
    "\n",
    "df = pl.read_parquet(os.path.join(\"data\",\"cnb_vyber.parquet\"))"
   ]
  },
  {
   "cell_type": "code",
   "execution_count": 7,
   "id": "d5e32aa5-2daf-4542-8969-e1e681d5e9bb",
   "metadata": {},
   "outputs": [
    {
     "data": {
      "text/html": [
       "<div><style>\n",
       ".dataframe > thead > tr,\n",
       ".dataframe > tbody > tr {\n",
       "  text-align: right;\n",
       "  white-space: pre-wrap;\n",
       "}\n",
       "</style>\n",
       "<small>shape: (50, 1)</small><table border=\"1\" class=\"dataframe\"><thead><tr><th>490_a</th></tr><tr><td>list[str]</td></tr></thead><tbody><tr><td>null</td></tr><tr><td>null</td></tr><tr><td>null</td></tr><tr><td>[&quot;Učebnice odborných a středních odborných škol&quot;]</td></tr><tr><td>[&quot;Turistický průvodce Rother&quot;]</td></tr><tr><td>&hellip;</td></tr><tr><td>null</td></tr><tr><td>[&quot;Učební texty vysokých škol / Universita 17. listopadu v Praze. Fak. jazykové a odborné přípravy&quot;]</td></tr><tr><td>null</td></tr><tr><td>null</td></tr><tr><td>[&quot;Knihovnička Večerů pod lampou. Dr. Norden ;&quot;]</td></tr></tbody></table></div>"
      ],
      "text/plain": [
       "shape: (50, 1)\n",
       "┌─────────────────────────────────┐\n",
       "│ 490_a                           │\n",
       "│ ---                             │\n",
       "│ list[str]                       │\n",
       "╞═════════════════════════════════╡\n",
       "│ null                            │\n",
       "│ null                            │\n",
       "│ null                            │\n",
       "│ [\"Učebnice odborných a střední… │\n",
       "│ [\"Turistický průvodce Rother\"]  │\n",
       "│ …                               │\n",
       "│ null                            │\n",
       "│ [\"Učební texty vysokých škol /… │\n",
       "│ null                            │\n",
       "│ null                            │\n",
       "│ [\"Knihovnička Večerů pod lampo… │\n",
       "└─────────────────────────────────┘"
      ]
     },
     "execution_count": 7,
     "metadata": {},
     "output_type": "execute_result"
    }
   ],
   "source": [
    "df.select(pl.col(\"490_a\")).sample(50)"
   ]
  },
  {
   "cell_type": "code",
   "execution_count": 3,
   "id": "485974b4-c4e0-4d43-b83a-0471c6ac9224",
   "metadata": {},
   "outputs": [
    {
     "data": {
      "text/plain": [
       "['008',\n",
       " '020_a',\n",
       " '020_c',\n",
       " '020_q',\n",
       " '041_a',\n",
       " '041_h',\n",
       " '041_ind1',\n",
       " '044_a',\n",
       " '072_a',\n",
       " '072_x',\n",
       " '080_a',\n",
       " '100_4',\n",
       " '100_7',\n",
       " '100_a',\n",
       " '100_d',\n",
       " '240_l',\n",
       " '245_a',\n",
       " '245_c',\n",
       " '245_n',\n",
       " '245_p',\n",
       " '246_a',\n",
       " '250_a',\n",
       " '250_b',\n",
       " '260_a',\n",
       " '260_b',\n",
       " '260_c',\n",
       " '260_e',\n",
       " '260_f',\n",
       " '260_ind1',\n",
       " '264_a',\n",
       " '264_b',\n",
       " '264_c',\n",
       " '264_ind2',\n",
       " '300_a',\n",
       " '300_b',\n",
       " '300_c',\n",
       " '490_a',\n",
       " '490_v',\n",
       " '500_a',\n",
       " '521_a',\n",
       " '546_a',\n",
       " '648_a',\n",
       " '650_a',\n",
       " '650_x',\n",
       " '650_y',\n",
       " '650_z',\n",
       " '651_a',\n",
       " '653_a',\n",
       " '655_a',\n",
       " '700_4',\n",
       " '700_7',\n",
       " '700_a',\n",
       " '700_d',\n",
       " '710_4',\n",
       " '710_7',\n",
       " '710_a',\n",
       " '710_b',\n",
       " '830_a',\n",
       " '928_a',\n",
       " '964_a',\n",
       " 'leader',\n",
       " '001']"
      ]
     },
     "execution_count": 3,
     "metadata": {},
     "output_type": "execute_result"
    }
   ],
   "source": [
    "df.columns"
   ]
  }
 ],
 "metadata": {
  "kernelspec": {
   "display_name": "Python 3 (ipykernel)",
   "language": "python",
   "name": "python3"
  },
  "language_info": {
   "codemirror_mode": {
    "name": "ipython",
    "version": 3
   },
   "file_extension": ".py",
   "mimetype": "text/x-python",
   "name": "python",
   "nbconvert_exporter": "python",
   "pygments_lexer": "ipython3",
   "version": "3.12.3"
  }
 },
 "nbformat": 4,
 "nbformat_minor": 5
}
