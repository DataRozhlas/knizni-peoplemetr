{
 "cells": [
  {
   "cell_type": "code",
   "execution_count": 1,
   "id": "5d935d6f-22f4-42d8-91ed-6f6f6c0f45eb",
   "metadata": {},
   "outputs": [],
   "source": [
    "import os\n",
    "import json\n",
    "import datetime\n",
    "import warnings\n",
    "import polars as pl\n",
    "import pandas as pd\n",
    "import altair as alt\n",
    "\n",
    "from src.najdi_rok import najdi_rok\n",
    "from src.pocet_stran import pocet_stran\n",
    "from src.bez_bordelu import bez_bordelu\n",
    "from src.alt_friendly import alt_friendly\n",
    "from src.hezke_jmeno import hezke_jmeno\n",
    "from src.kristi_promin import kristi_promin\n",
    "from src.zjisti_vazbu import zjisti_vazbu\n",
    "from src.me_to_neurazi import me_to_neurazi\n",
    "\n",
    "with open(os.path.join('src','kredity.json'), 'r', encoding='utf-8') as kredity:\n",
    "    kredity = json.loads(kredity.read())\n",
    "\n",
    "pl.Config(tbl_rows=100)\n",
    "alt.data_transformers.disable_max_rows()\n",
    "alt.themes.register('irozhlas', kristi_promin)\n",
    "alt.themes.enable('irozhlas')\n",
    "warnings.filterwarnings('ignore')"
   ]
  },
  {
   "cell_type": "code",
   "execution_count": 17,
   "id": "623e0085-f5b4-4f73-8d21-a6902f8e6f9f",
   "metadata": {},
   "outputs": [],
   "source": [
    "df = pl.read_parquet(os.path.join(\"data/cnb_sloupce\",\"leader.parquet\"))\n",
    "df = df.join(pl.read_parquet(os.path.join(\"data/cnb_sloupce\",\"008.parquet\")), left_on=\"001\", right_on=\"001\", how=\"outer\")\n",
    "df = df.with_columns(pl.col('008').map_elements(najdi_rok, return_dtype=int).alias('rok'))"
   ]
  },
  {
   "cell_type": "code",
   "execution_count": 21,
   "id": "85991b94-e211-4fa3-9692-016423805d43",
   "metadata": {},
   "outputs": [
    {
     "data": {
      "text/plain": [
       "1250624"
      ]
     },
     "execution_count": 21,
     "metadata": {},
     "output_type": "execute_result"
    }
   ],
   "source": [
    "len(df)"
   ]
  },
  {
   "cell_type": "code",
   "execution_count": 23,
   "id": "fd4aca7b-1251-4339-a72a-13d78cf60e47",
   "metadata": {},
   "outputs": [
    {
     "data": {
      "text/plain": [
       "1215703"
      ]
     },
     "execution_count": 23,
     "metadata": {},
     "output_type": "execute_result"
    }
   ],
   "source": [
    "len(df.filter(pl.col(\"rok\").is_not_null()))"
   ]
  },
  {
   "cell_type": "code",
   "execution_count": 25,
   "id": "9871e027-f872-40c0-983d-db64518e11e2",
   "metadata": {},
   "outputs": [
    {
     "data": {
      "text/plain": [
       "0.9720771390921652"
      ]
     },
     "execution_count": 25,
     "metadata": {},
     "output_type": "execute_result"
    }
   ],
   "source": [
    "len(df.filter(pl.col(\"rok\").is_not_null())) / len(df)"
   ]
  },
  {
   "cell_type": "code",
   "execution_count": 30,
   "id": "a93066e6-ab50-411d-96d9-dfcfc1e8deb4",
   "metadata": {},
   "outputs": [],
   "source": [
    "panda = df.to_pandas()"
   ]
  },
  {
   "cell_type": "code",
   "execution_count": 39,
   "id": "d8d4a00b-26a6-4b3e-9773-f880e702729e",
   "metadata": {},
   "outputs": [
    {
     "name": "stdout",
     "output_type": "stream",
     "text": [
      "1044144\n",
      "995609\n",
      "995609\n",
      "893355\n"
     ]
    }
   ],
   "source": [
    "panda = df.to_pandas()\n",
    "panda = panda[panda[\"leader\"].str[6].isin([\"a\", \"t\"])]\n",
    "print(len(panda))\n",
    "panda = panda[~panda[\"leader\"].str[7].isin([\"b\", \"i\", \"s\", \" \"])]\n",
    "print(len(panda))\n",
    "panda = panda[(panda[\"008\"].str[15:17] == \"xr\")]\n",
    "print(len(panda))\n",
    "panda = panda[(panda[\"008\"].str[35:38] == \"cze\")]\n",
    "print(len(panda))"
   ]
  },
  {
   "cell_type": "code",
   "execution_count": 35,
   "id": "61c3cd2e-53ae-478e-b2c0-8c3f40656ab4",
   "metadata": {},
   "outputs": [
    {
     "data": {
      "text/plain": [
       "0.8348984187093803"
      ]
     },
     "execution_count": 35,
     "metadata": {},
     "output_type": "execute_result"
    }
   ],
   "source": [
    "1044144 / 1250624 "
   ]
  },
  {
   "cell_type": "code",
   "execution_count": 37,
   "id": "14a52fa3-5185-4a81-ad2a-57aa1fc10c61",
   "metadata": {},
   "outputs": [
    {
     "data": {
      "text/plain": [
       "0.7960897919758456"
      ]
     },
     "execution_count": 37,
     "metadata": {},
     "output_type": "execute_result"
    }
   ],
   "source": [
    "995609 / 1250624 "
   ]
  },
  {
   "cell_type": "code",
   "execution_count": 41,
   "id": "d32198cb-06ae-4cd1-bb2d-c944dab19a87",
   "metadata": {},
   "outputs": [
    {
     "data": {
      "text/plain": [
       "0.7143274077580472"
      ]
     },
     "execution_count": 41,
     "metadata": {},
     "output_type": "execute_result"
    }
   ],
   "source": [
    "893355 / 1250624 "
   ]
  },
  {
   "cell_type": "code",
   "execution_count": 43,
   "id": "96de252a-0eed-46f5-9a2c-754edcee99a1",
   "metadata": {},
   "outputs": [],
   "source": [
    "zpanda = pl.from_pandas(panda)"
   ]
  },
  {
   "cell_type": "code",
   "execution_count": 45,
   "id": "a3f5565d-a5e2-4712-a465-6eb77c251399",
   "metadata": {},
   "outputs": [
    {
     "data": {
      "text/plain": [
       "893355"
      ]
     },
     "execution_count": 45,
     "metadata": {},
     "output_type": "execute_result"
    }
   ],
   "source": [
    "len(zpanda)"
   ]
  },
  {
   "cell_type": "code",
   "execution_count": 47,
   "id": "fec56386-1b8e-4390-b146-e636fcc1bf2e",
   "metadata": {},
   "outputs": [
    {
     "data": {
      "text/plain": [
       "884197"
      ]
     },
     "execution_count": 47,
     "metadata": {},
     "output_type": "execute_result"
    }
   ],
   "source": [
    "len(zpanda.filter(pl.col(\"rok\").is_not_null()))"
   ]
  },
  {
   "cell_type": "code",
   "execution_count": 53,
   "id": "668a88fa-b2cf-46a8-982e-6ac058bc4eac",
   "metadata": {},
   "outputs": [
    {
     "data": {
      "text/plain": [
       "0.7070046632720945"
      ]
     },
     "execution_count": 53,
     "metadata": {},
     "output_type": "execute_result"
    }
   ],
   "source": [
    "884197 / 1250624"
   ]
  },
  {
   "cell_type": "code",
   "execution_count": 57,
   "id": "2579b533-30fc-4b8a-8448-dee015d60ef6",
   "metadata": {},
   "outputs": [],
   "source": [
    "aut = pl.read_parquet(os.path.join(\"data\",\"aut_vyber.parquet\"))"
   ]
  },
  {
   "cell_type": "code",
   "execution_count": 71,
   "id": "cf29ce5d-577f-4ba3-849c-1cc3f88722d1",
   "metadata": {},
   "outputs": [
    {
     "data": {
      "text/plain": [
       "(1224571, 34)"
      ]
     },
     "execution_count": 71,
     "metadata": {},
     "output_type": "execute_result"
    }
   ],
   "source": [
    "aut.shape"
   ]
  },
  {
   "cell_type": "code",
   "execution_count": 75,
   "id": "3736bd69-0253-4156-954a-4e7cb22e09c2",
   "metadata": {},
   "outputs": [
    {
     "data": {
      "text/plain": [
       "(952206, 34)"
      ]
     },
     "execution_count": 75,
     "metadata": {},
     "output_type": "execute_result"
    }
   ],
   "source": [
    "aut.explode(\"100_7\").unique(subset=[\"100_7\"],keep='first').shape"
   ]
  },
  {
   "cell_type": "code",
   "execution_count": 77,
   "id": "07656850-3ab7-4900-bd07-c16762a81077",
   "metadata": {},
   "outputs": [
    {
     "data": {
      "text/html": [
       "<div><style>\n",
       ".dataframe > thead > tr,\n",
       ".dataframe > tbody > tr {\n",
       "  text-align: right;\n",
       "  white-space: pre-wrap;\n",
       "}\n",
       "</style>\n",
       "<small>shape: (618, 2)</small><table border=\"1\" class=\"dataframe\"><thead><tr><th>370_c</th><th>len</th></tr><tr><td>str</td><td>u32</td></tr></thead><tbody><tr><td>null</td><td>395286</td></tr><tr><td>&quot;Česko&quot;</td><td>267209</td></tr><tr><td>&quot;Spojené státy americké&quot;</td><td>66250</td></tr><tr><td>&quot;Německo&quot;</td><td>52098</td></tr><tr><td>&quot;Velká Británie&quot;</td><td>32350</td></tr><tr><td>&quot;Francie&quot;</td><td>20333</td></tr><tr><td>&quot;Polsko&quot;</td><td>19250</td></tr><tr><td>&quot;Rusko&quot;</td><td>17220</td></tr><tr><td>&quot;Slovensko&quot;</td><td>14627</td></tr><tr><td>&quot;Itálie&quot;</td><td>12984</td></tr><tr><td>&quot;Rakousko&quot;</td><td>9887</td></tr><tr><td>&quot;Kanada&quot;</td><td>6968</td></tr><tr><td>&quot;Španělsko&quot;</td><td>6757</td></tr><tr><td>&quot;Švýcarsko&quot;</td><td>5992</td></tr><tr><td>&quot;Nizozemsko&quot;</td><td>5371</td></tr><tr><td>&quot;Ukrajina&quot;</td><td>4991</td></tr><tr><td>&quot;Austrálie&quot;</td><td>4688</td></tr><tr><td>&quot;Belgie&quot;</td><td>3581</td></tr><tr><td>&quot;Maďarsko&quot;</td><td>3510</td></tr><tr><td>&quot;Švédsko&quot;</td><td>3327</td></tr><tr><td>&quot;Srbsko&quot;</td><td>3023</td></tr><tr><td>&quot;Indie&quot;</td><td>2674</td></tr><tr><td>&quot;Chorvatsko&quot;</td><td>2593</td></tr><tr><td>&quot;Čína&quot;</td><td>2391</td></tr><tr><td>&quot;Japonsko&quot;</td><td>2235</td></tr><tr><td>&quot;Izrael&quot;</td><td>2098</td></tr><tr><td>&quot;Dánsko&quot;</td><td>1954</td></tr><tr><td>&quot;Bulharsko&quot;</td><td>1941</td></tr><tr><td>&quot;Rumunsko&quot;</td><td>1931</td></tr><tr><td>&quot;Finsko&quot;</td><td>1753</td></tr><tr><td>&quot;Slovinsko&quot;</td><td>1731</td></tr><tr><td>&quot;Norsko&quot;</td><td>1507</td></tr><tr><td>&quot;Portugalsko&quot;</td><td>1442</td></tr><tr><td>&quot;Irsko&quot;</td><td>1434</td></tr><tr><td>&quot;Bělorusko&quot;</td><td>1421</td></tr><tr><td>&quot;Brazílie&quot;</td><td>1322</td></tr><tr><td>&quot;Řecko&quot;</td><td>1021</td></tr><tr><td>&quot;Mexiko&quot;</td><td>1017</td></tr><tr><td>&quot;Argentina&quot;</td><td>942</td></tr><tr><td>&quot;Nový Zéland&quot;</td><td>881</td></tr><tr><td>&quot;Bosna a Hercegovina&quot;</td><td>823</td></tr><tr><td>&quot;Jihoafrická republika&quot;</td><td>789</td></tr><tr><td>&quot;Turecko&quot;</td><td>725</td></tr><tr><td>&quot;Litva&quot;</td><td>599</td></tr><tr><td>&quot;Makedonie&quot;</td><td>531</td></tr><tr><td>&quot;Korejská republika&quot;</td><td>483</td></tr><tr><td>&quot;Estonsko&quot;</td><td>457</td></tr><tr><td>&quot;Lotyšsko&quot;</td><td>455</td></tr><tr><td>&quot;Černá Hora&quot;</td><td>443</td></tr><tr><td>&quot;Anglie&quot;</td><td>429</td></tr><tr><td>&hellip;</td><td>&hellip;</td></tr><tr><td>&quot;Kurdistán&quot;</td><td>1</td></tr><tr><td>&quot;Darmstadt, Německo&quot;</td><td>1</td></tr><tr><td>&quot;Spojené státy Americké&quot;</td><td>1</td></tr><tr><td>&quot;Vanuatu&quot;</td><td>1</td></tr><tr><td>&quot;Spojené stáy americké&quot;</td><td>1</td></tr><tr><td>&quot;Nové Mexiko&quot;</td><td>1</td></tr><tr><td>&quot;Sicílie, Itálie&quot;</td><td>1</td></tr><tr><td>&quot;Jindřichův Hradec, Česko&quot;</td><td>1</td></tr><tr><td>&quot;Leiden, Nizozemsko&quot;</td><td>1</td></tr><tr><td>&quot;Švábsko, Německo&quot;</td><td>1</td></tr><tr><td>&quot;Horní Slezsko&quot;</td><td>1</td></tr><tr><td>&quot;Evropa&quot;</td><td>1</td></tr><tr><td>&quot;Kingston, Ontario&quot;</td><td>1</td></tr><tr><td>&quot;Lesotho&quot;</td><td>1</td></tr><tr><td>&quot;Makedonie, region&quot;</td><td>1</td></tr><tr><td>&quot;Velká Británie režisé&quot;</td><td>1</td></tr><tr><td>&quot;Hercegovina&quot;</td><td>1</td></tr><tr><td>&quot;LC (Names), cit. 15. 2. 2024&quot;</td><td>1</td></tr><tr><td>&quot;Tahiti, Francouzská Polynésie&quot;</td><td>1</td></tr><tr><td>&quot;Velká Británie,&quot;</td><td>1</td></tr><tr><td>&quot;Spojené státa amrické&quot;</td><td>1</td></tr><tr><td>&quot;Nižbor, Česko&quot;</td><td>1</td></tr><tr><td>&quot;Gran Canaria, Kanárské ostrovy&quot;</td><td>1</td></tr><tr><td>&quot;Británie, provincie&quot;</td><td>1</td></tr><tr><td>&quot;Rumusko&quot;</td><td>1</td></tr><tr><td>&quot;Horní Dvořiště, Česko&quot;</td><td>1</td></tr><tr><td>&quot;Tchajwan&quot;</td><td>1</td></tr><tr><td>&quot;Maledivy&quot;</td><td>1</td></tr><tr><td>&quot;Brlgie&quot;</td><td>1</td></tr><tr><td>&quot;Spojené státy americké, severo…</td><td>1</td></tr><tr><td>&quot;Karibská oblast&quot;</td><td>1</td></tr><tr><td>&quot;Alexandrie, Egypt&quot;</td><td>1</td></tr><tr><td>&quot;Hradec Králové, Česko&quot;</td><td>1</td></tr><tr><td>&quot;Rakousko, 1526-1804&quot;</td><td>1</td></tr><tr><td>&quot;Gibraltar&quot;</td><td>1</td></tr><tr><td>&quot;Velká Briránie&quot;</td><td>1</td></tr><tr><td>&quot;Horní Rakousko, Rakousko&quot;</td><td>1</td></tr><tr><td>&quot;Afgánistán&quot;</td><td>1</td></tr><tr><td>&quot;Pakistán&quot;</td><td>1</td></tr><tr><td>&quot;Makedonie, Bulharsko&quot;</td><td>1</td></tr><tr><td>&quot;Osmanská říše&quot;</td><td>1</td></tr><tr><td>&quot;Colorado&quot;</td><td>1</td></tr><tr><td>&quot;Hora Svaté Kateřiny, Česko&quot;</td><td>1</td></tr><tr><td>&quot;Tenerife, Kanárské ostrovy&quot;</td><td>1</td></tr><tr><td>&quot;Pečky, Česko&quot;</td><td>1</td></tr><tr><td>&quot;Belorusko&quot;</td><td>1</td></tr><tr><td>&quot;Morelos, Mexiko&quot;</td><td>1</td></tr><tr><td>&quot;slovensko&quot;</td><td>1</td></tr><tr><td>&quot;Capodimonte, Viterbo, Itálie&quot;</td><td>1</td></tr><tr><td>&quot;Skalice, Hradec Králové, Česko&quot;</td><td>1</td></tr></tbody></table></div>"
      ],
      "text/plain": [
       "shape: (618, 2)\n",
       "┌─────────────────────────────────┬────────┐\n",
       "│ 370_c                           ┆ len    │\n",
       "│ ---                             ┆ ---    │\n",
       "│ str                             ┆ u32    │\n",
       "╞═════════════════════════════════╪════════╡\n",
       "│ null                            ┆ 395286 │\n",
       "│ Česko                           ┆ 267209 │\n",
       "│ Spojené státy americké          ┆ 66250  │\n",
       "│ Německo                         ┆ 52098  │\n",
       "│ Velká Británie                  ┆ 32350  │\n",
       "│ Francie                         ┆ 20333  │\n",
       "│ Polsko                          ┆ 19250  │\n",
       "│ Rusko                           ┆ 17220  │\n",
       "│ Slovensko                       ┆ 14627  │\n",
       "│ Itálie                          ┆ 12984  │\n",
       "│ Rakousko                        ┆ 9887   │\n",
       "│ Kanada                          ┆ 6968   │\n",
       "│ Španělsko                       ┆ 6757   │\n",
       "│ Švýcarsko                       ┆ 5992   │\n",
       "│ Nizozemsko                      ┆ 5371   │\n",
       "│ Ukrajina                        ┆ 4991   │\n",
       "│ Austrálie                       ┆ 4688   │\n",
       "│ Belgie                          ┆ 3581   │\n",
       "│ Maďarsko                        ┆ 3510   │\n",
       "│ Švédsko                         ┆ 3327   │\n",
       "│ Srbsko                          ┆ 3023   │\n",
       "│ Indie                           ┆ 2674   │\n",
       "│ Chorvatsko                      ┆ 2593   │\n",
       "│ Čína                            ┆ 2391   │\n",
       "│ Japonsko                        ┆ 2235   │\n",
       "│ Izrael                          ┆ 2098   │\n",
       "│ Dánsko                          ┆ 1954   │\n",
       "│ Bulharsko                       ┆ 1941   │\n",
       "│ Rumunsko                        ┆ 1931   │\n",
       "│ Finsko                          ┆ 1753   │\n",
       "│ Slovinsko                       ┆ 1731   │\n",
       "│ Norsko                          ┆ 1507   │\n",
       "│ Portugalsko                     ┆ 1442   │\n",
       "│ Irsko                           ┆ 1434   │\n",
       "│ Bělorusko                       ┆ 1421   │\n",
       "│ Brazílie                        ┆ 1322   │\n",
       "│ Řecko                           ┆ 1021   │\n",
       "│ Mexiko                          ┆ 1017   │\n",
       "│ Argentina                       ┆ 942    │\n",
       "│ Nový Zéland                     ┆ 881    │\n",
       "│ Bosna a Hercegovina             ┆ 823    │\n",
       "│ Jihoafrická republika           ┆ 789    │\n",
       "│ Turecko                         ┆ 725    │\n",
       "│ Litva                           ┆ 599    │\n",
       "│ Makedonie                       ┆ 531    │\n",
       "│ Korejská republika              ┆ 483    │\n",
       "│ Estonsko                        ┆ 457    │\n",
       "│ Lotyšsko                        ┆ 455    │\n",
       "│ Černá Hora                      ┆ 443    │\n",
       "│ Anglie                          ┆ 429    │\n",
       "│ …                               ┆ …      │\n",
       "│ Kurdistán                       ┆ 1      │\n",
       "│ Darmstadt, Německo              ┆ 1      │\n",
       "│ Spojené státy Americké          ┆ 1      │\n",
       "│ Vanuatu                         ┆ 1      │\n",
       "│ Spojené stáy americké           ┆ 1      │\n",
       "│ Nové Mexiko                     ┆ 1      │\n",
       "│ Sicílie, Itálie                 ┆ 1      │\n",
       "│ Jindřichův Hradec, Česko        ┆ 1      │\n",
       "│ Leiden, Nizozemsko              ┆ 1      │\n",
       "│ Švábsko, Německo                ┆ 1      │\n",
       "│ Horní Slezsko                   ┆ 1      │\n",
       "│ Evropa                          ┆ 1      │\n",
       "│ Kingston, Ontario               ┆ 1      │\n",
       "│ Lesotho                         ┆ 1      │\n",
       "│ Makedonie, region               ┆ 1      │\n",
       "│ Velká Británie režisé           ┆ 1      │\n",
       "│ Hercegovina                     ┆ 1      │\n",
       "│ LC (Names), cit. 15. 2. 2024    ┆ 1      │\n",
       "│ Tahiti, Francouzská Polynésie   ┆ 1      │\n",
       "│ Velká Británie,                 ┆ 1      │\n",
       "│ Spojené státa amrické           ┆ 1      │\n",
       "│ Nižbor, Česko                   ┆ 1      │\n",
       "│ Gran Canaria, Kanárské ostrovy  ┆ 1      │\n",
       "│ Británie, provincie             ┆ 1      │\n",
       "│ Rumusko                         ┆ 1      │\n",
       "│ Horní Dvořiště, Česko           ┆ 1      │\n",
       "│ Tchajwan                        ┆ 1      │\n",
       "│ Maledivy                        ┆ 1      │\n",
       "│ Brlgie                          ┆ 1      │\n",
       "│ Spojené státy americké, severo… ┆ 1      │\n",
       "│ Karibská oblast                 ┆ 1      │\n",
       "│ Alexandrie, Egypt               ┆ 1      │\n",
       "│ Hradec Králové, Česko           ┆ 1      │\n",
       "│ Rakousko, 1526-1804             ┆ 1      │\n",
       "│ Gibraltar                       ┆ 1      │\n",
       "│ Velká Briránie                  ┆ 1      │\n",
       "│ Horní Rakousko, Rakousko        ┆ 1      │\n",
       "│ Afgánistán                      ┆ 1      │\n",
       "│ Pakistán                        ┆ 1      │\n",
       "│ Makedonie, Bulharsko            ┆ 1      │\n",
       "│ Osmanská říše                   ┆ 1      │\n",
       "│ Colorado                        ┆ 1      │\n",
       "│ Hora Svaté Kateřiny, Česko      ┆ 1      │\n",
       "│ Tenerife, Kanárské ostrovy      ┆ 1      │\n",
       "│ Pečky, Česko                    ┆ 1      │\n",
       "│ Belorusko                       ┆ 1      │\n",
       "│ Morelos, Mexiko                 ┆ 1      │\n",
       "│ slovensko                       ┆ 1      │\n",
       "│ Capodimonte, Viterbo, Itálie    ┆ 1      │\n",
       "│ Skalice, Hradec Králové, Česko  ┆ 1      │\n",
       "└─────────────────────────────────┴────────┘"
      ]
     },
     "execution_count": 77,
     "metadata": {},
     "output_type": "execute_result"
    }
   ],
   "source": [
    "aut_stats = aut.explode(\"100_7\").unique(subset=[\"100_7\"],keep='first').explode(\"370_c\").group_by(\"370_c\").len().sort(by=\"len\",descending=True)\n",
    "aut_stats"
   ]
  },
  {
   "cell_type": "code",
   "execution_count": 81,
   "id": "095ce571-9a51-4d5b-b734-bae158037744",
   "metadata": {},
   "outputs": [
    {
     "data": {
      "text/html": [
       "<div><style>\n",
       ".dataframe > thead > tr,\n",
       ".dataframe > tbody > tr {\n",
       "  text-align: right;\n",
       "  white-space: pre-wrap;\n",
       "}\n",
       "</style>\n",
       "<small>shape: (1, 1)</small><table border=\"1\" class=\"dataframe\"><thead><tr><th>len</th></tr><tr><td>u32</td></tr></thead><tbody><tr><td>342227</td></tr></tbody></table></div>"
      ],
      "text/plain": [
       "shape: (1, 1)\n",
       "┌────────┐\n",
       "│ len    │\n",
       "│ ---    │\n",
       "│ u32    │\n",
       "╞════════╡\n",
       "│ 342227 │\n",
       "└────────┘"
      ]
     },
     "execution_count": 81,
     "metadata": {},
     "output_type": "execute_result"
    }
   ],
   "source": [
    "aut_stats.filter((pl.col(\"370_c\").is_not_null()) & (pl.col('370_c') != \"Česko\")).select(pl.col(\"len\")).sum()"
   ]
  },
  {
   "cell_type": "code",
   "execution_count": null,
   "id": "5cec77d7-2b4b-42fe-a2ce-25b6c36ee93c",
   "metadata": {},
   "outputs": [],
   "source": [
    "aut.explode(\"100_7\").unique(subset=[\"100_7\"],keep='first').shape"
   ]
  },
  {
   "cell_type": "code",
   "execution_count": 69,
   "id": "1fe65ffc-12ac-4989-b3ad-98254c5eef27",
   "metadata": {},
   "outputs": [
    {
     "data": {
      "text/html": [
       "<div><style>\n",
       ".dataframe > thead > tr,\n",
       ".dataframe > tbody > tr {\n",
       "  text-align: right;\n",
       "  white-space: pre-wrap;\n",
       "}\n",
       "</style>\n",
       "<small>shape: (82, 2)</small><table border=\"1\" class=\"dataframe\"><thead><tr><th>370_c</th><th>len</th></tr><tr><td>str</td><td>u32</td></tr></thead><tbody><tr><td>&quot;Česko&quot;</td><td>364083</td></tr><tr><td>&quot;Československo&quot;</td><td>113</td></tr><tr><td>&quot;Praha, Česko&quot;</td><td>43</td></tr><tr><td>&quot;Rožnov pod Radhoštěm, Česko&quot;</td><td>17</td></tr><tr><td>&quot;Polička, Česko&quot;</td><td>16</td></tr><tr><td>&quot;České Budějovice, Česko&quot;</td><td>10</td></tr><tr><td>&quot;České království&quot;</td><td>9</td></tr><tr><td>&quot;Čechy, Česko&quot;</td><td>8</td></tr><tr><td>&quot;Česko, Československo&quot;</td><td>7</td></tr><tr><td>&quot;Brno, Česko&quot;</td><td>6</td></tr><tr><td>&quot;Česká republika&quot;</td><td>6</td></tr><tr><td>&quot;Jihlava, Česko&quot;</td><td>5</td></tr><tr><td>&quot;Olomouc, Česko&quot;</td><td>5</td></tr><tr><td>&quot;Ostrava, Česko&quot;</td><td>4</td></tr><tr><td>&quot;Opava, Česko&quot;</td><td>3</td></tr><tr><td>&quot;Plzeň, Česko&quot;</td><td>3</td></tr><tr><td>&quot;Slovensko, Československo&quot;</td><td>3</td></tr><tr><td>&quot;Lázně Toušeň, Česko&quot;</td><td>3</td></tr><tr><td>&quot;Morava, Česko&quot;</td><td>3</td></tr><tr><td>&quot;Hradec Králové, Česko&quot;</td><td>3</td></tr><tr><td>&quot;(Česko)&quot;</td><td>2</td></tr><tr><td>&quot;Jindřichův Hradec, Česko&quot;</td><td>2</td></tr><tr><td>&quot;Cheb, Česko&quot;</td><td>2</td></tr><tr><td>&quot;Třebíč, Česko&quot;</td><td>2</td></tr><tr><td>&quot;Ústí nad Labem, Česko&quot;</td><td>2</td></tr><tr><td>&quot;Mikulov, Břeclav, Česko&quot;</td><td>2</td></tr><tr><td>&quot;Karlovy Vary, Česko&quot;</td><td>2</td></tr><tr><td>&quot;Česko,&quot;</td><td>2</td></tr><tr><td>&quot;Československé&quot;</td><td>1</td></tr><tr><td>&quot;Horní Blatná, Česko&quot;</td><td>1</td></tr><tr><td>&quot;Mariánské Lázně, Česko&quot;</td><td>1</td></tr><tr><td>&quot;Pečky, Česko&quot;</td><td>1</td></tr><tr><td>&quot;Klášterec nad Ohří, Česko&quot;</td><td>1</td></tr><tr><td>&quot;Česká Lípa, Česko&quot;</td><td>1</td></tr><tr><td>&quot;Sychrov, Liberec, Česko&quot;</td><td>1</td></tr><tr><td>&quot;Frýdek-Místek, Česko&quot;</td><td>1</td></tr><tr><td>&quot;Hejnice, Liberec, Česko&quot;</td><td>1</td></tr><tr><td>&quot;Albeř, Nová Bystřice, Česko&quot;</td><td>1</td></tr><tr><td>&quot;Milíčeves, Slatiny, Česko&quot;</td><td>1</td></tr><tr><td>&quot;Jevišovice, Česko&quot;</td><td>1</td></tr><tr><td>&quot;Nový Bor, Česko&quot;</td><td>1</td></tr><tr><td>&quot;Klatovy, Česko&quot;</td><td>1</td></tr><tr><td>&quot;Velká Bučina, Velvary, Česko&quot;</td><td>1</td></tr><tr><td>&quot;Merklín, Karlovy Vary, Česko&quot;</td><td>1</td></tr><tr><td>&quot;Liblice, Mělník, Česko&quot;</td><td>1</td></tr><tr><td>&quot;Ústí nad Orlicí, Česko&quot;</td><td>1</td></tr><tr><td>&quot;Hora Svaté Kateřiny, Česko&quot;</td><td>1</td></tr><tr><td>&quot;Prostějov, Česko&quot;</td><td>1</td></tr><tr><td>&quot;Sudety, Česko&quot;</td><td>1</td></tr><tr><td>&quot;Horní Dvořiště, Česko&quot;</td><td>1</td></tr><tr><td>&quot;Českoz&quot;</td><td>1</td></tr><tr><td>&quot;Velké Žernoseky, Česko&quot;</td><td>1</td></tr><tr><td>&quot;Svitavy, Česko&quot;</td><td>1</td></tr><tr><td>&quot;Nečtiny, Česko&quot;</td><td>1</td></tr><tr><td>&quot;Broumov, Náchod, Česko&quot;</td><td>1</td></tr><tr><td>&quot;Skalice, Hradec Králové, Česko&quot;</td><td>1</td></tr><tr><td>&quot;Vsetín, Česko&quot;</td><td>1</td></tr><tr><td>&quot;Vídeň, Česko&quot;</td><td>1</td></tr><tr><td>&quot;Zlín, Česko&quot;</td><td>1</td></tr><tr><td>&quot;Přehořov, Tábor, Česko&quot;</td><td>1</td></tr><tr><td>&quot;Aš, Česko&quot;</td><td>1</td></tr><tr><td>&quot;Nižbor, Česko&quot;</td><td>1</td></tr><tr><td>&quot;Krušné hory, Česko a Německo&quot;</td><td>1</td></tr><tr><td>&quot;Černošice, Česko&quot;</td><td>1</td></tr><tr><td>&quot;Přídolí, Česko&quot;</td><td>1</td></tr><tr><td>&quot;Choceň, Česko&quot;</td><td>1</td></tr><tr><td>&quot;Bílovec, Česko&quot;</td><td>1</td></tr><tr><td>&quot;Polná, Jihlava, Česko&quot;</td><td>1</td></tr><tr><td>&quot;Hodonín, Česko&quot;</td><td>1</td></tr><tr><td>&quot;Křtiny, Česko&quot;</td><td>1</td></tr><tr><td>&quot;Liberec, Česko&quot;</td><td>1</td></tr><tr><td>&quot;Nové Město na Moravě, Česko&quot;</td><td>1</td></tr><tr><td>&quot;Česko)&quot;</td><td>1</td></tr><tr><td>&quot;Špindlerův Mlýn, Česko&quot;</td><td>1</td></tr><tr><td>&quot;Přerov, Česko&quot;</td><td>1</td></tr><tr><td>&quot;Teplice, Česko&quot;</td><td>1</td></tr><tr><td>&quot;Týn nad Bečvou, Česko&quot;</td><td>1</td></tr><tr><td>&quot;Uherské Hradiště, Česko&quot;</td><td>1</td></tr><tr><td>&quot;Tábor, Česko&quot;</td><td>1</td></tr><tr><td>&quot;Starý Bydžov, Česko&quot;</td><td>1</td></tr><tr><td>&quot;Bludov, Šumperk, Česko&quot;</td><td>1</td></tr><tr><td>&quot;Čáslav, Kutná Hora, Česko&quot;</td><td>1</td></tr></tbody></table></div>"
      ],
      "text/plain": [
       "shape: (82, 2)\n",
       "┌────────────────────────────────┬────────┐\n",
       "│ 370_c                          ┆ len    │\n",
       "│ ---                            ┆ ---    │\n",
       "│ str                            ┆ u32    │\n",
       "╞════════════════════════════════╪════════╡\n",
       "│ Česko                          ┆ 364083 │\n",
       "│ Československo                 ┆ 113    │\n",
       "│ Praha, Česko                   ┆ 43     │\n",
       "│ Rožnov pod Radhoštěm, Česko    ┆ 17     │\n",
       "│ Polička, Česko                 ┆ 16     │\n",
       "│ České Budějovice, Česko        ┆ 10     │\n",
       "│ České království               ┆ 9      │\n",
       "│ Čechy, Česko                   ┆ 8      │\n",
       "│ Česko, Československo          ┆ 7      │\n",
       "│ Brno, Česko                    ┆ 6      │\n",
       "│ Česká republika                ┆ 6      │\n",
       "│ Jihlava, Česko                 ┆ 5      │\n",
       "│ Olomouc, Česko                 ┆ 5      │\n",
       "│ Ostrava, Česko                 ┆ 4      │\n",
       "│ Opava, Česko                   ┆ 3      │\n",
       "│ Plzeň, Česko                   ┆ 3      │\n",
       "│ Slovensko, Československo      ┆ 3      │\n",
       "│ Lázně Toušeň, Česko            ┆ 3      │\n",
       "│ Morava, Česko                  ┆ 3      │\n",
       "│ Hradec Králové, Česko          ┆ 3      │\n",
       "│ (Česko)                        ┆ 2      │\n",
       "│ Jindřichův Hradec, Česko       ┆ 2      │\n",
       "│ Cheb, Česko                    ┆ 2      │\n",
       "│ Třebíč, Česko                  ┆ 2      │\n",
       "│ Ústí nad Labem, Česko          ┆ 2      │\n",
       "│ Mikulov, Břeclav, Česko        ┆ 2      │\n",
       "│ Karlovy Vary, Česko            ┆ 2      │\n",
       "│ Česko,                         ┆ 2      │\n",
       "│ Československé                 ┆ 1      │\n",
       "│ Horní Blatná, Česko            ┆ 1      │\n",
       "│ Mariánské Lázně, Česko         ┆ 1      │\n",
       "│ Pečky, Česko                   ┆ 1      │\n",
       "│ Klášterec nad Ohří, Česko      ┆ 1      │\n",
       "│ Česká Lípa, Česko              ┆ 1      │\n",
       "│ Sychrov, Liberec, Česko        ┆ 1      │\n",
       "│ Frýdek-Místek, Česko           ┆ 1      │\n",
       "│ Hejnice, Liberec, Česko        ┆ 1      │\n",
       "│ Albeř, Nová Bystřice, Česko    ┆ 1      │\n",
       "│ Milíčeves, Slatiny, Česko      ┆ 1      │\n",
       "│ Jevišovice, Česko              ┆ 1      │\n",
       "│ Nový Bor, Česko                ┆ 1      │\n",
       "│ Klatovy, Česko                 ┆ 1      │\n",
       "│ Velká Bučina, Velvary, Česko   ┆ 1      │\n",
       "│ Merklín, Karlovy Vary, Česko   ┆ 1      │\n",
       "│ Liblice, Mělník, Česko         ┆ 1      │\n",
       "│ Ústí nad Orlicí, Česko         ┆ 1      │\n",
       "│ Hora Svaté Kateřiny, Česko     ┆ 1      │\n",
       "│ Prostějov, Česko               ┆ 1      │\n",
       "│ Sudety, Česko                  ┆ 1      │\n",
       "│ Horní Dvořiště, Česko          ┆ 1      │\n",
       "│ Českoz                         ┆ 1      │\n",
       "│ Velké Žernoseky, Česko         ┆ 1      │\n",
       "│ Svitavy, Česko                 ┆ 1      │\n",
       "│ Nečtiny, Česko                 ┆ 1      │\n",
       "│ Broumov, Náchod, Česko         ┆ 1      │\n",
       "│ Skalice, Hradec Králové, Česko ┆ 1      │\n",
       "│ Vsetín, Česko                  ┆ 1      │\n",
       "│ Vídeň, Česko                   ┆ 1      │\n",
       "│ Zlín, Česko                    ┆ 1      │\n",
       "│ Přehořov, Tábor, Česko         ┆ 1      │\n",
       "│ Aš, Česko                      ┆ 1      │\n",
       "│ Nižbor, Česko                  ┆ 1      │\n",
       "│ Krušné hory, Česko a Německo   ┆ 1      │\n",
       "│ Černošice, Česko               ┆ 1      │\n",
       "│ Přídolí, Česko                 ┆ 1      │\n",
       "│ Choceň, Česko                  ┆ 1      │\n",
       "│ Bílovec, Česko                 ┆ 1      │\n",
       "│ Polná, Jihlava, Česko          ┆ 1      │\n",
       "│ Hodonín, Česko                 ┆ 1      │\n",
       "│ Křtiny, Česko                  ┆ 1      │\n",
       "│ Liberec, Česko                 ┆ 1      │\n",
       "│ Nové Město na Moravě, Česko    ┆ 1      │\n",
       "│ Česko)                         ┆ 1      │\n",
       "│ Špindlerův Mlýn, Česko         ┆ 1      │\n",
       "│ Přerov, Česko                  ┆ 1      │\n",
       "│ Teplice, Česko                 ┆ 1      │\n",
       "│ Týn nad Bečvou, Česko          ┆ 1      │\n",
       "│ Uherské Hradiště, Česko        ┆ 1      │\n",
       "│ Tábor, Česko                   ┆ 1      │\n",
       "│ Starý Bydžov, Česko            ┆ 1      │\n",
       "│ Bludov, Šumperk, Česko         ┆ 1      │\n",
       "│ Čáslav, Kutná Hora, Česko      ┆ 1      │\n",
       "└────────────────────────────────┴────────┘"
      ]
     },
     "execution_count": 69,
     "metadata": {},
     "output_type": "execute_result"
    }
   ],
   "source": [
    "aut.explode(\"370_c\").filter(pl.col(\"370_c\").str.contains(\"Česk\")).group_by(\"370_c\").len().sort(by=\"len\",descending=True)"
   ]
  }
 ],
 "metadata": {
  "kernelspec": {
   "display_name": "Python 3 (ipykernel)",
   "language": "python",
   "name": "python3"
  },
  "language_info": {
   "codemirror_mode": {
    "name": "ipython",
    "version": 3
   },
   "file_extension": ".py",
   "mimetype": "text/x-python",
   "name": "python",
   "nbconvert_exporter": "python",
   "pygments_lexer": "ipython3",
   "version": "3.12.3"
  }
 },
 "nbformat": 4,
 "nbformat_minor": 5
}
