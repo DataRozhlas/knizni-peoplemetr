{
 "cells": [
  {
   "cell_type": "code",
   "execution_count": 1,
   "id": "5d935d6f-22f4-42d8-91ed-6f6f6c0f45eb",
   "metadata": {},
   "outputs": [],
   "source": [
    "import os\n",
    "import json\n",
    "import datetime\n",
    "import warnings\n",
    "import polars as pl\n",
    "import pandas as pd\n",
    "import altair as alt\n",
    "\n",
    "from src.najdi_rok import najdi_rok\n",
    "from src.pocet_stran import pocet_stran\n",
    "from src.bez_bordelu import bez_bordelu\n",
    "from src.alt_friendly import alt_friendly\n",
    "from src.hezke_jmeno import hezke_jmeno\n",
    "from src.kristi_promin import kristi_promin\n",
    "from src.zjisti_vazbu import zjisti_vazbu\n",
    "from src.me_to_neurazi import me_to_neurazi\n",
    "\n",
    "with open(os.path.join('src','kredity.json'), 'r', encoding='utf-8') as kredity:\n",
    "    kredity = json.loads(kredity.read())\n",
    "\n",
    "pl.Config(tbl_rows=100)\n",
    "alt.data_transformers.disable_max_rows()\n",
    "alt.themes.register('irozhlas', kristi_promin)\n",
    "alt.themes.enable('irozhlas')\n",
    "warnings.filterwarnings('ignore')"
   ]
  },
  {
   "cell_type": "code",
   "execution_count": 20,
   "id": "623e0085-f5b4-4f73-8d21-a6902f8e6f9f",
   "metadata": {},
   "outputs": [],
   "source": [
    "df = pl.read_parquet(os.path.join(\"data/cnb_sloupce\",\"leader.parquet\"))\n",
    "df = df.join(pl.read_parquet(os.path.join(\"data/cnb_sloupce\",\"008.parquet\")), left_on=\"001\", right_on=\"001\", how=\"left\")\n",
    "df = df.with_columns(pl.col('008').map_elements(najdi_rok, return_dtype=int).alias('rok'))"
   ]
  },
  {
   "cell_type": "code",
   "execution_count": 22,
   "id": "85991b94-e211-4fa3-9692-016423805d43",
   "metadata": {},
   "outputs": [
    {
     "data": {
      "text/plain": [
       "1250624"
      ]
     },
     "execution_count": 22,
     "metadata": {},
     "output_type": "execute_result"
    }
   ],
   "source": [
    "len(df)"
   ]
  },
  {
   "cell_type": "code",
   "execution_count": 24,
   "id": "fd4aca7b-1251-4339-a72a-13d78cf60e47",
   "metadata": {},
   "outputs": [
    {
     "data": {
      "text/plain": [
       "1215703"
      ]
     },
     "execution_count": 24,
     "metadata": {},
     "output_type": "execute_result"
    }
   ],
   "source": [
    "len(df.filter(pl.col(\"rok\").is_not_null()))"
   ]
  },
  {
   "cell_type": "code",
   "execution_count": 26,
   "id": "9871e027-f872-40c0-983d-db64518e11e2",
   "metadata": {},
   "outputs": [
    {
     "data": {
      "text/plain": [
       "0.9720771390921652"
      ]
     },
     "execution_count": 26,
     "metadata": {},
     "output_type": "execute_result"
    }
   ],
   "source": [
    "len(df.filter(pl.col(\"rok\").is_not_null())) / len(df)"
   ]
  },
  {
   "cell_type": "code",
   "execution_count": 28,
   "id": "a93066e6-ab50-411d-96d9-dfcfc1e8deb4",
   "metadata": {},
   "outputs": [],
   "source": [
    "panda = df.to_pandas()"
   ]
  },
  {
   "cell_type": "code",
   "execution_count": 30,
   "id": "d8d4a00b-26a6-4b3e-9773-f880e702729e",
   "metadata": {},
   "outputs": [
    {
     "name": "stdout",
     "output_type": "stream",
     "text": [
      "1044144\n",
      "995609\n",
      "995609\n",
      "893355\n"
     ]
    }
   ],
   "source": [
    "panda = df.to_pandas()\n",
    "panda = panda[panda[\"leader\"].str[6].isin([\"a\", \"t\"])]\n",
    "print(len(panda))\n",
    "panda = panda[~panda[\"leader\"].str[7].isin([\"b\", \"i\", \"s\", \" \"])]\n",
    "print(len(panda))\n",
    "panda = panda[(panda[\"008\"].str[15:17] == \"xr\")]\n",
    "print(len(panda))\n",
    "panda = panda[(panda[\"008\"].str[35:38] == \"cze\")]\n",
    "print(len(panda))"
   ]
  },
  {
   "cell_type": "code",
   "execution_count": 32,
   "id": "61c3cd2e-53ae-478e-b2c0-8c3f40656ab4",
   "metadata": {},
   "outputs": [
    {
     "data": {
      "text/plain": [
       "0.8348984187093803"
      ]
     },
     "execution_count": 32,
     "metadata": {},
     "output_type": "execute_result"
    }
   ],
   "source": [
    "1044144 / 1250624 "
   ]
  },
  {
   "cell_type": "code",
   "execution_count": 9,
   "id": "14a52fa3-5185-4a81-ad2a-57aa1fc10c61",
   "metadata": {},
   "outputs": [
    {
     "data": {
      "text/plain": [
       "0.7960897919758456"
      ]
     },
     "execution_count": 9,
     "metadata": {},
     "output_type": "execute_result"
    }
   ],
   "source": [
    "995609 / 1250624 "
   ]
  },
  {
   "cell_type": "code",
   "execution_count": 10,
   "id": "d32198cb-06ae-4cd1-bb2d-c944dab19a87",
   "metadata": {},
   "outputs": [
    {
     "data": {
      "text/plain": [
       "0.7143274077580472"
      ]
     },
     "execution_count": 10,
     "metadata": {},
     "output_type": "execute_result"
    }
   ],
   "source": [
    "893355 / 1250624 "
   ]
  },
  {
   "cell_type": "code",
   "execution_count": 34,
   "id": "96de252a-0eed-46f5-9a2c-754edcee99a1",
   "metadata": {},
   "outputs": [],
   "source": [
    "zpanda = pl.from_pandas(panda)"
   ]
  },
  {
   "cell_type": "code",
   "execution_count": 36,
   "id": "a3f5565d-a5e2-4712-a465-6eb77c251399",
   "metadata": {},
   "outputs": [
    {
     "data": {
      "text/plain": [
       "893355"
      ]
     },
     "execution_count": 36,
     "metadata": {},
     "output_type": "execute_result"
    }
   ],
   "source": [
    "len(zpanda)"
   ]
  },
  {
   "cell_type": "code",
   "execution_count": 38,
   "id": "fec56386-1b8e-4390-b146-e636fcc1bf2e",
   "metadata": {},
   "outputs": [
    {
     "data": {
      "text/plain": [
       "884197"
      ]
     },
     "execution_count": 38,
     "metadata": {},
     "output_type": "execute_result"
    }
   ],
   "source": [
    "len(zpanda.filter(pl.col(\"rok\").is_not_null()))"
   ]
  },
  {
   "cell_type": "code",
   "execution_count": 14,
   "id": "668a88fa-b2cf-46a8-982e-6ac058bc4eac",
   "metadata": {},
   "outputs": [
    {
     "data": {
      "text/plain": [
       "0.7070046632720945"
      ]
     },
     "execution_count": 14,
     "metadata": {},
     "output_type": "execute_result"
    }
   ],
   "source": [
    "884197 / 1250624"
   ]
  },
  {
   "cell_type": "code",
   "execution_count": 18,
   "id": "e283884d-da62-41f9-9f7f-f45c8e466524",
   "metadata": {},
   "outputs": [
    {
     "data": {
      "text/html": [
       "<div><style>\n",
       ".dataframe > thead > tr,\n",
       ".dataframe > tbody > tr {\n",
       "  text-align: right;\n",
       "  white-space: pre-wrap;\n",
       "}\n",
       "</style>\n",
       "<small>shape: (10, 5)</small><table border=\"1\" class=\"dataframe\"><thead><tr><th>leader</th><th>001</th><th>008</th><th>001_right</th><th>rok</th></tr><tr><td>str</td><td>str</td><td>str</td><td>str</td><td>f64</td></tr></thead><tbody><tr><td>&quot;     nam a22     1i 4500&quot;</td><td>&quot;bk197301702&quot;</td><td>&quot;970320s1973    xr            0…</td><td>&quot;bk197301702&quot;</td><td>1973.0</td></tr><tr><td>&quot;     nam a22      a 4500&quot;</td><td>&quot;cpk20021179848&quot;</td><td>&quot;021016s2002    xr     e      0…</td><td>&quot;cpk20021179848&quot;</td><td>2002.0</td></tr><tr><td>&quot;     nam a22      i 4500&quot;</td><td>&quot;nkc20182993039&quot;</td><td>&quot;180419s2018    xr a   f f    0…</td><td>&quot;nkc20182993039&quot;</td><td>2018.0</td></tr><tr><td>&quot;     nam a22     1  4500&quot;</td><td>&quot;nos190152085&quot;</td><td>&quot;000619s1924    xr             …</td><td>&quot;nos190152085&quot;</td><td>1924.0</td></tr><tr><td>&quot;     nam a22      i 4500&quot;</td><td>&quot;nkc20193072468&quot;</td><td>&quot;190301s2019    xr     g      0…</td><td>&quot;nkc20193072468&quot;</td><td>2019.0</td></tr><tr><td>&quot;     nam a22      a 4500&quot;</td><td>&quot;nkc20091867455&quot;</td><td>&quot;090409s2009    xr ac  e c    0…</td><td>&quot;nkc20091867455&quot;</td><td>2009.0</td></tr><tr><td>&quot;     nam a22        4500&quot;</td><td>&quot;ck8702873&quot;</td><td>&quot;870811s1987    xr a         u0…</td><td>&quot;ck8702873&quot;</td><td>1987.0</td></tr><tr><td>&quot;     nam a22        4500&quot;</td><td>&quot;np9309475&quot;</td><td>&quot;940418s1992    xr            1…</td><td>&quot;np9309475&quot;</td><td>1992.0</td></tr><tr><td>&quot;     cam a22      a 4500&quot;</td><td>&quot;cpk20041170582&quot;</td><td>&quot;010122s2000    xr a   e      0…</td><td>&quot;cpk20041170582&quot;</td><td>2000.0</td></tr><tr><td>&quot;     nam a22      a 4500&quot;</td><td>&quot;cpk19980354603&quot;</td><td>&quot;980611s1998    xr     e      0…</td><td>&quot;cpk19980354603&quot;</td><td>1998.0</td></tr></tbody></table></div>"
      ],
      "text/plain": [
       "shape: (10, 5)\n",
       "┌──────────────────────────┬────────────────┬─────────────────────────────────┬────────────────┬────────┐\n",
       "│ leader                   ┆ 001            ┆ 008                             ┆ 001_right      ┆ rok    │\n",
       "│ ---                      ┆ ---            ┆ ---                             ┆ ---            ┆ ---    │\n",
       "│ str                      ┆ str            ┆ str                             ┆ str            ┆ f64    │\n",
       "╞══════════════════════════╪════════════════╪═════════════════════════════════╪════════════════╪════════╡\n",
       "│      nam a22     1i 4500 ┆ bk197301702    ┆ 970320s1973    xr            0… ┆ bk197301702    ┆ 1973.0 │\n",
       "│      nam a22      a 4500 ┆ cpk20021179848 ┆ 021016s2002    xr     e      0… ┆ cpk20021179848 ┆ 2002.0 │\n",
       "│      nam a22      i 4500 ┆ nkc20182993039 ┆ 180419s2018    xr a   f f    0… ┆ nkc20182993039 ┆ 2018.0 │\n",
       "│      nam a22     1  4500 ┆ nos190152085   ┆ 000619s1924    xr             … ┆ nos190152085   ┆ 1924.0 │\n",
       "│      nam a22      i 4500 ┆ nkc20193072468 ┆ 190301s2019    xr     g      0… ┆ nkc20193072468 ┆ 2019.0 │\n",
       "│      nam a22      a 4500 ┆ nkc20091867455 ┆ 090409s2009    xr ac  e c    0… ┆ nkc20091867455 ┆ 2009.0 │\n",
       "│      nam a22        4500 ┆ ck8702873      ┆ 870811s1987    xr a         u0… ┆ ck8702873      ┆ 1987.0 │\n",
       "│      nam a22        4500 ┆ np9309475      ┆ 940418s1992    xr            1… ┆ np9309475      ┆ 1992.0 │\n",
       "│      cam a22      a 4500 ┆ cpk20041170582 ┆ 010122s2000    xr a   e      0… ┆ cpk20041170582 ┆ 2000.0 │\n",
       "│      nam a22      a 4500 ┆ cpk19980354603 ┆ 980611s1998    xr     e      0… ┆ cpk19980354603 ┆ 1998.0 │\n",
       "└──────────────────────────┴────────────────┴─────────────────────────────────┴────────────────┴────────┘"
      ]
     },
     "execution_count": 18,
     "metadata": {},
     "output_type": "execute_result"
    }
   ],
   "source": [
    "zpanda.sample(10)"
   ]
  },
  {
   "cell_type": "code",
   "execution_count": 40,
   "id": "d30e834c-592f-4b0f-a291-99a98eb2f043",
   "metadata": {},
   "outputs": [
    {
     "data": {
      "text/plain": [
       "893728"
      ]
     },
     "execution_count": 40,
     "metadata": {},
     "output_type": "execute_result"
    }
   ],
   "source": [
    "len(zpanda.join(pl.read_parquet(os.path.join(\"data/cnb_sloupce\",\"022.parquet\")), left_on=\"001\", right_on=\"001\", how=\"outer\").explode(\"022_a\").filter(pl.col(\"022_a\").is_null()))"
   ]
  },
  {
   "cell_type": "code",
   "execution_count": null,
   "id": "2579b533-30fc-4b8a-8448-dee015d60ef6",
   "metadata": {},
   "outputs": [],
   "source": [
    "aut = pl.read_parquet(os.path.join(\"data\",\"aut_vyber.parquet\"))"
   ]
  },
  {
   "cell_type": "code",
   "execution_count": null,
   "id": "cf29ce5d-577f-4ba3-849c-1cc3f88722d1",
   "metadata": {},
   "outputs": [],
   "source": [
    "aut.shape"
   ]
  },
  {
   "cell_type": "code",
   "execution_count": null,
   "id": "3736bd69-0253-4156-954a-4e7cb22e09c2",
   "metadata": {},
   "outputs": [],
   "source": [
    "aut.explode(\"100_7\").unique(subset=[\"100_7\"],keep='first').shape"
   ]
  },
  {
   "cell_type": "code",
   "execution_count": null,
   "id": "07656850-3ab7-4900-bd07-c16762a81077",
   "metadata": {},
   "outputs": [],
   "source": [
    "aut_stats = aut.explode(\"100_7\").unique(subset=[\"100_7\"],keep='first').explode(\"370_c\").group_by(\"370_c\").len().sort(by=\"len\",descending=True)\n",
    "aut_stats"
   ]
  },
  {
   "cell_type": "code",
   "execution_count": null,
   "id": "095ce571-9a51-4d5b-b734-bae158037744",
   "metadata": {},
   "outputs": [],
   "source": [
    "aut_stats.filter((pl.col(\"370_c\").is_not_null()) & (pl.col('370_c') != \"Česko\")).select(pl.col(\"len\")).sum()"
   ]
  },
  {
   "cell_type": "code",
   "execution_count": null,
   "id": "5cec77d7-2b4b-42fe-a2ce-25b6c36ee93c",
   "metadata": {},
   "outputs": [],
   "source": [
    "aut.explode(\"100_7\").unique(subset=[\"100_7\"],keep='first').shape"
   ]
  },
  {
   "cell_type": "code",
   "execution_count": null,
   "id": "1fe65ffc-12ac-4989-b3ad-98254c5eef27",
   "metadata": {},
   "outputs": [],
   "source": [
    "aut.explode(\"370_c\").filter(pl.col(\"370_c\").str.contains(\"Česk\")).group_by(\"370_c\").len().sort(by=\"len\",descending=True)"
   ]
  }
 ],
 "metadata": {
  "kernelspec": {
   "display_name": "Python 3 (ipykernel)",
   "language": "python",
   "name": "python3"
  },
  "language_info": {
   "codemirror_mode": {
    "name": "ipython",
    "version": 3
   },
   "file_extension": ".py",
   "mimetype": "text/x-python",
   "name": "python",
   "nbconvert_exporter": "python",
   "pygments_lexer": "ipython3",
   "version": "3.12.3"
  }
 },
 "nbformat": 4,
 "nbformat_minor": 5
}
