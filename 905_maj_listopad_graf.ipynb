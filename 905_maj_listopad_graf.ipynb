{
 "cells": [
  {
   "cell_type": "code",
   "execution_count": 67,
   "id": "f7a87bf2-cb14-488a-8b24-0812e3519d4a",
   "metadata": {},
   "outputs": [
    {
     "data": {
      "text/plain": [
       "DataTransformerRegistry.enable('default')"
      ]
     },
     "execution_count": 67,
     "metadata": {},
     "output_type": "execute_result"
    }
   ],
   "source": [
    "import re\n",
    "import os\n",
    "import json\n",
    "import statistics\n",
    "import datetime\n",
    "import warnings\n",
    "from src.najdi_rok import najdi_rok\n",
    "import polars as pl\n",
    "import pandas as pd\n",
    "import altair as alt\n",
    "alt.data_transformers.disable_max_rows()"
   ]
  },
  {
   "cell_type": "code",
   "execution_count": 5,
   "id": "2fff6b79-005f-4aae-85ba-48fbfcf30325",
   "metadata": {},
   "outputs": [],
   "source": [
    "df = pl.read_parquet(os.path.join(\"data\",\"cnb_ceska_proza.parquet\"))"
   ]
  },
  {
   "cell_type": "code",
   "execution_count": 19,
   "id": "a3585775-5dac-4414-94c0-e8bdadb060de",
   "metadata": {
    "scrolled": true
   },
   "outputs": [],
   "source": [
    "df = pl.concat([df, pl.read_parquet(os.path.join(\"data\",\"cnb_ceska_poezie.parquet\")).with_columns(pl.col('100_7').alias('autorstvo_kod')).drop(\"100_7\")], how=\"diagonal\")"
   ]
  },
  {
   "cell_type": "code",
   "execution_count": 21,
   "id": "dbc3c93c-6a90-4366-b1c3-d8a6f772be31",
   "metadata": {},
   "outputs": [
    {
     "data": {
      "text/html": [
       "<div><style>\n",
       ".dataframe > thead > tr,\n",
       ".dataframe > tbody > tr {\n",
       "  text-align: right;\n",
       "  white-space: pre-wrap;\n",
       "}\n",
       "</style>\n",
       "<small>shape: (64_971, 5)</small><table border=\"1\" class=\"dataframe\"><thead><tr><th>rok</th><th>titul</th><th>autorstvo</th><th>autorstvo_kod</th><th>001</th></tr><tr><td>f64</td><td>str</td><td>str</td><td>str</td><td>str</td></tr></thead><tbody><tr><td>1804.0</td><td>&quot;Mrawné propowjdky s prawdiwýma…</td><td>&quot;Hanke z Hankenštejna Jan Alois&quot;</td><td>&quot;jk01033422&quot;</td><td>&quot;bknjje05009&quot;</td></tr><tr><td>1804.0</td><td>&quot;Wesnického Faráře Rozmlauwánj …</td><td>&quot;Rulík Jan&quot;</td><td>&quot;jk01103049&quot;</td><td>&quot;cpk20041494224&quot;</td></tr><tr><td>1807.0</td><td>&quot;Zrcadlo wýborného sedlského ob…</td><td>&quot;Němeček František&quot;</td><td>null</td><td>&quot;bknjaj17284&quot;</td></tr><tr><td>1807.0</td><td>&quot;Ladislaw a djtky geho&quot;</td><td>&quot;Nejedlý Vojtěch&quot;</td><td>&quot;jk01082969&quot;</td><td>&quot;nkc20051626328&quot;</td></tr><tr><td>1808.0</td><td>&quot;Cytara nowého zákona prawého B…</td><td>&quot;Koniáš Antonín&quot;</td><td>&quot;jk01061522&quot;</td><td>&quot;cpk20162825404&quot;</td></tr><tr><td>&hellip;</td><td>&hellip;</td><td>&hellip;</td><td>&hellip;</td><td>&hellip;</td></tr><tr><td>2024.0</td><td>&quot;Nějakým způsobem&quot;</td><td>&quot;Pospíšil Libor&quot;</td><td>&quot;jo2015866694&quot;</td><td>&quot;nkc20243627862&quot;</td></tr><tr><td>2024.0</td><td>&quot;Než nám dali jména...&quot;</td><td>&quot;Dlabal Milan Daniel&quot;</td><td>&quot;ola20241236036&quot;</td><td>&quot;nkc20243627863&quot;</td></tr><tr><td>2024.0</td><td>&quot;Vzpomínky ze šuplíku&quot;</td><td>&quot;Koudelka Petr&quot;</td><td>&quot;ola20241217490&quot;</td><td>&quot;nkc20243641181&quot;</td></tr><tr><td>2024.0</td><td>&quot;Činčila čile cvičila&quot;</td><td>&quot;Šetková Lucie&quot;</td><td>&quot;xx0284340&quot;</td><td>&quot;nkc20243631311&quot;</td></tr><tr><td>2024.0</td><td>&quot;Songulár&quot;</td><td>&quot;Rek M. A.&quot;</td><td>&quot;ola20191058844&quot;</td><td>&quot;nkc20243604525&quot;</td></tr></tbody></table></div>"
      ],
      "text/plain": [
       "shape: (64_971, 5)\n",
       "┌────────┬─────────────────────────────────┬────────────────────────────────┬────────────────┬────────────────┐\n",
       "│ rok    ┆ titul                           ┆ autorstvo                      ┆ autorstvo_kod  ┆ 001            │\n",
       "│ ---    ┆ ---                             ┆ ---                            ┆ ---            ┆ ---            │\n",
       "│ f64    ┆ str                             ┆ str                            ┆ str            ┆ str            │\n",
       "╞════════╪═════════════════════════════════╪════════════════════════════════╪════════════════╪════════════════╡\n",
       "│ 1804.0 ┆ Mrawné propowjdky s prawdiwýma… ┆ Hanke z Hankenštejna Jan Alois ┆ jk01033422     ┆ bknjje05009    │\n",
       "│ 1804.0 ┆ Wesnického Faráře Rozmlauwánj … ┆ Rulík Jan                      ┆ jk01103049     ┆ cpk20041494224 │\n",
       "│ 1807.0 ┆ Zrcadlo wýborného sedlského ob… ┆ Němeček František              ┆ null           ┆ bknjaj17284    │\n",
       "│ 1807.0 ┆ Ladislaw a djtky geho           ┆ Nejedlý Vojtěch                ┆ jk01082969     ┆ nkc20051626328 │\n",
       "│ 1808.0 ┆ Cytara nowého zákona prawého B… ┆ Koniáš Antonín                 ┆ jk01061522     ┆ cpk20162825404 │\n",
       "│ …      ┆ …                               ┆ …                              ┆ …              ┆ …              │\n",
       "│ 2024.0 ┆ Nějakým způsobem                ┆ Pospíšil Libor                 ┆ jo2015866694   ┆ nkc20243627862 │\n",
       "│ 2024.0 ┆ Než nám dali jména...           ┆ Dlabal Milan Daniel            ┆ ola20241236036 ┆ nkc20243627863 │\n",
       "│ 2024.0 ┆ Vzpomínky ze šuplíku            ┆ Koudelka Petr                  ┆ ola20241217490 ┆ nkc20243641181 │\n",
       "│ 2024.0 ┆ Činčila čile cvičila            ┆ Šetková Lucie                  ┆ xx0284340      ┆ nkc20243631311 │\n",
       "│ 2024.0 ┆ Songulár                        ┆ Rek M. A.                      ┆ ola20191058844 ┆ nkc20243604525 │\n",
       "└────────┴─────────────────────────────────┴────────────────────────────────┴────────────────┴────────────────┘"
      ]
     },
     "execution_count": 21,
     "metadata": {},
     "output_type": "execute_result"
    }
   ],
   "source": [
    "df"
   ]
  },
  {
   "cell_type": "code",
   "execution_count": 69,
   "id": "a6a4273a-898b-41b3-bf44-9be2477ad62c",
   "metadata": {},
   "outputs": [],
   "source": [
    "autority = pd.read_parquet(os.path.join(\"data\",\"aut_vyber.parquet\"))"
   ]
  },
  {
   "cell_type": "code",
   "execution_count": 70,
   "id": "4e37377c-241b-445e-9581-6720579d90fe",
   "metadata": {},
   "outputs": [],
   "source": [
    "autority = autority.merge(pd.read_json(os.path.join('data_raw','wikidata_raw.json')), left_index=True, right_index=True, how=\"outer\")"
   ]
  },
  {
   "cell_type": "code",
   "execution_count": 73,
   "id": "05396765-16e9-42ba-afee-28a280faec9c",
   "metadata": {},
   "outputs": [],
   "source": [
    "def dva_letopocty(y, z):\n",
    "    try:\n",
    "        return int(re.search(r'\\d{4}',str(y)).group(0))\n",
    "    except:\n",
    "        return z"
   ]
  },
  {
   "cell_type": "code",
   "execution_count": 75,
   "id": "d934c375-7ad4-4eb1-8dd3-0728deaedffa",
   "metadata": {},
   "outputs": [],
   "source": [
    "autority['narozeni'] = autority.apply(lambda row: dva_letopocty(row['046_f'], row['w_narozeni']), axis=1)"
   ]
  },
  {
   "cell_type": "code",
   "execution_count": 76,
   "id": "0f82d289-8415-430a-add3-99bbfac55baf",
   "metadata": {},
   "outputs": [],
   "source": [
    "autority['umrti'] = autority.apply(lambda row: dva_letopocty(row['046_g'], row['w_umrti']), axis=1)"
   ]
  },
  {
   "cell_type": "code",
   "execution_count": 77,
   "id": "40f063b2-ca9f-4099-947d-92e22c97ecb0",
   "metadata": {},
   "outputs": [],
   "source": [
    "autority = pl.from_pandas(autority)"
   ]
  },
  {
   "cell_type": "code",
   "execution_count": 93,
   "id": "b986a10c-c0bd-489e-a2fa-c8056d096599",
   "metadata": {},
   "outputs": [],
   "source": [
    "df = df.join(autority.select(pl.col(['100_7','umrti','046_g','w_umrti'])).explode(pl.col('100_7')), left_on='autorstvo_kod', right_on='100_7', how='left')"
   ]
  },
  {
   "cell_type": "code",
   "execution_count": 95,
   "id": "d7ac531b-7024-42a7-8927-2ee3a5671741",
   "metadata": {},
   "outputs": [],
   "source": [
    "df = df.filter(pl.col('rok') <= pl.col('umrti'))"
   ]
  },
  {
   "cell_type": "code",
   "execution_count": null,
   "id": "b9e81617-c06b-420e-8a91-96569ef6819b",
   "metadata": {},
   "outputs": [],
   "source": []
  },
  {
   "cell_type": "code",
   "execution_count": 61,
   "id": "37fb477c-ce68-49f5-980d-946d4702d40c",
   "metadata": {},
   "outputs": [
    {
     "data": {
      "text/plain": [
       "ThemeRegistry.enable('irozhlas')"
      ]
     },
     "execution_count": 61,
     "metadata": {},
     "output_type": "execute_result"
    }
   ],
   "source": [
    "def irozhlas_conf():\n",
    "\n",
    "    return {\n",
    "        \"config\" : {\n",
    "             \"title\": {'font': \"Noticia Text\",\n",
    "                      'fontSize': 20,\n",
    "                      'anchor': 'start',\n",
    "                    'subtitleFont': 'Noticia Text',\n",
    "                      'subtitleFontSize': 14,\n",
    "                      'subtitlePadding': 14,\n",
    "                       'dy': -10\n",
    "                      },\n",
    "             \"axis\": {\n",
    "                \"labelFont\": \"Asap\",\n",
    "                \"titleFont\": \"Asap\",\n",
    "                \"titleFontWeight\": \"normal\",\n",
    "                \"labelFontSize\": 11,\n",
    "                \"titleFontSize\": 14,\n",
    "                'labelPadding': 2,\n",
    "                 'titlePadding': 10\n",
    "            },\n",
    "            \"legend\": {\n",
    "                \"labelFont\": \"Asap\",\n",
    "                \"labelFontWeight\": \"normal\",\n",
    "                \"titleFont\": \"Asap\",\n",
    "                \"titleFontWeight\": \"normal\",\n",
    "                \"labelFontSize\": 11,\n",
    "                \"titleFontSize\": 14\n",
    "            }\n",
    "        }\n",
    "    }\n",
    "\n",
    "alt.themes.register('irozhlas', irozhlas_conf)\n",
    "alt.themes.enable('irozhlas')"
   ]
  },
  {
   "cell_type": "code",
   "execution_count": 159,
   "id": "91535b72-162e-41e6-be45-e0bd3977711b",
   "metadata": {},
   "outputs": [],
   "source": [
    "def bodovy_graf(\n",
    "    temata={}, \n",
    "    titulek=\"\",\n",
    "    podtitulek = \"\",\n",
    "    od_roku=None, \n",
    "    barvy=[], \n",
    "    kredit=\"vizualizace: iROZHLAS.cz · 2025\"\n",
    "):\n",
    "\n",
    "    def sanitize_filename(filename):\n",
    "        invalid_chars_pattern = r'[<>:\"/\\\\|?*]'\n",
    "        sanitized_filename = re.sub(invalid_chars_pattern, '_', filename)\n",
    "        return sanitized_filename\n",
    "    \n",
    "    def hledej_tema(label, keywords):\n",
    "        print(keywords)\n",
    "        return df.filter(pl.col('rok') > od_roku).filter(pl.col('autorstvo_kod') == keywords).with_columns(kdo = pl.lit(label)).with_columns(\n",
    "                   pl.col(\"rok\").map_elements(\n",
    "                       lambda x: datetime.date(year=int(x), month=1, day=1), \n",
    "                       return_dtype=pl.Date\n",
    "                   ).cast(pl.Datetime)\n",
    "               )\n",
    "\n",
    "    po_filtru = pl.concat([hledej_tema(tema, retezec) for tema, retezec in temata.items()])\n",
    "    print(po_filtru)\n",
    "    \n",
    "    y_encoding = {\n",
    "        'field': 'kdo',\n",
    "        'type': 'nominal',\n",
    "        'title': None,\n",
    "        'sort': [tema for tema, retezec in temata.items()]\n",
    "    }\n",
    "    \n",
    "    gaussian_jitter = alt.Chart(po_filtru.to_pandas(), title={'text': titulek, 'subtitle': podtitulek}) \\\n",
    "        .mark_circle(size=15) \\\n",
    "        .encode(x=alt.X(\"rok:T\", title=None), y=alt.Y(**y_encoding), yOffset=alt.YOffset(\"jitter:Q\", scale=alt.Scale(range=[12, 15])), color=alt.Color('kdo:N', scale=alt.Scale(range=barvy), sort=[tema for tema, retezec in temata.items()]).legend(None)) \\\n",
    "        .transform_calculate(jitter=\"sqrt(-2*log(random()))*cos(2*PI*random())\")\n",
    "\n",
    "    credits = alt.Chart({\"values\": [{\"text\": kredit}]}) \\\n",
    "    .mark_text(\n",
    "        align='right',\n",
    "        baseline='bottom',\n",
    "        dx=180,  # Adjust horizontal position (negative moves left)\n",
    "        dy=110,  # Adjust vertical position (negative moves up)\n",
    "        fontSize=11,\n",
    "        font='Asap',\n",
    "        color='#222'\n",
    "    ).encode(\n",
    "        text='text:N'\n",
    "    )\n",
    "    \n",
    "    final_chart = (gaussian_jitter + credits).properties(\n",
    "        width=350,\n",
    "        height=35 * len(temata)\n",
    "    )\n",
    "\n",
    "    os.makedirs('grafy', exist_ok=True)\n",
    "    for suffix in ['svg','png']:\n",
    "        final_chart.save(os.path.join('grafy',f'{sanitize_filename(titulek)}.{suffix}'))\n",
    "    \n",
    "    return final_chart    "
   ]
  },
  {
   "cell_type": "code",
   "execution_count": 169,
   "id": "84f6c5b8-2f2a-4f9a-97ec-f53f254b5c3b",
   "metadata": {},
   "outputs": [
    {
     "name": "stdout",
     "output_type": "stream",
     "text": [
      "jk01072915\n",
      "jk01142116\n",
      "jk01052646\n",
      "jk01141829\n",
      "shape: (38, 9)\n",
      "┌─────────────────────┬─────────────────────────────────┬────────────────────────┬───────────────┬───┬────────┬───────────┬─────────┬────────────────────────┐\n",
      "│ rok                 ┆ titul                           ┆ autorstvo              ┆ autorstvo_kod ┆ … ┆ umrti  ┆ 046_g     ┆ w_umrti ┆ kdo                    │\n",
      "│ ---                 ┆ ---                             ┆ ---                    ┆ ---           ┆   ┆ ---    ┆ ---       ┆ ---     ┆ ---                    │\n",
      "│ datetime[μs]        ┆ str                             ┆ str                    ┆ str           ┆   ┆ f64    ┆ list[str] ┆ f64     ┆ str                    │\n",
      "╞═════════════════════╪═════════════════════════════════╪════════════════════════╪═══════════════╪═══╪════════╪═══════════╪═════════╪════════════════════════╡\n",
      "│ 1836-01-01 00:00:00 ┆ Mág                             ┆ Mácha Karel Hynek      ┆ jk01072915    ┆ … ┆ 1836.0 ┆ [\"1836\"]  ┆ 1836.0  ┆ Karel Hynek Mácha      │\n",
      "│ 1834-01-01 00:00:00 ┆ Ukradený střewjc, anebo, Prawý… ┆ Veselský Petr Miloslav ┆ jk01142116    ┆ … ┆ 1889.0 ┆ [\"1889\"]  ┆ 1889.0  ┆ Petr Miloslav Veselský │\n",
      "│ 1834-01-01 00:00:00 ┆ Jozefka, anebo, Podiwné schled… ┆ Veselský Petr Miloslav ┆ jk01142116    ┆ … ┆ 1889.0 ┆ [\"1889\"]  ┆ 1889.0  ┆ Petr Miloslav Veselský │\n",
      "│ 1837-01-01 00:00:00 ┆ Jolanta, anebo, Obnowená důwěr… ┆ Veselský Petr Miloslav ┆ jk01142116    ┆ … ┆ 1889.0 ┆ [\"1889\"]  ┆ 1889.0  ┆ Petr Miloslav Veselský │\n",
      "│ 1838-01-01 00:00:00 ┆ Mocnost lásky, neb, Wiljm a Ma… ┆ Veselský Petr Miloslav ┆ jk01142116    ┆ … ┆ 1889.0 ┆ [\"1889\"]  ┆ 1889.0  ┆ Petr Miloslav Veselský │\n",
      "│ …                   ┆ …                               ┆ …                      ┆ …             ┆ … ┆ …      ┆ …         ┆ …       ┆ …                      │\n",
      "│ 1997-01-01 00:00:00 ┆ Marie                           ┆ Vavřincová Fan         ┆ jk01141829    ┆ … ┆ 2012.0 ┆ [\"2012\"]  ┆ 2012.0  ┆ Fan Vavřincová         │\n",
      "│ 1997-01-01 00:00:00 ┆ Lépe je být pošetilý            ┆ Vavřincová Fan         ┆ jk01141829    ┆ … ┆ 2012.0 ┆ [\"2012\"]  ┆ 2012.0  ┆ Fan Vavřincová         │\n",
      "│ 2006-01-01 00:00:00 ┆ Taková normální rodinka         ┆ Vavřincová Fan         ┆ jk01141829    ┆ … ┆ 2012.0 ┆ [\"2012\"]  ┆ 2012.0  ┆ Fan Vavřincová         │\n",
      "│ 2007-01-01 00:00:00 ┆ Vrah a srdcová dáma             ┆ Vavřincová Fan         ┆ jk01141829    ┆ … ┆ 2012.0 ┆ [\"2012\"]  ┆ 2012.0  ┆ Fan Vavřincová         │\n",
      "│ 2008-01-01 00:00:00 ┆ Taková normální rodinka se vra… ┆ Vavřincová Fan         ┆ jk01141829    ┆ … ┆ 2012.0 ┆ [\"2012\"]  ┆ 2012.0  ┆ Fan Vavřincová         │\n",
      "└─────────────────────┴─────────────────────────────────┴────────────────────────┴───────────────┴───┴────────┴───────────┴─────────┴────────────────────────┘\n"
     ]
    },
    {
     "name": "stderr",
     "output_type": "stream",
     "text": [
      "C:\\Users\\micha\\anaconda3\\Lib\\site-packages\\altair\\utils\\core.py:395: FutureWarning: the convert_dtype parameter is deprecated and will be removed in a future version.  Do ``ser.astype(object).apply()`` instead if you want ``convert_dtype=False``.\n",
      "  col = df[col_name].apply(to_list_if_array, convert_dtype=False)\n",
      "C:\\Users\\micha\\anaconda3\\Lib\\site-packages\\altair\\utils\\core.py:395: FutureWarning: the convert_dtype parameter is deprecated and will be removed in a future version.  Do ``ser.astype(object).apply()`` instead if you want ``convert_dtype=False``.\n",
      "  col = df[col_name].apply(to_list_if_array, convert_dtype=False)\n",
      "C:\\Users\\micha\\anaconda3\\Lib\\site-packages\\altair\\utils\\core.py:395: FutureWarning: the convert_dtype parameter is deprecated and will be removed in a future version.  Do ``ser.astype(object).apply()`` instead if you want ``convert_dtype=False``.\n",
      "  col = df[col_name].apply(to_list_if_array, convert_dtype=False)\n",
      "C:\\Users\\micha\\anaconda3\\Lib\\site-packages\\altair\\utils\\core.py:395: FutureWarning: the convert_dtype parameter is deprecated and will be removed in a future version.  Do ``ser.astype(object).apply()`` instead if you want ``convert_dtype=False``.\n",
      "  col = df[col_name].apply(to_list_if_array, convert_dtype=False)\n",
      "C:\\Users\\micha\\anaconda3\\Lib\\site-packages\\altair\\utils\\core.py:395: FutureWarning: the convert_dtype parameter is deprecated and will be removed in a future version.  Do ``ser.astype(object).apply()`` instead if you want ``convert_dtype=False``.\n",
      "  col = df[col_name].apply(to_list_if_array, convert_dtype=False)\n",
      "C:\\Users\\micha\\anaconda3\\Lib\\site-packages\\altair\\utils\\core.py:395: FutureWarning: the convert_dtype parameter is deprecated and will be removed in a future version.  Do ``ser.astype(object).apply()`` instead if you want ``convert_dtype=False``.\n",
      "  col = df[col_name].apply(to_list_if_array, convert_dtype=False)\n",
      "C:\\Users\\micha\\anaconda3\\Lib\\site-packages\\altair\\utils\\core.py:395: FutureWarning: the convert_dtype parameter is deprecated and will be removed in a future version.  Do ``ser.astype(object).apply()`` instead if you want ``convert_dtype=False``.\n",
      "  col = df[col_name].apply(to_list_if_array, convert_dtype=False)\n",
      "C:\\Users\\micha\\anaconda3\\Lib\\site-packages\\altair\\utils\\core.py:395: FutureWarning: the convert_dtype parameter is deprecated and will be removed in a future version.  Do ``ser.astype(object).apply()`` instead if you want ``convert_dtype=False``.\n",
      "  col = df[col_name].apply(to_list_if_array, convert_dtype=False)\n",
      "C:\\Users\\micha\\anaconda3\\Lib\\site-packages\\altair\\utils\\core.py:395: FutureWarning: the convert_dtype parameter is deprecated and will be removed in a future version.  Do ``ser.astype(object).apply()`` instead if you want ``convert_dtype=False``.\n",
      "  col = df[col_name].apply(to_list_if_array, convert_dtype=False)\n",
      "C:\\Users\\micha\\anaconda3\\Lib\\site-packages\\altair\\utils\\core.py:395: FutureWarning: the convert_dtype parameter is deprecated and will be removed in a future version.  Do ``ser.astype(object).apply()`` instead if you want ``convert_dtype=False``.\n",
      "  col = df[col_name].apply(to_list_if_array, convert_dtype=False)\n",
      "C:\\Users\\micha\\anaconda3\\Lib\\site-packages\\altair\\utils\\core.py:395: FutureWarning: the convert_dtype parameter is deprecated and will be removed in a future version.  Do ``ser.astype(object).apply()`` instead if you want ``convert_dtype=False``.\n",
      "  col = df[col_name].apply(to_list_if_array, convert_dtype=False)\n",
      "C:\\Users\\micha\\anaconda3\\Lib\\site-packages\\altair\\utils\\core.py:395: FutureWarning: the convert_dtype parameter is deprecated and will be removed in a future version.  Do ``ser.astype(object).apply()`` instead if you want ``convert_dtype=False``.\n",
      "  col = df[col_name].apply(to_list_if_array, convert_dtype=False)\n",
      "C:\\Users\\micha\\anaconda3\\Lib\\site-packages\\altair\\utils\\core.py:395: FutureWarning: the convert_dtype parameter is deprecated and will be removed in a future version.  Do ``ser.astype(object).apply()`` instead if you want ``convert_dtype=False``.\n",
      "  col = df[col_name].apply(to_list_if_array, convert_dtype=False)\n",
      "C:\\Users\\micha\\anaconda3\\Lib\\site-packages\\altair\\utils\\core.py:395: FutureWarning: the convert_dtype parameter is deprecated and will be removed in a future version.  Do ``ser.astype(object).apply()`` instead if you want ``convert_dtype=False``.\n",
      "  col = df[col_name].apply(to_list_if_array, convert_dtype=False)\n",
      "C:\\Users\\micha\\anaconda3\\Lib\\site-packages\\altair\\utils\\core.py:395: FutureWarning: the convert_dtype parameter is deprecated and will be removed in a future version.  Do ``ser.astype(object).apply()`` instead if you want ``convert_dtype=False``.\n",
      "  col = df[col_name].apply(to_list_if_array, convert_dtype=False)\n",
      "C:\\Users\\micha\\anaconda3\\Lib\\site-packages\\altair\\utils\\core.py:395: FutureWarning: the convert_dtype parameter is deprecated and will be removed in a future version.  Do ``ser.astype(object).apply()`` instead if you want ``convert_dtype=False``.\n",
      "  col = df[col_name].apply(to_list_if_array, convert_dtype=False)\n",
      "C:\\Users\\micha\\anaconda3\\Lib\\site-packages\\altair\\utils\\core.py:395: FutureWarning: the convert_dtype parameter is deprecated and will be removed in a future version.  Do ``ser.astype(object).apply()`` instead if you want ``convert_dtype=False``.\n",
      "  col = df[col_name].apply(to_list_if_array, convert_dtype=False)\n",
      "C:\\Users\\micha\\anaconda3\\Lib\\site-packages\\altair\\utils\\core.py:395: FutureWarning: the convert_dtype parameter is deprecated and will be removed in a future version.  Do ``ser.astype(object).apply()`` instead if you want ``convert_dtype=False``.\n",
      "  col = df[col_name].apply(to_list_if_array, convert_dtype=False)\n"
     ]
    },
    {
     "data": {
      "text/html": [
       "\n",
       "<style>\n",
       "  #altair-viz-0d244734490642958f74a1a6b3cad188.vega-embed {\n",
       "    width: 100%;\n",
       "    display: flex;\n",
       "  }\n",
       "\n",
       "  #altair-viz-0d244734490642958f74a1a6b3cad188.vega-embed details,\n",
       "  #altair-viz-0d244734490642958f74a1a6b3cad188.vega-embed details summary {\n",
       "    position: relative;\n",
       "  }\n",
       "</style>\n",
       "<div id=\"altair-viz-0d244734490642958f74a1a6b3cad188\"></div>\n",
       "<script type=\"text/javascript\">\n",
       "  var VEGA_DEBUG = (typeof VEGA_DEBUG == \"undefined\") ? {} : VEGA_DEBUG;\n",
       "  (function(spec, embedOpt){\n",
       "    let outputDiv = document.currentScript.previousElementSibling;\n",
       "    if (outputDiv.id !== \"altair-viz-0d244734490642958f74a1a6b3cad188\") {\n",
       "      outputDiv = document.getElementById(\"altair-viz-0d244734490642958f74a1a6b3cad188\");\n",
       "    }\n",
       "    const paths = {\n",
       "      \"vega\": \"https://cdn.jsdelivr.net/npm/vega@5?noext\",\n",
       "      \"vega-lib\": \"https://cdn.jsdelivr.net/npm/vega-lib?noext\",\n",
       "      \"vega-lite\": \"https://cdn.jsdelivr.net/npm/vega-lite@5.8.0?noext\",\n",
       "      \"vega-embed\": \"https://cdn.jsdelivr.net/npm/vega-embed@6?noext\",\n",
       "    };\n",
       "\n",
       "    function maybeLoadScript(lib, version) {\n",
       "      var key = `${lib.replace(\"-\", \"\")}_version`;\n",
       "      return (VEGA_DEBUG[key] == version) ?\n",
       "        Promise.resolve(paths[lib]) :\n",
       "        new Promise(function(resolve, reject) {\n",
       "          var s = document.createElement('script');\n",
       "          document.getElementsByTagName(\"head\")[0].appendChild(s);\n",
       "          s.async = true;\n",
       "          s.onload = () => {\n",
       "            VEGA_DEBUG[key] = version;\n",
       "            return resolve(paths[lib]);\n",
       "          };\n",
       "          s.onerror = () => reject(`Error loading script: ${paths[lib]}`);\n",
       "          s.src = paths[lib];\n",
       "        });\n",
       "    }\n",
       "\n",
       "    function showError(err) {\n",
       "      outputDiv.innerHTML = `<div class=\"error\" style=\"color:red;\">${err}</div>`;\n",
       "      throw err;\n",
       "    }\n",
       "\n",
       "    function displayChart(vegaEmbed) {\n",
       "      vegaEmbed(outputDiv, spec, embedOpt)\n",
       "        .catch(err => showError(`Javascript Error: ${err.message}<br>This usually means there's a typo in your chart specification. See the javascript console for the full traceback.`));\n",
       "    }\n",
       "\n",
       "    if(typeof define === \"function\" && define.amd) {\n",
       "      requirejs.config({paths});\n",
       "      require([\"vega-embed\"], displayChart, err => showError(`Error loading script: ${err.message}`));\n",
       "    } else {\n",
       "      maybeLoadScript(\"vega\", \"5\")\n",
       "        .then(() => maybeLoadScript(\"vega-lite\", \"5.8.0\"))\n",
       "        .then(() => maybeLoadScript(\"vega-embed\", \"6\"))\n",
       "        .catch(showError)\n",
       "        .then(() => displayChart(vegaEmbed));\n",
       "    }\n",
       "  })({\"config\": {\"title\": {\"font\": \"Noticia Text\", \"fontSize\": 20, \"anchor\": \"start\", \"subtitleFont\": \"Noticia Text\", \"subtitleFontSize\": 14, \"subtitlePadding\": 14, \"dy\": -10}, \"axis\": {\"labelFont\": \"Asap\", \"titleFont\": \"Asap\", \"titleFontWeight\": \"normal\", \"labelFontSize\": 11, \"titleFontSize\": 14, \"labelPadding\": 2, \"titlePadding\": 10}, \"legend\": {\"labelFont\": \"Asap\", \"labelFontWeight\": \"normal\", \"titleFont\": \"Asap\", \"titleFontWeight\": \"normal\", \"labelFontSize\": 11, \"titleFontSize\": 14}}, \"layer\": [{\"data\": {\"name\": \"data-63de386d4b4e3407da3a7a810a97ec8d\"}, \"mark\": {\"type\": \"circle\", \"size\": 15}, \"encoding\": {\"color\": {\"field\": \"kdo\", \"legend\": null, \"scale\": {\"range\": [\"#445B78\", \"#DB842F\", \"#70871E\", \"#E09DA3\"]}, \"sort\": [\"Karel Hynek M\\u00e1cha\", \"Petr Miloslav Veselsk\\u00fd\", \"Josef Kalensk\\u00fd\", \"Fan Vav\\u0159incov\\u00e1\"], \"type\": \"nominal\"}, \"x\": {\"field\": \"rok\", \"title\": null, \"type\": \"temporal\"}, \"y\": {\"field\": \"kdo\", \"sort\": [\"Karel Hynek M\\u00e1cha\", \"Petr Miloslav Veselsk\\u00fd\", \"Josef Kalensk\\u00fd\", \"Fan Vav\\u0159incov\\u00e1\"], \"title\": null, \"type\": \"nominal\"}, \"yOffset\": {\"field\": \"jitter\", \"scale\": {\"range\": [12, 15]}, \"type\": \"quantitative\"}}, \"title\": {\"text\": \"172 let \\u010desk\\u00e9 literatury ve t\\u0159ech kari\\u00e9r\\u00e1ch\", \"subtitle\": \"Knihy vydan\\u00e9 b\\u011bhem \\u017eivota\"}, \"transform\": [{\"calculate\": \"sqrt(-2*log(random()))*cos(2*PI*random())\", \"as\": \"jitter\"}]}, {\"data\": {\"name\": \"data-a5a9d84e52b7753d0eb9b9525e2cb07f\"}, \"mark\": {\"type\": \"text\", \"align\": \"right\", \"baseline\": \"bottom\", \"color\": \"#222\", \"dx\": 180, \"dy\": 110, \"font\": \"Asap\", \"fontSize\": 11}, \"encoding\": {\"text\": {\"field\": \"text\", \"type\": \"nominal\"}}}], \"height\": 140, \"width\": 350, \"$schema\": \"https://vega.github.io/schema/vega-lite/v5.8.0.json\", \"datasets\": {\"data-63de386d4b4e3407da3a7a810a97ec8d\": [{\"rok\": \"1836-01-01T00:00:00\", \"titul\": \"M\\u00e1g\", \"autorstvo\": \"M\\u00e1cha Karel Hynek\", \"autorstvo_kod\": \"jk01072915\", \"001\": \"cpk20041417516\", \"umrti\": 1836.0, \"046_g\": [\"1836\"], \"w_umrti\": 1836.0, \"kdo\": \"Karel Hynek M\\u00e1cha\"}, {\"rok\": \"1834-01-01T00:00:00\", \"titul\": \"Ukraden\\u00fd st\\u0159ewjc, anebo, Praw\\u00fd d\\u016fkaz w\\u011brnosti\", \"autorstvo\": \"Veselsk\\u00fd Petr Miloslav\", \"autorstvo_kod\": \"jk01142116\", \"001\": \"nkc20102130003\", \"umrti\": 1889.0, \"046_g\": [\"1889\"], \"w_umrti\": 1889.0, \"kdo\": \"Petr Miloslav Veselsk\\u00fd\"}, {\"rok\": \"1834-01-01T00:00:00\", \"titul\": \"Jozefka, anebo, Podiwn\\u00e9 schled\\u00e1nj\", \"autorstvo\": \"Veselsk\\u00fd Petr Miloslav\", \"autorstvo_kod\": \"jk01142116\", \"001\": \"cpk20021123969\", \"umrti\": 1889.0, \"046_g\": [\"1889\"], \"w_umrti\": 1889.0, \"kdo\": \"Petr Miloslav Veselsk\\u00fd\"}, {\"rok\": \"1837-01-01T00:00:00\", \"titul\": \"Jolanta, anebo, Obnowen\\u00e1 d\\u016fw\\u011bra\", \"autorstvo\": \"Veselsk\\u00fd Petr Miloslav\", \"autorstvo_kod\": \"jk01142116\", \"001\": \"nkc20092009453\", \"umrti\": 1889.0, \"046_g\": [\"1889\"], \"w_umrti\": 1889.0, \"kdo\": \"Petr Miloslav Veselsk\\u00fd\"}, {\"rok\": \"1838-01-01T00:00:00\", \"titul\": \"Mocnost l\\u00e1sky, neb, Wiljm a Marie\", \"autorstvo\": \"Veselsk\\u00fd Petr Miloslav\", \"autorstvo_kod\": \"jk01142116\", \"001\": \"cpk20021195155\", \"umrti\": 1889.0, \"046_g\": [\"1889\"], \"w_umrti\": 1889.0, \"kdo\": \"Petr Miloslav Veselsk\\u00fd\"}, {\"rok\": \"1855-01-01T00:00:00\", \"titul\": \"Jolanta, aneb, Obnowen\\u00e1 d\\u016fw\\u011bra\", \"autorstvo\": \"Veselsk\\u00fd Petr Miloslav\", \"autorstvo_kod\": \"jk01142116\", \"001\": \"bknaus19240\", \"umrti\": 1889.0, \"046_g\": [\"1889\"], \"w_umrti\": 1889.0, \"kdo\": \"Petr Miloslav Veselsk\\u00fd\"}, {\"rok\": \"1866-01-01T00:00:00\", \"titul\": \"\\u010carod\\u011bjnice, aneb, B\\u016fh dopust\\u00ed - ale neopust\\u00ed\", \"autorstvo\": \"Veselsk\\u00fd Petr Miloslav\", \"autorstvo_kod\": \"jk01142116\", \"001\": \"nkc20102032126\", \"umrti\": 1889.0, \"046_g\": [\"1889\"], \"w_umrti\": 1889.0, \"kdo\": \"Petr Miloslav Veselsk\\u00fd\"}, {\"rok\": \"1889-01-01T00:00:00\", \"titul\": \"Karla Havl\\u00ed\\u010dka kutnohorsk\\u00fd pobyt a porotn\\u00ed soud, konan\\u00fd 12. listopadu 1851\", \"autorstvo\": \"Veselsk\\u00fd Petr Miloslav\", \"autorstvo_kod\": \"jk01142116\", \"001\": \"bknaus19241\", \"umrti\": 1889.0, \"046_g\": [\"1889\"], \"w_umrti\": 1889.0, \"kdo\": \"Petr Miloslav Veselsk\\u00fd\"}, {\"rok\": \"1889-01-01T00:00:00\", \"titul\": \"N\\u00e1rodn\\u00ed poh\\u00e1dky a b\\u00e1je\", \"autorstvo\": \"Kalensk\\u00fd Josef\", \"autorstvo_kod\": \"jk01052646\", \"001\": \"nkc20142542424\", \"umrti\": 1951.0, \"046_g\": [\"1951\"], \"w_umrti\": 1951.0, \"kdo\": \"Josef Kalensk\\u00fd\"}, {\"rok\": \"1889-01-01T00:00:00\", \"titul\": \"V zemi Apa\\u010d\\u016f, nebo, Lovci v americk\\u00fdch prales\\u00edch\", \"autorstvo\": \"Kalensk\\u00fd Josef\", \"autorstvo_kod\": \"jk01052646\", \"001\": \"nkc20071718449\", \"umrti\": 1951.0, \"046_g\": [\"1951\"], \"w_umrti\": 1951.0, \"kdo\": \"Josef Kalensk\\u00fd\"}, {\"rok\": \"1889-01-01T00:00:00\", \"titul\": \"\\u0160elmobijce\", \"autorstvo\": \"Kalensk\\u00fd Josef\", \"autorstvo_kod\": \"jk01052646\", \"001\": \"nkc20102124855\", \"umrti\": 1951.0, \"046_g\": [\"1951\"], \"w_umrti\": 1951.0, \"kdo\": \"Josef Kalensk\\u00fd\"}, {\"rok\": \"1890-01-01T00:00:00\", \"titul\": \"Kniha kouzel a b\\u00e1j\\u00ed\", \"autorstvo\": \"Kalensk\\u00fd Josef\", \"autorstvo_kod\": \"jk01052646\", \"001\": \"nkc20102124780\", \"umrti\": 1951.0, \"046_g\": [\"1951\"], \"w_umrti\": 1951.0, \"kdo\": \"Josef Kalensk\\u00fd\"}, {\"rok\": \"1890-01-01T00:00:00\", \"titul\": \"Zem\\u00ed div\\u00fdch mu\\u017e\\u016f\", \"autorstvo\": \"Kalensk\\u00fd Josef\", \"autorstvo_kod\": \"jk01052646\", \"001\": \"nkc20102124842\", \"umrti\": 1951.0, \"046_g\": [\"1951\"], \"w_umrti\": 1951.0, \"kdo\": \"Josef Kalensk\\u00fd\"}, {\"rok\": \"1892-01-01T00:00:00\", \"titul\": \"Mezi pir\\u00e1ty\", \"autorstvo\": \"Kalensk\\u00fd Josef\", \"autorstvo_kod\": \"jk01052646\", \"001\": \"nkc20172888340\", \"umrti\": 1951.0, \"046_g\": [\"1951\"], \"w_umrti\": 1951.0, \"kdo\": \"Josef Kalensk\\u00fd\"}, {\"rok\": \"1893-01-01T00:00:00\", \"titul\": \"Jim, zales\\u00e1k americk\\u00fd\", \"autorstvo\": \"Kalensk\\u00fd Josef\", \"autorstvo_kod\": \"jk01052646\", \"001\": \"cpk20233494991\", \"umrti\": 1951.0, \"046_g\": [\"1951\"], \"w_umrti\": 1951.0, \"kdo\": \"Josef Kalensk\\u00fd\"}, {\"rok\": \"1928-01-01T00:00:00\", \"titul\": \"Lapa\\u010d div\\u00e9 zv\\u011b\\u0159e\", \"autorstvo\": \"Kalensk\\u00fd Josef\", \"autorstvo_kod\": \"jk01052646\", \"001\": \"bkneli01381\", \"umrti\": 1951.0, \"046_g\": [\"1951\"], \"w_umrti\": 1951.0, \"kdo\": \"Josef Kalensk\\u00fd\"}, {\"rok\": \"1930-01-01T00:00:00\", \"titul\": \"Lovec buvol\\u016f\", \"autorstvo\": \"Kalensk\\u00fd Josef\", \"autorstvo_kod\": \"jk01052646\", \"001\": \"bk193001546\", \"umrti\": 1951.0, \"046_g\": [\"1951\"], \"w_umrti\": 1951.0, \"kdo\": \"Josef Kalensk\\u00fd\"}, {\"rok\": \"1932-01-01T00:00:00\", \"titul\": \"Jim z\\u00e1les\\u00e1k\", \"autorstvo\": \"Kalensk\\u00fd Josef\", \"autorstvo_kod\": \"jk01052646\", \"001\": \"bk193201578\", \"umrti\": 1951.0, \"046_g\": [\"1951\"], \"w_umrti\": 1951.0, \"kdo\": \"Josef Kalensk\\u00fd\"}, {\"rok\": \"1938-01-01T00:00:00\", \"titul\": \"U t\\u00e1borov\\u00e9ho ohn\\u011b v \\u00fadol\\u00ed Lovce jelen\\u016f\", \"autorstvo\": \"Kalensk\\u00fd Josef\", \"autorstvo_kod\": \"jk01052646\", \"001\": \"nkc20172963004\", \"umrti\": 1951.0, \"046_g\": [\"1951\"], \"w_umrti\": 1951.0, \"kdo\": \"Josef Kalensk\\u00fd\"}, {\"rok\": \"1941-01-01T00:00:00\", \"titul\": \"Poh\\u00e1dka za poh\\u00e1dkou\", \"autorstvo\": \"Kalensk\\u00fd Josef\", \"autorstvo_kod\": \"jk01052646\", \"001\": \"nkc20183003421\", \"umrti\": 1951.0, \"046_g\": [\"1951\"], \"w_umrti\": 1951.0, \"kdo\": \"Josef Kalensk\\u00fd\"}, {\"rok\": \"1946-01-01T00:00:00\", \"titul\": \"U t\\u00e1borov\\u00e9ho ohn\\u011b v \\u00dadol\\u00ed Lovce jelen\\u016f\", \"autorstvo\": \"Kalensk\\u00fd Josef\", \"autorstvo_kod\": \"jk01052646\", \"001\": \"nkc20162800275\", \"umrti\": 1951.0, \"046_g\": [\"1951\"], \"w_umrti\": 1951.0, \"kdo\": \"Josef Kalensk\\u00fd\"}, {\"rok\": \"1939-01-01T00:00:00\", \"titul\": \"Patsy trop\\u00ed hlouposti\", \"autorstvo\": \"Vav\\u0159incov\\u00e1 Fan\", \"autorstvo_kod\": \"jk01141829\", \"001\": \"bk193903380\", \"umrti\": 2012.0, \"046_g\": [\"2012\"], \"w_umrti\": 2012.0, \"kdo\": \"Fan Vav\\u0159incov\\u00e1\"}, {\"rok\": \"1941-01-01T00:00:00\", \"titul\": \"Sladk\\u00e1 d\\u00edvka\", \"autorstvo\": \"Vav\\u0159incov\\u00e1 Fan\", \"autorstvo_kod\": \"jk01141829\", \"001\": \"bk194104206\", \"umrti\": 2012.0, \"046_g\": [\"2012\"], \"w_umrti\": 2012.0, \"kdo\": \"Fan Vav\\u0159incov\\u00e1\"}, {\"rok\": \"1943-01-01T00:00:00\", \"titul\": \"Pozor! Z\\u00e1zra\\u010dn\\u00e9 d\\u00edt\\u011b\", \"autorstvo\": \"Vav\\u0159incov\\u00e1 Fan\", \"autorstvo_kod\": \"jk01141829\", \"001\": \"bk194301860\", \"umrti\": 2012.0, \"046_g\": [\"2012\"], \"w_umrti\": 2012.0, \"kdo\": \"Fan Vav\\u0159incov\\u00e1\"}, {\"rok\": \"1944-01-01T00:00:00\", \"titul\": \"Eva trop\\u00ed hlouposti\", \"autorstvo\": \"Vav\\u0159incov\\u00e1 Fan\", \"autorstvo_kod\": \"jk01141829\", \"001\": \"cpk20010736350\", \"umrti\": 2012.0, \"046_g\": [\"2012\"], \"w_umrti\": 2012.0, \"kdo\": \"Fan Vav\\u0159incov\\u00e1\"}, {\"rok\": \"1991-01-01T00:00:00\", \"titul\": \"Josef\\u00edna\", \"autorstvo\": \"Vav\\u0159incov\\u00e1 Fan\", \"autorstvo_kod\": \"jk01141829\", \"001\": \"ck9205163\", \"umrti\": 2012.0, \"046_g\": [\"2012\"], \"w_umrti\": 2012.0, \"kdo\": \"Fan Vav\\u0159incov\\u00e1\"}, {\"rok\": \"1992-01-01T00:00:00\", \"titul\": \"Pozor, z\\u00e1zra\\u010dn\\u00e9 d\\u00edt\\u011b!\", \"autorstvo\": \"Vav\\u0159incov\\u00e1 Fan\", \"autorstvo_kod\": \"jk01141829\", \"001\": \"nkc20132467624\", \"umrti\": 2012.0, \"046_g\": [\"2012\"], \"w_umrti\": 2012.0, \"kdo\": \"Fan Vav\\u0159incov\\u00e1\"}, {\"rok\": \"1994-01-01T00:00:00\", \"titul\": \"Zkuste to s mot\\u00fdly\", \"autorstvo\": \"Vav\\u0159incov\\u00e1 Fan\", \"autorstvo_kod\": \"jk01141829\", \"001\": \"np9424229\", \"umrti\": 2012.0, \"046_g\": [\"2012\"], \"w_umrti\": 2012.0, \"kdo\": \"Fan Vav\\u0159incov\\u00e1\"}, {\"rok\": \"1995-01-01T00:00:00\", \"titul\": \"Divo\\u0161ka Kim\", \"autorstvo\": \"Vav\\u0159incov\\u00e1 Fan\", \"autorstvo_kod\": \"jk01141829\", \"001\": \"cpk19950109562\", \"umrti\": 2012.0, \"046_g\": [\"2012\"], \"w_umrti\": 2012.0, \"kdo\": \"Fan Vav\\u0159incov\\u00e1\"}, {\"rok\": \"1995-01-01T00:00:00\", \"titul\": \"Pr\\u00e1zdniny s Juli\\u00ed\", \"autorstvo\": \"Vav\\u0159incov\\u00e1 Fan\", \"autorstvo_kod\": \"jk01141829\", \"001\": \"np9536846\", \"umrti\": 2012.0, \"046_g\": [\"2012\"], \"w_umrti\": 2012.0, \"kdo\": \"Fan Vav\\u0159incov\\u00e1\"}, {\"rok\": \"1996-01-01T00:00:00\", \"titul\": \"Bla\\u017een\\u00e9 \\u00fadol\\u00ed\", \"autorstvo\": \"Vav\\u0159incov\\u00e1 Fan\", \"autorstvo_kod\": \"jk01141829\", \"001\": \"cpk19960172779\", \"umrti\": 2012.0, \"046_g\": [\"2012\"], \"w_umrti\": 2012.0, \"kdo\": \"Fan Vav\\u0159incov\\u00e1\"}, {\"rok\": \"1996-01-01T00:00:00\", \"titul\": \"N\\u00e1vrat za \\u00fapl\\u0148ku\", \"autorstvo\": \"Vav\\u0159incov\\u00e1 Fan\", \"autorstvo_kod\": \"jk01141829\", \"001\": \"cpk19960149807\", \"umrti\": 2012.0, \"046_g\": [\"2012\"], \"w_umrti\": 2012.0, \"kdo\": \"Fan Vav\\u0159incov\\u00e1\"}, {\"rok\": \"1996-01-01T00:00:00\", \"titul\": \"Vlk a sedm k\\u016fzl\\u00e1tek\", \"autorstvo\": \"Vav\\u0159incov\\u00e1 Fan\", \"autorstvo_kod\": \"jk01141829\", \"001\": \"cpk19960114846\", \"umrti\": 2012.0, \"046_g\": [\"2012\"], \"w_umrti\": 2012.0, \"kdo\": \"Fan Vav\\u0159incov\\u00e1\"}, {\"rok\": \"1997-01-01T00:00:00\", \"titul\": \"Marie\", \"autorstvo\": \"Vav\\u0159incov\\u00e1 Fan\", \"autorstvo_kod\": \"jk01141829\", \"001\": \"cpk19970212361\", \"umrti\": 2012.0, \"046_g\": [\"2012\"], \"w_umrti\": 2012.0, \"kdo\": \"Fan Vav\\u0159incov\\u00e1\"}, {\"rok\": \"1997-01-01T00:00:00\", \"titul\": \"L\\u00e9pe je b\\u00fdt po\\u0161etil\\u00fd\", \"autorstvo\": \"Vav\\u0159incov\\u00e1 Fan\", \"autorstvo_kod\": \"jk01141829\", \"001\": \"cpk19970190142\", \"umrti\": 2012.0, \"046_g\": [\"2012\"], \"w_umrti\": 2012.0, \"kdo\": \"Fan Vav\\u0159incov\\u00e1\"}, {\"rok\": \"2006-01-01T00:00:00\", \"titul\": \"Takov\\u00e1 norm\\u00e1ln\\u00ed rodinka\", \"autorstvo\": \"Vav\\u0159incov\\u00e1 Fan\", \"autorstvo_kod\": \"jk01141829\", \"001\": \"nkc20061645262\", \"umrti\": 2012.0, \"046_g\": [\"2012\"], \"w_umrti\": 2012.0, \"kdo\": \"Fan Vav\\u0159incov\\u00e1\"}, {\"rok\": \"2007-01-01T00:00:00\", \"titul\": \"Vrah a srdcov\\u00e1 d\\u00e1ma\", \"autorstvo\": \"Vav\\u0159incov\\u00e1 Fan\", \"autorstvo_kod\": \"jk01141829\", \"001\": \"nkc20071719833\", \"umrti\": 2012.0, \"046_g\": [\"2012\"], \"w_umrti\": 2012.0, \"kdo\": \"Fan Vav\\u0159incov\\u00e1\"}, {\"rok\": \"2008-01-01T00:00:00\", \"titul\": \"Takov\\u00e1 norm\\u00e1ln\\u00ed rodinka se vrac\\u00ed!\", \"autorstvo\": \"Vav\\u0159incov\\u00e1 Fan\", \"autorstvo_kod\": \"jk01141829\", \"001\": \"nkc20071719835\", \"umrti\": 2012.0, \"046_g\": [\"2012\"], \"w_umrti\": 2012.0, \"kdo\": \"Fan Vav\\u0159incov\\u00e1\"}], \"data-a5a9d84e52b7753d0eb9b9525e2cb07f\": [{\"text\": \"vizualizace: iROZHLAS.cz \\u00b7 2025\"}]}}, {\"mode\": \"vega-lite\"});\n",
       "</script>"
      ],
      "text/plain": [
       "alt.LayerChart(...)"
      ]
     },
     "execution_count": 169,
     "metadata": {},
     "output_type": "execute_result"
    }
   ],
   "source": [
    "bodovy_graf(\n",
    "    temata={'Karel Hynek Mácha':'jk01072915','Petr Miloslav Veselský': 'jk01142116', 'Josef Kalenský': 'jk01052646', 'Fan Vavřincová': 'jk01141829'},\n",
    "    titulek=\"172 let české literatury ve třech kariérách\",\n",
    "    podtitulek=\"Knihy vydané během života\",\n",
    "    barvy=['#445B78', '#DB842F', '#70871E', '#E09DA3'],\n",
    "    od_roku=1800,\n",
    ")"
   ]
  },
  {
   "cell_type": "code",
   "execution_count": 165,
   "id": "3db724bd-26f3-433c-8a8d-c9cc39768eb5",
   "metadata": {},
   "outputs": [
    {
     "data": {
      "text/html": [
       "<div><style>\n",
       ".dataframe > thead > tr,\n",
       ".dataframe > tbody > tr {\n",
       "  text-align: right;\n",
       "  white-space: pre-wrap;\n",
       "}\n",
       "</style>\n",
       "<small>shape: (17, 8)</small><table border=\"1\" class=\"dataframe\"><thead><tr><th>rok</th><th>titul</th><th>autorstvo</th><th>autorstvo_kod</th><th>001</th><th>umrti</th><th>046_g</th><th>w_umrti</th></tr><tr><td>f64</td><td>str</td><td>str</td><td>str</td><td>str</td><td>f64</td><td>list[str]</td><td>f64</td></tr></thead><tbody><tr><td>1939.0</td><td>&quot;Patsy tropí hlouposti&quot;</td><td>&quot;Vavřincová Fan&quot;</td><td>&quot;jk01141829&quot;</td><td>&quot;bk193903380&quot;</td><td>2012.0</td><td>[&quot;2012&quot;]</td><td>2012.0</td></tr><tr><td>1941.0</td><td>&quot;Sladká dívka&quot;</td><td>&quot;Vavřincová Fan&quot;</td><td>&quot;jk01141829&quot;</td><td>&quot;bk194104206&quot;</td><td>2012.0</td><td>[&quot;2012&quot;]</td><td>2012.0</td></tr><tr><td>1943.0</td><td>&quot;Pozor! Zázračné dítě&quot;</td><td>&quot;Vavřincová Fan&quot;</td><td>&quot;jk01141829&quot;</td><td>&quot;bk194301860&quot;</td><td>2012.0</td><td>[&quot;2012&quot;]</td><td>2012.0</td></tr><tr><td>1944.0</td><td>&quot;Eva tropí hlouposti&quot;</td><td>&quot;Vavřincová Fan&quot;</td><td>&quot;jk01141829&quot;</td><td>&quot;cpk20010736350&quot;</td><td>2012.0</td><td>[&quot;2012&quot;]</td><td>2012.0</td></tr><tr><td>1991.0</td><td>&quot;Josefína&quot;</td><td>&quot;Vavřincová Fan&quot;</td><td>&quot;jk01141829&quot;</td><td>&quot;ck9205163&quot;</td><td>2012.0</td><td>[&quot;2012&quot;]</td><td>2012.0</td></tr><tr><td>&hellip;</td><td>&hellip;</td><td>&hellip;</td><td>&hellip;</td><td>&hellip;</td><td>&hellip;</td><td>&hellip;</td><td>&hellip;</td></tr><tr><td>1997.0</td><td>&quot;Marie&quot;</td><td>&quot;Vavřincová Fan&quot;</td><td>&quot;jk01141829&quot;</td><td>&quot;cpk19970212361&quot;</td><td>2012.0</td><td>[&quot;2012&quot;]</td><td>2012.0</td></tr><tr><td>1997.0</td><td>&quot;Lépe je být pošetilý&quot;</td><td>&quot;Vavřincová Fan&quot;</td><td>&quot;jk01141829&quot;</td><td>&quot;cpk19970190142&quot;</td><td>2012.0</td><td>[&quot;2012&quot;]</td><td>2012.0</td></tr><tr><td>2006.0</td><td>&quot;Taková normální rodinka&quot;</td><td>&quot;Vavřincová Fan&quot;</td><td>&quot;jk01141829&quot;</td><td>&quot;nkc20061645262&quot;</td><td>2012.0</td><td>[&quot;2012&quot;]</td><td>2012.0</td></tr><tr><td>2007.0</td><td>&quot;Vrah a srdcová dáma&quot;</td><td>&quot;Vavřincová Fan&quot;</td><td>&quot;jk01141829&quot;</td><td>&quot;nkc20071719833&quot;</td><td>2012.0</td><td>[&quot;2012&quot;]</td><td>2012.0</td></tr><tr><td>2008.0</td><td>&quot;Taková normální rodinka se vra…</td><td>&quot;Vavřincová Fan&quot;</td><td>&quot;jk01141829&quot;</td><td>&quot;nkc20071719835&quot;</td><td>2012.0</td><td>[&quot;2012&quot;]</td><td>2012.0</td></tr></tbody></table></div>"
      ],
      "text/plain": [
       "shape: (17, 8)\n",
       "┌────────┬─────────────────────────────────┬────────────────┬───────────────┬────────────────┬────────┬───────────┬─────────┐\n",
       "│ rok    ┆ titul                           ┆ autorstvo      ┆ autorstvo_kod ┆ 001            ┆ umrti  ┆ 046_g     ┆ w_umrti │\n",
       "│ ---    ┆ ---                             ┆ ---            ┆ ---           ┆ ---            ┆ ---    ┆ ---       ┆ ---     │\n",
       "│ f64    ┆ str                             ┆ str            ┆ str           ┆ str            ┆ f64    ┆ list[str] ┆ f64     │\n",
       "╞════════╪═════════════════════════════════╪════════════════╪═══════════════╪════════════════╪════════╪═══════════╪═════════╡\n",
       "│ 1939.0 ┆ Patsy tropí hlouposti           ┆ Vavřincová Fan ┆ jk01141829    ┆ bk193903380    ┆ 2012.0 ┆ [\"2012\"]  ┆ 2012.0  │\n",
       "│ 1941.0 ┆ Sladká dívka                    ┆ Vavřincová Fan ┆ jk01141829    ┆ bk194104206    ┆ 2012.0 ┆ [\"2012\"]  ┆ 2012.0  │\n",
       "│ 1943.0 ┆ Pozor! Zázračné dítě            ┆ Vavřincová Fan ┆ jk01141829    ┆ bk194301860    ┆ 2012.0 ┆ [\"2012\"]  ┆ 2012.0  │\n",
       "│ 1944.0 ┆ Eva tropí hlouposti             ┆ Vavřincová Fan ┆ jk01141829    ┆ cpk20010736350 ┆ 2012.0 ┆ [\"2012\"]  ┆ 2012.0  │\n",
       "│ 1991.0 ┆ Josefína                        ┆ Vavřincová Fan ┆ jk01141829    ┆ ck9205163      ┆ 2012.0 ┆ [\"2012\"]  ┆ 2012.0  │\n",
       "│ …      ┆ …                               ┆ …              ┆ …             ┆ …              ┆ …      ┆ …         ┆ …       │\n",
       "│ 1997.0 ┆ Marie                           ┆ Vavřincová Fan ┆ jk01141829    ┆ cpk19970212361 ┆ 2012.0 ┆ [\"2012\"]  ┆ 2012.0  │\n",
       "│ 1997.0 ┆ Lépe je být pošetilý            ┆ Vavřincová Fan ┆ jk01141829    ┆ cpk19970190142 ┆ 2012.0 ┆ [\"2012\"]  ┆ 2012.0  │\n",
       "│ 2006.0 ┆ Taková normální rodinka         ┆ Vavřincová Fan ┆ jk01141829    ┆ nkc20061645262 ┆ 2012.0 ┆ [\"2012\"]  ┆ 2012.0  │\n",
       "│ 2007.0 ┆ Vrah a srdcová dáma             ┆ Vavřincová Fan ┆ jk01141829    ┆ nkc20071719833 ┆ 2012.0 ┆ [\"2012\"]  ┆ 2012.0  │\n",
       "│ 2008.0 ┆ Taková normální rodinka se vra… ┆ Vavřincová Fan ┆ jk01141829    ┆ nkc20071719835 ┆ 2012.0 ┆ [\"2012\"]  ┆ 2012.0  │\n",
       "└────────┴─────────────────────────────────┴────────────────┴───────────────┴────────────────┴────────┴───────────┴─────────┘"
      ]
     },
     "execution_count": 165,
     "metadata": {},
     "output_type": "execute_result"
    }
   ],
   "source": [
    "df.filter(pl.col('autorstvo').str.contains('Vavřincová'))"
   ]
  }
 ],
 "metadata": {
  "kernelspec": {
   "display_name": "Python 3 (ipykernel)",
   "language": "python",
   "name": "python3"
  },
  "language_info": {
   "codemirror_mode": {
    "name": "ipython",
    "version": 3
   },
   "file_extension": ".py",
   "mimetype": "text/x-python",
   "name": "python",
   "nbconvert_exporter": "python",
   "pygments_lexer": "ipython3",
   "version": "3.12.3"
  }
 },
 "nbformat": 4,
 "nbformat_minor": 5
}
