{
 "cells": [
  {
   "cell_type": "code",
   "execution_count": 139,
   "id": "67d0190a-2368-464f-8a0c-390d3a2c07ce",
   "metadata": {},
   "outputs": [],
   "source": [
    "import os\n",
    "import json\n",
    "import datetime\n",
    "import warnings\n",
    "import polars as pl\n",
    "import pandas as pd\n",
    "import altair as alt\n",
    "\n",
    "from src.najdi_rok import najdi_rok\n",
    "from src.pocet_stran import pocet_stran\n",
    "from src.bez_bordelu import bez_bordelu\n",
    "from src.alt_friendly import alt_friendly\n",
    "from src.hezke_jmeno import hezke_jmeno\n",
    "from src.kristi_promin import kristi_promin\n",
    "from src.zjisti_vazbu import zjisti_vazbu\n",
    "from src.me_to_neurazi import me_to_neurazi\n",
    "\n",
    "pl.Config(tbl_rows=100)\n",
    "alt.data_transformers.disable_max_rows()\n",
    "alt.themes.register('irozhlas', kristi_promin)\n",
    "alt.themes.enable('irozhlas')\n",
    "warnings.filterwarnings('ignore')\n",
    "\n",
    "with open(os.path.join('src','kredity.json'), 'r', encoding='utf-8') as kredity:\n",
    "    kredity = json.loads(kredity.read())"
   ]
  },
  {
   "cell_type": "code",
   "execution_count": 140,
   "id": "cf4000df-a3fb-4cb1-946c-10e17c1bc74d",
   "metadata": {},
   "outputs": [],
   "source": [
    "df = pd.read_parquet(os.path.join(\"data\",\"cnb_vyber.parquet\"))\n",
    "df = df.explode('008')\n",
    "df['rok'] = df['008'].apply(lambda x: najdi_rok(x))\n",
    "df['stran'] = df['300_a'].apply(lambda x: pocet_stran(x))"
   ]
  },
  {
   "cell_type": "code",
   "execution_count": 141,
   "id": "5154996b-3b93-4807-b0c4-a3fa1572e5a0",
   "metadata": {},
   "outputs": [],
   "source": [
    "df = df.dropna(subset=['245_a','100_a','rok'])"
   ]
  },
  {
   "cell_type": "code",
   "execution_count": 142,
   "id": "d6f5722f-58fb-46ae-96f6-84eae690b53a",
   "metadata": {},
   "outputs": [],
   "source": [
    "df = df[df['stran'] >= 30]"
   ]
  },
  {
   "cell_type": "code",
   "execution_count": null,
   "id": "e18aa3ed-186d-4a92-bf64-1718740b1563",
   "metadata": {},
   "outputs": [],
   "source": [
    "df = df.explode('260_b').explode('264_b')"
   ]
  },
  {
   "cell_type": "code",
   "execution_count": null,
   "id": "394b7ee9-8360-488b-b5a8-c58850f50b2d",
   "metadata": {},
   "outputs": [],
   "source": [
    "def dvoje_nakladatelstvi(sedesat, sedesatctyri):\n",
    "    if sedesat != None:\n",
    "        return sedesat.replace(',','').replace(\":\",'').strip()\n",
    "    elif sedesatctyri != None:\n",
    "        return sedesatctyri.replace(',','').replace(\":\",'').strip()\n",
    "    else:\n",
    "        return None"
   ]
  },
  {
   "cell_type": "code",
   "execution_count": null,
   "id": "bbe27f17-d075-4119-b136-194f1d47f7f4",
   "metadata": {},
   "outputs": [],
   "source": [
    "df['nakladatel'] = df.apply(lambda row: dvoje_nakladatelstvi(row['260_b'], row['264_b']), axis=1)"
   ]
  },
  {
   "cell_type": "code",
   "execution_count": null,
   "id": "385d4d9c-08c5-4f9f-9fcf-b03183e6665f",
   "metadata": {},
   "outputs": [],
   "source": [
    "df[(df['rok'] == 2021) & (df['nakladatel'].isnull())]"
   ]
  },
  {
   "cell_type": "code",
   "execution_count": null,
   "id": "9eb02ca2-cedb-48f2-8b35-cb4af3aa43ca",
   "metadata": {},
   "outputs": [],
   "source": [
    "df[df['nakladatel'].notnull()].groupby('rok').size() / df.groupby('rok').size()"
   ]
  },
  {
   "cell_type": "code",
   "execution_count": null,
   "id": "67db0384-651b-49c5-8d1e-1869afff9b5e",
   "metadata": {},
   "outputs": [],
   "source": [
    "df['nakladatel'].sample(50)"
   ]
  },
  {
   "cell_type": "code",
   "execution_count": null,
   "id": "4e128bc6-c04d-41b7-9c6f-5ca1652da35e",
   "metadata": {},
   "outputs": [],
   "source": [
    "df[df['100_7'].astype(str).str.contains('jx20100301005',na=False)]"
   ]
  },
  {
   "cell_type": "code",
   "execution_count": null,
   "id": "71aac59d-4f12-4ffb-8eb1-4d78b21cfbe5",
   "metadata": {},
   "outputs": [],
   "source": [
    "df[df['nakladatel'] == 'Listen'].sort_values(by='rok')"
   ]
  },
  {
   "cell_type": "code",
   "execution_count": null,
   "id": "6db3a12e-3684-45b4-8cf6-d45d7fa2754b",
   "metadata": {},
   "outputs": [],
   "source": [
    "df[df['nakladatel'] == 'Paseka'].sort_values(by='rok')"
   ]
  },
  {
   "cell_type": "markdown",
   "id": "d99804af-a3ce-4b07-8aec-8c7cdb1c92ef",
   "metadata": {},
   "source": [
    "## Nejproduktivnější nakladatelství"
   ]
  },
  {
   "cell_type": "code",
   "execution_count": null,
   "id": "c044a314-37b3-4c24-944b-12e0d0740288",
   "metadata": {},
   "outputs": [],
   "source": [
    "df.groupby('nakladatel').size().nlargest(60)"
   ]
  },
  {
   "cell_type": "code",
   "execution_count": null,
   "id": "610cadd7-0714-4092-8bf4-16509c8cb3fd",
   "metadata": {},
   "outputs": [],
   "source": [
    "df[df['rok'] > 2013].groupby('nakladatel').size().nlargest(60)"
   ]
  },
  {
   "cell_type": "markdown",
   "id": "43986a67-2821-4bce-b46c-14d948c9f7a7",
   "metadata": {},
   "source": [
    "## Počet jednotlivých nakladatelství"
   ]
  },
  {
   "cell_type": "code",
   "execution_count": null,
   "id": "f07948d9-82b9-4ce0-a19b-7c6851970f95",
   "metadata": {},
   "outputs": [],
   "source": [
    "df.groupby('rok')['nakladatel'].nunique().plot.bar(figsize=(25,5))"
   ]
  },
  {
   "cell_type": "code",
   "execution_count": null,
   "id": "12d413cf-7548-4eed-bb32-db5a49f678bf",
   "metadata": {},
   "outputs": [],
   "source": [
    "df.groupby('rok')['nakladatel'].nunique().nlargest()"
   ]
  },
  {
   "cell_type": "code",
   "execution_count": null,
   "id": "2a3647b8-f5c6-4426-9cc1-b1d1cb0511d0",
   "metadata": {},
   "outputs": [],
   "source": [
    "df[df['rok'] == 1953].groupby('nakladatel').size().nlargest(15)"
   ]
  },
  {
   "cell_type": "markdown",
   "id": "b19b9ad3-ca86-4b25-babf-7148d7d25fed",
   "metadata": {},
   "source": [
    "## Počet nových nakladatelství"
   ]
  },
  {
   "cell_type": "code",
   "execution_count": null,
   "id": "5a26bde6-d6ee-4938-acea-14e119838753",
   "metadata": {},
   "outputs": [],
   "source": [
    "pd.DataFrame(df.groupby('nakladatel')['rok'].min()).groupby('rok').size().plot.bar(figsize=(25,5))"
   ]
  },
  {
   "cell_type": "markdown",
   "id": "434d4b16-fb42-493d-8657-dd6507d909e7",
   "metadata": {},
   "source": [
    "## Počet končících nakladatelství"
   ]
  },
  {
   "cell_type": "code",
   "execution_count": null,
   "id": "bbbe2762-6d16-40f0-9aa9-97e7f5ccc691",
   "metadata": {},
   "outputs": [],
   "source": [
    "pd.DataFrame(df.groupby('nakladatel')['rok'].max()).groupby('rok').size().plot.bar(figsize=(25,5))"
   ]
  },
  {
   "cell_type": "code",
   "execution_count": null,
   "id": "2b8a4a51-4e01-40c6-bdd7-17008649a9f4",
   "metadata": {},
   "outputs": [],
   "source": [
    "(pd.DataFrame(df.groupby('nakladatel')['rok'].max()).groupby('rok').size() / df.groupby('rok')['nakladatel'].nunique()).plot.bar(figsize=(25,5))"
   ]
  },
  {
   "cell_type": "code",
   "execution_count": null,
   "id": "964579fa-0217-40a8-b087-beee5a1d2830",
   "metadata": {},
   "outputs": [],
   "source": [
    "(pd.DataFrame(df.groupby('nakladatel')['rok'].max()).groupby('rok').size() / df.groupby('rok')['nakladatel'].nunique()).nlargest(10)"
   ]
  },
  {
   "cell_type": "code",
   "execution_count": null,
   "id": "f0d20645-d07a-4195-9677-922a6978d521",
   "metadata": {},
   "outputs": [],
   "source": [
    "pd.DataFrame(df[df['rok'] < 1990].groupby('nakladatel')['rok'].max()).groupby('rok').size().nlargest(5)"
   ]
  },
  {
   "cell_type": "code",
   "execution_count": null,
   "id": "8751a91b-5e6c-4bb5-8946-eafd42e17e99",
   "metadata": {},
   "outputs": [],
   "source": [
    "pd.DataFrame(df.groupby('nakladatel')['rok'].max()).groupby('rok').size()"
   ]
  },
  {
   "cell_type": "markdown",
   "id": "1de5c11c-14fe-4606-9f99-848585109ce8",
   "metadata": {},
   "source": [
    "## Grafy"
   ]
  },
  {
   "cell_type": "code",
   "execution_count": null,
   "id": "cd4f96a1-8b1a-4d74-a967-1bbc59e7a4cf",
   "metadata": {},
   "outputs": [],
   "source": [
    "import altair as alt"
   ]
  },
  {
   "cell_type": "code",
   "execution_count": null,
   "id": "e45ee4bd-f57a-41f0-a1a6-b3ed4b8509c4",
   "metadata": {},
   "outputs": [],
   "source": [
    "nakladatelstvi_s_tremi_knihami = df.groupby(\"nakladatel\").size()\n",
    "nakladatelstvi_s_tremi_knihami = nakladatelstvi_s_tremi_knihami[nakladatelstvi_s_tremi_knihami >= 3].index.to_list()\n",
    "df_aspon_tri = df[df['nakladatel'].isin(nakladatelstvi_s_tremi_knihami)]"
   ]
  },
  {
   "cell_type": "code",
   "execution_count": null,
   "id": "6b71bcb2-7799-4cce-a403-21df5b358ed6",
   "metadata": {},
   "outputs": [],
   "source": [
    "slov = {\n",
    "    'celkem':'Nakladatelství celkem',\n",
    "    'nova':'Nová nakladatelství',\n",
    "    'koncici':'Nakladatelství, která vydala svoji (k roku 2025) poslední knihu'\n",
    "}\n",
    "\n",
    "jednotliva = pd.DataFrame(df_aspon_tri.groupby('rok')['nakladatel'].nunique()).reset_index().rename(columns={\"nakladatel\": slov['celkem']})\n",
    "nova = pd.DataFrame(df_aspon_tri.groupby('nakladatel')['rok'].min()).groupby('rok').size().reset_index().rename(columns={0: slov['nova']})\n",
    "koncici = pd.DataFrame(df_aspon_tri.groupby('nakladatel')['rok'].max()).groupby('rok').size().reset_index().rename(columns={0: slov['koncici']})\n",
    "do_grafu = jednotliva.merge(nova, on=\"rok\", how=\"left\")\n",
    "do_grafu = do_grafu.merge(koncici, on=\"rok\", how=\"left\")\n",
    "do_grafu = do_grafu.melt(id_vars=\"rok\")\n",
    "do_grafu = do_grafu[do_grafu['rok'] >= 1900]\n",
    "do_grafu = do_grafu[((do_grafu['rok'] <= 2023) & (do_grafu['variable'].isin([slov['nova'], slov['celkem']])) | ((do_grafu['rok'] <= 2022) & (do_grafu['variable'] == slov['koncici'])))]\n",
    "do_grafu['rok'] = pd.to_datetime(do_grafu['rok'].apply(lambda x: f\"{int(x)}-01-01\"))\n",
    "do_grafu"
   ]
  },
  {
   "cell_type": "code",
   "execution_count": null,
   "id": "d77806d2-6e2c-4a39-8f4d-2ee786fee607",
   "metadata": {},
   "outputs": [],
   "source": [
    "alt.Chart(do_grafu).mark_line().encode(\n",
    "    x='rok:T',\n",
    "    y='value:Q',\n",
    "    color='variable:N',\n",
    ")"
   ]
  },
  {
   "cell_type": "code",
   "execution_count": null,
   "id": "1636fed4-efca-421b-aa26-5cba6567394d",
   "metadata": {},
   "outputs": [],
   "source": [
    "from textwrap import wrap"
   ]
  },
  {
   "cell_type": "code",
   "execution_count": null,
   "id": "a3948585-84e1-4f5c-b2ba-e9fed5d226a4",
   "metadata": {},
   "outputs": [],
   "source": [
    "titulek='Kolik různých nakladatelství vydávalo knihy'\n",
    "podtitulek=\"Nejhůř poznamenaly pestrost nakladatelské scény nacistická okupace a komunistický režim. Do grafu se promítají pouze nakladatelství tří a více knih.\"\n",
    "podtitulek=wrap(podtitulek, 60)"
   ]
  },
  {
   "cell_type": "code",
   "execution_count": null,
   "id": "a624aa39-d3c4-4c44-808b-8f7df79b2700",
   "metadata": {},
   "outputs": [],
   "source": [
    "# First, let's create a condition for the opacity\n",
    "# We need to transform the data to add an opacity column for the \"Končící\" row\n",
    "\n",
    "# Create a copy of the data\n",
    "import pandas as pd\n",
    "import altair as alt\n",
    "\n",
    "# Assuming do_grafu is your original dataframe\n",
    "fading_data = do_grafu.copy()\n",
    "\n",
    "# Add opacity column based on year and variable\n",
    "def calculate_opacity(row):\n",
    "    if row['variable'] == slov['koncici']:\n",
    "        # For years up to 2010, opacity is 1 (fully visible)\n",
    "        if row['rok'].year <= 2000:\n",
    "            return 1.0\n",
    "        # For years between 2010 and 2024, opacity gradually decreases\n",
    "        elif row['rok'].year <= 2024:\n",
    "            # Linear interpolation from 1.0 at 2010 to 0.0 at 2024\n",
    "            return 1.0 - ((row['rok'].year - 2000) / 50.0)\n",
    "        # For years after 2024, opacity is 0 (fully transparent)\n",
    "        else:\n",
    "            return 0.0\n",
    "    # For other variables, opacity is always 1 (fully visible)\n",
    "    else:\n",
    "        return 1.0\n",
    "\n",
    "# Apply the function to create a new 'opacity' column\n",
    "fading_data['opacity'] = fading_data.apply(calculate_opacity, axis=1)\n",
    "\n",
    "# Now create the modified chart using the new opacity column\n",
    "graf_nakl = alt.Chart(\n",
    "    fading_data, \n",
    "    title=alt.Title(\n",
    "        titulek,\n",
    "        subtitle=['Nejpestřejší byla nakladatelská scéna v 90. letech a za první republiky.',\n",
    "                  'Vývoj končících nakladatelství začíná být po roce 2000 zkreslený (vzhůru)',\n",
    "                  'pauzujícími nakladateli. Grafy zobrazují pouze nakladatele alespoň tří knih.']\n",
    "    )\n",
    ").mark_bar(width=2).encode(\n",
    "    alt.X(\"rok:T\", \n",
    "          title=None,\n",
    "          axis=alt.Axis(domainOpacity=0, tickColor='#DCDDD6')\n",
    "    ),\n",
    "    alt.Y('value:Q', \n",
    "          axis=alt.Axis(domainOpacity=0, tickCount=2, tickColor='#DCDDD6', orient='right', labelExpr='replace(datum.label, \",000\", \" tis.\")'), \n",
    "          title=None\n",
    "    ),\n",
    "    alt.Color(\"variable:N\", \n",
    "              scale=alt.Scale(range=['#D55F50', '#ECD410', '#9CA545']),\n",
    "              title=None, \n",
    "              legend=None\n",
    "    ),\n",
    "    # Apply opacity based on the new column\n",
    "    opacity=alt.Opacity('opacity:Q',title=None,legend=None),\n",
    "    row=alt.Row(\n",
    "        \"variable:N\", \n",
    "        title=None, \n",
    "        spacing=15, \n",
    "        header=alt.Header(\n",
    "            labelAngle=0, \n",
    "            labelAlign='left', \n",
    "            labelAnchor='start', \n",
    "            labelFontWeight=400, \n",
    "            labelFont='Asap', \n",
    "            labelOrient=\"top\",\n",
    "            labelPadding=0\n",
    "        ),\n",
    "        sort=[slov['celkem'],slov['nova'],slov['koncici']],\n",
    "    )\n",
    ").properties(\n",
    "    width=kredity['sirka'], \n",
    "    height=kredity['vyska_nizkych'], \n",
    "    autosize={'type': 'fit', 'contains': 'padding'}\n",
    ").resolve_axis(\n",
    "    x='independent'\n",
    ").resolve_scale(\n",
    "    y='shared'\n",
    ").configure_view(\n",
    "    stroke='transparent'\n",
    ").configure_axisX(\n",
    "    grid=False, \n",
    "    domain=False\n",
    ")\n",
    "\n",
    "graf_nakl"
   ]
  },
  {
   "cell_type": "code",
   "execution_count": null,
   "id": "181716ed-46ca-4f99-b0dd-6f4a46f06d1a",
   "metadata": {},
   "outputs": [],
   "source": [
    "me_to_neurazi(graf_nakl, soubor=\"01_nakladatelstvi_pocty\", kredity=kredity['default'])"
   ]
  },
  {
   "cell_type": "code",
   "execution_count": null,
   "id": "9de9821d-4239-4e7f-9422-7470e6ec3554",
   "metadata": {},
   "outputs": [],
   "source": [
    "import polars as pl"
   ]
  },
  {
   "cell_type": "markdown",
   "id": "56f9827d-d070-422c-a486-5d383c4c8065",
   "metadata": {},
   "source": [
    "### Podíl největšího"
   ]
  },
  {
   "cell_type": "code",
   "execution_count": null,
   "id": "0a55b9a1-73b3-49d2-80d7-262bdf7b8d17",
   "metadata": {},
   "outputs": [],
   "source": [
    "nakl = df[df['stran'] >= 30].groupby([\"nakladatel\",\"rok\"]).size().reset_index().rename(columns={0: 'knih'})\n",
    "knih_za_rok = nakl.groupby(\"rok\")[\"knih\"].sum().reset_index().rename(columns={'knih': 'celkem'})\n",
    "nakl = nakl.merge(knih_za_rok, on=\"rok\", how=\"left\")\n",
    "nakl['podíl'] = nakl['knih'] / nakl['celkem']\n",
    "nakl"
   ]
  },
  {
   "cell_type": "code",
   "execution_count": null,
   "id": "f46c20d6-407f-4ee2-9b70-cd925ca94c51",
   "metadata": {},
   "outputs": [],
   "source": [
    "str(nakl.sample(8))"
   ]
  },
  {
   "cell_type": "code",
   "execution_count": null,
   "id": "2d93ee9c-ebf7-48ca-a12b-340d184e01b4",
   "metadata": {},
   "outputs": [],
   "source": [
    "nakl.sort_values(by='podíl', ascending=False)"
   ]
  },
  {
   "cell_type": "code",
   "execution_count": null,
   "id": "394850f1-f357-4853-8ee8-2afdb247939b",
   "metadata": {},
   "outputs": [],
   "source": [
    "samonaklad = ['nákladem vlastním','nákl. vlast.','nákl. vl.']"
   ]
  },
  {
   "cell_type": "code",
   "execution_count": null,
   "id": "3db7f436-84fc-4e49-93e6-910025f256af",
   "metadata": {},
   "outputs": [],
   "source": [
    "nakl"
   ]
  },
  {
   "cell_type": "code",
   "execution_count": null,
   "id": "6d03ad0c-7d37-4c5b-beb5-93547c0eb992",
   "metadata": {},
   "outputs": [],
   "source": [
    "result = nakl[~nakl['nakladatel'].isin(samonaklad)].sort_values(['rok', 'podíl'], ascending=[True, False]).drop_duplicates('rok')\n",
    "print(result)\n",
    "result = result[result['rok'].isin(range(1900,2024))]\n",
    "result['rok'] = pd.to_datetime(result['rok'].apply(lambda x: f\"{int(x)}-01-01\"))\n",
    "result = result.replace({'IŽ': 'Železný','Ivo Železný':'Železný','Euromedia Group':'Euromedia'})\n",
    "nejcastejsi = result.groupby('nakladatel').size() \n",
    "print(nejcastejsi.nlargest(15))\n",
    "nejcastejsi = nejcastejsi[nejcastejsi >=4 ].index.to_list()\n",
    "print(nejcastejsi)\n",
    "nejcastejsi=['SPN','MOBA','Železný','Euromedia','Orbis']\n",
    "nenahrazeni = {x : x for x in nejcastejsi}\n",
    "print(nenahrazeni)\n",
    "result = pl.from_pandas(result).with_columns(pl.col('nakladatel').replace_strict(nenahrazeni, default='jiné')).to_pandas()\n",
    "result"
   ]
  },
  {
   "cell_type": "code",
   "execution_count": null,
   "id": "e3b6a883-aff9-4d5a-9ce1-4e0c544516c4",
   "metadata": {},
   "outputs": [],
   "source": [
    "result['nakladatel'].nunique()"
   ]
  },
  {
   "cell_type": "code",
   "execution_count": null,
   "id": "19730dc7-9234-47a4-b3c0-e4199520b29f",
   "metadata": {},
   "outputs": [],
   "source": [
    "razeni = result['nakladatel'].drop_duplicates().to_list()"
   ]
  },
  {
   "cell_type": "code",
   "execution_count": null,
   "id": "7ecb548a-b2d1-436e-bd20-8034ba1ab6af",
   "metadata": {},
   "outputs": [],
   "source": [
    "titulek2 = \"Podíl největšího nakladatelství na vydaných knihách\"\n",
    "podtitulek2 = wrap(\"Za první republiky vydávali nejvíce knih střídavě J. Otto, B. Kočí, Jos. R. Vilímek a Fr. Švejda, často se také na první příčce objevoval samonáklad. Monopol Státního pedagogického nakladatelství za socialismu krátkodobě narušovalo Státní nakladatelství technické knihy. Po revoluci se krátkodobě prosadila nakladatelství Harlequin, BB art, Grada a univerzitní nakladatelství ČVUT a UPOL.\",70)"
   ]
  },
  {
   "cell_type": "code",
   "execution_count": null,
   "id": "398d559e-9468-4014-b9e5-16daa60605bc",
   "metadata": {},
   "outputs": [],
   "source": [
    "graf_nejvesi = alt.Chart(result, title={'text': titulek2}).mark_bar(width=2).encode(\n",
    "    alt.X(\"rok:T\", \n",
    "          title=None,\n",
    "          axis=alt.Axis(domainOpacity=0, tickColor='#DCDDD6')\n",
    "    ),\n",
    "    alt.Y('podíl:Q', \n",
    "          axis=alt.Axis(domainOpacity=0, tickColor='#DCDDD6', orient='right', labelExpr=\"datum.label * 100 + ' %'\"), \n",
    "          title=None\n",
    "    ),\n",
    "    alt.Color(\"nakladatel:N\", \n",
    "              scale=alt.Scale(range=['#DFBD6E', '#C8414D', '#6B8EAA', '#33444C','#588438'  ,'#F2E9DE']), ## '# ['#a7ddd6','#001f80','#e6e6e4','#e5db00','#e49996','#9cc002']), \n",
    "              title=None,\n",
    "               sort=['Orbis','SPN','Železný','MOBA','Euromedia','jiné'],\n",
    "              legend=alt.Legend(orient=\"top\")\n",
    "    )).properties(\n",
    "    width=kredity['sirka'] * 1.2, height=kredity['vyska_nizkych'] * 1.5,autosize={'type': 'fit-x', 'contains': 'padding'}\n",
    ").configure_view(stroke='transparent').configure_view(stroke='transparent').configure_axisX(grid=False, domain=False)\n",
    "\n",
    "graf_nejvesi"
   ]
  },
  {
   "cell_type": "code",
   "execution_count": null,
   "id": "23b54067-5732-4063-a7a9-f936426bd393",
   "metadata": {},
   "outputs": [],
   "source": [
    "me_to_neurazi(graf_nejvesi, soubor=\"01_nejvetsi_nakladatelstvi\", kredity=kredity['default'])"
   ]
  }
 ],
 "metadata": {
  "kernelspec": {
   "display_name": "Python 3 (ipykernel)",
   "language": "python",
   "name": "python3"
  },
  "language_info": {
   "codemirror_mode": {
    "name": "ipython",
    "version": 3
   },
   "file_extension": ".py",
   "mimetype": "text/x-python",
   "name": "python",
   "nbconvert_exporter": "python",
   "pygments_lexer": "ipython3",
   "version": "3.12.3"
  }
 },
 "nbformat": 4,
 "nbformat_minor": 5
}
