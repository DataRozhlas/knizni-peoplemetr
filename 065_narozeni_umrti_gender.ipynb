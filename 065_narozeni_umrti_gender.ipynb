{
 "cells": [
  {
   "cell_type": "code",
   "execution_count": 136,
   "id": "d32a4eba-6406-4cda-9662-730e3b5b0277",
   "metadata": {},
   "outputs": [
    {
     "data": {
      "text/plain": [
       "<polars.config.Config at 0x2eb2ff827e0>"
      ]
     },
     "execution_count": 136,
     "metadata": {},
     "output_type": "execute_result"
    }
   ],
   "source": [
    "import os\n",
    "import polars as pl\n",
    "pl.Config(tbl_rows=500)"
   ]
  },
  {
   "cell_type": "code",
   "execution_count": null,
   "id": "a67615af-8151-46b7-b038-f6cf71392b9f",
   "metadata": {},
   "outputs": [],
   "source": [
    "aut = pl.read_parquet(os.path.join(\"data\",\"aut_vyber.parquet\"))"
   ]
  },
  {
   "cell_type": "code",
   "execution_count": null,
   "id": "4a921b1a-914c-45f9-9544-816d553e588c",
   "metadata": {},
   "outputs": [],
   "source": [
    "wikid = pl.read_parquet(os.path.join(\"data\",\"wikidata.parquet\"))"
   ]
  },
  {
   "cell_type": "markdown",
   "id": "ea5e5e86-8065-471f-8ef2-f682f3d66fd0",
   "metadata": {},
   "source": [
    "## Personální autority"
   ]
  },
  {
   "cell_type": "code",
   "execution_count": null,
   "id": "33794c35-4a15-4162-83a7-0042caa5dbcd",
   "metadata": {},
   "outputs": [],
   "source": [
    "aut.sample(10)"
   ]
  },
  {
   "cell_type": "code",
   "execution_count": null,
   "id": "b825d2de-20db-4b76-8c18-55f08ce48e52",
   "metadata": {},
   "outputs": [],
   "source": [
    "aut = aut.explode(\"375_a\").with_columns(pl.when(pl.col(\"375_a\") == \"muž\").then(pl.lit(\"m\")).when(pl.col(\"375_a\") == \"žena\").then(pl.lit(\"f\")).otherwise(None)\n",
    "    .alias(\"gender\"))"
   ]
  },
  {
   "cell_type": "code",
   "execution_count": null,
   "id": "5a71d911-f3cd-4148-bc33-7aefa0e9c669",
   "metadata": {},
   "outputs": [],
   "source": [
    "def rok_z_autorit(retezec):\n",
    "    try:\n",
    "        rok = int(re.search(r\"\\b\\d{1,4}(?!\\.)\\b\", retezec).group())\n",
    "        if \"př. Kr.\" in retezec:\n",
    "            return -rok\n",
    "        else:\n",
    "            return rok\n",
    "    except:\n",
    "        return None\n",
    "\n",
    "def roky_z_autorit(retezec):\n",
    "    if \"činn\" in retezec:\n",
    "        return {\"narozeni\": None, \"umrti\": None}\n",
    "    narozeni = rok_z_autorit(retezec.split('-')[0])\n",
    "    umrti = rok_z_autorit(retezec.split('-')[1])\n",
    "    if umrti and narozeni:\n",
    "        if (umrti < 0) and (narozeni > 0):\n",
    "            narozeni = -narozeni\n",
    "    return {\"narozeni\": narozeni, \"umrti\": umrti}"
   ]
  },
  {
   "cell_type": "code",
   "execution_count": null,
   "id": "1b11daf3-a7c1-462a-883e-2f8416b4c2a7",
   "metadata": {},
   "outputs": [],
   "source": [
    "roky_z_autorit(\"43 př. Kr.-asi 18 po Kr.\")"
   ]
  },
  {
   "cell_type": "code",
   "execution_count": null,
   "id": "bd58cdcb-e7e7-4c1e-b961-ce615fa97b34",
   "metadata": {},
   "outputs": [],
   "source": [
    "roky_z_autorit(\"129-asi 216\")"
   ]
  },
  {
   "cell_type": "code",
   "execution_count": null,
   "id": "5fd238cc-a085-44ce-90bb-af6fdfe7a664",
   "metadata": {},
   "outputs": [],
   "source": [
    "roky_z_autorit(\"činný 2488-2470 př. Kr.\")"
   ]
  },
  {
   "cell_type": "code",
   "execution_count": null,
   "id": "a379a84b-5fdc-46d8-a7c0-45b115851316",
   "metadata": {},
   "outputs": [],
   "source": [
    "roky_z_autorit(\"činný 16. století-17. století\")"
   ]
  },
  {
   "cell_type": "code",
   "execution_count": null,
   "id": "1f61117c-1470-41b4-ac85-241e8019240f",
   "metadata": {},
   "outputs": [],
   "source": [
    "roky_z_autorit(\"činná 1875-1876\")"
   ]
  },
  {
   "cell_type": "code",
   "execution_count": null,
   "id": "0618ff89-dd65-4f8a-9db6-cd4f09dbebd4",
   "metadata": {},
   "outputs": [],
   "source": [
    "aut = aut.explode(\"100_d\").with_columns(pl.col(\"100_d\").map_elements(roky_z_autorit).alias(\"letopocty\")).unnest('letopocty')"
   ]
  },
  {
   "cell_type": "markdown",
   "id": "db0e1830-7dc1-46cf-b9df-7e70971e348f",
   "metadata": {},
   "source": [
    "### Doplnění"
   ]
  },
  {
   "cell_type": "code",
   "execution_count": null,
   "id": "b67325a0-a742-403a-8f9e-29c810e05a66",
   "metadata": {},
   "outputs": [],
   "source": [
    "aut = aut.explode('678_a').with_columns(pl.col('678_a').map_elements(lambda x: x.split(' ')[0] if x else None).alias('bio1'))"
   ]
  },
  {
   "cell_type": "code",
   "execution_count": null,
   "id": "a1f58460-399b-4148-994c-e1144dd9689c",
   "metadata": {},
   "outputs": [],
   "source": [
    "muzska_bio1 = aut.filter(pl.col('gender') == 'm').group_by(['bio1']).len().sort(by='len',descending=True).head(500)\n",
    "muzska_bio1"
   ]
  },
  {
   "cell_type": "code",
   "execution_count": null,
   "id": "7664d5ed-c32a-44f6-aba3-8e8c93ef442a",
   "metadata": {},
   "outputs": [],
   "source": [
    "muzska_slova = muzska_bio1.select(pl.col('bio1')).to_series().to_list()\n",
    "muzska_slova = [m for m in muzska_slova if m]\n",
    "muzska_slova = [m for m in muzska_slova if len(m) > 1]\n",
    "muzska_slova = [m for m in muzska_slova if m[-1] != 'á']\n",
    "muzska_slova = [m for m in muzska_slova if m[-1] not in ['.','í'] and m[-2] != '.' and m != 'MD,' and m != 'MB' and m != 'Původem'\n",
    "               and m != 'Narozena' and m != 'Americká' and m != 'Pseudonym' and m != 'Publikace' and m != 'PhD,' and m != 'DM,']\n",
    "muzska_slova    "
   ]
  },
  {
   "cell_type": "code",
   "execution_count": null,
   "id": "de3c69df-4886-473b-9739-2b9e1edd10c8",
   "metadata": {},
   "outputs": [],
   "source": [
    "[m for m in muzska_slova if m[-1] == 'a']"
   ]
  },
  {
   "cell_type": "code",
   "execution_count": null,
   "id": "51b8f17a-70d3-4cc2-8634-f53b927e9b60",
   "metadata": {},
   "outputs": [],
   "source": [
    "zenska_bio1 = aut.filter(pl.col('gender') == 'f').group_by(['bio1']).len().sort(by='len',descending=True).head(500)\n",
    "zenska_bio1"
   ]
  },
  {
   "cell_type": "code",
   "execution_count": null,
   "id": "c82c69d8-af43-4999-bcea-eef26e86e72e",
   "metadata": {},
   "outputs": [],
   "source": [
    "zenska_slova = zenska_bio1.select(pl.col('bio1')).to_series().to_list()\n",
    "zenska_slova = [m for m in zenska_slova if m]\n",
    "zenska_slova = [m for m in zenska_slova if len(m) > 1]\n",
    "zenska_slova = [m for m in zenska_slova if m[-1] not in ['.','í'] and m[-2] != '.' and m != 'MD,' and m != 'MB' and m != 'Původem' and m != 'Narozen' and m != 'Pseudonym' and m != 'Publikace' and m != 'PhD,' and m != 'Mgr,' and m[-1] != 'y' and m[-1] != 'ý' and m != 'Ing,' and m != 'MA,' and m != 'MUDr,' and m != 'MBA,']\n",
    "zenska_slova    "
   ]
  },
  {
   "cell_type": "code",
   "execution_count": null,
   "id": "81d2f5b0-2285-4dbb-b22e-4ebd6a24f0b5",
   "metadata": {},
   "outputs": [],
   "source": [
    "aut.filter((pl.col('gender') == 'm') & (pl.col('bio1') == 'Narozena'))"
   ]
  },
  {
   "cell_type": "markdown",
   "id": "7955f44a-21c2-4425-84d8-00f0c8d001bc",
   "metadata": {},
   "source": [
    "To je asi dobrý důvod převážit původní označení genderu, že."
   ]
  },
  {
   "cell_type": "code",
   "execution_count": null,
   "id": "54412773-09ee-44c5-ac08-74a0cf3d401d",
   "metadata": {},
   "outputs": [],
   "source": [
    "aut = aut.explode('100_7')"
   ]
  },
  {
   "cell_type": "code",
   "execution_count": null,
   "id": "292807b0-dbfd-41b7-b454-74ea4ed6bec9",
   "metadata": {},
   "outputs": [],
   "source": [
    "skoro_urcite_muzi = aut.filter(pl.col('bio1').is_in(muzska_slova))\n",
    "predelat_na_muze = skoro_urcite_muzi.select(pl.col('100_7')).to_series().to_list()\n",
    "skoro_urcite_muzi"
   ]
  },
  {
   "cell_type": "code",
   "execution_count": null,
   "id": "a8d46b0e-3110-47f4-a754-141b95c4057c",
   "metadata": {},
   "outputs": [],
   "source": [
    "skoro_urcite_zeny = aut.filter(pl.col('bio1').is_in(zenska_slova))\n",
    "predelat_na_zeny = skoro_urcite_zeny.select(pl.col('100_7')).to_series().to_list()\n",
    "skoro_urcite_zeny"
   ]
  },
  {
   "cell_type": "code",
   "execution_count": null,
   "id": "b236fc7b-6a0f-4771-bd3d-0fe021920ca2",
   "metadata": {},
   "outputs": [],
   "source": [
    "[x for x in zenska_slova if x in muzska_slova]"
   ]
  },
  {
   "cell_type": "code",
   "execution_count": null,
   "id": "26973377-3a94-4883-9e88-5074d94729d5",
   "metadata": {},
   "outputs": [],
   "source": [
    "len(predelat_na_muze)"
   ]
  },
  {
   "cell_type": "code",
   "execution_count": null,
   "id": "4ef3229c-5d77-4ac9-af6a-1c66673b0db5",
   "metadata": {},
   "outputs": [],
   "source": [
    "len(predelat_na_zeny)"
   ]
  },
  {
   "cell_type": "code",
   "execution_count": null,
   "id": "75c83602-381c-470d-9f28-bc15a2c13072",
   "metadata": {},
   "outputs": [],
   "source": [
    "predelat_na_zeny"
   ]
  },
  {
   "cell_type": "code",
   "execution_count": null,
   "id": "52628932-69f3-47a3-aa1c-03da288fa142",
   "metadata": {},
   "outputs": [],
   "source": [
    "set(predelat_na_zeny).intersection(set(predelat_na_muze))"
   ]
  },
  {
   "cell_type": "code",
   "execution_count": null,
   "id": "c4db539d-f285-4e45-aae0-fce88f636752",
   "metadata": {},
   "outputs": [],
   "source": [
    "predelat = predelat_na_muze + predelat_na_zeny"
   ]
  },
  {
   "cell_type": "code",
   "execution_count": null,
   "id": "ed1f9507-5c50-4d71-b9ad-464f26940685",
   "metadata": {},
   "outputs": [],
   "source": [
    "aut_nebudeme_menit = aut.filter(~pl.col('100_7').is_in(predelat))\n",
    "aut_budeme_menit = aut.filter(pl.col('100_7').is_in(predelat))"
   ]
  },
  {
   "cell_type": "code",
   "execution_count": null,
   "id": "ab0e9c8f-d8b0-4a18-9a20-6779b81806ee",
   "metadata": {},
   "outputs": [],
   "source": [
    "aut_zmeneno = aut_budeme_menit.with_columns(pl.when(\n",
    "    pl.col('100_7').is_in(predelat_na_muze)\n",
    ").then(\n",
    "    pl.lit('m')\n",
    ").when(\n",
    "    pl.col('100_7').is_in(predelat_na_zeny)\n",
    ").then(pl.lit('f')\n",
    "      ).otherwise(None).alias('gender'))"
   ]
  },
  {
   "cell_type": "code",
   "execution_count": null,
   "id": "adf306a8-0682-467a-a35c-5a03f46fe2cb",
   "metadata": {},
   "outputs": [],
   "source": [
    "aut_spojene = pl.concat([aut_nebudeme_menit, aut_zmeneno])"
   ]
  },
  {
   "cell_type": "code",
   "execution_count": null,
   "id": "fe1bd53a-9387-4a80-bd6b-2b32ec4820ff",
   "metadata": {},
   "outputs": [],
   "source": [
    "aut_vyplnene = aut_spojene.filter(~pl.col(\"narozeni\").is_null() | ~pl.col(\"umrti\").is_null() | ~pl.col(\"umrti\").is_null()).select(pl.col(['100_7','narozeni','umrti','gender']))"
   ]
  },
  {
   "cell_type": "code",
   "execution_count": null,
   "id": "7013b689-1187-4d22-8fef-9bc1ef23bd09",
   "metadata": {},
   "outputs": [],
   "source": [
    "len(aut_vyplnene)"
   ]
  },
  {
   "cell_type": "markdown",
   "id": "6359d764-01d3-4a9a-b85d-5cf4459d7a54",
   "metadata": {},
   "source": [
    "## Wikidata"
   ]
  },
  {
   "cell_type": "code",
   "execution_count": null,
   "id": "f84fec0a-a829-4135-92be-f7fb864c77b9",
   "metadata": {},
   "outputs": [],
   "source": [
    "wikid.sample(10)"
   ]
  },
  {
   "cell_type": "code",
   "execution_count": null,
   "id": "7b4c28ee-d3fc-4bf3-8058-c534327bfa98",
   "metadata": {},
   "outputs": [],
   "source": [
    "wikid = wikid.with_columns(pl.when(pl.col(\"w_gender\") == \"muž\").then(pl.lit(\"m\")).when(pl.col(\"w_gender\") == \"žena\").then(pl.lit(\"f\")).otherwise(None).alias(\"gender\"))"
   ]
  },
  {
   "cell_type": "code",
   "execution_count": null,
   "id": "40c5e603-ae15-4eb1-ac42-f2b77e214339",
   "metadata": {},
   "outputs": [],
   "source": [
    "wikid_vyplnene = wikid.with_columns(pl.col(\"w_narozeni\").cast(int).alias(\"narozeni\")).with_columns(pl.col(\"w_umrti\").cast(int).alias(\"umrti\")).rename({'__index_level_0__':'100_7'}).select(pl.col(['100_7','narozeni','umrti','gender'])).filter(~pl.col(\"narozeni\").is_null() | ~pl.col(\"umrti\").is_null()| ~pl.col(\"gender\").is_null())\n",
    "wikid_vyplnene"
   ]
  },
  {
   "cell_type": "markdown",
   "id": "e635e5bf-5bbe-4ac2-af39-45443ffeef66",
   "metadata": {},
   "source": [
    "## Spojení"
   ]
  },
  {
   "cell_type": "code",
   "execution_count": null,
   "id": "5b66eb37-070c-4596-84a8-6c3c7eb9e150",
   "metadata": {},
   "outputs": [],
   "source": [
    "def specialized_join(df1: pl.DataFrame, df2: pl.DataFrame) -> pl.DataFrame:\n",
    "    # Perform outer join on '100_7' column\n",
    "    joined = df1.join(\n",
    "        df2,\n",
    "        on=\"100_7\",\n",
    "        how=\"outer\",\n",
    "        suffix=\"_df2\"\n",
    "    )\n",
    "    \n",
    "    # Coalesce the columns, prioritizing df1 values\n",
    "    result = joined.with_columns([\n",
    "        pl.coalesce(\"narozeni\", \"narozeni_df2\").alias(\"narozeni\"),\n",
    "        pl.coalesce(\"umrti\", \"umrti_df2\").alias(\"umrti\")\n",
    "    ])\n",
    "    \n",
    "    # Drop the duplicate columns from df2\n",
    "    result = result.drop([\"narozeni_df2\", \"umrti_df2\"])\n",
    "    \n",
    "    return result"
   ]
  },
  {
   "cell_type": "code",
   "execution_count": null,
   "id": "d95d0577-41b0-41b6-aaec-d4c201ff773c",
   "metadata": {},
   "outputs": [],
   "source": [
    "specialized_join(aut_vyplnene, wikid_vyplnene)"
   ]
  },
  {
   "cell_type": "code",
   "execution_count": null,
   "id": "63d7b773-130b-4250-8e56-d46aa90ef6ee",
   "metadata": {},
   "outputs": [],
   "source": [
    "def specialized_join(df1: pl.DataFrame, df2: pl.DataFrame) -> pl.DataFrame:\n",
    "    # Perform outer join\n",
    "    joined = df1.join(\n",
    "        df2,\n",
    "        on=\"100_7\",\n",
    "        how=\"outer\",\n",
    "        suffix=\"_df2\"\n",
    "    )\n",
    "    \n",
    "    # Coalesce all columns, including the ID column\n",
    "    result = joined.with_columns([\n",
    "        pl.coalesce(\"100_7\", \"100_7_df2\").alias(\"100_7\"),\n",
    "        pl.coalesce(\"narozeni\", \"narozeni_df2\").alias(\"narozeni\"),\n",
    "        pl.coalesce(\"umrti\", \"umrti_df2\").alias(\"umrti\"),\n",
    "        pl.coalesce(\"gender\", \"gender_df2\").alias(\"gender\")\n",
    "    ])\n",
    "    \n",
    "    # Drop the duplicate columns\n",
    "    result = result.drop([\"100_7_df2\", \"narozeni_df2\", \"umrti_df2\",\"gender_df2\"])\n",
    "    \n",
    "    return result"
   ]
  },
  {
   "cell_type": "markdown",
   "id": "d5b2af85-bc9c-4de3-9b36-a19c7377bc9d",
   "metadata": {},
   "source": [
    "### Teď co bude přesnější"
   ]
  },
  {
   "cell_type": "code",
   "execution_count": null,
   "id": "a4849f57-fdf9-436b-ba77-936b15684a1e",
   "metadata": {},
   "outputs": [],
   "source": [
    "specialized_join(aut_vyplnene, wikid_vyplnene).with_columns((pl.col(\"umrti\") - pl.col(\"narozeni\")).alias(\"doziti\")).drop_nulls(subset=\"doziti\").select(pl.col(\"doziti\")).median()"
   ]
  },
  {
   "cell_type": "code",
   "execution_count": null,
   "id": "3ddabc71-13ae-4507-bb3c-8aad3a568105",
   "metadata": {},
   "outputs": [],
   "source": [
    "specialized_join(aut_vyplnene, wikid_vyplnene).with_columns((pl.col(\"umrti\") - pl.col(\"narozeni\")).alias(\"doziti\")).drop_nulls(subset=\"doziti\").filter(pl.col(\"doziti\") > 110)"
   ]
  },
  {
   "cell_type": "code",
   "execution_count": null,
   "id": "1f44d41b-7d1e-48d5-8cc0-bf41acad5ff4",
   "metadata": {},
   "outputs": [],
   "source": [
    "specialized_join(wikid_vyplnene,aut_vyplnene).with_columns((pl.col(\"umrti\") - pl.col(\"narozeni\")).alias(\"doziti\")).drop_nulls(subset=\"doziti\").select(pl.col(\"doziti\")).median()"
   ]
  },
  {
   "cell_type": "code",
   "execution_count": null,
   "id": "2408b35a-1a13-4ebe-9389-de5db2295cd6",
   "metadata": {},
   "outputs": [],
   "source": [
    "specialized_join(wikid_vyplnene, aut_vyplnene).with_columns((pl.col(\"umrti\") - pl.col(\"narozeni\")).alias(\"doziti\")).drop_nulls(subset=\"doziti\").filter(pl.col(\"doziti\") > 110)"
   ]
  },
  {
   "cell_type": "code",
   "execution_count": null,
   "id": "9ca68237-bf16-4ee7-9a89-f38cc0a6b190",
   "metadata": {},
   "outputs": [],
   "source": [
    "specialized_join(wikid_vyplnene, aut_vyplnene).with_columns((pl.col(\"umrti\") - pl.col(\"narozeni\")).alias(\"doziti\")).drop_nulls(subset=\"doziti\").filter(pl.col(\"doziti\") < 10)"
   ]
  },
  {
   "cell_type": "code",
   "execution_count": null,
   "id": "f327e608-cfdd-4cf4-bd99-57b24efdead3",
   "metadata": {
    "scrolled": true
   },
   "outputs": [],
   "source": [
    "df = specialized_join(aut_vyplnene, wikid_vyplnene)"
   ]
  },
  {
   "cell_type": "markdown",
   "id": "cb95331d-2550-4132-8407-ce49928fb7f7",
   "metadata": {},
   "source": [
    "## Opravy a uložení"
   ]
  },
  {
   "cell_type": "code",
   "execution_count": null,
   "id": "3f8b59af-092d-4558-a044-d5c8977b9fcc",
   "metadata": {},
   "outputs": [],
   "source": [
    "aut.filter(pl.col('100_7') == 'vse2005279019')"
   ]
  },
  {
   "cell_type": "code",
   "execution_count": null,
   "id": "262b4449-1733-4d80-9feb-ea8d7523cfbd",
   "metadata": {},
   "outputs": [],
   "source": []
  },
  {
   "cell_type": "code",
   "execution_count": null,
   "id": "214d41ee-5377-4a67-850b-d0a4bb837c56",
   "metadata": {},
   "outputs": [],
   "source": [
    "len(df.filter(pl.col('narozeni').is_null()))"
   ]
  },
  {
   "cell_type": "code",
   "execution_count": null,
   "id": "65330b6f-3cb0-48d8-a271-1d5d617b4003",
   "metadata": {},
   "outputs": [],
   "source": [
    "len(df.filter(~pl.col('narozeni').is_null()))"
   ]
  },
  {
   "cell_type": "code",
   "execution_count": null,
   "id": "c8cb93f7-d9a3-4e91-bdf1-79478eb88c68",
   "metadata": {},
   "outputs": [],
   "source": [
    "len(df.filter(~pl.col('umrti').is_null()))"
   ]
  },
  {
   "cell_type": "code",
   "execution_count": null,
   "id": "1ecaca70-c658-47f9-b7f0-88450415abcd",
   "metadata": {},
   "outputs": [],
   "source": [
    "len(df.filter(pl.col('umrti').is_null()))"
   ]
  },
  {
   "cell_type": "code",
   "execution_count": null,
   "id": "3d6110e1-a1ab-4d99-886c-300958e4c12b",
   "metadata": {},
   "outputs": [],
   "source": [
    "len(df.filter(~pl.col('gender').is_null()))"
   ]
  },
  {
   "cell_type": "code",
   "execution_count": null,
   "id": "175efea8-e309-487a-952d-5a131f4dd1a5",
   "metadata": {},
   "outputs": [],
   "source": [
    "len(df.filter(pl.col('gender').is_null()))"
   ]
  },
  {
   "cell_type": "code",
   "execution_count": null,
   "id": "d7cb7335-5f1e-479a-96cd-04044a81c58e",
   "metadata": {},
   "outputs": [],
   "source": []
  },
  {
   "cell_type": "code",
   "execution_count": null,
   "id": "d56a0829-d7d1-40ab-8d4c-54e6ee05aafe",
   "metadata": {},
   "outputs": [],
   "source": [
    "df.group_by('100_7').len().sort(by='len',descending=True)"
   ]
  },
  {
   "cell_type": "code",
   "execution_count": null,
   "id": "37299473-31c9-4230-ac9f-ab7d03500bc8",
   "metadata": {},
   "outputs": [],
   "source": [
    "len(df)"
   ]
  },
  {
   "cell_type": "code",
   "execution_count": null,
   "id": "be80f365-6f99-49bc-87e5-647a51860118",
   "metadata": {},
   "outputs": [],
   "source": [
    "df = df.unique(subset=['100_7'], keep='first')"
   ]
  },
  {
   "cell_type": "code",
   "execution_count": null,
   "id": "bb1e8528-03b8-48fc-98a0-7a123a76ba49",
   "metadata": {},
   "outputs": [],
   "source": [
    "len(df)"
   ]
  },
  {
   "cell_type": "code",
   "execution_count": null,
   "id": "dae18ffa-f423-4f5d-9948-46126d6da080",
   "metadata": {},
   "outputs": [],
   "source": [
    "df.filter(pl.col('gender').is_null()).sample(20)"
   ]
  },
  {
   "cell_type": "code",
   "execution_count": null,
   "id": "7e6cd6a4-86d4-442b-a9e0-c4490d1c8853",
   "metadata": {},
   "outputs": [],
   "source": [
    "df = df.with_columns(\n",
    "    (pl.col(\"umrti\") - pl.col(\"narozeni\")).alias(\"doziti\")\n",
    ").with_columns(pl.when(~pl.col('doziti').is_between(15,115)).then(None).otherwise(pl.col('umrti')).alias('umrti'))"
   ]
  },
  {
   "cell_type": "code",
   "execution_count": null,
   "id": "0162cad2-8df4-4566-9714-97379d42e497",
   "metadata": {},
   "outputs": [],
   "source": [
    "df"
   ]
  },
  {
   "cell_type": "code",
   "execution_count": null,
   "id": "1aa9c0c2-4e9b-4838-8188-823897bf4610",
   "metadata": {},
   "outputs": [],
   "source": [
    "df.sample(100)"
   ]
  },
  {
   "cell_type": "code",
   "execution_count": null,
   "id": "a04f464e-930f-4c85-8182-e87f4c47fe6a",
   "metadata": {},
   "outputs": [],
   "source": [
    "df.drop('doziti').write_parquet(os.path.join('data','narozeni-umrti-gender.parquet'))"
   ]
  }
 ],
 "metadata": {
  "kernelspec": {
   "display_name": "Python 3 (ipykernel)",
   "language": "python",
   "name": "python3"
  },
  "language_info": {
   "codemirror_mode": {
    "name": "ipython",
    "version": 3
   },
   "file_extension": ".py",
   "mimetype": "text/x-python",
   "name": "python",
   "nbconvert_exporter": "python",
   "pygments_lexer": "ipython3",
   "version": "3.12.3"
  }
 },
 "nbformat": 4,
 "nbformat_minor": 5
}
