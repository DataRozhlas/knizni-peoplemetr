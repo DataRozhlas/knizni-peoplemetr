{
 "cells": [
  {
   "cell_type": "code",
   "execution_count": 17,
   "id": "b4f7251b-00bb-465c-85ba-9380d7d72b07",
   "metadata": {},
   "outputs": [],
   "source": [
    "from scour import scour\n",
    "\n",
    "options = scour.sanitizeOptions()\n",
    "# Reduce precision to 2 decimal places\n",
    "options.digits = 2\n",
    "# Remove unnecessary attributes\n",
    "options.strip_ids = True\n",
    "options.strip_comments = True\n",
    "options.remove_metadata = True\n",
    "options.enable_viewboxing = True\n",
    "\n",
    "with open('grafy/01_temata.svg', 'r', encoding=\"utf-8\") as f:\n",
    "    svg_data = f.read()\n",
    "\n",
    "output = scour.scourString(svg_data, options)\n",
    "with open('grafy/01_temata_opt_x3.svg', 'w+', encoding=\"utf-8\") as f:\n",
    "    f.write(output)"
   ]
  }
 ],
 "metadata": {
  "kernelspec": {
   "display_name": "Python 3 (ipykernel)",
   "language": "python",
   "name": "python3"
  },
  "language_info": {
   "codemirror_mode": {
    "name": "ipython",
    "version": 3
   },
   "file_extension": ".py",
   "mimetype": "text/x-python",
   "name": "python",
   "nbconvert_exporter": "python",
   "pygments_lexer": "ipython3",
   "version": "3.12.3"
  }
 },
 "nbformat": 4,
 "nbformat_minor": 5
}
