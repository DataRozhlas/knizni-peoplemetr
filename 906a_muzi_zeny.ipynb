{
 "cells": [
  {
   "cell_type": "code",
   "execution_count": 1,
   "id": "3c78c5ac-68b8-4896-b3d7-70d5bbddd4b4",
   "metadata": {},
   "outputs": [],
   "source": [
    "import os\n",
    "import datetime\n",
    "import warnings\n",
    "import polars as pl\n",
    "import pandas as pd\n",
    "import altair as alt\n",
    "\n",
    "from src.najdi_rok import najdi_rok\n",
    "from src.pocet_stran import pocet_stran\n",
    "from src.bez_bordelu import bez_bordelu\n",
    "from src.alt_friendly import alt_friendly\n",
    "from src.hezke_jmeno import hezke_jmeno\n",
    "from src.kristi_promin import kristi_promin\n",
    "from src.zjisti_vazbu import zjisti_vazbu\n",
    "\n",
    "pl.Config(tbl_rows=100)\n",
    "alt.data_transformers.disable_max_rows()\n",
    "alt.themes.register('irozhlas', kristi_promin)\n",
    "alt.themes.enable('irozhlas')\n",
    "warnings.filterwarnings('ignore')"
   ]
  },
  {
   "cell_type": "code",
   "execution_count": 2,
   "id": "768d74ce-69df-4d42-abce-ac4d607e44b1",
   "metadata": {},
   "outputs": [
    {
     "name": "stdout",
     "output_type": "stream",
     "text": [
      "794838\n",
      "294356\n"
     ]
    }
   ],
   "source": [
    "df = pl.read_parquet(os.path.join(\"data/cnb_sloupce\",\"100.parquet\"))\n",
    "df = df.join(pl.read_parquet(os.path.join(\"data/cnb_sloupce\",\"leader.parquet\")), left_on=\"001\", right_on=\"001\", how=\"left\")\n",
    "df = df.join(pl.read_parquet(os.path.join(\"data/cnb_sloupce\",\"008.parquet\")), left_on=\"001\", right_on=\"001\", how=\"left\")\n",
    "df = df.to_pandas()\n",
    "df = df[df[\"leader\"].str[6].isin([\"a\", \"t\"])]\n",
    "df = df[~df[\"leader\"].str[7].isin([\"b\", \"i\", \"s\", \" \"])]\n",
    "df = df[(df[\"008\"].str[15:17] == \"xr\") & (df[\"008\"].str[35:38] == \"cze\")]\n",
    "df = pl.from_pandas(df)\n",
    "df = df.join(pl.read_parquet(os.path.join(\"data/cnb_sloupce\",\"020.parquet\")), left_on=\"001\", right_on=\"001\", how=\"left\")\n",
    "df = df.join(pl.read_parquet(os.path.join(\"data/cnb_sloupce\",\"022.parquet\")), left_on=\"001\", right_on=\"001\", how=\"left\")\n",
    "df = df.join(pl.read_parquet(os.path.join(\"data/cnb_sloupce\",\"245.parquet\")), left_on=\"001\", right_on=\"001\", how=\"left\")\n",
    "df = df.join(pl.read_parquet(os.path.join(\"data/cnb_sloupce\",\"300.parquet\")), left_on=\"001\", right_on=\"001\", how=\"left\")\n",
    "df = df.join(pl.read_parquet(os.path.join(\"data/cnb_sloupce\",\"655.parquet\")), left_on=\"001\", right_on=\"001\", how=\"left\")\n",
    "df = df.join(pl.read_parquet(os.path.join(\"data/cnb_sloupce\",\"700.parquet\")), left_on=\"001\", right_on=\"001\", how=\"left\")\n",
    "df = df.explode(\"022_a\").filter(pl.col(\"022_a\").is_null())\n",
    "df = df.with_columns(pl.col('008').map_elements(najdi_rok, return_dtype=int).alias('rok'))\n",
    "df = df.with_columns(pl.col('300_a').map_elements(pocet_stran, return_dtype=int).alias('stran'))\n",
    "df = df.with_columns(pl.col('245_a').map_elements(bez_bordelu, return_dtype=str))\n",
    "df = df.explode(\"020_q\").with_columns(pl.col(\"020_q\").map_elements(zjisti_vazbu, return_dtype=str).alias('vazba'))\n",
    "df = df.explode('245_p').with_columns(pl.col('245_p').map_elements(bez_bordelu, return_dtype=str))\n",
    "print(len(df))\n",
    "df = df.filter(pl.col(\"rok\").is_between(2000,2024))\n",
    "df = df.filter((~pl.col(\"245_h\").str.contains(\"grafika\")) | pl.col(\"245_h\").is_null()).unique(subset=[\"008\",\"100_a\",\"245_a\",\"245_p\"], keep=\"first\")\n",
    "print(len(df))"
   ]
  },
  {
   "cell_type": "code",
   "execution_count": 3,
   "id": "9fb01832-3771-45ed-9d90-57728243476a",
   "metadata": {},
   "outputs": [
    {
     "data": {
      "text/plain": [
       "363993"
      ]
     },
     "execution_count": 3,
     "metadata": {},
     "output_type": "execute_result"
    }
   ],
   "source": [
    "aut = pl.read_parquet(os.path.join(\"data\",\"aut_vyber.parquet\"))\n",
    "cesi = aut.explode(\"370_c\").filter(pl.col(\"370_c\").str.contains(\"Česk\")).explode(\"100_7\").select(pl.col(\"100_7\")).to_series().to_list()\n",
    "len(cesi)"
   ]
  },
  {
   "cell_type": "code",
   "execution_count": 4,
   "id": "03cff388-ce47-4ada-a420-9efd2189ac74",
   "metadata": {},
   "outputs": [],
   "source": [
    "aut_muzi = aut.explode(\"375_a\").filter(pl.col(\"375_a\") == \"muž\").explode('100_7').select(pl.col('100_7')).to_series().to_list()\n",
    "aut_zeny = aut.explode(\"375_a\").filter(pl.col(\"375_a\") == \"žena\").explode('100_7').select(pl.col('100_7')).to_series().to_list()"
   ]
  },
  {
   "cell_type": "code",
   "execution_count": 5,
   "id": "86f3ff23-5371-44bc-8fac-932c4f608be2",
   "metadata": {},
   "outputs": [],
   "source": [
    "wikid = pl.read_parquet(os.path.join(\"data\",\"wikidata.parquet\"))"
   ]
  },
  {
   "cell_type": "code",
   "execution_count": 6,
   "id": "03f9bdb4-83b7-4517-8214-327d9640a786",
   "metadata": {},
   "outputs": [],
   "source": [
    "wikid_muzi = wikid.filter(pl.col(\"w_gender\") == \"muž\").select(pl.col(\"__index_level_0__\")).to_series().to_list()\n",
    "wikid_zeny = wikid.filter(pl.col(\"w_gender\") == \"žena\").select(pl.col(\"__index_level_0__\")).to_series().to_list()"
   ]
  },
  {
   "cell_type": "code",
   "execution_count": 7,
   "id": "e7469042-2ee9-4fd9-84d2-9bb09280ae48",
   "metadata": {},
   "outputs": [],
   "source": [
    "zeny = set(aut_zeny + wikid_zeny)\n",
    "muzi = set(aut_muzi + wikid_muzi)"
   ]
  },
  {
   "cell_type": "code",
   "execution_count": 49,
   "id": "16cbf0b1-61da-448a-89c7-cc4a92f2ca9e",
   "metadata": {},
   "outputs": [],
   "source": [
    "ceska_poezie = df.sort(by=\"rok\").unique(\n",
    "        subset=[\"100_a\",\"245_a\"]\n",
    "    ).explode(\"655_a\").filter(\n",
    "        pl.col(\"655_a\") == \"česká poezie\"\n",
    ")"
   ]
  },
  {
   "cell_type": "code",
   "execution_count": 65,
   "id": "929442b0-bbbc-47e0-be6b-1dda456a5c1c",
   "metadata": {},
   "outputs": [],
   "source": [
    "ceske_romany = df.sort(by=\"rok\").unique(\n",
    "        subset=[\"100_a\",\"245_a\"]\n",
    "    ).explode(\"655_a\").filter(\n",
    "        pl.col(\"655_a\") == \"české romány\"\n",
    ")"
   ]
  },
  {
   "cell_type": "code",
   "execution_count": 67,
   "id": "eac65e7e-352a-42e9-a811-029de6fbd08f",
   "metadata": {},
   "outputs": [],
   "source": [
    "ceske_kratke = df.sort(by=\"rok\").unique(\n",
    "        subset=[\"100_a\",\"245_a\"]\n",
    "    ).explode(\"655_a\").filter(\n",
    "        pl.col(\"655_a\").is_in([\"české novely\",\"české povídky\"])\n",
    ")"
   ]
  },
  {
   "cell_type": "code",
   "execution_count": 57,
   "id": "17302777-21fc-463d-a5c2-f1fce5faee50",
   "metadata": {},
   "outputs": [],
   "source": [
    "df_podil = ceske_romany.filter(\n",
    "    pl.col(\"100_7\").is_in(zeny)\n",
    ").group_by(\"rok\").len().sort(by=\"rok\").rename({\"len\":'zeny'}).join(\n",
    "    ceske_romany.filter(pl.col(\"100_7\").is_in(muzi)).group_by(\"rok\").len().sort(by=\"rok\").rename({\"len\":'muzi'}), on='rok'\n",
    ").with_columns(\n",
    "    (pl.col('zeny') + pl.col('muzi')).alias('celkem')\n",
    ").with_columns(\n",
    "    (pl.col('zeny') / pl.col('celkem')).alias('podil_zen')\n",
    ").with_columns(pl.lit(\"romány\").alias(\"zanr\"))"
   ]
  },
  {
   "cell_type": "code",
   "execution_count": 77,
   "id": "40f27d99-ee75-430a-8ac1-e79a74cfd841",
   "metadata": {},
   "outputs": [],
   "source": [
    "df_podil_kratke = ceske_kratke.filter(\n",
    "    pl.col(\"100_7\").is_in(zeny)\n",
    ").group_by(\"rok\").len().sort(by=\"rok\").rename({\"len\":'zeny'}).join(\n",
    "    ceske_kratke.filter(pl.col(\"100_7\").is_in(muzi)).group_by(\"rok\").len().sort(by=\"rok\").rename({\"len\":'muzi'}), on='rok'\n",
    ").with_columns(\n",
    "    (pl.col('zeny') + pl.col('muzi')).alias('celkem')\n",
    ").with_columns(\n",
    "    (pl.col('zeny') / pl.col('celkem')).alias('podil_zen')\n",
    ").with_columns(pl.lit(\"novely a povídky\").alias(\"zanr\"))"
   ]
  },
  {
   "cell_type": "code",
   "execution_count": null,
   "id": "ed359a56-1642-4021-9e49-4da9a27e51eb",
   "metadata": {},
   "outputs": [],
   "source": []
  },
  {
   "cell_type": "code",
   "execution_count": 79,
   "id": "e0c9b227-9d71-4dec-bb46-2681108d9d43",
   "metadata": {},
   "outputs": [],
   "source": [
    "df_podil_poezie = ceska_poezie.filter(\n",
    "    pl.col(\"100_7\").is_in(zeny)\n",
    ").group_by(\"rok\").len().sort(by=\"rok\").rename({\"len\":'zeny'}).join(\n",
    "    ceska_poezie.filter(pl.col(\"100_7\").is_in(muzi)).group_by(\"rok\").len().sort(by=\"rok\").rename({\"len\":'muzi'}), on='rok'\n",
    ").with_columns(\n",
    "    (pl.col('zeny') + pl.col('muzi')).alias('celkem')\n",
    ").with_columns(\n",
    "    (pl.col('zeny') / pl.col('celkem')).alias('podil_zen')\n",
    ").with_columns(pl.lit(\"poezie\").alias(\"zanr\"))"
   ]
  },
  {
   "cell_type": "code",
   "execution_count": 61,
   "id": "dff2d62e-1860-46d8-bead-634b13d7307f",
   "metadata": {},
   "outputs": [
    {
     "data": {
      "text/html": [
       "<div><style>\n",
       ".dataframe > thead > tr,\n",
       ".dataframe > tbody > tr {\n",
       "  text-align: right;\n",
       "  white-space: pre-wrap;\n",
       "}\n",
       "</style>\n",
       "<small>shape: (25, 6)</small><table border=\"1\" class=\"dataframe\"><thead><tr><th>rok</th><th>zeny</th><th>muzi</th><th>celkem</th><th>podil_zen</th><th>zanr</th></tr><tr><td>i64</td><td>u32</td><td>u32</td><td>u32</td><td>f64</td><td>str</td></tr></thead><tbody><tr><td>2000</td><td>43</td><td>182</td><td>225</td><td>0.191111</td><td>&quot;poezie&quot;</td></tr><tr><td>2001</td><td>42</td><td>198</td><td>240</td><td>0.175</td><td>&quot;poezie&quot;</td></tr><tr><td>2002</td><td>46</td><td>172</td><td>218</td><td>0.211009</td><td>&quot;poezie&quot;</td></tr><tr><td>2003</td><td>73</td><td>219</td><td>292</td><td>0.25</td><td>&quot;poezie&quot;</td></tr><tr><td>2004</td><td>49</td><td>217</td><td>266</td><td>0.184211</td><td>&quot;poezie&quot;</td></tr><tr><td>2005</td><td>60</td><td>220</td><td>280</td><td>0.214286</td><td>&quot;poezie&quot;</td></tr><tr><td>2006</td><td>93</td><td>221</td><td>314</td><td>0.296178</td><td>&quot;poezie&quot;</td></tr><tr><td>2007</td><td>68</td><td>269</td><td>337</td><td>0.20178</td><td>&quot;poezie&quot;</td></tr><tr><td>2008</td><td>88</td><td>255</td><td>343</td><td>0.25656</td><td>&quot;poezie&quot;</td></tr><tr><td>2009</td><td>97</td><td>273</td><td>370</td><td>0.262162</td><td>&quot;poezie&quot;</td></tr><tr><td>2010</td><td>119</td><td>269</td><td>388</td><td>0.306701</td><td>&quot;poezie&quot;</td></tr><tr><td>2011</td><td>107</td><td>272</td><td>379</td><td>0.282322</td><td>&quot;poezie&quot;</td></tr><tr><td>2012</td><td>89</td><td>267</td><td>356</td><td>0.25</td><td>&quot;poezie&quot;</td></tr><tr><td>2013</td><td>125</td><td>297</td><td>422</td><td>0.296209</td><td>&quot;poezie&quot;</td></tr><tr><td>2014</td><td>135</td><td>272</td><td>407</td><td>0.331695</td><td>&quot;poezie&quot;</td></tr><tr><td>2015</td><td>136</td><td>327</td><td>463</td><td>0.293737</td><td>&quot;poezie&quot;</td></tr><tr><td>2016</td><td>172</td><td>337</td><td>509</td><td>0.337917</td><td>&quot;poezie&quot;</td></tr><tr><td>2017</td><td>137</td><td>311</td><td>448</td><td>0.305804</td><td>&quot;poezie&quot;</td></tr><tr><td>2018</td><td>134</td><td>260</td><td>394</td><td>0.340102</td><td>&quot;poezie&quot;</td></tr><tr><td>2019</td><td>154</td><td>281</td><td>435</td><td>0.354023</td><td>&quot;poezie&quot;</td></tr><tr><td>2020</td><td>133</td><td>303</td><td>436</td><td>0.305046</td><td>&quot;poezie&quot;</td></tr><tr><td>2021</td><td>180</td><td>304</td><td>484</td><td>0.371901</td><td>&quot;poezie&quot;</td></tr><tr><td>2022</td><td>142</td><td>279</td><td>421</td><td>0.337292</td><td>&quot;poezie&quot;</td></tr><tr><td>2023</td><td>140</td><td>297</td><td>437</td><td>0.320366</td><td>&quot;poezie&quot;</td></tr><tr><td>2024</td><td>138</td><td>215</td><td>353</td><td>0.390935</td><td>&quot;poezie&quot;</td></tr></tbody></table></div>"
      ],
      "text/plain": [
       "shape: (25, 6)\n",
       "┌──────┬──────┬──────┬────────┬───────────┬────────┐\n",
       "│ rok  ┆ zeny ┆ muzi ┆ celkem ┆ podil_zen ┆ zanr   │\n",
       "│ ---  ┆ ---  ┆ ---  ┆ ---    ┆ ---       ┆ ---    │\n",
       "│ i64  ┆ u32  ┆ u32  ┆ u32    ┆ f64       ┆ str    │\n",
       "╞══════╪══════╪══════╪════════╪═══════════╪════════╡\n",
       "│ 2000 ┆ 43   ┆ 182  ┆ 225    ┆ 0.191111  ┆ poezie │\n",
       "│ 2001 ┆ 42   ┆ 198  ┆ 240    ┆ 0.175     ┆ poezie │\n",
       "│ 2002 ┆ 46   ┆ 172  ┆ 218    ┆ 0.211009  ┆ poezie │\n",
       "│ 2003 ┆ 73   ┆ 219  ┆ 292    ┆ 0.25      ┆ poezie │\n",
       "│ 2004 ┆ 49   ┆ 217  ┆ 266    ┆ 0.184211  ┆ poezie │\n",
       "│ 2005 ┆ 60   ┆ 220  ┆ 280    ┆ 0.214286  ┆ poezie │\n",
       "│ 2006 ┆ 93   ┆ 221  ┆ 314    ┆ 0.296178  ┆ poezie │\n",
       "│ 2007 ┆ 68   ┆ 269  ┆ 337    ┆ 0.20178   ┆ poezie │\n",
       "│ 2008 ┆ 88   ┆ 255  ┆ 343    ┆ 0.25656   ┆ poezie │\n",
       "│ 2009 ┆ 97   ┆ 273  ┆ 370    ┆ 0.262162  ┆ poezie │\n",
       "│ 2010 ┆ 119  ┆ 269  ┆ 388    ┆ 0.306701  ┆ poezie │\n",
       "│ 2011 ┆ 107  ┆ 272  ┆ 379    ┆ 0.282322  ┆ poezie │\n",
       "│ 2012 ┆ 89   ┆ 267  ┆ 356    ┆ 0.25      ┆ poezie │\n",
       "│ 2013 ┆ 125  ┆ 297  ┆ 422    ┆ 0.296209  ┆ poezie │\n",
       "│ 2014 ┆ 135  ┆ 272  ┆ 407    ┆ 0.331695  ┆ poezie │\n",
       "│ 2015 ┆ 136  ┆ 327  ┆ 463    ┆ 0.293737  ┆ poezie │\n",
       "│ 2016 ┆ 172  ┆ 337  ┆ 509    ┆ 0.337917  ┆ poezie │\n",
       "│ 2017 ┆ 137  ┆ 311  ┆ 448    ┆ 0.305804  ┆ poezie │\n",
       "│ 2018 ┆ 134  ┆ 260  ┆ 394    ┆ 0.340102  ┆ poezie │\n",
       "│ 2019 ┆ 154  ┆ 281  ┆ 435    ┆ 0.354023  ┆ poezie │\n",
       "│ 2020 ┆ 133  ┆ 303  ┆ 436    ┆ 0.305046  ┆ poezie │\n",
       "│ 2021 ┆ 180  ┆ 304  ┆ 484    ┆ 0.371901  ┆ poezie │\n",
       "│ 2022 ┆ 142  ┆ 279  ┆ 421    ┆ 0.337292  ┆ poezie │\n",
       "│ 2023 ┆ 140  ┆ 297  ┆ 437    ┆ 0.320366  ┆ poezie │\n",
       "│ 2024 ┆ 138  ┆ 215  ┆ 353    ┆ 0.390935  ┆ poezie │\n",
       "└──────┴──────┴──────┴────────┴───────────┴────────┘"
      ]
     },
     "execution_count": 61,
     "metadata": {},
     "output_type": "execute_result"
    }
   ],
   "source": [
    "df_podil_poezie"
   ]
  },
  {
   "cell_type": "code",
   "execution_count": 219,
   "id": "d9652d86-b0c5-4245-86e4-4d57f2db96af",
   "metadata": {},
   "outputs": [
    {
     "data": {
      "text/html": [
       "\n",
       "<style>\n",
       "  #altair-viz-a8c3e29dfef642b3b34060d347d52b68.vega-embed {\n",
       "    width: 100%;\n",
       "    display: flex;\n",
       "  }\n",
       "\n",
       "  #altair-viz-a8c3e29dfef642b3b34060d347d52b68.vega-embed details,\n",
       "  #altair-viz-a8c3e29dfef642b3b34060d347d52b68.vega-embed details summary {\n",
       "    position: relative;\n",
       "  }\n",
       "</style>\n",
       "<div id=\"altair-viz-a8c3e29dfef642b3b34060d347d52b68\"></div>\n",
       "<script type=\"text/javascript\">\n",
       "  var VEGA_DEBUG = (typeof VEGA_DEBUG == \"undefined\") ? {} : VEGA_DEBUG;\n",
       "  (function(spec, embedOpt){\n",
       "    let outputDiv = document.currentScript.previousElementSibling;\n",
       "    if (outputDiv.id !== \"altair-viz-a8c3e29dfef642b3b34060d347d52b68\") {\n",
       "      outputDiv = document.getElementById(\"altair-viz-a8c3e29dfef642b3b34060d347d52b68\");\n",
       "    }\n",
       "    const paths = {\n",
       "      \"vega\": \"https://cdn.jsdelivr.net/npm/vega@5?noext\",\n",
       "      \"vega-lib\": \"https://cdn.jsdelivr.net/npm/vega-lib?noext\",\n",
       "      \"vega-lite\": \"https://cdn.jsdelivr.net/npm/vega-lite@5.8.0?noext\",\n",
       "      \"vega-embed\": \"https://cdn.jsdelivr.net/npm/vega-embed@6?noext\",\n",
       "    };\n",
       "\n",
       "    function maybeLoadScript(lib, version) {\n",
       "      var key = `${lib.replace(\"-\", \"\")}_version`;\n",
       "      return (VEGA_DEBUG[key] == version) ?\n",
       "        Promise.resolve(paths[lib]) :\n",
       "        new Promise(function(resolve, reject) {\n",
       "          var s = document.createElement('script');\n",
       "          document.getElementsByTagName(\"head\")[0].appendChild(s);\n",
       "          s.async = true;\n",
       "          s.onload = () => {\n",
       "            VEGA_DEBUG[key] = version;\n",
       "            return resolve(paths[lib]);\n",
       "          };\n",
       "          s.onerror = () => reject(`Error loading script: ${paths[lib]}`);\n",
       "          s.src = paths[lib];\n",
       "        });\n",
       "    }\n",
       "\n",
       "    function showError(err) {\n",
       "      outputDiv.innerHTML = `<div class=\"error\" style=\"color:red;\">${err}</div>`;\n",
       "      throw err;\n",
       "    }\n",
       "\n",
       "    function displayChart(vegaEmbed) {\n",
       "      vegaEmbed(outputDiv, spec, embedOpt)\n",
       "        .catch(err => showError(`Javascript Error: ${err.message}<br>This usually means there's a typo in your chart specification. See the javascript console for the full traceback.`));\n",
       "    }\n",
       "\n",
       "    if(typeof define === \"function\" && define.amd) {\n",
       "      requirejs.config({paths});\n",
       "      require([\"vega-embed\"], displayChart, err => showError(`Error loading script: ${err.message}`));\n",
       "    } else {\n",
       "      maybeLoadScript(\"vega\", \"5\")\n",
       "        .then(() => maybeLoadScript(\"vega-lite\", \"5.8.0\"))\n",
       "        .then(() => maybeLoadScript(\"vega-embed\", \"6\"))\n",
       "        .catch(showError)\n",
       "        .then(() => displayChart(vegaEmbed));\n",
       "    }\n",
       "  })({\"config\": {\"title\": {\"font\": \"Noticia Text\", \"fontSize\": 14, \"anchor\": \"start\", \"fontWeight\": \"bolder\", \"subtitleFont\": \"Noticia Text\", \"subtitleFontSize\": 12, \"subtitleFontWeight\": \"lighter\", \"subtitlePadding\": 12, \"dy\": -12}, \"axis\": {\"labelFont\": \"Asap\", \"titleFont\": \"Asap\", \"fontWeight\": \"lighter\", \"titleFontWeight\": \"lighter\", \"labelFontSize\": 10, \"titleFontSize\": 10, \"labelPadding\": 2, \"titlePadding\": 10, \"domainOpacity\": 0, \"tickColor\": \"#DCDDD6\", \"legend\": null}, \"legend\": {\"labelFont\": \"Asap\", \"labelFontWeight\": \"normal\", \"titleFont\": \"Asap\", \"titleFontWeight\": \"normal\", \"labelFontSize\": 10, \"titleFontSize\": 10}, \"view\": {\"stroke\": \"transparent\"}}, \"data\": {\"name\": \"data-6de5d08a0f58c63be626d0684a07907a\"}, \"mark\": {\"type\": \"area\"}, \"encoding\": {\"row\": {\"field\": \"zanr\", \"header\": {\"labelAlign\": \"left\", \"labelAnchor\": \"middle\", \"labelAngle\": 0, \"labelFont\": \"Asap\"}, \"sort\": [\"rom\\u00e1ny\", \"novely a pov\\u00eddky\", \"poezie\"], \"title\": null, \"type\": \"nominal\"}, \"x\": {\"axis\": {\"tickCount\": 5}, \"field\": \"rok\", \"title\": null, \"type\": \"temporal\"}, \"y\": {\"axis\": {\"labelExpr\": \"datum.label * 100 + ' %'\", \"orient\": \"right\", \"tickCount\": 4}, \"field\": \"podil_zen\", \"scale\": {\"domain\": [0, 0.5]}, \"title\": null, \"type\": \"quantitative\"}}, \"height\": 90, \"resolve\": {\"scale\": {\"y\": \"shared\"}}, \"title\": {\"text\": [\"Pod\\u00edl \\u017eensk\\u00fdch autorek\", \"na nov\\u011b vydan\\u00fdch \\u010desk\\u00fdch knih\\u00e1ch\"], \"lineHeight\": 21}, \"width\": 250, \"$schema\": \"https://vega.github.io/schema/vega-lite/v5.8.0.json\", \"datasets\": {\"data-6de5d08a0f58c63be626d0684a07907a\": [{\"rok\": \"2000-01-01T00:00:00\", \"zeny\": 125, \"muzi\": 160, \"celkem\": 285, \"podil_zen\": 0.43859649122807015, \"zanr\": \"rom\\u00e1ny\"}, {\"rok\": \"2001-01-01T00:00:00\", \"zeny\": 97, \"muzi\": 120, \"celkem\": 217, \"podil_zen\": 0.4470046082949309, \"zanr\": \"rom\\u00e1ny\"}, {\"rok\": \"2002-01-01T00:00:00\", \"zeny\": 105, \"muzi\": 142, \"celkem\": 247, \"podil_zen\": 0.4251012145748988, \"zanr\": \"rom\\u00e1ny\"}, {\"rok\": \"2003-01-01T00:00:00\", \"zeny\": 84, \"muzi\": 123, \"celkem\": 207, \"podil_zen\": 0.4057971014492754, \"zanr\": \"rom\\u00e1ny\"}, {\"rok\": \"2004-01-01T00:00:00\", \"zeny\": 109, \"muzi\": 129, \"celkem\": 238, \"podil_zen\": 0.4579831932773109, \"zanr\": \"rom\\u00e1ny\"}, {\"rok\": \"2005-01-01T00:00:00\", \"zeny\": 117, \"muzi\": 148, \"celkem\": 265, \"podil_zen\": 0.44150943396226416, \"zanr\": \"rom\\u00e1ny\"}, {\"rok\": \"2006-01-01T00:00:00\", \"zeny\": 129, \"muzi\": 138, \"celkem\": 267, \"podil_zen\": 0.48314606741573035, \"zanr\": \"rom\\u00e1ny\"}, {\"rok\": \"2007-01-01T00:00:00\", \"zeny\": 129, \"muzi\": 138, \"celkem\": 267, \"podil_zen\": 0.48314606741573035, \"zanr\": \"rom\\u00e1ny\"}, {\"rok\": \"2008-01-01T00:00:00\", \"zeny\": 130, \"muzi\": 160, \"celkem\": 290, \"podil_zen\": 0.4482758620689655, \"zanr\": \"rom\\u00e1ny\"}, {\"rok\": \"2009-01-01T00:00:00\", \"zeny\": 147, \"muzi\": 171, \"celkem\": 318, \"podil_zen\": 0.46226415094339623, \"zanr\": \"rom\\u00e1ny\"}, {\"rok\": \"2010-01-01T00:00:00\", \"zeny\": 140, \"muzi\": 184, \"celkem\": 324, \"podil_zen\": 0.43209876543209874, \"zanr\": \"rom\\u00e1ny\"}, {\"rok\": \"2011-01-01T00:00:00\", \"zeny\": 163, \"muzi\": 166, \"celkem\": 329, \"podil_zen\": 0.49544072948328266, \"zanr\": \"rom\\u00e1ny\"}, {\"rok\": \"2012-01-01T00:00:00\", \"zeny\": 133, \"muzi\": 158, \"celkem\": 291, \"podil_zen\": 0.4570446735395189, \"zanr\": \"rom\\u00e1ny\"}, {\"rok\": \"2013-01-01T00:00:00\", \"zeny\": 121, \"muzi\": 151, \"celkem\": 272, \"podil_zen\": 0.44485294117647056, \"zanr\": \"rom\\u00e1ny\"}, {\"rok\": \"2014-01-01T00:00:00\", \"zeny\": 125, \"muzi\": 151, \"celkem\": 276, \"podil_zen\": 0.4528985507246377, \"zanr\": \"rom\\u00e1ny\"}, {\"rok\": \"2015-01-01T00:00:00\", \"zeny\": 160, \"muzi\": 175, \"celkem\": 335, \"podil_zen\": 0.47761194029850745, \"zanr\": \"rom\\u00e1ny\"}, {\"rok\": \"2016-01-01T00:00:00\", \"zeny\": 153, \"muzi\": 191, \"celkem\": 344, \"podil_zen\": 0.44476744186046513, \"zanr\": \"rom\\u00e1ny\"}, {\"rok\": \"2017-01-01T00:00:00\", \"zeny\": 155, \"muzi\": 198, \"celkem\": 353, \"podil_zen\": 0.43909348441926344, \"zanr\": \"rom\\u00e1ny\"}, {\"rok\": \"2018-01-01T00:00:00\", \"zeny\": 150, \"muzi\": 203, \"celkem\": 353, \"podil_zen\": 0.42492917847025496, \"zanr\": \"rom\\u00e1ny\"}, {\"rok\": \"2019-01-01T00:00:00\", \"zeny\": 189, \"muzi\": 213, \"celkem\": 402, \"podil_zen\": 0.4701492537313433, \"zanr\": \"rom\\u00e1ny\"}, {\"rok\": \"2020-01-01T00:00:00\", \"zeny\": 206, \"muzi\": 213, \"celkem\": 419, \"podil_zen\": 0.4916467780429594, \"zanr\": \"rom\\u00e1ny\"}, {\"rok\": \"2021-01-01T00:00:00\", \"zeny\": 226, \"muzi\": 258, \"celkem\": 484, \"podil_zen\": 0.4669421487603306, \"zanr\": \"rom\\u00e1ny\"}, {\"rok\": \"2022-01-01T00:00:00\", \"zeny\": 250, \"muzi\": 225, \"celkem\": 475, \"podil_zen\": 0.5263157894736842, \"zanr\": \"rom\\u00e1ny\"}, {\"rok\": \"2023-01-01T00:00:00\", \"zeny\": 232, \"muzi\": 218, \"celkem\": 450, \"podil_zen\": 0.5155555555555555, \"zanr\": \"rom\\u00e1ny\"}, {\"rok\": \"2024-01-01T00:00:00\", \"zeny\": 256, \"muzi\": 196, \"celkem\": 452, \"podil_zen\": 0.5663716814159292, \"zanr\": \"rom\\u00e1ny\"}, {\"rok\": \"2000-01-01T00:00:00\", \"zeny\": 33, \"muzi\": 124, \"celkem\": 157, \"podil_zen\": 0.21019108280254778, \"zanr\": \"novely a pov\\u00eddky\"}, {\"rok\": \"2001-01-01T00:00:00\", \"zeny\": 34, \"muzi\": 80, \"celkem\": 114, \"podil_zen\": 0.2982456140350877, \"zanr\": \"novely a pov\\u00eddky\"}, {\"rok\": \"2002-01-01T00:00:00\", \"zeny\": 36, \"muzi\": 90, \"celkem\": 126, \"podil_zen\": 0.2857142857142857, \"zanr\": \"novely a pov\\u00eddky\"}, {\"rok\": \"2003-01-01T00:00:00\", \"zeny\": 26, \"muzi\": 102, \"celkem\": 128, \"podil_zen\": 0.203125, \"zanr\": \"novely a pov\\u00eddky\"}, {\"rok\": \"2004-01-01T00:00:00\", \"zeny\": 35, \"muzi\": 77, \"celkem\": 112, \"podil_zen\": 0.3125, \"zanr\": \"novely a pov\\u00eddky\"}, {\"rok\": \"2005-01-01T00:00:00\", \"zeny\": 27, \"muzi\": 67, \"celkem\": 94, \"podil_zen\": 0.2872340425531915, \"zanr\": \"novely a pov\\u00eddky\"}, {\"rok\": \"2006-01-01T00:00:00\", \"zeny\": 32, \"muzi\": 81, \"celkem\": 113, \"podil_zen\": 0.2831858407079646, \"zanr\": \"novely a pov\\u00eddky\"}, {\"rok\": \"2007-01-01T00:00:00\", \"zeny\": 46, \"muzi\": 89, \"celkem\": 135, \"podil_zen\": 0.34074074074074073, \"zanr\": \"novely a pov\\u00eddky\"}, {\"rok\": \"2008-01-01T00:00:00\", \"zeny\": 48, \"muzi\": 97, \"celkem\": 145, \"podil_zen\": 0.3310344827586207, \"zanr\": \"novely a pov\\u00eddky\"}, {\"rok\": \"2009-01-01T00:00:00\", \"zeny\": 51, \"muzi\": 105, \"celkem\": 156, \"podil_zen\": 0.3269230769230769, \"zanr\": \"novely a pov\\u00eddky\"}, {\"rok\": \"2010-01-01T00:00:00\", \"zeny\": 38, \"muzi\": 110, \"celkem\": 148, \"podil_zen\": 0.25675675675675674, \"zanr\": \"novely a pov\\u00eddky\"}, {\"rok\": \"2011-01-01T00:00:00\", \"zeny\": 47, \"muzi\": 116, \"celkem\": 163, \"podil_zen\": 0.2883435582822086, \"zanr\": \"novely a pov\\u00eddky\"}, {\"rok\": \"2012-01-01T00:00:00\", \"zeny\": 51, \"muzi\": 101, \"celkem\": 152, \"podil_zen\": 0.3355263157894737, \"zanr\": \"novely a pov\\u00eddky\"}, {\"rok\": \"2013-01-01T00:00:00\", \"zeny\": 44, \"muzi\": 103, \"celkem\": 147, \"podil_zen\": 0.29931972789115646, \"zanr\": \"novely a pov\\u00eddky\"}, {\"rok\": \"2014-01-01T00:00:00\", \"zeny\": 48, \"muzi\": 112, \"celkem\": 160, \"podil_zen\": 0.3, \"zanr\": \"novely a pov\\u00eddky\"}, {\"rok\": \"2015-01-01T00:00:00\", \"zeny\": 48, \"muzi\": 126, \"celkem\": 174, \"podil_zen\": 0.27586206896551724, \"zanr\": \"novely a pov\\u00eddky\"}, {\"rok\": \"2016-01-01T00:00:00\", \"zeny\": 60, \"muzi\": 114, \"celkem\": 174, \"podil_zen\": 0.3448275862068966, \"zanr\": \"novely a pov\\u00eddky\"}, {\"rok\": \"2017-01-01T00:00:00\", \"zeny\": 52, \"muzi\": 106, \"celkem\": 158, \"podil_zen\": 0.3291139240506329, \"zanr\": \"novely a pov\\u00eddky\"}, {\"rok\": \"2018-01-01T00:00:00\", \"zeny\": 70, \"muzi\": 119, \"celkem\": 189, \"podil_zen\": 0.37037037037037035, \"zanr\": \"novely a pov\\u00eddky\"}, {\"rok\": \"2019-01-01T00:00:00\", \"zeny\": 65, \"muzi\": 131, \"celkem\": 196, \"podil_zen\": 0.33163265306122447, \"zanr\": \"novely a pov\\u00eddky\"}, {\"rok\": \"2020-01-01T00:00:00\", \"zeny\": 52, \"muzi\": 120, \"celkem\": 172, \"podil_zen\": 0.3023255813953488, \"zanr\": \"novely a pov\\u00eddky\"}, {\"rok\": \"2021-01-01T00:00:00\", \"zeny\": 76, \"muzi\": 137, \"celkem\": 213, \"podil_zen\": 0.3568075117370892, \"zanr\": \"novely a pov\\u00eddky\"}, {\"rok\": \"2022-01-01T00:00:00\", \"zeny\": 73, \"muzi\": 119, \"celkem\": 192, \"podil_zen\": 0.3802083333333333, \"zanr\": \"novely a pov\\u00eddky\"}, {\"rok\": \"2023-01-01T00:00:00\", \"zeny\": 82, \"muzi\": 111, \"celkem\": 193, \"podil_zen\": 0.42487046632124353, \"zanr\": \"novely a pov\\u00eddky\"}, {\"rok\": \"2024-01-01T00:00:00\", \"zeny\": 61, \"muzi\": 122, \"celkem\": 183, \"podil_zen\": 0.3333333333333333, \"zanr\": \"novely a pov\\u00eddky\"}, {\"rok\": \"2000-01-01T00:00:00\", \"zeny\": 43, \"muzi\": 182, \"celkem\": 225, \"podil_zen\": 0.19111111111111112, \"zanr\": \"poezie\"}, {\"rok\": \"2001-01-01T00:00:00\", \"zeny\": 42, \"muzi\": 198, \"celkem\": 240, \"podil_zen\": 0.175, \"zanr\": \"poezie\"}, {\"rok\": \"2002-01-01T00:00:00\", \"zeny\": 46, \"muzi\": 172, \"celkem\": 218, \"podil_zen\": 0.21100917431192662, \"zanr\": \"poezie\"}, {\"rok\": \"2003-01-01T00:00:00\", \"zeny\": 73, \"muzi\": 219, \"celkem\": 292, \"podil_zen\": 0.25, \"zanr\": \"poezie\"}, {\"rok\": \"2004-01-01T00:00:00\", \"zeny\": 49, \"muzi\": 217, \"celkem\": 266, \"podil_zen\": 0.18421052631578946, \"zanr\": \"poezie\"}, {\"rok\": \"2005-01-01T00:00:00\", \"zeny\": 60, \"muzi\": 220, \"celkem\": 280, \"podil_zen\": 0.21428571428571427, \"zanr\": \"poezie\"}, {\"rok\": \"2006-01-01T00:00:00\", \"zeny\": 93, \"muzi\": 221, \"celkem\": 314, \"podil_zen\": 0.2961783439490446, \"zanr\": \"poezie\"}, {\"rok\": \"2007-01-01T00:00:00\", \"zeny\": 68, \"muzi\": 269, \"celkem\": 337, \"podil_zen\": 0.20178041543026706, \"zanr\": \"poezie\"}, {\"rok\": \"2008-01-01T00:00:00\", \"zeny\": 88, \"muzi\": 255, \"celkem\": 343, \"podil_zen\": 0.2565597667638484, \"zanr\": \"poezie\"}, {\"rok\": \"2009-01-01T00:00:00\", \"zeny\": 97, \"muzi\": 273, \"celkem\": 370, \"podil_zen\": 0.26216216216216215, \"zanr\": \"poezie\"}, {\"rok\": \"2010-01-01T00:00:00\", \"zeny\": 119, \"muzi\": 269, \"celkem\": 388, \"podil_zen\": 0.30670103092783507, \"zanr\": \"poezie\"}, {\"rok\": \"2011-01-01T00:00:00\", \"zeny\": 107, \"muzi\": 272, \"celkem\": 379, \"podil_zen\": 0.28232189973614774, \"zanr\": \"poezie\"}, {\"rok\": \"2012-01-01T00:00:00\", \"zeny\": 89, \"muzi\": 267, \"celkem\": 356, \"podil_zen\": 0.25, \"zanr\": \"poezie\"}, {\"rok\": \"2013-01-01T00:00:00\", \"zeny\": 125, \"muzi\": 297, \"celkem\": 422, \"podil_zen\": 0.2962085308056872, \"zanr\": \"poezie\"}, {\"rok\": \"2014-01-01T00:00:00\", \"zeny\": 135, \"muzi\": 272, \"celkem\": 407, \"podil_zen\": 0.3316953316953317, \"zanr\": \"poezie\"}, {\"rok\": \"2015-01-01T00:00:00\", \"zeny\": 136, \"muzi\": 327, \"celkem\": 463, \"podil_zen\": 0.2937365010799136, \"zanr\": \"poezie\"}, {\"rok\": \"2016-01-01T00:00:00\", \"zeny\": 172, \"muzi\": 337, \"celkem\": 509, \"podil_zen\": 0.3379174852652259, \"zanr\": \"poezie\"}, {\"rok\": \"2017-01-01T00:00:00\", \"zeny\": 137, \"muzi\": 311, \"celkem\": 448, \"podil_zen\": 0.30580357142857145, \"zanr\": \"poezie\"}, {\"rok\": \"2018-01-01T00:00:00\", \"zeny\": 134, \"muzi\": 260, \"celkem\": 394, \"podil_zen\": 0.3401015228426396, \"zanr\": \"poezie\"}, {\"rok\": \"2019-01-01T00:00:00\", \"zeny\": 154, \"muzi\": 281, \"celkem\": 435, \"podil_zen\": 0.35402298850574715, \"zanr\": \"poezie\"}, {\"rok\": \"2020-01-01T00:00:00\", \"zeny\": 133, \"muzi\": 303, \"celkem\": 436, \"podil_zen\": 0.30504587155963303, \"zanr\": \"poezie\"}, {\"rok\": \"2021-01-01T00:00:00\", \"zeny\": 180, \"muzi\": 304, \"celkem\": 484, \"podil_zen\": 0.371900826446281, \"zanr\": \"poezie\"}, {\"rok\": \"2022-01-01T00:00:00\", \"zeny\": 142, \"muzi\": 279, \"celkem\": 421, \"podil_zen\": 0.33729216152019004, \"zanr\": \"poezie\"}, {\"rok\": \"2023-01-01T00:00:00\", \"zeny\": 140, \"muzi\": 297, \"celkem\": 437, \"podil_zen\": 0.32036613272311215, \"zanr\": \"poezie\"}, {\"rok\": \"2024-01-01T00:00:00\", \"zeny\": 138, \"muzi\": 215, \"celkem\": 353, \"podil_zen\": 0.3909348441926346, \"zanr\": \"poezie\"}]}}, {\"mode\": \"vega-lite\"});\n",
       "</script>"
      ],
      "text/plain": [
       "alt.Chart(...)"
      ]
     },
     "execution_count": 219,
     "metadata": {},
     "output_type": "execute_result"
    }
   ],
   "source": [
    "alt.Chart(alt_friendly(pl.concat([df_podil, df_podil_kratke, df_podil_poezie])), title=alt.Title([\"Podíl ženských autorek\",\"na nově vydaných českých knihách\"], lineHeight=21), width=250, height=90).mark_area().encode(\n",
    "    alt.X(\"rok:T\", title=None, axis=alt.Axis(tickCount=5)),\n",
    "    alt.Y('podil_zen:Q', title=None, axis=alt.Axis(tickCount=4, labelExpr=\"datum.label * 100 + ' %'\", orient='right'), scale=alt.Scale(domain=[0,0.5])),\n",
    "    alt.Row(\"zanr:N\",header=alt.Header(labelAngle=0, labelAlign='left', labelAnchor='middle', labelFont='Asap'), sort=[\"romány\",\"novely a povídky\",\"poezie\"], title=None)\n",
    ").configure_view(stroke='transparent').resolve_scale(y='shared')"
   ]
  }
 ],
 "metadata": {
  "kernelspec": {
   "display_name": "Python 3 (ipykernel)",
   "language": "python",
   "name": "python3"
  },
  "language_info": {
   "codemirror_mode": {
    "name": "ipython",
    "version": 3
   },
   "file_extension": ".py",
   "mimetype": "text/x-python",
   "name": "python",
   "nbconvert_exporter": "python",
   "pygments_lexer": "ipython3",
   "version": "3.12.3"
  }
 },
 "nbformat": 4,
 "nbformat_minor": 5
}
