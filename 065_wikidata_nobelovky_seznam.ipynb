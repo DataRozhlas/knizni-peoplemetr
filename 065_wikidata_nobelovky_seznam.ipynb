{
 "cells": [
  {
   "cell_type": "code",
   "execution_count": 3,
   "id": "a8be8047-2646-4cc3-a214-3347ce4461b9",
   "metadata": {},
   "outputs": [],
   "source": [
    "import os\n",
    "import json\n",
    "import requests\n",
    "import pandas as pd"
   ]
  },
  {
   "cell_type": "code",
   "execution_count": 4,
   "id": "099c896b-ea19-429c-87b8-c56733bd561e",
   "metadata": {},
   "outputs": [],
   "source": [
    "kam = 'downloads/wikidata/nobelovky'"
   ]
  },
  {
   "cell_type": "code",
   "execution_count": 5,
   "id": "987ad16e-f9c4-4cdc-82a1-0d4449d38bf7",
   "metadata": {},
   "outputs": [],
   "source": [
    "if not os.path.exists(kam):\n",
    "    os.makedirs(kam)"
   ]
  },
  {
   "cell_type": "code",
   "execution_count": 6,
   "id": "ffbf3adf-bbde-4bf4-9d6f-f525fade8211",
   "metadata": {},
   "outputs": [],
   "source": [
    "url = f\"https://www.wikidata.org/wiki/Special:EntityData/Q37922.json\""
   ]
  },
  {
   "cell_type": "code",
   "execution_count": 7,
   "id": "d53ee40e-4aa4-4b7c-a418-6e1c38d0a309",
   "metadata": {},
   "outputs": [
    {
     "name": "stdout",
     "output_type": "stream",
     "text": [
      "Data for Q37922 has been saved to Q37922.json\n"
     ]
    }
   ],
   "source": [
    "response = requests.get(url)\n",
    "\n",
    "if response.status_code == 200:\n",
    "    with open(os.path.join(kam, f\"Q37922.json\"), \"w+\", encoding=\"utf-8\") as file:\n",
    "        json.dump(response.json(), file, ensure_ascii=False, indent=4)\n",
    "    print(f\"Data for Q37922 has been saved to Q37922.json\")\n",
    "else:\n",
    "    print(f\"Failed to retrieve data: {response.status_code}\")"
   ]
  },
  {
   "cell_type": "code",
   "execution_count": 8,
   "id": "7e96cd02-cf50-4f21-89a8-a550c42cb686",
   "metadata": {},
   "outputs": [
    {
     "data": {
      "text/plain": [
       "{'mainsnak': {'snaktype': 'value',\n",
       "  'property': 'P1346',\n",
       "  'hash': '07ba4a201ef2d21ff4f5e0612c66828dfc36a19d',\n",
       "  'datavalue': {'value': {'entity-type': 'item',\n",
       "    'numeric-id': 42247,\n",
       "    'id': 'Q42247'},\n",
       "   'type': 'wikibase-entityid'},\n",
       "  'datatype': 'wikibase-item'},\n",
       " 'type': 'statement',\n",
       " 'qualifiers': {'P585': [{'snaktype': 'value',\n",
       "    'property': 'P585',\n",
       "    'hash': 'e56e7ec6941a4c8046088456259b0783b9d87a02',\n",
       "    'datavalue': {'value': {'time': '+1901-00-00T00:00:00Z',\n",
       "      'timezone': 0,\n",
       "      'before': 0,\n",
       "      'after': 0,\n",
       "      'precision': 9,\n",
       "      'calendarmodel': 'http://www.wikidata.org/entity/Q1985727'},\n",
       "     'type': 'time'},\n",
       "    'datatype': 'time'}]},\n",
       " 'qualifiers-order': ['P585'],\n",
       " 'id': 'Q37922$064a9192-476c-108a-adc5-2101e4a140d0',\n",
       " 'rank': 'normal'}"
      ]
     },
     "execution_count": 8,
     "metadata": {},
     "output_type": "execute_result"
    }
   ],
   "source": [
    "response.json()['entities']['Q37922']['claims']['P1346'][0]"
   ]
  },
  {
   "cell_type": "code",
   "execution_count": 9,
   "id": "d4cde01d-66ab-41ee-aafa-1590241ba651",
   "metadata": {},
   "outputs": [
    {
     "data": {
      "text/plain": [
       "'Q42247'"
      ]
     },
     "execution_count": 9,
     "metadata": {},
     "output_type": "execute_result"
    }
   ],
   "source": [
    "response.json()['entities']['Q37922']['claims']['P1346'][0]['mainsnak']['datavalue']['value']['id']"
   ]
  },
  {
   "cell_type": "code",
   "execution_count": 10,
   "id": "09d4fcca-9504-47cc-9015-26a8c3e7984d",
   "metadata": {},
   "outputs": [
    {
     "data": {
      "text/plain": [
       "'+1901-00-00T00:00:00Z'"
      ]
     },
     "execution_count": 10,
     "metadata": {},
     "output_type": "execute_result"
    }
   ],
   "source": [
    "response.json()['entities']['Q37922']['claims']['P1346'][0]['qualifiers']['P585'][0]['datavalue']['value']['time']"
   ]
  },
  {
   "cell_type": "code",
   "execution_count": 11,
   "id": "6d57dbb8-7052-4246-b22d-674f29cf91ea",
   "metadata": {},
   "outputs": [],
   "source": [
    "laureatstvo = {}\n",
    "for x in response.json()['entities']['Q37922']['claims']['P1346']:\n",
    "    laureatstvo[x['mainsnak']['datavalue']['value']['id']] = int(x['qualifiers']['P585'][0]['datavalue']['value']['time'][1:5])"
   ]
  },
  {
   "cell_type": "code",
   "execution_count": 12,
   "id": "0b301048-6711-4850-9d62-801c0f209e63",
   "metadata": {},
   "outputs": [
    {
     "data": {
      "text/plain": [
       "{'Q42247': 1901,\n",
       " 'Q25351': 1902,\n",
       " 'Q46405': 1903,\n",
       " 'Q42596': 1904,\n",
       " 'Q127349': 1904,\n",
       " 'Q41502': 1905,\n",
       " 'Q43440': 1906,\n",
       " 'Q34743': 1907,\n",
       " 'Q47695': 1908,\n",
       " 'Q44519': 1909,\n",
       " 'Q76487': 1910,\n",
       " 'Q49747': 1911,\n",
       " 'Q43523': 1912,\n",
       " 'Q7241': 1913,\n",
       " 'Q47162': 1915,\n",
       " 'Q129173': 1916,\n",
       " 'Q131487': 1917,\n",
       " 'Q225554': 1917,\n",
       " 'Q226525': 1919,\n",
       " 'Q40826': 1920,\n",
       " 'Q42443': 1921,\n",
       " 'Q83184': 1922,\n",
       " 'Q40213': 1923,\n",
       " 'Q121180': 1924,\n",
       " 'Q19185': 1925,\n",
       " 'Q7728': 1926,\n",
       " 'Q42156': 1927,\n",
       " 'Q80889': 1928,\n",
       " 'Q37030': 1929,\n",
       " 'Q123469': 1930,\n",
       " 'Q159552': 1944,\n",
       " 'Q47561': 1961,\n",
       " 'Q6538': 1999,\n",
       " 'Q57074': 1966,\n",
       " 'Q82248': 1932,\n",
       " 'Q72334': 1993,\n",
       " 'Q46602': 1933,\n",
       " 'Q1403': 1934,\n",
       " 'Q93157': 1936,\n",
       " 'Q129155': 1937,\n",
       " 'Q25973': 1946,\n",
       " 'Q80871': 1945,\n",
       " 'Q47484': 1947,\n",
       " 'Q41223': 1958,\n",
       " 'Q83038': 1959,\n",
       " 'Q132684': 1960,\n",
       " 'Q165823': 1963,\n",
       " 'Q42398': 1965,\n",
       " 'Q132695': 1974,\n",
       " 'Q83174': 1975,\n",
       " 'Q83059': 1976,\n",
       " 'Q134644': 1977,\n",
       " 'Q75612': 1978,\n",
       " 'Q160478': 1979,\n",
       " 'Q80064': 1981,\n",
       " 'Q44183': 1983,\n",
       " 'Q102483': 1984,\n",
       " 'Q131549': 1985,\n",
       " 'Q134641': 1931,\n",
       " 'Q80900': 1938,\n",
       " 'Q132723': 1939,\n",
       " 'Q38392': 1949,\n",
       " 'Q33760': 1950,\n",
       " 'Q93137': 1951,\n",
       " 'Q81685': 1952,\n",
       " 'Q8016': 1953,\n",
       " 'Q23434': 1954,\n",
       " 'Q80321': 1955,\n",
       " 'Q34670': 1957,\n",
       " 'Q39212': 1962,\n",
       " 'Q9364': 1964,\n",
       " 'Q131318': 1956,\n",
       " 'Q133042': 1966,\n",
       " 'Q75603': 1967,\n",
       " 'Q43736': 1968,\n",
       " 'Q37327': 1969,\n",
       " 'Q34474': 1970,\n",
       " 'Q34189': 1971,\n",
       " 'Q42747': 1972,\n",
       " 'Q129187': 1973,\n",
       " 'Q131326': 1974,\n",
       " 'Q37767': 1948,\n",
       " 'Q5878': 1982,\n",
       " 'Q41488': 1986,\n",
       " 'Q862': 1987,\n",
       " 'Q132589': 1989,\n",
       " 'Q46739': 1990,\n",
       " 'Q47619': 1991,\n",
       " 'Q132701': 1992,\n",
       " 'Q93356': 1995,\n",
       " 'Q42552': 1996,\n",
       " 'Q765': 1997,\n",
       " 'Q37060': 1998,\n",
       " 'Q18143': 2000,\n",
       " 'Q44593': 2001,\n",
       " 'Q47755': 2002,\n",
       " 'Q43293': 2003,\n",
       " 'Q47243': 2004,\n",
       " 'Q41042': 2005,\n",
       " 'Q241248': 2006,\n",
       " 'Q40874': 2007,\n",
       " 'Q42037': 2008,\n",
       " 'Q38049': 2009,\n",
       " 'Q39803': 2010,\n",
       " 'Q42122': 2011,\n",
       " 'Q8998': 2012,\n",
       " 'Q234819': 2013,\n",
       " 'Q222944': 2014,\n",
       " 'Q274334': 2015,\n",
       " 'Q392': 2016,\n",
       " 'Q272855': 2017,\n",
       " 'Q254032': 2018,\n",
       " 'Q44107': 2019,\n",
       " 'Q2344210': 2020,\n",
       " 'Q317877': 2021,\n",
       " 'Q1153825': 2022,\n",
       " 'Q443868': 2023}"
      ]
     },
     "execution_count": 12,
     "metadata": {},
     "output_type": "execute_result"
    }
   ],
   "source": [
    "laureatstvo"
   ]
  },
  {
   "cell_type": "code",
   "execution_count": 13,
   "id": "5d5937af-df84-4c51-836d-3c6f44bf5c8a",
   "metadata": {},
   "outputs": [],
   "source": [
    "laureatstvo['Q45970'] = 1980\n",
    "laureatstvo['Q7176'] = 1988\n",
    "laureatstvo['Q80095'] = 1994\n",
    "laureatstvo['Q5646626'] = 2024"
   ]
  },
  {
   "cell_type": "code",
   "execution_count": 14,
   "id": "65368df0-b850-4c7b-8d2d-44bf86f207a3",
   "metadata": {},
   "outputs": [],
   "source": [
    "df = pd.DataFrame(laureatstvo, index=[0]).transpose().reset_index().rename(columns={'index':'024_a',0:'nobelovka'})"
   ]
  },
  {
   "cell_type": "code",
   "execution_count": 15,
   "id": "5e0c4219-f701-491c-a195-c5b699ec02bf",
   "metadata": {},
   "outputs": [],
   "source": [
    "df.to_json(os.path.join('data','wikidata-nobelovky.json'))"
   ]
  }
 ],
 "metadata": {
  "kernelspec": {
   "display_name": "Python 3 (ipykernel)",
   "language": "python",
   "name": "python3"
  },
  "language_info": {
   "codemirror_mode": {
    "name": "ipython",
    "version": 3
   },
   "file_extension": ".py",
   "mimetype": "text/x-python",
   "name": "python",
   "nbconvert_exporter": "python",
   "pygments_lexer": "ipython3",
   "version": "3.12.3"
  }
 },
 "nbformat": 4,
 "nbformat_minor": 5
}
