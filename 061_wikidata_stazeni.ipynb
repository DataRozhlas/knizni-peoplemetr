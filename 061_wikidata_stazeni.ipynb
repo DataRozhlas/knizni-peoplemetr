{
 "cells": [
  {
   "cell_type": "code",
   "execution_count": 84,
   "id": "024b0d56-9e51-4bf9-a67a-dbdb86f63d11",
   "metadata": {},
   "outputs": [],
   "source": [
    "import os\n",
    "import json\n",
    "import requests\n",
    "import pandas as pd"
   ]
  },
  {
   "cell_type": "code",
   "execution_count": 85,
   "id": "9c4a0fec-5dd0-43bd-b26a-0e04cb3245cf",
   "metadata": {},
   "outputs": [],
   "source": [
    "autority = pd.read_parquet(os.path.join(\"data\",\"aut_vyber.parquet\"))"
   ]
  },
  {
   "cell_type": "code",
   "execution_count": 86,
   "id": "22a4a6bd-fd2e-4a46-8a89-5836a583aafb",
   "metadata": {},
   "outputs": [],
   "source": [
    "pd.set_option('display.max_columns', 100)\n",
    "pd.set_option('display.max_rows', 500)"
   ]
  },
  {
   "cell_type": "code",
   "execution_count": 87,
   "id": "391afebb-392c-4042-acca-1e4430bbb36e",
   "metadata": {},
   "outputs": [],
   "source": [
    "autority = autority[autority['024_2'].notnull()]\n",
    "autority = autority[autority['024_a'].notnull()]"
   ]
  },
  {
   "cell_type": "code",
   "execution_count": 88,
   "id": "cdb17ded-7a17-47a4-aafd-74aa3fa49e18",
   "metadata": {},
   "outputs": [],
   "source": [
    "autority = autority.explode(['024_a','024_2'])"
   ]
  },
  {
   "cell_type": "code",
   "execution_count": 89,
   "id": "adf57c7a-5110-47da-a009-ab2697874400",
   "metadata": {},
   "outputs": [],
   "source": [
    "wikids = autority[autority['024_2'] == 'wikidata']['024_a'].to_list()"
   ]
  },
  {
   "cell_type": "code",
   "execution_count": 90,
   "id": "cd911c17-7a85-4d22-baa4-3133c1647f01",
   "metadata": {},
   "outputs": [
    {
     "data": {
      "text/plain": [
       "61422"
      ]
     },
     "execution_count": 90,
     "metadata": {},
     "output_type": "execute_result"
    }
   ],
   "source": [
    "len(wikids)"
   ]
  },
  {
   "cell_type": "code",
   "execution_count": 91,
   "id": "a42e4b8c-752a-4b5c-a3b0-6338c06bca95",
   "metadata": {},
   "outputs": [
    {
     "data": {
      "text/plain": [
       "61384"
      ]
     },
     "execution_count": 91,
     "metadata": {},
     "output_type": "execute_result"
    }
   ],
   "source": [
    "aut_wikids = autority[autority['024_2'] == 'wikidata']['024_a'].drop_duplicates(keep=\"first\")\n",
    "len(aut_wikids)"
   ]
  },
  {
   "cell_type": "code",
   "execution_count": 92,
   "id": "f16a9466-2b66-420e-9978-e764043df65b",
   "metadata": {},
   "outputs": [
    {
     "data": {
      "text/plain": [
       "001\n",
       "jk01010005        Q1063371\n",
       "jk01010022       Q12028104\n",
       "jk01010023         Q640512\n",
       "jk01010026       Q12055885\n",
       "jk01010030         Q634048\n",
       "                   ...    \n",
       "xx0323358        Q93240837\n",
       "xx0323360        Q77014514\n",
       "xx0323362        Q95199390\n",
       "xx0323366        Q95277546\n",
       "js20241239278     Q3740449\n",
       "Name: 024_a, Length: 61384, dtype: object"
      ]
     },
     "execution_count": 92,
     "metadata": {},
     "output_type": "execute_result"
    }
   ],
   "source": [
    "aut_wikids"
   ]
  },
  {
   "cell_type": "code",
   "execution_count": 93,
   "id": "4eb4dabb-8bb2-4c10-b0cd-f83d7a2e74ed",
   "metadata": {},
   "outputs": [
    {
     "data": {
      "text/plain": [
       "61354"
      ]
     },
     "execution_count": 93,
     "metadata": {},
     "output_type": "execute_result"
    }
   ],
   "source": [
    "aut_wikids = aut_wikids[~aut_wikids.index.duplicated(keep='first')]\n",
    "len(aut_wikids)"
   ]
  },
  {
   "cell_type": "code",
   "execution_count": 94,
   "id": "0bc959b5-d9b6-4f1d-97fc-5e1b683a2778",
   "metadata": {},
   "outputs": [],
   "source": [
    "chybejici = [f for f in os.listdir(\"data_raw/wikidata_doplneni\")]\n",
    "doplneni = []\n",
    "for c in chybejici:\n",
    "    if \"Q\" in c.split(\"_\")[1]:\n",
    "        slovnik = {}\n",
    "        slovnik['001'] = c.split(\"_\")[0] \n",
    "        slovnik['024_a'] = c.split(\"_\")[1].split('.')[0]\n",
    "        doplneni.append(slovnik)\n",
    "    else:\n",
    "        pass"
   ]
  },
  {
   "cell_type": "code",
   "execution_count": 95,
   "id": "56acb20e-c404-4944-a361-6f53ae46e070",
   "metadata": {},
   "outputs": [],
   "source": [
    "wikiny_audiny = pd.concat([pd.DataFrame(aut_wikids), pd.DataFrame(doplneni).set_index('001')])"
   ]
  },
  {
   "cell_type": "code",
   "execution_count": 96,
   "id": "3673bca9-d7ae-4e70-bc0d-c0d005383363",
   "metadata": {},
   "outputs": [
    {
     "data": {
      "text/html": [
       "<div>\n",
       "<style scoped>\n",
       "    .dataframe tbody tr th:only-of-type {\n",
       "        vertical-align: middle;\n",
       "    }\n",
       "\n",
       "    .dataframe tbody tr th {\n",
       "        vertical-align: top;\n",
       "    }\n",
       "\n",
       "    .dataframe thead th {\n",
       "        text-align: right;\n",
       "    }\n",
       "</style>\n",
       "<table border=\"1\" class=\"dataframe\">\n",
       "  <thead>\n",
       "    <tr style=\"text-align: right;\">\n",
       "      <th></th>\n",
       "      <th>024_a</th>\n",
       "    </tr>\n",
       "    <tr>\n",
       "      <th>001</th>\n",
       "      <th></th>\n",
       "    </tr>\n",
       "  </thead>\n",
       "  <tbody>\n",
       "    <tr>\n",
       "      <th>jk01010005</th>\n",
       "      <td>Q1063371</td>\n",
       "    </tr>\n",
       "    <tr>\n",
       "      <th>jk01010022</th>\n",
       "      <td>Q12028104</td>\n",
       "    </tr>\n",
       "    <tr>\n",
       "      <th>jk01010023</th>\n",
       "      <td>Q640512</td>\n",
       "    </tr>\n",
       "    <tr>\n",
       "      <th>jk01010026</th>\n",
       "      <td>Q12055885</td>\n",
       "    </tr>\n",
       "    <tr>\n",
       "      <th>jk01010030</th>\n",
       "      <td>Q634048</td>\n",
       "    </tr>\n",
       "    <tr>\n",
       "      <th>...</th>\n",
       "      <td>...</td>\n",
       "    </tr>\n",
       "    <tr>\n",
       "      <th>xx0313460</th>\n",
       "      <td>Q124570938</td>\n",
       "    </tr>\n",
       "    <tr>\n",
       "      <th>xx0316207</th>\n",
       "      <td>Q125553111</td>\n",
       "    </tr>\n",
       "    <tr>\n",
       "      <th>xx0316672</th>\n",
       "      <td>Q125693075</td>\n",
       "    </tr>\n",
       "    <tr>\n",
       "      <th>zcu2007417990</th>\n",
       "      <td>Q95095309</td>\n",
       "    </tr>\n",
       "    <tr>\n",
       "      <th>zcu2008417962</th>\n",
       "      <td>Q95149240</td>\n",
       "    </tr>\n",
       "  </tbody>\n",
       "</table>\n",
       "<p>106664 rows × 1 columns</p>\n",
       "</div>"
      ],
      "text/plain": [
       "                    024_a\n",
       "001                      \n",
       "jk01010005       Q1063371\n",
       "jk01010022      Q12028104\n",
       "jk01010023        Q640512\n",
       "jk01010026      Q12055885\n",
       "jk01010030        Q634048\n",
       "...                   ...\n",
       "xx0313460      Q124570938\n",
       "xx0316207      Q125553111\n",
       "xx0316672      Q125693075\n",
       "zcu2007417990   Q95095309\n",
       "zcu2008417962   Q95149240\n",
       "\n",
       "[106664 rows x 1 columns]"
      ]
     },
     "execution_count": 96,
     "metadata": {},
     "output_type": "execute_result"
    }
   ],
   "source": [
    "wikiny_audiny"
   ]
  },
  {
   "cell_type": "code",
   "execution_count": 97,
   "id": "fc874bef-3249-4d47-b236-3e6aa19eaebf",
   "metadata": {},
   "outputs": [],
   "source": [
    "wikiny_audiny = wikiny_audiny[~wikiny_audiny.index.duplicated(keep='first')]"
   ]
  },
  {
   "cell_type": "code",
   "execution_count": 98,
   "id": "5301a5e2-c1cb-49f3-ba03-06e366603a1a",
   "metadata": {},
   "outputs": [],
   "source": [
    "wikiny_audiny.to_json(os.path.join(\"data_raw\",\"autority_wikidataids.json\"))"
   ]
  },
  {
   "cell_type": "code",
   "execution_count": 99,
   "id": "906b3041-367c-4c1c-9596-0e4f4cc5b404",
   "metadata": {},
   "outputs": [],
   "source": [
    "wikids = wikiny_audiny['024_a'].drop_duplicates().to_list()"
   ]
  },
  {
   "cell_type": "code",
   "execution_count": 100,
   "id": "2457577c-bb2e-4273-abb2-79c95bf2bd8f",
   "metadata": {},
   "outputs": [
    {
     "data": {
      "text/plain": [
       "103662"
      ]
     },
     "execution_count": 100,
     "metadata": {},
     "output_type": "execute_result"
    }
   ],
   "source": [
    "len(wikids)"
   ]
  },
  {
   "cell_type": "code",
   "execution_count": 101,
   "id": "507527a3-9e44-46b9-b76a-91eaf24cd4f0",
   "metadata": {},
   "outputs": [
    {
     "data": {
      "text/plain": [
       "['Q1063371', 'Q12028104', 'Q640512', 'Q12055885', 'Q634048']"
      ]
     },
     "execution_count": 101,
     "metadata": {},
     "output_type": "execute_result"
    }
   ],
   "source": [
    "wikids[0:5]"
   ]
  },
  {
   "cell_type": "code",
   "execution_count": 102,
   "id": "a8acadfc-6ad6-45dd-8831-62b52b8e8bf4",
   "metadata": {},
   "outputs": [],
   "source": [
    "kam = 'downloads/wikidata/autority'"
   ]
  },
  {
   "cell_type": "code",
   "execution_count": 103,
   "id": "c1860411-f837-4b37-9434-9f51a6afcc1e",
   "metadata": {},
   "outputs": [],
   "source": [
    "if not os.path.exists(kam):\n",
    "    os.makedirs(kam)"
   ]
  },
  {
   "cell_type": "code",
   "execution_count": 104,
   "id": "be3764ac-1dcb-4ca4-ad35-09a2abc8ee7f",
   "metadata": {},
   "outputs": [],
   "source": [
    "vsechny_jsony = [f for f in os.listdir(kam)]"
   ]
  },
  {
   "cell_type": "code",
   "execution_count": 105,
   "id": "16dc4ee4-51e0-4e67-9518-153e194c5305",
   "metadata": {},
   "outputs": [
    {
     "data": {
      "text/plain": [
       "65233"
      ]
     },
     "execution_count": 105,
     "metadata": {},
     "output_type": "execute_result"
    }
   ],
   "source": [
    "len(vsechny_jsony)"
   ]
  },
  {
   "cell_type": "code",
   "execution_count": 106,
   "id": "5d568268-f935-447a-bbbd-f21c00b73d74",
   "metadata": {},
   "outputs": [],
   "source": [
    "def get_wikidata_json(entity_id):\n",
    "    \n",
    "    url = f\"https://www.wikidata.org/wiki/Special:EntityData/{entity_id}.json\"\n",
    "    response = requests.get(url)\n",
    "\n",
    "    if response.status_code == 200:\n",
    "        with open(os.path.join(kam, f\"{entity_id}.json\"), \"w+\", encoding=\"utf-8\") as file:\n",
    "            json.dump(response.json(), file, ensure_ascii=False, indent=4)\n",
    "        print(f\"Data for {entity_id} has been saved to {entity_id}.json\")\n",
    "    else:\n",
    "        print(f\"Failed to retrieve data: {response.status_code}\")"
   ]
  },
  {
   "cell_type": "code",
   "execution_count": null,
   "id": "0b6d153d-8589-4088-bb21-0e54a88bd153",
   "metadata": {},
   "outputs": [
    {
     "name": "stdout",
     "output_type": "stream",
     "text": [
      "Data for Q95149240 has been saved to Q95149240.json\n",
      "Data for Q95095309 has been saved to Q95095309.json\n",
      "Data for Q125693075 has been saved to Q125693075.json\n",
      "Data for Q125553111 has been saved to Q125553111.json\n",
      "Data for Q124570938 has been saved to Q124570938.json\n",
      "Data for Q111034110 has been saved to Q111034110.json\n",
      "Data for Q88640016 has been saved to Q88640016.json\n",
      "Data for Q123701313 has been saved to Q123701313.json\n",
      "Data for Q124636480 has been saved to Q124636480.json\n",
      "Data for Q124637118 has been saved to Q124637118.json\n",
      "Data for Q122889463 has been saved to Q122889463.json\n",
      "Data for Q122848700 has been saved to Q122848700.json\n",
      "Data for Q121435440 has been saved to Q121435440.json\n",
      "Data for Q124637348 has been saved to Q124637348.json\n",
      "Data for Q119140220 has been saved to Q119140220.json\n",
      "Data for Q124642519 has been saved to Q124642519.json\n",
      "Data for Q104013483 has been saved to Q104013483.json\n",
      "Data for Q120617091 has been saved to Q120617091.json\n",
      "Data for Q120617050 has been saved to Q120617050.json\n",
      "Data for Q124640094 has been saved to Q124640094.json\n",
      "Data for Q116986972 has been saved to Q116986972.json\n",
      "Data for Q120616948 has been saved to Q120616948.json\n",
      "Data for Q116947629 has been saved to Q116947629.json\n",
      "Data for Q116858754 has been saved to Q116858754.json\n",
      "Data for Q116847095 has been saved to Q116847095.json\n",
      "Data for Q120616675 has been saved to Q120616675.json\n",
      "Data for Q120616540 has been saved to Q120616540.json\n",
      "Data for Q120616506 has been saved to Q120616506.json\n",
      "Data for Q115958192 has been saved to Q115958192.json\n",
      "Data for Q115775348 has been saved to Q115775348.json\n",
      "Data for Q117707258 has been saved to Q117707258.json\n",
      "Data for Q120616319 has been saved to Q120616319.json\n",
      "Data for Q120616263 has been saved to Q120616263.json\n",
      "Data for Q109570002 has been saved to Q109570002.json\n",
      "Data for Q102554063 has been saved to Q102554063.json\n",
      "Data for Q120616076 has been saved to Q120616076.json\n",
      "Data for Q120616071 has been saved to Q120616071.json\n",
      "Data for Q120616028 has been saved to Q120616028.json\n",
      "Data for Q120615989 has been saved to Q120615989.json\n",
      "Data for Q110229571 has been saved to Q110229571.json\n",
      "Data for Q120615757 has been saved to Q120615757.json\n",
      "Data for Q120615585 has been saved to Q120615585.json\n",
      "Data for Q120615571 has been saved to Q120615571.json\n",
      "Data for Q120615387 has been saved to Q120615387.json\n",
      "Data for Q112040939 has been saved to Q112040939.json\n",
      "Data for Q111842459 has been saved to Q111842459.json\n",
      "Data for Q120615153 has been saved to Q120615153.json\n",
      "Data for Q111572056 has been saved to Q111572056.json\n",
      "Data for Q120615085 has been saved to Q120615085.json\n",
      "Data for Q108203322 has been saved to Q108203322.json\n",
      "Data for Q112564474 has been saved to Q112564474.json\n",
      "Data for Q120614992 has been saved to Q120614992.json\n",
      "Data for Q63390886 has been saved to Q63390886.json\n",
      "Data for Q120614840 has been saved to Q120614840.json\n",
      "Data for Q60231010 has been saved to Q60231010.json\n",
      "Data for Q23071597 has been saved to Q23071597.json\n",
      "Data for Q27656179 has been saved to Q27656179.json\n",
      "Data for Q120614786 has been saved to Q120614786.json\n",
      "Data for Q56614358 has been saved to Q56614358.json\n",
      "Data for Q112563487 has been saved to Q112563487.json\n",
      "Data for Q110305251 has been saved to Q110305251.json\n",
      "Data for Q123188 has been saved to Q123188.json\n",
      "Data for Q120614378 has been saved to Q120614378.json\n",
      "Data for Q120614352 has been saved to Q120614352.json\n",
      "Data for Q109968631 has been saved to Q109968631.json\n",
      "Data for Q23664009 has been saved to Q23664009.json\n",
      "Data for Q109942353 has been saved to Q109942353.json\n",
      "Data for Q112561962 has been saved to Q112561962.json\n",
      "Data for Q120614102 has been saved to Q120614102.json\n",
      "Data for Q112541436 has been saved to Q112541436.json\n",
      "Data for Q120614032 has been saved to Q120614032.json\n",
      "Data for Q112561488 has been saved to Q112561488.json\n",
      "Data for Q112561252 has been saved to Q112561252.json\n",
      "Data for Q120613909 has been saved to Q120613909.json\n",
      "Data for Q112561185 has been saved to Q112561185.json\n",
      "Data for Q5934227 has been saved to Q5934227.json\n",
      "Data for Q60390071 has been saved to Q60390071.json\n",
      "Data for Q112561111 has been saved to Q112561111.json\n",
      "Data for Q120613781 has been saved to Q120613781.json\n",
      "Data for Q120613773 has been saved to Q120613773.json\n",
      "Data for Q108899913 has been saved to Q108899913.json\n",
      "Data for Q108709146 has been saved to Q108709146.json\n",
      "Data for Q112560805 has been saved to Q112560805.json\n",
      "Data for Q106564077 has been saved to Q106564077.json\n",
      "Data for Q120613565 has been saved to Q120613565.json\n",
      "Data for Q9166180 has been saved to Q9166180.json\n",
      "Data for Q112560586 has been saved to Q112560586.json\n",
      "Data for Q5981541 has been saved to Q5981541.json\n",
      "Data for Q112876098 has been saved to Q112876098.json\n",
      "Data for Q112560417 has been saved to Q112560417.json\n",
      "Data for Q120613361 has been saved to Q120613361.json\n",
      "Data for Q120613351 has been saved to Q120613351.json\n",
      "Data for Q120613233 has been saved to Q120613233.json\n",
      "Data for Q53411010 has been saved to Q53411010.json\n",
      "Data for Q106188675 has been saved to Q106188675.json\n",
      "Data for Q107644137 has been saved to Q107644137.json\n",
      "Data for Q120613067 has been saved to Q120613067.json\n",
      "Data for Q120613033 has been saved to Q120613033.json\n",
      "Data for Q107369890 has been saved to Q107369890.json\n",
      "Data for Q120612891 has been saved to Q120612891.json\n",
      "Data for Q112558389 has been saved to Q112558389.json\n",
      "Data for Q120612868 has been saved to Q120612868.json\n",
      "Data for Q120612864 has been saved to Q120612864.json\n",
      "Data for Q120612818 has been saved to Q120612818.json\n",
      "Data for Q112878187 has been saved to Q112878187.json\n",
      "Data for Q65048540 has been saved to Q65048540.json\n",
      "Data for Q112556932 has been saved to Q112556932.json\n",
      "Data for Q120612570 has been saved to Q120612570.json\n",
      "Data for Q561401 has been saved to Q561401.json\n",
      "Data for Q112556880 has been saved to Q112556880.json\n",
      "Data for Q87275767 has been saved to Q87275767.json\n",
      "Data for Q120612423 has been saved to Q120612423.json\n",
      "Data for Q112556102 has been saved to Q112556102.json\n",
      "Data for Q120612396 has been saved to Q120612396.json\n",
      "Data for Q120612381 has been saved to Q120612381.json\n",
      "Data for Q120612314 has been saved to Q120612314.json\n",
      "Data for Q120612297 has been saved to Q120612297.json\n",
      "Data for Q112555458 has been saved to Q112555458.json\n",
      "Data for Q22681979 has been saved to Q22681979.json\n",
      "Data for Q120612146 has been saved to Q120612146.json\n",
      "Data for Q120612105 has been saved to Q120612105.json\n",
      "Data for Q9140198 has been saved to Q9140198.json\n",
      "Data for Q120612007 has been saved to Q120612007.json\n",
      "Data for Q120611993 has been saved to Q120611993.json\n",
      "Data for Q112554379 has been saved to Q112554379.json\n",
      "Data for Q112554286 has been saved to Q112554286.json\n",
      "Data for Q105749730 has been saved to Q105749730.json\n",
      "Data for Q112554150 has been saved to Q112554150.json\n",
      "Data for Q112554055 has been saved to Q112554055.json\n",
      "Data for Q112554021 has been saved to Q112554021.json\n",
      "Data for Q105658591 has been saved to Q105658591.json\n",
      "Data for Q112553281 has been saved to Q112553281.json\n",
      "Data for Q64995494 has been saved to Q64995494.json\n",
      "Data for Q112552566 has been saved to Q112552566.json\n",
      "Data for Q105176683 has been saved to Q105176683.json\n",
      "Data for Q104836428 has been saved to Q104836428.json\n",
      "Data for Q112552223 has been saved to Q112552223.json\n",
      "Data for Q120611477 has been saved to Q120611477.json\n",
      "Data for Q120611468 has been saved to Q120611468.json\n",
      "Data for Q112552090 has been saved to Q112552090.json\n",
      "Data for Q112551848 has been saved to Q112551848.json\n",
      "Data for Q120611254 has been saved to Q120611254.json\n",
      "Data for Q120611248 has been saved to Q120611248.json\n",
      "Data for Q117472659 has been saved to Q117472659.json\n",
      "Data for Q87718083 has been saved to Q87718083.json\n",
      "Data for Q109303405 has been saved to Q109303405.json\n",
      "Data for Q120611228 has been saved to Q120611228.json\n",
      "Data for Q120611179 has been saved to Q120611179.json\n",
      "Data for Q112551094 has been saved to Q112551094.json\n",
      "Data for Q112551043 has been saved to Q112551043.json\n",
      "Data for Q112550948 has been saved to Q112550948.json\n",
      "Data for Q52478228 has been saved to Q52478228.json\n",
      "Data for Q19827680 has been saved to Q19827680.json\n",
      "Data for Q112550333 has been saved to Q112550333.json\n",
      "Data for Q112550311 has been saved to Q112550311.json\n",
      "Data for Q86833778 has been saved to Q86833778.json\n",
      "Data for Q66686030 has been saved to Q66686030.json\n",
      "Data for Q112425558 has been saved to Q112425558.json\n",
      "Data for Q120610838 has been saved to Q120610838.json\n",
      "Data for Q120610800 has been saved to Q120610800.json\n",
      "Data for Q4054424 has been saved to Q4054424.json\n",
      "Data for Q120610648 has been saved to Q120610648.json\n",
      "Data for Q112549177 has been saved to Q112549177.json\n",
      "Data for Q112549114 has been saved to Q112549114.json\n",
      "Data for Q120610594 has been saved to Q120610594.json\n",
      "Data for Q3847582 has been saved to Q3847582.json\n",
      "Data for Q3164657 has been saved to Q3164657.json\n",
      "Data for Q112549018 has been saved to Q112549018.json\n",
      "Data for Q112549006 has been saved to Q112549006.json\n",
      "Data for Q112548891 has been saved to Q112548891.json\n",
      "Data for Q112548854 has been saved to Q112548854.json\n",
      "Data for Q65936958 has been saved to Q65936958.json\n",
      "Data for Q120610501 has been saved to Q120610501.json\n",
      "Data for Q6375690 has been saved to Q6375690.json\n",
      "Data for Q54359155 has been saved to Q54359155.json\n",
      "Data for Q112548595 has been saved to Q112548595.json\n",
      "Data for Q108600207 has been saved to Q108600207.json\n",
      "Data for Q112548508 has been saved to Q112548508.json\n",
      "Data for Q56339440 has been saved to Q56339440.json\n",
      "Data for Q55943939 has been saved to Q55943939.json\n",
      "Data for Q16198811 has been saved to Q16198811.json\n",
      "Data for Q112548015 has been saved to Q112548015.json\n",
      "Data for Q16631787 has been saved to Q16631787.json\n",
      "Data for Q112547896 has been saved to Q112547896.json\n",
      "Data for Q120610215 has been saved to Q120610215.json\n",
      "Data for Q120610205 has been saved to Q120610205.json\n",
      "Data for Q12025457 has been saved to Q12025457.json\n",
      "Data for Q120610019 has been saved to Q120610019.json\n",
      "Data for Q112547220 has been saved to Q112547220.json\n",
      "Data for Q120610008 has been saved to Q120610008.json\n",
      "Data for Q112546877 has been saved to Q112546877.json\n",
      "Data for Q120609806 has been saved to Q120609806.json\n",
      "Data for Q120609768 has been saved to Q120609768.json\n",
      "Data for Q120609761 has been saved to Q120609761.json\n",
      "Data for Q17521918 has been saved to Q17521918.json\n",
      "Data for Q95690283 has been saved to Q95690283.json\n",
      "Data for Q15987445 has been saved to Q15987445.json\n",
      "Data for Q120609498 has been saved to Q120609498.json\n",
      "Data for Q120609485 has been saved to Q120609485.json\n",
      "Data for Q120609478 has been saved to Q120609478.json\n",
      "Data for Q112545015 has been saved to Q112545015.json\n",
      "Data for Q112544819 has been saved to Q112544819.json\n",
      "Data for Q64504123 has been saved to Q64504123.json\n",
      "Data for Q66585283 has been saved to Q66585283.json\n",
      "Data for Q120609368 has been saved to Q120609368.json\n",
      "Data for Q120609282 has been saved to Q120609282.json\n",
      "Data for Q4887282 has been saved to Q4887282.json\n",
      "Data for Q120609156 has been saved to Q120609156.json\n",
      "Data for Q117713123 has been saved to Q117713123.json\n",
      "Data for Q120609119 has been saved to Q120609119.json\n",
      "Data for Q120609093 has been saved to Q120609093.json\n",
      "Data for Q120609067 has been saved to Q120609067.json\n",
      "Data for Q112543837 has been saved to Q112543837.json\n"
     ]
    }
   ],
   "source": [
    "for w in reversed(wikids): ## aby to nezačínalo těmi, co failovaly\n",
    "    if f\"{w}.json\" not in vsechny_jsony:\n",
    "        get_wikidata_json(w)"
   ]
  }
 ],
 "metadata": {
  "kernelspec": {
   "display_name": "Python 3 (ipykernel)",
   "language": "python",
   "name": "python3"
  },
  "language_info": {
   "codemirror_mode": {
    "name": "ipython",
    "version": 3
   },
   "file_extension": ".py",
   "mimetype": "text/x-python",
   "name": "python",
   "nbconvert_exporter": "python",
   "pygments_lexer": "ipython3",
   "version": "3.12.3"
  }
 },
 "nbformat": 4,
 "nbformat_minor": 5
}
