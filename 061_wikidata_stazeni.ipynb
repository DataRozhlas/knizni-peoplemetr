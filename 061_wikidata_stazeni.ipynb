{
 "cells": [
  {
   "cell_type": "code",
   "execution_count": 1,
   "id": "024b0d56-9e51-4bf9-a67a-dbdb86f63d11",
   "metadata": {},
   "outputs": [],
   "source": [
    "import os\n",
    "import json\n",
    "import requests\n",
    "import pandas as pd\n",
    "import gc"
   ]
  },
  {
   "cell_type": "code",
   "execution_count": 2,
   "id": "9c4a0fec-5dd0-43bd-b26a-0e04cb3245cf",
   "metadata": {},
   "outputs": [],
   "source": [
    "autority = pd.read_parquet(os.path.join(\"data\",\"aut_vyber.parquet\"))"
   ]
  },
  {
   "cell_type": "code",
   "execution_count": 3,
   "id": "22a4a6bd-fd2e-4a46-8a89-5836a583aafb",
   "metadata": {},
   "outputs": [],
   "source": [
    "pd.set_option('display.max_columns', 100)\n",
    "pd.set_option('display.max_rows', 500)"
   ]
  },
  {
   "cell_type": "code",
   "execution_count": 4,
   "id": "391afebb-392c-4042-acca-1e4430bbb36e",
   "metadata": {},
   "outputs": [],
   "source": [
    "autority = autority[autority['024_2'].notnull()]\n",
    "autority = autority[autority['024_a'].notnull()]"
   ]
  },
  {
   "cell_type": "code",
   "execution_count": 5,
   "id": "cdb17ded-7a17-47a4-aafd-74aa3fa49e18",
   "metadata": {},
   "outputs": [],
   "source": [
    "autority = autority.explode(['024_a','024_2'])"
   ]
  },
  {
   "cell_type": "code",
   "execution_count": 6,
   "id": "adf57c7a-5110-47da-a009-ab2697874400",
   "metadata": {},
   "outputs": [],
   "source": [
    "wikids = autority[autority['024_2'] == 'wikidata']['024_a'].to_list()"
   ]
  },
  {
   "cell_type": "code",
   "execution_count": 7,
   "id": "cd911c17-7a85-4d22-baa4-3133c1647f01",
   "metadata": {},
   "outputs": [
    {
     "data": {
      "text/plain": [
       "61422"
      ]
     },
     "execution_count": 7,
     "metadata": {},
     "output_type": "execute_result"
    }
   ],
   "source": [
    "len(wikids)"
   ]
  },
  {
   "cell_type": "code",
   "execution_count": 8,
   "id": "a42e4b8c-752a-4b5c-a3b0-6338c06bca95",
   "metadata": {},
   "outputs": [
    {
     "data": {
      "text/plain": [
       "61384"
      ]
     },
     "execution_count": 8,
     "metadata": {},
     "output_type": "execute_result"
    }
   ],
   "source": [
    "aut_wikids = autority[autority['024_2'] == 'wikidata']['024_a'].drop_duplicates(keep=\"first\")\n",
    "len(aut_wikids)"
   ]
  },
  {
   "cell_type": "code",
   "execution_count": 9,
   "id": "f16a9466-2b66-420e-9978-e764043df65b",
   "metadata": {},
   "outputs": [
    {
     "data": {
      "text/plain": [
       "001\n",
       "jk01010005        Q1063371\n",
       "jk01010022       Q12028104\n",
       "jk01010023         Q640512\n",
       "jk01010026       Q12055885\n",
       "jk01010030         Q634048\n",
       "                   ...    \n",
       "xx0323358        Q93240837\n",
       "xx0323360        Q77014514\n",
       "xx0323362        Q95199390\n",
       "xx0323366        Q95277546\n",
       "js20241239278     Q3740449\n",
       "Name: 024_a, Length: 61384, dtype: object"
      ]
     },
     "execution_count": 9,
     "metadata": {},
     "output_type": "execute_result"
    }
   ],
   "source": [
    "aut_wikids"
   ]
  },
  {
   "cell_type": "code",
   "execution_count": 10,
   "id": "4eb4dabb-8bb2-4c10-b0cd-f83d7a2e74ed",
   "metadata": {},
   "outputs": [
    {
     "data": {
      "text/plain": [
       "61354"
      ]
     },
     "execution_count": 10,
     "metadata": {},
     "output_type": "execute_result"
    }
   ],
   "source": [
    "aut_wikids = aut_wikids[~aut_wikids.index.duplicated(keep='first')]\n",
    "len(aut_wikids)"
   ]
  },
  {
   "cell_type": "code",
   "execution_count": 11,
   "id": "0bc959b5-d9b6-4f1d-97fc-5e1b683a2778",
   "metadata": {},
   "outputs": [],
   "source": [
    "chybejici = [f for f in os.listdir(\"data_raw/wikidata_doplneni\")]\n",
    "doplneni = []\n",
    "for c in chybejici:\n",
    "    if \"Q\" in c.split(\"_\")[1]:\n",
    "        slovnik = {}\n",
    "        slovnik['001'] = c.split(\"_\")[0] \n",
    "        slovnik['024_a'] = c.split(\"_\")[1].split('.')[0]\n",
    "        doplneni.append(slovnik)\n",
    "    else:\n",
    "        pass"
   ]
  },
  {
   "cell_type": "code",
   "execution_count": 12,
   "id": "56acb20e-c404-4944-a361-6f53ae46e070",
   "metadata": {},
   "outputs": [],
   "source": [
    "wikiny_audiny = pd.concat([pd.DataFrame(aut_wikids), pd.DataFrame(doplneni).set_index('001')])"
   ]
  },
  {
   "cell_type": "code",
   "execution_count": 13,
   "id": "3673bca9-d7ae-4e70-bc0d-c0d005383363",
   "metadata": {},
   "outputs": [
    {
     "data": {
      "text/html": [
       "<div>\n",
       "<style scoped>\n",
       "    .dataframe tbody tr th:only-of-type {\n",
       "        vertical-align: middle;\n",
       "    }\n",
       "\n",
       "    .dataframe tbody tr th {\n",
       "        vertical-align: top;\n",
       "    }\n",
       "\n",
       "    .dataframe thead th {\n",
       "        text-align: right;\n",
       "    }\n",
       "</style>\n",
       "<table border=\"1\" class=\"dataframe\">\n",
       "  <thead>\n",
       "    <tr style=\"text-align: right;\">\n",
       "      <th></th>\n",
       "      <th>024_a</th>\n",
       "    </tr>\n",
       "    <tr>\n",
       "      <th>001</th>\n",
       "      <th></th>\n",
       "    </tr>\n",
       "  </thead>\n",
       "  <tbody>\n",
       "    <tr>\n",
       "      <th>jk01010005</th>\n",
       "      <td>Q1063371</td>\n",
       "    </tr>\n",
       "    <tr>\n",
       "      <th>jk01010022</th>\n",
       "      <td>Q12028104</td>\n",
       "    </tr>\n",
       "    <tr>\n",
       "      <th>jk01010023</th>\n",
       "      <td>Q640512</td>\n",
       "    </tr>\n",
       "    <tr>\n",
       "      <th>jk01010026</th>\n",
       "      <td>Q12055885</td>\n",
       "    </tr>\n",
       "    <tr>\n",
       "      <th>jk01010030</th>\n",
       "      <td>Q634048</td>\n",
       "    </tr>\n",
       "    <tr>\n",
       "      <th>...</th>\n",
       "      <td>...</td>\n",
       "    </tr>\n",
       "    <tr>\n",
       "      <th>zmp2016925673</th>\n",
       "      <td>Q13582412</td>\n",
       "    </tr>\n",
       "    <tr>\n",
       "      <th>zmp2016925675</th>\n",
       "      <td>Q112503439</td>\n",
       "    </tr>\n",
       "    <tr>\n",
       "      <th>zmp20191037071</th>\n",
       "      <td>Q26208443</td>\n",
       "    </tr>\n",
       "    <tr>\n",
       "      <th>zmp20191054500</th>\n",
       "      <td>Q825192</td>\n",
       "    </tr>\n",
       "    <tr>\n",
       "      <th>zmp20211116840</th>\n",
       "      <td>Q107140306</td>\n",
       "    </tr>\n",
       "  </tbody>\n",
       "</table>\n",
       "<p>134571 rows × 1 columns</p>\n",
       "</div>"
      ],
      "text/plain": [
       "                     024_a\n",
       "001                       \n",
       "jk01010005        Q1063371\n",
       "jk01010022       Q12028104\n",
       "jk01010023         Q640512\n",
       "jk01010026       Q12055885\n",
       "jk01010030         Q634048\n",
       "...                    ...\n",
       "zmp2016925673    Q13582412\n",
       "zmp2016925675   Q112503439\n",
       "zmp20191037071   Q26208443\n",
       "zmp20191054500     Q825192\n",
       "zmp20211116840  Q107140306\n",
       "\n",
       "[134571 rows x 1 columns]"
      ]
     },
     "execution_count": 13,
     "metadata": {},
     "output_type": "execute_result"
    }
   ],
   "source": [
    "wikiny_audiny"
   ]
  },
  {
   "cell_type": "code",
   "execution_count": 14,
   "id": "fc874bef-3249-4d47-b236-3e6aa19eaebf",
   "metadata": {},
   "outputs": [],
   "source": [
    "wikiny_audiny = wikiny_audiny[~wikiny_audiny.index.duplicated(keep='first')]"
   ]
  },
  {
   "cell_type": "code",
   "execution_count": 15,
   "id": "5301a5e2-c1cb-49f3-ba03-06e366603a1a",
   "metadata": {},
   "outputs": [],
   "source": [
    "wikiny_audiny.to_json(os.path.join(\"data_raw\",\"autority_wikidataids.json\"))"
   ]
  },
  {
   "cell_type": "code",
   "execution_count": 16,
   "id": "906b3041-367c-4c1c-9596-0e4f4cc5b404",
   "metadata": {},
   "outputs": [],
   "source": [
    "wikids = wikiny_audiny['024_a'].drop_duplicates().to_list()"
   ]
  },
  {
   "cell_type": "code",
   "execution_count": 17,
   "id": "2457577c-bb2e-4273-abb2-79c95bf2bd8f",
   "metadata": {},
   "outputs": [
    {
     "data": {
      "text/plain": [
       "131313"
      ]
     },
     "execution_count": 17,
     "metadata": {},
     "output_type": "execute_result"
    }
   ],
   "source": [
    "len(wikids)"
   ]
  },
  {
   "cell_type": "code",
   "execution_count": 18,
   "id": "507527a3-9e44-46b9-b76a-91eaf24cd4f0",
   "metadata": {},
   "outputs": [
    {
     "data": {
      "text/plain": [
       "['Q1063371', 'Q12028104', 'Q640512', 'Q12055885', 'Q634048']"
      ]
     },
     "execution_count": 18,
     "metadata": {},
     "output_type": "execute_result"
    }
   ],
   "source": [
    "wikids[0:5]"
   ]
  },
  {
   "cell_type": "code",
   "execution_count": 19,
   "id": "a8acadfc-6ad6-45dd-8831-62b52b8e8bf4",
   "metadata": {},
   "outputs": [],
   "source": [
    "kam = 'downloads/wikidata/autority'"
   ]
  },
  {
   "cell_type": "code",
   "execution_count": 20,
   "id": "c1860411-f837-4b37-9434-9f51a6afcc1e",
   "metadata": {},
   "outputs": [],
   "source": [
    "if not os.path.exists(kam):\n",
    "    os.makedirs(kam)"
   ]
  },
  {
   "cell_type": "code",
   "execution_count": 21,
   "id": "be3764ac-1dcb-4ca4-ad35-09a2abc8ee7f",
   "metadata": {},
   "outputs": [],
   "source": [
    "vsechny_jsony = set([f for f in os.listdir(kam)])"
   ]
  },
  {
   "cell_type": "code",
   "execution_count": 22,
   "id": "16dc4ee4-51e0-4e67-9518-153e194c5305",
   "metadata": {},
   "outputs": [
    {
     "data": {
      "text/plain": [
       "131212"
      ]
     },
     "execution_count": 22,
     "metadata": {},
     "output_type": "execute_result"
    }
   ],
   "source": [
    "len(vsechny_jsony)"
   ]
  },
  {
   "cell_type": "code",
   "execution_count": 23,
   "id": "5d568268-f935-447a-bbbd-f21c00b73d74",
   "metadata": {},
   "outputs": [],
   "source": [
    "def get_wikidata_json(entity_id):\n",
    "    \n",
    "    url = f\"https://www.wikidata.org/wiki/Special:EntityData/{entity_id}.json\"\n",
    "    response = requests.get(url)\n",
    "\n",
    "    if response.status_code == 200:\n",
    "        with open(os.path.join(kam, f\"{entity_id}.json\"), \"w+\", encoding=\"utf-8\") as file:\n",
    "            json.dump(response.json(), file, ensure_ascii=False, indent=4)\n",
    "        print(f\"Data for {entity_id} has been saved to {entity_id}.json\")\n",
    "    else:\n",
    "        print(f\"Failed to retrieve data: {response.status_code}\")"
   ]
  },
  {
   "cell_type": "code",
   "execution_count": 24,
   "id": "42ee4a65-cd65-48ad-a885-3c7b9e2258f9",
   "metadata": {},
   "outputs": [
    {
     "data": {
      "text/plain": [
       "0"
      ]
     },
     "execution_count": 24,
     "metadata": {},
     "output_type": "execute_result"
    }
   ],
   "source": [
    "del autority\n",
    "gc.collect()"
   ]
  },
  {
   "cell_type": "code",
   "execution_count": 25,
   "id": "a40f08ff-ff07-4181-813c-039aa67ce2b4",
   "metadata": {},
   "outputs": [
    {
     "data": {
      "text/plain": [
       "131313"
      ]
     },
     "execution_count": 25,
     "metadata": {},
     "output_type": "execute_result"
    }
   ],
   "source": [
    "len(wikids)"
   ]
  },
  {
   "cell_type": "code",
   "execution_count": 26,
   "id": "f5d7fc2f-b06b-4606-bf3d-3668c9374e87",
   "metadata": {},
   "outputs": [
    {
     "data": {
      "text/plain": [
       "['Q1063371', 'Q12028104', 'Q640512', 'Q12055885', 'Q634048']"
      ]
     },
     "execution_count": 26,
     "metadata": {},
     "output_type": "execute_result"
    }
   ],
   "source": [
    "wikids[0:5]"
   ]
  },
  {
   "cell_type": "code",
   "execution_count": 27,
   "id": "055bce94-9723-41e3-b61b-37911a7a5c3f",
   "metadata": {},
   "outputs": [
    {
     "data": {
      "text/plain": [
       "131212"
      ]
     },
     "execution_count": 27,
     "metadata": {},
     "output_type": "execute_result"
    }
   ],
   "source": [
    "len(vsechny_jsony)"
   ]
  },
  {
   "cell_type": "code",
   "execution_count": 28,
   "id": "d42629d6-edd6-4030-b2db-7f1f8992e2e3",
   "metadata": {},
   "outputs": [
    {
     "data": {
      "text/plain": [
       "['Q221723.json',\n",
       " 'Q95368341.json',\n",
       " 'Q12027533.json',\n",
       " 'Q120575450.json',\n",
       " 'Q18533700.json']"
      ]
     },
     "execution_count": 28,
     "metadata": {},
     "output_type": "execute_result"
    }
   ],
   "source": [
    "list(vsechny_jsony)[0:5]"
   ]
  },
  {
   "cell_type": "code",
   "execution_count": 29,
   "id": "2fcf6fd3-d35b-4c26-aac1-f839daa079bc",
   "metadata": {},
   "outputs": [],
   "source": [
    "co_stahovat = [x for x in reversed(wikids) if f\"{x}.json\" not in vsechny_jsony]"
   ]
  },
  {
   "cell_type": "code",
   "execution_count": 30,
   "id": "4e336ac6-c20d-4f64-bab0-0800caeffda4",
   "metadata": {},
   "outputs": [
    {
     "data": {
      "text/plain": [
       "115"
      ]
     },
     "execution_count": 30,
     "metadata": {},
     "output_type": "execute_result"
    }
   ],
   "source": [
    "len(co_stahovat)"
   ]
  },
  {
   "cell_type": "code",
   "execution_count": 31,
   "id": "0b6d153d-8589-4088-bb21-0e54a88bd153",
   "metadata": {},
   "outputs": [
    {
     "name": "stdout",
     "output_type": "stream",
     "text": [
      "Failed to retrieve data: 400\n",
      "Failed to retrieve data: 400\n",
      "Failed to retrieve data: 400\n",
      "Failed to retrieve data: 400\n",
      "Failed to retrieve data: 404\n",
      "Failed to retrieve data: 400\n",
      "Failed to retrieve data: 400\n",
      "Failed to retrieve data: 400\n",
      "Failed to retrieve data: 400\n",
      "Failed to retrieve data: 400\n",
      "Failed to retrieve data: 400\n",
      "Failed to retrieve data: 400\n",
      "Failed to retrieve data: 400\n",
      "Failed to retrieve data: 400\n",
      "Failed to retrieve data: 400\n",
      "Failed to retrieve data: 400\n",
      "Failed to retrieve data: 400\n",
      "Failed to retrieve data: 400\n",
      "Failed to retrieve data: 400\n",
      "Failed to retrieve data: 400\n",
      "Failed to retrieve data: 400\n",
      "Failed to retrieve data: 400\n",
      "Failed to retrieve data: 400\n",
      "Failed to retrieve data: 400\n",
      "Failed to retrieve data: 400\n",
      "Failed to retrieve data: 400\n",
      "Failed to retrieve data: 400\n",
      "Failed to retrieve data: 400\n",
      "Failed to retrieve data: 400\n",
      "Failed to retrieve data: 400\n",
      "Failed to retrieve data: 404\n",
      "Failed to retrieve data: 400\n",
      "Failed to retrieve data: 400\n",
      "Failed to retrieve data: 400\n",
      "Failed to retrieve data: 400\n",
      "Failed to retrieve data: 400\n",
      "Failed to retrieve data: 400\n",
      "Failed to retrieve data: 400\n",
      "Failed to retrieve data: 400\n",
      "Failed to retrieve data: 400\n",
      "Failed to retrieve data: 404\n",
      "Failed to retrieve data: 400\n",
      "Failed to retrieve data: 400\n",
      "Failed to retrieve data: 400\n",
      "Failed to retrieve data: 400\n",
      "Failed to retrieve data: 400\n",
      "Failed to retrieve data: 400\n",
      "Failed to retrieve data: 400\n",
      "Failed to retrieve data: 400\n",
      "Failed to retrieve data: 400\n",
      "Failed to retrieve data: 400\n",
      "Failed to retrieve data: 400\n",
      "Failed to retrieve data: 400\n",
      "Failed to retrieve data: 400\n",
      "Failed to retrieve data: 400\n",
      "Failed to retrieve data: 400\n",
      "Failed to retrieve data: 400\n",
      "Failed to retrieve data: 404\n",
      "Failed to retrieve data: 404\n",
      "Failed to retrieve data: 400\n",
      "Failed to retrieve data: 400\n",
      "Failed to retrieve data: 400\n",
      "Failed to retrieve data: 400\n",
      "Failed to retrieve data: 400\n",
      "Failed to retrieve data: 400\n",
      "Failed to retrieve data: 400\n",
      "Failed to retrieve data: 400\n",
      "Failed to retrieve data: 400\n",
      "Failed to retrieve data: 400\n",
      "Failed to retrieve data: 400\n",
      "Failed to retrieve data: 400\n",
      "Failed to retrieve data: 400\n",
      "Failed to retrieve data: 400\n",
      "Failed to retrieve data: 400\n",
      "Failed to retrieve data: 400\n",
      "Failed to retrieve data: 400\n",
      "Failed to retrieve data: 400\n",
      "Failed to retrieve data: 400\n",
      "Failed to retrieve data: 400\n",
      "Failed to retrieve data: 400\n",
      "Failed to retrieve data: 400\n",
      "Failed to retrieve data: 400\n",
      "Failed to retrieve data: 400\n",
      "Failed to retrieve data: 400\n",
      "Failed to retrieve data: 400\n",
      "Failed to retrieve data: 400\n",
      "Failed to retrieve data: 400\n",
      "Failed to retrieve data: 400\n",
      "Failed to retrieve data: 400\n",
      "Failed to retrieve data: 400\n",
      "Failed to retrieve data: 400\n",
      "Failed to retrieve data: 400\n",
      "Failed to retrieve data: 404\n",
      "Failed to retrieve data: 400\n",
      "Failed to retrieve data: 404\n",
      "Failed to retrieve data: 404\n",
      "Failed to retrieve data: 404\n",
      "Failed to retrieve data: 400\n",
      "Failed to retrieve data: 400\n",
      "Failed to retrieve data: 400\n",
      "Failed to retrieve data: 400\n",
      "Failed to retrieve data: 400\n",
      "Failed to retrieve data: 400\n",
      "Failed to retrieve data: 400\n",
      "Failed to retrieve data: 400\n",
      "Failed to retrieve data: 400\n",
      "Failed to retrieve data: 400\n",
      "Failed to retrieve data: 404\n",
      "Failed to retrieve data: 400\n",
      "Failed to retrieve data: 400\n",
      "Failed to retrieve data: 400\n",
      "Failed to retrieve data: 400\n",
      "Failed to retrieve data: 400\n",
      "Failed to retrieve data: 400\n",
      "Failed to retrieve data: 400\n"
     ]
    }
   ],
   "source": [
    "for w in co_stahovat:\n",
    "    get_wikidata_json(w)"
   ]
  }
 ],
 "metadata": {
  "kernelspec": {
   "display_name": "Python 3 (ipykernel)",
   "language": "python",
   "name": "python3"
  },
  "language_info": {
   "codemirror_mode": {
    "name": "ipython",
    "version": 3
   },
   "file_extension": ".py",
   "mimetype": "text/x-python",
   "name": "python",
   "nbconvert_exporter": "python",
   "pygments_lexer": "ipython3",
   "version": "3.12.3"
  }
 },
 "nbformat": 4,
 "nbformat_minor": 5
}
