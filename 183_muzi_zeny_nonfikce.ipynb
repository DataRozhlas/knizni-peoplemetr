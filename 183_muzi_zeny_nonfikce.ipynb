{
 "cells": [
  {
   "cell_type": "code",
   "execution_count": 1,
   "id": "c3b516dd-694e-4c74-ac88-da2ddc3da4b1",
   "metadata": {},
   "outputs": [],
   "source": [
    "import os\n",
    "import json\n",
    "import datetime\n",
    "import warnings\n",
    "import polars as pl\n",
    "import pandas as pd\n",
    "import altair as alt\n",
    "\n",
    "from src.najdi_rok import najdi_rok\n",
    "from src.pocet_stran import pocet_stran\n",
    "from src.bez_bordelu import bez_bordelu\n",
    "from src.alt_friendly import alt_friendly\n",
    "from src.hezke_jmeno import hezke_jmeno\n",
    "from src.kristi_promin import kristi_promin\n",
    "from src.zjisti_vazbu import zjisti_vazbu\n",
    "from src.me_to_neurazi import me_to_neurazi\n",
    "\n",
    "pl.Config(tbl_rows=100)\n",
    "alt.data_transformers.disable_max_rows()\n",
    "alt.themes.register('irozhlas', kristi_promin)\n",
    "alt.themes.enable('irozhlas')\n",
    "warnings.filterwarnings('ignore')\n",
    "\n",
    "with open(os.path.join('src','kredity.json'), 'r', encoding='utf-8') as kredity:\n",
    "    kredity = json.loads(kredity.read())"
   ]
  },
  {
   "cell_type": "code",
   "execution_count": 3,
   "id": "848efc81-3c7a-43dd-b870-324b671f50c6",
   "metadata": {},
   "outputs": [
    {
     "name": "stdout",
     "output_type": "stream",
     "text": [
      "727498\n",
      "522219\n"
     ]
    }
   ],
   "source": [
    "df = pl.read_parquet(os.path.join(\"data/cnb_sloupce\",\"100.parquet\"))\n",
    "df = df.join(pl.read_parquet(os.path.join(\"data/cnb_sloupce\",\"leader.parquet\")), left_on=\"001\", right_on=\"001\", how=\"left\")\n",
    "df = df.join(pl.read_parquet(os.path.join(\"data/cnb_sloupce\",\"008.parquet\")), left_on=\"001\", right_on=\"001\", how=\"left\")\n",
    "df = df.to_pandas()\n",
    "df = df[df[\"leader\"].str[6].isin([\"a\", \"t\"])]\n",
    "df = df[~df[\"leader\"].str[7].isin([\"b\", \"i\", \"s\", \" \"])]\n",
    "df = df[(df[\"008\"].str[15:17] == \"xr\") & (df[\"008\"].str[35:38] == \"cze\")]\n",
    "df = pl.from_pandas(df)\n",
    "df = df.join(pl.read_parquet(os.path.join(\"data/cnb_sloupce\",\"020.parquet\")), left_on=\"001\", right_on=\"001\", how=\"left\")\n",
    "df = df.join(pl.read_parquet(os.path.join(\"data/cnb_sloupce\",\"022.parquet\")), left_on=\"001\", right_on=\"001\", how=\"left\")\n",
    "df = df.join(pl.read_parquet(os.path.join(\"data/cnb_sloupce\",\"245.parquet\")), left_on=\"001\", right_on=\"001\", how=\"left\")\n",
    "df = df.join(pl.read_parquet(os.path.join(\"data/cnb_sloupce\",\"300.parquet\")), left_on=\"001\", right_on=\"001\", how=\"left\")\n",
    "df = df.join(pl.read_parquet(os.path.join(\"data/cnb_sloupce\",\"655.parquet\")), left_on=\"001\", right_on=\"001\", how=\"left\")\n",
    "df = df.join(pl.read_parquet(os.path.join(\"data/cnb_sloupce\",\"700.parquet\")), left_on=\"001\", right_on=\"001\", how=\"left\")\n",
    "df = df.explode(\"022_a\").filter(pl.col(\"022_a\").is_null())\n",
    "df = df.with_columns(pl.col('008').map_elements(najdi_rok, return_dtype=int).alias('rok'))\n",
    "df = df.with_columns(pl.col('300_a').map_elements(pocet_stran, return_dtype=int).alias('stran'))\n",
    "df = df.with_columns(pl.col('245_a').map_elements(bez_bordelu, return_dtype=str))\n",
    "df = df.explode(\"020_q\").with_columns(pl.col(\"020_q\").map_elements(zjisti_vazbu, return_dtype=str).alias('vazba'))\n",
    "df = df.explode('245_p').with_columns(pl.col('245_p').map_elements(bez_bordelu, return_dtype=str))\n",
    "df = df.filter(pl.col(\"stran\") > 15)\n",
    "print(len(df))\n",
    "df = df.filter(~pl.col('rok').is_null()).sort(by='rok')\n",
    "df = df.filter((~pl.col(\"245_h\").str.contains(\"grafika\")) | pl.col(\"245_h\").is_null()).unique(subset=[\"100_a\",\"245_a\"], keep=\"first\")\n",
    "print(len(df))"
   ]
  },
  {
   "cell_type": "code",
   "execution_count": 4,
   "id": "bb484b55-af3b-4137-a872-ac8c2266da77",
   "metadata": {},
   "outputs": [],
   "source": [
    "vek = pl.read_parquet(os.path.join(\"data\",\"narozeni-umrti-gender.parquet\"))\n",
    "df = df.join(vek, on=\"100_7\", how=\"left\").with_columns((pl.col(\"rok\") - pl.col(\"narozeni\")).alias(\"vek\"))"
   ]
  },
  {
   "cell_type": "code",
   "execution_count": 7,
   "id": "41e435fc-0981-4a2b-bcce-59b16521ecff",
   "metadata": {},
   "outputs": [],
   "source": [
    "df = df.filter(pl.col(\"vek\") < 100)"
   ]
  },
  {
   "cell_type": "code",
   "execution_count": 17,
   "id": "84052b86-452b-47dd-a8c2-065dc5655ed4",
   "metadata": {},
   "outputs": [],
   "source": [
    "df = df.join(pl.read_parquet(os.path.join(\"data/cnb_sloupce\",\"041.parquet\")), left_on=\"001\", right_on=\"001\", how=\"left\")"
   ]
  },
  {
   "cell_type": "code",
   "execution_count": 41,
   "id": "82c80a2f-d1b7-47fd-a3f7-e111854fc4fc",
   "metadata": {},
   "outputs": [
    {
     "data": {
      "text/html": [
       "<div><style>\n",
       ".dataframe > thead > tr,\n",
       ".dataframe > tbody > tr {\n",
       "  text-align: right;\n",
       "  white-space: pre-wrap;\n",
       "}\n",
       "</style>\n",
       "<small>shape: (116, 4)</small><table border=\"1\" class=\"dataframe\"><thead><tr><th>rok</th><th>gender</th><th>co</th><th>len</th></tr><tr><td>i64</td><td>str</td><td>str</td><td>u32</td></tr></thead><tbody><tr><td>2000</td><td>&quot;m&quot;</td><td>&quot;překlad&quot;</td><td>5</td></tr><tr><td>2000</td><td>&quot;f&quot;</td><td>&quot;překlad&quot;</td><td>2</td></tr><tr><td>2000</td><td>&quot;f&quot;</td><td>&quot;orig&quot;</td><td>1</td></tr><tr><td>2000</td><td>&quot;m&quot;</td><td>&quot;orig&quot;</td><td>1</td></tr><tr><td>2001</td><td>&quot;f&quot;</td><td>&quot;orig&quot;</td><td>1</td></tr><tr><td>2001</td><td>&quot;m&quot;</td><td>&quot;překlad&quot;</td><td>5</td></tr><tr><td>2001</td><td>null</td><td>&quot;orig&quot;</td><td>1</td></tr><tr><td>2001</td><td>&quot;f&quot;</td><td>&quot;překlad&quot;</td><td>2</td></tr><tr><td>2001</td><td>&quot;m&quot;</td><td>&quot;orig&quot;</td><td>2</td></tr><tr><td>2002</td><td>null</td><td>&quot;překlad&quot;</td><td>1</td></tr><tr><td>2002</td><td>&quot;m&quot;</td><td>&quot;orig&quot;</td><td>2</td></tr><tr><td>2002</td><td>&quot;m&quot;</td><td>&quot;překlad&quot;</td><td>4</td></tr><tr><td>2002</td><td>&quot;f&quot;</td><td>&quot;překlad&quot;</td><td>1</td></tr><tr><td>2002</td><td>&quot;f&quot;</td><td>&quot;orig&quot;</td><td>1</td></tr><tr><td>2003</td><td>&quot;f&quot;</td><td>&quot;překlad&quot;</td><td>1</td></tr><tr><td>2003</td><td>&quot;m&quot;</td><td>&quot;orig&quot;</td><td>1</td></tr><tr><td>2003</td><td>&quot;m&quot;</td><td>&quot;překlad&quot;</td><td>4</td></tr><tr><td>2003</td><td>&quot;f&quot;</td><td>&quot;orig&quot;</td><td>1</td></tr><tr><td>2003</td><td>null</td><td>&quot;překlad&quot;</td><td>1</td></tr><tr><td>2004</td><td>null</td><td>&quot;překlad&quot;</td><td>1</td></tr><tr><td>2004</td><td>&quot;m&quot;</td><td>&quot;překlad&quot;</td><td>4</td></tr><tr><td>2004</td><td>&quot;f&quot;</td><td>&quot;orig&quot;</td><td>1</td></tr><tr><td>2004</td><td>&quot;f&quot;</td><td>&quot;překlad&quot;</td><td>2</td></tr><tr><td>2004</td><td>&quot;m&quot;</td><td>&quot;orig&quot;</td><td>2</td></tr><tr><td>2005</td><td>&quot;m&quot;</td><td>&quot;orig&quot;</td><td>2</td></tr><tr><td>2005</td><td>null</td><td>&quot;překlad&quot;</td><td>1</td></tr><tr><td>2005</td><td>&quot;m&quot;</td><td>&quot;překlad&quot;</td><td>6</td></tr><tr><td>2005</td><td>&quot;f&quot;</td><td>&quot;orig&quot;</td><td>1</td></tr><tr><td>2005</td><td>&quot;f&quot;</td><td>&quot;překlad&quot;</td><td>2</td></tr><tr><td>2006</td><td>&quot;f&quot;</td><td>&quot;orig&quot;</td><td>1</td></tr><tr><td>2006</td><td>&quot;m&quot;</td><td>&quot;překlad&quot;</td><td>5</td></tr><tr><td>2006</td><td>&quot;m&quot;</td><td>&quot;orig&quot;</td><td>1</td></tr><tr><td>2006</td><td>&quot;f&quot;</td><td>&quot;překlad&quot;</td><td>1</td></tr><tr><td>2007</td><td>&quot;m&quot;</td><td>&quot;překlad&quot;</td><td>6</td></tr><tr><td>2007</td><td>&quot;m&quot;</td><td>&quot;orig&quot;</td><td>1</td></tr><tr><td>2007</td><td>null</td><td>&quot;orig&quot;</td><td>1</td></tr><tr><td>2007</td><td>null</td><td>&quot;překlad&quot;</td><td>1</td></tr><tr><td>2007</td><td>&quot;f&quot;</td><td>&quot;překlad&quot;</td><td>2</td></tr><tr><td>2007</td><td>&quot;f&quot;</td><td>&quot;orig&quot;</td><td>1</td></tr><tr><td>2008</td><td>null</td><td>&quot;orig&quot;</td><td>1</td></tr><tr><td>2008</td><td>null</td><td>&quot;překlad&quot;</td><td>1</td></tr><tr><td>2008</td><td>&quot;m&quot;</td><td>&quot;orig&quot;</td><td>1</td></tr><tr><td>2008</td><td>&quot;m&quot;</td><td>&quot;překlad&quot;</td><td>5</td></tr><tr><td>2008</td><td>&quot;f&quot;</td><td>&quot;překlad&quot;</td><td>6</td></tr><tr><td>2009</td><td>&quot;m&quot;</td><td>&quot;překlad&quot;</td><td>6</td></tr><tr><td>2009</td><td>&quot;f&quot;</td><td>&quot;orig&quot;</td><td>1</td></tr><tr><td>2009</td><td>&quot;m&quot;</td><td>&quot;orig&quot;</td><td>1</td></tr><tr><td>2009</td><td>null</td><td>&quot;překlad&quot;</td><td>1</td></tr><tr><td>2009</td><td>&quot;f&quot;</td><td>&quot;překlad&quot;</td><td>2</td></tr><tr><td>2010</td><td>&quot;f&quot;</td><td>&quot;orig&quot;</td><td>1</td></tr><tr><td>&hellip;</td><td>&hellip;</td><td>&hellip;</td><td>&hellip;</td></tr><tr><td>2013</td><td>&quot;f&quot;</td><td>&quot;překlad&quot;</td><td>2</td></tr><tr><td>2013</td><td>&quot;m&quot;</td><td>&quot;překlad&quot;</td><td>4</td></tr><tr><td>2014</td><td>null</td><td>&quot;překlad&quot;</td><td>1</td></tr><tr><td>2014</td><td>&quot;f&quot;</td><td>&quot;překlad&quot;</td><td>3</td></tr><tr><td>2014</td><td>&quot;f&quot;</td><td>&quot;orig&quot;</td><td>1</td></tr><tr><td>2014</td><td>&quot;m&quot;</td><td>&quot;překlad&quot;</td><td>8</td></tr><tr><td>2014</td><td>&quot;m&quot;</td><td>&quot;orig&quot;</td><td>2</td></tr><tr><td>2015</td><td>&quot;m&quot;</td><td>&quot;překlad&quot;</td><td>6</td></tr><tr><td>2015</td><td>&quot;f&quot;</td><td>&quot;orig&quot;</td><td>1</td></tr><tr><td>2015</td><td>&quot;f&quot;</td><td>&quot;překlad&quot;</td><td>2</td></tr><tr><td>2015</td><td>&quot;m&quot;</td><td>&quot;orig&quot;</td><td>2</td></tr><tr><td>2016</td><td>&quot;f&quot;</td><td>&quot;orig&quot;</td><td>1</td></tr><tr><td>2016</td><td>&quot;m&quot;</td><td>&quot;orig&quot;</td><td>2</td></tr><tr><td>2016</td><td>&quot;m&quot;</td><td>&quot;překlad&quot;</td><td>4</td></tr><tr><td>2016</td><td>null</td><td>&quot;orig&quot;</td><td>1</td></tr><tr><td>2016</td><td>&quot;f&quot;</td><td>&quot;překlad&quot;</td><td>5</td></tr><tr><td>2017</td><td>&quot;f&quot;</td><td>&quot;překlad&quot;</td><td>2</td></tr><tr><td>2017</td><td>&quot;m&quot;</td><td>&quot;překlad&quot;</td><td>5</td></tr><tr><td>2017</td><td>&quot;m&quot;</td><td>&quot;orig&quot;</td><td>1</td></tr><tr><td>2017</td><td>&quot;f&quot;</td><td>&quot;orig&quot;</td><td>1</td></tr><tr><td>2018</td><td>&quot;m&quot;</td><td>&quot;orig&quot;</td><td>1</td></tr><tr><td>2018</td><td>null</td><td>&quot;orig&quot;</td><td>1</td></tr><tr><td>2018</td><td>&quot;f&quot;</td><td>&quot;překlad&quot;</td><td>3</td></tr><tr><td>2018</td><td>&quot;m&quot;</td><td>&quot;překlad&quot;</td><td>9</td></tr><tr><td>2018</td><td>&quot;f&quot;</td><td>&quot;orig&quot;</td><td>1</td></tr><tr><td>2019</td><td>null</td><td>&quot;orig&quot;</td><td>1</td></tr><tr><td>2019</td><td>&quot;f&quot;</td><td>&quot;orig&quot;</td><td>1</td></tr><tr><td>2019</td><td>&quot;f&quot;</td><td>&quot;překlad&quot;</td><td>3</td></tr><tr><td>2019</td><td>&quot;m&quot;</td><td>&quot;orig&quot;</td><td>1</td></tr><tr><td>2019</td><td>&quot;m&quot;</td><td>&quot;překlad&quot;</td><td>6</td></tr><tr><td>2020</td><td>&quot;m&quot;</td><td>&quot;překlad&quot;</td><td>10</td></tr><tr><td>2020</td><td>&quot;f&quot;</td><td>&quot;orig&quot;</td><td>1</td></tr><tr><td>2020</td><td>&quot;m&quot;</td><td>&quot;orig&quot;</td><td>2</td></tr><tr><td>2020</td><td>&quot;f&quot;</td><td>&quot;překlad&quot;</td><td>3</td></tr><tr><td>2021</td><td>&quot;f&quot;</td><td>&quot;překlad&quot;</td><td>3</td></tr><tr><td>2021</td><td>&quot;m&quot;</td><td>&quot;překlad&quot;</td><td>7</td></tr><tr><td>2021</td><td>&quot;m&quot;</td><td>&quot;orig&quot;</td><td>1</td></tr><tr><td>2021</td><td>&quot;f&quot;</td><td>&quot;orig&quot;</td><td>1</td></tr><tr><td>2022</td><td>&quot;f&quot;</td><td>&quot;orig&quot;</td><td>1</td></tr><tr><td>2022</td><td>&quot;f&quot;</td><td>&quot;překlad&quot;</td><td>3</td></tr><tr><td>2022</td><td>&quot;m&quot;</td><td>&quot;orig&quot;</td><td>2</td></tr><tr><td>2022</td><td>&quot;m&quot;</td><td>&quot;překlad&quot;</td><td>11</td></tr><tr><td>2023</td><td>&quot;f&quot;</td><td>&quot;překlad&quot;</td><td>3</td></tr><tr><td>2023</td><td>&quot;m&quot;</td><td>&quot;překlad&quot;</td><td>6</td></tr><tr><td>2023</td><td>&quot;m&quot;</td><td>&quot;orig&quot;</td><td>1</td></tr><tr><td>2023</td><td>&quot;f&quot;</td><td>&quot;orig&quot;</td><td>1</td></tr><tr><td>2024</td><td>&quot;f&quot;</td><td>&quot;orig&quot;</td><td>1</td></tr><tr><td>2024</td><td>&quot;f&quot;</td><td>&quot;překlad&quot;</td><td>4</td></tr><tr><td>2024</td><td>&quot;m&quot;</td><td>&quot;překlad&quot;</td><td>7</td></tr><tr><td>2024</td><td>&quot;m&quot;</td><td>&quot;orig&quot;</td><td>2</td></tr></tbody></table></div>"
      ],
      "text/plain": [
       "shape: (116, 4)\n",
       "┌──────┬────────┬─────────┬─────┐\n",
       "│ rok  ┆ gender ┆ co      ┆ len │\n",
       "│ ---  ┆ ---    ┆ ---     ┆ --- │\n",
       "│ i64  ┆ str    ┆ str     ┆ u32 │\n",
       "╞══════╪════════╪═════════╪═════╡\n",
       "│ 2000 ┆ m      ┆ překlad ┆ 5   │\n",
       "│ 2000 ┆ f      ┆ překlad ┆ 2   │\n",
       "│ 2000 ┆ f      ┆ orig    ┆ 1   │\n",
       "│ 2000 ┆ m      ┆ orig    ┆ 1   │\n",
       "│ 2001 ┆ f      ┆ orig    ┆ 1   │\n",
       "│ 2001 ┆ m      ┆ překlad ┆ 5   │\n",
       "│ 2001 ┆ null   ┆ orig    ┆ 1   │\n",
       "│ 2001 ┆ f      ┆ překlad ┆ 2   │\n",
       "│ 2001 ┆ m      ┆ orig    ┆ 2   │\n",
       "│ 2002 ┆ null   ┆ překlad ┆ 1   │\n",
       "│ 2002 ┆ m      ┆ orig    ┆ 2   │\n",
       "│ 2002 ┆ m      ┆ překlad ┆ 4   │\n",
       "│ 2002 ┆ f      ┆ překlad ┆ 1   │\n",
       "│ 2002 ┆ f      ┆ orig    ┆ 1   │\n",
       "│ 2003 ┆ f      ┆ překlad ┆ 1   │\n",
       "│ 2003 ┆ m      ┆ orig    ┆ 1   │\n",
       "│ 2003 ┆ m      ┆ překlad ┆ 4   │\n",
       "│ 2003 ┆ f      ┆ orig    ┆ 1   │\n",
       "│ 2003 ┆ null   ┆ překlad ┆ 1   │\n",
       "│ 2004 ┆ null   ┆ překlad ┆ 1   │\n",
       "│ 2004 ┆ m      ┆ překlad ┆ 4   │\n",
       "│ 2004 ┆ f      ┆ orig    ┆ 1   │\n",
       "│ 2004 ┆ f      ┆ překlad ┆ 2   │\n",
       "│ 2004 ┆ m      ┆ orig    ┆ 2   │\n",
       "│ 2005 ┆ m      ┆ orig    ┆ 2   │\n",
       "│ 2005 ┆ null   ┆ překlad ┆ 1   │\n",
       "│ 2005 ┆ m      ┆ překlad ┆ 6   │\n",
       "│ 2005 ┆ f      ┆ orig    ┆ 1   │\n",
       "│ 2005 ┆ f      ┆ překlad ┆ 2   │\n",
       "│ 2006 ┆ f      ┆ orig    ┆ 1   │\n",
       "│ 2006 ┆ m      ┆ překlad ┆ 5   │\n",
       "│ 2006 ┆ m      ┆ orig    ┆ 1   │\n",
       "│ 2006 ┆ f      ┆ překlad ┆ 1   │\n",
       "│ 2007 ┆ m      ┆ překlad ┆ 6   │\n",
       "│ 2007 ┆ m      ┆ orig    ┆ 1   │\n",
       "│ 2007 ┆ null   ┆ orig    ┆ 1   │\n",
       "│ 2007 ┆ null   ┆ překlad ┆ 1   │\n",
       "│ 2007 ┆ f      ┆ překlad ┆ 2   │\n",
       "│ 2007 ┆ f      ┆ orig    ┆ 1   │\n",
       "│ 2008 ┆ null   ┆ orig    ┆ 1   │\n",
       "│ 2008 ┆ null   ┆ překlad ┆ 1   │\n",
       "│ 2008 ┆ m      ┆ orig    ┆ 1   │\n",
       "│ 2008 ┆ m      ┆ překlad ┆ 5   │\n",
       "│ 2008 ┆ f      ┆ překlad ┆ 6   │\n",
       "│ 2009 ┆ m      ┆ překlad ┆ 6   │\n",
       "│ 2009 ┆ f      ┆ orig    ┆ 1   │\n",
       "│ 2009 ┆ m      ┆ orig    ┆ 1   │\n",
       "│ 2009 ┆ null   ┆ překlad ┆ 1   │\n",
       "│ 2009 ┆ f      ┆ překlad ┆ 2   │\n",
       "│ 2010 ┆ f      ┆ orig    ┆ 1   │\n",
       "│ …    ┆ …      ┆ …       ┆ …   │\n",
       "│ 2013 ┆ f      ┆ překlad ┆ 2   │\n",
       "│ 2013 ┆ m      ┆ překlad ┆ 4   │\n",
       "│ 2014 ┆ null   ┆ překlad ┆ 1   │\n",
       "│ 2014 ┆ f      ┆ překlad ┆ 3   │\n",
       "│ 2014 ┆ f      ┆ orig    ┆ 1   │\n",
       "│ 2014 ┆ m      ┆ překlad ┆ 8   │\n",
       "│ 2014 ┆ m      ┆ orig    ┆ 2   │\n",
       "│ 2015 ┆ m      ┆ překlad ┆ 6   │\n",
       "│ 2015 ┆ f      ┆ orig    ┆ 1   │\n",
       "│ 2015 ┆ f      ┆ překlad ┆ 2   │\n",
       "│ 2015 ┆ m      ┆ orig    ┆ 2   │\n",
       "│ 2016 ┆ f      ┆ orig    ┆ 1   │\n",
       "│ 2016 ┆ m      ┆ orig    ┆ 2   │\n",
       "│ 2016 ┆ m      ┆ překlad ┆ 4   │\n",
       "│ 2016 ┆ null   ┆ orig    ┆ 1   │\n",
       "│ 2016 ┆ f      ┆ překlad ┆ 5   │\n",
       "│ 2017 ┆ f      ┆ překlad ┆ 2   │\n",
       "│ 2017 ┆ m      ┆ překlad ┆ 5   │\n",
       "│ 2017 ┆ m      ┆ orig    ┆ 1   │\n",
       "│ 2017 ┆ f      ┆ orig    ┆ 1   │\n",
       "│ 2018 ┆ m      ┆ orig    ┆ 1   │\n",
       "│ 2018 ┆ null   ┆ orig    ┆ 1   │\n",
       "│ 2018 ┆ f      ┆ překlad ┆ 3   │\n",
       "│ 2018 ┆ m      ┆ překlad ┆ 9   │\n",
       "│ 2018 ┆ f      ┆ orig    ┆ 1   │\n",
       "│ 2019 ┆ null   ┆ orig    ┆ 1   │\n",
       "│ 2019 ┆ f      ┆ orig    ┆ 1   │\n",
       "│ 2019 ┆ f      ┆ překlad ┆ 3   │\n",
       "│ 2019 ┆ m      ┆ orig    ┆ 1   │\n",
       "│ 2019 ┆ m      ┆ překlad ┆ 6   │\n",
       "│ 2020 ┆ m      ┆ překlad ┆ 10  │\n",
       "│ 2020 ┆ f      ┆ orig    ┆ 1   │\n",
       "│ 2020 ┆ m      ┆ orig    ┆ 2   │\n",
       "│ 2020 ┆ f      ┆ překlad ┆ 3   │\n",
       "│ 2021 ┆ f      ┆ překlad ┆ 3   │\n",
       "│ 2021 ┆ m      ┆ překlad ┆ 7   │\n",
       "│ 2021 ┆ m      ┆ orig    ┆ 1   │\n",
       "│ 2021 ┆ f      ┆ orig    ┆ 1   │\n",
       "│ 2022 ┆ f      ┆ orig    ┆ 1   │\n",
       "│ 2022 ┆ f      ┆ překlad ┆ 3   │\n",
       "│ 2022 ┆ m      ┆ orig    ┆ 2   │\n",
       "│ 2022 ┆ m      ┆ překlad ┆ 11  │\n",
       "│ 2023 ┆ f      ┆ překlad ┆ 3   │\n",
       "│ 2023 ┆ m      ┆ překlad ┆ 6   │\n",
       "│ 2023 ┆ m      ┆ orig    ┆ 1   │\n",
       "│ 2023 ┆ f      ┆ orig    ┆ 1   │\n",
       "│ 2024 ┆ f      ┆ orig    ┆ 1   │\n",
       "│ 2024 ┆ f      ┆ překlad ┆ 4   │\n",
       "│ 2024 ┆ m      ┆ překlad ┆ 7   │\n",
       "│ 2024 ┆ m      ┆ orig    ┆ 2   │\n",
       "└──────┴────────┴─────────┴─────┘"
      ]
     },
     "execution_count": 41,
     "metadata": {},
     "output_type": "execute_result"
    }
   ],
   "source": [
    "litfaktu = df.filter(\n",
    "    pl.col(\"rok\").is_between(2000,2024)\n",
    ").explode(\"655_a\").filter(pl.col(\"655_a\").is_in(\n",
    "    [\"non-fiction\",\"literatura faktu\"]\n",
    ")).unique(\n",
    "    subset=['rok','245_a','100_a']\n",
    ").explode('041_h').group_by(['rok','041_h','gender']).len().with_columns(\n",
    "    pl.when(\n",
    "        pl.col('041_h') == 'cze'\n",
    "    ).then(\n",
    "        pl.lit('orig').alias('co')\n",
    "    ).when(\n",
    "        pl.col('041_h').is_null()\n",
    "    ).then(\n",
    "        pl.lit('orig').alias('co')\n",
    "    ).otherwise(\n",
    "        pl.lit('překlad').alias('co')\n",
    ")).group_by(\n",
    "    ['rok','gender','co']\n",
    ").len().sort(by='rok')\n",
    "\n",
    "litfaktu"
   ]
  },
  {
   "cell_type": "code",
   "execution_count": 45,
   "id": "e6c31274-40d2-4a8d-ba95-520314602209",
   "metadata": {},
   "outputs": [
    {
     "data": {
      "text/html": [
       "<div><style>\n",
       ".dataframe > thead > tr,\n",
       ".dataframe > tbody > tr {\n",
       "  text-align: right;\n",
       "  white-space: pre-wrap;\n",
       "}\n",
       "</style>\n",
       "<small>shape: (3, 2)</small><table border=\"1\" class=\"dataframe\"><thead><tr><th>gender</th><th>len</th></tr><tr><td>str</td><td>u32</td></tr></thead><tbody><tr><td>null</td><td>9</td></tr><tr><td>&quot;m&quot;</td><td>25</td></tr><tr><td>&quot;f&quot;</td><td>25</td></tr></tbody></table></div>"
      ],
      "text/plain": [
       "shape: (3, 2)\n",
       "┌────────┬─────┐\n",
       "│ gender ┆ len │\n",
       "│ ---    ┆ --- │\n",
       "│ str    ┆ u32 │\n",
       "╞════════╪═════╡\n",
       "│ null   ┆ 9   │\n",
       "│ m      ┆ 25  │\n",
       "│ f      ┆ 25  │\n",
       "└────────┴─────┘"
      ]
     },
     "execution_count": 45,
     "metadata": {},
     "output_type": "execute_result"
    }
   ],
   "source": [
    "litfaktu.filter(pl.col('co') == 'překlad').group_by('gender').len()"
   ]
  }
 ],
 "metadata": {
  "kernelspec": {
   "display_name": "Python 3 (ipykernel)",
   "language": "python",
   "name": "python3"
  },
  "language_info": {
   "codemirror_mode": {
    "name": "ipython",
    "version": 3
   },
   "file_extension": ".py",
   "mimetype": "text/x-python",
   "name": "python",
   "nbconvert_exporter": "python",
   "pygments_lexer": "ipython3",
   "version": "3.12.3"
  }
 },
 "nbformat": 4,
 "nbformat_minor": 5
}
