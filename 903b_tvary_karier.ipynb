{
 "cells": [
  {
   "cell_type": "code",
   "execution_count": 307,
   "id": "8087d76f-741f-435e-ac78-5c27ee5b23c1",
   "metadata": {},
   "outputs": [],
   "source": [
    "import os\n",
    "import polars as pl"
   ]
  },
  {
   "cell_type": "code",
   "execution_count": 308,
   "id": "51831439-d661-4b89-acbb-9bfedf2dfdc0",
   "metadata": {},
   "outputs": [
    {
     "data": {
      "text/plain": [
       "<polars.config.Config at 0x1c139a9f440>"
      ]
     },
     "execution_count": 308,
     "metadata": {},
     "output_type": "execute_result"
    }
   ],
   "source": [
    "pl.Config(tbl_rows=100)"
   ]
  },
  {
   "cell_type": "code",
   "execution_count": 309,
   "id": "74cd618b-af03-4fae-99bd-dca0c97cc44f",
   "metadata": {},
   "outputs": [],
   "source": [
    "df = pl.read_parquet(os.path.join(\"data\",\"cnb_ceska_proza.parquet\")).rename({'autorstvo_kod':'100_7'})\n",
    "df = pl.concat([df, pl.read_parquet(os.path.join(\"data\",\"cnb_ceska_poezie.parquet\"))])\n",
    "spisovatelstvo = list(set(df.select(pl.col('100_7')).drop_nulls().to_series().to_list()))"
   ]
  },
  {
   "cell_type": "code",
   "execution_count": 310,
   "id": "3d75724a-c07e-46a7-8867-2fe87bc4a737",
   "metadata": {},
   "outputs": [],
   "source": [
    "df = pl.read_parquet(os.path.join(\"data/cnb_sloupce\",\"100.parquet\"))"
   ]
  },
  {
   "cell_type": "code",
   "execution_count": 311,
   "id": "ec988a1c-b44a-4a4b-b2d4-b4eba0da08b0",
   "metadata": {},
   "outputs": [],
   "source": [
    "df = df.filter(pl.col(\"100_7\").is_in(spisovatelstvo))"
   ]
  },
  {
   "cell_type": "code",
   "execution_count": null,
   "id": "57192e0d-e3d9-4e6f-b970-ccdcd5bdeee0",
   "metadata": {},
   "outputs": [],
   "source": [
    "aut = pl.read_parquet(os.path.join(\"data\",\"aut_vyber.parquet\")).explode(\"370_c\").filter(pl.col(\"370_c\").str.contains(\"Česk\")).explode(\"100_7\").select([\"100_7\",\"374_a\",\"375_a\",\"678_a\"])"
   ]
  },
  {
   "cell_type": "code",
   "execution_count": null,
   "id": "eb032657-3c45-4198-b116-864d6dcf0bbf",
   "metadata": {},
   "outputs": [],
   "source": [
    "aut"
   ]
  },
  {
   "cell_type": "code",
   "execution_count": null,
   "id": "c083c20b-45a0-4b50-92a4-673606b6e9a8",
   "metadata": {},
   "outputs": [],
   "source": [
    "df = df.join(aut, left_on=\"100_7\", right_on=\"100_7\", how=\"left\")"
   ]
  },
  {
   "cell_type": "code",
   "execution_count": null,
   "id": "9c65ea6b-07f1-477b-bac0-55059aab2349",
   "metadata": {},
   "outputs": [],
   "source": [
    "df"
   ]
  },
  {
   "cell_type": "code",
   "execution_count": null,
   "id": "55ec8594-e08a-429f-bad5-4f9094dfef1f",
   "metadata": {},
   "outputs": [],
   "source": [
    "df = df.join(pl.read_parquet(os.path.join(\"data/cnb_sloupce\",\"008.parquet\")), left_on=\"001\", right_on=\"001\", how=\"left\")"
   ]
  },
  {
   "cell_type": "code",
   "execution_count": null,
   "id": "1f9ecd28-2d70-4117-ab7e-e566a701668d",
   "metadata": {},
   "outputs": [],
   "source": [
    "df = df.join(pl.read_parquet(os.path.join(\"data/cnb_sloupce\",\"245.parquet\")), left_on=\"001\", right_on=\"001\", how=\"left\")"
   ]
  },
  {
   "cell_type": "code",
   "execution_count": null,
   "id": "798f8d31-4358-4098-9f76-bd5d489ce69a",
   "metadata": {},
   "outputs": [],
   "source": [
    "df = df.join(pl.read_parquet(os.path.join(\"data/cnb_sloupce\",\"655.parquet\")), left_on=\"001\", right_on=\"001\", how=\"left\")"
   ]
  },
  {
   "cell_type": "code",
   "execution_count": null,
   "id": "756170ae-cd26-440b-824d-bfc1c4df83dd",
   "metadata": {},
   "outputs": [],
   "source": [
    "df"
   ]
  },
  {
   "cell_type": "code",
   "execution_count": null,
   "id": "f7eb370f-2b5c-4974-89ee-b6aaa3239580",
   "metadata": {},
   "outputs": [],
   "source": [
    "df.explode(\"655_a\").group_by(\"655_a\").len().top_k(100, by=\"len\")"
   ]
  },
  {
   "cell_type": "code",
   "execution_count": null,
   "id": "c912202d-d698-4eec-a635-0a5acb9b7c88",
   "metadata": {},
   "outputs": [],
   "source": [
    "df = df.explode(\"655_a\")"
   ]
  },
  {
   "cell_type": "code",
   "execution_count": null,
   "id": "48968c57-b1d4-4dc0-9477-f1b093c4cc85",
   "metadata": {},
   "outputs": [],
   "source": [
    "poezie = df.filter(pl.col('655_a').str.contains('poez|poetr')).with_columns(kategorie = pl.lit('poezie'))\n",
    "proza = df.filter(pl.col('655_a').str.contains('román|fiction|novel|příbě|povíd|stor|próz')).with_columns(kategorie = pl.lit('próza'))\n",
    "vzpominky = df.filter(pl.col('655_a').str.contains('vzpomínky|autobiographical')).with_columns(kategorie = pl.lit('vzpomínky'))"
   ]
  },
  {
   "cell_type": "code",
   "execution_count": null,
   "id": "5d059496-3784-4b58-8973-303e44b76fe1",
   "metadata": {},
   "outputs": [],
   "source": [
    "do_grafu = pl.concat([poezie, proza, vzpominky]).unique(subset=['100_a','245_a'],keep='first')"
   ]
  },
  {
   "cell_type": "code",
   "execution_count": null,
   "id": "1ebccf03-2400-49dd-aef7-9e32ec46f44a",
   "metadata": {},
   "outputs": [],
   "source": [
    "do_grafu"
   ]
  },
  {
   "cell_type": "code",
   "execution_count": null,
   "id": "64ae87d4-e410-467f-9d75-cd164395177c",
   "metadata": {},
   "outputs": [],
   "source": [
    "from src.najdi_rok import najdi_rok"
   ]
  },
  {
   "cell_type": "code",
   "execution_count": null,
   "id": "64076f8d-7437-4ff2-8ba5-c6bdb74d0375",
   "metadata": {},
   "outputs": [],
   "source": [
    "do_grafu = do_grafu.with_columns(pl.col('008').map_elements(najdi_rok, return_dtype=int).alias('rok'))"
   ]
  },
  {
   "cell_type": "code",
   "execution_count": null,
   "id": "1500bb1f-6506-4f3f-a34b-2471c1a09ada",
   "metadata": {},
   "outputs": [],
   "source": [
    "def narozeni(udaje):\n",
    "    try:\n",
    "        return int(udaje.split(\"-\")[0])\n",
    "    except:\n",
    "        return None\n",
    "        \n",
    "def umrti(udaje):\n",
    "    try:\n",
    "        return int(udaje.split(\"-\")[1])\n",
    "    except:\n",
    "        return None"
   ]
  },
  {
   "cell_type": "code",
   "execution_count": null,
   "id": "a5d80421-2a8d-4801-ad84-0daeeeba0bcf",
   "metadata": {},
   "outputs": [],
   "source": [
    "do_grafu = do_grafu.with_columns(pl.col(\"100_d\").map_elements(narozeni).alias('narozeni')).with_columns(pl.col(\"100_d\").map_elements(umrti).alias('umrti'))"
   ]
  },
  {
   "cell_type": "code",
   "execution_count": null,
   "id": "f350faa3-117b-41d1-b9f1-1d6560d771c4",
   "metadata": {},
   "outputs": [],
   "source": [
    "do_grafu = do_grafu.drop_nulls(\"narozeni\")"
   ]
  },
  {
   "cell_type": "code",
   "execution_count": null,
   "id": "d7e39714-0aaa-43cf-b663-82ee8b4bacef",
   "metadata": {},
   "outputs": [],
   "source": [
    "do_grafu = do_grafu.with_columns((pl.col(\"rok\") - pl.col(\"narozeni\")).alias(\"vek\"))"
   ]
  },
  {
   "cell_type": "code",
   "execution_count": null,
   "id": "ec8eea9e-6692-45f3-8d41-2fe00e34b493",
   "metadata": {},
   "outputs": [],
   "source": [
    "do_grafu = do_grafu.filter(pl.col(\"vek\") > 6)"
   ]
  },
  {
   "cell_type": "code",
   "execution_count": null,
   "id": "282e8ce8-c8ad-41c5-bb2f-9a8e5640b7ce",
   "metadata": {},
   "outputs": [],
   "source": [
    "do_grafu.sort(by=\"vek\").head(n=10)"
   ]
  },
  {
   "cell_type": "code",
   "execution_count": null,
   "id": "44421b4c-5aa9-41c2-97df-cb2f9e99ffef",
   "metadata": {},
   "outputs": [],
   "source": [
    "do_grafu = do_grafu.filter((pl.col(\"umrti\") >= pl.col('rok')) | pl.col(\"umrti\").is_null())"
   ]
  },
  {
   "cell_type": "code",
   "execution_count": null,
   "id": "1264e8ec-9d90-4830-8f5c-b80c8ff97833",
   "metadata": {},
   "outputs": [],
   "source": [
    "do_grafu = do_grafu.filter(pl.col(\"vek\") < 110)"
   ]
  },
  {
   "cell_type": "code",
   "execution_count": null,
   "id": "7f317575-7128-4ed6-9068-88390168b46e",
   "metadata": {},
   "outputs": [],
   "source": [
    "import altair as alt\n",
    "alt.data_transformers.disable_max_rows()"
   ]
  },
  {
   "cell_type": "code",
   "execution_count": null,
   "id": "4282fd53-0bef-4919-b8b3-5534524ff3fb",
   "metadata": {},
   "outputs": [],
   "source": [
    "do_grafu"
   ]
  },
  {
   "cell_type": "code",
   "execution_count": null,
   "id": "42b144fb-aa0a-4315-8bbc-7d6f75aa949b",
   "metadata": {},
   "outputs": [],
   "source": []
  },
  {
   "cell_type": "code",
   "execution_count": null,
   "id": "4223ef34-bfc1-4a89-8aa6-0aaad9b1fdf4",
   "metadata": {},
   "outputs": [],
   "source": [
    "do_grafu2 = do_grafu.filter(pl.col(\"rok\") < 1900).group_by([\"vek\",\"kategorie\"]).len().rename({\"len\":\"počet\",\"vek\":\"věk\"})\n",
    "\n",
    "alt.Chart(do_grafu2.to_pandas()).mark_line().encode(\n",
    "    alt.X('věk:Q').axis(domain=False, tickSize=0),\n",
    "    alt.Y('počet:Q').stack('zero').axis(None),\n",
    "    alt.Color('kategorie:N')\n",
    ")"
   ]
  },
  {
   "cell_type": "code",
   "execution_count": null,
   "id": "6cdfdbac-a142-4543-becd-3176c80f16c3",
   "metadata": {},
   "outputs": [],
   "source": [
    "do_grafu2 = do_grafu.filter(pl.col(\"rok\").is_between(1875,1925)).group_by([\"vek\",\"kategorie\"]).len().rename({\"len\":\"počet\",\"vek\":\"věk\"})\n",
    "\n",
    "alt.Chart(do_grafu2.to_pandas()).mark_line().encode(\n",
    "    alt.X('věk:Q').axis(domain=False, tickSize=0),\n",
    "    alt.Y('počet:Q').stack('zero').axis(None),\n",
    "    alt.Color('kategorie:N')\n",
    ")"
   ]
  },
  {
   "cell_type": "code",
   "execution_count": null,
   "id": "913fbacd-b268-465f-a2f6-596305a1c1a8",
   "metadata": {},
   "outputs": [],
   "source": [
    "do_grafu2 = do_grafu.filter(pl.col(\"rok\").is_between(1925,1975)).group_by([\"vek\",\"kategorie\"]).len().rename({\"len\":\"počet\",\"vek\":\"věk\"})\n",
    "print(len(do_grafu.filter(pl.col(\"rok\").is_between(1925,1975))))\n",
    "\n",
    "alt.Chart(do_grafu2.to_pandas()).mark_line().encode(\n",
    "    alt.X('věk:Q').axis(domain=False, tickSize=0),\n",
    "    alt.Y('počet:Q').stack('zero').axis(None),\n",
    "    alt.Color('kategorie:N')\n",
    ")"
   ]
  },
  {
   "cell_type": "code",
   "execution_count": null,
   "id": "e74af1b6-2142-46c8-94a3-a94a36ce4a8a",
   "metadata": {},
   "outputs": [],
   "source": [
    "do_grafu2 = do_grafu.filter(pl.col(\"rok\").is_between(1995,2025)).group_by([\"vek\",\"kategorie\"]).len().rename({\"len\":\"počet\",\"vek\":\"věk\"})\n",
    "print(len(do_grafu.filter(pl.col(\"rok\").is_between(1995,2025))))\n",
    "\n",
    "alt.Chart(do_grafu2.to_pandas()).mark_line().encode(\n",
    "    alt.X('věk:Q').axis(domain=False, tickSize=0),\n",
    "    alt.Y('počet:Q').stack('zero').axis(None),\n",
    "    alt.Color('kategorie:N')\n",
    ")"
   ]
  },
  {
   "cell_type": "code",
   "execution_count": null,
   "id": "6d099482-93f5-4477-988c-e36fcbf7410b",
   "metadata": {},
   "outputs": [],
   "source": [
    "do_grafu2 = do_grafu.filter(pl.col(\"rok\") > 1950).group_by([\"vek\",\"kategorie\"]).len().rename({\"len\":\"počet\",\"vek\":\"věk\"})\n",
    "\n",
    "alt.Chart(do_grafu2.to_pandas()).mark_line().encode(\n",
    "    alt.X('věk:Q').axis(domain=False, tickSize=0),\n",
    "    alt.Y('počet:Q').stack('zero').axis(None),\n",
    "    alt.Color('kategorie:N')\n",
    ")"
   ]
  }
 ],
 "metadata": {
  "kernelspec": {
   "display_name": "Python 3 (ipykernel)",
   "language": "python",
   "name": "python3"
  },
  "language_info": {
   "codemirror_mode": {
    "name": "ipython",
    "version": 3
   },
   "file_extension": ".py",
   "mimetype": "text/x-python",
   "name": "python",
   "nbconvert_exporter": "python",
   "pygments_lexer": "ipython3",
   "version": "3.12.3"
  }
 },
 "nbformat": 4,
 "nbformat_minor": 5
}
