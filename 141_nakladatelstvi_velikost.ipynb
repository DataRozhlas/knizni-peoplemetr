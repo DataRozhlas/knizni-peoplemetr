{
 "cells": [
  {
   "cell_type": "code",
   "execution_count": 1,
   "id": "03c6471e-48b7-4889-8733-efe60ce0e8c4",
   "metadata": {},
   "outputs": [],
   "source": [
    "import os\n",
    "import re\n",
    "import statistics\n",
    "from src.najdi_rok import najdi_rok\n",
    "import pandas as pd\n",
    "pd.set_option('display.max_columns', 100)\n",
    "pd.set_option('display.max_rows', 500)\n",
    "df = pd.read_parquet(\"data/cnb_vyber.parquet\")\n",
    "df['rok'] = df[\"008\"].apply(lambda x: najdi_rok(x))\n",
    "df = df[df['rok'].notnull()]\n",
    "df = df[df['100_7'].notnull()]"
   ]
  },
  {
   "cell_type": "code",
   "execution_count": 2,
   "id": "fea39cc4-9083-4f1f-9406-ef343dfba1b6",
   "metadata": {},
   "outputs": [],
   "source": [
    "def nakladatelstvo(radek):\n",
    "    nakladatel = None\n",
    "    for sloupec in ['928_a','260_b','264_b']:\n",
    "        try:\n",
    "            nakladatel2 = radek[sloupec][0].strip()\n",
    "            if len(nakladatel2) > 2:\n",
    "                nakladatel = nakladatel2\n",
    "        except:\n",
    "            pass\n",
    "    if isinstance(nakladatel, str):\n",
    "        if nakladatel[-1] == ',':\n",
    "            return nakladatel[:-1]"
   ]
  },
  {
   "cell_type": "code",
   "execution_count": 3,
   "id": "6db15cc3-a75b-4a24-bca9-2a06f4c6e658",
   "metadata": {},
   "outputs": [],
   "source": [
    "df['nakladatelstvi'] = df.apply(lambda row: nakladatelstvo(row), axis=1)"
   ]
  },
  {
   "cell_type": "code",
   "execution_count": 9,
   "id": "b88016ea-5920-4600-96c3-32eecfdda8fc",
   "metadata": {},
   "outputs": [
    {
     "data": {
      "text/plain": [
       "nakladatelstvi\n",
       "Euromedia Group                                 2026\n",
       "MOBA                                            1598\n",
       "Dobrovský s.r.o.                                1538\n",
       "Fragment                                         933\n",
       "CPress                                           853\n",
       "Albatros                                         832\n",
       "Ikar                                             699\n",
       "Argo                                             683\n",
       "Host                                             653\n",
       "Grada Publishing                                 487\n",
       "Svojtka & Co.                                    450\n",
       "Portál                                           439\n",
       "Grada                                            392\n",
       "Pointa                                           392\n",
       "Univerzita Karlova, nakladatelství Karolinum     387\n",
       "CooBoo                                           379\n",
       "Baronet                                          372\n",
       "Crew                                             356\n",
       "Sun                                              345\n",
       "Bambook                                          337\n",
       "dtype: int64"
      ]
     },
     "execution_count": 9,
     "metadata": {},
     "output_type": "execute_result"
    }
   ],
   "source": [
    "df[df['rok'] >= 2020].groupby('nakladatelstvi').size().nlargest(20)"
   ]
  }
 ],
 "metadata": {
  "kernelspec": {
   "display_name": "Python 3 (ipykernel)",
   "language": "python",
   "name": "python3"
  },
  "language_info": {
   "codemirror_mode": {
    "name": "ipython",
    "version": 3
   },
   "file_extension": ".py",
   "mimetype": "text/x-python",
   "name": "python",
   "nbconvert_exporter": "python",
   "pygments_lexer": "ipython3",
   "version": "3.12.3"
  }
 },
 "nbformat": 4,
 "nbformat_minor": 5
}
