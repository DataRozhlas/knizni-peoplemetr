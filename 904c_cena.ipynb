{
 "cells": [
  {
   "cell_type": "code",
   "execution_count": 65,
   "id": "40c1493e-15c7-43c0-ae7a-758e0d4ed9ab",
   "metadata": {},
   "outputs": [],
   "source": [
    "import os\n",
    "import datetime\n",
    "import json\n",
    "import warnings\n",
    "import polars as pl\n",
    "import pandas as pd\n",
    "import altair as alt\n",
    "\n",
    "from src.najdi_rok import najdi_rok\n",
    "from src.pocet_stran import pocet_stran\n",
    "from src.bez_bordelu import bez_bordelu\n",
    "from src.alt_friendly import alt_friendly\n",
    "from src.hezke_jmeno import hezke_jmeno\n",
    "from src.kristi_promin import kristi_promin\n",
    "from src.zjisti_vazbu import zjisti_vazbu\n",
    "from src.me_to_neurazi import me_to_neurazi\n",
    "\n",
    "pl.Config(tbl_rows=100)\n",
    "alt.data_transformers.disable_max_rows()\n",
    "alt.themes.register('irozhlas', kristi_promin)\n",
    "alt.themes.enable('irozhlas')\n",
    "warnings.filterwarnings('ignore')\n",
    "\n",
    "with open(os.path.join('src','kredity.json'), 'r', encoding='utf-8') as kredity:\n",
    "    kredity = json.loads(kredity.read())"
   ]
  },
  {
   "cell_type": "code",
   "execution_count": 105,
   "id": "6b8796a2-54d0-460d-a7a3-6e5affeefea9",
   "metadata": {},
   "outputs": [
    {
     "name": "stdout",
     "output_type": "stream",
     "text": [
      "795736\n",
      "506565\n"
     ]
    }
   ],
   "source": [
    "df = pl.read_parquet(os.path.join(\"data/cnb_sloupce\",\"100.parquet\"))\n",
    "df = df.join(pl.read_parquet(os.path.join(\"data/cnb_sloupce\",\"leader.parquet\")), left_on=\"001\", right_on=\"001\", how=\"left\")\n",
    "df = df.join(pl.read_parquet(os.path.join(\"data/cnb_sloupce\",\"008.parquet\")), left_on=\"001\", right_on=\"001\", how=\"left\")\n",
    "df = df.to_pandas()\n",
    "df = df[df[\"leader\"].str[6].isin([\"a\", \"t\"])]\n",
    "df = df[~df[\"leader\"].str[7].isin([\"b\", \"i\", \"s\", \" \"])]\n",
    "df = df[(df[\"008\"].str[15:17] == \"xr\") & (df[\"008\"].str[35:38] == \"cze\")]\n",
    "df = pl.from_pandas(df)\n",
    "df = df.join(pl.read_parquet(os.path.join(\"data/cnb_sloupce\",\"020.parquet\")), left_on=\"001\", right_on=\"001\", how=\"left\")\n",
    "df = df.join(pl.read_parquet(os.path.join(\"data/cnb_sloupce\",\"022.parquet\")), left_on=\"001\", right_on=\"001\", how=\"left\")\n",
    "df = df.join(pl.read_parquet(os.path.join(\"data/cnb_sloupce\",\"245.parquet\")), left_on=\"001\", right_on=\"001\", how=\"left\")\n",
    "df = df.join(pl.read_parquet(os.path.join(\"data/cnb_sloupce\",\"300.parquet\")), left_on=\"001\", right_on=\"001\", how=\"left\")\n",
    "df = df.join(pl.read_parquet(os.path.join(\"data/cnb_sloupce\",\"650.parquet\")), left_on=\"001\", right_on=\"001\", how=\"left\")\n",
    "df = df.join(pl.read_parquet(os.path.join(\"data/cnb_sloupce\",\"653.parquet\")), left_on=\"001\", right_on=\"001\", how=\"left\")\n",
    "df = df.join(pl.read_parquet(os.path.join(\"data/cnb_sloupce\",\"655.parquet\")), left_on=\"001\", right_on=\"001\", how=\"left\")\n",
    "df = df.join(pl.read_parquet(os.path.join(\"data/cnb_sloupce\",\"700.parquet\")), left_on=\"001\", right_on=\"001\", how=\"left\")\n",
    "df = df.explode(\"022_a\").filter(pl.col(\"022_a\").is_null())\n",
    "df = df.with_columns(pl.col('008').map_elements(najdi_rok, return_dtype=int).alias('rok'))\n",
    "df = df.with_columns(pl.col('300_a').map_elements(pocet_stran, return_dtype=int).alias('stran'))\n",
    "df = df.with_columns(pl.col('245_a').map_elements(bez_bordelu, return_dtype=str))\n",
    "df = df.explode(\"020_q\").with_columns(pl.col(\"020_q\").map_elements(zjisti_vazbu, return_dtype=str).alias('vazba'))\n",
    "df = df.explode('245_p').with_columns(pl.col('245_p').map_elements(bez_bordelu, return_dtype=str))\n",
    "print(len(df))\n",
    "df = df.filter(pl.col(\"stran\") >= 30)\n",
    "\n",
    "df = df.filter((~pl.col(\"245_h\").str.contains(\"grafika\")) | pl.col(\"245_h\").is_null()).unique(subset=[\"100_a\",\"245_a\",\"245_p\"], keep=\"first\")\n",
    "print(len(df))"
   ]
  },
  {
   "cell_type": "code",
   "execution_count": 127,
   "id": "2f746439-b5fc-48b3-8597-3923870e67b5",
   "metadata": {},
   "outputs": [
    {
     "data": {
      "text/html": [
       "<div><style>\n",
       ".dataframe > thead > tr,\n",
       ".dataframe > tbody > tr {\n",
       "  text-align: right;\n",
       "  white-space: pre-wrap;\n",
       "}\n",
       "</style>\n",
       "<small>shape: (1_606, 2)</small><table border=\"1\" class=\"dataframe\"><thead><tr><th>655_a</th><th>len</th></tr><tr><td>str</td><td>u32</td></tr></thead><tbody><tr><td>&quot;publikace pro děti&quot;</td><td>3869</td></tr><tr><td>&quot;children&#x27;s literature&quot;</td><td>3811</td></tr><tr><td>&quot;monografie&quot;</td><td>2474</td></tr><tr><td>&quot;monographs&quot;</td><td>2402</td></tr><tr><td>&quot;příručky&quot;</td><td>2363</td></tr><tr><td>&quot;handbooks and manuals&quot;</td><td>2287</td></tr><tr><td>&quot;české romány&quot;</td><td>2138</td></tr><tr><td>&quot;Czech fiction&quot;</td><td>2119</td></tr><tr><td>&quot;populárně-naučné publikace&quot;</td><td>2038</td></tr><tr><td>&quot;popular works&quot;</td><td>1972</td></tr><tr><td>&quot;americké romány&quot;</td><td>1951</td></tr><tr><td>&quot;American fiction&quot;</td><td>1951</td></tr><tr><td>&quot;česká poezie&quot;</td><td>1754</td></tr><tr><td>&quot;Czech poetry&quot;</td><td>1735</td></tr><tr><td>&quot;české příběhy&quot;</td><td>1667</td></tr><tr><td>&quot;Czech stories&quot;</td><td>1656</td></tr><tr><td>&quot;fotografické publikace&quot;</td><td>1463</td></tr><tr><td>&quot;photographical works&quot;</td><td>1378</td></tr><tr><td>&quot;essays&quot;</td><td>1135</td></tr><tr><td>&quot;kolektivní monografie&quot;</td><td>1128</td></tr><tr><td>&quot;collective monographs&quot;</td><td>1115</td></tr><tr><td>&quot;detektivní romány&quot;</td><td>1082</td></tr><tr><td>&quot;detective novels&quot;</td><td>1080</td></tr><tr><td>&quot;obrazové publikace&quot;</td><td>1067</td></tr><tr><td>&quot;pictorial works&quot;</td><td>1027</td></tr><tr><td>&quot;anglické romány&quot;</td><td>1016</td></tr><tr><td>&quot;English fiction&quot;</td><td>1015</td></tr><tr><td>&quot;fantasy romány&quot;</td><td>957</td></tr><tr><td>&quot;fantasy novels&quot;</td><td>948</td></tr><tr><td>&quot;thrillery (romány)&quot;</td><td>910</td></tr><tr><td>&quot;thrillers (novels)&quot;</td><td>910</td></tr><tr><td>&quot;publikace pro mládež&quot;</td><td>896</td></tr><tr><td>&quot;juvenile literature&quot;</td><td>893</td></tr><tr><td>&quot;autobiografické vzpomínky&quot;</td><td>877</td></tr><tr><td>&quot;autobiographical reminiscences&quot;</td><td>844</td></tr><tr><td>&quot;milostné romány&quot;</td><td>743</td></tr><tr><td>&quot;love novels&quot;</td><td>740</td></tr><tr><td>&quot;biografie&quot;</td><td>684</td></tr><tr><td>&quot;biography&quot;</td><td>660</td></tr><tr><td>&quot;české povídky&quot;</td><td>624</td></tr><tr><td>&quot;Czech short stories&quot;</td><td>616</td></tr><tr><td>&quot;romány pro ženy&quot;</td><td>608</td></tr><tr><td>&quot;women&#x27;s novels&quot;</td><td>608</td></tr><tr><td>&quot;historické romány&quot;</td><td>595</td></tr><tr><td>&quot;historical novels&quot;</td><td>595</td></tr><tr><td>&quot;pracovní sešity&quot;</td><td>592</td></tr><tr><td>&quot;activity books&quot;</td><td>568</td></tr><tr><td>&quot;rozhovory&quot;</td><td>564</td></tr><tr><td>&quot;jubilejní publikace&quot;</td><td>548</td></tr><tr><td>&quot;interviews&quot;</td><td>544</td></tr><tr><td>&hellip;</td><td>&hellip;</td></tr><tr><td>&quot;romantické filmy&quot;</td><td>1</td></tr><tr><td>&quot;short stories in German&quot;</td><td>1</td></tr><tr><td>&quot;nekrology&quot;</td><td>1</td></tr><tr><td>&quot;rumunské povídky&quot;</td><td>1</td></tr><tr><td>&quot;Flemish fairy tales&quot;</td><td>1</td></tr><tr><td>&quot;konžské romány (francouzsky)&quot;</td><td>1</td></tr><tr><td>&quot;fiction in Spanish&quot;</td><td>1</td></tr><tr><td>&quot;Syriac fiction (Arabic)&quot;</td><td>1</td></tr><tr><td>&quot;Croatian drama&quot;</td><td>1</td></tr><tr><td>&quot;syrské romány (arabsky)&quot;</td><td>1</td></tr><tr><td>&quot;bulharské prózy&quot;</td><td>1</td></tr><tr><td>&quot;astronomical atlases&quot;</td><td>1</td></tr><tr><td>&quot;Japanese prose&quot;</td><td>1</td></tr><tr><td>&quot;sequence&quot;</td><td>1</td></tr><tr><td>&quot;satirické povídky&quot;</td><td>1</td></tr><tr><td>&quot;Hungarian short stories&quot;</td><td>1</td></tr><tr><td>&quot;finská poezie&quot;</td><td>1</td></tr><tr><td>&quot;švédská dramata&quot;</td><td>1</td></tr><tr><td>&quot;Nigerian prose (English)&quot;</td><td>1</td></tr><tr><td>&quot;jamajské romány&quot;</td><td>1</td></tr><tr><td>&quot;italsky psané romány&quot;</td><td>1</td></tr><tr><td>&quot;Kosovo poetry (Albanian)&quot;</td><td>1</td></tr><tr><td>&quot;Dutch poetry&quot;</td><td>1</td></tr><tr><td>&quot;Croatian poetry&quot;</td><td>1</td></tr><tr><td>&quot;mapy ozbrojených konfliktů&quot;</td><td>1</td></tr><tr><td>&quot;religious drama&quot;</td><td>1</td></tr><tr><td>&quot;filmografie&quot;</td><td>1</td></tr><tr><td>&quot;vietnamské povídky&quot;</td><td>1</td></tr><tr><td>&quot;stories in Spanish&quot;</td><td>1</td></tr><tr><td>&quot;Chilean novellas&quot;</td><td>1</td></tr><tr><td>&quot;argentinské povídky&quot;</td><td>1</td></tr><tr><td>&quot;forestry maps&quot;</td><td>1</td></tr><tr><td>&quot;litevské romány&quot;</td><td>1</td></tr><tr><td>&quot;social short stories&quot;</td><td>1</td></tr><tr><td>&quot;chvalozpěvy&quot;</td><td>1</td></tr><tr><td>&quot;ukrajinské povídky&quot;</td><td>1</td></tr><tr><td>&quot;Latin poetry&quot;</td><td>1</td></tr><tr><td>&quot;čínské prózy&quot;</td><td>1</td></tr><tr><td>&quot;hindské prózy&quot;</td><td>1</td></tr><tr><td>&quot;directions, prescriptions, etc…</td><td>1</td></tr><tr><td>&quot;statistical maps&quot;</td><td>1</td></tr><tr><td>&quot;katalánské příběhy&quot;</td><td>1</td></tr><tr><td>&quot;pastoral letters&quot;</td><td>1</td></tr><tr><td>&quot;španělsky psané příběhy&quot;</td><td>1</td></tr><tr><td>&quot;americké pohádky&quot;</td><td>1</td></tr><tr><td>&quot;Hebrew stories&quot;</td><td>1</td></tr><tr><td>&quot;Dutch short stories&quot;</td><td>1</td></tr><tr><td>&quot;ročenky&quot;</td><td>1</td></tr><tr><td>&quot;dětské písně&quot;</td><td>1</td></tr><tr><td>&quot;rules of procedure&quot;</td><td>1</td></tr></tbody></table></div>"
      ],
      "text/plain": [
       "shape: (1_606, 2)\n",
       "┌─────────────────────────────────┬──────┐\n",
       "│ 655_a                           ┆ len  │\n",
       "│ ---                             ┆ ---  │\n",
       "│ str                             ┆ u32  │\n",
       "╞═════════════════════════════════╪══════╡\n",
       "│ publikace pro děti              ┆ 3869 │\n",
       "│ children's literature           ┆ 3811 │\n",
       "│ monografie                      ┆ 2474 │\n",
       "│ monographs                      ┆ 2402 │\n",
       "│ příručky                        ┆ 2363 │\n",
       "│ handbooks and manuals           ┆ 2287 │\n",
       "│ české romány                    ┆ 2138 │\n",
       "│ Czech fiction                   ┆ 2119 │\n",
       "│ populárně-naučné publikace      ┆ 2038 │\n",
       "│ popular works                   ┆ 1972 │\n",
       "│ americké romány                 ┆ 1951 │\n",
       "│ American fiction                ┆ 1951 │\n",
       "│ česká poezie                    ┆ 1754 │\n",
       "│ Czech poetry                    ┆ 1735 │\n",
       "│ české příběhy                   ┆ 1667 │\n",
       "│ Czech stories                   ┆ 1656 │\n",
       "│ fotografické publikace          ┆ 1463 │\n",
       "│ photographical works            ┆ 1378 │\n",
       "│ essays                          ┆ 1135 │\n",
       "│ kolektivní monografie           ┆ 1128 │\n",
       "│ collective monographs           ┆ 1115 │\n",
       "│ detektivní romány               ┆ 1082 │\n",
       "│ detective novels                ┆ 1080 │\n",
       "│ obrazové publikace              ┆ 1067 │\n",
       "│ pictorial works                 ┆ 1027 │\n",
       "│ anglické romány                 ┆ 1016 │\n",
       "│ English fiction                 ┆ 1015 │\n",
       "│ fantasy romány                  ┆ 957  │\n",
       "│ fantasy novels                  ┆ 948  │\n",
       "│ thrillery (romány)              ┆ 910  │\n",
       "│ thrillers (novels)              ┆ 910  │\n",
       "│ publikace pro mládež            ┆ 896  │\n",
       "│ juvenile literature             ┆ 893  │\n",
       "│ autobiografické vzpomínky       ┆ 877  │\n",
       "│ autobiographical reminiscences  ┆ 844  │\n",
       "│ milostné romány                 ┆ 743  │\n",
       "│ love novels                     ┆ 740  │\n",
       "│ biografie                       ┆ 684  │\n",
       "│ biography                       ┆ 660  │\n",
       "│ české povídky                   ┆ 624  │\n",
       "│ Czech short stories             ┆ 616  │\n",
       "│ romány pro ženy                 ┆ 608  │\n",
       "│ women's novels                  ┆ 608  │\n",
       "│ historické romány               ┆ 595  │\n",
       "│ historical novels               ┆ 595  │\n",
       "│ pracovní sešity                 ┆ 592  │\n",
       "│ activity books                  ┆ 568  │\n",
       "│ rozhovory                       ┆ 564  │\n",
       "│ jubilejní publikace             ┆ 548  │\n",
       "│ interviews                      ┆ 544  │\n",
       "│ …                               ┆ …    │\n",
       "│ romantické filmy                ┆ 1    │\n",
       "│ short stories in German         ┆ 1    │\n",
       "│ nekrology                       ┆ 1    │\n",
       "│ rumunské povídky                ┆ 1    │\n",
       "│ Flemish fairy tales             ┆ 1    │\n",
       "│ konžské romány (francouzsky)    ┆ 1    │\n",
       "│ fiction in Spanish              ┆ 1    │\n",
       "│ Syriac fiction (Arabic)         ┆ 1    │\n",
       "│ Croatian drama                  ┆ 1    │\n",
       "│ syrské romány (arabsky)         ┆ 1    │\n",
       "│ bulharské prózy                 ┆ 1    │\n",
       "│ astronomical atlases            ┆ 1    │\n",
       "│ Japanese prose                  ┆ 1    │\n",
       "│ sequence                        ┆ 1    │\n",
       "│ satirické povídky               ┆ 1    │\n",
       "│ Hungarian short stories         ┆ 1    │\n",
       "│ finská poezie                   ┆ 1    │\n",
       "│ švédská dramata                 ┆ 1    │\n",
       "│ Nigerian prose (English)        ┆ 1    │\n",
       "│ jamajské romány                 ┆ 1    │\n",
       "│ italsky psané romány            ┆ 1    │\n",
       "│ Kosovo poetry (Albanian)        ┆ 1    │\n",
       "│ Dutch poetry                    ┆ 1    │\n",
       "│ Croatian poetry                 ┆ 1    │\n",
       "│ mapy ozbrojených konfliktů      ┆ 1    │\n",
       "│ religious drama                 ┆ 1    │\n",
       "│ filmografie                     ┆ 1    │\n",
       "│ vietnamské povídky              ┆ 1    │\n",
       "│ stories in Spanish              ┆ 1    │\n",
       "│ Chilean novellas                ┆ 1    │\n",
       "│ argentinské povídky             ┆ 1    │\n",
       "│ forestry maps                   ┆ 1    │\n",
       "│ litevské romány                 ┆ 1    │\n",
       "│ social short stories            ┆ 1    │\n",
       "│ chvalozpěvy                     ┆ 1    │\n",
       "│ ukrajinské povídky              ┆ 1    │\n",
       "│ Latin poetry                    ┆ 1    │\n",
       "│ čínské prózy                    ┆ 1    │\n",
       "│ hindské prózy                   ┆ 1    │\n",
       "│ directions, prescriptions, etc… ┆ 1    │\n",
       "│ statistical maps                ┆ 1    │\n",
       "│ katalánské příběhy              ┆ 1    │\n",
       "│ pastoral letters                ┆ 1    │\n",
       "│ španělsky psané příběhy         ┆ 1    │\n",
       "│ americké pohádky                ┆ 1    │\n",
       "│ Hebrew stories                  ┆ 1    │\n",
       "│ Dutch short stories             ┆ 1    │\n",
       "│ ročenky                         ┆ 1    │\n",
       "│ dětské písně                    ┆ 1    │\n",
       "│ rules of procedure              ┆ 1    │\n",
       "└─────────────────────────────────┴──────┘"
      ]
     },
     "execution_count": 127,
     "metadata": {},
     "output_type": "execute_result"
    }
   ],
   "source": [
    "df.filter(pl.col(\"rok\") > 2020).explode('655_a').group_by(\"655_a\").len().sort(by=\"len\",descending=True)"
   ]
  },
  {
   "cell_type": "code",
   "execution_count": 309,
   "id": "ebf87a2e-2cfd-4971-8754-df752c3c80d7",
   "metadata": {},
   "outputs": [
    {
     "data": {
      "text/html": [
       "<div><style>\n",
       ".dataframe > thead > tr,\n",
       ".dataframe > tbody > tr {\n",
       "  text-align: right;\n",
       "  white-space: pre-wrap;\n",
       "}\n",
       "</style>\n",
       "<small>shape: (9, 83)</small><table border=\"1\" class=\"dataframe\"><thead><tr><th>100_ind1</th><th>100_a</th><th>100_7</th><th>100_4</th><th>100_d</th><th>100_q</th><th>100_c</th><th>100_b</th><th>100_e</th><th>001</th><th>leader</th><th>008</th><th>020_q</th><th>020_c</th><th>020_a</th><th>020_z</th><th>022_a</th><th>022_y</th><th>022_z</th><th>022_ind1</th><th>022_l</th><th>245_ind1</th><th>245_ind2</th><th>245_a</th><th>245_b</th><th>245_c</th><th>245_n</th><th>245_p</th><th>245_h</th><th>245_f</th><th>245_s</th><th>300_a</th><th>300_b</th><th>300_c</th><th>300_e</th><th>300_f</th><th>300_3</th><th>&hellip;</th><th>653_a</th><th>655_ind2</th><th>655_a</th><th>655_7</th><th>655_2</th><th>655_ind1</th><th>655_y</th><th>655_z</th><th>700_ind1</th><th>700_a</th><th>700_4</th><th>700_d</th><th>700_7</th><th>700_t</th><th>700_q</th><th>700_l</th><th>700_ind2</th><th>700_c</th><th>700_b</th><th>700_i</th><th>700_m</th><th>700_k</th><th>700_n</th><th>700_r</th><th>700_p</th><th>700_o</th><th>700_s</th><th>700_j</th><th>700_x</th><th>700_e</th><th>700_f</th><th>700_5</th><th>700_9</th><th>700_g</th><th>rok</th><th>stran</th><th>vazba</th></tr><tr><td>str</td><td>str</td><td>str</td><td>list[str]</td><td>str</td><td>str</td><td>list[str]</td><td>str</td><td>str</td><td>str</td><td>str</td><td>str</td><td>str</td><td>list[str]</td><td>list[str]</td><td>list[str]</td><td>str</td><td>list[str]</td><td>list[str]</td><td>str</td><td>str</td><td>str</td><td>str</td><td>str</td><td>str</td><td>str</td><td>list[str]</td><td>str</td><td>str</td><td>str</td><td>str</td><td>list[str]</td><td>list[str]</td><td>list[str]</td><td>list[str]</td><td>str</td><td>str</td><td>&hellip;</td><td>list[str]</td><td>list[str]</td><td>list[str]</td><td>list[str]</td><td>list[str]</td><td>list[str]</td><td>list[str]</td><td>list[str]</td><td>list[str]</td><td>list[str]</td><td>list[str]</td><td>list[str]</td><td>list[str]</td><td>list[str]</td><td>list[str]</td><td>list[str]</td><td>list[str]</td><td>list[str]</td><td>list[str]</td><td>list[str]</td><td>list[str]</td><td>list[str]</td><td>list[str]</td><td>list[str]</td><td>list[str]</td><td>list[str]</td><td>list[str]</td><td>list[str]</td><td>list[str]</td><td>list[str]</td><td>list[str]</td><td>list[str]</td><td>list[str]</td><td>list[str]</td><td>i64</td><td>i64</td><td>str</td></tr></thead><tbody><tr><td>&quot;1&quot;</td><td>&quot;Bellová, Bianca,&quot;</td><td>&quot;xx0087781&quot;</td><td>[&quot;aut&quot;]</td><td>&quot;1970-&quot;</td><td>null</td><td>null</td><td>null</td><td>null</td><td>&quot;nkc20132474687&quot;</td><td>&quot;     cam a22      a 4500&quot;</td><td>&quot;131021s2013    xr     g      0…</td><td>&quot;(váz.) :&quot;</td><td>[&quot;Kč 199,00&quot;]</td><td>[&quot;978-80-7294-965-6&quot;]</td><td>null</td><td>null</td><td>null</td><td>null</td><td>null</td><td>null</td><td>&quot;1&quot;</td><td>&quot;0&quot;</td><td>&quot;Celý den se nic nestane&quot;</td><td>null</td><td>&quot;Bianca Bellová&quot;</td><td>null</td><td>null</td><td>null</td><td>null</td><td>null</td><td>[&quot;138 s. ;&quot;]</td><td>null</td><td>[&quot;21 cm&quot;]</td><td>null</td><td>null</td><td>null</td><td>&hellip;</td><td>null</td><td>[&quot;7&quot;, &quot;9&quot;]</td><td>[&quot;české romány&quot;, &quot;Czech fiction&quot;]</td><td>[&quot;fd133974&quot;, null]</td><td>[&quot;czenas&quot;, &quot;eczenas&quot;]</td><td>null</td><td>null</td><td>null</td><td>null</td><td>null</td><td>null</td><td>null</td><td>null</td><td>null</td><td>null</td><td>null</td><td>null</td><td>null</td><td>null</td><td>null</td><td>null</td><td>null</td><td>null</td><td>null</td><td>null</td><td>null</td><td>null</td><td>null</td><td>null</td><td>null</td><td>null</td><td>null</td><td>null</td><td>null</td><td>2013</td><td>138</td><td>&quot;pevná&quot;</td></tr><tr><td>&quot;1&quot;</td><td>&quot;Bellová, Bianca,&quot;</td><td>&quot;xx0087781&quot;</td><td>[&quot;aut&quot;]</td><td>&quot;1970-&quot;</td><td>null</td><td>null</td><td>null</td><td>null</td><td>&quot;nkc20223407101&quot;</td><td>&quot;     cam a22      i 4500&quot;</td><td>&quot;220324s2022    xr     g      0…</td><td>&quot;(vázáno)&quot;</td><td>null</td><td>[&quot;978-80-275-1048-1&quot;]</td><td>null</td><td>null</td><td>null</td><td>null</td><td>null</td><td>null</td><td>&quot;1&quot;</td><td>&quot;0&quot;</td><td>&quot;Ostrov&quot;</td><td>null</td><td>&quot;Bianca Bellová&quot;</td><td>null</td><td>null</td><td>null</td><td>null</td><td>null</td><td>[&quot;182 stran ;&quot;]</td><td>null</td><td>[&quot;21 cm&quot;]</td><td>null</td><td>null</td><td>null</td><td>&hellip;</td><td>null</td><td>[&quot;7&quot;, &quot;9&quot;]</td><td>[&quot;české romány&quot;, &quot;Czech fiction&quot;]</td><td>[&quot;fd133974&quot;, null]</td><td>[&quot;czenas&quot;, &quot;eczenas&quot;]</td><td>null</td><td>null</td><td>null</td><td>null</td><td>null</td><td>null</td><td>null</td><td>null</td><td>null</td><td>null</td><td>null</td><td>null</td><td>null</td><td>null</td><td>null</td><td>null</td><td>null</td><td>null</td><td>null</td><td>null</td><td>null</td><td>null</td><td>null</td><td>null</td><td>null</td><td>null</td><td>null</td><td>null</td><td>null</td><td>2022</td><td>182</td><td>&quot;pevná&quot;</td></tr><tr><td>&quot;1&quot;</td><td>&quot;Bellová, Bianca,&quot;</td><td>&quot;xx0087781&quot;</td><td>[&quot;aut&quot;]</td><td>&quot;1970-&quot;</td><td>null</td><td>null</td><td>null</td><td>null</td><td>&quot;nkc20233556586&quot;</td><td>&quot;     nam a22      i 4500&quot;</td><td>&quot;231020s2023    xr     g      0…</td><td>&quot;(vázáno)&quot;</td><td>null</td><td>[&quot;978-80-275-1804-3&quot;]</td><td>null</td><td>null</td><td>null</td><td>null</td><td>null</td><td>null</td><td>&quot;1&quot;</td><td>&quot;0&quot;</td><td>&quot;Transfer&quot;</td><td>null</td><td>&quot;Bianca Bellová&quot;</td><td>null</td><td>null</td><td>null</td><td>null</td><td>null</td><td>[&quot;133 stran ;&quot;]</td><td>null</td><td>[&quot;21 cm&quot;]</td><td>null</td><td>null</td><td>null</td><td>&hellip;</td><td>null</td><td>[&quot;7&quot;, &quot;9&quot;]</td><td>[&quot;české novely&quot;, &quot;Czech novellas&quot;]</td><td>[&quot;fd133969&quot;, null]</td><td>[&quot;czenas&quot;, &quot;eczenas&quot;]</td><td>null</td><td>null</td><td>null</td><td>null</td><td>null</td><td>null</td><td>null</td><td>null</td><td>null</td><td>null</td><td>null</td><td>null</td><td>null</td><td>null</td><td>null</td><td>null</td><td>null</td><td>null</td><td>null</td><td>null</td><td>null</td><td>null</td><td>null</td><td>null</td><td>null</td><td>null</td><td>null</td><td>null</td><td>null</td><td>2023</td><td>133</td><td>&quot;pevná&quot;</td></tr><tr><td>&quot;1&quot;</td><td>&quot;Bellová, Bianca,&quot;</td><td>&quot;xx0087781&quot;</td><td>[&quot;aut&quot;]</td><td>&quot;1970-&quot;</td><td>null</td><td>null</td><td>null</td><td>null</td><td>&quot;nkc20091867027&quot;</td><td>&quot;     nam a22      a 4500&quot;</td><td>&quot;090612s2009    xr     g      0…</td><td>&quot;(váz.)&quot;</td><td>null</td><td>[&quot;978-80-903997-5-4&quot;]</td><td>null</td><td>null</td><td>null</td><td>null</td><td>null</td><td>null</td><td>&quot;1&quot;</td><td>&quot;0&quot;</td><td>&quot;Sentimentální román&quot;</td><td>null</td><td>&quot;Bianca Bellová&quot;</td><td>null</td><td>null</td><td>null</td><td>null</td><td>null</td><td>[&quot;109 s. ;&quot;]</td><td>null</td><td>[&quot;19 cm&quot;]</td><td>null</td><td>null</td><td>null</td><td>&hellip;</td><td>null</td><td>[&quot;7&quot;, &quot;9&quot;]</td><td>[&quot;české romány&quot;, &quot;Czech fiction&quot;]</td><td>[&quot;fd133974&quot;, null]</td><td>[&quot;czenas&quot;, &quot;eczenas&quot;]</td><td>null</td><td>null</td><td>null</td><td>null</td><td>null</td><td>null</td><td>null</td><td>null</td><td>null</td><td>null</td><td>null</td><td>null</td><td>null</td><td>null</td><td>null</td><td>null</td><td>null</td><td>null</td><td>null</td><td>null</td><td>null</td><td>null</td><td>null</td><td>null</td><td>null</td><td>null</td><td>null</td><td>null</td><td>null</td><td>2009</td><td>109</td><td>&quot;pevná&quot;</td></tr><tr><td>&quot;1&quot;</td><td>&quot;Bellová, Bianca,&quot;</td><td>&quot;xx0087781&quot;</td><td>[&quot;aut&quot;]</td><td>&quot;1970-&quot;</td><td>null</td><td>null</td><td>null</td><td>null</td><td>&quot;nkc20193122197&quot;</td><td>&quot;     nam a22      i 4500&quot;</td><td>&quot;190920s2019    xr     g      0…</td><td>&quot;(vázáno) :&quot;</td><td>[&quot;Kč 299,00&quot;]</td><td>[&quot;978-80-7577-962-5&quot;]</td><td>null</td><td>null</td><td>null</td><td>null</td><td>null</td><td>null</td><td>&quot;1&quot;</td><td>&quot;0&quot;</td><td>&quot;Mona&quot;</td><td>null</td><td>&quot;Bianca Bellová&quot;</td><td>null</td><td>null</td><td>null</td><td>null</td><td>null</td><td>[&quot;163 stran ;&quot;]</td><td>null</td><td>[&quot;21 cm&quot;]</td><td>null</td><td>null</td><td>null</td><td>&hellip;</td><td>null</td><td>[&quot;7&quot;, &quot;9&quot;]</td><td>[&quot;české novely&quot;, &quot;Czech novellas&quot;]</td><td>[&quot;fd133969&quot;, null]</td><td>[&quot;czenas&quot;, &quot;eczenas&quot;]</td><td>null</td><td>null</td><td>null</td><td>null</td><td>null</td><td>null</td><td>null</td><td>null</td><td>null</td><td>null</td><td>null</td><td>null</td><td>null</td><td>null</td><td>null</td><td>null</td><td>null</td><td>null</td><td>null</td><td>null</td><td>null</td><td>null</td><td>null</td><td>null</td><td>null</td><td>null</td><td>null</td><td>null</td><td>null</td><td>2019</td><td>163</td><td>&quot;pevná&quot;</td></tr><tr><td>&quot;1&quot;</td><td>&quot;Bellová, Bianca,&quot;</td><td>&quot;xx0087781&quot;</td><td>[&quot;aut&quot;]</td><td>&quot;1970-&quot;</td><td>null</td><td>null</td><td>null</td><td>null</td><td>&quot;nkc20162834795&quot;</td><td>&quot;     cam a22      i 4500&quot;</td><td>&quot;160922s2016    xr     g      0…</td><td>&quot;(vázáno) :&quot;</td><td>[&quot;Kč 249,00&quot;]</td><td>[&quot;978-80-7491-771-4&quot;]</td><td>null</td><td>null</td><td>null</td><td>null</td><td>null</td><td>null</td><td>&quot;1&quot;</td><td>&quot;0&quot;</td><td>&quot;Jezero&quot;</td><td>null</td><td>&quot;Bianca Bellová&quot;</td><td>null</td><td>null</td><td>null</td><td>null</td><td>null</td><td>[&quot;186 stran ;&quot;]</td><td>null</td><td>[&quot;21 cm&quot;]</td><td>null</td><td>null</td><td>null</td><td>&hellip;</td><td>null</td><td>[&quot;7&quot;, &quot;9&quot;]</td><td>[&quot;české novely&quot;, &quot;Czech novellas&quot;]</td><td>[&quot;fd133969&quot;, null]</td><td>[&quot;czenas&quot;, &quot;eczenas&quot;]</td><td>null</td><td>null</td><td>null</td><td>null</td><td>null</td><td>null</td><td>null</td><td>null</td><td>null</td><td>null</td><td>null</td><td>null</td><td>null</td><td>null</td><td>null</td><td>null</td><td>null</td><td>null</td><td>null</td><td>null</td><td>null</td><td>null</td><td>null</td><td>null</td><td>null</td><td>null</td><td>null</td><td>null</td><td>null</td><td>2016</td><td>186</td><td>&quot;pevná&quot;</td></tr><tr><td>&quot;1&quot;</td><td>&quot;Bellová, Bianca,&quot;</td><td>&quot;xx0087781&quot;</td><td>[&quot;aut&quot;]</td><td>&quot;1970-&quot;</td><td>null</td><td>null</td><td>null</td><td>null</td><td>&quot;nkc20213312038&quot;</td><td>&quot;     cam a22      i 4500&quot;</td><td>&quot;210317s2021    xr     g      0…</td><td>&quot;(vázáno) :&quot;</td><td>[&quot;Kč 299,00&quot;]</td><td>[&quot;978-80-275-0592-0&quot;]</td><td>null</td><td>null</td><td>null</td><td>null</td><td>null</td><td>null</td><td>&quot;1&quot;</td><td>&quot;0&quot;</td><td>&quot;Tyhle fragmenty&quot;</td><td>null</td><td>&quot;Bianca Bellová&quot;</td><td>null</td><td>null</td><td>null</td><td>null</td><td>null</td><td>[&quot;188 stran ;&quot;]</td><td>null</td><td>[&quot;21 cm&quot;]</td><td>null</td><td>null</td><td>null</td><td>&hellip;</td><td>null</td><td>[&quot;7&quot;, &quot;9&quot;]</td><td>[&quot;české povídky&quot;, &quot;Czech short stories&quot;]</td><td>[&quot;fd133971&quot;, null]</td><td>[&quot;czenas&quot;, &quot;eczenas&quot;]</td><td>null</td><td>null</td><td>null</td><td>null</td><td>null</td><td>null</td><td>null</td><td>null</td><td>null</td><td>null</td><td>null</td><td>null</td><td>null</td><td>null</td><td>null</td><td>null</td><td>null</td><td>null</td><td>null</td><td>null</td><td>null</td><td>null</td><td>null</td><td>null</td><td>null</td><td>null</td><td>null</td><td>null</td><td>null</td><td>2021</td><td>188</td><td>&quot;pevná&quot;</td></tr><tr><td>&quot;1&quot;</td><td>&quot;Bellová, Bianca,&quot;</td><td>&quot;xx0087781&quot;</td><td>[&quot;aut&quot;]</td><td>&quot;1970-&quot;</td><td>null</td><td>null</td><td>null</td><td>null</td><td>&quot;nkc20243634045&quot;</td><td>&quot;     cam a22      i 4500&quot;</td><td>&quot;240917s2024    xr     g      0…</td><td>&quot;(vázáno)&quot;</td><td>null</td><td>[&quot;978-80-275-2212-5&quot;]</td><td>null</td><td>null</td><td>null</td><td>null</td><td>null</td><td>null</td><td>&quot;1&quot;</td><td>&quot;0&quot;</td><td>&quot;Neviditelný muž&quot;</td><td>null</td><td>&quot;Bianca Bellová&quot;</td><td>null</td><td>null</td><td>null</td><td>null</td><td>null</td><td>[&quot;169 stran ;&quot;]</td><td>null</td><td>[&quot;21 cm&quot;]</td><td>null</td><td>null</td><td>null</td><td>&hellip;</td><td>null</td><td>[&quot;7&quot;, &quot;9&quot;]</td><td>[&quot;české romány&quot;, &quot;Czech fiction&quot;]</td><td>[&quot;fd133974&quot;, null]</td><td>[&quot;czenas&quot;, &quot;eczenas&quot;]</td><td>null</td><td>null</td><td>null</td><td>null</td><td>null</td><td>null</td><td>null</td><td>null</td><td>null</td><td>null</td><td>null</td><td>null</td><td>null</td><td>null</td><td>null</td><td>null</td><td>null</td><td>null</td><td>null</td><td>null</td><td>null</td><td>null</td><td>null</td><td>null</td><td>null</td><td>null</td><td>null</td><td>null</td><td>null</td><td>2024</td><td>169</td><td>&quot;pevná&quot;</td></tr><tr><td>&quot;1&quot;</td><td>&quot;Bellová, Bianca,&quot;</td><td>&quot;xx0087781&quot;</td><td>[&quot;aut&quot;]</td><td>&quot;1970-&quot;</td><td>null</td><td>null</td><td>null</td><td>null</td><td>&quot;nkc20112185793&quot;</td><td>&quot;     cam a22      a 4500&quot;</td><td>&quot;110426s2011    xr     g      0…</td><td>&quot;(váz.)&quot;</td><td>null</td><td>[&quot;978-80-7294-495-8&quot;]</td><td>null</td><td>null</td><td>null</td><td>null</td><td>null</td><td>null</td><td>&quot;1&quot;</td><td>&quot;0&quot;</td><td>&quot;Mrtvý muž&quot;</td><td>null</td><td>&quot;Bianca Bellová&quot;</td><td>null</td><td>null</td><td>null</td><td>null</td><td>null</td><td>[&quot;110 s. ;&quot;]</td><td>null</td><td>[&quot;21 cm&quot;]</td><td>null</td><td>null</td><td>null</td><td>&hellip;</td><td>null</td><td>[&quot;7&quot;, &quot;9&quot;]</td><td>[&quot;české novely&quot;, &quot;Czech novellas&quot;]</td><td>[&quot;fd133969&quot;, null]</td><td>[&quot;czenas&quot;, &quot;eczenas&quot;]</td><td>null</td><td>null</td><td>null</td><td>null</td><td>null</td><td>null</td><td>null</td><td>null</td><td>null</td><td>null</td><td>null</td><td>null</td><td>null</td><td>null</td><td>null</td><td>null</td><td>null</td><td>null</td><td>null</td><td>null</td><td>null</td><td>null</td><td>null</td><td>null</td><td>null</td><td>null</td><td>null</td><td>null</td><td>null</td><td>2011</td><td>110</td><td>&quot;pevná&quot;</td></tr></tbody></table></div>"
      ],
      "text/plain": [
       "shape: (9, 83)\n",
       "┌──────────┬──────────────────┬───────────┬───────────┬───┬───────────┬──────┬───────┬───────┐\n",
       "│ 100_ind1 ┆ 100_a            ┆ 100_7     ┆ 100_4     ┆ … ┆ 700_g     ┆ rok  ┆ stran ┆ vazba │\n",
       "│ ---      ┆ ---              ┆ ---       ┆ ---       ┆   ┆ ---       ┆ ---  ┆ ---   ┆ ---   │\n",
       "│ str      ┆ str              ┆ str       ┆ list[str] ┆   ┆ list[str] ┆ i64  ┆ i64   ┆ str   │\n",
       "╞══════════╪══════════════════╪═══════════╪═══════════╪═══╪═══════════╪══════╪═══════╪═══════╡\n",
       "│ 1        ┆ Bellová, Bianca, ┆ xx0087781 ┆ [\"aut\"]   ┆ … ┆ null      ┆ 2013 ┆ 138   ┆ pevná │\n",
       "│ 1        ┆ Bellová, Bianca, ┆ xx0087781 ┆ [\"aut\"]   ┆ … ┆ null      ┆ 2022 ┆ 182   ┆ pevná │\n",
       "│ 1        ┆ Bellová, Bianca, ┆ xx0087781 ┆ [\"aut\"]   ┆ … ┆ null      ┆ 2023 ┆ 133   ┆ pevná │\n",
       "│ 1        ┆ Bellová, Bianca, ┆ xx0087781 ┆ [\"aut\"]   ┆ … ┆ null      ┆ 2009 ┆ 109   ┆ pevná │\n",
       "│ 1        ┆ Bellová, Bianca, ┆ xx0087781 ┆ [\"aut\"]   ┆ … ┆ null      ┆ 2019 ┆ 163   ┆ pevná │\n",
       "│ 1        ┆ Bellová, Bianca, ┆ xx0087781 ┆ [\"aut\"]   ┆ … ┆ null      ┆ 2016 ┆ 186   ┆ pevná │\n",
       "│ 1        ┆ Bellová, Bianca, ┆ xx0087781 ┆ [\"aut\"]   ┆ … ┆ null      ┆ 2021 ┆ 188   ┆ pevná │\n",
       "│ 1        ┆ Bellová, Bianca, ┆ xx0087781 ┆ [\"aut\"]   ┆ … ┆ null      ┆ 2024 ┆ 169   ┆ pevná │\n",
       "│ 1        ┆ Bellová, Bianca, ┆ xx0087781 ┆ [\"aut\"]   ┆ … ┆ null      ┆ 2011 ┆ 110   ┆ pevná │\n",
       "└──────────┴──────────────────┴───────────┴───────────┴───┴───────────┴──────┴───────┴───────┘"
      ]
     },
     "execution_count": 309,
     "metadata": {},
     "output_type": "execute_result"
    }
   ],
   "source": [
    "df.filter(pl.col(\"100_a\").str.contains(\"Bellová, Bia\"))"
   ]
  },
  {
   "cell_type": "code",
   "execution_count": 99,
   "id": "39e3c9b9-4dad-4621-bec7-f2878df76458",
   "metadata": {},
   "outputs": [],
   "source": [
    "def cena(retezec):\n",
    "    try:\n",
    "        return int(retezec.split(\"Kč\")[1].split(',')[0].strip())\n",
    "    except:\n",
    "        return None"
   ]
  },
  {
   "cell_type": "code",
   "execution_count": 239,
   "id": "1a3fd299-5a27-48c5-b943-01eee00651a3",
   "metadata": {},
   "outputs": [],
   "source": [
    "df_rom = df.explode('655_a').filter(pl.col('655_a') == 'české romány').explode(\"020_c\").with_columns(pl.col(\"020_c\").map_elements(lambda x: cena(x)).alias('cena'))"
   ]
  },
  {
   "cell_type": "code",
   "execution_count": 241,
   "id": "6c8b31fe-6de0-4eff-880c-fe2a0051c6ac",
   "metadata": {},
   "outputs": [
    {
     "data": {
      "text/html": [
       "<div><style>\n",
       ".dataframe > thead > tr,\n",
       ".dataframe > tbody > tr {\n",
       "  text-align: right;\n",
       "  white-space: pre-wrap;\n",
       "}\n",
       "</style>\n",
       "<small>shape: (10, 2)</small><table border=\"1\" class=\"dataframe\"><thead><tr><th>rok</th><th>cena</th></tr><tr><td>i64</td><td>f64</td></tr></thead><tbody><tr><td>2016</td><td>291.428571</td></tr><tr><td>2017</td><td>340.790698</td></tr><tr><td>2018</td><td>311.604167</td></tr><tr><td>2019</td><td>335.383562</td></tr><tr><td>2020</td><td>361.935484</td></tr><tr><td>2021</td><td>331.0</td></tr><tr><td>2022</td><td>403.17</td></tr><tr><td>2023</td><td>427.613333</td></tr><tr><td>2024</td><td>410.91</td></tr><tr><td>2025</td><td>414.0</td></tr></tbody></table></div>"
      ],
      "text/plain": [
       "shape: (10, 2)\n",
       "┌──────┬────────────┐\n",
       "│ rok  ┆ cena       │\n",
       "│ ---  ┆ ---        │\n",
       "│ i64  ┆ f64        │\n",
       "╞══════╪════════════╡\n",
       "│ 2016 ┆ 291.428571 │\n",
       "│ 2017 ┆ 340.790698 │\n",
       "│ 2018 ┆ 311.604167 │\n",
       "│ 2019 ┆ 335.383562 │\n",
       "│ 2020 ┆ 361.935484 │\n",
       "│ 2021 ┆ 331.0      │\n",
       "│ 2022 ┆ 403.17     │\n",
       "│ 2023 ┆ 427.613333 │\n",
       "│ 2024 ┆ 410.91     │\n",
       "│ 2025 ┆ 414.0      │\n",
       "└──────┴────────────┘"
      ]
     },
     "execution_count": 241,
     "metadata": {},
     "output_type": "execute_result"
    }
   ],
   "source": []
  },
  {
   "cell_type": "code",
   "execution_count": 311,
   "id": "f7f8639d-29c7-45f9-9c18-8369bad3a167",
   "metadata": {},
   "outputs": [
    {
     "name": "stdout",
     "output_type": "stream",
     "text": [
      "1022\n",
      "254\n"
     ]
    }
   ],
   "source": [
    "do_grafu = df_rom.filter(pl.col('rok') >= 2023).filter(pl.col(\"stran\") <= 700).unique(subset=['245_a','100_a']).select(pl.col(['stran','245_a','cena',\"rok\"]))\n",
    "print(len(do_grafu))\n",
    "do_grafu = do_grafu.drop_nulls()\n",
    "print(len(do_grafu))"
   ]
  },
  {
   "cell_type": "code",
   "execution_count": 303,
   "id": "6bc90699-d1ff-4832-b1dc-b7bfeb65ec8a",
   "metadata": {},
   "outputs": [
    {
     "data": {
      "text/html": [
       "<div><style>\n",
       ".dataframe > thead > tr,\n",
       ".dataframe > tbody > tr {\n",
       "  text-align: right;\n",
       "  white-space: pre-wrap;\n",
       "}\n",
       "</style>\n",
       "<small>shape: (144, 4)</small><table border=\"1\" class=\"dataframe\"><thead><tr><th>stran</th><th>245_a</th><th>cena</th><th>rok</th></tr><tr><td>i64</td><td>str</td><td>i64</td><td>i64</td></tr></thead><tbody><tr><td>398</td><td>&quot;Hrdina od Jezera hrochů&quot;</td><td>369</td><td>2024</td></tr><tr><td>409</td><td>&quot;Práh&quot;</td><td>459</td><td>2024</td></tr><tr><td>249</td><td>&quot;Hotel času&quot;</td><td>349</td><td>2024</td></tr><tr><td>428</td><td>&quot;Azurově šedá&quot;</td><td>499</td><td>2024</td></tr><tr><td>259</td><td>&quot;Úděsné dny Adély H.&quot;</td><td>329</td><td>2024</td></tr><tr><td>300</td><td>&quot;Baltazar&quot;</td><td>440</td><td>2024</td></tr><tr><td>360</td><td>&quot;Ala Luna&quot;</td><td>499</td><td>2024</td></tr><tr><td>377</td><td>&quot;Králokat&quot;</td><td>399</td><td>2024</td></tr><tr><td>234</td><td>&quot;Zkáza ráje&quot;</td><td>349</td><td>2025</td></tr><tr><td>472</td><td>&quot;Meč z kostí&quot;</td><td>500</td><td>2024</td></tr><tr><td>300</td><td>&quot;Teorie zmizení&quot;</td><td>399</td><td>2024</td></tr><tr><td>196</td><td>&quot;Bašty temnoty&quot;</td><td>379</td><td>2024</td></tr><tr><td>281</td><td>&quot;N.A.T.&quot;</td><td>349</td><td>2024</td></tr><tr><td>363</td><td>&quot;Vše je na dobré cestě&quot;</td><td>449</td><td>2025</td></tr><tr><td>191</td><td>&quot;Slunce života&quot;</td><td>349</td><td>2024</td></tr><tr><td>353</td><td>&quot;Jizvy ve hvězdách&quot;</td><td>399</td><td>2024</td></tr><tr><td>141</td><td>&quot;Slova&quot;</td><td>279</td><td>2024</td></tr><tr><td>365</td><td>&quot;Elegie zapomenutých bohů&quot;</td><td>399</td><td>2024</td></tr><tr><td>319</td><td>&quot;Lhář a kráva&quot;</td><td>399</td><td>2024</td></tr><tr><td>345</td><td>&quot;Alfa &amp; Omega&quot;</td><td>399</td><td>2024</td></tr><tr><td>160</td><td>&quot;Cesta do nebe&quot;</td><td>399</td><td>2024</td></tr><tr><td>275</td><td>&quot;Dcera bohů&quot;</td><td>399</td><td>2024</td></tr><tr><td>349</td><td>&quot;Smrt mezi horami&quot;</td><td>399</td><td>2024</td></tr><tr><td>219</td><td>&quot;Chybějící části&quot;</td><td>349</td><td>2024</td></tr><tr><td>407</td><td>&quot;Prokletý Modigliani&quot;</td><td>449</td><td>2024</td></tr><tr><td>134</td><td>&quot;Kladivo na čaroděje&quot;</td><td>179</td><td>2024</td></tr><tr><td>278</td><td>&quot;Spláchnem to!&quot;</td><td>349</td><td>2024</td></tr><tr><td>189</td><td>&quot;Národní opruzení&quot;</td><td>329</td><td>2024</td></tr><tr><td>489</td><td>&quot;Válka memů&quot;</td><td>448</td><td>2024</td></tr><tr><td>154</td><td>&quot;Případ zamilované zahradnice&quot;</td><td>349</td><td>2024</td></tr><tr><td>421</td><td>&quot;Pár kapek zamrzlého času&quot;</td><td>348</td><td>2024</td></tr><tr><td>208</td><td>&quot;Odměna pro druhého&quot;</td><td>349</td><td>2024</td></tr><tr><td>283</td><td>&quot;Ocelová liga&quot;</td><td>369</td><td>2024</td></tr><tr><td>431</td><td>&quot;Znamení padlých&quot;</td><td>469</td><td>2024</td></tr><tr><td>366</td><td>&quot;České sklo&quot;</td><td>329</td><td>2024</td></tr><tr><td>356</td><td>&quot;Jako slon v porcelánu&quot;</td><td>449</td><td>2024</td></tr><tr><td>427</td><td>&quot;Tanec na sopce&quot;</td><td>348</td><td>2024</td></tr><tr><td>309</td><td>&quot;Lásky čas&quot;</td><td>399</td><td>2024</td></tr><tr><td>132</td><td>&quot;Martin Sedmirváč&quot;</td><td>269</td><td>2024</td></tr><tr><td>469</td><td>&quot;Trhliny v kameni&quot;</td><td>499</td><td>2024</td></tr><tr><td>283</td><td>&quot;Zpověď stárnoucí trosky, která…</td><td>349</td><td>2024</td></tr><tr><td>252</td><td>&quot;Přemyslovské kroniky&quot;</td><td>399</td><td>2024</td></tr><tr><td>288</td><td>&quot;Vynucených 7 dní&quot;</td><td>420</td><td>2024</td></tr><tr><td>269</td><td>&quot;Po stopách magie&quot;</td><td>379</td><td>2024</td></tr><tr><td>275</td><td>&quot;Syndikát&quot;</td><td>399</td><td>2024</td></tr><tr><td>124</td><td>&quot;Výměna&quot;</td><td>299</td><td>2024</td></tr><tr><td>338</td><td>&quot;Posedlý ctitel&quot;</td><td>480</td><td>2024</td></tr><tr><td>238</td><td>&quot;Případ mrtvého čaroděje&quot;</td><td>280</td><td>2025</td></tr><tr><td>151</td><td>&quot;Hořkost ovoce&quot;</td><td>349</td><td>2025</td></tr><tr><td>196</td><td>&quot;Spravedliví svůdci žen (v kara…</td><td>299</td><td>2024</td></tr><tr><td>&hellip;</td><td>&hellip;</td><td>&hellip;</td><td>&hellip;</td></tr><tr><td>235</td><td>&quot;Vita humana&quot;</td><td>349</td><td>2024</td></tr><tr><td>270</td><td>&quot;Návrat z divoké Afriky&quot;</td><td>399</td><td>2024</td></tr><tr><td>419</td><td>&quot;V příštím životě&quot;</td><td>399</td><td>2024</td></tr><tr><td>303</td><td>&quot;Centrální impérium: Omega&quot;</td><td>368</td><td>2024</td></tr><tr><td>404</td><td>&quot;Strážci osudu&quot;</td><td>399</td><td>2024</td></tr><tr><td>271</td><td>&quot;Když přišli psi&quot;</td><td>399</td><td>2024</td></tr><tr><td>357</td><td>&quot;Bezejmenná&quot;</td><td>449</td><td>2024</td></tr><tr><td>251</td><td>&quot;Dej mi pokoj&quot;</td><td>369</td><td>2024</td></tr><tr><td>446</td><td>&quot;Šílenství v nás&quot;</td><td>449</td><td>2024</td></tr><tr><td>363</td><td>&quot;Kdo je tu šéf?&quot;</td><td>449</td><td>2024</td></tr><tr><td>332</td><td>&quot;Čarodějky&quot;</td><td>469</td><td>2024</td></tr><tr><td>225</td><td>&quot;Influencer&quot;</td><td>329</td><td>2024</td></tr><tr><td>248</td><td>&quot;Magický infarkt&quot;</td><td>390</td><td>2024</td></tr><tr><td>333</td><td>&quot;Soused na zabití&quot;</td><td>329</td><td>2024</td></tr><tr><td>205</td><td>&quot;Život a smrt Maxmiliána Drápa&quot;</td><td>449</td><td>2024</td></tr><tr><td>319</td><td>&quot;V noci chodím pouští&quot;</td><td>319</td><td>2024</td></tr><tr><td>414</td><td>&quot;Ovál&quot;</td><td>399</td><td>2024</td></tr><tr><td>444</td><td>&quot;Na hraně apokalypsy&quot;</td><td>530</td><td>2024</td></tr><tr><td>107</td><td>&quot;Zbytečné trápení&quot;</td><td>249</td><td>2024</td></tr><tr><td>227</td><td>&quot;Šimon Baar a noblesse de robe&quot;</td><td>369</td><td>2024</td></tr><tr><td>302</td><td>&quot;Arila&quot;</td><td>499</td><td>2024</td></tr><tr><td>207</td><td>&quot;Šílená babička&quot;</td><td>299</td><td>2024</td></tr><tr><td>338</td><td>&quot;Kód Mýtina&quot;</td><td>399</td><td>2024</td></tr><tr><td>414</td><td>&quot;Kameny věčných&quot;</td><td>499</td><td>2024</td></tr><tr><td>147</td><td>&quot;Pavilon šelem&quot;</td><td>299</td><td>2024</td></tr><tr><td>310</td><td>&quot;Dceřina kletba&quot;</td><td>399</td><td>2024</td></tr><tr><td>336</td><td>&quot;Dravé zvěři napospas&quot;</td><td>429</td><td>2024</td></tr><tr><td>390</td><td>&quot;Remo&quot;</td><td>449</td><td>2024</td></tr><tr><td>240</td><td>&quot;Dokonalé městečko&quot;</td><td>369</td><td>2024</td></tr><tr><td>301</td><td>&quot;Je to jenom sranda&quot;</td><td>399</td><td>2024</td></tr><tr><td>268</td><td>&quot;Každý den je Valentýn&quot;</td><td>349</td><td>2024</td></tr><tr><td>310</td><td>&quot;Můj důvod žít&quot;</td><td>369</td><td>2024</td></tr><tr><td>342</td><td>&quot;Motýl, který zapomněl létat&quot;</td><td>399</td><td>2024</td></tr><tr><td>333</td><td>&quot;Zakázané doteky&quot;</td><td>349</td><td>2024</td></tr><tr><td>180</td><td>&quot;Píseň pro Kateřinu&quot;</td><td>369</td><td>2025</td></tr><tr><td>187</td><td>&quot;Narcis a pivoňka&quot;</td><td>299</td><td>2024</td></tr><tr><td>362</td><td>&quot;Divotvorci&quot;</td><td>499</td><td>2024</td></tr><tr><td>311</td><td>&quot;Ostří meče&quot;</td><td>399</td><td>2024</td></tr><tr><td>237</td><td>&quot;Jitřní záře&quot;</td><td>399</td><td>2024</td></tr><tr><td>303</td><td>&quot;Křivda&quot;</td><td>399</td><td>2024</td></tr><tr><td>277</td><td>&quot;Big game&quot;</td><td>379</td><td>2025</td></tr><tr><td>191</td><td>&quot;Gwailou&quot;</td><td>349</td><td>2024</td></tr><tr><td>332</td><td>&quot;Skandální plán&quot;</td><td>399</td><td>2024</td></tr><tr><td>381</td><td>&quot;Tariel&quot;</td><td>399</td><td>2024</td></tr><tr><td>277</td><td>&quot;Pletařka&quot;</td><td>349</td><td>2024</td></tr><tr><td>189</td><td>&quot;Mad Mad&quot;</td><td>325</td><td>2024</td></tr><tr><td>428</td><td>&quot;Masomlejnek&quot;</td><td>399</td><td>2024</td></tr><tr><td>240</td><td>&quot;Rád bych, ale nechce se mi&quot;</td><td>369</td><td>2025</td></tr><tr><td>269</td><td>&quot;Stodolovi: manželé smrti&quot;</td><td>399</td><td>2024</td></tr><tr><td>173</td><td>&quot;Tancuj Matyldo&quot;</td><td>299</td><td>2024</td></tr></tbody></table></div>"
      ],
      "text/plain": [
       "shape: (144, 4)\n",
       "┌───────┬─────────────────────────────────┬──────┬──────┐\n",
       "│ stran ┆ 245_a                           ┆ cena ┆ rok  │\n",
       "│ ---   ┆ ---                             ┆ ---  ┆ ---  │\n",
       "│ i64   ┆ str                             ┆ i64  ┆ i64  │\n",
       "╞═══════╪═════════════════════════════════╪══════╪══════╡\n",
       "│ 398   ┆ Hrdina od Jezera hrochů         ┆ 369  ┆ 2024 │\n",
       "│ 409   ┆ Práh                            ┆ 459  ┆ 2024 │\n",
       "│ 249   ┆ Hotel času                      ┆ 349  ┆ 2024 │\n",
       "│ 428   ┆ Azurově šedá                    ┆ 499  ┆ 2024 │\n",
       "│ 259   ┆ Úděsné dny Adély H.             ┆ 329  ┆ 2024 │\n",
       "│ 300   ┆ Baltazar                        ┆ 440  ┆ 2024 │\n",
       "│ 360   ┆ Ala Luna                        ┆ 499  ┆ 2024 │\n",
       "│ 377   ┆ Králokat                        ┆ 399  ┆ 2024 │\n",
       "│ 234   ┆ Zkáza ráje                      ┆ 349  ┆ 2025 │\n",
       "│ 472   ┆ Meč z kostí                     ┆ 500  ┆ 2024 │\n",
       "│ 300   ┆ Teorie zmizení                  ┆ 399  ┆ 2024 │\n",
       "│ 196   ┆ Bašty temnoty                   ┆ 379  ┆ 2024 │\n",
       "│ 281   ┆ N.A.T.                          ┆ 349  ┆ 2024 │\n",
       "│ 363   ┆ Vše je na dobré cestě           ┆ 449  ┆ 2025 │\n",
       "│ 191   ┆ Slunce života                   ┆ 349  ┆ 2024 │\n",
       "│ 353   ┆ Jizvy ve hvězdách               ┆ 399  ┆ 2024 │\n",
       "│ 141   ┆ Slova                           ┆ 279  ┆ 2024 │\n",
       "│ 365   ┆ Elegie zapomenutých bohů        ┆ 399  ┆ 2024 │\n",
       "│ 319   ┆ Lhář a kráva                    ┆ 399  ┆ 2024 │\n",
       "│ 345   ┆ Alfa & Omega                    ┆ 399  ┆ 2024 │\n",
       "│ 160   ┆ Cesta do nebe                   ┆ 399  ┆ 2024 │\n",
       "│ 275   ┆ Dcera bohů                      ┆ 399  ┆ 2024 │\n",
       "│ 349   ┆ Smrt mezi horami                ┆ 399  ┆ 2024 │\n",
       "│ 219   ┆ Chybějící části                 ┆ 349  ┆ 2024 │\n",
       "│ 407   ┆ Prokletý Modigliani             ┆ 449  ┆ 2024 │\n",
       "│ 134   ┆ Kladivo na čaroděje             ┆ 179  ┆ 2024 │\n",
       "│ 278   ┆ Spláchnem to!                   ┆ 349  ┆ 2024 │\n",
       "│ 189   ┆ Národní opruzení                ┆ 329  ┆ 2024 │\n",
       "│ 489   ┆ Válka memů                      ┆ 448  ┆ 2024 │\n",
       "│ 154   ┆ Případ zamilované zahradnice    ┆ 349  ┆ 2024 │\n",
       "│ 421   ┆ Pár kapek zamrzlého času        ┆ 348  ┆ 2024 │\n",
       "│ 208   ┆ Odměna pro druhého              ┆ 349  ┆ 2024 │\n",
       "│ 283   ┆ Ocelová liga                    ┆ 369  ┆ 2024 │\n",
       "│ 431   ┆ Znamení padlých                 ┆ 469  ┆ 2024 │\n",
       "│ 366   ┆ České sklo                      ┆ 329  ┆ 2024 │\n",
       "│ 356   ┆ Jako slon v porcelánu           ┆ 449  ┆ 2024 │\n",
       "│ 427   ┆ Tanec na sopce                  ┆ 348  ┆ 2024 │\n",
       "│ 309   ┆ Lásky čas                       ┆ 399  ┆ 2024 │\n",
       "│ 132   ┆ Martin Sedmirváč                ┆ 269  ┆ 2024 │\n",
       "│ 469   ┆ Trhliny v kameni                ┆ 499  ┆ 2024 │\n",
       "│ 283   ┆ Zpověď stárnoucí trosky, která… ┆ 349  ┆ 2024 │\n",
       "│ 252   ┆ Přemyslovské kroniky            ┆ 399  ┆ 2024 │\n",
       "│ 288   ┆ Vynucených 7 dní                ┆ 420  ┆ 2024 │\n",
       "│ 269   ┆ Po stopách magie                ┆ 379  ┆ 2024 │\n",
       "│ 275   ┆ Syndikát                        ┆ 399  ┆ 2024 │\n",
       "│ 124   ┆ Výměna                          ┆ 299  ┆ 2024 │\n",
       "│ 338   ┆ Posedlý ctitel                  ┆ 480  ┆ 2024 │\n",
       "│ 238   ┆ Případ mrtvého čaroděje         ┆ 280  ┆ 2025 │\n",
       "│ 151   ┆ Hořkost ovoce                   ┆ 349  ┆ 2025 │\n",
       "│ 196   ┆ Spravedliví svůdci žen (v kara… ┆ 299  ┆ 2024 │\n",
       "│ …     ┆ …                               ┆ …    ┆ …    │\n",
       "│ 235   ┆ Vita humana                     ┆ 349  ┆ 2024 │\n",
       "│ 270   ┆ Návrat z divoké Afriky          ┆ 399  ┆ 2024 │\n",
       "│ 419   ┆ V příštím životě                ┆ 399  ┆ 2024 │\n",
       "│ 303   ┆ Centrální impérium: Omega       ┆ 368  ┆ 2024 │\n",
       "│ 404   ┆ Strážci osudu                   ┆ 399  ┆ 2024 │\n",
       "│ 271   ┆ Když přišli psi                 ┆ 399  ┆ 2024 │\n",
       "│ 357   ┆ Bezejmenná                      ┆ 449  ┆ 2024 │\n",
       "│ 251   ┆ Dej mi pokoj                    ┆ 369  ┆ 2024 │\n",
       "│ 446   ┆ Šílenství v nás                 ┆ 449  ┆ 2024 │\n",
       "│ 363   ┆ Kdo je tu šéf?                  ┆ 449  ┆ 2024 │\n",
       "│ 332   ┆ Čarodějky                       ┆ 469  ┆ 2024 │\n",
       "│ 225   ┆ Influencer                      ┆ 329  ┆ 2024 │\n",
       "│ 248   ┆ Magický infarkt                 ┆ 390  ┆ 2024 │\n",
       "│ 333   ┆ Soused na zabití                ┆ 329  ┆ 2024 │\n",
       "│ 205   ┆ Život a smrt Maxmiliána Drápa   ┆ 449  ┆ 2024 │\n",
       "│ 319   ┆ V noci chodím pouští            ┆ 319  ┆ 2024 │\n",
       "│ 414   ┆ Ovál                            ┆ 399  ┆ 2024 │\n",
       "│ 444   ┆ Na hraně apokalypsy             ┆ 530  ┆ 2024 │\n",
       "│ 107   ┆ Zbytečné trápení                ┆ 249  ┆ 2024 │\n",
       "│ 227   ┆ Šimon Baar a noblesse de robe   ┆ 369  ┆ 2024 │\n",
       "│ 302   ┆ Arila                           ┆ 499  ┆ 2024 │\n",
       "│ 207   ┆ Šílená babička                  ┆ 299  ┆ 2024 │\n",
       "│ 338   ┆ Kód Mýtina                      ┆ 399  ┆ 2024 │\n",
       "│ 414   ┆ Kameny věčných                  ┆ 499  ┆ 2024 │\n",
       "│ 147   ┆ Pavilon šelem                   ┆ 299  ┆ 2024 │\n",
       "│ 310   ┆ Dceřina kletba                  ┆ 399  ┆ 2024 │\n",
       "│ 336   ┆ Dravé zvěři napospas            ┆ 429  ┆ 2024 │\n",
       "│ 390   ┆ Remo                            ┆ 449  ┆ 2024 │\n",
       "│ 240   ┆ Dokonalé městečko               ┆ 369  ┆ 2024 │\n",
       "│ 301   ┆ Je to jenom sranda              ┆ 399  ┆ 2024 │\n",
       "│ 268   ┆ Každý den je Valentýn           ┆ 349  ┆ 2024 │\n",
       "│ 310   ┆ Můj důvod žít                   ┆ 369  ┆ 2024 │\n",
       "│ 342   ┆ Motýl, který zapomněl létat     ┆ 399  ┆ 2024 │\n",
       "│ 333   ┆ Zakázané doteky                 ┆ 349  ┆ 2024 │\n",
       "│ 180   ┆ Píseň pro Kateřinu              ┆ 369  ┆ 2025 │\n",
       "│ 187   ┆ Narcis a pivoňka                ┆ 299  ┆ 2024 │\n",
       "│ 362   ┆ Divotvorci                      ┆ 499  ┆ 2024 │\n",
       "│ 311   ┆ Ostří meče                      ┆ 399  ┆ 2024 │\n",
       "│ 237   ┆ Jitřní záře                     ┆ 399  ┆ 2024 │\n",
       "│ 303   ┆ Křivda                          ┆ 399  ┆ 2024 │\n",
       "│ 277   ┆ Big game                        ┆ 379  ┆ 2025 │\n",
       "│ 191   ┆ Gwailou                         ┆ 349  ┆ 2024 │\n",
       "│ 332   ┆ Skandální plán                  ┆ 399  ┆ 2024 │\n",
       "│ 381   ┆ Tariel                          ┆ 399  ┆ 2024 │\n",
       "│ 277   ┆ Pletařka                        ┆ 349  ┆ 2024 │\n",
       "│ 189   ┆ Mad Mad                         ┆ 325  ┆ 2024 │\n",
       "│ 428   ┆ Masomlejnek                     ┆ 399  ┆ 2024 │\n",
       "│ 240   ┆ Rád bych, ale nechce se mi      ┆ 369  ┆ 2025 │\n",
       "│ 269   ┆ Stodolovi: manželé smrti        ┆ 399  ┆ 2024 │\n",
       "│ 173   ┆ Tancuj Matyldo                  ┆ 299  ┆ 2024 │\n",
       "└───────┴─────────────────────────────────┴──────┴──────┘"
      ]
     },
     "execution_count": 303,
     "metadata": {},
     "output_type": "execute_result"
    }
   ],
   "source": [
    "do_grafu"
   ]
  },
  {
   "cell_type": "code",
   "execution_count": 301,
   "id": "19654ab6-3343-4eb3-9d57-9ffb60b6de4c",
   "metadata": {},
   "outputs": [
    {
     "data": {
      "text/html": [
       "<div><style>\n",
       ".dataframe > thead > tr,\n",
       ".dataframe > tbody > tr {\n",
       "  text-align: right;\n",
       "  white-space: pre-wrap;\n",
       "}\n",
       "</style>\n",
       "<small>shape: (19, 2)</small><table border=\"1\" class=\"dataframe\"><thead><tr><th>stran</th><th>cena</th></tr><tr><td>f64</td><td>f64</td></tr></thead><tbody><tr><td>100.0</td><td>249.0</td></tr><tr><td>125.0</td><td>269.0</td></tr><tr><td>150.0</td><td>339.0</td></tr><tr><td>175.0</td><td>299.0</td></tr><tr><td>200.0</td><td>349.0</td></tr><tr><td>225.0</td><td>354.5</td></tr><tr><td>250.0</td><td>349.0</td></tr><tr><td>275.0</td><td>379.0</td></tr><tr><td>300.0</td><td>399.0</td></tr><tr><td>325.0</td><td>399.0</td></tr><tr><td>350.0</td><td>399.0</td></tr><tr><td>375.0</td><td>399.0</td></tr><tr><td>400.0</td><td>449.0</td></tr><tr><td>425.0</td><td>399.0</td></tr><tr><td>450.0</td><td>489.5</td></tr><tr><td>475.0</td><td>499.5</td></tr><tr><td>500.0</td><td>448.0</td></tr><tr><td>525.0</td><td>479.0</td></tr><tr><td>575.0</td><td>600.0</td></tr></tbody></table></div>"
      ],
      "text/plain": [
       "shape: (19, 2)\n",
       "┌───────┬───────┐\n",
       "│ stran ┆ cena  │\n",
       "│ ---   ┆ ---   │\n",
       "│ f64   ┆ f64   │\n",
       "╞═══════╪═══════╡\n",
       "│ 100.0 ┆ 249.0 │\n",
       "│ 125.0 ┆ 269.0 │\n",
       "│ 150.0 ┆ 339.0 │\n",
       "│ 175.0 ┆ 299.0 │\n",
       "│ 200.0 ┆ 349.0 │\n",
       "│ 225.0 ┆ 354.5 │\n",
       "│ 250.0 ┆ 349.0 │\n",
       "│ 275.0 ┆ 379.0 │\n",
       "│ 300.0 ┆ 399.0 │\n",
       "│ 325.0 ┆ 399.0 │\n",
       "│ 350.0 ┆ 399.0 │\n",
       "│ 375.0 ┆ 399.0 │\n",
       "│ 400.0 ┆ 449.0 │\n",
       "│ 425.0 ┆ 399.0 │\n",
       "│ 450.0 ┆ 489.5 │\n",
       "│ 475.0 ┆ 499.5 │\n",
       "│ 500.0 ┆ 448.0 │\n",
       "│ 525.0 ┆ 479.0 │\n",
       "│ 575.0 ┆ 600.0 │\n",
       "└───────┴───────┘"
      ]
     },
     "execution_count": 301,
     "metadata": {},
     "output_type": "execute_result"
    }
   ],
   "source": [
    "do_grafu.with_columns((pl.col(\"stran\") / 25).round() * 25).group_by('stran').agg(pl.col('cena').median()).sort('stran')"
   ]
  },
  {
   "cell_type": "code",
   "execution_count": 285,
   "id": "10e165cc-e5be-48ac-9590-f0bd32772766",
   "metadata": {},
   "outputs": [
    {
     "data": {
      "text/html": [
       "<div><style>\n",
       ".dataframe > thead > tr,\n",
       ".dataframe > tbody > tr {\n",
       "  text-align: right;\n",
       "  white-space: pre-wrap;\n",
       "}\n",
       "</style>\n",
       "<small>shape: (1, 1)</small><table border=\"1\" class=\"dataframe\"><thead><tr><th>cena</th></tr><tr><td>f64</td></tr></thead><tbody><tr><td>449.0</td></tr></tbody></table></div>"
      ],
      "text/plain": [
       "shape: (1, 1)\n",
       "┌───────┐\n",
       "│ cena  │\n",
       "│ ---   │\n",
       "│ f64   │\n",
       "╞═══════╡\n",
       "│ 449.0 │\n",
       "└───────┘"
      ]
     },
     "execution_count": 285,
     "metadata": {},
     "output_type": "execute_result"
    }
   ],
   "source": [
    "do_grafu.filter(pl.col(\"stran\").is_between(390,410)).select(pl.col(\"cena\")).median()"
   ]
  },
  {
   "cell_type": "code",
   "execution_count": 287,
   "id": "1e6d81b5-957b-4dc7-a1af-1326876cac72",
   "metadata": {},
   "outputs": [
    {
     "data": {
      "text/html": [
       "<div><style>\n",
       ".dataframe > thead > tr,\n",
       ".dataframe > tbody > tr {\n",
       "  text-align: right;\n",
       "  white-space: pre-wrap;\n",
       "}\n",
       "</style>\n",
       "<small>shape: (1, 1)</small><table border=\"1\" class=\"dataframe\"><thead><tr><th>cena</th></tr><tr><td>f64</td></tr></thead><tbody><tr><td>399.0</td></tr></tbody></table></div>"
      ],
      "text/plain": [
       "shape: (1, 1)\n",
       "┌───────┐\n",
       "│ cena  │\n",
       "│ ---   │\n",
       "│ f64   │\n",
       "╞═══════╡\n",
       "│ 399.0 │\n",
       "└───────┘"
      ]
     },
     "execution_count": 287,
     "metadata": {},
     "output_type": "execute_result"
    }
   ],
   "source": [
    "do_grafu.filter(pl.col(\"stran\").is_between(290,310)).select(pl.col(\"cena\")).median()"
   ]
  },
  {
   "cell_type": "code",
   "execution_count": 313,
   "id": "738a237c-4d37-4275-8782-e7cfd52b3bc9",
   "metadata": {},
   "outputs": [
    {
     "data": {
      "text/html": [
       "\n",
       "<style>\n",
       "  #altair-viz-568a032dddf84bc6ac00713205c69866.vega-embed {\n",
       "    width: 100%;\n",
       "    display: flex;\n",
       "  }\n",
       "\n",
       "  #altair-viz-568a032dddf84bc6ac00713205c69866.vega-embed details,\n",
       "  #altair-viz-568a032dddf84bc6ac00713205c69866.vega-embed details summary {\n",
       "    position: relative;\n",
       "  }\n",
       "</style>\n",
       "<div id=\"altair-viz-568a032dddf84bc6ac00713205c69866\"></div>\n",
       "<script type=\"text/javascript\">\n",
       "  var VEGA_DEBUG = (typeof VEGA_DEBUG == \"undefined\") ? {} : VEGA_DEBUG;\n",
       "  (function(spec, embedOpt){\n",
       "    let outputDiv = document.currentScript.previousElementSibling;\n",
       "    if (outputDiv.id !== \"altair-viz-568a032dddf84bc6ac00713205c69866\") {\n",
       "      outputDiv = document.getElementById(\"altair-viz-568a032dddf84bc6ac00713205c69866\");\n",
       "    }\n",
       "    const paths = {\n",
       "      \"vega\": \"https://cdn.jsdelivr.net/npm/vega@5?noext\",\n",
       "      \"vega-lib\": \"https://cdn.jsdelivr.net/npm/vega-lib?noext\",\n",
       "      \"vega-lite\": \"https://cdn.jsdelivr.net/npm/vega-lite@5.8.0?noext\",\n",
       "      \"vega-embed\": \"https://cdn.jsdelivr.net/npm/vega-embed@6?noext\",\n",
       "    };\n",
       "\n",
       "    function maybeLoadScript(lib, version) {\n",
       "      var key = `${lib.replace(\"-\", \"\")}_version`;\n",
       "      return (VEGA_DEBUG[key] == version) ?\n",
       "        Promise.resolve(paths[lib]) :\n",
       "        new Promise(function(resolve, reject) {\n",
       "          var s = document.createElement('script');\n",
       "          document.getElementsByTagName(\"head\")[0].appendChild(s);\n",
       "          s.async = true;\n",
       "          s.onload = () => {\n",
       "            VEGA_DEBUG[key] = version;\n",
       "            return resolve(paths[lib]);\n",
       "          };\n",
       "          s.onerror = () => reject(`Error loading script: ${paths[lib]}`);\n",
       "          s.src = paths[lib];\n",
       "        });\n",
       "    }\n",
       "\n",
       "    function showError(err) {\n",
       "      outputDiv.innerHTML = `<div class=\"error\" style=\"color:red;\">${err}</div>`;\n",
       "      throw err;\n",
       "    }\n",
       "\n",
       "    function displayChart(vegaEmbed) {\n",
       "      vegaEmbed(outputDiv, spec, embedOpt)\n",
       "        .catch(err => showError(`Javascript Error: ${err.message}<br>This usually means there's a typo in your chart specification. See the javascript console for the full traceback.`));\n",
       "    }\n",
       "\n",
       "    if(typeof define === \"function\" && define.amd) {\n",
       "      requirejs.config({paths});\n",
       "      require([\"vega-embed\"], displayChart, err => showError(`Error loading script: ${err.message}`));\n",
       "    } else {\n",
       "      maybeLoadScript(\"vega\", \"5\")\n",
       "        .then(() => maybeLoadScript(\"vega-lite\", \"5.8.0\"))\n",
       "        .then(() => maybeLoadScript(\"vega-embed\", \"6\"))\n",
       "        .catch(showError)\n",
       "        .then(() => displayChart(vegaEmbed));\n",
       "    }\n",
       "  })({\"config\": {\"title\": {\"font\": \"Noticia Text\", \"fontSize\": 11.5, \"anchor\": \"start\", \"lineHeight\": 19, \"fontWeight\": \"bolder\", \"subtitleFont\": \"Noticia Text\", \"subtitleFontSize\": 10, \"subtitleLineHeight\": 15, \"subtitlePadding\": 10, \"dy\": -10, \"color\": \"#292829\", \"subtitleColor\": \"#292829\"}, \"axis\": {\"labelFont\": \"Asap\", \"titleFont\": \"Asap\", \"fontWeight\": \"lighter\", \"titleFontWeight\": \"lighter\", \"labelFontSize\": 9, \"titleFontSize\": 9, \"labelPadding\": 2, \"titlePadding\": 9, \"domainOpacity\": 0, \"tickColor\": \"#DCDDD6\", \"labelColor\": \"#292829\"}, \"legend\": {\"labelFont\": \"Asap\", \"labelFontWeight\": \"normal\", \"titleFont\": \"Asap\", \"titleFontWeight\": \"normal\", \"labelFontSize\": 9, \"titleFontSize\": 9, \"labelColor\": \"#292829\"}, \"view\": {\"stroke\": \"transparent\"}}, \"layer\": [{\"data\": {\"name\": \"data-05c22a9abca22e071d88ebf4dcbc0768\"}, \"mark\": {\"type\": \"circle\", \"color\": \"#81A9D5\", \"opacity\": 1}, \"encoding\": {\"x\": {\"axis\": {\"domainOpacity\": 0, \"format\": \"d\", \"labelExpr\": \"datum.label + ' s.'\", \"tickColor\": \"white\"}, \"field\": \"stran\", \"title\": null, \"type\": \"quantitative\"}, \"y\": {\"axis\": {\"domainOpacity\": 0, \"format\": \"d\", \"labelExpr\": \"datum.label + ' K\\u010d'\", \"orient\": \"right\", \"tickColor\": \"white\"}, \"field\": \"cena\", \"title\": null, \"type\": \"quantitative\"}}, \"title\": {\"text\": \"Rozsahy \\u010desk\\u00fdch rom\\u00e1n\\u016f a jejich doporu\\u010den\\u00e9 ceny\", \"subtitle\": [\"Graf zachycuje pouhou \\u010dtvrtinu rom\\u00e1n\\u016f vydan\\u00fdch od roku 2023; u zbyl\\u00fdch t\\u0159\\u00ed \\u010dtvrtin\", \"nen\\u00ed v datech informace o doporu\\u010den\\u00e9 maloobchodn\\u00ed cen\\u011b.\"]}}, {\"data\": {\"name\": \"data-05c22a9abca22e071d88ebf4dcbc0768\"}, \"mark\": {\"type\": \"line\", \"color\": \"#445B78\"}, \"encoding\": {\"x\": {\"field\": \"stran\", \"type\": \"quantitative\"}, \"y\": {\"field\": \"cena\", \"type\": \"quantitative\"}}, \"transform\": [{\"on\": \"stran\", \"regression\": \"cena\", \"method\": \"poly\"}]}], \"height\": 120, \"width\": 360, \"$schema\": \"https://vega.github.io/schema/vega-lite/v5.8.0.json\", \"datasets\": {\"data-05c22a9abca22e071d88ebf4dcbc0768\": [{\"stran\": 196, \"245_a\": \"Pan\\u00ed S.\", \"cena\": 257, \"rok\": 2023}, {\"stran\": 288, \"245_a\": \"Vynucen\\u00fdch 7 dn\\u00ed\", \"cena\": 420, \"rok\": 2024}, {\"stran\": 340, \"245_a\": \"Konzultant\", \"cena\": 449, \"rok\": 2023}, {\"stran\": 363, \"245_a\": \"V\\u0161e je na dobr\\u00e9 cest\\u011b\", \"cena\": 449, \"rok\": 2025}, {\"stran\": 414, \"245_a\": \"Kameny v\\u011b\\u010dn\\u00fdch\", \"cena\": 499, \"rok\": 2024}, {\"stran\": 117, \"245_a\": \"P\\u011btat\\u0159ic\\u00edtka\", \"cena\": 279, \"rok\": 2023}, {\"stran\": 208, \"245_a\": \"Odm\\u011bna pro druh\\u00e9ho\", \"cena\": 349, \"rok\": 2024}, {\"stran\": 286, \"245_a\": \"Kat\\u00e1riov\\u00e9: imp\\u00e9rium lovc\\u016f mamut\\u016f\", \"cena\": 399, \"rok\": 2023}, {\"stran\": 268, \"245_a\": \"Divok\\u00e1 Afrika\", \"cena\": 399, \"rok\": 2024}, {\"stran\": 191, \"245_a\": \"Slunce \\u017eivota\", \"cena\": 349, \"rok\": 2024}, {\"stran\": 314, \"245_a\": \"Najednou\", \"cena\": 389, \"rok\": 2024}, {\"stran\": 339, \"245_a\": \"Tanec pap\\u00edrov\\u00fdch drak\\u016f\", \"cena\": 339, \"rok\": 2023}, {\"stran\": 232, \"245_a\": \"Rozchodov\\u00e9 \\u0159\\u00edzen\\u00ed\", \"cena\": 319, \"rok\": 2023}, {\"stran\": 333, \"245_a\": \"Zak\\u00e1zan\\u00e9 doteky\", \"cena\": 349, \"rok\": 2024}, {\"stran\": 259, \"245_a\": \"\\u00dad\\u011bsn\\u00e9 dny Ad\\u00e9ly H.\", \"cena\": 329, \"rok\": 2024}, {\"stran\": 196, \"245_a\": \"Spravedliv\\u00ed sv\\u016fdci \\u017een (v karant\\u00e9n\\u011b)\", \"cena\": 299, \"rok\": 2024}, {\"stran\": 253, \"245_a\": \"\\u010cty\\u0159i mim\\u00f3zy\", \"cena\": 349, \"rok\": 2024}, {\"stran\": 227, \"245_a\": \"Jin\\u00e9 m\\u00edsto\", \"cena\": 349, \"rok\": 2023}, {\"stran\": 215, \"245_a\": \"Proti srsti\", \"cena\": 349, \"rok\": 2023}, {\"stran\": 328, \"245_a\": \"Zapomenut\\u00e1\", \"cena\": 399, \"rok\": 2023}, {\"stran\": 277, \"245_a\": \"Neodpov\\u00eddej\", \"cena\": 399, \"rok\": 2023}, {\"stran\": 237, \"245_a\": \"Kandid\\u00e1ti na vraha\", \"cena\": 349, \"rok\": 2024}, {\"stran\": 172, \"245_a\": \"Past na s\\u0148atkov\\u00e9ho podvodn\\u00edka\", \"cena\": 349, \"rok\": 2023}, {\"stran\": 328, \"245_a\": \"T\\u0159et\\u00ed dcera\", \"cena\": 480, \"rok\": 2024}, {\"stran\": 234, \"245_a\": \"Zk\\u00e1za r\\u00e1je\", \"cena\": 349, \"rok\": 2025}, {\"stran\": 316, \"245_a\": \"Mirzova vize\", \"cena\": 329, \"rok\": 2023}, {\"stran\": 193, \"245_a\": \"Daniela\", \"cena\": 299, \"rok\": 2023}, {\"stran\": 197, \"245_a\": \"Zoufalky, aneb, Rande jak cyp\", \"cena\": 249, \"rok\": 2023}, {\"stran\": 309, \"245_a\": \"L\\u00e1sky \\u010das\", \"cena\": 399, \"rok\": 2024}, {\"stran\": 303, \"245_a\": \"K\\u0159ivda\", \"cena\": 399, \"rok\": 2024}, {\"stran\": 398, \"245_a\": \"Hrdina od Jezera hroch\\u016f\", \"cena\": 369, \"rok\": 2024}, {\"stran\": 437, \"245_a\": \"Vyp\\u016fj\\u010den\\u00fd \\u010das\", \"cena\": 439, \"rok\": 2023}, {\"stran\": 295, \"245_a\": \"Masov\\u00e9 kuli\\u010dky se \\u0161leha\\u010dkou\", \"cena\": 399, \"rok\": 2023}, {\"stran\": 353, \"245_a\": \"Jizvy ve hv\\u011bzd\\u00e1ch\", \"cena\": 399, \"rok\": 2024}, {\"stran\": 295, \"245_a\": \"V oble\\u017een\\u00ed\", \"cena\": 369, \"rok\": 2023}, {\"stran\": 421, \"245_a\": \"P\\u00e1r kapek zamrzl\\u00e9ho \\u010dasu\", \"cena\": 348, \"rok\": 2024}, {\"stran\": 154, \"245_a\": \"P\\u0159\\u00edpad zamilovan\\u00e9 zahradnice\", \"cena\": 349, \"rok\": 2024}, {\"stran\": 348, \"245_a\": \"Balada mrtv\\u00e9ho sv\\u011bta\", \"cena\": 399, \"rok\": 2023}, {\"stran\": 400, \"245_a\": \"Kam odch\\u00e1zej\\u00ed sny\", \"cena\": 540, \"rok\": 2023}, {\"stran\": 235, \"245_a\": \"Vra\\u017edy na dvojce\", \"cena\": 349, \"rok\": 2023}, {\"stran\": 184, \"245_a\": \"Dominik l\\u017ee!\", \"cena\": 299, \"rok\": 2023}, {\"stran\": 335, \"245_a\": \"Chci jen tebe\", \"cena\": 399, \"rok\": 2023}, {\"stran\": 472, \"245_a\": \"Me\\u010d z kost\\u00ed\", \"cena\": 500, \"rok\": 2024}, {\"stran\": 107, \"245_a\": \"Zbyte\\u010dn\\u00e9 tr\\u00e1pen\\u00ed\", \"cena\": 249, \"rok\": 2024}, {\"stran\": 339, \"245_a\": \"Svatby v\\u011bc\\u00ed\", \"cena\": 379, \"rok\": 2024}, {\"stran\": 158, \"245_a\": \"Nezastavuj\", \"cena\": 279, \"rok\": 2023}, {\"stran\": 389, \"245_a\": \"Kr\\u00e1lovstv\\u00ed v kameni\", \"cena\": 499, \"rok\": 2023}, {\"stran\": 583, \"245_a\": \"Wetemaa\", \"cena\": 600, \"rok\": 2024}, {\"stran\": 301, \"245_a\": \"Tich\\u00e1 po\\u0161ta\", \"cena\": 399, \"rok\": 2024}, {\"stran\": 236, \"245_a\": \"Luminarels\", \"cena\": 409, \"rok\": 2024}, {\"stran\": 381, \"245_a\": \"Tariel\", \"cena\": 399, \"rok\": 2024}, {\"stran\": 238, \"245_a\": \"Na mno\\u017estv\\u00ed nehle\\u010fte\", \"cena\": 349, \"rok\": 2024}, {\"stran\": 341, \"245_a\": \"Druh\\u00e1 strana \\u0159eky\", \"cena\": 399, \"rok\": 2024}, {\"stran\": 457, \"245_a\": \"Soukrom\\u00e1 trestn\\u00ed ob\\u017ealoba\", \"cena\": 499, \"rok\": 2023}, {\"stran\": 332, \"245_a\": \"Skand\\u00e1ln\\u00ed pl\\u00e1n\", \"cena\": 399, \"rok\": 2024}, {\"stran\": 392, \"245_a\": \"Kde jsi, kdy\\u017e nejsi\", \"cena\": 449, \"rok\": 2023}, {\"stran\": 375, \"245_a\": \"Mezi nimi\", \"cena\": 399, \"rok\": 2023}, {\"stran\": 83, \"245_a\": \"Diagn\\u00f3za gambler\", \"cena\": 279, \"rok\": 2023}, {\"stran\": 409, \"245_a\": \"Pr\\u00e1h\", \"cena\": 459, \"rok\": 2024}, {\"stran\": 205, \"245_a\": \"\\u017divot a smrt Maxmili\\u00e1na Dr\\u00e1pa\", \"cena\": 449, \"rok\": 2024}, {\"stran\": 240, \"245_a\": \"R\\u00e1d bych, ale nechce se mi\", \"cena\": 369, \"rok\": 2025}, {\"stran\": 456, \"245_a\": \"Neviditeln\\u00e9 ko\\u0159eny\", \"cena\": 499, \"rok\": 2023}, {\"stran\": 365, \"245_a\": \"Elegie zapomenut\\u00fdch boh\\u016f\", \"cena\": 399, \"rok\": 2024}, {\"stran\": 407, \"245_a\": \"Proklet\\u00fd Modigliani\", \"cena\": 449, \"rok\": 2024}, {\"stran\": 318, \"245_a\": \"Obojek\", \"cena\": 540, \"rok\": 2023}, {\"stran\": 350, \"245_a\": \"Strnad\\u016fv efekt\", \"cena\": 498, \"rok\": 2023}, {\"stran\": 271, \"245_a\": \"Hory d\\u00e1vaj\\u00ed chl\\u00e9b\", \"cena\": 368, \"rok\": 2023}, {\"stran\": 338, \"245_a\": \"K\\u00f3d M\\u00fdtina\", \"cena\": 399, \"rok\": 2024}, {\"stran\": 292, \"245_a\": \"Dvojsmysln\\u00e1\", \"cena\": 349, \"rok\": 2024}, {\"stran\": 240, \"245_a\": \"Dokonal\\u00e9 m\\u011bste\\u010dko\", \"cena\": 369, \"rok\": 2024}, {\"stran\": 302, \"245_a\": \"Vodn\\u00edk\", \"cena\": 399, \"rok\": 2023}, {\"stran\": 469, \"245_a\": \"Trhliny v kameni\", \"cena\": 499, \"rok\": 2024}, {\"stran\": 132, \"245_a\": \"Martin Sedmirv\\u00e1\\u010d\", \"cena\": 269, \"rok\": 2024}, {\"stran\": 454, \"245_a\": \"Posledn\\u00ed \\u010dlov\\u011bk na planet\\u011b Zemi\", \"cena\": 399, \"rok\": 2023}, {\"stran\": 151, \"245_a\": \"Ho\\u0159kost ovoce\", \"cena\": 349, \"rok\": 2025}, {\"stran\": 377, \"245_a\": \"Kr\\u00e1lokat\", \"cena\": 399, \"rok\": 2024}, {\"stran\": 356, \"245_a\": \"Jako slon v porcel\\u00e1nu\", \"cena\": 449, \"rok\": 2024}, {\"stran\": 333, \"245_a\": \"Kniha, kterou posypal hv\\u011bzdn\\u00fd prach\", \"cena\": 399, \"rok\": 2023}, {\"stran\": 428, \"245_a\": \"Masomlejnek\", \"cena\": 399, \"rok\": 2024}, {\"stran\": 206, \"245_a\": \"Adam ze Zbraslavi a p\\u0159\\u00edpad kr\\u00e1lovsk\\u00e9 dcery Eli\\u0161ky\", \"cena\": 349, \"rok\": 2023}, {\"stran\": 575, \"245_a\": \"Vyz\\u00fdvatel, aneb, Tankov\\u00fd pluk pod velen\\u00edm vnuka Josefa \\u0160vejka\", \"cena\": 599, \"rok\": 2023}, {\"stran\": 271, \"245_a\": \"Chm\\u00fd\\u0159\\u00ed pampeli\\u0161ky\", \"cena\": 349, \"rok\": 2024}, {\"stran\": 235, \"245_a\": \"Vita humana\", \"cena\": 349, \"rok\": 2024}, {\"stran\": 196, \"245_a\": \"Ba\\u0161ty temnoty\", \"cena\": 379, \"rok\": 2024}, {\"stran\": 187, \"245_a\": \"Ve v\\u00fdslu\\u017eb\\u011b\", \"cena\": 299, \"rok\": 2024}, {\"stran\": 216, \"245_a\": \"Christopher\", \"cena\": 349, \"rok\": 2024}, {\"stran\": 186, \"245_a\": \"Tancuj si sv\\u016fj sen\", \"cena\": 349, \"rok\": 2023}, {\"stran\": 404, \"245_a\": \"Str\\u00e1\\u017eci osudu\", \"cena\": 399, \"rok\": 2024}, {\"stran\": 173, \"245_a\": \"Tancuj Matyldo\", \"cena\": 299, \"rok\": 2024}, {\"stran\": 415, \"245_a\": \"Soumrak Edenu\", \"cena\": 449, \"rok\": 2023}, {\"stran\": 337, \"245_a\": \"P\\u0159evzet\\u00ed\", \"cena\": 399, \"rok\": 2023}, {\"stran\": 187, \"245_a\": \"Vr\\u010d\\u00edc\\u00ed nad\\u011bje\", \"cena\": 440, \"rok\": 2023}, {\"stran\": 196, \"245_a\": \"U jedn\\u00e9 n\\u00e1u\\u0161nice\", \"cena\": 299, \"rok\": 2023}, {\"stran\": 166, \"245_a\": \"P\\u0159\\u00edpad p\\u0159el\\u00e9tav\\u00e9ho staro\\u017eitn\\u00edka\", \"cena\": 349, \"rok\": 2023}, {\"stran\": 222, \"245_a\": \"Tajemstv\\u00ed Heavenu\", \"cena\": 299, \"rok\": 2023}, {\"stran\": 359, \"245_a\": \"U\\u010ditelka angli\\u010dtiny\", \"cena\": 399, \"rok\": 2023}, {\"stran\": 489, \"245_a\": \"V\\u00e1lka mem\\u016f\", \"cena\": 448, \"rok\": 2024}, {\"stran\": 300, \"245_a\": \"Baltazar\", \"cena\": 440, \"rok\": 2024}, {\"stran\": 190, \"245_a\": \"Rty s p\\u0159\\u00edchut\\u00ed v\\u00edna\", \"cena\": 299, \"rok\": 2023}, {\"stran\": 243, \"245_a\": \"B\\u00e1ra krot\\u00ed pos\\u00e1dku\", \"cena\": 299, \"rok\": 2023}, {\"stran\": 362, \"245_a\": \"Divotvorci\", \"cena\": 499, \"rok\": 2024}, {\"stran\": 261, \"245_a\": \"Desetkr\\u00e1t a dost\", \"cena\": 349, \"rok\": 2023}, {\"stran\": 180, \"245_a\": \"P\\u00edse\\u0148 pro Kate\\u0159inu\", \"cena\": 369, \"rok\": 2025}, {\"stran\": 311, \"245_a\": \"Ost\\u0159\\u00ed me\\u010de\", \"cena\": 399, \"rok\": 2024}, {\"stran\": 219, \"245_a\": \"Ndoto\", \"cena\": 359, \"rok\": 2023}, {\"stran\": 427, \"245_a\": \"Tanec na sopce\", \"cena\": 348, \"rok\": 2024}, {\"stran\": 190, \"245_a\": \"Tromby\", \"cena\": 299, \"rok\": 2023}, {\"stran\": 326, \"245_a\": \"Zbab\\u011blci a vrazi\", \"cena\": 449, \"rok\": 2023}, {\"stran\": 268, \"245_a\": \"Ka\\u017ed\\u00fd den je Valent\\u00fdn\", \"cena\": 349, \"rok\": 2024}, {\"stran\": 249, \"245_a\": \"Hotel \\u010dasu\", \"cena\": 349, \"rok\": 2024}, {\"stran\": 303, \"245_a\": \"Centr\\u00e1ln\\u00ed imp\\u00e9rium: Omega\", \"cena\": 368, \"rok\": 2024}, {\"stran\": 270, \"245_a\": \"N\\u00e1vrat z divok\\u00e9 Afriky\", \"cena\": 399, \"rok\": 2024}, {\"stran\": 336, \"245_a\": \"Kde domov m\\u016fj\", \"cena\": 290, \"rok\": 2023}, {\"stran\": 160, \"245_a\": \"Cesta do nebe\", \"cena\": 399, \"rok\": 2024}, {\"stran\": 364, \"245_a\": \"Koruna strachu\", \"cena\": 369, \"rok\": 2023}, {\"stran\": 227, \"245_a\": \"\\u0160imon Baar a noblesse de robe\", \"cena\": 369, \"rok\": 2024}, {\"stran\": 341, \"245_a\": \"Hotel Atlantic\", \"cena\": 449, \"rok\": 2023}, {\"stran\": 117, \"245_a\": \"Pom\\u00edjivost\", \"cena\": 279, \"rok\": 2023}, {\"stran\": 205, \"245_a\": \"Zlod\\u011bj tv\\u00e1\\u0159\\u00ed\", \"cena\": 299, \"rok\": 2023}, {\"stran\": 207, \"245_a\": \"\\u0160\\u00edlen\\u00e1 babi\\u010dka\", \"cena\": 299, \"rok\": 2024}, {\"stran\": 141, \"245_a\": \"Slova\", \"cena\": 279, \"rok\": 2024}, {\"stran\": 252, \"245_a\": \"P\\u0159emyslovsk\\u00e9 kroniky\", \"cena\": 399, \"rok\": 2024}, {\"stran\": 134, \"245_a\": \"Kladivo na \\u010darod\\u011bje\", \"cena\": 179, \"rok\": 2024}, {\"stran\": 271, \"245_a\": \"Kdy\\u017e p\\u0159i\\u0161li psi\", \"cena\": 399, \"rok\": 2024}, {\"stran\": 316, \"245_a\": \"#Najdi m\\u011b\", \"cena\": 349, \"rok\": 2023}, {\"stran\": 198, \"245_a\": \"Vyn\\u00e1lez zk\\u00e1zy\", \"cena\": 369, \"rok\": 2023}, {\"stran\": 321, \"245_a\": \"Princezna z n\\u00e1dra\\u017e\\u00ed\", \"cena\": 369, \"rok\": 2023}, {\"stran\": 349, \"245_a\": \"Odkaz lidsk\\u00e9 p\\u00fdchy\", \"cena\": 449, \"rok\": 2024}, {\"stran\": 193, \"245_a\": \"Tov\\u00e1rna na sko\\u0159\\u00e1pky\", \"cena\": 349, \"rok\": 2023}, {\"stran\": 390, \"245_a\": \"Remo\", \"cena\": 449, \"rok\": 2024}, {\"stran\": 378, \"245_a\": \"Kladivo na \\u010darod\\u011bje\", \"cena\": 359, \"rok\": 2024}, {\"stran\": 422, \"245_a\": \"Necrobox\", \"cena\": 348, \"rok\": 2023}, {\"stran\": 422, \"245_a\": \"Vina a trest\", \"cena\": 499, \"rok\": 2023}, {\"stran\": 455, \"245_a\": \"Elektrickej strom\", \"cena\": 390, \"rok\": 2023}, {\"stran\": 333, \"245_a\": \"Soused na zabit\\u00ed\", \"cena\": 329, \"rok\": 2024}, {\"stran\": 317, \"245_a\": \"Padl\\u00fd vl\\u00e1dce nebes\", \"cena\": 399, \"rok\": 2023}, {\"stran\": 376, \"245_a\": \"Lvice v erbu kr\\u00e1le\", \"cena\": 399, \"rok\": 2023}, {\"stran\": 234, \"245_a\": \"Vl\\u010d\\u00ed \\u0161amanka\", \"cena\": 399, \"rok\": 2025}, {\"stran\": 278, \"245_a\": \"Spl\\u00e1chnem to!\", \"cena\": 349, \"rok\": 2024}, {\"stran\": 444, \"245_a\": \"Na hran\\u011b apokalypsy\", \"cena\": 530, \"rok\": 2024}, {\"stran\": 227, \"245_a\": \"L\\u00e9to mezi \\u0159\\u00e1dky\", \"cena\": 349, \"rok\": 2023}, {\"stran\": 279, \"245_a\": \"Str\\u00e1\\u017eci \\u017eivl\\u016f\", \"cena\": 369, \"rok\": 2024}, {\"stran\": 247, \"245_a\": \"Na kameni k\\u00e1men\", \"cena\": 349, \"rok\": 2025}, {\"stran\": 291, \"245_a\": \"Den po dni\", \"cena\": 399, \"rok\": 2024}, {\"stran\": 176, \"245_a\": \"Za hranic\\u00ed nad\\u011bje\", \"cena\": 299, \"rok\": 2023}, {\"stran\": 348, \"245_a\": \"Mlhovina\", \"cena\": 399, \"rok\": 2024}, {\"stran\": 328, \"245_a\": \"Generace\", \"cena\": 399, \"rok\": 2024}, {\"stran\": 155, \"245_a\": \"S malou pomoc\\u00ed p\\u0159\\u00e1tel\", \"cena\": 379, \"rok\": 2023}, {\"stran\": 428, \"245_a\": \"Azurov\\u011b \\u0161ed\\u00e1\", \"cena\": 499, \"rok\": 2024}, {\"stran\": 490, \"245_a\": \"Venkov\", \"cena\": 499, \"rok\": 2023}, {\"stran\": 319, \"245_a\": \"Lh\\u00e1\\u0159 a kr\\u00e1va\", \"cena\": 399, \"rok\": 2024}, {\"stran\": 310, \"245_a\": \"M\\u016fj d\\u016fvod \\u017e\\u00edt\", \"cena\": 369, \"rok\": 2024}, {\"stran\": 281, \"245_a\": \"N.A.T.\", \"cena\": 349, \"rok\": 2024}, {\"stran\": 413, \"245_a\": \"Li\\u0161\\u010d\\u00ed proroctv\\u00ed\", \"cena\": 330, \"rok\": 2023}, {\"stran\": 197, \"245_a\": \"Prorok a Lady Kosice\", \"cena\": 349, \"rok\": 2023}, {\"stran\": 176, \"245_a\": \"Za trest\", \"cena\": 350, \"rok\": 2024}, {\"stran\": 361, \"245_a\": \"K\\u0159\\u00ed\\u017e z kamene\", \"cena\": 299, \"rok\": 2023}, {\"stran\": 286, \"245_a\": \"Ty chladn\\u00e9 o\\u010di\", \"cena\": 399, \"rok\": 2023}, {\"stran\": 187, \"245_a\": \"Lid nom\\u00e1d\\u016f\", \"cena\": 299, \"rok\": 2023}, {\"stran\": 310, \"245_a\": \"Dce\\u0159ina kletba\", \"cena\": 399, \"rok\": 2024}, {\"stran\": 317, \"245_a\": \"M\\u011bsto nad m\\u011bstem\", \"cena\": 379, \"rok\": 2023}, {\"stran\": 388, \"245_a\": \"Plameny na mo\\u0159i\", \"cena\": 499, \"rok\": 2024}, {\"stran\": 407, \"245_a\": \"Velk\\u00e1 bou\\u0159e v \\u010desk\\u00fdch zem\\u00edch\", \"cena\": 538, \"rok\": 2024}, {\"stran\": 300, \"245_a\": \"Teorie zmizen\\u00ed\", \"cena\": 399, \"rok\": 2024}, {\"stran\": 275, \"245_a\": \"Syndik\\u00e1t\", \"cena\": 399, \"rok\": 2024}, {\"stran\": 345, \"245_a\": \"Alfa & Omega\", \"cena\": 399, \"rok\": 2024}, {\"stran\": 267, \"245_a\": \"P\\u0159\\u00edb\\u011bh mate\\u0159\\u00eddou\\u0161ky\", \"cena\": 369, \"rok\": 2024}, {\"stran\": 373, \"245_a\": \"Tetov\\u00e1n\\u00ed za trest\", \"cena\": 449, \"rok\": 2023}, {\"stran\": 313, \"245_a\": \"Vran\\u00ed oko\", \"cena\": 429, \"rok\": 2023}, {\"stran\": 283, \"245_a\": \"Zpov\\u011b\\u010f st\\u00e1rnouc\\u00ed trosky, kter\\u00e1 m\\u00e1 psa\", \"cena\": 349, \"rok\": 2024}, {\"stran\": 143, \"245_a\": \"37\\u00b0C\", \"cena\": 329, \"rok\": 2024}, {\"stran\": 361, \"245_a\": \"\\u00dad\\u011bl Hv\\u011bzdorozen\\u00fdch\", \"cena\": 399, \"rok\": 2023}, {\"stran\": 367, \"245_a\": \"Temnoty hlubin\", \"cena\": 399, \"rok\": 2024}, {\"stran\": 187, \"245_a\": \"Narcis a pivo\\u0148ka\", \"cena\": 299, \"rok\": 2024}, {\"stran\": 590, \"245_a\": \"Hellbound\", \"cena\": 590, \"rok\": 2023}, {\"stran\": 225, \"245_a\": \"Influencer\", \"cena\": 329, \"rok\": 2024}, {\"stran\": 375, \"245_a\": \"Jsme nevyhnuteln\\u00ed\", \"cena\": 399, \"rok\": 2023}, {\"stran\": 276, \"245_a\": \"Pan\\u00ed jara\", \"cena\": 540, \"rok\": 2023}, {\"stran\": 227, \"245_a\": \"The yellow car\", \"cena\": 360, \"rok\": 2024}, {\"stran\": 279, \"245_a\": \"P\\u0159\\u00edb\\u011bh akvamar\\u00ednu\", \"cena\": 369, \"rok\": 2023}, {\"stran\": 252, \"245_a\": \"Sladk\\u00fd \\u017eivot\", \"cena\": 349, \"rok\": 2024}, {\"stran\": 363, \"245_a\": \"Kdo je tu \\u0161\\u00e9f?\", \"cena\": 449, \"rok\": 2024}, {\"stran\": 219, \"245_a\": \"Chyb\\u011bj\\u00edc\\u00ed \\u010d\\u00e1sti\", \"cena\": 349, \"rok\": 2024}, {\"stran\": 149, \"245_a\": \"Neplavec\", \"cena\": 269, \"rok\": 2023}, {\"stran\": 419, \"245_a\": \"V p\\u0159\\u00ed\\u0161t\\u00edm \\u017eivot\\u011b\", \"cena\": 399, \"rok\": 2024}, {\"stran\": 357, \"245_a\": \"Bezejmenn\\u00e1\", \"cena\": 449, \"rok\": 2024}, {\"stran\": 396, \"245_a\": \"Dokud n\\u00e1s krev nerozd\\u011bl\\u00ed\", \"cena\": 449, \"rok\": 2023}, {\"stran\": 309, \"245_a\": \"Arila\", \"cena\": 399, \"rok\": 2023}, {\"stran\": 271, \"245_a\": \"Byl jin\\u00fd ne\\u017e ostatn\\u00ed d\\u011bti\", \"cena\": 399, \"rok\": 2023}, {\"stran\": 396, \"245_a\": \"\\u010cocht baroni\", \"cena\": 360, \"rok\": 2023}, {\"stran\": 349, \"245_a\": \"Smrt mezi horami\", \"cena\": 399, \"rok\": 2024}, {\"stran\": 311, \"245_a\": \"Prvn\\u00ed kr\\u00e1l\", \"cena\": 499, \"rok\": 2023}, {\"stran\": 366, \"245_a\": \"\\u010cesk\\u00e9 sklo\", \"cena\": 329, \"rok\": 2024}, {\"stran\": 311, \"245_a\": \"Chr\\u00e1m Azylu\", \"cena\": 349, \"rok\": 2024}, {\"stran\": 244, \"245_a\": \"Past\\u00fd\\u0159ka sn\\u016f\", \"cena\": 338, \"rok\": 2024}, {\"stran\": 269, \"245_a\": \"Stodolovi: man\\u017eel\\u00e9 smrti\", \"cena\": 399, \"rok\": 2024}, {\"stran\": 431, \"245_a\": \"Znamen\\u00ed padl\\u00fdch\", \"cena\": 469, \"rok\": 2024}, {\"stran\": 502, \"245_a\": \"Likvid\\u00e1tor\", \"cena\": 459, \"rok\": 2023}, {\"stran\": 269, \"245_a\": \"Po stop\\u00e1ch magie\", \"cena\": 379, \"rok\": 2024}, {\"stran\": 403, \"245_a\": \"\\u010e\\u00e1bel se skr\\u00fdv\\u00e1 v l\\u00e1sce\", \"cena\": 499, \"rok\": 2023}, {\"stran\": 277, \"245_a\": \"Big game\", \"cena\": 379, \"rok\": 2025}, {\"stran\": 238, \"245_a\": \"P\\u0159\\u00edpad mrtv\\u00e9ho \\u010darod\\u011bje\", \"cena\": 280, \"rok\": 2025}, {\"stran\": 507, \"245_a\": \"Nepatrn\\u00e1 ztr\\u00e1ta osam\\u011blosti\", \"cena\": 499, \"rok\": 2023}, {\"stran\": 189, \"245_a\": \"N\\u00e1vrat do Bransonu\", \"cena\": 299, \"rok\": 2023}, {\"stran\": 237, \"245_a\": \"Jit\\u0159n\\u00ed z\\u00e1\\u0159e\", \"cena\": 399, \"rok\": 2024}, {\"stran\": 275, \"245_a\": \"Dcera boh\\u016f\", \"cena\": 399, \"rok\": 2024}, {\"stran\": 248, \"245_a\": \"Magick\\u00fd infarkt\", \"cena\": 390, \"rok\": 2024}, {\"stran\": 238, \"245_a\": \"Nejlep\\u0161\\u00ed k\\u00e1mo\\u0161ky zobou zrn\\u00ed\", \"cena\": 379, \"rok\": 2024}, {\"stran\": 263, \"245_a\": \"Dva v \\u0161inkansenu\", \"cena\": 399, \"rok\": 2024}, {\"stran\": 336, \"245_a\": \"Drav\\u00e9 zv\\u011b\\u0159i napospas\", \"cena\": 429, \"rok\": 2024}, {\"stran\": 251, \"245_a\": \"Dej mi pokoj\", \"cena\": 369, \"rok\": 2024}, {\"stran\": 319, \"245_a\": \"V noci chod\\u00edm pou\\u0161t\\u00ed\", \"cena\": 319, \"rok\": 2024}, {\"stran\": 237, \"245_a\": \"Zapomenut\\u00e9 sv\\u011bty\", \"cena\": 379, \"rok\": 2025}, {\"stran\": 355, \"245_a\": \"Krut\\u00fd m\\u011bs\\u00edc\", \"cena\": 399, \"rok\": 2023}, {\"stran\": 316, \"245_a\": \"Trnit\\u00e1 kletba\", \"cena\": 369, \"rok\": 2023}, {\"stran\": 218, \"245_a\": \"Josef\\u00edn\\u011b v\\u0161ichni l\\u017eou\", \"cena\": 349, \"rok\": 2023}, {\"stran\": 275, \"245_a\": \"Divn\\u00e9 \\u00fadol\\u00ed\", \"cena\": 349, \"rok\": 2023}, {\"stran\": 384, \"245_a\": \"Za\\u010darovan\\u00e1 sez\\u00f3na\", \"cena\": 290, \"rok\": 2023}, {\"stran\": 338, \"245_a\": \"Posedl\\u00fd ctitel\", \"cena\": 480, \"rok\": 2024}, {\"stran\": 189, \"245_a\": \"Mad Mad\", \"cena\": 325, \"rok\": 2024}, {\"stran\": 277, \"245_a\": \"Pleta\\u0159ka\", \"cena\": 349, \"rok\": 2024}, {\"stran\": 311, \"245_a\": \"Odkaz lidsk\\u00e9 rasy\", \"cena\": 399, \"rok\": 2023}, {\"stran\": 251, \"245_a\": \"Mimo obraz\", \"cena\": 369, \"rok\": 2024}, {\"stran\": 124, \"245_a\": \"V\\u00fdm\\u011bna\", \"cena\": 299, \"rok\": 2024}, {\"stran\": 342, \"245_a\": \"Mot\\u00fdl, kter\\u00fd zapomn\\u011bl l\\u00e9tat\", \"cena\": 399, \"rok\": 2024}, {\"stran\": 147, \"245_a\": \"Pavilon \\u0161elem\", \"cena\": 299, \"rok\": 2024}, {\"stran\": 426, \"245_a\": \"Ob\\u0159ad ohn\\u011b\", \"cena\": 499, \"rok\": 2024}, {\"stran\": 360, \"245_a\": \"Ala Luna\", \"cena\": 499, \"rok\": 2024}, {\"stran\": 276, \"245_a\": \"Odvaha\", \"cena\": 399, \"rok\": 2024}, {\"stran\": 142, \"245_a\": \"Polistopad\", \"cena\": 269, \"rok\": 2023}, {\"stran\": 283, \"245_a\": \"Ocelov\\u00e1 liga\", \"cena\": 369, \"rok\": 2024}, {\"stran\": 215, \"245_a\": \"Saturnin p\\u0159i chuti\", \"cena\": 399, \"rok\": 2023}, {\"stran\": 332, \"245_a\": \"\\u010carod\\u011bjky\", \"cena\": 469, \"rok\": 2024}, {\"stran\": 263, \"245_a\": \"Taxik\\u00e1\\u0159\", \"cena\": 399, \"rok\": 2023}, {\"stran\": 382, \"245_a\": \"\\u010cern\\u00e1 luna\", \"cena\": 399, \"rok\": 2024}, {\"stran\": 304, \"245_a\": \"Dvakr\\u00e1t do stejn\\u00e9ho rybn\\u00edka\", \"cena\": 349, \"rok\": 2024}, {\"stran\": 414, \"245_a\": \"Ov\\u00e1l\", \"cena\": 399, \"rok\": 2024}, {\"stran\": 372, \"245_a\": \"Jelita & jitrnice\", \"cena\": 479, \"rok\": 2024}, {\"stran\": 309, \"245_a\": \"Slovod\\u011bjky\", \"cena\": 369, \"rok\": 2023}, {\"stran\": 446, \"245_a\": \"\\u0160\\u00edlenstv\\u00ed v n\\u00e1s\", \"cena\": 449, \"rok\": 2024}, {\"stran\": 245, \"245_a\": \"Dev\\u00e1t\\u00fd nezn\\u00e1m\\u00fd\", \"cena\": 369, \"rok\": 2023}, {\"stran\": 318, \"245_a\": \"Noc pro chrli\\u010de\", \"cena\": 369, \"rok\": 2023}, {\"stran\": 182, \"245_a\": \"Transmelancholie, aneb, Jak Franc Ba\\u0161ta k l\\u00e1sce p\\u0159i\\u0161el\", \"cena\": 279, \"rok\": 2023}, {\"stran\": 191, \"245_a\": \"Gwailou\", \"cena\": 349, \"rok\": 2024}, {\"stran\": 434, \"245_a\": \"Posledn\\u00ed velkom\\u011bsto\", \"cena\": 348, \"rok\": 2023}, {\"stran\": 173, \"245_a\": \"N\\u00e1rodn\\u00ed opruzen\\u00ed\", \"cena\": 299, \"rok\": 2023}, {\"stran\": 513, \"245_a\": \"Bellanteriov\\u00e9\", \"cena\": 479, \"rok\": 2024}, {\"stran\": 432, \"245_a\": \"Me\\u010d a jeho ryt\\u00ed\\u0159\", \"cena\": 310, \"rok\": 2023}, {\"stran\": 301, \"245_a\": \"Je to jenom sranda\", \"cena\": 399, \"rok\": 2024}, {\"stran\": 348, \"245_a\": \"N\\u00e1hodou\", \"cena\": 299, \"rok\": 2023}, {\"stran\": 298, \"245_a\": \"C\\u00ednov\\u00fd voj\\u00e1\\u010dek\", \"cena\": 399, \"rok\": 2024}, {\"stran\": 301, \"245_a\": \"Souboj princ\\u016f\", \"cena\": 349, \"rok\": 2023}, {\"stran\": 405, \"245_a\": \"Hr\\u00e1\\u010di\", \"cena\": 399, \"rok\": 2023}, {\"stran\": 489, \"245_a\": \"Les na kolenou\", \"cena\": 469, \"rok\": 2023}]}}, {\"mode\": \"vega-lite\"});\n",
       "</script>"
      ],
      "text/plain": [
       "alt.LayerChart(...)"
      ]
     },
     "execution_count": 313,
     "metadata": {},
     "output_type": "execute_result"
    }
   ],
   "source": [
    "zaklad = alt.Chart(\n",
    "    do_grafu.to_pandas(),\n",
    "    title=alt.Title(\"Rozsahy českých románů a jejich doporučené ceny\",\n",
    "                    subtitle=[f\"Graf zachycuje pouhou čtvrtinu románů vydaných od roku 2023; u zbylých tří čtvrtin\",\n",
    "                    f\"není v datech informace o doporučené maloobchodní ceně.\"]),\n",
    "    width=kredity['sirka'],\n",
    "height=kredity['vyska_nizkych'] * 2\n",
    ").mark_circle(color=\"#81A9D5\", opacity=1).encode(\n",
    "    alt.X('stran:Q', axis=alt.Axis(domainOpacity=0, labelExpr=\"datum.label + ' s.'\", format='d', tickColor=\"white\"), title=None),\n",
    "    alt.Y('cena:Q', axis=alt.Axis(domainOpacity=0, labelExpr=\"datum.label + ' Kč'\", format='d', tickColor=\"white\", orient=\"right\"), title=None)\n",
    ")\n",
    "\n",
    "cara = alt.Chart(\n",
    "    do_grafu.to_pandas()\n",
    ").transform_regression(\n",
    "    'stran', 'cena', method=\"poly\"\n",
    ").mark_line(color='#445B78').encode(\n",
    "    alt.X('stran:Q'),\n",
    "    alt.Y('cena:Q')\n",
    ")\n",
    "\n",
    "vysledek = (zaklad + cara).configure_view(stroke='transparent')\n",
    "\n",
    "vysledek"
   ]
  },
  {
   "cell_type": "code",
   "execution_count": 315,
   "id": "45e974fa-6b88-40c5-8b76-8e3cdb5b4a3f",
   "metadata": {},
   "outputs": [
    {
     "name": "stdout",
     "output_type": "stream",
     "text": [
      "<figure>\n",
      "    <a href=\"https://data.irozhlas.cz/knihy-grafy/03_ceny.svg\" target=\"_blank\">\n",
      "    <img src=\"https://data.irozhlas.cz/knihy-grafy/03_ceny.svg\" width=\"100%\" alt=\"Omlouváme se, ale alternativní text se nepodařilo vygenerovat. Texty v grafu by měly být čitelné ze zdrojového souboru SVG.\" />\n",
      "    </a>\n",
      "    </figure>\n"
     ]
    }
   ],
   "source": [
    "me_to_neurazi(vysledek, soubor=\"03_ceny\", kredity=kredity['default'])"
   ]
  },
  {
   "cell_type": "code",
   "execution_count": 295,
   "id": "8a714774-1f9b-471f-93b7-648bbf410e75",
   "metadata": {},
   "outputs": [
    {
     "data": {
      "text/html": [
       "<div><style>\n",
       ".dataframe > thead > tr,\n",
       ".dataframe > tbody > tr {\n",
       "  text-align: right;\n",
       "  white-space: pre-wrap;\n",
       "}\n",
       "</style>\n",
       "<small>shape: (1, 1)</small><table border=\"1\" class=\"dataframe\"><thead><tr><th>stran</th></tr><tr><td>f64</td></tr></thead><tbody><tr><td>221.0</td></tr></tbody></table></div>"
      ],
      "text/plain": [
       "shape: (1, 1)\n",
       "┌───────┐\n",
       "│ stran │\n",
       "│ ---   │\n",
       "│ f64   │\n",
       "╞═══════╡\n",
       "│ 221.0 │\n",
       "└───────┘"
      ]
     },
     "execution_count": 295,
     "metadata": {},
     "output_type": "execute_result"
    }
   ],
   "source": [
    "nejkratsi_ctvrt = df_rom.filter(pl.col(\"rok\") >= 2023).select(pl.col(\"stran\").quantile(0.25))\n",
    "nejkratsi_ctvrt"
   ]
  },
  {
   "cell_type": "code",
   "execution_count": 297,
   "id": "92dd1ddf-7485-4c08-90b8-987c53f419c2",
   "metadata": {},
   "outputs": [
    {
     "data": {
      "text/html": [
       "<div><style>\n",
       ".dataframe > thead > tr,\n",
       ".dataframe > tbody > tr {\n",
       "  text-align: right;\n",
       "  white-space: pre-wrap;\n",
       "}\n",
       "</style>\n",
       "<small>shape: (1, 1)</small><table border=\"1\" class=\"dataframe\"><thead><tr><th>stran</th></tr><tr><td>f64</td></tr></thead><tbody><tr><td>350.0</td></tr></tbody></table></div>"
      ],
      "text/plain": [
       "shape: (1, 1)\n",
       "┌───────┐\n",
       "│ stran │\n",
       "│ ---   │\n",
       "│ f64   │\n",
       "╞═══════╡\n",
       "│ 350.0 │\n",
       "└───────┘"
      ]
     },
     "execution_count": 297,
     "metadata": {},
     "output_type": "execute_result"
    }
   ],
   "source": [
    "nejdelsi_ctvrt = df_rom.filter(pl.col(\"rok\") >= 2023).select(pl.col(\"stran\").quantile(0.75))\n",
    "nejdelsi_ctvrt"
   ]
  },
  {
   "cell_type": "code",
   "execution_count": 299,
   "id": "7df11e1e-87d3-47f1-9af7-05791828a69a",
   "metadata": {},
   "outputs": [
    {
     "data": {
      "text/html": [
       "<div><style>\n",
       ".dataframe > thead > tr,\n",
       ".dataframe > tbody > tr {\n",
       "  text-align: right;\n",
       "  white-space: pre-wrap;\n",
       "}\n",
       "</style>\n",
       "<small>shape: (1, 1)</small><table border=\"1\" class=\"dataframe\"><thead><tr><th>cena</th></tr><tr><td>f64</td></tr></thead><tbody><tr><td>384.0</td></tr></tbody></table></div>"
      ],
      "text/plain": [
       "shape: (1, 1)\n",
       "┌───────┐\n",
       "│ cena  │\n",
       "│ ---   │\n",
       "│ f64   │\n",
       "╞═══════╡\n",
       "│ 384.0 │\n",
       "└───────┘"
      ]
     },
     "execution_count": 299,
     "metadata": {},
     "output_type": "execute_result"
    }
   ],
   "source": [
    "do_grafu.filter(pl.col('stran').is_between(nejkratsi_ctvrt,nejdelsi_ctvrt)).filter(pl.col(\"rok\").is_between(2024,2025)).select(pl.col('cena')).median()"
   ]
  },
  {
   "cell_type": "code",
   "execution_count": 307,
   "id": "60be3aea-8606-48d9-8521-0374f92d4b27",
   "metadata": {},
   "outputs": [
    {
     "data": {
      "text/html": [
       "<div><style>\n",
       ".dataframe > thead > tr,\n",
       ".dataframe > tbody > tr {\n",
       "  text-align: right;\n",
       "  white-space: pre-wrap;\n",
       "}\n",
       "</style>\n",
       "<small>shape: (10, 2)</small><table border=\"1\" class=\"dataframe\"><thead><tr><th>rok</th><th>cena</th></tr><tr><td>i64</td><td>f64</td></tr></thead><tbody><tr><td>2016</td><td>278.608696</td></tr><tr><td>2017</td><td>294.0</td></tr><tr><td>2018</td><td>275.088889</td></tr><tr><td>2019</td><td>311.596154</td></tr><tr><td>2020</td><td>337.333333</td></tr><tr><td>2021</td><td>310.872093</td></tr><tr><td>2022</td><td>377.805195</td></tr><tr><td>2023</td><td>386.630435</td></tr><tr><td>2024</td><td>384.581081</td></tr><tr><td>2025</td><td>357.714286</td></tr></tbody></table></div>"
      ],
      "text/plain": [
       "shape: (10, 2)\n",
       "┌──────┬────────────┐\n",
       "│ rok  ┆ cena       │\n",
       "│ ---  ┆ ---        │\n",
       "│ i64  ┆ f64        │\n",
       "╞══════╪════════════╡\n",
       "│ 2016 ┆ 278.608696 │\n",
       "│ 2017 ┆ 294.0      │\n",
       "│ 2018 ┆ 275.088889 │\n",
       "│ 2019 ┆ 311.596154 │\n",
       "│ 2020 ┆ 337.333333 │\n",
       "│ 2021 ┆ 310.872093 │\n",
       "│ 2022 ┆ 377.805195 │\n",
       "│ 2023 ┆ 386.630435 │\n",
       "│ 2024 ┆ 384.581081 │\n",
       "│ 2025 ┆ 357.714286 │\n",
       "└──────┴────────────┘"
      ]
     },
     "execution_count": 307,
     "metadata": {},
     "output_type": "execute_result"
    }
   ],
   "source": [
    "df_rom.filter(pl.col('stran').is_between(nejkratsi_ctvrt,nejdelsi_ctvrt)).group_by('rok').agg(pl.col('cena').mean()).sort(by='rok').tail(10)"
   ]
  }
 ],
 "metadata": {
  "kernelspec": {
   "display_name": "Python 3 (ipykernel)",
   "language": "python",
   "name": "python3"
  },
  "language_info": {
   "codemirror_mode": {
    "name": "ipython",
    "version": 3
   },
   "file_extension": ".py",
   "mimetype": "text/x-python",
   "name": "python",
   "nbconvert_exporter": "python",
   "pygments_lexer": "ipython3",
   "version": "3.12.3"
  }
 },
 "nbformat": 4,
 "nbformat_minor": 5
}
