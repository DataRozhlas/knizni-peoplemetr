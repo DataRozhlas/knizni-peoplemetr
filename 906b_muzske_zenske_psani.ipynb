{
 "cells": [
  {
   "cell_type": "code",
   "execution_count": 379,
   "id": "312b0438-f5a7-4539-8669-f30b1f40f07e",
   "metadata": {},
   "outputs": [],
   "source": [
    "import os\n",
    "import re\n",
    "import json\n",
    "import datetime\n",
    "import warnings\n",
    "import polars as pl\n",
    "import pandas as pd\n",
    "import altair as alt\n",
    "\n",
    "from src.najdi_rok import najdi_rok\n",
    "from src.pocet_stran import pocet_stran\n",
    "from src.bez_bordelu import bez_bordelu\n",
    "from src.alt_friendly import alt_friendly\n",
    "from src.hezke_jmeno import hezke_jmeno\n",
    "from src.kristi_promin import kristi_promin\n",
    "from src.zjisti_vazbu import zjisti_vazbu\n",
    "from src.me_to_neurazi import me_to_neurazi\n",
    "\n",
    "pl.Config(tbl_rows=100)\n",
    "alt.data_transformers.disable_max_rows()\n",
    "alt.themes.register('irozhlas', kristi_promin)\n",
    "alt.themes.enable('irozhlas')\n",
    "warnings.filterwarnings('ignore')\n",
    "\n",
    "with open(os.path.join('src','kredity.json'), 'r', encoding='utf-8') as kredity:\n",
    "    kredity = json.loads(kredity.read())"
   ]
  },
  {
   "cell_type": "markdown",
   "id": "9537ace0-4883-4506-a48d-e270197caf2f",
   "metadata": {},
   "source": [
    "## Příprava dat"
   ]
  },
  {
   "cell_type": "code",
   "execution_count": 4,
   "id": "3b3eb6e2-f7d2-42b8-bbe0-ba309c5bb027",
   "metadata": {},
   "outputs": [],
   "source": [
    "pd.set_option('display.max_columns', 100)\n",
    "pd.set_option('display.max_rows', 100)"
   ]
  },
  {
   "cell_type": "code",
   "execution_count": 5,
   "id": "a17c8ea4-f9d4-4a24-ba0a-ff680a93dc24",
   "metadata": {
    "scrolled": true
   },
   "outputs": [
    {
     "data": {
      "text/plain": [
       "47994"
      ]
     },
     "execution_count": 5,
     "metadata": {},
     "output_type": "execute_result"
    }
   ],
   "source": [
    "df = pd.read_parquet(os.path.join(\"data\",\"cnb_ceska_proza.parquet\"))\n",
    "len(df)"
   ]
  },
  {
   "cell_type": "code",
   "execution_count": 6,
   "id": "24cd3498-13ae-4f9c-be57-8e9262a98b98",
   "metadata": {},
   "outputs": [],
   "source": [
    "df = df.merge(pd.read_parquet(os.path.join(\"data\",\"cnb_vyber.parquet\")), left_index=True, right_index=True, how='inner')"
   ]
  },
  {
   "cell_type": "code",
   "execution_count": 7,
   "id": "b80101b6-912f-4d0a-97e2-e2ebb6897a9f",
   "metadata": {},
   "outputs": [
    {
     "data": {
      "text/plain": [
       "44343"
      ]
     },
     "execution_count": 7,
     "metadata": {},
     "output_type": "execute_result"
    }
   ],
   "source": [
    "len(df)"
   ]
  },
  {
   "cell_type": "code",
   "execution_count": 8,
   "id": "ac1e38ca-8bc0-4c05-8a64-4badd85874ce",
   "metadata": {},
   "outputs": [],
   "source": [
    "df = df[df['rok'] >= 2019]"
   ]
  },
  {
   "cell_type": "code",
   "execution_count": 9,
   "id": "6ebc034c-337d-456d-99a9-492dd17270eb",
   "metadata": {},
   "outputs": [
    {
     "data": {
      "text/plain": [
       "2019"
      ]
     },
     "execution_count": 9,
     "metadata": {},
     "output_type": "execute_result"
    }
   ],
   "source": [
    "graf_rok_min = int(df['rok'].min())\n",
    "graf_rok_min"
   ]
  },
  {
   "cell_type": "code",
   "execution_count": 10,
   "id": "87e7a891-f29b-4f10-9ced-81ac501f1029",
   "metadata": {},
   "outputs": [
    {
     "data": {
      "text/plain": [
       "2025"
      ]
     },
     "execution_count": 10,
     "metadata": {},
     "output_type": "execute_result"
    }
   ],
   "source": [
    "graf_rok_max = int(df['rok'].max())\n",
    "graf_rok_max"
   ]
  },
  {
   "cell_type": "code",
   "execution_count": 11,
   "id": "d93275fc-be79-4ff1-b464-63386fa7fe6c",
   "metadata": {},
   "outputs": [
    {
     "data": {
      "text/plain": [
       "8400"
      ]
     },
     "execution_count": 11,
     "metadata": {},
     "output_type": "execute_result"
    }
   ],
   "source": [
    "len(df)"
   ]
  },
  {
   "cell_type": "code",
   "execution_count": 12,
   "id": "eb984e3c-2640-417c-8738-02c80940edfd",
   "metadata": {},
   "outputs": [],
   "source": [
    "df = df.explode('020_a')"
   ]
  },
  {
   "cell_type": "code",
   "execution_count": 13,
   "id": "0e9a02f4-b9e1-429b-acd6-d665dfc49bf1",
   "metadata": {},
   "outputs": [],
   "source": [
    "def isbn(x):\n",
    "    try:\n",
    "        if len(x.replace('-','')) == 13:\n",
    "            return str(x.replace('-',''))\n",
    "    except:\n",
    "        pass"
   ]
  },
  {
   "cell_type": "code",
   "execution_count": 14,
   "id": "c287cdaf-9181-40fc-8896-c254e461b01d",
   "metadata": {},
   "outputs": [],
   "source": [
    "df['isbn'] = df['020_a'].apply(lambda x: isbn(x))"
   ]
  },
  {
   "cell_type": "code",
   "execution_count": 15,
   "id": "a3106d61-67fd-4fac-9801-df84e295da62",
   "metadata": {},
   "outputs": [
    {
     "data": {
      "text/html": [
       "<div>\n",
       "<style scoped>\n",
       "    .dataframe tbody tr th:only-of-type {\n",
       "        vertical-align: middle;\n",
       "    }\n",
       "\n",
       "    .dataframe tbody tr th {\n",
       "        vertical-align: top;\n",
       "    }\n",
       "\n",
       "    .dataframe thead th {\n",
       "        text-align: right;\n",
       "    }\n",
       "</style>\n",
       "<table border=\"1\" class=\"dataframe\">\n",
       "  <thead>\n",
       "    <tr style=\"text-align: right;\">\n",
       "      <th></th>\n",
       "      <th>020_a</th>\n",
       "      <th>isbn</th>\n",
       "    </tr>\n",
       "    <tr>\n",
       "      <th>001</th>\n",
       "      <th></th>\n",
       "      <th></th>\n",
       "    </tr>\n",
       "  </thead>\n",
       "  <tbody>\n",
       "    <tr>\n",
       "      <th>nkc20223415100</th>\n",
       "      <td>978-80-279-0473-0</td>\n",
       "      <td>9788027904730</td>\n",
       "    </tr>\n",
       "    <tr>\n",
       "      <th>nkc20213313412</th>\n",
       "      <td>978-80-270-9933-7</td>\n",
       "      <td>9788027099337</td>\n",
       "    </tr>\n",
       "    <tr>\n",
       "      <th>nkc20243662856</th>\n",
       "      <td>978-80-7295-343-1</td>\n",
       "      <td>9788072953431</td>\n",
       "    </tr>\n",
       "    <tr>\n",
       "      <th>nkc20203174187</th>\n",
       "      <td>978-80-88039-06-8</td>\n",
       "      <td>9788088039068</td>\n",
       "    </tr>\n",
       "    <tr>\n",
       "      <th>nkc20193094816</th>\n",
       "      <td>978-80-88236-04-7</td>\n",
       "      <td>9788088236047</td>\n",
       "    </tr>\n",
       "    <tr>\n",
       "      <th>nkc20233533127</th>\n",
       "      <td>978-80-88501-14-5</td>\n",
       "      <td>9788088501145</td>\n",
       "    </tr>\n",
       "    <tr>\n",
       "      <th>nkc20243627573</th>\n",
       "      <td>978-80-279-1570-5</td>\n",
       "      <td>9788027915705</td>\n",
       "    </tr>\n",
       "    <tr>\n",
       "      <th>nkc20223447329</th>\n",
       "      <td>978-80-86751-63-4</td>\n",
       "      <td>9788086751634</td>\n",
       "    </tr>\n",
       "    <tr>\n",
       "      <th>nkc20213368821</th>\n",
       "      <td>978-80-907285-7-8</td>\n",
       "      <td>9788090728578</td>\n",
       "    </tr>\n",
       "    <tr>\n",
       "      <th>nkc20233495237</th>\n",
       "      <td>978-80-7490-279-6</td>\n",
       "      <td>9788074902796</td>\n",
       "    </tr>\n",
       "    <tr>\n",
       "      <th>nkc20233499770</th>\n",
       "      <td>978-80-267-2423-0</td>\n",
       "      <td>9788026724230</td>\n",
       "    </tr>\n",
       "    <tr>\n",
       "      <th>nkc20213366538</th>\n",
       "      <td>978-80-88437-02-4</td>\n",
       "      <td>9788088437024</td>\n",
       "    </tr>\n",
       "    <tr>\n",
       "      <th>nkc20243653031</th>\n",
       "      <td>978-80-7679-671-3</td>\n",
       "      <td>9788076796713</td>\n",
       "    </tr>\n",
       "    <tr>\n",
       "      <th>nkc20233523156</th>\n",
       "      <td>978-80-275-1587-5</td>\n",
       "      <td>9788027515875</td>\n",
       "    </tr>\n",
       "    <tr>\n",
       "      <th>nkc20203258582</th>\n",
       "      <td>978-80-907923-2-6</td>\n",
       "      <td>9788090792326</td>\n",
       "    </tr>\n",
       "    <tr>\n",
       "      <th>nkc20213345596</th>\n",
       "      <td>978-80-281-0090-2</td>\n",
       "      <td>9788028100902</td>\n",
       "    </tr>\n",
       "    <tr>\n",
       "      <th>nkc20233500734</th>\n",
       "      <td>978-80-88378-19-8</td>\n",
       "      <td>9788088378198</td>\n",
       "    </tr>\n",
       "    <tr>\n",
       "      <th>nkc20243626597</th>\n",
       "      <td>978-80-284-0107-8</td>\n",
       "      <td>9788028401078</td>\n",
       "    </tr>\n",
       "    <tr>\n",
       "      <th>nkc20223394188</th>\n",
       "      <td>978-80-87523-32-2</td>\n",
       "      <td>9788087523322</td>\n",
       "    </tr>\n",
       "    <tr>\n",
       "      <th>nkc20193148879</th>\n",
       "      <td>978-80-243-8900-4</td>\n",
       "      <td>9788024389004</td>\n",
       "    </tr>\n",
       "  </tbody>\n",
       "</table>\n",
       "</div>"
      ],
      "text/plain": [
       "                            020_a           isbn\n",
       "001                                             \n",
       "nkc20223415100  978-80-279-0473-0  9788027904730\n",
       "nkc20213313412  978-80-270-9933-7  9788027099337\n",
       "nkc20243662856  978-80-7295-343-1  9788072953431\n",
       "nkc20203174187  978-80-88039-06-8  9788088039068\n",
       "nkc20193094816  978-80-88236-04-7  9788088236047\n",
       "nkc20233533127  978-80-88501-14-5  9788088501145\n",
       "nkc20243627573  978-80-279-1570-5  9788027915705\n",
       "nkc20223447329  978-80-86751-63-4  9788086751634\n",
       "nkc20213368821  978-80-907285-7-8  9788090728578\n",
       "nkc20233495237  978-80-7490-279-6  9788074902796\n",
       "nkc20233499770  978-80-267-2423-0  9788026724230\n",
       "nkc20213366538  978-80-88437-02-4  9788088437024\n",
       "nkc20243653031  978-80-7679-671-3  9788076796713\n",
       "nkc20233523156  978-80-275-1587-5  9788027515875\n",
       "nkc20203258582  978-80-907923-2-6  9788090792326\n",
       "nkc20213345596  978-80-281-0090-2  9788028100902\n",
       "nkc20233500734  978-80-88378-19-8  9788088378198\n",
       "nkc20243626597  978-80-284-0107-8  9788028401078\n",
       "nkc20223394188  978-80-87523-32-2  9788087523322\n",
       "nkc20193148879  978-80-243-8900-4  9788024389004"
      ]
     },
     "execution_count": 15,
     "metadata": {},
     "output_type": "execute_result"
    }
   ],
   "source": [
    "df[['020_a','isbn']].sample(20)"
   ]
  },
  {
   "cell_type": "code",
   "execution_count": 16,
   "id": "5c565a4f-e7cb-4575-afa5-ed4387ba2cf2",
   "metadata": {},
   "outputs": [],
   "source": [
    "odkud = \"data_raw/ebooky\""
   ]
  },
  {
   "cell_type": "code",
   "execution_count": 17,
   "id": "c14e40fe-820c-49df-8f20-9d0805cef90c",
   "metadata": {},
   "outputs": [
    {
     "data": {
      "text/plain": [
       "2938"
      ]
     },
     "execution_count": 17,
     "metadata": {},
     "output_type": "execute_result"
    }
   ],
   "source": [
    "stazene = set([x.split(\".\")[0] for x in os.listdir(odkud)])\n",
    "len(stazene)"
   ]
  },
  {
   "cell_type": "code",
   "execution_count": 18,
   "id": "c6d1a223-8229-4c24-b2f9-ad00bac44525",
   "metadata": {},
   "outputs": [],
   "source": [
    "df = df[df['isbn'].isin(stazene)]"
   ]
  },
  {
   "cell_type": "code",
   "execution_count": 19,
   "id": "15cbe187-c83b-4597-9393-4c239f03c21a",
   "metadata": {},
   "outputs": [
    {
     "data": {
      "text/html": [
       "<div>\n",
       "<style scoped>\n",
       "    .dataframe tbody tr th:only-of-type {\n",
       "        vertical-align: middle;\n",
       "    }\n",
       "\n",
       "    .dataframe tbody tr th {\n",
       "        vertical-align: top;\n",
       "    }\n",
       "\n",
       "    .dataframe thead th {\n",
       "        text-align: right;\n",
       "    }\n",
       "</style>\n",
       "<table border=\"1\" class=\"dataframe\">\n",
       "  <thead>\n",
       "    <tr style=\"text-align: right;\">\n",
       "      <th></th>\n",
       "      <th>rok</th>\n",
       "      <th>titul</th>\n",
       "      <th>autorstvo</th>\n",
       "      <th>autorstvo_kod</th>\n",
       "      <th>008</th>\n",
       "      <th>020_a</th>\n",
       "      <th>020_c</th>\n",
       "      <th>020_q</th>\n",
       "      <th>041_a</th>\n",
       "      <th>041_h</th>\n",
       "      <th>041_ind1</th>\n",
       "      <th>044_a</th>\n",
       "      <th>072_a</th>\n",
       "      <th>072_x</th>\n",
       "      <th>080_a</th>\n",
       "      <th>100_4</th>\n",
       "      <th>100_7</th>\n",
       "      <th>100_a</th>\n",
       "      <th>100_d</th>\n",
       "      <th>240_l</th>\n",
       "      <th>245_a</th>\n",
       "      <th>245_c</th>\n",
       "      <th>245_n</th>\n",
       "      <th>245_p</th>\n",
       "      <th>246_a</th>\n",
       "      <th>250_a</th>\n",
       "      <th>250_b</th>\n",
       "      <th>260_a</th>\n",
       "      <th>260_b</th>\n",
       "      <th>260_c</th>\n",
       "      <th>260_e</th>\n",
       "      <th>260_f</th>\n",
       "      <th>260_ind1</th>\n",
       "      <th>264_a</th>\n",
       "      <th>264_b</th>\n",
       "      <th>264_c</th>\n",
       "      <th>264_ind2</th>\n",
       "      <th>300_a</th>\n",
       "      <th>300_b</th>\n",
       "      <th>300_c</th>\n",
       "      <th>490_a</th>\n",
       "      <th>490_v</th>\n",
       "      <th>500_a</th>\n",
       "      <th>521_a</th>\n",
       "      <th>546_a</th>\n",
       "      <th>648_a</th>\n",
       "      <th>650_a</th>\n",
       "      <th>650_x</th>\n",
       "      <th>650_y</th>\n",
       "      <th>650_z</th>\n",
       "      <th>651_a</th>\n",
       "      <th>653_a</th>\n",
       "      <th>655_a</th>\n",
       "      <th>700_4</th>\n",
       "      <th>700_7</th>\n",
       "      <th>700_a</th>\n",
       "      <th>700_d</th>\n",
       "      <th>710_4</th>\n",
       "      <th>710_7</th>\n",
       "      <th>710_a</th>\n",
       "      <th>710_b</th>\n",
       "      <th>830_a</th>\n",
       "      <th>928_a</th>\n",
       "      <th>964_a</th>\n",
       "      <th>leader</th>\n",
       "      <th>isbn</th>\n",
       "    </tr>\n",
       "    <tr>\n",
       "      <th>001</th>\n",
       "      <th></th>\n",
       "      <th></th>\n",
       "      <th></th>\n",
       "      <th></th>\n",
       "      <th></th>\n",
       "      <th></th>\n",
       "      <th></th>\n",
       "      <th></th>\n",
       "      <th></th>\n",
       "      <th></th>\n",
       "      <th></th>\n",
       "      <th></th>\n",
       "      <th></th>\n",
       "      <th></th>\n",
       "      <th></th>\n",
       "      <th></th>\n",
       "      <th></th>\n",
       "      <th></th>\n",
       "      <th></th>\n",
       "      <th></th>\n",
       "      <th></th>\n",
       "      <th></th>\n",
       "      <th></th>\n",
       "      <th></th>\n",
       "      <th></th>\n",
       "      <th></th>\n",
       "      <th></th>\n",
       "      <th></th>\n",
       "      <th></th>\n",
       "      <th></th>\n",
       "      <th></th>\n",
       "      <th></th>\n",
       "      <th></th>\n",
       "      <th></th>\n",
       "      <th></th>\n",
       "      <th></th>\n",
       "      <th></th>\n",
       "      <th></th>\n",
       "      <th></th>\n",
       "      <th></th>\n",
       "      <th></th>\n",
       "      <th></th>\n",
       "      <th></th>\n",
       "      <th></th>\n",
       "      <th></th>\n",
       "      <th></th>\n",
       "      <th></th>\n",
       "      <th></th>\n",
       "      <th></th>\n",
       "      <th></th>\n",
       "      <th></th>\n",
       "      <th></th>\n",
       "      <th></th>\n",
       "      <th></th>\n",
       "      <th></th>\n",
       "      <th></th>\n",
       "      <th></th>\n",
       "      <th></th>\n",
       "      <th></th>\n",
       "      <th></th>\n",
       "      <th></th>\n",
       "      <th></th>\n",
       "      <th></th>\n",
       "      <th></th>\n",
       "      <th></th>\n",
       "      <th></th>\n",
       "    </tr>\n",
       "  </thead>\n",
       "  <tbody>\n",
       "    <tr>\n",
       "      <th>nkc20193161777</th>\n",
       "      <td>2019.0</td>\n",
       "      <td>Dobře zašitej frajer</td>\n",
       "      <td>Šabach Petr</td>\n",
       "      <td>jn19990201046</td>\n",
       "      <td>191211s2019    xr     g      000 j cze</td>\n",
       "      <td>978-80-7637-070-8</td>\n",
       "      <td>[Kč 399,00]</td>\n",
       "      <td>[(vázáno) :]</td>\n",
       "      <td>None</td>\n",
       "      <td>None</td>\n",
       "      <td>None</td>\n",
       "      <td>None</td>\n",
       "      <td>[821.162.3-3]</td>\n",
       "      <td>[Česká próza]</td>\n",
       "      <td>[821.162.3-32, (0:82-32), (082.21)]</td>\n",
       "      <td>[aut]</td>\n",
       "      <td>jn19990201046</td>\n",
       "      <td>Šabach, Petr,</td>\n",
       "      <td>1951-2017</td>\n",
       "      <td>None</td>\n",
       "      <td>Dobře zašitej frajer /</td>\n",
       "      <td>to nejlepší z Petra Šabacha uspořádali Emil Ha...</td>\n",
       "      <td>None</td>\n",
       "      <td>None</td>\n",
       "      <td>None</td>\n",
       "      <td>[Vydání první]</td>\n",
       "      <td>None</td>\n",
       "      <td>None</td>\n",
       "      <td>None</td>\n",
       "      <td>None</td>\n",
       "      <td>None</td>\n",
       "      <td>None</td>\n",
       "      <td>None</td>\n",
       "      <td>[V Praze :]</td>\n",
       "      <td>[Paseka,]</td>\n",
       "      <td>[2019]</td>\n",
       "      <td>[1]</td>\n",
       "      <td>[333 stran ;]</td>\n",
       "      <td>None</td>\n",
       "      <td>[23 cm]</td>\n",
       "      <td>None</td>\n",
       "      <td>None</td>\n",
       "      <td>[Údaj o vydání je chybný, správně má být: Vydá...</td>\n",
       "      <td>None</td>\n",
       "      <td>None</td>\n",
       "      <td>None</td>\n",
       "      <td>None</td>\n",
       "      <td>None</td>\n",
       "      <td>None</td>\n",
       "      <td>None</td>\n",
       "      <td>None</td>\n",
       "      <td>None</td>\n",
       "      <td>[české povídky, české novely, výbory, Czech sh...</td>\n",
       "      <td>[edt, edt]</td>\n",
       "      <td>[jn20000400849, jn19990209335]</td>\n",
       "      <td>[Hakl, Emil,, Kahuda, Václav,]</td>\n",
       "      <td>[1958-, 1965-2023]</td>\n",
       "      <td>None</td>\n",
       "      <td>None</td>\n",
       "      <td>None</td>\n",
       "      <td>None</td>\n",
       "      <td>None</td>\n",
       "      <td>None</td>\n",
       "      <td>None</td>\n",
       "      <td>nam a22      i 4500</td>\n",
       "      <td>9788076370708</td>\n",
       "    </tr>\n",
       "    <tr>\n",
       "      <th>nkc20193158828</th>\n",
       "      <td>2019.0</td>\n",
       "      <td>Mstitel z Jenštejna</td>\n",
       "      <td>Vondruška Vlastimil</td>\n",
       "      <td>xx0004129</td>\n",
       "      <td>191111s2019    xr     g      000 f cze</td>\n",
       "      <td>978-80-243-8905-9</td>\n",
       "      <td>None</td>\n",
       "      <td>[(vázáno)]</td>\n",
       "      <td>None</td>\n",
       "      <td>None</td>\n",
       "      <td>None</td>\n",
       "      <td>None</td>\n",
       "      <td>[821.162.3-3]</td>\n",
       "      <td>[Česká próza]</td>\n",
       "      <td>[821.162.3-31, (0:82-311.6), (0:82-312.4)]</td>\n",
       "      <td>[aut]</td>\n",
       "      <td>xx0004129</td>\n",
       "      <td>Vondruška, Vlastimil,</td>\n",
       "      <td>1955-</td>\n",
       "      <td>None</td>\n",
       "      <td>Mstitel z Jenštejna /</td>\n",
       "      <td>Vlastimil Vondruška</td>\n",
       "      <td>None</td>\n",
       "      <td>None</td>\n",
       "      <td>None</td>\n",
       "      <td>[Vydání první]</td>\n",
       "      <td>None</td>\n",
       "      <td>None</td>\n",
       "      <td>None</td>\n",
       "      <td>None</td>\n",
       "      <td>None</td>\n",
       "      <td>None</td>\n",
       "      <td>None</td>\n",
       "      <td>[Brno :]</td>\n",
       "      <td>[MOBA,]</td>\n",
       "      <td>[2019]</td>\n",
       "      <td>[1]</td>\n",
       "      <td>[219 stran ;]</td>\n",
       "      <td>None</td>\n",
       "      <td>[21 cm]</td>\n",
       "      <td>[Letopisy královské komory ;]</td>\n",
       "      <td>[XIII]</td>\n",
       "      <td>None</td>\n",
       "      <td>None</td>\n",
       "      <td>None</td>\n",
       "      <td>None</td>\n",
       "      <td>None</td>\n",
       "      <td>None</td>\n",
       "      <td>None</td>\n",
       "      <td>None</td>\n",
       "      <td>None</td>\n",
       "      <td>None</td>\n",
       "      <td>[české romány, historické romány, detektivní r...</td>\n",
       "      <td>None</td>\n",
       "      <td>None</td>\n",
       "      <td>None</td>\n",
       "      <td>None</td>\n",
       "      <td>None</td>\n",
       "      <td>None</td>\n",
       "      <td>None</td>\n",
       "      <td>None</td>\n",
       "      <td>[Letopisy královské komory (MOBA)]</td>\n",
       "      <td>None</td>\n",
       "      <td>None</td>\n",
       "      <td>nam a22      i 4500</td>\n",
       "      <td>9788024389059</td>\n",
       "    </tr>\n",
       "    <tr>\n",
       "      <th>nkc20243642899</th>\n",
       "      <td>2019.0</td>\n",
       "      <td>Tvůrce osudu</td>\n",
       "      <td>Shy Alice</td>\n",
       "      <td>xx0239405</td>\n",
       "      <td>241113m20199999xr     g      000 f cze</td>\n",
       "      <td>978-80-7691-569-5</td>\n",
       "      <td>[None, Kč 499,00]</td>\n",
       "      <td>[(1 ;, brožováno), (2 ;, brožováno) :]</td>\n",
       "      <td>None</td>\n",
       "      <td>None</td>\n",
       "      <td>None</td>\n",
       "      <td>None</td>\n",
       "      <td>[821.162.3-3]</td>\n",
       "      <td>[Česká próza]</td>\n",
       "      <td>[821.162.3-31, (0:82-312.9)]</td>\n",
       "      <td>[aut]</td>\n",
       "      <td>xx0239405</td>\n",
       "      <td>Shy, Alice,</td>\n",
       "      <td>1990-</td>\n",
       "      <td>None</td>\n",
       "      <td>Tvůrce osudu /</td>\n",
       "      <td>Alice Shy</td>\n",
       "      <td>None</td>\n",
       "      <td>None</td>\n",
       "      <td>None</td>\n",
       "      <td>[1. vydání]</td>\n",
       "      <td>None</td>\n",
       "      <td>None</td>\n",
       "      <td>None</td>\n",
       "      <td>None</td>\n",
       "      <td>None</td>\n",
       "      <td>None</td>\n",
       "      <td>None</td>\n",
       "      <td>[Praha :, V Praze :]</td>\n",
       "      <td>[Ritareklama s.r.o.,, Pointa]</td>\n",
       "      <td>[2019-, None]</td>\n",
       "      <td>[1, 1]</td>\n",
       "      <td>[^^^svazků ;]</td>\n",
       "      <td>None</td>\n",
       "      <td>[20 cm]</td>\n",
       "      <td>[Knihy Fenix]</td>\n",
       "      <td>None</td>\n",
       "      <td>[Od 2. svazku mimo edici]</td>\n",
       "      <td>None</td>\n",
       "      <td>None</td>\n",
       "      <td>None</td>\n",
       "      <td>None</td>\n",
       "      <td>None</td>\n",
       "      <td>None</td>\n",
       "      <td>None</td>\n",
       "      <td>None</td>\n",
       "      <td>None</td>\n",
       "      <td>[české romány, fantasy romány, Czech fiction, ...</td>\n",
       "      <td>None</td>\n",
       "      <td>None</td>\n",
       "      <td>None</td>\n",
       "      <td>None</td>\n",
       "      <td>None</td>\n",
       "      <td>None</td>\n",
       "      <td>None</td>\n",
       "      <td>None</td>\n",
       "      <td>[Knihy Fenix]</td>\n",
       "      <td>[Albatros Media - Pointa]</td>\n",
       "      <td>None</td>\n",
       "      <td>nam a22      ia4500</td>\n",
       "      <td>9788076915695</td>\n",
       "    </tr>\n",
       "    <tr>\n",
       "      <th>nkc20193158538</th>\n",
       "      <td>2019.0</td>\n",
       "      <td>Bezejmenní</td>\n",
       "      <td>Krčmář Milan</td>\n",
       "      <td>jo2012727454</td>\n",
       "      <td>191111s2019    xr h   g      000 f cze</td>\n",
       "      <td>978-80-264-2789-6</td>\n",
       "      <td>[Kč 449,00]</td>\n",
       "      <td>[(CPress ;, vázáno) :]</td>\n",
       "      <td>None</td>\n",
       "      <td>None</td>\n",
       "      <td>None</td>\n",
       "      <td>None</td>\n",
       "      <td>[821.162.3-3]</td>\n",
       "      <td>[Česká próza]</td>\n",
       "      <td>[821.162.3-31, (=411.16), 314.151.3-054.73, 34...</td>\n",
       "      <td>[aut]</td>\n",
       "      <td>jo2012727454</td>\n",
       "      <td>Krčmář, Milan</td>\n",
       "      <td>None</td>\n",
       "      <td>None</td>\n",
       "      <td>Bezejmenní :</td>\n",
       "      <td>Milan Krčmář</td>\n",
       "      <td>None</td>\n",
       "      <td>None</td>\n",
       "      <td>None</td>\n",
       "      <td>[1. vydání]</td>\n",
       "      <td>None</td>\n",
       "      <td>None</td>\n",
       "      <td>None</td>\n",
       "      <td>None</td>\n",
       "      <td>None</td>\n",
       "      <td>None</td>\n",
       "      <td>None</td>\n",
       "      <td>[V Brně :]</td>\n",
       "      <td>[CPress,]</td>\n",
       "      <td>[2019]</td>\n",
       "      <td>[1]</td>\n",
       "      <td>[479 stran :]</td>\n",
       "      <td>[faksimile ;]</td>\n",
       "      <td>[24 cm]</td>\n",
       "      <td>None</td>\n",
       "      <td>None</td>\n",
       "      <td>[V tiráži uvedeno nakladatelství: Edika, Termi...</td>\n",
       "      <td>None</td>\n",
       "      <td>None</td>\n",
       "      <td>[1921-1930, 20. století, 1925]</td>\n",
       "      <td>[Židé, uprchlíci, vraždy, soudní procesy, Jews...</td>\n",
       "      <td>None</td>\n",
       "      <td>[20. století, 20. století, 20. století, 1921-1...</td>\n",
       "      <td>[Polsko, Polsko, Česko, Česko, Poland, Poland,...</td>\n",
       "      <td>[Třebíč (Česko), Třebíč (Czechia)]</td>\n",
       "      <td>None</td>\n",
       "      <td>[české romány, dokumentární romány, fiktivní d...</td>\n",
       "      <td>None</td>\n",
       "      <td>None</td>\n",
       "      <td>None</td>\n",
       "      <td>None</td>\n",
       "      <td>None</td>\n",
       "      <td>None</td>\n",
       "      <td>None</td>\n",
       "      <td>None</td>\n",
       "      <td>None</td>\n",
       "      <td>[Albatros Media - CPress, Albatros Media - Edika]</td>\n",
       "      <td>None</td>\n",
       "      <td>nam a22      i 4500</td>\n",
       "      <td>9788026427896</td>\n",
       "    </tr>\n",
       "    <tr>\n",
       "      <th>nkc20193162052</th>\n",
       "      <td>2019.0</td>\n",
       "      <td>Čarodějnice</td>\n",
       "      <td>Vostrý Mirek</td>\n",
       "      <td>mzk2018995176</td>\n",
       "      <td>200120s2019    xr     g      000 j cze</td>\n",
       "      <td>978-80-88318-05-7</td>\n",
       "      <td>None</td>\n",
       "      <td>[(brožováno)]</td>\n",
       "      <td>None</td>\n",
       "      <td>None</td>\n",
       "      <td>None</td>\n",
       "      <td>None</td>\n",
       "      <td>[821.162.3-3]</td>\n",
       "      <td>[Česká próza]</td>\n",
       "      <td>[821.162.3-32, (0:82-32)]</td>\n",
       "      <td>[aut]</td>\n",
       "      <td>mzk2018995176</td>\n",
       "      <td>Vostrý, Mirek,</td>\n",
       "      <td>1968-</td>\n",
       "      <td>None</td>\n",
       "      <td>Čarodějnice /</td>\n",
       "      <td>Mirek Vostrý</td>\n",
       "      <td>None</td>\n",
       "      <td>None</td>\n",
       "      <td>None</td>\n",
       "      <td>[Vydání první]</td>\n",
       "      <td>None</td>\n",
       "      <td>None</td>\n",
       "      <td>None</td>\n",
       "      <td>None</td>\n",
       "      <td>None</td>\n",
       "      <td>None</td>\n",
       "      <td>None</td>\n",
       "      <td>[Brandýs n/L :]</td>\n",
       "      <td>[Tofana,]</td>\n",
       "      <td>[2019]</td>\n",
       "      <td>[1]</td>\n",
       "      <td>[187 stran ;]</td>\n",
       "      <td>None</td>\n",
       "      <td>[19 cm]</td>\n",
       "      <td>None</td>\n",
       "      <td>None</td>\n",
       "      <td>[150 výtisků]</td>\n",
       "      <td>None</td>\n",
       "      <td>None</td>\n",
       "      <td>None</td>\n",
       "      <td>None</td>\n",
       "      <td>None</td>\n",
       "      <td>None</td>\n",
       "      <td>None</td>\n",
       "      <td>None</td>\n",
       "      <td>None</td>\n",
       "      <td>[české povídky, Czech short stories]</td>\n",
       "      <td>None</td>\n",
       "      <td>None</td>\n",
       "      <td>None</td>\n",
       "      <td>None</td>\n",
       "      <td>None</td>\n",
       "      <td>None</td>\n",
       "      <td>None</td>\n",
       "      <td>None</td>\n",
       "      <td>None</td>\n",
       "      <td>None</td>\n",
       "      <td>None</td>\n",
       "      <td>nam a22      i 4500</td>\n",
       "      <td>9788088318057</td>\n",
       "    </tr>\n",
       "    <tr>\n",
       "      <th>...</th>\n",
       "      <td>...</td>\n",
       "      <td>...</td>\n",
       "      <td>...</td>\n",
       "      <td>...</td>\n",
       "      <td>...</td>\n",
       "      <td>...</td>\n",
       "      <td>...</td>\n",
       "      <td>...</td>\n",
       "      <td>...</td>\n",
       "      <td>...</td>\n",
       "      <td>...</td>\n",
       "      <td>...</td>\n",
       "      <td>...</td>\n",
       "      <td>...</td>\n",
       "      <td>...</td>\n",
       "      <td>...</td>\n",
       "      <td>...</td>\n",
       "      <td>...</td>\n",
       "      <td>...</td>\n",
       "      <td>...</td>\n",
       "      <td>...</td>\n",
       "      <td>...</td>\n",
       "      <td>...</td>\n",
       "      <td>...</td>\n",
       "      <td>...</td>\n",
       "      <td>...</td>\n",
       "      <td>...</td>\n",
       "      <td>...</td>\n",
       "      <td>...</td>\n",
       "      <td>...</td>\n",
       "      <td>...</td>\n",
       "      <td>...</td>\n",
       "      <td>...</td>\n",
       "      <td>...</td>\n",
       "      <td>...</td>\n",
       "      <td>...</td>\n",
       "      <td>...</td>\n",
       "      <td>...</td>\n",
       "      <td>...</td>\n",
       "      <td>...</td>\n",
       "      <td>...</td>\n",
       "      <td>...</td>\n",
       "      <td>...</td>\n",
       "      <td>...</td>\n",
       "      <td>...</td>\n",
       "      <td>...</td>\n",
       "      <td>...</td>\n",
       "      <td>...</td>\n",
       "      <td>...</td>\n",
       "      <td>...</td>\n",
       "      <td>...</td>\n",
       "      <td>...</td>\n",
       "      <td>...</td>\n",
       "      <td>...</td>\n",
       "      <td>...</td>\n",
       "      <td>...</td>\n",
       "      <td>...</td>\n",
       "      <td>...</td>\n",
       "      <td>...</td>\n",
       "      <td>...</td>\n",
       "      <td>...</td>\n",
       "      <td>...</td>\n",
       "      <td>...</td>\n",
       "      <td>...</td>\n",
       "      <td>...</td>\n",
       "      <td>...</td>\n",
       "    </tr>\n",
       "    <tr>\n",
       "      <th>nkc20243607607</th>\n",
       "      <td>2024.0</td>\n",
       "      <td>Aknael</td>\n",
       "      <td>Kořínek Václav</td>\n",
       "      <td>xx0189200</td>\n",
       "      <td>240523s2024    xr a   g      000 j cze d</td>\n",
       "      <td>978-80-277-4269-1</td>\n",
       "      <td>None</td>\n",
       "      <td>[(brožováno)]</td>\n",
       "      <td>None</td>\n",
       "      <td>None</td>\n",
       "      <td>None</td>\n",
       "      <td>None</td>\n",
       "      <td>[821.162.3-3]</td>\n",
       "      <td>[Česká próza]</td>\n",
       "      <td>[821.162.3-32, (0:82-322.9)]</td>\n",
       "      <td>[aut]</td>\n",
       "      <td>xx0189200</td>\n",
       "      <td>Kořínek, Václav,</td>\n",
       "      <td>1967-</td>\n",
       "      <td>None</td>\n",
       "      <td>Aknael :</td>\n",
       "      <td>Václav Kořínek</td>\n",
       "      <td>None</td>\n",
       "      <td>None</td>\n",
       "      <td>[Nebeská jízda]</td>\n",
       "      <td>None</td>\n",
       "      <td>None</td>\n",
       "      <td>None</td>\n",
       "      <td>None</td>\n",
       "      <td>None</td>\n",
       "      <td>None</td>\n",
       "      <td>None</td>\n",
       "      <td>None</td>\n",
       "      <td>[Praha :]</td>\n",
       "      <td>[Dobrovský s.r.o.,]</td>\n",
       "      <td>[2024]</td>\n",
       "      <td>[1]</td>\n",
       "      <td>[140 stran :]</td>\n",
       "      <td>[ilustrace ;]</td>\n",
       "      <td>[20 cm]</td>\n",
       "      <td>[Via]</td>\n",
       "      <td>None</td>\n",
       "      <td>None</td>\n",
       "      <td>None</td>\n",
       "      <td>[Český text]</td>\n",
       "      <td>None</td>\n",
       "      <td>None</td>\n",
       "      <td>None</td>\n",
       "      <td>None</td>\n",
       "      <td>None</td>\n",
       "      <td>None</td>\n",
       "      <td>None</td>\n",
       "      <td>[české příběhy, fantasy příběhy, Czech stories...</td>\n",
       "      <td>None</td>\n",
       "      <td>None</td>\n",
       "      <td>None</td>\n",
       "      <td>None</td>\n",
       "      <td>None</td>\n",
       "      <td>None</td>\n",
       "      <td>None</td>\n",
       "      <td>None</td>\n",
       "      <td>[Via]</td>\n",
       "      <td>None</td>\n",
       "      <td>None</td>\n",
       "      <td>cam a22      i 4500</td>\n",
       "      <td>9788027742691</td>\n",
       "    </tr>\n",
       "    <tr>\n",
       "      <th>nkc20243607374</th>\n",
       "      <td>2024.0</td>\n",
       "      <td>Ve jménu minulosti</td>\n",
       "      <td>Kostka Karel</td>\n",
       "      <td>jo2006362253</td>\n",
       "      <td>240522s2024    xr     g      000 f cze</td>\n",
       "      <td>978-80-7695-182-2</td>\n",
       "      <td>None</td>\n",
       "      <td>[(vázáno)]</td>\n",
       "      <td>None</td>\n",
       "      <td>None</td>\n",
       "      <td>None</td>\n",
       "      <td>None</td>\n",
       "      <td>[821.162.3-3]</td>\n",
       "      <td>[Česká próza]</td>\n",
       "      <td>[821.162.3-31, (0:82-312.4)]</td>\n",
       "      <td>[aut]</td>\n",
       "      <td>jo2006362253</td>\n",
       "      <td>Kostka, Karel,</td>\n",
       "      <td>1960-</td>\n",
       "      <td>None</td>\n",
       "      <td>Ve jménu minulosti /</td>\n",
       "      <td>Karel Cubeca</td>\n",
       "      <td>None</td>\n",
       "      <td>None</td>\n",
       "      <td>None</td>\n",
       "      <td>[Vydání první]</td>\n",
       "      <td>None</td>\n",
       "      <td>None</td>\n",
       "      <td>None</td>\n",
       "      <td>None</td>\n",
       "      <td>None</td>\n",
       "      <td>None</td>\n",
       "      <td>None</td>\n",
       "      <td>[Frýdek-Místek :]</td>\n",
       "      <td>[Alpress,]</td>\n",
       "      <td>[2024]</td>\n",
       "      <td>[1]</td>\n",
       "      <td>[270 stran ;]</td>\n",
       "      <td>None</td>\n",
       "      <td>[21 cm]</td>\n",
       "      <td>[Klokan]</td>\n",
       "      <td>None</td>\n",
       "      <td>None</td>\n",
       "      <td>None</td>\n",
       "      <td>None</td>\n",
       "      <td>None</td>\n",
       "      <td>None</td>\n",
       "      <td>None</td>\n",
       "      <td>None</td>\n",
       "      <td>None</td>\n",
       "      <td>None</td>\n",
       "      <td>None</td>\n",
       "      <td>[české romány, thrillery (romány), Czech ficti...</td>\n",
       "      <td>None</td>\n",
       "      <td>None</td>\n",
       "      <td>None</td>\n",
       "      <td>None</td>\n",
       "      <td>None</td>\n",
       "      <td>None</td>\n",
       "      <td>None</td>\n",
       "      <td>None</td>\n",
       "      <td>[Klokan (Alpress)]</td>\n",
       "      <td>None</td>\n",
       "      <td>None</td>\n",
       "      <td>nam a22      i 4500</td>\n",
       "      <td>9788076951822</td>\n",
       "    </tr>\n",
       "    <tr>\n",
       "      <th>nkc20243607405</th>\n",
       "      <td>2024.0</td>\n",
       "      <td>Zlatý pomeranč</td>\n",
       "      <td>Neff Ondřej</td>\n",
       "      <td>jk01082907</td>\n",
       "      <td>240521s2024    xr a   g      000 f cze</td>\n",
       "      <td>978-80-7588-617-0</td>\n",
       "      <td>None</td>\n",
       "      <td>[(vázáno)]</td>\n",
       "      <td>None</td>\n",
       "      <td>None</td>\n",
       "      <td>None</td>\n",
       "      <td>None</td>\n",
       "      <td>[821.162.3-3]</td>\n",
       "      <td>[Česká próza]</td>\n",
       "      <td>[821.162.3-31, (0:82-311.9)]</td>\n",
       "      <td>[aut]</td>\n",
       "      <td>jk01082907</td>\n",
       "      <td>Neff, Ondřej,</td>\n",
       "      <td>1945-</td>\n",
       "      <td>None</td>\n",
       "      <td>Zlatý pomeranč /</td>\n",
       "      <td>Ondřej Neff ; ilustroval Karel Jerie</td>\n",
       "      <td>None</td>\n",
       "      <td>None</td>\n",
       "      <td>None</td>\n",
       "      <td>[1. vydání]</td>\n",
       "      <td>None</td>\n",
       "      <td>None</td>\n",
       "      <td>None</td>\n",
       "      <td>None</td>\n",
       "      <td>None</td>\n",
       "      <td>None</td>\n",
       "      <td>None</td>\n",
       "      <td>[Praha :]</td>\n",
       "      <td>[Mystery Press,]</td>\n",
       "      <td>[2024]</td>\n",
       "      <td>[1]</td>\n",
       "      <td>[417 stran :]</td>\n",
       "      <td>[ilustrace ;]</td>\n",
       "      <td>[22 cm]</td>\n",
       "      <td>None</td>\n",
       "      <td>None</td>\n",
       "      <td>None</td>\n",
       "      <td>None</td>\n",
       "      <td>None</td>\n",
       "      <td>None</td>\n",
       "      <td>None</td>\n",
       "      <td>None</td>\n",
       "      <td>None</td>\n",
       "      <td>None</td>\n",
       "      <td>None</td>\n",
       "      <td>None</td>\n",
       "      <td>[české romány, vědecko-fantastické romány, Cze...</td>\n",
       "      <td>[ill]</td>\n",
       "      <td>[xx0029381]</td>\n",
       "      <td>[Jerie, Karel,]</td>\n",
       "      <td>[1977-]</td>\n",
       "      <td>None</td>\n",
       "      <td>None</td>\n",
       "      <td>None</td>\n",
       "      <td>None</td>\n",
       "      <td>None</td>\n",
       "      <td>None</td>\n",
       "      <td>None</td>\n",
       "      <td>nam a22      i 4500</td>\n",
       "      <td>9788075886170</td>\n",
       "    </tr>\n",
       "    <tr>\n",
       "      <th>nkc20243608109</th>\n",
       "      <td>2024.0</td>\n",
       "      <td>Staré šumavské legendy</td>\n",
       "      <td>Klimek Hynek</td>\n",
       "      <td>jn20010712010</td>\n",
       "      <td>240527s2024    xr a   g      000 j cze</td>\n",
       "      <td>978-80-271-5290-2</td>\n",
       "      <td>[Kč 299,00]</td>\n",
       "      <td>[(brožováno) :]</td>\n",
       "      <td>None</td>\n",
       "      <td>None</td>\n",
       "      <td>None</td>\n",
       "      <td>None</td>\n",
       "      <td>[821.162.3-3]</td>\n",
       "      <td>[Česká próza]</td>\n",
       "      <td>[821.162.3-34, (437.31-13), (0:82-34)]</td>\n",
       "      <td>[aut]</td>\n",
       "      <td>jn20010712010</td>\n",
       "      <td>Klimek, Hynek,</td>\n",
       "      <td>1945-</td>\n",
       "      <td>None</td>\n",
       "      <td>Staré šumavské legendy /</td>\n",
       "      <td>Hynek Klimek ; ilustrace Přemysl Vranovský</td>\n",
       "      <td>None</td>\n",
       "      <td>None</td>\n",
       "      <td>[Šumavské legendy]</td>\n",
       "      <td>[První vydání]</td>\n",
       "      <td>None</td>\n",
       "      <td>None</td>\n",
       "      <td>None</td>\n",
       "      <td>None</td>\n",
       "      <td>None</td>\n",
       "      <td>None</td>\n",
       "      <td>None</td>\n",
       "      <td>[Praha :]</td>\n",
       "      <td>[Cosmopolis,]</td>\n",
       "      <td>[2024]</td>\n",
       "      <td>[1]</td>\n",
       "      <td>[124 stran :]</td>\n",
       "      <td>[ilustrace ;]</td>\n",
       "      <td>[21 cm]</td>\n",
       "      <td>None</td>\n",
       "      <td>None</td>\n",
       "      <td>None</td>\n",
       "      <td>None</td>\n",
       "      <td>None</td>\n",
       "      <td>None</td>\n",
       "      <td>None</td>\n",
       "      <td>None</td>\n",
       "      <td>None</td>\n",
       "      <td>None</td>\n",
       "      <td>[Šumava (pohoří : oblast), Šumava Mountains Re...</td>\n",
       "      <td>None</td>\n",
       "      <td>[české pověsti, Czech legends]</td>\n",
       "      <td>[ill]</td>\n",
       "      <td>[ola2005262745]</td>\n",
       "      <td>[Vranovský, Přemysl,]</td>\n",
       "      <td>[1952-]</td>\n",
       "      <td>None</td>\n",
       "      <td>None</td>\n",
       "      <td>None</td>\n",
       "      <td>None</td>\n",
       "      <td>None</td>\n",
       "      <td>[Grada Publishing - Cosmopolis]</td>\n",
       "      <td>None</td>\n",
       "      <td>nam a22      i 4500</td>\n",
       "      <td>9788027152902</td>\n",
       "    </tr>\n",
       "    <tr>\n",
       "      <th>nkc20243608154</th>\n",
       "      <td>2024.0</td>\n",
       "      <td>Tanec na sopce</td>\n",
       "      <td>Heteša Petr</td>\n",
       "      <td>ola200205577</td>\n",
       "      <td>240529s2024    xr     g      000 f cze</td>\n",
       "      <td>978-80-7456-569-4</td>\n",
       "      <td>[Kč 348,00]</td>\n",
       "      <td>[(brožováno) :]</td>\n",
       "      <td>None</td>\n",
       "      <td>None</td>\n",
       "      <td>None</td>\n",
       "      <td>None</td>\n",
       "      <td>[821.162.3-3]</td>\n",
       "      <td>[Česká próza]</td>\n",
       "      <td>[821.162.3-31, (0:82-311.9)]</td>\n",
       "      <td>[aut]</td>\n",
       "      <td>ola200205577</td>\n",
       "      <td>Heteša, Petr,</td>\n",
       "      <td>1959-</td>\n",
       "      <td>None</td>\n",
       "      <td>Tanec na sopce /</td>\n",
       "      <td>Petr Heteša</td>\n",
       "      <td>None</td>\n",
       "      <td>None</td>\n",
       "      <td>None</td>\n",
       "      <td>[Vydání první]</td>\n",
       "      <td>None</td>\n",
       "      <td>None</td>\n",
       "      <td>None</td>\n",
       "      <td>None</td>\n",
       "      <td>None</td>\n",
       "      <td>None</td>\n",
       "      <td>None</td>\n",
       "      <td>[Praha :]</td>\n",
       "      <td>[Brokilon,]</td>\n",
       "      <td>[2024]</td>\n",
       "      <td>[1]</td>\n",
       "      <td>[427 stran ;]</td>\n",
       "      <td>None</td>\n",
       "      <td>[18 cm]</td>\n",
       "      <td>None</td>\n",
       "      <td>None</td>\n",
       "      <td>None</td>\n",
       "      <td>None</td>\n",
       "      <td>None</td>\n",
       "      <td>None</td>\n",
       "      <td>None</td>\n",
       "      <td>None</td>\n",
       "      <td>None</td>\n",
       "      <td>None</td>\n",
       "      <td>None</td>\n",
       "      <td>None</td>\n",
       "      <td>[české romány, vědecko-fantastické romány, Cze...</td>\n",
       "      <td>None</td>\n",
       "      <td>None</td>\n",
       "      <td>None</td>\n",
       "      <td>None</td>\n",
       "      <td>None</td>\n",
       "      <td>None</td>\n",
       "      <td>None</td>\n",
       "      <td>None</td>\n",
       "      <td>None</td>\n",
       "      <td>None</td>\n",
       "      <td>None</td>\n",
       "      <td>nam a22      i 4500</td>\n",
       "      <td>9788074565694</td>\n",
       "    </tr>\n",
       "  </tbody>\n",
       "</table>\n",
       "<p>1363 rows × 66 columns</p>\n",
       "</div>"
      ],
      "text/plain": [
       "                   rok                   titul            autorstvo  \\\n",
       "001                                                                   \n",
       "nkc20193161777  2019.0    Dobře zašitej frajer          Šabach Petr   \n",
       "nkc20193158828  2019.0     Mstitel z Jenštejna  Vondruška Vlastimil   \n",
       "nkc20243642899  2019.0            Tvůrce osudu            Shy Alice   \n",
       "nkc20193158538  2019.0              Bezejmenní         Krčmář Milan   \n",
       "nkc20193162052  2019.0             Čarodějnice         Vostrý Mirek   \n",
       "...                ...                     ...                  ...   \n",
       "nkc20243607607  2024.0                  Aknael       Kořínek Václav   \n",
       "nkc20243607374  2024.0      Ve jménu minulosti         Kostka Karel   \n",
       "nkc20243607405  2024.0          Zlatý pomeranč          Neff Ondřej   \n",
       "nkc20243608109  2024.0  Staré šumavské legendy         Klimek Hynek   \n",
       "nkc20243608154  2024.0          Tanec na sopce          Heteša Petr   \n",
       "\n",
       "                autorstvo_kod                                       008  \\\n",
       "001                                                                       \n",
       "nkc20193161777  jn19990201046    191211s2019    xr     g      000 j cze   \n",
       "nkc20193158828      xx0004129    191111s2019    xr     g      000 f cze   \n",
       "nkc20243642899      xx0239405    241113m20199999xr     g      000 f cze   \n",
       "nkc20193158538   jo2012727454    191111s2019    xr h   g      000 f cze   \n",
       "nkc20193162052  mzk2018995176    200120s2019    xr     g      000 j cze   \n",
       "...                       ...                                       ...   \n",
       "nkc20243607607      xx0189200  240523s2024    xr a   g      000 j cze d   \n",
       "nkc20243607374   jo2006362253    240522s2024    xr     g      000 f cze   \n",
       "nkc20243607405     jk01082907    240521s2024    xr a   g      000 f cze   \n",
       "nkc20243608109  jn20010712010    240527s2024    xr a   g      000 j cze   \n",
       "nkc20243608154   ola200205577    240529s2024    xr     g      000 f cze   \n",
       "\n",
       "                            020_a              020_c  \\\n",
       "001                                                    \n",
       "nkc20193161777  978-80-7637-070-8        [Kč 399,00]   \n",
       "nkc20193158828  978-80-243-8905-9               None   \n",
       "nkc20243642899  978-80-7691-569-5  [None, Kč 499,00]   \n",
       "nkc20193158538  978-80-264-2789-6        [Kč 449,00]   \n",
       "nkc20193162052  978-80-88318-05-7               None   \n",
       "...                           ...                ...   \n",
       "nkc20243607607  978-80-277-4269-1               None   \n",
       "nkc20243607374  978-80-7695-182-2               None   \n",
       "nkc20243607405  978-80-7588-617-0               None   \n",
       "nkc20243608109  978-80-271-5290-2        [Kč 299,00]   \n",
       "nkc20243608154  978-80-7456-569-4        [Kč 348,00]   \n",
       "\n",
       "                                                 020_q 041_a 041_h 041_ind1  \\\n",
       "001                                                                           \n",
       "nkc20193161777                            [(vázáno) :]  None  None     None   \n",
       "nkc20193158828                              [(vázáno)]  None  None     None   \n",
       "nkc20243642899  [(1 ;, brožováno), (2 ;, brožováno) :]  None  None     None   \n",
       "nkc20193158538                  [(CPress ;, vázáno) :]  None  None     None   \n",
       "nkc20193162052                           [(brožováno)]  None  None     None   \n",
       "...                                                ...   ...   ...      ...   \n",
       "nkc20243607607                           [(brožováno)]  None  None     None   \n",
       "nkc20243607374                              [(vázáno)]  None  None     None   \n",
       "nkc20243607405                              [(vázáno)]  None  None     None   \n",
       "nkc20243608109                         [(brožováno) :]  None  None     None   \n",
       "nkc20243608154                         [(brožováno) :]  None  None     None   \n",
       "\n",
       "               044_a          072_a          072_x  \\\n",
       "001                                                  \n",
       "nkc20193161777  None  [821.162.3-3]  [Česká próza]   \n",
       "nkc20193158828  None  [821.162.3-3]  [Česká próza]   \n",
       "nkc20243642899  None  [821.162.3-3]  [Česká próza]   \n",
       "nkc20193158538  None  [821.162.3-3]  [Česká próza]   \n",
       "nkc20193162052  None  [821.162.3-3]  [Česká próza]   \n",
       "...              ...            ...            ...   \n",
       "nkc20243607607  None  [821.162.3-3]  [Česká próza]   \n",
       "nkc20243607374  None  [821.162.3-3]  [Česká próza]   \n",
       "nkc20243607405  None  [821.162.3-3]  [Česká próza]   \n",
       "nkc20243608109  None  [821.162.3-3]  [Česká próza]   \n",
       "nkc20243608154  None  [821.162.3-3]  [Česká próza]   \n",
       "\n",
       "                                                            080_a  100_4  \\\n",
       "001                                                                        \n",
       "nkc20193161777                [821.162.3-32, (0:82-32), (082.21)]  [aut]   \n",
       "nkc20193158828         [821.162.3-31, (0:82-311.6), (0:82-312.4)]  [aut]   \n",
       "nkc20243642899                       [821.162.3-31, (0:82-312.9)]  [aut]   \n",
       "nkc20193158538  [821.162.3-31, (=411.16), 314.151.3-054.73, 34...  [aut]   \n",
       "nkc20193162052                          [821.162.3-32, (0:82-32)]  [aut]   \n",
       "...                                                           ...    ...   \n",
       "nkc20243607607                       [821.162.3-32, (0:82-322.9)]  [aut]   \n",
       "nkc20243607374                       [821.162.3-31, (0:82-312.4)]  [aut]   \n",
       "nkc20243607405                       [821.162.3-31, (0:82-311.9)]  [aut]   \n",
       "nkc20243608109             [821.162.3-34, (437.31-13), (0:82-34)]  [aut]   \n",
       "nkc20243608154                       [821.162.3-31, (0:82-311.9)]  [aut]   \n",
       "\n",
       "                        100_7                  100_a      100_d 240_l  \\\n",
       "001                                                                     \n",
       "nkc20193161777  jn19990201046          Šabach, Petr,  1951-2017  None   \n",
       "nkc20193158828      xx0004129  Vondruška, Vlastimil,      1955-  None   \n",
       "nkc20243642899      xx0239405            Shy, Alice,      1990-  None   \n",
       "nkc20193158538   jo2012727454          Krčmář, Milan       None  None   \n",
       "nkc20193162052  mzk2018995176         Vostrý, Mirek,      1968-  None   \n",
       "...                       ...                    ...        ...   ...   \n",
       "nkc20243607607      xx0189200       Kořínek, Václav,      1967-  None   \n",
       "nkc20243607374   jo2006362253         Kostka, Karel,      1960-  None   \n",
       "nkc20243607405     jk01082907          Neff, Ondřej,      1945-  None   \n",
       "nkc20243608109  jn20010712010         Klimek, Hynek,      1945-  None   \n",
       "nkc20243608154   ola200205577          Heteša, Petr,      1959-  None   \n",
       "\n",
       "                                   245_a  \\\n",
       "001                                        \n",
       "nkc20193161777    Dobře zašitej frajer /   \n",
       "nkc20193158828     Mstitel z Jenštejna /   \n",
       "nkc20243642899            Tvůrce osudu /   \n",
       "nkc20193158538              Bezejmenní :   \n",
       "nkc20193162052             Čarodějnice /   \n",
       "...                                  ...   \n",
       "nkc20243607607                  Aknael :   \n",
       "nkc20243607374      Ve jménu minulosti /   \n",
       "nkc20243607405          Zlatý pomeranč /   \n",
       "nkc20243608109  Staré šumavské legendy /   \n",
       "nkc20243608154          Tanec na sopce /   \n",
       "\n",
       "                                                            245_c 245_n 245_p  \\\n",
       "001                                                                             \n",
       "nkc20193161777  to nejlepší z Petra Šabacha uspořádali Emil Ha...  None  None   \n",
       "nkc20193158828                                Vlastimil Vondruška  None  None   \n",
       "nkc20243642899                                          Alice Shy  None  None   \n",
       "nkc20193158538                                       Milan Krčmář  None  None   \n",
       "nkc20193162052                                       Mirek Vostrý  None  None   \n",
       "...                                                           ...   ...   ...   \n",
       "nkc20243607607                                     Václav Kořínek  None  None   \n",
       "nkc20243607374                                       Karel Cubeca  None  None   \n",
       "nkc20243607405               Ondřej Neff ; ilustroval Karel Jerie  None  None   \n",
       "nkc20243608109         Hynek Klimek ; ilustrace Přemysl Vranovský  None  None   \n",
       "nkc20243608154                                        Petr Heteša  None  None   \n",
       "\n",
       "                             246_a           250_a 250_b 260_a 260_b 260_c  \\\n",
       "001                                                                          \n",
       "nkc20193161777                None  [Vydání první]  None  None  None  None   \n",
       "nkc20193158828                None  [Vydání první]  None  None  None  None   \n",
       "nkc20243642899                None     [1. vydání]  None  None  None  None   \n",
       "nkc20193158538                None     [1. vydání]  None  None  None  None   \n",
       "nkc20193162052                None  [Vydání první]  None  None  None  None   \n",
       "...                            ...             ...   ...   ...   ...   ...   \n",
       "nkc20243607607     [Nebeská jízda]            None  None  None  None  None   \n",
       "nkc20243607374                None  [Vydání první]  None  None  None  None   \n",
       "nkc20243607405                None     [1. vydání]  None  None  None  None   \n",
       "nkc20243608109  [Šumavské legendy]  [První vydání]  None  None  None  None   \n",
       "nkc20243608154                None  [Vydání první]  None  None  None  None   \n",
       "\n",
       "               260_e 260_f 260_ind1                 264_a  \\\n",
       "001                                                         \n",
       "nkc20193161777  None  None     None           [V Praze :]   \n",
       "nkc20193158828  None  None     None              [Brno :]   \n",
       "nkc20243642899  None  None     None  [Praha :, V Praze :]   \n",
       "nkc20193158538  None  None     None            [V Brně :]   \n",
       "nkc20193162052  None  None     None       [Brandýs n/L :]   \n",
       "...              ...   ...      ...                   ...   \n",
       "nkc20243607607  None  None     None             [Praha :]   \n",
       "nkc20243607374  None  None     None     [Frýdek-Místek :]   \n",
       "nkc20243607405  None  None     None             [Praha :]   \n",
       "nkc20243608109  None  None     None             [Praha :]   \n",
       "nkc20243608154  None  None     None             [Praha :]   \n",
       "\n",
       "                                        264_b          264_c 264_ind2  \\\n",
       "001                                                                     \n",
       "nkc20193161777                      [Paseka,]         [2019]      [1]   \n",
       "nkc20193158828                        [MOBA,]         [2019]      [1]   \n",
       "nkc20243642899  [Ritareklama s.r.o.,, Pointa]  [2019-, None]   [1, 1]   \n",
       "nkc20193158538                      [CPress,]         [2019]      [1]   \n",
       "nkc20193162052                      [Tofana,]         [2019]      [1]   \n",
       "...                                       ...            ...      ...   \n",
       "nkc20243607607            [Dobrovský s.r.o.,]         [2024]      [1]   \n",
       "nkc20243607374                     [Alpress,]         [2024]      [1]   \n",
       "nkc20243607405               [Mystery Press,]         [2024]      [1]   \n",
       "nkc20243608109                  [Cosmopolis,]         [2024]      [1]   \n",
       "nkc20243608154                    [Brokilon,]         [2024]      [1]   \n",
       "\n",
       "                        300_a          300_b    300_c  \\\n",
       "001                                                     \n",
       "nkc20193161777  [333 stran ;]           None  [23 cm]   \n",
       "nkc20193158828  [219 stran ;]           None  [21 cm]   \n",
       "nkc20243642899  [^^^svazků ;]           None  [20 cm]   \n",
       "nkc20193158538  [479 stran :]  [faksimile ;]  [24 cm]   \n",
       "nkc20193162052  [187 stran ;]           None  [19 cm]   \n",
       "...                       ...            ...      ...   \n",
       "nkc20243607607  [140 stran :]  [ilustrace ;]  [20 cm]   \n",
       "nkc20243607374  [270 stran ;]           None  [21 cm]   \n",
       "nkc20243607405  [417 stran :]  [ilustrace ;]  [22 cm]   \n",
       "nkc20243608109  [124 stran :]  [ilustrace ;]  [21 cm]   \n",
       "nkc20243608154  [427 stran ;]           None  [18 cm]   \n",
       "\n",
       "                                        490_a   490_v  \\\n",
       "001                                                     \n",
       "nkc20193161777                           None    None   \n",
       "nkc20193158828  [Letopisy královské komory ;]  [XIII]   \n",
       "nkc20243642899                  [Knihy Fenix]    None   \n",
       "nkc20193158538                           None    None   \n",
       "nkc20193162052                           None    None   \n",
       "...                                       ...     ...   \n",
       "nkc20243607607                          [Via]    None   \n",
       "nkc20243607374                       [Klokan]    None   \n",
       "nkc20243607405                           None    None   \n",
       "nkc20243608109                           None    None   \n",
       "nkc20243608154                           None    None   \n",
       "\n",
       "                                                            500_a 521_a  \\\n",
       "001                                                                       \n",
       "nkc20193161777  [Údaj o vydání je chybný, správně má být: Vydá...  None   \n",
       "nkc20193158828                                               None  None   \n",
       "nkc20243642899                          [Od 2. svazku mimo edici]  None   \n",
       "nkc20193158538  [V tiráži uvedeno nakladatelství: Edika, Termi...  None   \n",
       "nkc20193162052                                      [150 výtisků]  None   \n",
       "...                                                           ...   ...   \n",
       "nkc20243607607                                               None  None   \n",
       "nkc20243607374                                               None  None   \n",
       "nkc20243607405                                               None  None   \n",
       "nkc20243608109                                               None  None   \n",
       "nkc20243608154                                               None  None   \n",
       "\n",
       "                       546_a                           648_a  \\\n",
       "001                                                            \n",
       "nkc20193161777          None                            None   \n",
       "nkc20193158828          None                            None   \n",
       "nkc20243642899          None                            None   \n",
       "nkc20193158538          None  [1921-1930, 20. století, 1925]   \n",
       "nkc20193162052          None                            None   \n",
       "...                      ...                             ...   \n",
       "nkc20243607607  [Český text]                            None   \n",
       "nkc20243607374          None                            None   \n",
       "nkc20243607405          None                            None   \n",
       "nkc20243608109          None                            None   \n",
       "nkc20243608154          None                            None   \n",
       "\n",
       "                                                            650_a 650_x  \\\n",
       "001                                                                       \n",
       "nkc20193161777                                               None  None   \n",
       "nkc20193158828                                               None  None   \n",
       "nkc20243642899                                               None  None   \n",
       "nkc20193158538  [Židé, uprchlíci, vraždy, soudní procesy, Jews...  None   \n",
       "nkc20193162052                                               None  None   \n",
       "...                                                           ...   ...   \n",
       "nkc20243607607                                               None  None   \n",
       "nkc20243607374                                               None  None   \n",
       "nkc20243607405                                               None  None   \n",
       "nkc20243608109                                               None  None   \n",
       "nkc20243608154                                               None  None   \n",
       "\n",
       "                                                            650_y  \\\n",
       "001                                                                 \n",
       "nkc20193161777                                               None   \n",
       "nkc20193158828                                               None   \n",
       "nkc20243642899                                               None   \n",
       "nkc20193158538  [20. století, 20. století, 20. století, 1921-1...   \n",
       "nkc20193162052                                               None   \n",
       "...                                                           ...   \n",
       "nkc20243607607                                               None   \n",
       "nkc20243607374                                               None   \n",
       "nkc20243607405                                               None   \n",
       "nkc20243608109                                               None   \n",
       "nkc20243608154                                               None   \n",
       "\n",
       "                                                            650_z  \\\n",
       "001                                                                 \n",
       "nkc20193161777                                               None   \n",
       "nkc20193158828                                               None   \n",
       "nkc20243642899                                               None   \n",
       "nkc20193158538  [Polsko, Polsko, Česko, Česko, Poland, Poland,...   \n",
       "nkc20193162052                                               None   \n",
       "...                                                           ...   \n",
       "nkc20243607607                                               None   \n",
       "nkc20243607374                                               None   \n",
       "nkc20243607405                                               None   \n",
       "nkc20243608109                                               None   \n",
       "nkc20243608154                                               None   \n",
       "\n",
       "                                                            651_a 653_a  \\\n",
       "001                                                                       \n",
       "nkc20193161777                                               None  None   \n",
       "nkc20193158828                                               None  None   \n",
       "nkc20243642899                                               None  None   \n",
       "nkc20193158538                 [Třebíč (Česko), Třebíč (Czechia)]  None   \n",
       "nkc20193162052                                               None  None   \n",
       "...                                                           ...   ...   \n",
       "nkc20243607607                                               None  None   \n",
       "nkc20243607374                                               None  None   \n",
       "nkc20243607405                                               None  None   \n",
       "nkc20243608109  [Šumava (pohoří : oblast), Šumava Mountains Re...  None   \n",
       "nkc20243608154                                               None  None   \n",
       "\n",
       "                                                            655_a       700_4  \\\n",
       "001                                                                             \n",
       "nkc20193161777  [české povídky, české novely, výbory, Czech sh...  [edt, edt]   \n",
       "nkc20193158828  [české romány, historické romány, detektivní r...        None   \n",
       "nkc20243642899  [české romány, fantasy romány, Czech fiction, ...        None   \n",
       "nkc20193158538  [české romány, dokumentární romány, fiktivní d...        None   \n",
       "nkc20193162052               [české povídky, Czech short stories]        None   \n",
       "...                                                           ...         ...   \n",
       "nkc20243607607  [české příběhy, fantasy příběhy, Czech stories...        None   \n",
       "nkc20243607374  [české romány, thrillery (romány), Czech ficti...        None   \n",
       "nkc20243607405  [české romány, vědecko-fantastické romány, Cze...       [ill]   \n",
       "nkc20243608109                     [české pověsti, Czech legends]       [ill]   \n",
       "nkc20243608154  [české romány, vědecko-fantastické romány, Cze...        None   \n",
       "\n",
       "                                         700_7  \\\n",
       "001                                              \n",
       "nkc20193161777  [jn20000400849, jn19990209335]   \n",
       "nkc20193158828                            None   \n",
       "nkc20243642899                            None   \n",
       "nkc20193158538                            None   \n",
       "nkc20193162052                            None   \n",
       "...                                        ...   \n",
       "nkc20243607607                            None   \n",
       "nkc20243607374                            None   \n",
       "nkc20243607405                     [xx0029381]   \n",
       "nkc20243608109                 [ola2005262745]   \n",
       "nkc20243608154                            None   \n",
       "\n",
       "                                         700_a               700_d 710_4  \\\n",
       "001                                                                        \n",
       "nkc20193161777  [Hakl, Emil,, Kahuda, Václav,]  [1958-, 1965-2023]  None   \n",
       "nkc20193158828                            None                None  None   \n",
       "nkc20243642899                            None                None  None   \n",
       "nkc20193158538                            None                None  None   \n",
       "nkc20193162052                            None                None  None   \n",
       "...                                        ...                 ...   ...   \n",
       "nkc20243607607                            None                None  None   \n",
       "nkc20243607374                            None                None  None   \n",
       "nkc20243607405                 [Jerie, Karel,]             [1977-]  None   \n",
       "nkc20243608109           [Vranovský, Přemysl,]             [1952-]  None   \n",
       "nkc20243608154                            None                None  None   \n",
       "\n",
       "               710_7 710_a 710_b                               830_a  \\\n",
       "001                                                                    \n",
       "nkc20193161777  None  None  None                                None   \n",
       "nkc20193158828  None  None  None  [Letopisy královské komory (MOBA)]   \n",
       "nkc20243642899  None  None  None                       [Knihy Fenix]   \n",
       "nkc20193158538  None  None  None                                None   \n",
       "nkc20193162052  None  None  None                                None   \n",
       "...              ...   ...   ...                                 ...   \n",
       "nkc20243607607  None  None  None                               [Via]   \n",
       "nkc20243607374  None  None  None                  [Klokan (Alpress)]   \n",
       "nkc20243607405  None  None  None                                None   \n",
       "nkc20243608109  None  None  None                                None   \n",
       "nkc20243608154  None  None  None                                None   \n",
       "\n",
       "                                                            928_a 964_a  \\\n",
       "001                                                                       \n",
       "nkc20193161777                                               None  None   \n",
       "nkc20193158828                                               None  None   \n",
       "nkc20243642899                          [Albatros Media - Pointa]  None   \n",
       "nkc20193158538  [Albatros Media - CPress, Albatros Media - Edika]  None   \n",
       "nkc20193162052                                               None  None   \n",
       "...                                                           ...   ...   \n",
       "nkc20243607607                                               None  None   \n",
       "nkc20243607374                                               None  None   \n",
       "nkc20243607405                                               None  None   \n",
       "nkc20243608109                    [Grada Publishing - Cosmopolis]  None   \n",
       "nkc20243608154                                               None  None   \n",
       "\n",
       "                                  leader           isbn  \n",
       "001                                                      \n",
       "nkc20193161777       nam a22      i 4500  9788076370708  \n",
       "nkc20193158828       nam a22      i 4500  9788024389059  \n",
       "nkc20243642899       nam a22      ia4500  9788076915695  \n",
       "nkc20193158538       nam a22      i 4500  9788026427896  \n",
       "nkc20193162052       nam a22      i 4500  9788088318057  \n",
       "...                                  ...            ...  \n",
       "nkc20243607607       cam a22      i 4500  9788027742691  \n",
       "nkc20243607374       nam a22      i 4500  9788076951822  \n",
       "nkc20243607405       nam a22      i 4500  9788075886170  \n",
       "nkc20243608109       nam a22      i 4500  9788027152902  \n",
       "nkc20243608154       nam a22      i 4500  9788074565694  \n",
       "\n",
       "[1363 rows x 66 columns]"
      ]
     },
     "execution_count": 19,
     "metadata": {},
     "output_type": "execute_result"
    }
   ],
   "source": [
    "df"
   ]
  },
  {
   "cell_type": "code",
   "execution_count": 20,
   "id": "e665b5cc-8b03-4285-ad8e-60fce1a3f933",
   "metadata": {},
   "outputs": [],
   "source": [
    "autority = pd.read_parquet(os.path.join(\"data\",\"aut_vyber.parquet\"))"
   ]
  },
  {
   "cell_type": "code",
   "execution_count": 21,
   "id": "d4f36f4e-0596-45a9-b24b-003a6254372e",
   "metadata": {},
   "outputs": [],
   "source": [
    "autority = autority.merge(pd.read_parquet(os.path.join('data','wikidata.parquet')), left_index=True, right_index=True, how=\"outer\")"
   ]
  },
  {
   "cell_type": "code",
   "execution_count": 22,
   "id": "091c5099-0cd1-43e4-bb5c-0b1c62f41825",
   "metadata": {},
   "outputs": [
    {
     "data": {
      "text/html": [
       "<div>\n",
       "<style scoped>\n",
       "    .dataframe tbody tr th:only-of-type {\n",
       "        vertical-align: middle;\n",
       "    }\n",
       "\n",
       "    .dataframe tbody tr th {\n",
       "        vertical-align: top;\n",
       "    }\n",
       "\n",
       "    .dataframe thead th {\n",
       "        text-align: right;\n",
       "    }\n",
       "</style>\n",
       "<table border=\"1\" class=\"dataframe\">\n",
       "  <thead>\n",
       "    <tr style=\"text-align: right;\">\n",
       "      <th></th>\n",
       "      <th>024_2</th>\n",
       "      <th>024_a_x</th>\n",
       "      <th>046_f</th>\n",
       "      <th>046_g</th>\n",
       "      <th>100_7</th>\n",
       "      <th>100_a</th>\n",
       "      <th>100_d</th>\n",
       "      <th>100_ind1</th>\n",
       "      <th>110_a</th>\n",
       "      <th>370_a</th>\n",
       "      <th>370_b</th>\n",
       "      <th>370_c</th>\n",
       "      <th>370_f</th>\n",
       "      <th>372_a</th>\n",
       "      <th>373_a</th>\n",
       "      <th>374_a</th>\n",
       "      <th>375_a</th>\n",
       "      <th>377_a</th>\n",
       "      <th>400_a</th>\n",
       "      <th>400_d</th>\n",
       "      <th>400_i</th>\n",
       "      <th>400_ind1</th>\n",
       "      <th>410_a</th>\n",
       "      <th>411_a</th>\n",
       "      <th>430_a</th>\n",
       "      <th>450_a</th>\n",
       "      <th>500_a</th>\n",
       "      <th>500_i</th>\n",
       "      <th>500_ind1</th>\n",
       "      <th>550_7</th>\n",
       "      <th>678_a</th>\n",
       "      <th>856_u</th>\n",
       "      <th>leader</th>\n",
       "      <th>024_a_y</th>\n",
       "      <th>ceny</th>\n",
       "      <th>druh_umrti</th>\n",
       "      <th>facebook</th>\n",
       "      <th>instagram</th>\n",
       "      <th>jazykove_verze</th>\n",
       "      <th>label_cs</th>\n",
       "      <th>label_en</th>\n",
       "      <th>manzelstvo</th>\n",
       "      <th>obcanstvi</th>\n",
       "      <th>partnerstvo</th>\n",
       "      <th>popis_cs</th>\n",
       "      <th>popis_en</th>\n",
       "      <th>potomstvo</th>\n",
       "      <th>pricina_umrti</th>\n",
       "      <th>profese</th>\n",
       "      <th>role</th>\n",
       "      <th>skoly</th>\n",
       "      <th>sourozenectvo</th>\n",
       "      <th>strany</th>\n",
       "      <th>twitter</th>\n",
       "      <th>udalosti</th>\n",
       "      <th>vezeni</th>\n",
       "      <th>w_gender</th>\n",
       "      <th>w_misto_narozeni</th>\n",
       "      <th>w_misto_umrti</th>\n",
       "      <th>w_narozeni</th>\n",
       "      <th>w_narozeni_presne</th>\n",
       "      <th>w_umrti</th>\n",
       "      <th>w_umrti_presne</th>\n",
       "      <th>web</th>\n",
       "      <th>wiki_cs</th>\n",
       "      <th>wiki_en</th>\n",
       "    </tr>\n",
       "  </thead>\n",
       "  <tbody>\n",
       "    <tr>\n",
       "      <th>mzk2006358011</th>\n",
       "      <td>None</td>\n",
       "      <td>None</td>\n",
       "      <td>None</td>\n",
       "      <td>None</td>\n",
       "      <td>None</td>\n",
       "      <td>None</td>\n",
       "      <td>None</td>\n",
       "      <td>None</td>\n",
       "      <td>None</td>\n",
       "      <td>None</td>\n",
       "      <td>None</td>\n",
       "      <td>[Česko]</td>\n",
       "      <td>None</td>\n",
       "      <td>[historické knihovní fondy, vzácné knihovní fo...</td>\n",
       "      <td>None</td>\n",
       "      <td>None</td>\n",
       "      <td>None</td>\n",
       "      <td>[cze]</td>\n",
       "      <td>None</td>\n",
       "      <td>None</td>\n",
       "      <td>None</td>\n",
       "      <td>None</td>\n",
       "      <td>None</td>\n",
       "      <td>None</td>\n",
       "      <td>None</td>\n",
       "      <td>None</td>\n",
       "      <td>None</td>\n",
       "      <td>None</td>\n",
       "      <td>None</td>\n",
       "      <td>None</td>\n",
       "      <td>None</td>\n",
       "      <td>None</td>\n",
       "      <td>cz  a22     n  4500</td>\n",
       "      <td>NaN</td>\n",
       "      <td>NaN</td>\n",
       "      <td>NaN</td>\n",
       "      <td>NaN</td>\n",
       "      <td>NaN</td>\n",
       "      <td>NaN</td>\n",
       "      <td>NaN</td>\n",
       "      <td>NaN</td>\n",
       "      <td>NaN</td>\n",
       "      <td>NaN</td>\n",
       "      <td>NaN</td>\n",
       "      <td>NaN</td>\n",
       "      <td>NaN</td>\n",
       "      <td>NaN</td>\n",
       "      <td>NaN</td>\n",
       "      <td>NaN</td>\n",
       "      <td>NaN</td>\n",
       "      <td>NaN</td>\n",
       "      <td>NaN</td>\n",
       "      <td>NaN</td>\n",
       "      <td>NaN</td>\n",
       "      <td>NaN</td>\n",
       "      <td>NaN</td>\n",
       "      <td>NaN</td>\n",
       "      <td>NaN</td>\n",
       "      <td>NaN</td>\n",
       "      <td>NaN</td>\n",
       "      <td>NaN</td>\n",
       "      <td>NaN</td>\n",
       "      <td>NaN</td>\n",
       "      <td>NaN</td>\n",
       "      <td>NaN</td>\n",
       "      <td>NaN</td>\n",
       "    </tr>\n",
       "    <tr>\n",
       "      <th>jo20201077113</th>\n",
       "      <td>None</td>\n",
       "      <td>None</td>\n",
       "      <td>[1805]</td>\n",
       "      <td>[1865]</td>\n",
       "      <td>[jo20201077113]</td>\n",
       "      <td>[Usoz y Río, Luis de,]</td>\n",
       "      <td>[1805-1865]</td>\n",
       "      <td>[1]</td>\n",
       "      <td>None</td>\n",
       "      <td>None</td>\n",
       "      <td>None</td>\n",
       "      <td>[Španělsko]</td>\n",
       "      <td>None</td>\n",
       "      <td>None</td>\n",
       "      <td>None</td>\n",
       "      <td>[hebraisté, právníci, vysokoškolští učitelé, s...</td>\n",
       "      <td>[muž]</td>\n",
       "      <td>[spa, heb]</td>\n",
       "      <td>[Usoz i Río, Luis de,, Usoz Río, Luis de,, Uso...</td>\n",
       "      <td>[1805-1865, 1805-1865, 1805-1865]</td>\n",
       "      <td>None</td>\n",
       "      <td>[1, 1, 1]</td>\n",
       "      <td>None</td>\n",
       "      <td>None</td>\n",
       "      <td>None</td>\n",
       "      <td>None</td>\n",
       "      <td>None</td>\n",
       "      <td>None</td>\n",
       "      <td>None</td>\n",
       "      <td>None</td>\n",
       "      <td>[Španělský hebraista, právník, spisovatel a vy...</td>\n",
       "      <td>None</td>\n",
       "      <td>nz  a22     n  4500</td>\n",
       "      <td>NaN</td>\n",
       "      <td>NaN</td>\n",
       "      <td>NaN</td>\n",
       "      <td>NaN</td>\n",
       "      <td>NaN</td>\n",
       "      <td>NaN</td>\n",
       "      <td>NaN</td>\n",
       "      <td>NaN</td>\n",
       "      <td>NaN</td>\n",
       "      <td>NaN</td>\n",
       "      <td>NaN</td>\n",
       "      <td>NaN</td>\n",
       "      <td>NaN</td>\n",
       "      <td>NaN</td>\n",
       "      <td>NaN</td>\n",
       "      <td>NaN</td>\n",
       "      <td>NaN</td>\n",
       "      <td>NaN</td>\n",
       "      <td>NaN</td>\n",
       "      <td>NaN</td>\n",
       "      <td>NaN</td>\n",
       "      <td>NaN</td>\n",
       "      <td>NaN</td>\n",
       "      <td>NaN</td>\n",
       "      <td>NaN</td>\n",
       "      <td>NaN</td>\n",
       "      <td>NaN</td>\n",
       "      <td>NaN</td>\n",
       "      <td>NaN</td>\n",
       "      <td>NaN</td>\n",
       "      <td>NaN</td>\n",
       "      <td>NaN</td>\n",
       "      <td>NaN</td>\n",
       "    </tr>\n",
       "    <tr>\n",
       "      <th>uk2013758593</th>\n",
       "      <td>None</td>\n",
       "      <td>None</td>\n",
       "      <td>[1869]</td>\n",
       "      <td>[1962]</td>\n",
       "      <td>[uk2013758593]</td>\n",
       "      <td>[Wissell, Rudolf,]</td>\n",
       "      <td>[1869-1962]</td>\n",
       "      <td>[1]</td>\n",
       "      <td>None</td>\n",
       "      <td>None</td>\n",
       "      <td>None</td>\n",
       "      <td>[Německo]</td>\n",
       "      <td>None</td>\n",
       "      <td>None</td>\n",
       "      <td>None</td>\n",
       "      <td>[politici]</td>\n",
       "      <td>[muž]</td>\n",
       "      <td>[ger]</td>\n",
       "      <td>[Wissel, Rudolf,]</td>\n",
       "      <td>[1869-1962]</td>\n",
       "      <td>None</td>\n",
       "      <td>[1]</td>\n",
       "      <td>None</td>\n",
       "      <td>None</td>\n",
       "      <td>None</td>\n",
       "      <td>None</td>\n",
       "      <td>None</td>\n",
       "      <td>None</td>\n",
       "      <td>None</td>\n",
       "      <td>None</td>\n",
       "      <td>[Německý politik a publicista, autor publikací...</td>\n",
       "      <td>[http://de.wikipedia.org/wiki/Rudolf_Wissell]</td>\n",
       "      <td>cz  a22     n  4500</td>\n",
       "      <td>NaN</td>\n",
       "      <td>NaN</td>\n",
       "      <td>NaN</td>\n",
       "      <td>NaN</td>\n",
       "      <td>NaN</td>\n",
       "      <td>NaN</td>\n",
       "      <td>NaN</td>\n",
       "      <td>NaN</td>\n",
       "      <td>NaN</td>\n",
       "      <td>NaN</td>\n",
       "      <td>NaN</td>\n",
       "      <td>NaN</td>\n",
       "      <td>NaN</td>\n",
       "      <td>NaN</td>\n",
       "      <td>NaN</td>\n",
       "      <td>NaN</td>\n",
       "      <td>NaN</td>\n",
       "      <td>NaN</td>\n",
       "      <td>NaN</td>\n",
       "      <td>NaN</td>\n",
       "      <td>NaN</td>\n",
       "      <td>NaN</td>\n",
       "      <td>NaN</td>\n",
       "      <td>NaN</td>\n",
       "      <td>NaN</td>\n",
       "      <td>NaN</td>\n",
       "      <td>NaN</td>\n",
       "      <td>NaN</td>\n",
       "      <td>NaN</td>\n",
       "      <td>NaN</td>\n",
       "      <td>NaN</td>\n",
       "      <td>NaN</td>\n",
       "      <td>NaN</td>\n",
       "    </tr>\n",
       "    <tr>\n",
       "      <th>xx0067284</th>\n",
       "      <td>None</td>\n",
       "      <td>None</td>\n",
       "      <td>None</td>\n",
       "      <td>None</td>\n",
       "      <td>[xx0067284]</td>\n",
       "      <td>[Solan, Karel]</td>\n",
       "      <td>None</td>\n",
       "      <td>[1]</td>\n",
       "      <td>None</td>\n",
       "      <td>None</td>\n",
       "      <td>None</td>\n",
       "      <td>[Česko]</td>\n",
       "      <td>None</td>\n",
       "      <td>None</td>\n",
       "      <td>None</td>\n",
       "      <td>None</td>\n",
       "      <td>None</td>\n",
       "      <td>None</td>\n",
       "      <td>None</td>\n",
       "      <td>None</td>\n",
       "      <td>None</td>\n",
       "      <td>None</td>\n",
       "      <td>None</td>\n",
       "      <td>None</td>\n",
       "      <td>None</td>\n",
       "      <td>None</td>\n",
       "      <td>None</td>\n",
       "      <td>None</td>\n",
       "      <td>None</td>\n",
       "      <td>None</td>\n",
       "      <td>[Autor detektivky.]</td>\n",
       "      <td>None</td>\n",
       "      <td>nz  a22     n  4500</td>\n",
       "      <td>NaN</td>\n",
       "      <td>NaN</td>\n",
       "      <td>NaN</td>\n",
       "      <td>NaN</td>\n",
       "      <td>NaN</td>\n",
       "      <td>NaN</td>\n",
       "      <td>NaN</td>\n",
       "      <td>NaN</td>\n",
       "      <td>NaN</td>\n",
       "      <td>NaN</td>\n",
       "      <td>NaN</td>\n",
       "      <td>NaN</td>\n",
       "      <td>NaN</td>\n",
       "      <td>NaN</td>\n",
       "      <td>NaN</td>\n",
       "      <td>NaN</td>\n",
       "      <td>NaN</td>\n",
       "      <td>NaN</td>\n",
       "      <td>NaN</td>\n",
       "      <td>NaN</td>\n",
       "      <td>NaN</td>\n",
       "      <td>NaN</td>\n",
       "      <td>NaN</td>\n",
       "      <td>NaN</td>\n",
       "      <td>NaN</td>\n",
       "      <td>NaN</td>\n",
       "      <td>NaN</td>\n",
       "      <td>NaN</td>\n",
       "      <td>NaN</td>\n",
       "      <td>NaN</td>\n",
       "      <td>NaN</td>\n",
       "      <td>NaN</td>\n",
       "      <td>NaN</td>\n",
       "    </tr>\n",
       "    <tr>\n",
       "      <th>jo2015883244</th>\n",
       "      <td>None</td>\n",
       "      <td>None</td>\n",
       "      <td>[1906]</td>\n",
       "      <td>[1944]</td>\n",
       "      <td>[jo2015883244]</td>\n",
       "      <td>[Pražský, V.,]</td>\n",
       "      <td>[1906-asi 1944]</td>\n",
       "      <td>[1]</td>\n",
       "      <td>None</td>\n",
       "      <td>[Vápenný Podol, Česko]</td>\n",
       "      <td>[Osvětim, Polsko]</td>\n",
       "      <td>[Česko]</td>\n",
       "      <td>None</td>\n",
       "      <td>None</td>\n",
       "      <td>None</td>\n",
       "      <td>[novináři, spisovatelé]</td>\n",
       "      <td>[muž]</td>\n",
       "      <td>[cze]</td>\n",
       "      <td>None</td>\n",
       "      <td>None</td>\n",
       "      <td>None</td>\n",
       "      <td>None</td>\n",
       "      <td>None</td>\n",
       "      <td>None</td>\n",
       "      <td>None</td>\n",
       "      <td>None</td>\n",
       "      <td>[Práger, Vilém,]</td>\n",
       "      <td>[Skutečné jméno:]</td>\n",
       "      <td>[1]</td>\n",
       "      <td>None</td>\n",
       "      <td>[Narozen 9. 6. 1906 ve Vápenném Podole, zemřel...</td>\n",
       "      <td>None</td>\n",
       "      <td>nz  a22     n  4500</td>\n",
       "      <td>Q95477305</td>\n",
       "      <td>None</td>\n",
       "      <td>None</td>\n",
       "      <td>None</td>\n",
       "      <td>None</td>\n",
       "      <td>[]</td>\n",
       "      <td>Vilém Práger</td>\n",
       "      <td>Vilém Práger</td>\n",
       "      <td>None</td>\n",
       "      <td>None</td>\n",
       "      <td>None</td>\n",
       "      <td>Narozen 9. 6. 1906 ve Vápenném Podole, zemřel ...</td>\n",
       "      <td>None</td>\n",
       "      <td>None</td>\n",
       "      <td>None</td>\n",
       "      <td>[novinář, redaktor, spisovatel]</td>\n",
       "      <td>None</td>\n",
       "      <td>None</td>\n",
       "      <td>None</td>\n",
       "      <td>None</td>\n",
       "      <td>None</td>\n",
       "      <td>None</td>\n",
       "      <td>None</td>\n",
       "      <td>muž</td>\n",
       "      <td>[Vápenný Podol]</td>\n",
       "      <td>[Osvětim]</td>\n",
       "      <td>1906.0</td>\n",
       "      <td>+1906-06-09T00:00:00Z</td>\n",
       "      <td>1944.0</td>\n",
       "      <td>+1944-01-01T00:00:00Z</td>\n",
       "      <td>None</td>\n",
       "      <td>None</td>\n",
       "      <td>None</td>\n",
       "    </tr>\n",
       "  </tbody>\n",
       "</table>\n",
       "</div>"
      ],
      "text/plain": [
       "              024_2 024_a_x   046_f   046_g            100_7  \\\n",
       "mzk2006358011  None    None    None    None             None   \n",
       "jo20201077113  None    None  [1805]  [1865]  [jo20201077113]   \n",
       "uk2013758593   None    None  [1869]  [1962]   [uk2013758593]   \n",
       "xx0067284      None    None    None    None      [xx0067284]   \n",
       "jo2015883244   None    None  [1906]  [1944]   [jo2015883244]   \n",
       "\n",
       "                                100_a            100_d 100_ind1 110_a  \\\n",
       "mzk2006358011                    None             None     None  None   \n",
       "jo20201077113  [Usoz y Río, Luis de,]      [1805-1865]      [1]  None   \n",
       "uk2013758593       [Wissell, Rudolf,]      [1869-1962]      [1]  None   \n",
       "xx0067284              [Solan, Karel]             None      [1]  None   \n",
       "jo2015883244           [Pražský, V.,]  [1906-asi 1944]      [1]  None   \n",
       "\n",
       "                                370_a              370_b        370_c 370_f  \\\n",
       "mzk2006358011                    None               None      [Česko]  None   \n",
       "jo20201077113                    None               None  [Španělsko]  None   \n",
       "uk2013758593                     None               None    [Německo]  None   \n",
       "xx0067284                        None               None      [Česko]  None   \n",
       "jo2015883244   [Vápenný Podol, Česko]  [Osvětim, Polsko]      [Česko]  None   \n",
       "\n",
       "                                                           372_a 373_a  \\\n",
       "mzk2006358011  [historické knihovní fondy, vzácné knihovní fo...  None   \n",
       "jo20201077113                                               None  None   \n",
       "uk2013758593                                                None  None   \n",
       "xx0067284                                                   None  None   \n",
       "jo2015883244                                                None  None   \n",
       "\n",
       "                                                           374_a  375_a  \\\n",
       "mzk2006358011                                               None   None   \n",
       "jo20201077113  [hebraisté, právníci, vysokoškolští učitelé, s...  [muž]   \n",
       "uk2013758593                                          [politici]  [muž]   \n",
       "xx0067284                                                   None   None   \n",
       "jo2015883244                             [novináři, spisovatelé]  [muž]   \n",
       "\n",
       "                    377_a                                              400_a  \\\n",
       "mzk2006358011       [cze]                                               None   \n",
       "jo20201077113  [spa, heb]  [Usoz i Río, Luis de,, Usoz Río, Luis de,, Uso...   \n",
       "uk2013758593        [ger]                                  [Wissel, Rudolf,]   \n",
       "xx0067284            None                                               None   \n",
       "jo2015883244        [cze]                                               None   \n",
       "\n",
       "                                           400_d 400_i   400_ind1 410_a 411_a  \\\n",
       "mzk2006358011                               None  None       None  None  None   \n",
       "jo20201077113  [1805-1865, 1805-1865, 1805-1865]  None  [1, 1, 1]  None  None   \n",
       "uk2013758593                         [1869-1962]  None        [1]  None  None   \n",
       "xx0067284                                   None  None       None  None  None   \n",
       "jo2015883244                                None  None       None  None  None   \n",
       "\n",
       "              430_a 450_a             500_a              500_i 500_ind1 550_7  \\\n",
       "mzk2006358011  None  None              None               None     None  None   \n",
       "jo20201077113  None  None              None               None     None  None   \n",
       "uk2013758593   None  None              None               None     None  None   \n",
       "xx0067284      None  None              None               None     None  None   \n",
       "jo2015883244   None  None  [Práger, Vilém,]  [Skutečné jméno:]      [1]  None   \n",
       "\n",
       "                                                           678_a  \\\n",
       "mzk2006358011                                               None   \n",
       "jo20201077113  [Španělský hebraista, právník, spisovatel a vy...   \n",
       "uk2013758593   [Německý politik a publicista, autor publikací...   \n",
       "xx0067284                                    [Autor detektivky.]   \n",
       "jo2015883244   [Narozen 9. 6. 1906 ve Vápenném Podole, zemřel...   \n",
       "\n",
       "                                                       856_u  \\\n",
       "mzk2006358011                                           None   \n",
       "jo20201077113                                           None   \n",
       "uk2013758593   [http://de.wikipedia.org/wiki/Rudolf_Wissell]   \n",
       "xx0067284                                               None   \n",
       "jo2015883244                                            None   \n",
       "\n",
       "                                 leader    024_a_y  ceny druh_umrti facebook  \\\n",
       "mzk2006358011       cz  a22     n  4500        NaN   NaN        NaN      NaN   \n",
       "jo20201077113       nz  a22     n  4500        NaN   NaN        NaN      NaN   \n",
       "uk2013758593        cz  a22     n  4500        NaN   NaN        NaN      NaN   \n",
       "xx0067284           nz  a22     n  4500        NaN   NaN        NaN      NaN   \n",
       "jo2015883244        nz  a22     n  4500  Q95477305  None       None     None   \n",
       "\n",
       "              instagram jazykove_verze      label_cs      label_en manzelstvo  \\\n",
       "mzk2006358011       NaN            NaN           NaN           NaN        NaN   \n",
       "jo20201077113       NaN            NaN           NaN           NaN        NaN   \n",
       "uk2013758593        NaN            NaN           NaN           NaN        NaN   \n",
       "xx0067284           NaN            NaN           NaN           NaN        NaN   \n",
       "jo2015883244       None             []  Vilém Práger  Vilém Práger       None   \n",
       "\n",
       "              obcanstvi partnerstvo  \\\n",
       "mzk2006358011       NaN         NaN   \n",
       "jo20201077113       NaN         NaN   \n",
       "uk2013758593        NaN         NaN   \n",
       "xx0067284           NaN         NaN   \n",
       "jo2015883244       None        None   \n",
       "\n",
       "                                                        popis_cs popis_en  \\\n",
       "mzk2006358011                                                NaN      NaN   \n",
       "jo20201077113                                                NaN      NaN   \n",
       "uk2013758593                                                 NaN      NaN   \n",
       "xx0067284                                                    NaN      NaN   \n",
       "jo2015883244   Narozen 9. 6. 1906 ve Vápenném Podole, zemřel ...     None   \n",
       "\n",
       "              potomstvo pricina_umrti                          profese  role  \\\n",
       "mzk2006358011       NaN           NaN                              NaN   NaN   \n",
       "jo20201077113       NaN           NaN                              NaN   NaN   \n",
       "uk2013758593        NaN           NaN                              NaN   NaN   \n",
       "xx0067284           NaN           NaN                              NaN   NaN   \n",
       "jo2015883244       None          None  [novinář, redaktor, spisovatel]  None   \n",
       "\n",
       "              skoly sourozenectvo strany twitter udalosti vezeni w_gender  \\\n",
       "mzk2006358011   NaN           NaN    NaN     NaN      NaN    NaN      NaN   \n",
       "jo20201077113   NaN           NaN    NaN     NaN      NaN    NaN      NaN   \n",
       "uk2013758593    NaN           NaN    NaN     NaN      NaN    NaN      NaN   \n",
       "xx0067284       NaN           NaN    NaN     NaN      NaN    NaN      NaN   \n",
       "jo2015883244   None          None   None    None     None   None      muž   \n",
       "\n",
       "              w_misto_narozeni w_misto_umrti  w_narozeni  \\\n",
       "mzk2006358011              NaN           NaN         NaN   \n",
       "jo20201077113              NaN           NaN         NaN   \n",
       "uk2013758593               NaN           NaN         NaN   \n",
       "xx0067284                  NaN           NaN         NaN   \n",
       "jo2015883244   [Vápenný Podol]     [Osvětim]      1906.0   \n",
       "\n",
       "                   w_narozeni_presne  w_umrti         w_umrti_presne   web  \\\n",
       "mzk2006358011                    NaN      NaN                    NaN   NaN   \n",
       "jo20201077113                    NaN      NaN                    NaN   NaN   \n",
       "uk2013758593                     NaN      NaN                    NaN   NaN   \n",
       "xx0067284                        NaN      NaN                    NaN   NaN   \n",
       "jo2015883244   +1906-06-09T00:00:00Z   1944.0  +1944-01-01T00:00:00Z  None   \n",
       "\n",
       "              wiki_cs wiki_en  \n",
       "mzk2006358011     NaN     NaN  \n",
       "jo20201077113     NaN     NaN  \n",
       "uk2013758593      NaN     NaN  \n",
       "xx0067284         NaN     NaN  \n",
       "jo2015883244     None    None  "
      ]
     },
     "execution_count": 22,
     "metadata": {},
     "output_type": "execute_result"
    }
   ],
   "source": [
    "autority.sample(5)"
   ]
  },
  {
   "cell_type": "code",
   "execution_count": 23,
   "id": "b6726eb0-8715-49b1-a4f9-09b627e90741",
   "metadata": {},
   "outputs": [
    {
     "data": {
      "text/plain": [
       "Index(['024_2', '024_a_x', '046_f', '046_g', '100_7', '100_a', '100_d',\n",
       "       '100_ind1', '110_a', '370_a', '370_b', '370_c', '370_f', '372_a',\n",
       "       '373_a', '374_a', '375_a', '377_a', '400_a', '400_d', '400_i',\n",
       "       '400_ind1', '410_a', '411_a', '430_a', '450_a', '500_a', '500_i',\n",
       "       '500_ind1', '550_7', '678_a', '856_u', 'leader', '024_a_y', 'ceny',\n",
       "       'druh_umrti', 'facebook', 'instagram', 'jazykove_verze', 'label_cs',\n",
       "       'label_en', 'manzelstvo', 'obcanstvi', 'partnerstvo', 'popis_cs',\n",
       "       'popis_en', 'potomstvo', 'pricina_umrti', 'profese', 'role', 'skoly',\n",
       "       'sourozenectvo', 'strany', 'twitter', 'udalosti', 'vezeni', 'w_gender',\n",
       "       'w_misto_narozeni', 'w_misto_umrti', 'w_narozeni', 'w_narozeni_presne',\n",
       "       'w_umrti', 'w_umrti_presne', 'web', 'wiki_cs', 'wiki_en'],\n",
       "      dtype='object')"
      ]
     },
     "execution_count": 23,
     "metadata": {},
     "output_type": "execute_result"
    }
   ],
   "source": [
    "autority.columns"
   ]
  },
  {
   "cell_type": "code",
   "execution_count": 24,
   "id": "b310540d-40a5-4fec-a3dd-e187903d0ad1",
   "metadata": {},
   "outputs": [],
   "source": [
    "df = df.merge(autority[['w_gender','w_umrti','046_g','375_a']], left_on=\"autorstvo_kod\", right_index=True, how=\"left\")"
   ]
  },
  {
   "cell_type": "code",
   "execution_count": 25,
   "id": "25e2b1ab-504a-4b3e-a4dc-91e55712fae3",
   "metadata": {},
   "outputs": [],
   "source": [
    "df = df[(df['w_umrti'].isnull()) | (df['046_g'].isnull())]"
   ]
  },
  {
   "cell_type": "code",
   "execution_count": 26,
   "id": "459d6e27-4892-44bb-8678-bfb9816c5cea",
   "metadata": {},
   "outputs": [
    {
     "data": {
      "text/html": [
       "<div>\n",
       "<style scoped>\n",
       "    .dataframe tbody tr th:only-of-type {\n",
       "        vertical-align: middle;\n",
       "    }\n",
       "\n",
       "    .dataframe tbody tr th {\n",
       "        vertical-align: top;\n",
       "    }\n",
       "\n",
       "    .dataframe thead th {\n",
       "        text-align: right;\n",
       "    }\n",
       "</style>\n",
       "<table border=\"1\" class=\"dataframe\">\n",
       "  <thead>\n",
       "    <tr style=\"text-align: right;\">\n",
       "      <th></th>\n",
       "      <th>rok</th>\n",
       "      <th>titul</th>\n",
       "      <th>autorstvo</th>\n",
       "      <th>autorstvo_kod</th>\n",
       "      <th>008</th>\n",
       "      <th>020_a</th>\n",
       "      <th>020_c</th>\n",
       "      <th>020_q</th>\n",
       "      <th>041_a</th>\n",
       "      <th>041_h</th>\n",
       "      <th>041_ind1</th>\n",
       "      <th>044_a</th>\n",
       "      <th>072_a</th>\n",
       "      <th>072_x</th>\n",
       "      <th>080_a</th>\n",
       "      <th>100_4</th>\n",
       "      <th>100_7</th>\n",
       "      <th>100_a</th>\n",
       "      <th>100_d</th>\n",
       "      <th>240_l</th>\n",
       "      <th>245_a</th>\n",
       "      <th>245_c</th>\n",
       "      <th>245_n</th>\n",
       "      <th>245_p</th>\n",
       "      <th>246_a</th>\n",
       "      <th>250_a</th>\n",
       "      <th>250_b</th>\n",
       "      <th>260_a</th>\n",
       "      <th>260_b</th>\n",
       "      <th>260_c</th>\n",
       "      <th>260_e</th>\n",
       "      <th>260_f</th>\n",
       "      <th>260_ind1</th>\n",
       "      <th>264_a</th>\n",
       "      <th>264_b</th>\n",
       "      <th>264_c</th>\n",
       "      <th>264_ind2</th>\n",
       "      <th>300_a</th>\n",
       "      <th>300_b</th>\n",
       "      <th>300_c</th>\n",
       "      <th>490_a</th>\n",
       "      <th>490_v</th>\n",
       "      <th>500_a</th>\n",
       "      <th>521_a</th>\n",
       "      <th>546_a</th>\n",
       "      <th>648_a</th>\n",
       "      <th>650_a</th>\n",
       "      <th>650_x</th>\n",
       "      <th>650_y</th>\n",
       "      <th>650_z</th>\n",
       "      <th>651_a</th>\n",
       "      <th>653_a</th>\n",
       "      <th>655_a</th>\n",
       "      <th>700_4</th>\n",
       "      <th>700_7</th>\n",
       "      <th>700_a</th>\n",
       "      <th>700_d</th>\n",
       "      <th>710_4</th>\n",
       "      <th>710_7</th>\n",
       "      <th>710_a</th>\n",
       "      <th>710_b</th>\n",
       "      <th>830_a</th>\n",
       "      <th>928_a</th>\n",
       "      <th>964_a</th>\n",
       "      <th>leader</th>\n",
       "      <th>isbn</th>\n",
       "      <th>w_gender</th>\n",
       "      <th>w_umrti</th>\n",
       "      <th>046_g</th>\n",
       "      <th>375_a</th>\n",
       "    </tr>\n",
       "    <tr>\n",
       "      <th>001</th>\n",
       "      <th></th>\n",
       "      <th></th>\n",
       "      <th></th>\n",
       "      <th></th>\n",
       "      <th></th>\n",
       "      <th></th>\n",
       "      <th></th>\n",
       "      <th></th>\n",
       "      <th></th>\n",
       "      <th></th>\n",
       "      <th></th>\n",
       "      <th></th>\n",
       "      <th></th>\n",
       "      <th></th>\n",
       "      <th></th>\n",
       "      <th></th>\n",
       "      <th></th>\n",
       "      <th></th>\n",
       "      <th></th>\n",
       "      <th></th>\n",
       "      <th></th>\n",
       "      <th></th>\n",
       "      <th></th>\n",
       "      <th></th>\n",
       "      <th></th>\n",
       "      <th></th>\n",
       "      <th></th>\n",
       "      <th></th>\n",
       "      <th></th>\n",
       "      <th></th>\n",
       "      <th></th>\n",
       "      <th></th>\n",
       "      <th></th>\n",
       "      <th></th>\n",
       "      <th></th>\n",
       "      <th></th>\n",
       "      <th></th>\n",
       "      <th></th>\n",
       "      <th></th>\n",
       "      <th></th>\n",
       "      <th></th>\n",
       "      <th></th>\n",
       "      <th></th>\n",
       "      <th></th>\n",
       "      <th></th>\n",
       "      <th></th>\n",
       "      <th></th>\n",
       "      <th></th>\n",
       "      <th></th>\n",
       "      <th></th>\n",
       "      <th></th>\n",
       "      <th></th>\n",
       "      <th></th>\n",
       "      <th></th>\n",
       "      <th></th>\n",
       "      <th></th>\n",
       "      <th></th>\n",
       "      <th></th>\n",
       "      <th></th>\n",
       "      <th></th>\n",
       "      <th></th>\n",
       "      <th></th>\n",
       "      <th></th>\n",
       "      <th></th>\n",
       "      <th></th>\n",
       "      <th></th>\n",
       "      <th></th>\n",
       "      <th></th>\n",
       "      <th></th>\n",
       "      <th></th>\n",
       "    </tr>\n",
       "  </thead>\n",
       "  <tbody>\n",
       "    <tr>\n",
       "      <th>nkc20243600446</th>\n",
       "      <td>2024.0</td>\n",
       "      <td>Nejasné hranice</td>\n",
       "      <td>Domská Marie</td>\n",
       "      <td>xx0216223</td>\n",
       "      <td>240409s2024    xr     g      000 f cze</td>\n",
       "      <td>978-80-275-2013-8</td>\n",
       "      <td>None</td>\n",
       "      <td>[(brožováno)]</td>\n",
       "      <td>None</td>\n",
       "      <td>None</td>\n",
       "      <td>None</td>\n",
       "      <td>None</td>\n",
       "      <td>[821.162.3-3]</td>\n",
       "      <td>[Česká próza]</td>\n",
       "      <td>[821.162.3-31, (0:82-311.9)]</td>\n",
       "      <td>[aut]</td>\n",
       "      <td>xx0216223</td>\n",
       "      <td>Domská, Marie,</td>\n",
       "      <td>1982-</td>\n",
       "      <td>None</td>\n",
       "      <td>Nejasné hranice :</td>\n",
       "      <td>Marie Domská</td>\n",
       "      <td>None</td>\n",
       "      <td>None</td>\n",
       "      <td>None</td>\n",
       "      <td>[První vydání]</td>\n",
       "      <td>None</td>\n",
       "      <td>None</td>\n",
       "      <td>None</td>\n",
       "      <td>None</td>\n",
       "      <td>None</td>\n",
       "      <td>None</td>\n",
       "      <td>None</td>\n",
       "      <td>[Brno :]</td>\n",
       "      <td>[Host,]</td>\n",
       "      <td>[2024]</td>\n",
       "      <td>[1]</td>\n",
       "      <td>[453 stran ;]</td>\n",
       "      <td>None</td>\n",
       "      <td>[21 cm]</td>\n",
       "      <td>None</td>\n",
       "      <td>None</td>\n",
       "      <td>None</td>\n",
       "      <td>None</td>\n",
       "      <td>None</td>\n",
       "      <td>None</td>\n",
       "      <td>None</td>\n",
       "      <td>None</td>\n",
       "      <td>None</td>\n",
       "      <td>None</td>\n",
       "      <td>None</td>\n",
       "      <td>None</td>\n",
       "      <td>[české romány, vědecko-fantastické romány, Cze...</td>\n",
       "      <td>None</td>\n",
       "      <td>None</td>\n",
       "      <td>None</td>\n",
       "      <td>None</td>\n",
       "      <td>None</td>\n",
       "      <td>None</td>\n",
       "      <td>None</td>\n",
       "      <td>None</td>\n",
       "      <td>None</td>\n",
       "      <td>None</td>\n",
       "      <td>None</td>\n",
       "      <td>nam a22      i 4500</td>\n",
       "      <td>9788027520138</td>\n",
       "      <td>žena</td>\n",
       "      <td>NaN</td>\n",
       "      <td>None</td>\n",
       "      <td>[žena]</td>\n",
       "    </tr>\n",
       "    <tr>\n",
       "      <th>nkc20233567393</th>\n",
       "      <td>2023.0</td>\n",
       "      <td>Dlouhý most</td>\n",
       "      <td>Pelíšek Antonín</td>\n",
       "      <td>xx0015543</td>\n",
       "      <td>231122s2023    xr a   g      000 j cze</td>\n",
       "      <td>978-80-264-5055-9</td>\n",
       "      <td>[Kč 299,00]</td>\n",
       "      <td>[(vázáno) :]</td>\n",
       "      <td>None</td>\n",
       "      <td>None</td>\n",
       "      <td>None</td>\n",
       "      <td>None</td>\n",
       "      <td>[821.162.3-3]</td>\n",
       "      <td>[Česká próza]</td>\n",
       "      <td>[821.162.3-32, (0:82-32)]</td>\n",
       "      <td>[aut]</td>\n",
       "      <td>xx0015543</td>\n",
       "      <td>Pelíšek, Antonín,</td>\n",
       "      <td>1952-</td>\n",
       "      <td>None</td>\n",
       "      <td>Dlouhý most /</td>\n",
       "      <td>Antonín Pelíšek</td>\n",
       "      <td>None</td>\n",
       "      <td>None</td>\n",
       "      <td>None</td>\n",
       "      <td>[1. vydání]</td>\n",
       "      <td>None</td>\n",
       "      <td>None</td>\n",
       "      <td>None</td>\n",
       "      <td>None</td>\n",
       "      <td>None</td>\n",
       "      <td>None</td>\n",
       "      <td>None</td>\n",
       "      <td>[V Brně :]</td>\n",
       "      <td>[CPress,]</td>\n",
       "      <td>[2023]</td>\n",
       "      <td>[1]</td>\n",
       "      <td>[142 stran :]</td>\n",
       "      <td>[ilustrace ;]</td>\n",
       "      <td>[22 cm]</td>\n",
       "      <td>None</td>\n",
       "      <td>None</td>\n",
       "      <td>None</td>\n",
       "      <td>None</td>\n",
       "      <td>None</td>\n",
       "      <td>None</td>\n",
       "      <td>None</td>\n",
       "      <td>None</td>\n",
       "      <td>None</td>\n",
       "      <td>None</td>\n",
       "      <td>None</td>\n",
       "      <td>None</td>\n",
       "      <td>[české novely, Czech novellas]</td>\n",
       "      <td>None</td>\n",
       "      <td>None</td>\n",
       "      <td>None</td>\n",
       "      <td>None</td>\n",
       "      <td>None</td>\n",
       "      <td>None</td>\n",
       "      <td>None</td>\n",
       "      <td>None</td>\n",
       "      <td>None</td>\n",
       "      <td>[Albatros Media - CPress]</td>\n",
       "      <td>None</td>\n",
       "      <td>nam a22      i 4500</td>\n",
       "      <td>9788026450559</td>\n",
       "      <td>muž</td>\n",
       "      <td>NaN</td>\n",
       "      <td>None</td>\n",
       "      <td>None</td>\n",
       "    </tr>\n",
       "    <tr>\n",
       "      <th>nkc20213375952</th>\n",
       "      <td>2021.0</td>\n",
       "      <td>Kadanland</td>\n",
       "      <td>Dvořák Stanislav</td>\n",
       "      <td>xx0151297</td>\n",
       "      <td>211123s2021    xr     g      000 f cze</td>\n",
       "      <td>978-80-279-0053-4</td>\n",
       "      <td>None</td>\n",
       "      <td>[(vázáno)]</td>\n",
       "      <td>None</td>\n",
       "      <td>None</td>\n",
       "      <td>None</td>\n",
       "      <td>None</td>\n",
       "      <td>[821.162.3-3]</td>\n",
       "      <td>[Česká próza]</td>\n",
       "      <td>[821.162.3-31, (0:82-312.4)]</td>\n",
       "      <td>[aut]</td>\n",
       "      <td>xx0151297</td>\n",
       "      <td>Dvořák, Stanislav</td>\n",
       "      <td>None</td>\n",
       "      <td>None</td>\n",
       "      <td>Kadanland /</td>\n",
       "      <td>Stanislav Dvořák</td>\n",
       "      <td>None</td>\n",
       "      <td>None</td>\n",
       "      <td>None</td>\n",
       "      <td>[Vydání první]</td>\n",
       "      <td>None</td>\n",
       "      <td>None</td>\n",
       "      <td>None</td>\n",
       "      <td>None</td>\n",
       "      <td>None</td>\n",
       "      <td>None</td>\n",
       "      <td>None</td>\n",
       "      <td>[Brno :]</td>\n",
       "      <td>[MOBA,]</td>\n",
       "      <td>[2021]</td>\n",
       "      <td>[1]</td>\n",
       "      <td>[211 stran ;]</td>\n",
       "      <td>None</td>\n",
       "      <td>[19 cm]</td>\n",
       "      <td>[Původní česká detektivka ;, Krimi]</td>\n",
       "      <td>[351. svazek, None]</td>\n",
       "      <td>None</td>\n",
       "      <td>None</td>\n",
       "      <td>[Český text]</td>\n",
       "      <td>None</td>\n",
       "      <td>None</td>\n",
       "      <td>None</td>\n",
       "      <td>None</td>\n",
       "      <td>None</td>\n",
       "      <td>None</td>\n",
       "      <td>None</td>\n",
       "      <td>[české romány, detektivní romány, Czech fictio...</td>\n",
       "      <td>None</td>\n",
       "      <td>None</td>\n",
       "      <td>None</td>\n",
       "      <td>None</td>\n",
       "      <td>None</td>\n",
       "      <td>None</td>\n",
       "      <td>None</td>\n",
       "      <td>None</td>\n",
       "      <td>[Původní česká detektivka, Krimi (MOBA)]</td>\n",
       "      <td>None</td>\n",
       "      <td>None</td>\n",
       "      <td>nam a22      i 4500</td>\n",
       "      <td>9788027900534</td>\n",
       "      <td>None</td>\n",
       "      <td>NaN</td>\n",
       "      <td>None</td>\n",
       "      <td>None</td>\n",
       "    </tr>\n",
       "    <tr>\n",
       "      <th>nkc20243603771</th>\n",
       "      <td>2024.0</td>\n",
       "      <td>Svátek hada</td>\n",
       "      <td>Hlavinková Lucie</td>\n",
       "      <td>xx0212699</td>\n",
       "      <td>240503s2024    xr     g      000 f cze</td>\n",
       "      <td>978-80-267-2643-2</td>\n",
       "      <td>None</td>\n",
       "      <td>[(vázáno)]</td>\n",
       "      <td>None</td>\n",
       "      <td>None</td>\n",
       "      <td>None</td>\n",
       "      <td>None</td>\n",
       "      <td>[821.162.3-3]</td>\n",
       "      <td>[Česká próza]</td>\n",
       "      <td>[821.162.3-31, (0:82-311.6)]</td>\n",
       "      <td>[aut]</td>\n",
       "      <td>xx0212699</td>\n",
       "      <td>Hlavinková, Lucie,</td>\n",
       "      <td>1974-</td>\n",
       "      <td>None</td>\n",
       "      <td>Svátek hada /</td>\n",
       "      <td>Lucie Hlavinková</td>\n",
       "      <td>None</td>\n",
       "      <td>None</td>\n",
       "      <td>None</td>\n",
       "      <td>[1. vydání]</td>\n",
       "      <td>None</td>\n",
       "      <td>None</td>\n",
       "      <td>None</td>\n",
       "      <td>None</td>\n",
       "      <td>None</td>\n",
       "      <td>None</td>\n",
       "      <td>None</td>\n",
       "      <td>[V Praze :]</td>\n",
       "      <td>[Motto,]</td>\n",
       "      <td>[2024]</td>\n",
       "      <td>[1]</td>\n",
       "      <td>[224 stran ;]</td>\n",
       "      <td>None</td>\n",
       "      <td>[22 cm]</td>\n",
       "      <td>None</td>\n",
       "      <td>None</td>\n",
       "      <td>None</td>\n",
       "      <td>None</td>\n",
       "      <td>None</td>\n",
       "      <td>None</td>\n",
       "      <td>None</td>\n",
       "      <td>None</td>\n",
       "      <td>None</td>\n",
       "      <td>None</td>\n",
       "      <td>None</td>\n",
       "      <td>None</td>\n",
       "      <td>[české romány, historické romány, Czech fictio...</td>\n",
       "      <td>None</td>\n",
       "      <td>None</td>\n",
       "      <td>None</td>\n",
       "      <td>None</td>\n",
       "      <td>None</td>\n",
       "      <td>None</td>\n",
       "      <td>None</td>\n",
       "      <td>None</td>\n",
       "      <td>None</td>\n",
       "      <td>[Albatros Media - Motto]</td>\n",
       "      <td>None</td>\n",
       "      <td>nam a22      i 4500</td>\n",
       "      <td>9788026726432</td>\n",
       "      <td>žena</td>\n",
       "      <td>NaN</td>\n",
       "      <td>None</td>\n",
       "      <td>[žena]</td>\n",
       "    </tr>\n",
       "    <tr>\n",
       "      <th>nkc20243624377</th>\n",
       "      <td>2024.0</td>\n",
       "      <td>Královna Viola</td>\n",
       "      <td>Denková Melita</td>\n",
       "      <td>jn20020716688</td>\n",
       "      <td>240726s2024    xr     g      000 fbcze</td>\n",
       "      <td>978-80-7695-192-1</td>\n",
       "      <td>None</td>\n",
       "      <td>[(vázáno)]</td>\n",
       "      <td>None</td>\n",
       "      <td>None</td>\n",
       "      <td>None</td>\n",
       "      <td>None</td>\n",
       "      <td>[821.162.3-3, 929]</td>\n",
       "      <td>[Česká próza, Biografie]</td>\n",
       "      <td>[821.162.3-31, 929.731-055.2, 929.731-058.833,...</td>\n",
       "      <td>[aut]</td>\n",
       "      <td>jn20020716688</td>\n",
       "      <td>Denková, Melita,</td>\n",
       "      <td>1951-</td>\n",
       "      <td>None</td>\n",
       "      <td>Královna Viola :</td>\n",
       "      <td>Melita Denková</td>\n",
       "      <td>None</td>\n",
       "      <td>None</td>\n",
       "      <td>None</td>\n",
       "      <td>[Vydání první]</td>\n",
       "      <td>None</td>\n",
       "      <td>None</td>\n",
       "      <td>None</td>\n",
       "      <td>None</td>\n",
       "      <td>None</td>\n",
       "      <td>None</td>\n",
       "      <td>None</td>\n",
       "      <td>[Frýdek-Místek :]</td>\n",
       "      <td>[Alpress,]</td>\n",
       "      <td>[2024]</td>\n",
       "      <td>[1]</td>\n",
       "      <td>[232 stran ;]</td>\n",
       "      <td>None</td>\n",
       "      <td>[21 cm]</td>\n",
       "      <td>[Klokan]</td>\n",
       "      <td>None</td>\n",
       "      <td>None</td>\n",
       "      <td>None</td>\n",
       "      <td>None</td>\n",
       "      <td>[14. století, 1290-1317]</td>\n",
       "      <td>[panovnice, manželky panovníků, queens and emp...</td>\n",
       "      <td>None</td>\n",
       "      <td>[14. století, 14. století, 14th century, 14th ...</td>\n",
       "      <td>[Česko, Česko, Czechia, Czechia]</td>\n",
       "      <td>None</td>\n",
       "      <td>None</td>\n",
       "      <td>[české romány, historické romány, Czech fictio...</td>\n",
       "      <td>None</td>\n",
       "      <td>None</td>\n",
       "      <td>None</td>\n",
       "      <td>None</td>\n",
       "      <td>None</td>\n",
       "      <td>None</td>\n",
       "      <td>None</td>\n",
       "      <td>None</td>\n",
       "      <td>[Klokan (Alpress)]</td>\n",
       "      <td>None</td>\n",
       "      <td>None</td>\n",
       "      <td>nam a22      i 4500</td>\n",
       "      <td>9788076951921</td>\n",
       "      <td>žena</td>\n",
       "      <td>NaN</td>\n",
       "      <td>None</td>\n",
       "      <td>None</td>\n",
       "    </tr>\n",
       "  </tbody>\n",
       "</table>\n",
       "</div>"
      ],
      "text/plain": [
       "                   rok            titul         autorstvo  autorstvo_kod  \\\n",
       "001                                                                        \n",
       "nkc20243600446  2024.0  Nejasné hranice      Domská Marie      xx0216223   \n",
       "nkc20233567393  2023.0      Dlouhý most   Pelíšek Antonín      xx0015543   \n",
       "nkc20213375952  2021.0        Kadanland  Dvořák Stanislav      xx0151297   \n",
       "nkc20243603771  2024.0      Svátek hada  Hlavinková Lucie      xx0212699   \n",
       "nkc20243624377  2024.0   Královna Viola    Denková Melita  jn20020716688   \n",
       "\n",
       "                                                   008              020_a  \\\n",
       "001                                                                         \n",
       "nkc20243600446  240409s2024    xr     g      000 f cze  978-80-275-2013-8   \n",
       "nkc20233567393  231122s2023    xr a   g      000 j cze  978-80-264-5055-9   \n",
       "nkc20213375952  211123s2021    xr     g      000 f cze  978-80-279-0053-4   \n",
       "nkc20243603771  240503s2024    xr     g      000 f cze  978-80-267-2643-2   \n",
       "nkc20243624377  240726s2024    xr     g      000 fbcze  978-80-7695-192-1   \n",
       "\n",
       "                      020_c          020_q 041_a 041_h 041_ind1 044_a  \\\n",
       "001                                                                     \n",
       "nkc20243600446         None  [(brožováno)]  None  None     None  None   \n",
       "nkc20233567393  [Kč 299,00]   [(vázáno) :]  None  None     None  None   \n",
       "nkc20213375952         None     [(vázáno)]  None  None     None  None   \n",
       "nkc20243603771         None     [(vázáno)]  None  None     None  None   \n",
       "nkc20243624377         None     [(vázáno)]  None  None     None  None   \n",
       "\n",
       "                             072_a                     072_x  \\\n",
       "001                                                            \n",
       "nkc20243600446       [821.162.3-3]             [Česká próza]   \n",
       "nkc20233567393       [821.162.3-3]             [Česká próza]   \n",
       "nkc20213375952       [821.162.3-3]             [Česká próza]   \n",
       "nkc20243603771       [821.162.3-3]             [Česká próza]   \n",
       "nkc20243624377  [821.162.3-3, 929]  [Česká próza, Biografie]   \n",
       "\n",
       "                                                            080_a  100_4  \\\n",
       "001                                                                        \n",
       "nkc20243600446                       [821.162.3-31, (0:82-311.9)]  [aut]   \n",
       "nkc20233567393                          [821.162.3-32, (0:82-32)]  [aut]   \n",
       "nkc20213375952                       [821.162.3-31, (0:82-312.4)]  [aut]   \n",
       "nkc20243603771                       [821.162.3-31, (0:82-311.6)]  [aut]   \n",
       "nkc20243624377  [821.162.3-31, 929.731-055.2, 929.731-058.833,...  [aut]   \n",
       "\n",
       "                        100_7               100_a  100_d 240_l  \\\n",
       "001                                                              \n",
       "nkc20243600446      xx0216223      Domská, Marie,  1982-  None   \n",
       "nkc20233567393      xx0015543   Pelíšek, Antonín,  1952-  None   \n",
       "nkc20213375952      xx0151297   Dvořák, Stanislav   None  None   \n",
       "nkc20243603771      xx0212699  Hlavinková, Lucie,  1974-  None   \n",
       "nkc20243624377  jn20020716688    Denková, Melita,  1951-  None   \n",
       "\n",
       "                            245_a             245_c 245_n 245_p 246_a  \\\n",
       "001                                                                     \n",
       "nkc20243600446  Nejasné hranice :      Marie Domská  None  None  None   \n",
       "nkc20233567393      Dlouhý most /   Antonín Pelíšek  None  None  None   \n",
       "nkc20213375952        Kadanland /  Stanislav Dvořák  None  None  None   \n",
       "nkc20243603771      Svátek hada /  Lucie Hlavinková  None  None  None   \n",
       "nkc20243624377   Královna Viola :    Melita Denková  None  None  None   \n",
       "\n",
       "                         250_a 250_b 260_a 260_b 260_c 260_e 260_f 260_ind1  \\\n",
       "001                                                                           \n",
       "nkc20243600446  [První vydání]  None  None  None  None  None  None     None   \n",
       "nkc20233567393     [1. vydání]  None  None  None  None  None  None     None   \n",
       "nkc20213375952  [Vydání první]  None  None  None  None  None  None     None   \n",
       "nkc20243603771     [1. vydání]  None  None  None  None  None  None     None   \n",
       "nkc20243624377  [Vydání první]  None  None  None  None  None  None     None   \n",
       "\n",
       "                            264_a       264_b   264_c 264_ind2          300_a  \\\n",
       "001                                                                             \n",
       "nkc20243600446           [Brno :]     [Host,]  [2024]      [1]  [453 stran ;]   \n",
       "nkc20233567393         [V Brně :]   [CPress,]  [2023]      [1]  [142 stran :]   \n",
       "nkc20213375952           [Brno :]     [MOBA,]  [2021]      [1]  [211 stran ;]   \n",
       "nkc20243603771        [V Praze :]    [Motto,]  [2024]      [1]  [224 stran ;]   \n",
       "nkc20243624377  [Frýdek-Místek :]  [Alpress,]  [2024]      [1]  [232 stran ;]   \n",
       "\n",
       "                        300_b    300_c                                490_a  \\\n",
       "001                                                                           \n",
       "nkc20243600446           None  [21 cm]                                 None   \n",
       "nkc20233567393  [ilustrace ;]  [22 cm]                                 None   \n",
       "nkc20213375952           None  [19 cm]  [Původní česká detektivka ;, Krimi]   \n",
       "nkc20243603771           None  [22 cm]                                 None   \n",
       "nkc20243624377           None  [21 cm]                             [Klokan]   \n",
       "\n",
       "                              490_v 500_a 521_a         546_a  \\\n",
       "001                                                             \n",
       "nkc20243600446                 None  None  None          None   \n",
       "nkc20233567393                 None  None  None          None   \n",
       "nkc20213375952  [351. svazek, None]  None  None  [Český text]   \n",
       "nkc20243603771                 None  None  None          None   \n",
       "nkc20243624377                 None  None  None          None   \n",
       "\n",
       "                                   648_a  \\\n",
       "001                                        \n",
       "nkc20243600446                      None   \n",
       "nkc20233567393                      None   \n",
       "nkc20213375952                      None   \n",
       "nkc20243603771                      None   \n",
       "nkc20243624377  [14. století, 1290-1317]   \n",
       "\n",
       "                                                            650_a 650_x  \\\n",
       "001                                                                       \n",
       "nkc20243600446                                               None  None   \n",
       "nkc20233567393                                               None  None   \n",
       "nkc20213375952                                               None  None   \n",
       "nkc20243603771                                               None  None   \n",
       "nkc20243624377  [panovnice, manželky panovníků, queens and emp...  None   \n",
       "\n",
       "                                                            650_y  \\\n",
       "001                                                                 \n",
       "nkc20243600446                                               None   \n",
       "nkc20233567393                                               None   \n",
       "nkc20213375952                                               None   \n",
       "nkc20243603771                                               None   \n",
       "nkc20243624377  [14. století, 14. století, 14th century, 14th ...   \n",
       "\n",
       "                                           650_z 651_a 653_a  \\\n",
       "001                                                            \n",
       "nkc20243600446                              None  None  None   \n",
       "nkc20233567393                              None  None  None   \n",
       "nkc20213375952                              None  None  None   \n",
       "nkc20243603771                              None  None  None   \n",
       "nkc20243624377  [Česko, Česko, Czechia, Czechia]  None  None   \n",
       "\n",
       "                                                            655_a 700_4 700_7  \\\n",
       "001                                                                             \n",
       "nkc20243600446  [české romány, vědecko-fantastické romány, Cze...  None  None   \n",
       "nkc20233567393                     [české novely, Czech novellas]  None  None   \n",
       "nkc20213375952  [české romány, detektivní romány, Czech fictio...  None  None   \n",
       "nkc20243603771  [české romány, historické romány, Czech fictio...  None  None   \n",
       "nkc20243624377  [české romány, historické romány, Czech fictio...  None  None   \n",
       "\n",
       "               700_a 700_d 710_4 710_7 710_a 710_b  \\\n",
       "001                                                  \n",
       "nkc20243600446  None  None  None  None  None  None   \n",
       "nkc20233567393  None  None  None  None  None  None   \n",
       "nkc20213375952  None  None  None  None  None  None   \n",
       "nkc20243603771  None  None  None  None  None  None   \n",
       "nkc20243624377  None  None  None  None  None  None   \n",
       "\n",
       "                                                   830_a  \\\n",
       "001                                                        \n",
       "nkc20243600446                                      None   \n",
       "nkc20233567393                                      None   \n",
       "nkc20213375952  [Původní česká detektivka, Krimi (MOBA)]   \n",
       "nkc20243603771                                      None   \n",
       "nkc20243624377                        [Klokan (Alpress)]   \n",
       "\n",
       "                                    928_a 964_a                    leader  \\\n",
       "001                                                                         \n",
       "nkc20243600446                       None  None       nam a22      i 4500   \n",
       "nkc20233567393  [Albatros Media - CPress]  None       nam a22      i 4500   \n",
       "nkc20213375952                       None  None       nam a22      i 4500   \n",
       "nkc20243603771   [Albatros Media - Motto]  None       nam a22      i 4500   \n",
       "nkc20243624377                       None  None       nam a22      i 4500   \n",
       "\n",
       "                         isbn w_gender  w_umrti 046_g   375_a  \n",
       "001                                                            \n",
       "nkc20243600446  9788027520138     žena      NaN  None  [žena]  \n",
       "nkc20233567393  9788026450559      muž      NaN  None    None  \n",
       "nkc20213375952  9788027900534     None      NaN  None    None  \n",
       "nkc20243603771  9788026726432     žena      NaN  None  [žena]  \n",
       "nkc20243624377  9788076951921     žena      NaN  None    None  "
      ]
     },
     "execution_count": 26,
     "metadata": {},
     "output_type": "execute_result"
    }
   ],
   "source": [
    "df.sample(5)"
   ]
  },
  {
   "cell_type": "code",
   "execution_count": 27,
   "id": "cab299f5-5ead-4298-b0a5-1a8ff390b551",
   "metadata": {},
   "outputs": [
    {
     "data": {
      "text/plain": [
       "1328"
      ]
     },
     "execution_count": 27,
     "metadata": {},
     "output_type": "execute_result"
    }
   ],
   "source": [
    "len(df)"
   ]
  },
  {
   "cell_type": "code",
   "execution_count": 28,
   "id": "ce30fee6-14b8-4ab6-8c7c-5e1f7248b74c",
   "metadata": {},
   "outputs": [
    {
     "data": {
      "text/plain": [
       "1279"
      ]
     },
     "execution_count": 28,
     "metadata": {},
     "output_type": "execute_result"
    }
   ],
   "source": [
    "len(df[df['w_gender'].notnull()])"
   ]
  },
  {
   "cell_type": "code",
   "execution_count": 29,
   "id": "159c0edb-5d47-4a39-a25c-67f272b42b4a",
   "metadata": {},
   "outputs": [],
   "source": [
    "def tri_gendery(trisedmpeta, gender_wikidata, autors):\n",
    "    z = None\n",
    "    if (str(autors).split(\" \")[0][-1] == 'á'):\n",
    "        z = 'á'\n",
    "    else:\n",
    "        z = 'neá'\n",
    "    if gender_wikidata in (['muž','žena']):\n",
    "        z = gender_wikidata\n",
    "    try:\n",
    "        for y in trisedmpeta:\n",
    "            z = y\n",
    "    except:\n",
    "        pass\n",
    "    return z"
   ]
  },
  {
   "cell_type": "code",
   "execution_count": 30,
   "id": "e27521d1-89ac-41ba-9a56-c77a65915320",
   "metadata": {},
   "outputs": [],
   "source": [
    "df['gender'] = df.apply(lambda row: tri_gendery(row['375_a'],row['w_gender'],row['autorstvo']), axis=1)"
   ]
  },
  {
   "cell_type": "code",
   "execution_count": 31,
   "id": "650c1477-0690-43d7-827f-de4341202a23",
   "metadata": {},
   "outputs": [
    {
     "data": {
      "text/html": [
       "<div>\n",
       "<style scoped>\n",
       "    .dataframe tbody tr th:only-of-type {\n",
       "        vertical-align: middle;\n",
       "    }\n",
       "\n",
       "    .dataframe tbody tr th {\n",
       "        vertical-align: top;\n",
       "    }\n",
       "\n",
       "    .dataframe thead th {\n",
       "        text-align: right;\n",
       "    }\n",
       "</style>\n",
       "<table border=\"1\" class=\"dataframe\">\n",
       "  <thead>\n",
       "    <tr style=\"text-align: right;\">\n",
       "      <th></th>\n",
       "      <th>autorstvo</th>\n",
       "      <th>w_gender</th>\n",
       "      <th>375_a</th>\n",
       "      <th>gender</th>\n",
       "    </tr>\n",
       "    <tr>\n",
       "      <th>001</th>\n",
       "      <th></th>\n",
       "      <th></th>\n",
       "      <th></th>\n",
       "      <th></th>\n",
       "    </tr>\n",
       "  </thead>\n",
       "  <tbody>\n",
       "    <tr>\n",
       "      <th>nkc20193158828</th>\n",
       "      <td>Vondruška Vlastimil</td>\n",
       "      <td>muž</td>\n",
       "      <td>[muž]</td>\n",
       "      <td>muž</td>\n",
       "    </tr>\n",
       "    <tr>\n",
       "      <th>nkc20243642899</th>\n",
       "      <td>Shy Alice</td>\n",
       "      <td>žena</td>\n",
       "      <td>[žena]</td>\n",
       "      <td>žena</td>\n",
       "    </tr>\n",
       "    <tr>\n",
       "      <th>nkc20193158538</th>\n",
       "      <td>Krčmář Milan</td>\n",
       "      <td>muž</td>\n",
       "      <td>None</td>\n",
       "      <td>muž</td>\n",
       "    </tr>\n",
       "    <tr>\n",
       "      <th>nkc20193162052</th>\n",
       "      <td>Vostrý Mirek</td>\n",
       "      <td>muž</td>\n",
       "      <td>[muž]</td>\n",
       "      <td>muž</td>\n",
       "    </tr>\n",
       "    <tr>\n",
       "      <th>nkc20193162055</th>\n",
       "      <td>Rollingerová-Riba Romana</td>\n",
       "      <td>žena</td>\n",
       "      <td>None</td>\n",
       "      <td>žena</td>\n",
       "    </tr>\n",
       "    <tr>\n",
       "      <th>...</th>\n",
       "      <td>...</td>\n",
       "      <td>...</td>\n",
       "      <td>...</td>\n",
       "      <td>...</td>\n",
       "    </tr>\n",
       "    <tr>\n",
       "      <th>nkc20243607607</th>\n",
       "      <td>Kořínek Václav</td>\n",
       "      <td>muž</td>\n",
       "      <td>[muž]</td>\n",
       "      <td>muž</td>\n",
       "    </tr>\n",
       "    <tr>\n",
       "      <th>nkc20243607374</th>\n",
       "      <td>Kostka Karel</td>\n",
       "      <td>muž</td>\n",
       "      <td>None</td>\n",
       "      <td>muž</td>\n",
       "    </tr>\n",
       "    <tr>\n",
       "      <th>nkc20243607405</th>\n",
       "      <td>Neff Ondřej</td>\n",
       "      <td>muž</td>\n",
       "      <td>None</td>\n",
       "      <td>muž</td>\n",
       "    </tr>\n",
       "    <tr>\n",
       "      <th>nkc20243608109</th>\n",
       "      <td>Klimek Hynek</td>\n",
       "      <td>muž</td>\n",
       "      <td>None</td>\n",
       "      <td>muž</td>\n",
       "    </tr>\n",
       "    <tr>\n",
       "      <th>nkc20243608154</th>\n",
       "      <td>Heteša Petr</td>\n",
       "      <td>muž</td>\n",
       "      <td>[muž]</td>\n",
       "      <td>muž</td>\n",
       "    </tr>\n",
       "  </tbody>\n",
       "</table>\n",
       "<p>1328 rows × 4 columns</p>\n",
       "</div>"
      ],
      "text/plain": [
       "                               autorstvo w_gender   375_a gender\n",
       "001                                                             \n",
       "nkc20193158828       Vondruška Vlastimil      muž   [muž]    muž\n",
       "nkc20243642899                 Shy Alice     žena  [žena]   žena\n",
       "nkc20193158538              Krčmář Milan      muž    None    muž\n",
       "nkc20193162052              Vostrý Mirek      muž   [muž]    muž\n",
       "nkc20193162055  Rollingerová-Riba Romana     žena    None   žena\n",
       "...                                  ...      ...     ...    ...\n",
       "nkc20243607607            Kořínek Václav      muž   [muž]    muž\n",
       "nkc20243607374              Kostka Karel      muž    None    muž\n",
       "nkc20243607405               Neff Ondřej      muž    None    muž\n",
       "nkc20243608109              Klimek Hynek      muž    None    muž\n",
       "nkc20243608154               Heteša Petr      muž   [muž]    muž\n",
       "\n",
       "[1328 rows x 4 columns]"
      ]
     },
     "execution_count": 31,
     "metadata": {},
     "output_type": "execute_result"
    }
   ],
   "source": [
    "df[['autorstvo','w_gender','375_a','gender']]"
   ]
  },
  {
   "cell_type": "code",
   "execution_count": 32,
   "id": "2e286333-77fa-4e15-a94d-23a69b177d24",
   "metadata": {},
   "outputs": [
    {
     "data": {
      "text/html": [
       "<div>\n",
       "<style scoped>\n",
       "    .dataframe tbody tr th:only-of-type {\n",
       "        vertical-align: middle;\n",
       "    }\n",
       "\n",
       "    .dataframe tbody tr th {\n",
       "        vertical-align: top;\n",
       "    }\n",
       "\n",
       "    .dataframe thead th {\n",
       "        text-align: right;\n",
       "    }\n",
       "</style>\n",
       "<table border=\"1\" class=\"dataframe\">\n",
       "  <thead>\n",
       "    <tr style=\"text-align: right;\">\n",
       "      <th></th>\n",
       "      <th>autorstvo</th>\n",
       "      <th>w_gender</th>\n",
       "      <th>375_a</th>\n",
       "      <th>gender</th>\n",
       "    </tr>\n",
       "    <tr>\n",
       "      <th>001</th>\n",
       "      <th></th>\n",
       "      <th></th>\n",
       "      <th></th>\n",
       "      <th></th>\n",
       "    </tr>\n",
       "  </thead>\n",
       "  <tbody>\n",
       "  </tbody>\n",
       "</table>\n",
       "</div>"
      ],
      "text/plain": [
       "Empty DataFrame\n",
       "Columns: [autorstvo, w_gender, 375_a, gender]\n",
       "Index: []"
      ]
     },
     "execution_count": 32,
     "metadata": {},
     "output_type": "execute_result"
    }
   ],
   "source": [
    "df[df['gender'].isnull()][['autorstvo','w_gender','375_a','gender']]"
   ]
  },
  {
   "cell_type": "markdown",
   "id": "627c3fb0-54ca-4d0c-acb0-49a3e198de99",
   "metadata": {},
   "source": [
    "## Příprava knih"
   ]
  },
  {
   "cell_type": "code",
   "execution_count": 34,
   "id": "b2eb4e45-f2d5-42b1-aa4d-569d808a2646",
   "metadata": {},
   "outputs": [],
   "source": [
    "import simplemma"
   ]
  },
  {
   "cell_type": "code",
   "execution_count": 35,
   "id": "20523a67-6c74-4cd9-b0de-5c9b24f2f86a",
   "metadata": {},
   "outputs": [],
   "source": [
    "def remove_non_letters(input_string):\n",
    "        # Define an empty string to store our result\n",
    "        result_string = ''\n",
    "\n",
    "        # Loop through each character in the given string\n",
    "        for character in input_string:\n",
    "            # If the character is a letter or whitespace\n",
    "            if character.isalpha() or character.isspace():\n",
    "                # Include it in our result string\n",
    "                result_string += character\n",
    "\n",
    "        # Return the cleaned string\n",
    "        return result_string"
   ]
  },
  {
   "cell_type": "code",
   "execution_count": 36,
   "id": "58a6bc19-d0f1-4d73-9286-d746b4a6d87e",
   "metadata": {},
   "outputs": [],
   "source": [
    "ukazky = []\n",
    "for i in df[df['gender'].notnull()]['isbn'].to_list():\n",
    "    ukazka = {}\n",
    "    ukazka['isbn'] = i\n",
    "    with open(os.path.join(odkud, f\"{i}.txt\"), 'r', encoding='utf-8') as u:\n",
    "        text = remove_non_letters(u.read().lower().strip().replace('\\n',' ').replace('\\t','').replace('\\xa0',' '))\n",
    "        slova = []\n",
    "        ukazka['rozsah'] = len(text)\n",
    "        for t in [t for t in text.split(' ') if len(t) > 2]:\n",
    "            slova.append(simplemma.lemmatize(t, lang='cs'))\n",
    "        ukazka['slova'] = set(slova)\n",
    "        if len(set(slova)) > 50:\n",
    "            ukazky.append(ukazka)"
   ]
  },
  {
   "cell_type": "code",
   "execution_count": 37,
   "id": "f7fe2ac1-2e30-4d20-9769-03013301e7f4",
   "metadata": {},
   "outputs": [
    {
     "data": {
      "text/html": [
       "<div>\n",
       "<style scoped>\n",
       "    .dataframe tbody tr th:only-of-type {\n",
       "        vertical-align: middle;\n",
       "    }\n",
       "\n",
       "    .dataframe tbody tr th {\n",
       "        vertical-align: top;\n",
       "    }\n",
       "\n",
       "    .dataframe thead th {\n",
       "        text-align: right;\n",
       "    }\n",
       "</style>\n",
       "<table border=\"1\" class=\"dataframe\">\n",
       "  <thead>\n",
       "    <tr style=\"text-align: right;\">\n",
       "      <th></th>\n",
       "      <th>isbn</th>\n",
       "      <th>rozsah</th>\n",
       "      <th>slova</th>\n",
       "    </tr>\n",
       "  </thead>\n",
       "  <tbody>\n",
       "    <tr>\n",
       "      <th>827</th>\n",
       "      <td>9788027711208</td>\n",
       "      <td>62214</td>\n",
       "      <td>{nebuď, pověřený, naléhala, podstatně, duch, z...</td>\n",
       "    </tr>\n",
       "    <tr>\n",
       "      <th>502</th>\n",
       "      <td>9788076503908</td>\n",
       "      <td>15173</td>\n",
       "      <td>{zavést, sbalit, džíny, duch, chodník, landmar...</td>\n",
       "    </tr>\n",
       "    <tr>\n",
       "      <th>446</th>\n",
       "      <td>9788076503199</td>\n",
       "      <td>46660</td>\n",
       "      <td>{meč, duch, klídek, zaslechnout, jakýsi, roztá...</td>\n",
       "    </tr>\n",
       "    <tr>\n",
       "      <th>718</th>\n",
       "      <td>9788027510481</td>\n",
       "      <td>13158</td>\n",
       "      <td>{jaký, perský, uvrhl, svině, voják, zdát, cari...</td>\n",
       "    </tr>\n",
       "    <tr>\n",
       "      <th>496</th>\n",
       "      <td>9788075882912</td>\n",
       "      <td>33774</td>\n",
       "      <td>{dovolená, pěstit, podstatně, duch, padákového...</td>\n",
       "    </tr>\n",
       "  </tbody>\n",
       "</table>\n",
       "</div>"
      ],
      "text/plain": [
       "              isbn  rozsah                                              slova\n",
       "827  9788027711208   62214  {nebuď, pověřený, naléhala, podstatně, duch, z...\n",
       "502  9788076503908   15173  {zavést, sbalit, džíny, duch, chodník, landmar...\n",
       "446  9788076503199   46660  {meč, duch, klídek, zaslechnout, jakýsi, roztá...\n",
       "718  9788027510481   13158  {jaký, perský, uvrhl, svině, voják, zdát, cari...\n",
       "496  9788075882912   33774  {dovolená, pěstit, podstatně, duch, padákového..."
      ]
     },
     "execution_count": 37,
     "metadata": {},
     "output_type": "execute_result"
    }
   ],
   "source": [
    "mz = pd.DataFrame(ukazky)\n",
    "mz.sample(5)"
   ]
  },
  {
   "cell_type": "code",
   "execution_count": 38,
   "id": "4c2d980c-8f59-433b-995a-6151e6f3e0de",
   "metadata": {},
   "outputs": [],
   "source": [
    "mz = mz.merge(df[['isbn','gender','autorstvo_kod']], left_on='isbn', right_on='isbn', how='left')"
   ]
  },
  {
   "cell_type": "code",
   "execution_count": 39,
   "id": "0c82f636-4b6e-464f-a5f4-7a8450605018",
   "metadata": {},
   "outputs": [
    {
     "data": {
      "text/html": [
       "<div>\n",
       "<style scoped>\n",
       "    .dataframe tbody tr th:only-of-type {\n",
       "        vertical-align: middle;\n",
       "    }\n",
       "\n",
       "    .dataframe tbody tr th {\n",
       "        vertical-align: top;\n",
       "    }\n",
       "\n",
       "    .dataframe thead th {\n",
       "        text-align: right;\n",
       "    }\n",
       "</style>\n",
       "<table border=\"1\" class=\"dataframe\">\n",
       "  <thead>\n",
       "    <tr style=\"text-align: right;\">\n",
       "      <th></th>\n",
       "      <th>isbn</th>\n",
       "      <th>rozsah</th>\n",
       "      <th>slova</th>\n",
       "      <th>gender</th>\n",
       "      <th>autorstvo_kod</th>\n",
       "    </tr>\n",
       "  </thead>\n",
       "  <tbody>\n",
       "    <tr>\n",
       "      <th>0</th>\n",
       "      <td>9788024389059</td>\n",
       "      <td>20745</td>\n",
       "      <td>{podstatně, znával, zaslechnout, supěl, jakýsi...</td>\n",
       "      <td>muž</td>\n",
       "      <td>xx0004129</td>\n",
       "    </tr>\n",
       "    <tr>\n",
       "      <th>1</th>\n",
       "      <td>9788026427896</td>\n",
       "      <td>110563</td>\n",
       "      <td>{potrestat, Evropa, hůl, duch, mojše, jakýsi, ...</td>\n",
       "      <td>muž</td>\n",
       "      <td>jo2012727454</td>\n",
       "    </tr>\n",
       "    <tr>\n",
       "      <th>2</th>\n",
       "      <td>9788088318057</td>\n",
       "      <td>18416</td>\n",
       "      <td>{jaký, usmyslel, zaslechnout, nebožtík, pronés...</td>\n",
       "      <td>muž</td>\n",
       "      <td>mzk2018995176</td>\n",
       "    </tr>\n",
       "    <tr>\n",
       "      <th>3</th>\n",
       "      <td>9788074872792</td>\n",
       "      <td>20802</td>\n",
       "      <td>{pěšák, splývající, iks, kompromitovaná, rozjí...</td>\n",
       "      <td>žena</td>\n",
       "      <td>jo20000075610</td>\n",
       "    </tr>\n",
       "    <tr>\n",
       "      <th>4</th>\n",
       "      <td>9788024389141</td>\n",
       "      <td>16962</td>\n",
       "      <td>{potrestat, povalujíst, vzbudit, vydělat, brno...</td>\n",
       "      <td>muž</td>\n",
       "      <td>xx0122614</td>\n",
       "    </tr>\n",
       "    <tr>\n",
       "      <th>...</th>\n",
       "      <td>...</td>\n",
       "      <td>...</td>\n",
       "      <td>...</td>\n",
       "      <td>...</td>\n",
       "      <td>...</td>\n",
       "    </tr>\n",
       "    <tr>\n",
       "      <th>1293</th>\n",
       "      <td>9788027742691</td>\n",
       "      <td>12455</td>\n",
       "      <td>{hrdina, rozchechtalo, úvod, lampičku, slinivk...</td>\n",
       "      <td>muž</td>\n",
       "      <td>xx0189200</td>\n",
       "    </tr>\n",
       "    <tr>\n",
       "      <th>1294</th>\n",
       "      <td>9788076951822</td>\n",
       "      <td>33056</td>\n",
       "      <td>{rozkoš, duch, intimnosti, důležitý, mytologic...</td>\n",
       "      <td>muž</td>\n",
       "      <td>jo2006362253</td>\n",
       "    </tr>\n",
       "    <tr>\n",
       "      <th>1295</th>\n",
       "      <td>9788075886170</td>\n",
       "      <td>16377</td>\n",
       "      <td>{zakázaný, jištěné, jaký, čucháka, skutečný, k...</td>\n",
       "      <td>muž</td>\n",
       "      <td>jk01082907</td>\n",
       "    </tr>\n",
       "    <tr>\n",
       "      <th>1296</th>\n",
       "      <td>9788027152902</td>\n",
       "      <td>16589</td>\n",
       "      <td>{popadal, vydělat, postup, jaký, usmyslel, roz...</td>\n",
       "      <td>muž</td>\n",
       "      <td>jn20010712010</td>\n",
       "    </tr>\n",
       "    <tr>\n",
       "      <th>1297</th>\n",
       "      <td>9788074565694</td>\n",
       "      <td>60222</td>\n",
       "      <td>{Romo, rafaeli, dovolená, ťuknul, tvořená, šíl...</td>\n",
       "      <td>muž</td>\n",
       "      <td>ola200205577</td>\n",
       "    </tr>\n",
       "  </tbody>\n",
       "</table>\n",
       "<p>1298 rows × 5 columns</p>\n",
       "</div>"
      ],
      "text/plain": [
       "               isbn  rozsah  \\\n",
       "0     9788024389059   20745   \n",
       "1     9788026427896  110563   \n",
       "2     9788088318057   18416   \n",
       "3     9788074872792   20802   \n",
       "4     9788024389141   16962   \n",
       "...             ...     ...   \n",
       "1293  9788027742691   12455   \n",
       "1294  9788076951822   33056   \n",
       "1295  9788075886170   16377   \n",
       "1296  9788027152902   16589   \n",
       "1297  9788074565694   60222   \n",
       "\n",
       "                                                  slova gender  autorstvo_kod  \n",
       "0     {podstatně, znával, zaslechnout, supěl, jakýsi...    muž      xx0004129  \n",
       "1     {potrestat, Evropa, hůl, duch, mojše, jakýsi, ...    muž   jo2012727454  \n",
       "2     {jaký, usmyslel, zaslechnout, nebožtík, pronés...    muž  mzk2018995176  \n",
       "3     {pěšák, splývající, iks, kompromitovaná, rozjí...   žena  jo20000075610  \n",
       "4     {potrestat, povalujíst, vzbudit, vydělat, brno...    muž      xx0122614  \n",
       "...                                                 ...    ...            ...  \n",
       "1293  {hrdina, rozchechtalo, úvod, lampičku, slinivk...    muž      xx0189200  \n",
       "1294  {rozkoš, duch, intimnosti, důležitý, mytologic...    muž   jo2006362253  \n",
       "1295  {zakázaný, jištěné, jaký, čucháka, skutečný, k...    muž     jk01082907  \n",
       "1296  {popadal, vydělat, postup, jaký, usmyslel, roz...    muž  jn20010712010  \n",
       "1297  {Romo, rafaeli, dovolená, ťuknul, tvořená, šíl...    muž   ola200205577  \n",
       "\n",
       "[1298 rows x 5 columns]"
      ]
     },
     "execution_count": 39,
     "metadata": {},
     "output_type": "execute_result"
    }
   ],
   "source": [
    "mz"
   ]
  },
  {
   "cell_type": "markdown",
   "id": "befcb6ec-b6c6-48a1-a69e-11bc5e281f3a",
   "metadata": {},
   "source": [
    "## Základní statistiky (mužská slova >1, ženská slova <1)"
   ]
  },
  {
   "cell_type": "code",
   "execution_count": 41,
   "id": "19ffbc30-92ef-48e9-8dee-d64acf45ff64",
   "metadata": {},
   "outputs": [
    {
     "data": {
      "text/plain": [
       "588"
      ]
     },
     "execution_count": 41,
     "metadata": {},
     "output_type": "execute_result"
    }
   ],
   "source": [
    "len(mz[mz['gender'] == 'muž'])"
   ]
  },
  {
   "cell_type": "code",
   "execution_count": 42,
   "id": "35261856-d813-4734-86c1-af01751fd4a8",
   "metadata": {},
   "outputs": [
    {
     "data": {
      "text/plain": [
       "359"
      ]
     },
     "execution_count": 42,
     "metadata": {},
     "output_type": "execute_result"
    }
   ],
   "source": [
    "mz[mz['gender'] == 'muž']['autorstvo_kod'].nunique()"
   ]
  },
  {
   "cell_type": "code",
   "execution_count": 43,
   "id": "54ef2229-1b77-41df-8854-a6aa42c20dcc",
   "metadata": {},
   "outputs": [
    {
     "data": {
      "text/plain": [
       "676"
      ]
     },
     "execution_count": 43,
     "metadata": {},
     "output_type": "execute_result"
    }
   ],
   "source": [
    "len(mz[mz['gender'] == 'žena'])"
   ]
  },
  {
   "cell_type": "code",
   "execution_count": 44,
   "id": "6ee6367f-01cd-4709-8a99-2ec2d3e09f2a",
   "metadata": {},
   "outputs": [
    {
     "data": {
      "text/plain": [
       "427"
      ]
     },
     "execution_count": 44,
     "metadata": {},
     "output_type": "execute_result"
    }
   ],
   "source": [
    "mz[mz['gender'] == 'žena']['autorstvo_kod'].nunique()"
   ]
  },
  {
   "cell_type": "code",
   "execution_count": 45,
   "id": "4b9c15d4-55a4-42fe-86e4-fe739fdcfaee",
   "metadata": {},
   "outputs": [],
   "source": [
    "mz = mz.drop_duplicates(subset=['autorstvo_kod'], keep=\"last\")"
   ]
  },
  {
   "cell_type": "markdown",
   "id": "908ca628-72a4-497a-976d-16e91b9570a7",
   "metadata": {},
   "source": [
    "Rozsah zkoumaného textu v NS:"
   ]
  },
  {
   "cell_type": "code",
   "execution_count": 47,
   "id": "6480b039-dd7d-4538-ba75-f0082c4192ff",
   "metadata": {},
   "outputs": [
    {
     "data": {
      "text/plain": [
       "12595.685555555556"
      ]
     },
     "execution_count": 47,
     "metadata": {},
     "output_type": "execute_result"
    }
   ],
   "source": [
    "mz['rozsah'].sum() / 1800"
   ]
  },
  {
   "cell_type": "code",
   "execution_count": 48,
   "id": "0bf5705e-b547-422f-8d3b-8f6038edd90a",
   "metadata": {},
   "outputs": [
    {
     "data": {
      "text/plain": [
       "13"
      ]
     },
     "execution_count": 48,
     "metadata": {},
     "output_type": "execute_result"
    }
   ],
   "source": [
    "graf_rozsah = int((mz['rozsah'].sum() / 1800 / 1000).round())\n",
    "graf_rozsah"
   ]
  },
  {
   "cell_type": "code",
   "execution_count": 49,
   "id": "097670bb-ceab-49b4-b93b-d05b94ddc397",
   "metadata": {},
   "outputs": [
    {
     "data": {
      "text/plain": [
       "359"
      ]
     },
     "execution_count": 49,
     "metadata": {},
     "output_type": "execute_result"
    }
   ],
   "source": [
    "graf_muzi = mz[mz['gender'] == 'muž']['autorstvo_kod'].nunique()\n",
    "graf_muzi"
   ]
  },
  {
   "cell_type": "code",
   "execution_count": 50,
   "id": "c1a354d3-130f-4313-a8b5-101fb8ea012d",
   "metadata": {},
   "outputs": [
    {
     "data": {
      "text/plain": [
       "427"
      ]
     },
     "execution_count": 50,
     "metadata": {},
     "output_type": "execute_result"
    }
   ],
   "source": [
    "graf_zeny = mz[mz['gender'] == 'žena']['autorstvo_kod'].nunique()\n",
    "graf_zeny"
   ]
  },
  {
   "cell_type": "markdown",
   "id": "802a0cab-867b-427e-8dc1-9e3335f5b1be",
   "metadata": {},
   "source": [
    "Velikost vzorku celkem:"
   ]
  },
  {
   "cell_type": "code",
   "execution_count": 52,
   "id": "ad6f34a8-6ed2-45e6-a65e-cd99916c6df3",
   "metadata": {},
   "outputs": [
    {
     "data": {
      "text/plain": [
       "786"
      ]
     },
     "execution_count": 52,
     "metadata": {},
     "output_type": "execute_result"
    }
   ],
   "source": [
    "mz[mz['gender'] == 'muž']['autorstvo_kod'].nunique() +mz[mz['gender'] == 'žena']['autorstvo_kod'].nunique()"
   ]
  },
  {
   "cell_type": "code",
   "execution_count": 53,
   "id": "daea6080-e885-4a18-8485-093df78ddd75",
   "metadata": {},
   "outputs": [],
   "source": [
    "mz_slova = mz.explode('slova')"
   ]
  },
  {
   "cell_type": "code",
   "execution_count": 54,
   "id": "1909e549-27c2-48b8-b211-bf97378ae9e6",
   "metadata": {},
   "outputs": [],
   "source": [
    "kolik = mz_slova.groupby(\"slova\").size()"
   ]
  },
  {
   "cell_type": "code",
   "execution_count": 55,
   "id": "db888250-c546-4830-a4aa-b874cb36c61a",
   "metadata": {},
   "outputs": [
    {
     "data": {
      "text/plain": [
       "0.010      1.000\n",
       "0.020      1.000\n",
       "0.100      1.000\n",
       "0.500      1.000\n",
       "0.750      3.000\n",
       "0.900     10.000\n",
       "0.990    152.000\n",
       "0.999    620.743\n",
       "dtype: float64"
      ]
     },
     "execution_count": 55,
     "metadata": {},
     "output_type": "execute_result"
    }
   ],
   "source": [
    "kolik.quantile([0.01, 0.02, 0.1, 0.5, 0.75, 0.9, 0.99, 0.999])"
   ]
  },
  {
   "cell_type": "code",
   "execution_count": 56,
   "id": "8e1dfd59-f84b-4a79-9f3e-ba9c14346989",
   "metadata": {},
   "outputs": [
    {
     "data": {
      "text/plain": [
       "slova\n",
       "Abraham      4\n",
       "Abrahám      4\n",
       "Achilles     1\n",
       "Adam        62\n",
       "Adamec       2\n",
       "            ..\n",
       "שקרן         1\n",
       " září        1\n",
       "  pátek      1\n",
       " který       1\n",
       " patro       1\n",
       "Length: 154258, dtype: int64"
      ]
     },
     "execution_count": 56,
     "metadata": {},
     "output_type": "execute_result"
    }
   ],
   "source": [
    "kolik"
   ]
  },
  {
   "cell_type": "code",
   "execution_count": 57,
   "id": "91814ff7-c3d7-44a5-afa7-3586bf621008",
   "metadata": {},
   "outputs": [
    {
     "data": {
      "text/plain": [
       "48"
      ]
     },
     "execution_count": 57,
     "metadata": {},
     "output_type": "execute_result"
    }
   ],
   "source": [
    "hrana = int(kolik.quantile(0.97))\n",
    "hrana"
   ]
  },
  {
   "cell_type": "code",
   "execution_count": 58,
   "id": "3df66e02-093b-4dbe-8363-59f75f9f2c50",
   "metadata": {},
   "outputs": [
    {
     "name": "stdout",
     "output_type": "stream",
     "text": [
      "slova\n",
      "protočila      0.059471\n",
      "sedávat        0.066079\n",
      "převalovala    0.079294\n",
      "drdol          0.079294\n",
      "nebolelo       0.084958\n",
      "zamumlá        0.084958\n",
      "nezeptala      0.084958\n",
      "vdát           0.084958\n",
      "stesk          0.084958\n",
      "Gabriel        0.084958\n",
      "cpala          0.084958\n",
      "zarytě         0.091493\n",
      "dojíždět       0.091493\n",
      "otrávená       0.091493\n",
      "poskládaný     0.091493\n",
      "mělas          0.091493\n",
      "sáru           0.091493\n",
      "hřebínek       0.091493\n",
      "vstávala       0.091493\n",
      "zasměju        0.091493\n",
      "dtype: float64\n",
      "slova\n",
      "long            11.894150\n",
      "dějový          11.894150\n",
      "Budějovice      11.894150\n",
      "odtržený        11.894150\n",
      "ručit           13.083565\n",
      "vpravdě         13.083565\n",
      "nábojnice       13.083565\n",
      "eknihu          13.083565\n",
      "vyučoval        13.083565\n",
      "zavedený        13.083565\n",
      "Chicago         13.083565\n",
      "lepidlo         13.083565\n",
      "útočný          13.083565\n",
      "formátů         14.272981\n",
      "exil            14.272981\n",
      "kolmo           14.272981\n",
      "rozvinutý       15.462396\n",
      "komerční        15.462396\n",
      "boxer           16.651811\n",
      "zpravodajský    19.030641\n",
      "dtype: float64\n"
     ]
    }
   ],
   "source": [
    "mz_vyfiltrovana = kolik[kolik >= 5].index.to_list()\n",
    "mz_filtr = mz_slova[mz_slova['slova'].isin(mz_vyfiltrovana)]\n",
    "z = mz_filtr[mz_filtr['gender'] == 'žena'].groupby('slova').size().reindex(mz_vyfiltrovana).fillna(1) / mz_filtr[mz_filtr['gender'] == 'žena']['isbn'].nunique()\n",
    "m = mz_filtr[mz_filtr['gender'] == 'muž'].groupby('slova').size().reindex(mz_vyfiltrovana).fillna(1) / mz_filtr[mz_filtr['gender'] == 'muž']['isbn'].nunique()\n",
    "pomer = m / z\n",
    "print(pomer.sort_values().head(20))\n",
    "print(pomer.sort_values().tail(20))"
   ]
  },
  {
   "cell_type": "code",
   "execution_count": 59,
   "id": "bda68a11-662f-4205-9630-3da1d6735a2f",
   "metadata": {},
   "outputs": [
    {
     "name": "stdout",
     "output_type": "stream",
     "text": [
      "slova\n",
      "protočila      0.059471\n",
      "sedávat        0.066079\n",
      "převalovala    0.079294\n",
      "drdol          0.079294\n",
      "nebolelo       0.084958\n",
      "stesk          0.084958\n",
      "cpala          0.084958\n",
      "nezeptala      0.084958\n",
      "Gabriel        0.084958\n",
      "zamumlá        0.084958\n",
      "vdát           0.084958\n",
      "zasměju        0.091493\n",
      "sáru           0.091493\n",
      "otrávená       0.091493\n",
      "dojíždět       0.091493\n",
      "zarytě         0.091493\n",
      "mělas          0.091493\n",
      "poskládaný     0.091493\n",
      "vstávala       0.091493\n",
      "hřebínek       0.091493\n",
      "dtype: float64\n",
      "slova\n",
      "ráže            11.894150\n",
      "wwwargocz       11.894150\n",
      "schválený       11.894150\n",
      "chebu           11.894150\n",
      "eknihu          13.083565\n",
      "útočný          13.083565\n",
      "lepidlo         13.083565\n",
      "vpravdě         13.083565\n",
      "vyučoval        13.083565\n",
      "nábojnice       13.083565\n",
      "zavedený        13.083565\n",
      "Chicago         13.083565\n",
      "ručit           13.083565\n",
      "formátů         14.272981\n",
      "exil            14.272981\n",
      "kolmo           14.272981\n",
      "rozvinutý       15.462396\n",
      "komerční        15.462396\n",
      "boxer           16.651811\n",
      "zpravodajský    19.030641\n",
      "dtype: float64\n"
     ]
    }
   ],
   "source": [
    "mz_vyfiltrovana = kolik[kolik >= 10].index.to_list()\n",
    "mz_filtr = mz_slova[mz_slova['slova'].isin(mz_vyfiltrovana)]\n",
    "z = mz_filtr[mz_filtr['gender'] == 'žena'].groupby('slova').size().reindex(mz_vyfiltrovana).fillna(1) / mz_filtr[mz_filtr['gender'] == 'žena']['isbn'].nunique()\n",
    "m = mz_filtr[mz_filtr['gender'] == 'muž'].groupby('slova').size().reindex(mz_vyfiltrovana).fillna(1) / mz_filtr[mz_filtr['gender'] == 'muž']['isbn'].nunique()\n",
    "pomer = m / z\n",
    "print(pomer.sort_values().head(20))\n",
    "print(pomer.sort_values().tail(20))\n",
    "pomer.sort_values().to_csv(\"data/muzska_zenska_slova_10+.csv\")"
   ]
  },
  {
   "cell_type": "code",
   "execution_count": 60,
   "id": "7491db7b-03c1-40ae-b47e-a1acb4f58e06",
   "metadata": {},
   "outputs": [
    {
     "name": "stdout",
     "output_type": "stream",
     "text": [
      "slova\n",
      "protočila      0.059471\n",
      "pleso          0.099118\n",
      "kosmetička     0.108129\n",
      "nebála         0.113278\n",
      "díkybohu       0.125202\n",
      "rtěnku         0.132157\n",
      "kadeřník       0.148677\n",
      "okřikla        0.162193\n",
      "vykulila       0.169916\n",
      "myčka          0.176210\n",
      "odfrkla        0.176210\n",
      "zalíbený       0.178412\n",
      "převléct       0.178412\n",
      "zabouchla      0.182987\n",
      "babi           0.185020\n",
      "snila          0.185846\n",
      "odhodlaná      0.187802\n",
      "nedivila       0.187802\n",
      "ptají          0.198236\n",
      "zvala          0.198236\n",
      "zrudnout       0.205072\n",
      "natahuje       0.206855\n",
      "nakloní        0.212396\n",
      "netušila       0.222198\n",
      "mateřství      0.223015\n",
      "opáčila        0.223015\n",
      "zamrkala       0.225024\n",
      "rtěnkou        0.226555\n",
      "ležérně        0.226555\n",
      "zajela         0.226555\n",
      "ječela         0.226555\n",
      "stýská         0.226555\n",
      "výstřihu       0.226555\n",
      "pozdravovat    0.226555\n",
      "culík          0.230209\n",
      "nesměla        0.231275\n",
      "ramínko        0.232081\n",
      "vyzvídat       0.237883\n",
      "odhrnula       0.237883\n",
      "uvolněně       0.237883\n",
      "dtype: float64\n",
      "slova\n",
      "norma                3.568245\n",
      "násilný              3.568245\n",
      "fabrika              3.738162\n",
      "promítnout           3.766481\n",
      "železniční           3.766481\n",
      "Čapek                3.766481\n",
      "vybídl               3.806128\n",
      "pilot                3.806128\n",
      "přisunul             3.806128\n",
      "vypálil              3.806128\n",
      "rozhodující          3.806128\n",
      "výuky                3.806128\n",
      "mocnit               3.865599\n",
      "otázal               3.908078\n",
      "působení             3.964717\n",
      "poslanec             3.964717\n",
      "nalézt               4.014276\n",
      "investovat           4.077994\n",
      "křesťan              4.162953\n",
      "ministr              4.229031\n",
      "Karlov               4.247911\n",
      "génius               4.247911\n",
      "spodek               4.281894\n",
      "močit                4.361188\n",
      "charakteristický     4.361188\n",
      "puška                4.493346\n",
      "krajský              4.519777\n",
      "jízdní               4.757660\n",
      "kabině               4.757660\n",
      "měřítko              4.757660\n",
      "přisvědčil           4.757660\n",
      "aparát               4.927577\n",
      "kabiny               4.995543\n",
      "kanada               5.055014\n",
      "demokracie           5.352368\n",
      "básník               5.471309\n",
      "hltal                6.244429\n",
      "člun                 6.740019\n",
      "nabitý               7.136490\n",
      "prapor              10.704735\n",
      "dtype: float64\n"
     ]
    }
   ],
   "source": [
    "mz_vyfiltrovana = kolik[kolik >= 20].index.to_list()\n",
    "mz_filtr = mz_slova[mz_slova['slova'].isin(mz_vyfiltrovana)]\n",
    "z = mz_filtr[mz_filtr['gender'] == 'žena'].groupby('slova').size().reindex(mz_vyfiltrovana).fillna(1) / mz_filtr[mz_filtr['gender'] == 'žena']['isbn'].nunique()\n",
    "m = mz_filtr[mz_filtr['gender'] == 'muž'].groupby('slova').size().reindex(mz_vyfiltrovana).fillna(1) / mz_filtr[mz_filtr['gender'] == 'muž']['isbn'].nunique()\n",
    "pomer = m / z\n",
    "print(pomer.sort_values().head(40))\n",
    "print(pomer.sort_values().tail(40))\n",
    "pomer.sort_values().to_csv(\"data/muzska_zenska_slova_20+.csv\")"
   ]
  },
  {
   "cell_type": "code",
   "execution_count": 61,
   "id": "bd2e0975-dd50-49c9-95fd-6fd628c1083b",
   "metadata": {},
   "outputs": [
    {
     "name": "stdout",
     "output_type": "stream",
     "text": [
      "slova\n",
      "netušila      0.222198\n",
      "kamarádka     0.334523\n",
      "ptala         0.345314\n",
      "četla         0.388847\n",
      "sukně         0.411721\n",
      "brečet        0.466437\n",
      "neřekla       0.487660\n",
      "manželství    0.506385\n",
      "růžový        0.506964\n",
      "hrnek         0.509749\n",
      "vyhovovat     0.517137\n",
      "kabelka       0.518787\n",
      "zvědavě       0.525196\n",
      "hladit        0.528629\n",
      "naštvaný      0.528629\n",
      "kavárna       0.530065\n",
      "trapný        0.533186\n",
      "mléko         0.534569\n",
      "klín          0.540643\n",
      "vařit         0.542743\n",
      "dtype: float64\n",
      "slova\n",
      "kostel       1.784123\n",
      "obsahovat    1.811155\n",
      "vedení       1.811155\n",
      "stavba       1.829869\n",
      "dílo         1.843593\n",
      "údolí        1.846723\n",
      "autor        1.873329\n",
      "národní      1.885658\n",
      "nepřítel     1.893355\n",
      "moce         1.932799\n",
      "úder         1.962535\n",
      "dějiny       1.982358\n",
      "výkon        2.003225\n",
      "vojenský     2.102222\n",
      "armáda       2.104350\n",
      "loď          2.218098\n",
      "Evropa       2.226990\n",
      "státní       2.310864\n",
      "vražda       2.317834\n",
      "motor        2.378830\n",
      "dtype: float64\n"
     ]
    }
   ],
   "source": [
    "mz_vyfiltrovana = kolik[kolik >= 100].index.to_list()\n",
    "mz_filtr = mz_slova[mz_slova['slova'].isin(mz_vyfiltrovana)]\n",
    "z = mz_filtr[mz_filtr['gender'] == 'žena'].groupby('slova').size().reindex(mz_vyfiltrovana).fillna(1) / mz_filtr[mz_filtr['gender'] == 'žena']['isbn'].nunique()\n",
    "m = mz_filtr[mz_filtr['gender'] == 'muž'].groupby('slova').size().reindex(mz_vyfiltrovana).fillna(1) / mz_filtr[mz_filtr['gender'] == 'muž']['isbn'].nunique()\n",
    "pomer = m / z\n",
    "print(pomer.sort_values().head(20))\n",
    "print(pomer.sort_values().tail(20))\n",
    "pomer.sort_values().to_csv(\"data/muzska_zenska_slova_100+.csv\")"
   ]
  },
  {
   "cell_type": "code",
   "execution_count": 62,
   "id": "6cb44a88-c4f3-452b-9c7a-2b4267ff49e9",
   "metadata": {},
   "outputs": [
    {
     "name": "stdout",
     "output_type": "stream",
     "text": [
      "slova\n",
      "babi           0.185020\n",
      "netušila       0.222198\n",
      "zahlédla       0.243983\n",
      "užívala        0.278374\n",
      "pyžamo         0.278374\n",
      "nečekala       0.278769\n",
      "lekla          0.283194\n",
      "salát          0.297354\n",
      "neuměla        0.303184\n",
      "rozhlížela     0.319111\n",
      "ucítila        0.322841\n",
      "kamarádka      0.334523\n",
      "ptala          0.345314\n",
      "miminko        0.348121\n",
      "nestihla       0.354294\n",
      "obývací        0.374445\n",
      "objímat        0.374747\n",
      "přejela        0.376648\n",
      "rande          0.381510\n",
      "zadívala       0.383682\n",
      "vyhrkla        0.387853\n",
      "četla          0.388847\n",
      "chystala       0.396472\n",
      "ordinace       0.396472\n",
      "nešla          0.396472\n",
      "příšerně       0.404907\n",
      "povytáhnout    0.406905\n",
      "sukně          0.411721\n",
      "ušklíbla       0.419794\n",
      "mamka          0.422903\n",
      "svačina        0.424791\n",
      "čokoláda       0.428969\n",
      "zamilovaný     0.430947\n",
      "milá           0.432515\n",
      "nalila         0.435152\n",
      "taneční        0.436928\n",
      "namalovat      0.436928\n",
      "zasyčet        0.436928\n",
      "sexy           0.439566\n",
      "chytla         0.439566\n",
      "dtype: float64\n",
      "slova\n",
      "poctivý          2.253629\n",
      "pětadvacet       2.265552\n",
      "příslušník       2.279712\n",
      "státní           2.310864\n",
      "vesta            2.312751\n",
      "bezpečnost       2.316229\n",
      "vražda           2.317834\n",
      "vnější           2.319359\n",
      "isbn             2.334778\n",
      "motor            2.378830\n",
      "hlášený          2.378830\n",
      "vyhrkl           2.378830\n",
      "kapitán          2.378830\n",
      "znak             2.378830\n",
      "smrtelný         2.426407\n",
      "technický        2.428389\n",
      "lebka            2.430544\n",
      "vývoj            2.435469\n",
      "riziko           2.438301\n",
      "komín            2.444909\n",
      "ohrozit          2.444909\n",
      "západní          2.466935\n",
      "hlídka           2.497772\n",
      "posléze          2.497772\n",
      "zápas            2.510987\n",
      "zvláště          2.510987\n",
      "civilizace       2.541023\n",
      "nepříliš         2.577066\n",
      "zaregistrovat    2.601845\n",
      "střílet          2.662024\n",
      "politik          2.676184\n",
      "služebný         2.691834\n",
      "velet            2.696007\n",
      "vůl              2.750522\n",
      "kulka            2.775302\n",
      "kladivo          2.854596\n",
      "souboj           2.907459\n",
      "ruský            3.067439\n",
      "prezident        3.218417\n",
      "pistole          3.488951\n",
      "dtype: float64\n"
     ]
    }
   ],
   "source": [
    "mz_vyfiltrovana = kolik[kolik >= 50].index.to_list()\n",
    "mz_filtr = mz_slova[mz_slova['slova'].isin(mz_vyfiltrovana)]\n",
    "z = mz_filtr[mz_filtr['gender'] == 'žena'].groupby('slova').size().reindex(mz_vyfiltrovana).fillna(1) / mz_filtr[mz_filtr['gender'] == 'žena']['isbn'].nunique()\n",
    "m = mz_filtr[mz_filtr['gender'] == 'muž'].groupby('slova').size().reindex(mz_vyfiltrovana).fillna(1) / mz_filtr[mz_filtr['gender'] == 'muž']['isbn'].nunique()\n",
    "pomer = m / z\n",
    "print(pomer.sort_values().head(40))\n",
    "print(pomer.sort_values().tail(40))\n",
    "pomer.sort_values().to_csv(\"data/muzska_zenska_slova_50+.csv\")"
   ]
  },
  {
   "cell_type": "markdown",
   "id": "074c19de-f4cd-40a1-ae8e-dd6e60fdb0ab",
   "metadata": {},
   "source": [
    "## Všechna slova bez filtru"
   ]
  },
  {
   "cell_type": "code",
   "execution_count": 64,
   "id": "62ae819a-14cf-4a0c-825d-cce0d0fbf292",
   "metadata": {},
   "outputs": [],
   "source": [
    "z2 = mz[mz['gender'] == 'žena'].explode('slova').groupby('slova').size() / mz_filtr[mz_filtr['gender'] == 'žena']['isbn'].nunique()\n",
    "m2 = mz[mz['gender'] == 'muž'].explode('slova').groupby('slova').size() / mz_filtr[mz_filtr['gender'] == 'muž']['isbn'].nunique()"
   ]
  },
  {
   "cell_type": "code",
   "execution_count": 65,
   "id": "9a9fd9d9-24d8-4a7b-9e6a-f2f8c2d080fe",
   "metadata": {},
   "outputs": [],
   "source": [
    "pomer_vsech = m2 / z2"
   ]
  },
  {
   "cell_type": "code",
   "execution_count": 66,
   "id": "e03cf298-3327-418c-953f-abb4f88a5ed3",
   "metadata": {},
   "outputs": [
    {
     "data": {
      "text/plain": [
       "slova\n",
       "protočila      0.059471\n",
       "sedávat        0.066079\n",
       "drdol          0.079294\n",
       "převalovala    0.079294\n",
       "Gabriel        0.084958\n",
       "nebolelo       0.084958\n",
       "nezeptala      0.084958\n",
       "zamumlá        0.084958\n",
       "cpala          0.084958\n",
       "stesk          0.084958\n",
       "otrávená       0.091493\n",
       "hřebínek       0.091493\n",
       "mělas          0.091493\n",
       "dojíždět       0.091493\n",
       "zasměju        0.091493\n",
       "poskládaný     0.091493\n",
       "vstávala       0.091493\n",
       "uvázala        0.099118\n",
       "uchechtne      0.099118\n",
       "randění        0.099118\n",
       "dtype: float64"
      ]
     },
     "execution_count": 66,
     "metadata": {},
     "output_type": "execute_result"
    }
   ],
   "source": [
    "pomer_vsech.dropna().sort_values().head(20)"
   ]
  },
  {
   "cell_type": "code",
   "execution_count": 67,
   "id": "828502ff-9550-406b-9fa8-38605084ba97",
   "metadata": {},
   "outputs": [
    {
     "data": {
      "text/plain": [
       "slova\n",
       "erekce    9.51532\n",
       "dtype: float64"
      ]
     },
     "execution_count": 67,
     "metadata": {},
     "output_type": "execute_result"
    }
   ],
   "source": [
    "pomer_vsech[pomer_vsech.index == 'erekce']"
   ]
  },
  {
   "cell_type": "code",
   "execution_count": 68,
   "id": "0df99404-3929-46c1-8474-ce14c7d28685",
   "metadata": {},
   "outputs": [
    {
     "data": {
      "text/plain": [
       "slova\n",
       "orgasmus    0.892061\n",
       "dtype: float64"
      ]
     },
     "execution_count": 68,
     "metadata": {},
     "output_type": "execute_result"
    }
   ],
   "source": [
    "pomer_vsech[pomer_vsech.index == 'orgasmus']"
   ]
  },
  {
   "cell_type": "code",
   "execution_count": 69,
   "id": "be9b2ca5-d92e-4eaa-86e7-94140ed16fb8",
   "metadata": {},
   "outputs": [
    {
     "data": {
      "text/plain": [
       "slova\n",
       "pohlazení    0.548961\n",
       "dtype: float64"
      ]
     },
     "execution_count": 69,
     "metadata": {},
     "output_type": "execute_result"
    }
   ],
   "source": [
    "pomer_vsech[pomer_vsech.index == 'pohlazení']"
   ]
  },
  {
   "cell_type": "code",
   "execution_count": 70,
   "id": "38fb9751-8856-434d-873c-9fd18f7913b6",
   "metadata": {},
   "outputs": [
    {
     "data": {
      "text/plain": [
       "slova\n",
       "svázat    0.618496\n",
       "dtype: float64"
      ]
     },
     "execution_count": 70,
     "metadata": {},
     "output_type": "execute_result"
    }
   ],
   "source": [
    "pomer_vsech[pomer_vsech.index == 'svázat']"
   ]
  },
  {
   "cell_type": "code",
   "execution_count": 71,
   "id": "4d740065-60cb-45e8-88d5-887e290144ed",
   "metadata": {},
   "outputs": [
    {
     "data": {
      "text/plain": [
       "slova\n",
       "výprask    1.189415\n",
       "dtype: float64"
      ]
     },
     "execution_count": 71,
     "metadata": {},
     "output_type": "execute_result"
    }
   ],
   "source": [
    "pomer_vsech[pomer_vsech.index == 'výprask']"
   ]
  },
  {
   "cell_type": "code",
   "execution_count": 72,
   "id": "035bbb69-9a33-4871-a357-f64685dfbea1",
   "metadata": {},
   "outputs": [
    {
     "data": {
      "text/plain": [
       "slova\n",
       "naplácat    2.973538\n",
       "dtype: float64"
      ]
     },
     "execution_count": 72,
     "metadata": {},
     "output_type": "execute_result"
    }
   ],
   "source": [
    "pomer_vsech[pomer_vsech.index == 'naplácat']"
   ]
  },
  {
   "cell_type": "code",
   "execution_count": 73,
   "id": "dd1a01d0-379a-4e39-893f-4f36ab27873d",
   "metadata": {},
   "outputs": [
    {
     "data": {
      "text/plain": [
       "slova\n",
       "hnědooký    1.784123\n",
       "dtype: float64"
      ]
     },
     "execution_count": 73,
     "metadata": {},
     "output_type": "execute_result"
    }
   ],
   "source": [
    "pomer_vsech[pomer_vsech.index == 'hnědooký']"
   ]
  },
  {
   "cell_type": "code",
   "execution_count": 74,
   "id": "7b2c935e-9806-4799-9e57-5c7397491090",
   "metadata": {},
   "outputs": [
    {
     "data": {
      "text/plain": [
       "slova\n",
       "modrooký    0.743384\n",
       "dtype: float64"
      ]
     },
     "execution_count": 74,
     "metadata": {},
     "output_type": "execute_result"
    }
   ],
   "source": [
    "pomer_vsech[pomer_vsech.index == 'modrooký']"
   ]
  },
  {
   "cell_type": "code",
   "execution_count": 75,
   "id": "cfc5d217-8148-4863-8d28-17ab9da0fec2",
   "metadata": {},
   "outputs": [
    {
     "data": {
      "text/plain": [
       "slova\n",
       "plešatý    0.634355\n",
       "dtype: float64"
      ]
     },
     "execution_count": 75,
     "metadata": {},
     "output_type": "execute_result"
    }
   ],
   "source": [
    "pomer_vsech[pomer_vsech.index == 'plešatý']"
   ]
  },
  {
   "cell_type": "code",
   "execution_count": 76,
   "id": "a60c0def-071b-4a54-b8e3-21f1552772be",
   "metadata": {},
   "outputs": [
    {
     "data": {
      "text/plain": [
       "slova\n",
       "holohlavý    3.568245\n",
       "dtype: float64"
      ]
     },
     "execution_count": 76,
     "metadata": {},
     "output_type": "execute_result"
    }
   ],
   "source": [
    "pomer_vsech[pomer_vsech.index == 'holohlavý']"
   ]
  },
  {
   "cell_type": "code",
   "execution_count": 77,
   "id": "11dfab81-40d0-46e5-b47d-79cf879fab28",
   "metadata": {},
   "outputs": [
    {
     "data": {
      "text/plain": [
       "slova\n",
       "sex    0.909553\n",
       "dtype: float64"
      ]
     },
     "execution_count": 77,
     "metadata": {},
     "output_type": "execute_result"
    }
   ],
   "source": [
    "pomer_vsech[pomer_vsech.index == 'sex']"
   ]
  },
  {
   "cell_type": "code",
   "execution_count": 78,
   "id": "65cb3042-017d-445d-883c-4f8c73bf26e1",
   "metadata": {},
   "outputs": [
    {
     "data": {
      "text/plain": [
       "slova\n",
       "fiat    2.37883\n",
       "dtype: float64"
      ]
     },
     "execution_count": 78,
     "metadata": {},
     "output_type": "execute_result"
    }
   ],
   "source": [
    "pomer_vsech[pomer_vsech.index == 'fiat']"
   ]
  },
  {
   "cell_type": "code",
   "execution_count": 79,
   "id": "048f9762-80f4-4b00-80af-12ce67454d2c",
   "metadata": {},
   "outputs": [
    {
     "data": {
      "text/plain": [
       "slova\n",
       "kunda    2.37883\n",
       "dtype: float64"
      ]
     },
     "execution_count": 79,
     "metadata": {},
     "output_type": "execute_result"
    }
   ],
   "source": [
    "pomer_vsech[pomer_vsech.index == 'kunda']"
   ]
  },
  {
   "cell_type": "code",
   "execution_count": 80,
   "id": "8b717ef3-53a1-41d0-b9b7-e82406f7d8df",
   "metadata": {},
   "outputs": [
    {
     "data": {
      "text/plain": [
       "slova\n",
       "prdel    1.297544\n",
       "dtype: float64"
      ]
     },
     "execution_count": 80,
     "metadata": {},
     "output_type": "execute_result"
    }
   ],
   "source": [
    "pomer_vsech[pomer_vsech.index == 'prdel']"
   ]
  },
  {
   "cell_type": "code",
   "execution_count": 81,
   "id": "6b3da330-5246-4255-b0db-d4126fec61ef",
   "metadata": {},
   "outputs": [
    {
     "data": {
      "text/plain": [
       "slova\n",
       "hovno    1.158115\n",
       "dtype: float64"
      ]
     },
     "execution_count": 81,
     "metadata": {},
     "output_type": "execute_result"
    }
   ],
   "source": [
    "pomer_vsech[pomer_vsech.index == 'hovno']"
   ]
  },
  {
   "cell_type": "code",
   "execution_count": 82,
   "id": "001e5729-8fb7-4193-a240-393262a3a0b8",
   "metadata": {},
   "outputs": [
    {
     "data": {
      "text/plain": [
       "slova\n",
       "čurák    2.973538\n",
       "dtype: float64"
      ]
     },
     "execution_count": 82,
     "metadata": {},
     "output_type": "execute_result"
    }
   ],
   "source": [
    "pomer_vsech[pomer_vsech.index == 'čurák']"
   ]
  },
  {
   "cell_type": "code",
   "execution_count": 83,
   "id": "5620d237-6038-443f-90d7-70f9dd1d73d7",
   "metadata": {},
   "outputs": [
    {
     "data": {
      "text/plain": [
       "Series([], dtype: float64)"
      ]
     },
     "execution_count": 83,
     "metadata": {},
     "output_type": "execute_result"
    }
   ],
   "source": [
    "pomer_vsech[pomer_vsech.index == 'čůrák']"
   ]
  },
  {
   "cell_type": "code",
   "execution_count": 84,
   "id": "560bdcf7-ef42-46fd-a95b-160489adc480",
   "metadata": {},
   "outputs": [
    {
     "data": {
      "text/plain": [
       "slova\n",
       "svině    7.13649\n",
       "dtype: float64"
      ]
     },
     "execution_count": 84,
     "metadata": {},
     "output_type": "execute_result"
    }
   ],
   "source": [
    "pomer_vsech[pomer_vsech.index == 'svině']"
   ]
  },
  {
   "cell_type": "code",
   "execution_count": 85,
   "id": "82561c28-28b5-43fe-bbda-8229970925d3",
   "metadata": {},
   "outputs": [
    {
     "data": {
      "text/plain": [
       "slova\n",
       "hajzl    1.229062\n",
       "dtype: float64"
      ]
     },
     "execution_count": 85,
     "metadata": {},
     "output_type": "execute_result"
    }
   ],
   "source": [
    "pomer_vsech[pomer_vsech.index == 'hajzl']"
   ]
  },
  {
   "cell_type": "code",
   "execution_count": 86,
   "id": "94dc9e51-5f1d-446b-9b2a-2d925477dc92",
   "metadata": {},
   "outputs": [
    {
     "data": {
      "text/plain": [
       "slova\n",
       "šmejd    4.460306\n",
       "dtype: float64"
      ]
     },
     "execution_count": 86,
     "metadata": {},
     "output_type": "execute_result"
    }
   ],
   "source": [
    "pomer_vsech[pomer_vsech.index == 'šmejd']"
   ]
  },
  {
   "cell_type": "code",
   "execution_count": 87,
   "id": "4f7eb3a7-bfce-4e17-9740-74188c9274ed",
   "metadata": {},
   "outputs": [
    {
     "data": {
      "text/plain": [
       "slova\n",
       "potvora    0.699656\n",
       "dtype: float64"
      ]
     },
     "execution_count": 87,
     "metadata": {},
     "output_type": "execute_result"
    }
   ],
   "source": [
    "pomer_vsech[pomer_vsech.index == 'potvora']"
   ]
  },
  {
   "cell_type": "code",
   "execution_count": 88,
   "id": "f18096ea-ffee-4d5f-b826-afacd79be1a3",
   "metadata": {},
   "outputs": [
    {
     "data": {
      "text/plain": [
       "slova\n",
       "píča    1.665181\n",
       "dtype: float64"
      ]
     },
     "execution_count": 88,
     "metadata": {},
     "output_type": "execute_result"
    }
   ],
   "source": [
    "pomer_vsech[pomer_vsech.index == 'píča']"
   ]
  },
  {
   "cell_type": "code",
   "execution_count": 89,
   "id": "d695a6b4-d38c-46ee-b696-58b9a0034f91",
   "metadata": {},
   "outputs": [
    {
     "data": {
      "text/plain": [
       "slova\n",
       "piča    0.892061\n",
       "dtype: float64"
      ]
     },
     "execution_count": 89,
     "metadata": {},
     "output_type": "execute_result"
    }
   ],
   "source": [
    "pomer_vsech[pomer_vsech.index == 'piča']"
   ]
  },
  {
   "cell_type": "code",
   "execution_count": 90,
   "id": "545b106e-4a10-44d6-bc90-82ac6e34e68d",
   "metadata": {},
   "outputs": [
    {
     "data": {
      "text/plain": [
       "slova\n",
       "lojza   NaN\n",
       "dtype: float64"
      ]
     },
     "execution_count": 90,
     "metadata": {},
     "output_type": "execute_result"
    }
   ],
   "source": [
    "pomer_vsech[pomer_vsech.index == 'lojza']"
   ]
  },
  {
   "cell_type": "code",
   "execution_count": 91,
   "id": "0c35124a-cc60-4e89-9b20-461c78b8586c",
   "metadata": {},
   "outputs": [
    {
     "data": {
      "text/plain": [
       "slova\n",
       "káča    0.594708\n",
       "dtype: float64"
      ]
     },
     "execution_count": 91,
     "metadata": {},
     "output_type": "execute_result"
    }
   ],
   "source": [
    "pomer_vsech[pomer_vsech.index == 'káča']"
   ]
  },
  {
   "cell_type": "code",
   "execution_count": 92,
   "id": "e724c50f-9733-4b5c-b9a8-983a0af6e379",
   "metadata": {},
   "outputs": [
    {
     "data": {
      "text/plain": [
       "slova\n",
       "blbec    0.853276\n",
       "dtype: float64"
      ]
     },
     "execution_count": 92,
     "metadata": {},
     "output_type": "execute_result"
    }
   ],
   "source": [
    "pomer_vsech[pomer_vsech.index == 'blbec']"
   ]
  },
  {
   "cell_type": "code",
   "execution_count": 93,
   "id": "0255b6e7-9c65-4191-a004-de0bf75dbd49",
   "metadata": {},
   "outputs": [
    {
     "data": {
      "text/plain": [
       "slova\n",
       "magor    1.189415\n",
       "dtype: float64"
      ]
     },
     "execution_count": 93,
     "metadata": {},
     "output_type": "execute_result"
    }
   ],
   "source": [
    "pomer_vsech[pomer_vsech.index == 'magor']"
   ]
  },
  {
   "cell_type": "code",
   "execution_count": 94,
   "id": "3da372c8-9c37-46ba-a5af-94838dbbbb4d",
   "metadata": {},
   "outputs": [
    {
     "data": {
      "text/plain": [
       "slova\n",
       "cápek   NaN\n",
       "dtype: float64"
      ]
     },
     "execution_count": 94,
     "metadata": {},
     "output_type": "execute_result"
    }
   ],
   "source": [
    "pomer_vsech[pomer_vsech.index == 'cápek']"
   ]
  },
  {
   "cell_type": "code",
   "execution_count": 95,
   "id": "7164aab4-6d50-49f3-964b-f4c86099496e",
   "metadata": {},
   "outputs": [
    {
     "data": {
      "text/plain": [
       "slova\n",
       "kráva    0.853939\n",
       "dtype: float64"
      ]
     },
     "execution_count": 95,
     "metadata": {},
     "output_type": "execute_result"
    }
   ],
   "source": [
    "pomer_vsech[pomer_vsech.index == 'kráva']"
   ]
  },
  {
   "cell_type": "code",
   "execution_count": 96,
   "id": "de0ed5b0-da28-4bb9-9f84-1f3318537d60",
   "metadata": {},
   "outputs": [
    {
     "data": {
      "text/plain": [
       "slova\n",
       "bastard    1.903064\n",
       "dtype: float64"
      ]
     },
     "execution_count": 96,
     "metadata": {},
     "output_type": "execute_result"
    }
   ],
   "source": [
    "pomer_vsech[pomer_vsech.index == 'bastard']"
   ]
  },
  {
   "cell_type": "code",
   "execution_count": 97,
   "id": "3c25cd54-f844-4b01-8063-71744745c1bd",
   "metadata": {},
   "outputs": [
    {
     "data": {
      "text/plain": [
       "slova\n",
       "blázen    0.945015\n",
       "dtype: float64"
      ]
     },
     "execution_count": 97,
     "metadata": {},
     "output_type": "execute_result"
    }
   ],
   "source": [
    "pomer_vsech[pomer_vsech.index == 'blázen']"
   ]
  },
  {
   "cell_type": "code",
   "execution_count": 98,
   "id": "cae25464-3300-4864-afe2-ab787c2b3ac2",
   "metadata": {},
   "outputs": [
    {
     "data": {
      "text/plain": [
       "slova\n",
       "bestie    2.907459\n",
       "dtype: float64"
      ]
     },
     "execution_count": 98,
     "metadata": {},
     "output_type": "execute_result"
    }
   ],
   "source": [
    "pomer_vsech[pomer_vsech.index == 'bestie']"
   ]
  },
  {
   "cell_type": "code",
   "execution_count": 99,
   "id": "64c8ae52-e045-49bd-a348-862c9ec6663a",
   "metadata": {},
   "outputs": [
    {
     "data": {
      "text/plain": [
       "slova\n",
       "husa    0.713649\n",
       "dtype: float64"
      ]
     },
     "execution_count": 99,
     "metadata": {},
     "output_type": "execute_result"
    }
   ],
   "source": [
    "pomer_vsech[pomer_vsech.index == 'husa']"
   ]
  },
  {
   "cell_type": "code",
   "execution_count": 100,
   "id": "a48089e8-a24a-4a23-bc68-142f42780aae",
   "metadata": {},
   "outputs": [
    {
     "data": {
      "text/plain": [
       "slova\n",
       "porno    2.888579\n",
       "dtype: float64"
      ]
     },
     "execution_count": 100,
     "metadata": {},
     "output_type": "execute_result"
    }
   ],
   "source": [
    "pomer_vsech[pomer_vsech.index == 'porno']"
   ]
  },
  {
   "cell_type": "code",
   "execution_count": 101,
   "id": "59e60192-e417-4a59-8ea6-05afe0808b25",
   "metadata": {},
   "outputs": [
    {
     "data": {
      "text/plain": [
       "slova\n",
       "vagína    1.784123\n",
       "dtype: float64"
      ]
     },
     "execution_count": 101,
     "metadata": {},
     "output_type": "execute_result"
    }
   ],
   "source": [
    "pomer_vsech[pomer_vsech.index == 'vagína']"
   ]
  },
  {
   "cell_type": "code",
   "execution_count": 102,
   "id": "4121fe4d-0824-431b-bee2-718341e29e6a",
   "metadata": {},
   "outputs": [
    {
     "data": {
      "text/plain": [
       "slova\n",
       "penis    0.991179\n",
       "dtype: float64"
      ]
     },
     "execution_count": 102,
     "metadata": {},
     "output_type": "execute_result"
    }
   ],
   "source": [
    "pomer_vsech[pomer_vsech.index == 'penis']"
   ]
  },
  {
   "cell_type": "code",
   "execution_count": 103,
   "id": "c31be93f-bad1-445a-b55f-380748935d17",
   "metadata": {},
   "outputs": [
    {
     "data": {
      "text/plain": [
       "slova\n",
       "močit    4.361188\n",
       "dtype: float64"
      ]
     },
     "execution_count": 103,
     "metadata": {},
     "output_type": "execute_result"
    }
   ],
   "source": [
    "pomer_vsech[pomer_vsech.index == 'močit']"
   ]
  },
  {
   "cell_type": "code",
   "execution_count": 104,
   "id": "0bf6aa1f-0588-475e-8f08-76d8e1f76034",
   "metadata": {},
   "outputs": [
    {
     "data": {
      "text/plain": [
       "slova\n",
       "čůrat    0.792943\n",
       "dtype: float64"
      ]
     },
     "execution_count": 104,
     "metadata": {},
     "output_type": "execute_result"
    }
   ],
   "source": [
    "pomer_vsech[pomer_vsech.index == 'čůrat']"
   ]
  },
  {
   "cell_type": "code",
   "execution_count": 105,
   "id": "5a7112ba-7a06-4b8f-9eb0-c4d36d61cb51",
   "metadata": {},
   "outputs": [
    {
     "data": {
      "text/plain": [
       "slova\n",
       "čurat    0.991179\n",
       "dtype: float64"
      ]
     },
     "execution_count": 105,
     "metadata": {},
     "output_type": "execute_result"
    }
   ],
   "source": [
    "pomer_vsech[pomer_vsech.index == 'čurat']"
   ]
  },
  {
   "cell_type": "code",
   "execution_count": 106,
   "id": "749413fd-7a9d-45a1-8e3d-c3559bfd2834",
   "metadata": {},
   "outputs": [
    {
     "data": {
      "text/plain": [
       "slova\n",
       "fousy    1.784123\n",
       "dtype: float64"
      ]
     },
     "execution_count": 106,
     "metadata": {},
     "output_type": "execute_result"
    }
   ],
   "source": [
    "pomer_vsech[pomer_vsech.index == 'fousy']"
   ]
  },
  {
   "cell_type": "code",
   "execution_count": 107,
   "id": "cb18c626-5461-4255-9c85-65205af103d6",
   "metadata": {},
   "outputs": [
    {
     "data": {
      "text/plain": [
       "slova\n",
       "chlup    0.619487\n",
       "dtype: float64"
      ]
     },
     "execution_count": 107,
     "metadata": {},
     "output_type": "execute_result"
    }
   ],
   "source": [
    "pomer_vsech[pomer_vsech.index == 'chlup']"
   ]
  },
  {
   "cell_type": "code",
   "execution_count": 108,
   "id": "80f517d5-6ec1-42b4-ba26-ec0ad9446fe4",
   "metadata": {},
   "outputs": [
    {
     "data": {
      "text/plain": [
       "slova\n",
       "nádor    1.585887\n",
       "dtype: float64"
      ]
     },
     "execution_count": 108,
     "metadata": {},
     "output_type": "execute_result"
    }
   ],
   "source": [
    "pomer_vsech[pomer_vsech.index == 'nádor']"
   ]
  },
  {
   "cell_type": "code",
   "execution_count": 109,
   "id": "b8c4e268-ef7c-40f0-9ba4-55e57d18d4c8",
   "metadata": {},
   "outputs": [
    {
     "data": {
      "text/plain": [
       "slova\n",
       "fotbal    1.640572\n",
       "dtype: float64"
      ]
     },
     "execution_count": 109,
     "metadata": {},
     "output_type": "execute_result"
    }
   ],
   "source": [
    "pomer_vsech[pomer_vsech.index == 'fotbal']"
   ]
  },
  {
   "cell_type": "code",
   "execution_count": 110,
   "id": "a7ad5129-5358-4e21-8dfb-cac904503aa1",
   "metadata": {},
   "outputs": [
    {
     "data": {
      "text/plain": [
       "slova\n",
       "hokej    1.784123\n",
       "dtype: float64"
      ]
     },
     "execution_count": 110,
     "metadata": {},
     "output_type": "execute_result"
    }
   ],
   "source": [
    "pomer_vsech[pomer_vsech.index == 'hokej']"
   ]
  },
  {
   "cell_type": "code",
   "execution_count": 111,
   "id": "44463fc4-4d3a-41d6-bc7c-7e7b5c627faa",
   "metadata": {},
   "outputs": [
    {
     "data": {
      "text/plain": [
       "slova\n",
       "rallye    1.189415\n",
       "dtype: float64"
      ]
     },
     "execution_count": 111,
     "metadata": {},
     "output_type": "execute_result"
    }
   ],
   "source": [
    "pomer_vsech[pomer_vsech.index == 'rallye']"
   ]
  },
  {
   "cell_type": "code",
   "execution_count": 112,
   "id": "42f8c596-5841-4989-ba39-0982552d5d3a",
   "metadata": {},
   "outputs": [
    {
     "data": {
      "text/plain": [
       "slova\n",
       "Krkonoše    0.925101\n",
       "dtype: float64"
      ]
     },
     "execution_count": 112,
     "metadata": {},
     "output_type": "execute_result"
    }
   ],
   "source": [
    "pomer_vsech[pomer_vsech.index == 'Krkonoše']"
   ]
  },
  {
   "cell_type": "code",
   "execution_count": 113,
   "id": "3c25d4b0-e6fc-4c82-904b-cca607705362",
   "metadata": {},
   "outputs": [
    {
     "data": {
      "text/plain": [
       "slova\n",
       "Šumava    1.453729\n",
       "dtype: float64"
      ]
     },
     "execution_count": 113,
     "metadata": {},
     "output_type": "execute_result"
    }
   ],
   "source": [
    "pomer_vsech[pomer_vsech.index == 'Šumava']"
   ]
  },
  {
   "cell_type": "code",
   "execution_count": 114,
   "id": "ef48a49f-a5f6-4a4f-9e79-646e1ab124a3",
   "metadata": {},
   "outputs": [
    {
     "data": {
      "text/plain": [
       "slova\n",
       "Říp    1.189415\n",
       "dtype: float64"
      ]
     },
     "execution_count": 114,
     "metadata": {},
     "output_type": "execute_result"
    }
   ],
   "source": [
    "pomer_vsech[pomer_vsech.index == 'Říp']"
   ]
  },
  {
   "cell_type": "code",
   "execution_count": 115,
   "id": "97f3908c-5d52-4936-abc1-9b46c6327a6e",
   "metadata": {},
   "outputs": [
    {
     "data": {
      "text/plain": [
       "slova\n",
       "hymna    1.982358\n",
       "dtype: float64"
      ]
     },
     "execution_count": 115,
     "metadata": {},
     "output_type": "execute_result"
    }
   ],
   "source": [
    "pomer_vsech[pomer_vsech.index == 'hymna']"
   ]
  },
  {
   "cell_type": "code",
   "execution_count": 116,
   "id": "4ac626c9-5fee-4f18-aef4-3bf07ef657c9",
   "metadata": {},
   "outputs": [
    {
     "data": {
      "text/plain": [
       "slova\n",
       "svačina    0.424791\n",
       "dtype: float64"
      ]
     },
     "execution_count": 116,
     "metadata": {},
     "output_type": "execute_result"
    }
   ],
   "source": [
    "pomer_vsech[pomer_vsech.index == 'svačina']"
   ]
  },
  {
   "cell_type": "code",
   "execution_count": 117,
   "id": "1ed86d80-9104-4ff4-bbb7-3767a912fd44",
   "metadata": {},
   "outputs": [
    {
     "data": {
      "text/plain": [
       "slova\n",
       "budík    0.746842\n",
       "dtype: float64"
      ]
     },
     "execution_count": 117,
     "metadata": {},
     "output_type": "execute_result"
    }
   ],
   "source": [
    "pomer_vsech[pomer_vsech.index == 'budík']"
   ]
  },
  {
   "cell_type": "code",
   "execution_count": 118,
   "id": "ba9a21a1-2c32-48df-9180-6c9a3282f2a1",
   "metadata": {},
   "outputs": [
    {
     "data": {
      "text/plain": [
       "slova\n",
       "nakřivo    0.849582\n",
       "dtype: float64"
      ]
     },
     "execution_count": 118,
     "metadata": {},
     "output_type": "execute_result"
    }
   ],
   "source": [
    "pomer_vsech[pomer_vsech.index == 'nakřivo']"
   ]
  },
  {
   "cell_type": "code",
   "execution_count": 119,
   "id": "1f147f7e-94dc-4f1a-a5d7-c2b84ca337d9",
   "metadata": {},
   "outputs": [
    {
     "data": {
      "text/plain": [
       "slova\n",
       "šikmo    2.973538\n",
       "dtype: float64"
      ]
     },
     "execution_count": 119,
     "metadata": {},
     "output_type": "execute_result"
    }
   ],
   "source": [
    "pomer_vsech[pomer_vsech.index == 'šikmo']"
   ]
  },
  {
   "cell_type": "code",
   "execution_count": 120,
   "id": "76185e5d-63b6-4b44-b6f1-049b59d88eea",
   "metadata": {},
   "outputs": [
    {
     "data": {
      "text/plain": [
       "slova\n",
       "víno    0.754263\n",
       "dtype: float64"
      ]
     },
     "execution_count": 120,
     "metadata": {},
     "output_type": "execute_result"
    }
   ],
   "source": [
    "pomer_vsech[pomer_vsech.index == 'víno']"
   ]
  },
  {
   "cell_type": "code",
   "execution_count": 121,
   "id": "3243476e-eba0-48b9-940a-ecd927b17838",
   "metadata": {},
   "outputs": [
    {
     "data": {
      "text/plain": [
       "slova\n",
       "pivo    1.25346\n",
       "dtype: float64"
      ]
     },
     "execution_count": 121,
     "metadata": {},
     "output_type": "execute_result"
    }
   ],
   "source": [
    "pomer_vsech[pomer_vsech.index == 'pivo']"
   ]
  },
  {
   "cell_type": "code",
   "execution_count": 122,
   "id": "0ad05d11-bedb-4e2d-9b81-06911c06b7fb",
   "metadata": {},
   "outputs": [
    {
     "data": {
      "text/plain": [
       "slova\n",
       "slivovice    0.237883\n",
       "dtype: float64"
      ]
     },
     "execution_count": 122,
     "metadata": {},
     "output_type": "execute_result"
    }
   ],
   "source": [
    "pomer_vsech[pomer_vsech.index == 'slivovice']"
   ]
  },
  {
   "cell_type": "code",
   "execution_count": 123,
   "id": "ad53a2ce-a129-4094-806e-b8ea0c9f6e6a",
   "metadata": {},
   "outputs": [
    {
     "data": {
      "text/plain": [
       "slova\n",
       "Havel    1.486769\n",
       "dtype: float64"
      ]
     },
     "execution_count": 123,
     "metadata": {},
     "output_type": "execute_result"
    }
   ],
   "source": [
    "pomer_vsech[pomer_vsech.index == 'Havel']"
   ]
  },
  {
   "cell_type": "code",
   "execution_count": 124,
   "id": "53d94a9c-5131-4110-998a-8e816a7d4b2c",
   "metadata": {},
   "outputs": [
    {
     "data": {
      "text/plain": [
       "slova\n",
       "Masaryk    3.270891\n",
       "dtype: float64"
      ]
     },
     "execution_count": 124,
     "metadata": {},
     "output_type": "execute_result"
    }
   ],
   "source": [
    "pomer_vsech[pomer_vsech.index == 'Masaryk']"
   ]
  },
  {
   "cell_type": "code",
   "execution_count": 125,
   "id": "b8d61895-e8e7-49a3-adbf-fbddf89fe630",
   "metadata": {},
   "outputs": [
    {
     "data": {
      "text/plain": [
       "slova\n",
       "Hitler    2.718663\n",
       "dtype: float64"
      ]
     },
     "execution_count": 125,
     "metadata": {},
     "output_type": "execute_result"
    }
   ],
   "source": [
    "pomer_vsech[pomer_vsech.index == 'Hitler']"
   ]
  },
  {
   "cell_type": "code",
   "execution_count": 126,
   "id": "376a70db-c472-4fa1-afb4-49681cb2b779",
   "metadata": {},
   "outputs": [
    {
     "data": {
      "text/plain": [
       "slova\n",
       "poker    1.189415\n",
       "dtype: float64"
      ]
     },
     "execution_count": 126,
     "metadata": {},
     "output_type": "execute_result"
    }
   ],
   "source": [
    "pomer_vsech[pomer_vsech.index == 'poker']"
   ]
  },
  {
   "cell_type": "code",
   "execution_count": 127,
   "id": "184b84d4-f7fa-453d-b41b-604473ec8132",
   "metadata": {},
   "outputs": [
    {
     "data": {
      "text/plain": [
       "slova\n",
       "alkohol    0.91227\n",
       "dtype: float64"
      ]
     },
     "execution_count": 127,
     "metadata": {},
     "output_type": "execute_result"
    }
   ],
   "source": [
    "pomer_vsech[pomer_vsech.index == 'alkohol']"
   ]
  },
  {
   "cell_type": "code",
   "execution_count": 128,
   "id": "be8a7744-ec59-4950-8d07-2e5f8e1948b9",
   "metadata": {},
   "outputs": [
    {
     "data": {
      "text/plain": [
       "slova\n",
       "líh    2.37883\n",
       "dtype: float64"
      ]
     },
     "execution_count": 128,
     "metadata": {},
     "output_type": "execute_result"
    }
   ],
   "source": [
    "pomer_vsech[pomer_vsech.index == 'líh']"
   ]
  },
  {
   "cell_type": "code",
   "execution_count": 129,
   "id": "be1f9e44-cf22-4a3c-8e5c-7fb51813a616",
   "metadata": {},
   "outputs": [
    {
     "data": {
      "text/plain": [
       "slova\n",
       "kořalka    1.513801\n",
       "dtype: float64"
      ]
     },
     "execution_count": 129,
     "metadata": {},
     "output_type": "execute_result"
    }
   ],
   "source": [
    "pomer_vsech[pomer_vsech.index == 'kořalka']"
   ]
  },
  {
   "cell_type": "code",
   "execution_count": 130,
   "id": "784fe38e-d255-4ac2-bcf7-d0019358ca91",
   "metadata": {},
   "outputs": [
    {
     "data": {
      "text/plain": [
       "slova\n",
       "znásilnit    0.528629\n",
       "dtype: float64"
      ]
     },
     "execution_count": 130,
     "metadata": {},
     "output_type": "execute_result"
    }
   ],
   "source": [
    "pomer_vsech[pomer_vsech.index == 'znásilnit']"
   ]
  },
  {
   "cell_type": "code",
   "execution_count": 131,
   "id": "fb1b078e-0a6d-43a9-8be1-d47db111e20c",
   "metadata": {},
   "outputs": [
    {
     "data": {
      "text/plain": [
       "slova\n",
       "zadek    0.805142\n",
       "dtype: float64"
      ]
     },
     "execution_count": 131,
     "metadata": {},
     "output_type": "execute_result"
    }
   ],
   "source": [
    "pomer_vsech[pomer_vsech.index == 'zadek']"
   ]
  },
  {
   "cell_type": "code",
   "execution_count": 132,
   "id": "f2590f0a-1539-41a0-8e7b-94807352ef72",
   "metadata": {},
   "outputs": [
    {
     "data": {
      "text/plain": [
       "slova\n",
       "větrník    2.37883\n",
       "dtype: float64"
      ]
     },
     "execution_count": 132,
     "metadata": {},
     "output_type": "execute_result"
    }
   ],
   "source": [
    "pomer_vsech[pomer_vsech.index == 'větrník']"
   ]
  },
  {
   "cell_type": "code",
   "execution_count": 133,
   "id": "69d408aa-1083-4cb1-8bbe-288af189fa80",
   "metadata": {},
   "outputs": [
    {
     "data": {
      "text/plain": [
       "slova\n",
       "kafíčko    0.396472\n",
       "dtype: float64"
      ]
     },
     "execution_count": 133,
     "metadata": {},
     "output_type": "execute_result"
    }
   ],
   "source": [
    "pomer_vsech[pomer_vsech.index == 'kafíčko']"
   ]
  },
  {
   "cell_type": "code",
   "execution_count": 134,
   "id": "5f3abc3d-fe03-41aa-92bc-434602c0ef5b",
   "metadata": {},
   "outputs": [
    {
     "data": {
      "text/plain": [
       "slova\n",
       "dítě    0.908727\n",
       "dtype: float64"
      ]
     },
     "execution_count": 134,
     "metadata": {},
     "output_type": "execute_result"
    }
   ],
   "source": [
    "pomer_vsech[pomer_vsech.index == 'dítě']"
   ]
  },
  {
   "cell_type": "code",
   "execution_count": 135,
   "id": "4d1da8ea-78ed-4c86-94c6-6ef8d3ded79d",
   "metadata": {},
   "outputs": [
    {
     "data": {
      "text/plain": [
       "slova\n",
       "doutník    1.982358\n",
       "dtype: float64"
      ]
     },
     "execution_count": 135,
     "metadata": {},
     "output_type": "execute_result"
    }
   ],
   "source": [
    "pomer_vsech[pomer_vsech.index == 'doutník']"
   ]
  },
  {
   "cell_type": "code",
   "execution_count": 136,
   "id": "979b1fca-eded-4118-b6a9-4bfc02f2dd92",
   "metadata": {},
   "outputs": [
    {
     "data": {
      "text/plain": [
       "slova\n",
       "cigareta    1.226976\n",
       "dtype: float64"
      ]
     },
     "execution_count": 136,
     "metadata": {},
     "output_type": "execute_result"
    }
   ],
   "source": [
    "pomer_vsech[pomer_vsech.index == 'cigareta']"
   ]
  },
  {
   "cell_type": "code",
   "execution_count": 137,
   "id": "070fc35b-7eea-40e9-81e1-b8d142d14c88",
   "metadata": {},
   "outputs": [
    {
     "data": {
      "text/plain": [
       "slova\n",
       "babička    0.581036\n",
       "dtype: float64"
      ]
     },
     "execution_count": 137,
     "metadata": {},
     "output_type": "execute_result"
    }
   ],
   "source": [
    "pomer_vsech[pomer_vsech.index == 'babička']"
   ]
  },
  {
   "cell_type": "code",
   "execution_count": 138,
   "id": "7c3a8ffb-09ad-47df-ba91-6eea69ba3bbc",
   "metadata": {},
   "outputs": [
    {
     "data": {
      "text/plain": [
       "slova\n",
       "dědeček    0.876411\n",
       "dtype: float64"
      ]
     },
     "execution_count": 138,
     "metadata": {},
     "output_type": "execute_result"
    }
   ],
   "source": [
    "pomer_vsech[pomer_vsech.index == 'dědeček']"
   ]
  },
  {
   "cell_type": "code",
   "execution_count": 139,
   "id": "4842451d-82ba-45d5-b2a1-c2081c997b72",
   "metadata": {},
   "outputs": [
    {
     "data": {
      "text/plain": [
       "slova\n",
       "blbec    0.853276\n",
       "dtype: float64"
      ]
     },
     "execution_count": 139,
     "metadata": {},
     "output_type": "execute_result"
    }
   ],
   "source": [
    "pomer_vsech[pomer_vsech.index == 'blbec']"
   ]
  },
  {
   "cell_type": "code",
   "execution_count": 140,
   "id": "2a8549fe-4516-4b2d-ac80-f0811505f96e",
   "metadata": {},
   "outputs": [
    {
     "data": {
      "text/plain": [
       "slova\n",
       "blbka    0.669046\n",
       "dtype: float64"
      ]
     },
     "execution_count": 140,
     "metadata": {},
     "output_type": "execute_result"
    }
   ],
   "source": [
    "pomer_vsech[pomer_vsech.index == 'blbka']"
   ]
  },
  {
   "cell_type": "code",
   "execution_count": 141,
   "id": "078aec8d-33c8-4c15-92ae-e1cb9323095c",
   "metadata": {},
   "outputs": [
    {
     "data": {
      "text/plain": [
       "slova\n",
       "Praha    1.205935\n",
       "dtype: float64"
      ]
     },
     "execution_count": 141,
     "metadata": {},
     "output_type": "execute_result"
    }
   ],
   "source": [
    "pomer_vsech[pomer_vsech.index == 'Praha']"
   ]
  },
  {
   "cell_type": "code",
   "execution_count": 142,
   "id": "1526ecf7-2ac4-41f4-a020-efde2621dee5",
   "metadata": {},
   "outputs": [
    {
     "data": {
      "text/plain": [
       "slova\n",
       "Brno    0.907711\n",
       "dtype: float64"
      ]
     },
     "execution_count": 142,
     "metadata": {},
     "output_type": "execute_result"
    }
   ],
   "source": [
    "pomer_vsech[pomer_vsech.index == 'Brno']"
   ]
  },
  {
   "cell_type": "code",
   "execution_count": 143,
   "id": "84f7b60f-677d-45c1-818a-5702cafde452",
   "metadata": {},
   "outputs": [
    {
     "data": {
      "text/plain": [
       "slova\n",
       "Olomouc    2.973538\n",
       "dtype: float64"
      ]
     },
     "execution_count": 143,
     "metadata": {},
     "output_type": "execute_result"
    }
   ],
   "source": [
    "pomer_vsech[pomer_vsech.index == 'Olomouc']"
   ]
  },
  {
   "cell_type": "code",
   "execution_count": 144,
   "id": "af066366-eff7-4f5b-a56e-dc0321ece3fb",
   "metadata": {},
   "outputs": [
    {
     "data": {
      "text/plain": [
       "slova\n",
       "Ostrava    0.872238\n",
       "dtype: float64"
      ]
     },
     "execution_count": 144,
     "metadata": {},
     "output_type": "execute_result"
    }
   ],
   "source": [
    "pomer_vsech[pomer_vsech.index == 'Ostrava']"
   ]
  },
  {
   "cell_type": "code",
   "execution_count": 145,
   "id": "fad0b544-9b09-4d50-b3cc-6dd0819155ec",
   "metadata": {},
   "outputs": [
    {
     "data": {
      "text/plain": [
       "slova\n",
       "Jablonec    0.594708\n",
       "dtype: float64"
      ]
     },
     "execution_count": 145,
     "metadata": {},
     "output_type": "execute_result"
    }
   ],
   "source": [
    "pomer_vsech[pomer_vsech.index == 'Jablonec']"
   ]
  },
  {
   "cell_type": "code",
   "execution_count": 146,
   "id": "8ca3f101-a06a-4c5d-81a5-b1f5c029c119",
   "metadata": {},
   "outputs": [
    {
     "data": {
      "text/plain": [
       "slova\n",
       "Tatry    1.189415\n",
       "dtype: float64"
      ]
     },
     "execution_count": 146,
     "metadata": {},
     "output_type": "execute_result"
    }
   ],
   "source": [
    "pomer_vsech[pomer_vsech.index == 'Tatry']"
   ]
  },
  {
   "cell_type": "code",
   "execution_count": 147,
   "id": "9db079a4-7f3a-4513-a17a-cfbaf76437c7",
   "metadata": {},
   "outputs": [
    {
     "data": {
      "text/plain": [
       "slova\n",
       "kombajn   NaN\n",
       "dtype: float64"
      ]
     },
     "execution_count": 147,
     "metadata": {},
     "output_type": "execute_result"
    }
   ],
   "source": [
    "pomer_vsech[pomer_vsech.index == 'kombajn']"
   ]
  },
  {
   "cell_type": "code",
   "execution_count": 148,
   "id": "da922941-377d-4f94-9818-ae1d4d41bcae",
   "metadata": {},
   "outputs": [
    {
     "data": {
      "text/plain": [
       "slova\n",
       "koňak    0.792943\n",
       "dtype: float64"
      ]
     },
     "execution_count": 148,
     "metadata": {},
     "output_type": "execute_result"
    }
   ],
   "source": [
    "pomer_vsech[pomer_vsech.index == 'koňak']"
   ]
  },
  {
   "cell_type": "code",
   "execution_count": 149,
   "id": "f6e317d0-5740-4674-9b1f-0cbe48743307",
   "metadata": {},
   "outputs": [
    {
     "data": {
      "text/plain": [
       "slova\n",
       "whisky    1.126814\n",
       "dtype: float64"
      ]
     },
     "execution_count": 149,
     "metadata": {},
     "output_type": "execute_result"
    }
   ],
   "source": [
    "pomer_vsech[pomer_vsech.index == 'whisky']"
   ]
  },
  {
   "cell_type": "code",
   "execution_count": 150,
   "id": "8adff94a-80a0-4785-afe1-f31f12679b33",
   "metadata": {},
   "outputs": [
    {
     "data": {
      "text/plain": [
       "slova\n",
       "rum    1.263753\n",
       "dtype: float64"
      ]
     },
     "execution_count": 150,
     "metadata": {},
     "output_type": "execute_result"
    }
   ],
   "source": [
    "pomer_vsech[pomer_vsech.index == 'rum']"
   ]
  },
  {
   "cell_type": "code",
   "execution_count": 151,
   "id": "55b3bcaf-efcc-46c5-b4ab-4395b743a7d4",
   "metadata": {},
   "outputs": [
    {
     "data": {
      "text/plain": [
       "slova\n",
       "toust    0.108129\n",
       "dtype: float64"
      ]
     },
     "execution_count": 151,
     "metadata": {},
     "output_type": "execute_result"
    }
   ],
   "source": [
    "pomer_vsech[pomer_vsech.index == 'toust']"
   ]
  },
  {
   "cell_type": "code",
   "execution_count": 152,
   "id": "5bfed330-b5b0-4a84-960b-70c3da86a469",
   "metadata": {},
   "outputs": [
    {
     "data": {
      "text/plain": [
       "slova\n",
       "topinka    1.189415\n",
       "dtype: float64"
      ]
     },
     "execution_count": 152,
     "metadata": {},
     "output_type": "execute_result"
    }
   ],
   "source": [
    "pomer_vsech[pomer_vsech.index == 'topinka']"
   ]
  },
  {
   "cell_type": "code",
   "execution_count": 153,
   "id": "2f27a44c-4fed-46e8-b655-93bf7a113844",
   "metadata": {},
   "outputs": [
    {
     "data": {
      "text/plain": [
       "slova\n",
       "rýže    0.939012\n",
       "dtype: float64"
      ]
     },
     "execution_count": 153,
     "metadata": {},
     "output_type": "execute_result"
    }
   ],
   "source": [
    "pomer_vsech[pomer_vsech.index == 'rýže']"
   ]
  },
  {
   "cell_type": "markdown",
   "id": "012c7c0e-08ee-4de2-9e1e-3e8af516af8e",
   "metadata": {},
   "source": [
    "## Celkový pohled"
   ]
  },
  {
   "cell_type": "code",
   "execution_count": 155,
   "id": "4b6eaba5-c0d7-424f-8cd0-0e69d722c513",
   "metadata": {},
   "outputs": [
    {
     "data": {
      "text/plain": [
       "'Addair Theo, Ajvaz Michal, Balda David, Balák Libor, Banga Patrik, Bareš Pavel, Bauer Jan, Bazger Petr, Beran Ladislav, Beran Stanislav, Bernatský Vojtěch, Bečan Martin, Birdman Shigor, Blaho Ondřej, Boubín Dalibor, Boček Evžen, Boček Lukáš, Brož Petr, Budai David, Buddeus Ondřej, Bureš Roman, Bálek Jaroslav, Bárta Václav, Bílek Petr, Bým Petr, Březina Jiří, Březina Michal, Chadima Martin, Csicsely Lukáš, Ctibor Pavel, Cubeca Karel, Cílek Roman, Dadák Matěj, Decimus Erik, Denk Petr, Ditrych Břetislav, Diviš Aleš, Dobrylovský Jiří, Dobrý Marek, Dostál Aleš, Dotlačil Jakub, Doucha Josef, Dočekal Boris, Drbohlav Jan, Drescher Alex, Duda Jan, Dutka Edgar, Dvořák Marek, Dědič Jiří, Eidler Petr, Epstein Marek, Erml Richard, Fahrner Martin, Fanta Ondřej, Fibich Ondřej, Fišer Lukáš, Fišer Martin, Folný Jan, Fousek Josef, Fránek Jakub, Fuchs Oskar, Fíla Ivan, Galambica Ivan, Gardner Jan, Gdovín Vladimír Adam, Glockner David, Goffa Martin, Grant Jiří, Gravensteen A., Green Scum, Gris Daniel, Grmolec Zdeněk, Gruber Petr, Gruber Václav, Hacala Luboš, Hamouz Jan, Havel Jiří, Havlas Lukáš, Havlík Rudolf, Hejda Luboš, Heteša Petr, Hewlit Pavel, Hlavenka Vojtěch, Hlubek Jan, Hodáček Kamil Marcel, Holanec Václav, Holaň Aleš, Homola Jiří, Honzák Radkin, Horký Petr, Horníček Jan, Houser Pavel, Hoza Jakub, Hořava Matěj, Hradecký Daniel, Hrdlička Pavel, Hrnčíř Daniel, Hruška Emil, Hrušínský Rudolf, Hvížďala Karel, Hübl Ondřej, Jabůrek Václav, Jakeš Václav, Janeba Oldřich, Janoušek Artur, Janč František, Jareš Michal, Jareš Vítězslav, Jaroš Martin, Javůrek Štěpán, Jařab David, Jelínek Marian, Ježek Michal, Jindra Jaromír, Jirotka Antonín, Kadlec Vratislav, Kalenda František, Kapras Tomáš, Kars Ota, Kašpárek Michal, Kholl Jan, Kirman Lubomír, Klečka Jiří, Klimek Hynek, Klimek Tomáš, Klimeš David, Klimeš Ladislav, Klouda Filip, Klíma Josef, Kohout Pavel, Kohák Jakub, Kolár Vladimír, Kolář Alois, Kolář Pavel, Konáš Jaroslav, Kopta Václav, Koryta Filip, Kos Jakub Petr, Kostka Karel, Kotačka Libor, Kotleta František, Kotnowski Melchior, Kotouč Jan, Koubek Vilém, Kořen Vladimír, Kořínek Václav, Kratochvil Jiří, Krejčík Přemysl, Krobot Miroslav, Král Rudolf, Králík Leopold, Krásný Daniel, Krčmář Milan, Kubát Luděk, Kucin Jan, Kučera Štěpán, Kyša Leoš, Káninský Josef, König Jakub, König Josef, Křivanec Václav, Křišťan Lukáš, Landsman Dominik, Lauda David, Leidl Tomáš, Linhart Jiří J., Luksch Jakub, Láska Václav, Macek Petr, Machala Libor, Macho Milan, Macků Robert, Madle Patrik, Malijevský Igor, Malinda Jan, Marek Jaromír, Matějček Lukáš, Mayer Jiří B., Mazáč Antonín, Maňák Vratislav, Mařík František, Mařík Jakub, Melichar René, Michal Martin, Miklica Tomáš, Mikuš Filip, Moník Josef, Motýl Petr, Mrkvička Jan, Mádl Jiří, Müller Martin, N. P., Neckář Petr, Neff Ondřej, Nesměrák Martin, Neuwirth Tomáš, Neužil Petr, Nezval Martin, Nečas Ondřej, Niedl František, Novotny Josef J., Novotný Aleš, Novotný David Jan, Novák Jan, Němec Jan, Němec Martin, Němec Tomáš, Němec Vojtěch, Němčík Jiří, Odehnal Petr, Okáč Filip, Opršal Petr, Otta Marek, Padevět Jiří, Palán Aleš, Palán Lukáš, Pavel Jan, Pavelka Jan, Paytok Martin, Pech Miroslav, Pecinovský Josef, Pelíšek Antonín, Petr Daniel, Petrásek Tomáš, Pešta Mikuláš, Pitzmos Aleš, Pixy Petr S., Popel Richard, Pospíšil Otakar, Procházka Aleš, Procházka Petr, Procházka Petr K., Prokop Josef Bernard, Pudlák Štěpán, Pýcha Adam, Přibil Marek, Radosta Pavel, Raichl Jiří, Rauer Vojtěch, Rejman Martin, Rezek Aleš, Rozehnal Aleš, Rožek Filip, Rubáš Pepa, Rupp Jan, Sabó Michal, Sagitarius Petr, Sekerka Tomáš, Sekyrka Pavel, Selner Martin, Sevruk Alexej, Sichinger Martin, Sidon Karol, Sirotek Michal, Skopal Ivo, Skořepa Martin, Skřipský Marek, Slezáček Bořek, Slivinský Dalibor, Sládek Martin, Sládek Ota, Sláma Tadeáš Vojtěch, Slívka Honza, Smutný Jan, Sobotka Oldřich, Soukup Pavel, Staffa Alexander, Stainforth Alexander, Stanjura Jakub, Stančík Petr, Staněk Filip, Starý Radek, Stavinoha Jan, Steinbauer Boris, Stručovský Martin, Suchý Adam, Svěrák Jan, Sychra Karel, Syrovátka Tomáš, Sýkora Michal, Sýkora Petr, Toman Ivo, Toman Marek, Tomeš Jan, Tománek Jan, Torčík Marek, Trpiš Jakub, Tržil Dan, Tvrz Jakub, Tylšar František, Třeštík Michael, Třeštík Tomáš, Tůma Jiří, Uhlíř Martin, Urban David, Urban Jan, Urban Miloš, Urban Petr, Vacek Jindřich, Veselka Josef, Veselý Karel, Viewegh Michal, Vičar Zbyněk, Vogel Aleš, Vokolek Václav, Vondruška Vlastimil, Vopěnka Martin, Vostrý Mirek, Votruba Václav, Vrba Michal, Vrchovský Ladislav, Vydra Petr, Vácha Dalibor, Vácha Marek Orko, Václavíček Jiří, Váňa Radek, Váša Martin, Vít Jakub, Věrný David, Větříšek Lubomír, Walló Alex, Wlodarczyk Dan, Zachrdla Jakub, Zahájský Květoň, Zandl Patrick, Zavřel Viktor, Zmítko Michal, Záleský Vojtěch, Zárybnický Lukáš, Zástěra Tomáš, k.elkir, Čapka Hynek, Čechal Jiří, Čepek Petr, Čepelka Miloň, Češka Stanislav, Čuba Albert, Řehák Zdeněk, Šefara Michal, Šenk David, Šesták Petr, Šimek Jan, Škrabal Ondřej, Šlechta Vladimír, Šlik Petr Hugo, Šmehlík František, Šolc Václav, Špaček Viktor, Šponer Jakub, Štifter Jan, Štindl Ondřej, Štětina Jaromír, Švancara Jan, Šíp Karel, Šír Ondřej, Žamboch Miroslav, Železný Jakub, Žemlička Zdeněk'"
      ]
     },
     "execution_count": 155,
     "metadata": {},
     "output_type": "execute_result"
    }
   ],
   "source": [
    "muzi = mz_filtr[mz_filtr['gender'] == 'muž']['autorstvo_kod'].to_list()\n",
    "', '.join(sorted((df[df['autorstvo_kod'].isin(muzi)]['autorstvo'].drop_duplicates().to_list())))"
   ]
  },
  {
   "cell_type": "code",
   "execution_count": 156,
   "id": "24b94c42-9cf4-40ae-8d8c-d07847d67155",
   "metadata": {},
   "outputs": [
    {
     "data": {
      "text/plain": [
       "'Abrahámová Martina, Addicks Lucie, Ambrožová Dorota, An Elen, Andrlová Šárka, Auzká Lucie, Aycox Klára, Babišová Martina, Bartošová Tereza, Basiková Anna, Basiková Bára, Baštanová Petra, Bechynková Lucie, Bellová Bianca, Bendová Karolína, Beranová Dana, Bernášková Jana, Blahová Miriam, Blanářová Alena, Blažková Kateřina, Bohatá Simona, Boho Michaela, Bolavá Anna, Bolfová Markéta, Borlová Julie, Boučková Martina, Boučková Tereza, Brabcová Kateřina, Braunová Petra, Brányiková Katarína, Bublanová Alžběta, Burgerová Kristýna, Bártová Anna Beatrix, Bílková Alžběta, Cajthamlová Kateřina, Camille G, Chalupníková Kateřina, Chalupová Lenka, Chaya Lucie, Chlubnová Lenka, Cima Anna, Ciprová Oldřiška, Coufalová Valentýna, Czastková Klára, Damijo Alena, Dancingerová Marta, Denemarková Radka, Denková Melita, Devátá Ivanka, Divišová Anna, Dobiášová Tereza, Dobrovolná Ilona, Dolejšová Eva, Domská Marie, Donátová Uljana, Dopitová Michaela, Dostálová Zuzana, Dousková Irena, Dočkalová Tereza, Drdlová Helena, Dubská Kateřina, Dusová Tereza, Dušková Vlasta, Dvořáková Petra, Eckhardtová Nora, Elbe Lenka, Elšíková Klára, Evans Vesna, Fajnorová Ivana, Fenclová Marta, Ferrerová Šárka, Fischerová Daniela, Fojtová Věra, Formáčková Marie, Francová Eva, Freiová Kristýna, Fundová Johana, Fílová Karolína, González Veronika, Gottwaldová Libuše, Grestenbergerová Eva, Hacalová Eva, Hadj Moussa Iva, Hajdová Marie, Hamáková Marie, Hanišová Viktorie, Hanušová Jana, Haplová Barbora, Harasimová Markéta, Hardy M. K., Hartmanová Zuzana, Haunerová Klára, Havlíková Katka, Heinrichová Alena Adrianet, Hejkalová Markéta, Hejná Tereza, Herzogová Tereza, Heš Martina, Hieková Šárka, Hindráková Hana, Hlavinková Lucie, Hloušková Jitka, Hlubinková Kožmínová Ivana, Hohenberger Martina, Holásková Kamila, Horová Ladislava, Horová Marie, Horáková Naďa, Horáková Pavla, Horáčková Alice, Hotovcová Eva, Houfová Barbora, Houserová Eva, Hošek Karolina, Hrabovská Jana, Hrochová Lucie, Hrstková Helena, Hubeňáková Zuzana, Hubková Karolína, Hušeková Kristína, Hušková Lucie, Háblová Anna Beata, Hájková Dominika, Hřebejková Hana, Hůlová Petra, Isaac M. A., Jakoubková Alena, Jakoubková Marie, Janečková Klára, Janečková Michaela, Janíčková Marie, Janštová Denisa, Jašová Jana, Jehličková Lucie, Jell Marcy, Jelínková Martina, Jendruchová Michala, Ježková Alena, Jirglová Petra, Jonášová Veronika, Jurmanová Jana, Jánská Jana, Kadečková Tereza, Kaiserová Zuzana, Kalivodová Michaela, Kaprálová Dora, Karolová Kateřina, Katalpa Jakuba, Kausc Emma, Kavurová Hana, Kašparová Jana, Kašáková Hana, Kellerová Irena, Klabouchová Petra, Klasová Nela, Klevisová Michaela, Knapová Adéla, Knauerová Marta, Kocábová Natálie, Kohoutová Alexandra, Kokinopulosová Iva, Kollerová Mašková Aneta, Komorousová Tereza, Komrsková Alžběta, Komárková Kristýna, Konečná Lucie, Korcová Lucie, Koubková Zuzana, Koukalová Zuzana, Koutná Barbora, Kracíková Jindřiška, Krajčo Babinská Karin, Kral Johana, Kratochvílová Helena, Krnáčová Adriana, Krpálková Věra, Krumlovská Olga, Kubíková Karla, Kubíčková Klára, Kudynová Věra, Kultánová Zuzana, Kunešová Lucie, Kučíková Marta, Kučírková Tereza, Kvaš Karolína, Kverková Naďa, Kábrtová Lidmila, Körnerová Hana Marie, Křivánková Pavlína, Labudová Ema, Labáková Michaela, Lednická Karin, Lehečková Hana D., Leierová Martina, Lejsková-Langová Petra, Linke Barbora, Ludvíková Jitka, Lukačovičová Lucie, Lukášková Markéta, Lundiaková Hana, Luxová Blanka, Ládrová Jitka, Límanová Tereza, Machová Nikola, Machová Petra, Macháčková Lucie, Macková Hrochová Petra, Macková Marie, Macková Tereza, Malenovská Vlasta, Malurková Marie, Mandausová Klára, Marková Tereza, Marková Zlatuše, Marks Hope, Martincová Zdeňka, Martinková Veronika, Martišková Petra, Maxová Magdalena, Mašková Eva, Meixnerová Karolína, Melicharová Michaela, Merglová Michaela, Mertlíková Věra, Michorová Eva, Minaříková Olga, Mintová Magdalena, Minářová Elena, Mičková Nela, Mlynářová Marcela, Moricová Anna, Moritz Michaela, Mornštajnová Alena, Musilová Anna, Musálková Jeckelová Jana, Mužíková Michaela, Mács Magdoňová Jana, Májová Kristina, Málková Martina, Mátlová Martina, Nachtmanová Petra, Nacházelová Daniela, Navrátilová Renáta, Nechutná Veronika, Nerudová Danuše, Nesvadbová Barbara, Nesvačilová Petra, Neužilová Žaneta, Nečasová Simona, Nofreeusernames, Novotná Martina, Nová Edna, Nováková Antonie, Nováková Tereza, Náhlíková Anežka, Oboda Hana, Opatřilová Veronika, Ortega Lucie, Pachtová Hana, Paleta Soňa, Panou Kateřina, Pantovič Kateřina, Parsley Sarah, Parýzková Lenka, Pastorčáková Lenka, Paulišinová Simona, Pavlíčková Kovaříková Pavla, Pawlowská Halina, Pažoutová Jana, Peas Nika, Peck D. B., Pekárková Iva, Pekárnová Andrea, Peroutková Ivana, Pešavová Pavla, Piloušková Irena, Pilátová Lucie, Pinknerová Hana, Pischová Naďa, Pogodová Sandra, Pohnerová Eliška, Poláčková Lenka, Poncarová Jana, Poncarová Petra, Pospíšilová Eva, Pospíšilová Jarmila, Potůčková Lenka, Pražáková Rozálie, Preissová Martina, Prejdová Dominika, Procházková Iva, Procházková Kateřina, Przewozná Šárka, Prášková Markéta, Ptáčková Jindřiška, Puffrová Tess M., Rejfová Marie, Rejžková Magdaléna Bujabéza, Reviláková Naďa, Rezlerová Mirka, Riedlová Anna, Riedová Emma, Rokosová Sandra, Rollingerová-Riba Romana, Rollko Natalie A., Ross Emilly, Rosípalová Adéla, Rourke Andrea, Rožek Elbel Adéla, Rubínková Veronika, Rudčenková Kateřina, Rzepková Lenka, Rýznerová Eva, Saavedra Anna, Sacká Vlaďka, Sadílková Lenka, Saforková Veronika, Salová Lucie, Sani Jitka, Saudková Sára, Scharkez Emma, Schmiedlová Michaela, Schánělová Lucie, Semotamová Tereza, Sirotková Soňa, Skočílková Mirka, Skálová Hana, Slaninová Jana, Slavíková Jitka, Slováková Petra, Sládečková Kristýna, Smith Gabriella, Sněgoňová Kristýna, Sobotková Anna, Sodomková Magdalena, Soldánová Alexandra, Soldátová Natálie, Soukupová Petra, Srňánková Lucie, Stejskalová Věra, Strachotová Zuzana, Straková Izabela, Strnadová Anna, Stráníková Jarmila, Stujová Andrea, Střihavková Eva, Surmanová Kateřina, Svoboda Monika, Svobodová Martina, Symerová Martina, Sýkorová Klára, Tachovská-Vestman Kateřina, Tajovská Iva, Teremová Lenka, Teršová Klára, Tomšů Radmila, Trobok Ella, Trpková Kristýna, Tučková Kateřina, Twodová Viola, Táborská Dita, Třeštíková Radka, Tůmová Karolina, Urešová Iveta, Užkonečně Šťastná Dagmar, Vachtová Alena, Vajsejtlová Barbora, Valenová Lena, Valentová Veronika, Valíková Veronika, Vaňková Lucie, Vaščíková Michaela, Verrall Lucie, Vieweghová Veronika, Vlasáková Klára, Vojáčková Šárka, Vondráčková Hana, Vrzalová Veronika, Vychodilová Eva, Válková Veronika, Vůchová Sára, Walterová Benešová Barbora, Wang Tylová Klára, Wernerová Jaroslava, Wetterová Adriana, Whitton Hana, Wilková Scarlett, Xabyssus Sam, Zadinová Radka, Zeithammerová Sára, Zgustová Monika, Zhřívalová Petra, Zlínská Hana, Znamínková Marie, Zvěřová Lucie, Čechová Dagmar Digma, Čechová Miřenka, Čekalová Martina, Černajová Vladimíra, Černohlávková Večeřová Barbora, Černohorská Nelly, Černucká Veronika, Černá Denisa, Černá Jaroslava, Čikovská Pavlína, Čtyroká Marie, Říhová Zuzana, Šafránková Daniela, Šalé Michaela, Ševčíková Kateřina, Šilhová Lucie, Škorpilová Nicole, Škultéty Michaela, Špaček Kateřina, Štichauerová Jitka, Štraubová Alena, Štráfeldová Milena, Štěchová Michaela, Štěpánková Kamila, Šuláková Anna, Švecová Jana, Švejnohová Hana, Švédová Zuzana, Šíková Lenka, Šťastná Barbora, Žáková Helena, Žáková Ivana'"
      ]
     },
     "execution_count": 156,
     "metadata": {},
     "output_type": "execute_result"
    }
   ],
   "source": [
    "zeny = mz_filtr[mz_filtr['gender'] == 'žena']['autorstvo_kod'].drop_duplicates().to_list()\n",
    "', '.join(sorted(df[df['autorstvo_kod'].isin(zeny)]['autorstvo'].drop_duplicates().to_list()))"
   ]
  },
  {
   "cell_type": "code",
   "execution_count": 157,
   "id": "f12048db-fb01-4851-a4c5-17232a8165f6",
   "metadata": {},
   "outputs": [
    {
     "data": {
      "text/plain": [
       "4548"
      ]
     },
     "execution_count": 157,
     "metadata": {},
     "output_type": "execute_result"
    }
   ],
   "source": [
    "len(pomer)"
   ]
  },
  {
   "cell_type": "code",
   "execution_count": 158,
   "id": "2511ae61-6958-4b0f-a279-4e9276c534c7",
   "metadata": {
    "scrolled": true
   },
   "outputs": [
    {
     "data": {
      "text/plain": [
       "<Axes: ylabel='Frequency'>"
      ]
     },
     "execution_count": 158,
     "metadata": {},
     "output_type": "execute_result"
    },
    {
     "data": {
      "image/png": "[encoded data removed]",
      "text/plain": [
       "<Figure size 640x480 with 1 Axes>"
      ]
     },
     "metadata": {},
     "output_type": "display_data"
    }
   ],
   "source": [
    "pomer.plot.hist(bins=20)"
   ]
  },
  {
   "cell_type": "code",
   "execution_count": 159,
   "id": "634a8ae2-8f9e-4a06-90a6-f3f333b2629c",
   "metadata": {},
   "outputs": [
    {
     "data": {
      "text/html": [
       "<div>\n",
       "<style scoped>\n",
       "    .dataframe tbody tr th:only-of-type {\n",
       "        vertical-align: middle;\n",
       "    }\n",
       "\n",
       "    .dataframe tbody tr th {\n",
       "        vertical-align: top;\n",
       "    }\n",
       "\n",
       "    .dataframe thead th {\n",
       "        text-align: right;\n",
       "    }\n",
       "</style>\n",
       "<table border=\"1\" class=\"dataframe\">\n",
       "  <thead>\n",
       "    <tr style=\"text-align: right;\">\n",
       "      <th></th>\n",
       "      <th>cetnost</th>\n",
       "      <th>odchylka</th>\n",
       "    </tr>\n",
       "    <tr>\n",
       "      <th>slova</th>\n",
       "      <th></th>\n",
       "      <th></th>\n",
       "    </tr>\n",
       "  </thead>\n",
       "  <tbody>\n",
       "    <tr>\n",
       "      <th>jako</th>\n",
       "      <td>1.000000</td>\n",
       "      <td>0.000000</td>\n",
       "    </tr>\n",
       "    <tr>\n",
       "      <th>když</th>\n",
       "      <td>1.000000</td>\n",
       "      <td>0.000000</td>\n",
       "    </tr>\n",
       "    <tr>\n",
       "      <th>být</th>\n",
       "      <td>1.000000</td>\n",
       "      <td>0.000000</td>\n",
       "    </tr>\n",
       "    <tr>\n",
       "      <th>ale</th>\n",
       "      <td>1.000000</td>\n",
       "      <td>0.000000</td>\n",
       "    </tr>\n",
       "    <tr>\n",
       "      <th>vnitřní</th>\n",
       "      <td>0.999951</td>\n",
       "      <td>0.000049</td>\n",
       "    </tr>\n",
       "    <tr>\n",
       "      <th>možný</th>\n",
       "      <td>1.000190</td>\n",
       "      <td>0.000190</td>\n",
       "    </tr>\n",
       "    <tr>\n",
       "      <th>svátek</th>\n",
       "      <td>1.000190</td>\n",
       "      <td>0.000190</td>\n",
       "    </tr>\n",
       "    <tr>\n",
       "      <th>vzpomenout</th>\n",
       "      <td>0.999798</td>\n",
       "      <td>0.000202</td>\n",
       "    </tr>\n",
       "    <tr>\n",
       "      <th>chytrý</th>\n",
       "      <td>0.999615</td>\n",
       "      <td>0.000385</td>\n",
       "    </tr>\n",
       "    <tr>\n",
       "      <th>dovolit</th>\n",
       "      <td>0.999615</td>\n",
       "      <td>0.000385</td>\n",
       "    </tr>\n",
       "    <tr>\n",
       "      <th>všechen</th>\n",
       "      <td>0.999555</td>\n",
       "      <td>0.000445</td>\n",
       "    </tr>\n",
       "    <tr>\n",
       "      <th>on</th>\n",
       "      <td>0.999555</td>\n",
       "      <td>0.000445</td>\n",
       "    </tr>\n",
       "    <tr>\n",
       "      <th>tak</th>\n",
       "      <td>0.999555</td>\n",
       "      <td>0.000445</td>\n",
       "    </tr>\n",
       "    <tr>\n",
       "      <th>svůj</th>\n",
       "      <td>0.999555</td>\n",
       "      <td>0.000445</td>\n",
       "    </tr>\n",
       "    <tr>\n",
       "      <th>hluboký</th>\n",
       "      <td>1.000508</td>\n",
       "      <td>0.000508</td>\n",
       "    </tr>\n",
       "    <tr>\n",
       "      <th>celý</th>\n",
       "      <td>1.000525</td>\n",
       "      <td>0.000525</td>\n",
       "    </tr>\n",
       "    <tr>\n",
       "      <th>já</th>\n",
       "      <td>0.999459</td>\n",
       "      <td>0.000541</td>\n",
       "    </tr>\n",
       "    <tr>\n",
       "      <th>proč</th>\n",
       "      <td>1.000619</td>\n",
       "      <td>0.000619</td>\n",
       "    </tr>\n",
       "    <tr>\n",
       "      <th>také</th>\n",
       "      <td>0.999339</td>\n",
       "      <td>0.000661</td>\n",
       "    </tr>\n",
       "    <tr>\n",
       "      <th>rok</th>\n",
       "      <td>0.999339</td>\n",
       "      <td>0.000661</td>\n",
       "    </tr>\n",
       "    <tr>\n",
       "      <th>téma</th>\n",
       "      <td>1.000749</td>\n",
       "      <td>0.000749</td>\n",
       "    </tr>\n",
       "    <tr>\n",
       "      <th>než</th>\n",
       "      <td>0.999222</td>\n",
       "      <td>0.000778</td>\n",
       "    </tr>\n",
       "    <tr>\n",
       "      <th>hluboko</th>\n",
       "      <td>1.000849</td>\n",
       "      <td>0.000849</td>\n",
       "    </tr>\n",
       "    <tr>\n",
       "      <th>hřiště</th>\n",
       "      <td>0.999109</td>\n",
       "      <td>0.000891</td>\n",
       "    </tr>\n",
       "    <tr>\n",
       "      <th>odkládat</th>\n",
       "      <td>0.999109</td>\n",
       "      <td>0.000891</td>\n",
       "    </tr>\n",
       "    <tr>\n",
       "      <th>kde</th>\n",
       "      <td>1.000993</td>\n",
       "      <td>0.000993</td>\n",
       "    </tr>\n",
       "    <tr>\n",
       "      <th>světlo</th>\n",
       "      <td>0.998923</td>\n",
       "      <td>0.001077</td>\n",
       "    </tr>\n",
       "    <tr>\n",
       "      <th>dálka</th>\n",
       "      <td>1.001162</td>\n",
       "      <td>0.001162</td>\n",
       "    </tr>\n",
       "    <tr>\n",
       "      <th>patro</th>\n",
       "      <td>0.998745</td>\n",
       "      <td>0.001255</td>\n",
       "    </tr>\n",
       "    <tr>\n",
       "      <th>dva</th>\n",
       "      <td>1.001308</td>\n",
       "      <td>0.001308</td>\n",
       "    </tr>\n",
       "    <tr>\n",
       "      <th>jistit</th>\n",
       "      <td>0.998660</td>\n",
       "      <td>0.001340</td>\n",
       "    </tr>\n",
       "    <tr>\n",
       "      <th>přes</th>\n",
       "      <td>0.998600</td>\n",
       "      <td>0.001400</td>\n",
       "    </tr>\n",
       "    <tr>\n",
       "      <th>jeden</th>\n",
       "      <td>1.001465</td>\n",
       "      <td>0.001465</td>\n",
       "    </tr>\n",
       "    <tr>\n",
       "      <th>středa</th>\n",
       "      <td>0.998521</td>\n",
       "      <td>0.001479</td>\n",
       "    </tr>\n",
       "    <tr>\n",
       "      <th>zemřít</th>\n",
       "      <td>0.998414</td>\n",
       "      <td>0.001586</td>\n",
       "    </tr>\n",
       "    <tr>\n",
       "      <th>směr</th>\n",
       "      <td>0.998414</td>\n",
       "      <td>0.001586</td>\n",
       "    </tr>\n",
       "    <tr>\n",
       "      <th>pět</th>\n",
       "      <td>0.998414</td>\n",
       "      <td>0.001586</td>\n",
       "    </tr>\n",
       "    <tr>\n",
       "      <th>ukázat</th>\n",
       "      <td>1.001613</td>\n",
       "      <td>0.001613</td>\n",
       "    </tr>\n",
       "    <tr>\n",
       "      <th>setkat</th>\n",
       "      <td>1.001613</td>\n",
       "      <td>0.001613</td>\n",
       "    </tr>\n",
       "    <tr>\n",
       "      <th>péče</th>\n",
       "      <td>1.001613</td>\n",
       "      <td>0.001613</td>\n",
       "    </tr>\n",
       "    <tr>\n",
       "      <th>otáčet</th>\n",
       "      <td>1.001613</td>\n",
       "      <td>0.001613</td>\n",
       "    </tr>\n",
       "    <tr>\n",
       "      <th>kout</th>\n",
       "      <td>1.001613</td>\n",
       "      <td>0.001613</td>\n",
       "    </tr>\n",
       "    <tr>\n",
       "      <th>přítomnost</th>\n",
       "      <td>1.001613</td>\n",
       "      <td>0.001613</td>\n",
       "    </tr>\n",
       "    <tr>\n",
       "      <th>půlka</th>\n",
       "      <td>1.001613</td>\n",
       "      <td>0.001613</td>\n",
       "    </tr>\n",
       "    <tr>\n",
       "      <th>dělat</th>\n",
       "      <td>0.998259</td>\n",
       "      <td>0.001741</td>\n",
       "    </tr>\n",
       "    <tr>\n",
       "      <th>pondělí</th>\n",
       "      <td>0.998259</td>\n",
       "      <td>0.001741</td>\n",
       "    </tr>\n",
       "    <tr>\n",
       "      <th>uvidět</th>\n",
       "      <td>1.001799</td>\n",
       "      <td>0.001799</td>\n",
       "    </tr>\n",
       "    <tr>\n",
       "      <th>mladý</th>\n",
       "      <td>1.001810</td>\n",
       "      <td>0.001810</td>\n",
       "    </tr>\n",
       "    <tr>\n",
       "      <th>moci</th>\n",
       "      <td>1.001907</td>\n",
       "      <td>0.001907</td>\n",
       "    </tr>\n",
       "    <tr>\n",
       "      <th>aby</th>\n",
       "      <td>1.001907</td>\n",
       "      <td>0.001907</td>\n",
       "    </tr>\n",
       "    <tr>\n",
       "      <th>jak</th>\n",
       "      <td>1.001907</td>\n",
       "      <td>0.001907</td>\n",
       "    </tr>\n",
       "    <tr>\n",
       "      <th>koupat</th>\n",
       "      <td>0.997574</td>\n",
       "      <td>0.002426</td>\n",
       "    </tr>\n",
       "    <tr>\n",
       "      <th>osobnost</th>\n",
       "      <td>0.997574</td>\n",
       "      <td>0.002426</td>\n",
       "    </tr>\n",
       "    <tr>\n",
       "      <th>motiv</th>\n",
       "      <td>0.997574</td>\n",
       "      <td>0.002426</td>\n",
       "    </tr>\n",
       "    <tr>\n",
       "      <th>inteligentní</th>\n",
       "      <td>0.997574</td>\n",
       "      <td>0.002426</td>\n",
       "    </tr>\n",
       "    <tr>\n",
       "      <th>nutkání</th>\n",
       "      <td>0.997574</td>\n",
       "      <td>0.002426</td>\n",
       "    </tr>\n",
       "    <tr>\n",
       "      <th>varovat</th>\n",
       "      <td>0.997574</td>\n",
       "      <td>0.002426</td>\n",
       "    </tr>\n",
       "    <tr>\n",
       "      <th>hodina</th>\n",
       "      <td>1.002450</td>\n",
       "      <td>0.002450</td>\n",
       "    </tr>\n",
       "    <tr>\n",
       "      <th>popovídat</th>\n",
       "      <td>1.002507</td>\n",
       "      <td>0.002507</td>\n",
       "    </tr>\n",
       "    <tr>\n",
       "      <th>pravda</th>\n",
       "      <td>1.002616</td>\n",
       "      <td>0.002616</td>\n",
       "    </tr>\n",
       "  </tbody>\n",
       "</table>\n",
       "</div>"
      ],
      "text/plain": [
       "               cetnost  odchylka\n",
       "slova                           \n",
       "jako          1.000000  0.000000\n",
       "když          1.000000  0.000000\n",
       "být           1.000000  0.000000\n",
       "ale           1.000000  0.000000\n",
       "vnitřní       0.999951  0.000049\n",
       "možný         1.000190  0.000190\n",
       "svátek        1.000190  0.000190\n",
       "vzpomenout    0.999798  0.000202\n",
       "chytrý        0.999615  0.000385\n",
       "dovolit       0.999615  0.000385\n",
       "všechen       0.999555  0.000445\n",
       "on            0.999555  0.000445\n",
       "tak           0.999555  0.000445\n",
       "svůj          0.999555  0.000445\n",
       "hluboký       1.000508  0.000508\n",
       "celý          1.000525  0.000525\n",
       "já            0.999459  0.000541\n",
       "proč          1.000619  0.000619\n",
       "také          0.999339  0.000661\n",
       "rok           0.999339  0.000661\n",
       "téma          1.000749  0.000749\n",
       "než           0.999222  0.000778\n",
       "hluboko       1.000849  0.000849\n",
       "hřiště        0.999109  0.000891\n",
       "odkládat      0.999109  0.000891\n",
       "kde           1.000993  0.000993\n",
       "světlo        0.998923  0.001077\n",
       "dálka         1.001162  0.001162\n",
       "patro         0.998745  0.001255\n",
       "dva           1.001308  0.001308\n",
       "jistit        0.998660  0.001340\n",
       "přes          0.998600  0.001400\n",
       "jeden         1.001465  0.001465\n",
       "středa        0.998521  0.001479\n",
       "zemřít        0.998414  0.001586\n",
       "směr          0.998414  0.001586\n",
       "pět           0.998414  0.001586\n",
       "ukázat        1.001613  0.001613\n",
       "setkat        1.001613  0.001613\n",
       "péče          1.001613  0.001613\n",
       "otáčet        1.001613  0.001613\n",
       "kout          1.001613  0.001613\n",
       "přítomnost    1.001613  0.001613\n",
       "půlka         1.001613  0.001613\n",
       "dělat         0.998259  0.001741\n",
       "pondělí       0.998259  0.001741\n",
       "uvidět        1.001799  0.001799\n",
       "mladý         1.001810  0.001810\n",
       "moci          1.001907  0.001907\n",
       "aby           1.001907  0.001907\n",
       "jak           1.001907  0.001907\n",
       "koupat        0.997574  0.002426\n",
       "osobnost      0.997574  0.002426\n",
       "motiv         0.997574  0.002426\n",
       "inteligentní  0.997574  0.002426\n",
       "nutkání       0.997574  0.002426\n",
       "varovat       0.997574  0.002426\n",
       "hodina        1.002450  0.002450\n",
       "popovídat     1.002507  0.002507\n",
       "pravda        1.002616  0.002616"
      ]
     },
     "execution_count": 159,
     "metadata": {},
     "output_type": "execute_result"
    }
   ],
   "source": [
    "neutralita = pd.DataFrame(pomer).rename(columns={0:'cetnost'})\n",
    "neutralita['odchylka'] = neutralita['cetnost'].apply(lambda x: x-1 if x>1 else 1-x)\n",
    "neutralita.sort_values(by='odchylka').head(60)"
   ]
  },
  {
   "cell_type": "markdown",
   "id": "56c777c1-a5d0-4f62-86fe-76103355ccd9",
   "metadata": {},
   "source": [
    "## Slova více používaná muži-spisovateli"
   ]
  },
  {
   "cell_type": "code",
   "execution_count": 161,
   "id": "fea95f4f-a5cf-4e25-91e3-5d2db77266ed",
   "metadata": {},
   "outputs": [
    {
     "data": {
      "text/plain": [
       "slova\n",
       "pistole          3.488951\n",
       "prezident        3.218417\n",
       "ruský            3.067439\n",
       "souboj           2.907459\n",
       "kladivo          2.854596\n",
       "kulka            2.775302\n",
       "vůl              2.750522\n",
       "velet            2.696007\n",
       "služebný         2.691834\n",
       "politik          2.676184\n",
       "střílet          2.662024\n",
       "zaregistrovat    2.601845\n",
       "nepříliš         2.577066\n",
       "civilizace       2.541023\n",
       "zvláště          2.510987\n",
       "zápas            2.510987\n",
       "posléze          2.497772\n",
       "hlídka           2.497772\n",
       "západní          2.466935\n",
       "komín            2.444909\n",
       "ohrozit          2.444909\n",
       "riziko           2.438301\n",
       "vývoj            2.435469\n",
       "lebka            2.430544\n",
       "technický        2.428389\n",
       "dtype: float64"
      ]
     },
     "execution_count": 161,
     "metadata": {},
     "output_type": "execute_result"
    }
   ],
   "source": [
    "pomer.sort_values(ascending=False).head(25)"
   ]
  },
  {
   "cell_type": "code",
   "execution_count": 162,
   "id": "f659a7db-fdf6-40c5-a219-3a7b8c5b79a4",
   "metadata": {},
   "outputs": [
    {
     "data": {
      "text/plain": [
       "slova\n",
       "netušila      0.222198\n",
       "zahlédla      0.243983\n",
       "užívala       0.278374\n",
       "nečekala      0.278769\n",
       "lekla         0.283194\n",
       "neuměla       0.303184\n",
       "rozhlížela    0.319111\n",
       "ucítila       0.322841\n",
       "ptala         0.345314\n",
       "nestihla      0.354294\n",
       "přejela       0.376648\n",
       "zadívala      0.383682\n",
       "vyhrkla       0.387853\n",
       "četla         0.388847\n",
       "nešla         0.396472\n",
       "chystala      0.396472\n",
       "ušklíbla      0.419794\n",
       "nalila        0.435152\n",
       "chytla        0.439566\n",
       "nechávala     0.442573\n",
       "odložila      0.470810\n",
       "strčila       0.470810\n",
       "usmívala      0.471665\n",
       "neřekla       0.487660\n",
       "sklopila      0.487965\n",
       "zamávala      0.495590\n",
       "vzdychla      0.509749\n",
       "zasmála       0.548961\n",
       "mávla         0.548961\n",
       "vyrazila      0.552827\n",
       "odvětila      0.558297\n",
       "odsekla       0.594708\n",
       "zažila        0.610781\n",
       "nepřišla      0.636199\n",
       "přikývla      0.660786\n",
       "jezdila       0.725253\n",
       "pohladila     0.735275\n",
       "dokola        0.799779\n",
       "Hela          0.849582\n",
       "stodola       0.861301\n",
       "škola         0.888590\n",
       "jehla         0.911885\n",
       "smůla         0.984343\n",
       "docela        0.992023\n",
       "síla          1.008311\n",
       "cela          1.008568\n",
       "kontrola      1.015354\n",
       "zcela         1.035491\n",
       "kapitola      1.066372\n",
       "kapela        1.092976\n",
       "pila          1.134519\n",
       "skála         1.167789\n",
       "hala          1.189415\n",
       "nula          1.274373\n",
       "žíla          1.361083\n",
       "mrtvola       1.412430\n",
       "vila          1.513801\n",
       "Karla         1.576666\n",
       "cihla         1.699164\n",
       "střela        1.903064\n",
       "zpravidla     1.962535\n",
       "dtype: float64"
      ]
     },
     "execution_count": 162,
     "metadata": {},
     "output_type": "execute_result"
    }
   ],
   "source": [
    "pomer[pomer.index.str.endswith('la')].sort_values()"
   ]
  },
  {
   "cell_type": "markdown",
   "id": "a8659002-a9cf-4014-b158-8e923be1f622",
   "metadata": {},
   "source": [
    "## Slova více používaná ženami-spisovatelkami"
   ]
  },
  {
   "cell_type": "markdown",
   "id": "af6a0893-d62d-458c-ac19-b6a695caf537",
   "metadata": {},
   "source": [
    "Pleso vypadá spíš jako špatné lemma slova ples."
   ]
  },
  {
   "cell_type": "code",
   "execution_count": 165,
   "id": "65c81f67-1889-45e4-b576-67f9582ae140",
   "metadata": {},
   "outputs": [
    {
     "data": {
      "text/plain": [
       "slova\n",
       "babi          5.404818\n",
       "netušila      4.500482\n",
       "zahlédla      4.098653\n",
       "užívala       3.592293\n",
       "pyžamo        3.592293\n",
       "nečekala      3.587198\n",
       "lekla         3.531148\n",
       "salát         3.362998\n",
       "neuměla       3.298325\n",
       "rozhlížela    3.133702\n",
       "ucítila       3.097498\n",
       "kamarádka     2.989331\n",
       "ptala         2.895915\n",
       "miminko       2.872560\n",
       "nestihla      2.822516\n",
       "obývací       2.670616\n",
       "objímat       2.668466\n",
       "přejela       2.654998\n",
       "rande         2.621160\n",
       "zadívala      2.606323\n",
       "vyhrkla       2.578298\n",
       "četla         2.571704\n",
       "ordinace      2.522248\n",
       "chystala      2.522248\n",
       "nešla         2.522248\n",
       "dtype: float64"
      ]
     },
     "execution_count": 165,
     "metadata": {},
     "output_type": "execute_result"
    }
   ],
   "source": [
    "(1 / pomer).sort_values(ascending=False).head(25)"
   ]
  },
  {
   "cell_type": "markdown",
   "id": "b831353d-ff23-4a3e-917a-8fd957fd4f67",
   "metadata": {},
   "source": [
    "## Graf"
   ]
  },
  {
   "cell_type": "code",
   "execution_count": 167,
   "id": "16b39cc6-6e5c-4657-8302-0a955f5e103a",
   "metadata": {},
   "outputs": [
    {
     "data": {
      "text/plain": [
       "slova\n",
       "redakce          1.627621\n",
       "zanalyzoval           NaN\n",
       "poryvu           0.396472\n",
       "pohřbívání            NaN\n",
       "ventilový             NaN\n",
       "dosledu               NaN\n",
       "uslzeného             NaN\n",
       "litosférickou         NaN\n",
       "komplicové            NaN\n",
       "patlají               NaN\n",
       "nevyčuhovat      1.189415\n",
       "cifru                 NaN\n",
       "gruiwové              NaN\n",
       "sběrném          1.784123\n",
       "problémovej      1.189415\n",
       "výsadba          2.378830\n",
       "hloubavé              NaN\n",
       "neumělý               NaN\n",
       "křupal                NaN\n",
       "tajuplně         1.585887\n",
       "dtype: float64"
      ]
     },
     "execution_count": 167,
     "metadata": {},
     "output_type": "execute_result"
    }
   ],
   "source": [
    "pomer_vsech.sample(20)"
   ]
  },
  {
   "cell_type": "code",
   "execution_count": 168,
   "id": "7f526f28-0902-4875-928a-9e1795b34db6",
   "metadata": {},
   "outputs": [
    {
     "data": {
      "text/html": [
       "<div>\n",
       "<style scoped>\n",
       "    .dataframe tbody tr th:only-of-type {\n",
       "        vertical-align: middle;\n",
       "    }\n",
       "\n",
       "    .dataframe tbody tr th {\n",
       "        vertical-align: top;\n",
       "    }\n",
       "\n",
       "    .dataframe thead th {\n",
       "        text-align: right;\n",
       "    }\n",
       "</style>\n",
       "<table border=\"1\" class=\"dataframe\">\n",
       "  <thead>\n",
       "    <tr style=\"text-align: right;\">\n",
       "      <th></th>\n",
       "      <th>slova</th>\n",
       "      <th>0</th>\n",
       "    </tr>\n",
       "  </thead>\n",
       "  <tbody>\n",
       "    <tr>\n",
       "      <th>0</th>\n",
       "      <td>Adam</td>\n",
       "      <td>0.979518</td>\n",
       "    </tr>\n",
       "    <tr>\n",
       "      <th>1</th>\n",
       "      <td>Amerika</td>\n",
       "      <td>1.331012</td>\n",
       "    </tr>\n",
       "    <tr>\n",
       "      <th>2</th>\n",
       "      <td>Anglie</td>\n",
       "      <td>1.101310</td>\n",
       "    </tr>\n",
       "    <tr>\n",
       "      <th>3</th>\n",
       "      <td>Anna</td>\n",
       "      <td>1.054254</td>\n",
       "    </tr>\n",
       "    <tr>\n",
       "      <th>4</th>\n",
       "      <td>Brno</td>\n",
       "      <td>0.907711</td>\n",
       "    </tr>\n",
       "    <tr>\n",
       "      <th>...</th>\n",
       "      <td>...</td>\n",
       "      <td>...</td>\n",
       "    </tr>\n",
       "    <tr>\n",
       "      <th>4543</th>\n",
       "      <td>žádost</td>\n",
       "      <td>1.477758</td>\n",
       "    </tr>\n",
       "    <tr>\n",
       "      <th>4544</th>\n",
       "      <td>žák</td>\n",
       "      <td>1.369629</td>\n",
       "    </tr>\n",
       "    <tr>\n",
       "      <th>4545</th>\n",
       "      <td>žíla</td>\n",
       "      <td>1.361083</td>\n",
       "    </tr>\n",
       "    <tr>\n",
       "      <th>4546</th>\n",
       "      <td>žít</td>\n",
       "      <td>0.884925</td>\n",
       "    </tr>\n",
       "    <tr>\n",
       "      <th>4547</th>\n",
       "      <td>žízeň</td>\n",
       "      <td>1.379721</td>\n",
       "    </tr>\n",
       "  </tbody>\n",
       "</table>\n",
       "<p>4548 rows × 2 columns</p>\n",
       "</div>"
      ],
      "text/plain": [
       "        slova         0\n",
       "0        Adam  0.979518\n",
       "1     Amerika  1.331012\n",
       "2      Anglie  1.101310\n",
       "3        Anna  1.054254\n",
       "4        Brno  0.907711\n",
       "...       ...       ...\n",
       "4543   žádost  1.477758\n",
       "4544      žák  1.369629\n",
       "4545     žíla  1.361083\n",
       "4546      žít  0.884925\n",
       "4547    žízeň  1.379721\n",
       "\n",
       "[4548 rows x 2 columns]"
      ]
     },
     "execution_count": 168,
     "metadata": {},
     "output_type": "execute_result"
    }
   ],
   "source": [
    "pomer.reset_index()"
   ]
  },
  {
   "cell_type": "code",
   "execution_count": 169,
   "id": "aa69c596-160e-4395-9fcb-b0a8d389626d",
   "metadata": {},
   "outputs": [],
   "source": [
    "import polars as pl"
   ]
  },
  {
   "cell_type": "code",
   "execution_count": 170,
   "id": "98ac2ffa-3e13-4b28-9ee6-15d3a6f5edca",
   "metadata": {},
   "outputs": [
    {
     "data": {
      "text/plain": [
       "slova\n",
       "Adam       0.979518\n",
       "Amerika    1.331012\n",
       "Anglie     1.101310\n",
       "Anna       1.054254\n",
       "Brno       0.907711\n",
       "             ...   \n",
       "žádost     1.477758\n",
       "žák        1.369629\n",
       "žíla       1.361083\n",
       "žít        0.884925\n",
       "žízeň      1.379721\n",
       "Length: 4548, dtype: float64"
      ]
     },
     "execution_count": 170,
     "metadata": {},
     "output_type": "execute_result"
    }
   ],
   "source": [
    "pomer"
   ]
  },
  {
   "cell_type": "code",
   "execution_count": 171,
   "id": "c3330e87-aabb-449a-b89d-571fdb91f19b",
   "metadata": {},
   "outputs": [],
   "source": [
    "pomer = pomer.reset_index().rename(columns={'slova':'slovo',0:'rozdíl'})"
   ]
  },
  {
   "cell_type": "code",
   "execution_count": 172,
   "id": "099a2660-4eef-4cd0-860e-5cd7b4ab789e",
   "metadata": {},
   "outputs": [
    {
     "data": {
      "text/html": [
       "<div>\n",
       "<style scoped>\n",
       "    .dataframe tbody tr th:only-of-type {\n",
       "        vertical-align: middle;\n",
       "    }\n",
       "\n",
       "    .dataframe tbody tr th {\n",
       "        vertical-align: top;\n",
       "    }\n",
       "\n",
       "    .dataframe thead th {\n",
       "        text-align: right;\n",
       "    }\n",
       "</style>\n",
       "<table border=\"1\" class=\"dataframe\">\n",
       "  <thead>\n",
       "    <tr style=\"text-align: right;\">\n",
       "      <th></th>\n",
       "      <th>slovo</th>\n",
       "      <th>rozdíl</th>\n",
       "    </tr>\n",
       "  </thead>\n",
       "  <tbody>\n",
       "    <tr>\n",
       "      <th>0</th>\n",
       "      <td>Adam</td>\n",
       "      <td>0.979518</td>\n",
       "    </tr>\n",
       "    <tr>\n",
       "      <th>1</th>\n",
       "      <td>Amerika</td>\n",
       "      <td>1.331012</td>\n",
       "    </tr>\n",
       "    <tr>\n",
       "      <th>2</th>\n",
       "      <td>Anglie</td>\n",
       "      <td>1.101310</td>\n",
       "    </tr>\n",
       "    <tr>\n",
       "      <th>3</th>\n",
       "      <td>Anna</td>\n",
       "      <td>1.054254</td>\n",
       "    </tr>\n",
       "    <tr>\n",
       "      <th>4</th>\n",
       "      <td>Brno</td>\n",
       "      <td>0.907711</td>\n",
       "    </tr>\n",
       "    <tr>\n",
       "      <th>...</th>\n",
       "      <td>...</td>\n",
       "      <td>...</td>\n",
       "    </tr>\n",
       "    <tr>\n",
       "      <th>4543</th>\n",
       "      <td>žádost</td>\n",
       "      <td>1.477758</td>\n",
       "    </tr>\n",
       "    <tr>\n",
       "      <th>4544</th>\n",
       "      <td>žák</td>\n",
       "      <td>1.369629</td>\n",
       "    </tr>\n",
       "    <tr>\n",
       "      <th>4545</th>\n",
       "      <td>žíla</td>\n",
       "      <td>1.361083</td>\n",
       "    </tr>\n",
       "    <tr>\n",
       "      <th>4546</th>\n",
       "      <td>žít</td>\n",
       "      <td>0.884925</td>\n",
       "    </tr>\n",
       "    <tr>\n",
       "      <th>4547</th>\n",
       "      <td>žízeň</td>\n",
       "      <td>1.379721</td>\n",
       "    </tr>\n",
       "  </tbody>\n",
       "</table>\n",
       "<p>4548 rows × 2 columns</p>\n",
       "</div>"
      ],
      "text/plain": [
       "        slovo    rozdíl\n",
       "0        Adam  0.979518\n",
       "1     Amerika  1.331012\n",
       "2      Anglie  1.101310\n",
       "3        Anna  1.054254\n",
       "4        Brno  0.907711\n",
       "...       ...       ...\n",
       "4543   žádost  1.477758\n",
       "4544      žák  1.369629\n",
       "4545     žíla  1.361083\n",
       "4546      žít  0.884925\n",
       "4547    žízeň  1.379721\n",
       "\n",
       "[4548 rows x 2 columns]"
      ]
     },
     "execution_count": 172,
     "metadata": {},
     "output_type": "execute_result"
    }
   ],
   "source": [
    "pomer"
   ]
  },
  {
   "cell_type": "code",
   "execution_count": null,
   "id": "c5a6c394-f7f3-4adc-9750-2841a2d0788e",
   "metadata": {},
   "outputs": [],
   "source": []
  },
  {
   "cell_type": "code",
   "execution_count": 173,
   "id": "d99a2ed7-080b-49ee-9893-85b7a34a5608",
   "metadata": {},
   "outputs": [
    {
     "data": {
      "text/html": [
       "<div>\n",
       "<style scoped>\n",
       "    .dataframe tbody tr th:only-of-type {\n",
       "        vertical-align: middle;\n",
       "    }\n",
       "\n",
       "    .dataframe tbody tr th {\n",
       "        vertical-align: top;\n",
       "    }\n",
       "\n",
       "    .dataframe thead th {\n",
       "        text-align: right;\n",
       "    }\n",
       "</style>\n",
       "<table border=\"1\" class=\"dataframe\">\n",
       "  <thead>\n",
       "    <tr style=\"text-align: right;\">\n",
       "      <th></th>\n",
       "      <th>slovo</th>\n",
       "      <th>rozdíl</th>\n",
       "    </tr>\n",
       "  </thead>\n",
       "  <tbody>\n",
       "    <tr>\n",
       "      <th>0</th>\n",
       "      <td>Adam</td>\n",
       "      <td>0.979518</td>\n",
       "    </tr>\n",
       "    <tr>\n",
       "      <th>1</th>\n",
       "      <td>Amerika</td>\n",
       "      <td>1.331012</td>\n",
       "    </tr>\n",
       "    <tr>\n",
       "      <th>2</th>\n",
       "      <td>Anglie</td>\n",
       "      <td>1.101310</td>\n",
       "    </tr>\n",
       "    <tr>\n",
       "      <th>3</th>\n",
       "      <td>Anna</td>\n",
       "      <td>1.054254</td>\n",
       "    </tr>\n",
       "    <tr>\n",
       "      <th>4</th>\n",
       "      <td>Brno</td>\n",
       "      <td>0.907711</td>\n",
       "    </tr>\n",
       "    <tr>\n",
       "      <th>...</th>\n",
       "      <td>...</td>\n",
       "      <td>...</td>\n",
       "    </tr>\n",
       "    <tr>\n",
       "      <th>4542</th>\n",
       "      <td>žádný</td>\n",
       "      <td>0.997186</td>\n",
       "    </tr>\n",
       "    <tr>\n",
       "      <th>4543</th>\n",
       "      <td>žádost</td>\n",
       "      <td>1.477758</td>\n",
       "    </tr>\n",
       "    <tr>\n",
       "      <th>4544</th>\n",
       "      <td>žák</td>\n",
       "      <td>1.369629</td>\n",
       "    </tr>\n",
       "    <tr>\n",
       "      <th>4546</th>\n",
       "      <td>žít</td>\n",
       "      <td>0.884925</td>\n",
       "    </tr>\n",
       "    <tr>\n",
       "      <th>4547</th>\n",
       "      <td>žízeň</td>\n",
       "      <td>1.379721</td>\n",
       "    </tr>\n",
       "  </tbody>\n",
       "</table>\n",
       "<p>4487 rows × 2 columns</p>\n",
       "</div>"
      ],
      "text/plain": [
       "        slovo    rozdíl\n",
       "0        Adam  0.979518\n",
       "1     Amerika  1.331012\n",
       "2      Anglie  1.101310\n",
       "3        Anna  1.054254\n",
       "4        Brno  0.907711\n",
       "...       ...       ...\n",
       "4542    žádný  0.997186\n",
       "4543   žádost  1.477758\n",
       "4544      žák  1.369629\n",
       "4546      žít  0.884925\n",
       "4547    žízeň  1.379721\n",
       "\n",
       "[4487 rows x 2 columns]"
      ]
     },
     "execution_count": 173,
     "metadata": {},
     "output_type": "execute_result"
    }
   ],
   "source": [
    "pomer_bez_a = pomer[pomer['slovo'].str[-2:] != 'la']\n",
    "pomer_bez_a"
   ]
  },
  {
   "cell_type": "code",
   "execution_count": 174,
   "id": "b0770939-9554-43a6-969e-ad48d2604a8c",
   "metadata": {},
   "outputs": [
    {
     "data": {
      "text/html": [
       "<div>\n",
       "<style scoped>\n",
       "    .dataframe tbody tr th:only-of-type {\n",
       "        vertical-align: middle;\n",
       "    }\n",
       "\n",
       "    .dataframe tbody tr th {\n",
       "        vertical-align: top;\n",
       "    }\n",
       "\n",
       "    .dataframe thead th {\n",
       "        text-align: right;\n",
       "    }\n",
       "</style>\n",
       "<table border=\"1\" class=\"dataframe\">\n",
       "  <thead>\n",
       "    <tr style=\"text-align: right;\">\n",
       "      <th></th>\n",
       "      <th>slovo</th>\n",
       "      <th>rozdíl</th>\n",
       "      <th>mz</th>\n",
       "    </tr>\n",
       "  </thead>\n",
       "  <tbody>\n",
       "    <tr>\n",
       "      <th>0</th>\n",
       "      <td>babi</td>\n",
       "      <td>5.404818</td>\n",
       "      <td>ženské autorky</td>\n",
       "    </tr>\n",
       "    <tr>\n",
       "      <th>1</th>\n",
       "      <td>pyžamo</td>\n",
       "      <td>3.592293</td>\n",
       "      <td>ženské autorky</td>\n",
       "    </tr>\n",
       "    <tr>\n",
       "      <th>2</th>\n",
       "      <td>salát</td>\n",
       "      <td>3.362998</td>\n",
       "      <td>ženské autorky</td>\n",
       "    </tr>\n",
       "    <tr>\n",
       "      <th>3</th>\n",
       "      <td>kamarádka</td>\n",
       "      <td>2.989331</td>\n",
       "      <td>ženské autorky</td>\n",
       "    </tr>\n",
       "    <tr>\n",
       "      <th>4</th>\n",
       "      <td>miminko</td>\n",
       "      <td>2.872560</td>\n",
       "      <td>ženské autorky</td>\n",
       "    </tr>\n",
       "    <tr>\n",
       "      <th>5</th>\n",
       "      <td>obývací</td>\n",
       "      <td>2.670616</td>\n",
       "      <td>ženské autorky</td>\n",
       "    </tr>\n",
       "    <tr>\n",
       "      <th>6</th>\n",
       "      <td>objímat</td>\n",
       "      <td>2.668466</td>\n",
       "      <td>ženské autorky</td>\n",
       "    </tr>\n",
       "    <tr>\n",
       "      <th>7</th>\n",
       "      <td>rande</td>\n",
       "      <td>2.621160</td>\n",
       "      <td>ženské autorky</td>\n",
       "    </tr>\n",
       "    <tr>\n",
       "      <th>8</th>\n",
       "      <td>ordinace</td>\n",
       "      <td>2.522248</td>\n",
       "      <td>ženské autorky</td>\n",
       "    </tr>\n",
       "    <tr>\n",
       "      <th>9</th>\n",
       "      <td>příšerně</td>\n",
       "      <td>2.469701</td>\n",
       "      <td>ženské autorky</td>\n",
       "    </tr>\n",
       "    <tr>\n",
       "      <th>10</th>\n",
       "      <td>povytáhnout</td>\n",
       "      <td>2.457575</td>\n",
       "      <td>ženské autorky</td>\n",
       "    </tr>\n",
       "    <tr>\n",
       "      <th>11</th>\n",
       "      <td>sukně</td>\n",
       "      <td>2.428832</td>\n",
       "      <td>ženské autorky</td>\n",
       "    </tr>\n",
       "    <tr>\n",
       "      <th>12</th>\n",
       "      <td>zaregistrovat</td>\n",
       "      <td>-2.601845</td>\n",
       "      <td>mužští autoři</td>\n",
       "    </tr>\n",
       "    <tr>\n",
       "      <th>13</th>\n",
       "      <td>střílet</td>\n",
       "      <td>-2.662024</td>\n",
       "      <td>mužští autoři</td>\n",
       "    </tr>\n",
       "    <tr>\n",
       "      <th>14</th>\n",
       "      <td>politik</td>\n",
       "      <td>-2.676184</td>\n",
       "      <td>mužští autoři</td>\n",
       "    </tr>\n",
       "    <tr>\n",
       "      <th>15</th>\n",
       "      <td>služebný</td>\n",
       "      <td>-2.691834</td>\n",
       "      <td>mužští autoři</td>\n",
       "    </tr>\n",
       "    <tr>\n",
       "      <th>16</th>\n",
       "      <td>velet</td>\n",
       "      <td>-2.696007</td>\n",
       "      <td>mužští autoři</td>\n",
       "    </tr>\n",
       "    <tr>\n",
       "      <th>17</th>\n",
       "      <td>vůl</td>\n",
       "      <td>-2.750522</td>\n",
       "      <td>mužští autoři</td>\n",
       "    </tr>\n",
       "    <tr>\n",
       "      <th>18</th>\n",
       "      <td>kulka</td>\n",
       "      <td>-2.775302</td>\n",
       "      <td>mužští autoři</td>\n",
       "    </tr>\n",
       "    <tr>\n",
       "      <th>19</th>\n",
       "      <td>kladivo</td>\n",
       "      <td>-2.854596</td>\n",
       "      <td>mužští autoři</td>\n",
       "    </tr>\n",
       "    <tr>\n",
       "      <th>20</th>\n",
       "      <td>souboj</td>\n",
       "      <td>-2.907459</td>\n",
       "      <td>mužští autoři</td>\n",
       "    </tr>\n",
       "    <tr>\n",
       "      <th>21</th>\n",
       "      <td>ruský</td>\n",
       "      <td>-3.067439</td>\n",
       "      <td>mužští autoři</td>\n",
       "    </tr>\n",
       "    <tr>\n",
       "      <th>22</th>\n",
       "      <td>prezident</td>\n",
       "      <td>-3.218417</td>\n",
       "      <td>mužští autoři</td>\n",
       "    </tr>\n",
       "    <tr>\n",
       "      <th>23</th>\n",
       "      <td>pistole</td>\n",
       "      <td>-3.488951</td>\n",
       "      <td>mužští autoři</td>\n",
       "    </tr>\n",
       "  </tbody>\n",
       "</table>\n",
       "</div>"
      ],
      "text/plain": [
       "            slovo    rozdíl              mz\n",
       "0            babi  5.404818  ženské autorky\n",
       "1          pyžamo  3.592293  ženské autorky\n",
       "2           salát  3.362998  ženské autorky\n",
       "3       kamarádka  2.989331  ženské autorky\n",
       "4         miminko  2.872560  ženské autorky\n",
       "5         obývací  2.670616  ženské autorky\n",
       "6         objímat  2.668466  ženské autorky\n",
       "7           rande  2.621160  ženské autorky\n",
       "8        ordinace  2.522248  ženské autorky\n",
       "9        příšerně  2.469701  ženské autorky\n",
       "10    povytáhnout  2.457575  ženské autorky\n",
       "11          sukně  2.428832  ženské autorky\n",
       "12  zaregistrovat -2.601845   mužští autoři\n",
       "13        střílet -2.662024   mužští autoři\n",
       "14        politik -2.676184   mužští autoři\n",
       "15       služebný -2.691834   mužští autoři\n",
       "16          velet -2.696007   mužští autoři\n",
       "17            vůl -2.750522   mužští autoři\n",
       "18          kulka -2.775302   mužští autoři\n",
       "19        kladivo -2.854596   mužští autoři\n",
       "20         souboj -2.907459   mužští autoři\n",
       "21          ruský -3.067439   mužští autoři\n",
       "22      prezident -3.218417   mužští autoři\n",
       "23        pistole -3.488951   mužští autoři"
      ]
     },
     "execution_count": 174,
     "metadata": {},
     "output_type": "execute_result"
    }
   ],
   "source": [
    "problematicke = ['pleso','Karlov','podpatku']\n",
    "pomer2 = pomer_bez_a\n",
    "pomer2 = pomer2[~pomer2['slovo'].isin(problematicke)]\n",
    "pomer2 = pomer2.groupby('slovo')['rozdíl'].first()\n",
    "do_grafu = pd.concat([\n",
    "    (1 / pomer2).sort_values(ascending=False).head(12),\n",
    "    -pomer2.sort_values(ascending=False).head(12)\n",
    "]).sort_values(ascending=False).reset_index().rename(columns={'slova':'slovo',0:'rozdíl'})\n",
    "do_grafu['mz'] = do_grafu['rozdíl'].apply(lambda x: 'mužští autoři' if x < 0 else 'ženské autorky')\n",
    "do_grafu"
   ]
  },
  {
   "cell_type": "code",
   "execution_count": 175,
   "id": "e694fb39-1383-4a3a-b562-5ffa7bdbc1fb",
   "metadata": {},
   "outputs": [
    {
     "data": {
      "text/html": [
       "<div>\n",
       "<style scoped>\n",
       "    .dataframe tbody tr th:only-of-type {\n",
       "        vertical-align: middle;\n",
       "    }\n",
       "\n",
       "    .dataframe tbody tr th {\n",
       "        vertical-align: top;\n",
       "    }\n",
       "\n",
       "    .dataframe thead th {\n",
       "        text-align: right;\n",
       "    }\n",
       "</style>\n",
       "<table border=\"1\" class=\"dataframe\">\n",
       "  <thead>\n",
       "    <tr style=\"text-align: right;\">\n",
       "      <th></th>\n",
       "      <th>slovo</th>\n",
       "      <th>rozdíl</th>\n",
       "      <th>mz</th>\n",
       "    </tr>\n",
       "  </thead>\n",
       "  <tbody>\n",
       "    <tr>\n",
       "      <th>0</th>\n",
       "      <td>babi</td>\n",
       "      <td>5.404818</td>\n",
       "      <td>ženské autorky</td>\n",
       "    </tr>\n",
       "    <tr>\n",
       "      <th>1</th>\n",
       "      <td>pyžamo</td>\n",
       "      <td>3.592293</td>\n",
       "      <td>ženské autorky</td>\n",
       "    </tr>\n",
       "    <tr>\n",
       "      <th>2</th>\n",
       "      <td>salát</td>\n",
       "      <td>3.362998</td>\n",
       "      <td>ženské autorky</td>\n",
       "    </tr>\n",
       "    <tr>\n",
       "      <th>3</th>\n",
       "      <td>kamarádka</td>\n",
       "      <td>2.989331</td>\n",
       "      <td>ženské autorky</td>\n",
       "    </tr>\n",
       "    <tr>\n",
       "      <th>4</th>\n",
       "      <td>miminko</td>\n",
       "      <td>2.872560</td>\n",
       "      <td>ženské autorky</td>\n",
       "    </tr>\n",
       "    <tr>\n",
       "      <th>5</th>\n",
       "      <td>obývací</td>\n",
       "      <td>2.670616</td>\n",
       "      <td>ženské autorky</td>\n",
       "    </tr>\n",
       "    <tr>\n",
       "      <th>6</th>\n",
       "      <td>objímat</td>\n",
       "      <td>2.668466</td>\n",
       "      <td>ženské autorky</td>\n",
       "    </tr>\n",
       "    <tr>\n",
       "      <th>7</th>\n",
       "      <td>rande</td>\n",
       "      <td>2.621160</td>\n",
       "      <td>ženské autorky</td>\n",
       "    </tr>\n",
       "    <tr>\n",
       "      <th>8</th>\n",
       "      <td>ordinace</td>\n",
       "      <td>2.522248</td>\n",
       "      <td>ženské autorky</td>\n",
       "    </tr>\n",
       "    <tr>\n",
       "      <th>9</th>\n",
       "      <td>příšerně</td>\n",
       "      <td>2.469701</td>\n",
       "      <td>ženské autorky</td>\n",
       "    </tr>\n",
       "    <tr>\n",
       "      <th>10</th>\n",
       "      <td>povytáhnout</td>\n",
       "      <td>2.457575</td>\n",
       "      <td>ženské autorky</td>\n",
       "    </tr>\n",
       "    <tr>\n",
       "      <th>11</th>\n",
       "      <td>sukně</td>\n",
       "      <td>2.428832</td>\n",
       "      <td>ženské autorky</td>\n",
       "    </tr>\n",
       "    <tr>\n",
       "      <th>12</th>\n",
       "      <td>zaregistrovat</td>\n",
       "      <td>2.601845</td>\n",
       "      <td>mužští autoři</td>\n",
       "    </tr>\n",
       "    <tr>\n",
       "      <th>13</th>\n",
       "      <td>střílet</td>\n",
       "      <td>2.662024</td>\n",
       "      <td>mužští autoři</td>\n",
       "    </tr>\n",
       "    <tr>\n",
       "      <th>14</th>\n",
       "      <td>politik</td>\n",
       "      <td>2.676184</td>\n",
       "      <td>mužští autoři</td>\n",
       "    </tr>\n",
       "    <tr>\n",
       "      <th>15</th>\n",
       "      <td>služebný</td>\n",
       "      <td>2.691834</td>\n",
       "      <td>mužští autoři</td>\n",
       "    </tr>\n",
       "    <tr>\n",
       "      <th>16</th>\n",
       "      <td>velet</td>\n",
       "      <td>2.696007</td>\n",
       "      <td>mužští autoři</td>\n",
       "    </tr>\n",
       "    <tr>\n",
       "      <th>17</th>\n",
       "      <td>vůl</td>\n",
       "      <td>2.750522</td>\n",
       "      <td>mužští autoři</td>\n",
       "    </tr>\n",
       "    <tr>\n",
       "      <th>18</th>\n",
       "      <td>kulka</td>\n",
       "      <td>2.775302</td>\n",
       "      <td>mužští autoři</td>\n",
       "    </tr>\n",
       "    <tr>\n",
       "      <th>19</th>\n",
       "      <td>kladivo</td>\n",
       "      <td>2.854596</td>\n",
       "      <td>mužští autoři</td>\n",
       "    </tr>\n",
       "    <tr>\n",
       "      <th>20</th>\n",
       "      <td>souboj</td>\n",
       "      <td>2.907459</td>\n",
       "      <td>mužští autoři</td>\n",
       "    </tr>\n",
       "    <tr>\n",
       "      <th>21</th>\n",
       "      <td>ruský</td>\n",
       "      <td>3.067439</td>\n",
       "      <td>mužští autoři</td>\n",
       "    </tr>\n",
       "    <tr>\n",
       "      <th>22</th>\n",
       "      <td>prezident</td>\n",
       "      <td>3.218417</td>\n",
       "      <td>mužští autoři</td>\n",
       "    </tr>\n",
       "    <tr>\n",
       "      <th>23</th>\n",
       "      <td>pistole</td>\n",
       "      <td>3.488951</td>\n",
       "      <td>mužští autoři</td>\n",
       "    </tr>\n",
       "  </tbody>\n",
       "</table>\n",
       "</div>"
      ],
      "text/plain": [
       "            slovo    rozdíl              mz\n",
       "0            babi  5.404818  ženské autorky\n",
       "1          pyžamo  3.592293  ženské autorky\n",
       "2           salát  3.362998  ženské autorky\n",
       "3       kamarádka  2.989331  ženské autorky\n",
       "4         miminko  2.872560  ženské autorky\n",
       "5         obývací  2.670616  ženské autorky\n",
       "6         objímat  2.668466  ženské autorky\n",
       "7           rande  2.621160  ženské autorky\n",
       "8        ordinace  2.522248  ženské autorky\n",
       "9        příšerně  2.469701  ženské autorky\n",
       "10    povytáhnout  2.457575  ženské autorky\n",
       "11          sukně  2.428832  ženské autorky\n",
       "12  zaregistrovat  2.601845   mužští autoři\n",
       "13        střílet  2.662024   mužští autoři\n",
       "14        politik  2.676184   mužští autoři\n",
       "15       služebný  2.691834   mužští autoři\n",
       "16          velet  2.696007   mužští autoři\n",
       "17            vůl  2.750522   mužští autoři\n",
       "18          kulka  2.775302   mužští autoři\n",
       "19        kladivo  2.854596   mužští autoři\n",
       "20         souboj  2.907459   mužští autoři\n",
       "21          ruský  3.067439   mužští autoři\n",
       "22      prezident  3.218417   mužští autoři\n",
       "23        pistole  3.488951   mužští autoři"
      ]
     },
     "execution_count": 175,
     "metadata": {},
     "output_type": "execute_result"
    }
   ],
   "source": [
    "do_grafu2 = do_grafu\n",
    "do_grafu2['rozdíl'] = do_grafu2['rozdíl'].apply(lambda x: abs(x))\n",
    "do_grafu2"
   ]
  },
  {
   "cell_type": "code",
   "execution_count": 179,
   "id": "c9eccb1e-914a-4d5c-a0f7-83b366419ea9",
   "metadata": {},
   "outputs": [],
   "source": [
    "titulek = [\"Spisovatelky píšou častěji o ženách,\",\"spisovatelé o střelbě\"]\n",
    "kredit = \"zdroj dat: Česká národní bibliografie · vizualizace: iROZHLAS.cz · 2025\"\n",
    "podtitulek = f\"Graf srovnává pouze slova, která se objevila alespoň v 50 prózách, vypadla tak například „erekce“, 9× častěji zmiňovaná muži. Do výsledku se nepromítá, zda se v ukázce slovo objevilo jednou, nebo víckrát.\"\n",
    "podtitulek = podtitulek, 70\n",
    "info = [f\"zdroj: {graf_rozsah} tisíc stran ukázek z próz {graf_zeny} českých autorek a {graf_muzi} autorů z let {graf_rok_min} a {graf_rok_max}\", \"data: Česká národní bibliografie, martinus.cz · vizualizace: iROZHLAS.cz · 2025\"]"
   ]
  },
  {
   "cell_type": "code",
   "execution_count": 375,
   "id": "c7b5c480-3588-413e-a228-ac91dfbaf86e",
   "metadata": {},
   "outputs": [
    {
     "name": "stderr",
     "output_type": "stream",
     "text": [
      "C:\\Users\\micha\\anaconda3\\Lib\\site-packages\\altair\\utils\\core.py:395: FutureWarning: the convert_dtype parameter is deprecated and will be removed in a future version.  Do ``ser.astype(object).apply()`` instead if you want ``convert_dtype=False``.\n",
      "  col = df[col_name].apply(to_list_if_array, convert_dtype=False)\n",
      "C:\\Users\\micha\\anaconda3\\Lib\\site-packages\\altair\\utils\\core.py:395: FutureWarning: the convert_dtype parameter is deprecated and will be removed in a future version.  Do ``ser.astype(object).apply()`` instead if you want ``convert_dtype=False``.\n",
      "  col = df[col_name].apply(to_list_if_array, convert_dtype=False)\n"
     ]
    },
    {
     "data": {
      "text/html": [
       "\n",
       "<style>\n",
       "  #altair-viz-0b964b5a0b2a45dfbb16762f0cf0578a.vega-embed {\n",
       "    width: 100%;\n",
       "    display: flex;\n",
       "  }\n",
       "\n",
       "  #altair-viz-0b964b5a0b2a45dfbb16762f0cf0578a.vega-embed details,\n",
       "  #altair-viz-0b964b5a0b2a45dfbb16762f0cf0578a.vega-embed details summary {\n",
       "    position: relative;\n",
       "  }\n",
       "</style>\n",
       "<div id=\"altair-viz-0b964b5a0b2a45dfbb16762f0cf0578a\"></div>\n",
       "<script type=\"text/javascript\">\n",
       "  var VEGA_DEBUG = (typeof VEGA_DEBUG == \"undefined\") ? {} : VEGA_DEBUG;\n",
       "  (function(spec, embedOpt){\n",
       "    let outputDiv = document.currentScript.previousElementSibling;\n",
       "    if (outputDiv.id !== \"altair-viz-0b964b5a0b2a45dfbb16762f0cf0578a\") {\n",
       "      outputDiv = document.getElementById(\"altair-viz-0b964b5a0b2a45dfbb16762f0cf0578a\");\n",
       "    }\n",
       "    const paths = {\n",
       "      \"vega\": \"https://cdn.jsdelivr.net/npm/vega@5?noext\",\n",
       "      \"vega-lib\": \"https://cdn.jsdelivr.net/npm/vega-lib?noext\",\n",
       "      \"vega-lite\": \"https://cdn.jsdelivr.net/npm/vega-lite@5.8.0?noext\",\n",
       "      \"vega-embed\": \"https://cdn.jsdelivr.net/npm/vega-embed@6?noext\",\n",
       "    };\n",
       "\n",
       "    function maybeLoadScript(lib, version) {\n",
       "      var key = `${lib.replace(\"-\", \"\")}_version`;\n",
       "      return (VEGA_DEBUG[key] == version) ?\n",
       "        Promise.resolve(paths[lib]) :\n",
       "        new Promise(function(resolve, reject) {\n",
       "          var s = document.createElement('script');\n",
       "          document.getElementsByTagName(\"head\")[0].appendChild(s);\n",
       "          s.async = true;\n",
       "          s.onload = () => {\n",
       "            VEGA_DEBUG[key] = version;\n",
       "            return resolve(paths[lib]);\n",
       "          };\n",
       "          s.onerror = () => reject(`Error loading script: ${paths[lib]}`);\n",
       "          s.src = paths[lib];\n",
       "        });\n",
       "    }\n",
       "\n",
       "    function showError(err) {\n",
       "      outputDiv.innerHTML = `<div class=\"error\" style=\"color:red;\">${err}</div>`;\n",
       "      throw err;\n",
       "    }\n",
       "\n",
       "    function displayChart(vegaEmbed) {\n",
       "      vegaEmbed(outputDiv, spec, embedOpt)\n",
       "        .catch(err => showError(`Javascript Error: ${err.message}<br>This usually means there's a typo in your chart specification. See the javascript console for the full traceback.`));\n",
       "    }\n",
       "\n",
       "    if(typeof define === \"function\" && define.amd) {\n",
       "      requirejs.config({paths});\n",
       "      require([\"vega-embed\"], displayChart, err => showError(`Error loading script: ${err.message}`));\n",
       "    } else {\n",
       "      maybeLoadScript(\"vega\", \"5\")\n",
       "        .then(() => maybeLoadScript(\"vega-lite\", \"5.8.0\"))\n",
       "        .then(() => maybeLoadScript(\"vega-embed\", \"6\"))\n",
       "        .catch(showError)\n",
       "        .then(() => displayChart(vegaEmbed));\n",
       "    }\n",
       "  })({\"config\": {\"title\": {\"font\": \"Noticia Text\", \"fontSize\": 14, \"anchor\": \"start\", \"fontWeight\": \"bolder\", \"subtitleFont\": \"Noticia Text\", \"subtitleFontSize\": 12, \"subtitleFontWeight\": \"lighter\", \"subtitlePadding\": 12, \"dy\": -12}, \"axis\": {\"labelFont\": \"Asap\", \"titleFont\": \"Asap\", \"fontWeight\": \"lighter\", \"titleFontWeight\": \"lighter\", \"labelFontSize\": 10, \"titleFontSize\": 10, \"labelPadding\": 2, \"titlePadding\": 10}, \"legend\": {\"labelFont\": \"Asap\", \"labelFontWeight\": \"normal\", \"titleFont\": \"Asap\", \"titleFontWeight\": \"normal\", \"labelFontSize\": 10, \"titleFontSize\": 10}}, \"data\": {\"name\": \"data-7a9d6f2725d618a7e08d621526393f2f\"}, \"mark\": {\"type\": \"bar\"}, \"encoding\": {\"color\": {\"field\": \"rozd\\u00edl\", \"legend\": null, \"scale\": {\"range\": [\"#84c0e4\", \"#E7666E\"]}, \"type\": \"quantitative\"}, \"x\": {\"axis\": {\"domainOpacity\": 0, \"labelExpr\": \"datum.label + '\\u00d7'\", \"tickColor\": \"#DCDDD6\"}, \"field\": \"rozd\\u00edl\", \"scale\": {\"domain\": [-5.404817664770826, 5.404817664770826]}, \"title\": null, \"type\": \"quantitative\"}, \"y\": {\"axis\": {\"domainOpacity\": 0, \"tickColor\": \"#DCDDD6\"}, \"field\": \"slovo\", \"sort\": \"-x\", \"title\": null, \"type\": \"nominal\"}}, \"title\": {\"text\": [\"Spisovatelky p\\u00ed\\u0161ou \\u010dast\\u011bji o \\u017een\\u00e1ch,\", \"spisovatel\\u00e9 o st\\u0159elb\\u011b\"], \"subtitle\": [\"Graf srovn\\u00e1v\\u00e1 pouze slova, kter\\u00e1 se objevila alespo\\u0148 v 50 pr\\u00f3z\\u00e1ch,\", \"vypadla tak nap\\u0159\\u00edklad \\u201eerekce\\u201c, 9\\u00d7 \\u010dast\\u011bji zmi\\u0148ovan\\u00e1 mu\\u017ei. Do v\\u00fdsledku\", \"se neprom\\u00edt\\u00e1, zda se v uk\\u00e1zce slovo objevilo jednou, nebo v\\u00edckr\\u00e1t.\"]}, \"width\": 300, \"$schema\": \"https://vega.github.io/schema/vega-lite/v5.8.0.json\", \"datasets\": {\"data-7a9d6f2725d618a7e08d621526393f2f\": [{\"slovo\": \"babi\", \"rozd\\u00edl\": 5.404817664770826, \"mz\": \"\\u017eensk\\u00e9 autorky\"}, {\"slovo\": \"py\\u017eamo\", \"rozd\\u00edl\": 3.5922929529486907, \"mz\": \"\\u017eensk\\u00e9 autorky\"}, {\"slovo\": \"sal\\u00e1t\", \"rozd\\u00edl\": 3.362997658079626, \"mz\": \"\\u017eensk\\u00e9 autorky\"}, {\"slovo\": \"kamar\\u00e1dka\", \"rozd\\u00edl\": 2.989331251626334, \"mz\": \"\\u017eensk\\u00e9 autorky\"}, {\"slovo\": \"miminko\", \"rozd\\u00edl\": 2.87256049960968, \"mz\": \"\\u017eensk\\u00e9 autorky\"}, {\"slovo\": \"ob\\u00fdvac\\u00ed\", \"rozd\\u00edl\": 2.670615787298526, \"mz\": \"\\u017eensk\\u00e9 autorky\"}, {\"slovo\": \"obj\\u00edmat\", \"rozd\\u00edl\": 2.6684655330414415, \"mz\": \"\\u017eensk\\u00e9 autorky\"}, {\"slovo\": \"rande\", \"rozd\\u00edl\": 2.62115993938559, \"mz\": \"\\u017eensk\\u00e9 autorky\"}, {\"slovo\": \"ordinace\", \"rozd\\u00edl\": 2.522248243559719, \"mz\": \"\\u017eensk\\u00e9 autorky\"}, {\"slovo\": \"p\\u0159\\u00ed\\u0161ern\\u011b\", \"rozd\\u00edl\": 2.469701405152225, \"mz\": \"\\u017eensk\\u00e9 autorky\"}, {\"slovo\": \"povyt\\u00e1hnout\", \"rozd\\u00edl\": 2.4575752116735723, \"mz\": \"\\u017eensk\\u00e9 autorky\"}, {\"slovo\": \"sukn\\u011b\", \"rozd\\u00edl\": 2.4288316419463962, \"mz\": \"\\u017eensk\\u00e9 autorky\"}, {\"slovo\": \"zaregistrovat\", \"rozd\\u00edl\": 2.6018454038997216, \"mz\": \"mu\\u017e\\u0161t\\u00ed auto\\u0159i\"}, {\"slovo\": \"st\\u0159\\u00edlet\", \"rozd\\u00edl\": 2.6620241411327763, \"mz\": \"mu\\u017e\\u0161t\\u00ed auto\\u0159i\"}, {\"slovo\": \"politik\", \"rozd\\u00edl\": 2.676183844011142, \"mz\": \"mu\\u017e\\u0161t\\u00ed auto\\u0159i\"}, {\"slovo\": \"slu\\u017eebn\\u00fd\", \"rozd\\u00edl\": 2.6918340419293356, \"mz\": \"mu\\u017e\\u0161t\\u00ed auto\\u0159i\"}, {\"slovo\": \"velet\", \"rozd\\u00edl\": 2.6960074280408546, \"mz\": \"mu\\u017e\\u0161t\\u00ed auto\\u0159i\"}, {\"slovo\": \"v\\u016fl\", \"rozd\\u00edl\": 2.7505222841225625, \"mz\": \"mu\\u017e\\u0161t\\u00ed auto\\u0159i\"}, {\"slovo\": \"kulka\", \"rozd\\u00edl\": 2.775301764159703, \"mz\": \"mu\\u017e\\u0161t\\u00ed auto\\u0159i\"}, {\"slovo\": \"kladivo\", \"rozd\\u00edl\": 2.8545961002785516, \"mz\": \"mu\\u017e\\u0161t\\u00ed auto\\u0159i\"}, {\"slovo\": \"souboj\", \"rozd\\u00edl\": 2.9074589910244506, \"mz\": \"mu\\u017e\\u0161t\\u00ed auto\\u0159i\"}, {\"slovo\": \"rusk\\u00fd\", \"rozd\\u00edl\": 3.067438791965987, \"mz\": \"mu\\u017e\\u0161t\\u00ed auto\\u0159i\"}, {\"slovo\": \"prezident\", \"rozd\\u00edl\": 3.2184171718826806, \"mz\": \"mu\\u017e\\u0161t\\u00ed auto\\u0159i\"}, {\"slovo\": \"pistole\", \"rozd\\u00edl\": 3.488950789229341, \"mz\": \"mu\\u017e\\u0161t\\u00ed auto\\u0159i\"}]}}, {\"mode\": \"vega-lite\"});\n",
       "</script>"
      ],
      "text/plain": [
       "alt.Chart(...)"
      ]
     },
     "execution_count": 375,
     "metadata": {},
     "output_type": "execute_result"
    }
   ],
   "source": [
    "max_abs_value = max(abs(do_grafu['rozdíl'].max()), abs(do_grafu['rozdíl'].min()))\n",
    "\n",
    "mz_graf = alt.Chart(do_grafu, title={'text': titulek, 'subtitle': podtitulek}, width=300).mark_bar().encode(\n",
    "    alt.X(\"rozdíl:Q\", title=None, axis=alt.Axis(labelExpr=\"datum.label + '×'\", domainOpacity=0, tickColor='#DCDDD6'), scale=alt.Scale(domain=[-max_abs_value, max_abs_value])),\n",
    "    alt.Y('slovo:N', sort='-x', title=None, axis=alt.Axis(tickColor='#DCDDD6', domainOpacity=0)),\n",
    "    alt.Color(\"rozdíl:Q\", legend=None, scale=alt.Scale(range=['#84c0e4','#E7666E']))\n",
    "\n",
    ")\n",
    "\n",
    "mz_graf"
   ]
  },
  {
   "cell_type": "code",
   "execution_count": 385,
   "id": "cd61588c-bd8e-44d3-8395-50483937742c",
   "metadata": {},
   "outputs": [
    {
     "data": {
      "text/html": [
       "\n",
       "<style>\n",
       "  #altair-viz-640083b00741416fb86b3ff4c3106043.vega-embed {\n",
       "    width: 100%;\n",
       "    display: flex;\n",
       "  }\n",
       "\n",
       "  #altair-viz-640083b00741416fb86b3ff4c3106043.vega-embed details,\n",
       "  #altair-viz-640083b00741416fb86b3ff4c3106043.vega-embed details summary {\n",
       "    position: relative;\n",
       "  }\n",
       "</style>\n",
       "<div id=\"altair-viz-640083b00741416fb86b3ff4c3106043\"></div>\n",
       "<script type=\"text/javascript\">\n",
       "  var VEGA_DEBUG = (typeof VEGA_DEBUG == \"undefined\") ? {} : VEGA_DEBUG;\n",
       "  (function(spec, embedOpt){\n",
       "    let outputDiv = document.currentScript.previousElementSibling;\n",
       "    if (outputDiv.id !== \"altair-viz-640083b00741416fb86b3ff4c3106043\") {\n",
       "      outputDiv = document.getElementById(\"altair-viz-640083b00741416fb86b3ff4c3106043\");\n",
       "    }\n",
       "    const paths = {\n",
       "      \"vega\": \"https://cdn.jsdelivr.net/npm/vega@5?noext\",\n",
       "      \"vega-lib\": \"https://cdn.jsdelivr.net/npm/vega-lib?noext\",\n",
       "      \"vega-lite\": \"https://cdn.jsdelivr.net/npm/vega-lite@5.8.0?noext\",\n",
       "      \"vega-embed\": \"https://cdn.jsdelivr.net/npm/vega-embed@6?noext\",\n",
       "    };\n",
       "\n",
       "    function maybeLoadScript(lib, version) {\n",
       "      var key = `${lib.replace(\"-\", \"\")}_version`;\n",
       "      return (VEGA_DEBUG[key] == version) ?\n",
       "        Promise.resolve(paths[lib]) :\n",
       "        new Promise(function(resolve, reject) {\n",
       "          var s = document.createElement('script');\n",
       "          document.getElementsByTagName(\"head\")[0].appendChild(s);\n",
       "          s.async = true;\n",
       "          s.onload = () => {\n",
       "            VEGA_DEBUG[key] = version;\n",
       "            return resolve(paths[lib]);\n",
       "          };\n",
       "          s.onerror = () => reject(`Error loading script: ${paths[lib]}`);\n",
       "          s.src = paths[lib];\n",
       "        });\n",
       "    }\n",
       "\n",
       "    function showError(err) {\n",
       "      outputDiv.innerHTML = `<div class=\"error\" style=\"color:red;\">${err}</div>`;\n",
       "      throw err;\n",
       "    }\n",
       "\n",
       "    function displayChart(vegaEmbed) {\n",
       "      vegaEmbed(outputDiv, spec, embedOpt)\n",
       "        .catch(err => showError(`Javascript Error: ${err.message}<br>This usually means there's a typo in your chart specification. See the javascript console for the full traceback.`));\n",
       "    }\n",
       "\n",
       "    if(typeof define === \"function\" && define.amd) {\n",
       "      requirejs.config({paths});\n",
       "      require([\"vega-embed\"], displayChart, err => showError(`Error loading script: ${err.message}`));\n",
       "    } else {\n",
       "      maybeLoadScript(\"vega\", \"5\")\n",
       "        .then(() => maybeLoadScript(\"vega-lite\", \"5.8.0\"))\n",
       "        .then(() => maybeLoadScript(\"vega-embed\", \"6\"))\n",
       "        .catch(showError)\n",
       "        .then(() => displayChart(vegaEmbed));\n",
       "    }\n",
       "  })({\"config\": {\"title\": {\"font\": \"Noticia Text\", \"fontSize\": 12, \"anchor\": \"start\", \"lineHeight\": 19, \"fontWeight\": \"bolder\", \"subtitleFont\": \"Noticia Text\", \"subtitleFontSize\": 10, \"subtitleLineHeight\": 15, \"subtitlePadding\": 10, \"dy\": -10}, \"axis\": {\"labelFont\": \"Asap\", \"titleFont\": \"Asap\", \"fontWeight\": \"lighter\", \"titleFontWeight\": \"lighter\", \"labelFontSize\": 9, \"titleFontSize\": 9, \"labelPadding\": 2, \"titlePadding\": 9, \"domainOpacity\": 0, \"tickColor\": \"#DCDDD6\"}, \"legend\": {\"labelFont\": \"Asap\", \"labelFontWeight\": \"normal\", \"titleFont\": \"Asap\", \"titleFontWeight\": \"normal\", \"labelFontSize\": 9, \"titleFontSize\": 9}, \"axisX\": {\"domain\": false, \"grid\": false}, \"view\": {\"stroke\": \"transparent\"}}, \"hconcat\": [{\"data\": {\"name\": \"data-f7f588beb531df831a1e589c03c6df82\"}, \"mark\": {\"type\": \"bar\"}, \"encoding\": {\"color\": {\"field\": \"mz\", \"legend\": null, \"scale\": {\"range\": [\"#E7666E\"]}, \"type\": \"nominal\"}, \"x\": {\"axis\": {\"domainOpacity\": 0, \"labelExpr\": \"datum.label + '\\u00d7'\", \"tickColor\": \"#DCDDD6\"}, \"field\": \"rozd\\u00edl\", \"title\": null, \"type\": \"quantitative\"}, \"y\": {\"axis\": {\"domainOpacity\": 0, \"tickColor\": \"#DCDDD6\"}, \"field\": \"slovo\", \"sort\": \"-x\", \"title\": null, \"type\": \"nominal\"}}, \"title\": {\"text\": [\"slova pou\\u017e\\u00edvan\\u011bj\\u0161\\u00ed\", \"\\u017eensk\\u00fdmi autorkami\"], \"fontSize\": 12}, \"width\": 120}, {\"data\": {\"name\": \"data-630444ed63d8858614c35b1a7f70d073\"}, \"mark\": {\"type\": \"bar\"}, \"encoding\": {\"color\": {\"field\": \"mz\", \"legend\": null, \"scale\": {\"range\": [\"#84c0e4\"]}, \"type\": \"nominal\"}, \"x\": {\"axis\": {\"domainOpacity\": 0, \"labelExpr\": \"datum.label + '\\u00d7'\", \"tickColor\": \"#DCDDD6\"}, \"field\": \"rozd\\u00edl\", \"title\": null, \"type\": \"quantitative\"}, \"y\": {\"axis\": {\"domainOpacity\": 0, \"tickColor\": \"#DCDDD6\"}, \"field\": \"slovo\", \"sort\": \"-x\", \"title\": null, \"type\": \"nominal\"}}, \"title\": {\"text\": [\"slova pou\\u017e\\u00edvan\\u011bj\\u0161\\u00ed\", \"mu\\u017esk\\u00fdmi autory\"], \"fontSize\": 12}, \"width\": 120}], \"resolve\": {\"scale\": {\"color\": \"independent\", \"x\": \"shared\"}}, \"title\": {\"text\": [\"Spisovatelky p\\u00ed\\u0161ou \\u010dast\\u011bji o \\u017een\\u00e1ch,\", \"spisovatel\\u00e9 o st\\u0159elb\\u011b\"], \"subtitle\": [\"Graf srovn\\u00e1v\\u00e1 pouze slova, kter\\u00e1 se objevila alespo\\u0148 v 50 pr\\u00f3z\\u00e1ch,\", \"vypadla tak nap\\u0159\\u00edklad \\u201eerekce\\u201c, 9\\u00d7 \\u010dast\\u011bji zmi\\u0148ovan\\u00e1 mu\\u017ei. Do v\\u00fdsledku\", \"se neprom\\u00edt\\u00e1, zda se v uk\\u00e1zce slovo objevilo jednou, nebo v\\u00edckr\\u00e1t.\"]}, \"$schema\": \"https://vega.github.io/schema/vega-lite/v5.8.0.json\", \"datasets\": {\"data-f7f588beb531df831a1e589c03c6df82\": [{\"slovo\": \"babi\", \"rozd\\u00edl\": 5.404817664770826, \"mz\": \"\\u017eensk\\u00e9 autorky\"}, {\"slovo\": \"py\\u017eamo\", \"rozd\\u00edl\": 3.5922929529486907, \"mz\": \"\\u017eensk\\u00e9 autorky\"}, {\"slovo\": \"sal\\u00e1t\", \"rozd\\u00edl\": 3.362997658079626, \"mz\": \"\\u017eensk\\u00e9 autorky\"}, {\"slovo\": \"kamar\\u00e1dka\", \"rozd\\u00edl\": 2.989331251626334, \"mz\": \"\\u017eensk\\u00e9 autorky\"}, {\"slovo\": \"miminko\", \"rozd\\u00edl\": 2.87256049960968, \"mz\": \"\\u017eensk\\u00e9 autorky\"}, {\"slovo\": \"ob\\u00fdvac\\u00ed\", \"rozd\\u00edl\": 2.670615787298526, \"mz\": \"\\u017eensk\\u00e9 autorky\"}, {\"slovo\": \"obj\\u00edmat\", \"rozd\\u00edl\": 2.6684655330414415, \"mz\": \"\\u017eensk\\u00e9 autorky\"}, {\"slovo\": \"rande\", \"rozd\\u00edl\": 2.62115993938559, \"mz\": \"\\u017eensk\\u00e9 autorky\"}, {\"slovo\": \"ordinace\", \"rozd\\u00edl\": 2.522248243559719, \"mz\": \"\\u017eensk\\u00e9 autorky\"}, {\"slovo\": \"p\\u0159\\u00ed\\u0161ern\\u011b\", \"rozd\\u00edl\": 2.469701405152225, \"mz\": \"\\u017eensk\\u00e9 autorky\"}, {\"slovo\": \"povyt\\u00e1hnout\", \"rozd\\u00edl\": 2.4575752116735723, \"mz\": \"\\u017eensk\\u00e9 autorky\"}, {\"slovo\": \"sukn\\u011b\", \"rozd\\u00edl\": 2.4288316419463962, \"mz\": \"\\u017eensk\\u00e9 autorky\"}], \"data-630444ed63d8858614c35b1a7f70d073\": [{\"slovo\": \"zaregistrovat\", \"rozd\\u00edl\": 2.6018454038997216, \"mz\": \"mu\\u017e\\u0161t\\u00ed auto\\u0159i\"}, {\"slovo\": \"st\\u0159\\u00edlet\", \"rozd\\u00edl\": 2.6620241411327763, \"mz\": \"mu\\u017e\\u0161t\\u00ed auto\\u0159i\"}, {\"slovo\": \"politik\", \"rozd\\u00edl\": 2.676183844011142, \"mz\": \"mu\\u017e\\u0161t\\u00ed auto\\u0159i\"}, {\"slovo\": \"slu\\u017eebn\\u00fd\", \"rozd\\u00edl\": 2.6918340419293356, \"mz\": \"mu\\u017e\\u0161t\\u00ed auto\\u0159i\"}, {\"slovo\": \"velet\", \"rozd\\u00edl\": 2.6960074280408546, \"mz\": \"mu\\u017e\\u0161t\\u00ed auto\\u0159i\"}, {\"slovo\": \"v\\u016fl\", \"rozd\\u00edl\": 2.7505222841225625, \"mz\": \"mu\\u017e\\u0161t\\u00ed auto\\u0159i\"}, {\"slovo\": \"kulka\", \"rozd\\u00edl\": 2.775301764159703, \"mz\": \"mu\\u017e\\u0161t\\u00ed auto\\u0159i\"}, {\"slovo\": \"kladivo\", \"rozd\\u00edl\": 2.8545961002785516, \"mz\": \"mu\\u017e\\u0161t\\u00ed auto\\u0159i\"}, {\"slovo\": \"souboj\", \"rozd\\u00edl\": 2.9074589910244506, \"mz\": \"mu\\u017e\\u0161t\\u00ed auto\\u0159i\"}, {\"slovo\": \"rusk\\u00fd\", \"rozd\\u00edl\": 3.067438791965987, \"mz\": \"mu\\u017e\\u0161t\\u00ed auto\\u0159i\"}, {\"slovo\": \"prezident\", \"rozd\\u00edl\": 3.2184171718826806, \"mz\": \"mu\\u017e\\u0161t\\u00ed auto\\u0159i\"}, {\"slovo\": \"pistole\", \"rozd\\u00edl\": 3.488950789229341, \"mz\": \"mu\\u017e\\u0161t\\u00ed auto\\u0159i\"}]}}, {\"mode\": \"vega-lite\"});\n",
       "</script>"
      ],
      "text/plain": [
       "alt.HConcatChart(...)"
      ]
     },
     "execution_count": 385,
     "metadata": {},
     "output_type": "execute_result"
    }
   ],
   "source": [
    "# Chart for \"mužští autoři\"\n",
    "muzsti_autori = alt.Chart(\n",
    "    do_grafu2[do_grafu2[\"mz\"] == \"mužští autoři\"]\n",
    ").mark_bar().encode(\n",
    "    alt.X(\"rozdíl:Q\", title=None, axis=alt.Axis(labelExpr=\"datum.label + '×'\", domainOpacity=0, tickColor='#DCDDD6')),\n",
    "    alt.Y('slovo:N', sort='-x', title=None, axis=alt.Axis(tickColor='#DCDDD6', domainOpacity=0)),\n",
    "    alt.Color(\"mz:N\", legend=None, scale=alt.Scale(range=['#84c0e4'])),\n",
    ").properties(title={\"text\": [\"slova používanější\",\"mužskými autory\"], 'fontSize': 12}, width=120)\n",
    "\n",
    "# Chart for \"ženské autorky\"\n",
    "zenske_autorky = alt.Chart(\n",
    "    do_grafu2[do_grafu2[\"mz\"] == \"ženské autorky\"]\n",
    ").mark_bar().encode(\n",
    "    alt.X(\"rozdíl:Q\", title=None, axis=alt.Axis(labelExpr=\"datum.label + '×'\", domainOpacity=0, tickColor='#DCDDD6')),\n",
    "    alt.Y('slovo:N', sort='-x', title=None, axis=alt.Axis(tickColor='#DCDDD6', domainOpacity=0)),\n",
    "    alt.Color(\"mz:N\", legend=None, scale=alt.Scale(range=['#E7666E'])),\n",
    ").properties(title={\"text\": [\"slova používanější\",\"ženskými autorkami\"], 'fontSize': 12}, width=120)\n",
    "\n",
    "# Combine the charts with shared x-axis scale and original title\n",
    "mz_graf = alt.hconcat(\n",
    "    zenske_autorky,\n",
    "    muzsti_autori\n",
    ").resolve_scale(\n",
    "    x='shared',  # Ensures the x-axes share the same scale\n",
    "    color='independent'  # Allows each chart to use its own color encoding\n",
    ").properties(\n",
    "    title={\n",
    "        'text': titulek,\n",
    "        'subtitle': podtitulek\n",
    "    }\n",
    ").configure_view(stroke='transparent').configure_axisX(\n",
    "    grid=False, domain=False\n",
    ")\n",
    "\n",
    "mz_graf"
   ]
  },
  {
   "cell_type": "code",
   "execution_count": 493,
   "id": "248739fa-642f-406a-bf55-b3238f7a6187",
   "metadata": {},
   "outputs": [
    {
     "data": {
      "text/html": [
       "<div>\n",
       "<style scoped>\n",
       "    .dataframe tbody tr th:only-of-type {\n",
       "        vertical-align: middle;\n",
       "    }\n",
       "\n",
       "    .dataframe tbody tr th {\n",
       "        vertical-align: top;\n",
       "    }\n",
       "\n",
       "    .dataframe thead th {\n",
       "        text-align: right;\n",
       "    }\n",
       "</style>\n",
       "<table border=\"1\" class=\"dataframe\">\n",
       "  <thead>\n",
       "    <tr style=\"text-align: right;\">\n",
       "      <th></th>\n",
       "      <th>slovo</th>\n",
       "      <th>rozdíl</th>\n",
       "      <th>mz</th>\n",
       "    </tr>\n",
       "  </thead>\n",
       "  <tbody>\n",
       "    <tr>\n",
       "      <th>0</th>\n",
       "      <td>babi</td>\n",
       "      <td>5.404818</td>\n",
       "      <td>ženské autorky</td>\n",
       "    </tr>\n",
       "    <tr>\n",
       "      <th>1</th>\n",
       "      <td>pyžamo</td>\n",
       "      <td>3.592293</td>\n",
       "      <td>ženské autorky</td>\n",
       "    </tr>\n",
       "    <tr>\n",
       "      <th>2</th>\n",
       "      <td>salát</td>\n",
       "      <td>3.362998</td>\n",
       "      <td>ženské autorky</td>\n",
       "    </tr>\n",
       "    <tr>\n",
       "      <th>3</th>\n",
       "      <td>kamarádka</td>\n",
       "      <td>2.989331</td>\n",
       "      <td>ženské autorky</td>\n",
       "    </tr>\n",
       "    <tr>\n",
       "      <th>4</th>\n",
       "      <td>miminko</td>\n",
       "      <td>2.872560</td>\n",
       "      <td>ženské autorky</td>\n",
       "    </tr>\n",
       "    <tr>\n",
       "      <th>5</th>\n",
       "      <td>obývací</td>\n",
       "      <td>2.670616</td>\n",
       "      <td>ženské autorky</td>\n",
       "    </tr>\n",
       "    <tr>\n",
       "      <th>6</th>\n",
       "      <td>objímat</td>\n",
       "      <td>2.668466</td>\n",
       "      <td>ženské autorky</td>\n",
       "    </tr>\n",
       "    <tr>\n",
       "      <th>7</th>\n",
       "      <td>rande</td>\n",
       "      <td>2.621160</td>\n",
       "      <td>ženské autorky</td>\n",
       "    </tr>\n",
       "    <tr>\n",
       "      <th>8</th>\n",
       "      <td>ordinace</td>\n",
       "      <td>2.522248</td>\n",
       "      <td>ženské autorky</td>\n",
       "    </tr>\n",
       "    <tr>\n",
       "      <th>9</th>\n",
       "      <td>příšerně</td>\n",
       "      <td>2.469701</td>\n",
       "      <td>ženské autorky</td>\n",
       "    </tr>\n",
       "    <tr>\n",
       "      <th>10</th>\n",
       "      <td>povytáhnout</td>\n",
       "      <td>2.457575</td>\n",
       "      <td>ženské autorky</td>\n",
       "    </tr>\n",
       "    <tr>\n",
       "      <th>11</th>\n",
       "      <td>sukně</td>\n",
       "      <td>2.428832</td>\n",
       "      <td>ženské autorky</td>\n",
       "    </tr>\n",
       "    <tr>\n",
       "      <th>12</th>\n",
       "      <td>zaregistrovat</td>\n",
       "      <td>2.601845</td>\n",
       "      <td>mužští autoři</td>\n",
       "    </tr>\n",
       "    <tr>\n",
       "      <th>13</th>\n",
       "      <td>střílet</td>\n",
       "      <td>2.662024</td>\n",
       "      <td>mužští autoři</td>\n",
       "    </tr>\n",
       "    <tr>\n",
       "      <th>14</th>\n",
       "      <td>politik</td>\n",
       "      <td>2.676184</td>\n",
       "      <td>mužští autoři</td>\n",
       "    </tr>\n",
       "    <tr>\n",
       "      <th>15</th>\n",
       "      <td>služebný</td>\n",
       "      <td>2.691834</td>\n",
       "      <td>mužští autoři</td>\n",
       "    </tr>\n",
       "    <tr>\n",
       "      <th>16</th>\n",
       "      <td>velet</td>\n",
       "      <td>2.696007</td>\n",
       "      <td>mužští autoři</td>\n",
       "    </tr>\n",
       "    <tr>\n",
       "      <th>17</th>\n",
       "      <td>vůl</td>\n",
       "      <td>2.750522</td>\n",
       "      <td>mužští autoři</td>\n",
       "    </tr>\n",
       "    <tr>\n",
       "      <th>18</th>\n",
       "      <td>kulka</td>\n",
       "      <td>2.775302</td>\n",
       "      <td>mužští autoři</td>\n",
       "    </tr>\n",
       "    <tr>\n",
       "      <th>19</th>\n",
       "      <td>kladivo</td>\n",
       "      <td>2.854596</td>\n",
       "      <td>mužští autoři</td>\n",
       "    </tr>\n",
       "    <tr>\n",
       "      <th>20</th>\n",
       "      <td>souboj</td>\n",
       "      <td>2.907459</td>\n",
       "      <td>mužští autoři</td>\n",
       "    </tr>\n",
       "    <tr>\n",
       "      <th>21</th>\n",
       "      <td>ruský</td>\n",
       "      <td>3.067439</td>\n",
       "      <td>mužští autoři</td>\n",
       "    </tr>\n",
       "    <tr>\n",
       "      <th>22</th>\n",
       "      <td>prezident</td>\n",
       "      <td>3.218417</td>\n",
       "      <td>mužští autoři</td>\n",
       "    </tr>\n",
       "    <tr>\n",
       "      <th>23</th>\n",
       "      <td>pistole</td>\n",
       "      <td>3.488951</td>\n",
       "      <td>mužští autoři</td>\n",
       "    </tr>\n",
       "  </tbody>\n",
       "</table>\n",
       "</div>"
      ],
      "text/plain": [
       "            slovo    rozdíl              mz\n",
       "0            babi  5.404818  ženské autorky\n",
       "1          pyžamo  3.592293  ženské autorky\n",
       "2           salát  3.362998  ženské autorky\n",
       "3       kamarádka  2.989331  ženské autorky\n",
       "4         miminko  2.872560  ženské autorky\n",
       "5         obývací  2.670616  ženské autorky\n",
       "6         objímat  2.668466  ženské autorky\n",
       "7           rande  2.621160  ženské autorky\n",
       "8        ordinace  2.522248  ženské autorky\n",
       "9        příšerně  2.469701  ženské autorky\n",
       "10    povytáhnout  2.457575  ženské autorky\n",
       "11          sukně  2.428832  ženské autorky\n",
       "12  zaregistrovat  2.601845   mužští autoři\n",
       "13        střílet  2.662024   mužští autoři\n",
       "14        politik  2.676184   mužští autoři\n",
       "15       služebný  2.691834   mužští autoři\n",
       "16          velet  2.696007   mužští autoři\n",
       "17            vůl  2.750522   mužští autoři\n",
       "18          kulka  2.775302   mužští autoři\n",
       "19        kladivo  2.854596   mužští autoři\n",
       "20         souboj  2.907459   mužští autoři\n",
       "21          ruský  3.067439   mužští autoři\n",
       "22      prezident  3.218417   mužští autoři\n",
       "23        pistole  3.488951   mužští autoři"
      ]
     },
     "execution_count": 493,
     "metadata": {},
     "output_type": "execute_result"
    }
   ],
   "source": [
    "do_grafu"
   ]
  },
  {
   "cell_type": "code",
   "execution_count": 725,
   "id": "686e977b-169e-4c44-8424-504023c3ad10",
   "metadata": {},
   "outputs": [
    {
     "data": {
      "text/html": [
       "\n",
       "<style>\n",
       "  #altair-viz-d17f4e20907c4e52ab00e91a0d6e0685.vega-embed {\n",
       "    width: 100%;\n",
       "    display: flex;\n",
       "  }\n",
       "\n",
       "  #altair-viz-d17f4e20907c4e52ab00e91a0d6e0685.vega-embed details,\n",
       "  #altair-viz-d17f4e20907c4e52ab00e91a0d6e0685.vega-embed details summary {\n",
       "    position: relative;\n",
       "  }\n",
       "</style>\n",
       "<div id=\"altair-viz-d17f4e20907c4e52ab00e91a0d6e0685\"></div>\n",
       "<script type=\"text/javascript\">\n",
       "  var VEGA_DEBUG = (typeof VEGA_DEBUG == \"undefined\") ? {} : VEGA_DEBUG;\n",
       "  (function(spec, embedOpt){\n",
       "    let outputDiv = document.currentScript.previousElementSibling;\n",
       "    if (outputDiv.id !== \"altair-viz-d17f4e20907c4e52ab00e91a0d6e0685\") {\n",
       "      outputDiv = document.getElementById(\"altair-viz-d17f4e20907c4e52ab00e91a0d6e0685\");\n",
       "    }\n",
       "    const paths = {\n",
       "      \"vega\": \"https://cdn.jsdelivr.net/npm/vega@5?noext\",\n",
       "      \"vega-lib\": \"https://cdn.jsdelivr.net/npm/vega-lib?noext\",\n",
       "      \"vega-lite\": \"https://cdn.jsdelivr.net/npm/vega-lite@5.8.0?noext\",\n",
       "      \"vega-embed\": \"https://cdn.jsdelivr.net/npm/vega-embed@6?noext\",\n",
       "    };\n",
       "\n",
       "    function maybeLoadScript(lib, version) {\n",
       "      var key = `${lib.replace(\"-\", \"\")}_version`;\n",
       "      return (VEGA_DEBUG[key] == version) ?\n",
       "        Promise.resolve(paths[lib]) :\n",
       "        new Promise(function(resolve, reject) {\n",
       "          var s = document.createElement('script');\n",
       "          document.getElementsByTagName(\"head\")[0].appendChild(s);\n",
       "          s.async = true;\n",
       "          s.onload = () => {\n",
       "            VEGA_DEBUG[key] = version;\n",
       "            return resolve(paths[lib]);\n",
       "          };\n",
       "          s.onerror = () => reject(`Error loading script: ${paths[lib]}`);\n",
       "          s.src = paths[lib];\n",
       "        });\n",
       "    }\n",
       "\n",
       "    function showError(err) {\n",
       "      outputDiv.innerHTML = `<div class=\"error\" style=\"color:red;\">${err}</div>`;\n",
       "      throw err;\n",
       "    }\n",
       "\n",
       "    function displayChart(vegaEmbed) {\n",
       "      vegaEmbed(outputDiv, spec, embedOpt)\n",
       "        .catch(err => showError(`Javascript Error: ${err.message}<br>This usually means there's a typo in your chart specification. See the javascript console for the full traceback.`));\n",
       "    }\n",
       "\n",
       "    if(typeof define === \"function\" && define.amd) {\n",
       "      requirejs.config({paths});\n",
       "      require([\"vega-embed\"], displayChart, err => showError(`Error loading script: ${err.message}`));\n",
       "    } else {\n",
       "      maybeLoadScript(\"vega\", \"5\")\n",
       "        .then(() => maybeLoadScript(\"vega-lite\", \"5.8.0\"))\n",
       "        .then(() => maybeLoadScript(\"vega-embed\", \"6\"))\n",
       "        .catch(showError)\n",
       "        .then(() => displayChart(vegaEmbed));\n",
       "    }\n",
       "  })({\"config\": {\"title\": {\"font\": \"Noticia Text\", \"fontSize\": 12, \"anchor\": \"start\", \"lineHeight\": 19, \"fontWeight\": \"bolder\", \"subtitleFont\": \"Noticia Text\", \"subtitleFontSize\": 10, \"subtitleLineHeight\": 15, \"subtitlePadding\": 10, \"dy\": -10}, \"axis\": {\"labelFont\": \"Asap\", \"titleFont\": \"Asap\", \"fontWeight\": \"lighter\", \"titleFontWeight\": \"lighter\", \"labelFontSize\": 9, \"titleFontSize\": 9, \"labelPadding\": 2, \"titlePadding\": 9, \"domainOpacity\": 0, \"tickColor\": \"#DCDDD6\"}, \"legend\": {\"labelFont\": \"Asap\", \"labelFontWeight\": \"normal\", \"titleFont\": \"Asap\", \"titleFontWeight\": \"normal\", \"labelFontSize\": 9, \"titleFontSize\": 9}}, \"layer\": [{\"mark\": {\"type\": \"bar\", \"color\": \"#D6534B\"}, \"encoding\": {\"x\": {\"axis\": {\"tickCount\": 0}, \"field\": \"rozd\\u00edl\", \"title\": null, \"type\": \"quantitative\"}, \"y\": {\"axis\": {\"tickColor\": \"white\"}, \"field\": \"slovo\", \"sort\": [\"babi\", \"py\\u017eamo\", \"pistole\", \"sal\\u00e1t\", \"prezident\", \"rusk\\u00fd\", \"kamar\\u00e1dka\", \"souboj\", \"miminko\", \"kladivo\", \"kulka\", \"v\\u016fl\", \"velet\", \"slu\\u017eebn\\u00fd\", \"politik\", \"ob\\u00fdvac\\u00ed\", \"obj\\u00edmat\", \"st\\u0159\\u00edlet\", \"rande\", \"zaregistrovat\", \"ordinace\", \"p\\u0159\\u00ed\\u0161ern\\u011b\", \"povyt\\u00e1hnout\", \"sukn\\u011b\"], \"title\": null, \"type\": \"nominal\"}}, \"title\": {\"text\": \"\\u017eensk\\u00e9 autorky\", \"anchor\": \"middle\", \"fontSize\": 10}}, {\"mark\": {\"type\": \"text\", \"color\": \"black\", \"dx\": 13, \"font\": \"Asap\", \"size\": 9}, \"encoding\": {\"text\": {\"field\": \"textik\", \"type\": \"nominal\"}, \"x\": {\"axis\": {\"tickCount\": 0}, \"field\": \"rozd\\u00edl\", \"title\": null, \"type\": \"quantitative\"}, \"y\": {\"field\": \"slovo\", \"sort\": [\"babi\", \"py\\u017eamo\", \"pistole\", \"sal\\u00e1t\", \"prezident\", \"rusk\\u00fd\", \"kamar\\u00e1dka\", \"souboj\", \"miminko\", \"kladivo\", \"kulka\", \"v\\u016fl\", \"velet\", \"slu\\u017eebn\\u00fd\", \"politik\", \"ob\\u00fdvac\\u00ed\", \"obj\\u00edmat\", \"st\\u0159\\u00edlet\", \"rande\", \"zaregistrovat\", \"ordinace\", \"p\\u0159\\u00ed\\u0161ern\\u011b\", \"povyt\\u00e1hnout\", \"sukn\\u011b\"], \"type\": \"nominal\"}}, \"title\": {\"text\": \"\\u017eensk\\u00e9 autorky\", \"anchor\": \"middle\", \"fontSize\": 10}}], \"data\": {\"name\": \"data-e85eec637a095fe81afb01bf3bb60f48\"}, \"width\": 144.0, \"$schema\": \"https://vega.github.io/schema/vega-lite/v5.8.0.json\", \"datasets\": {\"data-e85eec637a095fe81afb01bf3bb60f48\": [{\"slovo\": \"babi\", \"rozd\\u00edl\": 4.4, \"mz\": \"\\u017eensk\\u00e9 autorky\", \"textik\": \"5.4\\u00d7\"}, {\"slovo\": \"py\\u017eamo\", \"rozd\\u00edl\": 2.6, \"mz\": \"\\u017eensk\\u00e9 autorky\", \"textik\": \"3.6\\u00d7\"}, {\"slovo\": \"sal\\u00e1t\", \"rozd\\u00edl\": 2.4, \"mz\": \"\\u017eensk\\u00e9 autorky\", \"textik\": \"3.4\\u00d7\"}, {\"slovo\": \"kamar\\u00e1dka\", \"rozd\\u00edl\": 2.0, \"mz\": \"\\u017eensk\\u00e9 autorky\", \"textik\": \"3.0\\u00d7\"}, {\"slovo\": \"miminko\", \"rozd\\u00edl\": 1.9, \"mz\": \"\\u017eensk\\u00e9 autorky\", \"textik\": \"2.9\\u00d7\"}, {\"slovo\": \"ob\\u00fdvac\\u00ed\", \"rozd\\u00edl\": 1.7000000000000002, \"mz\": \"\\u017eensk\\u00e9 autorky\", \"textik\": \"2.7\\u00d7\"}, {\"slovo\": \"obj\\u00edmat\", \"rozd\\u00edl\": 1.7000000000000002, \"mz\": \"\\u017eensk\\u00e9 autorky\", \"textik\": \"2.7\\u00d7\"}, {\"slovo\": \"rande\", \"rozd\\u00edl\": 1.6, \"mz\": \"\\u017eensk\\u00e9 autorky\", \"textik\": \"2.6\\u00d7\"}, {\"slovo\": \"ordinace\", \"rozd\\u00edl\": 1.5, \"mz\": \"\\u017eensk\\u00e9 autorky\", \"textik\": \"2.5\\u00d7\"}, {\"slovo\": \"p\\u0159\\u00ed\\u0161ern\\u011b\", \"rozd\\u00edl\": 1.5, \"mz\": \"\\u017eensk\\u00e9 autorky\", \"textik\": \"2.5\\u00d7\"}, {\"slovo\": \"povyt\\u00e1hnout\", \"rozd\\u00edl\": 1.5, \"mz\": \"\\u017eensk\\u00e9 autorky\", \"textik\": \"2.5\\u00d7\"}, {\"slovo\": \"sukn\\u011b\", \"rozd\\u00edl\": 1.4, \"mz\": \"\\u017eensk\\u00e9 autorky\", \"textik\": \"2.4\\u00d7\"}]}}, {\"mode\": \"vega-lite\"});\n",
       "</script>"
      ],
      "text/plain": [
       "alt.LayerChart(...)"
      ]
     },
     "execution_count": 725,
     "metadata": {},
     "output_type": "execute_result"
    }
   ],
   "source": [
    "def sloupec(mz ):\n",
    "    \n",
    "    pulka = pl.from_pandas(do_grafu)\n",
    "    pulka = pulka.filter(pl.col(\"mz\") == mz).with_columns(pl.col(\"rozdíl\").round(1)).with_columns(pl.col('rozdíl').map_elements(lambda x: str(x) + \"×\").alias(\"textik\")).with_columns(pl.col('rozdíl') - 1)\n",
    "    pulka = pulka.to_pandas()\n",
    "\n",
    "    razeni = do_grafu.sort_values(by=\"rozdíl\",ascending=False)['slovo'].to_list()\n",
    "\n",
    "    if mz == 'ženské autorky':\n",
    "        barva = \"#D6534B\"\n",
    "    else:\n",
    "        barva = '#81A9D5'\n",
    "    \n",
    "    base = alt.Chart(pulka,\n",
    "                    title=alt.Title(mz, fontSize=10, anchor=\"middle\"),\n",
    "                    width=kredity['sirka'] / 2.5\n",
    "                    ).mark_bar(color=barva).encode(\n",
    "        alt.X(\"rozdíl:Q\", title=None, axis=alt.Axis(tickCount=0)),\n",
    "        alt.Y(\"slovo:N\", sort=razeni, title=None, axis=alt.Axis(tickColor=\"white\")))\n",
    "    texty = base.mark_text(font=\"Asap\", dx=13, color='black', size=9).encode(\n",
    "        alt.Text(\"textik:N\"),\n",
    "        alt.Y(\"slovo:N\", sort=razeni)\n",
    "    )\n",
    "    \n",
    "    spojeni = base + texty\n",
    "    \n",
    "    return spojeni\n",
    "\n",
    "sloupec('ženské autorky')"
   ]
  },
  {
   "cell_type": "code",
   "execution_count": 727,
   "id": "457db888-9ce9-426a-b78e-d5537ff79205",
   "metadata": {},
   "outputs": [
    {
     "data": {
      "text/html": [
       "\n",
       "<style>\n",
       "  #altair-viz-226b4961aea44837bf32e8e7a73b0a2d.vega-embed {\n",
       "    width: 100%;\n",
       "    display: flex;\n",
       "  }\n",
       "\n",
       "  #altair-viz-226b4961aea44837bf32e8e7a73b0a2d.vega-embed details,\n",
       "  #altair-viz-226b4961aea44837bf32e8e7a73b0a2d.vega-embed details summary {\n",
       "    position: relative;\n",
       "  }\n",
       "</style>\n",
       "<div id=\"altair-viz-226b4961aea44837bf32e8e7a73b0a2d\"></div>\n",
       "<script type=\"text/javascript\">\n",
       "  var VEGA_DEBUG = (typeof VEGA_DEBUG == \"undefined\") ? {} : VEGA_DEBUG;\n",
       "  (function(spec, embedOpt){\n",
       "    let outputDiv = document.currentScript.previousElementSibling;\n",
       "    if (outputDiv.id !== \"altair-viz-226b4961aea44837bf32e8e7a73b0a2d\") {\n",
       "      outputDiv = document.getElementById(\"altair-viz-226b4961aea44837bf32e8e7a73b0a2d\");\n",
       "    }\n",
       "    const paths = {\n",
       "      \"vega\": \"https://cdn.jsdelivr.net/npm/vega@5?noext\",\n",
       "      \"vega-lib\": \"https://cdn.jsdelivr.net/npm/vega-lib?noext\",\n",
       "      \"vega-lite\": \"https://cdn.jsdelivr.net/npm/vega-lite@5.8.0?noext\",\n",
       "      \"vega-embed\": \"https://cdn.jsdelivr.net/npm/vega-embed@6?noext\",\n",
       "    };\n",
       "\n",
       "    function maybeLoadScript(lib, version) {\n",
       "      var key = `${lib.replace(\"-\", \"\")}_version`;\n",
       "      return (VEGA_DEBUG[key] == version) ?\n",
       "        Promise.resolve(paths[lib]) :\n",
       "        new Promise(function(resolve, reject) {\n",
       "          var s = document.createElement('script');\n",
       "          document.getElementsByTagName(\"head\")[0].appendChild(s);\n",
       "          s.async = true;\n",
       "          s.onload = () => {\n",
       "            VEGA_DEBUG[key] = version;\n",
       "            return resolve(paths[lib]);\n",
       "          };\n",
       "          s.onerror = () => reject(`Error loading script: ${paths[lib]}`);\n",
       "          s.src = paths[lib];\n",
       "        });\n",
       "    }\n",
       "\n",
       "    function showError(err) {\n",
       "      outputDiv.innerHTML = `<div class=\"error\" style=\"color:red;\">${err}</div>`;\n",
       "      throw err;\n",
       "    }\n",
       "\n",
       "    function displayChart(vegaEmbed) {\n",
       "      vegaEmbed(outputDiv, spec, embedOpt)\n",
       "        .catch(err => showError(`Javascript Error: ${err.message}<br>This usually means there's a typo in your chart specification. See the javascript console for the full traceback.`));\n",
       "    }\n",
       "\n",
       "    if(typeof define === \"function\" && define.amd) {\n",
       "      requirejs.config({paths});\n",
       "      require([\"vega-embed\"], displayChart, err => showError(`Error loading script: ${err.message}`));\n",
       "    } else {\n",
       "      maybeLoadScript(\"vega\", \"5\")\n",
       "        .then(() => maybeLoadScript(\"vega-lite\", \"5.8.0\"))\n",
       "        .then(() => maybeLoadScript(\"vega-embed\", \"6\"))\n",
       "        .catch(showError)\n",
       "        .then(() => displayChart(vegaEmbed));\n",
       "    }\n",
       "  })({\"config\": {\"title\": {\"font\": \"Noticia Text\", \"fontSize\": 12, \"anchor\": \"start\", \"lineHeight\": 19, \"fontWeight\": \"bolder\", \"subtitleFont\": \"Noticia Text\", \"subtitleFontSize\": 10, \"subtitleLineHeight\": 15, \"subtitlePadding\": 10, \"dy\": -10}, \"axis\": {\"labelFont\": \"Asap\", \"titleFont\": \"Asap\", \"fontWeight\": \"lighter\", \"titleFontWeight\": \"lighter\", \"labelFontSize\": 9, \"titleFontSize\": 9, \"labelPadding\": 2, \"titlePadding\": 9, \"domainOpacity\": 0, \"tickColor\": \"#DCDDD6\"}, \"legend\": {\"labelFont\": \"Asap\", \"labelFontWeight\": \"normal\", \"titleFont\": \"Asap\", \"titleFontWeight\": \"normal\", \"labelFontSize\": 9, \"titleFontSize\": 9}, \"axisX\": {\"domain\": false, \"grid\": false}, \"view\": {\"stroke\": \"transparent\"}}, \"concat\": [{\"layer\": [{\"mark\": {\"type\": \"bar\", \"color\": \"#81A9D5\"}, \"encoding\": {\"x\": {\"axis\": {\"tickCount\": 0}, \"field\": \"rozd\\u00edl\", \"title\": null, \"type\": \"quantitative\"}, \"y\": {\"axis\": {\"tickColor\": \"white\"}, \"field\": \"slovo\", \"sort\": [\"babi\", \"py\\u017eamo\", \"pistole\", \"sal\\u00e1t\", \"prezident\", \"rusk\\u00fd\", \"kamar\\u00e1dka\", \"souboj\", \"miminko\", \"kladivo\", \"kulka\", \"v\\u016fl\", \"velet\", \"slu\\u017eebn\\u00fd\", \"politik\", \"ob\\u00fdvac\\u00ed\", \"obj\\u00edmat\", \"st\\u0159\\u00edlet\", \"rande\", \"zaregistrovat\", \"ordinace\", \"p\\u0159\\u00ed\\u0161ern\\u011b\", \"povyt\\u00e1hnout\", \"sukn\\u011b\"], \"title\": null, \"type\": \"nominal\"}}, \"title\": {\"text\": \"mu\\u017e\\u0161t\\u00ed auto\\u0159i\", \"anchor\": \"middle\", \"fontSize\": 10}}, {\"mark\": {\"type\": \"text\", \"color\": \"black\", \"dx\": 13, \"font\": \"Asap\", \"size\": 9}, \"encoding\": {\"text\": {\"field\": \"textik\", \"type\": \"nominal\"}, \"x\": {\"axis\": {\"tickCount\": 0}, \"field\": \"rozd\\u00edl\", \"title\": null, \"type\": \"quantitative\"}, \"y\": {\"field\": \"slovo\", \"sort\": [\"babi\", \"py\\u017eamo\", \"pistole\", \"sal\\u00e1t\", \"prezident\", \"rusk\\u00fd\", \"kamar\\u00e1dka\", \"souboj\", \"miminko\", \"kladivo\", \"kulka\", \"v\\u016fl\", \"velet\", \"slu\\u017eebn\\u00fd\", \"politik\", \"ob\\u00fdvac\\u00ed\", \"obj\\u00edmat\", \"st\\u0159\\u00edlet\", \"rande\", \"zaregistrovat\", \"ordinace\", \"p\\u0159\\u00ed\\u0161ern\\u011b\", \"povyt\\u00e1hnout\", \"sukn\\u011b\"], \"type\": \"nominal\"}}, \"title\": {\"text\": \"mu\\u017e\\u0161t\\u00ed auto\\u0159i\", \"anchor\": \"middle\", \"fontSize\": 10}}], \"data\": {\"name\": \"data-9a227dbe4563856c9d84a540bda56871\"}, \"width\": 144.0}, {\"layer\": [{\"mark\": {\"type\": \"bar\", \"color\": \"#D6534B\"}, \"encoding\": {\"x\": {\"axis\": {\"tickCount\": 0}, \"field\": \"rozd\\u00edl\", \"title\": null, \"type\": \"quantitative\"}, \"y\": {\"axis\": {\"tickColor\": \"white\"}, \"field\": \"slovo\", \"sort\": [\"babi\", \"py\\u017eamo\", \"pistole\", \"sal\\u00e1t\", \"prezident\", \"rusk\\u00fd\", \"kamar\\u00e1dka\", \"souboj\", \"miminko\", \"kladivo\", \"kulka\", \"v\\u016fl\", \"velet\", \"slu\\u017eebn\\u00fd\", \"politik\", \"ob\\u00fdvac\\u00ed\", \"obj\\u00edmat\", \"st\\u0159\\u00edlet\", \"rande\", \"zaregistrovat\", \"ordinace\", \"p\\u0159\\u00ed\\u0161ern\\u011b\", \"povyt\\u00e1hnout\", \"sukn\\u011b\"], \"title\": null, \"type\": \"nominal\"}}, \"title\": {\"text\": \"\\u017eensk\\u00e9 autorky\", \"anchor\": \"middle\", \"fontSize\": 10}}, {\"mark\": {\"type\": \"text\", \"color\": \"black\", \"dx\": 13, \"font\": \"Asap\", \"size\": 9}, \"encoding\": {\"text\": {\"field\": \"textik\", \"type\": \"nominal\"}, \"x\": {\"axis\": {\"tickCount\": 0}, \"field\": \"rozd\\u00edl\", \"title\": null, \"type\": \"quantitative\"}, \"y\": {\"field\": \"slovo\", \"sort\": [\"babi\", \"py\\u017eamo\", \"pistole\", \"sal\\u00e1t\", \"prezident\", \"rusk\\u00fd\", \"kamar\\u00e1dka\", \"souboj\", \"miminko\", \"kladivo\", \"kulka\", \"v\\u016fl\", \"velet\", \"slu\\u017eebn\\u00fd\", \"politik\", \"ob\\u00fdvac\\u00ed\", \"obj\\u00edmat\", \"st\\u0159\\u00edlet\", \"rande\", \"zaregistrovat\", \"ordinace\", \"p\\u0159\\u00ed\\u0161ern\\u011b\", \"povyt\\u00e1hnout\", \"sukn\\u011b\"], \"type\": \"nominal\"}}, \"title\": {\"text\": \"\\u017eensk\\u00e9 autorky\", \"anchor\": \"middle\", \"fontSize\": 10}}], \"data\": {\"name\": \"data-e85eec637a095fe81afb01bf3bb60f48\"}, \"width\": 144.0}], \"resolve\": {\"scale\": {\"x\": \"shared\"}}, \"spacing\": -10, \"title\": {\"text\": \"Spisovatelky p\\u00ed\\u0161ou \\u010dast\\u011bji o \\u017een\\u00e1ch, mu\\u017ei o st\\u0159elb\\u011b\", \"subtitle\": [\"Srovn\\u00e1n\\u00ed vych\\u00e1z\\u00ed z 13 tis\\u00edc stran uk\\u00e1zek z pr\\u00f3z 427 \\u010desk\\u00fdch autorek\", \"a 359 \\u010desk\\u00fdch autor\\u016f z let 2019 a\\u017e 2025. Obsahuje pouze slova,\", \"kter\\u00e1 se vyskytla alespo\\u0148 v 50 r\\u016fzn\\u00fdch knih\\u00e1ch.\"]}, \"$schema\": \"https://vega.github.io/schema/vega-lite/v5.8.0.json\", \"datasets\": {\"data-9a227dbe4563856c9d84a540bda56871\": [{\"slovo\": \"zaregistrovat\", \"rozd\\u00edl\": 1.6, \"mz\": \"mu\\u017e\\u0161t\\u00ed auto\\u0159i\", \"textik\": \"2.6\\u00d7\"}, {\"slovo\": \"st\\u0159\\u00edlet\", \"rozd\\u00edl\": 1.7000000000000002, \"mz\": \"mu\\u017e\\u0161t\\u00ed auto\\u0159i\", \"textik\": \"2.7\\u00d7\"}, {\"slovo\": \"politik\", \"rozd\\u00edl\": 1.7000000000000002, \"mz\": \"mu\\u017e\\u0161t\\u00ed auto\\u0159i\", \"textik\": \"2.7\\u00d7\"}, {\"slovo\": \"slu\\u017eebn\\u00fd\", \"rozd\\u00edl\": 1.7000000000000002, \"mz\": \"mu\\u017e\\u0161t\\u00ed auto\\u0159i\", \"textik\": \"2.7\\u00d7\"}, {\"slovo\": \"velet\", \"rozd\\u00edl\": 1.7000000000000002, \"mz\": \"mu\\u017e\\u0161t\\u00ed auto\\u0159i\", \"textik\": \"2.7\\u00d7\"}, {\"slovo\": \"v\\u016fl\", \"rozd\\u00edl\": 1.7999999999999998, \"mz\": \"mu\\u017e\\u0161t\\u00ed auto\\u0159i\", \"textik\": \"2.8\\u00d7\"}, {\"slovo\": \"kulka\", \"rozd\\u00edl\": 1.7999999999999998, \"mz\": \"mu\\u017e\\u0161t\\u00ed auto\\u0159i\", \"textik\": \"2.8\\u00d7\"}, {\"slovo\": \"kladivo\", \"rozd\\u00edl\": 1.9, \"mz\": \"mu\\u017e\\u0161t\\u00ed auto\\u0159i\", \"textik\": \"2.9\\u00d7\"}, {\"slovo\": \"souboj\", \"rozd\\u00edl\": 1.9, \"mz\": \"mu\\u017e\\u0161t\\u00ed auto\\u0159i\", \"textik\": \"2.9\\u00d7\"}, {\"slovo\": \"rusk\\u00fd\", \"rozd\\u00edl\": 2.1, \"mz\": \"mu\\u017e\\u0161t\\u00ed auto\\u0159i\", \"textik\": \"3.1\\u00d7\"}, {\"slovo\": \"prezident\", \"rozd\\u00edl\": 2.2, \"mz\": \"mu\\u017e\\u0161t\\u00ed auto\\u0159i\", \"textik\": \"3.2\\u00d7\"}, {\"slovo\": \"pistole\", \"rozd\\u00edl\": 2.5, \"mz\": \"mu\\u017e\\u0161t\\u00ed auto\\u0159i\", \"textik\": \"3.5\\u00d7\"}], \"data-e85eec637a095fe81afb01bf3bb60f48\": [{\"slovo\": \"babi\", \"rozd\\u00edl\": 4.4, \"mz\": \"\\u017eensk\\u00e9 autorky\", \"textik\": \"5.4\\u00d7\"}, {\"slovo\": \"py\\u017eamo\", \"rozd\\u00edl\": 2.6, \"mz\": \"\\u017eensk\\u00e9 autorky\", \"textik\": \"3.6\\u00d7\"}, {\"slovo\": \"sal\\u00e1t\", \"rozd\\u00edl\": 2.4, \"mz\": \"\\u017eensk\\u00e9 autorky\", \"textik\": \"3.4\\u00d7\"}, {\"slovo\": \"kamar\\u00e1dka\", \"rozd\\u00edl\": 2.0, \"mz\": \"\\u017eensk\\u00e9 autorky\", \"textik\": \"3.0\\u00d7\"}, {\"slovo\": \"miminko\", \"rozd\\u00edl\": 1.9, \"mz\": \"\\u017eensk\\u00e9 autorky\", \"textik\": \"2.9\\u00d7\"}, {\"slovo\": \"ob\\u00fdvac\\u00ed\", \"rozd\\u00edl\": 1.7000000000000002, \"mz\": \"\\u017eensk\\u00e9 autorky\", \"textik\": \"2.7\\u00d7\"}, {\"slovo\": \"obj\\u00edmat\", \"rozd\\u00edl\": 1.7000000000000002, \"mz\": \"\\u017eensk\\u00e9 autorky\", \"textik\": \"2.7\\u00d7\"}, {\"slovo\": \"rande\", \"rozd\\u00edl\": 1.6, \"mz\": \"\\u017eensk\\u00e9 autorky\", \"textik\": \"2.6\\u00d7\"}, {\"slovo\": \"ordinace\", \"rozd\\u00edl\": 1.5, \"mz\": \"\\u017eensk\\u00e9 autorky\", \"textik\": \"2.5\\u00d7\"}, {\"slovo\": \"p\\u0159\\u00ed\\u0161ern\\u011b\", \"rozd\\u00edl\": 1.5, \"mz\": \"\\u017eensk\\u00e9 autorky\", \"textik\": \"2.5\\u00d7\"}, {\"slovo\": \"povyt\\u00e1hnout\", \"rozd\\u00edl\": 1.5, \"mz\": \"\\u017eensk\\u00e9 autorky\", \"textik\": \"2.5\\u00d7\"}, {\"slovo\": \"sukn\\u011b\", \"rozd\\u00edl\": 1.4, \"mz\": \"\\u017eensk\\u00e9 autorky\", \"textik\": \"2.4\\u00d7\"}]}}, {\"mode\": \"vega-lite\"});\n",
       "</script>"
      ],
      "text/plain": [
       "alt.ConcatChart(...)"
      ]
     },
     "execution_count": 727,
     "metadata": {},
     "output_type": "execute_result"
    }
   ],
   "source": [
    "podtitulek = [\n",
    "    f\"Srovnání vychází z {graf_rozsah} tisíc stran ukázek z próz {graf_zeny} českých autorek\",\n",
    "    f\"a {graf_muzi} českých autorů z let {graf_rok_min} až {graf_rok_max}. Obsahuje pouze slova,\",\n",
    "    \"která se vyskytla alespoň v 50 různých knihách.\"\n",
    "]\n",
    "\n",
    "spojeni = alt.concat(sloupec('mužští autoři'), sloupec('ženské autorky'), spacing=-10)\n",
    "\n",
    "spojeni = spojeni.properties(\n",
    "    title={\n",
    "        'text': \"Spisovatelky píšou častěji o ženách, muži o střelbě\",\n",
    "        'subtitle': podtitulek\n",
    "    }).configure_view(stroke='transparent').configure_axisX(\n",
    "    grid=False, domain=False).resolve_scale(x=\"shared\")\n",
    "\n",
    "spojeni"
   ]
  },
  {
   "cell_type": "code",
   "execution_count": 637,
   "id": "6bdb029e-1eda-47f8-9d2b-c44c3c78bcf7",
   "metadata": {},
   "outputs": [
    {
     "data": {
      "text/plain": [
       "'data: Česká národní bibliografie | vizualizace: iROZHLAS.cz | 2025'"
      ]
     },
     "execution_count": 637,
     "metadata": {},
     "output_type": "execute_result"
    }
   ],
   "source": [
    "kredity['default']"
   ]
  },
  {
   "cell_type": "code",
   "execution_count": 723,
   "id": "f2fe64ca-bbfc-47b4-80f9-38b1743daa4b",
   "metadata": {},
   "outputs": [
    {
     "name": "stdout",
     "output_type": "stream",
     "text": [
      "<figure>\n",
      "    <a href=\"https://data.irozhlas.cz/knihy-grafy/05_muzska_zenska_slova.svg\" target=\"_blank\">\n",
      "    <img src=\"https://data.irozhlas.cz/knihy-grafy/05_muzska_zenska_slova.svg\" width=\"100%\" alt=\"Graf s titulkem „Spisovatelky píšou častěji o ženách, muži o střelbě“. Další texty by měly být čitelné ze zdrojového souboru SVG.\" />\n",
      "    </a>\n",
      "    </figure>\n"
     ]
    }
   ],
   "source": [
    "me_to_neurazi(spojeni, soubor=\"05_muzska_zenska_slova\", kredity=kredity['default'].replace('bibliografie','bibliografie, Wikidata, Martinus.cz'))"
   ]
  },
  {
   "cell_type": "markdown",
   "id": "dc036fb8-4ccb-41e5-9118-9078c7352929",
   "metadata": {},
   "source": [
    "## Barvy"
   ]
  },
  {
   "cell_type": "code",
   "execution_count": 186,
   "id": "689c4314-feea-47d0-bd77-d393006f1a6c",
   "metadata": {},
   "outputs": [],
   "source": [
    "barvy = {\n",
    "    'černý': '#000000',\n",
    "    'bílý': '#FFFFFF',\n",
    "    'červený': '#FF0000',\n",
    "    'zelený': '#00FF00',\n",
    "    'modrý': '#0000FF',\n",
    "    'žlutý': '#FFFF00',\n",
    "    'fialový': '#800080',\n",
    "    'tyrkysový': '#00FFFF',\n",
    "    'oranžový': '#FFA500',\n",
    "    'růžový': '#FFC0CB',\n",
    "    'béžový': None,\n",
    "    'sépiový': None,\n",
    "    'starorůžový': None,\n",
    "    'hnědý': None,\n",
    "    'rudý': None,\n",
    "    'šedý': None,\n",
    "    'purpurový': None,\n",
    "    'karmínový': None,\n",
    "    'kobaltový': None,\n",
    "    'meruňkový': None,\n",
    "    'šarlatový': None,\n",
    "    'ultramarínový': None,\n",
    "    'vínový': None,\n",
    "    'khaki': None,\n",
    "    'indigový': None,\n",
    "    'nachový': None,\n",
    "    'sivý': None\n",
    "}"
   ]
  },
  {
   "cell_type": "code",
   "execution_count": 187,
   "id": "346debbf-f090-417a-9e6a-d41e19b651e4",
   "metadata": {},
   "outputs": [
    {
     "data": {
      "text/plain": [
       "purpurový        0.237883\n",
       "tyrkysový        0.365974\n",
       "růžový           0.506964\n",
       "oranžový         0.713649\n",
       "modrý            0.746088\n",
       "béžový           0.747632\n",
       "karmínový        0.849582\n",
       "nachový          0.849582\n",
       "hnědý            0.861895\n",
       "fialový          0.862909\n",
       "žlutý            0.864105\n",
       "rudý             0.888794\n",
       "červený          0.907079\n",
       "zelený           0.912335\n",
       "černý            0.912535\n",
       "šedý             0.942264\n",
       "bílý             0.966115\n",
       "šarlatový        2.378830\n",
       "khaki            2.775302\n",
       "sépiový               NaN\n",
       "starorůžový           NaN\n",
       "kobaltový             NaN\n",
       "meruňkový             NaN\n",
       "ultramarínový         NaN\n",
       "vínový                NaN\n",
       "indigový              NaN\n",
       "sivý                  NaN\n",
       "dtype: float64"
      ]
     },
     "execution_count": 187,
     "metadata": {},
     "output_type": "execute_result"
    }
   ],
   "source": [
    "cetnost_barev = {}\n",
    "for barva, kod in barvy.items():\n",
    "    cetnost_barev[barva] = pomer_vsech[pomer_vsech.index == barva].max()\n",
    "pd.Series(cetnost_barev).sort_values()"
   ]
  },
  {
   "cell_type": "code",
   "execution_count": 188,
   "id": "f46fe926-ca26-4bad-beb3-b7a21a180f95",
   "metadata": {},
   "outputs": [
    {
     "data": {
      "text/plain": [
       "slova\n",
       "fialova                NaN\n",
       "fialovohnědý           NaN\n",
       "fialovomodrý           NaN\n",
       "fialovoocí             NaN\n",
       "fialovooký             NaN\n",
       "fialovookými           NaN\n",
       "fialovorůžový          NaN\n",
       "fialovočerný           NaN\n",
       "fialovožluta           NaN\n",
       "fialovožlutý           NaN\n",
       "fialovym               NaN\n",
       "fialový           0.862909\n",
       "fialově           0.594708\n",
       "modrofialova           NaN\n",
       "modrofialový      1.784123\n",
       "nafialovělá            NaN\n",
       "nafialovělé            NaN\n",
       "nafialovělých          NaN\n",
       "nafialovělými          NaN\n",
       "tmavofialový           NaN\n",
       "ultrafialový           NaN\n",
       "zfialověl         1.189415\n",
       "červenofialový         NaN\n",
       "šedofialový            NaN\n",
       "dtype: float64"
      ]
     },
     "execution_count": 188,
     "metadata": {},
     "output_type": "execute_result"
    }
   ],
   "source": [
    "pomer_vsech[pomer_vsech.index.str.contains('fialov')]"
   ]
  },
  {
   "cell_type": "code",
   "execution_count": 189,
   "id": "bbab06c0-d081-48da-9326-c79cb29fde5d",
   "metadata": {},
   "outputs": [
    {
     "data": {
      "text/plain": [
       "slova\n",
       "Abraham     3.568245\n",
       "Abrahám     1.189415\n",
       "Achilles         NaN\n",
       "Adam        0.979518\n",
       "Adamec      1.189415\n",
       "              ...   \n",
       "שקרן             NaN\n",
       " září            NaN\n",
       "  pátek          NaN\n",
       " který           NaN\n",
       " patro           NaN\n",
       "Length: 153724, dtype: float64"
      ]
     },
     "execution_count": 189,
     "metadata": {},
     "output_type": "execute_result"
    }
   ],
   "source": [
    "pomer_vsech"
   ]
  }
 ],
 "metadata": {
  "kernelspec": {
   "display_name": "Python 3 (ipykernel)",
   "language": "python",
   "name": "python3"
  },
  "language_info": {
   "codemirror_mode": {
    "name": "ipython",
    "version": 3
   },
   "file_extension": ".py",
   "mimetype": "text/x-python",
   "name": "python",
   "nbconvert_exporter": "python",
   "pygments_lexer": "ipython3",
   "version": "3.12.3"
  }
 },
 "nbformat": 4,
 "nbformat_minor": 5
}
