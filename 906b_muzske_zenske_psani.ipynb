{
 "cells": [
  {
   "cell_type": "code",
   "execution_count": 5,
   "id": "312b0438-f5a7-4539-8669-f30b1f40f07e",
   "metadata": {},
   "outputs": [],
   "source": [
    "import os\n",
    "import re\n",
    "import pandas as pd"
   ]
  },
  {
   "cell_type": "markdown",
   "id": "9537ace0-4883-4506-a48d-e270197caf2f",
   "metadata": {},
   "source": [
    "## Příprava dat"
   ]
  },
  {
   "cell_type": "code",
   "execution_count": 157,
   "id": "3b3eb6e2-f7d2-42b8-bbe0-ba309c5bb027",
   "metadata": {},
   "outputs": [],
   "source": [
    "pd.set_option('display.max_columns', 100)\n",
    "pd.set_option('display.max_rows', 100)"
   ]
  },
  {
   "cell_type": "code",
   "execution_count": 8,
   "id": "a17c8ea4-f9d4-4a24-ba0a-ff680a93dc24",
   "metadata": {
    "scrolled": true
   },
   "outputs": [
    {
     "data": {
      "text/plain": [
       "47902"
      ]
     },
     "execution_count": 8,
     "metadata": {},
     "output_type": "execute_result"
    }
   ],
   "source": [
    "df = pd.read_parquet(os.path.join(\"data\",\"cnb_ceska_proza.parquet\"))\n",
    "len(df)"
   ]
  },
  {
   "cell_type": "code",
   "execution_count": 9,
   "id": "24cd3498-13ae-4f9c-be57-8e9262a98b98",
   "metadata": {},
   "outputs": [],
   "source": [
    "df = df.merge(pd.read_parquet(os.path.join(\"data\",\"cnb_vyber.parquet\")), left_index=True, right_index=True, how='inner')"
   ]
  },
  {
   "cell_type": "code",
   "execution_count": 10,
   "id": "b80101b6-912f-4d0a-97e2-e2ebb6897a9f",
   "metadata": {},
   "outputs": [
    {
     "data": {
      "text/plain": [
       "44249"
      ]
     },
     "execution_count": 10,
     "metadata": {},
     "output_type": "execute_result"
    }
   ],
   "source": [
    "len(df)"
   ]
  },
  {
   "cell_type": "code",
   "execution_count": 11,
   "id": "ac1e38ca-8bc0-4c05-8a64-4badd85874ce",
   "metadata": {},
   "outputs": [],
   "source": [
    "df = df[df['rok'] >= 2019]"
   ]
  },
  {
   "cell_type": "code",
   "execution_count": 12,
   "id": "6ebc034c-337d-456d-99a9-492dd17270eb",
   "metadata": {},
   "outputs": [
    {
     "data": {
      "text/plain": [
       "2019"
      ]
     },
     "execution_count": 12,
     "metadata": {},
     "output_type": "execute_result"
    }
   ],
   "source": [
    "graf_rok_min = int(df['rok'].min())\n",
    "graf_rok_min"
   ]
  },
  {
   "cell_type": "code",
   "execution_count": 13,
   "id": "87e7a891-f29b-4f10-9ced-81ac501f1029",
   "metadata": {},
   "outputs": [
    {
     "data": {
      "text/plain": [
       "2025"
      ]
     },
     "execution_count": 13,
     "metadata": {},
     "output_type": "execute_result"
    }
   ],
   "source": [
    "graf_rok_max = int(df['rok'].max())\n",
    "graf_rok_max"
   ]
  },
  {
   "cell_type": "code",
   "execution_count": 14,
   "id": "d93275fc-be79-4ff1-b464-63386fa7fe6c",
   "metadata": {},
   "outputs": [
    {
     "data": {
      "text/plain": [
       "8324"
      ]
     },
     "execution_count": 14,
     "metadata": {},
     "output_type": "execute_result"
    }
   ],
   "source": [
    "len(df)"
   ]
  },
  {
   "cell_type": "code",
   "execution_count": 15,
   "id": "eb984e3c-2640-417c-8738-02c80940edfd",
   "metadata": {},
   "outputs": [],
   "source": [
    "df = df.explode('020_a')"
   ]
  },
  {
   "cell_type": "code",
   "execution_count": 16,
   "id": "0e9a02f4-b9e1-429b-acd6-d665dfc49bf1",
   "metadata": {},
   "outputs": [],
   "source": [
    "def isbn(x):\n",
    "    try:\n",
    "        if len(x.replace('-','')) == 13:\n",
    "            return str(x.replace('-',''))\n",
    "    except:\n",
    "        pass"
   ]
  },
  {
   "cell_type": "code",
   "execution_count": 17,
   "id": "c287cdaf-9181-40fc-8896-c254e461b01d",
   "metadata": {},
   "outputs": [],
   "source": [
    "df['isbn'] = df['020_a'].apply(lambda x: isbn(x))"
   ]
  },
  {
   "cell_type": "code",
   "execution_count": 18,
   "id": "a3106d61-67fd-4fac-9801-df84e295da62",
   "metadata": {},
   "outputs": [
    {
     "data": {
      "text/html": [
       "<div>\n",
       "<style scoped>\n",
       "    .dataframe tbody tr th:only-of-type {\n",
       "        vertical-align: middle;\n",
       "    }\n",
       "\n",
       "    .dataframe tbody tr th {\n",
       "        vertical-align: top;\n",
       "    }\n",
       "\n",
       "    .dataframe thead th {\n",
       "        text-align: right;\n",
       "    }\n",
       "</style>\n",
       "<table border=\"1\" class=\"dataframe\">\n",
       "  <thead>\n",
       "    <tr style=\"text-align: right;\">\n",
       "      <th></th>\n",
       "      <th>020_a</th>\n",
       "      <th>isbn</th>\n",
       "    </tr>\n",
       "    <tr>\n",
       "      <th>001</th>\n",
       "      <th></th>\n",
       "      <th></th>\n",
       "    </tr>\n",
       "  </thead>\n",
       "  <tbody>\n",
       "    <tr>\n",
       "      <th>nkc20233499812</th>\n",
       "      <td>978-80-908376-9-0</td>\n",
       "      <td>9788090837690</td>\n",
       "    </tr>\n",
       "    <tr>\n",
       "      <th>nkc20203263304</th>\n",
       "      <td>978-80-7558-136-5</td>\n",
       "      <td>9788075581365</td>\n",
       "    </tr>\n",
       "    <tr>\n",
       "      <th>nkc20223439053</th>\n",
       "      <td>978-80-7492-594-8</td>\n",
       "      <td>9788074925948</td>\n",
       "    </tr>\n",
       "    <tr>\n",
       "      <th>nkc20223437210</th>\n",
       "      <td>978-80-257-3729-3</td>\n",
       "      <td>9788025737293</td>\n",
       "    </tr>\n",
       "    <tr>\n",
       "      <th>nkc20243589365</th>\n",
       "      <td>978-80-11-04615-6</td>\n",
       "      <td>9788011046156</td>\n",
       "    </tr>\n",
       "    <tr>\n",
       "      <th>nkc20213351569</th>\n",
       "      <td>978-80-271-3384-0</td>\n",
       "      <td>9788027133840</td>\n",
       "    </tr>\n",
       "    <tr>\n",
       "      <th>nkc20213370561</th>\n",
       "      <td>978-80-7485-237-4</td>\n",
       "      <td>9788074852374</td>\n",
       "    </tr>\n",
       "    <tr>\n",
       "      <th>nkc20243604521</th>\n",
       "      <td>978-80-7691-364-6</td>\n",
       "      <td>9788076913646</td>\n",
       "    </tr>\n",
       "    <tr>\n",
       "      <th>nkc20193102216</th>\n",
       "      <td>978-80-270-6085-6</td>\n",
       "      <td>9788027060856</td>\n",
       "    </tr>\n",
       "    <tr>\n",
       "      <th>nkc20223408219</th>\n",
       "      <td>978-80-11-01381-3</td>\n",
       "      <td>9788011013813</td>\n",
       "    </tr>\n",
       "    <tr>\n",
       "      <th>nkc20243596702</th>\n",
       "      <td>978-80-7407-645-9</td>\n",
       "      <td>9788074076459</td>\n",
       "    </tr>\n",
       "    <tr>\n",
       "      <th>nkc20233502280</th>\n",
       "      <td>978-80-263-1675-6</td>\n",
       "      <td>9788026316756</td>\n",
       "    </tr>\n",
       "    <tr>\n",
       "      <th>nkc20243601316</th>\n",
       "      <td>978-80-11-04845-7</td>\n",
       "      <td>9788011048457</td>\n",
       "    </tr>\n",
       "    <tr>\n",
       "      <th>nkc20243613271</th>\n",
       "      <td>978-80-7443-518-8</td>\n",
       "      <td>9788074435188</td>\n",
       "    </tr>\n",
       "    <tr>\n",
       "      <th>nkc20223400917</th>\n",
       "      <td>978-80-7684-002-7</td>\n",
       "      <td>9788076840027</td>\n",
       "    </tr>\n",
       "    <tr>\n",
       "      <th>nkc20203170901</th>\n",
       "      <td>978-80-87563-76-2</td>\n",
       "      <td>9788087563762</td>\n",
       "    </tr>\n",
       "    <tr>\n",
       "      <th>nkc20223396824</th>\n",
       "      <td>978-80-906501-2-1</td>\n",
       "      <td>9788090650121</td>\n",
       "    </tr>\n",
       "    <tr>\n",
       "      <th>nkc20203256535</th>\n",
       "      <td>978-80-7567-724-2</td>\n",
       "      <td>9788075677242</td>\n",
       "    </tr>\n",
       "    <tr>\n",
       "      <th>nkc20203254043</th>\n",
       "      <td>978-80-88298-96-0</td>\n",
       "      <td>9788088298960</td>\n",
       "    </tr>\n",
       "    <tr>\n",
       "      <th>nkc20243624381</th>\n",
       "      <td>978-80-908423-0-4</td>\n",
       "      <td>9788090842304</td>\n",
       "    </tr>\n",
       "  </tbody>\n",
       "</table>\n",
       "</div>"
      ],
      "text/plain": [
       "                            020_a           isbn\n",
       "001                                             \n",
       "nkc20233499812  978-80-908376-9-0  9788090837690\n",
       "nkc20203263304  978-80-7558-136-5  9788075581365\n",
       "nkc20223439053  978-80-7492-594-8  9788074925948\n",
       "nkc20223437210  978-80-257-3729-3  9788025737293\n",
       "nkc20243589365  978-80-11-04615-6  9788011046156\n",
       "nkc20213351569  978-80-271-3384-0  9788027133840\n",
       "nkc20213370561  978-80-7485-237-4  9788074852374\n",
       "nkc20243604521  978-80-7691-364-6  9788076913646\n",
       "nkc20193102216  978-80-270-6085-6  9788027060856\n",
       "nkc20223408219  978-80-11-01381-3  9788011013813\n",
       "nkc20243596702  978-80-7407-645-9  9788074076459\n",
       "nkc20233502280  978-80-263-1675-6  9788026316756\n",
       "nkc20243601316  978-80-11-04845-7  9788011048457\n",
       "nkc20243613271  978-80-7443-518-8  9788074435188\n",
       "nkc20223400917  978-80-7684-002-7  9788076840027\n",
       "nkc20203170901  978-80-87563-76-2  9788087563762\n",
       "nkc20223396824  978-80-906501-2-1  9788090650121\n",
       "nkc20203256535  978-80-7567-724-2  9788075677242\n",
       "nkc20203254043  978-80-88298-96-0  9788088298960\n",
       "nkc20243624381  978-80-908423-0-4  9788090842304"
      ]
     },
     "execution_count": 18,
     "metadata": {},
     "output_type": "execute_result"
    }
   ],
   "source": [
    "df[['020_a','isbn']].sample(20)"
   ]
  },
  {
   "cell_type": "code",
   "execution_count": 19,
   "id": "5c565a4f-e7cb-4575-afa5-ed4387ba2cf2",
   "metadata": {},
   "outputs": [],
   "source": [
    "odkud = \"data_raw/ebooky\""
   ]
  },
  {
   "cell_type": "code",
   "execution_count": 20,
   "id": "c14e40fe-820c-49df-8f20-9d0805cef90c",
   "metadata": {},
   "outputs": [
    {
     "data": {
      "text/plain": [
       "2938"
      ]
     },
     "execution_count": 20,
     "metadata": {},
     "output_type": "execute_result"
    }
   ],
   "source": [
    "stazene = set([x.split(\".\")[0] for x in os.listdir(odkud)])\n",
    "len(stazene)"
   ]
  },
  {
   "cell_type": "code",
   "execution_count": 21,
   "id": "c6d1a223-8229-4c24-b2f9-ad00bac44525",
   "metadata": {},
   "outputs": [],
   "source": [
    "df = df[df['isbn'].isin(stazene)]"
   ]
  },
  {
   "cell_type": "code",
   "execution_count": 22,
   "id": "15cbe187-c83b-4597-9393-4c239f03c21a",
   "metadata": {},
   "outputs": [
    {
     "data": {
      "text/html": [
       "<div>\n",
       "<style scoped>\n",
       "    .dataframe tbody tr th:only-of-type {\n",
       "        vertical-align: middle;\n",
       "    }\n",
       "\n",
       "    .dataframe tbody tr th {\n",
       "        vertical-align: top;\n",
       "    }\n",
       "\n",
       "    .dataframe thead th {\n",
       "        text-align: right;\n",
       "    }\n",
       "</style>\n",
       "<table border=\"1\" class=\"dataframe\">\n",
       "  <thead>\n",
       "    <tr style=\"text-align: right;\">\n",
       "      <th></th>\n",
       "      <th>rok</th>\n",
       "      <th>titul</th>\n",
       "      <th>autorstvo</th>\n",
       "      <th>autorstvo_kod</th>\n",
       "      <th>008</th>\n",
       "      <th>020_a</th>\n",
       "      <th>020_c</th>\n",
       "      <th>020_q</th>\n",
       "      <th>041_a</th>\n",
       "      <th>041_h</th>\n",
       "      <th>041_ind1</th>\n",
       "      <th>044_a</th>\n",
       "      <th>072_a</th>\n",
       "      <th>072_x</th>\n",
       "      <th>080_a</th>\n",
       "      <th>100_4</th>\n",
       "      <th>100_7</th>\n",
       "      <th>100_a</th>\n",
       "      <th>100_d</th>\n",
       "      <th>240_l</th>\n",
       "      <th>245_a</th>\n",
       "      <th>245_c</th>\n",
       "      <th>245_n</th>\n",
       "      <th>245_p</th>\n",
       "      <th>246_a</th>\n",
       "      <th>250_a</th>\n",
       "      <th>250_b</th>\n",
       "      <th>260_a</th>\n",
       "      <th>260_b</th>\n",
       "      <th>260_c</th>\n",
       "      <th>260_e</th>\n",
       "      <th>260_f</th>\n",
       "      <th>260_ind1</th>\n",
       "      <th>264_a</th>\n",
       "      <th>264_b</th>\n",
       "      <th>264_c</th>\n",
       "      <th>264_ind2</th>\n",
       "      <th>300_a</th>\n",
       "      <th>300_b</th>\n",
       "      <th>300_c</th>\n",
       "      <th>490_a</th>\n",
       "      <th>490_v</th>\n",
       "      <th>500_a</th>\n",
       "      <th>521_a</th>\n",
       "      <th>546_a</th>\n",
       "      <th>648_a</th>\n",
       "      <th>650_a</th>\n",
       "      <th>650_x</th>\n",
       "      <th>650_y</th>\n",
       "      <th>650_z</th>\n",
       "      <th>651_a</th>\n",
       "      <th>653_a</th>\n",
       "      <th>655_a</th>\n",
       "      <th>700_4</th>\n",
       "      <th>700_7</th>\n",
       "      <th>700_a</th>\n",
       "      <th>700_d</th>\n",
       "      <th>710_4</th>\n",
       "      <th>710_7</th>\n",
       "      <th>710_a</th>\n",
       "      <th>710_b</th>\n",
       "      <th>830_a</th>\n",
       "      <th>928_a</th>\n",
       "      <th>964_a</th>\n",
       "      <th>leader</th>\n",
       "      <th>isbn</th>\n",
       "    </tr>\n",
       "    <tr>\n",
       "      <th>001</th>\n",
       "      <th></th>\n",
       "      <th></th>\n",
       "      <th></th>\n",
       "      <th></th>\n",
       "      <th></th>\n",
       "      <th></th>\n",
       "      <th></th>\n",
       "      <th></th>\n",
       "      <th></th>\n",
       "      <th></th>\n",
       "      <th></th>\n",
       "      <th></th>\n",
       "      <th></th>\n",
       "      <th></th>\n",
       "      <th></th>\n",
       "      <th></th>\n",
       "      <th></th>\n",
       "      <th></th>\n",
       "      <th></th>\n",
       "      <th></th>\n",
       "      <th></th>\n",
       "      <th></th>\n",
       "      <th></th>\n",
       "      <th></th>\n",
       "      <th></th>\n",
       "      <th></th>\n",
       "      <th></th>\n",
       "      <th></th>\n",
       "      <th></th>\n",
       "      <th></th>\n",
       "      <th></th>\n",
       "      <th></th>\n",
       "      <th></th>\n",
       "      <th></th>\n",
       "      <th></th>\n",
       "      <th></th>\n",
       "      <th></th>\n",
       "      <th></th>\n",
       "      <th></th>\n",
       "      <th></th>\n",
       "      <th></th>\n",
       "      <th></th>\n",
       "      <th></th>\n",
       "      <th></th>\n",
       "      <th></th>\n",
       "      <th></th>\n",
       "      <th></th>\n",
       "      <th></th>\n",
       "      <th></th>\n",
       "      <th></th>\n",
       "      <th></th>\n",
       "      <th></th>\n",
       "      <th></th>\n",
       "      <th></th>\n",
       "      <th></th>\n",
       "      <th></th>\n",
       "      <th></th>\n",
       "      <th></th>\n",
       "      <th></th>\n",
       "      <th></th>\n",
       "      <th></th>\n",
       "      <th></th>\n",
       "      <th></th>\n",
       "      <th></th>\n",
       "      <th></th>\n",
       "      <th></th>\n",
       "    </tr>\n",
       "  </thead>\n",
       "  <tbody>\n",
       "    <tr>\n",
       "      <th>nkc20193162052</th>\n",
       "      <td>2019.0</td>\n",
       "      <td>Čarodějnice</td>\n",
       "      <td>Vostrý Mirek</td>\n",
       "      <td>mzk2018995176</td>\n",
       "      <td>200120s2019    xr     g      000 j cze</td>\n",
       "      <td>978-80-88318-05-7</td>\n",
       "      <td>None</td>\n",
       "      <td>[(brožováno)]</td>\n",
       "      <td>None</td>\n",
       "      <td>None</td>\n",
       "      <td>None</td>\n",
       "      <td>None</td>\n",
       "      <td>[821.162.3-3]</td>\n",
       "      <td>[Česká próza]</td>\n",
       "      <td>[821.162.3-32, (0:82-32)]</td>\n",
       "      <td>[aut]</td>\n",
       "      <td>mzk2018995176</td>\n",
       "      <td>Vostrý, Mirek,</td>\n",
       "      <td>1968-</td>\n",
       "      <td>None</td>\n",
       "      <td>Čarodějnice /</td>\n",
       "      <td>Mirek Vostrý</td>\n",
       "      <td>None</td>\n",
       "      <td>None</td>\n",
       "      <td>None</td>\n",
       "      <td>[Vydání první]</td>\n",
       "      <td>None</td>\n",
       "      <td>None</td>\n",
       "      <td>None</td>\n",
       "      <td>None</td>\n",
       "      <td>None</td>\n",
       "      <td>None</td>\n",
       "      <td>None</td>\n",
       "      <td>[Brandýs n/L :]</td>\n",
       "      <td>[Tofana,]</td>\n",
       "      <td>[2019]</td>\n",
       "      <td>[1]</td>\n",
       "      <td>[187 stran ;]</td>\n",
       "      <td>None</td>\n",
       "      <td>[19 cm]</td>\n",
       "      <td>None</td>\n",
       "      <td>None</td>\n",
       "      <td>[150 výtisků]</td>\n",
       "      <td>None</td>\n",
       "      <td>None</td>\n",
       "      <td>None</td>\n",
       "      <td>None</td>\n",
       "      <td>None</td>\n",
       "      <td>None</td>\n",
       "      <td>None</td>\n",
       "      <td>None</td>\n",
       "      <td>None</td>\n",
       "      <td>[české povídky, Czech short stories]</td>\n",
       "      <td>None</td>\n",
       "      <td>None</td>\n",
       "      <td>None</td>\n",
       "      <td>None</td>\n",
       "      <td>None</td>\n",
       "      <td>None</td>\n",
       "      <td>None</td>\n",
       "      <td>None</td>\n",
       "      <td>None</td>\n",
       "      <td>None</td>\n",
       "      <td>None</td>\n",
       "      <td>nam a22      i 4500</td>\n",
       "      <td>9788088318057</td>\n",
       "    </tr>\n",
       "    <tr>\n",
       "      <th>nkc20193162055</th>\n",
       "      <td>2019.0</td>\n",
       "      <td>Ke Gogolovi a zpátky</td>\n",
       "      <td>Rollingerová-Riba Romana</td>\n",
       "      <td>jo20000075610</td>\n",
       "      <td>191127s2019    xr     g      000 f cze</td>\n",
       "      <td>978-80-7487-279-2</td>\n",
       "      <td>[Kč 299,00]</td>\n",
       "      <td>[(brožováno) :]</td>\n",
       "      <td>None</td>\n",
       "      <td>None</td>\n",
       "      <td>None</td>\n",
       "      <td>None</td>\n",
       "      <td>[821.162.3-3]</td>\n",
       "      <td>[Česká próza]</td>\n",
       "      <td>[821.162.3-31, (0:82-31)]</td>\n",
       "      <td>[aut]</td>\n",
       "      <td>jo20000075610</td>\n",
       "      <td>Rollingerová-Riba, Romana,</td>\n",
       "      <td>1971-</td>\n",
       "      <td>None</td>\n",
       "      <td>Ke Gogolovi a zpátky /</td>\n",
       "      <td>Romana Riba-Rollingerová</td>\n",
       "      <td>None</td>\n",
       "      <td>None</td>\n",
       "      <td>None</td>\n",
       "      <td>[Vydání první]</td>\n",
       "      <td>None</td>\n",
       "      <td>None</td>\n",
       "      <td>None</td>\n",
       "      <td>None</td>\n",
       "      <td>None</td>\n",
       "      <td>None</td>\n",
       "      <td>None</td>\n",
       "      <td>[V Brumovicích :]</td>\n",
       "      <td>[Carpe diem,]</td>\n",
       "      <td>[2019]</td>\n",
       "      <td>[1]</td>\n",
       "      <td>[267 stran ;]</td>\n",
       "      <td>None</td>\n",
       "      <td>[19 cm]</td>\n",
       "      <td>None</td>\n",
       "      <td>None</td>\n",
       "      <td>None</td>\n",
       "      <td>None</td>\n",
       "      <td>None</td>\n",
       "      <td>None</td>\n",
       "      <td>None</td>\n",
       "      <td>None</td>\n",
       "      <td>None</td>\n",
       "      <td>None</td>\n",
       "      <td>None</td>\n",
       "      <td>None</td>\n",
       "      <td>[české romány, Czech fiction]</td>\n",
       "      <td>None</td>\n",
       "      <td>None</td>\n",
       "      <td>None</td>\n",
       "      <td>None</td>\n",
       "      <td>None</td>\n",
       "      <td>None</td>\n",
       "      <td>None</td>\n",
       "      <td>None</td>\n",
       "      <td>None</td>\n",
       "      <td>None</td>\n",
       "      <td>None</td>\n",
       "      <td>nam a22      i 4500</td>\n",
       "      <td>9788074872792</td>\n",
       "    </tr>\n",
       "    <tr>\n",
       "      <th>nkc20193161777</th>\n",
       "      <td>2019.0</td>\n",
       "      <td>Dobře zašitej frajer</td>\n",
       "      <td>Šabach Petr</td>\n",
       "      <td>jn19990201046</td>\n",
       "      <td>191211s2019    xr     g      000 j cze</td>\n",
       "      <td>978-80-7637-070-8</td>\n",
       "      <td>[Kč 399,00]</td>\n",
       "      <td>[(vázáno) :]</td>\n",
       "      <td>None</td>\n",
       "      <td>None</td>\n",
       "      <td>None</td>\n",
       "      <td>None</td>\n",
       "      <td>[821.162.3-3]</td>\n",
       "      <td>[Česká próza]</td>\n",
       "      <td>[821.162.3-32, (0:82-32), (082.21)]</td>\n",
       "      <td>[aut]</td>\n",
       "      <td>jn19990201046</td>\n",
       "      <td>Šabach, Petr,</td>\n",
       "      <td>1951-2017</td>\n",
       "      <td>None</td>\n",
       "      <td>Dobře zašitej frajer /</td>\n",
       "      <td>to nejlepší z Petra Šabacha uspořádali Emil Ha...</td>\n",
       "      <td>None</td>\n",
       "      <td>None</td>\n",
       "      <td>None</td>\n",
       "      <td>[Vydání první]</td>\n",
       "      <td>None</td>\n",
       "      <td>None</td>\n",
       "      <td>None</td>\n",
       "      <td>None</td>\n",
       "      <td>None</td>\n",
       "      <td>None</td>\n",
       "      <td>None</td>\n",
       "      <td>[V Praze :]</td>\n",
       "      <td>[Paseka,]</td>\n",
       "      <td>[2019]</td>\n",
       "      <td>[1]</td>\n",
       "      <td>[333 stran ;]</td>\n",
       "      <td>None</td>\n",
       "      <td>[23 cm]</td>\n",
       "      <td>None</td>\n",
       "      <td>None</td>\n",
       "      <td>[Údaj o vydání je chybný, správně má být: Vydá...</td>\n",
       "      <td>None</td>\n",
       "      <td>None</td>\n",
       "      <td>None</td>\n",
       "      <td>None</td>\n",
       "      <td>None</td>\n",
       "      <td>None</td>\n",
       "      <td>None</td>\n",
       "      <td>None</td>\n",
       "      <td>None</td>\n",
       "      <td>[české povídky, české novely, výbory, Czech sh...</td>\n",
       "      <td>[edt, edt]</td>\n",
       "      <td>[jn20000400849, jn19990209335]</td>\n",
       "      <td>[Hakl, Emil,, Kahuda, Václav,]</td>\n",
       "      <td>[1958-, 1965-2023]</td>\n",
       "      <td>None</td>\n",
       "      <td>None</td>\n",
       "      <td>None</td>\n",
       "      <td>None</td>\n",
       "      <td>None</td>\n",
       "      <td>None</td>\n",
       "      <td>None</td>\n",
       "      <td>nam a22      i 4500</td>\n",
       "      <td>9788076370708</td>\n",
       "    </tr>\n",
       "    <tr>\n",
       "      <th>nkc20193158977</th>\n",
       "      <td>2019.0</td>\n",
       "      <td>Ukradená vražda</td>\n",
       "      <td>Češka Stanislav</td>\n",
       "      <td>xx0122614</td>\n",
       "      <td>191111s2019    xr     g      000 f cze d</td>\n",
       "      <td>978-80-243-8914-1</td>\n",
       "      <td>None</td>\n",
       "      <td>[(vázáno)]</td>\n",
       "      <td>None</td>\n",
       "      <td>None</td>\n",
       "      <td>None</td>\n",
       "      <td>None</td>\n",
       "      <td>[821.162.3-3]</td>\n",
       "      <td>[Česká próza]</td>\n",
       "      <td>[821.162.3-31, (0:82-312.4)]</td>\n",
       "      <td>[aut]</td>\n",
       "      <td>xx0122614</td>\n",
       "      <td>Češka, Stanislav,</td>\n",
       "      <td>1955-</td>\n",
       "      <td>None</td>\n",
       "      <td>Ukradená vražda :</td>\n",
       "      <td>Stanislav Češka</td>\n",
       "      <td>None</td>\n",
       "      <td>None</td>\n",
       "      <td>None</td>\n",
       "      <td>[Vydání první]</td>\n",
       "      <td>None</td>\n",
       "      <td>None</td>\n",
       "      <td>None</td>\n",
       "      <td>None</td>\n",
       "      <td>None</td>\n",
       "      <td>None</td>\n",
       "      <td>None</td>\n",
       "      <td>[Brno :]</td>\n",
       "      <td>[MOBA,]</td>\n",
       "      <td>[2019]</td>\n",
       "      <td>[1]</td>\n",
       "      <td>[252 stran ;]</td>\n",
       "      <td>None</td>\n",
       "      <td>[19 cm]</td>\n",
       "      <td>[Původní česká detektivka ;, Krimi]</td>\n",
       "      <td>[313. svazek, None]</td>\n",
       "      <td>None</td>\n",
       "      <td>None</td>\n",
       "      <td>None</td>\n",
       "      <td>None</td>\n",
       "      <td>None</td>\n",
       "      <td>None</td>\n",
       "      <td>None</td>\n",
       "      <td>None</td>\n",
       "      <td>None</td>\n",
       "      <td>None</td>\n",
       "      <td>[české romány, detektivní romány, Czech fictio...</td>\n",
       "      <td>None</td>\n",
       "      <td>None</td>\n",
       "      <td>None</td>\n",
       "      <td>None</td>\n",
       "      <td>None</td>\n",
       "      <td>None</td>\n",
       "      <td>None</td>\n",
       "      <td>None</td>\n",
       "      <td>[Původní česká detektivka, Krimi (MOBA)]</td>\n",
       "      <td>None</td>\n",
       "      <td>None</td>\n",
       "      <td>nam a22      i 4500</td>\n",
       "      <td>9788024389141</td>\n",
       "    </tr>\n",
       "    <tr>\n",
       "      <th>nkc20193158538</th>\n",
       "      <td>2019.0</td>\n",
       "      <td>Bezejmenní</td>\n",
       "      <td>Krčmář Milan</td>\n",
       "      <td>jo2012727454</td>\n",
       "      <td>191111s2019    xr h   g      000 f cze</td>\n",
       "      <td>978-80-264-2789-6</td>\n",
       "      <td>[Kč 449,00]</td>\n",
       "      <td>[(CPress ;, vázáno) :]</td>\n",
       "      <td>None</td>\n",
       "      <td>None</td>\n",
       "      <td>None</td>\n",
       "      <td>None</td>\n",
       "      <td>[821.162.3-3]</td>\n",
       "      <td>[Česká próza]</td>\n",
       "      <td>[821.162.3-31, (=411.16), 314.151.3-054.73, 34...</td>\n",
       "      <td>[aut]</td>\n",
       "      <td>jo2012727454</td>\n",
       "      <td>Krčmář, Milan</td>\n",
       "      <td>None</td>\n",
       "      <td>None</td>\n",
       "      <td>Bezejmenní :</td>\n",
       "      <td>Milan Krčmář</td>\n",
       "      <td>None</td>\n",
       "      <td>None</td>\n",
       "      <td>None</td>\n",
       "      <td>[1. vydání]</td>\n",
       "      <td>None</td>\n",
       "      <td>None</td>\n",
       "      <td>None</td>\n",
       "      <td>None</td>\n",
       "      <td>None</td>\n",
       "      <td>None</td>\n",
       "      <td>None</td>\n",
       "      <td>[V Brně :]</td>\n",
       "      <td>[CPress,]</td>\n",
       "      <td>[2019]</td>\n",
       "      <td>[1]</td>\n",
       "      <td>[479 stran :]</td>\n",
       "      <td>[faksimile ;]</td>\n",
       "      <td>[24 cm]</td>\n",
       "      <td>None</td>\n",
       "      <td>None</td>\n",
       "      <td>[V tiráži uvedeno nakladatelství: Edika, Termi...</td>\n",
       "      <td>None</td>\n",
       "      <td>None</td>\n",
       "      <td>[1921-1930, 20. století, 1925]</td>\n",
       "      <td>[Židé, uprchlíci, vraždy, soudní procesy, Jews...</td>\n",
       "      <td>None</td>\n",
       "      <td>[20. století, 20. století, 20. století, 1921-1...</td>\n",
       "      <td>[Polsko, Polsko, Česko, Česko, Poland, Poland,...</td>\n",
       "      <td>[Třebíč (Česko), Třebíč (Czechia)]</td>\n",
       "      <td>None</td>\n",
       "      <td>[české romány, dokumentární romány, fiktivní d...</td>\n",
       "      <td>None</td>\n",
       "      <td>None</td>\n",
       "      <td>None</td>\n",
       "      <td>None</td>\n",
       "      <td>None</td>\n",
       "      <td>None</td>\n",
       "      <td>None</td>\n",
       "      <td>None</td>\n",
       "      <td>None</td>\n",
       "      <td>[Albatros Media - CPress, Albatros Media - Edika]</td>\n",
       "      <td>None</td>\n",
       "      <td>nam a22      i 4500</td>\n",
       "      <td>9788026427896</td>\n",
       "    </tr>\n",
       "    <tr>\n",
       "      <th>...</th>\n",
       "      <td>...</td>\n",
       "      <td>...</td>\n",
       "      <td>...</td>\n",
       "      <td>...</td>\n",
       "      <td>...</td>\n",
       "      <td>...</td>\n",
       "      <td>...</td>\n",
       "      <td>...</td>\n",
       "      <td>...</td>\n",
       "      <td>...</td>\n",
       "      <td>...</td>\n",
       "      <td>...</td>\n",
       "      <td>...</td>\n",
       "      <td>...</td>\n",
       "      <td>...</td>\n",
       "      <td>...</td>\n",
       "      <td>...</td>\n",
       "      <td>...</td>\n",
       "      <td>...</td>\n",
       "      <td>...</td>\n",
       "      <td>...</td>\n",
       "      <td>...</td>\n",
       "      <td>...</td>\n",
       "      <td>...</td>\n",
       "      <td>...</td>\n",
       "      <td>...</td>\n",
       "      <td>...</td>\n",
       "      <td>...</td>\n",
       "      <td>...</td>\n",
       "      <td>...</td>\n",
       "      <td>...</td>\n",
       "      <td>...</td>\n",
       "      <td>...</td>\n",
       "      <td>...</td>\n",
       "      <td>...</td>\n",
       "      <td>...</td>\n",
       "      <td>...</td>\n",
       "      <td>...</td>\n",
       "      <td>...</td>\n",
       "      <td>...</td>\n",
       "      <td>...</td>\n",
       "      <td>...</td>\n",
       "      <td>...</td>\n",
       "      <td>...</td>\n",
       "      <td>...</td>\n",
       "      <td>...</td>\n",
       "      <td>...</td>\n",
       "      <td>...</td>\n",
       "      <td>...</td>\n",
       "      <td>...</td>\n",
       "      <td>...</td>\n",
       "      <td>...</td>\n",
       "      <td>...</td>\n",
       "      <td>...</td>\n",
       "      <td>...</td>\n",
       "      <td>...</td>\n",
       "      <td>...</td>\n",
       "      <td>...</td>\n",
       "      <td>...</td>\n",
       "      <td>...</td>\n",
       "      <td>...</td>\n",
       "      <td>...</td>\n",
       "      <td>...</td>\n",
       "      <td>...</td>\n",
       "      <td>...</td>\n",
       "      <td>...</td>\n",
       "    </tr>\n",
       "    <tr>\n",
       "      <th>nkc20243606884</th>\n",
       "      <td>2024.0</td>\n",
       "      <td>Odměna pro druhého</td>\n",
       "      <td>Rývorová Alžběta</td>\n",
       "      <td>xx0318422</td>\n",
       "      <td>240606s2024    xr a   g      000 f cze</td>\n",
       "      <td>978-80-7691-395-0</td>\n",
       "      <td>[Kč 349,00]</td>\n",
       "      <td>[(vázáno) :]</td>\n",
       "      <td>None</td>\n",
       "      <td>None</td>\n",
       "      <td>None</td>\n",
       "      <td>None</td>\n",
       "      <td>[821.162.3-3]</td>\n",
       "      <td>[Česká próza]</td>\n",
       "      <td>[821.162.3-31, (0:82-311.6)]</td>\n",
       "      <td>[aut]</td>\n",
       "      <td>xx0318422</td>\n",
       "      <td>Rývorová, Alžběta</td>\n",
       "      <td>None</td>\n",
       "      <td>None</td>\n",
       "      <td>Odměna pro druhého /</td>\n",
       "      <td>Alžběta Rývorová</td>\n",
       "      <td>None</td>\n",
       "      <td>None</td>\n",
       "      <td>None</td>\n",
       "      <td>[První vydání]</td>\n",
       "      <td>None</td>\n",
       "      <td>None</td>\n",
       "      <td>None</td>\n",
       "      <td>None</td>\n",
       "      <td>None</td>\n",
       "      <td>None</td>\n",
       "      <td>None</td>\n",
       "      <td>[V Praze :]</td>\n",
       "      <td>[Pointa,]</td>\n",
       "      <td>[2024]</td>\n",
       "      <td>[1]</td>\n",
       "      <td>[208 stran :]</td>\n",
       "      <td>[ilustrace ;]</td>\n",
       "      <td>[21 cm]</td>\n",
       "      <td>None</td>\n",
       "      <td>None</td>\n",
       "      <td>None</td>\n",
       "      <td>None</td>\n",
       "      <td>None</td>\n",
       "      <td>None</td>\n",
       "      <td>None</td>\n",
       "      <td>None</td>\n",
       "      <td>None</td>\n",
       "      <td>None</td>\n",
       "      <td>None</td>\n",
       "      <td>None</td>\n",
       "      <td>[české romány, historické romány, Czech fictio...</td>\n",
       "      <td>None</td>\n",
       "      <td>None</td>\n",
       "      <td>None</td>\n",
       "      <td>None</td>\n",
       "      <td>None</td>\n",
       "      <td>None</td>\n",
       "      <td>None</td>\n",
       "      <td>None</td>\n",
       "      <td>None</td>\n",
       "      <td>[Albatros Media - Pointa]</td>\n",
       "      <td>None</td>\n",
       "      <td>nam a22      i 4500</td>\n",
       "      <td>9788076913950</td>\n",
       "    </tr>\n",
       "    <tr>\n",
       "      <th>nkc20243607639</th>\n",
       "      <td>2024.0</td>\n",
       "      <td>Čas krmení</td>\n",
       "      <td>Sekerka Tomáš</td>\n",
       "      <td>xx0251298</td>\n",
       "      <td>240523s2024    xr     g      000 f cze</td>\n",
       "      <td>978-80-7588-621-7</td>\n",
       "      <td>None</td>\n",
       "      <td>[(brožováno)]</td>\n",
       "      <td>None</td>\n",
       "      <td>None</td>\n",
       "      <td>None</td>\n",
       "      <td>None</td>\n",
       "      <td>[821.162.3-3]</td>\n",
       "      <td>[Česká próza]</td>\n",
       "      <td>[821.162.3-31, (0:82-311.9)]</td>\n",
       "      <td>[aut]</td>\n",
       "      <td>xx0251298</td>\n",
       "      <td>Sekerka, Tomáš,</td>\n",
       "      <td>1988-</td>\n",
       "      <td>None</td>\n",
       "      <td>Čas krmení /</td>\n",
       "      <td>Tomáš Sekerka</td>\n",
       "      <td>None</td>\n",
       "      <td>None</td>\n",
       "      <td>None</td>\n",
       "      <td>[1. vydání]</td>\n",
       "      <td>None</td>\n",
       "      <td>None</td>\n",
       "      <td>None</td>\n",
       "      <td>None</td>\n",
       "      <td>None</td>\n",
       "      <td>None</td>\n",
       "      <td>None</td>\n",
       "      <td>[Praha :]</td>\n",
       "      <td>[Mystery Press,]</td>\n",
       "      <td>[2024]</td>\n",
       "      <td>[1]</td>\n",
       "      <td>[393 stran ;]</td>\n",
       "      <td>None</td>\n",
       "      <td>[20 cm]</td>\n",
       "      <td>None</td>\n",
       "      <td>None</td>\n",
       "      <td>None</td>\n",
       "      <td>None</td>\n",
       "      <td>None</td>\n",
       "      <td>None</td>\n",
       "      <td>None</td>\n",
       "      <td>None</td>\n",
       "      <td>None</td>\n",
       "      <td>None</td>\n",
       "      <td>None</td>\n",
       "      <td>None</td>\n",
       "      <td>[české romány, vědecko-fantastické romány, Cze...</td>\n",
       "      <td>None</td>\n",
       "      <td>None</td>\n",
       "      <td>None</td>\n",
       "      <td>None</td>\n",
       "      <td>None</td>\n",
       "      <td>None</td>\n",
       "      <td>None</td>\n",
       "      <td>None</td>\n",
       "      <td>None</td>\n",
       "      <td>None</td>\n",
       "      <td>None</td>\n",
       "      <td>nam a22      i 4500</td>\n",
       "      <td>9788075886217</td>\n",
       "    </tr>\n",
       "    <tr>\n",
       "      <th>nkc20243607735</th>\n",
       "      <td>2024.0</td>\n",
       "      <td>...a přeskočila jiskra</td>\n",
       "      <td>Pawlowská Halina</td>\n",
       "      <td>jn99240000851</td>\n",
       "      <td>240603s2024    xr     g      000 j cze</td>\n",
       "      <td>978-80-267-2674-6</td>\n",
       "      <td>None</td>\n",
       "      <td>[(vázáno)]</td>\n",
       "      <td>None</td>\n",
       "      <td>None</td>\n",
       "      <td>None</td>\n",
       "      <td>None</td>\n",
       "      <td>[821.162.3-3]</td>\n",
       "      <td>[Česká próza]</td>\n",
       "      <td>[821.162.3-32, (0:82-321.5)]</td>\n",
       "      <td>[aut]</td>\n",
       "      <td>jn99240000851</td>\n",
       "      <td>Pawlowská, Halina,</td>\n",
       "      <td>1955-</td>\n",
       "      <td>None</td>\n",
       "      <td>...a přeskočila jiskra /</td>\n",
       "      <td>Halina Pawlowská</td>\n",
       "      <td>None</td>\n",
       "      <td>None</td>\n",
       "      <td>None</td>\n",
       "      <td>[1. vydání]</td>\n",
       "      <td>None</td>\n",
       "      <td>None</td>\n",
       "      <td>None</td>\n",
       "      <td>None</td>\n",
       "      <td>None</td>\n",
       "      <td>None</td>\n",
       "      <td>None</td>\n",
       "      <td>[V Praze :]</td>\n",
       "      <td>[Motto,]</td>\n",
       "      <td>[2024]</td>\n",
       "      <td>[1]</td>\n",
       "      <td>[249 stran ;]</td>\n",
       "      <td>None</td>\n",
       "      <td>[19 cm]</td>\n",
       "      <td>None</td>\n",
       "      <td>None</td>\n",
       "      <td>None</td>\n",
       "      <td>None</td>\n",
       "      <td>None</td>\n",
       "      <td>None</td>\n",
       "      <td>None</td>\n",
       "      <td>None</td>\n",
       "      <td>None</td>\n",
       "      <td>None</td>\n",
       "      <td>None</td>\n",
       "      <td>None</td>\n",
       "      <td>[české povídky, humoristické povídky, Czech sh...</td>\n",
       "      <td>None</td>\n",
       "      <td>None</td>\n",
       "      <td>None</td>\n",
       "      <td>None</td>\n",
       "      <td>None</td>\n",
       "      <td>None</td>\n",
       "      <td>None</td>\n",
       "      <td>None</td>\n",
       "      <td>None</td>\n",
       "      <td>[Albatros Media - Motto]</td>\n",
       "      <td>None</td>\n",
       "      <td>nam a22      i 4500</td>\n",
       "      <td>9788026726746</td>\n",
       "    </tr>\n",
       "    <tr>\n",
       "      <th>nkc20243607876</th>\n",
       "      <td>2024.0</td>\n",
       "      <td>Sloužil jsem v Gaze</td>\n",
       "      <td>Shorf David</td>\n",
       "      <td>xx0318603</td>\n",
       "      <td>240527s2024    xr acf e      000 1acze</td>\n",
       "      <td>978-80-264-5248-5</td>\n",
       "      <td>[Kč 399,00]</td>\n",
       "      <td>[(vázáno) :]</td>\n",
       "      <td>None</td>\n",
       "      <td>None</td>\n",
       "      <td>None</td>\n",
       "      <td>None</td>\n",
       "      <td>[355/359, 929]</td>\n",
       "      <td>[Vojenství. Obrana země. Ozbrojené síly, Biogr...</td>\n",
       "      <td>[355.11, 070.42, 005.572-051, (=162.3), 913:91...</td>\n",
       "      <td>[aut]</td>\n",
       "      <td>xx0318603</td>\n",
       "      <td>Shorf, David</td>\n",
       "      <td>None</td>\n",
       "      <td>None</td>\n",
       "      <td>Sloužil jsem v Gaze /</td>\n",
       "      <td>David Shorf</td>\n",
       "      <td>None</td>\n",
       "      <td>None</td>\n",
       "      <td>None</td>\n",
       "      <td>[1. vydání]</td>\n",
       "      <td>None</td>\n",
       "      <td>None</td>\n",
       "      <td>None</td>\n",
       "      <td>None</td>\n",
       "      <td>None</td>\n",
       "      <td>None</td>\n",
       "      <td>None</td>\n",
       "      <td>[V Brně :]</td>\n",
       "      <td>[CPress,]</td>\n",
       "      <td>[2024]</td>\n",
       "      <td>[1]</td>\n",
       "      <td>[229 stran, 8 nečíslovaných stran obrazových p...</td>\n",
       "      <td>[barevné ilustrace, portréty ;]</td>\n",
       "      <td>[22 cm]</td>\n",
       "      <td>None</td>\n",
       "      <td>None</td>\n",
       "      <td>None</td>\n",
       "      <td>None</td>\n",
       "      <td>None</td>\n",
       "      <td>[1991-2000, 20.-21. století, 21. století]</td>\n",
       "      <td>[vojáci, novináři, koučové, Češi, cesty a poby...</td>\n",
       "      <td>None</td>\n",
       "      <td>[1991-2000, 20.-21. století, 21. století, 1991...</td>\n",
       "      <td>[Česko, Česko, Česko, Izrael, Izrael, Czechia,...</td>\n",
       "      <td>[Izrael, Israel]</td>\n",
       "      <td>None</td>\n",
       "      <td>[autobiografické vzpomínky, rozhovory, autobio...</td>\n",
       "      <td>None</td>\n",
       "      <td>None</td>\n",
       "      <td>None</td>\n",
       "      <td>None</td>\n",
       "      <td>None</td>\n",
       "      <td>None</td>\n",
       "      <td>None</td>\n",
       "      <td>None</td>\n",
       "      <td>None</td>\n",
       "      <td>[Albatros Media - CPress]</td>\n",
       "      <td>None</td>\n",
       "      <td>nam a22      i 4500</td>\n",
       "      <td>9788026452485</td>\n",
       "    </tr>\n",
       "    <tr>\n",
       "      <th>nkc20243607607</th>\n",
       "      <td>2024.0</td>\n",
       "      <td>Aknael</td>\n",
       "      <td>Kořínek Václav</td>\n",
       "      <td>xx0189200</td>\n",
       "      <td>240523s2024    xr a   g      000 j cze d</td>\n",
       "      <td>978-80-277-4269-1</td>\n",
       "      <td>None</td>\n",
       "      <td>[(brožováno)]</td>\n",
       "      <td>None</td>\n",
       "      <td>None</td>\n",
       "      <td>None</td>\n",
       "      <td>None</td>\n",
       "      <td>[821.162.3-3]</td>\n",
       "      <td>[Česká próza]</td>\n",
       "      <td>[821.162.3-32, (0:82-322.9)]</td>\n",
       "      <td>[aut]</td>\n",
       "      <td>xx0189200</td>\n",
       "      <td>Kořínek, Václav,</td>\n",
       "      <td>1967-</td>\n",
       "      <td>None</td>\n",
       "      <td>Aknael :</td>\n",
       "      <td>Václav Kořínek</td>\n",
       "      <td>None</td>\n",
       "      <td>None</td>\n",
       "      <td>[Nebeská jízda]</td>\n",
       "      <td>None</td>\n",
       "      <td>None</td>\n",
       "      <td>None</td>\n",
       "      <td>None</td>\n",
       "      <td>None</td>\n",
       "      <td>None</td>\n",
       "      <td>None</td>\n",
       "      <td>None</td>\n",
       "      <td>[Praha :]</td>\n",
       "      <td>[Dobrovský s.r.o.,]</td>\n",
       "      <td>[2024]</td>\n",
       "      <td>[1]</td>\n",
       "      <td>[140 stran :]</td>\n",
       "      <td>[ilustrace ;]</td>\n",
       "      <td>[20 cm]</td>\n",
       "      <td>[Via]</td>\n",
       "      <td>None</td>\n",
       "      <td>None</td>\n",
       "      <td>None</td>\n",
       "      <td>[Český text]</td>\n",
       "      <td>None</td>\n",
       "      <td>None</td>\n",
       "      <td>None</td>\n",
       "      <td>None</td>\n",
       "      <td>None</td>\n",
       "      <td>None</td>\n",
       "      <td>None</td>\n",
       "      <td>[české příběhy, fantasy příběhy, Czech stories...</td>\n",
       "      <td>None</td>\n",
       "      <td>None</td>\n",
       "      <td>None</td>\n",
       "      <td>None</td>\n",
       "      <td>None</td>\n",
       "      <td>None</td>\n",
       "      <td>None</td>\n",
       "      <td>None</td>\n",
       "      <td>[Via]</td>\n",
       "      <td>None</td>\n",
       "      <td>None</td>\n",
       "      <td>cam a22      i 4500</td>\n",
       "      <td>9788027742691</td>\n",
       "    </tr>\n",
       "  </tbody>\n",
       "</table>\n",
       "<p>1363 rows × 66 columns</p>\n",
       "</div>"
      ],
      "text/plain": [
       "                   rok                   titul                 autorstvo  \\\n",
       "001                                                                        \n",
       "nkc20193162052  2019.0             Čarodějnice              Vostrý Mirek   \n",
       "nkc20193162055  2019.0    Ke Gogolovi a zpátky  Rollingerová-Riba Romana   \n",
       "nkc20193161777  2019.0    Dobře zašitej frajer               Šabach Petr   \n",
       "nkc20193158977  2019.0         Ukradená vražda           Češka Stanislav   \n",
       "nkc20193158538  2019.0              Bezejmenní              Krčmář Milan   \n",
       "...                ...                     ...                       ...   \n",
       "nkc20243606884  2024.0      Odměna pro druhého          Rývorová Alžběta   \n",
       "nkc20243607639  2024.0              Čas krmení             Sekerka Tomáš   \n",
       "nkc20243607735  2024.0  ...a přeskočila jiskra          Pawlowská Halina   \n",
       "nkc20243607876  2024.0     Sloužil jsem v Gaze               Shorf David   \n",
       "nkc20243607607  2024.0                  Aknael            Kořínek Václav   \n",
       "\n",
       "                autorstvo_kod                                       008  \\\n",
       "001                                                                       \n",
       "nkc20193162052  mzk2018995176    200120s2019    xr     g      000 j cze   \n",
       "nkc20193162055  jo20000075610    191127s2019    xr     g      000 f cze   \n",
       "nkc20193161777  jn19990201046    191211s2019    xr     g      000 j cze   \n",
       "nkc20193158977      xx0122614  191111s2019    xr     g      000 f cze d   \n",
       "nkc20193158538   jo2012727454    191111s2019    xr h   g      000 f cze   \n",
       "...                       ...                                       ...   \n",
       "nkc20243606884      xx0318422    240606s2024    xr a   g      000 f cze   \n",
       "nkc20243607639      xx0251298    240523s2024    xr     g      000 f cze   \n",
       "nkc20243607735  jn99240000851    240603s2024    xr     g      000 j cze   \n",
       "nkc20243607876      xx0318603    240527s2024    xr acf e      000 1acze   \n",
       "nkc20243607607      xx0189200  240523s2024    xr a   g      000 j cze d   \n",
       "\n",
       "                            020_a        020_c                   020_q 041_a  \\\n",
       "001                                                                            \n",
       "nkc20193162052  978-80-88318-05-7         None           [(brožováno)]  None   \n",
       "nkc20193162055  978-80-7487-279-2  [Kč 299,00]         [(brožováno) :]  None   \n",
       "nkc20193161777  978-80-7637-070-8  [Kč 399,00]            [(vázáno) :]  None   \n",
       "nkc20193158977  978-80-243-8914-1         None              [(vázáno)]  None   \n",
       "nkc20193158538  978-80-264-2789-6  [Kč 449,00]  [(CPress ;, vázáno) :]  None   \n",
       "...                           ...          ...                     ...   ...   \n",
       "nkc20243606884  978-80-7691-395-0  [Kč 349,00]            [(vázáno) :]  None   \n",
       "nkc20243607639  978-80-7588-621-7         None           [(brožováno)]  None   \n",
       "nkc20243607735  978-80-267-2674-6         None              [(vázáno)]  None   \n",
       "nkc20243607876  978-80-264-5248-5  [Kč 399,00]            [(vázáno) :]  None   \n",
       "nkc20243607607  978-80-277-4269-1         None           [(brožováno)]  None   \n",
       "\n",
       "               041_h 041_ind1 044_a           072_a  \\\n",
       "001                                                   \n",
       "nkc20193162052  None     None  None   [821.162.3-3]   \n",
       "nkc20193162055  None     None  None   [821.162.3-3]   \n",
       "nkc20193161777  None     None  None   [821.162.3-3]   \n",
       "nkc20193158977  None     None  None   [821.162.3-3]   \n",
       "nkc20193158538  None     None  None   [821.162.3-3]   \n",
       "...              ...      ...   ...             ...   \n",
       "nkc20243606884  None     None  None   [821.162.3-3]   \n",
       "nkc20243607639  None     None  None   [821.162.3-3]   \n",
       "nkc20243607735  None     None  None   [821.162.3-3]   \n",
       "nkc20243607876  None     None  None  [355/359, 929]   \n",
       "nkc20243607607  None     None  None   [821.162.3-3]   \n",
       "\n",
       "                                                            072_x  \\\n",
       "001                                                                 \n",
       "nkc20193162052                                      [Česká próza]   \n",
       "nkc20193162055                                      [Česká próza]   \n",
       "nkc20193161777                                      [Česká próza]   \n",
       "nkc20193158977                                      [Česká próza]   \n",
       "nkc20193158538                                      [Česká próza]   \n",
       "...                                                           ...   \n",
       "nkc20243606884                                      [Česká próza]   \n",
       "nkc20243607639                                      [Česká próza]   \n",
       "nkc20243607735                                      [Česká próza]   \n",
       "nkc20243607876  [Vojenství. Obrana země. Ozbrojené síly, Biogr...   \n",
       "nkc20243607607                                      [Česká próza]   \n",
       "\n",
       "                                                            080_a  100_4  \\\n",
       "001                                                                        \n",
       "nkc20193162052                          [821.162.3-32, (0:82-32)]  [aut]   \n",
       "nkc20193162055                          [821.162.3-31, (0:82-31)]  [aut]   \n",
       "nkc20193161777                [821.162.3-32, (0:82-32), (082.21)]  [aut]   \n",
       "nkc20193158977                       [821.162.3-31, (0:82-312.4)]  [aut]   \n",
       "nkc20193158538  [821.162.3-31, (=411.16), 314.151.3-054.73, 34...  [aut]   \n",
       "...                                                           ...    ...   \n",
       "nkc20243606884                       [821.162.3-31, (0:82-311.6)]  [aut]   \n",
       "nkc20243607639                       [821.162.3-31, (0:82-311.9)]  [aut]   \n",
       "nkc20243607735                       [821.162.3-32, (0:82-321.5)]  [aut]   \n",
       "nkc20243607876  [355.11, 070.42, 005.572-051, (=162.3), 913:91...  [aut]   \n",
       "nkc20243607607                       [821.162.3-32, (0:82-322.9)]  [aut]   \n",
       "\n",
       "                        100_7                       100_a      100_d 240_l  \\\n",
       "001                                                                          \n",
       "nkc20193162052  mzk2018995176              Vostrý, Mirek,      1968-  None   \n",
       "nkc20193162055  jo20000075610  Rollingerová-Riba, Romana,      1971-  None   \n",
       "nkc20193161777  jn19990201046               Šabach, Petr,  1951-2017  None   \n",
       "nkc20193158977      xx0122614           Češka, Stanislav,      1955-  None   \n",
       "nkc20193158538   jo2012727454               Krčmář, Milan       None  None   \n",
       "...                       ...                         ...        ...   ...   \n",
       "nkc20243606884      xx0318422           Rývorová, Alžběta       None  None   \n",
       "nkc20243607639      xx0251298             Sekerka, Tomáš,      1988-  None   \n",
       "nkc20243607735  jn99240000851          Pawlowská, Halina,      1955-  None   \n",
       "nkc20243607876      xx0318603                Shorf, David       None  None   \n",
       "nkc20243607607      xx0189200            Kořínek, Václav,      1967-  None   \n",
       "\n",
       "                                   245_a  \\\n",
       "001                                        \n",
       "nkc20193162052             Čarodějnice /   \n",
       "nkc20193162055    Ke Gogolovi a zpátky /   \n",
       "nkc20193161777    Dobře zašitej frajer /   \n",
       "nkc20193158977         Ukradená vražda :   \n",
       "nkc20193158538              Bezejmenní :   \n",
       "...                                  ...   \n",
       "nkc20243606884      Odměna pro druhého /   \n",
       "nkc20243607639              Čas krmení /   \n",
       "nkc20243607735  ...a přeskočila jiskra /   \n",
       "nkc20243607876     Sloužil jsem v Gaze /   \n",
       "nkc20243607607                  Aknael :   \n",
       "\n",
       "                                                            245_c 245_n 245_p  \\\n",
       "001                                                                             \n",
       "nkc20193162052                                       Mirek Vostrý  None  None   \n",
       "nkc20193162055                           Romana Riba-Rollingerová  None  None   \n",
       "nkc20193161777  to nejlepší z Petra Šabacha uspořádali Emil Ha...  None  None   \n",
       "nkc20193158977                                    Stanislav Češka  None  None   \n",
       "nkc20193158538                                       Milan Krčmář  None  None   \n",
       "...                                                           ...   ...   ...   \n",
       "nkc20243606884                                   Alžběta Rývorová  None  None   \n",
       "nkc20243607639                                      Tomáš Sekerka  None  None   \n",
       "nkc20243607735                                   Halina Pawlowská  None  None   \n",
       "nkc20243607876                                        David Shorf  None  None   \n",
       "nkc20243607607                                     Václav Kořínek  None  None   \n",
       "\n",
       "                          246_a           250_a 250_b 260_a 260_b 260_c 260_e  \\\n",
       "001                                                                             \n",
       "nkc20193162052             None  [Vydání první]  None  None  None  None  None   \n",
       "nkc20193162055             None  [Vydání první]  None  None  None  None  None   \n",
       "nkc20193161777             None  [Vydání první]  None  None  None  None  None   \n",
       "nkc20193158977             None  [Vydání první]  None  None  None  None  None   \n",
       "nkc20193158538             None     [1. vydání]  None  None  None  None  None   \n",
       "...                         ...             ...   ...   ...   ...   ...   ...   \n",
       "nkc20243606884             None  [První vydání]  None  None  None  None  None   \n",
       "nkc20243607639             None     [1. vydání]  None  None  None  None  None   \n",
       "nkc20243607735             None     [1. vydání]  None  None  None  None  None   \n",
       "nkc20243607876             None     [1. vydání]  None  None  None  None  None   \n",
       "nkc20243607607  [Nebeská jízda]            None  None  None  None  None  None   \n",
       "\n",
       "               260_f 260_ind1              264_a                264_b   264_c  \\\n",
       "001                                                                             \n",
       "nkc20193162052  None     None    [Brandýs n/L :]            [Tofana,]  [2019]   \n",
       "nkc20193162055  None     None  [V Brumovicích :]        [Carpe diem,]  [2019]   \n",
       "nkc20193161777  None     None        [V Praze :]            [Paseka,]  [2019]   \n",
       "nkc20193158977  None     None           [Brno :]              [MOBA,]  [2019]   \n",
       "nkc20193158538  None     None         [V Brně :]            [CPress,]  [2019]   \n",
       "...              ...      ...                ...                  ...     ...   \n",
       "nkc20243606884  None     None        [V Praze :]            [Pointa,]  [2024]   \n",
       "nkc20243607639  None     None          [Praha :]     [Mystery Press,]  [2024]   \n",
       "nkc20243607735  None     None        [V Praze :]             [Motto,]  [2024]   \n",
       "nkc20243607876  None     None         [V Brně :]            [CPress,]  [2024]   \n",
       "nkc20243607607  None     None          [Praha :]  [Dobrovský s.r.o.,]  [2024]   \n",
       "\n",
       "               264_ind2                                              300_a  \\\n",
       "001                                                                          \n",
       "nkc20193162052      [1]                                      [187 stran ;]   \n",
       "nkc20193162055      [1]                                      [267 stran ;]   \n",
       "nkc20193161777      [1]                                      [333 stran ;]   \n",
       "nkc20193158977      [1]                                      [252 stran ;]   \n",
       "nkc20193158538      [1]                                      [479 stran :]   \n",
       "...                 ...                                                ...   \n",
       "nkc20243606884      [1]                                      [208 stran :]   \n",
       "nkc20243607639      [1]                                      [393 stran ;]   \n",
       "nkc20243607735      [1]                                      [249 stran ;]   \n",
       "nkc20243607876      [1]  [229 stran, 8 nečíslovaných stran obrazových p...   \n",
       "nkc20243607607      [1]                                      [140 stran :]   \n",
       "\n",
       "                                          300_b    300_c  \\\n",
       "001                                                        \n",
       "nkc20193162052                             None  [19 cm]   \n",
       "nkc20193162055                             None  [19 cm]   \n",
       "nkc20193161777                             None  [23 cm]   \n",
       "nkc20193158977                             None  [19 cm]   \n",
       "nkc20193158538                    [faksimile ;]  [24 cm]   \n",
       "...                                         ...      ...   \n",
       "nkc20243606884                    [ilustrace ;]  [21 cm]   \n",
       "nkc20243607639                             None  [20 cm]   \n",
       "nkc20243607735                             None  [19 cm]   \n",
       "nkc20243607876  [barevné ilustrace, portréty ;]  [22 cm]   \n",
       "nkc20243607607                    [ilustrace ;]  [20 cm]   \n",
       "\n",
       "                                              490_a                490_v  \\\n",
       "001                                                                        \n",
       "nkc20193162052                                 None                 None   \n",
       "nkc20193162055                                 None                 None   \n",
       "nkc20193161777                                 None                 None   \n",
       "nkc20193158977  [Původní česká detektivka ;, Krimi]  [313. svazek, None]   \n",
       "nkc20193158538                                 None                 None   \n",
       "...                                             ...                  ...   \n",
       "nkc20243606884                                 None                 None   \n",
       "nkc20243607639                                 None                 None   \n",
       "nkc20243607735                                 None                 None   \n",
       "nkc20243607876                                 None                 None   \n",
       "nkc20243607607                                [Via]                 None   \n",
       "\n",
       "                                                            500_a 521_a  \\\n",
       "001                                                                       \n",
       "nkc20193162052                                      [150 výtisků]  None   \n",
       "nkc20193162055                                               None  None   \n",
       "nkc20193161777  [Údaj o vydání je chybný, správně má být: Vydá...  None   \n",
       "nkc20193158977                                               None  None   \n",
       "nkc20193158538  [V tiráži uvedeno nakladatelství: Edika, Termi...  None   \n",
       "...                                                           ...   ...   \n",
       "nkc20243606884                                               None  None   \n",
       "nkc20243607639                                               None  None   \n",
       "nkc20243607735                                               None  None   \n",
       "nkc20243607876                                               None  None   \n",
       "nkc20243607607                                               None  None   \n",
       "\n",
       "                       546_a                                      648_a  \\\n",
       "001                                                                       \n",
       "nkc20193162052          None                                       None   \n",
       "nkc20193162055          None                                       None   \n",
       "nkc20193161777          None                                       None   \n",
       "nkc20193158977          None                                       None   \n",
       "nkc20193158538          None             [1921-1930, 20. století, 1925]   \n",
       "...                      ...                                        ...   \n",
       "nkc20243606884          None                                       None   \n",
       "nkc20243607639          None                                       None   \n",
       "nkc20243607735          None                                       None   \n",
       "nkc20243607876          None  [1991-2000, 20.-21. století, 21. století]   \n",
       "nkc20243607607  [Český text]                                       None   \n",
       "\n",
       "                                                            650_a 650_x  \\\n",
       "001                                                                       \n",
       "nkc20193162052                                               None  None   \n",
       "nkc20193162055                                               None  None   \n",
       "nkc20193161777                                               None  None   \n",
       "nkc20193158977                                               None  None   \n",
       "nkc20193158538  [Židé, uprchlíci, vraždy, soudní procesy, Jews...  None   \n",
       "...                                                           ...   ...   \n",
       "nkc20243606884                                               None  None   \n",
       "nkc20243607639                                               None  None   \n",
       "nkc20243607735                                               None  None   \n",
       "nkc20243607876  [vojáci, novináři, koučové, Češi, cesty a poby...  None   \n",
       "nkc20243607607                                               None  None   \n",
       "\n",
       "                                                            650_y  \\\n",
       "001                                                                 \n",
       "nkc20193162052                                               None   \n",
       "nkc20193162055                                               None   \n",
       "nkc20193161777                                               None   \n",
       "nkc20193158977                                               None   \n",
       "nkc20193158538  [20. století, 20. století, 20. století, 1921-1...   \n",
       "...                                                           ...   \n",
       "nkc20243606884                                               None   \n",
       "nkc20243607639                                               None   \n",
       "nkc20243607735                                               None   \n",
       "nkc20243607876  [1991-2000, 20.-21. století, 21. století, 1991...   \n",
       "nkc20243607607                                               None   \n",
       "\n",
       "                                                            650_z  \\\n",
       "001                                                                 \n",
       "nkc20193162052                                               None   \n",
       "nkc20193162055                                               None   \n",
       "nkc20193161777                                               None   \n",
       "nkc20193158977                                               None   \n",
       "nkc20193158538  [Polsko, Polsko, Česko, Česko, Poland, Poland,...   \n",
       "...                                                           ...   \n",
       "nkc20243606884                                               None   \n",
       "nkc20243607639                                               None   \n",
       "nkc20243607735                                               None   \n",
       "nkc20243607876  [Česko, Česko, Česko, Izrael, Izrael, Czechia,...   \n",
       "nkc20243607607                                               None   \n",
       "\n",
       "                                             651_a 653_a  \\\n",
       "001                                                        \n",
       "nkc20193162052                                None  None   \n",
       "nkc20193162055                                None  None   \n",
       "nkc20193161777                                None  None   \n",
       "nkc20193158977                                None  None   \n",
       "nkc20193158538  [Třebíč (Česko), Třebíč (Czechia)]  None   \n",
       "...                                            ...   ...   \n",
       "nkc20243606884                                None  None   \n",
       "nkc20243607639                                None  None   \n",
       "nkc20243607735                                None  None   \n",
       "nkc20243607876                    [Izrael, Israel]  None   \n",
       "nkc20243607607                                None  None   \n",
       "\n",
       "                                                            655_a       700_4  \\\n",
       "001                                                                             \n",
       "nkc20193162052               [české povídky, Czech short stories]        None   \n",
       "nkc20193162055                      [české romány, Czech fiction]        None   \n",
       "nkc20193161777  [české povídky, české novely, výbory, Czech sh...  [edt, edt]   \n",
       "nkc20193158977  [české romány, detektivní romány, Czech fictio...        None   \n",
       "nkc20193158538  [české romány, dokumentární romány, fiktivní d...        None   \n",
       "...                                                           ...         ...   \n",
       "nkc20243606884  [české romány, historické romány, Czech fictio...        None   \n",
       "nkc20243607639  [české romány, vědecko-fantastické romány, Cze...        None   \n",
       "nkc20243607735  [české povídky, humoristické povídky, Czech sh...        None   \n",
       "nkc20243607876  [autobiografické vzpomínky, rozhovory, autobio...        None   \n",
       "nkc20243607607  [české příběhy, fantasy příběhy, Czech stories...        None   \n",
       "\n",
       "                                         700_7  \\\n",
       "001                                              \n",
       "nkc20193162052                            None   \n",
       "nkc20193162055                            None   \n",
       "nkc20193161777  [jn20000400849, jn19990209335]   \n",
       "nkc20193158977                            None   \n",
       "nkc20193158538                            None   \n",
       "...                                        ...   \n",
       "nkc20243606884                            None   \n",
       "nkc20243607639                            None   \n",
       "nkc20243607735                            None   \n",
       "nkc20243607876                            None   \n",
       "nkc20243607607                            None   \n",
       "\n",
       "                                         700_a               700_d 710_4  \\\n",
       "001                                                                        \n",
       "nkc20193162052                            None                None  None   \n",
       "nkc20193162055                            None                None  None   \n",
       "nkc20193161777  [Hakl, Emil,, Kahuda, Václav,]  [1958-, 1965-2023]  None   \n",
       "nkc20193158977                            None                None  None   \n",
       "nkc20193158538                            None                None  None   \n",
       "...                                        ...                 ...   ...   \n",
       "nkc20243606884                            None                None  None   \n",
       "nkc20243607639                            None                None  None   \n",
       "nkc20243607735                            None                None  None   \n",
       "nkc20243607876                            None                None  None   \n",
       "nkc20243607607                            None                None  None   \n",
       "\n",
       "               710_7 710_a 710_b                                     830_a  \\\n",
       "001                                                                          \n",
       "nkc20193162052  None  None  None                                      None   \n",
       "nkc20193162055  None  None  None                                      None   \n",
       "nkc20193161777  None  None  None                                      None   \n",
       "nkc20193158977  None  None  None  [Původní česká detektivka, Krimi (MOBA)]   \n",
       "nkc20193158538  None  None  None                                      None   \n",
       "...              ...   ...   ...                                       ...   \n",
       "nkc20243606884  None  None  None                                      None   \n",
       "nkc20243607639  None  None  None                                      None   \n",
       "nkc20243607735  None  None  None                                      None   \n",
       "nkc20243607876  None  None  None                                      None   \n",
       "nkc20243607607  None  None  None                                     [Via]   \n",
       "\n",
       "                                                            928_a 964_a  \\\n",
       "001                                                                       \n",
       "nkc20193162052                                               None  None   \n",
       "nkc20193162055                                               None  None   \n",
       "nkc20193161777                                               None  None   \n",
       "nkc20193158977                                               None  None   \n",
       "nkc20193158538  [Albatros Media - CPress, Albatros Media - Edika]  None   \n",
       "...                                                           ...   ...   \n",
       "nkc20243606884                          [Albatros Media - Pointa]  None   \n",
       "nkc20243607639                                               None  None   \n",
       "nkc20243607735                           [Albatros Media - Motto]  None   \n",
       "nkc20243607876                          [Albatros Media - CPress]  None   \n",
       "nkc20243607607                                               None  None   \n",
       "\n",
       "                                  leader           isbn  \n",
       "001                                                      \n",
       "nkc20193162052       nam a22      i 4500  9788088318057  \n",
       "nkc20193162055       nam a22      i 4500  9788074872792  \n",
       "nkc20193161777       nam a22      i 4500  9788076370708  \n",
       "nkc20193158977       nam a22      i 4500  9788024389141  \n",
       "nkc20193158538       nam a22      i 4500  9788026427896  \n",
       "...                                  ...            ...  \n",
       "nkc20243606884       nam a22      i 4500  9788076913950  \n",
       "nkc20243607639       nam a22      i 4500  9788075886217  \n",
       "nkc20243607735       nam a22      i 4500  9788026726746  \n",
       "nkc20243607876       nam a22      i 4500  9788026452485  \n",
       "nkc20243607607       cam a22      i 4500  9788027742691  \n",
       "\n",
       "[1363 rows x 66 columns]"
      ]
     },
     "execution_count": 22,
     "metadata": {},
     "output_type": "execute_result"
    }
   ],
   "source": [
    "df"
   ]
  },
  {
   "cell_type": "code",
   "execution_count": 23,
   "id": "e665b5cc-8b03-4285-ad8e-60fce1a3f933",
   "metadata": {},
   "outputs": [],
   "source": [
    "autority = pd.read_parquet(os.path.join(\"data\",\"aut_vyber.parquet\"))"
   ]
  },
  {
   "cell_type": "code",
   "execution_count": 24,
   "id": "d4f36f4e-0596-45a9-b24b-003a6254372e",
   "metadata": {},
   "outputs": [],
   "source": [
    "autority = autority.merge(pd.read_parquet(os.path.join('data','wikidata.parquet')), left_index=True, right_index=True, how=\"outer\")"
   ]
  },
  {
   "cell_type": "code",
   "execution_count": 25,
   "id": "091c5099-0cd1-43e4-bb5c-0b1c62f41825",
   "metadata": {},
   "outputs": [
    {
     "data": {
      "text/html": [
       "<div>\n",
       "<style scoped>\n",
       "    .dataframe tbody tr th:only-of-type {\n",
       "        vertical-align: middle;\n",
       "    }\n",
       "\n",
       "    .dataframe tbody tr th {\n",
       "        vertical-align: top;\n",
       "    }\n",
       "\n",
       "    .dataframe thead th {\n",
       "        text-align: right;\n",
       "    }\n",
       "</style>\n",
       "<table border=\"1\" class=\"dataframe\">\n",
       "  <thead>\n",
       "    <tr style=\"text-align: right;\">\n",
       "      <th></th>\n",
       "      <th>024_2</th>\n",
       "      <th>024_a_x</th>\n",
       "      <th>046_f</th>\n",
       "      <th>046_g</th>\n",
       "      <th>100_7</th>\n",
       "      <th>100_a</th>\n",
       "      <th>100_d</th>\n",
       "      <th>100_ind1</th>\n",
       "      <th>110_a</th>\n",
       "      <th>370_a</th>\n",
       "      <th>370_b</th>\n",
       "      <th>370_c</th>\n",
       "      <th>370_f</th>\n",
       "      <th>372_a</th>\n",
       "      <th>373_a</th>\n",
       "      <th>374_a</th>\n",
       "      <th>375_a</th>\n",
       "      <th>377_a</th>\n",
       "      <th>400_a</th>\n",
       "      <th>400_d</th>\n",
       "      <th>400_i</th>\n",
       "      <th>400_ind1</th>\n",
       "      <th>410_a</th>\n",
       "      <th>411_a</th>\n",
       "      <th>430_a</th>\n",
       "      <th>450_a</th>\n",
       "      <th>500_a</th>\n",
       "      <th>500_i</th>\n",
       "      <th>500_ind1</th>\n",
       "      <th>550_7</th>\n",
       "      <th>678_a</th>\n",
       "      <th>856_u</th>\n",
       "      <th>leader</th>\n",
       "      <th>024_a_y</th>\n",
       "      <th>ceny</th>\n",
       "      <th>druh_umrti</th>\n",
       "      <th>facebook</th>\n",
       "      <th>instagram</th>\n",
       "      <th>jazykove_verze</th>\n",
       "      <th>label_cs</th>\n",
       "      <th>label_en</th>\n",
       "      <th>manzelstvo</th>\n",
       "      <th>obcanstvi</th>\n",
       "      <th>partnerstvo</th>\n",
       "      <th>popis_cs</th>\n",
       "      <th>popis_en</th>\n",
       "      <th>potomstvo</th>\n",
       "      <th>pricina_umrti</th>\n",
       "      <th>profese</th>\n",
       "      <th>role</th>\n",
       "      <th>skoly</th>\n",
       "      <th>sourozenectvo</th>\n",
       "      <th>strany</th>\n",
       "      <th>twitter</th>\n",
       "      <th>udalosti</th>\n",
       "      <th>vezeni</th>\n",
       "      <th>w_gender</th>\n",
       "      <th>w_misto_narozeni</th>\n",
       "      <th>w_misto_umrti</th>\n",
       "      <th>w_narozeni</th>\n",
       "      <th>w_narozeni_presne</th>\n",
       "      <th>w_umrti</th>\n",
       "      <th>w_umrti_presne</th>\n",
       "      <th>web</th>\n",
       "      <th>wiki_cs</th>\n",
       "      <th>wiki_en</th>\n",
       "    </tr>\n",
       "  </thead>\n",
       "  <tbody>\n",
       "    <tr>\n",
       "      <th>pag2009500097</th>\n",
       "      <td>None</td>\n",
       "      <td>None</td>\n",
       "      <td>None</td>\n",
       "      <td>None</td>\n",
       "      <td>[pag2009500097]</td>\n",
       "      <td>[Stange, Peter-Michael]</td>\n",
       "      <td>None</td>\n",
       "      <td>[1]</td>\n",
       "      <td>None</td>\n",
       "      <td>None</td>\n",
       "      <td>None</td>\n",
       "      <td>None</td>\n",
       "      <td>None</td>\n",
       "      <td>None</td>\n",
       "      <td>None</td>\n",
       "      <td>None</td>\n",
       "      <td>None</td>\n",
       "      <td>None</td>\n",
       "      <td>None</td>\n",
       "      <td>None</td>\n",
       "      <td>None</td>\n",
       "      <td>None</td>\n",
       "      <td>None</td>\n",
       "      <td>None</td>\n",
       "      <td>None</td>\n",
       "      <td>None</td>\n",
       "      <td>None</td>\n",
       "      <td>None</td>\n",
       "      <td>None</td>\n",
       "      <td>None</td>\n",
       "      <td>[Autor publikací o kutilství.]</td>\n",
       "      <td>None</td>\n",
       "      <td>cz  a22     n  4500</td>\n",
       "      <td>NaN</td>\n",
       "      <td>NaN</td>\n",
       "      <td>NaN</td>\n",
       "      <td>NaN</td>\n",
       "      <td>NaN</td>\n",
       "      <td>NaN</td>\n",
       "      <td>NaN</td>\n",
       "      <td>NaN</td>\n",
       "      <td>NaN</td>\n",
       "      <td>NaN</td>\n",
       "      <td>NaN</td>\n",
       "      <td>NaN</td>\n",
       "      <td>NaN</td>\n",
       "      <td>NaN</td>\n",
       "      <td>NaN</td>\n",
       "      <td>NaN</td>\n",
       "      <td>NaN</td>\n",
       "      <td>NaN</td>\n",
       "      <td>NaN</td>\n",
       "      <td>NaN</td>\n",
       "      <td>NaN</td>\n",
       "      <td>NaN</td>\n",
       "      <td>NaN</td>\n",
       "      <td>NaN</td>\n",
       "      <td>NaN</td>\n",
       "      <td>NaN</td>\n",
       "      <td>NaN</td>\n",
       "      <td>NaN</td>\n",
       "      <td>NaN</td>\n",
       "      <td>NaN</td>\n",
       "      <td>NaN</td>\n",
       "      <td>NaN</td>\n",
       "      <td>NaN</td>\n",
       "    </tr>\n",
       "    <tr>\n",
       "      <th>jo2015854333</th>\n",
       "      <td>None</td>\n",
       "      <td>None</td>\n",
       "      <td>None</td>\n",
       "      <td>None</td>\n",
       "      <td>[jo2015854333]</td>\n",
       "      <td>[Moberg, Emily]</td>\n",
       "      <td>None</td>\n",
       "      <td>[1]</td>\n",
       "      <td>None</td>\n",
       "      <td>None</td>\n",
       "      <td>None</td>\n",
       "      <td>None</td>\n",
       "      <td>None</td>\n",
       "      <td>None</td>\n",
       "      <td>None</td>\n",
       "      <td>None</td>\n",
       "      <td>None</td>\n",
       "      <td>None</td>\n",
       "      <td>None</td>\n",
       "      <td>None</td>\n",
       "      <td>None</td>\n",
       "      <td>None</td>\n",
       "      <td>None</td>\n",
       "      <td>None</td>\n",
       "      <td>None</td>\n",
       "      <td>None</td>\n",
       "      <td>None</td>\n",
       "      <td>None</td>\n",
       "      <td>None</td>\n",
       "      <td>None</td>\n",
       "      <td>[Environmentalistka, bioložka a oceánografka.]</td>\n",
       "      <td>None</td>\n",
       "      <td>nz  a22     n  4500</td>\n",
       "      <td>NaN</td>\n",
       "      <td>NaN</td>\n",
       "      <td>NaN</td>\n",
       "      <td>NaN</td>\n",
       "      <td>NaN</td>\n",
       "      <td>NaN</td>\n",
       "      <td>NaN</td>\n",
       "      <td>NaN</td>\n",
       "      <td>NaN</td>\n",
       "      <td>NaN</td>\n",
       "      <td>NaN</td>\n",
       "      <td>NaN</td>\n",
       "      <td>NaN</td>\n",
       "      <td>NaN</td>\n",
       "      <td>NaN</td>\n",
       "      <td>NaN</td>\n",
       "      <td>NaN</td>\n",
       "      <td>NaN</td>\n",
       "      <td>NaN</td>\n",
       "      <td>NaN</td>\n",
       "      <td>NaN</td>\n",
       "      <td>NaN</td>\n",
       "      <td>NaN</td>\n",
       "      <td>NaN</td>\n",
       "      <td>NaN</td>\n",
       "      <td>NaN</td>\n",
       "      <td>NaN</td>\n",
       "      <td>NaN</td>\n",
       "      <td>NaN</td>\n",
       "      <td>NaN</td>\n",
       "      <td>NaN</td>\n",
       "      <td>NaN</td>\n",
       "      <td>NaN</td>\n",
       "    </tr>\n",
       "    <tr>\n",
       "      <th>xx0155871</th>\n",
       "      <td>None</td>\n",
       "      <td>None</td>\n",
       "      <td>[1952]</td>\n",
       "      <td>None</td>\n",
       "      <td>[xx0155871]</td>\n",
       "      <td>[Pohl, Klaus,]</td>\n",
       "      <td>[1952-]</td>\n",
       "      <td>[1]</td>\n",
       "      <td>None</td>\n",
       "      <td>None</td>\n",
       "      <td>None</td>\n",
       "      <td>[Německo]</td>\n",
       "      <td>None</td>\n",
       "      <td>[divadlo, drama, režie, herectví]</td>\n",
       "      <td>None</td>\n",
       "      <td>[herci, dramatici, režiséři, scenáristé]</td>\n",
       "      <td>[muž]</td>\n",
       "      <td>[ger]</td>\n",
       "      <td>None</td>\n",
       "      <td>None</td>\n",
       "      <td>None</td>\n",
       "      <td>None</td>\n",
       "      <td>None</td>\n",
       "      <td>None</td>\n",
       "      <td>None</td>\n",
       "      <td>None</td>\n",
       "      <td>None</td>\n",
       "      <td>None</td>\n",
       "      <td>None</td>\n",
       "      <td>None</td>\n",
       "      <td>[Německý herec, divadelní režisér, dramatik a ...</td>\n",
       "      <td>[http://de.wikipedia.org/wiki/Klaus_Pohl_(Dram...</td>\n",
       "      <td>cz  a22     n  4500</td>\n",
       "      <td>NaN</td>\n",
       "      <td>NaN</td>\n",
       "      <td>NaN</td>\n",
       "      <td>NaN</td>\n",
       "      <td>NaN</td>\n",
       "      <td>NaN</td>\n",
       "      <td>NaN</td>\n",
       "      <td>NaN</td>\n",
       "      <td>NaN</td>\n",
       "      <td>NaN</td>\n",
       "      <td>NaN</td>\n",
       "      <td>NaN</td>\n",
       "      <td>NaN</td>\n",
       "      <td>NaN</td>\n",
       "      <td>NaN</td>\n",
       "      <td>NaN</td>\n",
       "      <td>NaN</td>\n",
       "      <td>NaN</td>\n",
       "      <td>NaN</td>\n",
       "      <td>NaN</td>\n",
       "      <td>NaN</td>\n",
       "      <td>NaN</td>\n",
       "      <td>NaN</td>\n",
       "      <td>NaN</td>\n",
       "      <td>NaN</td>\n",
       "      <td>NaN</td>\n",
       "      <td>NaN</td>\n",
       "      <td>NaN</td>\n",
       "      <td>NaN</td>\n",
       "      <td>NaN</td>\n",
       "      <td>NaN</td>\n",
       "      <td>NaN</td>\n",
       "      <td>NaN</td>\n",
       "    </tr>\n",
       "    <tr>\n",
       "      <th>jo20010087106</th>\n",
       "      <td>None</td>\n",
       "      <td>None</td>\n",
       "      <td>[1961]</td>\n",
       "      <td>None</td>\n",
       "      <td>[jo20010087106]</td>\n",
       "      <td>[Świetlicki, Marcin,]</td>\n",
       "      <td>[1961-]</td>\n",
       "      <td>[1]</td>\n",
       "      <td>None</td>\n",
       "      <td>None</td>\n",
       "      <td>None</td>\n",
       "      <td>None</td>\n",
       "      <td>None</td>\n",
       "      <td>None</td>\n",
       "      <td>None</td>\n",
       "      <td>None</td>\n",
       "      <td>None</td>\n",
       "      <td>None</td>\n",
       "      <td>None</td>\n",
       "      <td>None</td>\n",
       "      <td>None</td>\n",
       "      <td>None</td>\n",
       "      <td>None</td>\n",
       "      <td>None</td>\n",
       "      <td>None</td>\n",
       "      <td>None</td>\n",
       "      <td>None</td>\n",
       "      <td>None</td>\n",
       "      <td>None</td>\n",
       "      <td>None</td>\n",
       "      <td>None</td>\n",
       "      <td>None</td>\n",
       "      <td>nz  a22     n  4500</td>\n",
       "      <td>NaN</td>\n",
       "      <td>NaN</td>\n",
       "      <td>NaN</td>\n",
       "      <td>NaN</td>\n",
       "      <td>NaN</td>\n",
       "      <td>NaN</td>\n",
       "      <td>NaN</td>\n",
       "      <td>NaN</td>\n",
       "      <td>NaN</td>\n",
       "      <td>NaN</td>\n",
       "      <td>NaN</td>\n",
       "      <td>NaN</td>\n",
       "      <td>NaN</td>\n",
       "      <td>NaN</td>\n",
       "      <td>NaN</td>\n",
       "      <td>NaN</td>\n",
       "      <td>NaN</td>\n",
       "      <td>NaN</td>\n",
       "      <td>NaN</td>\n",
       "      <td>NaN</td>\n",
       "      <td>NaN</td>\n",
       "      <td>NaN</td>\n",
       "      <td>NaN</td>\n",
       "      <td>NaN</td>\n",
       "      <td>NaN</td>\n",
       "      <td>NaN</td>\n",
       "      <td>NaN</td>\n",
       "      <td>NaN</td>\n",
       "      <td>NaN</td>\n",
       "      <td>NaN</td>\n",
       "      <td>NaN</td>\n",
       "      <td>NaN</td>\n",
       "      <td>NaN</td>\n",
       "    </tr>\n",
       "    <tr>\n",
       "      <th>ge272796</th>\n",
       "      <td>None</td>\n",
       "      <td>None</td>\n",
       "      <td>None</td>\n",
       "      <td>None</td>\n",
       "      <td>None</td>\n",
       "      <td>None</td>\n",
       "      <td>None</td>\n",
       "      <td>None</td>\n",
       "      <td>None</td>\n",
       "      <td>None</td>\n",
       "      <td>None</td>\n",
       "      <td>None</td>\n",
       "      <td>None</td>\n",
       "      <td>None</td>\n",
       "      <td>None</td>\n",
       "      <td>None</td>\n",
       "      <td>None</td>\n",
       "      <td>None</td>\n",
       "      <td>None</td>\n",
       "      <td>None</td>\n",
       "      <td>None</td>\n",
       "      <td>None</td>\n",
       "      <td>None</td>\n",
       "      <td>None</td>\n",
       "      <td>None</td>\n",
       "      <td>None</td>\n",
       "      <td>None</td>\n",
       "      <td>None</td>\n",
       "      <td>None</td>\n",
       "      <td>None</td>\n",
       "      <td>[Nejvyšší vrch (285 m n. m.) oblasti Poděbrad....</td>\n",
       "      <td>[http://cs.wikipedia.org/wiki/O%C5%A1kobrh]</td>\n",
       "      <td>cz  a22     n  4500</td>\n",
       "      <td>NaN</td>\n",
       "      <td>NaN</td>\n",
       "      <td>NaN</td>\n",
       "      <td>NaN</td>\n",
       "      <td>NaN</td>\n",
       "      <td>NaN</td>\n",
       "      <td>NaN</td>\n",
       "      <td>NaN</td>\n",
       "      <td>NaN</td>\n",
       "      <td>NaN</td>\n",
       "      <td>NaN</td>\n",
       "      <td>NaN</td>\n",
       "      <td>NaN</td>\n",
       "      <td>NaN</td>\n",
       "      <td>NaN</td>\n",
       "      <td>NaN</td>\n",
       "      <td>NaN</td>\n",
       "      <td>NaN</td>\n",
       "      <td>NaN</td>\n",
       "      <td>NaN</td>\n",
       "      <td>NaN</td>\n",
       "      <td>NaN</td>\n",
       "      <td>NaN</td>\n",
       "      <td>NaN</td>\n",
       "      <td>NaN</td>\n",
       "      <td>NaN</td>\n",
       "      <td>NaN</td>\n",
       "      <td>NaN</td>\n",
       "      <td>NaN</td>\n",
       "      <td>NaN</td>\n",
       "      <td>NaN</td>\n",
       "      <td>NaN</td>\n",
       "      <td>NaN</td>\n",
       "    </tr>\n",
       "  </tbody>\n",
       "</table>\n",
       "</div>"
      ],
      "text/plain": [
       "              024_2 024_a_x   046_f 046_g            100_7  \\\n",
       "pag2009500097  None    None    None  None  [pag2009500097]   \n",
       "jo2015854333   None    None    None  None   [jo2015854333]   \n",
       "xx0155871      None    None  [1952]  None      [xx0155871]   \n",
       "jo20010087106  None    None  [1961]  None  [jo20010087106]   \n",
       "ge272796       None    None    None  None             None   \n",
       "\n",
       "                                 100_a    100_d 100_ind1 110_a 370_a 370_b  \\\n",
       "pag2009500097  [Stange, Peter-Michael]     None      [1]  None  None  None   \n",
       "jo2015854333           [Moberg, Emily]     None      [1]  None  None  None   \n",
       "xx0155871               [Pohl, Klaus,]  [1952-]      [1]  None  None  None   \n",
       "jo20010087106    [Świetlicki, Marcin,]  [1961-]      [1]  None  None  None   \n",
       "ge272796                          None     None     None  None  None  None   \n",
       "\n",
       "                   370_c 370_f                              372_a 373_a  \\\n",
       "pag2009500097       None  None                               None  None   \n",
       "jo2015854333        None  None                               None  None   \n",
       "xx0155871      [Německo]  None  [divadlo, drama, režie, herectví]  None   \n",
       "jo20010087106       None  None                               None  None   \n",
       "ge272796            None  None                               None  None   \n",
       "\n",
       "                                                  374_a  375_a  377_a 400_a  \\\n",
       "pag2009500097                                      None   None   None  None   \n",
       "jo2015854333                                       None   None   None  None   \n",
       "xx0155871      [herci, dramatici, režiséři, scenáristé]  [muž]  [ger]  None   \n",
       "jo20010087106                                      None   None   None  None   \n",
       "ge272796                                           None   None   None  None   \n",
       "\n",
       "              400_d 400_i 400_ind1 410_a 411_a 430_a 450_a 500_a 500_i  \\\n",
       "pag2009500097  None  None     None  None  None  None  None  None  None   \n",
       "jo2015854333   None  None     None  None  None  None  None  None  None   \n",
       "xx0155871      None  None     None  None  None  None  None  None  None   \n",
       "jo20010087106  None  None     None  None  None  None  None  None  None   \n",
       "ge272796       None  None     None  None  None  None  None  None  None   \n",
       "\n",
       "              500_ind1 550_7  \\\n",
       "pag2009500097     None  None   \n",
       "jo2015854333      None  None   \n",
       "xx0155871         None  None   \n",
       "jo20010087106     None  None   \n",
       "ge272796          None  None   \n",
       "\n",
       "                                                           678_a  \\\n",
       "pag2009500097                     [Autor publikací o kutilství.]   \n",
       "jo2015854333      [Environmentalistka, bioložka a oceánografka.]   \n",
       "xx0155871      [Německý herec, divadelní režisér, dramatik a ...   \n",
       "jo20010087106                                               None   \n",
       "ge272796       [Nejvyšší vrch (285 m n. m.) oblasti Poděbrad....   \n",
       "\n",
       "                                                           856_u  \\\n",
       "pag2009500097                                               None   \n",
       "jo2015854333                                                None   \n",
       "xx0155871      [http://de.wikipedia.org/wiki/Klaus_Pohl_(Dram...   \n",
       "jo20010087106                                               None   \n",
       "ge272796             [http://cs.wikipedia.org/wiki/O%C5%A1kobrh]   \n",
       "\n",
       "                                 leader 024_a_y ceny druh_umrti facebook  \\\n",
       "pag2009500097       cz  a22     n  4500     NaN  NaN        NaN      NaN   \n",
       "jo2015854333        nz  a22     n  4500     NaN  NaN        NaN      NaN   \n",
       "xx0155871           cz  a22     n  4500     NaN  NaN        NaN      NaN   \n",
       "jo20010087106       nz  a22     n  4500     NaN  NaN        NaN      NaN   \n",
       "ge272796            cz  a22     n  4500     NaN  NaN        NaN      NaN   \n",
       "\n",
       "              instagram jazykove_verze label_cs label_en manzelstvo obcanstvi  \\\n",
       "pag2009500097       NaN            NaN      NaN      NaN        NaN       NaN   \n",
       "jo2015854333        NaN            NaN      NaN      NaN        NaN       NaN   \n",
       "xx0155871           NaN            NaN      NaN      NaN        NaN       NaN   \n",
       "jo20010087106       NaN            NaN      NaN      NaN        NaN       NaN   \n",
       "ge272796            NaN            NaN      NaN      NaN        NaN       NaN   \n",
       "\n",
       "              partnerstvo popis_cs popis_en potomstvo pricina_umrti profese  \\\n",
       "pag2009500097         NaN      NaN      NaN       NaN           NaN     NaN   \n",
       "jo2015854333          NaN      NaN      NaN       NaN           NaN     NaN   \n",
       "xx0155871             NaN      NaN      NaN       NaN           NaN     NaN   \n",
       "jo20010087106         NaN      NaN      NaN       NaN           NaN     NaN   \n",
       "ge272796              NaN      NaN      NaN       NaN           NaN     NaN   \n",
       "\n",
       "              role skoly sourozenectvo strany twitter udalosti vezeni  \\\n",
       "pag2009500097  NaN   NaN           NaN    NaN     NaN      NaN    NaN   \n",
       "jo2015854333   NaN   NaN           NaN    NaN     NaN      NaN    NaN   \n",
       "xx0155871      NaN   NaN           NaN    NaN     NaN      NaN    NaN   \n",
       "jo20010087106  NaN   NaN           NaN    NaN     NaN      NaN    NaN   \n",
       "ge272796       NaN   NaN           NaN    NaN     NaN      NaN    NaN   \n",
       "\n",
       "              w_gender w_misto_narozeni w_misto_umrti  w_narozeni  \\\n",
       "pag2009500097      NaN              NaN           NaN         NaN   \n",
       "jo2015854333       NaN              NaN           NaN         NaN   \n",
       "xx0155871          NaN              NaN           NaN         NaN   \n",
       "jo20010087106      NaN              NaN           NaN         NaN   \n",
       "ge272796           NaN              NaN           NaN         NaN   \n",
       "\n",
       "              w_narozeni_presne  w_umrti w_umrti_presne  web wiki_cs wiki_en  \n",
       "pag2009500097               NaN      NaN            NaN  NaN     NaN     NaN  \n",
       "jo2015854333                NaN      NaN            NaN  NaN     NaN     NaN  \n",
       "xx0155871                   NaN      NaN            NaN  NaN     NaN     NaN  \n",
       "jo20010087106               NaN      NaN            NaN  NaN     NaN     NaN  \n",
       "ge272796                    NaN      NaN            NaN  NaN     NaN     NaN  "
      ]
     },
     "execution_count": 25,
     "metadata": {},
     "output_type": "execute_result"
    }
   ],
   "source": [
    "autority.sample(5)"
   ]
  },
  {
   "cell_type": "code",
   "execution_count": 26,
   "id": "b6726eb0-8715-49b1-a4f9-09b627e90741",
   "metadata": {},
   "outputs": [
    {
     "data": {
      "text/plain": [
       "Index(['024_2', '024_a_x', '046_f', '046_g', '100_7', '100_a', '100_d',\n",
       "       '100_ind1', '110_a', '370_a', '370_b', '370_c', '370_f', '372_a',\n",
       "       '373_a', '374_a', '375_a', '377_a', '400_a', '400_d', '400_i',\n",
       "       '400_ind1', '410_a', '411_a', '430_a', '450_a', '500_a', '500_i',\n",
       "       '500_ind1', '550_7', '678_a', '856_u', 'leader', '024_a_y', 'ceny',\n",
       "       'druh_umrti', 'facebook', 'instagram', 'jazykove_verze', 'label_cs',\n",
       "       'label_en', 'manzelstvo', 'obcanstvi', 'partnerstvo', 'popis_cs',\n",
       "       'popis_en', 'potomstvo', 'pricina_umrti', 'profese', 'role', 'skoly',\n",
       "       'sourozenectvo', 'strany', 'twitter', 'udalosti', 'vezeni', 'w_gender',\n",
       "       'w_misto_narozeni', 'w_misto_umrti', 'w_narozeni', 'w_narozeni_presne',\n",
       "       'w_umrti', 'w_umrti_presne', 'web', 'wiki_cs', 'wiki_en'],\n",
       "      dtype='object')"
      ]
     },
     "execution_count": 26,
     "metadata": {},
     "output_type": "execute_result"
    }
   ],
   "source": [
    "autority.columns"
   ]
  },
  {
   "cell_type": "code",
   "execution_count": 27,
   "id": "b310540d-40a5-4fec-a3dd-e187903d0ad1",
   "metadata": {},
   "outputs": [],
   "source": [
    "df = df.merge(autority[['w_gender','w_umrti','046_g','375_a']], left_on=\"autorstvo_kod\", right_index=True, how=\"left\")"
   ]
  },
  {
   "cell_type": "code",
   "execution_count": 28,
   "id": "25e2b1ab-504a-4b3e-a4dc-91e55712fae3",
   "metadata": {},
   "outputs": [],
   "source": [
    "df = df[(df['w_umrti'].isnull()) | (df['046_g'].isnull())]"
   ]
  },
  {
   "cell_type": "code",
   "execution_count": 29,
   "id": "459d6e27-4892-44bb-8678-bfb9816c5cea",
   "metadata": {},
   "outputs": [
    {
     "data": {
      "text/html": [
       "<div>\n",
       "<style scoped>\n",
       "    .dataframe tbody tr th:only-of-type {\n",
       "        vertical-align: middle;\n",
       "    }\n",
       "\n",
       "    .dataframe tbody tr th {\n",
       "        vertical-align: top;\n",
       "    }\n",
       "\n",
       "    .dataframe thead th {\n",
       "        text-align: right;\n",
       "    }\n",
       "</style>\n",
       "<table border=\"1\" class=\"dataframe\">\n",
       "  <thead>\n",
       "    <tr style=\"text-align: right;\">\n",
       "      <th></th>\n",
       "      <th>rok</th>\n",
       "      <th>titul</th>\n",
       "      <th>autorstvo</th>\n",
       "      <th>autorstvo_kod</th>\n",
       "      <th>008</th>\n",
       "      <th>020_a</th>\n",
       "      <th>020_c</th>\n",
       "      <th>020_q</th>\n",
       "      <th>041_a</th>\n",
       "      <th>041_h</th>\n",
       "      <th>041_ind1</th>\n",
       "      <th>044_a</th>\n",
       "      <th>072_a</th>\n",
       "      <th>072_x</th>\n",
       "      <th>080_a</th>\n",
       "      <th>100_4</th>\n",
       "      <th>100_7</th>\n",
       "      <th>100_a</th>\n",
       "      <th>100_d</th>\n",
       "      <th>240_l</th>\n",
       "      <th>245_a</th>\n",
       "      <th>245_c</th>\n",
       "      <th>245_n</th>\n",
       "      <th>245_p</th>\n",
       "      <th>246_a</th>\n",
       "      <th>250_a</th>\n",
       "      <th>250_b</th>\n",
       "      <th>260_a</th>\n",
       "      <th>260_b</th>\n",
       "      <th>260_c</th>\n",
       "      <th>260_e</th>\n",
       "      <th>260_f</th>\n",
       "      <th>260_ind1</th>\n",
       "      <th>264_a</th>\n",
       "      <th>264_b</th>\n",
       "      <th>264_c</th>\n",
       "      <th>264_ind2</th>\n",
       "      <th>300_a</th>\n",
       "      <th>300_b</th>\n",
       "      <th>300_c</th>\n",
       "      <th>490_a</th>\n",
       "      <th>490_v</th>\n",
       "      <th>500_a</th>\n",
       "      <th>521_a</th>\n",
       "      <th>546_a</th>\n",
       "      <th>648_a</th>\n",
       "      <th>650_a</th>\n",
       "      <th>650_x</th>\n",
       "      <th>650_y</th>\n",
       "      <th>650_z</th>\n",
       "      <th>651_a</th>\n",
       "      <th>653_a</th>\n",
       "      <th>655_a</th>\n",
       "      <th>700_4</th>\n",
       "      <th>700_7</th>\n",
       "      <th>700_a</th>\n",
       "      <th>700_d</th>\n",
       "      <th>710_4</th>\n",
       "      <th>710_7</th>\n",
       "      <th>710_a</th>\n",
       "      <th>710_b</th>\n",
       "      <th>830_a</th>\n",
       "      <th>928_a</th>\n",
       "      <th>964_a</th>\n",
       "      <th>leader</th>\n",
       "      <th>isbn</th>\n",
       "      <th>w_gender</th>\n",
       "      <th>w_umrti</th>\n",
       "      <th>046_g</th>\n",
       "      <th>375_a</th>\n",
       "    </tr>\n",
       "    <tr>\n",
       "      <th>001</th>\n",
       "      <th></th>\n",
       "      <th></th>\n",
       "      <th></th>\n",
       "      <th></th>\n",
       "      <th></th>\n",
       "      <th></th>\n",
       "      <th></th>\n",
       "      <th></th>\n",
       "      <th></th>\n",
       "      <th></th>\n",
       "      <th></th>\n",
       "      <th></th>\n",
       "      <th></th>\n",
       "      <th></th>\n",
       "      <th></th>\n",
       "      <th></th>\n",
       "      <th></th>\n",
       "      <th></th>\n",
       "      <th></th>\n",
       "      <th></th>\n",
       "      <th></th>\n",
       "      <th></th>\n",
       "      <th></th>\n",
       "      <th></th>\n",
       "      <th></th>\n",
       "      <th></th>\n",
       "      <th></th>\n",
       "      <th></th>\n",
       "      <th></th>\n",
       "      <th></th>\n",
       "      <th></th>\n",
       "      <th></th>\n",
       "      <th></th>\n",
       "      <th></th>\n",
       "      <th></th>\n",
       "      <th></th>\n",
       "      <th></th>\n",
       "      <th></th>\n",
       "      <th></th>\n",
       "      <th></th>\n",
       "      <th></th>\n",
       "      <th></th>\n",
       "      <th></th>\n",
       "      <th></th>\n",
       "      <th></th>\n",
       "      <th></th>\n",
       "      <th></th>\n",
       "      <th></th>\n",
       "      <th></th>\n",
       "      <th></th>\n",
       "      <th></th>\n",
       "      <th></th>\n",
       "      <th></th>\n",
       "      <th></th>\n",
       "      <th></th>\n",
       "      <th></th>\n",
       "      <th></th>\n",
       "      <th></th>\n",
       "      <th></th>\n",
       "      <th></th>\n",
       "      <th></th>\n",
       "      <th></th>\n",
       "      <th></th>\n",
       "      <th></th>\n",
       "      <th></th>\n",
       "      <th></th>\n",
       "      <th></th>\n",
       "      <th></th>\n",
       "      <th></th>\n",
       "      <th></th>\n",
       "    </tr>\n",
       "  </thead>\n",
       "  <tbody>\n",
       "    <tr>\n",
       "      <th>nkc20233551508</th>\n",
       "      <td>2023.0</td>\n",
       "      <td>Sudetenland</td>\n",
       "      <td>Kyša Leoš</td>\n",
       "      <td>mzk2009535134</td>\n",
       "      <td>231005s2023    xr     g      000 f cze d</td>\n",
       "      <td>978-80-277-2437-6</td>\n",
       "      <td>None</td>\n",
       "      <td>[(brožováno)]</td>\n",
       "      <td>None</td>\n",
       "      <td>None</td>\n",
       "      <td>None</td>\n",
       "      <td>None</td>\n",
       "      <td>[821.162.3-3]</td>\n",
       "      <td>[Česká próza]</td>\n",
       "      <td>[821.162.3-31, 94(437.3+430), 94-021.171, (0:8...</td>\n",
       "      <td>[aut]</td>\n",
       "      <td>mzk2009535134</td>\n",
       "      <td>Kyša, Leoš,</td>\n",
       "      <td>1979-</td>\n",
       "      <td>None</td>\n",
       "      <td>Sudetenland :</td>\n",
       "      <td>Leoš Kyša</td>\n",
       "      <td>None</td>\n",
       "      <td>None</td>\n",
       "      <td>None</td>\n",
       "      <td>None</td>\n",
       "      <td>None</td>\n",
       "      <td>None</td>\n",
       "      <td>None</td>\n",
       "      <td>None</td>\n",
       "      <td>None</td>\n",
       "      <td>None</td>\n",
       "      <td>None</td>\n",
       "      <td>[Praha :]</td>\n",
       "      <td>[Dobrovský s.r.o.,]</td>\n",
       "      <td>[2023]</td>\n",
       "      <td>[1]</td>\n",
       "      <td>[286 stran ;]</td>\n",
       "      <td>None</td>\n",
       "      <td>[21 cm]</td>\n",
       "      <td>[Vendeta]</td>\n",
       "      <td>None</td>\n",
       "      <td>None</td>\n",
       "      <td>None</td>\n",
       "      <td>[Český text]</td>\n",
       "      <td>None</td>\n",
       "      <td>[sudetoněmecká otázka, fiktivní dějiny, Sudete...</td>\n",
       "      <td>None</td>\n",
       "      <td>None</td>\n",
       "      <td>None</td>\n",
       "      <td>None</td>\n",
       "      <td>None</td>\n",
       "      <td>[české romány, Czech fiction]</td>\n",
       "      <td>None</td>\n",
       "      <td>None</td>\n",
       "      <td>None</td>\n",
       "      <td>None</td>\n",
       "      <td>None</td>\n",
       "      <td>None</td>\n",
       "      <td>None</td>\n",
       "      <td>None</td>\n",
       "      <td>[Vendeta]</td>\n",
       "      <td>None</td>\n",
       "      <td>None</td>\n",
       "      <td>cam a22      i 4500</td>\n",
       "      <td>9788027724376</td>\n",
       "      <td>muž</td>\n",
       "      <td>NaN</td>\n",
       "      <td>None</td>\n",
       "      <td>[muž]</td>\n",
       "    </tr>\n",
       "    <tr>\n",
       "      <th>nkc20233520063</th>\n",
       "      <td>2023.0</td>\n",
       "      <td>Na králův příkaz</td>\n",
       "      <td>Niedl František</td>\n",
       "      <td>xx0007788</td>\n",
       "      <td>230510s2023    xr     g      000 f cze</td>\n",
       "      <td>978-80-279-0806-6</td>\n",
       "      <td>None</td>\n",
       "      <td>[(vázáno)]</td>\n",
       "      <td>None</td>\n",
       "      <td>None</td>\n",
       "      <td>None</td>\n",
       "      <td>None</td>\n",
       "      <td>[821.162.3-3]</td>\n",
       "      <td>[Česká próza]</td>\n",
       "      <td>[821.162.3-31, (0:82-311.6)]</td>\n",
       "      <td>[aut]</td>\n",
       "      <td>xx0007788</td>\n",
       "      <td>Niedl, František,</td>\n",
       "      <td>1949-</td>\n",
       "      <td>None</td>\n",
       "      <td>Na králův příkaz /</td>\n",
       "      <td>František Niedl</td>\n",
       "      <td>None</td>\n",
       "      <td>None</td>\n",
       "      <td>None</td>\n",
       "      <td>[Vydání první]</td>\n",
       "      <td>None</td>\n",
       "      <td>None</td>\n",
       "      <td>None</td>\n",
       "      <td>None</td>\n",
       "      <td>None</td>\n",
       "      <td>None</td>\n",
       "      <td>None</td>\n",
       "      <td>[Brno :]</td>\n",
       "      <td>[MOBA,]</td>\n",
       "      <td>[2023]</td>\n",
       "      <td>[1]</td>\n",
       "      <td>[270 stran ;]</td>\n",
       "      <td>None</td>\n",
       "      <td>[21 cm]</td>\n",
       "      <td>None</td>\n",
       "      <td>None</td>\n",
       "      <td>None</td>\n",
       "      <td>None</td>\n",
       "      <td>None</td>\n",
       "      <td>None</td>\n",
       "      <td>None</td>\n",
       "      <td>None</td>\n",
       "      <td>None</td>\n",
       "      <td>None</td>\n",
       "      <td>None</td>\n",
       "      <td>None</td>\n",
       "      <td>[české romány, historické romány, Czech fictio...</td>\n",
       "      <td>None</td>\n",
       "      <td>None</td>\n",
       "      <td>None</td>\n",
       "      <td>None</td>\n",
       "      <td>None</td>\n",
       "      <td>None</td>\n",
       "      <td>None</td>\n",
       "      <td>None</td>\n",
       "      <td>None</td>\n",
       "      <td>None</td>\n",
       "      <td>None</td>\n",
       "      <td>nam a22      i 4500</td>\n",
       "      <td>9788027908066</td>\n",
       "      <td>muž</td>\n",
       "      <td>NaN</td>\n",
       "      <td>None</td>\n",
       "      <td>[muž]</td>\n",
       "    </tr>\n",
       "    <tr>\n",
       "      <th>nkc20243627800</th>\n",
       "      <td>2024.0</td>\n",
       "      <td>Když přišli psi</td>\n",
       "      <td>Wilková Scarlett</td>\n",
       "      <td>xx0067867</td>\n",
       "      <td>240905s2024    xr     g      000 f cze</td>\n",
       "      <td>978-80-267-2699-9</td>\n",
       "      <td>[Kč 399,00]</td>\n",
       "      <td>[(vázáno) :]</td>\n",
       "      <td>None</td>\n",
       "      <td>None</td>\n",
       "      <td>None</td>\n",
       "      <td>None</td>\n",
       "      <td>[821.162.3-3]</td>\n",
       "      <td>[Česká próza]</td>\n",
       "      <td>[821.162.3-31, (0:82-311.6)]</td>\n",
       "      <td>[aut]</td>\n",
       "      <td>xx0067867</td>\n",
       "      <td>Wilková, Scarlett,</td>\n",
       "      <td>1969-</td>\n",
       "      <td>None</td>\n",
       "      <td>Když přišli psi /</td>\n",
       "      <td>Scarlett Wilková</td>\n",
       "      <td>None</td>\n",
       "      <td>None</td>\n",
       "      <td>None</td>\n",
       "      <td>[1. vydání]</td>\n",
       "      <td>None</td>\n",
       "      <td>None</td>\n",
       "      <td>None</td>\n",
       "      <td>None</td>\n",
       "      <td>None</td>\n",
       "      <td>None</td>\n",
       "      <td>None</td>\n",
       "      <td>[V Praze :]</td>\n",
       "      <td>[Motto,]</td>\n",
       "      <td>[2024]</td>\n",
       "      <td>[1]</td>\n",
       "      <td>[271 stran ;]</td>\n",
       "      <td>None</td>\n",
       "      <td>[21 cm]</td>\n",
       "      <td>None</td>\n",
       "      <td>None</td>\n",
       "      <td>None</td>\n",
       "      <td>None</td>\n",
       "      <td>None</td>\n",
       "      <td>None</td>\n",
       "      <td>None</td>\n",
       "      <td>None</td>\n",
       "      <td>None</td>\n",
       "      <td>None</td>\n",
       "      <td>None</td>\n",
       "      <td>None</td>\n",
       "      <td>[české romány, historické romány, Czech fictio...</td>\n",
       "      <td>None</td>\n",
       "      <td>None</td>\n",
       "      <td>None</td>\n",
       "      <td>None</td>\n",
       "      <td>None</td>\n",
       "      <td>None</td>\n",
       "      <td>None</td>\n",
       "      <td>None</td>\n",
       "      <td>None</td>\n",
       "      <td>[Albatros Media - Motto]</td>\n",
       "      <td>None</td>\n",
       "      <td>nam a22      i 4500</td>\n",
       "      <td>9788026726999</td>\n",
       "      <td>žena</td>\n",
       "      <td>NaN</td>\n",
       "      <td>None</td>\n",
       "      <td>[žena]</td>\n",
       "    </tr>\n",
       "    <tr>\n",
       "      <th>nkc20233521561</th>\n",
       "      <td>2023.0</td>\n",
       "      <td>Řeka pod hladinou</td>\n",
       "      <td>Kolář Pavel</td>\n",
       "      <td>js20051017096</td>\n",
       "      <td>230905s2023    xr a   g      000 f cze</td>\n",
       "      <td>978-80-242-9212-0</td>\n",
       "      <td>None</td>\n",
       "      <td>[(vázáno)]</td>\n",
       "      <td>None</td>\n",
       "      <td>None</td>\n",
       "      <td>None</td>\n",
       "      <td>None</td>\n",
       "      <td>[821.162.3-3]</td>\n",
       "      <td>[Česká próza]</td>\n",
       "      <td>[821.162.3-3, 531.11, 001.94, (0:82-3)]</td>\n",
       "      <td>[aut]</td>\n",
       "      <td>js20051017096</td>\n",
       "      <td>Kolář, Pavel,</td>\n",
       "      <td>1963-</td>\n",
       "      <td>None</td>\n",
       "      <td>Řeka pod hladinou :</td>\n",
       "      <td>Pavel Kolář</td>\n",
       "      <td>None</td>\n",
       "      <td>None</td>\n",
       "      <td>None</td>\n",
       "      <td>[První vydání]</td>\n",
       "      <td>None</td>\n",
       "      <td>None</td>\n",
       "      <td>None</td>\n",
       "      <td>None</td>\n",
       "      <td>None</td>\n",
       "      <td>None</td>\n",
       "      <td>None</td>\n",
       "      <td>[Praha :]</td>\n",
       "      <td>[Euromedia Group,]</td>\n",
       "      <td>[2023]</td>\n",
       "      <td>[1]</td>\n",
       "      <td>[367 stran :]</td>\n",
       "      <td>[barevné ilustrace ;]</td>\n",
       "      <td>[22 cm]</td>\n",
       "      <td>None</td>\n",
       "      <td>None</td>\n",
       "      <td>[\"Vydala Euromedia Group, a.s., v edici Kalibr...</td>\n",
       "      <td>None</td>\n",
       "      <td>None</td>\n",
       "      <td>None</td>\n",
       "      <td>[cestování v čase, záhady, time travel, myster...</td>\n",
       "      <td>None</td>\n",
       "      <td>None</td>\n",
       "      <td>None</td>\n",
       "      <td>None</td>\n",
       "      <td>None</td>\n",
       "      <td>[české prózy, Czech prose]</td>\n",
       "      <td>None</td>\n",
       "      <td>None</td>\n",
       "      <td>None</td>\n",
       "      <td>None</td>\n",
       "      <td>None</td>\n",
       "      <td>None</td>\n",
       "      <td>None</td>\n",
       "      <td>None</td>\n",
       "      <td>None</td>\n",
       "      <td>[Euromedia Group - Kalibr, Kalibr]</td>\n",
       "      <td>None</td>\n",
       "      <td>nam a22      i 4500</td>\n",
       "      <td>9788024292120</td>\n",
       "      <td>muž</td>\n",
       "      <td>NaN</td>\n",
       "      <td>None</td>\n",
       "      <td>None</td>\n",
       "    </tr>\n",
       "    <tr>\n",
       "      <th>nkc20233545026</th>\n",
       "      <td>2023.0</td>\n",
       "      <td>Zbabělí hrdinové</td>\n",
       "      <td>Bohatá Simona</td>\n",
       "      <td>xx0218158</td>\n",
       "      <td>230829s2023    xr     g      000 j cze</td>\n",
       "      <td>978-80-275-1596-7</td>\n",
       "      <td>None</td>\n",
       "      <td>[(vázáno)]</td>\n",
       "      <td>None</td>\n",
       "      <td>None</td>\n",
       "      <td>None</td>\n",
       "      <td>None</td>\n",
       "      <td>[821.162.3-3]</td>\n",
       "      <td>[Česká próza]</td>\n",
       "      <td>[821.162.3-32, (0:82-32)]</td>\n",
       "      <td>[aut]</td>\n",
       "      <td>xx0218158</td>\n",
       "      <td>Bohatá, Simona,</td>\n",
       "      <td>1965-</td>\n",
       "      <td>None</td>\n",
       "      <td>Zbabělí hrdinové /</td>\n",
       "      <td>Simona Bohatá</td>\n",
       "      <td>None</td>\n",
       "      <td>None</td>\n",
       "      <td>None</td>\n",
       "      <td>[První vydání]</td>\n",
       "      <td>None</td>\n",
       "      <td>None</td>\n",
       "      <td>None</td>\n",
       "      <td>None</td>\n",
       "      <td>None</td>\n",
       "      <td>None</td>\n",
       "      <td>None</td>\n",
       "      <td>[Brno :]</td>\n",
       "      <td>[Host,]</td>\n",
       "      <td>[2023]</td>\n",
       "      <td>[1]</td>\n",
       "      <td>[198 stran ;]</td>\n",
       "      <td>None</td>\n",
       "      <td>[21 cm]</td>\n",
       "      <td>None</td>\n",
       "      <td>None</td>\n",
       "      <td>None</td>\n",
       "      <td>None</td>\n",
       "      <td>None</td>\n",
       "      <td>None</td>\n",
       "      <td>None</td>\n",
       "      <td>None</td>\n",
       "      <td>None</td>\n",
       "      <td>None</td>\n",
       "      <td>None</td>\n",
       "      <td>None</td>\n",
       "      <td>[české povídky, Czech short stories]</td>\n",
       "      <td>None</td>\n",
       "      <td>None</td>\n",
       "      <td>None</td>\n",
       "      <td>None</td>\n",
       "      <td>None</td>\n",
       "      <td>None</td>\n",
       "      <td>None</td>\n",
       "      <td>None</td>\n",
       "      <td>None</td>\n",
       "      <td>None</td>\n",
       "      <td>None</td>\n",
       "      <td>nam a22      i 4500</td>\n",
       "      <td>9788027515967</td>\n",
       "      <td>žena</td>\n",
       "      <td>NaN</td>\n",
       "      <td>None</td>\n",
       "      <td>[žena]</td>\n",
       "    </tr>\n",
       "  </tbody>\n",
       "</table>\n",
       "</div>"
      ],
      "text/plain": [
       "                   rok              titul         autorstvo  autorstvo_kod  \\\n",
       "001                                                                          \n",
       "nkc20233551508  2023.0        Sudetenland         Kyša Leoš  mzk2009535134   \n",
       "nkc20233520063  2023.0   Na králův příkaz   Niedl František      xx0007788   \n",
       "nkc20243627800  2024.0    Když přišli psi  Wilková Scarlett      xx0067867   \n",
       "nkc20233521561  2023.0  Řeka pod hladinou       Kolář Pavel  js20051017096   \n",
       "nkc20233545026  2023.0   Zbabělí hrdinové     Bohatá Simona      xx0218158   \n",
       "\n",
       "                                                     008              020_a  \\\n",
       "001                                                                           \n",
       "nkc20233551508  231005s2023    xr     g      000 f cze d  978-80-277-2437-6   \n",
       "nkc20233520063    230510s2023    xr     g      000 f cze  978-80-279-0806-6   \n",
       "nkc20243627800    240905s2024    xr     g      000 f cze  978-80-267-2699-9   \n",
       "nkc20233521561    230905s2023    xr a   g      000 f cze  978-80-242-9212-0   \n",
       "nkc20233545026    230829s2023    xr     g      000 j cze  978-80-275-1596-7   \n",
       "\n",
       "                      020_c          020_q 041_a 041_h 041_ind1 044_a  \\\n",
       "001                                                                     \n",
       "nkc20233551508         None  [(brožováno)]  None  None     None  None   \n",
       "nkc20233520063         None     [(vázáno)]  None  None     None  None   \n",
       "nkc20243627800  [Kč 399,00]   [(vázáno) :]  None  None     None  None   \n",
       "nkc20233521561         None     [(vázáno)]  None  None     None  None   \n",
       "nkc20233545026         None     [(vázáno)]  None  None     None  None   \n",
       "\n",
       "                        072_a          072_x  \\\n",
       "001                                            \n",
       "nkc20233551508  [821.162.3-3]  [Česká próza]   \n",
       "nkc20233520063  [821.162.3-3]  [Česká próza]   \n",
       "nkc20243627800  [821.162.3-3]  [Česká próza]   \n",
       "nkc20233521561  [821.162.3-3]  [Česká próza]   \n",
       "nkc20233545026  [821.162.3-3]  [Česká próza]   \n",
       "\n",
       "                                                            080_a  100_4  \\\n",
       "001                                                                        \n",
       "nkc20233551508  [821.162.3-31, 94(437.3+430), 94-021.171, (0:8...  [aut]   \n",
       "nkc20233520063                       [821.162.3-31, (0:82-311.6)]  [aut]   \n",
       "nkc20243627800                       [821.162.3-31, (0:82-311.6)]  [aut]   \n",
       "nkc20233521561            [821.162.3-3, 531.11, 001.94, (0:82-3)]  [aut]   \n",
       "nkc20233545026                          [821.162.3-32, (0:82-32)]  [aut]   \n",
       "\n",
       "                        100_7               100_a  100_d 240_l  \\\n",
       "001                                                              \n",
       "nkc20233551508  mzk2009535134         Kyša, Leoš,  1979-  None   \n",
       "nkc20233520063      xx0007788   Niedl, František,  1949-  None   \n",
       "nkc20243627800      xx0067867  Wilková, Scarlett,  1969-  None   \n",
       "nkc20233521561  js20051017096       Kolář, Pavel,  1963-  None   \n",
       "nkc20233545026      xx0218158     Bohatá, Simona,  1965-  None   \n",
       "\n",
       "                              245_a             245_c 245_n 245_p 246_a  \\\n",
       "001                                                                       \n",
       "nkc20233551508        Sudetenland :         Leoš Kyša  None  None  None   \n",
       "nkc20233520063   Na králův příkaz /   František Niedl  None  None  None   \n",
       "nkc20243627800    Když přišli psi /  Scarlett Wilková  None  None  None   \n",
       "nkc20233521561  Řeka pod hladinou :       Pavel Kolář  None  None  None   \n",
       "nkc20233545026   Zbabělí hrdinové /     Simona Bohatá  None  None  None   \n",
       "\n",
       "                         250_a 250_b 260_a 260_b 260_c 260_e 260_f 260_ind1  \\\n",
       "001                                                                           \n",
       "nkc20233551508            None  None  None  None  None  None  None     None   \n",
       "nkc20233520063  [Vydání první]  None  None  None  None  None  None     None   \n",
       "nkc20243627800     [1. vydání]  None  None  None  None  None  None     None   \n",
       "nkc20233521561  [První vydání]  None  None  None  None  None  None     None   \n",
       "nkc20233545026  [První vydání]  None  None  None  None  None  None     None   \n",
       "\n",
       "                      264_a                264_b   264_c 264_ind2  \\\n",
       "001                                                                 \n",
       "nkc20233551508    [Praha :]  [Dobrovský s.r.o.,]  [2023]      [1]   \n",
       "nkc20233520063     [Brno :]              [MOBA,]  [2023]      [1]   \n",
       "nkc20243627800  [V Praze :]             [Motto,]  [2024]      [1]   \n",
       "nkc20233521561    [Praha :]   [Euromedia Group,]  [2023]      [1]   \n",
       "nkc20233545026     [Brno :]              [Host,]  [2023]      [1]   \n",
       "\n",
       "                        300_a                  300_b    300_c      490_a  \\\n",
       "001                                                                        \n",
       "nkc20233551508  [286 stran ;]                   None  [21 cm]  [Vendeta]   \n",
       "nkc20233520063  [270 stran ;]                   None  [21 cm]       None   \n",
       "nkc20243627800  [271 stran ;]                   None  [21 cm]       None   \n",
       "nkc20233521561  [367 stran :]  [barevné ilustrace ;]  [22 cm]       None   \n",
       "nkc20233545026  [198 stran ;]                   None  [21 cm]       None   \n",
       "\n",
       "               490_v                                              500_a 521_a  \\\n",
       "001                                                                             \n",
       "nkc20233551508  None                                               None  None   \n",
       "nkc20233520063  None                                               None  None   \n",
       "nkc20243627800  None                                               None  None   \n",
       "nkc20233521561  None  [\"Vydala Euromedia Group, a.s., v edici Kalibr...  None   \n",
       "nkc20233545026  None                                               None  None   \n",
       "\n",
       "                       546_a 648_a  \\\n",
       "001                                  \n",
       "nkc20233551508  [Český text]  None   \n",
       "nkc20233520063          None  None   \n",
       "nkc20243627800          None  None   \n",
       "nkc20233521561          None  None   \n",
       "nkc20233545026          None  None   \n",
       "\n",
       "                                                            650_a 650_x 650_y  \\\n",
       "001                                                                             \n",
       "nkc20233551508  [sudetoněmecká otázka, fiktivní dějiny, Sudete...  None  None   \n",
       "nkc20233520063                                               None  None  None   \n",
       "nkc20243627800                                               None  None  None   \n",
       "nkc20233521561  [cestování v čase, záhady, time travel, myster...  None  None   \n",
       "nkc20233545026                                               None  None  None   \n",
       "\n",
       "               650_z 651_a 653_a  \\\n",
       "001                                \n",
       "nkc20233551508  None  None  None   \n",
       "nkc20233520063  None  None  None   \n",
       "nkc20243627800  None  None  None   \n",
       "nkc20233521561  None  None  None   \n",
       "nkc20233545026  None  None  None   \n",
       "\n",
       "                                                            655_a 700_4 700_7  \\\n",
       "001                                                                             \n",
       "nkc20233551508                      [české romány, Czech fiction]  None  None   \n",
       "nkc20233520063  [české romány, historické romány, Czech fictio...  None  None   \n",
       "nkc20243627800  [české romány, historické romány, Czech fictio...  None  None   \n",
       "nkc20233521561                         [české prózy, Czech prose]  None  None   \n",
       "nkc20233545026               [české povídky, Czech short stories]  None  None   \n",
       "\n",
       "               700_a 700_d 710_4 710_7 710_a 710_b      830_a  \\\n",
       "001                                                             \n",
       "nkc20233551508  None  None  None  None  None  None  [Vendeta]   \n",
       "nkc20233520063  None  None  None  None  None  None       None   \n",
       "nkc20243627800  None  None  None  None  None  None       None   \n",
       "nkc20233521561  None  None  None  None  None  None       None   \n",
       "nkc20233545026  None  None  None  None  None  None       None   \n",
       "\n",
       "                                             928_a 964_a  \\\n",
       "001                                                        \n",
       "nkc20233551508                                None  None   \n",
       "nkc20233520063                                None  None   \n",
       "nkc20243627800            [Albatros Media - Motto]  None   \n",
       "nkc20233521561  [Euromedia Group - Kalibr, Kalibr]  None   \n",
       "nkc20233545026                                None  None   \n",
       "\n",
       "                                  leader           isbn w_gender  w_umrti  \\\n",
       "001                                                                         \n",
       "nkc20233551508       cam a22      i 4500  9788027724376      muž      NaN   \n",
       "nkc20233520063       nam a22      i 4500  9788027908066      muž      NaN   \n",
       "nkc20243627800       nam a22      i 4500  9788026726999     žena      NaN   \n",
       "nkc20233521561       nam a22      i 4500  9788024292120      muž      NaN   \n",
       "nkc20233545026       nam a22      i 4500  9788027515967     žena      NaN   \n",
       "\n",
       "               046_g   375_a  \n",
       "001                           \n",
       "nkc20233551508  None   [muž]  \n",
       "nkc20233520063  None   [muž]  \n",
       "nkc20243627800  None  [žena]  \n",
       "nkc20233521561  None    None  \n",
       "nkc20233545026  None  [žena]  "
      ]
     },
     "execution_count": 29,
     "metadata": {},
     "output_type": "execute_result"
    }
   ],
   "source": [
    "df.sample(5)"
   ]
  },
  {
   "cell_type": "code",
   "execution_count": 30,
   "id": "cab299f5-5ead-4298-b0a5-1a8ff390b551",
   "metadata": {},
   "outputs": [
    {
     "data": {
      "text/plain": [
       "1328"
      ]
     },
     "execution_count": 30,
     "metadata": {},
     "output_type": "execute_result"
    }
   ],
   "source": [
    "len(df)"
   ]
  },
  {
   "cell_type": "code",
   "execution_count": 31,
   "id": "ce30fee6-14b8-4ab6-8c7c-5e1f7248b74c",
   "metadata": {},
   "outputs": [
    {
     "data": {
      "text/plain": [
       "1279"
      ]
     },
     "execution_count": 31,
     "metadata": {},
     "output_type": "execute_result"
    }
   ],
   "source": [
    "len(df[df['w_gender'].notnull()])"
   ]
  },
  {
   "cell_type": "code",
   "execution_count": 32,
   "id": "159c0edb-5d47-4a39-a25c-67f272b42b4a",
   "metadata": {},
   "outputs": [],
   "source": [
    "def tri_gendery(trisedmpeta, gender_wikidata, autors):\n",
    "    z = None\n",
    "    if (str(autors).split(\" \")[0][-1] == 'á'):\n",
    "        z = 'á'\n",
    "    else:\n",
    "        z = 'neá'\n",
    "    if gender_wikidata in (['muž','žena']):\n",
    "        z = gender_wikidata\n",
    "    try:\n",
    "        for y in trisedmpeta:\n",
    "            z = y\n",
    "    except:\n",
    "        pass\n",
    "    return z"
   ]
  },
  {
   "cell_type": "code",
   "execution_count": 33,
   "id": "e27521d1-89ac-41ba-9a56-c77a65915320",
   "metadata": {},
   "outputs": [],
   "source": [
    "df['gender'] = df.apply(lambda row: tri_gendery(row['375_a'],row['w_gender'],row['autorstvo']), axis=1)"
   ]
  },
  {
   "cell_type": "code",
   "execution_count": 34,
   "id": "650c1477-0690-43d7-827f-de4341202a23",
   "metadata": {},
   "outputs": [
    {
     "data": {
      "text/html": [
       "<div>\n",
       "<style scoped>\n",
       "    .dataframe tbody tr th:only-of-type {\n",
       "        vertical-align: middle;\n",
       "    }\n",
       "\n",
       "    .dataframe tbody tr th {\n",
       "        vertical-align: top;\n",
       "    }\n",
       "\n",
       "    .dataframe thead th {\n",
       "        text-align: right;\n",
       "    }\n",
       "</style>\n",
       "<table border=\"1\" class=\"dataframe\">\n",
       "  <thead>\n",
       "    <tr style=\"text-align: right;\">\n",
       "      <th></th>\n",
       "      <th>autorstvo</th>\n",
       "      <th>w_gender</th>\n",
       "      <th>375_a</th>\n",
       "      <th>gender</th>\n",
       "    </tr>\n",
       "    <tr>\n",
       "      <th>001</th>\n",
       "      <th></th>\n",
       "      <th></th>\n",
       "      <th></th>\n",
       "      <th></th>\n",
       "    </tr>\n",
       "  </thead>\n",
       "  <tbody>\n",
       "    <tr>\n",
       "      <th>nkc20193162052</th>\n",
       "      <td>Vostrý Mirek</td>\n",
       "      <td>muž</td>\n",
       "      <td>[muž]</td>\n",
       "      <td>muž</td>\n",
       "    </tr>\n",
       "    <tr>\n",
       "      <th>nkc20193162055</th>\n",
       "      <td>Rollingerová-Riba Romana</td>\n",
       "      <td>žena</td>\n",
       "      <td>None</td>\n",
       "      <td>žena</td>\n",
       "    </tr>\n",
       "    <tr>\n",
       "      <th>nkc20193158977</th>\n",
       "      <td>Češka Stanislav</td>\n",
       "      <td>muž</td>\n",
       "      <td>[muž]</td>\n",
       "      <td>muž</td>\n",
       "    </tr>\n",
       "    <tr>\n",
       "      <th>nkc20193158538</th>\n",
       "      <td>Krčmář Milan</td>\n",
       "      <td>muž</td>\n",
       "      <td>None</td>\n",
       "      <td>muž</td>\n",
       "    </tr>\n",
       "    <tr>\n",
       "      <th>nkc20193158828</th>\n",
       "      <td>Vondruška Vlastimil</td>\n",
       "      <td>muž</td>\n",
       "      <td>[muž]</td>\n",
       "      <td>muž</td>\n",
       "    </tr>\n",
       "    <tr>\n",
       "      <th>...</th>\n",
       "      <td>...</td>\n",
       "      <td>...</td>\n",
       "      <td>...</td>\n",
       "      <td>...</td>\n",
       "    </tr>\n",
       "    <tr>\n",
       "      <th>nkc20243606884</th>\n",
       "      <td>Rývorová Alžběta</td>\n",
       "      <td>NaN</td>\n",
       "      <td>[žena]</td>\n",
       "      <td>žena</td>\n",
       "    </tr>\n",
       "    <tr>\n",
       "      <th>nkc20243607639</th>\n",
       "      <td>Sekerka Tomáš</td>\n",
       "      <td>muž</td>\n",
       "      <td>[muž]</td>\n",
       "      <td>muž</td>\n",
       "    </tr>\n",
       "    <tr>\n",
       "      <th>nkc20243607735</th>\n",
       "      <td>Pawlowská Halina</td>\n",
       "      <td>žena</td>\n",
       "      <td>None</td>\n",
       "      <td>žena</td>\n",
       "    </tr>\n",
       "    <tr>\n",
       "      <th>nkc20243607876</th>\n",
       "      <td>Shorf David</td>\n",
       "      <td>muž</td>\n",
       "      <td>[muž]</td>\n",
       "      <td>muž</td>\n",
       "    </tr>\n",
       "    <tr>\n",
       "      <th>nkc20243607607</th>\n",
       "      <td>Kořínek Václav</td>\n",
       "      <td>muž</td>\n",
       "      <td>[muž]</td>\n",
       "      <td>muž</td>\n",
       "    </tr>\n",
       "  </tbody>\n",
       "</table>\n",
       "<p>1328 rows × 4 columns</p>\n",
       "</div>"
      ],
      "text/plain": [
       "                               autorstvo w_gender   375_a gender\n",
       "001                                                             \n",
       "nkc20193162052              Vostrý Mirek      muž   [muž]    muž\n",
       "nkc20193162055  Rollingerová-Riba Romana     žena    None   žena\n",
       "nkc20193158977           Češka Stanislav      muž   [muž]    muž\n",
       "nkc20193158538              Krčmář Milan      muž    None    muž\n",
       "nkc20193158828       Vondruška Vlastimil      muž   [muž]    muž\n",
       "...                                  ...      ...     ...    ...\n",
       "nkc20243606884          Rývorová Alžběta      NaN  [žena]   žena\n",
       "nkc20243607639             Sekerka Tomáš      muž   [muž]    muž\n",
       "nkc20243607735          Pawlowská Halina     žena    None   žena\n",
       "nkc20243607876               Shorf David      muž   [muž]    muž\n",
       "nkc20243607607            Kořínek Václav      muž   [muž]    muž\n",
       "\n",
       "[1328 rows x 4 columns]"
      ]
     },
     "execution_count": 34,
     "metadata": {},
     "output_type": "execute_result"
    }
   ],
   "source": [
    "df[['autorstvo','w_gender','375_a','gender']]"
   ]
  },
  {
   "cell_type": "code",
   "execution_count": 35,
   "id": "2e286333-77fa-4e15-a94d-23a69b177d24",
   "metadata": {},
   "outputs": [
    {
     "data": {
      "text/html": [
       "<div>\n",
       "<style scoped>\n",
       "    .dataframe tbody tr th:only-of-type {\n",
       "        vertical-align: middle;\n",
       "    }\n",
       "\n",
       "    .dataframe tbody tr th {\n",
       "        vertical-align: top;\n",
       "    }\n",
       "\n",
       "    .dataframe thead th {\n",
       "        text-align: right;\n",
       "    }\n",
       "</style>\n",
       "<table border=\"1\" class=\"dataframe\">\n",
       "  <thead>\n",
       "    <tr style=\"text-align: right;\">\n",
       "      <th></th>\n",
       "      <th>autorstvo</th>\n",
       "      <th>w_gender</th>\n",
       "      <th>375_a</th>\n",
       "      <th>gender</th>\n",
       "    </tr>\n",
       "    <tr>\n",
       "      <th>001</th>\n",
       "      <th></th>\n",
       "      <th></th>\n",
       "      <th></th>\n",
       "      <th></th>\n",
       "    </tr>\n",
       "  </thead>\n",
       "  <tbody>\n",
       "  </tbody>\n",
       "</table>\n",
       "</div>"
      ],
      "text/plain": [
       "Empty DataFrame\n",
       "Columns: [autorstvo, w_gender, 375_a, gender]\n",
       "Index: []"
      ]
     },
     "execution_count": 35,
     "metadata": {},
     "output_type": "execute_result"
    }
   ],
   "source": [
    "df[df['gender'].isnull()][['autorstvo','w_gender','375_a','gender']]"
   ]
  },
  {
   "cell_type": "markdown",
   "id": "627c3fb0-54ca-4d0c-acb0-49a3e198de99",
   "metadata": {},
   "source": [
    "## Příprava knih"
   ]
  },
  {
   "cell_type": "code",
   "execution_count": 37,
   "id": "b2eb4e45-f2d5-42b1-aa4d-569d808a2646",
   "metadata": {},
   "outputs": [],
   "source": [
    "import simplemma"
   ]
  },
  {
   "cell_type": "code",
   "execution_count": 38,
   "id": "20523a67-6c74-4cd9-b0de-5c9b24f2f86a",
   "metadata": {},
   "outputs": [],
   "source": [
    "def remove_non_letters(input_string):\n",
    "        # Define an empty string to store our result\n",
    "        result_string = ''\n",
    "\n",
    "        # Loop through each character in the given string\n",
    "        for character in input_string:\n",
    "            # If the character is a letter or whitespace\n",
    "            if character.isalpha() or character.isspace():\n",
    "                # Include it in our result string\n",
    "                result_string += character\n",
    "\n",
    "        # Return the cleaned string\n",
    "        return result_string"
   ]
  },
  {
   "cell_type": "code",
   "execution_count": 39,
   "id": "58a6bc19-d0f1-4d73-9286-d746b4a6d87e",
   "metadata": {},
   "outputs": [],
   "source": [
    "ukazky = []\n",
    "for i in df[df['gender'].notnull()]['isbn'].to_list():\n",
    "    ukazka = {}\n",
    "    ukazka['isbn'] = i\n",
    "    with open(os.path.join(odkud, f\"{i}.txt\"), 'r', encoding='utf-8') as u:\n",
    "        text = remove_non_letters(u.read().lower().strip().replace('\\n',' ').replace('\\t','').replace('\\xa0',' '))\n",
    "        slova = []\n",
    "        ukazka['rozsah'] = len(text)\n",
    "        for t in [t for t in text.split(' ') if len(t) > 2]:\n",
    "            slova.append(simplemma.lemmatize(t, lang='cs'))\n",
    "        ukazka['slova'] = set(slova)\n",
    "        if len(set(slova)) > 50:\n",
    "            ukazky.append(ukazka)"
   ]
  },
  {
   "cell_type": "code",
   "execution_count": 40,
   "id": "f7fe2ac1-2e30-4d20-9769-03013301e7f4",
   "metadata": {},
   "outputs": [
    {
     "data": {
      "text/html": [
       "<div>\n",
       "<style scoped>\n",
       "    .dataframe tbody tr th:only-of-type {\n",
       "        vertical-align: middle;\n",
       "    }\n",
       "\n",
       "    .dataframe tbody tr th {\n",
       "        vertical-align: top;\n",
       "    }\n",
       "\n",
       "    .dataframe thead th {\n",
       "        text-align: right;\n",
       "    }\n",
       "</style>\n",
       "<table border=\"1\" class=\"dataframe\">\n",
       "  <thead>\n",
       "    <tr style=\"text-align: right;\">\n",
       "      <th></th>\n",
       "      <th>isbn</th>\n",
       "      <th>rozsah</th>\n",
       "      <th>slova</th>\n",
       "    </tr>\n",
       "  </thead>\n",
       "  <tbody>\n",
       "    <tr>\n",
       "      <th>920</th>\n",
       "      <td>9788076911239</td>\n",
       "      <td>50430</td>\n",
       "      <td>{nevinný, nic, mířit, Denisa, doprovod, spor, ...</td>\n",
       "    </tr>\n",
       "    <tr>\n",
       "      <th>419</th>\n",
       "      <td>9788072278640</td>\n",
       "      <td>55581</td>\n",
       "      <td>{chișinău, čísi, старобельск, milovaný, kulový...</td>\n",
       "    </tr>\n",
       "    <tr>\n",
       "      <th>742</th>\n",
       "      <td>9788025356746</td>\n",
       "      <td>17036</td>\n",
       "      <td>{koupelnička, maličká, nic, dostat, proměnit, ...</td>\n",
       "    </tr>\n",
       "    <tr>\n",
       "      <th>114</th>\n",
       "      <td>9788024388762</td>\n",
       "      <td>12666</td>\n",
       "      <td>{nic, oděrek, dostat, gumový, narovnat, pomoct...</td>\n",
       "    </tr>\n",
       "    <tr>\n",
       "      <th>191</th>\n",
       "      <td>9788090775404</td>\n",
       "      <td>43347</td>\n",
       "      <td>{obočím, společnost, nic, odhodlat, údiv, drah...</td>\n",
       "    </tr>\n",
       "  </tbody>\n",
       "</table>\n",
       "</div>"
      ],
      "text/plain": [
       "              isbn  rozsah                                              slova\n",
       "920  9788076911239   50430  {nevinný, nic, mířit, Denisa, doprovod, spor, ...\n",
       "419  9788072278640   55581  {chișinău, čísi, старобельск, milovaný, kulový...\n",
       "742  9788025356746   17036  {koupelnička, maličká, nic, dostat, proměnit, ...\n",
       "114  9788024388762   12666  {nic, oděrek, dostat, gumový, narovnat, pomoct...\n",
       "191  9788090775404   43347  {obočím, společnost, nic, odhodlat, údiv, drah..."
      ]
     },
     "execution_count": 40,
     "metadata": {},
     "output_type": "execute_result"
    }
   ],
   "source": [
    "mz = pd.DataFrame(ukazky)\n",
    "mz.sample(5)"
   ]
  },
  {
   "cell_type": "code",
   "execution_count": 41,
   "id": "4c2d980c-8f59-433b-995a-6151e6f3e0de",
   "metadata": {},
   "outputs": [],
   "source": [
    "mz = mz.merge(df[['isbn','gender','autorstvo_kod']], left_on='isbn', right_on='isbn', how='left')"
   ]
  },
  {
   "cell_type": "code",
   "execution_count": 42,
   "id": "0c82f636-4b6e-464f-a5f4-7a8450605018",
   "metadata": {},
   "outputs": [
    {
     "data": {
      "text/html": [
       "<div>\n",
       "<style scoped>\n",
       "    .dataframe tbody tr th:only-of-type {\n",
       "        vertical-align: middle;\n",
       "    }\n",
       "\n",
       "    .dataframe tbody tr th {\n",
       "        vertical-align: top;\n",
       "    }\n",
       "\n",
       "    .dataframe thead th {\n",
       "        text-align: right;\n",
       "    }\n",
       "</style>\n",
       "<table border=\"1\" class=\"dataframe\">\n",
       "  <thead>\n",
       "    <tr style=\"text-align: right;\">\n",
       "      <th></th>\n",
       "      <th>isbn</th>\n",
       "      <th>rozsah</th>\n",
       "      <th>slova</th>\n",
       "      <th>gender</th>\n",
       "      <th>autorstvo_kod</th>\n",
       "    </tr>\n",
       "  </thead>\n",
       "  <tbody>\n",
       "    <tr>\n",
       "      <th>0</th>\n",
       "      <td>9788088318057</td>\n",
       "      <td>18416</td>\n",
       "      <td>{spočítat, nevinný, přehoz, nic, nepomyslet, l...</td>\n",
       "      <td>muž</td>\n",
       "      <td>mzk2018995176</td>\n",
       "    </tr>\n",
       "    <tr>\n",
       "      <th>1</th>\n",
       "      <td>9788074872792</td>\n",
       "      <td>20802</td>\n",
       "      <td>{dosahovat, manifestovanou, fórman, společnost...</td>\n",
       "      <td>žena</td>\n",
       "      <td>jo20000075610</td>\n",
       "    </tr>\n",
       "    <tr>\n",
       "      <th>2</th>\n",
       "      <td>9788024389141</td>\n",
       "      <td>16962</td>\n",
       "      <td>{alkohol, nic, chytáme, nedaleko, dostat, lehč...</td>\n",
       "      <td>muž</td>\n",
       "      <td>xx0122614</td>\n",
       "    </tr>\n",
       "    <tr>\n",
       "      <th>3</th>\n",
       "      <td>9788026427896</td>\n",
       "      <td>110563</td>\n",
       "      <td>{společnost, nic, pouto, mířit, reálky, doprov...</td>\n",
       "      <td>muž</td>\n",
       "      <td>jo2012727454</td>\n",
       "    </tr>\n",
       "    <tr>\n",
       "      <th>4</th>\n",
       "      <td>9788024389059</td>\n",
       "      <td>20745</td>\n",
       "      <td>{nevinný, občasný, nic, mířit, spor, činění, p...</td>\n",
       "      <td>muž</td>\n",
       "      <td>xx0004129</td>\n",
       "    </tr>\n",
       "    <tr>\n",
       "      <th>...</th>\n",
       "      <td>...</td>\n",
       "      <td>...</td>\n",
       "      <td>...</td>\n",
       "      <td>...</td>\n",
       "      <td>...</td>\n",
       "    </tr>\n",
       "    <tr>\n",
       "      <th>1293</th>\n",
       "      <td>9788075886170</td>\n",
       "      <td>16377</td>\n",
       "      <td>{muzeum, století, společnost, nic, dostat, pro...</td>\n",
       "      <td>muž</td>\n",
       "      <td>jk01082907</td>\n",
       "    </tr>\n",
       "    <tr>\n",
       "      <th>1294</th>\n",
       "      <td>9788076951822</td>\n",
       "      <td>33056</td>\n",
       "      <td>{společnost, nic, vyprání, pouto, odnesla, pro...</td>\n",
       "      <td>muž</td>\n",
       "      <td>jo2006362253</td>\n",
       "    </tr>\n",
       "    <tr>\n",
       "      <th>1295</th>\n",
       "      <td>9788027913282</td>\n",
       "      <td>24751</td>\n",
       "      <td>{nevinný, nic, mířit, odnesla, nefungovalo, ma...</td>\n",
       "      <td>žena</td>\n",
       "      <td>mzk2002102588</td>\n",
       "    </tr>\n",
       "    <tr>\n",
       "      <th>1296</th>\n",
       "      <td>9788075886217</td>\n",
       "      <td>50270</td>\n",
       "      <td>{milovaný, společnost, nic, odhodlat, tubusu, ...</td>\n",
       "      <td>muž</td>\n",
       "      <td>xx0251298</td>\n",
       "    </tr>\n",
       "    <tr>\n",
       "      <th>1297</th>\n",
       "      <td>9788027742691</td>\n",
       "      <td>12455</td>\n",
       "      <td>{muzeum, vir, zachvacovat, vyučování, odhodlat...</td>\n",
       "      <td>muž</td>\n",
       "      <td>xx0189200</td>\n",
       "    </tr>\n",
       "  </tbody>\n",
       "</table>\n",
       "<p>1298 rows × 5 columns</p>\n",
       "</div>"
      ],
      "text/plain": [
       "               isbn  rozsah  \\\n",
       "0     9788088318057   18416   \n",
       "1     9788074872792   20802   \n",
       "2     9788024389141   16962   \n",
       "3     9788026427896  110563   \n",
       "4     9788024389059   20745   \n",
       "...             ...     ...   \n",
       "1293  9788075886170   16377   \n",
       "1294  9788076951822   33056   \n",
       "1295  9788027913282   24751   \n",
       "1296  9788075886217   50270   \n",
       "1297  9788027742691   12455   \n",
       "\n",
       "                                                  slova gender  autorstvo_kod  \n",
       "0     {spočítat, nevinný, přehoz, nic, nepomyslet, l...    muž  mzk2018995176  \n",
       "1     {dosahovat, manifestovanou, fórman, společnost...   žena  jo20000075610  \n",
       "2     {alkohol, nic, chytáme, nedaleko, dostat, lehč...    muž      xx0122614  \n",
       "3     {společnost, nic, pouto, mířit, reálky, doprov...    muž   jo2012727454  \n",
       "4     {nevinný, občasný, nic, mířit, spor, činění, p...    muž      xx0004129  \n",
       "...                                                 ...    ...            ...  \n",
       "1293  {muzeum, století, společnost, nic, dostat, pro...    muž     jk01082907  \n",
       "1294  {společnost, nic, vyprání, pouto, odnesla, pro...    muž   jo2006362253  \n",
       "1295  {nevinný, nic, mířit, odnesla, nefungovalo, ma...   žena  mzk2002102588  \n",
       "1296  {milovaný, společnost, nic, odhodlat, tubusu, ...    muž      xx0251298  \n",
       "1297  {muzeum, vir, zachvacovat, vyučování, odhodlat...    muž      xx0189200  \n",
       "\n",
       "[1298 rows x 5 columns]"
      ]
     },
     "execution_count": 42,
     "metadata": {},
     "output_type": "execute_result"
    }
   ],
   "source": [
    "mz"
   ]
  },
  {
   "cell_type": "markdown",
   "id": "befcb6ec-b6c6-48a1-a69e-11bc5e281f3a",
   "metadata": {},
   "source": [
    "## Základní statistiky (mužská slova >1, ženská slova <1)"
   ]
  },
  {
   "cell_type": "code",
   "execution_count": 44,
   "id": "19ffbc30-92ef-48e9-8dee-d64acf45ff64",
   "metadata": {},
   "outputs": [
    {
     "data": {
      "text/plain": [
       "588"
      ]
     },
     "execution_count": 44,
     "metadata": {},
     "output_type": "execute_result"
    }
   ],
   "source": [
    "len(mz[mz['gender'] == 'muž'])"
   ]
  },
  {
   "cell_type": "code",
   "execution_count": 45,
   "id": "35261856-d813-4734-86c1-af01751fd4a8",
   "metadata": {},
   "outputs": [
    {
     "data": {
      "text/plain": [
       "358"
      ]
     },
     "execution_count": 45,
     "metadata": {},
     "output_type": "execute_result"
    }
   ],
   "source": [
    "mz[mz['gender'] == 'muž']['autorstvo_kod'].nunique()"
   ]
  },
  {
   "cell_type": "code",
   "execution_count": 46,
   "id": "54ef2229-1b77-41df-8854-a6aa42c20dcc",
   "metadata": {},
   "outputs": [
    {
     "data": {
      "text/plain": [
       "676"
      ]
     },
     "execution_count": 46,
     "metadata": {},
     "output_type": "execute_result"
    }
   ],
   "source": [
    "len(mz[mz['gender'] == 'žena'])"
   ]
  },
  {
   "cell_type": "code",
   "execution_count": 47,
   "id": "6ee6367f-01cd-4709-8a99-2ec2d3e09f2a",
   "metadata": {},
   "outputs": [
    {
     "data": {
      "text/plain": [
       "426"
      ]
     },
     "execution_count": 47,
     "metadata": {},
     "output_type": "execute_result"
    }
   ],
   "source": [
    "mz[mz['gender'] == 'žena']['autorstvo_kod'].nunique()"
   ]
  },
  {
   "cell_type": "code",
   "execution_count": 48,
   "id": "4b9c15d4-55a4-42fe-86e4-fe739fdcfaee",
   "metadata": {},
   "outputs": [],
   "source": [
    "mz = mz.drop_duplicates(subset=['autorstvo_kod'], keep=\"last\")"
   ]
  },
  {
   "cell_type": "markdown",
   "id": "908ca628-72a4-497a-976d-16e91b9570a7",
   "metadata": {},
   "source": [
    "Rozsah zkoumaného textu v NS:"
   ]
  },
  {
   "cell_type": "code",
   "execution_count": 50,
   "id": "6480b039-dd7d-4538-ba75-f0082c4192ff",
   "metadata": {},
   "outputs": [
    {
     "data": {
      "text/plain": [
       "12571.615555555556"
      ]
     },
     "execution_count": 50,
     "metadata": {},
     "output_type": "execute_result"
    }
   ],
   "source": [
    "mz['rozsah'].sum() / 1800"
   ]
  },
  {
   "cell_type": "code",
   "execution_count": 51,
   "id": "0bf5705e-b547-422f-8d3b-8f6038edd90a",
   "metadata": {},
   "outputs": [
    {
     "data": {
      "text/plain": [
       "13"
      ]
     },
     "execution_count": 51,
     "metadata": {},
     "output_type": "execute_result"
    }
   ],
   "source": [
    "graf_rozsah = int((mz['rozsah'].sum() / 1800 / 1000).round())\n",
    "graf_rozsah"
   ]
  },
  {
   "cell_type": "code",
   "execution_count": 52,
   "id": "097670bb-ceab-49b4-b93b-d05b94ddc397",
   "metadata": {},
   "outputs": [
    {
     "data": {
      "text/plain": [
       "358"
      ]
     },
     "execution_count": 52,
     "metadata": {},
     "output_type": "execute_result"
    }
   ],
   "source": [
    "graf_muzi = mz[mz['gender'] == 'muž']['autorstvo_kod'].nunique()\n",
    "graf_muzi"
   ]
  },
  {
   "cell_type": "code",
   "execution_count": 53,
   "id": "c1a354d3-130f-4313-a8b5-101fb8ea012d",
   "metadata": {},
   "outputs": [
    {
     "data": {
      "text/plain": [
       "426"
      ]
     },
     "execution_count": 53,
     "metadata": {},
     "output_type": "execute_result"
    }
   ],
   "source": [
    "graf_zeny = mz[mz['gender'] == 'žena']['autorstvo_kod'].nunique()\n",
    "graf_zeny"
   ]
  },
  {
   "cell_type": "markdown",
   "id": "802a0cab-867b-427e-8dc1-9e3335f5b1be",
   "metadata": {},
   "source": [
    "Velikost vzorku celkem:"
   ]
  },
  {
   "cell_type": "code",
   "execution_count": 55,
   "id": "ad6f34a8-6ed2-45e6-a65e-cd99916c6df3",
   "metadata": {},
   "outputs": [
    {
     "data": {
      "text/plain": [
       "784"
      ]
     },
     "execution_count": 55,
     "metadata": {},
     "output_type": "execute_result"
    }
   ],
   "source": [
    "mz[mz['gender'] == 'muž']['autorstvo_kod'].nunique() +mz[mz['gender'] == 'žena']['autorstvo_kod'].nunique()"
   ]
  },
  {
   "cell_type": "code",
   "execution_count": 56,
   "id": "daea6080-e885-4a18-8485-093df78ddd75",
   "metadata": {},
   "outputs": [],
   "source": [
    "mz_slova = mz.explode('slova')"
   ]
  },
  {
   "cell_type": "code",
   "execution_count": 57,
   "id": "1909e549-27c2-48b8-b211-bf97378ae9e6",
   "metadata": {},
   "outputs": [],
   "source": [
    "kolik = mz_slova.groupby(\"slova\").size()"
   ]
  },
  {
   "cell_type": "code",
   "execution_count": 58,
   "id": "db888250-c546-4830-a4aa-b874cb36c61a",
   "metadata": {},
   "outputs": [
    {
     "data": {
      "text/plain": [
       "0.010      1.000\n",
       "0.020      1.000\n",
       "0.100      1.000\n",
       "0.500      1.000\n",
       "0.750      3.000\n",
       "0.900     10.000\n",
       "0.990    152.000\n",
       "0.999    619.886\n",
       "dtype: float64"
      ]
     },
     "execution_count": 58,
     "metadata": {},
     "output_type": "execute_result"
    }
   ],
   "source": [
    "kolik.quantile([0.01, 0.02, 0.1, 0.5, 0.75, 0.9, 0.99, 0.999])"
   ]
  },
  {
   "cell_type": "code",
   "execution_count": 59,
   "id": "8e1dfd59-f84b-4a79-9f3e-ba9c14346989",
   "metadata": {},
   "outputs": [
    {
     "data": {
      "text/plain": [
       "slova\n",
       "Abraham      4\n",
       "Abrahám      4\n",
       "Achilles     1\n",
       "Adam        62\n",
       "Adamec       2\n",
       "            ..\n",
       "שקרן         1\n",
       " září        1\n",
       "  pátek      1\n",
       " který       1\n",
       " patro       1\n",
       "Length: 154115, dtype: int64"
      ]
     },
     "execution_count": 59,
     "metadata": {},
     "output_type": "execute_result"
    }
   ],
   "source": [
    "kolik"
   ]
  },
  {
   "cell_type": "code",
   "execution_count": 60,
   "id": "91814ff7-c3d7-44a5-afa7-3586bf621008",
   "metadata": {},
   "outputs": [
    {
     "data": {
      "text/plain": [
       "48"
      ]
     },
     "execution_count": 60,
     "metadata": {},
     "output_type": "execute_result"
    }
   ],
   "source": [
    "hrana = int(kolik.quantile(0.97))\n",
    "hrana"
   ]
  },
  {
   "cell_type": "code",
   "execution_count": 169,
   "id": "3df66e02-093b-4dbe-8363-59f75f9f2c50",
   "metadata": {},
   "outputs": [
    {
     "name": "stdout",
     "output_type": "stream",
     "text": [
      "slova\n",
      "protočila      0.059497\n",
      "sedávat        0.066108\n",
      "drdol          0.079330\n",
      "převalovala    0.079330\n",
      "cpala          0.084996\n",
      "nebolelo       0.084996\n",
      "zamumlá        0.084996\n",
      "Gabriel        0.084996\n",
      "nezeptala      0.084996\n",
      "stesk          0.084996\n",
      "otrávená       0.091534\n",
      "hřebínek       0.091534\n",
      "poskládaný     0.091534\n",
      "sáru           0.091534\n",
      "zasměju        0.091534\n",
      "vstávala       0.091534\n",
      "zarytě         0.091534\n",
      "dojíždět       0.091534\n",
      "vdát           0.091534\n",
      "mělas          0.091534\n",
      "dtype: float64\n",
      "slova\n",
      "ucukl           11.899441\n",
      "odtržený        11.899441\n",
      "ráže            11.899441\n",
      "wwwargocz       11.899441\n",
      "Budějovice      11.899441\n",
      "brokovnice      11.899441\n",
      "long            11.899441\n",
      "nábojnice       13.089385\n",
      "vpravdě         13.089385\n",
      "eknihu          13.089385\n",
      "lepidlo         13.089385\n",
      "útočný          13.089385\n",
      "exil            13.089385\n",
      "zavedený        13.089385\n",
      "formátů         14.279330\n",
      "kolmo           14.279330\n",
      "komerční        15.469274\n",
      "rozvinutý       15.469274\n",
      "boxer           16.659218\n",
      "zpravodajský    19.039106\n",
      "dtype: float64\n"
     ]
    }
   ],
   "source": [
    "mz_vyfiltrovana = kolik[kolik >= 5].index.to_list()\n",
    "mz_filtr = mz_slova[mz_slova['slova'].isin(mz_vyfiltrovana)]\n",
    "z = mz_filtr[mz_filtr['gender'] == 'žena'].groupby('slova').size().reindex(mz_vyfiltrovana).fillna(1) / mz_filtr[mz_filtr['gender'] == 'žena']['isbn'].nunique()\n",
    "m = mz_filtr[mz_filtr['gender'] == 'muž'].groupby('slova').size().reindex(mz_vyfiltrovana).fillna(1) / mz_filtr[mz_filtr['gender'] == 'muž']['isbn'].nunique()\n",
    "pomer = m / z\n",
    "print(pomer.sort_values().head(20))\n",
    "print(pomer.sort_values().tail(20))"
   ]
  },
  {
   "cell_type": "code",
   "execution_count": 374,
   "id": "bda68a11-662f-4205-9630-3da1d6735a2f",
   "metadata": {},
   "outputs": [
    {
     "name": "stdout",
     "output_type": "stream",
     "text": [
      "slova\n",
      "protočila      0.059497\n",
      "sedávat        0.066108\n",
      "převalovala    0.079330\n",
      "drdol          0.079330\n",
      "nebolelo       0.084996\n",
      "Gabriel        0.084996\n",
      "stesk          0.084996\n",
      "cpala          0.084996\n",
      "zamumlá        0.084996\n",
      "nezeptala      0.084996\n",
      "zarytě         0.091534\n",
      "sáru           0.091534\n",
      "hřebínek       0.091534\n",
      "vdát           0.091534\n",
      "mělas          0.091534\n",
      "otrávená       0.091534\n",
      "poskládaný     0.091534\n",
      "zasměju        0.091534\n",
      "dojíždět       0.091534\n",
      "vstávala       0.091534\n",
      "dtype: float64\n",
      "slova\n",
      "chebu           11.899441\n",
      "brokovnice      11.899441\n",
      "milíčova        11.899441\n",
      "hokejista       11.899441\n",
      "ručit           11.899441\n",
      "vévoda          11.899441\n",
      "schválený       11.899441\n",
      "zavedený        13.089385\n",
      "vpravdě         13.089385\n",
      "útočný          13.089385\n",
      "lepidlo         13.089385\n",
      "nábojnice       13.089385\n",
      "eknihu          13.089385\n",
      "exil            13.089385\n",
      "formátů         14.279330\n",
      "kolmo           14.279330\n",
      "komerční        15.469274\n",
      "rozvinutý       15.469274\n",
      "boxer           16.659218\n",
      "zpravodajský    19.039106\n",
      "dtype: float64\n"
     ]
    }
   ],
   "source": [
    "mz_vyfiltrovana = kolik[kolik >= 10].index.to_list()\n",
    "mz_filtr = mz_slova[mz_slova['slova'].isin(mz_vyfiltrovana)]\n",
    "z = mz_filtr[mz_filtr['gender'] == 'žena'].groupby('slova').size().reindex(mz_vyfiltrovana).fillna(1) / mz_filtr[mz_filtr['gender'] == 'žena']['isbn'].nunique()\n",
    "m = mz_filtr[mz_filtr['gender'] == 'muž'].groupby('slova').size().reindex(mz_vyfiltrovana).fillna(1) / mz_filtr[mz_filtr['gender'] == 'muž']['isbn'].nunique()\n",
    "pomer = m / z\n",
    "print(pomer.sort_values().head(20))\n",
    "print(pomer.sort_values().tail(20))\n",
    "pomer.sort_values().to_csv(\"data/muzska_zenska_slova_10+.csv\")"
   ]
  },
  {
   "cell_type": "code",
   "execution_count": 376,
   "id": "7491db7b-03c1-40ae-b47e-a1acb4f58e06",
   "metadata": {},
   "outputs": [
    {
     "name": "stdout",
     "output_type": "stream",
     "text": [
      "slova\n",
      "protočila      0.059497\n",
      "pleso          0.099162\n",
      "kosmetička     0.108177\n",
      "nebála         0.118994\n",
      "díkybohu       0.125257\n",
      "rtěnku         0.132216\n",
      "kadeřník       0.148743\n",
      "okřikla        0.162265\n",
      "vykulila       0.169992\n",
      "odfrkla        0.176288\n",
      "myčka          0.176288\n",
      "převléct       0.178492\n",
      "zalíbený       0.178492\n",
      "zabouchla      0.183068\n",
      "babi           0.185102\n",
      "snila          0.185929\n",
      "nedivila       0.187886\n",
      "odhodlaná      0.187886\n",
      "zvala          0.198324\n",
      "ptají          0.198324\n",
      "zrudnout       0.205163\n",
      "natahuje       0.206947\n",
      "nakloní        0.212490\n",
      "mateřství      0.223115\n",
      "rýpat          0.223115\n",
      "netušila       0.224767\n",
      "zamrkala       0.225125\n",
      "stýská         0.226656\n",
      "výstřihu       0.226656\n",
      "zajela         0.226656\n",
      "pozdravovat    0.226656\n",
      "ječela         0.226656\n",
      "rtěnkou        0.226656\n",
      "ležérně        0.226656\n",
      "opáčila        0.230312\n",
      "culík          0.230312\n",
      "ramínko        0.232184\n",
      "nesměla        0.237989\n",
      "slivovice      0.237989\n",
      "vyzvídat       0.237989\n",
      "dtype: float64\n",
      "slova\n",
      "ďábelský             3.569832\n",
      "fabrika              3.739824\n",
      "kabině               3.768156\n",
      "železniční           3.768156\n",
      "pilot                3.807821\n",
      "vybídl               3.807821\n",
      "vypálil              3.807821\n",
      "přisunul             3.807821\n",
      "rozhodující          3.807821\n",
      "výuky                3.807821\n",
      "mocnit               3.867318\n",
      "podnět               3.867318\n",
      "otázal               3.909816\n",
      "působení             3.966480\n",
      "poslanec             3.966480\n",
      "nalézt               4.016061\n",
      "investovat           4.079808\n",
      "křesťan              4.164804\n",
      "ministr              4.230912\n",
      "génius               4.249800\n",
      "Karlov               4.249800\n",
      "spodek               4.283799\n",
      "močit                4.363128\n",
      "charakteristický     4.363128\n",
      "puška                4.495345\n",
      "krajský              4.521788\n",
      "nadaný               4.759777\n",
      "jízdní               4.759777\n",
      "měřítko              4.759777\n",
      "hltal                4.759777\n",
      "norma                4.759777\n",
      "přisvědčil           4.759777\n",
      "aparát               4.929769\n",
      "kabiny               4.997765\n",
      "kanada               5.057263\n",
      "demokracie           5.354749\n",
      "básník               5.473743\n",
      "člun                 6.743017\n",
      "nabitý               7.139665\n",
      "prapor              10.709497\n",
      "dtype: float64\n"
     ]
    }
   ],
   "source": [
    "mz_vyfiltrovana = kolik[kolik >= 20].index.to_list()\n",
    "mz_filtr = mz_slova[mz_slova['slova'].isin(mz_vyfiltrovana)]\n",
    "z = mz_filtr[mz_filtr['gender'] == 'žena'].groupby('slova').size().reindex(mz_vyfiltrovana).fillna(1) / mz_filtr[mz_filtr['gender'] == 'žena']['isbn'].nunique()\n",
    "m = mz_filtr[mz_filtr['gender'] == 'muž'].groupby('slova').size().reindex(mz_vyfiltrovana).fillna(1) / mz_filtr[mz_filtr['gender'] == 'muž']['isbn'].nunique()\n",
    "pomer = m / z\n",
    "print(pomer.sort_values().head(40))\n",
    "print(pomer.sort_values().tail(40))\n",
    "pomer.sort_values().to_csv(\"data/muzska_zenska_slova_20+.csv\")"
   ]
  },
  {
   "cell_type": "code",
   "execution_count": 378,
   "id": "bd2e0975-dd50-49c9-95fd-6fd628c1083b",
   "metadata": {},
   "outputs": [
    {
     "name": "stdout",
     "output_type": "stream",
     "text": [
      "slova\n",
      "netušila      0.224767\n",
      "kamarádka     0.336777\n",
      "ptala         0.349223\n",
      "četla         0.392797\n",
      "sukně         0.411904\n",
      "brečet        0.466645\n",
      "neřekla       0.471265\n",
      "růžový        0.507189\n",
      "hrnek         0.509976\n",
      "vyhovovat     0.517367\n",
      "kabelka       0.519018\n",
      "manželství    0.523575\n",
      "naštvaný      0.528864\n",
      "hladit        0.528864\n",
      "zvědavě       0.532343\n",
      "trapný        0.533423\n",
      "mléko         0.534806\n",
      "kavárna       0.536129\n",
      "vařit         0.542984\n",
      "klín          0.548001\n",
      "dtype: float64\n",
      "slova\n",
      "útok         1.784916\n",
      "obsahovat    1.811960\n",
      "národní      1.813248\n",
      "stavba       1.830683\n",
      "kostel       1.832136\n",
      "dílo         1.844413\n",
      "údolí        1.847545\n",
      "autor        1.874162\n",
      "výkon        1.891706\n",
      "nepřítel     1.894197\n",
      "moce         1.933659\n",
      "úder         1.963408\n",
      "dějiny       1.983240\n",
      "vojenský     2.103157\n",
      "armáda       2.105286\n",
      "Evropa       2.156774\n",
      "loď          2.219085\n",
      "státní       2.277893\n",
      "vražda       2.318865\n",
      "motor        2.473831\n",
      "dtype: float64\n"
     ]
    }
   ],
   "source": [
    "mz_vyfiltrovana = kolik[kolik >= 100].index.to_list()\n",
    "mz_filtr = mz_slova[mz_slova['slova'].isin(mz_vyfiltrovana)]\n",
    "z = mz_filtr[mz_filtr['gender'] == 'žena'].groupby('slova').size().reindex(mz_vyfiltrovana).fillna(1) / mz_filtr[mz_filtr['gender'] == 'žena']['isbn'].nunique()\n",
    "m = mz_filtr[mz_filtr['gender'] == 'muž'].groupby('slova').size().reindex(mz_vyfiltrovana).fillna(1) / mz_filtr[mz_filtr['gender'] == 'muž']['isbn'].nunique()\n",
    "pomer = m / z\n",
    "print(pomer.sort_values().head(20))\n",
    "print(pomer.sort_values().tail(20))\n",
    "pomer.sort_values().to_csv(\"data/muzska_zenska_slova_100+.csv\")"
   ]
  },
  {
   "cell_type": "code",
   "execution_count": 380,
   "id": "6cb44a88-c4f3-452b-9c7a-2b4267ff49e9",
   "metadata": {},
   "outputs": [
    {
     "name": "stdout",
     "output_type": "stream",
     "text": [
      "slova\n",
      "babi           0.185102\n",
      "netušila       0.224767\n",
      "zahlédla       0.244091\n",
      "užívala        0.278498\n",
      "nečekala       0.278893\n",
      "lekla          0.283320\n",
      "pyžamo         0.284552\n",
      "salát          0.297486\n",
      "neuměla        0.303319\n",
      "rozhlížela     0.319253\n",
      "ucítila        0.322985\n",
      "kamarádka      0.336777\n",
      "ptala          0.349223\n",
      "nestihla       0.354451\n",
      "miminko        0.356983\n",
      "obývací        0.374612\n",
      "přejela        0.376816\n",
      "objímat        0.380121\n",
      "rande          0.381680\n",
      "zadívala       0.383853\n",
      "vyhrkla        0.388025\n",
      "mamka          0.388025\n",
      "četla          0.392797\n",
      "chystala       0.396648\n",
      "ordinace       0.407086\n",
      "povytáhnout    0.407086\n",
      "sukně          0.411904\n",
      "příšerně       0.413894\n",
      "ušklíbla       0.419980\n",
      "svačina        0.424980\n",
      "nešla          0.428380\n",
      "čokoláda       0.429160\n",
      "nalila         0.435345\n",
      "taneční        0.437122\n",
      "zasyčet        0.437122\n",
      "zamilovaný     0.437479\n",
      "koláč          0.439762\n",
      "chytla         0.439762\n",
      "sexy           0.439762\n",
      "milá           0.440720\n",
      "dtype: float64\n",
      "slova\n",
      "poctivý          2.254631\n",
      "vnější           2.260894\n",
      "státní           2.277893\n",
      "příslušník       2.280726\n",
      "lebka            2.280726\n",
      "zóna             2.309892\n",
      "vesta            2.313780\n",
      "bezpečnost       2.317260\n",
      "vražda           2.318865\n",
      "isbn             2.335816\n",
      "zápas            2.379888\n",
      "hlášený          2.379888\n",
      "znak             2.379888\n",
      "vyhrkl           2.379888\n",
      "smrtelný         2.427486\n",
      "technický        2.429469\n",
      "vývoj            2.436552\n",
      "riziko           2.439385\n",
      "komín            2.445996\n",
      "západní          2.468032\n",
      "motor            2.473831\n",
      "posléze          2.498883\n",
      "hlídka           2.498883\n",
      "služebný         2.498883\n",
      "kapitán          2.502986\n",
      "zvláště          2.512104\n",
      "civilizace       2.542153\n",
      "ohrozit          2.589878\n",
      "zaregistrovat    2.603003\n",
      "střílet          2.663208\n",
      "politik          2.677374\n",
      "souboj           2.693031\n",
      "velet            2.697207\n",
      "vůl              2.751746\n",
      "kulka            2.776536\n",
      "nepříliš         2.799869\n",
      "kladivo          2.855866\n",
      "ruský            3.068803\n",
      "prezident        3.219849\n",
      "pistole          3.490503\n",
      "dtype: float64\n"
     ]
    }
   ],
   "source": [
    "mz_vyfiltrovana = kolik[kolik >= 50].index.to_list()\n",
    "mz_filtr = mz_slova[mz_slova['slova'].isin(mz_vyfiltrovana)]\n",
    "z = mz_filtr[mz_filtr['gender'] == 'žena'].groupby('slova').size().reindex(mz_vyfiltrovana).fillna(1) / mz_filtr[mz_filtr['gender'] == 'žena']['isbn'].nunique()\n",
    "m = mz_filtr[mz_filtr['gender'] == 'muž'].groupby('slova').size().reindex(mz_vyfiltrovana).fillna(1) / mz_filtr[mz_filtr['gender'] == 'muž']['isbn'].nunique()\n",
    "pomer = m / z\n",
    "print(pomer.sort_values().head(40))\n",
    "print(pomer.sort_values().tail(40))\n",
    "pomer.sort_values().to_csv(\"data/muzska_zenska_slova_50+.csv\")"
   ]
  },
  {
   "cell_type": "markdown",
   "id": "074c19de-f4cd-40a1-ae8e-dd6e60fdb0ab",
   "metadata": {},
   "source": [
    "## Všechna slova bez filtru"
   ]
  },
  {
   "cell_type": "code",
   "execution_count": 86,
   "id": "62ae819a-14cf-4a0c-825d-cce0d0fbf292",
   "metadata": {},
   "outputs": [],
   "source": [
    "z2 = mz[mz['gender'] == 'žena'].explode('slova').groupby('slova').size() / mz_filtr[mz_filtr['gender'] == 'žena']['isbn'].nunique()\n",
    "m2 = mz[mz['gender'] == 'muž'].explode('slova').groupby('slova').size() / mz_filtr[mz_filtr['gender'] == 'muž']['isbn'].nunique()"
   ]
  },
  {
   "cell_type": "code",
   "execution_count": 87,
   "id": "9a9fd9d9-24d8-4a7b-9e6a-f2f8c2d080fe",
   "metadata": {},
   "outputs": [],
   "source": [
    "pomer_vsech = m2 / z2"
   ]
  },
  {
   "cell_type": "code",
   "execution_count": 88,
   "id": "e03cf298-3327-418c-953f-abb4f88a5ed3",
   "metadata": {},
   "outputs": [
    {
     "data": {
      "text/plain": [
       "slova\n",
       "protočila      0.059497\n",
       "sedávat        0.066108\n",
       "drdol          0.079330\n",
       "převalovala    0.079330\n",
       "stesk          0.084996\n",
       "Gabriel        0.084996\n",
       "nebolelo       0.084996\n",
       "cpala          0.084996\n",
       "zamumlá        0.084996\n",
       "nezeptala      0.084996\n",
       "dojíždět       0.091534\n",
       "hřebínek       0.091534\n",
       "otrávená       0.091534\n",
       "vstávala       0.091534\n",
       "poskládaný     0.091534\n",
       "zasměju        0.091534\n",
       "mělas          0.091534\n",
       "míša           0.099162\n",
       "malinké        0.099162\n",
       "uvázala        0.099162\n",
       "dtype: float64"
      ]
     },
     "execution_count": 88,
     "metadata": {},
     "output_type": "execute_result"
    }
   ],
   "source": [
    "pomer_vsech.dropna().sort_values().head(20)"
   ]
  },
  {
   "cell_type": "code",
   "execution_count": 89,
   "id": "828502ff-9550-406b-9fa8-38605084ba97",
   "metadata": {},
   "outputs": [
    {
     "data": {
      "text/plain": [
       "slova\n",
       "erekce    9.519553\n",
       "dtype: float64"
      ]
     },
     "execution_count": 89,
     "metadata": {},
     "output_type": "execute_result"
    }
   ],
   "source": [
    "pomer_vsech[pomer_vsech.index == 'erekce']"
   ]
  },
  {
   "cell_type": "code",
   "execution_count": 137,
   "id": "0df99404-3929-46c1-8474-ce14c7d28685",
   "metadata": {},
   "outputs": [
    {
     "data": {
      "text/plain": [
       "slova\n",
       "orgasmus    0.892458\n",
       "dtype: float64"
      ]
     },
     "execution_count": 137,
     "metadata": {},
     "output_type": "execute_result"
    }
   ],
   "source": [
    "pomer_vsech[pomer_vsech.index == 'orgasmus']"
   ]
  },
  {
   "cell_type": "code",
   "execution_count": 139,
   "id": "be9b2ca5-d92e-4eaa-86e7-94140ed16fb8",
   "metadata": {},
   "outputs": [
    {
     "data": {
      "text/plain": [
       "slova\n",
       "pohlazení    0.549205\n",
       "dtype: float64"
      ]
     },
     "execution_count": 139,
     "metadata": {},
     "output_type": "execute_result"
    }
   ],
   "source": [
    "pomer_vsech[pomer_vsech.index == 'pohlazení']"
   ]
  },
  {
   "cell_type": "code",
   "execution_count": 141,
   "id": "38fb9751-8856-434d-873c-9fd18f7913b6",
   "metadata": {},
   "outputs": [
    {
     "data": {
      "text/plain": [
       "slova\n",
       "svázat    0.618771\n",
       "dtype: float64"
      ]
     },
     "execution_count": 141,
     "metadata": {},
     "output_type": "execute_result"
    }
   ],
   "source": [
    "pomer_vsech[pomer_vsech.index == 'svázat']"
   ]
  },
  {
   "cell_type": "code",
   "execution_count": 143,
   "id": "4d740065-60cb-45e8-88d5-887e290144ed",
   "metadata": {},
   "outputs": [
    {
     "data": {
      "text/plain": [
       "slova\n",
       "výprask    1.189944\n",
       "dtype: float64"
      ]
     },
     "execution_count": 143,
     "metadata": {},
     "output_type": "execute_result"
    }
   ],
   "source": [
    "pomer_vsech[pomer_vsech.index == 'výprask']"
   ]
  },
  {
   "cell_type": "code",
   "execution_count": 145,
   "id": "035bbb69-9a33-4871-a357-f64685dfbea1",
   "metadata": {},
   "outputs": [
    {
     "data": {
      "text/plain": [
       "slova\n",
       "naplácat    2.97486\n",
       "dtype: float64"
      ]
     },
     "execution_count": 145,
     "metadata": {},
     "output_type": "execute_result"
    }
   ],
   "source": [
    "pomer_vsech[pomer_vsech.index == 'naplácat']"
   ]
  },
  {
   "cell_type": "code",
   "execution_count": 352,
   "id": "dd1a01d0-379a-4e39-893f-4f36ab27873d",
   "metadata": {},
   "outputs": [
    {
     "data": {
      "text/plain": [
       "slova\n",
       "hnědooký    1.784916\n",
       "dtype: float64"
      ]
     },
     "execution_count": 352,
     "metadata": {},
     "output_type": "execute_result"
    }
   ],
   "source": [
    "pomer_vsech[pomer_vsech.index == 'hnědooký']"
   ]
  },
  {
   "cell_type": "code",
   "execution_count": 356,
   "id": "7b2c935e-9806-4799-9e57-5c7397491090",
   "metadata": {},
   "outputs": [
    {
     "data": {
      "text/plain": [
       "slova\n",
       "modrooký    0.743715\n",
       "dtype: float64"
      ]
     },
     "execution_count": 356,
     "metadata": {},
     "output_type": "execute_result"
    }
   ],
   "source": [
    "pomer_vsech[pomer_vsech.index == 'modrooký']"
   ]
  },
  {
   "cell_type": "code",
   "execution_count": 368,
   "id": "cfc5d217-8148-4863-8d28-17ab9da0fec2",
   "metadata": {},
   "outputs": [
    {
     "data": {
      "text/plain": [
       "slova\n",
       "plešatý    0.634637\n",
       "dtype: float64"
      ]
     },
     "execution_count": 368,
     "metadata": {},
     "output_type": "execute_result"
    }
   ],
   "source": [
    "pomer_vsech[pomer_vsech.index == 'plešatý']"
   ]
  },
  {
   "cell_type": "code",
   "execution_count": 372,
   "id": "a60c0def-071b-4a54-b8e3-21f1552772be",
   "metadata": {},
   "outputs": [
    {
     "data": {
      "text/plain": [
       "slova\n",
       "holohlavý    3.569832\n",
       "dtype: float64"
      ]
     },
     "execution_count": 372,
     "metadata": {},
     "output_type": "execute_result"
    }
   ],
   "source": [
    "pomer_vsech[pomer_vsech.index == 'holohlavý']"
   ]
  },
  {
   "cell_type": "code",
   "execution_count": 90,
   "id": "11dfab81-40d0-46e5-b47d-79cf879fab28",
   "metadata": {},
   "outputs": [
    {
     "data": {
      "text/plain": [
       "slova\n",
       "sex    0.909957\n",
       "dtype: float64"
      ]
     },
     "execution_count": 90,
     "metadata": {},
     "output_type": "execute_result"
    }
   ],
   "source": [
    "pomer_vsech[pomer_vsech.index == 'sex']"
   ]
  },
  {
   "cell_type": "code",
   "execution_count": 382,
   "id": "65cb3042-017d-445d-883c-4f8c73bf26e1",
   "metadata": {},
   "outputs": [
    {
     "data": {
      "text/plain": [
       "slova\n",
       "fiat    2.379888\n",
       "dtype: float64"
      ]
     },
     "execution_count": 382,
     "metadata": {},
     "output_type": "execute_result"
    }
   ],
   "source": [
    "pomer_vsech[pomer_vsech.index == 'fiat']"
   ]
  },
  {
   "cell_type": "code",
   "execution_count": 384,
   "id": "048f9762-80f4-4b00-80af-12ce67454d2c",
   "metadata": {},
   "outputs": [
    {
     "data": {
      "text/plain": [
       "slova\n",
       "kunda    2.379888\n",
       "dtype: float64"
      ]
     },
     "execution_count": 384,
     "metadata": {},
     "output_type": "execute_result"
    }
   ],
   "source": [
    "pomer_vsech[pomer_vsech.index == 'kunda']"
   ]
  },
  {
   "cell_type": "code",
   "execution_count": 386,
   "id": "8b717ef3-53a1-41d0-b9b7-e82406f7d8df",
   "metadata": {},
   "outputs": [
    {
     "data": {
      "text/plain": [
       "slova\n",
       "prdel    1.298121\n",
       "dtype: float64"
      ]
     },
     "execution_count": 386,
     "metadata": {},
     "output_type": "execute_result"
    }
   ],
   "source": [
    "pomer_vsech[pomer_vsech.index == 'prdel']"
   ]
  },
  {
   "cell_type": "code",
   "execution_count": 388,
   "id": "6b3da330-5246-4255-b0db-d4126fec61ef",
   "metadata": {},
   "outputs": [
    {
     "data": {
      "text/plain": [
       "slova\n",
       "hovno    1.15863\n",
       "dtype: float64"
      ]
     },
     "execution_count": 388,
     "metadata": {},
     "output_type": "execute_result"
    }
   ],
   "source": [
    "pomer_vsech[pomer_vsech.index == 'hovno']"
   ]
  },
  {
   "cell_type": "code",
   "execution_count": 396,
   "id": "001e5729-8fb7-4193-a240-393262a3a0b8",
   "metadata": {},
   "outputs": [
    {
     "data": {
      "text/plain": [
       "slova\n",
       "čurák    2.97486\n",
       "dtype: float64"
      ]
     },
     "execution_count": 396,
     "metadata": {},
     "output_type": "execute_result"
    }
   ],
   "source": [
    "pomer_vsech[pomer_vsech.index == 'čurák']"
   ]
  },
  {
   "cell_type": "code",
   "execution_count": 398,
   "id": "5620d237-6038-443f-90d7-70f9dd1d73d7",
   "metadata": {},
   "outputs": [
    {
     "data": {
      "text/plain": [
       "Series([], dtype: float64)"
      ]
     },
     "execution_count": 398,
     "metadata": {},
     "output_type": "execute_result"
    }
   ],
   "source": [
    "pomer_vsech[pomer_vsech.index == 'čůrák']"
   ]
  },
  {
   "cell_type": "code",
   "execution_count": 400,
   "id": "560bdcf7-ef42-46fd-a95b-160489adc480",
   "metadata": {},
   "outputs": [
    {
     "data": {
      "text/plain": [
       "slova\n",
       "svině    7.139665\n",
       "dtype: float64"
      ]
     },
     "execution_count": 400,
     "metadata": {},
     "output_type": "execute_result"
    }
   ],
   "source": [
    "pomer_vsech[pomer_vsech.index == 'svině']"
   ]
  },
  {
   "cell_type": "code",
   "execution_count": 402,
   "id": "82561c28-28b5-43fe-bbda-8229970925d3",
   "metadata": {},
   "outputs": [
    {
     "data": {
      "text/plain": [
       "slova\n",
       "hajzl    1.229609\n",
       "dtype: float64"
      ]
     },
     "execution_count": 402,
     "metadata": {},
     "output_type": "execute_result"
    }
   ],
   "source": [
    "pomer_vsech[pomer_vsech.index == 'hajzl']"
   ]
  },
  {
   "cell_type": "code",
   "execution_count": 404,
   "id": "94dc9e51-5f1d-446b-9b2a-2d925477dc92",
   "metadata": {},
   "outputs": [
    {
     "data": {
      "text/plain": [
       "slova\n",
       "šmejd    4.462291\n",
       "dtype: float64"
      ]
     },
     "execution_count": 404,
     "metadata": {},
     "output_type": "execute_result"
    }
   ],
   "source": [
    "pomer_vsech[pomer_vsech.index == 'šmejd']"
   ]
  },
  {
   "cell_type": "code",
   "execution_count": 406,
   "id": "4f7eb3a7-bfce-4e17-9740-74188c9274ed",
   "metadata": {},
   "outputs": [
    {
     "data": {
      "text/plain": [
       "slova\n",
       "potvora    0.699967\n",
       "dtype: float64"
      ]
     },
     "execution_count": 406,
     "metadata": {},
     "output_type": "execute_result"
    }
   ],
   "source": [
    "pomer_vsech[pomer_vsech.index == 'potvora']"
   ]
  },
  {
   "cell_type": "code",
   "execution_count": 408,
   "id": "f18096ea-ffee-4d5f-b826-afacd79be1a3",
   "metadata": {},
   "outputs": [
    {
     "data": {
      "text/plain": [
       "slova\n",
       "píča    1.665922\n",
       "dtype: float64"
      ]
     },
     "execution_count": 408,
     "metadata": {},
     "output_type": "execute_result"
    }
   ],
   "source": [
    "pomer_vsech[pomer_vsech.index == 'píča']"
   ]
  },
  {
   "cell_type": "code",
   "execution_count": 410,
   "id": "d695a6b4-d38c-46ee-b696-58b9a0034f91",
   "metadata": {},
   "outputs": [
    {
     "data": {
      "text/plain": [
       "slova\n",
       "piča    0.892458\n",
       "dtype: float64"
      ]
     },
     "execution_count": 410,
     "metadata": {},
     "output_type": "execute_result"
    }
   ],
   "source": [
    "pomer_vsech[pomer_vsech.index == 'piča']"
   ]
  },
  {
   "cell_type": "code",
   "execution_count": 432,
   "id": "545b106e-4a10-44d6-bc90-82ac6e34e68d",
   "metadata": {},
   "outputs": [
    {
     "data": {
      "text/plain": [
       "slova\n",
       "lojza   NaN\n",
       "dtype: float64"
      ]
     },
     "execution_count": 432,
     "metadata": {},
     "output_type": "execute_result"
    }
   ],
   "source": [
    "pomer_vsech[pomer_vsech.index == 'lojza']"
   ]
  },
  {
   "cell_type": "code",
   "execution_count": 434,
   "id": "0c35124a-cc60-4e89-9b20-461c78b8586c",
   "metadata": {},
   "outputs": [
    {
     "data": {
      "text/plain": [
       "slova\n",
       "káča    0.64906\n",
       "dtype: float64"
      ]
     },
     "execution_count": 434,
     "metadata": {},
     "output_type": "execute_result"
    }
   ],
   "source": [
    "pomer_vsech[pomer_vsech.index == 'káča']"
   ]
  },
  {
   "cell_type": "code",
   "execution_count": 440,
   "id": "e724c50f-9733-4b5c-b9a8-983a0af6e379",
   "metadata": {},
   "outputs": [
    {
     "data": {
      "text/plain": [
       "slova\n",
       "blbec    0.853656\n",
       "dtype: float64"
      ]
     },
     "execution_count": 440,
     "metadata": {},
     "output_type": "execute_result"
    }
   ],
   "source": [
    "pomer_vsech[pomer_vsech.index == 'blbec']"
   ]
  },
  {
   "cell_type": "code",
   "execution_count": 438,
   "id": "0255b6e7-9c65-4191-a004-de0bf75dbd49",
   "metadata": {},
   "outputs": [
    {
     "data": {
      "text/plain": [
       "slova\n",
       "magor    1.189944\n",
       "dtype: float64"
      ]
     },
     "execution_count": 438,
     "metadata": {},
     "output_type": "execute_result"
    }
   ],
   "source": [
    "pomer_vsech[pomer_vsech.index == 'magor']"
   ]
  },
  {
   "cell_type": "code",
   "execution_count": 436,
   "id": "3da372c8-9c37-46ba-a5af-94838dbbbb4d",
   "metadata": {},
   "outputs": [
    {
     "data": {
      "text/plain": [
       "slova\n",
       "cápek   NaN\n",
       "dtype: float64"
      ]
     },
     "execution_count": 436,
     "metadata": {},
     "output_type": "execute_result"
    }
   ],
   "source": [
    "pomer_vsech[pomer_vsech.index == 'cápek']"
   ]
  },
  {
   "cell_type": "code",
   "execution_count": 416,
   "id": "7164aab4-6d50-49f3-964b-f4c86099496e",
   "metadata": {},
   "outputs": [
    {
     "data": {
      "text/plain": [
       "slova\n",
       "kráva    0.84996\n",
       "dtype: float64"
      ]
     },
     "execution_count": 416,
     "metadata": {},
     "output_type": "execute_result"
    }
   ],
   "source": [
    "pomer_vsech[pomer_vsech.index == 'kráva']"
   ]
  },
  {
   "cell_type": "code",
   "execution_count": 418,
   "id": "de0ed5b0-da28-4bb9-9f84-1f3318537d60",
   "metadata": {},
   "outputs": [
    {
     "data": {
      "text/plain": [
       "slova\n",
       "bastard    1.903911\n",
       "dtype: float64"
      ]
     },
     "execution_count": 418,
     "metadata": {},
     "output_type": "execute_result"
    }
   ],
   "source": [
    "pomer_vsech[pomer_vsech.index == 'bastard']"
   ]
  },
  {
   "cell_type": "code",
   "execution_count": 422,
   "id": "3c25cd54-f844-4b01-8063-71744745c1bd",
   "metadata": {},
   "outputs": [
    {
     "data": {
      "text/plain": [
       "slova\n",
       "blázen    0.945435\n",
       "dtype: float64"
      ]
     },
     "execution_count": 422,
     "metadata": {},
     "output_type": "execute_result"
    }
   ],
   "source": [
    "pomer_vsech[pomer_vsech.index == 'blázen']"
   ]
  },
  {
   "cell_type": "code",
   "execution_count": 428,
   "id": "cae25464-3300-4864-afe2-ab787c2b3ac2",
   "metadata": {},
   "outputs": [
    {
     "data": {
      "text/plain": [
       "slova\n",
       "bestie    2.908752\n",
       "dtype: float64"
      ]
     },
     "execution_count": 428,
     "metadata": {},
     "output_type": "execute_result"
    }
   ],
   "source": [
    "pomer_vsech[pomer_vsech.index == 'bestie']"
   ]
  },
  {
   "cell_type": "code",
   "execution_count": 430,
   "id": "64c8ae52-e045-49bd-a348-862c9ec6663a",
   "metadata": {},
   "outputs": [
    {
     "data": {
      "text/plain": [
       "slova\n",
       "husa    0.743715\n",
       "dtype: float64"
      ]
     },
     "execution_count": 430,
     "metadata": {},
     "output_type": "execute_result"
    }
   ],
   "source": [
    "pomer_vsech[pomer_vsech.index == 'husa']"
   ]
  },
  {
   "cell_type": "code",
   "execution_count": 91,
   "id": "a48089e8-a24a-4a23-bc68-142f42780aae",
   "metadata": {},
   "outputs": [
    {
     "data": {
      "text/plain": [
       "slova\n",
       "porno    2.889864\n",
       "dtype: float64"
      ]
     },
     "execution_count": 91,
     "metadata": {},
     "output_type": "execute_result"
    }
   ],
   "source": [
    "pomer_vsech[pomer_vsech.index == 'porno']"
   ]
  },
  {
   "cell_type": "code",
   "execution_count": 92,
   "id": "59e60192-e417-4a59-8ea6-05afe0808b25",
   "metadata": {},
   "outputs": [
    {
     "data": {
      "text/plain": [
       "slova\n",
       "vagína    1.784916\n",
       "dtype: float64"
      ]
     },
     "execution_count": 92,
     "metadata": {},
     "output_type": "execute_result"
    }
   ],
   "source": [
    "pomer_vsech[pomer_vsech.index == 'vagína']"
   ]
  },
  {
   "cell_type": "code",
   "execution_count": 93,
   "id": "4121fe4d-0824-431b-bee2-718341e29e6a",
   "metadata": {},
   "outputs": [
    {
     "data": {
      "text/plain": [
       "slova\n",
       "penis    0.99162\n",
       "dtype: float64"
      ]
     },
     "execution_count": 93,
     "metadata": {},
     "output_type": "execute_result"
    }
   ],
   "source": [
    "pomer_vsech[pomer_vsech.index == 'penis']"
   ]
  },
  {
   "cell_type": "code",
   "execution_count": 171,
   "id": "c31be93f-bad1-445a-b55f-380748935d17",
   "metadata": {},
   "outputs": [
    {
     "data": {
      "text/plain": [
       "slova\n",
       "močit    4.363128\n",
       "dtype: float64"
      ]
     },
     "execution_count": 171,
     "metadata": {},
     "output_type": "execute_result"
    }
   ],
   "source": [
    "pomer_vsech[pomer_vsech.index == 'močit']"
   ]
  },
  {
   "cell_type": "code",
   "execution_count": 173,
   "id": "0bf6aa1f-0588-475e-8f08-76d8e1f76034",
   "metadata": {},
   "outputs": [
    {
     "data": {
      "text/plain": [
       "slova\n",
       "čůrat    0.793296\n",
       "dtype: float64"
      ]
     },
     "execution_count": 173,
     "metadata": {},
     "output_type": "execute_result"
    }
   ],
   "source": [
    "pomer_vsech[pomer_vsech.index == 'čůrat']"
   ]
  },
  {
   "cell_type": "code",
   "execution_count": 175,
   "id": "5a7112ba-7a06-4b8f-9eb0-c4d36d61cb51",
   "metadata": {},
   "outputs": [
    {
     "data": {
      "text/plain": [
       "slova\n",
       "čurat    0.99162\n",
       "dtype: float64"
      ]
     },
     "execution_count": 175,
     "metadata": {},
     "output_type": "execute_result"
    }
   ],
   "source": [
    "pomer_vsech[pomer_vsech.index == 'čurat']"
   ]
  },
  {
   "cell_type": "code",
   "execution_count": 94,
   "id": "749413fd-7a9d-45a1-8e3d-c3559bfd2834",
   "metadata": {},
   "outputs": [
    {
     "data": {
      "text/plain": [
       "slova\n",
       "fousy    1.784916\n",
       "dtype: float64"
      ]
     },
     "execution_count": 94,
     "metadata": {},
     "output_type": "execute_result"
    }
   ],
   "source": [
    "pomer_vsech[pomer_vsech.index == 'fousy']"
   ]
  },
  {
   "cell_type": "code",
   "execution_count": 95,
   "id": "cb18c626-5461-4255-9c85-65205af103d6",
   "metadata": {},
   "outputs": [
    {
     "data": {
      "text/plain": [
       "slova\n",
       "chlup    0.619763\n",
       "dtype: float64"
      ]
     },
     "execution_count": 95,
     "metadata": {},
     "output_type": "execute_result"
    }
   ],
   "source": [
    "pomer_vsech[pomer_vsech.index == 'chlup']"
   ]
  },
  {
   "cell_type": "code",
   "execution_count": 96,
   "id": "80f517d5-6ec1-42b4-ba26-ec0ad9446fe4",
   "metadata": {},
   "outputs": [
    {
     "data": {
      "text/plain": [
       "slova\n",
       "nádor    1.586592\n",
       "dtype: float64"
      ]
     },
     "execution_count": 96,
     "metadata": {},
     "output_type": "execute_result"
    }
   ],
   "source": [
    "pomer_vsech[pomer_vsech.index == 'nádor']"
   ]
  },
  {
   "cell_type": "code",
   "execution_count": 97,
   "id": "b8c4e268-ef7c-40f0-9ba4-55e57d18d4c8",
   "metadata": {},
   "outputs": [
    {
     "data": {
      "text/plain": [
       "slova\n",
       "fotbal    1.641302\n",
       "dtype: float64"
      ]
     },
     "execution_count": 97,
     "metadata": {},
     "output_type": "execute_result"
    }
   ],
   "source": [
    "pomer_vsech[pomer_vsech.index == 'fotbal']"
   ]
  },
  {
   "cell_type": "code",
   "execution_count": 98,
   "id": "a7ad5129-5358-4e21-8dfb-cac904503aa1",
   "metadata": {},
   "outputs": [
    {
     "data": {
      "text/plain": [
       "slova\n",
       "hokej    1.454376\n",
       "dtype: float64"
      ]
     },
     "execution_count": 98,
     "metadata": {},
     "output_type": "execute_result"
    }
   ],
   "source": [
    "pomer_vsech[pomer_vsech.index == 'hokej']"
   ]
  },
  {
   "cell_type": "code",
   "execution_count": 99,
   "id": "44463fc4-4d3a-41d6-bc7c-7e7b5c627faa",
   "metadata": {},
   "outputs": [
    {
     "data": {
      "text/plain": [
       "slova\n",
       "rallye    1.189944\n",
       "dtype: float64"
      ]
     },
     "execution_count": 99,
     "metadata": {},
     "output_type": "execute_result"
    }
   ],
   "source": [
    "pomer_vsech[pomer_vsech.index == 'rallye']"
   ]
  },
  {
   "cell_type": "code",
   "execution_count": 100,
   "id": "42f8c596-5841-4989-ba39-0982552d5d3a",
   "metadata": {},
   "outputs": [
    {
     "data": {
      "text/plain": [
       "slova\n",
       "Krkonoše    0.925512\n",
       "dtype: float64"
      ]
     },
     "execution_count": 100,
     "metadata": {},
     "output_type": "execute_result"
    }
   ],
   "source": [
    "pomer_vsech[pomer_vsech.index == 'Krkonoše']"
   ]
  },
  {
   "cell_type": "code",
   "execution_count": 101,
   "id": "3c25d4b0-e6fc-4c82-904b-cca607705362",
   "metadata": {},
   "outputs": [
    {
     "data": {
      "text/plain": [
       "slova\n",
       "Šumava    1.454376\n",
       "dtype: float64"
      ]
     },
     "execution_count": 101,
     "metadata": {},
     "output_type": "execute_result"
    }
   ],
   "source": [
    "pomer_vsech[pomer_vsech.index == 'Šumava']"
   ]
  },
  {
   "cell_type": "code",
   "execution_count": 102,
   "id": "ef48a49f-a5f6-4a4f-9e79-646e1ab124a3",
   "metadata": {},
   "outputs": [
    {
     "data": {
      "text/plain": [
       "slova\n",
       "Říp    1.189944\n",
       "dtype: float64"
      ]
     },
     "execution_count": 102,
     "metadata": {},
     "output_type": "execute_result"
    }
   ],
   "source": [
    "pomer_vsech[pomer_vsech.index == 'Říp']"
   ]
  },
  {
   "cell_type": "code",
   "execution_count": 147,
   "id": "97f3908c-5d52-4936-abc1-9b46c6327a6e",
   "metadata": {},
   "outputs": [
    {
     "data": {
      "text/plain": [
       "slova\n",
       "hymna    1.98324\n",
       "dtype: float64"
      ]
     },
     "execution_count": 147,
     "metadata": {},
     "output_type": "execute_result"
    }
   ],
   "source": [
    "pomer_vsech[pomer_vsech.index == 'hymna']"
   ]
  },
  {
   "cell_type": "code",
   "execution_count": 153,
   "id": "4ac626c9-5fee-4f18-aef4-3bf07ef657c9",
   "metadata": {},
   "outputs": [
    {
     "data": {
      "text/plain": [
       "slova\n",
       "svačina    0.42498\n",
       "dtype: float64"
      ]
     },
     "execution_count": 153,
     "metadata": {},
     "output_type": "execute_result"
    }
   ],
   "source": [
    "pomer_vsech[pomer_vsech.index == 'svačina']"
   ]
  },
  {
   "cell_type": "code",
   "execution_count": 155,
   "id": "1ed86d80-9104-4ff4-bbb7-3767a912fd44",
   "metadata": {},
   "outputs": [
    {
     "data": {
      "text/plain": [
       "slova\n",
       "budík    0.747174\n",
       "dtype: float64"
      ]
     },
     "execution_count": 155,
     "metadata": {},
     "output_type": "execute_result"
    }
   ],
   "source": [
    "pomer_vsech[pomer_vsech.index == 'budík']"
   ]
  },
  {
   "cell_type": "code",
   "execution_count": 177,
   "id": "ba9a21a1-2c32-48df-9180-6c9a3282f2a1",
   "metadata": {},
   "outputs": [
    {
     "data": {
      "text/plain": [
       "slova\n",
       "nakřivo    0.84996\n",
       "dtype: float64"
      ]
     },
     "execution_count": 177,
     "metadata": {},
     "output_type": "execute_result"
    }
   ],
   "source": [
    "pomer_vsech[pomer_vsech.index == 'nakřivo']"
   ]
  },
  {
   "cell_type": "code",
   "execution_count": 179,
   "id": "1f147f7e-94dc-4f1a-a5d7-c2b84ca337d9",
   "metadata": {},
   "outputs": [
    {
     "data": {
      "text/plain": [
       "slova\n",
       "šikmo    2.97486\n",
       "dtype: float64"
      ]
     },
     "execution_count": 179,
     "metadata": {},
     "output_type": "execute_result"
    }
   ],
   "source": [
    "pomer_vsech[pomer_vsech.index == 'šikmo']"
   ]
  },
  {
   "cell_type": "code",
   "execution_count": 193,
   "id": "76185e5d-63b6-4b44-b6f1-049b59d88eea",
   "metadata": {},
   "outputs": [
    {
     "data": {
      "text/plain": [
       "slova\n",
       "víno    0.759228\n",
       "dtype: float64"
      ]
     },
     "execution_count": 193,
     "metadata": {},
     "output_type": "execute_result"
    }
   ],
   "source": [
    "pomer_vsech[pomer_vsech.index == 'víno']"
   ]
  },
  {
   "cell_type": "code",
   "execution_count": 195,
   "id": "3243476e-eba0-48b9-940a-ecd927b17838",
   "metadata": {},
   "outputs": [
    {
     "data": {
      "text/plain": [
       "slova\n",
       "pivo    1.235362\n",
       "dtype: float64"
      ]
     },
     "execution_count": 195,
     "metadata": {},
     "output_type": "execute_result"
    }
   ],
   "source": [
    "pomer_vsech[pomer_vsech.index == 'pivo']"
   ]
  },
  {
   "cell_type": "code",
   "execution_count": 197,
   "id": "0ad05d11-bedb-4e2d-9b81-06911c06b7fb",
   "metadata": {},
   "outputs": [
    {
     "data": {
      "text/plain": [
       "slova\n",
       "slivovice    0.237989\n",
       "dtype: float64"
      ]
     },
     "execution_count": 197,
     "metadata": {},
     "output_type": "execute_result"
    }
   ],
   "source": [
    "pomer_vsech[pomer_vsech.index == 'slivovice']"
   ]
  },
  {
   "cell_type": "code",
   "execution_count": 468,
   "id": "ad53a2ce-a129-4094-806e-b8ea0c9f6e6a",
   "metadata": {},
   "outputs": [
    {
     "data": {
      "text/plain": [
       "slova\n",
       "Havel    1.869912\n",
       "dtype: float64"
      ]
     },
     "execution_count": 468,
     "metadata": {},
     "output_type": "execute_result"
    }
   ],
   "source": [
    "pomer_vsech[pomer_vsech.index == 'Havel']"
   ]
  },
  {
   "cell_type": "code",
   "execution_count": 466,
   "id": "53d94a9c-5131-4110-998a-8e816a7d4b2c",
   "metadata": {},
   "outputs": [
    {
     "data": {
      "text/plain": [
       "slova\n",
       "Masaryk    3.272346\n",
       "dtype: float64"
      ]
     },
     "execution_count": 466,
     "metadata": {},
     "output_type": "execute_result"
    }
   ],
   "source": [
    "pomer_vsech[pomer_vsech.index == 'Masaryk']"
   ]
  },
  {
   "cell_type": "code",
   "execution_count": 464,
   "id": "b8d61895-e8e7-49a3-adbf-fbddf89fe630",
   "metadata": {},
   "outputs": [
    {
     "data": {
      "text/plain": [
       "slova\n",
       "Hitler    2.719872\n",
       "dtype: float64"
      ]
     },
     "execution_count": 464,
     "metadata": {},
     "output_type": "execute_result"
    }
   ],
   "source": [
    "pomer_vsech[pomer_vsech.index == 'Hitler']"
   ]
  },
  {
   "cell_type": "code",
   "execution_count": 454,
   "id": "376a70db-c472-4fa1-afb4-49681cb2b779",
   "metadata": {},
   "outputs": [
    {
     "data": {
      "text/plain": [
       "slova\n",
       "poker    1.189944\n",
       "dtype: float64"
      ]
     },
     "execution_count": 454,
     "metadata": {},
     "output_type": "execute_result"
    }
   ],
   "source": [
    "pomer_vsech[pomer_vsech.index == 'poker']"
   ]
  },
  {
   "cell_type": "code",
   "execution_count": 448,
   "id": "184b84d4-f7fa-453d-b41b-604473ec8132",
   "metadata": {},
   "outputs": [
    {
     "data": {
      "text/plain": [
       "slova\n",
       "alkohol    0.912676\n",
       "dtype: float64"
      ]
     },
     "execution_count": 448,
     "metadata": {},
     "output_type": "execute_result"
    }
   ],
   "source": [
    "pomer_vsech[pomer_vsech.index == 'alkohol']"
   ]
  },
  {
   "cell_type": "code",
   "execution_count": 446,
   "id": "be8a7744-ec59-4950-8d07-2e5f8e1948b9",
   "metadata": {},
   "outputs": [
    {
     "data": {
      "text/plain": [
       "slova\n",
       "líh    2.379888\n",
       "dtype: float64"
      ]
     },
     "execution_count": 446,
     "metadata": {},
     "output_type": "execute_result"
    }
   ],
   "source": [
    "pomer_vsech[pomer_vsech.index == 'líh']"
   ]
  },
  {
   "cell_type": "code",
   "execution_count": 203,
   "id": "be1f9e44-cf22-4a3c-8e5c-7fb51813a616",
   "metadata": {},
   "outputs": [
    {
     "data": {
      "text/plain": [
       "slova\n",
       "kořalka    1.514474\n",
       "dtype: float64"
      ]
     },
     "execution_count": 203,
     "metadata": {},
     "output_type": "execute_result"
    }
   ],
   "source": [
    "pomer_vsech[pomer_vsech.index == 'kořalka']"
   ]
  },
  {
   "cell_type": "code",
   "execution_count": 217,
   "id": "784fe38e-d255-4ac2-bcf7-d0019358ca91",
   "metadata": {},
   "outputs": [
    {
     "data": {
      "text/plain": [
       "slova\n",
       "znásilnit    0.528864\n",
       "dtype: float64"
      ]
     },
     "execution_count": 217,
     "metadata": {},
     "output_type": "execute_result"
    }
   ],
   "source": [
    "pomer_vsech[pomer_vsech.index == 'znásilnit']"
   ]
  },
  {
   "cell_type": "code",
   "execution_count": 221,
   "id": "fb1b078e-0a6d-43a9-8be1-d47db111e20c",
   "metadata": {},
   "outputs": [
    {
     "data": {
      "text/plain": [
       "slova\n",
       "zadek    0.811745\n",
       "dtype: float64"
      ]
     },
     "execution_count": 221,
     "metadata": {},
     "output_type": "execute_result"
    }
   ],
   "source": [
    "pomer_vsech[pomer_vsech.index == 'zadek']"
   ]
  },
  {
   "cell_type": "code",
   "execution_count": 223,
   "id": "f2590f0a-1539-41a0-8e7b-94807352ef72",
   "metadata": {},
   "outputs": [
    {
     "data": {
      "text/plain": [
       "slova\n",
       "větrník    2.379888\n",
       "dtype: float64"
      ]
     },
     "execution_count": 223,
     "metadata": {},
     "output_type": "execute_result"
    }
   ],
   "source": [
    "pomer_vsech[pomer_vsech.index == 'větrník']"
   ]
  },
  {
   "cell_type": "code",
   "execution_count": 225,
   "id": "69d408aa-1083-4cb1-8bbe-288af189fa80",
   "metadata": {},
   "outputs": [
    {
     "data": {
      "text/plain": [
       "slova\n",
       "kafíčko    0.396648\n",
       "dtype: float64"
      ]
     },
     "execution_count": 225,
     "metadata": {},
     "output_type": "execute_result"
    }
   ],
   "source": [
    "pomer_vsech[pomer_vsech.index == 'kafíčko']"
   ]
  },
  {
   "cell_type": "code",
   "execution_count": 233,
   "id": "5f3abc3d-fe03-41aa-92bc-434602c0ef5b",
   "metadata": {},
   "outputs": [
    {
     "data": {
      "text/plain": [
       "slova\n",
       "dítě    0.908301\n",
       "dtype: float64"
      ]
     },
     "execution_count": 233,
     "metadata": {},
     "output_type": "execute_result"
    }
   ],
   "source": [
    "pomer_vsech[pomer_vsech.index == 'dítě']"
   ]
  },
  {
   "cell_type": "code",
   "execution_count": 229,
   "id": "4d1da8ea-78ed-4c86-94c6-6ef8d3ded79d",
   "metadata": {},
   "outputs": [
    {
     "data": {
      "text/plain": [
       "slova\n",
       "doutník    1.98324\n",
       "dtype: float64"
      ]
     },
     "execution_count": 229,
     "metadata": {},
     "output_type": "execute_result"
    }
   ],
   "source": [
    "pomer_vsech[pomer_vsech.index == 'doutník']"
   ]
  },
  {
   "cell_type": "code",
   "execution_count": 227,
   "id": "979b1fca-eded-4118-b6a9-4bfc02f2dd92",
   "metadata": {},
   "outputs": [
    {
     "data": {
      "text/plain": [
       "slova\n",
       "cigareta    1.227521\n",
       "dtype: float64"
      ]
     },
     "execution_count": 227,
     "metadata": {},
     "output_type": "execute_result"
    }
   ],
   "source": [
    "pomer_vsech[pomer_vsech.index == 'cigareta']"
   ]
  },
  {
   "cell_type": "code",
   "execution_count": 235,
   "id": "070fc35b-7eea-40e9-81e1-b8d142d14c88",
   "metadata": {},
   "outputs": [
    {
     "data": {
      "text/plain": [
       "slova\n",
       "babička    0.588054\n",
       "dtype: float64"
      ]
     },
     "execution_count": 235,
     "metadata": {},
     "output_type": "execute_result"
    }
   ],
   "source": [
    "pomer_vsech[pomer_vsech.index == 'babička']"
   ]
  },
  {
   "cell_type": "code",
   "execution_count": 237,
   "id": "7c3a8ffb-09ad-47df-ba91-6eea69ba3bbc",
   "metadata": {},
   "outputs": [
    {
     "data": {
      "text/plain": [
       "slova\n",
       "dědeček    0.908685\n",
       "dtype: float64"
      ]
     },
     "execution_count": 237,
     "metadata": {},
     "output_type": "execute_result"
    }
   ],
   "source": [
    "pomer_vsech[pomer_vsech.index == 'dědeček']"
   ]
  },
  {
   "cell_type": "code",
   "execution_count": 245,
   "id": "4842451d-82ba-45d5-b2a1-c2081c997b72",
   "metadata": {},
   "outputs": [
    {
     "data": {
      "text/plain": [
       "slova\n",
       "blbec    0.853656\n",
       "dtype: float64"
      ]
     },
     "execution_count": 245,
     "metadata": {},
     "output_type": "execute_result"
    }
   ],
   "source": [
    "pomer_vsech[pomer_vsech.index == 'blbec']"
   ]
  },
  {
   "cell_type": "code",
   "execution_count": 243,
   "id": "2a8549fe-4516-4b2d-ac80-f0811505f96e",
   "metadata": {},
   "outputs": [
    {
     "data": {
      "text/plain": [
       "slova\n",
       "blbka    0.669344\n",
       "dtype: float64"
      ]
     },
     "execution_count": 243,
     "metadata": {},
     "output_type": "execute_result"
    }
   ],
   "source": [
    "pomer_vsech[pomer_vsech.index == 'blbka']"
   ]
  },
  {
   "cell_type": "code",
   "execution_count": 247,
   "id": "078aec8d-33c8-4c15-92ae-e1cb9323095c",
   "metadata": {},
   "outputs": [
    {
     "data": {
      "text/plain": [
       "slova\n",
       "Praha    1.206587\n",
       "dtype: float64"
      ]
     },
     "execution_count": 247,
     "metadata": {},
     "output_type": "execute_result"
    }
   ],
   "source": [
    "pomer_vsech[pomer_vsech.index == 'Praha']"
   ]
  },
  {
   "cell_type": "code",
   "execution_count": 249,
   "id": "1526ecf7-2ac4-41f4-a020-efde2621dee5",
   "metadata": {},
   "outputs": [
    {
     "data": {
      "text/plain": [
       "slova\n",
       "Brno    0.96482\n",
       "dtype: float64"
      ]
     },
     "execution_count": 249,
     "metadata": {},
     "output_type": "execute_result"
    }
   ],
   "source": [
    "pomer_vsech[pomer_vsech.index == 'Brno']"
   ]
  },
  {
   "cell_type": "code",
   "execution_count": 251,
   "id": "84f7b60f-677d-45c1-818a-5702cafde452",
   "metadata": {},
   "outputs": [
    {
     "data": {
      "text/plain": [
       "slova\n",
       "Olomouc    2.97486\n",
       "dtype: float64"
      ]
     },
     "execution_count": 251,
     "metadata": {},
     "output_type": "execute_result"
    }
   ],
   "source": [
    "pomer_vsech[pomer_vsech.index == 'Olomouc']"
   ]
  },
  {
   "cell_type": "code",
   "execution_count": 253,
   "id": "af066366-eff7-4f5b-a56e-dc0321ece3fb",
   "metadata": {},
   "outputs": [
    {
     "data": {
      "text/plain": [
       "slova\n",
       "Ostrava    0.872626\n",
       "dtype: float64"
      ]
     },
     "execution_count": 253,
     "metadata": {},
     "output_type": "execute_result"
    }
   ],
   "source": [
    "pomer_vsech[pomer_vsech.index == 'Ostrava']"
   ]
  },
  {
   "cell_type": "code",
   "execution_count": 255,
   "id": "fad0b544-9b09-4d50-b3cc-6dd0819155ec",
   "metadata": {},
   "outputs": [
    {
     "data": {
      "text/plain": [
       "slova\n",
       "Jablonec    0.594972\n",
       "dtype: float64"
      ]
     },
     "execution_count": 255,
     "metadata": {},
     "output_type": "execute_result"
    }
   ],
   "source": [
    "pomer_vsech[pomer_vsech.index == 'Jablonec']"
   ]
  },
  {
   "cell_type": "code",
   "execution_count": 257,
   "id": "8ca3f101-a06a-4c5d-81a5-b1f5c029c119",
   "metadata": {},
   "outputs": [
    {
     "data": {
      "text/plain": [
       "slova\n",
       "Tatry    1.189944\n",
       "dtype: float64"
      ]
     },
     "execution_count": 257,
     "metadata": {},
     "output_type": "execute_result"
    }
   ],
   "source": [
    "pomer_vsech[pomer_vsech.index == 'Tatry']"
   ]
  },
  {
   "cell_type": "code",
   "execution_count": 259,
   "id": "9db079a4-7f3a-4513-a17a-cfbaf76437c7",
   "metadata": {},
   "outputs": [
    {
     "data": {
      "text/plain": [
       "slova\n",
       "kombajn   NaN\n",
       "dtype: float64"
      ]
     },
     "execution_count": 259,
     "metadata": {},
     "output_type": "execute_result"
    }
   ],
   "source": [
    "pomer_vsech[pomer_vsech.index == 'kombajn']"
   ]
  },
  {
   "cell_type": "code",
   "execution_count": 265,
   "id": "da922941-377d-4f94-9818-ae1d4d41bcae",
   "metadata": {},
   "outputs": [
    {
     "data": {
      "text/plain": [
       "slova\n",
       "koňak    0.793296\n",
       "dtype: float64"
      ]
     },
     "execution_count": 265,
     "metadata": {},
     "output_type": "execute_result"
    }
   ],
   "source": [
    "pomer_vsech[pomer_vsech.index == 'koňak']"
   ]
  },
  {
   "cell_type": "code",
   "execution_count": 273,
   "id": "f6e317d0-5740-4674-9b1f-0cbe48743307",
   "metadata": {},
   "outputs": [
    {
     "data": {
      "text/plain": [
       "slova\n",
       "whisky    1.127315\n",
       "dtype: float64"
      ]
     },
     "execution_count": 273,
     "metadata": {},
     "output_type": "execute_result"
    }
   ],
   "source": [
    "pomer_vsech[pomer_vsech.index == 'whisky']"
   ]
  },
  {
   "cell_type": "code",
   "execution_count": 279,
   "id": "8adff94a-80a0-4785-afe1-f31f12679b33",
   "metadata": {},
   "outputs": [
    {
     "data": {
      "text/plain": [
       "slova\n",
       "rum    1.264316\n",
       "dtype: float64"
      ]
     },
     "execution_count": 279,
     "metadata": {},
     "output_type": "execute_result"
    }
   ],
   "source": [
    "pomer_vsech[pomer_vsech.index == 'rum']"
   ]
  },
  {
   "cell_type": "code",
   "execution_count": 283,
   "id": "55b3bcaf-efcc-46c5-b4ab-4395b743a7d4",
   "metadata": {},
   "outputs": [
    {
     "data": {
      "text/plain": [
       "slova\n",
       "toust    0.108177\n",
       "dtype: float64"
      ]
     },
     "execution_count": 283,
     "metadata": {},
     "output_type": "execute_result"
    }
   ],
   "source": [
    "pomer_vsech[pomer_vsech.index == 'toust']"
   ]
  },
  {
   "cell_type": "code",
   "execution_count": 285,
   "id": "5bfed330-b5b0-4a84-960b-70c3da86a469",
   "metadata": {},
   "outputs": [
    {
     "data": {
      "text/plain": [
       "slova\n",
       "topinka    1.189944\n",
       "dtype: float64"
      ]
     },
     "execution_count": 285,
     "metadata": {},
     "output_type": "execute_result"
    }
   ],
   "source": [
    "pomer_vsech[pomer_vsech.index == 'topinka']"
   ]
  },
  {
   "cell_type": "code",
   "execution_count": 281,
   "id": "2f27a44c-4fed-46e8-b655-93bf7a113844",
   "metadata": {},
   "outputs": [
    {
     "data": {
      "text/plain": [
       "slova\n",
       "rýže    0.93943\n",
       "dtype: float64"
      ]
     },
     "execution_count": 281,
     "metadata": {},
     "output_type": "execute_result"
    }
   ],
   "source": [
    "pomer_vsech[pomer_vsech.index == 'rýže']"
   ]
  },
  {
   "cell_type": "markdown",
   "id": "012c7c0e-08ee-4de2-9e1e-3e8af516af8e",
   "metadata": {},
   "source": [
    "## Celkový pohled"
   ]
  },
  {
   "cell_type": "code",
   "execution_count": 104,
   "id": "4b6eaba5-c0d7-424f-8cd0-0e69d722c513",
   "metadata": {},
   "outputs": [
    {
     "data": {
      "text/plain": [
       "'Addair Theo, Ajvaz Michal, Balda David, Balák Libor, Banga Patrik, Bareš Pavel, Bauer Jan, Bazger Petr, Beran Ladislav, Beran Stanislav, Bernatský Vojtěch, Bečan Martin, Birdman Shigor, Blaho Ondřej, Boubín Dalibor, Boček Evžen, Boček Lukáš, Brož Petr, Budai David, Buddeus Ondřej, Bureš Roman, Bálek Jaroslav, Bárta Václav, Bílek Petr, Bým Petr, Březina Jiří, Březina Michal, Chadima Martin, Csicsely Lukáš, Ctibor Pavel, Cubeca Karel, Cílek Roman, Dadák Matěj, Decimus Erik, Denk Petr, Ditrych Břetislav, Diviš Aleš, Dobrylovský Jiří, Dobrý Marek, Dostál Aleš, Dotlačil Jakub, Doucha Josef, Dočekal Boris, Drbohlav Jan, Drescher Alex, Duda Jan, Dutka Edgar, Dvořák Marek, Dědič Jiří, Eidler Petr, Epstein Marek, Erml Richard, Fahrner Martin, Fanta Ondřej, Fibich Ondřej, Fišer Lukáš, Fišer Martin, Folný Jan, Fousek Josef, Fránek Jakub, Fuchs Oskar, Fíla Ivan, Galambica Ivan, Gardner Jan, Gdovín Vladimír Adam, Glockner David, Goffa Martin, Grant Jiří, Gravensteen A., Green Scum, Gris Daniel, Grmolec Zdeněk, Gruber Petr, Gruber Václav, Hacala Luboš, Hamouz Jan, Havel Jiří, Havlas Lukáš, Havlík Rudolf, Hejda Luboš, Heteša Petr, Hewlit Pavel, Hlavenka Vojtěch, Hlubek Jan, Hodáček Kamil Marcel, Holanec Václav, Holaň Aleš, Homola Jiří, Honzák Radkin, Horký Petr, Horníček Jan, Houser Pavel, Hoza Jakub, Hořava Matěj, Hradecký Daniel, Hrdlička Pavel, Hrnčíř Daniel, Hruška Emil, Hrušínský Rudolf, Hvížďala Karel, Hübl Ondřej, Jabůrek Václav, Jakeš Václav, Janeba Oldřich, Janoušek Artur, Janč František, Jareš Michal, Jareš Vítězslav, Jaroš Martin, Javůrek Štěpán, Jařab David, Ježek Michal, Jindra Jaromír, Jirotka Antonín, Kadlec Vratislav, Kalenda František, Kapras Tomáš, Kars Ota, Kašpárek Michal, Kholl Jan, Kirman Lubomír, Klečka Jiří, Klimek Hynek, Klimek Tomáš, Klimeš David, Klimeš Ladislav, Klouda Filip, Klíma Josef, Kohout Pavel, Kohák Jakub, Kolár Vladimír, Kolář Alois, Kolář Pavel, Konáš Jaroslav, Kopta Václav, Koryta Filip, Kos Jakub Petr, Kostka Karel, Kotačka Libor, Kotleta František, Kotnowski Melchior, Kotouč Jan, Koubek Vilém, Kořen Vladimír, Kořínek Václav, Kratochvil Jiří, Krejčík Přemysl, Krobot Miroslav, Král Rudolf, Králík Leopold, Krásný Daniel, Krčmář Milan, Kubát Luděk, Kucin Jan, Kučera Štěpán, Kyša Leoš, Káninský Josef, König Jakub, König Josef, Křivanec Václav, Křišťan Lukáš, Landsman Dominik, Lauda David, Leidl Tomáš, Linhart Jiří J., Luksch Jakub, Láska Václav, Macek Petr, Machala Libor, Macho Milan, Macků Robert, Madle Patrik, Malijevský Igor, Malinda Jan, Marek Jaromír, Matějček Lukáš, Mayer Jiří B., Mazáč Antonín, Maňák Vratislav, Mařík František, Mařík Jakub, Melichar René, Michal Martin, Miklica Tomáš, Mikuš Filip, Moník Josef, Motýl Petr, Mrkvička Jan, Mádl Jiří, Müller Martin, N. P., Neckář Petr, Neff Ondřej, Nesměrák Martin, Neuwirth Tomáš, Neužil Petr, Nezval Martin, Nečas Ondřej, Niedl František, Novotny Josef J., Novotný Aleš, Novotný David Jan, Novák Jan, Nádoba Jiří, Němec Jan, Němec Martin, Němec Tomáš, Němec Vojtěch, Němčík Jiří, Odehnal Petr, Okáč Filip, Opršal Petr, Otta Marek, Padevět Jiří, Palán Aleš, Palán Lukáš, Pavel Jan, Pavelka Jan, Paytok Martin, Pech Miroslav, Pecinovský Josef, Pelíšek Antonín, Petr Daniel, Petrásek Tomáš, Pešta Mikuláš, Pitzmos Aleš, Pixy Petr S., Popel Richard, Pospíšil Otakar, Procházka Aleš, Procházka Petr, Procházka Petr K., Prokop Josef Bernard, Pudlák Štěpán, Pýcha Adam, Přibil Marek, Radosta Pavel, Raichl Jiří, Rauer Vojtěch, Rejman Martin, Rezek Aleš, Rozehnal Aleš, Rožek Filip, Rubáš Pepa, Rupp Jan, Sabó Michal, Sagitarius Petr, Sekerka Tomáš, Sekyrka Pavel, Selner Martin, Sevruk Alexej, Sichinger Martin, Sirotek Michal, Skopal Ivo, Skořepa Martin, Skřipský Marek, Slezáček Bořek, Slivinský Dalibor, Sládek Martin, Sládek Ota, Sláma Tadeáš Vojtěch, Slívka Honza, Smutný Jan, Sobotka Oldřich, Soukup Pavel, Staffa Alexander, Stainforth Alexander, Stanjura Jakub, Stančík Petr, Staněk Filip, Starý Radek, Stavinoha Jan, Steinbauer Boris, Stručovský Martin, Suchý Adam, Svěrák Jan, Sychra Karel, Syrovátka Tomáš, Sýkora Michal, Sýkora Petr, Toman Ivo, Toman Marek, Tomeš Jan, Tománek Jan, Torčík Marek, Trpiš Jakub, Tržil Dan, Tvrz Jakub, Tylšar František, Třeštík Michael, Třeštík Tomáš, Tůma Jiří, Uhlíř Martin, Urban David, Urban Jan, Urban Miloš, Urban Petr, Vacek Jindřich, Veselka Josef, Veselý Karel, Viewegh Michal, Vičar Zbyněk, Vogel Aleš, Vokolek Václav, Vondruška Vlastimil, Vopěnka Martin, Vostrý Mirek, Votruba Václav, Vrba Michal, Vrchovský Ladislav, Vydra Petr, Vácha Dalibor, Vácha Marek Orko, Václavíček Jiří, Váňa Radek, Váša Martin, Vít Jakub, Věrný David, Větříšek Lubomír, Walló Alex, Wlodarczyk Dan, Zachrdla Jakub, Zahájský Květoň, Zandl Patrick, Zavřel Viktor, Zmítko Michal, Záleský Vojtěch, Zárybnický Lukáš, Zástěra Tomáš, k.elkir, Čapka Hynek, Čechal Jiří, Čepek Petr, Čepelka Miloň, Češka Stanislav, Čuba Albert, Řehák Zdeněk, Šefara Michal, Šenk David, Šesták Petr, Šimek Jan, Škrabal Ondřej, Šlechta Vladimír, Šlik Petr Hugo, Šmehlík František, Šolc Václav, Špaček Viktor, Šponer Jakub, Štifter Jan, Štindl Ondřej, Štětina Jaromír, Švancara Jan, Šíp Karel, Šír Ondřej, Žamboch Miroslav, Železný Jakub, Žemlička Zdeněk'"
      ]
     },
     "execution_count": 104,
     "metadata": {},
     "output_type": "execute_result"
    }
   ],
   "source": [
    "muzi = mz_filtr[mz_filtr['gender'] == 'muž']['autorstvo_kod'].to_list()\n",
    "', '.join(sorted((df[df['autorstvo_kod'].isin(muzi)]['autorstvo'].drop_duplicates().to_list())))"
   ]
  },
  {
   "cell_type": "code",
   "execution_count": 105,
   "id": "24b94c42-9cf4-40ae-8d8c-d07847d67155",
   "metadata": {},
   "outputs": [
    {
     "data": {
      "text/plain": [
       "'Abrahámová Martina, Addicks Lucie, Ambrožová Dorota, An Elen, Andrlová Šárka, Auzká Lucie, Aycox Klára, Babišová Martina, Bartošová Tereza, Basiková Anna, Basiková Bára, Baštanová Petra, Bechynková Lucie, Bellová Bianca, Bendová Karolína, Beranová Dana, Bernášková Jana, Blahová Miriam, Blanářová Alena, Blažková Kateřina, Bohatá Simona, Boho Michaela, Bolavá Anna, Bolfová Markéta, Borlová Julie, Boučková Martina, Boučková Tereza, Brabcová Kateřina, Braunová Petra, Brányiková Katarína, Bublanová Alžběta, Burgerová Kristýna, Bártová Anna Beatrix, Bílková Alžběta, Camille G, Chalupníková Kateřina, Chalupová Lenka, Chaya Lucie, Chlubnová Lenka, Cima Anna, Ciprová Oldřiška, Coufalová Valentýna, Czastková Klára, Damijo Alena, Dancingerová Marta, Denemarková Radka, Denková Melita, Devátá Ivanka, Divišová Anna, Dobiášová Tereza, Dobrovolná Ilona, Dolejšová Eva, Domská Marie, Donátová Uljana, Dopitová Michaela, Dostálová Zuzana, Dousková Irena, Dočkalová Tereza, Drdlová Helena, Dubská Kateřina, Dusová Tereza, Dušková Vlasta, Dvořáková Petra, Eckhardtová Nora, Elbe Lenka, Elšíková Klára, Evans Vesna, Fajnorová Ivana, Fenclová Marta, Ferrerová Šárka, Fischerová Daniela, Fojtová Věra, Formáčková Marie, Francová Eva, Freiová Kristýna, Fundová Johana, Fílová Karolína, González Veronika, Gottwaldová Libuše, Grestenbergerová Eva, Hacalová Eva, Hadj Moussa Iva, Hajdová Marie, Hamáková Marie, Hanišová Viktorie, Hanušová Jana, Haplová Barbora, Harasimová Markéta, Hardy M. K., Hartmanová Zuzana, Haunerová Klára, Havlíková Katka, Heinrichová Alena Adrianet, Hejkalová Markéta, Hejná Tereza, Herzogová Tereza, Heš Martina, Hieková Šárka, Hindráková Hana, Hlavinková Lucie, Hloušková Jitka, Hlubinková Kožmínová Ivana, Hohenberger Martina, Holásková Kamila, Horová Ladislava, Horová Marie, Horáková Naďa, Horáková Pavla, Horáčková Alice, Hotovcová Eva, Houfová Barbora, Houserová Eva, Hošek Karolina, Hrabovská Jana, Hrochová Lucie, Hrstková Helena, Hubeňáková Zuzana, Hubková Karolína, Hušeková Kristína, Hušková Lucie, Háblová Anna Beata, Hájková Dominika, Hřebejková Hana, Hůlová Petra, Isaac M. A., Jakoubková Alena, Jakoubková Marie, Janečková Klára, Janečková Michaela, Janíčková Marie, Janštová Denisa, Jašová Jana, Jehličková Lucie, Jell Marcy, Jelínková Martina, Jendruchová Michala, Ježková Alena, Jirglová Petra, Jonášová Veronika, Jurmanová Jana, Jánská Jana, Kadečková Tereza, Kaiserová Zuzana, Kalivodová Michaela, Kaprálová Dora, Karolová Kateřina, Katalpa Jakuba, Kausc Emma, Kavurová Hana, Kašparová Jana, Kašáková Hana, Kellerová Irena, Klabouchová Petra, Klasová Nela, Klevisová Michaela, Knapová Adéla, Knauerová Marta, Kocábová Natálie, Kohoutová Alexandra, Kokinopulosová Iva, Kollerová Mašková Aneta, Komorousová Tereza, Komrsková Alžběta, Komárková Kristýna, Konečná Lucie, Korcová Lucie, Koubková Zuzana, Koukalová Zuzana, Koutná Barbora, Kracíková Jindřiška, Krajčo Babinská Karin, Kral Johana, Kratochvílová Helena, Krnáčová Adriana, Krpálková Věra, Krumlovská Olga, Kubíková Karla, Kubíčková Klára, Kudynová Věra, Kultánová Zuzana, Kunešová Lucie, Kučíková Marta, Kučírková Tereza, Kvaš Karolína, Kverková Naďa, Kábrtová Lidmila, Körnerová Hana Marie, Křivánková Pavlína, Labudová Ema, Labáková Michaela, Lednická Karin, Lehečková Hana D., Leierová Martina, Lejsková-Langová Petra, Linke Barbora, Ludvíková Jitka, Lukačovičová Lucie, Lukášková Markéta, Lundiaková Hana, Luxová Blanka, Ládrová Jitka, Límanová Tereza, Machová Nikola, Machová Petra, Macháčková Lucie, Macková Hrochová Petra, Macková Marie, Macková Tereza, Malenovská Vlasta, Malurková Marie, Mandausová Klára, Marková Tereza, Marková Zlatuše, Marks Hope, Martincová Zdeňka, Martinková Veronika, Martišková Petra, Maxová Magdalena, Mašková Eva, Meixnerová Karolína, Melicharová Michaela, Merglová Michaela, Mertlíková Věra, Michorová Eva, Minaříková Olga, Mintová Magdalena, Minářová Elena, Mičková Nela, Mlynářová Marcela, Moricová Anna, Moritz Michaela, Mornštajnová Alena, Musilová Anna, Musálková Jeckelová Jana, Mužíková Michaela, Mács Magdoňová Jana, Májová Kristina, Málková Martina, Mátlová Martina, Nachtmanová Petra, Nacházelová Daniela, Navrátilová Renáta, Nechutná Veronika, Nesvadbová Barbara, Nesvačilová Petra, Neužilová Žaneta, Nečasová Simona, Nofreeusernames, Novotná Martina, Nová Edna, Nováková Antonie, Nováková Tereza, Náhlíková Anežka, Oboda Hana, Opatřilová Veronika, Ortega Lucie, Pachtová Hana, Paleta Soňa, Panou Kateřina, Pantovič Kateřina, Parsley Sarah, Parýzková Lenka, Pastorčáková Lenka, Paulišinová Simona, Pavlíčková Kovaříková Pavla, Pawlowská Halina, Pažoutová Jana, Peas Nika, Peck D. B., Pekárková Iva, Pekárnová Andrea, Peroutková Ivana, Pešavová Pavla, Piloušková Irena, Pilátová Lucie, Pinknerová Hana, Pischová Naďa, Pogodová Sandra, Pohnerová Eliška, Poláčková Lenka, Poncarová Jana, Poncarová Petra, Pospíšilová Eva, Pospíšilová Jarmila, Potůčková Lenka, Pražáková Rozálie, Preissová Martina, Prejdová Dominika, Procházková Iva, Procházková Kateřina, Przewozná Šárka, Prášková Markéta, Ptáčková Jindřiška, Puffrová Tess M., Rejfová Marie, Rejžková Magdaléna Bujabéza, Reviláková Naďa, Rezlerová Mirka, Riedlová Anna, Riedová Emma, Rokosová Sandra, Rollingerová-Riba Romana, Rollko Natalie A., Ross Emilly, Rosípalová Adéla, Rourke Andrea, Rožek Elbel Adéla, Rubínková Veronika, Rudčenková Kateřina, Rzepková Lenka, Rýznerová Eva, Saavedra Anna, Sacká Vlaďka, Sadílková Lenka, Saforková Veronika, Salová Lucie, Sani Jitka, Saudková Sára, Scharkez Emma, Schmiedlová Michaela, Schánělová Lucie, Semotamová Tereza, Sirotková Soňa, Skočílková Mirka, Skálová Hana, Slaninová Jana, Slavíková Jitka, Slováková Petra, Sládečková Kristýna, Smith Gabriella, Sněgoňová Kristýna, Sobotková Anna, Sodomková Magdalena, Soldánová Alexandra, Soldátová Natálie, Soukupová Petra, Srňánková Lucie, Stejskalová Věra, Strachotová Zuzana, Straková Izabela, Strnadová Anna, Stráníková Jarmila, Stujová Andrea, Střihavková Eva, Surmanová Kateřina, Svoboda Monika, Svobodová Martina, Symerová Martina, Sýkorová Klára, Tachovská-Vestman Kateřina, Tajovská Iva, Teremová Lenka, Teršová Klára, Tomšů Radmila, Trobok Ella, Trpková Kristýna, Tučková Kateřina, Twodová Viola, Táborská Dita, Třeštíková Radka, Tůmová Karolina, Urešová Iveta, Užkonečně Šťastná Dagmar, Vachtová Alena, Vajsejtlová Barbora, Valenová Lena, Valentová Veronika, Valíková Veronika, Vaňková Lucie, Vaščíková Michaela, Verrall Lucie, Vieweghová Veronika, Vlasáková Klára, Vojáčková Šárka, Vondráčková Hana, Vrzalová Veronika, Vychodilová Eva, Válková Veronika, Vůchová Sára, Walterová Benešová Barbora, Wang Tylová Klára, Wernerová Jaroslava, Wetterová Adriana, Whitton Hana, Wilková Scarlett, Xabyssus Sam, Zadinová Radka, Zeithammerová Sára, Zgustová Monika, Zhřívalová Petra, Zlínská Hana, Znamínková Marie, Zvěřová Lucie, Čechová Dagmar Digma, Čechová Miřenka, Čekalová Martina, Černajová Vladimíra, Černohlávková Večeřová Barbora, Černohorská Nelly, Černucká Veronika, Černá Denisa, Černá Jaroslava, Červenková Renata, Čikovská Pavlína, Čtyroká Marie, Říhová Zuzana, Šafránková Daniela, Šalé Michaela, Ševčíková Kateřina, Šilhová Lucie, Škorpilová Nicole, Škultéty Michaela, Špaček Kateřina, Štichauerová Jitka, Štraubová Alena, Štráfeldová Milena, Štěchová Michaela, Štěpánková Kamila, Šuláková Anna, Švecová Jana, Švejnohová Hana, Švédová Zuzana, Šíková Lenka, Šťastná Barbora, Žáková Helena, Žáková Ivana'"
      ]
     },
     "execution_count": 105,
     "metadata": {},
     "output_type": "execute_result"
    }
   ],
   "source": [
    "zeny = mz_filtr[mz_filtr['gender'] == 'žena']['autorstvo_kod'].drop_duplicates().to_list()\n",
    "', '.join(sorted(df[df['autorstvo_kod'].isin(zeny)]['autorstvo'].drop_duplicates().to_list()))"
   ]
  },
  {
   "cell_type": "code",
   "execution_count": 106,
   "id": "f12048db-fb01-4851-a4c5-17232a8165f6",
   "metadata": {},
   "outputs": [
    {
     "data": {
      "text/plain": [
       "4544"
      ]
     },
     "execution_count": 106,
     "metadata": {},
     "output_type": "execute_result"
    }
   ],
   "source": [
    "len(pomer)"
   ]
  },
  {
   "cell_type": "code",
   "execution_count": 107,
   "id": "2511ae61-6958-4b0f-a279-4e9276c534c7",
   "metadata": {
    "scrolled": true
   },
   "outputs": [
    {
     "data": {
      "text/plain": [
       "<Axes: ylabel='Frequency'>"
      ]
     },
     "execution_count": 107,
     "metadata": {},
     "output_type": "execute_result"
    },
    {
     "data": {
      "image/png": "[encoded data removed]",
      "text/plain": [
       "<Figure size 640x480 with 1 Axes>"
      ]
     },
     "metadata": {},
     "output_type": "display_data"
    }
   ],
   "source": [
    "pomer.plot.hist(bins=20)"
   ]
  },
  {
   "cell_type": "code",
   "execution_count": 108,
   "id": "634a8ae2-8f9e-4a06-90a6-f3f333b2629c",
   "metadata": {},
   "outputs": [
    {
     "data": {
      "text/html": [
       "<div>\n",
       "<style scoped>\n",
       "    .dataframe tbody tr th:only-of-type {\n",
       "        vertical-align: middle;\n",
       "    }\n",
       "\n",
       "    .dataframe tbody tr th {\n",
       "        vertical-align: top;\n",
       "    }\n",
       "\n",
       "    .dataframe thead th {\n",
       "        text-align: right;\n",
       "    }\n",
       "</style>\n",
       "<table border=\"1\" class=\"dataframe\">\n",
       "  <thead>\n",
       "    <tr style=\"text-align: right;\">\n",
       "      <th></th>\n",
       "      <th>cetnost</th>\n",
       "      <th>odchylka</th>\n",
       "    </tr>\n",
       "    <tr>\n",
       "      <th>slova</th>\n",
       "      <th></th>\n",
       "      <th></th>\n",
       "    </tr>\n",
       "  </thead>\n",
       "  <tbody>\n",
       "    <tr>\n",
       "      <th>když</th>\n",
       "      <td>1.000000</td>\n",
       "      <td>0.000000</td>\n",
       "    </tr>\n",
       "    <tr>\n",
       "      <th>ale</th>\n",
       "      <td>1.000000</td>\n",
       "      <td>0.000000</td>\n",
       "    </tr>\n",
       "    <tr>\n",
       "      <th>jako</th>\n",
       "      <td>1.000000</td>\n",
       "      <td>0.000000</td>\n",
       "    </tr>\n",
       "    <tr>\n",
       "      <th>být</th>\n",
       "      <td>1.000000</td>\n",
       "      <td>0.000000</td>\n",
       "    </tr>\n",
       "    <tr>\n",
       "      <th>možný</th>\n",
       "      <td>1.000156</td>\n",
       "      <td>0.000156</td>\n",
       "    </tr>\n",
       "    <tr>\n",
       "      <th>tak</th>\n",
       "      <td>0.999553</td>\n",
       "      <td>0.000447</td>\n",
       "    </tr>\n",
       "    <tr>\n",
       "      <th>odkládat</th>\n",
       "      <td>0.999553</td>\n",
       "      <td>0.000447</td>\n",
       "    </tr>\n",
       "    <tr>\n",
       "      <th>všechen</th>\n",
       "      <td>0.999553</td>\n",
       "      <td>0.000447</td>\n",
       "    </tr>\n",
       "    <tr>\n",
       "      <th>on</th>\n",
       "      <td>0.999553</td>\n",
       "      <td>0.000447</td>\n",
       "    </tr>\n",
       "    <tr>\n",
       "      <th>svůj</th>\n",
       "      <td>0.999553</td>\n",
       "      <td>0.000447</td>\n",
       "    </tr>\n",
       "    <tr>\n",
       "      <th>celý</th>\n",
       "      <td>1.000500</td>\n",
       "      <td>0.000500</td>\n",
       "    </tr>\n",
       "    <tr>\n",
       "      <th>proč</th>\n",
       "      <td>1.000563</td>\n",
       "      <td>0.000563</td>\n",
       "    </tr>\n",
       "    <tr>\n",
       "      <th>já</th>\n",
       "      <td>0.999436</td>\n",
       "      <td>0.000564</td>\n",
       "    </tr>\n",
       "    <tr>\n",
       "      <th>popravdě</th>\n",
       "      <td>1.000635</td>\n",
       "      <td>0.000635</td>\n",
       "    </tr>\n",
       "    <tr>\n",
       "      <th>také</th>\n",
       "      <td>0.999322</td>\n",
       "      <td>0.000678</td>\n",
       "    </tr>\n",
       "    <tr>\n",
       "      <th>rok</th>\n",
       "      <td>0.999322</td>\n",
       "      <td>0.000678</td>\n",
       "    </tr>\n",
       "    <tr>\n",
       "      <th>než</th>\n",
       "      <td>0.999211</td>\n",
       "      <td>0.000789</td>\n",
       "    </tr>\n",
       "    <tr>\n",
       "      <th>přes</th>\n",
       "      <td>0.999044</td>\n",
       "      <td>0.000956</td>\n",
       "    </tr>\n",
       "    <tr>\n",
       "      <th>středa</th>\n",
       "      <td>0.998965</td>\n",
       "      <td>0.001035</td>\n",
       "    </tr>\n",
       "    <tr>\n",
       "      <th>síla</th>\n",
       "      <td>0.998965</td>\n",
       "      <td>0.001035</td>\n",
       "    </tr>\n",
       "    <tr>\n",
       "      <th>skončit</th>\n",
       "      <td>1.001064</td>\n",
       "      <td>0.001064</td>\n",
       "    </tr>\n",
       "    <tr>\n",
       "      <th>tahat</th>\n",
       "      <td>1.001064</td>\n",
       "      <td>0.001064</td>\n",
       "    </tr>\n",
       "    <tr>\n",
       "      <th>dělat</th>\n",
       "      <td>1.001257</td>\n",
       "      <td>0.001257</td>\n",
       "    </tr>\n",
       "    <tr>\n",
       "      <th>děj</th>\n",
       "      <td>0.998703</td>\n",
       "      <td>0.001297</td>\n",
       "    </tr>\n",
       "    <tr>\n",
       "      <th>pondělí</th>\n",
       "      <td>0.998703</td>\n",
       "      <td>0.001297</td>\n",
       "    </tr>\n",
       "    <tr>\n",
       "      <th>dlouhý</th>\n",
       "      <td>0.998579</td>\n",
       "      <td>0.001421</td>\n",
       "    </tr>\n",
       "    <tr>\n",
       "      <th>jeden</th>\n",
       "      <td>1.001466</td>\n",
       "      <td>0.001466</td>\n",
       "    </tr>\n",
       "    <tr>\n",
       "      <th>zaujmout</th>\n",
       "      <td>0.998459</td>\n",
       "      <td>0.001541</td>\n",
       "    </tr>\n",
       "    <tr>\n",
       "      <th>mladý</th>\n",
       "      <td>1.001662</td>\n",
       "      <td>0.001662</td>\n",
       "    </tr>\n",
       "    <tr>\n",
       "      <th>dát</th>\n",
       "      <td>0.998294</td>\n",
       "      <td>0.001706</td>\n",
       "    </tr>\n",
       "    <tr>\n",
       "      <th>zlý</th>\n",
       "      <td>0.998275</td>\n",
       "      <td>0.001725</td>\n",
       "    </tr>\n",
       "    <tr>\n",
       "      <th>přesto</th>\n",
       "      <td>1.001791</td>\n",
       "      <td>0.001791</td>\n",
       "    </tr>\n",
       "    <tr>\n",
       "      <th>moci</th>\n",
       "      <td>1.001911</td>\n",
       "      <td>0.001911</td>\n",
       "    </tr>\n",
       "    <tr>\n",
       "      <th>jak</th>\n",
       "      <td>1.001911</td>\n",
       "      <td>0.001911</td>\n",
       "    </tr>\n",
       "    <tr>\n",
       "      <th>aby</th>\n",
       "      <td>1.001911</td>\n",
       "      <td>0.001911</td>\n",
       "    </tr>\n",
       "    <tr>\n",
       "      <th>varovat</th>\n",
       "      <td>0.998018</td>\n",
       "      <td>0.001982</td>\n",
       "    </tr>\n",
       "    <tr>\n",
       "      <th>inteligentní</th>\n",
       "      <td>0.998018</td>\n",
       "      <td>0.001982</td>\n",
       "    </tr>\n",
       "    <tr>\n",
       "      <th>koupat</th>\n",
       "      <td>0.998018</td>\n",
       "      <td>0.001982</td>\n",
       "    </tr>\n",
       "    <tr>\n",
       "      <th>nutkání</th>\n",
       "      <td>0.998018</td>\n",
       "      <td>0.001982</td>\n",
       "    </tr>\n",
       "    <tr>\n",
       "      <th>motiv</th>\n",
       "      <td>0.998018</td>\n",
       "      <td>0.001982</td>\n",
       "    </tr>\n",
       "    <tr>\n",
       "      <th>chytrý</th>\n",
       "      <td>0.998018</td>\n",
       "      <td>0.001982</td>\n",
       "    </tr>\n",
       "    <tr>\n",
       "      <th>dobrodružství</th>\n",
       "      <td>1.002058</td>\n",
       "      <td>0.002058</td>\n",
       "    </tr>\n",
       "    <tr>\n",
       "      <th>hledat</th>\n",
       "      <td>1.002058</td>\n",
       "      <td>0.002058</td>\n",
       "    </tr>\n",
       "    <tr>\n",
       "      <th>otáčet</th>\n",
       "      <td>1.002058</td>\n",
       "      <td>0.002058</td>\n",
       "    </tr>\n",
       "    <tr>\n",
       "      <th>smůla</th>\n",
       "      <td>1.002058</td>\n",
       "      <td>0.002058</td>\n",
       "    </tr>\n",
       "    <tr>\n",
       "      <th>šetřit</th>\n",
       "      <td>1.002058</td>\n",
       "      <td>0.002058</td>\n",
       "    </tr>\n",
       "    <tr>\n",
       "      <th>půlka</th>\n",
       "      <td>1.002058</td>\n",
       "      <td>0.002058</td>\n",
       "    </tr>\n",
       "    <tr>\n",
       "      <th>film</th>\n",
       "      <td>1.002058</td>\n",
       "      <td>0.002058</td>\n",
       "    </tr>\n",
       "    <tr>\n",
       "      <th>přítomnost</th>\n",
       "      <td>1.002058</td>\n",
       "      <td>0.002058</td>\n",
       "    </tr>\n",
       "    <tr>\n",
       "      <th>péče</th>\n",
       "      <td>1.002058</td>\n",
       "      <td>0.002058</td>\n",
       "    </tr>\n",
       "    <tr>\n",
       "      <th>projít</th>\n",
       "      <td>0.997818</td>\n",
       "      <td>0.002182</td>\n",
       "    </tr>\n",
       "    <tr>\n",
       "      <th>hodina</th>\n",
       "      <td>1.002268</td>\n",
       "      <td>0.002268</td>\n",
       "    </tr>\n",
       "    <tr>\n",
       "      <th>přísný</th>\n",
       "      <td>0.997453</td>\n",
       "      <td>0.002547</td>\n",
       "    </tr>\n",
       "    <tr>\n",
       "      <th>mít</th>\n",
       "      <td>0.997207</td>\n",
       "      <td>0.002793</td>\n",
       "    </tr>\n",
       "    <tr>\n",
       "      <th>ten</th>\n",
       "      <td>0.997207</td>\n",
       "      <td>0.002793</td>\n",
       "    </tr>\n",
       "    <tr>\n",
       "      <th>žádný</th>\n",
       "      <td>0.997143</td>\n",
       "      <td>0.002857</td>\n",
       "    </tr>\n",
       "    <tr>\n",
       "      <th>ani</th>\n",
       "      <td>1.002953</td>\n",
       "      <td>0.002953</td>\n",
       "    </tr>\n",
       "    <tr>\n",
       "      <th>rána</th>\n",
       "      <td>0.996980</td>\n",
       "      <td>0.003020</td>\n",
       "    </tr>\n",
       "    <tr>\n",
       "      <th>prsten</th>\n",
       "      <td>0.996980</td>\n",
       "      <td>0.003020</td>\n",
       "    </tr>\n",
       "    <tr>\n",
       "      <th>rozhodnutí</th>\n",
       "      <td>1.003093</td>\n",
       "      <td>0.003093</td>\n",
       "    </tr>\n",
       "  </tbody>\n",
       "</table>\n",
       "</div>"
      ],
      "text/plain": [
       "                cetnost  odchylka\n",
       "slova                            \n",
       "když           1.000000  0.000000\n",
       "ale            1.000000  0.000000\n",
       "jako           1.000000  0.000000\n",
       "být            1.000000  0.000000\n",
       "možný          1.000156  0.000156\n",
       "tak            0.999553  0.000447\n",
       "odkládat       0.999553  0.000447\n",
       "všechen        0.999553  0.000447\n",
       "on             0.999553  0.000447\n",
       "svůj           0.999553  0.000447\n",
       "celý           1.000500  0.000500\n",
       "proč           1.000563  0.000563\n",
       "já             0.999436  0.000564\n",
       "popravdě       1.000635  0.000635\n",
       "také           0.999322  0.000678\n",
       "rok            0.999322  0.000678\n",
       "než            0.999211  0.000789\n",
       "přes           0.999044  0.000956\n",
       "středa         0.998965  0.001035\n",
       "síla           0.998965  0.001035\n",
       "skončit        1.001064  0.001064\n",
       "tahat          1.001064  0.001064\n",
       "dělat          1.001257  0.001257\n",
       "děj            0.998703  0.001297\n",
       "pondělí        0.998703  0.001297\n",
       "dlouhý         0.998579  0.001421\n",
       "jeden          1.001466  0.001466\n",
       "zaujmout       0.998459  0.001541\n",
       "mladý          1.001662  0.001662\n",
       "dát            0.998294  0.001706\n",
       "zlý            0.998275  0.001725\n",
       "přesto         1.001791  0.001791\n",
       "moci           1.001911  0.001911\n",
       "jak            1.001911  0.001911\n",
       "aby            1.001911  0.001911\n",
       "varovat        0.998018  0.001982\n",
       "inteligentní   0.998018  0.001982\n",
       "koupat         0.998018  0.001982\n",
       "nutkání        0.998018  0.001982\n",
       "motiv          0.998018  0.001982\n",
       "chytrý         0.998018  0.001982\n",
       "dobrodružství  1.002058  0.002058\n",
       "hledat         1.002058  0.002058\n",
       "otáčet         1.002058  0.002058\n",
       "smůla          1.002058  0.002058\n",
       "šetřit         1.002058  0.002058\n",
       "půlka          1.002058  0.002058\n",
       "film           1.002058  0.002058\n",
       "přítomnost     1.002058  0.002058\n",
       "péče           1.002058  0.002058\n",
       "projít         0.997818  0.002182\n",
       "hodina         1.002268  0.002268\n",
       "přísný         0.997453  0.002547\n",
       "mít            0.997207  0.002793\n",
       "ten            0.997207  0.002793\n",
       "žádný          0.997143  0.002857\n",
       "ani            1.002953  0.002953\n",
       "rána           0.996980  0.003020\n",
       "prsten         0.996980  0.003020\n",
       "rozhodnutí     1.003093  0.003093"
      ]
     },
     "execution_count": 108,
     "metadata": {},
     "output_type": "execute_result"
    }
   ],
   "source": [
    "neutralita = pd.DataFrame(pomer).rename(columns={0:'cetnost'})\n",
    "neutralita['odchylka'] = neutralita['cetnost'].apply(lambda x: x-1 if x>1 else 1-x)\n",
    "neutralita.sort_values(by='odchylka').head(60)"
   ]
  },
  {
   "cell_type": "markdown",
   "id": "56c777c1-a5d0-4f62-86fe-76103355ccd9",
   "metadata": {},
   "source": [
    "## Slova více používaná muži-spisovateli"
   ]
  },
  {
   "cell_type": "code",
   "execution_count": 110,
   "id": "fea95f4f-a5cf-4e25-91e3-5d2db77266ed",
   "metadata": {},
   "outputs": [
    {
     "data": {
      "text/plain": [
       "slova\n",
       "pistole          3.490503\n",
       "prezident        3.219849\n",
       "ruský            3.068803\n",
       "kladivo          2.855866\n",
       "nepříliš         2.799869\n",
       "kulka            2.776536\n",
       "vůl              2.751746\n",
       "velet            2.697207\n",
       "souboj           2.693031\n",
       "politik          2.677374\n",
       "střílet          2.663208\n",
       "zaregistrovat    2.603003\n",
       "ohrozit          2.589878\n",
       "civilizace       2.542153\n",
       "zvláště          2.512104\n",
       "kapitán          2.502986\n",
       "posléze          2.498883\n",
       "hlídka           2.498883\n",
       "služebný         2.498883\n",
       "motor            2.473831\n",
       "západní          2.468032\n",
       "komín            2.445996\n",
       "riziko           2.439385\n",
       "vývoj            2.436552\n",
       "technický        2.429469\n",
       "dtype: float64"
      ]
     },
     "execution_count": 110,
     "metadata": {},
     "output_type": "execute_result"
    }
   ],
   "source": [
    "pomer.sort_values(ascending=False).head(25)"
   ]
  },
  {
   "cell_type": "code",
   "execution_count": 111,
   "id": "f659a7db-fdf6-40c5-a219-3a7b8c5b79a4",
   "metadata": {},
   "outputs": [
    {
     "data": {
      "text/plain": [
       "slova\n",
       "netušila      0.224767\n",
       "zahlédla      0.244091\n",
       "užívala       0.278498\n",
       "nečekala      0.278893\n",
       "lekla         0.283320\n",
       "neuměla       0.303319\n",
       "rozhlížela    0.319253\n",
       "ucítila       0.322985\n",
       "ptala         0.349223\n",
       "nestihla      0.354451\n",
       "přejela       0.376816\n",
       "zadívala      0.383853\n",
       "vyhrkla       0.388025\n",
       "četla         0.392797\n",
       "chystala      0.396648\n",
       "ušklíbla      0.419980\n",
       "nešla         0.428380\n",
       "nalila        0.435345\n",
       "chytla        0.439762\n",
       "nechávala     0.442770\n",
       "odložila      0.471020\n",
       "strčila       0.471020\n",
       "neřekla       0.471265\n",
       "usmívala      0.471874\n",
       "sklopila      0.488182\n",
       "zamávala      0.495810\n",
       "vzdychla      0.509976\n",
       "mávla         0.549205\n",
       "zasmála       0.549205\n",
       "vyrazila      0.553073\n",
       "odvětila      0.570182\n",
       "odsekla       0.594972\n",
       "zažila        0.628026\n",
       "nepřišla      0.636482\n",
       "přikývla      0.661080\n",
       "jezdila       0.679968\n",
       "pohladila     0.735602\n",
       "dokola        0.783126\n",
       "Hela          0.839961\n",
       "stodola       0.861684\n",
       "škola         0.887810\n",
       "jehla         0.912291\n",
       "docela        0.996705\n",
       "síla          0.998965\n",
       "smůla         1.002058\n",
       "cela          1.008486\n",
       "kontrola      1.015806\n",
       "zcela         1.028952\n",
       "kapitola      1.039491\n",
       "kapela        1.093462\n",
       "pila          1.152758\n",
       "hala          1.153330\n",
       "skála         1.168309\n",
       "nula          1.274940\n",
       "žíla          1.363478\n",
       "mrtvola       1.413059\n",
       "vila          1.478415\n",
       "cihla         1.568563\n",
       "Karla         1.577368\n",
       "střela        1.903911\n",
       "zpravidla     1.963408\n",
       "dtype: float64"
      ]
     },
     "execution_count": 111,
     "metadata": {},
     "output_type": "execute_result"
    }
   ],
   "source": [
    "pomer[pomer.index.str.endswith('la')].sort_values()"
   ]
  },
  {
   "cell_type": "markdown",
   "id": "a8659002-a9cf-4014-b158-8e923be1f622",
   "metadata": {},
   "source": [
    "## Slova více používaná ženami-spisovatelkami"
   ]
  },
  {
   "cell_type": "markdown",
   "id": "af6a0893-d62d-458c-ac19-b6a695caf537",
   "metadata": {},
   "source": [
    "Pleso vypadá spíš jako špatné lemma slova ples."
   ]
  },
  {
   "cell_type": "code",
   "execution_count": 114,
   "id": "65c81f67-1889-45e4-b576-67f9582ae140",
   "metadata": {},
   "outputs": [
    {
     "data": {
      "text/plain": [
       "slova\n",
       "babi           5.402414\n",
       "netušila       4.449047\n",
       "zahlédla       4.096831\n",
       "užívala        3.590696\n",
       "nečekala       3.585603\n",
       "lekla          3.529577\n",
       "pyžamo         3.514298\n",
       "salát          3.361502\n",
       "neuměla        3.296858\n",
       "rozhlížela     3.132309\n",
       "ucítila        3.096121\n",
       "kamarádka      2.969327\n",
       "ptala          2.863502\n",
       "nestihla       2.821261\n",
       "miminko        2.801252\n",
       "obývací        2.669428\n",
       "přejela        2.653818\n",
       "objímat        2.630741\n",
       "rande          2.619994\n",
       "zadívala       2.605164\n",
       "mamka          2.577152\n",
       "vyhrkla        2.577152\n",
       "četla          2.545844\n",
       "chystala       2.521127\n",
       "povytáhnout    2.456482\n",
       "dtype: float64"
      ]
     },
     "execution_count": 114,
     "metadata": {},
     "output_type": "execute_result"
    }
   ],
   "source": [
    "(1 / pomer).sort_values(ascending=False).head(25)"
   ]
  },
  {
   "cell_type": "markdown",
   "id": "b831353d-ff23-4a3e-917a-8fd957fd4f67",
   "metadata": {},
   "source": [
    "## Graf"
   ]
  },
  {
   "cell_type": "code",
   "execution_count": 116,
   "id": "16b39cc6-6e5c-4657-8302-0a955f5e103a",
   "metadata": {},
   "outputs": [
    {
     "data": {
      "text/plain": [
       "slova\n",
       "spjelkavik             NaN\n",
       "zkoprnět          1.006876\n",
       "zašpiněné         1.189944\n",
       "nitěmi                 NaN\n",
       "omráčená          2.379888\n",
       "hromovládcovy          NaN\n",
       "znesvářit              NaN\n",
       "solinem                NaN\n",
       "tetřevně               NaN\n",
       "ventilátorem           NaN\n",
       "uetaduem               NaN\n",
       "felaci                 NaN\n",
       "posielanie             NaN\n",
       "vyslanému              NaN\n",
       "onta                   NaN\n",
       "pomalovaná             NaN\n",
       "výbušnost              NaN\n",
       "poseče                 NaN\n",
       "křivda            2.039904\n",
       "prostranstvích    1.189944\n",
       "dtype: float64"
      ]
     },
     "execution_count": 116,
     "metadata": {},
     "output_type": "execute_result"
    }
   ],
   "source": [
    "pomer_vsech.sample(20)"
   ]
  },
  {
   "cell_type": "code",
   "execution_count": 117,
   "id": "7f526f28-0902-4875-928a-9e1795b34db6",
   "metadata": {},
   "outputs": [
    {
     "data": {
      "text/html": [
       "<div>\n",
       "<style scoped>\n",
       "    .dataframe tbody tr th:only-of-type {\n",
       "        vertical-align: middle;\n",
       "    }\n",
       "\n",
       "    .dataframe tbody tr th {\n",
       "        vertical-align: top;\n",
       "    }\n",
       "\n",
       "    .dataframe thead th {\n",
       "        text-align: right;\n",
       "    }\n",
       "</style>\n",
       "<table border=\"1\" class=\"dataframe\">\n",
       "  <thead>\n",
       "    <tr style=\"text-align: right;\">\n",
       "      <th></th>\n",
       "      <th>slova</th>\n",
       "      <th>0</th>\n",
       "    </tr>\n",
       "  </thead>\n",
       "  <tbody>\n",
       "    <tr>\n",
       "      <th>0</th>\n",
       "      <td>Adam</td>\n",
       "      <td>1.045708</td>\n",
       "    </tr>\n",
       "    <tr>\n",
       "      <th>1</th>\n",
       "      <td>Amerika</td>\n",
       "      <td>1.272963</td>\n",
       "    </tr>\n",
       "    <tr>\n",
       "      <th>2</th>\n",
       "      <td>Anglie</td>\n",
       "      <td>1.101800</td>\n",
       "    </tr>\n",
       "    <tr>\n",
       "      <th>3</th>\n",
       "      <td>Anna</td>\n",
       "      <td>1.054723</td>\n",
       "    </tr>\n",
       "    <tr>\n",
       "      <th>4</th>\n",
       "      <td>Brno</td>\n",
       "      <td>0.964820</td>\n",
       "    </tr>\n",
       "    <tr>\n",
       "      <th>...</th>\n",
       "      <td>...</td>\n",
       "      <td>...</td>\n",
       "    </tr>\n",
       "    <tr>\n",
       "      <th>4539</th>\n",
       "      <td>žádost</td>\n",
       "      <td>1.478415</td>\n",
       "    </tr>\n",
       "    <tr>\n",
       "      <th>4540</th>\n",
       "      <td>žák</td>\n",
       "      <td>1.294939</td>\n",
       "    </tr>\n",
       "    <tr>\n",
       "      <th>4541</th>\n",
       "      <td>žíla</td>\n",
       "      <td>1.363478</td>\n",
       "    </tr>\n",
       "    <tr>\n",
       "      <th>4542</th>\n",
       "      <td>žít</td>\n",
       "      <td>0.884095</td>\n",
       "    </tr>\n",
       "    <tr>\n",
       "      <th>4543</th>\n",
       "      <td>žízeň</td>\n",
       "      <td>1.380335</td>\n",
       "    </tr>\n",
       "  </tbody>\n",
       "</table>\n",
       "<p>4544 rows × 2 columns</p>\n",
       "</div>"
      ],
      "text/plain": [
       "        slova         0\n",
       "0        Adam  1.045708\n",
       "1     Amerika  1.272963\n",
       "2      Anglie  1.101800\n",
       "3        Anna  1.054723\n",
       "4        Brno  0.964820\n",
       "...       ...       ...\n",
       "4539   žádost  1.478415\n",
       "4540      žák  1.294939\n",
       "4541     žíla  1.363478\n",
       "4542      žít  0.884095\n",
       "4543    žízeň  1.380335\n",
       "\n",
       "[4544 rows x 2 columns]"
      ]
     },
     "execution_count": 117,
     "metadata": {},
     "output_type": "execute_result"
    }
   ],
   "source": [
    "pomer.reset_index()"
   ]
  },
  {
   "cell_type": "code",
   "execution_count": 118,
   "id": "aa69c596-160e-4395-9fcb-b0a8d389626d",
   "metadata": {},
   "outputs": [],
   "source": [
    "import polars as pl"
   ]
  },
  {
   "cell_type": "code",
   "execution_count": 119,
   "id": "98ac2ffa-3e13-4b28-9ee6-15d3a6f5edca",
   "metadata": {},
   "outputs": [
    {
     "data": {
      "text/plain": [
       "slova\n",
       "Adam       1.045708\n",
       "Amerika    1.272963\n",
       "Anglie     1.101800\n",
       "Anna       1.054723\n",
       "Brno       0.964820\n",
       "             ...   \n",
       "žádost     1.478415\n",
       "žák        1.294939\n",
       "žíla       1.363478\n",
       "žít        0.884095\n",
       "žízeň      1.380335\n",
       "Length: 4544, dtype: float64"
      ]
     },
     "execution_count": 119,
     "metadata": {},
     "output_type": "execute_result"
    }
   ],
   "source": [
    "pomer"
   ]
  },
  {
   "cell_type": "code",
   "execution_count": 120,
   "id": "c3330e87-aabb-449a-b89d-571fdb91f19b",
   "metadata": {},
   "outputs": [],
   "source": [
    "pomer = pomer.reset_index().rename(columns={'slova':'slovo',0:'rozdíl'})"
   ]
  },
  {
   "cell_type": "code",
   "execution_count": 121,
   "id": "099a2660-4eef-4cd0-860e-5cd7b4ab789e",
   "metadata": {},
   "outputs": [
    {
     "data": {
      "text/html": [
       "<div>\n",
       "<style scoped>\n",
       "    .dataframe tbody tr th:only-of-type {\n",
       "        vertical-align: middle;\n",
       "    }\n",
       "\n",
       "    .dataframe tbody tr th {\n",
       "        vertical-align: top;\n",
       "    }\n",
       "\n",
       "    .dataframe thead th {\n",
       "        text-align: right;\n",
       "    }\n",
       "</style>\n",
       "<table border=\"1\" class=\"dataframe\">\n",
       "  <thead>\n",
       "    <tr style=\"text-align: right;\">\n",
       "      <th></th>\n",
       "      <th>slovo</th>\n",
       "      <th>rozdíl</th>\n",
       "    </tr>\n",
       "  </thead>\n",
       "  <tbody>\n",
       "    <tr>\n",
       "      <th>0</th>\n",
       "      <td>Adam</td>\n",
       "      <td>1.045708</td>\n",
       "    </tr>\n",
       "    <tr>\n",
       "      <th>1</th>\n",
       "      <td>Amerika</td>\n",
       "      <td>1.272963</td>\n",
       "    </tr>\n",
       "    <tr>\n",
       "      <th>2</th>\n",
       "      <td>Anglie</td>\n",
       "      <td>1.101800</td>\n",
       "    </tr>\n",
       "    <tr>\n",
       "      <th>3</th>\n",
       "      <td>Anna</td>\n",
       "      <td>1.054723</td>\n",
       "    </tr>\n",
       "    <tr>\n",
       "      <th>4</th>\n",
       "      <td>Brno</td>\n",
       "      <td>0.964820</td>\n",
       "    </tr>\n",
       "    <tr>\n",
       "      <th>...</th>\n",
       "      <td>...</td>\n",
       "      <td>...</td>\n",
       "    </tr>\n",
       "    <tr>\n",
       "      <th>4539</th>\n",
       "      <td>žádost</td>\n",
       "      <td>1.478415</td>\n",
       "    </tr>\n",
       "    <tr>\n",
       "      <th>4540</th>\n",
       "      <td>žák</td>\n",
       "      <td>1.294939</td>\n",
       "    </tr>\n",
       "    <tr>\n",
       "      <th>4541</th>\n",
       "      <td>žíla</td>\n",
       "      <td>1.363478</td>\n",
       "    </tr>\n",
       "    <tr>\n",
       "      <th>4542</th>\n",
       "      <td>žít</td>\n",
       "      <td>0.884095</td>\n",
       "    </tr>\n",
       "    <tr>\n",
       "      <th>4543</th>\n",
       "      <td>žízeň</td>\n",
       "      <td>1.380335</td>\n",
       "    </tr>\n",
       "  </tbody>\n",
       "</table>\n",
       "<p>4544 rows × 2 columns</p>\n",
       "</div>"
      ],
      "text/plain": [
       "        slovo    rozdíl\n",
       "0        Adam  1.045708\n",
       "1     Amerika  1.272963\n",
       "2      Anglie  1.101800\n",
       "3        Anna  1.054723\n",
       "4        Brno  0.964820\n",
       "...       ...       ...\n",
       "4539   žádost  1.478415\n",
       "4540      žák  1.294939\n",
       "4541     žíla  1.363478\n",
       "4542      žít  0.884095\n",
       "4543    žízeň  1.380335\n",
       "\n",
       "[4544 rows x 2 columns]"
      ]
     },
     "execution_count": 121,
     "metadata": {},
     "output_type": "execute_result"
    }
   ],
   "source": [
    "pomer"
   ]
  },
  {
   "cell_type": "code",
   "execution_count": 135,
   "id": "c5a6c394-f7f3-4adc-9750-2841a2d0788e",
   "metadata": {},
   "outputs": [
    {
     "data": {
      "text/html": [
       "<div>\n",
       "<style scoped>\n",
       "    .dataframe tbody tr th:only-of-type {\n",
       "        vertical-align: middle;\n",
       "    }\n",
       "\n",
       "    .dataframe tbody tr th {\n",
       "        vertical-align: top;\n",
       "    }\n",
       "\n",
       "    .dataframe thead th {\n",
       "        text-align: right;\n",
       "    }\n",
       "</style>\n",
       "<table border=\"1\" class=\"dataframe\">\n",
       "  <thead>\n",
       "    <tr style=\"text-align: right;\">\n",
       "      <th></th>\n",
       "      <th>slovo</th>\n",
       "      <th>rozdíl</th>\n",
       "    </tr>\n",
       "  </thead>\n",
       "  <tbody>\n",
       "  </tbody>\n",
       "</table>\n",
       "</div>"
      ],
      "text/plain": [
       "Empty DataFrame\n",
       "Columns: [slovo, rozdíl]\n",
       "Index: []"
      ]
     },
     "execution_count": 135,
     "metadata": {},
     "output_type": "execute_result"
    }
   ],
   "source": []
  },
  {
   "cell_type": "code",
   "execution_count": 122,
   "id": "d99a2ed7-080b-49ee-9893-85b7a34a5608",
   "metadata": {},
   "outputs": [
    {
     "data": {
      "text/html": [
       "<div>\n",
       "<style scoped>\n",
       "    .dataframe tbody tr th:only-of-type {\n",
       "        vertical-align: middle;\n",
       "    }\n",
       "\n",
       "    .dataframe tbody tr th {\n",
       "        vertical-align: top;\n",
       "    }\n",
       "\n",
       "    .dataframe thead th {\n",
       "        text-align: right;\n",
       "    }\n",
       "</style>\n",
       "<table border=\"1\" class=\"dataframe\">\n",
       "  <thead>\n",
       "    <tr style=\"text-align: right;\">\n",
       "      <th></th>\n",
       "      <th>slovo</th>\n",
       "      <th>rozdíl</th>\n",
       "    </tr>\n",
       "  </thead>\n",
       "  <tbody>\n",
       "    <tr>\n",
       "      <th>0</th>\n",
       "      <td>Adam</td>\n",
       "      <td>1.045708</td>\n",
       "    </tr>\n",
       "    <tr>\n",
       "      <th>1</th>\n",
       "      <td>Amerika</td>\n",
       "      <td>1.272963</td>\n",
       "    </tr>\n",
       "    <tr>\n",
       "      <th>2</th>\n",
       "      <td>Anglie</td>\n",
       "      <td>1.101800</td>\n",
       "    </tr>\n",
       "    <tr>\n",
       "      <th>3</th>\n",
       "      <td>Anna</td>\n",
       "      <td>1.054723</td>\n",
       "    </tr>\n",
       "    <tr>\n",
       "      <th>4</th>\n",
       "      <td>Brno</td>\n",
       "      <td>0.964820</td>\n",
       "    </tr>\n",
       "    <tr>\n",
       "      <th>...</th>\n",
       "      <td>...</td>\n",
       "      <td>...</td>\n",
       "    </tr>\n",
       "    <tr>\n",
       "      <th>4538</th>\n",
       "      <td>žádný</td>\n",
       "      <td>0.997143</td>\n",
       "    </tr>\n",
       "    <tr>\n",
       "      <th>4539</th>\n",
       "      <td>žádost</td>\n",
       "      <td>1.478415</td>\n",
       "    </tr>\n",
       "    <tr>\n",
       "      <th>4540</th>\n",
       "      <td>žák</td>\n",
       "      <td>1.294939</td>\n",
       "    </tr>\n",
       "    <tr>\n",
       "      <th>4542</th>\n",
       "      <td>žít</td>\n",
       "      <td>0.884095</td>\n",
       "    </tr>\n",
       "    <tr>\n",
       "      <th>4543</th>\n",
       "      <td>žízeň</td>\n",
       "      <td>1.380335</td>\n",
       "    </tr>\n",
       "  </tbody>\n",
       "</table>\n",
       "<p>4483 rows × 2 columns</p>\n",
       "</div>"
      ],
      "text/plain": [
       "        slovo    rozdíl\n",
       "0        Adam  1.045708\n",
       "1     Amerika  1.272963\n",
       "2      Anglie  1.101800\n",
       "3        Anna  1.054723\n",
       "4        Brno  0.964820\n",
       "...       ...       ...\n",
       "4538    žádný  0.997143\n",
       "4539   žádost  1.478415\n",
       "4540      žák  1.294939\n",
       "4542      žít  0.884095\n",
       "4543    žízeň  1.380335\n",
       "\n",
       "[4483 rows x 2 columns]"
      ]
     },
     "execution_count": 122,
     "metadata": {},
     "output_type": "execute_result"
    }
   ],
   "source": [
    "pomer_bez_a = pomer[pomer['slovo'].str[-2:] != 'la']\n",
    "pomer_bez_a"
   ]
  },
  {
   "cell_type": "code",
   "execution_count": 123,
   "id": "b0770939-9554-43a6-969e-ad48d2604a8c",
   "metadata": {},
   "outputs": [
    {
     "data": {
      "text/html": [
       "<div>\n",
       "<style scoped>\n",
       "    .dataframe tbody tr th:only-of-type {\n",
       "        vertical-align: middle;\n",
       "    }\n",
       "\n",
       "    .dataframe tbody tr th {\n",
       "        vertical-align: top;\n",
       "    }\n",
       "\n",
       "    .dataframe thead th {\n",
       "        text-align: right;\n",
       "    }\n",
       "</style>\n",
       "<table border=\"1\" class=\"dataframe\">\n",
       "  <thead>\n",
       "    <tr style=\"text-align: right;\">\n",
       "      <th></th>\n",
       "      <th>slovo</th>\n",
       "      <th>rozdíl</th>\n",
       "      <th>mz</th>\n",
       "    </tr>\n",
       "  </thead>\n",
       "  <tbody>\n",
       "    <tr>\n",
       "      <th>0</th>\n",
       "      <td>babi</td>\n",
       "      <td>5.402414</td>\n",
       "      <td>ženské autorky</td>\n",
       "    </tr>\n",
       "    <tr>\n",
       "      <th>1</th>\n",
       "      <td>pyžamo</td>\n",
       "      <td>3.514298</td>\n",
       "      <td>ženské autorky</td>\n",
       "    </tr>\n",
       "    <tr>\n",
       "      <th>2</th>\n",
       "      <td>salát</td>\n",
       "      <td>3.361502</td>\n",
       "      <td>ženské autorky</td>\n",
       "    </tr>\n",
       "    <tr>\n",
       "      <th>3</th>\n",
       "      <td>kamarádka</td>\n",
       "      <td>2.969327</td>\n",
       "      <td>ženské autorky</td>\n",
       "    </tr>\n",
       "    <tr>\n",
       "      <th>4</th>\n",
       "      <td>miminko</td>\n",
       "      <td>2.801252</td>\n",
       "      <td>ženské autorky</td>\n",
       "    </tr>\n",
       "    <tr>\n",
       "      <th>5</th>\n",
       "      <td>obývací</td>\n",
       "      <td>2.669428</td>\n",
       "      <td>ženské autorky</td>\n",
       "    </tr>\n",
       "    <tr>\n",
       "      <th>6</th>\n",
       "      <td>objímat</td>\n",
       "      <td>2.630741</td>\n",
       "      <td>ženské autorky</td>\n",
       "    </tr>\n",
       "    <tr>\n",
       "      <th>7</th>\n",
       "      <td>rande</td>\n",
       "      <td>2.619994</td>\n",
       "      <td>ženské autorky</td>\n",
       "    </tr>\n",
       "    <tr>\n",
       "      <th>8</th>\n",
       "      <td>mamka</td>\n",
       "      <td>2.577152</td>\n",
       "      <td>ženské autorky</td>\n",
       "    </tr>\n",
       "    <tr>\n",
       "      <th>9</th>\n",
       "      <td>povytáhnout</td>\n",
       "      <td>2.456482</td>\n",
       "      <td>ženské autorky</td>\n",
       "    </tr>\n",
       "    <tr>\n",
       "      <th>10</th>\n",
       "      <td>ordinace</td>\n",
       "      <td>2.456482</td>\n",
       "      <td>ženské autorky</td>\n",
       "    </tr>\n",
       "    <tr>\n",
       "      <th>11</th>\n",
       "      <td>sukně</td>\n",
       "      <td>2.427752</td>\n",
       "      <td>ženské autorky</td>\n",
       "    </tr>\n",
       "    <tr>\n",
       "      <th>12</th>\n",
       "      <td>zaregistrovat</td>\n",
       "      <td>-2.603003</td>\n",
       "      <td>mužští autoři</td>\n",
       "    </tr>\n",
       "    <tr>\n",
       "      <th>13</th>\n",
       "      <td>střílet</td>\n",
       "      <td>-2.663208</td>\n",
       "      <td>mužští autoři</td>\n",
       "    </tr>\n",
       "    <tr>\n",
       "      <th>14</th>\n",
       "      <td>politik</td>\n",
       "      <td>-2.677374</td>\n",
       "      <td>mužští autoři</td>\n",
       "    </tr>\n",
       "    <tr>\n",
       "      <th>15</th>\n",
       "      <td>souboj</td>\n",
       "      <td>-2.693031</td>\n",
       "      <td>mužští autoři</td>\n",
       "    </tr>\n",
       "    <tr>\n",
       "      <th>16</th>\n",
       "      <td>velet</td>\n",
       "      <td>-2.697207</td>\n",
       "      <td>mužští autoři</td>\n",
       "    </tr>\n",
       "    <tr>\n",
       "      <th>17</th>\n",
       "      <td>vůl</td>\n",
       "      <td>-2.751746</td>\n",
       "      <td>mužští autoři</td>\n",
       "    </tr>\n",
       "    <tr>\n",
       "      <th>18</th>\n",
       "      <td>kulka</td>\n",
       "      <td>-2.776536</td>\n",
       "      <td>mužští autoři</td>\n",
       "    </tr>\n",
       "    <tr>\n",
       "      <th>19</th>\n",
       "      <td>nepříliš</td>\n",
       "      <td>-2.799869</td>\n",
       "      <td>mužští autoři</td>\n",
       "    </tr>\n",
       "    <tr>\n",
       "      <th>20</th>\n",
       "      <td>kladivo</td>\n",
       "      <td>-2.855866</td>\n",
       "      <td>mužští autoři</td>\n",
       "    </tr>\n",
       "    <tr>\n",
       "      <th>21</th>\n",
       "      <td>ruský</td>\n",
       "      <td>-3.068803</td>\n",
       "      <td>mužští autoři</td>\n",
       "    </tr>\n",
       "    <tr>\n",
       "      <th>22</th>\n",
       "      <td>prezident</td>\n",
       "      <td>-3.219849</td>\n",
       "      <td>mužští autoři</td>\n",
       "    </tr>\n",
       "    <tr>\n",
       "      <th>23</th>\n",
       "      <td>pistole</td>\n",
       "      <td>-3.490503</td>\n",
       "      <td>mužští autoři</td>\n",
       "    </tr>\n",
       "  </tbody>\n",
       "</table>\n",
       "</div>"
      ],
      "text/plain": [
       "            slovo    rozdíl              mz\n",
       "0            babi  5.402414  ženské autorky\n",
       "1          pyžamo  3.514298  ženské autorky\n",
       "2           salát  3.361502  ženské autorky\n",
       "3       kamarádka  2.969327  ženské autorky\n",
       "4         miminko  2.801252  ženské autorky\n",
       "5         obývací  2.669428  ženské autorky\n",
       "6         objímat  2.630741  ženské autorky\n",
       "7           rande  2.619994  ženské autorky\n",
       "8           mamka  2.577152  ženské autorky\n",
       "9     povytáhnout  2.456482  ženské autorky\n",
       "10       ordinace  2.456482  ženské autorky\n",
       "11          sukně  2.427752  ženské autorky\n",
       "12  zaregistrovat -2.603003   mužští autoři\n",
       "13        střílet -2.663208   mužští autoři\n",
       "14        politik -2.677374   mužští autoři\n",
       "15         souboj -2.693031   mužští autoři\n",
       "16          velet -2.697207   mužští autoři\n",
       "17            vůl -2.751746   mužští autoři\n",
       "18          kulka -2.776536   mužští autoři\n",
       "19       nepříliš -2.799869   mužští autoři\n",
       "20        kladivo -2.855866   mužští autoři\n",
       "21          ruský -3.068803   mužští autoři\n",
       "22      prezident -3.219849   mužští autoři\n",
       "23        pistole -3.490503   mužští autoři"
      ]
     },
     "execution_count": 123,
     "metadata": {},
     "output_type": "execute_result"
    }
   ],
   "source": [
    "problematicke = ['pleso','Karlov','podpatku']\n",
    "pomer2 = pomer_bez_a\n",
    "pomer2 = pomer2[~pomer2['slovo'].isin(problematicke)]\n",
    "pomer2 = pomer2.groupby('slovo')['rozdíl'].first()\n",
    "do_grafu = pd.concat([\n",
    "    (1 / pomer2).sort_values(ascending=False).head(12),\n",
    "    -pomer2.sort_values(ascending=False).head(12)\n",
    "]).sort_values(ascending=False).reset_index().rename(columns={'slova':'slovo',0:'rozdíl'})\n",
    "do_grafu['mz'] = do_grafu['rozdíl'].apply(lambda x: 'mužští autoři' if x < 0 else 'ženské autorky')\n",
    "do_grafu"
   ]
  },
  {
   "cell_type": "code",
   "execution_count": 124,
   "id": "e694fb39-1383-4a3a-b562-5ffa7bdbc1fb",
   "metadata": {},
   "outputs": [
    {
     "data": {
      "text/html": [
       "<div>\n",
       "<style scoped>\n",
       "    .dataframe tbody tr th:only-of-type {\n",
       "        vertical-align: middle;\n",
       "    }\n",
       "\n",
       "    .dataframe tbody tr th {\n",
       "        vertical-align: top;\n",
       "    }\n",
       "\n",
       "    .dataframe thead th {\n",
       "        text-align: right;\n",
       "    }\n",
       "</style>\n",
       "<table border=\"1\" class=\"dataframe\">\n",
       "  <thead>\n",
       "    <tr style=\"text-align: right;\">\n",
       "      <th></th>\n",
       "      <th>slovo</th>\n",
       "      <th>rozdíl</th>\n",
       "      <th>mz</th>\n",
       "    </tr>\n",
       "  </thead>\n",
       "  <tbody>\n",
       "    <tr>\n",
       "      <th>0</th>\n",
       "      <td>babi</td>\n",
       "      <td>5.402414</td>\n",
       "      <td>ženské autorky</td>\n",
       "    </tr>\n",
       "    <tr>\n",
       "      <th>1</th>\n",
       "      <td>pyžamo</td>\n",
       "      <td>3.514298</td>\n",
       "      <td>ženské autorky</td>\n",
       "    </tr>\n",
       "    <tr>\n",
       "      <th>2</th>\n",
       "      <td>salát</td>\n",
       "      <td>3.361502</td>\n",
       "      <td>ženské autorky</td>\n",
       "    </tr>\n",
       "    <tr>\n",
       "      <th>3</th>\n",
       "      <td>kamarádka</td>\n",
       "      <td>2.969327</td>\n",
       "      <td>ženské autorky</td>\n",
       "    </tr>\n",
       "    <tr>\n",
       "      <th>4</th>\n",
       "      <td>miminko</td>\n",
       "      <td>2.801252</td>\n",
       "      <td>ženské autorky</td>\n",
       "    </tr>\n",
       "    <tr>\n",
       "      <th>5</th>\n",
       "      <td>obývací</td>\n",
       "      <td>2.669428</td>\n",
       "      <td>ženské autorky</td>\n",
       "    </tr>\n",
       "    <tr>\n",
       "      <th>6</th>\n",
       "      <td>objímat</td>\n",
       "      <td>2.630741</td>\n",
       "      <td>ženské autorky</td>\n",
       "    </tr>\n",
       "    <tr>\n",
       "      <th>7</th>\n",
       "      <td>rande</td>\n",
       "      <td>2.619994</td>\n",
       "      <td>ženské autorky</td>\n",
       "    </tr>\n",
       "    <tr>\n",
       "      <th>8</th>\n",
       "      <td>mamka</td>\n",
       "      <td>2.577152</td>\n",
       "      <td>ženské autorky</td>\n",
       "    </tr>\n",
       "    <tr>\n",
       "      <th>9</th>\n",
       "      <td>povytáhnout</td>\n",
       "      <td>2.456482</td>\n",
       "      <td>ženské autorky</td>\n",
       "    </tr>\n",
       "    <tr>\n",
       "      <th>10</th>\n",
       "      <td>ordinace</td>\n",
       "      <td>2.456482</td>\n",
       "      <td>ženské autorky</td>\n",
       "    </tr>\n",
       "    <tr>\n",
       "      <th>11</th>\n",
       "      <td>sukně</td>\n",
       "      <td>2.427752</td>\n",
       "      <td>ženské autorky</td>\n",
       "    </tr>\n",
       "    <tr>\n",
       "      <th>12</th>\n",
       "      <td>zaregistrovat</td>\n",
       "      <td>2.603003</td>\n",
       "      <td>mužští autoři</td>\n",
       "    </tr>\n",
       "    <tr>\n",
       "      <th>13</th>\n",
       "      <td>střílet</td>\n",
       "      <td>2.663208</td>\n",
       "      <td>mužští autoři</td>\n",
       "    </tr>\n",
       "    <tr>\n",
       "      <th>14</th>\n",
       "      <td>politik</td>\n",
       "      <td>2.677374</td>\n",
       "      <td>mužští autoři</td>\n",
       "    </tr>\n",
       "    <tr>\n",
       "      <th>15</th>\n",
       "      <td>souboj</td>\n",
       "      <td>2.693031</td>\n",
       "      <td>mužští autoři</td>\n",
       "    </tr>\n",
       "    <tr>\n",
       "      <th>16</th>\n",
       "      <td>velet</td>\n",
       "      <td>2.697207</td>\n",
       "      <td>mužští autoři</td>\n",
       "    </tr>\n",
       "    <tr>\n",
       "      <th>17</th>\n",
       "      <td>vůl</td>\n",
       "      <td>2.751746</td>\n",
       "      <td>mužští autoři</td>\n",
       "    </tr>\n",
       "    <tr>\n",
       "      <th>18</th>\n",
       "      <td>kulka</td>\n",
       "      <td>2.776536</td>\n",
       "      <td>mužští autoři</td>\n",
       "    </tr>\n",
       "    <tr>\n",
       "      <th>19</th>\n",
       "      <td>nepříliš</td>\n",
       "      <td>2.799869</td>\n",
       "      <td>mužští autoři</td>\n",
       "    </tr>\n",
       "    <tr>\n",
       "      <th>20</th>\n",
       "      <td>kladivo</td>\n",
       "      <td>2.855866</td>\n",
       "      <td>mužští autoři</td>\n",
       "    </tr>\n",
       "    <tr>\n",
       "      <th>21</th>\n",
       "      <td>ruský</td>\n",
       "      <td>3.068803</td>\n",
       "      <td>mužští autoři</td>\n",
       "    </tr>\n",
       "    <tr>\n",
       "      <th>22</th>\n",
       "      <td>prezident</td>\n",
       "      <td>3.219849</td>\n",
       "      <td>mužští autoři</td>\n",
       "    </tr>\n",
       "    <tr>\n",
       "      <th>23</th>\n",
       "      <td>pistole</td>\n",
       "      <td>3.490503</td>\n",
       "      <td>mužští autoři</td>\n",
       "    </tr>\n",
       "  </tbody>\n",
       "</table>\n",
       "</div>"
      ],
      "text/plain": [
       "            slovo    rozdíl              mz\n",
       "0            babi  5.402414  ženské autorky\n",
       "1          pyžamo  3.514298  ženské autorky\n",
       "2           salát  3.361502  ženské autorky\n",
       "3       kamarádka  2.969327  ženské autorky\n",
       "4         miminko  2.801252  ženské autorky\n",
       "5         obývací  2.669428  ženské autorky\n",
       "6         objímat  2.630741  ženské autorky\n",
       "7           rande  2.619994  ženské autorky\n",
       "8           mamka  2.577152  ženské autorky\n",
       "9     povytáhnout  2.456482  ženské autorky\n",
       "10       ordinace  2.456482  ženské autorky\n",
       "11          sukně  2.427752  ženské autorky\n",
       "12  zaregistrovat  2.603003   mužští autoři\n",
       "13        střílet  2.663208   mužští autoři\n",
       "14        politik  2.677374   mužští autoři\n",
       "15         souboj  2.693031   mužští autoři\n",
       "16          velet  2.697207   mužští autoři\n",
       "17            vůl  2.751746   mužští autoři\n",
       "18          kulka  2.776536   mužští autoři\n",
       "19       nepříliš  2.799869   mužští autoři\n",
       "20        kladivo  2.855866   mužští autoři\n",
       "21          ruský  3.068803   mužští autoři\n",
       "22      prezident  3.219849   mužští autoři\n",
       "23        pistole  3.490503   mužští autoři"
      ]
     },
     "execution_count": 124,
     "metadata": {},
     "output_type": "execute_result"
    }
   ],
   "source": [
    "do_grafu2 = do_grafu\n",
    "do_grafu2['rozdíl'] = do_grafu2['rozdíl'].apply(lambda x: abs(x))\n",
    "do_grafu2"
   ]
  },
  {
   "cell_type": "code",
   "execution_count": 125,
   "id": "64632c8f-f2a8-444e-a66e-b9b025901373",
   "metadata": {},
   "outputs": [
    {
     "data": {
      "text/plain": [
       "DataTransformerRegistry.enable('default')"
      ]
     },
     "execution_count": 125,
     "metadata": {},
     "output_type": "execute_result"
    }
   ],
   "source": [
    "import altair as alt\n",
    "alt.data_transformers.disable_max_rows()"
   ]
  },
  {
   "cell_type": "code",
   "execution_count": 126,
   "id": "97af861e-9e2f-43ed-b9e4-beeb94b620a2",
   "metadata": {},
   "outputs": [
    {
     "data": {
      "text/plain": [
       "ThemeRegistry.enable('irozhlas')"
      ]
     },
     "execution_count": 126,
     "metadata": {},
     "output_type": "execute_result"
    }
   ],
   "source": [
    "def irozhlas_conf():\n",
    "\n",
    "    return {\n",
    "        \"config\" : {\n",
    "             \"title\": {'font': \"Noticia Text\",\n",
    "                      'fontSize': 14,\n",
    "                      'anchor': 'start',\n",
    "                       'fontWeight': 'bolder',\n",
    "                    'subtitleFont': 'Noticia Text',\n",
    "                      'subtitleFontSize': 12,\n",
    "                       'subtitleFontWeight': 'lighter',\n",
    "                      'subtitlePadding': 12,\n",
    "                       'dy': -12,\n",
    "                      },\n",
    "             \"axis\": {\n",
    "                \"labelFont\": \"Asap\",\n",
    "                \"titleFont\": \"Asap\",\n",
    "                 \"fontWeight\": \"lighter\",\n",
    "                \"titleFontWeight\": \"lighter\",\n",
    "                \"labelFontSize\": 10,\n",
    "                \"titleFontSize\": 10,\n",
    "                'labelPadding': 2,\n",
    "                 'titlePadding': 10\n",
    "            },\n",
    "            \"legend\": {\n",
    "                \"labelFont\": \"Asap\",\n",
    "                \"labelFontWeight\": \"normal\",\n",
    "                \"titleFont\": \"Asap\",\n",
    "                \"titleFontWeight\": \"normal\",\n",
    "                \"labelFontSize\": 10,\n",
    "                \"titleFontSize\": 10\n",
    "            }\n",
    "        }\n",
    "    }\n",
    "\n",
    "alt.themes.register('irozhlas', irozhlas_conf)\n",
    "alt.themes.enable('irozhlas')"
   ]
  },
  {
   "cell_type": "code",
   "execution_count": 127,
   "id": "51321de9-65ba-4377-bea6-69d5fa740007",
   "metadata": {},
   "outputs": [],
   "source": [
    "from textwrap import wrap\n"
   ]
  },
  {
   "cell_type": "code",
   "execution_count": 129,
   "id": "c9eccb1e-914a-4d5c-a0f7-83b366419ea9",
   "metadata": {},
   "outputs": [],
   "source": [
    "titulek = [\"Spisovatelky píšou častěji o ženách,\",\"spisovatelé o střelbě\"]\n",
    "kredit = \"zdroj dat: Česká národní bibliografie · vizualizace: iROZHLAS.cz · 2025\"\n",
    "podtitulek = f\"Graf srovnává pouze slova, která se objevila alespoň v 50 prózách, vypadla tak například „erekce“, 9× častěji zmiňovaná muži. Do výsledku se nepromítá, zda se v ukázce slovo objevilo jednou, nebo víckrát.\"\n",
    "podtitulek = wrap(podtitulek, 70)\n",
    "info = [f\"zdroj: {graf_rozsah} tisíc stran ukázek z próz {graf_zeny} českých autorek a {graf_muzi} autorů z let {graf_rok_min} a {graf_rok_max}\", \"data: Česká národní bibliografie, martinus.cz · vizualizace: iROZHLAS.cz · 2025\"]"
   ]
  },
  {
   "cell_type": "code",
   "execution_count": 131,
   "id": "c7b5c480-3588-413e-a228-ac91dfbaf86e",
   "metadata": {},
   "outputs": [
    {
     "name": "stderr",
     "output_type": "stream",
     "text": [
      "C:\\Users\\micha\\anaconda3\\Lib\\site-packages\\altair\\utils\\core.py:395: FutureWarning: the convert_dtype parameter is deprecated and will be removed in a future version.  Do ``ser.astype(object).apply()`` instead if you want ``convert_dtype=False``.\n",
      "  col = df[col_name].apply(to_list_if_array, convert_dtype=False)\n",
      "C:\\Users\\micha\\anaconda3\\Lib\\site-packages\\altair\\utils\\core.py:395: FutureWarning: the convert_dtype parameter is deprecated and will be removed in a future version.  Do ``ser.astype(object).apply()`` instead if you want ``convert_dtype=False``.\n",
      "  col = df[col_name].apply(to_list_if_array, convert_dtype=False)\n"
     ]
    },
    {
     "data": {
      "text/html": [
       "\n",
       "<style>\n",
       "  #altair-viz-dadef0181f614bb1bc9fb75696902a39.vega-embed {\n",
       "    width: 100%;\n",
       "    display: flex;\n",
       "  }\n",
       "\n",
       "  #altair-viz-dadef0181f614bb1bc9fb75696902a39.vega-embed details,\n",
       "  #altair-viz-dadef0181f614bb1bc9fb75696902a39.vega-embed details summary {\n",
       "    position: relative;\n",
       "  }\n",
       "</style>\n",
       "<div id=\"altair-viz-dadef0181f614bb1bc9fb75696902a39\"></div>\n",
       "<script type=\"text/javascript\">\n",
       "  var VEGA_DEBUG = (typeof VEGA_DEBUG == \"undefined\") ? {} : VEGA_DEBUG;\n",
       "  (function(spec, embedOpt){\n",
       "    let outputDiv = document.currentScript.previousElementSibling;\n",
       "    if (outputDiv.id !== \"altair-viz-dadef0181f614bb1bc9fb75696902a39\") {\n",
       "      outputDiv = document.getElementById(\"altair-viz-dadef0181f614bb1bc9fb75696902a39\");\n",
       "    }\n",
       "    const paths = {\n",
       "      \"vega\": \"https://cdn.jsdelivr.net/npm/vega@5?noext\",\n",
       "      \"vega-lib\": \"https://cdn.jsdelivr.net/npm/vega-lib?noext\",\n",
       "      \"vega-lite\": \"https://cdn.jsdelivr.net/npm/vega-lite@5.8.0?noext\",\n",
       "      \"vega-embed\": \"https://cdn.jsdelivr.net/npm/vega-embed@6?noext\",\n",
       "    };\n",
       "\n",
       "    function maybeLoadScript(lib, version) {\n",
       "      var key = `${lib.replace(\"-\", \"\")}_version`;\n",
       "      return (VEGA_DEBUG[key] == version) ?\n",
       "        Promise.resolve(paths[lib]) :\n",
       "        new Promise(function(resolve, reject) {\n",
       "          var s = document.createElement('script');\n",
       "          document.getElementsByTagName(\"head\")[0].appendChild(s);\n",
       "          s.async = true;\n",
       "          s.onload = () => {\n",
       "            VEGA_DEBUG[key] = version;\n",
       "            return resolve(paths[lib]);\n",
       "          };\n",
       "          s.onerror = () => reject(`Error loading script: ${paths[lib]}`);\n",
       "          s.src = paths[lib];\n",
       "        });\n",
       "    }\n",
       "\n",
       "    function showError(err) {\n",
       "      outputDiv.innerHTML = `<div class=\"error\" style=\"color:red;\">${err}</div>`;\n",
       "      throw err;\n",
       "    }\n",
       "\n",
       "    function displayChart(vegaEmbed) {\n",
       "      vegaEmbed(outputDiv, spec, embedOpt)\n",
       "        .catch(err => showError(`Javascript Error: ${err.message}<br>This usually means there's a typo in your chart specification. See the javascript console for the full traceback.`));\n",
       "    }\n",
       "\n",
       "    if(typeof define === \"function\" && define.amd) {\n",
       "      requirejs.config({paths});\n",
       "      require([\"vega-embed\"], displayChart, err => showError(`Error loading script: ${err.message}`));\n",
       "    } else {\n",
       "      maybeLoadScript(\"vega\", \"5\")\n",
       "        .then(() => maybeLoadScript(\"vega-lite\", \"5.8.0\"))\n",
       "        .then(() => maybeLoadScript(\"vega-embed\", \"6\"))\n",
       "        .catch(showError)\n",
       "        .then(() => displayChart(vegaEmbed));\n",
       "    }\n",
       "  })({\"config\": {\"title\": {\"font\": \"Noticia Text\", \"fontSize\": 14, \"anchor\": \"start\", \"fontWeight\": \"bolder\", \"subtitleFont\": \"Noticia Text\", \"subtitleFontSize\": 12, \"subtitleFontWeight\": \"lighter\", \"subtitlePadding\": 12, \"dy\": -12}, \"axis\": {\"labelFont\": \"Asap\", \"titleFont\": \"Asap\", \"fontWeight\": \"lighter\", \"titleFontWeight\": \"lighter\", \"labelFontSize\": 10, \"titleFontSize\": 10, \"labelPadding\": 2, \"titlePadding\": 10}, \"legend\": {\"labelFont\": \"Asap\", \"labelFontWeight\": \"normal\", \"titleFont\": \"Asap\", \"titleFontWeight\": \"normal\", \"labelFontSize\": 10, \"titleFontSize\": 10}}, \"data\": {\"name\": \"data-8aa93e8f25acbc2a365caaad5aaaed9c\"}, \"mark\": {\"type\": \"bar\"}, \"encoding\": {\"color\": {\"field\": \"rozd\\u00edl\", \"legend\": null, \"scale\": {\"range\": [\"#84c0e4\", \"#E7666E\"]}, \"type\": \"quantitative\"}, \"x\": {\"axis\": {\"domainOpacity\": 0, \"labelExpr\": \"datum.label + '\\u00d7'\", \"tickColor\": \"#DCDDD6\"}, \"field\": \"rozd\\u00edl\", \"scale\": {\"domain\": [-5.402414486921529, 5.402414486921529]}, \"title\": null, \"type\": \"quantitative\"}, \"y\": {\"axis\": {\"domainOpacity\": 0, \"tickColor\": \"#DCDDD6\"}, \"field\": \"slovo\", \"sort\": \"-x\", \"title\": null, \"type\": \"nominal\"}}, \"title\": {\"text\": [\"Spisovatelky p\\u00ed\\u0161ou \\u010dast\\u011bji o \\u017een\\u00e1ch,\", \"spisovatel\\u00e9 o st\\u0159elb\\u011b\"], \"subtitle\": [\"Graf srovn\\u00e1v\\u00e1 pouze slova, kter\\u00e1 se objevila alespo\\u0148 v 50 pr\\u00f3z\\u00e1ch,\", \"vypadla tak nap\\u0159\\u00edklad \\u201eerekce\\u201c, 9\\u00d7 \\u010dast\\u011bji zmi\\u0148ovan\\u00e1 mu\\u017ei. Do v\\u00fdsledku\", \"se neprom\\u00edt\\u00e1, zda se v uk\\u00e1zce slovo objevilo jednou, nebo v\\u00edckr\\u00e1t.\"]}, \"width\": 300, \"$schema\": \"https://vega.github.io/schema/vega-lite/v5.8.0.json\", \"datasets\": {\"data-8aa93e8f25acbc2a365caaad5aaaed9c\": [{\"slovo\": \"babi\", \"rozd\\u00edl\": 5.402414486921529, \"mz\": \"\\u017eensk\\u00e9 autorky\"}, {\"slovo\": \"py\\u017eamo\", \"rozd\\u00edl\": 3.514297908664106, \"mz\": \"\\u017eensk\\u00e9 autorky\"}, {\"slovo\": \"sal\\u00e1t\", \"rozd\\u00edl\": 3.3615023474178405, \"mz\": \"\\u017eensk\\u00e9 autorky\"}, {\"slovo\": \"kamar\\u00e1dka\", \"rozd\\u00edl\": 2.9693270735524253, \"mz\": \"\\u017eensk\\u00e9 autorky\"}, {\"slovo\": \"miminko\", \"rozd\\u00edl\": 2.8012519561815337, \"mz\": \"\\u017eensk\\u00e9 autorky\"}, {\"slovo\": \"ob\\u00fdvac\\u00ed\", \"rozd\\u00edl\": 2.6694283347141674, \"mz\": \"\\u017eensk\\u00e9 autorky\"}, {\"slovo\": \"obj\\u00edmat\", \"rozd\\u00edl\": 2.630740967544397, \"mz\": \"\\u017eensk\\u00e9 autorky\"}, {\"slovo\": \"rande\", \"rozd\\u00edl\": 2.6199944766639054, \"mz\": \"\\u017eensk\\u00e9 autorky\"}, {\"slovo\": \"mamka\", \"rozd\\u00edl\": 2.577151799687011, \"mz\": \"\\u017eensk\\u00e9 autorky\"}, {\"slovo\": \"povyt\\u00e1hnout\", \"rozd\\u00edl\": 2.4564824846514983, \"mz\": \"\\u017eensk\\u00e9 autorky\"}, {\"slovo\": \"ordinace\", \"rozd\\u00edl\": 2.4564824846514983, \"mz\": \"\\u017eensk\\u00e9 autorky\"}, {\"slovo\": \"sukn\\u011b\", \"rozd\\u00edl\": 2.4277516953573293, \"mz\": \"\\u017eensk\\u00e9 autorky\"}, {\"slovo\": \"zaregistrovat\", \"rozd\\u00edl\": 2.6030027932960893, \"mz\": \"mu\\u017e\\u0161t\\u00ed auto\\u0159i\"}, {\"slovo\": \"st\\u0159\\u00edlet\", \"rozd\\u00edl\": 2.6632083000798086, \"mz\": \"mu\\u017e\\u0161t\\u00ed auto\\u0159i\"}, {\"slovo\": \"politik\", \"rozd\\u00edl\": 2.677374301675978, \"mz\": \"mu\\u017e\\u0161t\\u00ed auto\\u0159i\"}, {\"slovo\": \"souboj\", \"rozd\\u00edl\": 2.6930314613349013, \"mz\": \"mu\\u017e\\u0161t\\u00ed auto\\u0159i\"}, {\"slovo\": \"velet\", \"rozd\\u00edl\": 2.6972067039106142, \"mz\": \"mu\\u017e\\u0161t\\u00ed auto\\u0159i\"}, {\"slovo\": \"v\\u016fl\", \"rozd\\u00edl\": 2.751745810055866, \"mz\": \"mu\\u017e\\u0161t\\u00ed auto\\u0159i\"}, {\"slovo\": \"kulka\", \"rozd\\u00edl\": 2.776536312849162, \"mz\": \"mu\\u017e\\u0161t\\u00ed auto\\u0159i\"}, {\"slovo\": \"nep\\u0159\\u00edli\\u0161\", \"rozd\\u00edl\": 2.799868550772264, \"mz\": \"mu\\u017e\\u0161t\\u00ed auto\\u0159i\"}, {\"slovo\": \"kladivo\", \"rozd\\u00edl\": 2.8558659217877094, \"mz\": \"mu\\u017e\\u0161t\\u00ed auto\\u0159i\"}, {\"slovo\": \"rusk\\u00fd\", \"rozd\\u00edl\": 3.068803293149074, \"mz\": \"mu\\u017e\\u0161t\\u00ed auto\\u0159i\"}, {\"slovo\": \"prezident\", \"rozd\\u00edl\": 3.219848833388104, \"mz\": \"mu\\u017e\\u0161t\\u00ed auto\\u0159i\"}, {\"slovo\": \"pistole\", \"rozd\\u00edl\": 3.490502793296089, \"mz\": \"mu\\u017e\\u0161t\\u00ed auto\\u0159i\"}]}}, {\"mode\": \"vega-lite\"});\n",
       "</script>"
      ],
      "text/plain": [
       "alt.Chart(...)"
      ]
     },
     "execution_count": 131,
     "metadata": {},
     "output_type": "execute_result"
    }
   ],
   "source": [
    "max_abs_value = max(abs(do_grafu['rozdíl'].max()), abs(do_grafu['rozdíl'].min()))\n",
    "\n",
    "mz_graf = alt.Chart(do_grafu, title={'text': titulek, 'subtitle': podtitulek}, width=300).mark_bar().encode(\n",
    "    alt.X(\"rozdíl:Q\", title=None, axis=alt.Axis(labelExpr=\"datum.label + '×'\", domainOpacity=0, tickColor='#DCDDD6'), scale=alt.Scale(domain=[-max_abs_value, max_abs_value])),\n",
    "    alt.Y('slovo:N', sort='-x', title=None, axis=alt.Axis(tickColor='#DCDDD6', domainOpacity=0)),\n",
    "    alt.Color(\"rozdíl:Q\", legend=None, scale=alt.Scale(range=['#84c0e4','#E7666E']))\n",
    "\n",
    ")\n",
    "\n",
    "mz_graf"
   ]
  },
  {
   "cell_type": "code",
   "execution_count": 133,
   "id": "cd61588c-bd8e-44d3-8395-50483937742c",
   "metadata": {},
   "outputs": [
    {
     "name": "stderr",
     "output_type": "stream",
     "text": [
      "C:\\Users\\micha\\anaconda3\\Lib\\site-packages\\altair\\utils\\core.py:395: FutureWarning: the convert_dtype parameter is deprecated and will be removed in a future version.  Do ``ser.astype(object).apply()`` instead if you want ``convert_dtype=False``.\n",
      "  col = df[col_name].apply(to_list_if_array, convert_dtype=False)\n",
      "C:\\Users\\micha\\anaconda3\\Lib\\site-packages\\altair\\utils\\core.py:395: FutureWarning: the convert_dtype parameter is deprecated and will be removed in a future version.  Do ``ser.astype(object).apply()`` instead if you want ``convert_dtype=False``.\n",
      "  col = df[col_name].apply(to_list_if_array, convert_dtype=False)\n",
      "C:\\Users\\micha\\anaconda3\\Lib\\site-packages\\altair\\utils\\core.py:395: FutureWarning: the convert_dtype parameter is deprecated and will be removed in a future version.  Do ``ser.astype(object).apply()`` instead if you want ``convert_dtype=False``.\n",
      "  col = df[col_name].apply(to_list_if_array, convert_dtype=False)\n",
      "C:\\Users\\micha\\anaconda3\\Lib\\site-packages\\altair\\utils\\core.py:395: FutureWarning: the convert_dtype parameter is deprecated and will be removed in a future version.  Do ``ser.astype(object).apply()`` instead if you want ``convert_dtype=False``.\n",
      "  col = df[col_name].apply(to_list_if_array, convert_dtype=False)\n"
     ]
    },
    {
     "data": {
      "text/html": [
       "\n",
       "<style>\n",
       "  #altair-viz-24ac8f5ef0a84cb3999a2710fb9f4006.vega-embed {\n",
       "    width: 100%;\n",
       "    display: flex;\n",
       "  }\n",
       "\n",
       "  #altair-viz-24ac8f5ef0a84cb3999a2710fb9f4006.vega-embed details,\n",
       "  #altair-viz-24ac8f5ef0a84cb3999a2710fb9f4006.vega-embed details summary {\n",
       "    position: relative;\n",
       "  }\n",
       "</style>\n",
       "<div id=\"altair-viz-24ac8f5ef0a84cb3999a2710fb9f4006\"></div>\n",
       "<script type=\"text/javascript\">\n",
       "  var VEGA_DEBUG = (typeof VEGA_DEBUG == \"undefined\") ? {} : VEGA_DEBUG;\n",
       "  (function(spec, embedOpt){\n",
       "    let outputDiv = document.currentScript.previousElementSibling;\n",
       "    if (outputDiv.id !== \"altair-viz-24ac8f5ef0a84cb3999a2710fb9f4006\") {\n",
       "      outputDiv = document.getElementById(\"altair-viz-24ac8f5ef0a84cb3999a2710fb9f4006\");\n",
       "    }\n",
       "    const paths = {\n",
       "      \"vega\": \"https://cdn.jsdelivr.net/npm/vega@5?noext\",\n",
       "      \"vega-lib\": \"https://cdn.jsdelivr.net/npm/vega-lib?noext\",\n",
       "      \"vega-lite\": \"https://cdn.jsdelivr.net/npm/vega-lite@5.8.0?noext\",\n",
       "      \"vega-embed\": \"https://cdn.jsdelivr.net/npm/vega-embed@6?noext\",\n",
       "    };\n",
       "\n",
       "    function maybeLoadScript(lib, version) {\n",
       "      var key = `${lib.replace(\"-\", \"\")}_version`;\n",
       "      return (VEGA_DEBUG[key] == version) ?\n",
       "        Promise.resolve(paths[lib]) :\n",
       "        new Promise(function(resolve, reject) {\n",
       "          var s = document.createElement('script');\n",
       "          document.getElementsByTagName(\"head\")[0].appendChild(s);\n",
       "          s.async = true;\n",
       "          s.onload = () => {\n",
       "            VEGA_DEBUG[key] = version;\n",
       "            return resolve(paths[lib]);\n",
       "          };\n",
       "          s.onerror = () => reject(`Error loading script: ${paths[lib]}`);\n",
       "          s.src = paths[lib];\n",
       "        });\n",
       "    }\n",
       "\n",
       "    function showError(err) {\n",
       "      outputDiv.innerHTML = `<div class=\"error\" style=\"color:red;\">${err}</div>`;\n",
       "      throw err;\n",
       "    }\n",
       "\n",
       "    function displayChart(vegaEmbed) {\n",
       "      vegaEmbed(outputDiv, spec, embedOpt)\n",
       "        .catch(err => showError(`Javascript Error: ${err.message}<br>This usually means there's a typo in your chart specification. See the javascript console for the full traceback.`));\n",
       "    }\n",
       "\n",
       "    if(typeof define === \"function\" && define.amd) {\n",
       "      requirejs.config({paths});\n",
       "      require([\"vega-embed\"], displayChart, err => showError(`Error loading script: ${err.message}`));\n",
       "    } else {\n",
       "      maybeLoadScript(\"vega\", \"5\")\n",
       "        .then(() => maybeLoadScript(\"vega-lite\", \"5.8.0\"))\n",
       "        .then(() => maybeLoadScript(\"vega-embed\", \"6\"))\n",
       "        .catch(showError)\n",
       "        .then(() => displayChart(vegaEmbed));\n",
       "    }\n",
       "  })({\"config\": {\"title\": {\"font\": \"Noticia Text\", \"fontSize\": 14, \"anchor\": \"start\", \"fontWeight\": \"bolder\", \"subtitleFont\": \"Noticia Text\", \"subtitleFontSize\": 12, \"subtitleFontWeight\": \"lighter\", \"subtitlePadding\": 12, \"dy\": -12}, \"axis\": {\"labelFont\": \"Asap\", \"titleFont\": \"Asap\", \"fontWeight\": \"lighter\", \"titleFontWeight\": \"lighter\", \"labelFontSize\": 10, \"titleFontSize\": 10, \"labelPadding\": 2, \"titlePadding\": 10}, \"legend\": {\"labelFont\": \"Asap\", \"labelFontWeight\": \"normal\", \"titleFont\": \"Asap\", \"titleFontWeight\": \"normal\", \"labelFontSize\": 10, \"titleFontSize\": 10}}, \"hconcat\": [{\"data\": {\"name\": \"data-126d84e3cc0256d81c48541bf76d4df3\"}, \"mark\": {\"type\": \"bar\"}, \"encoding\": {\"color\": {\"field\": \"mz\", \"legend\": null, \"scale\": {\"range\": [\"#E7666E\"]}, \"type\": \"nominal\"}, \"x\": {\"axis\": {\"domainOpacity\": 0, \"labelExpr\": \"datum.label + '\\u00d7'\", \"tickColor\": \"#DCDDD6\"}, \"field\": \"rozd\\u00edl\", \"title\": null, \"type\": \"quantitative\"}, \"y\": {\"axis\": {\"domainOpacity\": 0, \"tickColor\": \"#DCDDD6\"}, \"field\": \"slovo\", \"sort\": \"-x\", \"title\": null, \"type\": \"nominal\"}}, \"title\": {\"text\": [\"slova pou\\u017e\\u00edvan\\u011bj\\u0161\\u00ed\", \"\\u017eensk\\u00fdmi autorkami\"], \"fontSize\": 12}, \"width\": 120}, {\"data\": {\"name\": \"data-e18d6a7070e880a940b9b7954c43110e\"}, \"mark\": {\"type\": \"bar\"}, \"encoding\": {\"color\": {\"field\": \"mz\", \"legend\": null, \"scale\": {\"range\": [\"#84c0e4\"]}, \"type\": \"nominal\"}, \"x\": {\"axis\": {\"domainOpacity\": 0, \"labelExpr\": \"datum.label + '\\u00d7'\", \"tickColor\": \"#DCDDD6\"}, \"field\": \"rozd\\u00edl\", \"title\": null, \"type\": \"quantitative\"}, \"y\": {\"axis\": {\"domainOpacity\": 0, \"tickColor\": \"#DCDDD6\"}, \"field\": \"slovo\", \"sort\": \"-x\", \"title\": null, \"type\": \"nominal\"}}, \"title\": {\"text\": [\"slova pou\\u017e\\u00edvan\\u011bj\\u0161\\u00ed\", \"mu\\u017esk\\u00fdmi autory\"], \"fontSize\": 12}, \"width\": 120}], \"resolve\": {\"scale\": {\"color\": \"independent\", \"x\": \"shared\"}}, \"title\": {\"text\": [\"Spisovatelky p\\u00ed\\u0161ou \\u010dast\\u011bji o \\u017een\\u00e1ch,\", \"spisovatel\\u00e9 o st\\u0159elb\\u011b\"], \"subtitle\": [\"Graf srovn\\u00e1v\\u00e1 pouze slova, kter\\u00e1 se objevila alespo\\u0148 v 50 pr\\u00f3z\\u00e1ch,\", \"vypadla tak nap\\u0159\\u00edklad \\u201eerekce\\u201c, 9\\u00d7 \\u010dast\\u011bji zmi\\u0148ovan\\u00e1 mu\\u017ei. Do v\\u00fdsledku\", \"se neprom\\u00edt\\u00e1, zda se v uk\\u00e1zce slovo objevilo jednou, nebo v\\u00edckr\\u00e1t.\"]}, \"$schema\": \"https://vega.github.io/schema/vega-lite/v5.8.0.json\", \"datasets\": {\"data-126d84e3cc0256d81c48541bf76d4df3\": [{\"slovo\": \"babi\", \"rozd\\u00edl\": 5.402414486921529, \"mz\": \"\\u017eensk\\u00e9 autorky\"}, {\"slovo\": \"py\\u017eamo\", \"rozd\\u00edl\": 3.514297908664106, \"mz\": \"\\u017eensk\\u00e9 autorky\"}, {\"slovo\": \"sal\\u00e1t\", \"rozd\\u00edl\": 3.3615023474178405, \"mz\": \"\\u017eensk\\u00e9 autorky\"}, {\"slovo\": \"kamar\\u00e1dka\", \"rozd\\u00edl\": 2.9693270735524253, \"mz\": \"\\u017eensk\\u00e9 autorky\"}, {\"slovo\": \"miminko\", \"rozd\\u00edl\": 2.8012519561815337, \"mz\": \"\\u017eensk\\u00e9 autorky\"}, {\"slovo\": \"ob\\u00fdvac\\u00ed\", \"rozd\\u00edl\": 2.6694283347141674, \"mz\": \"\\u017eensk\\u00e9 autorky\"}, {\"slovo\": \"obj\\u00edmat\", \"rozd\\u00edl\": 2.630740967544397, \"mz\": \"\\u017eensk\\u00e9 autorky\"}, {\"slovo\": \"rande\", \"rozd\\u00edl\": 2.6199944766639054, \"mz\": \"\\u017eensk\\u00e9 autorky\"}, {\"slovo\": \"mamka\", \"rozd\\u00edl\": 2.577151799687011, \"mz\": \"\\u017eensk\\u00e9 autorky\"}, {\"slovo\": \"povyt\\u00e1hnout\", \"rozd\\u00edl\": 2.4564824846514983, \"mz\": \"\\u017eensk\\u00e9 autorky\"}, {\"slovo\": \"ordinace\", \"rozd\\u00edl\": 2.4564824846514983, \"mz\": \"\\u017eensk\\u00e9 autorky\"}, {\"slovo\": \"sukn\\u011b\", \"rozd\\u00edl\": 2.4277516953573293, \"mz\": \"\\u017eensk\\u00e9 autorky\"}], \"data-e18d6a7070e880a940b9b7954c43110e\": [{\"slovo\": \"zaregistrovat\", \"rozd\\u00edl\": 2.6030027932960893, \"mz\": \"mu\\u017e\\u0161t\\u00ed auto\\u0159i\"}, {\"slovo\": \"st\\u0159\\u00edlet\", \"rozd\\u00edl\": 2.6632083000798086, \"mz\": \"mu\\u017e\\u0161t\\u00ed auto\\u0159i\"}, {\"slovo\": \"politik\", \"rozd\\u00edl\": 2.677374301675978, \"mz\": \"mu\\u017e\\u0161t\\u00ed auto\\u0159i\"}, {\"slovo\": \"souboj\", \"rozd\\u00edl\": 2.6930314613349013, \"mz\": \"mu\\u017e\\u0161t\\u00ed auto\\u0159i\"}, {\"slovo\": \"velet\", \"rozd\\u00edl\": 2.6972067039106142, \"mz\": \"mu\\u017e\\u0161t\\u00ed auto\\u0159i\"}, {\"slovo\": \"v\\u016fl\", \"rozd\\u00edl\": 2.751745810055866, \"mz\": \"mu\\u017e\\u0161t\\u00ed auto\\u0159i\"}, {\"slovo\": \"kulka\", \"rozd\\u00edl\": 2.776536312849162, \"mz\": \"mu\\u017e\\u0161t\\u00ed auto\\u0159i\"}, {\"slovo\": \"nep\\u0159\\u00edli\\u0161\", \"rozd\\u00edl\": 2.799868550772264, \"mz\": \"mu\\u017e\\u0161t\\u00ed auto\\u0159i\"}, {\"slovo\": \"kladivo\", \"rozd\\u00edl\": 2.8558659217877094, \"mz\": \"mu\\u017e\\u0161t\\u00ed auto\\u0159i\"}, {\"slovo\": \"rusk\\u00fd\", \"rozd\\u00edl\": 3.068803293149074, \"mz\": \"mu\\u017e\\u0161t\\u00ed auto\\u0159i\"}, {\"slovo\": \"prezident\", \"rozd\\u00edl\": 3.219848833388104, \"mz\": \"mu\\u017e\\u0161t\\u00ed auto\\u0159i\"}, {\"slovo\": \"pistole\", \"rozd\\u00edl\": 3.490502793296089, \"mz\": \"mu\\u017e\\u0161t\\u00ed auto\\u0159i\"}]}}, {\"mode\": \"vega-lite\"});\n",
       "</script>"
      ],
      "text/plain": [
       "alt.HConcatChart(...)"
      ]
     },
     "execution_count": 133,
     "metadata": {},
     "output_type": "execute_result"
    }
   ],
   "source": [
    "# Chart for \"mužští autoři\"\n",
    "muzsti_autori = alt.Chart(\n",
    "    do_grafu2[do_grafu2[\"mz\"] == \"mužští autoři\"]\n",
    ").mark_bar().encode(\n",
    "    alt.X(\"rozdíl:Q\", title=None, axis=alt.Axis(labelExpr=\"datum.label + '×'\", domainOpacity=0, tickColor='#DCDDD6')),\n",
    "    alt.Y('slovo:N', sort='-x', title=None, axis=alt.Axis(tickColor='#DCDDD6', domainOpacity=0)),\n",
    "    alt.Color(\"mz:N\", legend=None, scale=alt.Scale(range=['#84c0e4'])),\n",
    ").properties(title={\"text\": [\"slova používanější\",\"mužskými autory\"], 'fontSize': 12}, width=120)\n",
    "\n",
    "# Chart for \"ženské autorky\"\n",
    "zenske_autorky = alt.Chart(\n",
    "    do_grafu2[do_grafu2[\"mz\"] == \"ženské autorky\"]\n",
    ").mark_bar().encode(\n",
    "    alt.X(\"rozdíl:Q\", title=None, axis=alt.Axis(labelExpr=\"datum.label + '×'\", domainOpacity=0, tickColor='#DCDDD6')),\n",
    "    alt.Y('slovo:N', sort='-x', title=None, axis=alt.Axis(tickColor='#DCDDD6', domainOpacity=0)),\n",
    "    alt.Color(\"mz:N\", legend=None, scale=alt.Scale(range=['#E7666E'])),\n",
    ").properties(title={\"text\": [\"slova používanější\",\"ženskými autorkami\"], 'fontSize': 12}, width=120)\n",
    "\n",
    "# Combine the charts with shared x-axis scale and original title\n",
    "mz_graf = alt.hconcat(\n",
    "    zenske_autorky,\n",
    "    muzsti_autori\n",
    ").resolve_scale(\n",
    "    x='shared',  # Ensures the x-axes share the same scale\n",
    "    color='independent'  # Allows each chart to use its own color encoding\n",
    ").properties(\n",
    "    title={\n",
    "        'text': titulek,\n",
    "        'subtitle': podtitulek\n",
    "    }\n",
    ")\n",
    "\n",
    "mz_graf"
   ]
  },
  {
   "cell_type": "code",
   "execution_count": null,
   "id": "235f710b-61dd-4cb2-9884-b2a87e641099",
   "metadata": {},
   "outputs": [],
   "source": [
    "def me_to_neurazi(zaklad_grafu, soubor, kredity):\n",
    "\n",
    "    os.makedirs(\"grafy\", exist_ok=True)\n",
    "    \n",
    "    credits = pl.DataFrame({'text': [kredity]})\n",
    "    credits = alt.Chart(credits.to_pandas()).encode(text=alt.Text('text:N')).mark_text(fontSize=10,font=\"Asap\", baseline='line-bottom', align='right').properties(width=300)\n",
    "    combined_chart = alt.vconcat(zaklad_grafu, credits).properties(background='cyan').configure_view(stroke='transparent')\n",
    "\n",
    "    combined_chart.save(os.path.join(\"grafy\",f\"{soubor}.svg\"))\n",
    "    combined_chart.save(os.path.join(\"grafy\",f\"{soubor}.png\"), ppi=400)\n",
    "    \n",
    "    return combined_chart"
   ]
  },
  {
   "cell_type": "code",
   "execution_count": null,
   "id": "401f91e4-cec5-4b3b-b575-c05c53ebbf29",
   "metadata": {},
   "outputs": [],
   "source": [
    "def me_to_neurazi(zaklad_grafu, soubor, kredity):\n",
    "    os.makedirs(\"grafy\", exist_ok=True)\n",
    "\n",
    "    credits = pl.DataFrame({'text': [kredity]})\n",
    "    credits = alt.Chart(credits.to_pandas()).encode(\n",
    "        text=alt.Text('text:N')\n",
    "    ).mark_text(\n",
    "        fontSize=10,\n",
    "        font=\"Asap\",\n",
    "        baseline='line-bottom',\n",
    "        align='right',\n",
    "        dx=190  # Adjust dx to move the text to the right edge\n",
    "    ).properties(width=300)\n",
    "\n",
    "    combined_chart = alt.vconcat(zaklad_grafu, credits).configure_view(stroke='transparent') # .properties(background='cyan')\n",
    "\n",
    "    combined_chart.save(os.path.join(\"grafy\", f\"{soubor}.svg\"))\n",
    "    combined_chart.save(os.path.join(\"grafy\", f\"{soubor}.png\"), ppi=400)\n",
    "\n",
    "    return combined_chart"
   ]
  },
  {
   "cell_type": "code",
   "execution_count": null,
   "id": "f2fe64ca-bbfc-47b4-80f9-38b1743daa4b",
   "metadata": {},
   "outputs": [],
   "source": [
    "me_to_neurazi(mz_graf, \"muzska_zenska_slova\", info)"
   ]
  },
  {
   "cell_type": "markdown",
   "id": "dc036fb8-4ccb-41e5-9118-9078c7352929",
   "metadata": {},
   "source": [
    "## Barvy"
   ]
  },
  {
   "cell_type": "code",
   "execution_count": 344,
   "id": "689c4314-feea-47d0-bd77-d393006f1a6c",
   "metadata": {},
   "outputs": [],
   "source": [
    "barvy = {\n",
    "    'černý': '#000000',\n",
    "    'bílý': '#FFFFFF',\n",
    "    'červený': '#FF0000',\n",
    "    'zelený': '#00FF00',\n",
    "    'modrý': '#0000FF',\n",
    "    'žlutý': '#FFFF00',\n",
    "    'fialový': '#800080',\n",
    "    'tyrkysový': '#00FFFF',\n",
    "    'oranžový': '#FFA500',\n",
    "    'růžový': '#FFC0CB',\n",
    "    'béžový': None,\n",
    "    'sépiový': None,\n",
    "    'starorůžový': None,\n",
    "    'hnědý': None,\n",
    "    'rudý': None,\n",
    "    'šedý': None,\n",
    "    'purpurový': None,\n",
    "    'karmínový': None,\n",
    "    'kobaltový': None,\n",
    "    'meruňkový': None,\n",
    "    'šarlatový': None,\n",
    "    'ultramarínový': None,\n",
    "    'vínový': None,\n",
    "    'khaki': None,\n",
    "    'indigový': None,\n",
    "    'nachový': None,\n",
    "    'sivý': None\n",
    "}"
   ]
  },
  {
   "cell_type": "code",
   "execution_count": 346,
   "id": "346debbf-f090-417a-9e6a-d41e19b651e4",
   "metadata": {},
   "outputs": [
    {
     "data": {
      "text/plain": [
       "purpurový        0.237989\n",
       "tyrkysový        0.366137\n",
       "růžový           0.507189\n",
       "oranžový         0.713966\n",
       "modrý            0.746420\n",
       "béžový           0.747965\n",
       "karmínový        0.849960\n",
       "nachový          0.849960\n",
       "hnědý            0.862278\n",
       "fialový          0.863293\n",
       "žlutý            0.871942\n",
       "rudý             0.889189\n",
       "červený          0.912089\n",
       "černý            0.912941\n",
       "zelený           0.917957\n",
       "šedý             0.942683\n",
       "bílý             0.958314\n",
       "khaki            1.784916\n",
       "šarlatový        2.379888\n",
       "sépiový               NaN\n",
       "starorůžový           NaN\n",
       "kobaltový             NaN\n",
       "meruňkový             NaN\n",
       "ultramarínový         NaN\n",
       "vínový                NaN\n",
       "indigový              NaN\n",
       "sivý                  NaN\n",
       "dtype: float64"
      ]
     },
     "execution_count": 346,
     "metadata": {},
     "output_type": "execute_result"
    }
   ],
   "source": [
    "cetnost_barev = {}\n",
    "for barva, kod in barvy.items():\n",
    "    cetnost_barev[barva] = pomer_vsech[pomer_vsech.index == barva].max()\n",
    "pd.Series(cetnost_barev).sort_values()"
   ]
  },
  {
   "cell_type": "code",
   "execution_count": 314,
   "id": "f46fe926-ca26-4bad-beb3-b7a21a180f95",
   "metadata": {},
   "outputs": [
    {
     "data": {
      "text/plain": [
       "slova\n",
       "fialova                NaN\n",
       "fialovohnědý           NaN\n",
       "fialovomodrý           NaN\n",
       "fialovoocí             NaN\n",
       "fialovooký             NaN\n",
       "fialovookými           NaN\n",
       "fialovorůžový          NaN\n",
       "fialovočerný           NaN\n",
       "fialovožluta           NaN\n",
       "fialovožlutý           NaN\n",
       "fialovym               NaN\n",
       "fialový           0.863293\n",
       "fialově           0.594972\n",
       "modrofialova           NaN\n",
       "modrofialový      1.784916\n",
       "nafialovělá            NaN\n",
       "nafialovělé            NaN\n",
       "nafialovělých          NaN\n",
       "nafialovělými          NaN\n",
       "tmavofialový           NaN\n",
       "ultrafialový           NaN\n",
       "zfialověl         1.189944\n",
       "červenofialový         NaN\n",
       "šedofialový            NaN\n",
       "dtype: float64"
      ]
     },
     "execution_count": 314,
     "metadata": {},
     "output_type": "execute_result"
    }
   ],
   "source": [
    "pomer_vsech[pomer_vsech.index.str.contains('fialov')]"
   ]
  },
  {
   "cell_type": "code",
   "execution_count": 294,
   "id": "bbab06c0-d081-48da-9326-c79cb29fde5d",
   "metadata": {},
   "outputs": [
    {
     "data": {
      "text/plain": [
       "slova\n",
       "Abraham     3.569832\n",
       "Abrahám     1.189944\n",
       "Achilles         NaN\n",
       "Adam        1.045708\n",
       "Adamec      1.189944\n",
       "              ...   \n",
       "שקרן             NaN\n",
       " září            NaN\n",
       "  pátek          NaN\n",
       " který           NaN\n",
       " patro           NaN\n",
       "Length: 153581, dtype: float64"
      ]
     },
     "execution_count": 294,
     "metadata": {},
     "output_type": "execute_result"
    }
   ],
   "source": [
    "pomer_vsech"
   ]
  }
 ],
 "metadata": {
  "kernelspec": {
   "display_name": "Python 3 (ipykernel)",
   "language": "python",
   "name": "python3"
  },
  "language_info": {
   "codemirror_mode": {
    "name": "ipython",
    "version": 3
   },
   "file_extension": ".py",
   "mimetype": "text/x-python",
   "name": "python",
   "nbconvert_exporter": "python",
   "pygments_lexer": "ipython3",
   "version": "3.12.3"
  }
 },
 "nbformat": 4,
 "nbformat_minor": 5
}
