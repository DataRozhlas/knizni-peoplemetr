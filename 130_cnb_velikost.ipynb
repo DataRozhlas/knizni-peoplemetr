{
 "cells": [
  {
   "cell_type": "code",
   "execution_count": 23,
   "id": "e205033d-d8f2-4ba7-a824-607d183300ad",
   "metadata": {},
   "outputs": [],
   "source": [
    "import os\n",
    "import pandas as pd"
   ]
  },
  {
   "cell_type": "code",
   "execution_count": 24,
   "id": "7a3d8fc3-8ce4-45ff-a748-40987ed054c4",
   "metadata": {},
   "outputs": [],
   "source": [
    "cnb = pd.read_parquet(os.path.join(\"data/cnb_sloupce\",\"008.parquet\"))"
   ]
  },
  {
   "cell_type": "code",
   "execution_count": 25,
   "id": "42bb60ce-eac8-4551-9d57-9ca811cd8abc",
   "metadata": {},
   "outputs": [
    {
     "data": {
      "text/plain": [
       "1238228"
      ]
     },
     "execution_count": 25,
     "metadata": {},
     "output_type": "execute_result"
    }
   ],
   "source": [
    "len(cnb)"
   ]
  },
  {
   "cell_type": "code",
   "execution_count": 27,
   "id": "7ed307b6-1837-43f1-9523-916641959779",
   "metadata": {},
   "outputs": [
    {
     "data": {
      "text/plain": [
       "105.94010951403149"
      ]
     },
     "execution_count": 27,
     "metadata": {},
     "output_type": "execute_result"
    }
   ],
   "source": [
    "len(cnb) * 0.25 / 8 / 365.25"
   ]
  },
  {
   "cell_type": "code",
   "execution_count": 28,
   "id": "d829860a-1666-4c64-b2d1-2e148f86db46",
   "metadata": {},
   "outputs": [
    {
     "data": {
      "text/plain": [
       "148.82548076923078"
      ]
     },
     "execution_count": 28,
     "metadata": {},
     "output_type": "execute_result"
    }
   ],
   "source": [
    "len(cnb) * 0.25 / 8 / 260"
   ]
  },
  {
   "cell_type": "code",
   "execution_count": 29,
   "id": "6a5308a4-1827-40f3-9c4e-0f8265807e67",
   "metadata": {},
   "outputs": [],
   "source": [
    "aut = pd.read_parquet(os.path.join(\"data\",\"aut_vyber.parquet\"))"
   ]
  },
  {
   "cell_type": "code",
   "execution_count": 30,
   "id": "26cc1777-c8bc-4d59-b08a-e50712c6a1a0",
   "metadata": {},
   "outputs": [
    {
     "data": {
      "text/plain": [
       "1210199"
      ]
     },
     "execution_count": 30,
     "metadata": {},
     "output_type": "execute_result"
    }
   ],
   "source": [
    "len(aut)"
   ]
  },
  {
   "cell_type": "code",
   "execution_count": 31,
   "id": "e7f27ac9-e9f2-45e0-87a0-003bdbe055f1",
   "metadata": {},
   "outputs": [
    {
     "data": {
      "text/plain": [
       "103.54200889801506"
      ]
     },
     "execution_count": 31,
     "metadata": {},
     "output_type": "execute_result"
    }
   ],
   "source": [
    "len(aut) * 0.25 / 8 / 365.25"
   ]
  }
 ],
 "metadata": {
  "kernelspec": {
   "display_name": "Python 3 (ipykernel)",
   "language": "python",
   "name": "python3"
  },
  "language_info": {
   "codemirror_mode": {
    "name": "ipython",
    "version": 3
   },
   "file_extension": ".py",
   "mimetype": "text/x-python",
   "name": "python",
   "nbconvert_exporter": "python",
   "pygments_lexer": "ipython3",
   "version": "3.12.3"
  }
 },
 "nbformat": 4,
 "nbformat_minor": 5
}
