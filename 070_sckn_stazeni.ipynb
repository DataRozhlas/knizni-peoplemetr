{
 "cells": [
  {
   "cell_type": "code",
   "execution_count": 3,
   "id": "ca716c60-4fea-474b-8f5d-f3fe499de9f7",
   "metadata": {},
   "outputs": [],
   "source": [
    "import os\n",
    "import requests"
   ]
  },
  {
   "cell_type": "code",
   "execution_count": 5,
   "id": "27d3810f-3746-47c2-820a-0d000ef277d3",
   "metadata": {},
   "outputs": [],
   "source": [
    "kam = \"downloads/sckn/zebricky\"\n",
    "if not os.path.exists(kam):\n",
    "    os.makedirs(kam)"
   ]
  },
  {
   "cell_type": "code",
   "execution_count": 7,
   "id": "06f7b478-256d-446f-88ad-4fb37e61c77c",
   "metadata": {},
   "outputs": [],
   "source": [
    "url_sablona = \"https://www.sckn.cz/r-p-b/?year=ROK&week=TYDEN\""
   ]
  },
  {
   "cell_type": "code",
   "execution_count": 13,
   "id": "935111b2-993d-472a-85ef-3493437c9d57",
   "metadata": {},
   "outputs": [
    {
     "name": "stdout",
     "output_type": "stream",
     "text": [
      "https://www.sckn.cz/r-p-b/?year=2024&week=31\n",
      "https://www.sckn.cz/r-p-b/?year=2024&week=32\n",
      "https://www.sckn.cz/r-p-b/?year=2024&week=33\n",
      "https://www.sckn.cz/r-p-b/?year=2024&week=34\n",
      "https://www.sckn.cz/r-p-b/?year=2024&week=35\n",
      "https://www.sckn.cz/r-p-b/?year=2024&week=37\n",
      "https://www.sckn.cz/r-p-b/?year=2024&week=38\n",
      "https://www.sckn.cz/r-p-b/?year=2024&week=39\n",
      "https://www.sckn.cz/r-p-b/?year=2024&week=40\n",
      "https://www.sckn.cz/r-p-b/?year=2024&week=41\n",
      "https://www.sckn.cz/r-p-b/?year=2024&week=42\n",
      "https://www.sckn.cz/r-p-b/?year=2024&week=43\n",
      "https://www.sckn.cz/r-p-b/?year=2024&week=44\n",
      "https://www.sckn.cz/r-p-b/?year=2024&week=45\n",
      "https://www.sckn.cz/r-p-b/?year=2024&week=46\n",
      "https://www.sckn.cz/r-p-b/?year=2024&week=47\n",
      "https://www.sckn.cz/r-p-b/?year=2024&week=48\n",
      "https://www.sckn.cz/r-p-b/?year=2024&week=49\n",
      "https://www.sckn.cz/r-p-b/?year=2024&week=50\n",
      "https://www.sckn.cz/r-p-b/?year=2024&week=51\n",
      "https://www.sckn.cz/r-p-b/?year=2024&week=52\n",
      "https://www.sckn.cz/r-p-b/?year=2024&week=53\n"
     ]
    }
   ],
   "source": [
    "for rok in range(2002,2025):\n",
    "    for tyden in range(1,54):\n",
    "        url = url_sablona.replace(\"ROK\",str(rok)).replace(\"TYDEN\",str(tyden))\n",
    "        if f\"{rok}-{tyden:02}.html\" not in os.listdir(kam):\n",
    "            print(url)\n",
    "            r = requests.get(url)\n",
    "            if \"(0) Knihkupectví\" not in r.text:\n",
    "                with open(os.path.join(kam, f\"{rok}-{tyden:02}.html\"), 'w+', encoding='utf-8') as f:\n",
    "                    f.write(r.text)"
   ]
  }
 ],
 "metadata": {
  "kernelspec": {
   "display_name": "Python 3 (ipykernel)",
   "language": "python",
   "name": "python3"
  },
  "language_info": {
   "codemirror_mode": {
    "name": "ipython",
    "version": 3
   },
   "file_extension": ".py",
   "mimetype": "text/x-python",
   "name": "python",
   "nbconvert_exporter": "python",
   "pygments_lexer": "ipython3",
   "version": "3.12.3"
  }
 },
 "nbformat": 4,
 "nbformat_minor": 5
}
