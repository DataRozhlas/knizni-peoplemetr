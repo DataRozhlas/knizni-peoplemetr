{
 "cells": [
  {
   "cell_type": "code",
   "execution_count": 175,
   "id": "d32a4eba-6406-4cda-9662-730e3b5b0277",
   "metadata": {},
   "outputs": [],
   "source": [
    "import os\n",
    "import polars as pl"
   ]
  },
  {
   "cell_type": "code",
   "execution_count": 339,
   "id": "a67615af-8151-46b7-b038-f6cf71392b9f",
   "metadata": {},
   "outputs": [],
   "source": [
    "aut = pl.read_parquet(os.path.join(\"data\",\"aut_vyber.parquet\"))"
   ]
  },
  {
   "cell_type": "code",
   "execution_count": 340,
   "id": "4a921b1a-914c-45f9-9544-816d553e588c",
   "metadata": {},
   "outputs": [],
   "source": [
    "wikid = pl.read_parquet(os.path.join(\"data\",\"wikidata.parquet\"))"
   ]
  },
  {
   "cell_type": "markdown",
   "id": "ea5e5e86-8065-471f-8ef2-f682f3d66fd0",
   "metadata": {},
   "source": [
    "## Personální autority"
   ]
  },
  {
   "cell_type": "code",
   "execution_count": 342,
   "id": "33794c35-4a15-4162-83a7-0042caa5dbcd",
   "metadata": {},
   "outputs": [
    {
     "data": {
      "text/html": [
       "<div><style>\n",
       ".dataframe > thead > tr,\n",
       ".dataframe > tbody > tr {\n",
       "  text-align: right;\n",
       "  white-space: pre-wrap;\n",
       "}\n",
       "</style>\n",
       "<small>shape: (10, 34)</small><table border=\"1\" class=\"dataframe\"><thead><tr><th>024_2</th><th>024_a</th><th>046_f</th><th>046_g</th><th>100_7</th><th>100_a</th><th>100_d</th><th>100_ind1</th><th>110_a</th><th>370_a</th><th>370_b</th><th>370_c</th><th>370_f</th><th>372_a</th><th>373_a</th><th>374_a</th><th>375_a</th><th>377_a</th><th>400_a</th><th>400_d</th><th>400_i</th><th>400_ind1</th><th>410_a</th><th>411_a</th><th>430_a</th><th>450_a</th><th>500_a</th><th>500_i</th><th>500_ind1</th><th>550_7</th><th>678_a</th><th>856_u</th><th>leader</th><th>001</th></tr><tr><td>list[str]</td><td>list[str]</td><td>list[str]</td><td>list[str]</td><td>list[str]</td><td>list[str]</td><td>list[str]</td><td>list[str]</td><td>list[str]</td><td>list[str]</td><td>list[str]</td><td>list[str]</td><td>list[str]</td><td>list[str]</td><td>list[str]</td><td>list[str]</td><td>list[str]</td><td>list[str]</td><td>list[str]</td><td>list[str]</td><td>list[str]</td><td>list[str]</td><td>list[str]</td><td>list[str]</td><td>list[str]</td><td>list[str]</td><td>list[str]</td><td>list[str]</td><td>list[str]</td><td>list[str]</td><td>list[str]</td><td>list[str]</td><td>str</td><td>str</td></tr></thead><tbody><tr><td>null</td><td>null</td><td>null</td><td>null</td><td>null</td><td>null</td><td>null</td><td>null</td><td>[&quot;Ramtha School for Enlightenment&quot;]</td><td>null</td><td>null</td><td>null</td><td>null</td><td>null</td><td>null</td><td>null</td><td>null</td><td>null</td><td>null</td><td>null</td><td>null</td><td>null</td><td>[&quot;School of Enlightenment&quot;, &quot;Ramtha&#x27;s School for Enlightenment&quot;]</td><td>null</td><td>null</td><td>null</td><td>null</td><td>null</td><td>null</td><td>null</td><td>null</td><td>null</td><td>&quot;     cz  a22     n  4500&quot;</td><td>&quot;olak2007365899&quot;</td></tr><tr><td>null</td><td>null</td><td>[&quot;1919&quot;]</td><td>[&quot;1998&quot;]</td><td>[&quot;nlk20030145673&quot;]</td><td>[&quot;Constantinides, Paris,&quot;]</td><td>[&quot;1919-1998&quot;]</td><td>[&quot;1&quot;]</td><td>null</td><td>null</td><td>null</td><td>[&quot;Kanada&quot;]</td><td>null</td><td>[&quot;lékařství&quot;, &quot;patologie&quot;]</td><td>[&quot;Université de Montréal&quot;]</td><td>[&quot;lékaři&quot;, &quot;patologové&quot;, &quot;vysokoškolští učitelé&quot;]</td><td>[&quot;muž&quot;]</td><td>[&quot;eng&quot;]</td><td>null</td><td>null</td><td>null</td><td>null</td><td>null</td><td>null</td><td>null</td><td>null</td><td>null</td><td>null</td><td>null</td><td>null</td><td>[&quot;Patolog.&quot;]</td><td>null</td><td>&quot;     cz  a22     n  4500&quot;</td><td>&quot;nlk20030145673&quot;</td></tr><tr><td>null</td><td>null</td><td>null</td><td>null</td><td>[&quot;aun20231208667&quot;]</td><td>[&quot;Tatarka, Dominik,&quot;]</td><td>[&quot;1913-1989.&quot;]</td><td>[&quot;1&quot;]</td><td>null</td><td>null</td><td>null</td><td>null</td><td>null</td><td>null</td><td>null</td><td>null</td><td>null</td><td>null</td><td>[&quot;Tatarka, Dominik,&quot;]</td><td>[&quot;1913-1989.&quot;]</td><td>null</td><td>[&quot;1&quot;]</td><td>null</td><td>null</td><td>null</td><td>null</td><td>null</td><td>null</td><td>null</td><td>null</td><td>null</td><td>[&quot;https://www.infogate.sk/?fn=detailBiblioFormChildM4U3A&amp;sid=C982AC0DE0002FFF13A53502B0C8&amp;seo=Kniha:-A-b%C3%B3logat%C3%A1s-d%C3%A9mona.-Figura-fejedelem.-Fonott-karsz%C3%A9kek-Dominik-Tatarka-|-InfoGate&quot;]</td><td>&quot;     nz  a22     n  4500&quot;</td><td>&quot;aun20231208667&quot;</td></tr><tr><td>null</td><td>null</td><td>null</td><td>null</td><td>null</td><td>null</td><td>null</td><td>null</td><td>null</td><td>null</td><td>null</td><td>null</td><td>null</td><td>null</td><td>null</td><td>null</td><td>null</td><td>null</td><td>null</td><td>null</td><td>null</td><td>null</td><td>null</td><td>null</td><td>null</td><td>[&quot;termovize&quot;, &quot;infračervená termografie&quot;, &quot;termografie infračervená&quot;]</td><td>null</td><td>null</td><td>null</td><td>[&quot;ph456984&quot;, &quot;ph123122&quot;, … &quot;ph126457&quot;]</td><td>null</td><td>null</td><td>&quot;     cz  a22     n  4500&quot;</td><td>&quot;ph117274&quot;</td></tr><tr><td>null</td><td>null</td><td>[&quot;1955&quot;]</td><td>null</td><td>[&quot;mzk2005266292&quot;]</td><td>[&quot;Selucký, Oldřich,&quot;]</td><td>[&quot;1955-&quot;]</td><td>[&quot;1&quot;]</td><td>null</td><td>[&quot;Kyjov, Hodonín, Česko&quot;]</td><td>null</td><td>[&quot;Česko&quot;]</td><td>[&quot;Praha, Česko&quot;]</td><td>[&quot;filozofie&quot;, &quot;literatura&quot;, … &quot;vysoké školy&quot;]</td><td>null</td><td>[&quot;filozofové&quot;, &quot;spisovatelé&quot;, … &quot;vysokoškolští učitelé&quot;]</td><td>[&quot;muž&quot;]</td><td>[&quot;cze&quot;]</td><td>null</td><td>null</td><td>null</td><td>null</td><td>null</td><td>null</td><td>null</td><td>null</td><td>null</td><td>null</td><td>null</td><td>null</td><td>[&quot;Narozen 31.12. 1955 v Kyjově. Spisovatel, scenárista, malíř a ilustrátor. Filozof, filolog, též autor teologické a etické literatury, překladatel a pedagog.&quot;]</td><td>null</td><td>&quot;     cz  a22     n  4500&quot;</td><td>&quot;mzk2005266292&quot;</td></tr><tr><td>null</td><td>null</td><td>[&quot;1972&quot;]</td><td>null</td><td>[&quot;pna2012690356&quot;]</td><td>[&quot;Glombíčková, Jana,&quot;]</td><td>[&quot;1972-&quot;]</td><td>[&quot;1&quot;]</td><td>null</td><td>null</td><td>null</td><td>[&quot;Česko&quot;]</td><td>null</td><td>null</td><td>null</td><td>null</td><td>null</td><td>null</td><td>[&quot;Čisáriková, Jana,&quot;]</td><td>[&quot;1972-&quot;]</td><td>[&quot;Rodné jméno:&quot;]</td><td>[&quot;1&quot;]</td><td>null</td><td>null</td><td>null</td><td>null</td><td>null</td><td>null</td><td>null</td><td>null</td><td>[&quot;Narozena 8. 12. 1972. Mgr., filoložka, jazyková pedagožka, překladatelka francouzských filmů.&quot;]</td><td>null</td><td>&quot;     cz  a22     n  4500&quot;</td><td>&quot;pna2012690356&quot;</td></tr><tr><td>null</td><td>null</td><td>[&quot;1940&quot;]</td><td>null</td><td>[&quot;mub2016901847&quot;]</td><td>[&quot;Morrison, John C.,&quot;]</td><td>[&quot;1940-&quot;]</td><td>[&quot;1&quot;]</td><td>null</td><td>null</td><td>null</td><td>[&quot;Spojené státy americké&quot;]</td><td>null</td><td>[&quot;atomová fyzika&quot;, &quot;molekulární fyzika&quot;]</td><td>null</td><td>[&quot;fyzici&quot;, &quot;vysokoškolští učitelé&quot;]</td><td>[&quot;muž&quot;]</td><td>[&quot;eng&quot;]</td><td>null</td><td>null</td><td>null</td><td>null</td><td>null</td><td>null</td><td>null</td><td>null</td><td>null</td><td>null</td><td>null</td><td>null</td><td>[&quot;Americký profesor fyziky, specialista v oboru teoretické atomové a molekulární fyziky.&quot;]</td><td>null</td><td>&quot;     nz  a22     n  4500&quot;</td><td>&quot;mub2016901847&quot;</td></tr><tr><td>null</td><td>null</td><td>[&quot;1985&quot;]</td><td>null</td><td>[&quot;hka2018986119&quot;]</td><td>[&quot;Kopečková, Michaela,&quot;]</td><td>[&quot;1985-&quot;]</td><td>[&quot;1&quot;]</td><td>null</td><td>null</td><td>null</td><td>[&quot;Česko&quot;]</td><td>null</td><td>[&quot;jazyková výuka&quot;, &quot;čeština jako cizí jazyk&quot;]</td><td>null</td><td>[&quot;lektorky (vzdělávání)&quot;, &quot;filoložky&quot;]</td><td>[&quot;žena&quot;]</td><td>[&quot;cze&quot;]</td><td>null</td><td>null</td><td>null</td><td>null</td><td>null</td><td>null</td><td>null</td><td>null</td><td>null</td><td>null</td><td>null</td><td>null</td><td>[&quot;Narozena 6. 12. 1985. Filoložka, lektorka, specializuje se na fonetiku a výuku výslovnosti češtiny u cizinců, autorka prací z oboru.&quot;]</td><td>null</td><td>&quot;     nz  a22     n  4500&quot;</td><td>&quot;hka2018986119&quot;</td></tr><tr><td>null</td><td>null</td><td>[&quot;1865&quot;]</td><td>[&quot;1905&quot;]</td><td>[&quot;jk01150324&quot;]</td><td>[&quot;Voitlová, Božena,&quot;]</td><td>[&quot;1865-1905&quot;]</td><td>[&quot;1&quot;]</td><td>null</td><td>null</td><td>null</td><td>[&quot;Česko&quot;]</td><td>null</td><td>null</td><td>null</td><td>null</td><td>null</td><td>null</td><td>null</td><td>null</td><td>null</td><td>null</td><td>null</td><td>null</td><td>null</td><td>null</td><td>null</td><td>null</td><td>null</td><td>null</td><td>[&quot;Narozena 21.11.1865 v Počátkách, zemřela 9.2.1905 v Praze. Básnířka, prozaička.&quot;]</td><td>null</td><td>&quot;     nz  a22     n  4500&quot;</td><td>&quot;jk01150324&quot;</td></tr><tr><td>null</td><td>null</td><td>[&quot;1972&quot;]</td><td>null</td><td>[&quot;xx0253860&quot;]</td><td>[&quot;Pörsök, Štefan,&quot;]</td><td>[&quot;1972-&quot;]</td><td>[&quot;1&quot;]</td><td>null</td><td>null</td><td>null</td><td>[&quot;Slovensko&quot;]</td><td>null</td><td>[&quot;lékařství&quot;, &quot;klinická onkologie&quot;]</td><td>null</td><td>[&quot;lékaři&quot;, &quot;onkologové&quot;]</td><td>[&quot;muž&quot;]</td><td>[&quot;slo&quot;]</td><td>null</td><td>null</td><td>null</td><td>null</td><td>null</td><td>null</td><td>null</td><td>null</td><td>null</td><td>null</td><td>null</td><td>null</td><td>[&quot;MUDr., PhD., univerzitní pedagog; klinický onkolog ( II. onkologická klinika, Lekárska fakulta UK a Národný onkologický ústav, Bratislava).&quot;]</td><td>null</td><td>&quot;     cz  a22     n  4500&quot;</td><td>&quot;xx0253860&quot;</td></tr></tbody></table></div>"
      ],
      "text/plain": [
       "shape: (10, 34)\n",
       "┌───────────┬───────────┬───────────┬───────────┬───┬────────────────┬────────────────┬────────────────┬───────────────┐\n",
       "│ 024_2     ┆ 024_a     ┆ 046_f     ┆ 046_g     ┆ … ┆ 678_a          ┆ 856_u          ┆ leader         ┆ 001           │\n",
       "│ ---       ┆ ---       ┆ ---       ┆ ---       ┆   ┆ ---            ┆ ---            ┆ ---            ┆ ---           │\n",
       "│ list[str] ┆ list[str] ┆ list[str] ┆ list[str] ┆   ┆ list[str]      ┆ list[str]      ┆ str            ┆ str           │\n",
       "╞═══════════╪═══════════╪═══════════╪═══════════╪═══╪════════════════╪════════════════╪════════════════╪═══════════════╡\n",
       "│ null      ┆ null      ┆ null      ┆ null      ┆ … ┆ null           ┆ null           ┆ cz  a22     n  ┆ olak200736589 │\n",
       "│           ┆           ┆           ┆           ┆   ┆                ┆                ┆ 4500           ┆ 9             │\n",
       "│ null      ┆ null      ┆ [\"1919\"]  ┆ [\"1998\"]  ┆ … ┆ [\"Patolog.\"]   ┆ null           ┆ cz  a22     n  ┆ nlk2003014567 │\n",
       "│           ┆           ┆           ┆           ┆   ┆                ┆                ┆ 4500           ┆ 3             │\n",
       "│ null      ┆ null      ┆ null      ┆ null      ┆ … ┆ null           ┆ [\"https://www. ┆ nz  a22     n  ┆ aun2023120866 │\n",
       "│           ┆           ┆           ┆           ┆   ┆                ┆ infogate.sk/?f ┆ 4500           ┆ 7             │\n",
       "│           ┆           ┆           ┆           ┆   ┆                ┆ n=…            ┆                ┆               │\n",
       "│ null      ┆ null      ┆ null      ┆ null      ┆ … ┆ null           ┆ null           ┆ cz  a22     n  ┆ ph117274      │\n",
       "│           ┆           ┆           ┆           ┆   ┆                ┆                ┆ 4500           ┆               │\n",
       "│ null      ┆ null      ┆ [\"1955\"]  ┆ null      ┆ … ┆ [\"Narozen      ┆ null           ┆ cz  a22     n  ┆ mzk2005266292 │\n",
       "│           ┆           ┆           ┆           ┆   ┆ 31.12. 1955 v  ┆                ┆ 4500           ┆               │\n",
       "│           ┆           ┆           ┆           ┆   ┆ Kyjově…        ┆                ┆                ┆               │\n",
       "│ null      ┆ null      ┆ [\"1972\"]  ┆ null      ┆ … ┆ [\"Narozena 8.  ┆ null           ┆ cz  a22     n  ┆ pna2012690356 │\n",
       "│           ┆           ┆           ┆           ┆   ┆ 12. 1972.      ┆                ┆ 4500           ┆               │\n",
       "│           ┆           ┆           ┆           ┆   ┆ Mgr., …        ┆                ┆                ┆               │\n",
       "│ null      ┆ null      ┆ [\"1940\"]  ┆ null      ┆ … ┆ [\"Americký     ┆ null           ┆ nz  a22     n  ┆ mub2016901847 │\n",
       "│           ┆           ┆           ┆           ┆   ┆ profesor       ┆                ┆ 4500           ┆               │\n",
       "│           ┆           ┆           ┆           ┆   ┆ fyziky, sp…    ┆                ┆                ┆               │\n",
       "│ null      ┆ null      ┆ [\"1985\"]  ┆ null      ┆ … ┆ [\"Narozena 6.  ┆ null           ┆ nz  a22     n  ┆ hka2018986119 │\n",
       "│           ┆           ┆           ┆           ┆   ┆ 12. 1985.      ┆                ┆ 4500           ┆               │\n",
       "│           ┆           ┆           ┆           ┆   ┆ Filolo…        ┆                ┆                ┆               │\n",
       "│ null      ┆ null      ┆ [\"1865\"]  ┆ [\"1905\"]  ┆ … ┆ [\"Narozena     ┆ null           ┆ nz  a22     n  ┆ jk01150324    │\n",
       "│           ┆           ┆           ┆           ┆   ┆ 21.11.1865 v   ┆                ┆ 4500           ┆               │\n",
       "│           ┆           ┆           ┆           ┆   ┆ Počátk…        ┆                ┆                ┆               │\n",
       "│ null      ┆ null      ┆ [\"1972\"]  ┆ null      ┆ … ┆ [\"MUDr., PhD., ┆ null           ┆ cz  a22     n  ┆ xx0253860     │\n",
       "│           ┆           ┆           ┆           ┆   ┆ univerzitní    ┆                ┆ 4500           ┆               │\n",
       "│           ┆           ┆           ┆           ┆   ┆ ped…           ┆                ┆                ┆               │\n",
       "└───────────┴───────────┴───────────┴───────────┴───┴────────────────┴────────────────┴────────────────┴───────────────┘"
      ]
     },
     "execution_count": 342,
     "metadata": {},
     "output_type": "execute_result"
    }
   ],
   "source": [
    "aut.sample(10)"
   ]
  },
  {
   "cell_type": "code",
   "execution_count": 343,
   "id": "cbe057fe-c7e4-4b09-a37d-a696b724b261",
   "metadata": {},
   "outputs": [
    {
     "data": {
      "text/html": [
       "<div><style>\n",
       ".dataframe > thead > tr,\n",
       ".dataframe > tbody > tr {\n",
       "  text-align: right;\n",
       "  white-space: pre-wrap;\n",
       "}\n",
       "</style>\n",
       "<small>shape: (36, 34)</small><table border=\"1\" class=\"dataframe\"><thead><tr><th>024_2</th><th>024_a</th><th>046_f</th><th>046_g</th><th>100_7</th><th>100_a</th><th>100_d</th><th>100_ind1</th><th>110_a</th><th>370_a</th><th>370_b</th><th>370_c</th><th>370_f</th><th>372_a</th><th>373_a</th><th>374_a</th><th>375_a</th><th>377_a</th><th>400_a</th><th>400_d</th><th>400_i</th><th>400_ind1</th><th>410_a</th><th>411_a</th><th>430_a</th><th>450_a</th><th>500_a</th><th>500_i</th><th>500_ind1</th><th>550_7</th><th>678_a</th><th>856_u</th><th>leader</th><th>001</th></tr><tr><td>list[str]</td><td>list[str]</td><td>list[str]</td><td>list[str]</td><td>list[str]</td><td>str</td><td>list[str]</td><td>list[str]</td><td>list[str]</td><td>list[str]</td><td>list[str]</td><td>list[str]</td><td>list[str]</td><td>list[str]</td><td>list[str]</td><td>list[str]</td><td>list[str]</td><td>list[str]</td><td>list[str]</td><td>list[str]</td><td>list[str]</td><td>list[str]</td><td>list[str]</td><td>list[str]</td><td>list[str]</td><td>list[str]</td><td>list[str]</td><td>list[str]</td><td>list[str]</td><td>list[str]</td><td>list[str]</td><td>list[str]</td><td>str</td><td>str</td></tr></thead><tbody><tr><td>null</td><td>null</td><td>null</td><td>null</td><td>[&quot;jn19981001925&quot;]</td><td>&quot;Ovidius,&quot;</td><td>[&quot;43 př. Kr.-asi 18 po Kr.&quot;]</td><td>[&quot;0&quot;]</td><td>null</td><td>null</td><td>null</td><td>null</td><td>null</td><td>null</td><td>null</td><td>null</td><td>null</td><td>null</td><td>[&quot;Ovide,&quot;, &quot;Publius Ovidius Naso,&quot;, … &quot;Ovidius Naso, Publius,&quot;]</td><td>[&quot;43 př. Kr.-asi 18 po Kr.&quot;, &quot;43 př. Kr.-asi 18 po Kr.&quot;, … &quot;43 př. Kr.-asi 18 po Kr.&quot;]</td><td>null</td><td>[&quot;0&quot;, &quot;0&quot;, … &quot;1&quot;]</td><td>null</td><td>null</td><td>null</td><td>null</td><td>null</td><td>null</td><td>null</td><td>null</td><td>null</td><td>null</td><td>&quot;     cz  a22     n  4500&quot;</td><td>&quot;jn19981001925&quot;</td></tr><tr><td>null</td><td>null</td><td>null</td><td>null</td><td>[&quot;aun2006372411&quot;]</td><td>&quot;Ovidius,&quot;</td><td>[&quot;43 př. Kr.-asi 18 po Kr.&quot;]</td><td>[&quot;0&quot;]</td><td>null</td><td>null</td><td>null</td><td>null</td><td>null</td><td>null</td><td>null</td><td>null</td><td>null</td><td>null</td><td>null</td><td>null</td><td>null</td><td>null</td><td>null</td><td>null</td><td>null</td><td>null</td><td>null</td><td>null</td><td>null</td><td>null</td><td>null</td><td>null</td><td>&quot;     nz  a22     n  4500&quot;</td><td>&quot;aun2006372411&quot;</td></tr><tr><td>null</td><td>null</td><td>null</td><td>null</td><td>[&quot;aun2006372412&quot;]</td><td>&quot;Ovidius,&quot;</td><td>[&quot;43 př. Kr.-asi 18 po Kr.&quot;]</td><td>[&quot;0&quot;]</td><td>null</td><td>null</td><td>null</td><td>null</td><td>null</td><td>null</td><td>null</td><td>null</td><td>null</td><td>null</td><td>null</td><td>null</td><td>null</td><td>null</td><td>null</td><td>null</td><td>null</td><td>null</td><td>null</td><td>null</td><td>null</td><td>null</td><td>null</td><td>null</td><td>&quot;     nz  a22     n  4500&quot;</td><td>&quot;aun2006372412&quot;</td></tr><tr><td>null</td><td>null</td><td>null</td><td>null</td><td>[&quot;aun2006372413&quot;]</td><td>&quot;Ovidius,&quot;</td><td>[&quot;43 př. Kr.-asi 18 po Kr.&quot;]</td><td>[&quot;0&quot;]</td><td>null</td><td>null</td><td>null</td><td>null</td><td>null</td><td>null</td><td>null</td><td>null</td><td>null</td><td>null</td><td>[&quot;Ovidius,&quot;, &quot;Ovidius,&quot;]</td><td>[&quot;43 př. Kr.-asi 18 po Kr.&quot;, &quot;43 př. Kr.-asi 18 po Kr.&quot;]</td><td>null</td><td>[&quot;0&quot;, &quot;0&quot;]</td><td>null</td><td>null</td><td>null</td><td>null</td><td>null</td><td>null</td><td>null</td><td>null</td><td>[&quot;Stěžejní Ovidiovo dílo příběhů z řecké a římské mytologie (česky Proměny).&quot;]</td><td>null</td><td>&quot;     cz  a22     n  4500&quot;</td><td>&quot;aun2006372413&quot;</td></tr><tr><td>null</td><td>null</td><td>null</td><td>null</td><td>[&quot;aun2007385672&quot;]</td><td>&quot;Ovidius,&quot;</td><td>[&quot;43 př. Kr.-asi 18 po Kr.&quot;]</td><td>[&quot;0&quot;]</td><td>null</td><td>null</td><td>null</td><td>null</td><td>null</td><td>null</td><td>null</td><td>null</td><td>null</td><td>null</td><td>[&quot;Ovidius,&quot;]</td><td>[&quot;43 př. Kr.-asi 18 po Kr.&quot;]</td><td>null</td><td>[&quot;0&quot;]</td><td>null</td><td>null</td><td>null</td><td>null</td><td>null</td><td>null</td><td>null</td><td>null</td><td>null</td><td>null</td><td>&quot;     cz  a22     n  4500&quot;</td><td>&quot;aun2007385672&quot;</td></tr><tr><td>&hellip;</td><td>&hellip;</td><td>&hellip;</td><td>&hellip;</td><td>&hellip;</td><td>&hellip;</td><td>&hellip;</td><td>&hellip;</td><td>&hellip;</td><td>&hellip;</td><td>&hellip;</td><td>&hellip;</td><td>&hellip;</td><td>&hellip;</td><td>&hellip;</td><td>&hellip;</td><td>&hellip;</td><td>&hellip;</td><td>&hellip;</td><td>&hellip;</td><td>&hellip;</td><td>&hellip;</td><td>&hellip;</td><td>&hellip;</td><td>&hellip;</td><td>&hellip;</td><td>&hellip;</td><td>&hellip;</td><td>&hellip;</td><td>&hellip;</td><td>&hellip;</td><td>&hellip;</td><td>&hellip;</td><td>&hellip;</td></tr><tr><td>null</td><td>null</td><td>null</td><td>null</td><td>[&quot;aun2013768113&quot;]</td><td>&quot;Ovidius,&quot;</td><td>[&quot;43 př. Kr.-asi 18 po Kr.&quot;]</td><td>[&quot;0&quot;]</td><td>null</td><td>null</td><td>null</td><td>null</td><td>null</td><td>null</td><td>null</td><td>null</td><td>null</td><td>null</td><td>[&quot;Ovidius,&quot;]</td><td>[&quot;43 př. Kr.-asi 18 po Kr.&quot;]</td><td>null</td><td>[&quot;0&quot;]</td><td>null</td><td>null</td><td>null</td><td>null</td><td>null</td><td>null</td><td>null</td><td>null</td><td>null</td><td>null</td><td>&quot;     nz  a22     n  4500&quot;</td><td>&quot;aun2013768113&quot;</td></tr><tr><td>null</td><td>null</td><td>null</td><td>null</td><td>[&quot;aun2015891387&quot;]</td><td>&quot;Ovidius,&quot;</td><td>[&quot;43 př. Kr.-asi 18 po Kr.&quot;]</td><td>[&quot;0&quot;]</td><td>null</td><td>null</td><td>null</td><td>null</td><td>null</td><td>null</td><td>null</td><td>null</td><td>null</td><td>null</td><td>null</td><td>null</td><td>null</td><td>null</td><td>null</td><td>null</td><td>null</td><td>null</td><td>null</td><td>null</td><td>null</td><td>null</td><td>null</td><td>null</td><td>&quot;     nz  a22     n  4500&quot;</td><td>&quot;aun2015891387&quot;</td></tr><tr><td>null</td><td>null</td><td>null</td><td>null</td><td>[&quot;aun2015891394&quot;]</td><td>&quot;Ovidius,&quot;</td><td>[&quot;43 př. Kr.-asi 18 po Kr.&quot;]</td><td>[&quot;0&quot;]</td><td>null</td><td>null</td><td>null</td><td>null</td><td>null</td><td>null</td><td>null</td><td>null</td><td>null</td><td>null</td><td>[&quot;Ovidius,&quot;]</td><td>[&quot;43 př. Kr.-asi 18 po Kr.&quot;]</td><td>null</td><td>[&quot;0&quot;]</td><td>null</td><td>null</td><td>null</td><td>null</td><td>null</td><td>null</td><td>null</td><td>null</td><td>null</td><td>null</td><td>&quot;     nz  a22     n  4500&quot;</td><td>&quot;aun2015891394&quot;</td></tr><tr><td>null</td><td>null</td><td>null</td><td>null</td><td>[&quot;aun20211117596&quot;]</td><td>&quot;Ovidius,&quot;</td><td>[&quot;43 př. Kr.-asi 18 po Kr.&quot;]</td><td>[&quot;0&quot;]</td><td>null</td><td>null</td><td>null</td><td>null</td><td>null</td><td>null</td><td>null</td><td>null</td><td>null</td><td>null</td><td>[&quot;Ovidius,&quot;, &quot;Ovidius,&quot;]</td><td>[&quot;43 př. Kr.-asi 18 po Kr.&quot;, &quot;43 př. Kr.-asi 18 po Kr.&quot;]</td><td>null</td><td>[&quot;0&quot;, &quot;0&quot;]</td><td>null</td><td>null</td><td>null</td><td>null</td><td>null</td><td>null</td><td>null</td><td>null</td><td>null</td><td>null</td><td>&quot;     nz  a22     n  4500&quot;</td><td>&quot;aun20211117596&quot;</td></tr><tr><td>null</td><td>null</td><td>null</td><td>null</td><td>[&quot;aun20221150428&quot;]</td><td>&quot;Ovidius,&quot;</td><td>[&quot;43 př. Kr.-asi 18 po Kr.&quot;]</td><td>[&quot;0&quot;]</td><td>null</td><td>null</td><td>null</td><td>null</td><td>null</td><td>null</td><td>null</td><td>null</td><td>null</td><td>null</td><td>[&quot;Ovidius,&quot;]</td><td>[&quot;43 př. Kr.-asi 18 po Kr.&quot;]</td><td>null</td><td>[&quot;0&quot;]</td><td>null</td><td>null</td><td>null</td><td>null</td><td>null</td><td>null</td><td>null</td><td>null</td><td>null</td><td>null</td><td>&quot;     nz  a22     n  4500&quot;</td><td>&quot;aun20221150428&quot;</td></tr></tbody></table></div>"
      ],
      "text/plain": [
       "shape: (36, 34)\n",
       "┌───────────┬───────────┬───────────┬───────────┬───┬───────────────┬───────────┬─────────────────────┬────────────────┐\n",
       "│ 024_2     ┆ 024_a     ┆ 046_f     ┆ 046_g     ┆ … ┆ 678_a         ┆ 856_u     ┆ leader              ┆ 001            │\n",
       "│ ---       ┆ ---       ┆ ---       ┆ ---       ┆   ┆ ---           ┆ ---       ┆ ---                 ┆ ---            │\n",
       "│ list[str] ┆ list[str] ┆ list[str] ┆ list[str] ┆   ┆ list[str]     ┆ list[str] ┆ str                 ┆ str            │\n",
       "╞═══════════╪═══════════╪═══════════╪═══════════╪═══╪═══════════════╪═══════════╪═════════════════════╪════════════════╡\n",
       "│ null      ┆ null      ┆ null      ┆ null      ┆ … ┆ null          ┆ null      ┆ cz  a22     n  4500 ┆ jn19981001925  │\n",
       "│ null      ┆ null      ┆ null      ┆ null      ┆ … ┆ null          ┆ null      ┆ nz  a22     n  4500 ┆ aun2006372411  │\n",
       "│ null      ┆ null      ┆ null      ┆ null      ┆ … ┆ null          ┆ null      ┆ nz  a22     n  4500 ┆ aun2006372412  │\n",
       "│ null      ┆ null      ┆ null      ┆ null      ┆ … ┆ [\"Stěžejní    ┆ null      ┆ cz  a22     n  4500 ┆ aun2006372413  │\n",
       "│           ┆           ┆           ┆           ┆   ┆ Ovidiovo dílo ┆           ┆                     ┆                │\n",
       "│           ┆           ┆           ┆           ┆   ┆ příbě…        ┆           ┆                     ┆                │\n",
       "│ null      ┆ null      ┆ null      ┆ null      ┆ … ┆ null          ┆ null      ┆ cz  a22     n  4500 ┆ aun2007385672  │\n",
       "│ …         ┆ …         ┆ …         ┆ …         ┆ … ┆ …             ┆ …         ┆ …                   ┆ …              │\n",
       "│ null      ┆ null      ┆ null      ┆ null      ┆ … ┆ null          ┆ null      ┆ nz  a22     n  4500 ┆ aun2013768113  │\n",
       "│ null      ┆ null      ┆ null      ┆ null      ┆ … ┆ null          ┆ null      ┆ nz  a22     n  4500 ┆ aun2015891387  │\n",
       "│ null      ┆ null      ┆ null      ┆ null      ┆ … ┆ null          ┆ null      ┆ nz  a22     n  4500 ┆ aun2015891394  │\n",
       "│ null      ┆ null      ┆ null      ┆ null      ┆ … ┆ null          ┆ null      ┆ nz  a22     n  4500 ┆ aun20211117596 │\n",
       "│ null      ┆ null      ┆ null      ┆ null      ┆ … ┆ null          ┆ null      ┆ nz  a22     n  4500 ┆ aun20221150428 │\n",
       "└───────────┴───────────┴───────────┴───────────┴───┴───────────────┴───────────┴─────────────────────┴────────────────┘"
      ]
     },
     "execution_count": 343,
     "metadata": {},
     "output_type": "execute_result"
    }
   ],
   "source": [
    "aut.explode(\"100_a\").filter(pl.col(\"100_a\").str.contains(\"Ovidius\"))"
   ]
  },
  {
   "cell_type": "code",
   "execution_count": 344,
   "id": "1f5c46f9-dea3-4a9c-8a6a-bc4c054fc8e0",
   "metadata": {},
   "outputs": [],
   "source": [
    "import re"
   ]
  },
  {
   "cell_type": "code",
   "execution_count": 345,
   "id": "5a71d911-f3cd-4148-bc33-7aefa0e9c669",
   "metadata": {},
   "outputs": [],
   "source": [
    "def rok_z_autorit(retezec):\n",
    "    try:\n",
    "        rok = int(re.search(r\"\\b\\d{1,4}(?!\\.)\\b\", retezec).group())\n",
    "        if \"př. Kr.\" in retezec:\n",
    "            return -rok\n",
    "        else:\n",
    "            return rok\n",
    "    except:\n",
    "        return None\n",
    "\n",
    "def roky_z_autorit(retezec):\n",
    "    narozeni = rok_z_autorit(retezec.split('-')[0])\n",
    "    umrti = rok_z_autorit(retezec.split('-')[1])\n",
    "    if umrti and narozeni:\n",
    "        if (umrti < 0) and (narozeni > 0):\n",
    "            narozeni = -narozeni\n",
    "    return {\"narozeni\": narozeni, \"umrti\": umrti}"
   ]
  },
  {
   "cell_type": "code",
   "execution_count": 346,
   "id": "1b11daf3-a7c1-462a-883e-2f8416b4c2a7",
   "metadata": {},
   "outputs": [
    {
     "data": {
      "text/plain": [
       "{'narozeni': -43, 'umrti': 18}"
      ]
     },
     "execution_count": 346,
     "metadata": {},
     "output_type": "execute_result"
    }
   ],
   "source": [
    "roky_z_autorit(\"43 př. Kr.-asi 18 po Kr.\")"
   ]
  },
  {
   "cell_type": "code",
   "execution_count": 347,
   "id": "bd58cdcb-e7e7-4c1e-b961-ce615fa97b34",
   "metadata": {},
   "outputs": [
    {
     "data": {
      "text/plain": [
       "{'narozeni': 129, 'umrti': 216}"
      ]
     },
     "execution_count": 347,
     "metadata": {},
     "output_type": "execute_result"
    }
   ],
   "source": [
    "roky_z_autorit(\"129-asi 216\")"
   ]
  },
  {
   "cell_type": "code",
   "execution_count": 348,
   "id": "5fd238cc-a085-44ce-90bb-af6fdfe7a664",
   "metadata": {},
   "outputs": [
    {
     "data": {
      "text/plain": [
       "{'narozeni': -2488, 'umrti': -2470}"
      ]
     },
     "execution_count": 348,
     "metadata": {},
     "output_type": "execute_result"
    }
   ],
   "source": [
    "roky_z_autorit(\"činný 2488-2470 př. Kr.\")"
   ]
  },
  {
   "cell_type": "code",
   "execution_count": 349,
   "id": "a379a84b-5fdc-46d8-a7c0-45b115851316",
   "metadata": {},
   "outputs": [
    {
     "data": {
      "text/plain": [
       "{'narozeni': None, 'umrti': None}"
      ]
     },
     "execution_count": 349,
     "metadata": {},
     "output_type": "execute_result"
    }
   ],
   "source": [
    "roky_z_autorit(\"činný 16. století-17. století\")"
   ]
  },
  {
   "cell_type": "code",
   "execution_count": 350,
   "id": "0618ff89-dd65-4f8a-9db6-cd4f09dbebd4",
   "metadata": {},
   "outputs": [
    {
     "name": "stderr",
     "output_type": "stream",
     "text": [
      "C:\\Users\\micha\\AppData\\Local\\Temp\\ipykernel_20692\\3319942890.py:1: MapWithoutReturnDtypeWarning: Calling `map_elements` without specifying `return_dtype` can lead to unpredictable results. Specify `return_dtype` to silence this warning.\n",
      "  aut = aut.explode(\"100_d\").with_columns(pl.col(\"100_d\").map_elements(roky_z_autorit).alias(\"letopocty\")).unnest('letopocty')\n"
     ]
    }
   ],
   "source": [
    "aut = aut.explode(\"100_d\").with_columns(pl.col(\"100_d\").map_elements(roky_z_autorit).alias(\"letopocty\")).unnest('letopocty')"
   ]
  },
  {
   "cell_type": "code",
   "execution_count": 351,
   "id": "03962f98-1ffd-4e30-86d0-41f0f4fdc9ae",
   "metadata": {},
   "outputs": [],
   "source": [
    "aut_vyplnene = aut.filter(~pl.col(\"narozeni\").is_null() | ~pl.col(\"umrti\").is_null()).select(pl.col(['100_7','narozeni','umrti'])).explode(\"100_7\")"
   ]
  },
  {
   "cell_type": "code",
   "execution_count": 352,
   "id": "e900c4fb-7152-47c0-b4f3-b01f5a7f4112",
   "metadata": {},
   "outputs": [
    {
     "data": {
      "text/html": [
       "<div><style>\n",
       ".dataframe > thead > tr,\n",
       ".dataframe > tbody > tr {\n",
       "  text-align: right;\n",
       "  white-space: pre-wrap;\n",
       "}\n",
       "</style>\n",
       "<small>shape: (657_178, 3)</small><table border=\"1\" class=\"dataframe\"><thead><tr><th>100_7</th><th>narozeni</th><th>umrti</th></tr><tr><td>str</td><td>i64</td><td>i64</td></tr></thead><tbody><tr><td>&quot;jk01010001&quot;</td><td>1931</td><td>null</td></tr><tr><td>&quot;jk01010002&quot;</td><td>1890</td><td>1933</td></tr><tr><td>&quot;jk01010003&quot;</td><td>1957</td><td>null</td></tr><tr><td>&quot;jk01010004&quot;</td><td>1889</td><td>1963</td></tr><tr><td>&quot;jk01010005&quot;</td><td>1877</td><td>1960</td></tr><tr><td>&hellip;</td><td>&hellip;</td><td>&hellip;</td></tr><tr><td>&quot;jo20251251608&quot;</td><td>1951</td><td>null</td></tr><tr><td>&quot;xx0328654&quot;</td><td>1986</td><td>null</td></tr><tr><td>&quot;aun20251251610&quot;</td><td>1828</td><td>null</td></tr><tr><td>&quot;aun20251251611&quot;</td><td>1828</td><td>null</td></tr><tr><td>&quot;jo20251251612&quot;</td><td>1882</td><td>1951</td></tr></tbody></table></div>"
      ],
      "text/plain": [
       "shape: (657_178, 3)\n",
       "┌────────────────┬──────────┬───────┐\n",
       "│ 100_7          ┆ narozeni ┆ umrti │\n",
       "│ ---            ┆ ---      ┆ ---   │\n",
       "│ str            ┆ i64      ┆ i64   │\n",
       "╞════════════════╪══════════╪═══════╡\n",
       "│ jk01010001     ┆ 1931     ┆ null  │\n",
       "│ jk01010002     ┆ 1890     ┆ 1933  │\n",
       "│ jk01010003     ┆ 1957     ┆ null  │\n",
       "│ jk01010004     ┆ 1889     ┆ 1963  │\n",
       "│ jk01010005     ┆ 1877     ┆ 1960  │\n",
       "│ …              ┆ …        ┆ …     │\n",
       "│ jo20251251608  ┆ 1951     ┆ null  │\n",
       "│ xx0328654      ┆ 1986     ┆ null  │\n",
       "│ aun20251251610 ┆ 1828     ┆ null  │\n",
       "│ aun20251251611 ┆ 1828     ┆ null  │\n",
       "│ jo20251251612  ┆ 1882     ┆ 1951  │\n",
       "└────────────────┴──────────┴───────┘"
      ]
     },
     "execution_count": 352,
     "metadata": {},
     "output_type": "execute_result"
    }
   ],
   "source": [
    "aut_vyplnene"
   ]
  },
  {
   "cell_type": "code",
   "execution_count": 353,
   "id": "e16dcd61-7035-4f1e-9797-dee1e76a22a7",
   "metadata": {},
   "outputs": [
    {
     "data": {
      "text/plain": [
       "'shape: (10, 3)\\n┌────────────┬──────────┬───────┐\\n│ 100_7      ┆ narozeni ┆ umrti │\\n│ ---        ┆ ---      ┆ ---   │\\n│ str        ┆ i64      ┆ i64   │\\n╞════════════╪══════════╪═══════╡\\n│ jk01010001 ┆ 1931     ┆ null  │\\n│ jk01010002 ┆ 1890     ┆ 1933  │\\n│ jk01010003 ┆ 1957     ┆ null  │\\n│ jk01010004 ┆ 1889     ┆ 1963  │\\n│ jk01010005 ┆ 1877     ┆ 1960  │\\n│ jk01010009 ┆ 1843     ┆ 1882  │\\n│ jk01010010 ┆ 1904     ┆ 1995  │\\n│ jk01010012 ┆ 1803     ┆ 1875  │\\n│ jk01010013 ┆ 1832     ┆ 1880  │\\n│ jk01010019 ┆ 1878     ┆ null  │\\n└────────────┴──────────┴───────┘'"
      ]
     },
     "execution_count": 353,
     "metadata": {},
     "output_type": "execute_result"
    }
   ],
   "source": [
    "str(aut_vyplnene.head(10))"
   ]
  },
  {
   "cell_type": "markdown",
   "id": "6359d764-01d3-4a9a-b85d-5cf4459d7a54",
   "metadata": {},
   "source": [
    "## Wikidata"
   ]
  },
  {
   "cell_type": "code",
   "execution_count": 355,
   "id": "f84fec0a-a829-4135-92be-f7fb864c77b9",
   "metadata": {},
   "outputs": [
    {
     "data": {
      "text/html": [
       "<div><style>\n",
       ".dataframe > thead > tr,\n",
       ".dataframe > tbody > tr {\n",
       "  text-align: right;\n",
       "  white-space: pre-wrap;\n",
       "}\n",
       "</style>\n",
       "<small>shape: (10, 34)</small><table border=\"1\" class=\"dataframe\"><thead><tr><th>024_a</th><th>ceny</th><th>druh_umrti</th><th>facebook</th><th>instagram</th><th>jazykove_verze</th><th>label_cs</th><th>label_en</th><th>manzelstvo</th><th>obcanstvi</th><th>partnerstvo</th><th>popis_cs</th><th>popis_en</th><th>potomstvo</th><th>pricina_umrti</th><th>profese</th><th>role</th><th>skoly</th><th>sourozenectvo</th><th>strany</th><th>twitter</th><th>udalosti</th><th>vezeni</th><th>w_gender</th><th>w_misto_narozeni</th><th>w_misto_umrti</th><th>w_narozeni</th><th>w_narozeni_presne</th><th>w_umrti</th><th>w_umrti_presne</th><th>web</th><th>wiki_cs</th><th>wiki_en</th><th>__index_level_0__</th></tr><tr><td>str</td><td>list[str]</td><td>str</td><td>str</td><td>str</td><td>list[str]</td><td>str</td><td>str</td><td>list[str]</td><td>list[str]</td><td>list[str]</td><td>str</td><td>str</td><td>list[str]</td><td>str</td><td>list[str]</td><td>list[str]</td><td>list[str]</td><td>list[str]</td><td>list[str]</td><td>str</td><td>list[str]</td><td>list[str]</td><td>str</td><td>list[str]</td><td>list[str]</td><td>f64</td><td>str</td><td>f64</td><td>str</td><td>str</td><td>str</td><td>str</td><td>str</td></tr></thead><tbody><tr><td>&quot;Q95388242&quot;</td><td>null</td><td>null</td><td>null</td><td>null</td><td>[]</td><td>&quot;Josef Hrdina&quot;</td><td>&quot;Josef Hrdina&quot;</td><td>null</td><td>[&quot;Československo&quot;]</td><td>null</td><td>&quot;Narozen 26. 2. 1877 v Napajedl…</td><td>null</td><td>null</td><td>null</td><td>[&quot;novinář&quot;, &quot;filozof&quot;, … &quot;právník&quot;]</td><td>null</td><td>[&quot;Právnická fakulta Univerzity Karlovy&quot;]</td><td>null</td><td>null</td><td>null</td><td>null</td><td>null</td><td>&quot;muž&quot;</td><td>[&quot;Napajedla&quot;]</td><td>[&quot;Brno&quot;]</td><td>1877.0</td><td>&quot;+1877-02-26T00:00:00Z&quot;</td><td>1947.0</td><td>&quot;+1947-01-01T00:00:00Z&quot;</td><td>null</td><td>null</td><td>null</td><td>&quot;jk01042722&quot;</td></tr><tr><td>&quot;Q48738837&quot;</td><td>null</td><td>null</td><td>null</td><td>null</td><td>[]</td><td>&quot;Stergios K. Doumouchtsis&quot;</td><td>&quot;Stergios K. Doumouchtsis&quot;</td><td>null</td><td>null</td><td>null</td><td>&quot;Lékař, gynekolog, porodník, vy…</td><td>&quot;researcher&quot;</td><td>null</td><td>null</td><td>[&quot;lékař&quot;, &quot;gynekolog&quot;, … &quot;vědec&quot;]</td><td>null</td><td>null</td><td>null</td><td>null</td><td>null</td><td>null</td><td>null</td><td>&quot;muž&quot;</td><td>null</td><td>null</td><td>null</td><td>null</td><td>null</td><td>null</td><td>null</td><td>null</td><td>null</td><td>&quot;ntk20221155663&quot;</td></tr><tr><td>&quot;Q95072834&quot;</td><td>null</td><td>null</td><td>null</td><td>null</td><td>[&quot;cs&quot;]</td><td>&quot;Mária Jeršová-Opočenská&quot;</td><td>&quot;Mária Jeršová-Opočenská&quot;</td><td>null</td><td>[&quot;Československo&quot;]</td><td>null</td><td>&quot;Narozena 11. 7. 1899 v Praze, …</td><td>&quot;Czechoslovak archivist&quot;</td><td>null</td><td>null</td><td>[&quot;archivář&quot;]</td><td>null</td><td>[&quot;Filozofická fakulta Univerzity Karlovy&quot;]</td><td>null</td><td>null</td><td>null</td><td>null</td><td>null</td><td>&quot;žena&quot;</td><td>[&quot;Praha&quot;, &quot;Vinohrady&quot;]</td><td>[&quot;Praha&quot;]</td><td>1899.0</td><td>&quot;+1899-07-11T00:00:00Z&quot;</td><td>1978.0</td><td>&quot;+1978-02-14T00:00:00Z&quot;</td><td>null</td><td>&quot;https://cs.wikipedia.org/wiki/…</td><td>null</td><td>&quot;jk01091203&quot;</td></tr><tr><td>&quot;Q59631187&quot;</td><td>null</td><td>null</td><td>null</td><td>null</td><td>[]</td><td>&quot;James Sheldon Shoemaker&quot;</td><td>&quot;James Sheldon Shoemaker&quot;</td><td>null</td><td>[&quot;Spojené státy americké&quot;]</td><td>null</td><td>null</td><td>&quot;born:1898|died:1983-03-14|; Sh…</td><td>null</td><td>null</td><td>[&quot;vysokoškolský učitel&quot;, &quot;agronom&quot;]</td><td>null</td><td>null</td><td>null</td><td>null</td><td>null</td><td>null</td><td>null</td><td>&quot;muž&quot;</td><td>null</td><td>null</td><td>1898.0</td><td>&quot;+1898-01-01T00:00:00Z&quot;</td><td>1983.0</td><td>&quot;+1983-03-14T00:00:00Z&quot;</td><td>null</td><td>null</td><td>null</td><td>&quot;mzk20231195339&quot;</td></tr><tr><td>&quot;Q5606791&quot;</td><td>[&quot;CHI Academy&quot;, &quot;ACM Fellow&quot;, … &quot;Rhodes Scholarship&quot;]</td><td>null</td><td>null</td><td>null</td><td>[&quot;sw&quot;, &quot;fa&quot;, &quot;en&quot;]</td><td>&quot;Gregory D. Abowd&quot;</td><td>&quot;Gregory Abowd&quot;</td><td>null</td><td>[&quot;Spojené státy americké&quot;]</td><td>null</td><td>null</td><td>&quot;computer scientist&quot;</td><td>null</td><td>null</td><td>[&quot;informatik&quot;, &quot;vysokoškolský učitel&quot;]</td><td>null</td><td>[&quot;Trinity College&quot;, &quot;Univerzita Carnegieho–Mellonových&quot;, … &quot;Notredamská univerzita&quot;]</td><td>null</td><td>null</td><td>null</td><td>null</td><td>null</td><td>&quot;muž&quot;</td><td>[&quot;Farmington Hills&quot;]</td><td>null</td><td>1964.0</td><td>&quot;+1964-09-12T00:00:00Z&quot;</td><td>null</td><td>null</td><td>null</td><td>null</td><td>&quot;https://en.wikipedia.org/wiki/…</td><td>&quot;mub2015882756&quot;</td></tr><tr><td>&quot;Q95153694&quot;</td><td>null</td><td>null</td><td>null</td><td>null</td><td>[]</td><td>&quot;Helena Zlámalová&quot;</td><td>&quot;Helena Zlámalová&quot;</td><td>null</td><td>null</td><td>null</td><td>&quot;Narozena 21.5.1948 v Praze. RN…</td><td>null</td><td>null</td><td>null</td><td>null</td><td>null</td><td>null</td><td>null</td><td>null</td><td>null</td><td>null</td><td>null</td><td>&quot;žena&quot;</td><td>[&quot;Praha&quot;]</td><td>null</td><td>1948.0</td><td>&quot;+1948-05-21T00:00:00Z&quot;</td><td>null</td><td>null</td><td>null</td><td>null</td><td>null</td><td>&quot;mzk2003188727&quot;</td></tr><tr><td>&quot;Q120612892&quot;</td><td>null</td><td>null</td><td>null</td><td>null</td><td>[]</td><td>&quot;Montoro Bayón Montoro&quot;</td><td>null</td><td>null</td><td>null</td><td>null</td><td>&quot;španělský nakladatelský redakt…</td><td>null</td><td>null</td><td>null</td><td>[&quot;redaktor&quot;, &quot;sběratel umění&quot;]</td><td>null</td><td>null</td><td>null</td><td>null</td><td>null</td><td>null</td><td>null</td><td>&quot;muž&quot;</td><td>null</td><td>null</td><td>null</td><td>null</td><td>null</td><td>null</td><td>null</td><td>null</td><td>null</td><td>&quot;jo20211117097&quot;</td></tr><tr><td>&quot;Q12038293&quot;</td><td>[&quot;Cena Egona Erwina Kische&quot;]</td><td>null</td><td>null</td><td>null</td><td>[&quot;pl&quot;, &quot;cs&quot;]</td><td>&quot;Mladá fronta&quot;</td><td>&quot;Mladá fronta&quot;</td><td>null</td><td>null</td><td>null</td><td>&quot;české nakladatelství (1992–202…</td><td>&quot;Czech publishing house (1992-2…</td><td>null</td><td>null</td><td>null</td><td>null</td><td>null</td><td>null</td><td>null</td><td>null</td><td>[&quot;úpadek&quot;]</td><td>null</td><td>null</td><td>null</td><td>null</td><td>null</td><td>null</td><td>null</td><td>null</td><td>null</td><td>&quot;https://cs.wikipedia.org/wiki/…</td><td>null</td><td>&quot;ko2002149862&quot;</td></tr><tr><td>&quot;Q120579580&quot;</td><td>null</td><td>null</td><td>null</td><td>null</td><td>[]</td><td>&quot;Johann Borschitzky&quot;</td><td>&quot;Johann Borschitzky&quot;</td><td>null</td><td>null</td><td>null</td><td>&quot;Autor publikací o rakouských z…</td><td>null</td><td>null</td><td>null</td><td>null</td><td>null</td><td>null</td><td>null</td><td>null</td><td>null</td><td>null</td><td>null</td><td>&quot;muž&quot;</td><td>null</td><td>null</td><td>null</td><td>null</td><td>null</td><td>null</td><td>null</td><td>null</td><td>null</td><td>&quot;ola2007404828&quot;</td></tr><tr><td>&quot;Q3052917&quot;</td><td>null</td><td>&quot;přirozená smrt&quot;</td><td>null</td><td>null</td><td>[&quot;fr&quot;]</td><td>&quot;Emmanuel de Roux&quot;</td><td>&quot;Emmanuel de Roux&quot;</td><td>[&quot;Catherine Firmin-Didot&quot;]</td><td>[&quot;Francie&quot;]</td><td>null</td><td>null</td><td>&quot;French journalist&quot;</td><td>null</td><td>&quot;rakovina&quot;</td><td>[&quot;novinář&quot;]</td><td>null</td><td>[&quot;Stanislavova kolej&quot;]</td><td>null</td><td>null</td><td>null</td><td>null</td><td>null</td><td>&quot;muž&quot;</td><td>[&quot;Paříž&quot;]</td><td>[&quot;Villejuif&quot;]</td><td>1944.0</td><td>&quot;+1944-11-19T00:00:00Z&quot;</td><td>2008.0</td><td>&quot;+2008-08-24T00:00:00Z&quot;</td><td>null</td><td>null</td><td>null</td><td>&quot;ctu2014836006&quot;</td></tr></tbody></table></div>"
      ],
      "text/plain": [
       "shape: (10, 34)\n",
       "┌────────────┬─────────────────┬────────────┬──────────┬───┬──────┬─────────────────┬─────────────────┬────────────────┐\n",
       "│ 024_a      ┆ ceny            ┆ druh_umrti ┆ facebook ┆ … ┆ web  ┆ wiki_cs         ┆ wiki_en         ┆ __index_level_ │\n",
       "│ ---        ┆ ---             ┆ ---        ┆ ---      ┆   ┆ ---  ┆ ---             ┆ ---             ┆ 0__            │\n",
       "│ str        ┆ list[str]       ┆ str        ┆ str      ┆   ┆ str  ┆ str             ┆ str             ┆ ---            │\n",
       "│            ┆                 ┆            ┆          ┆   ┆      ┆                 ┆                 ┆ str            │\n",
       "╞════════════╪═════════════════╪════════════╪══════════╪═══╪══════╪═════════════════╪═════════════════╪════════════════╡\n",
       "│ Q95388242  ┆ null            ┆ null       ┆ null     ┆ … ┆ null ┆ null            ┆ null            ┆ jk01042722     │\n",
       "│ Q48738837  ┆ null            ┆ null       ┆ null     ┆ … ┆ null ┆ null            ┆ null            ┆ ntk20221155663 │\n",
       "│ Q95072834  ┆ null            ┆ null       ┆ null     ┆ … ┆ null ┆ https://cs.wiki ┆ null            ┆ jk01091203     │\n",
       "│            ┆                 ┆            ┆          ┆   ┆      ┆ pedia.org/wiki/ ┆                 ┆                │\n",
       "│            ┆                 ┆            ┆          ┆   ┆      ┆ …               ┆                 ┆                │\n",
       "│ Q59631187  ┆ null            ┆ null       ┆ null     ┆ … ┆ null ┆ null            ┆ null            ┆ mzk20231195339 │\n",
       "│ Q5606791   ┆ [\"CHI Academy\", ┆ null       ┆ null     ┆ … ┆ null ┆ null            ┆ https://en.wiki ┆ mub2015882756  │\n",
       "│            ┆ \"ACM Fellow\", … ┆            ┆          ┆   ┆      ┆                 ┆ pedia.org/wiki/ ┆                │\n",
       "│            ┆                 ┆            ┆          ┆   ┆      ┆                 ┆ …               ┆                │\n",
       "│ Q95153694  ┆ null            ┆ null       ┆ null     ┆ … ┆ null ┆ null            ┆ null            ┆ mzk2003188727  │\n",
       "│ Q120612892 ┆ null            ┆ null       ┆ null     ┆ … ┆ null ┆ null            ┆ null            ┆ jo20211117097  │\n",
       "│ Q12038293  ┆ [\"Cena Egona    ┆ null       ┆ null     ┆ … ┆ null ┆ https://cs.wiki ┆ null            ┆ ko2002149862   │\n",
       "│            ┆ Erwina Kische\"] ┆            ┆          ┆   ┆      ┆ pedia.org/wiki/ ┆                 ┆                │\n",
       "│            ┆                 ┆            ┆          ┆   ┆      ┆ …               ┆                 ┆                │\n",
       "│ Q120579580 ┆ null            ┆ null       ┆ null     ┆ … ┆ null ┆ null            ┆ null            ┆ ola2007404828  │\n",
       "│ Q3052917   ┆ null            ┆ přirozená  ┆ null     ┆ … ┆ null ┆ null            ┆ null            ┆ ctu2014836006  │\n",
       "│            ┆                 ┆ smrt       ┆          ┆   ┆      ┆                 ┆                 ┆                │\n",
       "└────────────┴─────────────────┴────────────┴──────────┴───┴──────┴─────────────────┴─────────────────┴────────────────┘"
      ]
     },
     "execution_count": 355,
     "metadata": {},
     "output_type": "execute_result"
    }
   ],
   "source": [
    "wikid.sample(10)"
   ]
  },
  {
   "cell_type": "code",
   "execution_count": 356,
   "id": "40c5e603-ae15-4eb1-ac42-f2b77e214339",
   "metadata": {},
   "outputs": [
    {
     "data": {
      "text/html": [
       "<div><style>\n",
       ".dataframe > thead > tr,\n",
       ".dataframe > tbody > tr {\n",
       "  text-align: right;\n",
       "  white-space: pre-wrap;\n",
       "}\n",
       "</style>\n",
       "<small>shape: (119_047, 3)</small><table border=\"1\" class=\"dataframe\"><thead><tr><th>100_7</th><th>narozeni</th><th>umrti</th></tr><tr><td>str</td><td>i64</td><td>i64</td></tr></thead><tbody><tr><td>&quot;jk01010005&quot;</td><td>1877</td><td>1960</td></tr><tr><td>&quot;jk01010022&quot;</td><td>1890</td><td>1971</td></tr><tr><td>&quot;jk01010023&quot;</td><td>1928</td><td>2008</td></tr><tr><td>&quot;jk01010026&quot;</td><td>1889</td><td>1974</td></tr><tr><td>&quot;jk01010030&quot;</td><td>1546</td><td>1599</td></tr><tr><td>&hellip;</td><td>&hellip;</td><td>&hellip;</td></tr><tr><td>&quot;zmp2016925673&quot;</td><td>1954</td><td>null</td></tr><tr><td>&quot;zmp2016925675&quot;</td><td>1791</td><td>1870</td></tr><tr><td>&quot;zmp20191037071&quot;</td><td>1986</td><td>null</td></tr><tr><td>&quot;zmp20191054500&quot;</td><td>1902</td><td>1943</td></tr><tr><td>&quot;zmp20211116840&quot;</td><td>1821</td><td>1885</td></tr></tbody></table></div>"
      ],
      "text/plain": [
       "shape: (119_047, 3)\n",
       "┌────────────────┬──────────┬───────┐\n",
       "│ 100_7          ┆ narozeni ┆ umrti │\n",
       "│ ---            ┆ ---      ┆ ---   │\n",
       "│ str            ┆ i64      ┆ i64   │\n",
       "╞════════════════╪══════════╪═══════╡\n",
       "│ jk01010005     ┆ 1877     ┆ 1960  │\n",
       "│ jk01010022     ┆ 1890     ┆ 1971  │\n",
       "│ jk01010023     ┆ 1928     ┆ 2008  │\n",
       "│ jk01010026     ┆ 1889     ┆ 1974  │\n",
       "│ jk01010030     ┆ 1546     ┆ 1599  │\n",
       "│ …              ┆ …        ┆ …     │\n",
       "│ zmp2016925673  ┆ 1954     ┆ null  │\n",
       "│ zmp2016925675  ┆ 1791     ┆ 1870  │\n",
       "│ zmp20191037071 ┆ 1986     ┆ null  │\n",
       "│ zmp20191054500 ┆ 1902     ┆ 1943  │\n",
       "│ zmp20211116840 ┆ 1821     ┆ 1885  │\n",
       "└────────────────┴──────────┴───────┘"
      ]
     },
     "execution_count": 356,
     "metadata": {},
     "output_type": "execute_result"
    }
   ],
   "source": [
    "wikid_vyplnene = wikid.with_columns(pl.col(\"w_narozeni\").cast(int).alias(\"narozeni\")).with_columns(pl.col(\"w_umrti\").cast(int).alias(\"umrti\")).rename({'__index_level_0__':'100_7'}).select(pl.col(['100_7','narozeni','umrti'])).filter(~pl.col(\"narozeni\").is_null() | ~pl.col(\"umrti\").is_null())\n",
    "wikid_vyplnene"
   ]
  },
  {
   "cell_type": "markdown",
   "id": "e635e5bf-5bbe-4ac2-af39-45443ffeef66",
   "metadata": {},
   "source": [
    "## Spojení"
   ]
  },
  {
   "cell_type": "code",
   "execution_count": 358,
   "id": "5b66eb37-070c-4596-84a8-6c3c7eb9e150",
   "metadata": {},
   "outputs": [],
   "source": [
    "def specialized_join(df1: pl.DataFrame, df2: pl.DataFrame) -> pl.DataFrame:\n",
    "    # Perform outer join on '100_7' column\n",
    "    joined = df1.join(\n",
    "        df2,\n",
    "        on=\"100_7\",\n",
    "        how=\"outer\",\n",
    "        suffix=\"_df2\"\n",
    "    )\n",
    "    \n",
    "    # Coalesce the columns, prioritizing df1 values\n",
    "    result = joined.with_columns([\n",
    "        pl.coalesce(\"narozeni\", \"narozeni_df2\").alias(\"narozeni\"),\n",
    "        pl.coalesce(\"umrti\", \"umrti_df2\").alias(\"umrti\")\n",
    "    ])\n",
    "    \n",
    "    # Drop the duplicate columns from df2\n",
    "    result = result.drop([\"narozeni_df2\", \"umrti_df2\"])\n",
    "    \n",
    "    return result"
   ]
  },
  {
   "cell_type": "code",
   "execution_count": 359,
   "id": "d95d0577-41b0-41b6-aaec-d4c201ff773c",
   "metadata": {},
   "outputs": [
    {
     "name": "stderr",
     "output_type": "stream",
     "text": [
      "C:\\Users\\micha\\AppData\\Local\\Temp\\ipykernel_20692\\35769344.py:3: DeprecationWarning: Use of `how='outer'` should be replaced with `how='full'`.\n",
      "  joined = df1.join(\n"
     ]
    },
    {
     "data": {
      "text/html": [
       "<div><style>\n",
       ".dataframe > thead > tr,\n",
       ".dataframe > tbody > tr {\n",
       "  text-align: right;\n",
       "  white-space: pre-wrap;\n",
       "}\n",
       "</style>\n",
       "<small>shape: (659_821, 4)</small><table border=\"1\" class=\"dataframe\"><thead><tr><th>100_7</th><th>narozeni</th><th>umrti</th><th>100_7_df2</th></tr><tr><td>str</td><td>i64</td><td>i64</td><td>str</td></tr></thead><tbody><tr><td>&quot;jk01010001&quot;</td><td>1931</td><td>null</td><td>null</td></tr><tr><td>&quot;jk01010002&quot;</td><td>1890</td><td>1933</td><td>&quot;jk01010002&quot;</td></tr><tr><td>&quot;jk01010003&quot;</td><td>1957</td><td>null</td><td>&quot;jk01010003&quot;</td></tr><tr><td>&quot;jk01010004&quot;</td><td>1889</td><td>1963</td><td>null</td></tr><tr><td>&quot;jk01010005&quot;</td><td>1877</td><td>1960</td><td>&quot;jk01010005&quot;</td></tr><tr><td>&hellip;</td><td>&hellip;</td><td>&hellip;</td><td>&hellip;</td></tr><tr><td>null</td><td>1890</td><td>1948</td><td>&quot;jx20100702042&quot;</td></tr><tr><td>null</td><td>1842</td><td>1905</td><td>&quot;jx20120123008&quot;</td></tr><tr><td>null</td><td>1978</td><td>null</td><td>&quot;xx0101885&quot;</td></tr><tr><td>null</td><td>1981</td><td>null</td><td>&quot;xx0223784&quot;</td></tr><tr><td>null</td><td>1947</td><td>2000</td><td>&quot;jo2009521376&quot;</td></tr></tbody></table></div>"
      ],
      "text/plain": [
       "shape: (659_821, 4)\n",
       "┌────────────┬──────────┬───────┬───────────────┐\n",
       "│ 100_7      ┆ narozeni ┆ umrti ┆ 100_7_df2     │\n",
       "│ ---        ┆ ---      ┆ ---   ┆ ---           │\n",
       "│ str        ┆ i64      ┆ i64   ┆ str           │\n",
       "╞════════════╪══════════╪═══════╪═══════════════╡\n",
       "│ jk01010001 ┆ 1931     ┆ null  ┆ null          │\n",
       "│ jk01010002 ┆ 1890     ┆ 1933  ┆ jk01010002    │\n",
       "│ jk01010003 ┆ 1957     ┆ null  ┆ jk01010003    │\n",
       "│ jk01010004 ┆ 1889     ┆ 1963  ┆ null          │\n",
       "│ jk01010005 ┆ 1877     ┆ 1960  ┆ jk01010005    │\n",
       "│ …          ┆ …        ┆ …     ┆ …             │\n",
       "│ null       ┆ 1890     ┆ 1948  ┆ jx20100702042 │\n",
       "│ null       ┆ 1842     ┆ 1905  ┆ jx20120123008 │\n",
       "│ null       ┆ 1978     ┆ null  ┆ xx0101885     │\n",
       "│ null       ┆ 1981     ┆ null  ┆ xx0223784     │\n",
       "│ null       ┆ 1947     ┆ 2000  ┆ jo2009521376  │\n",
       "└────────────┴──────────┴───────┴───────────────┘"
      ]
     },
     "execution_count": 359,
     "metadata": {},
     "output_type": "execute_result"
    }
   ],
   "source": [
    "specialized_join(aut_vyplnene, wikid_vyplnene)"
   ]
  },
  {
   "cell_type": "code",
   "execution_count": 360,
   "id": "63d7b773-130b-4250-8e56-d46aa90ef6ee",
   "metadata": {},
   "outputs": [],
   "source": [
    "def specialized_join(df1: pl.DataFrame, df2: pl.DataFrame) -> pl.DataFrame:\n",
    "    # Perform outer join\n",
    "    joined = df1.join(\n",
    "        df2,\n",
    "        on=\"100_7\",\n",
    "        how=\"outer\",\n",
    "        suffix=\"_df2\"\n",
    "    )\n",
    "    \n",
    "    # Coalesce all columns, including the ID column\n",
    "    result = joined.with_columns([\n",
    "        pl.coalesce(\"100_7\", \"100_7_df2\").alias(\"100_7\"),\n",
    "        pl.coalesce(\"narozeni\", \"narozeni_df2\").alias(\"narozeni\"),\n",
    "        pl.coalesce(\"umrti\", \"umrti_df2\").alias(\"umrti\")\n",
    "    ])\n",
    "    \n",
    "    # Drop the duplicate columns\n",
    "    result = result.drop([\"100_7_df2\", \"narozeni_df2\", \"umrti_df2\"])\n",
    "    \n",
    "    return result"
   ]
  },
  {
   "cell_type": "markdown",
   "id": "d5b2af85-bc9c-4de3-9b36-a19c7377bc9d",
   "metadata": {},
   "source": [
    "### Teď co bude přesnější"
   ]
  },
  {
   "cell_type": "code",
   "execution_count": 362,
   "id": "a4849f57-fdf9-436b-ba77-936b15684a1e",
   "metadata": {},
   "outputs": [
    {
     "name": "stderr",
     "output_type": "stream",
     "text": [
      "C:\\Users\\micha\\AppData\\Local\\Temp\\ipykernel_20692\\2925241772.py:3: DeprecationWarning: Use of `how='outer'` should be replaced with `how='full'`.\n",
      "  joined = df1.join(\n"
     ]
    },
    {
     "data": {
      "text/html": [
       "<div><style>\n",
       ".dataframe > thead > tr,\n",
       ".dataframe > tbody > tr {\n",
       "  text-align: right;\n",
       "  white-space: pre-wrap;\n",
       "}\n",
       "</style>\n",
       "<small>shape: (1, 1)</small><table border=\"1\" class=\"dataframe\"><thead><tr><th>doziti</th></tr><tr><td>f64</td></tr></thead><tbody><tr><td>73.0</td></tr></tbody></table></div>"
      ],
      "text/plain": [
       "shape: (1, 1)\n",
       "┌────────┐\n",
       "│ doziti │\n",
       "│ ---    │\n",
       "│ f64    │\n",
       "╞════════╡\n",
       "│ 73.0   │\n",
       "└────────┘"
      ]
     },
     "execution_count": 362,
     "metadata": {},
     "output_type": "execute_result"
    }
   ],
   "source": [
    "specialized_join(aut_vyplnene, wikid_vyplnene).with_columns((pl.col(\"umrti\") - pl.col(\"narozeni\")).alias(\"doziti\")).drop_nulls(subset=\"doziti\").select(pl.col(\"doziti\")).median()"
   ]
  },
  {
   "cell_type": "code",
   "execution_count": 363,
   "id": "3ddabc71-13ae-4507-bb3c-8aad3a568105",
   "metadata": {},
   "outputs": [
    {
     "name": "stderr",
     "output_type": "stream",
     "text": [
      "C:\\Users\\micha\\AppData\\Local\\Temp\\ipykernel_20692\\2925241772.py:3: DeprecationWarning: Use of `how='outer'` should be replaced with `how='full'`.\n",
      "  joined = df1.join(\n"
     ]
    },
    {
     "data": {
      "text/html": [
       "<div><style>\n",
       ".dataframe > thead > tr,\n",
       ".dataframe > tbody > tr {\n",
       "  text-align: right;\n",
       "  white-space: pre-wrap;\n",
       "}\n",
       "</style>\n",
       "<small>shape: (70, 4)</small><table border=\"1\" class=\"dataframe\"><thead><tr><th>100_7</th><th>narozeni</th><th>umrti</th><th>doziti</th></tr><tr><td>str</td><td>i64</td><td>i64</td><td>i64</td></tr></thead><tbody><tr><td>&quot;jk01033432&quot;</td><td>1887</td><td>2000</td><td>113</td></tr><tr><td>&quot;jk01043187&quot;</td><td>1862</td><td>2000</td><td>138</td></tr><tr><td>&quot;jk01050159&quot;</td><td>1889</td><td>2000</td><td>111</td></tr><tr><td>&quot;jk01051427&quot;</td><td>1848</td><td>2000</td><td>152</td></tr><tr><td>&quot;jk01100646&quot;</td><td>1888</td><td>2000</td><td>112</td></tr><tr><td>&hellip;</td><td>&hellip;</td><td>&hellip;</td><td>&hellip;</td></tr><tr><td>&quot;jk01012756&quot;</td><td>1872</td><td>2000</td><td>128</td></tr><tr><td>&quot;ola2002113787&quot;</td><td>1401</td><td>1600</td><td>199</td></tr><tr><td>&quot;ola20231183975&quot;</td><td>850</td><td>1000</td><td>150</td></tr><tr><td>&quot;jo2010616784&quot;</td><td>1850</td><td>2000</td><td>150</td></tr><tr><td>&quot;xx0042989&quot;</td><td>1901</td><td>2016</td><td>115</td></tr></tbody></table></div>"
      ],
      "text/plain": [
       "shape: (70, 4)\n",
       "┌────────────────┬──────────┬───────┬────────┐\n",
       "│ 100_7          ┆ narozeni ┆ umrti ┆ doziti │\n",
       "│ ---            ┆ ---      ┆ ---   ┆ ---    │\n",
       "│ str            ┆ i64      ┆ i64   ┆ i64    │\n",
       "╞════════════════╪══════════╪═══════╪════════╡\n",
       "│ jk01033432     ┆ 1887     ┆ 2000  ┆ 113    │\n",
       "│ jk01043187     ┆ 1862     ┆ 2000  ┆ 138    │\n",
       "│ jk01050159     ┆ 1889     ┆ 2000  ┆ 111    │\n",
       "│ jk01051427     ┆ 1848     ┆ 2000  ┆ 152    │\n",
       "│ jk01100646     ┆ 1888     ┆ 2000  ┆ 112    │\n",
       "│ …              ┆ …        ┆ …     ┆ …      │\n",
       "│ jk01012756     ┆ 1872     ┆ 2000  ┆ 128    │\n",
       "│ ola2002113787  ┆ 1401     ┆ 1600  ┆ 199    │\n",
       "│ ola20231183975 ┆ 850      ┆ 1000  ┆ 150    │\n",
       "│ jo2010616784   ┆ 1850     ┆ 2000  ┆ 150    │\n",
       "│ xx0042989      ┆ 1901     ┆ 2016  ┆ 115    │\n",
       "└────────────────┴──────────┴───────┴────────┘"
      ]
     },
     "execution_count": 363,
     "metadata": {},
     "output_type": "execute_result"
    }
   ],
   "source": [
    "specialized_join(aut_vyplnene, wikid_vyplnene).with_columns((pl.col(\"umrti\") - pl.col(\"narozeni\")).alias(\"doziti\")).drop_nulls(subset=\"doziti\").filter(pl.col(\"doziti\") > 110)"
   ]
  },
  {
   "cell_type": "code",
   "execution_count": 364,
   "id": "1f44d41b-7d1e-48d5-8cc0-bf41acad5ff4",
   "metadata": {},
   "outputs": [
    {
     "name": "stderr",
     "output_type": "stream",
     "text": [
      "C:\\Users\\micha\\AppData\\Local\\Temp\\ipykernel_20692\\2925241772.py:3: DeprecationWarning: Use of `how='outer'` should be replaced with `how='full'`.\n",
      "  joined = df1.join(\n"
     ]
    },
    {
     "data": {
      "text/html": [
       "<div><style>\n",
       ".dataframe > thead > tr,\n",
       ".dataframe > tbody > tr {\n",
       "  text-align: right;\n",
       "  white-space: pre-wrap;\n",
       "}\n",
       "</style>\n",
       "<small>shape: (1, 1)</small><table border=\"1\" class=\"dataframe\"><thead><tr><th>doziti</th></tr><tr><td>f64</td></tr></thead><tbody><tr><td>73.0</td></tr></tbody></table></div>"
      ],
      "text/plain": [
       "shape: (1, 1)\n",
       "┌────────┐\n",
       "│ doziti │\n",
       "│ ---    │\n",
       "│ f64    │\n",
       "╞════════╡\n",
       "│ 73.0   │\n",
       "└────────┘"
      ]
     },
     "execution_count": 364,
     "metadata": {},
     "output_type": "execute_result"
    }
   ],
   "source": [
    "specialized_join(wikid_vyplnene,aut_vyplnene).with_columns((pl.col(\"umrti\") - pl.col(\"narozeni\")).alias(\"doziti\")).drop_nulls(subset=\"doziti\").select(pl.col(\"doziti\")).median()"
   ]
  },
  {
   "cell_type": "code",
   "execution_count": 365,
   "id": "2408b35a-1a13-4ebe-9389-de5db2295cd6",
   "metadata": {},
   "outputs": [
    {
     "name": "stderr",
     "output_type": "stream",
     "text": [
      "C:\\Users\\micha\\AppData\\Local\\Temp\\ipykernel_20692\\2925241772.py:3: DeprecationWarning: Use of `how='outer'` should be replaced with `how='full'`.\n",
      "  joined = df1.join(\n"
     ]
    },
    {
     "data": {
      "text/html": [
       "<div><style>\n",
       ".dataframe > thead > tr,\n",
       ".dataframe > tbody > tr {\n",
       "  text-align: right;\n",
       "  white-space: pre-wrap;\n",
       "}\n",
       "</style>\n",
       "<small>shape: (91, 4)</small><table border=\"1\" class=\"dataframe\"><thead><tr><th>100_7</th><th>narozeni</th><th>umrti</th><th>doziti</th></tr><tr><td>str</td><td>i64</td><td>i64</td><td>i64</td></tr></thead><tbody><tr><td>&quot;jk01021992&quot;</td><td>1250</td><td>1400</td><td>150</td></tr><tr><td>&quot;jk01033432&quot;</td><td>1887</td><td>2000</td><td>113</td></tr><tr><td>&quot;jk01043187&quot;</td><td>1862</td><td>2000</td><td>138</td></tr><tr><td>&quot;jk01050159&quot;</td><td>1889</td><td>2000</td><td>111</td></tr><tr><td>&quot;jk01051427&quot;</td><td>1848</td><td>2000</td><td>152</td></tr><tr><td>&hellip;</td><td>&hellip;</td><td>&hellip;</td><td>&hellip;</td></tr><tr><td>&quot;ola2002113787&quot;</td><td>1401</td><td>1600</td><td>199</td></tr><tr><td>&quot;jo2010616784&quot;</td><td>1850</td><td>2000</td><td>150</td></tr><tr><td>&quot;ola20231198512&quot;</td><td>1201</td><td>1500</td><td>299</td></tr><tr><td>&quot;xx0042989&quot;</td><td>1901</td><td>2016</td><td>115</td></tr><tr><td>&quot;jk01012756&quot;</td><td>1872</td><td>2000</td><td>128</td></tr></tbody></table></div>"
      ],
      "text/plain": [
       "shape: (91, 4)\n",
       "┌────────────────┬──────────┬───────┬────────┐\n",
       "│ 100_7          ┆ narozeni ┆ umrti ┆ doziti │\n",
       "│ ---            ┆ ---      ┆ ---   ┆ ---    │\n",
       "│ str            ┆ i64      ┆ i64   ┆ i64    │\n",
       "╞════════════════╪══════════╪═══════╪════════╡\n",
       "│ jk01021992     ┆ 1250     ┆ 1400  ┆ 150    │\n",
       "│ jk01033432     ┆ 1887     ┆ 2000  ┆ 113    │\n",
       "│ jk01043187     ┆ 1862     ┆ 2000  ┆ 138    │\n",
       "│ jk01050159     ┆ 1889     ┆ 2000  ┆ 111    │\n",
       "│ jk01051427     ┆ 1848     ┆ 2000  ┆ 152    │\n",
       "│ …              ┆ …        ┆ …     ┆ …      │\n",
       "│ ola2002113787  ┆ 1401     ┆ 1600  ┆ 199    │\n",
       "│ jo2010616784   ┆ 1850     ┆ 2000  ┆ 150    │\n",
       "│ ola20231198512 ┆ 1201     ┆ 1500  ┆ 299    │\n",
       "│ xx0042989      ┆ 1901     ┆ 2016  ┆ 115    │\n",
       "│ jk01012756     ┆ 1872     ┆ 2000  ┆ 128    │\n",
       "└────────────────┴──────────┴───────┴────────┘"
      ]
     },
     "execution_count": 365,
     "metadata": {},
     "output_type": "execute_result"
    }
   ],
   "source": [
    "specialized_join(wikid_vyplnene, aut_vyplnene).with_columns((pl.col(\"umrti\") - pl.col(\"narozeni\")).alias(\"doziti\")).drop_nulls(subset=\"doziti\").filter(pl.col(\"doziti\") > 110)"
   ]
  },
  {
   "cell_type": "code",
   "execution_count": 366,
   "id": "9ca68237-bf16-4ee7-9a89-f38cc0a6b190",
   "metadata": {},
   "outputs": [
    {
     "name": "stderr",
     "output_type": "stream",
     "text": [
      "C:\\Users\\micha\\AppData\\Local\\Temp\\ipykernel_20692\\2925241772.py:3: DeprecationWarning: Use of `how='outer'` should be replaced with `how='full'`.\n",
      "  joined = df1.join(\n"
     ]
    },
    {
     "data": {
      "text/html": [
       "<div><style>\n",
       ".dataframe > thead > tr,\n",
       ".dataframe > tbody > tr {\n",
       "  text-align: right;\n",
       "  white-space: pre-wrap;\n",
       "}\n",
       "</style>\n",
       "<small>shape: (1_244, 4)</small><table border=\"1\" class=\"dataframe\"><thead><tr><th>100_7</th><th>narozeni</th><th>umrti</th><th>doziti</th></tr><tr><td>str</td><td>i64</td><td>i64</td><td>i64</td></tr></thead><tbody><tr><td>&quot;jk01010276&quot;</td><td>1614</td><td>1618</td><td>4</td></tr><tr><td>&quot;jk01012177&quot;</td><td>1891</td><td>1895</td><td>4</td></tr><tr><td>&quot;jk01040596&quot;</td><td>1877</td><td>1837</td><td>-40</td></tr><tr><td>&quot;jk01040689&quot;</td><td>1875</td><td>1876</td><td>1</td></tr><tr><td>&quot;jk01051237&quot;</td><td>1464</td><td>1467</td><td>3</td></tr><tr><td>&hellip;</td><td>&hellip;</td><td>&hellip;</td><td>&hellip;</td></tr><tr><td>&quot;jn19981001474&quot;</td><td>900</td><td>800</td><td>-100</td></tr><tr><td>&quot;jn19981001764&quot;</td><td>200</td><td>200</td><td>0</td></tr><tr><td>&quot;jo20231179068&quot;</td><td>1936</td><td>1809</td><td>-127</td></tr><tr><td>&quot;mzk20241219540&quot;</td><td>50</td><td>20</td><td>-30</td></tr><tr><td>&quot;xx0002375&quot;</td><td>375</td><td>283</td><td>-92</td></tr></tbody></table></div>"
      ],
      "text/plain": [
       "shape: (1_244, 4)\n",
       "┌────────────────┬──────────┬───────┬────────┐\n",
       "│ 100_7          ┆ narozeni ┆ umrti ┆ doziti │\n",
       "│ ---            ┆ ---      ┆ ---   ┆ ---    │\n",
       "│ str            ┆ i64      ┆ i64   ┆ i64    │\n",
       "╞════════════════╪══════════╪═══════╪════════╡\n",
       "│ jk01010276     ┆ 1614     ┆ 1618  ┆ 4      │\n",
       "│ jk01012177     ┆ 1891     ┆ 1895  ┆ 4      │\n",
       "│ jk01040596     ┆ 1877     ┆ 1837  ┆ -40    │\n",
       "│ jk01040689     ┆ 1875     ┆ 1876  ┆ 1      │\n",
       "│ jk01051237     ┆ 1464     ┆ 1467  ┆ 3      │\n",
       "│ …              ┆ …        ┆ …     ┆ …      │\n",
       "│ jn19981001474  ┆ 900      ┆ 800   ┆ -100   │\n",
       "│ jn19981001764  ┆ 200      ┆ 200   ┆ 0      │\n",
       "│ jo20231179068  ┆ 1936     ┆ 1809  ┆ -127   │\n",
       "│ mzk20241219540 ┆ 50       ┆ 20    ┆ -30    │\n",
       "│ xx0002375      ┆ 375      ┆ 283   ┆ -92    │\n",
       "└────────────────┴──────────┴───────┴────────┘"
      ]
     },
     "execution_count": 366,
     "metadata": {},
     "output_type": "execute_result"
    }
   ],
   "source": [
    "specialized_join(wikid_vyplnene, aut_vyplnene).with_columns((pl.col(\"umrti\") - pl.col(\"narozeni\")).alias(\"doziti\")).drop_nulls(subset=\"doziti\").filter(pl.col(\"doziti\") < 10)"
   ]
  },
  {
   "cell_type": "code",
   "execution_count": 367,
   "id": "f327e608-cfdd-4cf4-bd99-57b24efdead3",
   "metadata": {},
   "outputs": [
    {
     "name": "stderr",
     "output_type": "stream",
     "text": [
      "C:\\Users\\micha\\AppData\\Local\\Temp\\ipykernel_20692\\2925241772.py:3: DeprecationWarning: Use of `how='outer'` should be replaced with `how='full'`.\n",
      "  joined = df1.join(\n"
     ]
    }
   ],
   "source": [
    "df = specialized_join(aut_vyplnene, wikid_vyplnene)"
   ]
  },
  {
   "cell_type": "markdown",
   "id": "cb95331d-2550-4132-8407-ce49928fb7f7",
   "metadata": {},
   "source": [
    "## Opravy a uložení"
   ]
  },
  {
   "cell_type": "code",
   "execution_count": 369,
   "id": "b6e659af-e7d9-40c6-a8cf-f3f398e4b800",
   "metadata": {},
   "outputs": [
    {
     "data": {
      "text/html": [
       "<div><style>\n",
       ".dataframe > thead > tr,\n",
       ".dataframe > tbody > tr {\n",
       "  text-align: right;\n",
       "  white-space: pre-wrap;\n",
       "}\n",
       "</style>\n",
       "<small>shape: (259_986, 3)</small><table border=\"1\" class=\"dataframe\"><thead><tr><th>100_7</th><th>narozeni</th><th>umrti</th></tr><tr><td>str</td><td>i64</td><td>i64</td></tr></thead><tbody><tr><td>&quot;nlk20000083443&quot;</td><td>-2900</td><td>-2850</td></tr><tr><td>&quot;xx0116218&quot;</td><td>-2565</td><td>-2559</td></tr><tr><td>&quot;ola2002100660&quot;</td><td>null</td><td>-2510</td></tr><tr><td>&quot;ola2002100659&quot;</td><td>null</td><td>-2480</td></tr><tr><td>&quot;mzk2006337380&quot;</td><td>-2488</td><td>-2470</td></tr><tr><td>&hellip;</td><td>&hellip;</td><td>&hellip;</td></tr><tr><td>&quot;jcu2012712191&quot;</td><td>1948</td><td>2025</td></tr><tr><td>&quot;xx0041791&quot;</td><td>1942</td><td>2025</td></tr><tr><td>&quot;jo2012701215&quot;</td><td>1937</td><td>2025</td></tr><tr><td>&quot;zmp20201061752&quot;</td><td>1929</td><td>2025</td></tr><tr><td>&quot;xx0038730&quot;</td><td>1933</td><td>2025</td></tr></tbody></table></div>"
      ],
      "text/plain": [
       "shape: (259_986, 3)\n",
       "┌────────────────┬──────────┬───────┐\n",
       "│ 100_7          ┆ narozeni ┆ umrti │\n",
       "│ ---            ┆ ---      ┆ ---   │\n",
       "│ str            ┆ i64      ┆ i64   │\n",
       "╞════════════════╪══════════╪═══════╡\n",
       "│ nlk20000083443 ┆ -2900    ┆ -2850 │\n",
       "│ xx0116218      ┆ -2565    ┆ -2559 │\n",
       "│ ola2002100660  ┆ null     ┆ -2510 │\n",
       "│ ola2002100659  ┆ null     ┆ -2480 │\n",
       "│ mzk2006337380  ┆ -2488    ┆ -2470 │\n",
       "│ …              ┆ …        ┆ …     │\n",
       "│ jcu2012712191  ┆ 1948     ┆ 2025  │\n",
       "│ xx0041791      ┆ 1942     ┆ 2025  │\n",
       "│ jo2012701215   ┆ 1937     ┆ 2025  │\n",
       "│ zmp20201061752 ┆ 1929     ┆ 2025  │\n",
       "│ xx0038730      ┆ 1933     ┆ 2025  │\n",
       "└────────────────┴──────────┴───────┘"
      ]
     },
     "execution_count": 369,
     "metadata": {},
     "output_type": "execute_result"
    }
   ],
   "source": [
    "df.unique().drop_nulls(subset=\"umrti\").sort(by=\"umrti\")"
   ]
  },
  {
   "cell_type": "code",
   "execution_count": 370,
   "id": "5bf5a26c-f704-470f-9d1f-a21d65700e25",
   "metadata": {},
   "outputs": [
    {
     "data": {
      "text/html": [
       "<div><style>\n",
       ".dataframe > thead > tr,\n",
       ".dataframe > tbody > tr {\n",
       "  text-align: right;\n",
       "  white-space: pre-wrap;\n",
       "}\n",
       "</style>\n",
       "<small>shape: (653_899, 3)</small><table border=\"1\" class=\"dataframe\"><thead><tr><th>100_7</th><th>narozeni</th><th>umrti</th></tr><tr><td>str</td><td>i64</td><td>i64</td></tr></thead><tbody><tr><td>&quot;nlk20000083443&quot;</td><td>-2900</td><td>-2850</td></tr><tr><td>&quot;xx0116218&quot;</td><td>-2565</td><td>-2559</td></tr><tr><td>&quot;mzk2006337380&quot;</td><td>-2488</td><td>-2470</td></tr><tr><td>&quot;jx20110831012&quot;</td><td>-2285</td><td>-2250</td></tr><tr><td>&quot;jn20030320006&quot;</td><td>-1580</td><td>-1555</td></tr><tr><td>&hellip;</td><td>&hellip;</td><td>&hellip;</td></tr><tr><td>&quot;mzk20241241675&quot;</td><td>2014</td><td>null</td></tr><tr><td>&quot;xx0310082&quot;</td><td>2014</td><td>null</td></tr><tr><td>&quot;xx0320354&quot;</td><td>2014</td><td>null</td></tr><tr><td>&quot;xx0316924&quot;</td><td>2014</td><td>null</td></tr><tr><td>&quot;xx0302179&quot;</td><td>2031</td><td>null</td></tr></tbody></table></div>"
      ],
      "text/plain": [
       "shape: (653_899, 3)\n",
       "┌────────────────┬──────────┬───────┐\n",
       "│ 100_7          ┆ narozeni ┆ umrti │\n",
       "│ ---            ┆ ---      ┆ ---   │\n",
       "│ str            ┆ i64      ┆ i64   │\n",
       "╞════════════════╪══════════╪═══════╡\n",
       "│ nlk20000083443 ┆ -2900    ┆ -2850 │\n",
       "│ xx0116218      ┆ -2565    ┆ -2559 │\n",
       "│ mzk2006337380  ┆ -2488    ┆ -2470 │\n",
       "│ jx20110831012  ┆ -2285    ┆ -2250 │\n",
       "│ jn20030320006  ┆ -1580    ┆ -1555 │\n",
       "│ …              ┆ …        ┆ …     │\n",
       "│ mzk20241241675 ┆ 2014     ┆ null  │\n",
       "│ xx0310082      ┆ 2014     ┆ null  │\n",
       "│ xx0320354      ┆ 2014     ┆ null  │\n",
       "│ xx0316924      ┆ 2014     ┆ null  │\n",
       "│ xx0302179      ┆ 2031     ┆ null  │\n",
       "└────────────────┴──────────┴───────┘"
      ]
     },
     "execution_count": 370,
     "metadata": {},
     "output_type": "execute_result"
    }
   ],
   "source": [
    "df.unique().drop_nulls(subset=\"narozeni\").sort(by=\"narozeni\")"
   ]
  },
  {
   "cell_type": "code",
   "execution_count": 371,
   "id": "c90cee67-339e-4c2d-a58b-5d3216339f5e",
   "metadata": {},
   "outputs": [
    {
     "data": {
      "text/html": [
       "<div><style>\n",
       ".dataframe > thead > tr,\n",
       ".dataframe > tbody > tr {\n",
       "  text-align: right;\n",
       "  white-space: pre-wrap;\n",
       "}\n",
       "</style>\n",
       "<small>shape: (254_064, 4)</small><table border=\"1\" class=\"dataframe\"><thead><tr><th>100_7</th><th>narozeni</th><th>umrti</th><th>doziti</th></tr><tr><td>str</td><td>i64</td><td>i64</td><td>i64</td></tr></thead><tbody><tr><td>&quot;xx0139539&quot;</td><td>199</td><td>2007</td><td>1808</td></tr><tr><td>&quot;kup19980000031047&quot;</td><td>1149</td><td>1999</td><td>850</td></tr><tr><td>&quot;ola2008455779&quot;</td><td>1601</td><td>1981</td><td>380</td></tr><tr><td>&quot;nlk20000085156&quot;</td><td>1470</td><td>1824</td><td>354</td></tr><tr><td>&quot;ola20231198512&quot;</td><td>1201</td><td>1500</td><td>299</td></tr><tr><td>&hellip;</td><td>&hellip;</td><td>&hellip;</td><td>&hellip;</td></tr><tr><td>&quot;ola200206653&quot;</td><td>1962</td><td>1738</td><td>-224</td></tr><tr><td>&quot;uk2005277909&quot;</td><td>1864</td><td>1497</td><td>-367</td></tr><tr><td>&quot;jn20011024099&quot;</td><td>333</td><td>-280</td><td>-613</td></tr><tr><td>&quot;jk01072677&quot;</td><td>1907</td><td>1190</td><td>-717</td></tr><tr><td>&quot;nlk20060173300&quot;</td><td>1938</td><td>24</td><td>-1914</td></tr></tbody></table></div>"
      ],
      "text/plain": [
       "shape: (254_064, 4)\n",
       "┌───────────────────┬──────────┬───────┬────────┐\n",
       "│ 100_7             ┆ narozeni ┆ umrti ┆ doziti │\n",
       "│ ---               ┆ ---      ┆ ---   ┆ ---    │\n",
       "│ str               ┆ i64      ┆ i64   ┆ i64    │\n",
       "╞═══════════════════╪══════════╪═══════╪════════╡\n",
       "│ xx0139539         ┆ 199      ┆ 2007  ┆ 1808   │\n",
       "│ kup19980000031047 ┆ 1149     ┆ 1999  ┆ 850    │\n",
       "│ ola2008455779     ┆ 1601     ┆ 1981  ┆ 380    │\n",
       "│ nlk20000085156    ┆ 1470     ┆ 1824  ┆ 354    │\n",
       "│ ola20231198512    ┆ 1201     ┆ 1500  ┆ 299    │\n",
       "│ …                 ┆ …        ┆ …     ┆ …      │\n",
       "│ ola200206653      ┆ 1962     ┆ 1738  ┆ -224   │\n",
       "│ uk2005277909      ┆ 1864     ┆ 1497  ┆ -367   │\n",
       "│ jn20011024099     ┆ 333      ┆ -280  ┆ -613   │\n",
       "│ jk01072677        ┆ 1907     ┆ 1190  ┆ -717   │\n",
       "│ nlk20060173300    ┆ 1938     ┆ 24    ┆ -1914  │\n",
       "└───────────────────┴──────────┴───────┴────────┘"
      ]
     },
     "execution_count": 371,
     "metadata": {},
     "output_type": "execute_result"
    }
   ],
   "source": [
    "df.with_columns((pl.col(\"umrti\") - pl.col(\"narozeni\")).alias(\"doziti\")).drop_nulls(subset=\"doziti\").sort(by=\"doziti\",descending=True)"
   ]
  },
  {
   "cell_type": "code",
   "execution_count": null,
   "id": "683df3be-81eb-45ef-84cc-5868a73acbf0",
   "metadata": {},
   "outputs": [],
   "source": []
  },
  {
   "cell_type": "code",
   "execution_count": 406,
   "id": "1eeb3c35-be73-48fc-8ed2-4f779a27f9c6",
   "metadata": {},
   "outputs": [
    {
     "data": {
      "text/html": [
       "<div><style>\n",
       ".dataframe > thead > tr,\n",
       ".dataframe > tbody > tr {\n",
       "  text-align: right;\n",
       "  white-space: pre-wrap;\n",
       "}\n",
       "</style>\n",
       "<small>shape: (1_800, 4)</small><table border=\"1\" class=\"dataframe\"><thead><tr><th>100_7</th><th>narozeni</th><th>umrti</th><th>doziti</th></tr><tr><td>str</td><td>i64</td><td>i64</td><td>i64</td></tr></thead><tbody><tr><td>&quot;jk01010276&quot;</td><td>1614</td><td>1618</td><td>4</td></tr><tr><td>&quot;jk01012177&quot;</td><td>1891</td><td>1895</td><td>4</td></tr><tr><td>&quot;jk01053063&quot;</td><td>1612</td><td>1622</td><td>10</td></tr><tr><td>&quot;jk01040596&quot;</td><td>1877</td><td>1837</td><td>-40</td></tr><tr><td>&quot;jk01040689&quot;</td><td>1875</td><td>1876</td><td>1</td></tr><tr><td>&hellip;</td><td>&hellip;</td><td>&hellip;</td><td>&hellip;</td></tr><tr><td>&quot;mub20231181938&quot;</td><td>1801</td><td>2000</td><td>199</td></tr><tr><td>&quot;ola2002113787&quot;</td><td>1401</td><td>1600</td><td>199</td></tr><tr><td>&quot;jo20231179068&quot;</td><td>1936</td><td>1809</td><td>-127</td></tr><tr><td>&quot;mzk20241219544&quot;</td><td>100</td><td>20</td><td>-80</td></tr><tr><td>&quot;jn20010525296&quot;</td><td>1813</td><td>1638</td><td>-175</td></tr></tbody></table></div>"
      ],
      "text/plain": [
       "shape: (1_800, 4)\n",
       "┌────────────────┬──────────┬───────┬────────┐\n",
       "│ 100_7          ┆ narozeni ┆ umrti ┆ doziti │\n",
       "│ ---            ┆ ---      ┆ ---   ┆ ---    │\n",
       "│ str            ┆ i64      ┆ i64   ┆ i64    │\n",
       "╞════════════════╪══════════╪═══════╪════════╡\n",
       "│ jk01010276     ┆ 1614     ┆ 1618  ┆ 4      │\n",
       "│ jk01012177     ┆ 1891     ┆ 1895  ┆ 4      │\n",
       "│ jk01053063     ┆ 1612     ┆ 1622  ┆ 10     │\n",
       "│ jk01040596     ┆ 1877     ┆ 1837  ┆ -40    │\n",
       "│ jk01040689     ┆ 1875     ┆ 1876  ┆ 1      │\n",
       "│ …              ┆ …        ┆ …     ┆ …      │\n",
       "│ mub20231181938 ┆ 1801     ┆ 2000  ┆ 199    │\n",
       "│ ola2002113787  ┆ 1401     ┆ 1600  ┆ 199    │\n",
       "│ jo20231179068  ┆ 1936     ┆ 1809  ┆ -127   │\n",
       "│ mzk20241219544 ┆ 100      ┆ 20    ┆ -80    │\n",
       "│ jn20010525296  ┆ 1813     ┆ 1638  ┆ -175   │\n",
       "└────────────────┴──────────┴───────┴────────┘"
      ]
     },
     "execution_count": 406,
     "metadata": {},
     "output_type": "execute_result"
    }
   ],
   "source": [
    "df.with_columns((pl.col(\"umrti\") - pl.col(\"narozeni\")).alias(\"doziti\")).drop_nulls(subset=\"doziti\").filter(~pl.col('doziti').is_between(15,115))"
   ]
  },
  {
   "cell_type": "code",
   "execution_count": 410,
   "id": "e089f9bc-bed2-415a-ad5f-555716904efa",
   "metadata": {},
   "outputs": [],
   "source": [
    "nespolehlivi = df.with_columns((pl.col(\"umrti\") - pl.col(\"narozeni\")).alias(\"doziti\")).drop_nulls(subset=\"doziti\").filter(~pl.col('doziti').is_between(15,115)).select(pl.col('100_7')).to_series().to_list()"
   ]
  },
  {
   "cell_type": "code",
   "execution_count": 414,
   "id": "1af69eed-99ff-4c3d-917c-d5ce5af14537",
   "metadata": {},
   "outputs": [
    {
     "data": {
      "text/html": [
       "<div><style>\n",
       ".dataframe > thead > tr,\n",
       ".dataframe > tbody > tr {\n",
       "  text-align: right;\n",
       "  white-space: pre-wrap;\n",
       "}\n",
       "</style>\n",
       "<small>shape: (658_021, 3)</small><table border=\"1\" class=\"dataframe\"><thead><tr><th>100_7</th><th>narozeni</th><th>umrti</th></tr><tr><td>str</td><td>i64</td><td>i64</td></tr></thead><tbody><tr><td>&quot;jk01010001&quot;</td><td>1931</td><td>null</td></tr><tr><td>&quot;jk01010002&quot;</td><td>1890</td><td>1933</td></tr><tr><td>&quot;jk01010003&quot;</td><td>1957</td><td>null</td></tr><tr><td>&quot;jk01010004&quot;</td><td>1889</td><td>1963</td></tr><tr><td>&quot;jk01010005&quot;</td><td>1877</td><td>1960</td></tr><tr><td>&hellip;</td><td>&hellip;</td><td>&hellip;</td></tr><tr><td>&quot;jx20080901020&quot;</td><td>1825</td><td>1908</td></tr><tr><td>&quot;pna2007384062&quot;</td><td>1950</td><td>null</td></tr><tr><td>&quot;vse20231210763&quot;</td><td>1950</td><td>null</td></tr><tr><td>&quot;xx0053746&quot;</td><td>1970</td><td>null</td></tr><tr><td>&quot;mzk2015877694&quot;</td><td>1975</td><td>null</td></tr></tbody></table></div>"
      ],
      "text/plain": [
       "shape: (658_021, 3)\n",
       "┌────────────────┬──────────┬───────┐\n",
       "│ 100_7          ┆ narozeni ┆ umrti │\n",
       "│ ---            ┆ ---      ┆ ---   │\n",
       "│ str            ┆ i64      ┆ i64   │\n",
       "╞════════════════╪══════════╪═══════╡\n",
       "│ jk01010001     ┆ 1931     ┆ null  │\n",
       "│ jk01010002     ┆ 1890     ┆ 1933  │\n",
       "│ jk01010003     ┆ 1957     ┆ null  │\n",
       "│ jk01010004     ┆ 1889     ┆ 1963  │\n",
       "│ jk01010005     ┆ 1877     ┆ 1960  │\n",
       "│ …              ┆ …        ┆ …     │\n",
       "│ jx20080901020  ┆ 1825     ┆ 1908  │\n",
       "│ pna2007384062  ┆ 1950     ┆ null  │\n",
       "│ vse20231210763 ┆ 1950     ┆ null  │\n",
       "│ xx0053746      ┆ 1970     ┆ null  │\n",
       "│ mzk2015877694  ┆ 1975     ┆ null  │\n",
       "└────────────────┴──────────┴───────┘"
      ]
     },
     "execution_count": 414,
     "metadata": {},
     "output_type": "execute_result"
    }
   ],
   "source": [
    "df.filter(~pl.col('100_7').is_in(nespolehlivi))"
   ]
  },
  {
   "cell_type": "code",
   "execution_count": 418,
   "id": "a04f464e-930f-4c85-8182-e87f4c47fe6a",
   "metadata": {},
   "outputs": [],
   "source": [
    "df.filter(~pl.col('100_7').is_in(nespolehlivi)).write_parquet(os.path.join('data','narozeni-umrti.parquet'))"
   ]
  }
 ],
 "metadata": {
  "kernelspec": {
   "display_name": "Python 3 (ipykernel)",
   "language": "python",
   "name": "python3"
  },
  "language_info": {
   "codemirror_mode": {
    "name": "ipython",
    "version": 3
   },
   "file_extension": ".py",
   "mimetype": "text/x-python",
   "name": "python",
   "nbconvert_exporter": "python",
   "pygments_lexer": "ipython3",
   "version": "3.12.3"
  }
 },
 "nbformat": 4,
 "nbformat_minor": 5
}
