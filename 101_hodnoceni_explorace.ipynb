{
 "cells": [
  {
   "cell_type": "code",
   "execution_count": 1,
   "id": "6c61b793",
   "metadata": {},
   "outputs": [],
   "source": [
    "import os\n",
    "import json\n",
    "import pandas as pd"
   ]
  },
  {
   "cell_type": "markdown",
   "id": "4234d445",
   "metadata": {},
   "source": [
    "Které knihy jsou ve srovnání: česká fikce a non-fikce vydaná v letech 2023 a 2024, u které se podařilo načíst ISBN z Martinus.cz a prostřednictvím tohoto ISBN stáhnout data z Goodreads a Databáze knih."
   ]
  },
  {
   "cell_type": "markdown",
   "id": "815ecc32",
   "metadata": {},
   "source": [
    "## Goodreads"
   ]
  },
  {
   "cell_type": "code",
   "execution_count": 4,
   "id": "5847f93b",
   "metadata": {},
   "outputs": [],
   "source": [
    "gr = pd.read_csv(os.path.join(\"data\",\"goodreads-hodnoceni.csv\"))"
   ]
  },
  {
   "cell_type": "code",
   "execution_count": 5,
   "id": "5ff0f420",
   "metadata": {},
   "outputs": [
    {
     "data": {
      "text/plain": [
       "Index(['GR_isbn', 'GR_date', 'GR_title', 'GR_rating', 'GR_ratings_count',\n",
       "       'GR_reviews', 'GR_published', 'GR_1_stars', 'GR_2_stars', 'GR_3_stars',\n",
       "       'GR_4_stars', 'GR_5_stars', 'GR_pages', 'GR_format'],\n",
       "      dtype='object')"
      ]
     },
     "execution_count": 5,
     "metadata": {},
     "output_type": "execute_result"
    }
   ],
   "source": [
    "gr.columns"
   ]
  },
  {
   "cell_type": "code",
   "execution_count": 6,
   "id": "b6ed1f60",
   "metadata": {},
   "outputs": [],
   "source": [
    "gr = gr.sort_values(by='GR_date')"
   ]
  },
  {
   "cell_type": "code",
   "execution_count": 7,
   "id": "7f27dee9",
   "metadata": {},
   "outputs": [
    {
     "data": {
      "text/plain": [
       "'2024-12-09 09:52:29'"
      ]
     },
     "execution_count": 7,
     "metadata": {},
     "output_type": "execute_result"
    }
   ],
   "source": [
    "gr['GR_date'].max()"
   ]
  },
  {
   "cell_type": "code",
   "execution_count": 8,
   "id": "c17a7b16",
   "metadata": {},
   "outputs": [],
   "source": [
    "gr['GR_date'] = pd.to_datetime(gr['GR_date'])"
   ]
  },
  {
   "cell_type": "code",
   "execution_count": 9,
   "id": "620a50e6",
   "metadata": {},
   "outputs": [
    {
     "data": {
      "text/plain": [
       "GR_date\n",
       "2024-12-15    1105\n",
       "2024-12-08    1095\n",
       "2024-12-01    1045\n",
       "Freq: -1W-SUN, Name: GR_isbn, dtype: int64"
      ]
     },
     "execution_count": 9,
     "metadata": {},
     "output_type": "execute_result"
    }
   ],
   "source": [
    "    gr.groupby(pd.Grouper(key='GR_date', freq='W'))['GR_isbn'].nunique().tail(3).iloc[::-1]"
   ]
  },
  {
   "cell_type": "code",
   "execution_count": 10,
   "id": "bad1b55b",
   "metadata": {},
   "outputs": [],
   "source": [
    "gr_nejnovejsi = gr.groupby(pd.Grouper(key='GR_date', freq='W'))['GR_isbn'].nunique().tail(3).iloc[::-1].index.to_list()[1]"
   ]
  },
  {
   "cell_type": "code",
   "execution_count": 11,
   "id": "51cc64ee",
   "metadata": {},
   "outputs": [
    {
     "data": {
      "text/plain": [
       "Timestamp('2024-12-08 00:00:00')"
      ]
     },
     "execution_count": 11,
     "metadata": {},
     "output_type": "execute_result"
    }
   ],
   "source": [
    "gr_nejnovejsi"
   ]
  },
  {
   "cell_type": "code",
   "execution_count": 12,
   "id": "314560d5",
   "metadata": {},
   "outputs": [],
   "source": [
    "starsi = gr[gr['GR_date'] <= str(gr_nejnovejsi)]['GR_title'].to_list()"
   ]
  },
  {
   "cell_type": "code",
   "execution_count": 13,
   "id": "a0d5d6b0",
   "metadata": {},
   "outputs": [
    {
     "name": "stdout",
     "output_type": "stream",
     "text": [
      "Novinky 2024-12-08\n",
      "- Jak dědeček zachránil trolejbus by Lenka Arazimová\n",
      "- Flora by Jonáš Zbořil\n",
      "- Sladký život by Lucie Tringelová Kaňová\n",
      "- Úděsné dny Adély H: # ty_vole_tabor by Aleš Novotný\n",
      "- Prosím žádné zmrtvýchvstání by Ondřej Novotný\n",
      "- Flora by Jonáš Zbořil\n"
     ]
    }
   ],
   "source": [
    "novinky = gr[~gr['GR_title'].isin(starsi)]['GR_title'].to_list()\n",
    "print(\"Novinky \" + str(gr_nejnovejsi)[0:10] + \"\\n-\", end =\" \")\n",
    "print('\\n- '.join(novinky))"
   ]
  },
  {
   "cell_type": "markdown",
   "id": "2f4aacd9",
   "metadata": {},
   "source": [
    "### Nejlépe hodnocené knihy vůbec"
   ]
  },
  {
   "cell_type": "code",
   "execution_count": 15,
   "id": "a4c485fe",
   "metadata": {},
   "outputs": [
    {
     "data": {
      "text/plain": [
       "GR_title\n",
       "Zuzana Čaputová - Neztratit se sama sobě: Knižní rozhovor se slovenskou prezidentkou by Erik Tabery    4.80\n",
       "Zuzana Čaputová: Neztratit se sama sobě by Erik Tabery                                                 4.77\n",
       "U severní zdi by Petra Klabouchová                                                                     4.69\n",
       "Šikmý kostel 3: románová kronika ztraceného města, léta 1945–1961 by Karin Lednická                    4.68\n",
       "V pasti pohlaví by Silvie Lauder                                                                       4.61\n",
       "Nepatrná ztráta osamělosti by Eli Beneš                                                                4.54\n",
       "Stačí mávnout křídly (Stačí mávnout křídly, #1) by Sára Topinková                                      4.47\n",
       "Krutý měsíc by Jana Jašová                                                                             4.43\n",
       "Severka by Nina Špitálníková                                                                           4.43\n",
       "Píseň L. by Veronika Opatřilová                                                                        4.42\n",
       "Lásky čas by Adéla Rosípalová                                                                          4.41\n",
       "Budoucnost nepráce by Filip Dřímalka                                                                   4.40\n",
       "Hrdinové kapitalistické práce v Evropě by Saša Uhlová                                                  4.38\n",
       "Vrstva ticha (Mycelium, #6) by Vilma Kadlečková                                                        4.38\n",
       "Rozložíš paměť by Marek Torčík                                                                         4.35\n",
       "Zvonkohra by Eliška Václavíková                                                                        4.35\n",
       "Zlomky nekonečna by Adéla Rosípalová                                                                   4.33\n",
       "Les v domě by Alena Mornštajnová                                                                       4.31\n",
       "Srpny by Jakub Stanjura                                                                                4.31\n",
       "Feministkou snadno a rychle by Lucie Jarkovská                                                         4.28\n",
       "Letnice by Miroslav Hlaučo                                                                             4.28\n",
       "Nebuď p*ča aneb jak (ne)pracovat s dětmi by Tomáš Morávek                                              4.27\n",
       "Ty chladné oči by Scarlett Wilková                                                                     4.27\n",
       "Léto mezi řádky by Alena Štraubová                                                                     4.25\n",
       "Balada mrtvého světa (Ozvěny Zlomu, #1) by Alžběta Bílková                                             4.24\n",
       "Vraní oko by Michaela Klevisová                                                                        4.22\n",
       "Odvaha by Markéta Lukášková                                                                            4.21\n",
       "Operace Petragun (Legie, #8) by František Kotleta                                                      4.21\n",
       "Sudetský dům II by Štěpán Javůrek                                                                      4.21\n",
       "Ztracenné by Michelle Losekoot                                                                         4.20\n",
       "Name: GR_rating, dtype: float64"
      ]
     },
     "execution_count": 15,
     "metadata": {},
     "output_type": "execute_result"
    }
   ],
   "source": [
    "gr[gr['GR_ratings_count'] >= 100].groupby('GR_title')['GR_rating'].last().nlargest(30)"
   ]
  },
  {
   "cell_type": "markdown",
   "id": "ea9e7571",
   "metadata": {},
   "source": [
    "### Nejvíce hodnocení"
   ]
  },
  {
   "cell_type": "code",
   "execution_count": 17,
   "id": "a3dcc7ae",
   "metadata": {},
   "outputs": [
    {
     "data": {
      "text/plain": [
       "GR_title\n",
       "Les v domě by Alena Mornštajnová                                                                       2373.0\n",
       "Srpny by Jakub Stanjura                                                                                1481.0\n",
       "Severka by Nina Špitálníková                                                                           1167.0\n",
       "Těla by Klára Vlasáková                                                                                1034.0\n",
       "Rozložíš paměť by Marek Torčík                                                                          956.0\n",
       "Národní opruzení by Karolína Zoe Meixnerová                                                             691.0\n",
       "Kde jsi, když nejsi by Radka Třeštíková                                                                 674.0\n",
       "Šikmý kostel 3: románová kronika ztraceného města, léta 1945–1961 by Karin Lednická                     660.0\n",
       "Jsme nevyhnutelní (Navždycky #4) by Nofreeusernames                                                     599.0\n",
       "Gazely by Patrik Hartl                                                                                  591.0\n",
       "Fosilie by Michal Kašpárek                                                                              567.0\n",
       "Zuzana Čaputová: Neztratit se sama sobě by Erik Tabery                                                  551.0\n",
       "U severní zdi by Petra Klabouchová                                                                      517.0\n",
       "Stačí mávnout křídly (Stačí mávnout křídly, #1) by Sára Topinková                                       450.0\n",
       "Léto mezi řádky by Alena Štraubová                                                                      442.0\n",
       "Zuzana Čaputová - Neztratit se sama sobě: Knižní rozhovor se slovenskou prezidentkou by Erik Tabery     420.0\n",
       "Pláňata by Petra Dvořáková                                                                              412.0\n",
       "Odvaha by Markéta Lukášková                                                                             401.0\n",
       "V pasti pohlaví by Silvie Lauder                                                                        399.0\n",
       "Sudetenland by Leoš Kyša                                                                                377.0\n",
       "Můžeš říct: Miluju tě by Nofreeusernames                                                                348.0\n",
       "Zvonkohra by Eliška Václavíková                                                                         331.0\n",
       "Josefíně všichni lžou by Kateřina Pantovič                                                              303.0\n",
       "Ignis fatuus by Petra Klabouchová                                                                       301.0\n",
       "Lásky čas by Adéla Rosípalová                                                                           291.0\n",
       "Feministkou snadno a rychle by Lucie Jarkovská                                                          259.0\n",
       "Letní bouřky by Klára Pospíšilová                                                                       255.0\n",
       "Vraní oko by Michaela Klevisová                                                                         255.0\n",
       "Neodpovídej... by Lucie Bechynková                                                                      252.0\n",
       "Zlomky nekonečna by Adéla Rosípalová                                                                    239.0\n",
       "Name: GR_ratings_count, dtype: float64"
      ]
     },
     "execution_count": 17,
     "metadata": {},
     "output_type": "execute_result"
    }
   ],
   "source": [
    "gr.groupby(\"GR_title\")['GR_ratings_count'].max().nlargest(30)"
   ]
  },
  {
   "cell_type": "markdown",
   "id": "8c234434",
   "metadata": {},
   "source": [
    "### Nejvíce nových hodnocení od dubna '24"
   ]
  },
  {
   "cell_type": "code",
   "execution_count": 19,
   "id": "7160775e",
   "metadata": {},
   "outputs": [
    {
     "data": {
      "text/plain": [
       "GR_title\n",
       "Rozložíš paměť by Marek Torčík                                                         636.0\n",
       "Šikmý kostel 3: románová kronika ztraceného města, léta 1945–1961 by Karin Lednická    607.0\n",
       "Severka by Nina Špitálníková                                                           537.0\n",
       "Srpny by Jakub Stanjura                                                                531.0\n",
       "Odvaha by Markéta Lukášková                                                            369.0\n",
       "Těla by Klára Vlasáková                                                                304.0\n",
       "Gazely by Patrik Hartl                                                                 243.0\n",
       "Fosilie by Michal Kašpárek                                                             240.0\n",
       "Lásky čas by Adéla Rosípalová                                                          239.0\n",
       "U severní zdi by Petra Klabouchová                                                     199.0\n",
       "Pláňata by Petra Dvořáková                                                             171.0\n",
       "V pasti pohlaví by Silvie Lauder                                                       157.0\n",
       "Vyhoření by Petr Šesták                                                                156.0\n",
       "Les v domě by Alena Mornštajnová                                                       141.0\n",
       "Ignis fatuus by Petra Klabouchová                                                      138.0\n",
       "Kde jsi, když nejsi by Radka Třeštíková                                                136.0\n",
       "Léto mezi řádky by Alena Štraubová                                                     126.0\n",
       "Poslední léto by Dorota Ambrožová                                                      125.0\n",
       "Někdo z nás by Kristýna Trpková                                                        122.0\n",
       "Letní bouřky by Klára Pospíšilová                                                      120.0\n",
       "Sudetenland by Leoš Kyša                                                               120.0\n",
       "Lovci monster - Fantom by Larry Correia                                                113.0\n",
       "Letnice by Miroslav Hlaučo                                                             112.0\n",
       "Zuzana Čaputová: Neztratit se sama sobě by Erik Tabery                                 111.0\n",
       "Krutý měsíc by Jana Jašová                                                             108.0\n",
       "Name: GR_ratings_count, dtype: float64"
      ]
     },
     "execution_count": 19,
     "metadata": {},
     "output_type": "execute_result"
    }
   ],
   "source": [
    "pd.Series(gr.groupby(\"GR_title\")['GR_ratings_count'].max() - gr.groupby(\"GR_title\")['GR_ratings_count'].min()).nlargest(25)"
   ]
  },
  {
   "cell_type": "code",
   "execution_count": 20,
   "id": "24b3d9ae",
   "metadata": {},
   "outputs": [],
   "source": [
    "import datetime"
   ]
  },
  {
   "cell_type": "code",
   "execution_count": 21,
   "id": "5bc41d4d",
   "metadata": {},
   "outputs": [],
   "source": [
    "two_weeks_ago = datetime.datetime.now() - datetime.timedelta(days=13)\n",
    "two_weeks_ago = two_weeks_ago.strftime('%Y-%m-%d')"
   ]
  },
  {
   "cell_type": "code",
   "execution_count": 22,
   "id": "56660569",
   "metadata": {},
   "outputs": [],
   "source": [
    "week_ago = datetime.datetime.now() - datetime.timedelta(days=6)\n",
    "week_ago = week_ago.strftime('%Y-%m-%d')"
   ]
  },
  {
   "cell_type": "code",
   "execution_count": 23,
   "id": "c06a83c9",
   "metadata": {},
   "outputs": [
    {
     "data": {
      "text/plain": [
       "'2024-11-10'"
      ]
     },
     "execution_count": 23,
     "metadata": {},
     "output_type": "execute_result"
    }
   ],
   "source": [
    "month_ago = pd.to_datetime(gr['GR_date'].max()) - datetime.timedelta(days=29)\n",
    "month_ago = month_ago.strftime('%Y-%m-%d')\n",
    "month_ago"
   ]
  },
  {
   "cell_type": "code",
   "execution_count": 24,
   "id": "14bbd46f",
   "metadata": {},
   "outputs": [
    {
     "data": {
      "text/plain": [
       "['Pusa z Albertiny by Vincent Riva',\n",
       " 'Zápas o Ameriku: Hlasy z rozeštvané země by Jan Kaliba',\n",
       " 'Reportér na odstřel by Marek Wollner',\n",
       " 'Osiřelo dítě by Štěpán Kučera',\n",
       " 'Meč pro krále by Michal Zmítko',\n",
       " 'Případ ztraceného psa by Václav Gruber',\n",
       " 'Karel IV. – Prokleté dědictví by Jaromír Jindra',\n",
       " 'Dokud není konec by Filip Saiver',\n",
       " 'V každe chvíli jste mi vzorem by Jiří Halda',\n",
       " 'Dev - Příběh Devory Sharpové by Kristyna Andrews',\n",
       " 'Český bestiář by Jiří Padevět',\n",
       " 'Drak na polní cestě by Jiří Hájíček',\n",
       " 'Arboriáni v temných časech by Ivan Bauer',\n",
       " 'František Palacký: Aristokrat českého ducha by Hana Parkánová-Whitton',\n",
       " 'George Voskovec & John Werich: Americká cesta by Michal Bystrov',\n",
       " 'Třicetiletá válka by Jan Kilián',\n",
       " 'Andulka Andula by Patrik Hartl',\n",
       " '50 příběhů pražského metra by Michaela Rulíšková',\n",
       " 'Luna z lůna 3: Tajemství by Barbora Englischová',\n",
       " 'Pohádky z malovaných hrníčků by Dana Doležalová',\n",
       " 'V uniformě beránka by Václav Jabůrek',\n",
       " 'Závojnatky by Jiří B. Mayer',\n",
       " 'Kočičí škola by Iva Hoňková',\n",
       " 'Dr. Alz by Miloš Urban',\n",
       " 'Druhá strana řeky by Nora Eckhardtová',\n",
       " 'Dvojí život by Jana Poncarová',\n",
       " 'Čtyři mimózy by Dominika Kramná',\n",
       " 'Křik straky (Čarodějka Henika, #2) by Dana Beranová',\n",
       " 'Meziměsta by Lukáš Vavrečka',\n",
       " 'Dráty by Vítězslav Welsch',\n",
       " 'Hex: Bažina by Zuzana Strachotová',\n",
       " 'Duše Tichomoří by Kateřina Vokalová',\n",
       " 'Čarodějky by Karin Krajčo Babinská',\n",
       " 'Arila Hranice Času by Radek Starý',\n",
       " 'Můj důvod žít by Michaela Dopitová',\n",
       " 'V nefritové kleci (UTSS Salamis, #6) by Jakub Mařík',\n",
       " 'Indiánský erotikon by Danka Štoflová',\n",
       " 'Děsy první republiky by Marek Skřipský',\n",
       " 'Ptáci jsou dosud nečitelní by Vladimíra Valová',\n",
       " 'Ažka, kočka na dožití a další úsměvné příběhy by Miroslava Salajková',\n",
       " 'Sochaři masa (Nathaniel Darnsworn, #4) by Jakub Hoza',\n",
       " 'Když přišli psi by Scarlett Wilková',\n",
       " 'S kapkou medu by Helena Žáková',\n",
       " 'Zlatá Grai (Zlatá Grai, #1) by Kristina Waagnerová',\n",
       " 'Prorok by Petr Sagitarius',\n",
       " 'Tahle voda je naše by A. Gravensteen',\n",
       " 'Pilná jako včelka (Stačí mávnout křídly, #2) by Sára Topinková',\n",
       " 'Chcípneš by Jitka Ludvíková',\n",
       " 'Jak jsem se nenaučila řídit by Blanka Kovaříková',\n",
       " 'Dravé zvěři napospas by Jana Jašová',\n",
       " 'Krajina těla by Daniela  Nacházelová',\n",
       " 'Historky z Tinderu 2 aneb Láska, sex a ten pravý nikde by Lucie Macháčková',\n",
       " 'Malé královské sênek by Miroslav Hrabčík',\n",
       " 'V zapomnění by Honza Vojtíšek',\n",
       " 'Čtyři schody k bohatství by Josef Klíma',\n",
       " 'Život za krejcar, smrt za dva by Marta Knauerová',\n",
       " 'Kocour Hans von Xeno & jókajové by Jan Melena',\n",
       " 'Kdysi tady hořel oheň by Anna Winterová',\n",
       " 'Najednou by Petra Martišková',\n",
       " 'K smrti dobrý by Tereza Olbrichtová',\n",
       " 'Klub kamzíků by Martina Skala',\n",
       " 'Dvě tváře lásky by Marie Hamáková',\n",
       " 'Rytíř zeleného kříže by František Kalenda',\n",
       " 'Azurově šedá by Lucie Pejšová',\n",
       " 'O hvězdách víš hovno by Petr   Hanel',\n",
       " 'Záhada ukradeného diadému by Lucie Pilátová',\n",
       " 'Písmem mojí přítelkyně by Barbora Linke',\n",
       " 'Mimo obraz by Jiří Březina',\n",
       " 'Den po dni by Nofreeusernames',\n",
       " 'Kafkova abeceda by Radim Kopáč',\n",
       " 'Síťařka by Petr Kubat',\n",
       " 'Němý křik by Madla Pospíšilová Karasová',\n",
       " 'Nocturno pro Erika by Klára Pospíšilová',\n",
       " 'Baron Trenck: Panduři (Baron Trenck, #2) by František Niedl',\n",
       " 'Šílenství v nás by Annora Nesta',\n",
       " 'Jak dědeček zachránil trolejbus by Lenka Arazimová',\n",
       " 'Flora by Jonáš Zbořil',\n",
       " 'Sladký život by Lucie Tringelová Kaňová',\n",
       " 'Úděsné dny Adély H: # ty_vole_tabor by Aleš Novotný',\n",
       " 'Prosím žádné zmrtvýchvstání by Ondřej Novotný']"
      ]
     },
     "execution_count": 24,
     "metadata": {},
     "output_type": "execute_result"
    }
   ],
   "source": [
    "gr_stare = gr[gr['GR_date'] < month_ago]['GR_title'].drop_duplicates().to_list()\n",
    "gr_nove = gr[~gr['GR_title'].isin(gr_stare)]['GR_title'].drop_duplicates().to_list()\n",
    "gr_nove"
   ]
  },
  {
   "cell_type": "code",
   "execution_count": 25,
   "id": "29e51f51-2327-4abc-bdc6-02702fbe8113",
   "metadata": {},
   "outputs": [
    {
     "data": {
      "text/html": [
       "<div>\n",
       "<style scoped>\n",
       "    .dataframe tbody tr th:only-of-type {\n",
       "        vertical-align: middle;\n",
       "    }\n",
       "\n",
       "    .dataframe tbody tr th {\n",
       "        vertical-align: top;\n",
       "    }\n",
       "\n",
       "    .dataframe thead th {\n",
       "        text-align: right;\n",
       "    }\n",
       "</style>\n",
       "<table border=\"1\" class=\"dataframe\">\n",
       "  <thead>\n",
       "    <tr style=\"text-align: right;\">\n",
       "      <th></th>\n",
       "      <th>GR_isbn</th>\n",
       "      <th>GR_date</th>\n",
       "      <th>GR_title</th>\n",
       "      <th>GR_rating</th>\n",
       "      <th>GR_ratings_count</th>\n",
       "      <th>GR_reviews</th>\n",
       "      <th>GR_published</th>\n",
       "      <th>GR_1_stars</th>\n",
       "      <th>GR_2_stars</th>\n",
       "      <th>GR_3_stars</th>\n",
       "      <th>GR_4_stars</th>\n",
       "      <th>GR_5_stars</th>\n",
       "      <th>GR_pages</th>\n",
       "      <th>GR_format</th>\n",
       "    </tr>\n",
       "  </thead>\n",
       "  <tbody>\n",
       "    <tr>\n",
       "      <th>24892</th>\n",
       "      <td>https://www.goodreads.com/book/show/221241627-...</td>\n",
       "      <td>2024-12-09 01:27:41</td>\n",
       "      <td>Flora by Jonáš Zbořil</td>\n",
       "      <td>4.57</td>\n",
       "      <td>63.0</td>\n",
       "      <td>8.0</td>\n",
       "      <td>January 1, 2024</td>\n",
       "      <td>0.0</td>\n",
       "      <td>0.0</td>\n",
       "      <td>5.0</td>\n",
       "      <td>17.0</td>\n",
       "      <td>41.0</td>\n",
       "      <td>168.0</td>\n",
       "      <td>paperback</td>\n",
       "    </tr>\n",
       "    <tr>\n",
       "      <th>25818</th>\n",
       "      <td>https://www.goodreads.com/book/show/221241627-...</td>\n",
       "      <td>2024-12-09 09:52:29</td>\n",
       "      <td>Flora by Jonáš Zbořil</td>\n",
       "      <td>4.57</td>\n",
       "      <td>63.0</td>\n",
       "      <td>8.0</td>\n",
       "      <td>January 1, 2024</td>\n",
       "      <td>0.0</td>\n",
       "      <td>0.0</td>\n",
       "      <td>5.0</td>\n",
       "      <td>17.0</td>\n",
       "      <td>41.0</td>\n",
       "      <td>168.0</td>\n",
       "      <td>paperback</td>\n",
       "    </tr>\n",
       "  </tbody>\n",
       "</table>\n",
       "</div>"
      ],
      "text/plain": [
       "                                                 GR_isbn             GR_date  \\\n",
       "24892  https://www.goodreads.com/book/show/221241627-... 2024-12-09 01:27:41   \n",
       "25818  https://www.goodreads.com/book/show/221241627-... 2024-12-09 09:52:29   \n",
       "\n",
       "                    GR_title  GR_rating  GR_ratings_count  GR_reviews  \\\n",
       "24892  Flora by Jonáš Zbořil       4.57              63.0         8.0   \n",
       "25818  Flora by Jonáš Zbořil       4.57              63.0         8.0   \n",
       "\n",
       "          GR_published  GR_1_stars  GR_2_stars  GR_3_stars  GR_4_stars  \\\n",
       "24892  January 1, 2024         0.0         0.0         5.0        17.0   \n",
       "25818  January 1, 2024         0.0         0.0         5.0        17.0   \n",
       "\n",
       "       GR_5_stars  GR_pages  GR_format  \n",
       "24892        41.0     168.0  paperback  \n",
       "25818        41.0     168.0  paperback  "
      ]
     },
     "execution_count": 25,
     "metadata": {},
     "output_type": "execute_result"
    }
   ],
   "source": [
    "gr[gr['GR_title'].str.contains('Flora',na=False)]"
   ]
  },
  {
   "cell_type": "markdown",
   "id": "4d915450",
   "metadata": {},
   "source": [
    "### Nejvíce hodnocení za poslední měsíc"
   ]
  },
  {
   "cell_type": "code",
   "execution_count": 27,
   "id": "62667730",
   "metadata": {},
   "outputs": [
    {
     "data": {
      "text/plain": [
       "GR_title\n",
       "Les v domě by Alena Mornštajnová                                                       41.0\n",
       "Severka by Nina Špitálníková                                                           37.0\n",
       "Zuzana Čaputová: Neztratit se sama sobě by Erik Tabery                                 37.0\n",
       "Srpny by Jakub Stanjura                                                                34.0\n",
       "Šikmý kostel 3: románová kronika ztraceného města, léta 1945–1961 by Karin Lednická    31.0\n",
       "Den po dni by Nofreeusernames                                                          30.0\n",
       "Ignis fatuus by Petra Klabouchová                                                      29.0\n",
       "Rozložíš paměť by Marek Torčík                                                         25.0\n",
       "U severní zdi by Petra Klabouchová                                                     22.0\n",
       "Těla by Klára Vlasáková                                                                19.0\n",
       "Gazely by Patrik Hartl                                                                 18.0\n",
       "Můžeš říct: Miluju tě by Nofreeusernames                                               17.0\n",
       "Hella by Alena Machoninová                                                             17.0\n",
       "Drak na polní cestě by Jiří Hájíček                                                    17.0\n",
       "Odvaha by Markéta Lukášková                                                            15.0\n",
       "Přístav by Magdalena Rejžková                                                          15.0\n",
       "Aristokratka v Československu by Evžen Boček                                           15.0\n",
       "Poslední léto by Dorota Ambrožová                                                      13.0\n",
       "Pláňata by Petra Dvořáková                                                             13.0\n",
       "Stačí mávnout křídly (Stačí mávnout křídly, #1) by Sára Topinková                      12.0\n",
       "Letnice by Miroslav Hlaučo                                                             12.0\n",
       "Národní opruzení by Karolína Zoe Meixnerová                                            11.0\n",
       "Krutý měsíc by Jana Jašová                                                             11.0\n",
       "Lovci monster - Fantom by Larry Correia                                                10.0\n",
       "Lásky čas by Adéla Rosípalová                                                          10.0\n",
       "Zvrhlá hra (Alfa & Omega, #1) by Tess M. Puffrová                                      10.0\n",
       "Name: GR_ratings_count, dtype: float64"
      ]
     },
     "execution_count": 27,
     "metadata": {},
     "output_type": "execute_result"
    }
   ],
   "source": [
    "goodreads_mesic_ratings = pd.Series(gr.groupby(\"GR_title\")['GR_ratings_count'].max() - gr[gr['GR_date'] > month_ago].groupby(\"GR_title\")['GR_ratings_count'].min()).sort_values(ascending=False)\n",
    "goodreads_mesic_ratings = goodreads_mesic_ratings[goodreads_mesic_ratings >= 10]\n",
    "goodreads_mesic_ratings"
   ]
  },
  {
   "cell_type": "code",
   "execution_count": 28,
   "id": "6eac0ff7",
   "metadata": {},
   "outputs": [
    {
     "data": {
      "text/plain": [
       "GR_title\n",
       "Den po dni by Nofreeusernames                                                 30.0\n",
       "Drak na polní cestě by Jiří Hájíček                                           17.0\n",
       "Šílenství v nás by Annora Nesta                                                5.0\n",
       "Osiřelo dítě by Štěpán Kučera                                                  5.0\n",
       "Andulka Andula by Patrik Hartl                                                 4.0\n",
       "Mimo obraz by Jiří Březina                                                     4.0\n",
       "O hvězdách víš hovno by Petr   Hanel                                           4.0\n",
       "Pusa z Albertiny by Vincent Riva                                               4.0\n",
       "Když přišli psi by Scarlett Wilková                                            3.0\n",
       "Zápas o Ameriku: Hlasy z rozeštvané země by Jan Kaliba                         3.0\n",
       "Historky z Tinderu 2 aneb Láska, sex a ten pravý nikde by Lucie Macháčková     3.0\n",
       "Nocturno pro Erika by Klára Pospíšilová                                        3.0\n",
       "Dvě tváře lásky by Marie Hamáková                                              3.0\n",
       "Name: GR_ratings_count, dtype: float64"
      ]
     },
     "execution_count": 28,
     "metadata": {},
     "output_type": "execute_result"
    }
   ],
   "source": [
    "goodreads_mesic_novinky = pd.Series(gr[gr['GR_title'].isin(gr_nove)].groupby(\"GR_title\")['GR_ratings_count'].max() - gr[(gr['GR_title'].isin(gr_nove)) & (gr['GR_date'] > month_ago)].groupby(\"GR_title\")['GR_ratings_count'].min()).sort_values(ascending=False)\n",
    "goodreads_mesic_novinky = goodreads_mesic_novinky[goodreads_mesic_novinky >= 3]\n",
    "goodreads_mesic_novinky"
   ]
  },
  {
   "cell_type": "markdown",
   "id": "c2fb1f5b",
   "metadata": {},
   "source": [
    "### Nejvíce hodnocení v posledním týdnu a dvou"
   ]
  },
  {
   "cell_type": "code",
   "execution_count": 30,
   "id": "fa0f4fd6",
   "metadata": {},
   "outputs": [
    {
     "data": {
      "text/plain": [
       "GR_title\n",
       "#Nezapomeň. Příběhy Paměti národa by Irena Tatíčková                                       NaN\n",
       "100 rád pre aktívnych ľudí by Michal Červený                                               NaN\n",
       "100+24 brněnských kuriozit, absurdit a bizarností by Miloš Šenkýř                          NaN\n",
       "13! by Pavel Tomeš                                                                         NaN\n",
       "1492: Dobytí Granady by Lukáš Zárybnický                                                   NaN\n",
       "151+ nápadů na můj bucket list by Lucie Kutrová                                            NaN\n",
       "20 let slam poetry: Nejlepší česká slam poetry 2003-2023 by Tomáš T. Kůs                   NaN\n",
       "3.7.1866: Bitva u Hradce Králové by Vojtěch Kessler                                        NaN\n",
       "30 hodin: Ověř nápad v rekordním čase a rozjeď vysněné podnikání by Dalibor Pulkert        NaN\n",
       "30 let (nejen) písní od cimbálu by Dalibor Štrunc                                          NaN\n",
       "4 povídky by Lenka Poláčková                                                               NaN\n",
       "50 příběhů pražského metra by Michaela Rulíšková                                           NaN\n",
       "<30 by Anežka Nováková                                                                     NaN\n",
       "A tak krásně jsme si žili by Jan Grygar                                                    NaN\n",
       "Adam ze Zbraslavi a případ královské dcery Elišky by Hana Parkánová-Whitton                NaN\n",
       "Album 1958–1977 by Bohdan Holomíček                                                        NaN\n",
       "Ali a dívka ze studny by Bohumil Krejza                                                    NaN\n",
       "Ambasadoři bohémy: Současná česká kulturní diplomacie a její dilemata by Eliška Tomalová   NaN\n",
       "Amen = Amen by Ilona Ferková                                                               NaN\n",
       "Amerika na mušce by David Miřejovský                                                       NaN\n",
       "Amerika ve válce: USA v letech 1961-1975/79 by Martin Kovář                                NaN\n",
       "Amerikánka by David Jařab                                                                  NaN\n",
       "Amsterodamské vigilie by Lenka Horňáková-Civade                                            NaN\n",
       "Andulka Andula by Patrik Hartl                                                             NaN\n",
       "Anežka z Kuenringu: První po královně by Hana Parkánová-Whitton                            NaN\n",
       "Name: GR_ratings_count, dtype: float64"
      ]
     },
     "execution_count": 30,
     "metadata": {},
     "output_type": "execute_result"
    }
   ],
   "source": [
    "pd.Series(gr[gr['GR_date'] > two_weeks_ago].groupby(\"GR_title\")['GR_ratings_count'].max() - gr[gr['GR_date'] < week_ago].groupby(\"GR_title\")['GR_ratings_count'].max()).nlargest(25)"
   ]
  },
  {
   "cell_type": "code",
   "execution_count": 31,
   "id": "d2523d56",
   "metadata": {},
   "outputs": [
    {
     "data": {
      "text/plain": [
       "GR_title\n",
       "#Nezapomeň. Příběhy Paměti národa by Irena Tatíčková                                       NaN\n",
       "100 rád pre aktívnych ľudí by Michal Červený                                               NaN\n",
       "100+24 brněnských kuriozit, absurdit a bizarností by Miloš Šenkýř                          NaN\n",
       "13! by Pavel Tomeš                                                                         NaN\n",
       "1492: Dobytí Granady by Lukáš Zárybnický                                                   NaN\n",
       "151+ nápadů na můj bucket list by Lucie Kutrová                                            NaN\n",
       "20 let slam poetry: Nejlepší česká slam poetry 2003-2023 by Tomáš T. Kůs                   NaN\n",
       "3.7.1866: Bitva u Hradce Králové by Vojtěch Kessler                                        NaN\n",
       "30 hodin: Ověř nápad v rekordním čase a rozjeď vysněné podnikání by Dalibor Pulkert        NaN\n",
       "30 let (nejen) písní od cimbálu by Dalibor Štrunc                                          NaN\n",
       "4 povídky by Lenka Poláčková                                                               NaN\n",
       "50 příběhů pražského metra by Michaela Rulíšková                                           NaN\n",
       "<30 by Anežka Nováková                                                                     NaN\n",
       "A tak krásně jsme si žili by Jan Grygar                                                    NaN\n",
       "Adam ze Zbraslavi a případ královské dcery Elišky by Hana Parkánová-Whitton                NaN\n",
       "Album 1958–1977 by Bohdan Holomíček                                                        NaN\n",
       "Ali a dívka ze studny by Bohumil Krejza                                                    NaN\n",
       "Ambasadoři bohémy: Současná česká kulturní diplomacie a její dilemata by Eliška Tomalová   NaN\n",
       "Amen = Amen by Ilona Ferková                                                               NaN\n",
       "Amerika na mušce by David Miřejovský                                                       NaN\n",
       "Amerika ve válce: USA v letech 1961-1975/79 by Martin Kovář                                NaN\n",
       "Amerikánka by David Jařab                                                                  NaN\n",
       "Amsterodamské vigilie by Lenka Horňáková-Civade                                            NaN\n",
       "Andulka Andula by Patrik Hartl                                                             NaN\n",
       "Anežka z Kuenringu: První po královně by Hana Parkánová-Whitton                            NaN\n",
       "Name: GR_ratings_count, dtype: float64"
      ]
     },
     "execution_count": 31,
     "metadata": {},
     "output_type": "execute_result"
    }
   ],
   "source": [
    "pd.Series(gr[gr['GR_date'] > two_weeks_ago].groupby(\"GR_title\")['GR_ratings_count'].max() - gr[gr['GR_date'] < two_weeks_ago].groupby(\"GR_title\")['GR_ratings_count'].max()).nlargest(25)"
   ]
  },
  {
   "cell_type": "markdown",
   "id": "3b6fdcdd",
   "metadata": {},
   "source": [
    "### Pokus s time series"
   ]
  },
  {
   "cell_type": "code",
   "execution_count": 33,
   "id": "889ef554",
   "metadata": {},
   "outputs": [
    {
     "name": "stderr",
     "output_type": "stream",
     "text": [
      "C:\\Users\\micha\\AppData\\Local\\Temp\\ipykernel_27576\\4007299537.py:2: SettingWithCopyWarning: \n",
      "A value is trying to be set on a copy of a slice from a DataFrame.\n",
      "Try using .loc[row_indexer,col_indexer] = value instead\n",
      "\n",
      "See the caveats in the documentation: https://pandas.pydata.org/pandas-docs/stable/user_guide/indexing.html#returning-a-view-versus-a-copy\n",
      "  vyvoj['GR_date'] = pd.to_datetime(vyvoj['GR_date'])\n"
     ]
    }
   ],
   "source": [
    "vyvoj = gr[['GR_date','GR_title','GR_ratings_count','GR_rating']]\n",
    "vyvoj['GR_date'] = pd.to_datetime(vyvoj['GR_date'])\n",
    "vyvoj = vyvoj.sort_values(by='GR_date')\n",
    "vyvoj = vyvoj.set_index('GR_date')"
   ]
  },
  {
   "cell_type": "code",
   "execution_count": 34,
   "id": "6be4be2a",
   "metadata": {},
   "outputs": [
    {
     "data": {
      "text/plain": [
       "<Axes: xlabel='GR_date'>"
      ]
     },
     "execution_count": 34,
     "metadata": {},
     "output_type": "execute_result"
    },
    {
     "data": {
      "image/png": "[encoded data removed]",
      "text/plain": [
       "<Figure size 640x480 with 1 Axes>"
      ]
     },
     "metadata": {},
     "output_type": "display_data"
    }
   ],
   "source": [
    "vyvoj[vyvoj['GR_title'].str.contains('Duše národa',na=False)]['GR_ratings_count'].plot()"
   ]
  },
  {
   "cell_type": "code",
   "execution_count": 35,
   "id": "5d933ad9",
   "metadata": {},
   "outputs": [
    {
     "data": {
      "text/plain": [
       "<Axes: xlabel='GR_date'>"
      ]
     },
     "execution_count": 35,
     "metadata": {},
     "output_type": "execute_result"
    },
    {
     "data": {
      "image/png": "[encoded data removed]",
      "text/plain": [
       "<Figure size 640x480 with 1 Axes>"
      ]
     },
     "metadata": {},
     "output_type": "display_data"
    }
   ],
   "source": [
    "vyvoj[vyvoj['GR_title'].str.contains('Reportér',na=False)]['GR_rating'].plot()"
   ]
  },
  {
   "cell_type": "code",
   "execution_count": 36,
   "id": "cfd9e0bf",
   "metadata": {
    "scrolled": true
   },
   "outputs": [
    {
     "data": {
      "text/plain": [
       "<Axes: xlabel='GR_date'>"
      ]
     },
     "execution_count": 36,
     "metadata": {},
     "output_type": "execute_result"
    },
    {
     "data": {
      "image/png": "[encoded data removed]",
      "text/plain": [
       "<Figure size 640x480 with 1 Axes>"
      ]
     },
     "metadata": {},
     "output_type": "display_data"
    }
   ],
   "source": [
    "vyvoj[vyvoj['GR_title'].str.contains('Pacanka',na=False)]['GR_ratings_count'].plot()"
   ]
  },
  {
   "cell_type": "markdown",
   "id": "c14329a3",
   "metadata": {},
   "source": [
    "### Další pokusy"
   ]
  },
  {
   "cell_type": "code",
   "execution_count": 38,
   "id": "3f45264a",
   "metadata": {},
   "outputs": [],
   "source": [
    "gr['GR_date'] = pd.to_datetime(gr['GR_date'])"
   ]
  },
  {
   "cell_type": "code",
   "execution_count": 39,
   "id": "f3b9b45c",
   "metadata": {
    "scrolled": true
   },
   "outputs": [
    {
     "data": {
      "text/plain": [
       "GR_date\n",
       "2024-04-14    12240.0\n",
       "2024-04-21        0.0\n",
       "2024-04-28    12964.0\n",
       "2024-05-05    13236.0\n",
       "2024-05-12    13890.0\n",
       "2024-05-19    14266.0\n",
       "2024-05-26    14562.0\n",
       "2024-06-02    14983.0\n",
       "2024-06-09    15329.0\n",
       "2024-06-16    15749.0\n",
       "2024-06-23    16109.0\n",
       "2024-06-30    16324.0\n",
       "2024-07-07    16739.0\n",
       "2024-07-14    17279.0\n",
       "2024-07-21    18029.0\n",
       "2024-07-28    18238.0\n",
       "2024-08-04    18808.0\n",
       "2024-08-11    19056.0\n",
       "2024-08-18    19455.0\n",
       "2024-08-25    20045.0\n",
       "2024-09-01    20290.0\n",
       "2024-09-08    20706.0\n",
       "2024-09-15    20620.0\n",
       "2024-09-22    20218.0\n",
       "2024-09-29    23189.0\n",
       "2024-10-06    28599.0\n",
       "2024-10-13    29026.0\n",
       "2024-10-20    29629.0\n",
       "2024-10-27    29994.0\n",
       "2024-11-03    30460.0\n",
       "2024-11-10    30895.0\n",
       "2024-11-17        0.0\n",
       "2024-11-24    31699.0\n",
       "2024-12-01    32023.0\n",
       "2024-12-08    32934.0\n",
       "2024-12-15    32544.0\n",
       "Freq: W-SUN, Name: GR_ratings_count, dtype: float64"
      ]
     },
     "execution_count": 39,
     "metadata": {},
     "output_type": "execute_result"
    }
   ],
   "source": [
    "tydny = gr.groupby(pd.Grouper(key='GR_date', freq='W'))['GR_ratings_count'].sum()\n",
    "tydny"
   ]
  },
  {
   "cell_type": "code",
   "execution_count": 40,
   "id": "1e7b4050",
   "metadata": {},
   "outputs": [
    {
     "name": "stderr",
     "output_type": "stream",
     "text": [
      "C:\\Users\\micha\\AppData\\Local\\Temp\\ipykernel_27576\\2088204097.py:1: FutureWarning: 'M' is deprecated and will be removed in a future version, please use 'ME' instead.\n",
      "  monthly_sum = tydny.resample('M').sum()\n"
     ]
    },
    {
     "data": {
      "text/plain": [
       "GR_date\n",
       "2024-04-30     25204.0\n",
       "2024-05-31     55954.0\n",
       "2024-06-30     78494.0\n",
       "2024-07-31     70285.0\n",
       "2024-08-31     77364.0\n",
       "2024-09-30    105023.0\n",
       "2024-10-31    117248.0\n",
       "2024-11-30     93054.0\n",
       "2024-12-31     97501.0\n",
       "Freq: ME, Name: GR_ratings_count, dtype: float64"
      ]
     },
     "execution_count": 40,
     "metadata": {},
     "output_type": "execute_result"
    }
   ],
   "source": [
    "monthly_sum = tydny.resample('M').sum()\n",
    "monthly_sum"
   ]
  },
  {
   "cell_type": "code",
   "execution_count": 41,
   "id": "349660d0",
   "metadata": {},
   "outputs": [
    {
     "data": {
      "text/plain": [
       "GR_date\n",
       "2024-04-30        NaN\n",
       "2024-05-31    30750.0\n",
       "2024-06-30    22540.0\n",
       "2024-07-31    -8209.0\n",
       "2024-08-31     7079.0\n",
       "2024-09-30    27659.0\n",
       "2024-10-31    12225.0\n",
       "2024-11-30   -24194.0\n",
       "2024-12-31     4447.0\n",
       "Freq: ME, Name: GR_ratings_count, dtype: float64"
      ]
     },
     "execution_count": 41,
     "metadata": {},
     "output_type": "execute_result"
    }
   ],
   "source": [
    "monthly_diff = monthly_sum.diff()\n",
    "monthly_diff"
   ]
  },
  {
   "cell_type": "code",
   "execution_count": 42,
   "id": "13325d54",
   "metadata": {},
   "outputs": [
    {
     "data": {
      "text/html": [
       "<div>\n",
       "<style scoped>\n",
       "    .dataframe tbody tr th:only-of-type {\n",
       "        vertical-align: middle;\n",
       "    }\n",
       "\n",
       "    .dataframe tbody tr th {\n",
       "        vertical-align: top;\n",
       "    }\n",
       "\n",
       "    .dataframe thead th {\n",
       "        text-align: right;\n",
       "    }\n",
       "</style>\n",
       "<table border=\"1\" class=\"dataframe\">\n",
       "  <thead>\n",
       "    <tr style=\"text-align: right;\">\n",
       "      <th></th>\n",
       "      <th>GR_isbn</th>\n",
       "      <th>GR_date</th>\n",
       "      <th>GR_title</th>\n",
       "      <th>GR_rating</th>\n",
       "      <th>GR_ratings_count</th>\n",
       "      <th>GR_reviews</th>\n",
       "      <th>GR_published</th>\n",
       "      <th>GR_1_stars</th>\n",
       "      <th>GR_2_stars</th>\n",
       "      <th>GR_3_stars</th>\n",
       "      <th>GR_4_stars</th>\n",
       "      <th>GR_5_stars</th>\n",
       "      <th>GR_pages</th>\n",
       "      <th>GR_format</th>\n",
       "    </tr>\n",
       "  </thead>\n",
       "  <tbody>\n",
       "    <tr>\n",
       "      <th>0</th>\n",
       "      <td>9788075884374</td>\n",
       "      <td>2024-04-08 00:00:27</td>\n",
       "      <td>Stará béčková legenda (Stará béčková legenda, ...</td>\n",
       "      <td>4.15</td>\n",
       "      <td>20.0</td>\n",
       "      <td>6.0</td>\n",
       "      <td>April 3, 2023</td>\n",
       "      <td>NaN</td>\n",
       "      <td>NaN</td>\n",
       "      <td>NaN</td>\n",
       "      <td>NaN</td>\n",
       "      <td>NaN</td>\n",
       "      <td>NaN</td>\n",
       "      <td>NaN</td>\n",
       "    </tr>\n",
       "    <tr>\n",
       "      <th>1</th>\n",
       "      <td>9788088067757</td>\n",
       "      <td>2024-04-08 00:00:30</td>\n",
       "      <td>Není nebe nad Mexikem by Michal Březina</td>\n",
       "      <td>3.40</td>\n",
       "      <td>5.0</td>\n",
       "      <td>1.0</td>\n",
       "      <td>April 3, 2023</td>\n",
       "      <td>NaN</td>\n",
       "      <td>NaN</td>\n",
       "      <td>NaN</td>\n",
       "      <td>NaN</td>\n",
       "      <td>NaN</td>\n",
       "      <td>NaN</td>\n",
       "      <td>NaN</td>\n",
       "    </tr>\n",
       "    <tr>\n",
       "      <th>2</th>\n",
       "      <td>9788072444816</td>\n",
       "      <td>2024-04-08 00:00:34</td>\n",
       "      <td>Město nad městem by Lucie Brejšová</td>\n",
       "      <td>4.64</td>\n",
       "      <td>14.0</td>\n",
       "      <td>7.0</td>\n",
       "      <td>May 9, 2023</td>\n",
       "      <td>NaN</td>\n",
       "      <td>NaN</td>\n",
       "      <td>NaN</td>\n",
       "      <td>NaN</td>\n",
       "      <td>NaN</td>\n",
       "      <td>NaN</td>\n",
       "      <td>NaN</td>\n",
       "    </tr>\n",
       "    <tr>\n",
       "      <th>3</th>\n",
       "      <td>9788027801145</td>\n",
       "      <td>2024-04-08 00:00:39</td>\n",
       "      <td>Prázdnota by Michaela Merglová</td>\n",
       "      <td>3.66</td>\n",
       "      <td>32.0</td>\n",
       "      <td>13.0</td>\n",
       "      <td>January 1, 2023</td>\n",
       "      <td>NaN</td>\n",
       "      <td>NaN</td>\n",
       "      <td>NaN</td>\n",
       "      <td>NaN</td>\n",
       "      <td>NaN</td>\n",
       "      <td>NaN</td>\n",
       "      <td>NaN</td>\n",
       "    </tr>\n",
       "    <tr>\n",
       "      <th>4</th>\n",
       "      <td>9788081116148</td>\n",
       "      <td>2024-04-08 00:00:44</td>\n",
       "      <td>„Jmenuji se Eva…“ by Jana Mirovská</td>\n",
       "      <td>4.43</td>\n",
       "      <td>7.0</td>\n",
       "      <td>3.0</td>\n",
       "      <td>January 1, 2023</td>\n",
       "      <td>NaN</td>\n",
       "      <td>NaN</td>\n",
       "      <td>NaN</td>\n",
       "      <td>NaN</td>\n",
       "      <td>NaN</td>\n",
       "      <td>NaN</td>\n",
       "      <td>NaN</td>\n",
       "    </tr>\n",
       "    <tr>\n",
       "      <th>...</th>\n",
       "      <td>...</td>\n",
       "      <td>...</td>\n",
       "      <td>...</td>\n",
       "      <td>...</td>\n",
       "      <td>...</td>\n",
       "      <td>...</td>\n",
       "      <td>...</td>\n",
       "      <td>...</td>\n",
       "      <td>...</td>\n",
       "      <td>...</td>\n",
       "      <td>...</td>\n",
       "      <td>...</td>\n",
       "      <td>...</td>\n",
       "      <td>...</td>\n",
       "    </tr>\n",
       "    <tr>\n",
       "      <th>25814</th>\n",
       "      <td>9788088482116</td>\n",
       "      <td>2024-12-09 03:33:23</td>\n",
       "      <td>Tak akorát čas jít domů by Xerodoth Sigmius</td>\n",
       "      <td>1.00</td>\n",
       "      <td>1.0</td>\n",
       "      <td>0.0</td>\n",
       "      <td>January 1, 2023</td>\n",
       "      <td>1.0</td>\n",
       "      <td>0.0</td>\n",
       "      <td>0.0</td>\n",
       "      <td>0.0</td>\n",
       "      <td>0.0</td>\n",
       "      <td>66.0</td>\n",
       "      <td>paperback</td>\n",
       "    </tr>\n",
       "    <tr>\n",
       "      <th>25815</th>\n",
       "      <td>9788027150854</td>\n",
       "      <td>2024-12-09 03:33:25</td>\n",
       "      <td>Lovci lidí: Revizorské humoresky by Vladimír Dyk</td>\n",
       "      <td>4.00</td>\n",
       "      <td>1.0</td>\n",
       "      <td>0.0</td>\n",
       "      <td>July 13, 2023</td>\n",
       "      <td>0.0</td>\n",
       "      <td>0.0</td>\n",
       "      <td>0.0</td>\n",
       "      <td>1.0</td>\n",
       "      <td>0.0</td>\n",
       "      <td>108.0</td>\n",
       "      <td>hardcover</td>\n",
       "    </tr>\n",
       "    <tr>\n",
       "      <th>25816</th>\n",
       "      <td>9788027150380</td>\n",
       "      <td>2024-12-09 03:33:33</td>\n",
       "      <td>Malé tečky světla by Zuzana Švédová</td>\n",
       "      <td>4.67</td>\n",
       "      <td>3.0</td>\n",
       "      <td>0.0</td>\n",
       "      <td>November 20, 2023</td>\n",
       "      <td>0.0</td>\n",
       "      <td>0.0</td>\n",
       "      <td>0.0</td>\n",
       "      <td>1.0</td>\n",
       "      <td>2.0</td>\n",
       "      <td>192.0</td>\n",
       "      <td>hardcover</td>\n",
       "    </tr>\n",
       "    <tr>\n",
       "      <th>25817</th>\n",
       "      <td>9780745347400</td>\n",
       "      <td>2024-12-09 03:33:41</td>\n",
       "      <td>The Paradox of Svalbard: Climate Change and Gl...</td>\n",
       "      <td>4.18</td>\n",
       "      <td>22.0</td>\n",
       "      <td>1.0</td>\n",
       "      <td>July 20, 2023</td>\n",
       "      <td>0.0</td>\n",
       "      <td>1.0</td>\n",
       "      <td>4.0</td>\n",
       "      <td>7.0</td>\n",
       "      <td>10.0</td>\n",
       "      <td>232.0</td>\n",
       "      <td>paperback</td>\n",
       "    </tr>\n",
       "    <tr>\n",
       "      <th>25818</th>\n",
       "      <td>https://www.goodreads.com/book/show/221241627-...</td>\n",
       "      <td>2024-12-09 09:52:29</td>\n",
       "      <td>Flora by Jonáš Zbořil</td>\n",
       "      <td>4.57</td>\n",
       "      <td>63.0</td>\n",
       "      <td>8.0</td>\n",
       "      <td>January 1, 2024</td>\n",
       "      <td>0.0</td>\n",
       "      <td>0.0</td>\n",
       "      <td>5.0</td>\n",
       "      <td>17.0</td>\n",
       "      <td>41.0</td>\n",
       "      <td>168.0</td>\n",
       "      <td>paperback</td>\n",
       "    </tr>\n",
       "  </tbody>\n",
       "</table>\n",
       "<p>25819 rows × 14 columns</p>\n",
       "</div>"
      ],
      "text/plain": [
       "                                                 GR_isbn             GR_date  \\\n",
       "0                                          9788075884374 2024-04-08 00:00:27   \n",
       "1                                          9788088067757 2024-04-08 00:00:30   \n",
       "2                                          9788072444816 2024-04-08 00:00:34   \n",
       "3                                          9788027801145 2024-04-08 00:00:39   \n",
       "4                                          9788081116148 2024-04-08 00:00:44   \n",
       "...                                                  ...                 ...   \n",
       "25814                                      9788088482116 2024-12-09 03:33:23   \n",
       "25815                                      9788027150854 2024-12-09 03:33:25   \n",
       "25816                                      9788027150380 2024-12-09 03:33:33   \n",
       "25817                                      9780745347400 2024-12-09 03:33:41   \n",
       "25818  https://www.goodreads.com/book/show/221241627-... 2024-12-09 09:52:29   \n",
       "\n",
       "                                                GR_title  GR_rating  \\\n",
       "0      Stará béčková legenda (Stará béčková legenda, ...       4.15   \n",
       "1                Není nebe nad Mexikem by Michal Březina       3.40   \n",
       "2                     Město nad městem by Lucie Brejšová       4.64   \n",
       "3                         Prázdnota by Michaela Merglová       3.66   \n",
       "4                     „Jmenuji se Eva…“ by Jana Mirovská       4.43   \n",
       "...                                                  ...        ...   \n",
       "25814        Tak akorát čas jít domů by Xerodoth Sigmius       1.00   \n",
       "25815   Lovci lidí: Revizorské humoresky by Vladimír Dyk       4.00   \n",
       "25816                Malé tečky světla by Zuzana Švédová       4.67   \n",
       "25817  The Paradox of Svalbard: Climate Change and Gl...       4.18   \n",
       "25818                              Flora by Jonáš Zbořil       4.57   \n",
       "\n",
       "       GR_ratings_count  GR_reviews       GR_published  GR_1_stars  \\\n",
       "0                  20.0         6.0      April 3, 2023         NaN   \n",
       "1                   5.0         1.0      April 3, 2023         NaN   \n",
       "2                  14.0         7.0        May 9, 2023         NaN   \n",
       "3                  32.0        13.0    January 1, 2023         NaN   \n",
       "4                   7.0         3.0    January 1, 2023         NaN   \n",
       "...                 ...         ...                ...         ...   \n",
       "25814               1.0         0.0    January 1, 2023         1.0   \n",
       "25815               1.0         0.0      July 13, 2023         0.0   \n",
       "25816               3.0         0.0  November 20, 2023         0.0   \n",
       "25817              22.0         1.0      July 20, 2023         0.0   \n",
       "25818              63.0         8.0    January 1, 2024         0.0   \n",
       "\n",
       "       GR_2_stars  GR_3_stars  GR_4_stars  GR_5_stars  GR_pages  GR_format  \n",
       "0             NaN         NaN         NaN         NaN       NaN        NaN  \n",
       "1             NaN         NaN         NaN         NaN       NaN        NaN  \n",
       "2             NaN         NaN         NaN         NaN       NaN        NaN  \n",
       "3             NaN         NaN         NaN         NaN       NaN        NaN  \n",
       "4             NaN         NaN         NaN         NaN       NaN        NaN  \n",
       "...           ...         ...         ...         ...       ...        ...  \n",
       "25814         0.0         0.0         0.0         0.0      66.0  paperback  \n",
       "25815         0.0         0.0         1.0         0.0     108.0  hardcover  \n",
       "25816         0.0         0.0         1.0         2.0     192.0  hardcover  \n",
       "25817         1.0         4.0         7.0        10.0     232.0  paperback  \n",
       "25818         0.0         5.0        17.0        41.0     168.0  paperback  \n",
       "\n",
       "[25819 rows x 14 columns]"
      ]
     },
     "execution_count": 42,
     "metadata": {},
     "output_type": "execute_result"
    }
   ],
   "source": [
    "gr"
   ]
  },
  {
   "cell_type": "code",
   "execution_count": 43,
   "id": "39319fe5",
   "metadata": {},
   "outputs": [],
   "source": [
    "prvni = gr.groupby('GR_title')['GR_date'].min()\n",
    "prvni = prvni[prvni < '2024-04-22']\n",
    "prvni = prvni.index.to_list()"
   ]
  },
  {
   "cell_type": "code",
   "execution_count": 44,
   "id": "463cc27b",
   "metadata": {},
   "outputs": [
    {
     "data": {
      "text/html": [
       "<div>\n",
       "<style scoped>\n",
       "    .dataframe tbody tr th:only-of-type {\n",
       "        vertical-align: middle;\n",
       "    }\n",
       "\n",
       "    .dataframe tbody tr th {\n",
       "        vertical-align: top;\n",
       "    }\n",
       "\n",
       "    .dataframe thead th {\n",
       "        text-align: right;\n",
       "    }\n",
       "</style>\n",
       "<table border=\"1\" class=\"dataframe\">\n",
       "  <thead>\n",
       "    <tr style=\"text-align: right;\">\n",
       "      <th></th>\n",
       "      <th>GR_date</th>\n",
       "      <th>GR_title</th>\n",
       "      <th>GR_rating</th>\n",
       "      <th>GR_ratings_count</th>\n",
       "    </tr>\n",
       "  </thead>\n",
       "  <tbody>\n",
       "    <tr>\n",
       "      <th>519</th>\n",
       "      <td>2024-04-22 02:00:14</td>\n",
       "      <td>Sochař by Artur Janoušek</td>\n",
       "      <td>3.25</td>\n",
       "      <td>4.0</td>\n",
       "    </tr>\n",
       "    <tr>\n",
       "      <th>520</th>\n",
       "      <td>2024-04-22 02:00:17</td>\n",
       "      <td>I smutek byl jen sen. Poezie Josefa Kocourka b...</td>\n",
       "      <td>4.00</td>\n",
       "      <td>1.0</td>\n",
       "    </tr>\n",
       "    <tr>\n",
       "      <th>521</th>\n",
       "      <td>2024-04-22 02:00:19</td>\n",
       "      <td>Hranice zvrhlosti by Jan  Urban</td>\n",
       "      <td>3.29</td>\n",
       "      <td>14.0</td>\n",
       "    </tr>\n",
       "    <tr>\n",
       "      <th>522</th>\n",
       "      <td>2024-04-22 02:00:22</td>\n",
       "      <td>Z pera knihomolů: 11 povídek od českých a slov...</td>\n",
       "      <td>3.85</td>\n",
       "      <td>144.0</td>\n",
       "    </tr>\n",
       "    <tr>\n",
       "      <th>577</th>\n",
       "      <td>2024-04-22 02:05:37</td>\n",
       "      <td>Výstava chameleonů by Filip Mikuš</td>\n",
       "      <td>5.00</td>\n",
       "      <td>1.0</td>\n",
       "    </tr>\n",
       "    <tr>\n",
       "      <th>...</th>\n",
       "      <td>...</td>\n",
       "      <td>...</td>\n",
       "      <td>...</td>\n",
       "      <td>...</td>\n",
       "    </tr>\n",
       "    <tr>\n",
       "      <th>25811</th>\n",
       "      <td>2024-12-09 03:33:11</td>\n",
       "      <td>Písmem mojí přítelkyně by Barbora Linke</td>\n",
       "      <td>5.00</td>\n",
       "      <td>1.0</td>\n",
       "    </tr>\n",
       "    <tr>\n",
       "      <th>25812</th>\n",
       "      <td>2024-12-09 03:33:18</td>\n",
       "      <td>Pod letní oblohou by Šárka Hieková</td>\n",
       "      <td>3.00</td>\n",
       "      <td>1.0</td>\n",
       "    </tr>\n",
       "    <tr>\n",
       "      <th>25813</th>\n",
       "      <td>2024-12-09 03:33:21</td>\n",
       "      <td>Výměna by Alisek</td>\n",
       "      <td>3.00</td>\n",
       "      <td>1.0</td>\n",
       "    </tr>\n",
       "    <tr>\n",
       "      <th>25815</th>\n",
       "      <td>2024-12-09 03:33:25</td>\n",
       "      <td>Lovci lidí: Revizorské humoresky by Vladimír Dyk</td>\n",
       "      <td>4.00</td>\n",
       "      <td>1.0</td>\n",
       "    </tr>\n",
       "    <tr>\n",
       "      <th>25818</th>\n",
       "      <td>2024-12-09 09:52:29</td>\n",
       "      <td>Flora by Jonáš Zbořil</td>\n",
       "      <td>4.57</td>\n",
       "      <td>63.0</td>\n",
       "    </tr>\n",
       "  </tbody>\n",
       "</table>\n",
       "<p>8624 rows × 4 columns</p>\n",
       "</div>"
      ],
      "text/plain": [
       "                  GR_date                                           GR_title  \\\n",
       "519   2024-04-22 02:00:14                           Sochař by Artur Janoušek   \n",
       "520   2024-04-22 02:00:17  I smutek byl jen sen. Poezie Josefa Kocourka b...   \n",
       "521   2024-04-22 02:00:19                    Hranice zvrhlosti by Jan  Urban   \n",
       "522   2024-04-22 02:00:22  Z pera knihomolů: 11 povídek od českých a slov...   \n",
       "577   2024-04-22 02:05:37                  Výstava chameleonů by Filip Mikuš   \n",
       "...                   ...                                                ...   \n",
       "25811 2024-12-09 03:33:11            Písmem mojí přítelkyně by Barbora Linke   \n",
       "25812 2024-12-09 03:33:18                 Pod letní oblohou by Šárka Hieková   \n",
       "25813 2024-12-09 03:33:21                                   Výměna by Alisek   \n",
       "25815 2024-12-09 03:33:25   Lovci lidí: Revizorské humoresky by Vladimír Dyk   \n",
       "25818 2024-12-09 09:52:29                              Flora by Jonáš Zbořil   \n",
       "\n",
       "       GR_rating  GR_ratings_count  \n",
       "519         3.25               4.0  \n",
       "520         4.00               1.0  \n",
       "521         3.29              14.0  \n",
       "522         3.85             144.0  \n",
       "577         5.00               1.0  \n",
       "...          ...               ...  \n",
       "25811       5.00               1.0  \n",
       "25812       3.00               1.0  \n",
       "25813       3.00               1.0  \n",
       "25815       4.00               1.0  \n",
       "25818       4.57              63.0  \n",
       "\n",
       "[8624 rows x 4 columns]"
      ]
     },
     "execution_count": 44,
     "metadata": {},
     "output_type": "execute_result"
    }
   ],
   "source": [
    "pocitaci_zaklad = gr[~gr['GR_title'].isin(prvni)][['GR_date','GR_title','GR_rating','GR_ratings_count']].sort_values(by='GR_date')\n",
    "pocitaci_zaklad"
   ]
  },
  {
   "cell_type": "code",
   "execution_count": 45,
   "id": "05ff87c9",
   "metadata": {},
   "outputs": [],
   "source": [
    "pocitaci_zaklad['tydnu'] = pocitaci_zaklad.groupby('GR_title').cumcount() + 1"
   ]
  },
  {
   "cell_type": "code",
   "execution_count": 46,
   "id": "2e1cda41",
   "metadata": {},
   "outputs": [
    {
     "data": {
      "text/html": [
       "<div>\n",
       "<style scoped>\n",
       "    .dataframe tbody tr th:only-of-type {\n",
       "        vertical-align: middle;\n",
       "    }\n",
       "\n",
       "    .dataframe tbody tr th {\n",
       "        vertical-align: top;\n",
       "    }\n",
       "\n",
       "    .dataframe thead th {\n",
       "        text-align: right;\n",
       "    }\n",
       "</style>\n",
       "<table border=\"1\" class=\"dataframe\">\n",
       "  <thead>\n",
       "    <tr style=\"text-align: right;\">\n",
       "      <th></th>\n",
       "      <th>GR_date</th>\n",
       "      <th>GR_title</th>\n",
       "      <th>GR_rating</th>\n",
       "      <th>GR_ratings_count</th>\n",
       "      <th>tydnu</th>\n",
       "    </tr>\n",
       "  </thead>\n",
       "  <tbody>\n",
       "    <tr>\n",
       "      <th>519</th>\n",
       "      <td>2024-04-22 02:00:14</td>\n",
       "      <td>Sochař by Artur Janoušek</td>\n",
       "      <td>3.25</td>\n",
       "      <td>4.0</td>\n",
       "      <td>1</td>\n",
       "    </tr>\n",
       "    <tr>\n",
       "      <th>15890</th>\n",
       "      <td>2024-09-30 02:01:24</td>\n",
       "      <td>Jako liči by Tereza Navrátila</td>\n",
       "      <td>4.13</td>\n",
       "      <td>8.0</td>\n",
       "      <td>1</td>\n",
       "    </tr>\n",
       "    <tr>\n",
       "      <th>15887</th>\n",
       "      <td>2024-09-30 02:01:05</td>\n",
       "      <td>Chladný král by Michala Vera Jírová</td>\n",
       "      <td>3.33</td>\n",
       "      <td>46.0</td>\n",
       "      <td>1</td>\n",
       "    </tr>\n",
       "    <tr>\n",
       "      <th>15886</th>\n",
       "      <td>2024-09-30 02:01:01</td>\n",
       "      <td>Dotýkej se mámy, dokud je živá ... by Monika R...</td>\n",
       "      <td>0.00</td>\n",
       "      <td>0.0</td>\n",
       "      <td>1</td>\n",
       "    </tr>\n",
       "    <tr>\n",
       "      <th>15883</th>\n",
       "      <td>2024-09-30 02:00:38</td>\n",
       "      <td>Rodinné poklady by Pavla Trnková</td>\n",
       "      <td>4.00</td>\n",
       "      <td>2.0</td>\n",
       "      <td>1</td>\n",
       "    </tr>\n",
       "    <tr>\n",
       "      <th>...</th>\n",
       "      <td>...</td>\n",
       "      <td>...</td>\n",
       "      <td>...</td>\n",
       "      <td>...</td>\n",
       "      <td>...</td>\n",
       "    </tr>\n",
       "    <tr>\n",
       "      <th>25493</th>\n",
       "      <td>2024-12-09 02:46:04</td>\n",
       "      <td>Psycholožky v županu by Tereza Beníčková</td>\n",
       "      <td>3.71</td>\n",
       "      <td>7.0</td>\n",
       "      <td>33</td>\n",
       "    </tr>\n",
       "    <tr>\n",
       "      <th>25781</th>\n",
       "      <td>2024-12-09 03:28:13</td>\n",
       "      <td>Výstava chameleonů by Filip Mikuš</td>\n",
       "      <td>3.67</td>\n",
       "      <td>3.0</td>\n",
       "      <td>33</td>\n",
       "    </tr>\n",
       "    <tr>\n",
       "      <th>25499</th>\n",
       "      <td>2024-12-09 02:46:34</td>\n",
       "      <td>Jaroslav Róna: apokalypsy a vize by Barbora Pu...</td>\n",
       "      <td>4.00</td>\n",
       "      <td>1.0</td>\n",
       "      <td>33</td>\n",
       "    </tr>\n",
       "    <tr>\n",
       "      <th>24886</th>\n",
       "      <td>2024-12-09 01:27:06</td>\n",
       "      <td>Manuál běžce by Pavel Červinka</td>\n",
       "      <td>3.00</td>\n",
       "      <td>2.0</td>\n",
       "      <td>33</td>\n",
       "    </tr>\n",
       "    <tr>\n",
       "      <th>24810</th>\n",
       "      <td>2024-12-09 01:19:24</td>\n",
       "      <td>Hranice zvrhlosti by Jan  Urban</td>\n",
       "      <td>3.22</td>\n",
       "      <td>23.0</td>\n",
       "      <td>33</td>\n",
       "    </tr>\n",
       "  </tbody>\n",
       "</table>\n",
       "<p>8624 rows × 5 columns</p>\n",
       "</div>"
      ],
      "text/plain": [
       "                  GR_date                                           GR_title  \\\n",
       "519   2024-04-22 02:00:14                           Sochař by Artur Janoušek   \n",
       "15890 2024-09-30 02:01:24                      Jako liči by Tereza Navrátila   \n",
       "15887 2024-09-30 02:01:05                Chladný král by Michala Vera Jírová   \n",
       "15886 2024-09-30 02:01:01  Dotýkej se mámy, dokud je živá ... by Monika R...   \n",
       "15883 2024-09-30 02:00:38                   Rodinné poklady by Pavla Trnková   \n",
       "...                   ...                                                ...   \n",
       "25493 2024-12-09 02:46:04           Psycholožky v županu by Tereza Beníčková   \n",
       "25781 2024-12-09 03:28:13                  Výstava chameleonů by Filip Mikuš   \n",
       "25499 2024-12-09 02:46:34  Jaroslav Róna: apokalypsy a vize by Barbora Pu...   \n",
       "24886 2024-12-09 01:27:06                     Manuál běžce by Pavel Červinka   \n",
       "24810 2024-12-09 01:19:24                    Hranice zvrhlosti by Jan  Urban   \n",
       "\n",
       "       GR_rating  GR_ratings_count  tydnu  \n",
       "519         3.25               4.0      1  \n",
       "15890       4.13               8.0      1  \n",
       "15887       3.33              46.0      1  \n",
       "15886       0.00               0.0      1  \n",
       "15883       4.00               2.0      1  \n",
       "...          ...               ...    ...  \n",
       "25493       3.71               7.0     33  \n",
       "25781       3.67               3.0     33  \n",
       "25499       4.00               1.0     33  \n",
       "24886       3.00               2.0     33  \n",
       "24810       3.22              23.0     33  \n",
       "\n",
       "[8624 rows x 5 columns]"
      ]
     },
     "execution_count": 46,
     "metadata": {},
     "output_type": "execute_result"
    }
   ],
   "source": [
    "pocitaci_zaklad.sort_values(by=\"tydnu\")"
   ]
  },
  {
   "cell_type": "code",
   "execution_count": 47,
   "id": "be83c913",
   "metadata": {},
   "outputs": [
    {
     "data": {
      "text/plain": [
       "<Axes: xlabel='tydnu'>"
      ]
     },
     "execution_count": 47,
     "metadata": {},
     "output_type": "execute_result"
    },
    {
     "data": {
      "image/png": "[encoded data removed]",
      "text/plain": [
       "<Figure size 640x480 with 1 Axes>"
      ]
     },
     "metadata": {},
     "output_type": "display_data"
    }
   ],
   "source": [
    "pocitaci_zaklad.groupby('tydnu')['GR_ratings_count'].mean().plot.bar()"
   ]
  },
  {
   "cell_type": "code",
   "execution_count": 48,
   "id": "ecdbc3c1",
   "metadata": {},
   "outputs": [
    {
     "data": {
      "text/plain": [
       "<Axes: xlabel='tydnu'>"
      ]
     },
     "execution_count": 48,
     "metadata": {},
     "output_type": "execute_result"
    },
    {
     "data": {
      "image/png": "[encoded data removed]",
      "text/plain": [
       "<Figure size 640x480 with 1 Axes>"
      ]
     },
     "metadata": {},
     "output_type": "display_data"
    }
   ],
   "source": [
    "pocitaci_zaklad.groupby('tydnu')['GR_rating'].median().plot.bar()"
   ]
  },
  {
   "cell_type": "code",
   "execution_count": 49,
   "id": "43dd4c0d",
   "metadata": {},
   "outputs": [],
   "source": [
    "import matplotlib.pyplot as plt\n"
   ]
  },
  {
   "cell_type": "code",
   "execution_count": 50,
   "id": "1fbb8efc",
   "metadata": {},
   "outputs": [
    {
     "data": {
      "text/plain": [
       "<Axes: title={'center': 'GR_ratings_count'}, xlabel='tydnu'>"
      ]
     },
     "execution_count": 50,
     "metadata": {},
     "output_type": "execute_result"
    },
    {
     "data": {
      "image/png": "[encoded data removed]",
      "text/plain": [
       "<Figure size 640x480 with 1 Axes>"
      ]
     },
     "metadata": {},
     "output_type": "display_data"
    }
   ],
   "source": [
    "pocitaci_zaklad.boxplot(column='GR_ratings_count', by='tydnu')"
   ]
  },
  {
   "cell_type": "markdown",
   "id": "00ef5a27",
   "metadata": {},
   "source": [
    "## Databáze knih"
   ]
  },
  {
   "cell_type": "code",
   "execution_count": 52,
   "id": "94bc6530",
   "metadata": {},
   "outputs": [],
   "source": [
    "x = pd.read_json(os.path.join(\"data\",\"martinus_vyslo.json\"))"
   ]
  },
  {
   "cell_type": "code",
   "execution_count": 53,
   "id": "6cad8f8f",
   "metadata": {},
   "outputs": [
    {
     "data": {
      "text/html": [
       "<div>\n",
       "<style scoped>\n",
       "    .dataframe tbody tr th:only-of-type {\n",
       "        vertical-align: middle;\n",
       "    }\n",
       "\n",
       "    .dataframe tbody tr th {\n",
       "        vertical-align: top;\n",
       "    }\n",
       "\n",
       "    .dataframe thead th {\n",
       "        text-align: right;\n",
       "    }\n",
       "</style>\n",
       "<table border=\"1\" class=\"dataframe\">\n",
       "  <thead>\n",
       "    <tr style=\"text-align: right;\">\n",
       "      <th></th>\n",
       "      <th>M_titul</th>\n",
       "      <th>M_autorstvo</th>\n",
       "      <th>M_anotace</th>\n",
       "      <th>M_podtitul</th>\n",
       "      <th>M_tagy</th>\n",
       "      <th>M_počet_stran</th>\n",
       "      <th>M_vazba</th>\n",
       "      <th>M_rozměr</th>\n",
       "      <th>M_hmotnost</th>\n",
       "      <th>M_isbn</th>\n",
       "      <th>...</th>\n",
       "      <th>M_překlad</th>\n",
       "      <th>M_série</th>\n",
       "      <th>M_díl</th>\n",
       "      <th>M_věkové_doporučení</th>\n",
       "      <th>M_styl</th>\n",
       "      <th>M_účel_knihy</th>\n",
       "      <th>M_ostatní</th>\n",
       "      <th>M_příloha</th>\n",
       "      <th>M_jazyková_úroveň</th>\n",
       "      <th>M_knižní_předloha</th>\n",
       "    </tr>\n",
       "  </thead>\n",
       "  <tbody>\n",
       "    <tr>\n",
       "      <th>0</th>\n",
       "      <td>Score\\n            Novinka</td>\n",
       "      <td>Marcy Jell</td>\n",
       "      <td>Rafaela:\\n Všichni předpokládají, že se mám ja...</td>\n",
       "      <td>None</td>\n",
       "      <td>romantika</td>\n",
       "      <td>200.0</td>\n",
       "      <td>brožovaná vazba</td>\n",
       "      <td>None</td>\n",
       "      <td>None</td>\n",
       "      <td>9788053005999</td>\n",
       "      <td>...</td>\n",
       "      <td>None</td>\n",
       "      <td>None</td>\n",
       "      <td>NaN</td>\n",
       "      <td>NaN</td>\n",
       "      <td>romantický</td>\n",
       "      <td>None</td>\n",
       "      <td>None</td>\n",
       "      <td>None</td>\n",
       "      <td>None</td>\n",
       "      <td>None</td>\n",
       "    </tr>\n",
       "    <tr>\n",
       "      <th>1</th>\n",
       "      <td>V nefritové kleci\\n            Novinka</td>\n",
       "      <td>Jakub Mařík</td>\n",
       "      <td>SBÍRKA KRATŠÍCH PŘÍBĚHŮ ZE SVĚTA AKČNÍ SCI-FI ...</td>\n",
       "      <td>None</td>\n",
       "      <td>[krvavé bitvy, vesmír, nebezpečné tajemství, v...</td>\n",
       "      <td>464.0</td>\n",
       "      <td>brožovaná vazba</td>\n",
       "      <td>149×205 mm</td>\n",
       "      <td>594 g</td>\n",
       "      <td>9788075887368</td>\n",
       "      <td>...</td>\n",
       "      <td>None</td>\n",
       "      <td>UTSS Salamis</td>\n",
       "      <td>6.0</td>\n",
       "      <td>NaN</td>\n",
       "      <td>[mysteriózní, dobrodružný, napínavý]</td>\n",
       "      <td>None</td>\n",
       "      <td>None</td>\n",
       "      <td>None</td>\n",
       "      <td>None</td>\n",
       "      <td>None</td>\n",
       "    </tr>\n",
       "    <tr>\n",
       "      <th>2</th>\n",
       "      <td>Zmizení nenápadné účetní - Krimi 4/24\\n       ...</td>\n",
       "      <td>[]</td>\n",
       "      <td>Skutečné případy.</td>\n",
       "      <td>None</td>\n",
       "      <td>[krimi, skutečné příběhy]</td>\n",
       "      <td>144.0</td>\n",
       "      <td>brožovaná vazba</td>\n",
       "      <td>119×189 mm</td>\n",
       "      <td>102 g</td>\n",
       "      <td>9788072225514</td>\n",
       "      <td>...</td>\n",
       "      <td>None</td>\n",
       "      <td>Krimi 2024</td>\n",
       "      <td>4.0</td>\n",
       "      <td>NaN</td>\n",
       "      <td>napínavý</td>\n",
       "      <td>None</td>\n",
       "      <td>None</td>\n",
       "      <td>None</td>\n",
       "      <td>None</td>\n",
       "      <td>None</td>\n",
       "    </tr>\n",
       "    <tr>\n",
       "      <th>3</th>\n",
       "      <td>Paralelní světy\\n            Novinka</td>\n",
       "      <td>Jenny Naomi</td>\n",
       "      <td>Čekal jsem smrt, jenomže namísto ní přišlo vyh...</td>\n",
       "      <td>Poslední potomek</td>\n",
       "      <td>[paralelní svět, fantasy, svět]</td>\n",
       "      <td>NaN</td>\n",
       "      <td>brožovaná vazba</td>\n",
       "      <td>215×155 mm</td>\n",
       "      <td>None</td>\n",
       "      <td>9788088652854</td>\n",
       "      <td>...</td>\n",
       "      <td>None</td>\n",
       "      <td>None</td>\n",
       "      <td>NaN</td>\n",
       "      <td>NaN</td>\n",
       "      <td>mysteriózní</td>\n",
       "      <td>None</td>\n",
       "      <td>None</td>\n",
       "      <td>None</td>\n",
       "      <td>None</td>\n",
       "      <td>None</td>\n",
       "    </tr>\n",
       "    <tr>\n",
       "      <th>4</th>\n",
       "      <td>Kacířské vinobraní\\n            Novinka</td>\n",
       "      <td>Josef Holcman</td>\n",
       "      <td>Josef Holcman, autor knih Týden co týden (2001...</td>\n",
       "      <td>None</td>\n",
       "      <td>příroda</td>\n",
       "      <td>136.0</td>\n",
       "      <td>brožovaná vazba</td>\n",
       "      <td>144×210 mm</td>\n",
       "      <td>None</td>\n",
       "      <td>9788027153923</td>\n",
       "      <td>...</td>\n",
       "      <td>None</td>\n",
       "      <td>None</td>\n",
       "      <td>NaN</td>\n",
       "      <td>NaN</td>\n",
       "      <td>cestopisný</td>\n",
       "      <td>None</td>\n",
       "      <td>None</td>\n",
       "      <td>None</td>\n",
       "      <td>None</td>\n",
       "      <td>None</td>\n",
       "    </tr>\n",
       "    <tr>\n",
       "      <th>...</th>\n",
       "      <td>...</td>\n",
       "      <td>...</td>\n",
       "      <td>...</td>\n",
       "      <td>...</td>\n",
       "      <td>...</td>\n",
       "      <td>...</td>\n",
       "      <td>...</td>\n",
       "      <td>...</td>\n",
       "      <td>...</td>\n",
       "      <td>...</td>\n",
       "      <td>...</td>\n",
       "      <td>...</td>\n",
       "      <td>...</td>\n",
       "      <td>...</td>\n",
       "      <td>...</td>\n",
       "      <td>...</td>\n",
       "      <td>...</td>\n",
       "      <td>...</td>\n",
       "      <td>...</td>\n",
       "      <td>...</td>\n",
       "      <td>...</td>\n",
       "    </tr>\n",
       "    <tr>\n",
       "      <th>12703</th>\n",
       "      <td>Báječná léta pod psa</td>\n",
       "      <td>Michal Viewegh</td>\n",
       "      <td>Moderní klasika z pera populárního spisovatele...</td>\n",
       "      <td>None</td>\n",
       "      <td>[Česko, Československo, 20. století, satira, p...</td>\n",
       "      <td>264.0</td>\n",
       "      <td>pevná vazba</td>\n",
       "      <td>146×185 mm</td>\n",
       "      <td>436 g</td>\n",
       "      <td>9788024936802</td>\n",
       "      <td>...</td>\n",
       "      <td>None</td>\n",
       "      <td>None</td>\n",
       "      <td>NaN</td>\n",
       "      <td>NaN</td>\n",
       "      <td>[duchovní, humorný, filozofický]</td>\n",
       "      <td>None</td>\n",
       "      <td>None</td>\n",
       "      <td>None</td>\n",
       "      <td>None</td>\n",
       "      <td>None</td>\n",
       "    </tr>\n",
       "    <tr>\n",
       "      <th>12704</th>\n",
       "      <td>Europeana</td>\n",
       "      <td>Patrik Ouředník</td>\n",
       "      <td>Co je pravda? Historická pravda? Literární pra...</td>\n",
       "      <td>Stručné dějiny dvacátého věku</td>\n",
       "      <td>None</td>\n",
       "      <td>100.0</td>\n",
       "      <td>pevná vazba</td>\n",
       "      <td>130×210 mm</td>\n",
       "      <td>224 g</td>\n",
       "      <td>9788072078325</td>\n",
       "      <td>...</td>\n",
       "      <td>None</td>\n",
       "      <td>None</td>\n",
       "      <td>NaN</td>\n",
       "      <td>NaN</td>\n",
       "      <td>None</td>\n",
       "      <td>None</td>\n",
       "      <td>None</td>\n",
       "      <td>None</td>\n",
       "      <td>None</td>\n",
       "      <td>None</td>\n",
       "    </tr>\n",
       "    <tr>\n",
       "      <th>12705</th>\n",
       "      <td>Zbabělci</td>\n",
       "      <td>Josef Škvorecký</td>\n",
       "      <td>Dnes už kultovní a také světově proslulý román...</td>\n",
       "      <td>None</td>\n",
       "      <td>[historické události, duše dospívajícího, 1945...</td>\n",
       "      <td>432.0</td>\n",
       "      <td>pevná vazba</td>\n",
       "      <td>139×204 mm</td>\n",
       "      <td>557 g</td>\n",
       "      <td>9788073354008</td>\n",
       "      <td>...</td>\n",
       "      <td>None</td>\n",
       "      <td>Danny Smiřický</td>\n",
       "      <td>1.0</td>\n",
       "      <td>NaN</td>\n",
       "      <td>historický</td>\n",
       "      <td>None</td>\n",
       "      <td>None</td>\n",
       "      <td>None</td>\n",
       "      <td>None</td>\n",
       "      <td>None</td>\n",
       "    </tr>\n",
       "    <tr>\n",
       "      <th>12706</th>\n",
       "      <td>Teorie spolehlivosti</td>\n",
       "      <td>Ivan Diviš</td>\n",
       "      <td>Druhé rozšířené vydání. Rozsáhlá kniha krátkýc...</td>\n",
       "      <td>Texty z let 1960/1999</td>\n",
       "      <td>None</td>\n",
       "      <td>712.0</td>\n",
       "      <td>pevná vazba</td>\n",
       "      <td>140×200 mm</td>\n",
       "      <td>26 g</td>\n",
       "      <td>8072151614</td>\n",
       "      <td>...</td>\n",
       "      <td>None</td>\n",
       "      <td>None</td>\n",
       "      <td>NaN</td>\n",
       "      <td>NaN</td>\n",
       "      <td>None</td>\n",
       "      <td>None</td>\n",
       "      <td>None</td>\n",
       "      <td>None</td>\n",
       "      <td>None</td>\n",
       "      <td>None</td>\n",
       "    </tr>\n",
       "    <tr>\n",
       "      <th>12707</th>\n",
       "      <td>Konec prokrastinace</td>\n",
       "      <td>Petr Ludwig</td>\n",
       "      <td>Tento titul je dostupný také v Kolekci pro ner...</td>\n",
       "      <td>Jak přestat odkládat a začít žít naplno</td>\n",
       "      <td>[dosahování cílů, osobní rozvoj, úspěch, karié...</td>\n",
       "      <td>271.0</td>\n",
       "      <td>brožovaná vazba</td>\n",
       "      <td>153×153 mm</td>\n",
       "      <td>351 g</td>\n",
       "      <td>9788087270516</td>\n",
       "      <td>...</td>\n",
       "      <td>None</td>\n",
       "      <td>None</td>\n",
       "      <td>NaN</td>\n",
       "      <td>NaN</td>\n",
       "      <td>None</td>\n",
       "      <td>None</td>\n",
       "      <td>None</td>\n",
       "      <td>None</td>\n",
       "      <td>None</td>\n",
       "      <td>None</td>\n",
       "    </tr>\n",
       "  </tbody>\n",
       "</table>\n",
       "<p>12708 rows × 38 columns</p>\n",
       "</div>"
      ],
      "text/plain": [
       "                                                 M_titul      M_autorstvo  \\\n",
       "0                             Score\\n            Novinka       Marcy Jell   \n",
       "1                 V nefritové kleci\\n            Novinka      Jakub Mařík   \n",
       "2      Zmizení nenápadné účetní - Krimi 4/24\\n       ...               []   \n",
       "3                   Paralelní světy\\n            Novinka      Jenny Naomi   \n",
       "4                Kacířské vinobraní\\n            Novinka    Josef Holcman   \n",
       "...                                                  ...              ...   \n",
       "12703                               Báječná léta pod psa   Michal Viewegh   \n",
       "12704                                          Europeana  Patrik Ouředník   \n",
       "12705                                           Zbabělci  Josef Škvorecký   \n",
       "12706                               Teorie spolehlivosti       Ivan Diviš   \n",
       "12707                                Konec prokrastinace      Petr Ludwig   \n",
       "\n",
       "                                               M_anotace  \\\n",
       "0      Rafaela:\\n Všichni předpokládají, že se mám ja...   \n",
       "1      SBÍRKA KRATŠÍCH PŘÍBĚHŮ ZE SVĚTA AKČNÍ SCI-FI ...   \n",
       "2                                      Skutečné případy.   \n",
       "3      Čekal jsem smrt, jenomže namísto ní přišlo vyh...   \n",
       "4      Josef Holcman, autor knih Týden co týden (2001...   \n",
       "...                                                  ...   \n",
       "12703  Moderní klasika z pera populárního spisovatele...   \n",
       "12704  Co je pravda? Historická pravda? Literární pra...   \n",
       "12705  Dnes už kultovní a také světově proslulý román...   \n",
       "12706  Druhé rozšířené vydání. Rozsáhlá kniha krátkýc...   \n",
       "12707  Tento titul je dostupný také v Kolekci pro ner...   \n",
       "\n",
       "                                    M_podtitul  \\\n",
       "0                                         None   \n",
       "1                                         None   \n",
       "2                                         None   \n",
       "3                             Poslední potomek   \n",
       "4                                         None   \n",
       "...                                        ...   \n",
       "12703                                     None   \n",
       "12704            Stručné dějiny dvacátého věku   \n",
       "12705                                     None   \n",
       "12706                    Texty z let 1960/1999   \n",
       "12707  Jak přestat odkládat a začít žít naplno   \n",
       "\n",
       "                                                  M_tagy  M_počet_stran  \\\n",
       "0                                              romantika          200.0   \n",
       "1      [krvavé bitvy, vesmír, nebezpečné tajemství, v...          464.0   \n",
       "2                              [krimi, skutečné příběhy]          144.0   \n",
       "3                        [paralelní svět, fantasy, svět]            NaN   \n",
       "4                                                příroda          136.0   \n",
       "...                                                  ...            ...   \n",
       "12703  [Česko, Československo, 20. století, satira, p...          264.0   \n",
       "12704                                               None          100.0   \n",
       "12705  [historické události, duše dospívajícího, 1945...          432.0   \n",
       "12706                                               None          712.0   \n",
       "12707  [dosahování cílů, osobní rozvoj, úspěch, karié...          271.0   \n",
       "\n",
       "               M_vazba    M_rozměr M_hmotnost         M_isbn  ...  M_překlad  \\\n",
       "0      brožovaná vazba        None       None  9788053005999  ...       None   \n",
       "1      brožovaná vazba  149×205 mm      594 g  9788075887368  ...       None   \n",
       "2      brožovaná vazba  119×189 mm      102 g  9788072225514  ...       None   \n",
       "3      brožovaná vazba  215×155 mm       None  9788088652854  ...       None   \n",
       "4      brožovaná vazba  144×210 mm       None  9788027153923  ...       None   \n",
       "...                ...         ...        ...            ...  ...        ...   \n",
       "12703      pevná vazba  146×185 mm      436 g  9788024936802  ...       None   \n",
       "12704      pevná vazba  130×210 mm      224 g  9788072078325  ...       None   \n",
       "12705      pevná vazba  139×204 mm      557 g  9788073354008  ...       None   \n",
       "12706      pevná vazba  140×200 mm       26 g     8072151614  ...       None   \n",
       "12707  brožovaná vazba  153×153 mm      351 g  9788087270516  ...       None   \n",
       "\n",
       "              M_série M_díl M_věkové_doporučení  \\\n",
       "0                None   NaN                 NaN   \n",
       "1        UTSS Salamis   6.0                 NaN   \n",
       "2          Krimi 2024   4.0                 NaN   \n",
       "3                None   NaN                 NaN   \n",
       "4                None   NaN                 NaN   \n",
       "...               ...   ...                 ...   \n",
       "12703            None   NaN                 NaN   \n",
       "12704            None   NaN                 NaN   \n",
       "12705  Danny Smiřický   1.0                 NaN   \n",
       "12706            None   NaN                 NaN   \n",
       "12707            None   NaN                 NaN   \n",
       "\n",
       "                                     M_styl M_účel_knihy M_ostatní M_příloha  \\\n",
       "0                                romantický         None      None      None   \n",
       "1      [mysteriózní, dobrodružný, napínavý]         None      None      None   \n",
       "2                                  napínavý         None      None      None   \n",
       "3                               mysteriózní         None      None      None   \n",
       "4                                cestopisný         None      None      None   \n",
       "...                                     ...          ...       ...       ...   \n",
       "12703      [duchovní, humorný, filozofický]         None      None      None   \n",
       "12704                                  None         None      None      None   \n",
       "12705                            historický         None      None      None   \n",
       "12706                                  None         None      None      None   \n",
       "12707                                  None         None      None      None   \n",
       "\n",
       "      M_jazyková_úroveň M_knižní_předloha  \n",
       "0                  None              None  \n",
       "1                  None              None  \n",
       "2                  None              None  \n",
       "3                  None              None  \n",
       "4                  None              None  \n",
       "...                 ...               ...  \n",
       "12703              None              None  \n",
       "12704              None              None  \n",
       "12705              None              None  \n",
       "12706              None              None  \n",
       "12707              None              None  \n",
       "\n",
       "[12708 rows x 38 columns]"
      ]
     },
     "execution_count": 53,
     "metadata": {},
     "output_type": "execute_result"
    }
   ],
   "source": [
    "x"
   ]
  },
  {
   "cell_type": "code",
   "execution_count": 54,
   "id": "d189895d",
   "metadata": {},
   "outputs": [
    {
     "name": "stderr",
     "output_type": "stream",
     "text": [
      "C:\\Users\\micha\\AppData\\Local\\Temp\\ipykernel_27576\\1836397398.py:1: DtypeWarning: Columns (14) have mixed types. Specify dtype option on import or set low_memory=False.\n",
      "  dk = pd.read_csv(os.path.join(\"data\",\"databazeknih-hodnoceni.csv\"))\n"
     ]
    }
   ],
   "source": [
    "dk = pd.read_csv(os.path.join(\"data\",\"databazeknih-hodnoceni.csv\"))"
   ]
  },
  {
   "cell_type": "code",
   "execution_count": 55,
   "id": "aa9e81da-75b9-42ba-b67c-edc47c368c48",
   "metadata": {},
   "outputs": [
    {
     "data": {
      "text/plain": [
       "Index(['DK_isbn', 'DK_date', 'DK_titul', 'DK_rating', 'DK_ratings_count',\n",
       "       'DK_tags', 'DK_Právě_čtených', 'DK_Přečtených', 'DK_Čtenářské_výzvě',\n",
       "       'DK_Knihotéce', 'DK_Chystám_se_číst', 'DK_Chci_si_koupit',\n",
       "       'DK_dalších_seznamech', 'DK_Doporučených', 'DK_autorstvo', 'DK_vyslo',\n",
       "       'DK_Mé_knihovně'],\n",
       "      dtype='object')"
      ]
     },
     "execution_count": 55,
     "metadata": {},
     "output_type": "execute_result"
    }
   ],
   "source": [
    "dk.columns"
   ]
  },
  {
   "cell_type": "code",
   "execution_count": 56,
   "id": "344dd2af-1f39-4da2-8a3d-dd5aa18152d5",
   "metadata": {},
   "outputs": [
    {
     "data": {
      "text/plain": [
       "[9788074973178.0,\n",
       " 9788074973178.0,\n",
       " 9788074973178.0,\n",
       " 9788074973178.0,\n",
       " 9788074973178.0,\n",
       " 9788074973178.0,\n",
       " 9788074973178.0,\n",
       " 9788074973178.0,\n",
       " 9788074973178.0,\n",
       " 9788074973178.0,\n",
       " 9788074973178.0,\n",
       " 9788074973178.0]"
      ]
     },
     "execution_count": 56,
     "metadata": {},
     "output_type": "execute_result"
    }
   ],
   "source": [
    "dk[dk['DK_titul'].str.contains('Válka s')]['DK_isbn'].to_list()"
   ]
  },
  {
   "cell_type": "code",
   "execution_count": 57,
   "id": "c4f6292c-d74d-46a0-9448-2580eede609d",
   "metadata": {},
   "outputs": [],
   "source": [
    "    month_ago = pd.to_datetime(gr['GR_date'].max()) - datetime.timedelta(days=29)\n"
   ]
  },
  {
   "cell_type": "code",
   "execution_count": 58,
   "id": "1b38aa4b-aeca-4d88-8263-c27241984da6",
   "metadata": {},
   "outputs": [
    {
     "data": {
      "text/plain": [
       "0         48.0\n",
       "1        117.0\n",
       "2        612.0\n",
       "3         52.0\n",
       "4        246.0\n",
       "         ...  \n",
       "57429     13.0\n",
       "57430     11.0\n",
       "57431     20.0\n",
       "57432      NaN\n",
       "57433      6.0\n",
       "Name: skore, Length: 57434, dtype: float64"
      ]
     },
     "execution_count": 58,
     "metadata": {},
     "output_type": "execute_result"
    }
   ],
   "source": [
    "dk['skore'] = dk['DK_Chystám_se_číst'] + dk['DK_Přečtených']\n",
    "dk['skore']"
   ]
  },
  {
   "cell_type": "code",
   "execution_count": 59,
   "id": "83e1a886-bc14-4b14-b690-9e38d6ad3083",
   "metadata": {},
   "outputs": [
    {
     "data": {
      "text/html": [
       "<div>\n",
       "<style scoped>\n",
       "    .dataframe tbody tr th:only-of-type {\n",
       "        vertical-align: middle;\n",
       "    }\n",
       "\n",
       "    .dataframe tbody tr th {\n",
       "        vertical-align: top;\n",
       "    }\n",
       "\n",
       "    .dataframe thead th {\n",
       "        text-align: right;\n",
       "    }\n",
       "</style>\n",
       "<table border=\"1\" class=\"dataframe\">\n",
       "  <thead>\n",
       "    <tr style=\"text-align: right;\">\n",
       "      <th></th>\n",
       "      <th>DK_isbn</th>\n",
       "      <th>DK_date</th>\n",
       "      <th>DK_titul</th>\n",
       "      <th>DK_rating</th>\n",
       "      <th>DK_ratings_count</th>\n",
       "      <th>DK_tags</th>\n",
       "      <th>DK_Právě_čtených</th>\n",
       "      <th>DK_Přečtených</th>\n",
       "      <th>DK_Čtenářské_výzvě</th>\n",
       "      <th>DK_Knihotéce</th>\n",
       "      <th>DK_Chystám_se_číst</th>\n",
       "      <th>DK_Chci_si_koupit</th>\n",
       "      <th>DK_dalších_seznamech</th>\n",
       "      <th>DK_Doporučených</th>\n",
       "      <th>DK_autorstvo</th>\n",
       "      <th>DK_vyslo</th>\n",
       "      <th>DK_Mé_knihovně</th>\n",
       "      <th>skore</th>\n",
       "    </tr>\n",
       "  </thead>\n",
       "  <tbody>\n",
       "    <tr>\n",
       "      <th>45224</th>\n",
       "      <td>9.788028e+12</td>\n",
       "      <td>2024-11-11 04:07:25</td>\n",
       "      <td>Retrokrimi: Kriminální případy z let 1883–1961</td>\n",
       "      <td>80.0</td>\n",
       "      <td>5.0</td>\n",
       "      <td>['Detektivky, krimi', 'Literatura faktu']</td>\n",
       "      <td>NaN</td>\n",
       "      <td>6.0</td>\n",
       "      <td>1.0</td>\n",
       "      <td>29.0</td>\n",
       "      <td>24.0</td>\n",
       "      <td>3.0</td>\n",
       "      <td>1.0</td>\n",
       "      <td>NaN</td>\n",
       "      <td>['Emil Hruška']</td>\n",
       "      <td>NaN</td>\n",
       "      <td>NaN</td>\n",
       "      <td>30.0</td>\n",
       "    </tr>\n",
       "    <tr>\n",
       "      <th>50669</th>\n",
       "      <td>9.788026e+12</td>\n",
       "      <td>2024-12-02 04:02:16</td>\n",
       "      <td>Cesta za štěstím vedla peklem</td>\n",
       "      <td>80.0</td>\n",
       "      <td>7.0</td>\n",
       "      <td>['Literatura česká', 'Biografie a memoáry']</td>\n",
       "      <td>NaN</td>\n",
       "      <td>8.0</td>\n",
       "      <td>1.0</td>\n",
       "      <td>NaN</td>\n",
       "      <td>4.0</td>\n",
       "      <td>1.0</td>\n",
       "      <td>NaN</td>\n",
       "      <td>NaN</td>\n",
       "      <td>['Michal Svatopluk']</td>\n",
       "      <td>2023.0</td>\n",
       "      <td>NaN</td>\n",
       "      <td>12.0</td>\n",
       "    </tr>\n",
       "    <tr>\n",
       "      <th>15790</th>\n",
       "      <td>9.788077e+12</td>\n",
       "      <td>2024-07-22 03:38:12</td>\n",
       "      <td>Blackout: Co dělat, když nastane</td>\n",
       "      <td>80.0</td>\n",
       "      <td>3.0</td>\n",
       "      <td>['Literatura naučná', 'Sociologie, společnost'...</td>\n",
       "      <td>NaN</td>\n",
       "      <td>3.0</td>\n",
       "      <td>NaN</td>\n",
       "      <td>NaN</td>\n",
       "      <td>NaN</td>\n",
       "      <td>1.0</td>\n",
       "      <td>NaN</td>\n",
       "      <td>NaN</td>\n",
       "      <td>NaN</td>\n",
       "      <td>NaN</td>\n",
       "      <td>NaN</td>\n",
       "      <td>NaN</td>\n",
       "    </tr>\n",
       "    <tr>\n",
       "      <th>50189</th>\n",
       "      <td>9.788028e+12</td>\n",
       "      <td>2024-12-02 03:57:21</td>\n",
       "      <td>Husitská epopej. V, 1450</td>\n",
       "      <td>89.0</td>\n",
       "      <td>347.0</td>\n",
       "      <td>['Literatura česká', 'Historické romány']</td>\n",
       "      <td>6.0</td>\n",
       "      <td>515.0</td>\n",
       "      <td>38.0</td>\n",
       "      <td>241.0</td>\n",
       "      <td>101.0</td>\n",
       "      <td>33.0</td>\n",
       "      <td>6.0</td>\n",
       "      <td>33.0</td>\n",
       "      <td>['Vlastimil Vondruška']</td>\n",
       "      <td>2022.0</td>\n",
       "      <td>NaN</td>\n",
       "      <td>616.0</td>\n",
       "    </tr>\n",
       "    <tr>\n",
       "      <th>7696</th>\n",
       "      <td>9.788027e+12</td>\n",
       "      <td>2024-06-10 03:37:54</td>\n",
       "      <td>Ekonomické jednohubky</td>\n",
       "      <td>83.0</td>\n",
       "      <td>6.0</td>\n",
       "      <td>['Literatura naučná', 'Ekonomie a obchod']</td>\n",
       "      <td>2.0</td>\n",
       "      <td>7.0</td>\n",
       "      <td>1.0</td>\n",
       "      <td>3.0</td>\n",
       "      <td>11.0</td>\n",
       "      <td>5.0</td>\n",
       "      <td>NaN</td>\n",
       "      <td>NaN</td>\n",
       "      <td>NaN</td>\n",
       "      <td>NaN</td>\n",
       "      <td>NaN</td>\n",
       "      <td>18.0</td>\n",
       "    </tr>\n",
       "    <tr>\n",
       "      <th>31450</th>\n",
       "      <td>9.788077e+12</td>\n",
       "      <td>2024-09-30 03:56:20</td>\n",
       "      <td>Případ rozeklaného tunelu</td>\n",
       "      <td>93.0</td>\n",
       "      <td>8.0</td>\n",
       "      <td>['Detektivky, krimi', 'Literatura česká']</td>\n",
       "      <td>1.0</td>\n",
       "      <td>9.0</td>\n",
       "      <td>3.0</td>\n",
       "      <td>3.0</td>\n",
       "      <td>2.0</td>\n",
       "      <td>2.0</td>\n",
       "      <td>NaN</td>\n",
       "      <td>1.0</td>\n",
       "      <td>NaN</td>\n",
       "      <td>NaN</td>\n",
       "      <td>NaN</td>\n",
       "      <td>11.0</td>\n",
       "    </tr>\n",
       "    <tr>\n",
       "      <th>16378</th>\n",
       "      <td>9.788090e+12</td>\n",
       "      <td>2024-07-22 03:43:41</td>\n",
       "      <td>Ulčákův rok / Ulčák´s Year</td>\n",
       "      <td>87.0</td>\n",
       "      <td>3.0</td>\n",
       "      <td>['Literatura česká', 'Poezie']</td>\n",
       "      <td>NaN</td>\n",
       "      <td>5.0</td>\n",
       "      <td>1.0</td>\n",
       "      <td>1.0</td>\n",
       "      <td>NaN</td>\n",
       "      <td>NaN</td>\n",
       "      <td>NaN</td>\n",
       "      <td>NaN</td>\n",
       "      <td>NaN</td>\n",
       "      <td>NaN</td>\n",
       "      <td>NaN</td>\n",
       "      <td>NaN</td>\n",
       "    </tr>\n",
       "    <tr>\n",
       "      <th>37393</th>\n",
       "      <td>9.788022e+12</td>\n",
       "      <td>2024-10-21 04:03:50</td>\n",
       "      <td>Zlatokopka</td>\n",
       "      <td>70.0</td>\n",
       "      <td>135.0</td>\n",
       "      <td>['Romány', 'Pro ženy', 'Literatura slovenská']</td>\n",
       "      <td>NaN</td>\n",
       "      <td>201.0</td>\n",
       "      <td>19.0</td>\n",
       "      <td>154.0</td>\n",
       "      <td>37.0</td>\n",
       "      <td>4.0</td>\n",
       "      <td>1.0</td>\n",
       "      <td>7.0</td>\n",
       "      <td>['Lucia Sasková']</td>\n",
       "      <td>NaN</td>\n",
       "      <td>NaN</td>\n",
       "      <td>238.0</td>\n",
       "    </tr>\n",
       "    <tr>\n",
       "      <th>16410</th>\n",
       "      <td>9.788075e+12</td>\n",
       "      <td>2024-07-22 03:43:54</td>\n",
       "      <td>Prý musím projít březovým lesem</td>\n",
       "      <td>100.0</td>\n",
       "      <td>2.0</td>\n",
       "      <td>['Literatura česká', 'Poezie']</td>\n",
       "      <td>NaN</td>\n",
       "      <td>3.0</td>\n",
       "      <td>NaN</td>\n",
       "      <td>NaN</td>\n",
       "      <td>NaN</td>\n",
       "      <td>NaN</td>\n",
       "      <td>NaN</td>\n",
       "      <td>NaN</td>\n",
       "      <td>NaN</td>\n",
       "      <td>NaN</td>\n",
       "      <td>NaN</td>\n",
       "      <td>NaN</td>\n",
       "    </tr>\n",
       "    <tr>\n",
       "      <th>48096</th>\n",
       "      <td>9.788026e+12</td>\n",
       "      <td>2024-11-25 03:41:24</td>\n",
       "      <td>Alois Rašín: Dramatický život českého politika</td>\n",
       "      <td>83.0</td>\n",
       "      <td>7.0</td>\n",
       "      <td>['Literatura naučná', 'Biografie a memoáry', '...</td>\n",
       "      <td>NaN</td>\n",
       "      <td>12.0</td>\n",
       "      <td>NaN</td>\n",
       "      <td>5.0</td>\n",
       "      <td>4.0</td>\n",
       "      <td>5.0</td>\n",
       "      <td>NaN</td>\n",
       "      <td>1.0</td>\n",
       "      <td>['Jana Čechurová']</td>\n",
       "      <td>NaN</td>\n",
       "      <td>NaN</td>\n",
       "      <td>16.0</td>\n",
       "    </tr>\n",
       "  </tbody>\n",
       "</table>\n",
       "</div>"
      ],
      "text/plain": [
       "            DK_isbn              DK_date  \\\n",
       "45224  9.788028e+12  2024-11-11 04:07:25   \n",
       "50669  9.788026e+12  2024-12-02 04:02:16   \n",
       "15790  9.788077e+12  2024-07-22 03:38:12   \n",
       "50189  9.788028e+12  2024-12-02 03:57:21   \n",
       "7696   9.788027e+12  2024-06-10 03:37:54   \n",
       "31450  9.788077e+12  2024-09-30 03:56:20   \n",
       "16378  9.788090e+12  2024-07-22 03:43:41   \n",
       "37393  9.788022e+12  2024-10-21 04:03:50   \n",
       "16410  9.788075e+12  2024-07-22 03:43:54   \n",
       "48096  9.788026e+12  2024-11-25 03:41:24   \n",
       "\n",
       "                                             DK_titul  DK_rating  \\\n",
       "45224  Retrokrimi: Kriminální případy z let 1883–1961       80.0   \n",
       "50669                   Cesta za štěstím vedla peklem       80.0   \n",
       "15790                Blackout: Co dělat, když nastane       80.0   \n",
       "50189                        Husitská epopej. V, 1450       89.0   \n",
       "7696                            Ekonomické jednohubky       83.0   \n",
       "31450                       Případ rozeklaného tunelu       93.0   \n",
       "16378                      Ulčákův rok / Ulčák´s Year       87.0   \n",
       "37393                                      Zlatokopka       70.0   \n",
       "16410                 Prý musím projít březovým lesem      100.0   \n",
       "48096  Alois Rašín: Dramatický život českého politika       83.0   \n",
       "\n",
       "       DK_ratings_count                                            DK_tags  \\\n",
       "45224               5.0          ['Detektivky, krimi', 'Literatura faktu']   \n",
       "50669               7.0        ['Literatura česká', 'Biografie a memoáry']   \n",
       "15790               3.0  ['Literatura naučná', 'Sociologie, společnost'...   \n",
       "50189             347.0          ['Literatura česká', 'Historické romány']   \n",
       "7696                6.0         ['Literatura naučná', 'Ekonomie a obchod']   \n",
       "31450               8.0          ['Detektivky, krimi', 'Literatura česká']   \n",
       "16378               3.0                     ['Literatura česká', 'Poezie']   \n",
       "37393             135.0     ['Romány', 'Pro ženy', 'Literatura slovenská']   \n",
       "16410               2.0                     ['Literatura česká', 'Poezie']   \n",
       "48096               7.0  ['Literatura naučná', 'Biografie a memoáry', '...   \n",
       "\n",
       "       DK_Právě_čtených  DK_Přečtených  DK_Čtenářské_výzvě  DK_Knihotéce  \\\n",
       "45224               NaN            6.0                 1.0          29.0   \n",
       "50669               NaN            8.0                 1.0           NaN   \n",
       "15790               NaN            3.0                 NaN           NaN   \n",
       "50189               6.0          515.0                38.0         241.0   \n",
       "7696                2.0            7.0                 1.0           3.0   \n",
       "31450               1.0            9.0                 3.0           3.0   \n",
       "16378               NaN            5.0                 1.0           1.0   \n",
       "37393               NaN          201.0                19.0         154.0   \n",
       "16410               NaN            3.0                 NaN           NaN   \n",
       "48096               NaN           12.0                 NaN           5.0   \n",
       "\n",
       "       DK_Chystám_se_číst  DK_Chci_si_koupit  DK_dalších_seznamech  \\\n",
       "45224                24.0                3.0                   1.0   \n",
       "50669                 4.0                1.0                   NaN   \n",
       "15790                 NaN                1.0                   NaN   \n",
       "50189               101.0               33.0                   6.0   \n",
       "7696                 11.0                5.0                   NaN   \n",
       "31450                 2.0                2.0                   NaN   \n",
       "16378                 NaN                NaN                   NaN   \n",
       "37393                37.0                4.0                   1.0   \n",
       "16410                 NaN                NaN                   NaN   \n",
       "48096                 4.0                5.0                   NaN   \n",
       "\n",
       "       DK_Doporučených             DK_autorstvo  DK_vyslo  DK_Mé_knihovně  \\\n",
       "45224              NaN          ['Emil Hruška']       NaN             NaN   \n",
       "50669              NaN     ['Michal Svatopluk']    2023.0             NaN   \n",
       "15790              NaN                      NaN       NaN             NaN   \n",
       "50189             33.0  ['Vlastimil Vondruška']    2022.0             NaN   \n",
       "7696               NaN                      NaN       NaN             NaN   \n",
       "31450              1.0                      NaN       NaN             NaN   \n",
       "16378              NaN                      NaN       NaN             NaN   \n",
       "37393              7.0        ['Lucia Sasková']       NaN             NaN   \n",
       "16410              NaN                      NaN       NaN             NaN   \n",
       "48096              1.0       ['Jana Čechurová']       NaN             NaN   \n",
       "\n",
       "       skore  \n",
       "45224   30.0  \n",
       "50669   12.0  \n",
       "15790    NaN  \n",
       "50189  616.0  \n",
       "7696    18.0  \n",
       "31450   11.0  \n",
       "16378    NaN  \n",
       "37393  238.0  \n",
       "16410    NaN  \n",
       "48096   16.0  "
      ]
     },
     "execution_count": 59,
     "metadata": {},
     "output_type": "execute_result"
    }
   ],
   "source": [
    "dk.sample(10)"
   ]
  },
  {
   "cell_type": "code",
   "execution_count": 60,
   "id": "c2ada6ce",
   "metadata": {},
   "outputs": [
    {
     "data": {
      "text/plain": [
       "1170"
      ]
     },
     "execution_count": 60,
     "metadata": {},
     "output_type": "execute_result"
    }
   ],
   "source": [
    "gr['GR_title'].nunique()"
   ]
  },
  {
   "cell_type": "code",
   "execution_count": 61,
   "id": "ba17a36a",
   "metadata": {},
   "outputs": [
    {
     "data": {
      "text/plain": [
       "2594"
      ]
     },
     "execution_count": 61,
     "metadata": {},
     "output_type": "execute_result"
    }
   ],
   "source": [
    "dk['DK_titul'].nunique()"
   ]
  },
  {
   "cell_type": "code",
   "execution_count": 62,
   "id": "3abdb4e5",
   "metadata": {},
   "outputs": [
    {
     "data": {
      "text/html": [
       "<div>\n",
       "<style scoped>\n",
       "    .dataframe tbody tr th:only-of-type {\n",
       "        vertical-align: middle;\n",
       "    }\n",
       "\n",
       "    .dataframe tbody tr th {\n",
       "        vertical-align: top;\n",
       "    }\n",
       "\n",
       "    .dataframe thead th {\n",
       "        text-align: right;\n",
       "    }\n",
       "</style>\n",
       "<table border=\"1\" class=\"dataframe\">\n",
       "  <thead>\n",
       "    <tr style=\"text-align: right;\">\n",
       "      <th></th>\n",
       "      <th>DK_isbn</th>\n",
       "      <th>DK_date</th>\n",
       "      <th>DK_titul</th>\n",
       "      <th>DK_rating</th>\n",
       "      <th>DK_ratings_count</th>\n",
       "      <th>DK_tags</th>\n",
       "      <th>DK_Právě_čtených</th>\n",
       "      <th>DK_Přečtených</th>\n",
       "      <th>DK_Čtenářské_výzvě</th>\n",
       "      <th>DK_Knihotéce</th>\n",
       "      <th>DK_Chystám_se_číst</th>\n",
       "      <th>DK_Chci_si_koupit</th>\n",
       "      <th>DK_dalších_seznamech</th>\n",
       "      <th>DK_Doporučených</th>\n",
       "      <th>DK_autorstvo</th>\n",
       "      <th>DK_vyslo</th>\n",
       "      <th>DK_Mé_knihovně</th>\n",
       "      <th>skore</th>\n",
       "    </tr>\n",
       "  </thead>\n",
       "  <tbody>\n",
       "    <tr>\n",
       "      <th>0</th>\n",
       "      <td>9.788028e+12</td>\n",
       "      <td>2024-04-22 03:26:55</td>\n",
       "      <td>Boží potměšilost</td>\n",
       "      <td>78.0</td>\n",
       "      <td>18.0</td>\n",
       "      <td>['české romány']</td>\n",
       "      <td>NaN</td>\n",
       "      <td>19.0</td>\n",
       "      <td>NaN</td>\n",
       "      <td>48.0</td>\n",
       "      <td>29.0</td>\n",
       "      <td>6.0</td>\n",
       "      <td>1.0</td>\n",
       "      <td>NaN</td>\n",
       "      <td>NaN</td>\n",
       "      <td>NaN</td>\n",
       "      <td>NaN</td>\n",
       "      <td>48.0</td>\n",
       "    </tr>\n",
       "    <tr>\n",
       "      <th>1</th>\n",
       "      <td>9.788028e+12</td>\n",
       "      <td>2024-04-22 03:26:55</td>\n",
       "      <td>Prach, popel a dým</td>\n",
       "      <td>79.0</td>\n",
       "      <td>58.0</td>\n",
       "      <td>['české krimi', 'české detektivky', 'pátrající...</td>\n",
       "      <td>NaN</td>\n",
       "      <td>85.0</td>\n",
       "      <td>9.0</td>\n",
       "      <td>66.0</td>\n",
       "      <td>32.0</td>\n",
       "      <td>NaN</td>\n",
       "      <td>NaN</td>\n",
       "      <td>7.0</td>\n",
       "      <td>NaN</td>\n",
       "      <td>NaN</td>\n",
       "      <td>NaN</td>\n",
       "      <td>117.0</td>\n",
       "    </tr>\n",
       "    <tr>\n",
       "      <th>2</th>\n",
       "      <td>9.788021e+12</td>\n",
       "      <td>2024-04-22 03:26:55</td>\n",
       "      <td>Oprátka za osm mrtvých</td>\n",
       "      <td>88.0</td>\n",
       "      <td>301.0</td>\n",
       "      <td>['ženy', 'psychiatrické léčebny', 'Českosloven...</td>\n",
       "      <td>2.0</td>\n",
       "      <td>402.0</td>\n",
       "      <td>56.0</td>\n",
       "      <td>150.0</td>\n",
       "      <td>210.0</td>\n",
       "      <td>61.0</td>\n",
       "      <td>9.0</td>\n",
       "      <td>22.0</td>\n",
       "      <td>NaN</td>\n",
       "      <td>NaN</td>\n",
       "      <td>NaN</td>\n",
       "      <td>612.0</td>\n",
       "    </tr>\n",
       "    <tr>\n",
       "      <th>3</th>\n",
       "      <td>9.788072e+12</td>\n",
       "      <td>2024-04-22 03:26:56</td>\n",
       "      <td>Golem</td>\n",
       "      <td>82.0</td>\n",
       "      <td>26.0</td>\n",
       "      <td>['golem', 'Rabi Löw']</td>\n",
       "      <td>NaN</td>\n",
       "      <td>34.0</td>\n",
       "      <td>4.0</td>\n",
       "      <td>28.0</td>\n",
       "      <td>18.0</td>\n",
       "      <td>3.0</td>\n",
       "      <td>NaN</td>\n",
       "      <td>3.0</td>\n",
       "      <td>NaN</td>\n",
       "      <td>NaN</td>\n",
       "      <td>NaN</td>\n",
       "      <td>52.0</td>\n",
       "    </tr>\n",
       "    <tr>\n",
       "      <th>4</th>\n",
       "      <td>9.788076e+12</td>\n",
       "      <td>2024-04-22 03:26:57</td>\n",
       "      <td>Proč všichni odcházejí</td>\n",
       "      <td>90.0</td>\n",
       "      <td>56.0</td>\n",
       "      <td>['autobiografické prvky']</td>\n",
       "      <td>2.0</td>\n",
       "      <td>68.0</td>\n",
       "      <td>1.0</td>\n",
       "      <td>14.0</td>\n",
       "      <td>178.0</td>\n",
       "      <td>52.0</td>\n",
       "      <td>NaN</td>\n",
       "      <td>6.0</td>\n",
       "      <td>NaN</td>\n",
       "      <td>NaN</td>\n",
       "      <td>NaN</td>\n",
       "      <td>246.0</td>\n",
       "    </tr>\n",
       "    <tr>\n",
       "      <th>...</th>\n",
       "      <td>...</td>\n",
       "      <td>...</td>\n",
       "      <td>...</td>\n",
       "      <td>...</td>\n",
       "      <td>...</td>\n",
       "      <td>...</td>\n",
       "      <td>...</td>\n",
       "      <td>...</td>\n",
       "      <td>...</td>\n",
       "      <td>...</td>\n",
       "      <td>...</td>\n",
       "      <td>...</td>\n",
       "      <td>...</td>\n",
       "      <td>...</td>\n",
       "      <td>...</td>\n",
       "      <td>...</td>\n",
       "      <td>...</td>\n",
       "      <td>...</td>\n",
       "    </tr>\n",
       "    <tr>\n",
       "      <th>57429</th>\n",
       "      <td>9.788088e+12</td>\n",
       "      <td>2024-12-16 04:21:11</td>\n",
       "      <td>Byla to jízda: (Do říše snů!)</td>\n",
       "      <td>80.0</td>\n",
       "      <td>3.0</td>\n",
       "      <td>[]</td>\n",
       "      <td>NaN</td>\n",
       "      <td>5.0</td>\n",
       "      <td>1.0</td>\n",
       "      <td>2.0</td>\n",
       "      <td>8.0</td>\n",
       "      <td>1.0</td>\n",
       "      <td>NaN</td>\n",
       "      <td>NaN</td>\n",
       "      <td>['Valentina Lebová']</td>\n",
       "      <td>2023.0</td>\n",
       "      <td>NaN</td>\n",
       "      <td>13.0</td>\n",
       "    </tr>\n",
       "    <tr>\n",
       "      <th>57430</th>\n",
       "      <td>9.788075e+12</td>\n",
       "      <td>2024-12-16 04:21:11</td>\n",
       "      <td>Politika pro každého</td>\n",
       "      <td>80.0</td>\n",
       "      <td>3.0</td>\n",
       "      <td>[]</td>\n",
       "      <td>NaN</td>\n",
       "      <td>4.0</td>\n",
       "      <td>1.0</td>\n",
       "      <td>1.0</td>\n",
       "      <td>7.0</td>\n",
       "      <td>1.0</td>\n",
       "      <td>NaN</td>\n",
       "      <td>NaN</td>\n",
       "      <td>['Bohumil Pečinka', 'Stanislav Balík']</td>\n",
       "      <td>2023.0</td>\n",
       "      <td>NaN</td>\n",
       "      <td>11.0</td>\n",
       "    </tr>\n",
       "    <tr>\n",
       "      <th>57431</th>\n",
       "      <td>9.788074e+12</td>\n",
       "      <td>2024-12-16 04:21:12</td>\n",
       "      <td>Křížeček na čelo</td>\n",
       "      <td>68.0</td>\n",
       "      <td>15.0</td>\n",
       "      <td>[]</td>\n",
       "      <td>NaN</td>\n",
       "      <td>18.0</td>\n",
       "      <td>NaN</td>\n",
       "      <td>4.0</td>\n",
       "      <td>2.0</td>\n",
       "      <td>NaN</td>\n",
       "      <td>NaN</td>\n",
       "      <td>NaN</td>\n",
       "      <td>['Eva Marie Růžena']</td>\n",
       "      <td>2023.0</td>\n",
       "      <td>NaN</td>\n",
       "      <td>20.0</td>\n",
       "    </tr>\n",
       "    <tr>\n",
       "      <th>57432</th>\n",
       "      <td>9.788076e+12</td>\n",
       "      <td>2024-12-16 04:21:12</td>\n",
       "      <td>Siebel Si 204 / Aero C</td>\n",
       "      <td>100.0</td>\n",
       "      <td>1.0</td>\n",
       "      <td>[]</td>\n",
       "      <td>NaN</td>\n",
       "      <td>1.0</td>\n",
       "      <td>NaN</td>\n",
       "      <td>NaN</td>\n",
       "      <td>NaN</td>\n",
       "      <td>NaN</td>\n",
       "      <td>NaN</td>\n",
       "      <td>NaN</td>\n",
       "      <td>['Miroslav Irra']</td>\n",
       "      <td>2022.0</td>\n",
       "      <td>NaN</td>\n",
       "      <td>NaN</td>\n",
       "    </tr>\n",
       "    <tr>\n",
       "      <th>57433</th>\n",
       "      <td>9.788077e+12</td>\n",
       "      <td>2024-12-16 04:21:13</td>\n",
       "      <td>Lipový lísteček</td>\n",
       "      <td>100.0</td>\n",
       "      <td>1.0</td>\n",
       "      <td>[]</td>\n",
       "      <td>NaN</td>\n",
       "      <td>1.0</td>\n",
       "      <td>1.0</td>\n",
       "      <td>1.0</td>\n",
       "      <td>5.0</td>\n",
       "      <td>1.0</td>\n",
       "      <td>1.0</td>\n",
       "      <td>NaN</td>\n",
       "      <td>['Lenka Míkovcová']</td>\n",
       "      <td>2024.0</td>\n",
       "      <td>NaN</td>\n",
       "      <td>6.0</td>\n",
       "    </tr>\n",
       "  </tbody>\n",
       "</table>\n",
       "<p>57434 rows × 18 columns</p>\n",
       "</div>"
      ],
      "text/plain": [
       "            DK_isbn              DK_date                       DK_titul  \\\n",
       "0      9.788028e+12  2024-04-22 03:26:55               Boží potměšilost   \n",
       "1      9.788028e+12  2024-04-22 03:26:55             Prach, popel a dým   \n",
       "2      9.788021e+12  2024-04-22 03:26:55         Oprátka za osm mrtvých   \n",
       "3      9.788072e+12  2024-04-22 03:26:56                          Golem   \n",
       "4      9.788076e+12  2024-04-22 03:26:57         Proč všichni odcházejí   \n",
       "...             ...                  ...                            ...   \n",
       "57429  9.788088e+12  2024-12-16 04:21:11  Byla to jízda: (Do říše snů!)   \n",
       "57430  9.788075e+12  2024-12-16 04:21:11           Politika pro každého   \n",
       "57431  9.788074e+12  2024-12-16 04:21:12               Křížeček na čelo   \n",
       "57432  9.788076e+12  2024-12-16 04:21:12         Siebel Si 204 / Aero C   \n",
       "57433  9.788077e+12  2024-12-16 04:21:13                Lipový lísteček   \n",
       "\n",
       "       DK_rating  DK_ratings_count  \\\n",
       "0           78.0              18.0   \n",
       "1           79.0              58.0   \n",
       "2           88.0             301.0   \n",
       "3           82.0              26.0   \n",
       "4           90.0              56.0   \n",
       "...          ...               ...   \n",
       "57429       80.0               3.0   \n",
       "57430       80.0               3.0   \n",
       "57431       68.0              15.0   \n",
       "57432      100.0               1.0   \n",
       "57433      100.0               1.0   \n",
       "\n",
       "                                                 DK_tags  DK_Právě_čtených  \\\n",
       "0                                       ['české romány']               NaN   \n",
       "1      ['české krimi', 'české detektivky', 'pátrající...               NaN   \n",
       "2      ['ženy', 'psychiatrické léčebny', 'Českosloven...               2.0   \n",
       "3                                  ['golem', 'Rabi Löw']               NaN   \n",
       "4                              ['autobiografické prvky']               2.0   \n",
       "...                                                  ...               ...   \n",
       "57429                                                 []               NaN   \n",
       "57430                                                 []               NaN   \n",
       "57431                                                 []               NaN   \n",
       "57432                                                 []               NaN   \n",
       "57433                                                 []               NaN   \n",
       "\n",
       "       DK_Přečtených  DK_Čtenářské_výzvě  DK_Knihotéce  DK_Chystám_se_číst  \\\n",
       "0               19.0                 NaN          48.0                29.0   \n",
       "1               85.0                 9.0          66.0                32.0   \n",
       "2              402.0                56.0         150.0               210.0   \n",
       "3               34.0                 4.0          28.0                18.0   \n",
       "4               68.0                 1.0          14.0               178.0   \n",
       "...              ...                 ...           ...                 ...   \n",
       "57429            5.0                 1.0           2.0                 8.0   \n",
       "57430            4.0                 1.0           1.0                 7.0   \n",
       "57431           18.0                 NaN           4.0                 2.0   \n",
       "57432            1.0                 NaN           NaN                 NaN   \n",
       "57433            1.0                 1.0           1.0                 5.0   \n",
       "\n",
       "       DK_Chci_si_koupit  DK_dalších_seznamech  DK_Doporučených  \\\n",
       "0                    6.0                   1.0              NaN   \n",
       "1                    NaN                   NaN              7.0   \n",
       "2                   61.0                   9.0             22.0   \n",
       "3                    3.0                   NaN              3.0   \n",
       "4                   52.0                   NaN              6.0   \n",
       "...                  ...                   ...              ...   \n",
       "57429                1.0                   NaN              NaN   \n",
       "57430                1.0                   NaN              NaN   \n",
       "57431                NaN                   NaN              NaN   \n",
       "57432                NaN                   NaN              NaN   \n",
       "57433                1.0                   1.0              NaN   \n",
       "\n",
       "                                 DK_autorstvo  DK_vyslo  DK_Mé_knihovně  skore  \n",
       "0                                         NaN       NaN             NaN   48.0  \n",
       "1                                         NaN       NaN             NaN  117.0  \n",
       "2                                         NaN       NaN             NaN  612.0  \n",
       "3                                         NaN       NaN             NaN   52.0  \n",
       "4                                         NaN       NaN             NaN  246.0  \n",
       "...                                       ...       ...             ...    ...  \n",
       "57429                    ['Valentina Lebová']    2023.0             NaN   13.0  \n",
       "57430  ['Bohumil Pečinka', 'Stanislav Balík']    2023.0             NaN   11.0  \n",
       "57431                    ['Eva Marie Růžena']    2023.0             NaN   20.0  \n",
       "57432                       ['Miroslav Irra']    2022.0             NaN    NaN  \n",
       "57433                     ['Lenka Míkovcová']    2024.0             NaN    6.0  \n",
       "\n",
       "[57434 rows x 18 columns]"
      ]
     },
     "execution_count": 62,
     "metadata": {},
     "output_type": "execute_result"
    }
   ],
   "source": [
    "dk"
   ]
  },
  {
   "cell_type": "code",
   "execution_count": 63,
   "id": "8ca4c7bf",
   "metadata": {},
   "outputs": [
    {
     "data": {
      "text/plain": [
       "57434"
      ]
     },
     "execution_count": 63,
     "metadata": {},
     "output_type": "execute_result"
    }
   ],
   "source": [
    "len(dk)"
   ]
  },
  {
   "cell_type": "code",
   "execution_count": 64,
   "id": "125b3820",
   "metadata": {},
   "outputs": [
    {
     "data": {
      "text/plain": [
       "57434"
      ]
     },
     "execution_count": 64,
     "metadata": {},
     "output_type": "execute_result"
    }
   ],
   "source": [
    "len(dk.drop_duplicates())"
   ]
  },
  {
   "cell_type": "code",
   "execution_count": 65,
   "id": "e8cd52a3",
   "metadata": {
    "scrolled": true
   },
   "outputs": [
    {
     "data": {
      "text/plain": [
       "'2024-12-16 04:21:13'"
      ]
     },
     "execution_count": 65,
     "metadata": {},
     "output_type": "execute_result"
    }
   ],
   "source": [
    "dk['DK_date'].max()"
   ]
  },
  {
   "cell_type": "code",
   "execution_count": 66,
   "id": "80b29803",
   "metadata": {},
   "outputs": [],
   "source": [
    "dk['DK_date'] = pd.to_datetime(dk['DK_date'])"
   ]
  },
  {
   "cell_type": "code",
   "execution_count": 67,
   "id": "e2b71bde",
   "metadata": {},
   "outputs": [
    {
     "data": {
      "text/plain": [
       "['Jak dědeček zachránil trolejbus by Lenka Arazimová',\n",
       " 'Flora by Jonáš Zbořil',\n",
       " 'Sladký život by Lucie Tringelová Kaňová',\n",
       " 'Úděsné dny Adély H: # ty_vole_tabor by Aleš Novotný',\n",
       " 'Prosím žádné zmrtvýchvstání by Ondřej Novotný',\n",
       " 'Flora by Jonáš Zbořil']"
      ]
     },
     "execution_count": 67,
     "metadata": {},
     "output_type": "execute_result"
    }
   ],
   "source": [
    "novinky"
   ]
  },
  {
   "cell_type": "code",
   "execution_count": 68,
   "id": "09a23929",
   "metadata": {},
   "outputs": [
    {
     "data": {
      "text/plain": [
       "Index(['DK_isbn', 'DK_date', 'DK_titul', 'DK_rating', 'DK_ratings_count',\n",
       "       'DK_tags', 'DK_Právě_čtených', 'DK_Přečtených', 'DK_Čtenářské_výzvě',\n",
       "       'DK_Knihotéce', 'DK_Chystám_se_číst', 'DK_Chci_si_koupit',\n",
       "       'DK_dalších_seznamech', 'DK_Doporučených', 'DK_autorstvo', 'DK_vyslo',\n",
       "       'DK_Mé_knihovně', 'skore'],\n",
       "      dtype='object')"
      ]
     },
     "execution_count": 68,
     "metadata": {},
     "output_type": "execute_result"
    }
   ],
   "source": [
    "dk.columns"
   ]
  },
  {
   "cell_type": "code",
   "execution_count": 69,
   "id": "890dd758",
   "metadata": {
    "scrolled": true
   },
   "outputs": [
    {
     "data": {
      "text/plain": [
       "Index(['DK_isbn', 'DK_date', 'DK_titul', 'DK_rating', 'DK_ratings_count',\n",
       "       'DK_tags', 'DK_Právě_čtených', 'DK_Přečtených', 'DK_Čtenářské_výzvě',\n",
       "       'DK_Knihotéce', 'DK_Chystám_se_číst', 'DK_Chci_si_koupit',\n",
       "       'DK_dalších_seznamech', 'DK_Doporučených', 'DK_autorstvo', 'DK_vyslo',\n",
       "       'DK_Mé_knihovně', 'skore'],\n",
       "      dtype='object')"
      ]
     },
     "execution_count": 69,
     "metadata": {},
     "output_type": "execute_result"
    }
   ],
   "source": [
    "dk.columns"
   ]
  },
  {
   "cell_type": "code",
   "execution_count": 70,
   "id": "a6500e7e",
   "metadata": {},
   "outputs": [],
   "source": [
    "dk_nove = dk[dk['DK_date'] < '2024-04-22']['DK_titul'].drop_duplicates().to_list()\n",
    "dk_nove = dk[~dk['DK_titul'].isin(dk_nove)]"
   ]
  },
  {
   "cell_type": "code",
   "execution_count": 71,
   "id": "aebefb97",
   "metadata": {},
   "outputs": [],
   "source": [
    "pocitame_dk = dk_nove[['DK_titul','DK_date','DK_rating','DK_ratings_count','DK_Chystám_se_číst']]"
   ]
  },
  {
   "cell_type": "code",
   "execution_count": 72,
   "id": "298dd053",
   "metadata": {},
   "outputs": [
    {
     "name": "stderr",
     "output_type": "stream",
     "text": [
      "C:\\Users\\micha\\AppData\\Local\\Temp\\ipykernel_27576\\4289471237.py:1: SettingWithCopyWarning: \n",
      "A value is trying to be set on a copy of a slice from a DataFrame.\n",
      "Try using .loc[row_indexer,col_indexer] = value instead\n",
      "\n",
      "See the caveats in the documentation: https://pandas.pydata.org/pandas-docs/stable/user_guide/indexing.html#returning-a-view-versus-a-copy\n",
      "  pocitame_dk['tydnu'] = pocitame_dk.groupby('DK_titul').cumcount() + 1\n"
     ]
    }
   ],
   "source": [
    "pocitame_dk['tydnu'] = pocitame_dk.groupby('DK_titul').cumcount() + 1"
   ]
  },
  {
   "cell_type": "code",
   "execution_count": 73,
   "id": "35061eeb",
   "metadata": {},
   "outputs": [
    {
     "data": {
      "text/plain": [
       "<Axes: xlabel='tydnu'>"
      ]
     },
     "execution_count": 73,
     "metadata": {},
     "output_type": "execute_result"
    },
    {
     "data": {
      "image/png": "[encoded data removed]",
      "text/plain": [
       "<Figure size 640x480 with 1 Axes>"
      ]
     },
     "metadata": {},
     "output_type": "display_data"
    }
   ],
   "source": [
    "pocitame_dk.groupby('tydnu')['DK_Chystám_se_číst'].median().plot.bar()"
   ]
  },
  {
   "cell_type": "code",
   "execution_count": 74,
   "id": "7b0e9c2e",
   "metadata": {},
   "outputs": [
    {
     "data": {
      "text/plain": [
       "<Axes: xlabel='tydnu'>"
      ]
     },
     "execution_count": 74,
     "metadata": {},
     "output_type": "execute_result"
    },
    {
     "data": {
      "image/png": "[encoded data removed]",
      "text/plain": [
       "<Figure size 640x480 with 1 Axes>"
      ]
     },
     "metadata": {},
     "output_type": "display_data"
    }
   ],
   "source": [
    "pocitame_dk.groupby('tydnu')['DK_rating'].median().plot.bar()"
   ]
  },
  {
   "cell_type": "code",
   "execution_count": 75,
   "id": "f0f3e30c",
   "metadata": {},
   "outputs": [],
   "source": [
    "gr['autorstvo'] = gr['GR_title'].apply(lambda x: x.split(' by ')[1].strip())"
   ]
  },
  {
   "cell_type": "code",
   "execution_count": 76,
   "id": "70da87e6",
   "metadata": {},
   "outputs": [
    {
     "data": {
      "text/plain": [
       "0            Shigor Birdman\n",
       "1            Michal Březina\n",
       "2            Lucie Brejšová\n",
       "3         Michaela Merglová\n",
       "4             Jana Mirovská\n",
       "                ...        \n",
       "25814      Xerodoth Sigmius\n",
       "25815          Vladimír Dyk\n",
       "25816        Zuzana Švédová\n",
       "25817    Zdenka Sokolíčková\n",
       "25818          Jonáš Zbořil\n",
       "Name: autorstvo, Length: 25819, dtype: object"
      ]
     },
     "execution_count": 76,
     "metadata": {},
     "output_type": "execute_result"
    }
   ],
   "source": [
    "gr['autorstvo']"
   ]
  },
  {
   "cell_type": "code",
   "execution_count": 77,
   "id": "2cf4b278",
   "metadata": {},
   "outputs": [],
   "source": [
    "import numpy as np"
   ]
  },
  {
   "cell_type": "code",
   "execution_count": 78,
   "id": "a0444868",
   "metadata": {},
   "outputs": [],
   "source": [
    "df = pd.read_json(os.path.join(\"data\",\"martinus_vyslo.json\"))"
   ]
  },
  {
   "cell_type": "code",
   "execution_count": 79,
   "id": "28c0316e",
   "metadata": {},
   "outputs": [],
   "source": [
    "df['isbn'] = df['M_isbn'].astype(str).apply(lambda x: x.replace(\".0\",\"\"))\n",
    "dk['isbn'] = dk['DK_isbn'].astype(str).apply(lambda x: x.replace(\".0\",\"\"))"
   ]
  },
  {
   "cell_type": "code",
   "execution_count": 80,
   "id": "68a10032",
   "metadata": {},
   "outputs": [
    {
     "data": {
      "text/html": [
       "<div>\n",
       "<style scoped>\n",
       "    .dataframe tbody tr th:only-of-type {\n",
       "        vertical-align: middle;\n",
       "    }\n",
       "\n",
       "    .dataframe tbody tr th {\n",
       "        vertical-align: top;\n",
       "    }\n",
       "\n",
       "    .dataframe thead th {\n",
       "        text-align: right;\n",
       "    }\n",
       "</style>\n",
       "<table border=\"1\" class=\"dataframe\">\n",
       "  <thead>\n",
       "    <tr style=\"text-align: right;\">\n",
       "      <th></th>\n",
       "      <th>M_titul</th>\n",
       "      <th>M_autorstvo</th>\n",
       "      <th>M_anotace</th>\n",
       "      <th>M_podtitul</th>\n",
       "      <th>M_tagy</th>\n",
       "      <th>M_počet_stran</th>\n",
       "      <th>M_vazba</th>\n",
       "      <th>M_rozměr</th>\n",
       "      <th>M_hmotnost</th>\n",
       "      <th>M_isbn</th>\n",
       "      <th>...</th>\n",
       "      <th>M_série</th>\n",
       "      <th>M_díl</th>\n",
       "      <th>M_věkové_doporučení</th>\n",
       "      <th>M_styl</th>\n",
       "      <th>M_účel_knihy</th>\n",
       "      <th>M_ostatní</th>\n",
       "      <th>M_příloha</th>\n",
       "      <th>M_jazyková_úroveň</th>\n",
       "      <th>M_knižní_předloha</th>\n",
       "      <th>isbn</th>\n",
       "    </tr>\n",
       "  </thead>\n",
       "  <tbody>\n",
       "    <tr>\n",
       "      <th>0</th>\n",
       "      <td>Score\\n            Novinka</td>\n",
       "      <td>Marcy Jell</td>\n",
       "      <td>Rafaela:\\n Všichni předpokládají, že se mám ja...</td>\n",
       "      <td>None</td>\n",
       "      <td>romantika</td>\n",
       "      <td>200.0</td>\n",
       "      <td>brožovaná vazba</td>\n",
       "      <td>None</td>\n",
       "      <td>None</td>\n",
       "      <td>9788053005999</td>\n",
       "      <td>...</td>\n",
       "      <td>None</td>\n",
       "      <td>NaN</td>\n",
       "      <td>NaN</td>\n",
       "      <td>romantický</td>\n",
       "      <td>None</td>\n",
       "      <td>None</td>\n",
       "      <td>None</td>\n",
       "      <td>None</td>\n",
       "      <td>None</td>\n",
       "      <td>9788053005999</td>\n",
       "    </tr>\n",
       "    <tr>\n",
       "      <th>1</th>\n",
       "      <td>V nefritové kleci\\n            Novinka</td>\n",
       "      <td>Jakub Mařík</td>\n",
       "      <td>SBÍRKA KRATŠÍCH PŘÍBĚHŮ ZE SVĚTA AKČNÍ SCI-FI ...</td>\n",
       "      <td>None</td>\n",
       "      <td>[krvavé bitvy, vesmír, nebezpečné tajemství, v...</td>\n",
       "      <td>464.0</td>\n",
       "      <td>brožovaná vazba</td>\n",
       "      <td>149×205 mm</td>\n",
       "      <td>594 g</td>\n",
       "      <td>9788075887368</td>\n",
       "      <td>...</td>\n",
       "      <td>UTSS Salamis</td>\n",
       "      <td>6.0</td>\n",
       "      <td>NaN</td>\n",
       "      <td>[mysteriózní, dobrodružný, napínavý]</td>\n",
       "      <td>None</td>\n",
       "      <td>None</td>\n",
       "      <td>None</td>\n",
       "      <td>None</td>\n",
       "      <td>None</td>\n",
       "      <td>9788075887368</td>\n",
       "    </tr>\n",
       "    <tr>\n",
       "      <th>2</th>\n",
       "      <td>Zmizení nenápadné účetní - Krimi 4/24\\n       ...</td>\n",
       "      <td>[]</td>\n",
       "      <td>Skutečné případy.</td>\n",
       "      <td>None</td>\n",
       "      <td>[krimi, skutečné příběhy]</td>\n",
       "      <td>144.0</td>\n",
       "      <td>brožovaná vazba</td>\n",
       "      <td>119×189 mm</td>\n",
       "      <td>102 g</td>\n",
       "      <td>9788072225514</td>\n",
       "      <td>...</td>\n",
       "      <td>Krimi 2024</td>\n",
       "      <td>4.0</td>\n",
       "      <td>NaN</td>\n",
       "      <td>napínavý</td>\n",
       "      <td>None</td>\n",
       "      <td>None</td>\n",
       "      <td>None</td>\n",
       "      <td>None</td>\n",
       "      <td>None</td>\n",
       "      <td>9788072225514</td>\n",
       "    </tr>\n",
       "    <tr>\n",
       "      <th>3</th>\n",
       "      <td>Paralelní světy\\n            Novinka</td>\n",
       "      <td>Jenny Naomi</td>\n",
       "      <td>Čekal jsem smrt, jenomže namísto ní přišlo vyh...</td>\n",
       "      <td>Poslední potomek</td>\n",
       "      <td>[paralelní svět, fantasy, svět]</td>\n",
       "      <td>NaN</td>\n",
       "      <td>brožovaná vazba</td>\n",
       "      <td>215×155 mm</td>\n",
       "      <td>None</td>\n",
       "      <td>9788088652854</td>\n",
       "      <td>...</td>\n",
       "      <td>None</td>\n",
       "      <td>NaN</td>\n",
       "      <td>NaN</td>\n",
       "      <td>mysteriózní</td>\n",
       "      <td>None</td>\n",
       "      <td>None</td>\n",
       "      <td>None</td>\n",
       "      <td>None</td>\n",
       "      <td>None</td>\n",
       "      <td>9788088652854</td>\n",
       "    </tr>\n",
       "    <tr>\n",
       "      <th>4</th>\n",
       "      <td>Kacířské vinobraní\\n            Novinka</td>\n",
       "      <td>Josef Holcman</td>\n",
       "      <td>Josef Holcman, autor knih Týden co týden (2001...</td>\n",
       "      <td>None</td>\n",
       "      <td>příroda</td>\n",
       "      <td>136.0</td>\n",
       "      <td>brožovaná vazba</td>\n",
       "      <td>144×210 mm</td>\n",
       "      <td>None</td>\n",
       "      <td>9788027153923</td>\n",
       "      <td>...</td>\n",
       "      <td>None</td>\n",
       "      <td>NaN</td>\n",
       "      <td>NaN</td>\n",
       "      <td>cestopisný</td>\n",
       "      <td>None</td>\n",
       "      <td>None</td>\n",
       "      <td>None</td>\n",
       "      <td>None</td>\n",
       "      <td>None</td>\n",
       "      <td>9788027153923</td>\n",
       "    </tr>\n",
       "    <tr>\n",
       "      <th>...</th>\n",
       "      <td>...</td>\n",
       "      <td>...</td>\n",
       "      <td>...</td>\n",
       "      <td>...</td>\n",
       "      <td>...</td>\n",
       "      <td>...</td>\n",
       "      <td>...</td>\n",
       "      <td>...</td>\n",
       "      <td>...</td>\n",
       "      <td>...</td>\n",
       "      <td>...</td>\n",
       "      <td>...</td>\n",
       "      <td>...</td>\n",
       "      <td>...</td>\n",
       "      <td>...</td>\n",
       "      <td>...</td>\n",
       "      <td>...</td>\n",
       "      <td>...</td>\n",
       "      <td>...</td>\n",
       "      <td>...</td>\n",
       "      <td>...</td>\n",
       "    </tr>\n",
       "    <tr>\n",
       "      <th>12703</th>\n",
       "      <td>Báječná léta pod psa</td>\n",
       "      <td>Michal Viewegh</td>\n",
       "      <td>Moderní klasika z pera populárního spisovatele...</td>\n",
       "      <td>None</td>\n",
       "      <td>[Česko, Československo, 20. století, satira, p...</td>\n",
       "      <td>264.0</td>\n",
       "      <td>pevná vazba</td>\n",
       "      <td>146×185 mm</td>\n",
       "      <td>436 g</td>\n",
       "      <td>9788024936802</td>\n",
       "      <td>...</td>\n",
       "      <td>None</td>\n",
       "      <td>NaN</td>\n",
       "      <td>NaN</td>\n",
       "      <td>[duchovní, humorný, filozofický]</td>\n",
       "      <td>None</td>\n",
       "      <td>None</td>\n",
       "      <td>None</td>\n",
       "      <td>None</td>\n",
       "      <td>None</td>\n",
       "      <td>9788024936802</td>\n",
       "    </tr>\n",
       "    <tr>\n",
       "      <th>12704</th>\n",
       "      <td>Europeana</td>\n",
       "      <td>Patrik Ouředník</td>\n",
       "      <td>Co je pravda? Historická pravda? Literární pra...</td>\n",
       "      <td>Stručné dějiny dvacátého věku</td>\n",
       "      <td>None</td>\n",
       "      <td>100.0</td>\n",
       "      <td>pevná vazba</td>\n",
       "      <td>130×210 mm</td>\n",
       "      <td>224 g</td>\n",
       "      <td>9788072078325</td>\n",
       "      <td>...</td>\n",
       "      <td>None</td>\n",
       "      <td>NaN</td>\n",
       "      <td>NaN</td>\n",
       "      <td>None</td>\n",
       "      <td>None</td>\n",
       "      <td>None</td>\n",
       "      <td>None</td>\n",
       "      <td>None</td>\n",
       "      <td>None</td>\n",
       "      <td>9788072078325</td>\n",
       "    </tr>\n",
       "    <tr>\n",
       "      <th>12705</th>\n",
       "      <td>Zbabělci</td>\n",
       "      <td>Josef Škvorecký</td>\n",
       "      <td>Dnes už kultovní a také světově proslulý román...</td>\n",
       "      <td>None</td>\n",
       "      <td>[historické události, duše dospívajícího, 1945...</td>\n",
       "      <td>432.0</td>\n",
       "      <td>pevná vazba</td>\n",
       "      <td>139×204 mm</td>\n",
       "      <td>557 g</td>\n",
       "      <td>9788073354008</td>\n",
       "      <td>...</td>\n",
       "      <td>Danny Smiřický</td>\n",
       "      <td>1.0</td>\n",
       "      <td>NaN</td>\n",
       "      <td>historický</td>\n",
       "      <td>None</td>\n",
       "      <td>None</td>\n",
       "      <td>None</td>\n",
       "      <td>None</td>\n",
       "      <td>None</td>\n",
       "      <td>9788073354008</td>\n",
       "    </tr>\n",
       "    <tr>\n",
       "      <th>12706</th>\n",
       "      <td>Teorie spolehlivosti</td>\n",
       "      <td>Ivan Diviš</td>\n",
       "      <td>Druhé rozšířené vydání. Rozsáhlá kniha krátkýc...</td>\n",
       "      <td>Texty z let 1960/1999</td>\n",
       "      <td>None</td>\n",
       "      <td>712.0</td>\n",
       "      <td>pevná vazba</td>\n",
       "      <td>140×200 mm</td>\n",
       "      <td>26 g</td>\n",
       "      <td>8072151614</td>\n",
       "      <td>...</td>\n",
       "      <td>None</td>\n",
       "      <td>NaN</td>\n",
       "      <td>NaN</td>\n",
       "      <td>None</td>\n",
       "      <td>None</td>\n",
       "      <td>None</td>\n",
       "      <td>None</td>\n",
       "      <td>None</td>\n",
       "      <td>None</td>\n",
       "      <td>8072151614</td>\n",
       "    </tr>\n",
       "    <tr>\n",
       "      <th>12707</th>\n",
       "      <td>Konec prokrastinace</td>\n",
       "      <td>Petr Ludwig</td>\n",
       "      <td>Tento titul je dostupný také v Kolekci pro ner...</td>\n",
       "      <td>Jak přestat odkládat a začít žít naplno</td>\n",
       "      <td>[dosahování cílů, osobní rozvoj, úspěch, karié...</td>\n",
       "      <td>271.0</td>\n",
       "      <td>brožovaná vazba</td>\n",
       "      <td>153×153 mm</td>\n",
       "      <td>351 g</td>\n",
       "      <td>9788087270516</td>\n",
       "      <td>...</td>\n",
       "      <td>None</td>\n",
       "      <td>NaN</td>\n",
       "      <td>NaN</td>\n",
       "      <td>None</td>\n",
       "      <td>None</td>\n",
       "      <td>None</td>\n",
       "      <td>None</td>\n",
       "      <td>None</td>\n",
       "      <td>None</td>\n",
       "      <td>9788087270516</td>\n",
       "    </tr>\n",
       "  </tbody>\n",
       "</table>\n",
       "<p>12708 rows × 39 columns</p>\n",
       "</div>"
      ],
      "text/plain": [
       "                                                 M_titul      M_autorstvo  \\\n",
       "0                             Score\\n            Novinka       Marcy Jell   \n",
       "1                 V nefritové kleci\\n            Novinka      Jakub Mařík   \n",
       "2      Zmizení nenápadné účetní - Krimi 4/24\\n       ...               []   \n",
       "3                   Paralelní světy\\n            Novinka      Jenny Naomi   \n",
       "4                Kacířské vinobraní\\n            Novinka    Josef Holcman   \n",
       "...                                                  ...              ...   \n",
       "12703                               Báječná léta pod psa   Michal Viewegh   \n",
       "12704                                          Europeana  Patrik Ouředník   \n",
       "12705                                           Zbabělci  Josef Škvorecký   \n",
       "12706                               Teorie spolehlivosti       Ivan Diviš   \n",
       "12707                                Konec prokrastinace      Petr Ludwig   \n",
       "\n",
       "                                               M_anotace  \\\n",
       "0      Rafaela:\\n Všichni předpokládají, že se mám ja...   \n",
       "1      SBÍRKA KRATŠÍCH PŘÍBĚHŮ ZE SVĚTA AKČNÍ SCI-FI ...   \n",
       "2                                      Skutečné případy.   \n",
       "3      Čekal jsem smrt, jenomže namísto ní přišlo vyh...   \n",
       "4      Josef Holcman, autor knih Týden co týden (2001...   \n",
       "...                                                  ...   \n",
       "12703  Moderní klasika z pera populárního spisovatele...   \n",
       "12704  Co je pravda? Historická pravda? Literární pra...   \n",
       "12705  Dnes už kultovní a také světově proslulý román...   \n",
       "12706  Druhé rozšířené vydání. Rozsáhlá kniha krátkýc...   \n",
       "12707  Tento titul je dostupný také v Kolekci pro ner...   \n",
       "\n",
       "                                    M_podtitul  \\\n",
       "0                                         None   \n",
       "1                                         None   \n",
       "2                                         None   \n",
       "3                             Poslední potomek   \n",
       "4                                         None   \n",
       "...                                        ...   \n",
       "12703                                     None   \n",
       "12704            Stručné dějiny dvacátého věku   \n",
       "12705                                     None   \n",
       "12706                    Texty z let 1960/1999   \n",
       "12707  Jak přestat odkládat a začít žít naplno   \n",
       "\n",
       "                                                  M_tagy  M_počet_stran  \\\n",
       "0                                              romantika          200.0   \n",
       "1      [krvavé bitvy, vesmír, nebezpečné tajemství, v...          464.0   \n",
       "2                              [krimi, skutečné příběhy]          144.0   \n",
       "3                        [paralelní svět, fantasy, svět]            NaN   \n",
       "4                                                příroda          136.0   \n",
       "...                                                  ...            ...   \n",
       "12703  [Česko, Československo, 20. století, satira, p...          264.0   \n",
       "12704                                               None          100.0   \n",
       "12705  [historické události, duše dospívajícího, 1945...          432.0   \n",
       "12706                                               None          712.0   \n",
       "12707  [dosahování cílů, osobní rozvoj, úspěch, karié...          271.0   \n",
       "\n",
       "               M_vazba    M_rozměr M_hmotnost         M_isbn  ...  \\\n",
       "0      brožovaná vazba        None       None  9788053005999  ...   \n",
       "1      brožovaná vazba  149×205 mm      594 g  9788075887368  ...   \n",
       "2      brožovaná vazba  119×189 mm      102 g  9788072225514  ...   \n",
       "3      brožovaná vazba  215×155 mm       None  9788088652854  ...   \n",
       "4      brožovaná vazba  144×210 mm       None  9788027153923  ...   \n",
       "...                ...         ...        ...            ...  ...   \n",
       "12703      pevná vazba  146×185 mm      436 g  9788024936802  ...   \n",
       "12704      pevná vazba  130×210 mm      224 g  9788072078325  ...   \n",
       "12705      pevná vazba  139×204 mm      557 g  9788073354008  ...   \n",
       "12706      pevná vazba  140×200 mm       26 g     8072151614  ...   \n",
       "12707  brožovaná vazba  153×153 mm      351 g  9788087270516  ...   \n",
       "\n",
       "              M_série M_díl M_věkové_doporučení  \\\n",
       "0                None   NaN                 NaN   \n",
       "1        UTSS Salamis   6.0                 NaN   \n",
       "2          Krimi 2024   4.0                 NaN   \n",
       "3                None   NaN                 NaN   \n",
       "4                None   NaN                 NaN   \n",
       "...               ...   ...                 ...   \n",
       "12703            None   NaN                 NaN   \n",
       "12704            None   NaN                 NaN   \n",
       "12705  Danny Smiřický   1.0                 NaN   \n",
       "12706            None   NaN                 NaN   \n",
       "12707            None   NaN                 NaN   \n",
       "\n",
       "                                     M_styl M_účel_knihy M_ostatní M_příloha  \\\n",
       "0                                romantický         None      None      None   \n",
       "1      [mysteriózní, dobrodružný, napínavý]         None      None      None   \n",
       "2                                  napínavý         None      None      None   \n",
       "3                               mysteriózní         None      None      None   \n",
       "4                                cestopisný         None      None      None   \n",
       "...                                     ...          ...       ...       ...   \n",
       "12703      [duchovní, humorný, filozofický]         None      None      None   \n",
       "12704                                  None         None      None      None   \n",
       "12705                            historický         None      None      None   \n",
       "12706                                  None         None      None      None   \n",
       "12707                                  None         None      None      None   \n",
       "\n",
       "      M_jazyková_úroveň M_knižní_předloha           isbn  \n",
       "0                  None              None  9788053005999  \n",
       "1                  None              None  9788075887368  \n",
       "2                  None              None  9788072225514  \n",
       "3                  None              None  9788088652854  \n",
       "4                  None              None  9788027153923  \n",
       "...                 ...               ...            ...  \n",
       "12703              None              None  9788024936802  \n",
       "12704              None              None  9788072078325  \n",
       "12705              None              None  9788073354008  \n",
       "12706              None              None     8072151614  \n",
       "12707              None              None  9788087270516  \n",
       "\n",
       "[12708 rows x 39 columns]"
      ]
     },
     "execution_count": 80,
     "metadata": {},
     "output_type": "execute_result"
    }
   ],
   "source": [
    "df"
   ]
  },
  {
   "cell_type": "code",
   "execution_count": 81,
   "id": "0397ea5b",
   "metadata": {},
   "outputs": [
    {
     "data": {
      "text/plain": [
       "0        9788053005999\n",
       "1        9788075887368\n",
       "2        9788072225514\n",
       "3        9788088652854\n",
       "4        9788027153923\n",
       "             ...      \n",
       "12703    9788024936802\n",
       "12704    9788072078325\n",
       "12705    9788073354008\n",
       "12706       8072151614\n",
       "12707    9788087270516\n",
       "Name: isbn, Length: 12708, dtype: object"
      ]
     },
     "execution_count": 81,
     "metadata": {},
     "output_type": "execute_result"
    }
   ],
   "source": [
    "df['isbn']"
   ]
  },
  {
   "cell_type": "code",
   "execution_count": 82,
   "id": "ac4c0cac",
   "metadata": {},
   "outputs": [],
   "source": [
    "dk['skore'] = dk['DK_Chystám_se_číst'] + dk['DK_Přečtených']"
   ]
  },
  {
   "cell_type": "code",
   "execution_count": 83,
   "id": "66037ed5",
   "metadata": {},
   "outputs": [
    {
     "data": {
      "text/plain": [
       "Index(['DK_isbn', 'DK_date', 'DK_titul', 'DK_rating', 'DK_ratings_count',\n",
       "       'DK_tags', 'DK_Právě_čtených', 'DK_Přečtených', 'DK_Čtenářské_výzvě',\n",
       "       'DK_Knihotéce', 'DK_Chystám_se_číst', 'DK_Chci_si_koupit',\n",
       "       'DK_dalších_seznamech', 'DK_Doporučených', 'DK_autorstvo', 'DK_vyslo',\n",
       "       'DK_Mé_knihovně', 'skore', 'isbn'],\n",
       "      dtype='object')"
      ]
     },
     "execution_count": 83,
     "metadata": {},
     "output_type": "execute_result"
    }
   ],
   "source": [
    "dk.columns"
   ]
  },
  {
   "cell_type": "code",
   "execution_count": 84,
   "id": "42419bd2",
   "metadata": {},
   "outputs": [
    {
     "data": {
      "text/plain": [
       "Index(['M_titul', 'M_autorstvo', 'M_anotace', 'M_podtitul', 'M_tagy',\n",
       "       'M_počet_stran', 'M_vazba', 'M_rozměr', 'M_hmotnost', 'M_isbn',\n",
       "       'M_rok_vydání', 'M_jazyk', 'M_původ', 'M_nakladatel', 'M_pro_koho',\n",
       "       'M_originální_název', 'M_kategorizace', 'M_cena', 'M_obálka', 'M_ebook',\n",
       "       'M_audiokniha', 'M_datum', 'M_soubor', 'M_předběžné_datum_vydání',\n",
       "       'M_ilustrace', 'M_editoři', 'M_edice', 'M_vydání', 'M_překlad',\n",
       "       'M_série', 'M_díl', 'M_věkové_doporučení', 'M_styl', 'M_účel_knihy',\n",
       "       'M_ostatní', 'M_příloha', 'M_jazyková_úroveň', 'M_knižní_předloha',\n",
       "       'isbn'],\n",
       "      dtype='object')"
      ]
     },
     "execution_count": 84,
     "metadata": {},
     "output_type": "execute_result"
    }
   ],
   "source": [
    "df.columns"
   ]
  },
  {
   "cell_type": "markdown",
   "id": "fbb3eea3",
   "metadata": {},
   "source": [
    "### Nejvíce nových hodnocení od dubna '24"
   ]
  },
  {
   "cell_type": "code",
   "execution_count": 86,
   "id": "b3587968",
   "metadata": {},
   "outputs": [],
   "source": [
    "def hezky_titul(row):\n",
    "    try:\n",
    "        autorstvo = df[df['isbn'] == row['isbn']]['M_autorstvo'].drop_duplicates().to_list()[0]\n",
    "        return f\"\"\"{autorstvo}: {row['DK_titul']}\"\"\"\n",
    "    except:\n",
    "        return f\"\"\"?: {row['DK_titul']}\"\"\""
   ]
  },
  {
   "cell_type": "code",
   "execution_count": 87,
   "id": "2f1f8ada",
   "metadata": {},
   "outputs": [],
   "source": [
    "dk['hezky_titul'] = dk.apply(lambda row: hezky_titul(row), axis=1)"
   ]
  },
  {
   "cell_type": "code",
   "execution_count": 88,
   "id": "206e6667",
   "metadata": {},
   "outputs": [
    {
     "data": {
      "text/plain": [
       "hezky_titul\n",
       "Karin Lednická: Šikmý kostel 3                  1143.0\n",
       "Markéta Lukášková: Odvaha                        667.0\n",
       "Patrik Hartl: Gazely                             640.0\n",
       "Nina Špitálníková: Severka                       540.0\n",
       "Kristýna Trpková: Někdo z nás                    525.0\n",
       "?: U severní zdi                                 459.0\n",
       "Petra Dvořáková: Pláňata                         345.0\n",
       "Petra Klabouchová: Ignis fatuus                  318.0\n",
       "Marek Torčík: Rozložíš paměť                     300.0\n",
       "Kateřina Surmanová: Tři Sekery                   275.0\n",
       "Hana Marie Kornerová: Heřmánkové údolí           270.0\n",
       "Leoš Kyša: Sudetenland                           264.0\n",
       "Michaela Klevisová: Vraní oko                    253.0\n",
       "Štěpán Javůrek: Sudetský dům II: Podzim 1947     251.0\n",
       "Tereza Bartošová: Klekánice                      247.0\n",
       "Jakub Stanjura: Srpny                            246.0\n",
       "Radka Třeštíková: Kde jsi, když nejsi            238.0\n",
       "Tereza Bartošová Dvořáková: Vodník               226.0\n",
       "Jana Jašová: Krutý měsíc                         200.0\n",
       "?: Les v domě                                    199.0\n",
       "Name: DK_ratings_count, dtype: float64"
      ]
     },
     "execution_count": 88,
     "metadata": {},
     "output_type": "execute_result"
    }
   ],
   "source": [
    "pd.Series(dk.groupby(\"hezky_titul\")['DK_ratings_count'].max() - dk.groupby(\"hezky_titul\")['DK_ratings_count'].min()).nlargest(20)"
   ]
  },
  {
   "cell_type": "code",
   "execution_count": 89,
   "id": "319c0f73",
   "metadata": {},
   "outputs": [
    {
     "name": "stdout",
     "output_type": "stream",
     "text": [
      "12290 ISBN ke stažení\n",
      "Stahuji ISBN 9788087362341\n",
      "Stahuji ISBN 9788027910151\n",
      "Stahuji ISBN 9788090772632\n",
      "Stahuji ISBN 9788020460776\n",
      "Stahuji ISBN 9788027904969\n"
     ]
    }
   ],
   "source": [
    "#!/usr/bin/env python\n",
    "\n",
    "import os\n",
    "import requests\n",
    "import datetime\n",
    "import pandas as pd\n",
    "\n",
    "kam_stahovat = \"downloads/aleph\"\n",
    "\n",
    "if not os.path.exists(kam_stahovat):\n",
    "    os.makedirs(kam_stahovat)\n",
    "\n",
    "stazene = [s.split('.')[0] for s in os.listdir(kam_stahovat)]\n",
    "\n",
    "isbns = [i for i in pd.read_json(os.path.join('data','martinus_vyslo.json'))['M_isbn'].to_list() if len(i) == 13]\n",
    "\n",
    "print(f'{len(isbns)} ISBN ke stažení')\n",
    "\n",
    "headers = {\n",
    "    \"User-Agent\": \"Mozilla/5.0 (Windows NT 10.0; Win64; x64) AppleWebKit/537.36 (KHTML, like Gecko) Chrome/128.0.0.0 Safari/537.36\"\n",
    "}\n",
    "\n",
    "for i in isbns[1000:1005]:\n",
    "    if i not in stazene:\n",
    "\n",
    "        try:\n",
    "            print(f\"Stahuji ISBN {i}\")\n",
    "            r = requests.get(f\"https://aleph.nkp.cz/F/?func=find-b&find_code=ISN&x=0&y=0&request={i}&filter_code_1=WTP&filter_request_1=&filter_code_2=WLN&adjacent=N\", headers=headers, timeout=15)\n",
    "            r.encoding = r.apparent_encoding\n",
    "            if \"Úplné zobrazení záznamu\" in r.text:\n",
    "                with open(os.path.join(kam_stahovat,f'{i}.html'), \"w+\", encoding='utf-8') as f:\n",
    "                    f.write(f\"\"\"{r.text}\\n\\n<!-- {datetime.datetime.now().replace(microsecond=0)} -->\"\"\")\n",
    "        except Exception as E:\n",
    "            print(E)\n",
    "            pass\n",
    "    else:\n",
    "        print(f\"ISBN {i} už staženo\")\n",
    "\n",
    "for filename in os.listdir(kam_stahovat):\n",
    "    file_path = os.path.join(kam_stahovat, filename)\n",
    "    if os.path.isfile(file_path) and os.path.getsize(file_path) == 0:\n",
    "        print(f'Mažu {filename}')\n",
    "        os.remove(file_path)"
   ]
  },
  {
   "cell_type": "code",
   "execution_count": 90,
   "id": "8671a00a",
   "metadata": {},
   "outputs": [
    {
     "data": {
      "text/plain": [
       "['Alena Jakoubková: Sestra v klatbě',\n",
       " 'Bob Kuřík: Nečekáme nic od reforem: Kapitoly o českém anarchismu',\n",
       " 'Gabor Klaniczay: Časy otřesů: Čtyři medievisté a dvacáté století ve střední Evropě',\n",
       " '?: Flora',\n",
       " '?: Freud a osudová žena',\n",
       " 'Karel Veselý: Hudba srdce: Metafyzika popu',\n",
       " 'Vlastimil Hela: Fenomén Bílé Karpaty',\n",
       " '?: Canto ostinato: Listopad, prožitky blízké zimy',\n",
       " 'Jana Endlicherová: Job v zahraničí',\n",
       " 'Ladislav Beran: Jak přijít o vraha',\n",
       " 'Michal Viewegh: Bůh v renaultu',\n",
       " 'Vít Lucuk: Navzdory osudu',\n",
       " 'Petr Blažek: Koněv: Sovětský maršál a jeho pražský pomník',\n",
       " '?: Za plátno nevidíš',\n",
       " '?: Strašidelné Vánoce na hradě',\n",
       " '?: Toužimský & Moravec: Příběh nakladatelství',\n",
       " '?: Osm očí bez obočí',\n",
       " '?: Errol. Josefa Škvoreckého život první, 1924–1969',\n",
       " '?: Školní příběh pejska a kočičky',\n",
       " 'Pavel Vančata: Velitel palubních mechaniků: Služba palubních mechaniků na Liberatorech 311. perutě a životní osudy jejich velitele Stanislava Slezáčka',\n",
       " 'Vlastimil Vondruška: Slavná léta (1348–1355)',\n",
       " '?: Český bestiář',\n",
       " '?: Drak na polní cestě',\n",
       " 'Michaela Rulíšková: 50 příběhů pražského metra',\n",
       " 'Petr Jirák: Navzdory všem překážkám: Protinacistický odboj a odpor v soudním okrese Kojetín',\n",
       " '?: George Voskovec & John Werich: Americká cesta',\n",
       " 'Kristina Skulínková: Zdraví v kapse aneb Co se nestihlo v ordinaci',\n",
       " 'Bohumil Hrabal: Obsluhoval jsem anglického krále (5 povídek)',\n",
       " \"['Jiří Hora ml.', 'Jiří Hora']: Frenštát pod Radhoštěm včera a dnes\",\n",
       " 'Milan Nápravník: Dům dýmu',\n",
       " \"['Josef Moník', 'Marek Epstein', 'Kateřina Tučková', 'Viola Fischerová', 'Irena Hejdová', 'Magdaléna Stárková', 'Petra Soukupová', 'Petr Šabach']: O lidech a psech\",\n",
       " 'Přemysl Krejčík: Budovat ráj – Bourat peklo: Odraz totality v utopii, dystopii a dieselpunku',\n",
       " \"['Jitka Šotkovská', 'Marek Lollok', 'Tomáš Kubart']: České surrealistické drama\",\n",
       " 'David Jirásek: Ať nám smrt políbí prdel!',\n",
       " 'Rudolf Čechura: Příhody Maxipsa Fíka',\n",
       " '?: SuperMáňa a velká psí láska',\n",
       " '?: Dr. Alz',\n",
       " '?: Z blondýny zubařkou',\n",
       " '?: Druhá strana řeky',\n",
       " '?: Dvojí život',\n",
       " '?: Zubatá',\n",
       " '?: Zlato z metra',\n",
       " '?: Čtyři mimózy',\n",
       " 'Aleš Černý: Za trest',\n",
       " '?: Strašilové z krabičky',\n",
       " '?: Křik straky',\n",
       " 'Lukáš Vavrečka: Meziměsta',\n",
       " '?: Lebka černého démona',\n",
       " '?: Péťa, Packa a Betmen',\n",
       " 'Petra Jahelková: Dvacet vteřin ticha',\n",
       " '?: Ztracená lasička',\n",
       " 'Michal Tulach: Procitnutí',\n",
       " '?: Faustýn',\n",
       " 'Veronika Černucká: Ukolébavka pro mou maličkou',\n",
       " \"['Klára Trnková', 'Karel Čapek']: Zahradníkův rok\",\n",
       " '?: HEX: Bažina',\n",
       " '?: Duše Tichomoří',\n",
       " '?: Hvězdná noc',\n",
       " 'Petr Fiala: Vládnutí v čase krizí',\n",
       " \"['Hana Vymazalová', 'Miroslav Bárta']: Buď také písařem: Studie věnované památce Břetislava Vachaly\",\n",
       " '?: Čarodějky',\n",
       " '?: V říši stínů',\n",
       " '?: Bunkr',\n",
       " '?: Hranice času',\n",
       " '?: Vždycky je pozdě',\n",
       " 'Jolana Mathesová: Frajerky a život',\n",
       " \"['Kateřina Surmanová', 'Lucie Huškova', 'Miloš Urban', 'Markéta Pilátová', 'Anna Musilová', 'Alena Mornštajnová', 'David Urban', 'Michaela Klevisová']: Tomu říkám překvapení\",\n",
       " '?: Můj důvod žít',\n",
       " '?: Bráškové a hrozba z kalných vod',\n",
       " '?: Dokonalý kavalír',\n",
       " '?: Jizvy ve hvězdách',\n",
       " 'Jakub Mařík: V nefritové kleci',\n",
       " '?: Lišákova dobrodružství',\n",
       " '?: Indiánský erotikon: Zaručený recept na chutné manželství',\n",
       " '?: Medvídek Vilda se raduje',\n",
       " '?: Drobničky: Malé povídky pro velké holky',\n",
       " '?: Děsy první republiky',\n",
       " '?: Do hranice čisto',\n",
       " '?: Vánoční králíček',\n",
       " '?: Zločiny dvorního rady IV, Láska až za hrob',\n",
       " '?: Setkání na mostě aneb Sebevrah a vypravěč',\n",
       " '?: Jednooký: Malá knížka o velkém Žižkovi',\n",
       " '?: Polyxena z Lobkovic: Vzácný dar ryzí lásky',\n",
       " 'Dagmar Digma Čechová: Nadechni se potřetí...',\n",
       " '?: Pastevcovy zápisky',\n",
       " '?: O vánoční kometě',\n",
       " '?: Ajťácká detektivka',\n",
       " '?: Lipový lísteček',\n",
       " '?: Středomoří',\n",
       " '?: Stín smrti',\n",
       " '?: Milostný chorobopis nekonečného dospívání',\n",
       " '?: V náruči pomsty',\n",
       " '?: Devátá růže',\n",
       " '?: Ani minuta ticha',\n",
       " '?: Ptáci jsou dosud nečitelní',\n",
       " '?: Jak si nabít hubu',\n",
       " 'Štěpán Pudlák: Hejt',\n",
       " '?: Ažka, kočka na dožití a další úsměvné příběhy',\n",
       " 'Scarlett Wilková: Když přišli psi',\n",
       " '?: Kočičí lumpárny',\n",
       " '?: Zlatá grai',\n",
       " '?: Zamotané vesmíry',\n",
       " '?: Berta a Dušičky',\n",
       " '?: Elegie zapomenutých bohů',\n",
       " '?: Strach nad řekou',\n",
       " '?: Zvon',\n",
       " '?: Stále hratelná',\n",
       " '?: Vánoce v Šípkové ulici',\n",
       " '?: Soutěž jedlíků princezen a jiné dračí pohádky',\n",
       " '?: X',\n",
       " 'Petra Fido: Fuga mýho života',\n",
       " '?: Blesky a šílenství',\n",
       " '?: Pekelná béčková jízda',\n",
       " 'Lukáš Zárybnický: Vražda na Matterhornu',\n",
       " '?: Prorok',\n",
       " 'A. Gravensteen: Tahle voda je naše',\n",
       " 'Xerodoth Sigmius: Lidi, nebuďte kreténi!',\n",
       " '?: Mráz v kostech',\n",
       " 'Sára Topinková: Pilná jako včelka',\n",
       " '?: Nelinka a strom zázraků',\n",
       " 'Michal Viewegh: Obyčejná laskavost / Neobyčejná nestoudnost',\n",
       " '?: Chcípneš',\n",
       " 'Jan Hlubek: Jack Lampička',\n",
       " 'Oldřich Burda: Na konci fjordu',\n",
       " '?: Spláchnem to!',\n",
       " 'Blanka Kovaříková: Jak jsem se nenaučila řídit a jiné příběhy',\n",
       " '?: Dravé zvěři napospas',\n",
       " 'Magdalena Wagnerová: Dva koně se sedmi nohama',\n",
       " '?: Kapitánka Mia a cesta za pokladem',\n",
       " '?: Palačinkoví pátrači',\n",
       " '?: Rachmaninův tanečník',\n",
       " '?: Pohádka o zoubkové víle',\n",
       " '?: Pohádky o vodnících',\n",
       " 'Daniela Nacházelová: Krajina těla',\n",
       " '?: Pozor p(l)es!',\n",
       " '?: Sarkastická svině',\n",
       " '?: Meč z kostí',\n",
       " '?: O smutné noční můře',\n",
       " '?: Rok Proměny',\n",
       " '?: Divnoškola',\n",
       " '?: Historky z Tinderu 2 aneb Láska, sex a ten pravý nikde',\n",
       " '?: Neonový démon',\n",
       " '?: Setkání s Karlem Čapkem',\n",
       " 'Honza Vojtíšek: V zapomnění',\n",
       " '?: Rebelka Adélka Kabelka',\n",
       " '?: Pomsta',\n",
       " '?: Telátko popleta rádo pomáhá',\n",
       " '?: Závistivá kráva',\n",
       " '?: Čtyři schody k bohatství',\n",
       " '?: Nejdelší noc',\n",
       " '?: Znamení ohně',\n",
       " '?: Třída špiónů a velká hradní loupež',\n",
       " '?: Můj příšerný syn',\n",
       " '?: Příhody Mašinky Krabičky',\n",
       " 'Marta Knauerová: Život za krejcar, smrt za dva',\n",
       " 'Ivana Nováková: Magický infarkt',\n",
       " '?: Čmelda a Čmelinka',\n",
       " 'Ladislav Beran: Doteky zločinů',\n",
       " '?: Můj mladší bratr',\n",
       " '?: Vražda na zámku',\n",
       " '?: Zajíc Krajíc',\n",
       " 'Iva Tajovská: Pastýřka snů',\n",
       " '?: Kdysi tady hořel oheň',\n",
       " 'David Věrný: Bazén',\n",
       " '?: Najednou',\n",
       " '?: K smrti dobrý',\n",
       " '?: Plameny na moři',\n",
       " 'Jana Vrajová: Spisovatelkou z přesvědčení: Tvorba Terézy Novákové v diskurzivním různohlasí přelomu 19. a 20. století',\n",
       " 'Sergej Solouch: Nikdo za nic nedostane',\n",
       " '?: Jsem Milena z Prahy',\n",
       " '?: Rytíř zeleného kříže',\n",
       " 'Denisa Delareve: Čekám na to celej život',\n",
       " '?: O hvězdách víš hovno',\n",
       " '?: Záhada ukradeného diadému',\n",
       " 'Martin Jun: Křivda',\n",
       " '?: Písmem mojí přítelkyně',\n",
       " '?: Zakázané doteky',\n",
       " '?: Mimo obraz',\n",
       " '?: Den po dni',\n",
       " '?: Kouzelná domovní znamení: Vánoční příběh',\n",
       " '?: Vánoční trable s ovečkou',\n",
       " '?: Deníček Camille G: Čtverečka',\n",
       " '?: Poklad pana Harpagona',\n",
       " 'Oldřiška Ciprová: Alžběta Uherská',\n",
       " 'Martin Štefek: Perestrojka v Šamotce: Proměny vedoucí úlohy KSČ z perspektivy jednoho podniku',\n",
       " '?: Kroniky beskydských draků',\n",
       " 'Lenka Cvingráfová: Hvězdy nad námi',\n",
       " 'Madla Karasová Pospíšilová: Němý křik',\n",
       " '?: Nocturno pro Erika',\n",
       " '?: Baron Trenck: Panduři',\n",
       " '?: Plamínek a křišťálové kouzlo lesů',\n",
       " 'Petr Slavík: Tancuj, Matyldo',\n",
       " 'Roman Bureš: Propast času (remake)',\n",
       " 'Martina Novotná: Smrt na hradě Milštejně',\n",
       " '?: Šílenství v nás',\n",
       " '?: Maluj můru nohama vzhůru',\n",
       " '?: Řeckořímský flám',\n",
       " 'Petr Čermák: Cristiano Ronaldo: Nejlepší střelec',\n",
       " '?: Pohádkový advent',\n",
       " '?: 37 stupňů Celsia',\n",
       " '?: Pod stolem aneb Neobyčejná cesta malého drobka',\n",
       " '?: Hodně štěstí, zdraví',\n",
       " '?: Hry bez hranic',\n",
       " '?: Drahoušek na česneku',\n",
       " 'Dana Čermáková: Jiří Bartoška: Milovník života',\n",
       " 'Martin Dolejský: „Došlo na slova komunistů“: Edice meziválečného komunistického tisku',\n",
       " 'Karel Šiktanc: Na Knížecí / Horniny / Ubírati se / Opovážení / Z pozůstalosti',\n",
       " 'Vlastimil Vondruška: Román o růži',\n",
       " '?: Vánoce s kočkou',\n",
       " '?: Jednou nohou v řiti',\n",
       " 'Libuše Hrabová: Hermetikon',\n",
       " 'Dušan Procházka: Odysseova cesta',\n",
       " '?: Síťařka',\n",
       " 'Tanja Askani: Vlčí zázrak: Příběhy ze života s vlky',\n",
       " '?: Vita Humana',\n",
       " 'Kristina Hamplová: Lover/Fighter',\n",
       " '?: Malé královské sênek',\n",
       " 'Vlastimil Peška: Kotrmelce',\n",
       " '?: Vrah a lhář!',\n",
       " '?: Mají myši rády sýr?',\n",
       " '?: Nejkrásnější město na Zemi',\n",
       " '?: Remo: Léto s mimozemšťanem',\n",
       " 'Věra Nosková: Zpackaná masáž',\n",
       " \"['Ján Mrva', 'Tomáš Buchtele', 'Petr Čermák']: Jazyková situace v současném Španělsku\",\n",
       " 'Jaroslav Ráček: Kořist a žold 1397',\n",
       " '?: Moje obří strašilka',\n",
       " '?: Jsi někdo jiný',\n",
       " 'Stanislav Termann: Time management',\n",
       " '?: Kronika lesa 2: Smrkonosná past',\n",
       " '?: Ženění',\n",
       " '?: Nejkrásnější z orchidejí',\n",
       " '?: Osudové kruhy',\n",
       " 'Michal Jareš: Je člověk divný tvor',\n",
       " 'Vít Dan Kolinger: Dopoledne s mátovým čajem',\n",
       " 'Valentina Lebová: Byla to jízda: (Do říše snů!)']"
      ]
     },
     "execution_count": 90,
     "metadata": {},
     "output_type": "execute_result"
    }
   ],
   "source": [
    "dk_stare = dk[dk['DK_date'] < month_ago]['hezky_titul'].drop_duplicates().to_list()\n",
    "dk_nove = dk[~dk['hezky_titul'].isin(dk_stare)]['hezky_titul'].drop_duplicates().to_list()\n",
    "dk_nove"
   ]
  },
  {
   "cell_type": "code",
   "execution_count": 91,
   "id": "2384d756",
   "metadata": {},
   "outputs": [
    {
     "data": {
      "text/plain": [
       "hezky_titul\n",
       "Karin Lednická: Šikmý kostel 3                                          166.0\n",
       "Hana Whitton: Anna Svídnická: Krásná Anna – nečekaná láska Karla IV.    160.0\n",
       "Petra Klabouchová: Ignis fatuus                                         159.0\n",
       "?: Drak na polní cestě                                                  158.0\n",
       "?: Aristokratka v Československu                                        128.0\n",
       "?: Les v domě                                                           115.0\n",
       "Ondřej Šanc: Jako po drátku                                             109.0\n",
       "?: Les                                                                  100.0\n",
       "Markéta Lukášková: Odvaha                                                99.0\n",
       "Patrik Hartl: Gazely                                                     99.0\n",
       "Marek Torčík: Rozložíš paměť                                             88.0\n",
       "Iva Hadj Moussa: Těžké duše                                              87.0\n",
       "Tereza Boučková: Dům v Matoušově ulici                                   84.0\n",
       "?: U severní zdi                                                         83.0\n",
       "?: Flora                                                                 80.0\n",
       "Leoš Kyša: Sudetenland                                                   80.0\n",
       "Nina Špitálníková: Severka                                               79.0\n",
       "Miroslav Hlaučo: Letnice                                                 74.0\n",
       "Scarlett Wilková: Když přišli psi                                        69.0\n",
       "?: Čarodějky                                                             60.0\n",
       "Kateřina Surmanová: Tři Sekery                                           57.0\n",
       "Štěpán Javůrek: Sudetský dům II: Podzim 1947                             55.0\n",
       "Scarlett Wilková: Ty chladné oči                                         51.0\n",
       "Hana Marie Kornerová: Heřmánkové údolí                                   49.0\n",
       "Tereza Bartošová: Klekánice                                              49.0\n",
       "?: Válka s Mloky                                                         49.0\n",
       "Kristýna Trpková: Někdo z nás                                            48.0\n",
       "Jana Jašová: Krutý měsíc                                                 48.0\n",
       "Bianca Bellová: Neviditelný muž                                          47.0\n",
       "Tereza Bartošová: Dceřina kletba                                         46.0\n",
       "Name: skore, dtype: float64"
      ]
     },
     "execution_count": 91,
     "metadata": {},
     "output_type": "execute_result"
    }
   ],
   "source": [
    "dk_mesic_celkem = pd.Series(dk.groupby(\"hezky_titul\")['skore'].max() - dk[dk['DK_date'] > month_ago].groupby(\"hezky_titul\")['skore'].min()).sort_values(ascending=False)\n",
    "dk_mesic_celkem.nlargest(30)"
   ]
  },
  {
   "cell_type": "code",
   "execution_count": 92,
   "id": "a18c9c23",
   "metadata": {},
   "outputs": [],
   "source": [
    "def nakladatelstvi(isbn):\n",
    "    try:\n",
    "        return df[df['isbn'] == isbn]['M_nakladatel'].drop_duplicates().to_list()[0]\n",
    "    except:\n",
    "        return None"
   ]
  },
  {
   "cell_type": "code",
   "execution_count": 93,
   "id": "6b589d1a",
   "metadata": {},
   "outputs": [],
   "source": [
    "dk['nakladatel'] = dk['isbn'].apply(lambda x: nakladatelstvi(x))"
   ]
  },
  {
   "cell_type": "code",
   "execution_count": 94,
   "id": "d6a70174",
   "metadata": {},
   "outputs": [
    {
     "data": {
      "text/plain": [
       "51387    Jan Těsnohlídek - JT´s nakladatelství\n",
       "48053                Akademie výtvarných umění\n",
       "7331                  Akademie múzických umění\n",
       "48301                                   Epocha\n",
       "26362                                   Dybbuk\n",
       "52217                                     MaHa\n",
       "52422                                Protimluv\n",
       "53362                                     None\n",
       "39104                                  Eminent\n",
       "35431                  Nakladatelství Fragment\n",
       "48987                      Jonathan Livingston\n",
       "1999                             C. H. Beck SK\n",
       "30451                                     None\n",
       "14074                              Radioservis\n",
       "42328                                  Malvern\n",
       "55084                                     Maťa\n",
       "27774                                   CPRESS\n",
       "7804                                 CooBoo CZ\n",
       "35728                                   Kalibr\n",
       "676                                       Host\n",
       "Name: nakladatel, dtype: object"
      ]
     },
     "execution_count": 94,
     "metadata": {},
     "output_type": "execute_result"
    }
   ],
   "source": [
    "dk['nakladatel'].sample(20)"
   ]
  },
  {
   "cell_type": "code",
   "execution_count": 95,
   "id": "f636d23f",
   "metadata": {},
   "outputs": [
    {
     "data": {
      "text/plain": [
       "hezky_titul                                              nakladatel     skore\n",
       "A. Gravensteen: Tahle voda je naše                       Paseka         17.0    2024-12-02 04:09:32\n",
       "                                                                        18.0    2024-12-09 03:54:11\n",
       "                                                                        19.0    2024-12-16 03:59:27\n",
       "Adam Kašpar: Adam Kašpar                                 Books & Pipes  2.0     2024-11-11 03:49:22\n",
       "Adam Táborský: Terapie mezi stromy                       Portál         25.0    2024-11-11 03:52:32\n",
       "                                                                                        ...        \n",
       "Šárka Przewozná: Skutečná                                Vendeta        53.0    2024-11-18 04:06:04\n",
       "                                                                        56.0    2024-12-02 04:21:11\n",
       "                                                                        57.0    2024-12-16 04:01:45\n",
       "Žaneta Neužilová: Do skonání věků 2: A jak to bylo dál?  Pointa         13.0    2024-11-11 03:56:19\n",
       "                                                                        14.0    2024-11-18 04:02:20\n",
       "Name: DK_date, Length: 3743, dtype: datetime64[ns]"
      ]
     },
     "execution_count": 95,
     "metadata": {},
     "output_type": "execute_result"
    }
   ],
   "source": [
    "dk[dk['DK_date'] > month_ago].groupby(['hezky_titul','nakladatel','skore'])['DK_date'].first()"
   ]
  },
  {
   "cell_type": "code",
   "execution_count": 96,
   "id": "5c79cebe",
   "metadata": {},
   "outputs": [
    {
     "data": {
      "text/plain": [
       "hezky_titul                                              nakladatel   \n",
       "A. Gravensteen: Tahle voda je naše                       Paseka            17.0\n",
       "Adam Kašpar: Adam Kašpar                                 Books & Pipes      2.0\n",
       "Adam Táborský: Terapie mezi stromy                       Portál            25.0\n",
       "Adriana Krnáčová: Nemesis: Temné město                   Kalibr            25.0\n",
       "Adéla Chrástecká: Všechno, co jsem zapomněla             Pointa            44.0\n",
       "                                                                          ...  \n",
       "Šárka Andrlová: Tajemství domu v L.                      Moba             168.0\n",
       "Šárka Hieková: Léto na zámku                             Moba              68.0\n",
       "Šárka Hieková: Možná už zítra                            Moba             161.0\n",
       "Šárka Przewozná: Skutečná                                Vendeta           52.0\n",
       "Žaneta Neužilová: Do skonání věků 2: A jak to bylo dál?  Pointa            13.0\n",
       "Name: skore, Length: 1767, dtype: float64"
      ]
     },
     "execution_count": 96,
     "metadata": {},
     "output_type": "execute_result"
    }
   ],
   "source": [
    "dk[dk['DK_date'] > month_ago].groupby(['hezky_titul','nakladatel'])['skore'].min()"
   ]
  },
  {
   "cell_type": "code",
   "execution_count": 97,
   "id": "27204752",
   "metadata": {},
   "outputs": [
    {
     "data": {
      "text/html": [
       "<div>\n",
       "<style scoped>\n",
       "    .dataframe tbody tr th:only-of-type {\n",
       "        vertical-align: middle;\n",
       "    }\n",
       "\n",
       "    .dataframe tbody tr th {\n",
       "        vertical-align: top;\n",
       "    }\n",
       "\n",
       "    .dataframe thead th {\n",
       "        text-align: right;\n",
       "    }\n",
       "</style>\n",
       "<table border=\"1\" class=\"dataframe\">\n",
       "  <thead>\n",
       "    <tr style=\"text-align: right;\">\n",
       "      <th></th>\n",
       "      <th></th>\n",
       "      <th>skore</th>\n",
       "    </tr>\n",
       "    <tr>\n",
       "      <th>hezky_titul</th>\n",
       "      <th>nakladatel</th>\n",
       "      <th></th>\n",
       "    </tr>\n",
       "  </thead>\n",
       "  <tbody>\n",
       "    <tr>\n",
       "      <th>A. Gravensteen: Tahle voda je naše</th>\n",
       "      <th>Paseka</th>\n",
       "      <td>2.0</td>\n",
       "    </tr>\n",
       "    <tr>\n",
       "      <th>Adam Kašpar: Adam Kašpar</th>\n",
       "      <th>Books &amp; Pipes</th>\n",
       "      <td>0.0</td>\n",
       "    </tr>\n",
       "    <tr>\n",
       "      <th>Adam Táborský: Terapie mezi stromy</th>\n",
       "      <th>Portál</th>\n",
       "      <td>3.0</td>\n",
       "    </tr>\n",
       "    <tr>\n",
       "      <th>Adriana Krnáčová: Nemesis: Temné město</th>\n",
       "      <th>Kalibr</th>\n",
       "      <td>1.0</td>\n",
       "    </tr>\n",
       "    <tr>\n",
       "      <th>Adéla Chrástecká: Všechno, co jsem zapomněla</th>\n",
       "      <th>Pointa</th>\n",
       "      <td>5.0</td>\n",
       "    </tr>\n",
       "    <tr>\n",
       "      <th>...</th>\n",
       "      <th>...</th>\n",
       "      <td>...</td>\n",
       "    </tr>\n",
       "    <tr>\n",
       "      <th>Šárka Andrlová: Tajemství domu v L.</th>\n",
       "      <th>Moba</th>\n",
       "      <td>4.0</td>\n",
       "    </tr>\n",
       "    <tr>\n",
       "      <th>Šárka Hieková: Léto na zámku</th>\n",
       "      <th>Moba</th>\n",
       "      <td>6.0</td>\n",
       "    </tr>\n",
       "    <tr>\n",
       "      <th>Šárka Hieková: Možná už zítra</th>\n",
       "      <th>Moba</th>\n",
       "      <td>11.0</td>\n",
       "    </tr>\n",
       "    <tr>\n",
       "      <th>Šárka Przewozná: Skutečná</th>\n",
       "      <th>Vendeta</th>\n",
       "      <td>5.0</td>\n",
       "    </tr>\n",
       "    <tr>\n",
       "      <th>Žaneta Neužilová: Do skonání věků 2: A jak to bylo dál?</th>\n",
       "      <th>Pointa</th>\n",
       "      <td>1.0</td>\n",
       "    </tr>\n",
       "  </tbody>\n",
       "</table>\n",
       "<p>1767 rows × 1 columns</p>\n",
       "</div>"
      ],
      "text/plain": [
       "                                                                  skore\n",
       "hezky_titul                                        nakladatel          \n",
       "A. Gravensteen: Tahle voda je naše                 Paseka           2.0\n",
       "Adam Kašpar: Adam Kašpar                           Books & Pipes    0.0\n",
       "Adam Táborský: Terapie mezi stromy                 Portál           3.0\n",
       "Adriana Krnáčová: Nemesis: Temné město             Kalibr           1.0\n",
       "Adéla Chrástecká: Všechno, co jsem zapomněla       Pointa           5.0\n",
       "...                                                                 ...\n",
       "Šárka Andrlová: Tajemství domu v L.                Moba             4.0\n",
       "Šárka Hieková: Léto na zámku                       Moba             6.0\n",
       "Šárka Hieková: Možná už zítra                      Moba            11.0\n",
       "Šárka Przewozná: Skutečná                          Vendeta          5.0\n",
       "Žaneta Neužilová: Do skonání věků 2: A jak to b... Pointa           1.0\n",
       "\n",
       "[1767 rows x 1 columns]"
      ]
     },
     "execution_count": 97,
     "metadata": {},
     "output_type": "execute_result"
    }
   ],
   "source": [
    "pd.DataFrame(dk[dk['DK_date'] > month_ago].groupby(['hezky_titul','nakladatel'])['skore'].max() - dk[dk['DK_date'] > month_ago].groupby(['hezky_titul','nakladatel'])['skore'].min())"
   ]
  },
  {
   "cell_type": "code",
   "execution_count": 98,
   "id": "ddd89698",
   "metadata": {},
   "outputs": [],
   "source": [
    "pribytek = pd.DataFrame(dk[dk['DK_date'] > month_ago].groupby(['hezky_titul','nakladatel'])['skore'].max() - dk[dk['DK_date'] > month_ago].groupby(['hezky_titul','nakladatel'])['skore'].min()).groupby('nakladatel').sum().reset_index().sum().iloc[1]"
   ]
  },
  {
   "cell_type": "code",
   "execution_count": 99,
   "id": "00ac5782",
   "metadata": {},
   "outputs": [
    {
     "data": {
      "text/html": [
       "<div>\n",
       "<style scoped>\n",
       "    .dataframe tbody tr th:only-of-type {\n",
       "        vertical-align: middle;\n",
       "    }\n",
       "\n",
       "    .dataframe tbody tr th {\n",
       "        vertical-align: top;\n",
       "    }\n",
       "\n",
       "    .dataframe thead th {\n",
       "        text-align: right;\n",
       "    }\n",
       "</style>\n",
       "<table border=\"1\" class=\"dataframe\">\n",
       "  <thead>\n",
       "    <tr style=\"text-align: right;\">\n",
       "      <th></th>\n",
       "      <th>nakladatel</th>\n",
       "      <th>podil</th>\n",
       "    </tr>\n",
       "  </thead>\n",
       "  <tbody>\n",
       "    <tr>\n",
       "      <th>202</th>\n",
       "      <td>Motto</td>\n",
       "      <td>10,4 %</td>\n",
       "    </tr>\n",
       "    <tr>\n",
       "      <th>128</th>\n",
       "      <td>Host</td>\n",
       "      <td>9,2 %</td>\n",
       "    </tr>\n",
       "    <tr>\n",
       "      <th>199</th>\n",
       "      <td>Moba</td>\n",
       "      <td>9,2 %</td>\n",
       "    </tr>\n",
       "    <tr>\n",
       "      <th>131</th>\n",
       "      <td>Ikar CZ</td>\n",
       "      <td>6,6 %</td>\n",
       "    </tr>\n",
       "    <tr>\n",
       "      <th>250</th>\n",
       "      <td>Paseka</td>\n",
       "      <td>4,3 %</td>\n",
       "    </tr>\n",
       "    <tr>\n",
       "      <th>21</th>\n",
       "      <td>Argo</td>\n",
       "      <td>4,1 %</td>\n",
       "    </tr>\n",
       "    <tr>\n",
       "      <th>144</th>\n",
       "      <td>Kalibr</td>\n",
       "      <td>3,7 %</td>\n",
       "    </tr>\n",
       "    <tr>\n",
       "      <th>89</th>\n",
       "      <td>Epocha</td>\n",
       "      <td>3,4 %</td>\n",
       "    </tr>\n",
       "    <tr>\n",
       "      <th>47</th>\n",
       "      <td>Bílá vrána</td>\n",
       "      <td>2,7 %</td>\n",
       "    </tr>\n",
       "    <tr>\n",
       "      <th>210</th>\n",
       "      <td>Mystery Press</td>\n",
       "      <td>2,3 %</td>\n",
       "    </tr>\n",
       "    <tr>\n",
       "      <th>42</th>\n",
       "      <td>Bourdon</td>\n",
       "      <td>2,2 %</td>\n",
       "    </tr>\n",
       "    <tr>\n",
       "      <th>170</th>\n",
       "      <td>Listen</td>\n",
       "      <td>2,1 %</td>\n",
       "    </tr>\n",
       "    <tr>\n",
       "      <th>65</th>\n",
       "      <td>CooBoo CZ</td>\n",
       "      <td>2,1 %</td>\n",
       "    </tr>\n",
       "    <tr>\n",
       "      <th>242</th>\n",
       "      <td>Odeon CZ</td>\n",
       "      <td>1,6 %</td>\n",
       "    </tr>\n",
       "    <tr>\n",
       "      <th>334</th>\n",
       "      <td>Vendeta</td>\n",
       "      <td>1,5 %</td>\n",
       "    </tr>\n",
       "    <tr>\n",
       "      <th>51</th>\n",
       "      <td>CPRESS</td>\n",
       "      <td>1,3 %</td>\n",
       "    </tr>\n",
       "    <tr>\n",
       "      <th>214</th>\n",
       "      <td>NLN s.r.o.</td>\n",
       "      <td>1,3 %</td>\n",
       "    </tr>\n",
       "    <tr>\n",
       "      <th>217</th>\n",
       "      <td>Nakladatelství Fragment</td>\n",
       "      <td>1,1 %</td>\n",
       "    </tr>\n",
       "    <tr>\n",
       "      <th>266</th>\n",
       "      <td>Pointa</td>\n",
       "      <td>1,1 %</td>\n",
       "    </tr>\n",
       "    <tr>\n",
       "      <th>191</th>\n",
       "      <td>Mediaplex</td>\n",
       "      <td>1,1 %</td>\n",
       "    </tr>\n",
       "    <tr>\n",
       "      <th>350</th>\n",
       "      <td>XYZ</td>\n",
       "      <td>1,1 %</td>\n",
       "    </tr>\n",
       "    <tr>\n",
       "      <th>100</th>\n",
       "      <td>Fobos</td>\n",
       "      <td>1,0 %</td>\n",
       "    </tr>\n",
       "    <tr>\n",
       "      <th>342</th>\n",
       "      <td>Vyšehrad</td>\n",
       "      <td>1,0 %</td>\n",
       "    </tr>\n",
       "  </tbody>\n",
       "</table>\n",
       "</div>"
      ],
      "text/plain": [
       "                  nakladatel   podil\n",
       "202                    Motto  10,4 %\n",
       "128                     Host   9,2 %\n",
       "199                     Moba   9,2 %\n",
       "131                  Ikar CZ   6,6 %\n",
       "250                   Paseka   4,3 %\n",
       "21                      Argo   4,1 %\n",
       "144                   Kalibr   3,7 %\n",
       "89                    Epocha   3,4 %\n",
       "47                Bílá vrána   2,7 %\n",
       "210            Mystery Press   2,3 %\n",
       "42                   Bourdon   2,2 %\n",
       "170                   Listen   2,1 %\n",
       "65                 CooBoo CZ   2,1 %\n",
       "242                 Odeon CZ   1,6 %\n",
       "334                  Vendeta   1,5 %\n",
       "51                    CPRESS   1,3 %\n",
       "214               NLN s.r.o.   1,3 %\n",
       "217  Nakladatelství Fragment   1,1 %\n",
       "266                   Pointa   1,1 %\n",
       "191                Mediaplex   1,1 %\n",
       "350                      XYZ   1,1 %\n",
       "100                    Fobos   1,0 %\n",
       "342                 Vyšehrad   1,0 %"
      ]
     },
     "execution_count": 99,
     "metadata": {},
     "output_type": "execute_result"
    }
   ],
   "source": [
    "nakladatelstvo = pd.DataFrame(dk[dk['DK_date'] > month_ago].groupby(['hezky_titul','nakladatel'])['skore'].max() - dk[dk['DK_date'] > month_ago].groupby(['hezky_titul','nakladatel'])['skore'].min()).groupby('nakladatel').sum().reset_index()\n",
    "nakladatelstvo['podil'] = nakladatelstvo['skore'] / pribytek\n",
    "nakladatelstvo = nakladatelstvo[nakladatelstvo['podil'] >= 0.01]\n",
    "nakladatelstvo['podil'] = nakladatelstvo['podil'].apply(lambda x: f\"\"\"{round(x * 100, 1)} %\"\"\".replace(\".\", \",\"))\n",
    "nakladatelstvo = nakladatelstvo.sort_values(by='skore',ascending=False)\n",
    "nakladatelstvo = nakladatelstvo.drop(columns=['skore'])\n",
    "nakladatelstvo"
   ]
  },
  {
   "cell_type": "code",
   "execution_count": 100,
   "id": "866d176f",
   "metadata": {},
   "outputs": [
    {
     "data": {
      "text/plain": [
       "Index(['DK_isbn', 'DK_date', 'DK_titul', 'DK_rating', 'DK_ratings_count',\n",
       "       'DK_tags', 'DK_Právě_čtených', 'DK_Přečtených', 'DK_Čtenářské_výzvě',\n",
       "       'DK_Knihotéce', 'DK_Chystám_se_číst', 'DK_Chci_si_koupit',\n",
       "       'DK_dalších_seznamech', 'DK_Doporučených', 'DK_autorstvo', 'DK_vyslo',\n",
       "       'DK_Mé_knihovně', 'skore', 'isbn', 'hezky_titul', 'nakladatel'],\n",
       "      dtype='object')"
      ]
     },
     "execution_count": 100,
     "metadata": {},
     "output_type": "execute_result"
    }
   ],
   "source": [
    "dk.columns"
   ]
  },
  {
   "cell_type": "code",
   "execution_count": 101,
   "id": "dc014445",
   "metadata": {},
   "outputs": [],
   "source": [
    "def koho_vydavaji(n):\n",
    "    top = dk[dk['nakladatel'] == n].groupby('hezky_titul')['DK_ratings_count'].max().nlargest(10).index.to_list()\n",
    "    top2 = [x.split(\":\")[0] for x in top if \"[\" not in x]\n",
    "    top2 = list(set(top2))\n",
    "    kolik = len(top2)\n",
    "    if kolik >= 3:\n",
    "        return top2[:3]\n",
    "    else:\n",
    "        return top2"
   ]
  },
  {
   "cell_type": "code",
   "execution_count": 102,
   "id": "575f80d7",
   "metadata": {},
   "outputs": [
    {
     "name": "stdout",
     "output_type": "stream",
     "text": [
      "['Lukášková', 'Duffková', 'Poncarová']\n",
      "['Denemarková', 'Lauder', 'Šesták']\n",
      "['Vondruška', 'Javůrek', 'Horáková']\n",
      "['Křivánková', 'Dolejšová', 'Kubíková']\n",
      "['Dostálová', 'Kašpárek', 'Hlaučo']\n",
      "['Hůlová', 'Kang', 'Štoflová']\n",
      "['Surmanová', 'Ludvíková', 'Bauer']\n",
      "['Sněgoňová', 'Bureš', 'Kotleta']\n",
      "['Lednická']\n",
      "['Rejfová', 'Mařík', 'Velinský']\n",
      "['Hartl', 'Kalenda', 'Chalupníková']\n",
      "['Ambrožová', 'Vlasáková', 'Huškova']\n",
      "['Heinrichová', 'Meixnerová', 'Nofreeusernames']\n",
      "['Řehák', 'Švanda', 'Veselá']\n",
      "['Kyša', 'Piloušková', 'Przewozná']\n",
      "['Vojáček', 'Žáková', 'Müller']\n",
      "['Špitálníková']\n",
      "['Eislerová', 'Luxová', 'Rosípalová']\n",
      "['Švancara', 'Kokinopulosová', 'Marková']\n",
      "['Jell', 'Sky', 'Peas']\n",
      "['Macek', 'Pavel', 'Novotný']\n",
      "['Sacká', 'Hlubek', 'Hlavničková']\n",
      "['Březina', 'Saavedra', 'Sokol']\n"
     ]
    }
   ],
   "source": [
    "for index, row in nakladatelstvo.iterrows():\n",
    "    stars = koho_vydavaji(row['nakladatel'])\n",
    "    stars_kratce = [x.split(' ')[-1] for x in stars]\n",
    "    print(stars_kratce)"
   ]
  },
  {
   "cell_type": "code",
   "execution_count": 103,
   "id": "3276f0c5",
   "metadata": {},
   "outputs": [
    {
     "data": {
      "text/plain": [
       "nakladatel    hezky_titul                                                  \n",
       "Bourdon       Patrik Hartl: Okamžiky štěstí                                    8932.0\n",
       "Moba          Hana Marie Kornerová: Heřmánkové údolí                           7365.0\n",
       "Triáda        Anne Franková: Zadní dům: Deník                                  7207.0\n",
       "Mladá fronta  Bohumil Hrabal: Obsluhoval jsem anglického krále                 3605.0\n",
       "Bourdon       Patrik Hartl: Gazely                                             3185.0\n",
       "Kniha Zlín    Hynek Čapka: Neviditelné kořeny                                  3065.0\n",
       "1400          Jaroslav Hašek: Osudy dobrého vojáka Švejka za světové války     2492.0\n",
       "Odeon CZ      ['Josef Lada', 'Jaroslav Hašek']: Osudy dobrého vojáka Švejka    2492.0\n",
       "Bílá vrána    Karin Lednická: Šikmý kostel 3                                   2478.0\n",
       "Motto         Jana Poncarová: Podbrdské ženy                                   2408.0\n",
       "              Michaela Klevisová: Vraní oko                                    2295.0\n",
       "NLN s.r.o.    Nina Špitálníková: Severka                                       2219.0\n",
       "Motto         Radka Třeštíková: Kde jsi, když nejsi                            2125.0\n",
       "Epocha        František Kotleta: Fakt hustej nářez                             1891.0\n",
       "Labyrint      Václav Hrabě: Blues: Blues pro bláznivou holku                   1784.0\n",
       "Host          Petra Dvořáková: Pláňata                                         1758.0\n",
       "Motto         Michaela Duffková: Zápisník alkoholičky                          1757.0\n",
       "              Scarlett Wilková: Ty chladné oči                                 1647.0\n",
       "Host          Jakub Stanjura: Srpny                                            1557.0\n",
       "Kalibr        Kristýna Trpková: Někdo z nás                                    1488.0\n",
       "Name: skore, dtype: float64"
      ]
     },
     "execution_count": 103,
     "metadata": {},
     "output_type": "execute_result"
    }
   ],
   "source": [
    "dk[dk['DK_date'] > month_ago].groupby(['nakladatel','hezky_titul'])['skore'].max().nlargest(20)"
   ]
  },
  {
   "cell_type": "code",
   "execution_count": 104,
   "id": "e3c1ae34",
   "metadata": {
    "scrolled": true
   },
   "outputs": [
    {
     "data": {
      "text/html": [
       "<div>\n",
       "<style scoped>\n",
       "    .dataframe tbody tr th:only-of-type {\n",
       "        vertical-align: middle;\n",
       "    }\n",
       "\n",
       "    .dataframe tbody tr th {\n",
       "        vertical-align: top;\n",
       "    }\n",
       "\n",
       "    .dataframe thead th {\n",
       "        text-align: right;\n",
       "    }\n",
       "</style>\n",
       "<table border=\"1\" class=\"dataframe\">\n",
       "  <thead>\n",
       "    <tr style=\"text-align: right;\">\n",
       "      <th></th>\n",
       "      <th>DK_isbn</th>\n",
       "      <th>DK_date</th>\n",
       "      <th>DK_titul</th>\n",
       "      <th>DK_rating</th>\n",
       "      <th>DK_ratings_count</th>\n",
       "      <th>DK_tags</th>\n",
       "      <th>DK_Právě_čtených</th>\n",
       "      <th>DK_Přečtených</th>\n",
       "      <th>DK_Čtenářské_výzvě</th>\n",
       "      <th>DK_Knihotéce</th>\n",
       "      <th>...</th>\n",
       "      <th>DK_Chci_si_koupit</th>\n",
       "      <th>DK_dalších_seznamech</th>\n",
       "      <th>DK_Doporučených</th>\n",
       "      <th>DK_autorstvo</th>\n",
       "      <th>DK_vyslo</th>\n",
       "      <th>DK_Mé_knihovně</th>\n",
       "      <th>skore</th>\n",
       "      <th>isbn</th>\n",
       "      <th>hezky_titul</th>\n",
       "      <th>nakladatel</th>\n",
       "    </tr>\n",
       "  </thead>\n",
       "  <tbody>\n",
       "  </tbody>\n",
       "</table>\n",
       "<p>0 rows × 21 columns</p>\n",
       "</div>"
      ],
      "text/plain": [
       "Empty DataFrame\n",
       "Columns: [DK_isbn, DK_date, DK_titul, DK_rating, DK_ratings_count, DK_tags, DK_Právě_čtených, DK_Přečtených, DK_Čtenářské_výzvě, DK_Knihotéce, DK_Chystám_se_číst, DK_Chci_si_koupit, DK_dalších_seznamech, DK_Doporučených, DK_autorstvo, DK_vyslo, DK_Mé_knihovně, skore, isbn, hezky_titul, nakladatel]\n",
       "Index: []\n",
       "\n",
       "[0 rows x 21 columns]"
      ]
     },
     "execution_count": 104,
     "metadata": {},
     "output_type": "execute_result"
    }
   ],
   "source": [
    "dk[dk['hezky_titul'].str.contains('Prchal')]"
   ]
  },
  {
   "cell_type": "code",
   "execution_count": null,
   "id": "b19ab3fa",
   "metadata": {},
   "outputs": [],
   "source": []
  },
  {
   "cell_type": "code",
   "execution_count": 105,
   "id": "4ac39e76",
   "metadata": {},
   "outputs": [
    {
     "data": {
      "text/plain": [
       "['Dorota Ambrožová', 'Klára Vlasáková', 'Lucie Huškova']"
      ]
     },
     "execution_count": 105,
     "metadata": {},
     "output_type": "execute_result"
    }
   ],
   "source": [
    "koho_vydavaji('Listen')"
   ]
  },
  {
   "cell_type": "code",
   "execution_count": 106,
   "id": "5c8a657c",
   "metadata": {},
   "outputs": [
    {
     "name": "stdout",
     "output_type": "stream",
     "text": [
      "Markéta Lukášková, Michaela Duffková, Jana Poncarová\n",
      "Radka Denemarková, Silvie Lauder, Petr Šesták\n",
      "Vlastimil Vondruška, Štěpán Javůrek, Naďa Horáková\n",
      "Pavlína Křivánková, Eva Dolejšová, Karla Kubíková\n",
      "Zuzana Dostálová, Michal Kašpárek, Miroslav Hlaučo\n",
      "Petra Hůlová, Kateřina Kang, Danka Štoflová\n",
      "Kateřina Surmanová, Jitka Ludvíková, Jan Bauer\n",
      "Kristýna Sněgoňová, Roman Bureš, František Kotleta\n",
      "Karin Lednická\n",
      "Marie Rejfová, Jakub Mařík, Jaroslav Velinský\n",
      "Patrik Hartl, František Kalenda, Kateřina Chalupníková\n",
      "Dorota Ambrožová, Klára Vlasáková, Lucie Huškova\n",
      "Alena Adrianet Heinrichová, Karolína Zoe Meixnerová, Nofreeusernames\n",
      "Jakub Řehák, Martin Švanda, Marta Jirousová Veselá\n",
      "Leoš Kyša, Irena Piloušková, Šárka Przewozná\n",
      "Jan Vojáček, Ivana Žáková, František Müller\n",
      "Nina Špitálníková\n",
      "Jana Eislerová, Blanka Luxová, Adéla Rosípalová\n",
      "Jan Švancara, Iva Kokinopulosová, Tereza Marková\n",
      "Marcy Jell, Indy Sky, Nika Peas\n",
      "Miroslav Macek, Josef Pavel, Aleš Novotný\n",
      "Vlaďka Sacká, Jan Hlubek, Lenka Hlavničková\n",
      "Jiří Březina, Anna Saavedra, Jan Sokol\n"
     ]
    }
   ],
   "source": [
    "for index, row in nakladatelstvo.iterrows():\n",
    "    stars = koho_vydavaji(row['nakladatel'])\n",
    "    print(', '.join(stars))"
   ]
  },
  {
   "cell_type": "code",
   "execution_count": 107,
   "id": "538f50b2",
   "metadata": {},
   "outputs": [
    {
     "data": {
      "text/html": [
       "<div>\n",
       "<style scoped>\n",
       "    .dataframe tbody tr th:only-of-type {\n",
       "        vertical-align: middle;\n",
       "    }\n",
       "\n",
       "    .dataframe tbody tr th {\n",
       "        vertical-align: top;\n",
       "    }\n",
       "\n",
       "    .dataframe thead th {\n",
       "        text-align: right;\n",
       "    }\n",
       "</style>\n",
       "<table border=\"1\" class=\"dataframe\">\n",
       "  <thead>\n",
       "    <tr style=\"text-align: right;\">\n",
       "      <th></th>\n",
       "      <th>nakladatel</th>\n",
       "      <th>podil</th>\n",
       "    </tr>\n",
       "  </thead>\n",
       "  <tbody>\n",
       "    <tr>\n",
       "      <th>202</th>\n",
       "      <td>Motto</td>\n",
       "      <td>10,4 %</td>\n",
       "    </tr>\n",
       "    <tr>\n",
       "      <th>128</th>\n",
       "      <td>Host</td>\n",
       "      <td>9,2 %</td>\n",
       "    </tr>\n",
       "    <tr>\n",
       "      <th>199</th>\n",
       "      <td>Moba</td>\n",
       "      <td>9,2 %</td>\n",
       "    </tr>\n",
       "    <tr>\n",
       "      <th>131</th>\n",
       "      <td>Ikar CZ</td>\n",
       "      <td>6,6 %</td>\n",
       "    </tr>\n",
       "    <tr>\n",
       "      <th>250</th>\n",
       "      <td>Paseka</td>\n",
       "      <td>4,3 %</td>\n",
       "    </tr>\n",
       "    <tr>\n",
       "      <th>21</th>\n",
       "      <td>Argo</td>\n",
       "      <td>4,1 %</td>\n",
       "    </tr>\n",
       "    <tr>\n",
       "      <th>144</th>\n",
       "      <td>Kalibr</td>\n",
       "      <td>3,7 %</td>\n",
       "    </tr>\n",
       "    <tr>\n",
       "      <th>89</th>\n",
       "      <td>Epocha</td>\n",
       "      <td>3,4 %</td>\n",
       "    </tr>\n",
       "    <tr>\n",
       "      <th>47</th>\n",
       "      <td>Bílá vrána</td>\n",
       "      <td>2,7 %</td>\n",
       "    </tr>\n",
       "    <tr>\n",
       "      <th>210</th>\n",
       "      <td>Mystery Press</td>\n",
       "      <td>2,3 %</td>\n",
       "    </tr>\n",
       "    <tr>\n",
       "      <th>42</th>\n",
       "      <td>Bourdon</td>\n",
       "      <td>2,2 %</td>\n",
       "    </tr>\n",
       "    <tr>\n",
       "      <th>170</th>\n",
       "      <td>Listen</td>\n",
       "      <td>2,1 %</td>\n",
       "    </tr>\n",
       "    <tr>\n",
       "      <th>65</th>\n",
       "      <td>CooBoo CZ</td>\n",
       "      <td>2,1 %</td>\n",
       "    </tr>\n",
       "    <tr>\n",
       "      <th>242</th>\n",
       "      <td>Odeon CZ</td>\n",
       "      <td>1,6 %</td>\n",
       "    </tr>\n",
       "    <tr>\n",
       "      <th>334</th>\n",
       "      <td>Vendeta</td>\n",
       "      <td>1,5 %</td>\n",
       "    </tr>\n",
       "    <tr>\n",
       "      <th>51</th>\n",
       "      <td>CPRESS</td>\n",
       "      <td>1,3 %</td>\n",
       "    </tr>\n",
       "    <tr>\n",
       "      <th>214</th>\n",
       "      <td>NLN s.r.o.</td>\n",
       "      <td>1,3 %</td>\n",
       "    </tr>\n",
       "    <tr>\n",
       "      <th>217</th>\n",
       "      <td>Nakladatelství Fragment</td>\n",
       "      <td>1,1 %</td>\n",
       "    </tr>\n",
       "    <tr>\n",
       "      <th>266</th>\n",
       "      <td>Pointa</td>\n",
       "      <td>1,1 %</td>\n",
       "    </tr>\n",
       "    <tr>\n",
       "      <th>191</th>\n",
       "      <td>Mediaplex</td>\n",
       "      <td>1,1 %</td>\n",
       "    </tr>\n",
       "    <tr>\n",
       "      <th>350</th>\n",
       "      <td>XYZ</td>\n",
       "      <td>1,1 %</td>\n",
       "    </tr>\n",
       "    <tr>\n",
       "      <th>100</th>\n",
       "      <td>Fobos</td>\n",
       "      <td>1,0 %</td>\n",
       "    </tr>\n",
       "    <tr>\n",
       "      <th>342</th>\n",
       "      <td>Vyšehrad</td>\n",
       "      <td>1,0 %</td>\n",
       "    </tr>\n",
       "  </tbody>\n",
       "</table>\n",
       "</div>"
      ],
      "text/plain": [
       "                  nakladatel   podil\n",
       "202                    Motto  10,4 %\n",
       "128                     Host   9,2 %\n",
       "199                     Moba   9,2 %\n",
       "131                  Ikar CZ   6,6 %\n",
       "250                   Paseka   4,3 %\n",
       "21                      Argo   4,1 %\n",
       "144                   Kalibr   3,7 %\n",
       "89                    Epocha   3,4 %\n",
       "47                Bílá vrána   2,7 %\n",
       "210            Mystery Press   2,3 %\n",
       "42                   Bourdon   2,2 %\n",
       "170                   Listen   2,1 %\n",
       "65                 CooBoo CZ   2,1 %\n",
       "242                 Odeon CZ   1,6 %\n",
       "334                  Vendeta   1,5 %\n",
       "51                    CPRESS   1,3 %\n",
       "214               NLN s.r.o.   1,3 %\n",
       "217  Nakladatelství Fragment   1,1 %\n",
       "266                   Pointa   1,1 %\n",
       "191                Mediaplex   1,1 %\n",
       "350                      XYZ   1,1 %\n",
       "100                    Fobos   1,0 %\n",
       "342                 Vyšehrad   1,0 %"
      ]
     },
     "execution_count": 107,
     "metadata": {},
     "output_type": "execute_result"
    }
   ],
   "source": [
    "nakladatelstvo"
   ]
  },
  {
   "cell_type": "code",
   "execution_count": 108,
   "id": "5b182b10",
   "metadata": {},
   "outputs": [
    {
     "data": {
      "text/plain": [
       "nakladatel\n",
       "1400                                NaN\n",
       "65. pole                            NaN\n",
       "ANAG                                NaN\n",
       "AOS Publishing                      NaN\n",
       "AURICON                             NaN\n",
       "Academia                            NaN\n",
       "Agentura Pankrác                    NaN\n",
       "Akademické nakladatelství, VUTIUM   NaN\n",
       "Akademie múzických umění            NaN\n",
       "Akademie výtvarných umění           NaN\n",
       "Akcent                              NaN\n",
       "Akropolis                           NaN\n",
       "Albatros CZ                         NaN\n",
       "Aldebaran Group for Astrophysics    NaN\n",
       "Aleš Čeněk                          NaN\n",
       "Alferia                             NaN\n",
       "Alpha book                          NaN\n",
       "Alpress                             NaN\n",
       "Arbor vitae                         NaN\n",
       "Archa                               NaN\n",
       "Ares                                NaN\n",
       "Argo                                NaN\n",
       "Art And Animation studio            NaN\n",
       "ArtKrist                            NaN\n",
       "ArtPorte                            NaN\n",
       "Audiolibrix                         NaN\n",
       "Aula                                NaN\n",
       "Autreo                              NaN\n",
       "Aventinum                           NaN\n",
       "BESTSELLER                          NaN\n",
       "Name: skore, dtype: float64"
      ]
     },
     "execution_count": 108,
     "metadata": {},
     "output_type": "execute_result"
    }
   ],
   "source": [
    "dk_mesic_nakladatele = pd.Series(dk[dk['DK_date'] > week_ago].groupby(\"nakladatel\")['skore'].sum() - dk[dk['DK_date'] > month_ago].groupby(\"nakladatel\")['skore'].sum()).sort_values(ascending=False)\n",
    "dk_mesic_nakladatele.nlargest(30)"
   ]
  },
  {
   "cell_type": "code",
   "execution_count": 109,
   "id": "66e02c3b",
   "metadata": {},
   "outputs": [
    {
     "data": {
      "text/plain": [
       "hezky_titul\n",
       "?: Drak na polní cestě                          158.0\n",
       "?: Flora                                         80.0\n",
       "Scarlett Wilková: Když přišli psi                69.0\n",
       "?: Čarodějky                                     60.0\n",
       "?: Den po dni                                    42.0\n",
       "?: Zakázané doteky                               37.0\n",
       "?: Vánoce v Šípkové ulici                        34.0\n",
       "?: Dr. Alz                                       33.0\n",
       "?: Dravé zvěři napospas                          33.0\n",
       "?: Dvojí život                                   28.0\n",
       "?: Šílenství v nás                               25.0\n",
       "?: K smrti dobrý                                 23.0\n",
       "?: Mimo obraz                                    22.0\n",
       "?: Nocturno pro Erika                            14.0\n",
       "?: Český bestiář                                 14.0\n",
       "?: Zlatá grai                                    13.0\n",
       "Vlastimil Vondruška: Slavná léta (1348–1355)     13.0\n",
       "?: O hvězdách víš hovno                          11.0\n",
       "Petra Fido: Fuga mýho života                     11.0\n",
       "?: V náruči pomsty                               11.0\n",
       "?: Hranice času                                  11.0\n",
       "?: Maluj můru nohama vzhůru                      11.0\n",
       "Sára Topinková: Pilná jako včelka                11.0\n",
       "Alena Jakoubková: Sestra v klatbě                10.0\n",
       "Name: skore, dtype: float64"
      ]
     },
     "execution_count": 109,
     "metadata": {},
     "output_type": "execute_result"
    }
   ],
   "source": [
    "dk_mesic_novinky = pd.Series(dk[~dk['hezky_titul'].isin(dk_stare)].groupby(\"hezky_titul\")['skore'].max() - dk[(~dk['hezky_titul'].isin(dk_stare)) & (dk['DK_date'] > month_ago)].groupby(\"hezky_titul\")['skore'].min()).sort_values(ascending=False)\n",
    "dk_mesic_novinky = dk_mesic_novinky[dk_mesic_novinky >= 10]\n",
    "dk_mesic_novinky"
   ]
  },
  {
   "cell_type": "code",
   "execution_count": 110,
   "id": "6f89bf67",
   "metadata": {},
   "outputs": [
    {
     "data": {
      "text/plain": [
       "hezky_titul\n",
       "Karin Lednická: Šikmý kostel 3                                          110.0\n",
       "Petra Klabouchová: Ignis fatuus                                         101.0\n",
       "?: Les v domě                                                            89.0\n",
       "?: Les                                                                   86.0\n",
       "Hana Whitton: Anna Svídnická: Krásná Anna – nečekaná láska Karla IV.     78.0\n",
       "?: Aristokratka v Československu                                         76.0\n",
       "Patrik Hartl: Gazely                                                     70.0\n",
       "?: Drak na polní cestě                                                   64.0\n",
       "Markéta Lukášková: Odvaha                                                60.0\n",
       "Leoš Kyša: Sudetenland                                                   58.0\n",
       "?: U severní zdi                                                         53.0\n",
       "Nina Špitálníková: Severka                                               51.0\n",
       "?: Den po dni                                                            42.0\n",
       "Kristýna Trpková: Někdo z nás                                            42.0\n",
       "Tereza Bartošová: Dceřina kletba                                         40.0\n",
       "Kateřina Surmanová: Tři Sekery                                           38.0\n",
       "?: Ve výslužbě                                                           34.0\n",
       "Magdalena Bujabéza Rejžková: Přístav                                     34.0\n",
       "Scarlett Wilková: Když přišli psi                                        34.0\n",
       "?: Válka s Mloky                                                         34.0\n",
       "Hynek Čapka: Neviditelné kořeny                                          33.0\n",
       "Tereza Bartošová Dvořáková: Vodník                                       33.0\n",
       "Jana Jašová: Krutý měsíc                                                 32.0\n",
       "Scarlett Wilková: Ty chladné oči                                         32.0\n",
       "Tereza Bartošová: Klekánice                                              31.0\n",
       "Petra Dvořáková: Pláňata                                                 31.0\n",
       "Michaela Klevisová: Vraní oko                                            31.0\n",
       "Hana Marie Kornerová: Heřmánkové údolí                                   30.0\n",
       "?: Čarodějky                                                             30.0\n",
       "Marie Hamáková: Dvě tváře lásky                                          30.0\n",
       "Marek Torčík: Rozložíš paměť                                             29.0\n",
       "?: Vánoce v Šípkové ulici                                                29.0\n",
       "Iva Hadj Moussa: Těžké duše                                              27.0\n",
       "Štěpán Javůrek: Sudetský dům II: Podzim 1947                             27.0\n",
       "?: Osiřelo dítě                                                          27.0\n",
       "Radka Třeštíková: Kde jsi, když nejsi                                    27.0\n",
       "?: Zakázané doteky                                                       26.0\n",
       "?: Dvojí život                                                           25.0\n",
       "?: Dravé zvěři napospas                                                  25.0\n",
       "Tereza Boučková: Dům v Matoušově ulici                                   25.0\n",
       "?: Andulka Andula                                                        25.0\n",
       "Name: DK_ratings_count, dtype: float64"
      ]
     },
     "execution_count": 110,
     "metadata": {},
     "output_type": "execute_result"
    }
   ],
   "source": [
    "dk_mesic_ratings = pd.Series(dk.groupby(\"hezky_titul\")['DK_ratings_count'].max() - dk[dk['DK_date'] > month_ago].groupby(\"hezky_titul\")['DK_ratings_count'].min()).sort_values(ascending=False)\n",
    "dk_mesic_ratings = dk_mesic_ratings[dk_mesic_ratings >= 25]\n",
    "dk_mesic_ratings"
   ]
  },
  {
   "cell_type": "code",
   "execution_count": 111,
   "id": "ad717bdb",
   "metadata": {},
   "outputs": [
    {
     "data": {
      "text/plain": [
       "hezky_titul\n",
       "Ondřej Šanc: Jako po drátku                                                               101.0\n",
       "?: Drak na polní cestě                                                                     73.0\n",
       "Miroslav Hlaučo: Letnice                                                                   57.0\n",
       "?: Flora                                                                                   55.0\n",
       "Marek Torčík: Rozložíš paměť                                                               51.0\n",
       "Iva Hadj Moussa: Těžké duše                                                                50.0\n",
       "Tereza Boučková: Dům v Matoušově ulici                                                     49.0\n",
       "Petra Klabouchová: Ignis fatuus                                                            40.0\n",
       "Jiří B. Mayer: Závojnatky                                                                  34.0\n",
       "Bianca Bellová: Neviditelný muž                                                            32.0\n",
       "Markéta Lukášková: Odvaha                                                                  27.0\n",
       "?: Dr. Alz                                                                                 27.0\n",
       "Hana Whitton: Anna Svídnická: Krásná Anna – nečekaná láska Karla IV.                       26.0\n",
       "?: Aristokratka v Československu                                                           23.0\n",
       "?: Les                                                                                     23.0\n",
       "?: Konec sezóny na koupališti Úštěk                                                        22.0\n",
       "Dorota Ambrožová: Poslední léto                                                            21.0\n",
       "Klára Vlasáková: Těla                                                                      21.0\n",
       "Tereza Bartošová: Dceřina kletba                                                           21.0\n",
       "?: K smrti dobrý                                                                           19.0\n",
       "Patrik Hartl: Gazely                                                                       19.0\n",
       "?: Čarodějky                                                                               18.0\n",
       "Pavel Černý: Morávkova zpověď aneb věřím v Boha a ve své pistole                           18.0\n",
       "?: Zuzana Čaputová: Neztratit se sama sobě                                                 17.0\n",
       "?: Nepatrná ztráta osamělosti                                                              17.0\n",
       "Kristýna Trpková: Někdo z nás                                                              17.0\n",
       "?: Nezval: Básník a jeho syn                                                               16.0\n",
       "Indy Sky: Lamač                                                                            16.0\n",
       "?: Tahle kniha ti změní život                                                              15.0\n",
       "Scarlett Wilková: Když přišli psi                                                          14.0\n",
       "Eva Tvrdá: Na odvrácené straně                                                             13.0\n",
       "?: Kosti pod mechem                                                                        13.0\n",
       "Karolína Zoe Meixnerová: Národní opruzení                                                  13.0\n",
       "Kateřina Karolová: Jiné místo                                                              13.0\n",
       "Mirka Skočílková: Vesničanka                                                               13.0\n",
       "Tess M. Puffrová: Zvrhlá hra                                                               12.0\n",
       "?: Český bestiář                                                                           12.0\n",
       "Kateřina Surmanová: Tři Sekery                                                             12.0\n",
       "Nina Špitálníková: Severka                                                                 11.0\n",
       "?: Věk přízraků                                                                            11.0\n",
       "Scarlett Wilková: Ty chladné oči                                                           11.0\n",
       "Daniela Hodrová: Co přichází aneb Cesta na Kouzelný vrch                                   11.0\n",
       "Halina Pawlowská: Rande                                                                    10.0\n",
       "Lenka Potůčková: Dálnice                                                                   10.0\n",
       "?: Kdyby                                                                                   10.0\n",
       "Silvie Lauder: V pasti pohlaví: O politice, péči, sexu, násilí a postavení žen v Česku     10.0\n",
       "Alexej Sevruk: Evropanka: Historky z Polesí                                                10.0\n",
       "Nika Peas: Chráním Tě                                                                      10.0\n",
       "?: U severní zdi                                                                           10.0\n",
       "Name: DK_Chystám_se_číst, dtype: float64"
      ]
     },
     "execution_count": 111,
     "metadata": {},
     "output_type": "execute_result"
    }
   ],
   "source": [
    "dk_mesic_chystam = pd.Series(dk.groupby(\"hezky_titul\")['DK_Chystám_se_číst'].max() - dk[dk['DK_date'] > month_ago].groupby(\"hezky_titul\")['DK_Chystám_se_číst'].min()).sort_values(ascending=False)\n",
    "dk_mesic_chystam = dk_mesic_chystam[dk_mesic_chystam >= 10]\n",
    "dk_mesic_chystam"
   ]
  },
  {
   "cell_type": "markdown",
   "id": "d4d07d78",
   "metadata": {},
   "source": [
    "### Co se lidé nejvíce chystají číst v posledním týdnu"
   ]
  },
  {
   "cell_type": "code",
   "execution_count": 113,
   "id": "8d725140",
   "metadata": {},
   "outputs": [
    {
     "data": {
      "text/plain": [
       "Series([], Name: DK_Chystám_se_číst, dtype: float64)"
      ]
     },
     "execution_count": 113,
     "metadata": {},
     "output_type": "execute_result"
    }
   ],
   "source": [
    "dk_tyden_chystam = pd.Series(dk.groupby(\"hezky_titul\")['DK_Chystám_se_číst'].max() - dk[dk['DK_date'] > week_ago].groupby(\"hezky_titul\")['DK_Chystám_se_číst'].min()).sort_values(ascending=False)\n",
    "dk_tyden_chystam = dk_tyden_chystam[dk_tyden_chystam >= 5]\n",
    "dk_tyden_chystam"
   ]
  },
  {
   "cell_type": "markdown",
   "id": "0f457c5a",
   "metadata": {},
   "source": [
    "### Hot novinky"
   ]
  },
  {
   "cell_type": "code",
   "execution_count": 115,
   "id": "2183dedc",
   "metadata": {},
   "outputs": [
    {
     "data": {
      "text/plain": [
       "Series([], Name: DK_Chystám_se_číst, dtype: float64)"
      ]
     },
     "execution_count": 115,
     "metadata": {},
     "output_type": "execute_result"
    }
   ],
   "source": [
    "uz_byly = dk[dk['DK_date'] < week_ago]['hezky_titul'].drop_duplicates().to_list()\n",
    "dk_novinky_chystam = dk[~dk['hezky_titul'].isin(uz_byly)].groupby('hezky_titul')['DK_Chystám_se_číst'].max().sort_values(ascending = False)\n",
    "dk_novinky_chystam = dk_novinky_chystam[dk_novinky_chystam >= 5]\n",
    "dk_novinky_chystam"
   ]
  },
  {
   "cell_type": "markdown",
   "id": "4607de05",
   "metadata": {},
   "source": [
    "### Nejvíce hodnocené za poslední týden"
   ]
  },
  {
   "cell_type": "code",
   "execution_count": 117,
   "id": "3000a1dd",
   "metadata": {},
   "outputs": [
    {
     "data": {
      "text/plain": [
       "DK_titul\n",
       "#NAJDImě                                                                   0.0\n",
       "(NE)uvěřitelný život Oty K.                                                0.0\n",
       "10 000 kroků                                                               0.0\n",
       "100+24 brněnských kuriozit, absurdit a bizarností                          0.0\n",
       "13 objektů z (ne)šťastného muzea                                           0.0\n",
       "13!                                                                        0.0\n",
       "1492: Dobytí Granady                                                       0.0\n",
       "151+ nápadů na můj bucket list                                             0.0\n",
       "1923                                                                       0.0\n",
       "1984: George Orwell a Československo / George Orwell and Czechoslovakia    0.0\n",
       "1°                                                                         0.0\n",
       "20 let slam poetry: Nejlepší česká slam poetry 2003                        0.0\n",
       "23:55                                                                      0.0\n",
       "24 bajtů x 42 let: Verše vulgární jak Hydnory květ                         0.0\n",
       "25 na pamětnou                                                             0.0\n",
       "3.7.1866                                                                   0.0\n",
       "30 hodin: Ověř nápad v rekordním čase a rozjeď vysněné podnikání           0.0\n",
       "30 let polemiky o Evropě                                                   0.0\n",
       "3333 km k Jakubovi                                                         0.0\n",
       "37 stupňů Celsia                                                           0.0\n",
       "4 povídky                                                                  0.0\n",
       "50 pilířů dospělosti                                                       0.0\n",
       "50 příběhů pražského metra                                                 0.0\n",
       "7 pilířů efektivního marketingu                                            0.0\n",
       "<30                                                                        0.0\n",
       "A slunce jako kdyby zhaslo                                                 0.0\n",
       "A tak krásně jsme si žili                                                  0.0\n",
       "A teď už bez legrace!                                                      0.0\n",
       "AI Marketing Playbook                                                      0.0\n",
       "ANKA                                                                       0.0\n",
       "Abeceda                                                                    0.0\n",
       "Abeceda jídla                                                              0.0\n",
       "Abeceda strašidel                                                          0.0\n",
       "Aby se holky nebály                                                        0.0\n",
       "Adam Kašpar                                                                0.0\n",
       "Adam mezi dinosaury                                                        0.0\n",
       "Adam ze Zbraslavi a případ královské dcery Elišky                          0.0\n",
       "Adléta Arpádovna                                                           0.0\n",
       "Advent ve starém domě                                                      0.0\n",
       "Agrometal                                                                  0.0\n",
       "Aha! Takhle voní Praha!                                                    0.0\n",
       "Ajťácká detektivka                                                         0.0\n",
       "Akio Praha                                                                 0.0\n",
       "Aknael: Nebeská jízda                                                      0.0\n",
       "Akvárium                                                                   0.0\n",
       "Album 1958                                                                 0.0\n",
       "Alchymie poslání: 71 příběhů odvahy a ženské síly                          0.0\n",
       "Alchymie sebelásky                                                         0.0\n",
       "Alenka, Krakonoš a zvířátka                                                0.0\n",
       "Alenka, Krakonoš a čerti                                                   0.0\n",
       "Alexandra                                                                  0.0\n",
       "Ali a dívka ze studny                                                      0.0\n",
       "Aliance Udatných                                                           0.0\n",
       "Alice                                                                      0.0\n",
       "Alois Rašín: Dramatický život českého politika                             0.0\n",
       "Alžběta Uherská                                                            0.0\n",
       "Alžběta a drak                                                             0.0\n",
       "Alžírské arabesky                                                          0.0\n",
       "Ambasadoři bohémy: Současná česká kulturní diplomacie a její dilemata      0.0\n",
       "Amen                                                                       0.0\n",
       "Name: DK_ratings_count, dtype: float64"
      ]
     },
     "execution_count": 117,
     "metadata": {},
     "output_type": "execute_result"
    }
   ],
   "source": [
    "pd.Series(dk.groupby(\"DK_titul\")['DK_ratings_count'].max() - dk[dk['DK_date'] < week_ago].groupby(\"DK_titul\")['DK_ratings_count'].max()).nlargest(60)"
   ]
  },
  {
   "cell_type": "markdown",
   "id": "326fab08",
   "metadata": {},
   "source": [
    "### Nejlépe a nejhůře hodnocené knihy s víc než x hodnoceními"
   ]
  },
  {
   "cell_type": "code",
   "execution_count": 119,
   "id": "bf0fc4eb",
   "metadata": {},
   "outputs": [
    {
     "data": {
      "text/plain": [
       "DK_titul\n",
       "Ester                                                    96.0\n",
       "Neviditelné kořeny                                       96.0\n",
       "U severní zdi                                            95.0\n",
       "Šikmý kostel 3                                           95.0\n",
       "Když přišli psi                                          94.0\n",
       "Markovič: Lovec přízraků                                 93.0\n",
       "Zatím dobrý: Mašínovi a největší příběh studené války    93.0\n",
       "Deník Věrky Kohnové: Jak ráda bych tak zůstala           92.0\n",
       "Heřmánkové údolí                                         92.0\n",
       "Jednooký král Václav I.                                  92.0\n",
       "Království meče                                          92.0\n",
       "Tajemství Velkého Vonta (sběratelské vydání)             92.0\n",
       "Čas vlků                                                 92.0\n",
       "Blues: Blues pro bláznivou holku                         91.0\n",
       "Na králův příkaz                                         91.0\n",
       "Operace Petragun                                         91.0\n",
       "Pátá minuta je o nás                                     91.0\n",
       "Ženy na pranýři                                          91.0\n",
       "Cejch                                                    90.0\n",
       "Kosprd a Telecí                                          90.0\n",
       "Name: DK_rating, dtype: float64"
      ]
     },
     "execution_count": 119,
     "metadata": {},
     "output_type": "execute_result"
    }
   ],
   "source": [
    "dk[dk['DK_ratings_count'] > 200].groupby(\"DK_titul\")['DK_rating'].max().nlargest(20)"
   ]
  },
  {
   "cell_type": "code",
   "execution_count": 120,
   "id": "217b52e0",
   "metadata": {},
   "outputs": [],
   "source": [
    "vyjde = pd.read_json('data/martinus_vyjde.json')"
   ]
  },
  {
   "cell_type": "code",
   "execution_count": 121,
   "id": "c2cf6f08",
   "metadata": {},
   "outputs": [
    {
     "data": {
      "text/plain": [
       "Index(['M_titul', 'M_autorstvo', 'M_anotace', 'M_podtitul', 'M_tagy',\n",
       "       'M_počet_stran', 'M_vazba', 'M_rozměr', 'M_hmotnost', 'M_isbn',\n",
       "       'M_rok_vydání', 'M_jazyk', 'M_původ', 'M_nakladatel', 'M_pro_koho',\n",
       "       'M_originální_název', 'M_kategorizace', 'M_cena', 'M_obálka', 'M_ebook',\n",
       "       'M_audiokniha', 'M_datum', 'M_soubor', 'M_předběžné_datum_vydání',\n",
       "       'M_ilustrace', 'M_editoři', 'M_edice', 'M_vydání', 'M_překlad',\n",
       "       'M_série', 'M_díl', 'M_věkové_doporučení', 'M_styl', 'M_účel_knihy',\n",
       "       'M_ostatní', 'M_příloha', 'M_jazyková_úroveň', 'M_knižní_předloha'],\n",
       "      dtype='object')"
      ]
     },
     "execution_count": 121,
     "metadata": {},
     "output_type": "execute_result"
    }
   ],
   "source": [
    "vyjde.columns"
   ]
  },
  {
   "cell_type": "code",
   "execution_count": 122,
   "id": "716c7ea9",
   "metadata": {},
   "outputs": [
    {
     "data": {
      "text/plain": [
       "DK_titul\n",
       "Spiknutí: Pravda o pokusu odstranit prezidenta ČR    32.0\n",
       "Bestiář                                              49.0\n",
       "Pralinky                                             50.0\n",
       "Sauronova nevěsta                                    55.0\n",
       "Malý Gatsby a Carmen z Chodoriva                     59.0\n",
       "Srdce v plamenech                                    59.0\n",
       "Sivá krev                                            62.0\n",
       "Neodpovídej                                          63.0\n",
       "Povídky o ženách                                     64.0\n",
       "Les                                                  65.0\n",
       "Přístav                                              65.0\n",
       "Smrková Tišina                                       65.0\n",
       "Vodní meloun                                         65.0\n",
       "Nejvyšší karta                                       66.0\n",
       "Co se stalo Veronice                                 67.0\n",
       "Dokonalé městečko                                    67.0\n",
       "Ocelová liga                                         67.0\n",
       "Povídky o lásce                                      67.0\n",
       "Město v mlze                                         68.0\n",
       "Průvodce králičí norou                               68.0\n",
       "Souboj princů                                        68.0\n",
       "Ženy zločinu                                         68.0\n",
       "Hry bez hranic                                       69.0\n",
       "Pacanka                                              69.0\n",
       "Povídky malostranské                                 69.0\n",
       "Pražačka na vsi                                      69.0\n",
       "Pusťte světlo do tmavého večera                      69.0\n",
       "Rande                                                69.0\n",
       "Spoutej mě                                           69.0\n",
       "V hrůze a krvi zrozeni                               69.0\n",
       "Šílenství v nás                                      69.0\n",
       "Němé duše                                            70.0\n",
       "Teorie býka                                          70.0\n",
       "Transfer                                             70.0\n",
       "Zapisovatelé otcovský lásky                          70.0\n",
       "Zlatokopka                                           70.0\n",
       "Co tě nezabije                                       71.0\n",
       "Jiné místo                                           71.0\n",
       "Pád temnoty                                          71.0\n",
       "Přechodné období                                     71.0\n",
       "Slovodějky                                           71.0\n",
       "Spisovatel                                           71.0\n",
       "Těla                                                 71.0\n",
       "Zápisník alkoholičky                                 71.0\n",
       "Hella                                                72.0\n",
       "Kde jsi, když nejsi                                  72.0\n",
       "Krvavé léto                                          72.0\n",
       "Kráva a kretén                                       72.0\n",
       "Manuál zralé ženy                                    72.0\n",
       "Rozsudek smrti                                       72.0\n",
       "Name: DK_rating, dtype: float64"
      ]
     },
     "execution_count": 122,
     "metadata": {},
     "output_type": "execute_result"
    }
   ],
   "source": [
    "dk[dk['DK_ratings_count'] > 50].groupby(\"DK_titul\")['DK_rating'].max().nsmallest(50)"
   ]
  },
  {
   "cell_type": "code",
   "execution_count": 123,
   "id": "2b484063",
   "metadata": {},
   "outputs": [
    {
     "name": "stderr",
     "output_type": "stream",
     "text": [
      "C:\\Users\\micha\\AppData\\Local\\Temp\\ipykernel_27576\\3366174841.py:2: SettingWithCopyWarning: \n",
      "A value is trying to be set on a copy of a slice from a DataFrame.\n",
      "Try using .loc[row_indexer,col_indexer] = value instead\n",
      "\n",
      "See the caveats in the documentation: https://pandas.pydata.org/pandas-docs/stable/user_guide/indexing.html#returning-a-view-versus-a-copy\n",
      "  vyvoj2['DK_date'] = pd.to_datetime(vyvoj2['DK_date'])\n"
     ]
    }
   ],
   "source": [
    "vyvoj2 = dk[['DK_date','DK_titul','DK_Chystám_se_číst']]\n",
    "vyvoj2['DK_date'] = pd.to_datetime(vyvoj2['DK_date'])\n",
    "vyvoj2 = vyvoj2.sort_values(by='DK_date')\n",
    "vyvoj2 = vyvoj2.set_index('DK_date')"
   ]
  },
  {
   "cell_type": "code",
   "execution_count": 124,
   "id": "9bc42f06",
   "metadata": {},
   "outputs": [
    {
     "data": {
      "text/plain": [
       "<Axes: xlabel='DK_date'>"
      ]
     },
     "execution_count": 124,
     "metadata": {},
     "output_type": "execute_result"
    },
    {
     "data": {
      "image/png": "[encoded data removed]",
      "text/plain": [
       "<Figure size 640x480 with 1 Axes>"
      ]
     },
     "metadata": {},
     "output_type": "display_data"
    }
   ],
   "source": [
    "vyvoj2[vyvoj2['DK_titul'] == 'Pacanka']['DK_Chystám_se_číst'].plot()"
   ]
  },
  {
   "cell_type": "code",
   "execution_count": 125,
   "id": "3d97880f",
   "metadata": {},
   "outputs": [
    {
     "data": {
      "text/plain": [
       "<Axes: xlabel='DK_date'>"
      ]
     },
     "execution_count": 125,
     "metadata": {},
     "output_type": "execute_result"
    },
    {
     "data": {
      "image/png": "[encoded data removed]",
      "text/plain": [
       "<Figure size 640x480 with 1 Axes>"
      ]
     },
     "metadata": {},
     "output_type": "display_data"
    }
   ],
   "source": [
    "vyvoj2[vyvoj2['DK_titul'] == 'Hella']['DK_Chystám_se_číst'].plot()"
   ]
  },
  {
   "cell_type": "markdown",
   "id": "71b5c8f4",
   "metadata": {},
   "source": [
    "## Syntéza (dál už to není zajímavé)"
   ]
  },
  {
   "cell_type": "code",
   "execution_count": 127,
   "id": "b6702e13",
   "metadata": {},
   "outputs": [],
   "source": [
    "import numpy as np"
   ]
  },
  {
   "cell_type": "code",
   "execution_count": 128,
   "id": "576ee366",
   "metadata": {},
   "outputs": [],
   "source": [
    "df = pd.read_json(os.path.join(\"data\",\"martinus_vyslo.json\"))"
   ]
  },
  {
   "cell_type": "code",
   "execution_count": 129,
   "id": "4387f894",
   "metadata": {},
   "outputs": [
    {
     "data": {
      "text/html": [
       "<div>\n",
       "<style scoped>\n",
       "    .dataframe tbody tr th:only-of-type {\n",
       "        vertical-align: middle;\n",
       "    }\n",
       "\n",
       "    .dataframe tbody tr th {\n",
       "        vertical-align: top;\n",
       "    }\n",
       "\n",
       "    .dataframe thead th {\n",
       "        text-align: right;\n",
       "    }\n",
       "</style>\n",
       "<table border=\"1\" class=\"dataframe\">\n",
       "  <thead>\n",
       "    <tr style=\"text-align: right;\">\n",
       "      <th></th>\n",
       "      <th>M_titul</th>\n",
       "      <th>M_autorstvo</th>\n",
       "      <th>M_anotace</th>\n",
       "      <th>M_podtitul</th>\n",
       "      <th>M_tagy</th>\n",
       "      <th>M_počet_stran</th>\n",
       "      <th>M_vazba</th>\n",
       "      <th>M_rozměr</th>\n",
       "      <th>M_hmotnost</th>\n",
       "      <th>M_isbn</th>\n",
       "      <th>...</th>\n",
       "      <th>M_překlad</th>\n",
       "      <th>M_série</th>\n",
       "      <th>M_díl</th>\n",
       "      <th>M_věkové_doporučení</th>\n",
       "      <th>M_styl</th>\n",
       "      <th>M_účel_knihy</th>\n",
       "      <th>M_ostatní</th>\n",
       "      <th>M_příloha</th>\n",
       "      <th>M_jazyková_úroveň</th>\n",
       "      <th>M_knižní_předloha</th>\n",
       "    </tr>\n",
       "  </thead>\n",
       "  <tbody>\n",
       "    <tr>\n",
       "      <th>0</th>\n",
       "      <td>Score\\n            Novinka</td>\n",
       "      <td>Marcy Jell</td>\n",
       "      <td>Rafaela:\\n Všichni předpokládají, že se mám ja...</td>\n",
       "      <td>None</td>\n",
       "      <td>romantika</td>\n",
       "      <td>200.0</td>\n",
       "      <td>brožovaná vazba</td>\n",
       "      <td>None</td>\n",
       "      <td>None</td>\n",
       "      <td>9788053005999</td>\n",
       "      <td>...</td>\n",
       "      <td>None</td>\n",
       "      <td>None</td>\n",
       "      <td>NaN</td>\n",
       "      <td>NaN</td>\n",
       "      <td>romantický</td>\n",
       "      <td>None</td>\n",
       "      <td>None</td>\n",
       "      <td>None</td>\n",
       "      <td>None</td>\n",
       "      <td>None</td>\n",
       "    </tr>\n",
       "    <tr>\n",
       "      <th>1</th>\n",
       "      <td>V nefritové kleci\\n            Novinka</td>\n",
       "      <td>Jakub Mařík</td>\n",
       "      <td>SBÍRKA KRATŠÍCH PŘÍBĚHŮ ZE SVĚTA AKČNÍ SCI-FI ...</td>\n",
       "      <td>None</td>\n",
       "      <td>[krvavé bitvy, vesmír, nebezpečné tajemství, v...</td>\n",
       "      <td>464.0</td>\n",
       "      <td>brožovaná vazba</td>\n",
       "      <td>149×205 mm</td>\n",
       "      <td>594 g</td>\n",
       "      <td>9788075887368</td>\n",
       "      <td>...</td>\n",
       "      <td>None</td>\n",
       "      <td>UTSS Salamis</td>\n",
       "      <td>6.0</td>\n",
       "      <td>NaN</td>\n",
       "      <td>[mysteriózní, dobrodružný, napínavý]</td>\n",
       "      <td>None</td>\n",
       "      <td>None</td>\n",
       "      <td>None</td>\n",
       "      <td>None</td>\n",
       "      <td>None</td>\n",
       "    </tr>\n",
       "    <tr>\n",
       "      <th>2</th>\n",
       "      <td>Zmizení nenápadné účetní - Krimi 4/24\\n       ...</td>\n",
       "      <td>[]</td>\n",
       "      <td>Skutečné případy.</td>\n",
       "      <td>None</td>\n",
       "      <td>[krimi, skutečné příběhy]</td>\n",
       "      <td>144.0</td>\n",
       "      <td>brožovaná vazba</td>\n",
       "      <td>119×189 mm</td>\n",
       "      <td>102 g</td>\n",
       "      <td>9788072225514</td>\n",
       "      <td>...</td>\n",
       "      <td>None</td>\n",
       "      <td>Krimi 2024</td>\n",
       "      <td>4.0</td>\n",
       "      <td>NaN</td>\n",
       "      <td>napínavý</td>\n",
       "      <td>None</td>\n",
       "      <td>None</td>\n",
       "      <td>None</td>\n",
       "      <td>None</td>\n",
       "      <td>None</td>\n",
       "    </tr>\n",
       "    <tr>\n",
       "      <th>3</th>\n",
       "      <td>Paralelní světy\\n            Novinka</td>\n",
       "      <td>Jenny Naomi</td>\n",
       "      <td>Čekal jsem smrt, jenomže namísto ní přišlo vyh...</td>\n",
       "      <td>Poslední potomek</td>\n",
       "      <td>[paralelní svět, fantasy, svět]</td>\n",
       "      <td>NaN</td>\n",
       "      <td>brožovaná vazba</td>\n",
       "      <td>215×155 mm</td>\n",
       "      <td>None</td>\n",
       "      <td>9788088652854</td>\n",
       "      <td>...</td>\n",
       "      <td>None</td>\n",
       "      <td>None</td>\n",
       "      <td>NaN</td>\n",
       "      <td>NaN</td>\n",
       "      <td>mysteriózní</td>\n",
       "      <td>None</td>\n",
       "      <td>None</td>\n",
       "      <td>None</td>\n",
       "      <td>None</td>\n",
       "      <td>None</td>\n",
       "    </tr>\n",
       "    <tr>\n",
       "      <th>4</th>\n",
       "      <td>Kacířské vinobraní\\n            Novinka</td>\n",
       "      <td>Josef Holcman</td>\n",
       "      <td>Josef Holcman, autor knih Týden co týden (2001...</td>\n",
       "      <td>None</td>\n",
       "      <td>příroda</td>\n",
       "      <td>136.0</td>\n",
       "      <td>brožovaná vazba</td>\n",
       "      <td>144×210 mm</td>\n",
       "      <td>None</td>\n",
       "      <td>9788027153923</td>\n",
       "      <td>...</td>\n",
       "      <td>None</td>\n",
       "      <td>None</td>\n",
       "      <td>NaN</td>\n",
       "      <td>NaN</td>\n",
       "      <td>cestopisný</td>\n",
       "      <td>None</td>\n",
       "      <td>None</td>\n",
       "      <td>None</td>\n",
       "      <td>None</td>\n",
       "      <td>None</td>\n",
       "    </tr>\n",
       "    <tr>\n",
       "      <th>...</th>\n",
       "      <td>...</td>\n",
       "      <td>...</td>\n",
       "      <td>...</td>\n",
       "      <td>...</td>\n",
       "      <td>...</td>\n",
       "      <td>...</td>\n",
       "      <td>...</td>\n",
       "      <td>...</td>\n",
       "      <td>...</td>\n",
       "      <td>...</td>\n",
       "      <td>...</td>\n",
       "      <td>...</td>\n",
       "      <td>...</td>\n",
       "      <td>...</td>\n",
       "      <td>...</td>\n",
       "      <td>...</td>\n",
       "      <td>...</td>\n",
       "      <td>...</td>\n",
       "      <td>...</td>\n",
       "      <td>...</td>\n",
       "      <td>...</td>\n",
       "    </tr>\n",
       "    <tr>\n",
       "      <th>12703</th>\n",
       "      <td>Báječná léta pod psa</td>\n",
       "      <td>Michal Viewegh</td>\n",
       "      <td>Moderní klasika z pera populárního spisovatele...</td>\n",
       "      <td>None</td>\n",
       "      <td>[Česko, Československo, 20. století, satira, p...</td>\n",
       "      <td>264.0</td>\n",
       "      <td>pevná vazba</td>\n",
       "      <td>146×185 mm</td>\n",
       "      <td>436 g</td>\n",
       "      <td>9788024936802</td>\n",
       "      <td>...</td>\n",
       "      <td>None</td>\n",
       "      <td>None</td>\n",
       "      <td>NaN</td>\n",
       "      <td>NaN</td>\n",
       "      <td>[duchovní, humorný, filozofický]</td>\n",
       "      <td>None</td>\n",
       "      <td>None</td>\n",
       "      <td>None</td>\n",
       "      <td>None</td>\n",
       "      <td>None</td>\n",
       "    </tr>\n",
       "    <tr>\n",
       "      <th>12704</th>\n",
       "      <td>Europeana</td>\n",
       "      <td>Patrik Ouředník</td>\n",
       "      <td>Co je pravda? Historická pravda? Literární pra...</td>\n",
       "      <td>Stručné dějiny dvacátého věku</td>\n",
       "      <td>None</td>\n",
       "      <td>100.0</td>\n",
       "      <td>pevná vazba</td>\n",
       "      <td>130×210 mm</td>\n",
       "      <td>224 g</td>\n",
       "      <td>9788072078325</td>\n",
       "      <td>...</td>\n",
       "      <td>None</td>\n",
       "      <td>None</td>\n",
       "      <td>NaN</td>\n",
       "      <td>NaN</td>\n",
       "      <td>None</td>\n",
       "      <td>None</td>\n",
       "      <td>None</td>\n",
       "      <td>None</td>\n",
       "      <td>None</td>\n",
       "      <td>None</td>\n",
       "    </tr>\n",
       "    <tr>\n",
       "      <th>12705</th>\n",
       "      <td>Zbabělci</td>\n",
       "      <td>Josef Škvorecký</td>\n",
       "      <td>Dnes už kultovní a také světově proslulý román...</td>\n",
       "      <td>None</td>\n",
       "      <td>[historické události, duše dospívajícího, 1945...</td>\n",
       "      <td>432.0</td>\n",
       "      <td>pevná vazba</td>\n",
       "      <td>139×204 mm</td>\n",
       "      <td>557 g</td>\n",
       "      <td>9788073354008</td>\n",
       "      <td>...</td>\n",
       "      <td>None</td>\n",
       "      <td>Danny Smiřický</td>\n",
       "      <td>1.0</td>\n",
       "      <td>NaN</td>\n",
       "      <td>historický</td>\n",
       "      <td>None</td>\n",
       "      <td>None</td>\n",
       "      <td>None</td>\n",
       "      <td>None</td>\n",
       "      <td>None</td>\n",
       "    </tr>\n",
       "    <tr>\n",
       "      <th>12706</th>\n",
       "      <td>Teorie spolehlivosti</td>\n",
       "      <td>Ivan Diviš</td>\n",
       "      <td>Druhé rozšířené vydání. Rozsáhlá kniha krátkýc...</td>\n",
       "      <td>Texty z let 1960/1999</td>\n",
       "      <td>None</td>\n",
       "      <td>712.0</td>\n",
       "      <td>pevná vazba</td>\n",
       "      <td>140×200 mm</td>\n",
       "      <td>26 g</td>\n",
       "      <td>8072151614</td>\n",
       "      <td>...</td>\n",
       "      <td>None</td>\n",
       "      <td>None</td>\n",
       "      <td>NaN</td>\n",
       "      <td>NaN</td>\n",
       "      <td>None</td>\n",
       "      <td>None</td>\n",
       "      <td>None</td>\n",
       "      <td>None</td>\n",
       "      <td>None</td>\n",
       "      <td>None</td>\n",
       "    </tr>\n",
       "    <tr>\n",
       "      <th>12707</th>\n",
       "      <td>Konec prokrastinace</td>\n",
       "      <td>Petr Ludwig</td>\n",
       "      <td>Tento titul je dostupný také v Kolekci pro ner...</td>\n",
       "      <td>Jak přestat odkládat a začít žít naplno</td>\n",
       "      <td>[dosahování cílů, osobní rozvoj, úspěch, karié...</td>\n",
       "      <td>271.0</td>\n",
       "      <td>brožovaná vazba</td>\n",
       "      <td>153×153 mm</td>\n",
       "      <td>351 g</td>\n",
       "      <td>9788087270516</td>\n",
       "      <td>...</td>\n",
       "      <td>None</td>\n",
       "      <td>None</td>\n",
       "      <td>NaN</td>\n",
       "      <td>NaN</td>\n",
       "      <td>None</td>\n",
       "      <td>None</td>\n",
       "      <td>None</td>\n",
       "      <td>None</td>\n",
       "      <td>None</td>\n",
       "      <td>None</td>\n",
       "    </tr>\n",
       "  </tbody>\n",
       "</table>\n",
       "<p>12708 rows × 38 columns</p>\n",
       "</div>"
      ],
      "text/plain": [
       "                                                 M_titul      M_autorstvo  \\\n",
       "0                             Score\\n            Novinka       Marcy Jell   \n",
       "1                 V nefritové kleci\\n            Novinka      Jakub Mařík   \n",
       "2      Zmizení nenápadné účetní - Krimi 4/24\\n       ...               []   \n",
       "3                   Paralelní světy\\n            Novinka      Jenny Naomi   \n",
       "4                Kacířské vinobraní\\n            Novinka    Josef Holcman   \n",
       "...                                                  ...              ...   \n",
       "12703                               Báječná léta pod psa   Michal Viewegh   \n",
       "12704                                          Europeana  Patrik Ouředník   \n",
       "12705                                           Zbabělci  Josef Škvorecký   \n",
       "12706                               Teorie spolehlivosti       Ivan Diviš   \n",
       "12707                                Konec prokrastinace      Petr Ludwig   \n",
       "\n",
       "                                               M_anotace  \\\n",
       "0      Rafaela:\\n Všichni předpokládají, že se mám ja...   \n",
       "1      SBÍRKA KRATŠÍCH PŘÍBĚHŮ ZE SVĚTA AKČNÍ SCI-FI ...   \n",
       "2                                      Skutečné případy.   \n",
       "3      Čekal jsem smrt, jenomže namísto ní přišlo vyh...   \n",
       "4      Josef Holcman, autor knih Týden co týden (2001...   \n",
       "...                                                  ...   \n",
       "12703  Moderní klasika z pera populárního spisovatele...   \n",
       "12704  Co je pravda? Historická pravda? Literární pra...   \n",
       "12705  Dnes už kultovní a také světově proslulý román...   \n",
       "12706  Druhé rozšířené vydání. Rozsáhlá kniha krátkýc...   \n",
       "12707  Tento titul je dostupný také v Kolekci pro ner...   \n",
       "\n",
       "                                    M_podtitul  \\\n",
       "0                                         None   \n",
       "1                                         None   \n",
       "2                                         None   \n",
       "3                             Poslední potomek   \n",
       "4                                         None   \n",
       "...                                        ...   \n",
       "12703                                     None   \n",
       "12704            Stručné dějiny dvacátého věku   \n",
       "12705                                     None   \n",
       "12706                    Texty z let 1960/1999   \n",
       "12707  Jak přestat odkládat a začít žít naplno   \n",
       "\n",
       "                                                  M_tagy  M_počet_stran  \\\n",
       "0                                              romantika          200.0   \n",
       "1      [krvavé bitvy, vesmír, nebezpečné tajemství, v...          464.0   \n",
       "2                              [krimi, skutečné příběhy]          144.0   \n",
       "3                        [paralelní svět, fantasy, svět]            NaN   \n",
       "4                                                příroda          136.0   \n",
       "...                                                  ...            ...   \n",
       "12703  [Česko, Československo, 20. století, satira, p...          264.0   \n",
       "12704                                               None          100.0   \n",
       "12705  [historické události, duše dospívajícího, 1945...          432.0   \n",
       "12706                                               None          712.0   \n",
       "12707  [dosahování cílů, osobní rozvoj, úspěch, karié...          271.0   \n",
       "\n",
       "               M_vazba    M_rozměr M_hmotnost         M_isbn  ...  M_překlad  \\\n",
       "0      brožovaná vazba        None       None  9788053005999  ...       None   \n",
       "1      brožovaná vazba  149×205 mm      594 g  9788075887368  ...       None   \n",
       "2      brožovaná vazba  119×189 mm      102 g  9788072225514  ...       None   \n",
       "3      brožovaná vazba  215×155 mm       None  9788088652854  ...       None   \n",
       "4      brožovaná vazba  144×210 mm       None  9788027153923  ...       None   \n",
       "...                ...         ...        ...            ...  ...        ...   \n",
       "12703      pevná vazba  146×185 mm      436 g  9788024936802  ...       None   \n",
       "12704      pevná vazba  130×210 mm      224 g  9788072078325  ...       None   \n",
       "12705      pevná vazba  139×204 mm      557 g  9788073354008  ...       None   \n",
       "12706      pevná vazba  140×200 mm       26 g     8072151614  ...       None   \n",
       "12707  brožovaná vazba  153×153 mm      351 g  9788087270516  ...       None   \n",
       "\n",
       "              M_série M_díl M_věkové_doporučení  \\\n",
       "0                None   NaN                 NaN   \n",
       "1        UTSS Salamis   6.0                 NaN   \n",
       "2          Krimi 2024   4.0                 NaN   \n",
       "3                None   NaN                 NaN   \n",
       "4                None   NaN                 NaN   \n",
       "...               ...   ...                 ...   \n",
       "12703            None   NaN                 NaN   \n",
       "12704            None   NaN                 NaN   \n",
       "12705  Danny Smiřický   1.0                 NaN   \n",
       "12706            None   NaN                 NaN   \n",
       "12707            None   NaN                 NaN   \n",
       "\n",
       "                                     M_styl M_účel_knihy M_ostatní M_příloha  \\\n",
       "0                                romantický         None      None      None   \n",
       "1      [mysteriózní, dobrodružný, napínavý]         None      None      None   \n",
       "2                                  napínavý         None      None      None   \n",
       "3                               mysteriózní         None      None      None   \n",
       "4                                cestopisný         None      None      None   \n",
       "...                                     ...          ...       ...       ...   \n",
       "12703      [duchovní, humorný, filozofický]         None      None      None   \n",
       "12704                                  None         None      None      None   \n",
       "12705                            historický         None      None      None   \n",
       "12706                                  None         None      None      None   \n",
       "12707                                  None         None      None      None   \n",
       "\n",
       "      M_jazyková_úroveň M_knižní_předloha  \n",
       "0                  None              None  \n",
       "1                  None              None  \n",
       "2                  None              None  \n",
       "3                  None              None  \n",
       "4                  None              None  \n",
       "...                 ...               ...  \n",
       "12703              None              None  \n",
       "12704              None              None  \n",
       "12705              None              None  \n",
       "12706              None              None  \n",
       "12707              None              None  \n",
       "\n",
       "[12708 rows x 38 columns]"
      ]
     },
     "execution_count": 129,
     "metadata": {},
     "output_type": "execute_result"
    }
   ],
   "source": [
    "df"
   ]
  },
  {
   "cell_type": "code",
   "execution_count": 130,
   "id": "8ecf73ba",
   "metadata": {},
   "outputs": [],
   "source": [
    "df['isbn'] = df['M_isbn'].astype(str)"
   ]
  },
  {
   "cell_type": "code",
   "execution_count": 131,
   "id": "8e97727e",
   "metadata": {},
   "outputs": [],
   "source": [
    "dk['isbn'] = dk['DK_isbn'].astype(str).apply(lambda x: x.replace(\".0\",\"\"))"
   ]
  },
  {
   "cell_type": "code",
   "execution_count": 132,
   "id": "e2f109f6",
   "metadata": {},
   "outputs": [
    {
     "ename": "ValueError",
     "evalue": "invalid literal for int() with base 10: '9788026221364.0'",
     "output_type": "error",
     "traceback": [
      "\u001b[1;31m---------------------------------------------------------------------------\u001b[0m",
      "\u001b[1;31mValueError\u001b[0m                                Traceback (most recent call last)",
      "Cell \u001b[1;32mIn[132], line 1\u001b[0m\n\u001b[1;32m----> 1\u001b[0m gr[\u001b[38;5;124m'\u001b[39m\u001b[38;5;124misbn\u001b[39m\u001b[38;5;124m'\u001b[39m] \u001b[38;5;241m=\u001b[39m gr[\u001b[38;5;124m'\u001b[39m\u001b[38;5;124mGR_isbn\u001b[39m\u001b[38;5;124m'\u001b[39m]\u001b[38;5;241m.\u001b[39mapply(\u001b[38;5;28;01mlambda\u001b[39;00m x: \u001b[38;5;28mint\u001b[39m(x))\u001b[38;5;241m.\u001b[39mastype(\u001b[38;5;28mstr\u001b[39m)\n",
      "File \u001b[1;32m~\\anaconda3\\Lib\\site-packages\\pandas\\core\\series.py:4924\u001b[0m, in \u001b[0;36mSeries.apply\u001b[1;34m(self, func, convert_dtype, args, by_row, **kwargs)\u001b[0m\n\u001b[0;32m   4789\u001b[0m \u001b[38;5;28;01mdef\u001b[39;00m \u001b[38;5;21mapply\u001b[39m(\n\u001b[0;32m   4790\u001b[0m     \u001b[38;5;28mself\u001b[39m,\n\u001b[0;32m   4791\u001b[0m     func: AggFuncType,\n\u001b[1;32m   (...)\u001b[0m\n\u001b[0;32m   4796\u001b[0m     \u001b[38;5;241m*\u001b[39m\u001b[38;5;241m*\u001b[39mkwargs,\n\u001b[0;32m   4797\u001b[0m ) \u001b[38;5;241m-\u001b[39m\u001b[38;5;241m>\u001b[39m DataFrame \u001b[38;5;241m|\u001b[39m Series:\n\u001b[0;32m   4798\u001b[0m \u001b[38;5;250m    \u001b[39m\u001b[38;5;124;03m\"\"\"\u001b[39;00m\n\u001b[0;32m   4799\u001b[0m \u001b[38;5;124;03m    Invoke function on values of Series.\u001b[39;00m\n\u001b[0;32m   4800\u001b[0m \n\u001b[1;32m   (...)\u001b[0m\n\u001b[0;32m   4915\u001b[0m \u001b[38;5;124;03m    dtype: float64\u001b[39;00m\n\u001b[0;32m   4916\u001b[0m \u001b[38;5;124;03m    \"\"\"\u001b[39;00m\n\u001b[0;32m   4917\u001b[0m     \u001b[38;5;28;01mreturn\u001b[39;00m SeriesApply(\n\u001b[0;32m   4918\u001b[0m         \u001b[38;5;28mself\u001b[39m,\n\u001b[0;32m   4919\u001b[0m         func,\n\u001b[0;32m   4920\u001b[0m         convert_dtype\u001b[38;5;241m=\u001b[39mconvert_dtype,\n\u001b[0;32m   4921\u001b[0m         by_row\u001b[38;5;241m=\u001b[39mby_row,\n\u001b[0;32m   4922\u001b[0m         args\u001b[38;5;241m=\u001b[39margs,\n\u001b[0;32m   4923\u001b[0m         kwargs\u001b[38;5;241m=\u001b[39mkwargs,\n\u001b[1;32m-> 4924\u001b[0m     )\u001b[38;5;241m.\u001b[39mapply()\n",
      "File \u001b[1;32m~\\anaconda3\\Lib\\site-packages\\pandas\\core\\apply.py:1427\u001b[0m, in \u001b[0;36mSeriesApply.apply\u001b[1;34m(self)\u001b[0m\n\u001b[0;32m   1424\u001b[0m     \u001b[38;5;28;01mreturn\u001b[39;00m \u001b[38;5;28mself\u001b[39m\u001b[38;5;241m.\u001b[39mapply_compat()\n\u001b[0;32m   1426\u001b[0m \u001b[38;5;66;03m# self.func is Callable\u001b[39;00m\n\u001b[1;32m-> 1427\u001b[0m \u001b[38;5;28;01mreturn\u001b[39;00m \u001b[38;5;28mself\u001b[39m\u001b[38;5;241m.\u001b[39mapply_standard()\n",
      "File \u001b[1;32m~\\anaconda3\\Lib\\site-packages\\pandas\\core\\apply.py:1507\u001b[0m, in \u001b[0;36mSeriesApply.apply_standard\u001b[1;34m(self)\u001b[0m\n\u001b[0;32m   1501\u001b[0m \u001b[38;5;66;03m# row-wise access\u001b[39;00m\n\u001b[0;32m   1502\u001b[0m \u001b[38;5;66;03m# apply doesn't have a `na_action` keyword and for backward compat reasons\u001b[39;00m\n\u001b[0;32m   1503\u001b[0m \u001b[38;5;66;03m# we need to give `na_action=\"ignore\"` for categorical data.\u001b[39;00m\n\u001b[0;32m   1504\u001b[0m \u001b[38;5;66;03m# TODO: remove the `na_action=\"ignore\"` when that default has been changed in\u001b[39;00m\n\u001b[0;32m   1505\u001b[0m \u001b[38;5;66;03m#  Categorical (GH51645).\u001b[39;00m\n\u001b[0;32m   1506\u001b[0m action \u001b[38;5;241m=\u001b[39m \u001b[38;5;124m\"\u001b[39m\u001b[38;5;124mignore\u001b[39m\u001b[38;5;124m\"\u001b[39m \u001b[38;5;28;01mif\u001b[39;00m \u001b[38;5;28misinstance\u001b[39m(obj\u001b[38;5;241m.\u001b[39mdtype, CategoricalDtype) \u001b[38;5;28;01melse\u001b[39;00m \u001b[38;5;28;01mNone\u001b[39;00m\n\u001b[1;32m-> 1507\u001b[0m mapped \u001b[38;5;241m=\u001b[39m obj\u001b[38;5;241m.\u001b[39m_map_values(\n\u001b[0;32m   1508\u001b[0m     mapper\u001b[38;5;241m=\u001b[39mcurried, na_action\u001b[38;5;241m=\u001b[39maction, convert\u001b[38;5;241m=\u001b[39m\u001b[38;5;28mself\u001b[39m\u001b[38;5;241m.\u001b[39mconvert_dtype\n\u001b[0;32m   1509\u001b[0m )\n\u001b[0;32m   1511\u001b[0m \u001b[38;5;28;01mif\u001b[39;00m \u001b[38;5;28mlen\u001b[39m(mapped) \u001b[38;5;129;01mand\u001b[39;00m \u001b[38;5;28misinstance\u001b[39m(mapped[\u001b[38;5;241m0\u001b[39m], ABCSeries):\n\u001b[0;32m   1512\u001b[0m     \u001b[38;5;66;03m# GH#43986 Need to do list(mapped) in order to get treated as nested\u001b[39;00m\n\u001b[0;32m   1513\u001b[0m     \u001b[38;5;66;03m#  See also GH#25959 regarding EA support\u001b[39;00m\n\u001b[0;32m   1514\u001b[0m     \u001b[38;5;28;01mreturn\u001b[39;00m obj\u001b[38;5;241m.\u001b[39m_constructor_expanddim(\u001b[38;5;28mlist\u001b[39m(mapped), index\u001b[38;5;241m=\u001b[39mobj\u001b[38;5;241m.\u001b[39mindex)\n",
      "File \u001b[1;32m~\\anaconda3\\Lib\\site-packages\\pandas\\core\\base.py:921\u001b[0m, in \u001b[0;36mIndexOpsMixin._map_values\u001b[1;34m(self, mapper, na_action, convert)\u001b[0m\n\u001b[0;32m    918\u001b[0m \u001b[38;5;28;01mif\u001b[39;00m \u001b[38;5;28misinstance\u001b[39m(arr, ExtensionArray):\n\u001b[0;32m    919\u001b[0m     \u001b[38;5;28;01mreturn\u001b[39;00m arr\u001b[38;5;241m.\u001b[39mmap(mapper, na_action\u001b[38;5;241m=\u001b[39mna_action)\n\u001b[1;32m--> 921\u001b[0m \u001b[38;5;28;01mreturn\u001b[39;00m algorithms\u001b[38;5;241m.\u001b[39mmap_array(arr, mapper, na_action\u001b[38;5;241m=\u001b[39mna_action, convert\u001b[38;5;241m=\u001b[39mconvert)\n",
      "File \u001b[1;32m~\\anaconda3\\Lib\\site-packages\\pandas\\core\\algorithms.py:1743\u001b[0m, in \u001b[0;36mmap_array\u001b[1;34m(arr, mapper, na_action, convert)\u001b[0m\n\u001b[0;32m   1741\u001b[0m values \u001b[38;5;241m=\u001b[39m arr\u001b[38;5;241m.\u001b[39mastype(\u001b[38;5;28mobject\u001b[39m, copy\u001b[38;5;241m=\u001b[39m\u001b[38;5;28;01mFalse\u001b[39;00m)\n\u001b[0;32m   1742\u001b[0m \u001b[38;5;28;01mif\u001b[39;00m na_action \u001b[38;5;129;01mis\u001b[39;00m \u001b[38;5;28;01mNone\u001b[39;00m:\n\u001b[1;32m-> 1743\u001b[0m     \u001b[38;5;28;01mreturn\u001b[39;00m lib\u001b[38;5;241m.\u001b[39mmap_infer(values, mapper, convert\u001b[38;5;241m=\u001b[39mconvert)\n\u001b[0;32m   1744\u001b[0m \u001b[38;5;28;01melse\u001b[39;00m:\n\u001b[0;32m   1745\u001b[0m     \u001b[38;5;28;01mreturn\u001b[39;00m lib\u001b[38;5;241m.\u001b[39mmap_infer_mask(\n\u001b[0;32m   1746\u001b[0m         values, mapper, mask\u001b[38;5;241m=\u001b[39misna(values)\u001b[38;5;241m.\u001b[39mview(np\u001b[38;5;241m.\u001b[39muint8), convert\u001b[38;5;241m=\u001b[39mconvert\n\u001b[0;32m   1747\u001b[0m     )\n",
      "File \u001b[1;32mlib.pyx:2972\u001b[0m, in \u001b[0;36mpandas._libs.lib.map_infer\u001b[1;34m()\u001b[0m\n",
      "Cell \u001b[1;32mIn[132], line 1\u001b[0m, in \u001b[0;36m<lambda>\u001b[1;34m(x)\u001b[0m\n\u001b[1;32m----> 1\u001b[0m gr[\u001b[38;5;124m'\u001b[39m\u001b[38;5;124misbn\u001b[39m\u001b[38;5;124m'\u001b[39m] \u001b[38;5;241m=\u001b[39m gr[\u001b[38;5;124m'\u001b[39m\u001b[38;5;124mGR_isbn\u001b[39m\u001b[38;5;124m'\u001b[39m]\u001b[38;5;241m.\u001b[39mapply(\u001b[38;5;28;01mlambda\u001b[39;00m x: \u001b[38;5;28mint\u001b[39m(x))\u001b[38;5;241m.\u001b[39mastype(\u001b[38;5;28mstr\u001b[39m)\n",
      "\u001b[1;31mValueError\u001b[0m: invalid literal for int() with base 10: '9788026221364.0'"
     ]
    }
   ],
   "source": [
    "gr['isbn'] = gr['GR_isbn'].apply(lambda x: int(x)).astype(str)"
   ]
  },
  {
   "cell_type": "code",
   "execution_count": null,
   "id": "d52e990b",
   "metadata": {},
   "outputs": [],
   "source": [
    "dk['isbn']"
   ]
  },
  {
   "cell_type": "code",
   "execution_count": null,
   "id": "562417ed",
   "metadata": {},
   "outputs": [],
   "source": [
    "dkm = dk.merge(df, on=\"isbn\", how=\"inner\")"
   ]
  },
  {
   "cell_type": "code",
   "execution_count": null,
   "id": "078c6df1",
   "metadata": {},
   "outputs": [],
   "source": [
    "dkm"
   ]
  },
  {
   "cell_type": "code",
   "execution_count": null,
   "id": "12939555",
   "metadata": {},
   "outputs": [],
   "source": [
    "dkm = dkm.merge(gr, on=\"isbn\", how=\"inner\")"
   ]
  },
  {
   "cell_type": "code",
   "execution_count": null,
   "id": "94296db2",
   "metadata": {},
   "outputs": [],
   "source": [
    "dkm"
   ]
  },
  {
   "cell_type": "code",
   "execution_count": null,
   "id": "7b1f4a6d",
   "metadata": {},
   "outputs": [],
   "source": [
    "dkm.columns"
   ]
  },
  {
   "cell_type": "code",
   "execution_count": null,
   "id": "15d634de",
   "metadata": {},
   "outputs": [],
   "source": [
    "import seaborn as sns"
   ]
  },
  {
   "cell_type": "code",
   "execution_count": null,
   "id": "340b9231",
   "metadata": {},
   "outputs": [],
   "source": [
    "merged = pd.DataFrame(dkm[(dkm['DK_ratings_count'] > 10) & (dkm['GR_ratings_count'] > 5)].groupby(['isbn','M_počet_stran'])[['DK_Chystám_se_číst','DK_rating','DK_ratings_count','DK_Přečtených','GR_rating','GR_ratings_count']].max()).reset_index()"
   ]
  },
  {
   "cell_type": "code",
   "execution_count": null,
   "id": "0b8b7c30",
   "metadata": {
    "scrolled": true
   },
   "outputs": [],
   "source": [
    "merged[['isbn','DK_ratings_count','GR_ratings_count']]"
   ]
  },
  {
   "cell_type": "code",
   "execution_count": null,
   "id": "6b7e1330",
   "metadata": {},
   "outputs": [],
   "source": [
    "merged.to_csv(os.path.join('../one-off-jupyters','trenovaci.csv'), index=False)"
   ]
  },
  {
   "cell_type": "code",
   "execution_count": null,
   "id": "3c96f0f1",
   "metadata": {},
   "outputs": [],
   "source": [
    "merged"
   ]
  },
  {
   "cell_type": "code",
   "execution_count": null,
   "id": "a097f3a1",
   "metadata": {},
   "outputs": [],
   "source": [
    "pd.Series(merged.groupby('isbn')['DK_ratings_count'].max() / merged.groupby('isbn')['GR_ratings_count'].max()).plot.density()"
   ]
  },
  {
   "cell_type": "code",
   "execution_count": null,
   "id": "449b0d33",
   "metadata": {},
   "outputs": [],
   "source": [
    "pd.Series(merged.groupby('isbn')['DK_ratings_count'].max() / merged.groupby('isbn')['GR_ratings_count'].max()).nlargest()"
   ]
  },
  {
   "cell_type": "code",
   "execution_count": null,
   "id": "e26085e7",
   "metadata": {},
   "outputs": [],
   "source": [
    "pd.Series(merged.groupby('isbn')['DK_ratings_count'].max() / merged.groupby('isbn')['GR_ratings_count'].max()).nsmallest()"
   ]
  },
  {
   "cell_type": "code",
   "execution_count": null,
   "id": "353e36db",
   "metadata": {},
   "outputs": [],
   "source": [
    "sns.lmplot(x='DK_ratings_count', y='GR_ratings_count', data=merged)"
   ]
  },
  {
   "cell_type": "code",
   "execution_count": null,
   "id": "6352a734",
   "metadata": {},
   "outputs": [],
   "source": [
    "sns.lmplot(x='M_počet_stran', y='DK_Přečtených', data=merged)"
   ]
  },
  {
   "cell_type": "code",
   "execution_count": null,
   "id": "4f23a3ee",
   "metadata": {},
   "outputs": [],
   "source": [
    "sns.lmplot(x='M_počet_stran', y='DK_ratings_count', data=merged)"
   ]
  },
  {
   "cell_type": "code",
   "execution_count": null,
   "id": "07872330",
   "metadata": {},
   "outputs": [],
   "source": [
    "zacatek = int(len(merged)*0.5)\n",
    "konec = int(len(merged)*0.25)\n",
    "len(merged.head(konec).tail(zacatek))"
   ]
  },
  {
   "cell_type": "code",
   "execution_count": null,
   "id": "4909406e",
   "metadata": {},
   "outputs": [],
   "source": [
    "sns.lmplot(x='M_počet_stran', y='DK_rating', data=merged.head(konec).tail(zacatek).sort_values(by='M_počet_stran'))"
   ]
  },
  {
   "cell_type": "code",
   "execution_count": null,
   "id": "307c681a",
   "metadata": {},
   "outputs": [],
   "source": [
    "sns.lmplot(x='M_počet_stran', y='DK_rating', data=merged)"
   ]
  },
  {
   "cell_type": "code",
   "execution_count": null,
   "id": "fb10b826",
   "metadata": {},
   "outputs": [],
   "source": [
    "sns.lmplot(x='M_počet_stran', y='DK_Chystám_se_číst', data=merged)"
   ]
  },
  {
   "cell_type": "markdown",
   "id": "5ae42f76",
   "metadata": {},
   "source": [
    "## Co se líbí"
   ]
  },
  {
   "cell_type": "code",
   "execution_count": null,
   "id": "c3593e9a",
   "metadata": {},
   "outputs": [],
   "source": [
    "dk.columns"
   ]
  },
  {
   "cell_type": "code",
   "execution_count": null,
   "id": "49424984",
   "metadata": {
    "scrolled": true
   },
   "outputs": [],
   "source": [
    "tagy = dk.copy()\n",
    "tagy['DK_tags'] = tagy['DK_tags'].apply(lambda x: x.replace(f\"\"\"[\"\"\",'').replace(f\"\"\"]\"\"\",'').replace(f\"\"\"'\"\"\",\"\").split(', '))\n",
    "tagy = tagy.explode('DK_tags')\n",
    "tagy['DK_tags'] = tagy['DK_tags'].apply(lambda x: x.lower())\n",
    "tagy = tagy[['DK_date','DK_titul','DK_ratings_count','DK_rating','DK_tags']]\n",
    "tagy = tagy[tagy['DK_date'] > week_ago]"
   ]
  },
  {
   "cell_type": "code",
   "execution_count": null,
   "id": "fa4780e4",
   "metadata": {},
   "outputs": [],
   "source": [
    "tagy"
   ]
  },
  {
   "cell_type": "code",
   "execution_count": null,
   "id": "d875645e",
   "metadata": {},
   "outputs": [],
   "source": [
    "romany = tagy[tagy['DK_tags'].str.contains('román',na=False)]['DK_titul'].drop_duplicates().to_list()"
   ]
  },
  {
   "cell_type": "code",
   "execution_count": null,
   "id": "5dab93c5",
   "metadata": {},
   "outputs": [],
   "source": [
    "tagy['DK_tags'].nunique()"
   ]
  },
  {
   "cell_type": "code",
   "execution_count": null,
   "id": "762430aa",
   "metadata": {},
   "outputs": [],
   "source": [
    "dk.sample"
   ]
  },
  {
   "cell_type": "code",
   "execution_count": null,
   "id": "84a8678c",
   "metadata": {},
   "outputs": [],
   "source": [
    "nejcastejsi_tagy = tagy.groupby('DK_tags').size()\n",
    "nejcastejsi_tagy = nejcastejsi_tagy[nejcastejsi_tagy >= 10]\n",
    "nejcastejsi_tagy = nejcastejsi_tagy.index.to_list()\n",
    "len(nejcastejsi_tagy)"
   ]
  },
  {
   "cell_type": "code",
   "execution_count": null,
   "id": "b003c9c1",
   "metadata": {},
   "outputs": [],
   "source": [
    "nejcastejsi_tagy"
   ]
  },
  {
   "cell_type": "code",
   "execution_count": null,
   "id": "54e6b4dd",
   "metadata": {},
   "outputs": [],
   "source": [
    "zebricek = tagy[(tagy['DK_tags'].isin(nejcastejsi_tagy)) & (tagy['DK_titul'].isin(romany))].groupby('DK_tags')['DK_rating'].mean().sort_values(ascending=False)"
   ]
  },
  {
   "cell_type": "code",
   "execution_count": null,
   "id": "f0b67038",
   "metadata": {},
   "outputs": [],
   "source": [
    "zebricek.head(20)"
   ]
  },
  {
   "cell_type": "code",
   "execution_count": null,
   "id": "ecf3e2c0",
   "metadata": {},
   "outputs": [],
   "source": [
    "zebricek.tail(20)"
   ]
  },
  {
   "cell_type": "code",
   "execution_count": null,
   "id": "5c62fb1e",
   "metadata": {},
   "outputs": [],
   "source": [
    "dk.columns"
   ]
  },
  {
   "cell_type": "code",
   "execution_count": null,
   "id": "e936b70d",
   "metadata": {},
   "outputs": [],
   "source": [
    "dk['DK_date'] = pd.to_datetime(dk['DK_date'])"
   ]
  },
  {
   "cell_type": "code",
   "execution_count": null,
   "id": "f4da30df",
   "metadata": {},
   "outputs": [],
   "source": [
    "dk[dk['DK_titul'] == 'Rozložíš paměť']"
   ]
  },
  {
   "cell_type": "code",
   "execution_count": null,
   "id": "82c45f73",
   "metadata": {},
   "outputs": [],
   "source": [
    "dk.groupby([\"DK_titul\",pd.Grouper(freq=\"W\",key=\"DK_date\")])['DK_rating'].mean()"
   ]
  },
  {
   "cell_type": "markdown",
   "id": "3869db12",
   "metadata": {},
   "source": [
    "## Novinky"
   ]
  },
  {
   "cell_type": "code",
   "execution_count": null,
   "id": "31c76e38",
   "metadata": {},
   "outputs": [],
   "source": [
    "gr.groupby(\"GR_title\")['GR_date'].min().sort_values(ascending=False).head(50)"
   ]
  },
  {
   "cell_type": "code",
   "execution_count": null,
   "id": "98cb3e41",
   "metadata": {},
   "outputs": [],
   "source": [
    "dk.groupby(\"DK_titul\")['DK_date'].min().sort_values(ascending=False).head(50)"
   ]
  },
  {
   "cell_type": "code",
   "execution_count": null,
   "id": "e632b5d1",
   "metadata": {},
   "outputs": [],
   "source": [
    "dk['nakladatel'] = dk['isbn'].apply(lambda x: nakladatelstvi(x))\n",
    "pribytek = pd.DataFrame(dk[dk['DK_date'] > month_ago].groupby(['hezky_titul','nakladatel'])['skore'].max() - dk[dk['DK_date'] > month_ago].groupby(['hezky_titul','nakladatel'])['skore'].min()).groupby('nakladatel').sum().reset_index().sum().iloc[1]\n",
    "nakladatelstvo = pd.DataFrame(dk[dk['DK_date'] > month_ago].groupby(['hezky_titul','nakladatel'])['skore'].max() - dk[dk['DK_date'] > month_ago].groupby(['hezky_titul','nakladatel'])['skore'].min()).groupby('nakladatel').sum().reset_index()\n",
    "nakladatelstvo['podil'] = nakladatelstvo['skore'] / pribytek\n",
    "nakladatelstvo = nakladatelstvo[nakladatelstvo['podil'] >= 0.005]\n",
    "nakladatelstvo['podil'] = nakladatelstvo['podil'].apply(lambda x: f\"\"\"{round(x * 100, 1)}&nbsp;%\"\"\".replace(\".\", \",\"))\n",
    "nakladatelstvo = nakladatelstvo.sort_values(by='skore',ascending=False)\n",
    "nakladatelstvo = nakladatelstvo.drop(columns=['skore'])"
   ]
  },
  {
   "cell_type": "code",
   "execution_count": null,
   "id": "dc87b7d4",
   "metadata": {},
   "outputs": [],
   "source": [
    "nakladatelstvo"
   ]
  },
  {
   "cell_type": "code",
   "execution_count": null,
   "id": "ca5d1160",
   "metadata": {},
   "outputs": [],
   "source": [
    "dk[(dk['DK_date'] > month_ago) & (dk['nakladatel'] == 'Paseka')]"
   ]
  },
  {
   "cell_type": "code",
   "execution_count": null,
   "id": "57c81501",
   "metadata": {},
   "outputs": [],
   "source": [
    "str(datetime.datetime.now())"
   ]
  },
  {
   "cell_type": "code",
   "execution_count": null,
   "id": "7698a7fc",
   "metadata": {},
   "outputs": [],
   "source": [
    "def koho_vydavaji(nakl):\n",
    "    global dk\n",
    "    top = pd.DataFrame(dk[(dk['DK_date'] > month_ago) & (dk['nakladatel'] == nakl)].groupby('hezky_titul')['skore'].max() - dk[(dk['DK_date'] > month_ago) & (dk['nakladatel'] == nakl)].groupby('hezky_titul')['skore'].min()).groupby('hezky_titul').sum().reset_index()\n",
    "    print(top)\n",
    "    top = top.groupby('hezky_titul')['skore'].max().nlargest(3).index.to_list()\n",
    "    print(top)\n",
    "    top2 = [x.split(\":\")[0] for x in top if \"[\" not in x]\n",
    "    top2 = list(set(top2))\n",
    "    kolik = len(top2)\n",
    "    if kolik > 3:\n",
    "        return top2[:3]\n",
    "    else:\n",
    "        return top2"
   ]
  },
  {
   "cell_type": "code",
   "execution_count": null,
   "id": "e869b804",
   "metadata": {},
   "outputs": [],
   "source": [
    "print(koho_vydavaji('Paseka'))"
   ]
  }
 ],
 "metadata": {
  "kernelspec": {
   "display_name": "Python 3 (ipykernel)",
   "language": "python",
   "name": "python3"
  },
  "language_info": {
   "codemirror_mode": {
    "name": "ipython",
    "version": 3
   },
   "file_extension": ".py",
   "mimetype": "text/x-python",
   "name": "python",
   "nbconvert_exporter": "python",
   "pygments_lexer": "ipython3",
   "version": "3.12.3"
  }
 },
 "nbformat": 4,
 "nbformat_minor": 5
}
