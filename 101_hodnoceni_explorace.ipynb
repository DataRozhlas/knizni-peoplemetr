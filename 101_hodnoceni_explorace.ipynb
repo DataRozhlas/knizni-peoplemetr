{
 "cells": [
  {
   "cell_type": "code",
   "execution_count": 48,
   "id": "6c61b793",
   "metadata": {},
   "outputs": [],
   "source": [
    "import os\n",
    "import json\n",
    "import pandas as pd"
   ]
  },
  {
   "cell_type": "markdown",
   "id": "815ecc32",
   "metadata": {},
   "source": [
    "## Goodreads"
   ]
  },
  {
   "cell_type": "code",
   "execution_count": 49,
   "id": "5847f93b",
   "metadata": {},
   "outputs": [],
   "source": [
    "gr = pd.read_csv(os.path.join(\"data\",\"goodreads-hodnoceni.csv\"))"
   ]
  },
  {
   "cell_type": "code",
   "execution_count": 50,
   "id": "7f27dee9",
   "metadata": {},
   "outputs": [
    {
     "data": {
      "text/plain": [
       "'2024-04-29 03:08:07'"
      ]
     },
     "execution_count": 50,
     "metadata": {},
     "output_type": "execute_result"
    }
   ],
   "source": [
    "gr['GR_date'].max()"
   ]
  },
  {
   "cell_type": "code",
   "execution_count": 51,
   "id": "a4c485fe",
   "metadata": {},
   "outputs": [
    {
     "data": {
      "text/plain": [
       "GR_title\n",
       "U severní zdi by Petra Klabouchová                                                          4.71\n",
       "V pasti pohlaví by Silvie Lauder                                                            4.57\n",
       "Severka by Nina Špitálníková                                                                4.51\n",
       "Rozložíš paměť by Marek Torčík                                                              4.43\n",
       "Zvonkohra by Eliška Václavíková                                                             4.40\n",
       "Srpny by Jakub Stanjura                                                                     4.33\n",
       "Feministkou snadno a rychle by Lucie Jarkovská                                              4.30\n",
       "Nebuď p*ča aneb jak (ne)pracovat s dětmi by Tomáš Morávek                                   4.27\n",
       "Vraní oko by Michaela Klevisová                                                             4.24\n",
       "Ztracenné by Michelle Losekoot                                                              4.17\n",
       "Lenochod Jimmy & jeho backup band by Pavel Bareš                                            4.15\n",
       "Fosilie by Michal Kašpárek                                                                  4.13\n",
       "Vetřelec by Kristýna Trpková                                                                4.12\n",
       "Letní bouřky by Klára Pospíšilová                                                           4.11\n",
       "Pořádek v hlavě by Martin Poliačik                                                          4.08\n",
       "Jsme nevyhnutelní (Navždycky #4) by Nofreeusernames                                         4.02\n",
       "Těla by Klára Vlasáková                                                                     3.97\n",
       "Josefíně všichni lžou by Kateřina Pantovič                                                  3.91\n",
       "Pláňata by Petra Dvořáková                                                                  3.85\n",
       "Z pera knihomolů: 11 povídek od českých a slovenských knižních blogerů by Eliška Hronová    3.85\n",
       "Kde jsi, když nejsi by Radka Třeštíková                                                     3.83\n",
       "Gazely by Patrik Hartl                                                                      3.75\n",
       "Sudetenland by Leoš Kyša                                                                    3.72\n",
       "Jiné místo by Kateřina Karolová                                                             3.50\n",
       "Nejvyšší karta by Petra Hůlová                                                              3.38\n",
       "Neodpovídej... by Lucie Bechynková                                                          2.95\n",
       "Name: GR_rating, dtype: float64"
      ]
     },
     "execution_count": 51,
     "metadata": {},
     "output_type": "execute_result"
    }
   ],
   "source": [
    "gr[gr['GR_ratings_count'] >= 100].groupby('GR_title')['GR_rating'].last().nlargest(30)"
   ]
  },
  {
   "cell_type": "code",
   "execution_count": 52,
   "id": "a3dcc7ae",
   "metadata": {},
   "outputs": [
    {
     "data": {
      "text/plain": [
       "GR_title\n",
       "Srpny by Jakub Stanjura                                                                     1000.0\n",
       "Těla by Klára Vlasáková                                                                      765.0\n",
       "Severka by Nina Špitálníková                                                                 673.0\n",
       "Kde jsi, když nejsi by Radka Třeštíková                                                      550.0\n",
       "Jsme nevyhnutelní (Navždycky #4) by Nofreeusernames                                          515.0\n",
       "Gazely by Patrik Hartl                                                                       364.0\n",
       "Rozložíš paměť by Marek Torčík                                                               359.0\n",
       "Fosilie by Michal Kašpárek                                                                   348.0\n",
       "U severní zdi by Petra Klabouchová                                                           335.0\n",
       "Sudetenland by Leoš Kyša                                                                     279.0\n",
       "Zvonkohra by Eliška Václavíková                                                              265.0\n",
       "Pláňata by Petra Dvořáková                                                                   263.0\n",
       "V pasti pohlaví by Silvie Lauder                                                             262.0\n",
       "Josefíně všichni lžou by Kateřina Pantovič                                                   247.0\n",
       "Vraní oko by Michaela Klevisová                                                              224.0\n",
       "Feministkou snadno a rychle by Lucie Jarkovská                                               195.0\n",
       "Neodpovídej... by Lucie Bechynková                                                           163.0\n",
       "Z pera knihomolů: 11 povídek od českých a slovenských knižních blogerů by Eliška Hronová     146.0\n",
       "Ztracenné by Michelle Losekoot                                                               145.0\n",
       "Letní bouřky by Klára Pospíšilová                                                            140.0\n",
       "Pořádek v hlavě by Martin Poliačik                                                           123.0\n",
       "Jiné místo by Kateřina Karolová                                                              116.0\n",
       "Nejvyšší karta by Petra Hůlová                                                               116.0\n",
       "Lenochod Jimmy & jeho backup band by Pavel Bareš                                             115.0\n",
       "Nebuď p*ča aneb jak (ne)pracovat s dětmi by Tomáš Morávek                                    107.0\n",
       "Vetřelec by Kristýna Trpková                                                                 102.0\n",
       "Zvedá se vítr by Kateřina Surmanová                                                           99.0\n",
       "Organizační porno by Aneta Martinek                                                           93.0\n",
       "Karneval zvířat by Zuzana Dostálová                                                           92.0\n",
       "Kateřina v říši kimči by Kateřina Kang                                                        88.0\n",
       "Name: GR_ratings_count, dtype: float64"
      ]
     },
     "execution_count": 52,
     "metadata": {},
     "output_type": "execute_result"
    }
   ],
   "source": [
    "gr.groupby(\"GR_title\")['GR_ratings_count'].max().nlargest(30)"
   ]
  },
  {
   "cell_type": "code",
   "execution_count": 53,
   "id": "7160775e",
   "metadata": {},
   "outputs": [
    {
     "data": {
      "text/plain": [
       "GR_title\n",
       "Srpny by Jakub Stanjura                                      64.0\n",
       "Rozložíš paměť by Marek Torčík                               58.0\n",
       "Severka by Nina Špitálníková                                 58.0\n",
       "Těla by Klára Vlasáková                                      41.0\n",
       "V pasti pohlaví by Silvie Lauder                             37.0\n",
       "Feministkou snadno a rychle by Lucie Jarkovská               36.0\n",
       "Fosilie by Michal Kašpárek                                   30.0\n",
       "Sudetenland by Leoš Kyša                                     28.0\n",
       "Gazely by Patrik Hartl                                       26.0\n",
       "Někdo z nás by Kristýna Trpková                              25.0\n",
       "Pláňata by Petra Dvořáková                                   25.0\n",
       "U severní zdi by Petra Klabouchová                           23.0\n",
       "Vyhoření by Petr Šesták                                      21.0\n",
       "Černobyl: Pád Atomgradu by Matyáš Namai                      21.0\n",
       "Kde jsi, když nejsi by Radka Třeštíková                      18.0\n",
       "Neodpovídej... by Lucie Bechynková                           13.0\n",
       "Těžké duše by Iva Hadj Moussa                                13.0\n",
       "Zvonkohra by Eliška Václavíková                              12.0\n",
       "Nebuď p*ča aneb jak (ne)pracovat s dětmi by Tomáš Morávek    11.0\n",
       "Organizační porno by Aneta Martinek                          11.0\n",
       "Za pět minut zvoní by Michaela Merglová                      11.0\n",
       "Čokoládová krev by Radka Denemarková                          9.0\n",
       "Formulista by Michaela Schmiedlová                            8.0\n",
       "Jsme nevyhnutelní (Navždycky #4) by Nofreeusernames           8.0\n",
       "Krutý měsíc by Jana Jašová                                    8.0\n",
       "Name: GR_ratings_count, dtype: float64"
      ]
     },
     "execution_count": 53,
     "metadata": {},
     "output_type": "execute_result"
    }
   ],
   "source": [
    "pd.Series(gr.groupby(\"GR_title\")['GR_ratings_count'].max() - gr.groupby(\"GR_title\")['GR_ratings_count'].min()).nlargest(25)"
   ]
  },
  {
   "cell_type": "code",
   "execution_count": 54,
   "id": "24b3d9ae",
   "metadata": {},
   "outputs": [],
   "source": [
    "import datetime"
   ]
  },
  {
   "cell_type": "code",
   "execution_count": 55,
   "id": "5bc41d4d",
   "metadata": {},
   "outputs": [],
   "source": [
    "two_weeks_ago = datetime.datetime.now() - datetime.timedelta(days=13)\n",
    "two_weeks_ago = two_weeks_ago.strftime('%Y-%m-%d')"
   ]
  },
  {
   "cell_type": "code",
   "execution_count": 56,
   "id": "56660569",
   "metadata": {},
   "outputs": [],
   "source": [
    "week_ago = datetime.datetime.now() - datetime.timedelta(days=6)\n",
    "week_ago = week_ago.strftime('%Y-%m-%d')"
   ]
  },
  {
   "cell_type": "code",
   "execution_count": 57,
   "id": "fa0f4fd6",
   "metadata": {},
   "outputs": [
    {
     "data": {
      "text/plain": [
       "GR_title\n",
       "Severka by Nina Špitálníková                                        19.0\n",
       "Srpny by Jakub Stanjura                                             16.0\n",
       "Rozložíš paměť by Marek Torčík                                      11.0\n",
       "Pláňata by Petra Dvořáková                                          10.0\n",
       "Těla by Klára Vlasáková                                             10.0\n",
       "Gazely by Patrik Hartl                                               8.0\n",
       "Sudetenland by Leoš Kyša                                             6.0\n",
       "Vyhoření by Petr Šesták                                              6.0\n",
       "U severní zdi by Petra Klabouchová                                   5.0\n",
       "V pasti pohlaví by Silvie Lauder                                     5.0\n",
       "Feministkou snadno a rychle by Lucie Jarkovská                       4.0\n",
       "Fosilie by Michal Kašpárek                                           4.0\n",
       "Někdo z nás by Kristýna Trpková                                      4.0\n",
       "Zvonkohra by Eliška Václavíková                                      4.0\n",
       "Černobyl: Pád Atomgradu by Matyáš Namai                              4.0\n",
       "Červený obr by Tereza Bínová                                         4.0\n",
       "Jiné místo by Kateřina Karolová                                      3.0\n",
       "Klekánice by Tereza Bartošová                                        3.0\n",
       "Krutý měsíc by Jana Jašová                                           3.0\n",
       "Lampář, lodivodka a kluk z továrny na slzy by Kateřina Havlíková     3.0\n",
       "Na kolenách by Alica Cárska                                          3.0\n",
       "Nebuď p*ča aneb jak (ne)pracovat s dětmi by Tomáš Morávek            3.0\n",
       "Organizační porno by Aneta Martinek                                  3.0\n",
       "Tropické noci by Jakub Fránek                                        3.0\n",
       "Velký průšvih by Anna Beatrix Bártová                                3.0\n",
       "Name: GR_ratings_count, dtype: float64"
      ]
     },
     "execution_count": 57,
     "metadata": {},
     "output_type": "execute_result"
    }
   ],
   "source": [
    "pd.Series(gr[gr['GR_date'] > two_weeks_ago].groupby(\"GR_title\")['GR_ratings_count'].max() - gr[gr['GR_date'] < week_ago].groupby(\"GR_title\")['GR_ratings_count'].max()).nlargest(25)"
   ]
  },
  {
   "cell_type": "code",
   "execution_count": 58,
   "id": "d2523d56",
   "metadata": {},
   "outputs": [
    {
     "data": {
      "text/plain": [
       "GR_title\n",
       "Srpny by Jakub Stanjura                                      37.0\n",
       "Severka by Nina Špitálníková                                 33.0\n",
       "Těla by Klára Vlasáková                                      29.0\n",
       "Rozložíš paměť by Marek Torčík                               27.0\n",
       "Pláňata by Petra Dvořáková                                   19.0\n",
       "Sudetenland by Leoš Kyša                                     16.0\n",
       "Fosilie by Michal Kašpárek                                   15.0\n",
       "Gazely by Patrik Hartl                                       14.0\n",
       "Někdo z nás by Kristýna Trpková                              14.0\n",
       "Feministkou snadno a rychle by Lucie Jarkovská               12.0\n",
       "U severní zdi by Petra Klabouchová                           11.0\n",
       "Vyhoření by Petr Šesták                                      11.0\n",
       "V pasti pohlaví by Silvie Lauder                             10.0\n",
       "Kde jsi, když nejsi by Radka Třeštíková                       9.0\n",
       "Černobyl: Pád Atomgradu by Matyáš Namai                       9.0\n",
       "Neodpovídej... by Lucie Bechynková                            8.0\n",
       "Organizační porno by Aneta Martinek                           8.0\n",
       "Krutý měsíc by Jana Jašová                                    7.0\n",
       "Nebuď p*ča aneb jak (ne)pracovat s dětmi by Tomáš Morávek     7.0\n",
       "Červený obr by Tereza Bínová                                  7.0\n",
       "Klekánice by Tereza Bartošová                                 6.0\n",
       "Zvonkohra by Eliška Václavíková                               6.0\n",
       "Formulista by Michaela Schmiedlová                            5.0\n",
       "Krev pro divoženku by Kristýna Sněgoňová                      5.0\n",
       "Na kolenách by Alica Cárska                                   5.0\n",
       "Name: GR_ratings_count, dtype: float64"
      ]
     },
     "execution_count": 58,
     "metadata": {},
     "output_type": "execute_result"
    }
   ],
   "source": [
    "pd.Series(gr[gr['GR_date'] > two_weeks_ago].groupby(\"GR_title\")['GR_ratings_count'].max() - gr[gr['GR_date'] < two_weeks_ago].groupby(\"GR_title\")['GR_ratings_count'].max()).nlargest(25)"
   ]
  },
  {
   "cell_type": "code",
   "execution_count": 59,
   "id": "af7c9ed1",
   "metadata": {},
   "outputs": [
    {
     "data": {
      "text/plain": [
       "GR_title\n",
       "Srpny by Jakub Stanjura                                                                     64.0\n",
       "Rozložíš paměť by Marek Torčík                                                              58.0\n",
       "Severka by Nina Špitálníková                                                                58.0\n",
       "Těla by Klára Vlasáková                                                                     41.0\n",
       "V pasti pohlaví by Silvie Lauder                                                            37.0\n",
       "Feministkou snadno a rychle by Lucie Jarkovská                                              36.0\n",
       "Fosilie by Michal Kašpárek                                                                  30.0\n",
       "Sudetenland by Leoš Kyša                                                                    28.0\n",
       "Gazely by Patrik Hartl                                                                      26.0\n",
       "Někdo z nás by Kristýna Trpková                                                             25.0\n",
       "Pláňata by Petra Dvořáková                                                                  25.0\n",
       "U severní zdi by Petra Klabouchová                                                          23.0\n",
       "Vyhoření by Petr Šesták                                                                     21.0\n",
       "Černobyl: Pád Atomgradu by Matyáš Namai                                                     21.0\n",
       "Kde jsi, když nejsi by Radka Třeštíková                                                     18.0\n",
       "Neodpovídej... by Lucie Bechynková                                                          13.0\n",
       "Těžké duše by Iva Hadj Moussa                                                               13.0\n",
       "Zvonkohra by Eliška Václavíková                                                             12.0\n",
       "Nebuď p*ča aneb jak (ne)pracovat s dětmi by Tomáš Morávek                                   11.0\n",
       "Organizační porno by Aneta Martinek                                                         11.0\n",
       "Za pět minut zvoní by Michaela Merglová                                                     11.0\n",
       "Čokoládová krev by Radka Denemarková                                                         9.0\n",
       "Formulista by Michaela Schmiedlová                                                           8.0\n",
       "Jsme nevyhnutelní (Navždycky #4) by Nofreeusernames                                          8.0\n",
       "Krutý měsíc by Jana Jašová                                                                   8.0\n",
       "Láska, smrt a všechno zlý by Martin Paytok                                                   8.0\n",
       "Na kolenách by Alica Cárska                                                                  8.0\n",
       "Svatební historky aneb Jak jsem se nevdala by Lucie Macháčková                               8.0\n",
       "Ztracenné by Michelle Losekoot                                                               8.0\n",
       "Zvedá se vítr by Kateřina Surmanová                                                          8.0\n",
       "Budoucnost nepráce by Filip Dřímalka                                                         7.0\n",
       "Kniha, kterou posypal hvězdný prach by Nora Eckhardtová                                      7.0\n",
       "Neonová cizinka by Filip Klouda                                                              7.0\n",
       "Sudetský dům II by Štěpán Javůrek                                                            7.0\n",
       "Trnitá kletba by Anežka Kočová                                                               7.0\n",
       "Červený obr by Tereza Bínová                                                                 7.0\n",
       "Ženy zločinu by Lucie Bechynková                                                             7.0\n",
       "Hrdinové kapitalistické práce v Evropě by Saša Uhlová                                        6.0\n",
       "Karneval zvířat by Zuzana Dostálová                                                          6.0\n",
       "Klekánice by Tereza Bartošová                                                                6.0\n",
       "Krev pro divoženku by Kristýna Sněgoňová                                                     6.0\n",
       "Lenochod Jimmy & jeho backup band by Pavel Bareš                                             6.0\n",
       "Letní bouřky by Klára Pospíšilová                                                            6.0\n",
       "Vraní oko by Michaela Klevisová                                                              6.0\n",
       "Z pera knihomolů: 11 povídek od českých a slovenských knižních blogerů by Eliška Hronová     6.0\n",
       "Ano, pane Božský by Lucie Srňánková                                                          5.0\n",
       "Jiné místo by Kateřina Karolová                                                              5.0\n",
       "Josefíně všichni lžou by Kateřina Pantovič                                                   5.0\n",
       "Nejvyšší karta by Petra Hůlová                                                               5.0\n",
       "Ovál by Jiří  Homola                                                                         5.0\n",
       "Name: GR_ratings_count, dtype: float64"
      ]
     },
     "execution_count": 59,
     "metadata": {},
     "output_type": "execute_result"
    }
   ],
   "source": [
    "pd.Series(gr.groupby(\"GR_title\")['GR_ratings_count'].max() - gr.groupby(\"GR_title\")['GR_ratings_count'].min()).nlargest(50)"
   ]
  },
  {
   "cell_type": "markdown",
   "id": "3b6fdcdd",
   "metadata": {},
   "source": [
    "### Pokus s time series"
   ]
  },
  {
   "cell_type": "code",
   "execution_count": 60,
   "id": "889ef554",
   "metadata": {},
   "outputs": [
    {
     "name": "stderr",
     "output_type": "stream",
     "text": [
      "C:\\Users\\micha\\AppData\\Local\\Temp\\ipykernel_17204\\1877337853.py:2: SettingWithCopyWarning: \n",
      "A value is trying to be set on a copy of a slice from a DataFrame.\n",
      "Try using .loc[row_indexer,col_indexer] = value instead\n",
      "\n",
      "See the caveats in the documentation: https://pandas.pydata.org/pandas-docs/stable/user_guide/indexing.html#returning-a-view-versus-a-copy\n",
      "  vyvoj['GR_date'] = pd.to_datetime(vyvoj['GR_date'])\n"
     ]
    }
   ],
   "source": [
    "vyvoj = gr[['GR_date','GR_title','GR_ratings_count']]\n",
    "vyvoj['GR_date'] = pd.to_datetime(vyvoj['GR_date'])\n",
    "vyvoj = vyvoj.sort_values(by='GR_date')\n",
    "vyvoj = vyvoj.set_index('GR_date')"
   ]
  },
  {
   "cell_type": "code",
   "execution_count": 61,
   "id": "cfd9e0bf",
   "metadata": {},
   "outputs": [
    {
     "data": {
      "text/plain": [
       "<Axes: xlabel='GR_date'>"
      ]
     },
     "execution_count": 61,
     "metadata": {},
     "output_type": "execute_result"
    },
    {
     "data": {
      "image/png": "[encoded data removed]",
      "text/plain": [
       "<Figure size 640x480 with 1 Axes>"
      ]
     },
     "metadata": {},
     "output_type": "display_data"
    }
   ],
   "source": [
    "vyvoj[vyvoj['GR_title'] == 'Nejvyšší karta by Petra Hůlová']['GR_ratings_count'].plot()"
   ]
  },
  {
   "cell_type": "code",
   "execution_count": 62,
   "id": "ce36c973",
   "metadata": {},
   "outputs": [
    {
     "data": {
      "text/html": [
       "<div>\n",
       "<style scoped>\n",
       "    .dataframe tbody tr th:only-of-type {\n",
       "        vertical-align: middle;\n",
       "    }\n",
       "\n",
       "    .dataframe tbody tr th {\n",
       "        vertical-align: top;\n",
       "    }\n",
       "\n",
       "    .dataframe thead th {\n",
       "        text-align: right;\n",
       "    }\n",
       "</style>\n",
       "<table border=\"1\" class=\"dataframe\">\n",
       "  <thead>\n",
       "    <tr style=\"text-align: right;\">\n",
       "      <th></th>\n",
       "      <th>GR_title</th>\n",
       "      <th>GR_ratings_count</th>\n",
       "    </tr>\n",
       "    <tr>\n",
       "      <th>GR_date</th>\n",
       "      <th></th>\n",
       "      <th></th>\n",
       "    </tr>\n",
       "  </thead>\n",
       "  <tbody>\n",
       "    <tr>\n",
       "      <th>2024-04-01 14:29:16</th>\n",
       "      <td>Hella by Alena Machoninová</td>\n",
       "      <td>10.0</td>\n",
       "    </tr>\n",
       "    <tr>\n",
       "      <th>2024-04-02 10:39:58</th>\n",
       "      <td>Hella by Alena Machoninová</td>\n",
       "      <td>10.0</td>\n",
       "    </tr>\n",
       "    <tr>\n",
       "      <th>2024-04-05 17:33:31</th>\n",
       "      <td>Hella by Alena Machoninová</td>\n",
       "      <td>11.0</td>\n",
       "    </tr>\n",
       "    <tr>\n",
       "      <th>2024-04-08 00:12:57</th>\n",
       "      <td>Hella by Alena Machoninová</td>\n",
       "      <td>11.0</td>\n",
       "    </tr>\n",
       "    <tr>\n",
       "      <th>2024-04-14 00:17:20</th>\n",
       "      <td>Hella by Alena Machoninová</td>\n",
       "      <td>11.0</td>\n",
       "    </tr>\n",
       "    <tr>\n",
       "      <th>2024-04-19 22:39:49</th>\n",
       "      <td>Hella by Alena Machoninová</td>\n",
       "      <td>12.0</td>\n",
       "    </tr>\n",
       "    <tr>\n",
       "      <th>2024-04-22 02:17:11</th>\n",
       "      <td>Hella by Alena Machoninová</td>\n",
       "      <td>12.0</td>\n",
       "    </tr>\n",
       "    <tr>\n",
       "      <th>2024-04-29 02:14:45</th>\n",
       "      <td>Hella by Alena Machoninová</td>\n",
       "      <td>12.0</td>\n",
       "    </tr>\n",
       "  </tbody>\n",
       "</table>\n",
       "</div>"
      ],
      "text/plain": [
       "                                       GR_title  GR_ratings_count\n",
       "GR_date                                                          \n",
       "2024-04-01 14:29:16  Hella by Alena Machoninová              10.0\n",
       "2024-04-02 10:39:58  Hella by Alena Machoninová              10.0\n",
       "2024-04-05 17:33:31  Hella by Alena Machoninová              11.0\n",
       "2024-04-08 00:12:57  Hella by Alena Machoninová              11.0\n",
       "2024-04-14 00:17:20  Hella by Alena Machoninová              11.0\n",
       "2024-04-19 22:39:49  Hella by Alena Machoninová              12.0\n",
       "2024-04-22 02:17:11  Hella by Alena Machoninová              12.0\n",
       "2024-04-29 02:14:45  Hella by Alena Machoninová              12.0"
      ]
     },
     "execution_count": 62,
     "metadata": {},
     "output_type": "execute_result"
    }
   ],
   "source": [
    "vyvoj[vyvoj['GR_title'].str.contains('Hella')]"
   ]
  },
  {
   "cell_type": "markdown",
   "id": "00ef5a27",
   "metadata": {},
   "source": [
    "## Databáze knih"
   ]
  },
  {
   "cell_type": "code",
   "execution_count": 63,
   "id": "d189895d",
   "metadata": {},
   "outputs": [],
   "source": [
    "dk = pd.read_csv(os.path.join(\"data\",\"databazeknih-hodnoceni.csv\"))"
   ]
  },
  {
   "cell_type": "code",
   "execution_count": 64,
   "id": "e8cd52a3",
   "metadata": {},
   "outputs": [
    {
     "data": {
      "text/plain": [
       "'2024-04-29 03:20:14'"
      ]
     },
     "execution_count": 64,
     "metadata": {},
     "output_type": "execute_result"
    }
   ],
   "source": [
    "dk['DK_date'].max()"
   ]
  },
  {
   "cell_type": "code",
   "execution_count": 65,
   "id": "890dd758",
   "metadata": {
    "scrolled": true
   },
   "outputs": [
    {
     "data": {
      "text/plain": [
       "Index(['DK_isbn', 'DK_date', 'DK_titul', 'DK_tags', 'DK_Chci_si_koupit',\n",
       "       'DK_rating', 'DK_ratings_count', 'DK_Přečtených', 'DK_Chystám_se_číst',\n",
       "       'DK_Právě_čtených', 'DK_Čtenářské_výzvě', 'DK_Knihotéce',\n",
       "       'DK_Doporučených', 'DK_dalších_seznamech'],\n",
       "      dtype='object')"
      ]
     },
     "execution_count": 65,
     "metadata": {},
     "output_type": "execute_result"
    }
   ],
   "source": [
    "dk.columns"
   ]
  },
  {
   "cell_type": "code",
   "execution_count": 66,
   "id": "206e6667",
   "metadata": {},
   "outputs": [
    {
     "data": {
      "text/plain": [
       "DK_titul\n",
       "Chalupa                                                                    123.0\n",
       "Někdo z nás                                                                116.0\n",
       "Gazely                                                                     110.0\n",
       "U severní zdi                                                               64.0\n",
       "Pláňata                                                                     57.0\n",
       "Sudetský dům II: Podzim 1947                                                45.0\n",
       "Sudetenland                                                                 44.0\n",
       "Severka                                                                     43.0\n",
       "Srpny                                                                       41.0\n",
       "Kde jsi, když nejsi                                                         36.0\n",
       "Klekánice                                                                   36.0\n",
       "Balada pro Emily                                                            34.0\n",
       "Vraní oko                                                                   34.0\n",
       "Vodník                                                                      33.0\n",
       "Vetřelec                                                                    31.0\n",
       "Těla                                                                        28.0\n",
       "Heřmánkové údolí                                                            27.0\n",
       "Okamžiky štěstí                                                             27.0\n",
       "Láska, smrt a všechno zlý                                                   26.0\n",
       "Zvedá se vítr                                                               26.0\n",
       "Rozložíš paměť                                                              22.0\n",
       "Smrt šumavského poustevníka                                                 22.0\n",
       "Černá smečka                                                                22.0\n",
       "Neodpovídej                                                                 21.0\n",
       "V pasti pohlaví: O politice, péči, sexu, násilí a postavení žen v Česku     20.0\n",
       "Markovič: Lovec přízraků                                                    19.0\n",
       "Příběh akvamarínu                                                           19.0\n",
       "Za pět minut zvoní                                                          18.0\n",
       "Hector                                                                      17.0\n",
       "Na konci vesmíru                                                            17.0\n",
       "Vyhoření                                                                    17.0\n",
       "Gump: Jsme dvojka                                                           16.0\n",
       "Těžké duše                                                                  16.0\n",
       "Čokoládová krev                                                             16.0\n",
       "Jiné místo                                                                  15.0\n",
       "Nebuď p*ča aneb jak (ne)pracovat s dětmi                                    15.0\n",
       "V jámě lvové                                                                15.0\n",
       "Krutý měsíc                                                                 14.0\n",
       "Lucas                                                                       14.0\n",
       "Obsluhoval jsem anglického krále                                            14.0\n",
       "Name: DK_ratings_count, dtype: float64"
      ]
     },
     "execution_count": 66,
     "metadata": {},
     "output_type": "execute_result"
    }
   ],
   "source": [
    "pd.Series(dk.groupby(\"DK_titul\")['DK_ratings_count'].max() - dk.groupby(\"DK_titul\")['DK_ratings_count'].min()).nlargest(40)"
   ]
  },
  {
   "cell_type": "code",
   "execution_count": 67,
   "id": "8d725140",
   "metadata": {},
   "outputs": [
    {
     "data": {
      "text/plain": [
       "DK_titul\n",
       "Hella                                               18.0\n",
       "Rozložíš paměť                                      18.0\n",
       "Letnice                                             15.0\n",
       "Někdo z nás                                         15.0\n",
       "Bůh je mrtev, nic není dovoleno                     14.0\n",
       "Než zjistíš pravdu                                  11.0\n",
       "Těžké duše                                           8.0\n",
       "Panoptikum pana Perkinse                             7.0\n",
       "Tropické noci                                        7.0\n",
       "Muž vdaných žen                                      6.0\n",
       "Čokoládová krev                                      6.0\n",
       "Balada pro Emily                                     5.0\n",
       "Jitřní záře                                          5.0\n",
       "Návrat nežádoucí                                     5.0\n",
       "Láska, smrt a všechno zlý                            4.0\n",
       "Rozbité světy                                        4.0\n",
       "U severní zdi                                        4.0\n",
       "13!                                                  3.0\n",
       "Až ke křížku                                         3.0\n",
       "Dokumenty                                            3.0\n",
       "Kde končí nebe                                       3.0\n",
       "Markovič: Lovec přízraků                             3.0\n",
       "Nejasné hranice                                      3.0\n",
       "Proč všichni odcházejí                               3.0\n",
       "Srpny                                                3.0\n",
       "Svatební historky aneb Jak jsem se nevdala           3.0\n",
       "Vodník                                               3.0\n",
       "Jelita & jitrnice                                    2.0\n",
       "Když se mnou půjdeš tajgou                           2.0\n",
       "Když za nás Bůh netahá kaštany z ohně                2.0\n",
       "Klekánice                                            2.0\n",
       "Kniha, kterou posypal hvězdný prach                  2.0\n",
       "Krutý měsíc                                          2.0\n",
       "Moje roky v Izraeli                                  2.0\n",
       "Most špionů aneb má cesta z pekla ke svobodě         2.0\n",
       "Nebuď p*ča aneb jak (ne)pracovat s dětmi             2.0\n",
       "Neviditelné řemeslo: Tajemství redakční práce        2.0\n",
       "Náměsíční vrazi                                      2.0\n",
       "Obsluhoval jsem anglického krále                     2.0\n",
       "Očima kriminalistů                                   2.0\n",
       "Příběh akvamarínu                                    2.0\n",
       "Tam uvnitř něco je                                   2.0\n",
       "Tchyně nemá jazyk                                    2.0\n",
       "Továrna na lži: výroba klimatických dezinformací     2.0\n",
       "Vina a trest                                         2.0\n",
       "Zvonkohra                                            2.0\n",
       "České podsvětí Josefa Klímy                          2.0\n",
       "Říše                                                 2.0\n",
       "Ženy zločinu                                         2.0\n",
       "Amerika ve válce: USA v letech 1961                  1.0\n",
       "Anna Falcká                                          1.0\n",
       "Ano, pane Božský                                     1.0\n",
       "Antropocennosti: Průvodce světem antropocénu         1.0\n",
       "Azhareida                                            1.0\n",
       "Baltazar                                             1.0\n",
       "Bažina v obýváku a jiná dobrodružství                1.0\n",
       "Bestie v uniformě                                    1.0\n",
       "Blues: Blues pro bláznivou holku                     1.0\n",
       "Bůh lovu                                             1.0\n",
       "Cejch                                                1.0\n",
       "Name: DK_Chystám_se_číst, dtype: float64"
      ]
     },
     "execution_count": 67,
     "metadata": {},
     "output_type": "execute_result"
    }
   ],
   "source": [
    "pd.Series(dk.groupby(\"DK_titul\")['DK_Chystám_se_číst'].max() - dk[dk['DK_date'] < week_ago].groupby(\"DK_titul\")['DK_Chystám_se_číst'].max()).nlargest(60)"
   ]
  },
  {
   "cell_type": "code",
   "execution_count": 68,
   "id": "3000a1dd",
   "metadata": {},
   "outputs": [
    {
     "data": {
      "text/plain": [
       "DK_titul\n",
       "Někdo z nás                                 26.0\n",
       "Gazely                                      22.0\n",
       "Chalupa                                     21.0\n",
       "U severní zdi                               13.0\n",
       "Pláňata                                     12.0\n",
       "Sudetenland                                 12.0\n",
       "Severka                                     11.0\n",
       "Klekánice                                   10.0\n",
       "Pán hor I                                   10.0\n",
       "Srpny                                       10.0\n",
       "Těla                                        10.0\n",
       "Vodník                                      10.0\n",
       "Okamžiky štěstí                              9.0\n",
       "Sudetský dům II: Podzim 1947                 9.0\n",
       "Markovič: Lovec přízraků                     8.0\n",
       "Vetřelec                                     8.0\n",
       "Hector                                       7.0\n",
       "Heřmánkové údolí                             7.0\n",
       "Kde jsi, když nejsi                          7.0\n",
       "Na konci vesmíru                             7.0\n",
       "Smrt šumavského poustevníka                  7.0\n",
       "Zvedá se vítr                                7.0\n",
       "Černá smečka                                 7.0\n",
       "Balada pro Emily                             6.0\n",
       "Krutý měsíc                                  6.0\n",
       "Sagittarius                                  6.0\n",
       "Tropické noci                                6.0\n",
       "Hotel Atlantic                               5.0\n",
       "Jiné místo                                   5.0\n",
       "Kde končí nebe                               5.0\n",
       "Letnice                                      5.0\n",
       "Neodpovídej                                  5.0\n",
       "Po stopách zločinů                           5.0\n",
       "Proč všichni odcházejí                       5.0\n",
       "Práh: Mezi půlnocí a ďáblem                  5.0\n",
       "Příběh akvamarínu                            5.0\n",
       "Rozložíš paměť                               5.0\n",
       "Těžké duše                                   5.0\n",
       "Čokoládová krev                              5.0\n",
       "Boží mlýny                                   4.0\n",
       "Budoucnost (ne)práce                         4.0\n",
       "Lucas                                        4.0\n",
       "Láska, smrt a všechno zlý                    4.0\n",
       "Mezi nimi                                    4.0\n",
       "Muž vdaných žen                              4.0\n",
       "Než zjistíš pravdu                           4.0\n",
       "Ricci                                        4.0\n",
       "Srdce z ledu                                 4.0\n",
       "Za pět minut zvoní                           4.0\n",
       "Šílená babička                               4.0\n",
       "Baltazar                                     3.0\n",
       "Bestie v uniformě                            3.0\n",
       "Feťáci                                       3.0\n",
       "Fosilie                                      3.0\n",
       "Hella                                        3.0\n",
       "Katův odkaz                                  3.0\n",
       "Koloušek                                     3.0\n",
       "Nebuď p*ča aneb jak (ne)pracovat s dětmi     3.0\n",
       "Nejasné hranice                              3.0\n",
       "Němé duše                                    3.0\n",
       "Name: DK_ratings_count, dtype: float64"
      ]
     },
     "execution_count": 68,
     "metadata": {},
     "output_type": "execute_result"
    }
   ],
   "source": [
    "pd.Series(dk.groupby(\"DK_titul\")['DK_ratings_count'].max() - dk[dk['DK_date'] < week_ago].groupby(\"DK_titul\")['DK_ratings_count'].max()).nlargest(60)"
   ]
  },
  {
   "cell_type": "code",
   "execution_count": 69,
   "id": "bf0fc4eb",
   "metadata": {},
   "outputs": [
    {
     "data": {
      "text/plain": [
       "DK_titul\n",
       "U severní zdi                       95.0\n",
       "Markovič: Lovec přízraků            93.0\n",
       "Heřmánkové údolí                    92.0\n",
       "Jednooký král Václav I.             92.0\n",
       "Blues: Blues pro bláznivou holku    91.0\n",
       "Na králův příkaz                    91.0\n",
       "Návrat nežádoucí                    91.0\n",
       "Ženy na pranýři                     91.0\n",
       "Cejch                               90.0\n",
       "Pán hor II                          90.0\n",
       "Sudetský dům II: Podzim 1947        90.0\n",
       "Vraní oko                           90.0\n",
       "Husitská epopej. V, 1450            89.0\n",
       "Platnéř                             89.0\n",
       "Oprátka za osm mrtvých              88.0\n",
       "Severka                             88.0\n",
       "Brněnské nevěstky                   87.0\n",
       "Prodavači ostatků                   87.0\n",
       "Lucas                               86.0\n",
       "Na konci vesmíru                    86.0\n",
       "Name: DK_rating, dtype: float64"
      ]
     },
     "execution_count": 69,
     "metadata": {},
     "output_type": "execute_result"
    }
   ],
   "source": [
    "dk[dk['DK_ratings_count'] > 200].groupby(\"DK_titul\")['DK_rating'].max().nlargest(20)"
   ]
  },
  {
   "cell_type": "code",
   "execution_count": 70,
   "id": "716c7ea9",
   "metadata": {},
   "outputs": [
    {
     "data": {
      "text/plain": [
       "DK_titul\n",
       "Neodpovídej                                   63.0\n",
       "Smrková Tišina                                63.0\n",
       "Město v mlze                                  66.0\n",
       "Nejvyšší karta                                66.0\n",
       "Povídky o lásce                               67.0\n",
       "Pražačka na vsi                               68.0\n",
       "Ženy zločinu                                  68.0\n",
       "Spoutej mě                                    69.0\n",
       "Transfer                                      69.0\n",
       "V hrůze a krvi zrozeni                        69.0\n",
       "Němé duše                                     70.0\n",
       "Teorie býka                                   70.0\n",
       "Zapisovatelé otcovský lásky                   70.0\n",
       "Zlatokopka                                    70.0\n",
       "Co tě nezabije                                71.0\n",
       "Jiné místo                                    71.0\n",
       "Těla                                          71.0\n",
       "Zítřek ti nikdo neslíbil                      71.0\n",
       "Kde jsi, když nejsi                           72.0\n",
       "Krvavé léto                                   72.0\n",
       "Veselé Vánoce, Terezko                        72.0\n",
       "Řeka pod hladinou: Vědomím proti času         72.0\n",
       "Doba chemlonová                               73.0\n",
       "Kráva a kretén                                73.0\n",
       "Rozchodové řízení                             73.0\n",
       "Skutečné zločiny po Česku                     73.0\n",
       "Sudetenland                                   73.0\n",
       "Fosilie                                       74.0\n",
       "Převzetí                                      74.0\n",
       "Zvedá se vítr                                 74.0\n",
       "Karneval zvířat                               75.0\n",
       "Hranice zvrhlosti                             76.0\n",
       "Okamžiky štěstí                               76.0\n",
       "Rodiny a rodinky                              76.0\n",
       "Déjà vu                                       77.0\n",
       "Lampář, lodivodka a kluk z továrny na slzy    77.0\n",
       "Vodní hrob                                    77.0\n",
       "Josefíně všichni lžou                         78.0\n",
       "Jsme nevyhnutelní                             78.0\n",
       "Lenochod Jimmy & jeho backup band             78.0\n",
       "Obsluhoval jsem anglického krále              78.0\n",
       "Svatební historky aneb Jak jsem se nevdala    78.0\n",
       "Než zjistíš pravdu                            79.0\n",
       "Prach, popel a dým                            79.0\n",
       "Umění nemoci                                  79.0\n",
       "Černá smečka                                  79.0\n",
       "Gazely                                        80.0\n",
       "Kdo ti píše?                                  80.0\n",
       "Kniha, kterou posypal hvězdný prach           80.0\n",
       "Mami, miluju                                  80.0\n",
       "Name: DK_rating, dtype: float64"
      ]
     },
     "execution_count": 70,
     "metadata": {},
     "output_type": "execute_result"
    }
   ],
   "source": [
    "dk[dk['DK_ratings_count'] > 50].groupby(\"DK_titul\")['DK_rating'].max().nsmallest(50)"
   ]
  },
  {
   "cell_type": "code",
   "execution_count": 71,
   "id": "2b484063",
   "metadata": {},
   "outputs": [
    {
     "name": "stderr",
     "output_type": "stream",
     "text": [
      "C:\\Users\\micha\\AppData\\Local\\Temp\\ipykernel_17204\\3366174841.py:2: SettingWithCopyWarning: \n",
      "A value is trying to be set on a copy of a slice from a DataFrame.\n",
      "Try using .loc[row_indexer,col_indexer] = value instead\n",
      "\n",
      "See the caveats in the documentation: https://pandas.pydata.org/pandas-docs/stable/user_guide/indexing.html#returning-a-view-versus-a-copy\n",
      "  vyvoj2['DK_date'] = pd.to_datetime(vyvoj2['DK_date'])\n"
     ]
    }
   ],
   "source": [
    "vyvoj2 = dk[['DK_date','DK_titul','DK_Chystám_se_číst']]\n",
    "vyvoj2['DK_date'] = pd.to_datetime(vyvoj2['DK_date'])\n",
    "vyvoj2 = vyvoj2.sort_values(by='DK_date')\n",
    "vyvoj2 = vyvoj2.set_index('DK_date')"
   ]
  },
  {
   "cell_type": "code",
   "execution_count": 72,
   "id": "9bc42f06",
   "metadata": {},
   "outputs": [
    {
     "data": {
      "text/plain": [
       "<Axes: xlabel='DK_date'>"
      ]
     },
     "execution_count": 72,
     "metadata": {},
     "output_type": "execute_result"
    },
    {
     "data": {
      "image/png": "[encoded data removed]",
      "text/plain": [
       "<Figure size 640x480 with 1 Axes>"
      ]
     },
     "metadata": {},
     "output_type": "display_data"
    }
   ],
   "source": [
    "vyvoj2[vyvoj2['DK_titul'] == 'Josefíně všichni lžou']['DK_Chystám_se_číst'].plot()"
   ]
  },
  {
   "cell_type": "code",
   "execution_count": 73,
   "id": "3d97880f",
   "metadata": {},
   "outputs": [
    {
     "data": {
      "text/plain": [
       "<Axes: xlabel='DK_date'>"
      ]
     },
     "execution_count": 73,
     "metadata": {},
     "output_type": "execute_result"
    },
    {
     "data": {
      "image/png": "[encoded data removed]",
      "text/plain": [
       "<Figure size 640x480 with 1 Axes>"
      ]
     },
     "metadata": {},
     "output_type": "display_data"
    }
   ],
   "source": [
    "vyvoj2[vyvoj2['DK_titul'] == 'Hella']['DK_Chystám_se_číst'].plot()"
   ]
  },
  {
   "cell_type": "markdown",
   "id": "71b5c8f4",
   "metadata": {},
   "source": [
    "## Syntéza"
   ]
  },
  {
   "cell_type": "code",
   "execution_count": 74,
   "id": "b6702e13",
   "metadata": {},
   "outputs": [],
   "source": [
    "import numpy as np"
   ]
  },
  {
   "cell_type": "code",
   "execution_count": 75,
   "id": "576ee366",
   "metadata": {},
   "outputs": [],
   "source": [
    "df = pd.read_csv(os.path.join(\"data\",\"martinus_vyslo.csv\"))"
   ]
  },
  {
   "cell_type": "code",
   "execution_count": 76,
   "id": "4387f894",
   "metadata": {},
   "outputs": [
    {
     "data": {
      "text/html": [
       "<div>\n",
       "<style scoped>\n",
       "    .dataframe tbody tr th:only-of-type {\n",
       "        vertical-align: middle;\n",
       "    }\n",
       "\n",
       "    .dataframe tbody tr th {\n",
       "        vertical-align: top;\n",
       "    }\n",
       "\n",
       "    .dataframe thead th {\n",
       "        text-align: right;\n",
       "    }\n",
       "</style>\n",
       "<table border=\"1\" class=\"dataframe\">\n",
       "  <thead>\n",
       "    <tr style=\"text-align: right;\">\n",
       "      <th></th>\n",
       "      <th>M_titul</th>\n",
       "      <th>M_autorstvo</th>\n",
       "      <th>M_anotace</th>\n",
       "      <th>M_počet_stran</th>\n",
       "      <th>M_vazba</th>\n",
       "      <th>M_rozměr</th>\n",
       "      <th>M_hmotnost</th>\n",
       "      <th>M_isbn</th>\n",
       "      <th>M_rok_vydání</th>\n",
       "      <th>M_styl</th>\n",
       "      <th>...</th>\n",
       "      <th>M_překlad</th>\n",
       "      <th>M_vydání</th>\n",
       "      <th>M_originální_název</th>\n",
       "      <th>M_účel_knihy</th>\n",
       "      <th>M_ostatní</th>\n",
       "      <th>M_filmové_zpracování</th>\n",
       "      <th>M_příloha</th>\n",
       "      <th>M_jazyková_úroveň</th>\n",
       "      <th>M_předběžné_datum_vydání</th>\n",
       "      <th>M_knižní_předloha</th>\n",
       "    </tr>\n",
       "  </thead>\n",
       "  <tbody>\n",
       "    <tr>\n",
       "      <th>0</th>\n",
       "      <td>Rozhovory s osobnostmi doby covidové</td>\n",
       "      <td>Mikšová</td>\n",
       "      <td>Příchod epidemie SARS-CoV-2 v roce 2020 nikdo ...</td>\n",
       "      <td>224.0</td>\n",
       "      <td>pevná vazba</td>\n",
       "      <td>148×198 mm</td>\n",
       "      <td>254 g</td>\n",
       "      <td>9788090810112</td>\n",
       "      <td>2021.0</td>\n",
       "      <td>psychologický</td>\n",
       "      <td>...</td>\n",
       "      <td>NaN</td>\n",
       "      <td>NaN</td>\n",
       "      <td>NaN</td>\n",
       "      <td>NaN</td>\n",
       "      <td>NaN</td>\n",
       "      <td>NaN</td>\n",
       "      <td>NaN</td>\n",
       "      <td>NaN</td>\n",
       "      <td>NaN</td>\n",
       "      <td>NaN</td>\n",
       "    </tr>\n",
       "    <tr>\n",
       "      <th>1</th>\n",
       "      <td>101 minut</td>\n",
       "      <td>Štěpán Kopřiva</td>\n",
       "      <td>Co se stane, když během výpadku proudu uvíznet...</td>\n",
       "      <td>216.0</td>\n",
       "      <td>pevná vazba</td>\n",
       "      <td>146×206 mm</td>\n",
       "      <td>334 g</td>\n",
       "      <td>9788076791206</td>\n",
       "      <td>2022.0</td>\n",
       "      <td>napínavý</td>\n",
       "      <td>...</td>\n",
       "      <td>NaN</td>\n",
       "      <td>NaN</td>\n",
       "      <td>NaN</td>\n",
       "      <td>NaN</td>\n",
       "      <td>NaN</td>\n",
       "      <td>NaN</td>\n",
       "      <td>NaN</td>\n",
       "      <td>NaN</td>\n",
       "      <td>NaN</td>\n",
       "      <td>NaN</td>\n",
       "    </tr>\n",
       "    <tr>\n",
       "      <th>2</th>\n",
       "      <td>Kořeny</td>\n",
       "      <td>Václav Franc</td>\n",
       "      <td>Kniha Kořeny plus třicet povídek představuje č...</td>\n",
       "      <td>208.0</td>\n",
       "      <td>pevná vazba</td>\n",
       "      <td>NaN</td>\n",
       "      <td>NaN</td>\n",
       "      <td>9788088391043</td>\n",
       "      <td>2022.0</td>\n",
       "      <td>NaN</td>\n",
       "      <td>...</td>\n",
       "      <td>NaN</td>\n",
       "      <td>NaN</td>\n",
       "      <td>NaN</td>\n",
       "      <td>NaN</td>\n",
       "      <td>NaN</td>\n",
       "      <td>NaN</td>\n",
       "      <td>NaN</td>\n",
       "      <td>NaN</td>\n",
       "      <td>NaN</td>\n",
       "      <td>NaN</td>\n",
       "    </tr>\n",
       "    <tr>\n",
       "      <th>3</th>\n",
       "      <td>Moje nervy</td>\n",
       "      <td>Vítězslava Jabůrková</td>\n",
       "      <td>Autobiografický příběh o ženě, jejíž život je ...</td>\n",
       "      <td>272.0</td>\n",
       "      <td>brožovaná vazba</td>\n",
       "      <td>130×200 mm</td>\n",
       "      <td>310 g</td>\n",
       "      <td>9788027097586</td>\n",
       "      <td>2021.0</td>\n",
       "      <td>životopisný</td>\n",
       "      <td>...</td>\n",
       "      <td>NaN</td>\n",
       "      <td>NaN</td>\n",
       "      <td>NaN</td>\n",
       "      <td>NaN</td>\n",
       "      <td>NaN</td>\n",
       "      <td>NaN</td>\n",
       "      <td>NaN</td>\n",
       "      <td>NaN</td>\n",
       "      <td>NaN</td>\n",
       "      <td>NaN</td>\n",
       "    </tr>\n",
       "    <tr>\n",
       "      <th>4</th>\n",
       "      <td>Noc s Holanem</td>\n",
       "      <td>Michael Třeštík</td>\n",
       "      <td>Noc s Holanem je vzrušující noční rozhovor živ...</td>\n",
       "      <td>128.0</td>\n",
       "      <td>pevná vazba</td>\n",
       "      <td>135×185 mm</td>\n",
       "      <td>300 g</td>\n",
       "      <td>9788087545881</td>\n",
       "      <td>2022.0</td>\n",
       "      <td>NaN</td>\n",
       "      <td>...</td>\n",
       "      <td>NaN</td>\n",
       "      <td>NaN</td>\n",
       "      <td>NaN</td>\n",
       "      <td>NaN</td>\n",
       "      <td>NaN</td>\n",
       "      <td>NaN</td>\n",
       "      <td>NaN</td>\n",
       "      <td>NaN</td>\n",
       "      <td>NaN</td>\n",
       "      <td>NaN</td>\n",
       "    </tr>\n",
       "    <tr>\n",
       "      <th>...</th>\n",
       "      <td>...</td>\n",
       "      <td>...</td>\n",
       "      <td>...</td>\n",
       "      <td>...</td>\n",
       "      <td>...</td>\n",
       "      <td>...</td>\n",
       "      <td>...</td>\n",
       "      <td>...</td>\n",
       "      <td>...</td>\n",
       "      <td>...</td>\n",
       "      <td>...</td>\n",
       "      <td>...</td>\n",
       "      <td>...</td>\n",
       "      <td>...</td>\n",
       "      <td>...</td>\n",
       "      <td>...</td>\n",
       "      <td>...</td>\n",
       "      <td>...</td>\n",
       "      <td>...</td>\n",
       "      <td>...</td>\n",
       "      <td>...</td>\n",
       "    </tr>\n",
       "    <tr>\n",
       "      <th>11570</th>\n",
       "      <td>Gregor Johann Mendel a strastiplný příběh genů</td>\n",
       "      <td>Lucie Seifertová</td>\n",
       "      <td>Kniha vypráví příběh geniálního zakladatele ge...</td>\n",
       "      <td>68.0</td>\n",
       "      <td>pevná vazba</td>\n",
       "      <td>217×308 mm</td>\n",
       "      <td>562 g</td>\n",
       "      <td>9788075097972</td>\n",
       "      <td>2021.0</td>\n",
       "      <td>životopisný</td>\n",
       "      <td>...</td>\n",
       "      <td>NaN</td>\n",
       "      <td>NaN</td>\n",
       "      <td>NaN</td>\n",
       "      <td>NaN</td>\n",
       "      <td>NaN</td>\n",
       "      <td>NaN</td>\n",
       "      <td>NaN</td>\n",
       "      <td>NaN</td>\n",
       "      <td>NaN</td>\n",
       "      <td>NaN</td>\n",
       "    </tr>\n",
       "    <tr>\n",
       "      <th>11571</th>\n",
       "      <td>Josefína na zeleném ostrově</td>\n",
       "      <td>Anna Sobotková</td>\n",
       "      <td>Volné pokračování knihy Odvážná holka o školač...</td>\n",
       "      <td>200.0</td>\n",
       "      <td>pevná vazba</td>\n",
       "      <td>145×205 mm</td>\n",
       "      <td>372 g</td>\n",
       "      <td>9788076508378</td>\n",
       "      <td>2022.0</td>\n",
       "      <td>dobrodružný</td>\n",
       "      <td>...</td>\n",
       "      <td>NaN</td>\n",
       "      <td>NaN</td>\n",
       "      <td>NaN</td>\n",
       "      <td>NaN</td>\n",
       "      <td>NaN</td>\n",
       "      <td>NaN</td>\n",
       "      <td>NaN</td>\n",
       "      <td>NaN</td>\n",
       "      <td>NaN</td>\n",
       "      <td>NaN</td>\n",
       "    </tr>\n",
       "    <tr>\n",
       "      <th>11572</th>\n",
       "      <td>Třeťák</td>\n",
       "      <td>Ella Fever</td>\n",
       "      <td>Jaké to je, narodit se do klučičího těla, i kd...</td>\n",
       "      <td>216.0</td>\n",
       "      <td>brožovaná vazba</td>\n",
       "      <td>130×200 mm</td>\n",
       "      <td>251 g</td>\n",
       "      <td>9788076508484</td>\n",
       "      <td>2022.0</td>\n",
       "      <td>NaN</td>\n",
       "      <td>...</td>\n",
       "      <td>NaN</td>\n",
       "      <td>NaN</td>\n",
       "      <td>NaN</td>\n",
       "      <td>NaN</td>\n",
       "      <td>NaN</td>\n",
       "      <td>NaN</td>\n",
       "      <td>NaN</td>\n",
       "      <td>NaN</td>\n",
       "      <td>NaN</td>\n",
       "      <td>NaN</td>\n",
       "    </tr>\n",
       "    <tr>\n",
       "      <th>11573</th>\n",
       "      <td>Huggigovo proroctví: Poslední slza</td>\n",
       "      <td>Jan Chmelář</td>\n",
       "      <td>Fantasy román z jiného světa, do něhož se podi...</td>\n",
       "      <td>184.0</td>\n",
       "      <td>brožovaná vazba</td>\n",
       "      <td>140×200 mm</td>\n",
       "      <td>222 g</td>\n",
       "      <td>9788076507210</td>\n",
       "      <td>2022.0</td>\n",
       "      <td>dobrodružný</td>\n",
       "      <td>...</td>\n",
       "      <td>NaN</td>\n",
       "      <td>NaN</td>\n",
       "      <td>NaN</td>\n",
       "      <td>NaN</td>\n",
       "      <td>NaN</td>\n",
       "      <td>NaN</td>\n",
       "      <td>NaN</td>\n",
       "      <td>NaN</td>\n",
       "      <td>NaN</td>\n",
       "      <td>NaN</td>\n",
       "    </tr>\n",
       "    <tr>\n",
       "      <th>11574</th>\n",
       "      <td>Linda</td>\n",
       "      <td>Zuzana Ryšavá</td>\n",
       "      <td>Jak utéct ze života ve zlaté kleci?Slavná a bo...</td>\n",
       "      <td>272.0</td>\n",
       "      <td>pevná vazba</td>\n",
       "      <td>127×178 mm</td>\n",
       "      <td>354 g</td>\n",
       "      <td>9788025244883</td>\n",
       "      <td>2019.0</td>\n",
       "      <td>romantický</td>\n",
       "      <td>...</td>\n",
       "      <td>Lucie Jiránková</td>\n",
       "      <td>NaN</td>\n",
       "      <td>NaN</td>\n",
       "      <td>NaN</td>\n",
       "      <td>NaN</td>\n",
       "      <td>NaN</td>\n",
       "      <td>NaN</td>\n",
       "      <td>NaN</td>\n",
       "      <td>NaN</td>\n",
       "      <td>NaN</td>\n",
       "    </tr>\n",
       "  </tbody>\n",
       "</table>\n",
       "<p>11575 rows × 35 columns</p>\n",
       "</div>"
      ],
      "text/plain": [
       "                                              M_titul           M_autorstvo  \\\n",
       "0                Rozhovory s osobnostmi doby covidové               Mikšová   \n",
       "1                                           101 minut        Štěpán Kopřiva   \n",
       "2                                              Kořeny          Václav Franc   \n",
       "3                                          Moje nervy  Vítězslava Jabůrková   \n",
       "4                                       Noc s Holanem       Michael Třeštík   \n",
       "...                                               ...                   ...   \n",
       "11570  Gregor Johann Mendel a strastiplný příběh genů      Lucie Seifertová   \n",
       "11571                     Josefína na zeleném ostrově        Anna Sobotková   \n",
       "11572                                          Třeťák            Ella Fever   \n",
       "11573              Huggigovo proroctví: Poslední slza           Jan Chmelář   \n",
       "11574                                           Linda         Zuzana Ryšavá   \n",
       "\n",
       "                                               M_anotace  M_počet_stran  \\\n",
       "0      Příchod epidemie SARS-CoV-2 v roce 2020 nikdo ...          224.0   \n",
       "1      Co se stane, když během výpadku proudu uvíznet...          216.0   \n",
       "2      Kniha Kořeny plus třicet povídek představuje č...          208.0   \n",
       "3      Autobiografický příběh o ženě, jejíž život je ...          272.0   \n",
       "4      Noc s Holanem je vzrušující noční rozhovor živ...          128.0   \n",
       "...                                                  ...            ...   \n",
       "11570  Kniha vypráví příběh geniálního zakladatele ge...           68.0   \n",
       "11571  Volné pokračování knihy Odvážná holka o školač...          200.0   \n",
       "11572  Jaké to je, narodit se do klučičího těla, i kd...          216.0   \n",
       "11573  Fantasy román z jiného světa, do něhož se podi...          184.0   \n",
       "11574  Jak utéct ze života ve zlaté kleci?Slavná a bo...          272.0   \n",
       "\n",
       "               M_vazba    M_rozměr M_hmotnost         M_isbn  M_rok_vydání  \\\n",
       "0          pevná vazba  148×198 mm      254 g  9788090810112        2021.0   \n",
       "1          pevná vazba  146×206 mm      334 g  9788076791206        2022.0   \n",
       "2          pevná vazba         NaN        NaN  9788088391043        2022.0   \n",
       "3      brožovaná vazba  130×200 mm      310 g  9788027097586        2021.0   \n",
       "4          pevná vazba  135×185 mm      300 g  9788087545881        2022.0   \n",
       "...                ...         ...        ...            ...           ...   \n",
       "11570      pevná vazba  217×308 mm      562 g  9788075097972        2021.0   \n",
       "11571      pevná vazba  145×205 mm      372 g  9788076508378        2022.0   \n",
       "11572  brožovaná vazba  130×200 mm      251 g  9788076508484        2022.0   \n",
       "11573  brožovaná vazba  140×200 mm      222 g  9788076507210        2022.0   \n",
       "11574      pevná vazba  127×178 mm      354 g  9788025244883        2019.0   \n",
       "\n",
       "              M_styl  ...        M_překlad M_vydání M_originální_název  \\\n",
       "0      psychologický  ...              NaN      NaN                NaN   \n",
       "1           napínavý  ...              NaN      NaN                NaN   \n",
       "2                NaN  ...              NaN      NaN                NaN   \n",
       "3        životopisný  ...              NaN      NaN                NaN   \n",
       "4                NaN  ...              NaN      NaN                NaN   \n",
       "...              ...  ...              ...      ...                ...   \n",
       "11570    životopisný  ...              NaN      NaN                NaN   \n",
       "11571    dobrodružný  ...              NaN      NaN                NaN   \n",
       "11572            NaN  ...              NaN      NaN                NaN   \n",
       "11573    dobrodružný  ...              NaN      NaN                NaN   \n",
       "11574     romantický  ...  Lucie Jiránková      NaN                NaN   \n",
       "\n",
       "      M_účel_knihy M_ostatní M_filmové_zpracování M_příloha M_jazyková_úroveň  \\\n",
       "0              NaN       NaN                  NaN       NaN               NaN   \n",
       "1              NaN       NaN                  NaN       NaN               NaN   \n",
       "2              NaN       NaN                  NaN       NaN               NaN   \n",
       "3              NaN       NaN                  NaN       NaN               NaN   \n",
       "4              NaN       NaN                  NaN       NaN               NaN   \n",
       "...            ...       ...                  ...       ...               ...   \n",
       "11570          NaN       NaN                  NaN       NaN               NaN   \n",
       "11571          NaN       NaN                  NaN       NaN               NaN   \n",
       "11572          NaN       NaN                  NaN       NaN               NaN   \n",
       "11573          NaN       NaN                  NaN       NaN               NaN   \n",
       "11574          NaN       NaN                  NaN       NaN               NaN   \n",
       "\n",
       "      M_předběžné_datum_vydání  M_knižní_předloha  \n",
       "0                          NaN                NaN  \n",
       "1                          NaN                NaN  \n",
       "2                          NaN                NaN  \n",
       "3                          NaN                NaN  \n",
       "4                          NaN                NaN  \n",
       "...                        ...                ...  \n",
       "11570                      NaN                NaN  \n",
       "11571                      NaN                NaN  \n",
       "11572                      NaN                NaN  \n",
       "11573                      NaN                NaN  \n",
       "11574                      NaN                NaN  \n",
       "\n",
       "[11575 rows x 35 columns]"
      ]
     },
     "execution_count": 76,
     "metadata": {},
     "output_type": "execute_result"
    }
   ],
   "source": [
    "df"
   ]
  },
  {
   "cell_type": "code",
   "execution_count": 77,
   "id": "8ecf73ba",
   "metadata": {},
   "outputs": [],
   "source": [
    "df['isbn'] = df['M_isbn'].astype(str)"
   ]
  },
  {
   "cell_type": "code",
   "execution_count": 78,
   "id": "8e97727e",
   "metadata": {},
   "outputs": [],
   "source": [
    "dk['isbn'] = dk['DK_isbn'].astype(str)"
   ]
  },
  {
   "cell_type": "code",
   "execution_count": 79,
   "id": "e2f109f6",
   "metadata": {},
   "outputs": [],
   "source": [
    "gr['isbn'] = gr['GR_isbn'].apply(lambda x: int(x)).astype(str)"
   ]
  },
  {
   "cell_type": "code",
   "execution_count": 80,
   "id": "562417ed",
   "metadata": {},
   "outputs": [],
   "source": [
    "dkm = dk.merge(df, on=\"isbn\", how=\"inner\")"
   ]
  },
  {
   "cell_type": "code",
   "execution_count": 81,
   "id": "12939555",
   "metadata": {},
   "outputs": [],
   "source": [
    "dkm = dkm.merge(gr, on=\"isbn\", how=\"inner\")"
   ]
  },
  {
   "cell_type": "code",
   "execution_count": 82,
   "id": "7b1f4a6d",
   "metadata": {},
   "outputs": [
    {
     "data": {
      "text/plain": [
       "Index(['DK_isbn', 'DK_date', 'DK_titul', 'DK_tags', 'DK_Chci_si_koupit',\n",
       "       'DK_rating', 'DK_ratings_count', 'DK_Přečtených', 'DK_Chystám_se_číst',\n",
       "       'DK_Právě_čtených', 'DK_Čtenářské_výzvě', 'DK_Knihotéce',\n",
       "       'DK_Doporučených', 'DK_dalších_seznamech', 'isbn', 'M_titul',\n",
       "       'M_autorstvo', 'M_anotace', 'M_počet_stran', 'M_vazba', 'M_rozměr',\n",
       "       'M_hmotnost', 'M_isbn', 'M_rok_vydání', 'M_styl', 'M_jazyk', 'M_původ',\n",
       "       'M_nakladatel', 'M_kategorizace', 'M_cena', 'M_datum', 'Přečtená',\n",
       "       'M_pro_koho', 'M_série', 'M_díl', 'E-kniha', 'M_edice', 'Audiokniha',\n",
       "       'M_věkové_doporučení', 'M_ilustrace', 'M_překlad', 'M_vydání',\n",
       "       'M_originální_název', 'M_účel_knihy', 'M_ostatní',\n",
       "       'M_filmové_zpracování', 'M_příloha', 'M_jazyková_úroveň',\n",
       "       'M_předběžné_datum_vydání', 'M_knižní_předloha', 'GR_isbn', 'GR_date',\n",
       "       'GR_title', 'GR_rating', 'GR_ratings_count', 'GR_reviews',\n",
       "       'GR_published'],\n",
       "      dtype='object')"
      ]
     },
     "execution_count": 82,
     "metadata": {},
     "output_type": "execute_result"
    }
   ],
   "source": [
    "dkm.columns"
   ]
  },
  {
   "cell_type": "code",
   "execution_count": 83,
   "id": "15d634de",
   "metadata": {},
   "outputs": [],
   "source": [
    "import seaborn as sns"
   ]
  },
  {
   "cell_type": "code",
   "execution_count": 84,
   "id": "340b9231",
   "metadata": {},
   "outputs": [],
   "source": [
    "merged = pd.DataFrame(dkm[(dkm['DK_ratings_count'] > 10) & (dkm['GR_ratings_count'] > 5)].groupby(['isbn','M_počet_stran'])[['DK_Chystám_se_číst','DK_rating','DK_ratings_count','DK_Přečtených','GR_rating','GR_ratings_count']].max()).reset_index()"
   ]
  },
  {
   "cell_type": "code",
   "execution_count": 85,
   "id": "3c96f0f1",
   "metadata": {},
   "outputs": [
    {
     "data": {
      "text/html": [
       "<div>\n",
       "<style scoped>\n",
       "    .dataframe tbody tr th:only-of-type {\n",
       "        vertical-align: middle;\n",
       "    }\n",
       "\n",
       "    .dataframe tbody tr th {\n",
       "        vertical-align: top;\n",
       "    }\n",
       "\n",
       "    .dataframe thead th {\n",
       "        text-align: right;\n",
       "    }\n",
       "</style>\n",
       "<table border=\"1\" class=\"dataframe\">\n",
       "  <thead>\n",
       "    <tr style=\"text-align: right;\">\n",
       "      <th></th>\n",
       "      <th>isbn</th>\n",
       "      <th>M_počet_stran</th>\n",
       "      <th>DK_Chystám_se_číst</th>\n",
       "      <th>DK_rating</th>\n",
       "      <th>DK_ratings_count</th>\n",
       "      <th>DK_Přečtených</th>\n",
       "      <th>GR_rating</th>\n",
       "      <th>GR_ratings_count</th>\n",
       "    </tr>\n",
       "  </thead>\n",
       "  <tbody>\n",
       "    <tr>\n",
       "      <th>0</th>\n",
       "      <td>9788011033620</td>\n",
       "      <td>352.0</td>\n",
       "      <td>11.0</td>\n",
       "      <td>100.0</td>\n",
       "      <td>12.0</td>\n",
       "      <td>15.0</td>\n",
       "      <td>4.13</td>\n",
       "      <td>8.0</td>\n",
       "    </tr>\n",
       "    <tr>\n",
       "      <th>1</th>\n",
       "      <td>9788011034887</td>\n",
       "      <td>400.0</td>\n",
       "      <td>89.0</td>\n",
       "      <td>87.0</td>\n",
       "      <td>153.0</td>\n",
       "      <td>171.0</td>\n",
       "      <td>4.19</td>\n",
       "      <td>79.0</td>\n",
       "    </tr>\n",
       "    <tr>\n",
       "      <th>2</th>\n",
       "      <td>9788011035594</td>\n",
       "      <td>248.0</td>\n",
       "      <td>117.0</td>\n",
       "      <td>88.0</td>\n",
       "      <td>81.0</td>\n",
       "      <td>122.0</td>\n",
       "      <td>4.19</td>\n",
       "      <td>145.0</td>\n",
       "    </tr>\n",
       "    <tr>\n",
       "      <th>3</th>\n",
       "      <td>9788011037154</td>\n",
       "      <td>240.0</td>\n",
       "      <td>46.0</td>\n",
       "      <td>80.0</td>\n",
       "      <td>16.0</td>\n",
       "      <td>23.0</td>\n",
       "      <td>4.69</td>\n",
       "      <td>59.0</td>\n",
       "    </tr>\n",
       "    <tr>\n",
       "      <th>4</th>\n",
       "      <td>9788020034366</td>\n",
       "      <td>192.0</td>\n",
       "      <td>24.0</td>\n",
       "      <td>90.0</td>\n",
       "      <td>14.0</td>\n",
       "      <td>17.0</td>\n",
       "      <td>4.25</td>\n",
       "      <td>14.0</td>\n",
       "    </tr>\n",
       "    <tr>\n",
       "      <th>...</th>\n",
       "      <td>...</td>\n",
       "      <td>...</td>\n",
       "      <td>...</td>\n",
       "      <td>...</td>\n",
       "      <td>...</td>\n",
       "      <td>...</td>\n",
       "      <td>...</td>\n",
       "      <td>...</td>\n",
       "    </tr>\n",
       "    <tr>\n",
       "      <th>205</th>\n",
       "      <td>9788090828995</td>\n",
       "      <td>240.0</td>\n",
       "      <td>80.0</td>\n",
       "      <td>84.0</td>\n",
       "      <td>125.0</td>\n",
       "      <td>161.0</td>\n",
       "      <td>4.00</td>\n",
       "      <td>34.0</td>\n",
       "    </tr>\n",
       "    <tr>\n",
       "      <th>206</th>\n",
       "      <td>9788090837690</td>\n",
       "      <td>256.0</td>\n",
       "      <td>44.0</td>\n",
       "      <td>80.0</td>\n",
       "      <td>90.0</td>\n",
       "      <td>96.0</td>\n",
       "      <td>3.86</td>\n",
       "      <td>146.0</td>\n",
       "    </tr>\n",
       "    <tr>\n",
       "      <th>207</th>\n",
       "      <td>9788090871250</td>\n",
       "      <td>219.0</td>\n",
       "      <td>27.0</td>\n",
       "      <td>92.0</td>\n",
       "      <td>22.0</td>\n",
       "      <td>26.0</td>\n",
       "      <td>4.35</td>\n",
       "      <td>62.0</td>\n",
       "    </tr>\n",
       "    <tr>\n",
       "      <th>208</th>\n",
       "      <td>9788090875968</td>\n",
       "      <td>411.0</td>\n",
       "      <td>29.0</td>\n",
       "      <td>82.0</td>\n",
       "      <td>74.0</td>\n",
       "      <td>110.0</td>\n",
       "      <td>4.06</td>\n",
       "      <td>18.0</td>\n",
       "    </tr>\n",
       "    <tr>\n",
       "      <th>209</th>\n",
       "      <td>9788090907706</td>\n",
       "      <td>336.0</td>\n",
       "      <td>107.0</td>\n",
       "      <td>88.0</td>\n",
       "      <td>21.0</td>\n",
       "      <td>27.0</td>\n",
       "      <td>4.18</td>\n",
       "      <td>23.0</td>\n",
       "    </tr>\n",
       "  </tbody>\n",
       "</table>\n",
       "<p>210 rows × 8 columns</p>\n",
       "</div>"
      ],
      "text/plain": [
       "              isbn  M_počet_stran  DK_Chystám_se_číst  DK_rating  \\\n",
       "0    9788011033620          352.0                11.0      100.0   \n",
       "1    9788011034887          400.0                89.0       87.0   \n",
       "2    9788011035594          248.0               117.0       88.0   \n",
       "3    9788011037154          240.0                46.0       80.0   \n",
       "4    9788020034366          192.0                24.0       90.0   \n",
       "..             ...            ...                 ...        ...   \n",
       "205  9788090828995          240.0                80.0       84.0   \n",
       "206  9788090837690          256.0                44.0       80.0   \n",
       "207  9788090871250          219.0                27.0       92.0   \n",
       "208  9788090875968          411.0                29.0       82.0   \n",
       "209  9788090907706          336.0               107.0       88.0   \n",
       "\n",
       "     DK_ratings_count  DK_Přečtených  GR_rating  GR_ratings_count  \n",
       "0                12.0           15.0       4.13               8.0  \n",
       "1               153.0          171.0       4.19              79.0  \n",
       "2                81.0          122.0       4.19             145.0  \n",
       "3                16.0           23.0       4.69              59.0  \n",
       "4                14.0           17.0       4.25              14.0  \n",
       "..                ...            ...        ...               ...  \n",
       "205             125.0          161.0       4.00              34.0  \n",
       "206              90.0           96.0       3.86             146.0  \n",
       "207              22.0           26.0       4.35              62.0  \n",
       "208              74.0          110.0       4.06              18.0  \n",
       "209              21.0           27.0       4.18              23.0  \n",
       "\n",
       "[210 rows x 8 columns]"
      ]
     },
     "execution_count": 85,
     "metadata": {},
     "output_type": "execute_result"
    }
   ],
   "source": [
    "merged"
   ]
  },
  {
   "cell_type": "code",
   "execution_count": 86,
   "id": "a097f3a1",
   "metadata": {},
   "outputs": [
    {
     "data": {
      "text/plain": [
       "<Axes: ylabel='Density'>"
      ]
     },
     "execution_count": 86,
     "metadata": {},
     "output_type": "execute_result"
    },
    {
     "data": {
      "image/png": "[encoded data removed]",
      "text/plain": [
       "<Figure size 640x480 with 1 Axes>"
      ]
     },
     "metadata": {},
     "output_type": "display_data"
    }
   ],
   "source": [
    "pd.Series(merged.groupby('isbn')['DK_ratings_count'].max() / merged.groupby('isbn')['GR_ratings_count'].max()).plot.density()"
   ]
  },
  {
   "cell_type": "code",
   "execution_count": 87,
   "id": "449b0d33",
   "metadata": {},
   "outputs": [
    {
     "data": {
      "text/plain": [
       "isbn\n",
       "9788072444892    20.666667\n",
       "9788027910182    19.857143\n",
       "9788024949949    19.727273\n",
       "9788027715008    18.000000\n",
       "9788027908172    13.888889\n",
       "dtype: float64"
      ]
     },
     "execution_count": 87,
     "metadata": {},
     "output_type": "execute_result"
    }
   ],
   "source": [
    "pd.Series(merged.groupby('isbn')['DK_ratings_count'].max() / merged.groupby('isbn')['GR_ratings_count'].max()).nlargest()"
   ]
  },
  {
   "cell_type": "code",
   "execution_count": 88,
   "id": "e26085e7",
   "metadata": {},
   "outputs": [
    {
     "data": {
      "text/plain": [
       "isbn\n",
       "9788088433262    0.113821\n",
       "9788011037154    0.271186\n",
       "9788027720613    0.324675\n",
       "9788088494065    0.333333\n",
       "9788090819269    0.340000\n",
       "dtype: float64"
      ]
     },
     "execution_count": 88,
     "metadata": {},
     "output_type": "execute_result"
    }
   ],
   "source": [
    "pd.Series(merged.groupby('isbn')['DK_ratings_count'].max() / merged.groupby('isbn')['GR_ratings_count'].max()).nsmallest()"
   ]
  },
  {
   "cell_type": "code",
   "execution_count": 89,
   "id": "353e36db",
   "metadata": {},
   "outputs": [
    {
     "name": "stderr",
     "output_type": "stream",
     "text": [
      "C:\\tools\\anaconda3\\Lib\\site-packages\\seaborn\\axisgrid.py:118: UserWarning: The figure layout has changed to tight\n",
      "  self._figure.tight_layout(*args, **kwargs)\n"
     ]
    },
    {
     "data": {
      "text/plain": [
       "<seaborn.axisgrid.FacetGrid at 0x190ccdd2510>"
      ]
     },
     "execution_count": 89,
     "metadata": {},
     "output_type": "execute_result"
    },
    {
     "data": {
      "image/png": "[encoded data removed]",
      "text/plain": [
       "<Figure size 500x500 with 1 Axes>"
      ]
     },
     "metadata": {},
     "output_type": "display_data"
    }
   ],
   "source": [
    "sns.lmplot(x='DK_ratings_count', y='GR_ratings_count', data=merged)"
   ]
  },
  {
   "cell_type": "code",
   "execution_count": 90,
   "id": "6352a734",
   "metadata": {},
   "outputs": [
    {
     "name": "stderr",
     "output_type": "stream",
     "text": [
      "C:\\tools\\anaconda3\\Lib\\site-packages\\seaborn\\axisgrid.py:118: UserWarning: The figure layout has changed to tight\n",
      "  self._figure.tight_layout(*args, **kwargs)\n"
     ]
    },
    {
     "data": {
      "text/plain": [
       "<seaborn.axisgrid.FacetGrid at 0x190ccdd6e50>"
      ]
     },
     "execution_count": 90,
     "metadata": {},
     "output_type": "execute_result"
    },
    {
     "data": {
      "image/png": "[encoded data removed]",
      "text/plain": [
       "<Figure size 500x500 with 1 Axes>"
      ]
     },
     "metadata": {},
     "output_type": "display_data"
    }
   ],
   "source": [
    "sns.lmplot(x='M_počet_stran', y='DK_Přečtených', data=merged)"
   ]
  },
  {
   "cell_type": "code",
   "execution_count": 91,
   "id": "4f23a3ee",
   "metadata": {},
   "outputs": [
    {
     "name": "stderr",
     "output_type": "stream",
     "text": [
      "C:\\tools\\anaconda3\\Lib\\site-packages\\seaborn\\axisgrid.py:118: UserWarning: The figure layout has changed to tight\n",
      "  self._figure.tight_layout(*args, **kwargs)\n"
     ]
    },
    {
     "data": {
      "text/plain": [
       "<seaborn.axisgrid.FacetGrid at 0x190d79085d0>"
      ]
     },
     "execution_count": 91,
     "metadata": {},
     "output_type": "execute_result"
    },
    {
     "data": {
      "image/png": "[encoded data removed]",
      "text/plain": [
       "<Figure size 500x500 with 1 Axes>"
      ]
     },
     "metadata": {},
     "output_type": "display_data"
    }
   ],
   "source": [
    "sns.lmplot(x='M_počet_stran', y='DK_ratings_count', data=merged)"
   ]
  },
  {
   "cell_type": "code",
   "execution_count": 92,
   "id": "307c681a",
   "metadata": {},
   "outputs": [
    {
     "name": "stderr",
     "output_type": "stream",
     "text": [
      "C:\\tools\\anaconda3\\Lib\\site-packages\\seaborn\\axisgrid.py:118: UserWarning: The figure layout has changed to tight\n",
      "  self._figure.tight_layout(*args, **kwargs)\n"
     ]
    },
    {
     "data": {
      "text/plain": [
       "<seaborn.axisgrid.FacetGrid at 0x190ceed3e10>"
      ]
     },
     "execution_count": 92,
     "metadata": {},
     "output_type": "execute_result"
    },
    {
     "data": {
      "image/png": "[encoded data removed]",
      "text/plain": [
       "<Figure size 500x500 with 1 Axes>"
      ]
     },
     "metadata": {},
     "output_type": "display_data"
    }
   ],
   "source": [
    "sns.lmplot(x='M_počet_stran', y='DK_rating', data=merged)"
   ]
  },
  {
   "cell_type": "code",
   "execution_count": 93,
   "id": "fb10b826",
   "metadata": {},
   "outputs": [
    {
     "name": "stderr",
     "output_type": "stream",
     "text": [
      "C:\\tools\\anaconda3\\Lib\\site-packages\\seaborn\\axisgrid.py:118: UserWarning: The figure layout has changed to tight\n",
      "  self._figure.tight_layout(*args, **kwargs)\n"
     ]
    },
    {
     "data": {
      "text/plain": [
       "<seaborn.axisgrid.FacetGrid at 0x190ccd40310>"
      ]
     },
     "execution_count": 93,
     "metadata": {},
     "output_type": "execute_result"
    },
    {
     "data": {
      "image/png": "[encoded data removed]",
      "text/plain": [
       "<Figure size 500x500 with 1 Axes>"
      ]
     },
     "metadata": {},
     "output_type": "display_data"
    }
   ],
   "source": [
    "sns.lmplot(x='M_počet_stran', y='DK_Chystám_se_číst', data=merged)"
   ]
  }
 ],
 "metadata": {
  "kernelspec": {
   "display_name": "Python 3 (ipykernel)",
   "language": "python",
   "name": "python3"
  },
  "language_info": {
   "codemirror_mode": {
    "name": "ipython",
    "version": 3
   },
   "file_extension": ".py",
   "mimetype": "text/x-python",
   "name": "python",
   "nbconvert_exporter": "python",
   "pygments_lexer": "ipython3",
   "version": "3.11.5"
  }
 },
 "nbformat": 4,
 "nbformat_minor": 5
}
