{
 "cells": [
  {
   "cell_type": "code",
   "execution_count": 1,
   "id": "6c61b793",
   "metadata": {},
   "outputs": [],
   "source": [
    "import os\n",
    "import json\n",
    "import pandas as pd"
   ]
  },
  {
   "cell_type": "code",
   "execution_count": 2,
   "id": "46720b9e",
   "metadata": {},
   "outputs": [],
   "source": [
    "df = pd.read_json(os.path.join(\"data\",\"martinus_vyslo.json\"))"
   ]
  },
  {
   "cell_type": "code",
   "execution_count": 3,
   "id": "aed153e8",
   "metadata": {},
   "outputs": [],
   "source": [
    "with open(os.path.join(\"data\",\"nesledovat.json\")) as nesledovat:\n",
    "    nesledovat = json.load(nesledovat)"
   ]
  },
  {
   "cell_type": "code",
   "execution_count": 4,
   "id": "5847f93b",
   "metadata": {},
   "outputs": [],
   "source": [
    "gr = pd.read_json(os.path.join(\"data\",\"goodreads-hodnoceni.json\"))\n",
    "gr = gr[~gr['ISBN'].isin(nesledovat)]"
   ]
  },
  {
   "cell_type": "code",
   "execution_count": 5,
   "id": "4c8725e0",
   "metadata": {},
   "outputs": [
    {
     "data": {
      "text/plain": [
       "Index(['ISBN', 'GR_date', 'GR_title', 'GR_rating', 'GR_ratings_count',\n",
       "       'GR_reviews', 'GR_published'],\n",
       "      dtype='object')"
      ]
     },
     "execution_count": 5,
     "metadata": {},
     "output_type": "execute_result"
    }
   ],
   "source": [
    "gr.columns"
   ]
  },
  {
   "cell_type": "code",
   "execution_count": 6,
   "id": "6a948f46",
   "metadata": {},
   "outputs": [
    {
     "data": {
      "text/html": [
       "<div>\n",
       "<style scoped>\n",
       "    .dataframe tbody tr th:only-of-type {\n",
       "        vertical-align: middle;\n",
       "    }\n",
       "\n",
       "    .dataframe tbody tr th {\n",
       "        vertical-align: top;\n",
       "    }\n",
       "\n",
       "    .dataframe thead th {\n",
       "        text-align: right;\n",
       "    }\n",
       "</style>\n",
       "<table border=\"1\" class=\"dataframe\">\n",
       "  <thead>\n",
       "    <tr style=\"text-align: right;\">\n",
       "      <th></th>\n",
       "      <th>ISBN</th>\n",
       "      <th>GR_date</th>\n",
       "      <th>GR_title</th>\n",
       "      <th>GR_rating</th>\n",
       "      <th>GR_ratings_count</th>\n",
       "      <th>GR_reviews</th>\n",
       "      <th>GR_published</th>\n",
       "    </tr>\n",
       "  </thead>\n",
       "  <tbody>\n",
       "  </tbody>\n",
       "</table>\n",
       "</div>"
      ],
      "text/plain": [
       "Empty DataFrame\n",
       "Columns: [ISBN, GR_date, GR_title, GR_rating, GR_ratings_count, GR_reviews, GR_published]\n",
       "Index: []"
      ]
     },
     "execution_count": 6,
     "metadata": {},
     "output_type": "execute_result"
    }
   ],
   "source": [
    "gr[gr['GR_title'].str.contains('Kidnapped West',na=False)]"
   ]
  },
  {
   "cell_type": "code",
   "execution_count": 7,
   "id": "0a5efeb6",
   "metadata": {},
   "outputs": [
    {
     "data": {
      "text/plain": [
       "GR_title\n",
       "U severní zdi by Petra Klabouchová                                                          4.710\n",
       "Budoucnost nepráce by Filip Dřímalka                                                        4.690\n",
       "V pasti pohlaví by Silvie Lauder                                                            4.590\n",
       "Severka by Nina Špitálníková                                                                4.520\n",
       "Rozložíš paměť by Marek Torčík                                                              4.430\n",
       "Zvonkohra by Eliška Václavíková                                                             4.400\n",
       "Feministkou snadno a rychle by Lucie Jarkovská                                              4.330\n",
       "Srpny by Jakub Stanjura                                                                     4.330\n",
       "Hrdinové kapitalistické práce v Evropě by Saša Uhlová                                       4.320\n",
       "Černobyl: Pád Atomgradu by Matyáš Namai                                                     4.255\n",
       "Nebuď p*ča aneb jak (ne)pracovat s dětmi by Tomáš Morávek                                   4.240\n",
       "Vraní oko by Michaela Klevisová                                                             4.240\n",
       "Sudetský dům II by Štěpán Javůrek                                                           4.190\n",
       "Ztracenné by Michelle Losekoot                                                              4.185\n",
       "Formulista by Michaela Schmiedlová                                                          4.180\n",
       "Kateřina v říši kimči by Kateřina Kang                                                      4.180\n",
       "Lenochod Jimmy & jeho backup band by Pavel Bareš                                            4.180\n",
       "Jazyk a ticho by George Steiner                                                             4.170\n",
       "Tanec za odpuštění (Hřiště lásky, #2) by M.K.  Hardy                                        4.145\n",
       "Fosilie by Michal Kašpárek                                                                  4.140\n",
       "Vetřelec by Kristýna Trpková                                                                4.110\n",
       "Letní bouřky by Klára Pospíšilová                                                           4.090\n",
       "Černá smečka by František Kotleta                                                           4.090\n",
       "Pořádek v hlavě by Martin Poliačik                                                          4.080\n",
       "Vyjasňování: Pět rozhovorů s Brunem Latourem by Michel Serres                               4.080\n",
       "Jsme nevyhnutelní (Navždycky #4) by Nofreeusernames                                         4.030\n",
       "Vodník by Tereza Bartošová                                                                  4.020\n",
       "Těla by Klára Vlasáková                                                                     3.980\n",
       "Josefíně všichni lžou by Kateřina Pantovič                                                  3.900\n",
       "Z pera knihomolů: 11 povídek od českých a slovenských knižních blogerů by Eliška Hronová    3.855\n",
       "Name: GR_rating, dtype: float64"
      ]
     },
     "execution_count": 7,
     "metadata": {},
     "output_type": "execute_result"
    }
   ],
   "source": [
    "gr[gr['GR_ratings_count'] >= 50].groupby('GR_title')['GR_rating'].median().nlargest(30)"
   ]
  },
  {
   "cell_type": "code",
   "execution_count": 8,
   "id": "dad1ced0",
   "metadata": {},
   "outputs": [
    {
     "data": {
      "text/plain": [
       "GR_title\n",
       "Srpny by Jakub Stanjura                                                                     938\n",
       "Těla by Klára Vlasáková                                                                     725\n",
       "Severka by Nina Špitálníková                                                                615\n",
       "Kde jsi, když nejsi by Radka Třeštíková                                                     533\n",
       "Jsme nevyhnutelní (Navždycky #4) by Nofreeusernames                                         508\n",
       "Gazely by Patrik Hartl                                                                      338\n",
       "Fosilie by Michal Kašpárek                                                                  319\n",
       "U severní zdi by Petra Klabouchová                                                          313\n",
       "Rozložíš paměť by Marek Torčík                                                              301\n",
       "Jazyk a ticho by George Steiner                                                             264\n",
       "Zvonkohra by Eliška Václavíková                                                             254\n",
       "Sudetenland by Leoš Kyša                                                                    252\n",
       "Josefíně všichni lžou by Kateřina Pantovič                                                  243\n",
       "Písně kosmické by Jan Neruda                                                                239\n",
       "Pláňata by Petra Dvořáková                                                                  238\n",
       "V pasti pohlaví by Silvie Lauder                                                            227\n",
       "Vraní oko by Michaela Klevisová                                                             218\n",
       "Feministkou snadno a rychle by Lucie Jarkovská                                              159\n",
       "Neodpovídej... by Lucie Bechynková                                                          151\n",
       "Zlatokopka (Zlatokopka, #1) by Lucia Sasková                                                151\n",
       "Z pera knihomolů: 11 povídek od českých a slovenských knižních blogerů by Eliška Hronová    141\n",
       "Ztracenné by Michelle Losekoot                                                              138\n",
       "Letní bouřky by Klára Pospíšilová                                                           134\n",
       "Vyjasňování: Pět rozhovorů s Brunem Latourem by Michel Serres                               132\n",
       "Pořádek v hlavě by Martin Poliačik                                                          121\n",
       "Jiné místo by Kateřina Karolová                                                             112\n",
       "Nejvyšší karta by Petra Hůlová                                                              111\n",
       "Lenochod Jimmy & jeho backup band by Pavel Bareš                                            109\n",
       "Vetřelec by Kristýna Trpková                                                                100\n",
       "Nebuď p*ča aneb jak (ne)pracovat s dětmi by Tomáš Morávek                                    96\n",
       "Name: GR_ratings_count, dtype: int64"
      ]
     },
     "execution_count": 8,
     "metadata": {},
     "output_type": "execute_result"
    }
   ],
   "source": [
    "gr.groupby(\"GR_title\")['GR_ratings_count'].max().nlargest(30)"
   ]
  },
  {
   "cell_type": "code",
   "execution_count": 9,
   "id": "7160775e",
   "metadata": {},
   "outputs": [
    {
     "data": {
      "text/plain": [
       "GR_title\n",
       "Formulista by Michaela Schmiedlová                      2\n",
       "Geostorky by Petr Brož                                  2\n",
       "Hodina dějepichu by Jan Studnička                       2\n",
       "Srpny by Jakub Stanjura                                 2\n",
       "V pasti pohlaví by Silvie Lauder                        2\n",
       "Vyhoření by Petr Šesták                                 2\n",
       "Černobyl: Pád Atomgradu by Matyáš Namai                 2\n",
       "1492: Dobytí Granady by Lukáš Zárybnický                1\n",
       "Dokud dýchám by Aleš Novotný                            1\n",
       "Fosilie by Michal Kašpárek                              1\n",
       "Josefíně všichni lžou by Kateřina Pantovič              1\n",
       "Jsme nevyhnutelní (Navždycky #4) by Nofreeusernames     1\n",
       "Kde jsi, když nejsi by Radka Třeštíková                 1\n",
       "Láska, smrt a všechno zlý by Martin Paytok              1\n",
       "Neodpovídej... by Lucie Bechynková                      1\n",
       "Neonová cizinka by Filip Klouda                         1\n",
       "Prázdniny by Tomáš  Staněk                              1\n",
       "Pád temnoty (Arila, #4) by Radek Starý                  1\n",
       "Smrková Tišina by Kristýna Sládečková                   1\n",
       "Sudetenland by Leoš Kyša                                1\n",
       "Tanec za odpuštění (Hřiště lásky, #2) by M.K.  Hardy    1\n",
       "Transfer by Bianca Bellová                              1\n",
       "Trnitá kletba by Anežka Kočová                          1\n",
       "Těla by Klára Vlasáková                                 1\n",
       "Těžké duše by Iva Hadj Moussa                           1\n",
       "Name: GR_ratings_count, dtype: int64"
      ]
     },
     "execution_count": 9,
     "metadata": {},
     "output_type": "execute_result"
    }
   ],
   "source": [
    "pd.Series(gr.groupby(\"GR_title\")['GR_ratings_count'].max() - gr.groupby(\"GR_title\")['GR_ratings_count'].min()).nlargest(25)"
   ]
  },
  {
   "cell_type": "code",
   "execution_count": 10,
   "id": "d189895d",
   "metadata": {},
   "outputs": [],
   "source": [
    "dk = pd.read_json(os.path.join(\"data\",\"databazeknih-hodnoceni.json\"))\n",
    "dk = dk[~dk['ISBN'].isin(nesledovat)]"
   ]
  },
  {
   "cell_type": "code",
   "execution_count": 11,
   "id": "89c98469",
   "metadata": {},
   "outputs": [
    {
     "data": {
      "text/plain": [
       "Index(['ISBN', 'DK_date', 'DK_titul', 'DK_rating', 'DK_ratings_count',\n",
       "       'DK_tags', 'DK_Přečtených', 'DK_Knihotéce', 'DK_Chystám_se_číst',\n",
       "       'DK_Chci_si_koupit', 'DK_Právě_čtených', 'DK_Čtenářské_výzvě',\n",
       "       'DK_Doporučených', 'DK_dalších_seznamech'],\n",
       "      dtype='object')"
      ]
     },
     "execution_count": 11,
     "metadata": {},
     "output_type": "execute_result"
    }
   ],
   "source": [
    "dk.columns"
   ]
  },
  {
   "cell_type": "code",
   "execution_count": 12,
   "id": "206e6667",
   "metadata": {},
   "outputs": [
    {
     "data": {
      "text/plain": [
       "DK_titul\n",
       "Chalupa                                                                    16\n",
       "Gazely                                                                     12\n",
       "Někdo z nás                                                                11\n",
       "Sudetský dům II: Podzim 1947                                                7\n",
       "V pasti pohlaví: O politice, péči, sexu, násilí a postavení žen v Česku     7\n",
       "Balada pro Emily                                                            6\n",
       "Vraní oko                                                                   6\n",
       "Pláňata                                                                     5\n",
       "Severka                                                                     5\n",
       "Markovič: Lovec přízraků                                                    4\n",
       "Srpny                                                                       4\n",
       "Vetřelec                                                                    4\n",
       "13!                                                                         3\n",
       "Kde jsi, když nejsi                                                         3\n",
       "Láska, smrt a všechno zlý                                                   3\n",
       "Program Nosferatu                                                           3\n",
       "Sudetenland                                                                 3\n",
       "Tichá pošta                                                                 3\n",
       "V jámě lvové                                                                3\n",
       "Černá smečka                                                                3\n",
       "Name: DK_ratings_count, dtype: int64"
      ]
     },
     "execution_count": 12,
     "metadata": {},
     "output_type": "execute_result"
    }
   ],
   "source": [
    "pd.Series(dk.groupby(\"DK_titul\")['DK_ratings_count'].max() - dk.groupby(\"DK_titul\")['DK_ratings_count'].min()).nlargest(20)"
   ]
  },
  {
   "cell_type": "code",
   "execution_count": 13,
   "id": "65d97e64",
   "metadata": {},
   "outputs": [
    {
     "data": {
      "text/plain": [
       "DK_titul\n",
       "Feťáci                                                                                 97\n",
       "Skutečné zločiny na Plzeňsku                                                           97\n",
       "Kralevic Karel (1334                                                                   95\n",
       "U severní zdi                                                                          95\n",
       "Markovič: Lovec přízraků                                                               93\n",
       "Titanic: Nikdo nechtěl uvěřit                                                          93\n",
       "Deník Věrky Kohnové: Jak ráda bych tak zůstala                                         92\n",
       "Geostorky                                                                              92\n",
       "Heřmánkové údolí                                                                       92\n",
       "Jednooký král Václav I.                                                                92\n",
       "Kde končí nebe                                                                         92\n",
       "Sagittarius                                                                            92\n",
       "Tanec papírových draků 2: Hon                                                          92\n",
       "V pasti pohlaví: O politice, péči, sexu, násilí a postavení žen v Česku                92\n",
       "Velice dlouhé schody                                                                   92\n",
       "Vřeteno osudu: Mezi kolébkou a hrobem: Román o životě a smrti Karla Jaromíra Erbena    92\n",
       "Blues: Blues pro bláznivou holku                                                       91\n",
       "Jak jsem rodila indiánského syna z kmene Čerokí                                        91\n",
       "Na králův příkaz                                                                       91\n",
       "Návrat nežádoucí                                                                       91\n",
       "Name: DK_rating, dtype: int64"
      ]
     },
     "execution_count": 13,
     "metadata": {},
     "output_type": "execute_result"
    }
   ],
   "source": [
    "dk[dk['DK_ratings_count'] > 50].groupby(\"DK_titul\")['DK_rating'].max().nlargest(20)"
   ]
  },
  {
   "cell_type": "code",
   "execution_count": 14,
   "id": "169c5630",
   "metadata": {},
   "outputs": [
    {
     "data": {
      "text/plain": [
       "DK_titul\n",
       "Neodpovídej                                                               63\n",
       "Smrková Tišina                                                            63\n",
       "Město v mlze                                                              66\n",
       "Nejvyšší karta                                                            66\n",
       "Povídky o lásce                                                           67\n",
       "Pražačka na vsi                                                           68\n",
       "Spoutej mě                                                                68\n",
       "Transfer                                                                  68\n",
       "Ženy zločinu                                                              68\n",
       "Němé duše                                                                 70\n",
       "Teorie býka                                                               70\n",
       "Zapisovatelé otcovský lásky                                               70\n",
       "Zlatokopka                                                                70\n",
       "Co tě nezabije                                                            71\n",
       "Jiné místo                                                                71\n",
       "Těla                                                                      71\n",
       "Zítřek ti nikdo neslíbil                                                  71\n",
       "Kde jsi, když nejsi                                                       72\n",
       "Krvavé léto                                                               72\n",
       "Řeka pod hladinou: Vědomím proti času                                     72\n",
       "Doba chemlonová                                                           73\n",
       "Kráva a kretén                                                            73\n",
       "Rozchodové řízení                                                         73\n",
       "Skutečné zločiny po Česku                                                 73\n",
       "Sudetenland                                                               73\n",
       "Fosilie                                                                   74\n",
       "Převzetí                                                                  74\n",
       "Zvedá se vítr                                                             74\n",
       "Karneval zvířat                                                           75\n",
       "Hranice zvrhlosti                                                         76\n",
       "Okamžiky štěstí                                                           76\n",
       "Rodiny a rodinky                                                          76\n",
       "Déjà vu                                                                   77\n",
       "Vodní hrob                                                                77\n",
       "Josefíně všichni lžou                                                     78\n",
       "Jsme nevyhnutelní                                                         78\n",
       "Lenochod Jimmy & jeho backup band                                         78\n",
       "Obsluhoval jsem anglického krále                                          78\n",
       "Svatební historky aneb Jak jsem se nevdala                                78\n",
       "Než zjistíš pravdu                                                        79\n",
       "Umění nemoci                                                              79\n",
       "Černá smečka                                                              79\n",
       "Gazely                                                                    80\n",
       "Kdo ti píše?                                                              80\n",
       "Kniha, kterou posypal hvězdný prach                                       80\n",
       "Mami, miluju                                                              80\n",
       "Můj sexy šéf                                                              80\n",
       "Prázdnota                                                                 80\n",
       "Válkotvůrci                                                               80\n",
       "Z pera knihomolů: 11 povídek od českých a slovenských knižních blogerů    80\n",
       "Name: DK_rating, dtype: int64"
      ]
     },
     "execution_count": 14,
     "metadata": {},
     "output_type": "execute_result"
    }
   ],
   "source": [
    "dk[dk['DK_ratings_count'] > 50].groupby(\"DK_titul\")['DK_rating'].max().nsmallest(50)"
   ]
  },
  {
   "cell_type": "code",
   "execution_count": 15,
   "id": "b1768555",
   "metadata": {},
   "outputs": [
    {
     "data": {
      "text/plain": [
       "0       9788027904853\n",
       "2       9788020615770\n",
       "5       9788072444748\n",
       "8       9788076374591\n",
       "9       9788024289472\n",
       "            ...      \n",
       "8454    9788000070698\n",
       "8455    9788024293233\n",
       "8456    9788025363881\n",
       "8457    9788076618077\n",
       "8458    9788076618190\n",
       "Name: ISBN, Length: 3344, dtype: int64"
      ]
     },
     "execution_count": 15,
     "metadata": {},
     "output_type": "execute_result"
    }
   ],
   "source": [
    "dk['ISBN']"
   ]
  },
  {
   "cell_type": "code",
   "execution_count": 16,
   "id": "38e2228b",
   "metadata": {},
   "outputs": [
    {
     "data": {
      "text/plain": [
       "0        9788090810112\n",
       "1        9788076791206\n",
       "2        9788088391043\n",
       "3        9788027097586\n",
       "4        9788087545881\n",
       "             ...      \n",
       "11664    9788075097972\n",
       "11665    9788076508378\n",
       "11666    9788076508484\n",
       "11667    9788076507210\n",
       "11668    9788025244883\n",
       "Name: ISBN, Length: 11569, dtype: object"
      ]
     },
     "execution_count": 16,
     "metadata": {},
     "output_type": "execute_result"
    }
   ],
   "source": [
    "df['ISBN']"
   ]
  },
  {
   "cell_type": "code",
   "execution_count": 17,
   "id": "57331e48",
   "metadata": {},
   "outputs": [],
   "source": [
    "import numpy as np"
   ]
  },
  {
   "cell_type": "code",
   "execution_count": 18,
   "id": "b0e8b9b3",
   "metadata": {},
   "outputs": [],
   "source": [
    "df['ISBNn'] = df['ISBN'].astype(str)"
   ]
  },
  {
   "cell_type": "code",
   "execution_count": 19,
   "id": "71801fbe",
   "metadata": {},
   "outputs": [],
   "source": [
    "dk['ISBNn'] = dk['ISBN'].astype(str)"
   ]
  },
  {
   "cell_type": "code",
   "execution_count": 20,
   "id": "cf9f5ce4",
   "metadata": {},
   "outputs": [],
   "source": [
    "dkm = dk.merge(df, on=\"ISBNn\", how=\"inner\")"
   ]
  },
  {
   "cell_type": "code",
   "execution_count": 21,
   "id": "f6f4d83e",
   "metadata": {},
   "outputs": [
    {
     "data": {
      "text/plain": [
       "Index(['ISBN_x', 'DK_date', 'DK_titul', 'DK_rating', 'DK_ratings_count',\n",
       "       'DK_tags', 'DK_Přečtených', 'DK_Knihotéce', 'DK_Chystám_se_číst',\n",
       "       'DK_Chci_si_koupit', 'DK_Právě_čtených', 'DK_Čtenářské_výzvě',\n",
       "       'DK_Doporučených', 'DK_dalších_seznamech', 'ISBNn', 'Titul',\n",
       "       'Autorstvo', 'Anotace', 'Počet stran', 'Vazba', 'Rozměr', 'Hmotnost',\n",
       "       'ISBN_y', 'Rok vydání', 'Styl', 'Jazyk', 'Původ', 'Nakladatel',\n",
       "       'Kategorizace', 'Cena', 'datum', 'Přečtená', 'Pro koho', 'Série', 'Díl',\n",
       "       'E-kniha', 'Edice', 'Audiokniha', 'Věkové doporučení', 'Ilustrace',\n",
       "       'Překlad', 'Vydání', 'Originální název', 'Účel knihy', 'Ostatní',\n",
       "       'Příloha', 'Jazyková úroveň', 'Předběžné datum vydání',\n",
       "       'Knižní předloha'],\n",
       "      dtype='object')"
      ]
     },
     "execution_count": 21,
     "metadata": {},
     "output_type": "execute_result"
    }
   ],
   "source": [
    "dkm.columns"
   ]
  },
  {
   "cell_type": "code",
   "execution_count": 22,
   "id": "2a053865",
   "metadata": {},
   "outputs": [],
   "source": [
    "import seaborn as sns"
   ]
  },
  {
   "cell_type": "code",
   "execution_count": 23,
   "id": "87317ed4",
   "metadata": {},
   "outputs": [],
   "source": [
    "merged = pd.DataFrame(dkm[dkm['DK_ratings_count'] > 50].groupby(['ISBNn','Počet stran','DK_Chystám_se_číst'])['DK_rating'].max()).reset_index()"
   ]
  },
  {
   "cell_type": "code",
   "execution_count": 25,
   "id": "64c0aa72",
   "metadata": {},
   "outputs": [
    {
     "name": "stderr",
     "output_type": "stream",
     "text": [
      "C:\\tools\\anaconda3\\Lib\\site-packages\\seaborn\\axisgrid.py:118: UserWarning: The figure layout has changed to tight\n",
      "  self._figure.tight_layout(*args, **kwargs)\n"
     ]
    },
    {
     "data": {
      "text/plain": [
       "<seaborn.axisgrid.FacetGrid at 0x170075d8450>"
      ]
     },
     "execution_count": 25,
     "metadata": {},
     "output_type": "execute_result"
    },
    {
     "data": {
      "image/png": "[encoded data removed]",
      "text/plain": [
       "<Figure size 500x500 with 1 Axes>"
      ]
     },
     "metadata": {},
     "output_type": "display_data"
    }
   ],
   "source": [
    "sns.lmplot(x='Počet stran', y='DK_rating', data=merged)"
   ]
  },
  {
   "cell_type": "code",
   "execution_count": 26,
   "id": "3a918dc3",
   "metadata": {},
   "outputs": [
    {
     "name": "stderr",
     "output_type": "stream",
     "text": [
      "C:\\tools\\anaconda3\\Lib\\site-packages\\seaborn\\axisgrid.py:118: UserWarning: The figure layout has changed to tight\n",
      "  self._figure.tight_layout(*args, **kwargs)\n"
     ]
    },
    {
     "data": {
      "text/plain": [
       "<seaborn.axisgrid.FacetGrid at 0x1700c4c5090>"
      ]
     },
     "execution_count": 26,
     "metadata": {},
     "output_type": "execute_result"
    },
    {
     "data": {
      "image/png": "[encoded data removed]",
      "text/plain": [
       "<Figure size 500x500 with 1 Axes>"
      ]
     },
     "metadata": {},
     "output_type": "display_data"
    }
   ],
   "source": [
    "sns.lmplot(x='Počet stran', y='DK_Chystám_se_číst', data=merged)"
   ]
  }
 ],
 "metadata": {
  "kernelspec": {
   "display_name": "Python 3 (ipykernel)",
   "language": "python",
   "name": "python3"
  },
  "language_info": {
   "codemirror_mode": {
    "name": "ipython",
    "version": 3
   },
   "file_extension": ".py",
   "mimetype": "text/x-python",
   "name": "python",
   "nbconvert_exporter": "python",
   "pygments_lexer": "ipython3",
   "version": "3.11.5"
  }
 },
 "nbformat": 4,
 "nbformat_minor": 5
}
