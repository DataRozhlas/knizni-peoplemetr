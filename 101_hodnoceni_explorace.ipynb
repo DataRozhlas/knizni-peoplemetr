{
 "cells": [
  {
   "cell_type": "code",
   "execution_count": 137,
   "id": "6c61b793",
   "metadata": {},
   "outputs": [],
   "source": [
    "import os\n",
    "import json\n",
    "import pandas as pd"
   ]
  },
  {
   "cell_type": "markdown",
   "id": "4234d445",
   "metadata": {},
   "source": [
    "Které knihy jsou ve srovnání: česká fikce a non-fikce vydaná v letech 2023 a 2024, u které se podařilo načíst ISBN z Martinus.cz a prostřednictvím tohoto ISBN stáhnout data z Goodreads a Dadatabáze knih."
   ]
  },
  {
   "cell_type": "markdown",
   "id": "815ecc32",
   "metadata": {},
   "source": [
    "## Goodreads"
   ]
  },
  {
   "cell_type": "code",
   "execution_count": 138,
   "id": "5847f93b",
   "metadata": {},
   "outputs": [],
   "source": [
    "gr = pd.read_csv(os.path.join(\"data\",\"goodreads-hodnoceni.csv\"))"
   ]
  },
  {
   "cell_type": "code",
   "execution_count": 139,
   "id": "5ff0f420",
   "metadata": {},
   "outputs": [
    {
     "data": {
      "text/plain": [
       "Index(['GR_isbn', 'GR_date', 'GR_title', 'GR_rating', 'GR_ratings_count',\n",
       "       'GR_reviews', 'GR_published'],\n",
       "      dtype='object')"
      ]
     },
     "execution_count": 139,
     "metadata": {},
     "output_type": "execute_result"
    }
   ],
   "source": [
    "gr.columns"
   ]
  },
  {
   "cell_type": "code",
   "execution_count": 140,
   "id": "b6ed1f60",
   "metadata": {},
   "outputs": [],
   "source": [
    "gr = gr.sort_values(by='GR_date')"
   ]
  },
  {
   "cell_type": "code",
   "execution_count": 141,
   "id": "7f27dee9",
   "metadata": {},
   "outputs": [
    {
     "data": {
      "text/plain": [
       "'2024-09-02 03:54:13'"
      ]
     },
     "execution_count": 141,
     "metadata": {},
     "output_type": "execute_result"
    }
   ],
   "source": [
    "gr['GR_date'].max()"
   ]
  },
  {
   "cell_type": "markdown",
   "id": "2f4aacd9",
   "metadata": {},
   "source": [
    "### Nejlépe hodnocené knihy vůbec"
   ]
  },
  {
   "cell_type": "code",
   "execution_count": 142,
   "id": "a4c485fe",
   "metadata": {},
   "outputs": [
    {
     "data": {
      "text/plain": [
       "GR_title\n",
       "U severní zdi by Petra Klabouchová                                                     4.72\n",
       "Šikmý kostel 3: románová kronika ztraceného města, léta 1945–1961 by Karin Lednická    4.71\n",
       "V pasti pohlaví by Silvie Lauder                                                       4.61\n",
       "Stačí mávnout křídly (Stačí mávnout křídly, #1) by Sára Topinková                      4.49\n",
       "Budoucnost nepráce by Filip Dřímalka                                                   4.44\n",
       "Severka by Nina Špitálníková                                                           4.44\n",
       "Lásky čas by Adéla Rosípalová                                                          4.43\n",
       "Rozložíš paměť by Marek Torčík                                                         4.38\n",
       "Zvonkohra by Eliška Václavíková                                                        4.38\n",
       "Nebuď p*ča aneb jak (ne)pracovat s dětmi by Tomáš Morávek                              4.31\n",
       "Srpny by Jakub Stanjura                                                                4.30\n",
       "Odvaha by Markéta Lukášková                                                            4.29\n",
       "Feministkou snadno a rychle by Lucie Jarkovská                                         4.28\n",
       "Balada mrtvého světa (Ozvěny Zlomu, #1) by Alžběta Bílková                             4.25\n",
       "Léto mezi řádky by Alena Štraubová                                                     4.25\n",
       "Ztracenné by Michelle Losekoot                                                         4.24\n",
       "Vraní oko by Michaela Klevisová                                                        4.23\n",
       "Sudetský dům II by Štěpán Javůrek                                                      4.21\n",
       "Kateřina v říši kimči by Kateřina Kang                                                 4.16\n",
       "Lenochod Jimmy & jeho backup band by Pavel Bareš                                       4.15\n",
       "Černobyl: Pád Atomgradu by Matyáš Namai                                                4.15\n",
       "Letní bouřky by Klára Pospíšilová                                                      4.08\n",
       "Formulista by Michaela Schmiedlová                                                     4.07\n",
       "Pořádek v hlavě by Martin Poliačik                                                     4.07\n",
       "Vetřelec by Kristýna Trpková                                                           4.06\n",
       "Fosilie by Michal Kašpárek                                                             4.02\n",
       "Jsme nevyhnutelní (Navždycky #4) by Nofreeusernames                                    4.00\n",
       "Černá smečka (Tobiášův řád, #1) by František Kotleta                                   3.96\n",
       "Těla by Klára Vlasáková                                                                3.92\n",
       "Josefíně všichni lžou by Kateřina Pantovič                                             3.90\n",
       "Name: GR_rating, dtype: float64"
      ]
     },
     "execution_count": 142,
     "metadata": {},
     "output_type": "execute_result"
    }
   ],
   "source": [
    "gr[gr['GR_ratings_count'] >= 100].groupby('GR_title')['GR_rating'].last().nlargest(30)"
   ]
  },
  {
   "cell_type": "markdown",
   "id": "ea9e7571",
   "metadata": {},
   "source": [
    "### Nejvíce hodnocení"
   ]
  },
  {
   "cell_type": "code",
   "execution_count": 143,
   "id": "a3dcc7ae",
   "metadata": {},
   "outputs": [
    {
     "data": {
      "text/plain": [
       "GR_title\n",
       "Srpny by Jakub Stanjura                                                                     1297.0\n",
       "Severka by Nina Špitálníková                                                                1015.0\n",
       "Těla by Klára Vlasáková                                                                      940.0\n",
       "Rozložíš paměť by Marek Torčík                                                               793.0\n",
       "Kde jsi, když nejsi by Radka Třeštíková                                                      621.0\n",
       "Jsme nevyhnutelní (Navždycky #4) by Nofreeusernames                                          574.0\n",
       "Gazely by Patrik Hartl                                                                       514.0\n",
       "Fosilie by Michal Kašpárek                                                                   506.0\n",
       "Šikmý kostel 3: románová kronika ztraceného města, léta 1945–1961 by Karin Lednická          475.0\n",
       "U severní zdi by Petra Klabouchová                                                           447.0\n",
       "Léto mezi řádky by Alena Štraubová                                                           403.0\n",
       "Stačí mávnout křídly (Stačí mávnout křídly, #1) by Sára Topinková                            379.0\n",
       "Pláňata by Petra Dvořáková                                                                   361.0\n",
       "V pasti pohlaví by Silvie Lauder                                                             352.0\n",
       "Sudetenland by Leoš Kyša                                                                     334.0\n",
       "Zvonkohra by Eliška Václavíková                                                              311.0\n",
       "Josefíně všichni lžou by Kateřina Pantovič                                                   284.0\n",
       "Odvaha by Markéta Lukášková                                                                  280.0\n",
       "Feministkou snadno a rychle by Lucie Jarkovská                                               248.0\n",
       "Vraní oko by Michaela Klevisová                                                              242.0\n",
       "Lásky čas by Adéla Rosípalová                                                                230.0\n",
       "Letní bouřky by Klára Pospíšilová                                                            225.0\n",
       "Neodpovídej... by Lucie Bechynková                                                           225.0\n",
       "Ztracenné by Michelle Losekoot                                                               180.0\n",
       "Z pera knihomolů: 11 povídek od českých a slovenských knižních blogerů by Eliška Hronová     159.0\n",
       "Lenochod Jimmy & jeho backup band by Pavel Bareš                                             157.0\n",
       "Nebuď p*ča aneb jak (ne)pracovat s dětmi by Tomáš Morávek                                    150.0\n",
       "Černá smečka (Tobiášův řád, #1) by František Kotleta                                         138.0\n",
       "Pořádek v hlavě by Martin Poliačik                                                           137.0\n",
       "Vyhoření by Petr Šesták                                                                      134.0\n",
       "Name: GR_ratings_count, dtype: float64"
      ]
     },
     "execution_count": 143,
     "metadata": {},
     "output_type": "execute_result"
    }
   ],
   "source": [
    "gr.groupby(\"GR_title\")['GR_ratings_count'].max().nlargest(30)"
   ]
  },
  {
   "cell_type": "markdown",
   "id": "8c234434",
   "metadata": {},
   "source": [
    "### Nejvíce nových hodnocení od dubna '24"
   ]
  },
  {
   "cell_type": "code",
   "execution_count": 144,
   "id": "7160775e",
   "metadata": {},
   "outputs": [
    {
     "data": {
      "text/plain": [
       "GR_title\n",
       "Rozložíš paměť by Marek Torčík                                                         492.0\n",
       "Šikmý kostel 3: románová kronika ztraceného města, léta 1945–1961 by Karin Lednická    422.0\n",
       "Severka by Nina Špitálníková                                                           400.0\n",
       "Srpny by Jakub Stanjura                                                                361.0\n",
       "Odvaha by Markéta Lukášková                                                            248.0\n",
       "Těla by Klára Vlasáková                                                                216.0\n",
       "Fosilie by Michal Kašpárek                                                             188.0\n",
       "Lásky čas by Adéla Rosípalová                                                          178.0\n",
       "Gazely by Patrik Hartl                                                                 176.0\n",
       "U severní zdi by Petra Klabouchová                                                     135.0\n",
       "V pasti pohlaví by Silvie Lauder                                                       127.0\n",
       "Pláňata by Petra Dvořáková                                                             123.0\n",
       "Někdo z nás by Kristýna Trpková                                                         95.0\n",
       "Letní bouřky by Klára Pospíšilová                                                       91.0\n",
       "Feministkou snadno a rychle by Lucie Jarkovská                                          89.0\n",
       "Kde jsi, když nejsi by Radka Třeštíková                                                 89.0\n",
       "Vyhoření by Petr Šesták                                                                 88.0\n",
       "Léto mezi řádky by Alena Štraubová                                                      87.0\n",
       "Sudetenland by Leoš Kyša                                                                83.0\n",
       "Neodpovídej... by Lucie Bechynková                                                      75.0\n",
       "Lovci monster - Fantom by Larry Correia                                                 73.0\n",
       "Těžké duše by Iva Hadj Moussa                                                           69.0\n",
       "Jsme nevyhnutelní (Navždycky #4) by Nofreeusernames                                     67.0\n",
       "Krutý měsíc by Jana Jašová                                                              65.0\n",
       "Budoucnost nepráce by Filip Dřímalka                                                    59.0\n",
       "Name: GR_ratings_count, dtype: float64"
      ]
     },
     "execution_count": 144,
     "metadata": {},
     "output_type": "execute_result"
    }
   ],
   "source": [
    "pd.Series(gr.groupby(\"GR_title\")['GR_ratings_count'].max() - gr.groupby(\"GR_title\")['GR_ratings_count'].min()).nlargest(25)"
   ]
  },
  {
   "cell_type": "code",
   "execution_count": 145,
   "id": "24b3d9ae",
   "metadata": {},
   "outputs": [],
   "source": [
    "import datetime"
   ]
  },
  {
   "cell_type": "code",
   "execution_count": 146,
   "id": "5bc41d4d",
   "metadata": {},
   "outputs": [],
   "source": [
    "two_weeks_ago = datetime.datetime.now() - datetime.timedelta(days=13)\n",
    "two_weeks_ago = two_weeks_ago.strftime('%Y-%m-%d')"
   ]
  },
  {
   "cell_type": "code",
   "execution_count": 147,
   "id": "56660569",
   "metadata": {},
   "outputs": [],
   "source": [
    "week_ago = datetime.datetime.now() - datetime.timedelta(days=6)\n",
    "week_ago = week_ago.strftime('%Y-%m-%d')"
   ]
  },
  {
   "cell_type": "code",
   "execution_count": 148,
   "id": "c06a83c9",
   "metadata": {},
   "outputs": [
    {
     "data": {
      "text/plain": [
       "'2024-08-04'"
      ]
     },
     "execution_count": 148,
     "metadata": {},
     "output_type": "execute_result"
    }
   ],
   "source": [
    "month_ago = pd.to_datetime(gr['GR_date'].max()) - datetime.timedelta(days=29)\n",
    "month_ago = month_ago.strftime('%Y-%m-%d')\n",
    "month_ago"
   ]
  },
  {
   "cell_type": "code",
   "execution_count": 149,
   "id": "14bbd46f",
   "metadata": {},
   "outputs": [
    {
     "data": {
      "text/plain": [
       "['Očima kriminalistů by Miroslav Vaňura',\n",
       " 'Future ON! by Bob Kartous',\n",
       " 'Malá magická katastrofa by Štěpán Bartoš',\n",
       " 'Socipat by D. B. Peck',\n",
       " 'Dva v šinkansenu by Marie Machytková',\n",
       " 'Než zjistíš pravdu by Elena Minářová',\n",
       " 'Krušnohorské osudy by Štěpán Javůrek',\n",
       " 'Dokud nás krev nerozdělí by Petr Opršal',\n",
       " 'Šedesát let v psychiatrii jako majitel klíčů by Radkin Honzák',\n",
       " 'Mistr meče popravního by Magdaléna Paťhová',\n",
       " 'MaminkOFF: Malovaly jsme si mateřství by Kateřina Chalupníková',\n",
       " 'Baron Trenck: až na hranici pekel by František Niedl',\n",
       " 'Když za nás Bůh netahá kaštany z ohně by Renata Kalenská',\n",
       " 'Zmije v garáži by Magda Jogheeová',\n",
       " 'Expanzní sektor (Centrální impérium: Omega, #2) by Jan Kotouč',\n",
       " 'Silvuple by Ewald Murrer',\n",
       " 'Minout se přesně by Petr Hruška',\n",
       " 'Vynucených 7 dní by Lenka Hnátová',\n",
       " 'Myšlenky zločince v české kotlině by Jiřina Hofmanová',\n",
       " 'Krvavý Žižkov by Simona Bohatá',\n",
       " 'Skutečné zločiny v Brně a okolí by Ivana Žáková',\n",
       " 'Lež má krátké nohy by Karol Efraim Sidon',\n",
       " '#Nezapomeň. Příběhy Paměti národa by Irena Tatíčková',\n",
       " 'Květ zla (Nevěsta na útěku, #3) by Alexander Stainforth',\n",
       " 'České sklo by Marek Toman',\n",
       " 'Nevěsta na útěku (Nevěsta na útěku, #1) by Alexander Stainforth',\n",
       " 'Jak se líčit v nemoci by Iryna Zahladko',\n",
       " 'Řeč mrtvejch / Erzherz / Nebožky by Radek Fridrich',\n",
       " 'Past na ženicha (Nevěsta na útěku, #2) by Alexander Stainforth',\n",
       " 'Zeptej se vědce: Neexistují blbé otázky by Aleš Dvořák',\n",
       " 'Endometrióza v otázkách a odpovědích by Jan Drahoňovský',\n",
       " 'Exploring the Benefits of Nature on Mental Health by Oheta Sophia',\n",
       " 'Prý musím projít březovým lesem by Štěpánka Borská',\n",
       " 'Metakunsthistorie by Jakub Stejskal',\n",
       " 'Průvodce králičí norou by Jan Tománek',\n",
       " 'Mezera mezi zdí a parketama, část první by Jaromír František Fumas Palme',\n",
       " 'Mediátorka: Každý má svou pravdu by Hana Lenghartová',\n",
       " '…a přeskočila jiskra by Halina Pawlowská']"
      ]
     },
     "execution_count": 149,
     "metadata": {},
     "output_type": "execute_result"
    }
   ],
   "source": [
    "gr_stare = gr[gr['GR_date'] < month_ago]['GR_title'].drop_duplicates().to_list()\n",
    "gr_nove = gr[~gr['GR_title'].isin(gr_stare)]['GR_title'].drop_duplicates().to_list()\n",
    "gr_nove"
   ]
  },
  {
   "cell_type": "markdown",
   "id": "4d915450",
   "metadata": {},
   "source": [
    "### Nejvíce hodnocení za poslední měsíc"
   ]
  },
  {
   "cell_type": "code",
   "execution_count": 150,
   "id": "62667730",
   "metadata": {},
   "outputs": [
    {
     "data": {
      "text/plain": [
       "GR_title\n",
       "Rozložíš paměť by Marek Torčík                                                         86.0\n",
       "Srpny by Jakub Stanjura                                                                82.0\n",
       "Šikmý kostel 3: románová kronika ztraceného města, léta 1945–1961 by Karin Lednická    80.0\n",
       "Severka by Nina Špitálníková                                                           66.0\n",
       "Odvaha by Markéta Lukášková                                                            53.0\n",
       "Fosilie by Michal Kašpárek                                                             47.0\n",
       "Poslední léto by Dorota Ambrožová                                                      35.0\n",
       "Gazely by Patrik Hartl                                                                 34.0\n",
       "Lásky čas by Adéla Rosípalová                                                          26.0\n",
       "Těla by Klára Vlasáková                                                                26.0\n",
       "U severní zdi by Petra Klabouchová                                                     24.0\n",
       "V pasti pohlaví by Silvie Lauder                                                       24.0\n",
       "Letní bouřky by Klára Pospíšilová                                                      23.0\n",
       "Pláňata by Petra Dvořáková                                                             23.0\n",
       "Někdo z nás by Kristýna Trpková                                                        21.0\n",
       "Kde jsi, když nejsi by Radka Třeštíková                                                18.0\n",
       "Černá smečka (Tobiášův řád, #1) by František Kotleta                                   18.0\n",
       "Stačí mávnout křídly (Stačí mávnout křídly, #1) by Sára Topinková                      18.0\n",
       "Léto mezi řádky by Alena Štraubová                                                     18.0\n",
       "Pusťte světlo do tmavého večera by Jan Kholl                                           17.0\n",
       "Letnice by Miroslav Hlaučo                                                             16.0\n",
       "Černobyl: Pád Atomgradu by Matyáš Namai                                                14.0\n",
       "Tři Sekery by Kateřina Surmanová                                                       14.0\n",
       "Jsme nevyhnutelní (Navždycky #4) by Nofreeusernames                                    14.0\n",
       "Kolem dokola by Lucie Hušková                                                          14.0\n",
       "Pacanka by Klára Elšíková                                                              13.0\n",
       "Lovci monster - Fantom by Larry Correia                                                12.0\n",
       "Neodpovídej... by Lucie Bechynková                                                     12.0\n",
       "Zvonkohra by Eliška Václavíková                                                        11.0\n",
       "Hella by Alena Machoninová                                                             11.0\n",
       "Ztracenné by Michelle Losekoot                                                         11.0\n",
       "Krutý měsíc by Jana Jašová                                                             10.0\n",
       "Lenochod Jimmy & jeho backup band by Pavel Bareš                                       10.0\n",
       "Zvedá se vítr by Kateřina Surmanová                                                    10.0\n",
       "Vyhoření by Petr Šesták                                                                10.0\n",
       "Name: GR_ratings_count, dtype: float64"
      ]
     },
     "execution_count": 150,
     "metadata": {},
     "output_type": "execute_result"
    }
   ],
   "source": [
    "goodreads_mesic_ratings = pd.Series(gr.groupby(\"GR_title\")['GR_ratings_count'].max() - gr[gr['GR_date'] > month_ago].groupby(\"GR_title\")['GR_ratings_count'].min()).sort_values(ascending=False)\n",
    "goodreads_mesic_ratings = goodreads_mesic_ratings[goodreads_mesic_ratings >= 10]\n",
    "goodreads_mesic_ratings"
   ]
  },
  {
   "cell_type": "code",
   "execution_count": 151,
   "id": "6eac0ff7",
   "metadata": {},
   "outputs": [
    {
     "data": {
      "text/plain": [
       "GR_title\n",
       "Dva v šinkansenu by Marie Machytková                              7.0\n",
       "Vynucených 7 dní by Lenka Hnátová                                 5.0\n",
       "Když za nás Bůh netahá kaštany z ohně by Renata Kalenská          5.0\n",
       "Dokud nás krev nerozdělí by Petr Opršal                           4.0\n",
       "MaminkOFF: Malovaly jsme si mateřství by Kateřina Chalupníková    4.0\n",
       "Socipat by D. B. Peck                                             3.0\n",
       "Minout se přesně by Petr Hruška                                   3.0\n",
       "Name: GR_ratings_count, dtype: float64"
      ]
     },
     "execution_count": 151,
     "metadata": {},
     "output_type": "execute_result"
    }
   ],
   "source": [
    "goodreads_mesic_novinky = pd.Series(gr[gr['GR_title'].isin(gr_nove)].groupby(\"GR_title\")['GR_ratings_count'].max() - gr[(gr['GR_title'].isin(gr_nove)) & (gr['GR_date'] > month_ago)].groupby(\"GR_title\")['GR_ratings_count'].min()).sort_values(ascending=False)\n",
    "goodreads_mesic_novinky = goodreads_mesic_novinky[goodreads_mesic_novinky >= 3]\n",
    "goodreads_mesic_novinky"
   ]
  },
  {
   "cell_type": "code",
   "execution_count": 152,
   "id": "4f1ade28",
   "metadata": {},
   "outputs": [
    {
     "data": {
      "text/plain": [
       "'2024-08-05'"
      ]
     },
     "execution_count": 152,
     "metadata": {},
     "output_type": "execute_result"
    }
   ],
   "source": [
    "gr[gr['GR_date'] > month_ago]['GR_date'].min()[0:10]"
   ]
  },
  {
   "cell_type": "code",
   "execution_count": 153,
   "id": "9e895da2",
   "metadata": {},
   "outputs": [
    {
     "data": {
      "text/plain": [
       "'2024-09-02'"
      ]
     },
     "execution_count": 153,
     "metadata": {},
     "output_type": "execute_result"
    }
   ],
   "source": [
    "gr['GR_date'].max()[0:10]"
   ]
  },
  {
   "cell_type": "markdown",
   "id": "c2fb1f5b",
   "metadata": {},
   "source": [
    "### Nejvíce hodnocení v posledním týdnu a dvou"
   ]
  },
  {
   "cell_type": "code",
   "execution_count": 154,
   "id": "fa0f4fd6",
   "metadata": {},
   "outputs": [
    {
     "data": {
      "text/plain": [
       "GR_title\n",
       "Srpny by Jakub Stanjura                                                                21.0\n",
       "Rozložíš paměť by Marek Torčík                                                         20.0\n",
       "Severka by Nina Špitálníková                                                           16.0\n",
       "Odvaha by Markéta Lukášková                                                            13.0\n",
       "Šikmý kostel 3: románová kronika ztraceného města, léta 1945–1961 by Karin Lednická    13.0\n",
       "Fosilie by Michal Kašpárek                                                             10.0\n",
       "Poslední léto by Dorota Ambrožová                                                       9.0\n",
       "Těla by Klára Vlasáková                                                                 9.0\n",
       "Pláňata by Petra Dvořáková                                                              7.0\n",
       "Letní bouřky by Klára Pospíšilová                                                       6.0\n",
       "Pusťte světlo do tmavého večera by Jan Kholl                                            6.0\n",
       "V pasti pohlaví by Silvie Lauder                                                        6.0\n",
       "Gazely by Patrik Hartl                                                                  5.0\n",
       "Kolem dokola by Lucie Hušková                                                           5.0\n",
       "Stačí mávnout křídly (Stačí mávnout křídly, #1) by Sára Topinková                       5.0\n",
       "Hella by Alena Machoninová                                                              4.0\n",
       "Kde jsi, když nejsi by Radka Třeštíková                                                 4.0\n",
       "Krutý měsíc by Jana Jašová                                                              4.0\n",
       "Lásky čas by Adéla Rosípalová                                                           4.0\n",
       "Léto mezi řádky by Alena Štraubová                                                      4.0\n",
       "Nebuď p*ča aneb jak (ne)pracovat s dětmi by Tomáš Morávek                               4.0\n",
       "Pacanka by Klára Elšíková                                                               4.0\n",
       "Balada mrtvého světa (Ozvěny Zlomu, #1) by Alžběta Bílková                              3.0\n",
       "Feministkou snadno a rychle by Lucie Jarkovská                                          3.0\n",
       "Krajina roztavených zvonů by Jan Štifter                                                3.0\n",
       "Name: GR_ratings_count, dtype: float64"
      ]
     },
     "execution_count": 154,
     "metadata": {},
     "output_type": "execute_result"
    }
   ],
   "source": [
    "pd.Series(gr[gr['GR_date'] > two_weeks_ago].groupby(\"GR_title\")['GR_ratings_count'].max() - gr[gr['GR_date'] < week_ago].groupby(\"GR_title\")['GR_ratings_count'].max()).nlargest(25)"
   ]
  },
  {
   "cell_type": "code",
   "execution_count": 155,
   "id": "d2523d56",
   "metadata": {},
   "outputs": [
    {
     "data": {
      "text/plain": [
       "GR_title\n",
       "Rozložíš paměť by Marek Torčík                                                         40.0\n",
       "Srpny by Jakub Stanjura                                                                35.0\n",
       "Šikmý kostel 3: románová kronika ztraceného města, léta 1945–1961 by Karin Lednická    35.0\n",
       "Severka by Nina Špitálníková                                                           32.0\n",
       "Odvaha by Markéta Lukášková                                                            22.0\n",
       "Poslední léto by Dorota Ambrožová                                                      18.0\n",
       "Gazely by Patrik Hartl                                                                 16.0\n",
       "Těla by Klára Vlasáková                                                                16.0\n",
       "Pusťte světlo do tmavého večera by Jan Kholl                                           15.0\n",
       "Fosilie by Michal Kašpárek                                                             14.0\n",
       "Letní bouřky by Klára Pospíšilová                                                      12.0\n",
       "Kde jsi, když nejsi by Radka Třeštíková                                                11.0\n",
       "Stačí mávnout křídly (Stačí mávnout křídly, #1) by Sára Topinková                      11.0\n",
       "V pasti pohlaví by Silvie Lauder                                                       11.0\n",
       "Lásky čas by Adéla Rosípalová                                                          10.0\n",
       "Kolem dokola by Lucie Hušková                                                           9.0\n",
       "Pláňata by Petra Dvořáková                                                              9.0\n",
       "U severní zdi by Petra Klabouchová                                                      9.0\n",
       "Černá smečka (Tobiášův řád, #1) by František Kotleta                                    9.0\n",
       "Pacanka by Klára Elšíková                                                               8.0\n",
       "Léto mezi řádky by Alena Štraubová                                                      7.0\n",
       "Tři Sekery by Kateřina Surmanová                                                        7.0\n",
       "Feministkou snadno a rychle by Lucie Jarkovská                                          6.0\n",
       "Neodpovídej... by Lucie Bechynková                                                      6.0\n",
       "Někdo z nás by Kristýna Trpková                                                         6.0\n",
       "Name: GR_ratings_count, dtype: float64"
      ]
     },
     "execution_count": 155,
     "metadata": {},
     "output_type": "execute_result"
    }
   ],
   "source": [
    "pd.Series(gr[gr['GR_date'] > two_weeks_ago].groupby(\"GR_title\")['GR_ratings_count'].max() - gr[gr['GR_date'] < two_weeks_ago].groupby(\"GR_title\")['GR_ratings_count'].max()).nlargest(25)"
   ]
  },
  {
   "cell_type": "markdown",
   "id": "3b6fdcdd",
   "metadata": {},
   "source": [
    "### Pokus s time series"
   ]
  },
  {
   "cell_type": "code",
   "execution_count": 156,
   "id": "889ef554",
   "metadata": {},
   "outputs": [
    {
     "name": "stderr",
     "output_type": "stream",
     "text": [
      "C:\\Users\\micha\\AppData\\Local\\Temp\\ipykernel_27244\\1877337853.py:2: SettingWithCopyWarning: \n",
      "A value is trying to be set on a copy of a slice from a DataFrame.\n",
      "Try using .loc[row_indexer,col_indexer] = value instead\n",
      "\n",
      "See the caveats in the documentation: https://pandas.pydata.org/pandas-docs/stable/user_guide/indexing.html#returning-a-view-versus-a-copy\n",
      "  vyvoj['GR_date'] = pd.to_datetime(vyvoj['GR_date'])\n"
     ]
    }
   ],
   "source": [
    "vyvoj = gr[['GR_date','GR_title','GR_ratings_count']]\n",
    "vyvoj['GR_date'] = pd.to_datetime(vyvoj['GR_date'])\n",
    "vyvoj = vyvoj.sort_values(by='GR_date')\n",
    "vyvoj = vyvoj.set_index('GR_date')"
   ]
  },
  {
   "cell_type": "code",
   "execution_count": 157,
   "id": "6be4be2a",
   "metadata": {},
   "outputs": [
    {
     "data": {
      "text/plain": [
       "<Axes: xlabel='GR_date'>"
      ]
     },
     "execution_count": 157,
     "metadata": {},
     "output_type": "execute_result"
    },
    {
     "data": {
      "image/png": "[encoded data removed]",
      "text/plain": [
       "<Figure size 640x480 with 1 Axes>"
      ]
     },
     "metadata": {},
     "output_type": "display_data"
    }
   ],
   "source": [
    "vyvoj[vyvoj['GR_title'].str.contains('Duše národa',na=False)]['GR_ratings_count'].plot()"
   ]
  },
  {
   "cell_type": "code",
   "execution_count": 158,
   "id": "cfd9e0bf",
   "metadata": {
    "scrolled": true
   },
   "outputs": [
    {
     "data": {
      "text/plain": [
       "<Axes: xlabel='GR_date'>"
      ]
     },
     "execution_count": 158,
     "metadata": {},
     "output_type": "execute_result"
    },
    {
     "data": {
      "image/png": "[encoded data removed]",
      "text/plain": [
       "<Figure size 640x480 with 1 Axes>"
      ]
     },
     "metadata": {},
     "output_type": "display_data"
    }
   ],
   "source": [
    "vyvoj[vyvoj['GR_title'].str.contains('Hella',na=False)]['GR_ratings_count'].plot()"
   ]
  },
  {
   "cell_type": "markdown",
   "id": "c14329a3",
   "metadata": {},
   "source": [
    "### Další pokusy"
   ]
  },
  {
   "cell_type": "code",
   "execution_count": 159,
   "id": "3f45264a",
   "metadata": {},
   "outputs": [],
   "source": [
    "gr['GR_date'] = pd.to_datetime(gr['GR_date'])"
   ]
  },
  {
   "cell_type": "code",
   "execution_count": 160,
   "id": "f3b9b45c",
   "metadata": {
    "scrolled": true
   },
   "outputs": [
    {
     "data": {
      "text/plain": [
       "GR_date\n",
       "2024-04-07    36632.0\n",
       "2024-04-14    24847.0\n",
       "2024-04-21    12856.0\n",
       "2024-04-28    12964.0\n",
       "2024-05-05    13236.0\n",
       "2024-05-12    13890.0\n",
       "2024-05-19    14266.0\n",
       "2024-05-26    14562.0\n",
       "2024-06-02    14983.0\n",
       "2024-06-09    15329.0\n",
       "2024-06-16    15749.0\n",
       "2024-06-23    16109.0\n",
       "2024-06-30    16324.0\n",
       "2024-07-07    16739.0\n",
       "2024-07-14    17279.0\n",
       "2024-07-21    18029.0\n",
       "2024-07-28    18238.0\n",
       "2024-08-04    18808.0\n",
       "2024-08-11    19056.0\n",
       "2024-08-18    19455.0\n",
       "2024-08-25    20045.0\n",
       "2024-09-01    20290.0\n",
       "2024-09-08    20706.0\n",
       "Freq: W-SUN, Name: GR_ratings_count, dtype: float64"
      ]
     },
     "execution_count": 160,
     "metadata": {},
     "output_type": "execute_result"
    }
   ],
   "source": [
    "tydny = gr.groupby(pd.Grouper(key='GR_date', freq='W'))['GR_ratings_count'].sum()\n",
    "tydny"
   ]
  },
  {
   "cell_type": "code",
   "execution_count": 161,
   "id": "1e7b4050",
   "metadata": {},
   "outputs": [
    {
     "name": "stderr",
     "output_type": "stream",
     "text": [
      "C:\\Users\\micha\\AppData\\Local\\Temp\\ipykernel_27244\\2088204097.py:1: FutureWarning: 'M' is deprecated and will be removed in a future version, please use 'ME' instead.\n",
      "  monthly_sum = tydny.resample('M').sum()\n"
     ]
    },
    {
     "data": {
      "text/plain": [
       "GR_date\n",
       "2024-04-30    87299.0\n",
       "2024-05-31    55954.0\n",
       "2024-06-30    78494.0\n",
       "2024-07-31    70285.0\n",
       "2024-08-31    77364.0\n",
       "2024-09-30    40996.0\n",
       "Freq: ME, Name: GR_ratings_count, dtype: float64"
      ]
     },
     "execution_count": 161,
     "metadata": {},
     "output_type": "execute_result"
    }
   ],
   "source": [
    "monthly_sum = tydny.resample('M').sum()\n",
    "monthly_sum"
   ]
  },
  {
   "cell_type": "code",
   "execution_count": 162,
   "id": "349660d0",
   "metadata": {},
   "outputs": [
    {
     "data": {
      "text/plain": [
       "GR_date\n",
       "2024-04-30        NaN\n",
       "2024-05-31   -31345.0\n",
       "2024-06-30    22540.0\n",
       "2024-07-31    -8209.0\n",
       "2024-08-31     7079.0\n",
       "2024-09-30   -36368.0\n",
       "Freq: ME, Name: GR_ratings_count, dtype: float64"
      ]
     },
     "execution_count": 162,
     "metadata": {},
     "output_type": "execute_result"
    }
   ],
   "source": [
    "monthly_diff = monthly_sum.diff()\n",
    "monthly_diff"
   ]
  },
  {
   "cell_type": "code",
   "execution_count": 258,
   "id": "13325d54",
   "metadata": {},
   "outputs": [
    {
     "data": {
      "text/html": [
       "<div>\n",
       "<style scoped>\n",
       "    .dataframe tbody tr th:only-of-type {\n",
       "        vertical-align: middle;\n",
       "    }\n",
       "\n",
       "    .dataframe tbody tr th {\n",
       "        vertical-align: top;\n",
       "    }\n",
       "\n",
       "    .dataframe thead th {\n",
       "        text-align: right;\n",
       "    }\n",
       "</style>\n",
       "<table border=\"1\" class=\"dataframe\">\n",
       "  <thead>\n",
       "    <tr style=\"text-align: right;\">\n",
       "      <th></th>\n",
       "      <th>GR_isbn</th>\n",
       "      <th>GR_date</th>\n",
       "      <th>GR_title</th>\n",
       "      <th>GR_rating</th>\n",
       "      <th>GR_ratings_count</th>\n",
       "      <th>GR_reviews</th>\n",
       "      <th>GR_published</th>\n",
       "      <th>autorstvo</th>\n",
       "      <th>isbn</th>\n",
       "    </tr>\n",
       "  </thead>\n",
       "  <tbody>\n",
       "    <tr>\n",
       "      <th>0</th>\n",
       "      <td>9.788024e+12</td>\n",
       "      <td>2024-04-01 14:11:25</td>\n",
       "      <td>Sochař by Artur Janoušek</td>\n",
       "      <td>2.00</td>\n",
       "      <td>2.0</td>\n",
       "      <td>1.0</td>\n",
       "      <td>January 1, 2023</td>\n",
       "      <td>Artur Janoušek</td>\n",
       "      <td>9788024289472</td>\n",
       "    </tr>\n",
       "    <tr>\n",
       "      <th>1</th>\n",
       "      <td>9.788088e+12</td>\n",
       "      <td>2024-04-01 14:11:30</td>\n",
       "      <td>I smutek byl jen sen. Poezie Josefa Kocourka b...</td>\n",
       "      <td>4.00</td>\n",
       "      <td>1.0</td>\n",
       "      <td>0.0</td>\n",
       "      <td>January 1, 2023</td>\n",
       "      <td>Josef Kocourek</td>\n",
       "      <td>9788088367291</td>\n",
       "    </tr>\n",
       "    <tr>\n",
       "      <th>2</th>\n",
       "      <td>9.788073e+12</td>\n",
       "      <td>2024-04-01 14:11:34</td>\n",
       "      <td>Hranice zvrhlosti by Jan  Urban</td>\n",
       "      <td>3.29</td>\n",
       "      <td>14.0</td>\n",
       "      <td>3.0</td>\n",
       "      <td>May 15, 2023</td>\n",
       "      <td>Jan  Urban</td>\n",
       "      <td>9788072529704</td>\n",
       "    </tr>\n",
       "    <tr>\n",
       "      <th>3</th>\n",
       "      <td>9.788091e+12</td>\n",
       "      <td>2024-04-01 14:11:37</td>\n",
       "      <td>Z pera knihomolů: 11 povídek od českých a slov...</td>\n",
       "      <td>3.86</td>\n",
       "      <td>140.0</td>\n",
       "      <td>29.0</td>\n",
       "      <td>March 31, 2023</td>\n",
       "      <td>Eliška Hronová</td>\n",
       "      <td>9788090837690</td>\n",
       "    </tr>\n",
       "    <tr>\n",
       "      <th>4</th>\n",
       "      <td>9.788076e+12</td>\n",
       "      <td>2024-04-01 14:11:43</td>\n",
       "      <td>Stará béčková legenda (Stará béčková legenda, ...</td>\n",
       "      <td>4.21</td>\n",
       "      <td>19.0</td>\n",
       "      <td>6.0</td>\n",
       "      <td>April 3, 2023</td>\n",
       "      <td>Shigor Birdman</td>\n",
       "      <td>9788075884374</td>\n",
       "    </tr>\n",
       "    <tr>\n",
       "      <th>...</th>\n",
       "      <td>...</td>\n",
       "      <td>...</td>\n",
       "      <td>...</td>\n",
       "      <td>...</td>\n",
       "      <td>...</td>\n",
       "      <td>...</td>\n",
       "      <td>...</td>\n",
       "      <td>...</td>\n",
       "      <td>...</td>\n",
       "    </tr>\n",
       "    <tr>\n",
       "      <th>15813</th>\n",
       "      <td>9.788025e+12</td>\n",
       "      <td>2024-09-02 03:54:03</td>\n",
       "      <td>Trnitá kletba by Anežka Kočová</td>\n",
       "      <td>4.07</td>\n",
       "      <td>75.0</td>\n",
       "      <td>18.0</td>\n",
       "      <td>August 31, 2023</td>\n",
       "      <td>Anežka Kočová</td>\n",
       "      <td>9788025363850</td>\n",
       "    </tr>\n",
       "    <tr>\n",
       "      <th>15814</th>\n",
       "      <td>9.788072e+12</td>\n",
       "      <td>2024-09-02 03:54:06</td>\n",
       "      <td>Zuta a svlečena by Milan Ohnisko</td>\n",
       "      <td>4.00</td>\n",
       "      <td>5.0</td>\n",
       "      <td>0.0</td>\n",
       "      <td>January 1, 2023</td>\n",
       "      <td>Milan Ohnisko</td>\n",
       "      <td>9788072278879</td>\n",
       "    </tr>\n",
       "    <tr>\n",
       "      <th>15815</th>\n",
       "      <td>9.788026e+12</td>\n",
       "      <td>2024-09-02 03:54:08</td>\n",
       "      <td>Pod Kaštanem by Barbora Majchráková</td>\n",
       "      <td>3.00</td>\n",
       "      <td>6.0</td>\n",
       "      <td>2.0</td>\n",
       "      <td>June 15, 2023</td>\n",
       "      <td>Barbora Majchráková</td>\n",
       "      <td>9788025741528</td>\n",
       "    </tr>\n",
       "    <tr>\n",
       "      <th>15816</th>\n",
       "      <td>9.788028e+12</td>\n",
       "      <td>2024-09-02 03:54:10</td>\n",
       "      <td>V hrůze a krvi zrozeni by Kevin Wulfric Scherrer</td>\n",
       "      <td>3.46</td>\n",
       "      <td>13.0</td>\n",
       "      <td>1.0</td>\n",
       "      <td>January 25, 2023</td>\n",
       "      <td>Kevin Wulfric Scherrer</td>\n",
       "      <td>9788027721405</td>\n",
       "    </tr>\n",
       "    <tr>\n",
       "      <th>15817</th>\n",
       "      <td>9.788024e+12</td>\n",
       "      <td>2024-09-02 03:54:13</td>\n",
       "      <td>Ve škole i za školou by Alena Mornštajnová</td>\n",
       "      <td>3.81</td>\n",
       "      <td>16.0</td>\n",
       "      <td>0.0</td>\n",
       "      <td>January 1, 2023</td>\n",
       "      <td>Alena Mornštajnová</td>\n",
       "      <td>9788024288826</td>\n",
       "    </tr>\n",
       "  </tbody>\n",
       "</table>\n",
       "<p>15818 rows × 9 columns</p>\n",
       "</div>"
      ],
      "text/plain": [
       "            GR_isbn             GR_date  \\\n",
       "0      9.788024e+12 2024-04-01 14:11:25   \n",
       "1      9.788088e+12 2024-04-01 14:11:30   \n",
       "2      9.788073e+12 2024-04-01 14:11:34   \n",
       "3      9.788091e+12 2024-04-01 14:11:37   \n",
       "4      9.788076e+12 2024-04-01 14:11:43   \n",
       "...             ...                 ...   \n",
       "15813  9.788025e+12 2024-09-02 03:54:03   \n",
       "15814  9.788072e+12 2024-09-02 03:54:06   \n",
       "15815  9.788026e+12 2024-09-02 03:54:08   \n",
       "15816  9.788028e+12 2024-09-02 03:54:10   \n",
       "15817  9.788024e+12 2024-09-02 03:54:13   \n",
       "\n",
       "                                                GR_title  GR_rating  \\\n",
       "0                               Sochař by Artur Janoušek       2.00   \n",
       "1      I smutek byl jen sen. Poezie Josefa Kocourka b...       4.00   \n",
       "2                        Hranice zvrhlosti by Jan  Urban       3.29   \n",
       "3      Z pera knihomolů: 11 povídek od českých a slov...       3.86   \n",
       "4      Stará béčková legenda (Stará béčková legenda, ...       4.21   \n",
       "...                                                  ...        ...   \n",
       "15813                     Trnitá kletba by Anežka Kočová       4.07   \n",
       "15814                   Zuta a svlečena by Milan Ohnisko       4.00   \n",
       "15815                Pod Kaštanem by Barbora Majchráková       3.00   \n",
       "15816   V hrůze a krvi zrozeni by Kevin Wulfric Scherrer       3.46   \n",
       "15817         Ve škole i za školou by Alena Mornštajnová       3.81   \n",
       "\n",
       "       GR_ratings_count  GR_reviews      GR_published               autorstvo  \\\n",
       "0                   2.0         1.0   January 1, 2023          Artur Janoušek   \n",
       "1                   1.0         0.0   January 1, 2023          Josef Kocourek   \n",
       "2                  14.0         3.0      May 15, 2023              Jan  Urban   \n",
       "3                 140.0        29.0    March 31, 2023          Eliška Hronová   \n",
       "4                  19.0         6.0     April 3, 2023          Shigor Birdman   \n",
       "...                 ...         ...               ...                     ...   \n",
       "15813              75.0        18.0   August 31, 2023           Anežka Kočová   \n",
       "15814               5.0         0.0   January 1, 2023           Milan Ohnisko   \n",
       "15815               6.0         2.0     June 15, 2023     Barbora Majchráková   \n",
       "15816              13.0         1.0  January 25, 2023  Kevin Wulfric Scherrer   \n",
       "15817              16.0         0.0   January 1, 2023      Alena Mornštajnová   \n",
       "\n",
       "                isbn  \n",
       "0      9788024289472  \n",
       "1      9788088367291  \n",
       "2      9788072529704  \n",
       "3      9788090837690  \n",
       "4      9788075884374  \n",
       "...              ...  \n",
       "15813  9788025363850  \n",
       "15814  9788072278879  \n",
       "15815  9788025741528  \n",
       "15816  9788027721405  \n",
       "15817  9788024288826  \n",
       "\n",
       "[15818 rows x 9 columns]"
      ]
     },
     "execution_count": 258,
     "metadata": {},
     "output_type": "execute_result"
    }
   ],
   "source": [
    "gr"
   ]
  },
  {
   "cell_type": "code",
   "execution_count": 295,
   "id": "39319fe5",
   "metadata": {},
   "outputs": [],
   "source": [
    "prvni = gr.groupby('GR_title')['GR_date'].min()\n",
    "prvni = prvni[prvni < '2024-04-22']\n",
    "prvni = prvni.index.to_list()"
   ]
  },
  {
   "cell_type": "code",
   "execution_count": 296,
   "id": "463cc27b",
   "metadata": {},
   "outputs": [
    {
     "data": {
      "text/html": [
       "<div>\n",
       "<style scoped>\n",
       "    .dataframe tbody tr th:only-of-type {\n",
       "        vertical-align: middle;\n",
       "    }\n",
       "\n",
       "    .dataframe tbody tr th {\n",
       "        vertical-align: top;\n",
       "    }\n",
       "\n",
       "    .dataframe thead th {\n",
       "        text-align: right;\n",
       "    }\n",
       "</style>\n",
       "<table border=\"1\" class=\"dataframe\">\n",
       "  <thead>\n",
       "    <tr style=\"text-align: right;\">\n",
       "      <th></th>\n",
       "      <th>GR_date</th>\n",
       "      <th>GR_title</th>\n",
       "      <th>GR_rating</th>\n",
       "      <th>GR_ratings_count</th>\n",
       "    </tr>\n",
       "  </thead>\n",
       "  <tbody>\n",
       "    <tr>\n",
       "      <th>3372</th>\n",
       "      <td>2024-04-22 02:22:38</td>\n",
       "      <td>Domeček pro panenky by Ivan Wernisch</td>\n",
       "      <td>0.00</td>\n",
       "      <td>0.0</td>\n",
       "    </tr>\n",
       "    <tr>\n",
       "      <th>3663</th>\n",
       "      <td>2024-04-29 02:00:07</td>\n",
       "      <td>Boží potměšilost by Zdeněk Řehák</td>\n",
       "      <td>2.00</td>\n",
       "      <td>1.0</td>\n",
       "    </tr>\n",
       "    <tr>\n",
       "      <th>3785</th>\n",
       "      <td>2024-04-29 02:08:35</td>\n",
       "      <td>Velice dlouhé schody (Ota Fink, #9) by Jarosla...</td>\n",
       "      <td>4.33</td>\n",
       "      <td>9.0</td>\n",
       "    </tr>\n",
       "    <tr>\n",
       "      <th>3893</th>\n",
       "      <td>2024-04-29 02:21:26</td>\n",
       "      <td>Starý paní mají v ústech porcelán by Monika Ti...</td>\n",
       "      <td>3.00</td>\n",
       "      <td>1.0</td>\n",
       "    </tr>\n",
       "    <tr>\n",
       "      <th>3909</th>\n",
       "      <td>2024-04-29 02:22:16</td>\n",
       "      <td>Domeček pro panenky by Ivan Wernisch</td>\n",
       "      <td>5.00</td>\n",
       "      <td>1.0</td>\n",
       "    </tr>\n",
       "    <tr>\n",
       "      <th>...</th>\n",
       "      <td>...</td>\n",
       "      <td>...</td>\n",
       "      <td>...</td>\n",
       "      <td>...</td>\n",
       "    </tr>\n",
       "    <tr>\n",
       "      <th>15788</th>\n",
       "      <td>2024-09-02 03:52:55</td>\n",
       "      <td>Cesta dvou, Afrika by Tom Jurka</td>\n",
       "      <td>5.00</td>\n",
       "      <td>5.0</td>\n",
       "    </tr>\n",
       "    <tr>\n",
       "      <th>15797</th>\n",
       "      <td>2024-09-02 03:53:24</td>\n",
       "      <td>Jitřní záře by Dan Wlodarzcyk</td>\n",
       "      <td>3.00</td>\n",
       "      <td>1.0</td>\n",
       "    </tr>\n",
       "    <tr>\n",
       "      <th>15803</th>\n",
       "      <td>2024-09-02 03:53:38</td>\n",
       "      <td>Ještě jeden level by Ondřej Trhoň</td>\n",
       "      <td>4.43</td>\n",
       "      <td>21.0</td>\n",
       "    </tr>\n",
       "    <tr>\n",
       "      <th>15809</th>\n",
       "      <td>2024-09-02 03:53:54</td>\n",
       "      <td>…a přeskočila jiskra by Halina Pawlowská</td>\n",
       "      <td>0.00</td>\n",
       "      <td>0.0</td>\n",
       "    </tr>\n",
       "    <tr>\n",
       "      <th>15812</th>\n",
       "      <td>2024-09-02 03:54:00</td>\n",
       "      <td>Krajina roztavených zvonů by Jan Štifter</td>\n",
       "      <td>4.04</td>\n",
       "      <td>47.0</td>\n",
       "    </tr>\n",
       "  </tbody>\n",
       "</table>\n",
       "<p>2118 rows × 4 columns</p>\n",
       "</div>"
      ],
      "text/plain": [
       "                  GR_date                                           GR_title  \\\n",
       "3372  2024-04-22 02:22:38               Domeček pro panenky by Ivan Wernisch   \n",
       "3663  2024-04-29 02:00:07                   Boží potměšilost by Zdeněk Řehák   \n",
       "3785  2024-04-29 02:08:35  Velice dlouhé schody (Ota Fink, #9) by Jarosla...   \n",
       "3893  2024-04-29 02:21:26  Starý paní mají v ústech porcelán by Monika Ti...   \n",
       "3909  2024-04-29 02:22:16               Domeček pro panenky by Ivan Wernisch   \n",
       "...                   ...                                                ...   \n",
       "15788 2024-09-02 03:52:55                    Cesta dvou, Afrika by Tom Jurka   \n",
       "15797 2024-09-02 03:53:24                      Jitřní záře by Dan Wlodarzcyk   \n",
       "15803 2024-09-02 03:53:38                  Ještě jeden level by Ondřej Trhoň   \n",
       "15809 2024-09-02 03:53:54           …a přeskočila jiskra by Halina Pawlowská   \n",
       "15812 2024-09-02 03:54:00           Krajina roztavených zvonů by Jan Štifter   \n",
       "\n",
       "       GR_rating  GR_ratings_count  \n",
       "3372        0.00               0.0  \n",
       "3663        2.00               1.0  \n",
       "3785        4.33               9.0  \n",
       "3893        3.00               1.0  \n",
       "3909        5.00               1.0  \n",
       "...          ...               ...  \n",
       "15788       5.00               5.0  \n",
       "15797       3.00               1.0  \n",
       "15803       4.43              21.0  \n",
       "15809       0.00               0.0  \n",
       "15812       4.04              47.0  \n",
       "\n",
       "[2118 rows x 4 columns]"
      ]
     },
     "execution_count": 296,
     "metadata": {},
     "output_type": "execute_result"
    }
   ],
   "source": [
    "pocitaci_zaklad = gr[~gr['GR_title'].isin(prvni)][['GR_date','GR_title','GR_rating','GR_ratings_count']].sort_values(by='GR_date')\n",
    "pocitaci_zaklad"
   ]
  },
  {
   "cell_type": "code",
   "execution_count": 313,
   "id": "05ff87c9",
   "metadata": {},
   "outputs": [],
   "source": [
    "pocitaci_zaklad['tydnu'] = pocitaci_zaklad.groupby('GR_title').cumcount() + 1"
   ]
  },
  {
   "cell_type": "code",
   "execution_count": 314,
   "id": "2e1cda41",
   "metadata": {},
   "outputs": [
    {
     "data": {
      "text/html": [
       "<div>\n",
       "<style scoped>\n",
       "    .dataframe tbody tr th:only-of-type {\n",
       "        vertical-align: middle;\n",
       "    }\n",
       "\n",
       "    .dataframe tbody tr th {\n",
       "        vertical-align: top;\n",
       "    }\n",
       "\n",
       "    .dataframe thead th {\n",
       "        text-align: right;\n",
       "    }\n",
       "</style>\n",
       "<table border=\"1\" class=\"dataframe\">\n",
       "  <thead>\n",
       "    <tr style=\"text-align: right;\">\n",
       "      <th></th>\n",
       "      <th>GR_date</th>\n",
       "      <th>GR_title</th>\n",
       "      <th>GR_rating</th>\n",
       "      <th>GR_ratings_count</th>\n",
       "      <th>tydnu</th>\n",
       "    </tr>\n",
       "  </thead>\n",
       "  <tbody>\n",
       "    <tr>\n",
       "      <th>3372</th>\n",
       "      <td>2024-04-22 02:22:38</td>\n",
       "      <td>Domeček pro panenky by Ivan Wernisch</td>\n",
       "      <td>0.00</td>\n",
       "      <td>0.0</td>\n",
       "      <td>1</td>\n",
       "    </tr>\n",
       "    <tr>\n",
       "      <th>11516</th>\n",
       "      <td>2024-07-22 03:31:08</td>\n",
       "      <td>Komanda Omega (Centrální impérium: Omega, #1) ...</td>\n",
       "      <td>4.00</td>\n",
       "      <td>3.0</td>\n",
       "      <td>1</td>\n",
       "    </tr>\n",
       "    <tr>\n",
       "      <th>11520</th>\n",
       "      <td>2024-07-22 03:31:20</td>\n",
       "      <td>Svět v mé hlavě by Valentýna Coufalová</td>\n",
       "      <td>0.00</td>\n",
       "      <td>0.0</td>\n",
       "      <td>1</td>\n",
       "    </tr>\n",
       "    <tr>\n",
       "      <th>6726</th>\n",
       "      <td>2024-06-03 02:47:18</td>\n",
       "      <td>Cokoli píšu by Vladimir Vokolek</td>\n",
       "      <td>0.00</td>\n",
       "      <td>0.0</td>\n",
       "      <td>1</td>\n",
       "    </tr>\n",
       "    <tr>\n",
       "      <th>6732</th>\n",
       "      <td>2024-06-03 02:47:38</td>\n",
       "      <td>Řeka pod hladinou: vědomím proti času by Pavel...</td>\n",
       "      <td>0.00</td>\n",
       "      <td>0.0</td>\n",
       "      <td>1</td>\n",
       "    </tr>\n",
       "    <tr>\n",
       "      <th>...</th>\n",
       "      <td>...</td>\n",
       "      <td>...</td>\n",
       "      <td>...</td>\n",
       "      <td>...</td>\n",
       "      <td>...</td>\n",
       "    </tr>\n",
       "    <tr>\n",
       "      <th>15763</th>\n",
       "      <td>2024-09-02 03:51:35</td>\n",
       "      <td>Velice dlouhé schody (Ota Fink, #9) by Jarosla...</td>\n",
       "      <td>4.36</td>\n",
       "      <td>14.0</td>\n",
       "      <td>19</td>\n",
       "    </tr>\n",
       "    <tr>\n",
       "      <th>15269</th>\n",
       "      <td>2024-09-02 02:58:03</td>\n",
       "      <td>Čemu a proč se smějeme? by Slavoj Titul</td>\n",
       "      <td>3.67</td>\n",
       "      <td>3.0</td>\n",
       "      <td>19</td>\n",
       "    </tr>\n",
       "    <tr>\n",
       "      <th>15164</th>\n",
       "      <td>2024-09-02 02:23:36</td>\n",
       "      <td>Psychologie pro každý den aneb Co nás ve škole...</td>\n",
       "      <td>0.00</td>\n",
       "      <td>0.0</td>\n",
       "      <td>19</td>\n",
       "    </tr>\n",
       "    <tr>\n",
       "      <th>15726</th>\n",
       "      <td>2024-09-02 03:49:19</td>\n",
       "      <td>Starý paní mají v ústech porcelán by Monika Ti...</td>\n",
       "      <td>3.00</td>\n",
       "      <td>2.0</td>\n",
       "      <td>19</td>\n",
       "    </tr>\n",
       "    <tr>\n",
       "      <th>15774</th>\n",
       "      <td>2024-09-02 03:52:14</td>\n",
       "      <td>Domeček pro panenky by Ivan Wernisch</td>\n",
       "      <td>5.00</td>\n",
       "      <td>1.0</td>\n",
       "      <td>20</td>\n",
       "    </tr>\n",
       "  </tbody>\n",
       "</table>\n",
       "<p>2118 rows × 5 columns</p>\n",
       "</div>"
      ],
      "text/plain": [
       "                  GR_date                                           GR_title  \\\n",
       "3372  2024-04-22 02:22:38               Domeček pro panenky by Ivan Wernisch   \n",
       "11516 2024-07-22 03:31:08  Komanda Omega (Centrální impérium: Omega, #1) ...   \n",
       "11520 2024-07-22 03:31:20             Svět v mé hlavě by Valentýna Coufalová   \n",
       "6726  2024-06-03 02:47:18                    Cokoli píšu by Vladimir Vokolek   \n",
       "6732  2024-06-03 02:47:38  Řeka pod hladinou: vědomím proti času by Pavel...   \n",
       "...                   ...                                                ...   \n",
       "15763 2024-09-02 03:51:35  Velice dlouhé schody (Ota Fink, #9) by Jarosla...   \n",
       "15269 2024-09-02 02:58:03            Čemu a proč se smějeme? by Slavoj Titul   \n",
       "15164 2024-09-02 02:23:36  Psychologie pro každý den aneb Co nás ve škole...   \n",
       "15726 2024-09-02 03:49:19  Starý paní mají v ústech porcelán by Monika Ti...   \n",
       "15774 2024-09-02 03:52:14               Domeček pro panenky by Ivan Wernisch   \n",
       "\n",
       "       GR_rating  GR_ratings_count  tydnu  \n",
       "3372        0.00               0.0      1  \n",
       "11516       4.00               3.0      1  \n",
       "11520       0.00               0.0      1  \n",
       "6726        0.00               0.0      1  \n",
       "6732        0.00               0.0      1  \n",
       "...          ...               ...    ...  \n",
       "15763       4.36              14.0     19  \n",
       "15269       3.67               3.0     19  \n",
       "15164       0.00               0.0     19  \n",
       "15726       3.00               2.0     19  \n",
       "15774       5.00               1.0     20  \n",
       "\n",
       "[2118 rows x 5 columns]"
      ]
     },
     "execution_count": 314,
     "metadata": {},
     "output_type": "execute_result"
    }
   ],
   "source": [
    "pocitaci_zaklad.sort_values(by=\"tydnu\")"
   ]
  },
  {
   "cell_type": "code",
   "execution_count": 315,
   "id": "be83c913",
   "metadata": {},
   "outputs": [
    {
     "data": {
      "text/plain": [
       "<Axes: xlabel='tydnu'>"
      ]
     },
     "execution_count": 315,
     "metadata": {},
     "output_type": "execute_result"
    },
    {
     "data": {
      "image/png": "[encoded data removed]",
      "text/plain": [
       "<Figure size 640x480 with 1 Axes>"
      ]
     },
     "metadata": {},
     "output_type": "display_data"
    }
   ],
   "source": [
    "pocitaci_zaklad.groupby('tydnu')['GR_ratings_count'].mean().plot.bar()"
   ]
  },
  {
   "cell_type": "code",
   "execution_count": 316,
   "id": "ecdbc3c1",
   "metadata": {},
   "outputs": [
    {
     "data": {
      "text/plain": [
       "<Axes: xlabel='tydnu'>"
      ]
     },
     "execution_count": 316,
     "metadata": {},
     "output_type": "execute_result"
    },
    {
     "data": {
      "image/png": "[encoded data removed]",
      "text/plain": [
       "<Figure size 640x480 with 1 Axes>"
      ]
     },
     "metadata": {},
     "output_type": "display_data"
    }
   ],
   "source": [
    "pocitaci_zaklad.groupby('tydnu')['GR_rating'].median().plot.bar()"
   ]
  },
  {
   "cell_type": "code",
   "execution_count": 276,
   "id": "43dd4c0d",
   "metadata": {},
   "outputs": [],
   "source": [
    "import matplotlib.pyplot as plt\n"
   ]
  },
  {
   "cell_type": "code",
   "execution_count": 277,
   "id": "1fbb8efc",
   "metadata": {},
   "outputs": [
    {
     "data": {
      "text/plain": [
       "<Axes: title={'center': 'GR_ratings_count'}, xlabel='tydnu'>"
      ]
     },
     "execution_count": 277,
     "metadata": {},
     "output_type": "execute_result"
    },
    {
     "data": {
      "image/png": "[encoded data removed]",
      "text/plain": [
       "<Figure size 640x480 with 1 Axes>"
      ]
     },
     "metadata": {},
     "output_type": "display_data"
    }
   ],
   "source": [
    "pocitaci_zaklad.boxplot(column='GR_ratings_count', by='tydnu')"
   ]
  },
  {
   "cell_type": "markdown",
   "id": "00ef5a27",
   "metadata": {},
   "source": [
    "## Databáze knih"
   ]
  },
  {
   "cell_type": "code",
   "execution_count": 282,
   "id": "d189895d",
   "metadata": {},
   "outputs": [],
   "source": [
    "dk = pd.read_csv(os.path.join(\"data\",\"databazeknih-hodnoceni.csv\"))"
   ]
  },
  {
   "cell_type": "code",
   "execution_count": 283,
   "id": "8ca4c7bf",
   "metadata": {},
   "outputs": [
    {
     "data": {
      "text/plain": [
       "33384"
      ]
     },
     "execution_count": 283,
     "metadata": {},
     "output_type": "execute_result"
    }
   ],
   "source": [
    "len(dk)"
   ]
  },
  {
   "cell_type": "code",
   "execution_count": 284,
   "id": "125b3820",
   "metadata": {},
   "outputs": [
    {
     "data": {
      "text/plain": [
       "33384"
      ]
     },
     "execution_count": 284,
     "metadata": {},
     "output_type": "execute_result"
    }
   ],
   "source": [
    "len(dk.drop_duplicates())"
   ]
  },
  {
   "cell_type": "code",
   "execution_count": 285,
   "id": "e8cd52a3",
   "metadata": {
    "scrolled": true
   },
   "outputs": [
    {
     "data": {
      "text/plain": [
       "'2024-09-02 04:09:25'"
      ]
     },
     "execution_count": 285,
     "metadata": {},
     "output_type": "execute_result"
    }
   ],
   "source": [
    "dk['DK_date'].max()"
   ]
  },
  {
   "cell_type": "code",
   "execution_count": 286,
   "id": "890dd758",
   "metadata": {
    "scrolled": true
   },
   "outputs": [
    {
     "data": {
      "text/plain": [
       "Index(['DK_isbn', 'DK_date', 'DK_titul', 'DK_rating', 'DK_ratings_count',\n",
       "       'DK_tags', 'DK_Právě_čtených', 'DK_Přečtených', 'DK_Čtenářské_výzvě',\n",
       "       'DK_Knihotéce', 'DK_Chystám_se_číst', 'DK_Chci_si_koupit',\n",
       "       'DK_dalších_seznamech', 'DK_Doporučených'],\n",
       "      dtype='object')"
      ]
     },
     "execution_count": 286,
     "metadata": {},
     "output_type": "execute_result"
    }
   ],
   "source": [
    "dk.columns"
   ]
  },
  {
   "cell_type": "code",
   "execution_count": 302,
   "id": "a6500e7e",
   "metadata": {},
   "outputs": [],
   "source": [
    "dk_nove = dk[dk['DK_date'] < '2024-04-22']['DK_titul'].drop_duplicates().to_list()\n",
    "dk_nove = dk[~dk['DK_titul'].isin(dk_nove)]"
   ]
  },
  {
   "cell_type": "code",
   "execution_count": 303,
   "id": "aebefb97",
   "metadata": {},
   "outputs": [],
   "source": [
    "pocitame_dk = dk_nove[['DK_titul','DK_date','DK_rating','DK_ratings_count','DK_Chystám_se_číst']]"
   ]
  },
  {
   "cell_type": "code",
   "execution_count": 304,
   "id": "298dd053",
   "metadata": {},
   "outputs": [
    {
     "name": "stderr",
     "output_type": "stream",
     "text": [
      "C:\\Users\\micha\\AppData\\Local\\Temp\\ipykernel_27244\\4289471237.py:1: SettingWithCopyWarning: \n",
      "A value is trying to be set on a copy of a slice from a DataFrame.\n",
      "Try using .loc[row_indexer,col_indexer] = value instead\n",
      "\n",
      "See the caveats in the documentation: https://pandas.pydata.org/pandas-docs/stable/user_guide/indexing.html#returning-a-view-versus-a-copy\n",
      "  pocitame_dk['tydnu'] = pocitame_dk.groupby('DK_titul').cumcount() + 1\n"
     ]
    }
   ],
   "source": [
    "pocitame_dk['tydnu'] = pocitame_dk.groupby('DK_titul').cumcount() + 1"
   ]
  },
  {
   "cell_type": "code",
   "execution_count": 309,
   "id": "35061eeb",
   "metadata": {},
   "outputs": [
    {
     "data": {
      "text/plain": [
       "<Axes: xlabel='tydnu'>"
      ]
     },
     "execution_count": 309,
     "metadata": {},
     "output_type": "execute_result"
    },
    {
     "data": {
      "image/png": "[encoded data removed]",
      "text/plain": [
       "<Figure size 640x480 with 1 Axes>"
      ]
     },
     "metadata": {},
     "output_type": "display_data"
    }
   ],
   "source": [
    "pocitame_dk.groupby('tydnu')['DK_Chystám_se_číst'].median().plot.bar()"
   ]
  },
  {
   "cell_type": "code",
   "execution_count": 308,
   "id": "7b0e9c2e",
   "metadata": {},
   "outputs": [
    {
     "data": {
      "text/plain": [
       "<Axes: xlabel='tydnu'>"
      ]
     },
     "execution_count": 308,
     "metadata": {},
     "output_type": "execute_result"
    },
    {
     "data": {
      "image/png": "[encoded data removed]",
      "text/plain": [
       "<Figure size 640x480 with 1 Axes>"
      ]
     },
     "metadata": {},
     "output_type": "display_data"
    }
   ],
   "source": [
    "pocitame_dk.groupby('tydnu')['DK_rating'].median().plot.bar()"
   ]
  },
  {
   "cell_type": "code",
   "execution_count": 287,
   "id": "f0f3e30c",
   "metadata": {},
   "outputs": [],
   "source": [
    "gr['autorstvo'] = gr['GR_title'].apply(lambda x: x.split(' by ')[1].strip())"
   ]
  },
  {
   "cell_type": "code",
   "execution_count": 288,
   "id": "70da87e6",
   "metadata": {},
   "outputs": [
    {
     "data": {
      "text/plain": [
       "0                Artur Janoušek\n",
       "1                Josef Kocourek\n",
       "2                    Jan  Urban\n",
       "3                Eliška Hronová\n",
       "4                Shigor Birdman\n",
       "                  ...          \n",
       "15813             Anežka Kočová\n",
       "15814             Milan Ohnisko\n",
       "15815       Barbora Majchráková\n",
       "15816    Kevin Wulfric Scherrer\n",
       "15817        Alena Mornštajnová\n",
       "Name: autorstvo, Length: 15818, dtype: object"
      ]
     },
     "execution_count": 288,
     "metadata": {},
     "output_type": "execute_result"
    }
   ],
   "source": [
    "gr['autorstvo']"
   ]
  },
  {
   "cell_type": "code",
   "execution_count": 170,
   "id": "2cf4b278",
   "metadata": {},
   "outputs": [],
   "source": [
    "import numpy as np"
   ]
  },
  {
   "cell_type": "code",
   "execution_count": 171,
   "id": "a0444868",
   "metadata": {},
   "outputs": [],
   "source": [
    "df = pd.read_json(os.path.join(\"data\",\"martinus_vyslo.json\"))"
   ]
  },
  {
   "cell_type": "code",
   "execution_count": 172,
   "id": "28c0316e",
   "metadata": {},
   "outputs": [],
   "source": [
    "df['isbn'] = df['M_isbn'].astype(str)\n",
    "dk['isbn'] = dk['DK_isbn'].astype(str).apply(lambda x: x.replace(\".0\",\"\"))"
   ]
  },
  {
   "cell_type": "code",
   "execution_count": 173,
   "id": "ac4c0cac",
   "metadata": {},
   "outputs": [],
   "source": [
    "dk['skore'] = dk['DK_Chystám_se_číst'] + dk['DK_Přečtených']"
   ]
  },
  {
   "cell_type": "code",
   "execution_count": 174,
   "id": "66037ed5",
   "metadata": {},
   "outputs": [
    {
     "data": {
      "text/plain": [
       "Index(['DK_isbn', 'DK_date', 'DK_titul', 'DK_tags', 'DK_Knihotéce',\n",
       "       'DK_Chystám_se_číst', 'DK_Chci_si_koupit', 'DK_rating',\n",
       "       'DK_ratings_count', 'DK_Přečtených', 'DK_Čtenářské_výzvě',\n",
       "       'DK_dalších_seznamech', 'DK_Právě_čtených', 'DK_Doporučených', 'isbn',\n",
       "       'skore'],\n",
       "      dtype='object')"
      ]
     },
     "execution_count": 174,
     "metadata": {},
     "output_type": "execute_result"
    }
   ],
   "source": [
    "dk.columns"
   ]
  },
  {
   "cell_type": "code",
   "execution_count": 175,
   "id": "42419bd2",
   "metadata": {},
   "outputs": [
    {
     "data": {
      "text/plain": [
       "Index(['M_titul', 'M_autorstvo', 'M_anotace', 'M_počet_stran', 'M_vazba',\n",
       "       'M_rozměr', 'M_hmotnost', 'M_isbn', 'M_rok_vydání', 'M_jazyk',\n",
       "       'M_původ', 'M_nakladatel', 'M_kategorizace', 'M_cena', 'M_datum',\n",
       "       'M_série', 'M_díl', 'M_edice', 'M_pro_koho', 'M_e-kniha', 'M_přečtená',\n",
       "       'M_věkové_doporučení', 'M_styl', 'M_ilustrace', 'M_účel_knihy',\n",
       "       'M_audiokniha', 'M_vydání', 'M_originální_název', 'M_překlad',\n",
       "       'M_ostatní', 'M_předběžné_datum_vydání', 'M_příloha',\n",
       "       'M_jazyková_úroveň', 'M_knižní_předloha', 'isbn'],\n",
       "      dtype='object')"
      ]
     },
     "execution_count": 175,
     "metadata": {},
     "output_type": "execute_result"
    }
   ],
   "source": [
    "df.columns"
   ]
  },
  {
   "cell_type": "markdown",
   "id": "fbb3eea3",
   "metadata": {},
   "source": [
    "### Nejvíce nových hodnocení od dubna '24"
   ]
  },
  {
   "cell_type": "code",
   "execution_count": 176,
   "id": "1565e35d",
   "metadata": {},
   "outputs": [
    {
     "data": {
      "text/plain": [
       "0                     Tomáš Pospiszyl\n",
       "1                       Eduardo Duran\n",
       "2                                None\n",
       "3        Alena Vančurová Hana Zídková\n",
       "4                         Lukáš Bujna\n",
       "                     ...             \n",
       "11709                    Martin Odler\n",
       "11710                    Jakub Klikar\n",
       "11711               Dominika Prejdová\n",
       "11712                   Martin Reiner\n",
       "11713                Vladimír Paleček\n",
       "Name: M_autorstvo, Length: 11654, dtype: object"
      ]
     },
     "execution_count": 176,
     "metadata": {},
     "output_type": "execute_result"
    }
   ],
   "source": [
    "df['M_autorstvo']"
   ]
  },
  {
   "cell_type": "code",
   "execution_count": 177,
   "id": "b3587968",
   "metadata": {},
   "outputs": [],
   "source": [
    "def hezky_titul(row):\n",
    "    try:\n",
    "        autorstvo = df[df['isbn'] == row['isbn']]['M_autorstvo'].drop_duplicates().to_list()[0]\n",
    "        return f\"\"\"{autorstvo}: {row['DK_titul']}\"\"\"\n",
    "    except:\n",
    "        return f\"\"\"?: {row['DK_titul']}\"\"\""
   ]
  },
  {
   "cell_type": "code",
   "execution_count": 178,
   "id": "2f1f8ada",
   "metadata": {},
   "outputs": [],
   "source": [
    "dk['hezky_titul'] = dk.apply(lambda row: hezky_titul(row), axis=1)"
   ]
  },
  {
   "cell_type": "code",
   "execution_count": 179,
   "id": "206e6667",
   "metadata": {},
   "outputs": [
    {
     "data": {
      "text/plain": [
       "hezky_titul\n",
       "Karin Lednická: Šikmý kostel 3                  489.0\n",
       "Kristýna Trpková: Někdo z nás                   346.0\n",
       "Patrik Hartl: Gazely                            334.0\n",
       "Nina Špitálníková: Severka                      303.0\n",
       "?: Odvaha                                       250.0\n",
       "Petra Klabouchová: U severní zdi                222.0\n",
       "Pavlína Křivánková: Chalupa                     195.0\n",
       "Petra Dvořáková: Pláňata                        185.0\n",
       "Marek Torčík: Rozložíš paměť                    182.0\n",
       "Jakub Stanjura: Srpny                           145.0\n",
       "Leoš Kyša: Sudetenland                          136.0\n",
       "Michaela Klevisová: Vraní oko                   130.0\n",
       "Štěpán Javůrek: Sudetský dům II: Podzim 1947    129.0\n",
       "Radka Třeštíková: Kde jsi, když nejsi           126.0\n",
       "Hana Marie Kornerová: Heřmánkové údolí          125.0\n",
       "Tereza Bartošová: Klekánice                     112.0\n",
       "Kristýna Trpková: Vetřelec                      109.0\n",
       "Tereza Bartošová Dvořáková: Vodník              107.0\n",
       "Jarmila Stráníková: Balada pro Emily            105.0\n",
       "Klára Vlasáková: Těla                            92.0\n",
       "Name: DK_ratings_count, dtype: float64"
      ]
     },
     "execution_count": 179,
     "metadata": {},
     "output_type": "execute_result"
    }
   ],
   "source": [
    "pd.Series(dk.groupby(\"hezky_titul\")['DK_ratings_count'].max() - dk.groupby(\"hezky_titul\")['DK_ratings_count'].min()).nlargest(20)"
   ]
  },
  {
   "cell_type": "markdown",
   "id": "027c9390",
   "metadata": {},
   "source": [
    "### Poslední měsíc"
   ]
  },
  {
   "cell_type": "code",
   "execution_count": 180,
   "id": "8671a00a",
   "metadata": {},
   "outputs": [
    {
     "data": {
      "text/plain": [
       "[]"
      ]
     },
     "execution_count": 180,
     "metadata": {},
     "output_type": "execute_result"
    }
   ],
   "source": [
    "dk_stare = dk[dk['DK_date'] < month_ago]['hezky_titul'].drop_duplicates().to_list()\n",
    "dk_nove = dk[~dk['hezky_titul'].isin(dk_stare)]['hezky_titul'].drop_duplicates().to_list()\n",
    "dk_nove"
   ]
  },
  {
   "cell_type": "code",
   "execution_count": 181,
   "id": "2384d756",
   "metadata": {},
   "outputs": [
    {
     "data": {
      "text/plain": [
       "hezky_titul\n",
       "?: 100+24 brněnských kuriozit, absurdit a bizarností                      NaN\n",
       "?: 3.7.1866                                                               NaN\n",
       "?: 30 hodin: Ověř nápad v rekordním čase a rozjeď vysněné podnikání       NaN\n",
       "?: 30 let polemiky o Evropě                                               NaN\n",
       "?: Alchymie poslání: 71 příběhů odvahy a ženské síly                      NaN\n",
       "?: Amy's World                                                            NaN\n",
       "?: Anna Svídnická: Krásná Anna – nečekaná láska Karla IV.                 NaN\n",
       "?: Antis: Psí hrdina                                                      NaN\n",
       "?: Atlas rostlin                                                          NaN\n",
       "?: Baron Trenck: Až na hranici pekel                                      NaN\n",
       "?: Bláznivé rodičovství                                                   NaN\n",
       "?: Bubeneč / Dejvice: Siamská dvojčata pražského severozápadu             NaN\n",
       "?: Cesta dvou: Afrika                                                     NaN\n",
       "?: Chantal: Život na kolotoči                                             NaN\n",
       "?: Chrám Azylu                                                            NaN\n",
       "?: Chráním Tě                                                             NaN\n",
       "?: Cucat vnitřní mňau                                                     NaN\n",
       "?: Deník holky z lékárny 2                                                NaN\n",
       "?: Deset deka hladké mouky – haiku                                        NaN\n",
       "?: Divoká Afrika                                                          NaN\n",
       "?: Doznívající středověk: Klíč k podobě České koruny raného novověku      NaN\n",
       "?: Dočkej času jako Husák listopadu: Únor rudý, národ chudý               NaN\n",
       "?: Druhý dech                                                             NaN\n",
       "?: Dva v šinkansenu                                                       NaN\n",
       "?: Endometrióza v otázkách a odpovědích                                   NaN\n",
       "?: Error                                                                  NaN\n",
       "?: Etologie: Mechanismy, ontogeneze, funkce a evoluce chování živočichů   NaN\n",
       "?: Florencie, moje (sebe)láska                                            NaN\n",
       "?: Francouzské příběhy a humoresky                                        NaN\n",
       "?: Friedrich řečený Bedřich                                               NaN\n",
       "Name: skore, dtype: float64"
      ]
     },
     "execution_count": 181,
     "metadata": {},
     "output_type": "execute_result"
    }
   ],
   "source": [
    "dk_mesic_celkem = pd.Series(dk.groupby(\"hezky_titul\")['skore'].max() - dk[dk['DK_date'] > month_ago].groupby(\"hezky_titul\")['skore'].min()).sort_values(ascending=False)\n",
    "dk_mesic_celkem.nlargest(30)"
   ]
  },
  {
   "cell_type": "code",
   "execution_count": 182,
   "id": "a18c9c23",
   "metadata": {},
   "outputs": [],
   "source": [
    "def nakladatelstvi(isbn):\n",
    "    try:\n",
    "        return df[df['isbn'] == isbn]['M_nakladatel'].drop_duplicates().to_list()[0]\n",
    "    except:\n",
    "        return None"
   ]
  },
  {
   "cell_type": "code",
   "execution_count": 183,
   "id": "6b589d1a",
   "metadata": {},
   "outputs": [],
   "source": [
    "dk['nakladatel'] = dk['isbn'].apply(lambda x: nakladatelstvi(x))"
   ]
  },
  {
   "cell_type": "code",
   "execution_count": 184,
   "id": "d6a70174",
   "metadata": {},
   "outputs": [
    {
     "data": {
      "text/plain": [
       "13248               Pointa\n",
       "18816                 1400\n",
       "13664               Pointa\n",
       "8211              PsychArt\n",
       "988              Book Star\n",
       "9142                CPRESS\n",
       "10456              Olympia\n",
       "5142                  Argo\n",
       "7669         Books & Pipes\n",
       "18038               Pikola\n",
       "20464              Machart\n",
       "3750                 Klika\n",
       "17895                 Argo\n",
       "1603           Druhé město\n",
       "11517           Cosmopolis\n",
       "15786               Hejkal\n",
       "7579                 Klika\n",
       "15485    CZECH NEWS CENTER\n",
       "9840                  Moba\n",
       "5322            Slovart CZ\n",
       "Name: nakladatel, dtype: object"
      ]
     },
     "execution_count": 184,
     "metadata": {},
     "output_type": "execute_result"
    }
   ],
   "source": [
    "dk['nakladatel'].sample(20)"
   ]
  },
  {
   "cell_type": "code",
   "execution_count": 185,
   "id": "f636d23f",
   "metadata": {},
   "outputs": [
    {
     "data": {
      "text/plain": [
       "Series([], Name: DK_date, dtype: object)"
      ]
     },
     "execution_count": 185,
     "metadata": {},
     "output_type": "execute_result"
    }
   ],
   "source": [
    "dk[dk['DK_date'] > month_ago].groupby(['hezky_titul','nakladatel','skore'])['DK_date'].first()"
   ]
  },
  {
   "cell_type": "code",
   "execution_count": 186,
   "id": "5c79cebe",
   "metadata": {},
   "outputs": [
    {
     "data": {
      "text/plain": [
       "Series([], Name: skore, dtype: float64)"
      ]
     },
     "execution_count": 186,
     "metadata": {},
     "output_type": "execute_result"
    }
   ],
   "source": [
    "dk[dk['DK_date'] > month_ago].groupby(['hezky_titul','nakladatel'])['skore'].min()"
   ]
  },
  {
   "cell_type": "code",
   "execution_count": 187,
   "id": "27204752",
   "metadata": {},
   "outputs": [
    {
     "data": {
      "text/html": [
       "<div>\n",
       "<style scoped>\n",
       "    .dataframe tbody tr th:only-of-type {\n",
       "        vertical-align: middle;\n",
       "    }\n",
       "\n",
       "    .dataframe tbody tr th {\n",
       "        vertical-align: top;\n",
       "    }\n",
       "\n",
       "    .dataframe thead th {\n",
       "        text-align: right;\n",
       "    }\n",
       "</style>\n",
       "<table border=\"1\" class=\"dataframe\">\n",
       "  <thead>\n",
       "    <tr style=\"text-align: right;\">\n",
       "      <th></th>\n",
       "      <th></th>\n",
       "      <th>skore</th>\n",
       "    </tr>\n",
       "    <tr>\n",
       "      <th>hezky_titul</th>\n",
       "      <th>nakladatel</th>\n",
       "      <th></th>\n",
       "    </tr>\n",
       "  </thead>\n",
       "  <tbody>\n",
       "  </tbody>\n",
       "</table>\n",
       "</div>"
      ],
      "text/plain": [
       "Empty DataFrame\n",
       "Columns: [skore]\n",
       "Index: []"
      ]
     },
     "execution_count": 187,
     "metadata": {},
     "output_type": "execute_result"
    }
   ],
   "source": [
    "pd.DataFrame(dk[dk['DK_date'] > month_ago].groupby(['hezky_titul','nakladatel'])['skore'].max() - dk[dk['DK_date'] > month_ago].groupby(['hezky_titul','nakladatel'])['skore'].min())"
   ]
  },
  {
   "cell_type": "code",
   "execution_count": 188,
   "id": "ddd89698",
   "metadata": {},
   "outputs": [],
   "source": [
    "pribytek = pd.DataFrame(dk[dk['DK_date'] > month_ago].groupby(['hezky_titul','nakladatel'])['skore'].max() - dk[dk['DK_date'] > month_ago].groupby(['hezky_titul','nakladatel'])['skore'].min()).groupby('nakladatel').sum().reset_index().sum().iloc[1]"
   ]
  },
  {
   "cell_type": "code",
   "execution_count": 189,
   "id": "00ac5782",
   "metadata": {},
   "outputs": [
    {
     "data": {
      "text/html": [
       "<div>\n",
       "<style scoped>\n",
       "    .dataframe tbody tr th:only-of-type {\n",
       "        vertical-align: middle;\n",
       "    }\n",
       "\n",
       "    .dataframe tbody tr th {\n",
       "        vertical-align: top;\n",
       "    }\n",
       "\n",
       "    .dataframe thead th {\n",
       "        text-align: right;\n",
       "    }\n",
       "</style>\n",
       "<table border=\"1\" class=\"dataframe\">\n",
       "  <thead>\n",
       "    <tr style=\"text-align: right;\">\n",
       "      <th></th>\n",
       "      <th>nakladatel</th>\n",
       "      <th>podil</th>\n",
       "    </tr>\n",
       "  </thead>\n",
       "  <tbody>\n",
       "  </tbody>\n",
       "</table>\n",
       "</div>"
      ],
      "text/plain": [
       "Empty DataFrame\n",
       "Columns: [nakladatel, podil]\n",
       "Index: []"
      ]
     },
     "execution_count": 189,
     "metadata": {},
     "output_type": "execute_result"
    }
   ],
   "source": [
    "nakladatelstvo = pd.DataFrame(dk[dk['DK_date'] > month_ago].groupby(['hezky_titul','nakladatel'])['skore'].max() - dk[dk['DK_date'] > month_ago].groupby(['hezky_titul','nakladatel'])['skore'].min()).groupby('nakladatel').sum().reset_index()\n",
    "nakladatelstvo['podil'] = nakladatelstvo['skore'] / pribytek\n",
    "nakladatelstvo = nakladatelstvo[nakladatelstvo['podil'] >= 0.01]\n",
    "nakladatelstvo['podil'] = nakladatelstvo['podil'].apply(lambda x: f\"\"\"{round(x * 100, 1)} %\"\"\".replace(\".\", \",\"))\n",
    "nakladatelstvo = nakladatelstvo.sort_values(by='skore',ascending=False)\n",
    "nakladatelstvo = nakladatelstvo.drop(columns=['skore'])\n",
    "nakladatelstvo"
   ]
  },
  {
   "cell_type": "code",
   "execution_count": 190,
   "id": "866d176f",
   "metadata": {},
   "outputs": [
    {
     "data": {
      "text/plain": [
       "Index(['DK_isbn', 'DK_date', 'DK_titul', 'DK_tags', 'DK_Knihotéce',\n",
       "       'DK_Chystám_se_číst', 'DK_Chci_si_koupit', 'DK_rating',\n",
       "       'DK_ratings_count', 'DK_Přečtených', 'DK_Čtenářské_výzvě',\n",
       "       'DK_dalších_seznamech', 'DK_Právě_čtených', 'DK_Doporučených', 'isbn',\n",
       "       'skore', 'hezky_titul', 'nakladatel'],\n",
       "      dtype='object')"
      ]
     },
     "execution_count": 190,
     "metadata": {},
     "output_type": "execute_result"
    }
   ],
   "source": [
    "dk.columns"
   ]
  },
  {
   "cell_type": "code",
   "execution_count": 191,
   "id": "dc014445",
   "metadata": {},
   "outputs": [],
   "source": [
    "def koho_vydavaji(n):\n",
    "    top = dk[dk['nakladatel'] == n].groupby('hezky_titul')['DK_ratings_count'].max().nlargest(10).index.to_list()\n",
    "    top2 = [x.split(\":\")[0] for x in top if \"[\" not in x]\n",
    "    top2 = list(set(top2))\n",
    "    kolik = len(top2)\n",
    "    if kolik >= 3:\n",
    "        return top2[:3]\n",
    "    else:\n",
    "        return top2"
   ]
  },
  {
   "cell_type": "code",
   "execution_count": 192,
   "id": "575f80d7",
   "metadata": {},
   "outputs": [],
   "source": [
    "for index, row in nakladatelstvo.iterrows():\n",
    "    stars = koho_vydavaji(row['nakladatel'])\n",
    "    stars_kratce = [x.split(' ')[-1] for x in stars]\n",
    "    print(stars_kratce)"
   ]
  },
  {
   "cell_type": "code",
   "execution_count": 193,
   "id": "3276f0c5",
   "metadata": {},
   "outputs": [
    {
     "data": {
      "text/plain": [
       "Series([], Name: skore, dtype: float64)"
      ]
     },
     "execution_count": 193,
     "metadata": {},
     "output_type": "execute_result"
    }
   ],
   "source": [
    "dk[dk['DK_date'] > month_ago].groupby(['nakladatel','hezky_titul'])['skore'].max().nlargest(20)"
   ]
  },
  {
   "cell_type": "code",
   "execution_count": 194,
   "id": "e3c1ae34",
   "metadata": {
    "scrolled": true
   },
   "outputs": [
    {
     "data": {
      "text/html": [
       "<div>\n",
       "<style scoped>\n",
       "    .dataframe tbody tr th:only-of-type {\n",
       "        vertical-align: middle;\n",
       "    }\n",
       "\n",
       "    .dataframe tbody tr th {\n",
       "        vertical-align: top;\n",
       "    }\n",
       "\n",
       "    .dataframe thead th {\n",
       "        text-align: right;\n",
       "    }\n",
       "</style>\n",
       "<table border=\"1\" class=\"dataframe\">\n",
       "  <thead>\n",
       "    <tr style=\"text-align: right;\">\n",
       "      <th></th>\n",
       "      <th>DK_isbn</th>\n",
       "      <th>DK_date</th>\n",
       "      <th>DK_titul</th>\n",
       "      <th>DK_tags</th>\n",
       "      <th>DK_Knihotéce</th>\n",
       "      <th>DK_Chystám_se_číst</th>\n",
       "      <th>DK_Chci_si_koupit</th>\n",
       "      <th>DK_rating</th>\n",
       "      <th>DK_ratings_count</th>\n",
       "      <th>DK_Přečtených</th>\n",
       "      <th>DK_Čtenářské_výzvě</th>\n",
       "      <th>DK_dalších_seznamech</th>\n",
       "      <th>DK_Právě_čtených</th>\n",
       "      <th>DK_Doporučených</th>\n",
       "      <th>isbn</th>\n",
       "      <th>skore</th>\n",
       "      <th>hezky_titul</th>\n",
       "      <th>nakladatel</th>\n",
       "    </tr>\n",
       "  </thead>\n",
       "  <tbody>\n",
       "  </tbody>\n",
       "</table>\n",
       "</div>"
      ],
      "text/plain": [
       "Empty DataFrame\n",
       "Columns: [DK_isbn, DK_date, DK_titul, DK_tags, DK_Knihotéce, DK_Chystám_se_číst, DK_Chci_si_koupit, DK_rating, DK_ratings_count, DK_Přečtených, DK_Čtenářské_výzvě, DK_dalších_seznamech, DK_Právě_čtených, DK_Doporučených, isbn, skore, hezky_titul, nakladatel]\n",
       "Index: []"
      ]
     },
     "execution_count": 194,
     "metadata": {},
     "output_type": "execute_result"
    }
   ],
   "source": [
    "dk[dk['hezky_titul'].str.contains('Prchal')]"
   ]
  },
  {
   "cell_type": "code",
   "execution_count": null,
   "id": "b19ab3fa",
   "metadata": {},
   "outputs": [],
   "source": []
  },
  {
   "cell_type": "code",
   "execution_count": 195,
   "id": "4ac39e76",
   "metadata": {},
   "outputs": [
    {
     "data": {
      "text/plain": [
       "['Jana Počtová Michal Beck', 'Andrea Rourke', 'Klára Vlasáková']"
      ]
     },
     "execution_count": 195,
     "metadata": {},
     "output_type": "execute_result"
    }
   ],
   "source": [
    "koho_vydavaji('Listen')"
   ]
  },
  {
   "cell_type": "code",
   "execution_count": 196,
   "id": "5c8a657c",
   "metadata": {},
   "outputs": [],
   "source": [
    "for index, row in nakladatelstvo.iterrows():\n",
    "    stars = koho_vydavaji(row['nakladatel'])\n",
    "    print(', '.join(stars))"
   ]
  },
  {
   "cell_type": "code",
   "execution_count": 197,
   "id": "538f50b2",
   "metadata": {},
   "outputs": [
    {
     "data": {
      "text/html": [
       "<div>\n",
       "<style scoped>\n",
       "    .dataframe tbody tr th:only-of-type {\n",
       "        vertical-align: middle;\n",
       "    }\n",
       "\n",
       "    .dataframe tbody tr th {\n",
       "        vertical-align: top;\n",
       "    }\n",
       "\n",
       "    .dataframe thead th {\n",
       "        text-align: right;\n",
       "    }\n",
       "</style>\n",
       "<table border=\"1\" class=\"dataframe\">\n",
       "  <thead>\n",
       "    <tr style=\"text-align: right;\">\n",
       "      <th></th>\n",
       "      <th>nakladatel</th>\n",
       "      <th>podil</th>\n",
       "    </tr>\n",
       "  </thead>\n",
       "  <tbody>\n",
       "  </tbody>\n",
       "</table>\n",
       "</div>"
      ],
      "text/plain": [
       "Empty DataFrame\n",
       "Columns: [nakladatel, podil]\n",
       "Index: []"
      ]
     },
     "execution_count": 197,
     "metadata": {},
     "output_type": "execute_result"
    }
   ],
   "source": [
    "nakladatelstvo"
   ]
  },
  {
   "cell_type": "code",
   "execution_count": 198,
   "id": "5b182b10",
   "metadata": {},
   "outputs": [
    {
     "data": {
      "text/plain": [
       "Series([], Name: skore, dtype: float64)"
      ]
     },
     "execution_count": 198,
     "metadata": {},
     "output_type": "execute_result"
    }
   ],
   "source": [
    "dk_mesic_nakladatele = pd.Series(dk[dk['DK_date'] > week_ago].groupby(\"nakladatel\")['skore'].sum() - dk[dk['DK_date'] > month_ago].groupby(\"nakladatel\")['skore'].sum()).sort_values(ascending=False)\n",
    "dk_mesic_nakladatele.nlargest(30)"
   ]
  },
  {
   "cell_type": "code",
   "execution_count": 199,
   "id": "66e02c3b",
   "metadata": {},
   "outputs": [
    {
     "data": {
      "text/plain": [
       "Series([], Name: skore, dtype: float64)"
      ]
     },
     "execution_count": 199,
     "metadata": {},
     "output_type": "execute_result"
    }
   ],
   "source": [
    "dk_mesic_novinky = pd.Series(dk[~dk['hezky_titul'].isin(dk_stare)].groupby(\"hezky_titul\")['skore'].max() - dk[(~dk['hezky_titul'].isin(dk_stare)) & (dk['DK_date'] > month_ago)].groupby(\"hezky_titul\")['skore'].min()).sort_values(ascending=False)\n",
    "dk_mesic_novinky = dk_mesic_novinky[dk_mesic_novinky >= 10]\n",
    "dk_mesic_novinky"
   ]
  },
  {
   "cell_type": "code",
   "execution_count": 200,
   "id": "6f89bf67",
   "metadata": {},
   "outputs": [
    {
     "data": {
      "text/plain": [
       "Series([], Name: DK_ratings_count, dtype: float64)"
      ]
     },
     "execution_count": 200,
     "metadata": {},
     "output_type": "execute_result"
    }
   ],
   "source": [
    "dk_mesic_ratings = pd.Series(dk.groupby(\"hezky_titul\")['DK_ratings_count'].max() - dk[dk['DK_date'] > month_ago].groupby(\"hezky_titul\")['DK_ratings_count'].min()).sort_values(ascending=False)\n",
    "dk_mesic_ratings = dk_mesic_ratings[dk_mesic_ratings >= 25]\n",
    "dk_mesic_ratings"
   ]
  },
  {
   "cell_type": "code",
   "execution_count": 201,
   "id": "ad717bdb",
   "metadata": {},
   "outputs": [
    {
     "data": {
      "text/plain": [
       "Series([], Name: DK_Chystám_se_číst, dtype: float64)"
      ]
     },
     "execution_count": 201,
     "metadata": {},
     "output_type": "execute_result"
    }
   ],
   "source": [
    "dk_mesic_chystam = pd.Series(dk.groupby(\"hezky_titul\")['DK_Chystám_se_číst'].max() - dk[dk['DK_date'] > month_ago].groupby(\"hezky_titul\")['DK_Chystám_se_číst'].min()).sort_values(ascending=False)\n",
    "dk_mesic_chystam = dk_mesic_chystam[dk_mesic_chystam >= 10]\n",
    "dk_mesic_chystam"
   ]
  },
  {
   "cell_type": "markdown",
   "id": "d4d07d78",
   "metadata": {},
   "source": [
    "### Co se lidé nejvíce chystají číst v posledním týdnu"
   ]
  },
  {
   "cell_type": "code",
   "execution_count": 202,
   "id": "8d725140",
   "metadata": {},
   "outputs": [
    {
     "data": {
      "text/plain": [
       "Series([], Name: DK_Chystám_se_číst, dtype: float64)"
      ]
     },
     "execution_count": 202,
     "metadata": {},
     "output_type": "execute_result"
    }
   ],
   "source": [
    "dk_tyden_chystam = pd.Series(dk.groupby(\"hezky_titul\")['DK_Chystám_se_číst'].max() - dk[dk['DK_date'] > week_ago].groupby(\"hezky_titul\")['DK_Chystám_se_číst'].min()).sort_values(ascending=False)\n",
    "dk_tyden_chystam = dk_tyden_chystam[dk_tyden_chystam >= 5]\n",
    "dk_tyden_chystam"
   ]
  },
  {
   "cell_type": "markdown",
   "id": "0f457c5a",
   "metadata": {},
   "source": [
    "### Hot novinky"
   ]
  },
  {
   "cell_type": "code",
   "execution_count": 203,
   "id": "2183dedc",
   "metadata": {},
   "outputs": [
    {
     "data": {
      "text/plain": [
       "Series([], Name: DK_Chystám_se_číst, dtype: float64)"
      ]
     },
     "execution_count": 203,
     "metadata": {},
     "output_type": "execute_result"
    }
   ],
   "source": [
    "uz_byly = dk[dk['DK_date'] < week_ago]['hezky_titul'].drop_duplicates().to_list()\n",
    "dk_novinky_chystam = dk[~dk['hezky_titul'].isin(uz_byly)].groupby('hezky_titul')['DK_Chystám_se_číst'].max().sort_values(ascending = False)\n",
    "dk_novinky_chystam = dk_novinky_chystam[dk_novinky_chystam >= 5]\n",
    "dk_novinky_chystam"
   ]
  },
  {
   "cell_type": "markdown",
   "id": "4607de05",
   "metadata": {},
   "source": [
    "### Nejvíce hodnocené za poslední týden"
   ]
  },
  {
   "cell_type": "code",
   "execution_count": 204,
   "id": "3000a1dd",
   "metadata": {},
   "outputs": [
    {
     "data": {
      "text/plain": [
       "DK_titul\n",
       "(NE)uvěřitelný život Oty K.                                            0.0\n",
       "10 000 kroků                                                           0.0\n",
       "100+24 brněnských kuriozit, absurdit a bizarností                      0.0\n",
       "13 objektů z (ne)šťastného muzea                                       0.0\n",
       "13!                                                                    0.0\n",
       "1492: Dobytí Granady                                                   0.0\n",
       "151+ nápadů na můj bucket list                                         0.0\n",
       "1°                                                                     0.0\n",
       "20 let slam poetry: Nejlepší česká slam poetry 2003                    0.0\n",
       "23:55                                                                  0.0\n",
       "25 na pamětnou                                                         0.0\n",
       "3.7.1866                                                               0.0\n",
       "30 hodin: Ověř nápad v rekordním čase a rozjeď vysněné podnikání       0.0\n",
       "30 let polemiky o Evropě                                               0.0\n",
       "3333 km k Jakubovi                                                     0.0\n",
       "50 pilířů dospělosti                                                   0.0\n",
       "7 pilířů efektivního marketingu                                        0.0\n",
       "<30                                                                    0.0\n",
       "A teď už bez legrace!                                                  0.0\n",
       "AI Marketing Playbook                                                  0.0\n",
       "Abeceda                                                                0.0\n",
       "Advent ve starém domě                                                  0.0\n",
       "Agrometal                                                              0.0\n",
       "Akvárium                                                               0.0\n",
       "Album 1958                                                             0.0\n",
       "Alchymie poslání: 71 příběhů odvahy a ženské síly                      0.0\n",
       "Alchymie sebelásky                                                     0.0\n",
       "Alexandra                                                              0.0\n",
       "Alice                                                                  0.0\n",
       "Alois Rašín: Dramatický život českého politika                         0.0\n",
       "Amen                                                                   0.0\n",
       "Amerika na mušce                                                       0.0\n",
       "Amerika v proměnách staletí                                            0.0\n",
       "Amerika ve válce: USA v letech 1961                                    0.0\n",
       "Amicitiae vinculum potens et praevalidum                               0.0\n",
       "Amsterodamské vigilie                                                  0.0\n",
       "Amy's World                                                            0.0\n",
       "Anděl pro Floriána                                                     0.0\n",
       "Anděl v cirkuse                                                        0.0\n",
       "Andělem nikdo z nás není: Blízcí Boženy Němcové a Karoliny Světlé      0.0\n",
       "Anežka z Kuenringu                                                     0.0\n",
       "Anima                                                                  0.0\n",
       "Anna Falcká                                                            0.0\n",
       "Anna Svídnická: Krásná Anna – nečekaná láska Karla IV.                 0.0\n",
       "Ano, pane Božský                                                       0.0\n",
       "Antis: Psí hrdina                                                      0.0\n",
       "Antonín Dvořák: Můj život a dílo / Antonín Dvořák: My Life and Work    0.0\n",
       "Antropocennosti: Průvodce světem antropocénu                           0.0\n",
       "Arakain                                                                0.0\n",
       "Archivnictví v meziválečném Československu (1918–1939)                 0.0\n",
       "Armáda od starověku po kosmické války                                  0.0\n",
       "Armádní generál Jan Syrový: Jeden velký český osud                     0.0\n",
       "Arytmie v otázkách a odpovědích                                        0.0\n",
       "Asterion: Úsvit nových bohů                                            0.0\n",
       "Atlas rostlin                                                          0.0\n",
       "Auta v Československu 1945                                             0.0\n",
       "Autonomie a alterita: Kant a fenomenologie                             0.0\n",
       "Autorské právo v literatuře                                            0.0\n",
       "Azhareida                                                              0.0\n",
       "Až do konce!: Politická publicistika z let 1940–1945                   0.0\n",
       "Name: DK_ratings_count, dtype: float64"
      ]
     },
     "execution_count": 204,
     "metadata": {},
     "output_type": "execute_result"
    }
   ],
   "source": [
    "pd.Series(dk.groupby(\"DK_titul\")['DK_ratings_count'].max() - dk[dk['DK_date'] < week_ago].groupby(\"DK_titul\")['DK_ratings_count'].max()).nlargest(60)"
   ]
  },
  {
   "cell_type": "markdown",
   "id": "326fab08",
   "metadata": {},
   "source": [
    "### Nejlépe a nejhůře hodnocené knihy s víc než x hodnoceními"
   ]
  },
  {
   "cell_type": "code",
   "execution_count": 205,
   "id": "bf0fc4eb",
   "metadata": {},
   "outputs": [
    {
     "data": {
      "text/plain": [
       "DK_titul\n",
       "U severní zdi                                     95.0\n",
       "Šikmý kostel 3                                    95.0\n",
       "Markovič: Lovec přízraků                          93.0\n",
       "Deník Věrky Kohnové: Jak ráda bych tak zůstala    92.0\n",
       "Heřmánkové údolí                                  92.0\n",
       "Jednooký král Václav I.                           92.0\n",
       "Blues: Blues pro bláznivou holku                  91.0\n",
       "Na králův příkaz                                  91.0\n",
       "Návrat nežádoucí                                  91.0\n",
       "Ženy na pranýři                                   91.0\n",
       "Cejch                                             90.0\n",
       "Pán hor II                                        90.0\n",
       "Sudetský dům II: Podzim 1947                      90.0\n",
       "Vraní oko                                         90.0\n",
       "Husitská epopej. V, 1450                          89.0\n",
       "Platnéř                                           89.0\n",
       "Oprátka za osm mrtvých                            88.0\n",
       "Severka                                           88.0\n",
       "Brněnské nevěstky                                 87.0\n",
       "Na konci vesmíru                                  87.0\n",
       "Name: DK_rating, dtype: float64"
      ]
     },
     "execution_count": 205,
     "metadata": {},
     "output_type": "execute_result"
    }
   ],
   "source": [
    "dk[dk['DK_ratings_count'] > 200].groupby(\"DK_titul\")['DK_rating'].max().nlargest(20)"
   ]
  },
  {
   "cell_type": "code",
   "execution_count": 206,
   "id": "716c7ea9",
   "metadata": {},
   "outputs": [
    {
     "data": {
      "text/plain": [
       "DK_titul\n",
       "Neodpovídej                                   63.0\n",
       "Povídky o ženách                              64.0\n",
       "Smrková Tišina                                65.0\n",
       "Nejvyšší karta                                66.0\n",
       "Co se stalo Veronice                          67.0\n",
       "Město v mlze                                  67.0\n",
       "Povídky o lásce                               67.0\n",
       "Ženy zločinu                                  68.0\n",
       "Pražačka na vsi                               69.0\n",
       "Spoutej mě                                    69.0\n",
       "V hrůze a krvi zrozeni                        69.0\n",
       "Němé duše                                     70.0\n",
       "Teorie býka                                   70.0\n",
       "Transfer                                      70.0\n",
       "Zapisovatelé otcovský lásky                   70.0\n",
       "Zlatokopka                                    70.0\n",
       "Co tě nezabije                                71.0\n",
       "Jiné místo                                    71.0\n",
       "Tropické noci                                 71.0\n",
       "Těla                                          71.0\n",
       "Zápisník alkoholičky                          71.0\n",
       "Kde jsi, když nejsi                           72.0\n",
       "Krvavé léto                                   72.0\n",
       "Zítřek ti nikdo neslíbil                      72.0\n",
       "Řeka pod hladinou: Vědomím proti času         72.0\n",
       "Doba chemlonová                               73.0\n",
       "Kráva a kretén                                73.0\n",
       "Rozchodové řízení                             73.0\n",
       "Skutečné zločiny po Česku                     73.0\n",
       "Sudetenland                                   73.0\n",
       "Veselé Vánoce, Terezko                        73.0\n",
       "Fosilie                                       74.0\n",
       "Zvedá se vítr                                 74.0\n",
       "Karneval zvířat                               75.0\n",
       "Převzetí                                      75.0\n",
       "Třicátý kilometr                              75.0\n",
       "Hranice zvrhlosti                             76.0\n",
       "Okamžiky štěstí                               76.0\n",
       "Rodiny a rodinky                              76.0\n",
       "Déjà vu                                       77.0\n",
       "Lampář, lodivodka a kluk z továrny na slzy    77.0\n",
       "Vodní hrob                                    77.0\n",
       "Devátý neznámý                                78.0\n",
       "Josefíně všichni lžou                         78.0\n",
       "Jsme nevyhnutelní                             78.0\n",
       "Lenochod Jimmy & jeho backup band             78.0\n",
       "Nebe pod Berlínem                             78.0\n",
       "Obsluhoval jsem anglického krále              78.0\n",
       "Svatební historky aneb Jak jsem se nevdala    78.0\n",
       "Tři Sekery                                    78.0\n",
       "Name: DK_rating, dtype: float64"
      ]
     },
     "execution_count": 206,
     "metadata": {},
     "output_type": "execute_result"
    }
   ],
   "source": [
    "dk[dk['DK_ratings_count'] > 50].groupby(\"DK_titul\")['DK_rating'].max().nsmallest(50)"
   ]
  },
  {
   "cell_type": "code",
   "execution_count": 207,
   "id": "2b484063",
   "metadata": {},
   "outputs": [
    {
     "name": "stderr",
     "output_type": "stream",
     "text": [
      "C:\\Users\\micha\\AppData\\Local\\Temp\\ipykernel_27244\\3366174841.py:2: SettingWithCopyWarning: \n",
      "A value is trying to be set on a copy of a slice from a DataFrame.\n",
      "Try using .loc[row_indexer,col_indexer] = value instead\n",
      "\n",
      "See the caveats in the documentation: https://pandas.pydata.org/pandas-docs/stable/user_guide/indexing.html#returning-a-view-versus-a-copy\n",
      "  vyvoj2['DK_date'] = pd.to_datetime(vyvoj2['DK_date'])\n"
     ]
    }
   ],
   "source": [
    "vyvoj2 = dk[['DK_date','DK_titul','DK_Chystám_se_číst']]\n",
    "vyvoj2['DK_date'] = pd.to_datetime(vyvoj2['DK_date'])\n",
    "vyvoj2 = vyvoj2.sort_values(by='DK_date')\n",
    "vyvoj2 = vyvoj2.set_index('DK_date')"
   ]
  },
  {
   "cell_type": "code",
   "execution_count": 208,
   "id": "9bc42f06",
   "metadata": {},
   "outputs": [
    {
     "data": {
      "text/plain": [
       "<Axes: xlabel='DK_date'>"
      ]
     },
     "execution_count": 208,
     "metadata": {},
     "output_type": "execute_result"
    },
    {
     "data": {
      "image/png": "[encoded data removed]",
      "text/plain": [
       "<Figure size 640x480 with 1 Axes>"
      ]
     },
     "metadata": {},
     "output_type": "display_data"
    }
   ],
   "source": [
    "vyvoj2[vyvoj2['DK_titul'] == 'Josefíně všichni lžou']['DK_Chystám_se_číst'].plot()"
   ]
  },
  {
   "cell_type": "code",
   "execution_count": 209,
   "id": "3d97880f",
   "metadata": {},
   "outputs": [
    {
     "data": {
      "text/plain": [
       "<Axes: xlabel='DK_date'>"
      ]
     },
     "execution_count": 209,
     "metadata": {},
     "output_type": "execute_result"
    },
    {
     "data": {
      "image/png": "[encoded data removed]",
      "text/plain": [
       "<Figure size 640x480 with 1 Axes>"
      ]
     },
     "metadata": {},
     "output_type": "display_data"
    }
   ],
   "source": [
    "vyvoj2[vyvoj2['DK_titul'] == 'Hella']['DK_Chystám_se_číst'].plot()"
   ]
  },
  {
   "cell_type": "markdown",
   "id": "71b5c8f4",
   "metadata": {},
   "source": [
    "## Syntéza (dál už to není zajímavé)"
   ]
  },
  {
   "cell_type": "code",
   "execution_count": 210,
   "id": "b6702e13",
   "metadata": {},
   "outputs": [],
   "source": [
    "import numpy as np"
   ]
  },
  {
   "cell_type": "code",
   "execution_count": 211,
   "id": "576ee366",
   "metadata": {},
   "outputs": [],
   "source": [
    "df = pd.read_json(os.path.join(\"data\",\"martinus_vyslo.json\"))"
   ]
  },
  {
   "cell_type": "code",
   "execution_count": 212,
   "id": "4387f894",
   "metadata": {},
   "outputs": [
    {
     "data": {
      "text/html": [
       "<div>\n",
       "<style scoped>\n",
       "    .dataframe tbody tr th:only-of-type {\n",
       "        vertical-align: middle;\n",
       "    }\n",
       "\n",
       "    .dataframe tbody tr th {\n",
       "        vertical-align: top;\n",
       "    }\n",
       "\n",
       "    .dataframe thead th {\n",
       "        text-align: right;\n",
       "    }\n",
       "</style>\n",
       "<table border=\"1\" class=\"dataframe\">\n",
       "  <thead>\n",
       "    <tr style=\"text-align: right;\">\n",
       "      <th></th>\n",
       "      <th>M_titul</th>\n",
       "      <th>M_autorstvo</th>\n",
       "      <th>M_anotace</th>\n",
       "      <th>M_počet_stran</th>\n",
       "      <th>M_vazba</th>\n",
       "      <th>M_rozměr</th>\n",
       "      <th>M_hmotnost</th>\n",
       "      <th>M_isbn</th>\n",
       "      <th>M_rok_vydání</th>\n",
       "      <th>M_jazyk</th>\n",
       "      <th>...</th>\n",
       "      <th>M_účel_knihy</th>\n",
       "      <th>M_audiokniha</th>\n",
       "      <th>M_vydání</th>\n",
       "      <th>M_originální_název</th>\n",
       "      <th>M_překlad</th>\n",
       "      <th>M_ostatní</th>\n",
       "      <th>M_předběžné_datum_vydání</th>\n",
       "      <th>M_příloha</th>\n",
       "      <th>M_jazyková_úroveň</th>\n",
       "      <th>M_knižní_předloha</th>\n",
       "    </tr>\n",
       "  </thead>\n",
       "  <tbody>\n",
       "    <tr>\n",
       "      <th>0</th>\n",
       "      <td>Jindřich Chalupecký. Texty a kontexty kritika ...</td>\n",
       "      <td>Tomáš Pospiszyl</td>\n",
       "      <td>Kritik a teoretik umění Jindřich Chalupecký (1...</td>\n",
       "      <td>396.0</td>\n",
       "      <td>brožovaná vazba</td>\n",
       "      <td>150×220 mm</td>\n",
       "      <td>513 g</td>\n",
       "      <td>9788088366478</td>\n",
       "      <td>2023</td>\n",
       "      <td>čeština</td>\n",
       "      <td>...</td>\n",
       "      <td>None</td>\n",
       "      <td>None</td>\n",
       "      <td>None</td>\n",
       "      <td>None</td>\n",
       "      <td>None</td>\n",
       "      <td>None</td>\n",
       "      <td>NaN</td>\n",
       "      <td>None</td>\n",
       "      <td>None</td>\n",
       "      <td>None</td>\n",
       "    </tr>\n",
       "    <tr>\n",
       "      <th>1</th>\n",
       "      <td>Hra s formami 2</td>\n",
       "      <td>Eduardo Duran</td>\n",
       "      <td>Vedomie je individuálne vnímanie, ktoré má kaž...</td>\n",
       "      <td>404.0</td>\n",
       "      <td>brožovaná vazba</td>\n",
       "      <td>135×205 mm</td>\n",
       "      <td>510 g</td>\n",
       "      <td>9798373986052</td>\n",
       "      <td>2023</td>\n",
       "      <td>slovenština</td>\n",
       "      <td>...</td>\n",
       "      <td>None</td>\n",
       "      <td>None</td>\n",
       "      <td>None</td>\n",
       "      <td>None</td>\n",
       "      <td>None</td>\n",
       "      <td>None</td>\n",
       "      <td>NaN</td>\n",
       "      <td>None</td>\n",
       "      <td>None</td>\n",
       "      <td>None</td>\n",
       "    </tr>\n",
       "    <tr>\n",
       "      <th>2</th>\n",
       "      <td>Práce, odvody a mzdy bez chyb, pokut a penále ...</td>\n",
       "      <td>None</td>\n",
       "      <td>Firemní školky jako benefit - Někteří zaměstna...</td>\n",
       "      <td>NaN</td>\n",
       "      <td>brožovaná vazba</td>\n",
       "      <td>None</td>\n",
       "      <td>None</td>\n",
       "      <td>9771801993457</td>\n",
       "      <td>2024</td>\n",
       "      <td>čeština</td>\n",
       "      <td>...</td>\n",
       "      <td>None</td>\n",
       "      <td>None</td>\n",
       "      <td>None</td>\n",
       "      <td>None</td>\n",
       "      <td>None</td>\n",
       "      <td>None</td>\n",
       "      <td>NaN</td>\n",
       "      <td>None</td>\n",
       "      <td>None</td>\n",
       "      <td>None</td>\n",
       "    </tr>\n",
       "    <tr>\n",
       "      <th>3</th>\n",
       "      <td>Daně v podnikání</td>\n",
       "      <td>Alena Vančurová Hana Zídková</td>\n",
       "      <td>Publikace vychází již podruhé, v aktualizované...</td>\n",
       "      <td>368.0</td>\n",
       "      <td>brožovaná vazba</td>\n",
       "      <td>155×235 mm</td>\n",
       "      <td>544 g</td>\n",
       "      <td>9788076763593</td>\n",
       "      <td>2022</td>\n",
       "      <td>čeština</td>\n",
       "      <td>...</td>\n",
       "      <td>None</td>\n",
       "      <td>None</td>\n",
       "      <td>None</td>\n",
       "      <td>None</td>\n",
       "      <td>None</td>\n",
       "      <td>None</td>\n",
       "      <td>NaN</td>\n",
       "      <td>None</td>\n",
       "      <td>None</td>\n",
       "      <td>None</td>\n",
       "    </tr>\n",
       "    <tr>\n",
       "      <th>4</th>\n",
       "      <td>Budoucnost začíná teď</td>\n",
       "      <td>Lukáš Bujna</td>\n",
       "      <td>Během pandemie covidu si husitský farář a básn...</td>\n",
       "      <td>248.0</td>\n",
       "      <td>brožovaná vazba</td>\n",
       "      <td>150×210 mm</td>\n",
       "      <td>None</td>\n",
       "      <td>9788090788145</td>\n",
       "      <td>2023</td>\n",
       "      <td>čeština</td>\n",
       "      <td>...</td>\n",
       "      <td>None</td>\n",
       "      <td>None</td>\n",
       "      <td>None</td>\n",
       "      <td>None</td>\n",
       "      <td>None</td>\n",
       "      <td>None</td>\n",
       "      <td>NaN</td>\n",
       "      <td>None</td>\n",
       "      <td>None</td>\n",
       "      <td>None</td>\n",
       "    </tr>\n",
       "    <tr>\n",
       "      <th>...</th>\n",
       "      <td>...</td>\n",
       "      <td>...</td>\n",
       "      <td>...</td>\n",
       "      <td>...</td>\n",
       "      <td>...</td>\n",
       "      <td>...</td>\n",
       "      <td>...</td>\n",
       "      <td>...</td>\n",
       "      <td>...</td>\n",
       "      <td>...</td>\n",
       "      <td>...</td>\n",
       "      <td>...</td>\n",
       "      <td>...</td>\n",
       "      <td>...</td>\n",
       "      <td>...</td>\n",
       "      <td>...</td>\n",
       "      <td>...</td>\n",
       "      <td>...</td>\n",
       "      <td>...</td>\n",
       "      <td>...</td>\n",
       "      <td>...</td>\n",
       "    </tr>\n",
       "    <tr>\n",
       "      <th>11709</th>\n",
       "      <td>V severnom vetre čítaš správy ďaleké</td>\n",
       "      <td>Martin Odler</td>\n",
       "      <td>Kniha V severnom vetre čítaš správy ďaleké je ...</td>\n",
       "      <td>208.0</td>\n",
       "      <td>pevná vazba</td>\n",
       "      <td>154×226 mm</td>\n",
       "      <td>490 g</td>\n",
       "      <td>9788082450296</td>\n",
       "      <td>2023</td>\n",
       "      <td>slovenština</td>\n",
       "      <td>...</td>\n",
       "      <td>None</td>\n",
       "      <td>None</td>\n",
       "      <td>None</td>\n",
       "      <td>None</td>\n",
       "      <td>None</td>\n",
       "      <td>None</td>\n",
       "      <td>NaN</td>\n",
       "      <td>None</td>\n",
       "      <td>None</td>\n",
       "      <td>None</td>\n",
       "    </tr>\n",
       "    <tr>\n",
       "      <th>11710</th>\n",
       "      <td>Louka a spousta tance</td>\n",
       "      <td>Jakub Klikar</td>\n",
       "      <td>Tato básnická sbírka obsahující třicet básní, ...</td>\n",
       "      <td>40.0</td>\n",
       "      <td>brožovaná vazba</td>\n",
       "      <td>140×210 mm</td>\n",
       "      <td>76 g</td>\n",
       "      <td>9788075682079</td>\n",
       "      <td>2020</td>\n",
       "      <td>čeština</td>\n",
       "      <td>...</td>\n",
       "      <td>None</td>\n",
       "      <td>None</td>\n",
       "      <td>None</td>\n",
       "      <td>None</td>\n",
       "      <td>None</td>\n",
       "      <td>None</td>\n",
       "      <td>NaN</td>\n",
       "      <td>None</td>\n",
       "      <td>None</td>\n",
       "      <td>None</td>\n",
       "    </tr>\n",
       "    <tr>\n",
       "      <th>11711</th>\n",
       "      <td>Z čeho je den</td>\n",
       "      <td>Dominika Prejdová</td>\n",
       "      <td>Román Dominiky Prejdové popisuje dynamiku a mi...</td>\n",
       "      <td>264.0</td>\n",
       "      <td>pevná vazba</td>\n",
       "      <td>135×208 mm</td>\n",
       "      <td>40 g</td>\n",
       "      <td>9788024275772</td>\n",
       "      <td>2021</td>\n",
       "      <td>čeština</td>\n",
       "      <td>...</td>\n",
       "      <td>None</td>\n",
       "      <td>None</td>\n",
       "      <td>None</td>\n",
       "      <td>None</td>\n",
       "      <td>None</td>\n",
       "      <td>None</td>\n",
       "      <td>NaN</td>\n",
       "      <td>None</td>\n",
       "      <td>None</td>\n",
       "      <td>None</td>\n",
       "    </tr>\n",
       "    <tr>\n",
       "      <th>11712</th>\n",
       "      <td>Krvavý Žižkov\\n            Novinka</td>\n",
       "      <td>Martin Reiner</td>\n",
       "      <td>Krvavý Žižkov je antologie, která má svého pře...</td>\n",
       "      <td>256.0</td>\n",
       "      <td>pevná vazba</td>\n",
       "      <td>150×210 mm</td>\n",
       "      <td>None</td>\n",
       "      <td>9788072279012</td>\n",
       "      <td>2024</td>\n",
       "      <td>čeština</td>\n",
       "      <td>...</td>\n",
       "      <td>None</td>\n",
       "      <td>None</td>\n",
       "      <td>None</td>\n",
       "      <td>None</td>\n",
       "      <td>None</td>\n",
       "      <td>None</td>\n",
       "      <td>NaN</td>\n",
       "      <td>None</td>\n",
       "      <td>None</td>\n",
       "      <td>None</td>\n",
       "    </tr>\n",
       "    <tr>\n",
       "      <th>11713</th>\n",
       "      <td>Tam kde smrt chodí na čekanou</td>\n",
       "      <td>Vladimír Paleček</td>\n",
       "      <td>Vladimír Paleček (* 1975) se věnoval poezii od...</td>\n",
       "      <td>83.0</td>\n",
       "      <td>brožovaná vazba</td>\n",
       "      <td>148×210 mm</td>\n",
       "      <td>140 g</td>\n",
       "      <td>9788074924217</td>\n",
       "      <td>2020</td>\n",
       "      <td>čeština</td>\n",
       "      <td>...</td>\n",
       "      <td>None</td>\n",
       "      <td>None</td>\n",
       "      <td>None</td>\n",
       "      <td>None</td>\n",
       "      <td>None</td>\n",
       "      <td>None</td>\n",
       "      <td>NaN</td>\n",
       "      <td>None</td>\n",
       "      <td>None</td>\n",
       "      <td>None</td>\n",
       "    </tr>\n",
       "  </tbody>\n",
       "</table>\n",
       "<p>11654 rows × 34 columns</p>\n",
       "</div>"
      ],
      "text/plain": [
       "                                                 M_titul  \\\n",
       "0      Jindřich Chalupecký. Texty a kontexty kritika ...   \n",
       "1                                        Hra s formami 2   \n",
       "2      Práce, odvody a mzdy bez chyb, pokut a penále ...   \n",
       "3                                       Daně v podnikání   \n",
       "4                                  Budoucnost začíná teď   \n",
       "...                                                  ...   \n",
       "11709               V severnom vetre čítaš správy ďaleké   \n",
       "11710                              Louka a spousta tance   \n",
       "11711                                      Z čeho je den   \n",
       "11712                 Krvavý Žižkov\\n            Novinka   \n",
       "11713                      Tam kde smrt chodí na čekanou   \n",
       "\n",
       "                        M_autorstvo  \\\n",
       "0                   Tomáš Pospiszyl   \n",
       "1                     Eduardo Duran   \n",
       "2                              None   \n",
       "3      Alena Vančurová Hana Zídková   \n",
       "4                       Lukáš Bujna   \n",
       "...                             ...   \n",
       "11709                  Martin Odler   \n",
       "11710                  Jakub Klikar   \n",
       "11711             Dominika Prejdová   \n",
       "11712                 Martin Reiner   \n",
       "11713              Vladimír Paleček   \n",
       "\n",
       "                                               M_anotace  M_počet_stran  \\\n",
       "0      Kritik a teoretik umění Jindřich Chalupecký (1...          396.0   \n",
       "1      Vedomie je individuálne vnímanie, ktoré má kaž...          404.0   \n",
       "2      Firemní školky jako benefit - Někteří zaměstna...            NaN   \n",
       "3      Publikace vychází již podruhé, v aktualizované...          368.0   \n",
       "4      Během pandemie covidu si husitský farář a básn...          248.0   \n",
       "...                                                  ...            ...   \n",
       "11709  Kniha V severnom vetre čítaš správy ďaleké je ...          208.0   \n",
       "11710  Tato básnická sbírka obsahující třicet básní, ...           40.0   \n",
       "11711  Román Dominiky Prejdové popisuje dynamiku a mi...          264.0   \n",
       "11712  Krvavý Žižkov je antologie, která má svého pře...          256.0   \n",
       "11713  Vladimír Paleček (* 1975) se věnoval poezii od...           83.0   \n",
       "\n",
       "               M_vazba    M_rozměr M_hmotnost         M_isbn  M_rok_vydání  \\\n",
       "0      brožovaná vazba  150×220 mm      513 g  9788088366478          2023   \n",
       "1      brožovaná vazba  135×205 mm      510 g  9798373986052          2023   \n",
       "2      brožovaná vazba        None       None  9771801993457          2024   \n",
       "3      brožovaná vazba  155×235 mm      544 g  9788076763593          2022   \n",
       "4      brožovaná vazba  150×210 mm       None  9788090788145          2023   \n",
       "...                ...         ...        ...            ...           ...   \n",
       "11709      pevná vazba  154×226 mm      490 g  9788082450296          2023   \n",
       "11710  brožovaná vazba  140×210 mm       76 g  9788075682079          2020   \n",
       "11711      pevná vazba  135×208 mm       40 g  9788024275772          2021   \n",
       "11712      pevná vazba  150×210 mm       None  9788072279012          2024   \n",
       "11713  brožovaná vazba  148×210 mm      140 g  9788074924217          2020   \n",
       "\n",
       "           M_jazyk  ... M_účel_knihy M_audiokniha M_vydání M_originální_název  \\\n",
       "0          čeština  ...         None         None     None               None   \n",
       "1      slovenština  ...         None         None     None               None   \n",
       "2          čeština  ...         None         None     None               None   \n",
       "3          čeština  ...         None         None     None               None   \n",
       "4          čeština  ...         None         None     None               None   \n",
       "...            ...  ...          ...          ...      ...                ...   \n",
       "11709  slovenština  ...         None         None     None               None   \n",
       "11710      čeština  ...         None         None     None               None   \n",
       "11711      čeština  ...         None         None     None               None   \n",
       "11712      čeština  ...         None         None     None               None   \n",
       "11713      čeština  ...         None         None     None               None   \n",
       "\n",
       "      M_překlad M_ostatní  M_předběžné_datum_vydání M_příloha  \\\n",
       "0          None      None                       NaN      None   \n",
       "1          None      None                       NaN      None   \n",
       "2          None      None                       NaN      None   \n",
       "3          None      None                       NaN      None   \n",
       "4          None      None                       NaN      None   \n",
       "...         ...       ...                       ...       ...   \n",
       "11709      None      None                       NaN      None   \n",
       "11710      None      None                       NaN      None   \n",
       "11711      None      None                       NaN      None   \n",
       "11712      None      None                       NaN      None   \n",
       "11713      None      None                       NaN      None   \n",
       "\n",
       "      M_jazyková_úroveň M_knižní_předloha  \n",
       "0                  None              None  \n",
       "1                  None              None  \n",
       "2                  None              None  \n",
       "3                  None              None  \n",
       "4                  None              None  \n",
       "...                 ...               ...  \n",
       "11709              None              None  \n",
       "11710              None              None  \n",
       "11711              None              None  \n",
       "11712              None              None  \n",
       "11713              None              None  \n",
       "\n",
       "[11654 rows x 34 columns]"
      ]
     },
     "execution_count": 212,
     "metadata": {},
     "output_type": "execute_result"
    }
   ],
   "source": [
    "df"
   ]
  },
  {
   "cell_type": "code",
   "execution_count": 213,
   "id": "8ecf73ba",
   "metadata": {},
   "outputs": [],
   "source": [
    "df['isbn'] = df['M_isbn'].astype(str)"
   ]
  },
  {
   "cell_type": "code",
   "execution_count": 214,
   "id": "8e97727e",
   "metadata": {},
   "outputs": [],
   "source": [
    "dk['isbn'] = dk['DK_isbn'].astype(str).apply(lambda x: x.replace(\".0\",\"\"))"
   ]
  },
  {
   "cell_type": "code",
   "execution_count": 215,
   "id": "e2f109f6",
   "metadata": {},
   "outputs": [],
   "source": [
    "gr['isbn'] = gr['GR_isbn'].apply(lambda x: int(x)).astype(str)"
   ]
  },
  {
   "cell_type": "code",
   "execution_count": 216,
   "id": "d52e990b",
   "metadata": {},
   "outputs": [
    {
     "data": {
      "text/plain": [
       "0        9788027904853\n",
       "1        9788020615770\n",
       "2        9788072444748\n",
       "3        9788076374591\n",
       "4        9788024289472\n",
       "             ...      \n",
       "23331    9788025363850\n",
       "23332    9788072278879\n",
       "23333    9788024288826\n",
       "23334    9788027721405\n",
       "23335    9788025741528\n",
       "Name: isbn, Length: 23336, dtype: object"
      ]
     },
     "execution_count": 216,
     "metadata": {},
     "output_type": "execute_result"
    }
   ],
   "source": [
    "dk['isbn']"
   ]
  },
  {
   "cell_type": "code",
   "execution_count": 217,
   "id": "562417ed",
   "metadata": {},
   "outputs": [],
   "source": [
    "dkm = dk.merge(df, on=\"isbn\", how=\"inner\")"
   ]
  },
  {
   "cell_type": "code",
   "execution_count": 218,
   "id": "078c6df1",
   "metadata": {},
   "outputs": [
    {
     "data": {
      "text/html": [
       "<div>\n",
       "<style scoped>\n",
       "    .dataframe tbody tr th:only-of-type {\n",
       "        vertical-align: middle;\n",
       "    }\n",
       "\n",
       "    .dataframe tbody tr th {\n",
       "        vertical-align: top;\n",
       "    }\n",
       "\n",
       "    .dataframe thead th {\n",
       "        text-align: right;\n",
       "    }\n",
       "</style>\n",
       "<table border=\"1\" class=\"dataframe\">\n",
       "  <thead>\n",
       "    <tr style=\"text-align: right;\">\n",
       "      <th></th>\n",
       "      <th>DK_isbn</th>\n",
       "      <th>DK_date</th>\n",
       "      <th>DK_titul</th>\n",
       "      <th>DK_tags</th>\n",
       "      <th>DK_Knihotéce</th>\n",
       "      <th>DK_Chystám_se_číst</th>\n",
       "      <th>DK_Chci_si_koupit</th>\n",
       "      <th>DK_rating</th>\n",
       "      <th>DK_ratings_count</th>\n",
       "      <th>DK_Přečtených</th>\n",
       "      <th>...</th>\n",
       "      <th>M_účel_knihy</th>\n",
       "      <th>M_audiokniha</th>\n",
       "      <th>M_vydání</th>\n",
       "      <th>M_originální_název</th>\n",
       "      <th>M_překlad</th>\n",
       "      <th>M_ostatní</th>\n",
       "      <th>M_předběžné_datum_vydání</th>\n",
       "      <th>M_příloha</th>\n",
       "      <th>M_jazyková_úroveň</th>\n",
       "      <th>M_knižní_předloha</th>\n",
       "    </tr>\n",
       "  </thead>\n",
       "  <tbody>\n",
       "    <tr>\n",
       "      <th>0</th>\n",
       "      <td>9.788028e+12</td>\n",
       "      <td>2024-04-01 14:39:23</td>\n",
       "      <td>Boží potměšilost</td>\n",
       "      <td>['české romány']</td>\n",
       "      <td>46.0</td>\n",
       "      <td>29.0</td>\n",
       "      <td>6.0</td>\n",
       "      <td>78.0</td>\n",
       "      <td>18.0</td>\n",
       "      <td>19.0</td>\n",
       "      <td>...</td>\n",
       "      <td>None</td>\n",
       "      <td>None</td>\n",
       "      <td>None</td>\n",
       "      <td>None</td>\n",
       "      <td>None</td>\n",
       "      <td>None</td>\n",
       "      <td>NaN</td>\n",
       "      <td>None</td>\n",
       "      <td>None</td>\n",
       "      <td>None</td>\n",
       "    </tr>\n",
       "    <tr>\n",
       "      <th>1</th>\n",
       "      <td>9.788021e+12</td>\n",
       "      <td>2024-04-01 14:39:24</td>\n",
       "      <td>Oprátka za osm mrtvých</td>\n",
       "      <td>['ženy', 'psychiatrické léčebny', 'Českosloven...</td>\n",
       "      <td>150.0</td>\n",
       "      <td>210.0</td>\n",
       "      <td>60.0</td>\n",
       "      <td>88.0</td>\n",
       "      <td>301.0</td>\n",
       "      <td>400.0</td>\n",
       "      <td>...</td>\n",
       "      <td>None</td>\n",
       "      <td>od 398 Kč</td>\n",
       "      <td>None</td>\n",
       "      <td>None</td>\n",
       "      <td>None</td>\n",
       "      <td>None</td>\n",
       "      <td>NaN</td>\n",
       "      <td>None</td>\n",
       "      <td>None</td>\n",
       "      <td>None</td>\n",
       "    </tr>\n",
       "    <tr>\n",
       "      <th>2</th>\n",
       "      <td>9.788072e+12</td>\n",
       "      <td>2024-04-01 14:39:25</td>\n",
       "      <td>Golem</td>\n",
       "      <td>['golem', 'Rabi Löw']</td>\n",
       "      <td>28.0</td>\n",
       "      <td>18.0</td>\n",
       "      <td>3.0</td>\n",
       "      <td>82.0</td>\n",
       "      <td>26.0</td>\n",
       "      <td>34.0</td>\n",
       "      <td>...</td>\n",
       "      <td>None</td>\n",
       "      <td>None</td>\n",
       "      <td>None</td>\n",
       "      <td>None</td>\n",
       "      <td>None</td>\n",
       "      <td>None</td>\n",
       "      <td>NaN</td>\n",
       "      <td>None</td>\n",
       "      <td>None</td>\n",
       "      <td>None</td>\n",
       "    </tr>\n",
       "    <tr>\n",
       "      <th>3</th>\n",
       "      <td>9.788076e+12</td>\n",
       "      <td>2024-04-01 14:39:26</td>\n",
       "      <td>Proč všichni odcházejí</td>\n",
       "      <td>['autobiografické prvky']</td>\n",
       "      <td>13.0</td>\n",
       "      <td>170.0</td>\n",
       "      <td>45.0</td>\n",
       "      <td>91.0</td>\n",
       "      <td>50.0</td>\n",
       "      <td>59.0</td>\n",
       "      <td>...</td>\n",
       "      <td>None</td>\n",
       "      <td>None</td>\n",
       "      <td>None</td>\n",
       "      <td>None</td>\n",
       "      <td>None</td>\n",
       "      <td>None</td>\n",
       "      <td>NaN</td>\n",
       "      <td>None</td>\n",
       "      <td>None</td>\n",
       "      <td>None</td>\n",
       "    </tr>\n",
       "    <tr>\n",
       "      <th>4</th>\n",
       "      <td>9.788024e+12</td>\n",
       "      <td>2024-04-01 14:39:27</td>\n",
       "      <td>Sochař</td>\n",
       "      <td>[]</td>\n",
       "      <td>46.0</td>\n",
       "      <td>23.0</td>\n",
       "      <td>7.0</td>\n",
       "      <td>81.0</td>\n",
       "      <td>19.0</td>\n",
       "      <td>28.0</td>\n",
       "      <td>...</td>\n",
       "      <td>None</td>\n",
       "      <td>None</td>\n",
       "      <td>None</td>\n",
       "      <td>None</td>\n",
       "      <td>None</td>\n",
       "      <td>None</td>\n",
       "      <td>NaN</td>\n",
       "      <td>None</td>\n",
       "      <td>None</td>\n",
       "      <td>None</td>\n",
       "    </tr>\n",
       "    <tr>\n",
       "      <th>...</th>\n",
       "      <td>...</td>\n",
       "      <td>...</td>\n",
       "      <td>...</td>\n",
       "      <td>...</td>\n",
       "      <td>...</td>\n",
       "      <td>...</td>\n",
       "      <td>...</td>\n",
       "      <td>...</td>\n",
       "      <td>...</td>\n",
       "      <td>...</td>\n",
       "      <td>...</td>\n",
       "      <td>...</td>\n",
       "      <td>...</td>\n",
       "      <td>...</td>\n",
       "      <td>...</td>\n",
       "      <td>...</td>\n",
       "      <td>...</td>\n",
       "      <td>...</td>\n",
       "      <td>...</td>\n",
       "      <td>...</td>\n",
       "      <td>...</td>\n",
       "    </tr>\n",
       "    <tr>\n",
       "      <th>23494</th>\n",
       "      <td>9.788025e+12</td>\n",
       "      <td>2024-07-15 03:40:42</td>\n",
       "      <td>Trnitá kletba</td>\n",
       "      <td>['Literatura česká', 'Fantasy', 'Pro děti a ml...</td>\n",
       "      <td>89.0</td>\n",
       "      <td>105.0</td>\n",
       "      <td>26.0</td>\n",
       "      <td>83.0</td>\n",
       "      <td>79.0</td>\n",
       "      <td>90.0</td>\n",
       "      <td>...</td>\n",
       "      <td>None</td>\n",
       "      <td>None</td>\n",
       "      <td>None</td>\n",
       "      <td>None</td>\n",
       "      <td>None</td>\n",
       "      <td>None</td>\n",
       "      <td>NaN</td>\n",
       "      <td>None</td>\n",
       "      <td>None</td>\n",
       "      <td>None</td>\n",
       "    </tr>\n",
       "    <tr>\n",
       "      <th>23495</th>\n",
       "      <td>9.788072e+12</td>\n",
       "      <td>2024-07-15 03:40:42</td>\n",
       "      <td>Zuta a svlečena</td>\n",
       "      <td>['Literatura česká', 'Poezie']</td>\n",
       "      <td>1.0</td>\n",
       "      <td>8.0</td>\n",
       "      <td>1.0</td>\n",
       "      <td>80.0</td>\n",
       "      <td>5.0</td>\n",
       "      <td>5.0</td>\n",
       "      <td>...</td>\n",
       "      <td>None</td>\n",
       "      <td>None</td>\n",
       "      <td>None</td>\n",
       "      <td>None</td>\n",
       "      <td>None</td>\n",
       "      <td>None</td>\n",
       "      <td>NaN</td>\n",
       "      <td>None</td>\n",
       "      <td>None</td>\n",
       "      <td>None</td>\n",
       "    </tr>\n",
       "    <tr>\n",
       "      <th>23496</th>\n",
       "      <td>9.788024e+12</td>\n",
       "      <td>2024-07-15 03:40:43</td>\n",
       "      <td>Ve škole i za školou</td>\n",
       "      <td>['Povídky', 'Literatura česká']</td>\n",
       "      <td>39.0</td>\n",
       "      <td>23.0</td>\n",
       "      <td>6.0</td>\n",
       "      <td>78.0</td>\n",
       "      <td>49.0</td>\n",
       "      <td>64.0</td>\n",
       "      <td>...</td>\n",
       "      <td>None</td>\n",
       "      <td>299 Kč</td>\n",
       "      <td>None</td>\n",
       "      <td>None</td>\n",
       "      <td>None</td>\n",
       "      <td>None</td>\n",
       "      <td>NaN</td>\n",
       "      <td>None</td>\n",
       "      <td>None</td>\n",
       "      <td>None</td>\n",
       "    </tr>\n",
       "    <tr>\n",
       "      <th>23497</th>\n",
       "      <td>9.788028e+12</td>\n",
       "      <td>2024-07-15 03:40:43</td>\n",
       "      <td>V hrůze a krvi zrozeni</td>\n",
       "      <td>['Horory', 'Povídky', 'Literatura česká', 'hor...</td>\n",
       "      <td>64.0</td>\n",
       "      <td>38.0</td>\n",
       "      <td>16.0</td>\n",
       "      <td>69.0</td>\n",
       "      <td>53.0</td>\n",
       "      <td>53.0</td>\n",
       "      <td>...</td>\n",
       "      <td>None</td>\n",
       "      <td>None</td>\n",
       "      <td>None</td>\n",
       "      <td>None</td>\n",
       "      <td>None</td>\n",
       "      <td>None</td>\n",
       "      <td>NaN</td>\n",
       "      <td>None</td>\n",
       "      <td>None</td>\n",
       "      <td>None</td>\n",
       "    </tr>\n",
       "    <tr>\n",
       "      <th>23498</th>\n",
       "      <td>9.788026e+12</td>\n",
       "      <td>2024-07-15 03:40:43</td>\n",
       "      <td>Pod Kaštanem</td>\n",
       "      <td>['Romány', 'Pro ženy', 'Literatura česká']</td>\n",
       "      <td>69.0</td>\n",
       "      <td>54.0</td>\n",
       "      <td>7.0</td>\n",
       "      <td>78.0</td>\n",
       "      <td>50.0</td>\n",
       "      <td>62.0</td>\n",
       "      <td>...</td>\n",
       "      <td>None</td>\n",
       "      <td>None</td>\n",
       "      <td>None</td>\n",
       "      <td>None</td>\n",
       "      <td>None</td>\n",
       "      <td>None</td>\n",
       "      <td>NaN</td>\n",
       "      <td>None</td>\n",
       "      <td>None</td>\n",
       "      <td>None</td>\n",
       "    </tr>\n",
       "  </tbody>\n",
       "</table>\n",
       "<p>23499 rows × 52 columns</p>\n",
       "</div>"
      ],
      "text/plain": [
       "            DK_isbn              DK_date                DK_titul  \\\n",
       "0      9.788028e+12  2024-04-01 14:39:23        Boží potměšilost   \n",
       "1      9.788021e+12  2024-04-01 14:39:24  Oprátka za osm mrtvých   \n",
       "2      9.788072e+12  2024-04-01 14:39:25                   Golem   \n",
       "3      9.788076e+12  2024-04-01 14:39:26  Proč všichni odcházejí   \n",
       "4      9.788024e+12  2024-04-01 14:39:27                  Sochař   \n",
       "...             ...                  ...                     ...   \n",
       "23494  9.788025e+12  2024-07-15 03:40:42           Trnitá kletba   \n",
       "23495  9.788072e+12  2024-07-15 03:40:42         Zuta a svlečena   \n",
       "23496  9.788024e+12  2024-07-15 03:40:43    Ve škole i za školou   \n",
       "23497  9.788028e+12  2024-07-15 03:40:43  V hrůze a krvi zrozeni   \n",
       "23498  9.788026e+12  2024-07-15 03:40:43            Pod Kaštanem   \n",
       "\n",
       "                                                 DK_tags  DK_Knihotéce  \\\n",
       "0                                       ['české romány']          46.0   \n",
       "1      ['ženy', 'psychiatrické léčebny', 'Českosloven...         150.0   \n",
       "2                                  ['golem', 'Rabi Löw']          28.0   \n",
       "3                              ['autobiografické prvky']          13.0   \n",
       "4                                                     []          46.0   \n",
       "...                                                  ...           ...   \n",
       "23494  ['Literatura česká', 'Fantasy', 'Pro děti a ml...          89.0   \n",
       "23495                     ['Literatura česká', 'Poezie']           1.0   \n",
       "23496                    ['Povídky', 'Literatura česká']          39.0   \n",
       "23497  ['Horory', 'Povídky', 'Literatura česká', 'hor...          64.0   \n",
       "23498         ['Romány', 'Pro ženy', 'Literatura česká']          69.0   \n",
       "\n",
       "       DK_Chystám_se_číst  DK_Chci_si_koupit  DK_rating  DK_ratings_count  \\\n",
       "0                    29.0                6.0       78.0              18.0   \n",
       "1                   210.0               60.0       88.0             301.0   \n",
       "2                    18.0                3.0       82.0              26.0   \n",
       "3                   170.0               45.0       91.0              50.0   \n",
       "4                    23.0                7.0       81.0              19.0   \n",
       "...                   ...                ...        ...               ...   \n",
       "23494               105.0               26.0       83.0              79.0   \n",
       "23495                 8.0                1.0       80.0               5.0   \n",
       "23496                23.0                6.0       78.0              49.0   \n",
       "23497                38.0               16.0       69.0              53.0   \n",
       "23498                54.0                7.0       78.0              50.0   \n",
       "\n",
       "       DK_Přečtených  ...  M_účel_knihy  M_audiokniha  M_vydání  \\\n",
       "0               19.0  ...          None          None      None   \n",
       "1              400.0  ...          None     od 398 Kč      None   \n",
       "2               34.0  ...          None          None      None   \n",
       "3               59.0  ...          None          None      None   \n",
       "4               28.0  ...          None          None      None   \n",
       "...              ...  ...           ...           ...       ...   \n",
       "23494           90.0  ...          None          None      None   \n",
       "23495            5.0  ...          None          None      None   \n",
       "23496           64.0  ...          None        299 Kč      None   \n",
       "23497           53.0  ...          None          None      None   \n",
       "23498           62.0  ...          None          None      None   \n",
       "\n",
       "       M_originální_název M_překlad  M_ostatní M_předběžné_datum_vydání  \\\n",
       "0                    None      None       None                      NaN   \n",
       "1                    None      None       None                      NaN   \n",
       "2                    None      None       None                      NaN   \n",
       "3                    None      None       None                      NaN   \n",
       "4                    None      None       None                      NaN   \n",
       "...                   ...       ...        ...                      ...   \n",
       "23494                None      None       None                      NaN   \n",
       "23495                None      None       None                      NaN   \n",
       "23496                None      None       None                      NaN   \n",
       "23497                None      None       None                      NaN   \n",
       "23498                None      None       None                      NaN   \n",
       "\n",
       "      M_příloha M_jazyková_úroveň M_knižní_předloha  \n",
       "0          None              None              None  \n",
       "1          None              None              None  \n",
       "2          None              None              None  \n",
       "3          None              None              None  \n",
       "4          None              None              None  \n",
       "...         ...               ...               ...  \n",
       "23494      None              None              None  \n",
       "23495      None              None              None  \n",
       "23496      None              None              None  \n",
       "23497      None              None              None  \n",
       "23498      None              None              None  \n",
       "\n",
       "[23499 rows x 52 columns]"
      ]
     },
     "execution_count": 218,
     "metadata": {},
     "output_type": "execute_result"
    }
   ],
   "source": [
    "dkm"
   ]
  },
  {
   "cell_type": "code",
   "execution_count": 219,
   "id": "12939555",
   "metadata": {},
   "outputs": [],
   "source": [
    "dkm = dkm.merge(gr, on=\"isbn\", how=\"inner\")"
   ]
  },
  {
   "cell_type": "code",
   "execution_count": 220,
   "id": "94296db2",
   "metadata": {},
   "outputs": [
    {
     "data": {
      "text/html": [
       "<div>\n",
       "<style scoped>\n",
       "    .dataframe tbody tr th:only-of-type {\n",
       "        vertical-align: middle;\n",
       "    }\n",
       "\n",
       "    .dataframe tbody tr th {\n",
       "        vertical-align: top;\n",
       "    }\n",
       "\n",
       "    .dataframe thead th {\n",
       "        text-align: right;\n",
       "    }\n",
       "</style>\n",
       "<table border=\"1\" class=\"dataframe\">\n",
       "  <thead>\n",
       "    <tr style=\"text-align: right;\">\n",
       "      <th></th>\n",
       "      <th>DK_isbn</th>\n",
       "      <th>DK_date</th>\n",
       "      <th>DK_titul</th>\n",
       "      <th>DK_tags</th>\n",
       "      <th>DK_Knihotéce</th>\n",
       "      <th>DK_Chystám_se_číst</th>\n",
       "      <th>DK_Chci_si_koupit</th>\n",
       "      <th>DK_rating</th>\n",
       "      <th>DK_ratings_count</th>\n",
       "      <th>DK_Přečtených</th>\n",
       "      <th>...</th>\n",
       "      <th>M_jazyková_úroveň</th>\n",
       "      <th>M_knižní_předloha</th>\n",
       "      <th>GR_isbn</th>\n",
       "      <th>GR_date</th>\n",
       "      <th>GR_title</th>\n",
       "      <th>GR_rating</th>\n",
       "      <th>GR_ratings_count</th>\n",
       "      <th>GR_reviews</th>\n",
       "      <th>GR_published</th>\n",
       "      <th>autorstvo</th>\n",
       "    </tr>\n",
       "  </thead>\n",
       "  <tbody>\n",
       "    <tr>\n",
       "      <th>0</th>\n",
       "      <td>9.788028e+12</td>\n",
       "      <td>2024-04-01 14:39:23</td>\n",
       "      <td>Boží potměšilost</td>\n",
       "      <td>['české romány']</td>\n",
       "      <td>46.0</td>\n",
       "      <td>29.0</td>\n",
       "      <td>6.0</td>\n",
       "      <td>78.0</td>\n",
       "      <td>18.0</td>\n",
       "      <td>19.0</td>\n",
       "      <td>...</td>\n",
       "      <td>None</td>\n",
       "      <td>None</td>\n",
       "      <td>9.788028e+12</td>\n",
       "      <td>2024-04-29 02:00:07</td>\n",
       "      <td>Boží potměšilost by Zdeněk Řehák</td>\n",
       "      <td>2.0</td>\n",
       "      <td>1.0</td>\n",
       "      <td>0.0</td>\n",
       "      <td>January 1, 2023</td>\n",
       "      <td>Zdeněk Řehák</td>\n",
       "    </tr>\n",
       "    <tr>\n",
       "      <th>1</th>\n",
       "      <td>9.788028e+12</td>\n",
       "      <td>2024-04-01 14:39:23</td>\n",
       "      <td>Boží potměšilost</td>\n",
       "      <td>['české romány']</td>\n",
       "      <td>46.0</td>\n",
       "      <td>29.0</td>\n",
       "      <td>6.0</td>\n",
       "      <td>78.0</td>\n",
       "      <td>18.0</td>\n",
       "      <td>19.0</td>\n",
       "      <td>...</td>\n",
       "      <td>None</td>\n",
       "      <td>None</td>\n",
       "      <td>9.788028e+12</td>\n",
       "      <td>2024-05-06 10:59:41</td>\n",
       "      <td>Boží potměšilost by Zdeněk Řehák</td>\n",
       "      <td>2.0</td>\n",
       "      <td>1.0</td>\n",
       "      <td>0.0</td>\n",
       "      <td>January 1, 2023</td>\n",
       "      <td>Zdeněk Řehák</td>\n",
       "    </tr>\n",
       "    <tr>\n",
       "      <th>2</th>\n",
       "      <td>9.788028e+12</td>\n",
       "      <td>2024-04-01 14:39:23</td>\n",
       "      <td>Boží potměšilost</td>\n",
       "      <td>['české romány']</td>\n",
       "      <td>46.0</td>\n",
       "      <td>29.0</td>\n",
       "      <td>6.0</td>\n",
       "      <td>78.0</td>\n",
       "      <td>18.0</td>\n",
       "      <td>19.0</td>\n",
       "      <td>...</td>\n",
       "      <td>None</td>\n",
       "      <td>None</td>\n",
       "      <td>9.788028e+12</td>\n",
       "      <td>2024-05-13 03:01:26</td>\n",
       "      <td>Boží potměšilost by Zdeněk Řehák</td>\n",
       "      <td>2.0</td>\n",
       "      <td>1.0</td>\n",
       "      <td>0.0</td>\n",
       "      <td>January 1, 2023</td>\n",
       "      <td>Zdeněk Řehák</td>\n",
       "    </tr>\n",
       "    <tr>\n",
       "      <th>3</th>\n",
       "      <td>9.788028e+12</td>\n",
       "      <td>2024-04-01 14:39:23</td>\n",
       "      <td>Boží potměšilost</td>\n",
       "      <td>['české romány']</td>\n",
       "      <td>46.0</td>\n",
       "      <td>29.0</td>\n",
       "      <td>6.0</td>\n",
       "      <td>78.0</td>\n",
       "      <td>18.0</td>\n",
       "      <td>19.0</td>\n",
       "      <td>...</td>\n",
       "      <td>None</td>\n",
       "      <td>None</td>\n",
       "      <td>9.788028e+12</td>\n",
       "      <td>2024-05-20 02:52:16</td>\n",
       "      <td>Boží potměšilost by Zdeněk Řehák</td>\n",
       "      <td>2.0</td>\n",
       "      <td>1.0</td>\n",
       "      <td>0.0</td>\n",
       "      <td>January 1, 2023</td>\n",
       "      <td>Zdeněk Řehák</td>\n",
       "    </tr>\n",
       "    <tr>\n",
       "      <th>4</th>\n",
       "      <td>9.788028e+12</td>\n",
       "      <td>2024-04-01 14:39:23</td>\n",
       "      <td>Boží potměšilost</td>\n",
       "      <td>['české romány']</td>\n",
       "      <td>46.0</td>\n",
       "      <td>29.0</td>\n",
       "      <td>6.0</td>\n",
       "      <td>78.0</td>\n",
       "      <td>18.0</td>\n",
       "      <td>19.0</td>\n",
       "      <td>...</td>\n",
       "      <td>None</td>\n",
       "      <td>None</td>\n",
       "      <td>9.788028e+12</td>\n",
       "      <td>2024-05-27 03:05:47</td>\n",
       "      <td>Boží potměšilost by Zdeněk Řehák</td>\n",
       "      <td>2.0</td>\n",
       "      <td>1.0</td>\n",
       "      <td>0.0</td>\n",
       "      <td>January 1, 2023</td>\n",
       "      <td>Zdeněk Řehák</td>\n",
       "    </tr>\n",
       "    <tr>\n",
       "      <th>...</th>\n",
       "      <td>...</td>\n",
       "      <td>...</td>\n",
       "      <td>...</td>\n",
       "      <td>...</td>\n",
       "      <td>...</td>\n",
       "      <td>...</td>\n",
       "      <td>...</td>\n",
       "      <td>...</td>\n",
       "      <td>...</td>\n",
       "      <td>...</td>\n",
       "      <td>...</td>\n",
       "      <td>...</td>\n",
       "      <td>...</td>\n",
       "      <td>...</td>\n",
       "      <td>...</td>\n",
       "      <td>...</td>\n",
       "      <td>...</td>\n",
       "      <td>...</td>\n",
       "      <td>...</td>\n",
       "      <td>...</td>\n",
       "      <td>...</td>\n",
       "    </tr>\n",
       "    <tr>\n",
       "      <th>267665</th>\n",
       "      <td>9.788026e+12</td>\n",
       "      <td>2024-07-15 03:40:43</td>\n",
       "      <td>Pod Kaštanem</td>\n",
       "      <td>['Romány', 'Pro ženy', 'Literatura česká']</td>\n",
       "      <td>69.0</td>\n",
       "      <td>54.0</td>\n",
       "      <td>7.0</td>\n",
       "      <td>78.0</td>\n",
       "      <td>50.0</td>\n",
       "      <td>62.0</td>\n",
       "      <td>...</td>\n",
       "      <td>None</td>\n",
       "      <td>None</td>\n",
       "      <td>9.788026e+12</td>\n",
       "      <td>2024-07-29 03:17:23</td>\n",
       "      <td>Pod Kaštanem by Barbora Majchráková</td>\n",
       "      <td>3.0</td>\n",
       "      <td>6.0</td>\n",
       "      <td>2.0</td>\n",
       "      <td>June 15, 2023</td>\n",
       "      <td>Barbora Majchráková</td>\n",
       "    </tr>\n",
       "    <tr>\n",
       "      <th>267666</th>\n",
       "      <td>9.788026e+12</td>\n",
       "      <td>2024-07-15 03:40:43</td>\n",
       "      <td>Pod Kaštanem</td>\n",
       "      <td>['Romány', 'Pro ženy', 'Literatura česká']</td>\n",
       "      <td>69.0</td>\n",
       "      <td>54.0</td>\n",
       "      <td>7.0</td>\n",
       "      <td>78.0</td>\n",
       "      <td>50.0</td>\n",
       "      <td>62.0</td>\n",
       "      <td>...</td>\n",
       "      <td>None</td>\n",
       "      <td>None</td>\n",
       "      <td>9.788026e+12</td>\n",
       "      <td>2024-08-12 03:40:30</td>\n",
       "      <td>Pod Kaštanem by Barbora Majchráková</td>\n",
       "      <td>3.0</td>\n",
       "      <td>6.0</td>\n",
       "      <td>2.0</td>\n",
       "      <td>June 15, 2023</td>\n",
       "      <td>Barbora Majchráková</td>\n",
       "    </tr>\n",
       "    <tr>\n",
       "      <th>267667</th>\n",
       "      <td>9.788026e+12</td>\n",
       "      <td>2024-07-15 03:40:43</td>\n",
       "      <td>Pod Kaštanem</td>\n",
       "      <td>['Romány', 'Pro ženy', 'Literatura česká']</td>\n",
       "      <td>69.0</td>\n",
       "      <td>54.0</td>\n",
       "      <td>7.0</td>\n",
       "      <td>78.0</td>\n",
       "      <td>50.0</td>\n",
       "      <td>62.0</td>\n",
       "      <td>...</td>\n",
       "      <td>None</td>\n",
       "      <td>None</td>\n",
       "      <td>9.788026e+12</td>\n",
       "      <td>2024-08-19 03:45:57</td>\n",
       "      <td>Pod Kaštanem by Barbora Majchráková</td>\n",
       "      <td>3.0</td>\n",
       "      <td>6.0</td>\n",
       "      <td>2.0</td>\n",
       "      <td>June 15, 2023</td>\n",
       "      <td>Barbora Majchráková</td>\n",
       "    </tr>\n",
       "    <tr>\n",
       "      <th>267668</th>\n",
       "      <td>9.788026e+12</td>\n",
       "      <td>2024-07-15 03:40:43</td>\n",
       "      <td>Pod Kaštanem</td>\n",
       "      <td>['Romány', 'Pro ženy', 'Literatura česká']</td>\n",
       "      <td>69.0</td>\n",
       "      <td>54.0</td>\n",
       "      <td>7.0</td>\n",
       "      <td>78.0</td>\n",
       "      <td>50.0</td>\n",
       "      <td>62.0</td>\n",
       "      <td>...</td>\n",
       "      <td>None</td>\n",
       "      <td>None</td>\n",
       "      <td>9.788026e+12</td>\n",
       "      <td>2024-08-26 03:33:58</td>\n",
       "      <td>Pod Kaštanem by Barbora Majchráková</td>\n",
       "      <td>3.0</td>\n",
       "      <td>6.0</td>\n",
       "      <td>2.0</td>\n",
       "      <td>June 15, 2023</td>\n",
       "      <td>Barbora Majchráková</td>\n",
       "    </tr>\n",
       "    <tr>\n",
       "      <th>267669</th>\n",
       "      <td>9.788026e+12</td>\n",
       "      <td>2024-07-15 03:40:43</td>\n",
       "      <td>Pod Kaštanem</td>\n",
       "      <td>['Romány', 'Pro ženy', 'Literatura česká']</td>\n",
       "      <td>69.0</td>\n",
       "      <td>54.0</td>\n",
       "      <td>7.0</td>\n",
       "      <td>78.0</td>\n",
       "      <td>50.0</td>\n",
       "      <td>62.0</td>\n",
       "      <td>...</td>\n",
       "      <td>None</td>\n",
       "      <td>None</td>\n",
       "      <td>9.788026e+12</td>\n",
       "      <td>2024-09-02 03:54:08</td>\n",
       "      <td>Pod Kaštanem by Barbora Majchráková</td>\n",
       "      <td>3.0</td>\n",
       "      <td>6.0</td>\n",
       "      <td>2.0</td>\n",
       "      <td>June 15, 2023</td>\n",
       "      <td>Barbora Majchráková</td>\n",
       "    </tr>\n",
       "  </tbody>\n",
       "</table>\n",
       "<p>267670 rows × 60 columns</p>\n",
       "</div>"
      ],
      "text/plain": [
       "             DK_isbn              DK_date          DK_titul  \\\n",
       "0       9.788028e+12  2024-04-01 14:39:23  Boží potměšilost   \n",
       "1       9.788028e+12  2024-04-01 14:39:23  Boží potměšilost   \n",
       "2       9.788028e+12  2024-04-01 14:39:23  Boží potměšilost   \n",
       "3       9.788028e+12  2024-04-01 14:39:23  Boží potměšilost   \n",
       "4       9.788028e+12  2024-04-01 14:39:23  Boží potměšilost   \n",
       "...              ...                  ...               ...   \n",
       "267665  9.788026e+12  2024-07-15 03:40:43      Pod Kaštanem   \n",
       "267666  9.788026e+12  2024-07-15 03:40:43      Pod Kaštanem   \n",
       "267667  9.788026e+12  2024-07-15 03:40:43      Pod Kaštanem   \n",
       "267668  9.788026e+12  2024-07-15 03:40:43      Pod Kaštanem   \n",
       "267669  9.788026e+12  2024-07-15 03:40:43      Pod Kaštanem   \n",
       "\n",
       "                                           DK_tags  DK_Knihotéce  \\\n",
       "0                                 ['české romány']          46.0   \n",
       "1                                 ['české romány']          46.0   \n",
       "2                                 ['české romány']          46.0   \n",
       "3                                 ['české romány']          46.0   \n",
       "4                                 ['české romány']          46.0   \n",
       "...                                            ...           ...   \n",
       "267665  ['Romány', 'Pro ženy', 'Literatura česká']          69.0   \n",
       "267666  ['Romány', 'Pro ženy', 'Literatura česká']          69.0   \n",
       "267667  ['Romány', 'Pro ženy', 'Literatura česká']          69.0   \n",
       "267668  ['Romány', 'Pro ženy', 'Literatura česká']          69.0   \n",
       "267669  ['Romány', 'Pro ženy', 'Literatura česká']          69.0   \n",
       "\n",
       "        DK_Chystám_se_číst  DK_Chci_si_koupit  DK_rating  DK_ratings_count  \\\n",
       "0                     29.0                6.0       78.0              18.0   \n",
       "1                     29.0                6.0       78.0              18.0   \n",
       "2                     29.0                6.0       78.0              18.0   \n",
       "3                     29.0                6.0       78.0              18.0   \n",
       "4                     29.0                6.0       78.0              18.0   \n",
       "...                    ...                ...        ...               ...   \n",
       "267665                54.0                7.0       78.0              50.0   \n",
       "267666                54.0                7.0       78.0              50.0   \n",
       "267667                54.0                7.0       78.0              50.0   \n",
       "267668                54.0                7.0       78.0              50.0   \n",
       "267669                54.0                7.0       78.0              50.0   \n",
       "\n",
       "        DK_Přečtených  ...  M_jazyková_úroveň  M_knižní_předloha  \\\n",
       "0                19.0  ...               None               None   \n",
       "1                19.0  ...               None               None   \n",
       "2                19.0  ...               None               None   \n",
       "3                19.0  ...               None               None   \n",
       "4                19.0  ...               None               None   \n",
       "...               ...  ...                ...                ...   \n",
       "267665           62.0  ...               None               None   \n",
       "267666           62.0  ...               None               None   \n",
       "267667           62.0  ...               None               None   \n",
       "267668           62.0  ...               None               None   \n",
       "267669           62.0  ...               None               None   \n",
       "\n",
       "             GR_isbn             GR_date                             GR_title  \\\n",
       "0       9.788028e+12 2024-04-29 02:00:07     Boží potměšilost by Zdeněk Řehák   \n",
       "1       9.788028e+12 2024-05-06 10:59:41     Boží potměšilost by Zdeněk Řehák   \n",
       "2       9.788028e+12 2024-05-13 03:01:26     Boží potměšilost by Zdeněk Řehák   \n",
       "3       9.788028e+12 2024-05-20 02:52:16     Boží potměšilost by Zdeněk Řehák   \n",
       "4       9.788028e+12 2024-05-27 03:05:47     Boží potměšilost by Zdeněk Řehák   \n",
       "...              ...                 ...                                  ...   \n",
       "267665  9.788026e+12 2024-07-29 03:17:23  Pod Kaštanem by Barbora Majchráková   \n",
       "267666  9.788026e+12 2024-08-12 03:40:30  Pod Kaštanem by Barbora Majchráková   \n",
       "267667  9.788026e+12 2024-08-19 03:45:57  Pod Kaštanem by Barbora Majchráková   \n",
       "267668  9.788026e+12 2024-08-26 03:33:58  Pod Kaštanem by Barbora Majchráková   \n",
       "267669  9.788026e+12 2024-09-02 03:54:08  Pod Kaštanem by Barbora Majchráková   \n",
       "\n",
       "        GR_rating GR_ratings_count GR_reviews     GR_published  \\\n",
       "0             2.0              1.0        0.0  January 1, 2023   \n",
       "1             2.0              1.0        0.0  January 1, 2023   \n",
       "2             2.0              1.0        0.0  January 1, 2023   \n",
       "3             2.0              1.0        0.0  January 1, 2023   \n",
       "4             2.0              1.0        0.0  January 1, 2023   \n",
       "...           ...              ...        ...              ...   \n",
       "267665        3.0              6.0        2.0    June 15, 2023   \n",
       "267666        3.0              6.0        2.0    June 15, 2023   \n",
       "267667        3.0              6.0        2.0    June 15, 2023   \n",
       "267668        3.0              6.0        2.0    June 15, 2023   \n",
       "267669        3.0              6.0        2.0    June 15, 2023   \n",
       "\n",
       "                  autorstvo  \n",
       "0              Zdeněk Řehák  \n",
       "1              Zdeněk Řehák  \n",
       "2              Zdeněk Řehák  \n",
       "3              Zdeněk Řehák  \n",
       "4              Zdeněk Řehák  \n",
       "...                     ...  \n",
       "267665  Barbora Majchráková  \n",
       "267666  Barbora Majchráková  \n",
       "267667  Barbora Majchráková  \n",
       "267668  Barbora Majchráková  \n",
       "267669  Barbora Majchráková  \n",
       "\n",
       "[267670 rows x 60 columns]"
      ]
     },
     "execution_count": 220,
     "metadata": {},
     "output_type": "execute_result"
    }
   ],
   "source": [
    "dkm"
   ]
  },
  {
   "cell_type": "code",
   "execution_count": 221,
   "id": "7b1f4a6d",
   "metadata": {},
   "outputs": [
    {
     "data": {
      "text/plain": [
       "Index(['DK_isbn', 'DK_date', 'DK_titul', 'DK_tags', 'DK_Knihotéce',\n",
       "       'DK_Chystám_se_číst', 'DK_Chci_si_koupit', 'DK_rating',\n",
       "       'DK_ratings_count', 'DK_Přečtených', 'DK_Čtenářské_výzvě',\n",
       "       'DK_dalších_seznamech', 'DK_Právě_čtených', 'DK_Doporučených', 'isbn',\n",
       "       'skore', 'hezky_titul', 'nakladatel', 'M_titul', 'M_autorstvo',\n",
       "       'M_anotace', 'M_počet_stran', 'M_vazba', 'M_rozměr', 'M_hmotnost',\n",
       "       'M_isbn', 'M_rok_vydání', 'M_jazyk', 'M_původ', 'M_nakladatel',\n",
       "       'M_kategorizace', 'M_cena', 'M_datum', 'M_série', 'M_díl', 'M_edice',\n",
       "       'M_pro_koho', 'M_e-kniha', 'M_přečtená', 'M_věkové_doporučení',\n",
       "       'M_styl', 'M_ilustrace', 'M_účel_knihy', 'M_audiokniha', 'M_vydání',\n",
       "       'M_originální_název', 'M_překlad', 'M_ostatní',\n",
       "       'M_předběžné_datum_vydání', 'M_příloha', 'M_jazyková_úroveň',\n",
       "       'M_knižní_předloha', 'GR_isbn', 'GR_date', 'GR_title', 'GR_rating',\n",
       "       'GR_ratings_count', 'GR_reviews', 'GR_published', 'autorstvo'],\n",
       "      dtype='object')"
      ]
     },
     "execution_count": 221,
     "metadata": {},
     "output_type": "execute_result"
    }
   ],
   "source": [
    "dkm.columns"
   ]
  },
  {
   "cell_type": "code",
   "execution_count": 222,
   "id": "15d634de",
   "metadata": {},
   "outputs": [],
   "source": [
    "import seaborn as sns"
   ]
  },
  {
   "cell_type": "code",
   "execution_count": 223,
   "id": "340b9231",
   "metadata": {},
   "outputs": [],
   "source": [
    "merged = pd.DataFrame(dkm[(dkm['DK_ratings_count'] > 10) & (dkm['GR_ratings_count'] > 5)].groupby(['isbn','M_počet_stran'])[['DK_Chystám_se_číst','DK_rating','DK_ratings_count','DK_Přečtených','GR_rating','GR_ratings_count']].max()).reset_index()"
   ]
  },
  {
   "cell_type": "code",
   "execution_count": 224,
   "id": "0b8b7c30",
   "metadata": {
    "scrolled": true
   },
   "outputs": [
    {
     "data": {
      "text/html": [
       "<div>\n",
       "<style scoped>\n",
       "    .dataframe tbody tr th:only-of-type {\n",
       "        vertical-align: middle;\n",
       "    }\n",
       "\n",
       "    .dataframe tbody tr th {\n",
       "        vertical-align: top;\n",
       "    }\n",
       "\n",
       "    .dataframe thead th {\n",
       "        text-align: right;\n",
       "    }\n",
       "</style>\n",
       "<table border=\"1\" class=\"dataframe\">\n",
       "  <thead>\n",
       "    <tr style=\"text-align: right;\">\n",
       "      <th></th>\n",
       "      <th>isbn</th>\n",
       "      <th>DK_ratings_count</th>\n",
       "      <th>GR_ratings_count</th>\n",
       "    </tr>\n",
       "  </thead>\n",
       "  <tbody>\n",
       "    <tr>\n",
       "      <th>0</th>\n",
       "      <td>9788011027667</td>\n",
       "      <td>19.0</td>\n",
       "      <td>7.0</td>\n",
       "    </tr>\n",
       "    <tr>\n",
       "      <th>1</th>\n",
       "      <td>9788011032210</td>\n",
       "      <td>29.0</td>\n",
       "      <td>6.0</td>\n",
       "    </tr>\n",
       "    <tr>\n",
       "      <th>2</th>\n",
       "      <td>9788011033620</td>\n",
       "      <td>14.0</td>\n",
       "      <td>9.0</td>\n",
       "    </tr>\n",
       "    <tr>\n",
       "      <th>3</th>\n",
       "      <td>9788011034887</td>\n",
       "      <td>179.0</td>\n",
       "      <td>111.0</td>\n",
       "    </tr>\n",
       "    <tr>\n",
       "      <th>4</th>\n",
       "      <td>9788011035594</td>\n",
       "      <td>101.0</td>\n",
       "      <td>180.0</td>\n",
       "    </tr>\n",
       "    <tr>\n",
       "      <th>...</th>\n",
       "      <td>...</td>\n",
       "      <td>...</td>\n",
       "      <td>...</td>\n",
       "    </tr>\n",
       "    <tr>\n",
       "      <th>267</th>\n",
       "      <td>9788090837690</td>\n",
       "      <td>95.0</td>\n",
       "      <td>159.0</td>\n",
       "    </tr>\n",
       "    <tr>\n",
       "      <th>268</th>\n",
       "      <td>9788090871250</td>\n",
       "      <td>31.0</td>\n",
       "      <td>87.0</td>\n",
       "    </tr>\n",
       "    <tr>\n",
       "      <th>269</th>\n",
       "      <td>9788090875968</td>\n",
       "      <td>85.0</td>\n",
       "      <td>24.0</td>\n",
       "    </tr>\n",
       "    <tr>\n",
       "      <th>270</th>\n",
       "      <td>9788090890602</td>\n",
       "      <td>199.0</td>\n",
       "      <td>379.0</td>\n",
       "    </tr>\n",
       "    <tr>\n",
       "      <th>271</th>\n",
       "      <td>9788090907706</td>\n",
       "      <td>36.0</td>\n",
       "      <td>39.0</td>\n",
       "    </tr>\n",
       "  </tbody>\n",
       "</table>\n",
       "<p>272 rows × 3 columns</p>\n",
       "</div>"
      ],
      "text/plain": [
       "              isbn  DK_ratings_count  GR_ratings_count\n",
       "0    9788011027667              19.0               7.0\n",
       "1    9788011032210              29.0               6.0\n",
       "2    9788011033620              14.0               9.0\n",
       "3    9788011034887             179.0             111.0\n",
       "4    9788011035594             101.0             180.0\n",
       "..             ...               ...               ...\n",
       "267  9788090837690              95.0             159.0\n",
       "268  9788090871250              31.0              87.0\n",
       "269  9788090875968              85.0              24.0\n",
       "270  9788090890602             199.0             379.0\n",
       "271  9788090907706              36.0              39.0\n",
       "\n",
       "[272 rows x 3 columns]"
      ]
     },
     "execution_count": 224,
     "metadata": {},
     "output_type": "execute_result"
    }
   ],
   "source": [
    "merged[['isbn','DK_ratings_count','GR_ratings_count']]"
   ]
  },
  {
   "cell_type": "code",
   "execution_count": 225,
   "id": "6b7e1330",
   "metadata": {},
   "outputs": [],
   "source": [
    "merged.to_csv(os.path.join('../one-off-jupyters','trenovaci.csv'), index=False)"
   ]
  },
  {
   "cell_type": "code",
   "execution_count": 226,
   "id": "3c96f0f1",
   "metadata": {},
   "outputs": [
    {
     "data": {
      "text/html": [
       "<div>\n",
       "<style scoped>\n",
       "    .dataframe tbody tr th:only-of-type {\n",
       "        vertical-align: middle;\n",
       "    }\n",
       "\n",
       "    .dataframe tbody tr th {\n",
       "        vertical-align: top;\n",
       "    }\n",
       "\n",
       "    .dataframe thead th {\n",
       "        text-align: right;\n",
       "    }\n",
       "</style>\n",
       "<table border=\"1\" class=\"dataframe\">\n",
       "  <thead>\n",
       "    <tr style=\"text-align: right;\">\n",
       "      <th></th>\n",
       "      <th>isbn</th>\n",
       "      <th>M_počet_stran</th>\n",
       "      <th>DK_Chystám_se_číst</th>\n",
       "      <th>DK_rating</th>\n",
       "      <th>DK_ratings_count</th>\n",
       "      <th>DK_Přečtených</th>\n",
       "      <th>GR_rating</th>\n",
       "      <th>GR_ratings_count</th>\n",
       "    </tr>\n",
       "  </thead>\n",
       "  <tbody>\n",
       "    <tr>\n",
       "      <th>0</th>\n",
       "      <td>9788011027667</td>\n",
       "      <td>208.0</td>\n",
       "      <td>36.0</td>\n",
       "      <td>91.0</td>\n",
       "      <td>19.0</td>\n",
       "      <td>26.0</td>\n",
       "      <td>4.33</td>\n",
       "      <td>7.0</td>\n",
       "    </tr>\n",
       "    <tr>\n",
       "      <th>1</th>\n",
       "      <td>9788011032210</td>\n",
       "      <td>156.0</td>\n",
       "      <td>29.0</td>\n",
       "      <td>98.0</td>\n",
       "      <td>29.0</td>\n",
       "      <td>44.0</td>\n",
       "      <td>4.17</td>\n",
       "      <td>6.0</td>\n",
       "    </tr>\n",
       "    <tr>\n",
       "      <th>2</th>\n",
       "      <td>9788011033620</td>\n",
       "      <td>352.0</td>\n",
       "      <td>11.0</td>\n",
       "      <td>100.0</td>\n",
       "      <td>14.0</td>\n",
       "      <td>17.0</td>\n",
       "      <td>4.13</td>\n",
       "      <td>9.0</td>\n",
       "    </tr>\n",
       "    <tr>\n",
       "      <th>3</th>\n",
       "      <td>9788011034887</td>\n",
       "      <td>400.0</td>\n",
       "      <td>97.0</td>\n",
       "      <td>87.0</td>\n",
       "      <td>179.0</td>\n",
       "      <td>204.0</td>\n",
       "      <td>4.19</td>\n",
       "      <td>111.0</td>\n",
       "    </tr>\n",
       "    <tr>\n",
       "      <th>4</th>\n",
       "      <td>9788011035594</td>\n",
       "      <td>248.0</td>\n",
       "      <td>126.0</td>\n",
       "      <td>88.0</td>\n",
       "      <td>101.0</td>\n",
       "      <td>156.0</td>\n",
       "      <td>4.24</td>\n",
       "      <td>180.0</td>\n",
       "    </tr>\n",
       "    <tr>\n",
       "      <th>...</th>\n",
       "      <td>...</td>\n",
       "      <td>...</td>\n",
       "      <td>...</td>\n",
       "      <td>...</td>\n",
       "      <td>...</td>\n",
       "      <td>...</td>\n",
       "      <td>...</td>\n",
       "      <td>...</td>\n",
       "    </tr>\n",
       "    <tr>\n",
       "      <th>267</th>\n",
       "      <td>9788090837690</td>\n",
       "      <td>256.0</td>\n",
       "      <td>46.0</td>\n",
       "      <td>80.0</td>\n",
       "      <td>95.0</td>\n",
       "      <td>103.0</td>\n",
       "      <td>3.86</td>\n",
       "      <td>159.0</td>\n",
       "    </tr>\n",
       "    <tr>\n",
       "      <th>268</th>\n",
       "      <td>9788090871250</td>\n",
       "      <td>219.0</td>\n",
       "      <td>27.0</td>\n",
       "      <td>92.0</td>\n",
       "      <td>31.0</td>\n",
       "      <td>37.0</td>\n",
       "      <td>4.39</td>\n",
       "      <td>87.0</td>\n",
       "    </tr>\n",
       "    <tr>\n",
       "      <th>269</th>\n",
       "      <td>9788090875968</td>\n",
       "      <td>411.0</td>\n",
       "      <td>39.0</td>\n",
       "      <td>83.0</td>\n",
       "      <td>85.0</td>\n",
       "      <td>132.0</td>\n",
       "      <td>4.14</td>\n",
       "      <td>24.0</td>\n",
       "    </tr>\n",
       "    <tr>\n",
       "      <th>270</th>\n",
       "      <td>9788090890602</td>\n",
       "      <td>336.0</td>\n",
       "      <td>173.0</td>\n",
       "      <td>90.0</td>\n",
       "      <td>199.0</td>\n",
       "      <td>226.0</td>\n",
       "      <td>4.51</td>\n",
       "      <td>379.0</td>\n",
       "    </tr>\n",
       "    <tr>\n",
       "      <th>271</th>\n",
       "      <td>9788090907706</td>\n",
       "      <td>336.0</td>\n",
       "      <td>125.0</td>\n",
       "      <td>88.0</td>\n",
       "      <td>36.0</td>\n",
       "      <td>48.0</td>\n",
       "      <td>4.18</td>\n",
       "      <td>39.0</td>\n",
       "    </tr>\n",
       "  </tbody>\n",
       "</table>\n",
       "<p>272 rows × 8 columns</p>\n",
       "</div>"
      ],
      "text/plain": [
       "              isbn  M_počet_stran  DK_Chystám_se_číst  DK_rating  \\\n",
       "0    9788011027667          208.0                36.0       91.0   \n",
       "1    9788011032210          156.0                29.0       98.0   \n",
       "2    9788011033620          352.0                11.0      100.0   \n",
       "3    9788011034887          400.0                97.0       87.0   \n",
       "4    9788011035594          248.0               126.0       88.0   \n",
       "..             ...            ...                 ...        ...   \n",
       "267  9788090837690          256.0                46.0       80.0   \n",
       "268  9788090871250          219.0                27.0       92.0   \n",
       "269  9788090875968          411.0                39.0       83.0   \n",
       "270  9788090890602          336.0               173.0       90.0   \n",
       "271  9788090907706          336.0               125.0       88.0   \n",
       "\n",
       "     DK_ratings_count  DK_Přečtených  GR_rating  GR_ratings_count  \n",
       "0                19.0           26.0       4.33               7.0  \n",
       "1                29.0           44.0       4.17               6.0  \n",
       "2                14.0           17.0       4.13               9.0  \n",
       "3               179.0          204.0       4.19             111.0  \n",
       "4               101.0          156.0       4.24             180.0  \n",
       "..                ...            ...        ...               ...  \n",
       "267              95.0          103.0       3.86             159.0  \n",
       "268              31.0           37.0       4.39              87.0  \n",
       "269              85.0          132.0       4.14              24.0  \n",
       "270             199.0          226.0       4.51             379.0  \n",
       "271              36.0           48.0       4.18              39.0  \n",
       "\n",
       "[272 rows x 8 columns]"
      ]
     },
     "execution_count": 226,
     "metadata": {},
     "output_type": "execute_result"
    }
   ],
   "source": [
    "merged"
   ]
  },
  {
   "cell_type": "code",
   "execution_count": 227,
   "id": "a097f3a1",
   "metadata": {},
   "outputs": [
    {
     "data": {
      "text/plain": [
       "<Axes: ylabel='Density'>"
      ]
     },
     "execution_count": 227,
     "metadata": {},
     "output_type": "execute_result"
    },
    {
     "data": {
      "image/png": "[encoded data removed]",
      "text/plain": [
       "<Figure size 640x480 with 1 Axes>"
      ]
     },
     "metadata": {},
     "output_type": "display_data"
    }
   ],
   "source": [
    "pd.Series(merged.groupby('isbn')['DK_ratings_count'].max() / merged.groupby('isbn')['GR_ratings_count'].max()).plot.density()"
   ]
  },
  {
   "cell_type": "code",
   "execution_count": 228,
   "id": "449b0d33",
   "metadata": {},
   "outputs": [
    {
     "data": {
      "text/plain": [
       "isbn\n",
       "9788027910014    21.333333\n",
       "9788027912841    18.000000\n",
       "9788024951249    16.833333\n",
       "9788027910182    16.700000\n",
       "9788024950143    15.000000\n",
       "dtype: float64"
      ]
     },
     "execution_count": 228,
     "metadata": {},
     "output_type": "execute_result"
    }
   ],
   "source": [
    "pd.Series(merged.groupby('isbn')['DK_ratings_count'].max() / merged.groupby('isbn')['GR_ratings_count'].max()).nlargest()"
   ]
  },
  {
   "cell_type": "code",
   "execution_count": 229,
   "id": "e26085e7",
   "metadata": {},
   "outputs": [
    {
     "data": {
      "text/plain": [
       "isbn\n",
       "9788088433262    0.116788\n",
       "9788011037154    0.225225\n",
       "9788027720613    0.245614\n",
       "9788090819269    0.256098\n",
       "9788088494065    0.259542\n",
       "dtype: float64"
      ]
     },
     "execution_count": 229,
     "metadata": {},
     "output_type": "execute_result"
    }
   ],
   "source": [
    "pd.Series(merged.groupby('isbn')['DK_ratings_count'].max() / merged.groupby('isbn')['GR_ratings_count'].max()).nsmallest()"
   ]
  },
  {
   "cell_type": "code",
   "execution_count": 230,
   "id": "353e36db",
   "metadata": {},
   "outputs": [
    {
     "name": "stderr",
     "output_type": "stream",
     "text": [
      "C:\\tools\\anaconda3\\Lib\\site-packages\\seaborn\\axisgrid.py:118: UserWarning: The figure layout has changed to tight\n",
      "  self._figure.tight_layout(*args, **kwargs)\n"
     ]
    },
    {
     "data": {
      "text/plain": [
       "<seaborn.axisgrid.FacetGrid at 0x255ee12cdd0>"
      ]
     },
     "execution_count": 230,
     "metadata": {},
     "output_type": "execute_result"
    },
    {
     "data": {
      "image/png": "[encoded data removed]",
      "text/plain": [
       "<Figure size 500x500 with 1 Axes>"
      ]
     },
     "metadata": {},
     "output_type": "display_data"
    }
   ],
   "source": [
    "sns.lmplot(x='DK_ratings_count', y='GR_ratings_count', data=merged)"
   ]
  },
  {
   "cell_type": "code",
   "execution_count": 231,
   "id": "6352a734",
   "metadata": {},
   "outputs": [
    {
     "name": "stderr",
     "output_type": "stream",
     "text": [
      "C:\\tools\\anaconda3\\Lib\\site-packages\\seaborn\\axisgrid.py:118: UserWarning: The figure layout has changed to tight\n",
      "  self._figure.tight_layout(*args, **kwargs)\n"
     ]
    },
    {
     "data": {
      "text/plain": [
       "<seaborn.axisgrid.FacetGrid at 0x255fa344a50>"
      ]
     },
     "execution_count": 231,
     "metadata": {},
     "output_type": "execute_result"
    },
    {
     "data": {
      "image/png": "[encoded data removed]",
      "text/plain": [
       "<Figure size 500x500 with 1 Axes>"
      ]
     },
     "metadata": {},
     "output_type": "display_data"
    }
   ],
   "source": [
    "sns.lmplot(x='M_počet_stran', y='DK_Přečtených', data=merged)"
   ]
  },
  {
   "cell_type": "code",
   "execution_count": 232,
   "id": "4f23a3ee",
   "metadata": {},
   "outputs": [
    {
     "name": "stderr",
     "output_type": "stream",
     "text": [
      "C:\\tools\\anaconda3\\Lib\\site-packages\\seaborn\\axisgrid.py:118: UserWarning: The figure layout has changed to tight\n",
      "  self._figure.tight_layout(*args, **kwargs)\n"
     ]
    },
    {
     "data": {
      "text/plain": [
       "<seaborn.axisgrid.FacetGrid at 0x255f96f2a10>"
      ]
     },
     "execution_count": 232,
     "metadata": {},
     "output_type": "execute_result"
    },
    {
     "data": {
      "image/png": "[encoded data removed]",
      "text/plain": [
       "<Figure size 500x500 with 1 Axes>"
      ]
     },
     "metadata": {},
     "output_type": "display_data"
    }
   ],
   "source": [
    "sns.lmplot(x='M_počet_stran', y='DK_ratings_count', data=merged)"
   ]
  },
  {
   "cell_type": "code",
   "execution_count": 233,
   "id": "307c681a",
   "metadata": {},
   "outputs": [
    {
     "name": "stderr",
     "output_type": "stream",
     "text": [
      "C:\\tools\\anaconda3\\Lib\\site-packages\\seaborn\\axisgrid.py:118: UserWarning: The figure layout has changed to tight\n",
      "  self._figure.tight_layout(*args, **kwargs)\n"
     ]
    },
    {
     "data": {
      "text/plain": [
       "<seaborn.axisgrid.FacetGrid at 0x255f975f150>"
      ]
     },
     "execution_count": 233,
     "metadata": {},
     "output_type": "execute_result"
    },
    {
     "data": {
      "image/png": "[encoded data removed]",
      "text/plain": [
       "<Figure size 500x500 with 1 Axes>"
      ]
     },
     "metadata": {},
     "output_type": "display_data"
    }
   ],
   "source": [
    "sns.lmplot(x='M_počet_stran', y='DK_rating', data=merged)"
   ]
  },
  {
   "cell_type": "code",
   "execution_count": 234,
   "id": "fb10b826",
   "metadata": {},
   "outputs": [
    {
     "name": "stderr",
     "output_type": "stream",
     "text": [
      "C:\\tools\\anaconda3\\Lib\\site-packages\\seaborn\\axisgrid.py:118: UserWarning: The figure layout has changed to tight\n",
      "  self._figure.tight_layout(*args, **kwargs)\n"
     ]
    },
    {
     "data": {
      "text/plain": [
       "<seaborn.axisgrid.FacetGrid at 0x255f97cee90>"
      ]
     },
     "execution_count": 234,
     "metadata": {},
     "output_type": "execute_result"
    },
    {
     "data": {
      "image/png": "[encoded data removed]",
      "text/plain": [
       "<Figure size 500x500 with 1 Axes>"
      ]
     },
     "metadata": {},
     "output_type": "display_data"
    }
   ],
   "source": [
    "sns.lmplot(x='M_počet_stran', y='DK_Chystám_se_číst', data=merged)"
   ]
  },
  {
   "cell_type": "markdown",
   "id": "5ae42f76",
   "metadata": {},
   "source": [
    "## Co se líbí"
   ]
  },
  {
   "cell_type": "code",
   "execution_count": 235,
   "id": "c3593e9a",
   "metadata": {},
   "outputs": [
    {
     "data": {
      "text/plain": [
       "Index(['DK_isbn', 'DK_date', 'DK_titul', 'DK_tags', 'DK_Knihotéce',\n",
       "       'DK_Chystám_se_číst', 'DK_Chci_si_koupit', 'DK_rating',\n",
       "       'DK_ratings_count', 'DK_Přečtených', 'DK_Čtenářské_výzvě',\n",
       "       'DK_dalších_seznamech', 'DK_Právě_čtených', 'DK_Doporučených', 'isbn',\n",
       "       'skore', 'hezky_titul', 'nakladatel'],\n",
       "      dtype='object')"
      ]
     },
     "execution_count": 235,
     "metadata": {},
     "output_type": "execute_result"
    }
   ],
   "source": [
    "dk.columns"
   ]
  },
  {
   "cell_type": "code",
   "execution_count": 236,
   "id": "49424984",
   "metadata": {
    "scrolled": true
   },
   "outputs": [],
   "source": [
    "tagy = dk.copy()\n",
    "tagy['DK_tags'] = tagy['DK_tags'].apply(lambda x: x.replace(f\"\"\"[\"\"\",'').replace(f\"\"\"]\"\"\",'').replace(f\"\"\"'\"\"\",\"\").split(', '))\n",
    "tagy = tagy.explode('DK_tags')\n",
    "tagy['DK_tags'] = tagy['DK_tags'].apply(lambda x: x.lower())\n",
    "tagy = tagy[['DK_date','DK_titul','DK_ratings_count','DK_rating','DK_tags']]\n",
    "tagy = tagy[tagy['DK_date'] > week_ago]"
   ]
  },
  {
   "cell_type": "code",
   "execution_count": 237,
   "id": "fa4780e4",
   "metadata": {},
   "outputs": [
    {
     "data": {
      "text/html": [
       "<div>\n",
       "<style scoped>\n",
       "    .dataframe tbody tr th:only-of-type {\n",
       "        vertical-align: middle;\n",
       "    }\n",
       "\n",
       "    .dataframe tbody tr th {\n",
       "        vertical-align: top;\n",
       "    }\n",
       "\n",
       "    .dataframe thead th {\n",
       "        text-align: right;\n",
       "    }\n",
       "</style>\n",
       "<table border=\"1\" class=\"dataframe\">\n",
       "  <thead>\n",
       "    <tr style=\"text-align: right;\">\n",
       "      <th></th>\n",
       "      <th>DK_date</th>\n",
       "      <th>DK_titul</th>\n",
       "      <th>DK_ratings_count</th>\n",
       "      <th>DK_rating</th>\n",
       "      <th>DK_tags</th>\n",
       "    </tr>\n",
       "  </thead>\n",
       "  <tbody>\n",
       "  </tbody>\n",
       "</table>\n",
       "</div>"
      ],
      "text/plain": [
       "Empty DataFrame\n",
       "Columns: [DK_date, DK_titul, DK_ratings_count, DK_rating, DK_tags]\n",
       "Index: []"
      ]
     },
     "execution_count": 237,
     "metadata": {},
     "output_type": "execute_result"
    }
   ],
   "source": [
    "tagy"
   ]
  },
  {
   "cell_type": "code",
   "execution_count": 238,
   "id": "d875645e",
   "metadata": {},
   "outputs": [],
   "source": [
    "romany = tagy[tagy['DK_tags'].str.contains('román',na=False)]['DK_titul'].drop_duplicates().to_list()"
   ]
  },
  {
   "cell_type": "code",
   "execution_count": 239,
   "id": "5dab93c5",
   "metadata": {},
   "outputs": [
    {
     "data": {
      "text/plain": [
       "0"
      ]
     },
     "execution_count": 239,
     "metadata": {},
     "output_type": "execute_result"
    }
   ],
   "source": [
    "tagy['DK_tags'].nunique()"
   ]
  },
  {
   "cell_type": "code",
   "execution_count": 240,
   "id": "762430aa",
   "metadata": {},
   "outputs": [
    {
     "data": {
      "text/plain": [
       "<bound method NDFrame.sample of             DK_isbn              DK_date                DK_titul  \\\n",
       "0      9.788028e+12  2024-04-01 14:39:23        Boží potměšilost   \n",
       "1      9.788021e+12  2024-04-01 14:39:24  Oprátka za osm mrtvých   \n",
       "2      9.788072e+12  2024-04-01 14:39:25                   Golem   \n",
       "3      9.788076e+12  2024-04-01 14:39:26  Proč všichni odcházejí   \n",
       "4      9.788024e+12  2024-04-01 14:39:27                  Sochař   \n",
       "...             ...                  ...                     ...   \n",
       "23331  9.788025e+12  2024-07-15 03:40:42           Trnitá kletba   \n",
       "23332  9.788072e+12  2024-07-15 03:40:42         Zuta a svlečena   \n",
       "23333  9.788024e+12  2024-07-15 03:40:43    Ve škole i za školou   \n",
       "23334  9.788028e+12  2024-07-15 03:40:43  V hrůze a krvi zrozeni   \n",
       "23335  9.788026e+12  2024-07-15 03:40:43            Pod Kaštanem   \n",
       "\n",
       "                                                 DK_tags  DK_Knihotéce  \\\n",
       "0                                       ['české romány']          46.0   \n",
       "1      ['ženy', 'psychiatrické léčebny', 'Českosloven...         150.0   \n",
       "2                                  ['golem', 'Rabi Löw']          28.0   \n",
       "3                              ['autobiografické prvky']          13.0   \n",
       "4                                                     []          46.0   \n",
       "...                                                  ...           ...   \n",
       "23331  ['Literatura česká', 'Fantasy', 'Pro děti a ml...          89.0   \n",
       "23332                     ['Literatura česká', 'Poezie']           1.0   \n",
       "23333                    ['Povídky', 'Literatura česká']          39.0   \n",
       "23334  ['Horory', 'Povídky', 'Literatura česká', 'hor...          64.0   \n",
       "23335         ['Romány', 'Pro ženy', 'Literatura česká']          69.0   \n",
       "\n",
       "       DK_Chystám_se_číst  DK_Chci_si_koupit  DK_rating  DK_ratings_count  \\\n",
       "0                    29.0                6.0       78.0              18.0   \n",
       "1                   210.0               60.0       88.0             301.0   \n",
       "2                    18.0                3.0       82.0              26.0   \n",
       "3                   170.0               45.0       91.0              50.0   \n",
       "4                    23.0                7.0       81.0              19.0   \n",
       "...                   ...                ...        ...               ...   \n",
       "23331               105.0               26.0       83.0              79.0   \n",
       "23332                 8.0                1.0       80.0               5.0   \n",
       "23333                23.0                6.0       78.0              49.0   \n",
       "23334                38.0               16.0       69.0              53.0   \n",
       "23335                54.0                7.0       78.0              50.0   \n",
       "\n",
       "       DK_Přečtených  DK_Čtenářské_výzvě  DK_dalších_seznamech  \\\n",
       "0               19.0                 NaN                   NaN   \n",
       "1              400.0                56.0                   9.0   \n",
       "2               34.0                 4.0                   NaN   \n",
       "3               59.0                 1.0                   NaN   \n",
       "4               28.0                 2.0                   1.0   \n",
       "...              ...                 ...                   ...   \n",
       "23331           90.0                15.0                   4.0   \n",
       "23332            5.0                 NaN                   1.0   \n",
       "23333           64.0                 7.0                   NaN   \n",
       "23334           53.0                 8.0                   3.0   \n",
       "23335           62.0                 4.0                   2.0   \n",
       "\n",
       "       DK_Právě_čtených  DK_Doporučených           isbn  skore  \\\n",
       "0                   NaN              NaN  9788027904853   48.0   \n",
       "1                   3.0             22.0  9788020615770  610.0   \n",
       "2                   NaN              3.0  9788072444748   52.0   \n",
       "3                   2.0              5.0  9788076374591  229.0   \n",
       "4                   1.0              1.0  9788024289472   51.0   \n",
       "...                 ...              ...            ...    ...   \n",
       "23331               3.0              9.0  9788025363850  195.0   \n",
       "23332               NaN              NaN  9788072278879   13.0   \n",
       "23333               NaN              3.0  9788024288826   87.0   \n",
       "23334               2.0              2.0  9788027721405   91.0   \n",
       "23335               NaN              4.0  9788025741528  116.0   \n",
       "\n",
       "                                             hezky_titul  \\\n",
       "0                         Zdeněk Řehák: Boží potměšilost   \n",
       "1                    Roman Cílek: Oprátka za osm mrtvých   \n",
       "2                                   Karel Štorkán: Golem   \n",
       "3               Zuzana Dostálová: Proč všichni odcházejí   \n",
       "4                                 Artur Janoušek: Sochař   \n",
       "...                                                  ...   \n",
       "23331                       Anežka Kočová: Trnitá kletba   \n",
       "23332                     Milan Ohnisko: Zuta a svlečena   \n",
       "23333  ['Alena Mornštajnová', 'Anna Bolavá', 'Jakuba ...   \n",
       "23334                       None: V hrůze a krvi zrozeni   \n",
       "23335                  Barbora Majchráková: Pod Kaštanem   \n",
       "\n",
       "                    nakladatel  \n",
       "0                         Moba  \n",
       "1                  Naše vojsko  \n",
       "2                 Šulc - Švarc  \n",
       "3                       Paseka  \n",
       "4                       Kalibr  \n",
       "...                        ...  \n",
       "23331  Nakladatelství Fragment  \n",
       "23332              Druhé město  \n",
       "23333                   Listen  \n",
       "23334                    Fobos  \n",
       "23335                     Argo  \n",
       "\n",
       "[23336 rows x 18 columns]>"
      ]
     },
     "execution_count": 240,
     "metadata": {},
     "output_type": "execute_result"
    }
   ],
   "source": [
    "dk.sample"
   ]
  },
  {
   "cell_type": "code",
   "execution_count": 241,
   "id": "84a8678c",
   "metadata": {},
   "outputs": [
    {
     "data": {
      "text/plain": [
       "0"
      ]
     },
     "execution_count": 241,
     "metadata": {},
     "output_type": "execute_result"
    }
   ],
   "source": [
    "nejcastejsi_tagy = tagy.groupby('DK_tags').size()\n",
    "nejcastejsi_tagy = nejcastejsi_tagy[nejcastejsi_tagy >= 10]\n",
    "nejcastejsi_tagy = nejcastejsi_tagy.index.to_list()\n",
    "len(nejcastejsi_tagy)"
   ]
  },
  {
   "cell_type": "code",
   "execution_count": 242,
   "id": "b003c9c1",
   "metadata": {},
   "outputs": [
    {
     "data": {
      "text/plain": [
       "[]"
      ]
     },
     "execution_count": 242,
     "metadata": {},
     "output_type": "execute_result"
    }
   ],
   "source": [
    "nejcastejsi_tagy"
   ]
  },
  {
   "cell_type": "code",
   "execution_count": 243,
   "id": "54e6b4dd",
   "metadata": {},
   "outputs": [],
   "source": [
    "zebricek = tagy[(tagy['DK_tags'].isin(nejcastejsi_tagy)) & (tagy['DK_titul'].isin(romany))].groupby('DK_tags')['DK_rating'].mean().sort_values(ascending=False)"
   ]
  },
  {
   "cell_type": "code",
   "execution_count": 244,
   "id": "f0b67038",
   "metadata": {},
   "outputs": [
    {
     "data": {
      "text/plain": [
       "Series([], Name: DK_rating, dtype: float64)"
      ]
     },
     "execution_count": 244,
     "metadata": {},
     "output_type": "execute_result"
    }
   ],
   "source": [
    "zebricek.head(20)"
   ]
  },
  {
   "cell_type": "code",
   "execution_count": 245,
   "id": "ecf3e2c0",
   "metadata": {},
   "outputs": [
    {
     "data": {
      "text/plain": [
       "Series([], Name: DK_rating, dtype: float64)"
      ]
     },
     "execution_count": 245,
     "metadata": {},
     "output_type": "execute_result"
    }
   ],
   "source": [
    "zebricek.tail(20)"
   ]
  },
  {
   "cell_type": "code",
   "execution_count": 246,
   "id": "5c62fb1e",
   "metadata": {},
   "outputs": [
    {
     "data": {
      "text/plain": [
       "Index(['DK_isbn', 'DK_date', 'DK_titul', 'DK_tags', 'DK_Knihotéce',\n",
       "       'DK_Chystám_se_číst', 'DK_Chci_si_koupit', 'DK_rating',\n",
       "       'DK_ratings_count', 'DK_Přečtených', 'DK_Čtenářské_výzvě',\n",
       "       'DK_dalších_seznamech', 'DK_Právě_čtených', 'DK_Doporučených', 'isbn',\n",
       "       'skore', 'hezky_titul', 'nakladatel'],\n",
       "      dtype='object')"
      ]
     },
     "execution_count": 246,
     "metadata": {},
     "output_type": "execute_result"
    }
   ],
   "source": [
    "dk.columns"
   ]
  },
  {
   "cell_type": "code",
   "execution_count": 247,
   "id": "e936b70d",
   "metadata": {},
   "outputs": [],
   "source": [
    "dk['DK_date'] = pd.to_datetime(dk['DK_date'])"
   ]
  },
  {
   "cell_type": "code",
   "execution_count": 248,
   "id": "f4da30df",
   "metadata": {},
   "outputs": [
    {
     "data": {
      "text/html": [
       "<div>\n",
       "<style scoped>\n",
       "    .dataframe tbody tr th:only-of-type {\n",
       "        vertical-align: middle;\n",
       "    }\n",
       "\n",
       "    .dataframe tbody tr th {\n",
       "        vertical-align: top;\n",
       "    }\n",
       "\n",
       "    .dataframe thead th {\n",
       "        text-align: right;\n",
       "    }\n",
       "</style>\n",
       "<table border=\"1\" class=\"dataframe\">\n",
       "  <thead>\n",
       "    <tr style=\"text-align: right;\">\n",
       "      <th></th>\n",
       "      <th>DK_isbn</th>\n",
       "      <th>DK_date</th>\n",
       "      <th>DK_titul</th>\n",
       "      <th>DK_tags</th>\n",
       "      <th>DK_Knihotéce</th>\n",
       "      <th>DK_Chystám_se_číst</th>\n",
       "      <th>DK_Chci_si_koupit</th>\n",
       "      <th>DK_rating</th>\n",
       "      <th>DK_ratings_count</th>\n",
       "      <th>DK_Přečtených</th>\n",
       "      <th>DK_Čtenářské_výzvě</th>\n",
       "      <th>DK_dalších_seznamech</th>\n",
       "      <th>DK_Právě_čtených</th>\n",
       "      <th>DK_Doporučených</th>\n",
       "      <th>isbn</th>\n",
       "      <th>skore</th>\n",
       "      <th>hezky_titul</th>\n",
       "      <th>nakladatel</th>\n",
       "    </tr>\n",
       "  </thead>\n",
       "  <tbody>\n",
       "    <tr>\n",
       "      <th>271</th>\n",
       "      <td>9.788076e+12</td>\n",
       "      <td>2024-04-01 14:46:30</td>\n",
       "      <td>Rozložíš paměť</td>\n",
       "      <td>['homosexualita', 'česká literatura', 'dospívá...</td>\n",
       "      <td>47.0</td>\n",
       "      <td>237.0</td>\n",
       "      <td>67.0</td>\n",
       "      <td>84.0</td>\n",
       "      <td>113.0</td>\n",
       "      <td>138.0</td>\n",
       "      <td>25.0</td>\n",
       "      <td>4.0</td>\n",
       "      <td>10.0</td>\n",
       "      <td>10.0</td>\n",
       "      <td>9788076373990</td>\n",
       "      <td>375.0</td>\n",
       "      <td>Marek Torčík: Rozložíš paměť</td>\n",
       "      <td>Paseka</td>\n",
       "    </tr>\n",
       "    <tr>\n",
       "      <th>1383</th>\n",
       "      <td>9.788076e+12</td>\n",
       "      <td>2024-04-02 10:29:20</td>\n",
       "      <td>Rozložíš paměť</td>\n",
       "      <td>['homosexualita', 'česká literatura', 'dospívá...</td>\n",
       "      <td>47.0</td>\n",
       "      <td>238.0</td>\n",
       "      <td>67.0</td>\n",
       "      <td>84.0</td>\n",
       "      <td>113.0</td>\n",
       "      <td>138.0</td>\n",
       "      <td>25.0</td>\n",
       "      <td>4.0</td>\n",
       "      <td>10.0</td>\n",
       "      <td>10.0</td>\n",
       "      <td>9788076373990</td>\n",
       "      <td>376.0</td>\n",
       "      <td>Marek Torčík: Rozložíš paměť</td>\n",
       "      <td>Paseka</td>\n",
       "    </tr>\n",
       "    <tr>\n",
       "      <th>2499</th>\n",
       "      <td>9.788076e+12</td>\n",
       "      <td>2024-04-03 16:59:08</td>\n",
       "      <td>Rozložíš paměť</td>\n",
       "      <td>['homosexualita', 'česká literatura', 'dospívá...</td>\n",
       "      <td>47.0</td>\n",
       "      <td>238.0</td>\n",
       "      <td>67.0</td>\n",
       "      <td>84.0</td>\n",
       "      <td>113.0</td>\n",
       "      <td>138.0</td>\n",
       "      <td>25.0</td>\n",
       "      <td>4.0</td>\n",
       "      <td>10.0</td>\n",
       "      <td>10.0</td>\n",
       "      <td>9788076373990</td>\n",
       "      <td>376.0</td>\n",
       "      <td>Marek Torčík: Rozložíš paměť</td>\n",
       "      <td>Paseka</td>\n",
       "    </tr>\n",
       "    <tr>\n",
       "      <th>3617</th>\n",
       "      <td>9.788076e+12</td>\n",
       "      <td>2024-04-05 10:10:41</td>\n",
       "      <td>Rozložíš paměť</td>\n",
       "      <td>['homosexualita', 'česká literatura', 'dospívá...</td>\n",
       "      <td>47.0</td>\n",
       "      <td>240.0</td>\n",
       "      <td>67.0</td>\n",
       "      <td>84.0</td>\n",
       "      <td>114.0</td>\n",
       "      <td>139.0</td>\n",
       "      <td>25.0</td>\n",
       "      <td>4.0</td>\n",
       "      <td>10.0</td>\n",
       "      <td>10.0</td>\n",
       "      <td>9788076373990</td>\n",
       "      <td>379.0</td>\n",
       "      <td>Marek Torčík: Rozložíš paměť</td>\n",
       "      <td>Paseka</td>\n",
       "    </tr>\n",
       "    <tr>\n",
       "      <th>4732</th>\n",
       "      <td>9.788076e+12</td>\n",
       "      <td>2024-04-07 13:44:59</td>\n",
       "      <td>Rozložíš paměť</td>\n",
       "      <td>['homosexualita', 'česká literatura', 'dospívá...</td>\n",
       "      <td>47.0</td>\n",
       "      <td>242.0</td>\n",
       "      <td>67.0</td>\n",
       "      <td>84.0</td>\n",
       "      <td>115.0</td>\n",
       "      <td>140.0</td>\n",
       "      <td>26.0</td>\n",
       "      <td>4.0</td>\n",
       "      <td>12.0</td>\n",
       "      <td>10.0</td>\n",
       "      <td>9788076373990</td>\n",
       "      <td>382.0</td>\n",
       "      <td>Marek Torčík: Rozložíš paměť</td>\n",
       "      <td>Paseka</td>\n",
       "    </tr>\n",
       "    <tr>\n",
       "      <th>5854</th>\n",
       "      <td>9.788076e+12</td>\n",
       "      <td>2024-04-19 23:46:17</td>\n",
       "      <td>Rozložíš paměť</td>\n",
       "      <td>['homosexualita', 'česká literatura', 'dospívá...</td>\n",
       "      <td>54.0</td>\n",
       "      <td>285.0</td>\n",
       "      <td>72.0</td>\n",
       "      <td>85.0</td>\n",
       "      <td>128.0</td>\n",
       "      <td>154.0</td>\n",
       "      <td>29.0</td>\n",
       "      <td>5.0</td>\n",
       "      <td>15.0</td>\n",
       "      <td>12.0</td>\n",
       "      <td>9788076373990</td>\n",
       "      <td>439.0</td>\n",
       "      <td>Marek Torčík: Rozložíš paměť</td>\n",
       "      <td>Paseka</td>\n",
       "    </tr>\n",
       "    <tr>\n",
       "      <th>7011</th>\n",
       "      <td>9.788076e+12</td>\n",
       "      <td>2024-04-22 03:28:44</td>\n",
       "      <td>Rozložíš paměť</td>\n",
       "      <td>['homosexualita', 'česká literatura', 'dospívá...</td>\n",
       "      <td>55.0</td>\n",
       "      <td>293.0</td>\n",
       "      <td>74.0</td>\n",
       "      <td>85.0</td>\n",
       "      <td>130.0</td>\n",
       "      <td>158.0</td>\n",
       "      <td>29.0</td>\n",
       "      <td>5.0</td>\n",
       "      <td>13.0</td>\n",
       "      <td>12.0</td>\n",
       "      <td>9788076373990</td>\n",
       "      <td>451.0</td>\n",
       "      <td>Marek Torčík: Rozložíš paměť</td>\n",
       "      <td>Paseka</td>\n",
       "    </tr>\n",
       "    <tr>\n",
       "      <th>8172</th>\n",
       "      <td>9.788076e+12</td>\n",
       "      <td>2024-04-29 03:10:14</td>\n",
       "      <td>Rozložíš paměť</td>\n",
       "      <td>['Romány', 'Literatura česká', 'homosexualita'...</td>\n",
       "      <td>62.0</td>\n",
       "      <td>311.0</td>\n",
       "      <td>80.0</td>\n",
       "      <td>85.0</td>\n",
       "      <td>135.0</td>\n",
       "      <td>166.0</td>\n",
       "      <td>30.0</td>\n",
       "      <td>5.0</td>\n",
       "      <td>28.0</td>\n",
       "      <td>14.0</td>\n",
       "      <td>9788076373990</td>\n",
       "      <td>477.0</td>\n",
       "      <td>Marek Torčík: Rozložíš paměť</td>\n",
       "      <td>Paseka</td>\n",
       "    </tr>\n",
       "    <tr>\n",
       "      <th>9616</th>\n",
       "      <td>9.788076e+12</td>\n",
       "      <td>2024-05-06 09:57:18</td>\n",
       "      <td>Rozložíš paměť</td>\n",
       "      <td>['Romány', 'Literatura česká', 'homosexualita'...</td>\n",
       "      <td>64.0</td>\n",
       "      <td>310.0</td>\n",
       "      <td>80.0</td>\n",
       "      <td>85.0</td>\n",
       "      <td>146.0</td>\n",
       "      <td>184.0</td>\n",
       "      <td>33.0</td>\n",
       "      <td>5.0</td>\n",
       "      <td>49.0</td>\n",
       "      <td>14.0</td>\n",
       "      <td>9788076373990</td>\n",
       "      <td>494.0</td>\n",
       "      <td>Marek Torčík: Rozložíš paměť</td>\n",
       "      <td>Paseka</td>\n",
       "    </tr>\n",
       "    <tr>\n",
       "      <th>10830</th>\n",
       "      <td>9.788076e+12</td>\n",
       "      <td>2024-05-13 03:17:54</td>\n",
       "      <td>Rozložíš paměť</td>\n",
       "      <td>['Romány', 'Literatura česká', 'homosexualita'...</td>\n",
       "      <td>76.0</td>\n",
       "      <td>313.0</td>\n",
       "      <td>79.0</td>\n",
       "      <td>86.0</td>\n",
       "      <td>189.0</td>\n",
       "      <td>240.0</td>\n",
       "      <td>40.0</td>\n",
       "      <td>5.0</td>\n",
       "      <td>34.0</td>\n",
       "      <td>17.0</td>\n",
       "      <td>9788076373990</td>\n",
       "      <td>553.0</td>\n",
       "      <td>Marek Torčík: Rozložíš paměť</td>\n",
       "      <td>Paseka</td>\n",
       "    </tr>\n",
       "    <tr>\n",
       "      <th>12058</th>\n",
       "      <td>9.788076e+12</td>\n",
       "      <td>2024-05-20 03:12:56</td>\n",
       "      <td>Rozložíš paměť</td>\n",
       "      <td>['Romány', 'Literatura česká', 'homosexualita'...</td>\n",
       "      <td>84.0</td>\n",
       "      <td>329.0</td>\n",
       "      <td>77.0</td>\n",
       "      <td>85.0</td>\n",
       "      <td>215.0</td>\n",
       "      <td>276.0</td>\n",
       "      <td>45.0</td>\n",
       "      <td>6.0</td>\n",
       "      <td>37.0</td>\n",
       "      <td>17.0</td>\n",
       "      <td>9788076373990</td>\n",
       "      <td>605.0</td>\n",
       "      <td>Marek Torčík: Rozložíš paměť</td>\n",
       "      <td>Paseka</td>\n",
       "    </tr>\n",
       "    <tr>\n",
       "      <th>13292</th>\n",
       "      <td>9.788076e+12</td>\n",
       "      <td>2024-05-27 03:26:25</td>\n",
       "      <td>Rozložíš paměť</td>\n",
       "      <td>['Romány', 'Literatura česká', 'homosexualita'...</td>\n",
       "      <td>91.0</td>\n",
       "      <td>330.0</td>\n",
       "      <td>77.0</td>\n",
       "      <td>85.0</td>\n",
       "      <td>228.0</td>\n",
       "      <td>295.0</td>\n",
       "      <td>54.0</td>\n",
       "      <td>7.0</td>\n",
       "      <td>34.0</td>\n",
       "      <td>18.0</td>\n",
       "      <td>9788076373990</td>\n",
       "      <td>625.0</td>\n",
       "      <td>Marek Torčík: Rozložíš paměť</td>\n",
       "      <td>Paseka</td>\n",
       "    </tr>\n",
       "    <tr>\n",
       "      <th>14543</th>\n",
       "      <td>9.788076e+12</td>\n",
       "      <td>2024-06-03 03:18:58</td>\n",
       "      <td>Rozložíš paměť</td>\n",
       "      <td>['Romány', 'Literatura česká', 'homosexualita'...</td>\n",
       "      <td>96.0</td>\n",
       "      <td>331.0</td>\n",
       "      <td>79.0</td>\n",
       "      <td>85.0</td>\n",
       "      <td>240.0</td>\n",
       "      <td>315.0</td>\n",
       "      <td>57.0</td>\n",
       "      <td>6.0</td>\n",
       "      <td>28.0</td>\n",
       "      <td>19.0</td>\n",
       "      <td>9788076373990</td>\n",
       "      <td>646.0</td>\n",
       "      <td>Marek Torčík: Rozložíš paměť</td>\n",
       "      <td>Paseka</td>\n",
       "    </tr>\n",
       "    <tr>\n",
       "      <th>15824</th>\n",
       "      <td>9.788076e+12</td>\n",
       "      <td>2024-06-10 03:39:56</td>\n",
       "      <td>Rozložíš paměť</td>\n",
       "      <td>['Romány', 'Literatura česká', 'homosexualita'...</td>\n",
       "      <td>96.0</td>\n",
       "      <td>332.0</td>\n",
       "      <td>78.0</td>\n",
       "      <td>84.0</td>\n",
       "      <td>252.0</td>\n",
       "      <td>326.0</td>\n",
       "      <td>57.0</td>\n",
       "      <td>6.0</td>\n",
       "      <td>31.0</td>\n",
       "      <td>19.0</td>\n",
       "      <td>9788076373990</td>\n",
       "      <td>658.0</td>\n",
       "      <td>Marek Torčík: Rozložíš paměť</td>\n",
       "      <td>Paseka</td>\n",
       "    </tr>\n",
       "    <tr>\n",
       "      <th>17147</th>\n",
       "      <td>9.788076e+12</td>\n",
       "      <td>2024-06-17 03:31:37</td>\n",
       "      <td>Rozložíš paměť</td>\n",
       "      <td>['Romány', 'Literatura česká', 'homosexualita'...</td>\n",
       "      <td>99.0</td>\n",
       "      <td>335.0</td>\n",
       "      <td>79.0</td>\n",
       "      <td>84.0</td>\n",
       "      <td>261.0</td>\n",
       "      <td>339.0</td>\n",
       "      <td>58.0</td>\n",
       "      <td>7.0</td>\n",
       "      <td>32.0</td>\n",
       "      <td>19.0</td>\n",
       "      <td>9788076373990</td>\n",
       "      <td>674.0</td>\n",
       "      <td>Marek Torčík: Rozložíš paměť</td>\n",
       "      <td>Paseka</td>\n",
       "    </tr>\n",
       "    <tr>\n",
       "      <th>18486</th>\n",
       "      <td>9.788076e+12</td>\n",
       "      <td>2024-06-24 03:21:16</td>\n",
       "      <td>Rozložíš paměť</td>\n",
       "      <td>['Romány', 'Literatura česká', 'homosexualita'...</td>\n",
       "      <td>99.0</td>\n",
       "      <td>339.0</td>\n",
       "      <td>79.0</td>\n",
       "      <td>85.0</td>\n",
       "      <td>269.0</td>\n",
       "      <td>345.0</td>\n",
       "      <td>58.0</td>\n",
       "      <td>7.0</td>\n",
       "      <td>34.0</td>\n",
       "      <td>19.0</td>\n",
       "      <td>9788076373990</td>\n",
       "      <td>684.0</td>\n",
       "      <td>Marek Torčík: Rozložíš paměť</td>\n",
       "      <td>Paseka</td>\n",
       "    </tr>\n",
       "    <tr>\n",
       "      <th>19838</th>\n",
       "      <td>9.788076e+12</td>\n",
       "      <td>2024-07-01 03:26:06</td>\n",
       "      <td>Rozložíš paměť</td>\n",
       "      <td>['Romány', 'Literatura česká', 'homosexualita'...</td>\n",
       "      <td>101.0</td>\n",
       "      <td>343.0</td>\n",
       "      <td>81.0</td>\n",
       "      <td>84.0</td>\n",
       "      <td>279.0</td>\n",
       "      <td>355.0</td>\n",
       "      <td>58.0</td>\n",
       "      <td>7.0</td>\n",
       "      <td>33.0</td>\n",
       "      <td>22.0</td>\n",
       "      <td>9788076373990</td>\n",
       "      <td>698.0</td>\n",
       "      <td>Marek Torčík: Rozložíš paměť</td>\n",
       "      <td>Paseka</td>\n",
       "    </tr>\n",
       "    <tr>\n",
       "      <th>21209</th>\n",
       "      <td>9.788076e+12</td>\n",
       "      <td>2024-07-08 03:36:55</td>\n",
       "      <td>Rozložíš paměť</td>\n",
       "      <td>['Romány', 'Literatura česká', 'homosexualita'...</td>\n",
       "      <td>102.0</td>\n",
       "      <td>347.0</td>\n",
       "      <td>78.0</td>\n",
       "      <td>84.0</td>\n",
       "      <td>287.0</td>\n",
       "      <td>369.0</td>\n",
       "      <td>61.0</td>\n",
       "      <td>7.0</td>\n",
       "      <td>30.0</td>\n",
       "      <td>23.0</td>\n",
       "      <td>9788076373990</td>\n",
       "      <td>716.0</td>\n",
       "      <td>Marek Torčík: Rozložíš paměť</td>\n",
       "      <td>Paseka</td>\n",
       "    </tr>\n",
       "    <tr>\n",
       "      <th>22597</th>\n",
       "      <td>9.788076e+12</td>\n",
       "      <td>2024-07-15 03:36:02</td>\n",
       "      <td>Rozložíš paměť</td>\n",
       "      <td>['Romány', 'Literatura česká', 'homosexualita'...</td>\n",
       "      <td>103.0</td>\n",
       "      <td>351.0</td>\n",
       "      <td>80.0</td>\n",
       "      <td>85.0</td>\n",
       "      <td>295.0</td>\n",
       "      <td>375.0</td>\n",
       "      <td>62.0</td>\n",
       "      <td>7.0</td>\n",
       "      <td>29.0</td>\n",
       "      <td>23.0</td>\n",
       "      <td>9788076373990</td>\n",
       "      <td>726.0</td>\n",
       "      <td>Marek Torčík: Rozložíš paměť</td>\n",
       "      <td>Paseka</td>\n",
       "    </tr>\n",
       "  </tbody>\n",
       "</table>\n",
       "</div>"
      ],
      "text/plain": [
       "            DK_isbn             DK_date        DK_titul  \\\n",
       "271    9.788076e+12 2024-04-01 14:46:30  Rozložíš paměť   \n",
       "1383   9.788076e+12 2024-04-02 10:29:20  Rozložíš paměť   \n",
       "2499   9.788076e+12 2024-04-03 16:59:08  Rozložíš paměť   \n",
       "3617   9.788076e+12 2024-04-05 10:10:41  Rozložíš paměť   \n",
       "4732   9.788076e+12 2024-04-07 13:44:59  Rozložíš paměť   \n",
       "5854   9.788076e+12 2024-04-19 23:46:17  Rozložíš paměť   \n",
       "7011   9.788076e+12 2024-04-22 03:28:44  Rozložíš paměť   \n",
       "8172   9.788076e+12 2024-04-29 03:10:14  Rozložíš paměť   \n",
       "9616   9.788076e+12 2024-05-06 09:57:18  Rozložíš paměť   \n",
       "10830  9.788076e+12 2024-05-13 03:17:54  Rozložíš paměť   \n",
       "12058  9.788076e+12 2024-05-20 03:12:56  Rozložíš paměť   \n",
       "13292  9.788076e+12 2024-05-27 03:26:25  Rozložíš paměť   \n",
       "14543  9.788076e+12 2024-06-03 03:18:58  Rozložíš paměť   \n",
       "15824  9.788076e+12 2024-06-10 03:39:56  Rozložíš paměť   \n",
       "17147  9.788076e+12 2024-06-17 03:31:37  Rozložíš paměť   \n",
       "18486  9.788076e+12 2024-06-24 03:21:16  Rozložíš paměť   \n",
       "19838  9.788076e+12 2024-07-01 03:26:06  Rozložíš paměť   \n",
       "21209  9.788076e+12 2024-07-08 03:36:55  Rozložíš paměť   \n",
       "22597  9.788076e+12 2024-07-15 03:36:02  Rozložíš paměť   \n",
       "\n",
       "                                                 DK_tags  DK_Knihotéce  \\\n",
       "271    ['homosexualita', 'česká literatura', 'dospívá...          47.0   \n",
       "1383   ['homosexualita', 'česká literatura', 'dospívá...          47.0   \n",
       "2499   ['homosexualita', 'česká literatura', 'dospívá...          47.0   \n",
       "3617   ['homosexualita', 'česká literatura', 'dospívá...          47.0   \n",
       "4732   ['homosexualita', 'česká literatura', 'dospívá...          47.0   \n",
       "5854   ['homosexualita', 'česká literatura', 'dospívá...          54.0   \n",
       "7011   ['homosexualita', 'česká literatura', 'dospívá...          55.0   \n",
       "8172   ['Romány', 'Literatura česká', 'homosexualita'...          62.0   \n",
       "9616   ['Romány', 'Literatura česká', 'homosexualita'...          64.0   \n",
       "10830  ['Romány', 'Literatura česká', 'homosexualita'...          76.0   \n",
       "12058  ['Romány', 'Literatura česká', 'homosexualita'...          84.0   \n",
       "13292  ['Romány', 'Literatura česká', 'homosexualita'...          91.0   \n",
       "14543  ['Romány', 'Literatura česká', 'homosexualita'...          96.0   \n",
       "15824  ['Romány', 'Literatura česká', 'homosexualita'...          96.0   \n",
       "17147  ['Romány', 'Literatura česká', 'homosexualita'...          99.0   \n",
       "18486  ['Romány', 'Literatura česká', 'homosexualita'...          99.0   \n",
       "19838  ['Romány', 'Literatura česká', 'homosexualita'...         101.0   \n",
       "21209  ['Romány', 'Literatura česká', 'homosexualita'...         102.0   \n",
       "22597  ['Romány', 'Literatura česká', 'homosexualita'...         103.0   \n",
       "\n",
       "       DK_Chystám_se_číst  DK_Chci_si_koupit  DK_rating  DK_ratings_count  \\\n",
       "271                 237.0               67.0       84.0             113.0   \n",
       "1383                238.0               67.0       84.0             113.0   \n",
       "2499                238.0               67.0       84.0             113.0   \n",
       "3617                240.0               67.0       84.0             114.0   \n",
       "4732                242.0               67.0       84.0             115.0   \n",
       "5854                285.0               72.0       85.0             128.0   \n",
       "7011                293.0               74.0       85.0             130.0   \n",
       "8172                311.0               80.0       85.0             135.0   \n",
       "9616                310.0               80.0       85.0             146.0   \n",
       "10830               313.0               79.0       86.0             189.0   \n",
       "12058               329.0               77.0       85.0             215.0   \n",
       "13292               330.0               77.0       85.0             228.0   \n",
       "14543               331.0               79.0       85.0             240.0   \n",
       "15824               332.0               78.0       84.0             252.0   \n",
       "17147               335.0               79.0       84.0             261.0   \n",
       "18486               339.0               79.0       85.0             269.0   \n",
       "19838               343.0               81.0       84.0             279.0   \n",
       "21209               347.0               78.0       84.0             287.0   \n",
       "22597               351.0               80.0       85.0             295.0   \n",
       "\n",
       "       DK_Přečtených  DK_Čtenářské_výzvě  DK_dalších_seznamech  \\\n",
       "271            138.0                25.0                   4.0   \n",
       "1383           138.0                25.0                   4.0   \n",
       "2499           138.0                25.0                   4.0   \n",
       "3617           139.0                25.0                   4.0   \n",
       "4732           140.0                26.0                   4.0   \n",
       "5854           154.0                29.0                   5.0   \n",
       "7011           158.0                29.0                   5.0   \n",
       "8172           166.0                30.0                   5.0   \n",
       "9616           184.0                33.0                   5.0   \n",
       "10830          240.0                40.0                   5.0   \n",
       "12058          276.0                45.0                   6.0   \n",
       "13292          295.0                54.0                   7.0   \n",
       "14543          315.0                57.0                   6.0   \n",
       "15824          326.0                57.0                   6.0   \n",
       "17147          339.0                58.0                   7.0   \n",
       "18486          345.0                58.0                   7.0   \n",
       "19838          355.0                58.0                   7.0   \n",
       "21209          369.0                61.0                   7.0   \n",
       "22597          375.0                62.0                   7.0   \n",
       "\n",
       "       DK_Právě_čtených  DK_Doporučených           isbn  skore  \\\n",
       "271                10.0             10.0  9788076373990  375.0   \n",
       "1383               10.0             10.0  9788076373990  376.0   \n",
       "2499               10.0             10.0  9788076373990  376.0   \n",
       "3617               10.0             10.0  9788076373990  379.0   \n",
       "4732               12.0             10.0  9788076373990  382.0   \n",
       "5854               15.0             12.0  9788076373990  439.0   \n",
       "7011               13.0             12.0  9788076373990  451.0   \n",
       "8172               28.0             14.0  9788076373990  477.0   \n",
       "9616               49.0             14.0  9788076373990  494.0   \n",
       "10830              34.0             17.0  9788076373990  553.0   \n",
       "12058              37.0             17.0  9788076373990  605.0   \n",
       "13292              34.0             18.0  9788076373990  625.0   \n",
       "14543              28.0             19.0  9788076373990  646.0   \n",
       "15824              31.0             19.0  9788076373990  658.0   \n",
       "17147              32.0             19.0  9788076373990  674.0   \n",
       "18486              34.0             19.0  9788076373990  684.0   \n",
       "19838              33.0             22.0  9788076373990  698.0   \n",
       "21209              30.0             23.0  9788076373990  716.0   \n",
       "22597              29.0             23.0  9788076373990  726.0   \n",
       "\n",
       "                        hezky_titul nakladatel  \n",
       "271    Marek Torčík: Rozložíš paměť     Paseka  \n",
       "1383   Marek Torčík: Rozložíš paměť     Paseka  \n",
       "2499   Marek Torčík: Rozložíš paměť     Paseka  \n",
       "3617   Marek Torčík: Rozložíš paměť     Paseka  \n",
       "4732   Marek Torčík: Rozložíš paměť     Paseka  \n",
       "5854   Marek Torčík: Rozložíš paměť     Paseka  \n",
       "7011   Marek Torčík: Rozložíš paměť     Paseka  \n",
       "8172   Marek Torčík: Rozložíš paměť     Paseka  \n",
       "9616   Marek Torčík: Rozložíš paměť     Paseka  \n",
       "10830  Marek Torčík: Rozložíš paměť     Paseka  \n",
       "12058  Marek Torčík: Rozložíš paměť     Paseka  \n",
       "13292  Marek Torčík: Rozložíš paměť     Paseka  \n",
       "14543  Marek Torčík: Rozložíš paměť     Paseka  \n",
       "15824  Marek Torčík: Rozložíš paměť     Paseka  \n",
       "17147  Marek Torčík: Rozložíš paměť     Paseka  \n",
       "18486  Marek Torčík: Rozložíš paměť     Paseka  \n",
       "19838  Marek Torčík: Rozložíš paměť     Paseka  \n",
       "21209  Marek Torčík: Rozložíš paměť     Paseka  \n",
       "22597  Marek Torčík: Rozložíš paměť     Paseka  "
      ]
     },
     "execution_count": 248,
     "metadata": {},
     "output_type": "execute_result"
    }
   ],
   "source": [
    "dk[dk['DK_titul'] == 'Rozložíš paměť']"
   ]
  },
  {
   "cell_type": "code",
   "execution_count": 249,
   "id": "82c45f73",
   "metadata": {},
   "outputs": [
    {
     "data": {
      "text/plain": [
       "DK_titul                     DK_date   \n",
       "(NE)uvěřitelný život Oty K.  2024-04-07    60.0\n",
       "                             2024-04-21    60.0\n",
       "                             2024-04-28    60.0\n",
       "                             2024-05-05    60.0\n",
       "                             2024-05-12    60.0\n",
       "                                           ... \n",
       "…a přeskočila jiskra         2024-06-23    80.0\n",
       "                             2024-06-30    80.0\n",
       "                             2024-07-07    80.0\n",
       "                             2024-07-14    40.0\n",
       "                             2024-07-21    50.0\n",
       "Name: DK_rating, Length: 18867, dtype: float64"
      ]
     },
     "execution_count": 249,
     "metadata": {},
     "output_type": "execute_result"
    }
   ],
   "source": [
    "dk.groupby([\"DK_titul\",pd.Grouper(freq=\"W\",key=\"DK_date\")])['DK_rating'].mean()"
   ]
  },
  {
   "cell_type": "markdown",
   "id": "3869db12",
   "metadata": {},
   "source": [
    "## Novinky"
   ]
  },
  {
   "cell_type": "code",
   "execution_count": 250,
   "id": "31c76e38",
   "metadata": {},
   "outputs": [
    {
     "data": {
      "text/plain": [
       "GR_title\n",
       "…a přeskočila jiskra by Halina Pawlowská                                   2024-09-02 03:53:54\n",
       "Mediátorka: Každý má svou pravdu by Hana Lenghartová                       2024-09-02 03:45:45\n",
       "Mezera mezi zdí a parketama, část první by Jaromír František Fumas Palme   2024-09-02 03:31:56\n",
       "Průvodce králičí norou by Jan Tománek                                      2024-09-02 02:57:26\n",
       "Metakunsthistorie by Jakub Stejskal                                        2024-09-02 02:56:07\n",
       "Prý musím projít březovým lesem by Štěpánka Borská                         2024-08-26 03:20:29\n",
       "Exploring the Benefits of Nature on Mental Health by Oheta Sophia          2024-08-26 02:55:46\n",
       "Endometrióza v otázkách a odpovědích by Jan Drahoňovský                    2024-08-26 02:38:30\n",
       "Zeptej se vědce: Neexistují blbé otázky by Aleš Dvořák                     2024-08-26 02:20:04\n",
       "Past na ženicha (Nevěsta na útěku, #2) by Alexander Stainforth             2024-08-19 03:29:42\n",
       "Řeč mrtvejch / Erzherz / Nebožky by Radek Fridrich                         2024-08-19 03:27:08\n",
       "Jak se líčit v nemoci by Iryna Zahladko                                    2024-08-19 03:25:28\n",
       "Nevěsta na útěku (Nevěsta na útěku, #1) by Alexander Stainforth            2024-08-19 03:22:51\n",
       "České sklo by Marek Toman                                                  2024-08-19 03:20:38\n",
       "Květ zla (Nevěsta na útěku, #3) by Alexander Stainforth                    2024-08-19 03:16:57\n",
       "#Nezapomeň. Příběhy Paměti národa by Irena Tatíčková                       2024-08-19 02:48:03\n",
       "Lež má krátké nohy by Karol Efraim Sidon                                   2024-08-19 02:44:16\n",
       "Skutečné zločiny v Brně a okolí by Ivana Žáková                            2024-08-19 02:17:00\n",
       "Krvavý Žižkov by Simona Bohatá                                             2024-08-12 03:40:42\n",
       "Myšlenky zločince v české kotlině by Jiřina Hofmanová                      2024-08-12 03:35:15\n",
       "Vynucených 7 dní by Lenka Hnátová                                          2024-08-12 03:28:22\n",
       "Minout se přesně by Petr Hruška                                            2024-08-12 03:11:53\n",
       "Silvuple by Ewald Murrer                                                   2024-08-12 03:11:00\n",
       "Expanzní sektor (Centrální impérium: Omega, #2) by Jan Kotouč              2024-08-12 03:09:32\n",
       "Zmije v garáži by Magda Jogheeová                                          2024-08-12 02:39:20\n",
       "Když za nás Bůh netahá kaštany z ohně by Renata Kalenská                   2024-08-05 03:48:09\n",
       "Baron Trenck: až na hranici pekel by František Niedl                       2024-08-05 03:47:44\n",
       "MaminkOFF: Malovaly jsme si mateřství by Kateřina Chalupníková             2024-08-05 03:44:24\n",
       "Mistr meče popravního by Magdaléna Paťhová                                 2024-08-05 03:36:00\n",
       "Šedesát let v psychiatrii jako majitel klíčů by Radkin Honzák              2024-08-05 03:32:24\n",
       "Dokud nás krev nerozdělí by Petr Opršal                                    2024-08-05 03:31:58\n",
       "Krušnohorské osudy by Štěpán Javůrek                                       2024-08-05 03:30:12\n",
       "Než zjistíš pravdu by Elena Minářová                                       2024-08-05 03:25:16\n",
       "Dva v šinkansenu by Marie Machytková                                       2024-08-05 03:24:54\n",
       "Socipat by D. B. Peck                                                      2024-08-05 03:13:18\n",
       "Malá magická katastrofa by Štěpán Bartoš                                   2024-08-05 03:10:45\n",
       "Future ON! by Bob Kartous                                                  2024-08-05 02:31:00\n",
       "Očima kriminalistů by Miroslav Vaňura                                      2024-08-05 02:13:04\n",
       "A tak krásně jsme si žili by Jan Grygar                                    2024-07-29 03:15:29\n",
       "Šťastné a nejhrůzostrašnější by Pavel Pecháček                             2024-07-29 03:01:12\n",
       "O andělovi by Pavel Čech                                                   2024-07-29 02:58:44\n",
       "Když si prdne myš... by Saša Gr.                                           2024-07-29 02:55:58\n",
       "Obsah ticha by Rudolf Jurolek                                              2024-07-29 02:52:23\n",
       "Kojící Spock by Klára Svobodová                                            2024-07-29 02:07:38\n",
       "Svět v mé hlavě by Valentýna Coufalová                                     2024-07-22 03:31:20\n",
       "Komanda Omega (Centrální impérium: Omega, #1) by Jan Kotouč                2024-07-22 03:31:08\n",
       "Sex, chlast a bláznivá láska na Pobřeží hříchu by Michi Miky               2024-07-22 03:22:02\n",
       "Řeka zázraků by Vladimír Kořen                                             2024-07-22 03:20:42\n",
       "Florencie, moje (sebe)láska by Veronika Vrzalová                           2024-07-22 03:09:48\n",
       "Prarady a jiné písně by Pavel  Novotný                                     2024-07-22 03:09:42\n",
       "Name: GR_date, dtype: datetime64[ns]"
      ]
     },
     "execution_count": 250,
     "metadata": {},
     "output_type": "execute_result"
    }
   ],
   "source": [
    "gr.groupby(\"GR_title\")['GR_date'].min().sort_values(ascending=False).head(50)"
   ]
  },
  {
   "cell_type": "code",
   "execution_count": 251,
   "id": "98cb3e41",
   "metadata": {},
   "outputs": [
    {
     "data": {
      "text/plain": [
       "DK_titul\n",
       "Šplouchá na maják                                                                            2024-07-15 03:39:15\n",
       "Vynucených 7 dní                                                                             2024-07-15 03:38:45\n",
       "Stačí mávnout křídly                                                                         2024-07-15 03:38:25\n",
       "Dočkej času jako Husák listopadu: Únor rudý, národ chudý                                     2024-07-15 03:37:48\n",
       "Řeka ztracených duší                                                                         2024-07-15 03:37:43\n",
       "Smrt na chrudimském hradě                                                                    2024-07-15 03:36:01\n",
       "Naše země na rozcestí                                                                        2024-07-15 03:34:55\n",
       "Jak být fotbalistou... a nezbláznit se                                                       2024-07-15 03:34:29\n",
       "Jiří Bartoška                                                                                2024-07-15 03:34:20\n",
       "Je všechno dobrý?                                                                            2024-07-15 03:34:04\n",
       "Jak vychovat chlapce                                                                         2024-07-15 03:32:14\n",
       "Tajemství lásky k sobě                                                                       2024-07-15 03:30:54\n",
       "Polsko vejpůl: Rozhovory                                                                     2024-07-15 03:30:42\n",
       "Etologie: Mechanismy, ontogeneze, funkce a evoluce chování živočichů                         2024-07-15 03:29:16\n",
       "Amy's World                                                                                  2024-07-15 03:28:19\n",
       "Retrokrimi: Kriminální případy z let 1883–1961                                               2024-07-08 03:41:51\n",
       "Deset deka hladké mouky – haiku                                                              2024-07-08 03:40:09\n",
       "A teď už bez legrace!                                                                        2024-07-08 03:38:31\n",
       "Florencie, moje (sebe)láska                                                                  2024-07-08 03:38:13\n",
       "Malá magická katastrofa                                                                      2024-07-08 03:36:19\n",
       "Pozná kardiolog zlomené srdce?                                                               2024-07-08 03:33:54\n",
       "Nezapomenu!                                                                                  2024-07-08 03:33:26\n",
       "Alchymie poslání: 71 příběhů odvahy a ženské síly                                            2024-07-08 03:33:14\n",
       "3.7.1866                                                                                     2024-07-08 03:32:17\n",
       "Proti Rudému baronovi: Piloti a letecká esa první světové války                              2024-07-08 03:31:43\n",
       "Error                                                                                        2024-07-08 03:31:14\n",
       "Český Nietzsche?: K dílu Friedricha Nietzscheho, Ladislava Klímy a jejich dnešnímu významu   2024-07-08 03:29:43\n",
       "Jindřich Chalupecký: Texty a kontexty kritika umění                                          2024-07-08 03:25:19\n",
       "Invaze, s. r. o.                                                                             2024-07-01 03:30:53\n",
       "Cucat vnitřní mňau                                                                           2024-07-01 03:30:26\n",
       "Ostří meče                                                                                   2024-07-01 03:29:54\n",
       "Ymiho lebka                                                                                  2024-07-01 03:28:32\n",
       "Kafkova abeceda                                                                              2024-07-01 03:28:10\n",
       "Moje břicho bylo jeskyní plnou barev                                                         2024-07-01 03:26:55\n",
       "Francouzské příběhy a humoresky                                                              2024-07-01 03:24:48\n",
       "Zámecká zahrada Rájec nad Svitavou                                                           2024-07-01 03:23:58\n",
       "Středověk: Doba předhusitská a husitská                                                      2024-07-01 03:23:40\n",
       "Už mi lásko není 20 let                                                                      2024-07-01 03:23:18\n",
       "Jak jsem to tenkrát viděl: Vzpomínky                                                         2024-07-01 03:21:58\n",
       "Jaký život je hoden žití?: Filosofické a biografické přístupy                                2024-07-01 03:20:16\n",
       "Zkamenělé stopy živočichů v Čechách a na Moravě                                              2024-07-01 03:20:15\n",
       "Mudroprdy 1                                                                                  2024-07-01 03:19:00\n",
       "Kojící Spock                                                                                 2024-07-01 03:18:40\n",
       "Věra Mikulcová: Příběh kulturistky                                                           2024-07-01 03:18:08\n",
       "Jen tak                                                                                      2024-06-24 03:25:37\n",
       "Teorie zmizení                                                                               2024-06-24 03:24:39\n",
       "Dívám se na svět kukátkem                                                                    2024-06-24 03:24:12\n",
       "Jů a Hele                                                                                    2024-06-24 03:23:42\n",
       "Slepý hon                                                                                    2024-06-24 03:23:08\n",
       "Vlčencům na setměnou                                                                         2024-06-24 03:22:59\n",
       "Name: DK_date, dtype: datetime64[ns]"
      ]
     },
     "execution_count": 251,
     "metadata": {},
     "output_type": "execute_result"
    }
   ],
   "source": [
    "dk.groupby(\"DK_titul\")['DK_date'].min().sort_values(ascending=False).head(50)"
   ]
  },
  {
   "cell_type": "code",
   "execution_count": null,
   "id": "3c6b603c",
   "metadata": {},
   "outputs": [],
   "source": []
  },
  {
   "cell_type": "code",
   "execution_count": null,
   "id": "8748e933",
   "metadata": {},
   "outputs": [],
   "source": []
  },
  {
   "cell_type": "code",
   "execution_count": null,
   "id": "83fb769f",
   "metadata": {},
   "outputs": [],
   "source": []
  },
  {
   "cell_type": "code",
   "execution_count": 252,
   "id": "e632b5d1",
   "metadata": {},
   "outputs": [],
   "source": [
    "dk['nakladatel'] = dk['isbn'].apply(lambda x: nakladatelstvi(x))\n",
    "pribytek = pd.DataFrame(dk[dk['DK_date'] > month_ago].groupby(['hezky_titul','nakladatel'])['skore'].max() - dk[dk['DK_date'] > month_ago].groupby(['hezky_titul','nakladatel'])['skore'].min()).groupby('nakladatel').sum().reset_index().sum().iloc[1]\n",
    "nakladatelstvo = pd.DataFrame(dk[dk['DK_date'] > month_ago].groupby(['hezky_titul','nakladatel'])['skore'].max() - dk[dk['DK_date'] > month_ago].groupby(['hezky_titul','nakladatel'])['skore'].min()).groupby('nakladatel').sum().reset_index()\n",
    "nakladatelstvo['podil'] = nakladatelstvo['skore'] / pribytek\n",
    "nakladatelstvo = nakladatelstvo[nakladatelstvo['podil'] >= 0.005]\n",
    "nakladatelstvo['podil'] = nakladatelstvo['podil'].apply(lambda x: f\"\"\"{round(x * 100, 1)}&nbsp;%\"\"\".replace(\".\", \",\"))\n",
    "nakladatelstvo = nakladatelstvo.sort_values(by='skore',ascending=False)\n",
    "nakladatelstvo = nakladatelstvo.drop(columns=['skore'])"
   ]
  },
  {
   "cell_type": "code",
   "execution_count": 253,
   "id": "dc87b7d4",
   "metadata": {},
   "outputs": [
    {
     "data": {
      "text/html": [
       "<div>\n",
       "<style scoped>\n",
       "    .dataframe tbody tr th:only-of-type {\n",
       "        vertical-align: middle;\n",
       "    }\n",
       "\n",
       "    .dataframe tbody tr th {\n",
       "        vertical-align: top;\n",
       "    }\n",
       "\n",
       "    .dataframe thead th {\n",
       "        text-align: right;\n",
       "    }\n",
       "</style>\n",
       "<table border=\"1\" class=\"dataframe\">\n",
       "  <thead>\n",
       "    <tr style=\"text-align: right;\">\n",
       "      <th></th>\n",
       "      <th>nakladatel</th>\n",
       "      <th>podil</th>\n",
       "    </tr>\n",
       "  </thead>\n",
       "  <tbody>\n",
       "  </tbody>\n",
       "</table>\n",
       "</div>"
      ],
      "text/plain": [
       "Empty DataFrame\n",
       "Columns: [nakladatel, podil]\n",
       "Index: []"
      ]
     },
     "execution_count": 253,
     "metadata": {},
     "output_type": "execute_result"
    }
   ],
   "source": [
    "nakladatelstvo"
   ]
  },
  {
   "cell_type": "code",
   "execution_count": 254,
   "id": "ca5d1160",
   "metadata": {},
   "outputs": [
    {
     "data": {
      "text/html": [
       "<div>\n",
       "<style scoped>\n",
       "    .dataframe tbody tr th:only-of-type {\n",
       "        vertical-align: middle;\n",
       "    }\n",
       "\n",
       "    .dataframe tbody tr th {\n",
       "        vertical-align: top;\n",
       "    }\n",
       "\n",
       "    .dataframe thead th {\n",
       "        text-align: right;\n",
       "    }\n",
       "</style>\n",
       "<table border=\"1\" class=\"dataframe\">\n",
       "  <thead>\n",
       "    <tr style=\"text-align: right;\">\n",
       "      <th></th>\n",
       "      <th>DK_isbn</th>\n",
       "      <th>DK_date</th>\n",
       "      <th>DK_titul</th>\n",
       "      <th>DK_tags</th>\n",
       "      <th>DK_Knihotéce</th>\n",
       "      <th>DK_Chystám_se_číst</th>\n",
       "      <th>DK_Chci_si_koupit</th>\n",
       "      <th>DK_rating</th>\n",
       "      <th>DK_ratings_count</th>\n",
       "      <th>DK_Přečtených</th>\n",
       "      <th>DK_Čtenářské_výzvě</th>\n",
       "      <th>DK_dalších_seznamech</th>\n",
       "      <th>DK_Právě_čtených</th>\n",
       "      <th>DK_Doporučených</th>\n",
       "      <th>isbn</th>\n",
       "      <th>skore</th>\n",
       "      <th>hezky_titul</th>\n",
       "      <th>nakladatel</th>\n",
       "    </tr>\n",
       "  </thead>\n",
       "  <tbody>\n",
       "  </tbody>\n",
       "</table>\n",
       "</div>"
      ],
      "text/plain": [
       "Empty DataFrame\n",
       "Columns: [DK_isbn, DK_date, DK_titul, DK_tags, DK_Knihotéce, DK_Chystám_se_číst, DK_Chci_si_koupit, DK_rating, DK_ratings_count, DK_Přečtených, DK_Čtenářské_výzvě, DK_dalších_seznamech, DK_Právě_čtených, DK_Doporučených, isbn, skore, hezky_titul, nakladatel]\n",
       "Index: []"
      ]
     },
     "execution_count": 254,
     "metadata": {},
     "output_type": "execute_result"
    }
   ],
   "source": [
    "dk[(dk['DK_date'] > month_ago) & (dk['nakladatel'] == 'Paseka')]"
   ]
  },
  {
   "cell_type": "code",
   "execution_count": 255,
   "id": "57c81501",
   "metadata": {},
   "outputs": [
    {
     "data": {
      "text/plain": [
       "'2024-09-06 12:36:02.288908'"
      ]
     },
     "execution_count": 255,
     "metadata": {},
     "output_type": "execute_result"
    }
   ],
   "source": [
    "str(datetime.datetime.now())"
   ]
  },
  {
   "cell_type": "code",
   "execution_count": 256,
   "id": "7698a7fc",
   "metadata": {},
   "outputs": [],
   "source": [
    "def koho_vydavaji(nakl):\n",
    "    global dk\n",
    "    top = pd.DataFrame(dk[(dk['DK_date'] > month_ago) & (dk['nakladatel'] == nakl)].groupby('hezky_titul')['skore'].max() - dk[(dk['DK_date'] > month_ago) & (dk['nakladatel'] == nakl)].groupby('hezky_titul')['skore'].min()).groupby('hezky_titul').sum().reset_index()\n",
    "    print(top)\n",
    "    top = top.groupby('hezky_titul')['skore'].max().nlargest(3).index.to_list()\n",
    "    print(top)\n",
    "    top2 = [x.split(\":\")[0] for x in top if \"[\" not in x]\n",
    "    top2 = list(set(top2))\n",
    "    kolik = len(top2)\n",
    "    if kolik > 3:\n",
    "        return top2[:3]\n",
    "    else:\n",
    "        return top2"
   ]
  },
  {
   "cell_type": "code",
   "execution_count": 257,
   "id": "e869b804",
   "metadata": {},
   "outputs": [
    {
     "name": "stdout",
     "output_type": "stream",
     "text": [
      "Empty DataFrame\n",
      "Columns: [hezky_titul, skore]\n",
      "Index: []\n",
      "[]\n",
      "[]\n"
     ]
    }
   ],
   "source": [
    "print(koho_vydavaji('Paseka'))"
   ]
  }
 ],
 "metadata": {
  "kernelspec": {
   "display_name": "Python 3 (ipykernel)",
   "language": "python",
   "name": "python3"
  },
  "language_info": {
   "codemirror_mode": {
    "name": "ipython",
    "version": 3
   },
   "file_extension": ".py",
   "mimetype": "text/x-python",
   "name": "python",
   "nbconvert_exporter": "python",
   "pygments_lexer": "ipython3",
   "version": "3.11.5"
  }
 },
 "nbformat": 4,
 "nbformat_minor": 5
}
