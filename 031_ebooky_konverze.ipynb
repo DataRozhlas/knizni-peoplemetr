{
 "cells": [
  {
   "cell_type": "code",
   "execution_count": 33,
   "id": "45c1e05f-e03e-4b82-9622-3f86ab6ca577",
   "metadata": {},
   "outputs": [],
   "source": [
    "import os\n",
    "import ebooklib\n",
    "from ebooklib import epub\n",
    "from bs4 import BeautifulSoup"
   ]
  },
  {
   "cell_type": "code",
   "execution_count": 34,
   "id": "eefbc785-339d-4383-a70e-d1d63609c646",
   "metadata": {},
   "outputs": [],
   "source": [
    "odkud = \"downloads/ebooky-martinus\""
   ]
  },
  {
   "cell_type": "code",
   "execution_count": 35,
   "id": "b3f89f6c-191d-49bb-94ac-1db75703e2c4",
   "metadata": {},
   "outputs": [],
   "source": [
    "kam = \"data_raw/ebooky\""
   ]
  },
  {
   "cell_type": "code",
   "execution_count": 36,
   "id": "e4bfff3c-d18c-459a-8cb1-37ed03b7ea4f",
   "metadata": {},
   "outputs": [],
   "source": [
    "os.makedirs(kam, exist_ok=True)"
   ]
  },
  {
   "cell_type": "code",
   "execution_count": 37,
   "id": "789e5d86-ed60-40c4-8f18-93b16b935e15",
   "metadata": {},
   "outputs": [],
   "source": [
    "def epub_txt(surovky_ebook):\n",
    "    ukazka = \"\"\n",
    "    for item in surovky_ebook.get_items():\n",
    "        try:\n",
    "            if item.get_type() == ebooklib.ITEM_DOCUMENT:\n",
    "                soup = BeautifulSoup(item.get_content(), 'html.parser')\n",
    "                if len(soup.text) > 0:\n",
    "                    ukazka += soup.text.strip().strip()\n",
    "        except:\n",
    "            pass\n",
    "    if len(ukazka.split(\"ISBN\")[-1]) > 9000:\n",
    "        ukazka = ukazka.split(\"ISBN\")[-1]\n",
    "    try:\n",
    "        ukazka = \"\\n\".join([x for x in ukazka.splitlines()[1:] if (x.strip() != \"\") and (x.strip() != \"Konec ukázky\")])\n",
    "    except:\n",
    "        pass\n",
    "    return ukazka"
   ]
  },
  {
   "cell_type": "code",
   "execution_count": 38,
   "id": "b349fd9c-e316-4123-bab6-d2c2d0ab4470",
   "metadata": {
    "scrolled": true
   },
   "outputs": [],
   "source": [
    "# sebook = epub.read_epub(os.path.join(\"downloads/ebooky-martinus\",\"9788076621473.epub\"))"
   ]
  },
  {
   "cell_type": "code",
   "execution_count": 39,
   "id": "5d370387-d729-4e19-95ce-db3c4cdb53ca",
   "metadata": {},
   "outputs": [
    {
     "name": "stdout",
     "output_type": "stream",
     "text": [
      "9780751571301.epub\n",
      "9788024289472.epub\n",
      "9788024394268.epub\n",
      "9788024953878.epub\n",
      "9788024954219.epub\n",
      "9788024954516.epub\n",
      "9788024954851.epub\n",
      "9788025704189.epub\n",
      "9788026442783.epub\n",
      "9788027131532.epub\n",
      "9788027135073.epub\n",
      "9788027137848.epub\n",
      "9788027513581.epub\n",
      "9788027800339.epub\n",
      "9788027908028.epub\n",
      "9788027909902.epub\n",
      "9788028105938.epub\n",
      "9788074329517.epub\n",
      "9788074382666.epub\n",
      "9788074482069.epub\n",
      "9788075657664.epub\n",
      "9788075885722.epub\n",
      "9788075887023.epub\n",
      "9788076502512.epub\n",
      "9788076508378.epub\n",
      "9788076766860.epub\n",
      "9788076842052.epub\n",
      "9788076910003.epub\n",
      "9788076914865.epub\n",
      "\"There is no item named 'OEBPS/image/Prvni╠__krok.png' in the archive\"\n",
      "9788088104735.epub\n",
      "9788088362166.epub\n",
      "9788089761388.epub\n"
     ]
    }
   ],
   "source": [
    "for ipab in [x for x in os.listdir(odkud) if x.split('.')[1] == 'epub']:\n",
    "    if ipab not in [x.replace('.txt','.epub') for x in os.listdir(kam)]:\n",
    "        try:\n",
    "            with open(os.path.join(kam, f\"{ipab.split('.')[0]}.txt\"), \"w+\", encoding=\"utf-8\") as export:\n",
    "                print(ipab)\n",
    "                export.write(epub_txt(epub.read_epub(os.path.join(odkud,ipab))))\n",
    "        except Exception as E:\n",
    "            print(E)"
   ]
  }
 ],
 "metadata": {
  "kernelspec": {
   "display_name": "Python 3 (ipykernel)",
   "language": "python",
   "name": "python3"
  },
  "language_info": {
   "codemirror_mode": {
    "name": "ipython",
    "version": 3
   },
   "file_extension": ".py",
   "mimetype": "text/x-python",
   "name": "python",
   "nbconvert_exporter": "python",
   "pygments_lexer": "ipython3",
   "version": "3.12.3"
  }
 },
 "nbformat": 4,
 "nbformat_minor": 5
}
