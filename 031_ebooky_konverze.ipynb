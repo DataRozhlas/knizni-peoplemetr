{
 "cells": [
  {
   "cell_type": "code",
   "execution_count": 1,
   "id": "45c1e05f-e03e-4b82-9622-3f86ab6ca577",
   "metadata": {},
   "outputs": [],
   "source": [
    "import os\n",
    "import ebooklib\n",
    "from ebooklib import epub\n",
    "from bs4 import BeautifulSoup"
   ]
  },
  {
   "cell_type": "code",
   "execution_count": 2,
   "id": "eefbc785-339d-4383-a70e-d1d63609c646",
   "metadata": {},
   "outputs": [],
   "source": [
    "odkud = \"downloads/ebooky-martinus\""
   ]
  },
  {
   "cell_type": "code",
   "execution_count": 3,
   "id": "b3f89f6c-191d-49bb-94ac-1db75703e2c4",
   "metadata": {},
   "outputs": [],
   "source": [
    "kam = \"data_raw/ebooky\""
   ]
  },
  {
   "cell_type": "code",
   "execution_count": 4,
   "id": "e4bfff3c-d18c-459a-8cb1-37ed03b7ea4f",
   "metadata": {},
   "outputs": [],
   "source": [
    "os.makedirs(kam, exist_ok=True)"
   ]
  },
  {
   "cell_type": "code",
   "execution_count": 5,
   "id": "789e5d86-ed60-40c4-8f18-93b16b935e15",
   "metadata": {},
   "outputs": [],
   "source": [
    "def epub_txt(surovky_ebook):\n",
    "    ukazka = \"\"\n",
    "    for item in surovky_ebook.get_items():\n",
    "        try:\n",
    "            if item.get_type() == ebooklib.ITEM_DOCUMENT:\n",
    "                soup = BeautifulSoup(item.get_content(), 'html.parser')\n",
    "                if len(soup.text) > 0:\n",
    "                    ukazka += soup.text.strip().strip()\n",
    "        except:\n",
    "            pass\n",
    "    if len(ukazka.split(\"ISBN\")[-1]) > 9000:\n",
    "        ukazka = ukazka.split(\"ISBN\")[-1]\n",
    "    try:\n",
    "        ukazka = \"\\n\".join([x for x in ukazka.splitlines()[1:] if (x.strip() != \"\") and (x.strip() != \"Konec ukázky\")])\n",
    "    except:\n",
    "        pass\n",
    "    return ukazka"
   ]
  },
  {
   "cell_type": "code",
   "execution_count": 6,
   "id": "b349fd9c-e316-4123-bab6-d2c2d0ab4470",
   "metadata": {
    "scrolled": true
   },
   "outputs": [],
   "source": [
    "# sebook = epub.read_epub(os.path.join(\"downloads/ebooky-martinus\",\"9788076621473.epub\"))"
   ]
  },
  {
   "cell_type": "code",
   "execution_count": 7,
   "id": "5d370387-d729-4e19-95ce-db3c4cdb53ca",
   "metadata": {},
   "outputs": [
    {
     "name": "stdout",
     "output_type": "stream",
     "text": [
      "9788020722003.epub\n"
     ]
    },
    {
     "name": "stderr",
     "output_type": "stream",
     "text": [
      "C:\\Users\\micha\\anaconda3\\Lib\\site-packages\\ebooklib\\epub.py:1395: UserWarning: In the future version we will turn default option ignore_ncx to True.\n",
      "  warnings.warn('In the future version we will turn default option ignore_ncx to True.')\n",
      "C:\\Users\\micha\\anaconda3\\Lib\\site-packages\\ebooklib\\epub.py:1423: FutureWarning: This search incorrectly ignores the root element, and will be fixed in a future version.  If you rely on the current behaviour, change it to './/xmlns:rootfile[@media-type]'\n",
      "  for root_file in tree.findall('//xmlns:rootfile[@media-type]', namespaces={'xmlns': NAMESPACES['CONTAINERNS']}):\n"
     ]
    },
    {
     "name": "stdout",
     "output_type": "stream",
     "text": [
      "9788025357125.epub\n",
      "9788025724910.epub\n",
      "9788025729335.epub\n",
      "9788026453758.epub\n",
      "join() argument must be str, bytes, or os.PathLike object, not 'NoneType'\n",
      "9788026454366.epub\n",
      "'Bad Zip file'\n",
      "9788026454946.epub\n",
      "join() argument must be str, bytes, or os.PathLike object, not 'NoneType'\n",
      "9788026715870.epub\n",
      "9788026730002.epub\n",
      "9788027112012.epub\n",
      "9788027125692.epub\n",
      "9788027135516.epub\n",
      "9788027138289.epub\n",
      "9788027507917.epub\n",
      "9788027510481.epub\n",
      "9788027800889.epub\n",
      "9788027902545.epub\n",
      "9788027907779.epub\n",
      "9788027910113.epub\n",
      "9788027911530.epub\n",
      "9788027913312.epub\n",
      "9788027915590.epub\n",
      "9788027915637.epub\n",
      "9788027917419.epub\n",
      "9788053005999.epub\n",
      "9788072274048.epub\n",
      "9788074432965.epub\n",
      "9788074742514.epub\n",
      "9788075434494.epub\n",
      "9788075883278.epub\n",
      "9788076176799.epub\n",
      "9788076334236.epub\n",
      "9788076371194.epub\n",
      "9788076841598.epub\n",
      "9788076915619.epub\n",
      "join() argument must be str, bytes, or os.PathLike object, not 'NoneType'\n",
      "9788076915695.epub\n",
      "join() argument must be str, bytes, or os.PathLike object, not 'NoneType'\n",
      "9788076950603.epub\n",
      "9788082012111.epub\n",
      "9788087913734.epub\n",
      "9788090717886.epub\n"
     ]
    }
   ],
   "source": [
    "for ipab in [x for x in os.listdir(odkud) if x.split('.')[1] == 'epub']:\n",
    "    if ipab not in [x.replace('.txt','.epub') for x in os.listdir(kam)]:\n",
    "        try:\n",
    "            with open(os.path.join(kam, f\"{ipab.split('.')[0]}.txt\"), \"w+\", encoding=\"utf-8\") as export:\n",
    "                print(ipab)\n",
    "                export.write(epub_txt(epub.read_epub(os.path.join(odkud,ipab))))\n",
    "        except Exception as E:\n",
    "            print(E)"
   ]
  }
 ],
 "metadata": {
  "kernelspec": {
   "display_name": "Python 3 (ipykernel)",
   "language": "python",
   "name": "python3"
  },
  "language_info": {
   "codemirror_mode": {
    "name": "ipython",
    "version": 3
   },
   "file_extension": ".py",
   "mimetype": "text/x-python",
   "name": "python",
   "nbconvert_exporter": "python",
   "pygments_lexer": "ipython3",
   "version": "3.12.3"
  }
 },
 "nbformat": 4,
 "nbformat_minor": 5
}
