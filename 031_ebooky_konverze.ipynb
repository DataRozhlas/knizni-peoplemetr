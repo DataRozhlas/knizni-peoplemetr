{
 "cells": [
  {
   "cell_type": "code",
   "execution_count": 1,
   "id": "45c1e05f-e03e-4b82-9622-3f86ab6ca577",
   "metadata": {},
   "outputs": [],
   "source": [
    "import os\n",
    "import ebooklib\n",
    "from ebooklib import epub\n",
    "from bs4 import BeautifulSoup"
   ]
  },
  {
   "cell_type": "code",
   "execution_count": 2,
   "id": "eefbc785-339d-4383-a70e-d1d63609c646",
   "metadata": {},
   "outputs": [],
   "source": [
    "odkud = \"downloads/ebooky-martinus\""
   ]
  },
  {
   "cell_type": "code",
   "execution_count": 3,
   "id": "b3f89f6c-191d-49bb-94ac-1db75703e2c4",
   "metadata": {},
   "outputs": [],
   "source": [
    "kam = \"data_raw/ebooky\""
   ]
  },
  {
   "cell_type": "code",
   "execution_count": 4,
   "id": "e4bfff3c-d18c-459a-8cb1-37ed03b7ea4f",
   "metadata": {},
   "outputs": [],
   "source": [
    "os.makedirs(kam, exist_ok=True)"
   ]
  },
  {
   "cell_type": "code",
   "execution_count": 5,
   "id": "789e5d86-ed60-40c4-8f18-93b16b935e15",
   "metadata": {},
   "outputs": [],
   "source": [
    "def epub_txt(surovky_ebook):\n",
    "    ukazka = \"\"\n",
    "    for item in surovky_ebook.get_items():\n",
    "        try:\n",
    "            if item.get_type() == ebooklib.ITEM_DOCUMENT:\n",
    "                soup = BeautifulSoup(item.get_content(), 'html.parser')\n",
    "                if len(soup.text) > 0:\n",
    "                    ukazka += soup.text.strip().strip()\n",
    "        except:\n",
    "            pass\n",
    "    if len(ukazka.split(\"ISBN\")[-1]) > 9000:\n",
    "        ukazka = ukazka.split(\"ISBN\")[-1]\n",
    "    try:\n",
    "        ukazka = \"\\n\".join([x for x in ukazka.splitlines()[1:] if (x.strip() != \"\") and (x.strip() != \"Konec ukázky\")])\n",
    "    except:\n",
    "        pass\n",
    "    return ukazka"
   ]
  },
  {
   "cell_type": "code",
   "execution_count": 6,
   "id": "b349fd9c-e316-4123-bab6-d2c2d0ab4470",
   "metadata": {
    "scrolled": true
   },
   "outputs": [],
   "source": [
    "# sebook = epub.read_epub(os.path.join(\"downloads/ebooky-martinus\",\"9788076621473.epub\"))"
   ]
  },
  {
   "cell_type": "code",
   "execution_count": 7,
   "id": "5d370387-d729-4e19-95ce-db3c4cdb53ca",
   "metadata": {},
   "outputs": [
    {
     "name": "stdout",
     "output_type": "stream",
     "text": [
      "9788020615855.epub\n"
     ]
    },
    {
     "name": "stderr",
     "output_type": "stream",
     "text": [
      "C:\\Users\\micha\\anaconda3\\Lib\\site-packages\\ebooklib\\epub.py:1395: UserWarning: In the future version we will turn default option ignore_ncx to True.\n",
      "  warnings.warn('In the future version we will turn default option ignore_ncx to True.')\n",
      "C:\\Users\\micha\\anaconda3\\Lib\\site-packages\\ebooklib\\epub.py:1423: FutureWarning: This search incorrectly ignores the root element, and will be fixed in a future version.  If you rely on the current behaviour, change it to './/xmlns:rootfile[@media-type]'\n",
      "  for root_file in tree.findall('//xmlns:rootfile[@media-type]', namespaces={'xmlns': NAMESPACES['CONTAINERNS']}):\n"
     ]
    },
    {
     "name": "stdout",
     "output_type": "stream",
     "text": [
      "9788020720870.epub\n",
      "9788024271330.epub\n",
      "9788024275772.epub\n",
      "9788024277226.epub\n",
      "9788024386249.epub\n",
      "9788024391786.epub\n",
      "9788024397566.epub\n",
      "9788024947372.epub\n",
      "9788024950617.epub\n",
      "9788025727089.epub\n",
      "9788026510697.epub\n",
      "9788026726746.epub\n",
      "join() argument must be str, bytes, or os.PathLike object, not 'NoneType'\n",
      "9788027110438.epub\n",
      "9788027132393.epub\n",
      "9788027900299.epub\n",
      "9788027902514.epub\n",
      "9788027902590.epub\n",
      "9788027907823.epub\n",
      "9788027915576.epub\n",
      "9788027915675.epub\n",
      "9788027915699.epub\n",
      "9788027915705.epub\n",
      "9788055176277.epub\n",
      "9788072527373.epub\n",
      "9788072528615.epub\n",
      "9788074252822.epub\n",
      "9788074382543.epub\n",
      "9788074482052.epub\n",
      "join() argument must be str, bytes, or os.PathLike object, not 'NoneType'\n",
      "9788074563126.epub\n",
      "9788074754067.epub\n",
      "9788075539571.epub\n",
      "9788075886828.epub\n",
      "9788075887368.epub\n",
      "9788076504097.epub\n",
      "9788076767638.epub\n",
      "9788076832060.epub\n",
      "9788076832862.epub\n",
      "9788076890565.epub\n",
      "9788076893993.epub\n"
     ]
    }
   ],
   "source": [
    "for ipab in [x for x in os.listdir(odkud) if x.split('.')[1] == 'epub']:\n",
    "    if ipab not in [x.replace('.txt','.epub') for x in os.listdir(kam)]:\n",
    "        try:\n",
    "            with open(os.path.join(kam, f\"{ipab.split('.')[0]}.txt\"), \"w+\", encoding=\"utf-8\") as export:\n",
    "                print(ipab)\n",
    "                export.write(epub_txt(epub.read_epub(os.path.join(odkud,ipab))))\n",
    "        except Exception as E:\n",
    "            print(E)"
   ]
  }
 ],
 "metadata": {
  "kernelspec": {
   "display_name": "Python 3 (ipykernel)",
   "language": "python",
   "name": "python3"
  },
  "language_info": {
   "codemirror_mode": {
    "name": "ipython",
    "version": 3
   },
   "file_extension": ".py",
   "mimetype": "text/x-python",
   "name": "python",
   "nbconvert_exporter": "python",
   "pygments_lexer": "ipython3",
   "version": "3.12.3"
  }
 },
 "nbformat": 4,
 "nbformat_minor": 5
}
