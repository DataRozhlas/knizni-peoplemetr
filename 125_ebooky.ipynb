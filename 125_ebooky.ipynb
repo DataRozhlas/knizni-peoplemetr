{
 "cells": [
  {
   "cell_type": "code",
   "execution_count": 27,
   "id": "fcb343dc-fe3d-461d-a943-507447da8415",
   "metadata": {},
   "outputs": [],
   "source": [
    "import os\n",
    "import ebooklib\n",
    "from ebooklib import epub"
   ]
  },
  {
   "cell_type": "code",
   "execution_count": 21,
   "id": "b063f96d-e93d-4efa-91c3-78c8811cc3ac",
   "metadata": {},
   "outputs": [
    {
     "name": "stderr",
     "output_type": "stream",
     "text": [
      "C:\\Users\\micha\\anaconda3\\Lib\\site-packages\\ebooklib\\epub.py:1423: FutureWarning: This search incorrectly ignores the root element, and will be fixed in a future version.  If you rely on the current behaviour, change it to './/xmlns:rootfile[@media-type]'\n",
      "  for root_file in tree.findall('//xmlns:rootfile[@media-type]', namespaces={'xmlns': NAMESPACES['CONTAINERNS']}):\n"
     ]
    }
   ],
   "source": [
    "book = epub.read_epub(os.path.join(\"downloads/ebooky-martinus\",\"9788027800735.epub\"))"
   ]
  },
  {
   "cell_type": "code",
   "execution_count": 29,
   "id": "b7ed00ce-be43-47a0-a488-a9a980b322d7",
   "metadata": {},
   "outputs": [],
   "source": [
    "items = list(book.get_items_of_type(ebooklib.ITEM_DOCUMENT))"
   ]
  },
  {
   "cell_type": "code",
   "execution_count": 31,
   "id": "9581a87f-6470-4cdd-8f67-c8754d4a6198",
   "metadata": {},
   "outputs": [
    {
     "data": {
      "text/plain": [
       "[<ebooklib.epub.EpubHtml at 0x1e1a5e92ed0>,\n",
       " <ebooklib.epub.EpubHtml at 0x1e1a62b2c00>,\n",
       " <ebooklib.epub.EpubHtml at 0x1e1a62b22d0>,\n",
       " <ebooklib.epub.EpubHtml at 0x1e1a62b2300>,\n",
       " <ebooklib.epub.EpubHtml at 0x1e1a62b2ba0>,\n",
       " <ebooklib.epub.EpubHtml at 0x1e1a62b22a0>,\n",
       " <ebooklib.epub.EpubHtml at 0x1e1a62b2870>,\n",
       " <ebooklib.epub.EpubHtml at 0x1e1a62b2330>]"
      ]
     },
     "execution_count": 31,
     "metadata": {},
     "output_type": "execute_result"
    }
   ],
   "source": [
    "items"
   ]
  },
  {
   "cell_type": "code",
   "execution_count": 39,
   "id": "b526dbe4-6098-4d01-ab20-80745e64cd03",
   "metadata": {
    "scrolled": true
   },
   "outputs": [
    {
     "ename": "NameError",
     "evalue": "name 'chapters' is not defined",
     "output_type": "error",
     "traceback": [
      "\u001b[1;31m---------------------------------------------------------------------------\u001b[0m",
      "\u001b[1;31mNameError\u001b[0m                                 Traceback (most recent call last)",
      "Cell \u001b[1;32mIn[39], line 7\u001b[0m\n\u001b[0;32m      5\u001b[0m     \u001b[38;5;28;01mreturn\u001b[39;00m \u001b[38;5;124m'\u001b[39m\u001b[38;5;124m \u001b[39m\u001b[38;5;124m'\u001b[39m\u001b[38;5;241m.\u001b[39mjoin(text)\n\u001b[0;32m      6\u001b[0m texts \u001b[38;5;241m=\u001b[39m {}\n\u001b[1;32m----> 7\u001b[0m \u001b[38;5;28;01mfor\u001b[39;00m c \u001b[38;5;129;01min\u001b[39;00m chapters:\n\u001b[0;32m      8\u001b[0m     texts[c\u001b[38;5;241m.\u001b[39mget_name()] \u001b[38;5;241m=\u001b[39m chapter_to_str(c)\n",
      "\u001b[1;31mNameError\u001b[0m: name 'chapters' is not defined"
     ]
    }
   ],
   "source": [
    "from bs4 import BeautifulSoup\n",
    "def chapter_to_str(chapter):\n",
    "    soup = BeautifulSoup(chapter.get_body_content(), 'html.parser')\n",
    "    text = [para.get_text() for para in soup.find_all('p')]\n",
    "    return ' '.join(text)\n",
    "texts = {}\n",
    "for c in chapters:\n",
    "    texts[c.get_name()] = chapter_to_str(c)"
   ]
  },
  {
   "cell_type": "code",
   "execution_count": 43,
   "id": "4bca8a99-d80c-4b31-92f1-0ee4ce050a76",
   "metadata": {},
   "outputs": [
    {
     "data": {
      "text/plain": [
       "[('Aga (Ukázka)', {})]"
      ]
     },
     "execution_count": 43,
     "metadata": {},
     "output_type": "execute_result"
    }
   ],
   "source": [
    "book.get_metadata('DC', 'title')"
   ]
  },
  {
   "cell_type": "code",
   "execution_count": 45,
   "id": "05bc662d-7935-457d-8b3e-6ef943e6ee0d",
   "metadata": {},
   "outputs": [
    {
     "data": {
      "text/plain": [
       "[('František Kotleta', {'{http://www.idpf.org/2007/opf}role': 'aut'})]"
      ]
     },
     "execution_count": 45,
     "metadata": {},
     "output_type": "execute_result"
    }
   ],
   "source": [
    "book.get_metadata('DC', 'creator')"
   ]
  },
  {
   "cell_type": "code",
   "execution_count": 47,
   "id": "c48db56b-9d6a-4d69-8ce7-5ae328a0cb9f",
   "metadata": {},
   "outputs": [
    {
     "data": {
      "text/plain": [
       "[('urn:uuid:624b9da5-b0d0-4ff5-86e9-262c0a1f7637', {'id': 'bookid'})]"
      ]
     },
     "execution_count": 47,
     "metadata": {},
     "output_type": "execute_result"
    }
   ],
   "source": [
    "book.get_metadata('DC', 'identifier')\n"
   ]
  },
  {
   "cell_type": "code",
   "execution_count": 55,
   "id": "37801154-68a5-4c9c-89d4-aca74328afe1",
   "metadata": {},
   "outputs": [],
   "source": [
    "cover_image = book.get_item_with_id('cover-image')\n",
    "cover_image"
   ]
  },
  {
   "cell_type": "code",
   "execution_count": 61,
   "id": "1bfce4b5-8866-48de-bf9a-d1cb63b80e9f",
   "metadata": {},
   "outputs": [],
   "source": [
    "from bs4 import BeautifulSoup\n"
   ]
  },
  {
   "cell_type": "code",
   "execution_count": 63,
   "id": "06584fe8-221d-4938-a6a8-6f6af18a676b",
   "metadata": {},
   "outputs": [],
   "source": [
    "def chap2text(chap):\n",
    "    output = ''\n",
    "    soup = BeautifulSoup(chap, 'html.parser')\n",
    "    text = soup.find_all(text=True)\n",
    "    for t in text:\n",
    "        if t.parent.name not in blacklist:\n",
    "            output += '{} '.format(t)\n",
    "    return output"
   ]
  },
  {
   "cell_type": "code",
   "execution_count": 57,
   "id": "1e5ff731-e9d3-4353-accf-3f6277f08806",
   "metadata": {},
   "outputs": [],
   "source": [
    "def epub2thtml(epub_path):\n",
    "    book = epub.read_epub(epub_path)\n",
    "    chapters = []\n",
    "    for item in book.get_items():\n",
    "        if item.get_type() == ebooklib.ITEM_DOCUMENT:\n",
    "            chapters.append(item.get_content())\n",
    "    return chapters"
   ]
  },
  {
   "cell_type": "code",
   "execution_count": 69,
   "id": "8c451874-3d4e-4c10-9618-6a1375c41fa3",
   "metadata": {},
   "outputs": [],
   "source": [
    "def thtml2ttext(thtml):\n",
    "    Output = []\n",
    "    for html in thtml:\n",
    "        text =  chap2text(html)\n",
    "        Output.append(text)\n",
    "    return Output"
   ]
  },
  {
   "cell_type": "code",
   "execution_count": 147,
   "id": "b7000575-dc7f-4b92-8a41-748c2179cbc2",
   "metadata": {},
   "outputs": [],
   "source": [
    "def profiltruj(seznam):\n",
    "    ciste = []\n",
    "    for s in seznam:\n",
    "#        if \"html\" in s:\n",
    "        ciste.append(s) #s.split(\"html\")[1].strip())\n",
    "    cistejsi = []\n",
    "    for c in ciste:\n",
    "        if len(c) > 0:\n",
    "      #      if c.strip()[0:9] != \"Copyright\":\n",
    "            cistejsi.append(c)\n",
    "    return cistejsi"
   ]
  },
  {
   "cell_type": "code",
   "execution_count": 97,
   "id": "d7a515d7-3c4d-46fa-a186-834e58679db3",
   "metadata": {},
   "outputs": [],
   "source": [
    "def epub2text(epub_path):\n",
    "    chapters = epub2thtml(epub_path)\n",
    "    ttext = thtml2ttext(chapters)\n",
    "    cisty_text = profiltruj(ttext)\n",
    "    return cisty_text"
   ]
  },
  {
   "cell_type": "code",
   "execution_count": 113,
   "id": "cc37c91a-0403-428c-908e-a4965fb6429d",
   "metadata": {},
   "outputs": [],
   "source": [
    "blacklist = [  ] # '[document]',   'noscript', 'header',   'html', 'meta', 'head','input', 'script',   ]"
   ]
  },
  {
   "cell_type": "code",
   "execution_count": 149,
   "id": "8e5a342f-1332-4dbb-b062-b367b462e2ba",
   "metadata": {},
   "outputs": [
    {
     "name": "stdout",
     "output_type": "stream",
     "text": [
      "[\"xml version='1.0' encoding='utf-8'? \\n html \\n \\n \\n \\n \\n \\n \", \"xml version='1.0' encoding='utf-8'? \\n html \\n \\n \\n \\n \\n \\n \", \"xml version='1.0' encoding='utf-8'? \\n html \\n \\n \\n Copyright   ©   František Kotleta, 2022 \\n Cover art   ©   Jiří Arbe Miňovský, 2022 \\n Illustrations   ©   Lenka Tarwari Jandová, 2022 \\n Czech edition   ©   Nakladatelství Epocha, Praha 2022 \\n \\xa0 \\n ISBN 978-80-278-0073-5 (print) \\n \\xa0 \\n ISBN 978-80-278-1180-9 (ePub) \\n ISBN 978-80-278-1181-6 (mobi) \\n ISBN 978-80-278-1182-3 (pdf) \\n \\n \\n \", \"xml version='1.0' encoding='utf-8'? \\n html \\n \\n \\n Po\\xa0bitvě \\n \\xa0 \\n \\xa0 \\n \\xa0 \\n „V\\xa0případě návratu k\\xa0planetě Karchemiš je pravděpodobnost zničení lodi 85 %. Pokud bude velet kapitán Moravec, je to až 93 %.“ \\n „Mohl bys tu krávu vypnout?“ \\n „Gertruda není kráva. Je to samoučící inteligentní bojový program. Zjišťuje všechny okolnosti, včetně měkkých psychologických faktorů, a\\xa0na\\xa0jejich základě vyhodnocuje rizika…“ \\n „Bla bla bla,“ přerušil Vodičku Gerasim. \\n Také mi z\\xa0toho třeštila hlava. Nechápal jsem, kde bývalý mistr z\\xa0Vítkovic taková slova jako „vyhodnocuje rizika“ a\\xa0„měkké psychologické faktory“ vůbec bere. Podle mě teď příliš často zaplétá hovory s\\xa0Dankou Krasiński. Ta v\\xa0posledních dnech vylezla ze\\xa0své ulity a\\xa0začala se víc zajímat o\\xa0posádku i\\xa0o\\xa0Vzdorující, tedy naši loď. Podobně na\\xa0tom byl Giuseppe. Zatímco všude kolem pobíhali karové a\\xa0pomáhali nám dokončit instalaci rutašské technologie\\xa0– samozřejmě pod přísným dozorem Vodičky, který hlídal, aby si k\\xa0podstatě toho, co mají ve\\xa0svých prackách, nečuchli moc zblízka\\xa0–, kuchař s\\xa0námi začal… no, prostě normálně mluvit. Bylo to zvláštní. Pořád jsem čekal, kde se objeví problém, ale asi už žádný nebyl. To, čím jsme si prošli na\\xa0Karchemiši, nás spojilo, i\\xa0když bylo dost těžké to Vodičkovi vysvětlit. I\\xa0když jsme na\\xa0to spíš tak docela neměli odvahu. \\n „Co to je?“ zeptal jsem se podezřívavě. Na můstek totiž právě vešel Giuseppe a\\xa0v\\xa0ruce držel tác, z\\xa0něhož se linula… vůně. \\n „Nesmrdí to,“ potvrdil mou domněnku Gerasim. I\\xa0on se tvářil nedůvěřivě. \\n „Říkal jsi, že pizzu neumíš a\\xa0nemáš ji rád,“ prohlásil jsem opatrně. \\n „Není to pizza, ale focaccia,“ protočil Ital oči. \\n „Fakáča?“ zakřenil se Gerasim. Přesto odhodlaně popadl kousek nakrájené chlebové placky a\\xa0opatrně se do\\xa0něj zakousl. \\n „Focaccia. Tradiční italské jídlo. Tradičnější než pizza. Karové nám dali nějaké zajímavé suroviny, ze\\xa0kterých jsem ji mohl upéct,“ vysvětlil kuchař. \\n „Nezabije nás to?“ zeptal jsem se ostražitě. \\n „Konzultoval jsem výběr surovin s\\xa0profesorkou. Věří, že tyhle jsou pro lidi bezpečné,“ prohlásil Giuseppe dotčeně. Protože se Gerasim tvářil, že mu jídlo chutná, odvážil jsem se a\\xa0také si kousek vložil do\\xa0úst. Bylo to vynikající. Neskutečné. Opravdové pozemské jídlo. \\n „Ona sama to prý ale pozře, až ochutnáte vy dva,“ dodal Ital s\\xa0poťouchlým úsměvem. \\n Mně už to ale bylo jedno. Vážně to bylo dobré. Musel jsem se hlídat, abych si po\\xa0druhém kousku nedal třetí, a\\xa0vybídl jsem Vodičku. I\\xa0on přijal jídlo s\\xa0nadšením. \\n „Chcete vědět, z\\xa0čeho je ta mouka?“ zeptal se opatrně Giuseppe. \\n „Hani ha huatý puache,“ odvětil za\\xa0mě Gerasim s\\xa0plnou pusou. \\n Měl pravdu. Tohle byl vesmír, kde si enlilové zajišťovali zásoby na\\xa0dlouhé meziplanetární lety mletím lidí na\\xa0separát v\\xa0obrovských masokombinátech. Pokud to nevypadá jako jídlo z\\xa0někoho, s\\xa0kým jsem ve\\xa0školce hrál  Zajíček v\\xa0své jamce sedí sám , nehodlal jsem to detailněji zkoumat. \\n Břicho mi udělalo nějaký zvuk, který ale neznamenal nic špatného. To jen, že po\\xa0dlouhých měsících mělo v\\xa0sobě něco, co bylo poživatelné, a\\xa0nešlo o\\xa0rutašskou růžovou vodu, tedy naše oblíbené kafe, které nás drželo při životě. \\n „Můj táta říkával, že po\\xa0takovým šmaku už jenom vodku, doutník a\\xa0nějakou fešnou soudružku na\\xa0zahřátí,“ usmál se spokojeně Gerasim. \\n „Moje prababička Plháková zase měla takový pořekadlo, že po\\xa0dobrým obědě hodinu spánku a\\xa0po\\xa0špatným ani nevstat. Hodinku šlofíka bych si dal,“ doplnil jsem ho. \\n „Chutnalo vám to?“ zeptal se nejistě Giuseppe. \\n „Bože, je to geniální. Upečeš nám to znova?“ navrhl jsem s\\xa0nadějí v\\xa0hlase. \\n „Nejsem kuchař,“ ušklíbl se v\\xa0odpověď. \\n Měl pravdu. Nebyl. Nic kromě nevábné úpravy separátu a\\xa0focaccie evidentně nezvládl. Museli jsme to nějak vyřešit, ale teď jsme měli důležitější věci na\\xa0práci. \\n „Doufám, že tu nehodláte kouřit. To karské listí není nic, o\\xa0čem bych věděla, že je dlouhodobě vhodné pro lidský…“ \\n Profesorka se vynořila přímo za\\xa0Giuseppem. Zatímco Gerasim se kroutil, aby neřekl to své „bla bla bla“, ona uprostřed proslovu spatřila tác v\\xa0Italových rukách. \\n „Focaccia!“ vykřikla nadšeně, a\\xa0když Ital souhlasně pokýval hlavou, decentně vzala kousek do\\xa0ruky a\\xa0způsobně jej začala jíst. Musela se ale přitom dost ovládat, aby to nehltala. \\n „Může mě tu někdo poslouchat? Když jste se nenáviděli, šla mi práce lépe od\\xa0ruky,“ povzdechl si Vodička. \\n Natáhl jsem se po\\xa0svém hrnku a\\xa0zapil italskou pochutinu růžovým kafem. \\n „Gertruda není…,“ vrátil se poté k\\xa0původnímu tématu, ale já ho mávnutím hrnku zastavil. \\n „Co teď Vzdorující umí?“ zeptal jsem se napřímo. \\n Vodička vyvolal uprostřed místnosti virtuální obraz naší lodi. Na\\xa0některých místech byly vidět odkryté části, na\\xa0nichž pracovali karové pod dohledem Mistra lepení. Vznášeli jsme se v\\xa0prázdném koutě vesmíru, kam nás vyplivl vesmírný proud. Dostali jsme se sem díky rutašské navigační mapě v\\xa0našich systémech. Kolem nedaleké vyhaslé hvězdy se nacházelo dost asteroidů, které karské flotile poskytly velké množství surovin, jež se daly zpracovat a\\xa0použít k\\xa0opravě poškozených lodí. Mistr lepení nás už opustil, stejně tak tanečníci petragunu. Jen pomáhali s\\xa0našimi technickými potřebami při přestavbě. Danku Krasiński stálo dost diplomacie, aby se Královna žihadel smířila s\\xa0tím, že bude mít na\\xa0palubě pankáče, anarchisty a\\xa0rozhoďnožky, ale vzhledem k\\xa0tomu, co jsme pro ni udělali, nám dala nějaký posvátný slib, že nikomu nic neusekne. Pro karskou kulturu to představovalo skutečný pokrok. \\n „Nejdůležitější bylo asi spuštění velkých výrobníků po\\xa0celé lodi. Soustředíme je na\\xa0produkci bojových prostředků,“ ukazoval Vodička místa, na\\xa0něž se vrátil původní pancíř a\\xa0loď tak znovu vypadala jako… no, jako nákladní kraksna. „Jedou teď naplno. Ze\\xa0základních surovin, které můžeme sami natěžit na\\xa0asteroidech, umějí vyrobit ty nejdůležitější prvky našeho obranného systému.“ \\n „A\\xa0to?“ zeptal se Gerasim. \\n „Jde o\\xa0sítě a\\xa0kusy kovu, které nás chrání před projektily různých kalibrů a\\xa0před následnými energetickými výboji…“ \\n „Štíty?“ zeptal se s\\xa0nadějí Gerasim. \\n „Ne, nejsou to štíty. Je to všemožný bordel, který vypustíme, když na\\xa0nás někdo střílí,“ vysvětlil jsem Gerasimovi, který své představy o\\xa0vesmírných lodích stále zakládal na dávných pozemských sci-fi seriálech. \\n „Kromě toho můžeme sami vystřelovat malá torpéda. Ta také pocházejí z\\xa0našich výrobníků.“ \\n „Jako na\\xa0ponorkách,“ neřekl konečně nějakou pitomost Rus. \\n „Ano, jako na\\xa0ponorkách. Plus byly provedeny úpravy některých skladů na\\xa0okrajích lodi. Tam nabíráme drobné asteroidy pro případ nutnosti bombardování. Bez problému nahradí klasické bomby. Když je pošleš na\\xa0povrch planety z\\xa0oběžné dráhy, ta rychlost nárazu sama o\\xa0sobě stačí k\\xa0nadělání pořádné paseky,“ vysvětloval Vodička. \\n „A\\xa0to dělo?“ zeptal jsem se. \\n „Pořád nemáme co do\\xa0něj. Výroba dostatečného množství fenderových antičástic trvá dlouho a\\xa0o\\xa0antihmotu jsme přišli,“ odvětil Vodička. \\n Jen jsem pokrčil rameny. Patrně jsme vyhodili do\\xa0vzduchu jednu z\\xa0nejdražších věcí ve\\xa0vesmíru, kterou jsme ukradli na\\xa0naší předposlední výpravě a\\xa0zatajili ji před slepičí mafií, ale stálo to za\\xa0to. \\n „Furt lepší než nic. To je všechno?“ \\n „Dokončili jsme instalaci maskovacího systému, který měli rutašové na\\xa0té své staré stanici. Dal jsem ho i\\xa0do\\xa0nové Malé Kraksny a\\xa0druhého výsadkového modulu. Na\\xa0těch dvou je nejvíc potřeba, aby…“ \\n „V\\xa0pohodě, Lojzo, odvedl jsi hromadu práce. Ale teď už se musíme vrátit na\\xa0Karchemiš,“ mávl jsem rukou. \\n „Předčasný návrat na\\xa0Karchemiš zvyšuje pravděpodobnost destrukce lodě na\\xa097 %,“ oznámila Gertruda. \\n Dědek se na\\xa0mě rozpačitě podíval. \\n „Jedno procento za\\xa0Amandu, jedno za\\xa0Agu a\\xa0jedno pro štěstí. Nechci už čekat ani den. Rozloučím se s\\xa0Rajdou, Šlápotou a\\xa0Běhnou. Je čas jít zase o\\xa0planetu dál,“ prohlásil jsem rozhodně. \\n Tak snadno to ale nešlo. \\n * * * \\n „Cože udělají?“ \\n Profesorka zhltla poslední kousek focaccie a\\xa0pak nám předestřela problém, kvůli němuž na\\xa0můstek dorazila. „Čajinská unie má nyní v\\xa0čele samce. Císařovna jej nemůže přijmout, ani Královna žihadel. Ony jednají jako se sobě rovnými jen se samicemi.“ \\n Gerasim si přiložil ukazováček k\\xa0hlavě a\\xa0gestem naznačil výstřel do\\xa0spánku. \\n „Nedělejte opičky, poručíku Vojcechovsky. Jde o\\xa0kulturní zvyklosti ustálené již stovky let, to nejde jen tak vymazat. Karky jsou velmi hrdé. Čajinská unie jim sice může poskytnout azyl na\\xa0jedné ze\\xa0svých mnoha prakticky neobydlených planet… a\\xa0hodnoty obou druhů jsou v\\xa0mnoha ohledech slučitelné, ale…“ \\n „Kobylky nehodlají vyjednávat s\\xa0někým, komu by nejraději něco ufikly.“ \\n „Nejsou to kobylky, Gerasime, a\\xa0dovolte, abych vám připomněla, že třeba v\\xa0takovém Švýcarsku ženy získaly volební právo až v\\xa0roce 1971, tak se nad cizí kultury nepovyšujte,“ otočila se profesorka naštvaně na\\xa0ruského bohatýra. \\n Ona to takhle měla. Fascinovaly ji všechny vesmírné kultury a\\xa0jejich sociální interakce. Respektovala a\\xa0obdivovala jejich zvláštnosti. Tuším, že i\\xa0o\\xa0Ažině lpění na\\xa0tom, že mě jednoho dne strašlivým způsobem zabije, prohlásila, že jde o\\xa0fenomenální koncept cti. V\\xa0tomhle byl karský matriarchát na\\xa0vesmírné poměry ještě docela roztomilá záležitost. \\n „A\\xa0není to jejich problém? Amanda už je sama dobré tři týdny. Spím s\\xa0bídou čtyři hodiny a\\xa0dennodenně se dvacet hodin dřu, abychom se pro ni mohli co nejdříve vrátit. Nebudu tady čekat, až se ti luční koníci rozhodnou nechcípnout hlady uprostřed pustého vesmíru. Můžou si tu svoji kulturu strčit víte kam!“ rozohnil se na\\xa0svou povahu dost nezvykle Vodička. Vážně vypadal strhaně. Amanda mu přirostla k\\xa0srdci a\\xa0každý den, kdy trčela sama na\\xa0Karchemiši, přidělával starosti nejen jemu, ale i\\xa0mně. \\n Na\\xa0druhou stranu jsem ale cítil zodpovědnost za\\xa0tanečníky petragunu. A\\xa0nebyli to jen karové, ale i\\xa0různí vyvrhelové jiných roztodivných ras, jimž učaroval rebelský tanec. \\n „Co jsou vlastně ti čajíčkové za\\xa0rasu?“ zeptal jsem se. \\n „Není to rasa, ale obchodní společnost\\xa0– Čajinská unie. Vznikla před celými věky sloučením tří různých společenství, která vytvořila obrannou a\\xa0obchodní alianci. Přijímají bez rozdílu každého, kdo se k\\xa0nim přidá. Kdysi jsem se s\\xa0nimi na\\xa0pár týdnů setkala, když jsem…,“ umlkla. \\n „Když jste makala pro Společenství. To není nic, co bychom nevěděli,“ pohodil jsem hlavou na\\xa0znamení, že to je stará historie . \\n „Jejich planety jsou dost nehostinné. A vůbec jde o\\xa0zapadlý kout vesmíru, o\\xa0nějž nikdo nemá zvláštní zájem. Oni se však naučili přežít i\\xa0v\\xa0tvrdých podmínkách. Karové jsou ovšem na\\xa0extrémní výkyvy počasí zvyklí, a\\xa0navíc jejich technologie stavby vesmírných pevností by se unii mohla hodit,“ pokračovala ve\\xa0výkladu Danka Krasiński. \\n „Vysvětlila jste to Císařovně?“ nadhodil jsem. \\n Pokývala hlavou. \\n „Má své zásady, přes něž se nedokáže přenést. Už to, že přijali vaše… přátele… pro ně bylo dost psychicky náročné a\\xa0vyžadovalo to značně kreativní výklad karských tradic.“ \\n „A\\xa0vy s\\xa0nimi jednat můžete? Myslím s\\xa0čajíky, teda Čajinskou unií. Být něco jako prostředník?“ otázal se Vodička klidnějším tónem. \\n „Snažím se o\\xa0to, ale potřebuji hodně času. Myslím, že i\\xa0nám by se nové zázemí hodilo. Mít kde se na\\xa0chvíli ukrýt a\\xa0nebát se, kdy na\\xa0nás zaútočí enlilové,“ pronesla velmi tichým hlasem. \\n „Čas nemáme,“ odvětil dědek. \\n „Běžte do\\xa0toho,“ promluvil jsem současně s\\xa0ním. \\n „Ale…,“ namítl Vodička. \\n „Ale ty by ses měl pořádně vyspat. Ukonči všechny opravy. Musíme vyrazit.“ \\n „Ale…,“ ozvala se pro změnu profesorka. \\n „Ale vy byste se měla přichystat také. Na\\xa0svou misi. My zjistíme, co se stalo s\\xa0Agou, vyzvedneme Amandu a\\xa0vrátíme se sem pro vás,“ přerušil jsem rázně i\\xa0Polku. \\n „Neměla by tu zůstat sama,“ zachmuřil se Gerasim. \\n „Postarám se o\\xa0sebe, děkuji za\\xa0péči, mladíku,“ odsekla profesorka. \\n „Ticho!“ zařval jsem podrážděně. „Jsem kapitán téhle lodě. Jsem velitel téhle mise. Lojza jde spát, vy s\\xa0Gerasimem si vezměte modul a\\xa0běžte vyjednávat za\\xa0kary, a\\xa0pokud si myslíte, že je to dobrý nápad, pak i\\xa0za\\xa0nás. Gerasim si vezme kulomrd a\\xa0všechno vybavení, co se může hodit. Bude-li to třeba, prostřílí se s\\xa0vámi skrz celou galaxii. Protože to on umí.“ \\n „A\\xa0bude mě také hlídat, abych nekontaktovala kulšeše, že?“ pronesla profesorka ironicky. \\n „Pokud to uděláte, zastřelí vás. A\\xa0pokud ne, každé chobotnici, co se na\\xa0vás jenom křivě podívá, strčí do\\xa0řitního otvoru její vlastní chapadlo. Tak snadné to je, paní profesorko. Ale já jsem vám už několikrát řekl, že vám věřím. Po\\xa0tom, co se stalo na\\xa0Karchemiši, víc než dřív. Gerasim půjde s\\xa0vámi, protože je to Gerasim. Vyhodí do\\xa0povětří celou planetu, jenom aby zachránil člena posádky. My půjdeme udělat to samé. Měla byste se jít sbalit,“ řekl jsem jasně a\\xa0rozhodně, čímž jsem považoval celou věc za\\xa0ukončenou. V\\xa0tu chvíli mě však Vodička upozornil, že nás volají karové. Navázal spojení a\\xa0na\\xa0obrazovce se objevila samotná Královna žihadel. \\n „Naše komando je připraveno se nalodit na Vzdorující. Upozorněte nás sedm cyklů před svým odletem.“ \\n „Jaké komando?“ zeptal jsem se nechápavě. \\n „Výzvědná mise, kterou nám dopravíte na Karchemiš. Vaše vůdkyně ji schválila. Vážně by vám měla něco useknout, kapitáne Bouchači,“ dodala Královna a\\xa0ukončila spojení. \\n Zavrčel jsem. \\n „O\\xa0tom jsem s\\xa0vámi také chtěla mluvit,“ pronesla profesorka. Ostře jsem na\\xa0ni pohlédl. \\n „V\\xa0případě návratu na\\xa0Karchemiš bez dvou členů posádky je pravděpodobnost totální destrukce lodě 99 %,“ ozvala se Gertruda. \\n „Vypni tu krávu!“ zařval jsem na\\xa0Vodičku. \\n „Tak já bych šel upéct další focacciu…,“ zamumlal Giuseppe a\\xa0vytratil se z\\xa0můstku. \\n \\n \\n \", \"xml version='1.0' encoding='utf-8'? \\n html \\n \\n \\n \\n \\n \\n \", \"xml version='1.0' encoding='utf-8'? \\n html \\n \\n \\n \\n \\n \\n \", \"xml version='1.0' encoding='utf-8'? \\n html \\n \\n \\n Zpátky na\\xa0Karchemiš \\n \\xa0 \\n \\xa0 \\n \\xa0 \\n Karskému komandu velela Sekáček. Šlo o\\xa0jednu z\\xa0nejdrsnějších karských vyšetřovatelek. Přesto ale nesplnila svůj rozkaz a\\xa0místo nařízené popravy nás zachránila. Měl jsem takové ženy rád\\xa0– tvrdé, drsné, ale přemýšlející nad tím, co dělají a\\xa0proč. Civilní karský oděv, jejž měla na\\xa0sobě ona i\\xa0tři členky jejího komanda, připomínal kabát, který jsem nosil na\\xa0Jednotykadlákovu památku. Zdálo se, že se v\\xa0něm necítila zrovna nejlépe. Nejspíš to byl dar od\\xa0tanečníků petragunu. \\n Jen co Kraksnu opustil modul s\\xa0profesorkou a\\xa0Gerasimem, otevřeli jsme uzel vesmírného proudu a\\xa0zmizeli v\\xa0něm. Gertruda zase vyplivla nějakou prognózu, ale mně to bylo jedno. Potřeboval jsem spát a\\xa0čekalo mě pár dnů, než se vrátíme na\\xa0bojiště. Zalezl jsem do\\xa0ústraní toho, čemu jsem začal říkat „moje kajuta“ .  Dost možná to původně byla ubikace posádky. Místnost měla dvacet metrů čtverečních, a\\xa0teď už dokonce i\\xa0záchod a\\xa0sprchu. Tuhle vymoženost jsme sem nainstalovali my. K\\xa0tomu čtyři postele, které jsem však postupně rozebral a\\xa0sestavil z\\xa0nich ... \\n \\n \\n Konec ukázky \\n \\n \\n \", \"xml version='1.0' encoding='utf-8'? \\n html \\n \\n \\n V\\xa0jedné předaleké galaxii \\n \\xa0 \\n \\xa0 \\n \\xa0 \\n Vesmír   je   kruté   místo.   Právo   na\\xa0život   má   pouze   ten,   kdo   si   jej   uhájí   v\\xa0boji.   Taková   jsou   pravidla   tam   venku.   Lidé   se   je   dozvěděli   v\\xa0den,   kdy   na\\xa0jejich   planetu   zaútočila   invazní   flotila   civilizace   enlilů.   Krátká,   ale   tvrdá   válka   srazila   lidstvo   na\\xa0kolena   a\\xa0udělala   z\\xa0něj   otroky   mimozemských   dobyvatelů.   Otroky,   kteří   si   zaslouží   život,   jen   pokud   budou   svým   majitelům   věrní   a\\xa0užiteční.   Jenže   lidé   se   nevzdali.   Kapitán   české   tajné   služby   František   Moravec   připravil   plán   na\\xa0záchranu   lidstva,   který   sice   ztroskotal,   ale   jemu   se   podařilo   aspoň   získat   starou   nákladní   loď,   tajně   vybavenou   technologií   tajemných   rutašů\\xa0–   prastaré   vesmírné   rasy,   jež   se   nyní   skrývá   před   světem.   Na\\xa0lodi   Kraksna   pluje   s\\xa0ruským   poručíkem   Gerasimem,   technikem   Aloisem   Vodičkou,   mimozemšťankou   Agou,   italským   kuchařem   Giuseppem,   tajemnou   Amandou,   unesenou   mimozemšťany   dlouho   před   začátkem   invaze,   a\\xa0polskou   profesorkou   Dankou   Krasiński,   která   by   tam   nejraději   vůbec   nebyla.   A\\xa0s\\xa0odhodláním   škodit   enlilskému   impériu   a\\xa0jeho   bitevním   flotilám.   Ano,   na\\xa0první   pohled   to   není   nejostřejší   posádka,   ovšem   není   všem   dnům   konec   a\\xa0lidé   koneckonců   vždycky   dokázali   překvapit. \\n \\n \\n \"]\n"
     ]
    },
    {
     "name": "stderr",
     "output_type": "stream",
     "text": [
      "C:\\Users\\micha\\AppData\\Local\\Temp\\ipykernel_5144\\3781084737.py:4: DeprecationWarning: The 'text' argument to find()-type methods is deprecated. Use 'string' instead.\n",
      "  text = soup.find_all(text=True)\n"
     ]
    }
   ],
   "source": [
    "print(epub2text(os.path.join(\"downloads/ebooky-martinus\",\"9788027800735.epub\")))"
   ]
  },
  {
   "cell_type": "code",
   "execution_count": null,
   "id": "4aa7aa63-e5fb-4e46-a953-242342caa19d",
   "metadata": {},
   "outputs": [],
   "source": [
    "with "
   ]
  },
  {
   "cell_type": "code",
   "execution_count": 217,
   "id": "ddaf3c44-e146-400c-836d-4bb5a2b837af",
   "metadata": {},
   "outputs": [],
   "source": [
    "kniha = epub.read_epub(os.path.join(\"downloads/ebooky-martinus\",\"9788027800735.epub\"))"
   ]
  },
  {
   "cell_type": "code",
   "execution_count": 193,
   "id": "bde2eaa5-be24-42c2-8c52-243b7483162f",
   "metadata": {},
   "outputs": [],
   "source": [
    "kniha = epub.read_epub(os.path.join(\"downloads/ebooky-martinus\",\"9788024712642.epub\"))"
   ]
  },
  {
   "cell_type": "code",
   "execution_count": 223,
   "id": "adac024c-1fbb-4fc2-98e4-396c16c41102",
   "metadata": {},
   "outputs": [],
   "source": [
    "kniha = epub.read_epub(os.path.join(\"downloads/ebooky-martinus\",\"9788024951560.epub\"))"
   ]
  },
  {
   "cell_type": "code",
   "execution_count": 227,
   "id": "e222c321-2e12-4a03-bcd7-f69a9456fa57",
   "metadata": {},
   "outputs": [],
   "source": [
    "kniha = epub.read_epub(os.path.join(\"downloads/ebooky-martinus\",\"9788076621473.epub\"))"
   ]
  },
  {
   "cell_type": "code",
   "execution_count": 241,
   "id": "e9010f01-102d-4911-80c7-095c6ef17ffb",
   "metadata": {},
   "outputs": [],
   "source": [
    "kniha = epub.read_epub(os.path.join(\"downloads/ebooky-martinus\",\"9788024943022.epub\"))"
   ]
  },
  {
   "cell_type": "code",
   "execution_count": 155,
   "id": "9c4fb440-726f-409d-a373-f23339dda09d",
   "metadata": {},
   "outputs": [
    {
     "data": {
      "text/plain": [
       "<ebooklib.epub.EpubBook at 0x1e1a7acfa70>"
      ]
     },
     "execution_count": 155,
     "metadata": {},
     "output_type": "execute_result"
    }
   ],
   "source": [
    "kniha"
   ]
  },
  {
   "cell_type": "code",
   "execution_count": 247,
   "id": "835df3f6-77d3-4c64-9c68-c1fa36529587",
   "metadata": {},
   "outputs": [
    {
     "name": "stdout",
     "output_type": "stream",
     "text": [
      "že ve mě vždy věřil.\n",
      "A taky svému taťkovi, že byl tak statečný, než odešel.Prolog\n",
      "U zrození lásky jsou převážně dva, u rozchodu jich bývá už víc a já chci mluvit o všech, které rozchod bolí.\n",
      "Rozchod jsme zažili úplně všichni, ale ne vždy se s ním umíme vyrovnat a odejít ze vztahu jako dospělí lidé s láskou a úctou k tomu druhému.\n",
      "Mně osobně se to rozhodně nepovedlo a ani mému bývalému partnerovi Tomášovi, který je tatínkem mé dcery. Z toho je pochopitelné, že jsme tři a čeká nás rozvod. Nás tedy rozchod, nebyli jsme manželé. Ono je ve výsledku jedno, jestli se rozcházíte nebo rozvádíte. Pokud se řeší opravdová podstata konce jedné malé rodiny, tak na slovíčku nezáleží.\n",
      "Tento příběh končí šťastně. Proč to prozrazuji?\n",
      "Protože nehledám viníka nebo snad vraha.\n",
      "Hledám staronovou rodinu, ženskou sílu a momenty, kdy se můžu smát, i když se mi chce plakat.\n",
      "Ve chvíli, kdy jsem si myslela, že je vše ztraceno, otevřela se přede mnou cesta plná světla, lásky a humoru.\n",
      "Začnu vyprávět… Od začátku nebo od konce? Od prostředka.\n",
      "Píše se září roku 2009…Svoboda trvá jen chvilku\n",
      "Vybíhám z domu v Podolí, konečně sama a svobodná. Aspoň na pár hodin mám svět jen pro sebe. Mateřská je, jako kdyby vám někdo v hlavě vyšlehal mozek na bramborovou kaši. Teď ale běžím za Alčou, kamarádkou ze střední. Budu moct zase mluvit jako dospělá žena, bez infantilních rýmovaček a zdrobnělin. Běžím na tramvaj, slunce svítí, vítr mi čepýří blond vlasy do všech světových stran a zvedá lehké červené šaty. Naskakuje mi z toho všeho husí kůže. Cítím svobodu a ta bývá divoká. Na poslední chvíli skáču do poloprázdné tramvaje číslo sedm, která jede okolo Vltavy. Miluju tenhle pohled na řeku a Pražský hrad.\n",
      "Zvoní mi telefon, kdo to asi může být? S dychtivostí jej hledám ve velké kabelce, ve které mám určitě černou díru, kde v nejnevhodnější okamžik vždy zmizí všechno, co potřebuju. Tentokrát byla černá díra milostivá. Mám ho! Na displeji Tomáš, můj expřítel. S nechutí hovor přijmu.\n",
      "Ahoj, co potřebuješ? Mluvit s malou.\n",
      "My teď spolu nejsme. Jak to?\n",
      "Takto. Když tak zavolej mojí mámě. Hlídá ji.\n",
      "Té teda fakt volat nebudu. Abych zase poslouchal ty její kecy.\n",
      "Kdy budeš doma?\n",
      "Co je ti po tom, Tomáši?\n",
      "Jsem se jen zeptal, kvůli malé. Mám starost, co s ní je.\n",
      "Měl ses starat dřív, teď nemám čas.\n",
      "… se furt chováš jak semetrika…\n",
      "Kiki je doma a je v pořádku. Čau!\n",
      "Položím telefon a vystupuju na Národní třídě, kde je má oblíbená kavárna Slavia, ve které sedí má nejoblíbenější Alča. Dobíhám na poslední chvíli, lehce zpocená, ale šťastná, že ji konečně vidím – Alenku, mou kamarádku ze střední. Podporujeme se už patnáct let v jakékoliv situaci a máme jednu společnou vlastnost. Umíme si posrat život skutečně nezvyklým způsobem. A to nás sbližuje ještě víc. Konečně dosednu do krásného, zlatem prošívaného křesílka. Vše je, jak má být. Výhled na Pražský hrad, po boku Alča a před námi bude za chvíli naše tradiční latté s kakaovým srdíčkem na pěně, neperlivá voda a větrník. Ano, miluju tyhle vzácné chvilky, kdy sedíme v kavárně jako dvě babičky a máme čas jen pro sebe. Poslední dobou jsem všechny zanedbávala a neměla sílu nikoho vidět, ale teď nabírám dech.\n",
      "Mluvíme jedna přes druhou, smějeme se a přeskakujeme z tématu na téma.\n",
      "Plná zvědavosti se ptám: Tak jak dopadl casting na ten film?\n",
      "Ale, asi z toho nic nebude, Luci. Zřejmě mám moc malý prsa na režisérovy prasárničky.\n",
      "Začnu se na celé kolo smát: Nééé, to nemyslíš vážně?!\n",
      "Alča, drobná bruneta s prořízlou pusou a velkýma očima, která celoživotně touží být slavná a obdivovaná herečka, odvětí lehce nakřáplým hlasem: To myslím naprosto vážně. Asi hodinu po castingu mi přišla z neznámého čísla zpráva, jestli prý nemám chuť na nezávazné setkání. Že jsem vážná adeptka na druhé kolo castingu. A že by mě dotyčný rád poznal blíž. Chápeš to?\n",
      "Tak třeba si chtěl opravdu jen pokecat, nacítit tě a zjistit, jaká seš.\n",
      "Lucko, jak dlouho jsi u filmu? Od toho jsou snad ty další kola, ne? Ten chtěl akorát tak nacítit svého pinďoura!\n",
      "Mělas mu dát šanci, všichni hned nemusí chtít prcat. I když je fakt, že já na žádném filmovém castingu nebyla už léta… A cos mu teda odepsala?\n",
      "Alča protočí oči a začne hledat v kabelce mobil.\n",
      "První hodinu nic, byla jsem úplně vykulená, ale pak mě napadlo, že budu dělat, že nechápu. Tak jsem mu napsala, že se omlouvám, ale že nevím, kdo mi píše, že mám navíc přítele, takže by to asi nešlo, ale že se když tak můžeme potkat v dalším kole.\n",
      "A odpověď?\n",
      "Alča vítězoslavně vytáhne telefon, aby byla její citace přesná:\n",
      "„Jo, máš pravdu, to by nešlo, stejně máš malý kozy, takže to pusť z hlavy.“\n",
      "Tohle ti fakt napsal?! Alča kývne.\n",
      "Jsem trochu zhnusena: Prasák!!!\n",
      "Alča se sama sobě s hořkostí zasměje. To se asi dneska používá místo věty: „Děkujeme za účast, brzy se vám ozveme.“ I když teď mi dochází, že to klidně mohl být i ten jeho asistent, ten na mě pořád tak úlisně čuměl.\n",
      "No vidíš, možná je v tom ten režisér nevinně, snažím se v ní vykřesat aspoň jiskřičku naděje.\n",
      "To je jedno, evidentně nepostupuju. No a co u tebe, Luci?\n",
      "Prosím tě, nevím, kde mi hlava stojí… Je toho teď fakt moc… teda kromě práce.\n",
      "Opět mi začne zvonit telefon, na displeji pro změnu svítí Mamka.\n",
      "Ano, mami, co se děje?\n",
      "Lucinko, můžeš se prosím tě vrátit domů?\n",
      "Hrkne ve mně: Proč, mami, děje se něco? Něco s Kiki?\n",
      "Ale ne, ta si tady hraje na koberci s těma obludama. Kečupáci nebo tak nějak se to jmenuje.\n",
      "Petšopáci. Tak proč teda voláš, mami? No, aby ses vrátila, Luci.\n",
      "Mami, teď jsem dorazila a objednala si kafe. Jsem pryč asi dvacet minut!\n",
      "Máma se nadechne a trochu nervózně ze sebe vysouká: Luci, musím do práce!\n",
      "Cože? Vždyť máš dneska jeden z mála volných dnů?!\n",
      "No jo, ale v Bille mají pracovní úraz. Pokladní spadla ze židle a zlomila si ruku.\n",
      "Co je to za blbost?! Nevěřím vlastním uším.\n",
      "Na pokladnách máme takové příšerně rozviklané židle, no a ona z ní spadla. Takže teď jsou tam na celou prodejnu jen dvě pokladní. Slíbila jsem, že jim pomůžu.\n",
      "Nadechnu se a bojuji o svůj volný podvečer: Mami, tak jim řekni, že už něco máš!\n",
      "To jim nemůžu, Lucinko, udělat. Jsem tam nová!\n",
      "No a co?! Makáš dvacet šest dní v měsíci, to není normální!!! To je dokonce protizákonné!\n",
      "Máma mlčí a pak knikne: Ale mně volala přímo šéfová…\n",
      "Ale mami, já jsem teď dorazila a s Alčou jsme si ještě nic neřekly! Alča kouká, nechápe, co se děje.\n",
      "No právě, vždyť tam máš jen Alču. To není nic důležitého, Lucko!\n",
      "Tep mi vyletí na 220! To myslíš vážně?! Jsem po měsíci konečně venku a řeším tady důležité věci!\n",
      "Máma pronese s lehkým úšklebkem v hlase: Jaké, prosím tě?\n",
      "Chlapy, mami!!! Vykřikla jsem to tak nahlas, že se půlka kavárny se zájmem otočila. Řešíme tady ty podělaný chlapy!!! Chápeš to?!\n",
      "Nastane vteřina ticha.\n",
      "Pak máma suše zasmečuje: Stejně žádný nemáš, tak není co řešit, ne? Vrať se, prosím tě, co nejrychleji! Potřebuju jít. Dík! A položí telefon.\n",
      "Moje máma je nemožná kráva! Tohle mi dělá pořád. Každý na světě je důležitější než já.\n",
      "Jsem vzteky bez sebe, koukám na zmatenou Alču, která nejistě děkuje číšníkovi za právě přinesenou kávu s větrníkem a ve velkých očích má dva obrovské otazníky.Blázinec v hlavě\n",
      "Ležím na posteli ve svém novém podnájmu a všude kolem je spousta nevybalených krabic od banánů. Ta banánová vůně mi nedělá dobře, připomíná mi odchod. Převaluju se a nemůžu spát. Cloumá mnou vztek na mámu, která se dokáže rozdat ostatním, jen já vždycky utřu. Zlobím se na Tomáše, že mi lhal a zavedl mě na několik let do slepé uličky. Ale hlavně nesnáším sama sebe! Jak je možné, že jsem pořád tak pitomá a nevidím ani na dva kroky před sebe?!\n",
      "Přehodím polštář na druhou stranu postele v naději, že se mi tak bude spát lépe, ale nic se nemění. V hlavě mi tepe jedna otázka za druhou. Proč tady teď ležím sama jen s děckem a se psem? Proč se cítím tak opuštěně? Proč nemám žádnou pořádnou práci a k tomu na krku nájem velký jako kráva? Kdo může za můj zpackaný život, který vůbec nevypadá jako životy hereček, o kterých čtu v časopisech?!\n",
      "Je mi dvacet osm, chtěla bych cestovat, jezdit po festivalech, pařit v nočních klubech, zkoušet divadlo a točit filmy. Místo toho hledám místo ve školce, obcházím castingy na reklamy a o divadle si můžu nechat jen zdát. Takhle jsem si teda dospělost nepředstavovala! Zvedám se potichu z postele, abych nevzbudila Kiki, a jdu si nalít trochu vína.\n",
      "Zapaluju svíčku v místnosti, která má být obývák, ale zatím vypadá jako sklad IKEA. Ostatně jako celý můj nový byt. Sednu si na fialkový gauč a koukám přes okno na pouliční lampu. Jediné světlo, které teď v životě mám. Kdo může, do prdele, za to, že tu teď sedím sama?! Proč tu není Tomáš a neutěšuje mě? Cítím se tak zrazeně, osaměle… A vztekle… Po hltech piju víno, cyklím se sama v sobě a v rotujících otázkách. Proč se mi to stalo a proč zrovna mně, ptám se sama sebe pořád dokola. To přece není fér!!! Vždyť jsem byla vzorná žena. Nikdy jsem Tomáše nepodvedla, vařila jsem, prala, byla milenkou na zavolání. S naší dcerou jsem postavila milion puzzle a vařila jen biostravu, vychovávala ji, jak nejlíp jsem uměla. Milovala jsem ho a snesla bych mu modré z nebe. Tak proč mi to udělal? Proč jsem potkala zrovna takového hajzla? Proč je můj život úplně v prdeli?! Kdo to celé podělal?!\n",
      "Ticho. Nepřichází vůbec žádná odpověď.\n",
      "Nemůžu si pomoct, ale vždycky, když se k Tomášovi v myšlenkách vrátím, mě přepadne touha ho trápit. Takže i teď. Upíjím víno a pouštím svou fantazii na plné obrátky. Vidím ho stát ve vykachlíčkované místnosti úplně nahého, s povislým břichem a bimbajícím pinďourem. Cítí se trapně, má svázané ruce i nohy a prosí mě o odpuštění. Ale já na něj vždy jen chrstnu studenou vodu jako v blázinci. Všude duní rytmická hudba, já jsem vysmátá a on kvílí jako malé děcko. Ještě víc mě ovšem uspokojuje představa, že mu pomalu a bolestivě vymačkávám jebáky na zádech a on se nemůže bránit. Je ponížený, pokořený a jsem to já, kdo ho má plně ve své moci… Tyhle fantazie mě uklidňují, a i když se za ně vlastně stydím, každý večer si je v hlavě stejně přehrávám znovu a znovu. Jako večerníček. Mučedníček na dobrou noc.\n",
      "Ano, za všechno může Tomáš! Ale toto dávné zjištění mi bohužel nijak nepomáhá. Úzkost nemizí a deska v hlavě se tak každý večer znovu rozjede. A to je pak chvíle na to, vytáhnout seznam důvodů, proč jsem ho opustila:\n",
      "1. Měl zástupy ženských! Krávy, které byly buď krásné s kozama k prasknutí, nebo škaredé jak noc. Inťošky, co si zakládaly na své mozkovně, humoru a titulech, které na rozdíl ode mě měly. Ale výsledek výběru byl pokaždé stejný – ojel vždycky všechny. Nebohé ženy omámené jeho řečičkama, které ho pak neustále naháněly, kde se dalo.\n",
      "2. Věčně mu svítil mobil sms zprávama, kde si odžíval jiné životní příběhy.\n",
      "3. Na noc nechodil domů, a když tam byl, tak duchem stejně jinde.\n",
      "4. Nevážil si mě ani naší malé rodiny.\n",
      "S dalším lokem vína si chci naložit i další argument, proč je dobře, že jsem odešla, ale nejde to. Je mi po něm smutno. Normálně se mi stýská. Nenávidím ho a zároveň bych chtěla ležet vedle něj, objímat ho, tisknout se k němu a věřit, že zítra se už změní.\n",
      "Místo toho tady sedím sama s vínem, s prsama jak vyluhované pytlíky od čaje, žaludeční neurózou a kruhy pod očima. Kdyby mi tak někdo řekl, jak to celé překonat? Jak najít ten správný životní kompas?\n",
      "A najednou uslyším hlas ve své hlavě. Není cizí, je mi povědomý jako zapomenutý přítel ze základky: Lulino, slyšíš mě, Lulino!!! Hele, Lulino, není to s tebou dobrý. Jako, že fakt není. Jsi v prdeli, a pokud se nedáš dohromady, tak za chvilku pojedeme houkačkou. Nevím, jak jinak ti to mám říct, když se mnou už několik let nemluvíš, takže jednoduše: Za svůj život si můžeš jen ty sama! I za tu posranou část. Za tu především.\n",
      "Cože? Já bych si přece takovou cestu nikdy nevybrala! Sobě ani Kiki. Já měla našlápnuto na oslnivou hereckou kariéru. Dařilo se mi po všech směrech. V divadle ze mě byli nadšení a televize začala objevovat kouzlo mé roztomilosti. To Tomáš je viník, ten za všechno může! Pořád mlel o lásce a o rodině, o tom, jak spolu budeme vychovávat naše tři geniální děti. Jak vytvoříme nový směr v divadle a budeme hledat podstatu umění. Takové kecy! Hajzl… Zkazil mi život. Nic z toho, co mi sliboval, se nekoná. Ta rádoby šťastná rodina je dnes rozhozená jako lego na koberci, které se akorát připomene bolestí, když na něj člověk omylem šlápne…\n",
      "Tak se vrať na začátek příběhu, Lulino, a vzpomeň si, co jsem ti radila, když jsi jako blázen Tomáše neustále naháněla a jezdila po všech divadlech v republice, kde zrovna režíroval ty svoje geniální inscenace. Co jsem ti říkala? Vzpomeneš si?\n",
      "Nechce se mi do toho, ale nemám sílu vzdorovat. Vzpomínka se mi do vědomí vrátí takovou rychlostí, že ji jen bez dechu sleduji…\n",
      "FLASHBACK: VLHKÉ GAŤKY\n",
      "Běžím z nádraží v Šumperku směrem k divadelní ubytovně. Na kost promoklá, ale to mi nevadí, hořím láskou, alespoň pár hodin budu v objetí svého miláčka. Tělo se tetelí, ovšem hlava má jiný názor: Lu, prosím tě, zastav se a poslouchej mě! Tomáš není muž pro tebe. Je to blázen… bohém… nevyzrálý kluk, který honí múzy, pere se sám se sebou a je závislý na své mámě. To především.\n",
      "Umělec, který saje inspiraci ze všech kolem, a proto vytváří neustále nové vztahy. Potřebuje to, chápeš? Nabalovat na sebe ženské a milovat se s nimi, bez sebemenšího pocitu zodpovědnosti. Žije jen okamžikem. Teď a tady. To mu nabíjí baterky. To je to, co potřebuje k životu, chápeš?\n",
      "Vždyť to je krásné, mít kluka, který dokáže žít tady a teď! Co furt máš?!\n",
      "Lucino, neblázni, Tomáš je divoký kůň, který nesnese jakékoliv omezení. Nesnáší stíhačky, které po něm jdou. Vidíš sama, jak ti pořád uniká, zatímco ty za ním běháš jako pejsek. Nechce se vázat na nikoho a na nic. Je strašně mladý. Vykašli se na to. Zachraň se! Dej mi pokoj, hlavo jedna pitomá, já vím nejlíp, co je pro mě dobré! Upřímně věřím, že moje láska k Tomášovi ho zachrání a přivede na správnou cestu! Tak to funguje v každém příběhu. Láska léčí a hory přenáší. A navíc milování s ním je jako sen. S nikým jsem nikdy tak nesplynula jako s ním.\n",
      "Ano, Lu, ale tohle není tak, jak to vypadá. To je jen tvé chtění, umanutost a vzrušení v kalhotkách.\n",
      "Ne, to je láska a ta dokáže zachránit každého! A vůbec! Nikdo mi nebude kecat do života! Je mu se mnou hezky, pořád se smějeme. Když se budu snažit a budu skvělá milenka, tak dosáhnu všeho. I Tomášovy lásky. Bude mě milovat a bude se mnou šťastný! Hodně šťastný!!! Bude se mnou nejšťastnější!!!\n",
      "Pořád slyším ty věty plné síly a drzosti, s jakou jsem byla přesvědčená o tom, že můžu mít, co chci, a že budu klidně otáčet celou planetou.\n",
      "Lulino, vidíš, nenaslouchala jsi mi a teď lítáš v průseru! No, ale já nevěděla, že je takový děvkař.\n",
      "Ale věděla, Lulino, nekecej! Znáš mě od dětství a víš, že ti vždycky radím dobře. Jen jsi mi nechtěla naslouchat, protože mokré kalhotky ti ukázaly „správný“ směr!\n",
      "To ty kecáš! Nikdy jsem si s vlastní hlavou nepovídala! I teď mám pocit, že brzy skončím u Chocholouška. Tohle přece nemůžu ani nikomu říct…\n",
      "Lucino, nehysterči a věř, že si se mnou povídáš celý život.\n",
      "Jo, tak mi to dokaž! Já si to totiž nepamatuju.\n",
      "Dobře, pamatuješ si, jak sis jako malá myslela, že jsi kouzelná?\n",
      "Jo, jasně, to bylo fajn, to ještě všechno fungovalo. Všechno bylo jednoduché, čitelné a všemu jsem rozuměla. Dokonce jsem i dokázala předvídat, co se za chvíli stane. Věděla jsem, na co mamka myslí a co řekne. To bylo boží. Uměla jsem číst cizí myšlenky. Teď nevím, co bude za hodinu.\n",
      "Ano, protože jsi byla dokonale napojená. Ale kolem puberty ses čím dál více odpojovala a já tě pomalu ztrácela. Až jsi na mě úplně zapomněla. Přitom, Luci, já jsem ty. Ta zásadní součást tebe.\n",
      "Hm… Bezva, takže mám v hlavě hlas, který tvrdí, že je já. Mám volat psychiatrii hned nebo to počká do rána?\n",
      "Ne, Lu, nejsi blázen. Jen nasloucháš svému vnitřnímu hlasu! Jsi totiž na dně, kočičko. Žádný tvůj obranný systém nefunguje a ty se tak konečně vracíš sama k sobě. A díky tomu se můžeš odrazit a vyplout na hladinu a nadechnout se. Být zase sama sebou.\n",
      "Počkej, takže ty jsi mé ego nebo sebevědomí nebo nějaká porucha?\n",
      "Jsem tvoje intuice, nápověda, která sídlí v šedé mozkové kůře a ovládá výtah do podvědomí. Mám neuvěřitelné množství informací, na které jsi už dávno zapomněla nebo kterých si kvůli své zmatenosti vůbec nevšímáš. Mám tady takový velký sklad, všechno ukládám do šuplíků, propojuji a vyhodnocuji, je to neuvěřitelně zábavné. A když je potřeba, tak ti našeptávám a radím. I když na mě už docela dlouho kašleš.\n",
      "Fajn. Ale je celkem těžké uvěřit tomu, že jsem se právě nezcvokla, ale že si jen tak popíjím víno se svým já… Dobře, když připustím, že jsem normální, a pokud to dobře chápu, ty jsi taková malá Šedivka, která žije v šedém domečku mozkové kůry a vše řídí jako šedá eminence?\n"
     ]
    }
   ],
   "source": [
    "ukazka = \"\"\n",
    "for item in kniha.get_items():\n",
    "    if item.get_type() == ebooklib.ITEM_DOCUMENT:\n",
    "        soup = BeautifulSoup(item.get_content(), 'html.parser')\n",
    "        if len(soup.text) > 0:\n",
    "            ukazka += soup.text.strip().strip()\n",
    "ukazka = ukazka.split(\"ISBN\")[-1]\n",
    "ukazka = \"\\n\".join([x for x in ukazka.splitlines()[1:] if (x.strip() != \"\") and (x.strip() != \"Konec ukázky\")])\n",
    "print(ukazka)"
   ]
  }
 ],
 "metadata": {
  "kernelspec": {
   "display_name": "Python 3 (ipykernel)",
   "language": "python",
   "name": "python3"
  },
  "language_info": {
   "codemirror_mode": {
    "name": "ipython",
    "version": 3
   },
   "file_extension": ".py",
   "mimetype": "text/x-python",
   "name": "python",
   "nbconvert_exporter": "python",
   "pygments_lexer": "ipython3",
   "version": "3.12.3"
  }
 },
 "nbformat": 4,
 "nbformat_minor": 5
}
