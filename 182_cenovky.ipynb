{
 "cells": [
  {
   "cell_type": "code",
   "execution_count": 1,
   "id": "40c1493e-15c7-43c0-ae7a-758e0d4ed9ab",
   "metadata": {},
   "outputs": [],
   "source": [
    "import os\n",
    "import polars as pl"
   ]
  },
  {
   "cell_type": "code",
   "execution_count": 63,
   "id": "6b8796a2-54d0-460d-a7a3-6e5affeefea9",
   "metadata": {},
   "outputs": [],
   "source": [
    "from src.pocet_stran import pocet_stran"
   ]
  },
  {
   "cell_type": "code",
   "execution_count": 85,
   "id": "3bb900b4-416b-4ecf-8cf4-4dfff81aa338",
   "metadata": {},
   "outputs": [],
   "source": [
    "df = pl.read_parquet(os.path.join(\"data\",\"cnb_ceska_proza.parquet\"))"
   ]
  },
  {
   "cell_type": "code",
   "execution_count": 87,
   "id": "83a26b29-3034-4a28-ab4f-928f6a00c091",
   "metadata": {},
   "outputs": [],
   "source": [
    "df = df.join(pl.read_parquet(os.path.join(\"data/cnb_sloupce\",\"020.parquet\")), on=\"001\", how=\"left\")"
   ]
  },
  {
   "cell_type": "code",
   "execution_count": 89,
   "id": "06ea0fd3-12e0-4fec-b6fc-164ac8a18e99",
   "metadata": {},
   "outputs": [],
   "source": [
    "df = df.join(pl.read_parquet(os.path.join(\"data/cnb_sloupce\",\"300.parquet\")), on=\"001\", how=\"left\")\n",
    "df = df.with_columns(pl.col('300_a').map_elements(pocet_stran, return_dtype=int).alias('stran'))"
   ]
  },
  {
   "cell_type": "code",
   "execution_count": 90,
   "id": "5deca886-f6cc-421a-84f5-93bab9915264",
   "metadata": {},
   "outputs": [
    {
     "data": {
      "text/html": [
       "<div><style>\n",
       ".dataframe > thead > tr,\n",
       ".dataframe > tbody > tr {\n",
       "  text-align: right;\n",
       "  white-space: pre-wrap;\n",
       "}\n",
       "</style>\n",
       "<small>shape: (1, 16)</small><table border=\"1\" class=\"dataframe\"><thead><tr><th>rok</th><th>titul</th><th>autorstvo</th><th>autorstvo_kod</th><th>001</th><th>020_q</th><th>020_c</th><th>020_a</th><th>020_z</th><th>300_a</th><th>300_b</th><th>300_c</th><th>300_e</th><th>300_f</th><th>300_3</th><th>stran</th></tr><tr><td>f64</td><td>str</td><td>str</td><td>str</td><td>str</td><td>list[str]</td><td>list[str]</td><td>list[str]</td><td>list[str]</td><td>list[str]</td><td>list[str]</td><td>list[str]</td><td>list[str]</td><td>str</td><td>str</td><td>i64</td></tr></thead><tbody><tr><td>2020.0</td><td>&quot;Kvadriga&quot;</td><td>&quot;Stošková Lucie&quot;</td><td>&quot;xx0255773&quot;</td><td>&quot;nkc20213302452&quot;</td><td>[&quot;(vázáno)&quot;]</td><td>null</td><td>[&quot;978-80-88049-89-0&quot;]</td><td>null</td><td>[&quot;528 stran :&quot;]</td><td>[&quot;ilustrace ;&quot;]</td><td>[&quot;22 cm&quot;]</td><td>null</td><td>null</td><td>null</td><td>528</td></tr></tbody></table></div>"
      ],
      "text/plain": [
       "shape: (1, 16)\n",
       "┌────────┬──────────┬────────────────┬───────────────┬───┬───────────┬───────┬───────┬───────┐\n",
       "│ rok    ┆ titul    ┆ autorstvo      ┆ autorstvo_kod ┆ … ┆ 300_e     ┆ 300_f ┆ 300_3 ┆ stran │\n",
       "│ ---    ┆ ---      ┆ ---            ┆ ---           ┆   ┆ ---       ┆ ---   ┆ ---   ┆ ---   │\n",
       "│ f64    ┆ str      ┆ str            ┆ str           ┆   ┆ list[str] ┆ str   ┆ str   ┆ i64   │\n",
       "╞════════╪══════════╪════════════════╪═══════════════╪═══╪═══════════╪═══════╪═══════╪═══════╡\n",
       "│ 2020.0 ┆ Kvadriga ┆ Stošková Lucie ┆ xx0255773     ┆ … ┆ null      ┆ null  ┆ null  ┆ 528   │\n",
       "└────────┴──────────┴────────────────┴───────────────┴───┴───────────┴───────┴───────┴───────┘"
      ]
     },
     "execution_count": 90,
     "metadata": {},
     "output_type": "execute_result"
    }
   ],
   "source": [
    "df.sample()"
   ]
  },
  {
   "cell_type": "code",
   "execution_count": 41,
   "id": "39e3c9b9-4dad-4621-bec7-f2878df76458",
   "metadata": {},
   "outputs": [],
   "source": [
    "def cena(retezec):\n",
    "    try:\n",
    "        return int(retezec.split(\"Kč\")[1].split(',')[0].strip())\n",
    "    except:\n",
    "        return None"
   ]
  },
  {
   "cell_type": "code",
   "execution_count": 93,
   "id": "1a3fd299-5a27-48c5-b943-01eee00651a3",
   "metadata": {},
   "outputs": [
    {
     "name": "stderr",
     "output_type": "stream",
     "text": [
      "sys:1: MapWithoutReturnDtypeWarning: Calling `map_elements` without specifying `return_dtype` can lead to unpredictable results. Specify `return_dtype` to silence this warning.\n",
      "sys:1: MapWithoutReturnDtypeWarning: Calling `map_elements` without specifying `return_dtype` can lead to unpredictable results. Specify `return_dtype` to silence this warning.\n",
      "sys:1: MapWithoutReturnDtypeWarning: Calling `map_elements` without specifying `return_dtype` can lead to unpredictable results. Specify `return_dtype` to silence this warning.\n",
      "sys:1: MapWithoutReturnDtypeWarning: Calling `map_elements` without specifying `return_dtype` can lead to unpredictable results. Specify `return_dtype` to silence this warning.\n",
      "sys:1: MapWithoutReturnDtypeWarning: Calling `map_elements` without specifying `return_dtype` can lead to unpredictable results. Specify `return_dtype` to silence this warning.\n",
      "sys:1: MapWithoutReturnDtypeWarning: Calling `map_elements` without specifying `return_dtype` can lead to unpredictable results. Specify `return_dtype` to silence this warning.\n",
      "sys:1: MapWithoutReturnDtypeWarning: Calling `map_elements` without specifying `return_dtype` can lead to unpredictable results. Specify `return_dtype` to silence this warning.\n",
      "sys:1: MapWithoutReturnDtypeWarning: Calling `map_elements` without specifying `return_dtype` can lead to unpredictable results. Specify `return_dtype` to silence this warning.\n",
      "sys:1: MapWithoutReturnDtypeWarning: Calling `map_elements` without specifying `return_dtype` can lead to unpredictable results. Specify `return_dtype` to silence this warning.\n",
      "sys:1: MapWithoutReturnDtypeWarning: Calling `map_elements` without specifying `return_dtype` can lead to unpredictable results. Specify `return_dtype` to silence this warning.\n",
      "sys:1: MapWithoutReturnDtypeWarning: Calling `map_elements` without specifying `return_dtype` can lead to unpredictable results. Specify `return_dtype` to silence this warning.\n",
      "sys:1: MapWithoutReturnDtypeWarning: Calling `map_elements` without specifying `return_dtype` can lead to unpredictable results. Specify `return_dtype` to silence this warning.\n",
      "sys:1: MapWithoutReturnDtypeWarning: Calling `map_elements` without specifying `return_dtype` can lead to unpredictable results. Specify `return_dtype` to silence this warning.\n",
      "sys:1: MapWithoutReturnDtypeWarning: Calling `map_elements` without specifying `return_dtype` can lead to unpredictable results. Specify `return_dtype` to silence this warning.\n",
      "sys:1: MapWithoutReturnDtypeWarning: Calling `map_elements` without specifying `return_dtype` can lead to unpredictable results. Specify `return_dtype` to silence this warning.\n",
      "sys:1: MapWithoutReturnDtypeWarning: Calling `map_elements` without specifying `return_dtype` can lead to unpredictable results. Specify `return_dtype` to silence this warning.\n"
     ]
    }
   ],
   "source": [
    "df = df.explode(\"020_c\").filter(pl.col('020_c').is_not_null()).with_columns(pl.col(\"020_c\").map_elements(lambda x: cena(x)).alias('cena'))"
   ]
  },
  {
   "cell_type": "code",
   "execution_count": 121,
   "id": "6c8b31fe-6de0-4eff-880c-fe2a0051c6ac",
   "metadata": {},
   "outputs": [
    {
     "data": {
      "text/html": [
       "<div><style>\n",
       ".dataframe > thead > tr,\n",
       ".dataframe > tbody > tr {\n",
       "  text-align: right;\n",
       "  white-space: pre-wrap;\n",
       "}\n",
       "</style>\n",
       "<small>shape: (10, 2)</small><table border=\"1\" class=\"dataframe\"><thead><tr><th>rok</th><th>cena</th></tr><tr><td>f64</td><td>f64</td></tr></thead><tbody><tr><td>2016.0</td><td>294.205128</td></tr><tr><td>2017.0</td><td>337.709091</td></tr><tr><td>2018.0</td><td>313.358209</td></tr><tr><td>2019.0</td><td>340.372093</td></tr><tr><td>2020.0</td><td>364.673267</td></tr><tr><td>2021.0</td><td>344.756303</td></tr><tr><td>2022.0</td><td>408.39823</td></tr><tr><td>2023.0</td><td>421.67033</td></tr><tr><td>2024.0</td><td>408.852941</td></tr><tr><td>2025.0</td><td>414.0</td></tr></tbody></table></div>"
      ],
      "text/plain": [
       "shape: (10, 2)\n",
       "┌────────┬────────────┐\n",
       "│ rok    ┆ cena       │\n",
       "│ ---    ┆ ---        │\n",
       "│ f64    ┆ f64        │\n",
       "╞════════╪════════════╡\n",
       "│ 2016.0 ┆ 294.205128 │\n",
       "│ 2017.0 ┆ 337.709091 │\n",
       "│ 2018.0 ┆ 313.358209 │\n",
       "│ 2019.0 ┆ 340.372093 │\n",
       "│ 2020.0 ┆ 364.673267 │\n",
       "│ 2021.0 ┆ 344.756303 │\n",
       "│ 2022.0 ┆ 408.39823  │\n",
       "│ 2023.0 ┆ 421.67033  │\n",
       "│ 2024.0 ┆ 408.852941 │\n",
       "│ 2025.0 ┆ 414.0      │\n",
       "└────────┴────────────┘"
      ]
     },
     "execution_count": 121,
     "metadata": {},
     "output_type": "execute_result"
    }
   ],
   "source": [
    "df.filter(pl.col('stran') > 250).group_by('rok').agg(pl.col('cena').mean()).sort(by='rok').tail(10)"
   ]
  },
  {
   "cell_type": "code",
   "execution_count": 67,
   "id": "9d355d2b-6111-4d9f-926f-ce1695b49aaa",
   "metadata": {},
   "outputs": [],
   "source": [
    "import altair as alt"
   ]
  },
  {
   "cell_type": "code",
   "execution_count": 101,
   "id": "f7f8639d-29c7-45f9-9c18-8369bad3a167",
   "metadata": {},
   "outputs": [
    {
     "data": {
      "text/html": [
       "<div><style>\n",
       ".dataframe > thead > tr,\n",
       ".dataframe > tbody > tr {\n",
       "  text-align: right;\n",
       "  white-space: pre-wrap;\n",
       "}\n",
       "</style>\n",
       "<small>shape: (344, 2)</small><table border=\"1\" class=\"dataframe\"><thead><tr><th>stran</th><th>cena</th></tr><tr><td>i64</td><td>i64</td></tr></thead><tbody><tr><td>189</td><td>325</td></tr><tr><td>409</td><td>459</td></tr><tr><td>199</td><td>349</td></tr><tr><td>119</td><td>329</td></tr><tr><td>197</td><td>295</td></tr><tr><td>&hellip;</td><td>&hellip;</td></tr><tr><td>276</td><td>399</td></tr><tr><td>58</td><td>329</td></tr><tr><td>93</td><td>299</td></tr><tr><td>372</td><td>479</td></tr><tr><td>76</td><td>299</td></tr></tbody></table></div>"
      ],
      "text/plain": [
       "shape: (344, 2)\n",
       "┌───────┬──────┐\n",
       "│ stran ┆ cena │\n",
       "│ ---   ┆ ---  │\n",
       "│ i64   ┆ i64  │\n",
       "╞═══════╪══════╡\n",
       "│ 189   ┆ 325  │\n",
       "│ 409   ┆ 459  │\n",
       "│ 199   ┆ 349  │\n",
       "│ 119   ┆ 329  │\n",
       "│ 197   ┆ 295  │\n",
       "│ …     ┆ …    │\n",
       "│ 276   ┆ 399  │\n",
       "│ 58    ┆ 329  │\n",
       "│ 93    ┆ 299  │\n",
       "│ 372   ┆ 479  │\n",
       "│ 76    ┆ 299  │\n",
       "└───────┴──────┘"
      ]
     },
     "execution_count": 101,
     "metadata": {},
     "output_type": "execute_result"
    }
   ],
   "source": [
    "do_grafu = df.filter(pl.col('rok') == 2024).unique(subset=['titul','autorstvo']).select(pl.col(['stran','cena']))\n",
    "do_grafu"
   ]
  },
  {
   "cell_type": "code",
   "execution_count": 115,
   "id": "738a237c-4d37-4275-8782-e7cfd52b3bc9",
   "metadata": {},
   "outputs": [
    {
     "data": {
      "text/html": [
       "\n",
       "<style>\n",
       "  #altair-viz-56b402c5664c498381bd59e7ec1093a6.vega-embed {\n",
       "    width: 100%;\n",
       "    display: flex;\n",
       "  }\n",
       "\n",
       "  #altair-viz-56b402c5664c498381bd59e7ec1093a6.vega-embed details,\n",
       "  #altair-viz-56b402c5664c498381bd59e7ec1093a6.vega-embed details summary {\n",
       "    position: relative;\n",
       "  }\n",
       "</style>\n",
       "<div id=\"altair-viz-56b402c5664c498381bd59e7ec1093a6\"></div>\n",
       "<script type=\"text/javascript\">\n",
       "  var VEGA_DEBUG = (typeof VEGA_DEBUG == \"undefined\") ? {} : VEGA_DEBUG;\n",
       "  (function(spec, embedOpt){\n",
       "    let outputDiv = document.currentScript.previousElementSibling;\n",
       "    if (outputDiv.id !== \"altair-viz-56b402c5664c498381bd59e7ec1093a6\") {\n",
       "      outputDiv = document.getElementById(\"altair-viz-56b402c5664c498381bd59e7ec1093a6\");\n",
       "    }\n",
       "    const paths = {\n",
       "      \"vega\": \"https://cdn.jsdelivr.net/npm/vega@5?noext\",\n",
       "      \"vega-lib\": \"https://cdn.jsdelivr.net/npm/vega-lib?noext\",\n",
       "      \"vega-lite\": \"https://cdn.jsdelivr.net/npm/vega-lite@5.8.0?noext\",\n",
       "      \"vega-embed\": \"https://cdn.jsdelivr.net/npm/vega-embed@6?noext\",\n",
       "    };\n",
       "\n",
       "    function maybeLoadScript(lib, version) {\n",
       "      var key = `${lib.replace(\"-\", \"\")}_version`;\n",
       "      return (VEGA_DEBUG[key] == version) ?\n",
       "        Promise.resolve(paths[lib]) :\n",
       "        new Promise(function(resolve, reject) {\n",
       "          var s = document.createElement('script');\n",
       "          document.getElementsByTagName(\"head\")[0].appendChild(s);\n",
       "          s.async = true;\n",
       "          s.onload = () => {\n",
       "            VEGA_DEBUG[key] = version;\n",
       "            return resolve(paths[lib]);\n",
       "          };\n",
       "          s.onerror = () => reject(`Error loading script: ${paths[lib]}`);\n",
       "          s.src = paths[lib];\n",
       "        });\n",
       "    }\n",
       "\n",
       "    function showError(err) {\n",
       "      outputDiv.innerHTML = `<div class=\"error\" style=\"color:red;\">${err}</div>`;\n",
       "      throw err;\n",
       "    }\n",
       "\n",
       "    function displayChart(vegaEmbed) {\n",
       "      vegaEmbed(outputDiv, spec, embedOpt)\n",
       "        .catch(err => showError(`Javascript Error: ${err.message}<br>This usually means there's a typo in your chart specification. See the javascript console for the full traceback.`));\n",
       "    }\n",
       "\n",
       "    if(typeof define === \"function\" && define.amd) {\n",
       "      requirejs.config({paths});\n",
       "      require([\"vega-embed\"], displayChart, err => showError(`Error loading script: ${err.message}`));\n",
       "    } else {\n",
       "      maybeLoadScript(\"vega\", \"5\")\n",
       "        .then(() => maybeLoadScript(\"vega-lite\", \"5.8.0\"))\n",
       "        .then(() => maybeLoadScript(\"vega-embed\", \"6\"))\n",
       "        .catch(showError)\n",
       "        .then(() => displayChart(vegaEmbed));\n",
       "    }\n",
       "  })({\"config\": {\"view\": {\"continuousWidth\": 300, \"continuousHeight\": 300}}, \"layer\": [{\"data\": {\"name\": \"data-14d0a6b0e1e8deb57b0b5be037af4083\"}, \"mark\": {\"type\": \"circle\"}, \"encoding\": {\"x\": {\"field\": \"stran\", \"type\": \"quantitative\"}, \"y\": {\"field\": \"cena\", \"type\": \"quantitative\"}}}, {\"data\": {\"name\": \"data-14d0a6b0e1e8deb57b0b5be037af4083\"}, \"mark\": {\"type\": \"line\", \"color\": \"#445B78\"}, \"encoding\": {\"x\": {\"field\": \"stran\", \"type\": \"quantitative\"}, \"y\": {\"field\": \"cena\", \"type\": \"quantitative\"}}, \"transform\": [{\"on\": \"stran\", \"regression\": \"cena\"}]}], \"$schema\": \"https://vega.github.io/schema/vega-lite/v5.8.0.json\", \"datasets\": {\"data-14d0a6b0e1e8deb57b0b5be037af4083\": [{\"stran\": 189, \"cena\": 325.0}, {\"stran\": 409, \"cena\": 459.0}, {\"stran\": 199, \"cena\": 349.0}, {\"stran\": 119, \"cena\": 329.0}, {\"stran\": 197, \"cena\": 295.0}, {\"stran\": 90, \"cena\": 299.0}, {\"stran\": 427, \"cena\": 348.0}, {\"stran\": 231, \"cena\": 299.0}, {\"stran\": 189, \"cena\": 548.0}, {\"stran\": 446, \"cena\": 449.0}, {\"stran\": 70, \"cena\": 229.0}, {\"stran\": 83, \"cena\": 150.0}, {\"stran\": 56, \"cena\": 269.0}, {\"stran\": 283, \"cena\": 369.0}, {\"stran\": 338, \"cena\": 480.0}, {\"stran\": 235, \"cena\": 349.0}, {\"stran\": 240, \"cena\": 369.0}, {\"stran\": 328, \"cena\": 480.0}, {\"stran\": 160, \"cena\": 69.0}, {\"stran\": 207, \"cena\": 299.0}, {\"stran\": 80, \"cena\": 299.0}, {\"stran\": 119, \"cena\": 299.0}, {\"stran\": 356, \"cena\": 449.0}, {\"stran\": 67, \"cena\": 199.0}, {\"stran\": 289, \"cena\": 200.0}, {\"stran\": 217, \"cena\": 299.0}, {\"stran\": 168, \"cena\": 280.0}, {\"stran\": 70, \"cena\": 259.0}, {\"stran\": 191, \"cena\": 369.0}, {\"stran\": 69, \"cena\": 299.0}, {\"stran\": 79, \"cena\": 229.0}, {\"stran\": 57, \"cena\": 299.0}, {\"stran\": 94, \"cena\": 279.0}, {\"stran\": 189, \"cena\": 299.0}, {\"stran\": 301, \"cena\": 399.0}, {\"stran\": 257, \"cena\": 280.0}, {\"stran\": 88, \"cena\": 249.0}, {\"stran\": 80, \"cena\": 269.0}, {\"stran\": 309, \"cena\": 429.0}, {\"stran\": 154, \"cena\": 349.0}, {\"stran\": 44, \"cena\": 249.0}, {\"stran\": 281, \"cena\": 349.0}, {\"stran\": 59, \"cena\": 279.0}, {\"stran\": 215, \"cena\": 349.0}, {\"stran\": 311, \"cena\": 399.0}, {\"stran\": 159, \"cena\": 329.0}, {\"stran\": 64, \"cena\": 249.0}, {\"stran\": 176, \"cena\": 350.0}, {\"stran\": 237, \"cena\": 349.0}, {\"stran\": 108, \"cena\": 59.0}, {\"stran\": 141, \"cena\": 279.0}, {\"stran\": 160, \"cena\": 69.0}, {\"stran\": 124, \"cena\": 299.0}, {\"stran\": 267, \"cena\": 369.0}, {\"stran\": 30, \"cena\": 329.0}, {\"stran\": 301, \"cena\": 399.0}, {\"stran\": 46, \"cena\": 279.0}, {\"stran\": 238, \"cena\": null}, {\"stran\": 253, \"cena\": 349.0}, {\"stran\": 142, \"cena\": 79.0}, {\"stran\": 23, \"cena\": 39.0}, {\"stran\": 93, \"cena\": 349.0}, {\"stran\": 216, \"cena\": 349.0}, {\"stran\": 444, \"cena\": 530.0}, {\"stran\": 79, \"cena\": 229.0}, {\"stran\": 156, \"cena\": 329.0}, {\"stran\": 295, \"cena\": 388.0}, {\"stran\": 79, \"cena\": 299.0}, {\"stran\": 249, \"cena\": 349.0}, {\"stran\": 98, \"cena\": 196.0}, {\"stran\": 176, \"cena\": 280.0}, {\"stran\": 398, \"cena\": 369.0}, {\"stran\": 81, \"cena\": 390.0}, {\"stran\": 107, \"cena\": 249.0}, {\"stran\": 251, \"cena\": 369.0}, {\"stran\": 60, \"cena\": 299.0}, {\"stran\": 310, \"cena\": 369.0}, {\"stran\": 199, \"cena\": 349.0}, {\"stran\": 54, \"cena\": 229.0}, {\"stran\": 179, \"cena\": 349.0}, {\"stran\": 414, \"cena\": 499.0}, {\"stran\": 241, \"cena\": 270.0}, {\"stran\": 70, \"cena\": 299.0}, {\"stran\": 339, \"cena\": 379.0}, {\"stran\": 129, \"cena\": 369.0}, {\"stran\": 271, \"cena\": 399.0}, {\"stran\": 404, \"cena\": 399.0}, {\"stran\": 14, \"cena\": 379.0}, {\"stran\": 117, \"cena\": 229.0}, {\"stran\": 208, \"cena\": 349.0}, {\"stran\": 333, \"cena\": 349.0}, {\"stran\": 472, \"cena\": 500.0}, {\"stran\": 36, \"cena\": 249.0}, {\"stran\": 173, \"cena\": 299.0}, {\"stran\": 74, \"cena\": 249.0}, {\"stran\": 311, \"cena\": 349.0}, {\"stran\": 101, \"cena\": 218.0}, {\"stran\": 150, \"cena\": 299.0}, {\"stran\": 68, \"cena\": 239.0}, {\"stran\": 275, \"cena\": 399.0}, {\"stran\": 132, \"cena\": 180.0}, {\"stran\": 259, \"cena\": 329.0}, {\"stran\": 268, \"cena\": 349.0}, {\"stran\": 513, \"cena\": 479.0}, {\"stran\": 94, \"cena\": 369.0}, {\"stran\": 60, \"cena\": 229.0}, {\"stran\": 62, \"cena\": 249.0}, {\"stran\": 147, \"cena\": 299.0}, {\"stran\": 365, \"cena\": 399.0}, {\"stran\": 67, \"cena\": 349.0}, {\"stran\": 342, \"cena\": 399.0}, {\"stran\": 279, \"cena\": 369.0}, {\"stran\": 52, \"cena\": 299.0}, {\"stran\": 108, \"cena\": 59.0}, {\"stran\": 407, \"cena\": 449.0}, {\"stran\": 199, \"cena\": 290.0}, {\"stran\": 175, \"cena\": 349.0}, {\"stran\": 168, \"cena\": 349.0}, {\"stran\": 167, \"cena\": 249.0}, {\"stran\": 414, \"cena\": 399.0}, {\"stran\": 70, \"cena\": 229.0}, {\"stran\": 363, \"cena\": 449.0}, {\"stran\": 333, \"cena\": 329.0}, {\"stran\": 73, \"cena\": 299.0}, {\"stran\": 319, \"cena\": 399.0}, {\"stran\": 86, \"cena\": 199.0}, {\"stran\": 62, \"cena\": 299.0}, {\"stran\": 45, \"cena\": 329.0}, {\"stran\": 101, \"cena\": 229.0}, {\"stran\": 227, \"cena\": 369.0}, {\"stran\": 314, \"cena\": 389.0}, {\"stran\": 238, \"cena\": 379.0}, {\"stran\": 143, \"cena\": 329.0}, {\"stran\": 139, \"cena\": 279.0}, {\"stran\": 156, \"cena\": 279.0}, {\"stran\": 269, \"cena\": 379.0}, {\"stran\": 268, \"cena\": 399.0}, {\"stran\": 172, \"cena\": 299.0}, {\"stran\": 187, \"cena\": 299.0}, {\"stran\": 77, \"cena\": 268.0}, {\"stran\": 112, \"cena\": 250.0}, {\"stran\": 63, \"cena\": 219.0}, {\"stran\": 111, \"cena\": 250.0}, {\"stran\": 87, \"cena\": 279.0}, {\"stran\": 132, \"cena\": 269.0}, {\"stran\": 377, \"cena\": 399.0}, {\"stran\": 87, \"cena\": 249.0}, {\"stran\": 91, \"cena\": 268.0}, {\"stran\": 53, \"cena\": null}, {\"stran\": 310, \"cena\": 399.0}, {\"stran\": 55, \"cena\": 249.0}, {\"stran\": 76, \"cena\": 219.0}, {\"stran\": 82, \"cena\": 299.0}, {\"stran\": 205, \"cena\": 449.0}, {\"stran\": 155, \"cena\": 329.0}, {\"stran\": 282, \"cena\": 399.0}, {\"stran\": 353, \"cena\": 399.0}, {\"stran\": 122, \"cena\": 349.0}, {\"stran\": 211, \"cena\": 265.0}, {\"stran\": 270, \"cena\": 469.0}, {\"stran\": 332, \"cena\": 469.0}, {\"stran\": 126, \"cena\": 249.0}, {\"stran\": 196, \"cena\": 379.0}, {\"stran\": 341, \"cena\": 399.0}, {\"stran\": 381, \"cena\": 399.0}, {\"stran\": 80, \"cena\": 299.0}, {\"stran\": 59, \"cena\": 227.0}, {\"stran\": 61, \"cena\": 239.0}, {\"stran\": 110, \"cena\": 299.0}, {\"stran\": 237, \"cena\": 399.0}, {\"stran\": 83, \"cena\": 295.0}, {\"stran\": 283, \"cena\": 349.0}, {\"stran\": 70, \"cena\": 259.0}, {\"stran\": 116, \"cena\": 329.0}, {\"stran\": 228, \"cena\": 280.0}, {\"stran\": 269, \"cena\": 399.0}, {\"stran\": 196, \"cena\": 299.0}, {\"stran\": 83, \"cena\": 299.0}, {\"stran\": 177, \"cena\": 180.0}, {\"stran\": 100, \"cena\": 299.0}, {\"stran\": 111, \"cena\": 295.0}, {\"stran\": 80, \"cena\": 249.0}, {\"stran\": 263, \"cena\": 399.0}, {\"stran\": 431, \"cena\": 469.0}, {\"stran\": 148, \"cena\": 249.0}, {\"stran\": 229, \"cena\": 369.0}, {\"stran\": 109, \"cena\": 349.0}, {\"stran\": 148, \"cena\": 257.0}, {\"stran\": 198, \"cena\": 450.0}, {\"stran\": 278, \"cena\": 349.0}, {\"stran\": 63, \"cena\": 299.0}, {\"stran\": 88, \"cena\": 249.0}, {\"stran\": 303, \"cena\": 399.0}, {\"stran\": 91, \"cena\": 359.0}, {\"stran\": 108, \"cena\": 299.0}, {\"stran\": 304, \"cena\": 349.0}, {\"stran\": 79, \"cena\": 349.0}, {\"stran\": 110, \"cena\": 249.0}, {\"stran\": 271, \"cena\": 349.0}, {\"stran\": 349, \"cena\": 449.0}, {\"stran\": 46, \"cena\": 200.0}, {\"stran\": 197, \"cena\": 399.0}, {\"stran\": 86, \"cena\": 299.0}, {\"stran\": 42, \"cena\": 249.0}, {\"stran\": 450, \"cena\": 499.0}, {\"stran\": 300, \"cena\": 399.0}, {\"stran\": 275, \"cena\": 399.0}, {\"stran\": 154, \"cena\": 349.0}, {\"stran\": 366, \"cena\": 329.0}, {\"stran\": 362, \"cena\": 499.0}, {\"stran\": 72, \"cena\": 299.0}, {\"stran\": 292, \"cena\": 349.0}, {\"stran\": 252, \"cena\": 349.0}, {\"stran\": 149, \"cena\": 349.0}, {\"stran\": 248, \"cena\": 390.0}, {\"stran\": 60, \"cena\": 299.0}, {\"stran\": 135, \"cena\": 229.0}, {\"stran\": 89, \"cena\": 279.0}, {\"stran\": 236, \"cena\": 409.0}, {\"stran\": 502, \"cena\": null}, {\"stran\": 252, \"cena\": 399.0}, {\"stran\": 72, \"cena\": 239.0}, {\"stran\": 49, \"cena\": 249.0}, {\"stran\": 75, \"cena\": 299.0}, {\"stran\": 249, \"cena\": null}, {\"stran\": 426, \"cena\": 499.0}, {\"stran\": 168, \"cena\": 299.0}, {\"stran\": 1085, \"cena\": 499.0}, {\"stran\": 235, \"cena\": 369.0}, {\"stran\": 455, \"cena\": 599.0}, {\"stran\": 83, \"cena\": 299.0}, {\"stran\": 261, \"cena\": null}, {\"stran\": 407, \"cena\": 538.0}, {\"stran\": 191, \"cena\": 399.0}, {\"stran\": 191, \"cena\": 349.0}, {\"stran\": 327, \"cena\": 469.0}, {\"stran\": 66, \"cena\": 300.0}, {\"stran\": 39, \"cena\": 229.0}, {\"stran\": 149, \"cena\": 299.0}, {\"stran\": 160, \"cena\": 69.0}, {\"stran\": 48, \"cena\": 349.0}, {\"stran\": 71, \"cena\": 229.0}, {\"stran\": 160, \"cena\": 299.0}, {\"stran\": 270, \"cena\": 399.0}, {\"stran\": 98, \"cena\": 160.0}, {\"stran\": 319, \"cena\": 319.0}, {\"stran\": 59, \"cena\": 368.0}, {\"stran\": 170, \"cena\": 349.0}, {\"stran\": 93, \"cena\": 199.0}, {\"stran\": 207, \"cena\": 369.0}, {\"stran\": 73, \"cena\": 299.0}, {\"stran\": 225, \"cena\": 329.0}, {\"stran\": 47, \"cena\": 299.0}, {\"stran\": 63, \"cena\": 299.0}, {\"stran\": 367, \"cena\": 399.0}, {\"stran\": 103, \"cena\": 229.0}, {\"stran\": 114, \"cena\": 299.0}, {\"stran\": 219, \"cena\": 349.0}, {\"stran\": 390, \"cena\": 449.0}, {\"stran\": 348, \"cena\": 399.0}, {\"stran\": 287, \"cena\": 399.0}, {\"stran\": 171, \"cena\": 299.0}, {\"stran\": 300, \"cena\": 440.0}, {\"stran\": 360, \"cena\": 499.0}, {\"stran\": 336, \"cena\": 429.0}, {\"stran\": 160, \"cena\": 69.0}, {\"stran\": 187, \"cena\": 299.0}, {\"stran\": 288, \"cena\": 420.0}, {\"stran\": 238, \"cena\": 349.0}, {\"stran\": 191, \"cena\": 349.0}, {\"stran\": 338, \"cena\": 399.0}, {\"stran\": 141, \"cena\": 299.0}, {\"stran\": 79, \"cena\": 128.0}, {\"stran\": 137, \"cena\": 329.0}, {\"stran\": 419, \"cena\": 399.0}, {\"stran\": 65, \"cena\": 200.0}, {\"stran\": 131, \"cena\": 299.0}, {\"stran\": 58, \"cena\": 299.0}, {\"stran\": 421, \"cena\": 348.0}, {\"stran\": 173, \"cena\": 299.0}, {\"stran\": 230, \"cena\": 399.0}, {\"stran\": 309, \"cena\": 399.0}, {\"stran\": 388, \"cena\": 499.0}, {\"stran\": 332, \"cena\": 399.0}, {\"stran\": 540, \"cena\": 439.0}, {\"stran\": 213, \"cena\": 329.0}, {\"stran\": 142, \"cena\": 79.0}, {\"stran\": 117, \"cena\": 399.0}, {\"stran\": 59, \"cena\": 227.0}, {\"stran\": 176, \"cena\": 299.0}, {\"stran\": 288, \"cena\": 390.0}, {\"stran\": 124, \"cena\": 299.0}, {\"stran\": 154, \"cena\": 251.0}, {\"stran\": 188, \"cena\": 349.0}, {\"stran\": 95, \"cena\": 479.0}, {\"stran\": 117, \"cena\": 195.0}, {\"stran\": 16, \"cena\": 49.0}, {\"stran\": 141, \"cena\": 279.0}, {\"stran\": 173, \"cena\": 349.0}, {\"stran\": 382, \"cena\": 399.0}, {\"stran\": 251, \"cena\": 369.0}, {\"stran\": 12, \"cena\": 299.0}, {\"stran\": 277, \"cena\": 349.0}, {\"stran\": 56, \"cena\": 229.0}, {\"stran\": 56, \"cena\": null}, {\"stran\": 428, \"cena\": 499.0}, {\"stran\": 90, \"cena\": 229.0}, {\"stran\": 240, \"cena\": 349.0}, {\"stran\": 149, \"cena\": 229.0}, {\"stran\": 215, \"cena\": 369.0}, {\"stran\": 64, \"cena\": 249.0}, {\"stran\": 244, \"cena\": 338.0}, {\"stran\": 345, \"cena\": 399.0}, {\"stran\": 156, \"cena\": 329.0}, {\"stran\": 175, \"cena\": 399.0}, {\"stran\": 42, \"cena\": 249.0}, {\"stran\": 127, \"cena\": 349.0}, {\"stran\": 88, \"cena\": 249.0}, {\"stran\": 105, \"cena\": 180.0}, {\"stran\": 298, \"cena\": 399.0}, {\"stran\": 172, \"cena\": 390.0}, {\"stran\": 80, \"cena\": 299.0}, {\"stran\": 94, \"cena\": 299.0}, {\"stran\": 90, \"cena\": 229.0}, {\"stran\": 469, \"cena\": 499.0}, {\"stran\": 56, \"cena\": 299.0}, {\"stran\": 349, \"cena\": 399.0}, {\"stran\": 229, \"cena\": 399.0}, {\"stran\": 227, \"cena\": 360.0}, {\"stran\": 93, \"cena\": 59.0}, {\"stran\": 198, \"cena\": 269.0}, {\"stran\": 93, \"cena\": 59.0}, {\"stran\": 80, \"cena\": 269.0}, {\"stran\": 31, \"cena\": 299.0}, {\"stran\": 169, \"cena\": 259.0}, {\"stran\": 291, \"cena\": 399.0}, {\"stran\": 246, \"cena\": 349.0}, {\"stran\": 70, \"cena\": 499.0}, {\"stran\": 139, \"cena\": 298.0}, {\"stran\": 276, \"cena\": 399.0}, {\"stran\": 58, \"cena\": 329.0}, {\"stran\": 93, \"cena\": 299.0}, {\"stran\": 372, \"cena\": 479.0}, {\"stran\": 76, \"cena\": 299.0}]}}, {\"mode\": \"vega-lite\"});\n",
       "</script>"
      ],
      "text/plain": [
       "alt.LayerChart(...)"
      ]
     },
     "execution_count": 115,
     "metadata": {},
     "output_type": "execute_result"
    }
   ],
   "source": [
    "zaklad = alt.Chart(do_grafu.to_pandas()).mark_circle().encode(\n",
    "    alt.X('stran:Q'),\n",
    "    alt.Y('cena:Q')\n",
    ")\n",
    "cara = alt.Chart(\n",
    "    do_grafu.to_pandas()\n",
    ").transform_regression(\n",
    "    'stran', 'cena'\n",
    ").mark_line(color='#445B78').encode(\n",
    "    alt.X('stran:Q'),\n",
    "    alt.Y('cena:Q')\n",
    ")\n",
    "\n",
    "vysledek = (zaklad + cara)\n",
    "\n",
    "vysledek"
   ]
  },
  {
   "cell_type": "code",
   "execution_count": null,
   "id": "7df11e1e-87d3-47f1-9af7-05791828a69a",
   "metadata": {},
   "outputs": [],
   "source": [
    "do_grafu.filter(pl.col('stran').is_between(200,220)).select(pl.col('cena')).median()"
   ]
  },
  {
   "cell_type": "code",
   "execution_count": 117,
   "id": "744e8d33-7d32-480c-ade4-e067b6fdc831",
   "metadata": {},
   "outputs": [
    {
     "data": {
      "text/html": [
       "<div><style>\n",
       ".dataframe > thead > tr,\n",
       ".dataframe > tbody > tr {\n",
       "  text-align: right;\n",
       "  white-space: pre-wrap;\n",
       "}\n",
       "</style>\n",
       "<small>shape: (1, 1)</small><table border=\"1\" class=\"dataframe\"><thead><tr><th>cena</th></tr><tr><td>f64</td></tr></thead><tbody><tr><td>349.0</td></tr></tbody></table></div>"
      ],
      "text/plain": [
       "shape: (1, 1)\n",
       "┌───────┐\n",
       "│ cena  │\n",
       "│ ---   │\n",
       "│ f64   │\n",
       "╞═══════╡\n",
       "│ 349.0 │\n",
       "└───────┘"
      ]
     },
     "execution_count": 117,
     "metadata": {},
     "output_type": "execute_result"
    }
   ],
   "source": [
    "do_grafu.filter(pl.col('stran').is_between(200,220)).select(pl.col('cena')).median()"
   ]
  },
  {
   "cell_type": "code",
   "execution_count": 123,
   "id": "816ff9ae-691a-45eb-be3e-776a2c8c0f31",
   "metadata": {},
   "outputs": [
    {
     "data": {
      "text/html": [
       "<div><style>\n",
       ".dataframe > thead > tr,\n",
       ".dataframe > tbody > tr {\n",
       "  text-align: right;\n",
       "  white-space: pre-wrap;\n",
       "}\n",
       "</style>\n",
       "<small>shape: (1, 1)</small><table border=\"1\" class=\"dataframe\"><thead><tr><th>cena</th></tr><tr><td>f64</td></tr></thead><tbody><tr><td>449.0</td></tr></tbody></table></div>"
      ],
      "text/plain": [
       "shape: (1, 1)\n",
       "┌───────┐\n",
       "│ cena  │\n",
       "│ ---   │\n",
       "│ f64   │\n",
       "╞═══════╡\n",
       "│ 449.0 │\n",
       "└───────┘"
      ]
     },
     "execution_count": 123,
     "metadata": {},
     "output_type": "execute_result"
    }
   ],
   "source": [
    "do_grafu.filter(pl.col('stran').is_between(400,420)).select(pl.col('cena')).median()"
   ]
  },
  {
   "cell_type": "code",
   "execution_count": 81,
   "id": "9e76089b-6172-4bcf-82d0-4d42f794ee13",
   "metadata": {},
   "outputs": [
    {
     "ename": "ColumnNotFoundError",
     "evalue": "\"titul\" not found",
     "output_type": "error",
     "traceback": [
      "\u001b[1;31m---------------------------------------------------------------------------\u001b[0m",
      "\u001b[1;31mColumnNotFoundError\u001b[0m                       Traceback (most recent call last)",
      "Cell \u001b[1;32mIn[81], line 1\u001b[0m\n\u001b[1;32m----> 1\u001b[0m df\u001b[38;5;241m.\u001b[39mfilter(pl\u001b[38;5;241m.\u001b[39mcol(\u001b[38;5;124m\"\u001b[39m\u001b[38;5;124mrok\u001b[39m\u001b[38;5;124m\"\u001b[39m) \u001b[38;5;241m==\u001b[39m \u001b[38;5;241m2024\u001b[39m)\u001b[38;5;241m.\u001b[39munique(subset\u001b[38;5;241m=\u001b[39m[\u001b[38;5;124m\"\u001b[39m\u001b[38;5;124mtitul\u001b[39m\u001b[38;5;124m\"\u001b[39m,\u001b[38;5;124m\"\u001b[39m\u001b[38;5;124mautorstvo\u001b[39m\u001b[38;5;124m\"\u001b[39m])\n",
      "File \u001b[1;32m~\\anaconda3\\Lib\\site-packages\\polars\\dataframe\\frame.py:9826\u001b[0m, in \u001b[0;36mDataFrame.unique\u001b[1;34m(self, subset, keep, maintain_order)\u001b[0m\n\u001b[0;32m   9738\u001b[0m \u001b[38;5;28;01mdef\u001b[39;00m \u001b[38;5;21munique\u001b[39m(\n\u001b[0;32m   9739\u001b[0m     \u001b[38;5;28mself\u001b[39m,\n\u001b[0;32m   9740\u001b[0m     subset: ColumnNameOrSelector \u001b[38;5;241m|\u001b[39m Collection[ColumnNameOrSelector] \u001b[38;5;241m|\u001b[39m \u001b[38;5;28;01mNone\u001b[39;00m \u001b[38;5;241m=\u001b[39m \u001b[38;5;28;01mNone\u001b[39;00m,\n\u001b[1;32m   (...)\u001b[0m\n\u001b[0;32m   9743\u001b[0m     maintain_order: \u001b[38;5;28mbool\u001b[39m \u001b[38;5;241m=\u001b[39m \u001b[38;5;28;01mFalse\u001b[39;00m,\n\u001b[0;32m   9744\u001b[0m ) \u001b[38;5;241m-\u001b[39m\u001b[38;5;241m>\u001b[39m DataFrame:\n\u001b[0;32m   9745\u001b[0m \u001b[38;5;250m    \u001b[39m\u001b[38;5;124;03m\"\"\"\u001b[39;00m\n\u001b[0;32m   9746\u001b[0m \u001b[38;5;124;03m    Drop duplicate rows from this dataframe.\u001b[39;00m\n\u001b[0;32m   9747\u001b[0m \n\u001b[1;32m   (...)\u001b[0m\n\u001b[0;32m   9821\u001b[0m \u001b[38;5;124;03m    └─────┴─────┴─────┘\u001b[39;00m\n\u001b[0;32m   9822\u001b[0m \u001b[38;5;124;03m    \"\"\"\u001b[39;00m\n\u001b[0;32m   9823\u001b[0m     \u001b[38;5;28;01mreturn\u001b[39;00m (\n\u001b[0;32m   9824\u001b[0m         \u001b[38;5;28mself\u001b[39m\u001b[38;5;241m.\u001b[39mlazy()\n\u001b[0;32m   9825\u001b[0m         \u001b[38;5;241m.\u001b[39munique(subset\u001b[38;5;241m=\u001b[39msubset, keep\u001b[38;5;241m=\u001b[39mkeep, maintain_order\u001b[38;5;241m=\u001b[39mmaintain_order)\n\u001b[1;32m-> 9826\u001b[0m         \u001b[38;5;241m.\u001b[39mcollect(_eager\u001b[38;5;241m=\u001b[39m\u001b[38;5;28;01mTrue\u001b[39;00m)\n\u001b[0;32m   9827\u001b[0m     )\n",
      "File \u001b[1;32m~\\anaconda3\\Lib\\site-packages\\polars\\lazyframe\\frame.py:2050\u001b[0m, in \u001b[0;36mLazyFrame.collect\u001b[1;34m(self, type_coercion, predicate_pushdown, projection_pushdown, simplify_expression, slice_pushdown, comm_subplan_elim, comm_subexpr_elim, cluster_with_columns, collapse_joins, no_optimization, streaming, engine, background, _eager, **_kwargs)\u001b[0m\n\u001b[0;32m   2048\u001b[0m \u001b[38;5;66;03m# Only for testing purposes\u001b[39;00m\n\u001b[0;32m   2049\u001b[0m callback \u001b[38;5;241m=\u001b[39m _kwargs\u001b[38;5;241m.\u001b[39mget(\u001b[38;5;124m\"\u001b[39m\u001b[38;5;124mpost_opt_callback\u001b[39m\u001b[38;5;124m\"\u001b[39m, callback)\n\u001b[1;32m-> 2050\u001b[0m \u001b[38;5;28;01mreturn\u001b[39;00m wrap_df(ldf\u001b[38;5;241m.\u001b[39mcollect(callback))\n",
      "\u001b[1;31mColumnNotFoundError\u001b[0m: \"titul\" not found"
     ]
    }
   ],
   "source": [
    "df.filter(pl.col(\"rok\") == 2024).unique(subset=[\"titul\",\"autorstvo\"])"
   ]
  },
  {
   "cell_type": "code",
   "execution_count": 79,
   "id": "d4a04236-f8cd-43fd-8aa9-186ace3c12d1",
   "metadata": {},
   "outputs": [
    {
     "data": {
      "text/html": [
       "<div><style>\n",
       ".dataframe > thead > tr,\n",
       ".dataframe > tbody > tr {\n",
       "  text-align: right;\n",
       "  white-space: pre-wrap;\n",
       "}\n",
       "</style>\n",
       "<small>shape: (10, 2)</small><table border=\"1\" class=\"dataframe\"><thead><tr><th>rok</th><th>cena</th></tr><tr><td>f64</td><td>f64</td></tr></thead><tbody><tr><td>2016.0</td><td>217.9</td></tr><tr><td>2017.0</td><td>240.336508</td></tr><tr><td>2018.0</td><td>241.036697</td></tr><tr><td>2019.0</td><td>256.152968</td></tr><tr><td>2020.0</td><td>277.012195</td></tr><tr><td>2021.0</td><td>282.81978</td></tr><tr><td>2022.0</td><td>317.807143</td></tr><tr><td>2023.0</td><td>315.678019</td></tr><tr><td>2024.0</td><td>323.872781</td></tr><tr><td>2025.0</td><td>364.714286</td></tr></tbody></table></div>"
      ],
      "text/plain": [
       "shape: (10, 2)\n",
       "┌────────┬────────────┐\n",
       "│ rok    ┆ cena       │\n",
       "│ ---    ┆ ---        │\n",
       "│ f64    ┆ f64        │\n",
       "╞════════╪════════════╡\n",
       "│ 2016.0 ┆ 217.9      │\n",
       "│ 2017.0 ┆ 240.336508 │\n",
       "│ 2018.0 ┆ 241.036697 │\n",
       "│ 2019.0 ┆ 256.152968 │\n",
       "│ 2020.0 ┆ 277.012195 │\n",
       "│ 2021.0 ┆ 282.81978  │\n",
       "│ 2022.0 ┆ 317.807143 │\n",
       "│ 2023.0 ┆ 315.678019 │\n",
       "│ 2024.0 ┆ 323.872781 │\n",
       "│ 2025.0 ┆ 364.714286 │\n",
       "└────────┴────────────┘"
      ]
     },
     "execution_count": 79,
     "metadata": {},
     "output_type": "execute_result"
    }
   ],
   "source": [
    "df.group_by('rok').agg(pl.col('cena').median()).sort(by='rok').tail(10)"
   ]
  },
  {
   "cell_type": "code",
   "execution_count": 53,
   "id": "c07c20bf-ac4d-4934-a221-73ffc8b0ab5e",
   "metadata": {},
   "outputs": [
    {
     "name": "stderr",
     "output_type": "stream",
     "text": [
      "C:\\Users\\micha\\AppData\\Local\\Temp\\ipykernel_23460\\5590320.py:1: MapWithoutReturnDtypeWarning: Calling `map_elements` without specifying `return_dtype` can lead to unpredictable results. Specify `return_dtype` to silence this warning.\n",
      "  df.filter(pl.col('020_c').is_not_null()).with_columns(pl.col(\"020_c\").map_elements(lambda x: cena(x)).alias('cena')).group_by('rok').len().sort(by=\"rok\")\n"
     ]
    },
    {
     "data": {
      "text/html": [
       "<div><style>\n",
       ".dataframe > thead > tr,\n",
       ".dataframe > tbody > tr {\n",
       "  text-align: right;\n",
       "  white-space: pre-wrap;\n",
       "}\n",
       "</style>\n",
       "<small>shape: (127, 2)</small><table border=\"1\" class=\"dataframe\"><thead><tr><th>rok</th><th>len</th></tr><tr><td>f64</td><td>u32</td></tr></thead><tbody><tr><td>1879.0</td><td>1</td></tr><tr><td>1885.0</td><td>1</td></tr><tr><td>1893.0</td><td>1</td></tr><tr><td>1901.0</td><td>3</td></tr><tr><td>1903.0</td><td>2</td></tr><tr><td>&hellip;</td><td>&hellip;</td></tr><tr><td>2021.0</td><td>469</td></tr><tr><td>2022.0</td><td>425</td></tr><tr><td>2023.0</td><td>328</td></tr><tr><td>2024.0</td><td>345</td></tr><tr><td>2025.0</td><td>7</td></tr></tbody></table></div>"
      ],
      "text/plain": [
       "shape: (127, 2)\n",
       "┌────────┬─────┐\n",
       "│ rok    ┆ len │\n",
       "│ ---    ┆ --- │\n",
       "│ f64    ┆ u32 │\n",
       "╞════════╪═════╡\n",
       "│ 1879.0 ┆ 1   │\n",
       "│ 1885.0 ┆ 1   │\n",
       "│ 1893.0 ┆ 1   │\n",
       "│ 1901.0 ┆ 3   │\n",
       "│ 1903.0 ┆ 2   │\n",
       "│ …      ┆ …   │\n",
       "│ 2021.0 ┆ 469 │\n",
       "│ 2022.0 ┆ 425 │\n",
       "│ 2023.0 ┆ 328 │\n",
       "│ 2024.0 ┆ 345 │\n",
       "│ 2025.0 ┆ 7   │\n",
       "└────────┴─────┘"
      ]
     },
     "execution_count": 53,
     "metadata": {},
     "output_type": "execute_result"
    }
   ],
   "source": [
    "df.filter(pl.col('020_c').is_not_null()).with_columns(pl.col(\"020_c\").map_elements(lambda x: cena(x)).alias('cena')).group_by('rok').len().sort(by=\"rok\")"
   ]
  },
  {
   "cell_type": "code",
   "execution_count": 55,
   "id": "d1a2ca05-60c2-4b6b-bfad-ee687de2a068",
   "metadata": {},
   "outputs": [
    {
     "data": {
      "text/html": [
       "<div><style>\n",
       ".dataframe > thead > tr,\n",
       ".dataframe > tbody > tr {\n",
       "  text-align: right;\n",
       "  white-space: pre-wrap;\n",
       "}\n",
       "</style>\n",
       "<small>shape: (217, 2)</small><table border=\"1\" class=\"dataframe\"><thead><tr><th>rok</th><th>len</th></tr><tr><td>f64</td><td>u32</td></tr></thead><tbody><tr><td>1804.0</td><td>2</td></tr><tr><td>1807.0</td><td>2</td></tr><tr><td>1808.0</td><td>1</td></tr><tr><td>1810.0</td><td>2</td></tr><tr><td>1813.0</td><td>3</td></tr><tr><td>&hellip;</td><td>&hellip;</td></tr><tr><td>2021.0</td><td>1505</td></tr><tr><td>2022.0</td><td>1503</td></tr><tr><td>2023.0</td><td>1307</td></tr><tr><td>2024.0</td><td>1312</td></tr><tr><td>2025.0</td><td>29</td></tr></tbody></table></div>"
      ],
      "text/plain": [
       "shape: (217, 2)\n",
       "┌────────┬──────┐\n",
       "│ rok    ┆ len  │\n",
       "│ ---    ┆ ---  │\n",
       "│ f64    ┆ u32  │\n",
       "╞════════╪══════╡\n",
       "│ 1804.0 ┆ 2    │\n",
       "│ 1807.0 ┆ 2    │\n",
       "│ 1808.0 ┆ 1    │\n",
       "│ 1810.0 ┆ 2    │\n",
       "│ 1813.0 ┆ 3    │\n",
       "│ …      ┆ …    │\n",
       "│ 2021.0 ┆ 1505 │\n",
       "│ 2022.0 ┆ 1503 │\n",
       "│ 2023.0 ┆ 1307 │\n",
       "│ 2024.0 ┆ 1312 │\n",
       "│ 2025.0 ┆ 29   │\n",
       "└────────┴──────┘"
      ]
     },
     "execution_count": 55,
     "metadata": {},
     "output_type": "execute_result"
    }
   ],
   "source": [
    "df.group_by(\"rok\").len().sort(by=\"rok\")"
   ]
  }
 ],
 "metadata": {
  "kernelspec": {
   "display_name": "Python 3 (ipykernel)",
   "language": "python",
   "name": "python3"
  },
  "language_info": {
   "codemirror_mode": {
    "name": "ipython",
    "version": 3
   },
   "file_extension": ".py",
   "mimetype": "text/x-python",
   "name": "python",
   "nbconvert_exporter": "python",
   "pygments_lexer": "ipython3",
   "version": "3.12.3"
  }
 },
 "nbformat": 4,
 "nbformat_minor": 5
}
