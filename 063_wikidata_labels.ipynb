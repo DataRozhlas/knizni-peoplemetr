{
 "cells": [
  {
   "cell_type": "code",
   "execution_count": 1,
   "id": "73831ee2-3d3b-4107-ba23-25b3a114e759",
   "metadata": {},
   "outputs": [],
   "source": [
    "import os\n",
    "import re\n",
    "import json\n",
    "import requests\n",
    "import pandas as pd"
   ]
  },
  {
   "cell_type": "code",
   "execution_count": 2,
   "id": "56d9116d-1253-42e8-8f77-7ec773fdd2f4",
   "metadata": {},
   "outputs": [],
   "source": [
    "pd.set_option('display.max_columns', 100)\n",
    "pd.set_option('display.max_rows', 500)"
   ]
  },
  {
   "cell_type": "code",
   "execution_count": 3,
   "id": "29fb4314-d542-47f4-891e-818b1ea353ad",
   "metadata": {},
   "outputs": [],
   "source": [
    "df = pd.read_json(os.path.join('data_raw','wikidata_raw.json'))"
   ]
  },
  {
   "cell_type": "code",
   "execution_count": 4,
   "id": "499791f5-4de9-457d-8156-827d68f0156e",
   "metadata": {},
   "outputs": [],
   "source": [
    "vsechny_hodnoty = []\n",
    "for sloupec in df.columns.to_list():\n",
    "    sl = df.explode(sloupec)[sloupec].drop_duplicates().to_list()\n",
    "    for s in sl:\n",
    "        if re.findall(r'^Q\\d\\d', str(s)):\n",
    "            vsechny_hodnoty.append(str(s))\n",
    "vsechny_hodnoty = list(set(vsechny_hodnoty))"
   ]
  },
  {
   "cell_type": "code",
   "execution_count": 5,
   "id": "fc882fd9-fa54-47da-abe8-1d92b93ddea6",
   "metadata": {},
   "outputs": [
    {
     "data": {
      "text/plain": [
       "207656"
      ]
     },
     "execution_count": 5,
     "metadata": {},
     "output_type": "execute_result"
    }
   ],
   "source": [
    "len(vsechny_hodnoty)"
   ]
  },
  {
   "cell_type": "code",
   "execution_count": 6,
   "id": "5ffaec55-14a9-45c2-a5a8-c9171ccac82c",
   "metadata": {},
   "outputs": [],
   "source": [
    "kam = 'downloads/wikidata/nazvy'"
   ]
  },
  {
   "cell_type": "code",
   "execution_count": 7,
   "id": "9b429d4b-2770-4bf6-87c8-5c07e151eb3d",
   "metadata": {},
   "outputs": [],
   "source": [
    "if not os.path.exists(kam):\n",
    "    os.makedirs(kam)"
   ]
  },
  {
   "cell_type": "code",
   "execution_count": 8,
   "id": "ffc47d69-c6d3-4236-9ed2-264078cbc04c",
   "metadata": {},
   "outputs": [
    {
     "name": "stdout",
     "output_type": "stream",
     "text": [
      "Q1016574-Q1916661-Q47012144.json\n",
      "Q3098636-Q3510287-Q2060464.json\n",
      "Q3885264-Q5628517-Q928811.json\n",
      "Q7005837-Q134259-Q52727001.json\n",
      "Q75366925-Q113844656-Q172911.json\n",
      "Q75788932-Q20195276-Q95085538.json\n",
      "Q763228-Q77052306-Q20479215.json\n",
      "Q9342744-Q120604573-Q124567270.json\n",
      "Q94908440-Q3114808-Q12050111.json\n"
     ]
    }
   ],
   "source": [
    "nestahovat = []\n",
    "for f in os.listdir(kam):\n",
    "    with open(os.path.join(kam, f), \"r\", encoding=\"utf-8\") as soubor:\n",
    "        slovnik = json.loads(soubor.read())\n",
    "    try:\n",
    "        for q in list(slovnik['entities'].keys()):\n",
    "            nestahovat.append(q)\n",
    "    except:\n",
    "        print(f)\n",
    "        os.remove(os.path.join(kam, f))"
   ]
  },
  {
   "cell_type": "code",
   "execution_count": 9,
   "id": "0e9377ec-e2fb-4afe-a598-d3cd20f3d4ab",
   "metadata": {},
   "outputs": [
    {
     "data": {
      "text/plain": [
       "203056"
      ]
     },
     "execution_count": 9,
     "metadata": {},
     "output_type": "execute_result"
    }
   ],
   "source": [
    "len(nestahovat)"
   ]
  },
  {
   "cell_type": "code",
   "execution_count": 10,
   "id": "bd206c0c-a821-4030-afc6-e4534838e289",
   "metadata": {},
   "outputs": [],
   "source": [
    "nestahovat = set(nestahovat)"
   ]
  },
  {
   "cell_type": "code",
   "execution_count": 11,
   "id": "a1625cfa-2b93-4f43-8bc1-0854c595f3e1",
   "metadata": {},
   "outputs": [],
   "source": [
    "def get_labels(ktere):\n",
    "    seznam = '|'.join(ktere)\n",
    "    nazev = '-'.join(ktere[0:3])\n",
    "    url = f\"https://www.wikidata.org/w/api.php?action=wbgetentities&props=labels&ids={seznam}&languages=cs|en|sk|de|fr|es|ru&format=json\"\n",
    "    response = requests.get(url)\n",
    "    if response.status_code == 200:\n",
    "        with open(os.path.join(kam, f\"{nazev}.json\"), \"w+\", encoding=\"utf-8\") as file:\n",
    "            json.dump(response.json(), file, ensure_ascii=False, indent=4)\n",
    "        print(f\"Data has been saved to {nazev}.json\")\n",
    "    else:\n",
    "        print(f\"Failed to retrieve data: {response.status_code}\")"
   ]
  },
  {
   "cell_type": "code",
   "execution_count": 12,
   "id": "86f6233f-1081-49f3-986a-b519f2329725",
   "metadata": {},
   "outputs": [],
   "source": [
    "stahnout = [x for x in vsechny_hodnoty if x not in nestahovat]"
   ]
  },
  {
   "cell_type": "code",
   "execution_count": 13,
   "id": "8cc171d6-1e0b-4c69-99a4-fbe8fc758acf",
   "metadata": {},
   "outputs": [
    {
     "data": {
      "text/plain": [
       "4613"
      ]
     },
     "execution_count": 13,
     "metadata": {},
     "output_type": "execute_result"
    }
   ],
   "source": [
    "len(stahnout)"
   ]
  },
  {
   "cell_type": "code",
   "execution_count": 14,
   "id": "efb40d65-fb6f-47fe-b1bd-776fdb74d658",
   "metadata": {},
   "outputs": [
    {
     "name": "stdout",
     "output_type": "stream",
     "text": [
      "Data has been saved to Q16731109-Q58866-Q102341422.json\n",
      "    50/4613\n",
      "Data has been saved to Q62902884-Q50758575-Q1556454.json\n",
      "   100/4613\n",
      "Data has been saved to Q55104412-Q94987673-Q298252.json\n",
      "   150/4613\n",
      "Data has been saved to Q2325170-Q106984027-Q3102258.json\n",
      "   200/4613\n",
      "Data has been saved to Q124295604-Q131153088-Q96087578.json\n",
      "   250/4613\n",
      "Data has been saved to Q130219495-Q6835178-Q122375809.json\n",
      "   300/4613\n",
      "Data has been saved to Q63184-Q5540325-Q45322542.json\n",
      "   350/4613\n",
      "Data has been saved to Q112442564-Q91385-Q100851.json\n",
      "   400/4613\n",
      "Data has been saved to Q94775032-Q21043403-Q12633271.json\n",
      "   450/4613\n",
      "Data has been saved to Q27804513-Q470074-Q59624886.json\n",
      "   500/4613\n",
      "Data has been saved to Q121752273-Q101014833-Q7173042.json\n",
      "   550/4613\n",
      "Data has been saved to Q328015-Q19365688-Q112479208.json\n",
      "   600/4613\n",
      "Data has been saved to Q7346708-Q4066995-Q725012.json\n",
      "   650/4613\n",
      "Data has been saved to Q95069987-Q93430956-Q29000734.json\n",
      "   700/4613\n",
      "Data has been saved to Q95375748-Q45174149-Q20029859.json\n",
      "   750/4613\n",
      "Data has been saved to Q113783990-Q95170960-Q551940.json\n",
      "   800/4613\n",
      "Data has been saved to Q919043-Q87740356-Q112444371.json\n",
      "   850/4613\n",
      "Data has been saved to Q4799779-Q1067916-Q112345632.json\n",
      "   900/4613\n",
      "Data has been saved to Q11781939-Q11742992-Q40930638.json\n",
      "   950/4613\n",
      "Data has been saved to Q290331-Q125746887-Q126624.json\n",
      "  1000/4613\n",
      "Data has been saved to Q130531725-Q1685299-Q2303621.json\n",
      "  1050/4613\n",
      "Data has been saved to Q131288114-Q123120847-Q95373769.json\n",
      "  1100/4613\n",
      "Data has been saved to Q421913-Q28370058-Q108816670.json\n",
      "  1150/4613\n",
      "Data has been saved to Q97290547-Q126925231-Q45763462.json\n",
      "  1200/4613\n",
      "Data has been saved to Q130877645-Q1632204-Q503773.json\n",
      "  1250/4613\n",
      "Data has been saved to Q112370272-Q124302387-Q97976656.json\n",
      "  1300/4613\n",
      "Data has been saved to Q6881424-Q1221447-Q6437280.json\n",
      "  1350/4613\n",
      "Data has been saved to Q6133466-Q113794-Q76222462.json\n",
      "  1400/4613\n",
      "Data has been saved to Q124711676-Q18916785-Q1708805.json\n",
      "  1450/4613\n",
      "Data has been saved to Q59134602-Q95142130-Q37414871.json\n",
      "  1500/4613\n",
      "Data has been saved to Q120577656-Q1402145-Q3710140.json\n",
      "  1550/4613\n",
      "Data has been saved to Q1456036-Q56528879-Q22035525.json\n",
      "  1600/4613\n",
      "Data has been saved to Q792527-Q76277266-Q112411246.json\n",
      "  1650/4613\n",
      "Data has been saved to Q59938940-Q117354679-Q104127612.json\n",
      "  1700/4613\n",
      "Data has been saved to Q47506658-Q911566-Q27921525.json\n",
      "  1750/4613\n",
      "Data has been saved to Q31684468-Q632969-Q65940683.json\n",
      "  1800/4613\n",
      "Data has been saved to Q106984120-Q15455137-Q28524923.json\n",
      "  1850/4613\n",
      "Data has been saved to Q12056958-Q129896691-Q15440925.json\n",
      "  1900/4613\n",
      "Data has been saved to Q50144177-Q28578769-Q3372510.json\n",
      "  1950/4613\n",
      "Data has been saved to Q1229902-Q3749990-Q1635379.json\n",
      "  2000/4613\n",
      "Data has been saved to Q110945416-Q33253240-Q95477912.json\n",
      "  2050/4613\n",
      "Data has been saved to Q200340-Q114382247-Q75383124.json\n",
      "  2100/4613\n",
      "Data has been saved to Q77103-Q130534721-Q94791853.json\n",
      "  2150/4613\n",
      "Data has been saved to Q15926495-Q11984997-Q1491633.json\n",
      "  2200/4613\n",
      "Data has been saved to Q55678050-Q130531817-Q12031081.json\n",
      "  2250/4613\n",
      "Data has been saved to Q118640989-Q745875-Q1807864.json\n",
      "  2300/4613\n",
      "Data has been saved to Q75957305-Q95174768-Q2340286.json\n",
      "  2350/4613\n",
      "Data has been saved to Q24352820-Q130460757-Q130531324.json\n",
      "  2400/4613\n",
      "Data has been saved to Q130217691-Q55727554-Q1273447.json\n",
      "  2450/4613\n",
      "Data has been saved to Q12344962-Q93234493-Q16892782.json\n",
      "  2500/4613\n",
      "Data has been saved to Q95436676-Q58317886-Q95465232.json\n",
      "  2550/4613\n",
      "Data has been saved to Q1026936-Q121120637-Q2150138.json\n",
      "  2600/4613\n",
      "Data has been saved to Q55993306-Q7245609-Q108755843.json\n",
      "  2650/4613\n",
      "Data has been saved to Q112183722-Q94749956-Q94863544.json\n",
      "  2700/4613\n",
      "Data has been saved to Q1114264-Q52155484-Q65386.json\n",
      "  2750/4613\n",
      "Data has been saved to Q3919060-Q17325629-Q464680.json\n",
      "  2800/4613\n",
      "Data has been saved to Q94871107-Q7610261-Q130389326.json\n",
      "  2850/4613\n",
      "Data has been saved to Q25535-Q9264144-Q711854.json\n",
      "  2900/4613\n",
      "Data has been saved to Q19207907-Q130282254-Q10273902.json\n",
      "  2950/4613\n",
      "Data has been saved to Q114978818-Q9015959-Q131151802.json\n",
      "  3000/4613\n",
      "Data has been saved to Q108692401-Q21546540-Q1380183.json\n",
      "  3050/4613\n",
      "Data has been saved to Q95393414-Q48439038-Q130385054.json\n",
      "  3100/4613\n",
      "Data has been saved to Q1399969-Q10854444-Q5061324.json\n",
      "  3150/4613\n",
      "Data has been saved to Q99603117-Q15452492-Q579688.json\n",
      "  3200/4613\n",
      "Data has been saved to Q21948495-Q130334803-Q79672547.json\n",
      "  3250/4613\n",
      "Data has been saved to Q124711639-Q10656955-Q6375424.json\n",
      "  3300/4613\n",
      "Data has been saved to Q1807857-Q130425077-Q61596167.json\n",
      "  3350/4613\n",
      "Data has been saved to Q17603739-Q12376194-Q450269.json\n",
      "  3400/4613\n",
      "Data has been saved to Q130323570-Q4363074-Q8048434.json\n",
      "  3450/4613\n",
      "Data has been saved to Q3605728-Q98406655-Q113774887.json\n",
      "  3500/4613\n",
      "Data has been saved to Q131263707-Q24016029-Q2647251.json\n",
      "  3550/4613\n",
      "Data has been saved to Q6990250-Q112422204-Q566711.json\n",
      "  3600/4613\n",
      "Data has been saved to Q1495631-Q23772058-Q433601.json\n",
      "  3650/4613\n",
      "Data has been saved to Q25496231-Q130270504-Q95176117.json\n",
      "  3700/4613\n",
      "Data has been saved to Q1263654-Q2619680-Q92821.json\n",
      "  3750/4613\n",
      "Data has been saved to Q124882220-Q94783288-Q100726262.json\n",
      "  3800/4613\n",
      "Data has been saved to Q60133056-Q112505205-Q38193003.json\n",
      "  3850/4613\n",
      "Data has been saved to Q29635973-Q6612494-Q1061981.json\n",
      "  3900/4613\n",
      "Data has been saved to Q7926099-Q2348481-Q506502.json\n",
      "  3950/4613\n",
      "Data has been saved to Q732511-Q112503702-Q55626642.json\n",
      "  4000/4613\n",
      "Data has been saved to Q7974303-Q4365951-Q954812.json\n",
      "  4050/4613\n",
      "Data has been saved to Q106984000-Q1459226-Q108273304.json\n",
      "  4100/4613\n",
      "Data has been saved to Q55682836-Q1443483-Q12030835.json\n",
      "  4150/4613\n",
      "Data has been saved to Q512656-Q863-Q2833712.json\n",
      "  4200/4613\n",
      "Data has been saved to Q2309432-Q47633595-Q95217335.json\n",
      "  4250/4613\n",
      "Data has been saved to Q9176135-Q130898909-Q2545804.json\n",
      "  4300/4613\n",
      "Data has been saved to Q125866408-Q55193076-Q130223156.json\n",
      "  4350/4613\n",
      "Data has been saved to Q123171166-Q96233296-Q7747.json\n",
      "  4400/4613\n",
      "Data has been saved to Q130605514-Q3577131-Q37842141.json\n",
      "  4450/4613\n",
      "Data has been saved to Q108437393-Q89529421-Q107463118.json\n",
      "  4500/4613\n",
      "Data has been saved to Q11837040-Q61653709-Q26740123.json\n",
      "  4550/4613\n",
      "Data has been saved to Q20747199-Q130531280-Q924795.json\n",
      "  4600/4613\n",
      "Data has been saved to Q7149011-Q22337497-Q4445909.json\n",
      "Hotovo!\n"
     ]
    }
   ],
   "source": [
    "pracovni = []\n",
    "pocitadlo = 0\n",
    "for v in stahnout:\n",
    "    pocitadlo += 1\n",
    "    pracovni.append(v)\n",
    "    if pocitadlo % 50 == 0:\n",
    "        get_labels(pracovni)\n",
    "        print(f'{pocitadlo:6}/{len(stahnout)}')\n",
    "        pracovni = []\n",
    "get_labels(pracovni)\n",
    "print('Hotovo!')"
   ]
  }
 ],
 "metadata": {
  "kernelspec": {
   "display_name": "Python 3 (ipykernel)",
   "language": "python",
   "name": "python3"
  },
  "language_info": {
   "codemirror_mode": {
    "name": "ipython",
    "version": 3
   },
   "file_extension": ".py",
   "mimetype": "text/x-python",
   "name": "python",
   "nbconvert_exporter": "python",
   "pygments_lexer": "ipython3",
   "version": "3.12.3"
  }
 },
 "nbformat": 4,
 "nbformat_minor": 5
}
