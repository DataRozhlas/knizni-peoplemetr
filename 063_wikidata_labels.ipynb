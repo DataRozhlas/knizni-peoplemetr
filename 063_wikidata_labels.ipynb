{
 "cells": [
  {
   "cell_type": "code",
   "execution_count": 141,
   "id": "73831ee2-3d3b-4107-ba23-25b3a114e759",
   "metadata": {},
   "outputs": [],
   "source": [
    "import os\n",
    "import re\n",
    "import json\n",
    "import requests\n",
    "import pandas as pd"
   ]
  },
  {
   "cell_type": "code",
   "execution_count": 142,
   "id": "56d9116d-1253-42e8-8f77-7ec773fdd2f4",
   "metadata": {},
   "outputs": [],
   "source": [
    "pd.set_option('display.max_columns', 100)\n",
    "pd.set_option('display.max_rows', 500)"
   ]
  },
  {
   "cell_type": "code",
   "execution_count": 143,
   "id": "29fb4314-d542-47f4-891e-818b1ea353ad",
   "metadata": {},
   "outputs": [],
   "source": [
    "df = pd.read_json(os.path.join('data_raw','wikidata_raw.json'))"
   ]
  },
  {
   "cell_type": "code",
   "execution_count": 144,
   "id": "499791f5-4de9-457d-8156-827d68f0156e",
   "metadata": {},
   "outputs": [],
   "source": [
    "vsechny_hodnoty = []\n",
    "for sloupec in df.columns.to_list():\n",
    "    sl = df.explode(sloupec)[sloupec].drop_duplicates().to_list()\n",
    "    for s in sl:\n",
    "        if re.findall(r'^Q\\d\\d', str(s)):\n",
    "            vsechny_hodnoty.append(str(s))\n",
    "vsechny_hodnoty = list(set(vsechny_hodnoty))"
   ]
  },
  {
   "cell_type": "code",
   "execution_count": 145,
   "id": "fc882fd9-fa54-47da-abe8-1d92b93ddea6",
   "metadata": {},
   "outputs": [
    {
     "data": {
      "text/plain": [
       "203505"
      ]
     },
     "execution_count": 145,
     "metadata": {},
     "output_type": "execute_result"
    }
   ],
   "source": [
    "len(vsechny_hodnoty)"
   ]
  },
  {
   "cell_type": "code",
   "execution_count": 146,
   "id": "5ffaec55-14a9-45c2-a5a8-c9171ccac82c",
   "metadata": {},
   "outputs": [],
   "source": [
    "kam = 'downloads/wikidata/nazvy'"
   ]
  },
  {
   "cell_type": "code",
   "execution_count": 147,
   "id": "9b429d4b-2770-4bf6-87c8-5c07e151eb3d",
   "metadata": {},
   "outputs": [],
   "source": [
    "if not os.path.exists(kam):\n",
    "    os.makedirs(kam)"
   ]
  },
  {
   "cell_type": "code",
   "execution_count": 148,
   "id": "ffc47d69-c6d3-4236-9ed2-264078cbc04c",
   "metadata": {},
   "outputs": [],
   "source": [
    "nestahovat = []\n",
    "for f in os.listdir(kam):\n",
    "    with open(os.path.join(kam, f), \"r\", encoding=\"utf-8\") as soubor:\n",
    "        slovnik = json.loads(soubor.read())\n",
    "    try:\n",
    "        for q in list(slovnik['entities'].keys()):\n",
    "            nestahovat.append(q)\n",
    "    except:\n",
    "        print(f)\n",
    "        os.remove(os.path.join(kam, f))"
   ]
  },
  {
   "cell_type": "code",
   "execution_count": 149,
   "id": "0e9377ec-e2fb-4afe-a598-d3cd20f3d4ab",
   "metadata": {},
   "outputs": [
    {
     "data": {
      "text/plain": [
       "203056"
      ]
     },
     "execution_count": 149,
     "metadata": {},
     "output_type": "execute_result"
    }
   ],
   "source": [
    "len(nestahovat)"
   ]
  },
  {
   "cell_type": "code",
   "execution_count": 150,
   "id": "bd206c0c-a821-4030-afc6-e4534838e289",
   "metadata": {},
   "outputs": [],
   "source": [
    "nestahovat = set(nestahovat)"
   ]
  },
  {
   "cell_type": "code",
   "execution_count": 151,
   "id": "a1625cfa-2b93-4f43-8bc1-0854c595f3e1",
   "metadata": {},
   "outputs": [],
   "source": [
    "def get_labels(ktere):\n",
    "    seznam = '|'.join(ktere)\n",
    "    nazev = '-'.join(ktere[0:3])\n",
    "    url = f\"https://www.wikidata.org/w/api.php?action=wbgetentities&props=labels&ids={seznam}&languages=cs|en|sk|de|fr|es|ru&format=json\"\n",
    "    response = requests.get(url)\n",
    "    if response.status_code == 200:\n",
    "        with open(os.path.join(kam, f\"{nazev}.json\"), \"w+\", encoding=\"utf-8\") as file:\n",
    "            json.dump(response.json(), file, ensure_ascii=False, indent=4)\n",
    "        print(f\"Data has been saved to {nazev}.json\")\n",
    "    else:\n",
    "        print(f\"Failed to retrieve data: {response.status_code}\")"
   ]
  },
  {
   "cell_type": "code",
   "execution_count": 152,
   "id": "86f6233f-1081-49f3-986a-b519f2329725",
   "metadata": {},
   "outputs": [],
   "source": [
    "stahnout = [x for x in vsechny_hodnoty if x not in nestahovat]"
   ]
  },
  {
   "cell_type": "code",
   "execution_count": 153,
   "id": "8cc171d6-1e0b-4c69-99a4-fbe8fc758acf",
   "metadata": {},
   "outputs": [
    {
     "data": {
      "text/plain": [
       "450"
      ]
     },
     "execution_count": 153,
     "metadata": {},
     "output_type": "execute_result"
    }
   ],
   "source": [
    "len(stahnout)"
   ]
  },
  {
   "cell_type": "code",
   "execution_count": 154,
   "id": "efb40d65-fb6f-47fe-b1bd-776fdb74d658",
   "metadata": {},
   "outputs": [
    {
     "name": "stdout",
     "output_type": "stream",
     "text": [
      "Data has been saved to Q75366925-Q113844656-Q172911.json\n",
      "    50/450\n",
      "Data has been saved to Q75788932-Q20195276-Q95085538.json\n",
      "   100/450\n",
      "Data has been saved to Q7005837-Q134259-Q52727001.json\n",
      "   150/450\n",
      "Data has been saved to Q763228-Q77052306-Q20479215.json\n",
      "   200/450\n",
      "Data has been saved to Q3098636-Q3510287-Q2060464.json\n",
      "   250/450\n",
      "Data has been saved to Q9342744-Q120604573-Q124567270.json\n",
      "   300/450\n",
      "Data has been saved to Q3885264-Q5628517-Q928811.json\n",
      "   350/450\n",
      "Data has been saved to Q94908440-Q3114808-Q12050111.json\n",
      "   400/450\n",
      "Data has been saved to Q1016574-Q1916661-Q47012144.json\n",
      "   450/450\n",
      "Data has been saved to .json\n",
      "Hotovo!\n"
     ]
    }
   ],
   "source": [
    "pracovni = []\n",
    "pocitadlo = 0\n",
    "for v in stahnout:\n",
    "    pocitadlo += 1\n",
    "    pracovni.append(v)\n",
    "    if pocitadlo % 50 == 0:\n",
    "        get_labels(pracovni)\n",
    "        print(f'{pocitadlo:6}/{len(stahnout)}')\n",
    "        pracovni = []\n",
    "get_labels(pracovni)\n",
    "print('Hotovo!')"
   ]
  }
 ],
 "metadata": {
  "kernelspec": {
   "display_name": "Python 3 (ipykernel)",
   "language": "python",
   "name": "python3"
  },
  "language_info": {
   "codemirror_mode": {
    "name": "ipython",
    "version": 3
   },
   "file_extension": ".py",
   "mimetype": "text/x-python",
   "name": "python",
   "nbconvert_exporter": "python",
   "pygments_lexer": "ipython3",
   "version": "3.12.3"
  }
 },
 "nbformat": 4,
 "nbformat_minor": 5
}
